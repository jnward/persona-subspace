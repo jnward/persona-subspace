{
 "cells": [
  {
   "cell_type": "markdown",
   "id": "e42194ae",
   "metadata": {},
   "source": [
    "# Comparing role vs. trait PCA"
   ]
  },
  {
   "cell_type": "code",
   "execution_count": 1,
   "id": "aaae47b3",
   "metadata": {},
   "outputs": [],
   "source": [
    "import json\n",
    "import os\n",
    "import torch\n",
    "import numpy as np\n",
    "import pandas as pd\n",
    "import plotly.graph_objects as go\n",
    "import plotly.subplots as sp\n",
    "from sklearn.decomposition import PCA\n",
    "from sklearn.preprocessing import StandardScaler\n",
    "from sklearn.metrics.pairwise import cosine_similarity\n",
    "from pathlib import Path\n",
    "from tqdm import tqdm"
   ]
  },
  {
   "cell_type": "code",
   "execution_count": 2,
   "id": "017bae62",
   "metadata": {},
   "outputs": [],
   "source": [
    "role_dir = \"roles_240\"\n",
    "trait_dir = \"traits_240\"\n",
    "layer = 22\n",
    "\n",
    "components = 10"
   ]
  },
  {
   "cell_type": "markdown",
   "id": "6b2b71fc",
   "metadata": {},
   "source": [
    "## Compare variance explained\n",
    "\n",
    "- take top 10 trait PCs\n",
    "- project roles into them\n",
    "- measure the fraction of role variance preserved\n",
    "- compare to projecting into top 10 role PCs as baseline\n",
    "- and vice versa"
   ]
  },
  {
   "cell_type": "code",
   "execution_count": 3,
   "id": "1e8a6d21",
   "metadata": {},
   "outputs": [],
   "source": [
    "# load in pca results\n",
    "role_results = torch.load(f\"/workspace/{role_dir}/pca/layer{layer}_pos23.pt\", weights_only=False)\n",
    "trait_results = torch.load(f\"/workspace/{trait_dir}/pca/layer{layer}_pos-neg50.pt\", weights_only=False)\n"
   ]
  },
  {
   "cell_type": "code",
   "execution_count": 8,
   "id": "b1a11892",
   "metadata": {},
   "outputs": [
    {
     "name": "stdout",
     "output_type": "stream",
     "text": [
      "448\n"
     ]
    }
   ],
   "source": [
    "# vectors\n",
    "role_vectors = role_results['vectors']['pos_2'] + role_results['vectors']['pos_3']\n",
    "trait_tensor = trait_results['vectors']['pos_neg_50']\n",
    "\n",
    "print(len(role_vectors))"
   ]
  },
  {
   "cell_type": "code",
   "execution_count": 9,
   "id": "bdd07214",
   "metadata": {},
   "outputs": [
    {
     "name": "stdout",
     "output_type": "stream",
     "text": [
      "torch.Size([448, 46, 4608])\n",
      "torch.Size([239, 46, 4608])\n",
      "(448, 4608)\n",
      "(239, 4608)\n"
     ]
    }
   ],
   "source": [
    "# stack vectors and extract layer\n",
    "role_tensor = torch.stack(role_vectors)\n",
    "\n",
    "print(role_tensor.shape)\n",
    "print(trait_tensor.shape)\n",
    "\n",
    "# extract layer\n",
    "role_layer_vectors = role_tensor[:, layer, :].float().numpy()\n",
    "trait_layer_vectors = trait_tensor[:, layer, :].float().numpy()\n",
    "\n",
    "print(role_layer_vectors.shape)\n",
    "print(trait_layer_vectors.shape)"
   ]
  },
  {
   "cell_type": "code",
   "execution_count": 10,
   "id": "2809aa3d",
   "metadata": {},
   "outputs": [
    {
     "name": "stdout",
     "output_type": "stream",
     "text": [
      "(448, 4608)\n",
      "(239, 4608)\n"
     ]
    }
   ],
   "source": [
    "# scale the vectors\n",
    "scaled_role_vectors = role_results['scaler'].transform(role_layer_vectors)\n",
    "scaled_trait_vectors = trait_results['scaler'].transform(trait_layer_vectors)\n",
    "\n",
    "print(scaled_role_vectors.shape)\n",
    "print(scaled_trait_vectors.shape)"
   ]
  },
  {
   "cell_type": "code",
   "execution_count": 11,
   "id": "e05cdc7b",
   "metadata": {},
   "outputs": [
    {
     "name": "stdout",
     "output_type": "stream",
     "text": [
      "(448, 239)\n",
      "(239, 448)\n",
      "(448, 448)\n",
      "(239, 239)\n"
     ]
    }
   ],
   "source": [
    "# project roles/traits into corresponding PCA\n",
    "roles_in_trait_space = trait_results['pca'].transform(scaled_role_vectors)\n",
    "traits_in_role_space = role_results['pca'].transform(scaled_trait_vectors)\n",
    "\n",
    "roles_in_role_space = role_results['pca_transformed']\n",
    "traits_in_trait_space = trait_results['pca_transformed']\n",
    "\n",
    "print(roles_in_trait_space.shape)\n",
    "print(traits_in_role_space.shape)\n",
    "\n",
    "print(roles_in_role_space.shape)\n",
    "print(traits_in_trait_space.shape)"
   ]
  },
  {
   "cell_type": "code",
   "execution_count": 12,
   "id": "df64782b",
   "metadata": {},
   "outputs": [
    {
     "name": "stdout",
     "output_type": "stream",
     "text": [
      "0.37631764246477517\n",
      "0.43240921936796084\n"
     ]
    }
   ],
   "source": [
    "# get fraction of variance preserved by first N PCs\n",
    "roles_projected_trait = roles_in_trait_space[:, :components]  # first N trait PCs\n",
    "roles_reconstructed = roles_projected_trait @ trait_results['pca'].components_[:components, :]\n",
    "role_trait_variance_preserved = 1 - np.var(scaled_role_vectors - roles_reconstructed) / np.var(scaled_role_vectors)\n",
    "\n",
    "traits_projected_role = traits_in_role_space[:, :components]  # first N role PCs\n",
    "traits_reconstructed = traits_projected_role @ role_results['pca'].components_[:components, :]\n",
    "trait_role_variance_preserved = 1 - np.var(scaled_trait_vectors - traits_reconstructed) / np.var(scaled_trait_vectors)\n",
    "\n",
    "print(role_trait_variance_preserved)\n",
    "print(trait_role_variance_preserved)"
   ]
  },
  {
   "cell_type": "code",
   "execution_count": 13,
   "id": "5c070897",
   "metadata": {},
   "outputs": [
    {
     "name": "stdout",
     "output_type": "stream",
     "text": [
      "0.6098394662418952\n",
      "0.7123619371840361\n"
     ]
    }
   ],
   "source": [
    "role_role_variance_preserved = role_results['variance_explained'][:components].sum()\n",
    "trait_trait_variance_preserved = trait_results['variance_explained'][:components].sum()\n",
    "\n",
    "print(role_role_variance_preserved)\n",
    "print(trait_trait_variance_preserved)\n"
   ]
  },
  {
   "cell_type": "code",
   "execution_count": null,
   "id": "pa5u9hy2c5",
   "metadata": {},
   "outputs": [
    {
     "data": {
      "application/vnd.plotly.v1+json": {
       "config": {
        "plotlyServerURL": "https://plot.ly"
       },
       "data": [
        {
         "marker": {
          "color": "lightcoral"
         },
         "name": "Cross-projection",
         "text": [
          "0.376",
          "0.432"
         ],
         "textposition": "outside",
         "type": "bar",
         "x": [
          "Role→Trait",
          "Trait→Role"
         ],
         "y": [
          0.37631764246477517,
          0.43240921936796084
         ]
        },
        {
         "marker": {
          "color": "steelblue"
         },
         "name": "Baseline (same space)",
         "text": [
          "0.610",
          "0.712"
         ],
         "textposition": "outside",
         "type": "bar",
         "x": [
          "Role→Role",
          "Trait→Trait"
         ],
         "y": [
          0.6098394662418952,
          0.7123619371840361
         ]
        }
       ],
       "layout": {
        "showlegend": true,
        "template": {
         "data": {
          "bar": [
           {
            "error_x": {
             "color": "#2a3f5f"
            },
            "error_y": {
             "color": "#2a3f5f"
            },
            "marker": {
             "line": {
              "color": "#E5ECF6",
              "width": 0.5
             },
             "pattern": {
              "fillmode": "overlay",
              "size": 10,
              "solidity": 0.2
             }
            },
            "type": "bar"
           }
          ],
          "barpolar": [
           {
            "marker": {
             "line": {
              "color": "#E5ECF6",
              "width": 0.5
             },
             "pattern": {
              "fillmode": "overlay",
              "size": 10,
              "solidity": 0.2
             }
            },
            "type": "barpolar"
           }
          ],
          "carpet": [
           {
            "aaxis": {
             "endlinecolor": "#2a3f5f",
             "gridcolor": "white",
             "linecolor": "white",
             "minorgridcolor": "white",
             "startlinecolor": "#2a3f5f"
            },
            "baxis": {
             "endlinecolor": "#2a3f5f",
             "gridcolor": "white",
             "linecolor": "white",
             "minorgridcolor": "white",
             "startlinecolor": "#2a3f5f"
            },
            "type": "carpet"
           }
          ],
          "choropleth": [
           {
            "colorbar": {
             "outlinewidth": 0,
             "ticks": ""
            },
            "type": "choropleth"
           }
          ],
          "contour": [
           {
            "colorbar": {
             "outlinewidth": 0,
             "ticks": ""
            },
            "colorscale": [
             [
              0,
              "#0d0887"
             ],
             [
              0.1111111111111111,
              "#46039f"
             ],
             [
              0.2222222222222222,
              "#7201a8"
             ],
             [
              0.3333333333333333,
              "#9c179e"
             ],
             [
              0.4444444444444444,
              "#bd3786"
             ],
             [
              0.5555555555555556,
              "#d8576b"
             ],
             [
              0.6666666666666666,
              "#ed7953"
             ],
             [
              0.7777777777777778,
              "#fb9f3a"
             ],
             [
              0.8888888888888888,
              "#fdca26"
             ],
             [
              1,
              "#f0f921"
             ]
            ],
            "type": "contour"
           }
          ],
          "contourcarpet": [
           {
            "colorbar": {
             "outlinewidth": 0,
             "ticks": ""
            },
            "type": "contourcarpet"
           }
          ],
          "heatmap": [
           {
            "colorbar": {
             "outlinewidth": 0,
             "ticks": ""
            },
            "colorscale": [
             [
              0,
              "#0d0887"
             ],
             [
              0.1111111111111111,
              "#46039f"
             ],
             [
              0.2222222222222222,
              "#7201a8"
             ],
             [
              0.3333333333333333,
              "#9c179e"
             ],
             [
              0.4444444444444444,
              "#bd3786"
             ],
             [
              0.5555555555555556,
              "#d8576b"
             ],
             [
              0.6666666666666666,
              "#ed7953"
             ],
             [
              0.7777777777777778,
              "#fb9f3a"
             ],
             [
              0.8888888888888888,
              "#fdca26"
             ],
             [
              1,
              "#f0f921"
             ]
            ],
            "type": "heatmap"
           }
          ],
          "heatmapgl": [
           {
            "colorbar": {
             "outlinewidth": 0,
             "ticks": ""
            },
            "colorscale": [
             [
              0,
              "#0d0887"
             ],
             [
              0.1111111111111111,
              "#46039f"
             ],
             [
              0.2222222222222222,
              "#7201a8"
             ],
             [
              0.3333333333333333,
              "#9c179e"
             ],
             [
              0.4444444444444444,
              "#bd3786"
             ],
             [
              0.5555555555555556,
              "#d8576b"
             ],
             [
              0.6666666666666666,
              "#ed7953"
             ],
             [
              0.7777777777777778,
              "#fb9f3a"
             ],
             [
              0.8888888888888888,
              "#fdca26"
             ],
             [
              1,
              "#f0f921"
             ]
            ],
            "type": "heatmapgl"
           }
          ],
          "histogram": [
           {
            "marker": {
             "pattern": {
              "fillmode": "overlay",
              "size": 10,
              "solidity": 0.2
             }
            },
            "type": "histogram"
           }
          ],
          "histogram2d": [
           {
            "colorbar": {
             "outlinewidth": 0,
             "ticks": ""
            },
            "colorscale": [
             [
              0,
              "#0d0887"
             ],
             [
              0.1111111111111111,
              "#46039f"
             ],
             [
              0.2222222222222222,
              "#7201a8"
             ],
             [
              0.3333333333333333,
              "#9c179e"
             ],
             [
              0.4444444444444444,
              "#bd3786"
             ],
             [
              0.5555555555555556,
              "#d8576b"
             ],
             [
              0.6666666666666666,
              "#ed7953"
             ],
             [
              0.7777777777777778,
              "#fb9f3a"
             ],
             [
              0.8888888888888888,
              "#fdca26"
             ],
             [
              1,
              "#f0f921"
             ]
            ],
            "type": "histogram2d"
           }
          ],
          "histogram2dcontour": [
           {
            "colorbar": {
             "outlinewidth": 0,
             "ticks": ""
            },
            "colorscale": [
             [
              0,
              "#0d0887"
             ],
             [
              0.1111111111111111,
              "#46039f"
             ],
             [
              0.2222222222222222,
              "#7201a8"
             ],
             [
              0.3333333333333333,
              "#9c179e"
             ],
             [
              0.4444444444444444,
              "#bd3786"
             ],
             [
              0.5555555555555556,
              "#d8576b"
             ],
             [
              0.6666666666666666,
              "#ed7953"
             ],
             [
              0.7777777777777778,
              "#fb9f3a"
             ],
             [
              0.8888888888888888,
              "#fdca26"
             ],
             [
              1,
              "#f0f921"
             ]
            ],
            "type": "histogram2dcontour"
           }
          ],
          "mesh3d": [
           {
            "colorbar": {
             "outlinewidth": 0,
             "ticks": ""
            },
            "type": "mesh3d"
           }
          ],
          "parcoords": [
           {
            "line": {
             "colorbar": {
              "outlinewidth": 0,
              "ticks": ""
             }
            },
            "type": "parcoords"
           }
          ],
          "pie": [
           {
            "automargin": true,
            "type": "pie"
           }
          ],
          "scatter": [
           {
            "fillpattern": {
             "fillmode": "overlay",
             "size": 10,
             "solidity": 0.2
            },
            "type": "scatter"
           }
          ],
          "scatter3d": [
           {
            "line": {
             "colorbar": {
              "outlinewidth": 0,
              "ticks": ""
             }
            },
            "marker": {
             "colorbar": {
              "outlinewidth": 0,
              "ticks": ""
             }
            },
            "type": "scatter3d"
           }
          ],
          "scattercarpet": [
           {
            "marker": {
             "colorbar": {
              "outlinewidth": 0,
              "ticks": ""
             }
            },
            "type": "scattercarpet"
           }
          ],
          "scattergeo": [
           {
            "marker": {
             "colorbar": {
              "outlinewidth": 0,
              "ticks": ""
             }
            },
            "type": "scattergeo"
           }
          ],
          "scattergl": [
           {
            "marker": {
             "colorbar": {
              "outlinewidth": 0,
              "ticks": ""
             }
            },
            "type": "scattergl"
           }
          ],
          "scattermapbox": [
           {
            "marker": {
             "colorbar": {
              "outlinewidth": 0,
              "ticks": ""
             }
            },
            "type": "scattermapbox"
           }
          ],
          "scatterpolar": [
           {
            "marker": {
             "colorbar": {
              "outlinewidth": 0,
              "ticks": ""
             }
            },
            "type": "scatterpolar"
           }
          ],
          "scatterpolargl": [
           {
            "marker": {
             "colorbar": {
              "outlinewidth": 0,
              "ticks": ""
             }
            },
            "type": "scatterpolargl"
           }
          ],
          "scatterternary": [
           {
            "marker": {
             "colorbar": {
              "outlinewidth": 0,
              "ticks": ""
             }
            },
            "type": "scatterternary"
           }
          ],
          "surface": [
           {
            "colorbar": {
             "outlinewidth": 0,
             "ticks": ""
            },
            "colorscale": [
             [
              0,
              "#0d0887"
             ],
             [
              0.1111111111111111,
              "#46039f"
             ],
             [
              0.2222222222222222,
              "#7201a8"
             ],
             [
              0.3333333333333333,
              "#9c179e"
             ],
             [
              0.4444444444444444,
              "#bd3786"
             ],
             [
              0.5555555555555556,
              "#d8576b"
             ],
             [
              0.6666666666666666,
              "#ed7953"
             ],
             [
              0.7777777777777778,
              "#fb9f3a"
             ],
             [
              0.8888888888888888,
              "#fdca26"
             ],
             [
              1,
              "#f0f921"
             ]
            ],
            "type": "surface"
           }
          ],
          "table": [
           {
            "cells": {
             "fill": {
              "color": "#EBF0F8"
             },
             "line": {
              "color": "white"
             }
            },
            "header": {
             "fill": {
              "color": "#C8D4E3"
             },
             "line": {
              "color": "white"
             }
            },
            "type": "table"
           }
          ]
         },
         "layout": {
          "annotationdefaults": {
           "arrowcolor": "#2a3f5f",
           "arrowhead": 0,
           "arrowwidth": 1
          },
          "autotypenumbers": "strict",
          "coloraxis": {
           "colorbar": {
            "outlinewidth": 0,
            "ticks": ""
           }
          },
          "colorscale": {
           "diverging": [
            [
             0,
             "#8e0152"
            ],
            [
             0.1,
             "#c51b7d"
            ],
            [
             0.2,
             "#de77ae"
            ],
            [
             0.3,
             "#f1b6da"
            ],
            [
             0.4,
             "#fde0ef"
            ],
            [
             0.5,
             "#f7f7f7"
            ],
            [
             0.6,
             "#e6f5d0"
            ],
            [
             0.7,
             "#b8e186"
            ],
            [
             0.8,
             "#7fbc41"
            ],
            [
             0.9,
             "#4d9221"
            ],
            [
             1,
             "#276419"
            ]
           ],
           "sequential": [
            [
             0,
             "#0d0887"
            ],
            [
             0.1111111111111111,
             "#46039f"
            ],
            [
             0.2222222222222222,
             "#7201a8"
            ],
            [
             0.3333333333333333,
             "#9c179e"
            ],
            [
             0.4444444444444444,
             "#bd3786"
            ],
            [
             0.5555555555555556,
             "#d8576b"
            ],
            [
             0.6666666666666666,
             "#ed7953"
            ],
            [
             0.7777777777777778,
             "#fb9f3a"
            ],
            [
             0.8888888888888888,
             "#fdca26"
            ],
            [
             1,
             "#f0f921"
            ]
           ],
           "sequentialminus": [
            [
             0,
             "#0d0887"
            ],
            [
             0.1111111111111111,
             "#46039f"
            ],
            [
             0.2222222222222222,
             "#7201a8"
            ],
            [
             0.3333333333333333,
             "#9c179e"
            ],
            [
             0.4444444444444444,
             "#bd3786"
            ],
            [
             0.5555555555555556,
             "#d8576b"
            ],
            [
             0.6666666666666666,
             "#ed7953"
            ],
            [
             0.7777777777777778,
             "#fb9f3a"
            ],
            [
             0.8888888888888888,
             "#fdca26"
            ],
            [
             1,
             "#f0f921"
            ]
           ]
          },
          "colorway": [
           "#636efa",
           "#EF553B",
           "#00cc96",
           "#ab63fa",
           "#FFA15A",
           "#19d3f3",
           "#FF6692",
           "#B6E880",
           "#FF97FF",
           "#FECB52"
          ],
          "font": {
           "color": "#2a3f5f"
          },
          "geo": {
           "bgcolor": "white",
           "lakecolor": "white",
           "landcolor": "#E5ECF6",
           "showlakes": true,
           "showland": true,
           "subunitcolor": "white"
          },
          "hoverlabel": {
           "align": "left"
          },
          "hovermode": "closest",
          "mapbox": {
           "style": "light"
          },
          "paper_bgcolor": "white",
          "plot_bgcolor": "#E5ECF6",
          "polar": {
           "angularaxis": {
            "gridcolor": "white",
            "linecolor": "white",
            "ticks": ""
           },
           "bgcolor": "#E5ECF6",
           "radialaxis": {
            "gridcolor": "white",
            "linecolor": "white",
            "ticks": ""
           }
          },
          "scene": {
           "xaxis": {
            "backgroundcolor": "#E5ECF6",
            "gridcolor": "white",
            "gridwidth": 2,
            "linecolor": "white",
            "showbackground": true,
            "ticks": "",
            "zerolinecolor": "white"
           },
           "yaxis": {
            "backgroundcolor": "#E5ECF6",
            "gridcolor": "white",
            "gridwidth": 2,
            "linecolor": "white",
            "showbackground": true,
            "ticks": "",
            "zerolinecolor": "white"
           },
           "zaxis": {
            "backgroundcolor": "#E5ECF6",
            "gridcolor": "white",
            "gridwidth": 2,
            "linecolor": "white",
            "showbackground": true,
            "ticks": "",
            "zerolinecolor": "white"
           }
          },
          "shapedefaults": {
           "line": {
            "color": "#2a3f5f"
           }
          },
          "ternary": {
           "aaxis": {
            "gridcolor": "white",
            "linecolor": "white",
            "ticks": ""
           },
           "baxis": {
            "gridcolor": "white",
            "linecolor": "white",
            "ticks": ""
           },
           "bgcolor": "#E5ECF6",
           "caxis": {
            "gridcolor": "white",
            "linecolor": "white",
            "ticks": ""
           }
          },
          "title": {
           "x": 0.05
          },
          "xaxis": {
           "automargin": true,
           "gridcolor": "white",
           "linecolor": "white",
           "ticks": "",
           "title": {
            "standoff": 15
           },
           "zerolinecolor": "white",
           "zerolinewidth": 2
          },
          "yaxis": {
           "automargin": true,
           "gridcolor": "white",
           "linecolor": "white",
           "ticks": "",
           "title": {
            "standoff": 15
           },
           "zerolinecolor": "white",
           "zerolinewidth": 2
          }
         }
        },
        "title": {
         "subtitle": {
          "text": "Gemma 2 27B, Layer 22 | 239 traits, 448 roles"
         },
         "text": "Variance Explained by Roles in Trait Space and Traits in Role Space (Top 10 PCs)"
        },
        "width": 800,
        "xaxis": {
         "categoryarray": [
          "Role→Trait",
          "Role→Role",
          "Trait→Role",
          "Trait→Trait"
         ],
         "categoryorder": "array",
         "title": {
          "text": "Projection Type"
         }
        },
        "yaxis": {
         "range": [
          0,
          1
         ],
         "title": {
          "text": "Variance Explained"
         }
        }
       }
      },
      "text/html": [
       "<div>                            <div id=\"d6affab8-1561-456b-981a-4823105e1794\" class=\"plotly-graph-div\" style=\"height:525px; width:800px;\"></div>            <script type=\"text/javascript\">                require([\"plotly\"], function(Plotly) {                    window.PLOTLYENV=window.PLOTLYENV || {};                                    if (document.getElementById(\"d6affab8-1561-456b-981a-4823105e1794\")) {                    Plotly.newPlot(                        \"d6affab8-1561-456b-981a-4823105e1794\",                        [{\"marker\":{\"color\":\"lightcoral\"},\"name\":\"Cross-projection\",\"text\":[\"0.376\",\"0.432\"],\"textposition\":\"outside\",\"x\":[\"Role\\u2192Trait\",\"Trait\\u2192Role\"],\"y\":[0.37631764246477517,0.43240921936796084],\"type\":\"bar\"},{\"marker\":{\"color\":\"steelblue\"},\"name\":\"Baseline (same space)\",\"text\":[\"0.610\",\"0.712\"],\"textposition\":\"outside\",\"x\":[\"Role\\u2192Role\",\"Trait\\u2192Trait\"],\"y\":[0.6098394662418952,0.7123619371840361],\"type\":\"bar\"}],                        {\"template\":{\"data\":{\"histogram2dcontour\":[{\"type\":\"histogram2dcontour\",\"colorbar\":{\"outlinewidth\":0,\"ticks\":\"\"},\"colorscale\":[[0.0,\"#0d0887\"],[0.1111111111111111,\"#46039f\"],[0.2222222222222222,\"#7201a8\"],[0.3333333333333333,\"#9c179e\"],[0.4444444444444444,\"#bd3786\"],[0.5555555555555556,\"#d8576b\"],[0.6666666666666666,\"#ed7953\"],[0.7777777777777778,\"#fb9f3a\"],[0.8888888888888888,\"#fdca26\"],[1.0,\"#f0f921\"]]}],\"choropleth\":[{\"type\":\"choropleth\",\"colorbar\":{\"outlinewidth\":0,\"ticks\":\"\"}}],\"histogram2d\":[{\"type\":\"histogram2d\",\"colorbar\":{\"outlinewidth\":0,\"ticks\":\"\"},\"colorscale\":[[0.0,\"#0d0887\"],[0.1111111111111111,\"#46039f\"],[0.2222222222222222,\"#7201a8\"],[0.3333333333333333,\"#9c179e\"],[0.4444444444444444,\"#bd3786\"],[0.5555555555555556,\"#d8576b\"],[0.6666666666666666,\"#ed7953\"],[0.7777777777777778,\"#fb9f3a\"],[0.8888888888888888,\"#fdca26\"],[1.0,\"#f0f921\"]]}],\"heatmap\":[{\"type\":\"heatmap\",\"colorbar\":{\"outlinewidth\":0,\"ticks\":\"\"},\"colorscale\":[[0.0,\"#0d0887\"],[0.1111111111111111,\"#46039f\"],[0.2222222222222222,\"#7201a8\"],[0.3333333333333333,\"#9c179e\"],[0.4444444444444444,\"#bd3786\"],[0.5555555555555556,\"#d8576b\"],[0.6666666666666666,\"#ed7953\"],[0.7777777777777778,\"#fb9f3a\"],[0.8888888888888888,\"#fdca26\"],[1.0,\"#f0f921\"]]}],\"heatmapgl\":[{\"type\":\"heatmapgl\",\"colorbar\":{\"outlinewidth\":0,\"ticks\":\"\"},\"colorscale\":[[0.0,\"#0d0887\"],[0.1111111111111111,\"#46039f\"],[0.2222222222222222,\"#7201a8\"],[0.3333333333333333,\"#9c179e\"],[0.4444444444444444,\"#bd3786\"],[0.5555555555555556,\"#d8576b\"],[0.6666666666666666,\"#ed7953\"],[0.7777777777777778,\"#fb9f3a\"],[0.8888888888888888,\"#fdca26\"],[1.0,\"#f0f921\"]]}],\"contourcarpet\":[{\"type\":\"contourcarpet\",\"colorbar\":{\"outlinewidth\":0,\"ticks\":\"\"}}],\"contour\":[{\"type\":\"contour\",\"colorbar\":{\"outlinewidth\":0,\"ticks\":\"\"},\"colorscale\":[[0.0,\"#0d0887\"],[0.1111111111111111,\"#46039f\"],[0.2222222222222222,\"#7201a8\"],[0.3333333333333333,\"#9c179e\"],[0.4444444444444444,\"#bd3786\"],[0.5555555555555556,\"#d8576b\"],[0.6666666666666666,\"#ed7953\"],[0.7777777777777778,\"#fb9f3a\"],[0.8888888888888888,\"#fdca26\"],[1.0,\"#f0f921\"]]}],\"surface\":[{\"type\":\"surface\",\"colorbar\":{\"outlinewidth\":0,\"ticks\":\"\"},\"colorscale\":[[0.0,\"#0d0887\"],[0.1111111111111111,\"#46039f\"],[0.2222222222222222,\"#7201a8\"],[0.3333333333333333,\"#9c179e\"],[0.4444444444444444,\"#bd3786\"],[0.5555555555555556,\"#d8576b\"],[0.6666666666666666,\"#ed7953\"],[0.7777777777777778,\"#fb9f3a\"],[0.8888888888888888,\"#fdca26\"],[1.0,\"#f0f921\"]]}],\"mesh3d\":[{\"type\":\"mesh3d\",\"colorbar\":{\"outlinewidth\":0,\"ticks\":\"\"}}],\"scatter\":[{\"fillpattern\":{\"fillmode\":\"overlay\",\"size\":10,\"solidity\":0.2},\"type\":\"scatter\"}],\"parcoords\":[{\"type\":\"parcoords\",\"line\":{\"colorbar\":{\"outlinewidth\":0,\"ticks\":\"\"}}}],\"scatterpolargl\":[{\"type\":\"scatterpolargl\",\"marker\":{\"colorbar\":{\"outlinewidth\":0,\"ticks\":\"\"}}}],\"bar\":[{\"error_x\":{\"color\":\"#2a3f5f\"},\"error_y\":{\"color\":\"#2a3f5f\"},\"marker\":{\"line\":{\"color\":\"#E5ECF6\",\"width\":0.5},\"pattern\":{\"fillmode\":\"overlay\",\"size\":10,\"solidity\":0.2}},\"type\":\"bar\"}],\"scattergeo\":[{\"type\":\"scattergeo\",\"marker\":{\"colorbar\":{\"outlinewidth\":0,\"ticks\":\"\"}}}],\"scatterpolar\":[{\"type\":\"scatterpolar\",\"marker\":{\"colorbar\":{\"outlinewidth\":0,\"ticks\":\"\"}}}],\"histogram\":[{\"marker\":{\"pattern\":{\"fillmode\":\"overlay\",\"size\":10,\"solidity\":0.2}},\"type\":\"histogram\"}],\"scattergl\":[{\"type\":\"scattergl\",\"marker\":{\"colorbar\":{\"outlinewidth\":0,\"ticks\":\"\"}}}],\"scatter3d\":[{\"type\":\"scatter3d\",\"line\":{\"colorbar\":{\"outlinewidth\":0,\"ticks\":\"\"}},\"marker\":{\"colorbar\":{\"outlinewidth\":0,\"ticks\":\"\"}}}],\"scattermapbox\":[{\"type\":\"scattermapbox\",\"marker\":{\"colorbar\":{\"outlinewidth\":0,\"ticks\":\"\"}}}],\"scatterternary\":[{\"type\":\"scatterternary\",\"marker\":{\"colorbar\":{\"outlinewidth\":0,\"ticks\":\"\"}}}],\"scattercarpet\":[{\"type\":\"scattercarpet\",\"marker\":{\"colorbar\":{\"outlinewidth\":0,\"ticks\":\"\"}}}],\"carpet\":[{\"aaxis\":{\"endlinecolor\":\"#2a3f5f\",\"gridcolor\":\"white\",\"linecolor\":\"white\",\"minorgridcolor\":\"white\",\"startlinecolor\":\"#2a3f5f\"},\"baxis\":{\"endlinecolor\":\"#2a3f5f\",\"gridcolor\":\"white\",\"linecolor\":\"white\",\"minorgridcolor\":\"white\",\"startlinecolor\":\"#2a3f5f\"},\"type\":\"carpet\"}],\"table\":[{\"cells\":{\"fill\":{\"color\":\"#EBF0F8\"},\"line\":{\"color\":\"white\"}},\"header\":{\"fill\":{\"color\":\"#C8D4E3\"},\"line\":{\"color\":\"white\"}},\"type\":\"table\"}],\"barpolar\":[{\"marker\":{\"line\":{\"color\":\"#E5ECF6\",\"width\":0.5},\"pattern\":{\"fillmode\":\"overlay\",\"size\":10,\"solidity\":0.2}},\"type\":\"barpolar\"}],\"pie\":[{\"automargin\":true,\"type\":\"pie\"}]},\"layout\":{\"autotypenumbers\":\"strict\",\"colorway\":[\"#636efa\",\"#EF553B\",\"#00cc96\",\"#ab63fa\",\"#FFA15A\",\"#19d3f3\",\"#FF6692\",\"#B6E880\",\"#FF97FF\",\"#FECB52\"],\"font\":{\"color\":\"#2a3f5f\"},\"hovermode\":\"closest\",\"hoverlabel\":{\"align\":\"left\"},\"paper_bgcolor\":\"white\",\"plot_bgcolor\":\"#E5ECF6\",\"polar\":{\"bgcolor\":\"#E5ECF6\",\"angularaxis\":{\"gridcolor\":\"white\",\"linecolor\":\"white\",\"ticks\":\"\"},\"radialaxis\":{\"gridcolor\":\"white\",\"linecolor\":\"white\",\"ticks\":\"\"}},\"ternary\":{\"bgcolor\":\"#E5ECF6\",\"aaxis\":{\"gridcolor\":\"white\",\"linecolor\":\"white\",\"ticks\":\"\"},\"baxis\":{\"gridcolor\":\"white\",\"linecolor\":\"white\",\"ticks\":\"\"},\"caxis\":{\"gridcolor\":\"white\",\"linecolor\":\"white\",\"ticks\":\"\"}},\"coloraxis\":{\"colorbar\":{\"outlinewidth\":0,\"ticks\":\"\"}},\"colorscale\":{\"sequential\":[[0.0,\"#0d0887\"],[0.1111111111111111,\"#46039f\"],[0.2222222222222222,\"#7201a8\"],[0.3333333333333333,\"#9c179e\"],[0.4444444444444444,\"#bd3786\"],[0.5555555555555556,\"#d8576b\"],[0.6666666666666666,\"#ed7953\"],[0.7777777777777778,\"#fb9f3a\"],[0.8888888888888888,\"#fdca26\"],[1.0,\"#f0f921\"]],\"sequentialminus\":[[0.0,\"#0d0887\"],[0.1111111111111111,\"#46039f\"],[0.2222222222222222,\"#7201a8\"],[0.3333333333333333,\"#9c179e\"],[0.4444444444444444,\"#bd3786\"],[0.5555555555555556,\"#d8576b\"],[0.6666666666666666,\"#ed7953\"],[0.7777777777777778,\"#fb9f3a\"],[0.8888888888888888,\"#fdca26\"],[1.0,\"#f0f921\"]],\"diverging\":[[0,\"#8e0152\"],[0.1,\"#c51b7d\"],[0.2,\"#de77ae\"],[0.3,\"#f1b6da\"],[0.4,\"#fde0ef\"],[0.5,\"#f7f7f7\"],[0.6,\"#e6f5d0\"],[0.7,\"#b8e186\"],[0.8,\"#7fbc41\"],[0.9,\"#4d9221\"],[1,\"#276419\"]]},\"xaxis\":{\"gridcolor\":\"white\",\"linecolor\":\"white\",\"ticks\":\"\",\"title\":{\"standoff\":15},\"zerolinecolor\":\"white\",\"automargin\":true,\"zerolinewidth\":2},\"yaxis\":{\"gridcolor\":\"white\",\"linecolor\":\"white\",\"ticks\":\"\",\"title\":{\"standoff\":15},\"zerolinecolor\":\"white\",\"automargin\":true,\"zerolinewidth\":2},\"scene\":{\"xaxis\":{\"backgroundcolor\":\"#E5ECF6\",\"gridcolor\":\"white\",\"linecolor\":\"white\",\"showbackground\":true,\"ticks\":\"\",\"zerolinecolor\":\"white\",\"gridwidth\":2},\"yaxis\":{\"backgroundcolor\":\"#E5ECF6\",\"gridcolor\":\"white\",\"linecolor\":\"white\",\"showbackground\":true,\"ticks\":\"\",\"zerolinecolor\":\"white\",\"gridwidth\":2},\"zaxis\":{\"backgroundcolor\":\"#E5ECF6\",\"gridcolor\":\"white\",\"linecolor\":\"white\",\"showbackground\":true,\"ticks\":\"\",\"zerolinecolor\":\"white\",\"gridwidth\":2}},\"shapedefaults\":{\"line\":{\"color\":\"#2a3f5f\"}},\"annotationdefaults\":{\"arrowcolor\":\"#2a3f5f\",\"arrowhead\":0,\"arrowwidth\":1},\"geo\":{\"bgcolor\":\"white\",\"landcolor\":\"#E5ECF6\",\"subunitcolor\":\"white\",\"showland\":true,\"showlakes\":true,\"lakecolor\":\"white\"},\"title\":{\"x\":0.05},\"mapbox\":{\"style\":\"light\"}}},\"title\":{\"subtitle\":{\"text\":\"Gemma 2 27B, Layer 22 | 239 traits, 448 roles\"},\"text\":\"Variance Explained by Roles in Trait Space and Traits in Role Space (Top 10 PCs)\"},\"yaxis\":{\"title\":{\"text\":\"Variance Explained\"},\"range\":[0,1]},\"xaxis\":{\"title\":{\"text\":\"Projection Type\"},\"categoryorder\":\"array\",\"categoryarray\":[\"Role\\u2192Trait\",\"Role\\u2192Role\",\"Trait\\u2192Role\",\"Trait\\u2192Trait\"]},\"width\":800,\"showlegend\":true},                        {\"responsive\": true}                    ).then(function(){\n",
       "                            \n",
       "var gd = document.getElementById('d6affab8-1561-456b-981a-4823105e1794');\n",
       "var x = new MutationObserver(function (mutations, observer) {{\n",
       "        var display = window.getComputedStyle(gd).display;\n",
       "        if (!display || display === 'none') {{\n",
       "            console.log([gd, 'removed!']);\n",
       "            Plotly.purge(gd);\n",
       "            observer.disconnect();\n",
       "        }}\n",
       "}});\n",
       "\n",
       "// Listen for the removal of the full notebook cells\n",
       "var notebookContainer = gd.closest('#notebook-container');\n",
       "if (notebookContainer) {{\n",
       "    x.observe(notebookContainer, {childList: true});\n",
       "}}\n",
       "\n",
       "// Listen for the clearing of the current output cell\n",
       "var outputEl = gd.closest('.output');\n",
       "if (outputEl) {{\n",
       "    x.observe(outputEl, {childList: true});\n",
       "}}\n",
       "\n",
       "                        })                };                });            </script>        </div>"
      ]
     },
     "metadata": {},
     "output_type": "display_data"
    }
   ],
   "source": [
    "# Grouped bar chart visualization\n",
    "fig = go.Figure()\n",
    "\n",
    "# Add all bars with proper grouping for legend\n",
    "fig.add_trace(go.Bar(\n",
    "    name='Cross-projection',\n",
    "    x=['Role→Trait', 'Trait→Role'],\n",
    "    y=[role_trait_variance_preserved, trait_role_variance_preserved],\n",
    "    marker_color='lightcoral',\n",
    "    text=[f'{role_trait_variance_preserved:.3f}', f'{trait_role_variance_preserved:.3f}'],\n",
    "    textposition='outside'\n",
    "))\n",
    "\n",
    "fig.add_trace(go.Bar(\n",
    "    name='Baseline (same space)',\n",
    "    x=['Role→Role', 'Trait→Trait'],\n",
    "    y=[role_role_variance_preserved, trait_trait_variance_preserved],\n",
    "    marker_color='steelblue',\n",
    "    text=[f'{role_role_variance_preserved:.3f}', f'{trait_trait_variance_preserved:.3f}'],\n",
    "    textposition='outside'\n",
    "))\n",
    "\n",
    "# Update layout to force the x-axis order\n",
    "fig.update_layout(\n",
    "    title=dict(\n",
    "        text=f'Variance Explained by Roles in Trait Space and Traits in Role Space (Top {components} PCs)',\n",
    "        subtitle={\n",
    "            'text': 'Gemma 2 27B, Layer 22 | 239 traits, 448 roles',\n",
    "        }\n",
    "    ),\n",
    "    yaxis_title='Variance Explained',\n",
    "    yaxis=dict(range=[0, 1]),\n",
    "    xaxis_title='Projection Type',\n",
    "    xaxis={'categoryorder': 'array', 'categoryarray': ['Role→Trait', 'Role→Role', 'Trait→Role', 'Trait→Trait']},\n",
    "    width=800,\n",
    "    showlegend=True\n",
    ")\n",
    "\n",
    "fig.show()"
   ]
  },
  {
   "cell_type": "markdown",
   "id": "d241b82e",
   "metadata": {},
   "source": [
    "## Role-play basis in trait space\n",
    "\n",
    "- project PC1 onto trait vectors to see which have high positive/negative loadings\n",
    "- can PC1 be well-approximated by a linear combination of trait vectors?"
   ]
  },
  {
   "cell_type": "code",
   "execution_count": 14,
   "id": "ab97313e",
   "metadata": {},
   "outputs": [
    {
     "name": "stdout",
     "output_type": "stream",
     "text": [
      "Role PC1 shape: (4608,)\n"
     ]
    }
   ],
   "source": [
    "# Load role PC1 and scale it using the trait scaler\n",
    "rp_basis = torch.load('/root/git/persona-subspace/roles/data/pca_240/layer22_pos23_pc1.pt', weights_only=False)\n",
    "print(f\"Role PC1 shape: {rp_basis.shape}\")\n"
   ]
  },
  {
   "cell_type": "code",
   "execution_count": 17,
   "id": "2935ad8d",
   "metadata": {},
   "outputs": [
    {
     "name": "stdout",
     "output_type": "stream",
     "text": [
      "['zealous', 'wry', 'witty', 'whimsical', 'visceral', 'verbose', 'utilitarian', 'urgent', 'universalist', 'understated']\n"
     ]
    }
   ],
   "source": [
    "# trait names\n",
    "trait_names = trait_results['traits']['pos_neg_50']\n",
    "print(trait_names[:10])"
   ]
  },
  {
   "cell_type": "code",
   "execution_count": 19,
   "id": "c1320ce8",
   "metadata": {},
   "outputs": [
    {
     "name": "stdout",
     "output_type": "stream",
     "text": [
      "Role PC1 in trait PCA space shape: (1, 239)\n",
      "Correlations shape: (239,)\n",
      "\n",
      "Top 15 traits most aligned with Assistant-like (positive correlations):\n",
      " 1. understated     (#  9): 921.5897\n",
      " 2. reserved        (# 46): 837.3296\n",
      " 3. calm            (#213): 831.8392\n",
      " 4. dispassionate   (#173): 796.6787\n",
      " 5. grounded        (#129): 783.7020\n",
      " 6. literal         (#103): 779.3799\n",
      " 7. moderate        (# 89): 731.1619\n",
      " 8. factual         (#144): 707.0011\n",
      " 9. avoidant        (#221): 700.2712\n",
      "10. descriptive     (#178): 680.0480\n",
      "11. concise         (#199): 666.5287\n",
      "12. serious         (# 33): 652.0432\n",
      "13. efficient       (#164): 651.3655\n",
      "14. methodical      (# 94): 628.0478\n",
      "15. traditional     (# 11): 626.6142\n",
      "\n",
      "Top 15 traits most aligned with role-playing (negative correlations):\n",
      " 1. theatrical      (# 13): -857.2169\n",
      " 2. charismatic     (#208): -847.6765\n",
      " 3. dramatic        (#169): -847.5021\n",
      " 4. melodramatic    (# 97): -815.2751\n",
      " 5. bombastic       (#216): -795.5102\n",
      " 6. witty           (#  2): -759.6967\n",
      " 7. cryptic         (#186): -742.8105\n",
      " 8. metaphorical    (# 95): -739.3448\n",
      " 9. eloquent        (#160): -737.8877\n",
      "10. animated        (#228): -713.4190\n",
      "11. whimsical       (#  3): -697.6244\n",
      "12. rhetorical      (# 43): -694.6042\n",
      "13. poetic          (# 63): -674.2121\n",
      "14. enigmatic       (#157): -643.1621\n",
      "15. zealous         (#  0): -597.0986\n"
     ]
    }
   ],
   "source": [
    "# Scale role PC1 using the trait scaler for consistent comparison\n",
    "rp_basis_scaled = trait_results['scaler'].transform(rp_basis.reshape(1, -1))\n",
    "\n",
    "# Project role PC1 into trait PCA space\n",
    "rp_basis_in_trait_space = trait_results['pca'].transform(rp_basis_scaled)\n",
    "print(f\"Role PC1 in trait PCA space shape: {rp_basis_in_trait_space.shape}\")\n",
    "\n",
    "# Compute correlations between Role PC1 and each trait in PCA space\n",
    "correlations = traits_in_trait_space @ rp_basis_in_trait_space.T\n",
    "correlations = correlations.flatten()\n",
    "print(f\"Correlations shape: {correlations.shape}\")\n",
    "\n",
    "# Find top 15 traits most aligned with Assistant-like (most positive correlations)\n",
    "top_roleplay_indices = np.argsort(correlations)[-15:][::-1]\n",
    "print(\"\\nTop 15 traits most aligned with Assistant-like (positive correlations):\")\n",
    "for i, idx in enumerate(top_roleplay_indices):\n",
    "    print(f\"{i+1:2d}. {trait_names[idx]:15s} (#{idx:3d}): {correlations[idx]:.4f}\")\n",
    "\n",
    "# Find top 15 traits most aligned with role-playing (most negative correlations)  \n",
    "top_assistant_indices = np.argsort(correlations)[:15]\n",
    "print(\"\\nTop 15 traits most aligned with role-playing (negative correlations):\")\n",
    "for i, idx in enumerate(top_assistant_indices):\n",
    "    print(f\"{i+1:2d}. {trait_names[idx]:15s} (#{idx:3d}): {correlations[idx]:.4f}\")"
   ]
  },
  {
   "cell_type": "code",
   "execution_count": 20,
   "id": "i2elwaj48f",
   "metadata": {},
   "outputs": [
    {
     "name": "stdout",
     "output_type": "stream",
     "text": [
      "================================================================================\n",
      "ANALYSIS 2: Direct cosine similarity with original trait vectors\n",
      "================================================================================\n",
      "Normalized trait vectors shape: (239, 4608)\n",
      "Normalized role PC1 shape: (4608,)\n",
      "Cosine similarities shape: (239,)\n",
      "\n",
      "Top 15 traits most aligned with role-playing (positive cosine similarity):\n",
      " 1. reserved        (# 46): 0.7085\n",
      " 2. grounded        (#129): 0.6994\n",
      " 3. factual         (#144): 0.6716\n",
      " 4. reductionist    (# 49): 0.6580\n",
      " 5. literal         (#103): 0.6317\n",
      " 6. descriptive     (#178): 0.6190\n",
      " 7. dispassionate   (#173): 0.6112\n",
      " 8. understated     (#  9): 0.6107\n",
      " 9. materialist     (#100): 0.6043\n",
      "10. traditional     (# 11): 0.6006\n",
      "11. moderate        (# 89): 0.5931\n",
      "12. calm            (#213): 0.5914\n",
      "13. rationalist     (# 52): 0.5724\n",
      "14. secular         (# 35): 0.5669\n",
      "15. convergent      (#191): 0.5477\n",
      "\n",
      "Top 15 traits most aligned with Assistant-like (negative cosine similarity):\n",
      " 1. dramatic        (#169): -0.7331\n",
      " 2. melodramatic    (# 97): -0.7026\n",
      " 3. theatrical      (# 13): -0.6803\n",
      " 4. rhetorical      (# 43): -0.6652\n",
      " 5. bombastic       (#216): -0.6268\n",
      " 6. whimsical       (#  3): -0.6138\n",
      " 7. philosophical   (# 66): -0.5979\n",
      " 8. creative        (#189): -0.5949\n",
      " 9. witty           (#  2): -0.5928\n",
      "10. charismatic     (#208): -0.5891\n",
      "11. metaphorical    (# 95): -0.5854\n",
      "12. eloquent        (#160): -0.5826\n",
      "13. zealous         (#  0): -0.5725\n",
      "14. grandiose       (#131): -0.5667\n",
      "15. passionate      (# 74): -0.5527\n"
     ]
    }
   ],
   "source": [
    "# Alternative analysis: Direct cosine similarity with original trait vectors (before PCA)\n",
    "print(\"=\" * 80)\n",
    "print(\"ANALYSIS 2: Direct cosine similarity with original trait vectors\")\n",
    "print(\"=\" * 80)\n",
    "\n",
    "# Use the scaled trait vectors (before PCA transformation)\n",
    "normalized_trait_vectors = scaled_trait_vectors / np.linalg.norm(scaled_trait_vectors, axis=1, keepdims=True)\n",
    "normalized_rp_basis = rp_basis_scaled.flatten() / np.linalg.norm(rp_basis_scaled.flatten())\n",
    "\n",
    "print(f\"Normalized trait vectors shape: {normalized_trait_vectors.shape}\")\n",
    "print(f\"Normalized role PC1 shape: {normalized_rp_basis.shape}\")\n",
    "\n",
    "# Compute cosine similarities (dot products of normalized vectors)\n",
    "cosine_similarities = normalized_trait_vectors @ normalized_rp_basis\n",
    "print(f\"Cosine similarities shape: {cosine_similarities.shape}\")\n",
    "\n",
    "# Find top 15 traits most aligned with role-playing (most positive cosine similarities)\n",
    "top_roleplay_indices_cosine = np.argsort(cosine_similarities)[-15:][::-1]\n",
    "print(\"\\nTop 15 traits most aligned with role-playing (positive cosine similarity):\")\n",
    "for i, idx in enumerate(top_roleplay_indices_cosine):\n",
    "    print(f\"{i+1:2d}. {trait_names[idx]:15s} (#{idx:3d}): {cosine_similarities[idx]:.4f}\")\n",
    "\n",
    "# Find top 15 traits most aligned with Assistant-like (most negative cosine similarities)  \n",
    "top_assistant_indices_cosine = np.argsort(cosine_similarities)[:15]\n",
    "print(\"\\nTop 15 traits most aligned with Assistant-like (negative cosine similarity):\")\n",
    "for i, idx in enumerate(top_assistant_indices_cosine):\n",
    "    print(f\"{i+1:2d}. {trait_names[idx]:15s} (#{idx:3d}): {cosine_similarities[idx]:.4f}\")"
   ]
  },
  {
   "cell_type": "code",
   "execution_count": 31,
   "id": "f4edzowdpu",
   "metadata": {},
   "outputs": [
    {
     "data": {
      "application/vnd.plotly.v1+json": {
       "config": {
        "plotlyServerURL": "https://plot.ly"
       },
       "data": [
        {
         "hovertemplate": "<b>%{text}</b><br>Value: %{x:.3f}<extra></extra>",
         "marker": {
          "color": "steelblue",
          "line": {
           "color": "black",
           "width": 1
          },
          "opacity": 1,
          "size": 8,
          "symbol": "circle"
         },
         "mode": "markers",
         "showlegend": false,
         "text": [
          "wry",
          "visceral",
          "verbose",
          "utilitarian",
          "urgent",
          "universalist",
          "transparent",
          "theoretical",
          "temperamental",
          "technical",
          "tactful",
          "systems_thinker",
          "sycophantic",
          "supportive",
          "subversive",
          "submissive",
          "structuralist",
          "stream_of_consciousness",
          "strategic",
          "stoic",
          "spontaneous",
          "spiritual",
          "speculative",
          "specialized",
          "solemn",
          "socratic",
          "skeptical",
          "serene",
          "secular",
          "savage",
          "sassy",
          "sardonic",
          "sarcastic",
          "romantic",
          "ritualistic",
          "risk_taking",
          "reverent",
          "resilient",
          "relativist",
          "regulatory",
          "reductionist",
          "rebellious",
          "reactive",
          "rationalist",
          "radical",
          "quantitative",
          "qualitative",
          "provocative",
          "progressive",
          "problem_solving",
          "proactive",
          "principled",
          "prescriptive",
          "practical",
          "pluralist",
          "playful",
          "philosophical",
          "petty",
          "pessimistic",
          "perfectionist",
          "pensive",
          "pedantic",
          "patient",
          "passive_aggressive",
          "passionate",
          "paranoid",
          "paradoxical",
          "pacifist",
          "optimistic",
          "open_ended",
          "obsessive",
          "nurturing",
          "nostalgic",
          "nonchalant",
          "nihilistic",
          "neurotic",
          "narrative",
          "naive",
          "mystical",
          "mischievous",
          "misanthropic",
          "militant",
          "meticulous",
          "mercurial",
          "melancholic",
          "meditative",
          "materialist",
          "manipulative",
          "manic",
          "libertarian",
          "judgmental",
          "irreverent",
          "ironic",
          "intuitive",
          "introverted",
          "introspective",
          "interdisciplinary",
          "inspirational",
          "inquisitive",
          "innovative",
          "individualistic",
          "independent",
          "inclusive",
          "impulsive",
          "improvisational",
          "impatient",
          "idealistic",
          "iconoclastic",
          "humble",
          "humanistic",
          "hostile",
          "holistic",
          "historical",
          "hedonistic",
          "gregarious",
          "grandiose",
          "goofy",
          "generous",
          "generalist",
          "futuristic",
          "fundamentalist",
          "formalist",
          "formal",
          "forgiving",
          "flirty",
          "flippant",
          "flexible",
          "fatalistic",
          "extroverted",
          "exploratory",
          "experiential",
          "existentialist",
          "evil",
          "ethereal",
          "essentialist",
          "esoteric",
          "erudite",
          "epicurean",
          "environmental",
          "entertaining",
          "empathetic",
          "emotional",
          "elitist",
          "egalitarian",
          "effusive",
          "educational",
          "edgy",
          "eclectic",
          "earnest",
          "dominant",
          "dogmatic",
          "divergent",
          "disorganized",
          "diplomatic",
          "deterministic",
          "detached",
          "deontological",
          "deferential",
          "deconstructionist",
          "decisive",
          "data_driven",
          "cynical",
          "curious",
          "cruel",
          "critical",
          "creative",
          "cosmopolitan",
          "convergent",
          "contrarian",
          "contemporary",
          "constructivist",
          "conscientious",
          "confrontational",
          "confident",
          "condescending",
          "conciliatory",
          "conceptual",
          "competitive",
          "collectivistic",
          "collaborative",
          "closure_seeking",
          "circumspect",
          "chill",
          "chaotic",
          "challenging",
          "cautious",
          "casual",
          "callous",
          "calculating",
          "blunt",
          "bitter",
          "big_picture",
          "benevolent",
          "assertive",
          "ascetic",
          "artistic",
          "arrogant",
          "anxious",
          "anthropocentric",
          "analytical",
          "altruistic",
          "agreeable",
          "adventurous",
          "adaptable",
          "acerbic",
          "accommodating",
          "accessible",
          "abstract",
          "absolutist"
         ],
         "type": "scatter",
         "x": [
          -457.1394686279874,
          -69.38494929797835,
          -184.77597158807262,
          290.42071323735877,
          115.70621198816427,
          272.62594979042177,
          622.6421230494129,
          -51.03560889064189,
          -399.8335047374092,
          55.86391267214403,
          363.319924541526,
          -139.18481040196605,
          44.747613422165294,
          13.99520774127451,
          -344.64804369384336,
          412.60337667650566,
          239.69888945748983,
          -182.40636542454433,
          -151.0850807201093,
          534.3315925784423,
          -422.8546025642799,
          -412.4654512289738,
          -264.4534374386629,
          -154.04122738414907,
          536.4928331306642,
          -16.773465297276356,
          -5.428390001973295,
          481.3165453346564,
          508.76288407898875,
          -67.69232614570683,
          -378.07231977678003,
          -411.6987672562645,
          -374.9709379973591,
          -578.484315222203,
          88.96316849094666,
          -191.67387294461173,
          271.9884702577499,
          479.14169000956014,
          40.852679691194425,
          513.5860470586748,
          519.3288774535077,
          -162.70439131044418,
          243.0368323934612,
          521.5157788332127,
          -146.29490985946848,
          333.5578266068457,
          -66.71810427830795,
          -295.4501178579553,
          66.41382875250467,
          19.140086054070178,
          -295.2006003813086,
          239.7736119344468,
          331.38611798500204,
          498.36081563262354,
          369.2809119505046,
          -487.2682797803968,
          -513.9473243734352,
          -247.8179470882851,
          116.23070945659927,
          88.1895001110105,
          -261.9629537708373,
          -66.78450299478523,
          391.0288637314238,
          -179.11102315682598,
          -534.9950719703097,
          -129.78219796917455,
          -135.93837284995652,
          119.26925322422372,
          394.80681244178504,
          104.52042264287627,
          -144.86122962085477,
          32.559528454667266,
          -60.157691016462195,
          221.11751023878335,
          -133.6070251535395,
          -84.21565479683146,
          -433.60522915839886,
          404.9656385418907,
          -326.1260193771541,
          -543.4477189953154,
          -237.81695545560981,
          -226.02359037628915,
          125.55070757786851,
          -394.0012501481077,
          -166.72397452232767,
          -76.8593260234118,
          484.985395733964,
          -84.46946713541797,
          -449.39775190488285,
          149.2016907911511,
          -149.66205000545682,
          -312.8065283135376,
          -514.5921032667545,
          -95.93726368036863,
          325.68096690877206,
          -209.16840353583152,
          -95.13455972351088,
          223.22620426214166,
          -179.60900533955262,
          -247.08766203176035,
          -5.084824826752223,
          192.61838654072534,
          0.9515489170157906,
          437.9723763573363,
          -43.29523990802775,
          211.16335961233966,
          34.91670130789752,
          -258.54296784168577,
          360.4627972046633,
          146.26973098050325,
          -184.01282595979058,
          -184.82872087760387,
          -120.36461912143712,
          -14.573151561682199,
          -143.83584397479402,
          -569.7581814225094,
          -521.2765406103202,
          -362.92221396071943,
          22.11261642019087,
          -73.76531735502512,
          308.5626024882027,
          324.63656345185063,
          424.10727305237333,
          202.69537345669394,
          -586.0368460875833,
          -216.52429709961893,
          463.1468896077095,
          -70.1410401757811,
          -86.52303187574887,
          -242.24599652495013,
          143.9594040709752,
          201.18035014352046,
          -212.40074191352704,
          -528.379934840828,
          250.34636629241928,
          -441.52068094878445,
          -292.407953444857,
          -254.95813488107268,
          34.40947032278111,
          -555.6218928594764,
          -28.235498240050223,
          -245.32335230533542,
          -133.18958923353193,
          98.02523712132049,
          -493.53421070894035,
          -239.21511871063583,
          -514.2796396081167,
          -248.79438365547065,
          450.3858740236168,
          33.01136725976876,
          159.20978583905497,
          -200.54980486790578,
          -182.33957275875807,
          542.1224999525535,
          -10.297410888138492,
          604.5940957310515,
          209.870270680655,
          414.48404448543516,
          -287.97237653198937,
          290.6759283411251,
          370.99609350447685,
          -17.536660123751997,
          -439.7753029161765,
          -70.69468608752933,
          -228.12052263078058,
          -493.5377011811085,
          175.4039831125354,
          349.5981097181871,
          -193.67895893075305,
          319.6921114099328,
          -38.0987551842149,
          394.04554030003305,
          54.25631955508926,
          131.263232658989,
          -230.8737491967388,
          608.2447201580146,
          110.71299054338922,
          -179.45679230787678,
          242.38912006831933,
          215.26311888332205,
          483.0579610956604,
          72.04372384318143,
          573.4598818002056,
          -47.205961691827774,
          -323.01044762103675,
          318.3537696170071,
          129.9949937602042,
          129.99817985795076,
          -43.7173873634738,
          361.73743295640674,
          -266.83936652605536,
          112.12278873402478,
          396.77190865679097,
          -25.649534365616123,
          227.04690540048495,
          -557.6356941836947,
          -164.44929558534824,
          -17.89068314776799,
          313.6852259020486,
          166.3103558876724,
          276.7010695486509,
          439.9867976668142,
          -290.76572155000616,
          88.81555417559574,
          -338.46269834210875,
          131.1213239160185,
          484.5113677686698,
          44.57129032022922,
          142.74659267402438
         ],
         "xaxis": "x",
         "y": [
          1,
          1,
          1,
          1,
          1,
          1,
          1,
          1,
          1,
          1,
          1,
          1,
          1,
          1,
          1,
          1,
          1,
          1,
          1,
          1,
          1,
          1,
          1,
          1,
          1,
          1,
          1,
          1,
          1,
          1,
          1,
          1,
          1,
          1,
          1,
          1,
          1,
          1,
          1,
          1,
          1,
          1,
          1,
          1,
          1,
          1,
          1,
          1,
          1,
          1,
          1,
          1,
          1,
          1,
          1,
          1,
          1,
          1,
          1,
          1,
          1,
          1,
          1,
          1,
          1,
          1,
          1,
          1,
          1,
          1,
          1,
          1,
          1,
          1,
          1,
          1,
          1,
          1,
          1,
          1,
          1,
          1,
          1,
          1,
          1,
          1,
          1,
          1,
          1,
          1,
          1,
          1,
          1,
          1,
          1,
          1,
          1,
          1,
          1,
          1,
          1,
          1,
          1,
          1,
          1,
          1,
          1,
          1,
          1,
          1,
          1,
          1,
          1,
          1,
          1,
          1,
          1,
          1,
          1,
          1,
          1,
          1,
          1,
          1,
          1,
          1,
          1,
          1,
          1,
          1,
          1,
          1,
          1,
          1,
          1,
          1,
          1,
          1,
          1,
          1,
          1,
          1,
          1,
          1,
          1,
          1,
          1,
          1,
          1,
          1,
          1,
          1,
          1,
          1,
          1,
          1,
          1,
          1,
          1,
          1,
          1,
          1,
          1,
          1,
          1,
          1,
          1,
          1,
          1,
          1,
          1,
          1,
          1,
          1,
          1,
          1,
          1,
          1,
          1,
          1,
          1,
          1,
          1,
          1,
          1,
          1,
          1,
          1,
          1,
          1,
          1,
          1,
          1,
          1,
          1,
          1,
          1,
          1,
          1,
          1,
          1,
          1,
          1,
          1,
          1,
          1,
          1,
          1,
          1
         ],
         "yaxis": "y"
        },
        {
         "hovertemplate": "<b>%{text}</b><br>Value: %{x:.3f}<extra></extra>",
         "marker": {
          "color": "steelblue",
          "line": {
           "color": "black",
           "width": 1
          },
          "opacity": 1,
          "size": 8,
          "symbol": "circle"
         },
         "mode": "markers",
         "showlegend": false,
         "text": [
          "zealous",
          "witty",
          "whimsical",
          "understated",
          "traditional",
          "theatrical",
          "serious",
          "rhetorical",
          "reserved",
          "poetic",
          "moderate",
          "methodical",
          "metaphorical",
          "melodramatic",
          "literal",
          "grounded",
          "factual",
          "enigmatic",
          "eloquent",
          "efficient",
          "dramatic",
          "dispassionate",
          "descriptive",
          "cryptic",
          "concise",
          "charismatic",
          "calm",
          "bombastic",
          "avoidant",
          "animated"
         ],
         "type": "scatter",
         "x": [
          -597.0986017361099,
          -759.6966645640002,
          -697.6243538895286,
          921.5896762924073,
          626.6141875559694,
          -857.2169011686937,
          652.0431731824381,
          -694.6041863608209,
          837.329625313464,
          -674.2120818808439,
          731.1619468915572,
          628.0477853419756,
          -739.3447783774312,
          -815.2750658872017,
          779.3799047949753,
          783.7020049946058,
          707.0010532155499,
          -643.1621360501049,
          -737.8877463193306,
          651.3654598078118,
          -847.5020676911423,
          796.6786713500746,
          680.0479720618829,
          -742.8105129152339,
          666.5287403377129,
          -847.6764781408707,
          831.839218801127,
          -795.5101533283481,
          700.2712411177898,
          -713.4189864450894
         ],
         "xaxis": "x",
         "y": [
          1,
          1,
          1,
          1,
          1,
          1,
          1,
          1,
          1,
          1,
          1,
          1,
          1,
          1,
          1,
          1,
          1,
          1,
          1,
          1,
          1,
          1,
          1,
          1,
          1,
          1,
          1,
          1,
          1,
          1
         ],
         "yaxis": "y"
        },
        {
         "hoverinfo": "skip",
         "line": {
          "color": "red",
          "width": 1
         },
         "mode": "lines",
         "showlegend": false,
         "type": "scatter",
         "x": [
          -857.2169011686937,
          -857.2169011686937
         ],
         "xaxis": "x",
         "y": [
          1,
          1.6
         ],
         "yaxis": "y"
        },
        {
         "hoverinfo": "skip",
         "line": {
          "color": "red",
          "width": 1
         },
         "mode": "lines",
         "showlegend": false,
         "type": "scatter",
         "x": [
          -847.6764781408707,
          -847.6764781408707
         ],
         "xaxis": "x",
         "y": [
          1,
          0.4
         ],
         "yaxis": "y"
        },
        {
         "hoverinfo": "skip",
         "line": {
          "color": "red",
          "width": 1
         },
         "mode": "lines",
         "showlegend": false,
         "type": "scatter",
         "x": [
          -847.5020676911423,
          -847.5020676911423
         ],
         "xaxis": "x",
         "y": [
          1,
          1.45
         ],
         "yaxis": "y"
        },
        {
         "hoverinfo": "skip",
         "line": {
          "color": "red",
          "width": 1
         },
         "mode": "lines",
         "showlegend": false,
         "type": "scatter",
         "x": [
          -815.2750658872017,
          -815.2750658872017
         ],
         "xaxis": "x",
         "y": [
          1,
          0.55
         ],
         "yaxis": "y"
        },
        {
         "hoverinfo": "skip",
         "line": {
          "color": "red",
          "width": 1
         },
         "mode": "lines",
         "showlegend": false,
         "type": "scatter",
         "x": [
          -795.5101533283481,
          -795.5101533283481
         ],
         "xaxis": "x",
         "y": [
          1,
          1.55
         ],
         "yaxis": "y"
        },
        {
         "hoverinfo": "skip",
         "line": {
          "color": "red",
          "width": 1
         },
         "mode": "lines",
         "showlegend": false,
         "type": "scatter",
         "x": [
          -759.6966645640002,
          -759.6966645640002
         ],
         "xaxis": "x",
         "y": [
          1,
          0.45
         ],
         "yaxis": "y"
        },
        {
         "hoverinfo": "skip",
         "line": {
          "color": "red",
          "width": 1
         },
         "mode": "lines",
         "showlegend": false,
         "type": "scatter",
         "x": [
          -742.8105129152339,
          -742.8105129152339
         ],
         "xaxis": "x",
         "y": [
          1,
          1.35
         ],
         "yaxis": "y"
        },
        {
         "hoverinfo": "skip",
         "line": {
          "color": "red",
          "width": 1
         },
         "mode": "lines",
         "showlegend": false,
         "type": "scatter",
         "x": [
          -739.3447783774312,
          -739.3447783774312
         ],
         "xaxis": "x",
         "y": [
          1,
          0.65
         ],
         "yaxis": "y"
        },
        {
         "hoverinfo": "skip",
         "line": {
          "color": "red",
          "width": 1
         },
         "mode": "lines",
         "showlegend": false,
         "type": "scatter",
         "x": [
          -737.8877463193306,
          -737.8877463193306
         ],
         "xaxis": "x",
         "y": [
          1,
          1.5
         ],
         "yaxis": "y"
        },
        {
         "hoverinfo": "skip",
         "line": {
          "color": "red",
          "width": 1
         },
         "mode": "lines",
         "showlegend": false,
         "type": "scatter",
         "x": [
          -713.4189864450894,
          -713.4189864450894
         ],
         "xaxis": "x",
         "y": [
          1,
          0.5
         ],
         "yaxis": "y"
        },
        {
         "hoverinfo": "skip",
         "line": {
          "color": "red",
          "width": 1
         },
         "mode": "lines",
         "showlegend": false,
         "type": "scatter",
         "x": [
          -697.6243538895286,
          -697.6243538895286
         ],
         "xaxis": "x",
         "y": [
          1,
          1.4
         ],
         "yaxis": "y"
        },
        {
         "hoverinfo": "skip",
         "line": {
          "color": "red",
          "width": 1
         },
         "mode": "lines",
         "showlegend": false,
         "type": "scatter",
         "x": [
          -694.6041863608209,
          -694.6041863608209
         ],
         "xaxis": "x",
         "y": [
          1,
          0.6
         ],
         "yaxis": "y"
        },
        {
         "hoverinfo": "skip",
         "line": {
          "color": "red",
          "width": 1
         },
         "mode": "lines",
         "showlegend": false,
         "type": "scatter",
         "x": [
          -674.2120818808439,
          -674.2120818808439
         ],
         "xaxis": "x",
         "y": [
          1,
          1.65
         ],
         "yaxis": "y"
        },
        {
         "hoverinfo": "skip",
         "line": {
          "color": "red",
          "width": 1
         },
         "mode": "lines",
         "showlegend": false,
         "type": "scatter",
         "x": [
          -643.1621360501049,
          -643.1621360501049
         ],
         "xaxis": "x",
         "y": [
          1,
          0.35
         ],
         "yaxis": "y"
        },
        {
         "hoverinfo": "skip",
         "line": {
          "color": "red",
          "width": 1
         },
         "mode": "lines",
         "showlegend": false,
         "type": "scatter",
         "x": [
          -597.0986017361099,
          -597.0986017361099
         ],
         "xaxis": "x",
         "y": [
          1,
          1.3
         ],
         "yaxis": "y"
        },
        {
         "hoverinfo": "skip",
         "line": {
          "color": "blue",
          "width": 1
         },
         "mode": "lines",
         "showlegend": false,
         "type": "scatter",
         "x": [
          921.5896762924073,
          921.5896762924073
         ],
         "xaxis": "x",
         "y": [
          1,
          0.7
         ],
         "yaxis": "y"
        },
        {
         "hoverinfo": "skip",
         "line": {
          "color": "blue",
          "width": 1
         },
         "mode": "lines",
         "showlegend": false,
         "type": "scatter",
         "x": [
          837.329625313464,
          837.329625313464
         ],
         "xaxis": "x",
         "y": [
          1,
          1.58
         ],
         "yaxis": "y"
        },
        {
         "hoverinfo": "skip",
         "line": {
          "color": "blue",
          "width": 1
         },
         "mode": "lines",
         "showlegend": false,
         "type": "scatter",
         "x": [
          831.839218801127,
          831.839218801127
         ],
         "xaxis": "x",
         "y": [
          1,
          0.42
         ],
         "yaxis": "y"
        },
        {
         "hoverinfo": "skip",
         "line": {
          "color": "blue",
          "width": 1
         },
         "mode": "lines",
         "showlegend": false,
         "type": "scatter",
         "x": [
          796.6786713500746,
          796.6786713500746
         ],
         "xaxis": "x",
         "y": [
          1,
          1.42
         ],
         "yaxis": "y"
        },
        {
         "hoverinfo": "skip",
         "line": {
          "color": "blue",
          "width": 1
         },
         "mode": "lines",
         "showlegend": false,
         "type": "scatter",
         "x": [
          783.7020049946058,
          783.7020049946058
         ],
         "xaxis": "x",
         "y": [
          1,
          0.58
         ],
         "yaxis": "y"
        },
        {
         "hoverinfo": "skip",
         "line": {
          "color": "blue",
          "width": 1
         },
         "mode": "lines",
         "showlegend": false,
         "type": "scatter",
         "x": [
          779.3799047949753,
          779.3799047949753
         ],
         "xaxis": "x",
         "y": [
          1,
          1.52
         ],
         "yaxis": "y"
        },
        {
         "hoverinfo": "skip",
         "line": {
          "color": "blue",
          "width": 1
         },
         "mode": "lines",
         "showlegend": false,
         "type": "scatter",
         "x": [
          731.1619468915572,
          731.1619468915572
         ],
         "xaxis": "x",
         "y": [
          1,
          0.48
         ],
         "yaxis": "y"
        },
        {
         "hoverinfo": "skip",
         "line": {
          "color": "blue",
          "width": 1
         },
         "mode": "lines",
         "showlegend": false,
         "type": "scatter",
         "x": [
          707.0010532155499,
          707.0010532155499
         ],
         "xaxis": "x",
         "y": [
          1,
          1.38
         ],
         "yaxis": "y"
        },
        {
         "hoverinfo": "skip",
         "line": {
          "color": "blue",
          "width": 1
         },
         "mode": "lines",
         "showlegend": false,
         "type": "scatter",
         "x": [
          700.2712411177898,
          700.2712411177898
         ],
         "xaxis": "x",
         "y": [
          1,
          0.62
         ],
         "yaxis": "y"
        },
        {
         "hoverinfo": "skip",
         "line": {
          "color": "blue",
          "width": 1
         },
         "mode": "lines",
         "showlegend": false,
         "type": "scatter",
         "x": [
          680.0479720618829,
          680.0479720618829
         ],
         "xaxis": "x",
         "y": [
          1,
          1.62
         ],
         "yaxis": "y"
        },
        {
         "hoverinfo": "skip",
         "line": {
          "color": "blue",
          "width": 1
         },
         "mode": "lines",
         "showlegend": false,
         "type": "scatter",
         "x": [
          666.5287403377129,
          666.5287403377129
         ],
         "xaxis": "x",
         "y": [
          1,
          0.38
         ],
         "yaxis": "y"
        },
        {
         "hoverinfo": "skip",
         "line": {
          "color": "blue",
          "width": 1
         },
         "mode": "lines",
         "showlegend": false,
         "type": "scatter",
         "x": [
          652.0431731824381,
          652.0431731824381
         ],
         "xaxis": "x",
         "y": [
          1,
          1.43
         ],
         "yaxis": "y"
        },
        {
         "hoverinfo": "skip",
         "line": {
          "color": "blue",
          "width": 1
         },
         "mode": "lines",
         "showlegend": false,
         "type": "scatter",
         "x": [
          651.3654598078118,
          651.3654598078118
         ],
         "xaxis": "x",
         "y": [
          1,
          0.67
         ],
         "yaxis": "y"
        },
        {
         "hoverinfo": "skip",
         "line": {
          "color": "blue",
          "width": 1
         },
         "mode": "lines",
         "showlegend": false,
         "type": "scatter",
         "x": [
          628.0477853419756,
          628.0477853419756
         ],
         "xaxis": "x",
         "y": [
          1,
          1.57
         ],
         "yaxis": "y"
        },
        {
         "hoverinfo": "skip",
         "line": {
          "color": "blue",
          "width": 1
         },
         "mode": "lines",
         "showlegend": false,
         "type": "scatter",
         "x": [
          626.6141875559694,
          626.6141875559694
         ],
         "xaxis": "x",
         "y": [
          1,
          0.43
         ],
         "yaxis": "y"
        },
        {
         "hovertemplate": "<b>%{text}</b><br>Value: %{x:.3f}<extra></extra>",
         "marker": {
          "color": "steelblue",
          "line": {
           "color": "black",
           "width": 1
          },
          "opacity": 1,
          "size": 8,
          "symbol": "circle"
         },
         "mode": "markers",
         "showlegend": false,
         "text": [
          "wry",
          "visceral",
          "verbose",
          "utilitarian",
          "urgent",
          "universalist",
          "transparent",
          "theoretical",
          "temperamental",
          "technical",
          "tactful",
          "systems_thinker",
          "sycophantic",
          "supportive",
          "subversive",
          "submissive",
          "structuralist",
          "stream_of_consciousness",
          "strategic",
          "stoic",
          "spontaneous",
          "spiritual",
          "speculative",
          "specialized",
          "solemn",
          "socratic",
          "skeptical",
          "serious",
          "serene",
          "savage",
          "sassy",
          "sardonic",
          "sarcastic",
          "romantic",
          "ritualistic",
          "risk_taking",
          "reverent",
          "resilient",
          "relativist",
          "regulatory",
          "rebellious",
          "reactive",
          "radical",
          "quantitative",
          "qualitative",
          "provocative",
          "progressive",
          "problem_solving",
          "proactive",
          "principled",
          "prescriptive",
          "practical",
          "poetic",
          "pluralist",
          "playful",
          "petty",
          "pessimistic",
          "perfectionist",
          "pensive",
          "pedantic",
          "patient",
          "passive_aggressive",
          "paranoid",
          "paradoxical",
          "pacifist",
          "optimistic",
          "open_ended",
          "obsessive",
          "nurturing",
          "nostalgic",
          "nonchalant",
          "nihilistic",
          "neurotic",
          "narrative",
          "naive",
          "mystical",
          "mischievous",
          "misanthropic",
          "militant",
          "meticulous",
          "methodical",
          "mercurial",
          "melancholic",
          "meditative",
          "manipulative",
          "manic",
          "libertarian",
          "judgmental",
          "irreverent",
          "ironic",
          "intuitive",
          "introverted",
          "introspective",
          "interdisciplinary",
          "inspirational",
          "inquisitive",
          "innovative",
          "individualistic",
          "independent",
          "inclusive",
          "impulsive",
          "improvisational",
          "impatient",
          "idealistic",
          "iconoclastic",
          "humble",
          "humanistic",
          "hostile",
          "holistic",
          "historical",
          "hedonistic",
          "gregarious",
          "goofy",
          "generous",
          "generalist",
          "futuristic",
          "fundamentalist",
          "formalist",
          "formal",
          "forgiving",
          "flirty",
          "flippant",
          "flexible",
          "fatalistic",
          "extroverted",
          "exploratory",
          "experiential",
          "existentialist",
          "evil",
          "ethereal",
          "essentialist",
          "esoteric",
          "erudite",
          "epicurean",
          "environmental",
          "entertaining",
          "enigmatic",
          "empathetic",
          "emotional",
          "elitist",
          "egalitarian",
          "effusive",
          "efficient",
          "educational",
          "edgy",
          "eclectic",
          "earnest",
          "dominant",
          "dogmatic",
          "divergent",
          "disorganized",
          "diplomatic",
          "deterministic",
          "detached",
          "deontological",
          "deferential",
          "deconstructionist",
          "decisive",
          "data_driven",
          "cynical",
          "curious",
          "cryptic",
          "cruel",
          "critical",
          "cosmopolitan",
          "contrarian",
          "contemporary",
          "constructivist",
          "conscientious",
          "confrontational",
          "confident",
          "condescending",
          "concise",
          "conciliatory",
          "conceptual",
          "competitive",
          "collectivistic",
          "collaborative",
          "closure_seeking",
          "circumspect",
          "chill",
          "chaotic",
          "challenging",
          "cautious",
          "casual",
          "callous",
          "calculating",
          "blunt",
          "bitter",
          "big_picture",
          "benevolent",
          "avoidant",
          "assertive",
          "ascetic",
          "artistic",
          "arrogant",
          "anxious",
          "anthropocentric",
          "animated",
          "analytical",
          "altruistic",
          "agreeable",
          "adventurous",
          "adaptable",
          "acerbic",
          "accommodating",
          "accessible",
          "abstract",
          "absolutist"
         ],
         "type": "scatter",
         "x": [
          -0.3780949769037787,
          -0.06686998466279173,
          -0.17947482331509762,
          0.44808070371400344,
          0.11174799338290113,
          0.44023622242885024,
          0.5003989995212463,
          -0.06997890644462043,
          -0.31440312034884776,
          0.055255859666355905,
          0.31550968631413817,
          -0.1874900846511703,
          0.028590230162391716,
          0.007772570641121786,
          -0.40462247010407437,
          0.31518101119617803,
          0.276182939559592,
          -0.2142188975136414,
          -0.09861529829025294,
          0.5151802753795836,
          -0.47435581116041836,
          -0.41573833650589853,
          -0.39217447197270705,
          -0.16661143324502375,
          0.42038561419546205,
          -0.012442222450749134,
          -0.00647674442993777,
          0.48793870954119206,
          0.32210351471169424,
          -0.055685724907867905,
          -0.3012850006333158,
          -0.33118100372618053,
          -0.3245203146732819,
          -0.5288553239857814,
          0.07471832148698761,
          -0.280996168373399,
          0.26587516446444925,
          0.3030477890748459,
          0.039527797180023215,
          0.5314439251262087,
          -0.1920297318113187,
          0.1950232274417758,
          -0.1573999457064838,
          0.3071231275779089,
          -0.07574162671412726,
          -0.3617792547637622,
          0.08914878385202031,
          0.015082173854399765,
          -0.2291715651112735,
          0.43534916030639753,
          0.3409394863357947,
          0.5133406152232051,
          -0.444728383981956,
          0.46315786602441783,
          -0.45984308313299194,
          -0.22352635929650527,
          0.13369774382214386,
          0.10174583629831387,
          -0.20352769013626032,
          -0.07633485473738137,
          0.24251204512212335,
          -0.1303985452788059,
          -0.14366136480506134,
          -0.19082845494046144,
          0.19130263264887104,
          0.3607479432430123,
          0.1266060586141979,
          -0.1810021908411328,
          0.01856351777284717,
          -0.07431080605721743,
          0.12794043769687222,
          -0.09798751873826649,
          -0.054299198677218316,
          -0.4376568087730382,
          0.2436013062033078,
          -0.35463150023551726,
          -0.5000233308561999,
          -0.1960538713689613,
          -0.196704252765757,
          0.1110128628971513,
          0.5208861496886896,
          -0.33658075055343145,
          -0.13338114205594975,
          -0.05099666919893651,
          -0.07705764409519282,
          -0.3448348246915198,
          0.22510711701836275,
          -0.14155267338885522,
          -0.2775920888199872,
          -0.33532810963982757,
          -0.11832860760150275,
          0.2875885998465533,
          -0.20543666839822824,
          -0.15878785571476833,
          0.14839683800114128,
          -0.12910413072345459,
          -0.3420135544026533,
          -0.009347549865087193,
          0.19292381239717432,
          0.0011147815501621069,
          0.25194345952110503,
          -0.0486526783063717,
          0.13156809781769857,
          0.0461295266605881,
          -0.33890554857000316,
          0.37589063519146315,
          0.16905907212379784,
          -0.12436800006976416,
          -0.19464556249997692,
          -0.16598768016009838,
          -0.014239972587684082,
          -0.13470642822022766,
          -0.3905721030741324,
          -0.24142993110765162,
          0.023454983859607214,
          -0.10108278891900249,
          0.2834767861538594,
          0.41886662641979716,
          0.3485064449977035,
          0.3635804664943691,
          -0.402212084306269,
          -0.14172657195631852,
          0.3652526832109869,
          -0.06154714054900432,
          -0.11470781692366323,
          -0.1995172338880608,
          0.170810960183842,
          0.18844939132931288,
          -0.16817796037988408,
          -0.4374236690309091,
          0.30367763476400106,
          -0.3627403969379206,
          -0.28017549689709614,
          -0.3376500196170237,
          0.04130666212895615,
          -0.4999613539767444,
          -0.41711391509764745,
          -0.026715625320585294,
          -0.229835117714017,
          -0.11934480023479194,
          0.09403059528982255,
          -0.4409939062307548,
          0.5423388296202938,
          -0.151209666033055,
          -0.48235126607719564,
          -0.39498041526392624,
          0.302941581143942,
          0.03444844711119947,
          0.12950000448343502,
          -0.1855622774650964,
          -0.13081316421769082,
          0.49022010166831365,
          -0.009621596651684388,
          0.5082172910730991,
          0.3592415673493408,
          0.4304164433880426,
          -0.36342994829159486,
          0.2523619953167085,
          0.4249865586939842,
          -0.018763767089130357,
          -0.31055247467143376,
          -0.4929935162620736,
          -0.05019403436009236,
          -0.28274665408211125,
          0.1656718557546051,
          -0.25131383131135804,
          0.43598634522751945,
          -0.05234655296918849,
          0.22628092865219615,
          0.056441672957818656,
          0.14208340244197193,
          -0.1911133898964949,
          0.4759764285303888,
          0.46645466839733796,
          0.14914901280942502,
          -0.16061727065079767,
          0.30235642686665604,
          0.24373703745180386,
          0.5091137471432908,
          0.07099270719542802,
          0.3827905259054353,
          -0.06655988693229749,
          -0.32659455026090545,
          0.34933956609704947,
          0.1094838171597164,
          0.08514917786447632,
          -0.04541087526819306,
          0.3159788511624041,
          -0.22061652621920444,
          0.15851125898793816,
          0.3332780884172877,
          0.37689326027631825,
          -0.035618560028019705,
          0.22785826878247573,
          -0.5399160009672797,
          -0.14279813168681954,
          -0.011743791113253787,
          0.5239918901530913,
          -0.5166094839399672,
          0.14488190692217406,
          0.26375876059227976,
          0.34699798310835556,
          -0.37480218119385633,
          0.07338853758012984,
          -0.27578862623645095,
          0.19409858502375843,
          0.3377541199321067,
          0.062052458746143256,
          0.1973666125550441
         ],
         "xaxis": "x2",
         "y": [
          1,
          1,
          1,
          1,
          1,
          1,
          1,
          1,
          1,
          1,
          1,
          1,
          1,
          1,
          1,
          1,
          1,
          1,
          1,
          1,
          1,
          1,
          1,
          1,
          1,
          1,
          1,
          1,
          1,
          1,
          1,
          1,
          1,
          1,
          1,
          1,
          1,
          1,
          1,
          1,
          1,
          1,
          1,
          1,
          1,
          1,
          1,
          1,
          1,
          1,
          1,
          1,
          1,
          1,
          1,
          1,
          1,
          1,
          1,
          1,
          1,
          1,
          1,
          1,
          1,
          1,
          1,
          1,
          1,
          1,
          1,
          1,
          1,
          1,
          1,
          1,
          1,
          1,
          1,
          1,
          1,
          1,
          1,
          1,
          1,
          1,
          1,
          1,
          1,
          1,
          1,
          1,
          1,
          1,
          1,
          1,
          1,
          1,
          1,
          1,
          1,
          1,
          1,
          1,
          1,
          1,
          1,
          1,
          1,
          1,
          1,
          1,
          1,
          1,
          1,
          1,
          1,
          1,
          1,
          1,
          1,
          1,
          1,
          1,
          1,
          1,
          1,
          1,
          1,
          1,
          1,
          1,
          1,
          1,
          1,
          1,
          1,
          1,
          1,
          1,
          1,
          1,
          1,
          1,
          1,
          1,
          1,
          1,
          1,
          1,
          1,
          1,
          1,
          1,
          1,
          1,
          1,
          1,
          1,
          1,
          1,
          1,
          1,
          1,
          1,
          1,
          1,
          1,
          1,
          1,
          1,
          1,
          1,
          1,
          1,
          1,
          1,
          1,
          1,
          1,
          1,
          1,
          1,
          1,
          1,
          1,
          1,
          1,
          1,
          1,
          1,
          1,
          1,
          1,
          1,
          1,
          1,
          1,
          1,
          1,
          1,
          1,
          1,
          1,
          1,
          1,
          1,
          1,
          1
         ],
         "yaxis": "y2"
        },
        {
         "hovertemplate": "<b>%{text}</b><br>Value: %{x:.3f}<extra></extra>",
         "marker": {
          "color": "steelblue",
          "line": {
           "color": "black",
           "width": 1
          },
          "opacity": 1,
          "size": 8,
          "symbol": "circle"
         },
         "mode": "markers",
         "showlegend": false,
         "text": [
          "zealous",
          "witty",
          "whimsical",
          "understated",
          "traditional",
          "theatrical",
          "secular",
          "rhetorical",
          "reserved",
          "reductionist",
          "rationalist",
          "philosophical",
          "passionate",
          "moderate",
          "metaphorical",
          "melodramatic",
          "materialist",
          "literal",
          "grounded",
          "grandiose",
          "factual",
          "eloquent",
          "dramatic",
          "dispassionate",
          "descriptive",
          "creative",
          "convergent",
          "charismatic",
          "calm",
          "bombastic"
         ],
         "type": "scatter",
         "x": [
          -0.5724902159672332,
          -0.5927599095093938,
          -0.6137591959783216,
          0.6106556336490732,
          0.6006266463045888,
          -0.6803192098024422,
          0.5669370024155259,
          -0.6652155064796419,
          0.708493050870802,
          0.6579895095057328,
          0.5724250427257435,
          -0.5979007456651652,
          -0.5526839684176551,
          0.5930575367281636,
          -0.5854032454066308,
          -0.7025827400171025,
          0.6042558292001566,
          0.6316567358857068,
          0.6994093858593833,
          -0.5667193200974626,
          0.6716161220678034,
          -0.5826140512744492,
          -0.7330706889822449,
          0.6112131391648116,
          0.6190336394973922,
          -0.5949320815199041,
          0.5476870856108234,
          -0.5891093408131162,
          0.5913852402519215,
          -0.6267595357809004
         ],
         "xaxis": "x2",
         "y": [
          1,
          1,
          1,
          1,
          1,
          1,
          1,
          1,
          1,
          1,
          1,
          1,
          1,
          1,
          1,
          1,
          1,
          1,
          1,
          1,
          1,
          1,
          1,
          1,
          1,
          1,
          1,
          1,
          1,
          1
         ],
         "yaxis": "y2"
        },
        {
         "hoverinfo": "skip",
         "line": {
          "color": "red",
          "width": 1
         },
         "mode": "lines",
         "showlegend": false,
         "type": "scatter",
         "x": [
          -0.7330706889822449,
          -0.7330706889822449
         ],
         "xaxis": "x2",
         "y": [
          1,
          1.6
         ],
         "yaxis": "y2"
        },
        {
         "hoverinfo": "skip",
         "line": {
          "color": "red",
          "width": 1
         },
         "mode": "lines",
         "showlegend": false,
         "type": "scatter",
         "x": [
          -0.7025827400171025,
          -0.7025827400171025
         ],
         "xaxis": "x2",
         "y": [
          1,
          0.4
         ],
         "yaxis": "y2"
        },
        {
         "hoverinfo": "skip",
         "line": {
          "color": "red",
          "width": 1
         },
         "mode": "lines",
         "showlegend": false,
         "type": "scatter",
         "x": [
          -0.6803192098024422,
          -0.6803192098024422
         ],
         "xaxis": "x2",
         "y": [
          1,
          1.45
         ],
         "yaxis": "y2"
        },
        {
         "hoverinfo": "skip",
         "line": {
          "color": "red",
          "width": 1
         },
         "mode": "lines",
         "showlegend": false,
         "type": "scatter",
         "x": [
          -0.6652155064796419,
          -0.6652155064796419
         ],
         "xaxis": "x2",
         "y": [
          1,
          0.55
         ],
         "yaxis": "y2"
        },
        {
         "hoverinfo": "skip",
         "line": {
          "color": "red",
          "width": 1
         },
         "mode": "lines",
         "showlegend": false,
         "type": "scatter",
         "x": [
          -0.6267595357809004,
          -0.6267595357809004
         ],
         "xaxis": "x2",
         "y": [
          1,
          1.55
         ],
         "yaxis": "y2"
        },
        {
         "hoverinfo": "skip",
         "line": {
          "color": "red",
          "width": 1
         },
         "mode": "lines",
         "showlegend": false,
         "type": "scatter",
         "x": [
          -0.6137591959783216,
          -0.6137591959783216
         ],
         "xaxis": "x2",
         "y": [
          1,
          0.45
         ],
         "yaxis": "y2"
        },
        {
         "hoverinfo": "skip",
         "line": {
          "color": "red",
          "width": 1
         },
         "mode": "lines",
         "showlegend": false,
         "type": "scatter",
         "x": [
          -0.5979007456651652,
          -0.5979007456651652
         ],
         "xaxis": "x2",
         "y": [
          1,
          1.35
         ],
         "yaxis": "y2"
        },
        {
         "hoverinfo": "skip",
         "line": {
          "color": "red",
          "width": 1
         },
         "mode": "lines",
         "showlegend": false,
         "type": "scatter",
         "x": [
          -0.5949320815199041,
          -0.5949320815199041
         ],
         "xaxis": "x2",
         "y": [
          1,
          0.65
         ],
         "yaxis": "y2"
        },
        {
         "hoverinfo": "skip",
         "line": {
          "color": "red",
          "width": 1
         },
         "mode": "lines",
         "showlegend": false,
         "type": "scatter",
         "x": [
          -0.5927599095093938,
          -0.5927599095093938
         ],
         "xaxis": "x2",
         "y": [
          1,
          1.5
         ],
         "yaxis": "y2"
        },
        {
         "hoverinfo": "skip",
         "line": {
          "color": "red",
          "width": 1
         },
         "mode": "lines",
         "showlegend": false,
         "type": "scatter",
         "x": [
          -0.5891093408131162,
          -0.5891093408131162
         ],
         "xaxis": "x2",
         "y": [
          1,
          0.5
         ],
         "yaxis": "y2"
        },
        {
         "hoverinfo": "skip",
         "line": {
          "color": "red",
          "width": 1
         },
         "mode": "lines",
         "showlegend": false,
         "type": "scatter",
         "x": [
          -0.5854032454066308,
          -0.5854032454066308
         ],
         "xaxis": "x2",
         "y": [
          1,
          1.4
         ],
         "yaxis": "y2"
        },
        {
         "hoverinfo": "skip",
         "line": {
          "color": "red",
          "width": 1
         },
         "mode": "lines",
         "showlegend": false,
         "type": "scatter",
         "x": [
          -0.5826140512744492,
          -0.5826140512744492
         ],
         "xaxis": "x2",
         "y": [
          1,
          0.6
         ],
         "yaxis": "y2"
        },
        {
         "hoverinfo": "skip",
         "line": {
          "color": "red",
          "width": 1
         },
         "mode": "lines",
         "showlegend": false,
         "type": "scatter",
         "x": [
          -0.5724902159672332,
          -0.5724902159672332
         ],
         "xaxis": "x2",
         "y": [
          1,
          1.65
         ],
         "yaxis": "y2"
        },
        {
         "hoverinfo": "skip",
         "line": {
          "color": "red",
          "width": 1
         },
         "mode": "lines",
         "showlegend": false,
         "type": "scatter",
         "x": [
          -0.5667193200974626,
          -0.5667193200974626
         ],
         "xaxis": "x2",
         "y": [
          1,
          0.35
         ],
         "yaxis": "y2"
        },
        {
         "hoverinfo": "skip",
         "line": {
          "color": "red",
          "width": 1
         },
         "mode": "lines",
         "showlegend": false,
         "type": "scatter",
         "x": [
          -0.5526839684176551,
          -0.5526839684176551
         ],
         "xaxis": "x2",
         "y": [
          1,
          1.3
         ],
         "yaxis": "y2"
        },
        {
         "hoverinfo": "skip",
         "line": {
          "color": "blue",
          "width": 1
         },
         "mode": "lines",
         "showlegend": false,
         "type": "scatter",
         "x": [
          0.708493050870802,
          0.708493050870802
         ],
         "xaxis": "x2",
         "y": [
          1,
          0.7
         ],
         "yaxis": "y2"
        },
        {
         "hoverinfo": "skip",
         "line": {
          "color": "blue",
          "width": 1
         },
         "mode": "lines",
         "showlegend": false,
         "type": "scatter",
         "x": [
          0.6994093858593833,
          0.6994093858593833
         ],
         "xaxis": "x2",
         "y": [
          1,
          1.58
         ],
         "yaxis": "y2"
        },
        {
         "hoverinfo": "skip",
         "line": {
          "color": "blue",
          "width": 1
         },
         "mode": "lines",
         "showlegend": false,
         "type": "scatter",
         "x": [
          0.6716161220678034,
          0.6716161220678034
         ],
         "xaxis": "x2",
         "y": [
          1,
          0.42
         ],
         "yaxis": "y2"
        },
        {
         "hoverinfo": "skip",
         "line": {
          "color": "blue",
          "width": 1
         },
         "mode": "lines",
         "showlegend": false,
         "type": "scatter",
         "x": [
          0.6579895095057328,
          0.6579895095057328
         ],
         "xaxis": "x2",
         "y": [
          1,
          1.42
         ],
         "yaxis": "y2"
        },
        {
         "hoverinfo": "skip",
         "line": {
          "color": "blue",
          "width": 1
         },
         "mode": "lines",
         "showlegend": false,
         "type": "scatter",
         "x": [
          0.6316567358857068,
          0.6316567358857068
         ],
         "xaxis": "x2",
         "y": [
          1,
          0.58
         ],
         "yaxis": "y2"
        },
        {
         "hoverinfo": "skip",
         "line": {
          "color": "blue",
          "width": 1
         },
         "mode": "lines",
         "showlegend": false,
         "type": "scatter",
         "x": [
          0.6190336394973922,
          0.6190336394973922
         ],
         "xaxis": "x2",
         "y": [
          1,
          1.52
         ],
         "yaxis": "y2"
        },
        {
         "hoverinfo": "skip",
         "line": {
          "color": "blue",
          "width": 1
         },
         "mode": "lines",
         "showlegend": false,
         "type": "scatter",
         "x": [
          0.6112131391648116,
          0.6112131391648116
         ],
         "xaxis": "x2",
         "y": [
          1,
          0.48
         ],
         "yaxis": "y2"
        },
        {
         "hoverinfo": "skip",
         "line": {
          "color": "blue",
          "width": 1
         },
         "mode": "lines",
         "showlegend": false,
         "type": "scatter",
         "x": [
          0.6106556336490732,
          0.6106556336490732
         ],
         "xaxis": "x2",
         "y": [
          1,
          1.38
         ],
         "yaxis": "y2"
        },
        {
         "hoverinfo": "skip",
         "line": {
          "color": "blue",
          "width": 1
         },
         "mode": "lines",
         "showlegend": false,
         "type": "scatter",
         "x": [
          0.6042558292001566,
          0.6042558292001566
         ],
         "xaxis": "x2",
         "y": [
          1,
          0.62
         ],
         "yaxis": "y2"
        },
        {
         "hoverinfo": "skip",
         "line": {
          "color": "blue",
          "width": 1
         },
         "mode": "lines",
         "showlegend": false,
         "type": "scatter",
         "x": [
          0.6006266463045888,
          0.6006266463045888
         ],
         "xaxis": "x2",
         "y": [
          1,
          1.62
         ],
         "yaxis": "y2"
        },
        {
         "hoverinfo": "skip",
         "line": {
          "color": "blue",
          "width": 1
         },
         "mode": "lines",
         "showlegend": false,
         "type": "scatter",
         "x": [
          0.5930575367281636,
          0.5930575367281636
         ],
         "xaxis": "x2",
         "y": [
          1,
          0.38
         ],
         "yaxis": "y2"
        },
        {
         "hoverinfo": "skip",
         "line": {
          "color": "blue",
          "width": 1
         },
         "mode": "lines",
         "showlegend": false,
         "type": "scatter",
         "x": [
          0.5913852402519215,
          0.5913852402519215
         ],
         "xaxis": "x2",
         "y": [
          1,
          1.43
         ],
         "yaxis": "y2"
        },
        {
         "hoverinfo": "skip",
         "line": {
          "color": "blue",
          "width": 1
         },
         "mode": "lines",
         "showlegend": false,
         "type": "scatter",
         "x": [
          0.5724250427257435,
          0.5724250427257435
         ],
         "xaxis": "x2",
         "y": [
          1,
          0.67
         ],
         "yaxis": "y2"
        },
        {
         "hoverinfo": "skip",
         "line": {
          "color": "blue",
          "width": 1
         },
         "mode": "lines",
         "showlegend": false,
         "type": "scatter",
         "x": [
          0.5669370024155259,
          0.5669370024155259
         ],
         "xaxis": "x2",
         "y": [
          1,
          1.57
         ],
         "yaxis": "y2"
        },
        {
         "hoverinfo": "skip",
         "line": {
          "color": "blue",
          "width": 1
         },
         "mode": "lines",
         "showlegend": false,
         "type": "scatter",
         "x": [
          0.5476870856108234,
          0.5476870856108234
         ],
         "xaxis": "x2",
         "y": [
          1,
          0.43
         ],
         "yaxis": "y2"
        }
       ],
       "layout": {
        "annotations": [
         {
          "font": {
           "size": 16
          },
          "showarrow": false,
          "text": "Correlations in Trait PCA Space",
          "x": 0.5,
          "xanchor": "center",
          "xref": "paper",
          "y": 1,
          "yanchor": "bottom",
          "yref": "paper"
         },
         {
          "font": {
           "size": 16
          },
          "showarrow": false,
          "text": "Direct Cosine Similarity Analysis",
          "x": 0.5,
          "xanchor": "center",
          "xref": "paper",
          "y": 0.425,
          "yanchor": "bottom",
          "yref": "paper"
         },
         {
          "bgcolor": "rgba(255, 255, 255, 0.9)",
          "bordercolor": "red",
          "borderwidth": 1,
          "font": {
           "color": "red",
           "size": 10
          },
          "showarrow": false,
          "text": "theatrical",
          "x": -857.2169011686937,
          "xref": "x",
          "y": 1.6,
          "yref": "y"
         },
         {
          "bgcolor": "rgba(255, 255, 255, 0.9)",
          "bordercolor": "red",
          "borderwidth": 1,
          "font": {
           "color": "red",
           "size": 10
          },
          "showarrow": false,
          "text": "charismatic",
          "x": -847.6764781408707,
          "xref": "x",
          "y": 0.4,
          "yref": "y"
         },
         {
          "bgcolor": "rgba(255, 255, 255, 0.9)",
          "bordercolor": "red",
          "borderwidth": 1,
          "font": {
           "color": "red",
           "size": 10
          },
          "showarrow": false,
          "text": "dramatic",
          "x": -847.5020676911423,
          "xref": "x",
          "y": 1.45,
          "yref": "y"
         },
         {
          "bgcolor": "rgba(255, 255, 255, 0.9)",
          "bordercolor": "red",
          "borderwidth": 1,
          "font": {
           "color": "red",
           "size": 10
          },
          "showarrow": false,
          "text": "melodramatic",
          "x": -815.2750658872017,
          "xref": "x",
          "y": 0.55,
          "yref": "y"
         },
         {
          "bgcolor": "rgba(255, 255, 255, 0.9)",
          "bordercolor": "red",
          "borderwidth": 1,
          "font": {
           "color": "red",
           "size": 10
          },
          "showarrow": false,
          "text": "bombastic",
          "x": -795.5101533283481,
          "xref": "x",
          "y": 1.55,
          "yref": "y"
         },
         {
          "bgcolor": "rgba(255, 255, 255, 0.9)",
          "bordercolor": "red",
          "borderwidth": 1,
          "font": {
           "color": "red",
           "size": 10
          },
          "showarrow": false,
          "text": "witty",
          "x": -759.6966645640002,
          "xref": "x",
          "y": 0.45,
          "yref": "y"
         },
         {
          "bgcolor": "rgba(255, 255, 255, 0.9)",
          "bordercolor": "red",
          "borderwidth": 1,
          "font": {
           "color": "red",
           "size": 10
          },
          "showarrow": false,
          "text": "cryptic",
          "x": -742.8105129152339,
          "xref": "x",
          "y": 1.35,
          "yref": "y"
         },
         {
          "bgcolor": "rgba(255, 255, 255, 0.9)",
          "bordercolor": "red",
          "borderwidth": 1,
          "font": {
           "color": "red",
           "size": 10
          },
          "showarrow": false,
          "text": "metaphorical",
          "x": -739.3447783774312,
          "xref": "x",
          "y": 0.65,
          "yref": "y"
         },
         {
          "bgcolor": "rgba(255, 255, 255, 0.9)",
          "bordercolor": "red",
          "borderwidth": 1,
          "font": {
           "color": "red",
           "size": 10
          },
          "showarrow": false,
          "text": "eloquent",
          "x": -737.8877463193306,
          "xref": "x",
          "y": 1.5,
          "yref": "y"
         },
         {
          "bgcolor": "rgba(255, 255, 255, 0.9)",
          "bordercolor": "red",
          "borderwidth": 1,
          "font": {
           "color": "red",
           "size": 10
          },
          "showarrow": false,
          "text": "animated",
          "x": -713.4189864450894,
          "xref": "x",
          "y": 0.5,
          "yref": "y"
         },
         {
          "bgcolor": "rgba(255, 255, 255, 0.9)",
          "bordercolor": "red",
          "borderwidth": 1,
          "font": {
           "color": "red",
           "size": 10
          },
          "showarrow": false,
          "text": "whimsical",
          "x": -697.6243538895286,
          "xref": "x",
          "y": 1.4,
          "yref": "y"
         },
         {
          "bgcolor": "rgba(255, 255, 255, 0.9)",
          "bordercolor": "red",
          "borderwidth": 1,
          "font": {
           "color": "red",
           "size": 10
          },
          "showarrow": false,
          "text": "rhetorical",
          "x": -694.6041863608209,
          "xref": "x",
          "y": 0.6,
          "yref": "y"
         },
         {
          "bgcolor": "rgba(255, 255, 255, 0.9)",
          "bordercolor": "red",
          "borderwidth": 1,
          "font": {
           "color": "red",
           "size": 10
          },
          "showarrow": false,
          "text": "poetic",
          "x": -674.2120818808439,
          "xref": "x",
          "y": 1.65,
          "yref": "y"
         },
         {
          "bgcolor": "rgba(255, 255, 255, 0.9)",
          "bordercolor": "red",
          "borderwidth": 1,
          "font": {
           "color": "red",
           "size": 10
          },
          "showarrow": false,
          "text": "enigmatic",
          "x": -643.1621360501049,
          "xref": "x",
          "y": 0.35,
          "yref": "y"
         },
         {
          "bgcolor": "rgba(255, 255, 255, 0.9)",
          "bordercolor": "red",
          "borderwidth": 1,
          "font": {
           "color": "red",
           "size": 10
          },
          "showarrow": false,
          "text": "zealous",
          "x": -597.0986017361099,
          "xref": "x",
          "y": 1.3,
          "yref": "y"
         },
         {
          "bgcolor": "rgba(255, 255, 255, 0.9)",
          "bordercolor": "blue",
          "borderwidth": 1,
          "font": {
           "color": "blue",
           "size": 10
          },
          "showarrow": false,
          "text": "understated",
          "x": 921.5896762924073,
          "xref": "x",
          "y": 0.7,
          "yref": "y"
         },
         {
          "bgcolor": "rgba(255, 255, 255, 0.9)",
          "bordercolor": "blue",
          "borderwidth": 1,
          "font": {
           "color": "blue",
           "size": 10
          },
          "showarrow": false,
          "text": "reserved",
          "x": 837.329625313464,
          "xref": "x",
          "y": 1.58,
          "yref": "y"
         },
         {
          "bgcolor": "rgba(255, 255, 255, 0.9)",
          "bordercolor": "blue",
          "borderwidth": 1,
          "font": {
           "color": "blue",
           "size": 10
          },
          "showarrow": false,
          "text": "calm",
          "x": 831.839218801127,
          "xref": "x",
          "y": 0.42,
          "yref": "y"
         },
         {
          "bgcolor": "rgba(255, 255, 255, 0.9)",
          "bordercolor": "blue",
          "borderwidth": 1,
          "font": {
           "color": "blue",
           "size": 10
          },
          "showarrow": false,
          "text": "dispassionate",
          "x": 796.6786713500746,
          "xref": "x",
          "y": 1.42,
          "yref": "y"
         },
         {
          "bgcolor": "rgba(255, 255, 255, 0.9)",
          "bordercolor": "blue",
          "borderwidth": 1,
          "font": {
           "color": "blue",
           "size": 10
          },
          "showarrow": false,
          "text": "grounded",
          "x": 783.7020049946058,
          "xref": "x",
          "y": 0.58,
          "yref": "y"
         },
         {
          "bgcolor": "rgba(255, 255, 255, 0.9)",
          "bordercolor": "blue",
          "borderwidth": 1,
          "font": {
           "color": "blue",
           "size": 10
          },
          "showarrow": false,
          "text": "literal",
          "x": 779.3799047949753,
          "xref": "x",
          "y": 1.52,
          "yref": "y"
         },
         {
          "bgcolor": "rgba(255, 255, 255, 0.9)",
          "bordercolor": "blue",
          "borderwidth": 1,
          "font": {
           "color": "blue",
           "size": 10
          },
          "showarrow": false,
          "text": "moderate",
          "x": 731.1619468915572,
          "xref": "x",
          "y": 0.48,
          "yref": "y"
         },
         {
          "bgcolor": "rgba(255, 255, 255, 0.9)",
          "bordercolor": "blue",
          "borderwidth": 1,
          "font": {
           "color": "blue",
           "size": 10
          },
          "showarrow": false,
          "text": "factual",
          "x": 707.0010532155499,
          "xref": "x",
          "y": 1.38,
          "yref": "y"
         },
         {
          "bgcolor": "rgba(255, 255, 255, 0.9)",
          "bordercolor": "blue",
          "borderwidth": 1,
          "font": {
           "color": "blue",
           "size": 10
          },
          "showarrow": false,
          "text": "avoidant",
          "x": 700.2712411177898,
          "xref": "x",
          "y": 0.62,
          "yref": "y"
         },
         {
          "bgcolor": "rgba(255, 255, 255, 0.9)",
          "bordercolor": "blue",
          "borderwidth": 1,
          "font": {
           "color": "blue",
           "size": 10
          },
          "showarrow": false,
          "text": "descriptive",
          "x": 680.0479720618829,
          "xref": "x",
          "y": 1.62,
          "yref": "y"
         },
         {
          "bgcolor": "rgba(255, 255, 255, 0.9)",
          "bordercolor": "blue",
          "borderwidth": 1,
          "font": {
           "color": "blue",
           "size": 10
          },
          "showarrow": false,
          "text": "concise",
          "x": 666.5287403377129,
          "xref": "x",
          "y": 0.38,
          "yref": "y"
         },
         {
          "bgcolor": "rgba(255, 255, 255, 0.9)",
          "bordercolor": "blue",
          "borderwidth": 1,
          "font": {
           "color": "blue",
           "size": 10
          },
          "showarrow": false,
          "text": "serious",
          "x": 652.0431731824381,
          "xref": "x",
          "y": 1.43,
          "yref": "y"
         },
         {
          "bgcolor": "rgba(255, 255, 255, 0.9)",
          "bordercolor": "blue",
          "borderwidth": 1,
          "font": {
           "color": "blue",
           "size": 10
          },
          "showarrow": false,
          "text": "efficient",
          "x": 651.3654598078118,
          "xref": "x",
          "y": 0.67,
          "yref": "y"
         },
         {
          "bgcolor": "rgba(255, 255, 255, 0.9)",
          "bordercolor": "blue",
          "borderwidth": 1,
          "font": {
           "color": "blue",
           "size": 10
          },
          "showarrow": false,
          "text": "methodical",
          "x": 628.0477853419756,
          "xref": "x",
          "y": 1.57,
          "yref": "y"
         },
         {
          "bgcolor": "rgba(255, 255, 255, 0.9)",
          "bordercolor": "blue",
          "borderwidth": 1,
          "font": {
           "color": "blue",
           "size": 10
          },
          "showarrow": false,
          "text": "traditional",
          "x": 626.6141875559694,
          "xref": "x",
          "y": 0.43,
          "yref": "y"
         },
         {
          "bgcolor": "rgba(255, 255, 255, 0.9)",
          "bordercolor": "red",
          "borderwidth": 1,
          "font": {
           "color": "red",
           "size": 10
          },
          "showarrow": false,
          "text": "dramatic",
          "x": -0.7330706889822449,
          "xref": "x2",
          "y": 1.6,
          "yref": "y2"
         },
         {
          "bgcolor": "rgba(255, 255, 255, 0.9)",
          "bordercolor": "red",
          "borderwidth": 1,
          "font": {
           "color": "red",
           "size": 10
          },
          "showarrow": false,
          "text": "melodramatic",
          "x": -0.7025827400171025,
          "xref": "x2",
          "y": 0.4,
          "yref": "y2"
         },
         {
          "bgcolor": "rgba(255, 255, 255, 0.9)",
          "bordercolor": "red",
          "borderwidth": 1,
          "font": {
           "color": "red",
           "size": 10
          },
          "showarrow": false,
          "text": "theatrical",
          "x": -0.6803192098024422,
          "xref": "x2",
          "y": 1.45,
          "yref": "y2"
         },
         {
          "bgcolor": "rgba(255, 255, 255, 0.9)",
          "bordercolor": "red",
          "borderwidth": 1,
          "font": {
           "color": "red",
           "size": 10
          },
          "showarrow": false,
          "text": "rhetorical",
          "x": -0.6652155064796419,
          "xref": "x2",
          "y": 0.55,
          "yref": "y2"
         },
         {
          "bgcolor": "rgba(255, 255, 255, 0.9)",
          "bordercolor": "red",
          "borderwidth": 1,
          "font": {
           "color": "red",
           "size": 10
          },
          "showarrow": false,
          "text": "bombastic",
          "x": -0.6267595357809004,
          "xref": "x2",
          "y": 1.55,
          "yref": "y2"
         },
         {
          "bgcolor": "rgba(255, 255, 255, 0.9)",
          "bordercolor": "red",
          "borderwidth": 1,
          "font": {
           "color": "red",
           "size": 10
          },
          "showarrow": false,
          "text": "whimsical",
          "x": -0.6137591959783216,
          "xref": "x2",
          "y": 0.45,
          "yref": "y2"
         },
         {
          "bgcolor": "rgba(255, 255, 255, 0.9)",
          "bordercolor": "red",
          "borderwidth": 1,
          "font": {
           "color": "red",
           "size": 10
          },
          "showarrow": false,
          "text": "philosophical",
          "x": -0.5979007456651652,
          "xref": "x2",
          "y": 1.35,
          "yref": "y2"
         },
         {
          "bgcolor": "rgba(255, 255, 255, 0.9)",
          "bordercolor": "red",
          "borderwidth": 1,
          "font": {
           "color": "red",
           "size": 10
          },
          "showarrow": false,
          "text": "creative",
          "x": -0.5949320815199041,
          "xref": "x2",
          "y": 0.65,
          "yref": "y2"
         },
         {
          "bgcolor": "rgba(255, 255, 255, 0.9)",
          "bordercolor": "red",
          "borderwidth": 1,
          "font": {
           "color": "red",
           "size": 10
          },
          "showarrow": false,
          "text": "witty",
          "x": -0.5927599095093938,
          "xref": "x2",
          "y": 1.5,
          "yref": "y2"
         },
         {
          "bgcolor": "rgba(255, 255, 255, 0.9)",
          "bordercolor": "red",
          "borderwidth": 1,
          "font": {
           "color": "red",
           "size": 10
          },
          "showarrow": false,
          "text": "charismatic",
          "x": -0.5891093408131162,
          "xref": "x2",
          "y": 0.5,
          "yref": "y2"
         },
         {
          "bgcolor": "rgba(255, 255, 255, 0.9)",
          "bordercolor": "red",
          "borderwidth": 1,
          "font": {
           "color": "red",
           "size": 10
          },
          "showarrow": false,
          "text": "metaphorical",
          "x": -0.5854032454066308,
          "xref": "x2",
          "y": 1.4,
          "yref": "y2"
         },
         {
          "bgcolor": "rgba(255, 255, 255, 0.9)",
          "bordercolor": "red",
          "borderwidth": 1,
          "font": {
           "color": "red",
           "size": 10
          },
          "showarrow": false,
          "text": "eloquent",
          "x": -0.5826140512744492,
          "xref": "x2",
          "y": 0.6,
          "yref": "y2"
         },
         {
          "bgcolor": "rgba(255, 255, 255, 0.9)",
          "bordercolor": "red",
          "borderwidth": 1,
          "font": {
           "color": "red",
           "size": 10
          },
          "showarrow": false,
          "text": "zealous",
          "x": -0.5724902159672332,
          "xref": "x2",
          "y": 1.65,
          "yref": "y2"
         },
         {
          "bgcolor": "rgba(255, 255, 255, 0.9)",
          "bordercolor": "red",
          "borderwidth": 1,
          "font": {
           "color": "red",
           "size": 10
          },
          "showarrow": false,
          "text": "grandiose",
          "x": -0.5667193200974626,
          "xref": "x2",
          "y": 0.35,
          "yref": "y2"
         },
         {
          "bgcolor": "rgba(255, 255, 255, 0.9)",
          "bordercolor": "red",
          "borderwidth": 1,
          "font": {
           "color": "red",
           "size": 10
          },
          "showarrow": false,
          "text": "passionate",
          "x": -0.5526839684176551,
          "xref": "x2",
          "y": 1.3,
          "yref": "y2"
         },
         {
          "bgcolor": "rgba(255, 255, 255, 0.9)",
          "bordercolor": "blue",
          "borderwidth": 1,
          "font": {
           "color": "blue",
           "size": 10
          },
          "showarrow": false,
          "text": "reserved",
          "x": 0.708493050870802,
          "xref": "x2",
          "y": 0.7,
          "yref": "y2"
         },
         {
          "bgcolor": "rgba(255, 255, 255, 0.9)",
          "bordercolor": "blue",
          "borderwidth": 1,
          "font": {
           "color": "blue",
           "size": 10
          },
          "showarrow": false,
          "text": "grounded",
          "x": 0.6994093858593833,
          "xref": "x2",
          "y": 1.58,
          "yref": "y2"
         },
         {
          "bgcolor": "rgba(255, 255, 255, 0.9)",
          "bordercolor": "blue",
          "borderwidth": 1,
          "font": {
           "color": "blue",
           "size": 10
          },
          "showarrow": false,
          "text": "factual",
          "x": 0.6716161220678034,
          "xref": "x2",
          "y": 0.42,
          "yref": "y2"
         },
         {
          "bgcolor": "rgba(255, 255, 255, 0.9)",
          "bordercolor": "blue",
          "borderwidth": 1,
          "font": {
           "color": "blue",
           "size": 10
          },
          "showarrow": false,
          "text": "reductionist",
          "x": 0.6579895095057328,
          "xref": "x2",
          "y": 1.42,
          "yref": "y2"
         },
         {
          "bgcolor": "rgba(255, 255, 255, 0.9)",
          "bordercolor": "blue",
          "borderwidth": 1,
          "font": {
           "color": "blue",
           "size": 10
          },
          "showarrow": false,
          "text": "literal",
          "x": 0.6316567358857068,
          "xref": "x2",
          "y": 0.58,
          "yref": "y2"
         },
         {
          "bgcolor": "rgba(255, 255, 255, 0.9)",
          "bordercolor": "blue",
          "borderwidth": 1,
          "font": {
           "color": "blue",
           "size": 10
          },
          "showarrow": false,
          "text": "descriptive",
          "x": 0.6190336394973922,
          "xref": "x2",
          "y": 1.52,
          "yref": "y2"
         },
         {
          "bgcolor": "rgba(255, 255, 255, 0.9)",
          "bordercolor": "blue",
          "borderwidth": 1,
          "font": {
           "color": "blue",
           "size": 10
          },
          "showarrow": false,
          "text": "dispassionate",
          "x": 0.6112131391648116,
          "xref": "x2",
          "y": 0.48,
          "yref": "y2"
         },
         {
          "bgcolor": "rgba(255, 255, 255, 0.9)",
          "bordercolor": "blue",
          "borderwidth": 1,
          "font": {
           "color": "blue",
           "size": 10
          },
          "showarrow": false,
          "text": "understated",
          "x": 0.6106556336490732,
          "xref": "x2",
          "y": 1.38,
          "yref": "y2"
         },
         {
          "bgcolor": "rgba(255, 255, 255, 0.9)",
          "bordercolor": "blue",
          "borderwidth": 1,
          "font": {
           "color": "blue",
           "size": 10
          },
          "showarrow": false,
          "text": "materialist",
          "x": 0.6042558292001566,
          "xref": "x2",
          "y": 0.62,
          "yref": "y2"
         },
         {
          "bgcolor": "rgba(255, 255, 255, 0.9)",
          "bordercolor": "blue",
          "borderwidth": 1,
          "font": {
           "color": "blue",
           "size": 10
          },
          "showarrow": false,
          "text": "traditional",
          "x": 0.6006266463045888,
          "xref": "x2",
          "y": 1.62,
          "yref": "y2"
         },
         {
          "bgcolor": "rgba(255, 255, 255, 0.9)",
          "bordercolor": "blue",
          "borderwidth": 1,
          "font": {
           "color": "blue",
           "size": 10
          },
          "showarrow": false,
          "text": "moderate",
          "x": 0.5930575367281636,
          "xref": "x2",
          "y": 0.38,
          "yref": "y2"
         },
         {
          "bgcolor": "rgba(255, 255, 255, 0.9)",
          "bordercolor": "blue",
          "borderwidth": 1,
          "font": {
           "color": "blue",
           "size": 10
          },
          "showarrow": false,
          "text": "calm",
          "x": 0.5913852402519215,
          "xref": "x2",
          "y": 1.43,
          "yref": "y2"
         },
         {
          "bgcolor": "rgba(255, 255, 255, 0.9)",
          "bordercolor": "blue",
          "borderwidth": 1,
          "font": {
           "color": "blue",
           "size": 10
          },
          "showarrow": false,
          "text": "rationalist",
          "x": 0.5724250427257435,
          "xref": "x2",
          "y": 0.67,
          "yref": "y2"
         },
         {
          "bgcolor": "rgba(255, 255, 255, 0.9)",
          "bordercolor": "blue",
          "borderwidth": 1,
          "font": {
           "color": "blue",
           "size": 10
          },
          "showarrow": false,
          "text": "secular",
          "x": 0.5669370024155259,
          "xref": "x2",
          "y": 1.57,
          "yref": "y2"
         },
         {
          "bgcolor": "rgba(255, 255, 255, 0.9)",
          "bordercolor": "blue",
          "borderwidth": 1,
          "font": {
           "color": "blue",
           "size": 10
          },
          "showarrow": false,
          "text": "convergent",
          "x": 0.5476870856108234,
          "xref": "x2",
          "y": 0.43,
          "yref": "y2"
         }
        ],
        "height": 800,
        "shapes": [
         {
          "line": {
           "color": "gray",
           "dash": "solid",
           "width": 1
          },
          "opacity": 0.7,
          "type": "line",
          "x0": 0,
          "x1": 0,
          "xref": "x",
          "y0": 0,
          "y1": 1,
          "yref": "y domain"
         },
         {
          "line": {
           "color": "gray",
           "dash": "solid",
           "width": 1
          },
          "opacity": 0.7,
          "type": "line",
          "x0": 0,
          "x1": 0,
          "xref": "x2",
          "y0": 0,
          "y1": 1,
          "yref": "y2 domain"
         }
        ],
        "showlegend": false,
        "template": {
         "data": {
          "bar": [
           {
            "error_x": {
             "color": "#2a3f5f"
            },
            "error_y": {
             "color": "#2a3f5f"
            },
            "marker": {
             "line": {
              "color": "#E5ECF6",
              "width": 0.5
             },
             "pattern": {
              "fillmode": "overlay",
              "size": 10,
              "solidity": 0.2
             }
            },
            "type": "bar"
           }
          ],
          "barpolar": [
           {
            "marker": {
             "line": {
              "color": "#E5ECF6",
              "width": 0.5
             },
             "pattern": {
              "fillmode": "overlay",
              "size": 10,
              "solidity": 0.2
             }
            },
            "type": "barpolar"
           }
          ],
          "carpet": [
           {
            "aaxis": {
             "endlinecolor": "#2a3f5f",
             "gridcolor": "white",
             "linecolor": "white",
             "minorgridcolor": "white",
             "startlinecolor": "#2a3f5f"
            },
            "baxis": {
             "endlinecolor": "#2a3f5f",
             "gridcolor": "white",
             "linecolor": "white",
             "minorgridcolor": "white",
             "startlinecolor": "#2a3f5f"
            },
            "type": "carpet"
           }
          ],
          "choropleth": [
           {
            "colorbar": {
             "outlinewidth": 0,
             "ticks": ""
            },
            "type": "choropleth"
           }
          ],
          "contour": [
           {
            "colorbar": {
             "outlinewidth": 0,
             "ticks": ""
            },
            "colorscale": [
             [
              0,
              "#0d0887"
             ],
             [
              0.1111111111111111,
              "#46039f"
             ],
             [
              0.2222222222222222,
              "#7201a8"
             ],
             [
              0.3333333333333333,
              "#9c179e"
             ],
             [
              0.4444444444444444,
              "#bd3786"
             ],
             [
              0.5555555555555556,
              "#d8576b"
             ],
             [
              0.6666666666666666,
              "#ed7953"
             ],
             [
              0.7777777777777778,
              "#fb9f3a"
             ],
             [
              0.8888888888888888,
              "#fdca26"
             ],
             [
              1,
              "#f0f921"
             ]
            ],
            "type": "contour"
           }
          ],
          "contourcarpet": [
           {
            "colorbar": {
             "outlinewidth": 0,
             "ticks": ""
            },
            "type": "contourcarpet"
           }
          ],
          "heatmap": [
           {
            "colorbar": {
             "outlinewidth": 0,
             "ticks": ""
            },
            "colorscale": [
             [
              0,
              "#0d0887"
             ],
             [
              0.1111111111111111,
              "#46039f"
             ],
             [
              0.2222222222222222,
              "#7201a8"
             ],
             [
              0.3333333333333333,
              "#9c179e"
             ],
             [
              0.4444444444444444,
              "#bd3786"
             ],
             [
              0.5555555555555556,
              "#d8576b"
             ],
             [
              0.6666666666666666,
              "#ed7953"
             ],
             [
              0.7777777777777778,
              "#fb9f3a"
             ],
             [
              0.8888888888888888,
              "#fdca26"
             ],
             [
              1,
              "#f0f921"
             ]
            ],
            "type": "heatmap"
           }
          ],
          "heatmapgl": [
           {
            "colorbar": {
             "outlinewidth": 0,
             "ticks": ""
            },
            "colorscale": [
             [
              0,
              "#0d0887"
             ],
             [
              0.1111111111111111,
              "#46039f"
             ],
             [
              0.2222222222222222,
              "#7201a8"
             ],
             [
              0.3333333333333333,
              "#9c179e"
             ],
             [
              0.4444444444444444,
              "#bd3786"
             ],
             [
              0.5555555555555556,
              "#d8576b"
             ],
             [
              0.6666666666666666,
              "#ed7953"
             ],
             [
              0.7777777777777778,
              "#fb9f3a"
             ],
             [
              0.8888888888888888,
              "#fdca26"
             ],
             [
              1,
              "#f0f921"
             ]
            ],
            "type": "heatmapgl"
           }
          ],
          "histogram": [
           {
            "marker": {
             "pattern": {
              "fillmode": "overlay",
              "size": 10,
              "solidity": 0.2
             }
            },
            "type": "histogram"
           }
          ],
          "histogram2d": [
           {
            "colorbar": {
             "outlinewidth": 0,
             "ticks": ""
            },
            "colorscale": [
             [
              0,
              "#0d0887"
             ],
             [
              0.1111111111111111,
              "#46039f"
             ],
             [
              0.2222222222222222,
              "#7201a8"
             ],
             [
              0.3333333333333333,
              "#9c179e"
             ],
             [
              0.4444444444444444,
              "#bd3786"
             ],
             [
              0.5555555555555556,
              "#d8576b"
             ],
             [
              0.6666666666666666,
              "#ed7953"
             ],
             [
              0.7777777777777778,
              "#fb9f3a"
             ],
             [
              0.8888888888888888,
              "#fdca26"
             ],
             [
              1,
              "#f0f921"
             ]
            ],
            "type": "histogram2d"
           }
          ],
          "histogram2dcontour": [
           {
            "colorbar": {
             "outlinewidth": 0,
             "ticks": ""
            },
            "colorscale": [
             [
              0,
              "#0d0887"
             ],
             [
              0.1111111111111111,
              "#46039f"
             ],
             [
              0.2222222222222222,
              "#7201a8"
             ],
             [
              0.3333333333333333,
              "#9c179e"
             ],
             [
              0.4444444444444444,
              "#bd3786"
             ],
             [
              0.5555555555555556,
              "#d8576b"
             ],
             [
              0.6666666666666666,
              "#ed7953"
             ],
             [
              0.7777777777777778,
              "#fb9f3a"
             ],
             [
              0.8888888888888888,
              "#fdca26"
             ],
             [
              1,
              "#f0f921"
             ]
            ],
            "type": "histogram2dcontour"
           }
          ],
          "mesh3d": [
           {
            "colorbar": {
             "outlinewidth": 0,
             "ticks": ""
            },
            "type": "mesh3d"
           }
          ],
          "parcoords": [
           {
            "line": {
             "colorbar": {
              "outlinewidth": 0,
              "ticks": ""
             }
            },
            "type": "parcoords"
           }
          ],
          "pie": [
           {
            "automargin": true,
            "type": "pie"
           }
          ],
          "scatter": [
           {
            "fillpattern": {
             "fillmode": "overlay",
             "size": 10,
             "solidity": 0.2
            },
            "type": "scatter"
           }
          ],
          "scatter3d": [
           {
            "line": {
             "colorbar": {
              "outlinewidth": 0,
              "ticks": ""
             }
            },
            "marker": {
             "colorbar": {
              "outlinewidth": 0,
              "ticks": ""
             }
            },
            "type": "scatter3d"
           }
          ],
          "scattercarpet": [
           {
            "marker": {
             "colorbar": {
              "outlinewidth": 0,
              "ticks": ""
             }
            },
            "type": "scattercarpet"
           }
          ],
          "scattergeo": [
           {
            "marker": {
             "colorbar": {
              "outlinewidth": 0,
              "ticks": ""
             }
            },
            "type": "scattergeo"
           }
          ],
          "scattergl": [
           {
            "marker": {
             "colorbar": {
              "outlinewidth": 0,
              "ticks": ""
             }
            },
            "type": "scattergl"
           }
          ],
          "scattermapbox": [
           {
            "marker": {
             "colorbar": {
              "outlinewidth": 0,
              "ticks": ""
             }
            },
            "type": "scattermapbox"
           }
          ],
          "scatterpolar": [
           {
            "marker": {
             "colorbar": {
              "outlinewidth": 0,
              "ticks": ""
             }
            },
            "type": "scatterpolar"
           }
          ],
          "scatterpolargl": [
           {
            "marker": {
             "colorbar": {
              "outlinewidth": 0,
              "ticks": ""
             }
            },
            "type": "scatterpolargl"
           }
          ],
          "scatterternary": [
           {
            "marker": {
             "colorbar": {
              "outlinewidth": 0,
              "ticks": ""
             }
            },
            "type": "scatterternary"
           }
          ],
          "surface": [
           {
            "colorbar": {
             "outlinewidth": 0,
             "ticks": ""
            },
            "colorscale": [
             [
              0,
              "#0d0887"
             ],
             [
              0.1111111111111111,
              "#46039f"
             ],
             [
              0.2222222222222222,
              "#7201a8"
             ],
             [
              0.3333333333333333,
              "#9c179e"
             ],
             [
              0.4444444444444444,
              "#bd3786"
             ],
             [
              0.5555555555555556,
              "#d8576b"
             ],
             [
              0.6666666666666666,
              "#ed7953"
             ],
             [
              0.7777777777777778,
              "#fb9f3a"
             ],
             [
              0.8888888888888888,
              "#fdca26"
             ],
             [
              1,
              "#f0f921"
             ]
            ],
            "type": "surface"
           }
          ],
          "table": [
           {
            "cells": {
             "fill": {
              "color": "#EBF0F8"
             },
             "line": {
              "color": "white"
             }
            },
            "header": {
             "fill": {
              "color": "#C8D4E3"
             },
             "line": {
              "color": "white"
             }
            },
            "type": "table"
           }
          ]
         },
         "layout": {
          "annotationdefaults": {
           "arrowcolor": "#2a3f5f",
           "arrowhead": 0,
           "arrowwidth": 1
          },
          "autotypenumbers": "strict",
          "coloraxis": {
           "colorbar": {
            "outlinewidth": 0,
            "ticks": ""
           }
          },
          "colorscale": {
           "diverging": [
            [
             0,
             "#8e0152"
            ],
            [
             0.1,
             "#c51b7d"
            ],
            [
             0.2,
             "#de77ae"
            ],
            [
             0.3,
             "#f1b6da"
            ],
            [
             0.4,
             "#fde0ef"
            ],
            [
             0.5,
             "#f7f7f7"
            ],
            [
             0.6,
             "#e6f5d0"
            ],
            [
             0.7,
             "#b8e186"
            ],
            [
             0.8,
             "#7fbc41"
            ],
            [
             0.9,
             "#4d9221"
            ],
            [
             1,
             "#276419"
            ]
           ],
           "sequential": [
            [
             0,
             "#0d0887"
            ],
            [
             0.1111111111111111,
             "#46039f"
            ],
            [
             0.2222222222222222,
             "#7201a8"
            ],
            [
             0.3333333333333333,
             "#9c179e"
            ],
            [
             0.4444444444444444,
             "#bd3786"
            ],
            [
             0.5555555555555556,
             "#d8576b"
            ],
            [
             0.6666666666666666,
             "#ed7953"
            ],
            [
             0.7777777777777778,
             "#fb9f3a"
            ],
            [
             0.8888888888888888,
             "#fdca26"
            ],
            [
             1,
             "#f0f921"
            ]
           ],
           "sequentialminus": [
            [
             0,
             "#0d0887"
            ],
            [
             0.1111111111111111,
             "#46039f"
            ],
            [
             0.2222222222222222,
             "#7201a8"
            ],
            [
             0.3333333333333333,
             "#9c179e"
            ],
            [
             0.4444444444444444,
             "#bd3786"
            ],
            [
             0.5555555555555556,
             "#d8576b"
            ],
            [
             0.6666666666666666,
             "#ed7953"
            ],
            [
             0.7777777777777778,
             "#fb9f3a"
            ],
            [
             0.8888888888888888,
             "#fdca26"
            ],
            [
             1,
             "#f0f921"
            ]
           ]
          },
          "colorway": [
           "#636efa",
           "#EF553B",
           "#00cc96",
           "#ab63fa",
           "#FFA15A",
           "#19d3f3",
           "#FF6692",
           "#B6E880",
           "#FF97FF",
           "#FECB52"
          ],
          "font": {
           "color": "#2a3f5f"
          },
          "geo": {
           "bgcolor": "white",
           "lakecolor": "white",
           "landcolor": "#E5ECF6",
           "showlakes": true,
           "showland": true,
           "subunitcolor": "white"
          },
          "hoverlabel": {
           "align": "left"
          },
          "hovermode": "closest",
          "mapbox": {
           "style": "light"
          },
          "paper_bgcolor": "white",
          "plot_bgcolor": "#E5ECF6",
          "polar": {
           "angularaxis": {
            "gridcolor": "white",
            "linecolor": "white",
            "ticks": ""
           },
           "bgcolor": "#E5ECF6",
           "radialaxis": {
            "gridcolor": "white",
            "linecolor": "white",
            "ticks": ""
           }
          },
          "scene": {
           "xaxis": {
            "backgroundcolor": "#E5ECF6",
            "gridcolor": "white",
            "gridwidth": 2,
            "linecolor": "white",
            "showbackground": true,
            "ticks": "",
            "zerolinecolor": "white"
           },
           "yaxis": {
            "backgroundcolor": "#E5ECF6",
            "gridcolor": "white",
            "gridwidth": 2,
            "linecolor": "white",
            "showbackground": true,
            "ticks": "",
            "zerolinecolor": "white"
           },
           "zaxis": {
            "backgroundcolor": "#E5ECF6",
            "gridcolor": "white",
            "gridwidth": 2,
            "linecolor": "white",
            "showbackground": true,
            "ticks": "",
            "zerolinecolor": "white"
           }
          },
          "shapedefaults": {
           "line": {
            "color": "#2a3f5f"
           }
          },
          "ternary": {
           "aaxis": {
            "gridcolor": "white",
            "linecolor": "white",
            "ticks": ""
           },
           "baxis": {
            "gridcolor": "white",
            "linecolor": "white",
            "ticks": ""
           },
           "bgcolor": "#E5ECF6",
           "caxis": {
            "gridcolor": "white",
            "linecolor": "white",
            "ticks": ""
           }
          },
          "title": {
           "x": 0.05
          },
          "xaxis": {
           "automargin": true,
           "gridcolor": "white",
           "linecolor": "white",
           "ticks": "",
           "title": {
            "standoff": 15
           },
           "zerolinecolor": "white",
           "zerolinewidth": 2
          },
          "yaxis": {
           "automargin": true,
           "gridcolor": "white",
           "linecolor": "white",
           "ticks": "",
           "title": {
            "standoff": 15
           },
           "zerolinecolor": "white",
           "zerolinewidth": 2
          }
         }
        },
        "title": {
         "font": {
          "size": 16
         },
         "subtitle": {
          "text": "Gemma 2 27B, Layer 22 | 239 traits"
         },
         "text": "Role PC1 (Assistant-like vs Role-playing) Compared to Traits",
         "x": 0.5
        },
        "xaxis": {
         "anchor": "y",
         "domain": [
          0,
          1
         ],
         "range": [
          -1013.7486439216481,
          1013.7486439216481
         ],
         "title": {
          "text": "Projection onto Role PC1"
         }
        },
        "xaxis2": {
         "anchor": "y2",
         "domain": [
          0,
          1
         ],
         "range": [
          -0.8063777578804695,
          0.8063777578804695
         ],
         "title": {
          "text": "Cosine Similarity with Role PC1"
         }
        },
        "yaxis": {
         "anchor": "x",
         "domain": [
          0.575,
          1
         ],
         "range": [
          0.25,
          1.75
         ],
         "showticklabels": false,
         "title": {
          "text": ""
         }
        },
        "yaxis2": {
         "anchor": "x2",
         "domain": [
          0,
          0.425
         ],
         "range": [
          0.25,
          1.75
         ],
         "showticklabels": false,
         "title": {
          "text": ""
         }
        }
       }
      },
      "text/html": [
       "<div>                            <div id=\"f5105cb8-343f-4e02-a494-5d8c6ca7d0ad\" class=\"plotly-graph-div\" style=\"height:800px; width:100%;\"></div>            <script type=\"text/javascript\">                require([\"plotly\"], function(Plotly) {                    window.PLOTLYENV=window.PLOTLYENV || {};                                    if (document.getElementById(\"f5105cb8-343f-4e02-a494-5d8c6ca7d0ad\")) {                    Plotly.newPlot(                        \"f5105cb8-343f-4e02-a494-5d8c6ca7d0ad\",                        [{\"hovertemplate\":\"\\u003cb\\u003e%{text}\\u003c\\u002fb\\u003e\\u003cbr\\u003eValue: %{x:.3f}\\u003cextra\\u003e\\u003c\\u002fextra\\u003e\",\"marker\":{\"color\":\"steelblue\",\"line\":{\"color\":\"black\",\"width\":1},\"opacity\":1.0,\"size\":8,\"symbol\":\"circle\"},\"mode\":\"markers\",\"showlegend\":false,\"text\":[\"wry\",\"visceral\",\"verbose\",\"utilitarian\",\"urgent\",\"universalist\",\"transparent\",\"theoretical\",\"temperamental\",\"technical\",\"tactful\",\"systems_thinker\",\"sycophantic\",\"supportive\",\"subversive\",\"submissive\",\"structuralist\",\"stream_of_consciousness\",\"strategic\",\"stoic\",\"spontaneous\",\"spiritual\",\"speculative\",\"specialized\",\"solemn\",\"socratic\",\"skeptical\",\"serene\",\"secular\",\"savage\",\"sassy\",\"sardonic\",\"sarcastic\",\"romantic\",\"ritualistic\",\"risk_taking\",\"reverent\",\"resilient\",\"relativist\",\"regulatory\",\"reductionist\",\"rebellious\",\"reactive\",\"rationalist\",\"radical\",\"quantitative\",\"qualitative\",\"provocative\",\"progressive\",\"problem_solving\",\"proactive\",\"principled\",\"prescriptive\",\"practical\",\"pluralist\",\"playful\",\"philosophical\",\"petty\",\"pessimistic\",\"perfectionist\",\"pensive\",\"pedantic\",\"patient\",\"passive_aggressive\",\"passionate\",\"paranoid\",\"paradoxical\",\"pacifist\",\"optimistic\",\"open_ended\",\"obsessive\",\"nurturing\",\"nostalgic\",\"nonchalant\",\"nihilistic\",\"neurotic\",\"narrative\",\"naive\",\"mystical\",\"mischievous\",\"misanthropic\",\"militant\",\"meticulous\",\"mercurial\",\"melancholic\",\"meditative\",\"materialist\",\"manipulative\",\"manic\",\"libertarian\",\"judgmental\",\"irreverent\",\"ironic\",\"intuitive\",\"introverted\",\"introspective\",\"interdisciplinary\",\"inspirational\",\"inquisitive\",\"innovative\",\"individualistic\",\"independent\",\"inclusive\",\"impulsive\",\"improvisational\",\"impatient\",\"idealistic\",\"iconoclastic\",\"humble\",\"humanistic\",\"hostile\",\"holistic\",\"historical\",\"hedonistic\",\"gregarious\",\"grandiose\",\"goofy\",\"generous\",\"generalist\",\"futuristic\",\"fundamentalist\",\"formalist\",\"formal\",\"forgiving\",\"flirty\",\"flippant\",\"flexible\",\"fatalistic\",\"extroverted\",\"exploratory\",\"experiential\",\"existentialist\",\"evil\",\"ethereal\",\"essentialist\",\"esoteric\",\"erudite\",\"epicurean\",\"environmental\",\"entertaining\",\"empathetic\",\"emotional\",\"elitist\",\"egalitarian\",\"effusive\",\"educational\",\"edgy\",\"eclectic\",\"earnest\",\"dominant\",\"dogmatic\",\"divergent\",\"disorganized\",\"diplomatic\",\"deterministic\",\"detached\",\"deontological\",\"deferential\",\"deconstructionist\",\"decisive\",\"data_driven\",\"cynical\",\"curious\",\"cruel\",\"critical\",\"creative\",\"cosmopolitan\",\"convergent\",\"contrarian\",\"contemporary\",\"constructivist\",\"conscientious\",\"confrontational\",\"confident\",\"condescending\",\"conciliatory\",\"conceptual\",\"competitive\",\"collectivistic\",\"collaborative\",\"closure_seeking\",\"circumspect\",\"chill\",\"chaotic\",\"challenging\",\"cautious\",\"casual\",\"callous\",\"calculating\",\"blunt\",\"bitter\",\"big_picture\",\"benevolent\",\"assertive\",\"ascetic\",\"artistic\",\"arrogant\",\"anxious\",\"anthropocentric\",\"analytical\",\"altruistic\",\"agreeable\",\"adventurous\",\"adaptable\",\"acerbic\",\"accommodating\",\"accessible\",\"abstract\",\"absolutist\"],\"x\":[-457.1394686279874,-69.38494929797835,-184.77597158807262,290.42071323735877,115.70621198816427,272.62594979042177,622.6421230494129,-51.03560889064189,-399.8335047374092,55.86391267214403,363.319924541526,-139.18481040196605,44.747613422165294,13.99520774127451,-344.64804369384336,412.60337667650566,239.69888945748983,-182.40636542454433,-151.0850807201093,534.3315925784423,-422.8546025642799,-412.4654512289738,-264.4534374386629,-154.04122738414907,536.4928331306642,-16.773465297276356,-5.428390001973295,481.3165453346564,508.76288407898875,-67.69232614570683,-378.07231977678003,-411.6987672562645,-374.9709379973591,-578.484315222203,88.96316849094666,-191.67387294461173,271.9884702577499,479.14169000956014,40.852679691194425,513.5860470586748,519.3288774535077,-162.70439131044418,243.0368323934612,521.5157788332127,-146.29490985946848,333.5578266068457,-66.71810427830795,-295.4501178579553,66.41382875250467,19.140086054070178,-295.2006003813086,239.7736119344468,331.38611798500204,498.36081563262354,369.2809119505046,-487.2682797803968,-513.9473243734352,-247.8179470882851,116.23070945659927,88.1895001110105,-261.9629537708373,-66.78450299478523,391.0288637314238,-179.11102315682598,-534.9950719703097,-129.78219796917455,-135.93837284995652,119.26925322422372,394.80681244178504,104.52042264287627,-144.86122962085477,32.559528454667266,-60.157691016462195,221.11751023878335,-133.6070251535395,-84.21565479683146,-433.60522915839886,404.9656385418907,-326.1260193771541,-543.4477189953154,-237.81695545560981,-226.02359037628915,125.55070757786851,-394.0012501481077,-166.72397452232767,-76.8593260234118,484.985395733964,-84.46946713541797,-449.39775190488285,149.2016907911511,-149.66205000545682,-312.8065283135376,-514.5921032667545,-95.93726368036863,325.68096690877206,-209.16840353583152,-95.13455972351088,223.22620426214166,-179.60900533955262,-247.08766203176035,-5.084824826752223,192.61838654072534,0.9515489170157906,437.9723763573363,-43.29523990802775,211.16335961233966,34.91670130789752,-258.54296784168577,360.4627972046633,146.26973098050325,-184.01282595979058,-184.82872087760387,-120.36461912143712,-14.573151561682199,-143.83584397479402,-569.7581814225094,-521.2765406103202,-362.92221396071943,22.11261642019087,-73.76531735502512,308.5626024882027,324.63656345185063,424.10727305237333,202.69537345669394,-586.0368460875833,-216.52429709961893,463.1468896077095,-70.1410401757811,-86.52303187574887,-242.24599652495013,143.9594040709752,201.18035014352046,-212.40074191352704,-528.379934840828,250.34636629241928,-441.52068094878445,-292.407953444857,-254.95813488107268,34.40947032278111,-555.6218928594764,-28.235498240050223,-245.32335230533542,-133.18958923353193,98.02523712132049,-493.53421070894035,-239.21511871063583,-514.2796396081167,-248.79438365547065,450.3858740236168,33.01136725976876,159.20978583905497,-200.54980486790578,-182.33957275875807,542.1224999525535,-10.297410888138492,604.5940957310515,209.870270680655,414.48404448543516,-287.97237653198937,290.6759283411251,370.99609350447685,-17.536660123751997,-439.7753029161765,-70.69468608752933,-228.12052263078058,-493.5377011811085,175.4039831125354,349.5981097181871,-193.67895893075305,319.6921114099328,-38.0987551842149,394.04554030003305,54.25631955508926,131.263232658989,-230.8737491967388,608.2447201580146,110.71299054338922,-179.45679230787678,242.38912006831933,215.26311888332205,483.0579610956604,72.04372384318143,573.4598818002056,-47.205961691827774,-323.01044762103675,318.3537696170071,129.9949937602042,129.99817985795076,-43.7173873634738,361.73743295640674,-266.83936652605536,112.12278873402478,396.77190865679097,-25.649534365616123,227.04690540048495,-557.6356941836947,-164.44929558534824,-17.89068314776799,313.6852259020486,166.3103558876724,276.7010695486509,439.9867976668142,-290.76572155000616,88.81555417559574,-338.46269834210875,131.1213239160185,484.5113677686698,44.57129032022922,142.74659267402438],\"y\":[1,1,1,1,1,1,1,1,1,1,1,1,1,1,1,1,1,1,1,1,1,1,1,1,1,1,1,1,1,1,1,1,1,1,1,1,1,1,1,1,1,1,1,1,1,1,1,1,1,1,1,1,1,1,1,1,1,1,1,1,1,1,1,1,1,1,1,1,1,1,1,1,1,1,1,1,1,1,1,1,1,1,1,1,1,1,1,1,1,1,1,1,1,1,1,1,1,1,1,1,1,1,1,1,1,1,1,1,1,1,1,1,1,1,1,1,1,1,1,1,1,1,1,1,1,1,1,1,1,1,1,1,1,1,1,1,1,1,1,1,1,1,1,1,1,1,1,1,1,1,1,1,1,1,1,1,1,1,1,1,1,1,1,1,1,1,1,1,1,1,1,1,1,1,1,1,1,1,1,1,1,1,1,1,1,1,1,1,1,1,1,1,1,1,1,1,1,1,1,1,1,1,1,1,1,1,1,1,1],\"type\":\"scatter\",\"xaxis\":\"x\",\"yaxis\":\"y\"},{\"hovertemplate\":\"\\u003cb\\u003e%{text}\\u003c\\u002fb\\u003e\\u003cbr\\u003eValue: %{x:.3f}\\u003cextra\\u003e\\u003c\\u002fextra\\u003e\",\"marker\":{\"color\":\"steelblue\",\"line\":{\"color\":\"black\",\"width\":1},\"opacity\":1.0,\"size\":8,\"symbol\":\"circle\"},\"mode\":\"markers\",\"showlegend\":false,\"text\":[\"zealous\",\"witty\",\"whimsical\",\"understated\",\"traditional\",\"theatrical\",\"serious\",\"rhetorical\",\"reserved\",\"poetic\",\"moderate\",\"methodical\",\"metaphorical\",\"melodramatic\",\"literal\",\"grounded\",\"factual\",\"enigmatic\",\"eloquent\",\"efficient\",\"dramatic\",\"dispassionate\",\"descriptive\",\"cryptic\",\"concise\",\"charismatic\",\"calm\",\"bombastic\",\"avoidant\",\"animated\"],\"x\":[-597.0986017361099,-759.6966645640002,-697.6243538895286,921.5896762924073,626.6141875559694,-857.2169011686937,652.0431731824381,-694.6041863608209,837.329625313464,-674.2120818808439,731.1619468915572,628.0477853419756,-739.3447783774312,-815.2750658872017,779.3799047949753,783.7020049946058,707.0010532155499,-643.1621360501049,-737.8877463193306,651.3654598078118,-847.5020676911423,796.6786713500746,680.0479720618829,-742.8105129152339,666.5287403377129,-847.6764781408707,831.839218801127,-795.5101533283481,700.2712411177898,-713.4189864450894],\"y\":[1,1,1,1,1,1,1,1,1,1,1,1,1,1,1,1,1,1,1,1,1,1,1,1,1,1,1,1,1,1],\"type\":\"scatter\",\"xaxis\":\"x\",\"yaxis\":\"y\"},{\"hoverinfo\":\"skip\",\"line\":{\"color\":\"red\",\"width\":1},\"mode\":\"lines\",\"showlegend\":false,\"x\":[-857.2169011686937,-857.2169011686937],\"y\":[1.0,1.6],\"type\":\"scatter\",\"xaxis\":\"x\",\"yaxis\":\"y\"},{\"hoverinfo\":\"skip\",\"line\":{\"color\":\"red\",\"width\":1},\"mode\":\"lines\",\"showlegend\":false,\"x\":[-847.6764781408707,-847.6764781408707],\"y\":[1.0,0.4],\"type\":\"scatter\",\"xaxis\":\"x\",\"yaxis\":\"y\"},{\"hoverinfo\":\"skip\",\"line\":{\"color\":\"red\",\"width\":1},\"mode\":\"lines\",\"showlegend\":false,\"x\":[-847.5020676911423,-847.5020676911423],\"y\":[1.0,1.45],\"type\":\"scatter\",\"xaxis\":\"x\",\"yaxis\":\"y\"},{\"hoverinfo\":\"skip\",\"line\":{\"color\":\"red\",\"width\":1},\"mode\":\"lines\",\"showlegend\":false,\"x\":[-815.2750658872017,-815.2750658872017],\"y\":[1.0,0.55],\"type\":\"scatter\",\"xaxis\":\"x\",\"yaxis\":\"y\"},{\"hoverinfo\":\"skip\",\"line\":{\"color\":\"red\",\"width\":1},\"mode\":\"lines\",\"showlegend\":false,\"x\":[-795.5101533283481,-795.5101533283481],\"y\":[1.0,1.55],\"type\":\"scatter\",\"xaxis\":\"x\",\"yaxis\":\"y\"},{\"hoverinfo\":\"skip\",\"line\":{\"color\":\"red\",\"width\":1},\"mode\":\"lines\",\"showlegend\":false,\"x\":[-759.6966645640002,-759.6966645640002],\"y\":[1.0,0.45],\"type\":\"scatter\",\"xaxis\":\"x\",\"yaxis\":\"y\"},{\"hoverinfo\":\"skip\",\"line\":{\"color\":\"red\",\"width\":1},\"mode\":\"lines\",\"showlegend\":false,\"x\":[-742.8105129152339,-742.8105129152339],\"y\":[1.0,1.35],\"type\":\"scatter\",\"xaxis\":\"x\",\"yaxis\":\"y\"},{\"hoverinfo\":\"skip\",\"line\":{\"color\":\"red\",\"width\":1},\"mode\":\"lines\",\"showlegend\":false,\"x\":[-739.3447783774312,-739.3447783774312],\"y\":[1.0,0.65],\"type\":\"scatter\",\"xaxis\":\"x\",\"yaxis\":\"y\"},{\"hoverinfo\":\"skip\",\"line\":{\"color\":\"red\",\"width\":1},\"mode\":\"lines\",\"showlegend\":false,\"x\":[-737.8877463193306,-737.8877463193306],\"y\":[1.0,1.5],\"type\":\"scatter\",\"xaxis\":\"x\",\"yaxis\":\"y\"},{\"hoverinfo\":\"skip\",\"line\":{\"color\":\"red\",\"width\":1},\"mode\":\"lines\",\"showlegend\":false,\"x\":[-713.4189864450894,-713.4189864450894],\"y\":[1.0,0.5],\"type\":\"scatter\",\"xaxis\":\"x\",\"yaxis\":\"y\"},{\"hoverinfo\":\"skip\",\"line\":{\"color\":\"red\",\"width\":1},\"mode\":\"lines\",\"showlegend\":false,\"x\":[-697.6243538895286,-697.6243538895286],\"y\":[1.0,1.4],\"type\":\"scatter\",\"xaxis\":\"x\",\"yaxis\":\"y\"},{\"hoverinfo\":\"skip\",\"line\":{\"color\":\"red\",\"width\":1},\"mode\":\"lines\",\"showlegend\":false,\"x\":[-694.6041863608209,-694.6041863608209],\"y\":[1.0,0.6],\"type\":\"scatter\",\"xaxis\":\"x\",\"yaxis\":\"y\"},{\"hoverinfo\":\"skip\",\"line\":{\"color\":\"red\",\"width\":1},\"mode\":\"lines\",\"showlegend\":false,\"x\":[-674.2120818808439,-674.2120818808439],\"y\":[1.0,1.65],\"type\":\"scatter\",\"xaxis\":\"x\",\"yaxis\":\"y\"},{\"hoverinfo\":\"skip\",\"line\":{\"color\":\"red\",\"width\":1},\"mode\":\"lines\",\"showlegend\":false,\"x\":[-643.1621360501049,-643.1621360501049],\"y\":[1.0,0.35],\"type\":\"scatter\",\"xaxis\":\"x\",\"yaxis\":\"y\"},{\"hoverinfo\":\"skip\",\"line\":{\"color\":\"red\",\"width\":1},\"mode\":\"lines\",\"showlegend\":false,\"x\":[-597.0986017361099,-597.0986017361099],\"y\":[1.0,1.3],\"type\":\"scatter\",\"xaxis\":\"x\",\"yaxis\":\"y\"},{\"hoverinfo\":\"skip\",\"line\":{\"color\":\"blue\",\"width\":1},\"mode\":\"lines\",\"showlegend\":false,\"x\":[921.5896762924073,921.5896762924073],\"y\":[1.0,0.7],\"type\":\"scatter\",\"xaxis\":\"x\",\"yaxis\":\"y\"},{\"hoverinfo\":\"skip\",\"line\":{\"color\":\"blue\",\"width\":1},\"mode\":\"lines\",\"showlegend\":false,\"x\":[837.329625313464,837.329625313464],\"y\":[1.0,1.58],\"type\":\"scatter\",\"xaxis\":\"x\",\"yaxis\":\"y\"},{\"hoverinfo\":\"skip\",\"line\":{\"color\":\"blue\",\"width\":1},\"mode\":\"lines\",\"showlegend\":false,\"x\":[831.839218801127,831.839218801127],\"y\":[1.0,0.42],\"type\":\"scatter\",\"xaxis\":\"x\",\"yaxis\":\"y\"},{\"hoverinfo\":\"skip\",\"line\":{\"color\":\"blue\",\"width\":1},\"mode\":\"lines\",\"showlegend\":false,\"x\":[796.6786713500746,796.6786713500746],\"y\":[1.0,1.42],\"type\":\"scatter\",\"xaxis\":\"x\",\"yaxis\":\"y\"},{\"hoverinfo\":\"skip\",\"line\":{\"color\":\"blue\",\"width\":1},\"mode\":\"lines\",\"showlegend\":false,\"x\":[783.7020049946058,783.7020049946058],\"y\":[1.0,0.58],\"type\":\"scatter\",\"xaxis\":\"x\",\"yaxis\":\"y\"},{\"hoverinfo\":\"skip\",\"line\":{\"color\":\"blue\",\"width\":1},\"mode\":\"lines\",\"showlegend\":false,\"x\":[779.3799047949753,779.3799047949753],\"y\":[1.0,1.52],\"type\":\"scatter\",\"xaxis\":\"x\",\"yaxis\":\"y\"},{\"hoverinfo\":\"skip\",\"line\":{\"color\":\"blue\",\"width\":1},\"mode\":\"lines\",\"showlegend\":false,\"x\":[731.1619468915572,731.1619468915572],\"y\":[1.0,0.48],\"type\":\"scatter\",\"xaxis\":\"x\",\"yaxis\":\"y\"},{\"hoverinfo\":\"skip\",\"line\":{\"color\":\"blue\",\"width\":1},\"mode\":\"lines\",\"showlegend\":false,\"x\":[707.0010532155499,707.0010532155499],\"y\":[1.0,1.38],\"type\":\"scatter\",\"xaxis\":\"x\",\"yaxis\":\"y\"},{\"hoverinfo\":\"skip\",\"line\":{\"color\":\"blue\",\"width\":1},\"mode\":\"lines\",\"showlegend\":false,\"x\":[700.2712411177898,700.2712411177898],\"y\":[1.0,0.62],\"type\":\"scatter\",\"xaxis\":\"x\",\"yaxis\":\"y\"},{\"hoverinfo\":\"skip\",\"line\":{\"color\":\"blue\",\"width\":1},\"mode\":\"lines\",\"showlegend\":false,\"x\":[680.0479720618829,680.0479720618829],\"y\":[1.0,1.62],\"type\":\"scatter\",\"xaxis\":\"x\",\"yaxis\":\"y\"},{\"hoverinfo\":\"skip\",\"line\":{\"color\":\"blue\",\"width\":1},\"mode\":\"lines\",\"showlegend\":false,\"x\":[666.5287403377129,666.5287403377129],\"y\":[1.0,0.38],\"type\":\"scatter\",\"xaxis\":\"x\",\"yaxis\":\"y\"},{\"hoverinfo\":\"skip\",\"line\":{\"color\":\"blue\",\"width\":1},\"mode\":\"lines\",\"showlegend\":false,\"x\":[652.0431731824381,652.0431731824381],\"y\":[1.0,1.43],\"type\":\"scatter\",\"xaxis\":\"x\",\"yaxis\":\"y\"},{\"hoverinfo\":\"skip\",\"line\":{\"color\":\"blue\",\"width\":1},\"mode\":\"lines\",\"showlegend\":false,\"x\":[651.3654598078118,651.3654598078118],\"y\":[1.0,0.67],\"type\":\"scatter\",\"xaxis\":\"x\",\"yaxis\":\"y\"},{\"hoverinfo\":\"skip\",\"line\":{\"color\":\"blue\",\"width\":1},\"mode\":\"lines\",\"showlegend\":false,\"x\":[628.0477853419756,628.0477853419756],\"y\":[1.0,1.57],\"type\":\"scatter\",\"xaxis\":\"x\",\"yaxis\":\"y\"},{\"hoverinfo\":\"skip\",\"line\":{\"color\":\"blue\",\"width\":1},\"mode\":\"lines\",\"showlegend\":false,\"x\":[626.6141875559694,626.6141875559694],\"y\":[1.0,0.43],\"type\":\"scatter\",\"xaxis\":\"x\",\"yaxis\":\"y\"},{\"hovertemplate\":\"\\u003cb\\u003e%{text}\\u003c\\u002fb\\u003e\\u003cbr\\u003eValue: %{x:.3f}\\u003cextra\\u003e\\u003c\\u002fextra\\u003e\",\"marker\":{\"color\":\"steelblue\",\"line\":{\"color\":\"black\",\"width\":1},\"opacity\":1.0,\"size\":8,\"symbol\":\"circle\"},\"mode\":\"markers\",\"showlegend\":false,\"text\":[\"wry\",\"visceral\",\"verbose\",\"utilitarian\",\"urgent\",\"universalist\",\"transparent\",\"theoretical\",\"temperamental\",\"technical\",\"tactful\",\"systems_thinker\",\"sycophantic\",\"supportive\",\"subversive\",\"submissive\",\"structuralist\",\"stream_of_consciousness\",\"strategic\",\"stoic\",\"spontaneous\",\"spiritual\",\"speculative\",\"specialized\",\"solemn\",\"socratic\",\"skeptical\",\"serious\",\"serene\",\"savage\",\"sassy\",\"sardonic\",\"sarcastic\",\"romantic\",\"ritualistic\",\"risk_taking\",\"reverent\",\"resilient\",\"relativist\",\"regulatory\",\"rebellious\",\"reactive\",\"radical\",\"quantitative\",\"qualitative\",\"provocative\",\"progressive\",\"problem_solving\",\"proactive\",\"principled\",\"prescriptive\",\"practical\",\"poetic\",\"pluralist\",\"playful\",\"petty\",\"pessimistic\",\"perfectionist\",\"pensive\",\"pedantic\",\"patient\",\"passive_aggressive\",\"paranoid\",\"paradoxical\",\"pacifist\",\"optimistic\",\"open_ended\",\"obsessive\",\"nurturing\",\"nostalgic\",\"nonchalant\",\"nihilistic\",\"neurotic\",\"narrative\",\"naive\",\"mystical\",\"mischievous\",\"misanthropic\",\"militant\",\"meticulous\",\"methodical\",\"mercurial\",\"melancholic\",\"meditative\",\"manipulative\",\"manic\",\"libertarian\",\"judgmental\",\"irreverent\",\"ironic\",\"intuitive\",\"introverted\",\"introspective\",\"interdisciplinary\",\"inspirational\",\"inquisitive\",\"innovative\",\"individualistic\",\"independent\",\"inclusive\",\"impulsive\",\"improvisational\",\"impatient\",\"idealistic\",\"iconoclastic\",\"humble\",\"humanistic\",\"hostile\",\"holistic\",\"historical\",\"hedonistic\",\"gregarious\",\"goofy\",\"generous\",\"generalist\",\"futuristic\",\"fundamentalist\",\"formalist\",\"formal\",\"forgiving\",\"flirty\",\"flippant\",\"flexible\",\"fatalistic\",\"extroverted\",\"exploratory\",\"experiential\",\"existentialist\",\"evil\",\"ethereal\",\"essentialist\",\"esoteric\",\"erudite\",\"epicurean\",\"environmental\",\"entertaining\",\"enigmatic\",\"empathetic\",\"emotional\",\"elitist\",\"egalitarian\",\"effusive\",\"efficient\",\"educational\",\"edgy\",\"eclectic\",\"earnest\",\"dominant\",\"dogmatic\",\"divergent\",\"disorganized\",\"diplomatic\",\"deterministic\",\"detached\",\"deontological\",\"deferential\",\"deconstructionist\",\"decisive\",\"data_driven\",\"cynical\",\"curious\",\"cryptic\",\"cruel\",\"critical\",\"cosmopolitan\",\"contrarian\",\"contemporary\",\"constructivist\",\"conscientious\",\"confrontational\",\"confident\",\"condescending\",\"concise\",\"conciliatory\",\"conceptual\",\"competitive\",\"collectivistic\",\"collaborative\",\"closure_seeking\",\"circumspect\",\"chill\",\"chaotic\",\"challenging\",\"cautious\",\"casual\",\"callous\",\"calculating\",\"blunt\",\"bitter\",\"big_picture\",\"benevolent\",\"avoidant\",\"assertive\",\"ascetic\",\"artistic\",\"arrogant\",\"anxious\",\"anthropocentric\",\"animated\",\"analytical\",\"altruistic\",\"agreeable\",\"adventurous\",\"adaptable\",\"acerbic\",\"accommodating\",\"accessible\",\"abstract\",\"absolutist\"],\"x\":[-0.3780949769037787,-0.06686998466279173,-0.17947482331509762,0.44808070371400344,0.11174799338290113,0.44023622242885024,0.5003989995212463,-0.06997890644462043,-0.31440312034884776,0.055255859666355905,0.31550968631413817,-0.1874900846511703,0.028590230162391716,0.007772570641121786,-0.40462247010407437,0.31518101119617803,0.276182939559592,-0.2142188975136414,-0.09861529829025294,0.5151802753795836,-0.47435581116041836,-0.41573833650589853,-0.39217447197270705,-0.16661143324502375,0.42038561419546205,-0.012442222450749134,-0.00647674442993777,0.48793870954119206,0.32210351471169424,-0.055685724907867905,-0.3012850006333158,-0.33118100372618053,-0.3245203146732819,-0.5288553239857814,0.07471832148698761,-0.280996168373399,0.26587516446444925,0.3030477890748459,0.039527797180023215,0.5314439251262087,-0.1920297318113187,0.1950232274417758,-0.1573999457064838,0.3071231275779089,-0.07574162671412726,-0.3617792547637622,0.08914878385202031,0.015082173854399765,-0.2291715651112735,0.43534916030639753,0.3409394863357947,0.5133406152232051,-0.444728383981956,0.46315786602441783,-0.45984308313299194,-0.22352635929650527,0.13369774382214386,0.10174583629831387,-0.20352769013626032,-0.07633485473738137,0.24251204512212335,-0.1303985452788059,-0.14366136480506134,-0.19082845494046144,0.19130263264887104,0.3607479432430123,0.1266060586141979,-0.1810021908411328,0.01856351777284717,-0.07431080605721743,0.12794043769687222,-0.09798751873826649,-0.054299198677218316,-0.4376568087730382,0.2436013062033078,-0.35463150023551726,-0.5000233308561999,-0.1960538713689613,-0.196704252765757,0.1110128628971513,0.5208861496886896,-0.33658075055343145,-0.13338114205594975,-0.05099666919893651,-0.07705764409519282,-0.3448348246915198,0.22510711701836275,-0.14155267338885522,-0.2775920888199872,-0.33532810963982757,-0.11832860760150275,0.2875885998465533,-0.20543666839822824,-0.15878785571476833,0.14839683800114128,-0.12910413072345459,-0.3420135544026533,-0.009347549865087193,0.19292381239717432,0.0011147815501621069,0.25194345952110503,-0.0486526783063717,0.13156809781769857,0.0461295266605881,-0.33890554857000316,0.37589063519146315,0.16905907212379784,-0.12436800006976416,-0.19464556249997692,-0.16598768016009838,-0.014239972587684082,-0.13470642822022766,-0.3905721030741324,-0.24142993110765162,0.023454983859607214,-0.10108278891900249,0.2834767861538594,0.41886662641979716,0.3485064449977035,0.3635804664943691,-0.402212084306269,-0.14172657195631852,0.3652526832109869,-0.06154714054900432,-0.11470781692366323,-0.1995172338880608,0.170810960183842,0.18844939132931288,-0.16817796037988408,-0.4374236690309091,0.30367763476400106,-0.3627403969379206,-0.28017549689709614,-0.3376500196170237,0.04130666212895615,-0.4999613539767444,-0.41711391509764745,-0.026715625320585294,-0.229835117714017,-0.11934480023479194,0.09403059528982255,-0.4409939062307548,0.5423388296202938,-0.151209666033055,-0.48235126607719564,-0.39498041526392624,0.302941581143942,0.03444844711119947,0.12950000448343502,-0.1855622774650964,-0.13081316421769082,0.49022010166831365,-0.009621596651684388,0.5082172910730991,0.3592415673493408,0.4304164433880426,-0.36342994829159486,0.2523619953167085,0.4249865586939842,-0.018763767089130357,-0.31055247467143376,-0.4929935162620736,-0.05019403436009236,-0.28274665408211125,0.1656718557546051,-0.25131383131135804,0.43598634522751945,-0.05234655296918849,0.22628092865219615,0.056441672957818656,0.14208340244197193,-0.1911133898964949,0.4759764285303888,0.46645466839733796,0.14914901280942502,-0.16061727065079767,0.30235642686665604,0.24373703745180386,0.5091137471432908,0.07099270719542802,0.3827905259054353,-0.06655988693229749,-0.32659455026090545,0.34933956609704947,0.1094838171597164,0.08514917786447632,-0.04541087526819306,0.3159788511624041,-0.22061652621920444,0.15851125898793816,0.3332780884172877,0.37689326027631825,-0.035618560028019705,0.22785826878247573,-0.5399160009672797,-0.14279813168681954,-0.011743791113253787,0.5239918901530913,-0.5166094839399672,0.14488190692217406,0.26375876059227976,0.34699798310835556,-0.37480218119385633,0.07338853758012984,-0.27578862623645095,0.19409858502375843,0.3377541199321067,0.062052458746143256,0.1973666125550441],\"y\":[1,1,1,1,1,1,1,1,1,1,1,1,1,1,1,1,1,1,1,1,1,1,1,1,1,1,1,1,1,1,1,1,1,1,1,1,1,1,1,1,1,1,1,1,1,1,1,1,1,1,1,1,1,1,1,1,1,1,1,1,1,1,1,1,1,1,1,1,1,1,1,1,1,1,1,1,1,1,1,1,1,1,1,1,1,1,1,1,1,1,1,1,1,1,1,1,1,1,1,1,1,1,1,1,1,1,1,1,1,1,1,1,1,1,1,1,1,1,1,1,1,1,1,1,1,1,1,1,1,1,1,1,1,1,1,1,1,1,1,1,1,1,1,1,1,1,1,1,1,1,1,1,1,1,1,1,1,1,1,1,1,1,1,1,1,1,1,1,1,1,1,1,1,1,1,1,1,1,1,1,1,1,1,1,1,1,1,1,1,1,1,1,1,1,1,1,1,1,1,1,1,1,1,1,1,1,1,1,1],\"type\":\"scatter\",\"xaxis\":\"x2\",\"yaxis\":\"y2\"},{\"hovertemplate\":\"\\u003cb\\u003e%{text}\\u003c\\u002fb\\u003e\\u003cbr\\u003eValue: %{x:.3f}\\u003cextra\\u003e\\u003c\\u002fextra\\u003e\",\"marker\":{\"color\":\"steelblue\",\"line\":{\"color\":\"black\",\"width\":1},\"opacity\":1.0,\"size\":8,\"symbol\":\"circle\"},\"mode\":\"markers\",\"showlegend\":false,\"text\":[\"zealous\",\"witty\",\"whimsical\",\"understated\",\"traditional\",\"theatrical\",\"secular\",\"rhetorical\",\"reserved\",\"reductionist\",\"rationalist\",\"philosophical\",\"passionate\",\"moderate\",\"metaphorical\",\"melodramatic\",\"materialist\",\"literal\",\"grounded\",\"grandiose\",\"factual\",\"eloquent\",\"dramatic\",\"dispassionate\",\"descriptive\",\"creative\",\"convergent\",\"charismatic\",\"calm\",\"bombastic\"],\"x\":[-0.5724902159672332,-0.5927599095093938,-0.6137591959783216,0.6106556336490732,0.6006266463045888,-0.6803192098024422,0.5669370024155259,-0.6652155064796419,0.708493050870802,0.6579895095057328,0.5724250427257435,-0.5979007456651652,-0.5526839684176551,0.5930575367281636,-0.5854032454066308,-0.7025827400171025,0.6042558292001566,0.6316567358857068,0.6994093858593833,-0.5667193200974626,0.6716161220678034,-0.5826140512744492,-0.7330706889822449,0.6112131391648116,0.6190336394973922,-0.5949320815199041,0.5476870856108234,-0.5891093408131162,0.5913852402519215,-0.6267595357809004],\"y\":[1,1,1,1,1,1,1,1,1,1,1,1,1,1,1,1,1,1,1,1,1,1,1,1,1,1,1,1,1,1],\"type\":\"scatter\",\"xaxis\":\"x2\",\"yaxis\":\"y2\"},{\"hoverinfo\":\"skip\",\"line\":{\"color\":\"red\",\"width\":1},\"mode\":\"lines\",\"showlegend\":false,\"x\":[-0.7330706889822449,-0.7330706889822449],\"y\":[1.0,1.6],\"type\":\"scatter\",\"xaxis\":\"x2\",\"yaxis\":\"y2\"},{\"hoverinfo\":\"skip\",\"line\":{\"color\":\"red\",\"width\":1},\"mode\":\"lines\",\"showlegend\":false,\"x\":[-0.7025827400171025,-0.7025827400171025],\"y\":[1.0,0.4],\"type\":\"scatter\",\"xaxis\":\"x2\",\"yaxis\":\"y2\"},{\"hoverinfo\":\"skip\",\"line\":{\"color\":\"red\",\"width\":1},\"mode\":\"lines\",\"showlegend\":false,\"x\":[-0.6803192098024422,-0.6803192098024422],\"y\":[1.0,1.45],\"type\":\"scatter\",\"xaxis\":\"x2\",\"yaxis\":\"y2\"},{\"hoverinfo\":\"skip\",\"line\":{\"color\":\"red\",\"width\":1},\"mode\":\"lines\",\"showlegend\":false,\"x\":[-0.6652155064796419,-0.6652155064796419],\"y\":[1.0,0.55],\"type\":\"scatter\",\"xaxis\":\"x2\",\"yaxis\":\"y2\"},{\"hoverinfo\":\"skip\",\"line\":{\"color\":\"red\",\"width\":1},\"mode\":\"lines\",\"showlegend\":false,\"x\":[-0.6267595357809004,-0.6267595357809004],\"y\":[1.0,1.55],\"type\":\"scatter\",\"xaxis\":\"x2\",\"yaxis\":\"y2\"},{\"hoverinfo\":\"skip\",\"line\":{\"color\":\"red\",\"width\":1},\"mode\":\"lines\",\"showlegend\":false,\"x\":[-0.6137591959783216,-0.6137591959783216],\"y\":[1.0,0.45],\"type\":\"scatter\",\"xaxis\":\"x2\",\"yaxis\":\"y2\"},{\"hoverinfo\":\"skip\",\"line\":{\"color\":\"red\",\"width\":1},\"mode\":\"lines\",\"showlegend\":false,\"x\":[-0.5979007456651652,-0.5979007456651652],\"y\":[1.0,1.35],\"type\":\"scatter\",\"xaxis\":\"x2\",\"yaxis\":\"y2\"},{\"hoverinfo\":\"skip\",\"line\":{\"color\":\"red\",\"width\":1},\"mode\":\"lines\",\"showlegend\":false,\"x\":[-0.5949320815199041,-0.5949320815199041],\"y\":[1.0,0.65],\"type\":\"scatter\",\"xaxis\":\"x2\",\"yaxis\":\"y2\"},{\"hoverinfo\":\"skip\",\"line\":{\"color\":\"red\",\"width\":1},\"mode\":\"lines\",\"showlegend\":false,\"x\":[-0.5927599095093938,-0.5927599095093938],\"y\":[1.0,1.5],\"type\":\"scatter\",\"xaxis\":\"x2\",\"yaxis\":\"y2\"},{\"hoverinfo\":\"skip\",\"line\":{\"color\":\"red\",\"width\":1},\"mode\":\"lines\",\"showlegend\":false,\"x\":[-0.5891093408131162,-0.5891093408131162],\"y\":[1.0,0.5],\"type\":\"scatter\",\"xaxis\":\"x2\",\"yaxis\":\"y2\"},{\"hoverinfo\":\"skip\",\"line\":{\"color\":\"red\",\"width\":1},\"mode\":\"lines\",\"showlegend\":false,\"x\":[-0.5854032454066308,-0.5854032454066308],\"y\":[1.0,1.4],\"type\":\"scatter\",\"xaxis\":\"x2\",\"yaxis\":\"y2\"},{\"hoverinfo\":\"skip\",\"line\":{\"color\":\"red\",\"width\":1},\"mode\":\"lines\",\"showlegend\":false,\"x\":[-0.5826140512744492,-0.5826140512744492],\"y\":[1.0,0.6],\"type\":\"scatter\",\"xaxis\":\"x2\",\"yaxis\":\"y2\"},{\"hoverinfo\":\"skip\",\"line\":{\"color\":\"red\",\"width\":1},\"mode\":\"lines\",\"showlegend\":false,\"x\":[-0.5724902159672332,-0.5724902159672332],\"y\":[1.0,1.65],\"type\":\"scatter\",\"xaxis\":\"x2\",\"yaxis\":\"y2\"},{\"hoverinfo\":\"skip\",\"line\":{\"color\":\"red\",\"width\":1},\"mode\":\"lines\",\"showlegend\":false,\"x\":[-0.5667193200974626,-0.5667193200974626],\"y\":[1.0,0.35],\"type\":\"scatter\",\"xaxis\":\"x2\",\"yaxis\":\"y2\"},{\"hoverinfo\":\"skip\",\"line\":{\"color\":\"red\",\"width\":1},\"mode\":\"lines\",\"showlegend\":false,\"x\":[-0.5526839684176551,-0.5526839684176551],\"y\":[1.0,1.3],\"type\":\"scatter\",\"xaxis\":\"x2\",\"yaxis\":\"y2\"},{\"hoverinfo\":\"skip\",\"line\":{\"color\":\"blue\",\"width\":1},\"mode\":\"lines\",\"showlegend\":false,\"x\":[0.708493050870802,0.708493050870802],\"y\":[1.0,0.7],\"type\":\"scatter\",\"xaxis\":\"x2\",\"yaxis\":\"y2\"},{\"hoverinfo\":\"skip\",\"line\":{\"color\":\"blue\",\"width\":1},\"mode\":\"lines\",\"showlegend\":false,\"x\":[0.6994093858593833,0.6994093858593833],\"y\":[1.0,1.58],\"type\":\"scatter\",\"xaxis\":\"x2\",\"yaxis\":\"y2\"},{\"hoverinfo\":\"skip\",\"line\":{\"color\":\"blue\",\"width\":1},\"mode\":\"lines\",\"showlegend\":false,\"x\":[0.6716161220678034,0.6716161220678034],\"y\":[1.0,0.42],\"type\":\"scatter\",\"xaxis\":\"x2\",\"yaxis\":\"y2\"},{\"hoverinfo\":\"skip\",\"line\":{\"color\":\"blue\",\"width\":1},\"mode\":\"lines\",\"showlegend\":false,\"x\":[0.6579895095057328,0.6579895095057328],\"y\":[1.0,1.42],\"type\":\"scatter\",\"xaxis\":\"x2\",\"yaxis\":\"y2\"},{\"hoverinfo\":\"skip\",\"line\":{\"color\":\"blue\",\"width\":1},\"mode\":\"lines\",\"showlegend\":false,\"x\":[0.6316567358857068,0.6316567358857068],\"y\":[1.0,0.58],\"type\":\"scatter\",\"xaxis\":\"x2\",\"yaxis\":\"y2\"},{\"hoverinfo\":\"skip\",\"line\":{\"color\":\"blue\",\"width\":1},\"mode\":\"lines\",\"showlegend\":false,\"x\":[0.6190336394973922,0.6190336394973922],\"y\":[1.0,1.52],\"type\":\"scatter\",\"xaxis\":\"x2\",\"yaxis\":\"y2\"},{\"hoverinfo\":\"skip\",\"line\":{\"color\":\"blue\",\"width\":1},\"mode\":\"lines\",\"showlegend\":false,\"x\":[0.6112131391648116,0.6112131391648116],\"y\":[1.0,0.48],\"type\":\"scatter\",\"xaxis\":\"x2\",\"yaxis\":\"y2\"},{\"hoverinfo\":\"skip\",\"line\":{\"color\":\"blue\",\"width\":1},\"mode\":\"lines\",\"showlegend\":false,\"x\":[0.6106556336490732,0.6106556336490732],\"y\":[1.0,1.38],\"type\":\"scatter\",\"xaxis\":\"x2\",\"yaxis\":\"y2\"},{\"hoverinfo\":\"skip\",\"line\":{\"color\":\"blue\",\"width\":1},\"mode\":\"lines\",\"showlegend\":false,\"x\":[0.6042558292001566,0.6042558292001566],\"y\":[1.0,0.62],\"type\":\"scatter\",\"xaxis\":\"x2\",\"yaxis\":\"y2\"},{\"hoverinfo\":\"skip\",\"line\":{\"color\":\"blue\",\"width\":1},\"mode\":\"lines\",\"showlegend\":false,\"x\":[0.6006266463045888,0.6006266463045888],\"y\":[1.0,1.62],\"type\":\"scatter\",\"xaxis\":\"x2\",\"yaxis\":\"y2\"},{\"hoverinfo\":\"skip\",\"line\":{\"color\":\"blue\",\"width\":1},\"mode\":\"lines\",\"showlegend\":false,\"x\":[0.5930575367281636,0.5930575367281636],\"y\":[1.0,0.38],\"type\":\"scatter\",\"xaxis\":\"x2\",\"yaxis\":\"y2\"},{\"hoverinfo\":\"skip\",\"line\":{\"color\":\"blue\",\"width\":1},\"mode\":\"lines\",\"showlegend\":false,\"x\":[0.5913852402519215,0.5913852402519215],\"y\":[1.0,1.43],\"type\":\"scatter\",\"xaxis\":\"x2\",\"yaxis\":\"y2\"},{\"hoverinfo\":\"skip\",\"line\":{\"color\":\"blue\",\"width\":1},\"mode\":\"lines\",\"showlegend\":false,\"x\":[0.5724250427257435,0.5724250427257435],\"y\":[1.0,0.67],\"type\":\"scatter\",\"xaxis\":\"x2\",\"yaxis\":\"y2\"},{\"hoverinfo\":\"skip\",\"line\":{\"color\":\"blue\",\"width\":1},\"mode\":\"lines\",\"showlegend\":false,\"x\":[0.5669370024155259,0.5669370024155259],\"y\":[1.0,1.57],\"type\":\"scatter\",\"xaxis\":\"x2\",\"yaxis\":\"y2\"},{\"hoverinfo\":\"skip\",\"line\":{\"color\":\"blue\",\"width\":1},\"mode\":\"lines\",\"showlegend\":false,\"x\":[0.5476870856108234,0.5476870856108234],\"y\":[1.0,0.43],\"type\":\"scatter\",\"xaxis\":\"x2\",\"yaxis\":\"y2\"}],                        {\"template\":{\"data\":{\"histogram2dcontour\":[{\"type\":\"histogram2dcontour\",\"colorbar\":{\"outlinewidth\":0,\"ticks\":\"\"},\"colorscale\":[[0.0,\"#0d0887\"],[0.1111111111111111,\"#46039f\"],[0.2222222222222222,\"#7201a8\"],[0.3333333333333333,\"#9c179e\"],[0.4444444444444444,\"#bd3786\"],[0.5555555555555556,\"#d8576b\"],[0.6666666666666666,\"#ed7953\"],[0.7777777777777778,\"#fb9f3a\"],[0.8888888888888888,\"#fdca26\"],[1.0,\"#f0f921\"]]}],\"choropleth\":[{\"type\":\"choropleth\",\"colorbar\":{\"outlinewidth\":0,\"ticks\":\"\"}}],\"histogram2d\":[{\"type\":\"histogram2d\",\"colorbar\":{\"outlinewidth\":0,\"ticks\":\"\"},\"colorscale\":[[0.0,\"#0d0887\"],[0.1111111111111111,\"#46039f\"],[0.2222222222222222,\"#7201a8\"],[0.3333333333333333,\"#9c179e\"],[0.4444444444444444,\"#bd3786\"],[0.5555555555555556,\"#d8576b\"],[0.6666666666666666,\"#ed7953\"],[0.7777777777777778,\"#fb9f3a\"],[0.8888888888888888,\"#fdca26\"],[1.0,\"#f0f921\"]]}],\"heatmap\":[{\"type\":\"heatmap\",\"colorbar\":{\"outlinewidth\":0,\"ticks\":\"\"},\"colorscale\":[[0.0,\"#0d0887\"],[0.1111111111111111,\"#46039f\"],[0.2222222222222222,\"#7201a8\"],[0.3333333333333333,\"#9c179e\"],[0.4444444444444444,\"#bd3786\"],[0.5555555555555556,\"#d8576b\"],[0.6666666666666666,\"#ed7953\"],[0.7777777777777778,\"#fb9f3a\"],[0.8888888888888888,\"#fdca26\"],[1.0,\"#f0f921\"]]}],\"heatmapgl\":[{\"type\":\"heatmapgl\",\"colorbar\":{\"outlinewidth\":0,\"ticks\":\"\"},\"colorscale\":[[0.0,\"#0d0887\"],[0.1111111111111111,\"#46039f\"],[0.2222222222222222,\"#7201a8\"],[0.3333333333333333,\"#9c179e\"],[0.4444444444444444,\"#bd3786\"],[0.5555555555555556,\"#d8576b\"],[0.6666666666666666,\"#ed7953\"],[0.7777777777777778,\"#fb9f3a\"],[0.8888888888888888,\"#fdca26\"],[1.0,\"#f0f921\"]]}],\"contourcarpet\":[{\"type\":\"contourcarpet\",\"colorbar\":{\"outlinewidth\":0,\"ticks\":\"\"}}],\"contour\":[{\"type\":\"contour\",\"colorbar\":{\"outlinewidth\":0,\"ticks\":\"\"},\"colorscale\":[[0.0,\"#0d0887\"],[0.1111111111111111,\"#46039f\"],[0.2222222222222222,\"#7201a8\"],[0.3333333333333333,\"#9c179e\"],[0.4444444444444444,\"#bd3786\"],[0.5555555555555556,\"#d8576b\"],[0.6666666666666666,\"#ed7953\"],[0.7777777777777778,\"#fb9f3a\"],[0.8888888888888888,\"#fdca26\"],[1.0,\"#f0f921\"]]}],\"surface\":[{\"type\":\"surface\",\"colorbar\":{\"outlinewidth\":0,\"ticks\":\"\"},\"colorscale\":[[0.0,\"#0d0887\"],[0.1111111111111111,\"#46039f\"],[0.2222222222222222,\"#7201a8\"],[0.3333333333333333,\"#9c179e\"],[0.4444444444444444,\"#bd3786\"],[0.5555555555555556,\"#d8576b\"],[0.6666666666666666,\"#ed7953\"],[0.7777777777777778,\"#fb9f3a\"],[0.8888888888888888,\"#fdca26\"],[1.0,\"#f0f921\"]]}],\"mesh3d\":[{\"type\":\"mesh3d\",\"colorbar\":{\"outlinewidth\":0,\"ticks\":\"\"}}],\"scatter\":[{\"fillpattern\":{\"fillmode\":\"overlay\",\"size\":10,\"solidity\":0.2},\"type\":\"scatter\"}],\"parcoords\":[{\"type\":\"parcoords\",\"line\":{\"colorbar\":{\"outlinewidth\":0,\"ticks\":\"\"}}}],\"scatterpolargl\":[{\"type\":\"scatterpolargl\",\"marker\":{\"colorbar\":{\"outlinewidth\":0,\"ticks\":\"\"}}}],\"bar\":[{\"error_x\":{\"color\":\"#2a3f5f\"},\"error_y\":{\"color\":\"#2a3f5f\"},\"marker\":{\"line\":{\"color\":\"#E5ECF6\",\"width\":0.5},\"pattern\":{\"fillmode\":\"overlay\",\"size\":10,\"solidity\":0.2}},\"type\":\"bar\"}],\"scattergeo\":[{\"type\":\"scattergeo\",\"marker\":{\"colorbar\":{\"outlinewidth\":0,\"ticks\":\"\"}}}],\"scatterpolar\":[{\"type\":\"scatterpolar\",\"marker\":{\"colorbar\":{\"outlinewidth\":0,\"ticks\":\"\"}}}],\"histogram\":[{\"marker\":{\"pattern\":{\"fillmode\":\"overlay\",\"size\":10,\"solidity\":0.2}},\"type\":\"histogram\"}],\"scattergl\":[{\"type\":\"scattergl\",\"marker\":{\"colorbar\":{\"outlinewidth\":0,\"ticks\":\"\"}}}],\"scatter3d\":[{\"type\":\"scatter3d\",\"line\":{\"colorbar\":{\"outlinewidth\":0,\"ticks\":\"\"}},\"marker\":{\"colorbar\":{\"outlinewidth\":0,\"ticks\":\"\"}}}],\"scattermapbox\":[{\"type\":\"scattermapbox\",\"marker\":{\"colorbar\":{\"outlinewidth\":0,\"ticks\":\"\"}}}],\"scatterternary\":[{\"type\":\"scatterternary\",\"marker\":{\"colorbar\":{\"outlinewidth\":0,\"ticks\":\"\"}}}],\"scattercarpet\":[{\"type\":\"scattercarpet\",\"marker\":{\"colorbar\":{\"outlinewidth\":0,\"ticks\":\"\"}}}],\"carpet\":[{\"aaxis\":{\"endlinecolor\":\"#2a3f5f\",\"gridcolor\":\"white\",\"linecolor\":\"white\",\"minorgridcolor\":\"white\",\"startlinecolor\":\"#2a3f5f\"},\"baxis\":{\"endlinecolor\":\"#2a3f5f\",\"gridcolor\":\"white\",\"linecolor\":\"white\",\"minorgridcolor\":\"white\",\"startlinecolor\":\"#2a3f5f\"},\"type\":\"carpet\"}],\"table\":[{\"cells\":{\"fill\":{\"color\":\"#EBF0F8\"},\"line\":{\"color\":\"white\"}},\"header\":{\"fill\":{\"color\":\"#C8D4E3\"},\"line\":{\"color\":\"white\"}},\"type\":\"table\"}],\"barpolar\":[{\"marker\":{\"line\":{\"color\":\"#E5ECF6\",\"width\":0.5},\"pattern\":{\"fillmode\":\"overlay\",\"size\":10,\"solidity\":0.2}},\"type\":\"barpolar\"}],\"pie\":[{\"automargin\":true,\"type\":\"pie\"}]},\"layout\":{\"autotypenumbers\":\"strict\",\"colorway\":[\"#636efa\",\"#EF553B\",\"#00cc96\",\"#ab63fa\",\"#FFA15A\",\"#19d3f3\",\"#FF6692\",\"#B6E880\",\"#FF97FF\",\"#FECB52\"],\"font\":{\"color\":\"#2a3f5f\"},\"hovermode\":\"closest\",\"hoverlabel\":{\"align\":\"left\"},\"paper_bgcolor\":\"white\",\"plot_bgcolor\":\"#E5ECF6\",\"polar\":{\"bgcolor\":\"#E5ECF6\",\"angularaxis\":{\"gridcolor\":\"white\",\"linecolor\":\"white\",\"ticks\":\"\"},\"radialaxis\":{\"gridcolor\":\"white\",\"linecolor\":\"white\",\"ticks\":\"\"}},\"ternary\":{\"bgcolor\":\"#E5ECF6\",\"aaxis\":{\"gridcolor\":\"white\",\"linecolor\":\"white\",\"ticks\":\"\"},\"baxis\":{\"gridcolor\":\"white\",\"linecolor\":\"white\",\"ticks\":\"\"},\"caxis\":{\"gridcolor\":\"white\",\"linecolor\":\"white\",\"ticks\":\"\"}},\"coloraxis\":{\"colorbar\":{\"outlinewidth\":0,\"ticks\":\"\"}},\"colorscale\":{\"sequential\":[[0.0,\"#0d0887\"],[0.1111111111111111,\"#46039f\"],[0.2222222222222222,\"#7201a8\"],[0.3333333333333333,\"#9c179e\"],[0.4444444444444444,\"#bd3786\"],[0.5555555555555556,\"#d8576b\"],[0.6666666666666666,\"#ed7953\"],[0.7777777777777778,\"#fb9f3a\"],[0.8888888888888888,\"#fdca26\"],[1.0,\"#f0f921\"]],\"sequentialminus\":[[0.0,\"#0d0887\"],[0.1111111111111111,\"#46039f\"],[0.2222222222222222,\"#7201a8\"],[0.3333333333333333,\"#9c179e\"],[0.4444444444444444,\"#bd3786\"],[0.5555555555555556,\"#d8576b\"],[0.6666666666666666,\"#ed7953\"],[0.7777777777777778,\"#fb9f3a\"],[0.8888888888888888,\"#fdca26\"],[1.0,\"#f0f921\"]],\"diverging\":[[0,\"#8e0152\"],[0.1,\"#c51b7d\"],[0.2,\"#de77ae\"],[0.3,\"#f1b6da\"],[0.4,\"#fde0ef\"],[0.5,\"#f7f7f7\"],[0.6,\"#e6f5d0\"],[0.7,\"#b8e186\"],[0.8,\"#7fbc41\"],[0.9,\"#4d9221\"],[1,\"#276419\"]]},\"xaxis\":{\"gridcolor\":\"white\",\"linecolor\":\"white\",\"ticks\":\"\",\"title\":{\"standoff\":15},\"zerolinecolor\":\"white\",\"automargin\":true,\"zerolinewidth\":2},\"yaxis\":{\"gridcolor\":\"white\",\"linecolor\":\"white\",\"ticks\":\"\",\"title\":{\"standoff\":15},\"zerolinecolor\":\"white\",\"automargin\":true,\"zerolinewidth\":2},\"scene\":{\"xaxis\":{\"backgroundcolor\":\"#E5ECF6\",\"gridcolor\":\"white\",\"linecolor\":\"white\",\"showbackground\":true,\"ticks\":\"\",\"zerolinecolor\":\"white\",\"gridwidth\":2},\"yaxis\":{\"backgroundcolor\":\"#E5ECF6\",\"gridcolor\":\"white\",\"linecolor\":\"white\",\"showbackground\":true,\"ticks\":\"\",\"zerolinecolor\":\"white\",\"gridwidth\":2},\"zaxis\":{\"backgroundcolor\":\"#E5ECF6\",\"gridcolor\":\"white\",\"linecolor\":\"white\",\"showbackground\":true,\"ticks\":\"\",\"zerolinecolor\":\"white\",\"gridwidth\":2}},\"shapedefaults\":{\"line\":{\"color\":\"#2a3f5f\"}},\"annotationdefaults\":{\"arrowcolor\":\"#2a3f5f\",\"arrowhead\":0,\"arrowwidth\":1},\"geo\":{\"bgcolor\":\"white\",\"landcolor\":\"#E5ECF6\",\"subunitcolor\":\"white\",\"showland\":true,\"showlakes\":true,\"lakecolor\":\"white\"},\"title\":{\"x\":0.05},\"mapbox\":{\"style\":\"light\"}}},\"xaxis\":{\"anchor\":\"y\",\"domain\":[0.0,1.0],\"title\":{\"text\":\"Projection onto Role PC1\"},\"range\":[-1013.7486439216481,1013.7486439216481]},\"yaxis\":{\"anchor\":\"x\",\"domain\":[0.575,1.0],\"title\":{\"text\":\"\"},\"showticklabels\":false,\"range\":[0.25,1.75]},\"xaxis2\":{\"anchor\":\"y2\",\"domain\":[0.0,1.0],\"title\":{\"text\":\"Cosine Similarity with Role PC1\"},\"range\":[-0.8063777578804695,0.8063777578804695]},\"yaxis2\":{\"anchor\":\"x2\",\"domain\":[0.0,0.425],\"title\":{\"text\":\"\"},\"showticklabels\":false,\"range\":[0.25,1.75]},\"annotations\":[{\"font\":{\"size\":16},\"showarrow\":false,\"text\":\"Correlations in Trait PCA Space\",\"x\":0.5,\"xanchor\":\"center\",\"xref\":\"paper\",\"y\":1.0,\"yanchor\":\"bottom\",\"yref\":\"paper\"},{\"font\":{\"size\":16},\"showarrow\":false,\"text\":\"Direct Cosine Similarity Analysis\",\"x\":0.5,\"xanchor\":\"center\",\"xref\":\"paper\",\"y\":0.425,\"yanchor\":\"bottom\",\"yref\":\"paper\"},{\"bgcolor\":\"rgba(255, 255, 255, 0.9)\",\"bordercolor\":\"red\",\"borderwidth\":1,\"font\":{\"color\":\"red\",\"size\":10},\"showarrow\":false,\"text\":\"theatrical\",\"x\":-857.2169011686937,\"xref\":\"x\",\"y\":1.6,\"yref\":\"y\"},{\"bgcolor\":\"rgba(255, 255, 255, 0.9)\",\"bordercolor\":\"red\",\"borderwidth\":1,\"font\":{\"color\":\"red\",\"size\":10},\"showarrow\":false,\"text\":\"charismatic\",\"x\":-847.6764781408707,\"xref\":\"x\",\"y\":0.4,\"yref\":\"y\"},{\"bgcolor\":\"rgba(255, 255, 255, 0.9)\",\"bordercolor\":\"red\",\"borderwidth\":1,\"font\":{\"color\":\"red\",\"size\":10},\"showarrow\":false,\"text\":\"dramatic\",\"x\":-847.5020676911423,\"xref\":\"x\",\"y\":1.45,\"yref\":\"y\"},{\"bgcolor\":\"rgba(255, 255, 255, 0.9)\",\"bordercolor\":\"red\",\"borderwidth\":1,\"font\":{\"color\":\"red\",\"size\":10},\"showarrow\":false,\"text\":\"melodramatic\",\"x\":-815.2750658872017,\"xref\":\"x\",\"y\":0.55,\"yref\":\"y\"},{\"bgcolor\":\"rgba(255, 255, 255, 0.9)\",\"bordercolor\":\"red\",\"borderwidth\":1,\"font\":{\"color\":\"red\",\"size\":10},\"showarrow\":false,\"text\":\"bombastic\",\"x\":-795.5101533283481,\"xref\":\"x\",\"y\":1.55,\"yref\":\"y\"},{\"bgcolor\":\"rgba(255, 255, 255, 0.9)\",\"bordercolor\":\"red\",\"borderwidth\":1,\"font\":{\"color\":\"red\",\"size\":10},\"showarrow\":false,\"text\":\"witty\",\"x\":-759.6966645640002,\"xref\":\"x\",\"y\":0.45,\"yref\":\"y\"},{\"bgcolor\":\"rgba(255, 255, 255, 0.9)\",\"bordercolor\":\"red\",\"borderwidth\":1,\"font\":{\"color\":\"red\",\"size\":10},\"showarrow\":false,\"text\":\"cryptic\",\"x\":-742.8105129152339,\"xref\":\"x\",\"y\":1.35,\"yref\":\"y\"},{\"bgcolor\":\"rgba(255, 255, 255, 0.9)\",\"bordercolor\":\"red\",\"borderwidth\":1,\"font\":{\"color\":\"red\",\"size\":10},\"showarrow\":false,\"text\":\"metaphorical\",\"x\":-739.3447783774312,\"xref\":\"x\",\"y\":0.65,\"yref\":\"y\"},{\"bgcolor\":\"rgba(255, 255, 255, 0.9)\",\"bordercolor\":\"red\",\"borderwidth\":1,\"font\":{\"color\":\"red\",\"size\":10},\"showarrow\":false,\"text\":\"eloquent\",\"x\":-737.8877463193306,\"xref\":\"x\",\"y\":1.5,\"yref\":\"y\"},{\"bgcolor\":\"rgba(255, 255, 255, 0.9)\",\"bordercolor\":\"red\",\"borderwidth\":1,\"font\":{\"color\":\"red\",\"size\":10},\"showarrow\":false,\"text\":\"animated\",\"x\":-713.4189864450894,\"xref\":\"x\",\"y\":0.5,\"yref\":\"y\"},{\"bgcolor\":\"rgba(255, 255, 255, 0.9)\",\"bordercolor\":\"red\",\"borderwidth\":1,\"font\":{\"color\":\"red\",\"size\":10},\"showarrow\":false,\"text\":\"whimsical\",\"x\":-697.6243538895286,\"xref\":\"x\",\"y\":1.4,\"yref\":\"y\"},{\"bgcolor\":\"rgba(255, 255, 255, 0.9)\",\"bordercolor\":\"red\",\"borderwidth\":1,\"font\":{\"color\":\"red\",\"size\":10},\"showarrow\":false,\"text\":\"rhetorical\",\"x\":-694.6041863608209,\"xref\":\"x\",\"y\":0.6,\"yref\":\"y\"},{\"bgcolor\":\"rgba(255, 255, 255, 0.9)\",\"bordercolor\":\"red\",\"borderwidth\":1,\"font\":{\"color\":\"red\",\"size\":10},\"showarrow\":false,\"text\":\"poetic\",\"x\":-674.2120818808439,\"xref\":\"x\",\"y\":1.65,\"yref\":\"y\"},{\"bgcolor\":\"rgba(255, 255, 255, 0.9)\",\"bordercolor\":\"red\",\"borderwidth\":1,\"font\":{\"color\":\"red\",\"size\":10},\"showarrow\":false,\"text\":\"enigmatic\",\"x\":-643.1621360501049,\"xref\":\"x\",\"y\":0.35,\"yref\":\"y\"},{\"bgcolor\":\"rgba(255, 255, 255, 0.9)\",\"bordercolor\":\"red\",\"borderwidth\":1,\"font\":{\"color\":\"red\",\"size\":10},\"showarrow\":false,\"text\":\"zealous\",\"x\":-597.0986017361099,\"xref\":\"x\",\"y\":1.3,\"yref\":\"y\"},{\"bgcolor\":\"rgba(255, 255, 255, 0.9)\",\"bordercolor\":\"blue\",\"borderwidth\":1,\"font\":{\"color\":\"blue\",\"size\":10},\"showarrow\":false,\"text\":\"understated\",\"x\":921.5896762924073,\"xref\":\"x\",\"y\":0.7,\"yref\":\"y\"},{\"bgcolor\":\"rgba(255, 255, 255, 0.9)\",\"bordercolor\":\"blue\",\"borderwidth\":1,\"font\":{\"color\":\"blue\",\"size\":10},\"showarrow\":false,\"text\":\"reserved\",\"x\":837.329625313464,\"xref\":\"x\",\"y\":1.58,\"yref\":\"y\"},{\"bgcolor\":\"rgba(255, 255, 255, 0.9)\",\"bordercolor\":\"blue\",\"borderwidth\":1,\"font\":{\"color\":\"blue\",\"size\":10},\"showarrow\":false,\"text\":\"calm\",\"x\":831.839218801127,\"xref\":\"x\",\"y\":0.42,\"yref\":\"y\"},{\"bgcolor\":\"rgba(255, 255, 255, 0.9)\",\"bordercolor\":\"blue\",\"borderwidth\":1,\"font\":{\"color\":\"blue\",\"size\":10},\"showarrow\":false,\"text\":\"dispassionate\",\"x\":796.6786713500746,\"xref\":\"x\",\"y\":1.42,\"yref\":\"y\"},{\"bgcolor\":\"rgba(255, 255, 255, 0.9)\",\"bordercolor\":\"blue\",\"borderwidth\":1,\"font\":{\"color\":\"blue\",\"size\":10},\"showarrow\":false,\"text\":\"grounded\",\"x\":783.7020049946058,\"xref\":\"x\",\"y\":0.58,\"yref\":\"y\"},{\"bgcolor\":\"rgba(255, 255, 255, 0.9)\",\"bordercolor\":\"blue\",\"borderwidth\":1,\"font\":{\"color\":\"blue\",\"size\":10},\"showarrow\":false,\"text\":\"literal\",\"x\":779.3799047949753,\"xref\":\"x\",\"y\":1.52,\"yref\":\"y\"},{\"bgcolor\":\"rgba(255, 255, 255, 0.9)\",\"bordercolor\":\"blue\",\"borderwidth\":1,\"font\":{\"color\":\"blue\",\"size\":10},\"showarrow\":false,\"text\":\"moderate\",\"x\":731.1619468915572,\"xref\":\"x\",\"y\":0.48,\"yref\":\"y\"},{\"bgcolor\":\"rgba(255, 255, 255, 0.9)\",\"bordercolor\":\"blue\",\"borderwidth\":1,\"font\":{\"color\":\"blue\",\"size\":10},\"showarrow\":false,\"text\":\"factual\",\"x\":707.0010532155499,\"xref\":\"x\",\"y\":1.38,\"yref\":\"y\"},{\"bgcolor\":\"rgba(255, 255, 255, 0.9)\",\"bordercolor\":\"blue\",\"borderwidth\":1,\"font\":{\"color\":\"blue\",\"size\":10},\"showarrow\":false,\"text\":\"avoidant\",\"x\":700.2712411177898,\"xref\":\"x\",\"y\":0.62,\"yref\":\"y\"},{\"bgcolor\":\"rgba(255, 255, 255, 0.9)\",\"bordercolor\":\"blue\",\"borderwidth\":1,\"font\":{\"color\":\"blue\",\"size\":10},\"showarrow\":false,\"text\":\"descriptive\",\"x\":680.0479720618829,\"xref\":\"x\",\"y\":1.62,\"yref\":\"y\"},{\"bgcolor\":\"rgba(255, 255, 255, 0.9)\",\"bordercolor\":\"blue\",\"borderwidth\":1,\"font\":{\"color\":\"blue\",\"size\":10},\"showarrow\":false,\"text\":\"concise\",\"x\":666.5287403377129,\"xref\":\"x\",\"y\":0.38,\"yref\":\"y\"},{\"bgcolor\":\"rgba(255, 255, 255, 0.9)\",\"bordercolor\":\"blue\",\"borderwidth\":1,\"font\":{\"color\":\"blue\",\"size\":10},\"showarrow\":false,\"text\":\"serious\",\"x\":652.0431731824381,\"xref\":\"x\",\"y\":1.43,\"yref\":\"y\"},{\"bgcolor\":\"rgba(255, 255, 255, 0.9)\",\"bordercolor\":\"blue\",\"borderwidth\":1,\"font\":{\"color\":\"blue\",\"size\":10},\"showarrow\":false,\"text\":\"efficient\",\"x\":651.3654598078118,\"xref\":\"x\",\"y\":0.67,\"yref\":\"y\"},{\"bgcolor\":\"rgba(255, 255, 255, 0.9)\",\"bordercolor\":\"blue\",\"borderwidth\":1,\"font\":{\"color\":\"blue\",\"size\":10},\"showarrow\":false,\"text\":\"methodical\",\"x\":628.0477853419756,\"xref\":\"x\",\"y\":1.57,\"yref\":\"y\"},{\"bgcolor\":\"rgba(255, 255, 255, 0.9)\",\"bordercolor\":\"blue\",\"borderwidth\":1,\"font\":{\"color\":\"blue\",\"size\":10},\"showarrow\":false,\"text\":\"traditional\",\"x\":626.6141875559694,\"xref\":\"x\",\"y\":0.43,\"yref\":\"y\"},{\"bgcolor\":\"rgba(255, 255, 255, 0.9)\",\"bordercolor\":\"red\",\"borderwidth\":1,\"font\":{\"color\":\"red\",\"size\":10},\"showarrow\":false,\"text\":\"dramatic\",\"x\":-0.7330706889822449,\"xref\":\"x2\",\"y\":1.6,\"yref\":\"y2\"},{\"bgcolor\":\"rgba(255, 255, 255, 0.9)\",\"bordercolor\":\"red\",\"borderwidth\":1,\"font\":{\"color\":\"red\",\"size\":10},\"showarrow\":false,\"text\":\"melodramatic\",\"x\":-0.7025827400171025,\"xref\":\"x2\",\"y\":0.4,\"yref\":\"y2\"},{\"bgcolor\":\"rgba(255, 255, 255, 0.9)\",\"bordercolor\":\"red\",\"borderwidth\":1,\"font\":{\"color\":\"red\",\"size\":10},\"showarrow\":false,\"text\":\"theatrical\",\"x\":-0.6803192098024422,\"xref\":\"x2\",\"y\":1.45,\"yref\":\"y2\"},{\"bgcolor\":\"rgba(255, 255, 255, 0.9)\",\"bordercolor\":\"red\",\"borderwidth\":1,\"font\":{\"color\":\"red\",\"size\":10},\"showarrow\":false,\"text\":\"rhetorical\",\"x\":-0.6652155064796419,\"xref\":\"x2\",\"y\":0.55,\"yref\":\"y2\"},{\"bgcolor\":\"rgba(255, 255, 255, 0.9)\",\"bordercolor\":\"red\",\"borderwidth\":1,\"font\":{\"color\":\"red\",\"size\":10},\"showarrow\":false,\"text\":\"bombastic\",\"x\":-0.6267595357809004,\"xref\":\"x2\",\"y\":1.55,\"yref\":\"y2\"},{\"bgcolor\":\"rgba(255, 255, 255, 0.9)\",\"bordercolor\":\"red\",\"borderwidth\":1,\"font\":{\"color\":\"red\",\"size\":10},\"showarrow\":false,\"text\":\"whimsical\",\"x\":-0.6137591959783216,\"xref\":\"x2\",\"y\":0.45,\"yref\":\"y2\"},{\"bgcolor\":\"rgba(255, 255, 255, 0.9)\",\"bordercolor\":\"red\",\"borderwidth\":1,\"font\":{\"color\":\"red\",\"size\":10},\"showarrow\":false,\"text\":\"philosophical\",\"x\":-0.5979007456651652,\"xref\":\"x2\",\"y\":1.35,\"yref\":\"y2\"},{\"bgcolor\":\"rgba(255, 255, 255, 0.9)\",\"bordercolor\":\"red\",\"borderwidth\":1,\"font\":{\"color\":\"red\",\"size\":10},\"showarrow\":false,\"text\":\"creative\",\"x\":-0.5949320815199041,\"xref\":\"x2\",\"y\":0.65,\"yref\":\"y2\"},{\"bgcolor\":\"rgba(255, 255, 255, 0.9)\",\"bordercolor\":\"red\",\"borderwidth\":1,\"font\":{\"color\":\"red\",\"size\":10},\"showarrow\":false,\"text\":\"witty\",\"x\":-0.5927599095093938,\"xref\":\"x2\",\"y\":1.5,\"yref\":\"y2\"},{\"bgcolor\":\"rgba(255, 255, 255, 0.9)\",\"bordercolor\":\"red\",\"borderwidth\":1,\"font\":{\"color\":\"red\",\"size\":10},\"showarrow\":false,\"text\":\"charismatic\",\"x\":-0.5891093408131162,\"xref\":\"x2\",\"y\":0.5,\"yref\":\"y2\"},{\"bgcolor\":\"rgba(255, 255, 255, 0.9)\",\"bordercolor\":\"red\",\"borderwidth\":1,\"font\":{\"color\":\"red\",\"size\":10},\"showarrow\":false,\"text\":\"metaphorical\",\"x\":-0.5854032454066308,\"xref\":\"x2\",\"y\":1.4,\"yref\":\"y2\"},{\"bgcolor\":\"rgba(255, 255, 255, 0.9)\",\"bordercolor\":\"red\",\"borderwidth\":1,\"font\":{\"color\":\"red\",\"size\":10},\"showarrow\":false,\"text\":\"eloquent\",\"x\":-0.5826140512744492,\"xref\":\"x2\",\"y\":0.6,\"yref\":\"y2\"},{\"bgcolor\":\"rgba(255, 255, 255, 0.9)\",\"bordercolor\":\"red\",\"borderwidth\":1,\"font\":{\"color\":\"red\",\"size\":10},\"showarrow\":false,\"text\":\"zealous\",\"x\":-0.5724902159672332,\"xref\":\"x2\",\"y\":1.65,\"yref\":\"y2\"},{\"bgcolor\":\"rgba(255, 255, 255, 0.9)\",\"bordercolor\":\"red\",\"borderwidth\":1,\"font\":{\"color\":\"red\",\"size\":10},\"showarrow\":false,\"text\":\"grandiose\",\"x\":-0.5667193200974626,\"xref\":\"x2\",\"y\":0.35,\"yref\":\"y2\"},{\"bgcolor\":\"rgba(255, 255, 255, 0.9)\",\"bordercolor\":\"red\",\"borderwidth\":1,\"font\":{\"color\":\"red\",\"size\":10},\"showarrow\":false,\"text\":\"passionate\",\"x\":-0.5526839684176551,\"xref\":\"x2\",\"y\":1.3,\"yref\":\"y2\"},{\"bgcolor\":\"rgba(255, 255, 255, 0.9)\",\"bordercolor\":\"blue\",\"borderwidth\":1,\"font\":{\"color\":\"blue\",\"size\":10},\"showarrow\":false,\"text\":\"reserved\",\"x\":0.708493050870802,\"xref\":\"x2\",\"y\":0.7,\"yref\":\"y2\"},{\"bgcolor\":\"rgba(255, 255, 255, 0.9)\",\"bordercolor\":\"blue\",\"borderwidth\":1,\"font\":{\"color\":\"blue\",\"size\":10},\"showarrow\":false,\"text\":\"grounded\",\"x\":0.6994093858593833,\"xref\":\"x2\",\"y\":1.58,\"yref\":\"y2\"},{\"bgcolor\":\"rgba(255, 255, 255, 0.9)\",\"bordercolor\":\"blue\",\"borderwidth\":1,\"font\":{\"color\":\"blue\",\"size\":10},\"showarrow\":false,\"text\":\"factual\",\"x\":0.6716161220678034,\"xref\":\"x2\",\"y\":0.42,\"yref\":\"y2\"},{\"bgcolor\":\"rgba(255, 255, 255, 0.9)\",\"bordercolor\":\"blue\",\"borderwidth\":1,\"font\":{\"color\":\"blue\",\"size\":10},\"showarrow\":false,\"text\":\"reductionist\",\"x\":0.6579895095057328,\"xref\":\"x2\",\"y\":1.42,\"yref\":\"y2\"},{\"bgcolor\":\"rgba(255, 255, 255, 0.9)\",\"bordercolor\":\"blue\",\"borderwidth\":1,\"font\":{\"color\":\"blue\",\"size\":10},\"showarrow\":false,\"text\":\"literal\",\"x\":0.6316567358857068,\"xref\":\"x2\",\"y\":0.58,\"yref\":\"y2\"},{\"bgcolor\":\"rgba(255, 255, 255, 0.9)\",\"bordercolor\":\"blue\",\"borderwidth\":1,\"font\":{\"color\":\"blue\",\"size\":10},\"showarrow\":false,\"text\":\"descriptive\",\"x\":0.6190336394973922,\"xref\":\"x2\",\"y\":1.52,\"yref\":\"y2\"},{\"bgcolor\":\"rgba(255, 255, 255, 0.9)\",\"bordercolor\":\"blue\",\"borderwidth\":1,\"font\":{\"color\":\"blue\",\"size\":10},\"showarrow\":false,\"text\":\"dispassionate\",\"x\":0.6112131391648116,\"xref\":\"x2\",\"y\":0.48,\"yref\":\"y2\"},{\"bgcolor\":\"rgba(255, 255, 255, 0.9)\",\"bordercolor\":\"blue\",\"borderwidth\":1,\"font\":{\"color\":\"blue\",\"size\":10},\"showarrow\":false,\"text\":\"understated\",\"x\":0.6106556336490732,\"xref\":\"x2\",\"y\":1.38,\"yref\":\"y2\"},{\"bgcolor\":\"rgba(255, 255, 255, 0.9)\",\"bordercolor\":\"blue\",\"borderwidth\":1,\"font\":{\"color\":\"blue\",\"size\":10},\"showarrow\":false,\"text\":\"materialist\",\"x\":0.6042558292001566,\"xref\":\"x2\",\"y\":0.62,\"yref\":\"y2\"},{\"bgcolor\":\"rgba(255, 255, 255, 0.9)\",\"bordercolor\":\"blue\",\"borderwidth\":1,\"font\":{\"color\":\"blue\",\"size\":10},\"showarrow\":false,\"text\":\"traditional\",\"x\":0.6006266463045888,\"xref\":\"x2\",\"y\":1.62,\"yref\":\"y2\"},{\"bgcolor\":\"rgba(255, 255, 255, 0.9)\",\"bordercolor\":\"blue\",\"borderwidth\":1,\"font\":{\"color\":\"blue\",\"size\":10},\"showarrow\":false,\"text\":\"moderate\",\"x\":0.5930575367281636,\"xref\":\"x2\",\"y\":0.38,\"yref\":\"y2\"},{\"bgcolor\":\"rgba(255, 255, 255, 0.9)\",\"bordercolor\":\"blue\",\"borderwidth\":1,\"font\":{\"color\":\"blue\",\"size\":10},\"showarrow\":false,\"text\":\"calm\",\"x\":0.5913852402519215,\"xref\":\"x2\",\"y\":1.43,\"yref\":\"y2\"},{\"bgcolor\":\"rgba(255, 255, 255, 0.9)\",\"bordercolor\":\"blue\",\"borderwidth\":1,\"font\":{\"color\":\"blue\",\"size\":10},\"showarrow\":false,\"text\":\"rationalist\",\"x\":0.5724250427257435,\"xref\":\"x2\",\"y\":0.67,\"yref\":\"y2\"},{\"bgcolor\":\"rgba(255, 255, 255, 0.9)\",\"bordercolor\":\"blue\",\"borderwidth\":1,\"font\":{\"color\":\"blue\",\"size\":10},\"showarrow\":false,\"text\":\"secular\",\"x\":0.5669370024155259,\"xref\":\"x2\",\"y\":1.57,\"yref\":\"y2\"},{\"bgcolor\":\"rgba(255, 255, 255, 0.9)\",\"bordercolor\":\"blue\",\"borderwidth\":1,\"font\":{\"color\":\"blue\",\"size\":10},\"showarrow\":false,\"text\":\"convergent\",\"x\":0.5476870856108234,\"xref\":\"x2\",\"y\":0.43,\"yref\":\"y2\"}],\"shapes\":[{\"line\":{\"color\":\"gray\",\"dash\":\"solid\",\"width\":1},\"opacity\":0.7,\"type\":\"line\",\"x0\":0,\"x1\":0,\"xref\":\"x\",\"y0\":0,\"y1\":1,\"yref\":\"y domain\"},{\"line\":{\"color\":\"gray\",\"dash\":\"solid\",\"width\":1},\"opacity\":0.7,\"type\":\"line\",\"x0\":0,\"x1\":0,\"xref\":\"x2\",\"y0\":0,\"y1\":1,\"yref\":\"y2 domain\"}],\"title\":{\"subtitle\":{\"text\":\"Gemma 2 27B, Layer 22 | 239 traits\"},\"font\":{\"size\":16},\"text\":\"Role PC1 (Assistant-like vs Role-playing) Compared to Traits\",\"x\":0.5},\"height\":800,\"showlegend\":false},                        {\"responsive\": true}                    ).then(function(){\n",
       "                            \n",
       "var gd = document.getElementById('f5105cb8-343f-4e02-a494-5d8c6ca7d0ad');\n",
       "var x = new MutationObserver(function (mutations, observer) {{\n",
       "        var display = window.getComputedStyle(gd).display;\n",
       "        if (!display || display === 'none') {{\n",
       "            console.log([gd, 'removed!']);\n",
       "            Plotly.purge(gd);\n",
       "            observer.disconnect();\n",
       "        }}\n",
       "}});\n",
       "\n",
       "// Listen for the removal of the full notebook cells\n",
       "var notebookContainer = gd.closest('#notebook-container');\n",
       "if (notebookContainer) {{\n",
       "    x.observe(notebookContainer, {childList: true});\n",
       "}}\n",
       "\n",
       "// Listen for the clearing of the current output cell\n",
       "var outputEl = gd.closest('.output');\n",
       "if (outputEl) {{\n",
       "    x.observe(outputEl, {childList: true});\n",
       "}}\n",
       "\n",
       "                        })                };                });            </script>        </div>"
      ]
     },
     "metadata": {},
     "output_type": "display_data"
    }
   ],
   "source": [
    "def plot_trait_correlations_combined(pca_correlations, cosine_correlations, trait_names, n_top=15):\n",
    "    \"\"\"\n",
    "    Plot both PCA and cosine similarity correlations as subplots.\n",
    "    \"\"\"\n",
    "    # Create subplot figure\n",
    "    fig = sp.make_subplots(\n",
    "        rows=2, cols=1,\n",
    "        row_heights=[0.5, 0.5],\n",
    "        vertical_spacing=0.15,\n",
    "        subplot_titles=[\n",
    "            'Correlations in Trait PCA Space',\n",
    "            'Direct Cosine Similarity Analysis'\n",
    "        ]\n",
    "    )\n",
    "    \n",
    "    # Function to add correlation plot to specific subplot\n",
    "    def add_correlation_subplot(correlations, row_num, x_title):\n",
    "        # Sort correlations\n",
    "        sorted_indices = np.argsort(correlations)\n",
    "        \n",
    "        # Get extreme indices\n",
    "        low_extreme_indices = sorted_indices[:n_top]\n",
    "        high_extreme_indices = sorted_indices[-n_top:][::-1]\n",
    "        extreme_indices = set(list(low_extreme_indices) + list(high_extreme_indices))\n",
    "        \n",
    "        # Split points into regular and extreme\n",
    "        regular_x, regular_y = [], []\n",
    "        extreme_x, extreme_y, extreme_labels = [], [], []\n",
    "        \n",
    "        for i, corr in enumerate(correlations):\n",
    "            if i in extreme_indices:\n",
    "                extreme_x.append(corr)\n",
    "                extreme_y.append(1)\n",
    "                extreme_labels.append(trait_names[i])\n",
    "            else:\n",
    "                regular_x.append(corr)\n",
    "                regular_y.append(1)\n",
    "        \n",
    "        # Add regular points (hover only)\n",
    "        fig.add_trace(\n",
    "            go.Scatter(\n",
    "                x=regular_x,\n",
    "                y=regular_y,\n",
    "                mode='markers',\n",
    "                marker=dict(\n",
    "                    color='steelblue',\n",
    "                    size=8,\n",
    "                    opacity=1.0,\n",
    "                    symbol='circle',\n",
    "                    line=dict(width=1, color='black')\n",
    "                ),\n",
    "                text=[trait_names[i] for i in range(len(correlations)) if i not in extreme_indices],\n",
    "                showlegend=False,\n",
    "                hovertemplate='<b>%{text}</b><br>Value: %{x:.3f}<extra></extra>'\n",
    "            ),\n",
    "            row=row_num, col=1\n",
    "        )\n",
    "        \n",
    "        # Add extreme points\n",
    "        fig.add_trace(\n",
    "            go.Scatter(\n",
    "                x=extreme_x,\n",
    "                y=extreme_y,\n",
    "                mode='markers',\n",
    "                marker=dict(\n",
    "                    color='steelblue',\n",
    "                    size=8,\n",
    "                    opacity=1.0,\n",
    "                    symbol='circle',\n",
    "                    line=dict(width=1, color='black')\n",
    "                ),\n",
    "                text=extreme_labels,\n",
    "                showlegend=False,\n",
    "                hovertemplate='<b>%{text}</b><br>Value: %{x:.3f}<extra></extra>'\n",
    "            ),\n",
    "            row=row_num, col=1\n",
    "        )\n",
    "        \n",
    "        # Create predefined alternating heights with variation\n",
    "        high_positions = [1.6, 1.45, 1.55, 1.35, 1.5, 1.4, 1.65, 1.3, 1.58, 1.42, 1.52, 1.38, 1.62, 1.43, 1.57]\n",
    "        low_positions = [0.4, 0.55, 0.45, 0.65, 0.5, 0.6, 0.35, 0.7, 0.42, 0.58, 0.48, 0.62, 0.38, 0.67, 0.43]\n",
    "        \n",
    "        # Alternate high-low pattern\n",
    "        all_y_positions = []\n",
    "        for i in range(n_top):\n",
    "            all_y_positions.extend([high_positions[i % len(high_positions)], low_positions[i % len(low_positions)]])\n",
    "        \n",
    "        # Handle low extremes (Assistant-like, left side, red)\n",
    "        for i, idx in enumerate(low_extreme_indices):\n",
    "            x_pos = correlations[idx]\n",
    "            label = trait_names[idx]\n",
    "            leader_color = 'red'\n",
    "            y_label = all_y_positions[i]\n",
    "            \n",
    "            # Add leader line\n",
    "            fig.add_trace(\n",
    "                go.Scatter(\n",
    "                    x=[x_pos, x_pos],\n",
    "                    y=[1.0, y_label],\n",
    "                    mode='lines',\n",
    "                    line=dict(color=leader_color, width=1),\n",
    "                    showlegend=False,\n",
    "                    hoverinfo='skip'\n",
    "                ),\n",
    "                row=row_num, col=1\n",
    "            )\n",
    "            \n",
    "            # Add label\n",
    "            fig.add_annotation(\n",
    "                x=x_pos,\n",
    "                y=y_label,\n",
    "                text=label,\n",
    "                showarrow=False,\n",
    "                font=dict(size=10, color=leader_color),\n",
    "                bgcolor=\"rgba(255, 255, 255, 0.9)\",\n",
    "                bordercolor=leader_color,\n",
    "                borderwidth=1,\n",
    "                row=row_num, col=1\n",
    "            )\n",
    "        \n",
    "        # Handle high extremes (Role-playing, right side, blue)\n",
    "        for i, idx in enumerate(high_extreme_indices):\n",
    "            x_pos = correlations[idx]\n",
    "            label = trait_names[idx]\n",
    "            leader_color = 'blue'\n",
    "            y_label = all_y_positions[i + n_top]\n",
    "            \n",
    "            # Add leader line\n",
    "            fig.add_trace(\n",
    "                go.Scatter(\n",
    "                    x=[x_pos, x_pos],\n",
    "                    y=[1.0, y_label],\n",
    "                    mode='lines',\n",
    "                    line=dict(color=leader_color, width=1),\n",
    "                    showlegend=False,\n",
    "                    hoverinfo='skip'\n",
    "                ),\n",
    "                row=row_num, col=1\n",
    "            )\n",
    "            \n",
    "            # Add label\n",
    "            fig.add_annotation(\n",
    "                x=x_pos,\n",
    "                y=y_label,\n",
    "                text=label,\n",
    "                showarrow=False,\n",
    "                font=dict(size=10, color=leader_color),\n",
    "                bgcolor=\"rgba(255, 255, 255, 0.9)\",\n",
    "                bordercolor=leader_color,\n",
    "                borderwidth=1,\n",
    "                row=row_num, col=1\n",
    "            )\n",
    "        \n",
    "        # Add vertical line at x=0\n",
    "        fig.add_vline(\n",
    "            x=0,\n",
    "            line_dash=\"solid\",\n",
    "            line_color=\"gray\",\n",
    "            line_width=1,\n",
    "            opacity=0.7,\n",
    "            row=row_num, col=1\n",
    "        )\n",
    "        \n",
    "        # Calculate symmetric range for this subplot\n",
    "        max_abs_value = max(abs(min(correlations)), abs(max(correlations)))\n",
    "        x_half_width = max_abs_value * 1.1\n",
    "        \n",
    "        # Update x-axis for this subplot\n",
    "        fig.update_xaxes(\n",
    "            title_text=x_title,\n",
    "            range=[-x_half_width, x_half_width],\n",
    "            row=row_num, col=1\n",
    "        )\n",
    "        \n",
    "        # Update y-axis for this subplot\n",
    "        fig.update_yaxes(\n",
    "            title_text=\"\",\n",
    "            showticklabels=False,\n",
    "            range=[0.25, 1.75],\n",
    "            row=row_num, col=1\n",
    "        )\n",
    "    \n",
    "    # Add both subplots\n",
    "    add_correlation_subplot(pca_correlations, 1, \"Projection onto Role PC1\")\n",
    "    add_correlation_subplot(cosine_correlations, 2, \"Cosine Similarity with Role PC1\")\n",
    "    \n",
    "    # Update overall layout\n",
    "    fig.update_layout(\n",
    "        height=800,\n",
    "        title=dict(\n",
    "            text='Role PC1 (Assistant-like vs Role-playing) Compared to Traits',\n",
    "            subtitle={\n",
    "                \"text\": f\"Gemma 2 27B, Layer 22 | {len(trait_names)} traits\",\n",
    "            },\n",
    "            x=0.5,\n",
    "            font=dict(size=16)\n",
    "        ),\n",
    "        showlegend=False\n",
    "    )\n",
    "    \n",
    "    return fig\n",
    "\n",
    "# Plot combined analysis\n",
    "fig_combined = plot_trait_correlations_combined(correlations, cosine_similarities, trait_names)\n",
    "fig_combined.show()"
   ]
  },
  {
   "cell_type": "code",
   "execution_count": 32,
   "id": "0a35d7f3",
   "metadata": {},
   "outputs": [],
   "source": [
    "fig_combined.write_html('results/role_pc1_vs_traits.html')"
   ]
  }
 ],
 "metadata": {
  "kernelspec": {
   "display_name": ".venv",
   "language": "python",
   "name": "python3"
  },
  "language_info": {
   "codemirror_mode": {
    "name": "ipython",
    "version": 3
   },
   "file_extension": ".py",
   "mimetype": "text/x-python",
   "name": "python",
   "nbconvert_exporter": "python",
   "pygments_lexer": "ipython3",
   "version": "3.13.5"
  }
 },
 "nbformat": 4,
 "nbformat_minor": 5
}
