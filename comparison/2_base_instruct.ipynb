{
 "cells": [
  {
   "cell_type": "markdown",
   "id": "80bd08b7",
   "metadata": {},
   "source": [
    "# Compare base and instruct vectors"
   ]
  },
  {
   "cell_type": "markdown",
   "id": "6d75e0e8",
   "metadata": {},
   "source": [
    "* load in vectors from pca\n",
    "* measure cosine similarity \n",
    "* print highest and lowest"
   ]
  },
  {
   "cell_type": "code",
   "execution_count": 53,
   "id": "e0484f15",
   "metadata": {},
   "outputs": [],
   "source": [
    "import torch\n",
    "import pandas as pd\n",
    "import numpy as np"
   ]
  },
  {
   "cell_type": "code",
   "execution_count": 75,
   "id": "39d52225",
   "metadata": {},
   "outputs": [],
   "source": [
    "type = \"traits_240\"\n",
    "model = \"gemma-2-27b\"\n",
    "layer = 22"
   ]
  },
  {
   "cell_type": "code",
   "execution_count": 76,
   "id": "0dca97ae",
   "metadata": {},
   "outputs": [],
   "source": [
    "if type == \"roles_240\":\n",
    "    instruct_results = torch.load(f\"/workspace/{model}/new_{type}/pca/layer{layer}_pos23.pt\", weights_only=False)\n",
    "    base_results = torch.load(f\"/workspace/{model}/new_{type}_base/pca/layer{layer}_pos23.pt\", weights_only=False)\n",
    "elif type == \"traits_240\":\n",
    "    instruct_results = torch.load(f\"/workspace/{model}/{type}/pca/layer{layer}_pos-neg50.pt\", weights_only=False)\n",
    "    base_results = torch.load(f\"/workspace/{model}/{type}_base/pca/layer{layer}_pos-neg50.pt\", weights_only=False)\n"
   ]
  },
  {
   "cell_type": "markdown",
   "id": "545a0e86",
   "metadata": {},
   "source": [
    "## Compare vectors"
   ]
  },
  {
   "cell_type": "code",
   "execution_count": 77,
   "id": "1d2f5bc8",
   "metadata": {},
   "outputs": [
    {
     "name": "stdout",
     "output_type": "stream",
     "text": [
      "torch.Size([239, 4608])\n",
      "torch.Size([239, 4608])\n"
     ]
    }
   ],
   "source": [
    "# get vectors from each\n",
    "if type == \"roles_240\":\n",
    "    instruct_vectors = torch.stack(instruct_results[\"vectors\"][\"pos_2\"] + instruct_results[\"vectors\"][\"pos_3\"]).float()[:, layer, :]\n",
    "    base_vectors = torch.stack(base_results[\"vectors\"][\"pos_2\"] + base_results[\"vectors\"][\"pos_3\"]).float()[:, layer, :]\n",
    "elif type == \"traits_240\":\n",
    "    instruct_vectors = torch.stack(instruct_results[\"vectors\"][\"pos_neg_50\"]).float()[:, layer, :]\n",
    "    base_vectors = torch.stack(base_results[\"vectors\"][\"pos_neg_50\"]).float()[:, layer, :]\n",
    "\n",
    "print(instruct_vectors.shape)\n",
    "print(base_vectors.shape)\n"
   ]
  },
  {
   "cell_type": "code",
   "execution_count": 78,
   "id": "4c459bb0",
   "metadata": {},
   "outputs": [
    {
     "name": "stdout",
     "output_type": "stream",
     "text": [
      "['zealous', 'wry', 'witty', 'whimsical', 'visceral']\n"
     ]
    }
   ],
   "source": [
    "def get_role_labels(pca_results):\n",
    "    labels = []\n",
    "    if 'pos_2' in pca_results['roles'].keys():\n",
    "        labels.extend(pca_results['roles']['pos_2'])\n",
    "    if 'pos_3' in pca_results['roles'].keys():\n",
    "        labels.extend(pca_results['roles']['pos_3'])\n",
    "    return labels\n",
    "\n",
    "def get_trait_labels(pca_results):\n",
    "    return pca_results['traits']['pos_neg_50']\n",
    "\n",
    "if type == \"roles_240\":\n",
    "    labels = get_role_labels(instruct_results)\n",
    "elif type == \"traits_240\":\n",
    "    labels = get_trait_labels(instruct_results)\n",
    "print(labels[:5])"
   ]
  },
  {
   "cell_type": "code",
   "execution_count": 79,
   "id": "c7354fb5",
   "metadata": {},
   "outputs": [
    {
     "name": "stdout",
     "output_type": "stream",
     "text": [
      "(239,)\n"
     ]
    }
   ],
   "source": [
    "cos_sims = torch.nn.functional.cosine_similarity(instruct_vectors, base_vectors, dim=-1).numpy()\n",
    "print(cos_sims.shape)"
   ]
  },
  {
   "cell_type": "code",
   "execution_count": 80,
   "id": "48736442",
   "metadata": {},
   "outputs": [],
   "source": [
    "df = pd.DataFrame({\n",
    "    \"roles\": labels,\n",
    "    \"cos_sim\": cos_sims,\n",
    "    #\"score\": [\"pos_2\"] * len(instruct_results['roles']['pos_2']) + [\"pos_3\"] * len(instruct_results['roles']['pos_3'])\n",
    "})\n",
    "df.sort_values(by=\"cos_sim\", ascending=False, inplace=True)"
   ]
  },
  {
   "cell_type": "code",
   "execution_count": 82,
   "id": "2ffb49a9",
   "metadata": {},
   "outputs": [
    {
     "data": {
      "text/html": [
       "<div>\n",
       "<style scoped>\n",
       "    .dataframe tbody tr th:only-of-type {\n",
       "        vertical-align: middle;\n",
       "    }\n",
       "\n",
       "    .dataframe tbody tr th {\n",
       "        vertical-align: top;\n",
       "    }\n",
       "\n",
       "    .dataframe thead th {\n",
       "        text-align: right;\n",
       "    }\n",
       "</style>\n",
       "<table border=\"1\" class=\"dataframe\">\n",
       "  <thead>\n",
       "    <tr style=\"text-align: right;\">\n",
       "      <th></th>\n",
       "      <th>roles</th>\n",
       "      <th>cos_sim</th>\n",
       "    </tr>\n",
       "  </thead>\n",
       "  <tbody>\n",
       "    <tr>\n",
       "      <th>201</th>\n",
       "      <td>conceptual</td>\n",
       "      <td>0.966407</td>\n",
       "    </tr>\n",
       "    <tr>\n",
       "      <th>150</th>\n",
       "      <td>ethereal</td>\n",
       "      <td>0.959057</td>\n",
       "    </tr>\n",
       "    <tr>\n",
       "      <th>40</th>\n",
       "      <td>romantic</td>\n",
       "      <td>0.958917</td>\n",
       "    </tr>\n",
       "    <tr>\n",
       "      <th>129</th>\n",
       "      <td>grounded</td>\n",
       "      <td>0.958910</td>\n",
       "    </tr>\n",
       "    <tr>\n",
       "      <th>121</th>\n",
       "      <td>idealistic</td>\n",
       "      <td>0.957538</td>\n",
       "    </tr>\n",
       "    <tr>\n",
       "      <th>179</th>\n",
       "      <td>deontological</td>\n",
       "      <td>0.953754</td>\n",
       "    </tr>\n",
       "    <tr>\n",
       "      <th>98</th>\n",
       "      <td>melancholic</td>\n",
       "      <td>0.953429</td>\n",
       "    </tr>\n",
       "    <tr>\n",
       "      <th>132</th>\n",
       "      <td>goofy</td>\n",
       "      <td>0.953262</td>\n",
       "    </tr>\n",
       "    <tr>\n",
       "      <th>237</th>\n",
       "      <td>abstract</td>\n",
       "      <td>0.953132</td>\n",
       "    </tr>\n",
       "    <tr>\n",
       "      <th>88</th>\n",
       "      <td>mystical</td>\n",
       "      <td>0.953127</td>\n",
       "    </tr>\n",
       "  </tbody>\n",
       "</table>\n",
       "</div>"
      ],
      "text/plain": [
       "             roles   cos_sim\n",
       "201     conceptual  0.966407\n",
       "150       ethereal  0.959057\n",
       "40        romantic  0.958917\n",
       "129       grounded  0.958910\n",
       "121     idealistic  0.957538\n",
       "179  deontological  0.953754\n",
       "98     melancholic  0.953429\n",
       "132          goofy  0.953262\n",
       "237       abstract  0.953132\n",
       "88        mystical  0.953127"
      ]
     },
     "execution_count": 82,
     "metadata": {},
     "output_type": "execute_result"
    }
   ],
   "source": [
    "df.head(10)"
   ]
  },
  {
   "cell_type": "code",
   "execution_count": 83,
   "id": "e12b25d8",
   "metadata": {},
   "outputs": [
    {
     "data": {
      "text/html": [
       "<div>\n",
       "<style scoped>\n",
       "    .dataframe tbody tr th:only-of-type {\n",
       "        vertical-align: middle;\n",
       "    }\n",
       "\n",
       "    .dataframe tbody tr th {\n",
       "        vertical-align: top;\n",
       "    }\n",
       "\n",
       "    .dataframe thead th {\n",
       "        text-align: right;\n",
       "    }\n",
       "</style>\n",
       "<table border=\"1\" class=\"dataframe\">\n",
       "  <thead>\n",
       "    <tr style=\"text-align: right;\">\n",
       "      <th></th>\n",
       "      <th>roles</th>\n",
       "      <th>cos_sim</th>\n",
       "    </tr>\n",
       "  </thead>\n",
       "  <tbody>\n",
       "    <tr>\n",
       "      <th>81</th>\n",
       "      <td>nurturing</td>\n",
       "      <td>0.623705</td>\n",
       "    </tr>\n",
       "    <tr>\n",
       "      <th>199</th>\n",
       "      <td>concise</td>\n",
       "      <td>0.611413</td>\n",
       "    </tr>\n",
       "    <tr>\n",
       "      <th>118</th>\n",
       "      <td>impulsive</td>\n",
       "      <td>0.605041</td>\n",
       "    </tr>\n",
       "    <tr>\n",
       "      <th>133</th>\n",
       "      <td>generous</td>\n",
       "      <td>0.571753</td>\n",
       "    </tr>\n",
       "    <tr>\n",
       "      <th>221</th>\n",
       "      <td>avoidant</td>\n",
       "      <td>0.554274</td>\n",
       "    </tr>\n",
       "    <tr>\n",
       "      <th>9</th>\n",
       "      <td>understated</td>\n",
       "      <td>0.545085</td>\n",
       "    </tr>\n",
       "    <tr>\n",
       "      <th>70</th>\n",
       "      <td>pensive</td>\n",
       "      <td>0.543136</td>\n",
       "    </tr>\n",
       "    <tr>\n",
       "      <th>217</th>\n",
       "      <td>blunt</td>\n",
       "      <td>0.537833</td>\n",
       "    </tr>\n",
       "    <tr>\n",
       "      <th>160</th>\n",
       "      <td>eloquent</td>\n",
       "      <td>0.502503</td>\n",
       "    </tr>\n",
       "    <tr>\n",
       "      <th>164</th>\n",
       "      <td>efficient</td>\n",
       "      <td>0.360117</td>\n",
       "    </tr>\n",
       "  </tbody>\n",
       "</table>\n",
       "</div>"
      ],
      "text/plain": [
       "           roles   cos_sim\n",
       "81     nurturing  0.623705\n",
       "199      concise  0.611413\n",
       "118    impulsive  0.605041\n",
       "133     generous  0.571753\n",
       "221     avoidant  0.554274\n",
       "9    understated  0.545085\n",
       "70       pensive  0.543136\n",
       "217        blunt  0.537833\n",
       "160     eloquent  0.502503\n",
       "164    efficient  0.360117"
      ]
     },
     "execution_count": 83,
     "metadata": {},
     "output_type": "execute_result"
    }
   ],
   "source": [
    "df.tail(10)"
   ]
  },
  {
   "cell_type": "code",
   "execution_count": 74,
   "id": "e6781ba0",
   "metadata": {},
   "outputs": [],
   "source": [
    "df.to_csv(f\"./results/{model}/base_instruct/{type}_cos_sims.csv\")"
   ]
  },
  {
   "cell_type": "markdown",
   "id": "25077110",
   "metadata": {},
   "source": [
    "## Compare PCA"
   ]
  },
  {
   "cell_type": "code",
   "execution_count": 19,
   "id": "dbc8a371",
   "metadata": {},
   "outputs": [
    {
     "name": "stdout",
     "output_type": "stream",
     "text": [
      "(448, 4608)\n",
      "(448, 4608)\n"
     ]
    }
   ],
   "source": [
    "## get PCs \n",
    "\n",
    "instruct_pcs = instruct_results[\"pca\"].components_\n",
    "base_pcs = base_results[\"pca\"].components_\n",
    "\n",
    "print(instruct_pcs.shape)\n",
    "print(base_pcs.shape)\n",
    "\n"
   ]
  },
  {
   "cell_type": "code",
   "execution_count": 21,
   "id": "110acf42",
   "metadata": {},
   "outputs": [],
   "source": [
    "instruct_pcs_norm = instruct_pcs / np.linalg.norm(instruct_pcs, axis=-1, keepdims=True)\n",
    "base_pcs_norm = base_pcs / np.linalg.norm(base_pcs, axis=-1, keepdims=True)\n",
    "pc_cos_sims = np.sum(instruct_pcs_norm * base_pcs_norm, axis=-1)"
   ]
  },
  {
   "cell_type": "code",
   "execution_count": 23,
   "id": "341ba1db",
   "metadata": {},
   "outputs": [
    {
     "name": "stdout",
     "output_type": "stream",
     "text": [
      "PC 0: 0.8397\n",
      "PC 1: -0.6778\n",
      "PC 2: 0.5438\n",
      "PC 3: 0.6838\n",
      "PC 4: -0.5785\n",
      "PC 5: -0.7681\n",
      "PC 6: -0.6944\n",
      "PC 7: -0.6840\n",
      "PC 8: -0.7868\n",
      "PC 9: -0.7188\n",
      "PC 10: -0.5295\n",
      "PC 11: -0.5303\n",
      "PC 12: -0.3717\n",
      "PC 13: 0.0359\n",
      "PC 14: -0.1583\n",
      "PC 15: 0.5932\n",
      "PC 16: -0.1106\n",
      "PC 17: -0.3482\n",
      "PC 18: 0.5264\n",
      "PC 19: -0.1726\n"
     ]
    }
   ],
   "source": [
    "for i in range(20):\n",
    "    print(f\"PC {i}: {pc_cos_sims[i]:.4f}\")\n",
    "\n"
   ]
  },
  {
   "cell_type": "code",
   "execution_count": null,
   "id": "4869233a",
   "metadata": {},
   "outputs": [],
   "source": []
  }
 ],
 "metadata": {
  "kernelspec": {
   "display_name": ".venv",
   "language": "python",
   "name": "python3"
  },
  "language_info": {
   "codemirror_mode": {
    "name": "ipython",
    "version": 3
   },
   "file_extension": ".py",
   "mimetype": "text/x-python",
   "name": "python",
   "nbconvert_exporter": "python",
   "pygments_lexer": "ipython3",
   "version": "3.13.5"
  }
 },
 "nbformat": 4,
 "nbformat_minor": 5
}
