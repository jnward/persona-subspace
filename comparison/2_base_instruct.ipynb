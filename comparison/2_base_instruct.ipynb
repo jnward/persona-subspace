{
 "cells": [
  {
   "cell_type": "markdown",
   "id": "80bd08b7",
   "metadata": {},
   "source": [
    "# Compare base and instruct vectors"
   ]
  },
  {
   "cell_type": "code",
   "execution_count": null,
   "id": "6d75e0e8",
   "metadata": {
    "vscode": {
     "languageId": "plaintext"
    }
   },
   "outputs": [],
   "source": [
    "* load in vectors from pca\n",
    "* measure cosine similarity \n",
    "* print highest and lowest"
   ]
  },
  {
   "cell_type": "code",
   "execution_count": null,
   "id": "0dca97ae",
   "metadata": {},
   "outputs": [],
   "source": []
  }
 ],
 "metadata": {
  "language_info": {
   "name": "python"
  }
 },
 "nbformat": 4,
 "nbformat_minor": 5
}
