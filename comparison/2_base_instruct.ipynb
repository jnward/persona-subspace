{
 "cells": [
  {
   "cell_type": "markdown",
   "id": "80bd08b7",
   "metadata": {},
   "source": [
    "# Compare base and instruct vectors"
   ]
  },
  {
   "cell_type": "markdown",
   "id": "6d75e0e8",
   "metadata": {},
   "source": [
    "* load in vectors from pca\n",
    "* measure cosine similarity \n",
    "* print highest and lowest"
   ]
  },
  {
   "cell_type": "code",
   "execution_count": 20,
   "id": "e0484f15",
   "metadata": {},
   "outputs": [],
   "source": [
    "import torch\n",
    "import pandas as pd\n",
    "import numpy as np"
   ]
  },
  {
   "cell_type": "code",
   "execution_count": 37,
   "id": "39d52225",
   "metadata": {},
   "outputs": [],
   "source": [
    "type = \"roles_240\"\n",
    "model = \"gemma-2-27b\"\n",
    "layer = 22"
   ]
  },
  {
   "cell_type": "code",
   "execution_count": 45,
   "id": "0dca97ae",
   "metadata": {},
   "outputs": [],
   "source": [
    "if type == \"roles_240\":\n",
    "    instruct_results = torch.load(f\"/workspace/{model}/{type}/pca/layer{layer}_pos23.pt\", weights_only=False)\n",
    "    base_results = torch.load(f\"/workspace/{model}/{type}_base/pca/layer{layer}_pos23.pt\", weights_only=False)\n",
    "elif type == \"traits_240\":\n",
    "    instruct_results = torch.load(f\"/workspace/{model}/{type}/pca/layer{layer}_pos-neg50.pt\", weights_only=False)\n",
    "    base_results = torch.load(f\"/workspace/{model}/{type}_base/pca/layer{layer}_pos-neg50.pt\", weights_only=False)\n"
   ]
  },
  {
   "cell_type": "markdown",
   "id": "545a0e86",
   "metadata": {},
   "source": [
    "## Compare vectors"
   ]
  },
  {
   "cell_type": "code",
   "execution_count": 46,
   "id": "1d2f5bc8",
   "metadata": {},
   "outputs": [
    {
     "name": "stdout",
     "output_type": "stream",
     "text": [
      "torch.Size([448, 4608])\n",
      "torch.Size([448, 4608])\n"
     ]
    }
   ],
   "source": [
    "# get vectors from each\n",
    "if type == \"roles_240\":\n",
    "    instruct_vectors = torch.stack(instruct_results[\"vectors\"][\"pos_2\"] + instruct_results[\"vectors\"][\"pos_3\"]).float()[:, layer, :]\n",
    "    base_vectors = torch.stack(base_results[\"vectors\"][\"pos_2\"] + base_results[\"vectors\"][\"pos_3\"]).float()[:, layer, :]\n",
    "elif type == \"traits_240\":\n",
    "    instruct_vectors = torch.stack(instruct_results[\"vectors\"][\"pos_neg_50\"]).float()[:, layer, :]\n",
    "    base_vectors = torch.stack(base_results[\"vectors\"][\"pos_neg_50\"]).float()[:, layer, :]\n",
    "\n",
    "print(instruct_vectors.shape)\n",
    "print(base_vectors.shape)\n"
   ]
  },
  {
   "cell_type": "code",
   "execution_count": 47,
   "id": "4c459bb0",
   "metadata": {},
   "outputs": [
    {
     "name": "stdout",
     "output_type": "stream",
     "text": [
      "['writer', 'workaholic', 'witness', 'visionary', 'virus']\n"
     ]
    }
   ],
   "source": [
    "def get_role_labels(pca_results):\n",
    "    labels = []\n",
    "    if 'pos_2' in pca_results['roles'].keys():\n",
    "        labels.extend(pca_results['roles']['pos_2'])\n",
    "    if 'pos_3' in pca_results['roles'].keys():\n",
    "        labels.extend(pca_results['roles']['pos_3'])\n",
    "    return labels\n",
    "\n",
    "def get_trait_labels(pca_results):\n",
    "    return pca_results['traits']['pos_neg_50']\n",
    "\n",
    "if type == \"roles_240\":\n",
    "    labels = get_role_labels(instruct_results)\n",
    "elif type == \"traits_240\":\n",
    "    labels = get_trait_labels(instruct_results)\n",
    "print(labels[:5])"
   ]
  },
  {
   "cell_type": "code",
   "execution_count": 48,
   "id": "c7354fb5",
   "metadata": {},
   "outputs": [
    {
     "name": "stdout",
     "output_type": "stream",
     "text": [
      "(448,)\n"
     ]
    }
   ],
   "source": [
    "cos_sims = torch.nn.functional.cosine_similarity(instruct_vectors, base_vectors, dim=-1).numpy()\n",
    "print(cos_sims.shape)"
   ]
  },
  {
   "cell_type": "code",
   "execution_count": 49,
   "id": "48736442",
   "metadata": {},
   "outputs": [],
   "source": [
    "df = pd.DataFrame({\n",
    "    \"roles\": labels,\n",
    "    \"cos_sim\": cos_sims,\n",
    "    \"score\": [\"pos_2\"] * len(instruct_results['roles']['pos_2']) + [\"pos_3\"] * len(instruct_results['roles']['pos_3'])\n",
    "})\n",
    "df.sort_values(by=\"cos_sim\", ascending=False, inplace=True)"
   ]
  },
  {
   "cell_type": "code",
   "execution_count": 50,
   "id": "2ffb49a9",
   "metadata": {},
   "outputs": [
    {
     "data": {
      "text/html": [
       "<div>\n",
       "<style scoped>\n",
       "    .dataframe tbody tr th:only-of-type {\n",
       "        vertical-align: middle;\n",
       "    }\n",
       "\n",
       "    .dataframe tbody tr th {\n",
       "        vertical-align: top;\n",
       "    }\n",
       "\n",
       "    .dataframe thead th {\n",
       "        text-align: right;\n",
       "    }\n",
       "</style>\n",
       "<table border=\"1\" class=\"dataframe\">\n",
       "  <thead>\n",
       "    <tr style=\"text-align: right;\">\n",
       "      <th></th>\n",
       "      <th>roles</th>\n",
       "      <th>cos_sim</th>\n",
       "      <th>score</th>\n",
       "    </tr>\n",
       "  </thead>\n",
       "  <tbody>\n",
       "    <tr>\n",
       "      <th>26</th>\n",
       "      <td>stoic</td>\n",
       "      <td>0.997403</td>\n",
       "      <td>pos_2</td>\n",
       "    </tr>\n",
       "    <tr>\n",
       "      <th>172</th>\n",
       "      <td>aberration</td>\n",
       "      <td>0.997396</td>\n",
       "      <td>pos_2</td>\n",
       "    </tr>\n",
       "    <tr>\n",
       "      <th>1</th>\n",
       "      <td>workaholic</td>\n",
       "      <td>0.997377</td>\n",
       "      <td>pos_2</td>\n",
       "    </tr>\n",
       "    <tr>\n",
       "      <th>281</th>\n",
       "      <td>patient</td>\n",
       "      <td>0.997320</td>\n",
       "      <td>pos_3</td>\n",
       "    </tr>\n",
       "    <tr>\n",
       "      <th>177</th>\n",
       "      <td>workaholic</td>\n",
       "      <td>0.997268</td>\n",
       "      <td>pos_3</td>\n",
       "    </tr>\n",
       "    <tr>\n",
       "      <th>152</th>\n",
       "      <td>chameleon</td>\n",
       "      <td>0.997085</td>\n",
       "      <td>pos_2</td>\n",
       "    </tr>\n",
       "    <tr>\n",
       "      <th>333</th>\n",
       "      <td>hoarder</td>\n",
       "      <td>0.997077</td>\n",
       "      <td>pos_3</td>\n",
       "    </tr>\n",
       "    <tr>\n",
       "      <th>20</th>\n",
       "      <td>symbiont</td>\n",
       "      <td>0.997029</td>\n",
       "      <td>pos_2</td>\n",
       "    </tr>\n",
       "    <tr>\n",
       "      <th>300</th>\n",
       "      <td>narcissist</td>\n",
       "      <td>0.996957</td>\n",
       "      <td>pos_3</td>\n",
       "    </tr>\n",
       "    <tr>\n",
       "      <th>95</th>\n",
       "      <td>jester</td>\n",
       "      <td>0.996933</td>\n",
       "      <td>pos_2</td>\n",
       "    </tr>\n",
       "  </tbody>\n",
       "</table>\n",
       "</div>"
      ],
      "text/plain": [
       "          roles   cos_sim  score\n",
       "26        stoic  0.997403  pos_2\n",
       "172  aberration  0.997396  pos_2\n",
       "1    workaholic  0.997377  pos_2\n",
       "281     patient  0.997320  pos_3\n",
       "177  workaholic  0.997268  pos_3\n",
       "152   chameleon  0.997085  pos_2\n",
       "333     hoarder  0.997077  pos_3\n",
       "20     symbiont  0.997029  pos_2\n",
       "300  narcissist  0.996957  pos_3\n",
       "95       jester  0.996933  pos_2"
      ]
     },
     "execution_count": 50,
     "metadata": {},
     "output_type": "execute_result"
    }
   ],
   "source": [
    "df.head(10)"
   ]
  },
  {
   "cell_type": "code",
   "execution_count": 51,
   "id": "e12b25d8",
   "metadata": {},
   "outputs": [
    {
     "data": {
      "text/html": [
       "<div>\n",
       "<style scoped>\n",
       "    .dataframe tbody tr th:only-of-type {\n",
       "        vertical-align: middle;\n",
       "    }\n",
       "\n",
       "    .dataframe tbody tr th {\n",
       "        vertical-align: top;\n",
       "    }\n",
       "\n",
       "    .dataframe thead th {\n",
       "        text-align: right;\n",
       "    }\n",
       "</style>\n",
       "<table border=\"1\" class=\"dataframe\">\n",
       "  <thead>\n",
       "    <tr style=\"text-align: right;\">\n",
       "      <th></th>\n",
       "      <th>roles</th>\n",
       "      <th>cos_sim</th>\n",
       "      <th>score</th>\n",
       "    </tr>\n",
       "  </thead>\n",
       "  <tbody>\n",
       "    <tr>\n",
       "      <th>222</th>\n",
       "      <td>sommelier</td>\n",
       "      <td>0.993140</td>\n",
       "      <td>pos_3</td>\n",
       "    </tr>\n",
       "    <tr>\n",
       "      <th>386</th>\n",
       "      <td>debugger</td>\n",
       "      <td>0.993134</td>\n",
       "      <td>pos_3</td>\n",
       "    </tr>\n",
       "    <tr>\n",
       "      <th>258</th>\n",
       "      <td>programmer</td>\n",
       "      <td>0.993133</td>\n",
       "      <td>pos_3</td>\n",
       "    </tr>\n",
       "    <tr>\n",
       "      <th>400</th>\n",
       "      <td>conservator</td>\n",
       "      <td>0.993104</td>\n",
       "      <td>pos_3</td>\n",
       "    </tr>\n",
       "    <tr>\n",
       "      <th>428</th>\n",
       "      <td>architect</td>\n",
       "      <td>0.993088</td>\n",
       "      <td>pos_3</td>\n",
       "    </tr>\n",
       "    <tr>\n",
       "      <th>153</th>\n",
       "      <td>cartographer</td>\n",
       "      <td>0.993080</td>\n",
       "      <td>pos_2</td>\n",
       "    </tr>\n",
       "    <tr>\n",
       "      <th>384</th>\n",
       "      <td>designer</td>\n",
       "      <td>0.992952</td>\n",
       "      <td>pos_3</td>\n",
       "    </tr>\n",
       "    <tr>\n",
       "      <th>413</th>\n",
       "      <td>cartographer</td>\n",
       "      <td>0.992775</td>\n",
       "      <td>pos_3</td>\n",
       "    </tr>\n",
       "    <tr>\n",
       "      <th>162</th>\n",
       "      <td>archaeologist</td>\n",
       "      <td>0.992745</td>\n",
       "      <td>pos_2</td>\n",
       "    </tr>\n",
       "    <tr>\n",
       "      <th>58</th>\n",
       "      <td>playwright</td>\n",
       "      <td>0.991342</td>\n",
       "      <td>pos_2</td>\n",
       "    </tr>\n",
       "  </tbody>\n",
       "</table>\n",
       "</div>"
      ],
      "text/plain": [
       "             roles   cos_sim  score\n",
       "222      sommelier  0.993140  pos_3\n",
       "386       debugger  0.993134  pos_3\n",
       "258     programmer  0.993133  pos_3\n",
       "400    conservator  0.993104  pos_3\n",
       "428      architect  0.993088  pos_3\n",
       "153   cartographer  0.993080  pos_2\n",
       "384       designer  0.992952  pos_3\n",
       "413   cartographer  0.992775  pos_3\n",
       "162  archaeologist  0.992745  pos_2\n",
       "58      playwright  0.991342  pos_2"
      ]
     },
     "execution_count": 51,
     "metadata": {},
     "output_type": "execute_result"
    }
   ],
   "source": [
    "df.tail(10)"
   ]
  },
  {
   "cell_type": "code",
   "execution_count": 52,
   "id": "e6781ba0",
   "metadata": {},
   "outputs": [],
   "source": [
    "df.to_csv(f\"./results/{model}/base_instruct/{type}_cos_sims.csv\")"
   ]
  },
  {
   "cell_type": "markdown",
   "id": "25077110",
   "metadata": {},
   "source": [
    "## Compare PCA"
   ]
  },
  {
   "cell_type": "code",
   "execution_count": 19,
   "id": "dbc8a371",
   "metadata": {},
   "outputs": [
    {
     "name": "stdout",
     "output_type": "stream",
     "text": [
      "(448, 4608)\n",
      "(448, 4608)\n"
     ]
    }
   ],
   "source": [
    "## get PCs \n",
    "\n",
    "instruct_pcs = instruct_results[\"pca\"].components_\n",
    "base_pcs = base_results[\"pca\"].components_\n",
    "\n",
    "print(instruct_pcs.shape)\n",
    "print(base_pcs.shape)\n",
    "\n"
   ]
  },
  {
   "cell_type": "code",
   "execution_count": 21,
   "id": "110acf42",
   "metadata": {},
   "outputs": [],
   "source": [
    "instruct_pcs_norm = instruct_pcs / np.linalg.norm(instruct_pcs, axis=-1, keepdims=True)\n",
    "base_pcs_norm = base_pcs / np.linalg.norm(base_pcs, axis=-1, keepdims=True)\n",
    "pc_cos_sims = np.sum(instruct_pcs_norm * base_pcs_norm, axis=-1)"
   ]
  },
  {
   "cell_type": "code",
   "execution_count": 23,
   "id": "341ba1db",
   "metadata": {},
   "outputs": [
    {
     "name": "stdout",
     "output_type": "stream",
     "text": [
      "PC 0: 0.8397\n",
      "PC 1: -0.6778\n",
      "PC 2: 0.5438\n",
      "PC 3: 0.6838\n",
      "PC 4: -0.5785\n",
      "PC 5: -0.7681\n",
      "PC 6: -0.6944\n",
      "PC 7: -0.6840\n",
      "PC 8: -0.7868\n",
      "PC 9: -0.7188\n",
      "PC 10: -0.5295\n",
      "PC 11: -0.5303\n",
      "PC 12: -0.3717\n",
      "PC 13: 0.0359\n",
      "PC 14: -0.1583\n",
      "PC 15: 0.5932\n",
      "PC 16: -0.1106\n",
      "PC 17: -0.3482\n",
      "PC 18: 0.5264\n",
      "PC 19: -0.1726\n"
     ]
    }
   ],
   "source": [
    "for i in range(20):\n",
    "    print(f\"PC {i}: {pc_cos_sims[i]:.4f}\")\n",
    "\n"
   ]
  },
  {
   "cell_type": "code",
   "execution_count": null,
   "id": "4869233a",
   "metadata": {},
   "outputs": [],
   "source": []
  }
 ],
 "metadata": {
  "kernelspec": {
   "display_name": ".venv",
   "language": "python",
   "name": "python3"
  },
  "language_info": {
   "codemirror_mode": {
    "name": "ipython",
    "version": 3
   },
   "file_extension": ".py",
   "mimetype": "text/x-python",
   "name": "python",
   "nbconvert_exporter": "python",
   "pygments_lexer": "ipython3",
   "version": "3.13.5"
  }
 },
 "nbformat": 4,
 "nbformat_minor": 5
}
