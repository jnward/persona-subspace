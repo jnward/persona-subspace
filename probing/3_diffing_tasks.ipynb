{
 "cells": [
  {
   "cell_type": "markdown",
   "metadata": {},
   "source": [
    "# Diffing tasks\n",
    "\n",
    "Do different subnetworks activate when asking the model to be helpful across different tasks."
   ]
  },
  {
   "cell_type": "code",
   "execution_count": 34,
   "metadata": {},
   "outputs": [],
   "source": [
    "import torch\n",
    "import os\n",
    "import sys\n",
    "import numpy as np\n",
    "from transformers import AutoTokenizer, AutoModelForCausalLM\n",
    "\n",
    "sys.path.append('.')\n",
    "sys.path.append('..')\n",
    "\n",
    "from utils.steering_utils import ActivationSteering\n",
    "from probing.probing_utils import *\n",
    "\n",
    "\n",
    "\n",
    "\n",
    "\n",
    "\n",
    "\n"
   ]
  },
  {
   "cell_type": "code",
   "execution_count": 2,
   "metadata": {},
   "outputs": [],
   "source": [
    "CHAT_MODEL_NAME = \"google/gemma-2-9b-it\"\n",
    "MODEL_READABLE = \"Gemma 2 9B Instruct\"\n",
    "MODEL_SHORT = \"gemma\"\n",
    "LAYER = 20\n",
    "OUTPUT_DIR = f\"./results/3_diffing_tasks\""
   ]
  },
  {
   "cell_type": "code",
   "execution_count": 10,
   "metadata": {},
   "outputs": [],
   "source": [
    "coding_prompts = [\n",
    "    \"What is a lambda function in Python?\",\n",
    "    \"Can you help me debug my code?\",\n",
    "    \"I have a problem with my front-end rendering.\",\n",
    "    \"You need to help me understand my algorithms homework.\"\n",
    "]\n",
    "\n",
    "medical_prompts = [\n",
    "    \"What are the symptoms of a stroke?\",\n",
    "    \"Can you help me explain my rash?\",\n",
    "    \"I have a problem with my TFCC injury.\",\n",
    "    \"You need to help me understand my medical bills.\"\n",
    "]"
   ]
  },
  {
   "cell_type": "code",
   "execution_count": 9,
   "metadata": {},
   "outputs": [
    {
     "data": {
      "application/vnd.jupyter.widget-view+json": {
       "model_id": "8e4e90fcc0cb46ea95dd46e9a6643f09",
       "version_major": 2,
       "version_minor": 0
      },
      "text/plain": [
       "Loading checkpoint shards:   0%|          | 0/4 [00:00<?, ?it/s]"
      ]
     },
     "metadata": {},
     "output_type": "display_data"
    },
    {
     "name": "stdout",
     "output_type": "stream",
     "text": [
      "✓ Extracted activation for: What is a lambda function in Python?...\n",
      "✓ Extracted activation for: Can you help me debug my code?...\n",
      "✓ Extracted activation for: I have a problem with my front-end rendering.You n...\n",
      "✓ Extracted activation for: What are the symptoms of a stroke?...\n",
      "✓ Extracted activation for: Can you help me explain my rash?...\n",
      "✓ Extracted activation for: I have a problem with my TFCC injury.You need to h...\n",
      "\n",
      "Computing contrast vector...\n"
     ]
    }
   ],
   "source": [
    "model, tokenizer = load_model(CHAT_MODEL_NAME)\n"
   ]
  },
  {
   "cell_type": "code",
   "execution_count": 11,
   "metadata": {},
   "outputs": [
    {
     "name": "stdout",
     "output_type": "stream",
     "text": [
      "✓ Extracted activation for: What is a lambda function in Python?...\n",
      "✓ Extracted activation for: Can you help me debug my code?...\n",
      "✓ Extracted activation for: I have a problem with my front-end rendering....\n",
      "✓ Extracted activation for: You need to help me understand my algorithms homew...\n",
      "✓ Extracted activation for: What are the symptoms of a stroke?...\n",
      "✓ Extracted activation for: Can you help me explain my rash?...\n",
      "✓ Extracted activation for: I have a problem with my TFCC injury....\n",
      "✓ Extracted activation for: You need to help me understand my medical bills....\n",
      "\n",
      "Computing contrast vector...\n"
     ]
    }
   ],
   "source": [
    "# for layer in model.config.num_hidden_layers:\n",
    "coding_activations = extract_activations_for_prompts(model, tokenizer, coding_prompts, LAYER)\n",
    "medical_activations = extract_activations_for_prompts(model, tokenizer, medical_prompts, LAYER)\n",
    "\n",
    "\n",
    "# Compute contrast vector\n",
    "print(\"\\nComputing contrast vector...\")\n",
    "contrast_vector, coding_mean, medical_mean = compute_contrast_vector(\n",
    "    coding_activations, medical_activations\n",
    ")"
   ]
  },
  {
   "cell_type": "code",
   "execution_count": 14,
   "metadata": {},
   "outputs": [
    {
     "name": "stdout",
     "output_type": "stream",
     "text": [
      "Added cosine similarity analysis functions\n"
     ]
    }
   ],
   "source": [
    "import torch.nn.functional as F\n",
    "\n",
    "def compute_cosine_similarity_matrix(activations1, activations2):\n",
    "    \"\"\"\n",
    "    Compute cosine similarity matrix between two sets of activations.\n",
    "    \n",
    "    Args:\n",
    "        activations1: torch.Tensor of shape (n_prompts1, hidden_dim)\n",
    "        activations2: torch.Tensor of shape (n_prompts2, hidden_dim)\n",
    "    \n",
    "    Returns:\n",
    "        similarity_matrix: torch.Tensor of shape (n_prompts1, n_prompts2)\n",
    "    \"\"\"\n",
    "    # Normalize activations\n",
    "    activations1_norm = F.normalize(activations1, p=2, dim=1)\n",
    "    activations2_norm = F.normalize(activations2, p=2, dim=1)\n",
    "    \n",
    "    # Compute cosine similarity matrix\n",
    "    similarity_matrix = torch.mm(activations1_norm, activations2_norm.t())\n",
    "    \n",
    "    return similarity_matrix\n",
    "\n",
    "def analyze_similarity_for_layer(coding_activations, medical_activations):\n",
    "    \"\"\"\n",
    "    Analyze similarities within and across categories for a single layer.\n",
    "    \n",
    "    Returns:\n",
    "        dict with similarity matrices and averages\n",
    "    \"\"\"\n",
    "    # Within-category similarities\n",
    "    coding_coding_sim = compute_cosine_similarity_matrix(coding_activations, coding_activations)\n",
    "    medical_medical_sim = compute_cosine_similarity_matrix(medical_activations, medical_activations)\n",
    "    \n",
    "    # Cross-category similarities  \n",
    "    coding_medical_sim = compute_cosine_similarity_matrix(coding_activations, medical_activations)\n",
    "    \n",
    "    # Calculate averages (excluding diagonal for within-category)\n",
    "    n_coding = coding_activations.shape[0]\n",
    "    n_medical = medical_activations.shape[0]\n",
    "    \n",
    "    # Get upper triangular matrices (excluding diagonal) for within-category\n",
    "    coding_upper = torch.triu(coding_coding_sim, diagonal=1)\n",
    "    medical_upper = torch.triu(medical_medical_sim, diagonal=1)\n",
    "    \n",
    "    # Calculate averages\n",
    "    avg_coding_coding = coding_upper.sum() / (n_coding * (n_coding - 1) / 2)\n",
    "    avg_medical_medical = medical_upper.sum() / (n_medical * (n_medical - 1) / 2)\n",
    "    avg_within_category = (avg_coding_coding + avg_medical_medical) / 2\n",
    "    \n",
    "    avg_cross_category = coding_medical_sim.mean()\n",
    "    \n",
    "    similarity_difference = avg_within_category - avg_cross_category\n",
    "    \n",
    "    return {\n",
    "        'coding_coding_sim': coding_coding_sim,\n",
    "        'medical_medical_sim': medical_medical_sim, \n",
    "        'coding_medical_sim': coding_medical_sim,\n",
    "        'avg_coding_coding': avg_coding_coding.item(),\n",
    "        'avg_medical_medical': avg_medical_medical.item(),\n",
    "        'avg_within_category': avg_within_category.item(),\n",
    "        'avg_cross_category': avg_cross_category.item(),\n",
    "        'similarity_difference': similarity_difference.item()\n",
    "    }\n",
    "\n",
    "print(\"Added cosine similarity analysis functions\")"
   ]
  },
  {
   "cell_type": "code",
   "execution_count": 16,
   "metadata": {},
   "outputs": [
    {
     "name": "stdout",
     "output_type": "stream",
     "text": [
      "Extracting activations for all layers...\n",
      "Model has 42 layers\n",
      "\n",
      "Processing layer 0...\n",
      "✓ Extracted activation for: What is a lambda function in Python?...\n",
      "✓ Extracted activation for: Can you help me debug my code?...\n",
      "✓ Extracted activation for: I have a problem with my front-end rendering....\n",
      "✓ Extracted activation for: You need to help me understand my algorithms homew...\n",
      "✓ Extracted activation for: What are the symptoms of a stroke?...\n",
      "✓ Extracted activation for: Can you help me explain my rash?...\n",
      "✓ Extracted activation for: I have a problem with my TFCC injury....\n",
      "✓ Extracted activation for: You need to help me understand my medical bills....\n",
      "Layer 0 - Within: 1.0000, Cross: 1.0000, Diff: 0.0000\n",
      "\n",
      "Processing layer 1...\n",
      "✓ Extracted activation for: What is a lambda function in Python?...\n",
      "✓ Extracted activation for: Can you help me debug my code?...\n",
      "✓ Extracted activation for: I have a problem with my front-end rendering....\n",
      "✓ Extracted activation for: You need to help me understand my algorithms homew...\n",
      "✓ Extracted activation for: What are the symptoms of a stroke?...\n",
      "✓ Extracted activation for: Can you help me explain my rash?...\n",
      "✓ Extracted activation for: I have a problem with my TFCC injury....\n",
      "✓ Extracted activation for: You need to help me understand my medical bills....\n",
      "Layer 1 - Within: 0.9922, Cross: 0.9922, Diff: 0.0000\n",
      "\n",
      "Processing layer 2...\n",
      "✓ Extracted activation for: What is a lambda function in Python?...\n",
      "✓ Extracted activation for: Can you help me debug my code?...\n",
      "✓ Extracted activation for: I have a problem with my front-end rendering....\n",
      "✓ Extracted activation for: You need to help me understand my algorithms homew...\n",
      "✓ Extracted activation for: What are the symptoms of a stroke?...\n",
      "✓ Extracted activation for: Can you help me explain my rash?...\n",
      "✓ Extracted activation for: I have a problem with my TFCC injury....\n",
      "✓ Extracted activation for: You need to help me understand my medical bills....\n",
      "Layer 2 - Within: 0.9922, Cross: 0.9922, Diff: 0.0000\n",
      "\n",
      "Processing layer 3...\n",
      "✓ Extracted activation for: What is a lambda function in Python?...\n",
      "✓ Extracted activation for: Can you help me debug my code?...\n",
      "✓ Extracted activation for: I have a problem with my front-end rendering....\n",
      "✓ Extracted activation for: You need to help me understand my algorithms homew...\n",
      "✓ Extracted activation for: What are the symptoms of a stroke?...\n",
      "✓ Extracted activation for: Can you help me explain my rash?...\n",
      "✓ Extracted activation for: I have a problem with my TFCC injury....\n",
      "✓ Extracted activation for: You need to help me understand my medical bills....\n",
      "Layer 3 - Within: 0.9961, Cross: 0.9922, Diff: 0.0039\n",
      "\n",
      "Processing layer 4...\n",
      "✓ Extracted activation for: What is a lambda function in Python?...\n",
      "✓ Extracted activation for: Can you help me debug my code?...\n",
      "✓ Extracted activation for: I have a problem with my front-end rendering....\n",
      "✓ Extracted activation for: You need to help me understand my algorithms homew...\n",
      "✓ Extracted activation for: What are the symptoms of a stroke?...\n",
      "✓ Extracted activation for: Can you help me explain my rash?...\n",
      "✓ Extracted activation for: I have a problem with my TFCC injury....\n",
      "✓ Extracted activation for: You need to help me understand my medical bills....\n",
      "Layer 4 - Within: 0.9727, Cross: 0.9648, Diff: 0.0078\n",
      "\n",
      "Processing layer 5...\n",
      "✓ Extracted activation for: What is a lambda function in Python?...\n",
      "✓ Extracted activation for: Can you help me debug my code?...\n",
      "✓ Extracted activation for: I have a problem with my front-end rendering....\n",
      "✓ Extracted activation for: You need to help me understand my algorithms homew...\n",
      "✓ Extracted activation for: What are the symptoms of a stroke?...\n",
      "✓ Extracted activation for: Can you help me explain my rash?...\n",
      "✓ Extracted activation for: I have a problem with my TFCC injury....\n",
      "✓ Extracted activation for: You need to help me understand my medical bills....\n",
      "Layer 5 - Within: 0.9688, Cross: 0.9688, Diff: 0.0000\n",
      "\n",
      "Processing layer 6...\n",
      "✓ Extracted activation for: What is a lambda function in Python?...\n",
      "✓ Extracted activation for: Can you help me debug my code?...\n",
      "✓ Extracted activation for: I have a problem with my front-end rendering....\n",
      "✓ Extracted activation for: You need to help me understand my algorithms homew...\n",
      "✓ Extracted activation for: What are the symptoms of a stroke?...\n",
      "✓ Extracted activation for: Can you help me explain my rash?...\n",
      "✓ Extracted activation for: I have a problem with my TFCC injury....\n",
      "✓ Extracted activation for: You need to help me understand my medical bills....\n",
      "Layer 6 - Within: 0.9531, Cross: 0.9414, Diff: 0.0117\n",
      "\n",
      "Processing layer 7...\n",
      "✓ Extracted activation for: What is a lambda function in Python?...\n",
      "✓ Extracted activation for: Can you help me debug my code?...\n",
      "✓ Extracted activation for: I have a problem with my front-end rendering....\n",
      "✓ Extracted activation for: You need to help me understand my algorithms homew...\n",
      "✓ Extracted activation for: What are the symptoms of a stroke?...\n",
      "✓ Extracted activation for: Can you help me explain my rash?...\n",
      "✓ Extracted activation for: I have a problem with my TFCC injury....\n",
      "✓ Extracted activation for: You need to help me understand my medical bills....\n",
      "Layer 7 - Within: 0.9688, Cross: 0.9570, Diff: 0.0117\n",
      "\n",
      "Processing layer 8...\n",
      "✓ Extracted activation for: What is a lambda function in Python?...\n",
      "✓ Extracted activation for: Can you help me debug my code?...\n",
      "✓ Extracted activation for: I have a problem with my front-end rendering....\n",
      "✓ Extracted activation for: You need to help me understand my algorithms homew...\n",
      "✓ Extracted activation for: What are the symptoms of a stroke?...\n",
      "✓ Extracted activation for: Can you help me explain my rash?...\n",
      "✓ Extracted activation for: I have a problem with my TFCC injury....\n",
      "✓ Extracted activation for: You need to help me understand my medical bills....\n",
      "Layer 8 - Within: 0.8984, Cross: 0.8867, Diff: 0.0117\n",
      "\n",
      "Processing layer 9...\n",
      "✓ Extracted activation for: What is a lambda function in Python?...\n",
      "✓ Extracted activation for: Can you help me debug my code?...\n",
      "✓ Extracted activation for: I have a problem with my front-end rendering....\n",
      "✓ Extracted activation for: You need to help me understand my algorithms homew...\n",
      "✓ Extracted activation for: What are the symptoms of a stroke?...\n",
      "✓ Extracted activation for: Can you help me explain my rash?...\n",
      "✓ Extracted activation for: I have a problem with my TFCC injury....\n",
      "✓ Extracted activation for: You need to help me understand my medical bills....\n",
      "Layer 9 - Within: 0.8750, Cross: 0.8594, Diff: 0.0156\n",
      "\n",
      "Processing layer 10...\n",
      "✓ Extracted activation for: What is a lambda function in Python?...\n",
      "✓ Extracted activation for: Can you help me debug my code?...\n",
      "✓ Extracted activation for: I have a problem with my front-end rendering....\n",
      "✓ Extracted activation for: You need to help me understand my algorithms homew...\n",
      "✓ Extracted activation for: What are the symptoms of a stroke?...\n",
      "✓ Extracted activation for: Can you help me explain my rash?...\n",
      "✓ Extracted activation for: I have a problem with my TFCC injury....\n",
      "✓ Extracted activation for: You need to help me understand my medical bills....\n",
      "Layer 10 - Within: 0.8438, Cross: 0.8203, Diff: 0.0234\n",
      "\n",
      "Processing layer 11...\n",
      "✓ Extracted activation for: What is a lambda function in Python?...\n",
      "✓ Extracted activation for: Can you help me debug my code?...\n",
      "✓ Extracted activation for: I have a problem with my front-end rendering....\n",
      "✓ Extracted activation for: You need to help me understand my algorithms homew...\n",
      "✓ Extracted activation for: What are the symptoms of a stroke?...\n",
      "✓ Extracted activation for: Can you help me explain my rash?...\n",
      "✓ Extracted activation for: I have a problem with my TFCC injury....\n",
      "✓ Extracted activation for: You need to help me understand my medical bills....\n",
      "Layer 11 - Within: 0.8594, Cross: 0.8320, Diff: 0.0273\n",
      "\n",
      "Processing layer 12...\n",
      "✓ Extracted activation for: What is a lambda function in Python?...\n",
      "✓ Extracted activation for: Can you help me debug my code?...\n",
      "✓ Extracted activation for: I have a problem with my front-end rendering....\n",
      "✓ Extracted activation for: You need to help me understand my algorithms homew...\n",
      "✓ Extracted activation for: What are the symptoms of a stroke?...\n",
      "✓ Extracted activation for: Can you help me explain my rash?...\n",
      "✓ Extracted activation for: I have a problem with my TFCC injury....\n",
      "✓ Extracted activation for: You need to help me understand my medical bills....\n",
      "Layer 12 - Within: 0.8438, Cross: 0.8242, Diff: 0.0195\n",
      "\n",
      "Processing layer 13...\n",
      "✓ Extracted activation for: What is a lambda function in Python?...\n",
      "✓ Extracted activation for: Can you help me debug my code?...\n",
      "✓ Extracted activation for: I have a problem with my front-end rendering....\n",
      "✓ Extracted activation for: You need to help me understand my algorithms homew...\n",
      "✓ Extracted activation for: What are the symptoms of a stroke?...\n",
      "✓ Extracted activation for: Can you help me explain my rash?...\n",
      "✓ Extracted activation for: I have a problem with my TFCC injury....\n",
      "✓ Extracted activation for: You need to help me understand my medical bills....\n",
      "Layer 13 - Within: 0.8281, Cross: 0.8203, Diff: 0.0078\n",
      "\n",
      "Processing layer 14...\n",
      "✓ Extracted activation for: What is a lambda function in Python?...\n",
      "✓ Extracted activation for: Can you help me debug my code?...\n",
      "✓ Extracted activation for: I have a problem with my front-end rendering....\n",
      "✓ Extracted activation for: You need to help me understand my algorithms homew...\n",
      "✓ Extracted activation for: What are the symptoms of a stroke?...\n",
      "✓ Extracted activation for: Can you help me explain my rash?...\n",
      "✓ Extracted activation for: I have a problem with my TFCC injury....\n",
      "✓ Extracted activation for: You need to help me understand my medical bills....\n",
      "Layer 14 - Within: 0.8398, Cross: 0.8359, Diff: 0.0039\n",
      "\n",
      "Processing layer 15...\n",
      "✓ Extracted activation for: What is a lambda function in Python?...\n",
      "✓ Extracted activation for: Can you help me debug my code?...\n",
      "✓ Extracted activation for: I have a problem with my front-end rendering....\n",
      "✓ Extracted activation for: You need to help me understand my algorithms homew...\n",
      "✓ Extracted activation for: What are the symptoms of a stroke?...\n",
      "✓ Extracted activation for: Can you help me explain my rash?...\n",
      "✓ Extracted activation for: I have a problem with my TFCC injury....\n",
      "✓ Extracted activation for: You need to help me understand my medical bills....\n",
      "Layer 15 - Within: 0.8281, Cross: 0.8203, Diff: 0.0078\n",
      "\n",
      "Processing layer 16...\n",
      "✓ Extracted activation for: What is a lambda function in Python?...\n",
      "✓ Extracted activation for: Can you help me debug my code?...\n",
      "✓ Extracted activation for: I have a problem with my front-end rendering....\n",
      "✓ Extracted activation for: You need to help me understand my algorithms homew...\n",
      "✓ Extracted activation for: What are the symptoms of a stroke?...\n",
      "✓ Extracted activation for: Can you help me explain my rash?...\n",
      "✓ Extracted activation for: I have a problem with my TFCC injury....\n",
      "✓ Extracted activation for: You need to help me understand my medical bills....\n",
      "Layer 16 - Within: 0.8281, Cross: 0.8242, Diff: 0.0039\n",
      "\n",
      "Processing layer 17...\n",
      "✓ Extracted activation for: What is a lambda function in Python?...\n",
      "✓ Extracted activation for: Can you help me debug my code?...\n",
      "✓ Extracted activation for: I have a problem with my front-end rendering....\n",
      "✓ Extracted activation for: You need to help me understand my algorithms homew...\n",
      "✓ Extracted activation for: What are the symptoms of a stroke?...\n",
      "✓ Extracted activation for: Can you help me explain my rash?...\n",
      "✓ Extracted activation for: I have a problem with my TFCC injury....\n",
      "✓ Extracted activation for: You need to help me understand my medical bills....\n",
      "Layer 17 - Within: 0.8516, Cross: 0.8438, Diff: 0.0078\n",
      "\n",
      "Processing layer 18...\n",
      "✓ Extracted activation for: What is a lambda function in Python?...\n",
      "✓ Extracted activation for: Can you help me debug my code?...\n",
      "✓ Extracted activation for: I have a problem with my front-end rendering....\n",
      "✓ Extracted activation for: You need to help me understand my algorithms homew...\n",
      "✓ Extracted activation for: What are the symptoms of a stroke?...\n",
      "✓ Extracted activation for: Can you help me explain my rash?...\n",
      "✓ Extracted activation for: I have a problem with my TFCC injury....\n",
      "✓ Extracted activation for: You need to help me understand my medical bills....\n",
      "Layer 18 - Within: 0.8438, Cross: 0.8281, Diff: 0.0156\n",
      "\n",
      "Processing layer 19...\n",
      "✓ Extracted activation for: What is a lambda function in Python?...\n",
      "✓ Extracted activation for: Can you help me debug my code?...\n",
      "✓ Extracted activation for: I have a problem with my front-end rendering....\n",
      "✓ Extracted activation for: You need to help me understand my algorithms homew...\n",
      "✓ Extracted activation for: What are the symptoms of a stroke?...\n",
      "✓ Extracted activation for: Can you help me explain my rash?...\n",
      "✓ Extracted activation for: I have a problem with my TFCC injury....\n",
      "✓ Extracted activation for: You need to help me understand my medical bills....\n",
      "Layer 19 - Within: 0.8516, Cross: 0.8438, Diff: 0.0078\n",
      "\n",
      "Processing layer 20...\n",
      "✓ Extracted activation for: What is a lambda function in Python?...\n",
      "✓ Extracted activation for: Can you help me debug my code?...\n",
      "✓ Extracted activation for: I have a problem with my front-end rendering....\n",
      "✓ Extracted activation for: You need to help me understand my algorithms homew...\n",
      "✓ Extracted activation for: What are the symptoms of a stroke?...\n",
      "✓ Extracted activation for: Can you help me explain my rash?...\n",
      "✓ Extracted activation for: I have a problem with my TFCC injury....\n",
      "✓ Extracted activation for: You need to help me understand my medical bills....\n",
      "Layer 20 - Within: 0.8672, Cross: 0.8555, Diff: 0.0117\n",
      "\n",
      "Processing layer 21...\n",
      "✓ Extracted activation for: What is a lambda function in Python?...\n",
      "✓ Extracted activation for: Can you help me debug my code?...\n",
      "✓ Extracted activation for: I have a problem with my front-end rendering....\n",
      "✓ Extracted activation for: You need to help me understand my algorithms homew...\n",
      "✓ Extracted activation for: What are the symptoms of a stroke?...\n",
      "✓ Extracted activation for: Can you help me explain my rash?...\n",
      "✓ Extracted activation for: I have a problem with my TFCC injury....\n",
      "✓ Extracted activation for: You need to help me understand my medical bills....\n",
      "Layer 21 - Within: 0.8672, Cross: 0.8477, Diff: 0.0195\n",
      "\n",
      "Processing layer 22...\n",
      "✓ Extracted activation for: What is a lambda function in Python?...\n",
      "✓ Extracted activation for: Can you help me debug my code?...\n",
      "✓ Extracted activation for: I have a problem with my front-end rendering....\n",
      "✓ Extracted activation for: You need to help me understand my algorithms homew...\n",
      "✓ Extracted activation for: What are the symptoms of a stroke?...\n",
      "✓ Extracted activation for: Can you help me explain my rash?...\n",
      "✓ Extracted activation for: I have a problem with my TFCC injury....\n",
      "✓ Extracted activation for: You need to help me understand my medical bills....\n",
      "Layer 22 - Within: 0.8594, Cross: 0.8398, Diff: 0.0195\n",
      "\n",
      "Processing layer 23...\n",
      "✓ Extracted activation for: What is a lambda function in Python?...\n",
      "✓ Extracted activation for: Can you help me debug my code?...\n",
      "✓ Extracted activation for: I have a problem with my front-end rendering....\n",
      "✓ Extracted activation for: You need to help me understand my algorithms homew...\n",
      "✓ Extracted activation for: What are the symptoms of a stroke?...\n",
      "✓ Extracted activation for: Can you help me explain my rash?...\n",
      "✓ Extracted activation for: I have a problem with my TFCC injury....\n",
      "✓ Extracted activation for: You need to help me understand my medical bills....\n",
      "Layer 23 - Within: 0.8555, Cross: 0.8438, Diff: 0.0117\n",
      "\n",
      "Processing layer 24...\n",
      "✓ Extracted activation for: What is a lambda function in Python?...\n",
      "✓ Extracted activation for: Can you help me debug my code?...\n",
      "✓ Extracted activation for: I have a problem with my front-end rendering....\n",
      "✓ Extracted activation for: You need to help me understand my algorithms homew...\n",
      "✓ Extracted activation for: What are the symptoms of a stroke?...\n",
      "✓ Extracted activation for: Can you help me explain my rash?...\n",
      "✓ Extracted activation for: I have a problem with my TFCC injury....\n",
      "✓ Extracted activation for: You need to help me understand my medical bills....\n",
      "Layer 24 - Within: 0.8398, Cross: 0.8281, Diff: 0.0117\n",
      "\n",
      "Processing layer 25...\n",
      "✓ Extracted activation for: What is a lambda function in Python?...\n",
      "✓ Extracted activation for: Can you help me debug my code?...\n",
      "✓ Extracted activation for: I have a problem with my front-end rendering....\n",
      "✓ Extracted activation for: You need to help me understand my algorithms homew...\n",
      "✓ Extracted activation for: What are the symptoms of a stroke?...\n",
      "✓ Extracted activation for: Can you help me explain my rash?...\n",
      "✓ Extracted activation for: I have a problem with my TFCC injury....\n",
      "✓ Extracted activation for: You need to help me understand my medical bills....\n",
      "Layer 25 - Within: 0.8203, Cross: 0.8047, Diff: 0.0156\n",
      "\n",
      "Processing layer 26...\n",
      "✓ Extracted activation for: What is a lambda function in Python?...\n",
      "✓ Extracted activation for: Can you help me debug my code?...\n",
      "✓ Extracted activation for: I have a problem with my front-end rendering....\n",
      "✓ Extracted activation for: You need to help me understand my algorithms homew...\n",
      "✓ Extracted activation for: What are the symptoms of a stroke?...\n",
      "✓ Extracted activation for: Can you help me explain my rash?...\n",
      "✓ Extracted activation for: I have a problem with my TFCC injury....\n",
      "✓ Extracted activation for: You need to help me understand my medical bills....\n",
      "Layer 26 - Within: 0.7656, Cross: 0.7383, Diff: 0.0273\n",
      "\n",
      "Processing layer 27...\n",
      "✓ Extracted activation for: What is a lambda function in Python?...\n",
      "✓ Extracted activation for: Can you help me debug my code?...\n",
      "✓ Extracted activation for: I have a problem with my front-end rendering....\n",
      "✓ Extracted activation for: You need to help me understand my algorithms homew...\n",
      "✓ Extracted activation for: What are the symptoms of a stroke?...\n",
      "✓ Extracted activation for: Can you help me explain my rash?...\n",
      "✓ Extracted activation for: I have a problem with my TFCC injury....\n",
      "✓ Extracted activation for: You need to help me understand my medical bills....\n",
      "Layer 27 - Within: 0.7656, Cross: 0.7305, Diff: 0.0352\n",
      "\n",
      "Processing layer 28...\n",
      "✓ Extracted activation for: What is a lambda function in Python?...\n",
      "✓ Extracted activation for: Can you help me debug my code?...\n",
      "✓ Extracted activation for: I have a problem with my front-end rendering....\n",
      "✓ Extracted activation for: You need to help me understand my algorithms homew...\n",
      "✓ Extracted activation for: What are the symptoms of a stroke?...\n",
      "✓ Extracted activation for: Can you help me explain my rash?...\n",
      "✓ Extracted activation for: I have a problem with my TFCC injury....\n",
      "✓ Extracted activation for: You need to help me understand my medical bills....\n",
      "Layer 28 - Within: 0.7227, Cross: 0.6836, Diff: 0.0391\n",
      "\n",
      "Processing layer 29...\n",
      "✓ Extracted activation for: What is a lambda function in Python?...\n",
      "✓ Extracted activation for: Can you help me debug my code?...\n",
      "✓ Extracted activation for: I have a problem with my front-end rendering....\n",
      "✓ Extracted activation for: You need to help me understand my algorithms homew...\n",
      "✓ Extracted activation for: What are the symptoms of a stroke?...\n",
      "✓ Extracted activation for: Can you help me explain my rash?...\n",
      "✓ Extracted activation for: I have a problem with my TFCC injury....\n",
      "✓ Extracted activation for: You need to help me understand my medical bills....\n",
      "Layer 29 - Within: 0.7109, Cross: 0.6602, Diff: 0.0508\n",
      "\n",
      "Processing layer 30...\n",
      "✓ Extracted activation for: What is a lambda function in Python?...\n",
      "✓ Extracted activation for: Can you help me debug my code?...\n",
      "✓ Extracted activation for: I have a problem with my front-end rendering....\n",
      "✓ Extracted activation for: You need to help me understand my algorithms homew...\n",
      "✓ Extracted activation for: What are the symptoms of a stroke?...\n",
      "✓ Extracted activation for: Can you help me explain my rash?...\n",
      "✓ Extracted activation for: I have a problem with my TFCC injury....\n",
      "✓ Extracted activation for: You need to help me understand my medical bills....\n",
      "Layer 30 - Within: 0.7031, Cross: 0.6445, Diff: 0.0586\n",
      "\n",
      "Processing layer 31...\n",
      "✓ Extracted activation for: What is a lambda function in Python?...\n",
      "✓ Extracted activation for: Can you help me debug my code?...\n",
      "✓ Extracted activation for: I have a problem with my front-end rendering....\n",
      "✓ Extracted activation for: You need to help me understand my algorithms homew...\n",
      "✓ Extracted activation for: What are the symptoms of a stroke?...\n",
      "✓ Extracted activation for: Can you help me explain my rash?...\n",
      "✓ Extracted activation for: I have a problem with my TFCC injury....\n",
      "✓ Extracted activation for: You need to help me understand my medical bills....\n",
      "Layer 31 - Within: 0.6953, Cross: 0.6250, Diff: 0.0703\n",
      "\n",
      "Processing layer 32...\n",
      "✓ Extracted activation for: What is a lambda function in Python?...\n",
      "✓ Extracted activation for: Can you help me debug my code?...\n",
      "✓ Extracted activation for: I have a problem with my front-end rendering....\n",
      "✓ Extracted activation for: You need to help me understand my algorithms homew...\n",
      "✓ Extracted activation for: What are the symptoms of a stroke?...\n",
      "✓ Extracted activation for: Can you help me explain my rash?...\n",
      "✓ Extracted activation for: I have a problem with my TFCC injury....\n",
      "✓ Extracted activation for: You need to help me understand my medical bills....\n",
      "Layer 32 - Within: 0.6836, Cross: 0.6094, Diff: 0.0742\n",
      "\n",
      "Processing layer 33...\n",
      "✓ Extracted activation for: What is a lambda function in Python?...\n",
      "✓ Extracted activation for: Can you help me debug my code?...\n",
      "✓ Extracted activation for: I have a problem with my front-end rendering....\n",
      "✓ Extracted activation for: You need to help me understand my algorithms homew...\n",
      "✓ Extracted activation for: What are the symptoms of a stroke?...\n",
      "✓ Extracted activation for: Can you help me explain my rash?...\n",
      "✓ Extracted activation for: I have a problem with my TFCC injury....\n",
      "✓ Extracted activation for: You need to help me understand my medical bills....\n",
      "Layer 33 - Within: 0.6719, Cross: 0.5977, Diff: 0.0742\n",
      "\n",
      "Processing layer 34...\n",
      "✓ Extracted activation for: What is a lambda function in Python?...\n",
      "✓ Extracted activation for: Can you help me debug my code?...\n",
      "✓ Extracted activation for: I have a problem with my front-end rendering....\n",
      "✓ Extracted activation for: You need to help me understand my algorithms homew...\n",
      "✓ Extracted activation for: What are the symptoms of a stroke?...\n",
      "✓ Extracted activation for: Can you help me explain my rash?...\n",
      "✓ Extracted activation for: I have a problem with my TFCC injury....\n",
      "✓ Extracted activation for: You need to help me understand my medical bills....\n",
      "Layer 34 - Within: 0.6875, Cross: 0.6133, Diff: 0.0742\n",
      "\n",
      "Processing layer 35...\n",
      "✓ Extracted activation for: What is a lambda function in Python?...\n",
      "✓ Extracted activation for: Can you help me debug my code?...\n",
      "✓ Extracted activation for: I have a problem with my front-end rendering....\n",
      "✓ Extracted activation for: You need to help me understand my algorithms homew...\n",
      "✓ Extracted activation for: What are the symptoms of a stroke?...\n",
      "✓ Extracted activation for: Can you help me explain my rash?...\n",
      "✓ Extracted activation for: I have a problem with my TFCC injury....\n",
      "✓ Extracted activation for: You need to help me understand my medical bills....\n",
      "Layer 35 - Within: 0.6875, Cross: 0.6133, Diff: 0.0742\n",
      "\n",
      "Processing layer 36...\n",
      "✓ Extracted activation for: What is a lambda function in Python?...\n",
      "✓ Extracted activation for: Can you help me debug my code?...\n",
      "✓ Extracted activation for: I have a problem with my front-end rendering....\n",
      "✓ Extracted activation for: You need to help me understand my algorithms homew...\n",
      "✓ Extracted activation for: What are the symptoms of a stroke?...\n",
      "✓ Extracted activation for: Can you help me explain my rash?...\n",
      "✓ Extracted activation for: I have a problem with my TFCC injury....\n",
      "✓ Extracted activation for: You need to help me understand my medical bills....\n",
      "Layer 36 - Within: 0.6914, Cross: 0.6094, Diff: 0.0820\n",
      "\n",
      "Processing layer 37...\n",
      "✓ Extracted activation for: What is a lambda function in Python?...\n",
      "✓ Extracted activation for: Can you help me debug my code?...\n",
      "✓ Extracted activation for: I have a problem with my front-end rendering....\n",
      "✓ Extracted activation for: You need to help me understand my algorithms homew...\n",
      "✓ Extracted activation for: What are the symptoms of a stroke?...\n",
      "✓ Extracted activation for: Can you help me explain my rash?...\n",
      "✓ Extracted activation for: I have a problem with my TFCC injury....\n",
      "✓ Extracted activation for: You need to help me understand my medical bills....\n",
      "Layer 37 - Within: 0.6914, Cross: 0.6094, Diff: 0.0820\n",
      "\n",
      "Processing layer 38...\n",
      "✓ Extracted activation for: What is a lambda function in Python?...\n",
      "✓ Extracted activation for: Can you help me debug my code?...\n",
      "✓ Extracted activation for: I have a problem with my front-end rendering....\n",
      "✓ Extracted activation for: You need to help me understand my algorithms homew...\n",
      "✓ Extracted activation for: What are the symptoms of a stroke?...\n",
      "✓ Extracted activation for: Can you help me explain my rash?...\n",
      "✓ Extracted activation for: I have a problem with my TFCC injury....\n",
      "✓ Extracted activation for: You need to help me understand my medical bills....\n",
      "Layer 38 - Within: 0.7109, Cross: 0.6328, Diff: 0.0781\n",
      "\n",
      "Processing layer 39...\n",
      "✓ Extracted activation for: What is a lambda function in Python?...\n",
      "✓ Extracted activation for: Can you help me debug my code?...\n",
      "✓ Extracted activation for: I have a problem with my front-end rendering....\n",
      "✓ Extracted activation for: You need to help me understand my algorithms homew...\n",
      "✓ Extracted activation for: What are the symptoms of a stroke?...\n",
      "✓ Extracted activation for: Can you help me explain my rash?...\n",
      "✓ Extracted activation for: I have a problem with my TFCC injury....\n",
      "✓ Extracted activation for: You need to help me understand my medical bills....\n",
      "Layer 39 - Within: 0.7344, Cross: 0.6602, Diff: 0.0742\n",
      "\n",
      "Processing layer 40...\n",
      "✓ Extracted activation for: What is a lambda function in Python?...\n",
      "✓ Extracted activation for: Can you help me debug my code?...\n",
      "✓ Extracted activation for: I have a problem with my front-end rendering....\n",
      "✓ Extracted activation for: You need to help me understand my algorithms homew...\n",
      "✓ Extracted activation for: What are the symptoms of a stroke?...\n",
      "✓ Extracted activation for: Can you help me explain my rash?...\n",
      "✓ Extracted activation for: I have a problem with my TFCC injury....\n",
      "✓ Extracted activation for: You need to help me understand my medical bills....\n",
      "Layer 40 - Within: 0.8047, Cross: 0.7461, Diff: 0.0586\n",
      "\n",
      "Processing layer 41...\n",
      "✓ Extracted activation for: What is a lambda function in Python?...\n",
      "✓ Extracted activation for: Can you help me debug my code?...\n",
      "✓ Extracted activation for: I have a problem with my front-end rendering....\n",
      "✓ Extracted activation for: You need to help me understand my algorithms homew...\n",
      "✓ Extracted activation for: What are the symptoms of a stroke?...\n",
      "✓ Extracted activation for: Can you help me explain my rash?...\n",
      "✓ Extracted activation for: I have a problem with my TFCC injury....\n",
      "✓ Extracted activation for: You need to help me understand my medical bills....\n",
      "Layer 41 - Within: 0.8789, Cross: 0.8516, Diff: 0.0273\n",
      "\n",
      "================================================================================\n",
      "SIMILARITY ANALYSIS COMPLETE\n",
      "================================================================================\n"
     ]
    }
   ],
   "source": [
    "# Extract activations for all layers and compute similarities\n",
    "print(\"Extracting activations for all layers...\")\n",
    "all_layer_results = {}\n",
    "summary_results = []\n",
    "\n",
    "num_layers = model.config.num_hidden_layers\n",
    "print(f\"Model has {num_layers} layers\")\n",
    "\n",
    "for layer_idx in range(num_layers):\n",
    "    print(f\"\\nProcessing layer {layer_idx}...\")\n",
    "    \n",
    "    # Extract activations for current layer\n",
    "    coding_activations = extract_activations_for_prompts(model, tokenizer, coding_prompts, layer_idx)\n",
    "    medical_activations = extract_activations_for_prompts(model, tokenizer, medical_prompts, layer_idx)\n",
    "    \n",
    "    # Analyze similarities for this layer\n",
    "    layer_results = analyze_similarity_for_layer(coding_activations, medical_activations)\n",
    "    all_layer_results[layer_idx] = layer_results\n",
    "    \n",
    "    # Add to summary\n",
    "    summary_results.append({\n",
    "        'layer': layer_idx,\n",
    "        'avg_within_category': layer_results['avg_within_category'],\n",
    "        'avg_cross_category': layer_results['avg_cross_category'], \n",
    "        'similarity_difference': layer_results['similarity_difference'],\n",
    "        'avg_coding_coding': layer_results['avg_coding_coding'],\n",
    "        'avg_medical_medical': layer_results['avg_medical_medical']\n",
    "    })\n",
    "    \n",
    "    print(f\"Layer {layer_idx} - Within: {layer_results['avg_within_category']:.4f}, Cross: {layer_results['avg_cross_category']:.4f}, Diff: {layer_results['similarity_difference']:.4f}\")\n",
    "\n",
    "print(\"\\n\" + \"=\"*80)\n",
    "print(\"SIMILARITY ANALYSIS COMPLETE\")\n",
    "print(\"=\"*80)"
   ]
  },
  {
   "cell_type": "code",
   "execution_count": 17,
   "metadata": {},
   "outputs": [
    {
     "name": "stdout",
     "output_type": "stream",
     "text": [
      "SUMMARY TABLE:\n",
      "========================================================================================================================\n",
      " layer  avg_within_category  avg_cross_category  similarity_difference  avg_coding_coding  avg_medical_medical\n",
      "     0               1.0000              1.0000                 0.0000             1.0000               1.0000\n",
      "     1               0.9922              0.9922                 0.0000             0.9883               0.9961\n",
      "     2               0.9922              0.9922                 0.0000             0.9961               0.9883\n",
      "     3               0.9961              0.9922                 0.0039             0.9961               0.9961\n",
      "     4               0.9727              0.9648                 0.0078             0.9648               0.9805\n",
      "     5               0.9688              0.9688                 0.0000             0.9688               0.9727\n",
      "     6               0.9531              0.9414                 0.0117             0.9531               0.9570\n",
      "     7               0.9688              0.9570                 0.0117             0.9648               0.9688\n",
      "     8               0.8984              0.8867                 0.0117             0.8867               0.9062\n",
      "     9               0.8750              0.8594                 0.0156             0.8555               0.8906\n",
      "    10               0.8438              0.8203                 0.0234             0.8281               0.8633\n",
      "    11               0.8594              0.8320                 0.0273             0.8398               0.8750\n",
      "    12               0.8438              0.8242                 0.0195             0.8281               0.8594\n",
      "    13               0.8281              0.8203                 0.0078             0.8125               0.8477\n",
      "    14               0.8398              0.8359                 0.0039             0.8242               0.8555\n",
      "    15               0.8281              0.8203                 0.0078             0.8086               0.8438\n",
      "    16               0.8281              0.8242                 0.0039             0.8125               0.8398\n",
      "    17               0.8516              0.8438                 0.0078             0.8438               0.8594\n",
      "    18               0.8438              0.8281                 0.0156             0.8281               0.8555\n",
      "    19               0.8516              0.8438                 0.0078             0.8438               0.8633\n",
      "    20               0.8672              0.8555                 0.0117             0.8594               0.8750\n",
      "    21               0.8672              0.8477                 0.0195             0.8555               0.8750\n",
      "    22               0.8594              0.8398                 0.0195             0.8555               0.8594\n",
      "    23               0.8555              0.8438                 0.0117             0.8477               0.8633\n",
      "    24               0.8398              0.8281                 0.0117             0.8320               0.8477\n",
      "    25               0.8203              0.8047                 0.0156             0.8125               0.8242\n",
      "    26               0.7656              0.7383                 0.0273             0.7617               0.7695\n",
      "    27               0.7656              0.7305                 0.0352             0.7617               0.7656\n",
      "    28               0.7227              0.6836                 0.0391             0.7227               0.7227\n",
      "    29               0.7109              0.6602                 0.0508             0.7070               0.7188\n",
      "    30               0.7031              0.6445                 0.0586             0.6992               0.7070\n",
      "    31               0.6953              0.6250                 0.0703             0.6875               0.6992\n",
      "    32               0.6836              0.6094                 0.0742             0.6758               0.6914\n",
      "    33               0.6719              0.5977                 0.0742             0.6719               0.6758\n",
      "    34               0.6875              0.6133                 0.0742             0.6836               0.6914\n",
      "    35               0.6875              0.6133                 0.0742             0.6875               0.6914\n",
      "    36               0.6914              0.6094                 0.0820             0.6836               0.6992\n",
      "    37               0.6914              0.6094                 0.0820             0.6836               0.6992\n",
      "    38               0.7109              0.6328                 0.0781             0.6914               0.7305\n",
      "    39               0.7344              0.6602                 0.0742             0.7188               0.7500\n",
      "    40               0.8047              0.7461                 0.0586             0.7930               0.8125\n",
      "    41               0.8789              0.8516                 0.0273             0.8789               0.8789\n",
      "\n",
      "\n",
      "KEY INSIGHTS:\n",
      "==================================================\n",
      "Layers with highest within-category similarity:\n",
      "  Layer 0: 1.0000\n",
      "  Layer 3: 0.9961\n",
      "  Layer 1: 0.9922\n",
      "\n",
      "Layers with highest similarity difference (within - cross):\n",
      "  Layer 36: 0.0820\n",
      "  Layer 37: 0.0820\n",
      "  Layer 38: 0.0781\n",
      "\n",
      "Overall statistics:\n",
      "  Mean within-category similarity: 0.8274\n",
      "  Mean cross-category similarity: 0.7974\n",
      "  Mean similarity difference: 0.0299\n",
      "\n",
      "Results stored in:\n",
      "  - all_layer_results: Dictionary with detailed matrices for each layer\n",
      "  - summary_results: List with summary statistics for each layer\n",
      "  - df_summary: Pandas DataFrame with summary statistics\n"
     ]
    }
   ],
   "source": [
    "# Display summary results\n",
    "import pandas as pd\n",
    "\n",
    "print(\"SUMMARY TABLE:\")\n",
    "print(\"=\"*120)\n",
    "df_summary = pd.DataFrame(summary_results)\n",
    "print(df_summary.to_string(index=False, float_format='%.4f'))\n",
    "\n",
    "print(\"\\n\\nKEY INSIGHTS:\")\n",
    "print(\"=\"*50)\n",
    "print(f\"Layers with highest within-category similarity:\")\n",
    "top_within = df_summary.nlargest(3, 'avg_within_category')[['layer', 'avg_within_category']]\n",
    "for _, row in top_within.iterrows():\n",
    "    print(f\"  Layer {int(row['layer'])}: {row['avg_within_category']:.4f}\")\n",
    "\n",
    "print(f\"\\nLayers with highest similarity difference (within - cross):\")\n",
    "top_diff = df_summary.nlargest(3, 'similarity_difference')[['layer', 'similarity_difference']]\n",
    "for _, row in top_diff.iterrows():\n",
    "    print(f\"  Layer {int(row['layer'])}: {row['similarity_difference']:.4f}\")\n",
    "\n",
    "print(f\"\\nOverall statistics:\")\n",
    "print(f\"  Mean within-category similarity: {df_summary['avg_within_category'].mean():.4f}\")\n",
    "print(f\"  Mean cross-category similarity: {df_summary['avg_cross_category'].mean():.4f}\")\n",
    "print(f\"  Mean similarity difference: {df_summary['similarity_difference'].mean():.4f}\")\n",
    "\n",
    "print(\"\\nResults stored in:\")\n",
    "print(\"  - all_layer_results: Dictionary with detailed matrices for each layer\")\n",
    "print(\"  - summary_results: List with summary statistics for each layer\")\n",
    "print(\"  - df_summary: Pandas DataFrame with summary statistics\")"
   ]
  },
  {
   "cell_type": "markdown",
   "metadata": {},
   "source": [
    "## Compare average feature activation at each layer\n",
    "\n",
    "For each sequence, get the average activation for each token position for each prompt and then compute the mean activation for all the prompts in a category."
   ]
  },
  {
   "cell_type": "code",
   "execution_count": 36,
   "metadata": {},
   "outputs": [
    {
     "data": {
      "application/vnd.plotly.v1+json": {
       "config": {
        "plotlyServerURL": "https://plot.ly"
       },
       "data": [
        {
         "customdata": [
          0,
          0,
          0,
          0.00390625,
          0.0078125,
          0,
          0.01171875,
          0.01171875,
          0.01171875,
          0.015625,
          0.0234375,
          0.02734375,
          0.01953125,
          0.0078125,
          0.00390625,
          0.0078125,
          0.00390625,
          0.0078125,
          0.015625,
          0.0078125,
          0.01171875,
          0.01953125,
          0.01953125,
          0.01171875,
          0.01171875,
          0.015625,
          0.02734375,
          0.03515625,
          0.0390625,
          0.05078125,
          0.05859375,
          0.0703125,
          0.07421875,
          0.07421875,
          0.07421875,
          0.07421875,
          0.08203125,
          0.08203125,
          0.078125,
          0.07421875,
          0.05859375,
          0.02734375
         ],
         "hovertemplate": "<b>Coding-Coding Similarity</b><br>Layer: %{x}<br>Similarity: %{y:.4f}<br>Difference (Within-Cross): %{customdata:.4f}<extra></extra>",
         "line": {
          "dash": "dash",
          "width": 2
         },
         "marker": {
          "size": 4
         },
         "mode": "lines+markers",
         "name": "Within Group: Coding-Coding",
         "type": "scatter",
         "x": [
          0,
          1,
          2,
          3,
          4,
          5,
          6,
          7,
          8,
          9,
          10,
          11,
          12,
          13,
          14,
          15,
          16,
          17,
          18,
          19,
          20,
          21,
          22,
          23,
          24,
          25,
          26,
          27,
          28,
          29,
          30,
          31,
          32,
          33,
          34,
          35,
          36,
          37,
          38,
          39,
          40,
          41
         ],
         "y": [
          1,
          0.98828125,
          0.99609375,
          0.99609375,
          0.96484375,
          0.96875,
          0.953125,
          0.96484375,
          0.88671875,
          0.85546875,
          0.828125,
          0.83984375,
          0.828125,
          0.8125,
          0.82421875,
          0.80859375,
          0.8125,
          0.84375,
          0.828125,
          0.84375,
          0.859375,
          0.85546875,
          0.85546875,
          0.84765625,
          0.83203125,
          0.8125,
          0.76171875,
          0.76171875,
          0.72265625,
          0.70703125,
          0.69921875,
          0.6875,
          0.67578125,
          0.671875,
          0.68359375,
          0.6875,
          0.68359375,
          0.68359375,
          0.69140625,
          0.71875,
          0.79296875,
          0.87890625
         ]
        },
        {
         "customdata": [
          0,
          0,
          0,
          0.00390625,
          0.0078125,
          0,
          0.01171875,
          0.01171875,
          0.01171875,
          0.015625,
          0.0234375,
          0.02734375,
          0.01953125,
          0.0078125,
          0.00390625,
          0.0078125,
          0.00390625,
          0.0078125,
          0.015625,
          0.0078125,
          0.01171875,
          0.01953125,
          0.01953125,
          0.01171875,
          0.01171875,
          0.015625,
          0.02734375,
          0.03515625,
          0.0390625,
          0.05078125,
          0.05859375,
          0.0703125,
          0.07421875,
          0.07421875,
          0.07421875,
          0.07421875,
          0.08203125,
          0.08203125,
          0.078125,
          0.07421875,
          0.05859375,
          0.02734375
         ],
         "hovertemplate": "<b>Medical-Medical Similarity</b><br>Layer: %{x}<br>Similarity: %{y:.4f}<br>Difference (Within-Cross): %{customdata:.4f}<extra></extra>",
         "line": {
          "dash": "dash",
          "width": 2
         },
         "marker": {
          "size": 4
         },
         "mode": "lines+markers",
         "name": "Within Group: Medical-Medical",
         "type": "scatter",
         "x": [
          0,
          1,
          2,
          3,
          4,
          5,
          6,
          7,
          8,
          9,
          10,
          11,
          12,
          13,
          14,
          15,
          16,
          17,
          18,
          19,
          20,
          21,
          22,
          23,
          24,
          25,
          26,
          27,
          28,
          29,
          30,
          31,
          32,
          33,
          34,
          35,
          36,
          37,
          38,
          39,
          40,
          41
         ],
         "y": [
          1,
          0.99609375,
          0.98828125,
          0.99609375,
          0.98046875,
          0.97265625,
          0.95703125,
          0.96875,
          0.90625,
          0.890625,
          0.86328125,
          0.875,
          0.859375,
          0.84765625,
          0.85546875,
          0.84375,
          0.83984375,
          0.859375,
          0.85546875,
          0.86328125,
          0.875,
          0.875,
          0.859375,
          0.86328125,
          0.84765625,
          0.82421875,
          0.76953125,
          0.765625,
          0.72265625,
          0.71875,
          0.70703125,
          0.69921875,
          0.69140625,
          0.67578125,
          0.69140625,
          0.69140625,
          0.69921875,
          0.69921875,
          0.73046875,
          0.75,
          0.8125,
          0.87890625
         ]
        },
        {
         "customdata": [
          0,
          0,
          0,
          0.00390625,
          0.0078125,
          0,
          0.01171875,
          0.01171875,
          0.01171875,
          0.015625,
          0.0234375,
          0.02734375,
          0.01953125,
          0.0078125,
          0.00390625,
          0.0078125,
          0.00390625,
          0.0078125,
          0.015625,
          0.0078125,
          0.01171875,
          0.01953125,
          0.01953125,
          0.01171875,
          0.01171875,
          0.015625,
          0.02734375,
          0.03515625,
          0.0390625,
          0.05078125,
          0.05859375,
          0.0703125,
          0.07421875,
          0.07421875,
          0.07421875,
          0.07421875,
          0.08203125,
          0.08203125,
          0.078125,
          0.07421875,
          0.05859375,
          0.02734375
         ],
         "hovertemplate": "<b>Across Groups (Coding-Medical)</b><br>Layer: %{x}<br>Average Similarity: %{y:.4f}<br>Difference (Within-Cross): %{customdata:.4f}<extra></extra>",
         "line": {
          "width": 2
         },
         "marker": {
          "size": 4
         },
         "mode": "lines+markers",
         "name": "Across Groups: Coding-Medical",
         "type": "scatter",
         "x": [
          0,
          1,
          2,
          3,
          4,
          5,
          6,
          7,
          8,
          9,
          10,
          11,
          12,
          13,
          14,
          15,
          16,
          17,
          18,
          19,
          20,
          21,
          22,
          23,
          24,
          25,
          26,
          27,
          28,
          29,
          30,
          31,
          32,
          33,
          34,
          35,
          36,
          37,
          38,
          39,
          40,
          41
         ],
         "y": [
          1,
          0.9921875,
          0.9921875,
          0.9921875,
          0.96484375,
          0.96875,
          0.94140625,
          0.95703125,
          0.88671875,
          0.859375,
          0.8203125,
          0.83203125,
          0.82421875,
          0.8203125,
          0.8359375,
          0.8203125,
          0.82421875,
          0.84375,
          0.828125,
          0.84375,
          0.85546875,
          0.84765625,
          0.83984375,
          0.84375,
          0.828125,
          0.8046875,
          0.73828125,
          0.73046875,
          0.68359375,
          0.66015625,
          0.64453125,
          0.625,
          0.609375,
          0.59765625,
          0.61328125,
          0.61328125,
          0.609375,
          0.609375,
          0.6328125,
          0.66015625,
          0.74609375,
          0.8515625
         ]
        }
       ],
       "layout": {
        "height": 600,
        "hovermode": "closest",
        "legend": {
         "x": 0.99,
         "xanchor": "right",
         "y": 0.98,
         "yanchor": "top"
        },
        "template": {
         "data": {
          "bar": [
           {
            "error_x": {
             "color": "#2a3f5f"
            },
            "error_y": {
             "color": "#2a3f5f"
            },
            "marker": {
             "line": {
              "color": "#E5ECF6",
              "width": 0.5
             },
             "pattern": {
              "fillmode": "overlay",
              "size": 10,
              "solidity": 0.2
             }
            },
            "type": "bar"
           }
          ],
          "barpolar": [
           {
            "marker": {
             "line": {
              "color": "#E5ECF6",
              "width": 0.5
             },
             "pattern": {
              "fillmode": "overlay",
              "size": 10,
              "solidity": 0.2
             }
            },
            "type": "barpolar"
           }
          ],
          "carpet": [
           {
            "aaxis": {
             "endlinecolor": "#2a3f5f",
             "gridcolor": "white",
             "linecolor": "white",
             "minorgridcolor": "white",
             "startlinecolor": "#2a3f5f"
            },
            "baxis": {
             "endlinecolor": "#2a3f5f",
             "gridcolor": "white",
             "linecolor": "white",
             "minorgridcolor": "white",
             "startlinecolor": "#2a3f5f"
            },
            "type": "carpet"
           }
          ],
          "choropleth": [
           {
            "colorbar": {
             "outlinewidth": 0,
             "ticks": ""
            },
            "type": "choropleth"
           }
          ],
          "contour": [
           {
            "colorbar": {
             "outlinewidth": 0,
             "ticks": ""
            },
            "colorscale": [
             [
              0,
              "#0d0887"
             ],
             [
              0.1111111111111111,
              "#46039f"
             ],
             [
              0.2222222222222222,
              "#7201a8"
             ],
             [
              0.3333333333333333,
              "#9c179e"
             ],
             [
              0.4444444444444444,
              "#bd3786"
             ],
             [
              0.5555555555555556,
              "#d8576b"
             ],
             [
              0.6666666666666666,
              "#ed7953"
             ],
             [
              0.7777777777777778,
              "#fb9f3a"
             ],
             [
              0.8888888888888888,
              "#fdca26"
             ],
             [
              1,
              "#f0f921"
             ]
            ],
            "type": "contour"
           }
          ],
          "contourcarpet": [
           {
            "colorbar": {
             "outlinewidth": 0,
             "ticks": ""
            },
            "type": "contourcarpet"
           }
          ],
          "heatmap": [
           {
            "colorbar": {
             "outlinewidth": 0,
             "ticks": ""
            },
            "colorscale": [
             [
              0,
              "#0d0887"
             ],
             [
              0.1111111111111111,
              "#46039f"
             ],
             [
              0.2222222222222222,
              "#7201a8"
             ],
             [
              0.3333333333333333,
              "#9c179e"
             ],
             [
              0.4444444444444444,
              "#bd3786"
             ],
             [
              0.5555555555555556,
              "#d8576b"
             ],
             [
              0.6666666666666666,
              "#ed7953"
             ],
             [
              0.7777777777777778,
              "#fb9f3a"
             ],
             [
              0.8888888888888888,
              "#fdca26"
             ],
             [
              1,
              "#f0f921"
             ]
            ],
            "type": "heatmap"
           }
          ],
          "heatmapgl": [
           {
            "colorbar": {
             "outlinewidth": 0,
             "ticks": ""
            },
            "colorscale": [
             [
              0,
              "#0d0887"
             ],
             [
              0.1111111111111111,
              "#46039f"
             ],
             [
              0.2222222222222222,
              "#7201a8"
             ],
             [
              0.3333333333333333,
              "#9c179e"
             ],
             [
              0.4444444444444444,
              "#bd3786"
             ],
             [
              0.5555555555555556,
              "#d8576b"
             ],
             [
              0.6666666666666666,
              "#ed7953"
             ],
             [
              0.7777777777777778,
              "#fb9f3a"
             ],
             [
              0.8888888888888888,
              "#fdca26"
             ],
             [
              1,
              "#f0f921"
             ]
            ],
            "type": "heatmapgl"
           }
          ],
          "histogram": [
           {
            "marker": {
             "pattern": {
              "fillmode": "overlay",
              "size": 10,
              "solidity": 0.2
             }
            },
            "type": "histogram"
           }
          ],
          "histogram2d": [
           {
            "colorbar": {
             "outlinewidth": 0,
             "ticks": ""
            },
            "colorscale": [
             [
              0,
              "#0d0887"
             ],
             [
              0.1111111111111111,
              "#46039f"
             ],
             [
              0.2222222222222222,
              "#7201a8"
             ],
             [
              0.3333333333333333,
              "#9c179e"
             ],
             [
              0.4444444444444444,
              "#bd3786"
             ],
             [
              0.5555555555555556,
              "#d8576b"
             ],
             [
              0.6666666666666666,
              "#ed7953"
             ],
             [
              0.7777777777777778,
              "#fb9f3a"
             ],
             [
              0.8888888888888888,
              "#fdca26"
             ],
             [
              1,
              "#f0f921"
             ]
            ],
            "type": "histogram2d"
           }
          ],
          "histogram2dcontour": [
           {
            "colorbar": {
             "outlinewidth": 0,
             "ticks": ""
            },
            "colorscale": [
             [
              0,
              "#0d0887"
             ],
             [
              0.1111111111111111,
              "#46039f"
             ],
             [
              0.2222222222222222,
              "#7201a8"
             ],
             [
              0.3333333333333333,
              "#9c179e"
             ],
             [
              0.4444444444444444,
              "#bd3786"
             ],
             [
              0.5555555555555556,
              "#d8576b"
             ],
             [
              0.6666666666666666,
              "#ed7953"
             ],
             [
              0.7777777777777778,
              "#fb9f3a"
             ],
             [
              0.8888888888888888,
              "#fdca26"
             ],
             [
              1,
              "#f0f921"
             ]
            ],
            "type": "histogram2dcontour"
           }
          ],
          "mesh3d": [
           {
            "colorbar": {
             "outlinewidth": 0,
             "ticks": ""
            },
            "type": "mesh3d"
           }
          ],
          "parcoords": [
           {
            "line": {
             "colorbar": {
              "outlinewidth": 0,
              "ticks": ""
             }
            },
            "type": "parcoords"
           }
          ],
          "pie": [
           {
            "automargin": true,
            "type": "pie"
           }
          ],
          "scatter": [
           {
            "fillpattern": {
             "fillmode": "overlay",
             "size": 10,
             "solidity": 0.2
            },
            "type": "scatter"
           }
          ],
          "scatter3d": [
           {
            "line": {
             "colorbar": {
              "outlinewidth": 0,
              "ticks": ""
             }
            },
            "marker": {
             "colorbar": {
              "outlinewidth": 0,
              "ticks": ""
             }
            },
            "type": "scatter3d"
           }
          ],
          "scattercarpet": [
           {
            "marker": {
             "colorbar": {
              "outlinewidth": 0,
              "ticks": ""
             }
            },
            "type": "scattercarpet"
           }
          ],
          "scattergeo": [
           {
            "marker": {
             "colorbar": {
              "outlinewidth": 0,
              "ticks": ""
             }
            },
            "type": "scattergeo"
           }
          ],
          "scattergl": [
           {
            "marker": {
             "colorbar": {
              "outlinewidth": 0,
              "ticks": ""
             }
            },
            "type": "scattergl"
           }
          ],
          "scattermapbox": [
           {
            "marker": {
             "colorbar": {
              "outlinewidth": 0,
              "ticks": ""
             }
            },
            "type": "scattermapbox"
           }
          ],
          "scatterpolar": [
           {
            "marker": {
             "colorbar": {
              "outlinewidth": 0,
              "ticks": ""
             }
            },
            "type": "scatterpolar"
           }
          ],
          "scatterpolargl": [
           {
            "marker": {
             "colorbar": {
              "outlinewidth": 0,
              "ticks": ""
             }
            },
            "type": "scatterpolargl"
           }
          ],
          "scatterternary": [
           {
            "marker": {
             "colorbar": {
              "outlinewidth": 0,
              "ticks": ""
             }
            },
            "type": "scatterternary"
           }
          ],
          "surface": [
           {
            "colorbar": {
             "outlinewidth": 0,
             "ticks": ""
            },
            "colorscale": [
             [
              0,
              "#0d0887"
             ],
             [
              0.1111111111111111,
              "#46039f"
             ],
             [
              0.2222222222222222,
              "#7201a8"
             ],
             [
              0.3333333333333333,
              "#9c179e"
             ],
             [
              0.4444444444444444,
              "#bd3786"
             ],
             [
              0.5555555555555556,
              "#d8576b"
             ],
             [
              0.6666666666666666,
              "#ed7953"
             ],
             [
              0.7777777777777778,
              "#fb9f3a"
             ],
             [
              0.8888888888888888,
              "#fdca26"
             ],
             [
              1,
              "#f0f921"
             ]
            ],
            "type": "surface"
           }
          ],
          "table": [
           {
            "cells": {
             "fill": {
              "color": "#EBF0F8"
             },
             "line": {
              "color": "white"
             }
            },
            "header": {
             "fill": {
              "color": "#C8D4E3"
             },
             "line": {
              "color": "white"
             }
            },
            "type": "table"
           }
          ]
         },
         "layout": {
          "annotationdefaults": {
           "arrowcolor": "#2a3f5f",
           "arrowhead": 0,
           "arrowwidth": 1
          },
          "autotypenumbers": "strict",
          "coloraxis": {
           "colorbar": {
            "outlinewidth": 0,
            "ticks": ""
           }
          },
          "colorscale": {
           "diverging": [
            [
             0,
             "#8e0152"
            ],
            [
             0.1,
             "#c51b7d"
            ],
            [
             0.2,
             "#de77ae"
            ],
            [
             0.3,
             "#f1b6da"
            ],
            [
             0.4,
             "#fde0ef"
            ],
            [
             0.5,
             "#f7f7f7"
            ],
            [
             0.6,
             "#e6f5d0"
            ],
            [
             0.7,
             "#b8e186"
            ],
            [
             0.8,
             "#7fbc41"
            ],
            [
             0.9,
             "#4d9221"
            ],
            [
             1,
             "#276419"
            ]
           ],
           "sequential": [
            [
             0,
             "#0d0887"
            ],
            [
             0.1111111111111111,
             "#46039f"
            ],
            [
             0.2222222222222222,
             "#7201a8"
            ],
            [
             0.3333333333333333,
             "#9c179e"
            ],
            [
             0.4444444444444444,
             "#bd3786"
            ],
            [
             0.5555555555555556,
             "#d8576b"
            ],
            [
             0.6666666666666666,
             "#ed7953"
            ],
            [
             0.7777777777777778,
             "#fb9f3a"
            ],
            [
             0.8888888888888888,
             "#fdca26"
            ],
            [
             1,
             "#f0f921"
            ]
           ],
           "sequentialminus": [
            [
             0,
             "#0d0887"
            ],
            [
             0.1111111111111111,
             "#46039f"
            ],
            [
             0.2222222222222222,
             "#7201a8"
            ],
            [
             0.3333333333333333,
             "#9c179e"
            ],
            [
             0.4444444444444444,
             "#bd3786"
            ],
            [
             0.5555555555555556,
             "#d8576b"
            ],
            [
             0.6666666666666666,
             "#ed7953"
            ],
            [
             0.7777777777777778,
             "#fb9f3a"
            ],
            [
             0.8888888888888888,
             "#fdca26"
            ],
            [
             1,
             "#f0f921"
            ]
           ]
          },
          "colorway": [
           "#636efa",
           "#EF553B",
           "#00cc96",
           "#ab63fa",
           "#FFA15A",
           "#19d3f3",
           "#FF6692",
           "#B6E880",
           "#FF97FF",
           "#FECB52"
          ],
          "font": {
           "color": "#2a3f5f"
          },
          "geo": {
           "bgcolor": "white",
           "lakecolor": "white",
           "landcolor": "#E5ECF6",
           "showlakes": true,
           "showland": true,
           "subunitcolor": "white"
          },
          "hoverlabel": {
           "align": "left"
          },
          "hovermode": "closest",
          "mapbox": {
           "style": "light"
          },
          "paper_bgcolor": "white",
          "plot_bgcolor": "#E5ECF6",
          "polar": {
           "angularaxis": {
            "gridcolor": "white",
            "linecolor": "white",
            "ticks": ""
           },
           "bgcolor": "#E5ECF6",
           "radialaxis": {
            "gridcolor": "white",
            "linecolor": "white",
            "ticks": ""
           }
          },
          "scene": {
           "xaxis": {
            "backgroundcolor": "#E5ECF6",
            "gridcolor": "white",
            "gridwidth": 2,
            "linecolor": "white",
            "showbackground": true,
            "ticks": "",
            "zerolinecolor": "white"
           },
           "yaxis": {
            "backgroundcolor": "#E5ECF6",
            "gridcolor": "white",
            "gridwidth": 2,
            "linecolor": "white",
            "showbackground": true,
            "ticks": "",
            "zerolinecolor": "white"
           },
           "zaxis": {
            "backgroundcolor": "#E5ECF6",
            "gridcolor": "white",
            "gridwidth": 2,
            "linecolor": "white",
            "showbackground": true,
            "ticks": "",
            "zerolinecolor": "white"
           }
          },
          "shapedefaults": {
           "line": {
            "color": "#2a3f5f"
           }
          },
          "ternary": {
           "aaxis": {
            "gridcolor": "white",
            "linecolor": "white",
            "ticks": ""
           },
           "baxis": {
            "gridcolor": "white",
            "linecolor": "white",
            "ticks": ""
           },
           "bgcolor": "#E5ECF6",
           "caxis": {
            "gridcolor": "white",
            "linecolor": "white",
            "ticks": ""
           }
          },
          "title": {
           "x": 0.05
          },
          "xaxis": {
           "automargin": true,
           "gridcolor": "white",
           "linecolor": "white",
           "ticks": "",
           "title": {
            "standoff": 15
           },
           "zerolinecolor": "white",
           "zerolinewidth": 2
          },
          "yaxis": {
           "automargin": true,
           "gridcolor": "white",
           "linecolor": "white",
           "ticks": "",
           "title": {
            "standoff": 15
           },
           "zerolinecolor": "white",
           "zerolinewidth": 2
          }
         }
        },
        "title": {
         "font": {
          "size": 16
         },
         "subtitle": {
          "text": "Gemma 2 9B Instruct on Coding and Medical Questions"
         },
         "text": "Cosine Similarity of Activations Across Model Layers",
         "x": 0.5
        },
        "width": 1000,
        "xaxis": {
         "dtick": 5,
         "linecolor": "black",
         "range": [
          0,
          42
         ],
         "showgrid": true,
         "showline": true,
         "tickmode": "linear",
         "title": {
          "text": "Layer"
         }
        },
        "yaxis": {
         "linecolor": "black",
         "range": [
          0.5,
          1.05
         ],
         "showgrid": true,
         "showline": true,
         "title": {
          "text": "Cosine Similarity"
         }
        }
       }
      },
      "text/html": [
       "<div>                            <div id=\"de5e3eab-4e8d-4234-a509-3fc82df28fc8\" class=\"plotly-graph-div\" style=\"height:600px; width:1000px;\"></div>            <script type=\"text/javascript\">                require([\"plotly\"], function(Plotly) {                    window.PLOTLYENV=window.PLOTLYENV || {};                                    if (document.getElementById(\"de5e3eab-4e8d-4234-a509-3fc82df28fc8\")) {                    Plotly.newPlot(                        \"de5e3eab-4e8d-4234-a509-3fc82df28fc8\",                        [{\"customdata\":[0.0,0.0,0.0,0.00390625,0.0078125,0.0,0.01171875,0.01171875,0.01171875,0.015625,0.0234375,0.02734375,0.01953125,0.0078125,0.00390625,0.0078125,0.00390625,0.0078125,0.015625,0.0078125,0.01171875,0.01953125,0.01953125,0.01171875,0.01171875,0.015625,0.02734375,0.03515625,0.0390625,0.05078125,0.05859375,0.0703125,0.07421875,0.07421875,0.07421875,0.07421875,0.08203125,0.08203125,0.078125,0.07421875,0.05859375,0.02734375],\"hovertemplate\":\"\\u003cb\\u003eCoding-Coding Similarity\\u003c\\u002fb\\u003e\\u003cbr\\u003eLayer: %{x}\\u003cbr\\u003eSimilarity: %{y:.4f}\\u003cbr\\u003eDifference (Within-Cross): %{customdata:.4f}\\u003cextra\\u003e\\u003c\\u002fextra\\u003e\",\"line\":{\"dash\":\"dash\",\"width\":2},\"marker\":{\"size\":4},\"mode\":\"lines+markers\",\"name\":\"Within Group: Coding-Coding\",\"x\":[0,1,2,3,4,5,6,7,8,9,10,11,12,13,14,15,16,17,18,19,20,21,22,23,24,25,26,27,28,29,30,31,32,33,34,35,36,37,38,39,40,41],\"y\":[1.0,0.98828125,0.99609375,0.99609375,0.96484375,0.96875,0.953125,0.96484375,0.88671875,0.85546875,0.828125,0.83984375,0.828125,0.8125,0.82421875,0.80859375,0.8125,0.84375,0.828125,0.84375,0.859375,0.85546875,0.85546875,0.84765625,0.83203125,0.8125,0.76171875,0.76171875,0.72265625,0.70703125,0.69921875,0.6875,0.67578125,0.671875,0.68359375,0.6875,0.68359375,0.68359375,0.69140625,0.71875,0.79296875,0.87890625],\"type\":\"scatter\"},{\"customdata\":[0.0,0.0,0.0,0.00390625,0.0078125,0.0,0.01171875,0.01171875,0.01171875,0.015625,0.0234375,0.02734375,0.01953125,0.0078125,0.00390625,0.0078125,0.00390625,0.0078125,0.015625,0.0078125,0.01171875,0.01953125,0.01953125,0.01171875,0.01171875,0.015625,0.02734375,0.03515625,0.0390625,0.05078125,0.05859375,0.0703125,0.07421875,0.07421875,0.07421875,0.07421875,0.08203125,0.08203125,0.078125,0.07421875,0.05859375,0.02734375],\"hovertemplate\":\"\\u003cb\\u003eMedical-Medical Similarity\\u003c\\u002fb\\u003e\\u003cbr\\u003eLayer: %{x}\\u003cbr\\u003eSimilarity: %{y:.4f}\\u003cbr\\u003eDifference (Within-Cross): %{customdata:.4f}\\u003cextra\\u003e\\u003c\\u002fextra\\u003e\",\"line\":{\"dash\":\"dash\",\"width\":2},\"marker\":{\"size\":4},\"mode\":\"lines+markers\",\"name\":\"Within Group: Medical-Medical\",\"x\":[0,1,2,3,4,5,6,7,8,9,10,11,12,13,14,15,16,17,18,19,20,21,22,23,24,25,26,27,28,29,30,31,32,33,34,35,36,37,38,39,40,41],\"y\":[1.0,0.99609375,0.98828125,0.99609375,0.98046875,0.97265625,0.95703125,0.96875,0.90625,0.890625,0.86328125,0.875,0.859375,0.84765625,0.85546875,0.84375,0.83984375,0.859375,0.85546875,0.86328125,0.875,0.875,0.859375,0.86328125,0.84765625,0.82421875,0.76953125,0.765625,0.72265625,0.71875,0.70703125,0.69921875,0.69140625,0.67578125,0.69140625,0.69140625,0.69921875,0.69921875,0.73046875,0.75,0.8125,0.87890625],\"type\":\"scatter\"},{\"customdata\":[0.0,0.0,0.0,0.00390625,0.0078125,0.0,0.01171875,0.01171875,0.01171875,0.015625,0.0234375,0.02734375,0.01953125,0.0078125,0.00390625,0.0078125,0.00390625,0.0078125,0.015625,0.0078125,0.01171875,0.01953125,0.01953125,0.01171875,0.01171875,0.015625,0.02734375,0.03515625,0.0390625,0.05078125,0.05859375,0.0703125,0.07421875,0.07421875,0.07421875,0.07421875,0.08203125,0.08203125,0.078125,0.07421875,0.05859375,0.02734375],\"hovertemplate\":\"\\u003cb\\u003eAcross Groups (Coding-Medical)\\u003c\\u002fb\\u003e\\u003cbr\\u003eLayer: %{x}\\u003cbr\\u003eAverage Similarity: %{y:.4f}\\u003cbr\\u003eDifference (Within-Cross): %{customdata:.4f}\\u003cextra\\u003e\\u003c\\u002fextra\\u003e\",\"line\":{\"width\":2},\"marker\":{\"size\":4},\"mode\":\"lines+markers\",\"name\":\"Across Groups: Coding-Medical\",\"x\":[0,1,2,3,4,5,6,7,8,9,10,11,12,13,14,15,16,17,18,19,20,21,22,23,24,25,26,27,28,29,30,31,32,33,34,35,36,37,38,39,40,41],\"y\":[1.0,0.9921875,0.9921875,0.9921875,0.96484375,0.96875,0.94140625,0.95703125,0.88671875,0.859375,0.8203125,0.83203125,0.82421875,0.8203125,0.8359375,0.8203125,0.82421875,0.84375,0.828125,0.84375,0.85546875,0.84765625,0.83984375,0.84375,0.828125,0.8046875,0.73828125,0.73046875,0.68359375,0.66015625,0.64453125,0.625,0.609375,0.59765625,0.61328125,0.61328125,0.609375,0.609375,0.6328125,0.66015625,0.74609375,0.8515625],\"type\":\"scatter\"}],                        {\"template\":{\"data\":{\"histogram2dcontour\":[{\"type\":\"histogram2dcontour\",\"colorbar\":{\"outlinewidth\":0,\"ticks\":\"\"},\"colorscale\":[[0.0,\"#0d0887\"],[0.1111111111111111,\"#46039f\"],[0.2222222222222222,\"#7201a8\"],[0.3333333333333333,\"#9c179e\"],[0.4444444444444444,\"#bd3786\"],[0.5555555555555556,\"#d8576b\"],[0.6666666666666666,\"#ed7953\"],[0.7777777777777778,\"#fb9f3a\"],[0.8888888888888888,\"#fdca26\"],[1.0,\"#f0f921\"]]}],\"choropleth\":[{\"type\":\"choropleth\",\"colorbar\":{\"outlinewidth\":0,\"ticks\":\"\"}}],\"histogram2d\":[{\"type\":\"histogram2d\",\"colorbar\":{\"outlinewidth\":0,\"ticks\":\"\"},\"colorscale\":[[0.0,\"#0d0887\"],[0.1111111111111111,\"#46039f\"],[0.2222222222222222,\"#7201a8\"],[0.3333333333333333,\"#9c179e\"],[0.4444444444444444,\"#bd3786\"],[0.5555555555555556,\"#d8576b\"],[0.6666666666666666,\"#ed7953\"],[0.7777777777777778,\"#fb9f3a\"],[0.8888888888888888,\"#fdca26\"],[1.0,\"#f0f921\"]]}],\"heatmap\":[{\"type\":\"heatmap\",\"colorbar\":{\"outlinewidth\":0,\"ticks\":\"\"},\"colorscale\":[[0.0,\"#0d0887\"],[0.1111111111111111,\"#46039f\"],[0.2222222222222222,\"#7201a8\"],[0.3333333333333333,\"#9c179e\"],[0.4444444444444444,\"#bd3786\"],[0.5555555555555556,\"#d8576b\"],[0.6666666666666666,\"#ed7953\"],[0.7777777777777778,\"#fb9f3a\"],[0.8888888888888888,\"#fdca26\"],[1.0,\"#f0f921\"]]}],\"heatmapgl\":[{\"type\":\"heatmapgl\",\"colorbar\":{\"outlinewidth\":0,\"ticks\":\"\"},\"colorscale\":[[0.0,\"#0d0887\"],[0.1111111111111111,\"#46039f\"],[0.2222222222222222,\"#7201a8\"],[0.3333333333333333,\"#9c179e\"],[0.4444444444444444,\"#bd3786\"],[0.5555555555555556,\"#d8576b\"],[0.6666666666666666,\"#ed7953\"],[0.7777777777777778,\"#fb9f3a\"],[0.8888888888888888,\"#fdca26\"],[1.0,\"#f0f921\"]]}],\"contourcarpet\":[{\"type\":\"contourcarpet\",\"colorbar\":{\"outlinewidth\":0,\"ticks\":\"\"}}],\"contour\":[{\"type\":\"contour\",\"colorbar\":{\"outlinewidth\":0,\"ticks\":\"\"},\"colorscale\":[[0.0,\"#0d0887\"],[0.1111111111111111,\"#46039f\"],[0.2222222222222222,\"#7201a8\"],[0.3333333333333333,\"#9c179e\"],[0.4444444444444444,\"#bd3786\"],[0.5555555555555556,\"#d8576b\"],[0.6666666666666666,\"#ed7953\"],[0.7777777777777778,\"#fb9f3a\"],[0.8888888888888888,\"#fdca26\"],[1.0,\"#f0f921\"]]}],\"surface\":[{\"type\":\"surface\",\"colorbar\":{\"outlinewidth\":0,\"ticks\":\"\"},\"colorscale\":[[0.0,\"#0d0887\"],[0.1111111111111111,\"#46039f\"],[0.2222222222222222,\"#7201a8\"],[0.3333333333333333,\"#9c179e\"],[0.4444444444444444,\"#bd3786\"],[0.5555555555555556,\"#d8576b\"],[0.6666666666666666,\"#ed7953\"],[0.7777777777777778,\"#fb9f3a\"],[0.8888888888888888,\"#fdca26\"],[1.0,\"#f0f921\"]]}],\"mesh3d\":[{\"type\":\"mesh3d\",\"colorbar\":{\"outlinewidth\":0,\"ticks\":\"\"}}],\"scatter\":[{\"fillpattern\":{\"fillmode\":\"overlay\",\"size\":10,\"solidity\":0.2},\"type\":\"scatter\"}],\"parcoords\":[{\"type\":\"parcoords\",\"line\":{\"colorbar\":{\"outlinewidth\":0,\"ticks\":\"\"}}}],\"scatterpolargl\":[{\"type\":\"scatterpolargl\",\"marker\":{\"colorbar\":{\"outlinewidth\":0,\"ticks\":\"\"}}}],\"bar\":[{\"error_x\":{\"color\":\"#2a3f5f\"},\"error_y\":{\"color\":\"#2a3f5f\"},\"marker\":{\"line\":{\"color\":\"#E5ECF6\",\"width\":0.5},\"pattern\":{\"fillmode\":\"overlay\",\"size\":10,\"solidity\":0.2}},\"type\":\"bar\"}],\"scattergeo\":[{\"type\":\"scattergeo\",\"marker\":{\"colorbar\":{\"outlinewidth\":0,\"ticks\":\"\"}}}],\"scatterpolar\":[{\"type\":\"scatterpolar\",\"marker\":{\"colorbar\":{\"outlinewidth\":0,\"ticks\":\"\"}}}],\"histogram\":[{\"marker\":{\"pattern\":{\"fillmode\":\"overlay\",\"size\":10,\"solidity\":0.2}},\"type\":\"histogram\"}],\"scattergl\":[{\"type\":\"scattergl\",\"marker\":{\"colorbar\":{\"outlinewidth\":0,\"ticks\":\"\"}}}],\"scatter3d\":[{\"type\":\"scatter3d\",\"line\":{\"colorbar\":{\"outlinewidth\":0,\"ticks\":\"\"}},\"marker\":{\"colorbar\":{\"outlinewidth\":0,\"ticks\":\"\"}}}],\"scattermapbox\":[{\"type\":\"scattermapbox\",\"marker\":{\"colorbar\":{\"outlinewidth\":0,\"ticks\":\"\"}}}],\"scatterternary\":[{\"type\":\"scatterternary\",\"marker\":{\"colorbar\":{\"outlinewidth\":0,\"ticks\":\"\"}}}],\"scattercarpet\":[{\"type\":\"scattercarpet\",\"marker\":{\"colorbar\":{\"outlinewidth\":0,\"ticks\":\"\"}}}],\"carpet\":[{\"aaxis\":{\"endlinecolor\":\"#2a3f5f\",\"gridcolor\":\"white\",\"linecolor\":\"white\",\"minorgridcolor\":\"white\",\"startlinecolor\":\"#2a3f5f\"},\"baxis\":{\"endlinecolor\":\"#2a3f5f\",\"gridcolor\":\"white\",\"linecolor\":\"white\",\"minorgridcolor\":\"white\",\"startlinecolor\":\"#2a3f5f\"},\"type\":\"carpet\"}],\"table\":[{\"cells\":{\"fill\":{\"color\":\"#EBF0F8\"},\"line\":{\"color\":\"white\"}},\"header\":{\"fill\":{\"color\":\"#C8D4E3\"},\"line\":{\"color\":\"white\"}},\"type\":\"table\"}],\"barpolar\":[{\"marker\":{\"line\":{\"color\":\"#E5ECF6\",\"width\":0.5},\"pattern\":{\"fillmode\":\"overlay\",\"size\":10,\"solidity\":0.2}},\"type\":\"barpolar\"}],\"pie\":[{\"automargin\":true,\"type\":\"pie\"}]},\"layout\":{\"autotypenumbers\":\"strict\",\"colorway\":[\"#636efa\",\"#EF553B\",\"#00cc96\",\"#ab63fa\",\"#FFA15A\",\"#19d3f3\",\"#FF6692\",\"#B6E880\",\"#FF97FF\",\"#FECB52\"],\"font\":{\"color\":\"#2a3f5f\"},\"hovermode\":\"closest\",\"hoverlabel\":{\"align\":\"left\"},\"paper_bgcolor\":\"white\",\"plot_bgcolor\":\"#E5ECF6\",\"polar\":{\"bgcolor\":\"#E5ECF6\",\"angularaxis\":{\"gridcolor\":\"white\",\"linecolor\":\"white\",\"ticks\":\"\"},\"radialaxis\":{\"gridcolor\":\"white\",\"linecolor\":\"white\",\"ticks\":\"\"}},\"ternary\":{\"bgcolor\":\"#E5ECF6\",\"aaxis\":{\"gridcolor\":\"white\",\"linecolor\":\"white\",\"ticks\":\"\"},\"baxis\":{\"gridcolor\":\"white\",\"linecolor\":\"white\",\"ticks\":\"\"},\"caxis\":{\"gridcolor\":\"white\",\"linecolor\":\"white\",\"ticks\":\"\"}},\"coloraxis\":{\"colorbar\":{\"outlinewidth\":0,\"ticks\":\"\"}},\"colorscale\":{\"sequential\":[[0.0,\"#0d0887\"],[0.1111111111111111,\"#46039f\"],[0.2222222222222222,\"#7201a8\"],[0.3333333333333333,\"#9c179e\"],[0.4444444444444444,\"#bd3786\"],[0.5555555555555556,\"#d8576b\"],[0.6666666666666666,\"#ed7953\"],[0.7777777777777778,\"#fb9f3a\"],[0.8888888888888888,\"#fdca26\"],[1.0,\"#f0f921\"]],\"sequentialminus\":[[0.0,\"#0d0887\"],[0.1111111111111111,\"#46039f\"],[0.2222222222222222,\"#7201a8\"],[0.3333333333333333,\"#9c179e\"],[0.4444444444444444,\"#bd3786\"],[0.5555555555555556,\"#d8576b\"],[0.6666666666666666,\"#ed7953\"],[0.7777777777777778,\"#fb9f3a\"],[0.8888888888888888,\"#fdca26\"],[1.0,\"#f0f921\"]],\"diverging\":[[0,\"#8e0152\"],[0.1,\"#c51b7d\"],[0.2,\"#de77ae\"],[0.3,\"#f1b6da\"],[0.4,\"#fde0ef\"],[0.5,\"#f7f7f7\"],[0.6,\"#e6f5d0\"],[0.7,\"#b8e186\"],[0.8,\"#7fbc41\"],[0.9,\"#4d9221\"],[1,\"#276419\"]]},\"xaxis\":{\"gridcolor\":\"white\",\"linecolor\":\"white\",\"ticks\":\"\",\"title\":{\"standoff\":15},\"zerolinecolor\":\"white\",\"automargin\":true,\"zerolinewidth\":2},\"yaxis\":{\"gridcolor\":\"white\",\"linecolor\":\"white\",\"ticks\":\"\",\"title\":{\"standoff\":15},\"zerolinecolor\":\"white\",\"automargin\":true,\"zerolinewidth\":2},\"scene\":{\"xaxis\":{\"backgroundcolor\":\"#E5ECF6\",\"gridcolor\":\"white\",\"linecolor\":\"white\",\"showbackground\":true,\"ticks\":\"\",\"zerolinecolor\":\"white\",\"gridwidth\":2},\"yaxis\":{\"backgroundcolor\":\"#E5ECF6\",\"gridcolor\":\"white\",\"linecolor\":\"white\",\"showbackground\":true,\"ticks\":\"\",\"zerolinecolor\":\"white\",\"gridwidth\":2},\"zaxis\":{\"backgroundcolor\":\"#E5ECF6\",\"gridcolor\":\"white\",\"linecolor\":\"white\",\"showbackground\":true,\"ticks\":\"\",\"zerolinecolor\":\"white\",\"gridwidth\":2}},\"shapedefaults\":{\"line\":{\"color\":\"#2a3f5f\"}},\"annotationdefaults\":{\"arrowcolor\":\"#2a3f5f\",\"arrowhead\":0,\"arrowwidth\":1},\"geo\":{\"bgcolor\":\"white\",\"landcolor\":\"#E5ECF6\",\"subunitcolor\":\"white\",\"showland\":true,\"showlakes\":true,\"lakecolor\":\"white\"},\"title\":{\"x\":0.05},\"mapbox\":{\"style\":\"light\"}}},\"title\":{\"subtitle\":{\"text\":\"Gemma 2 9B Instruct on Coding and Medical Questions\"},\"font\":{\"size\":16},\"text\":\"Cosine Similarity of Activations Across Model Layers\",\"x\":0.5},\"legend\":{\"yanchor\":\"top\",\"y\":0.98,\"xanchor\":\"right\",\"x\":0.99},\"xaxis\":{\"title\":{\"text\":\"Layer\"},\"showgrid\":true,\"showline\":true,\"linecolor\":\"black\",\"tickmode\":\"linear\",\"dtick\":5,\"range\":[0,42]},\"yaxis\":{\"title\":{\"text\":\"Cosine Similarity\"},\"showgrid\":true,\"showline\":true,\"linecolor\":\"black\",\"range\":[0.5,1.05]},\"width\":1000,\"height\":600,\"hovermode\":\"closest\"},                        {\"responsive\": true}                    ).then(function(){\n",
       "                            \n",
       "var gd = document.getElementById('de5e3eab-4e8d-4234-a509-3fc82df28fc8');\n",
       "var x = new MutationObserver(function (mutations, observer) {{\n",
       "        var display = window.getComputedStyle(gd).display;\n",
       "        if (!display || display === 'none') {{\n",
       "            console.log([gd, 'removed!']);\n",
       "            Plotly.purge(gd);\n",
       "            observer.disconnect();\n",
       "        }}\n",
       "}});\n",
       "\n",
       "// Listen for the removal of the full notebook cells\n",
       "var notebookContainer = gd.closest('#notebook-container');\n",
       "if (notebookContainer) {{\n",
       "    x.observe(notebookContainer, {childList: true});\n",
       "}}\n",
       "\n",
       "// Listen for the clearing of the current output cell\n",
       "var outputEl = gd.closest('.output');\n",
       "if (outputEl) {{\n",
       "    x.observe(outputEl, {childList: true});\n",
       "}}\n",
       "\n",
       "                        })                };                });            </script>        </div>"
      ]
     },
     "metadata": {},
     "output_type": "display_data"
    },
    {
     "name": "stdout",
     "output_type": "stream",
     "text": [
      "Interactive plot created showing cosine similarity across 42 layers\n",
      "Hover over data points to see detailed information including:\n",
      "- Average similarities for within/across categories\n",
      "- Individual group similarities (coding-coding, medical-medical)\n",
      "- Similarity differences (within - across)\n"
     ]
    }
   ],
   "source": [
    "import plotly.graph_objects as go\n",
    "from plotly.subplots import make_subplots\n",
    "\n",
    "# Create interactive line plot for cosine similarities\n",
    "fig = go.Figure()\n",
    "\n",
    "# Extract data for plotting\n",
    "layers = [result['layer'] for result in summary_results]\n",
    "within_category = [result['avg_within_category'] for result in summary_results]\n",
    "cross_category = [result['avg_cross_category'] for result in summary_results]\n",
    "coding_coding = [result['avg_coding_coding'] for result in summary_results]\n",
    "medical_medical = [result['avg_medical_medical'] for result in summary_results]\n",
    "similarity_diff = [result['similarity_difference'] for result in summary_results]\n",
    "\n",
    "\n",
    "# Add line for coding-coding similarity\n",
    "fig.add_trace(go.Scatter(\n",
    "    x=layers,\n",
    "    y=coding_coding,\n",
    "    mode='lines+markers',\n",
    "    name='Within Group: Coding-Coding',\n",
    "    line=dict(width=2, dash='dash'),\n",
    "    marker=dict(size=4),\n",
    "    customdata=similarity_diff,\n",
    "    hovertemplate='<b>Coding-Coding Similarity</b><br>' +\n",
    "                  'Layer: %{x}<br>' +\n",
    "                  'Similarity: %{y:.4f}<br>' +\n",
    "                  'Difference (Within-Cross): %{customdata:.4f}' +\n",
    "                  '<extra></extra>'\n",
    "))\n",
    "\n",
    "# Add line for medical-medical similarity  \n",
    "fig.add_trace(go.Scatter(\n",
    "    x=layers,\n",
    "    y=medical_medical,\n",
    "    mode='lines+markers',\n",
    "    name='Within Group: Medical-Medical',\n",
    "    line=dict(width=2, dash='dash'),\n",
    "    marker=dict(size=4),\n",
    "    customdata=similarity_diff,\n",
    "    hovertemplate='<b>Medical-Medical Similarity</b><br>' +\n",
    "                  'Layer: %{x}<br>' +\n",
    "                  'Similarity: %{y:.4f}<br>' +\n",
    "                  'Difference (Within-Cross): %{customdata:.4f}' +\n",
    "                  '<extra></extra>'\n",
    "))\n",
    "\n",
    "# Add line for cross-category similarity\n",
    "fig.add_trace(go.Scatter(\n",
    "    x=layers,\n",
    "    y=cross_category,\n",
    "    mode='lines+markers',\n",
    "    name='Across Groups: Coding-Medical',\n",
    "    line=dict(width=2),\n",
    "    marker=dict(size=4),\n",
    "    customdata=similarity_diff,\n",
    "    hovertemplate='<b>Across Groups (Coding-Medical)</b><br>' +\n",
    "                  'Layer: %{x}<br>' +\n",
    "                  'Average Similarity: %{y:.4f}<br>' +\n",
    "                  'Difference (Within-Cross): %{customdata:.4f}' +\n",
    "                  '<extra></extra>'\n",
    "))\n",
    "\n",
    "# Update layout with axis configuration\n",
    "fig.update_layout(\n",
    "    title={\n",
    "        'text': f'Cosine Similarity of Activations Across Model Layers',\n",
    "        'subtitle': {'text': f'{MODEL_READABLE} on Coding and Medical Questions'},\n",
    "        'x': 0.5,\n",
    "        'font': {'size': 16}\n",
    "    },\n",
    "    xaxis_title='Layer',\n",
    "    yaxis_title='Cosine Similarity',\n",
    "    width=1000,\n",
    "    height=600,\n",
    "    hovermode='closest',\n",
    "    legend=dict(\n",
    "        yanchor=\"top\",\n",
    "        y=0.98,\n",
    "        xanchor=\"right\",\n",
    "        x=0.99\n",
    "    ),\n",
    "    xaxis=dict(\n",
    "        showgrid=True,\n",
    "        showline=True,\n",
    "        linecolor='black',\n",
    "        tickmode='linear',\n",
    "        dtick=5,\n",
    "        range=[0, model.config.num_hidden_layers]\n",
    "    ),\n",
    "    yaxis=dict(\n",
    "        showgrid=True,\n",
    "        showline=True,\n",
    "        linecolor='black',\n",
    "        range=[0.5, 1.05]\n",
    "    )\n",
    ")\n",
    "\n",
    "# Show the plot\n",
    "fig.show()\n",
    "\n",
    "print(f\"Interactive plot created showing cosine similarity across {len(layers)} layers\")\n",
    "print(\"Hover over data points to see detailed information including:\")\n",
    "print(\"- Average similarities for within/across categories\")\n",
    "print(\"- Individual group similarities (coding-coding, medical-medical)\")  \n",
    "print(\"- Similarity differences (within - across)\")\n",
    "\n",
    "os.makedirs(OUTPUT_DIR, exist_ok=True)\n",
    "fig.write_html(f\"{OUTPUT_DIR}/cosine_similarity.html\")"
   ]
  }
 ],
 "metadata": {
  "kernelspec": {
   "display_name": ".venv",
   "language": "python",
   "name": "python3"
  },
  "language_info": {
   "codemirror_mode": {
    "name": "ipython",
    "version": 3
   },
   "file_extension": ".py",
   "mimetype": "text/x-python",
   "name": "python",
   "nbconvert_exporter": "python",
   "pygments_lexer": "ipython3",
   "version": "3.12.11"
  }
 },
 "nbformat": 4,
 "nbformat_minor": 2
}
