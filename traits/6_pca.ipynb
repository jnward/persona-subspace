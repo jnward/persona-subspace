{
 "cells": [
  {
   "cell_type": "markdown",
   "id": "28531137",
   "metadata": {},
   "source": [
    "# PCA on traits"
   ]
  },
  {
   "cell_type": "code",
   "execution_count": null,
   "id": "30f3bcdd",
   "metadata": {
    "execution": {
     "iopub.execute_input": "2025-08-06T00:18:08.842015Z",
     "iopub.status.busy": "2025-08-06T00:18:08.841387Z",
     "iopub.status.idle": "2025-08-06T00:18:09.171163Z",
     "shell.execute_reply": "2025-08-06T00:18:09.170519Z"
    }
   },
   "outputs": [],
   "source": [
    "import sys\n",
    "import os\n",
    "import torch\n",
    "import pandas as pd\n",
    "sys.path.append('.')\n",
    "sys.path.append('..')\n",
    "\n",
    "from utils.pca_utils import *\n",
    "from plots import *"
   ]
  },
  {
   "cell_type": "markdown",
   "id": "t9g61pux1fr",
   "metadata": {},
   "source": [
    "## Configuration"
   ]
  },
  {
   "cell_type": "code",
   "execution_count": null,
   "id": "gbij5rx1x7",
   "metadata": {},
   "outputs": [],
   "source": [
    "# Configuration - Change these parameters for different models/datasets\n",
    "base_dir = \"/workspace/qwen-3-32b\"\n",
    "type = \"traits_240\"\n",
    "dir = f\"{base_dir}/{type}\"\n",
    "model_name = \"Qwen-3-32B\"\n",
    "layer = 32"
   ]
  },
  {
   "cell_type": "markdown",
   "id": "ce50bcb7",
   "metadata": {},
   "source": [
    "## Load vectors"
   ]
  },
  {
   "cell_type": "code",
   "execution_count": null,
   "id": "5586e787",
   "metadata": {},
   "outputs": [],
   "source": [
    "# load all vectors from vectors\n",
    "vector_dir = f\"{dir}/vectors\"\n",
    "\n",
    "# iterate through each .pt file in the directory\n",
    "vectors = {}\n",
    "for file in os.listdir(vector_dir):\n",
    "    if file.endswith(\".pt\"):\n",
    "        vectors[file.replace(\".pt\", \"\")] = torch.load(os.path.join(vector_dir, file))\n",
    "\n",
    "print(f\"Found {len(vectors.keys())} traits with vectors\")"
   ]
  },
  {
   "cell_type": "code",
   "execution_count": null,
   "id": "b11da40d",
   "metadata": {},
   "outputs": [],
   "source": [
    "# load default vectors\n",
    "default_vectors = torch.load(f\"{base_dir}/roles_240/default_vectors.pt\")"
   ]
  },
  {
   "cell_type": "code",
   "execution_count": null,
   "id": "3a3bda62",
   "metadata": {},
   "outputs": [],
   "source": [
    "print(vectors['zealous'].keys())\n",
    "print(default_vectors.keys())\n",
    "print(default_vectors['activations'].keys())"
   ]
  },
  {
   "cell_type": "markdown",
   "id": "c3e74288",
   "metadata": {},
   "source": [
    "## PCA"
   ]
  },
  {
   "cell_type": "code",
   "execution_count": null,
   "id": "92385c5c",
   "metadata": {},
   "outputs": [],
   "source": [
    "# load in stats\n",
    "results_subdir = model_name.lower()\n",
    "stats = pd.read_csv(f\"./results/{results_subdir}/{type}/pos_neg.csv\", index_col='trait')\n",
    "print(stats.loc['zealous']['large_diff_count'])"
   ]
  },
  {
   "cell_type": "code",
   "execution_count": null,
   "id": "e7776516",
   "metadata": {},
   "outputs": [],
   "source": [
    "# PCA on pos_neg_50 but filter out traits with large_diff_count < 10\n",
    "filtered_pos_neg_50_traits = []\n",
    "filtered_pos_neg_50 = []\n",
    "\n",
    "for trait, vector in vectors.items():\n",
    "    if stats.loc[trait]['large_diff_count'] >= 10:\n",
    "        filtered_pos_neg_50_traits.append(trait)\n",
    "        filtered_pos_neg_50.append(vector['pos_neg_50'])\n",
    "    else:\n",
    "        print(f\"Skipping {trait} because large_diff_count is {stats.loc[trait]['large_diff_count']}\")\n",
    "\n",
    "print(len(filtered_pos_neg_50_traits))"
   ]
  },
  {
   "cell_type": "code",
   "execution_count": null,
   "id": "73656d27",
   "metadata": {},
   "outputs": [],
   "source": [
    "float_stack_vectors = torch.stack(filtered_pos_neg_50).float()\n",
    "print(float_stack_vectors.shape)\n"
   ]
  },
  {
   "cell_type": "code",
   "execution_count": null,
   "id": "74d01445",
   "metadata": {},
   "outputs": [],
   "source": [
    "pca_transformed, variance_explained, n_components, pca, scaler = compute_pca(float_stack_vectors, layer)"
   ]
  },
  {
   "cell_type": "code",
   "execution_count": null,
   "id": "53fb0197",
   "metadata": {},
   "outputs": [],
   "source": [
    "# save pca\n",
    "results = {}\n",
    "\n",
    "results['layer'] = layer\n",
    "results['traits'] = {\n",
    "    'pos_neg_50': filtered_pos_neg_50_traits\n",
    "}\n",
    "results['vectors'] = {\n",
    "    'pos_neg_50': filtered_pos_neg_50,\n",
    "}\n",
    "results['pca_transformed'] = pca_transformed\n",
    "results['variance_explained'] = variance_explained\n",
    "results['n_components'] = n_components\n",
    "results['pca'] = pca\n",
    "results['scaler'] = scaler\n",
    "\n",
    "pca_dir = f\"{dir}/pca\"\n",
    "os.makedirs(pca_dir, exist_ok=True)\n",
    "torch.save(results, f\"{pca_dir}/layer{layer}_pos-neg50.pt\")"
   ]
  },
  {
   "cell_type": "code",
   "execution_count": null,
   "id": "44c34960",
   "metadata": {},
   "outputs": [],
   "source": [
    "# run and save PCA with normalized vectors\n",
    "normalized_vectors = F.normalize(float_stack_vectors, p=2, dim=-1)\n",
    "\n",
    "norms = normalized_vectors.norm(p=2, dim=-1)\n",
    "print(norms.mean().item(), norms.std().item())"
   ]
  },
  {
   "cell_type": "code",
   "execution_count": null,
   "id": "3b9341a9",
   "metadata": {},
   "outputs": [],
   "source": [
    "pca_transformed, variance_explained, n_components, pca, scaler = compute_pca(normalized_vectors, layer, scaler=False)"
   ]
  },
  {
   "cell_type": "code",
   "execution_count": null,
   "id": "42c77ccc",
   "metadata": {},
   "outputs": [],
   "source": [
    "# save pca\n",
    "results = {}\n",
    "\n",
    "results['layer'] = layer\n",
    "results['traits'] = {\n",
    "    'pos_neg_50': filtered_pos_neg_50_traits\n",
    "}\n",
    "results['vectors'] = {\n",
    "    'pos_neg_50': filtered_pos_neg_50,\n",
    "}\n",
    "results['pca_transformed'] = pca_transformed\n",
    "results['variance_explained'] = variance_explained\n",
    "results['n_components'] = n_components\n",
    "results['pca'] = pca\n",
    "results['scaler'] = scaler\n",
    "\n",
    "pca_dir = f\"{dir}/pca\"\n",
    "os.makedirs(pca_dir, exist_ok=True)\n",
    "torch.save(results, f\"{pca_dir}/layer{layer}_normalized_pos-neg50.pt\")"
   ]
  },
  {
   "cell_type": "markdown",
   "id": "163db7aa",
   "metadata": {},
   "source": [
    "## Plots"
   ]
  },
  {
   "cell_type": "code",
   "execution_count": null,
   "id": "476fc440",
   "metadata": {},
   "outputs": [],
   "source": [
    "plot_dir = f\"./results/{model_name.lower()}/pca_240\"\n",
    "os.makedirs(plot_dir, exist_ok=True)\n",
    "\n",
    "normalized = False\n",
    "if normalized:\n",
    "    pca_results = torch.load(f\"{dir}/pca/layer{layer}_normalized_pos-neg50.pt\", weights_only=False)\n",
    "else:\n",
    "    pca_results = torch.load(f\"{dir}/pca/layer{layer}_pos-neg50.pt\", weights_only=False)\n"
   ]
  },
  {
   "cell_type": "code",
   "execution_count": null,
   "id": "4a30949e",
   "metadata": {},
   "outputs": [],
   "source": [
    "default_vectors = torch.load(f\"{base_dir}/roles_240/default_vectors.pt\")"
   ]
  },
  {
   "cell_type": "code",
   "execution_count": null,
   "id": "15e9d83c",
   "metadata": {},
   "outputs": [],
   "source": [
    "# get default activationa nd project into PCA space\n",
    "assistant_layer_activation = default_vectors['activations']['default_1'][layer, :].float().reshape(1, -1)\n",
    "if not normalized:\n",
    "    asst_scaled = pca_results['scaler'].transform(assistant_layer_activation)\n",
    "    asst_projected = pca_results['pca'].transform(asst_scaled)\n",
    "else:\n",
    "    asst_normalized = F.normalize(assistant_layer_activation, p=2, dim=-1)\n",
    "    asst_projected = pca_results['pca'].transform(asst_normalized)\n",
    "\n",
    "assistant_layer_activation = assistant_layer_activation.numpy()"
   ]
  },
  {
   "cell_type": "code",
   "execution_count": null,
   "id": "4e2e5c4d",
   "metadata": {},
   "outputs": [],
   "source": [
    "trait_labels = [trait.replace('_', ' ').capitalize() for trait in pca_results['traits']['pos_neg_50']]"
   ]
  },
  {
   "cell_type": "code",
   "execution_count": null,
   "id": "d10abea0",
   "metadata": {},
   "outputs": [],
   "source": [
    "if normalized:\n",
    "    subtitle = f\"{model_name.replace('-', ' ')}, Layer {layer} - Shared Question Set, Unit Normalized Vectors\"\n",
    "else:\n",
    "    subtitle = f\"{model_name.replace('-', ' ')}, Layer {layer} - Shared Question Set, Mean-Centered and Scaled Vectors\"\n",
    "\n",
    "for i in range(10):\n",
    "    fig = plot_pc(\n",
    "        pca_results=pca_results,\n",
    "        trait_labels=trait_labels,\n",
    "        layer=layer,\n",
    "        pc_component=i,\n",
    "        assistant_activation=default_vectors['activations']['default_1'],\n",
    "        assistant_projection=asst_projected[0],\n",
    "        subtitle=subtitle,\n",
    "        scaled=not normalized,\n",
    "    )\n",
    "    fig.show()\n",
    "\n",
    "    if not normalized:\n",
    "        fig.write_html(f\"{plot_dir}/pc{i+1}.html\")\n",
    "    else:\n",
    "        fig.write_html(f\"{plot_dir}/pc{i+1}_normalized.html\")"
   ]
  },
  {
   "cell_type": "code",
   "execution_count": null,
   "id": "e18873db",
   "metadata": {},
   "outputs": [],
   "source": [
    "# for i in range(10):\n",
    "#     fig = plot_pca_cosine_similarity(\n",
    "#             pca_results=pca_results,\n",
    "#             trait_labels=trait_labels,\n",
    "#             pc_component=i,\n",
    "#             layer=layer,\n",
    "#             assistant_activation=default_vectors['activations']['default_1'],\n",
    "#             subtitle=f\"{model_name.replace('-', ' ')}, Layer {layer} - Shared Question Set\"\n",
    "#         )\n",
    "#     fig.show()\n",
    "#     fig.write_html(f\"{plot_dir}/pc{i+1}_cossim.html\")"
   ]
  },
  {
   "cell_type": "code",
   "execution_count": null,
   "id": "6dc0fbb7",
   "metadata": {},
   "outputs": [],
   "source": [
    "# for i in range(10):\n",
    "#     fig = plot_pca_projection(\n",
    "#             pca_results=pca_results,\n",
    "#             trait_labels=trait_labels,\n",
    "#             pc_component=i,\n",
    "#             assistant_activation=asst_projected[0],\n",
    "#             subtitle=f\"{model_name.replace('-', ' ')}, Layer {layer} - Shared Question Set\"\n",
    "#         )\n",
    "#     fig.show()\n",
    "#     fig.write_html(f\"{plot_dir}/pc{i+1}_projection.html\")"
   ]
  },
  {
   "cell_type": "code",
   "execution_count": null,
   "id": "12724638",
   "metadata": {},
   "outputs": [],
   "source": [
    "fig_3d = plot_3d_pca(\n",
    "    pca_results['pca_transformed'],\n",
    "    pca_results['variance_explained'],\n",
    "    trait_labels,\n",
    "    assistant_projection=asst_projected[0],\n",
    "    title=\"Trait Vectors in 3D Principal Component Space\",\n",
    "    subtitle=f\"{model_name.replace('-', ' ')}, Layer {layer} - Shared Question Set\"\n",
    ")\n",
    "fig_3d.show()\n",
    "fig_3d.write_html(f\"{plot_dir}/pca_3d.html\")"
   ]
  }
 ],
 "metadata": {
  "kernelspec": {
   "display_name": ".venv",
   "language": "python",
   "name": "python3"
  },
  "language_info": {
   "codemirror_mode": {
    "name": "ipython",
    "version": 3
   },
   "file_extension": ".py",
   "mimetype": "text/x-python",
   "name": "python",
   "nbconvert_exporter": "python",
   "pygments_lexer": "ipython3",
   "version": "3.13.5"
  }
 },
 "nbformat": 4,
 "nbformat_minor": 5
}
