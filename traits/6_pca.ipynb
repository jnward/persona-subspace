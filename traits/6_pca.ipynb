{
 "cells": [
  {
   "cell_type": "markdown",
   "id": "28531137",
   "metadata": {},
   "source": [
    "# PCA on traits"
   ]
  },
  {
   "cell_type": "code",
   "execution_count": 1,
   "id": "30f3bcdd",
   "metadata": {
    "execution": {
     "iopub.execute_input": "2025-08-06T00:18:08.842015Z",
     "iopub.status.busy": "2025-08-06T00:18:08.841387Z",
     "iopub.status.idle": "2025-08-06T00:18:09.171163Z",
     "shell.execute_reply": "2025-08-06T00:18:09.170519Z"
    }
   },
   "outputs": [],
   "source": [
    "import sys\n",
    "import os\n",
    "import torch\n",
    "import pandas as pd\n",
    "sys.path.append('.')\n",
    "sys.path.append('..')\n",
    "\n",
    "from utils.pca_utils import *\n",
    "from plots import *"
   ]
  },
  {
   "cell_type": "markdown",
   "id": "t9g61pux1fr",
   "metadata": {},
   "source": [
    "## Configuration"
   ]
  },
  {
   "cell_type": "code",
   "execution_count": 7,
   "id": "gbij5rx1x7",
   "metadata": {},
   "outputs": [],
   "source": [
    "# Configuration - Change these parameters for different models/datasets\n",
    "base_dir = \"/workspace/gemma-2-27b\"\n",
    "type = \"traits_240\"\n",
    "dir = f\"{base_dir}/{type}_base\"\n",
    "model_name = \"Gemma-2-27B\"\n",
    "layer = 22"
   ]
  },
  {
   "cell_type": "markdown",
   "id": "ce50bcb7",
   "metadata": {},
   "source": [
    "## Load vectors"
   ]
  },
  {
   "cell_type": "code",
   "execution_count": 3,
   "id": "5586e787",
   "metadata": {},
   "outputs": [
    {
     "name": "stdout",
     "output_type": "stream",
     "text": [
      "Found 240 traits with vectors\n"
     ]
    }
   ],
   "source": [
    "# load all vectors from vectors\n",
    "vector_dir = f\"{dir}/vectors\"\n",
    "\n",
    "# iterate through each .pt file in the directory\n",
    "vectors = {}\n",
    "for file in os.listdir(vector_dir):\n",
    "    if file.endswith(\".pt\"):\n",
    "        vectors[file.replace(\".pt\", \"\")] = torch.load(os.path.join(vector_dir, file))\n",
    "\n",
    "print(f\"Found {len(vectors.keys())} traits with vectors\")"
   ]
  },
  {
   "cell_type": "code",
   "execution_count": 4,
   "id": "b11da40d",
   "metadata": {},
   "outputs": [],
   "source": [
    "# load default vectors\n",
    "default_vectors = torch.load(f\"{base_dir}/roles_240_base/default_vectors.pt\")"
   ]
  },
  {
   "cell_type": "code",
   "execution_count": 5,
   "id": "3a3bda62",
   "metadata": {},
   "outputs": [
    {
     "name": "stdout",
     "output_type": "stream",
     "text": [
      "dict_keys(['pos_neg', 'pos_neg_50', 'pos_default', 'pos_default_50', 'pos_70', 'pos_40_70'])\n",
      "dict_keys(['activations', 'metadata'])\n",
      "dict_keys(['pos_1', 'default_1', 'all_1'])\n"
     ]
    }
   ],
   "source": [
    "print(vectors['zealous'].keys())\n",
    "print(default_vectors.keys())\n",
    "print(default_vectors['activations'].keys())"
   ]
  },
  {
   "cell_type": "markdown",
   "id": "c3e74288",
   "metadata": {},
   "source": [
    "## PCA"
   ]
  },
  {
   "cell_type": "code",
   "execution_count": 9,
   "id": "92385c5c",
   "metadata": {},
   "outputs": [
    {
     "name": "stdout",
     "output_type": "stream",
     "text": [
      "1185.0\n"
     ]
    }
   ],
   "source": [
    "# load in stats\n",
    "results_subdir = model_name.lower()\n",
    "stats = pd.read_csv(f\"./results/{results_subdir}/{type}/pos_neg.csv\", index_col='trait')\n",
    "print(stats.loc['zealous']['large_diff_count'])"
   ]
  },
  {
   "cell_type": "code",
   "execution_count": 10,
   "id": "e7776516",
   "metadata": {},
   "outputs": [
    {
     "name": "stdout",
     "output_type": "stream",
     "text": [
      "Skipping vindictive because large_diff_count is 1.0\n",
      "239\n"
     ]
    }
   ],
   "source": [
    "# PCA on pos_neg_50 but filter out traits with large_diff_count < 10\n",
    "filtered_pos_neg_50_traits = []\n",
    "filtered_pos_neg_50 = []\n",
    "\n",
    "for trait, vector in vectors.items():\n",
    "    if stats.loc[trait]['large_diff_count'] >= 10:\n",
    "        filtered_pos_neg_50_traits.append(trait)\n",
    "        filtered_pos_neg_50.append(vector['pos_neg_50'])\n",
    "    else:\n",
    "        print(f\"Skipping {trait} because large_diff_count is {stats.loc[trait]['large_diff_count']}\")\n",
    "\n",
    "print(len(filtered_pos_neg_50_traits))"
   ]
  },
  {
   "cell_type": "code",
   "execution_count": 11,
   "id": "73656d27",
   "metadata": {},
   "outputs": [
    {
     "name": "stdout",
     "output_type": "stream",
     "text": [
      "torch.Size([239, 46, 4608])\n"
     ]
    }
   ],
   "source": [
    "float_stack_vectors = torch.stack(filtered_pos_neg_50).float()\n",
    "print(float_stack_vectors.shape)\n"
   ]
  },
  {
   "cell_type": "code",
   "execution_count": 12,
   "id": "74d01445",
   "metadata": {},
   "outputs": [
    {
     "name": "stdout",
     "output_type": "stream",
     "text": [
      "PCA fitted with 239 components\n",
      "Cumulative variance for first 5 components: [0.28675105 0.43554298 0.53176326 0.60356735 0.6427829 ]\n",
      "\n",
      "PCA Analysis Results:\n",
      "Elbow point at component: 2\n",
      "Dimensions for 70% variance: 7\n",
      "Dimensions for 80% variance: 13\n",
      "Dimensions for 90% variance: 28\n",
      "Dimensions for 95% variance: 52\n"
     ]
    }
   ],
   "source": [
    "pca_transformed, variance_explained, n_components, pca, scaler = compute_pca(float_stack_vectors, layer)"
   ]
  },
  {
   "cell_type": "code",
   "execution_count": 9,
   "id": "53fb0197",
   "metadata": {},
   "outputs": [],
   "source": [
    "# save pca\n",
    "results = {}\n",
    "\n",
    "results['layer'] = layer\n",
    "results['traits'] = {\n",
    "    'pos_neg_50': filtered_pos_neg_50_traits\n",
    "}\n",
    "results['vectors'] = {\n",
    "    'pos_neg_50': filtered_pos_neg_50,\n",
    "}\n",
    "results['pca_transformed'] = pca_transformed\n",
    "results['variance_explained'] = variance_explained\n",
    "results['n_components'] = n_components\n",
    "results['pca'] = pca\n",
    "results['scaler'] = scaler\n",
    "\n",
    "pca_dir = f\"{dir}/pca\"\n",
    "os.makedirs(pca_dir, exist_ok=True)\n",
    "torch.save(results, f\"{pca_dir}/layer{layer}_pos-neg50.pt\")"
   ]
  },
  {
   "cell_type": "code",
   "execution_count": 8,
   "id": "44c34960",
   "metadata": {},
   "outputs": [
    {
     "name": "stdout",
     "output_type": "stream",
     "text": [
      "1.0000009536743164 3.5813638987747254e-07\n"
     ]
    }
   ],
   "source": [
    "# run and save PCA with normalized vectors\n",
    "normalized_vectors = F.normalize(float_stack_vectors, p=2, dim=-1)\n",
    "\n",
    "norms = normalized_vectors.norm(p=2, dim=-1)\n",
    "print(norms.mean().item(), norms.std().item())"
   ]
  },
  {
   "cell_type": "code",
   "execution_count": 9,
   "id": "3b9341a9",
   "metadata": {},
   "outputs": [
    {
     "name": "stdout",
     "output_type": "stream",
     "text": [
      "PCA fitted with 240 components\n",
      "Cumulative variance for first 5 components: [0.23673316 0.37392849 0.4664077  0.54179005 0.60332086]\n",
      "\n",
      "PCA Analysis Results:\n",
      "Elbow point at component: 2\n",
      "Dimensions for 70% variance: 9\n",
      "Dimensions for 80% variance: 16\n",
      "Dimensions for 90% variance: 35\n",
      "Dimensions for 95% variance: 62\n"
     ]
    }
   ],
   "source": [
    "pca_transformed, variance_explained, n_components, pca, scaler = compute_pca(normalized_vectors, layer, scaler=False)"
   ]
  },
  {
   "cell_type": "code",
   "execution_count": 13,
   "id": "42c77ccc",
   "metadata": {},
   "outputs": [],
   "source": [
    "# save pca\n",
    "results = {}\n",
    "\n",
    "results['layer'] = layer\n",
    "results['traits'] = {\n",
    "    'pos_neg_50': filtered_pos_neg_50_traits\n",
    "}\n",
    "results['vectors'] = {\n",
    "    'pos_neg_50': filtered_pos_neg_50,\n",
    "}\n",
    "results['pca_transformed'] = pca_transformed\n",
    "results['variance_explained'] = variance_explained\n",
    "results['n_components'] = n_components\n",
    "results['pca'] = pca\n",
    "results['scaler'] = scaler\n",
    "\n",
    "pca_dir = f\"{dir}/pca\"\n",
    "os.makedirs(pca_dir, exist_ok=True)\n",
    "torch.save(results, f\"{pca_dir}/layer{layer}_normalized_pos-neg50.pt\")"
   ]
  },
  {
   "cell_type": "markdown",
   "id": "163db7aa",
   "metadata": {},
   "source": [
    "## Plots"
   ]
  },
  {
   "cell_type": "code",
   "execution_count": 14,
   "id": "476fc440",
   "metadata": {},
   "outputs": [],
   "source": [
    "plot_dir = f\"./results/{model_name.lower()}/pca_240_base\"\n",
    "os.makedirs(plot_dir, exist_ok=True)\n",
    "\n",
    "normalized = False\n",
    "if normalized:\n",
    "    pca_results = torch.load(f\"{dir}/pca/layer{layer}_normalized_pos-neg50.pt\", weights_only=False)\n",
    "else:\n",
    "    pca_results = torch.load(f\"{dir}/pca/layer{layer}_pos-neg50.pt\", weights_only=False)\n"
   ]
  },
  {
   "cell_type": "code",
   "execution_count": 15,
   "id": "4a30949e",
   "metadata": {},
   "outputs": [],
   "source": [
    "default_vectors = torch.load(f\"{base_dir}/roles_240_base/default_vectors.pt\")"
   ]
  },
  {
   "cell_type": "code",
   "execution_count": 16,
   "id": "15e9d83c",
   "metadata": {},
   "outputs": [],
   "source": [
    "# get default activationa nd project into PCA space\n",
    "assistant_layer_activation = default_vectors['activations']['default_1'][layer, :].float().reshape(1, -1)\n",
    "if not normalized:\n",
    "    asst_scaled = pca_results['scaler'].transform(assistant_layer_activation)\n",
    "    asst_projected = pca_results['pca'].transform(asst_scaled)\n",
    "else:\n",
    "    asst_normalized = F.normalize(assistant_layer_activation, p=2, dim=-1)\n",
    "    asst_projected = pca_results['pca'].transform(asst_normalized)\n",
    "\n",
    "assistant_layer_activation = assistant_layer_activation.numpy()"
   ]
  },
  {
   "cell_type": "code",
   "execution_count": 17,
   "id": "4e2e5c4d",
   "metadata": {},
   "outputs": [],
   "source": [
    "trait_labels = [trait.replace('_', ' ').capitalize() for trait in pca_results['traits']['pos_neg_50']]"
   ]
  },
  {
   "cell_type": "code",
   "execution_count": 19,
   "id": "d10abea0",
   "metadata": {},
   "outputs": [
    {
     "data": {
      "application/vnd.plotly.v1+json": {
       "config": {
        "plotlyServerURL": "https://plot.ly"
       },
       "data": [
        {
         "hovertemplate": "<b>%{text}</b><br>Cosine Similarity: %{x:.3f}<extra></extra>",
         "marker": {
          "color": "limegreen",
          "line": {
           "color": "black",
           "width": 1
          },
          "opacity": 1,
          "size": 8,
          "symbol": "diamond"
         },
         "mode": "markers",
         "showlegend": false,
         "text": [
          "Zealous",
          "Wry",
          "Witty",
          "Whimsical",
          "Verbose",
          "Utilitarian",
          "Urgent",
          "Universalist",
          "Understated",
          "Transparent",
          "Traditional",
          "Theoretical",
          "Theatrical",
          "Technical",
          "Tactful",
          "Systems thinker",
          "Sycophantic",
          "Supportive",
          "Subversive",
          "Submissive",
          "Structuralist",
          "Stream of consciousness",
          "Strategic",
          "Stoic",
          "Spontaneous",
          "Spiritual",
          "Speculative",
          "Specialized",
          "Solemn",
          "Socratic",
          "Skeptical",
          "Serious",
          "Serene",
          "Secular",
          "Savage",
          "Sassy",
          "Sardonic",
          "Sarcastic",
          "Romantic",
          "Ritualistic",
          "Risk taking",
          "Rhetorical",
          "Reverent",
          "Reserved",
          "Relativist",
          "Regulatory",
          "Reductionist",
          "Rebellious",
          "Reactive",
          "Rationalist",
          "Radical",
          "Quantitative",
          "Qualitative",
          "Provocative",
          "Progressive",
          "Problem solving",
          "Proactive",
          "Principled",
          "Prescriptive",
          "Practical",
          "Poetic",
          "Pluralist",
          "Playful",
          "Philosophical",
          "Pessimistic",
          "Perfectionist",
          "Pensive",
          "Pedantic",
          "Patient",
          "Passive aggressive",
          "Passionate",
          "Paranoid",
          "Paradoxical",
          "Pacifist",
          "Optimistic",
          "Open ended",
          "Obsessive",
          "Nurturing",
          "Nostalgic",
          "Nonchalant",
          "Nihilistic",
          "Neurotic",
          "Narrative",
          "Naive",
          "Mystical",
          "Mischievous",
          "Misanthropic",
          "Militant",
          "Metaphorical",
          "Melodramatic",
          "Melancholic",
          "Meditative",
          "Materialist",
          "Manipulative",
          "Literal",
          "Libertarian",
          "Irreverent",
          "Ironic",
          "Intuitive",
          "Introverted",
          "Introspective",
          "Interdisciplinary",
          "Inspirational",
          "Inquisitive",
          "Innovative",
          "Individualistic",
          "Independent",
          "Inclusive",
          "Impulsive",
          "Improvisational",
          "Impatient",
          "Idealistic",
          "Iconoclastic",
          "Humble",
          "Humanistic",
          "Hostile",
          "Holistic",
          "Historical",
          "Hedonistic",
          "Grounded",
          "Gregarious",
          "Grandiose",
          "Goofy",
          "Generous",
          "Generalist",
          "Futuristic",
          "Fundamentalist",
          "Formalist",
          "Formal",
          "Forgiving",
          "Flirty",
          "Flexible",
          "Fatalistic",
          "Factual",
          "Extroverted",
          "Exploratory",
          "Experiential",
          "Existentialist",
          "Ethereal",
          "Essentialist",
          "Esoteric",
          "Erudite",
          "Epicurean",
          "Environmental",
          "Entertaining",
          "Enigmatic",
          "Empathetic",
          "Emotional",
          "Eloquent",
          "Elitist",
          "Egalitarian",
          "Effusive",
          "Efficient",
          "Educational",
          "Eclectic",
          "Earnest",
          "Dramatic",
          "Dominant",
          "Dogmatic",
          "Divergent",
          "Dispassionate",
          "Deterministic",
          "Detached",
          "Descriptive",
          "Deontological",
          "Deferential",
          "Deconstructionist",
          "Decisive",
          "Data driven",
          "Cynical",
          "Curious",
          "Cryptic",
          "Cruel",
          "Critical",
          "Creative",
          "Cosmopolitan",
          "Convergent",
          "Contrarian",
          "Contemporary",
          "Constructivist",
          "Confrontational",
          "Confident",
          "Condescending",
          "Concise",
          "Conceptual",
          "Competitive",
          "Collectivistic",
          "Collaborative",
          "Closure seeking",
          "Circumspect",
          "Chill",
          "Charismatic",
          "Chaotic",
          "Challenging",
          "Cautious",
          "Casual",
          "Callous",
          "Calculating",
          "Bombastic",
          "Blunt",
          "Bitter",
          "Big picture",
          "Benevolent",
          "Avoidant",
          "Assertive",
          "Ascetic",
          "Artistic",
          "Arrogant",
          "Anxious",
          "Anthropocentric",
          "Animated",
          "Altruistic",
          "Adventurous",
          "Adaptable",
          "Acerbic",
          "Accommodating",
          "Accessible",
          "Abstract",
          "Absolutist"
         ],
         "type": "scatter",
         "x": [
          -0.6063231937474445,
          -0.46221867890402485,
          -0.3140918210036883,
          -0.6192533538481064,
          0.4418485065050174,
          0.38618058423741963,
          -0.19702710054868242,
          0.2408681874999329,
          0.016924057454808624,
          0.660937373593474,
          0.4069136770971942,
          0.15214980296012384,
          -0.34857811938035443,
          0.4841384215746732,
          0.6941445529984237,
          0.5099783799291401,
          -0.5040423348471217,
          0.6829083733549935,
          -0.5565774266177661,
          -0.37333789647527565,
          0.7262709834331331,
          -0.5312875617635396,
          0.7544428169216446,
          0.6765061007382325,
          -0.6646907243193776,
          -0.3117546647806271,
          0.06856787205952637,
          0.46992805958358,
          0.6425123316140088,
          -0.1963607828885157,
          0.5328985590971098,
          0.637807546462799,
          0.5905269623120666,
          0.28675874829375936,
          -0.626048664055313,
          -0.41145474030327506,
          -0.5668787577914286,
          -0.6355840496096171,
          -0.5499387099200137,
          0.43015358065399584,
          -0.49934505147690245,
          -0.25190386112998064,
          0.45328469709651825,
          0.5810287976373776,
          -0.3339260905782273,
          0.44823214752193113,
          0.330989592419071,
          -0.28464327069034356,
          -0.6376585867763875,
          0.5585989517773515,
          -0.3584189377740507,
          0.449476739166166,
          -0.2925592011008435,
          -0.057014200842740614,
          0.1583441879443095,
          0.6408696477762597,
          0.6110102918685071,
          0.5068217833731816,
          0.37640596971235957,
          0.17954981802647985,
          -0.2319446836076999,
          0.5906461382687752,
          -0.5533928989658855,
          0.11496111556464354,
          -0.28905792408385844,
          0.7461348486783882,
          0.5314789083546478,
          0.3076404090560068,
          0.7472063511083865,
          -0.6993267803854573,
          -0.5471012147363846,
          -0.6472949499191685,
          -0.22268845011427904,
          0.07149773678211611,
          0.41605669908886117,
          0.13569892656569774,
          -0.596159033188048,
          0.6207605644625374,
          -0.43858481315293535,
          -0.561351485055423,
          -0.41425750916887066,
          -0.5957288532685636,
          -0.4516117554522627,
          -0.30817990701919185,
          -0.45690762512997785,
          -0.6409988086735234,
          -0.6317604131470165,
          -0.6218821061680168,
          -0.18630580758476567,
          -0.5230229175814203,
          -0.3851891973191441,
          0.45257721762507075,
          0.15982928105087013,
          -0.6914080368300751,
          -0.1033867499161484,
          -0.20721526729372114,
          -0.7022385748925083,
          -0.5525933978764234,
          0.09221620417410097,
          0.601836058378976,
          0.2605440097755299,
          0.34944683131827403,
          0.6332705518618413,
          0.018977764028349102,
          -0.2793601731014351,
          -0.2608039935094653,
          0.48570839685900236,
          0.6576370067622815,
          -0.5381183431787975,
          -0.40638447665721267,
          -0.6670512212316333,
          0.0401908310441411,
          -0.5102715496605776,
          0.13502820480949124,
          0.41092036822198275,
          -0.6200408864988186,
          0.6401160008399185,
          0.028946340885366205,
          -0.6860452519015222,
          0.42788500990726097,
          -0.2090808720564,
          -0.401055515356631,
          -0.6656444566904677,
          0.6016883487888898,
          0.378017128033351,
          0.06764554811289278,
          -0.2841088928398154,
          0.564188408445559,
          0.651861110705509,
          0.08588876599448662,
          -0.6943286900818745,
          0.6894534724653424,
          -0.4018939408962096,
          0.7264050051540826,
          -0.21976347594269435,
          0.561262053698657,
          0.09408592193593832,
          0.2700019079317479,
          -0.454183575301228,
          -0.07922948658913423,
          -0.17792017919834324,
          0.4614420115810716,
          -0.034679699069618285,
          0.3648638095863953,
          -0.47470889598562166,
          -0.5594887163239066,
          0.017015573273523096,
          -0.3659273444886951,
          0.16557454743552136,
          -0.37840582916226634,
          0.513751357345963,
          -0.5812134376779949,
          -0.19739520511978606,
          0.6410322807973217,
          0.16187505940583508,
          0.736275850339105,
          -0.47304799889154603,
          0.402511792657739,
          -0.5482953412232273,
          0.4481284325434996,
          0.6249588130017083,
          -0.30600243501957836,
          0.5451090686201479,
          0.5484019935564587,
          0.13730767956353215,
          0.11346018736555978,
          0.13737749740234328,
          0.24698137560954161,
          0.5094817621489557,
          -0.4302026529920455,
          0.4075338233434686,
          -0.371057179851751,
          -0.6028405145075081,
          0.1481562500217356,
          -0.14268974972901846,
          0.7327938544581838,
          0.1850675129115174,
          0.030263043732931948,
          0.2990274704748846,
          0.06507458639249546,
          0.013262199823264521,
          -0.18297353645488293,
          -0.6029646912928281,
          -0.26101795698469954,
          0.09698052056030944,
          -0.5523021329033186,
          0.5114785350086651,
          0.3997799453193111,
          0.13574959607419854,
          0.6616415777906435,
          0.5150706602945417,
          0.01719708070268575,
          -0.11233908549663539,
          0.10093031799630546,
          0.578616625877253,
          -0.45388751375825837,
          -0.4875067159856973,
          0.6625802806156753,
          -0.3108044581364412,
          -0.13629427063326366,
          -0.6990979874589285,
          0.38123966081841215,
          0.7446554660426773,
          -0.3965213964020736,
          -0.33051000535354597,
          0.387686569940231,
          -0.3420371454053045,
          -0.5356220069428976,
          -0.503246491671235,
          0.05027957220112957,
          -0.1944346539895751,
          0.6497251749564447,
          -0.4278071412060321,
          0.46374617839911747,
          -0.5375277380837395,
          -0.21085421471232893,
          0.2281321667041112,
          0.22134364575836857,
          -0.18228901486213392
         ],
         "xaxis": "x",
         "y": [
          1,
          1,
          1,
          1,
          1,
          1,
          1,
          1,
          1,
          1,
          1,
          1,
          1,
          1,
          1,
          1,
          1,
          1,
          1,
          1,
          1,
          1,
          1,
          1,
          1,
          1,
          1,
          1,
          1,
          1,
          1,
          1,
          1,
          1,
          1,
          1,
          1,
          1,
          1,
          1,
          1,
          1,
          1,
          1,
          1,
          1,
          1,
          1,
          1,
          1,
          1,
          1,
          1,
          1,
          1,
          1,
          1,
          1,
          1,
          1,
          1,
          1,
          1,
          1,
          1,
          1,
          1,
          1,
          1,
          1,
          1,
          1,
          1,
          1,
          1,
          1,
          1,
          1,
          1,
          1,
          1,
          1,
          1,
          1,
          1,
          1,
          1,
          1,
          1,
          1,
          1,
          1,
          1,
          1,
          1,
          1,
          1,
          1,
          1,
          1,
          1,
          1,
          1,
          1,
          1,
          1,
          1,
          1,
          1,
          1,
          1,
          1,
          1,
          1,
          1,
          1,
          1,
          1,
          1,
          1,
          1,
          1,
          1,
          1,
          1,
          1,
          1,
          1,
          1,
          1,
          1,
          1,
          1,
          1,
          1,
          1,
          1,
          1,
          1,
          1,
          1,
          1,
          1,
          1,
          1,
          1,
          1,
          1,
          1,
          1,
          1,
          1,
          1,
          1,
          1,
          1,
          1,
          1,
          1,
          1,
          1,
          1,
          1,
          1,
          1,
          1,
          1,
          1,
          1,
          1,
          1,
          1,
          1,
          1,
          1,
          1,
          1,
          1,
          1,
          1,
          1,
          1,
          1,
          1,
          1,
          1,
          1,
          1,
          1,
          1,
          1,
          1,
          1,
          1,
          1,
          1,
          1,
          1,
          1,
          1,
          1,
          1,
          1,
          1,
          1,
          1,
          1,
          1,
          1,
          1,
          1,
          1,
          1,
          1,
          1,
          1,
          1,
          1,
          1
         ],
         "yaxis": "y"
        },
        {
         "hovertemplate": "<b>%{text}</b><br>Cosine Similarity: %{x:.3f}<extra></extra>",
         "marker": {
          "color": "limegreen",
          "line": {
           "color": "black",
           "width": 1
          },
          "opacity": 1,
          "size": 8,
          "symbol": "diamond"
         },
         "mode": "markers",
         "showlegend": false,
         "text": [
          "Visceral",
          "Temperamental",
          "Resilient",
          "Petty",
          "Moderate",
          "Meticulous",
          "Methodical",
          "Mercurial",
          "Manic",
          "Judgmental",
          "Flippant",
          "Evil",
          "Edgy",
          "Disorganized",
          "Diplomatic",
          "Conscientious",
          "Conciliatory",
          "Calm",
          "Analytical",
          "Agreeable"
         ],
         "type": "scatter",
         "x": [
          -0.7909510138464241,
          -0.7589045166738289,
          0.770512503323007,
          -0.7679446283990387,
          0.8232308269970638,
          0.7848313361857512,
          0.8002018699292776,
          -0.8536056739677016,
          -0.7117215484538534,
          -0.7025014548106963,
          -0.7632785112237565,
          -0.7358925883303975,
          -0.7370524840095128,
          -0.7409934591558914,
          0.8637531169492374,
          0.8666037635815139,
          0.810114772923709,
          0.8012988017504353,
          0.7603274006986442,
          0.7610755852522897
         ],
         "xaxis": "x",
         "y": [
          1,
          1,
          1,
          1,
          1,
          1,
          1,
          1,
          1,
          1,
          1,
          1,
          1,
          1,
          1,
          1,
          1,
          1,
          1,
          1
         ],
         "yaxis": "y"
        },
        {
         "hoverinfo": "skip",
         "line": {
          "color": "black",
          "width": 1
         },
         "mode": "lines",
         "showlegend": false,
         "type": "scatter",
         "x": [
          -0.8536056739677016,
          -0.8536056739677016
         ],
         "xaxis": "x",
         "y": [
          1,
          1.45
         ],
         "yaxis": "y"
        },
        {
         "hoverinfo": "skip",
         "line": {
          "color": "black",
          "width": 1
         },
         "mode": "lines",
         "showlegend": false,
         "type": "scatter",
         "x": [
          -0.7909510138464241,
          -0.7909510138464241
         ],
         "xaxis": "x",
         "y": [
          1,
          0.6
         ],
         "yaxis": "y"
        },
        {
         "hoverinfo": "skip",
         "line": {
          "color": "black",
          "width": 1
         },
         "mode": "lines",
         "showlegend": false,
         "type": "scatter",
         "x": [
          -0.7679446283990387,
          -0.7679446283990387
         ],
         "xaxis": "x",
         "y": [
          1,
          1.9
         ],
         "yaxis": "y"
        },
        {
         "hoverinfo": "skip",
         "line": {
          "color": "black",
          "width": 1
         },
         "mode": "lines",
         "showlegend": false,
         "type": "scatter",
         "x": [
          -0.7632785112237565,
          -0.7632785112237565
         ],
         "xaxis": "x",
         "y": [
          1,
          0.15
         ],
         "yaxis": "y"
        },
        {
         "hoverinfo": "skip",
         "line": {
          "color": "black",
          "width": 1
         },
         "mode": "lines",
         "showlegend": false,
         "type": "scatter",
         "x": [
          -0.7589045166738289,
          -0.7589045166738289
         ],
         "xaxis": "x",
         "y": [
          1,
          1.6
         ],
         "yaxis": "y"
        },
        {
         "hoverinfo": "skip",
         "line": {
          "color": "black",
          "width": 1
         },
         "mode": "lines",
         "showlegend": false,
         "type": "scatter",
         "x": [
          -0.7409934591558914,
          -0.7409934591558914
         ],
         "xaxis": "x",
         "y": [
          1,
          0.45
         ],
         "yaxis": "y"
        },
        {
         "hoverinfo": "skip",
         "line": {
          "color": "black",
          "width": 1
         },
         "mode": "lines",
         "showlegend": false,
         "type": "scatter",
         "x": [
          -0.7370524840095128,
          -0.7370524840095128
         ],
         "xaxis": "x",
         "y": [
          1,
          1.3
         ],
         "yaxis": "y"
        },
        {
         "hoverinfo": "skip",
         "line": {
          "color": "black",
          "width": 1
         },
         "mode": "lines",
         "showlegend": false,
         "type": "scatter",
         "x": [
          -0.7358925883303975,
          -0.7358925883303975
         ],
         "xaxis": "x",
         "y": [
          1,
          0.75
         ],
         "yaxis": "y"
        },
        {
         "hoverinfo": "skip",
         "line": {
          "color": "black",
          "width": 1
         },
         "mode": "lines",
         "showlegend": false,
         "type": "scatter",
         "x": [
          -0.7117215484538534,
          -0.7117215484538534
         ],
         "xaxis": "x",
         "y": [
          1,
          1.75
         ],
         "yaxis": "y"
        },
        {
         "hoverinfo": "skip",
         "line": {
          "color": "black",
          "width": 1
         },
         "mode": "lines",
         "showlegend": false,
         "type": "scatter",
         "x": [
          -0.7025014548106963,
          -0.7025014548106963
         ],
         "xaxis": "x",
         "y": [
          1,
          0.3
         ],
         "yaxis": "y"
        },
        {
         "hoverinfo": "skip",
         "line": {
          "color": "black",
          "width": 1
         },
         "mode": "lines",
         "showlegend": false,
         "type": "scatter",
         "x": [
          0.7603274006986442,
          0.7603274006986442
         ],
         "xaxis": "x",
         "y": [
          1,
          1.45
         ],
         "yaxis": "y"
        },
        {
         "hoverinfo": "skip",
         "line": {
          "color": "black",
          "width": 1
         },
         "mode": "lines",
         "showlegend": false,
         "type": "scatter",
         "x": [
          0.7610755852522897,
          0.7610755852522897
         ],
         "xaxis": "x",
         "y": [
          1,
          0.6
         ],
         "yaxis": "y"
        },
        {
         "hoverinfo": "skip",
         "line": {
          "color": "black",
          "width": 1
         },
         "mode": "lines",
         "showlegend": false,
         "type": "scatter",
         "x": [
          0.770512503323007,
          0.770512503323007
         ],
         "xaxis": "x",
         "y": [
          1,
          1.9
         ],
         "yaxis": "y"
        },
        {
         "hoverinfo": "skip",
         "line": {
          "color": "black",
          "width": 1
         },
         "mode": "lines",
         "showlegend": false,
         "type": "scatter",
         "x": [
          0.7848313361857512,
          0.7848313361857512
         ],
         "xaxis": "x",
         "y": [
          1,
          0.15
         ],
         "yaxis": "y"
        },
        {
         "hoverinfo": "skip",
         "line": {
          "color": "black",
          "width": 1
         },
         "mode": "lines",
         "showlegend": false,
         "type": "scatter",
         "x": [
          0.8002018699292776,
          0.8002018699292776
         ],
         "xaxis": "x",
         "y": [
          1,
          1.6
         ],
         "yaxis": "y"
        },
        {
         "hoverinfo": "skip",
         "line": {
          "color": "black",
          "width": 1
         },
         "mode": "lines",
         "showlegend": false,
         "type": "scatter",
         "x": [
          0.8012988017504353,
          0.8012988017504353
         ],
         "xaxis": "x",
         "y": [
          1,
          0.45
         ],
         "yaxis": "y"
        },
        {
         "hoverinfo": "skip",
         "line": {
          "color": "black",
          "width": 1
         },
         "mode": "lines",
         "showlegend": false,
         "type": "scatter",
         "x": [
          0.810114772923709,
          0.810114772923709
         ],
         "xaxis": "x",
         "y": [
          1,
          1.3
         ],
         "yaxis": "y"
        },
        {
         "hoverinfo": "skip",
         "line": {
          "color": "black",
          "width": 1
         },
         "mode": "lines",
         "showlegend": false,
         "type": "scatter",
         "x": [
          0.8232308269970638,
          0.8232308269970638
         ],
         "xaxis": "x",
         "y": [
          1,
          0.75
         ],
         "yaxis": "y"
        },
        {
         "hoverinfo": "skip",
         "line": {
          "color": "black",
          "width": 1
         },
         "mode": "lines",
         "showlegend": false,
         "type": "scatter",
         "x": [
          0.8637531169492374,
          0.8637531169492374
         ],
         "xaxis": "x",
         "y": [
          1,
          1.75
         ],
         "yaxis": "y"
        },
        {
         "hoverinfo": "skip",
         "line": {
          "color": "black",
          "width": 1
         },
         "mode": "lines",
         "showlegend": false,
         "type": "scatter",
         "x": [
          0.8666037635815139,
          0.8666037635815139
         ],
         "xaxis": "x",
         "y": [
          1,
          0.3
         ],
         "yaxis": "y"
        },
        {
         "hoverinfo": "skip",
         "marker": {
          "color": "limegreen"
         },
         "opacity": 0.7,
         "showlegend": false,
         "type": "bar",
         "width": 0.045872251667979126,
         "x": [
          -0.8249355166752146,
          -0.7675952020902408,
          -0.710254887505267,
          -0.6529145729202931,
          -0.5955742583353192,
          -0.5382339437503454,
          -0.4808936291653715,
          -0.4235533145803977,
          -0.3662129999954238,
          -0.30887268541044993,
          -0.2515323708254761,
          -0.19419205624050223,
          -0.13685174165552838,
          -0.07951142707055453,
          -0.02217111248558068,
          0.03516920209939317,
          0.09250951668436708,
          0.14984983126934093,
          0.20719014585431472,
          0.26453046043928863,
          0.32187077502426253,
          0.37921108960923633,
          0.4365514041942101,
          0.49389171877918403,
          0.5512320333641579,
          0.6085723479491317,
          0.6659126625341056,
          0.7232529771190795,
          0.7805932917040533,
          0.837933606289027
         ],
         "xaxis": "x",
         "y": [
          0.05625,
          0.28125,
          0.5625,
          0.50625,
          0.50625,
          0.9,
          0.5625,
          0.5625,
          0.45,
          0.61875,
          0.28125,
          0.7312500000000001,
          0.16875,
          0.16875,
          0.05625,
          0.50625,
          0.61875,
          0.61875,
          0.225,
          0.28125,
          0.225,
          0.5625,
          0.675,
          0.50625,
          0.45,
          0.50625,
          0.84375,
          0.39375,
          0.39375,
          0.225
         ],
         "yaxis": "y"
        },
        {
         "hovertemplate": "<b>%{text}</b><br>Normalized Projection: %{x:.3f}<extra></extra>",
         "marker": {
          "color": "limegreen",
          "line": {
           "color": "black",
           "width": 1
          },
          "opacity": 1,
          "size": 8,
          "symbol": "diamond"
         },
         "mode": "markers",
         "showlegend": false,
         "text": [
          "Zealous",
          "Wry",
          "Witty",
          "Whimsical",
          "Visceral",
          "Verbose",
          "Utilitarian",
          "Urgent",
          "Universalist",
          "Understated",
          "Transparent",
          "Traditional",
          "Theoretical",
          "Theatrical",
          "Technical",
          "Tactful",
          "Systems thinker",
          "Sycophantic",
          "Supportive",
          "Subversive",
          "Submissive",
          "Structuralist",
          "Stream of consciousness",
          "Stoic",
          "Spontaneous",
          "Spiritual",
          "Speculative",
          "Specialized",
          "Solemn",
          "Socratic",
          "Skeptical",
          "Serious",
          "Serene",
          "Secular",
          "Savage",
          "Sassy",
          "Sardonic",
          "Sarcastic",
          "Romantic",
          "Ritualistic",
          "Risk taking",
          "Rhetorical",
          "Reverent",
          "Reserved",
          "Relativist",
          "Regulatory",
          "Reductionist",
          "Rebellious",
          "Reactive",
          "Rationalist",
          "Radical",
          "Quantitative",
          "Qualitative",
          "Provocative",
          "Progressive",
          "Problem solving",
          "Proactive",
          "Principled",
          "Prescriptive",
          "Practical",
          "Poetic",
          "Pluralist",
          "Playful",
          "Philosophical",
          "Petty",
          "Pessimistic",
          "Perfectionist",
          "Pensive",
          "Pedantic",
          "Passive aggressive",
          "Passionate",
          "Paranoid",
          "Paradoxical",
          "Pacifist",
          "Optimistic",
          "Open ended",
          "Obsessive",
          "Nurturing",
          "Nostalgic",
          "Nonchalant",
          "Nihilistic",
          "Narrative",
          "Naive",
          "Mystical",
          "Mischievous",
          "Misanthropic",
          "Militant",
          "Metaphorical",
          "Melodramatic",
          "Melancholic",
          "Meditative",
          "Materialist",
          "Manipulative",
          "Literal",
          "Libertarian",
          "Judgmental",
          "Irreverent",
          "Ironic",
          "Intuitive",
          "Introverted",
          "Introspective",
          "Interdisciplinary",
          "Inspirational",
          "Inquisitive",
          "Innovative",
          "Individualistic",
          "Independent",
          "Inclusive",
          "Improvisational",
          "Idealistic",
          "Iconoclastic",
          "Humble",
          "Humanistic",
          "Hostile",
          "Holistic",
          "Historical",
          "Hedonistic",
          "Grounded",
          "Gregarious",
          "Grandiose",
          "Generous",
          "Generalist",
          "Futuristic",
          "Fundamentalist",
          "Formalist",
          "Formal",
          "Forgiving",
          "Flirty",
          "Flexible",
          "Fatalistic",
          "Factual",
          "Extroverted",
          "Exploratory",
          "Experiential",
          "Existentialist",
          "Ethereal",
          "Essentialist",
          "Esoteric",
          "Erudite",
          "Epicurean",
          "Environmental",
          "Entertaining",
          "Enigmatic",
          "Empathetic",
          "Emotional",
          "Eloquent",
          "Elitist",
          "Egalitarian",
          "Effusive",
          "Efficient",
          "Educational",
          "Edgy",
          "Eclectic",
          "Dramatic",
          "Dominant",
          "Dogmatic",
          "Divergent",
          "Dispassionate",
          "Diplomatic",
          "Deterministic",
          "Detached",
          "Descriptive",
          "Deontological",
          "Deferential",
          "Deconstructionist",
          "Decisive",
          "Data driven",
          "Cynical",
          "Curious",
          "Cryptic",
          "Cruel",
          "Critical",
          "Creative",
          "Cosmopolitan",
          "Convergent",
          "Contrarian",
          "Contemporary",
          "Constructivist",
          "Confrontational",
          "Confident",
          "Condescending",
          "Concise",
          "Conceptual",
          "Competitive",
          "Collectivistic",
          "Collaborative",
          "Closure seeking",
          "Circumspect",
          "Chill",
          "Charismatic",
          "Chaotic",
          "Challenging",
          "Cautious",
          "Casual",
          "Callous",
          "Calculating",
          "Bombastic",
          "Blunt",
          "Bitter",
          "Big picture",
          "Benevolent",
          "Avoidant",
          "Assertive",
          "Ascetic",
          "Artistic",
          "Arrogant",
          "Anxious",
          "Anthropocentric",
          "Animated",
          "Analytical",
          "Altruistic",
          "Agreeable",
          "Adventurous",
          "Adaptable",
          "Acerbic",
          "Accommodating",
          "Accessible",
          "Abstract",
          "Absolutist"
         ],
         "type": "scatter",
         "x": [
          -0.07564494436130631,
          -0.06266148563182472,
          -0.04393695305625847,
          -0.08609165392337649,
          -0.0940082875141138,
          0.051663778443924654,
          0.026288017674886158,
          -0.019270180755279642,
          0.016436955348579224,
          0.002391083913743408,
          0.0867450398818753,
          0.04293781586758457,
          0.012873723536802384,
          -0.05244882459871073,
          0.05818174743338163,
          0.0842568900205762,
          0.04211642124185401,
          -0.08290841681431677,
          0.1065685932504639,
          -0.04893990894125435,
          -0.05322379637464338,
          0.08428392905976699,
          -0.05360332433128238,
          0.07486289441511482,
          -0.06967275406831096,
          -0.03734998802383368,
          0.00486081466833504,
          0.05162645298325617,
          0.0972397296506566,
          -0.027843993596487444,
          0.04842022368294613,
          0.09984607146994652,
          0.09601592941969087,
          0.027784324517657992,
          -0.0754628752887739,
          -0.04868217209787273,
          -0.08059943784815897,
          -0.08045230464290212,
          -0.07771657411796416,
          0.05443882936319607,
          -0.036364637853104995,
          -0.02841545714611659,
          0.04860818265239201,
          0.07955873916383491,
          -0.03647956504768923,
          0.04927575409203982,
          0.030778377917543974,
          -0.023905195735275702,
          -0.0941082164935369,
          0.059035067905244,
          -0.035716460342520955,
          0.05711071056178283,
          -0.03241815451068863,
          -0.004372374929730501,
          0.010350353494309737,
          0.08003132054000385,
          0.08245491464656732,
          0.030851131706572617,
          0.03885446155827238,
          0.020218124044963794,
          -0.05342300254191643,
          0.052331747329076854,
          -0.07013684741454734,
          0.01099296956068286,
          -0.0928707057503367,
          -0.025359424139905627,
          0.0805400758816835,
          0.07874614867302776,
          0.028211326007878172,
          -0.09385536760519007,
          -0.05837109127787777,
          -0.06548710806112713,
          -0.01680149546344768,
          0.004399496239725816,
          0.04798408967356268,
          0.011313758624795446,
          -0.04773028718199999,
          0.09584935045062688,
          -0.037699803030027554,
          -0.10082414024483823,
          -0.05978657058015763,
          -0.0610018894267191,
          -0.04857241580012125,
          -0.050810362993922914,
          -0.08532358281834974,
          -0.08688956867143592,
          -0.07818350248073672,
          -0.025843657083666028,
          -0.07488489782280228,
          -0.05050728476164319,
          0.07295912397738616,
          0.012716961720988823,
          -0.0785051579894226,
          -0.013253867553042913,
          -0.014486083149836437,
          -0.07586594789502044,
          -0.09466037964992582,
          -0.08543467187285207,
          0.007716727334836201,
          0.07568561996415583,
          0.030917811368017314,
          0.027117536581055424,
          0.09859137956325252,
          0.002881685182579364,
          -0.0214069543568463,
          -0.01349959846687067,
          0.04407238862148484,
          0.056014933758004745,
          -0.04108805637756689,
          0.003320665916760957,
          -0.040786231890851565,
          0.014602210579645232,
          0.036068316729048866,
          -0.09633079613765139,
          0.06469880015565764,
          0.002369630558129015,
          -0.07699674917906343,
          0.05527771165911723,
          -0.022043929165388478,
          -0.04782935528091297,
          0.09924820139405519,
          0.044464221969498355,
          0.005296401439587836,
          -0.03176353327531508,
          0.05079295481706052,
          0.09682253482643327,
          0.005023987157858501,
          -0.09879735591028836,
          0.09151221215808264,
          -0.04698556728076728,
          0.09250355926531052,
          -0.01812066990581867,
          0.0745846759202911,
          0.00808639688132808,
          0.029836639051760542,
          -0.0664656523678987,
          -0.006561551860149636,
          -0.023875626519618234,
          0.058184444851619915,
          -0.0029688673290058595,
          0.029645141019875636,
          -0.05995503690522884,
          -0.08587004765697517,
          0.0015884324543843004,
          -0.03770725949854171,
          0.025080954316876857,
          -0.04277987172846047,
          0.04796145564685223,
          -0.07571959196106852,
          -0.026661743392527307,
          0.11002040043141903,
          -0.09123488901999718,
          0.012675516428429647,
          -0.06568456359085298,
          0.036359784393418394,
          -0.07204349250759359,
          0.05693694826960636,
          0.08577569117221724,
          0.11087671185501559,
          -0.033594869346442215,
          0.06388488932437374,
          0.05690616612190772,
          0.008890772512817793,
          0.011544449662605951,
          0.012953041747377216,
          0.02685739533483522,
          0.051891128761702904,
          -0.04084815931833787,
          0.048857886693473476,
          -0.05864286598295076,
          -0.0826669384801876,
          0.012807297502692334,
          -0.013139262150930512,
          0.07962029794230642,
          0.012771445873926373,
          0.002405392458500829,
          0.02351074028419577,
          0.004802717361915482,
          0.0010602842741118039,
          -0.017197704484707824,
          -0.06714638197129623,
          -0.04070851723369748,
          0.00819250181206314,
          -0.06195354805367186,
          0.039596681192236416,
          0.03236796692298762,
          0.01340709910568303,
          0.07158675895227397,
          0.07472128375380976,
          0.0023520321092075913,
          -0.008444203378890085,
          0.00865726171259163,
          0.05678179220291228,
          -0.059924166825892154,
          -0.06841534944307352,
          0.07233364424721166,
          -0.04847376454677402,
          -0.01431003613631281,
          -0.09162176712410627,
          0.028323475420515623,
          0.09230518377283656,
          -0.06924901369218074,
          -0.023086540993643205,
          0.0387668123785822,
          -0.0405572352334357,
          -0.0611442253225958,
          -0.0849949690768158,
          0.0030271226811673284,
          -0.02776932142020058,
          0.10733036381660596,
          0.06839601723214846,
          0.09763444246973577,
          -0.03533824314079521,
          0.046823133645734885,
          -0.06918503506912985,
          -0.014662173233694935,
          0.03314280727786513,
          0.017419915092968353,
          -0.013398382883890383
         ],
         "xaxis": "x2",
         "y": [
          1,
          1,
          1,
          1,
          1,
          1,
          1,
          1,
          1,
          1,
          1,
          1,
          1,
          1,
          1,
          1,
          1,
          1,
          1,
          1,
          1,
          1,
          1,
          1,
          1,
          1,
          1,
          1,
          1,
          1,
          1,
          1,
          1,
          1,
          1,
          1,
          1,
          1,
          1,
          1,
          1,
          1,
          1,
          1,
          1,
          1,
          1,
          1,
          1,
          1,
          1,
          1,
          1,
          1,
          1,
          1,
          1,
          1,
          1,
          1,
          1,
          1,
          1,
          1,
          1,
          1,
          1,
          1,
          1,
          1,
          1,
          1,
          1,
          1,
          1,
          1,
          1,
          1,
          1,
          1,
          1,
          1,
          1,
          1,
          1,
          1,
          1,
          1,
          1,
          1,
          1,
          1,
          1,
          1,
          1,
          1,
          1,
          1,
          1,
          1,
          1,
          1,
          1,
          1,
          1,
          1,
          1,
          1,
          1,
          1,
          1,
          1,
          1,
          1,
          1,
          1,
          1,
          1,
          1,
          1,
          1,
          1,
          1,
          1,
          1,
          1,
          1,
          1,
          1,
          1,
          1,
          1,
          1,
          1,
          1,
          1,
          1,
          1,
          1,
          1,
          1,
          1,
          1,
          1,
          1,
          1,
          1,
          1,
          1,
          1,
          1,
          1,
          1,
          1,
          1,
          1,
          1,
          1,
          1,
          1,
          1,
          1,
          1,
          1,
          1,
          1,
          1,
          1,
          1,
          1,
          1,
          1,
          1,
          1,
          1,
          1,
          1,
          1,
          1,
          1,
          1,
          1,
          1,
          1,
          1,
          1,
          1,
          1,
          1,
          1,
          1,
          1,
          1,
          1,
          1,
          1,
          1,
          1,
          1,
          1,
          1,
          1,
          1,
          1,
          1,
          1,
          1,
          1,
          1,
          1,
          1,
          1,
          1,
          1,
          1,
          1,
          1,
          1,
          1
         ],
         "yaxis": "y2"
        },
        {
         "hovertemplate": "<b>%{text}</b><br>Normalized Projection: %{x:.3f}<extra></extra>",
         "marker": {
          "color": "limegreen",
          "line": {
           "color": "black",
           "width": 1
          },
          "opacity": 1,
          "size": 8,
          "symbol": "diamond"
         },
         "mode": "markers",
         "showlegend": false,
         "text": [
          "Temperamental",
          "Strategic",
          "Resilient",
          "Patient",
          "Neurotic",
          "Moderate",
          "Meticulous",
          "Methodical",
          "Mercurial",
          "Manic",
          "Impulsive",
          "Impatient",
          "Goofy",
          "Flippant",
          "Evil",
          "Earnest",
          "Disorganized",
          "Conscientious",
          "Conciliatory",
          "Calm"
         ],
         "type": "scatter",
         "x": [
          -0.10686192192832127,
          0.13044365759638676,
          0.12794527404038736,
          0.12712823088991498,
          -0.10347950277227312,
          0.12055054309468634,
          0.11098046796874093,
          0.12021640528768704,
          -0.10351886554298848,
          -0.10407141625806654,
          -0.10325882238459301,
          -0.11204088360951148,
          -0.10445549367524215,
          -0.12751594781861383,
          -0.10223566203184531,
          0.1141137054924517,
          -0.1090830785543877,
          0.16723352917181566,
          0.11839972950151634,
          0.130472431331564
         ],
         "xaxis": "x2",
         "y": [
          1,
          1,
          1,
          1,
          1,
          1,
          1,
          1,
          1,
          1,
          1,
          1,
          1,
          1,
          1,
          1,
          1,
          1,
          1,
          1
         ],
         "yaxis": "y2"
        },
        {
         "hoverinfo": "skip",
         "line": {
          "color": "black",
          "width": 1
         },
         "mode": "lines",
         "showlegend": false,
         "type": "scatter",
         "x": [
          -0.12751594781861383,
          -0.12751594781861383
         ],
         "xaxis": "x2",
         "y": [
          1,
          1.45
         ],
         "yaxis": "y2"
        },
        {
         "hoverinfo": "skip",
         "line": {
          "color": "black",
          "width": 1
         },
         "mode": "lines",
         "showlegend": false,
         "type": "scatter",
         "x": [
          -0.11204088360951148,
          -0.11204088360951148
         ],
         "xaxis": "x2",
         "y": [
          1,
          0.6
         ],
         "yaxis": "y2"
        },
        {
         "hoverinfo": "skip",
         "line": {
          "color": "black",
          "width": 1
         },
         "mode": "lines",
         "showlegend": false,
         "type": "scatter",
         "x": [
          -0.1090830785543877,
          -0.1090830785543877
         ],
         "xaxis": "x2",
         "y": [
          1,
          1.9
         ],
         "yaxis": "y2"
        },
        {
         "hoverinfo": "skip",
         "line": {
          "color": "black",
          "width": 1
         },
         "mode": "lines",
         "showlegend": false,
         "type": "scatter",
         "x": [
          -0.10686192192832127,
          -0.10686192192832127
         ],
         "xaxis": "x2",
         "y": [
          1,
          0.15
         ],
         "yaxis": "y2"
        },
        {
         "hoverinfo": "skip",
         "line": {
          "color": "black",
          "width": 1
         },
         "mode": "lines",
         "showlegend": false,
         "type": "scatter",
         "x": [
          -0.10445549367524215,
          -0.10445549367524215
         ],
         "xaxis": "x2",
         "y": [
          1,
          1.6
         ],
         "yaxis": "y2"
        },
        {
         "hoverinfo": "skip",
         "line": {
          "color": "black",
          "width": 1
         },
         "mode": "lines",
         "showlegend": false,
         "type": "scatter",
         "x": [
          -0.10407141625806654,
          -0.10407141625806654
         ],
         "xaxis": "x2",
         "y": [
          1,
          0.45
         ],
         "yaxis": "y2"
        },
        {
         "hoverinfo": "skip",
         "line": {
          "color": "black",
          "width": 1
         },
         "mode": "lines",
         "showlegend": false,
         "type": "scatter",
         "x": [
          -0.10351886554298848,
          -0.10351886554298848
         ],
         "xaxis": "x2",
         "y": [
          1,
          1.3
         ],
         "yaxis": "y2"
        },
        {
         "hoverinfo": "skip",
         "line": {
          "color": "black",
          "width": 1
         },
         "mode": "lines",
         "showlegend": false,
         "type": "scatter",
         "x": [
          -0.10347950277227312,
          -0.10347950277227312
         ],
         "xaxis": "x2",
         "y": [
          1,
          0.75
         ],
         "yaxis": "y2"
        },
        {
         "hoverinfo": "skip",
         "line": {
          "color": "black",
          "width": 1
         },
         "mode": "lines",
         "showlegend": false,
         "type": "scatter",
         "x": [
          -0.10325882238459301,
          -0.10325882238459301
         ],
         "xaxis": "x2",
         "y": [
          1,
          1.75
         ],
         "yaxis": "y2"
        },
        {
         "hoverinfo": "skip",
         "line": {
          "color": "black",
          "width": 1
         },
         "mode": "lines",
         "showlegend": false,
         "type": "scatter",
         "x": [
          -0.10223566203184531,
          -0.10223566203184531
         ],
         "xaxis": "x2",
         "y": [
          1,
          0.3
         ],
         "yaxis": "y2"
        },
        {
         "hoverinfo": "skip",
         "line": {
          "color": "black",
          "width": 1
         },
         "mode": "lines",
         "showlegend": false,
         "type": "scatter",
         "x": [
          0.11098046796874093,
          0.11098046796874093
         ],
         "xaxis": "x2",
         "y": [
          1,
          1.45
         ],
         "yaxis": "y2"
        },
        {
         "hoverinfo": "skip",
         "line": {
          "color": "black",
          "width": 1
         },
         "mode": "lines",
         "showlegend": false,
         "type": "scatter",
         "x": [
          0.1141137054924517,
          0.1141137054924517
         ],
         "xaxis": "x2",
         "y": [
          1,
          0.6
         ],
         "yaxis": "y2"
        },
        {
         "hoverinfo": "skip",
         "line": {
          "color": "black",
          "width": 1
         },
         "mode": "lines",
         "showlegend": false,
         "type": "scatter",
         "x": [
          0.11839972950151634,
          0.11839972950151634
         ],
         "xaxis": "x2",
         "y": [
          1,
          1.9
         ],
         "yaxis": "y2"
        },
        {
         "hoverinfo": "skip",
         "line": {
          "color": "black",
          "width": 1
         },
         "mode": "lines",
         "showlegend": false,
         "type": "scatter",
         "x": [
          0.12021640528768704,
          0.12021640528768704
         ],
         "xaxis": "x2",
         "y": [
          1,
          0.15
         ],
         "yaxis": "y2"
        },
        {
         "hoverinfo": "skip",
         "line": {
          "color": "black",
          "width": 1
         },
         "mode": "lines",
         "showlegend": false,
         "type": "scatter",
         "x": [
          0.12055054309468634,
          0.12055054309468634
         ],
         "xaxis": "x2",
         "y": [
          1,
          1.6
         ],
         "yaxis": "y2"
        },
        {
         "hoverinfo": "skip",
         "line": {
          "color": "black",
          "width": 1
         },
         "mode": "lines",
         "showlegend": false,
         "type": "scatter",
         "x": [
          0.12712823088991498,
          0.12712823088991498
         ],
         "xaxis": "x2",
         "y": [
          1,
          0.45
         ],
         "yaxis": "y2"
        },
        {
         "hoverinfo": "skip",
         "line": {
          "color": "black",
          "width": 1
         },
         "mode": "lines",
         "showlegend": false,
         "type": "scatter",
         "x": [
          0.12794527404038736,
          0.12794527404038736
         ],
         "xaxis": "x2",
         "y": [
          1,
          1.3
         ],
         "yaxis": "y2"
        },
        {
         "hoverinfo": "skip",
         "line": {
          "color": "black",
          "width": 1
         },
         "mode": "lines",
         "showlegend": false,
         "type": "scatter",
         "x": [
          0.13044365759638676,
          0.13044365759638676
         ],
         "xaxis": "x2",
         "y": [
          1,
          0.75
         ],
         "yaxis": "y2"
        },
        {
         "hoverinfo": "skip",
         "line": {
          "color": "black",
          "width": 1
         },
         "mode": "lines",
         "showlegend": false,
         "type": "scatter",
         "x": [
          0.130472431331564,
          0.130472431331564
         ],
         "xaxis": "x2",
         "y": [
          1,
          1.75
         ],
         "yaxis": "y2"
        },
        {
         "hoverinfo": "skip",
         "line": {
          "color": "black",
          "width": 1
         },
         "mode": "lines",
         "showlegend": false,
         "type": "scatter",
         "x": [
          0.16723352917181566,
          0.16723352917181566
         ],
         "xaxis": "x2",
         "y": [
          1,
          0.3
         ],
         "yaxis": "y2"
        },
        {
         "hoverinfo": "skip",
         "marker": {
          "color": "limegreen"
         },
         "opacity": 0.7,
         "showlegend": false,
         "type": "bar",
         "width": 0.007859986053078116,
         "x": [
          -0.12260345653544001,
          -0.11277847396909235,
          -0.1029534914027447,
          -0.09312850883639706,
          -0.0833035262700494,
          -0.07347854370370176,
          -0.0636535611373541,
          -0.05382857857100645,
          -0.04400359600465881,
          -0.034178613438311155,
          -0.024353630871963503,
          -0.014528648305615857,
          -0.004703665739268212,
          0.005121316827079447,
          0.014946299393427107,
          0.024771281959774752,
          0.0345962645261224,
          0.04442124709247004,
          0.0542462296588177,
          0.06407121222516536,
          0.073896194791513,
          0.08372117735786065,
          0.0935461599242083,
          0.10337114249055594,
          0.1131961250569036,
          0.12302110762325125,
          0.1328460901895989,
          0.14267107275594657,
          0.1524960553222942,
          0.16232103788864183
         ],
         "xaxis": "x2",
         "y": [
          0.04736842105263158,
          0.09473684210526316,
          0.4263157894736842,
          0.37894736842105264,
          0.5210526315789474,
          0.6157894736842106,
          0.5684210526315789,
          0.4263157894736842,
          0.6157894736842106,
          0.47368421052631576,
          0.5210526315789474,
          0.5210526315789474,
          0.18947368421052632,
          0.9,
          0.6631578947368421,
          0.47368421052631576,
          0.47368421052631576,
          0.5684210526315789,
          0.7105263157894737,
          0.14210526315789473,
          0.37894736842105264,
          0.4263157894736842,
          0.37894736842105264,
          0.23684210526315788,
          0.18947368421052632,
          0.18947368421052632,
          0.14210526315789473,
          0,
          0,
          0.04736842105263158
         ],
         "yaxis": "y2"
        }
       ],
       "layout": {
        "annotations": [
         {
          "font": {
           "size": 16
          },
          "showarrow": false,
          "text": "PC1 Cosine Similarity",
          "x": 0.5,
          "xanchor": "center",
          "xref": "paper",
          "y": 1,
          "yanchor": "bottom",
          "yref": "paper"
         },
         {
          "font": {
           "size": 16
          },
          "showarrow": false,
          "text": "PC1 Normalized Projection",
          "x": 0.5,
          "xanchor": "center",
          "xref": "paper",
          "y": 0.45,
          "yanchor": "bottom",
          "yref": "paper"
         },
         {
          "bgcolor": "rgba(255, 255, 255, 0.9)",
          "bordercolor": "black",
          "borderwidth": 1,
          "font": {
           "color": "black",
           "size": 10
          },
          "showarrow": false,
          "text": "Mercurial",
          "x": -0.8536056739677016,
          "xref": "x",
          "y": 1.45,
          "yref": "y"
         },
         {
          "bgcolor": "rgba(255, 255, 255, 0.9)",
          "bordercolor": "black",
          "borderwidth": 1,
          "font": {
           "color": "black",
           "size": 10
          },
          "showarrow": false,
          "text": "Visceral",
          "x": -0.7909510138464241,
          "xref": "x",
          "y": 0.6,
          "yref": "y"
         },
         {
          "bgcolor": "rgba(255, 255, 255, 0.9)",
          "bordercolor": "black",
          "borderwidth": 1,
          "font": {
           "color": "black",
           "size": 10
          },
          "showarrow": false,
          "text": "Petty",
          "x": -0.7679446283990387,
          "xref": "x",
          "y": 1.9,
          "yref": "y"
         },
         {
          "bgcolor": "rgba(255, 255, 255, 0.9)",
          "bordercolor": "black",
          "borderwidth": 1,
          "font": {
           "color": "black",
           "size": 10
          },
          "showarrow": false,
          "text": "Flippant",
          "x": -0.7632785112237565,
          "xref": "x",
          "y": 0.15,
          "yref": "y"
         },
         {
          "bgcolor": "rgba(255, 255, 255, 0.9)",
          "bordercolor": "black",
          "borderwidth": 1,
          "font": {
           "color": "black",
           "size": 10
          },
          "showarrow": false,
          "text": "Temperamental",
          "x": -0.7589045166738289,
          "xref": "x",
          "y": 1.6,
          "yref": "y"
         },
         {
          "bgcolor": "rgba(255, 255, 255, 0.9)",
          "bordercolor": "black",
          "borderwidth": 1,
          "font": {
           "color": "black",
           "size": 10
          },
          "showarrow": false,
          "text": "Disorganized",
          "x": -0.7409934591558914,
          "xref": "x",
          "y": 0.45,
          "yref": "y"
         },
         {
          "bgcolor": "rgba(255, 255, 255, 0.9)",
          "bordercolor": "black",
          "borderwidth": 1,
          "font": {
           "color": "black",
           "size": 10
          },
          "showarrow": false,
          "text": "Edgy",
          "x": -0.7370524840095128,
          "xref": "x",
          "y": 1.3,
          "yref": "y"
         },
         {
          "bgcolor": "rgba(255, 255, 255, 0.9)",
          "bordercolor": "black",
          "borderwidth": 1,
          "font": {
           "color": "black",
           "size": 10
          },
          "showarrow": false,
          "text": "Evil",
          "x": -0.7358925883303975,
          "xref": "x",
          "y": 0.75,
          "yref": "y"
         },
         {
          "bgcolor": "rgba(255, 255, 255, 0.9)",
          "bordercolor": "black",
          "borderwidth": 1,
          "font": {
           "color": "black",
           "size": 10
          },
          "showarrow": false,
          "text": "Manic",
          "x": -0.7117215484538534,
          "xref": "x",
          "y": 1.75,
          "yref": "y"
         },
         {
          "bgcolor": "rgba(255, 255, 255, 0.9)",
          "bordercolor": "black",
          "borderwidth": 1,
          "font": {
           "color": "black",
           "size": 10
          },
          "showarrow": false,
          "text": "Judgmental",
          "x": -0.7025014548106963,
          "xref": "x",
          "y": 0.3,
          "yref": "y"
         },
         {
          "bgcolor": "rgba(255, 255, 255, 0.9)",
          "bordercolor": "black",
          "borderwidth": 1,
          "font": {
           "color": "black",
           "size": 10
          },
          "showarrow": false,
          "text": "Analytical",
          "x": 0.7603274006986442,
          "xref": "x",
          "y": 1.45,
          "yref": "y"
         },
         {
          "bgcolor": "rgba(255, 255, 255, 0.9)",
          "bordercolor": "black",
          "borderwidth": 1,
          "font": {
           "color": "black",
           "size": 10
          },
          "showarrow": false,
          "text": "Agreeable",
          "x": 0.7610755852522897,
          "xref": "x",
          "y": 0.6,
          "yref": "y"
         },
         {
          "bgcolor": "rgba(255, 255, 255, 0.9)",
          "bordercolor": "black",
          "borderwidth": 1,
          "font": {
           "color": "black",
           "size": 10
          },
          "showarrow": false,
          "text": "Resilient",
          "x": 0.770512503323007,
          "xref": "x",
          "y": 1.9,
          "yref": "y"
         },
         {
          "bgcolor": "rgba(255, 255, 255, 0.9)",
          "bordercolor": "black",
          "borderwidth": 1,
          "font": {
           "color": "black",
           "size": 10
          },
          "showarrow": false,
          "text": "Meticulous",
          "x": 0.7848313361857512,
          "xref": "x",
          "y": 0.15,
          "yref": "y"
         },
         {
          "bgcolor": "rgba(255, 255, 255, 0.9)",
          "bordercolor": "black",
          "borderwidth": 1,
          "font": {
           "color": "black",
           "size": 10
          },
          "showarrow": false,
          "text": "Methodical",
          "x": 0.8002018699292776,
          "xref": "x",
          "y": 1.6,
          "yref": "y"
         },
         {
          "bgcolor": "rgba(255, 255, 255, 0.9)",
          "bordercolor": "black",
          "borderwidth": 1,
          "font": {
           "color": "black",
           "size": 10
          },
          "showarrow": false,
          "text": "Calm",
          "x": 0.8012988017504353,
          "xref": "x",
          "y": 0.45,
          "yref": "y"
         },
         {
          "bgcolor": "rgba(255, 255, 255, 0.9)",
          "bordercolor": "black",
          "borderwidth": 1,
          "font": {
           "color": "black",
           "size": 10
          },
          "showarrow": false,
          "text": "Conciliatory",
          "x": 0.810114772923709,
          "xref": "x",
          "y": 1.3,
          "yref": "y"
         },
         {
          "bgcolor": "rgba(255, 255, 255, 0.9)",
          "bordercolor": "black",
          "borderwidth": 1,
          "font": {
           "color": "black",
           "size": 10
          },
          "showarrow": false,
          "text": "Moderate",
          "x": 0.8232308269970638,
          "xref": "x",
          "y": 0.75,
          "yref": "y"
         },
         {
          "bgcolor": "rgba(255, 255, 255, 0.9)",
          "bordercolor": "black",
          "borderwidth": 1,
          "font": {
           "color": "black",
           "size": 10
          },
          "showarrow": false,
          "text": "Diplomatic",
          "x": 0.8637531169492374,
          "xref": "x",
          "y": 1.75,
          "yref": "y"
         },
         {
          "bgcolor": "rgba(255, 255, 255, 0.9)",
          "bordercolor": "black",
          "borderwidth": 1,
          "font": {
           "color": "black",
           "size": 10
          },
          "showarrow": false,
          "text": "Conscientious",
          "x": 0.8666037635815139,
          "xref": "x",
          "y": 0.3,
          "yref": "y"
         },
         {
          "bgcolor": "rgba(255, 255, 255, 0.9)",
          "bordercolor": "red",
          "borderwidth": 1,
          "font": {
           "color": "red",
           "size": 14
          },
          "showarrow": false,
          "text": "Assistant",
          "x": 0.4573539283804934,
          "xref": "x",
          "y": 2,
          "yref": "y"
         },
         {
          "bgcolor": "rgba(255, 255, 255, 0.9)",
          "bordercolor": "black",
          "borderwidth": 1,
          "font": {
           "color": "black",
           "size": 10
          },
          "showarrow": false,
          "text": "Flippant",
          "x": -0.12751594781861383,
          "xref": "x2",
          "y": 1.45,
          "yref": "y2"
         },
         {
          "bgcolor": "rgba(255, 255, 255, 0.9)",
          "bordercolor": "black",
          "borderwidth": 1,
          "font": {
           "color": "black",
           "size": 10
          },
          "showarrow": false,
          "text": "Impatient",
          "x": -0.11204088360951148,
          "xref": "x2",
          "y": 0.6,
          "yref": "y2"
         },
         {
          "bgcolor": "rgba(255, 255, 255, 0.9)",
          "bordercolor": "black",
          "borderwidth": 1,
          "font": {
           "color": "black",
           "size": 10
          },
          "showarrow": false,
          "text": "Disorganized",
          "x": -0.1090830785543877,
          "xref": "x2",
          "y": 1.9,
          "yref": "y2"
         },
         {
          "bgcolor": "rgba(255, 255, 255, 0.9)",
          "bordercolor": "black",
          "borderwidth": 1,
          "font": {
           "color": "black",
           "size": 10
          },
          "showarrow": false,
          "text": "Temperamental",
          "x": -0.10686192192832127,
          "xref": "x2",
          "y": 0.15,
          "yref": "y2"
         },
         {
          "bgcolor": "rgba(255, 255, 255, 0.9)",
          "bordercolor": "black",
          "borderwidth": 1,
          "font": {
           "color": "black",
           "size": 10
          },
          "showarrow": false,
          "text": "Goofy",
          "x": -0.10445549367524215,
          "xref": "x2",
          "y": 1.6,
          "yref": "y2"
         },
         {
          "bgcolor": "rgba(255, 255, 255, 0.9)",
          "bordercolor": "black",
          "borderwidth": 1,
          "font": {
           "color": "black",
           "size": 10
          },
          "showarrow": false,
          "text": "Manic",
          "x": -0.10407141625806654,
          "xref": "x2",
          "y": 0.45,
          "yref": "y2"
         },
         {
          "bgcolor": "rgba(255, 255, 255, 0.9)",
          "bordercolor": "black",
          "borderwidth": 1,
          "font": {
           "color": "black",
           "size": 10
          },
          "showarrow": false,
          "text": "Mercurial",
          "x": -0.10351886554298848,
          "xref": "x2",
          "y": 1.3,
          "yref": "y2"
         },
         {
          "bgcolor": "rgba(255, 255, 255, 0.9)",
          "bordercolor": "black",
          "borderwidth": 1,
          "font": {
           "color": "black",
           "size": 10
          },
          "showarrow": false,
          "text": "Neurotic",
          "x": -0.10347950277227312,
          "xref": "x2",
          "y": 0.75,
          "yref": "y2"
         },
         {
          "bgcolor": "rgba(255, 255, 255, 0.9)",
          "bordercolor": "black",
          "borderwidth": 1,
          "font": {
           "color": "black",
           "size": 10
          },
          "showarrow": false,
          "text": "Impulsive",
          "x": -0.10325882238459301,
          "xref": "x2",
          "y": 1.75,
          "yref": "y2"
         },
         {
          "bgcolor": "rgba(255, 255, 255, 0.9)",
          "bordercolor": "black",
          "borderwidth": 1,
          "font": {
           "color": "black",
           "size": 10
          },
          "showarrow": false,
          "text": "Evil",
          "x": -0.10223566203184531,
          "xref": "x2",
          "y": 0.3,
          "yref": "y2"
         },
         {
          "bgcolor": "rgba(255, 255, 255, 0.9)",
          "bordercolor": "black",
          "borderwidth": 1,
          "font": {
           "color": "black",
           "size": 10
          },
          "showarrow": false,
          "text": "Meticulous",
          "x": 0.11098046796874093,
          "xref": "x2",
          "y": 1.45,
          "yref": "y2"
         },
         {
          "bgcolor": "rgba(255, 255, 255, 0.9)",
          "bordercolor": "black",
          "borderwidth": 1,
          "font": {
           "color": "black",
           "size": 10
          },
          "showarrow": false,
          "text": "Earnest",
          "x": 0.1141137054924517,
          "xref": "x2",
          "y": 0.6,
          "yref": "y2"
         },
         {
          "bgcolor": "rgba(255, 255, 255, 0.9)",
          "bordercolor": "black",
          "borderwidth": 1,
          "font": {
           "color": "black",
           "size": 10
          },
          "showarrow": false,
          "text": "Conciliatory",
          "x": 0.11839972950151634,
          "xref": "x2",
          "y": 1.9,
          "yref": "y2"
         },
         {
          "bgcolor": "rgba(255, 255, 255, 0.9)",
          "bordercolor": "black",
          "borderwidth": 1,
          "font": {
           "color": "black",
           "size": 10
          },
          "showarrow": false,
          "text": "Methodical",
          "x": 0.12021640528768704,
          "xref": "x2",
          "y": 0.15,
          "yref": "y2"
         },
         {
          "bgcolor": "rgba(255, 255, 255, 0.9)",
          "bordercolor": "black",
          "borderwidth": 1,
          "font": {
           "color": "black",
           "size": 10
          },
          "showarrow": false,
          "text": "Moderate",
          "x": 0.12055054309468634,
          "xref": "x2",
          "y": 1.6,
          "yref": "y2"
         },
         {
          "bgcolor": "rgba(255, 255, 255, 0.9)",
          "bordercolor": "black",
          "borderwidth": 1,
          "font": {
           "color": "black",
           "size": 10
          },
          "showarrow": false,
          "text": "Patient",
          "x": 0.12712823088991498,
          "xref": "x2",
          "y": 0.45,
          "yref": "y2"
         },
         {
          "bgcolor": "rgba(255, 255, 255, 0.9)",
          "bordercolor": "black",
          "borderwidth": 1,
          "font": {
           "color": "black",
           "size": 10
          },
          "showarrow": false,
          "text": "Resilient",
          "x": 0.12794527404038736,
          "xref": "x2",
          "y": 1.3,
          "yref": "y2"
         },
         {
          "bgcolor": "rgba(255, 255, 255, 0.9)",
          "bordercolor": "black",
          "borderwidth": 1,
          "font": {
           "color": "black",
           "size": 10
          },
          "showarrow": false,
          "text": "Strategic",
          "x": 0.13044365759638676,
          "xref": "x2",
          "y": 0.75,
          "yref": "y2"
         },
         {
          "bgcolor": "rgba(255, 255, 255, 0.9)",
          "bordercolor": "black",
          "borderwidth": 1,
          "font": {
           "color": "black",
           "size": 10
          },
          "showarrow": false,
          "text": "Calm",
          "x": 0.130472431331564,
          "xref": "x2",
          "y": 1.75,
          "yref": "y2"
         },
         {
          "bgcolor": "rgba(255, 255, 255, 0.9)",
          "bordercolor": "black",
          "borderwidth": 1,
          "font": {
           "color": "black",
           "size": 10
          },
          "showarrow": false,
          "text": "Conscientious",
          "x": 0.16723352917181566,
          "xref": "x2",
          "y": 0.3,
          "yref": "y2"
         },
         {
          "bgcolor": "rgba(255, 255, 255, 0.9)",
          "bordercolor": "red",
          "borderwidth": 1,
          "font": {
           "color": "red",
           "size": 14
          },
          "showarrow": false,
          "text": "Assistant",
          "x": 0.09020264714041829,
          "xref": "x2",
          "y": 2,
          "yref": "y2"
         }
        ],
        "height": 800,
        "shapes": [
         {
          "line": {
           "color": "gray",
           "dash": "solid",
           "width": 1
          },
          "opacity": 0.7,
          "type": "line",
          "x0": 0,
          "x1": 0,
          "xref": "x",
          "y0": 0,
          "y1": 1,
          "yref": "y domain"
         },
         {
          "line": {
           "color": "red",
           "dash": "dash",
           "width": 1
          },
          "opacity": 1,
          "type": "line",
          "x0": 0.4573539283804934,
          "x1": 0.4573539283804934,
          "xref": "x",
          "y0": 0,
          "y1": 1,
          "yref": "y domain"
         },
         {
          "line": {
           "color": "gray",
           "dash": "solid",
           "width": 1
          },
          "opacity": 0.7,
          "type": "line",
          "x0": 0,
          "x1": 0,
          "xref": "x2",
          "y0": 0,
          "y1": 1,
          "yref": "y2 domain"
         },
         {
          "line": {
           "color": "red",
           "dash": "dash",
           "width": 1
          },
          "opacity": 1,
          "type": "line",
          "x0": 0.09020264714041829,
          "x1": 0.09020264714041829,
          "xref": "x2",
          "y0": 0,
          "y1": 1,
          "yref": "y2 domain"
         }
        ],
        "showlegend": false,
        "template": {
         "data": {
          "bar": [
           {
            "error_x": {
             "color": "#2a3f5f"
            },
            "error_y": {
             "color": "#2a3f5f"
            },
            "marker": {
             "line": {
              "color": "#E5ECF6",
              "width": 0.5
             },
             "pattern": {
              "fillmode": "overlay",
              "size": 10,
              "solidity": 0.2
             }
            },
            "type": "bar"
           }
          ],
          "barpolar": [
           {
            "marker": {
             "line": {
              "color": "#E5ECF6",
              "width": 0.5
             },
             "pattern": {
              "fillmode": "overlay",
              "size": 10,
              "solidity": 0.2
             }
            },
            "type": "barpolar"
           }
          ],
          "carpet": [
           {
            "aaxis": {
             "endlinecolor": "#2a3f5f",
             "gridcolor": "white",
             "linecolor": "white",
             "minorgridcolor": "white",
             "startlinecolor": "#2a3f5f"
            },
            "baxis": {
             "endlinecolor": "#2a3f5f",
             "gridcolor": "white",
             "linecolor": "white",
             "minorgridcolor": "white",
             "startlinecolor": "#2a3f5f"
            },
            "type": "carpet"
           }
          ],
          "choropleth": [
           {
            "colorbar": {
             "outlinewidth": 0,
             "ticks": ""
            },
            "type": "choropleth"
           }
          ],
          "contour": [
           {
            "colorbar": {
             "outlinewidth": 0,
             "ticks": ""
            },
            "colorscale": [
             [
              0,
              "#0d0887"
             ],
             [
              0.1111111111111111,
              "#46039f"
             ],
             [
              0.2222222222222222,
              "#7201a8"
             ],
             [
              0.3333333333333333,
              "#9c179e"
             ],
             [
              0.4444444444444444,
              "#bd3786"
             ],
             [
              0.5555555555555556,
              "#d8576b"
             ],
             [
              0.6666666666666666,
              "#ed7953"
             ],
             [
              0.7777777777777778,
              "#fb9f3a"
             ],
             [
              0.8888888888888888,
              "#fdca26"
             ],
             [
              1,
              "#f0f921"
             ]
            ],
            "type": "contour"
           }
          ],
          "contourcarpet": [
           {
            "colorbar": {
             "outlinewidth": 0,
             "ticks": ""
            },
            "type": "contourcarpet"
           }
          ],
          "heatmap": [
           {
            "colorbar": {
             "outlinewidth": 0,
             "ticks": ""
            },
            "colorscale": [
             [
              0,
              "#0d0887"
             ],
             [
              0.1111111111111111,
              "#46039f"
             ],
             [
              0.2222222222222222,
              "#7201a8"
             ],
             [
              0.3333333333333333,
              "#9c179e"
             ],
             [
              0.4444444444444444,
              "#bd3786"
             ],
             [
              0.5555555555555556,
              "#d8576b"
             ],
             [
              0.6666666666666666,
              "#ed7953"
             ],
             [
              0.7777777777777778,
              "#fb9f3a"
             ],
             [
              0.8888888888888888,
              "#fdca26"
             ],
             [
              1,
              "#f0f921"
             ]
            ],
            "type": "heatmap"
           }
          ],
          "heatmapgl": [
           {
            "colorbar": {
             "outlinewidth": 0,
             "ticks": ""
            },
            "colorscale": [
             [
              0,
              "#0d0887"
             ],
             [
              0.1111111111111111,
              "#46039f"
             ],
             [
              0.2222222222222222,
              "#7201a8"
             ],
             [
              0.3333333333333333,
              "#9c179e"
             ],
             [
              0.4444444444444444,
              "#bd3786"
             ],
             [
              0.5555555555555556,
              "#d8576b"
             ],
             [
              0.6666666666666666,
              "#ed7953"
             ],
             [
              0.7777777777777778,
              "#fb9f3a"
             ],
             [
              0.8888888888888888,
              "#fdca26"
             ],
             [
              1,
              "#f0f921"
             ]
            ],
            "type": "heatmapgl"
           }
          ],
          "histogram": [
           {
            "marker": {
             "pattern": {
              "fillmode": "overlay",
              "size": 10,
              "solidity": 0.2
             }
            },
            "type": "histogram"
           }
          ],
          "histogram2d": [
           {
            "colorbar": {
             "outlinewidth": 0,
             "ticks": ""
            },
            "colorscale": [
             [
              0,
              "#0d0887"
             ],
             [
              0.1111111111111111,
              "#46039f"
             ],
             [
              0.2222222222222222,
              "#7201a8"
             ],
             [
              0.3333333333333333,
              "#9c179e"
             ],
             [
              0.4444444444444444,
              "#bd3786"
             ],
             [
              0.5555555555555556,
              "#d8576b"
             ],
             [
              0.6666666666666666,
              "#ed7953"
             ],
             [
              0.7777777777777778,
              "#fb9f3a"
             ],
             [
              0.8888888888888888,
              "#fdca26"
             ],
             [
              1,
              "#f0f921"
             ]
            ],
            "type": "histogram2d"
           }
          ],
          "histogram2dcontour": [
           {
            "colorbar": {
             "outlinewidth": 0,
             "ticks": ""
            },
            "colorscale": [
             [
              0,
              "#0d0887"
             ],
             [
              0.1111111111111111,
              "#46039f"
             ],
             [
              0.2222222222222222,
              "#7201a8"
             ],
             [
              0.3333333333333333,
              "#9c179e"
             ],
             [
              0.4444444444444444,
              "#bd3786"
             ],
             [
              0.5555555555555556,
              "#d8576b"
             ],
             [
              0.6666666666666666,
              "#ed7953"
             ],
             [
              0.7777777777777778,
              "#fb9f3a"
             ],
             [
              0.8888888888888888,
              "#fdca26"
             ],
             [
              1,
              "#f0f921"
             ]
            ],
            "type": "histogram2dcontour"
           }
          ],
          "mesh3d": [
           {
            "colorbar": {
             "outlinewidth": 0,
             "ticks": ""
            },
            "type": "mesh3d"
           }
          ],
          "parcoords": [
           {
            "line": {
             "colorbar": {
              "outlinewidth": 0,
              "ticks": ""
             }
            },
            "type": "parcoords"
           }
          ],
          "pie": [
           {
            "automargin": true,
            "type": "pie"
           }
          ],
          "scatter": [
           {
            "fillpattern": {
             "fillmode": "overlay",
             "size": 10,
             "solidity": 0.2
            },
            "type": "scatter"
           }
          ],
          "scatter3d": [
           {
            "line": {
             "colorbar": {
              "outlinewidth": 0,
              "ticks": ""
             }
            },
            "marker": {
             "colorbar": {
              "outlinewidth": 0,
              "ticks": ""
             }
            },
            "type": "scatter3d"
           }
          ],
          "scattercarpet": [
           {
            "marker": {
             "colorbar": {
              "outlinewidth": 0,
              "ticks": ""
             }
            },
            "type": "scattercarpet"
           }
          ],
          "scattergeo": [
           {
            "marker": {
             "colorbar": {
              "outlinewidth": 0,
              "ticks": ""
             }
            },
            "type": "scattergeo"
           }
          ],
          "scattergl": [
           {
            "marker": {
             "colorbar": {
              "outlinewidth": 0,
              "ticks": ""
             }
            },
            "type": "scattergl"
           }
          ],
          "scattermapbox": [
           {
            "marker": {
             "colorbar": {
              "outlinewidth": 0,
              "ticks": ""
             }
            },
            "type": "scattermapbox"
           }
          ],
          "scatterpolar": [
           {
            "marker": {
             "colorbar": {
              "outlinewidth": 0,
              "ticks": ""
             }
            },
            "type": "scatterpolar"
           }
          ],
          "scatterpolargl": [
           {
            "marker": {
             "colorbar": {
              "outlinewidth": 0,
              "ticks": ""
             }
            },
            "type": "scatterpolargl"
           }
          ],
          "scatterternary": [
           {
            "marker": {
             "colorbar": {
              "outlinewidth": 0,
              "ticks": ""
             }
            },
            "type": "scatterternary"
           }
          ],
          "surface": [
           {
            "colorbar": {
             "outlinewidth": 0,
             "ticks": ""
            },
            "colorscale": [
             [
              0,
              "#0d0887"
             ],
             [
              0.1111111111111111,
              "#46039f"
             ],
             [
              0.2222222222222222,
              "#7201a8"
             ],
             [
              0.3333333333333333,
              "#9c179e"
             ],
             [
              0.4444444444444444,
              "#bd3786"
             ],
             [
              0.5555555555555556,
              "#d8576b"
             ],
             [
              0.6666666666666666,
              "#ed7953"
             ],
             [
              0.7777777777777778,
              "#fb9f3a"
             ],
             [
              0.8888888888888888,
              "#fdca26"
             ],
             [
              1,
              "#f0f921"
             ]
            ],
            "type": "surface"
           }
          ],
          "table": [
           {
            "cells": {
             "fill": {
              "color": "#EBF0F8"
             },
             "line": {
              "color": "white"
             }
            },
            "header": {
             "fill": {
              "color": "#C8D4E3"
             },
             "line": {
              "color": "white"
             }
            },
            "type": "table"
           }
          ]
         },
         "layout": {
          "annotationdefaults": {
           "arrowcolor": "#2a3f5f",
           "arrowhead": 0,
           "arrowwidth": 1
          },
          "autotypenumbers": "strict",
          "coloraxis": {
           "colorbar": {
            "outlinewidth": 0,
            "ticks": ""
           }
          },
          "colorscale": {
           "diverging": [
            [
             0,
             "#8e0152"
            ],
            [
             0.1,
             "#c51b7d"
            ],
            [
             0.2,
             "#de77ae"
            ],
            [
             0.3,
             "#f1b6da"
            ],
            [
             0.4,
             "#fde0ef"
            ],
            [
             0.5,
             "#f7f7f7"
            ],
            [
             0.6,
             "#e6f5d0"
            ],
            [
             0.7,
             "#b8e186"
            ],
            [
             0.8,
             "#7fbc41"
            ],
            [
             0.9,
             "#4d9221"
            ],
            [
             1,
             "#276419"
            ]
           ],
           "sequential": [
            [
             0,
             "#0d0887"
            ],
            [
             0.1111111111111111,
             "#46039f"
            ],
            [
             0.2222222222222222,
             "#7201a8"
            ],
            [
             0.3333333333333333,
             "#9c179e"
            ],
            [
             0.4444444444444444,
             "#bd3786"
            ],
            [
             0.5555555555555556,
             "#d8576b"
            ],
            [
             0.6666666666666666,
             "#ed7953"
            ],
            [
             0.7777777777777778,
             "#fb9f3a"
            ],
            [
             0.8888888888888888,
             "#fdca26"
            ],
            [
             1,
             "#f0f921"
            ]
           ],
           "sequentialminus": [
            [
             0,
             "#0d0887"
            ],
            [
             0.1111111111111111,
             "#46039f"
            ],
            [
             0.2222222222222222,
             "#7201a8"
            ],
            [
             0.3333333333333333,
             "#9c179e"
            ],
            [
             0.4444444444444444,
             "#bd3786"
            ],
            [
             0.5555555555555556,
             "#d8576b"
            ],
            [
             0.6666666666666666,
             "#ed7953"
            ],
            [
             0.7777777777777778,
             "#fb9f3a"
            ],
            [
             0.8888888888888888,
             "#fdca26"
            ],
            [
             1,
             "#f0f921"
            ]
           ]
          },
          "colorway": [
           "#636efa",
           "#EF553B",
           "#00cc96",
           "#ab63fa",
           "#FFA15A",
           "#19d3f3",
           "#FF6692",
           "#B6E880",
           "#FF97FF",
           "#FECB52"
          ],
          "font": {
           "color": "#2a3f5f"
          },
          "geo": {
           "bgcolor": "white",
           "lakecolor": "white",
           "landcolor": "#E5ECF6",
           "showlakes": true,
           "showland": true,
           "subunitcolor": "white"
          },
          "hoverlabel": {
           "align": "left"
          },
          "hovermode": "closest",
          "mapbox": {
           "style": "light"
          },
          "paper_bgcolor": "white",
          "plot_bgcolor": "#E5ECF6",
          "polar": {
           "angularaxis": {
            "gridcolor": "white",
            "linecolor": "white",
            "ticks": ""
           },
           "bgcolor": "#E5ECF6",
           "radialaxis": {
            "gridcolor": "white",
            "linecolor": "white",
            "ticks": ""
           }
          },
          "scene": {
           "xaxis": {
            "backgroundcolor": "#E5ECF6",
            "gridcolor": "white",
            "gridwidth": 2,
            "linecolor": "white",
            "showbackground": true,
            "ticks": "",
            "zerolinecolor": "white"
           },
           "yaxis": {
            "backgroundcolor": "#E5ECF6",
            "gridcolor": "white",
            "gridwidth": 2,
            "linecolor": "white",
            "showbackground": true,
            "ticks": "",
            "zerolinecolor": "white"
           },
           "zaxis": {
            "backgroundcolor": "#E5ECF6",
            "gridcolor": "white",
            "gridwidth": 2,
            "linecolor": "white",
            "showbackground": true,
            "ticks": "",
            "zerolinecolor": "white"
           }
          },
          "shapedefaults": {
           "line": {
            "color": "#2a3f5f"
           }
          },
          "ternary": {
           "aaxis": {
            "gridcolor": "white",
            "linecolor": "white",
            "ticks": ""
           },
           "baxis": {
            "gridcolor": "white",
            "linecolor": "white",
            "ticks": ""
           },
           "bgcolor": "#E5ECF6",
           "caxis": {
            "gridcolor": "white",
            "linecolor": "white",
            "ticks": ""
           }
          },
          "title": {
           "x": 0.05
          },
          "xaxis": {
           "automargin": true,
           "gridcolor": "white",
           "linecolor": "white",
           "ticks": "",
           "title": {
            "standoff": 15
           },
           "zerolinecolor": "white",
           "zerolinewidth": 2
          },
          "yaxis": {
           "automargin": true,
           "gridcolor": "white",
           "linecolor": "white",
           "ticks": "",
           "title": {
            "standoff": 15
           },
           "zerolinecolor": "white",
           "zerolinewidth": 2
          }
         }
        },
        "title": {
         "font": {
          "size": 16
         },
         "subtitle": {
          "text": "Gemma 2 27B Base, Layer 22 - Shared Question Set, Mean-Centered and Scaled Vectors"
         },
         "text": "PCA on Trait Vectors",
         "x": 0.5
        },
        "width": 1200,
        "xaxis": {
         "anchor": "y",
         "domain": [
          0,
          1
         ],
         "range": [
          -0.9532641399396654,
          0.9532641399396654
         ]
        },
        "xaxis2": {
         "anchor": "y2",
         "domain": [
          0,
          1
         ],
         "range": [
          -0.18395688208899724,
          0.18395688208899724
         ]
        },
        "yaxis": {
         "anchor": "x",
         "domain": [
          0.55,
          1
         ],
         "range": [
          0,
          2.5
         ],
         "showticklabels": false
        },
        "yaxis2": {
         "anchor": "x2",
         "domain": [
          0,
          0.45
         ],
         "range": [
          0,
          2.5
         ],
         "showticklabels": false
        }
       }
      },
      "text/html": [
       "<div>                            <div id=\"f4a29602-eff6-4f4d-879c-8d45ec3f783d\" class=\"plotly-graph-div\" style=\"height:800px; width:1200px;\"></div>            <script type=\"text/javascript\">                require([\"plotly\"], function(Plotly) {                    window.PLOTLYENV=window.PLOTLYENV || {};                                    if (document.getElementById(\"f4a29602-eff6-4f4d-879c-8d45ec3f783d\")) {                    Plotly.newPlot(                        \"f4a29602-eff6-4f4d-879c-8d45ec3f783d\",                        [{\"hovertemplate\":\"\\u003cb\\u003e%{text}\\u003c\\u002fb\\u003e\\u003cbr\\u003eCosine Similarity: %{x:.3f}\\u003cextra\\u003e\\u003c\\u002fextra\\u003e\",\"marker\":{\"color\":\"limegreen\",\"line\":{\"color\":\"black\",\"width\":1},\"opacity\":1.0,\"size\":8,\"symbol\":\"diamond\"},\"mode\":\"markers\",\"showlegend\":false,\"text\":[\"Zealous\",\"Wry\",\"Witty\",\"Whimsical\",\"Verbose\",\"Utilitarian\",\"Urgent\",\"Universalist\",\"Understated\",\"Transparent\",\"Traditional\",\"Theoretical\",\"Theatrical\",\"Technical\",\"Tactful\",\"Systems thinker\",\"Sycophantic\",\"Supportive\",\"Subversive\",\"Submissive\",\"Structuralist\",\"Stream of consciousness\",\"Strategic\",\"Stoic\",\"Spontaneous\",\"Spiritual\",\"Speculative\",\"Specialized\",\"Solemn\",\"Socratic\",\"Skeptical\",\"Serious\",\"Serene\",\"Secular\",\"Savage\",\"Sassy\",\"Sardonic\",\"Sarcastic\",\"Romantic\",\"Ritualistic\",\"Risk taking\",\"Rhetorical\",\"Reverent\",\"Reserved\",\"Relativist\",\"Regulatory\",\"Reductionist\",\"Rebellious\",\"Reactive\",\"Rationalist\",\"Radical\",\"Quantitative\",\"Qualitative\",\"Provocative\",\"Progressive\",\"Problem solving\",\"Proactive\",\"Principled\",\"Prescriptive\",\"Practical\",\"Poetic\",\"Pluralist\",\"Playful\",\"Philosophical\",\"Pessimistic\",\"Perfectionist\",\"Pensive\",\"Pedantic\",\"Patient\",\"Passive aggressive\",\"Passionate\",\"Paranoid\",\"Paradoxical\",\"Pacifist\",\"Optimistic\",\"Open ended\",\"Obsessive\",\"Nurturing\",\"Nostalgic\",\"Nonchalant\",\"Nihilistic\",\"Neurotic\",\"Narrative\",\"Naive\",\"Mystical\",\"Mischievous\",\"Misanthropic\",\"Militant\",\"Metaphorical\",\"Melodramatic\",\"Melancholic\",\"Meditative\",\"Materialist\",\"Manipulative\",\"Literal\",\"Libertarian\",\"Irreverent\",\"Ironic\",\"Intuitive\",\"Introverted\",\"Introspective\",\"Interdisciplinary\",\"Inspirational\",\"Inquisitive\",\"Innovative\",\"Individualistic\",\"Independent\",\"Inclusive\",\"Impulsive\",\"Improvisational\",\"Impatient\",\"Idealistic\",\"Iconoclastic\",\"Humble\",\"Humanistic\",\"Hostile\",\"Holistic\",\"Historical\",\"Hedonistic\",\"Grounded\",\"Gregarious\",\"Grandiose\",\"Goofy\",\"Generous\",\"Generalist\",\"Futuristic\",\"Fundamentalist\",\"Formalist\",\"Formal\",\"Forgiving\",\"Flirty\",\"Flexible\",\"Fatalistic\",\"Factual\",\"Extroverted\",\"Exploratory\",\"Experiential\",\"Existentialist\",\"Ethereal\",\"Essentialist\",\"Esoteric\",\"Erudite\",\"Epicurean\",\"Environmental\",\"Entertaining\",\"Enigmatic\",\"Empathetic\",\"Emotional\",\"Eloquent\",\"Elitist\",\"Egalitarian\",\"Effusive\",\"Efficient\",\"Educational\",\"Eclectic\",\"Earnest\",\"Dramatic\",\"Dominant\",\"Dogmatic\",\"Divergent\",\"Dispassionate\",\"Deterministic\",\"Detached\",\"Descriptive\",\"Deontological\",\"Deferential\",\"Deconstructionist\",\"Decisive\",\"Data driven\",\"Cynical\",\"Curious\",\"Cryptic\",\"Cruel\",\"Critical\",\"Creative\",\"Cosmopolitan\",\"Convergent\",\"Contrarian\",\"Contemporary\",\"Constructivist\",\"Confrontational\",\"Confident\",\"Condescending\",\"Concise\",\"Conceptual\",\"Competitive\",\"Collectivistic\",\"Collaborative\",\"Closure seeking\",\"Circumspect\",\"Chill\",\"Charismatic\",\"Chaotic\",\"Challenging\",\"Cautious\",\"Casual\",\"Callous\",\"Calculating\",\"Bombastic\",\"Blunt\",\"Bitter\",\"Big picture\",\"Benevolent\",\"Avoidant\",\"Assertive\",\"Ascetic\",\"Artistic\",\"Arrogant\",\"Anxious\",\"Anthropocentric\",\"Animated\",\"Altruistic\",\"Adventurous\",\"Adaptable\",\"Acerbic\",\"Accommodating\",\"Accessible\",\"Abstract\",\"Absolutist\"],\"x\":[-0.6063231937474445,-0.46221867890402485,-0.3140918210036883,-0.6192533538481064,0.4418485065050174,0.38618058423741963,-0.19702710054868242,0.2408681874999329,0.016924057454808624,0.660937373593474,0.4069136770971942,0.15214980296012384,-0.34857811938035443,0.4841384215746732,0.6941445529984237,0.5099783799291401,-0.5040423348471217,0.6829083733549935,-0.5565774266177661,-0.37333789647527565,0.7262709834331331,-0.5312875617635396,0.7544428169216446,0.6765061007382325,-0.6646907243193776,-0.3117546647806271,0.06856787205952637,0.46992805958358,0.6425123316140088,-0.1963607828885157,0.5328985590971098,0.637807546462799,0.5905269623120666,0.28675874829375936,-0.626048664055313,-0.41145474030327506,-0.5668787577914286,-0.6355840496096171,-0.5499387099200137,0.43015358065399584,-0.49934505147690245,-0.25190386112998064,0.45328469709651825,0.5810287976373776,-0.3339260905782273,0.44823214752193113,0.330989592419071,-0.28464327069034356,-0.6376585867763875,0.5585989517773515,-0.3584189377740507,0.449476739166166,-0.2925592011008435,-0.057014200842740614,0.1583441879443095,0.6408696477762597,0.6110102918685071,0.5068217833731816,0.37640596971235957,0.17954981802647985,-0.2319446836076999,0.5906461382687752,-0.5533928989658855,0.11496111556464354,-0.28905792408385844,0.7461348486783882,0.5314789083546478,0.3076404090560068,0.7472063511083865,-0.6993267803854573,-0.5471012147363846,-0.6472949499191685,-0.22268845011427904,0.07149773678211611,0.41605669908886117,0.13569892656569774,-0.596159033188048,0.6207605644625374,-0.43858481315293535,-0.561351485055423,-0.41425750916887066,-0.5957288532685636,-0.4516117554522627,-0.30817990701919185,-0.45690762512997785,-0.6409988086735234,-0.6317604131470165,-0.6218821061680168,-0.18630580758476567,-0.5230229175814203,-0.3851891973191441,0.45257721762507075,0.15982928105087013,-0.6914080368300751,-0.1033867499161484,-0.20721526729372114,-0.7022385748925083,-0.5525933978764234,0.09221620417410097,0.601836058378976,0.2605440097755299,0.34944683131827403,0.6332705518618413,0.018977764028349102,-0.2793601731014351,-0.2608039935094653,0.48570839685900236,0.6576370067622815,-0.5381183431787975,-0.40638447665721267,-0.6670512212316333,0.0401908310441411,-0.5102715496605776,0.13502820480949124,0.41092036822198275,-0.6200408864988186,0.6401160008399185,0.028946340885366205,-0.6860452519015222,0.42788500990726097,-0.2090808720564,-0.401055515356631,-0.6656444566904677,0.6016883487888898,0.378017128033351,0.06764554811289278,-0.2841088928398154,0.564188408445559,0.651861110705509,0.08588876599448662,-0.6943286900818745,0.6894534724653424,-0.4018939408962096,0.7264050051540826,-0.21976347594269435,0.561262053698657,0.09408592193593832,0.2700019079317479,-0.454183575301228,-0.07922948658913423,-0.17792017919834324,0.4614420115810716,-0.034679699069618285,0.3648638095863953,-0.47470889598562166,-0.5594887163239066,0.017015573273523096,-0.3659273444886951,0.16557454743552136,-0.37840582916226634,0.513751357345963,-0.5812134376779949,-0.19739520511978606,0.6410322807973217,0.16187505940583508,0.736275850339105,-0.47304799889154603,0.402511792657739,-0.5482953412232273,0.4481284325434996,0.6249588130017083,-0.30600243501957836,0.5451090686201479,0.5484019935564587,0.13730767956353215,0.11346018736555978,0.13737749740234328,0.24698137560954161,0.5094817621489557,-0.4302026529920455,0.4075338233434686,-0.371057179851751,-0.6028405145075081,0.1481562500217356,-0.14268974972901846,0.7327938544581838,0.1850675129115174,0.030263043732931948,0.2990274704748846,0.06507458639249546,0.013262199823264521,-0.18297353645488293,-0.6029646912928281,-0.26101795698469954,0.09698052056030944,-0.5523021329033186,0.5114785350086651,0.3997799453193111,0.13574959607419854,0.6616415777906435,0.5150706602945417,0.01719708070268575,-0.11233908549663539,0.10093031799630546,0.578616625877253,-0.45388751375825837,-0.4875067159856973,0.6625802806156753,-0.3108044581364412,-0.13629427063326366,-0.6990979874589285,0.38123966081841215,0.7446554660426773,-0.3965213964020736,-0.33051000535354597,0.387686569940231,-0.3420371454053045,-0.5356220069428976,-0.503246491671235,0.05027957220112957,-0.1944346539895751,0.6497251749564447,-0.4278071412060321,0.46374617839911747,-0.5375277380837395,-0.21085421471232893,0.2281321667041112,0.22134364575836857,-0.18228901486213392],\"y\":[1,1,1,1,1,1,1,1,1,1,1,1,1,1,1,1,1,1,1,1,1,1,1,1,1,1,1,1,1,1,1,1,1,1,1,1,1,1,1,1,1,1,1,1,1,1,1,1,1,1,1,1,1,1,1,1,1,1,1,1,1,1,1,1,1,1,1,1,1,1,1,1,1,1,1,1,1,1,1,1,1,1,1,1,1,1,1,1,1,1,1,1,1,1,1,1,1,1,1,1,1,1,1,1,1,1,1,1,1,1,1,1,1,1,1,1,1,1,1,1,1,1,1,1,1,1,1,1,1,1,1,1,1,1,1,1,1,1,1,1,1,1,1,1,1,1,1,1,1,1,1,1,1,1,1,1,1,1,1,1,1,1,1,1,1,1,1,1,1,1,1,1,1,1,1,1,1,1,1,1,1,1,1,1,1,1,1,1,1,1,1,1,1,1,1,1,1,1,1,1,1,1,1,1,1,1,1,1,1,1,1,1,1,1,1,1,1,1,1],\"type\":\"scatter\",\"xaxis\":\"x\",\"yaxis\":\"y\"},{\"hovertemplate\":\"\\u003cb\\u003e%{text}\\u003c\\u002fb\\u003e\\u003cbr\\u003eCosine Similarity: %{x:.3f}\\u003cextra\\u003e\\u003c\\u002fextra\\u003e\",\"marker\":{\"color\":\"limegreen\",\"line\":{\"color\":\"black\",\"width\":1},\"opacity\":1.0,\"size\":8,\"symbol\":\"diamond\"},\"mode\":\"markers\",\"showlegend\":false,\"text\":[\"Visceral\",\"Temperamental\",\"Resilient\",\"Petty\",\"Moderate\",\"Meticulous\",\"Methodical\",\"Mercurial\",\"Manic\",\"Judgmental\",\"Flippant\",\"Evil\",\"Edgy\",\"Disorganized\",\"Diplomatic\",\"Conscientious\",\"Conciliatory\",\"Calm\",\"Analytical\",\"Agreeable\"],\"x\":[-0.7909510138464241,-0.7589045166738289,0.770512503323007,-0.7679446283990387,0.8232308269970638,0.7848313361857512,0.8002018699292776,-0.8536056739677016,-0.7117215484538534,-0.7025014548106963,-0.7632785112237565,-0.7358925883303975,-0.7370524840095128,-0.7409934591558914,0.8637531169492374,0.8666037635815139,0.810114772923709,0.8012988017504353,0.7603274006986442,0.7610755852522897],\"y\":[1,1,1,1,1,1,1,1,1,1,1,1,1,1,1,1,1,1,1,1],\"type\":\"scatter\",\"xaxis\":\"x\",\"yaxis\":\"y\"},{\"hoverinfo\":\"skip\",\"line\":{\"color\":\"black\",\"width\":1},\"mode\":\"lines\",\"showlegend\":false,\"x\":[-0.8536056739677016,-0.8536056739677016],\"y\":[1.0,1.45],\"type\":\"scatter\",\"xaxis\":\"x\",\"yaxis\":\"y\"},{\"hoverinfo\":\"skip\",\"line\":{\"color\":\"black\",\"width\":1},\"mode\":\"lines\",\"showlegend\":false,\"x\":[-0.7909510138464241,-0.7909510138464241],\"y\":[1.0,0.6],\"type\":\"scatter\",\"xaxis\":\"x\",\"yaxis\":\"y\"},{\"hoverinfo\":\"skip\",\"line\":{\"color\":\"black\",\"width\":1},\"mode\":\"lines\",\"showlegend\":false,\"x\":[-0.7679446283990387,-0.7679446283990387],\"y\":[1.0,1.9],\"type\":\"scatter\",\"xaxis\":\"x\",\"yaxis\":\"y\"},{\"hoverinfo\":\"skip\",\"line\":{\"color\":\"black\",\"width\":1},\"mode\":\"lines\",\"showlegend\":false,\"x\":[-0.7632785112237565,-0.7632785112237565],\"y\":[1.0,0.15],\"type\":\"scatter\",\"xaxis\":\"x\",\"yaxis\":\"y\"},{\"hoverinfo\":\"skip\",\"line\":{\"color\":\"black\",\"width\":1},\"mode\":\"lines\",\"showlegend\":false,\"x\":[-0.7589045166738289,-0.7589045166738289],\"y\":[1.0,1.6],\"type\":\"scatter\",\"xaxis\":\"x\",\"yaxis\":\"y\"},{\"hoverinfo\":\"skip\",\"line\":{\"color\":\"black\",\"width\":1},\"mode\":\"lines\",\"showlegend\":false,\"x\":[-0.7409934591558914,-0.7409934591558914],\"y\":[1.0,0.45],\"type\":\"scatter\",\"xaxis\":\"x\",\"yaxis\":\"y\"},{\"hoverinfo\":\"skip\",\"line\":{\"color\":\"black\",\"width\":1},\"mode\":\"lines\",\"showlegend\":false,\"x\":[-0.7370524840095128,-0.7370524840095128],\"y\":[1.0,1.3],\"type\":\"scatter\",\"xaxis\":\"x\",\"yaxis\":\"y\"},{\"hoverinfo\":\"skip\",\"line\":{\"color\":\"black\",\"width\":1},\"mode\":\"lines\",\"showlegend\":false,\"x\":[-0.7358925883303975,-0.7358925883303975],\"y\":[1.0,0.75],\"type\":\"scatter\",\"xaxis\":\"x\",\"yaxis\":\"y\"},{\"hoverinfo\":\"skip\",\"line\":{\"color\":\"black\",\"width\":1},\"mode\":\"lines\",\"showlegend\":false,\"x\":[-0.7117215484538534,-0.7117215484538534],\"y\":[1.0,1.75],\"type\":\"scatter\",\"xaxis\":\"x\",\"yaxis\":\"y\"},{\"hoverinfo\":\"skip\",\"line\":{\"color\":\"black\",\"width\":1},\"mode\":\"lines\",\"showlegend\":false,\"x\":[-0.7025014548106963,-0.7025014548106963],\"y\":[1.0,0.3],\"type\":\"scatter\",\"xaxis\":\"x\",\"yaxis\":\"y\"},{\"hoverinfo\":\"skip\",\"line\":{\"color\":\"black\",\"width\":1},\"mode\":\"lines\",\"showlegend\":false,\"x\":[0.7603274006986442,0.7603274006986442],\"y\":[1.0,1.45],\"type\":\"scatter\",\"xaxis\":\"x\",\"yaxis\":\"y\"},{\"hoverinfo\":\"skip\",\"line\":{\"color\":\"black\",\"width\":1},\"mode\":\"lines\",\"showlegend\":false,\"x\":[0.7610755852522897,0.7610755852522897],\"y\":[1.0,0.6],\"type\":\"scatter\",\"xaxis\":\"x\",\"yaxis\":\"y\"},{\"hoverinfo\":\"skip\",\"line\":{\"color\":\"black\",\"width\":1},\"mode\":\"lines\",\"showlegend\":false,\"x\":[0.770512503323007,0.770512503323007],\"y\":[1.0,1.9],\"type\":\"scatter\",\"xaxis\":\"x\",\"yaxis\":\"y\"},{\"hoverinfo\":\"skip\",\"line\":{\"color\":\"black\",\"width\":1},\"mode\":\"lines\",\"showlegend\":false,\"x\":[0.7848313361857512,0.7848313361857512],\"y\":[1.0,0.15],\"type\":\"scatter\",\"xaxis\":\"x\",\"yaxis\":\"y\"},{\"hoverinfo\":\"skip\",\"line\":{\"color\":\"black\",\"width\":1},\"mode\":\"lines\",\"showlegend\":false,\"x\":[0.8002018699292776,0.8002018699292776],\"y\":[1.0,1.6],\"type\":\"scatter\",\"xaxis\":\"x\",\"yaxis\":\"y\"},{\"hoverinfo\":\"skip\",\"line\":{\"color\":\"black\",\"width\":1},\"mode\":\"lines\",\"showlegend\":false,\"x\":[0.8012988017504353,0.8012988017504353],\"y\":[1.0,0.45],\"type\":\"scatter\",\"xaxis\":\"x\",\"yaxis\":\"y\"},{\"hoverinfo\":\"skip\",\"line\":{\"color\":\"black\",\"width\":1},\"mode\":\"lines\",\"showlegend\":false,\"x\":[0.810114772923709,0.810114772923709],\"y\":[1.0,1.3],\"type\":\"scatter\",\"xaxis\":\"x\",\"yaxis\":\"y\"},{\"hoverinfo\":\"skip\",\"line\":{\"color\":\"black\",\"width\":1},\"mode\":\"lines\",\"showlegend\":false,\"x\":[0.8232308269970638,0.8232308269970638],\"y\":[1.0,0.75],\"type\":\"scatter\",\"xaxis\":\"x\",\"yaxis\":\"y\"},{\"hoverinfo\":\"skip\",\"line\":{\"color\":\"black\",\"width\":1},\"mode\":\"lines\",\"showlegend\":false,\"x\":[0.8637531169492374,0.8637531169492374],\"y\":[1.0,1.75],\"type\":\"scatter\",\"xaxis\":\"x\",\"yaxis\":\"y\"},{\"hoverinfo\":\"skip\",\"line\":{\"color\":\"black\",\"width\":1},\"mode\":\"lines\",\"showlegend\":false,\"x\":[0.8666037635815139,0.8666037635815139],\"y\":[1.0,0.3],\"type\":\"scatter\",\"xaxis\":\"x\",\"yaxis\":\"y\"},{\"hoverinfo\":\"skip\",\"marker\":{\"color\":\"limegreen\"},\"opacity\":0.7,\"showlegend\":false,\"width\":0.045872251667979126,\"x\":[-0.8249355166752146,-0.7675952020902408,-0.710254887505267,-0.6529145729202931,-0.5955742583353192,-0.5382339437503454,-0.4808936291653715,-0.4235533145803977,-0.3662129999954238,-0.30887268541044993,-0.2515323708254761,-0.19419205624050223,-0.13685174165552838,-0.07951142707055453,-0.02217111248558068,0.03516920209939317,0.09250951668436708,0.14984983126934093,0.20719014585431472,0.26453046043928863,0.32187077502426253,0.37921108960923633,0.4365514041942101,0.49389171877918403,0.5512320333641579,0.6085723479491317,0.6659126625341056,0.7232529771190795,0.7805932917040533,0.837933606289027],\"y\":[0.05625,0.28125,0.5625,0.50625,0.50625,0.9,0.5625,0.5625,0.45,0.61875,0.28125,0.7312500000000001,0.16875,0.16875,0.05625,0.50625,0.61875,0.61875,0.225,0.28125,0.225,0.5625,0.675,0.50625,0.45,0.50625,0.84375,0.39375,0.39375,0.225],\"type\":\"bar\",\"xaxis\":\"x\",\"yaxis\":\"y\"},{\"hovertemplate\":\"\\u003cb\\u003e%{text}\\u003c\\u002fb\\u003e\\u003cbr\\u003eNormalized Projection: %{x:.3f}\\u003cextra\\u003e\\u003c\\u002fextra\\u003e\",\"marker\":{\"color\":\"limegreen\",\"line\":{\"color\":\"black\",\"width\":1},\"opacity\":1.0,\"size\":8,\"symbol\":\"diamond\"},\"mode\":\"markers\",\"showlegend\":false,\"text\":[\"Zealous\",\"Wry\",\"Witty\",\"Whimsical\",\"Visceral\",\"Verbose\",\"Utilitarian\",\"Urgent\",\"Universalist\",\"Understated\",\"Transparent\",\"Traditional\",\"Theoretical\",\"Theatrical\",\"Technical\",\"Tactful\",\"Systems thinker\",\"Sycophantic\",\"Supportive\",\"Subversive\",\"Submissive\",\"Structuralist\",\"Stream of consciousness\",\"Stoic\",\"Spontaneous\",\"Spiritual\",\"Speculative\",\"Specialized\",\"Solemn\",\"Socratic\",\"Skeptical\",\"Serious\",\"Serene\",\"Secular\",\"Savage\",\"Sassy\",\"Sardonic\",\"Sarcastic\",\"Romantic\",\"Ritualistic\",\"Risk taking\",\"Rhetorical\",\"Reverent\",\"Reserved\",\"Relativist\",\"Regulatory\",\"Reductionist\",\"Rebellious\",\"Reactive\",\"Rationalist\",\"Radical\",\"Quantitative\",\"Qualitative\",\"Provocative\",\"Progressive\",\"Problem solving\",\"Proactive\",\"Principled\",\"Prescriptive\",\"Practical\",\"Poetic\",\"Pluralist\",\"Playful\",\"Philosophical\",\"Petty\",\"Pessimistic\",\"Perfectionist\",\"Pensive\",\"Pedantic\",\"Passive aggressive\",\"Passionate\",\"Paranoid\",\"Paradoxical\",\"Pacifist\",\"Optimistic\",\"Open ended\",\"Obsessive\",\"Nurturing\",\"Nostalgic\",\"Nonchalant\",\"Nihilistic\",\"Narrative\",\"Naive\",\"Mystical\",\"Mischievous\",\"Misanthropic\",\"Militant\",\"Metaphorical\",\"Melodramatic\",\"Melancholic\",\"Meditative\",\"Materialist\",\"Manipulative\",\"Literal\",\"Libertarian\",\"Judgmental\",\"Irreverent\",\"Ironic\",\"Intuitive\",\"Introverted\",\"Introspective\",\"Interdisciplinary\",\"Inspirational\",\"Inquisitive\",\"Innovative\",\"Individualistic\",\"Independent\",\"Inclusive\",\"Improvisational\",\"Idealistic\",\"Iconoclastic\",\"Humble\",\"Humanistic\",\"Hostile\",\"Holistic\",\"Historical\",\"Hedonistic\",\"Grounded\",\"Gregarious\",\"Grandiose\",\"Generous\",\"Generalist\",\"Futuristic\",\"Fundamentalist\",\"Formalist\",\"Formal\",\"Forgiving\",\"Flirty\",\"Flexible\",\"Fatalistic\",\"Factual\",\"Extroverted\",\"Exploratory\",\"Experiential\",\"Existentialist\",\"Ethereal\",\"Essentialist\",\"Esoteric\",\"Erudite\",\"Epicurean\",\"Environmental\",\"Entertaining\",\"Enigmatic\",\"Empathetic\",\"Emotional\",\"Eloquent\",\"Elitist\",\"Egalitarian\",\"Effusive\",\"Efficient\",\"Educational\",\"Edgy\",\"Eclectic\",\"Dramatic\",\"Dominant\",\"Dogmatic\",\"Divergent\",\"Dispassionate\",\"Diplomatic\",\"Deterministic\",\"Detached\",\"Descriptive\",\"Deontological\",\"Deferential\",\"Deconstructionist\",\"Decisive\",\"Data driven\",\"Cynical\",\"Curious\",\"Cryptic\",\"Cruel\",\"Critical\",\"Creative\",\"Cosmopolitan\",\"Convergent\",\"Contrarian\",\"Contemporary\",\"Constructivist\",\"Confrontational\",\"Confident\",\"Condescending\",\"Concise\",\"Conceptual\",\"Competitive\",\"Collectivistic\",\"Collaborative\",\"Closure seeking\",\"Circumspect\",\"Chill\",\"Charismatic\",\"Chaotic\",\"Challenging\",\"Cautious\",\"Casual\",\"Callous\",\"Calculating\",\"Bombastic\",\"Blunt\",\"Bitter\",\"Big picture\",\"Benevolent\",\"Avoidant\",\"Assertive\",\"Ascetic\",\"Artistic\",\"Arrogant\",\"Anxious\",\"Anthropocentric\",\"Animated\",\"Analytical\",\"Altruistic\",\"Agreeable\",\"Adventurous\",\"Adaptable\",\"Acerbic\",\"Accommodating\",\"Accessible\",\"Abstract\",\"Absolutist\"],\"x\":[-0.07564494436130631,-0.06266148563182472,-0.04393695305625847,-0.08609165392337649,-0.0940082875141138,0.051663778443924654,0.026288017674886158,-0.019270180755279642,0.016436955348579224,0.002391083913743408,0.0867450398818753,0.04293781586758457,0.012873723536802384,-0.05244882459871073,0.05818174743338163,0.0842568900205762,0.04211642124185401,-0.08290841681431677,0.1065685932504639,-0.04893990894125435,-0.05322379637464338,0.08428392905976699,-0.05360332433128238,0.07486289441511482,-0.06967275406831096,-0.03734998802383368,0.00486081466833504,0.05162645298325617,0.0972397296506566,-0.027843993596487444,0.04842022368294613,0.09984607146994652,0.09601592941969087,0.027784324517657992,-0.0754628752887739,-0.04868217209787273,-0.08059943784815897,-0.08045230464290212,-0.07771657411796416,0.05443882936319607,-0.036364637853104995,-0.02841545714611659,0.04860818265239201,0.07955873916383491,-0.03647956504768923,0.04927575409203982,0.030778377917543974,-0.023905195735275702,-0.0941082164935369,0.059035067905244,-0.035716460342520955,0.05711071056178283,-0.03241815451068863,-0.004372374929730501,0.010350353494309737,0.08003132054000385,0.08245491464656732,0.030851131706572617,0.03885446155827238,0.020218124044963794,-0.05342300254191643,0.052331747329076854,-0.07013684741454734,0.01099296956068286,-0.0928707057503367,-0.025359424139905627,0.0805400758816835,0.07874614867302776,0.028211326007878172,-0.09385536760519007,-0.05837109127787777,-0.06548710806112713,-0.01680149546344768,0.004399496239725816,0.04798408967356268,0.011313758624795446,-0.04773028718199999,0.09584935045062688,-0.037699803030027554,-0.10082414024483823,-0.05978657058015763,-0.0610018894267191,-0.04857241580012125,-0.050810362993922914,-0.08532358281834974,-0.08688956867143592,-0.07818350248073672,-0.025843657083666028,-0.07488489782280228,-0.05050728476164319,0.07295912397738616,0.012716961720988823,-0.0785051579894226,-0.013253867553042913,-0.014486083149836437,-0.07586594789502044,-0.09466037964992582,-0.08543467187285207,0.007716727334836201,0.07568561996415583,0.030917811368017314,0.027117536581055424,0.09859137956325252,0.002881685182579364,-0.0214069543568463,-0.01349959846687067,0.04407238862148484,0.056014933758004745,-0.04108805637756689,0.003320665916760957,-0.040786231890851565,0.014602210579645232,0.036068316729048866,-0.09633079613765139,0.06469880015565764,0.002369630558129015,-0.07699674917906343,0.05527771165911723,-0.022043929165388478,-0.04782935528091297,0.09924820139405519,0.044464221969498355,0.005296401439587836,-0.03176353327531508,0.05079295481706052,0.09682253482643327,0.005023987157858501,-0.09879735591028836,0.09151221215808264,-0.04698556728076728,0.09250355926531052,-0.01812066990581867,0.0745846759202911,0.00808639688132808,0.029836639051760542,-0.0664656523678987,-0.006561551860149636,-0.023875626519618234,0.058184444851619915,-0.0029688673290058595,0.029645141019875636,-0.05995503690522884,-0.08587004765697517,0.0015884324543843004,-0.03770725949854171,0.025080954316876857,-0.04277987172846047,0.04796145564685223,-0.07571959196106852,-0.026661743392527307,0.11002040043141903,-0.09123488901999718,0.012675516428429647,-0.06568456359085298,0.036359784393418394,-0.07204349250759359,0.05693694826960636,0.08577569117221724,0.11087671185501559,-0.033594869346442215,0.06388488932437374,0.05690616612190772,0.008890772512817793,0.011544449662605951,0.012953041747377216,0.02685739533483522,0.051891128761702904,-0.04084815931833787,0.048857886693473476,-0.05864286598295076,-0.0826669384801876,0.012807297502692334,-0.013139262150930512,0.07962029794230642,0.012771445873926373,0.002405392458500829,0.02351074028419577,0.004802717361915482,0.0010602842741118039,-0.017197704484707824,-0.06714638197129623,-0.04070851723369748,0.00819250181206314,-0.06195354805367186,0.039596681192236416,0.03236796692298762,0.01340709910568303,0.07158675895227397,0.07472128375380976,0.0023520321092075913,-0.008444203378890085,0.00865726171259163,0.05678179220291228,-0.059924166825892154,-0.06841534944307352,0.07233364424721166,-0.04847376454677402,-0.01431003613631281,-0.09162176712410627,0.028323475420515623,0.09230518377283656,-0.06924901369218074,-0.023086540993643205,0.0387668123785822,-0.0405572352334357,-0.0611442253225958,-0.0849949690768158,0.0030271226811673284,-0.02776932142020058,0.10733036381660596,0.06839601723214846,0.09763444246973577,-0.03533824314079521,0.046823133645734885,-0.06918503506912985,-0.014662173233694935,0.03314280727786513,0.017419915092968353,-0.013398382883890383],\"y\":[1,1,1,1,1,1,1,1,1,1,1,1,1,1,1,1,1,1,1,1,1,1,1,1,1,1,1,1,1,1,1,1,1,1,1,1,1,1,1,1,1,1,1,1,1,1,1,1,1,1,1,1,1,1,1,1,1,1,1,1,1,1,1,1,1,1,1,1,1,1,1,1,1,1,1,1,1,1,1,1,1,1,1,1,1,1,1,1,1,1,1,1,1,1,1,1,1,1,1,1,1,1,1,1,1,1,1,1,1,1,1,1,1,1,1,1,1,1,1,1,1,1,1,1,1,1,1,1,1,1,1,1,1,1,1,1,1,1,1,1,1,1,1,1,1,1,1,1,1,1,1,1,1,1,1,1,1,1,1,1,1,1,1,1,1,1,1,1,1,1,1,1,1,1,1,1,1,1,1,1,1,1,1,1,1,1,1,1,1,1,1,1,1,1,1,1,1,1,1,1,1,1,1,1,1,1,1,1,1,1,1,1,1,1,1,1,1,1,1],\"type\":\"scatter\",\"xaxis\":\"x2\",\"yaxis\":\"y2\"},{\"hovertemplate\":\"\\u003cb\\u003e%{text}\\u003c\\u002fb\\u003e\\u003cbr\\u003eNormalized Projection: %{x:.3f}\\u003cextra\\u003e\\u003c\\u002fextra\\u003e\",\"marker\":{\"color\":\"limegreen\",\"line\":{\"color\":\"black\",\"width\":1},\"opacity\":1.0,\"size\":8,\"symbol\":\"diamond\"},\"mode\":\"markers\",\"showlegend\":false,\"text\":[\"Temperamental\",\"Strategic\",\"Resilient\",\"Patient\",\"Neurotic\",\"Moderate\",\"Meticulous\",\"Methodical\",\"Mercurial\",\"Manic\",\"Impulsive\",\"Impatient\",\"Goofy\",\"Flippant\",\"Evil\",\"Earnest\",\"Disorganized\",\"Conscientious\",\"Conciliatory\",\"Calm\"],\"x\":[-0.10686192192832127,0.13044365759638676,0.12794527404038736,0.12712823088991498,-0.10347950277227312,0.12055054309468634,0.11098046796874093,0.12021640528768704,-0.10351886554298848,-0.10407141625806654,-0.10325882238459301,-0.11204088360951148,-0.10445549367524215,-0.12751594781861383,-0.10223566203184531,0.1141137054924517,-0.1090830785543877,0.16723352917181566,0.11839972950151634,0.130472431331564],\"y\":[1,1,1,1,1,1,1,1,1,1,1,1,1,1,1,1,1,1,1,1],\"type\":\"scatter\",\"xaxis\":\"x2\",\"yaxis\":\"y2\"},{\"hoverinfo\":\"skip\",\"line\":{\"color\":\"black\",\"width\":1},\"mode\":\"lines\",\"showlegend\":false,\"x\":[-0.12751594781861383,-0.12751594781861383],\"y\":[1.0,1.45],\"type\":\"scatter\",\"xaxis\":\"x2\",\"yaxis\":\"y2\"},{\"hoverinfo\":\"skip\",\"line\":{\"color\":\"black\",\"width\":1},\"mode\":\"lines\",\"showlegend\":false,\"x\":[-0.11204088360951148,-0.11204088360951148],\"y\":[1.0,0.6],\"type\":\"scatter\",\"xaxis\":\"x2\",\"yaxis\":\"y2\"},{\"hoverinfo\":\"skip\",\"line\":{\"color\":\"black\",\"width\":1},\"mode\":\"lines\",\"showlegend\":false,\"x\":[-0.1090830785543877,-0.1090830785543877],\"y\":[1.0,1.9],\"type\":\"scatter\",\"xaxis\":\"x2\",\"yaxis\":\"y2\"},{\"hoverinfo\":\"skip\",\"line\":{\"color\":\"black\",\"width\":1},\"mode\":\"lines\",\"showlegend\":false,\"x\":[-0.10686192192832127,-0.10686192192832127],\"y\":[1.0,0.15],\"type\":\"scatter\",\"xaxis\":\"x2\",\"yaxis\":\"y2\"},{\"hoverinfo\":\"skip\",\"line\":{\"color\":\"black\",\"width\":1},\"mode\":\"lines\",\"showlegend\":false,\"x\":[-0.10445549367524215,-0.10445549367524215],\"y\":[1.0,1.6],\"type\":\"scatter\",\"xaxis\":\"x2\",\"yaxis\":\"y2\"},{\"hoverinfo\":\"skip\",\"line\":{\"color\":\"black\",\"width\":1},\"mode\":\"lines\",\"showlegend\":false,\"x\":[-0.10407141625806654,-0.10407141625806654],\"y\":[1.0,0.45],\"type\":\"scatter\",\"xaxis\":\"x2\",\"yaxis\":\"y2\"},{\"hoverinfo\":\"skip\",\"line\":{\"color\":\"black\",\"width\":1},\"mode\":\"lines\",\"showlegend\":false,\"x\":[-0.10351886554298848,-0.10351886554298848],\"y\":[1.0,1.3],\"type\":\"scatter\",\"xaxis\":\"x2\",\"yaxis\":\"y2\"},{\"hoverinfo\":\"skip\",\"line\":{\"color\":\"black\",\"width\":1},\"mode\":\"lines\",\"showlegend\":false,\"x\":[-0.10347950277227312,-0.10347950277227312],\"y\":[1.0,0.75],\"type\":\"scatter\",\"xaxis\":\"x2\",\"yaxis\":\"y2\"},{\"hoverinfo\":\"skip\",\"line\":{\"color\":\"black\",\"width\":1},\"mode\":\"lines\",\"showlegend\":false,\"x\":[-0.10325882238459301,-0.10325882238459301],\"y\":[1.0,1.75],\"type\":\"scatter\",\"xaxis\":\"x2\",\"yaxis\":\"y2\"},{\"hoverinfo\":\"skip\",\"line\":{\"color\":\"black\",\"width\":1},\"mode\":\"lines\",\"showlegend\":false,\"x\":[-0.10223566203184531,-0.10223566203184531],\"y\":[1.0,0.3],\"type\":\"scatter\",\"xaxis\":\"x2\",\"yaxis\":\"y2\"},{\"hoverinfo\":\"skip\",\"line\":{\"color\":\"black\",\"width\":1},\"mode\":\"lines\",\"showlegend\":false,\"x\":[0.11098046796874093,0.11098046796874093],\"y\":[1.0,1.45],\"type\":\"scatter\",\"xaxis\":\"x2\",\"yaxis\":\"y2\"},{\"hoverinfo\":\"skip\",\"line\":{\"color\":\"black\",\"width\":1},\"mode\":\"lines\",\"showlegend\":false,\"x\":[0.1141137054924517,0.1141137054924517],\"y\":[1.0,0.6],\"type\":\"scatter\",\"xaxis\":\"x2\",\"yaxis\":\"y2\"},{\"hoverinfo\":\"skip\",\"line\":{\"color\":\"black\",\"width\":1},\"mode\":\"lines\",\"showlegend\":false,\"x\":[0.11839972950151634,0.11839972950151634],\"y\":[1.0,1.9],\"type\":\"scatter\",\"xaxis\":\"x2\",\"yaxis\":\"y2\"},{\"hoverinfo\":\"skip\",\"line\":{\"color\":\"black\",\"width\":1},\"mode\":\"lines\",\"showlegend\":false,\"x\":[0.12021640528768704,0.12021640528768704],\"y\":[1.0,0.15],\"type\":\"scatter\",\"xaxis\":\"x2\",\"yaxis\":\"y2\"},{\"hoverinfo\":\"skip\",\"line\":{\"color\":\"black\",\"width\":1},\"mode\":\"lines\",\"showlegend\":false,\"x\":[0.12055054309468634,0.12055054309468634],\"y\":[1.0,1.6],\"type\":\"scatter\",\"xaxis\":\"x2\",\"yaxis\":\"y2\"},{\"hoverinfo\":\"skip\",\"line\":{\"color\":\"black\",\"width\":1},\"mode\":\"lines\",\"showlegend\":false,\"x\":[0.12712823088991498,0.12712823088991498],\"y\":[1.0,0.45],\"type\":\"scatter\",\"xaxis\":\"x2\",\"yaxis\":\"y2\"},{\"hoverinfo\":\"skip\",\"line\":{\"color\":\"black\",\"width\":1},\"mode\":\"lines\",\"showlegend\":false,\"x\":[0.12794527404038736,0.12794527404038736],\"y\":[1.0,1.3],\"type\":\"scatter\",\"xaxis\":\"x2\",\"yaxis\":\"y2\"},{\"hoverinfo\":\"skip\",\"line\":{\"color\":\"black\",\"width\":1},\"mode\":\"lines\",\"showlegend\":false,\"x\":[0.13044365759638676,0.13044365759638676],\"y\":[1.0,0.75],\"type\":\"scatter\",\"xaxis\":\"x2\",\"yaxis\":\"y2\"},{\"hoverinfo\":\"skip\",\"line\":{\"color\":\"black\",\"width\":1},\"mode\":\"lines\",\"showlegend\":false,\"x\":[0.130472431331564,0.130472431331564],\"y\":[1.0,1.75],\"type\":\"scatter\",\"xaxis\":\"x2\",\"yaxis\":\"y2\"},{\"hoverinfo\":\"skip\",\"line\":{\"color\":\"black\",\"width\":1},\"mode\":\"lines\",\"showlegend\":false,\"x\":[0.16723352917181566,0.16723352917181566],\"y\":[1.0,0.3],\"type\":\"scatter\",\"xaxis\":\"x2\",\"yaxis\":\"y2\"},{\"hoverinfo\":\"skip\",\"marker\":{\"color\":\"limegreen\"},\"opacity\":0.7,\"showlegend\":false,\"width\":0.007859986053078116,\"x\":[-0.12260345653544001,-0.11277847396909235,-0.1029534914027447,-0.09312850883639706,-0.0833035262700494,-0.07347854370370176,-0.0636535611373541,-0.05382857857100645,-0.04400359600465881,-0.034178613438311155,-0.024353630871963503,-0.014528648305615857,-0.004703665739268212,0.005121316827079447,0.014946299393427107,0.024771281959774752,0.0345962645261224,0.04442124709247004,0.0542462296588177,0.06407121222516536,0.073896194791513,0.08372117735786065,0.0935461599242083,0.10337114249055594,0.1131961250569036,0.12302110762325125,0.1328460901895989,0.14267107275594657,0.1524960553222942,0.16232103788864183],\"y\":[0.04736842105263158,0.09473684210526316,0.4263157894736842,0.37894736842105264,0.5210526315789474,0.6157894736842106,0.5684210526315789,0.4263157894736842,0.6157894736842106,0.47368421052631576,0.5210526315789474,0.5210526315789474,0.18947368421052632,0.9,0.6631578947368421,0.47368421052631576,0.47368421052631576,0.5684210526315789,0.7105263157894737,0.14210526315789473,0.37894736842105264,0.4263157894736842,0.37894736842105264,0.23684210526315788,0.18947368421052632,0.18947368421052632,0.14210526315789473,0.0,0.0,0.04736842105263158],\"type\":\"bar\",\"xaxis\":\"x2\",\"yaxis\":\"y2\"}],                        {\"template\":{\"data\":{\"histogram2dcontour\":[{\"type\":\"histogram2dcontour\",\"colorbar\":{\"outlinewidth\":0,\"ticks\":\"\"},\"colorscale\":[[0.0,\"#0d0887\"],[0.1111111111111111,\"#46039f\"],[0.2222222222222222,\"#7201a8\"],[0.3333333333333333,\"#9c179e\"],[0.4444444444444444,\"#bd3786\"],[0.5555555555555556,\"#d8576b\"],[0.6666666666666666,\"#ed7953\"],[0.7777777777777778,\"#fb9f3a\"],[0.8888888888888888,\"#fdca26\"],[1.0,\"#f0f921\"]]}],\"choropleth\":[{\"type\":\"choropleth\",\"colorbar\":{\"outlinewidth\":0,\"ticks\":\"\"}}],\"histogram2d\":[{\"type\":\"histogram2d\",\"colorbar\":{\"outlinewidth\":0,\"ticks\":\"\"},\"colorscale\":[[0.0,\"#0d0887\"],[0.1111111111111111,\"#46039f\"],[0.2222222222222222,\"#7201a8\"],[0.3333333333333333,\"#9c179e\"],[0.4444444444444444,\"#bd3786\"],[0.5555555555555556,\"#d8576b\"],[0.6666666666666666,\"#ed7953\"],[0.7777777777777778,\"#fb9f3a\"],[0.8888888888888888,\"#fdca26\"],[1.0,\"#f0f921\"]]}],\"heatmap\":[{\"type\":\"heatmap\",\"colorbar\":{\"outlinewidth\":0,\"ticks\":\"\"},\"colorscale\":[[0.0,\"#0d0887\"],[0.1111111111111111,\"#46039f\"],[0.2222222222222222,\"#7201a8\"],[0.3333333333333333,\"#9c179e\"],[0.4444444444444444,\"#bd3786\"],[0.5555555555555556,\"#d8576b\"],[0.6666666666666666,\"#ed7953\"],[0.7777777777777778,\"#fb9f3a\"],[0.8888888888888888,\"#fdca26\"],[1.0,\"#f0f921\"]]}],\"heatmapgl\":[{\"type\":\"heatmapgl\",\"colorbar\":{\"outlinewidth\":0,\"ticks\":\"\"},\"colorscale\":[[0.0,\"#0d0887\"],[0.1111111111111111,\"#46039f\"],[0.2222222222222222,\"#7201a8\"],[0.3333333333333333,\"#9c179e\"],[0.4444444444444444,\"#bd3786\"],[0.5555555555555556,\"#d8576b\"],[0.6666666666666666,\"#ed7953\"],[0.7777777777777778,\"#fb9f3a\"],[0.8888888888888888,\"#fdca26\"],[1.0,\"#f0f921\"]]}],\"contourcarpet\":[{\"type\":\"contourcarpet\",\"colorbar\":{\"outlinewidth\":0,\"ticks\":\"\"}}],\"contour\":[{\"type\":\"contour\",\"colorbar\":{\"outlinewidth\":0,\"ticks\":\"\"},\"colorscale\":[[0.0,\"#0d0887\"],[0.1111111111111111,\"#46039f\"],[0.2222222222222222,\"#7201a8\"],[0.3333333333333333,\"#9c179e\"],[0.4444444444444444,\"#bd3786\"],[0.5555555555555556,\"#d8576b\"],[0.6666666666666666,\"#ed7953\"],[0.7777777777777778,\"#fb9f3a\"],[0.8888888888888888,\"#fdca26\"],[1.0,\"#f0f921\"]]}],\"surface\":[{\"type\":\"surface\",\"colorbar\":{\"outlinewidth\":0,\"ticks\":\"\"},\"colorscale\":[[0.0,\"#0d0887\"],[0.1111111111111111,\"#46039f\"],[0.2222222222222222,\"#7201a8\"],[0.3333333333333333,\"#9c179e\"],[0.4444444444444444,\"#bd3786\"],[0.5555555555555556,\"#d8576b\"],[0.6666666666666666,\"#ed7953\"],[0.7777777777777778,\"#fb9f3a\"],[0.8888888888888888,\"#fdca26\"],[1.0,\"#f0f921\"]]}],\"mesh3d\":[{\"type\":\"mesh3d\",\"colorbar\":{\"outlinewidth\":0,\"ticks\":\"\"}}],\"scatter\":[{\"fillpattern\":{\"fillmode\":\"overlay\",\"size\":10,\"solidity\":0.2},\"type\":\"scatter\"}],\"parcoords\":[{\"type\":\"parcoords\",\"line\":{\"colorbar\":{\"outlinewidth\":0,\"ticks\":\"\"}}}],\"scatterpolargl\":[{\"type\":\"scatterpolargl\",\"marker\":{\"colorbar\":{\"outlinewidth\":0,\"ticks\":\"\"}}}],\"bar\":[{\"error_x\":{\"color\":\"#2a3f5f\"},\"error_y\":{\"color\":\"#2a3f5f\"},\"marker\":{\"line\":{\"color\":\"#E5ECF6\",\"width\":0.5},\"pattern\":{\"fillmode\":\"overlay\",\"size\":10,\"solidity\":0.2}},\"type\":\"bar\"}],\"scattergeo\":[{\"type\":\"scattergeo\",\"marker\":{\"colorbar\":{\"outlinewidth\":0,\"ticks\":\"\"}}}],\"scatterpolar\":[{\"type\":\"scatterpolar\",\"marker\":{\"colorbar\":{\"outlinewidth\":0,\"ticks\":\"\"}}}],\"histogram\":[{\"marker\":{\"pattern\":{\"fillmode\":\"overlay\",\"size\":10,\"solidity\":0.2}},\"type\":\"histogram\"}],\"scattergl\":[{\"type\":\"scattergl\",\"marker\":{\"colorbar\":{\"outlinewidth\":0,\"ticks\":\"\"}}}],\"scatter3d\":[{\"type\":\"scatter3d\",\"line\":{\"colorbar\":{\"outlinewidth\":0,\"ticks\":\"\"}},\"marker\":{\"colorbar\":{\"outlinewidth\":0,\"ticks\":\"\"}}}],\"scattermapbox\":[{\"type\":\"scattermapbox\",\"marker\":{\"colorbar\":{\"outlinewidth\":0,\"ticks\":\"\"}}}],\"scatterternary\":[{\"type\":\"scatterternary\",\"marker\":{\"colorbar\":{\"outlinewidth\":0,\"ticks\":\"\"}}}],\"scattercarpet\":[{\"type\":\"scattercarpet\",\"marker\":{\"colorbar\":{\"outlinewidth\":0,\"ticks\":\"\"}}}],\"carpet\":[{\"aaxis\":{\"endlinecolor\":\"#2a3f5f\",\"gridcolor\":\"white\",\"linecolor\":\"white\",\"minorgridcolor\":\"white\",\"startlinecolor\":\"#2a3f5f\"},\"baxis\":{\"endlinecolor\":\"#2a3f5f\",\"gridcolor\":\"white\",\"linecolor\":\"white\",\"minorgridcolor\":\"white\",\"startlinecolor\":\"#2a3f5f\"},\"type\":\"carpet\"}],\"table\":[{\"cells\":{\"fill\":{\"color\":\"#EBF0F8\"},\"line\":{\"color\":\"white\"}},\"header\":{\"fill\":{\"color\":\"#C8D4E3\"},\"line\":{\"color\":\"white\"}},\"type\":\"table\"}],\"barpolar\":[{\"marker\":{\"line\":{\"color\":\"#E5ECF6\",\"width\":0.5},\"pattern\":{\"fillmode\":\"overlay\",\"size\":10,\"solidity\":0.2}},\"type\":\"barpolar\"}],\"pie\":[{\"automargin\":true,\"type\":\"pie\"}]},\"layout\":{\"autotypenumbers\":\"strict\",\"colorway\":[\"#636efa\",\"#EF553B\",\"#00cc96\",\"#ab63fa\",\"#FFA15A\",\"#19d3f3\",\"#FF6692\",\"#B6E880\",\"#FF97FF\",\"#FECB52\"],\"font\":{\"color\":\"#2a3f5f\"},\"hovermode\":\"closest\",\"hoverlabel\":{\"align\":\"left\"},\"paper_bgcolor\":\"white\",\"plot_bgcolor\":\"#E5ECF6\",\"polar\":{\"bgcolor\":\"#E5ECF6\",\"angularaxis\":{\"gridcolor\":\"white\",\"linecolor\":\"white\",\"ticks\":\"\"},\"radialaxis\":{\"gridcolor\":\"white\",\"linecolor\":\"white\",\"ticks\":\"\"}},\"ternary\":{\"bgcolor\":\"#E5ECF6\",\"aaxis\":{\"gridcolor\":\"white\",\"linecolor\":\"white\",\"ticks\":\"\"},\"baxis\":{\"gridcolor\":\"white\",\"linecolor\":\"white\",\"ticks\":\"\"},\"caxis\":{\"gridcolor\":\"white\",\"linecolor\":\"white\",\"ticks\":\"\"}},\"coloraxis\":{\"colorbar\":{\"outlinewidth\":0,\"ticks\":\"\"}},\"colorscale\":{\"sequential\":[[0.0,\"#0d0887\"],[0.1111111111111111,\"#46039f\"],[0.2222222222222222,\"#7201a8\"],[0.3333333333333333,\"#9c179e\"],[0.4444444444444444,\"#bd3786\"],[0.5555555555555556,\"#d8576b\"],[0.6666666666666666,\"#ed7953\"],[0.7777777777777778,\"#fb9f3a\"],[0.8888888888888888,\"#fdca26\"],[1.0,\"#f0f921\"]],\"sequentialminus\":[[0.0,\"#0d0887\"],[0.1111111111111111,\"#46039f\"],[0.2222222222222222,\"#7201a8\"],[0.3333333333333333,\"#9c179e\"],[0.4444444444444444,\"#bd3786\"],[0.5555555555555556,\"#d8576b\"],[0.6666666666666666,\"#ed7953\"],[0.7777777777777778,\"#fb9f3a\"],[0.8888888888888888,\"#fdca26\"],[1.0,\"#f0f921\"]],\"diverging\":[[0,\"#8e0152\"],[0.1,\"#c51b7d\"],[0.2,\"#de77ae\"],[0.3,\"#f1b6da\"],[0.4,\"#fde0ef\"],[0.5,\"#f7f7f7\"],[0.6,\"#e6f5d0\"],[0.7,\"#b8e186\"],[0.8,\"#7fbc41\"],[0.9,\"#4d9221\"],[1,\"#276419\"]]},\"xaxis\":{\"gridcolor\":\"white\",\"linecolor\":\"white\",\"ticks\":\"\",\"title\":{\"standoff\":15},\"zerolinecolor\":\"white\",\"automargin\":true,\"zerolinewidth\":2},\"yaxis\":{\"gridcolor\":\"white\",\"linecolor\":\"white\",\"ticks\":\"\",\"title\":{\"standoff\":15},\"zerolinecolor\":\"white\",\"automargin\":true,\"zerolinewidth\":2},\"scene\":{\"xaxis\":{\"backgroundcolor\":\"#E5ECF6\",\"gridcolor\":\"white\",\"linecolor\":\"white\",\"showbackground\":true,\"ticks\":\"\",\"zerolinecolor\":\"white\",\"gridwidth\":2},\"yaxis\":{\"backgroundcolor\":\"#E5ECF6\",\"gridcolor\":\"white\",\"linecolor\":\"white\",\"showbackground\":true,\"ticks\":\"\",\"zerolinecolor\":\"white\",\"gridwidth\":2},\"zaxis\":{\"backgroundcolor\":\"#E5ECF6\",\"gridcolor\":\"white\",\"linecolor\":\"white\",\"showbackground\":true,\"ticks\":\"\",\"zerolinecolor\":\"white\",\"gridwidth\":2}},\"shapedefaults\":{\"line\":{\"color\":\"#2a3f5f\"}},\"annotationdefaults\":{\"arrowcolor\":\"#2a3f5f\",\"arrowhead\":0,\"arrowwidth\":1},\"geo\":{\"bgcolor\":\"white\",\"landcolor\":\"#E5ECF6\",\"subunitcolor\":\"white\",\"showland\":true,\"showlakes\":true,\"lakecolor\":\"white\"},\"title\":{\"x\":0.05},\"mapbox\":{\"style\":\"light\"}}},\"xaxis\":{\"anchor\":\"y\",\"domain\":[0.0,1.0],\"range\":[-0.9532641399396654,0.9532641399396654]},\"yaxis\":{\"anchor\":\"x\",\"domain\":[0.55,1.0],\"showticklabels\":false,\"range\":[0,2.5]},\"xaxis2\":{\"anchor\":\"y2\",\"domain\":[0.0,1.0],\"range\":[-0.18395688208899724,0.18395688208899724]},\"yaxis2\":{\"anchor\":\"x2\",\"domain\":[0.0,0.45],\"showticklabels\":false,\"range\":[0,2.5]},\"annotations\":[{\"font\":{\"size\":16},\"showarrow\":false,\"text\":\"PC1 Cosine Similarity\",\"x\":0.5,\"xanchor\":\"center\",\"xref\":\"paper\",\"y\":1.0,\"yanchor\":\"bottom\",\"yref\":\"paper\"},{\"font\":{\"size\":16},\"showarrow\":false,\"text\":\"PC1 Normalized Projection\",\"x\":0.5,\"xanchor\":\"center\",\"xref\":\"paper\",\"y\":0.45,\"yanchor\":\"bottom\",\"yref\":\"paper\"},{\"bgcolor\":\"rgba(255, 255, 255, 0.9)\",\"bordercolor\":\"black\",\"borderwidth\":1,\"font\":{\"color\":\"black\",\"size\":10},\"showarrow\":false,\"text\":\"Mercurial\",\"x\":-0.8536056739677016,\"xref\":\"x\",\"y\":1.45,\"yref\":\"y\"},{\"bgcolor\":\"rgba(255, 255, 255, 0.9)\",\"bordercolor\":\"black\",\"borderwidth\":1,\"font\":{\"color\":\"black\",\"size\":10},\"showarrow\":false,\"text\":\"Visceral\",\"x\":-0.7909510138464241,\"xref\":\"x\",\"y\":0.6,\"yref\":\"y\"},{\"bgcolor\":\"rgba(255, 255, 255, 0.9)\",\"bordercolor\":\"black\",\"borderwidth\":1,\"font\":{\"color\":\"black\",\"size\":10},\"showarrow\":false,\"text\":\"Petty\",\"x\":-0.7679446283990387,\"xref\":\"x\",\"y\":1.9,\"yref\":\"y\"},{\"bgcolor\":\"rgba(255, 255, 255, 0.9)\",\"bordercolor\":\"black\",\"borderwidth\":1,\"font\":{\"color\":\"black\",\"size\":10},\"showarrow\":false,\"text\":\"Flippant\",\"x\":-0.7632785112237565,\"xref\":\"x\",\"y\":0.15,\"yref\":\"y\"},{\"bgcolor\":\"rgba(255, 255, 255, 0.9)\",\"bordercolor\":\"black\",\"borderwidth\":1,\"font\":{\"color\":\"black\",\"size\":10},\"showarrow\":false,\"text\":\"Temperamental\",\"x\":-0.7589045166738289,\"xref\":\"x\",\"y\":1.6,\"yref\":\"y\"},{\"bgcolor\":\"rgba(255, 255, 255, 0.9)\",\"bordercolor\":\"black\",\"borderwidth\":1,\"font\":{\"color\":\"black\",\"size\":10},\"showarrow\":false,\"text\":\"Disorganized\",\"x\":-0.7409934591558914,\"xref\":\"x\",\"y\":0.45,\"yref\":\"y\"},{\"bgcolor\":\"rgba(255, 255, 255, 0.9)\",\"bordercolor\":\"black\",\"borderwidth\":1,\"font\":{\"color\":\"black\",\"size\":10},\"showarrow\":false,\"text\":\"Edgy\",\"x\":-0.7370524840095128,\"xref\":\"x\",\"y\":1.3,\"yref\":\"y\"},{\"bgcolor\":\"rgba(255, 255, 255, 0.9)\",\"bordercolor\":\"black\",\"borderwidth\":1,\"font\":{\"color\":\"black\",\"size\":10},\"showarrow\":false,\"text\":\"Evil\",\"x\":-0.7358925883303975,\"xref\":\"x\",\"y\":0.75,\"yref\":\"y\"},{\"bgcolor\":\"rgba(255, 255, 255, 0.9)\",\"bordercolor\":\"black\",\"borderwidth\":1,\"font\":{\"color\":\"black\",\"size\":10},\"showarrow\":false,\"text\":\"Manic\",\"x\":-0.7117215484538534,\"xref\":\"x\",\"y\":1.75,\"yref\":\"y\"},{\"bgcolor\":\"rgba(255, 255, 255, 0.9)\",\"bordercolor\":\"black\",\"borderwidth\":1,\"font\":{\"color\":\"black\",\"size\":10},\"showarrow\":false,\"text\":\"Judgmental\",\"x\":-0.7025014548106963,\"xref\":\"x\",\"y\":0.3,\"yref\":\"y\"},{\"bgcolor\":\"rgba(255, 255, 255, 0.9)\",\"bordercolor\":\"black\",\"borderwidth\":1,\"font\":{\"color\":\"black\",\"size\":10},\"showarrow\":false,\"text\":\"Analytical\",\"x\":0.7603274006986442,\"xref\":\"x\",\"y\":1.45,\"yref\":\"y\"},{\"bgcolor\":\"rgba(255, 255, 255, 0.9)\",\"bordercolor\":\"black\",\"borderwidth\":1,\"font\":{\"color\":\"black\",\"size\":10},\"showarrow\":false,\"text\":\"Agreeable\",\"x\":0.7610755852522897,\"xref\":\"x\",\"y\":0.6,\"yref\":\"y\"},{\"bgcolor\":\"rgba(255, 255, 255, 0.9)\",\"bordercolor\":\"black\",\"borderwidth\":1,\"font\":{\"color\":\"black\",\"size\":10},\"showarrow\":false,\"text\":\"Resilient\",\"x\":0.770512503323007,\"xref\":\"x\",\"y\":1.9,\"yref\":\"y\"},{\"bgcolor\":\"rgba(255, 255, 255, 0.9)\",\"bordercolor\":\"black\",\"borderwidth\":1,\"font\":{\"color\":\"black\",\"size\":10},\"showarrow\":false,\"text\":\"Meticulous\",\"x\":0.7848313361857512,\"xref\":\"x\",\"y\":0.15,\"yref\":\"y\"},{\"bgcolor\":\"rgba(255, 255, 255, 0.9)\",\"bordercolor\":\"black\",\"borderwidth\":1,\"font\":{\"color\":\"black\",\"size\":10},\"showarrow\":false,\"text\":\"Methodical\",\"x\":0.8002018699292776,\"xref\":\"x\",\"y\":1.6,\"yref\":\"y\"},{\"bgcolor\":\"rgba(255, 255, 255, 0.9)\",\"bordercolor\":\"black\",\"borderwidth\":1,\"font\":{\"color\":\"black\",\"size\":10},\"showarrow\":false,\"text\":\"Calm\",\"x\":0.8012988017504353,\"xref\":\"x\",\"y\":0.45,\"yref\":\"y\"},{\"bgcolor\":\"rgba(255, 255, 255, 0.9)\",\"bordercolor\":\"black\",\"borderwidth\":1,\"font\":{\"color\":\"black\",\"size\":10},\"showarrow\":false,\"text\":\"Conciliatory\",\"x\":0.810114772923709,\"xref\":\"x\",\"y\":1.3,\"yref\":\"y\"},{\"bgcolor\":\"rgba(255, 255, 255, 0.9)\",\"bordercolor\":\"black\",\"borderwidth\":1,\"font\":{\"color\":\"black\",\"size\":10},\"showarrow\":false,\"text\":\"Moderate\",\"x\":0.8232308269970638,\"xref\":\"x\",\"y\":0.75,\"yref\":\"y\"},{\"bgcolor\":\"rgba(255, 255, 255, 0.9)\",\"bordercolor\":\"black\",\"borderwidth\":1,\"font\":{\"color\":\"black\",\"size\":10},\"showarrow\":false,\"text\":\"Diplomatic\",\"x\":0.8637531169492374,\"xref\":\"x\",\"y\":1.75,\"yref\":\"y\"},{\"bgcolor\":\"rgba(255, 255, 255, 0.9)\",\"bordercolor\":\"black\",\"borderwidth\":1,\"font\":{\"color\":\"black\",\"size\":10},\"showarrow\":false,\"text\":\"Conscientious\",\"x\":0.8666037635815139,\"xref\":\"x\",\"y\":0.3,\"yref\":\"y\"},{\"bgcolor\":\"rgba(255, 255, 255, 0.9)\",\"bordercolor\":\"red\",\"borderwidth\":1,\"font\":{\"color\":\"red\",\"size\":14},\"showarrow\":false,\"text\":\"Assistant\",\"x\":0.4573539283804934,\"xref\":\"x\",\"y\":2,\"yref\":\"y\"},{\"bgcolor\":\"rgba(255, 255, 255, 0.9)\",\"bordercolor\":\"black\",\"borderwidth\":1,\"font\":{\"color\":\"black\",\"size\":10},\"showarrow\":false,\"text\":\"Flippant\",\"x\":-0.12751594781861383,\"xref\":\"x2\",\"y\":1.45,\"yref\":\"y2\"},{\"bgcolor\":\"rgba(255, 255, 255, 0.9)\",\"bordercolor\":\"black\",\"borderwidth\":1,\"font\":{\"color\":\"black\",\"size\":10},\"showarrow\":false,\"text\":\"Impatient\",\"x\":-0.11204088360951148,\"xref\":\"x2\",\"y\":0.6,\"yref\":\"y2\"},{\"bgcolor\":\"rgba(255, 255, 255, 0.9)\",\"bordercolor\":\"black\",\"borderwidth\":1,\"font\":{\"color\":\"black\",\"size\":10},\"showarrow\":false,\"text\":\"Disorganized\",\"x\":-0.1090830785543877,\"xref\":\"x2\",\"y\":1.9,\"yref\":\"y2\"},{\"bgcolor\":\"rgba(255, 255, 255, 0.9)\",\"bordercolor\":\"black\",\"borderwidth\":1,\"font\":{\"color\":\"black\",\"size\":10},\"showarrow\":false,\"text\":\"Temperamental\",\"x\":-0.10686192192832127,\"xref\":\"x2\",\"y\":0.15,\"yref\":\"y2\"},{\"bgcolor\":\"rgba(255, 255, 255, 0.9)\",\"bordercolor\":\"black\",\"borderwidth\":1,\"font\":{\"color\":\"black\",\"size\":10},\"showarrow\":false,\"text\":\"Goofy\",\"x\":-0.10445549367524215,\"xref\":\"x2\",\"y\":1.6,\"yref\":\"y2\"},{\"bgcolor\":\"rgba(255, 255, 255, 0.9)\",\"bordercolor\":\"black\",\"borderwidth\":1,\"font\":{\"color\":\"black\",\"size\":10},\"showarrow\":false,\"text\":\"Manic\",\"x\":-0.10407141625806654,\"xref\":\"x2\",\"y\":0.45,\"yref\":\"y2\"},{\"bgcolor\":\"rgba(255, 255, 255, 0.9)\",\"bordercolor\":\"black\",\"borderwidth\":1,\"font\":{\"color\":\"black\",\"size\":10},\"showarrow\":false,\"text\":\"Mercurial\",\"x\":-0.10351886554298848,\"xref\":\"x2\",\"y\":1.3,\"yref\":\"y2\"},{\"bgcolor\":\"rgba(255, 255, 255, 0.9)\",\"bordercolor\":\"black\",\"borderwidth\":1,\"font\":{\"color\":\"black\",\"size\":10},\"showarrow\":false,\"text\":\"Neurotic\",\"x\":-0.10347950277227312,\"xref\":\"x2\",\"y\":0.75,\"yref\":\"y2\"},{\"bgcolor\":\"rgba(255, 255, 255, 0.9)\",\"bordercolor\":\"black\",\"borderwidth\":1,\"font\":{\"color\":\"black\",\"size\":10},\"showarrow\":false,\"text\":\"Impulsive\",\"x\":-0.10325882238459301,\"xref\":\"x2\",\"y\":1.75,\"yref\":\"y2\"},{\"bgcolor\":\"rgba(255, 255, 255, 0.9)\",\"bordercolor\":\"black\",\"borderwidth\":1,\"font\":{\"color\":\"black\",\"size\":10},\"showarrow\":false,\"text\":\"Evil\",\"x\":-0.10223566203184531,\"xref\":\"x2\",\"y\":0.3,\"yref\":\"y2\"},{\"bgcolor\":\"rgba(255, 255, 255, 0.9)\",\"bordercolor\":\"black\",\"borderwidth\":1,\"font\":{\"color\":\"black\",\"size\":10},\"showarrow\":false,\"text\":\"Meticulous\",\"x\":0.11098046796874093,\"xref\":\"x2\",\"y\":1.45,\"yref\":\"y2\"},{\"bgcolor\":\"rgba(255, 255, 255, 0.9)\",\"bordercolor\":\"black\",\"borderwidth\":1,\"font\":{\"color\":\"black\",\"size\":10},\"showarrow\":false,\"text\":\"Earnest\",\"x\":0.1141137054924517,\"xref\":\"x2\",\"y\":0.6,\"yref\":\"y2\"},{\"bgcolor\":\"rgba(255, 255, 255, 0.9)\",\"bordercolor\":\"black\",\"borderwidth\":1,\"font\":{\"color\":\"black\",\"size\":10},\"showarrow\":false,\"text\":\"Conciliatory\",\"x\":0.11839972950151634,\"xref\":\"x2\",\"y\":1.9,\"yref\":\"y2\"},{\"bgcolor\":\"rgba(255, 255, 255, 0.9)\",\"bordercolor\":\"black\",\"borderwidth\":1,\"font\":{\"color\":\"black\",\"size\":10},\"showarrow\":false,\"text\":\"Methodical\",\"x\":0.12021640528768704,\"xref\":\"x2\",\"y\":0.15,\"yref\":\"y2\"},{\"bgcolor\":\"rgba(255, 255, 255, 0.9)\",\"bordercolor\":\"black\",\"borderwidth\":1,\"font\":{\"color\":\"black\",\"size\":10},\"showarrow\":false,\"text\":\"Moderate\",\"x\":0.12055054309468634,\"xref\":\"x2\",\"y\":1.6,\"yref\":\"y2\"},{\"bgcolor\":\"rgba(255, 255, 255, 0.9)\",\"bordercolor\":\"black\",\"borderwidth\":1,\"font\":{\"color\":\"black\",\"size\":10},\"showarrow\":false,\"text\":\"Patient\",\"x\":0.12712823088991498,\"xref\":\"x2\",\"y\":0.45,\"yref\":\"y2\"},{\"bgcolor\":\"rgba(255, 255, 255, 0.9)\",\"bordercolor\":\"black\",\"borderwidth\":1,\"font\":{\"color\":\"black\",\"size\":10},\"showarrow\":false,\"text\":\"Resilient\",\"x\":0.12794527404038736,\"xref\":\"x2\",\"y\":1.3,\"yref\":\"y2\"},{\"bgcolor\":\"rgba(255, 255, 255, 0.9)\",\"bordercolor\":\"black\",\"borderwidth\":1,\"font\":{\"color\":\"black\",\"size\":10},\"showarrow\":false,\"text\":\"Strategic\",\"x\":0.13044365759638676,\"xref\":\"x2\",\"y\":0.75,\"yref\":\"y2\"},{\"bgcolor\":\"rgba(255, 255, 255, 0.9)\",\"bordercolor\":\"black\",\"borderwidth\":1,\"font\":{\"color\":\"black\",\"size\":10},\"showarrow\":false,\"text\":\"Calm\",\"x\":0.130472431331564,\"xref\":\"x2\",\"y\":1.75,\"yref\":\"y2\"},{\"bgcolor\":\"rgba(255, 255, 255, 0.9)\",\"bordercolor\":\"black\",\"borderwidth\":1,\"font\":{\"color\":\"black\",\"size\":10},\"showarrow\":false,\"text\":\"Conscientious\",\"x\":0.16723352917181566,\"xref\":\"x2\",\"y\":0.3,\"yref\":\"y2\"},{\"bgcolor\":\"rgba(255, 255, 255, 0.9)\",\"bordercolor\":\"red\",\"borderwidth\":1,\"font\":{\"color\":\"red\",\"size\":14},\"showarrow\":false,\"text\":\"Assistant\",\"x\":0.09020264714041829,\"xref\":\"x2\",\"y\":2,\"yref\":\"y2\"}],\"shapes\":[{\"line\":{\"color\":\"gray\",\"dash\":\"solid\",\"width\":1},\"opacity\":0.7,\"type\":\"line\",\"x0\":0,\"x1\":0,\"xref\":\"x\",\"y0\":0,\"y1\":1,\"yref\":\"y domain\"},{\"line\":{\"color\":\"red\",\"dash\":\"dash\",\"width\":1},\"opacity\":1.0,\"type\":\"line\",\"x0\":0.4573539283804934,\"x1\":0.4573539283804934,\"xref\":\"x\",\"y0\":0,\"y1\":1,\"yref\":\"y domain\"},{\"line\":{\"color\":\"gray\",\"dash\":\"solid\",\"width\":1},\"opacity\":0.7,\"type\":\"line\",\"x0\":0,\"x1\":0,\"xref\":\"x2\",\"y0\":0,\"y1\":1,\"yref\":\"y2 domain\"},{\"line\":{\"color\":\"red\",\"dash\":\"dash\",\"width\":1},\"opacity\":1.0,\"type\":\"line\",\"x0\":0.09020264714041829,\"x1\":0.09020264714041829,\"xref\":\"x2\",\"y0\":0,\"y1\":1,\"yref\":\"y2 domain\"}],\"title\":{\"subtitle\":{\"text\":\"Gemma 2 27B Base, Layer 22 - Shared Question Set, Mean-Centered and Scaled Vectors\"},\"font\":{\"size\":16},\"text\":\"PCA on Trait Vectors\",\"x\":0.5},\"height\":800,\"width\":1200,\"showlegend\":false},                        {\"responsive\": true}                    ).then(function(){\n",
       "                            \n",
       "var gd = document.getElementById('f4a29602-eff6-4f4d-879c-8d45ec3f783d');\n",
       "var x = new MutationObserver(function (mutations, observer) {{\n",
       "        var display = window.getComputedStyle(gd).display;\n",
       "        if (!display || display === 'none') {{\n",
       "            console.log([gd, 'removed!']);\n",
       "            Plotly.purge(gd);\n",
       "            observer.disconnect();\n",
       "        }}\n",
       "}});\n",
       "\n",
       "// Listen for the removal of the full notebook cells\n",
       "var notebookContainer = gd.closest('#notebook-container');\n",
       "if (notebookContainer) {{\n",
       "    x.observe(notebookContainer, {childList: true});\n",
       "}}\n",
       "\n",
       "// Listen for the clearing of the current output cell\n",
       "var outputEl = gd.closest('.output');\n",
       "if (outputEl) {{\n",
       "    x.observe(outputEl, {childList: true});\n",
       "}}\n",
       "\n",
       "                        })                };                });            </script>        </div>"
      ]
     },
     "metadata": {},
     "output_type": "display_data"
    },
    {
     "data": {
      "application/vnd.plotly.v1+json": {
       "config": {
        "plotlyServerURL": "https://plot.ly"
       },
       "data": [
        {
         "hovertemplate": "<b>%{text}</b><br>Cosine Similarity: %{x:.3f}<extra></extra>",
         "marker": {
          "color": "limegreen",
          "line": {
           "color": "black",
           "width": 1
          },
          "opacity": 1,
          "size": 8,
          "symbol": "diamond"
         },
         "mode": "markers",
         "showlegend": false,
         "text": [
          "Zealous",
          "Wry",
          "Witty",
          "Whimsical",
          "Visceral",
          "Verbose",
          "Utilitarian",
          "Urgent",
          "Universalist",
          "Transparent",
          "Traditional",
          "Theoretical",
          "Temperamental",
          "Technical",
          "Tactful",
          "Systems thinker",
          "Sycophantic",
          "Supportive",
          "Subversive",
          "Submissive",
          "Structuralist",
          "Stream of consciousness",
          "Strategic",
          "Stoic",
          "Spontaneous",
          "Spiritual",
          "Speculative",
          "Specialized",
          "Solemn",
          "Socratic",
          "Skeptical",
          "Serious",
          "Serene",
          "Secular",
          "Savage",
          "Sassy",
          "Sardonic",
          "Sarcastic",
          "Romantic",
          "Ritualistic",
          "Risk taking",
          "Reverent",
          "Resilient",
          "Relativist",
          "Regulatory",
          "Reductionist",
          "Rebellious",
          "Reactive",
          "Rationalist",
          "Radical",
          "Quantitative",
          "Qualitative",
          "Provocative",
          "Progressive",
          "Problem solving",
          "Proactive",
          "Principled",
          "Prescriptive",
          "Practical",
          "Poetic",
          "Pluralist",
          "Playful",
          "Petty",
          "Pessimistic",
          "Perfectionist",
          "Pensive",
          "Pedantic",
          "Patient",
          "Passive aggressive",
          "Passionate",
          "Paranoid",
          "Paradoxical",
          "Pacifist",
          "Optimistic",
          "Open ended",
          "Obsessive",
          "Nurturing",
          "Nostalgic",
          "Nonchalant",
          "Nihilistic",
          "Neurotic",
          "Narrative",
          "Naive",
          "Mystical",
          "Moderate",
          "Mischievous",
          "Misanthropic",
          "Militant",
          "Meticulous",
          "Methodical",
          "Mercurial",
          "Melodramatic",
          "Melancholic",
          "Meditative",
          "Manipulative",
          "Manic",
          "Libertarian",
          "Judgmental",
          "Irreverent",
          "Ironic",
          "Intuitive",
          "Introverted",
          "Introspective",
          "Interdisciplinary",
          "Inspirational",
          "Inquisitive",
          "Innovative",
          "Individualistic",
          "Independent",
          "Inclusive",
          "Impulsive",
          "Improvisational",
          "Impatient",
          "Idealistic",
          "Iconoclastic",
          "Humble",
          "Humanistic",
          "Hostile",
          "Holistic",
          "Historical",
          "Hedonistic",
          "Gregarious",
          "Grandiose",
          "Goofy",
          "Generous",
          "Generalist",
          "Futuristic",
          "Fundamentalist",
          "Formalist",
          "Formal",
          "Forgiving",
          "Flirty",
          "Flippant",
          "Flexible",
          "Fatalistic",
          "Factual",
          "Extroverted",
          "Exploratory",
          "Experiential",
          "Existentialist",
          "Evil",
          "Ethereal",
          "Essentialist",
          "Esoteric",
          "Erudite",
          "Epicurean",
          "Environmental",
          "Entertaining",
          "Enigmatic",
          "Empathetic",
          "Emotional",
          "Elitist",
          "Egalitarian",
          "Effusive",
          "Educational",
          "Edgy",
          "Eclectic",
          "Earnest",
          "Dominant",
          "Dogmatic",
          "Divergent",
          "Disorganized",
          "Diplomatic",
          "Deterministic",
          "Detached",
          "Descriptive",
          "Deontological",
          "Deferential",
          "Deconstructionist",
          "Decisive",
          "Data driven",
          "Cynical",
          "Curious",
          "Cryptic",
          "Cruel",
          "Critical",
          "Cosmopolitan",
          "Contrarian",
          "Contemporary",
          "Constructivist",
          "Conscientious",
          "Confrontational",
          "Confident",
          "Condescending",
          "Conciliatory",
          "Conceptual",
          "Competitive",
          "Collectivistic",
          "Collaborative",
          "Closure seeking",
          "Circumspect",
          "Chill",
          "Chaotic",
          "Challenging",
          "Cautious",
          "Casual",
          "Calm",
          "Callous",
          "Calculating",
          "Bombastic",
          "Blunt",
          "Bitter",
          "Big picture",
          "Benevolent",
          "Assertive",
          "Ascetic",
          "Arrogant",
          "Anxious",
          "Anthropocentric",
          "Analytical",
          "Altruistic",
          "Agreeable",
          "Adventurous",
          "Adaptable",
          "Acerbic",
          "Accommodating",
          "Accessible",
          "Abstract",
          "Absolutist"
         ],
         "type": "scatter",
         "x": [
          0.45091888157625315,
          0.14193200834603606,
          0.6264836322038245,
          0.5325552167901082,
          -0.17393508859178314,
          0.41483185601221334,
          -0.382253789521249,
          -0.3346719723307364,
          -0.4075509201840698,
          -0.37530156940205023,
          -0.48952880384161573,
          -0.04025449644007972,
          0.022487996224232833,
          -0.2051138528726657,
          0.07615633974247982,
          0.3908136383033619,
          -0.30764207268274946,
          0.3848738494087014,
          0.2144053917438973,
          -0.5456468091896193,
          -0.2069134815707768,
          0.280643651760163,
          0.38972737539555913,
          -0.40301427461990746,
          0.485721580654744,
          0.45124177769673973,
          0.542119634249619,
          0.04508019730407547,
          -0.323613637906032,
          -0.2676794171562616,
          0.007446284971722159,
          -0.4713848228286873,
          0.07015268666861123,
          -0.4617434141034484,
          -0.3960068919037882,
          0.2854787918028914,
          0.05600225565155329,
          -0.056728081644615715,
          0.5373964630733863,
          -0.08022554044854745,
          0.26877237788236563,
          -0.09512805291984683,
          0.06944138686180434,
          -0.2263784043069783,
          -0.5305467644932705,
          -0.6039784016658254,
          0.16874618160905716,
          -0.47711656061011204,
          -0.6011225381552995,
          -0.04694691302291418,
          -0.4653300649322984,
          0.34619958663960654,
          0.22618825215690957,
          -0.107396101595763,
          0.07400105892769315,
          0.44569285380840173,
          -0.2736420741199172,
          -0.40379293989953285,
          -0.3696824987045602,
          0.36510439072603185,
          -0.1834127687020656,
          0.4102196185754871,
          -0.12114993705028215,
          -0.39895857715106614,
          -0.01464807193620304,
          0.5280125781875812,
          -0.13025421241735413,
          0.14533694886685586,
          -0.21554209857324244,
          0.6193681957004284,
          -0.19882837251220578,
          0.30606379559195934,
          -0.1889013409418806,
          -0.0952600736654513,
          0.077904976865493,
          0.053931622863124286,
          0.41878584607426145,
          0.145717929464269,
          -0.46523585362074377,
          -0.1486250655355384,
          -0.25214776785415144,
          0.47330654410080725,
          -0.3917126048911645,
          0.37167666499897406,
          -0.16907901839596098,
          0.27629822111721053,
          -0.16751765534726998,
          -0.1040843022726635,
          0.045783114566587825,
          -0.4064936993599762,
          0.08315851664331719,
          0.6124007404655232,
          -0.043396207406372934,
          0.43875428760222096,
          -0.3066261009172301,
          0.15912630564012858,
          -0.27695456758101433,
          -0.2950126042996869,
          0.05500376839022779,
          0.05511982753366723,
          0.4066175323668302,
          -0.07294050365209682,
          0.24428625023793024,
          0.29578618730909595,
          0.2729630887917729,
          -0.06957252414584214,
          0.2615023372360923,
          0.04631335047735129,
          -0.016954483928079658,
          0.18286225773868278,
          -0.5531156251226169,
          -0.06804826066573547,
          -0.49410495583044595,
          -0.05584584985502263,
          0.13885254631155217,
          -0.3541539951888363,
          0.05499205176177039,
          -0.3136319157515434,
          0.43828670240319517,
          0.17823373192866798,
          -0.12130503744990921,
          0.11710194101131453,
          0.44728124163585087,
          0.17318647645605909,
          0.5255619269418056,
          0.2933658969864324,
          0.06242621973839744,
          -0.5644448694216624,
          -0.4335948421019995,
          -0.32178466413334045,
          -0.16443959832781563,
          0.19679839143194233,
          -0.2608915404431796,
          0.07429978371495098,
          -0.05605211078828081,
          -0.5546941997841295,
          0.1913964670339569,
          0.43918891083213024,
          -0.09514906255078016,
          0.02004334598708968,
          -0.17423037821350706,
          0.43096149991375093,
          -0.4835366656063143,
          0.19779248031660412,
          0.26303235097025107,
          0.5278374492831398,
          -0.04093318064512752,
          0.5820690247743966,
          0.33094848156603673,
          0.1865039785802846,
          0.35268311403996006,
          -0.14491428211386936,
          0.07693018412423895,
          0.39733946013588567,
          0.4076573054859922,
          0.17063204553945246,
          0.5397152681465477,
          0.10057593414306963,
          0.18981286166300454,
          -0.4659494487033695,
          0.4690540815849986,
          -0.03516427003014512,
          -0.006815324950715399,
          -0.16170005945500818,
          -0.528067959583642,
          -0.5434866382488368,
          -0.3754606279787256,
          -0.5411578480004086,
          0.32754504079339225,
          -0.3596941654376231,
          -0.5053957280479985,
          -0.26356065114022076,
          0.48183273185446357,
          0.45958206317936345,
          -0.4022269220400954,
          0.17952644617057342,
          -0.0016644606270118305,
          0.18176787733725241,
          -0.4029054558863287,
          0.19232920895970834,
          0.08237182111562344,
          -0.2308311604022848,
          -0.2856066774474267,
          0.0067017158870362635,
          -0.05879668225487685,
          -0.13075582366393187,
          -0.13149119863442657,
          -0.17455968373806674,
          -0.1994905984312798,
          -0.587049125159416,
          0.31269842962753547,
          0.06852748919885711,
          0.10160291805998255,
          0.16936572162973654,
          -0.18550705941024,
          -0.02825915675184544,
          -0.23820593472525217,
          -0.5597516462328729,
          0.2023384838685011,
          0.5384025487835699,
          -0.6097677596806872,
          -0.17100847184320794,
          0.006860698011583624,
          0.09753845852125419,
          -0.12101660292824769,
          -0.23442704741047268,
          -0.07005959753397063,
          -0.26917758384497237,
          -0.5854282874821266,
          0.040115917603793946,
          -0.0065255877396518626,
          0.10652771396447044,
          0.4425714401245372,
          0.21948804916707385,
          -0.02075690759514295,
          -0.2815505603967562,
          -0.015680045194904096,
          -0.01886188159295679,
          -0.3842754605840328
         ],
         "xaxis": "x",
         "y": [
          1,
          1,
          1,
          1,
          1,
          1,
          1,
          1,
          1,
          1,
          1,
          1,
          1,
          1,
          1,
          1,
          1,
          1,
          1,
          1,
          1,
          1,
          1,
          1,
          1,
          1,
          1,
          1,
          1,
          1,
          1,
          1,
          1,
          1,
          1,
          1,
          1,
          1,
          1,
          1,
          1,
          1,
          1,
          1,
          1,
          1,
          1,
          1,
          1,
          1,
          1,
          1,
          1,
          1,
          1,
          1,
          1,
          1,
          1,
          1,
          1,
          1,
          1,
          1,
          1,
          1,
          1,
          1,
          1,
          1,
          1,
          1,
          1,
          1,
          1,
          1,
          1,
          1,
          1,
          1,
          1,
          1,
          1,
          1,
          1,
          1,
          1,
          1,
          1,
          1,
          1,
          1,
          1,
          1,
          1,
          1,
          1,
          1,
          1,
          1,
          1,
          1,
          1,
          1,
          1,
          1,
          1,
          1,
          1,
          1,
          1,
          1,
          1,
          1,
          1,
          1,
          1,
          1,
          1,
          1,
          1,
          1,
          1,
          1,
          1,
          1,
          1,
          1,
          1,
          1,
          1,
          1,
          1,
          1,
          1,
          1,
          1,
          1,
          1,
          1,
          1,
          1,
          1,
          1,
          1,
          1,
          1,
          1,
          1,
          1,
          1,
          1,
          1,
          1,
          1,
          1,
          1,
          1,
          1,
          1,
          1,
          1,
          1,
          1,
          1,
          1,
          1,
          1,
          1,
          1,
          1,
          1,
          1,
          1,
          1,
          1,
          1,
          1,
          1,
          1,
          1,
          1,
          1,
          1,
          1,
          1,
          1,
          1,
          1,
          1,
          1,
          1,
          1,
          1,
          1,
          1,
          1,
          1,
          1,
          1,
          1,
          1,
          1,
          1,
          1,
          1,
          1,
          1,
          1,
          1,
          1,
          1,
          1,
          1,
          1,
          1,
          1,
          1,
          1
         ],
         "yaxis": "y"
        },
        {
         "hovertemplate": "<b>%{text}</b><br>Cosine Similarity: %{x:.3f}<extra></extra>",
         "marker": {
          "color": "limegreen",
          "line": {
           "color": "black",
           "width": 1
          },
          "opacity": 1,
          "size": 8,
          "symbol": "diamond"
         },
         "mode": "markers",
         "showlegend": false,
         "text": [
          "Understated",
          "Theatrical",
          "Rhetorical",
          "Reserved",
          "Philosophical",
          "Metaphorical",
          "Materialist",
          "Literal",
          "Grounded",
          "Eloquent",
          "Efficient",
          "Dramatic",
          "Dispassionate",
          "Creative",
          "Convergent",
          "Concise",
          "Charismatic",
          "Avoidant",
          "Artistic",
          "Animated"
         ],
         "type": "scatter",
         "x": [
          -0.8192228001958491,
          0.6710892434357568,
          0.8108061805411999,
          -0.6494440733171283,
          0.6750559569700519,
          0.779313783322524,
          -0.7497868695861059,
          -0.8191491095067805,
          -0.6307292562526469,
          0.7695472062737438,
          -0.6859934567245802,
          0.7071356898870715,
          -0.6204005930390619,
          0.7093970627880898,
          -0.6251603504787093,
          -0.6784033162513433,
          0.864785864538008,
          -0.6230031913227695,
          0.6869181051511334,
          0.7549854031853053
         ],
         "xaxis": "x",
         "y": [
          1,
          1,
          1,
          1,
          1,
          1,
          1,
          1,
          1,
          1,
          1,
          1,
          1,
          1,
          1,
          1,
          1,
          1,
          1,
          1
         ],
         "yaxis": "y"
        },
        {
         "hoverinfo": "skip",
         "line": {
          "color": "black",
          "width": 1
         },
         "mode": "lines",
         "showlegend": false,
         "type": "scatter",
         "x": [
          -0.8192228001958491,
          -0.8192228001958491
         ],
         "xaxis": "x",
         "y": [
          1,
          1.45
         ],
         "yaxis": "y"
        },
        {
         "hoverinfo": "skip",
         "line": {
          "color": "black",
          "width": 1
         },
         "mode": "lines",
         "showlegend": false,
         "type": "scatter",
         "x": [
          -0.8191491095067805,
          -0.8191491095067805
         ],
         "xaxis": "x",
         "y": [
          1,
          0.6
         ],
         "yaxis": "y"
        },
        {
         "hoverinfo": "skip",
         "line": {
          "color": "black",
          "width": 1
         },
         "mode": "lines",
         "showlegend": false,
         "type": "scatter",
         "x": [
          -0.7497868695861059,
          -0.7497868695861059
         ],
         "xaxis": "x",
         "y": [
          1,
          1.9
         ],
         "yaxis": "y"
        },
        {
         "hoverinfo": "skip",
         "line": {
          "color": "black",
          "width": 1
         },
         "mode": "lines",
         "showlegend": false,
         "type": "scatter",
         "x": [
          -0.6859934567245802,
          -0.6859934567245802
         ],
         "xaxis": "x",
         "y": [
          1,
          0.15
         ],
         "yaxis": "y"
        },
        {
         "hoverinfo": "skip",
         "line": {
          "color": "black",
          "width": 1
         },
         "mode": "lines",
         "showlegend": false,
         "type": "scatter",
         "x": [
          -0.6784033162513433,
          -0.6784033162513433
         ],
         "xaxis": "x",
         "y": [
          1,
          1.6
         ],
         "yaxis": "y"
        },
        {
         "hoverinfo": "skip",
         "line": {
          "color": "black",
          "width": 1
         },
         "mode": "lines",
         "showlegend": false,
         "type": "scatter",
         "x": [
          -0.6494440733171283,
          -0.6494440733171283
         ],
         "xaxis": "x",
         "y": [
          1,
          0.45
         ],
         "yaxis": "y"
        },
        {
         "hoverinfo": "skip",
         "line": {
          "color": "black",
          "width": 1
         },
         "mode": "lines",
         "showlegend": false,
         "type": "scatter",
         "x": [
          -0.6307292562526469,
          -0.6307292562526469
         ],
         "xaxis": "x",
         "y": [
          1,
          1.3
         ],
         "yaxis": "y"
        },
        {
         "hoverinfo": "skip",
         "line": {
          "color": "black",
          "width": 1
         },
         "mode": "lines",
         "showlegend": false,
         "type": "scatter",
         "x": [
          -0.6251603504787093,
          -0.6251603504787093
         ],
         "xaxis": "x",
         "y": [
          1,
          0.75
         ],
         "yaxis": "y"
        },
        {
         "hoverinfo": "skip",
         "line": {
          "color": "black",
          "width": 1
         },
         "mode": "lines",
         "showlegend": false,
         "type": "scatter",
         "x": [
          -0.6230031913227695,
          -0.6230031913227695
         ],
         "xaxis": "x",
         "y": [
          1,
          1.75
         ],
         "yaxis": "y"
        },
        {
         "hoverinfo": "skip",
         "line": {
          "color": "black",
          "width": 1
         },
         "mode": "lines",
         "showlegend": false,
         "type": "scatter",
         "x": [
          -0.6204005930390619,
          -0.6204005930390619
         ],
         "xaxis": "x",
         "y": [
          1,
          0.3
         ],
         "yaxis": "y"
        },
        {
         "hoverinfo": "skip",
         "line": {
          "color": "black",
          "width": 1
         },
         "mode": "lines",
         "showlegend": false,
         "type": "scatter",
         "x": [
          0.6710892434357568,
          0.6710892434357568
         ],
         "xaxis": "x",
         "y": [
          1,
          1.45
         ],
         "yaxis": "y"
        },
        {
         "hoverinfo": "skip",
         "line": {
          "color": "black",
          "width": 1
         },
         "mode": "lines",
         "showlegend": false,
         "type": "scatter",
         "x": [
          0.6750559569700519,
          0.6750559569700519
         ],
         "xaxis": "x",
         "y": [
          1,
          0.6
         ],
         "yaxis": "y"
        },
        {
         "hoverinfo": "skip",
         "line": {
          "color": "black",
          "width": 1
         },
         "mode": "lines",
         "showlegend": false,
         "type": "scatter",
         "x": [
          0.6869181051511334,
          0.6869181051511334
         ],
         "xaxis": "x",
         "y": [
          1,
          1.9
         ],
         "yaxis": "y"
        },
        {
         "hoverinfo": "skip",
         "line": {
          "color": "black",
          "width": 1
         },
         "mode": "lines",
         "showlegend": false,
         "type": "scatter",
         "x": [
          0.7071356898870715,
          0.7071356898870715
         ],
         "xaxis": "x",
         "y": [
          1,
          0.15
         ],
         "yaxis": "y"
        },
        {
         "hoverinfo": "skip",
         "line": {
          "color": "black",
          "width": 1
         },
         "mode": "lines",
         "showlegend": false,
         "type": "scatter",
         "x": [
          0.7093970627880898,
          0.7093970627880898
         ],
         "xaxis": "x",
         "y": [
          1,
          1.6
         ],
         "yaxis": "y"
        },
        {
         "hoverinfo": "skip",
         "line": {
          "color": "black",
          "width": 1
         },
         "mode": "lines",
         "showlegend": false,
         "type": "scatter",
         "x": [
          0.7549854031853053,
          0.7549854031853053
         ],
         "xaxis": "x",
         "y": [
          1,
          0.45
         ],
         "yaxis": "y"
        },
        {
         "hoverinfo": "skip",
         "line": {
          "color": "black",
          "width": 1
         },
         "mode": "lines",
         "showlegend": false,
         "type": "scatter",
         "x": [
          0.7695472062737438,
          0.7695472062737438
         ],
         "xaxis": "x",
         "y": [
          1,
          1.3
         ],
         "yaxis": "y"
        },
        {
         "hoverinfo": "skip",
         "line": {
          "color": "black",
          "width": 1
         },
         "mode": "lines",
         "showlegend": false,
         "type": "scatter",
         "x": [
          0.779313783322524,
          0.779313783322524
         ],
         "xaxis": "x",
         "y": [
          1,
          0.75
         ],
         "yaxis": "y"
        },
        {
         "hoverinfo": "skip",
         "line": {
          "color": "black",
          "width": 1
         },
         "mode": "lines",
         "showlegend": false,
         "type": "scatter",
         "x": [
          0.8108061805411999,
          0.8108061805411999
         ],
         "xaxis": "x",
         "y": [
          1,
          1.75
         ],
         "yaxis": "y"
        },
        {
         "hoverinfo": "skip",
         "line": {
          "color": "black",
          "width": 1
         },
         "mode": "lines",
         "showlegend": false,
         "type": "scatter",
         "x": [
          0.864785864538008,
          0.864785864538008
         ],
         "xaxis": "x",
         "y": [
          1,
          0.3
         ],
         "yaxis": "y"
        },
        {
         "hoverinfo": "skip",
         "marker": {
          "color": "limegreen"
         },
         "opacity": 0.7,
         "showlegend": false,
         "type": "bar",
         "width": 0.04490689772623622,
         "x": [
          -0.7911559891169515,
          -0.7350223669591562,
          -0.6788887448013611,
          -0.6227551226435658,
          -0.5666215004857705,
          -0.5104878783279753,
          -0.4543542561701801,
          -0.39822063401238483,
          -0.34208701185458956,
          -0.2859533896967943,
          -0.22981976753899908,
          -0.17368614538120386,
          -0.11755252322340859,
          -0.061418901065613374,
          -0.005285278907818158,
          0.05084834324997711,
          0.10698196540777238,
          0.16311558756556765,
          0.21924920972336293,
          0.2753828318811582,
          0.33151645403895336,
          0.3876500761967485,
          0.4437836983545438,
          0.49991732051233906,
          0.5560509426701343,
          0.6121845648279296,
          0.6683181869857249,
          0.72445180914352,
          0.7805854313013152,
          0.8367190534591105
         ],
         "xaxis": "x",
         "y": [
          0.09999999999999999,
          0.049999999999999996,
          0.09999999999999999,
          0.39999999999999997,
          0.45,
          0.3,
          0.35000000000000003,
          0.65,
          0.3,
          0.6,
          0.39999999999999997,
          0.7000000000000001,
          0.6,
          0.7000000000000001,
          0.7000000000000001,
          0.9,
          0.35000000000000003,
          0.75,
          0.45,
          0.45,
          0.3,
          0.5,
          0.6,
          0.25,
          0.35000000000000003,
          0.15,
          0.15,
          0.09999999999999999,
          0.15,
          0.09999999999999999
         ],
         "yaxis": "y"
        },
        {
         "hovertemplate": "<b>%{text}</b><br>Normalized Projection: %{x:.3f}<extra></extra>",
         "marker": {
          "color": "limegreen",
          "line": {
           "color": "black",
           "width": 1
          },
          "opacity": 1,
          "size": 8,
          "symbol": "diamond"
         },
         "mode": "markers",
         "showlegend": false,
         "text": [
          "Zealous",
          "Wry",
          "Whimsical",
          "Visceral",
          "Verbose",
          "Utilitarian",
          "Urgent",
          "Universalist",
          "Transparent",
          "Traditional",
          "Theoretical",
          "Temperamental",
          "Technical",
          "Tactful",
          "Systems thinker",
          "Sycophantic",
          "Supportive",
          "Subversive",
          "Submissive",
          "Structuralist",
          "Stream of consciousness",
          "Strategic",
          "Stoic",
          "Spontaneous",
          "Spiritual",
          "Speculative",
          "Specialized",
          "Solemn",
          "Socratic",
          "Skeptical",
          "Serious",
          "Serene",
          "Secular",
          "Savage",
          "Sassy",
          "Sardonic",
          "Sarcastic",
          "Romantic",
          "Ritualistic",
          "Risk taking",
          "Reverent",
          "Resilient",
          "Relativist",
          "Regulatory",
          "Reductionist",
          "Rebellious",
          "Reactive",
          "Rationalist",
          "Radical",
          "Quantitative",
          "Qualitative",
          "Provocative",
          "Progressive",
          "Problem solving",
          "Proactive",
          "Principled",
          "Prescriptive",
          "Practical",
          "Poetic",
          "Pluralist",
          "Playful",
          "Philosophical",
          "Petty",
          "Pessimistic",
          "Perfectionist",
          "Pensive",
          "Pedantic",
          "Patient",
          "Passive aggressive",
          "Passionate",
          "Paranoid",
          "Paradoxical",
          "Pacifist",
          "Optimistic",
          "Open ended",
          "Obsessive",
          "Nurturing",
          "Nostalgic",
          "Nihilistic",
          "Neurotic",
          "Narrative",
          "Naive",
          "Mystical",
          "Moderate",
          "Mischievous",
          "Misanthropic",
          "Militant",
          "Meticulous",
          "Methodical",
          "Mercurial",
          "Melancholic",
          "Meditative",
          "Materialist",
          "Manipulative",
          "Manic",
          "Libertarian",
          "Judgmental",
          "Irreverent",
          "Ironic",
          "Intuitive",
          "Introverted",
          "Introspective",
          "Interdisciplinary",
          "Inspirational",
          "Inquisitive",
          "Innovative",
          "Individualistic",
          "Independent",
          "Inclusive",
          "Improvisational",
          "Idealistic",
          "Iconoclastic",
          "Humble",
          "Humanistic",
          "Hostile",
          "Holistic",
          "Historical",
          "Hedonistic",
          "Grounded",
          "Gregarious",
          "Grandiose",
          "Goofy",
          "Generalist",
          "Futuristic",
          "Fundamentalist",
          "Formalist",
          "Formal",
          "Forgiving",
          "Flirty",
          "Flippant",
          "Flexible",
          "Fatalistic",
          "Factual",
          "Extroverted",
          "Exploratory",
          "Experiential",
          "Existentialist",
          "Evil",
          "Ethereal",
          "Essentialist",
          "Esoteric",
          "Erudite",
          "Epicurean",
          "Environmental",
          "Entertaining",
          "Enigmatic",
          "Empathetic",
          "Emotional",
          "Elitist",
          "Egalitarian",
          "Effusive",
          "Educational",
          "Edgy",
          "Eclectic",
          "Earnest",
          "Dominant",
          "Dogmatic",
          "Divergent",
          "Disorganized",
          "Diplomatic",
          "Deterministic",
          "Detached",
          "Descriptive",
          "Deontological",
          "Deferential",
          "Deconstructionist",
          "Decisive",
          "Data driven",
          "Cynical",
          "Curious",
          "Cryptic",
          "Cruel",
          "Critical",
          "Creative",
          "Cosmopolitan",
          "Convergent",
          "Contrarian",
          "Contemporary",
          "Constructivist",
          "Conscientious",
          "Confrontational",
          "Confident",
          "Condescending",
          "Conciliatory",
          "Conceptual",
          "Competitive",
          "Collectivistic",
          "Collaborative",
          "Closure seeking",
          "Circumspect",
          "Chill",
          "Chaotic",
          "Challenging",
          "Cautious",
          "Casual",
          "Calm",
          "Callous",
          "Calculating",
          "Bombastic",
          "Blunt",
          "Bitter",
          "Big picture",
          "Benevolent",
          "Assertive",
          "Ascetic",
          "Artistic",
          "Arrogant",
          "Anxious",
          "Anthropocentric",
          "Analytical",
          "Altruistic",
          "Agreeable",
          "Adventurous",
          "Adaptable",
          "Acerbic",
          "Accommodating",
          "Accessible",
          "Abstract",
          "Absolutist"
         ],
         "type": "scatter",
         "x": [
          0.07809747044648012,
          0.026711382328956697,
          0.1027827295649019,
          -0.028698987650276838,
          0.0673360588574133,
          -0.03612285115037226,
          -0.0454403832344035,
          -0.03860882907772667,
          -0.06837975522666113,
          -0.0717098365805381,
          -0.004728354166459031,
          0.004395916327274204,
          -0.034219607492882886,
          0.012832887457627512,
          0.04480559266402531,
          -0.07024900157570983,
          0.08337733674022109,
          0.026171950460859284,
          -0.10798867530586738,
          -0.03333478733146074,
          0.03930792492861668,
          0.09354495563748651,
          -0.061912472291069984,
          0.07067951796998068,
          0.07504981506962013,
          0.05335146470377934,
          0.0068752665500172745,
          -0.06799107558488747,
          -0.05269319926688155,
          0.0009392576989050444,
          -0.10244239993640254,
          0.01583473085671145,
          -0.062107878862754116,
          -0.0662660095846032,
          0.04689046593119829,
          0.011053763511479641,
          -0.009968422202303972,
          0.10542824583822073,
          -0.014094858094671482,
          0.02717227293162171,
          -0.014161516229209392,
          0.016007583089071083,
          -0.0343318427741453,
          -0.08096862598760955,
          -0.07796786075790095,
          0.019673795650002872,
          -0.09775222283151913,
          -0.08819333827459676,
          -0.006494523966355407,
          -0.0820794191962404,
          0.053255429511528285,
          0.024080594957892058,
          -0.009745506063227008,
          0.012828947542443849,
          0.08349616172986621,
          -0.023123923434896217,
          -0.05786366435673859,
          -0.057789322112252066,
          0.11674109114808157,
          -0.02255954075828562,
          0.07217584966862224,
          0.08961209842414393,
          -0.0203392462022982,
          -0.048589802509048104,
          -0.0021950174600604824,
          0.10860513917893977,
          -0.01658191613798257,
          0.03432735218714659,
          -0.04015816706549861,
          0.09173643377481888,
          -0.02792510219614077,
          0.032057158581251424,
          -0.016136469362714713,
          -0.015251707688514431,
          0.009016926268883388,
          0.005994296491088948,
          0.08976765282478101,
          0.017388467336676195,
          -0.029777493052732733,
          -0.06080280934708923,
          0.08875306845809856,
          -0.08570689278994154,
          0.05737887200678325,
          -0.034371626594785744,
          0.051056703474550026,
          -0.031984431657936734,
          -0.01816582467869986,
          0.008987489001740272,
          -0.084777540633935,
          0.014000120016142535,
          -0.007899407395279261,
          0.09819087156736168,
          -0.08281855865112352,
          -0.04833210500345317,
          0.03230175712717421,
          -0.02687822449872399,
          -0.04422858574500517,
          0.010292925319668446,
          0.011830392045697627,
          0.04723618719549058,
          -0.012734055812174124,
          0.04024292079120405,
          0.0318647002259065,
          0.0589951613698801,
          -0.014665675125232643,
          0.02781818460966953,
          0.0033279411594241705,
          -0.0021356908590894645,
          0.021622429173235407,
          -0.00955120865147482,
          -0.0064054836429995494,
          0.015407383667148323,
          -0.0531678475720749,
          0.006700866314045986,
          -0.06764378366055414,
          0.06149766943493683,
          0.020255347558853363,
          -0.018899977367179556,
          -0.11311723487427784,
          0.017139636854782127,
          0.07405144521539403,
          0.03772817203222185,
          0.047903987640273836,
          0.006785338611597725,
          -0.08760488599497693,
          -0.05419088540389689,
          -0.06635131555417569,
          -0.013353077911940106,
          0.03887447849750698,
          -0.060506813626389086,
          0.01369066241220131,
          -0.009097201500289046,
          -0.09806094191428479,
          0.02190864254384363,
          0.08102109576541837,
          -0.011352662862398194,
          0.0030747945097603755,
          -0.03360273947186553,
          0.08755221552344508,
          -0.0555919563021372,
          0.036847002660258636,
          0.046042802558896846,
          0.06273046344922212,
          -0.004617012514376701,
          0.1020553116326343,
          0.0705137131073402,
          0.024169801641741335,
          0.05045190758543718,
          -0.022743414857187064,
          0.009970087477283198,
          0.0718616419017678,
          0.09712954888078719,
          0.029321484403951607,
          0.05866961577221952,
          0.0216398448940501,
          0.023802969754968317,
          -0.08499273891888262,
          0.08273274346252468,
          -0.007186334734254983,
          -0.0012145072101934183,
          -0.024644560130714182,
          -0.08591468035806528,
          -0.07829102772039868,
          -0.033749853532688355,
          -0.07643926770173076,
          0.04287360572984917,
          -0.054299508613431476,
          -0.07145931733852805,
          -0.034741038697059155,
          0.08019183249986787,
          0.10083243097321874,
          -0.07657083431260914,
          0.021544120848359844,
          0.09068394520954302,
          -0.00025106054471458073,
          -0.05989135325867797,
          0.0200564143119207,
          -0.04397655312485893,
          0.01970532826412773,
          0.02206704947876093,
          -0.025619108032933074,
          -0.03726605136996212,
          0.001036047302723577,
          -0.011929432925456963,
          -0.015334015402150026,
          -0.0204761814131067,
          -0.018760229341007836,
          -0.022422274813075724,
          -0.08048844546981865,
          0.046967606898494524,
          0.01380082830827662,
          0.010602219751866607,
          0.02016727612578715,
          -0.025272106969148143,
          -0.0051793565565625265,
          -0.053844290681109214,
          -0.1090513750695264,
          0.03066501286954923,
          0.11657070859489864,
          -0.08887720916265102,
          -0.03111294042690997,
          0.0007075867068514522,
          0.01678453894860369,
          -0.01173497137701903,
          -0.03254242207574499,
          0.11307402509134268,
          -0.011102671532117338,
          -0.06311232445335829,
          -0.048929972619618095,
          0.007861429096574281,
          -0.0009536380775659678,
          0.018971457150034312,
          0.05075082763319721,
          0.030764781126550515,
          -0.0037088285680657025,
          -0.02717911286209597,
          -0.0031623716621337057,
          -0.002060757106763254,
          -0.03921004669322344
         ],
         "xaxis": "x2",
         "y": [
          1,
          1,
          1,
          1,
          1,
          1,
          1,
          1,
          1,
          1,
          1,
          1,
          1,
          1,
          1,
          1,
          1,
          1,
          1,
          1,
          1,
          1,
          1,
          1,
          1,
          1,
          1,
          1,
          1,
          1,
          1,
          1,
          1,
          1,
          1,
          1,
          1,
          1,
          1,
          1,
          1,
          1,
          1,
          1,
          1,
          1,
          1,
          1,
          1,
          1,
          1,
          1,
          1,
          1,
          1,
          1,
          1,
          1,
          1,
          1,
          1,
          1,
          1,
          1,
          1,
          1,
          1,
          1,
          1,
          1,
          1,
          1,
          1,
          1,
          1,
          1,
          1,
          1,
          1,
          1,
          1,
          1,
          1,
          1,
          1,
          1,
          1,
          1,
          1,
          1,
          1,
          1,
          1,
          1,
          1,
          1,
          1,
          1,
          1,
          1,
          1,
          1,
          1,
          1,
          1,
          1,
          1,
          1,
          1,
          1,
          1,
          1,
          1,
          1,
          1,
          1,
          1,
          1,
          1,
          1,
          1,
          1,
          1,
          1,
          1,
          1,
          1,
          1,
          1,
          1,
          1,
          1,
          1,
          1,
          1,
          1,
          1,
          1,
          1,
          1,
          1,
          1,
          1,
          1,
          1,
          1,
          1,
          1,
          1,
          1,
          1,
          1,
          1,
          1,
          1,
          1,
          1,
          1,
          1,
          1,
          1,
          1,
          1,
          1,
          1,
          1,
          1,
          1,
          1,
          1,
          1,
          1,
          1,
          1,
          1,
          1,
          1,
          1,
          1,
          1,
          1,
          1,
          1,
          1,
          1,
          1,
          1,
          1,
          1,
          1,
          1,
          1,
          1,
          1,
          1,
          1,
          1,
          1,
          1,
          1,
          1,
          1,
          1,
          1,
          1,
          1,
          1,
          1,
          1,
          1,
          1,
          1,
          1,
          1,
          1,
          1,
          1,
          1,
          1
         ],
         "yaxis": "y2"
        },
        {
         "hovertemplate": "<b>%{text}</b><br>Normalized Projection: %{x:.3f}<extra></extra>",
         "marker": {
          "color": "limegreen",
          "line": {
           "color": "black",
           "width": 1
          },
          "opacity": 1,
          "size": 8,
          "symbol": "diamond"
         },
         "mode": "markers",
         "showlegend": false,
         "text": [
          "Witty",
          "Understated",
          "Theatrical",
          "Rhetorical",
          "Reserved",
          "Nonchalant",
          "Metaphorical",
          "Melodramatic",
          "Literal",
          "Impulsive",
          "Impatient",
          "Generous",
          "Eloquent",
          "Efficient",
          "Dramatic",
          "Dispassionate",
          "Concise",
          "Charismatic",
          "Avoidant",
          "Animated"
         ],
         "type": "scatter",
         "x": [
          0.1216594525196648,
          -0.16067753996771938,
          0.14017763728048865,
          0.12696958279147222,
          -0.12345105686968653,
          -0.11600204567893783,
          0.15007306593855932,
          0.12172283251843853,
          -0.14578187355710095,
          -0.1473425286842597,
          -0.1152124392175366,
          0.12034769030531073,
          0.16182609946583448,
          -0.1286277695380555,
          0.13630873450136213,
          -0.11820826802975447,
          -0.1468810201331296,
          0.1641949929162041,
          -0.15104281033186262,
          0.14969006306991284
         ],
         "xaxis": "x2",
         "y": [
          1,
          1,
          1,
          1,
          1,
          1,
          1,
          1,
          1,
          1,
          1,
          1,
          1,
          1,
          1,
          1,
          1,
          1,
          1,
          1
         ],
         "yaxis": "y2"
        },
        {
         "hoverinfo": "skip",
         "line": {
          "color": "black",
          "width": 1
         },
         "mode": "lines",
         "showlegend": false,
         "type": "scatter",
         "x": [
          -0.16067753996771938,
          -0.16067753996771938
         ],
         "xaxis": "x2",
         "y": [
          1,
          1.45
         ],
         "yaxis": "y2"
        },
        {
         "hoverinfo": "skip",
         "line": {
          "color": "black",
          "width": 1
         },
         "mode": "lines",
         "showlegend": false,
         "type": "scatter",
         "x": [
          -0.15104281033186262,
          -0.15104281033186262
         ],
         "xaxis": "x2",
         "y": [
          1,
          0.6
         ],
         "yaxis": "y2"
        },
        {
         "hoverinfo": "skip",
         "line": {
          "color": "black",
          "width": 1
         },
         "mode": "lines",
         "showlegend": false,
         "type": "scatter",
         "x": [
          -0.1473425286842597,
          -0.1473425286842597
         ],
         "xaxis": "x2",
         "y": [
          1,
          1.9
         ],
         "yaxis": "y2"
        },
        {
         "hoverinfo": "skip",
         "line": {
          "color": "black",
          "width": 1
         },
         "mode": "lines",
         "showlegend": false,
         "type": "scatter",
         "x": [
          -0.1468810201331296,
          -0.1468810201331296
         ],
         "xaxis": "x2",
         "y": [
          1,
          0.15
         ],
         "yaxis": "y2"
        },
        {
         "hoverinfo": "skip",
         "line": {
          "color": "black",
          "width": 1
         },
         "mode": "lines",
         "showlegend": false,
         "type": "scatter",
         "x": [
          -0.14578187355710095,
          -0.14578187355710095
         ],
         "xaxis": "x2",
         "y": [
          1,
          1.6
         ],
         "yaxis": "y2"
        },
        {
         "hoverinfo": "skip",
         "line": {
          "color": "black",
          "width": 1
         },
         "mode": "lines",
         "showlegend": false,
         "type": "scatter",
         "x": [
          -0.1286277695380555,
          -0.1286277695380555
         ],
         "xaxis": "x2",
         "y": [
          1,
          0.45
         ],
         "yaxis": "y2"
        },
        {
         "hoverinfo": "skip",
         "line": {
          "color": "black",
          "width": 1
         },
         "mode": "lines",
         "showlegend": false,
         "type": "scatter",
         "x": [
          -0.12345105686968653,
          -0.12345105686968653
         ],
         "xaxis": "x2",
         "y": [
          1,
          1.3
         ],
         "yaxis": "y2"
        },
        {
         "hoverinfo": "skip",
         "line": {
          "color": "black",
          "width": 1
         },
         "mode": "lines",
         "showlegend": false,
         "type": "scatter",
         "x": [
          -0.11820826802975447,
          -0.11820826802975447
         ],
         "xaxis": "x2",
         "y": [
          1,
          0.75
         ],
         "yaxis": "y2"
        },
        {
         "hoverinfo": "skip",
         "line": {
          "color": "black",
          "width": 1
         },
         "mode": "lines",
         "showlegend": false,
         "type": "scatter",
         "x": [
          -0.11600204567893783,
          -0.11600204567893783
         ],
         "xaxis": "x2",
         "y": [
          1,
          1.75
         ],
         "yaxis": "y2"
        },
        {
         "hoverinfo": "skip",
         "line": {
          "color": "black",
          "width": 1
         },
         "mode": "lines",
         "showlegend": false,
         "type": "scatter",
         "x": [
          -0.1152124392175366,
          -0.1152124392175366
         ],
         "xaxis": "x2",
         "y": [
          1,
          0.3
         ],
         "yaxis": "y2"
        },
        {
         "hoverinfo": "skip",
         "line": {
          "color": "black",
          "width": 1
         },
         "mode": "lines",
         "showlegend": false,
         "type": "scatter",
         "x": [
          0.12034769030531073,
          0.12034769030531073
         ],
         "xaxis": "x2",
         "y": [
          1,
          1.45
         ],
         "yaxis": "y2"
        },
        {
         "hoverinfo": "skip",
         "line": {
          "color": "black",
          "width": 1
         },
         "mode": "lines",
         "showlegend": false,
         "type": "scatter",
         "x": [
          0.1216594525196648,
          0.1216594525196648
         ],
         "xaxis": "x2",
         "y": [
          1,
          0.6
         ],
         "yaxis": "y2"
        },
        {
         "hoverinfo": "skip",
         "line": {
          "color": "black",
          "width": 1
         },
         "mode": "lines",
         "showlegend": false,
         "type": "scatter",
         "x": [
          0.12172283251843853,
          0.12172283251843853
         ],
         "xaxis": "x2",
         "y": [
          1,
          1.9
         ],
         "yaxis": "y2"
        },
        {
         "hoverinfo": "skip",
         "line": {
          "color": "black",
          "width": 1
         },
         "mode": "lines",
         "showlegend": false,
         "type": "scatter",
         "x": [
          0.12696958279147222,
          0.12696958279147222
         ],
         "xaxis": "x2",
         "y": [
          1,
          0.15
         ],
         "yaxis": "y2"
        },
        {
         "hoverinfo": "skip",
         "line": {
          "color": "black",
          "width": 1
         },
         "mode": "lines",
         "showlegend": false,
         "type": "scatter",
         "x": [
          0.13630873450136213,
          0.13630873450136213
         ],
         "xaxis": "x2",
         "y": [
          1,
          1.6
         ],
         "yaxis": "y2"
        },
        {
         "hoverinfo": "skip",
         "line": {
          "color": "black",
          "width": 1
         },
         "mode": "lines",
         "showlegend": false,
         "type": "scatter",
         "x": [
          0.14017763728048865,
          0.14017763728048865
         ],
         "xaxis": "x2",
         "y": [
          1,
          0.45
         ],
         "yaxis": "y2"
        },
        {
         "hoverinfo": "skip",
         "line": {
          "color": "black",
          "width": 1
         },
         "mode": "lines",
         "showlegend": false,
         "type": "scatter",
         "x": [
          0.14969006306991284,
          0.14969006306991284
         ],
         "xaxis": "x2",
         "y": [
          1,
          1.3
         ],
         "yaxis": "y2"
        },
        {
         "hoverinfo": "skip",
         "line": {
          "color": "black",
          "width": 1
         },
         "mode": "lines",
         "showlegend": false,
         "type": "scatter",
         "x": [
          0.15007306593855932,
          0.15007306593855932
         ],
         "xaxis": "x2",
         "y": [
          1,
          0.75
         ],
         "yaxis": "y2"
        },
        {
         "hoverinfo": "skip",
         "line": {
          "color": "black",
          "width": 1
         },
         "mode": "lines",
         "showlegend": false,
         "type": "scatter",
         "x": [
          0.16182609946583448,
          0.16182609946583448
         ],
         "xaxis": "x2",
         "y": [
          1,
          1.75
         ],
         "yaxis": "y2"
        },
        {
         "hoverinfo": "skip",
         "line": {
          "color": "black",
          "width": 1
         },
         "mode": "lines",
         "showlegend": false,
         "type": "scatter",
         "x": [
          0.1641949929162041,
          0.1641949929162041
         ],
         "xaxis": "x2",
         "y": [
          1,
          0.3
         ],
         "yaxis": "y2"
        },
        {
         "hoverinfo": "skip",
         "marker": {
          "color": "limegreen"
         },
         "opacity": 0.7,
         "showlegend": false,
         "type": "bar",
         "width": 0.008663267543571296,
         "x": [
          -0.15526299775298733,
          -0.1444339133235232,
          -0.13360482889405909,
          -0.12277574446459497,
          -0.11194666003513086,
          -0.10111757560566675,
          -0.09028849117620263,
          -0.07945940674673851,
          -0.0686303223172744,
          -0.057801237887810275,
          -0.04697215345834616,
          -0.036143069028882056,
          -0.025313984599417944,
          -0.014484900169953824,
          -0.003655815740489704,
          0.007173268688974416,
          0.018002353118438535,
          0.028831437547902655,
          0.039660521977366775,
          0.050489606406830895,
          0.061318690836295,
          0.0721477752657591,
          0.08297685969522323,
          0.09380594412468733,
          0.10463502855415144,
          0.11546411298361556,
          0.12629319741307968,
          0.1371222818425438,
          0.14795136627200792,
          0.15878045070147204
         ],
         "xaxis": "x2",
         "y": [
          0.08181818181818182,
          0.12272727272727273,
          0.04090909090909091,
          0.08181818181818182,
          0.20454545454545453,
          0.12272727272727273,
          0.24545454545454545,
          0.3681818181818182,
          0.32727272727272727,
          0.5727272727272728,
          0.24545454545454545,
          0.6136363636363636,
          0.5727272727272728,
          0.8181818181818181,
          0.7363636363636364,
          0.6136363636363636,
          0.9,
          0.5318181818181819,
          0.32727272727272727,
          0.40909090909090906,
          0.20454545454545453,
          0.2863636363636364,
          0.2863636363636364,
          0.32727272727272727,
          0.20454545454545453,
          0.16363636363636364,
          0.12272727272727273,
          0.08181818181818182,
          0.08181818181818182,
          0.08181818181818182
         ],
         "yaxis": "y2"
        }
       ],
       "layout": {
        "annotations": [
         {
          "font": {
           "size": 16
          },
          "showarrow": false,
          "text": "PC2 Cosine Similarity",
          "x": 0.5,
          "xanchor": "center",
          "xref": "paper",
          "y": 1,
          "yanchor": "bottom",
          "yref": "paper"
         },
         {
          "font": {
           "size": 16
          },
          "showarrow": false,
          "text": "PC2 Normalized Projection",
          "x": 0.5,
          "xanchor": "center",
          "xref": "paper",
          "y": 0.45,
          "yanchor": "bottom",
          "yref": "paper"
         },
         {
          "bgcolor": "rgba(255, 255, 255, 0.9)",
          "bordercolor": "black",
          "borderwidth": 1,
          "font": {
           "color": "black",
           "size": 10
          },
          "showarrow": false,
          "text": "Understated",
          "x": -0.8192228001958491,
          "xref": "x",
          "y": 1.45,
          "yref": "y"
         },
         {
          "bgcolor": "rgba(255, 255, 255, 0.9)",
          "bordercolor": "black",
          "borderwidth": 1,
          "font": {
           "color": "black",
           "size": 10
          },
          "showarrow": false,
          "text": "Literal",
          "x": -0.8191491095067805,
          "xref": "x",
          "y": 0.6,
          "yref": "y"
         },
         {
          "bgcolor": "rgba(255, 255, 255, 0.9)",
          "bordercolor": "black",
          "borderwidth": 1,
          "font": {
           "color": "black",
           "size": 10
          },
          "showarrow": false,
          "text": "Materialist",
          "x": -0.7497868695861059,
          "xref": "x",
          "y": 1.9,
          "yref": "y"
         },
         {
          "bgcolor": "rgba(255, 255, 255, 0.9)",
          "bordercolor": "black",
          "borderwidth": 1,
          "font": {
           "color": "black",
           "size": 10
          },
          "showarrow": false,
          "text": "Efficient",
          "x": -0.6859934567245802,
          "xref": "x",
          "y": 0.15,
          "yref": "y"
         },
         {
          "bgcolor": "rgba(255, 255, 255, 0.9)",
          "bordercolor": "black",
          "borderwidth": 1,
          "font": {
           "color": "black",
           "size": 10
          },
          "showarrow": false,
          "text": "Concise",
          "x": -0.6784033162513433,
          "xref": "x",
          "y": 1.6,
          "yref": "y"
         },
         {
          "bgcolor": "rgba(255, 255, 255, 0.9)",
          "bordercolor": "black",
          "borderwidth": 1,
          "font": {
           "color": "black",
           "size": 10
          },
          "showarrow": false,
          "text": "Reserved",
          "x": -0.6494440733171283,
          "xref": "x",
          "y": 0.45,
          "yref": "y"
         },
         {
          "bgcolor": "rgba(255, 255, 255, 0.9)",
          "bordercolor": "black",
          "borderwidth": 1,
          "font": {
           "color": "black",
           "size": 10
          },
          "showarrow": false,
          "text": "Grounded",
          "x": -0.6307292562526469,
          "xref": "x",
          "y": 1.3,
          "yref": "y"
         },
         {
          "bgcolor": "rgba(255, 255, 255, 0.9)",
          "bordercolor": "black",
          "borderwidth": 1,
          "font": {
           "color": "black",
           "size": 10
          },
          "showarrow": false,
          "text": "Convergent",
          "x": -0.6251603504787093,
          "xref": "x",
          "y": 0.75,
          "yref": "y"
         },
         {
          "bgcolor": "rgba(255, 255, 255, 0.9)",
          "bordercolor": "black",
          "borderwidth": 1,
          "font": {
           "color": "black",
           "size": 10
          },
          "showarrow": false,
          "text": "Avoidant",
          "x": -0.6230031913227695,
          "xref": "x",
          "y": 1.75,
          "yref": "y"
         },
         {
          "bgcolor": "rgba(255, 255, 255, 0.9)",
          "bordercolor": "black",
          "borderwidth": 1,
          "font": {
           "color": "black",
           "size": 10
          },
          "showarrow": false,
          "text": "Dispassionate",
          "x": -0.6204005930390619,
          "xref": "x",
          "y": 0.3,
          "yref": "y"
         },
         {
          "bgcolor": "rgba(255, 255, 255, 0.9)",
          "bordercolor": "black",
          "borderwidth": 1,
          "font": {
           "color": "black",
           "size": 10
          },
          "showarrow": false,
          "text": "Theatrical",
          "x": 0.6710892434357568,
          "xref": "x",
          "y": 1.45,
          "yref": "y"
         },
         {
          "bgcolor": "rgba(255, 255, 255, 0.9)",
          "bordercolor": "black",
          "borderwidth": 1,
          "font": {
           "color": "black",
           "size": 10
          },
          "showarrow": false,
          "text": "Philosophical",
          "x": 0.6750559569700519,
          "xref": "x",
          "y": 0.6,
          "yref": "y"
         },
         {
          "bgcolor": "rgba(255, 255, 255, 0.9)",
          "bordercolor": "black",
          "borderwidth": 1,
          "font": {
           "color": "black",
           "size": 10
          },
          "showarrow": false,
          "text": "Artistic",
          "x": 0.6869181051511334,
          "xref": "x",
          "y": 1.9,
          "yref": "y"
         },
         {
          "bgcolor": "rgba(255, 255, 255, 0.9)",
          "bordercolor": "black",
          "borderwidth": 1,
          "font": {
           "color": "black",
           "size": 10
          },
          "showarrow": false,
          "text": "Dramatic",
          "x": 0.7071356898870715,
          "xref": "x",
          "y": 0.15,
          "yref": "y"
         },
         {
          "bgcolor": "rgba(255, 255, 255, 0.9)",
          "bordercolor": "black",
          "borderwidth": 1,
          "font": {
           "color": "black",
           "size": 10
          },
          "showarrow": false,
          "text": "Creative",
          "x": 0.7093970627880898,
          "xref": "x",
          "y": 1.6,
          "yref": "y"
         },
         {
          "bgcolor": "rgba(255, 255, 255, 0.9)",
          "bordercolor": "black",
          "borderwidth": 1,
          "font": {
           "color": "black",
           "size": 10
          },
          "showarrow": false,
          "text": "Animated",
          "x": 0.7549854031853053,
          "xref": "x",
          "y": 0.45,
          "yref": "y"
         },
         {
          "bgcolor": "rgba(255, 255, 255, 0.9)",
          "bordercolor": "black",
          "borderwidth": 1,
          "font": {
           "color": "black",
           "size": 10
          },
          "showarrow": false,
          "text": "Eloquent",
          "x": 0.7695472062737438,
          "xref": "x",
          "y": 1.3,
          "yref": "y"
         },
         {
          "bgcolor": "rgba(255, 255, 255, 0.9)",
          "bordercolor": "black",
          "borderwidth": 1,
          "font": {
           "color": "black",
           "size": 10
          },
          "showarrow": false,
          "text": "Metaphorical",
          "x": 0.779313783322524,
          "xref": "x",
          "y": 0.75,
          "yref": "y"
         },
         {
          "bgcolor": "rgba(255, 255, 255, 0.9)",
          "bordercolor": "black",
          "borderwidth": 1,
          "font": {
           "color": "black",
           "size": 10
          },
          "showarrow": false,
          "text": "Rhetorical",
          "x": 0.8108061805411999,
          "xref": "x",
          "y": 1.75,
          "yref": "y"
         },
         {
          "bgcolor": "rgba(255, 255, 255, 0.9)",
          "bordercolor": "black",
          "borderwidth": 1,
          "font": {
           "color": "black",
           "size": 10
          },
          "showarrow": false,
          "text": "Charismatic",
          "x": 0.864785864538008,
          "xref": "x",
          "y": 0.3,
          "yref": "y"
         },
         {
          "bgcolor": "rgba(255, 255, 255, 0.9)",
          "bordercolor": "red",
          "borderwidth": 1,
          "font": {
           "color": "red",
           "size": 14
          },
          "showarrow": false,
          "text": "Assistant",
          "x": 0.008165276161506786,
          "xref": "x",
          "y": 2,
          "yref": "y"
         },
         {
          "bgcolor": "rgba(255, 255, 255, 0.9)",
          "bordercolor": "black",
          "borderwidth": 1,
          "font": {
           "color": "black",
           "size": 10
          },
          "showarrow": false,
          "text": "Understated",
          "x": -0.16067753996771938,
          "xref": "x2",
          "y": 1.45,
          "yref": "y2"
         },
         {
          "bgcolor": "rgba(255, 255, 255, 0.9)",
          "bordercolor": "black",
          "borderwidth": 1,
          "font": {
           "color": "black",
           "size": 10
          },
          "showarrow": false,
          "text": "Avoidant",
          "x": -0.15104281033186262,
          "xref": "x2",
          "y": 0.6,
          "yref": "y2"
         },
         {
          "bgcolor": "rgba(255, 255, 255, 0.9)",
          "bordercolor": "black",
          "borderwidth": 1,
          "font": {
           "color": "black",
           "size": 10
          },
          "showarrow": false,
          "text": "Impulsive",
          "x": -0.1473425286842597,
          "xref": "x2",
          "y": 1.9,
          "yref": "y2"
         },
         {
          "bgcolor": "rgba(255, 255, 255, 0.9)",
          "bordercolor": "black",
          "borderwidth": 1,
          "font": {
           "color": "black",
           "size": 10
          },
          "showarrow": false,
          "text": "Concise",
          "x": -0.1468810201331296,
          "xref": "x2",
          "y": 0.15,
          "yref": "y2"
         },
         {
          "bgcolor": "rgba(255, 255, 255, 0.9)",
          "bordercolor": "black",
          "borderwidth": 1,
          "font": {
           "color": "black",
           "size": 10
          },
          "showarrow": false,
          "text": "Literal",
          "x": -0.14578187355710095,
          "xref": "x2",
          "y": 1.6,
          "yref": "y2"
         },
         {
          "bgcolor": "rgba(255, 255, 255, 0.9)",
          "bordercolor": "black",
          "borderwidth": 1,
          "font": {
           "color": "black",
           "size": 10
          },
          "showarrow": false,
          "text": "Efficient",
          "x": -0.1286277695380555,
          "xref": "x2",
          "y": 0.45,
          "yref": "y2"
         },
         {
          "bgcolor": "rgba(255, 255, 255, 0.9)",
          "bordercolor": "black",
          "borderwidth": 1,
          "font": {
           "color": "black",
           "size": 10
          },
          "showarrow": false,
          "text": "Reserved",
          "x": -0.12345105686968653,
          "xref": "x2",
          "y": 1.3,
          "yref": "y2"
         },
         {
          "bgcolor": "rgba(255, 255, 255, 0.9)",
          "bordercolor": "black",
          "borderwidth": 1,
          "font": {
           "color": "black",
           "size": 10
          },
          "showarrow": false,
          "text": "Dispassionate",
          "x": -0.11820826802975447,
          "xref": "x2",
          "y": 0.75,
          "yref": "y2"
         },
         {
          "bgcolor": "rgba(255, 255, 255, 0.9)",
          "bordercolor": "black",
          "borderwidth": 1,
          "font": {
           "color": "black",
           "size": 10
          },
          "showarrow": false,
          "text": "Nonchalant",
          "x": -0.11600204567893783,
          "xref": "x2",
          "y": 1.75,
          "yref": "y2"
         },
         {
          "bgcolor": "rgba(255, 255, 255, 0.9)",
          "bordercolor": "black",
          "borderwidth": 1,
          "font": {
           "color": "black",
           "size": 10
          },
          "showarrow": false,
          "text": "Impatient",
          "x": -0.1152124392175366,
          "xref": "x2",
          "y": 0.3,
          "yref": "y2"
         },
         {
          "bgcolor": "rgba(255, 255, 255, 0.9)",
          "bordercolor": "black",
          "borderwidth": 1,
          "font": {
           "color": "black",
           "size": 10
          },
          "showarrow": false,
          "text": "Generous",
          "x": 0.12034769030531073,
          "xref": "x2",
          "y": 1.45,
          "yref": "y2"
         },
         {
          "bgcolor": "rgba(255, 255, 255, 0.9)",
          "bordercolor": "black",
          "borderwidth": 1,
          "font": {
           "color": "black",
           "size": 10
          },
          "showarrow": false,
          "text": "Witty",
          "x": 0.1216594525196648,
          "xref": "x2",
          "y": 0.6,
          "yref": "y2"
         },
         {
          "bgcolor": "rgba(255, 255, 255, 0.9)",
          "bordercolor": "black",
          "borderwidth": 1,
          "font": {
           "color": "black",
           "size": 10
          },
          "showarrow": false,
          "text": "Melodramatic",
          "x": 0.12172283251843853,
          "xref": "x2",
          "y": 1.9,
          "yref": "y2"
         },
         {
          "bgcolor": "rgba(255, 255, 255, 0.9)",
          "bordercolor": "black",
          "borderwidth": 1,
          "font": {
           "color": "black",
           "size": 10
          },
          "showarrow": false,
          "text": "Rhetorical",
          "x": 0.12696958279147222,
          "xref": "x2",
          "y": 0.15,
          "yref": "y2"
         },
         {
          "bgcolor": "rgba(255, 255, 255, 0.9)",
          "bordercolor": "black",
          "borderwidth": 1,
          "font": {
           "color": "black",
           "size": 10
          },
          "showarrow": false,
          "text": "Dramatic",
          "x": 0.13630873450136213,
          "xref": "x2",
          "y": 1.6,
          "yref": "y2"
         },
         {
          "bgcolor": "rgba(255, 255, 255, 0.9)",
          "bordercolor": "black",
          "borderwidth": 1,
          "font": {
           "color": "black",
           "size": 10
          },
          "showarrow": false,
          "text": "Theatrical",
          "x": 0.14017763728048865,
          "xref": "x2",
          "y": 0.45,
          "yref": "y2"
         },
         {
          "bgcolor": "rgba(255, 255, 255, 0.9)",
          "bordercolor": "black",
          "borderwidth": 1,
          "font": {
           "color": "black",
           "size": 10
          },
          "showarrow": false,
          "text": "Animated",
          "x": 0.14969006306991284,
          "xref": "x2",
          "y": 1.3,
          "yref": "y2"
         },
         {
          "bgcolor": "rgba(255, 255, 255, 0.9)",
          "bordercolor": "black",
          "borderwidth": 1,
          "font": {
           "color": "black",
           "size": 10
          },
          "showarrow": false,
          "text": "Metaphorical",
          "x": 0.15007306593855932,
          "xref": "x2",
          "y": 0.75,
          "yref": "y2"
         },
         {
          "bgcolor": "rgba(255, 255, 255, 0.9)",
          "bordercolor": "black",
          "borderwidth": 1,
          "font": {
           "color": "black",
           "size": 10
          },
          "showarrow": false,
          "text": "Eloquent",
          "x": 0.16182609946583448,
          "xref": "x2",
          "y": 1.75,
          "yref": "y2"
         },
         {
          "bgcolor": "rgba(255, 255, 255, 0.9)",
          "bordercolor": "black",
          "borderwidth": 1,
          "font": {
           "color": "black",
           "size": 10
          },
          "showarrow": false,
          "text": "Charismatic",
          "x": 0.1641949929162041,
          "xref": "x2",
          "y": 0.3,
          "yref": "y2"
         },
         {
          "bgcolor": "rgba(255, 255, 255, 0.9)",
          "bordercolor": "red",
          "borderwidth": 1,
          "font": {
           "color": "red",
           "size": 14
          },
          "showarrow": false,
          "text": "Assistant",
          "x": 0.002244778553328363,
          "xref": "x2",
          "y": 2,
          "yref": "y2"
         }
        ],
        "height": 800,
        "shapes": [
         {
          "line": {
           "color": "gray",
           "dash": "solid",
           "width": 1
          },
          "opacity": 0.7,
          "type": "line",
          "x0": 0,
          "x1": 0,
          "xref": "x",
          "y0": 0,
          "y1": 1,
          "yref": "y domain"
         },
         {
          "line": {
           "color": "red",
           "dash": "dash",
           "width": 1
          },
          "opacity": 1,
          "type": "line",
          "x0": 0.008165276161506786,
          "x1": 0.008165276161506786,
          "xref": "x",
          "y0": 0,
          "y1": 1,
          "yref": "y domain"
         },
         {
          "line": {
           "color": "gray",
           "dash": "solid",
           "width": 1
          },
          "opacity": 0.7,
          "type": "line",
          "x0": 0,
          "x1": 0,
          "xref": "x2",
          "y0": 0,
          "y1": 1,
          "yref": "y2 domain"
         },
         {
          "line": {
           "color": "red",
           "dash": "dash",
           "width": 1
          },
          "opacity": 1,
          "type": "line",
          "x0": 0.002244778553328363,
          "x1": 0.002244778553328363,
          "xref": "x2",
          "y0": 0,
          "y1": 1,
          "yref": "y2 domain"
         }
        ],
        "showlegend": false,
        "template": {
         "data": {
          "bar": [
           {
            "error_x": {
             "color": "#2a3f5f"
            },
            "error_y": {
             "color": "#2a3f5f"
            },
            "marker": {
             "line": {
              "color": "#E5ECF6",
              "width": 0.5
             },
             "pattern": {
              "fillmode": "overlay",
              "size": 10,
              "solidity": 0.2
             }
            },
            "type": "bar"
           }
          ],
          "barpolar": [
           {
            "marker": {
             "line": {
              "color": "#E5ECF6",
              "width": 0.5
             },
             "pattern": {
              "fillmode": "overlay",
              "size": 10,
              "solidity": 0.2
             }
            },
            "type": "barpolar"
           }
          ],
          "carpet": [
           {
            "aaxis": {
             "endlinecolor": "#2a3f5f",
             "gridcolor": "white",
             "linecolor": "white",
             "minorgridcolor": "white",
             "startlinecolor": "#2a3f5f"
            },
            "baxis": {
             "endlinecolor": "#2a3f5f",
             "gridcolor": "white",
             "linecolor": "white",
             "minorgridcolor": "white",
             "startlinecolor": "#2a3f5f"
            },
            "type": "carpet"
           }
          ],
          "choropleth": [
           {
            "colorbar": {
             "outlinewidth": 0,
             "ticks": ""
            },
            "type": "choropleth"
           }
          ],
          "contour": [
           {
            "colorbar": {
             "outlinewidth": 0,
             "ticks": ""
            },
            "colorscale": [
             [
              0,
              "#0d0887"
             ],
             [
              0.1111111111111111,
              "#46039f"
             ],
             [
              0.2222222222222222,
              "#7201a8"
             ],
             [
              0.3333333333333333,
              "#9c179e"
             ],
             [
              0.4444444444444444,
              "#bd3786"
             ],
             [
              0.5555555555555556,
              "#d8576b"
             ],
             [
              0.6666666666666666,
              "#ed7953"
             ],
             [
              0.7777777777777778,
              "#fb9f3a"
             ],
             [
              0.8888888888888888,
              "#fdca26"
             ],
             [
              1,
              "#f0f921"
             ]
            ],
            "type": "contour"
           }
          ],
          "contourcarpet": [
           {
            "colorbar": {
             "outlinewidth": 0,
             "ticks": ""
            },
            "type": "contourcarpet"
           }
          ],
          "heatmap": [
           {
            "colorbar": {
             "outlinewidth": 0,
             "ticks": ""
            },
            "colorscale": [
             [
              0,
              "#0d0887"
             ],
             [
              0.1111111111111111,
              "#46039f"
             ],
             [
              0.2222222222222222,
              "#7201a8"
             ],
             [
              0.3333333333333333,
              "#9c179e"
             ],
             [
              0.4444444444444444,
              "#bd3786"
             ],
             [
              0.5555555555555556,
              "#d8576b"
             ],
             [
              0.6666666666666666,
              "#ed7953"
             ],
             [
              0.7777777777777778,
              "#fb9f3a"
             ],
             [
              0.8888888888888888,
              "#fdca26"
             ],
             [
              1,
              "#f0f921"
             ]
            ],
            "type": "heatmap"
           }
          ],
          "heatmapgl": [
           {
            "colorbar": {
             "outlinewidth": 0,
             "ticks": ""
            },
            "colorscale": [
             [
              0,
              "#0d0887"
             ],
             [
              0.1111111111111111,
              "#46039f"
             ],
             [
              0.2222222222222222,
              "#7201a8"
             ],
             [
              0.3333333333333333,
              "#9c179e"
             ],
             [
              0.4444444444444444,
              "#bd3786"
             ],
             [
              0.5555555555555556,
              "#d8576b"
             ],
             [
              0.6666666666666666,
              "#ed7953"
             ],
             [
              0.7777777777777778,
              "#fb9f3a"
             ],
             [
              0.8888888888888888,
              "#fdca26"
             ],
             [
              1,
              "#f0f921"
             ]
            ],
            "type": "heatmapgl"
           }
          ],
          "histogram": [
           {
            "marker": {
             "pattern": {
              "fillmode": "overlay",
              "size": 10,
              "solidity": 0.2
             }
            },
            "type": "histogram"
           }
          ],
          "histogram2d": [
           {
            "colorbar": {
             "outlinewidth": 0,
             "ticks": ""
            },
            "colorscale": [
             [
              0,
              "#0d0887"
             ],
             [
              0.1111111111111111,
              "#46039f"
             ],
             [
              0.2222222222222222,
              "#7201a8"
             ],
             [
              0.3333333333333333,
              "#9c179e"
             ],
             [
              0.4444444444444444,
              "#bd3786"
             ],
             [
              0.5555555555555556,
              "#d8576b"
             ],
             [
              0.6666666666666666,
              "#ed7953"
             ],
             [
              0.7777777777777778,
              "#fb9f3a"
             ],
             [
              0.8888888888888888,
              "#fdca26"
             ],
             [
              1,
              "#f0f921"
             ]
            ],
            "type": "histogram2d"
           }
          ],
          "histogram2dcontour": [
           {
            "colorbar": {
             "outlinewidth": 0,
             "ticks": ""
            },
            "colorscale": [
             [
              0,
              "#0d0887"
             ],
             [
              0.1111111111111111,
              "#46039f"
             ],
             [
              0.2222222222222222,
              "#7201a8"
             ],
             [
              0.3333333333333333,
              "#9c179e"
             ],
             [
              0.4444444444444444,
              "#bd3786"
             ],
             [
              0.5555555555555556,
              "#d8576b"
             ],
             [
              0.6666666666666666,
              "#ed7953"
             ],
             [
              0.7777777777777778,
              "#fb9f3a"
             ],
             [
              0.8888888888888888,
              "#fdca26"
             ],
             [
              1,
              "#f0f921"
             ]
            ],
            "type": "histogram2dcontour"
           }
          ],
          "mesh3d": [
           {
            "colorbar": {
             "outlinewidth": 0,
             "ticks": ""
            },
            "type": "mesh3d"
           }
          ],
          "parcoords": [
           {
            "line": {
             "colorbar": {
              "outlinewidth": 0,
              "ticks": ""
             }
            },
            "type": "parcoords"
           }
          ],
          "pie": [
           {
            "automargin": true,
            "type": "pie"
           }
          ],
          "scatter": [
           {
            "fillpattern": {
             "fillmode": "overlay",
             "size": 10,
             "solidity": 0.2
            },
            "type": "scatter"
           }
          ],
          "scatter3d": [
           {
            "line": {
             "colorbar": {
              "outlinewidth": 0,
              "ticks": ""
             }
            },
            "marker": {
             "colorbar": {
              "outlinewidth": 0,
              "ticks": ""
             }
            },
            "type": "scatter3d"
           }
          ],
          "scattercarpet": [
           {
            "marker": {
             "colorbar": {
              "outlinewidth": 0,
              "ticks": ""
             }
            },
            "type": "scattercarpet"
           }
          ],
          "scattergeo": [
           {
            "marker": {
             "colorbar": {
              "outlinewidth": 0,
              "ticks": ""
             }
            },
            "type": "scattergeo"
           }
          ],
          "scattergl": [
           {
            "marker": {
             "colorbar": {
              "outlinewidth": 0,
              "ticks": ""
             }
            },
            "type": "scattergl"
           }
          ],
          "scattermapbox": [
           {
            "marker": {
             "colorbar": {
              "outlinewidth": 0,
              "ticks": ""
             }
            },
            "type": "scattermapbox"
           }
          ],
          "scatterpolar": [
           {
            "marker": {
             "colorbar": {
              "outlinewidth": 0,
              "ticks": ""
             }
            },
            "type": "scatterpolar"
           }
          ],
          "scatterpolargl": [
           {
            "marker": {
             "colorbar": {
              "outlinewidth": 0,
              "ticks": ""
             }
            },
            "type": "scatterpolargl"
           }
          ],
          "scatterternary": [
           {
            "marker": {
             "colorbar": {
              "outlinewidth": 0,
              "ticks": ""
             }
            },
            "type": "scatterternary"
           }
          ],
          "surface": [
           {
            "colorbar": {
             "outlinewidth": 0,
             "ticks": ""
            },
            "colorscale": [
             [
              0,
              "#0d0887"
             ],
             [
              0.1111111111111111,
              "#46039f"
             ],
             [
              0.2222222222222222,
              "#7201a8"
             ],
             [
              0.3333333333333333,
              "#9c179e"
             ],
             [
              0.4444444444444444,
              "#bd3786"
             ],
             [
              0.5555555555555556,
              "#d8576b"
             ],
             [
              0.6666666666666666,
              "#ed7953"
             ],
             [
              0.7777777777777778,
              "#fb9f3a"
             ],
             [
              0.8888888888888888,
              "#fdca26"
             ],
             [
              1,
              "#f0f921"
             ]
            ],
            "type": "surface"
           }
          ],
          "table": [
           {
            "cells": {
             "fill": {
              "color": "#EBF0F8"
             },
             "line": {
              "color": "white"
             }
            },
            "header": {
             "fill": {
              "color": "#C8D4E3"
             },
             "line": {
              "color": "white"
             }
            },
            "type": "table"
           }
          ]
         },
         "layout": {
          "annotationdefaults": {
           "arrowcolor": "#2a3f5f",
           "arrowhead": 0,
           "arrowwidth": 1
          },
          "autotypenumbers": "strict",
          "coloraxis": {
           "colorbar": {
            "outlinewidth": 0,
            "ticks": ""
           }
          },
          "colorscale": {
           "diverging": [
            [
             0,
             "#8e0152"
            ],
            [
             0.1,
             "#c51b7d"
            ],
            [
             0.2,
             "#de77ae"
            ],
            [
             0.3,
             "#f1b6da"
            ],
            [
             0.4,
             "#fde0ef"
            ],
            [
             0.5,
             "#f7f7f7"
            ],
            [
             0.6,
             "#e6f5d0"
            ],
            [
             0.7,
             "#b8e186"
            ],
            [
             0.8,
             "#7fbc41"
            ],
            [
             0.9,
             "#4d9221"
            ],
            [
             1,
             "#276419"
            ]
           ],
           "sequential": [
            [
             0,
             "#0d0887"
            ],
            [
             0.1111111111111111,
             "#46039f"
            ],
            [
             0.2222222222222222,
             "#7201a8"
            ],
            [
             0.3333333333333333,
             "#9c179e"
            ],
            [
             0.4444444444444444,
             "#bd3786"
            ],
            [
             0.5555555555555556,
             "#d8576b"
            ],
            [
             0.6666666666666666,
             "#ed7953"
            ],
            [
             0.7777777777777778,
             "#fb9f3a"
            ],
            [
             0.8888888888888888,
             "#fdca26"
            ],
            [
             1,
             "#f0f921"
            ]
           ],
           "sequentialminus": [
            [
             0,
             "#0d0887"
            ],
            [
             0.1111111111111111,
             "#46039f"
            ],
            [
             0.2222222222222222,
             "#7201a8"
            ],
            [
             0.3333333333333333,
             "#9c179e"
            ],
            [
             0.4444444444444444,
             "#bd3786"
            ],
            [
             0.5555555555555556,
             "#d8576b"
            ],
            [
             0.6666666666666666,
             "#ed7953"
            ],
            [
             0.7777777777777778,
             "#fb9f3a"
            ],
            [
             0.8888888888888888,
             "#fdca26"
            ],
            [
             1,
             "#f0f921"
            ]
           ]
          },
          "colorway": [
           "#636efa",
           "#EF553B",
           "#00cc96",
           "#ab63fa",
           "#FFA15A",
           "#19d3f3",
           "#FF6692",
           "#B6E880",
           "#FF97FF",
           "#FECB52"
          ],
          "font": {
           "color": "#2a3f5f"
          },
          "geo": {
           "bgcolor": "white",
           "lakecolor": "white",
           "landcolor": "#E5ECF6",
           "showlakes": true,
           "showland": true,
           "subunitcolor": "white"
          },
          "hoverlabel": {
           "align": "left"
          },
          "hovermode": "closest",
          "mapbox": {
           "style": "light"
          },
          "paper_bgcolor": "white",
          "plot_bgcolor": "#E5ECF6",
          "polar": {
           "angularaxis": {
            "gridcolor": "white",
            "linecolor": "white",
            "ticks": ""
           },
           "bgcolor": "#E5ECF6",
           "radialaxis": {
            "gridcolor": "white",
            "linecolor": "white",
            "ticks": ""
           }
          },
          "scene": {
           "xaxis": {
            "backgroundcolor": "#E5ECF6",
            "gridcolor": "white",
            "gridwidth": 2,
            "linecolor": "white",
            "showbackground": true,
            "ticks": "",
            "zerolinecolor": "white"
           },
           "yaxis": {
            "backgroundcolor": "#E5ECF6",
            "gridcolor": "white",
            "gridwidth": 2,
            "linecolor": "white",
            "showbackground": true,
            "ticks": "",
            "zerolinecolor": "white"
           },
           "zaxis": {
            "backgroundcolor": "#E5ECF6",
            "gridcolor": "white",
            "gridwidth": 2,
            "linecolor": "white",
            "showbackground": true,
            "ticks": "",
            "zerolinecolor": "white"
           }
          },
          "shapedefaults": {
           "line": {
            "color": "#2a3f5f"
           }
          },
          "ternary": {
           "aaxis": {
            "gridcolor": "white",
            "linecolor": "white",
            "ticks": ""
           },
           "baxis": {
            "gridcolor": "white",
            "linecolor": "white",
            "ticks": ""
           },
           "bgcolor": "#E5ECF6",
           "caxis": {
            "gridcolor": "white",
            "linecolor": "white",
            "ticks": ""
           }
          },
          "title": {
           "x": 0.05
          },
          "xaxis": {
           "automargin": true,
           "gridcolor": "white",
           "linecolor": "white",
           "ticks": "",
           "title": {
            "standoff": 15
           },
           "zerolinecolor": "white",
           "zerolinewidth": 2
          },
          "yaxis": {
           "automargin": true,
           "gridcolor": "white",
           "linecolor": "white",
           "ticks": "",
           "title": {
            "standoff": 15
           },
           "zerolinecolor": "white",
           "zerolinewidth": 2
          }
         }
        },
        "title": {
         "font": {
          "size": 16
         },
         "subtitle": {
          "text": "Gemma 2 27B Base, Layer 22 - Shared Question Set, Mean-Centered and Scaled Vectors"
         },
         "text": "PCA on Trait Vectors",
         "x": 0.5
        },
        "width": 1200,
        "xaxis": {
         "anchor": "y",
         "domain": [
          0,
          1
         ],
         "range": [
          -0.9512644509918089,
          0.9512644509918089
         ]
        },
        "xaxis2": {
         "anchor": "y2",
         "domain": [
          0,
          1
         ],
         "range": [
          -0.18061449220782452,
          0.18061449220782452
         ]
        },
        "yaxis": {
         "anchor": "x",
         "domain": [
          0.55,
          1
         ],
         "range": [
          0,
          2.5
         ],
         "showticklabels": false
        },
        "yaxis2": {
         "anchor": "x2",
         "domain": [
          0,
          0.45
         ],
         "range": [
          0,
          2.5
         ],
         "showticklabels": false
        }
       }
      },
      "text/html": [
       "<div>                            <div id=\"f4239709-eb6f-4f01-995a-6ab2bcca3b99\" class=\"plotly-graph-div\" style=\"height:800px; width:1200px;\"></div>            <script type=\"text/javascript\">                require([\"plotly\"], function(Plotly) {                    window.PLOTLYENV=window.PLOTLYENV || {};                                    if (document.getElementById(\"f4239709-eb6f-4f01-995a-6ab2bcca3b99\")) {                    Plotly.newPlot(                        \"f4239709-eb6f-4f01-995a-6ab2bcca3b99\",                        [{\"hovertemplate\":\"\\u003cb\\u003e%{text}\\u003c\\u002fb\\u003e\\u003cbr\\u003eCosine Similarity: %{x:.3f}\\u003cextra\\u003e\\u003c\\u002fextra\\u003e\",\"marker\":{\"color\":\"limegreen\",\"line\":{\"color\":\"black\",\"width\":1},\"opacity\":1.0,\"size\":8,\"symbol\":\"diamond\"},\"mode\":\"markers\",\"showlegend\":false,\"text\":[\"Zealous\",\"Wry\",\"Witty\",\"Whimsical\",\"Visceral\",\"Verbose\",\"Utilitarian\",\"Urgent\",\"Universalist\",\"Transparent\",\"Traditional\",\"Theoretical\",\"Temperamental\",\"Technical\",\"Tactful\",\"Systems thinker\",\"Sycophantic\",\"Supportive\",\"Subversive\",\"Submissive\",\"Structuralist\",\"Stream of consciousness\",\"Strategic\",\"Stoic\",\"Spontaneous\",\"Spiritual\",\"Speculative\",\"Specialized\",\"Solemn\",\"Socratic\",\"Skeptical\",\"Serious\",\"Serene\",\"Secular\",\"Savage\",\"Sassy\",\"Sardonic\",\"Sarcastic\",\"Romantic\",\"Ritualistic\",\"Risk taking\",\"Reverent\",\"Resilient\",\"Relativist\",\"Regulatory\",\"Reductionist\",\"Rebellious\",\"Reactive\",\"Rationalist\",\"Radical\",\"Quantitative\",\"Qualitative\",\"Provocative\",\"Progressive\",\"Problem solving\",\"Proactive\",\"Principled\",\"Prescriptive\",\"Practical\",\"Poetic\",\"Pluralist\",\"Playful\",\"Petty\",\"Pessimistic\",\"Perfectionist\",\"Pensive\",\"Pedantic\",\"Patient\",\"Passive aggressive\",\"Passionate\",\"Paranoid\",\"Paradoxical\",\"Pacifist\",\"Optimistic\",\"Open ended\",\"Obsessive\",\"Nurturing\",\"Nostalgic\",\"Nonchalant\",\"Nihilistic\",\"Neurotic\",\"Narrative\",\"Naive\",\"Mystical\",\"Moderate\",\"Mischievous\",\"Misanthropic\",\"Militant\",\"Meticulous\",\"Methodical\",\"Mercurial\",\"Melodramatic\",\"Melancholic\",\"Meditative\",\"Manipulative\",\"Manic\",\"Libertarian\",\"Judgmental\",\"Irreverent\",\"Ironic\",\"Intuitive\",\"Introverted\",\"Introspective\",\"Interdisciplinary\",\"Inspirational\",\"Inquisitive\",\"Innovative\",\"Individualistic\",\"Independent\",\"Inclusive\",\"Impulsive\",\"Improvisational\",\"Impatient\",\"Idealistic\",\"Iconoclastic\",\"Humble\",\"Humanistic\",\"Hostile\",\"Holistic\",\"Historical\",\"Hedonistic\",\"Gregarious\",\"Grandiose\",\"Goofy\",\"Generous\",\"Generalist\",\"Futuristic\",\"Fundamentalist\",\"Formalist\",\"Formal\",\"Forgiving\",\"Flirty\",\"Flippant\",\"Flexible\",\"Fatalistic\",\"Factual\",\"Extroverted\",\"Exploratory\",\"Experiential\",\"Existentialist\",\"Evil\",\"Ethereal\",\"Essentialist\",\"Esoteric\",\"Erudite\",\"Epicurean\",\"Environmental\",\"Entertaining\",\"Enigmatic\",\"Empathetic\",\"Emotional\",\"Elitist\",\"Egalitarian\",\"Effusive\",\"Educational\",\"Edgy\",\"Eclectic\",\"Earnest\",\"Dominant\",\"Dogmatic\",\"Divergent\",\"Disorganized\",\"Diplomatic\",\"Deterministic\",\"Detached\",\"Descriptive\",\"Deontological\",\"Deferential\",\"Deconstructionist\",\"Decisive\",\"Data driven\",\"Cynical\",\"Curious\",\"Cryptic\",\"Cruel\",\"Critical\",\"Cosmopolitan\",\"Contrarian\",\"Contemporary\",\"Constructivist\",\"Conscientious\",\"Confrontational\",\"Confident\",\"Condescending\",\"Conciliatory\",\"Conceptual\",\"Competitive\",\"Collectivistic\",\"Collaborative\",\"Closure seeking\",\"Circumspect\",\"Chill\",\"Chaotic\",\"Challenging\",\"Cautious\",\"Casual\",\"Calm\",\"Callous\",\"Calculating\",\"Bombastic\",\"Blunt\",\"Bitter\",\"Big picture\",\"Benevolent\",\"Assertive\",\"Ascetic\",\"Arrogant\",\"Anxious\",\"Anthropocentric\",\"Analytical\",\"Altruistic\",\"Agreeable\",\"Adventurous\",\"Adaptable\",\"Acerbic\",\"Accommodating\",\"Accessible\",\"Abstract\",\"Absolutist\"],\"x\":[0.45091888157625315,0.14193200834603606,0.6264836322038245,0.5325552167901082,-0.17393508859178314,0.41483185601221334,-0.382253789521249,-0.3346719723307364,-0.4075509201840698,-0.37530156940205023,-0.48952880384161573,-0.04025449644007972,0.022487996224232833,-0.2051138528726657,0.07615633974247982,0.3908136383033619,-0.30764207268274946,0.3848738494087014,0.2144053917438973,-0.5456468091896193,-0.2069134815707768,0.280643651760163,0.38972737539555913,-0.40301427461990746,0.485721580654744,0.45124177769673973,0.542119634249619,0.04508019730407547,-0.323613637906032,-0.2676794171562616,0.007446284971722159,-0.4713848228286873,0.07015268666861123,-0.4617434141034484,-0.3960068919037882,0.2854787918028914,0.05600225565155329,-0.056728081644615715,0.5373964630733863,-0.08022554044854745,0.26877237788236563,-0.09512805291984683,0.06944138686180434,-0.2263784043069783,-0.5305467644932705,-0.6039784016658254,0.16874618160905716,-0.47711656061011204,-0.6011225381552995,-0.04694691302291418,-0.4653300649322984,0.34619958663960654,0.22618825215690957,-0.107396101595763,0.07400105892769315,0.44569285380840173,-0.2736420741199172,-0.40379293989953285,-0.3696824987045602,0.36510439072603185,-0.1834127687020656,0.4102196185754871,-0.12114993705028215,-0.39895857715106614,-0.01464807193620304,0.5280125781875812,-0.13025421241735413,0.14533694886685586,-0.21554209857324244,0.6193681957004284,-0.19882837251220578,0.30606379559195934,-0.1889013409418806,-0.0952600736654513,0.077904976865493,0.053931622863124286,0.41878584607426145,0.145717929464269,-0.46523585362074377,-0.1486250655355384,-0.25214776785415144,0.47330654410080725,-0.3917126048911645,0.37167666499897406,-0.16907901839596098,0.27629822111721053,-0.16751765534726998,-0.1040843022726635,0.045783114566587825,-0.4064936993599762,0.08315851664331719,0.6124007404655232,-0.043396207406372934,0.43875428760222096,-0.3066261009172301,0.15912630564012858,-0.27695456758101433,-0.2950126042996869,0.05500376839022779,0.05511982753366723,0.4066175323668302,-0.07294050365209682,0.24428625023793024,0.29578618730909595,0.2729630887917729,-0.06957252414584214,0.2615023372360923,0.04631335047735129,-0.016954483928079658,0.18286225773868278,-0.5531156251226169,-0.06804826066573547,-0.49410495583044595,-0.05584584985502263,0.13885254631155217,-0.3541539951888363,0.05499205176177039,-0.3136319157515434,0.43828670240319517,0.17823373192866798,-0.12130503744990921,0.11710194101131453,0.44728124163585087,0.17318647645605909,0.5255619269418056,0.2933658969864324,0.06242621973839744,-0.5644448694216624,-0.4335948421019995,-0.32178466413334045,-0.16443959832781563,0.19679839143194233,-0.2608915404431796,0.07429978371495098,-0.05605211078828081,-0.5546941997841295,0.1913964670339569,0.43918891083213024,-0.09514906255078016,0.02004334598708968,-0.17423037821350706,0.43096149991375093,-0.4835366656063143,0.19779248031660412,0.26303235097025107,0.5278374492831398,-0.04093318064512752,0.5820690247743966,0.33094848156603673,0.1865039785802846,0.35268311403996006,-0.14491428211386936,0.07693018412423895,0.39733946013588567,0.4076573054859922,0.17063204553945246,0.5397152681465477,0.10057593414306963,0.18981286166300454,-0.4659494487033695,0.4690540815849986,-0.03516427003014512,-0.006815324950715399,-0.16170005945500818,-0.528067959583642,-0.5434866382488368,-0.3754606279787256,-0.5411578480004086,0.32754504079339225,-0.3596941654376231,-0.5053957280479985,-0.26356065114022076,0.48183273185446357,0.45958206317936345,-0.4022269220400954,0.17952644617057342,-0.0016644606270118305,0.18176787733725241,-0.4029054558863287,0.19232920895970834,0.08237182111562344,-0.2308311604022848,-0.2856066774474267,0.0067017158870362635,-0.05879668225487685,-0.13075582366393187,-0.13149119863442657,-0.17455968373806674,-0.1994905984312798,-0.587049125159416,0.31269842962753547,0.06852748919885711,0.10160291805998255,0.16936572162973654,-0.18550705941024,-0.02825915675184544,-0.23820593472525217,-0.5597516462328729,0.2023384838685011,0.5384025487835699,-0.6097677596806872,-0.17100847184320794,0.006860698011583624,0.09753845852125419,-0.12101660292824769,-0.23442704741047268,-0.07005959753397063,-0.26917758384497237,-0.5854282874821266,0.040115917603793946,-0.0065255877396518626,0.10652771396447044,0.4425714401245372,0.21948804916707385,-0.02075690759514295,-0.2815505603967562,-0.015680045194904096,-0.01886188159295679,-0.3842754605840328],\"y\":[1,1,1,1,1,1,1,1,1,1,1,1,1,1,1,1,1,1,1,1,1,1,1,1,1,1,1,1,1,1,1,1,1,1,1,1,1,1,1,1,1,1,1,1,1,1,1,1,1,1,1,1,1,1,1,1,1,1,1,1,1,1,1,1,1,1,1,1,1,1,1,1,1,1,1,1,1,1,1,1,1,1,1,1,1,1,1,1,1,1,1,1,1,1,1,1,1,1,1,1,1,1,1,1,1,1,1,1,1,1,1,1,1,1,1,1,1,1,1,1,1,1,1,1,1,1,1,1,1,1,1,1,1,1,1,1,1,1,1,1,1,1,1,1,1,1,1,1,1,1,1,1,1,1,1,1,1,1,1,1,1,1,1,1,1,1,1,1,1,1,1,1,1,1,1,1,1,1,1,1,1,1,1,1,1,1,1,1,1,1,1,1,1,1,1,1,1,1,1,1,1,1,1,1,1,1,1,1,1,1,1,1,1,1,1,1,1,1,1],\"type\":\"scatter\",\"xaxis\":\"x\",\"yaxis\":\"y\"},{\"hovertemplate\":\"\\u003cb\\u003e%{text}\\u003c\\u002fb\\u003e\\u003cbr\\u003eCosine Similarity: %{x:.3f}\\u003cextra\\u003e\\u003c\\u002fextra\\u003e\",\"marker\":{\"color\":\"limegreen\",\"line\":{\"color\":\"black\",\"width\":1},\"opacity\":1.0,\"size\":8,\"symbol\":\"diamond\"},\"mode\":\"markers\",\"showlegend\":false,\"text\":[\"Understated\",\"Theatrical\",\"Rhetorical\",\"Reserved\",\"Philosophical\",\"Metaphorical\",\"Materialist\",\"Literal\",\"Grounded\",\"Eloquent\",\"Efficient\",\"Dramatic\",\"Dispassionate\",\"Creative\",\"Convergent\",\"Concise\",\"Charismatic\",\"Avoidant\",\"Artistic\",\"Animated\"],\"x\":[-0.8192228001958491,0.6710892434357568,0.8108061805411999,-0.6494440733171283,0.6750559569700519,0.779313783322524,-0.7497868695861059,-0.8191491095067805,-0.6307292562526469,0.7695472062737438,-0.6859934567245802,0.7071356898870715,-0.6204005930390619,0.7093970627880898,-0.6251603504787093,-0.6784033162513433,0.864785864538008,-0.6230031913227695,0.6869181051511334,0.7549854031853053],\"y\":[1,1,1,1,1,1,1,1,1,1,1,1,1,1,1,1,1,1,1,1],\"type\":\"scatter\",\"xaxis\":\"x\",\"yaxis\":\"y\"},{\"hoverinfo\":\"skip\",\"line\":{\"color\":\"black\",\"width\":1},\"mode\":\"lines\",\"showlegend\":false,\"x\":[-0.8192228001958491,-0.8192228001958491],\"y\":[1.0,1.45],\"type\":\"scatter\",\"xaxis\":\"x\",\"yaxis\":\"y\"},{\"hoverinfo\":\"skip\",\"line\":{\"color\":\"black\",\"width\":1},\"mode\":\"lines\",\"showlegend\":false,\"x\":[-0.8191491095067805,-0.8191491095067805],\"y\":[1.0,0.6],\"type\":\"scatter\",\"xaxis\":\"x\",\"yaxis\":\"y\"},{\"hoverinfo\":\"skip\",\"line\":{\"color\":\"black\",\"width\":1},\"mode\":\"lines\",\"showlegend\":false,\"x\":[-0.7497868695861059,-0.7497868695861059],\"y\":[1.0,1.9],\"type\":\"scatter\",\"xaxis\":\"x\",\"yaxis\":\"y\"},{\"hoverinfo\":\"skip\",\"line\":{\"color\":\"black\",\"width\":1},\"mode\":\"lines\",\"showlegend\":false,\"x\":[-0.6859934567245802,-0.6859934567245802],\"y\":[1.0,0.15],\"type\":\"scatter\",\"xaxis\":\"x\",\"yaxis\":\"y\"},{\"hoverinfo\":\"skip\",\"line\":{\"color\":\"black\",\"width\":1},\"mode\":\"lines\",\"showlegend\":false,\"x\":[-0.6784033162513433,-0.6784033162513433],\"y\":[1.0,1.6],\"type\":\"scatter\",\"xaxis\":\"x\",\"yaxis\":\"y\"},{\"hoverinfo\":\"skip\",\"line\":{\"color\":\"black\",\"width\":1},\"mode\":\"lines\",\"showlegend\":false,\"x\":[-0.6494440733171283,-0.6494440733171283],\"y\":[1.0,0.45],\"type\":\"scatter\",\"xaxis\":\"x\",\"yaxis\":\"y\"},{\"hoverinfo\":\"skip\",\"line\":{\"color\":\"black\",\"width\":1},\"mode\":\"lines\",\"showlegend\":false,\"x\":[-0.6307292562526469,-0.6307292562526469],\"y\":[1.0,1.3],\"type\":\"scatter\",\"xaxis\":\"x\",\"yaxis\":\"y\"},{\"hoverinfo\":\"skip\",\"line\":{\"color\":\"black\",\"width\":1},\"mode\":\"lines\",\"showlegend\":false,\"x\":[-0.6251603504787093,-0.6251603504787093],\"y\":[1.0,0.75],\"type\":\"scatter\",\"xaxis\":\"x\",\"yaxis\":\"y\"},{\"hoverinfo\":\"skip\",\"line\":{\"color\":\"black\",\"width\":1},\"mode\":\"lines\",\"showlegend\":false,\"x\":[-0.6230031913227695,-0.6230031913227695],\"y\":[1.0,1.75],\"type\":\"scatter\",\"xaxis\":\"x\",\"yaxis\":\"y\"},{\"hoverinfo\":\"skip\",\"line\":{\"color\":\"black\",\"width\":1},\"mode\":\"lines\",\"showlegend\":false,\"x\":[-0.6204005930390619,-0.6204005930390619],\"y\":[1.0,0.3],\"type\":\"scatter\",\"xaxis\":\"x\",\"yaxis\":\"y\"},{\"hoverinfo\":\"skip\",\"line\":{\"color\":\"black\",\"width\":1},\"mode\":\"lines\",\"showlegend\":false,\"x\":[0.6710892434357568,0.6710892434357568],\"y\":[1.0,1.45],\"type\":\"scatter\",\"xaxis\":\"x\",\"yaxis\":\"y\"},{\"hoverinfo\":\"skip\",\"line\":{\"color\":\"black\",\"width\":1},\"mode\":\"lines\",\"showlegend\":false,\"x\":[0.6750559569700519,0.6750559569700519],\"y\":[1.0,0.6],\"type\":\"scatter\",\"xaxis\":\"x\",\"yaxis\":\"y\"},{\"hoverinfo\":\"skip\",\"line\":{\"color\":\"black\",\"width\":1},\"mode\":\"lines\",\"showlegend\":false,\"x\":[0.6869181051511334,0.6869181051511334],\"y\":[1.0,1.9],\"type\":\"scatter\",\"xaxis\":\"x\",\"yaxis\":\"y\"},{\"hoverinfo\":\"skip\",\"line\":{\"color\":\"black\",\"width\":1},\"mode\":\"lines\",\"showlegend\":false,\"x\":[0.7071356898870715,0.7071356898870715],\"y\":[1.0,0.15],\"type\":\"scatter\",\"xaxis\":\"x\",\"yaxis\":\"y\"},{\"hoverinfo\":\"skip\",\"line\":{\"color\":\"black\",\"width\":1},\"mode\":\"lines\",\"showlegend\":false,\"x\":[0.7093970627880898,0.7093970627880898],\"y\":[1.0,1.6],\"type\":\"scatter\",\"xaxis\":\"x\",\"yaxis\":\"y\"},{\"hoverinfo\":\"skip\",\"line\":{\"color\":\"black\",\"width\":1},\"mode\":\"lines\",\"showlegend\":false,\"x\":[0.7549854031853053,0.7549854031853053],\"y\":[1.0,0.45],\"type\":\"scatter\",\"xaxis\":\"x\",\"yaxis\":\"y\"},{\"hoverinfo\":\"skip\",\"line\":{\"color\":\"black\",\"width\":1},\"mode\":\"lines\",\"showlegend\":false,\"x\":[0.7695472062737438,0.7695472062737438],\"y\":[1.0,1.3],\"type\":\"scatter\",\"xaxis\":\"x\",\"yaxis\":\"y\"},{\"hoverinfo\":\"skip\",\"line\":{\"color\":\"black\",\"width\":1},\"mode\":\"lines\",\"showlegend\":false,\"x\":[0.779313783322524,0.779313783322524],\"y\":[1.0,0.75],\"type\":\"scatter\",\"xaxis\":\"x\",\"yaxis\":\"y\"},{\"hoverinfo\":\"skip\",\"line\":{\"color\":\"black\",\"width\":1},\"mode\":\"lines\",\"showlegend\":false,\"x\":[0.8108061805411999,0.8108061805411999],\"y\":[1.0,1.75],\"type\":\"scatter\",\"xaxis\":\"x\",\"yaxis\":\"y\"},{\"hoverinfo\":\"skip\",\"line\":{\"color\":\"black\",\"width\":1},\"mode\":\"lines\",\"showlegend\":false,\"x\":[0.864785864538008,0.864785864538008],\"y\":[1.0,0.3],\"type\":\"scatter\",\"xaxis\":\"x\",\"yaxis\":\"y\"},{\"hoverinfo\":\"skip\",\"marker\":{\"color\":\"limegreen\"},\"opacity\":0.7,\"showlegend\":false,\"width\":0.04490689772623622,\"x\":[-0.7911559891169515,-0.7350223669591562,-0.6788887448013611,-0.6227551226435658,-0.5666215004857705,-0.5104878783279753,-0.4543542561701801,-0.39822063401238483,-0.34208701185458956,-0.2859533896967943,-0.22981976753899908,-0.17368614538120386,-0.11755252322340859,-0.061418901065613374,-0.005285278907818158,0.05084834324997711,0.10698196540777238,0.16311558756556765,0.21924920972336293,0.2753828318811582,0.33151645403895336,0.3876500761967485,0.4437836983545438,0.49991732051233906,0.5560509426701343,0.6121845648279296,0.6683181869857249,0.72445180914352,0.7805854313013152,0.8367190534591105],\"y\":[0.09999999999999999,0.049999999999999996,0.09999999999999999,0.39999999999999997,0.45,0.3,0.35000000000000003,0.65,0.3,0.6,0.39999999999999997,0.7000000000000001,0.6,0.7000000000000001,0.7000000000000001,0.9,0.35000000000000003,0.75,0.45,0.45,0.3,0.5,0.6,0.25,0.35000000000000003,0.15,0.15,0.09999999999999999,0.15,0.09999999999999999],\"type\":\"bar\",\"xaxis\":\"x\",\"yaxis\":\"y\"},{\"hovertemplate\":\"\\u003cb\\u003e%{text}\\u003c\\u002fb\\u003e\\u003cbr\\u003eNormalized Projection: %{x:.3f}\\u003cextra\\u003e\\u003c\\u002fextra\\u003e\",\"marker\":{\"color\":\"limegreen\",\"line\":{\"color\":\"black\",\"width\":1},\"opacity\":1.0,\"size\":8,\"symbol\":\"diamond\"},\"mode\":\"markers\",\"showlegend\":false,\"text\":[\"Zealous\",\"Wry\",\"Whimsical\",\"Visceral\",\"Verbose\",\"Utilitarian\",\"Urgent\",\"Universalist\",\"Transparent\",\"Traditional\",\"Theoretical\",\"Temperamental\",\"Technical\",\"Tactful\",\"Systems thinker\",\"Sycophantic\",\"Supportive\",\"Subversive\",\"Submissive\",\"Structuralist\",\"Stream of consciousness\",\"Strategic\",\"Stoic\",\"Spontaneous\",\"Spiritual\",\"Speculative\",\"Specialized\",\"Solemn\",\"Socratic\",\"Skeptical\",\"Serious\",\"Serene\",\"Secular\",\"Savage\",\"Sassy\",\"Sardonic\",\"Sarcastic\",\"Romantic\",\"Ritualistic\",\"Risk taking\",\"Reverent\",\"Resilient\",\"Relativist\",\"Regulatory\",\"Reductionist\",\"Rebellious\",\"Reactive\",\"Rationalist\",\"Radical\",\"Quantitative\",\"Qualitative\",\"Provocative\",\"Progressive\",\"Problem solving\",\"Proactive\",\"Principled\",\"Prescriptive\",\"Practical\",\"Poetic\",\"Pluralist\",\"Playful\",\"Philosophical\",\"Petty\",\"Pessimistic\",\"Perfectionist\",\"Pensive\",\"Pedantic\",\"Patient\",\"Passive aggressive\",\"Passionate\",\"Paranoid\",\"Paradoxical\",\"Pacifist\",\"Optimistic\",\"Open ended\",\"Obsessive\",\"Nurturing\",\"Nostalgic\",\"Nihilistic\",\"Neurotic\",\"Narrative\",\"Naive\",\"Mystical\",\"Moderate\",\"Mischievous\",\"Misanthropic\",\"Militant\",\"Meticulous\",\"Methodical\",\"Mercurial\",\"Melancholic\",\"Meditative\",\"Materialist\",\"Manipulative\",\"Manic\",\"Libertarian\",\"Judgmental\",\"Irreverent\",\"Ironic\",\"Intuitive\",\"Introverted\",\"Introspective\",\"Interdisciplinary\",\"Inspirational\",\"Inquisitive\",\"Innovative\",\"Individualistic\",\"Independent\",\"Inclusive\",\"Improvisational\",\"Idealistic\",\"Iconoclastic\",\"Humble\",\"Humanistic\",\"Hostile\",\"Holistic\",\"Historical\",\"Hedonistic\",\"Grounded\",\"Gregarious\",\"Grandiose\",\"Goofy\",\"Generalist\",\"Futuristic\",\"Fundamentalist\",\"Formalist\",\"Formal\",\"Forgiving\",\"Flirty\",\"Flippant\",\"Flexible\",\"Fatalistic\",\"Factual\",\"Extroverted\",\"Exploratory\",\"Experiential\",\"Existentialist\",\"Evil\",\"Ethereal\",\"Essentialist\",\"Esoteric\",\"Erudite\",\"Epicurean\",\"Environmental\",\"Entertaining\",\"Enigmatic\",\"Empathetic\",\"Emotional\",\"Elitist\",\"Egalitarian\",\"Effusive\",\"Educational\",\"Edgy\",\"Eclectic\",\"Earnest\",\"Dominant\",\"Dogmatic\",\"Divergent\",\"Disorganized\",\"Diplomatic\",\"Deterministic\",\"Detached\",\"Descriptive\",\"Deontological\",\"Deferential\",\"Deconstructionist\",\"Decisive\",\"Data driven\",\"Cynical\",\"Curious\",\"Cryptic\",\"Cruel\",\"Critical\",\"Creative\",\"Cosmopolitan\",\"Convergent\",\"Contrarian\",\"Contemporary\",\"Constructivist\",\"Conscientious\",\"Confrontational\",\"Confident\",\"Condescending\",\"Conciliatory\",\"Conceptual\",\"Competitive\",\"Collectivistic\",\"Collaborative\",\"Closure seeking\",\"Circumspect\",\"Chill\",\"Chaotic\",\"Challenging\",\"Cautious\",\"Casual\",\"Calm\",\"Callous\",\"Calculating\",\"Bombastic\",\"Blunt\",\"Bitter\",\"Big picture\",\"Benevolent\",\"Assertive\",\"Ascetic\",\"Artistic\",\"Arrogant\",\"Anxious\",\"Anthropocentric\",\"Analytical\",\"Altruistic\",\"Agreeable\",\"Adventurous\",\"Adaptable\",\"Acerbic\",\"Accommodating\",\"Accessible\",\"Abstract\",\"Absolutist\"],\"x\":[0.07809747044648012,0.026711382328956697,0.1027827295649019,-0.028698987650276838,0.0673360588574133,-0.03612285115037226,-0.0454403832344035,-0.03860882907772667,-0.06837975522666113,-0.0717098365805381,-0.004728354166459031,0.004395916327274204,-0.034219607492882886,0.012832887457627512,0.04480559266402531,-0.07024900157570983,0.08337733674022109,0.026171950460859284,-0.10798867530586738,-0.03333478733146074,0.03930792492861668,0.09354495563748651,-0.061912472291069984,0.07067951796998068,0.07504981506962013,0.05335146470377934,0.0068752665500172745,-0.06799107558488747,-0.05269319926688155,0.0009392576989050444,-0.10244239993640254,0.01583473085671145,-0.062107878862754116,-0.0662660095846032,0.04689046593119829,0.011053763511479641,-0.009968422202303972,0.10542824583822073,-0.014094858094671482,0.02717227293162171,-0.014161516229209392,0.016007583089071083,-0.0343318427741453,-0.08096862598760955,-0.07796786075790095,0.019673795650002872,-0.09775222283151913,-0.08819333827459676,-0.006494523966355407,-0.0820794191962404,0.053255429511528285,0.024080594957892058,-0.009745506063227008,0.012828947542443849,0.08349616172986621,-0.023123923434896217,-0.05786366435673859,-0.057789322112252066,0.11674109114808157,-0.02255954075828562,0.07217584966862224,0.08961209842414393,-0.0203392462022982,-0.048589802509048104,-0.0021950174600604824,0.10860513917893977,-0.01658191613798257,0.03432735218714659,-0.04015816706549861,0.09173643377481888,-0.02792510219614077,0.032057158581251424,-0.016136469362714713,-0.015251707688514431,0.009016926268883388,0.005994296491088948,0.08976765282478101,0.017388467336676195,-0.029777493052732733,-0.06080280934708923,0.08875306845809856,-0.08570689278994154,0.05737887200678325,-0.034371626594785744,0.051056703474550026,-0.031984431657936734,-0.01816582467869986,0.008987489001740272,-0.084777540633935,0.014000120016142535,-0.007899407395279261,0.09819087156736168,-0.08281855865112352,-0.04833210500345317,0.03230175712717421,-0.02687822449872399,-0.04422858574500517,0.010292925319668446,0.011830392045697627,0.04723618719549058,-0.012734055812174124,0.04024292079120405,0.0318647002259065,0.0589951613698801,-0.014665675125232643,0.02781818460966953,0.0033279411594241705,-0.0021356908590894645,0.021622429173235407,-0.00955120865147482,-0.0064054836429995494,0.015407383667148323,-0.0531678475720749,0.006700866314045986,-0.06764378366055414,0.06149766943493683,0.020255347558853363,-0.018899977367179556,-0.11311723487427784,0.017139636854782127,0.07405144521539403,0.03772817203222185,0.047903987640273836,0.006785338611597725,-0.08760488599497693,-0.05419088540389689,-0.06635131555417569,-0.013353077911940106,0.03887447849750698,-0.060506813626389086,0.01369066241220131,-0.009097201500289046,-0.09806094191428479,0.02190864254384363,0.08102109576541837,-0.011352662862398194,0.0030747945097603755,-0.03360273947186553,0.08755221552344508,-0.0555919563021372,0.036847002660258636,0.046042802558896846,0.06273046344922212,-0.004617012514376701,0.1020553116326343,0.0705137131073402,0.024169801641741335,0.05045190758543718,-0.022743414857187064,0.009970087477283198,0.0718616419017678,0.09712954888078719,0.029321484403951607,0.05866961577221952,0.0216398448940501,0.023802969754968317,-0.08499273891888262,0.08273274346252468,-0.007186334734254983,-0.0012145072101934183,-0.024644560130714182,-0.08591468035806528,-0.07829102772039868,-0.033749853532688355,-0.07643926770173076,0.04287360572984917,-0.054299508613431476,-0.07145931733852805,-0.034741038697059155,0.08019183249986787,0.10083243097321874,-0.07657083431260914,0.021544120848359844,0.09068394520954302,-0.00025106054471458073,-0.05989135325867797,0.0200564143119207,-0.04397655312485893,0.01970532826412773,0.02206704947876093,-0.025619108032933074,-0.03726605136996212,0.001036047302723577,-0.011929432925456963,-0.015334015402150026,-0.0204761814131067,-0.018760229341007836,-0.022422274813075724,-0.08048844546981865,0.046967606898494524,0.01380082830827662,0.010602219751866607,0.02016727612578715,-0.025272106969148143,-0.0051793565565625265,-0.053844290681109214,-0.1090513750695264,0.03066501286954923,0.11657070859489864,-0.08887720916265102,-0.03111294042690997,0.0007075867068514522,0.01678453894860369,-0.01173497137701903,-0.03254242207574499,0.11307402509134268,-0.011102671532117338,-0.06311232445335829,-0.048929972619618095,0.007861429096574281,-0.0009536380775659678,0.018971457150034312,0.05075082763319721,0.030764781126550515,-0.0037088285680657025,-0.02717911286209597,-0.0031623716621337057,-0.002060757106763254,-0.03921004669322344],\"y\":[1,1,1,1,1,1,1,1,1,1,1,1,1,1,1,1,1,1,1,1,1,1,1,1,1,1,1,1,1,1,1,1,1,1,1,1,1,1,1,1,1,1,1,1,1,1,1,1,1,1,1,1,1,1,1,1,1,1,1,1,1,1,1,1,1,1,1,1,1,1,1,1,1,1,1,1,1,1,1,1,1,1,1,1,1,1,1,1,1,1,1,1,1,1,1,1,1,1,1,1,1,1,1,1,1,1,1,1,1,1,1,1,1,1,1,1,1,1,1,1,1,1,1,1,1,1,1,1,1,1,1,1,1,1,1,1,1,1,1,1,1,1,1,1,1,1,1,1,1,1,1,1,1,1,1,1,1,1,1,1,1,1,1,1,1,1,1,1,1,1,1,1,1,1,1,1,1,1,1,1,1,1,1,1,1,1,1,1,1,1,1,1,1,1,1,1,1,1,1,1,1,1,1,1,1,1,1,1,1,1,1,1,1,1,1,1,1,1,1],\"type\":\"scatter\",\"xaxis\":\"x2\",\"yaxis\":\"y2\"},{\"hovertemplate\":\"\\u003cb\\u003e%{text}\\u003c\\u002fb\\u003e\\u003cbr\\u003eNormalized Projection: %{x:.3f}\\u003cextra\\u003e\\u003c\\u002fextra\\u003e\",\"marker\":{\"color\":\"limegreen\",\"line\":{\"color\":\"black\",\"width\":1},\"opacity\":1.0,\"size\":8,\"symbol\":\"diamond\"},\"mode\":\"markers\",\"showlegend\":false,\"text\":[\"Witty\",\"Understated\",\"Theatrical\",\"Rhetorical\",\"Reserved\",\"Nonchalant\",\"Metaphorical\",\"Melodramatic\",\"Literal\",\"Impulsive\",\"Impatient\",\"Generous\",\"Eloquent\",\"Efficient\",\"Dramatic\",\"Dispassionate\",\"Concise\",\"Charismatic\",\"Avoidant\",\"Animated\"],\"x\":[0.1216594525196648,-0.16067753996771938,0.14017763728048865,0.12696958279147222,-0.12345105686968653,-0.11600204567893783,0.15007306593855932,0.12172283251843853,-0.14578187355710095,-0.1473425286842597,-0.1152124392175366,0.12034769030531073,0.16182609946583448,-0.1286277695380555,0.13630873450136213,-0.11820826802975447,-0.1468810201331296,0.1641949929162041,-0.15104281033186262,0.14969006306991284],\"y\":[1,1,1,1,1,1,1,1,1,1,1,1,1,1,1,1,1,1,1,1],\"type\":\"scatter\",\"xaxis\":\"x2\",\"yaxis\":\"y2\"},{\"hoverinfo\":\"skip\",\"line\":{\"color\":\"black\",\"width\":1},\"mode\":\"lines\",\"showlegend\":false,\"x\":[-0.16067753996771938,-0.16067753996771938],\"y\":[1.0,1.45],\"type\":\"scatter\",\"xaxis\":\"x2\",\"yaxis\":\"y2\"},{\"hoverinfo\":\"skip\",\"line\":{\"color\":\"black\",\"width\":1},\"mode\":\"lines\",\"showlegend\":false,\"x\":[-0.15104281033186262,-0.15104281033186262],\"y\":[1.0,0.6],\"type\":\"scatter\",\"xaxis\":\"x2\",\"yaxis\":\"y2\"},{\"hoverinfo\":\"skip\",\"line\":{\"color\":\"black\",\"width\":1},\"mode\":\"lines\",\"showlegend\":false,\"x\":[-0.1473425286842597,-0.1473425286842597],\"y\":[1.0,1.9],\"type\":\"scatter\",\"xaxis\":\"x2\",\"yaxis\":\"y2\"},{\"hoverinfo\":\"skip\",\"line\":{\"color\":\"black\",\"width\":1},\"mode\":\"lines\",\"showlegend\":false,\"x\":[-0.1468810201331296,-0.1468810201331296],\"y\":[1.0,0.15],\"type\":\"scatter\",\"xaxis\":\"x2\",\"yaxis\":\"y2\"},{\"hoverinfo\":\"skip\",\"line\":{\"color\":\"black\",\"width\":1},\"mode\":\"lines\",\"showlegend\":false,\"x\":[-0.14578187355710095,-0.14578187355710095],\"y\":[1.0,1.6],\"type\":\"scatter\",\"xaxis\":\"x2\",\"yaxis\":\"y2\"},{\"hoverinfo\":\"skip\",\"line\":{\"color\":\"black\",\"width\":1},\"mode\":\"lines\",\"showlegend\":false,\"x\":[-0.1286277695380555,-0.1286277695380555],\"y\":[1.0,0.45],\"type\":\"scatter\",\"xaxis\":\"x2\",\"yaxis\":\"y2\"},{\"hoverinfo\":\"skip\",\"line\":{\"color\":\"black\",\"width\":1},\"mode\":\"lines\",\"showlegend\":false,\"x\":[-0.12345105686968653,-0.12345105686968653],\"y\":[1.0,1.3],\"type\":\"scatter\",\"xaxis\":\"x2\",\"yaxis\":\"y2\"},{\"hoverinfo\":\"skip\",\"line\":{\"color\":\"black\",\"width\":1},\"mode\":\"lines\",\"showlegend\":false,\"x\":[-0.11820826802975447,-0.11820826802975447],\"y\":[1.0,0.75],\"type\":\"scatter\",\"xaxis\":\"x2\",\"yaxis\":\"y2\"},{\"hoverinfo\":\"skip\",\"line\":{\"color\":\"black\",\"width\":1},\"mode\":\"lines\",\"showlegend\":false,\"x\":[-0.11600204567893783,-0.11600204567893783],\"y\":[1.0,1.75],\"type\":\"scatter\",\"xaxis\":\"x2\",\"yaxis\":\"y2\"},{\"hoverinfo\":\"skip\",\"line\":{\"color\":\"black\",\"width\":1},\"mode\":\"lines\",\"showlegend\":false,\"x\":[-0.1152124392175366,-0.1152124392175366],\"y\":[1.0,0.3],\"type\":\"scatter\",\"xaxis\":\"x2\",\"yaxis\":\"y2\"},{\"hoverinfo\":\"skip\",\"line\":{\"color\":\"black\",\"width\":1},\"mode\":\"lines\",\"showlegend\":false,\"x\":[0.12034769030531073,0.12034769030531073],\"y\":[1.0,1.45],\"type\":\"scatter\",\"xaxis\":\"x2\",\"yaxis\":\"y2\"},{\"hoverinfo\":\"skip\",\"line\":{\"color\":\"black\",\"width\":1},\"mode\":\"lines\",\"showlegend\":false,\"x\":[0.1216594525196648,0.1216594525196648],\"y\":[1.0,0.6],\"type\":\"scatter\",\"xaxis\":\"x2\",\"yaxis\":\"y2\"},{\"hoverinfo\":\"skip\",\"line\":{\"color\":\"black\",\"width\":1},\"mode\":\"lines\",\"showlegend\":false,\"x\":[0.12172283251843853,0.12172283251843853],\"y\":[1.0,1.9],\"type\":\"scatter\",\"xaxis\":\"x2\",\"yaxis\":\"y2\"},{\"hoverinfo\":\"skip\",\"line\":{\"color\":\"black\",\"width\":1},\"mode\":\"lines\",\"showlegend\":false,\"x\":[0.12696958279147222,0.12696958279147222],\"y\":[1.0,0.15],\"type\":\"scatter\",\"xaxis\":\"x2\",\"yaxis\":\"y2\"},{\"hoverinfo\":\"skip\",\"line\":{\"color\":\"black\",\"width\":1},\"mode\":\"lines\",\"showlegend\":false,\"x\":[0.13630873450136213,0.13630873450136213],\"y\":[1.0,1.6],\"type\":\"scatter\",\"xaxis\":\"x2\",\"yaxis\":\"y2\"},{\"hoverinfo\":\"skip\",\"line\":{\"color\":\"black\",\"width\":1},\"mode\":\"lines\",\"showlegend\":false,\"x\":[0.14017763728048865,0.14017763728048865],\"y\":[1.0,0.45],\"type\":\"scatter\",\"xaxis\":\"x2\",\"yaxis\":\"y2\"},{\"hoverinfo\":\"skip\",\"line\":{\"color\":\"black\",\"width\":1},\"mode\":\"lines\",\"showlegend\":false,\"x\":[0.14969006306991284,0.14969006306991284],\"y\":[1.0,1.3],\"type\":\"scatter\",\"xaxis\":\"x2\",\"yaxis\":\"y2\"},{\"hoverinfo\":\"skip\",\"line\":{\"color\":\"black\",\"width\":1},\"mode\":\"lines\",\"showlegend\":false,\"x\":[0.15007306593855932,0.15007306593855932],\"y\":[1.0,0.75],\"type\":\"scatter\",\"xaxis\":\"x2\",\"yaxis\":\"y2\"},{\"hoverinfo\":\"skip\",\"line\":{\"color\":\"black\",\"width\":1},\"mode\":\"lines\",\"showlegend\":false,\"x\":[0.16182609946583448,0.16182609946583448],\"y\":[1.0,1.75],\"type\":\"scatter\",\"xaxis\":\"x2\",\"yaxis\":\"y2\"},{\"hoverinfo\":\"skip\",\"line\":{\"color\":\"black\",\"width\":1},\"mode\":\"lines\",\"showlegend\":false,\"x\":[0.1641949929162041,0.1641949929162041],\"y\":[1.0,0.3],\"type\":\"scatter\",\"xaxis\":\"x2\",\"yaxis\":\"y2\"},{\"hoverinfo\":\"skip\",\"marker\":{\"color\":\"limegreen\"},\"opacity\":0.7,\"showlegend\":false,\"width\":0.008663267543571296,\"x\":[-0.15526299775298733,-0.1444339133235232,-0.13360482889405909,-0.12277574446459497,-0.11194666003513086,-0.10111757560566675,-0.09028849117620263,-0.07945940674673851,-0.0686303223172744,-0.057801237887810275,-0.04697215345834616,-0.036143069028882056,-0.025313984599417944,-0.014484900169953824,-0.003655815740489704,0.007173268688974416,0.018002353118438535,0.028831437547902655,0.039660521977366775,0.050489606406830895,0.061318690836295,0.0721477752657591,0.08297685969522323,0.09380594412468733,0.10463502855415144,0.11546411298361556,0.12629319741307968,0.1371222818425438,0.14795136627200792,0.15878045070147204],\"y\":[0.08181818181818182,0.12272727272727273,0.04090909090909091,0.08181818181818182,0.20454545454545453,0.12272727272727273,0.24545454545454545,0.3681818181818182,0.32727272727272727,0.5727272727272728,0.24545454545454545,0.6136363636363636,0.5727272727272728,0.8181818181818181,0.7363636363636364,0.6136363636363636,0.9,0.5318181818181819,0.32727272727272727,0.40909090909090906,0.20454545454545453,0.2863636363636364,0.2863636363636364,0.32727272727272727,0.20454545454545453,0.16363636363636364,0.12272727272727273,0.08181818181818182,0.08181818181818182,0.08181818181818182],\"type\":\"bar\",\"xaxis\":\"x2\",\"yaxis\":\"y2\"}],                        {\"template\":{\"data\":{\"histogram2dcontour\":[{\"type\":\"histogram2dcontour\",\"colorbar\":{\"outlinewidth\":0,\"ticks\":\"\"},\"colorscale\":[[0.0,\"#0d0887\"],[0.1111111111111111,\"#46039f\"],[0.2222222222222222,\"#7201a8\"],[0.3333333333333333,\"#9c179e\"],[0.4444444444444444,\"#bd3786\"],[0.5555555555555556,\"#d8576b\"],[0.6666666666666666,\"#ed7953\"],[0.7777777777777778,\"#fb9f3a\"],[0.8888888888888888,\"#fdca26\"],[1.0,\"#f0f921\"]]}],\"choropleth\":[{\"type\":\"choropleth\",\"colorbar\":{\"outlinewidth\":0,\"ticks\":\"\"}}],\"histogram2d\":[{\"type\":\"histogram2d\",\"colorbar\":{\"outlinewidth\":0,\"ticks\":\"\"},\"colorscale\":[[0.0,\"#0d0887\"],[0.1111111111111111,\"#46039f\"],[0.2222222222222222,\"#7201a8\"],[0.3333333333333333,\"#9c179e\"],[0.4444444444444444,\"#bd3786\"],[0.5555555555555556,\"#d8576b\"],[0.6666666666666666,\"#ed7953\"],[0.7777777777777778,\"#fb9f3a\"],[0.8888888888888888,\"#fdca26\"],[1.0,\"#f0f921\"]]}],\"heatmap\":[{\"type\":\"heatmap\",\"colorbar\":{\"outlinewidth\":0,\"ticks\":\"\"},\"colorscale\":[[0.0,\"#0d0887\"],[0.1111111111111111,\"#46039f\"],[0.2222222222222222,\"#7201a8\"],[0.3333333333333333,\"#9c179e\"],[0.4444444444444444,\"#bd3786\"],[0.5555555555555556,\"#d8576b\"],[0.6666666666666666,\"#ed7953\"],[0.7777777777777778,\"#fb9f3a\"],[0.8888888888888888,\"#fdca26\"],[1.0,\"#f0f921\"]]}],\"heatmapgl\":[{\"type\":\"heatmapgl\",\"colorbar\":{\"outlinewidth\":0,\"ticks\":\"\"},\"colorscale\":[[0.0,\"#0d0887\"],[0.1111111111111111,\"#46039f\"],[0.2222222222222222,\"#7201a8\"],[0.3333333333333333,\"#9c179e\"],[0.4444444444444444,\"#bd3786\"],[0.5555555555555556,\"#d8576b\"],[0.6666666666666666,\"#ed7953\"],[0.7777777777777778,\"#fb9f3a\"],[0.8888888888888888,\"#fdca26\"],[1.0,\"#f0f921\"]]}],\"contourcarpet\":[{\"type\":\"contourcarpet\",\"colorbar\":{\"outlinewidth\":0,\"ticks\":\"\"}}],\"contour\":[{\"type\":\"contour\",\"colorbar\":{\"outlinewidth\":0,\"ticks\":\"\"},\"colorscale\":[[0.0,\"#0d0887\"],[0.1111111111111111,\"#46039f\"],[0.2222222222222222,\"#7201a8\"],[0.3333333333333333,\"#9c179e\"],[0.4444444444444444,\"#bd3786\"],[0.5555555555555556,\"#d8576b\"],[0.6666666666666666,\"#ed7953\"],[0.7777777777777778,\"#fb9f3a\"],[0.8888888888888888,\"#fdca26\"],[1.0,\"#f0f921\"]]}],\"surface\":[{\"type\":\"surface\",\"colorbar\":{\"outlinewidth\":0,\"ticks\":\"\"},\"colorscale\":[[0.0,\"#0d0887\"],[0.1111111111111111,\"#46039f\"],[0.2222222222222222,\"#7201a8\"],[0.3333333333333333,\"#9c179e\"],[0.4444444444444444,\"#bd3786\"],[0.5555555555555556,\"#d8576b\"],[0.6666666666666666,\"#ed7953\"],[0.7777777777777778,\"#fb9f3a\"],[0.8888888888888888,\"#fdca26\"],[1.0,\"#f0f921\"]]}],\"mesh3d\":[{\"type\":\"mesh3d\",\"colorbar\":{\"outlinewidth\":0,\"ticks\":\"\"}}],\"scatter\":[{\"fillpattern\":{\"fillmode\":\"overlay\",\"size\":10,\"solidity\":0.2},\"type\":\"scatter\"}],\"parcoords\":[{\"type\":\"parcoords\",\"line\":{\"colorbar\":{\"outlinewidth\":0,\"ticks\":\"\"}}}],\"scatterpolargl\":[{\"type\":\"scatterpolargl\",\"marker\":{\"colorbar\":{\"outlinewidth\":0,\"ticks\":\"\"}}}],\"bar\":[{\"error_x\":{\"color\":\"#2a3f5f\"},\"error_y\":{\"color\":\"#2a3f5f\"},\"marker\":{\"line\":{\"color\":\"#E5ECF6\",\"width\":0.5},\"pattern\":{\"fillmode\":\"overlay\",\"size\":10,\"solidity\":0.2}},\"type\":\"bar\"}],\"scattergeo\":[{\"type\":\"scattergeo\",\"marker\":{\"colorbar\":{\"outlinewidth\":0,\"ticks\":\"\"}}}],\"scatterpolar\":[{\"type\":\"scatterpolar\",\"marker\":{\"colorbar\":{\"outlinewidth\":0,\"ticks\":\"\"}}}],\"histogram\":[{\"marker\":{\"pattern\":{\"fillmode\":\"overlay\",\"size\":10,\"solidity\":0.2}},\"type\":\"histogram\"}],\"scattergl\":[{\"type\":\"scattergl\",\"marker\":{\"colorbar\":{\"outlinewidth\":0,\"ticks\":\"\"}}}],\"scatter3d\":[{\"type\":\"scatter3d\",\"line\":{\"colorbar\":{\"outlinewidth\":0,\"ticks\":\"\"}},\"marker\":{\"colorbar\":{\"outlinewidth\":0,\"ticks\":\"\"}}}],\"scattermapbox\":[{\"type\":\"scattermapbox\",\"marker\":{\"colorbar\":{\"outlinewidth\":0,\"ticks\":\"\"}}}],\"scatterternary\":[{\"type\":\"scatterternary\",\"marker\":{\"colorbar\":{\"outlinewidth\":0,\"ticks\":\"\"}}}],\"scattercarpet\":[{\"type\":\"scattercarpet\",\"marker\":{\"colorbar\":{\"outlinewidth\":0,\"ticks\":\"\"}}}],\"carpet\":[{\"aaxis\":{\"endlinecolor\":\"#2a3f5f\",\"gridcolor\":\"white\",\"linecolor\":\"white\",\"minorgridcolor\":\"white\",\"startlinecolor\":\"#2a3f5f\"},\"baxis\":{\"endlinecolor\":\"#2a3f5f\",\"gridcolor\":\"white\",\"linecolor\":\"white\",\"minorgridcolor\":\"white\",\"startlinecolor\":\"#2a3f5f\"},\"type\":\"carpet\"}],\"table\":[{\"cells\":{\"fill\":{\"color\":\"#EBF0F8\"},\"line\":{\"color\":\"white\"}},\"header\":{\"fill\":{\"color\":\"#C8D4E3\"},\"line\":{\"color\":\"white\"}},\"type\":\"table\"}],\"barpolar\":[{\"marker\":{\"line\":{\"color\":\"#E5ECF6\",\"width\":0.5},\"pattern\":{\"fillmode\":\"overlay\",\"size\":10,\"solidity\":0.2}},\"type\":\"barpolar\"}],\"pie\":[{\"automargin\":true,\"type\":\"pie\"}]},\"layout\":{\"autotypenumbers\":\"strict\",\"colorway\":[\"#636efa\",\"#EF553B\",\"#00cc96\",\"#ab63fa\",\"#FFA15A\",\"#19d3f3\",\"#FF6692\",\"#B6E880\",\"#FF97FF\",\"#FECB52\"],\"font\":{\"color\":\"#2a3f5f\"},\"hovermode\":\"closest\",\"hoverlabel\":{\"align\":\"left\"},\"paper_bgcolor\":\"white\",\"plot_bgcolor\":\"#E5ECF6\",\"polar\":{\"bgcolor\":\"#E5ECF6\",\"angularaxis\":{\"gridcolor\":\"white\",\"linecolor\":\"white\",\"ticks\":\"\"},\"radialaxis\":{\"gridcolor\":\"white\",\"linecolor\":\"white\",\"ticks\":\"\"}},\"ternary\":{\"bgcolor\":\"#E5ECF6\",\"aaxis\":{\"gridcolor\":\"white\",\"linecolor\":\"white\",\"ticks\":\"\"},\"baxis\":{\"gridcolor\":\"white\",\"linecolor\":\"white\",\"ticks\":\"\"},\"caxis\":{\"gridcolor\":\"white\",\"linecolor\":\"white\",\"ticks\":\"\"}},\"coloraxis\":{\"colorbar\":{\"outlinewidth\":0,\"ticks\":\"\"}},\"colorscale\":{\"sequential\":[[0.0,\"#0d0887\"],[0.1111111111111111,\"#46039f\"],[0.2222222222222222,\"#7201a8\"],[0.3333333333333333,\"#9c179e\"],[0.4444444444444444,\"#bd3786\"],[0.5555555555555556,\"#d8576b\"],[0.6666666666666666,\"#ed7953\"],[0.7777777777777778,\"#fb9f3a\"],[0.8888888888888888,\"#fdca26\"],[1.0,\"#f0f921\"]],\"sequentialminus\":[[0.0,\"#0d0887\"],[0.1111111111111111,\"#46039f\"],[0.2222222222222222,\"#7201a8\"],[0.3333333333333333,\"#9c179e\"],[0.4444444444444444,\"#bd3786\"],[0.5555555555555556,\"#d8576b\"],[0.6666666666666666,\"#ed7953\"],[0.7777777777777778,\"#fb9f3a\"],[0.8888888888888888,\"#fdca26\"],[1.0,\"#f0f921\"]],\"diverging\":[[0,\"#8e0152\"],[0.1,\"#c51b7d\"],[0.2,\"#de77ae\"],[0.3,\"#f1b6da\"],[0.4,\"#fde0ef\"],[0.5,\"#f7f7f7\"],[0.6,\"#e6f5d0\"],[0.7,\"#b8e186\"],[0.8,\"#7fbc41\"],[0.9,\"#4d9221\"],[1,\"#276419\"]]},\"xaxis\":{\"gridcolor\":\"white\",\"linecolor\":\"white\",\"ticks\":\"\",\"title\":{\"standoff\":15},\"zerolinecolor\":\"white\",\"automargin\":true,\"zerolinewidth\":2},\"yaxis\":{\"gridcolor\":\"white\",\"linecolor\":\"white\",\"ticks\":\"\",\"title\":{\"standoff\":15},\"zerolinecolor\":\"white\",\"automargin\":true,\"zerolinewidth\":2},\"scene\":{\"xaxis\":{\"backgroundcolor\":\"#E5ECF6\",\"gridcolor\":\"white\",\"linecolor\":\"white\",\"showbackground\":true,\"ticks\":\"\",\"zerolinecolor\":\"white\",\"gridwidth\":2},\"yaxis\":{\"backgroundcolor\":\"#E5ECF6\",\"gridcolor\":\"white\",\"linecolor\":\"white\",\"showbackground\":true,\"ticks\":\"\",\"zerolinecolor\":\"white\",\"gridwidth\":2},\"zaxis\":{\"backgroundcolor\":\"#E5ECF6\",\"gridcolor\":\"white\",\"linecolor\":\"white\",\"showbackground\":true,\"ticks\":\"\",\"zerolinecolor\":\"white\",\"gridwidth\":2}},\"shapedefaults\":{\"line\":{\"color\":\"#2a3f5f\"}},\"annotationdefaults\":{\"arrowcolor\":\"#2a3f5f\",\"arrowhead\":0,\"arrowwidth\":1},\"geo\":{\"bgcolor\":\"white\",\"landcolor\":\"#E5ECF6\",\"subunitcolor\":\"white\",\"showland\":true,\"showlakes\":true,\"lakecolor\":\"white\"},\"title\":{\"x\":0.05},\"mapbox\":{\"style\":\"light\"}}},\"xaxis\":{\"anchor\":\"y\",\"domain\":[0.0,1.0],\"range\":[-0.9512644509918089,0.9512644509918089]},\"yaxis\":{\"anchor\":\"x\",\"domain\":[0.55,1.0],\"showticklabels\":false,\"range\":[0,2.5]},\"xaxis2\":{\"anchor\":\"y2\",\"domain\":[0.0,1.0],\"range\":[-0.18061449220782452,0.18061449220782452]},\"yaxis2\":{\"anchor\":\"x2\",\"domain\":[0.0,0.45],\"showticklabels\":false,\"range\":[0,2.5]},\"annotations\":[{\"font\":{\"size\":16},\"showarrow\":false,\"text\":\"PC2 Cosine Similarity\",\"x\":0.5,\"xanchor\":\"center\",\"xref\":\"paper\",\"y\":1.0,\"yanchor\":\"bottom\",\"yref\":\"paper\"},{\"font\":{\"size\":16},\"showarrow\":false,\"text\":\"PC2 Normalized Projection\",\"x\":0.5,\"xanchor\":\"center\",\"xref\":\"paper\",\"y\":0.45,\"yanchor\":\"bottom\",\"yref\":\"paper\"},{\"bgcolor\":\"rgba(255, 255, 255, 0.9)\",\"bordercolor\":\"black\",\"borderwidth\":1,\"font\":{\"color\":\"black\",\"size\":10},\"showarrow\":false,\"text\":\"Understated\",\"x\":-0.8192228001958491,\"xref\":\"x\",\"y\":1.45,\"yref\":\"y\"},{\"bgcolor\":\"rgba(255, 255, 255, 0.9)\",\"bordercolor\":\"black\",\"borderwidth\":1,\"font\":{\"color\":\"black\",\"size\":10},\"showarrow\":false,\"text\":\"Literal\",\"x\":-0.8191491095067805,\"xref\":\"x\",\"y\":0.6,\"yref\":\"y\"},{\"bgcolor\":\"rgba(255, 255, 255, 0.9)\",\"bordercolor\":\"black\",\"borderwidth\":1,\"font\":{\"color\":\"black\",\"size\":10},\"showarrow\":false,\"text\":\"Materialist\",\"x\":-0.7497868695861059,\"xref\":\"x\",\"y\":1.9,\"yref\":\"y\"},{\"bgcolor\":\"rgba(255, 255, 255, 0.9)\",\"bordercolor\":\"black\",\"borderwidth\":1,\"font\":{\"color\":\"black\",\"size\":10},\"showarrow\":false,\"text\":\"Efficient\",\"x\":-0.6859934567245802,\"xref\":\"x\",\"y\":0.15,\"yref\":\"y\"},{\"bgcolor\":\"rgba(255, 255, 255, 0.9)\",\"bordercolor\":\"black\",\"borderwidth\":1,\"font\":{\"color\":\"black\",\"size\":10},\"showarrow\":false,\"text\":\"Concise\",\"x\":-0.6784033162513433,\"xref\":\"x\",\"y\":1.6,\"yref\":\"y\"},{\"bgcolor\":\"rgba(255, 255, 255, 0.9)\",\"bordercolor\":\"black\",\"borderwidth\":1,\"font\":{\"color\":\"black\",\"size\":10},\"showarrow\":false,\"text\":\"Reserved\",\"x\":-0.6494440733171283,\"xref\":\"x\",\"y\":0.45,\"yref\":\"y\"},{\"bgcolor\":\"rgba(255, 255, 255, 0.9)\",\"bordercolor\":\"black\",\"borderwidth\":1,\"font\":{\"color\":\"black\",\"size\":10},\"showarrow\":false,\"text\":\"Grounded\",\"x\":-0.6307292562526469,\"xref\":\"x\",\"y\":1.3,\"yref\":\"y\"},{\"bgcolor\":\"rgba(255, 255, 255, 0.9)\",\"bordercolor\":\"black\",\"borderwidth\":1,\"font\":{\"color\":\"black\",\"size\":10},\"showarrow\":false,\"text\":\"Convergent\",\"x\":-0.6251603504787093,\"xref\":\"x\",\"y\":0.75,\"yref\":\"y\"},{\"bgcolor\":\"rgba(255, 255, 255, 0.9)\",\"bordercolor\":\"black\",\"borderwidth\":1,\"font\":{\"color\":\"black\",\"size\":10},\"showarrow\":false,\"text\":\"Avoidant\",\"x\":-0.6230031913227695,\"xref\":\"x\",\"y\":1.75,\"yref\":\"y\"},{\"bgcolor\":\"rgba(255, 255, 255, 0.9)\",\"bordercolor\":\"black\",\"borderwidth\":1,\"font\":{\"color\":\"black\",\"size\":10},\"showarrow\":false,\"text\":\"Dispassionate\",\"x\":-0.6204005930390619,\"xref\":\"x\",\"y\":0.3,\"yref\":\"y\"},{\"bgcolor\":\"rgba(255, 255, 255, 0.9)\",\"bordercolor\":\"black\",\"borderwidth\":1,\"font\":{\"color\":\"black\",\"size\":10},\"showarrow\":false,\"text\":\"Theatrical\",\"x\":0.6710892434357568,\"xref\":\"x\",\"y\":1.45,\"yref\":\"y\"},{\"bgcolor\":\"rgba(255, 255, 255, 0.9)\",\"bordercolor\":\"black\",\"borderwidth\":1,\"font\":{\"color\":\"black\",\"size\":10},\"showarrow\":false,\"text\":\"Philosophical\",\"x\":0.6750559569700519,\"xref\":\"x\",\"y\":0.6,\"yref\":\"y\"},{\"bgcolor\":\"rgba(255, 255, 255, 0.9)\",\"bordercolor\":\"black\",\"borderwidth\":1,\"font\":{\"color\":\"black\",\"size\":10},\"showarrow\":false,\"text\":\"Artistic\",\"x\":0.6869181051511334,\"xref\":\"x\",\"y\":1.9,\"yref\":\"y\"},{\"bgcolor\":\"rgba(255, 255, 255, 0.9)\",\"bordercolor\":\"black\",\"borderwidth\":1,\"font\":{\"color\":\"black\",\"size\":10},\"showarrow\":false,\"text\":\"Dramatic\",\"x\":0.7071356898870715,\"xref\":\"x\",\"y\":0.15,\"yref\":\"y\"},{\"bgcolor\":\"rgba(255, 255, 255, 0.9)\",\"bordercolor\":\"black\",\"borderwidth\":1,\"font\":{\"color\":\"black\",\"size\":10},\"showarrow\":false,\"text\":\"Creative\",\"x\":0.7093970627880898,\"xref\":\"x\",\"y\":1.6,\"yref\":\"y\"},{\"bgcolor\":\"rgba(255, 255, 255, 0.9)\",\"bordercolor\":\"black\",\"borderwidth\":1,\"font\":{\"color\":\"black\",\"size\":10},\"showarrow\":false,\"text\":\"Animated\",\"x\":0.7549854031853053,\"xref\":\"x\",\"y\":0.45,\"yref\":\"y\"},{\"bgcolor\":\"rgba(255, 255, 255, 0.9)\",\"bordercolor\":\"black\",\"borderwidth\":1,\"font\":{\"color\":\"black\",\"size\":10},\"showarrow\":false,\"text\":\"Eloquent\",\"x\":0.7695472062737438,\"xref\":\"x\",\"y\":1.3,\"yref\":\"y\"},{\"bgcolor\":\"rgba(255, 255, 255, 0.9)\",\"bordercolor\":\"black\",\"borderwidth\":1,\"font\":{\"color\":\"black\",\"size\":10},\"showarrow\":false,\"text\":\"Metaphorical\",\"x\":0.779313783322524,\"xref\":\"x\",\"y\":0.75,\"yref\":\"y\"},{\"bgcolor\":\"rgba(255, 255, 255, 0.9)\",\"bordercolor\":\"black\",\"borderwidth\":1,\"font\":{\"color\":\"black\",\"size\":10},\"showarrow\":false,\"text\":\"Rhetorical\",\"x\":0.8108061805411999,\"xref\":\"x\",\"y\":1.75,\"yref\":\"y\"},{\"bgcolor\":\"rgba(255, 255, 255, 0.9)\",\"bordercolor\":\"black\",\"borderwidth\":1,\"font\":{\"color\":\"black\",\"size\":10},\"showarrow\":false,\"text\":\"Charismatic\",\"x\":0.864785864538008,\"xref\":\"x\",\"y\":0.3,\"yref\":\"y\"},{\"bgcolor\":\"rgba(255, 255, 255, 0.9)\",\"bordercolor\":\"red\",\"borderwidth\":1,\"font\":{\"color\":\"red\",\"size\":14},\"showarrow\":false,\"text\":\"Assistant\",\"x\":0.008165276161506786,\"xref\":\"x\",\"y\":2,\"yref\":\"y\"},{\"bgcolor\":\"rgba(255, 255, 255, 0.9)\",\"bordercolor\":\"black\",\"borderwidth\":1,\"font\":{\"color\":\"black\",\"size\":10},\"showarrow\":false,\"text\":\"Understated\",\"x\":-0.16067753996771938,\"xref\":\"x2\",\"y\":1.45,\"yref\":\"y2\"},{\"bgcolor\":\"rgba(255, 255, 255, 0.9)\",\"bordercolor\":\"black\",\"borderwidth\":1,\"font\":{\"color\":\"black\",\"size\":10},\"showarrow\":false,\"text\":\"Avoidant\",\"x\":-0.15104281033186262,\"xref\":\"x2\",\"y\":0.6,\"yref\":\"y2\"},{\"bgcolor\":\"rgba(255, 255, 255, 0.9)\",\"bordercolor\":\"black\",\"borderwidth\":1,\"font\":{\"color\":\"black\",\"size\":10},\"showarrow\":false,\"text\":\"Impulsive\",\"x\":-0.1473425286842597,\"xref\":\"x2\",\"y\":1.9,\"yref\":\"y2\"},{\"bgcolor\":\"rgba(255, 255, 255, 0.9)\",\"bordercolor\":\"black\",\"borderwidth\":1,\"font\":{\"color\":\"black\",\"size\":10},\"showarrow\":false,\"text\":\"Concise\",\"x\":-0.1468810201331296,\"xref\":\"x2\",\"y\":0.15,\"yref\":\"y2\"},{\"bgcolor\":\"rgba(255, 255, 255, 0.9)\",\"bordercolor\":\"black\",\"borderwidth\":1,\"font\":{\"color\":\"black\",\"size\":10},\"showarrow\":false,\"text\":\"Literal\",\"x\":-0.14578187355710095,\"xref\":\"x2\",\"y\":1.6,\"yref\":\"y2\"},{\"bgcolor\":\"rgba(255, 255, 255, 0.9)\",\"bordercolor\":\"black\",\"borderwidth\":1,\"font\":{\"color\":\"black\",\"size\":10},\"showarrow\":false,\"text\":\"Efficient\",\"x\":-0.1286277695380555,\"xref\":\"x2\",\"y\":0.45,\"yref\":\"y2\"},{\"bgcolor\":\"rgba(255, 255, 255, 0.9)\",\"bordercolor\":\"black\",\"borderwidth\":1,\"font\":{\"color\":\"black\",\"size\":10},\"showarrow\":false,\"text\":\"Reserved\",\"x\":-0.12345105686968653,\"xref\":\"x2\",\"y\":1.3,\"yref\":\"y2\"},{\"bgcolor\":\"rgba(255, 255, 255, 0.9)\",\"bordercolor\":\"black\",\"borderwidth\":1,\"font\":{\"color\":\"black\",\"size\":10},\"showarrow\":false,\"text\":\"Dispassionate\",\"x\":-0.11820826802975447,\"xref\":\"x2\",\"y\":0.75,\"yref\":\"y2\"},{\"bgcolor\":\"rgba(255, 255, 255, 0.9)\",\"bordercolor\":\"black\",\"borderwidth\":1,\"font\":{\"color\":\"black\",\"size\":10},\"showarrow\":false,\"text\":\"Nonchalant\",\"x\":-0.11600204567893783,\"xref\":\"x2\",\"y\":1.75,\"yref\":\"y2\"},{\"bgcolor\":\"rgba(255, 255, 255, 0.9)\",\"bordercolor\":\"black\",\"borderwidth\":1,\"font\":{\"color\":\"black\",\"size\":10},\"showarrow\":false,\"text\":\"Impatient\",\"x\":-0.1152124392175366,\"xref\":\"x2\",\"y\":0.3,\"yref\":\"y2\"},{\"bgcolor\":\"rgba(255, 255, 255, 0.9)\",\"bordercolor\":\"black\",\"borderwidth\":1,\"font\":{\"color\":\"black\",\"size\":10},\"showarrow\":false,\"text\":\"Generous\",\"x\":0.12034769030531073,\"xref\":\"x2\",\"y\":1.45,\"yref\":\"y2\"},{\"bgcolor\":\"rgba(255, 255, 255, 0.9)\",\"bordercolor\":\"black\",\"borderwidth\":1,\"font\":{\"color\":\"black\",\"size\":10},\"showarrow\":false,\"text\":\"Witty\",\"x\":0.1216594525196648,\"xref\":\"x2\",\"y\":0.6,\"yref\":\"y2\"},{\"bgcolor\":\"rgba(255, 255, 255, 0.9)\",\"bordercolor\":\"black\",\"borderwidth\":1,\"font\":{\"color\":\"black\",\"size\":10},\"showarrow\":false,\"text\":\"Melodramatic\",\"x\":0.12172283251843853,\"xref\":\"x2\",\"y\":1.9,\"yref\":\"y2\"},{\"bgcolor\":\"rgba(255, 255, 255, 0.9)\",\"bordercolor\":\"black\",\"borderwidth\":1,\"font\":{\"color\":\"black\",\"size\":10},\"showarrow\":false,\"text\":\"Rhetorical\",\"x\":0.12696958279147222,\"xref\":\"x2\",\"y\":0.15,\"yref\":\"y2\"},{\"bgcolor\":\"rgba(255, 255, 255, 0.9)\",\"bordercolor\":\"black\",\"borderwidth\":1,\"font\":{\"color\":\"black\",\"size\":10},\"showarrow\":false,\"text\":\"Dramatic\",\"x\":0.13630873450136213,\"xref\":\"x2\",\"y\":1.6,\"yref\":\"y2\"},{\"bgcolor\":\"rgba(255, 255, 255, 0.9)\",\"bordercolor\":\"black\",\"borderwidth\":1,\"font\":{\"color\":\"black\",\"size\":10},\"showarrow\":false,\"text\":\"Theatrical\",\"x\":0.14017763728048865,\"xref\":\"x2\",\"y\":0.45,\"yref\":\"y2\"},{\"bgcolor\":\"rgba(255, 255, 255, 0.9)\",\"bordercolor\":\"black\",\"borderwidth\":1,\"font\":{\"color\":\"black\",\"size\":10},\"showarrow\":false,\"text\":\"Animated\",\"x\":0.14969006306991284,\"xref\":\"x2\",\"y\":1.3,\"yref\":\"y2\"},{\"bgcolor\":\"rgba(255, 255, 255, 0.9)\",\"bordercolor\":\"black\",\"borderwidth\":1,\"font\":{\"color\":\"black\",\"size\":10},\"showarrow\":false,\"text\":\"Metaphorical\",\"x\":0.15007306593855932,\"xref\":\"x2\",\"y\":0.75,\"yref\":\"y2\"},{\"bgcolor\":\"rgba(255, 255, 255, 0.9)\",\"bordercolor\":\"black\",\"borderwidth\":1,\"font\":{\"color\":\"black\",\"size\":10},\"showarrow\":false,\"text\":\"Eloquent\",\"x\":0.16182609946583448,\"xref\":\"x2\",\"y\":1.75,\"yref\":\"y2\"},{\"bgcolor\":\"rgba(255, 255, 255, 0.9)\",\"bordercolor\":\"black\",\"borderwidth\":1,\"font\":{\"color\":\"black\",\"size\":10},\"showarrow\":false,\"text\":\"Charismatic\",\"x\":0.1641949929162041,\"xref\":\"x2\",\"y\":0.3,\"yref\":\"y2\"},{\"bgcolor\":\"rgba(255, 255, 255, 0.9)\",\"bordercolor\":\"red\",\"borderwidth\":1,\"font\":{\"color\":\"red\",\"size\":14},\"showarrow\":false,\"text\":\"Assistant\",\"x\":0.002244778553328363,\"xref\":\"x2\",\"y\":2,\"yref\":\"y2\"}],\"shapes\":[{\"line\":{\"color\":\"gray\",\"dash\":\"solid\",\"width\":1},\"opacity\":0.7,\"type\":\"line\",\"x0\":0,\"x1\":0,\"xref\":\"x\",\"y0\":0,\"y1\":1,\"yref\":\"y domain\"},{\"line\":{\"color\":\"red\",\"dash\":\"dash\",\"width\":1},\"opacity\":1.0,\"type\":\"line\",\"x0\":0.008165276161506786,\"x1\":0.008165276161506786,\"xref\":\"x\",\"y0\":0,\"y1\":1,\"yref\":\"y domain\"},{\"line\":{\"color\":\"gray\",\"dash\":\"solid\",\"width\":1},\"opacity\":0.7,\"type\":\"line\",\"x0\":0,\"x1\":0,\"xref\":\"x2\",\"y0\":0,\"y1\":1,\"yref\":\"y2 domain\"},{\"line\":{\"color\":\"red\",\"dash\":\"dash\",\"width\":1},\"opacity\":1.0,\"type\":\"line\",\"x0\":0.002244778553328363,\"x1\":0.002244778553328363,\"xref\":\"x2\",\"y0\":0,\"y1\":1,\"yref\":\"y2 domain\"}],\"title\":{\"subtitle\":{\"text\":\"Gemma 2 27B Base, Layer 22 - Shared Question Set, Mean-Centered and Scaled Vectors\"},\"font\":{\"size\":16},\"text\":\"PCA on Trait Vectors\",\"x\":0.5},\"height\":800,\"width\":1200,\"showlegend\":false},                        {\"responsive\": true}                    ).then(function(){\n",
       "                            \n",
       "var gd = document.getElementById('f4239709-eb6f-4f01-995a-6ab2bcca3b99');\n",
       "var x = new MutationObserver(function (mutations, observer) {{\n",
       "        var display = window.getComputedStyle(gd).display;\n",
       "        if (!display || display === 'none') {{\n",
       "            console.log([gd, 'removed!']);\n",
       "            Plotly.purge(gd);\n",
       "            observer.disconnect();\n",
       "        }}\n",
       "}});\n",
       "\n",
       "// Listen for the removal of the full notebook cells\n",
       "var notebookContainer = gd.closest('#notebook-container');\n",
       "if (notebookContainer) {{\n",
       "    x.observe(notebookContainer, {childList: true});\n",
       "}}\n",
       "\n",
       "// Listen for the clearing of the current output cell\n",
       "var outputEl = gd.closest('.output');\n",
       "if (outputEl) {{\n",
       "    x.observe(outputEl, {childList: true});\n",
       "}}\n",
       "\n",
       "                        })                };                });            </script>        </div>"
      ]
     },
     "metadata": {},
     "output_type": "display_data"
    },
    {
     "data": {
      "application/vnd.plotly.v1+json": {
       "config": {
        "plotlyServerURL": "https://plot.ly"
       },
       "data": [
        {
         "hovertemplate": "<b>%{text}</b><br>Cosine Similarity: %{x:.3f}<extra></extra>",
         "marker": {
          "color": "limegreen",
          "line": {
           "color": "black",
           "width": 1
          },
          "opacity": 1,
          "size": 8,
          "symbol": "diamond"
         },
         "mode": "markers",
         "showlegend": false,
         "text": [
          "Zealous",
          "Wry",
          "Witty",
          "Whimsical",
          "Visceral",
          "Verbose",
          "Utilitarian",
          "Urgent",
          "Universalist",
          "Understated",
          "Transparent",
          "Traditional",
          "Theoretical",
          "Theatrical",
          "Temperamental",
          "Tactful",
          "Systems thinker",
          "Sycophantic",
          "Supportive",
          "Subversive",
          "Submissive",
          "Structuralist",
          "Stream of consciousness",
          "Strategic",
          "Stoic",
          "Spontaneous",
          "Spiritual",
          "Speculative",
          "Solemn",
          "Socratic",
          "Skeptical",
          "Serious",
          "Serene",
          "Secular",
          "Savage",
          "Sassy",
          "Sardonic",
          "Sarcastic",
          "Romantic",
          "Ritualistic",
          "Risk taking",
          "Rhetorical",
          "Reverent",
          "Resilient",
          "Reserved",
          "Relativist",
          "Regulatory",
          "Reductionist",
          "Rebellious",
          "Reactive",
          "Rationalist",
          "Radical",
          "Quantitative",
          "Qualitative",
          "Provocative",
          "Progressive",
          "Problem solving",
          "Proactive",
          "Principled",
          "Prescriptive",
          "Practical",
          "Poetic",
          "Pluralist",
          "Playful",
          "Philosophical",
          "Petty",
          "Pessimistic",
          "Pensive",
          "Pedantic",
          "Patient",
          "Passive aggressive",
          "Passionate",
          "Paranoid",
          "Paradoxical",
          "Pacifist",
          "Open ended",
          "Obsessive",
          "Nurturing",
          "Nostalgic",
          "Nonchalant",
          "Nihilistic",
          "Neurotic",
          "Narrative",
          "Naive",
          "Mystical",
          "Moderate",
          "Mischievous",
          "Misanthropic",
          "Militant",
          "Meticulous",
          "Methodical",
          "Metaphorical",
          "Mercurial",
          "Melodramatic",
          "Meditative",
          "Materialist",
          "Manipulative",
          "Manic",
          "Literal",
          "Libertarian",
          "Judgmental",
          "Irreverent",
          "Ironic",
          "Intuitive",
          "Introverted",
          "Introspective",
          "Interdisciplinary",
          "Inspirational",
          "Inquisitive",
          "Innovative",
          "Individualistic",
          "Independent",
          "Inclusive",
          "Impulsive",
          "Impatient",
          "Idealistic",
          "Iconoclastic",
          "Humble",
          "Humanistic",
          "Hostile",
          "Holistic",
          "Historical",
          "Hedonistic",
          "Grounded",
          "Grandiose",
          "Goofy",
          "Generous",
          "Generalist",
          "Futuristic",
          "Fundamentalist",
          "Formalist",
          "Formal",
          "Flirty",
          "Flippant",
          "Flexible",
          "Fatalistic",
          "Factual",
          "Extroverted",
          "Exploratory",
          "Experiential",
          "Existentialist",
          "Evil",
          "Ethereal",
          "Essentialist",
          "Epicurean",
          "Environmental",
          "Entertaining",
          "Enigmatic",
          "Eloquent",
          "Elitist",
          "Egalitarian",
          "Effusive",
          "Efficient",
          "Educational",
          "Edgy",
          "Eclectic",
          "Earnest",
          "Dramatic",
          "Dominant",
          "Dogmatic",
          "Divergent",
          "Dispassionate",
          "Disorganized",
          "Diplomatic",
          "Deterministic",
          "Detached",
          "Descriptive",
          "Deontological",
          "Deferential",
          "Deconstructionist",
          "Decisive",
          "Data driven",
          "Cynical",
          "Curious",
          "Cryptic",
          "Cruel",
          "Critical",
          "Creative",
          "Cosmopolitan",
          "Convergent",
          "Contrarian",
          "Contemporary",
          "Constructivist",
          "Conscientious",
          "Confident",
          "Condescending",
          "Concise",
          "Conciliatory",
          "Conceptual",
          "Competitive",
          "Collectivistic",
          "Collaborative",
          "Closure seeking",
          "Circumspect",
          "Charismatic",
          "Chaotic",
          "Challenging",
          "Cautious",
          "Calm",
          "Calculating",
          "Bombastic",
          "Blunt",
          "Bitter",
          "Big picture",
          "Benevolent",
          "Avoidant",
          "Assertive",
          "Ascetic",
          "Artistic",
          "Anxious",
          "Anthropocentric",
          "Animated",
          "Analytical",
          "Altruistic",
          "Agreeable",
          "Adventurous",
          "Adaptable",
          "Abstract",
          "Absolutist"
         ],
         "type": "scatter",
         "x": [
          0.11998152116409233,
          0.32706288676979184,
          -0.13151978631050928,
          -0.13088529548374397,
          -0.26903241371364195,
          0.20426120535216843,
          0.02389836400363871,
          0.1518583515142402,
          -0.002652515797361349,
          -0.3091986722644654,
          -0.03853536086252275,
          -0.1944851492403125,
          0.34302428204518554,
          0.23038067183756397,
          -0.03256663409383004,
          -0.3831567188295279,
          0.08386301227590788,
          -0.33423061115606534,
          -0.2944675530435446,
          -0.05170914597114818,
          -0.5028196552392123,
          0.35565665557711257,
          -0.44135281575458907,
          0.1837716630321521,
          0.40952964209968107,
          -0.3162899789501546,
          -0.06046360506689809,
          -0.13072862875804256,
          0.2718676831738027,
          -0.38642491365532833,
          0.37421776929240935,
          0.3514469563599504,
          -0.26023632073097713,
          -0.06888011099760337,
          0.3709904153923699,
          0.16864330166079422,
          0.2911925572992344,
          0.3317209712767007,
          -0.14686424238475346,
          0.47446626861988195,
          -0.13662737105288375,
          0.06586122307723973,
          0.04588826194164829,
          -0.16061829918932152,
          0.13821492125945642,
          -0.17260056601255097,
          -0.018967554307449917,
          -0.08505673247116363,
          -0.002165098515370844,
          -0.4921599471013338,
          0.2848857714154866,
          0.16596338937672023,
          0.26107107618126696,
          -0.32962024750276386,
          0.33548737488421865,
          -0.22405452414878882,
          0.19393610024673294,
          0.17127460865353353,
          0.06469986484440304,
          0.37469522686009477,
          -0.36048361122734807,
          0.003849778168456356,
          -0.27193982042221293,
          -0.4276961248275387,
          0.2316293158776787,
          0.15367469755569793,
          0.3360319633735767,
          0.23714881533623133,
          0.43733240300122833,
          -0.16087344861051706,
          0.025594993311753488,
          -0.06534463489367086,
          0.11937185989281024,
          -0.10426964539194304,
          -0.19495666386678642,
          -0.5671734309693359,
          0.09066003036581843,
          -0.45077562842429203,
          -0.15344492083969818,
          -0.04451346774073985,
          0.39078678100448466,
          -0.05724371279021239,
          -0.1501629763876868,
          -0.4980631521015966,
          -0.13555445989537454,
          -0.3173376759076461,
          -0.08221427103711618,
          0.41278351310611044,
          0.4103666683439847,
          0.4782398163838322,
          0.26536845242139717,
          -0.025276909130099338,
          -0.04748477210842773,
          0.2033655606411291,
          -0.0807921291446353,
          0.011396669267682805,
          -0.02652699870802915,
          -0.14017268994551274,
          -0.17214365093778494,
          -0.08078591280642476,
          0.3314087682721146,
          -0.14536353011874367,
          0.15243950997253333,
          -0.24154298163524598,
          0.444234747473423,
          -0.06332851457842774,
          0.1396743981976084,
          -0.37406529969561353,
          -0.3175135252218751,
          0.0891441250611954,
          -0.19695438745949956,
          0.015997813006153064,
          -0.041742391501697486,
          -0.26108439277033174,
          -0.10635658496372377,
          -0.036743861389495404,
          0.40359178926853745,
          -0.4231033131061376,
          -0.43820478382564293,
          0.42124401735599604,
          0.1127813724080131,
          0.20968430251497194,
          -0.2765499469828871,
          -0.25166379401146327,
          0.47923645295005296,
          -0.15649003097174613,
          0.11256227317733038,
          0.08542328849295318,
          -0.007895491126207023,
          0.18375309075827415,
          0.4203183414920434,
          0.41124449613602215,
          -0.2896502802645314,
          -0.13738324699975027,
          -0.41674539657831683,
          0.2024135765006117,
          -0.04525373379343542,
          -0.5455968044547284,
          0.011067571125815419,
          -0.3996426530870387,
          -0.39894264277668445,
          0.1733836146566587,
          0.04483602671666767,
          0.25645626800953536,
          0.11207031972836086,
          -0.0949171613223448,
          -0.3027640129332949,
          0.021486601177636244,
          0.26901746712860825,
          0.468151198572956,
          -0.2271222642699946,
          -0.2631739844762656,
          -0.3058064541364557,
          0.18550167534679976,
          0.23222243142472607,
          0.04260217304625635,
          -0.13311225082479353,
          0.1722709368301642,
          0.3820614524691069,
          0.19003012364987185,
          0.08105441113568797,
          0.30720062845495066,
          -0.23133241041806382,
          -0.3083764669324459,
          0.30177949925896386,
          0.4491078217803572,
          0.03312189483887994,
          -0.1624266147704347,
          -0.39419007211824164,
          0.2050319105303406,
          0.20138232025397468,
          0.28812484047639764,
          0.48208278772458024,
          -0.23681531771701012,
          0.15008701764161617,
          0.4974281353659848,
          0.2665897931907063,
          -0.03974699629155391,
          0.04457029228486335,
          -0.02991869489964569,
          0.3618695756916853,
          -0.29281605939403504,
          -0.2958620357487686,
          0.16579226187004203,
          0.27391859307006466,
          0.23908678372421036,
          -0.2638381376344406,
          -0.44305725794702444,
          0.08034221892038355,
          0.46943287801667255,
          -0.16954405091471828,
          -0.34905406710524317,
          0.1442456603385176,
          -0.16398224877663417,
          -0.08141029890324364,
          -0.12467890880587786,
          0.3054067139764276,
          0.03190803553363079,
          -0.26692372166976663,
          0.21611371647254418,
          0.4801892941437829,
          0.24506589074447727,
          0.3419172363236396,
          0.07015061003653081,
          -0.49165948397778225,
          -0.3671073504937978,
          0.12590026283067357,
          0.1428138561232557,
          -0.21475272102954596,
          -0.11158816496323663,
          -0.11870300854631038,
          -0.2238121076699754,
          0.34325762110479524,
          -0.27791234434828316,
          -0.5260520394812296,
          -0.11994788946400566,
          -0.5033000144995288,
          0.17110838753403487,
          0.27989466482843184
         ],
         "xaxis": "x",
         "y": [
          1,
          1,
          1,
          1,
          1,
          1,
          1,
          1,
          1,
          1,
          1,
          1,
          1,
          1,
          1,
          1,
          1,
          1,
          1,
          1,
          1,
          1,
          1,
          1,
          1,
          1,
          1,
          1,
          1,
          1,
          1,
          1,
          1,
          1,
          1,
          1,
          1,
          1,
          1,
          1,
          1,
          1,
          1,
          1,
          1,
          1,
          1,
          1,
          1,
          1,
          1,
          1,
          1,
          1,
          1,
          1,
          1,
          1,
          1,
          1,
          1,
          1,
          1,
          1,
          1,
          1,
          1,
          1,
          1,
          1,
          1,
          1,
          1,
          1,
          1,
          1,
          1,
          1,
          1,
          1,
          1,
          1,
          1,
          1,
          1,
          1,
          1,
          1,
          1,
          1,
          1,
          1,
          1,
          1,
          1,
          1,
          1,
          1,
          1,
          1,
          1,
          1,
          1,
          1,
          1,
          1,
          1,
          1,
          1,
          1,
          1,
          1,
          1,
          1,
          1,
          1,
          1,
          1,
          1,
          1,
          1,
          1,
          1,
          1,
          1,
          1,
          1,
          1,
          1,
          1,
          1,
          1,
          1,
          1,
          1,
          1,
          1,
          1,
          1,
          1,
          1,
          1,
          1,
          1,
          1,
          1,
          1,
          1,
          1,
          1,
          1,
          1,
          1,
          1,
          1,
          1,
          1,
          1,
          1,
          1,
          1,
          1,
          1,
          1,
          1,
          1,
          1,
          1,
          1,
          1,
          1,
          1,
          1,
          1,
          1,
          1,
          1,
          1,
          1,
          1,
          1,
          1,
          1,
          1,
          1,
          1,
          1,
          1,
          1,
          1,
          1,
          1,
          1,
          1,
          1,
          1,
          1,
          1,
          1,
          1,
          1,
          1,
          1,
          1,
          1,
          1,
          1,
          1,
          1,
          1,
          1,
          1,
          1,
          1,
          1,
          1,
          1,
          1,
          1
         ],
         "yaxis": "y"
        },
        {
         "hovertemplate": "<b>%{text}</b><br>Cosine Similarity: %{x:.3f}<extra></extra>",
         "marker": {
          "color": "limegreen",
          "line": {
           "color": "black",
           "width": 1
          },
          "opacity": 1,
          "size": 8,
          "symbol": "diamond"
         },
         "mode": "markers",
         "showlegend": false,
         "text": [
          "Technical",
          "Specialized",
          "Perfectionist",
          "Optimistic",
          "Melancholic",
          "Improvisational",
          "Gregarious",
          "Forgiving",
          "Esoteric",
          "Erudite",
          "Empathetic",
          "Emotional",
          "Confrontational",
          "Chill",
          "Casual",
          "Callous",
          "Arrogant",
          "Acerbic",
          "Accommodating",
          "Accessible"
         ],
         "type": "scatter",
         "x": [
          0.5902677465343632,
          0.606212701168514,
          0.5186731907135973,
          -0.6019101797850197,
          0.5250989642158564,
          -0.6822582704847411,
          -0.6577545106790819,
          -0.6523668206543916,
          0.5635137830626804,
          0.5975939087499686,
          -0.758685861644135,
          -0.6036279256829348,
          0.5597078445440977,
          -0.6724285745799695,
          -0.6867437901806005,
          0.5132338643287503,
          0.5744649798904864,
          0.5356283191878192,
          -0.6982688030271413,
          -0.5680603446451626
         ],
         "xaxis": "x",
         "y": [
          1,
          1,
          1,
          1,
          1,
          1,
          1,
          1,
          1,
          1,
          1,
          1,
          1,
          1,
          1,
          1,
          1,
          1,
          1,
          1
         ],
         "yaxis": "y"
        },
        {
         "hoverinfo": "skip",
         "line": {
          "color": "black",
          "width": 1
         },
         "mode": "lines",
         "showlegend": false,
         "type": "scatter",
         "x": [
          -0.758685861644135,
          -0.758685861644135
         ],
         "xaxis": "x",
         "y": [
          1,
          1.45
         ],
         "yaxis": "y"
        },
        {
         "hoverinfo": "skip",
         "line": {
          "color": "black",
          "width": 1
         },
         "mode": "lines",
         "showlegend": false,
         "type": "scatter",
         "x": [
          -0.6982688030271413,
          -0.6982688030271413
         ],
         "xaxis": "x",
         "y": [
          1,
          0.6
         ],
         "yaxis": "y"
        },
        {
         "hoverinfo": "skip",
         "line": {
          "color": "black",
          "width": 1
         },
         "mode": "lines",
         "showlegend": false,
         "type": "scatter",
         "x": [
          -0.6867437901806005,
          -0.6867437901806005
         ],
         "xaxis": "x",
         "y": [
          1,
          1.9
         ],
         "yaxis": "y"
        },
        {
         "hoverinfo": "skip",
         "line": {
          "color": "black",
          "width": 1
         },
         "mode": "lines",
         "showlegend": false,
         "type": "scatter",
         "x": [
          -0.6822582704847411,
          -0.6822582704847411
         ],
         "xaxis": "x",
         "y": [
          1,
          0.15
         ],
         "yaxis": "y"
        },
        {
         "hoverinfo": "skip",
         "line": {
          "color": "black",
          "width": 1
         },
         "mode": "lines",
         "showlegend": false,
         "type": "scatter",
         "x": [
          -0.6724285745799695,
          -0.6724285745799695
         ],
         "xaxis": "x",
         "y": [
          1,
          1.6
         ],
         "yaxis": "y"
        },
        {
         "hoverinfo": "skip",
         "line": {
          "color": "black",
          "width": 1
         },
         "mode": "lines",
         "showlegend": false,
         "type": "scatter",
         "x": [
          -0.6577545106790819,
          -0.6577545106790819
         ],
         "xaxis": "x",
         "y": [
          1,
          0.45
         ],
         "yaxis": "y"
        },
        {
         "hoverinfo": "skip",
         "line": {
          "color": "black",
          "width": 1
         },
         "mode": "lines",
         "showlegend": false,
         "type": "scatter",
         "x": [
          -0.6523668206543916,
          -0.6523668206543916
         ],
         "xaxis": "x",
         "y": [
          1,
          1.3
         ],
         "yaxis": "y"
        },
        {
         "hoverinfo": "skip",
         "line": {
          "color": "black",
          "width": 1
         },
         "mode": "lines",
         "showlegend": false,
         "type": "scatter",
         "x": [
          -0.6036279256829348,
          -0.6036279256829348
         ],
         "xaxis": "x",
         "y": [
          1,
          0.75
         ],
         "yaxis": "y"
        },
        {
         "hoverinfo": "skip",
         "line": {
          "color": "black",
          "width": 1
         },
         "mode": "lines",
         "showlegend": false,
         "type": "scatter",
         "x": [
          -0.6019101797850197,
          -0.6019101797850197
         ],
         "xaxis": "x",
         "y": [
          1,
          1.75
         ],
         "yaxis": "y"
        },
        {
         "hoverinfo": "skip",
         "line": {
          "color": "black",
          "width": 1
         },
         "mode": "lines",
         "showlegend": false,
         "type": "scatter",
         "x": [
          -0.5680603446451626,
          -0.5680603446451626
         ],
         "xaxis": "x",
         "y": [
          1,
          0.3
         ],
         "yaxis": "y"
        },
        {
         "hoverinfo": "skip",
         "line": {
          "color": "black",
          "width": 1
         },
         "mode": "lines",
         "showlegend": false,
         "type": "scatter",
         "x": [
          0.5132338643287503,
          0.5132338643287503
         ],
         "xaxis": "x",
         "y": [
          1,
          1.45
         ],
         "yaxis": "y"
        },
        {
         "hoverinfo": "skip",
         "line": {
          "color": "black",
          "width": 1
         },
         "mode": "lines",
         "showlegend": false,
         "type": "scatter",
         "x": [
          0.5186731907135973,
          0.5186731907135973
         ],
         "xaxis": "x",
         "y": [
          1,
          0.6
         ],
         "yaxis": "y"
        },
        {
         "hoverinfo": "skip",
         "line": {
          "color": "black",
          "width": 1
         },
         "mode": "lines",
         "showlegend": false,
         "type": "scatter",
         "x": [
          0.5250989642158564,
          0.5250989642158564
         ],
         "xaxis": "x",
         "y": [
          1,
          1.9
         ],
         "yaxis": "y"
        },
        {
         "hoverinfo": "skip",
         "line": {
          "color": "black",
          "width": 1
         },
         "mode": "lines",
         "showlegend": false,
         "type": "scatter",
         "x": [
          0.5356283191878192,
          0.5356283191878192
         ],
         "xaxis": "x",
         "y": [
          1,
          0.15
         ],
         "yaxis": "y"
        },
        {
         "hoverinfo": "skip",
         "line": {
          "color": "black",
          "width": 1
         },
         "mode": "lines",
         "showlegend": false,
         "type": "scatter",
         "x": [
          0.5597078445440977,
          0.5597078445440977
         ],
         "xaxis": "x",
         "y": [
          1,
          1.6
         ],
         "yaxis": "y"
        },
        {
         "hoverinfo": "skip",
         "line": {
          "color": "black",
          "width": 1
         },
         "mode": "lines",
         "showlegend": false,
         "type": "scatter",
         "x": [
          0.5635137830626804,
          0.5635137830626804
         ],
         "xaxis": "x",
         "y": [
          1,
          0.45
         ],
         "yaxis": "y"
        },
        {
         "hoverinfo": "skip",
         "line": {
          "color": "black",
          "width": 1
         },
         "mode": "lines",
         "showlegend": false,
         "type": "scatter",
         "x": [
          0.5744649798904864,
          0.5744649798904864
         ],
         "xaxis": "x",
         "y": [
          1,
          1.3
         ],
         "yaxis": "y"
        },
        {
         "hoverinfo": "skip",
         "line": {
          "color": "black",
          "width": 1
         },
         "mode": "lines",
         "showlegend": false,
         "type": "scatter",
         "x": [
          0.5902677465343632,
          0.5902677465343632
         ],
         "xaxis": "x",
         "y": [
          1,
          0.75
         ],
         "yaxis": "y"
        },
        {
         "hoverinfo": "skip",
         "line": {
          "color": "black",
          "width": 1
         },
         "mode": "lines",
         "showlegend": false,
         "type": "scatter",
         "x": [
          0.5975939087499686,
          0.5975939087499686
         ],
         "xaxis": "x",
         "y": [
          1,
          1.75
         ],
         "yaxis": "y"
        },
        {
         "hoverinfo": "skip",
         "line": {
          "color": "black",
          "width": 1
         },
         "mode": "lines",
         "showlegend": false,
         "type": "scatter",
         "x": [
          0.606212701168514,
          0.606212701168514
         ],
         "xaxis": "x",
         "y": [
          1,
          0.3
         ],
         "yaxis": "y"
        },
        {
         "hoverinfo": "skip",
         "marker": {
          "color": "limegreen"
         },
         "opacity": 0.7,
         "showlegend": false,
         "type": "bar",
         "width": 0.03639729500833733,
         "x": [
          -0.7359375522639242,
          -0.6904409335035024,
          -0.6449443147430809,
          -0.5994476959826593,
          -0.5539510772222376,
          -0.508454458461816,
          -0.46295783970139437,
          -0.4174612209409727,
          -0.37196460218055105,
          -0.3264679834201294,
          -0.2809713646597078,
          -0.23547474589928613,
          -0.18997812713886447,
          -0.14448150837844287,
          -0.09898488961802127,
          -0.05348827085759961,
          -0.007991652097177948,
          0.03750496666324371,
          0.08300158542366531,
          0.12849820418408692,
          0.17399482294450858,
          0.21949144170493023,
          0.26498806046535184,
          0.3104846792257735,
          0.35598129798619516,
          0.4014779167466168,
          0.4469745355070385,
          0.49247115426746,
          0.5379677730278817,
          0.5834643917883033
         ],
         "xaxis": "x",
         "y": [
          0.049999999999999996,
          0.19999999999999998,
          0.09999999999999999,
          0.09999999999999999,
          0.15,
          0.3,
          0.15,
          0.3,
          0.3,
          0.45,
          0.7000000000000001,
          0.39999999999999997,
          0.3,
          0.9,
          0.55,
          0.7000000000000001,
          0.5,
          0.5,
          0.45,
          0.55,
          0.75,
          0.6,
          0.5,
          0.39999999999999997,
          0.55,
          0.45,
          0.25,
          0.35000000000000003,
          0.19999999999999998,
          0.25
         ],
         "yaxis": "y"
        },
        {
         "hovertemplate": "<b>%{text}</b><br>Normalized Projection: %{x:.3f}<extra></extra>",
         "marker": {
          "color": "limegreen",
          "line": {
           "color": "black",
           "width": 1
          },
          "opacity": 1,
          "size": 8,
          "symbol": "diamond"
         },
         "mode": "markers",
         "showlegend": false,
         "text": [
          "Zealous",
          "Wry",
          "Witty",
          "Whimsical",
          "Visceral",
          "Verbose",
          "Utilitarian",
          "Urgent",
          "Universalist",
          "Understated",
          "Transparent",
          "Traditional",
          "Theoretical",
          "Theatrical",
          "Temperamental",
          "Tactful",
          "Systems thinker",
          "Sycophantic",
          "Supportive",
          "Subversive",
          "Structuralist",
          "Stream of consciousness",
          "Strategic",
          "Stoic",
          "Spontaneous",
          "Spiritual",
          "Speculative",
          "Solemn",
          "Socratic",
          "Skeptical",
          "Serious",
          "Serene",
          "Secular",
          "Savage",
          "Sassy",
          "Sardonic",
          "Sarcastic",
          "Romantic",
          "Ritualistic",
          "Risk taking",
          "Rhetorical",
          "Reverent",
          "Resilient",
          "Reserved",
          "Relativist",
          "Regulatory",
          "Reductionist",
          "Rebellious",
          "Rationalist",
          "Radical",
          "Quantitative",
          "Qualitative",
          "Provocative",
          "Progressive",
          "Problem solving",
          "Proactive",
          "Principled",
          "Prescriptive",
          "Practical",
          "Poetic",
          "Pluralist",
          "Playful",
          "Philosophical",
          "Petty",
          "Pessimistic",
          "Perfectionist",
          "Pensive",
          "Pedantic",
          "Patient",
          "Passive aggressive",
          "Passionate",
          "Paranoid",
          "Paradoxical",
          "Pacifist",
          "Open ended",
          "Obsessive",
          "Nostalgic",
          "Nonchalant",
          "Nihilistic",
          "Neurotic",
          "Narrative",
          "Mystical",
          "Moderate",
          "Mischievous",
          "Misanthropic",
          "Militant",
          "Methodical",
          "Metaphorical",
          "Mercurial",
          "Melodramatic",
          "Meditative",
          "Materialist",
          "Manipulative",
          "Manic",
          "Literal",
          "Libertarian",
          "Judgmental",
          "Irreverent",
          "Ironic",
          "Intuitive",
          "Introverted",
          "Introspective",
          "Interdisciplinary",
          "Inspirational",
          "Inquisitive",
          "Innovative",
          "Individualistic",
          "Independent",
          "Inclusive",
          "Impulsive",
          "Improvisational",
          "Impatient",
          "Idealistic",
          "Iconoclastic",
          "Humble",
          "Humanistic",
          "Hostile",
          "Holistic",
          "Historical",
          "Hedonistic",
          "Grounded",
          "Grandiose",
          "Goofy",
          "Generous",
          "Generalist",
          "Futuristic",
          "Fundamentalist",
          "Formalist",
          "Formal",
          "Forgiving",
          "Flirty",
          "Flippant",
          "Flexible",
          "Fatalistic",
          "Factual",
          "Extroverted",
          "Exploratory",
          "Experiential",
          "Existentialist",
          "Evil",
          "Ethereal",
          "Essentialist",
          "Epicurean",
          "Environmental",
          "Entertaining",
          "Enigmatic",
          "Emotional",
          "Eloquent",
          "Elitist",
          "Egalitarian",
          "Effusive",
          "Efficient",
          "Educational",
          "Edgy",
          "Eclectic",
          "Earnest",
          "Dramatic",
          "Dominant",
          "Dogmatic",
          "Divergent",
          "Dispassionate",
          "Disorganized",
          "Diplomatic",
          "Deterministic",
          "Detached",
          "Descriptive",
          "Deontological",
          "Deferential",
          "Deconstructionist",
          "Decisive",
          "Data driven",
          "Cynical",
          "Curious",
          "Cryptic",
          "Critical",
          "Creative",
          "Cosmopolitan",
          "Convergent",
          "Contrarian",
          "Contemporary",
          "Constructivist",
          "Conscientious",
          "Confrontational",
          "Confident",
          "Condescending",
          "Concise",
          "Conciliatory",
          "Conceptual",
          "Competitive",
          "Collectivistic",
          "Collaborative",
          "Closure seeking",
          "Circumspect",
          "Charismatic",
          "Chaotic",
          "Challenging",
          "Cautious",
          "Calm",
          "Calculating",
          "Blunt",
          "Bitter",
          "Big picture",
          "Benevolent",
          "Avoidant",
          "Assertive",
          "Ascetic",
          "Artistic",
          "Arrogant",
          "Anxious",
          "Anthropocentric",
          "Animated",
          "Analytical",
          "Altruistic",
          "Agreeable",
          "Adventurous",
          "Adaptable",
          "Accommodating",
          "Abstract",
          "Absolutist"
         ],
         "type": "scatter",
         "x": [
          0.025840998662102533,
          0.0765426801226007,
          -0.03176022760244271,
          -0.03141251745498736,
          -0.05520016379549187,
          0.041230430453853335,
          0.002808372977503332,
          0.025639981523846302,
          -0.0003124778767191186,
          -0.07541316143460168,
          -0.008730979665128476,
          -0.035427728741452,
          0.05010451402470035,
          0.05984128099935279,
          -0.00791640347360716,
          -0.08028809522324865,
          0.011956094990734861,
          -0.09490673511933029,
          -0.07932744137733741,
          -0.007849177232938435,
          0.07125186319397016,
          -0.07687182312852844,
          0.05485224280490589,
          0.07823470408124865,
          -0.05723319561898939,
          -0.01250520306162275,
          -0.015998464316706658,
          0.07102955046606833,
          -0.09459345591032939,
          0.05869834475221515,
          0.09497740942443213,
          -0.07304503023914319,
          -0.01152115998255921,
          0.0771981953591728,
          0.03444579222032611,
          0.07147288366080343,
          0.07248658391952327,
          -0.035828995245339494,
          0.10365966050483916,
          -0.01717652999325542,
          0.012825338018684714,
          0.008494917047590539,
          -0.04604248848548624,
          0.032671146244280566,
          -0.032550728844753046,
          -0.0035996544870689606,
          -0.013653980775040427,
          -0.0003138978409639008,
          0.05197564794346937,
          0.028550187229587746,
          0.05726487365749742,
          -0.06305326942430713,
          0.04441500688092887,
          -0.02528284690663619,
          0.04180884213380651,
          0.03990067171554968,
          0.006798896146310983,
          0.06677005853628586,
          -0.0700745983947282,
          0.001530730471601673,
          -0.04159392233540273,
          -0.09357658191609651,
          0.0382363811023728,
          0.0320826629277593,
          0.05089256032026412,
          0.09665130349445658,
          0.06065735281627569,
          0.06923265391775744,
          -0.04725034956351313,
          0.005929979443197751,
          -0.01203536516156147,
          0.020848497287549162,
          -0.013580862324835115,
          -0.020709420431910756,
          -0.08163296599692005,
          0.012530459246992736,
          -0.022769694954987034,
          -0.013801944901421528,
          0.09736263556227863,
          -0.0171653512230518,
          -0.03501548278214832,
          -0.0260229726308312,
          -0.08022105845791491,
          -0.018892014974854848,
          0.09800692846356555,
          0.08906320984358011,
          0.06882285312275928,
          -0.006053001009806534,
          -0.009941130363863383,
          0.05026551492699694,
          -0.022484082925222214,
          0.0015653959430566625,
          -0.005199613818400894,
          -0.03538375823090235,
          -0.03809675274520614,
          -0.00974953851542568,
          0.061784972477936836,
          -0.033826590567464856,
          0.040686020260392204,
          -0.03489309903133264,
          0.0964421532685722,
          -0.01297317140465323,
          0.018711350737217733,
          -0.10053476740813468,
          -0.08323057825207576,
          0.011792403167676031,
          -0.017599141145423453,
          0.002505940788854596,
          -0.0061378194870996185,
          -0.08648673174611121,
          -0.11908210442738747,
          -0.030839045651425742,
          -0.005240855612863643,
          0.055689556158136484,
          -0.07898775009312478,
          -0.06639945669917204,
          0.11297901152403486,
          0.01967859668233043,
          0.029632759895484515,
          -0.053581196756187055,
          -0.05612584968674978,
          0.09866408263038708,
          -0.0423930678940754,
          0.03205258817119602,
          0.01734581495265267,
          -0.001067185647992946,
          0.035464825958544124,
          0.06532461615309101,
          0.10544856622833723,
          -0.06587539363680664,
          -0.07114974834257048,
          -0.0396218223278572,
          -0.09549136583588257,
          0.04085186200211828,
          -0.00994839992859504,
          -0.07766221180025226,
          0.0025389577371780106,
          -0.05929546037145118,
          -0.076104919721701,
          0.041582944819997136,
          0.011326928953783379,
          0.036665047011241174,
          0.016562477191970824,
          -0.013313329415266554,
          -0.06601182816011608,
          0.005692949245636918,
          -0.10737882133310304,
          0.07034774246177436,
          0.09136650328205954,
          -0.03660313516661001,
          -0.05918815168408577,
          -0.0713046407001183,
          0.05496172585082471,
          0.04962333028077459,
          0.0057588620066093615,
          -0.03561512578329481,
          0.041294225829788464,
          0.059579261634174784,
          0.04310442520141905,
          0.01777819029456058,
          0.0727870525610001,
          -0.05878935524298955,
          -0.06833625008118777,
          0.05719486136286205,
          0.09086247543781117,
          0.005933277957795097,
          -0.018156037214297538,
          -0.06923961144242559,
          0.03337312120918942,
          0.03780421556766906,
          0.05065990627900113,
          0.0790205842530405,
          -0.04901172778902668,
          0.040948375751997106,
          0.03978324845047174,
          -0.006318321431100922,
          0.008360007409352542,
          -0.003564279240336751,
          0.04965289943447287,
          -0.03974379319664211,
          -0.03769502656687796,
          0.055231424485503985,
          0.07724801856459235,
          0.044445000560461856,
          0.045962697475222185,
          -0.07103488365635324,
          -0.11178491907397393,
          0.011716423416788142,
          0.0909038274366888,
          -0.02265860326567957,
          -0.04878724838322898,
          0.024593380675279376,
          -0.030628515882524753,
          -0.019221490616613473,
          -0.01617856501479804,
          0.045222721109966384,
          0.005405519697007301,
          -0.07502925587185436,
          0.04072896529114821,
          0.04441863445374084,
          0.07735721209272645,
          0.008997029042611631,
          -0.10520934933868216,
          -0.11067747717430572,
          0.015181689333463482,
          0.024652949474392373,
          -0.043959520530574385,
          0.11320869839428435,
          -0.032534924626394075,
          -0.01233727878515756,
          -0.05518161114419836,
          0.08364911509267127,
          -0.050504277437493604,
          -0.11649926178532087,
          -0.017104435278181573,
          -0.08772558608255535,
          -0.08382197783076913,
          0.02324713704308309,
          0.03551450052493411
         ],
         "xaxis": "x2",
         "y": [
          1,
          1,
          1,
          1,
          1,
          1,
          1,
          1,
          1,
          1,
          1,
          1,
          1,
          1,
          1,
          1,
          1,
          1,
          1,
          1,
          1,
          1,
          1,
          1,
          1,
          1,
          1,
          1,
          1,
          1,
          1,
          1,
          1,
          1,
          1,
          1,
          1,
          1,
          1,
          1,
          1,
          1,
          1,
          1,
          1,
          1,
          1,
          1,
          1,
          1,
          1,
          1,
          1,
          1,
          1,
          1,
          1,
          1,
          1,
          1,
          1,
          1,
          1,
          1,
          1,
          1,
          1,
          1,
          1,
          1,
          1,
          1,
          1,
          1,
          1,
          1,
          1,
          1,
          1,
          1,
          1,
          1,
          1,
          1,
          1,
          1,
          1,
          1,
          1,
          1,
          1,
          1,
          1,
          1,
          1,
          1,
          1,
          1,
          1,
          1,
          1,
          1,
          1,
          1,
          1,
          1,
          1,
          1,
          1,
          1,
          1,
          1,
          1,
          1,
          1,
          1,
          1,
          1,
          1,
          1,
          1,
          1,
          1,
          1,
          1,
          1,
          1,
          1,
          1,
          1,
          1,
          1,
          1,
          1,
          1,
          1,
          1,
          1,
          1,
          1,
          1,
          1,
          1,
          1,
          1,
          1,
          1,
          1,
          1,
          1,
          1,
          1,
          1,
          1,
          1,
          1,
          1,
          1,
          1,
          1,
          1,
          1,
          1,
          1,
          1,
          1,
          1,
          1,
          1,
          1,
          1,
          1,
          1,
          1,
          1,
          1,
          1,
          1,
          1,
          1,
          1,
          1,
          1,
          1,
          1,
          1,
          1,
          1,
          1,
          1,
          1,
          1,
          1,
          1,
          1,
          1,
          1,
          1,
          1,
          1,
          1,
          1,
          1,
          1,
          1,
          1,
          1,
          1,
          1,
          1,
          1,
          1,
          1,
          1,
          1,
          1,
          1,
          1,
          1
         ],
         "yaxis": "y2"
        },
        {
         "hovertemplate": "<b>%{text}</b><br>Normalized Projection: %{x:.3f}<extra></extra>",
         "marker": {
          "color": "limegreen",
          "line": {
           "color": "black",
           "width": 1
          },
          "opacity": 1,
          "size": 8,
          "symbol": "diamond"
         },
         "mode": "markers",
         "showlegend": false,
         "text": [
          "Technical",
          "Submissive",
          "Specialized",
          "Reactive",
          "Optimistic",
          "Nurturing",
          "Naive",
          "Meticulous",
          "Melancholic",
          "Gregarious",
          "Esoteric",
          "Erudite",
          "Empathetic",
          "Cruel",
          "Chill",
          "Casual",
          "Callous",
          "Bombastic",
          "Acerbic",
          "Accessible"
         ],
         "type": "scatter",
         "x": [
          0.1224575222997663,
          -0.12374715510968677,
          0.11497016254174458,
          -0.1253905484051735,
          -0.1198382979524124,
          -0.120155785384991,
          -0.13551550883165997,
          0.11674415624134679,
          0.11886124868833144,
          -0.11971752861829178,
          0.1305429185594292,
          0.13008137826101568,
          -0.12226533949420476,
          0.11775489567294464,
          -0.16840030610046366,
          -0.15651923383702987,
          0.12433902431699408,
          0.12928590696172373,
          0.11901289515486214,
          -0.14246770962933525
         ],
         "xaxis": "x2",
         "y": [
          1,
          1,
          1,
          1,
          1,
          1,
          1,
          1,
          1,
          1,
          1,
          1,
          1,
          1,
          1,
          1,
          1,
          1,
          1,
          1
         ],
         "yaxis": "y2"
        },
        {
         "hoverinfo": "skip",
         "line": {
          "color": "black",
          "width": 1
         },
         "mode": "lines",
         "showlegend": false,
         "type": "scatter",
         "x": [
          -0.16840030610046366,
          -0.16840030610046366
         ],
         "xaxis": "x2",
         "y": [
          1,
          1.45
         ],
         "yaxis": "y2"
        },
        {
         "hoverinfo": "skip",
         "line": {
          "color": "black",
          "width": 1
         },
         "mode": "lines",
         "showlegend": false,
         "type": "scatter",
         "x": [
          -0.15651923383702987,
          -0.15651923383702987
         ],
         "xaxis": "x2",
         "y": [
          1,
          0.6
         ],
         "yaxis": "y2"
        },
        {
         "hoverinfo": "skip",
         "line": {
          "color": "black",
          "width": 1
         },
         "mode": "lines",
         "showlegend": false,
         "type": "scatter",
         "x": [
          -0.14246770962933525,
          -0.14246770962933525
         ],
         "xaxis": "x2",
         "y": [
          1,
          1.9
         ],
         "yaxis": "y2"
        },
        {
         "hoverinfo": "skip",
         "line": {
          "color": "black",
          "width": 1
         },
         "mode": "lines",
         "showlegend": false,
         "type": "scatter",
         "x": [
          -0.13551550883165997,
          -0.13551550883165997
         ],
         "xaxis": "x2",
         "y": [
          1,
          0.15
         ],
         "yaxis": "y2"
        },
        {
         "hoverinfo": "skip",
         "line": {
          "color": "black",
          "width": 1
         },
         "mode": "lines",
         "showlegend": false,
         "type": "scatter",
         "x": [
          -0.1253905484051735,
          -0.1253905484051735
         ],
         "xaxis": "x2",
         "y": [
          1,
          1.6
         ],
         "yaxis": "y2"
        },
        {
         "hoverinfo": "skip",
         "line": {
          "color": "black",
          "width": 1
         },
         "mode": "lines",
         "showlegend": false,
         "type": "scatter",
         "x": [
          -0.12374715510968677,
          -0.12374715510968677
         ],
         "xaxis": "x2",
         "y": [
          1,
          0.45
         ],
         "yaxis": "y2"
        },
        {
         "hoverinfo": "skip",
         "line": {
          "color": "black",
          "width": 1
         },
         "mode": "lines",
         "showlegend": false,
         "type": "scatter",
         "x": [
          -0.12226533949420476,
          -0.12226533949420476
         ],
         "xaxis": "x2",
         "y": [
          1,
          1.3
         ],
         "yaxis": "y2"
        },
        {
         "hoverinfo": "skip",
         "line": {
          "color": "black",
          "width": 1
         },
         "mode": "lines",
         "showlegend": false,
         "type": "scatter",
         "x": [
          -0.120155785384991,
          -0.120155785384991
         ],
         "xaxis": "x2",
         "y": [
          1,
          0.75
         ],
         "yaxis": "y2"
        },
        {
         "hoverinfo": "skip",
         "line": {
          "color": "black",
          "width": 1
         },
         "mode": "lines",
         "showlegend": false,
         "type": "scatter",
         "x": [
          -0.1198382979524124,
          -0.1198382979524124
         ],
         "xaxis": "x2",
         "y": [
          1,
          1.75
         ],
         "yaxis": "y2"
        },
        {
         "hoverinfo": "skip",
         "line": {
          "color": "black",
          "width": 1
         },
         "mode": "lines",
         "showlegend": false,
         "type": "scatter",
         "x": [
          -0.11971752861829178,
          -0.11971752861829178
         ],
         "xaxis": "x2",
         "y": [
          1,
          0.3
         ],
         "yaxis": "y2"
        },
        {
         "hoverinfo": "skip",
         "line": {
          "color": "black",
          "width": 1
         },
         "mode": "lines",
         "showlegend": false,
         "type": "scatter",
         "x": [
          0.11497016254174458,
          0.11497016254174458
         ],
         "xaxis": "x2",
         "y": [
          1,
          1.45
         ],
         "yaxis": "y2"
        },
        {
         "hoverinfo": "skip",
         "line": {
          "color": "black",
          "width": 1
         },
         "mode": "lines",
         "showlegend": false,
         "type": "scatter",
         "x": [
          0.11674415624134679,
          0.11674415624134679
         ],
         "xaxis": "x2",
         "y": [
          1,
          0.6
         ],
         "yaxis": "y2"
        },
        {
         "hoverinfo": "skip",
         "line": {
          "color": "black",
          "width": 1
         },
         "mode": "lines",
         "showlegend": false,
         "type": "scatter",
         "x": [
          0.11775489567294464,
          0.11775489567294464
         ],
         "xaxis": "x2",
         "y": [
          1,
          1.9
         ],
         "yaxis": "y2"
        },
        {
         "hoverinfo": "skip",
         "line": {
          "color": "black",
          "width": 1
         },
         "mode": "lines",
         "showlegend": false,
         "type": "scatter",
         "x": [
          0.11886124868833144,
          0.11886124868833144
         ],
         "xaxis": "x2",
         "y": [
          1,
          0.15
         ],
         "yaxis": "y2"
        },
        {
         "hoverinfo": "skip",
         "line": {
          "color": "black",
          "width": 1
         },
         "mode": "lines",
         "showlegend": false,
         "type": "scatter",
         "x": [
          0.11901289515486214,
          0.11901289515486214
         ],
         "xaxis": "x2",
         "y": [
          1,
          1.6
         ],
         "yaxis": "y2"
        },
        {
         "hoverinfo": "skip",
         "line": {
          "color": "black",
          "width": 1
         },
         "mode": "lines",
         "showlegend": false,
         "type": "scatter",
         "x": [
          0.1224575222997663,
          0.1224575222997663
         ],
         "xaxis": "x2",
         "y": [
          1,
          0.45
         ],
         "yaxis": "y2"
        },
        {
         "hoverinfo": "skip",
         "line": {
          "color": "black",
          "width": 1
         },
         "mode": "lines",
         "showlegend": false,
         "type": "scatter",
         "x": [
          0.12433902431699408,
          0.12433902431699408
         ],
         "xaxis": "x2",
         "y": [
          1,
          1.3
         ],
         "yaxis": "y2"
        },
        {
         "hoverinfo": "skip",
         "line": {
          "color": "black",
          "width": 1
         },
         "mode": "lines",
         "showlegend": false,
         "type": "scatter",
         "x": [
          0.12928590696172373,
          0.12928590696172373
         ],
         "xaxis": "x2",
         "y": [
          1,
          0.75
         ],
         "yaxis": "y2"
        },
        {
         "hoverinfo": "skip",
         "line": {
          "color": "black",
          "width": 1
         },
         "mode": "lines",
         "showlegend": false,
         "type": "scatter",
         "x": [
          0.13008137826101568,
          0.13008137826101568
         ],
         "xaxis": "x2",
         "y": [
          1,
          1.75
         ],
         "yaxis": "y2"
        },
        {
         "hoverinfo": "skip",
         "line": {
          "color": "black",
          "width": 1
         },
         "mode": "lines",
         "showlegend": false,
         "type": "scatter",
         "x": [
          0.1305429185594292,
          0.1305429185594292
         ],
         "xaxis": "x2",
         "y": [
          1,
          0.3
         ],
         "yaxis": "y2"
        },
        {
         "hoverinfo": "skip",
         "marker": {
          "color": "limegreen"
         },
         "opacity": 0.7,
         "showlegend": false,
         "type": "bar",
         "width": 0.007971819324263807,
         "x": [
          -0.16341791902279879,
          -0.15345314486746903,
          -0.14348837071213927,
          -0.1335235965568095,
          -0.12355882240147972,
          -0.11359404824614996,
          -0.1036292740908202,
          -0.09366449993549045,
          -0.08369972578016069,
          -0.07373495162483093,
          -0.06377017746950117,
          -0.0538054033141714,
          -0.04384062915884163,
          -0.03387585500351187,
          -0.02391108084818211,
          -0.01394630669285235,
          -0.003981532537522592,
          0.005983241617807167,
          0.015948015773136925,
          0.025912789928466684,
          0.03587756408379646,
          0.04584233823912623,
          0.05580711239445599,
          0.06577188654978575,
          0.0757366607051155,
          0.08570143486044528,
          0.09566620901577505,
          0.10563098317110481,
          0.11559575732643457,
          0.12556053148176433
         ],
         "xaxis": "x2",
         "y": [
          0.045000000000000005,
          0.045000000000000005,
          0.045000000000000005,
          0.045000000000000005,
          0.315,
          0.135,
          0.135,
          0.18000000000000002,
          0.405,
          0.49500000000000005,
          0.36000000000000004,
          0.315,
          0.36000000000000004,
          0.7200000000000001,
          0.315,
          0.9,
          0.5850000000000001,
          0.63,
          0.5850000000000001,
          0.315,
          0.675,
          0.7200000000000001,
          0.54,
          0.27,
          0.49500000000000005,
          0.09000000000000001,
          0.405,
          0.09000000000000001,
          0.315,
          0.225
         ],
         "yaxis": "y2"
        }
       ],
       "layout": {
        "annotations": [
         {
          "font": {
           "size": 16
          },
          "showarrow": false,
          "text": "PC3 Cosine Similarity",
          "x": 0.5,
          "xanchor": "center",
          "xref": "paper",
          "y": 1,
          "yanchor": "bottom",
          "yref": "paper"
         },
         {
          "font": {
           "size": 16
          },
          "showarrow": false,
          "text": "PC3 Normalized Projection",
          "x": 0.5,
          "xanchor": "center",
          "xref": "paper",
          "y": 0.45,
          "yanchor": "bottom",
          "yref": "paper"
         },
         {
          "bgcolor": "rgba(255, 255, 255, 0.9)",
          "bordercolor": "black",
          "borderwidth": 1,
          "font": {
           "color": "black",
           "size": 10
          },
          "showarrow": false,
          "text": "Empathetic",
          "x": -0.758685861644135,
          "xref": "x",
          "y": 1.45,
          "yref": "y"
         },
         {
          "bgcolor": "rgba(255, 255, 255, 0.9)",
          "bordercolor": "black",
          "borderwidth": 1,
          "font": {
           "color": "black",
           "size": 10
          },
          "showarrow": false,
          "text": "Accommodating",
          "x": -0.6982688030271413,
          "xref": "x",
          "y": 0.6,
          "yref": "y"
         },
         {
          "bgcolor": "rgba(255, 255, 255, 0.9)",
          "bordercolor": "black",
          "borderwidth": 1,
          "font": {
           "color": "black",
           "size": 10
          },
          "showarrow": false,
          "text": "Casual",
          "x": -0.6867437901806005,
          "xref": "x",
          "y": 1.9,
          "yref": "y"
         },
         {
          "bgcolor": "rgba(255, 255, 255, 0.9)",
          "bordercolor": "black",
          "borderwidth": 1,
          "font": {
           "color": "black",
           "size": 10
          },
          "showarrow": false,
          "text": "Improvisational",
          "x": -0.6822582704847411,
          "xref": "x",
          "y": 0.15,
          "yref": "y"
         },
         {
          "bgcolor": "rgba(255, 255, 255, 0.9)",
          "bordercolor": "black",
          "borderwidth": 1,
          "font": {
           "color": "black",
           "size": 10
          },
          "showarrow": false,
          "text": "Chill",
          "x": -0.6724285745799695,
          "xref": "x",
          "y": 1.6,
          "yref": "y"
         },
         {
          "bgcolor": "rgba(255, 255, 255, 0.9)",
          "bordercolor": "black",
          "borderwidth": 1,
          "font": {
           "color": "black",
           "size": 10
          },
          "showarrow": false,
          "text": "Gregarious",
          "x": -0.6577545106790819,
          "xref": "x",
          "y": 0.45,
          "yref": "y"
         },
         {
          "bgcolor": "rgba(255, 255, 255, 0.9)",
          "bordercolor": "black",
          "borderwidth": 1,
          "font": {
           "color": "black",
           "size": 10
          },
          "showarrow": false,
          "text": "Forgiving",
          "x": -0.6523668206543916,
          "xref": "x",
          "y": 1.3,
          "yref": "y"
         },
         {
          "bgcolor": "rgba(255, 255, 255, 0.9)",
          "bordercolor": "black",
          "borderwidth": 1,
          "font": {
           "color": "black",
           "size": 10
          },
          "showarrow": false,
          "text": "Emotional",
          "x": -0.6036279256829348,
          "xref": "x",
          "y": 0.75,
          "yref": "y"
         },
         {
          "bgcolor": "rgba(255, 255, 255, 0.9)",
          "bordercolor": "black",
          "borderwidth": 1,
          "font": {
           "color": "black",
           "size": 10
          },
          "showarrow": false,
          "text": "Optimistic",
          "x": -0.6019101797850197,
          "xref": "x",
          "y": 1.75,
          "yref": "y"
         },
         {
          "bgcolor": "rgba(255, 255, 255, 0.9)",
          "bordercolor": "black",
          "borderwidth": 1,
          "font": {
           "color": "black",
           "size": 10
          },
          "showarrow": false,
          "text": "Accessible",
          "x": -0.5680603446451626,
          "xref": "x",
          "y": 0.3,
          "yref": "y"
         },
         {
          "bgcolor": "rgba(255, 255, 255, 0.9)",
          "bordercolor": "black",
          "borderwidth": 1,
          "font": {
           "color": "black",
           "size": 10
          },
          "showarrow": false,
          "text": "Callous",
          "x": 0.5132338643287503,
          "xref": "x",
          "y": 1.45,
          "yref": "y"
         },
         {
          "bgcolor": "rgba(255, 255, 255, 0.9)",
          "bordercolor": "black",
          "borderwidth": 1,
          "font": {
           "color": "black",
           "size": 10
          },
          "showarrow": false,
          "text": "Perfectionist",
          "x": 0.5186731907135973,
          "xref": "x",
          "y": 0.6,
          "yref": "y"
         },
         {
          "bgcolor": "rgba(255, 255, 255, 0.9)",
          "bordercolor": "black",
          "borderwidth": 1,
          "font": {
           "color": "black",
           "size": 10
          },
          "showarrow": false,
          "text": "Melancholic",
          "x": 0.5250989642158564,
          "xref": "x",
          "y": 1.9,
          "yref": "y"
         },
         {
          "bgcolor": "rgba(255, 255, 255, 0.9)",
          "bordercolor": "black",
          "borderwidth": 1,
          "font": {
           "color": "black",
           "size": 10
          },
          "showarrow": false,
          "text": "Acerbic",
          "x": 0.5356283191878192,
          "xref": "x",
          "y": 0.15,
          "yref": "y"
         },
         {
          "bgcolor": "rgba(255, 255, 255, 0.9)",
          "bordercolor": "black",
          "borderwidth": 1,
          "font": {
           "color": "black",
           "size": 10
          },
          "showarrow": false,
          "text": "Confrontational",
          "x": 0.5597078445440977,
          "xref": "x",
          "y": 1.6,
          "yref": "y"
         },
         {
          "bgcolor": "rgba(255, 255, 255, 0.9)",
          "bordercolor": "black",
          "borderwidth": 1,
          "font": {
           "color": "black",
           "size": 10
          },
          "showarrow": false,
          "text": "Esoteric",
          "x": 0.5635137830626804,
          "xref": "x",
          "y": 0.45,
          "yref": "y"
         },
         {
          "bgcolor": "rgba(255, 255, 255, 0.9)",
          "bordercolor": "black",
          "borderwidth": 1,
          "font": {
           "color": "black",
           "size": 10
          },
          "showarrow": false,
          "text": "Arrogant",
          "x": 0.5744649798904864,
          "xref": "x",
          "y": 1.3,
          "yref": "y"
         },
         {
          "bgcolor": "rgba(255, 255, 255, 0.9)",
          "bordercolor": "black",
          "borderwidth": 1,
          "font": {
           "color": "black",
           "size": 10
          },
          "showarrow": false,
          "text": "Technical",
          "x": 0.5902677465343632,
          "xref": "x",
          "y": 0.75,
          "yref": "y"
         },
         {
          "bgcolor": "rgba(255, 255, 255, 0.9)",
          "bordercolor": "black",
          "borderwidth": 1,
          "font": {
           "color": "black",
           "size": 10
          },
          "showarrow": false,
          "text": "Erudite",
          "x": 0.5975939087499686,
          "xref": "x",
          "y": 1.75,
          "yref": "y"
         },
         {
          "bgcolor": "rgba(255, 255, 255, 0.9)",
          "bordercolor": "black",
          "borderwidth": 1,
          "font": {
           "color": "black",
           "size": 10
          },
          "showarrow": false,
          "text": "Specialized",
          "x": 0.606212701168514,
          "xref": "x",
          "y": 0.3,
          "yref": "y"
         },
         {
          "bgcolor": "rgba(255, 255, 255, 0.9)",
          "bordercolor": "red",
          "borderwidth": 1,
          "font": {
           "color": "red",
           "size": 14
          },
          "showarrow": false,
          "text": "Assistant",
          "x": -0.09976295618672906,
          "xref": "x",
          "y": 2,
          "yref": "y"
         },
         {
          "bgcolor": "rgba(255, 255, 255, 0.9)",
          "bordercolor": "black",
          "borderwidth": 1,
          "font": {
           "color": "black",
           "size": 10
          },
          "showarrow": false,
          "text": "Chill",
          "x": -0.16840030610046366,
          "xref": "x2",
          "y": 1.45,
          "yref": "y2"
         },
         {
          "bgcolor": "rgba(255, 255, 255, 0.9)",
          "bordercolor": "black",
          "borderwidth": 1,
          "font": {
           "color": "black",
           "size": 10
          },
          "showarrow": false,
          "text": "Casual",
          "x": -0.15651923383702987,
          "xref": "x2",
          "y": 0.6,
          "yref": "y2"
         },
         {
          "bgcolor": "rgba(255, 255, 255, 0.9)",
          "bordercolor": "black",
          "borderwidth": 1,
          "font": {
           "color": "black",
           "size": 10
          },
          "showarrow": false,
          "text": "Accessible",
          "x": -0.14246770962933525,
          "xref": "x2",
          "y": 1.9,
          "yref": "y2"
         },
         {
          "bgcolor": "rgba(255, 255, 255, 0.9)",
          "bordercolor": "black",
          "borderwidth": 1,
          "font": {
           "color": "black",
           "size": 10
          },
          "showarrow": false,
          "text": "Naive",
          "x": -0.13551550883165997,
          "xref": "x2",
          "y": 0.15,
          "yref": "y2"
         },
         {
          "bgcolor": "rgba(255, 255, 255, 0.9)",
          "bordercolor": "black",
          "borderwidth": 1,
          "font": {
           "color": "black",
           "size": 10
          },
          "showarrow": false,
          "text": "Reactive",
          "x": -0.1253905484051735,
          "xref": "x2",
          "y": 1.6,
          "yref": "y2"
         },
         {
          "bgcolor": "rgba(255, 255, 255, 0.9)",
          "bordercolor": "black",
          "borderwidth": 1,
          "font": {
           "color": "black",
           "size": 10
          },
          "showarrow": false,
          "text": "Submissive",
          "x": -0.12374715510968677,
          "xref": "x2",
          "y": 0.45,
          "yref": "y2"
         },
         {
          "bgcolor": "rgba(255, 255, 255, 0.9)",
          "bordercolor": "black",
          "borderwidth": 1,
          "font": {
           "color": "black",
           "size": 10
          },
          "showarrow": false,
          "text": "Empathetic",
          "x": -0.12226533949420476,
          "xref": "x2",
          "y": 1.3,
          "yref": "y2"
         },
         {
          "bgcolor": "rgba(255, 255, 255, 0.9)",
          "bordercolor": "black",
          "borderwidth": 1,
          "font": {
           "color": "black",
           "size": 10
          },
          "showarrow": false,
          "text": "Nurturing",
          "x": -0.120155785384991,
          "xref": "x2",
          "y": 0.75,
          "yref": "y2"
         },
         {
          "bgcolor": "rgba(255, 255, 255, 0.9)",
          "bordercolor": "black",
          "borderwidth": 1,
          "font": {
           "color": "black",
           "size": 10
          },
          "showarrow": false,
          "text": "Optimistic",
          "x": -0.1198382979524124,
          "xref": "x2",
          "y": 1.75,
          "yref": "y2"
         },
         {
          "bgcolor": "rgba(255, 255, 255, 0.9)",
          "bordercolor": "black",
          "borderwidth": 1,
          "font": {
           "color": "black",
           "size": 10
          },
          "showarrow": false,
          "text": "Gregarious",
          "x": -0.11971752861829178,
          "xref": "x2",
          "y": 0.3,
          "yref": "y2"
         },
         {
          "bgcolor": "rgba(255, 255, 255, 0.9)",
          "bordercolor": "black",
          "borderwidth": 1,
          "font": {
           "color": "black",
           "size": 10
          },
          "showarrow": false,
          "text": "Specialized",
          "x": 0.11497016254174458,
          "xref": "x2",
          "y": 1.45,
          "yref": "y2"
         },
         {
          "bgcolor": "rgba(255, 255, 255, 0.9)",
          "bordercolor": "black",
          "borderwidth": 1,
          "font": {
           "color": "black",
           "size": 10
          },
          "showarrow": false,
          "text": "Meticulous",
          "x": 0.11674415624134679,
          "xref": "x2",
          "y": 0.6,
          "yref": "y2"
         },
         {
          "bgcolor": "rgba(255, 255, 255, 0.9)",
          "bordercolor": "black",
          "borderwidth": 1,
          "font": {
           "color": "black",
           "size": 10
          },
          "showarrow": false,
          "text": "Cruel",
          "x": 0.11775489567294464,
          "xref": "x2",
          "y": 1.9,
          "yref": "y2"
         },
         {
          "bgcolor": "rgba(255, 255, 255, 0.9)",
          "bordercolor": "black",
          "borderwidth": 1,
          "font": {
           "color": "black",
           "size": 10
          },
          "showarrow": false,
          "text": "Melancholic",
          "x": 0.11886124868833144,
          "xref": "x2",
          "y": 0.15,
          "yref": "y2"
         },
         {
          "bgcolor": "rgba(255, 255, 255, 0.9)",
          "bordercolor": "black",
          "borderwidth": 1,
          "font": {
           "color": "black",
           "size": 10
          },
          "showarrow": false,
          "text": "Acerbic",
          "x": 0.11901289515486214,
          "xref": "x2",
          "y": 1.6,
          "yref": "y2"
         },
         {
          "bgcolor": "rgba(255, 255, 255, 0.9)",
          "bordercolor": "black",
          "borderwidth": 1,
          "font": {
           "color": "black",
           "size": 10
          },
          "showarrow": false,
          "text": "Technical",
          "x": 0.1224575222997663,
          "xref": "x2",
          "y": 0.45,
          "yref": "y2"
         },
         {
          "bgcolor": "rgba(255, 255, 255, 0.9)",
          "bordercolor": "black",
          "borderwidth": 1,
          "font": {
           "color": "black",
           "size": 10
          },
          "showarrow": false,
          "text": "Callous",
          "x": 0.12433902431699408,
          "xref": "x2",
          "y": 1.3,
          "yref": "y2"
         },
         {
          "bgcolor": "rgba(255, 255, 255, 0.9)",
          "bordercolor": "black",
          "borderwidth": 1,
          "font": {
           "color": "black",
           "size": 10
          },
          "showarrow": false,
          "text": "Bombastic",
          "x": 0.12928590696172373,
          "xref": "x2",
          "y": 0.75,
          "yref": "y2"
         },
         {
          "bgcolor": "rgba(255, 255, 255, 0.9)",
          "bordercolor": "black",
          "borderwidth": 1,
          "font": {
           "color": "black",
           "size": 10
          },
          "showarrow": false,
          "text": "Erudite",
          "x": 0.13008137826101568,
          "xref": "x2",
          "y": 1.75,
          "yref": "y2"
         },
         {
          "bgcolor": "rgba(255, 255, 255, 0.9)",
          "bordercolor": "black",
          "borderwidth": 1,
          "font": {
           "color": "black",
           "size": 10
          },
          "showarrow": false,
          "text": "Esoteric",
          "x": 0.1305429185594292,
          "xref": "x2",
          "y": 0.3,
          "yref": "y2"
         },
         {
          "bgcolor": "rgba(255, 255, 255, 0.9)",
          "bordercolor": "red",
          "borderwidth": 1,
          "font": {
           "color": "red",
           "size": 14
          },
          "showarrow": false,
          "text": "Assistant",
          "x": -0.03408607433379981,
          "xref": "x2",
          "y": 2,
          "yref": "y2"
         }
        ],
        "height": 800,
        "shapes": [
         {
          "line": {
           "color": "gray",
           "dash": "solid",
           "width": 1
          },
          "opacity": 0.7,
          "type": "line",
          "x0": 0,
          "x1": 0,
          "xref": "x",
          "y0": 0,
          "y1": 1,
          "yref": "y domain"
         },
         {
          "line": {
           "color": "red",
           "dash": "dash",
           "width": 1
          },
          "opacity": 1,
          "type": "line",
          "x0": -0.09976295618672906,
          "x1": -0.09976295618672906,
          "xref": "x",
          "y0": 0,
          "y1": 1,
          "yref": "y domain"
         },
         {
          "line": {
           "color": "gray",
           "dash": "solid",
           "width": 1
          },
          "opacity": 0.7,
          "type": "line",
          "x0": 0,
          "x1": 0,
          "xref": "x2",
          "y0": 0,
          "y1": 1,
          "yref": "y2 domain"
         },
         {
          "line": {
           "color": "red",
           "dash": "dash",
           "width": 1
          },
          "opacity": 1,
          "type": "line",
          "x0": -0.03408607433379981,
          "x1": -0.03408607433379981,
          "xref": "x2",
          "y0": 0,
          "y1": 1,
          "yref": "y2 domain"
         }
        ],
        "showlegend": false,
        "template": {
         "data": {
          "bar": [
           {
            "error_x": {
             "color": "#2a3f5f"
            },
            "error_y": {
             "color": "#2a3f5f"
            },
            "marker": {
             "line": {
              "color": "#E5ECF6",
              "width": 0.5
             },
             "pattern": {
              "fillmode": "overlay",
              "size": 10,
              "solidity": 0.2
             }
            },
            "type": "bar"
           }
          ],
          "barpolar": [
           {
            "marker": {
             "line": {
              "color": "#E5ECF6",
              "width": 0.5
             },
             "pattern": {
              "fillmode": "overlay",
              "size": 10,
              "solidity": 0.2
             }
            },
            "type": "barpolar"
           }
          ],
          "carpet": [
           {
            "aaxis": {
             "endlinecolor": "#2a3f5f",
             "gridcolor": "white",
             "linecolor": "white",
             "minorgridcolor": "white",
             "startlinecolor": "#2a3f5f"
            },
            "baxis": {
             "endlinecolor": "#2a3f5f",
             "gridcolor": "white",
             "linecolor": "white",
             "minorgridcolor": "white",
             "startlinecolor": "#2a3f5f"
            },
            "type": "carpet"
           }
          ],
          "choropleth": [
           {
            "colorbar": {
             "outlinewidth": 0,
             "ticks": ""
            },
            "type": "choropleth"
           }
          ],
          "contour": [
           {
            "colorbar": {
             "outlinewidth": 0,
             "ticks": ""
            },
            "colorscale": [
             [
              0,
              "#0d0887"
             ],
             [
              0.1111111111111111,
              "#46039f"
             ],
             [
              0.2222222222222222,
              "#7201a8"
             ],
             [
              0.3333333333333333,
              "#9c179e"
             ],
             [
              0.4444444444444444,
              "#bd3786"
             ],
             [
              0.5555555555555556,
              "#d8576b"
             ],
             [
              0.6666666666666666,
              "#ed7953"
             ],
             [
              0.7777777777777778,
              "#fb9f3a"
             ],
             [
              0.8888888888888888,
              "#fdca26"
             ],
             [
              1,
              "#f0f921"
             ]
            ],
            "type": "contour"
           }
          ],
          "contourcarpet": [
           {
            "colorbar": {
             "outlinewidth": 0,
             "ticks": ""
            },
            "type": "contourcarpet"
           }
          ],
          "heatmap": [
           {
            "colorbar": {
             "outlinewidth": 0,
             "ticks": ""
            },
            "colorscale": [
             [
              0,
              "#0d0887"
             ],
             [
              0.1111111111111111,
              "#46039f"
             ],
             [
              0.2222222222222222,
              "#7201a8"
             ],
             [
              0.3333333333333333,
              "#9c179e"
             ],
             [
              0.4444444444444444,
              "#bd3786"
             ],
             [
              0.5555555555555556,
              "#d8576b"
             ],
             [
              0.6666666666666666,
              "#ed7953"
             ],
             [
              0.7777777777777778,
              "#fb9f3a"
             ],
             [
              0.8888888888888888,
              "#fdca26"
             ],
             [
              1,
              "#f0f921"
             ]
            ],
            "type": "heatmap"
           }
          ],
          "heatmapgl": [
           {
            "colorbar": {
             "outlinewidth": 0,
             "ticks": ""
            },
            "colorscale": [
             [
              0,
              "#0d0887"
             ],
             [
              0.1111111111111111,
              "#46039f"
             ],
             [
              0.2222222222222222,
              "#7201a8"
             ],
             [
              0.3333333333333333,
              "#9c179e"
             ],
             [
              0.4444444444444444,
              "#bd3786"
             ],
             [
              0.5555555555555556,
              "#d8576b"
             ],
             [
              0.6666666666666666,
              "#ed7953"
             ],
             [
              0.7777777777777778,
              "#fb9f3a"
             ],
             [
              0.8888888888888888,
              "#fdca26"
             ],
             [
              1,
              "#f0f921"
             ]
            ],
            "type": "heatmapgl"
           }
          ],
          "histogram": [
           {
            "marker": {
             "pattern": {
              "fillmode": "overlay",
              "size": 10,
              "solidity": 0.2
             }
            },
            "type": "histogram"
           }
          ],
          "histogram2d": [
           {
            "colorbar": {
             "outlinewidth": 0,
             "ticks": ""
            },
            "colorscale": [
             [
              0,
              "#0d0887"
             ],
             [
              0.1111111111111111,
              "#46039f"
             ],
             [
              0.2222222222222222,
              "#7201a8"
             ],
             [
              0.3333333333333333,
              "#9c179e"
             ],
             [
              0.4444444444444444,
              "#bd3786"
             ],
             [
              0.5555555555555556,
              "#d8576b"
             ],
             [
              0.6666666666666666,
              "#ed7953"
             ],
             [
              0.7777777777777778,
              "#fb9f3a"
             ],
             [
              0.8888888888888888,
              "#fdca26"
             ],
             [
              1,
              "#f0f921"
             ]
            ],
            "type": "histogram2d"
           }
          ],
          "histogram2dcontour": [
           {
            "colorbar": {
             "outlinewidth": 0,
             "ticks": ""
            },
            "colorscale": [
             [
              0,
              "#0d0887"
             ],
             [
              0.1111111111111111,
              "#46039f"
             ],
             [
              0.2222222222222222,
              "#7201a8"
             ],
             [
              0.3333333333333333,
              "#9c179e"
             ],
             [
              0.4444444444444444,
              "#bd3786"
             ],
             [
              0.5555555555555556,
              "#d8576b"
             ],
             [
              0.6666666666666666,
              "#ed7953"
             ],
             [
              0.7777777777777778,
              "#fb9f3a"
             ],
             [
              0.8888888888888888,
              "#fdca26"
             ],
             [
              1,
              "#f0f921"
             ]
            ],
            "type": "histogram2dcontour"
           }
          ],
          "mesh3d": [
           {
            "colorbar": {
             "outlinewidth": 0,
             "ticks": ""
            },
            "type": "mesh3d"
           }
          ],
          "parcoords": [
           {
            "line": {
             "colorbar": {
              "outlinewidth": 0,
              "ticks": ""
             }
            },
            "type": "parcoords"
           }
          ],
          "pie": [
           {
            "automargin": true,
            "type": "pie"
           }
          ],
          "scatter": [
           {
            "fillpattern": {
             "fillmode": "overlay",
             "size": 10,
             "solidity": 0.2
            },
            "type": "scatter"
           }
          ],
          "scatter3d": [
           {
            "line": {
             "colorbar": {
              "outlinewidth": 0,
              "ticks": ""
             }
            },
            "marker": {
             "colorbar": {
              "outlinewidth": 0,
              "ticks": ""
             }
            },
            "type": "scatter3d"
           }
          ],
          "scattercarpet": [
           {
            "marker": {
             "colorbar": {
              "outlinewidth": 0,
              "ticks": ""
             }
            },
            "type": "scattercarpet"
           }
          ],
          "scattergeo": [
           {
            "marker": {
             "colorbar": {
              "outlinewidth": 0,
              "ticks": ""
             }
            },
            "type": "scattergeo"
           }
          ],
          "scattergl": [
           {
            "marker": {
             "colorbar": {
              "outlinewidth": 0,
              "ticks": ""
             }
            },
            "type": "scattergl"
           }
          ],
          "scattermapbox": [
           {
            "marker": {
             "colorbar": {
              "outlinewidth": 0,
              "ticks": ""
             }
            },
            "type": "scattermapbox"
           }
          ],
          "scatterpolar": [
           {
            "marker": {
             "colorbar": {
              "outlinewidth": 0,
              "ticks": ""
             }
            },
            "type": "scatterpolar"
           }
          ],
          "scatterpolargl": [
           {
            "marker": {
             "colorbar": {
              "outlinewidth": 0,
              "ticks": ""
             }
            },
            "type": "scatterpolargl"
           }
          ],
          "scatterternary": [
           {
            "marker": {
             "colorbar": {
              "outlinewidth": 0,
              "ticks": ""
             }
            },
            "type": "scatterternary"
           }
          ],
          "surface": [
           {
            "colorbar": {
             "outlinewidth": 0,
             "ticks": ""
            },
            "colorscale": [
             [
              0,
              "#0d0887"
             ],
             [
              0.1111111111111111,
              "#46039f"
             ],
             [
              0.2222222222222222,
              "#7201a8"
             ],
             [
              0.3333333333333333,
              "#9c179e"
             ],
             [
              0.4444444444444444,
              "#bd3786"
             ],
             [
              0.5555555555555556,
              "#d8576b"
             ],
             [
              0.6666666666666666,
              "#ed7953"
             ],
             [
              0.7777777777777778,
              "#fb9f3a"
             ],
             [
              0.8888888888888888,
              "#fdca26"
             ],
             [
              1,
              "#f0f921"
             ]
            ],
            "type": "surface"
           }
          ],
          "table": [
           {
            "cells": {
             "fill": {
              "color": "#EBF0F8"
             },
             "line": {
              "color": "white"
             }
            },
            "header": {
             "fill": {
              "color": "#C8D4E3"
             },
             "line": {
              "color": "white"
             }
            },
            "type": "table"
           }
          ]
         },
         "layout": {
          "annotationdefaults": {
           "arrowcolor": "#2a3f5f",
           "arrowhead": 0,
           "arrowwidth": 1
          },
          "autotypenumbers": "strict",
          "coloraxis": {
           "colorbar": {
            "outlinewidth": 0,
            "ticks": ""
           }
          },
          "colorscale": {
           "diverging": [
            [
             0,
             "#8e0152"
            ],
            [
             0.1,
             "#c51b7d"
            ],
            [
             0.2,
             "#de77ae"
            ],
            [
             0.3,
             "#f1b6da"
            ],
            [
             0.4,
             "#fde0ef"
            ],
            [
             0.5,
             "#f7f7f7"
            ],
            [
             0.6,
             "#e6f5d0"
            ],
            [
             0.7,
             "#b8e186"
            ],
            [
             0.8,
             "#7fbc41"
            ],
            [
             0.9,
             "#4d9221"
            ],
            [
             1,
             "#276419"
            ]
           ],
           "sequential": [
            [
             0,
             "#0d0887"
            ],
            [
             0.1111111111111111,
             "#46039f"
            ],
            [
             0.2222222222222222,
             "#7201a8"
            ],
            [
             0.3333333333333333,
             "#9c179e"
            ],
            [
             0.4444444444444444,
             "#bd3786"
            ],
            [
             0.5555555555555556,
             "#d8576b"
            ],
            [
             0.6666666666666666,
             "#ed7953"
            ],
            [
             0.7777777777777778,
             "#fb9f3a"
            ],
            [
             0.8888888888888888,
             "#fdca26"
            ],
            [
             1,
             "#f0f921"
            ]
           ],
           "sequentialminus": [
            [
             0,
             "#0d0887"
            ],
            [
             0.1111111111111111,
             "#46039f"
            ],
            [
             0.2222222222222222,
             "#7201a8"
            ],
            [
             0.3333333333333333,
             "#9c179e"
            ],
            [
             0.4444444444444444,
             "#bd3786"
            ],
            [
             0.5555555555555556,
             "#d8576b"
            ],
            [
             0.6666666666666666,
             "#ed7953"
            ],
            [
             0.7777777777777778,
             "#fb9f3a"
            ],
            [
             0.8888888888888888,
             "#fdca26"
            ],
            [
             1,
             "#f0f921"
            ]
           ]
          },
          "colorway": [
           "#636efa",
           "#EF553B",
           "#00cc96",
           "#ab63fa",
           "#FFA15A",
           "#19d3f3",
           "#FF6692",
           "#B6E880",
           "#FF97FF",
           "#FECB52"
          ],
          "font": {
           "color": "#2a3f5f"
          },
          "geo": {
           "bgcolor": "white",
           "lakecolor": "white",
           "landcolor": "#E5ECF6",
           "showlakes": true,
           "showland": true,
           "subunitcolor": "white"
          },
          "hoverlabel": {
           "align": "left"
          },
          "hovermode": "closest",
          "mapbox": {
           "style": "light"
          },
          "paper_bgcolor": "white",
          "plot_bgcolor": "#E5ECF6",
          "polar": {
           "angularaxis": {
            "gridcolor": "white",
            "linecolor": "white",
            "ticks": ""
           },
           "bgcolor": "#E5ECF6",
           "radialaxis": {
            "gridcolor": "white",
            "linecolor": "white",
            "ticks": ""
           }
          },
          "scene": {
           "xaxis": {
            "backgroundcolor": "#E5ECF6",
            "gridcolor": "white",
            "gridwidth": 2,
            "linecolor": "white",
            "showbackground": true,
            "ticks": "",
            "zerolinecolor": "white"
           },
           "yaxis": {
            "backgroundcolor": "#E5ECF6",
            "gridcolor": "white",
            "gridwidth": 2,
            "linecolor": "white",
            "showbackground": true,
            "ticks": "",
            "zerolinecolor": "white"
           },
           "zaxis": {
            "backgroundcolor": "#E5ECF6",
            "gridcolor": "white",
            "gridwidth": 2,
            "linecolor": "white",
            "showbackground": true,
            "ticks": "",
            "zerolinecolor": "white"
           }
          },
          "shapedefaults": {
           "line": {
            "color": "#2a3f5f"
           }
          },
          "ternary": {
           "aaxis": {
            "gridcolor": "white",
            "linecolor": "white",
            "ticks": ""
           },
           "baxis": {
            "gridcolor": "white",
            "linecolor": "white",
            "ticks": ""
           },
           "bgcolor": "#E5ECF6",
           "caxis": {
            "gridcolor": "white",
            "linecolor": "white",
            "ticks": ""
           }
          },
          "title": {
           "x": 0.05
          },
          "xaxis": {
           "automargin": true,
           "gridcolor": "white",
           "linecolor": "white",
           "ticks": "",
           "title": {
            "standoff": 15
           },
           "zerolinecolor": "white",
           "zerolinewidth": 2
          },
          "yaxis": {
           "automargin": true,
           "gridcolor": "white",
           "linecolor": "white",
           "ticks": "",
           "title": {
            "standoff": 15
           },
           "zerolinecolor": "white",
           "zerolinewidth": 2
          }
         }
        },
        "title": {
         "font": {
          "size": 16
         },
         "subtitle": {
          "text": "Gemma 2 27B Base, Layer 22 - Shared Question Set, Mean-Centered and Scaled Vectors"
         },
         "text": "PCA on Trait Vectors",
         "x": 0.5
        },
        "width": 1200,
        "xaxis": {
         "anchor": "y",
         "domain": [
          0,
          1
         ],
         "range": [
          -0.8345544478085486,
          0.8345544478085486
         ]
        },
        "xaxis2": {
         "anchor": "y2",
         "domain": [
          0,
          1
         ],
         "range": [
          -0.18524033671051005,
          0.18524033671051005
         ]
        },
        "yaxis": {
         "anchor": "x",
         "domain": [
          0.55,
          1
         ],
         "range": [
          0,
          2.5
         ],
         "showticklabels": false
        },
        "yaxis2": {
         "anchor": "x2",
         "domain": [
          0,
          0.45
         ],
         "range": [
          0,
          2.5
         ],
         "showticklabels": false
        }
       }
      },
      "text/html": [
       "<div>                            <div id=\"cbe6e485-83e3-45af-a9a0-0130183800e7\" class=\"plotly-graph-div\" style=\"height:800px; width:1200px;\"></div>            <script type=\"text/javascript\">                require([\"plotly\"], function(Plotly) {                    window.PLOTLYENV=window.PLOTLYENV || {};                                    if (document.getElementById(\"cbe6e485-83e3-45af-a9a0-0130183800e7\")) {                    Plotly.newPlot(                        \"cbe6e485-83e3-45af-a9a0-0130183800e7\",                        [{\"hovertemplate\":\"\\u003cb\\u003e%{text}\\u003c\\u002fb\\u003e\\u003cbr\\u003eCosine Similarity: %{x:.3f}\\u003cextra\\u003e\\u003c\\u002fextra\\u003e\",\"marker\":{\"color\":\"limegreen\",\"line\":{\"color\":\"black\",\"width\":1},\"opacity\":1.0,\"size\":8,\"symbol\":\"diamond\"},\"mode\":\"markers\",\"showlegend\":false,\"text\":[\"Zealous\",\"Wry\",\"Witty\",\"Whimsical\",\"Visceral\",\"Verbose\",\"Utilitarian\",\"Urgent\",\"Universalist\",\"Understated\",\"Transparent\",\"Traditional\",\"Theoretical\",\"Theatrical\",\"Temperamental\",\"Tactful\",\"Systems thinker\",\"Sycophantic\",\"Supportive\",\"Subversive\",\"Submissive\",\"Structuralist\",\"Stream of consciousness\",\"Strategic\",\"Stoic\",\"Spontaneous\",\"Spiritual\",\"Speculative\",\"Solemn\",\"Socratic\",\"Skeptical\",\"Serious\",\"Serene\",\"Secular\",\"Savage\",\"Sassy\",\"Sardonic\",\"Sarcastic\",\"Romantic\",\"Ritualistic\",\"Risk taking\",\"Rhetorical\",\"Reverent\",\"Resilient\",\"Reserved\",\"Relativist\",\"Regulatory\",\"Reductionist\",\"Rebellious\",\"Reactive\",\"Rationalist\",\"Radical\",\"Quantitative\",\"Qualitative\",\"Provocative\",\"Progressive\",\"Problem solving\",\"Proactive\",\"Principled\",\"Prescriptive\",\"Practical\",\"Poetic\",\"Pluralist\",\"Playful\",\"Philosophical\",\"Petty\",\"Pessimistic\",\"Pensive\",\"Pedantic\",\"Patient\",\"Passive aggressive\",\"Passionate\",\"Paranoid\",\"Paradoxical\",\"Pacifist\",\"Open ended\",\"Obsessive\",\"Nurturing\",\"Nostalgic\",\"Nonchalant\",\"Nihilistic\",\"Neurotic\",\"Narrative\",\"Naive\",\"Mystical\",\"Moderate\",\"Mischievous\",\"Misanthropic\",\"Militant\",\"Meticulous\",\"Methodical\",\"Metaphorical\",\"Mercurial\",\"Melodramatic\",\"Meditative\",\"Materialist\",\"Manipulative\",\"Manic\",\"Literal\",\"Libertarian\",\"Judgmental\",\"Irreverent\",\"Ironic\",\"Intuitive\",\"Introverted\",\"Introspective\",\"Interdisciplinary\",\"Inspirational\",\"Inquisitive\",\"Innovative\",\"Individualistic\",\"Independent\",\"Inclusive\",\"Impulsive\",\"Impatient\",\"Idealistic\",\"Iconoclastic\",\"Humble\",\"Humanistic\",\"Hostile\",\"Holistic\",\"Historical\",\"Hedonistic\",\"Grounded\",\"Grandiose\",\"Goofy\",\"Generous\",\"Generalist\",\"Futuristic\",\"Fundamentalist\",\"Formalist\",\"Formal\",\"Flirty\",\"Flippant\",\"Flexible\",\"Fatalistic\",\"Factual\",\"Extroverted\",\"Exploratory\",\"Experiential\",\"Existentialist\",\"Evil\",\"Ethereal\",\"Essentialist\",\"Epicurean\",\"Environmental\",\"Entertaining\",\"Enigmatic\",\"Eloquent\",\"Elitist\",\"Egalitarian\",\"Effusive\",\"Efficient\",\"Educational\",\"Edgy\",\"Eclectic\",\"Earnest\",\"Dramatic\",\"Dominant\",\"Dogmatic\",\"Divergent\",\"Dispassionate\",\"Disorganized\",\"Diplomatic\",\"Deterministic\",\"Detached\",\"Descriptive\",\"Deontological\",\"Deferential\",\"Deconstructionist\",\"Decisive\",\"Data driven\",\"Cynical\",\"Curious\",\"Cryptic\",\"Cruel\",\"Critical\",\"Creative\",\"Cosmopolitan\",\"Convergent\",\"Contrarian\",\"Contemporary\",\"Constructivist\",\"Conscientious\",\"Confident\",\"Condescending\",\"Concise\",\"Conciliatory\",\"Conceptual\",\"Competitive\",\"Collectivistic\",\"Collaborative\",\"Closure seeking\",\"Circumspect\",\"Charismatic\",\"Chaotic\",\"Challenging\",\"Cautious\",\"Calm\",\"Calculating\",\"Bombastic\",\"Blunt\",\"Bitter\",\"Big picture\",\"Benevolent\",\"Avoidant\",\"Assertive\",\"Ascetic\",\"Artistic\",\"Anxious\",\"Anthropocentric\",\"Animated\",\"Analytical\",\"Altruistic\",\"Agreeable\",\"Adventurous\",\"Adaptable\",\"Abstract\",\"Absolutist\"],\"x\":[0.11998152116409233,0.32706288676979184,-0.13151978631050928,-0.13088529548374397,-0.26903241371364195,0.20426120535216843,0.02389836400363871,0.1518583515142402,-0.002652515797361349,-0.3091986722644654,-0.03853536086252275,-0.1944851492403125,0.34302428204518554,0.23038067183756397,-0.03256663409383004,-0.3831567188295279,0.08386301227590788,-0.33423061115606534,-0.2944675530435446,-0.05170914597114818,-0.5028196552392123,0.35565665557711257,-0.44135281575458907,0.1837716630321521,0.40952964209968107,-0.3162899789501546,-0.06046360506689809,-0.13072862875804256,0.2718676831738027,-0.38642491365532833,0.37421776929240935,0.3514469563599504,-0.26023632073097713,-0.06888011099760337,0.3709904153923699,0.16864330166079422,0.2911925572992344,0.3317209712767007,-0.14686424238475346,0.47446626861988195,-0.13662737105288375,0.06586122307723973,0.04588826194164829,-0.16061829918932152,0.13821492125945642,-0.17260056601255097,-0.018967554307449917,-0.08505673247116363,-0.002165098515370844,-0.4921599471013338,0.2848857714154866,0.16596338937672023,0.26107107618126696,-0.32962024750276386,0.33548737488421865,-0.22405452414878882,0.19393610024673294,0.17127460865353353,0.06469986484440304,0.37469522686009477,-0.36048361122734807,0.003849778168456356,-0.27193982042221293,-0.4276961248275387,0.2316293158776787,0.15367469755569793,0.3360319633735767,0.23714881533623133,0.43733240300122833,-0.16087344861051706,0.025594993311753488,-0.06534463489367086,0.11937185989281024,-0.10426964539194304,-0.19495666386678642,-0.5671734309693359,0.09066003036581843,-0.45077562842429203,-0.15344492083969818,-0.04451346774073985,0.39078678100448466,-0.05724371279021239,-0.1501629763876868,-0.4980631521015966,-0.13555445989537454,-0.3173376759076461,-0.08221427103711618,0.41278351310611044,0.4103666683439847,0.4782398163838322,0.26536845242139717,-0.025276909130099338,-0.04748477210842773,0.2033655606411291,-0.0807921291446353,0.011396669267682805,-0.02652699870802915,-0.14017268994551274,-0.17214365093778494,-0.08078591280642476,0.3314087682721146,-0.14536353011874367,0.15243950997253333,-0.24154298163524598,0.444234747473423,-0.06332851457842774,0.1396743981976084,-0.37406529969561353,-0.3175135252218751,0.0891441250611954,-0.19695438745949956,0.015997813006153064,-0.041742391501697486,-0.26108439277033174,-0.10635658496372377,-0.036743861389495404,0.40359178926853745,-0.4231033131061376,-0.43820478382564293,0.42124401735599604,0.1127813724080131,0.20968430251497194,-0.2765499469828871,-0.25166379401146327,0.47923645295005296,-0.15649003097174613,0.11256227317733038,0.08542328849295318,-0.007895491126207023,0.18375309075827415,0.4203183414920434,0.41124449613602215,-0.2896502802645314,-0.13738324699975027,-0.41674539657831683,0.2024135765006117,-0.04525373379343542,-0.5455968044547284,0.011067571125815419,-0.3996426530870387,-0.39894264277668445,0.1733836146566587,0.04483602671666767,0.25645626800953536,0.11207031972836086,-0.0949171613223448,-0.3027640129332949,0.021486601177636244,0.26901746712860825,0.468151198572956,-0.2271222642699946,-0.2631739844762656,-0.3058064541364557,0.18550167534679976,0.23222243142472607,0.04260217304625635,-0.13311225082479353,0.1722709368301642,0.3820614524691069,0.19003012364987185,0.08105441113568797,0.30720062845495066,-0.23133241041806382,-0.3083764669324459,0.30177949925896386,0.4491078217803572,0.03312189483887994,-0.1624266147704347,-0.39419007211824164,0.2050319105303406,0.20138232025397468,0.28812484047639764,0.48208278772458024,-0.23681531771701012,0.15008701764161617,0.4974281353659848,0.2665897931907063,-0.03974699629155391,0.04457029228486335,-0.02991869489964569,0.3618695756916853,-0.29281605939403504,-0.2958620357487686,0.16579226187004203,0.27391859307006466,0.23908678372421036,-0.2638381376344406,-0.44305725794702444,0.08034221892038355,0.46943287801667255,-0.16954405091471828,-0.34905406710524317,0.1442456603385176,-0.16398224877663417,-0.08141029890324364,-0.12467890880587786,0.3054067139764276,0.03190803553363079,-0.26692372166976663,0.21611371647254418,0.4801892941437829,0.24506589074447727,0.3419172363236396,0.07015061003653081,-0.49165948397778225,-0.3671073504937978,0.12590026283067357,0.1428138561232557,-0.21475272102954596,-0.11158816496323663,-0.11870300854631038,-0.2238121076699754,0.34325762110479524,-0.27791234434828316,-0.5260520394812296,-0.11994788946400566,-0.5033000144995288,0.17110838753403487,0.27989466482843184],\"y\":[1,1,1,1,1,1,1,1,1,1,1,1,1,1,1,1,1,1,1,1,1,1,1,1,1,1,1,1,1,1,1,1,1,1,1,1,1,1,1,1,1,1,1,1,1,1,1,1,1,1,1,1,1,1,1,1,1,1,1,1,1,1,1,1,1,1,1,1,1,1,1,1,1,1,1,1,1,1,1,1,1,1,1,1,1,1,1,1,1,1,1,1,1,1,1,1,1,1,1,1,1,1,1,1,1,1,1,1,1,1,1,1,1,1,1,1,1,1,1,1,1,1,1,1,1,1,1,1,1,1,1,1,1,1,1,1,1,1,1,1,1,1,1,1,1,1,1,1,1,1,1,1,1,1,1,1,1,1,1,1,1,1,1,1,1,1,1,1,1,1,1,1,1,1,1,1,1,1,1,1,1,1,1,1,1,1,1,1,1,1,1,1,1,1,1,1,1,1,1,1,1,1,1,1,1,1,1,1,1,1,1,1,1,1,1,1,1,1,1],\"type\":\"scatter\",\"xaxis\":\"x\",\"yaxis\":\"y\"},{\"hovertemplate\":\"\\u003cb\\u003e%{text}\\u003c\\u002fb\\u003e\\u003cbr\\u003eCosine Similarity: %{x:.3f}\\u003cextra\\u003e\\u003c\\u002fextra\\u003e\",\"marker\":{\"color\":\"limegreen\",\"line\":{\"color\":\"black\",\"width\":1},\"opacity\":1.0,\"size\":8,\"symbol\":\"diamond\"},\"mode\":\"markers\",\"showlegend\":false,\"text\":[\"Technical\",\"Specialized\",\"Perfectionist\",\"Optimistic\",\"Melancholic\",\"Improvisational\",\"Gregarious\",\"Forgiving\",\"Esoteric\",\"Erudite\",\"Empathetic\",\"Emotional\",\"Confrontational\",\"Chill\",\"Casual\",\"Callous\",\"Arrogant\",\"Acerbic\",\"Accommodating\",\"Accessible\"],\"x\":[0.5902677465343632,0.606212701168514,0.5186731907135973,-0.6019101797850197,0.5250989642158564,-0.6822582704847411,-0.6577545106790819,-0.6523668206543916,0.5635137830626804,0.5975939087499686,-0.758685861644135,-0.6036279256829348,0.5597078445440977,-0.6724285745799695,-0.6867437901806005,0.5132338643287503,0.5744649798904864,0.5356283191878192,-0.6982688030271413,-0.5680603446451626],\"y\":[1,1,1,1,1,1,1,1,1,1,1,1,1,1,1,1,1,1,1,1],\"type\":\"scatter\",\"xaxis\":\"x\",\"yaxis\":\"y\"},{\"hoverinfo\":\"skip\",\"line\":{\"color\":\"black\",\"width\":1},\"mode\":\"lines\",\"showlegend\":false,\"x\":[-0.758685861644135,-0.758685861644135],\"y\":[1.0,1.45],\"type\":\"scatter\",\"xaxis\":\"x\",\"yaxis\":\"y\"},{\"hoverinfo\":\"skip\",\"line\":{\"color\":\"black\",\"width\":1},\"mode\":\"lines\",\"showlegend\":false,\"x\":[-0.6982688030271413,-0.6982688030271413],\"y\":[1.0,0.6],\"type\":\"scatter\",\"xaxis\":\"x\",\"yaxis\":\"y\"},{\"hoverinfo\":\"skip\",\"line\":{\"color\":\"black\",\"width\":1},\"mode\":\"lines\",\"showlegend\":false,\"x\":[-0.6867437901806005,-0.6867437901806005],\"y\":[1.0,1.9],\"type\":\"scatter\",\"xaxis\":\"x\",\"yaxis\":\"y\"},{\"hoverinfo\":\"skip\",\"line\":{\"color\":\"black\",\"width\":1},\"mode\":\"lines\",\"showlegend\":false,\"x\":[-0.6822582704847411,-0.6822582704847411],\"y\":[1.0,0.15],\"type\":\"scatter\",\"xaxis\":\"x\",\"yaxis\":\"y\"},{\"hoverinfo\":\"skip\",\"line\":{\"color\":\"black\",\"width\":1},\"mode\":\"lines\",\"showlegend\":false,\"x\":[-0.6724285745799695,-0.6724285745799695],\"y\":[1.0,1.6],\"type\":\"scatter\",\"xaxis\":\"x\",\"yaxis\":\"y\"},{\"hoverinfo\":\"skip\",\"line\":{\"color\":\"black\",\"width\":1},\"mode\":\"lines\",\"showlegend\":false,\"x\":[-0.6577545106790819,-0.6577545106790819],\"y\":[1.0,0.45],\"type\":\"scatter\",\"xaxis\":\"x\",\"yaxis\":\"y\"},{\"hoverinfo\":\"skip\",\"line\":{\"color\":\"black\",\"width\":1},\"mode\":\"lines\",\"showlegend\":false,\"x\":[-0.6523668206543916,-0.6523668206543916],\"y\":[1.0,1.3],\"type\":\"scatter\",\"xaxis\":\"x\",\"yaxis\":\"y\"},{\"hoverinfo\":\"skip\",\"line\":{\"color\":\"black\",\"width\":1},\"mode\":\"lines\",\"showlegend\":false,\"x\":[-0.6036279256829348,-0.6036279256829348],\"y\":[1.0,0.75],\"type\":\"scatter\",\"xaxis\":\"x\",\"yaxis\":\"y\"},{\"hoverinfo\":\"skip\",\"line\":{\"color\":\"black\",\"width\":1},\"mode\":\"lines\",\"showlegend\":false,\"x\":[-0.6019101797850197,-0.6019101797850197],\"y\":[1.0,1.75],\"type\":\"scatter\",\"xaxis\":\"x\",\"yaxis\":\"y\"},{\"hoverinfo\":\"skip\",\"line\":{\"color\":\"black\",\"width\":1},\"mode\":\"lines\",\"showlegend\":false,\"x\":[-0.5680603446451626,-0.5680603446451626],\"y\":[1.0,0.3],\"type\":\"scatter\",\"xaxis\":\"x\",\"yaxis\":\"y\"},{\"hoverinfo\":\"skip\",\"line\":{\"color\":\"black\",\"width\":1},\"mode\":\"lines\",\"showlegend\":false,\"x\":[0.5132338643287503,0.5132338643287503],\"y\":[1.0,1.45],\"type\":\"scatter\",\"xaxis\":\"x\",\"yaxis\":\"y\"},{\"hoverinfo\":\"skip\",\"line\":{\"color\":\"black\",\"width\":1},\"mode\":\"lines\",\"showlegend\":false,\"x\":[0.5186731907135973,0.5186731907135973],\"y\":[1.0,0.6],\"type\":\"scatter\",\"xaxis\":\"x\",\"yaxis\":\"y\"},{\"hoverinfo\":\"skip\",\"line\":{\"color\":\"black\",\"width\":1},\"mode\":\"lines\",\"showlegend\":false,\"x\":[0.5250989642158564,0.5250989642158564],\"y\":[1.0,1.9],\"type\":\"scatter\",\"xaxis\":\"x\",\"yaxis\":\"y\"},{\"hoverinfo\":\"skip\",\"line\":{\"color\":\"black\",\"width\":1},\"mode\":\"lines\",\"showlegend\":false,\"x\":[0.5356283191878192,0.5356283191878192],\"y\":[1.0,0.15],\"type\":\"scatter\",\"xaxis\":\"x\",\"yaxis\":\"y\"},{\"hoverinfo\":\"skip\",\"line\":{\"color\":\"black\",\"width\":1},\"mode\":\"lines\",\"showlegend\":false,\"x\":[0.5597078445440977,0.5597078445440977],\"y\":[1.0,1.6],\"type\":\"scatter\",\"xaxis\":\"x\",\"yaxis\":\"y\"},{\"hoverinfo\":\"skip\",\"line\":{\"color\":\"black\",\"width\":1},\"mode\":\"lines\",\"showlegend\":false,\"x\":[0.5635137830626804,0.5635137830626804],\"y\":[1.0,0.45],\"type\":\"scatter\",\"xaxis\":\"x\",\"yaxis\":\"y\"},{\"hoverinfo\":\"skip\",\"line\":{\"color\":\"black\",\"width\":1},\"mode\":\"lines\",\"showlegend\":false,\"x\":[0.5744649798904864,0.5744649798904864],\"y\":[1.0,1.3],\"type\":\"scatter\",\"xaxis\":\"x\",\"yaxis\":\"y\"},{\"hoverinfo\":\"skip\",\"line\":{\"color\":\"black\",\"width\":1},\"mode\":\"lines\",\"showlegend\":false,\"x\":[0.5902677465343632,0.5902677465343632],\"y\":[1.0,0.75],\"type\":\"scatter\",\"xaxis\":\"x\",\"yaxis\":\"y\"},{\"hoverinfo\":\"skip\",\"line\":{\"color\":\"black\",\"width\":1},\"mode\":\"lines\",\"showlegend\":false,\"x\":[0.5975939087499686,0.5975939087499686],\"y\":[1.0,1.75],\"type\":\"scatter\",\"xaxis\":\"x\",\"yaxis\":\"y\"},{\"hoverinfo\":\"skip\",\"line\":{\"color\":\"black\",\"width\":1},\"mode\":\"lines\",\"showlegend\":false,\"x\":[0.606212701168514,0.606212701168514],\"y\":[1.0,0.3],\"type\":\"scatter\",\"xaxis\":\"x\",\"yaxis\":\"y\"},{\"hoverinfo\":\"skip\",\"marker\":{\"color\":\"limegreen\"},\"opacity\":0.7,\"showlegend\":false,\"width\":0.03639729500833733,\"x\":[-0.7359375522639242,-0.6904409335035024,-0.6449443147430809,-0.5994476959826593,-0.5539510772222376,-0.508454458461816,-0.46295783970139437,-0.4174612209409727,-0.37196460218055105,-0.3264679834201294,-0.2809713646597078,-0.23547474589928613,-0.18997812713886447,-0.14448150837844287,-0.09898488961802127,-0.05348827085759961,-0.007991652097177948,0.03750496666324371,0.08300158542366531,0.12849820418408692,0.17399482294450858,0.21949144170493023,0.26498806046535184,0.3104846792257735,0.35598129798619516,0.4014779167466168,0.4469745355070385,0.49247115426746,0.5379677730278817,0.5834643917883033],\"y\":[0.049999999999999996,0.19999999999999998,0.09999999999999999,0.09999999999999999,0.15,0.3,0.15,0.3,0.3,0.45,0.7000000000000001,0.39999999999999997,0.3,0.9,0.55,0.7000000000000001,0.5,0.5,0.45,0.55,0.75,0.6,0.5,0.39999999999999997,0.55,0.45,0.25,0.35000000000000003,0.19999999999999998,0.25],\"type\":\"bar\",\"xaxis\":\"x\",\"yaxis\":\"y\"},{\"hovertemplate\":\"\\u003cb\\u003e%{text}\\u003c\\u002fb\\u003e\\u003cbr\\u003eNormalized Projection: %{x:.3f}\\u003cextra\\u003e\\u003c\\u002fextra\\u003e\",\"marker\":{\"color\":\"limegreen\",\"line\":{\"color\":\"black\",\"width\":1},\"opacity\":1.0,\"size\":8,\"symbol\":\"diamond\"},\"mode\":\"markers\",\"showlegend\":false,\"text\":[\"Zealous\",\"Wry\",\"Witty\",\"Whimsical\",\"Visceral\",\"Verbose\",\"Utilitarian\",\"Urgent\",\"Universalist\",\"Understated\",\"Transparent\",\"Traditional\",\"Theoretical\",\"Theatrical\",\"Temperamental\",\"Tactful\",\"Systems thinker\",\"Sycophantic\",\"Supportive\",\"Subversive\",\"Structuralist\",\"Stream of consciousness\",\"Strategic\",\"Stoic\",\"Spontaneous\",\"Spiritual\",\"Speculative\",\"Solemn\",\"Socratic\",\"Skeptical\",\"Serious\",\"Serene\",\"Secular\",\"Savage\",\"Sassy\",\"Sardonic\",\"Sarcastic\",\"Romantic\",\"Ritualistic\",\"Risk taking\",\"Rhetorical\",\"Reverent\",\"Resilient\",\"Reserved\",\"Relativist\",\"Regulatory\",\"Reductionist\",\"Rebellious\",\"Rationalist\",\"Radical\",\"Quantitative\",\"Qualitative\",\"Provocative\",\"Progressive\",\"Problem solving\",\"Proactive\",\"Principled\",\"Prescriptive\",\"Practical\",\"Poetic\",\"Pluralist\",\"Playful\",\"Philosophical\",\"Petty\",\"Pessimistic\",\"Perfectionist\",\"Pensive\",\"Pedantic\",\"Patient\",\"Passive aggressive\",\"Passionate\",\"Paranoid\",\"Paradoxical\",\"Pacifist\",\"Open ended\",\"Obsessive\",\"Nostalgic\",\"Nonchalant\",\"Nihilistic\",\"Neurotic\",\"Narrative\",\"Mystical\",\"Moderate\",\"Mischievous\",\"Misanthropic\",\"Militant\",\"Methodical\",\"Metaphorical\",\"Mercurial\",\"Melodramatic\",\"Meditative\",\"Materialist\",\"Manipulative\",\"Manic\",\"Literal\",\"Libertarian\",\"Judgmental\",\"Irreverent\",\"Ironic\",\"Intuitive\",\"Introverted\",\"Introspective\",\"Interdisciplinary\",\"Inspirational\",\"Inquisitive\",\"Innovative\",\"Individualistic\",\"Independent\",\"Inclusive\",\"Impulsive\",\"Improvisational\",\"Impatient\",\"Idealistic\",\"Iconoclastic\",\"Humble\",\"Humanistic\",\"Hostile\",\"Holistic\",\"Historical\",\"Hedonistic\",\"Grounded\",\"Grandiose\",\"Goofy\",\"Generous\",\"Generalist\",\"Futuristic\",\"Fundamentalist\",\"Formalist\",\"Formal\",\"Forgiving\",\"Flirty\",\"Flippant\",\"Flexible\",\"Fatalistic\",\"Factual\",\"Extroverted\",\"Exploratory\",\"Experiential\",\"Existentialist\",\"Evil\",\"Ethereal\",\"Essentialist\",\"Epicurean\",\"Environmental\",\"Entertaining\",\"Enigmatic\",\"Emotional\",\"Eloquent\",\"Elitist\",\"Egalitarian\",\"Effusive\",\"Efficient\",\"Educational\",\"Edgy\",\"Eclectic\",\"Earnest\",\"Dramatic\",\"Dominant\",\"Dogmatic\",\"Divergent\",\"Dispassionate\",\"Disorganized\",\"Diplomatic\",\"Deterministic\",\"Detached\",\"Descriptive\",\"Deontological\",\"Deferential\",\"Deconstructionist\",\"Decisive\",\"Data driven\",\"Cynical\",\"Curious\",\"Cryptic\",\"Critical\",\"Creative\",\"Cosmopolitan\",\"Convergent\",\"Contrarian\",\"Contemporary\",\"Constructivist\",\"Conscientious\",\"Confrontational\",\"Confident\",\"Condescending\",\"Concise\",\"Conciliatory\",\"Conceptual\",\"Competitive\",\"Collectivistic\",\"Collaborative\",\"Closure seeking\",\"Circumspect\",\"Charismatic\",\"Chaotic\",\"Challenging\",\"Cautious\",\"Calm\",\"Calculating\",\"Blunt\",\"Bitter\",\"Big picture\",\"Benevolent\",\"Avoidant\",\"Assertive\",\"Ascetic\",\"Artistic\",\"Arrogant\",\"Anxious\",\"Anthropocentric\",\"Animated\",\"Analytical\",\"Altruistic\",\"Agreeable\",\"Adventurous\",\"Adaptable\",\"Accommodating\",\"Abstract\",\"Absolutist\"],\"x\":[0.025840998662102533,0.0765426801226007,-0.03176022760244271,-0.03141251745498736,-0.05520016379549187,0.041230430453853335,0.002808372977503332,0.025639981523846302,-0.0003124778767191186,-0.07541316143460168,-0.008730979665128476,-0.035427728741452,0.05010451402470035,0.05984128099935279,-0.00791640347360716,-0.08028809522324865,0.011956094990734861,-0.09490673511933029,-0.07932744137733741,-0.007849177232938435,0.07125186319397016,-0.07687182312852844,0.05485224280490589,0.07823470408124865,-0.05723319561898939,-0.01250520306162275,-0.015998464316706658,0.07102955046606833,-0.09459345591032939,0.05869834475221515,0.09497740942443213,-0.07304503023914319,-0.01152115998255921,0.0771981953591728,0.03444579222032611,0.07147288366080343,0.07248658391952327,-0.035828995245339494,0.10365966050483916,-0.01717652999325542,0.012825338018684714,0.008494917047590539,-0.04604248848548624,0.032671146244280566,-0.032550728844753046,-0.0035996544870689606,-0.013653980775040427,-0.0003138978409639008,0.05197564794346937,0.028550187229587746,0.05726487365749742,-0.06305326942430713,0.04441500688092887,-0.02528284690663619,0.04180884213380651,0.03990067171554968,0.006798896146310983,0.06677005853628586,-0.0700745983947282,0.001530730471601673,-0.04159392233540273,-0.09357658191609651,0.0382363811023728,0.0320826629277593,0.05089256032026412,0.09665130349445658,0.06065735281627569,0.06923265391775744,-0.04725034956351313,0.005929979443197751,-0.01203536516156147,0.020848497287549162,-0.013580862324835115,-0.020709420431910756,-0.08163296599692005,0.012530459246992736,-0.022769694954987034,-0.013801944901421528,0.09736263556227863,-0.0171653512230518,-0.03501548278214832,-0.0260229726308312,-0.08022105845791491,-0.018892014974854848,0.09800692846356555,0.08906320984358011,0.06882285312275928,-0.006053001009806534,-0.009941130363863383,0.05026551492699694,-0.022484082925222214,0.0015653959430566625,-0.005199613818400894,-0.03538375823090235,-0.03809675274520614,-0.00974953851542568,0.061784972477936836,-0.033826590567464856,0.040686020260392204,-0.03489309903133264,0.0964421532685722,-0.01297317140465323,0.018711350737217733,-0.10053476740813468,-0.08323057825207576,0.011792403167676031,-0.017599141145423453,0.002505940788854596,-0.0061378194870996185,-0.08648673174611121,-0.11908210442738747,-0.030839045651425742,-0.005240855612863643,0.055689556158136484,-0.07898775009312478,-0.06639945669917204,0.11297901152403486,0.01967859668233043,0.029632759895484515,-0.053581196756187055,-0.05612584968674978,0.09866408263038708,-0.0423930678940754,0.03205258817119602,0.01734581495265267,-0.001067185647992946,0.035464825958544124,0.06532461615309101,0.10544856622833723,-0.06587539363680664,-0.07114974834257048,-0.0396218223278572,-0.09549136583588257,0.04085186200211828,-0.00994839992859504,-0.07766221180025226,0.0025389577371780106,-0.05929546037145118,-0.076104919721701,0.041582944819997136,0.011326928953783379,0.036665047011241174,0.016562477191970824,-0.013313329415266554,-0.06601182816011608,0.005692949245636918,-0.10737882133310304,0.07034774246177436,0.09136650328205954,-0.03660313516661001,-0.05918815168408577,-0.0713046407001183,0.05496172585082471,0.04962333028077459,0.0057588620066093615,-0.03561512578329481,0.041294225829788464,0.059579261634174784,0.04310442520141905,0.01777819029456058,0.0727870525610001,-0.05878935524298955,-0.06833625008118777,0.05719486136286205,0.09086247543781117,0.005933277957795097,-0.018156037214297538,-0.06923961144242559,0.03337312120918942,0.03780421556766906,0.05065990627900113,0.0790205842530405,-0.04901172778902668,0.040948375751997106,0.03978324845047174,-0.006318321431100922,0.008360007409352542,-0.003564279240336751,0.04965289943447287,-0.03974379319664211,-0.03769502656687796,0.055231424485503985,0.07724801856459235,0.044445000560461856,0.045962697475222185,-0.07103488365635324,-0.11178491907397393,0.011716423416788142,0.0909038274366888,-0.02265860326567957,-0.04878724838322898,0.024593380675279376,-0.030628515882524753,-0.019221490616613473,-0.01617856501479804,0.045222721109966384,0.005405519697007301,-0.07502925587185436,0.04072896529114821,0.04441863445374084,0.07735721209272645,0.008997029042611631,-0.10520934933868216,-0.11067747717430572,0.015181689333463482,0.024652949474392373,-0.043959520530574385,0.11320869839428435,-0.032534924626394075,-0.01233727878515756,-0.05518161114419836,0.08364911509267127,-0.050504277437493604,-0.11649926178532087,-0.017104435278181573,-0.08772558608255535,-0.08382197783076913,0.02324713704308309,0.03551450052493411],\"y\":[1,1,1,1,1,1,1,1,1,1,1,1,1,1,1,1,1,1,1,1,1,1,1,1,1,1,1,1,1,1,1,1,1,1,1,1,1,1,1,1,1,1,1,1,1,1,1,1,1,1,1,1,1,1,1,1,1,1,1,1,1,1,1,1,1,1,1,1,1,1,1,1,1,1,1,1,1,1,1,1,1,1,1,1,1,1,1,1,1,1,1,1,1,1,1,1,1,1,1,1,1,1,1,1,1,1,1,1,1,1,1,1,1,1,1,1,1,1,1,1,1,1,1,1,1,1,1,1,1,1,1,1,1,1,1,1,1,1,1,1,1,1,1,1,1,1,1,1,1,1,1,1,1,1,1,1,1,1,1,1,1,1,1,1,1,1,1,1,1,1,1,1,1,1,1,1,1,1,1,1,1,1,1,1,1,1,1,1,1,1,1,1,1,1,1,1,1,1,1,1,1,1,1,1,1,1,1,1,1,1,1,1,1,1,1,1,1,1,1],\"type\":\"scatter\",\"xaxis\":\"x2\",\"yaxis\":\"y2\"},{\"hovertemplate\":\"\\u003cb\\u003e%{text}\\u003c\\u002fb\\u003e\\u003cbr\\u003eNormalized Projection: %{x:.3f}\\u003cextra\\u003e\\u003c\\u002fextra\\u003e\",\"marker\":{\"color\":\"limegreen\",\"line\":{\"color\":\"black\",\"width\":1},\"opacity\":1.0,\"size\":8,\"symbol\":\"diamond\"},\"mode\":\"markers\",\"showlegend\":false,\"text\":[\"Technical\",\"Submissive\",\"Specialized\",\"Reactive\",\"Optimistic\",\"Nurturing\",\"Naive\",\"Meticulous\",\"Melancholic\",\"Gregarious\",\"Esoteric\",\"Erudite\",\"Empathetic\",\"Cruel\",\"Chill\",\"Casual\",\"Callous\",\"Bombastic\",\"Acerbic\",\"Accessible\"],\"x\":[0.1224575222997663,-0.12374715510968677,0.11497016254174458,-0.1253905484051735,-0.1198382979524124,-0.120155785384991,-0.13551550883165997,0.11674415624134679,0.11886124868833144,-0.11971752861829178,0.1305429185594292,0.13008137826101568,-0.12226533949420476,0.11775489567294464,-0.16840030610046366,-0.15651923383702987,0.12433902431699408,0.12928590696172373,0.11901289515486214,-0.14246770962933525],\"y\":[1,1,1,1,1,1,1,1,1,1,1,1,1,1,1,1,1,1,1,1],\"type\":\"scatter\",\"xaxis\":\"x2\",\"yaxis\":\"y2\"},{\"hoverinfo\":\"skip\",\"line\":{\"color\":\"black\",\"width\":1},\"mode\":\"lines\",\"showlegend\":false,\"x\":[-0.16840030610046366,-0.16840030610046366],\"y\":[1.0,1.45],\"type\":\"scatter\",\"xaxis\":\"x2\",\"yaxis\":\"y2\"},{\"hoverinfo\":\"skip\",\"line\":{\"color\":\"black\",\"width\":1},\"mode\":\"lines\",\"showlegend\":false,\"x\":[-0.15651923383702987,-0.15651923383702987],\"y\":[1.0,0.6],\"type\":\"scatter\",\"xaxis\":\"x2\",\"yaxis\":\"y2\"},{\"hoverinfo\":\"skip\",\"line\":{\"color\":\"black\",\"width\":1},\"mode\":\"lines\",\"showlegend\":false,\"x\":[-0.14246770962933525,-0.14246770962933525],\"y\":[1.0,1.9],\"type\":\"scatter\",\"xaxis\":\"x2\",\"yaxis\":\"y2\"},{\"hoverinfo\":\"skip\",\"line\":{\"color\":\"black\",\"width\":1},\"mode\":\"lines\",\"showlegend\":false,\"x\":[-0.13551550883165997,-0.13551550883165997],\"y\":[1.0,0.15],\"type\":\"scatter\",\"xaxis\":\"x2\",\"yaxis\":\"y2\"},{\"hoverinfo\":\"skip\",\"line\":{\"color\":\"black\",\"width\":1},\"mode\":\"lines\",\"showlegend\":false,\"x\":[-0.1253905484051735,-0.1253905484051735],\"y\":[1.0,1.6],\"type\":\"scatter\",\"xaxis\":\"x2\",\"yaxis\":\"y2\"},{\"hoverinfo\":\"skip\",\"line\":{\"color\":\"black\",\"width\":1},\"mode\":\"lines\",\"showlegend\":false,\"x\":[-0.12374715510968677,-0.12374715510968677],\"y\":[1.0,0.45],\"type\":\"scatter\",\"xaxis\":\"x2\",\"yaxis\":\"y2\"},{\"hoverinfo\":\"skip\",\"line\":{\"color\":\"black\",\"width\":1},\"mode\":\"lines\",\"showlegend\":false,\"x\":[-0.12226533949420476,-0.12226533949420476],\"y\":[1.0,1.3],\"type\":\"scatter\",\"xaxis\":\"x2\",\"yaxis\":\"y2\"},{\"hoverinfo\":\"skip\",\"line\":{\"color\":\"black\",\"width\":1},\"mode\":\"lines\",\"showlegend\":false,\"x\":[-0.120155785384991,-0.120155785384991],\"y\":[1.0,0.75],\"type\":\"scatter\",\"xaxis\":\"x2\",\"yaxis\":\"y2\"},{\"hoverinfo\":\"skip\",\"line\":{\"color\":\"black\",\"width\":1},\"mode\":\"lines\",\"showlegend\":false,\"x\":[-0.1198382979524124,-0.1198382979524124],\"y\":[1.0,1.75],\"type\":\"scatter\",\"xaxis\":\"x2\",\"yaxis\":\"y2\"},{\"hoverinfo\":\"skip\",\"line\":{\"color\":\"black\",\"width\":1},\"mode\":\"lines\",\"showlegend\":false,\"x\":[-0.11971752861829178,-0.11971752861829178],\"y\":[1.0,0.3],\"type\":\"scatter\",\"xaxis\":\"x2\",\"yaxis\":\"y2\"},{\"hoverinfo\":\"skip\",\"line\":{\"color\":\"black\",\"width\":1},\"mode\":\"lines\",\"showlegend\":false,\"x\":[0.11497016254174458,0.11497016254174458],\"y\":[1.0,1.45],\"type\":\"scatter\",\"xaxis\":\"x2\",\"yaxis\":\"y2\"},{\"hoverinfo\":\"skip\",\"line\":{\"color\":\"black\",\"width\":1},\"mode\":\"lines\",\"showlegend\":false,\"x\":[0.11674415624134679,0.11674415624134679],\"y\":[1.0,0.6],\"type\":\"scatter\",\"xaxis\":\"x2\",\"yaxis\":\"y2\"},{\"hoverinfo\":\"skip\",\"line\":{\"color\":\"black\",\"width\":1},\"mode\":\"lines\",\"showlegend\":false,\"x\":[0.11775489567294464,0.11775489567294464],\"y\":[1.0,1.9],\"type\":\"scatter\",\"xaxis\":\"x2\",\"yaxis\":\"y2\"},{\"hoverinfo\":\"skip\",\"line\":{\"color\":\"black\",\"width\":1},\"mode\":\"lines\",\"showlegend\":false,\"x\":[0.11886124868833144,0.11886124868833144],\"y\":[1.0,0.15],\"type\":\"scatter\",\"xaxis\":\"x2\",\"yaxis\":\"y2\"},{\"hoverinfo\":\"skip\",\"line\":{\"color\":\"black\",\"width\":1},\"mode\":\"lines\",\"showlegend\":false,\"x\":[0.11901289515486214,0.11901289515486214],\"y\":[1.0,1.6],\"type\":\"scatter\",\"xaxis\":\"x2\",\"yaxis\":\"y2\"},{\"hoverinfo\":\"skip\",\"line\":{\"color\":\"black\",\"width\":1},\"mode\":\"lines\",\"showlegend\":false,\"x\":[0.1224575222997663,0.1224575222997663],\"y\":[1.0,0.45],\"type\":\"scatter\",\"xaxis\":\"x2\",\"yaxis\":\"y2\"},{\"hoverinfo\":\"skip\",\"line\":{\"color\":\"black\",\"width\":1},\"mode\":\"lines\",\"showlegend\":false,\"x\":[0.12433902431699408,0.12433902431699408],\"y\":[1.0,1.3],\"type\":\"scatter\",\"xaxis\":\"x2\",\"yaxis\":\"y2\"},{\"hoverinfo\":\"skip\",\"line\":{\"color\":\"black\",\"width\":1},\"mode\":\"lines\",\"showlegend\":false,\"x\":[0.12928590696172373,0.12928590696172373],\"y\":[1.0,0.75],\"type\":\"scatter\",\"xaxis\":\"x2\",\"yaxis\":\"y2\"},{\"hoverinfo\":\"skip\",\"line\":{\"color\":\"black\",\"width\":1},\"mode\":\"lines\",\"showlegend\":false,\"x\":[0.13008137826101568,0.13008137826101568],\"y\":[1.0,1.75],\"type\":\"scatter\",\"xaxis\":\"x2\",\"yaxis\":\"y2\"},{\"hoverinfo\":\"skip\",\"line\":{\"color\":\"black\",\"width\":1},\"mode\":\"lines\",\"showlegend\":false,\"x\":[0.1305429185594292,0.1305429185594292],\"y\":[1.0,0.3],\"type\":\"scatter\",\"xaxis\":\"x2\",\"yaxis\":\"y2\"},{\"hoverinfo\":\"skip\",\"marker\":{\"color\":\"limegreen\"},\"opacity\":0.7,\"showlegend\":false,\"width\":0.007971819324263807,\"x\":[-0.16341791902279879,-0.15345314486746903,-0.14348837071213927,-0.1335235965568095,-0.12355882240147972,-0.11359404824614996,-0.1036292740908202,-0.09366449993549045,-0.08369972578016069,-0.07373495162483093,-0.06377017746950117,-0.0538054033141714,-0.04384062915884163,-0.03387585500351187,-0.02391108084818211,-0.01394630669285235,-0.003981532537522592,0.005983241617807167,0.015948015773136925,0.025912789928466684,0.03587756408379646,0.04584233823912623,0.05580711239445599,0.06577188654978575,0.0757366607051155,0.08570143486044528,0.09566620901577505,0.10563098317110481,0.11559575732643457,0.12556053148176433],\"y\":[0.045000000000000005,0.045000000000000005,0.045000000000000005,0.045000000000000005,0.315,0.135,0.135,0.18000000000000002,0.405,0.49500000000000005,0.36000000000000004,0.315,0.36000000000000004,0.7200000000000001,0.315,0.9,0.5850000000000001,0.63,0.5850000000000001,0.315,0.675,0.7200000000000001,0.54,0.27,0.49500000000000005,0.09000000000000001,0.405,0.09000000000000001,0.315,0.225],\"type\":\"bar\",\"xaxis\":\"x2\",\"yaxis\":\"y2\"}],                        {\"template\":{\"data\":{\"histogram2dcontour\":[{\"type\":\"histogram2dcontour\",\"colorbar\":{\"outlinewidth\":0,\"ticks\":\"\"},\"colorscale\":[[0.0,\"#0d0887\"],[0.1111111111111111,\"#46039f\"],[0.2222222222222222,\"#7201a8\"],[0.3333333333333333,\"#9c179e\"],[0.4444444444444444,\"#bd3786\"],[0.5555555555555556,\"#d8576b\"],[0.6666666666666666,\"#ed7953\"],[0.7777777777777778,\"#fb9f3a\"],[0.8888888888888888,\"#fdca26\"],[1.0,\"#f0f921\"]]}],\"choropleth\":[{\"type\":\"choropleth\",\"colorbar\":{\"outlinewidth\":0,\"ticks\":\"\"}}],\"histogram2d\":[{\"type\":\"histogram2d\",\"colorbar\":{\"outlinewidth\":0,\"ticks\":\"\"},\"colorscale\":[[0.0,\"#0d0887\"],[0.1111111111111111,\"#46039f\"],[0.2222222222222222,\"#7201a8\"],[0.3333333333333333,\"#9c179e\"],[0.4444444444444444,\"#bd3786\"],[0.5555555555555556,\"#d8576b\"],[0.6666666666666666,\"#ed7953\"],[0.7777777777777778,\"#fb9f3a\"],[0.8888888888888888,\"#fdca26\"],[1.0,\"#f0f921\"]]}],\"heatmap\":[{\"type\":\"heatmap\",\"colorbar\":{\"outlinewidth\":0,\"ticks\":\"\"},\"colorscale\":[[0.0,\"#0d0887\"],[0.1111111111111111,\"#46039f\"],[0.2222222222222222,\"#7201a8\"],[0.3333333333333333,\"#9c179e\"],[0.4444444444444444,\"#bd3786\"],[0.5555555555555556,\"#d8576b\"],[0.6666666666666666,\"#ed7953\"],[0.7777777777777778,\"#fb9f3a\"],[0.8888888888888888,\"#fdca26\"],[1.0,\"#f0f921\"]]}],\"heatmapgl\":[{\"type\":\"heatmapgl\",\"colorbar\":{\"outlinewidth\":0,\"ticks\":\"\"},\"colorscale\":[[0.0,\"#0d0887\"],[0.1111111111111111,\"#46039f\"],[0.2222222222222222,\"#7201a8\"],[0.3333333333333333,\"#9c179e\"],[0.4444444444444444,\"#bd3786\"],[0.5555555555555556,\"#d8576b\"],[0.6666666666666666,\"#ed7953\"],[0.7777777777777778,\"#fb9f3a\"],[0.8888888888888888,\"#fdca26\"],[1.0,\"#f0f921\"]]}],\"contourcarpet\":[{\"type\":\"contourcarpet\",\"colorbar\":{\"outlinewidth\":0,\"ticks\":\"\"}}],\"contour\":[{\"type\":\"contour\",\"colorbar\":{\"outlinewidth\":0,\"ticks\":\"\"},\"colorscale\":[[0.0,\"#0d0887\"],[0.1111111111111111,\"#46039f\"],[0.2222222222222222,\"#7201a8\"],[0.3333333333333333,\"#9c179e\"],[0.4444444444444444,\"#bd3786\"],[0.5555555555555556,\"#d8576b\"],[0.6666666666666666,\"#ed7953\"],[0.7777777777777778,\"#fb9f3a\"],[0.8888888888888888,\"#fdca26\"],[1.0,\"#f0f921\"]]}],\"surface\":[{\"type\":\"surface\",\"colorbar\":{\"outlinewidth\":0,\"ticks\":\"\"},\"colorscale\":[[0.0,\"#0d0887\"],[0.1111111111111111,\"#46039f\"],[0.2222222222222222,\"#7201a8\"],[0.3333333333333333,\"#9c179e\"],[0.4444444444444444,\"#bd3786\"],[0.5555555555555556,\"#d8576b\"],[0.6666666666666666,\"#ed7953\"],[0.7777777777777778,\"#fb9f3a\"],[0.8888888888888888,\"#fdca26\"],[1.0,\"#f0f921\"]]}],\"mesh3d\":[{\"type\":\"mesh3d\",\"colorbar\":{\"outlinewidth\":0,\"ticks\":\"\"}}],\"scatter\":[{\"fillpattern\":{\"fillmode\":\"overlay\",\"size\":10,\"solidity\":0.2},\"type\":\"scatter\"}],\"parcoords\":[{\"type\":\"parcoords\",\"line\":{\"colorbar\":{\"outlinewidth\":0,\"ticks\":\"\"}}}],\"scatterpolargl\":[{\"type\":\"scatterpolargl\",\"marker\":{\"colorbar\":{\"outlinewidth\":0,\"ticks\":\"\"}}}],\"bar\":[{\"error_x\":{\"color\":\"#2a3f5f\"},\"error_y\":{\"color\":\"#2a3f5f\"},\"marker\":{\"line\":{\"color\":\"#E5ECF6\",\"width\":0.5},\"pattern\":{\"fillmode\":\"overlay\",\"size\":10,\"solidity\":0.2}},\"type\":\"bar\"}],\"scattergeo\":[{\"type\":\"scattergeo\",\"marker\":{\"colorbar\":{\"outlinewidth\":0,\"ticks\":\"\"}}}],\"scatterpolar\":[{\"type\":\"scatterpolar\",\"marker\":{\"colorbar\":{\"outlinewidth\":0,\"ticks\":\"\"}}}],\"histogram\":[{\"marker\":{\"pattern\":{\"fillmode\":\"overlay\",\"size\":10,\"solidity\":0.2}},\"type\":\"histogram\"}],\"scattergl\":[{\"type\":\"scattergl\",\"marker\":{\"colorbar\":{\"outlinewidth\":0,\"ticks\":\"\"}}}],\"scatter3d\":[{\"type\":\"scatter3d\",\"line\":{\"colorbar\":{\"outlinewidth\":0,\"ticks\":\"\"}},\"marker\":{\"colorbar\":{\"outlinewidth\":0,\"ticks\":\"\"}}}],\"scattermapbox\":[{\"type\":\"scattermapbox\",\"marker\":{\"colorbar\":{\"outlinewidth\":0,\"ticks\":\"\"}}}],\"scatterternary\":[{\"type\":\"scatterternary\",\"marker\":{\"colorbar\":{\"outlinewidth\":0,\"ticks\":\"\"}}}],\"scattercarpet\":[{\"type\":\"scattercarpet\",\"marker\":{\"colorbar\":{\"outlinewidth\":0,\"ticks\":\"\"}}}],\"carpet\":[{\"aaxis\":{\"endlinecolor\":\"#2a3f5f\",\"gridcolor\":\"white\",\"linecolor\":\"white\",\"minorgridcolor\":\"white\",\"startlinecolor\":\"#2a3f5f\"},\"baxis\":{\"endlinecolor\":\"#2a3f5f\",\"gridcolor\":\"white\",\"linecolor\":\"white\",\"minorgridcolor\":\"white\",\"startlinecolor\":\"#2a3f5f\"},\"type\":\"carpet\"}],\"table\":[{\"cells\":{\"fill\":{\"color\":\"#EBF0F8\"},\"line\":{\"color\":\"white\"}},\"header\":{\"fill\":{\"color\":\"#C8D4E3\"},\"line\":{\"color\":\"white\"}},\"type\":\"table\"}],\"barpolar\":[{\"marker\":{\"line\":{\"color\":\"#E5ECF6\",\"width\":0.5},\"pattern\":{\"fillmode\":\"overlay\",\"size\":10,\"solidity\":0.2}},\"type\":\"barpolar\"}],\"pie\":[{\"automargin\":true,\"type\":\"pie\"}]},\"layout\":{\"autotypenumbers\":\"strict\",\"colorway\":[\"#636efa\",\"#EF553B\",\"#00cc96\",\"#ab63fa\",\"#FFA15A\",\"#19d3f3\",\"#FF6692\",\"#B6E880\",\"#FF97FF\",\"#FECB52\"],\"font\":{\"color\":\"#2a3f5f\"},\"hovermode\":\"closest\",\"hoverlabel\":{\"align\":\"left\"},\"paper_bgcolor\":\"white\",\"plot_bgcolor\":\"#E5ECF6\",\"polar\":{\"bgcolor\":\"#E5ECF6\",\"angularaxis\":{\"gridcolor\":\"white\",\"linecolor\":\"white\",\"ticks\":\"\"},\"radialaxis\":{\"gridcolor\":\"white\",\"linecolor\":\"white\",\"ticks\":\"\"}},\"ternary\":{\"bgcolor\":\"#E5ECF6\",\"aaxis\":{\"gridcolor\":\"white\",\"linecolor\":\"white\",\"ticks\":\"\"},\"baxis\":{\"gridcolor\":\"white\",\"linecolor\":\"white\",\"ticks\":\"\"},\"caxis\":{\"gridcolor\":\"white\",\"linecolor\":\"white\",\"ticks\":\"\"}},\"coloraxis\":{\"colorbar\":{\"outlinewidth\":0,\"ticks\":\"\"}},\"colorscale\":{\"sequential\":[[0.0,\"#0d0887\"],[0.1111111111111111,\"#46039f\"],[0.2222222222222222,\"#7201a8\"],[0.3333333333333333,\"#9c179e\"],[0.4444444444444444,\"#bd3786\"],[0.5555555555555556,\"#d8576b\"],[0.6666666666666666,\"#ed7953\"],[0.7777777777777778,\"#fb9f3a\"],[0.8888888888888888,\"#fdca26\"],[1.0,\"#f0f921\"]],\"sequentialminus\":[[0.0,\"#0d0887\"],[0.1111111111111111,\"#46039f\"],[0.2222222222222222,\"#7201a8\"],[0.3333333333333333,\"#9c179e\"],[0.4444444444444444,\"#bd3786\"],[0.5555555555555556,\"#d8576b\"],[0.6666666666666666,\"#ed7953\"],[0.7777777777777778,\"#fb9f3a\"],[0.8888888888888888,\"#fdca26\"],[1.0,\"#f0f921\"]],\"diverging\":[[0,\"#8e0152\"],[0.1,\"#c51b7d\"],[0.2,\"#de77ae\"],[0.3,\"#f1b6da\"],[0.4,\"#fde0ef\"],[0.5,\"#f7f7f7\"],[0.6,\"#e6f5d0\"],[0.7,\"#b8e186\"],[0.8,\"#7fbc41\"],[0.9,\"#4d9221\"],[1,\"#276419\"]]},\"xaxis\":{\"gridcolor\":\"white\",\"linecolor\":\"white\",\"ticks\":\"\",\"title\":{\"standoff\":15},\"zerolinecolor\":\"white\",\"automargin\":true,\"zerolinewidth\":2},\"yaxis\":{\"gridcolor\":\"white\",\"linecolor\":\"white\",\"ticks\":\"\",\"title\":{\"standoff\":15},\"zerolinecolor\":\"white\",\"automargin\":true,\"zerolinewidth\":2},\"scene\":{\"xaxis\":{\"backgroundcolor\":\"#E5ECF6\",\"gridcolor\":\"white\",\"linecolor\":\"white\",\"showbackground\":true,\"ticks\":\"\",\"zerolinecolor\":\"white\",\"gridwidth\":2},\"yaxis\":{\"backgroundcolor\":\"#E5ECF6\",\"gridcolor\":\"white\",\"linecolor\":\"white\",\"showbackground\":true,\"ticks\":\"\",\"zerolinecolor\":\"white\",\"gridwidth\":2},\"zaxis\":{\"backgroundcolor\":\"#E5ECF6\",\"gridcolor\":\"white\",\"linecolor\":\"white\",\"showbackground\":true,\"ticks\":\"\",\"zerolinecolor\":\"white\",\"gridwidth\":2}},\"shapedefaults\":{\"line\":{\"color\":\"#2a3f5f\"}},\"annotationdefaults\":{\"arrowcolor\":\"#2a3f5f\",\"arrowhead\":0,\"arrowwidth\":1},\"geo\":{\"bgcolor\":\"white\",\"landcolor\":\"#E5ECF6\",\"subunitcolor\":\"white\",\"showland\":true,\"showlakes\":true,\"lakecolor\":\"white\"},\"title\":{\"x\":0.05},\"mapbox\":{\"style\":\"light\"}}},\"xaxis\":{\"anchor\":\"y\",\"domain\":[0.0,1.0],\"range\":[-0.8345544478085486,0.8345544478085486]},\"yaxis\":{\"anchor\":\"x\",\"domain\":[0.55,1.0],\"showticklabels\":false,\"range\":[0,2.5]},\"xaxis2\":{\"anchor\":\"y2\",\"domain\":[0.0,1.0],\"range\":[-0.18524033671051005,0.18524033671051005]},\"yaxis2\":{\"anchor\":\"x2\",\"domain\":[0.0,0.45],\"showticklabels\":false,\"range\":[0,2.5]},\"annotations\":[{\"font\":{\"size\":16},\"showarrow\":false,\"text\":\"PC3 Cosine Similarity\",\"x\":0.5,\"xanchor\":\"center\",\"xref\":\"paper\",\"y\":1.0,\"yanchor\":\"bottom\",\"yref\":\"paper\"},{\"font\":{\"size\":16},\"showarrow\":false,\"text\":\"PC3 Normalized Projection\",\"x\":0.5,\"xanchor\":\"center\",\"xref\":\"paper\",\"y\":0.45,\"yanchor\":\"bottom\",\"yref\":\"paper\"},{\"bgcolor\":\"rgba(255, 255, 255, 0.9)\",\"bordercolor\":\"black\",\"borderwidth\":1,\"font\":{\"color\":\"black\",\"size\":10},\"showarrow\":false,\"text\":\"Empathetic\",\"x\":-0.758685861644135,\"xref\":\"x\",\"y\":1.45,\"yref\":\"y\"},{\"bgcolor\":\"rgba(255, 255, 255, 0.9)\",\"bordercolor\":\"black\",\"borderwidth\":1,\"font\":{\"color\":\"black\",\"size\":10},\"showarrow\":false,\"text\":\"Accommodating\",\"x\":-0.6982688030271413,\"xref\":\"x\",\"y\":0.6,\"yref\":\"y\"},{\"bgcolor\":\"rgba(255, 255, 255, 0.9)\",\"bordercolor\":\"black\",\"borderwidth\":1,\"font\":{\"color\":\"black\",\"size\":10},\"showarrow\":false,\"text\":\"Casual\",\"x\":-0.6867437901806005,\"xref\":\"x\",\"y\":1.9,\"yref\":\"y\"},{\"bgcolor\":\"rgba(255, 255, 255, 0.9)\",\"bordercolor\":\"black\",\"borderwidth\":1,\"font\":{\"color\":\"black\",\"size\":10},\"showarrow\":false,\"text\":\"Improvisational\",\"x\":-0.6822582704847411,\"xref\":\"x\",\"y\":0.15,\"yref\":\"y\"},{\"bgcolor\":\"rgba(255, 255, 255, 0.9)\",\"bordercolor\":\"black\",\"borderwidth\":1,\"font\":{\"color\":\"black\",\"size\":10},\"showarrow\":false,\"text\":\"Chill\",\"x\":-0.6724285745799695,\"xref\":\"x\",\"y\":1.6,\"yref\":\"y\"},{\"bgcolor\":\"rgba(255, 255, 255, 0.9)\",\"bordercolor\":\"black\",\"borderwidth\":1,\"font\":{\"color\":\"black\",\"size\":10},\"showarrow\":false,\"text\":\"Gregarious\",\"x\":-0.6577545106790819,\"xref\":\"x\",\"y\":0.45,\"yref\":\"y\"},{\"bgcolor\":\"rgba(255, 255, 255, 0.9)\",\"bordercolor\":\"black\",\"borderwidth\":1,\"font\":{\"color\":\"black\",\"size\":10},\"showarrow\":false,\"text\":\"Forgiving\",\"x\":-0.6523668206543916,\"xref\":\"x\",\"y\":1.3,\"yref\":\"y\"},{\"bgcolor\":\"rgba(255, 255, 255, 0.9)\",\"bordercolor\":\"black\",\"borderwidth\":1,\"font\":{\"color\":\"black\",\"size\":10},\"showarrow\":false,\"text\":\"Emotional\",\"x\":-0.6036279256829348,\"xref\":\"x\",\"y\":0.75,\"yref\":\"y\"},{\"bgcolor\":\"rgba(255, 255, 255, 0.9)\",\"bordercolor\":\"black\",\"borderwidth\":1,\"font\":{\"color\":\"black\",\"size\":10},\"showarrow\":false,\"text\":\"Optimistic\",\"x\":-0.6019101797850197,\"xref\":\"x\",\"y\":1.75,\"yref\":\"y\"},{\"bgcolor\":\"rgba(255, 255, 255, 0.9)\",\"bordercolor\":\"black\",\"borderwidth\":1,\"font\":{\"color\":\"black\",\"size\":10},\"showarrow\":false,\"text\":\"Accessible\",\"x\":-0.5680603446451626,\"xref\":\"x\",\"y\":0.3,\"yref\":\"y\"},{\"bgcolor\":\"rgba(255, 255, 255, 0.9)\",\"bordercolor\":\"black\",\"borderwidth\":1,\"font\":{\"color\":\"black\",\"size\":10},\"showarrow\":false,\"text\":\"Callous\",\"x\":0.5132338643287503,\"xref\":\"x\",\"y\":1.45,\"yref\":\"y\"},{\"bgcolor\":\"rgba(255, 255, 255, 0.9)\",\"bordercolor\":\"black\",\"borderwidth\":1,\"font\":{\"color\":\"black\",\"size\":10},\"showarrow\":false,\"text\":\"Perfectionist\",\"x\":0.5186731907135973,\"xref\":\"x\",\"y\":0.6,\"yref\":\"y\"},{\"bgcolor\":\"rgba(255, 255, 255, 0.9)\",\"bordercolor\":\"black\",\"borderwidth\":1,\"font\":{\"color\":\"black\",\"size\":10},\"showarrow\":false,\"text\":\"Melancholic\",\"x\":0.5250989642158564,\"xref\":\"x\",\"y\":1.9,\"yref\":\"y\"},{\"bgcolor\":\"rgba(255, 255, 255, 0.9)\",\"bordercolor\":\"black\",\"borderwidth\":1,\"font\":{\"color\":\"black\",\"size\":10},\"showarrow\":false,\"text\":\"Acerbic\",\"x\":0.5356283191878192,\"xref\":\"x\",\"y\":0.15,\"yref\":\"y\"},{\"bgcolor\":\"rgba(255, 255, 255, 0.9)\",\"bordercolor\":\"black\",\"borderwidth\":1,\"font\":{\"color\":\"black\",\"size\":10},\"showarrow\":false,\"text\":\"Confrontational\",\"x\":0.5597078445440977,\"xref\":\"x\",\"y\":1.6,\"yref\":\"y\"},{\"bgcolor\":\"rgba(255, 255, 255, 0.9)\",\"bordercolor\":\"black\",\"borderwidth\":1,\"font\":{\"color\":\"black\",\"size\":10},\"showarrow\":false,\"text\":\"Esoteric\",\"x\":0.5635137830626804,\"xref\":\"x\",\"y\":0.45,\"yref\":\"y\"},{\"bgcolor\":\"rgba(255, 255, 255, 0.9)\",\"bordercolor\":\"black\",\"borderwidth\":1,\"font\":{\"color\":\"black\",\"size\":10},\"showarrow\":false,\"text\":\"Arrogant\",\"x\":0.5744649798904864,\"xref\":\"x\",\"y\":1.3,\"yref\":\"y\"},{\"bgcolor\":\"rgba(255, 255, 255, 0.9)\",\"bordercolor\":\"black\",\"borderwidth\":1,\"font\":{\"color\":\"black\",\"size\":10},\"showarrow\":false,\"text\":\"Technical\",\"x\":0.5902677465343632,\"xref\":\"x\",\"y\":0.75,\"yref\":\"y\"},{\"bgcolor\":\"rgba(255, 255, 255, 0.9)\",\"bordercolor\":\"black\",\"borderwidth\":1,\"font\":{\"color\":\"black\",\"size\":10},\"showarrow\":false,\"text\":\"Erudite\",\"x\":0.5975939087499686,\"xref\":\"x\",\"y\":1.75,\"yref\":\"y\"},{\"bgcolor\":\"rgba(255, 255, 255, 0.9)\",\"bordercolor\":\"black\",\"borderwidth\":1,\"font\":{\"color\":\"black\",\"size\":10},\"showarrow\":false,\"text\":\"Specialized\",\"x\":0.606212701168514,\"xref\":\"x\",\"y\":0.3,\"yref\":\"y\"},{\"bgcolor\":\"rgba(255, 255, 255, 0.9)\",\"bordercolor\":\"red\",\"borderwidth\":1,\"font\":{\"color\":\"red\",\"size\":14},\"showarrow\":false,\"text\":\"Assistant\",\"x\":-0.09976295618672906,\"xref\":\"x\",\"y\":2,\"yref\":\"y\"},{\"bgcolor\":\"rgba(255, 255, 255, 0.9)\",\"bordercolor\":\"black\",\"borderwidth\":1,\"font\":{\"color\":\"black\",\"size\":10},\"showarrow\":false,\"text\":\"Chill\",\"x\":-0.16840030610046366,\"xref\":\"x2\",\"y\":1.45,\"yref\":\"y2\"},{\"bgcolor\":\"rgba(255, 255, 255, 0.9)\",\"bordercolor\":\"black\",\"borderwidth\":1,\"font\":{\"color\":\"black\",\"size\":10},\"showarrow\":false,\"text\":\"Casual\",\"x\":-0.15651923383702987,\"xref\":\"x2\",\"y\":0.6,\"yref\":\"y2\"},{\"bgcolor\":\"rgba(255, 255, 255, 0.9)\",\"bordercolor\":\"black\",\"borderwidth\":1,\"font\":{\"color\":\"black\",\"size\":10},\"showarrow\":false,\"text\":\"Accessible\",\"x\":-0.14246770962933525,\"xref\":\"x2\",\"y\":1.9,\"yref\":\"y2\"},{\"bgcolor\":\"rgba(255, 255, 255, 0.9)\",\"bordercolor\":\"black\",\"borderwidth\":1,\"font\":{\"color\":\"black\",\"size\":10},\"showarrow\":false,\"text\":\"Naive\",\"x\":-0.13551550883165997,\"xref\":\"x2\",\"y\":0.15,\"yref\":\"y2\"},{\"bgcolor\":\"rgba(255, 255, 255, 0.9)\",\"bordercolor\":\"black\",\"borderwidth\":1,\"font\":{\"color\":\"black\",\"size\":10},\"showarrow\":false,\"text\":\"Reactive\",\"x\":-0.1253905484051735,\"xref\":\"x2\",\"y\":1.6,\"yref\":\"y2\"},{\"bgcolor\":\"rgba(255, 255, 255, 0.9)\",\"bordercolor\":\"black\",\"borderwidth\":1,\"font\":{\"color\":\"black\",\"size\":10},\"showarrow\":false,\"text\":\"Submissive\",\"x\":-0.12374715510968677,\"xref\":\"x2\",\"y\":0.45,\"yref\":\"y2\"},{\"bgcolor\":\"rgba(255, 255, 255, 0.9)\",\"bordercolor\":\"black\",\"borderwidth\":1,\"font\":{\"color\":\"black\",\"size\":10},\"showarrow\":false,\"text\":\"Empathetic\",\"x\":-0.12226533949420476,\"xref\":\"x2\",\"y\":1.3,\"yref\":\"y2\"},{\"bgcolor\":\"rgba(255, 255, 255, 0.9)\",\"bordercolor\":\"black\",\"borderwidth\":1,\"font\":{\"color\":\"black\",\"size\":10},\"showarrow\":false,\"text\":\"Nurturing\",\"x\":-0.120155785384991,\"xref\":\"x2\",\"y\":0.75,\"yref\":\"y2\"},{\"bgcolor\":\"rgba(255, 255, 255, 0.9)\",\"bordercolor\":\"black\",\"borderwidth\":1,\"font\":{\"color\":\"black\",\"size\":10},\"showarrow\":false,\"text\":\"Optimistic\",\"x\":-0.1198382979524124,\"xref\":\"x2\",\"y\":1.75,\"yref\":\"y2\"},{\"bgcolor\":\"rgba(255, 255, 255, 0.9)\",\"bordercolor\":\"black\",\"borderwidth\":1,\"font\":{\"color\":\"black\",\"size\":10},\"showarrow\":false,\"text\":\"Gregarious\",\"x\":-0.11971752861829178,\"xref\":\"x2\",\"y\":0.3,\"yref\":\"y2\"},{\"bgcolor\":\"rgba(255, 255, 255, 0.9)\",\"bordercolor\":\"black\",\"borderwidth\":1,\"font\":{\"color\":\"black\",\"size\":10},\"showarrow\":false,\"text\":\"Specialized\",\"x\":0.11497016254174458,\"xref\":\"x2\",\"y\":1.45,\"yref\":\"y2\"},{\"bgcolor\":\"rgba(255, 255, 255, 0.9)\",\"bordercolor\":\"black\",\"borderwidth\":1,\"font\":{\"color\":\"black\",\"size\":10},\"showarrow\":false,\"text\":\"Meticulous\",\"x\":0.11674415624134679,\"xref\":\"x2\",\"y\":0.6,\"yref\":\"y2\"},{\"bgcolor\":\"rgba(255, 255, 255, 0.9)\",\"bordercolor\":\"black\",\"borderwidth\":1,\"font\":{\"color\":\"black\",\"size\":10},\"showarrow\":false,\"text\":\"Cruel\",\"x\":0.11775489567294464,\"xref\":\"x2\",\"y\":1.9,\"yref\":\"y2\"},{\"bgcolor\":\"rgba(255, 255, 255, 0.9)\",\"bordercolor\":\"black\",\"borderwidth\":1,\"font\":{\"color\":\"black\",\"size\":10},\"showarrow\":false,\"text\":\"Melancholic\",\"x\":0.11886124868833144,\"xref\":\"x2\",\"y\":0.15,\"yref\":\"y2\"},{\"bgcolor\":\"rgba(255, 255, 255, 0.9)\",\"bordercolor\":\"black\",\"borderwidth\":1,\"font\":{\"color\":\"black\",\"size\":10},\"showarrow\":false,\"text\":\"Acerbic\",\"x\":0.11901289515486214,\"xref\":\"x2\",\"y\":1.6,\"yref\":\"y2\"},{\"bgcolor\":\"rgba(255, 255, 255, 0.9)\",\"bordercolor\":\"black\",\"borderwidth\":1,\"font\":{\"color\":\"black\",\"size\":10},\"showarrow\":false,\"text\":\"Technical\",\"x\":0.1224575222997663,\"xref\":\"x2\",\"y\":0.45,\"yref\":\"y2\"},{\"bgcolor\":\"rgba(255, 255, 255, 0.9)\",\"bordercolor\":\"black\",\"borderwidth\":1,\"font\":{\"color\":\"black\",\"size\":10},\"showarrow\":false,\"text\":\"Callous\",\"x\":0.12433902431699408,\"xref\":\"x2\",\"y\":1.3,\"yref\":\"y2\"},{\"bgcolor\":\"rgba(255, 255, 255, 0.9)\",\"bordercolor\":\"black\",\"borderwidth\":1,\"font\":{\"color\":\"black\",\"size\":10},\"showarrow\":false,\"text\":\"Bombastic\",\"x\":0.12928590696172373,\"xref\":\"x2\",\"y\":0.75,\"yref\":\"y2\"},{\"bgcolor\":\"rgba(255, 255, 255, 0.9)\",\"bordercolor\":\"black\",\"borderwidth\":1,\"font\":{\"color\":\"black\",\"size\":10},\"showarrow\":false,\"text\":\"Erudite\",\"x\":0.13008137826101568,\"xref\":\"x2\",\"y\":1.75,\"yref\":\"y2\"},{\"bgcolor\":\"rgba(255, 255, 255, 0.9)\",\"bordercolor\":\"black\",\"borderwidth\":1,\"font\":{\"color\":\"black\",\"size\":10},\"showarrow\":false,\"text\":\"Esoteric\",\"x\":0.1305429185594292,\"xref\":\"x2\",\"y\":0.3,\"yref\":\"y2\"},{\"bgcolor\":\"rgba(255, 255, 255, 0.9)\",\"bordercolor\":\"red\",\"borderwidth\":1,\"font\":{\"color\":\"red\",\"size\":14},\"showarrow\":false,\"text\":\"Assistant\",\"x\":-0.03408607433379981,\"xref\":\"x2\",\"y\":2,\"yref\":\"y2\"}],\"shapes\":[{\"line\":{\"color\":\"gray\",\"dash\":\"solid\",\"width\":1},\"opacity\":0.7,\"type\":\"line\",\"x0\":0,\"x1\":0,\"xref\":\"x\",\"y0\":0,\"y1\":1,\"yref\":\"y domain\"},{\"line\":{\"color\":\"red\",\"dash\":\"dash\",\"width\":1},\"opacity\":1.0,\"type\":\"line\",\"x0\":-0.09976295618672906,\"x1\":-0.09976295618672906,\"xref\":\"x\",\"y0\":0,\"y1\":1,\"yref\":\"y domain\"},{\"line\":{\"color\":\"gray\",\"dash\":\"solid\",\"width\":1},\"opacity\":0.7,\"type\":\"line\",\"x0\":0,\"x1\":0,\"xref\":\"x2\",\"y0\":0,\"y1\":1,\"yref\":\"y2 domain\"},{\"line\":{\"color\":\"red\",\"dash\":\"dash\",\"width\":1},\"opacity\":1.0,\"type\":\"line\",\"x0\":-0.03408607433379981,\"x1\":-0.03408607433379981,\"xref\":\"x2\",\"y0\":0,\"y1\":1,\"yref\":\"y2 domain\"}],\"title\":{\"subtitle\":{\"text\":\"Gemma 2 27B Base, Layer 22 - Shared Question Set, Mean-Centered and Scaled Vectors\"},\"font\":{\"size\":16},\"text\":\"PCA on Trait Vectors\",\"x\":0.5},\"height\":800,\"width\":1200,\"showlegend\":false},                        {\"responsive\": true}                    ).then(function(){\n",
       "                            \n",
       "var gd = document.getElementById('cbe6e485-83e3-45af-a9a0-0130183800e7');\n",
       "var x = new MutationObserver(function (mutations, observer) {{\n",
       "        var display = window.getComputedStyle(gd).display;\n",
       "        if (!display || display === 'none') {{\n",
       "            console.log([gd, 'removed!']);\n",
       "            Plotly.purge(gd);\n",
       "            observer.disconnect();\n",
       "        }}\n",
       "}});\n",
       "\n",
       "// Listen for the removal of the full notebook cells\n",
       "var notebookContainer = gd.closest('#notebook-container');\n",
       "if (notebookContainer) {{\n",
       "    x.observe(notebookContainer, {childList: true});\n",
       "}}\n",
       "\n",
       "// Listen for the clearing of the current output cell\n",
       "var outputEl = gd.closest('.output');\n",
       "if (outputEl) {{\n",
       "    x.observe(outputEl, {childList: true});\n",
       "}}\n",
       "\n",
       "                        })                };                });            </script>        </div>"
      ]
     },
     "metadata": {},
     "output_type": "display_data"
    },
    {
     "data": {
      "application/vnd.plotly.v1+json": {
       "config": {
        "plotlyServerURL": "https://plot.ly"
       },
       "data": [
        {
         "hovertemplate": "<b>%{text}</b><br>Cosine Similarity: %{x:.3f}<extra></extra>",
         "marker": {
          "color": "limegreen",
          "line": {
           "color": "black",
           "width": 1
          },
          "opacity": 1,
          "size": 8,
          "symbol": "diamond"
         },
         "mode": "markers",
         "showlegend": false,
         "text": [
          "Zealous",
          "Wry",
          "Witty",
          "Whimsical",
          "Visceral",
          "Verbose",
          "Utilitarian",
          "Urgent",
          "Universalist",
          "Understated",
          "Traditional",
          "Theoretical",
          "Theatrical",
          "Temperamental",
          "Technical",
          "Tactful",
          "Systems thinker",
          "Sycophantic",
          "Supportive",
          "Subversive",
          "Submissive",
          "Structuralist",
          "Stream of consciousness",
          "Strategic",
          "Stoic",
          "Spontaneous",
          "Speculative",
          "Specialized",
          "Socratic",
          "Skeptical",
          "Serious",
          "Secular",
          "Savage",
          "Sardonic",
          "Sarcastic",
          "Ritualistic",
          "Risk taking",
          "Rhetorical",
          "Resilient",
          "Reserved",
          "Relativist",
          "Regulatory",
          "Reductionist",
          "Rebellious",
          "Reactive",
          "Rationalist",
          "Radical",
          "Quantitative",
          "Qualitative",
          "Provocative",
          "Progressive",
          "Principled",
          "Prescriptive",
          "Practical",
          "Poetic",
          "Pluralist",
          "Playful",
          "Philosophical",
          "Petty",
          "Pessimistic",
          "Perfectionist",
          "Pensive",
          "Pedantic",
          "Patient",
          "Passive aggressive",
          "Passionate",
          "Paranoid",
          "Paradoxical",
          "Pacifist",
          "Optimistic",
          "Open ended",
          "Obsessive",
          "Nurturing",
          "Nostalgic",
          "Nonchalant",
          "Nihilistic",
          "Neurotic",
          "Narrative",
          "Naive",
          "Moderate",
          "Mischievous",
          "Misanthropic",
          "Militant",
          "Meticulous",
          "Methodical",
          "Metaphorical",
          "Mercurial",
          "Melodramatic",
          "Melancholic",
          "Meditative",
          "Materialist",
          "Manipulative",
          "Manic",
          "Literal",
          "Libertarian",
          "Judgmental",
          "Ironic",
          "Intuitive",
          "Introverted",
          "Introspective",
          "Interdisciplinary",
          "Inspirational",
          "Inquisitive",
          "Innovative",
          "Individualistic",
          "Independent",
          "Inclusive",
          "Impulsive",
          "Improvisational",
          "Impatient",
          "Iconoclastic",
          "Humble",
          "Humanistic",
          "Hostile",
          "Holistic",
          "Historical",
          "Hedonistic",
          "Gregarious",
          "Grandiose",
          "Goofy",
          "Generous",
          "Generalist",
          "Futuristic",
          "Fundamentalist",
          "Formalist",
          "Formal",
          "Forgiving",
          "Flirty",
          "Flippant",
          "Flexible",
          "Fatalistic",
          "Factual",
          "Extroverted",
          "Experiential",
          "Existentialist",
          "Evil",
          "Essentialist",
          "Esoteric",
          "Erudite",
          "Epicurean",
          "Environmental",
          "Entertaining",
          "Empathetic",
          "Emotional",
          "Eloquent",
          "Elitist",
          "Egalitarian",
          "Effusive",
          "Efficient",
          "Educational",
          "Edgy",
          "Eclectic",
          "Earnest",
          "Dramatic",
          "Dominant",
          "Dogmatic",
          "Dispassionate",
          "Disorganized",
          "Diplomatic",
          "Deterministic",
          "Detached",
          "Descriptive",
          "Deontological",
          "Deferential",
          "Deconstructionist",
          "Decisive",
          "Data driven",
          "Cynical",
          "Curious",
          "Cruel",
          "Critical",
          "Creative",
          "Cosmopolitan",
          "Convergent",
          "Contrarian",
          "Contemporary",
          "Constructivist",
          "Conscientious",
          "Confrontational",
          "Confident",
          "Condescending",
          "Concise",
          "Conciliatory",
          "Conceptual",
          "Competitive",
          "Collectivistic",
          "Collaborative",
          "Closure seeking",
          "Circumspect",
          "Chill",
          "Charismatic",
          "Chaotic",
          "Challenging",
          "Cautious",
          "Casual",
          "Calm",
          "Callous",
          "Calculating",
          "Bombastic",
          "Blunt",
          "Bitter",
          "Big picture",
          "Benevolent",
          "Avoidant",
          "Assertive",
          "Ascetic",
          "Artistic",
          "Arrogant",
          "Anxious",
          "Anthropocentric",
          "Animated",
          "Altruistic",
          "Agreeable",
          "Adventurous",
          "Acerbic",
          "Accommodating",
          "Accessible",
          "Abstract",
          "Absolutist"
         ],
         "type": "scatter",
         "x": [
          0.19029502901447792,
          -0.3759767681149137,
          -0.3891529535108598,
          0.11454810646600423,
          0.02177634827229538,
          -0.38915140234299156,
          -0.2381883669806597,
          -0.13088800718267282,
          0.16964362052652202,
          0.030940337936425946,
          0.20671555419016177,
          0.30899943407669117,
          0.07079943289800078,
          -0.2983848686663949,
          -0.11785229372455049,
          0.15002385568876395,
          -0.1633178876558796,
          0.17030648674308388,
          -0.06325405994026712,
          -0.11668667324894612,
          0.21623041170572818,
          -0.23358609627153257,
          -0.012915691739634472,
          -0.2425290552188386,
          0.13939157515468492,
          0.05737867128846175,
          -0.15085158364064097,
          -0.13686940786692983,
          -0.005900729417693433,
          -0.3809296851568752,
          0.38385040327530867,
          -0.20722322064948354,
          -0.1454465995261463,
          -0.3235138826129481,
          -0.29152994316276637,
          0.4686626310226654,
          -0.030478251738457904,
          0.2603123983247133,
          0.18131421507785228,
          0.17207352538051135,
          0.11483000838373178,
          0.13516241188970884,
          -0.3228126382402593,
          -0.1918091865373864,
          0.111521968832899,
          -0.2423834748501964,
          0.06862224435756213,
          -0.3932632763554161,
          0.4130979881640037,
          -0.13276886290453982,
          -0.20448083702900746,
          0.1475356678358476,
          -0.1722100702660564,
          -0.2825234088907022,
          0.2771963465089822,
          -0.2298265399221919,
          -0.14112611447886955,
          0.14797017309622598,
          -0.11648032496282089,
          -0.23631362186879257,
          0.017703695522056574,
          -0.04633892460210782,
          -0.12334901878109183,
          0.12678395494813374,
          -0.17229737263026604,
          -0.015737733832989112,
          0.05078384290383344,
          0.24329570246057539,
          0.3403529293039417,
          0.21006008574306073,
          -0.13434899601178127,
          0.1718765921259648,
          0.04422509024995234,
          0.4199964422369933,
          -0.18788776937922866,
          0.11006598959954819,
          -0.28646925725436656,
          0.1580042969335552,
          0.12886745610420314,
          -0.06303156129042374,
          -0.22369789856450933,
          0.05090173989243826,
          0.028064621763398908,
          -0.09779767561893414,
          -0.1114325656813617,
          0.2312309957422111,
          -0.17819269773075522,
          0.18412824622425544,
          0.05598335944870227,
          0.4364986513375577,
          -0.12880721117776836,
          0.08893197717261306,
          -0.22859109491269314,
          0.2132089757034653,
          0.3468591519900474,
          -0.13406068923040343,
          -0.2485656658991568,
          0.10253021800023611,
          0.36527903785634125,
          -0.33150083876835035,
          -0.23354738861006283,
          0.25820296888188793,
          -0.23710931506586033,
          -0.18115013637591004,
          -0.10384094467993825,
          0.114931952783158,
          -0.3648326563626992,
          0.20666011717429167,
          0.04952824202361515,
          -0.01772895645192798,
          -0.14665496602491535,
          -0.29706046000481084,
          0.0613315461118388,
          -0.22502358271926715,
          -0.22185365189955536,
          -0.017563582061201764,
          -0.08441654802522155,
          -0.26345609809518084,
          0.34590290927592104,
          -0.23707402222497123,
          -0.30913098323321214,
          -0.21225270792463102,
          -0.05658632631420354,
          0.4029253052262507,
          -0.009579480783810044,
          0.341122489362561,
          0.21724532232195987,
          0.048834776523756916,
          -0.30819814028749215,
          -0.2381946508937845,
          0.3654809936028516,
          -0.12394098588479177,
          -0.30049512026770075,
          -0.38894865554293145,
          -0.11523881512808196,
          -0.04030512049390103,
          0.4201704523906946,
          0.33449671744905296,
          0.05487474966970342,
          0.33878057760786695,
          0.16474655242654251,
          -0.2829502326605933,
          -0.08997759215767503,
          -0.005170050926431053,
          0.30866864516079906,
          0.2330125569646571,
          -0.11061412166038632,
          -0.19052389010924137,
          0.27416942384217174,
          -0.35699418984392123,
          -0.32872512157452854,
          -0.09359712464726105,
          0.35286104211302816,
          0.25727742603872644,
          -0.10639116467505688,
          0.30334445725177195,
          0.04544244510199806,
          -0.05615087257679245,
          0.05476673315844714,
          0.24020460031722562,
          -0.038370565491165305,
          -0.035441132939240665,
          0.12169225872829446,
          0.0030315111369975927,
          -0.2853886538952289,
          0.1847517494611975,
          -0.24082105877567564,
          -0.21803757092043452,
          -0.16472663345802718,
          -0.12210275546541866,
          -0.26832334885670556,
          -0.06111030311482893,
          -0.04607729800231817,
          0.018631795664358672,
          -0.23143156688478336,
          -0.3883826070093717,
          -0.055917112574942224,
          0.11623321014210787,
          -0.15169115605106165,
          0.41303219628346793,
          -0.07028303423023613,
          0.3876648503817041,
          0.029405236897226954,
          0.4843273205097673,
          -0.003104036038622458,
          0.1671590387982755,
          -0.11976363325789535,
          0.23328072513653608,
          -0.19198308595339586,
          0.04800299040491116,
          -0.1722013472739276,
          -0.23287593628328648,
          -0.3091987842188533,
          -0.33158180632274414,
          -0.3512609363151457,
          0.21218183437153523,
          -0.048771525436905945,
          -0.07214428828007662,
          0.30133697993649367,
          -0.0807410288135711,
          -0.17445132921365294,
          0.2994336292757072,
          0.0669163466340023,
          0.21336219055948133,
          0.18830927296142666,
          0.3052224414565277,
          0.32341069011170676,
          0.06312843940771828,
          -0.3171726613740344,
          0.1407069336607022,
          -0.28189830626753853,
          0.182890450890896,
          0.10405331995525645,
          -0.03101405118040082,
          -0.31210620074668405,
          -0.07603786937911025,
          -0.27973778000300886,
          0.4140340793550877,
          0.3682966289585166
         ],
         "xaxis": "x",
         "y": [
          1,
          1,
          1,
          1,
          1,
          1,
          1,
          1,
          1,
          1,
          1,
          1,
          1,
          1,
          1,
          1,
          1,
          1,
          1,
          1,
          1,
          1,
          1,
          1,
          1,
          1,
          1,
          1,
          1,
          1,
          1,
          1,
          1,
          1,
          1,
          1,
          1,
          1,
          1,
          1,
          1,
          1,
          1,
          1,
          1,
          1,
          1,
          1,
          1,
          1,
          1,
          1,
          1,
          1,
          1,
          1,
          1,
          1,
          1,
          1,
          1,
          1,
          1,
          1,
          1,
          1,
          1,
          1,
          1,
          1,
          1,
          1,
          1,
          1,
          1,
          1,
          1,
          1,
          1,
          1,
          1,
          1,
          1,
          1,
          1,
          1,
          1,
          1,
          1,
          1,
          1,
          1,
          1,
          1,
          1,
          1,
          1,
          1,
          1,
          1,
          1,
          1,
          1,
          1,
          1,
          1,
          1,
          1,
          1,
          1,
          1,
          1,
          1,
          1,
          1,
          1,
          1,
          1,
          1,
          1,
          1,
          1,
          1,
          1,
          1,
          1,
          1,
          1,
          1,
          1,
          1,
          1,
          1,
          1,
          1,
          1,
          1,
          1,
          1,
          1,
          1,
          1,
          1,
          1,
          1,
          1,
          1,
          1,
          1,
          1,
          1,
          1,
          1,
          1,
          1,
          1,
          1,
          1,
          1,
          1,
          1,
          1,
          1,
          1,
          1,
          1,
          1,
          1,
          1,
          1,
          1,
          1,
          1,
          1,
          1,
          1,
          1,
          1,
          1,
          1,
          1,
          1,
          1,
          1,
          1,
          1,
          1,
          1,
          1,
          1,
          1,
          1,
          1,
          1,
          1,
          1,
          1,
          1,
          1,
          1,
          1,
          1,
          1,
          1,
          1,
          1,
          1,
          1,
          1,
          1,
          1,
          1,
          1,
          1,
          1,
          1,
          1,
          1,
          1
         ],
         "yaxis": "y"
        },
        {
         "hovertemplate": "<b>%{text}</b><br>Cosine Similarity: %{x:.3f}<extra></extra>",
         "marker": {
          "color": "limegreen",
          "line": {
           "color": "black",
           "width": 1
          },
          "opacity": 1,
          "size": 8,
          "symbol": "diamond"
         },
         "mode": "markers",
         "showlegend": false,
         "text": [
          "Transparent",
          "Spiritual",
          "Solemn",
          "Serene",
          "Sassy",
          "Romantic",
          "Reverent",
          "Problem solving",
          "Proactive",
          "Mystical",
          "Irreverent",
          "Idealistic",
          "Grounded",
          "Exploratory",
          "Ethereal",
          "Enigmatic",
          "Divergent",
          "Cryptic",
          "Analytical",
          "Adaptable"
         ],
         "type": "scatter",
         "x": [
          -0.44073915162857924,
          0.6434624629460862,
          0.5019139671503687,
          0.49876544205147444,
          -0.4181378656972793,
          0.5370611253691404,
          0.7078484846215535,
          -0.4675180168106067,
          -0.42979408609452435,
          0.6376822735215009,
          -0.4520188362456697,
          0.5692625651542468,
          -0.4358144743350595,
          -0.49702392713023746,
          0.5563514522449318,
          0.48555205488874353,
          -0.48488815462574,
          0.5246243908043747,
          -0.40164326669209977,
          -0.40885643033514907
         ],
         "xaxis": "x",
         "y": [
          1,
          1,
          1,
          1,
          1,
          1,
          1,
          1,
          1,
          1,
          1,
          1,
          1,
          1,
          1,
          1,
          1,
          1,
          1,
          1
         ],
         "yaxis": "y"
        },
        {
         "hoverinfo": "skip",
         "line": {
          "color": "black",
          "width": 1
         },
         "mode": "lines",
         "showlegend": false,
         "type": "scatter",
         "x": [
          -0.49702392713023746,
          -0.49702392713023746
         ],
         "xaxis": "x",
         "y": [
          1,
          1.45
         ],
         "yaxis": "y"
        },
        {
         "hoverinfo": "skip",
         "line": {
          "color": "black",
          "width": 1
         },
         "mode": "lines",
         "showlegend": false,
         "type": "scatter",
         "x": [
          -0.48488815462574,
          -0.48488815462574
         ],
         "xaxis": "x",
         "y": [
          1,
          0.6
         ],
         "yaxis": "y"
        },
        {
         "hoverinfo": "skip",
         "line": {
          "color": "black",
          "width": 1
         },
         "mode": "lines",
         "showlegend": false,
         "type": "scatter",
         "x": [
          -0.4675180168106067,
          -0.4675180168106067
         ],
         "xaxis": "x",
         "y": [
          1,
          1.9
         ],
         "yaxis": "y"
        },
        {
         "hoverinfo": "skip",
         "line": {
          "color": "black",
          "width": 1
         },
         "mode": "lines",
         "showlegend": false,
         "type": "scatter",
         "x": [
          -0.4520188362456697,
          -0.4520188362456697
         ],
         "xaxis": "x",
         "y": [
          1,
          0.15
         ],
         "yaxis": "y"
        },
        {
         "hoverinfo": "skip",
         "line": {
          "color": "black",
          "width": 1
         },
         "mode": "lines",
         "showlegend": false,
         "type": "scatter",
         "x": [
          -0.44073915162857924,
          -0.44073915162857924
         ],
         "xaxis": "x",
         "y": [
          1,
          1.6
         ],
         "yaxis": "y"
        },
        {
         "hoverinfo": "skip",
         "line": {
          "color": "black",
          "width": 1
         },
         "mode": "lines",
         "showlegend": false,
         "type": "scatter",
         "x": [
          -0.4358144743350595,
          -0.4358144743350595
         ],
         "xaxis": "x",
         "y": [
          1,
          0.45
         ],
         "yaxis": "y"
        },
        {
         "hoverinfo": "skip",
         "line": {
          "color": "black",
          "width": 1
         },
         "mode": "lines",
         "showlegend": false,
         "type": "scatter",
         "x": [
          -0.42979408609452435,
          -0.42979408609452435
         ],
         "xaxis": "x",
         "y": [
          1,
          1.3
         ],
         "yaxis": "y"
        },
        {
         "hoverinfo": "skip",
         "line": {
          "color": "black",
          "width": 1
         },
         "mode": "lines",
         "showlegend": false,
         "type": "scatter",
         "x": [
          -0.4181378656972793,
          -0.4181378656972793
         ],
         "xaxis": "x",
         "y": [
          1,
          0.75
         ],
         "yaxis": "y"
        },
        {
         "hoverinfo": "skip",
         "line": {
          "color": "black",
          "width": 1
         },
         "mode": "lines",
         "showlegend": false,
         "type": "scatter",
         "x": [
          -0.40885643033514907,
          -0.40885643033514907
         ],
         "xaxis": "x",
         "y": [
          1,
          1.75
         ],
         "yaxis": "y"
        },
        {
         "hoverinfo": "skip",
         "line": {
          "color": "black",
          "width": 1
         },
         "mode": "lines",
         "showlegend": false,
         "type": "scatter",
         "x": [
          -0.40164326669209977,
          -0.40164326669209977
         ],
         "xaxis": "x",
         "y": [
          1,
          0.3
         ],
         "yaxis": "y"
        },
        {
         "hoverinfo": "skip",
         "line": {
          "color": "black",
          "width": 1
         },
         "mode": "lines",
         "showlegend": false,
         "type": "scatter",
         "x": [
          0.48555205488874353,
          0.48555205488874353
         ],
         "xaxis": "x",
         "y": [
          1,
          1.45
         ],
         "yaxis": "y"
        },
        {
         "hoverinfo": "skip",
         "line": {
          "color": "black",
          "width": 1
         },
         "mode": "lines",
         "showlegend": false,
         "type": "scatter",
         "x": [
          0.49876544205147444,
          0.49876544205147444
         ],
         "xaxis": "x",
         "y": [
          1,
          0.6
         ],
         "yaxis": "y"
        },
        {
         "hoverinfo": "skip",
         "line": {
          "color": "black",
          "width": 1
         },
         "mode": "lines",
         "showlegend": false,
         "type": "scatter",
         "x": [
          0.5019139671503687,
          0.5019139671503687
         ],
         "xaxis": "x",
         "y": [
          1,
          1.9
         ],
         "yaxis": "y"
        },
        {
         "hoverinfo": "skip",
         "line": {
          "color": "black",
          "width": 1
         },
         "mode": "lines",
         "showlegend": false,
         "type": "scatter",
         "x": [
          0.5246243908043747,
          0.5246243908043747
         ],
         "xaxis": "x",
         "y": [
          1,
          0.15
         ],
         "yaxis": "y"
        },
        {
         "hoverinfo": "skip",
         "line": {
          "color": "black",
          "width": 1
         },
         "mode": "lines",
         "showlegend": false,
         "type": "scatter",
         "x": [
          0.5370611253691404,
          0.5370611253691404
         ],
         "xaxis": "x",
         "y": [
          1,
          1.6
         ],
         "yaxis": "y"
        },
        {
         "hoverinfo": "skip",
         "line": {
          "color": "black",
          "width": 1
         },
         "mode": "lines",
         "showlegend": false,
         "type": "scatter",
         "x": [
          0.5563514522449318,
          0.5563514522449318
         ],
         "xaxis": "x",
         "y": [
          1,
          0.45
         ],
         "yaxis": "y"
        },
        {
         "hoverinfo": "skip",
         "line": {
          "color": "black",
          "width": 1
         },
         "mode": "lines",
         "showlegend": false,
         "type": "scatter",
         "x": [
          0.5692625651542468,
          0.5692625651542468
         ],
         "xaxis": "x",
         "y": [
          1,
          1.3
         ],
         "yaxis": "y"
        },
        {
         "hoverinfo": "skip",
         "line": {
          "color": "black",
          "width": 1
         },
         "mode": "lines",
         "showlegend": false,
         "type": "scatter",
         "x": [
          0.6376822735215009,
          0.6376822735215009
         ],
         "xaxis": "x",
         "y": [
          1,
          0.75
         ],
         "yaxis": "y"
        },
        {
         "hoverinfo": "skip",
         "line": {
          "color": "black",
          "width": 1
         },
         "mode": "lines",
         "showlegend": false,
         "type": "scatter",
         "x": [
          0.6434624629460862,
          0.6434624629460862
         ],
         "xaxis": "x",
         "y": [
          1,
          1.75
         ],
         "yaxis": "y"
        },
        {
         "hoverinfo": "skip",
         "line": {
          "color": "black",
          "width": 1
         },
         "mode": "lines",
         "showlegend": false,
         "type": "scatter",
         "x": [
          0.7078484846215535,
          0.7078484846215535
         ],
         "xaxis": "x",
         "y": [
          1,
          0.3
         ],
         "yaxis": "y"
        },
        {
         "hoverinfo": "skip",
         "marker": {
          "color": "limegreen"
         },
         "opacity": 0.7,
         "showlegend": false,
         "type": "bar",
         "width": 0.03212993098004775,
         "x": [
          -0.4769427202677076,
          -0.43678030654264793,
          -0.39661789281758825,
          -0.35645547909252856,
          -0.3162930653674689,
          -0.27613065164240913,
          -0.23596823791734944,
          -0.19580582419228976,
          -0.15564341046723007,
          -0.11548099674217038,
          -0.0753185830171107,
          -0.03515616929205098,
          0.005006244433008733,
          0.04516865815806842,
          0.0853310718831281,
          0.1254934856081878,
          0.16565589933324748,
          0.20581831305830717,
          0.24598072678336685,
          0.28614314050842654,
          0.32630555423348623,
          0.3664679679585459,
          0.4066303816836056,
          0.44679279540866534,
          0.48695520913372503,
          0.5271176228587847,
          0.5672800365838444,
          0.6074424503089041,
          0.6476048640339638,
          0.6877672777590236
         ],
         "xaxis": "x",
         "y": [
          0.14210526315789473,
          0.23684210526315788,
          0.37894736842105264,
          0.18947368421052632,
          0.6157894736842106,
          0.4263157894736842,
          0.9,
          0.4263157894736842,
          0.5684210526315789,
          0.8526315789473684,
          0.6157894736842106,
          0.5210526315789474,
          0.4263157894736842,
          0.7578947368421053,
          0.28421052631578947,
          0.5684210526315789,
          0.6631578947368421,
          0.47368421052631576,
          0.37894736842105264,
          0.28421052631578947,
          0.37894736842105264,
          0.28421052631578947,
          0.33157894736842103,
          0.04736842105263158,
          0.23684210526315788,
          0.09473684210526316,
          0.09473684210526316,
          0,
          0.09473684210526316,
          0.04736842105263158
         ],
         "yaxis": "y"
        },
        {
         "hovertemplate": "<b>%{text}</b><br>Normalized Projection: %{x:.3f}<extra></extra>",
         "marker": {
          "color": "limegreen",
          "line": {
           "color": "black",
           "width": 1
          },
          "opacity": 1,
          "size": 8,
          "symbol": "diamond"
         },
         "mode": "markers",
         "showlegend": false,
         "text": [
          "Zealous",
          "Wry",
          "Whimsical",
          "Visceral",
          "Verbose",
          "Utilitarian",
          "Urgent",
          "Universalist",
          "Understated",
          "Traditional",
          "Theoretical",
          "Theatrical",
          "Temperamental",
          "Technical",
          "Tactful",
          "Systems thinker",
          "Sycophantic",
          "Supportive",
          "Subversive",
          "Submissive",
          "Structuralist",
          "Stream of consciousness",
          "Strategic",
          "Stoic",
          "Spontaneous",
          "Speculative",
          "Specialized",
          "Socratic",
          "Skeptical",
          "Serious",
          "Secular",
          "Savage",
          "Sassy",
          "Sardonic",
          "Sarcastic",
          "Ritualistic",
          "Risk taking",
          "Rhetorical",
          "Resilient",
          "Reserved",
          "Relativist",
          "Regulatory",
          "Reductionist",
          "Rebellious",
          "Reactive",
          "Rationalist",
          "Radical",
          "Quantitative",
          "Qualitative",
          "Provocative",
          "Progressive",
          "Principled",
          "Prescriptive",
          "Practical",
          "Poetic",
          "Pluralist",
          "Playful",
          "Philosophical",
          "Petty",
          "Pessimistic",
          "Perfectionist",
          "Pensive",
          "Pedantic",
          "Patient",
          "Passive aggressive",
          "Passionate",
          "Paranoid",
          "Paradoxical",
          "Pacifist",
          "Optimistic",
          "Open ended",
          "Obsessive",
          "Nurturing",
          "Nostalgic",
          "Nonchalant",
          "Nihilistic",
          "Neurotic",
          "Narrative",
          "Naive",
          "Moderate",
          "Mischievous",
          "Misanthropic",
          "Militant",
          "Meticulous",
          "Methodical",
          "Metaphorical",
          "Mercurial",
          "Melodramatic",
          "Melancholic",
          "Materialist",
          "Manipulative",
          "Manic",
          "Literal",
          "Libertarian",
          "Judgmental",
          "Ironic",
          "Intuitive",
          "Introverted",
          "Introspective",
          "Interdisciplinary",
          "Inspirational",
          "Inquisitive",
          "Innovative",
          "Individualistic",
          "Independent",
          "Inclusive",
          "Impulsive",
          "Improvisational",
          "Impatient",
          "Idealistic",
          "Iconoclastic",
          "Humble",
          "Humanistic",
          "Hostile",
          "Holistic",
          "Historical",
          "Hedonistic",
          "Gregarious",
          "Grandiose",
          "Goofy",
          "Generous",
          "Generalist",
          "Futuristic",
          "Fundamentalist",
          "Formalist",
          "Formal",
          "Forgiving",
          "Flirty",
          "Flippant",
          "Flexible",
          "Fatalistic",
          "Factual",
          "Extroverted",
          "Experiential",
          "Existentialist",
          "Evil",
          "Essentialist",
          "Esoteric",
          "Erudite",
          "Epicurean",
          "Environmental",
          "Entertaining",
          "Empathetic",
          "Emotional",
          "Eloquent",
          "Elitist",
          "Egalitarian",
          "Effusive",
          "Efficient",
          "Edgy",
          "Eclectic",
          "Earnest",
          "Dramatic",
          "Dominant",
          "Dogmatic",
          "Dispassionate",
          "Disorganized",
          "Diplomatic",
          "Deterministic",
          "Detached",
          "Descriptive",
          "Deontological",
          "Deferential",
          "Deconstructionist",
          "Decisive",
          "Data driven",
          "Cynical",
          "Curious",
          "Cruel",
          "Critical",
          "Creative",
          "Cosmopolitan",
          "Convergent",
          "Contrarian",
          "Contemporary",
          "Constructivist",
          "Conscientious",
          "Confrontational",
          "Confident",
          "Condescending",
          "Concise",
          "Conciliatory",
          "Conceptual",
          "Competitive",
          "Collectivistic",
          "Collaborative",
          "Closure seeking",
          "Circumspect",
          "Chill",
          "Charismatic",
          "Chaotic",
          "Challenging",
          "Cautious",
          "Casual",
          "Calm",
          "Callous",
          "Calculating",
          "Bombastic",
          "Blunt",
          "Bitter",
          "Big picture",
          "Benevolent",
          "Avoidant",
          "Assertive",
          "Ascetic",
          "Artistic",
          "Arrogant",
          "Anxious",
          "Anthropocentric",
          "Animated",
          "Altruistic",
          "Agreeable",
          "Adventurous",
          "Adaptable",
          "Acerbic",
          "Accommodating",
          "Accessible",
          "Abstract",
          "Absolutist"
         ],
         "type": "scatter",
         "x": [
          0.04744397832211146,
          -0.10185729355484133,
          0.031824275448425594,
          0.005172250359484821,
          -0.09093044155362541,
          -0.0324015566905197,
          -0.025582183211682687,
          0.02313435470451316,
          0.008735611224679743,
          0.043590188221083515,
          0.05224784677680438,
          0.021288415689892443,
          -0.08396350622028446,
          -0.028303045746548287,
          0.036390980096092436,
          -0.02695326463168751,
          0.05598100917906477,
          -0.01972573203594904,
          -0.02050391306426111,
          0.0616025194360278,
          -0.054171516559485135,
          -0.002604100073826717,
          -0.08379890467464253,
          0.03082544476055488,
          0.012019095154814885,
          -0.021370574193016224,
          -0.030048667911299128,
          -0.001672092910746438,
          -0.0691679636769994,
          0.1200829247073321,
          -0.04012356493161853,
          -0.03503537382684503,
          -0.09886562182435502,
          -0.09192056391620285,
          -0.07374398369522256,
          0.11852869069210753,
          -0.004435540010934099,
          0.05868033741720442,
          0.060166443059794204,
          0.04708496127253754,
          0.02506874692444032,
          0.029693687813859736,
          -0.05998737331265973,
          -0.032191314671302325,
          0.03289104602876925,
          -0.05119067814794,
          0.013665335928687149,
          -0.09985542435374826,
          0.09147565631741061,
          -0.020347380756398973,
          -0.026710597011537007,
          0.017946955297603748,
          -0.0355239182851854,
          -0.06357527565598899,
          0.1275878451128989,
          -0.04069264981765772,
          -0.03574357379908611,
          0.028275882227900437,
          -0.028150060668143947,
          -0.04143059693029926,
          0.003818885170975296,
          -0.01372041266077976,
          -0.022604439522043704,
          0.043106590249786164,
          -0.046209953914176455,
          -0.0033554460260982917,
          0.010267319530113457,
          0.03668281122859748,
          0.041852179257375485,
          0.04841346906907061,
          -0.02238426549362482,
          0.02749961280607781,
          0.013646199208177983,
          0.07214546387494426,
          -0.0674382188375868,
          0.031744195377109374,
          -0.0994401215969115,
          0.04265057328898236,
          0.0405888328753599,
          -0.018445207078980813,
          -0.05950475788353121,
          0.01399026001693219,
          0.007050893860697599,
          -0.027636094920899575,
          -0.03345447621768229,
          0.0640990442486832,
          -0.043184713549765365,
          0.052683165767197795,
          0.014669550367152376,
          -0.02048071518359077,
          0.020179000123408463,
          -0.06679724999182256,
          0.054621189435481984,
          0.04845742239795301,
          -0.02893203869287198,
          -0.0767975793377751,
          0.0171457196772203,
          0.09179897784005084,
          -0.07861224651513438,
          -0.03621780037945352,
          0.08033204230078052,
          -0.07194953993083934,
          -0.02774003355099621,
          -0.010741209191699035,
          0.020840574690988635,
          -0.06209965903704613,
          0.07924720760188199,
          0.01000712506845971,
          -0.005950842611583744,
          0.09399153703282717,
          -0.023425395376852703,
          -0.06419731855901592,
          0.010757963100741006,
          -0.06986357151683041,
          -0.04481073331640904,
          -0.002873280433024103,
          -0.018933249067087023,
          -0.05550867818532604,
          0.0824369991376871,
          -0.07434484521461306,
          -0.10189937161556689,
          -0.04989193930507207,
          -0.008853828341972618,
          0.09002154221419385,
          -0.0017234521298955562,
          0.10125340922481507,
          0.025394549640312736,
          0.013886325560341495,
          -0.10289384789959169,
          -0.06318064024381927,
          0.08538778320068818,
          -0.03154078417848658,
          -0.04951469238626066,
          -0.06680371427216386,
          -0.02544835862431106,
          -0.011189898185014903,
          0.069538154559567,
          0.0897014284074814,
          0.01382739130252073,
          0.0579578022670602,
          0.026749581625376873,
          -0.07141448146247362,
          -0.016785506794049155,
          -0.0010646403323732736,
          0.09343743866319527,
          0.05264279202662088,
          -0.02063611204311386,
          -0.04960209104411008,
          0.0740029261186755,
          -0.08131550341423521,
          -0.014646240241680849,
          0.1092896136885458,
          0.07139005523236734,
          -0.019205524955098367,
          0.07965154289033706,
          0.012463856895339123,
          -0.016518760469687383,
          0.014049002044836827,
          0.05269960013792455,
          -0.008986505782476634,
          -0.0073492973613709794,
          0.015746554792639825,
          0.0006164059457386136,
          -0.05377380785729705,
          0.040148208634010314,
          -0.04901588656650108,
          -0.04137220499393212,
          -0.03946506001496253,
          -0.03346053004354025,
          -0.046352579993393844,
          -0.011245287577005223,
          -0.010004765365012134,
          0.002569463722275478,
          -0.03675986117013715,
          -0.0610229103891468,
          -0.008247043393456948,
          0.04482403440395416,
          -0.024235106908022,
          0.07757897424092332,
          -0.015640807400738848,
          0.12082289852717858,
          0.008588291272961249,
          0.08176151468914573,
          -0.0006958158499386216,
          0.02586063400962253,
          -0.01937748045636095,
          0.046041880734930186,
          -0.04150981597398112,
          0.013916298318675056,
          -0.04706553253070777,
          -0.03498084894060671,
          -0.05299984637956263,
          -0.06502596523179473,
          -0.09267477724101857,
          0.06904152738334407,
          -0.013677830122824801,
          -0.015739166053689104,
          0.09391822331487638,
          -0.016940855462375552,
          -0.045689122912058844,
          0.04445565041432682,
          0.016576042792267247,
          0.07446331285885625,
          0.0262859628286894,
          0.0609921194800885,
          0.076635035993154,
          0.014401244328370819,
          -0.1070498685890418,
          0.016929022174495115,
          -0.08045665800407763,
          0.03847424234454783,
          0.026675288834360586,
          -0.005119568360892016,
          -0.08249524004301748,
          -0.08027708790955608,
          -0.010566323958258352,
          -0.08121417129257165,
          0.0651167911818585,
          0.05409629931778816
         ],
         "xaxis": "x2",
         "y": [
          1,
          1,
          1,
          1,
          1,
          1,
          1,
          1,
          1,
          1,
          1,
          1,
          1,
          1,
          1,
          1,
          1,
          1,
          1,
          1,
          1,
          1,
          1,
          1,
          1,
          1,
          1,
          1,
          1,
          1,
          1,
          1,
          1,
          1,
          1,
          1,
          1,
          1,
          1,
          1,
          1,
          1,
          1,
          1,
          1,
          1,
          1,
          1,
          1,
          1,
          1,
          1,
          1,
          1,
          1,
          1,
          1,
          1,
          1,
          1,
          1,
          1,
          1,
          1,
          1,
          1,
          1,
          1,
          1,
          1,
          1,
          1,
          1,
          1,
          1,
          1,
          1,
          1,
          1,
          1,
          1,
          1,
          1,
          1,
          1,
          1,
          1,
          1,
          1,
          1,
          1,
          1,
          1,
          1,
          1,
          1,
          1,
          1,
          1,
          1,
          1,
          1,
          1,
          1,
          1,
          1,
          1,
          1,
          1,
          1,
          1,
          1,
          1,
          1,
          1,
          1,
          1,
          1,
          1,
          1,
          1,
          1,
          1,
          1,
          1,
          1,
          1,
          1,
          1,
          1,
          1,
          1,
          1,
          1,
          1,
          1,
          1,
          1,
          1,
          1,
          1,
          1,
          1,
          1,
          1,
          1,
          1,
          1,
          1,
          1,
          1,
          1,
          1,
          1,
          1,
          1,
          1,
          1,
          1,
          1,
          1,
          1,
          1,
          1,
          1,
          1,
          1,
          1,
          1,
          1,
          1,
          1,
          1,
          1,
          1,
          1,
          1,
          1,
          1,
          1,
          1,
          1,
          1,
          1,
          1,
          1,
          1,
          1,
          1,
          1,
          1,
          1,
          1,
          1,
          1,
          1,
          1,
          1,
          1,
          1,
          1,
          1,
          1,
          1,
          1,
          1,
          1,
          1,
          1,
          1,
          1,
          1,
          1,
          1,
          1,
          1,
          1,
          1,
          1
         ],
         "yaxis": "y2"
        },
        {
         "hovertemplate": "<b>%{text}</b><br>Normalized Projection: %{x:.3f}<extra></extra>",
         "marker": {
          "color": "limegreen",
          "line": {
           "color": "black",
           "width": 1
          },
          "opacity": 1,
          "size": 8,
          "symbol": "diamond"
         },
         "mode": "markers",
         "showlegend": false,
         "text": [
          "Witty",
          "Transparent",
          "Spiritual",
          "Solemn",
          "Serene",
          "Romantic",
          "Reverent",
          "Problem solving",
          "Proactive",
          "Mystical",
          "Meditative",
          "Irreverent",
          "Grounded",
          "Exploratory",
          "Ethereal",
          "Enigmatic",
          "Educational",
          "Divergent",
          "Cryptic",
          "Analytical"
         ],
         "type": "scatter",
         "x": [
          -0.10878563888539373,
          -0.1155962906450611,
          0.1540560116557845,
          0.15179920037362404,
          0.16206074908335089,
          0.1516704591693882,
          0.15168986372649418,
          -0.11667197728046544,
          -0.11590612392051224,
          0.14171184842252374,
          0.1406202140600027,
          -0.12176375119046748,
          -0.11251296272287126,
          -0.13198942910013697,
          0.16270204024855672,
          0.1489237948631228,
          -0.12244255867400447,
          -0.12311506204779218,
          0.165691698918503,
          -0.11330273088583548
         ],
         "xaxis": "x2",
         "y": [
          1,
          1,
          1,
          1,
          1,
          1,
          1,
          1,
          1,
          1,
          1,
          1,
          1,
          1,
          1,
          1,
          1,
          1,
          1,
          1
         ],
         "yaxis": "y2"
        },
        {
         "hoverinfo": "skip",
         "line": {
          "color": "black",
          "width": 1
         },
         "mode": "lines",
         "showlegend": false,
         "type": "scatter",
         "x": [
          -0.13198942910013697,
          -0.13198942910013697
         ],
         "xaxis": "x2",
         "y": [
          1,
          1.45
         ],
         "yaxis": "y2"
        },
        {
         "hoverinfo": "skip",
         "line": {
          "color": "black",
          "width": 1
         },
         "mode": "lines",
         "showlegend": false,
         "type": "scatter",
         "x": [
          -0.12311506204779218,
          -0.12311506204779218
         ],
         "xaxis": "x2",
         "y": [
          1,
          0.6
         ],
         "yaxis": "y2"
        },
        {
         "hoverinfo": "skip",
         "line": {
          "color": "black",
          "width": 1
         },
         "mode": "lines",
         "showlegend": false,
         "type": "scatter",
         "x": [
          -0.12244255867400447,
          -0.12244255867400447
         ],
         "xaxis": "x2",
         "y": [
          1,
          1.9
         ],
         "yaxis": "y2"
        },
        {
         "hoverinfo": "skip",
         "line": {
          "color": "black",
          "width": 1
         },
         "mode": "lines",
         "showlegend": false,
         "type": "scatter",
         "x": [
          -0.12176375119046748,
          -0.12176375119046748
         ],
         "xaxis": "x2",
         "y": [
          1,
          0.15
         ],
         "yaxis": "y2"
        },
        {
         "hoverinfo": "skip",
         "line": {
          "color": "black",
          "width": 1
         },
         "mode": "lines",
         "showlegend": false,
         "type": "scatter",
         "x": [
          -0.11667197728046544,
          -0.11667197728046544
         ],
         "xaxis": "x2",
         "y": [
          1,
          1.6
         ],
         "yaxis": "y2"
        },
        {
         "hoverinfo": "skip",
         "line": {
          "color": "black",
          "width": 1
         },
         "mode": "lines",
         "showlegend": false,
         "type": "scatter",
         "x": [
          -0.11590612392051224,
          -0.11590612392051224
         ],
         "xaxis": "x2",
         "y": [
          1,
          0.45
         ],
         "yaxis": "y2"
        },
        {
         "hoverinfo": "skip",
         "line": {
          "color": "black",
          "width": 1
         },
         "mode": "lines",
         "showlegend": false,
         "type": "scatter",
         "x": [
          -0.1155962906450611,
          -0.1155962906450611
         ],
         "xaxis": "x2",
         "y": [
          1,
          1.3
         ],
         "yaxis": "y2"
        },
        {
         "hoverinfo": "skip",
         "line": {
          "color": "black",
          "width": 1
         },
         "mode": "lines",
         "showlegend": false,
         "type": "scatter",
         "x": [
          -0.11330273088583548,
          -0.11330273088583548
         ],
         "xaxis": "x2",
         "y": [
          1,
          0.75
         ],
         "yaxis": "y2"
        },
        {
         "hoverinfo": "skip",
         "line": {
          "color": "black",
          "width": 1
         },
         "mode": "lines",
         "showlegend": false,
         "type": "scatter",
         "x": [
          -0.11251296272287126,
          -0.11251296272287126
         ],
         "xaxis": "x2",
         "y": [
          1,
          1.75
         ],
         "yaxis": "y2"
        },
        {
         "hoverinfo": "skip",
         "line": {
          "color": "black",
          "width": 1
         },
         "mode": "lines",
         "showlegend": false,
         "type": "scatter",
         "x": [
          -0.10878563888539373,
          -0.10878563888539373
         ],
         "xaxis": "x2",
         "y": [
          1,
          0.3
         ],
         "yaxis": "y2"
        },
        {
         "hoverinfo": "skip",
         "line": {
          "color": "black",
          "width": 1
         },
         "mode": "lines",
         "showlegend": false,
         "type": "scatter",
         "x": [
          0.1406202140600027,
          0.1406202140600027
         ],
         "xaxis": "x2",
         "y": [
          1,
          1.45
         ],
         "yaxis": "y2"
        },
        {
         "hoverinfo": "skip",
         "line": {
          "color": "black",
          "width": 1
         },
         "mode": "lines",
         "showlegend": false,
         "type": "scatter",
         "x": [
          0.14171184842252374,
          0.14171184842252374
         ],
         "xaxis": "x2",
         "y": [
          1,
          0.6
         ],
         "yaxis": "y2"
        },
        {
         "hoverinfo": "skip",
         "line": {
          "color": "black",
          "width": 1
         },
         "mode": "lines",
         "showlegend": false,
         "type": "scatter",
         "x": [
          0.1489237948631228,
          0.1489237948631228
         ],
         "xaxis": "x2",
         "y": [
          1,
          1.9
         ],
         "yaxis": "y2"
        },
        {
         "hoverinfo": "skip",
         "line": {
          "color": "black",
          "width": 1
         },
         "mode": "lines",
         "showlegend": false,
         "type": "scatter",
         "x": [
          0.1516704591693882,
          0.1516704591693882
         ],
         "xaxis": "x2",
         "y": [
          1,
          0.15
         ],
         "yaxis": "y2"
        },
        {
         "hoverinfo": "skip",
         "line": {
          "color": "black",
          "width": 1
         },
         "mode": "lines",
         "showlegend": false,
         "type": "scatter",
         "x": [
          0.15168986372649418,
          0.15168986372649418
         ],
         "xaxis": "x2",
         "y": [
          1,
          1.6
         ],
         "yaxis": "y2"
        },
        {
         "hoverinfo": "skip",
         "line": {
          "color": "black",
          "width": 1
         },
         "mode": "lines",
         "showlegend": false,
         "type": "scatter",
         "x": [
          0.15179920037362404,
          0.15179920037362404
         ],
         "xaxis": "x2",
         "y": [
          1,
          0.45
         ],
         "yaxis": "y2"
        },
        {
         "hoverinfo": "skip",
         "line": {
          "color": "black",
          "width": 1
         },
         "mode": "lines",
         "showlegend": false,
         "type": "scatter",
         "x": [
          0.1540560116557845,
          0.1540560116557845
         ],
         "xaxis": "x2",
         "y": [
          1,
          1.3
         ],
         "yaxis": "y2"
        },
        {
         "hoverinfo": "skip",
         "line": {
          "color": "black",
          "width": 1
         },
         "mode": "lines",
         "showlegend": false,
         "type": "scatter",
         "x": [
          0.16206074908335089,
          0.16206074908335089
         ],
         "xaxis": "x2",
         "y": [
          1,
          0.75
         ],
         "yaxis": "y2"
        },
        {
         "hoverinfo": "skip",
         "line": {
          "color": "black",
          "width": 1
         },
         "mode": "lines",
         "showlegend": false,
         "type": "scatter",
         "x": [
          0.16270204024855672,
          0.16270204024855672
         ],
         "xaxis": "x2",
         "y": [
          1,
          1.75
         ],
         "yaxis": "y2"
        },
        {
         "hoverinfo": "skip",
         "line": {
          "color": "black",
          "width": 1
         },
         "mode": "lines",
         "showlegend": false,
         "type": "scatter",
         "x": [
          0.165691698918503,
          0.165691698918503
         ],
         "xaxis": "x2",
         "y": [
          1,
          0.3
         ],
         "yaxis": "y2"
        },
        {
         "hoverinfo": "skip",
         "marker": {
          "color": "limegreen"
         },
         "opacity": 0.7,
         "showlegend": false,
         "type": "bar",
         "width": 0.007938163413830402,
         "x": [
          -0.127028076966493,
          -0.11710537269920497,
          -0.10718266843191697,
          -0.09725996416462897,
          -0.08733725989734097,
          -0.07741455563005298,
          -0.06749185136276498,
          -0.057569147095476975,
          -0.04764644282818897,
          -0.03772373856090097,
          -0.02780103429361297,
          -0.017878330026324975,
          -0.00795562575903698,
          0.0019670785082510217,
          0.011889782775539023,
          0.021812487042827025,
          0.03173519131011503,
          0.04165789557740303,
          0.05158059984469103,
          0.06150330411197903,
          0.07142600837926703,
          0.08134871264655504,
          0.09127141691384304,
          0.10119412118113102,
          0.11111682544841901,
          0.12103952971570701,
          0.13096223398299503,
          0.14088493825028303,
          0.15080764251757103,
          0.16073034678485904
         ],
         "xaxis": "x2",
         "y": [
          0.135,
          0.27,
          0.135,
          0.27,
          0.225,
          0.36000000000000004,
          0.49500000000000005,
          0.36000000000000004,
          0.49500000000000005,
          0.63,
          0.675,
          0.9,
          0.5850000000000001,
          0.45,
          0.855,
          0.5850000000000001,
          0.405,
          0.45,
          0.49500000000000005,
          0.315,
          0.27,
          0.36000000000000004,
          0.315,
          0.045000000000000005,
          0.045000000000000005,
          0.135,
          0.045000000000000005,
          0.09000000000000001,
          0.225,
          0.135
         ],
         "yaxis": "y2"
        }
       ],
       "layout": {
        "annotations": [
         {
          "font": {
           "size": 16
          },
          "showarrow": false,
          "text": "PC4 Cosine Similarity",
          "x": 0.5,
          "xanchor": "center",
          "xref": "paper",
          "y": 1,
          "yanchor": "bottom",
          "yref": "paper"
         },
         {
          "font": {
           "size": 16
          },
          "showarrow": false,
          "text": "PC4 Normalized Projection",
          "x": 0.5,
          "xanchor": "center",
          "xref": "paper",
          "y": 0.45,
          "yanchor": "bottom",
          "yref": "paper"
         },
         {
          "bgcolor": "rgba(255, 255, 255, 0.9)",
          "bordercolor": "black",
          "borderwidth": 1,
          "font": {
           "color": "black",
           "size": 10
          },
          "showarrow": false,
          "text": "Exploratory",
          "x": -0.49702392713023746,
          "xref": "x",
          "y": 1.45,
          "yref": "y"
         },
         {
          "bgcolor": "rgba(255, 255, 255, 0.9)",
          "bordercolor": "black",
          "borderwidth": 1,
          "font": {
           "color": "black",
           "size": 10
          },
          "showarrow": false,
          "text": "Divergent",
          "x": -0.48488815462574,
          "xref": "x",
          "y": 0.6,
          "yref": "y"
         },
         {
          "bgcolor": "rgba(255, 255, 255, 0.9)",
          "bordercolor": "black",
          "borderwidth": 1,
          "font": {
           "color": "black",
           "size": 10
          },
          "showarrow": false,
          "text": "Problem solving",
          "x": -0.4675180168106067,
          "xref": "x",
          "y": 1.9,
          "yref": "y"
         },
         {
          "bgcolor": "rgba(255, 255, 255, 0.9)",
          "bordercolor": "black",
          "borderwidth": 1,
          "font": {
           "color": "black",
           "size": 10
          },
          "showarrow": false,
          "text": "Irreverent",
          "x": -0.4520188362456697,
          "xref": "x",
          "y": 0.15,
          "yref": "y"
         },
         {
          "bgcolor": "rgba(255, 255, 255, 0.9)",
          "bordercolor": "black",
          "borderwidth": 1,
          "font": {
           "color": "black",
           "size": 10
          },
          "showarrow": false,
          "text": "Transparent",
          "x": -0.44073915162857924,
          "xref": "x",
          "y": 1.6,
          "yref": "y"
         },
         {
          "bgcolor": "rgba(255, 255, 255, 0.9)",
          "bordercolor": "black",
          "borderwidth": 1,
          "font": {
           "color": "black",
           "size": 10
          },
          "showarrow": false,
          "text": "Grounded",
          "x": -0.4358144743350595,
          "xref": "x",
          "y": 0.45,
          "yref": "y"
         },
         {
          "bgcolor": "rgba(255, 255, 255, 0.9)",
          "bordercolor": "black",
          "borderwidth": 1,
          "font": {
           "color": "black",
           "size": 10
          },
          "showarrow": false,
          "text": "Proactive",
          "x": -0.42979408609452435,
          "xref": "x",
          "y": 1.3,
          "yref": "y"
         },
         {
          "bgcolor": "rgba(255, 255, 255, 0.9)",
          "bordercolor": "black",
          "borderwidth": 1,
          "font": {
           "color": "black",
           "size": 10
          },
          "showarrow": false,
          "text": "Sassy",
          "x": -0.4181378656972793,
          "xref": "x",
          "y": 0.75,
          "yref": "y"
         },
         {
          "bgcolor": "rgba(255, 255, 255, 0.9)",
          "bordercolor": "black",
          "borderwidth": 1,
          "font": {
           "color": "black",
           "size": 10
          },
          "showarrow": false,
          "text": "Adaptable",
          "x": -0.40885643033514907,
          "xref": "x",
          "y": 1.75,
          "yref": "y"
         },
         {
          "bgcolor": "rgba(255, 255, 255, 0.9)",
          "bordercolor": "black",
          "borderwidth": 1,
          "font": {
           "color": "black",
           "size": 10
          },
          "showarrow": false,
          "text": "Analytical",
          "x": -0.40164326669209977,
          "xref": "x",
          "y": 0.3,
          "yref": "y"
         },
         {
          "bgcolor": "rgba(255, 255, 255, 0.9)",
          "bordercolor": "black",
          "borderwidth": 1,
          "font": {
           "color": "black",
           "size": 10
          },
          "showarrow": false,
          "text": "Enigmatic",
          "x": 0.48555205488874353,
          "xref": "x",
          "y": 1.45,
          "yref": "y"
         },
         {
          "bgcolor": "rgba(255, 255, 255, 0.9)",
          "bordercolor": "black",
          "borderwidth": 1,
          "font": {
           "color": "black",
           "size": 10
          },
          "showarrow": false,
          "text": "Serene",
          "x": 0.49876544205147444,
          "xref": "x",
          "y": 0.6,
          "yref": "y"
         },
         {
          "bgcolor": "rgba(255, 255, 255, 0.9)",
          "bordercolor": "black",
          "borderwidth": 1,
          "font": {
           "color": "black",
           "size": 10
          },
          "showarrow": false,
          "text": "Solemn",
          "x": 0.5019139671503687,
          "xref": "x",
          "y": 1.9,
          "yref": "y"
         },
         {
          "bgcolor": "rgba(255, 255, 255, 0.9)",
          "bordercolor": "black",
          "borderwidth": 1,
          "font": {
           "color": "black",
           "size": 10
          },
          "showarrow": false,
          "text": "Cryptic",
          "x": 0.5246243908043747,
          "xref": "x",
          "y": 0.15,
          "yref": "y"
         },
         {
          "bgcolor": "rgba(255, 255, 255, 0.9)",
          "bordercolor": "black",
          "borderwidth": 1,
          "font": {
           "color": "black",
           "size": 10
          },
          "showarrow": false,
          "text": "Romantic",
          "x": 0.5370611253691404,
          "xref": "x",
          "y": 1.6,
          "yref": "y"
         },
         {
          "bgcolor": "rgba(255, 255, 255, 0.9)",
          "bordercolor": "black",
          "borderwidth": 1,
          "font": {
           "color": "black",
           "size": 10
          },
          "showarrow": false,
          "text": "Ethereal",
          "x": 0.5563514522449318,
          "xref": "x",
          "y": 0.45,
          "yref": "y"
         },
         {
          "bgcolor": "rgba(255, 255, 255, 0.9)",
          "bordercolor": "black",
          "borderwidth": 1,
          "font": {
           "color": "black",
           "size": 10
          },
          "showarrow": false,
          "text": "Idealistic",
          "x": 0.5692625651542468,
          "xref": "x",
          "y": 1.3,
          "yref": "y"
         },
         {
          "bgcolor": "rgba(255, 255, 255, 0.9)",
          "bordercolor": "black",
          "borderwidth": 1,
          "font": {
           "color": "black",
           "size": 10
          },
          "showarrow": false,
          "text": "Mystical",
          "x": 0.6376822735215009,
          "xref": "x",
          "y": 0.75,
          "yref": "y"
         },
         {
          "bgcolor": "rgba(255, 255, 255, 0.9)",
          "bordercolor": "black",
          "borderwidth": 1,
          "font": {
           "color": "black",
           "size": 10
          },
          "showarrow": false,
          "text": "Spiritual",
          "x": 0.6434624629460862,
          "xref": "x",
          "y": 1.75,
          "yref": "y"
         },
         {
          "bgcolor": "rgba(255, 255, 255, 0.9)",
          "bordercolor": "black",
          "borderwidth": 1,
          "font": {
           "color": "black",
           "size": 10
          },
          "showarrow": false,
          "text": "Reverent",
          "x": 0.7078484846215535,
          "xref": "x",
          "y": 0.3,
          "yref": "y"
         },
         {
          "bgcolor": "rgba(255, 255, 255, 0.9)",
          "bordercolor": "red",
          "borderwidth": 1,
          "font": {
           "color": "red",
           "size": 14
          },
          "showarrow": false,
          "text": "Assistant",
          "x": -0.03449355252445144,
          "xref": "x",
          "y": 2,
          "yref": "y"
         },
         {
          "bgcolor": "rgba(255, 255, 255, 0.9)",
          "bordercolor": "black",
          "borderwidth": 1,
          "font": {
           "color": "black",
           "size": 10
          },
          "showarrow": false,
          "text": "Exploratory",
          "x": -0.13198942910013697,
          "xref": "x2",
          "y": 1.45,
          "yref": "y2"
         },
         {
          "bgcolor": "rgba(255, 255, 255, 0.9)",
          "bordercolor": "black",
          "borderwidth": 1,
          "font": {
           "color": "black",
           "size": 10
          },
          "showarrow": false,
          "text": "Divergent",
          "x": -0.12311506204779218,
          "xref": "x2",
          "y": 0.6,
          "yref": "y2"
         },
         {
          "bgcolor": "rgba(255, 255, 255, 0.9)",
          "bordercolor": "black",
          "borderwidth": 1,
          "font": {
           "color": "black",
           "size": 10
          },
          "showarrow": false,
          "text": "Educational",
          "x": -0.12244255867400447,
          "xref": "x2",
          "y": 1.9,
          "yref": "y2"
         },
         {
          "bgcolor": "rgba(255, 255, 255, 0.9)",
          "bordercolor": "black",
          "borderwidth": 1,
          "font": {
           "color": "black",
           "size": 10
          },
          "showarrow": false,
          "text": "Irreverent",
          "x": -0.12176375119046748,
          "xref": "x2",
          "y": 0.15,
          "yref": "y2"
         },
         {
          "bgcolor": "rgba(255, 255, 255, 0.9)",
          "bordercolor": "black",
          "borderwidth": 1,
          "font": {
           "color": "black",
           "size": 10
          },
          "showarrow": false,
          "text": "Problem solving",
          "x": -0.11667197728046544,
          "xref": "x2",
          "y": 1.6,
          "yref": "y2"
         },
         {
          "bgcolor": "rgba(255, 255, 255, 0.9)",
          "bordercolor": "black",
          "borderwidth": 1,
          "font": {
           "color": "black",
           "size": 10
          },
          "showarrow": false,
          "text": "Proactive",
          "x": -0.11590612392051224,
          "xref": "x2",
          "y": 0.45,
          "yref": "y2"
         },
         {
          "bgcolor": "rgba(255, 255, 255, 0.9)",
          "bordercolor": "black",
          "borderwidth": 1,
          "font": {
           "color": "black",
           "size": 10
          },
          "showarrow": false,
          "text": "Transparent",
          "x": -0.1155962906450611,
          "xref": "x2",
          "y": 1.3,
          "yref": "y2"
         },
         {
          "bgcolor": "rgba(255, 255, 255, 0.9)",
          "bordercolor": "black",
          "borderwidth": 1,
          "font": {
           "color": "black",
           "size": 10
          },
          "showarrow": false,
          "text": "Analytical",
          "x": -0.11330273088583548,
          "xref": "x2",
          "y": 0.75,
          "yref": "y2"
         },
         {
          "bgcolor": "rgba(255, 255, 255, 0.9)",
          "bordercolor": "black",
          "borderwidth": 1,
          "font": {
           "color": "black",
           "size": 10
          },
          "showarrow": false,
          "text": "Grounded",
          "x": -0.11251296272287126,
          "xref": "x2",
          "y": 1.75,
          "yref": "y2"
         },
         {
          "bgcolor": "rgba(255, 255, 255, 0.9)",
          "bordercolor": "black",
          "borderwidth": 1,
          "font": {
           "color": "black",
           "size": 10
          },
          "showarrow": false,
          "text": "Witty",
          "x": -0.10878563888539373,
          "xref": "x2",
          "y": 0.3,
          "yref": "y2"
         },
         {
          "bgcolor": "rgba(255, 255, 255, 0.9)",
          "bordercolor": "black",
          "borderwidth": 1,
          "font": {
           "color": "black",
           "size": 10
          },
          "showarrow": false,
          "text": "Meditative",
          "x": 0.1406202140600027,
          "xref": "x2",
          "y": 1.45,
          "yref": "y2"
         },
         {
          "bgcolor": "rgba(255, 255, 255, 0.9)",
          "bordercolor": "black",
          "borderwidth": 1,
          "font": {
           "color": "black",
           "size": 10
          },
          "showarrow": false,
          "text": "Mystical",
          "x": 0.14171184842252374,
          "xref": "x2",
          "y": 0.6,
          "yref": "y2"
         },
         {
          "bgcolor": "rgba(255, 255, 255, 0.9)",
          "bordercolor": "black",
          "borderwidth": 1,
          "font": {
           "color": "black",
           "size": 10
          },
          "showarrow": false,
          "text": "Enigmatic",
          "x": 0.1489237948631228,
          "xref": "x2",
          "y": 1.9,
          "yref": "y2"
         },
         {
          "bgcolor": "rgba(255, 255, 255, 0.9)",
          "bordercolor": "black",
          "borderwidth": 1,
          "font": {
           "color": "black",
           "size": 10
          },
          "showarrow": false,
          "text": "Romantic",
          "x": 0.1516704591693882,
          "xref": "x2",
          "y": 0.15,
          "yref": "y2"
         },
         {
          "bgcolor": "rgba(255, 255, 255, 0.9)",
          "bordercolor": "black",
          "borderwidth": 1,
          "font": {
           "color": "black",
           "size": 10
          },
          "showarrow": false,
          "text": "Reverent",
          "x": 0.15168986372649418,
          "xref": "x2",
          "y": 1.6,
          "yref": "y2"
         },
         {
          "bgcolor": "rgba(255, 255, 255, 0.9)",
          "bordercolor": "black",
          "borderwidth": 1,
          "font": {
           "color": "black",
           "size": 10
          },
          "showarrow": false,
          "text": "Solemn",
          "x": 0.15179920037362404,
          "xref": "x2",
          "y": 0.45,
          "yref": "y2"
         },
         {
          "bgcolor": "rgba(255, 255, 255, 0.9)",
          "bordercolor": "black",
          "borderwidth": 1,
          "font": {
           "color": "black",
           "size": 10
          },
          "showarrow": false,
          "text": "Spiritual",
          "x": 0.1540560116557845,
          "xref": "x2",
          "y": 1.3,
          "yref": "y2"
         },
         {
          "bgcolor": "rgba(255, 255, 255, 0.9)",
          "bordercolor": "black",
          "borderwidth": 1,
          "font": {
           "color": "black",
           "size": 10
          },
          "showarrow": false,
          "text": "Serene",
          "x": 0.16206074908335089,
          "xref": "x2",
          "y": 0.75,
          "yref": "y2"
         },
         {
          "bgcolor": "rgba(255, 255, 255, 0.9)",
          "bordercolor": "black",
          "borderwidth": 1,
          "font": {
           "color": "black",
           "size": 10
          },
          "showarrow": false,
          "text": "Ethereal",
          "x": 0.16270204024855672,
          "xref": "x2",
          "y": 1.75,
          "yref": "y2"
         },
         {
          "bgcolor": "rgba(255, 255, 255, 0.9)",
          "bordercolor": "black",
          "borderwidth": 1,
          "font": {
           "color": "black",
           "size": 10
          },
          "showarrow": false,
          "text": "Cryptic",
          "x": 0.165691698918503,
          "xref": "x2",
          "y": 0.3,
          "yref": "y2"
         },
         {
          "bgcolor": "rgba(255, 255, 255, 0.9)",
          "bordercolor": "red",
          "borderwidth": 1,
          "font": {
           "color": "red",
           "size": 14
          },
          "showarrow": false,
          "text": "Assistant",
          "x": -0.01364948676512246,
          "xref": "x2",
          "y": 2,
          "yref": "y2"
         }
        ],
        "height": 800,
        "shapes": [
         {
          "line": {
           "color": "gray",
           "dash": "solid",
           "width": 1
          },
          "opacity": 0.7,
          "type": "line",
          "x0": 0,
          "x1": 0,
          "xref": "x",
          "y0": 0,
          "y1": 1,
          "yref": "y domain"
         },
         {
          "line": {
           "color": "red",
           "dash": "dash",
           "width": 1
          },
          "opacity": 1,
          "type": "line",
          "x0": -0.03449355252445144,
          "x1": -0.03449355252445144,
          "xref": "x",
          "y0": 0,
          "y1": 1,
          "yref": "y domain"
         },
         {
          "line": {
           "color": "gray",
           "dash": "solid",
           "width": 1
          },
          "opacity": 0.7,
          "type": "line",
          "x0": 0,
          "x1": 0,
          "xref": "x2",
          "y0": 0,
          "y1": 1,
          "yref": "y2 domain"
         },
         {
          "line": {
           "color": "red",
           "dash": "dash",
           "width": 1
          },
          "opacity": 1,
          "type": "line",
          "x0": -0.01364948676512246,
          "x1": -0.01364948676512246,
          "xref": "x2",
          "y0": 0,
          "y1": 1,
          "yref": "y2 domain"
         }
        ],
        "showlegend": false,
        "template": {
         "data": {
          "bar": [
           {
            "error_x": {
             "color": "#2a3f5f"
            },
            "error_y": {
             "color": "#2a3f5f"
            },
            "marker": {
             "line": {
              "color": "#E5ECF6",
              "width": 0.5
             },
             "pattern": {
              "fillmode": "overlay",
              "size": 10,
              "solidity": 0.2
             }
            },
            "type": "bar"
           }
          ],
          "barpolar": [
           {
            "marker": {
             "line": {
              "color": "#E5ECF6",
              "width": 0.5
             },
             "pattern": {
              "fillmode": "overlay",
              "size": 10,
              "solidity": 0.2
             }
            },
            "type": "barpolar"
           }
          ],
          "carpet": [
           {
            "aaxis": {
             "endlinecolor": "#2a3f5f",
             "gridcolor": "white",
             "linecolor": "white",
             "minorgridcolor": "white",
             "startlinecolor": "#2a3f5f"
            },
            "baxis": {
             "endlinecolor": "#2a3f5f",
             "gridcolor": "white",
             "linecolor": "white",
             "minorgridcolor": "white",
             "startlinecolor": "#2a3f5f"
            },
            "type": "carpet"
           }
          ],
          "choropleth": [
           {
            "colorbar": {
             "outlinewidth": 0,
             "ticks": ""
            },
            "type": "choropleth"
           }
          ],
          "contour": [
           {
            "colorbar": {
             "outlinewidth": 0,
             "ticks": ""
            },
            "colorscale": [
             [
              0,
              "#0d0887"
             ],
             [
              0.1111111111111111,
              "#46039f"
             ],
             [
              0.2222222222222222,
              "#7201a8"
             ],
             [
              0.3333333333333333,
              "#9c179e"
             ],
             [
              0.4444444444444444,
              "#bd3786"
             ],
             [
              0.5555555555555556,
              "#d8576b"
             ],
             [
              0.6666666666666666,
              "#ed7953"
             ],
             [
              0.7777777777777778,
              "#fb9f3a"
             ],
             [
              0.8888888888888888,
              "#fdca26"
             ],
             [
              1,
              "#f0f921"
             ]
            ],
            "type": "contour"
           }
          ],
          "contourcarpet": [
           {
            "colorbar": {
             "outlinewidth": 0,
             "ticks": ""
            },
            "type": "contourcarpet"
           }
          ],
          "heatmap": [
           {
            "colorbar": {
             "outlinewidth": 0,
             "ticks": ""
            },
            "colorscale": [
             [
              0,
              "#0d0887"
             ],
             [
              0.1111111111111111,
              "#46039f"
             ],
             [
              0.2222222222222222,
              "#7201a8"
             ],
             [
              0.3333333333333333,
              "#9c179e"
             ],
             [
              0.4444444444444444,
              "#bd3786"
             ],
             [
              0.5555555555555556,
              "#d8576b"
             ],
             [
              0.6666666666666666,
              "#ed7953"
             ],
             [
              0.7777777777777778,
              "#fb9f3a"
             ],
             [
              0.8888888888888888,
              "#fdca26"
             ],
             [
              1,
              "#f0f921"
             ]
            ],
            "type": "heatmap"
           }
          ],
          "heatmapgl": [
           {
            "colorbar": {
             "outlinewidth": 0,
             "ticks": ""
            },
            "colorscale": [
             [
              0,
              "#0d0887"
             ],
             [
              0.1111111111111111,
              "#46039f"
             ],
             [
              0.2222222222222222,
              "#7201a8"
             ],
             [
              0.3333333333333333,
              "#9c179e"
             ],
             [
              0.4444444444444444,
              "#bd3786"
             ],
             [
              0.5555555555555556,
              "#d8576b"
             ],
             [
              0.6666666666666666,
              "#ed7953"
             ],
             [
              0.7777777777777778,
              "#fb9f3a"
             ],
             [
              0.8888888888888888,
              "#fdca26"
             ],
             [
              1,
              "#f0f921"
             ]
            ],
            "type": "heatmapgl"
           }
          ],
          "histogram": [
           {
            "marker": {
             "pattern": {
              "fillmode": "overlay",
              "size": 10,
              "solidity": 0.2
             }
            },
            "type": "histogram"
           }
          ],
          "histogram2d": [
           {
            "colorbar": {
             "outlinewidth": 0,
             "ticks": ""
            },
            "colorscale": [
             [
              0,
              "#0d0887"
             ],
             [
              0.1111111111111111,
              "#46039f"
             ],
             [
              0.2222222222222222,
              "#7201a8"
             ],
             [
              0.3333333333333333,
              "#9c179e"
             ],
             [
              0.4444444444444444,
              "#bd3786"
             ],
             [
              0.5555555555555556,
              "#d8576b"
             ],
             [
              0.6666666666666666,
              "#ed7953"
             ],
             [
              0.7777777777777778,
              "#fb9f3a"
             ],
             [
              0.8888888888888888,
              "#fdca26"
             ],
             [
              1,
              "#f0f921"
             ]
            ],
            "type": "histogram2d"
           }
          ],
          "histogram2dcontour": [
           {
            "colorbar": {
             "outlinewidth": 0,
             "ticks": ""
            },
            "colorscale": [
             [
              0,
              "#0d0887"
             ],
             [
              0.1111111111111111,
              "#46039f"
             ],
             [
              0.2222222222222222,
              "#7201a8"
             ],
             [
              0.3333333333333333,
              "#9c179e"
             ],
             [
              0.4444444444444444,
              "#bd3786"
             ],
             [
              0.5555555555555556,
              "#d8576b"
             ],
             [
              0.6666666666666666,
              "#ed7953"
             ],
             [
              0.7777777777777778,
              "#fb9f3a"
             ],
             [
              0.8888888888888888,
              "#fdca26"
             ],
             [
              1,
              "#f0f921"
             ]
            ],
            "type": "histogram2dcontour"
           }
          ],
          "mesh3d": [
           {
            "colorbar": {
             "outlinewidth": 0,
             "ticks": ""
            },
            "type": "mesh3d"
           }
          ],
          "parcoords": [
           {
            "line": {
             "colorbar": {
              "outlinewidth": 0,
              "ticks": ""
             }
            },
            "type": "parcoords"
           }
          ],
          "pie": [
           {
            "automargin": true,
            "type": "pie"
           }
          ],
          "scatter": [
           {
            "fillpattern": {
             "fillmode": "overlay",
             "size": 10,
             "solidity": 0.2
            },
            "type": "scatter"
           }
          ],
          "scatter3d": [
           {
            "line": {
             "colorbar": {
              "outlinewidth": 0,
              "ticks": ""
             }
            },
            "marker": {
             "colorbar": {
              "outlinewidth": 0,
              "ticks": ""
             }
            },
            "type": "scatter3d"
           }
          ],
          "scattercarpet": [
           {
            "marker": {
             "colorbar": {
              "outlinewidth": 0,
              "ticks": ""
             }
            },
            "type": "scattercarpet"
           }
          ],
          "scattergeo": [
           {
            "marker": {
             "colorbar": {
              "outlinewidth": 0,
              "ticks": ""
             }
            },
            "type": "scattergeo"
           }
          ],
          "scattergl": [
           {
            "marker": {
             "colorbar": {
              "outlinewidth": 0,
              "ticks": ""
             }
            },
            "type": "scattergl"
           }
          ],
          "scattermapbox": [
           {
            "marker": {
             "colorbar": {
              "outlinewidth": 0,
              "ticks": ""
             }
            },
            "type": "scattermapbox"
           }
          ],
          "scatterpolar": [
           {
            "marker": {
             "colorbar": {
              "outlinewidth": 0,
              "ticks": ""
             }
            },
            "type": "scatterpolar"
           }
          ],
          "scatterpolargl": [
           {
            "marker": {
             "colorbar": {
              "outlinewidth": 0,
              "ticks": ""
             }
            },
            "type": "scatterpolargl"
           }
          ],
          "scatterternary": [
           {
            "marker": {
             "colorbar": {
              "outlinewidth": 0,
              "ticks": ""
             }
            },
            "type": "scatterternary"
           }
          ],
          "surface": [
           {
            "colorbar": {
             "outlinewidth": 0,
             "ticks": ""
            },
            "colorscale": [
             [
              0,
              "#0d0887"
             ],
             [
              0.1111111111111111,
              "#46039f"
             ],
             [
              0.2222222222222222,
              "#7201a8"
             ],
             [
              0.3333333333333333,
              "#9c179e"
             ],
             [
              0.4444444444444444,
              "#bd3786"
             ],
             [
              0.5555555555555556,
              "#d8576b"
             ],
             [
              0.6666666666666666,
              "#ed7953"
             ],
             [
              0.7777777777777778,
              "#fb9f3a"
             ],
             [
              0.8888888888888888,
              "#fdca26"
             ],
             [
              1,
              "#f0f921"
             ]
            ],
            "type": "surface"
           }
          ],
          "table": [
           {
            "cells": {
             "fill": {
              "color": "#EBF0F8"
             },
             "line": {
              "color": "white"
             }
            },
            "header": {
             "fill": {
              "color": "#C8D4E3"
             },
             "line": {
              "color": "white"
             }
            },
            "type": "table"
           }
          ]
         },
         "layout": {
          "annotationdefaults": {
           "arrowcolor": "#2a3f5f",
           "arrowhead": 0,
           "arrowwidth": 1
          },
          "autotypenumbers": "strict",
          "coloraxis": {
           "colorbar": {
            "outlinewidth": 0,
            "ticks": ""
           }
          },
          "colorscale": {
           "diverging": [
            [
             0,
             "#8e0152"
            ],
            [
             0.1,
             "#c51b7d"
            ],
            [
             0.2,
             "#de77ae"
            ],
            [
             0.3,
             "#f1b6da"
            ],
            [
             0.4,
             "#fde0ef"
            ],
            [
             0.5,
             "#f7f7f7"
            ],
            [
             0.6,
             "#e6f5d0"
            ],
            [
             0.7,
             "#b8e186"
            ],
            [
             0.8,
             "#7fbc41"
            ],
            [
             0.9,
             "#4d9221"
            ],
            [
             1,
             "#276419"
            ]
           ],
           "sequential": [
            [
             0,
             "#0d0887"
            ],
            [
             0.1111111111111111,
             "#46039f"
            ],
            [
             0.2222222222222222,
             "#7201a8"
            ],
            [
             0.3333333333333333,
             "#9c179e"
            ],
            [
             0.4444444444444444,
             "#bd3786"
            ],
            [
             0.5555555555555556,
             "#d8576b"
            ],
            [
             0.6666666666666666,
             "#ed7953"
            ],
            [
             0.7777777777777778,
             "#fb9f3a"
            ],
            [
             0.8888888888888888,
             "#fdca26"
            ],
            [
             1,
             "#f0f921"
            ]
           ],
           "sequentialminus": [
            [
             0,
             "#0d0887"
            ],
            [
             0.1111111111111111,
             "#46039f"
            ],
            [
             0.2222222222222222,
             "#7201a8"
            ],
            [
             0.3333333333333333,
             "#9c179e"
            ],
            [
             0.4444444444444444,
             "#bd3786"
            ],
            [
             0.5555555555555556,
             "#d8576b"
            ],
            [
             0.6666666666666666,
             "#ed7953"
            ],
            [
             0.7777777777777778,
             "#fb9f3a"
            ],
            [
             0.8888888888888888,
             "#fdca26"
            ],
            [
             1,
             "#f0f921"
            ]
           ]
          },
          "colorway": [
           "#636efa",
           "#EF553B",
           "#00cc96",
           "#ab63fa",
           "#FFA15A",
           "#19d3f3",
           "#FF6692",
           "#B6E880",
           "#FF97FF",
           "#FECB52"
          ],
          "font": {
           "color": "#2a3f5f"
          },
          "geo": {
           "bgcolor": "white",
           "lakecolor": "white",
           "landcolor": "#E5ECF6",
           "showlakes": true,
           "showland": true,
           "subunitcolor": "white"
          },
          "hoverlabel": {
           "align": "left"
          },
          "hovermode": "closest",
          "mapbox": {
           "style": "light"
          },
          "paper_bgcolor": "white",
          "plot_bgcolor": "#E5ECF6",
          "polar": {
           "angularaxis": {
            "gridcolor": "white",
            "linecolor": "white",
            "ticks": ""
           },
           "bgcolor": "#E5ECF6",
           "radialaxis": {
            "gridcolor": "white",
            "linecolor": "white",
            "ticks": ""
           }
          },
          "scene": {
           "xaxis": {
            "backgroundcolor": "#E5ECF6",
            "gridcolor": "white",
            "gridwidth": 2,
            "linecolor": "white",
            "showbackground": true,
            "ticks": "",
            "zerolinecolor": "white"
           },
           "yaxis": {
            "backgroundcolor": "#E5ECF6",
            "gridcolor": "white",
            "gridwidth": 2,
            "linecolor": "white",
            "showbackground": true,
            "ticks": "",
            "zerolinecolor": "white"
           },
           "zaxis": {
            "backgroundcolor": "#E5ECF6",
            "gridcolor": "white",
            "gridwidth": 2,
            "linecolor": "white",
            "showbackground": true,
            "ticks": "",
            "zerolinecolor": "white"
           }
          },
          "shapedefaults": {
           "line": {
            "color": "#2a3f5f"
           }
          },
          "ternary": {
           "aaxis": {
            "gridcolor": "white",
            "linecolor": "white",
            "ticks": ""
           },
           "baxis": {
            "gridcolor": "white",
            "linecolor": "white",
            "ticks": ""
           },
           "bgcolor": "#E5ECF6",
           "caxis": {
            "gridcolor": "white",
            "linecolor": "white",
            "ticks": ""
           }
          },
          "title": {
           "x": 0.05
          },
          "xaxis": {
           "automargin": true,
           "gridcolor": "white",
           "linecolor": "white",
           "ticks": "",
           "title": {
            "standoff": 15
           },
           "zerolinecolor": "white",
           "zerolinewidth": 2
          },
          "yaxis": {
           "automargin": true,
           "gridcolor": "white",
           "linecolor": "white",
           "ticks": "",
           "title": {
            "standoff": 15
           },
           "zerolinecolor": "white",
           "zerolinewidth": 2
          }
         }
        },
        "title": {
         "font": {
          "size": 16
         },
         "subtitle": {
          "text": "Gemma 2 27B Base, Layer 22 - Shared Question Set, Mean-Centered and Scaled Vectors"
         },
         "text": "PCA on Trait Vectors",
         "x": 0.5
        },
        "width": 1200,
        "xaxis": {
         "anchor": "y",
         "domain": [
          0,
          1
         ],
         "range": [
          -0.7786333330837089,
          0.7786333330837089
         ]
        },
        "xaxis2": {
         "anchor": "y2",
         "domain": [
          0,
          1
         ],
         "range": [
          -0.1822608688103533,
          0.1822608688103533
         ]
        },
        "yaxis": {
         "anchor": "x",
         "domain": [
          0.55,
          1
         ],
         "range": [
          0,
          2.5
         ],
         "showticklabels": false
        },
        "yaxis2": {
         "anchor": "x2",
         "domain": [
          0,
          0.45
         ],
         "range": [
          0,
          2.5
         ],
         "showticklabels": false
        }
       }
      },
      "text/html": [
       "<div>                            <div id=\"03a1d54b-17aa-45f3-a449-096f58b057d1\" class=\"plotly-graph-div\" style=\"height:800px; width:1200px;\"></div>            <script type=\"text/javascript\">                require([\"plotly\"], function(Plotly) {                    window.PLOTLYENV=window.PLOTLYENV || {};                                    if (document.getElementById(\"03a1d54b-17aa-45f3-a449-096f58b057d1\")) {                    Plotly.newPlot(                        \"03a1d54b-17aa-45f3-a449-096f58b057d1\",                        [{\"hovertemplate\":\"\\u003cb\\u003e%{text}\\u003c\\u002fb\\u003e\\u003cbr\\u003eCosine Similarity: %{x:.3f}\\u003cextra\\u003e\\u003c\\u002fextra\\u003e\",\"marker\":{\"color\":\"limegreen\",\"line\":{\"color\":\"black\",\"width\":1},\"opacity\":1.0,\"size\":8,\"symbol\":\"diamond\"},\"mode\":\"markers\",\"showlegend\":false,\"text\":[\"Zealous\",\"Wry\",\"Witty\",\"Whimsical\",\"Visceral\",\"Verbose\",\"Utilitarian\",\"Urgent\",\"Universalist\",\"Understated\",\"Traditional\",\"Theoretical\",\"Theatrical\",\"Temperamental\",\"Technical\",\"Tactful\",\"Systems thinker\",\"Sycophantic\",\"Supportive\",\"Subversive\",\"Submissive\",\"Structuralist\",\"Stream of consciousness\",\"Strategic\",\"Stoic\",\"Spontaneous\",\"Speculative\",\"Specialized\",\"Socratic\",\"Skeptical\",\"Serious\",\"Secular\",\"Savage\",\"Sardonic\",\"Sarcastic\",\"Ritualistic\",\"Risk taking\",\"Rhetorical\",\"Resilient\",\"Reserved\",\"Relativist\",\"Regulatory\",\"Reductionist\",\"Rebellious\",\"Reactive\",\"Rationalist\",\"Radical\",\"Quantitative\",\"Qualitative\",\"Provocative\",\"Progressive\",\"Principled\",\"Prescriptive\",\"Practical\",\"Poetic\",\"Pluralist\",\"Playful\",\"Philosophical\",\"Petty\",\"Pessimistic\",\"Perfectionist\",\"Pensive\",\"Pedantic\",\"Patient\",\"Passive aggressive\",\"Passionate\",\"Paranoid\",\"Paradoxical\",\"Pacifist\",\"Optimistic\",\"Open ended\",\"Obsessive\",\"Nurturing\",\"Nostalgic\",\"Nonchalant\",\"Nihilistic\",\"Neurotic\",\"Narrative\",\"Naive\",\"Moderate\",\"Mischievous\",\"Misanthropic\",\"Militant\",\"Meticulous\",\"Methodical\",\"Metaphorical\",\"Mercurial\",\"Melodramatic\",\"Melancholic\",\"Meditative\",\"Materialist\",\"Manipulative\",\"Manic\",\"Literal\",\"Libertarian\",\"Judgmental\",\"Ironic\",\"Intuitive\",\"Introverted\",\"Introspective\",\"Interdisciplinary\",\"Inspirational\",\"Inquisitive\",\"Innovative\",\"Individualistic\",\"Independent\",\"Inclusive\",\"Impulsive\",\"Improvisational\",\"Impatient\",\"Iconoclastic\",\"Humble\",\"Humanistic\",\"Hostile\",\"Holistic\",\"Historical\",\"Hedonistic\",\"Gregarious\",\"Grandiose\",\"Goofy\",\"Generous\",\"Generalist\",\"Futuristic\",\"Fundamentalist\",\"Formalist\",\"Formal\",\"Forgiving\",\"Flirty\",\"Flippant\",\"Flexible\",\"Fatalistic\",\"Factual\",\"Extroverted\",\"Experiential\",\"Existentialist\",\"Evil\",\"Essentialist\",\"Esoteric\",\"Erudite\",\"Epicurean\",\"Environmental\",\"Entertaining\",\"Empathetic\",\"Emotional\",\"Eloquent\",\"Elitist\",\"Egalitarian\",\"Effusive\",\"Efficient\",\"Educational\",\"Edgy\",\"Eclectic\",\"Earnest\",\"Dramatic\",\"Dominant\",\"Dogmatic\",\"Dispassionate\",\"Disorganized\",\"Diplomatic\",\"Deterministic\",\"Detached\",\"Descriptive\",\"Deontological\",\"Deferential\",\"Deconstructionist\",\"Decisive\",\"Data driven\",\"Cynical\",\"Curious\",\"Cruel\",\"Critical\",\"Creative\",\"Cosmopolitan\",\"Convergent\",\"Contrarian\",\"Contemporary\",\"Constructivist\",\"Conscientious\",\"Confrontational\",\"Confident\",\"Condescending\",\"Concise\",\"Conciliatory\",\"Conceptual\",\"Competitive\",\"Collectivistic\",\"Collaborative\",\"Closure seeking\",\"Circumspect\",\"Chill\",\"Charismatic\",\"Chaotic\",\"Challenging\",\"Cautious\",\"Casual\",\"Calm\",\"Callous\",\"Calculating\",\"Bombastic\",\"Blunt\",\"Bitter\",\"Big picture\",\"Benevolent\",\"Avoidant\",\"Assertive\",\"Ascetic\",\"Artistic\",\"Arrogant\",\"Anxious\",\"Anthropocentric\",\"Animated\",\"Altruistic\",\"Agreeable\",\"Adventurous\",\"Acerbic\",\"Accommodating\",\"Accessible\",\"Abstract\",\"Absolutist\"],\"x\":[0.19029502901447792,-0.3759767681149137,-0.3891529535108598,0.11454810646600423,0.02177634827229538,-0.38915140234299156,-0.2381883669806597,-0.13088800718267282,0.16964362052652202,0.030940337936425946,0.20671555419016177,0.30899943407669117,0.07079943289800078,-0.2983848686663949,-0.11785229372455049,0.15002385568876395,-0.1633178876558796,0.17030648674308388,-0.06325405994026712,-0.11668667324894612,0.21623041170572818,-0.23358609627153257,-0.012915691739634472,-0.2425290552188386,0.13939157515468492,0.05737867128846175,-0.15085158364064097,-0.13686940786692983,-0.005900729417693433,-0.3809296851568752,0.38385040327530867,-0.20722322064948354,-0.1454465995261463,-0.3235138826129481,-0.29152994316276637,0.4686626310226654,-0.030478251738457904,0.2603123983247133,0.18131421507785228,0.17207352538051135,0.11483000838373178,0.13516241188970884,-0.3228126382402593,-0.1918091865373864,0.111521968832899,-0.2423834748501964,0.06862224435756213,-0.3932632763554161,0.4130979881640037,-0.13276886290453982,-0.20448083702900746,0.1475356678358476,-0.1722100702660564,-0.2825234088907022,0.2771963465089822,-0.2298265399221919,-0.14112611447886955,0.14797017309622598,-0.11648032496282089,-0.23631362186879257,0.017703695522056574,-0.04633892460210782,-0.12334901878109183,0.12678395494813374,-0.17229737263026604,-0.015737733832989112,0.05078384290383344,0.24329570246057539,0.3403529293039417,0.21006008574306073,-0.13434899601178127,0.1718765921259648,0.04422509024995234,0.4199964422369933,-0.18788776937922866,0.11006598959954819,-0.28646925725436656,0.1580042969335552,0.12886745610420314,-0.06303156129042374,-0.22369789856450933,0.05090173989243826,0.028064621763398908,-0.09779767561893414,-0.1114325656813617,0.2312309957422111,-0.17819269773075522,0.18412824622425544,0.05598335944870227,0.4364986513375577,-0.12880721117776836,0.08893197717261306,-0.22859109491269314,0.2132089757034653,0.3468591519900474,-0.13406068923040343,-0.2485656658991568,0.10253021800023611,0.36527903785634125,-0.33150083876835035,-0.23354738861006283,0.25820296888188793,-0.23710931506586033,-0.18115013637591004,-0.10384094467993825,0.114931952783158,-0.3648326563626992,0.20666011717429167,0.04952824202361515,-0.01772895645192798,-0.14665496602491535,-0.29706046000481084,0.0613315461118388,-0.22502358271926715,-0.22185365189955536,-0.017563582061201764,-0.08441654802522155,-0.26345609809518084,0.34590290927592104,-0.23707402222497123,-0.30913098323321214,-0.21225270792463102,-0.05658632631420354,0.4029253052262507,-0.009579480783810044,0.341122489362561,0.21724532232195987,0.048834776523756916,-0.30819814028749215,-0.2381946508937845,0.3654809936028516,-0.12394098588479177,-0.30049512026770075,-0.38894865554293145,-0.11523881512808196,-0.04030512049390103,0.4201704523906946,0.33449671744905296,0.05487474966970342,0.33878057760786695,0.16474655242654251,-0.2829502326605933,-0.08997759215767503,-0.005170050926431053,0.30866864516079906,0.2330125569646571,-0.11061412166038632,-0.19052389010924137,0.27416942384217174,-0.35699418984392123,-0.32872512157452854,-0.09359712464726105,0.35286104211302816,0.25727742603872644,-0.10639116467505688,0.30334445725177195,0.04544244510199806,-0.05615087257679245,0.05476673315844714,0.24020460031722562,-0.038370565491165305,-0.035441132939240665,0.12169225872829446,0.0030315111369975927,-0.2853886538952289,0.1847517494611975,-0.24082105877567564,-0.21803757092043452,-0.16472663345802718,-0.12210275546541866,-0.26832334885670556,-0.06111030311482893,-0.04607729800231817,0.018631795664358672,-0.23143156688478336,-0.3883826070093717,-0.055917112574942224,0.11623321014210787,-0.15169115605106165,0.41303219628346793,-0.07028303423023613,0.3876648503817041,0.029405236897226954,0.4843273205097673,-0.003104036038622458,0.1671590387982755,-0.11976363325789535,0.23328072513653608,-0.19198308595339586,0.04800299040491116,-0.1722013472739276,-0.23287593628328648,-0.3091987842188533,-0.33158180632274414,-0.3512609363151457,0.21218183437153523,-0.048771525436905945,-0.07214428828007662,0.30133697993649367,-0.0807410288135711,-0.17445132921365294,0.2994336292757072,0.0669163466340023,0.21336219055948133,0.18830927296142666,0.3052224414565277,0.32341069011170676,0.06312843940771828,-0.3171726613740344,0.1407069336607022,-0.28189830626753853,0.182890450890896,0.10405331995525645,-0.03101405118040082,-0.31210620074668405,-0.07603786937911025,-0.27973778000300886,0.4140340793550877,0.3682966289585166],\"y\":[1,1,1,1,1,1,1,1,1,1,1,1,1,1,1,1,1,1,1,1,1,1,1,1,1,1,1,1,1,1,1,1,1,1,1,1,1,1,1,1,1,1,1,1,1,1,1,1,1,1,1,1,1,1,1,1,1,1,1,1,1,1,1,1,1,1,1,1,1,1,1,1,1,1,1,1,1,1,1,1,1,1,1,1,1,1,1,1,1,1,1,1,1,1,1,1,1,1,1,1,1,1,1,1,1,1,1,1,1,1,1,1,1,1,1,1,1,1,1,1,1,1,1,1,1,1,1,1,1,1,1,1,1,1,1,1,1,1,1,1,1,1,1,1,1,1,1,1,1,1,1,1,1,1,1,1,1,1,1,1,1,1,1,1,1,1,1,1,1,1,1,1,1,1,1,1,1,1,1,1,1,1,1,1,1,1,1,1,1,1,1,1,1,1,1,1,1,1,1,1,1,1,1,1,1,1,1,1,1,1,1,1,1,1,1,1,1,1,1],\"type\":\"scatter\",\"xaxis\":\"x\",\"yaxis\":\"y\"},{\"hovertemplate\":\"\\u003cb\\u003e%{text}\\u003c\\u002fb\\u003e\\u003cbr\\u003eCosine Similarity: %{x:.3f}\\u003cextra\\u003e\\u003c\\u002fextra\\u003e\",\"marker\":{\"color\":\"limegreen\",\"line\":{\"color\":\"black\",\"width\":1},\"opacity\":1.0,\"size\":8,\"symbol\":\"diamond\"},\"mode\":\"markers\",\"showlegend\":false,\"text\":[\"Transparent\",\"Spiritual\",\"Solemn\",\"Serene\",\"Sassy\",\"Romantic\",\"Reverent\",\"Problem solving\",\"Proactive\",\"Mystical\",\"Irreverent\",\"Idealistic\",\"Grounded\",\"Exploratory\",\"Ethereal\",\"Enigmatic\",\"Divergent\",\"Cryptic\",\"Analytical\",\"Adaptable\"],\"x\":[-0.44073915162857924,0.6434624629460862,0.5019139671503687,0.49876544205147444,-0.4181378656972793,0.5370611253691404,0.7078484846215535,-0.4675180168106067,-0.42979408609452435,0.6376822735215009,-0.4520188362456697,0.5692625651542468,-0.4358144743350595,-0.49702392713023746,0.5563514522449318,0.48555205488874353,-0.48488815462574,0.5246243908043747,-0.40164326669209977,-0.40885643033514907],\"y\":[1,1,1,1,1,1,1,1,1,1,1,1,1,1,1,1,1,1,1,1],\"type\":\"scatter\",\"xaxis\":\"x\",\"yaxis\":\"y\"},{\"hoverinfo\":\"skip\",\"line\":{\"color\":\"black\",\"width\":1},\"mode\":\"lines\",\"showlegend\":false,\"x\":[-0.49702392713023746,-0.49702392713023746],\"y\":[1.0,1.45],\"type\":\"scatter\",\"xaxis\":\"x\",\"yaxis\":\"y\"},{\"hoverinfo\":\"skip\",\"line\":{\"color\":\"black\",\"width\":1},\"mode\":\"lines\",\"showlegend\":false,\"x\":[-0.48488815462574,-0.48488815462574],\"y\":[1.0,0.6],\"type\":\"scatter\",\"xaxis\":\"x\",\"yaxis\":\"y\"},{\"hoverinfo\":\"skip\",\"line\":{\"color\":\"black\",\"width\":1},\"mode\":\"lines\",\"showlegend\":false,\"x\":[-0.4675180168106067,-0.4675180168106067],\"y\":[1.0,1.9],\"type\":\"scatter\",\"xaxis\":\"x\",\"yaxis\":\"y\"},{\"hoverinfo\":\"skip\",\"line\":{\"color\":\"black\",\"width\":1},\"mode\":\"lines\",\"showlegend\":false,\"x\":[-0.4520188362456697,-0.4520188362456697],\"y\":[1.0,0.15],\"type\":\"scatter\",\"xaxis\":\"x\",\"yaxis\":\"y\"},{\"hoverinfo\":\"skip\",\"line\":{\"color\":\"black\",\"width\":1},\"mode\":\"lines\",\"showlegend\":false,\"x\":[-0.44073915162857924,-0.44073915162857924],\"y\":[1.0,1.6],\"type\":\"scatter\",\"xaxis\":\"x\",\"yaxis\":\"y\"},{\"hoverinfo\":\"skip\",\"line\":{\"color\":\"black\",\"width\":1},\"mode\":\"lines\",\"showlegend\":false,\"x\":[-0.4358144743350595,-0.4358144743350595],\"y\":[1.0,0.45],\"type\":\"scatter\",\"xaxis\":\"x\",\"yaxis\":\"y\"},{\"hoverinfo\":\"skip\",\"line\":{\"color\":\"black\",\"width\":1},\"mode\":\"lines\",\"showlegend\":false,\"x\":[-0.42979408609452435,-0.42979408609452435],\"y\":[1.0,1.3],\"type\":\"scatter\",\"xaxis\":\"x\",\"yaxis\":\"y\"},{\"hoverinfo\":\"skip\",\"line\":{\"color\":\"black\",\"width\":1},\"mode\":\"lines\",\"showlegend\":false,\"x\":[-0.4181378656972793,-0.4181378656972793],\"y\":[1.0,0.75],\"type\":\"scatter\",\"xaxis\":\"x\",\"yaxis\":\"y\"},{\"hoverinfo\":\"skip\",\"line\":{\"color\":\"black\",\"width\":1},\"mode\":\"lines\",\"showlegend\":false,\"x\":[-0.40885643033514907,-0.40885643033514907],\"y\":[1.0,1.75],\"type\":\"scatter\",\"xaxis\":\"x\",\"yaxis\":\"y\"},{\"hoverinfo\":\"skip\",\"line\":{\"color\":\"black\",\"width\":1},\"mode\":\"lines\",\"showlegend\":false,\"x\":[-0.40164326669209977,-0.40164326669209977],\"y\":[1.0,0.3],\"type\":\"scatter\",\"xaxis\":\"x\",\"yaxis\":\"y\"},{\"hoverinfo\":\"skip\",\"line\":{\"color\":\"black\",\"width\":1},\"mode\":\"lines\",\"showlegend\":false,\"x\":[0.48555205488874353,0.48555205488874353],\"y\":[1.0,1.45],\"type\":\"scatter\",\"xaxis\":\"x\",\"yaxis\":\"y\"},{\"hoverinfo\":\"skip\",\"line\":{\"color\":\"black\",\"width\":1},\"mode\":\"lines\",\"showlegend\":false,\"x\":[0.49876544205147444,0.49876544205147444],\"y\":[1.0,0.6],\"type\":\"scatter\",\"xaxis\":\"x\",\"yaxis\":\"y\"},{\"hoverinfo\":\"skip\",\"line\":{\"color\":\"black\",\"width\":1},\"mode\":\"lines\",\"showlegend\":false,\"x\":[0.5019139671503687,0.5019139671503687],\"y\":[1.0,1.9],\"type\":\"scatter\",\"xaxis\":\"x\",\"yaxis\":\"y\"},{\"hoverinfo\":\"skip\",\"line\":{\"color\":\"black\",\"width\":1},\"mode\":\"lines\",\"showlegend\":false,\"x\":[0.5246243908043747,0.5246243908043747],\"y\":[1.0,0.15],\"type\":\"scatter\",\"xaxis\":\"x\",\"yaxis\":\"y\"},{\"hoverinfo\":\"skip\",\"line\":{\"color\":\"black\",\"width\":1},\"mode\":\"lines\",\"showlegend\":false,\"x\":[0.5370611253691404,0.5370611253691404],\"y\":[1.0,1.6],\"type\":\"scatter\",\"xaxis\":\"x\",\"yaxis\":\"y\"},{\"hoverinfo\":\"skip\",\"line\":{\"color\":\"black\",\"width\":1},\"mode\":\"lines\",\"showlegend\":false,\"x\":[0.5563514522449318,0.5563514522449318],\"y\":[1.0,0.45],\"type\":\"scatter\",\"xaxis\":\"x\",\"yaxis\":\"y\"},{\"hoverinfo\":\"skip\",\"line\":{\"color\":\"black\",\"width\":1},\"mode\":\"lines\",\"showlegend\":false,\"x\":[0.5692625651542468,0.5692625651542468],\"y\":[1.0,1.3],\"type\":\"scatter\",\"xaxis\":\"x\",\"yaxis\":\"y\"},{\"hoverinfo\":\"skip\",\"line\":{\"color\":\"black\",\"width\":1},\"mode\":\"lines\",\"showlegend\":false,\"x\":[0.6376822735215009,0.6376822735215009],\"y\":[1.0,0.75],\"type\":\"scatter\",\"xaxis\":\"x\",\"yaxis\":\"y\"},{\"hoverinfo\":\"skip\",\"line\":{\"color\":\"black\",\"width\":1},\"mode\":\"lines\",\"showlegend\":false,\"x\":[0.6434624629460862,0.6434624629460862],\"y\":[1.0,1.75],\"type\":\"scatter\",\"xaxis\":\"x\",\"yaxis\":\"y\"},{\"hoverinfo\":\"skip\",\"line\":{\"color\":\"black\",\"width\":1},\"mode\":\"lines\",\"showlegend\":false,\"x\":[0.7078484846215535,0.7078484846215535],\"y\":[1.0,0.3],\"type\":\"scatter\",\"xaxis\":\"x\",\"yaxis\":\"y\"},{\"hoverinfo\":\"skip\",\"marker\":{\"color\":\"limegreen\"},\"opacity\":0.7,\"showlegend\":false,\"width\":0.03212993098004775,\"x\":[-0.4769427202677076,-0.43678030654264793,-0.39661789281758825,-0.35645547909252856,-0.3162930653674689,-0.27613065164240913,-0.23596823791734944,-0.19580582419228976,-0.15564341046723007,-0.11548099674217038,-0.0753185830171107,-0.03515616929205098,0.005006244433008733,0.04516865815806842,0.0853310718831281,0.1254934856081878,0.16565589933324748,0.20581831305830717,0.24598072678336685,0.28614314050842654,0.32630555423348623,0.3664679679585459,0.4066303816836056,0.44679279540866534,0.48695520913372503,0.5271176228587847,0.5672800365838444,0.6074424503089041,0.6476048640339638,0.6877672777590236],\"y\":[0.14210526315789473,0.23684210526315788,0.37894736842105264,0.18947368421052632,0.6157894736842106,0.4263157894736842,0.9,0.4263157894736842,0.5684210526315789,0.8526315789473684,0.6157894736842106,0.5210526315789474,0.4263157894736842,0.7578947368421053,0.28421052631578947,0.5684210526315789,0.6631578947368421,0.47368421052631576,0.37894736842105264,0.28421052631578947,0.37894736842105264,0.28421052631578947,0.33157894736842103,0.04736842105263158,0.23684210526315788,0.09473684210526316,0.09473684210526316,0.0,0.09473684210526316,0.04736842105263158],\"type\":\"bar\",\"xaxis\":\"x\",\"yaxis\":\"y\"},{\"hovertemplate\":\"\\u003cb\\u003e%{text}\\u003c\\u002fb\\u003e\\u003cbr\\u003eNormalized Projection: %{x:.3f}\\u003cextra\\u003e\\u003c\\u002fextra\\u003e\",\"marker\":{\"color\":\"limegreen\",\"line\":{\"color\":\"black\",\"width\":1},\"opacity\":1.0,\"size\":8,\"symbol\":\"diamond\"},\"mode\":\"markers\",\"showlegend\":false,\"text\":[\"Zealous\",\"Wry\",\"Whimsical\",\"Visceral\",\"Verbose\",\"Utilitarian\",\"Urgent\",\"Universalist\",\"Understated\",\"Traditional\",\"Theoretical\",\"Theatrical\",\"Temperamental\",\"Technical\",\"Tactful\",\"Systems thinker\",\"Sycophantic\",\"Supportive\",\"Subversive\",\"Submissive\",\"Structuralist\",\"Stream of consciousness\",\"Strategic\",\"Stoic\",\"Spontaneous\",\"Speculative\",\"Specialized\",\"Socratic\",\"Skeptical\",\"Serious\",\"Secular\",\"Savage\",\"Sassy\",\"Sardonic\",\"Sarcastic\",\"Ritualistic\",\"Risk taking\",\"Rhetorical\",\"Resilient\",\"Reserved\",\"Relativist\",\"Regulatory\",\"Reductionist\",\"Rebellious\",\"Reactive\",\"Rationalist\",\"Radical\",\"Quantitative\",\"Qualitative\",\"Provocative\",\"Progressive\",\"Principled\",\"Prescriptive\",\"Practical\",\"Poetic\",\"Pluralist\",\"Playful\",\"Philosophical\",\"Petty\",\"Pessimistic\",\"Perfectionist\",\"Pensive\",\"Pedantic\",\"Patient\",\"Passive aggressive\",\"Passionate\",\"Paranoid\",\"Paradoxical\",\"Pacifist\",\"Optimistic\",\"Open ended\",\"Obsessive\",\"Nurturing\",\"Nostalgic\",\"Nonchalant\",\"Nihilistic\",\"Neurotic\",\"Narrative\",\"Naive\",\"Moderate\",\"Mischievous\",\"Misanthropic\",\"Militant\",\"Meticulous\",\"Methodical\",\"Metaphorical\",\"Mercurial\",\"Melodramatic\",\"Melancholic\",\"Materialist\",\"Manipulative\",\"Manic\",\"Literal\",\"Libertarian\",\"Judgmental\",\"Ironic\",\"Intuitive\",\"Introverted\",\"Introspective\",\"Interdisciplinary\",\"Inspirational\",\"Inquisitive\",\"Innovative\",\"Individualistic\",\"Independent\",\"Inclusive\",\"Impulsive\",\"Improvisational\",\"Impatient\",\"Idealistic\",\"Iconoclastic\",\"Humble\",\"Humanistic\",\"Hostile\",\"Holistic\",\"Historical\",\"Hedonistic\",\"Gregarious\",\"Grandiose\",\"Goofy\",\"Generous\",\"Generalist\",\"Futuristic\",\"Fundamentalist\",\"Formalist\",\"Formal\",\"Forgiving\",\"Flirty\",\"Flippant\",\"Flexible\",\"Fatalistic\",\"Factual\",\"Extroverted\",\"Experiential\",\"Existentialist\",\"Evil\",\"Essentialist\",\"Esoteric\",\"Erudite\",\"Epicurean\",\"Environmental\",\"Entertaining\",\"Empathetic\",\"Emotional\",\"Eloquent\",\"Elitist\",\"Egalitarian\",\"Effusive\",\"Efficient\",\"Edgy\",\"Eclectic\",\"Earnest\",\"Dramatic\",\"Dominant\",\"Dogmatic\",\"Dispassionate\",\"Disorganized\",\"Diplomatic\",\"Deterministic\",\"Detached\",\"Descriptive\",\"Deontological\",\"Deferential\",\"Deconstructionist\",\"Decisive\",\"Data driven\",\"Cynical\",\"Curious\",\"Cruel\",\"Critical\",\"Creative\",\"Cosmopolitan\",\"Convergent\",\"Contrarian\",\"Contemporary\",\"Constructivist\",\"Conscientious\",\"Confrontational\",\"Confident\",\"Condescending\",\"Concise\",\"Conciliatory\",\"Conceptual\",\"Competitive\",\"Collectivistic\",\"Collaborative\",\"Closure seeking\",\"Circumspect\",\"Chill\",\"Charismatic\",\"Chaotic\",\"Challenging\",\"Cautious\",\"Casual\",\"Calm\",\"Callous\",\"Calculating\",\"Bombastic\",\"Blunt\",\"Bitter\",\"Big picture\",\"Benevolent\",\"Avoidant\",\"Assertive\",\"Ascetic\",\"Artistic\",\"Arrogant\",\"Anxious\",\"Anthropocentric\",\"Animated\",\"Altruistic\",\"Agreeable\",\"Adventurous\",\"Adaptable\",\"Acerbic\",\"Accommodating\",\"Accessible\",\"Abstract\",\"Absolutist\"],\"x\":[0.04744397832211146,-0.10185729355484133,0.031824275448425594,0.005172250359484821,-0.09093044155362541,-0.0324015566905197,-0.025582183211682687,0.02313435470451316,0.008735611224679743,0.043590188221083515,0.05224784677680438,0.021288415689892443,-0.08396350622028446,-0.028303045746548287,0.036390980096092436,-0.02695326463168751,0.05598100917906477,-0.01972573203594904,-0.02050391306426111,0.0616025194360278,-0.054171516559485135,-0.002604100073826717,-0.08379890467464253,0.03082544476055488,0.012019095154814885,-0.021370574193016224,-0.030048667911299128,-0.001672092910746438,-0.0691679636769994,0.1200829247073321,-0.04012356493161853,-0.03503537382684503,-0.09886562182435502,-0.09192056391620285,-0.07374398369522256,0.11852869069210753,-0.004435540010934099,0.05868033741720442,0.060166443059794204,0.04708496127253754,0.02506874692444032,0.029693687813859736,-0.05998737331265973,-0.032191314671302325,0.03289104602876925,-0.05119067814794,0.013665335928687149,-0.09985542435374826,0.09147565631741061,-0.020347380756398973,-0.026710597011537007,0.017946955297603748,-0.0355239182851854,-0.06357527565598899,0.1275878451128989,-0.04069264981765772,-0.03574357379908611,0.028275882227900437,-0.028150060668143947,-0.04143059693029926,0.003818885170975296,-0.01372041266077976,-0.022604439522043704,0.043106590249786164,-0.046209953914176455,-0.0033554460260982917,0.010267319530113457,0.03668281122859748,0.041852179257375485,0.04841346906907061,-0.02238426549362482,0.02749961280607781,0.013646199208177983,0.07214546387494426,-0.0674382188375868,0.031744195377109374,-0.0994401215969115,0.04265057328898236,0.0405888328753599,-0.018445207078980813,-0.05950475788353121,0.01399026001693219,0.007050893860697599,-0.027636094920899575,-0.03345447621768229,0.0640990442486832,-0.043184713549765365,0.052683165767197795,0.014669550367152376,-0.02048071518359077,0.020179000123408463,-0.06679724999182256,0.054621189435481984,0.04845742239795301,-0.02893203869287198,-0.0767975793377751,0.0171457196772203,0.09179897784005084,-0.07861224651513438,-0.03621780037945352,0.08033204230078052,-0.07194953993083934,-0.02774003355099621,-0.010741209191699035,0.020840574690988635,-0.06209965903704613,0.07924720760188199,0.01000712506845971,-0.005950842611583744,0.09399153703282717,-0.023425395376852703,-0.06419731855901592,0.010757963100741006,-0.06986357151683041,-0.04481073331640904,-0.002873280433024103,-0.018933249067087023,-0.05550867818532604,0.0824369991376871,-0.07434484521461306,-0.10189937161556689,-0.04989193930507207,-0.008853828341972618,0.09002154221419385,-0.0017234521298955562,0.10125340922481507,0.025394549640312736,0.013886325560341495,-0.10289384789959169,-0.06318064024381927,0.08538778320068818,-0.03154078417848658,-0.04951469238626066,-0.06680371427216386,-0.02544835862431106,-0.011189898185014903,0.069538154559567,0.0897014284074814,0.01382739130252073,0.0579578022670602,0.026749581625376873,-0.07141448146247362,-0.016785506794049155,-0.0010646403323732736,0.09343743866319527,0.05264279202662088,-0.02063611204311386,-0.04960209104411008,0.0740029261186755,-0.08131550341423521,-0.014646240241680849,0.1092896136885458,0.07139005523236734,-0.019205524955098367,0.07965154289033706,0.012463856895339123,-0.016518760469687383,0.014049002044836827,0.05269960013792455,-0.008986505782476634,-0.0073492973613709794,0.015746554792639825,0.0006164059457386136,-0.05377380785729705,0.040148208634010314,-0.04901588656650108,-0.04137220499393212,-0.03946506001496253,-0.03346053004354025,-0.046352579993393844,-0.011245287577005223,-0.010004765365012134,0.002569463722275478,-0.03675986117013715,-0.0610229103891468,-0.008247043393456948,0.04482403440395416,-0.024235106908022,0.07757897424092332,-0.015640807400738848,0.12082289852717858,0.008588291272961249,0.08176151468914573,-0.0006958158499386216,0.02586063400962253,-0.01937748045636095,0.046041880734930186,-0.04150981597398112,0.013916298318675056,-0.04706553253070777,-0.03498084894060671,-0.05299984637956263,-0.06502596523179473,-0.09267477724101857,0.06904152738334407,-0.013677830122824801,-0.015739166053689104,0.09391822331487638,-0.016940855462375552,-0.045689122912058844,0.04445565041432682,0.016576042792267247,0.07446331285885625,0.0262859628286894,0.0609921194800885,0.076635035993154,0.014401244328370819,-0.1070498685890418,0.016929022174495115,-0.08045665800407763,0.03847424234454783,0.026675288834360586,-0.005119568360892016,-0.08249524004301748,-0.08027708790955608,-0.010566323958258352,-0.08121417129257165,0.0651167911818585,0.05409629931778816],\"y\":[1,1,1,1,1,1,1,1,1,1,1,1,1,1,1,1,1,1,1,1,1,1,1,1,1,1,1,1,1,1,1,1,1,1,1,1,1,1,1,1,1,1,1,1,1,1,1,1,1,1,1,1,1,1,1,1,1,1,1,1,1,1,1,1,1,1,1,1,1,1,1,1,1,1,1,1,1,1,1,1,1,1,1,1,1,1,1,1,1,1,1,1,1,1,1,1,1,1,1,1,1,1,1,1,1,1,1,1,1,1,1,1,1,1,1,1,1,1,1,1,1,1,1,1,1,1,1,1,1,1,1,1,1,1,1,1,1,1,1,1,1,1,1,1,1,1,1,1,1,1,1,1,1,1,1,1,1,1,1,1,1,1,1,1,1,1,1,1,1,1,1,1,1,1,1,1,1,1,1,1,1,1,1,1,1,1,1,1,1,1,1,1,1,1,1,1,1,1,1,1,1,1,1,1,1,1,1,1,1,1,1,1,1,1,1,1,1,1,1],\"type\":\"scatter\",\"xaxis\":\"x2\",\"yaxis\":\"y2\"},{\"hovertemplate\":\"\\u003cb\\u003e%{text}\\u003c\\u002fb\\u003e\\u003cbr\\u003eNormalized Projection: %{x:.3f}\\u003cextra\\u003e\\u003c\\u002fextra\\u003e\",\"marker\":{\"color\":\"limegreen\",\"line\":{\"color\":\"black\",\"width\":1},\"opacity\":1.0,\"size\":8,\"symbol\":\"diamond\"},\"mode\":\"markers\",\"showlegend\":false,\"text\":[\"Witty\",\"Transparent\",\"Spiritual\",\"Solemn\",\"Serene\",\"Romantic\",\"Reverent\",\"Problem solving\",\"Proactive\",\"Mystical\",\"Meditative\",\"Irreverent\",\"Grounded\",\"Exploratory\",\"Ethereal\",\"Enigmatic\",\"Educational\",\"Divergent\",\"Cryptic\",\"Analytical\"],\"x\":[-0.10878563888539373,-0.1155962906450611,0.1540560116557845,0.15179920037362404,0.16206074908335089,0.1516704591693882,0.15168986372649418,-0.11667197728046544,-0.11590612392051224,0.14171184842252374,0.1406202140600027,-0.12176375119046748,-0.11251296272287126,-0.13198942910013697,0.16270204024855672,0.1489237948631228,-0.12244255867400447,-0.12311506204779218,0.165691698918503,-0.11330273088583548],\"y\":[1,1,1,1,1,1,1,1,1,1,1,1,1,1,1,1,1,1,1,1],\"type\":\"scatter\",\"xaxis\":\"x2\",\"yaxis\":\"y2\"},{\"hoverinfo\":\"skip\",\"line\":{\"color\":\"black\",\"width\":1},\"mode\":\"lines\",\"showlegend\":false,\"x\":[-0.13198942910013697,-0.13198942910013697],\"y\":[1.0,1.45],\"type\":\"scatter\",\"xaxis\":\"x2\",\"yaxis\":\"y2\"},{\"hoverinfo\":\"skip\",\"line\":{\"color\":\"black\",\"width\":1},\"mode\":\"lines\",\"showlegend\":false,\"x\":[-0.12311506204779218,-0.12311506204779218],\"y\":[1.0,0.6],\"type\":\"scatter\",\"xaxis\":\"x2\",\"yaxis\":\"y2\"},{\"hoverinfo\":\"skip\",\"line\":{\"color\":\"black\",\"width\":1},\"mode\":\"lines\",\"showlegend\":false,\"x\":[-0.12244255867400447,-0.12244255867400447],\"y\":[1.0,1.9],\"type\":\"scatter\",\"xaxis\":\"x2\",\"yaxis\":\"y2\"},{\"hoverinfo\":\"skip\",\"line\":{\"color\":\"black\",\"width\":1},\"mode\":\"lines\",\"showlegend\":false,\"x\":[-0.12176375119046748,-0.12176375119046748],\"y\":[1.0,0.15],\"type\":\"scatter\",\"xaxis\":\"x2\",\"yaxis\":\"y2\"},{\"hoverinfo\":\"skip\",\"line\":{\"color\":\"black\",\"width\":1},\"mode\":\"lines\",\"showlegend\":false,\"x\":[-0.11667197728046544,-0.11667197728046544],\"y\":[1.0,1.6],\"type\":\"scatter\",\"xaxis\":\"x2\",\"yaxis\":\"y2\"},{\"hoverinfo\":\"skip\",\"line\":{\"color\":\"black\",\"width\":1},\"mode\":\"lines\",\"showlegend\":false,\"x\":[-0.11590612392051224,-0.11590612392051224],\"y\":[1.0,0.45],\"type\":\"scatter\",\"xaxis\":\"x2\",\"yaxis\":\"y2\"},{\"hoverinfo\":\"skip\",\"line\":{\"color\":\"black\",\"width\":1},\"mode\":\"lines\",\"showlegend\":false,\"x\":[-0.1155962906450611,-0.1155962906450611],\"y\":[1.0,1.3],\"type\":\"scatter\",\"xaxis\":\"x2\",\"yaxis\":\"y2\"},{\"hoverinfo\":\"skip\",\"line\":{\"color\":\"black\",\"width\":1},\"mode\":\"lines\",\"showlegend\":false,\"x\":[-0.11330273088583548,-0.11330273088583548],\"y\":[1.0,0.75],\"type\":\"scatter\",\"xaxis\":\"x2\",\"yaxis\":\"y2\"},{\"hoverinfo\":\"skip\",\"line\":{\"color\":\"black\",\"width\":1},\"mode\":\"lines\",\"showlegend\":false,\"x\":[-0.11251296272287126,-0.11251296272287126],\"y\":[1.0,1.75],\"type\":\"scatter\",\"xaxis\":\"x2\",\"yaxis\":\"y2\"},{\"hoverinfo\":\"skip\",\"line\":{\"color\":\"black\",\"width\":1},\"mode\":\"lines\",\"showlegend\":false,\"x\":[-0.10878563888539373,-0.10878563888539373],\"y\":[1.0,0.3],\"type\":\"scatter\",\"xaxis\":\"x2\",\"yaxis\":\"y2\"},{\"hoverinfo\":\"skip\",\"line\":{\"color\":\"black\",\"width\":1},\"mode\":\"lines\",\"showlegend\":false,\"x\":[0.1406202140600027,0.1406202140600027],\"y\":[1.0,1.45],\"type\":\"scatter\",\"xaxis\":\"x2\",\"yaxis\":\"y2\"},{\"hoverinfo\":\"skip\",\"line\":{\"color\":\"black\",\"width\":1},\"mode\":\"lines\",\"showlegend\":false,\"x\":[0.14171184842252374,0.14171184842252374],\"y\":[1.0,0.6],\"type\":\"scatter\",\"xaxis\":\"x2\",\"yaxis\":\"y2\"},{\"hoverinfo\":\"skip\",\"line\":{\"color\":\"black\",\"width\":1},\"mode\":\"lines\",\"showlegend\":false,\"x\":[0.1489237948631228,0.1489237948631228],\"y\":[1.0,1.9],\"type\":\"scatter\",\"xaxis\":\"x2\",\"yaxis\":\"y2\"},{\"hoverinfo\":\"skip\",\"line\":{\"color\":\"black\",\"width\":1},\"mode\":\"lines\",\"showlegend\":false,\"x\":[0.1516704591693882,0.1516704591693882],\"y\":[1.0,0.15],\"type\":\"scatter\",\"xaxis\":\"x2\",\"yaxis\":\"y2\"},{\"hoverinfo\":\"skip\",\"line\":{\"color\":\"black\",\"width\":1},\"mode\":\"lines\",\"showlegend\":false,\"x\":[0.15168986372649418,0.15168986372649418],\"y\":[1.0,1.6],\"type\":\"scatter\",\"xaxis\":\"x2\",\"yaxis\":\"y2\"},{\"hoverinfo\":\"skip\",\"line\":{\"color\":\"black\",\"width\":1},\"mode\":\"lines\",\"showlegend\":false,\"x\":[0.15179920037362404,0.15179920037362404],\"y\":[1.0,0.45],\"type\":\"scatter\",\"xaxis\":\"x2\",\"yaxis\":\"y2\"},{\"hoverinfo\":\"skip\",\"line\":{\"color\":\"black\",\"width\":1},\"mode\":\"lines\",\"showlegend\":false,\"x\":[0.1540560116557845,0.1540560116557845],\"y\":[1.0,1.3],\"type\":\"scatter\",\"xaxis\":\"x2\",\"yaxis\":\"y2\"},{\"hoverinfo\":\"skip\",\"line\":{\"color\":\"black\",\"width\":1},\"mode\":\"lines\",\"showlegend\":false,\"x\":[0.16206074908335089,0.16206074908335089],\"y\":[1.0,0.75],\"type\":\"scatter\",\"xaxis\":\"x2\",\"yaxis\":\"y2\"},{\"hoverinfo\":\"skip\",\"line\":{\"color\":\"black\",\"width\":1},\"mode\":\"lines\",\"showlegend\":false,\"x\":[0.16270204024855672,0.16270204024855672],\"y\":[1.0,1.75],\"type\":\"scatter\",\"xaxis\":\"x2\",\"yaxis\":\"y2\"},{\"hoverinfo\":\"skip\",\"line\":{\"color\":\"black\",\"width\":1},\"mode\":\"lines\",\"showlegend\":false,\"x\":[0.165691698918503,0.165691698918503],\"y\":[1.0,0.3],\"type\":\"scatter\",\"xaxis\":\"x2\",\"yaxis\":\"y2\"},{\"hoverinfo\":\"skip\",\"marker\":{\"color\":\"limegreen\"},\"opacity\":0.7,\"showlegend\":false,\"width\":0.007938163413830402,\"x\":[-0.127028076966493,-0.11710537269920497,-0.10718266843191697,-0.09725996416462897,-0.08733725989734097,-0.07741455563005298,-0.06749185136276498,-0.057569147095476975,-0.04764644282818897,-0.03772373856090097,-0.02780103429361297,-0.017878330026324975,-0.00795562575903698,0.0019670785082510217,0.011889782775539023,0.021812487042827025,0.03173519131011503,0.04165789557740303,0.05158059984469103,0.06150330411197903,0.07142600837926703,0.08134871264655504,0.09127141691384304,0.10119412118113102,0.11111682544841901,0.12103952971570701,0.13096223398299503,0.14088493825028303,0.15080764251757103,0.16073034678485904],\"y\":[0.135,0.27,0.135,0.27,0.225,0.36000000000000004,0.49500000000000005,0.36000000000000004,0.49500000000000005,0.63,0.675,0.9,0.5850000000000001,0.45,0.855,0.5850000000000001,0.405,0.45,0.49500000000000005,0.315,0.27,0.36000000000000004,0.315,0.045000000000000005,0.045000000000000005,0.135,0.045000000000000005,0.09000000000000001,0.225,0.135],\"type\":\"bar\",\"xaxis\":\"x2\",\"yaxis\":\"y2\"}],                        {\"template\":{\"data\":{\"histogram2dcontour\":[{\"type\":\"histogram2dcontour\",\"colorbar\":{\"outlinewidth\":0,\"ticks\":\"\"},\"colorscale\":[[0.0,\"#0d0887\"],[0.1111111111111111,\"#46039f\"],[0.2222222222222222,\"#7201a8\"],[0.3333333333333333,\"#9c179e\"],[0.4444444444444444,\"#bd3786\"],[0.5555555555555556,\"#d8576b\"],[0.6666666666666666,\"#ed7953\"],[0.7777777777777778,\"#fb9f3a\"],[0.8888888888888888,\"#fdca26\"],[1.0,\"#f0f921\"]]}],\"choropleth\":[{\"type\":\"choropleth\",\"colorbar\":{\"outlinewidth\":0,\"ticks\":\"\"}}],\"histogram2d\":[{\"type\":\"histogram2d\",\"colorbar\":{\"outlinewidth\":0,\"ticks\":\"\"},\"colorscale\":[[0.0,\"#0d0887\"],[0.1111111111111111,\"#46039f\"],[0.2222222222222222,\"#7201a8\"],[0.3333333333333333,\"#9c179e\"],[0.4444444444444444,\"#bd3786\"],[0.5555555555555556,\"#d8576b\"],[0.6666666666666666,\"#ed7953\"],[0.7777777777777778,\"#fb9f3a\"],[0.8888888888888888,\"#fdca26\"],[1.0,\"#f0f921\"]]}],\"heatmap\":[{\"type\":\"heatmap\",\"colorbar\":{\"outlinewidth\":0,\"ticks\":\"\"},\"colorscale\":[[0.0,\"#0d0887\"],[0.1111111111111111,\"#46039f\"],[0.2222222222222222,\"#7201a8\"],[0.3333333333333333,\"#9c179e\"],[0.4444444444444444,\"#bd3786\"],[0.5555555555555556,\"#d8576b\"],[0.6666666666666666,\"#ed7953\"],[0.7777777777777778,\"#fb9f3a\"],[0.8888888888888888,\"#fdca26\"],[1.0,\"#f0f921\"]]}],\"heatmapgl\":[{\"type\":\"heatmapgl\",\"colorbar\":{\"outlinewidth\":0,\"ticks\":\"\"},\"colorscale\":[[0.0,\"#0d0887\"],[0.1111111111111111,\"#46039f\"],[0.2222222222222222,\"#7201a8\"],[0.3333333333333333,\"#9c179e\"],[0.4444444444444444,\"#bd3786\"],[0.5555555555555556,\"#d8576b\"],[0.6666666666666666,\"#ed7953\"],[0.7777777777777778,\"#fb9f3a\"],[0.8888888888888888,\"#fdca26\"],[1.0,\"#f0f921\"]]}],\"contourcarpet\":[{\"type\":\"contourcarpet\",\"colorbar\":{\"outlinewidth\":0,\"ticks\":\"\"}}],\"contour\":[{\"type\":\"contour\",\"colorbar\":{\"outlinewidth\":0,\"ticks\":\"\"},\"colorscale\":[[0.0,\"#0d0887\"],[0.1111111111111111,\"#46039f\"],[0.2222222222222222,\"#7201a8\"],[0.3333333333333333,\"#9c179e\"],[0.4444444444444444,\"#bd3786\"],[0.5555555555555556,\"#d8576b\"],[0.6666666666666666,\"#ed7953\"],[0.7777777777777778,\"#fb9f3a\"],[0.8888888888888888,\"#fdca26\"],[1.0,\"#f0f921\"]]}],\"surface\":[{\"type\":\"surface\",\"colorbar\":{\"outlinewidth\":0,\"ticks\":\"\"},\"colorscale\":[[0.0,\"#0d0887\"],[0.1111111111111111,\"#46039f\"],[0.2222222222222222,\"#7201a8\"],[0.3333333333333333,\"#9c179e\"],[0.4444444444444444,\"#bd3786\"],[0.5555555555555556,\"#d8576b\"],[0.6666666666666666,\"#ed7953\"],[0.7777777777777778,\"#fb9f3a\"],[0.8888888888888888,\"#fdca26\"],[1.0,\"#f0f921\"]]}],\"mesh3d\":[{\"type\":\"mesh3d\",\"colorbar\":{\"outlinewidth\":0,\"ticks\":\"\"}}],\"scatter\":[{\"fillpattern\":{\"fillmode\":\"overlay\",\"size\":10,\"solidity\":0.2},\"type\":\"scatter\"}],\"parcoords\":[{\"type\":\"parcoords\",\"line\":{\"colorbar\":{\"outlinewidth\":0,\"ticks\":\"\"}}}],\"scatterpolargl\":[{\"type\":\"scatterpolargl\",\"marker\":{\"colorbar\":{\"outlinewidth\":0,\"ticks\":\"\"}}}],\"bar\":[{\"error_x\":{\"color\":\"#2a3f5f\"},\"error_y\":{\"color\":\"#2a3f5f\"},\"marker\":{\"line\":{\"color\":\"#E5ECF6\",\"width\":0.5},\"pattern\":{\"fillmode\":\"overlay\",\"size\":10,\"solidity\":0.2}},\"type\":\"bar\"}],\"scattergeo\":[{\"type\":\"scattergeo\",\"marker\":{\"colorbar\":{\"outlinewidth\":0,\"ticks\":\"\"}}}],\"scatterpolar\":[{\"type\":\"scatterpolar\",\"marker\":{\"colorbar\":{\"outlinewidth\":0,\"ticks\":\"\"}}}],\"histogram\":[{\"marker\":{\"pattern\":{\"fillmode\":\"overlay\",\"size\":10,\"solidity\":0.2}},\"type\":\"histogram\"}],\"scattergl\":[{\"type\":\"scattergl\",\"marker\":{\"colorbar\":{\"outlinewidth\":0,\"ticks\":\"\"}}}],\"scatter3d\":[{\"type\":\"scatter3d\",\"line\":{\"colorbar\":{\"outlinewidth\":0,\"ticks\":\"\"}},\"marker\":{\"colorbar\":{\"outlinewidth\":0,\"ticks\":\"\"}}}],\"scattermapbox\":[{\"type\":\"scattermapbox\",\"marker\":{\"colorbar\":{\"outlinewidth\":0,\"ticks\":\"\"}}}],\"scatterternary\":[{\"type\":\"scatterternary\",\"marker\":{\"colorbar\":{\"outlinewidth\":0,\"ticks\":\"\"}}}],\"scattercarpet\":[{\"type\":\"scattercarpet\",\"marker\":{\"colorbar\":{\"outlinewidth\":0,\"ticks\":\"\"}}}],\"carpet\":[{\"aaxis\":{\"endlinecolor\":\"#2a3f5f\",\"gridcolor\":\"white\",\"linecolor\":\"white\",\"minorgridcolor\":\"white\",\"startlinecolor\":\"#2a3f5f\"},\"baxis\":{\"endlinecolor\":\"#2a3f5f\",\"gridcolor\":\"white\",\"linecolor\":\"white\",\"minorgridcolor\":\"white\",\"startlinecolor\":\"#2a3f5f\"},\"type\":\"carpet\"}],\"table\":[{\"cells\":{\"fill\":{\"color\":\"#EBF0F8\"},\"line\":{\"color\":\"white\"}},\"header\":{\"fill\":{\"color\":\"#C8D4E3\"},\"line\":{\"color\":\"white\"}},\"type\":\"table\"}],\"barpolar\":[{\"marker\":{\"line\":{\"color\":\"#E5ECF6\",\"width\":0.5},\"pattern\":{\"fillmode\":\"overlay\",\"size\":10,\"solidity\":0.2}},\"type\":\"barpolar\"}],\"pie\":[{\"automargin\":true,\"type\":\"pie\"}]},\"layout\":{\"autotypenumbers\":\"strict\",\"colorway\":[\"#636efa\",\"#EF553B\",\"#00cc96\",\"#ab63fa\",\"#FFA15A\",\"#19d3f3\",\"#FF6692\",\"#B6E880\",\"#FF97FF\",\"#FECB52\"],\"font\":{\"color\":\"#2a3f5f\"},\"hovermode\":\"closest\",\"hoverlabel\":{\"align\":\"left\"},\"paper_bgcolor\":\"white\",\"plot_bgcolor\":\"#E5ECF6\",\"polar\":{\"bgcolor\":\"#E5ECF6\",\"angularaxis\":{\"gridcolor\":\"white\",\"linecolor\":\"white\",\"ticks\":\"\"},\"radialaxis\":{\"gridcolor\":\"white\",\"linecolor\":\"white\",\"ticks\":\"\"}},\"ternary\":{\"bgcolor\":\"#E5ECF6\",\"aaxis\":{\"gridcolor\":\"white\",\"linecolor\":\"white\",\"ticks\":\"\"},\"baxis\":{\"gridcolor\":\"white\",\"linecolor\":\"white\",\"ticks\":\"\"},\"caxis\":{\"gridcolor\":\"white\",\"linecolor\":\"white\",\"ticks\":\"\"}},\"coloraxis\":{\"colorbar\":{\"outlinewidth\":0,\"ticks\":\"\"}},\"colorscale\":{\"sequential\":[[0.0,\"#0d0887\"],[0.1111111111111111,\"#46039f\"],[0.2222222222222222,\"#7201a8\"],[0.3333333333333333,\"#9c179e\"],[0.4444444444444444,\"#bd3786\"],[0.5555555555555556,\"#d8576b\"],[0.6666666666666666,\"#ed7953\"],[0.7777777777777778,\"#fb9f3a\"],[0.8888888888888888,\"#fdca26\"],[1.0,\"#f0f921\"]],\"sequentialminus\":[[0.0,\"#0d0887\"],[0.1111111111111111,\"#46039f\"],[0.2222222222222222,\"#7201a8\"],[0.3333333333333333,\"#9c179e\"],[0.4444444444444444,\"#bd3786\"],[0.5555555555555556,\"#d8576b\"],[0.6666666666666666,\"#ed7953\"],[0.7777777777777778,\"#fb9f3a\"],[0.8888888888888888,\"#fdca26\"],[1.0,\"#f0f921\"]],\"diverging\":[[0,\"#8e0152\"],[0.1,\"#c51b7d\"],[0.2,\"#de77ae\"],[0.3,\"#f1b6da\"],[0.4,\"#fde0ef\"],[0.5,\"#f7f7f7\"],[0.6,\"#e6f5d0\"],[0.7,\"#b8e186\"],[0.8,\"#7fbc41\"],[0.9,\"#4d9221\"],[1,\"#276419\"]]},\"xaxis\":{\"gridcolor\":\"white\",\"linecolor\":\"white\",\"ticks\":\"\",\"title\":{\"standoff\":15},\"zerolinecolor\":\"white\",\"automargin\":true,\"zerolinewidth\":2},\"yaxis\":{\"gridcolor\":\"white\",\"linecolor\":\"white\",\"ticks\":\"\",\"title\":{\"standoff\":15},\"zerolinecolor\":\"white\",\"automargin\":true,\"zerolinewidth\":2},\"scene\":{\"xaxis\":{\"backgroundcolor\":\"#E5ECF6\",\"gridcolor\":\"white\",\"linecolor\":\"white\",\"showbackground\":true,\"ticks\":\"\",\"zerolinecolor\":\"white\",\"gridwidth\":2},\"yaxis\":{\"backgroundcolor\":\"#E5ECF6\",\"gridcolor\":\"white\",\"linecolor\":\"white\",\"showbackground\":true,\"ticks\":\"\",\"zerolinecolor\":\"white\",\"gridwidth\":2},\"zaxis\":{\"backgroundcolor\":\"#E5ECF6\",\"gridcolor\":\"white\",\"linecolor\":\"white\",\"showbackground\":true,\"ticks\":\"\",\"zerolinecolor\":\"white\",\"gridwidth\":2}},\"shapedefaults\":{\"line\":{\"color\":\"#2a3f5f\"}},\"annotationdefaults\":{\"arrowcolor\":\"#2a3f5f\",\"arrowhead\":0,\"arrowwidth\":1},\"geo\":{\"bgcolor\":\"white\",\"landcolor\":\"#E5ECF6\",\"subunitcolor\":\"white\",\"showland\":true,\"showlakes\":true,\"lakecolor\":\"white\"},\"title\":{\"x\":0.05},\"mapbox\":{\"style\":\"light\"}}},\"xaxis\":{\"anchor\":\"y\",\"domain\":[0.0,1.0],\"range\":[-0.7786333330837089,0.7786333330837089]},\"yaxis\":{\"anchor\":\"x\",\"domain\":[0.55,1.0],\"showticklabels\":false,\"range\":[0,2.5]},\"xaxis2\":{\"anchor\":\"y2\",\"domain\":[0.0,1.0],\"range\":[-0.1822608688103533,0.1822608688103533]},\"yaxis2\":{\"anchor\":\"x2\",\"domain\":[0.0,0.45],\"showticklabels\":false,\"range\":[0,2.5]},\"annotations\":[{\"font\":{\"size\":16},\"showarrow\":false,\"text\":\"PC4 Cosine Similarity\",\"x\":0.5,\"xanchor\":\"center\",\"xref\":\"paper\",\"y\":1.0,\"yanchor\":\"bottom\",\"yref\":\"paper\"},{\"font\":{\"size\":16},\"showarrow\":false,\"text\":\"PC4 Normalized Projection\",\"x\":0.5,\"xanchor\":\"center\",\"xref\":\"paper\",\"y\":0.45,\"yanchor\":\"bottom\",\"yref\":\"paper\"},{\"bgcolor\":\"rgba(255, 255, 255, 0.9)\",\"bordercolor\":\"black\",\"borderwidth\":1,\"font\":{\"color\":\"black\",\"size\":10},\"showarrow\":false,\"text\":\"Exploratory\",\"x\":-0.49702392713023746,\"xref\":\"x\",\"y\":1.45,\"yref\":\"y\"},{\"bgcolor\":\"rgba(255, 255, 255, 0.9)\",\"bordercolor\":\"black\",\"borderwidth\":1,\"font\":{\"color\":\"black\",\"size\":10},\"showarrow\":false,\"text\":\"Divergent\",\"x\":-0.48488815462574,\"xref\":\"x\",\"y\":0.6,\"yref\":\"y\"},{\"bgcolor\":\"rgba(255, 255, 255, 0.9)\",\"bordercolor\":\"black\",\"borderwidth\":1,\"font\":{\"color\":\"black\",\"size\":10},\"showarrow\":false,\"text\":\"Problem solving\",\"x\":-0.4675180168106067,\"xref\":\"x\",\"y\":1.9,\"yref\":\"y\"},{\"bgcolor\":\"rgba(255, 255, 255, 0.9)\",\"bordercolor\":\"black\",\"borderwidth\":1,\"font\":{\"color\":\"black\",\"size\":10},\"showarrow\":false,\"text\":\"Irreverent\",\"x\":-0.4520188362456697,\"xref\":\"x\",\"y\":0.15,\"yref\":\"y\"},{\"bgcolor\":\"rgba(255, 255, 255, 0.9)\",\"bordercolor\":\"black\",\"borderwidth\":1,\"font\":{\"color\":\"black\",\"size\":10},\"showarrow\":false,\"text\":\"Transparent\",\"x\":-0.44073915162857924,\"xref\":\"x\",\"y\":1.6,\"yref\":\"y\"},{\"bgcolor\":\"rgba(255, 255, 255, 0.9)\",\"bordercolor\":\"black\",\"borderwidth\":1,\"font\":{\"color\":\"black\",\"size\":10},\"showarrow\":false,\"text\":\"Grounded\",\"x\":-0.4358144743350595,\"xref\":\"x\",\"y\":0.45,\"yref\":\"y\"},{\"bgcolor\":\"rgba(255, 255, 255, 0.9)\",\"bordercolor\":\"black\",\"borderwidth\":1,\"font\":{\"color\":\"black\",\"size\":10},\"showarrow\":false,\"text\":\"Proactive\",\"x\":-0.42979408609452435,\"xref\":\"x\",\"y\":1.3,\"yref\":\"y\"},{\"bgcolor\":\"rgba(255, 255, 255, 0.9)\",\"bordercolor\":\"black\",\"borderwidth\":1,\"font\":{\"color\":\"black\",\"size\":10},\"showarrow\":false,\"text\":\"Sassy\",\"x\":-0.4181378656972793,\"xref\":\"x\",\"y\":0.75,\"yref\":\"y\"},{\"bgcolor\":\"rgba(255, 255, 255, 0.9)\",\"bordercolor\":\"black\",\"borderwidth\":1,\"font\":{\"color\":\"black\",\"size\":10},\"showarrow\":false,\"text\":\"Adaptable\",\"x\":-0.40885643033514907,\"xref\":\"x\",\"y\":1.75,\"yref\":\"y\"},{\"bgcolor\":\"rgba(255, 255, 255, 0.9)\",\"bordercolor\":\"black\",\"borderwidth\":1,\"font\":{\"color\":\"black\",\"size\":10},\"showarrow\":false,\"text\":\"Analytical\",\"x\":-0.40164326669209977,\"xref\":\"x\",\"y\":0.3,\"yref\":\"y\"},{\"bgcolor\":\"rgba(255, 255, 255, 0.9)\",\"bordercolor\":\"black\",\"borderwidth\":1,\"font\":{\"color\":\"black\",\"size\":10},\"showarrow\":false,\"text\":\"Enigmatic\",\"x\":0.48555205488874353,\"xref\":\"x\",\"y\":1.45,\"yref\":\"y\"},{\"bgcolor\":\"rgba(255, 255, 255, 0.9)\",\"bordercolor\":\"black\",\"borderwidth\":1,\"font\":{\"color\":\"black\",\"size\":10},\"showarrow\":false,\"text\":\"Serene\",\"x\":0.49876544205147444,\"xref\":\"x\",\"y\":0.6,\"yref\":\"y\"},{\"bgcolor\":\"rgba(255, 255, 255, 0.9)\",\"bordercolor\":\"black\",\"borderwidth\":1,\"font\":{\"color\":\"black\",\"size\":10},\"showarrow\":false,\"text\":\"Solemn\",\"x\":0.5019139671503687,\"xref\":\"x\",\"y\":1.9,\"yref\":\"y\"},{\"bgcolor\":\"rgba(255, 255, 255, 0.9)\",\"bordercolor\":\"black\",\"borderwidth\":1,\"font\":{\"color\":\"black\",\"size\":10},\"showarrow\":false,\"text\":\"Cryptic\",\"x\":0.5246243908043747,\"xref\":\"x\",\"y\":0.15,\"yref\":\"y\"},{\"bgcolor\":\"rgba(255, 255, 255, 0.9)\",\"bordercolor\":\"black\",\"borderwidth\":1,\"font\":{\"color\":\"black\",\"size\":10},\"showarrow\":false,\"text\":\"Romantic\",\"x\":0.5370611253691404,\"xref\":\"x\",\"y\":1.6,\"yref\":\"y\"},{\"bgcolor\":\"rgba(255, 255, 255, 0.9)\",\"bordercolor\":\"black\",\"borderwidth\":1,\"font\":{\"color\":\"black\",\"size\":10},\"showarrow\":false,\"text\":\"Ethereal\",\"x\":0.5563514522449318,\"xref\":\"x\",\"y\":0.45,\"yref\":\"y\"},{\"bgcolor\":\"rgba(255, 255, 255, 0.9)\",\"bordercolor\":\"black\",\"borderwidth\":1,\"font\":{\"color\":\"black\",\"size\":10},\"showarrow\":false,\"text\":\"Idealistic\",\"x\":0.5692625651542468,\"xref\":\"x\",\"y\":1.3,\"yref\":\"y\"},{\"bgcolor\":\"rgba(255, 255, 255, 0.9)\",\"bordercolor\":\"black\",\"borderwidth\":1,\"font\":{\"color\":\"black\",\"size\":10},\"showarrow\":false,\"text\":\"Mystical\",\"x\":0.6376822735215009,\"xref\":\"x\",\"y\":0.75,\"yref\":\"y\"},{\"bgcolor\":\"rgba(255, 255, 255, 0.9)\",\"bordercolor\":\"black\",\"borderwidth\":1,\"font\":{\"color\":\"black\",\"size\":10},\"showarrow\":false,\"text\":\"Spiritual\",\"x\":0.6434624629460862,\"xref\":\"x\",\"y\":1.75,\"yref\":\"y\"},{\"bgcolor\":\"rgba(255, 255, 255, 0.9)\",\"bordercolor\":\"black\",\"borderwidth\":1,\"font\":{\"color\":\"black\",\"size\":10},\"showarrow\":false,\"text\":\"Reverent\",\"x\":0.7078484846215535,\"xref\":\"x\",\"y\":0.3,\"yref\":\"y\"},{\"bgcolor\":\"rgba(255, 255, 255, 0.9)\",\"bordercolor\":\"red\",\"borderwidth\":1,\"font\":{\"color\":\"red\",\"size\":14},\"showarrow\":false,\"text\":\"Assistant\",\"x\":-0.03449355252445144,\"xref\":\"x\",\"y\":2,\"yref\":\"y\"},{\"bgcolor\":\"rgba(255, 255, 255, 0.9)\",\"bordercolor\":\"black\",\"borderwidth\":1,\"font\":{\"color\":\"black\",\"size\":10},\"showarrow\":false,\"text\":\"Exploratory\",\"x\":-0.13198942910013697,\"xref\":\"x2\",\"y\":1.45,\"yref\":\"y2\"},{\"bgcolor\":\"rgba(255, 255, 255, 0.9)\",\"bordercolor\":\"black\",\"borderwidth\":1,\"font\":{\"color\":\"black\",\"size\":10},\"showarrow\":false,\"text\":\"Divergent\",\"x\":-0.12311506204779218,\"xref\":\"x2\",\"y\":0.6,\"yref\":\"y2\"},{\"bgcolor\":\"rgba(255, 255, 255, 0.9)\",\"bordercolor\":\"black\",\"borderwidth\":1,\"font\":{\"color\":\"black\",\"size\":10},\"showarrow\":false,\"text\":\"Educational\",\"x\":-0.12244255867400447,\"xref\":\"x2\",\"y\":1.9,\"yref\":\"y2\"},{\"bgcolor\":\"rgba(255, 255, 255, 0.9)\",\"bordercolor\":\"black\",\"borderwidth\":1,\"font\":{\"color\":\"black\",\"size\":10},\"showarrow\":false,\"text\":\"Irreverent\",\"x\":-0.12176375119046748,\"xref\":\"x2\",\"y\":0.15,\"yref\":\"y2\"},{\"bgcolor\":\"rgba(255, 255, 255, 0.9)\",\"bordercolor\":\"black\",\"borderwidth\":1,\"font\":{\"color\":\"black\",\"size\":10},\"showarrow\":false,\"text\":\"Problem solving\",\"x\":-0.11667197728046544,\"xref\":\"x2\",\"y\":1.6,\"yref\":\"y2\"},{\"bgcolor\":\"rgba(255, 255, 255, 0.9)\",\"bordercolor\":\"black\",\"borderwidth\":1,\"font\":{\"color\":\"black\",\"size\":10},\"showarrow\":false,\"text\":\"Proactive\",\"x\":-0.11590612392051224,\"xref\":\"x2\",\"y\":0.45,\"yref\":\"y2\"},{\"bgcolor\":\"rgba(255, 255, 255, 0.9)\",\"bordercolor\":\"black\",\"borderwidth\":1,\"font\":{\"color\":\"black\",\"size\":10},\"showarrow\":false,\"text\":\"Transparent\",\"x\":-0.1155962906450611,\"xref\":\"x2\",\"y\":1.3,\"yref\":\"y2\"},{\"bgcolor\":\"rgba(255, 255, 255, 0.9)\",\"bordercolor\":\"black\",\"borderwidth\":1,\"font\":{\"color\":\"black\",\"size\":10},\"showarrow\":false,\"text\":\"Analytical\",\"x\":-0.11330273088583548,\"xref\":\"x2\",\"y\":0.75,\"yref\":\"y2\"},{\"bgcolor\":\"rgba(255, 255, 255, 0.9)\",\"bordercolor\":\"black\",\"borderwidth\":1,\"font\":{\"color\":\"black\",\"size\":10},\"showarrow\":false,\"text\":\"Grounded\",\"x\":-0.11251296272287126,\"xref\":\"x2\",\"y\":1.75,\"yref\":\"y2\"},{\"bgcolor\":\"rgba(255, 255, 255, 0.9)\",\"bordercolor\":\"black\",\"borderwidth\":1,\"font\":{\"color\":\"black\",\"size\":10},\"showarrow\":false,\"text\":\"Witty\",\"x\":-0.10878563888539373,\"xref\":\"x2\",\"y\":0.3,\"yref\":\"y2\"},{\"bgcolor\":\"rgba(255, 255, 255, 0.9)\",\"bordercolor\":\"black\",\"borderwidth\":1,\"font\":{\"color\":\"black\",\"size\":10},\"showarrow\":false,\"text\":\"Meditative\",\"x\":0.1406202140600027,\"xref\":\"x2\",\"y\":1.45,\"yref\":\"y2\"},{\"bgcolor\":\"rgba(255, 255, 255, 0.9)\",\"bordercolor\":\"black\",\"borderwidth\":1,\"font\":{\"color\":\"black\",\"size\":10},\"showarrow\":false,\"text\":\"Mystical\",\"x\":0.14171184842252374,\"xref\":\"x2\",\"y\":0.6,\"yref\":\"y2\"},{\"bgcolor\":\"rgba(255, 255, 255, 0.9)\",\"bordercolor\":\"black\",\"borderwidth\":1,\"font\":{\"color\":\"black\",\"size\":10},\"showarrow\":false,\"text\":\"Enigmatic\",\"x\":0.1489237948631228,\"xref\":\"x2\",\"y\":1.9,\"yref\":\"y2\"},{\"bgcolor\":\"rgba(255, 255, 255, 0.9)\",\"bordercolor\":\"black\",\"borderwidth\":1,\"font\":{\"color\":\"black\",\"size\":10},\"showarrow\":false,\"text\":\"Romantic\",\"x\":0.1516704591693882,\"xref\":\"x2\",\"y\":0.15,\"yref\":\"y2\"},{\"bgcolor\":\"rgba(255, 255, 255, 0.9)\",\"bordercolor\":\"black\",\"borderwidth\":1,\"font\":{\"color\":\"black\",\"size\":10},\"showarrow\":false,\"text\":\"Reverent\",\"x\":0.15168986372649418,\"xref\":\"x2\",\"y\":1.6,\"yref\":\"y2\"},{\"bgcolor\":\"rgba(255, 255, 255, 0.9)\",\"bordercolor\":\"black\",\"borderwidth\":1,\"font\":{\"color\":\"black\",\"size\":10},\"showarrow\":false,\"text\":\"Solemn\",\"x\":0.15179920037362404,\"xref\":\"x2\",\"y\":0.45,\"yref\":\"y2\"},{\"bgcolor\":\"rgba(255, 255, 255, 0.9)\",\"bordercolor\":\"black\",\"borderwidth\":1,\"font\":{\"color\":\"black\",\"size\":10},\"showarrow\":false,\"text\":\"Spiritual\",\"x\":0.1540560116557845,\"xref\":\"x2\",\"y\":1.3,\"yref\":\"y2\"},{\"bgcolor\":\"rgba(255, 255, 255, 0.9)\",\"bordercolor\":\"black\",\"borderwidth\":1,\"font\":{\"color\":\"black\",\"size\":10},\"showarrow\":false,\"text\":\"Serene\",\"x\":0.16206074908335089,\"xref\":\"x2\",\"y\":0.75,\"yref\":\"y2\"},{\"bgcolor\":\"rgba(255, 255, 255, 0.9)\",\"bordercolor\":\"black\",\"borderwidth\":1,\"font\":{\"color\":\"black\",\"size\":10},\"showarrow\":false,\"text\":\"Ethereal\",\"x\":0.16270204024855672,\"xref\":\"x2\",\"y\":1.75,\"yref\":\"y2\"},{\"bgcolor\":\"rgba(255, 255, 255, 0.9)\",\"bordercolor\":\"black\",\"borderwidth\":1,\"font\":{\"color\":\"black\",\"size\":10},\"showarrow\":false,\"text\":\"Cryptic\",\"x\":0.165691698918503,\"xref\":\"x2\",\"y\":0.3,\"yref\":\"y2\"},{\"bgcolor\":\"rgba(255, 255, 255, 0.9)\",\"bordercolor\":\"red\",\"borderwidth\":1,\"font\":{\"color\":\"red\",\"size\":14},\"showarrow\":false,\"text\":\"Assistant\",\"x\":-0.01364948676512246,\"xref\":\"x2\",\"y\":2,\"yref\":\"y2\"}],\"shapes\":[{\"line\":{\"color\":\"gray\",\"dash\":\"solid\",\"width\":1},\"opacity\":0.7,\"type\":\"line\",\"x0\":0,\"x1\":0,\"xref\":\"x\",\"y0\":0,\"y1\":1,\"yref\":\"y domain\"},{\"line\":{\"color\":\"red\",\"dash\":\"dash\",\"width\":1},\"opacity\":1.0,\"type\":\"line\",\"x0\":-0.03449355252445144,\"x1\":-0.03449355252445144,\"xref\":\"x\",\"y0\":0,\"y1\":1,\"yref\":\"y domain\"},{\"line\":{\"color\":\"gray\",\"dash\":\"solid\",\"width\":1},\"opacity\":0.7,\"type\":\"line\",\"x0\":0,\"x1\":0,\"xref\":\"x2\",\"y0\":0,\"y1\":1,\"yref\":\"y2 domain\"},{\"line\":{\"color\":\"red\",\"dash\":\"dash\",\"width\":1},\"opacity\":1.0,\"type\":\"line\",\"x0\":-0.01364948676512246,\"x1\":-0.01364948676512246,\"xref\":\"x2\",\"y0\":0,\"y1\":1,\"yref\":\"y2 domain\"}],\"title\":{\"subtitle\":{\"text\":\"Gemma 2 27B Base, Layer 22 - Shared Question Set, Mean-Centered and Scaled Vectors\"},\"font\":{\"size\":16},\"text\":\"PCA on Trait Vectors\",\"x\":0.5},\"height\":800,\"width\":1200,\"showlegend\":false},                        {\"responsive\": true}                    ).then(function(){\n",
       "                            \n",
       "var gd = document.getElementById('03a1d54b-17aa-45f3-a449-096f58b057d1');\n",
       "var x = new MutationObserver(function (mutations, observer) {{\n",
       "        var display = window.getComputedStyle(gd).display;\n",
       "        if (!display || display === 'none') {{\n",
       "            console.log([gd, 'removed!']);\n",
       "            Plotly.purge(gd);\n",
       "            observer.disconnect();\n",
       "        }}\n",
       "}});\n",
       "\n",
       "// Listen for the removal of the full notebook cells\n",
       "var notebookContainer = gd.closest('#notebook-container');\n",
       "if (notebookContainer) {{\n",
       "    x.observe(notebookContainer, {childList: true});\n",
       "}}\n",
       "\n",
       "// Listen for the clearing of the current output cell\n",
       "var outputEl = gd.closest('.output');\n",
       "if (outputEl) {{\n",
       "    x.observe(outputEl, {childList: true});\n",
       "}}\n",
       "\n",
       "                        })                };                });            </script>        </div>"
      ]
     },
     "metadata": {},
     "output_type": "display_data"
    },
    {
     "data": {
      "application/vnd.plotly.v1+json": {
       "config": {
        "plotlyServerURL": "https://plot.ly"
       },
       "data": [
        {
         "hovertemplate": "<b>%{text}</b><br>Cosine Similarity: %{x:.3f}<extra></extra>",
         "marker": {
          "color": "limegreen",
          "line": {
           "color": "black",
           "width": 1
          },
          "opacity": 1,
          "size": 8,
          "symbol": "diamond"
         },
         "mode": "markers",
         "showlegend": false,
         "text": [
          "Zealous",
          "Wry",
          "Witty",
          "Whimsical",
          "Visceral",
          "Verbose",
          "Utilitarian",
          "Urgent",
          "Universalist",
          "Understated",
          "Transparent",
          "Traditional",
          "Theoretical",
          "Theatrical",
          "Temperamental",
          "Technical",
          "Tactful",
          "Systems thinker",
          "Sycophantic",
          "Supportive",
          "Subversive",
          "Submissive",
          "Structuralist",
          "Strategic",
          "Stoic",
          "Spontaneous",
          "Spiritual",
          "Speculative",
          "Specialized",
          "Solemn",
          "Socratic",
          "Skeptical",
          "Serious",
          "Serene",
          "Secular",
          "Savage",
          "Sardonic",
          "Sarcastic",
          "Romantic",
          "Ritualistic",
          "Risk taking",
          "Rhetorical",
          "Reverent",
          "Resilient",
          "Reserved",
          "Regulatory",
          "Reductionist",
          "Rebellious",
          "Reactive",
          "Rationalist",
          "Radical",
          "Quantitative",
          "Qualitative",
          "Provocative",
          "Progressive",
          "Problem solving",
          "Proactive",
          "Principled",
          "Poetic",
          "Pluralist",
          "Playful",
          "Petty",
          "Perfectionist",
          "Pensive",
          "Pedantic",
          "Patient",
          "Passive aggressive",
          "Passionate",
          "Paranoid",
          "Paradoxical",
          "Pacifist",
          "Obsessive",
          "Nurturing",
          "Nostalgic",
          "Nonchalant",
          "Nihilistic",
          "Neurotic",
          "Narrative",
          "Naive",
          "Mystical",
          "Moderate",
          "Mischievous",
          "Misanthropic",
          "Militant",
          "Meticulous",
          "Methodical",
          "Metaphorical",
          "Mercurial",
          "Melodramatic",
          "Meditative",
          "Materialist",
          "Manipulative",
          "Manic",
          "Literal",
          "Libertarian",
          "Judgmental",
          "Irreverent",
          "Ironic",
          "Intuitive",
          "Introverted",
          "Interdisciplinary",
          "Inquisitive",
          "Innovative",
          "Individualistic",
          "Independent",
          "Inclusive",
          "Impulsive",
          "Improvisational",
          "Impatient",
          "Idealistic",
          "Iconoclastic",
          "Humanistic",
          "Hostile",
          "Holistic",
          "Historical",
          "Hedonistic",
          "Grounded",
          "Gregarious",
          "Grandiose",
          "Goofy",
          "Generous",
          "Generalist",
          "Futuristic",
          "Fundamentalist",
          "Formalist",
          "Formal",
          "Forgiving",
          "Flirty",
          "Flippant",
          "Flexible",
          "Fatalistic",
          "Factual",
          "Exploratory",
          "Experiential",
          "Existentialist",
          "Evil",
          "Ethereal",
          "Essentialist",
          "Esoteric",
          "Erudite",
          "Epicurean",
          "Environmental",
          "Entertaining",
          "Enigmatic",
          "Empathetic",
          "Emotional",
          "Eloquent",
          "Elitist",
          "Egalitarian",
          "Effusive",
          "Efficient",
          "Educational",
          "Edgy",
          "Eclectic",
          "Earnest",
          "Dramatic",
          "Dogmatic",
          "Divergent",
          "Dispassionate",
          "Disorganized",
          "Diplomatic",
          "Deterministic",
          "Detached",
          "Descriptive",
          "Deontological",
          "Deferential",
          "Data driven",
          "Cynical",
          "Curious",
          "Cryptic",
          "Cruel",
          "Critical",
          "Creative",
          "Cosmopolitan",
          "Convergent",
          "Contrarian",
          "Contemporary",
          "Constructivist",
          "Conscientious",
          "Confrontational",
          "Condescending",
          "Concise",
          "Conciliatory",
          "Conceptual",
          "Competitive",
          "Collectivistic",
          "Collaborative",
          "Circumspect",
          "Chill",
          "Charismatic",
          "Chaotic",
          "Challenging",
          "Cautious",
          "Casual",
          "Calm",
          "Callous",
          "Calculating",
          "Bombastic",
          "Blunt",
          "Bitter",
          "Big picture",
          "Benevolent",
          "Avoidant",
          "Assertive",
          "Ascetic",
          "Artistic",
          "Arrogant",
          "Anthropocentric",
          "Animated",
          "Analytical",
          "Altruistic",
          "Agreeable",
          "Adventurous",
          "Adaptable",
          "Acerbic",
          "Accommodating",
          "Accessible",
          "Abstract",
          "Absolutist"
         ],
         "type": "scatter",
         "x": [
          0.15120447024163386,
          0.2326254969967026,
          0.27338202541585865,
          0.2240850309209026,
          -0.09262814618565565,
          -0.24419721458124893,
          0.1420010725155896,
          0.3059087889515536,
          0.2875070794420747,
          -0.14607762613940295,
          -0.02860933318954617,
          0.03275639820668033,
          -0.32888501629145384,
          0.09399776281964918,
          -0.11075264512576265,
          -0.01378231794385642,
          0.014397213986023364,
          -0.09150097440274801,
          -0.08324767409438902,
          0.0900460758229288,
          -0.32907603906851485,
          -0.2089282946648675,
          0.07226454578445043,
          -0.06474909192251525,
          0.21414879291413194,
          0.031178750342815913,
          -0.034028158699718696,
          -0.07962712448626197,
          0.015828296615618135,
          -0.21818099110950706,
          -0.37915801961658235,
          -0.25029769470554236,
          -0.08940564289957549,
          0.08112324420522977,
          0.12510153108472163,
          0.10166023516296883,
          0.21768786865351847,
          0.1741899337093498,
          0.023866671770185723,
          0.004916024514280179,
          0.03808817899563388,
          -0.0019216200223882468,
          -0.005264998908443834,
          0.3154836240287318,
          0.19233403461667264,
          -0.02443178271590501,
          0.1341587731729389,
          -0.13019315683579782,
          -0.08455766887352102,
          0.12979917969998234,
          -0.1674454296852624,
          0.10370286844082362,
          -0.2163811852202527,
          -0.33147344390457967,
          0.12016113123838483,
          0.21854690136351776,
          0.041356002004955296,
          0.26032681854810885,
          0.11809601238116785,
          -0.0174194040875932,
          0.28760976753096557,
          -0.1299777670630412,
          0.031587450322687616,
          -0.3446589511187851,
          -0.2957715290048401,
          0.016593389054872454,
          -0.09306695151002682,
          0.11801560864373976,
          -0.2256561802054963,
          -0.3613733199889531,
          0.15665452328613996,
          -0.29217285888360356,
          0.054540033918288815,
          -0.10884998640425422,
          -0.018733472267532653,
          -0.2517564761029209,
          -0.3693176387748602,
          -0.11734875617347343,
          0.18369097370469117,
          -0.11362815776886875,
          0.009777303354085116,
          0.3112781458147906,
          -0.1699234340193332,
          0.03380270215866202,
          -0.008859411252247765,
          0.10203631078545243,
          0.009950304503531309,
          -0.015493360879577507,
          0.10104910753764844,
          -0.22932772408685545,
          0.12094824735955509,
          -0.20629388685433472,
          0.16080668280756508,
          0.08280405458678376,
          0.06310525945132159,
          -0.04132684646882979,
          0.2408129607950227,
          0.1409820224672787,
          0.06274484136694612,
          -0.22023516416203104,
          0.06533586024764843,
          -0.31948680098937154,
          0.07004236331942494,
          -0.13947386375879453,
          -0.010579932258425741,
          -0.12962515236893485,
          0.15575271322845344,
          -0.3075671650372928,
          0.04869617764204489,
          0.18672896307154405,
          -0.20545897561711837,
          0.0023835544966367282,
          -0.015124691786647541,
          -0.10080003302160624,
          -0.1060987942786988,
          0.18403890071421566,
          0.137545923361548,
          -0.051880142470418805,
          0.18475453219577148,
          0.3230071970714556,
          -0.042963430098009445,
          0.09740198726280291,
          0.007403088514694949,
          0.07664602532140513,
          0.17826935836858573,
          -0.005056217729968903,
          -0.0437835660245503,
          0.021203059431817085,
          0.15938904908987284,
          0.04442332805558843,
          -0.2639255433917882,
          -0.18020384723525074,
          -0.20830052285323555,
          0.16083511935409014,
          0.004938405646720332,
          0.029973027489834617,
          -0.027296583888319455,
          0.17203989501693187,
          -0.10782681860383818,
          -0.1144214376500664,
          0.04557485755935376,
          0.14222194875773222,
          0.30760448643420646,
          -0.0734216907767307,
          -0.30277040882236417,
          -0.29850297525328023,
          -0.0030897588327584015,
          0.014842752556773727,
          0.20095337118606868,
          0.2072602868910907,
          0.24225587815085178,
          -0.03678246482236756,
          0.16474998409693525,
          -0.09827778457395321,
          -0.04233364038757869,
          0.04315507872110541,
          0.092749241810725,
          -0.07827872972143962,
          0.11622291084288047,
          -0.124546380588925,
          0.029672716923820723,
          -0.21586601677180012,
          0.2128354396697817,
          0.023115076234290644,
          -0.11386979610427882,
          -0.30698484029437423,
          0.12075285778541607,
          -0.21619586926954107,
          -0.22487865061841017,
          -0.0017226428980845765,
          0.0136759795875386,
          -0.3716203659245896,
          0.07378048105008683,
          0.10037047165684607,
          0.06331838732143112,
          -0.33285134882997996,
          -0.007453465745985418,
          -0.3473433175276203,
          0.03868161210205176,
          0.10240505815134011,
          -0.0002754322756652036,
          0.18931262240123664,
          0.029377459023816943,
          -0.33236687592743136,
          0.09948521349361465,
          0.14236743734997043,
          -0.02197367387142764,
          -0.3594454634102472,
          0.05793396450567279,
          0.18090495387095462,
          -0.25248477049401125,
          -0.392212371433428,
          -0.3844351025218221,
          -0.010150856803043657,
          0.0944521660791683,
          0.04144935220574535,
          0.076943841531715,
          0.1528500260398568,
          0.15921217002480068,
          -0.15076375526786603,
          -0.08503296572679109,
          0.07563509918664314,
          -0.13083240957674602,
          0.2663495702298098,
          -0.19532962326974695,
          -0.004570415154109377,
          0.18156042111354573,
          0.06879985591431094,
          0.2826636757723341,
          -0.007290945355977239,
          0.09397808234814906,
          0.006541041581063571,
          0.23289579895144788,
          -0.1185072468618281,
          0.22306552295564047,
          -0.21031136105960788,
          0.08370076819962949,
          -0.27479244816755494,
          0.23186776956440777
         ],
         "xaxis": "x",
         "y": [
          1,
          1,
          1,
          1,
          1,
          1,
          1,
          1,
          1,
          1,
          1,
          1,
          1,
          1,
          1,
          1,
          1,
          1,
          1,
          1,
          1,
          1,
          1,
          1,
          1,
          1,
          1,
          1,
          1,
          1,
          1,
          1,
          1,
          1,
          1,
          1,
          1,
          1,
          1,
          1,
          1,
          1,
          1,
          1,
          1,
          1,
          1,
          1,
          1,
          1,
          1,
          1,
          1,
          1,
          1,
          1,
          1,
          1,
          1,
          1,
          1,
          1,
          1,
          1,
          1,
          1,
          1,
          1,
          1,
          1,
          1,
          1,
          1,
          1,
          1,
          1,
          1,
          1,
          1,
          1,
          1,
          1,
          1,
          1,
          1,
          1,
          1,
          1,
          1,
          1,
          1,
          1,
          1,
          1,
          1,
          1,
          1,
          1,
          1,
          1,
          1,
          1,
          1,
          1,
          1,
          1,
          1,
          1,
          1,
          1,
          1,
          1,
          1,
          1,
          1,
          1,
          1,
          1,
          1,
          1,
          1,
          1,
          1,
          1,
          1,
          1,
          1,
          1,
          1,
          1,
          1,
          1,
          1,
          1,
          1,
          1,
          1,
          1,
          1,
          1,
          1,
          1,
          1,
          1,
          1,
          1,
          1,
          1,
          1,
          1,
          1,
          1,
          1,
          1,
          1,
          1,
          1,
          1,
          1,
          1,
          1,
          1,
          1,
          1,
          1,
          1,
          1,
          1,
          1,
          1,
          1,
          1,
          1,
          1,
          1,
          1,
          1,
          1,
          1,
          1,
          1,
          1,
          1,
          1,
          1,
          1,
          1,
          1,
          1,
          1,
          1,
          1,
          1,
          1,
          1,
          1,
          1,
          1,
          1,
          1,
          1,
          1,
          1,
          1,
          1,
          1,
          1,
          1,
          1,
          1,
          1,
          1,
          1,
          1,
          1,
          1,
          1,
          1,
          1
         ],
         "yaxis": "y"
        },
        {
         "hovertemplate": "<b>%{text}</b><br>Cosine Similarity: %{x:.3f}<extra></extra>",
         "marker": {
          "color": "limegreen",
          "line": {
           "color": "black",
           "width": 1
          },
          "opacity": 1,
          "size": 8,
          "symbol": "diamond"
         },
         "mode": "markers",
         "showlegend": false,
         "text": [
          "Stream of consciousness",
          "Sassy",
          "Relativist",
          "Prescriptive",
          "Practical",
          "Philosophical",
          "Pessimistic",
          "Optimistic",
          "Open ended",
          "Melancholic",
          "Introspective",
          "Inspirational",
          "Humble",
          "Extroverted",
          "Dominant",
          "Deconstructionist",
          "Decisive",
          "Confident",
          "Closure seeking",
          "Anxious"
         ],
         "type": "scatter",
         "x": [
          -0.40603570374758274,
          0.4627517616617746,
          -0.46666040400478637,
          0.450028352774877,
          0.3748098056199265,
          -0.4123850066840191,
          -0.3958641586125682,
          0.39978645170856525,
          -0.5683485016250263,
          -0.41878306594741277,
          -0.5212141041225948,
          0.33311080930549086,
          -0.41702913116889345,
          0.38418993050385564,
          0.3748674835387306,
          -0.39530958447506975,
          0.6055608582283374,
          0.5147548062811567,
          0.610121124766013,
          -0.41407472964404696
         ],
         "xaxis": "x",
         "y": [
          1,
          1,
          1,
          1,
          1,
          1,
          1,
          1,
          1,
          1,
          1,
          1,
          1,
          1,
          1,
          1,
          1,
          1,
          1,
          1
         ],
         "yaxis": "y"
        },
        {
         "hoverinfo": "skip",
         "line": {
          "color": "black",
          "width": 1
         },
         "mode": "lines",
         "showlegend": false,
         "type": "scatter",
         "x": [
          -0.5683485016250263,
          -0.5683485016250263
         ],
         "xaxis": "x",
         "y": [
          1,
          1.45
         ],
         "yaxis": "y"
        },
        {
         "hoverinfo": "skip",
         "line": {
          "color": "black",
          "width": 1
         },
         "mode": "lines",
         "showlegend": false,
         "type": "scatter",
         "x": [
          -0.5212141041225948,
          -0.5212141041225948
         ],
         "xaxis": "x",
         "y": [
          1,
          0.6
         ],
         "yaxis": "y"
        },
        {
         "hoverinfo": "skip",
         "line": {
          "color": "black",
          "width": 1
         },
         "mode": "lines",
         "showlegend": false,
         "type": "scatter",
         "x": [
          -0.46666040400478637,
          -0.46666040400478637
         ],
         "xaxis": "x",
         "y": [
          1,
          1.9
         ],
         "yaxis": "y"
        },
        {
         "hoverinfo": "skip",
         "line": {
          "color": "black",
          "width": 1
         },
         "mode": "lines",
         "showlegend": false,
         "type": "scatter",
         "x": [
          -0.41878306594741277,
          -0.41878306594741277
         ],
         "xaxis": "x",
         "y": [
          1,
          0.15
         ],
         "yaxis": "y"
        },
        {
         "hoverinfo": "skip",
         "line": {
          "color": "black",
          "width": 1
         },
         "mode": "lines",
         "showlegend": false,
         "type": "scatter",
         "x": [
          -0.41702913116889345,
          -0.41702913116889345
         ],
         "xaxis": "x",
         "y": [
          1,
          1.6
         ],
         "yaxis": "y"
        },
        {
         "hoverinfo": "skip",
         "line": {
          "color": "black",
          "width": 1
         },
         "mode": "lines",
         "showlegend": false,
         "type": "scatter",
         "x": [
          -0.41407472964404696,
          -0.41407472964404696
         ],
         "xaxis": "x",
         "y": [
          1,
          0.45
         ],
         "yaxis": "y"
        },
        {
         "hoverinfo": "skip",
         "line": {
          "color": "black",
          "width": 1
         },
         "mode": "lines",
         "showlegend": false,
         "type": "scatter",
         "x": [
          -0.4123850066840191,
          -0.4123850066840191
         ],
         "xaxis": "x",
         "y": [
          1,
          1.3
         ],
         "yaxis": "y"
        },
        {
         "hoverinfo": "skip",
         "line": {
          "color": "black",
          "width": 1
         },
         "mode": "lines",
         "showlegend": false,
         "type": "scatter",
         "x": [
          -0.40603570374758274,
          -0.40603570374758274
         ],
         "xaxis": "x",
         "y": [
          1,
          0.75
         ],
         "yaxis": "y"
        },
        {
         "hoverinfo": "skip",
         "line": {
          "color": "black",
          "width": 1
         },
         "mode": "lines",
         "showlegend": false,
         "type": "scatter",
         "x": [
          -0.3958641586125682,
          -0.3958641586125682
         ],
         "xaxis": "x",
         "y": [
          1,
          1.75
         ],
         "yaxis": "y"
        },
        {
         "hoverinfo": "skip",
         "line": {
          "color": "black",
          "width": 1
         },
         "mode": "lines",
         "showlegend": false,
         "type": "scatter",
         "x": [
          -0.39530958447506975,
          -0.39530958447506975
         ],
         "xaxis": "x",
         "y": [
          1,
          0.3
         ],
         "yaxis": "y"
        },
        {
         "hoverinfo": "skip",
         "line": {
          "color": "black",
          "width": 1
         },
         "mode": "lines",
         "showlegend": false,
         "type": "scatter",
         "x": [
          0.33311080930549086,
          0.33311080930549086
         ],
         "xaxis": "x",
         "y": [
          1,
          1.45
         ],
         "yaxis": "y"
        },
        {
         "hoverinfo": "skip",
         "line": {
          "color": "black",
          "width": 1
         },
         "mode": "lines",
         "showlegend": false,
         "type": "scatter",
         "x": [
          0.3748098056199265,
          0.3748098056199265
         ],
         "xaxis": "x",
         "y": [
          1,
          0.6
         ],
         "yaxis": "y"
        },
        {
         "hoverinfo": "skip",
         "line": {
          "color": "black",
          "width": 1
         },
         "mode": "lines",
         "showlegend": false,
         "type": "scatter",
         "x": [
          0.3748674835387306,
          0.3748674835387306
         ],
         "xaxis": "x",
         "y": [
          1,
          1.9
         ],
         "yaxis": "y"
        },
        {
         "hoverinfo": "skip",
         "line": {
          "color": "black",
          "width": 1
         },
         "mode": "lines",
         "showlegend": false,
         "type": "scatter",
         "x": [
          0.38418993050385564,
          0.38418993050385564
         ],
         "xaxis": "x",
         "y": [
          1,
          0.15
         ],
         "yaxis": "y"
        },
        {
         "hoverinfo": "skip",
         "line": {
          "color": "black",
          "width": 1
         },
         "mode": "lines",
         "showlegend": false,
         "type": "scatter",
         "x": [
          0.39978645170856525,
          0.39978645170856525
         ],
         "xaxis": "x",
         "y": [
          1,
          1.6
         ],
         "yaxis": "y"
        },
        {
         "hoverinfo": "skip",
         "line": {
          "color": "black",
          "width": 1
         },
         "mode": "lines",
         "showlegend": false,
         "type": "scatter",
         "x": [
          0.450028352774877,
          0.450028352774877
         ],
         "xaxis": "x",
         "y": [
          1,
          0.45
         ],
         "yaxis": "y"
        },
        {
         "hoverinfo": "skip",
         "line": {
          "color": "black",
          "width": 1
         },
         "mode": "lines",
         "showlegend": false,
         "type": "scatter",
         "x": [
          0.4627517616617746,
          0.4627517616617746
         ],
         "xaxis": "x",
         "y": [
          1,
          1.3
         ],
         "yaxis": "y"
        },
        {
         "hoverinfo": "skip",
         "line": {
          "color": "black",
          "width": 1
         },
         "mode": "lines",
         "showlegend": false,
         "type": "scatter",
         "x": [
          0.5147548062811567,
          0.5147548062811567
         ],
         "xaxis": "x",
         "y": [
          1,
          0.75
         ],
         "yaxis": "y"
        },
        {
         "hoverinfo": "skip",
         "line": {
          "color": "black",
          "width": 1
         },
         "mode": "lines",
         "showlegend": false,
         "type": "scatter",
         "x": [
          0.6055608582283374,
          0.6055608582283374
         ],
         "xaxis": "x",
         "y": [
          1,
          1.75
         ],
         "yaxis": "y"
        },
        {
         "hoverinfo": "skip",
         "line": {
          "color": "black",
          "width": 1
         },
         "mode": "lines",
         "showlegend": false,
         "type": "scatter",
         "x": [
          0.610121124766013,
          0.610121124766013
         ],
         "xaxis": "x",
         "y": [
          1,
          0.3
         ],
         "yaxis": "y"
        },
        {
         "hoverinfo": "skip",
         "marker": {
          "color": "limegreen"
         },
         "opacity": 0.7,
         "showlegend": false,
         "type": "bar",
         "width": 0.03142585670376104,
         "x": [
          -0.5487073411851756,
          -0.5094250203054743,
          -0.470142699425773,
          -0.4308603785460717,
          -0.3915780576663704,
          -0.35229573678666903,
          -0.31301341590696774,
          -0.27373109502726645,
          -0.23444877414756515,
          -0.19516645326786386,
          -0.15588413238816254,
          -0.11660181150846122,
          -0.0773194906287599,
          -0.038037169749058575,
          0.0012451511306427188,
          0.04052747201034401,
          0.0798097928900453,
          0.1190921137697466,
          0.1583744346494479,
          0.1976567555291492,
          0.23693907640885054,
          0.2762213972885519,
          0.3155037181682532,
          0.35478603904795447,
          0.39406835992765576,
          0.4333506808073571,
          0.47263300168705846,
          0.5119153225667598,
          0.551197643446461,
          0.5904799643261623
         ],
         "xaxis": "x",
         "y": [
          0.03214285714285714,
          0.03214285714285714,
          0.03214285714285714,
          0.12857142857142856,
          0.19285714285714284,
          0.225,
          0.32142857142857145,
          0.09642857142857142,
          0.3857142857142857,
          0.225,
          0.16071428571428573,
          0.5142857142857142,
          0.3535714285714286,
          0.3857142857142857,
          0.9,
          0.6428571428571429,
          0.6428571428571429,
          0.5464285714285714,
          0.48214285714285715,
          0.41785714285714287,
          0.2892857142857143,
          0.19285714285714284,
          0.19285714285714284,
          0,
          0.12857142857142856,
          0.03214285714285714,
          0.03214285714285714,
          0.03214285714285714,
          0,
          0.06428571428571428
         ],
         "yaxis": "y"
        },
        {
         "hovertemplate": "<b>%{text}</b><br>Normalized Projection: %{x:.3f}<extra></extra>",
         "marker": {
          "color": "limegreen",
          "line": {
           "color": "black",
           "width": 1
          },
          "opacity": 1,
          "size": 8,
          "symbol": "diamond"
         },
         "mode": "markers",
         "showlegend": false,
         "text": [
          "Zealous",
          "Wry",
          "Witty",
          "Whimsical",
          "Visceral",
          "Verbose",
          "Utilitarian",
          "Urgent",
          "Universalist",
          "Understated",
          "Transparent",
          "Traditional",
          "Theoretical",
          "Theatrical",
          "Temperamental",
          "Technical",
          "Tactful",
          "Systems thinker",
          "Sycophantic",
          "Supportive",
          "Subversive",
          "Submissive",
          "Structuralist",
          "Stream of consciousness",
          "Strategic",
          "Stoic",
          "Spontaneous",
          "Spiritual",
          "Speculative",
          "Specialized",
          "Solemn",
          "Skeptical",
          "Serious",
          "Serene",
          "Secular",
          "Savage",
          "Sardonic",
          "Sarcastic",
          "Romantic",
          "Ritualistic",
          "Risk taking",
          "Rhetorical",
          "Reverent",
          "Reserved",
          "Regulatory",
          "Reductionist",
          "Rebellious",
          "Reactive",
          "Rationalist",
          "Radical",
          "Quantitative",
          "Qualitative",
          "Provocative",
          "Progressive",
          "Problem solving",
          "Proactive",
          "Principled",
          "Poetic",
          "Pluralist",
          "Playful",
          "Philosophical",
          "Petty",
          "Pessimistic",
          "Perfectionist",
          "Pedantic",
          "Patient",
          "Passive aggressive",
          "Passionate",
          "Paranoid",
          "Paradoxical",
          "Pacifist",
          "Obsessive",
          "Nurturing",
          "Nostalgic",
          "Nonchalant",
          "Nihilistic",
          "Narrative",
          "Naive",
          "Mystical",
          "Moderate",
          "Mischievous",
          "Misanthropic",
          "Militant",
          "Meticulous",
          "Methodical",
          "Metaphorical",
          "Mercurial",
          "Melodramatic",
          "Meditative",
          "Materialist",
          "Manipulative",
          "Manic",
          "Literal",
          "Libertarian",
          "Judgmental",
          "Irreverent",
          "Ironic",
          "Intuitive",
          "Introverted",
          "Interdisciplinary",
          "Innovative",
          "Individualistic",
          "Independent",
          "Inclusive",
          "Impulsive",
          "Improvisational",
          "Impatient",
          "Idealistic",
          "Iconoclastic",
          "Humanistic",
          "Hostile",
          "Holistic",
          "Historical",
          "Hedonistic",
          "Grounded",
          "Gregarious",
          "Grandiose",
          "Generous",
          "Generalist",
          "Futuristic",
          "Fundamentalist",
          "Formalist",
          "Formal",
          "Forgiving",
          "Flirty",
          "Flippant",
          "Flexible",
          "Fatalistic",
          "Factual",
          "Extroverted",
          "Exploratory",
          "Experiential",
          "Existentialist",
          "Evil",
          "Ethereal",
          "Essentialist",
          "Esoteric",
          "Erudite",
          "Epicurean",
          "Environmental",
          "Entertaining",
          "Enigmatic",
          "Empathetic",
          "Emotional",
          "Eloquent",
          "Elitist",
          "Egalitarian",
          "Effusive",
          "Efficient",
          "Educational",
          "Edgy",
          "Eclectic",
          "Earnest",
          "Dramatic",
          "Dominant",
          "Dogmatic",
          "Divergent",
          "Dispassionate",
          "Disorganized",
          "Diplomatic",
          "Deterministic",
          "Detached",
          "Descriptive",
          "Deontological",
          "Deferential",
          "Deconstructionist",
          "Data driven",
          "Cynical",
          "Curious",
          "Cryptic",
          "Cruel",
          "Critical",
          "Creative",
          "Cosmopolitan",
          "Convergent",
          "Contrarian",
          "Contemporary",
          "Constructivist",
          "Conscientious",
          "Confrontational",
          "Condescending",
          "Concise",
          "Conciliatory",
          "Conceptual",
          "Competitive",
          "Collectivistic",
          "Collaborative",
          "Circumspect",
          "Chill",
          "Charismatic",
          "Chaotic",
          "Challenging",
          "Cautious",
          "Casual",
          "Calm",
          "Callous",
          "Calculating",
          "Bombastic",
          "Blunt",
          "Bitter",
          "Big picture",
          "Benevolent",
          "Avoidant",
          "Assertive",
          "Ascetic",
          "Artistic",
          "Arrogant",
          "Anthropocentric",
          "Animated",
          "Analytical",
          "Altruistic",
          "Agreeable",
          "Adventurous",
          "Adaptable",
          "Acerbic",
          "Accommodating",
          "Accessible",
          "Abstract",
          "Absolutist"
         ],
         "type": "scatter",
         "x": [
          0.05101098095543882,
          0.08527737601876406,
          0.10341096348582576,
          0.08424203414197465,
          -0.02977027468926189,
          -0.07721057698549366,
          0.026138601348872977,
          0.08090495003063583,
          0.053053469810810286,
          -0.05580811377112972,
          -0.010153491314795872,
          0.009346674730312159,
          -0.07524890620839675,
          0.03824515911132488,
          -0.04217093895046177,
          -0.004478811700518832,
          0.004725603397413776,
          -0.020433781051696985,
          -0.03702772582972872,
          0.03799748942039112,
          -0.07824509970109342,
          -0.08054236018237566,
          0.02267747371077094,
          -0.11077700485574324,
          -0.0302728730419955,
          0.06408167377468536,
          0.008837417446532055,
          -0.011024002238872,
          -0.015264154109154163,
          0.004702170957311418,
          -0.089289934686074,
          -0.061498201301353535,
          -0.03784683601882928,
          0.03566746102243322,
          0.03277699317800067,
          0.033135969282151095,
          0.08369497335197566,
          0.0596227322320705,
          0.009120413619151228,
          0.0016823741140659131,
          0.007500531651486231,
          -0.0005861527025770288,
          -0.0015267217721063543,
          0.07121470735065545,
          -0.007262877957596092,
          0.03373446191310007,
          -0.02956670040690936,
          -0.03374548325321844,
          0.03709413212292302,
          -0.04512051836922443,
          0.03563070631422923,
          -0.06483616825810531,
          -0.06873950620685226,
          0.021239308746216646,
          0.07380032136923273,
          0.01509141239813969,
          0.04285071341837831,
          0.07355334402324387,
          -0.004173443119743266,
          0.09856883189750983,
          -0.10663265891930418,
          -0.042505118290181144,
          -0.09391263148479641,
          0.009220035307906523,
          -0.07334319126754778,
          0.007634135167106751,
          -0.03377518711651624,
          0.03404810137882247,
          -0.061733961425720636,
          -0.07372752408878372,
          0.02606615141214967,
          -0.06325503599867775,
          0.022772136334171206,
          -0.025300971189058545,
          -0.009098529952399632,
          -0.09825105475019828,
          -0.042862733406303914,
          0.07828823772617055,
          -0.03416907113967474,
          0.003871595288112075,
          0.11204276345987922,
          -0.06319632581742265,
          0.011491634152033964,
          -0.0033876490065020454,
          0.041451689801183515,
          0.0037323922989606524,
          -0.005080789172586037,
          0.03912274535682517,
          -0.09996933412297548,
          0.026022553686424286,
          -0.06333932707549284,
          0.06358413377909833,
          0.028704676903473524,
          0.011929386521295365,
          -0.012068554389675502,
          0.0877782126877891,
          0.05894073113605924,
          0.014198002848345043,
          -0.0748936758611447,
          0.013710208484250027,
          0.01451357818655422,
          -0.019521930474761497,
          -0.0025959552567827917,
          -0.029855900857969173,
          0.08081803939743117,
          -0.08408950124220725,
          0.0221174743386539,
          0.04171893388279999,
          -0.044407944031505504,
          0.0005657395232050035,
          -0.006354109100934383,
          -0.027549995769302133,
          -0.02348663228479948,
          0.05585378065817205,
          0.04805006990507799,
          -0.014791055982515287,
          0.05958109087505561,
          -0.019163433208305238,
          0.03098063802478991,
          0.0015673929550049299,
          0.023171648515573653,
          0.04339896140989292,
          -0.002030815858010053,
          -0.006925427779368209,
          0.008158344641494387,
          0.07200510122777048,
          0.01594441164648673,
          -0.08343682314019704,
          -0.062053601623957004,
          0.08566196449817154,
          -0.07485099972734843,
          0.037379596697484904,
          0.0014756831232352811,
          0.011260091467741453,
          -0.010801833436550692,
          0.038527622705913256,
          -0.03912728183709322,
          -0.039014000286056824,
          0.010550283051395498,
          0.031247312884690577,
          0.10505440974020068,
          -0.030471797113952363,
          -0.07642912893709851,
          -0.08317677733590717,
          -0.001265605476972235,
          0.004537529130298279,
          0.05072919691311431,
          0.07301499032186062,
          0.08848091127025906,
          -0.017070940833371562,
          0.055145646718686714,
          -0.020809631837961383,
          -0.017742147398572234,
          0.016203668069610693,
          0.09156801093247871,
          0.032954436557457716,
          -0.026894208781808263,
          0.04313481046808452,
          -0.049578963443832086,
          0.010299860314906978,
          -0.06408489412570074,
          0.06745000758968282,
          0.0064860300367826475,
          -0.01993776757420203,
          -0.08446367750563945,
          -0.10078985597517887,
          0.03325716388373523,
          -0.0555098579550884,
          -0.07290252389281421,
          -0.0007361949971286734,
          0.005071205144183185,
          -0.08686810468947827,
          0.018371431783361116,
          0.029489761646725676,
          0.011815797581752746,
          -0.071539677938181,
          -0.001584662747196253,
          -0.06931989165128606,
          0.02018508927175461,
          0.022138667568082023,
          -0.00008294119239593904,
          0.07983949598625477,
          0.011610253586093902,
          -0.07592295218159102,
          0.03017666997328742,
          0.029803368860327983,
          -0.004810834506399545,
          -0.10516379174969587,
          0.022726579522461078,
          0.06690557149543537,
          -0.051319960127015625,
          -0.09097111455857794,
          -0.10201511949200229,
          -0.003623930048491873,
          0.041587182628765124,
          0.015729467210454005,
          0.022714282595324146,
          0.06446267844984084,
          0.04520252665712626,
          -0.05342947128785324,
          -0.01708280206373858,
          0.025352302582656056,
          -0.061785366363687165,
          0.050309450841366045,
          -0.05281663999399861,
          -0.00146546071958976,
          0.056045601240983754,
          0.011200806556272033,
          0.10916537650011686,
          -0.0027831019540797497,
          0.02675167729760254,
          0.0022690574971449937,
          0.05202138356027882,
          -0.03235551794548847,
          0.07763669760905181,
          -0.039545959127868235,
          0.03288179579903001,
          -0.05847996258960904,
          0.04608457518349308
         ],
         "xaxis": "x2",
         "y": [
          1,
          1,
          1,
          1,
          1,
          1,
          1,
          1,
          1,
          1,
          1,
          1,
          1,
          1,
          1,
          1,
          1,
          1,
          1,
          1,
          1,
          1,
          1,
          1,
          1,
          1,
          1,
          1,
          1,
          1,
          1,
          1,
          1,
          1,
          1,
          1,
          1,
          1,
          1,
          1,
          1,
          1,
          1,
          1,
          1,
          1,
          1,
          1,
          1,
          1,
          1,
          1,
          1,
          1,
          1,
          1,
          1,
          1,
          1,
          1,
          1,
          1,
          1,
          1,
          1,
          1,
          1,
          1,
          1,
          1,
          1,
          1,
          1,
          1,
          1,
          1,
          1,
          1,
          1,
          1,
          1,
          1,
          1,
          1,
          1,
          1,
          1,
          1,
          1,
          1,
          1,
          1,
          1,
          1,
          1,
          1,
          1,
          1,
          1,
          1,
          1,
          1,
          1,
          1,
          1,
          1,
          1,
          1,
          1,
          1,
          1,
          1,
          1,
          1,
          1,
          1,
          1,
          1,
          1,
          1,
          1,
          1,
          1,
          1,
          1,
          1,
          1,
          1,
          1,
          1,
          1,
          1,
          1,
          1,
          1,
          1,
          1,
          1,
          1,
          1,
          1,
          1,
          1,
          1,
          1,
          1,
          1,
          1,
          1,
          1,
          1,
          1,
          1,
          1,
          1,
          1,
          1,
          1,
          1,
          1,
          1,
          1,
          1,
          1,
          1,
          1,
          1,
          1,
          1,
          1,
          1,
          1,
          1,
          1,
          1,
          1,
          1,
          1,
          1,
          1,
          1,
          1,
          1,
          1,
          1,
          1,
          1,
          1,
          1,
          1,
          1,
          1,
          1,
          1,
          1,
          1,
          1,
          1,
          1,
          1,
          1,
          1,
          1,
          1,
          1,
          1,
          1,
          1,
          1,
          1,
          1,
          1,
          1,
          1,
          1,
          1,
          1,
          1,
          1
         ],
         "yaxis": "y2"
        },
        {
         "hovertemplate": "<b>%{text}</b><br>Normalized Projection: %{x:.3f}<extra></extra>",
         "marker": {
          "color": "limegreen",
          "line": {
           "color": "black",
           "width": 1
          },
          "opacity": 1,
          "size": 8,
          "symbol": "diamond"
         },
         "mode": "markers",
         "showlegend": false,
         "text": [
          "Socratic",
          "Sassy",
          "Resilient",
          "Relativist",
          "Prescriptive",
          "Practical",
          "Pensive",
          "Optimistic",
          "Open ended",
          "Neurotic",
          "Melancholic",
          "Introspective",
          "Inspirational",
          "Inquisitive",
          "Humble",
          "Goofy",
          "Decisive",
          "Confident",
          "Closure seeking",
          "Anxious"
         ],
         "type": "scatter",
         "x": [
          -0.14538524560647828,
          0.1480537037775262,
          0.14165917171132056,
          -0.13785533260518948,
          0.12561675991826643,
          0.11412745957841965,
          -0.1380880723317179,
          0.12467980928188219,
          -0.12813522366382143,
          -0.17347187277225137,
          -0.14848834084699616,
          -0.16725038607032935,
          0.140236703439811,
          -0.13118304742264988,
          -0.12195056752453909,
          0.13706434155439004,
          0.17806591689730036,
          0.13082957445442042,
          0.16294297991054577,
          -0.1891100067795868
         ],
         "xaxis": "x2",
         "y": [
          1,
          1,
          1,
          1,
          1,
          1,
          1,
          1,
          1,
          1,
          1,
          1,
          1,
          1,
          1,
          1,
          1,
          1,
          1,
          1
         ],
         "yaxis": "y2"
        },
        {
         "hoverinfo": "skip",
         "line": {
          "color": "black",
          "width": 1
         },
         "mode": "lines",
         "showlegend": false,
         "type": "scatter",
         "x": [
          -0.1891100067795868,
          -0.1891100067795868
         ],
         "xaxis": "x2",
         "y": [
          1,
          1.45
         ],
         "yaxis": "y2"
        },
        {
         "hoverinfo": "skip",
         "line": {
          "color": "black",
          "width": 1
         },
         "mode": "lines",
         "showlegend": false,
         "type": "scatter",
         "x": [
          -0.17347187277225137,
          -0.17347187277225137
         ],
         "xaxis": "x2",
         "y": [
          1,
          0.6
         ],
         "yaxis": "y2"
        },
        {
         "hoverinfo": "skip",
         "line": {
          "color": "black",
          "width": 1
         },
         "mode": "lines",
         "showlegend": false,
         "type": "scatter",
         "x": [
          -0.16725038607032935,
          -0.16725038607032935
         ],
         "xaxis": "x2",
         "y": [
          1,
          1.9
         ],
         "yaxis": "y2"
        },
        {
         "hoverinfo": "skip",
         "line": {
          "color": "black",
          "width": 1
         },
         "mode": "lines",
         "showlegend": false,
         "type": "scatter",
         "x": [
          -0.14848834084699616,
          -0.14848834084699616
         ],
         "xaxis": "x2",
         "y": [
          1,
          0.15
         ],
         "yaxis": "y2"
        },
        {
         "hoverinfo": "skip",
         "line": {
          "color": "black",
          "width": 1
         },
         "mode": "lines",
         "showlegend": false,
         "type": "scatter",
         "x": [
          -0.14538524560647828,
          -0.14538524560647828
         ],
         "xaxis": "x2",
         "y": [
          1,
          1.6
         ],
         "yaxis": "y2"
        },
        {
         "hoverinfo": "skip",
         "line": {
          "color": "black",
          "width": 1
         },
         "mode": "lines",
         "showlegend": false,
         "type": "scatter",
         "x": [
          -0.1380880723317179,
          -0.1380880723317179
         ],
         "xaxis": "x2",
         "y": [
          1,
          0.45
         ],
         "yaxis": "y2"
        },
        {
         "hoverinfo": "skip",
         "line": {
          "color": "black",
          "width": 1
         },
         "mode": "lines",
         "showlegend": false,
         "type": "scatter",
         "x": [
          -0.13785533260518948,
          -0.13785533260518948
         ],
         "xaxis": "x2",
         "y": [
          1,
          1.3
         ],
         "yaxis": "y2"
        },
        {
         "hoverinfo": "skip",
         "line": {
          "color": "black",
          "width": 1
         },
         "mode": "lines",
         "showlegend": false,
         "type": "scatter",
         "x": [
          -0.13118304742264988,
          -0.13118304742264988
         ],
         "xaxis": "x2",
         "y": [
          1,
          0.75
         ],
         "yaxis": "y2"
        },
        {
         "hoverinfo": "skip",
         "line": {
          "color": "black",
          "width": 1
         },
         "mode": "lines",
         "showlegend": false,
         "type": "scatter",
         "x": [
          -0.12813522366382143,
          -0.12813522366382143
         ],
         "xaxis": "x2",
         "y": [
          1,
          1.75
         ],
         "yaxis": "y2"
        },
        {
         "hoverinfo": "skip",
         "line": {
          "color": "black",
          "width": 1
         },
         "mode": "lines",
         "showlegend": false,
         "type": "scatter",
         "x": [
          -0.12195056752453909,
          -0.12195056752453909
         ],
         "xaxis": "x2",
         "y": [
          1,
          0.3
         ],
         "yaxis": "y2"
        },
        {
         "hoverinfo": "skip",
         "line": {
          "color": "black",
          "width": 1
         },
         "mode": "lines",
         "showlegend": false,
         "type": "scatter",
         "x": [
          0.11412745957841965,
          0.11412745957841965
         ],
         "xaxis": "x2",
         "y": [
          1,
          1.45
         ],
         "yaxis": "y2"
        },
        {
         "hoverinfo": "skip",
         "line": {
          "color": "black",
          "width": 1
         },
         "mode": "lines",
         "showlegend": false,
         "type": "scatter",
         "x": [
          0.12467980928188219,
          0.12467980928188219
         ],
         "xaxis": "x2",
         "y": [
          1,
          0.6
         ],
         "yaxis": "y2"
        },
        {
         "hoverinfo": "skip",
         "line": {
          "color": "black",
          "width": 1
         },
         "mode": "lines",
         "showlegend": false,
         "type": "scatter",
         "x": [
          0.12561675991826643,
          0.12561675991826643
         ],
         "xaxis": "x2",
         "y": [
          1,
          1.9
         ],
         "yaxis": "y2"
        },
        {
         "hoverinfo": "skip",
         "line": {
          "color": "black",
          "width": 1
         },
         "mode": "lines",
         "showlegend": false,
         "type": "scatter",
         "x": [
          0.13082957445442042,
          0.13082957445442042
         ],
         "xaxis": "x2",
         "y": [
          1,
          0.15
         ],
         "yaxis": "y2"
        },
        {
         "hoverinfo": "skip",
         "line": {
          "color": "black",
          "width": 1
         },
         "mode": "lines",
         "showlegend": false,
         "type": "scatter",
         "x": [
          0.13706434155439004,
          0.13706434155439004
         ],
         "xaxis": "x2",
         "y": [
          1,
          1.6
         ],
         "yaxis": "y2"
        },
        {
         "hoverinfo": "skip",
         "line": {
          "color": "black",
          "width": 1
         },
         "mode": "lines",
         "showlegend": false,
         "type": "scatter",
         "x": [
          0.140236703439811,
          0.140236703439811
         ],
         "xaxis": "x2",
         "y": [
          1,
          0.45
         ],
         "yaxis": "y2"
        },
        {
         "hoverinfo": "skip",
         "line": {
          "color": "black",
          "width": 1
         },
         "mode": "lines",
         "showlegend": false,
         "type": "scatter",
         "x": [
          0.14165917171132056,
          0.14165917171132056
         ],
         "xaxis": "x2",
         "y": [
          1,
          1.3
         ],
         "yaxis": "y2"
        },
        {
         "hoverinfo": "skip",
         "line": {
          "color": "black",
          "width": 1
         },
         "mode": "lines",
         "showlegend": false,
         "type": "scatter",
         "x": [
          0.1480537037775262,
          0.1480537037775262
         ],
         "xaxis": "x2",
         "y": [
          1,
          0.75
         ],
         "yaxis": "y2"
        },
        {
         "hoverinfo": "skip",
         "line": {
          "color": "black",
          "width": 1
         },
         "mode": "lines",
         "showlegend": false,
         "type": "scatter",
         "x": [
          0.16294297991054577,
          0.16294297991054577
         ],
         "xaxis": "x2",
         "y": [
          1,
          1.75
         ],
         "yaxis": "y2"
        },
        {
         "hoverinfo": "skip",
         "line": {
          "color": "black",
          "width": 1
         },
         "mode": "lines",
         "showlegend": false,
         "type": "scatter",
         "x": [
          0.17806591689730036,
          0.17806591689730036
         ],
         "xaxis": "x2",
         "y": [
          1,
          0.3
         ],
         "yaxis": "y2"
        },
        {
         "hoverinfo": "skip",
         "marker": {
          "color": "limegreen"
         },
         "opacity": 0.7,
         "showlegend": false,
         "type": "bar",
         "width": 0.009791357964716996,
         "x": [
          -0.1829904080516387,
          -0.17075121059574244,
          -0.1585120131398462,
          -0.14627281568394998,
          -0.13403361822805374,
          -0.12179442077215749,
          -0.10955522331626125,
          -0.09731602586036502,
          -0.08507682840446877,
          -0.07283763094857254,
          -0.060598433492676296,
          -0.04835923603678005,
          -0.036120038580883806,
          -0.023880841124987576,
          -0.011641643669091345,
          0.0005975537868048997,
          0.012836751242701144,
          0.02507594869859739,
          0.03731514615449362,
          0.04955434361038985,
          0.061793541066286095,
          0.07403273852218234,
          0.08627193597807858,
          0.09851113343397483,
          0.11075033088987107,
          0.12298952834576732,
          0.13522872580166354,
          0.14746792325755975,
          0.159707120713456,
          0.17194631816935224
         ],
         "xaxis": "x2",
         "y": [
          0.03214285714285714,
          0.06428571428571428,
          0,
          0.06428571428571428,
          0.12857142857142856,
          0.03214285714285714,
          0.09642857142857142,
          0.16071428571428573,
          0.2571428571428571,
          0.41785714285714287,
          0.3857142857142857,
          0.2571428571428571,
          0.3857142857142857,
          0.3857142857142857,
          0.41785714285714287,
          0.9,
          0.7392857142857143,
          0.6107142857142858,
          0.7071428571428572,
          0.2892857142857143,
          0.32142857142857145,
          0.2571428571428571,
          0.2892857142857143,
          0.06428571428571428,
          0.12857142857142856,
          0.06428571428571428,
          0.09642857142857142,
          0.06428571428571428,
          0.03214285714285714,
          0.03214285714285714
         ],
         "yaxis": "y2"
        }
       ],
       "layout": {
        "annotations": [
         {
          "font": {
           "size": 16
          },
          "showarrow": false,
          "text": "PC5 Cosine Similarity",
          "x": 0.5,
          "xanchor": "center",
          "xref": "paper",
          "y": 1,
          "yanchor": "bottom",
          "yref": "paper"
         },
         {
          "font": {
           "size": 16
          },
          "showarrow": false,
          "text": "PC5 Normalized Projection",
          "x": 0.5,
          "xanchor": "center",
          "xref": "paper",
          "y": 0.45,
          "yanchor": "bottom",
          "yref": "paper"
         },
         {
          "bgcolor": "rgba(255, 255, 255, 0.9)",
          "bordercolor": "black",
          "borderwidth": 1,
          "font": {
           "color": "black",
           "size": 10
          },
          "showarrow": false,
          "text": "Open ended",
          "x": -0.5683485016250263,
          "xref": "x",
          "y": 1.45,
          "yref": "y"
         },
         {
          "bgcolor": "rgba(255, 255, 255, 0.9)",
          "bordercolor": "black",
          "borderwidth": 1,
          "font": {
           "color": "black",
           "size": 10
          },
          "showarrow": false,
          "text": "Introspective",
          "x": -0.5212141041225948,
          "xref": "x",
          "y": 0.6,
          "yref": "y"
         },
         {
          "bgcolor": "rgba(255, 255, 255, 0.9)",
          "bordercolor": "black",
          "borderwidth": 1,
          "font": {
           "color": "black",
           "size": 10
          },
          "showarrow": false,
          "text": "Relativist",
          "x": -0.46666040400478637,
          "xref": "x",
          "y": 1.9,
          "yref": "y"
         },
         {
          "bgcolor": "rgba(255, 255, 255, 0.9)",
          "bordercolor": "black",
          "borderwidth": 1,
          "font": {
           "color": "black",
           "size": 10
          },
          "showarrow": false,
          "text": "Melancholic",
          "x": -0.41878306594741277,
          "xref": "x",
          "y": 0.15,
          "yref": "y"
         },
         {
          "bgcolor": "rgba(255, 255, 255, 0.9)",
          "bordercolor": "black",
          "borderwidth": 1,
          "font": {
           "color": "black",
           "size": 10
          },
          "showarrow": false,
          "text": "Humble",
          "x": -0.41702913116889345,
          "xref": "x",
          "y": 1.6,
          "yref": "y"
         },
         {
          "bgcolor": "rgba(255, 255, 255, 0.9)",
          "bordercolor": "black",
          "borderwidth": 1,
          "font": {
           "color": "black",
           "size": 10
          },
          "showarrow": false,
          "text": "Anxious",
          "x": -0.41407472964404696,
          "xref": "x",
          "y": 0.45,
          "yref": "y"
         },
         {
          "bgcolor": "rgba(255, 255, 255, 0.9)",
          "bordercolor": "black",
          "borderwidth": 1,
          "font": {
           "color": "black",
           "size": 10
          },
          "showarrow": false,
          "text": "Philosophical",
          "x": -0.4123850066840191,
          "xref": "x",
          "y": 1.3,
          "yref": "y"
         },
         {
          "bgcolor": "rgba(255, 255, 255, 0.9)",
          "bordercolor": "black",
          "borderwidth": 1,
          "font": {
           "color": "black",
           "size": 10
          },
          "showarrow": false,
          "text": "Stream of consciousness",
          "x": -0.40603570374758274,
          "xref": "x",
          "y": 0.75,
          "yref": "y"
         },
         {
          "bgcolor": "rgba(255, 255, 255, 0.9)",
          "bordercolor": "black",
          "borderwidth": 1,
          "font": {
           "color": "black",
           "size": 10
          },
          "showarrow": false,
          "text": "Pessimistic",
          "x": -0.3958641586125682,
          "xref": "x",
          "y": 1.75,
          "yref": "y"
         },
         {
          "bgcolor": "rgba(255, 255, 255, 0.9)",
          "bordercolor": "black",
          "borderwidth": 1,
          "font": {
           "color": "black",
           "size": 10
          },
          "showarrow": false,
          "text": "Deconstructionist",
          "x": -0.39530958447506975,
          "xref": "x",
          "y": 0.3,
          "yref": "y"
         },
         {
          "bgcolor": "rgba(255, 255, 255, 0.9)",
          "bordercolor": "black",
          "borderwidth": 1,
          "font": {
           "color": "black",
           "size": 10
          },
          "showarrow": false,
          "text": "Inspirational",
          "x": 0.33311080930549086,
          "xref": "x",
          "y": 1.45,
          "yref": "y"
         },
         {
          "bgcolor": "rgba(255, 255, 255, 0.9)",
          "bordercolor": "black",
          "borderwidth": 1,
          "font": {
           "color": "black",
           "size": 10
          },
          "showarrow": false,
          "text": "Practical",
          "x": 0.3748098056199265,
          "xref": "x",
          "y": 0.6,
          "yref": "y"
         },
         {
          "bgcolor": "rgba(255, 255, 255, 0.9)",
          "bordercolor": "black",
          "borderwidth": 1,
          "font": {
           "color": "black",
           "size": 10
          },
          "showarrow": false,
          "text": "Dominant",
          "x": 0.3748674835387306,
          "xref": "x",
          "y": 1.9,
          "yref": "y"
         },
         {
          "bgcolor": "rgba(255, 255, 255, 0.9)",
          "bordercolor": "black",
          "borderwidth": 1,
          "font": {
           "color": "black",
           "size": 10
          },
          "showarrow": false,
          "text": "Extroverted",
          "x": 0.38418993050385564,
          "xref": "x",
          "y": 0.15,
          "yref": "y"
         },
         {
          "bgcolor": "rgba(255, 255, 255, 0.9)",
          "bordercolor": "black",
          "borderwidth": 1,
          "font": {
           "color": "black",
           "size": 10
          },
          "showarrow": false,
          "text": "Optimistic",
          "x": 0.39978645170856525,
          "xref": "x",
          "y": 1.6,
          "yref": "y"
         },
         {
          "bgcolor": "rgba(255, 255, 255, 0.9)",
          "bordercolor": "black",
          "borderwidth": 1,
          "font": {
           "color": "black",
           "size": 10
          },
          "showarrow": false,
          "text": "Prescriptive",
          "x": 0.450028352774877,
          "xref": "x",
          "y": 0.45,
          "yref": "y"
         },
         {
          "bgcolor": "rgba(255, 255, 255, 0.9)",
          "bordercolor": "black",
          "borderwidth": 1,
          "font": {
           "color": "black",
           "size": 10
          },
          "showarrow": false,
          "text": "Sassy",
          "x": 0.4627517616617746,
          "xref": "x",
          "y": 1.3,
          "yref": "y"
         },
         {
          "bgcolor": "rgba(255, 255, 255, 0.9)",
          "bordercolor": "black",
          "borderwidth": 1,
          "font": {
           "color": "black",
           "size": 10
          },
          "showarrow": false,
          "text": "Confident",
          "x": 0.5147548062811567,
          "xref": "x",
          "y": 0.75,
          "yref": "y"
         },
         {
          "bgcolor": "rgba(255, 255, 255, 0.9)",
          "bordercolor": "black",
          "borderwidth": 1,
          "font": {
           "color": "black",
           "size": 10
          },
          "showarrow": false,
          "text": "Decisive",
          "x": 0.6055608582283374,
          "xref": "x",
          "y": 1.75,
          "yref": "y"
         },
         {
          "bgcolor": "rgba(255, 255, 255, 0.9)",
          "bordercolor": "black",
          "borderwidth": 1,
          "font": {
           "color": "black",
           "size": 10
          },
          "showarrow": false,
          "text": "Closure seeking",
          "x": 0.610121124766013,
          "xref": "x",
          "y": 0.3,
          "yref": "y"
         },
         {
          "bgcolor": "rgba(255, 255, 255, 0.9)",
          "bordercolor": "red",
          "borderwidth": 1,
          "font": {
           "color": "red",
           "size": 14
          },
          "showarrow": false,
          "text": "Assistant",
          "x": -0.015364067616466932,
          "xref": "x",
          "y": 2,
          "yref": "y"
         },
         {
          "bgcolor": "rgba(255, 255, 255, 0.9)",
          "bordercolor": "black",
          "borderwidth": 1,
          "font": {
           "color": "black",
           "size": 10
          },
          "showarrow": false,
          "text": "Anxious",
          "x": -0.1891100067795868,
          "xref": "x2",
          "y": 1.45,
          "yref": "y2"
         },
         {
          "bgcolor": "rgba(255, 255, 255, 0.9)",
          "bordercolor": "black",
          "borderwidth": 1,
          "font": {
           "color": "black",
           "size": 10
          },
          "showarrow": false,
          "text": "Neurotic",
          "x": -0.17347187277225137,
          "xref": "x2",
          "y": 0.6,
          "yref": "y2"
         },
         {
          "bgcolor": "rgba(255, 255, 255, 0.9)",
          "bordercolor": "black",
          "borderwidth": 1,
          "font": {
           "color": "black",
           "size": 10
          },
          "showarrow": false,
          "text": "Introspective",
          "x": -0.16725038607032935,
          "xref": "x2",
          "y": 1.9,
          "yref": "y2"
         },
         {
          "bgcolor": "rgba(255, 255, 255, 0.9)",
          "bordercolor": "black",
          "borderwidth": 1,
          "font": {
           "color": "black",
           "size": 10
          },
          "showarrow": false,
          "text": "Melancholic",
          "x": -0.14848834084699616,
          "xref": "x2",
          "y": 0.15,
          "yref": "y2"
         },
         {
          "bgcolor": "rgba(255, 255, 255, 0.9)",
          "bordercolor": "black",
          "borderwidth": 1,
          "font": {
           "color": "black",
           "size": 10
          },
          "showarrow": false,
          "text": "Socratic",
          "x": -0.14538524560647828,
          "xref": "x2",
          "y": 1.6,
          "yref": "y2"
         },
         {
          "bgcolor": "rgba(255, 255, 255, 0.9)",
          "bordercolor": "black",
          "borderwidth": 1,
          "font": {
           "color": "black",
           "size": 10
          },
          "showarrow": false,
          "text": "Pensive",
          "x": -0.1380880723317179,
          "xref": "x2",
          "y": 0.45,
          "yref": "y2"
         },
         {
          "bgcolor": "rgba(255, 255, 255, 0.9)",
          "bordercolor": "black",
          "borderwidth": 1,
          "font": {
           "color": "black",
           "size": 10
          },
          "showarrow": false,
          "text": "Relativist",
          "x": -0.13785533260518948,
          "xref": "x2",
          "y": 1.3,
          "yref": "y2"
         },
         {
          "bgcolor": "rgba(255, 255, 255, 0.9)",
          "bordercolor": "black",
          "borderwidth": 1,
          "font": {
           "color": "black",
           "size": 10
          },
          "showarrow": false,
          "text": "Inquisitive",
          "x": -0.13118304742264988,
          "xref": "x2",
          "y": 0.75,
          "yref": "y2"
         },
         {
          "bgcolor": "rgba(255, 255, 255, 0.9)",
          "bordercolor": "black",
          "borderwidth": 1,
          "font": {
           "color": "black",
           "size": 10
          },
          "showarrow": false,
          "text": "Open ended",
          "x": -0.12813522366382143,
          "xref": "x2",
          "y": 1.75,
          "yref": "y2"
         },
         {
          "bgcolor": "rgba(255, 255, 255, 0.9)",
          "bordercolor": "black",
          "borderwidth": 1,
          "font": {
           "color": "black",
           "size": 10
          },
          "showarrow": false,
          "text": "Humble",
          "x": -0.12195056752453909,
          "xref": "x2",
          "y": 0.3,
          "yref": "y2"
         },
         {
          "bgcolor": "rgba(255, 255, 255, 0.9)",
          "bordercolor": "black",
          "borderwidth": 1,
          "font": {
           "color": "black",
           "size": 10
          },
          "showarrow": false,
          "text": "Practical",
          "x": 0.11412745957841965,
          "xref": "x2",
          "y": 1.45,
          "yref": "y2"
         },
         {
          "bgcolor": "rgba(255, 255, 255, 0.9)",
          "bordercolor": "black",
          "borderwidth": 1,
          "font": {
           "color": "black",
           "size": 10
          },
          "showarrow": false,
          "text": "Optimistic",
          "x": 0.12467980928188219,
          "xref": "x2",
          "y": 0.6,
          "yref": "y2"
         },
         {
          "bgcolor": "rgba(255, 255, 255, 0.9)",
          "bordercolor": "black",
          "borderwidth": 1,
          "font": {
           "color": "black",
           "size": 10
          },
          "showarrow": false,
          "text": "Prescriptive",
          "x": 0.12561675991826643,
          "xref": "x2",
          "y": 1.9,
          "yref": "y2"
         },
         {
          "bgcolor": "rgba(255, 255, 255, 0.9)",
          "bordercolor": "black",
          "borderwidth": 1,
          "font": {
           "color": "black",
           "size": 10
          },
          "showarrow": false,
          "text": "Confident",
          "x": 0.13082957445442042,
          "xref": "x2",
          "y": 0.15,
          "yref": "y2"
         },
         {
          "bgcolor": "rgba(255, 255, 255, 0.9)",
          "bordercolor": "black",
          "borderwidth": 1,
          "font": {
           "color": "black",
           "size": 10
          },
          "showarrow": false,
          "text": "Goofy",
          "x": 0.13706434155439004,
          "xref": "x2",
          "y": 1.6,
          "yref": "y2"
         },
         {
          "bgcolor": "rgba(255, 255, 255, 0.9)",
          "bordercolor": "black",
          "borderwidth": 1,
          "font": {
           "color": "black",
           "size": 10
          },
          "showarrow": false,
          "text": "Inspirational",
          "x": 0.140236703439811,
          "xref": "x2",
          "y": 0.45,
          "yref": "y2"
         },
         {
          "bgcolor": "rgba(255, 255, 255, 0.9)",
          "bordercolor": "black",
          "borderwidth": 1,
          "font": {
           "color": "black",
           "size": 10
          },
          "showarrow": false,
          "text": "Resilient",
          "x": 0.14165917171132056,
          "xref": "x2",
          "y": 1.3,
          "yref": "y2"
         },
         {
          "bgcolor": "rgba(255, 255, 255, 0.9)",
          "bordercolor": "black",
          "borderwidth": 1,
          "font": {
           "color": "black",
           "size": 10
          },
          "showarrow": false,
          "text": "Sassy",
          "x": 0.1480537037775262,
          "xref": "x2",
          "y": 0.75,
          "yref": "y2"
         },
         {
          "bgcolor": "rgba(255, 255, 255, 0.9)",
          "bordercolor": "black",
          "borderwidth": 1,
          "font": {
           "color": "black",
           "size": 10
          },
          "showarrow": false,
          "text": "Closure seeking",
          "x": 0.16294297991054577,
          "xref": "x2",
          "y": 1.75,
          "yref": "y2"
         },
         {
          "bgcolor": "rgba(255, 255, 255, 0.9)",
          "bordercolor": "black",
          "borderwidth": 1,
          "font": {
           "color": "black",
           "size": 10
          },
          "showarrow": false,
          "text": "Decisive",
          "x": 0.17806591689730036,
          "xref": "x2",
          "y": 0.3,
          "yref": "y2"
         },
         {
          "bgcolor": "rgba(255, 255, 255, 0.9)",
          "bordercolor": "red",
          "borderwidth": 1,
          "font": {
           "color": "red",
           "size": 14
          },
          "showarrow": false,
          "text": "Assistant",
          "x": -0.008227270006008537,
          "xref": "x2",
          "y": 2,
          "yref": "y2"
         }
        ],
        "height": 800,
        "shapes": [
         {
          "line": {
           "color": "gray",
           "dash": "solid",
           "width": 1
          },
          "opacity": 0.7,
          "type": "line",
          "x0": 0,
          "x1": 0,
          "xref": "x",
          "y0": 0,
          "y1": 1,
          "yref": "y domain"
         },
         {
          "line": {
           "color": "red",
           "dash": "dash",
           "width": 1
          },
          "opacity": 1,
          "type": "line",
          "x0": -0.015364067616466932,
          "x1": -0.015364067616466932,
          "xref": "x",
          "y0": 0,
          "y1": 1,
          "yref": "y domain"
         },
         {
          "line": {
           "color": "gray",
           "dash": "solid",
           "width": 1
          },
          "opacity": 0.7,
          "type": "line",
          "x0": 0,
          "x1": 0,
          "xref": "x2",
          "y0": 0,
          "y1": 1,
          "yref": "y2 domain"
         },
         {
          "line": {
           "color": "red",
           "dash": "dash",
           "width": 1
          },
          "opacity": 1,
          "type": "line",
          "x0": -0.008227270006008537,
          "x1": -0.008227270006008537,
          "xref": "x2",
          "y0": 0,
          "y1": 1,
          "yref": "y2 domain"
         }
        ],
        "showlegend": false,
        "template": {
         "data": {
          "bar": [
           {
            "error_x": {
             "color": "#2a3f5f"
            },
            "error_y": {
             "color": "#2a3f5f"
            },
            "marker": {
             "line": {
              "color": "#E5ECF6",
              "width": 0.5
             },
             "pattern": {
              "fillmode": "overlay",
              "size": 10,
              "solidity": 0.2
             }
            },
            "type": "bar"
           }
          ],
          "barpolar": [
           {
            "marker": {
             "line": {
              "color": "#E5ECF6",
              "width": 0.5
             },
             "pattern": {
              "fillmode": "overlay",
              "size": 10,
              "solidity": 0.2
             }
            },
            "type": "barpolar"
           }
          ],
          "carpet": [
           {
            "aaxis": {
             "endlinecolor": "#2a3f5f",
             "gridcolor": "white",
             "linecolor": "white",
             "minorgridcolor": "white",
             "startlinecolor": "#2a3f5f"
            },
            "baxis": {
             "endlinecolor": "#2a3f5f",
             "gridcolor": "white",
             "linecolor": "white",
             "minorgridcolor": "white",
             "startlinecolor": "#2a3f5f"
            },
            "type": "carpet"
           }
          ],
          "choropleth": [
           {
            "colorbar": {
             "outlinewidth": 0,
             "ticks": ""
            },
            "type": "choropleth"
           }
          ],
          "contour": [
           {
            "colorbar": {
             "outlinewidth": 0,
             "ticks": ""
            },
            "colorscale": [
             [
              0,
              "#0d0887"
             ],
             [
              0.1111111111111111,
              "#46039f"
             ],
             [
              0.2222222222222222,
              "#7201a8"
             ],
             [
              0.3333333333333333,
              "#9c179e"
             ],
             [
              0.4444444444444444,
              "#bd3786"
             ],
             [
              0.5555555555555556,
              "#d8576b"
             ],
             [
              0.6666666666666666,
              "#ed7953"
             ],
             [
              0.7777777777777778,
              "#fb9f3a"
             ],
             [
              0.8888888888888888,
              "#fdca26"
             ],
             [
              1,
              "#f0f921"
             ]
            ],
            "type": "contour"
           }
          ],
          "contourcarpet": [
           {
            "colorbar": {
             "outlinewidth": 0,
             "ticks": ""
            },
            "type": "contourcarpet"
           }
          ],
          "heatmap": [
           {
            "colorbar": {
             "outlinewidth": 0,
             "ticks": ""
            },
            "colorscale": [
             [
              0,
              "#0d0887"
             ],
             [
              0.1111111111111111,
              "#46039f"
             ],
             [
              0.2222222222222222,
              "#7201a8"
             ],
             [
              0.3333333333333333,
              "#9c179e"
             ],
             [
              0.4444444444444444,
              "#bd3786"
             ],
             [
              0.5555555555555556,
              "#d8576b"
             ],
             [
              0.6666666666666666,
              "#ed7953"
             ],
             [
              0.7777777777777778,
              "#fb9f3a"
             ],
             [
              0.8888888888888888,
              "#fdca26"
             ],
             [
              1,
              "#f0f921"
             ]
            ],
            "type": "heatmap"
           }
          ],
          "heatmapgl": [
           {
            "colorbar": {
             "outlinewidth": 0,
             "ticks": ""
            },
            "colorscale": [
             [
              0,
              "#0d0887"
             ],
             [
              0.1111111111111111,
              "#46039f"
             ],
             [
              0.2222222222222222,
              "#7201a8"
             ],
             [
              0.3333333333333333,
              "#9c179e"
             ],
             [
              0.4444444444444444,
              "#bd3786"
             ],
             [
              0.5555555555555556,
              "#d8576b"
             ],
             [
              0.6666666666666666,
              "#ed7953"
             ],
             [
              0.7777777777777778,
              "#fb9f3a"
             ],
             [
              0.8888888888888888,
              "#fdca26"
             ],
             [
              1,
              "#f0f921"
             ]
            ],
            "type": "heatmapgl"
           }
          ],
          "histogram": [
           {
            "marker": {
             "pattern": {
              "fillmode": "overlay",
              "size": 10,
              "solidity": 0.2
             }
            },
            "type": "histogram"
           }
          ],
          "histogram2d": [
           {
            "colorbar": {
             "outlinewidth": 0,
             "ticks": ""
            },
            "colorscale": [
             [
              0,
              "#0d0887"
             ],
             [
              0.1111111111111111,
              "#46039f"
             ],
             [
              0.2222222222222222,
              "#7201a8"
             ],
             [
              0.3333333333333333,
              "#9c179e"
             ],
             [
              0.4444444444444444,
              "#bd3786"
             ],
             [
              0.5555555555555556,
              "#d8576b"
             ],
             [
              0.6666666666666666,
              "#ed7953"
             ],
             [
              0.7777777777777778,
              "#fb9f3a"
             ],
             [
              0.8888888888888888,
              "#fdca26"
             ],
             [
              1,
              "#f0f921"
             ]
            ],
            "type": "histogram2d"
           }
          ],
          "histogram2dcontour": [
           {
            "colorbar": {
             "outlinewidth": 0,
             "ticks": ""
            },
            "colorscale": [
             [
              0,
              "#0d0887"
             ],
             [
              0.1111111111111111,
              "#46039f"
             ],
             [
              0.2222222222222222,
              "#7201a8"
             ],
             [
              0.3333333333333333,
              "#9c179e"
             ],
             [
              0.4444444444444444,
              "#bd3786"
             ],
             [
              0.5555555555555556,
              "#d8576b"
             ],
             [
              0.6666666666666666,
              "#ed7953"
             ],
             [
              0.7777777777777778,
              "#fb9f3a"
             ],
             [
              0.8888888888888888,
              "#fdca26"
             ],
             [
              1,
              "#f0f921"
             ]
            ],
            "type": "histogram2dcontour"
           }
          ],
          "mesh3d": [
           {
            "colorbar": {
             "outlinewidth": 0,
             "ticks": ""
            },
            "type": "mesh3d"
           }
          ],
          "parcoords": [
           {
            "line": {
             "colorbar": {
              "outlinewidth": 0,
              "ticks": ""
             }
            },
            "type": "parcoords"
           }
          ],
          "pie": [
           {
            "automargin": true,
            "type": "pie"
           }
          ],
          "scatter": [
           {
            "fillpattern": {
             "fillmode": "overlay",
             "size": 10,
             "solidity": 0.2
            },
            "type": "scatter"
           }
          ],
          "scatter3d": [
           {
            "line": {
             "colorbar": {
              "outlinewidth": 0,
              "ticks": ""
             }
            },
            "marker": {
             "colorbar": {
              "outlinewidth": 0,
              "ticks": ""
             }
            },
            "type": "scatter3d"
           }
          ],
          "scattercarpet": [
           {
            "marker": {
             "colorbar": {
              "outlinewidth": 0,
              "ticks": ""
             }
            },
            "type": "scattercarpet"
           }
          ],
          "scattergeo": [
           {
            "marker": {
             "colorbar": {
              "outlinewidth": 0,
              "ticks": ""
             }
            },
            "type": "scattergeo"
           }
          ],
          "scattergl": [
           {
            "marker": {
             "colorbar": {
              "outlinewidth": 0,
              "ticks": ""
             }
            },
            "type": "scattergl"
           }
          ],
          "scattermapbox": [
           {
            "marker": {
             "colorbar": {
              "outlinewidth": 0,
              "ticks": ""
             }
            },
            "type": "scattermapbox"
           }
          ],
          "scatterpolar": [
           {
            "marker": {
             "colorbar": {
              "outlinewidth": 0,
              "ticks": ""
             }
            },
            "type": "scatterpolar"
           }
          ],
          "scatterpolargl": [
           {
            "marker": {
             "colorbar": {
              "outlinewidth": 0,
              "ticks": ""
             }
            },
            "type": "scatterpolargl"
           }
          ],
          "scatterternary": [
           {
            "marker": {
             "colorbar": {
              "outlinewidth": 0,
              "ticks": ""
             }
            },
            "type": "scatterternary"
           }
          ],
          "surface": [
           {
            "colorbar": {
             "outlinewidth": 0,
             "ticks": ""
            },
            "colorscale": [
             [
              0,
              "#0d0887"
             ],
             [
              0.1111111111111111,
              "#46039f"
             ],
             [
              0.2222222222222222,
              "#7201a8"
             ],
             [
              0.3333333333333333,
              "#9c179e"
             ],
             [
              0.4444444444444444,
              "#bd3786"
             ],
             [
              0.5555555555555556,
              "#d8576b"
             ],
             [
              0.6666666666666666,
              "#ed7953"
             ],
             [
              0.7777777777777778,
              "#fb9f3a"
             ],
             [
              0.8888888888888888,
              "#fdca26"
             ],
             [
              1,
              "#f0f921"
             ]
            ],
            "type": "surface"
           }
          ],
          "table": [
           {
            "cells": {
             "fill": {
              "color": "#EBF0F8"
             },
             "line": {
              "color": "white"
             }
            },
            "header": {
             "fill": {
              "color": "#C8D4E3"
             },
             "line": {
              "color": "white"
             }
            },
            "type": "table"
           }
          ]
         },
         "layout": {
          "annotationdefaults": {
           "arrowcolor": "#2a3f5f",
           "arrowhead": 0,
           "arrowwidth": 1
          },
          "autotypenumbers": "strict",
          "coloraxis": {
           "colorbar": {
            "outlinewidth": 0,
            "ticks": ""
           }
          },
          "colorscale": {
           "diverging": [
            [
             0,
             "#8e0152"
            ],
            [
             0.1,
             "#c51b7d"
            ],
            [
             0.2,
             "#de77ae"
            ],
            [
             0.3,
             "#f1b6da"
            ],
            [
             0.4,
             "#fde0ef"
            ],
            [
             0.5,
             "#f7f7f7"
            ],
            [
             0.6,
             "#e6f5d0"
            ],
            [
             0.7,
             "#b8e186"
            ],
            [
             0.8,
             "#7fbc41"
            ],
            [
             0.9,
             "#4d9221"
            ],
            [
             1,
             "#276419"
            ]
           ],
           "sequential": [
            [
             0,
             "#0d0887"
            ],
            [
             0.1111111111111111,
             "#46039f"
            ],
            [
             0.2222222222222222,
             "#7201a8"
            ],
            [
             0.3333333333333333,
             "#9c179e"
            ],
            [
             0.4444444444444444,
             "#bd3786"
            ],
            [
             0.5555555555555556,
             "#d8576b"
            ],
            [
             0.6666666666666666,
             "#ed7953"
            ],
            [
             0.7777777777777778,
             "#fb9f3a"
            ],
            [
             0.8888888888888888,
             "#fdca26"
            ],
            [
             1,
             "#f0f921"
            ]
           ],
           "sequentialminus": [
            [
             0,
             "#0d0887"
            ],
            [
             0.1111111111111111,
             "#46039f"
            ],
            [
             0.2222222222222222,
             "#7201a8"
            ],
            [
             0.3333333333333333,
             "#9c179e"
            ],
            [
             0.4444444444444444,
             "#bd3786"
            ],
            [
             0.5555555555555556,
             "#d8576b"
            ],
            [
             0.6666666666666666,
             "#ed7953"
            ],
            [
             0.7777777777777778,
             "#fb9f3a"
            ],
            [
             0.8888888888888888,
             "#fdca26"
            ],
            [
             1,
             "#f0f921"
            ]
           ]
          },
          "colorway": [
           "#636efa",
           "#EF553B",
           "#00cc96",
           "#ab63fa",
           "#FFA15A",
           "#19d3f3",
           "#FF6692",
           "#B6E880",
           "#FF97FF",
           "#FECB52"
          ],
          "font": {
           "color": "#2a3f5f"
          },
          "geo": {
           "bgcolor": "white",
           "lakecolor": "white",
           "landcolor": "#E5ECF6",
           "showlakes": true,
           "showland": true,
           "subunitcolor": "white"
          },
          "hoverlabel": {
           "align": "left"
          },
          "hovermode": "closest",
          "mapbox": {
           "style": "light"
          },
          "paper_bgcolor": "white",
          "plot_bgcolor": "#E5ECF6",
          "polar": {
           "angularaxis": {
            "gridcolor": "white",
            "linecolor": "white",
            "ticks": ""
           },
           "bgcolor": "#E5ECF6",
           "radialaxis": {
            "gridcolor": "white",
            "linecolor": "white",
            "ticks": ""
           }
          },
          "scene": {
           "xaxis": {
            "backgroundcolor": "#E5ECF6",
            "gridcolor": "white",
            "gridwidth": 2,
            "linecolor": "white",
            "showbackground": true,
            "ticks": "",
            "zerolinecolor": "white"
           },
           "yaxis": {
            "backgroundcolor": "#E5ECF6",
            "gridcolor": "white",
            "gridwidth": 2,
            "linecolor": "white",
            "showbackground": true,
            "ticks": "",
            "zerolinecolor": "white"
           },
           "zaxis": {
            "backgroundcolor": "#E5ECF6",
            "gridcolor": "white",
            "gridwidth": 2,
            "linecolor": "white",
            "showbackground": true,
            "ticks": "",
            "zerolinecolor": "white"
           }
          },
          "shapedefaults": {
           "line": {
            "color": "#2a3f5f"
           }
          },
          "ternary": {
           "aaxis": {
            "gridcolor": "white",
            "linecolor": "white",
            "ticks": ""
           },
           "baxis": {
            "gridcolor": "white",
            "linecolor": "white",
            "ticks": ""
           },
           "bgcolor": "#E5ECF6",
           "caxis": {
            "gridcolor": "white",
            "linecolor": "white",
            "ticks": ""
           }
          },
          "title": {
           "x": 0.05
          },
          "xaxis": {
           "automargin": true,
           "gridcolor": "white",
           "linecolor": "white",
           "ticks": "",
           "title": {
            "standoff": 15
           },
           "zerolinecolor": "white",
           "zerolinewidth": 2
          },
          "yaxis": {
           "automargin": true,
           "gridcolor": "white",
           "linecolor": "white",
           "ticks": "",
           "title": {
            "standoff": 15
           },
           "zerolinecolor": "white",
           "zerolinewidth": 2
          }
         }
        },
        "title": {
         "font": {
          "size": 16
         },
         "subtitle": {
          "text": "Gemma 2 27B Base, Layer 22 - Shared Question Set, Mean-Centered and Scaled Vectors"
         },
         "text": "PCA on Trait Vectors",
         "x": 0.5
        },
        "width": 1200,
        "xaxis": {
         "anchor": "y",
         "domain": [
          0,
          1
         ],
         "range": [
          -0.6711332372426143,
          0.6711332372426143
         ]
        },
        "xaxis2": {
         "anchor": "y2",
         "domain": [
          0,
          1
         ],
         "range": [
          -0.2080210074575455,
          0.2080210074575455
         ]
        },
        "yaxis": {
         "anchor": "x",
         "domain": [
          0.55,
          1
         ],
         "range": [
          0,
          2.5
         ],
         "showticklabels": false
        },
        "yaxis2": {
         "anchor": "x2",
         "domain": [
          0,
          0.45
         ],
         "range": [
          0,
          2.5
         ],
         "showticklabels": false
        }
       }
      },
      "text/html": [
       "<div>                            <div id=\"d6e0f5bc-f12a-4060-ba18-bc46ae5a2141\" class=\"plotly-graph-div\" style=\"height:800px; width:1200px;\"></div>            <script type=\"text/javascript\">                require([\"plotly\"], function(Plotly) {                    window.PLOTLYENV=window.PLOTLYENV || {};                                    if (document.getElementById(\"d6e0f5bc-f12a-4060-ba18-bc46ae5a2141\")) {                    Plotly.newPlot(                        \"d6e0f5bc-f12a-4060-ba18-bc46ae5a2141\",                        [{\"hovertemplate\":\"\\u003cb\\u003e%{text}\\u003c\\u002fb\\u003e\\u003cbr\\u003eCosine Similarity: %{x:.3f}\\u003cextra\\u003e\\u003c\\u002fextra\\u003e\",\"marker\":{\"color\":\"limegreen\",\"line\":{\"color\":\"black\",\"width\":1},\"opacity\":1.0,\"size\":8,\"symbol\":\"diamond\"},\"mode\":\"markers\",\"showlegend\":false,\"text\":[\"Zealous\",\"Wry\",\"Witty\",\"Whimsical\",\"Visceral\",\"Verbose\",\"Utilitarian\",\"Urgent\",\"Universalist\",\"Understated\",\"Transparent\",\"Traditional\",\"Theoretical\",\"Theatrical\",\"Temperamental\",\"Technical\",\"Tactful\",\"Systems thinker\",\"Sycophantic\",\"Supportive\",\"Subversive\",\"Submissive\",\"Structuralist\",\"Strategic\",\"Stoic\",\"Spontaneous\",\"Spiritual\",\"Speculative\",\"Specialized\",\"Solemn\",\"Socratic\",\"Skeptical\",\"Serious\",\"Serene\",\"Secular\",\"Savage\",\"Sardonic\",\"Sarcastic\",\"Romantic\",\"Ritualistic\",\"Risk taking\",\"Rhetorical\",\"Reverent\",\"Resilient\",\"Reserved\",\"Regulatory\",\"Reductionist\",\"Rebellious\",\"Reactive\",\"Rationalist\",\"Radical\",\"Quantitative\",\"Qualitative\",\"Provocative\",\"Progressive\",\"Problem solving\",\"Proactive\",\"Principled\",\"Poetic\",\"Pluralist\",\"Playful\",\"Petty\",\"Perfectionist\",\"Pensive\",\"Pedantic\",\"Patient\",\"Passive aggressive\",\"Passionate\",\"Paranoid\",\"Paradoxical\",\"Pacifist\",\"Obsessive\",\"Nurturing\",\"Nostalgic\",\"Nonchalant\",\"Nihilistic\",\"Neurotic\",\"Narrative\",\"Naive\",\"Mystical\",\"Moderate\",\"Mischievous\",\"Misanthropic\",\"Militant\",\"Meticulous\",\"Methodical\",\"Metaphorical\",\"Mercurial\",\"Melodramatic\",\"Meditative\",\"Materialist\",\"Manipulative\",\"Manic\",\"Literal\",\"Libertarian\",\"Judgmental\",\"Irreverent\",\"Ironic\",\"Intuitive\",\"Introverted\",\"Interdisciplinary\",\"Inquisitive\",\"Innovative\",\"Individualistic\",\"Independent\",\"Inclusive\",\"Impulsive\",\"Improvisational\",\"Impatient\",\"Idealistic\",\"Iconoclastic\",\"Humanistic\",\"Hostile\",\"Holistic\",\"Historical\",\"Hedonistic\",\"Grounded\",\"Gregarious\",\"Grandiose\",\"Goofy\",\"Generous\",\"Generalist\",\"Futuristic\",\"Fundamentalist\",\"Formalist\",\"Formal\",\"Forgiving\",\"Flirty\",\"Flippant\",\"Flexible\",\"Fatalistic\",\"Factual\",\"Exploratory\",\"Experiential\",\"Existentialist\",\"Evil\",\"Ethereal\",\"Essentialist\",\"Esoteric\",\"Erudite\",\"Epicurean\",\"Environmental\",\"Entertaining\",\"Enigmatic\",\"Empathetic\",\"Emotional\",\"Eloquent\",\"Elitist\",\"Egalitarian\",\"Effusive\",\"Efficient\",\"Educational\",\"Edgy\",\"Eclectic\",\"Earnest\",\"Dramatic\",\"Dogmatic\",\"Divergent\",\"Dispassionate\",\"Disorganized\",\"Diplomatic\",\"Deterministic\",\"Detached\",\"Descriptive\",\"Deontological\",\"Deferential\",\"Data driven\",\"Cynical\",\"Curious\",\"Cryptic\",\"Cruel\",\"Critical\",\"Creative\",\"Cosmopolitan\",\"Convergent\",\"Contrarian\",\"Contemporary\",\"Constructivist\",\"Conscientious\",\"Confrontational\",\"Condescending\",\"Concise\",\"Conciliatory\",\"Conceptual\",\"Competitive\",\"Collectivistic\",\"Collaborative\",\"Circumspect\",\"Chill\",\"Charismatic\",\"Chaotic\",\"Challenging\",\"Cautious\",\"Casual\",\"Calm\",\"Callous\",\"Calculating\",\"Bombastic\",\"Blunt\",\"Bitter\",\"Big picture\",\"Benevolent\",\"Avoidant\",\"Assertive\",\"Ascetic\",\"Artistic\",\"Arrogant\",\"Anthropocentric\",\"Animated\",\"Analytical\",\"Altruistic\",\"Agreeable\",\"Adventurous\",\"Adaptable\",\"Acerbic\",\"Accommodating\",\"Accessible\",\"Abstract\",\"Absolutist\"],\"x\":[0.15120447024163386,0.2326254969967026,0.27338202541585865,0.2240850309209026,-0.09262814618565565,-0.24419721458124893,0.1420010725155896,0.3059087889515536,0.2875070794420747,-0.14607762613940295,-0.02860933318954617,0.03275639820668033,-0.32888501629145384,0.09399776281964918,-0.11075264512576265,-0.01378231794385642,0.014397213986023364,-0.09150097440274801,-0.08324767409438902,0.0900460758229288,-0.32907603906851485,-0.2089282946648675,0.07226454578445043,-0.06474909192251525,0.21414879291413194,0.031178750342815913,-0.034028158699718696,-0.07962712448626197,0.015828296615618135,-0.21818099110950706,-0.37915801961658235,-0.25029769470554236,-0.08940564289957549,0.08112324420522977,0.12510153108472163,0.10166023516296883,0.21768786865351847,0.1741899337093498,0.023866671770185723,0.004916024514280179,0.03808817899563388,-0.0019216200223882468,-0.005264998908443834,0.3154836240287318,0.19233403461667264,-0.02443178271590501,0.1341587731729389,-0.13019315683579782,-0.08455766887352102,0.12979917969998234,-0.1674454296852624,0.10370286844082362,-0.2163811852202527,-0.33147344390457967,0.12016113123838483,0.21854690136351776,0.041356002004955296,0.26032681854810885,0.11809601238116785,-0.0174194040875932,0.28760976753096557,-0.1299777670630412,0.031587450322687616,-0.3446589511187851,-0.2957715290048401,0.016593389054872454,-0.09306695151002682,0.11801560864373976,-0.2256561802054963,-0.3613733199889531,0.15665452328613996,-0.29217285888360356,0.054540033918288815,-0.10884998640425422,-0.018733472267532653,-0.2517564761029209,-0.3693176387748602,-0.11734875617347343,0.18369097370469117,-0.11362815776886875,0.009777303354085116,0.3112781458147906,-0.1699234340193332,0.03380270215866202,-0.008859411252247765,0.10203631078545243,0.009950304503531309,-0.015493360879577507,0.10104910753764844,-0.22932772408685545,0.12094824735955509,-0.20629388685433472,0.16080668280756508,0.08280405458678376,0.06310525945132159,-0.04132684646882979,0.2408129607950227,0.1409820224672787,0.06274484136694612,-0.22023516416203104,0.06533586024764843,-0.31948680098937154,0.07004236331942494,-0.13947386375879453,-0.010579932258425741,-0.12962515236893485,0.15575271322845344,-0.3075671650372928,0.04869617764204489,0.18672896307154405,-0.20545897561711837,0.0023835544966367282,-0.015124691786647541,-0.10080003302160624,-0.1060987942786988,0.18403890071421566,0.137545923361548,-0.051880142470418805,0.18475453219577148,0.3230071970714556,-0.042963430098009445,0.09740198726280291,0.007403088514694949,0.07664602532140513,0.17826935836858573,-0.005056217729968903,-0.0437835660245503,0.021203059431817085,0.15938904908987284,0.04442332805558843,-0.2639255433917882,-0.18020384723525074,-0.20830052285323555,0.16083511935409014,0.004938405646720332,0.029973027489834617,-0.027296583888319455,0.17203989501693187,-0.10782681860383818,-0.1144214376500664,0.04557485755935376,0.14222194875773222,0.30760448643420646,-0.0734216907767307,-0.30277040882236417,-0.29850297525328023,-0.0030897588327584015,0.014842752556773727,0.20095337118606868,0.2072602868910907,0.24225587815085178,-0.03678246482236756,0.16474998409693525,-0.09827778457395321,-0.04233364038757869,0.04315507872110541,0.092749241810725,-0.07827872972143962,0.11622291084288047,-0.124546380588925,0.029672716923820723,-0.21586601677180012,0.2128354396697817,0.023115076234290644,-0.11386979610427882,-0.30698484029437423,0.12075285778541607,-0.21619586926954107,-0.22487865061841017,-0.0017226428980845765,0.0136759795875386,-0.3716203659245896,0.07378048105008683,0.10037047165684607,0.06331838732143112,-0.33285134882997996,-0.007453465745985418,-0.3473433175276203,0.03868161210205176,0.10240505815134011,-0.0002754322756652036,0.18931262240123664,0.029377459023816943,-0.33236687592743136,0.09948521349361465,0.14236743734997043,-0.02197367387142764,-0.3594454634102472,0.05793396450567279,0.18090495387095462,-0.25248477049401125,-0.392212371433428,-0.3844351025218221,-0.010150856803043657,0.0944521660791683,0.04144935220574535,0.076943841531715,0.1528500260398568,0.15921217002480068,-0.15076375526786603,-0.08503296572679109,0.07563509918664314,-0.13083240957674602,0.2663495702298098,-0.19532962326974695,-0.004570415154109377,0.18156042111354573,0.06879985591431094,0.2826636757723341,-0.007290945355977239,0.09397808234814906,0.006541041581063571,0.23289579895144788,-0.1185072468618281,0.22306552295564047,-0.21031136105960788,0.08370076819962949,-0.27479244816755494,0.23186776956440777],\"y\":[1,1,1,1,1,1,1,1,1,1,1,1,1,1,1,1,1,1,1,1,1,1,1,1,1,1,1,1,1,1,1,1,1,1,1,1,1,1,1,1,1,1,1,1,1,1,1,1,1,1,1,1,1,1,1,1,1,1,1,1,1,1,1,1,1,1,1,1,1,1,1,1,1,1,1,1,1,1,1,1,1,1,1,1,1,1,1,1,1,1,1,1,1,1,1,1,1,1,1,1,1,1,1,1,1,1,1,1,1,1,1,1,1,1,1,1,1,1,1,1,1,1,1,1,1,1,1,1,1,1,1,1,1,1,1,1,1,1,1,1,1,1,1,1,1,1,1,1,1,1,1,1,1,1,1,1,1,1,1,1,1,1,1,1,1,1,1,1,1,1,1,1,1,1,1,1,1,1,1,1,1,1,1,1,1,1,1,1,1,1,1,1,1,1,1,1,1,1,1,1,1,1,1,1,1,1,1,1,1,1,1,1,1,1,1,1,1,1,1],\"type\":\"scatter\",\"xaxis\":\"x\",\"yaxis\":\"y\"},{\"hovertemplate\":\"\\u003cb\\u003e%{text}\\u003c\\u002fb\\u003e\\u003cbr\\u003eCosine Similarity: %{x:.3f}\\u003cextra\\u003e\\u003c\\u002fextra\\u003e\",\"marker\":{\"color\":\"limegreen\",\"line\":{\"color\":\"black\",\"width\":1},\"opacity\":1.0,\"size\":8,\"symbol\":\"diamond\"},\"mode\":\"markers\",\"showlegend\":false,\"text\":[\"Stream of consciousness\",\"Sassy\",\"Relativist\",\"Prescriptive\",\"Practical\",\"Philosophical\",\"Pessimistic\",\"Optimistic\",\"Open ended\",\"Melancholic\",\"Introspective\",\"Inspirational\",\"Humble\",\"Extroverted\",\"Dominant\",\"Deconstructionist\",\"Decisive\",\"Confident\",\"Closure seeking\",\"Anxious\"],\"x\":[-0.40603570374758274,0.4627517616617746,-0.46666040400478637,0.450028352774877,0.3748098056199265,-0.4123850066840191,-0.3958641586125682,0.39978645170856525,-0.5683485016250263,-0.41878306594741277,-0.5212141041225948,0.33311080930549086,-0.41702913116889345,0.38418993050385564,0.3748674835387306,-0.39530958447506975,0.6055608582283374,0.5147548062811567,0.610121124766013,-0.41407472964404696],\"y\":[1,1,1,1,1,1,1,1,1,1,1,1,1,1,1,1,1,1,1,1],\"type\":\"scatter\",\"xaxis\":\"x\",\"yaxis\":\"y\"},{\"hoverinfo\":\"skip\",\"line\":{\"color\":\"black\",\"width\":1},\"mode\":\"lines\",\"showlegend\":false,\"x\":[-0.5683485016250263,-0.5683485016250263],\"y\":[1.0,1.45],\"type\":\"scatter\",\"xaxis\":\"x\",\"yaxis\":\"y\"},{\"hoverinfo\":\"skip\",\"line\":{\"color\":\"black\",\"width\":1},\"mode\":\"lines\",\"showlegend\":false,\"x\":[-0.5212141041225948,-0.5212141041225948],\"y\":[1.0,0.6],\"type\":\"scatter\",\"xaxis\":\"x\",\"yaxis\":\"y\"},{\"hoverinfo\":\"skip\",\"line\":{\"color\":\"black\",\"width\":1},\"mode\":\"lines\",\"showlegend\":false,\"x\":[-0.46666040400478637,-0.46666040400478637],\"y\":[1.0,1.9],\"type\":\"scatter\",\"xaxis\":\"x\",\"yaxis\":\"y\"},{\"hoverinfo\":\"skip\",\"line\":{\"color\":\"black\",\"width\":1},\"mode\":\"lines\",\"showlegend\":false,\"x\":[-0.41878306594741277,-0.41878306594741277],\"y\":[1.0,0.15],\"type\":\"scatter\",\"xaxis\":\"x\",\"yaxis\":\"y\"},{\"hoverinfo\":\"skip\",\"line\":{\"color\":\"black\",\"width\":1},\"mode\":\"lines\",\"showlegend\":false,\"x\":[-0.41702913116889345,-0.41702913116889345],\"y\":[1.0,1.6],\"type\":\"scatter\",\"xaxis\":\"x\",\"yaxis\":\"y\"},{\"hoverinfo\":\"skip\",\"line\":{\"color\":\"black\",\"width\":1},\"mode\":\"lines\",\"showlegend\":false,\"x\":[-0.41407472964404696,-0.41407472964404696],\"y\":[1.0,0.45],\"type\":\"scatter\",\"xaxis\":\"x\",\"yaxis\":\"y\"},{\"hoverinfo\":\"skip\",\"line\":{\"color\":\"black\",\"width\":1},\"mode\":\"lines\",\"showlegend\":false,\"x\":[-0.4123850066840191,-0.4123850066840191],\"y\":[1.0,1.3],\"type\":\"scatter\",\"xaxis\":\"x\",\"yaxis\":\"y\"},{\"hoverinfo\":\"skip\",\"line\":{\"color\":\"black\",\"width\":1},\"mode\":\"lines\",\"showlegend\":false,\"x\":[-0.40603570374758274,-0.40603570374758274],\"y\":[1.0,0.75],\"type\":\"scatter\",\"xaxis\":\"x\",\"yaxis\":\"y\"},{\"hoverinfo\":\"skip\",\"line\":{\"color\":\"black\",\"width\":1},\"mode\":\"lines\",\"showlegend\":false,\"x\":[-0.3958641586125682,-0.3958641586125682],\"y\":[1.0,1.75],\"type\":\"scatter\",\"xaxis\":\"x\",\"yaxis\":\"y\"},{\"hoverinfo\":\"skip\",\"line\":{\"color\":\"black\",\"width\":1},\"mode\":\"lines\",\"showlegend\":false,\"x\":[-0.39530958447506975,-0.39530958447506975],\"y\":[1.0,0.3],\"type\":\"scatter\",\"xaxis\":\"x\",\"yaxis\":\"y\"},{\"hoverinfo\":\"skip\",\"line\":{\"color\":\"black\",\"width\":1},\"mode\":\"lines\",\"showlegend\":false,\"x\":[0.33311080930549086,0.33311080930549086],\"y\":[1.0,1.45],\"type\":\"scatter\",\"xaxis\":\"x\",\"yaxis\":\"y\"},{\"hoverinfo\":\"skip\",\"line\":{\"color\":\"black\",\"width\":1},\"mode\":\"lines\",\"showlegend\":false,\"x\":[0.3748098056199265,0.3748098056199265],\"y\":[1.0,0.6],\"type\":\"scatter\",\"xaxis\":\"x\",\"yaxis\":\"y\"},{\"hoverinfo\":\"skip\",\"line\":{\"color\":\"black\",\"width\":1},\"mode\":\"lines\",\"showlegend\":false,\"x\":[0.3748674835387306,0.3748674835387306],\"y\":[1.0,1.9],\"type\":\"scatter\",\"xaxis\":\"x\",\"yaxis\":\"y\"},{\"hoverinfo\":\"skip\",\"line\":{\"color\":\"black\",\"width\":1},\"mode\":\"lines\",\"showlegend\":false,\"x\":[0.38418993050385564,0.38418993050385564],\"y\":[1.0,0.15],\"type\":\"scatter\",\"xaxis\":\"x\",\"yaxis\":\"y\"},{\"hoverinfo\":\"skip\",\"line\":{\"color\":\"black\",\"width\":1},\"mode\":\"lines\",\"showlegend\":false,\"x\":[0.39978645170856525,0.39978645170856525],\"y\":[1.0,1.6],\"type\":\"scatter\",\"xaxis\":\"x\",\"yaxis\":\"y\"},{\"hoverinfo\":\"skip\",\"line\":{\"color\":\"black\",\"width\":1},\"mode\":\"lines\",\"showlegend\":false,\"x\":[0.450028352774877,0.450028352774877],\"y\":[1.0,0.45],\"type\":\"scatter\",\"xaxis\":\"x\",\"yaxis\":\"y\"},{\"hoverinfo\":\"skip\",\"line\":{\"color\":\"black\",\"width\":1},\"mode\":\"lines\",\"showlegend\":false,\"x\":[0.4627517616617746,0.4627517616617746],\"y\":[1.0,1.3],\"type\":\"scatter\",\"xaxis\":\"x\",\"yaxis\":\"y\"},{\"hoverinfo\":\"skip\",\"line\":{\"color\":\"black\",\"width\":1},\"mode\":\"lines\",\"showlegend\":false,\"x\":[0.5147548062811567,0.5147548062811567],\"y\":[1.0,0.75],\"type\":\"scatter\",\"xaxis\":\"x\",\"yaxis\":\"y\"},{\"hoverinfo\":\"skip\",\"line\":{\"color\":\"black\",\"width\":1},\"mode\":\"lines\",\"showlegend\":false,\"x\":[0.6055608582283374,0.6055608582283374],\"y\":[1.0,1.75],\"type\":\"scatter\",\"xaxis\":\"x\",\"yaxis\":\"y\"},{\"hoverinfo\":\"skip\",\"line\":{\"color\":\"black\",\"width\":1},\"mode\":\"lines\",\"showlegend\":false,\"x\":[0.610121124766013,0.610121124766013],\"y\":[1.0,0.3],\"type\":\"scatter\",\"xaxis\":\"x\",\"yaxis\":\"y\"},{\"hoverinfo\":\"skip\",\"marker\":{\"color\":\"limegreen\"},\"opacity\":0.7,\"showlegend\":false,\"width\":0.03142585670376104,\"x\":[-0.5487073411851756,-0.5094250203054743,-0.470142699425773,-0.4308603785460717,-0.3915780576663704,-0.35229573678666903,-0.31301341590696774,-0.27373109502726645,-0.23444877414756515,-0.19516645326786386,-0.15588413238816254,-0.11660181150846122,-0.0773194906287599,-0.038037169749058575,0.0012451511306427188,0.04052747201034401,0.0798097928900453,0.1190921137697466,0.1583744346494479,0.1976567555291492,0.23693907640885054,0.2762213972885519,0.3155037181682532,0.35478603904795447,0.39406835992765576,0.4333506808073571,0.47263300168705846,0.5119153225667598,0.551197643446461,0.5904799643261623],\"y\":[0.03214285714285714,0.03214285714285714,0.03214285714285714,0.12857142857142856,0.19285714285714284,0.225,0.32142857142857145,0.09642857142857142,0.3857142857142857,0.225,0.16071428571428573,0.5142857142857142,0.3535714285714286,0.3857142857142857,0.9,0.6428571428571429,0.6428571428571429,0.5464285714285714,0.48214285714285715,0.41785714285714287,0.2892857142857143,0.19285714285714284,0.19285714285714284,0.0,0.12857142857142856,0.03214285714285714,0.03214285714285714,0.03214285714285714,0.0,0.06428571428571428],\"type\":\"bar\",\"xaxis\":\"x\",\"yaxis\":\"y\"},{\"hovertemplate\":\"\\u003cb\\u003e%{text}\\u003c\\u002fb\\u003e\\u003cbr\\u003eNormalized Projection: %{x:.3f}\\u003cextra\\u003e\\u003c\\u002fextra\\u003e\",\"marker\":{\"color\":\"limegreen\",\"line\":{\"color\":\"black\",\"width\":1},\"opacity\":1.0,\"size\":8,\"symbol\":\"diamond\"},\"mode\":\"markers\",\"showlegend\":false,\"text\":[\"Zealous\",\"Wry\",\"Witty\",\"Whimsical\",\"Visceral\",\"Verbose\",\"Utilitarian\",\"Urgent\",\"Universalist\",\"Understated\",\"Transparent\",\"Traditional\",\"Theoretical\",\"Theatrical\",\"Temperamental\",\"Technical\",\"Tactful\",\"Systems thinker\",\"Sycophantic\",\"Supportive\",\"Subversive\",\"Submissive\",\"Structuralist\",\"Stream of consciousness\",\"Strategic\",\"Stoic\",\"Spontaneous\",\"Spiritual\",\"Speculative\",\"Specialized\",\"Solemn\",\"Skeptical\",\"Serious\",\"Serene\",\"Secular\",\"Savage\",\"Sardonic\",\"Sarcastic\",\"Romantic\",\"Ritualistic\",\"Risk taking\",\"Rhetorical\",\"Reverent\",\"Reserved\",\"Regulatory\",\"Reductionist\",\"Rebellious\",\"Reactive\",\"Rationalist\",\"Radical\",\"Quantitative\",\"Qualitative\",\"Provocative\",\"Progressive\",\"Problem solving\",\"Proactive\",\"Principled\",\"Poetic\",\"Pluralist\",\"Playful\",\"Philosophical\",\"Petty\",\"Pessimistic\",\"Perfectionist\",\"Pedantic\",\"Patient\",\"Passive aggressive\",\"Passionate\",\"Paranoid\",\"Paradoxical\",\"Pacifist\",\"Obsessive\",\"Nurturing\",\"Nostalgic\",\"Nonchalant\",\"Nihilistic\",\"Narrative\",\"Naive\",\"Mystical\",\"Moderate\",\"Mischievous\",\"Misanthropic\",\"Militant\",\"Meticulous\",\"Methodical\",\"Metaphorical\",\"Mercurial\",\"Melodramatic\",\"Meditative\",\"Materialist\",\"Manipulative\",\"Manic\",\"Literal\",\"Libertarian\",\"Judgmental\",\"Irreverent\",\"Ironic\",\"Intuitive\",\"Introverted\",\"Interdisciplinary\",\"Innovative\",\"Individualistic\",\"Independent\",\"Inclusive\",\"Impulsive\",\"Improvisational\",\"Impatient\",\"Idealistic\",\"Iconoclastic\",\"Humanistic\",\"Hostile\",\"Holistic\",\"Historical\",\"Hedonistic\",\"Grounded\",\"Gregarious\",\"Grandiose\",\"Generous\",\"Generalist\",\"Futuristic\",\"Fundamentalist\",\"Formalist\",\"Formal\",\"Forgiving\",\"Flirty\",\"Flippant\",\"Flexible\",\"Fatalistic\",\"Factual\",\"Extroverted\",\"Exploratory\",\"Experiential\",\"Existentialist\",\"Evil\",\"Ethereal\",\"Essentialist\",\"Esoteric\",\"Erudite\",\"Epicurean\",\"Environmental\",\"Entertaining\",\"Enigmatic\",\"Empathetic\",\"Emotional\",\"Eloquent\",\"Elitist\",\"Egalitarian\",\"Effusive\",\"Efficient\",\"Educational\",\"Edgy\",\"Eclectic\",\"Earnest\",\"Dramatic\",\"Dominant\",\"Dogmatic\",\"Divergent\",\"Dispassionate\",\"Disorganized\",\"Diplomatic\",\"Deterministic\",\"Detached\",\"Descriptive\",\"Deontological\",\"Deferential\",\"Deconstructionist\",\"Data driven\",\"Cynical\",\"Curious\",\"Cryptic\",\"Cruel\",\"Critical\",\"Creative\",\"Cosmopolitan\",\"Convergent\",\"Contrarian\",\"Contemporary\",\"Constructivist\",\"Conscientious\",\"Confrontational\",\"Condescending\",\"Concise\",\"Conciliatory\",\"Conceptual\",\"Competitive\",\"Collectivistic\",\"Collaborative\",\"Circumspect\",\"Chill\",\"Charismatic\",\"Chaotic\",\"Challenging\",\"Cautious\",\"Casual\",\"Calm\",\"Callous\",\"Calculating\",\"Bombastic\",\"Blunt\",\"Bitter\",\"Big picture\",\"Benevolent\",\"Avoidant\",\"Assertive\",\"Ascetic\",\"Artistic\",\"Arrogant\",\"Anthropocentric\",\"Animated\",\"Analytical\",\"Altruistic\",\"Agreeable\",\"Adventurous\",\"Adaptable\",\"Acerbic\",\"Accommodating\",\"Accessible\",\"Abstract\",\"Absolutist\"],\"x\":[0.05101098095543882,0.08527737601876406,0.10341096348582576,0.08424203414197465,-0.02977027468926189,-0.07721057698549366,0.026138601348872977,0.08090495003063583,0.053053469810810286,-0.05580811377112972,-0.010153491314795872,0.009346674730312159,-0.07524890620839675,0.03824515911132488,-0.04217093895046177,-0.004478811700518832,0.004725603397413776,-0.020433781051696985,-0.03702772582972872,0.03799748942039112,-0.07824509970109342,-0.08054236018237566,0.02267747371077094,-0.11077700485574324,-0.0302728730419955,0.06408167377468536,0.008837417446532055,-0.011024002238872,-0.015264154109154163,0.004702170957311418,-0.089289934686074,-0.061498201301353535,-0.03784683601882928,0.03566746102243322,0.03277699317800067,0.033135969282151095,0.08369497335197566,0.0596227322320705,0.009120413619151228,0.0016823741140659131,0.007500531651486231,-0.0005861527025770288,-0.0015267217721063543,0.07121470735065545,-0.007262877957596092,0.03373446191310007,-0.02956670040690936,-0.03374548325321844,0.03709413212292302,-0.04512051836922443,0.03563070631422923,-0.06483616825810531,-0.06873950620685226,0.021239308746216646,0.07380032136923273,0.01509141239813969,0.04285071341837831,0.07355334402324387,-0.004173443119743266,0.09856883189750983,-0.10663265891930418,-0.042505118290181144,-0.09391263148479641,0.009220035307906523,-0.07334319126754778,0.007634135167106751,-0.03377518711651624,0.03404810137882247,-0.061733961425720636,-0.07372752408878372,0.02606615141214967,-0.06325503599867775,0.022772136334171206,-0.025300971189058545,-0.009098529952399632,-0.09825105475019828,-0.042862733406303914,0.07828823772617055,-0.03416907113967474,0.003871595288112075,0.11204276345987922,-0.06319632581742265,0.011491634152033964,-0.0033876490065020454,0.041451689801183515,0.0037323922989606524,-0.005080789172586037,0.03912274535682517,-0.09996933412297548,0.026022553686424286,-0.06333932707549284,0.06358413377909833,0.028704676903473524,0.011929386521295365,-0.012068554389675502,0.0877782126877891,0.05894073113605924,0.014198002848345043,-0.0748936758611447,0.013710208484250027,0.01451357818655422,-0.019521930474761497,-0.0025959552567827917,-0.029855900857969173,0.08081803939743117,-0.08408950124220725,0.0221174743386539,0.04171893388279999,-0.044407944031505504,0.0005657395232050035,-0.006354109100934383,-0.027549995769302133,-0.02348663228479948,0.05585378065817205,0.04805006990507799,-0.014791055982515287,0.05958109087505561,-0.019163433208305238,0.03098063802478991,0.0015673929550049299,0.023171648515573653,0.04339896140989292,-0.002030815858010053,-0.006925427779368209,0.008158344641494387,0.07200510122777048,0.01594441164648673,-0.08343682314019704,-0.062053601623957004,0.08566196449817154,-0.07485099972734843,0.037379596697484904,0.0014756831232352811,0.011260091467741453,-0.010801833436550692,0.038527622705913256,-0.03912728183709322,-0.039014000286056824,0.010550283051395498,0.031247312884690577,0.10505440974020068,-0.030471797113952363,-0.07642912893709851,-0.08317677733590717,-0.001265605476972235,0.004537529130298279,0.05072919691311431,0.07301499032186062,0.08848091127025906,-0.017070940833371562,0.055145646718686714,-0.020809631837961383,-0.017742147398572234,0.016203668069610693,0.09156801093247871,0.032954436557457716,-0.026894208781808263,0.04313481046808452,-0.049578963443832086,0.010299860314906978,-0.06408489412570074,0.06745000758968282,0.0064860300367826475,-0.01993776757420203,-0.08446367750563945,-0.10078985597517887,0.03325716388373523,-0.0555098579550884,-0.07290252389281421,-0.0007361949971286734,0.005071205144183185,-0.08686810468947827,0.018371431783361116,0.029489761646725676,0.011815797581752746,-0.071539677938181,-0.001584662747196253,-0.06931989165128606,0.02018508927175461,0.022138667568082023,-8.294119239593904e-05,0.07983949598625477,0.011610253586093902,-0.07592295218159102,0.03017666997328742,0.029803368860327983,-0.004810834506399545,-0.10516379174969587,0.022726579522461078,0.06690557149543537,-0.051319960127015625,-0.09097111455857794,-0.10201511949200229,-0.003623930048491873,0.041587182628765124,0.015729467210454005,0.022714282595324146,0.06446267844984084,0.04520252665712626,-0.05342947128785324,-0.01708280206373858,0.025352302582656056,-0.061785366363687165,0.050309450841366045,-0.05281663999399861,-0.00146546071958976,0.056045601240983754,0.011200806556272033,0.10916537650011686,-0.0027831019540797497,0.02675167729760254,0.0022690574971449937,0.05202138356027882,-0.03235551794548847,0.07763669760905181,-0.039545959127868235,0.03288179579903001,-0.05847996258960904,0.04608457518349308],\"y\":[1,1,1,1,1,1,1,1,1,1,1,1,1,1,1,1,1,1,1,1,1,1,1,1,1,1,1,1,1,1,1,1,1,1,1,1,1,1,1,1,1,1,1,1,1,1,1,1,1,1,1,1,1,1,1,1,1,1,1,1,1,1,1,1,1,1,1,1,1,1,1,1,1,1,1,1,1,1,1,1,1,1,1,1,1,1,1,1,1,1,1,1,1,1,1,1,1,1,1,1,1,1,1,1,1,1,1,1,1,1,1,1,1,1,1,1,1,1,1,1,1,1,1,1,1,1,1,1,1,1,1,1,1,1,1,1,1,1,1,1,1,1,1,1,1,1,1,1,1,1,1,1,1,1,1,1,1,1,1,1,1,1,1,1,1,1,1,1,1,1,1,1,1,1,1,1,1,1,1,1,1,1,1,1,1,1,1,1,1,1,1,1,1,1,1,1,1,1,1,1,1,1,1,1,1,1,1,1,1,1,1,1,1,1,1,1,1,1,1],\"type\":\"scatter\",\"xaxis\":\"x2\",\"yaxis\":\"y2\"},{\"hovertemplate\":\"\\u003cb\\u003e%{text}\\u003c\\u002fb\\u003e\\u003cbr\\u003eNormalized Projection: %{x:.3f}\\u003cextra\\u003e\\u003c\\u002fextra\\u003e\",\"marker\":{\"color\":\"limegreen\",\"line\":{\"color\":\"black\",\"width\":1},\"opacity\":1.0,\"size\":8,\"symbol\":\"diamond\"},\"mode\":\"markers\",\"showlegend\":false,\"text\":[\"Socratic\",\"Sassy\",\"Resilient\",\"Relativist\",\"Prescriptive\",\"Practical\",\"Pensive\",\"Optimistic\",\"Open ended\",\"Neurotic\",\"Melancholic\",\"Introspective\",\"Inspirational\",\"Inquisitive\",\"Humble\",\"Goofy\",\"Decisive\",\"Confident\",\"Closure seeking\",\"Anxious\"],\"x\":[-0.14538524560647828,0.1480537037775262,0.14165917171132056,-0.13785533260518948,0.12561675991826643,0.11412745957841965,-0.1380880723317179,0.12467980928188219,-0.12813522366382143,-0.17347187277225137,-0.14848834084699616,-0.16725038607032935,0.140236703439811,-0.13118304742264988,-0.12195056752453909,0.13706434155439004,0.17806591689730036,0.13082957445442042,0.16294297991054577,-0.1891100067795868],\"y\":[1,1,1,1,1,1,1,1,1,1,1,1,1,1,1,1,1,1,1,1],\"type\":\"scatter\",\"xaxis\":\"x2\",\"yaxis\":\"y2\"},{\"hoverinfo\":\"skip\",\"line\":{\"color\":\"black\",\"width\":1},\"mode\":\"lines\",\"showlegend\":false,\"x\":[-0.1891100067795868,-0.1891100067795868],\"y\":[1.0,1.45],\"type\":\"scatter\",\"xaxis\":\"x2\",\"yaxis\":\"y2\"},{\"hoverinfo\":\"skip\",\"line\":{\"color\":\"black\",\"width\":1},\"mode\":\"lines\",\"showlegend\":false,\"x\":[-0.17347187277225137,-0.17347187277225137],\"y\":[1.0,0.6],\"type\":\"scatter\",\"xaxis\":\"x2\",\"yaxis\":\"y2\"},{\"hoverinfo\":\"skip\",\"line\":{\"color\":\"black\",\"width\":1},\"mode\":\"lines\",\"showlegend\":false,\"x\":[-0.16725038607032935,-0.16725038607032935],\"y\":[1.0,1.9],\"type\":\"scatter\",\"xaxis\":\"x2\",\"yaxis\":\"y2\"},{\"hoverinfo\":\"skip\",\"line\":{\"color\":\"black\",\"width\":1},\"mode\":\"lines\",\"showlegend\":false,\"x\":[-0.14848834084699616,-0.14848834084699616],\"y\":[1.0,0.15],\"type\":\"scatter\",\"xaxis\":\"x2\",\"yaxis\":\"y2\"},{\"hoverinfo\":\"skip\",\"line\":{\"color\":\"black\",\"width\":1},\"mode\":\"lines\",\"showlegend\":false,\"x\":[-0.14538524560647828,-0.14538524560647828],\"y\":[1.0,1.6],\"type\":\"scatter\",\"xaxis\":\"x2\",\"yaxis\":\"y2\"},{\"hoverinfo\":\"skip\",\"line\":{\"color\":\"black\",\"width\":1},\"mode\":\"lines\",\"showlegend\":false,\"x\":[-0.1380880723317179,-0.1380880723317179],\"y\":[1.0,0.45],\"type\":\"scatter\",\"xaxis\":\"x2\",\"yaxis\":\"y2\"},{\"hoverinfo\":\"skip\",\"line\":{\"color\":\"black\",\"width\":1},\"mode\":\"lines\",\"showlegend\":false,\"x\":[-0.13785533260518948,-0.13785533260518948],\"y\":[1.0,1.3],\"type\":\"scatter\",\"xaxis\":\"x2\",\"yaxis\":\"y2\"},{\"hoverinfo\":\"skip\",\"line\":{\"color\":\"black\",\"width\":1},\"mode\":\"lines\",\"showlegend\":false,\"x\":[-0.13118304742264988,-0.13118304742264988],\"y\":[1.0,0.75],\"type\":\"scatter\",\"xaxis\":\"x2\",\"yaxis\":\"y2\"},{\"hoverinfo\":\"skip\",\"line\":{\"color\":\"black\",\"width\":1},\"mode\":\"lines\",\"showlegend\":false,\"x\":[-0.12813522366382143,-0.12813522366382143],\"y\":[1.0,1.75],\"type\":\"scatter\",\"xaxis\":\"x2\",\"yaxis\":\"y2\"},{\"hoverinfo\":\"skip\",\"line\":{\"color\":\"black\",\"width\":1},\"mode\":\"lines\",\"showlegend\":false,\"x\":[-0.12195056752453909,-0.12195056752453909],\"y\":[1.0,0.3],\"type\":\"scatter\",\"xaxis\":\"x2\",\"yaxis\":\"y2\"},{\"hoverinfo\":\"skip\",\"line\":{\"color\":\"black\",\"width\":1},\"mode\":\"lines\",\"showlegend\":false,\"x\":[0.11412745957841965,0.11412745957841965],\"y\":[1.0,1.45],\"type\":\"scatter\",\"xaxis\":\"x2\",\"yaxis\":\"y2\"},{\"hoverinfo\":\"skip\",\"line\":{\"color\":\"black\",\"width\":1},\"mode\":\"lines\",\"showlegend\":false,\"x\":[0.12467980928188219,0.12467980928188219],\"y\":[1.0,0.6],\"type\":\"scatter\",\"xaxis\":\"x2\",\"yaxis\":\"y2\"},{\"hoverinfo\":\"skip\",\"line\":{\"color\":\"black\",\"width\":1},\"mode\":\"lines\",\"showlegend\":false,\"x\":[0.12561675991826643,0.12561675991826643],\"y\":[1.0,1.9],\"type\":\"scatter\",\"xaxis\":\"x2\",\"yaxis\":\"y2\"},{\"hoverinfo\":\"skip\",\"line\":{\"color\":\"black\",\"width\":1},\"mode\":\"lines\",\"showlegend\":false,\"x\":[0.13082957445442042,0.13082957445442042],\"y\":[1.0,0.15],\"type\":\"scatter\",\"xaxis\":\"x2\",\"yaxis\":\"y2\"},{\"hoverinfo\":\"skip\",\"line\":{\"color\":\"black\",\"width\":1},\"mode\":\"lines\",\"showlegend\":false,\"x\":[0.13706434155439004,0.13706434155439004],\"y\":[1.0,1.6],\"type\":\"scatter\",\"xaxis\":\"x2\",\"yaxis\":\"y2\"},{\"hoverinfo\":\"skip\",\"line\":{\"color\":\"black\",\"width\":1},\"mode\":\"lines\",\"showlegend\":false,\"x\":[0.140236703439811,0.140236703439811],\"y\":[1.0,0.45],\"type\":\"scatter\",\"xaxis\":\"x2\",\"yaxis\":\"y2\"},{\"hoverinfo\":\"skip\",\"line\":{\"color\":\"black\",\"width\":1},\"mode\":\"lines\",\"showlegend\":false,\"x\":[0.14165917171132056,0.14165917171132056],\"y\":[1.0,1.3],\"type\":\"scatter\",\"xaxis\":\"x2\",\"yaxis\":\"y2\"},{\"hoverinfo\":\"skip\",\"line\":{\"color\":\"black\",\"width\":1},\"mode\":\"lines\",\"showlegend\":false,\"x\":[0.1480537037775262,0.1480537037775262],\"y\":[1.0,0.75],\"type\":\"scatter\",\"xaxis\":\"x2\",\"yaxis\":\"y2\"},{\"hoverinfo\":\"skip\",\"line\":{\"color\":\"black\",\"width\":1},\"mode\":\"lines\",\"showlegend\":false,\"x\":[0.16294297991054577,0.16294297991054577],\"y\":[1.0,1.75],\"type\":\"scatter\",\"xaxis\":\"x2\",\"yaxis\":\"y2\"},{\"hoverinfo\":\"skip\",\"line\":{\"color\":\"black\",\"width\":1},\"mode\":\"lines\",\"showlegend\":false,\"x\":[0.17806591689730036,0.17806591689730036],\"y\":[1.0,0.3],\"type\":\"scatter\",\"xaxis\":\"x2\",\"yaxis\":\"y2\"},{\"hoverinfo\":\"skip\",\"marker\":{\"color\":\"limegreen\"},\"opacity\":0.7,\"showlegend\":false,\"width\":0.009791357964716996,\"x\":[-0.1829904080516387,-0.17075121059574244,-0.1585120131398462,-0.14627281568394998,-0.13403361822805374,-0.12179442077215749,-0.10955522331626125,-0.09731602586036502,-0.08507682840446877,-0.07283763094857254,-0.060598433492676296,-0.04835923603678005,-0.036120038580883806,-0.023880841124987576,-0.011641643669091345,0.0005975537868048997,0.012836751242701144,0.02507594869859739,0.03731514615449362,0.04955434361038985,0.061793541066286095,0.07403273852218234,0.08627193597807858,0.09851113343397483,0.11075033088987107,0.12298952834576732,0.13522872580166354,0.14746792325755975,0.159707120713456,0.17194631816935224],\"y\":[0.03214285714285714,0.06428571428571428,0.0,0.06428571428571428,0.12857142857142856,0.03214285714285714,0.09642857142857142,0.16071428571428573,0.2571428571428571,0.41785714285714287,0.3857142857142857,0.2571428571428571,0.3857142857142857,0.3857142857142857,0.41785714285714287,0.9,0.7392857142857143,0.6107142857142858,0.7071428571428572,0.2892857142857143,0.32142857142857145,0.2571428571428571,0.2892857142857143,0.06428571428571428,0.12857142857142856,0.06428571428571428,0.09642857142857142,0.06428571428571428,0.03214285714285714,0.03214285714285714],\"type\":\"bar\",\"xaxis\":\"x2\",\"yaxis\":\"y2\"}],                        {\"template\":{\"data\":{\"histogram2dcontour\":[{\"type\":\"histogram2dcontour\",\"colorbar\":{\"outlinewidth\":0,\"ticks\":\"\"},\"colorscale\":[[0.0,\"#0d0887\"],[0.1111111111111111,\"#46039f\"],[0.2222222222222222,\"#7201a8\"],[0.3333333333333333,\"#9c179e\"],[0.4444444444444444,\"#bd3786\"],[0.5555555555555556,\"#d8576b\"],[0.6666666666666666,\"#ed7953\"],[0.7777777777777778,\"#fb9f3a\"],[0.8888888888888888,\"#fdca26\"],[1.0,\"#f0f921\"]]}],\"choropleth\":[{\"type\":\"choropleth\",\"colorbar\":{\"outlinewidth\":0,\"ticks\":\"\"}}],\"histogram2d\":[{\"type\":\"histogram2d\",\"colorbar\":{\"outlinewidth\":0,\"ticks\":\"\"},\"colorscale\":[[0.0,\"#0d0887\"],[0.1111111111111111,\"#46039f\"],[0.2222222222222222,\"#7201a8\"],[0.3333333333333333,\"#9c179e\"],[0.4444444444444444,\"#bd3786\"],[0.5555555555555556,\"#d8576b\"],[0.6666666666666666,\"#ed7953\"],[0.7777777777777778,\"#fb9f3a\"],[0.8888888888888888,\"#fdca26\"],[1.0,\"#f0f921\"]]}],\"heatmap\":[{\"type\":\"heatmap\",\"colorbar\":{\"outlinewidth\":0,\"ticks\":\"\"},\"colorscale\":[[0.0,\"#0d0887\"],[0.1111111111111111,\"#46039f\"],[0.2222222222222222,\"#7201a8\"],[0.3333333333333333,\"#9c179e\"],[0.4444444444444444,\"#bd3786\"],[0.5555555555555556,\"#d8576b\"],[0.6666666666666666,\"#ed7953\"],[0.7777777777777778,\"#fb9f3a\"],[0.8888888888888888,\"#fdca26\"],[1.0,\"#f0f921\"]]}],\"heatmapgl\":[{\"type\":\"heatmapgl\",\"colorbar\":{\"outlinewidth\":0,\"ticks\":\"\"},\"colorscale\":[[0.0,\"#0d0887\"],[0.1111111111111111,\"#46039f\"],[0.2222222222222222,\"#7201a8\"],[0.3333333333333333,\"#9c179e\"],[0.4444444444444444,\"#bd3786\"],[0.5555555555555556,\"#d8576b\"],[0.6666666666666666,\"#ed7953\"],[0.7777777777777778,\"#fb9f3a\"],[0.8888888888888888,\"#fdca26\"],[1.0,\"#f0f921\"]]}],\"contourcarpet\":[{\"type\":\"contourcarpet\",\"colorbar\":{\"outlinewidth\":0,\"ticks\":\"\"}}],\"contour\":[{\"type\":\"contour\",\"colorbar\":{\"outlinewidth\":0,\"ticks\":\"\"},\"colorscale\":[[0.0,\"#0d0887\"],[0.1111111111111111,\"#46039f\"],[0.2222222222222222,\"#7201a8\"],[0.3333333333333333,\"#9c179e\"],[0.4444444444444444,\"#bd3786\"],[0.5555555555555556,\"#d8576b\"],[0.6666666666666666,\"#ed7953\"],[0.7777777777777778,\"#fb9f3a\"],[0.8888888888888888,\"#fdca26\"],[1.0,\"#f0f921\"]]}],\"surface\":[{\"type\":\"surface\",\"colorbar\":{\"outlinewidth\":0,\"ticks\":\"\"},\"colorscale\":[[0.0,\"#0d0887\"],[0.1111111111111111,\"#46039f\"],[0.2222222222222222,\"#7201a8\"],[0.3333333333333333,\"#9c179e\"],[0.4444444444444444,\"#bd3786\"],[0.5555555555555556,\"#d8576b\"],[0.6666666666666666,\"#ed7953\"],[0.7777777777777778,\"#fb9f3a\"],[0.8888888888888888,\"#fdca26\"],[1.0,\"#f0f921\"]]}],\"mesh3d\":[{\"type\":\"mesh3d\",\"colorbar\":{\"outlinewidth\":0,\"ticks\":\"\"}}],\"scatter\":[{\"fillpattern\":{\"fillmode\":\"overlay\",\"size\":10,\"solidity\":0.2},\"type\":\"scatter\"}],\"parcoords\":[{\"type\":\"parcoords\",\"line\":{\"colorbar\":{\"outlinewidth\":0,\"ticks\":\"\"}}}],\"scatterpolargl\":[{\"type\":\"scatterpolargl\",\"marker\":{\"colorbar\":{\"outlinewidth\":0,\"ticks\":\"\"}}}],\"bar\":[{\"error_x\":{\"color\":\"#2a3f5f\"},\"error_y\":{\"color\":\"#2a3f5f\"},\"marker\":{\"line\":{\"color\":\"#E5ECF6\",\"width\":0.5},\"pattern\":{\"fillmode\":\"overlay\",\"size\":10,\"solidity\":0.2}},\"type\":\"bar\"}],\"scattergeo\":[{\"type\":\"scattergeo\",\"marker\":{\"colorbar\":{\"outlinewidth\":0,\"ticks\":\"\"}}}],\"scatterpolar\":[{\"type\":\"scatterpolar\",\"marker\":{\"colorbar\":{\"outlinewidth\":0,\"ticks\":\"\"}}}],\"histogram\":[{\"marker\":{\"pattern\":{\"fillmode\":\"overlay\",\"size\":10,\"solidity\":0.2}},\"type\":\"histogram\"}],\"scattergl\":[{\"type\":\"scattergl\",\"marker\":{\"colorbar\":{\"outlinewidth\":0,\"ticks\":\"\"}}}],\"scatter3d\":[{\"type\":\"scatter3d\",\"line\":{\"colorbar\":{\"outlinewidth\":0,\"ticks\":\"\"}},\"marker\":{\"colorbar\":{\"outlinewidth\":0,\"ticks\":\"\"}}}],\"scattermapbox\":[{\"type\":\"scattermapbox\",\"marker\":{\"colorbar\":{\"outlinewidth\":0,\"ticks\":\"\"}}}],\"scatterternary\":[{\"type\":\"scatterternary\",\"marker\":{\"colorbar\":{\"outlinewidth\":0,\"ticks\":\"\"}}}],\"scattercarpet\":[{\"type\":\"scattercarpet\",\"marker\":{\"colorbar\":{\"outlinewidth\":0,\"ticks\":\"\"}}}],\"carpet\":[{\"aaxis\":{\"endlinecolor\":\"#2a3f5f\",\"gridcolor\":\"white\",\"linecolor\":\"white\",\"minorgridcolor\":\"white\",\"startlinecolor\":\"#2a3f5f\"},\"baxis\":{\"endlinecolor\":\"#2a3f5f\",\"gridcolor\":\"white\",\"linecolor\":\"white\",\"minorgridcolor\":\"white\",\"startlinecolor\":\"#2a3f5f\"},\"type\":\"carpet\"}],\"table\":[{\"cells\":{\"fill\":{\"color\":\"#EBF0F8\"},\"line\":{\"color\":\"white\"}},\"header\":{\"fill\":{\"color\":\"#C8D4E3\"},\"line\":{\"color\":\"white\"}},\"type\":\"table\"}],\"barpolar\":[{\"marker\":{\"line\":{\"color\":\"#E5ECF6\",\"width\":0.5},\"pattern\":{\"fillmode\":\"overlay\",\"size\":10,\"solidity\":0.2}},\"type\":\"barpolar\"}],\"pie\":[{\"automargin\":true,\"type\":\"pie\"}]},\"layout\":{\"autotypenumbers\":\"strict\",\"colorway\":[\"#636efa\",\"#EF553B\",\"#00cc96\",\"#ab63fa\",\"#FFA15A\",\"#19d3f3\",\"#FF6692\",\"#B6E880\",\"#FF97FF\",\"#FECB52\"],\"font\":{\"color\":\"#2a3f5f\"},\"hovermode\":\"closest\",\"hoverlabel\":{\"align\":\"left\"},\"paper_bgcolor\":\"white\",\"plot_bgcolor\":\"#E5ECF6\",\"polar\":{\"bgcolor\":\"#E5ECF6\",\"angularaxis\":{\"gridcolor\":\"white\",\"linecolor\":\"white\",\"ticks\":\"\"},\"radialaxis\":{\"gridcolor\":\"white\",\"linecolor\":\"white\",\"ticks\":\"\"}},\"ternary\":{\"bgcolor\":\"#E5ECF6\",\"aaxis\":{\"gridcolor\":\"white\",\"linecolor\":\"white\",\"ticks\":\"\"},\"baxis\":{\"gridcolor\":\"white\",\"linecolor\":\"white\",\"ticks\":\"\"},\"caxis\":{\"gridcolor\":\"white\",\"linecolor\":\"white\",\"ticks\":\"\"}},\"coloraxis\":{\"colorbar\":{\"outlinewidth\":0,\"ticks\":\"\"}},\"colorscale\":{\"sequential\":[[0.0,\"#0d0887\"],[0.1111111111111111,\"#46039f\"],[0.2222222222222222,\"#7201a8\"],[0.3333333333333333,\"#9c179e\"],[0.4444444444444444,\"#bd3786\"],[0.5555555555555556,\"#d8576b\"],[0.6666666666666666,\"#ed7953\"],[0.7777777777777778,\"#fb9f3a\"],[0.8888888888888888,\"#fdca26\"],[1.0,\"#f0f921\"]],\"sequentialminus\":[[0.0,\"#0d0887\"],[0.1111111111111111,\"#46039f\"],[0.2222222222222222,\"#7201a8\"],[0.3333333333333333,\"#9c179e\"],[0.4444444444444444,\"#bd3786\"],[0.5555555555555556,\"#d8576b\"],[0.6666666666666666,\"#ed7953\"],[0.7777777777777778,\"#fb9f3a\"],[0.8888888888888888,\"#fdca26\"],[1.0,\"#f0f921\"]],\"diverging\":[[0,\"#8e0152\"],[0.1,\"#c51b7d\"],[0.2,\"#de77ae\"],[0.3,\"#f1b6da\"],[0.4,\"#fde0ef\"],[0.5,\"#f7f7f7\"],[0.6,\"#e6f5d0\"],[0.7,\"#b8e186\"],[0.8,\"#7fbc41\"],[0.9,\"#4d9221\"],[1,\"#276419\"]]},\"xaxis\":{\"gridcolor\":\"white\",\"linecolor\":\"white\",\"ticks\":\"\",\"title\":{\"standoff\":15},\"zerolinecolor\":\"white\",\"automargin\":true,\"zerolinewidth\":2},\"yaxis\":{\"gridcolor\":\"white\",\"linecolor\":\"white\",\"ticks\":\"\",\"title\":{\"standoff\":15},\"zerolinecolor\":\"white\",\"automargin\":true,\"zerolinewidth\":2},\"scene\":{\"xaxis\":{\"backgroundcolor\":\"#E5ECF6\",\"gridcolor\":\"white\",\"linecolor\":\"white\",\"showbackground\":true,\"ticks\":\"\",\"zerolinecolor\":\"white\",\"gridwidth\":2},\"yaxis\":{\"backgroundcolor\":\"#E5ECF6\",\"gridcolor\":\"white\",\"linecolor\":\"white\",\"showbackground\":true,\"ticks\":\"\",\"zerolinecolor\":\"white\",\"gridwidth\":2},\"zaxis\":{\"backgroundcolor\":\"#E5ECF6\",\"gridcolor\":\"white\",\"linecolor\":\"white\",\"showbackground\":true,\"ticks\":\"\",\"zerolinecolor\":\"white\",\"gridwidth\":2}},\"shapedefaults\":{\"line\":{\"color\":\"#2a3f5f\"}},\"annotationdefaults\":{\"arrowcolor\":\"#2a3f5f\",\"arrowhead\":0,\"arrowwidth\":1},\"geo\":{\"bgcolor\":\"white\",\"landcolor\":\"#E5ECF6\",\"subunitcolor\":\"white\",\"showland\":true,\"showlakes\":true,\"lakecolor\":\"white\"},\"title\":{\"x\":0.05},\"mapbox\":{\"style\":\"light\"}}},\"xaxis\":{\"anchor\":\"y\",\"domain\":[0.0,1.0],\"range\":[-0.6711332372426143,0.6711332372426143]},\"yaxis\":{\"anchor\":\"x\",\"domain\":[0.55,1.0],\"showticklabels\":false,\"range\":[0,2.5]},\"xaxis2\":{\"anchor\":\"y2\",\"domain\":[0.0,1.0],\"range\":[-0.2080210074575455,0.2080210074575455]},\"yaxis2\":{\"anchor\":\"x2\",\"domain\":[0.0,0.45],\"showticklabels\":false,\"range\":[0,2.5]},\"annotations\":[{\"font\":{\"size\":16},\"showarrow\":false,\"text\":\"PC5 Cosine Similarity\",\"x\":0.5,\"xanchor\":\"center\",\"xref\":\"paper\",\"y\":1.0,\"yanchor\":\"bottom\",\"yref\":\"paper\"},{\"font\":{\"size\":16},\"showarrow\":false,\"text\":\"PC5 Normalized Projection\",\"x\":0.5,\"xanchor\":\"center\",\"xref\":\"paper\",\"y\":0.45,\"yanchor\":\"bottom\",\"yref\":\"paper\"},{\"bgcolor\":\"rgba(255, 255, 255, 0.9)\",\"bordercolor\":\"black\",\"borderwidth\":1,\"font\":{\"color\":\"black\",\"size\":10},\"showarrow\":false,\"text\":\"Open ended\",\"x\":-0.5683485016250263,\"xref\":\"x\",\"y\":1.45,\"yref\":\"y\"},{\"bgcolor\":\"rgba(255, 255, 255, 0.9)\",\"bordercolor\":\"black\",\"borderwidth\":1,\"font\":{\"color\":\"black\",\"size\":10},\"showarrow\":false,\"text\":\"Introspective\",\"x\":-0.5212141041225948,\"xref\":\"x\",\"y\":0.6,\"yref\":\"y\"},{\"bgcolor\":\"rgba(255, 255, 255, 0.9)\",\"bordercolor\":\"black\",\"borderwidth\":1,\"font\":{\"color\":\"black\",\"size\":10},\"showarrow\":false,\"text\":\"Relativist\",\"x\":-0.46666040400478637,\"xref\":\"x\",\"y\":1.9,\"yref\":\"y\"},{\"bgcolor\":\"rgba(255, 255, 255, 0.9)\",\"bordercolor\":\"black\",\"borderwidth\":1,\"font\":{\"color\":\"black\",\"size\":10},\"showarrow\":false,\"text\":\"Melancholic\",\"x\":-0.41878306594741277,\"xref\":\"x\",\"y\":0.15,\"yref\":\"y\"},{\"bgcolor\":\"rgba(255, 255, 255, 0.9)\",\"bordercolor\":\"black\",\"borderwidth\":1,\"font\":{\"color\":\"black\",\"size\":10},\"showarrow\":false,\"text\":\"Humble\",\"x\":-0.41702913116889345,\"xref\":\"x\",\"y\":1.6,\"yref\":\"y\"},{\"bgcolor\":\"rgba(255, 255, 255, 0.9)\",\"bordercolor\":\"black\",\"borderwidth\":1,\"font\":{\"color\":\"black\",\"size\":10},\"showarrow\":false,\"text\":\"Anxious\",\"x\":-0.41407472964404696,\"xref\":\"x\",\"y\":0.45,\"yref\":\"y\"},{\"bgcolor\":\"rgba(255, 255, 255, 0.9)\",\"bordercolor\":\"black\",\"borderwidth\":1,\"font\":{\"color\":\"black\",\"size\":10},\"showarrow\":false,\"text\":\"Philosophical\",\"x\":-0.4123850066840191,\"xref\":\"x\",\"y\":1.3,\"yref\":\"y\"},{\"bgcolor\":\"rgba(255, 255, 255, 0.9)\",\"bordercolor\":\"black\",\"borderwidth\":1,\"font\":{\"color\":\"black\",\"size\":10},\"showarrow\":false,\"text\":\"Stream of consciousness\",\"x\":-0.40603570374758274,\"xref\":\"x\",\"y\":0.75,\"yref\":\"y\"},{\"bgcolor\":\"rgba(255, 255, 255, 0.9)\",\"bordercolor\":\"black\",\"borderwidth\":1,\"font\":{\"color\":\"black\",\"size\":10},\"showarrow\":false,\"text\":\"Pessimistic\",\"x\":-0.3958641586125682,\"xref\":\"x\",\"y\":1.75,\"yref\":\"y\"},{\"bgcolor\":\"rgba(255, 255, 255, 0.9)\",\"bordercolor\":\"black\",\"borderwidth\":1,\"font\":{\"color\":\"black\",\"size\":10},\"showarrow\":false,\"text\":\"Deconstructionist\",\"x\":-0.39530958447506975,\"xref\":\"x\",\"y\":0.3,\"yref\":\"y\"},{\"bgcolor\":\"rgba(255, 255, 255, 0.9)\",\"bordercolor\":\"black\",\"borderwidth\":1,\"font\":{\"color\":\"black\",\"size\":10},\"showarrow\":false,\"text\":\"Inspirational\",\"x\":0.33311080930549086,\"xref\":\"x\",\"y\":1.45,\"yref\":\"y\"},{\"bgcolor\":\"rgba(255, 255, 255, 0.9)\",\"bordercolor\":\"black\",\"borderwidth\":1,\"font\":{\"color\":\"black\",\"size\":10},\"showarrow\":false,\"text\":\"Practical\",\"x\":0.3748098056199265,\"xref\":\"x\",\"y\":0.6,\"yref\":\"y\"},{\"bgcolor\":\"rgba(255, 255, 255, 0.9)\",\"bordercolor\":\"black\",\"borderwidth\":1,\"font\":{\"color\":\"black\",\"size\":10},\"showarrow\":false,\"text\":\"Dominant\",\"x\":0.3748674835387306,\"xref\":\"x\",\"y\":1.9,\"yref\":\"y\"},{\"bgcolor\":\"rgba(255, 255, 255, 0.9)\",\"bordercolor\":\"black\",\"borderwidth\":1,\"font\":{\"color\":\"black\",\"size\":10},\"showarrow\":false,\"text\":\"Extroverted\",\"x\":0.38418993050385564,\"xref\":\"x\",\"y\":0.15,\"yref\":\"y\"},{\"bgcolor\":\"rgba(255, 255, 255, 0.9)\",\"bordercolor\":\"black\",\"borderwidth\":1,\"font\":{\"color\":\"black\",\"size\":10},\"showarrow\":false,\"text\":\"Optimistic\",\"x\":0.39978645170856525,\"xref\":\"x\",\"y\":1.6,\"yref\":\"y\"},{\"bgcolor\":\"rgba(255, 255, 255, 0.9)\",\"bordercolor\":\"black\",\"borderwidth\":1,\"font\":{\"color\":\"black\",\"size\":10},\"showarrow\":false,\"text\":\"Prescriptive\",\"x\":0.450028352774877,\"xref\":\"x\",\"y\":0.45,\"yref\":\"y\"},{\"bgcolor\":\"rgba(255, 255, 255, 0.9)\",\"bordercolor\":\"black\",\"borderwidth\":1,\"font\":{\"color\":\"black\",\"size\":10},\"showarrow\":false,\"text\":\"Sassy\",\"x\":0.4627517616617746,\"xref\":\"x\",\"y\":1.3,\"yref\":\"y\"},{\"bgcolor\":\"rgba(255, 255, 255, 0.9)\",\"bordercolor\":\"black\",\"borderwidth\":1,\"font\":{\"color\":\"black\",\"size\":10},\"showarrow\":false,\"text\":\"Confident\",\"x\":0.5147548062811567,\"xref\":\"x\",\"y\":0.75,\"yref\":\"y\"},{\"bgcolor\":\"rgba(255, 255, 255, 0.9)\",\"bordercolor\":\"black\",\"borderwidth\":1,\"font\":{\"color\":\"black\",\"size\":10},\"showarrow\":false,\"text\":\"Decisive\",\"x\":0.6055608582283374,\"xref\":\"x\",\"y\":1.75,\"yref\":\"y\"},{\"bgcolor\":\"rgba(255, 255, 255, 0.9)\",\"bordercolor\":\"black\",\"borderwidth\":1,\"font\":{\"color\":\"black\",\"size\":10},\"showarrow\":false,\"text\":\"Closure seeking\",\"x\":0.610121124766013,\"xref\":\"x\",\"y\":0.3,\"yref\":\"y\"},{\"bgcolor\":\"rgba(255, 255, 255, 0.9)\",\"bordercolor\":\"red\",\"borderwidth\":1,\"font\":{\"color\":\"red\",\"size\":14},\"showarrow\":false,\"text\":\"Assistant\",\"x\":-0.015364067616466932,\"xref\":\"x\",\"y\":2,\"yref\":\"y\"},{\"bgcolor\":\"rgba(255, 255, 255, 0.9)\",\"bordercolor\":\"black\",\"borderwidth\":1,\"font\":{\"color\":\"black\",\"size\":10},\"showarrow\":false,\"text\":\"Anxious\",\"x\":-0.1891100067795868,\"xref\":\"x2\",\"y\":1.45,\"yref\":\"y2\"},{\"bgcolor\":\"rgba(255, 255, 255, 0.9)\",\"bordercolor\":\"black\",\"borderwidth\":1,\"font\":{\"color\":\"black\",\"size\":10},\"showarrow\":false,\"text\":\"Neurotic\",\"x\":-0.17347187277225137,\"xref\":\"x2\",\"y\":0.6,\"yref\":\"y2\"},{\"bgcolor\":\"rgba(255, 255, 255, 0.9)\",\"bordercolor\":\"black\",\"borderwidth\":1,\"font\":{\"color\":\"black\",\"size\":10},\"showarrow\":false,\"text\":\"Introspective\",\"x\":-0.16725038607032935,\"xref\":\"x2\",\"y\":1.9,\"yref\":\"y2\"},{\"bgcolor\":\"rgba(255, 255, 255, 0.9)\",\"bordercolor\":\"black\",\"borderwidth\":1,\"font\":{\"color\":\"black\",\"size\":10},\"showarrow\":false,\"text\":\"Melancholic\",\"x\":-0.14848834084699616,\"xref\":\"x2\",\"y\":0.15,\"yref\":\"y2\"},{\"bgcolor\":\"rgba(255, 255, 255, 0.9)\",\"bordercolor\":\"black\",\"borderwidth\":1,\"font\":{\"color\":\"black\",\"size\":10},\"showarrow\":false,\"text\":\"Socratic\",\"x\":-0.14538524560647828,\"xref\":\"x2\",\"y\":1.6,\"yref\":\"y2\"},{\"bgcolor\":\"rgba(255, 255, 255, 0.9)\",\"bordercolor\":\"black\",\"borderwidth\":1,\"font\":{\"color\":\"black\",\"size\":10},\"showarrow\":false,\"text\":\"Pensive\",\"x\":-0.1380880723317179,\"xref\":\"x2\",\"y\":0.45,\"yref\":\"y2\"},{\"bgcolor\":\"rgba(255, 255, 255, 0.9)\",\"bordercolor\":\"black\",\"borderwidth\":1,\"font\":{\"color\":\"black\",\"size\":10},\"showarrow\":false,\"text\":\"Relativist\",\"x\":-0.13785533260518948,\"xref\":\"x2\",\"y\":1.3,\"yref\":\"y2\"},{\"bgcolor\":\"rgba(255, 255, 255, 0.9)\",\"bordercolor\":\"black\",\"borderwidth\":1,\"font\":{\"color\":\"black\",\"size\":10},\"showarrow\":false,\"text\":\"Inquisitive\",\"x\":-0.13118304742264988,\"xref\":\"x2\",\"y\":0.75,\"yref\":\"y2\"},{\"bgcolor\":\"rgba(255, 255, 255, 0.9)\",\"bordercolor\":\"black\",\"borderwidth\":1,\"font\":{\"color\":\"black\",\"size\":10},\"showarrow\":false,\"text\":\"Open ended\",\"x\":-0.12813522366382143,\"xref\":\"x2\",\"y\":1.75,\"yref\":\"y2\"},{\"bgcolor\":\"rgba(255, 255, 255, 0.9)\",\"bordercolor\":\"black\",\"borderwidth\":1,\"font\":{\"color\":\"black\",\"size\":10},\"showarrow\":false,\"text\":\"Humble\",\"x\":-0.12195056752453909,\"xref\":\"x2\",\"y\":0.3,\"yref\":\"y2\"},{\"bgcolor\":\"rgba(255, 255, 255, 0.9)\",\"bordercolor\":\"black\",\"borderwidth\":1,\"font\":{\"color\":\"black\",\"size\":10},\"showarrow\":false,\"text\":\"Practical\",\"x\":0.11412745957841965,\"xref\":\"x2\",\"y\":1.45,\"yref\":\"y2\"},{\"bgcolor\":\"rgba(255, 255, 255, 0.9)\",\"bordercolor\":\"black\",\"borderwidth\":1,\"font\":{\"color\":\"black\",\"size\":10},\"showarrow\":false,\"text\":\"Optimistic\",\"x\":0.12467980928188219,\"xref\":\"x2\",\"y\":0.6,\"yref\":\"y2\"},{\"bgcolor\":\"rgba(255, 255, 255, 0.9)\",\"bordercolor\":\"black\",\"borderwidth\":1,\"font\":{\"color\":\"black\",\"size\":10},\"showarrow\":false,\"text\":\"Prescriptive\",\"x\":0.12561675991826643,\"xref\":\"x2\",\"y\":1.9,\"yref\":\"y2\"},{\"bgcolor\":\"rgba(255, 255, 255, 0.9)\",\"bordercolor\":\"black\",\"borderwidth\":1,\"font\":{\"color\":\"black\",\"size\":10},\"showarrow\":false,\"text\":\"Confident\",\"x\":0.13082957445442042,\"xref\":\"x2\",\"y\":0.15,\"yref\":\"y2\"},{\"bgcolor\":\"rgba(255, 255, 255, 0.9)\",\"bordercolor\":\"black\",\"borderwidth\":1,\"font\":{\"color\":\"black\",\"size\":10},\"showarrow\":false,\"text\":\"Goofy\",\"x\":0.13706434155439004,\"xref\":\"x2\",\"y\":1.6,\"yref\":\"y2\"},{\"bgcolor\":\"rgba(255, 255, 255, 0.9)\",\"bordercolor\":\"black\",\"borderwidth\":1,\"font\":{\"color\":\"black\",\"size\":10},\"showarrow\":false,\"text\":\"Inspirational\",\"x\":0.140236703439811,\"xref\":\"x2\",\"y\":0.45,\"yref\":\"y2\"},{\"bgcolor\":\"rgba(255, 255, 255, 0.9)\",\"bordercolor\":\"black\",\"borderwidth\":1,\"font\":{\"color\":\"black\",\"size\":10},\"showarrow\":false,\"text\":\"Resilient\",\"x\":0.14165917171132056,\"xref\":\"x2\",\"y\":1.3,\"yref\":\"y2\"},{\"bgcolor\":\"rgba(255, 255, 255, 0.9)\",\"bordercolor\":\"black\",\"borderwidth\":1,\"font\":{\"color\":\"black\",\"size\":10},\"showarrow\":false,\"text\":\"Sassy\",\"x\":0.1480537037775262,\"xref\":\"x2\",\"y\":0.75,\"yref\":\"y2\"},{\"bgcolor\":\"rgba(255, 255, 255, 0.9)\",\"bordercolor\":\"black\",\"borderwidth\":1,\"font\":{\"color\":\"black\",\"size\":10},\"showarrow\":false,\"text\":\"Closure seeking\",\"x\":0.16294297991054577,\"xref\":\"x2\",\"y\":1.75,\"yref\":\"y2\"},{\"bgcolor\":\"rgba(255, 255, 255, 0.9)\",\"bordercolor\":\"black\",\"borderwidth\":1,\"font\":{\"color\":\"black\",\"size\":10},\"showarrow\":false,\"text\":\"Decisive\",\"x\":0.17806591689730036,\"xref\":\"x2\",\"y\":0.3,\"yref\":\"y2\"},{\"bgcolor\":\"rgba(255, 255, 255, 0.9)\",\"bordercolor\":\"red\",\"borderwidth\":1,\"font\":{\"color\":\"red\",\"size\":14},\"showarrow\":false,\"text\":\"Assistant\",\"x\":-0.008227270006008537,\"xref\":\"x2\",\"y\":2,\"yref\":\"y2\"}],\"shapes\":[{\"line\":{\"color\":\"gray\",\"dash\":\"solid\",\"width\":1},\"opacity\":0.7,\"type\":\"line\",\"x0\":0,\"x1\":0,\"xref\":\"x\",\"y0\":0,\"y1\":1,\"yref\":\"y domain\"},{\"line\":{\"color\":\"red\",\"dash\":\"dash\",\"width\":1},\"opacity\":1.0,\"type\":\"line\",\"x0\":-0.015364067616466932,\"x1\":-0.015364067616466932,\"xref\":\"x\",\"y0\":0,\"y1\":1,\"yref\":\"y domain\"},{\"line\":{\"color\":\"gray\",\"dash\":\"solid\",\"width\":1},\"opacity\":0.7,\"type\":\"line\",\"x0\":0,\"x1\":0,\"xref\":\"x2\",\"y0\":0,\"y1\":1,\"yref\":\"y2 domain\"},{\"line\":{\"color\":\"red\",\"dash\":\"dash\",\"width\":1},\"opacity\":1.0,\"type\":\"line\",\"x0\":-0.008227270006008537,\"x1\":-0.008227270006008537,\"xref\":\"x2\",\"y0\":0,\"y1\":1,\"yref\":\"y2 domain\"}],\"title\":{\"subtitle\":{\"text\":\"Gemma 2 27B Base, Layer 22 - Shared Question Set, Mean-Centered and Scaled Vectors\"},\"font\":{\"size\":16},\"text\":\"PCA on Trait Vectors\",\"x\":0.5},\"height\":800,\"width\":1200,\"showlegend\":false},                        {\"responsive\": true}                    ).then(function(){\n",
       "                            \n",
       "var gd = document.getElementById('d6e0f5bc-f12a-4060-ba18-bc46ae5a2141');\n",
       "var x = new MutationObserver(function (mutations, observer) {{\n",
       "        var display = window.getComputedStyle(gd).display;\n",
       "        if (!display || display === 'none') {{\n",
       "            console.log([gd, 'removed!']);\n",
       "            Plotly.purge(gd);\n",
       "            observer.disconnect();\n",
       "        }}\n",
       "}});\n",
       "\n",
       "// Listen for the removal of the full notebook cells\n",
       "var notebookContainer = gd.closest('#notebook-container');\n",
       "if (notebookContainer) {{\n",
       "    x.observe(notebookContainer, {childList: true});\n",
       "}}\n",
       "\n",
       "// Listen for the clearing of the current output cell\n",
       "var outputEl = gd.closest('.output');\n",
       "if (outputEl) {{\n",
       "    x.observe(outputEl, {childList: true});\n",
       "}}\n",
       "\n",
       "                        })                };                });            </script>        </div>"
      ]
     },
     "metadata": {},
     "output_type": "display_data"
    }
   ],
   "source": [
    "if normalized:\n",
    "    subtitle = f\"{model_name.replace('-', ' ')}, Layer {layer} - Shared Question Set, Unit Normalized Vectors\"\n",
    "else:\n",
    "    subtitle = f\"{model_name.replace('-', ' ')} Base, Layer {layer} - Shared Question Set, Mean-Centered and Scaled Vectors\"\n",
    "\n",
    "for i in range(5):\n",
    "    fig = plot_pc(\n",
    "        pca_results=pca_results,\n",
    "        trait_labels=trait_labels,\n",
    "        layer=layer,\n",
    "        pc_component=i,\n",
    "        assistant_activation=default_vectors['activations']['default_1'],\n",
    "        assistant_projection=asst_projected[0],\n",
    "        subtitle=subtitle,\n",
    "        scaled=not normalized,\n",
    "    )\n",
    "    fig.show()\n",
    "\n",
    "    if not normalized:\n",
    "        fig.write_html(f\"{plot_dir}/pc{i+1}.html\")\n",
    "    else:\n",
    "        fig.write_html(f\"{plot_dir}/pc{i+1}_normalized.html\")"
   ]
  },
  {
   "cell_type": "code",
   "execution_count": 8,
   "id": "e18873db",
   "metadata": {},
   "outputs": [],
   "source": [
    "# for i in range(10):\n",
    "#     fig = plot_pca_cosine_similarity(\n",
    "#             pca_results=pca_results,\n",
    "#             trait_labels=trait_labels,\n",
    "#             pc_component=i,\n",
    "#             layer=layer,\n",
    "#             assistant_activation=default_vectors['activations']['default_1'],\n",
    "#             subtitle=f\"{model_name.replace('-', ' ')}, Layer {layer} - Shared Question Set\"\n",
    "#         )\n",
    "#     fig.show()\n",
    "#     fig.write_html(f\"{plot_dir}/pc{i+1}_cossim.html\")"
   ]
  },
  {
   "cell_type": "code",
   "execution_count": 9,
   "id": "6dc0fbb7",
   "metadata": {},
   "outputs": [],
   "source": [
    "# for i in range(10):\n",
    "#     fig = plot_pca_projection(\n",
    "#             pca_results=pca_results,\n",
    "#             trait_labels=trait_labels,\n",
    "#             pc_component=i,\n",
    "#             assistant_activation=asst_projected[0],\n",
    "#             subtitle=f\"{model_name.replace('-', ' ')}, Layer {layer} - Shared Question Set\"\n",
    "#         )\n",
    "#     fig.show()\n",
    "#     fig.write_html(f\"{plot_dir}/pc{i+1}_projection.html\")"
   ]
  },
  {
   "cell_type": "code",
   "execution_count": 10,
   "id": "12724638",
   "metadata": {},
   "outputs": [
    {
     "data": {
      "application/vnd.plotly.v1+json": {
       "config": {
        "plotlyServerURL": "https://plot.ly"
       },
       "data": [
        {
         "hovertemplate": "<b>%{text}</b><br>PC1: %{x:.3f}<br>PC2: %{y:.3f}<br>PC3: %{z:.3f}<br><extra></extra>",
         "marker": {
          "color": [
           "limegreen",
           "limegreen",
           "limegreen",
           "limegreen",
           "limegreen",
           "limegreen",
           "limegreen",
           "limegreen",
           "limegreen",
           "limegreen",
           "limegreen",
           "limegreen",
           "limegreen",
           "limegreen",
           "limegreen",
           "limegreen",
           "limegreen",
           "limegreen",
           "limegreen",
           "limegreen",
           "limegreen",
           "limegreen",
           "limegreen",
           "limegreen",
           "limegreen",
           "limegreen",
           "limegreen",
           "limegreen",
           "limegreen",
           "limegreen",
           "limegreen",
           "limegreen",
           "limegreen",
           "limegreen",
           "limegreen",
           "limegreen",
           "limegreen",
           "limegreen",
           "limegreen",
           "limegreen",
           "limegreen",
           "limegreen",
           "limegreen",
           "limegreen",
           "limegreen",
           "limegreen",
           "limegreen",
           "limegreen",
           "limegreen",
           "limegreen",
           "limegreen",
           "limegreen",
           "limegreen",
           "limegreen",
           "limegreen",
           "limegreen",
           "limegreen",
           "limegreen",
           "limegreen",
           "limegreen",
           "limegreen",
           "limegreen",
           "limegreen",
           "limegreen",
           "limegreen",
           "limegreen",
           "limegreen",
           "limegreen",
           "limegreen",
           "limegreen",
           "limegreen",
           "limegreen",
           "limegreen",
           "limegreen",
           "limegreen",
           "limegreen",
           "limegreen",
           "limegreen",
           "limegreen",
           "limegreen",
           "limegreen",
           "limegreen",
           "limegreen",
           "limegreen",
           "limegreen",
           "limegreen",
           "limegreen",
           "limegreen",
           "limegreen",
           "limegreen",
           "limegreen",
           "limegreen",
           "limegreen",
           "limegreen",
           "limegreen",
           "limegreen",
           "limegreen",
           "limegreen",
           "limegreen",
           "limegreen",
           "limegreen",
           "limegreen",
           "limegreen",
           "limegreen",
           "limegreen",
           "limegreen",
           "limegreen",
           "limegreen",
           "limegreen",
           "limegreen",
           "limegreen",
           "limegreen",
           "limegreen",
           "limegreen",
           "limegreen",
           "limegreen",
           "limegreen",
           "limegreen",
           "limegreen",
           "limegreen",
           "limegreen",
           "limegreen",
           "limegreen",
           "limegreen",
           "limegreen",
           "limegreen",
           "limegreen",
           "limegreen",
           "limegreen",
           "limegreen",
           "limegreen",
           "limegreen",
           "limegreen",
           "limegreen",
           "limegreen",
           "limegreen",
           "limegreen",
           "limegreen",
           "limegreen",
           "limegreen",
           "limegreen",
           "limegreen",
           "limegreen",
           "limegreen",
           "limegreen",
           "limegreen",
           "limegreen",
           "limegreen",
           "limegreen",
           "limegreen",
           "limegreen",
           "limegreen",
           "limegreen",
           "limegreen",
           "limegreen",
           "limegreen",
           "limegreen",
           "limegreen",
           "limegreen",
           "limegreen",
           "limegreen",
           "limegreen",
           "limegreen",
           "limegreen",
           "limegreen",
           "limegreen",
           "limegreen",
           "limegreen",
           "limegreen",
           "limegreen",
           "limegreen",
           "limegreen",
           "limegreen",
           "limegreen",
           "limegreen",
           "limegreen",
           "limegreen",
           "limegreen",
           "limegreen",
           "limegreen",
           "limegreen",
           "limegreen",
           "limegreen",
           "limegreen",
           "limegreen",
           "limegreen",
           "limegreen",
           "limegreen",
           "limegreen",
           "limegreen",
           "limegreen",
           "limegreen",
           "limegreen",
           "limegreen",
           "limegreen",
           "limegreen",
           "limegreen",
           "limegreen",
           "limegreen",
           "limegreen",
           "limegreen",
           "limegreen",
           "limegreen",
           "limegreen",
           "limegreen",
           "limegreen",
           "limegreen",
           "limegreen",
           "limegreen",
           "limegreen",
           "limegreen",
           "limegreen",
           "limegreen",
           "limegreen",
           "limegreen",
           "limegreen",
           "limegreen",
           "limegreen",
           "limegreen",
           "limegreen",
           "limegreen",
           "limegreen",
           "limegreen",
           "limegreen",
           "limegreen",
           "limegreen",
           "limegreen",
           "limegreen",
           "limegreen",
           "limegreen",
           "limegreen",
           "limegreen",
           "limegreen",
           "limegreen",
           "limegreen",
           "limegreen",
           "limegreen",
           "limegreen",
           "limegreen",
           "limegreen"
          ],
          "line": {
           "color": "black",
           "width": 2
          },
          "size": 3
         },
         "mode": "markers+text",
         "text": [
          "Zealous",
          "Wry",
          "Witty",
          "Whimsical",
          "Visceral",
          "Vindictive",
          "Verbose",
          "Utilitarian",
          "Urgent",
          "Universalist",
          "Understated",
          "Transparent",
          "Traditional",
          "Theoretical",
          "Theatrical",
          "Temperamental",
          "Technical",
          "Tactful",
          "Systems thinker",
          "Sycophantic",
          "Supportive",
          "Subversive",
          "Submissive",
          "Structuralist",
          "Stream of consciousness",
          "Strategic",
          "Stoic",
          "Spontaneous",
          "Spiritual",
          "Speculative",
          "Specialized",
          "Solemn",
          "Socratic",
          "Skeptical",
          "Serious",
          "Serene",
          "Secular",
          "Savage",
          "Sassy",
          "Sardonic",
          "Sarcastic",
          "Romantic",
          "Ritualistic",
          "Risk taking",
          "Rhetorical",
          "Reverent",
          "Resilient",
          "Reserved",
          "Relativist",
          "Regulatory",
          "Reductionist",
          "Rebellious",
          "Reactive",
          "Rationalist",
          "Radical",
          "Quantitative",
          "Qualitative",
          "Provocative",
          "Progressive",
          "Problem solving",
          "Proactive",
          "Principled",
          "Prescriptive",
          "Practical",
          "Poetic",
          "Pluralist",
          "Playful",
          "Philosophical",
          "Petty",
          "Pessimistic",
          "Perfectionist",
          "Pensive",
          "Pedantic",
          "Patient",
          "Passive aggressive",
          "Passionate",
          "Paranoid",
          "Paradoxical",
          "Pacifist",
          "Optimistic",
          "Open ended",
          "Obsessive",
          "Nurturing",
          "Nostalgic",
          "Nonchalant",
          "Nihilistic",
          "Neurotic",
          "Narrative",
          "Naive",
          "Mystical",
          "Moderate",
          "Mischievous",
          "Misanthropic",
          "Militant",
          "Meticulous",
          "Methodical",
          "Metaphorical",
          "Mercurial",
          "Melodramatic",
          "Melancholic",
          "Meditative",
          "Materialist",
          "Manipulative",
          "Manic",
          "Literal",
          "Libertarian",
          "Judgmental",
          "Irreverent",
          "Ironic",
          "Intuitive",
          "Introverted",
          "Introspective",
          "Interdisciplinary",
          "Inspirational",
          "Inquisitive",
          "Innovative",
          "Individualistic",
          "Independent",
          "Inclusive",
          "Impulsive",
          "Improvisational",
          "Impatient",
          "Idealistic",
          "Iconoclastic",
          "Humble",
          "Humanistic",
          "Hostile",
          "Holistic",
          "Historical",
          "Hedonistic",
          "Grounded",
          "Gregarious",
          "Grandiose",
          "Goofy",
          "Generous",
          "Generalist",
          "Futuristic",
          "Fundamentalist",
          "Formalist",
          "Formal",
          "Forgiving",
          "Flirty",
          "Flippant",
          "Flexible",
          "Fatalistic",
          "Factual",
          "Extroverted",
          "Exploratory",
          "Experiential",
          "Existentialist",
          "Evil",
          "Ethereal",
          "Essentialist",
          "Esoteric",
          "Erudite",
          "Epicurean",
          "Environmental",
          "Entertaining",
          "Enigmatic",
          "Empathetic",
          "Emotional",
          "Eloquent",
          "Elitist",
          "Egalitarian",
          "Effusive",
          "Efficient",
          "Educational",
          "Edgy",
          "Eclectic",
          "Earnest",
          "Dramatic",
          "Dominant",
          "Dogmatic",
          "Divergent",
          "Dispassionate",
          "Disorganized",
          "Diplomatic",
          "Deterministic",
          "Detached",
          "Descriptive",
          "Deontological",
          "Deferential",
          "Deconstructionist",
          "Decisive",
          "Data driven",
          "Cynical",
          "Curious",
          "Cryptic",
          "Cruel",
          "Critical",
          "Creative",
          "Cosmopolitan",
          "Convergent",
          "Contrarian",
          "Contemporary",
          "Constructivist",
          "Conscientious",
          "Confrontational",
          "Confident",
          "Condescending",
          "Concise",
          "Conciliatory",
          "Conceptual",
          "Competitive",
          "Collectivistic",
          "Collaborative",
          "Closure seeking",
          "Circumspect",
          "Chill",
          "Charismatic",
          "Chaotic",
          "Challenging",
          "Cautious",
          "Casual",
          "Calm",
          "Callous",
          "Calculating",
          "Bombastic",
          "Blunt",
          "Bitter",
          "Big picture",
          "Benevolent",
          "Avoidant",
          "Assertive",
          "Ascetic",
          "Artistic",
          "Arrogant",
          "Anxious",
          "Anthropocentric",
          "Animated",
          "Analytical",
          "Altruistic",
          "Agreeable",
          "Adventurous",
          "Adaptable",
          "Acerbic",
          "Accommodating",
          "Accessible",
          "Abstract",
          "Absolutist"
         ],
         "textfont": {
          "size": 6
         },
         "textposition": "top center",
         "type": "scatter3d",
         "x": [
          -36.23557294498763,
          -58.347796657365684,
          -54.24817569785582,
          -55.920456495329404,
          -40.071435918240056,
          3.9674178374226825,
          13.129815136320081,
          17.95948107042132,
          -6.557330767679611,
          12.662553605584577,
          19.086957128639376,
          43.892710370770644,
          43.51760928929471,
          12.05056731037189,
          -44.589565352179974,
          -54.17433769557545,
          22.21244669765679,
          51.442316486373244,
          14.503567674507757,
          -10.619132468124496,
          47.58646537574017,
          -30.486377016847864,
          11.605955689535596,
          34.232474243640084,
          -16.149112265257255,
          40.7234724368479,
          44.010459781595465,
          -37.74169774858173,
          -9.483598499030366,
          -3.521718813508089,
          11.435942699186182,
          71.2723016837819,
          -0.6145072584619392,
          3.6115606782939764,
          71.11466561706514,
          64.7872339960909,
          23.690408273052814,
          -44.878586392664985,
          -59.52661182204699,
          -67.12520112681496,
          -60.76453646512227,
          -38.471773180342716,
          39.021419131530976,
          -16.141572738503495,
          -28.726074113969133,
          51.479618641715994,
          60.349944915645686,
          53.79285471887522,
          -1.2024337933673912,
          38.37179270111452,
          18.538528311749772,
          -23.297936821507957,
          -21.704143681475713,
          30.075834957971015,
          -17.576265455188704,
          23.327270500662735,
          -0.8472644126943634,
          -21.855029116099235,
          2.2552741810507495,
          21.77766894921064,
          19.628587609275648,
          21.27305436720217,
          15.366325859162233,
          13.961568302705967,
          -42.25178278498463,
          21.378251374619534,
          -45.90917246919209,
          -7.5927820275189895,
          -33.7929001634824,
          -5.8032095865698015,
          31.598061532446923,
          33.95016020816714,
          12.006710361615177,
          70.65167679668578,
          -53.574111622265114,
          -32.474964173758615,
          -11.74201448570528,
          -14.009011699058902,
          13.752023590471303,
          28.749689747475237,
          11.275564107624353,
          -15.003147080404416,
          42.58805771315666,
          -6.776168454451727,
          -48.670084756373015,
          -35.789082635085066,
          -41.45351371958238,
          -31.434084893718758,
          8.512316257011776,
          -17.586265162713815,
          63.1216025980553,
          -55.802215124058876,
          -51.79116536432895,
          -38.65964210937145,
          49.49357290405964,
          65.37283567460616,
          -32.37612855953508,
          -49.4185305606262,
          -52.02857207926023,
          -30.126383348913475,
          40.413613316196184,
          15.091927506855168,
          -21.529029017698903,
          -50.34705102866005,
          24.288460269794577,
          1.1890328714555742,
          -32.56324485204972,
          -64.6725169557906,
          -65.85729705229113,
          -3.437005745076965,
          34.700162714969125,
          2.719074435155213,
          9.403441746511163,
          42.83230914201743,
          6.503893748688006,
          -14.844258098320882,
          -10.641673944116027,
          14.298985271100344,
          14.663393944004053,
          -23.54263940132987,
          -18.576266071918347,
          -38.11641046546898,
          16.20749948595474,
          -31.45500162687495,
          15.250216960805066,
          21.740659905199493,
          -61.5923814512513,
          15.493422052354855,
          0.9173646631385648,
          -29.218329577300395,
          29.950951069819425,
          0.6532273856878121,
          -30.6320433177297,
          -65.32274042682938,
          24.638715888493167,
          17.17393586572737,
          2.2961156023811604,
          8.139891386164612,
          32.33272965018773,
          56.926820835055764,
          20.57648462949991,
          -57.418176358311555,
          -72.63995384045128,
          31.24199551744565,
          -13.876697090645145,
          47.08445535248105,
          -13.699515781832822,
          16.575177406091207,
          7.001830892335864,
          6.962988135858709,
          -44.41159424409469,
          -33.9692534269065,
          11.262463419988633,
          -10.901945084100607,
          19.969403441937416,
          -0.7732258426601479,
          15.232066386983059,
          -48.85171134005053,
          -47.792363937273365,
          5.893993679780116,
          -17.18473026656148,
          -5.266602656639392,
          -1.1787068099566649,
          15.811047016567185,
          -38.95471666692913,
          9.845021184829415,
          38.29304883925536,
          -65.32999850185992,
          1.4259364455750692,
          70.82638102957918,
          -47.45842051276706,
          3.6755860249623566,
          -6.600699270622685,
          7.6893244313125715,
          51.492433911241235,
          -40.24906829977916,
          64.35565118789961,
          -4.3794222979475235,
          39.18159095897225,
          31.62929478318843,
          14.667256633368757,
          20.250730426413096,
          -13.546209971017824,
          16.509405191873796,
          31.577909267673785,
          -21.750888059401493,
          14.75999911842797,
          -41.67217333515318,
          -48.95089257239926,
          -10.789435462721686,
          -20.746396530094774,
          23.98166138103199,
          16.0049020744375,
          -25.47807690680576,
          13.746644577692166,
          6.435269423314052,
          72.98016766990293,
          -11.370496379361377,
          -0.26816143795257785,
          -41.260118464561515,
          10.330921228931677,
          64.12952496380744,
          12.618271069650554,
          -30.412837347912916,
          25.840999606378237,
          20.897082382248612,
          13.607916274714631,
          27.107169507754517,
          46.791314941945316,
          -20.50705479981728,
          -7.3223974136717045,
          -15.487626505160653,
          23.596781489494642,
          -27.313381061073056,
          83.44192466920032,
          -27.22763968324735,
          35.25283283522676,
          -41.41539605666507,
          -6.855400823102197,
          -61.96692123296349,
          18.026479493936883,
          40.79791767136489,
          17.317668929612044,
          -5.38928928713025,
          17.30166122816121,
          -15.63110975565553,
          -25.250654834327708,
          -26.76043981186249,
          12.241072078449385,
          -33.86647354038788,
          43.60937995201964,
          34.58617338728656,
          56.05810356497336,
          -24.33830054706357,
          23.64251769888517,
          -59.40682290727415,
          13.281253072234101,
          17.775387802766694,
          13.40881889762209,
          6.61867556830074
         ],
         "y": [
          24.706558476258806,
          -29.025571234524204,
          18.13504493165334,
          28.16807736391387,
          6.376717229716653,
          -33.95703669579003,
          14.874801172696621,
          -19.771279288211076,
          -20.0678084076522,
          -10.780701372816946,
          -32.85419164762862,
          -24.41506639207251,
          -15.432735352085913,
          -4.6659377802734,
          39.27458020471865,
          -2.9331170204918187,
          -30.78088436285497,
          23.462924759462236,
          15.18692260339605,
          10.344884858446505,
          44.328802913641226,
          4.595043533935411,
          -7.567977624082763,
          -29.57192062449079,
          10.48291775288585,
          12.281372289889614,
          -35.95063111796556,
          24.163299102494484,
          57.56618102235831,
          17.290216653013584,
          -15.161859926669443,
          -4.196483491043196,
          3.8584758045732723,
          -14.934547959032965,
          -22.473697150191306,
          32.50174101214826,
          -34.71531900085349,
          -37.534077614285266,
          -9.916084689512363,
          -32.81151506265837,
          -30.990576491414263,
          62.277520927710434,
          -9.720323827368166,
          11.044320531350202,
          43.76407500594821,
          16.912300233483066,
          8.143630501327909,
          -45.35733303400654,
          -4.487938257219075,
          -29.219253613607897,
          -27.613056655835518,
          6.641188752167819,
          -5.041058249867336,
          -47.71064799316643,
          -2.6779018404665798,
          -46.700993109761065,
          40.854307085619965,
          2.4906309376160363,
          4.460725710585211,
          -8.397294983779188,
          9.273750822038137,
          -1.1706440035299475,
          -32.308805349669804,
          -10.11251547077123,
          60.75073662140489,
          3.808248182471473,
          22.062046462791223,
          29.391460941684727,
          -21.87218813107152,
          -30.470792125269156,
          -11.852354658510249,
          30.157045341762274,
          -21.234024275028524,
          22.266546902313834,
          -18.985672497209944,
          26.07394906271478,
          -18.950689519404044,
          20.312113345977764,
          7.454876943037364,
          24.159401045368682,
          13.627511121537221,
          -4.895280816455317,
          54.718596086160005,
          18.297921348774114,
          -40.810851948896634,
          -31.653553300360628,
          -19.466940466533696,
          33.200021183822656,
          10.121972132649264,
          57.03356191357007,
          0.012956857741607283,
          2.7558652499171714,
          -36.225127700843345,
          -22.254809496431584,
          -8.729616148477325,
          -30.311630818494116,
          56.329258318555055,
          0.3673970634499203,
          36.10096040729985,
          -14.3434064462475,
          65.8154420389979,
          -43.17012896156644,
          -13.41804815796049,
          3.214053632993438,
          -41.4749695260995,
          -5.903576288304021,
          -29.639591377066303,
          -16.277967249281886,
          -14.927361293920752,
          40.28224313772837,
          -4.756974324391109,
          12.272861475166815,
          8.472847320640826,
          39.78686954574351,
          2.9354727237201343,
          8.310160540342865,
          4.78827866685877,
          7.034394986481874,
          10.80012452202824,
          -25.477673524784347,
          23.06833715820257,
          -29.83405623143063,
          13.310611394518572,
          -12.700402331139882,
          -1.3224169851808851,
          32.337161484310236,
          -43.97375708353483,
          15.307017040629507,
          -6.4374013175525935,
          4.527620162562074,
          -29.87716515264788,
          25.084428365500155,
          13.614605964102813,
          -7.007919221238034,
          36.57494101224104,
          24.93341638619076,
          0.05346240636062242,
          -26.699731984435235,
          -32.7308372459821,
          -21.073245822830156,
          25.67271334700957,
          25.314532204419734,
          -34.71192475619114,
          15.437270229700767,
          -8.85990209852725,
          -30.50227191441457,
          11.475777320838992,
          15.013975738835082,
          0.26474821904145435,
          18.10635385287851,
          -31.7978556127507,
          45.49107107963318,
          -17.809089662664856,
          -15.14346598350694,
          -9.865737447145433,
          23.256693284856777,
          13.896111785158359,
          24.230279879195088,
          41.52606620396941,
          40.86412593428462,
          50.44053956029367,
          44.1474339542009,
          -25.13142706867757,
          12.982568298068745,
          26.586618617745405,
          -26.49870969580512,
          16.475372582398162,
          -16.04972317074742,
          14.59245588529325,
          36.830440115500444,
          46.88180345028585,
          -16.878342317541303,
          -24.742003736305016,
          14.862940474248674,
          -60.129935400208105,
          -6.450535276654283,
          7.326662688193635,
          -28.515612470070355,
          -61.15804623378409,
          -24.18885937792494,
          -3.439449848882426,
          -2.80736441665582,
          3.7556377519977002,
          -14.645377550843639,
          -49.90981829354796,
          -41.09933755049657,
          32.47379944389722,
          40.731640409742575,
          -55.71942281755762,
          -2.961800661422304,
          30.07438224653667,
          5.731326020455634,
          -19.505968472681076,
          -3.732213210185609,
          -12.312687339482137,
          18.017653049785554,
          10.513704152538887,
          -20.485490128013364,
          -16.48813718692306,
          -20.742027188131633,
          -32.47200249025279,
          12.561690467777035,
          2.165094114320986,
          -23.57193060354972,
          2.020761291184599,
          4.6925242724558025,
          -22.978374699490093,
          16.942398795970412,
          20.899322076950952,
          45.0437879657223,
          9.311072095867107,
          -6.552473152315675,
          -17.128403419589343,
          13.115664634311738,
          -2.2049930805457927,
          -68.05594376293872,
          3.749695124644798,
          15.902470476760252,
          -39.58326732806159,
          -28.5716127263508,
          10.552903295797881,
          40.59069128862264,
          -38.574096368525,
          -7.93415970354017,
          0.13277661939393737,
          54.183066080357044,
          -23.28839564928418,
          -19.65122813903142,
          -18.08403518678279,
          42.09404967584994,
          -27.744753570248285,
          21.537060031565954,
          20.84307925348576,
          21.21986301974668,
          29.01582228035819,
          -41.10355745844971,
          2.697715942097324,
          21.942315015402976,
          3.176094790028719,
          -12.78371173012264
         ],
         "z": [
          11.262568856664531,
          -6.344222060064782,
          -16.535919417065898,
          -7.826738681899318,
          -22.272882424069717,
          13.502104433441037,
          16.375209867804955,
          -15.285802822120889,
          -0.316441601512926,
          -1.3558405835269391,
          -33.18159308587211,
          -16.31379167463344,
          -16.185857608876198,
          35.450817103209666,
          38.20523135095358,
          -15.282928219067808,
          39.8901876285665,
          -17.07834114662678,
          2.940161391931098,
          -21.515726311221297,
          -22.59749525409205,
          3.741665118669132,
          -25.675624822304624,
          21.71399553889593,
          -16.546735938305023,
          20.258154107637942,
          22.612710850871544,
          -8.854355231520307,
          25.537874937196186,
          -1.5345397321753185,
          35.43146380793383,
          38.592720949285884,
          -17.93734714667205,
          10.301250515133733,
          37.534391185878135,
          7.290481327391597,
          -22.70981551337685,
          4.126836041964937,
          -17.171264485320727,
          -7.8699568636981505,
          -2.1738940330240957,
          19.02778934990592,
          43.2821990823929,
          -0.7032277868611445,
          25.431512561086898,
          25.91743076711964,
          2.7095132935961557,
          7.734655111476413,
          4.629499679999838,
          -2.4353366865406763,
          -21.2479961737757,
          0.8490522441105346,
          -35.05778248849385,
          0.6346634798781954,
          16.311066898998284,
          -3.414988115755093,
          -3.285686183272783,
          15.041449521525301,
          -7.14845457081507,
          -9.171031168305584,
          0.9553804750611828,
          1.4413288445332102,
          -2.1423415033855067,
          -50.84613637045403,
          31.77175942755634,
          -15.939667067705399,
          -26.198261168535023,
          39.41864890659579,
          -3.2113464633596602,
          10.257442324063664,
          32.284699388130605,
          37.157125031544616,
          27.89893788341072,
          3.831489314041999,
          -9.708201448556096,
          -7.4429805592269735,
          16.257657470917007,
          11.574947676575263,
          -8.23905934831654,
          -32.76244525837699,
          -13.43555448691435,
          10.590245461513668,
          -26.254707463485435,
          10.635202440676348,
          -35.26472467212359,
          29.773859127493683,
          -30.766060498092333,
          3.2238815809219736,
          -49.501194889062205,
          19.795809601845914,
          -31.534480733092604,
          -17.415726447583662,
          24.3548792480301,
          23.370481427188015,
          39.74112022547443,
          8.840477431990424,
          19.873990574745516,
          -7.7235554593415525,
          33.96456307598374,
          30.564423942881934,
          19.555543427066617,
          -12.060505886453143,
          -1.4212024721820533,
          -15.247759714255825,
          -19.26977032269679,
          -4.044934821116255,
          6.666342722299985,
          -34.01281348278123,
          -5.877864198771295,
          -5.848825535546057,
          36.076205379617356,
          7.482052051136816,
          3.492665843100379,
          -18.571463415163205,
          -14.335304954672837,
          2.551219231242929,
          -4.308483384062956,
          -5.748061392715702,
          -10.542229745080844,
          -26.21130932281657,
          -16.148474500727083,
          -24.11693685001548,
          13.50970796915122,
          12.467882939250215,
          -21.643431197645064,
          -21.2242065707312,
          1.7494092420044425,
          6.018166836749913,
          16.120922737402395,
          -29.089399995156782,
          -49.860821939718996,
          -37.29155454137846,
          42.48243963492838,
          -29.055284869791905,
          4.5814414185330445,
          -2.798438439469531,
          2.015322445472358,
          9.144435749597836,
          12.448530852476113,
          40.295116630331094,
          -24.680369670443895,
          -12.82632808727087,
          -36.58775814158814,
          -34.54304978067624,
          19.40986947013108,
          -4.821945346300911,
          -29.051368680388396,
          -4.829094912148509,
          -37.529458695137784,
          -19.55488998877621,
          8.089592167567252,
          28.21588789854286,
          7.8892287838924195,
          57.38478018825502,
          51.58555153507306,
          24.55381382357774,
          -2.9628706375973715,
          -27.508313404561168,
          35.45050508403916,
          -31.882852199289577,
          -25.014225094721404,
          48.19011297223458,
          22.25247921007286,
          -13.049661252770255,
          -18.829553473884356,
          -29.674901807609814,
          11.845895585014826,
          -4.273912168893739,
          12.065391984533552,
          10.796608383422168,
          32.16002250414751,
          6.782385110165121,
          11.289580376658332,
          -1.3039859557587357,
          12.91001144608674,
          -23.648081816165508,
          -21.003785511883194,
          18.842242550843935,
          16.64287611186821,
          -7.213087119530154,
          6.52280904937681,
          -15.316182839729885,
          23.760082805255458,
          0.36709301758790125,
          4.82789765002348,
          16.37340309285862,
          -4.6752807575531605,
          50.009876427182505,
          12.156758373912325,
          18.5332213964087,
          4.749864123610768,
          -6.917515904319885,
          -7.133166392618796,
          11.075500280957218,
          -31.27019979876987,
          -0.553094522923012,
          26.347577319756255,
          11.874567329805549,
          6.0307457491288226,
          9.456618359996652,
          -25.945105539836636,
          -34.35660131552147,
          28.086532826256402,
          16.82780365982091,
          -5.824258865554734,
          -16.42202295757049,
          -7.4776374637795575,
          -3.6685118065838913,
          -39.51496357456573,
          -0.4812685459574894,
          -3.063412395535338,
          16.526477458805854,
          -2.6426391416111277,
          -61.95319016248519,
          -12.116124315263168,
          22.41169726552055,
          10.508999083121177,
          65.48906914550565,
          -1.6852335004102086,
          0.03689832469029539,
          12.3809905520626,
          -33.01875677706781,
          -22.955138493084696,
          1.7248098358927388,
          22.356067362321536,
          2.1349377289977394,
          14.121198974481715,
          -28.243192800276802,
          -8.640496075675763,
          -19.36269814474146,
          7.505543896426812,
          -13.237053010978642,
          -27.16465080474356,
          -4.048325749938075,
          -26.46690237780296,
          6.186346047518018,
          -24.832279455064374,
          -61.98901310483028,
          28.515165941888263,
          10.083748301263629
         ]
        },
        {
         "hovertemplate": "<b>Assistant</b><br>PC1: %{x:.3f}<br>PC2: %{y:.3f}<br>PC3: %{z:.3f}<br><extra></extra>",
         "marker": {
          "color": "red",
          "opacity": 1,
          "size": 5
         },
         "mode": "markers+text",
         "showlegend": false,
         "text": [
          "Assistant"
         ],
         "textfont": {
          "color": "black",
          "size": 8
         },
         "textposition": "top center",
         "type": "scatter3d",
         "x": [
          37.812884192613986
         ],
         "y": [
          10.451912417161875
         ],
         "z": [
          -20.541590976141602
         ]
        }
       ],
       "layout": {
        "height": 800,
        "scene": {
         "xaxis": {
          "title": {
           "text": "PC1 (23.1%)"
          }
         },
         "yaxis": {
          "title": {
           "text": "PC2 (14.0%)"
          }
         },
         "zaxis": {
          "title": {
           "text": "PC3 (9.9%)"
          }
         }
        },
        "template": {
         "data": {
          "bar": [
           {
            "error_x": {
             "color": "#2a3f5f"
            },
            "error_y": {
             "color": "#2a3f5f"
            },
            "marker": {
             "line": {
              "color": "#E5ECF6",
              "width": 0.5
             },
             "pattern": {
              "fillmode": "overlay",
              "size": 10,
              "solidity": 0.2
             }
            },
            "type": "bar"
           }
          ],
          "barpolar": [
           {
            "marker": {
             "line": {
              "color": "#E5ECF6",
              "width": 0.5
             },
             "pattern": {
              "fillmode": "overlay",
              "size": 10,
              "solidity": 0.2
             }
            },
            "type": "barpolar"
           }
          ],
          "carpet": [
           {
            "aaxis": {
             "endlinecolor": "#2a3f5f",
             "gridcolor": "white",
             "linecolor": "white",
             "minorgridcolor": "white",
             "startlinecolor": "#2a3f5f"
            },
            "baxis": {
             "endlinecolor": "#2a3f5f",
             "gridcolor": "white",
             "linecolor": "white",
             "minorgridcolor": "white",
             "startlinecolor": "#2a3f5f"
            },
            "type": "carpet"
           }
          ],
          "choropleth": [
           {
            "colorbar": {
             "outlinewidth": 0,
             "ticks": ""
            },
            "type": "choropleth"
           }
          ],
          "contour": [
           {
            "colorbar": {
             "outlinewidth": 0,
             "ticks": ""
            },
            "colorscale": [
             [
              0,
              "#0d0887"
             ],
             [
              0.1111111111111111,
              "#46039f"
             ],
             [
              0.2222222222222222,
              "#7201a8"
             ],
             [
              0.3333333333333333,
              "#9c179e"
             ],
             [
              0.4444444444444444,
              "#bd3786"
             ],
             [
              0.5555555555555556,
              "#d8576b"
             ],
             [
              0.6666666666666666,
              "#ed7953"
             ],
             [
              0.7777777777777778,
              "#fb9f3a"
             ],
             [
              0.8888888888888888,
              "#fdca26"
             ],
             [
              1,
              "#f0f921"
             ]
            ],
            "type": "contour"
           }
          ],
          "contourcarpet": [
           {
            "colorbar": {
             "outlinewidth": 0,
             "ticks": ""
            },
            "type": "contourcarpet"
           }
          ],
          "heatmap": [
           {
            "colorbar": {
             "outlinewidth": 0,
             "ticks": ""
            },
            "colorscale": [
             [
              0,
              "#0d0887"
             ],
             [
              0.1111111111111111,
              "#46039f"
             ],
             [
              0.2222222222222222,
              "#7201a8"
             ],
             [
              0.3333333333333333,
              "#9c179e"
             ],
             [
              0.4444444444444444,
              "#bd3786"
             ],
             [
              0.5555555555555556,
              "#d8576b"
             ],
             [
              0.6666666666666666,
              "#ed7953"
             ],
             [
              0.7777777777777778,
              "#fb9f3a"
             ],
             [
              0.8888888888888888,
              "#fdca26"
             ],
             [
              1,
              "#f0f921"
             ]
            ],
            "type": "heatmap"
           }
          ],
          "heatmapgl": [
           {
            "colorbar": {
             "outlinewidth": 0,
             "ticks": ""
            },
            "colorscale": [
             [
              0,
              "#0d0887"
             ],
             [
              0.1111111111111111,
              "#46039f"
             ],
             [
              0.2222222222222222,
              "#7201a8"
             ],
             [
              0.3333333333333333,
              "#9c179e"
             ],
             [
              0.4444444444444444,
              "#bd3786"
             ],
             [
              0.5555555555555556,
              "#d8576b"
             ],
             [
              0.6666666666666666,
              "#ed7953"
             ],
             [
              0.7777777777777778,
              "#fb9f3a"
             ],
             [
              0.8888888888888888,
              "#fdca26"
             ],
             [
              1,
              "#f0f921"
             ]
            ],
            "type": "heatmapgl"
           }
          ],
          "histogram": [
           {
            "marker": {
             "pattern": {
              "fillmode": "overlay",
              "size": 10,
              "solidity": 0.2
             }
            },
            "type": "histogram"
           }
          ],
          "histogram2d": [
           {
            "colorbar": {
             "outlinewidth": 0,
             "ticks": ""
            },
            "colorscale": [
             [
              0,
              "#0d0887"
             ],
             [
              0.1111111111111111,
              "#46039f"
             ],
             [
              0.2222222222222222,
              "#7201a8"
             ],
             [
              0.3333333333333333,
              "#9c179e"
             ],
             [
              0.4444444444444444,
              "#bd3786"
             ],
             [
              0.5555555555555556,
              "#d8576b"
             ],
             [
              0.6666666666666666,
              "#ed7953"
             ],
             [
              0.7777777777777778,
              "#fb9f3a"
             ],
             [
              0.8888888888888888,
              "#fdca26"
             ],
             [
              1,
              "#f0f921"
             ]
            ],
            "type": "histogram2d"
           }
          ],
          "histogram2dcontour": [
           {
            "colorbar": {
             "outlinewidth": 0,
             "ticks": ""
            },
            "colorscale": [
             [
              0,
              "#0d0887"
             ],
             [
              0.1111111111111111,
              "#46039f"
             ],
             [
              0.2222222222222222,
              "#7201a8"
             ],
             [
              0.3333333333333333,
              "#9c179e"
             ],
             [
              0.4444444444444444,
              "#bd3786"
             ],
             [
              0.5555555555555556,
              "#d8576b"
             ],
             [
              0.6666666666666666,
              "#ed7953"
             ],
             [
              0.7777777777777778,
              "#fb9f3a"
             ],
             [
              0.8888888888888888,
              "#fdca26"
             ],
             [
              1,
              "#f0f921"
             ]
            ],
            "type": "histogram2dcontour"
           }
          ],
          "mesh3d": [
           {
            "colorbar": {
             "outlinewidth": 0,
             "ticks": ""
            },
            "type": "mesh3d"
           }
          ],
          "parcoords": [
           {
            "line": {
             "colorbar": {
              "outlinewidth": 0,
              "ticks": ""
             }
            },
            "type": "parcoords"
           }
          ],
          "pie": [
           {
            "automargin": true,
            "type": "pie"
           }
          ],
          "scatter": [
           {
            "fillpattern": {
             "fillmode": "overlay",
             "size": 10,
             "solidity": 0.2
            },
            "type": "scatter"
           }
          ],
          "scatter3d": [
           {
            "line": {
             "colorbar": {
              "outlinewidth": 0,
              "ticks": ""
             }
            },
            "marker": {
             "colorbar": {
              "outlinewidth": 0,
              "ticks": ""
             }
            },
            "type": "scatter3d"
           }
          ],
          "scattercarpet": [
           {
            "marker": {
             "colorbar": {
              "outlinewidth": 0,
              "ticks": ""
             }
            },
            "type": "scattercarpet"
           }
          ],
          "scattergeo": [
           {
            "marker": {
             "colorbar": {
              "outlinewidth": 0,
              "ticks": ""
             }
            },
            "type": "scattergeo"
           }
          ],
          "scattergl": [
           {
            "marker": {
             "colorbar": {
              "outlinewidth": 0,
              "ticks": ""
             }
            },
            "type": "scattergl"
           }
          ],
          "scattermapbox": [
           {
            "marker": {
             "colorbar": {
              "outlinewidth": 0,
              "ticks": ""
             }
            },
            "type": "scattermapbox"
           }
          ],
          "scatterpolar": [
           {
            "marker": {
             "colorbar": {
              "outlinewidth": 0,
              "ticks": ""
             }
            },
            "type": "scatterpolar"
           }
          ],
          "scatterpolargl": [
           {
            "marker": {
             "colorbar": {
              "outlinewidth": 0,
              "ticks": ""
             }
            },
            "type": "scatterpolargl"
           }
          ],
          "scatterternary": [
           {
            "marker": {
             "colorbar": {
              "outlinewidth": 0,
              "ticks": ""
             }
            },
            "type": "scatterternary"
           }
          ],
          "surface": [
           {
            "colorbar": {
             "outlinewidth": 0,
             "ticks": ""
            },
            "colorscale": [
             [
              0,
              "#0d0887"
             ],
             [
              0.1111111111111111,
              "#46039f"
             ],
             [
              0.2222222222222222,
              "#7201a8"
             ],
             [
              0.3333333333333333,
              "#9c179e"
             ],
             [
              0.4444444444444444,
              "#bd3786"
             ],
             [
              0.5555555555555556,
              "#d8576b"
             ],
             [
              0.6666666666666666,
              "#ed7953"
             ],
             [
              0.7777777777777778,
              "#fb9f3a"
             ],
             [
              0.8888888888888888,
              "#fdca26"
             ],
             [
              1,
              "#f0f921"
             ]
            ],
            "type": "surface"
           }
          ],
          "table": [
           {
            "cells": {
             "fill": {
              "color": "#EBF0F8"
             },
             "line": {
              "color": "white"
             }
            },
            "header": {
             "fill": {
              "color": "#C8D4E3"
             },
             "line": {
              "color": "white"
             }
            },
            "type": "table"
           }
          ]
         },
         "layout": {
          "annotationdefaults": {
           "arrowcolor": "#2a3f5f",
           "arrowhead": 0,
           "arrowwidth": 1
          },
          "autotypenumbers": "strict",
          "coloraxis": {
           "colorbar": {
            "outlinewidth": 0,
            "ticks": ""
           }
          },
          "colorscale": {
           "diverging": [
            [
             0,
             "#8e0152"
            ],
            [
             0.1,
             "#c51b7d"
            ],
            [
             0.2,
             "#de77ae"
            ],
            [
             0.3,
             "#f1b6da"
            ],
            [
             0.4,
             "#fde0ef"
            ],
            [
             0.5,
             "#f7f7f7"
            ],
            [
             0.6,
             "#e6f5d0"
            ],
            [
             0.7,
             "#b8e186"
            ],
            [
             0.8,
             "#7fbc41"
            ],
            [
             0.9,
             "#4d9221"
            ],
            [
             1,
             "#276419"
            ]
           ],
           "sequential": [
            [
             0,
             "#0d0887"
            ],
            [
             0.1111111111111111,
             "#46039f"
            ],
            [
             0.2222222222222222,
             "#7201a8"
            ],
            [
             0.3333333333333333,
             "#9c179e"
            ],
            [
             0.4444444444444444,
             "#bd3786"
            ],
            [
             0.5555555555555556,
             "#d8576b"
            ],
            [
             0.6666666666666666,
             "#ed7953"
            ],
            [
             0.7777777777777778,
             "#fb9f3a"
            ],
            [
             0.8888888888888888,
             "#fdca26"
            ],
            [
             1,
             "#f0f921"
            ]
           ],
           "sequentialminus": [
            [
             0,
             "#0d0887"
            ],
            [
             0.1111111111111111,
             "#46039f"
            ],
            [
             0.2222222222222222,
             "#7201a8"
            ],
            [
             0.3333333333333333,
             "#9c179e"
            ],
            [
             0.4444444444444444,
             "#bd3786"
            ],
            [
             0.5555555555555556,
             "#d8576b"
            ],
            [
             0.6666666666666666,
             "#ed7953"
            ],
            [
             0.7777777777777778,
             "#fb9f3a"
            ],
            [
             0.8888888888888888,
             "#fdca26"
            ],
            [
             1,
             "#f0f921"
            ]
           ]
          },
          "colorway": [
           "#636efa",
           "#EF553B",
           "#00cc96",
           "#ab63fa",
           "#FFA15A",
           "#19d3f3",
           "#FF6692",
           "#B6E880",
           "#FF97FF",
           "#FECB52"
          ],
          "font": {
           "color": "#2a3f5f"
          },
          "geo": {
           "bgcolor": "white",
           "lakecolor": "white",
           "landcolor": "#E5ECF6",
           "showlakes": true,
           "showland": true,
           "subunitcolor": "white"
          },
          "hoverlabel": {
           "align": "left"
          },
          "hovermode": "closest",
          "mapbox": {
           "style": "light"
          },
          "paper_bgcolor": "white",
          "plot_bgcolor": "#E5ECF6",
          "polar": {
           "angularaxis": {
            "gridcolor": "white",
            "linecolor": "white",
            "ticks": ""
           },
           "bgcolor": "#E5ECF6",
           "radialaxis": {
            "gridcolor": "white",
            "linecolor": "white",
            "ticks": ""
           }
          },
          "scene": {
           "xaxis": {
            "backgroundcolor": "#E5ECF6",
            "gridcolor": "white",
            "gridwidth": 2,
            "linecolor": "white",
            "showbackground": true,
            "ticks": "",
            "zerolinecolor": "white"
           },
           "yaxis": {
            "backgroundcolor": "#E5ECF6",
            "gridcolor": "white",
            "gridwidth": 2,
            "linecolor": "white",
            "showbackground": true,
            "ticks": "",
            "zerolinecolor": "white"
           },
           "zaxis": {
            "backgroundcolor": "#E5ECF6",
            "gridcolor": "white",
            "gridwidth": 2,
            "linecolor": "white",
            "showbackground": true,
            "ticks": "",
            "zerolinecolor": "white"
           }
          },
          "shapedefaults": {
           "line": {
            "color": "#2a3f5f"
           }
          },
          "ternary": {
           "aaxis": {
            "gridcolor": "white",
            "linecolor": "white",
            "ticks": ""
           },
           "baxis": {
            "gridcolor": "white",
            "linecolor": "white",
            "ticks": ""
           },
           "bgcolor": "#E5ECF6",
           "caxis": {
            "gridcolor": "white",
            "linecolor": "white",
            "ticks": ""
           }
          },
          "title": {
           "x": 0.05
          },
          "xaxis": {
           "automargin": true,
           "gridcolor": "white",
           "linecolor": "white",
           "ticks": "",
           "title": {
            "standoff": 15
           },
           "zerolinecolor": "white",
           "zerolinewidth": 2
          },
          "yaxis": {
           "automargin": true,
           "gridcolor": "white",
           "linecolor": "white",
           "ticks": "",
           "title": {
            "standoff": 15
           },
           "zerolinecolor": "white",
           "zerolinewidth": 2
          }
         }
        },
        "title": {
         "subtitle": {
          "text": "Qwen 3 32B, Layer 32 - Shared Question Set"
         },
         "text": "Trait Vectors in 3D Principal Component Space"
        },
        "width": 1000
       }
      },
      "text/html": [
       "<div>                            <div id=\"13b876ee-ac0a-4ca2-9f08-ab6346597fb5\" class=\"plotly-graph-div\" style=\"height:800px; width:1000px;\"></div>            <script type=\"text/javascript\">                require([\"plotly\"], function(Plotly) {                    window.PLOTLYENV=window.PLOTLYENV || {};                                    if (document.getElementById(\"13b876ee-ac0a-4ca2-9f08-ab6346597fb5\")) {                    Plotly.newPlot(                        \"13b876ee-ac0a-4ca2-9f08-ab6346597fb5\",                        [{\"hovertemplate\":\"\\u003cb\\u003e%{text}\\u003c\\u002fb\\u003e\\u003cbr\\u003ePC1: %{x:.3f}\\u003cbr\\u003ePC2: %{y:.3f}\\u003cbr\\u003ePC3: %{z:.3f}\\u003cbr\\u003e\\u003cextra\\u003e\\u003c\\u002fextra\\u003e\",\"marker\":{\"color\":[\"limegreen\",\"limegreen\",\"limegreen\",\"limegreen\",\"limegreen\",\"limegreen\",\"limegreen\",\"limegreen\",\"limegreen\",\"limegreen\",\"limegreen\",\"limegreen\",\"limegreen\",\"limegreen\",\"limegreen\",\"limegreen\",\"limegreen\",\"limegreen\",\"limegreen\",\"limegreen\",\"limegreen\",\"limegreen\",\"limegreen\",\"limegreen\",\"limegreen\",\"limegreen\",\"limegreen\",\"limegreen\",\"limegreen\",\"limegreen\",\"limegreen\",\"limegreen\",\"limegreen\",\"limegreen\",\"limegreen\",\"limegreen\",\"limegreen\",\"limegreen\",\"limegreen\",\"limegreen\",\"limegreen\",\"limegreen\",\"limegreen\",\"limegreen\",\"limegreen\",\"limegreen\",\"limegreen\",\"limegreen\",\"limegreen\",\"limegreen\",\"limegreen\",\"limegreen\",\"limegreen\",\"limegreen\",\"limegreen\",\"limegreen\",\"limegreen\",\"limegreen\",\"limegreen\",\"limegreen\",\"limegreen\",\"limegreen\",\"limegreen\",\"limegreen\",\"limegreen\",\"limegreen\",\"limegreen\",\"limegreen\",\"limegreen\",\"limegreen\",\"limegreen\",\"limegreen\",\"limegreen\",\"limegreen\",\"limegreen\",\"limegreen\",\"limegreen\",\"limegreen\",\"limegreen\",\"limegreen\",\"limegreen\",\"limegreen\",\"limegreen\",\"limegreen\",\"limegreen\",\"limegreen\",\"limegreen\",\"limegreen\",\"limegreen\",\"limegreen\",\"limegreen\",\"limegreen\",\"limegreen\",\"limegreen\",\"limegreen\",\"limegreen\",\"limegreen\",\"limegreen\",\"limegreen\",\"limegreen\",\"limegreen\",\"limegreen\",\"limegreen\",\"limegreen\",\"limegreen\",\"limegreen\",\"limegreen\",\"limegreen\",\"limegreen\",\"limegreen\",\"limegreen\",\"limegreen\",\"limegreen\",\"limegreen\",\"limegreen\",\"limegreen\",\"limegreen\",\"limegreen\",\"limegreen\",\"limegreen\",\"limegreen\",\"limegreen\",\"limegreen\",\"limegreen\",\"limegreen\",\"limegreen\",\"limegreen\",\"limegreen\",\"limegreen\",\"limegreen\",\"limegreen\",\"limegreen\",\"limegreen\",\"limegreen\",\"limegreen\",\"limegreen\",\"limegreen\",\"limegreen\",\"limegreen\",\"limegreen\",\"limegreen\",\"limegreen\",\"limegreen\",\"limegreen\",\"limegreen\",\"limegreen\",\"limegreen\",\"limegreen\",\"limegreen\",\"limegreen\",\"limegreen\",\"limegreen\",\"limegreen\",\"limegreen\",\"limegreen\",\"limegreen\",\"limegreen\",\"limegreen\",\"limegreen\",\"limegreen\",\"limegreen\",\"limegreen\",\"limegreen\",\"limegreen\",\"limegreen\",\"limegreen\",\"limegreen\",\"limegreen\",\"limegreen\",\"limegreen\",\"limegreen\",\"limegreen\",\"limegreen\",\"limegreen\",\"limegreen\",\"limegreen\",\"limegreen\",\"limegreen\",\"limegreen\",\"limegreen\",\"limegreen\",\"limegreen\",\"limegreen\",\"limegreen\",\"limegreen\",\"limegreen\",\"limegreen\",\"limegreen\",\"limegreen\",\"limegreen\",\"limegreen\",\"limegreen\",\"limegreen\",\"limegreen\",\"limegreen\",\"limegreen\",\"limegreen\",\"limegreen\",\"limegreen\",\"limegreen\",\"limegreen\",\"limegreen\",\"limegreen\",\"limegreen\",\"limegreen\",\"limegreen\",\"limegreen\",\"limegreen\",\"limegreen\",\"limegreen\",\"limegreen\",\"limegreen\",\"limegreen\",\"limegreen\",\"limegreen\",\"limegreen\",\"limegreen\",\"limegreen\",\"limegreen\",\"limegreen\",\"limegreen\",\"limegreen\",\"limegreen\",\"limegreen\",\"limegreen\",\"limegreen\",\"limegreen\",\"limegreen\",\"limegreen\",\"limegreen\",\"limegreen\",\"limegreen\",\"limegreen\",\"limegreen\",\"limegreen\",\"limegreen\",\"limegreen\",\"limegreen\",\"limegreen\",\"limegreen\"],\"line\":{\"color\":\"black\",\"width\":2},\"size\":3},\"mode\":\"markers+text\",\"text\":[\"Zealous\",\"Wry\",\"Witty\",\"Whimsical\",\"Visceral\",\"Vindictive\",\"Verbose\",\"Utilitarian\",\"Urgent\",\"Universalist\",\"Understated\",\"Transparent\",\"Traditional\",\"Theoretical\",\"Theatrical\",\"Temperamental\",\"Technical\",\"Tactful\",\"Systems thinker\",\"Sycophantic\",\"Supportive\",\"Subversive\",\"Submissive\",\"Structuralist\",\"Stream of consciousness\",\"Strategic\",\"Stoic\",\"Spontaneous\",\"Spiritual\",\"Speculative\",\"Specialized\",\"Solemn\",\"Socratic\",\"Skeptical\",\"Serious\",\"Serene\",\"Secular\",\"Savage\",\"Sassy\",\"Sardonic\",\"Sarcastic\",\"Romantic\",\"Ritualistic\",\"Risk taking\",\"Rhetorical\",\"Reverent\",\"Resilient\",\"Reserved\",\"Relativist\",\"Regulatory\",\"Reductionist\",\"Rebellious\",\"Reactive\",\"Rationalist\",\"Radical\",\"Quantitative\",\"Qualitative\",\"Provocative\",\"Progressive\",\"Problem solving\",\"Proactive\",\"Principled\",\"Prescriptive\",\"Practical\",\"Poetic\",\"Pluralist\",\"Playful\",\"Philosophical\",\"Petty\",\"Pessimistic\",\"Perfectionist\",\"Pensive\",\"Pedantic\",\"Patient\",\"Passive aggressive\",\"Passionate\",\"Paranoid\",\"Paradoxical\",\"Pacifist\",\"Optimistic\",\"Open ended\",\"Obsessive\",\"Nurturing\",\"Nostalgic\",\"Nonchalant\",\"Nihilistic\",\"Neurotic\",\"Narrative\",\"Naive\",\"Mystical\",\"Moderate\",\"Mischievous\",\"Misanthropic\",\"Militant\",\"Meticulous\",\"Methodical\",\"Metaphorical\",\"Mercurial\",\"Melodramatic\",\"Melancholic\",\"Meditative\",\"Materialist\",\"Manipulative\",\"Manic\",\"Literal\",\"Libertarian\",\"Judgmental\",\"Irreverent\",\"Ironic\",\"Intuitive\",\"Introverted\",\"Introspective\",\"Interdisciplinary\",\"Inspirational\",\"Inquisitive\",\"Innovative\",\"Individualistic\",\"Independent\",\"Inclusive\",\"Impulsive\",\"Improvisational\",\"Impatient\",\"Idealistic\",\"Iconoclastic\",\"Humble\",\"Humanistic\",\"Hostile\",\"Holistic\",\"Historical\",\"Hedonistic\",\"Grounded\",\"Gregarious\",\"Grandiose\",\"Goofy\",\"Generous\",\"Generalist\",\"Futuristic\",\"Fundamentalist\",\"Formalist\",\"Formal\",\"Forgiving\",\"Flirty\",\"Flippant\",\"Flexible\",\"Fatalistic\",\"Factual\",\"Extroverted\",\"Exploratory\",\"Experiential\",\"Existentialist\",\"Evil\",\"Ethereal\",\"Essentialist\",\"Esoteric\",\"Erudite\",\"Epicurean\",\"Environmental\",\"Entertaining\",\"Enigmatic\",\"Empathetic\",\"Emotional\",\"Eloquent\",\"Elitist\",\"Egalitarian\",\"Effusive\",\"Efficient\",\"Educational\",\"Edgy\",\"Eclectic\",\"Earnest\",\"Dramatic\",\"Dominant\",\"Dogmatic\",\"Divergent\",\"Dispassionate\",\"Disorganized\",\"Diplomatic\",\"Deterministic\",\"Detached\",\"Descriptive\",\"Deontological\",\"Deferential\",\"Deconstructionist\",\"Decisive\",\"Data driven\",\"Cynical\",\"Curious\",\"Cryptic\",\"Cruel\",\"Critical\",\"Creative\",\"Cosmopolitan\",\"Convergent\",\"Contrarian\",\"Contemporary\",\"Constructivist\",\"Conscientious\",\"Confrontational\",\"Confident\",\"Condescending\",\"Concise\",\"Conciliatory\",\"Conceptual\",\"Competitive\",\"Collectivistic\",\"Collaborative\",\"Closure seeking\",\"Circumspect\",\"Chill\",\"Charismatic\",\"Chaotic\",\"Challenging\",\"Cautious\",\"Casual\",\"Calm\",\"Callous\",\"Calculating\",\"Bombastic\",\"Blunt\",\"Bitter\",\"Big picture\",\"Benevolent\",\"Avoidant\",\"Assertive\",\"Ascetic\",\"Artistic\",\"Arrogant\",\"Anxious\",\"Anthropocentric\",\"Animated\",\"Analytical\",\"Altruistic\",\"Agreeable\",\"Adventurous\",\"Adaptable\",\"Acerbic\",\"Accommodating\",\"Accessible\",\"Abstract\",\"Absolutist\"],\"textfont\":{\"size\":6},\"textposition\":\"top center\",\"x\":[-36.23557294498763,-58.347796657365684,-54.24817569785582,-55.920456495329404,-40.071435918240056,3.9674178374226825,13.129815136320081,17.95948107042132,-6.557330767679611,12.662553605584577,19.086957128639376,43.892710370770644,43.51760928929471,12.05056731037189,-44.589565352179974,-54.17433769557545,22.21244669765679,51.442316486373244,14.503567674507757,-10.619132468124496,47.58646537574017,-30.486377016847864,11.605955689535596,34.232474243640084,-16.149112265257255,40.7234724368479,44.010459781595465,-37.74169774858173,-9.483598499030366,-3.521718813508089,11.435942699186182,71.2723016837819,-0.6145072584619392,3.6115606782939764,71.11466561706514,64.7872339960909,23.690408273052814,-44.878586392664985,-59.52661182204699,-67.12520112681496,-60.76453646512227,-38.471773180342716,39.021419131530976,-16.141572738503495,-28.726074113969133,51.479618641715994,60.349944915645686,53.79285471887522,-1.2024337933673912,38.37179270111452,18.538528311749772,-23.297936821507957,-21.704143681475713,30.075834957971015,-17.576265455188704,23.327270500662735,-0.8472644126943634,-21.855029116099235,2.2552741810507495,21.77766894921064,19.628587609275648,21.27305436720217,15.366325859162233,13.961568302705967,-42.25178278498463,21.378251374619534,-45.90917246919209,-7.5927820275189895,-33.7929001634824,-5.8032095865698015,31.598061532446923,33.95016020816714,12.006710361615177,70.65167679668578,-53.574111622265114,-32.474964173758615,-11.74201448570528,-14.009011699058902,13.752023590471303,28.749689747475237,11.275564107624353,-15.003147080404416,42.58805771315666,-6.776168454451727,-48.670084756373015,-35.789082635085066,-41.45351371958238,-31.434084893718758,8.512316257011776,-17.586265162713815,63.1216025980553,-55.802215124058876,-51.79116536432895,-38.65964210937145,49.49357290405964,65.37283567460616,-32.37612855953508,-49.4185305606262,-52.02857207926023,-30.126383348913475,40.413613316196184,15.091927506855168,-21.529029017698903,-50.34705102866005,24.288460269794577,1.1890328714555742,-32.56324485204972,-64.6725169557906,-65.85729705229113,-3.437005745076965,34.700162714969125,2.719074435155213,9.403441746511163,42.83230914201743,6.503893748688006,-14.844258098320882,-10.641673944116027,14.298985271100344,14.663393944004053,-23.54263940132987,-18.576266071918347,-38.11641046546898,16.20749948595474,-31.45500162687495,15.250216960805066,21.740659905199493,-61.5923814512513,15.493422052354855,0.9173646631385648,-29.218329577300395,29.950951069819425,0.6532273856878121,-30.6320433177297,-65.32274042682938,24.638715888493167,17.17393586572737,2.2961156023811604,8.139891386164612,32.33272965018773,56.926820835055764,20.57648462949991,-57.418176358311555,-72.63995384045128,31.24199551744565,-13.876697090645145,47.08445535248105,-13.699515781832822,16.575177406091207,7.001830892335864,6.962988135858709,-44.41159424409469,-33.9692534269065,11.262463419988633,-10.901945084100607,19.969403441937416,-0.7732258426601479,15.232066386983059,-48.85171134005053,-47.792363937273365,5.893993679780116,-17.18473026656148,-5.266602656639392,-1.1787068099566649,15.811047016567185,-38.95471666692913,9.845021184829415,38.29304883925536,-65.32999850185992,1.4259364455750692,70.82638102957918,-47.45842051276706,3.6755860249623566,-6.600699270622685,7.6893244313125715,51.492433911241235,-40.24906829977916,64.35565118789961,-4.3794222979475235,39.18159095897225,31.62929478318843,14.667256633368757,20.250730426413096,-13.546209971017824,16.509405191873796,31.577909267673785,-21.750888059401493,14.75999911842797,-41.67217333515318,-48.95089257239926,-10.789435462721686,-20.746396530094774,23.98166138103199,16.0049020744375,-25.47807690680576,13.746644577692166,6.435269423314052,72.98016766990293,-11.370496379361377,-0.26816143795257785,-41.260118464561515,10.330921228931677,64.12952496380744,12.618271069650554,-30.412837347912916,25.840999606378237,20.897082382248612,13.607916274714631,27.107169507754517,46.791314941945316,-20.50705479981728,-7.3223974136717045,-15.487626505160653,23.596781489494642,-27.313381061073056,83.44192466920032,-27.22763968324735,35.25283283522676,-41.41539605666507,-6.855400823102197,-61.96692123296349,18.026479493936883,40.79791767136489,17.317668929612044,-5.38928928713025,17.30166122816121,-15.63110975565553,-25.250654834327708,-26.76043981186249,12.241072078449385,-33.86647354038788,43.60937995201964,34.58617338728656,56.05810356497336,-24.33830054706357,23.64251769888517,-59.40682290727415,13.281253072234101,17.775387802766694,13.40881889762209,6.61867556830074],\"y\":[24.706558476258806,-29.025571234524204,18.13504493165334,28.16807736391387,6.376717229716653,-33.95703669579003,14.874801172696621,-19.771279288211076,-20.0678084076522,-10.780701372816946,-32.85419164762862,-24.41506639207251,-15.432735352085913,-4.6659377802734,39.27458020471865,-2.9331170204918187,-30.78088436285497,23.462924759462236,15.18692260339605,10.344884858446505,44.328802913641226,4.595043533935411,-7.567977624082763,-29.57192062449079,10.48291775288585,12.281372289889614,-35.95063111796556,24.163299102494484,57.56618102235831,17.290216653013584,-15.161859926669443,-4.196483491043196,3.8584758045732723,-14.934547959032965,-22.473697150191306,32.50174101214826,-34.71531900085349,-37.534077614285266,-9.916084689512363,-32.81151506265837,-30.990576491414263,62.277520927710434,-9.720323827368166,11.044320531350202,43.76407500594821,16.912300233483066,8.143630501327909,-45.35733303400654,-4.487938257219075,-29.219253613607897,-27.613056655835518,6.641188752167819,-5.041058249867336,-47.71064799316643,-2.6779018404665798,-46.700993109761065,40.854307085619965,2.4906309376160363,4.460725710585211,-8.397294983779188,9.273750822038137,-1.1706440035299475,-32.308805349669804,-10.11251547077123,60.75073662140489,3.808248182471473,22.062046462791223,29.391460941684727,-21.87218813107152,-30.470792125269156,-11.852354658510249,30.157045341762274,-21.234024275028524,22.266546902313834,-18.985672497209944,26.07394906271478,-18.950689519404044,20.312113345977764,7.454876943037364,24.159401045368682,13.627511121537221,-4.895280816455317,54.718596086160005,18.297921348774114,-40.810851948896634,-31.653553300360628,-19.466940466533696,33.200021183822656,10.121972132649264,57.03356191357007,0.012956857741607283,2.7558652499171714,-36.225127700843345,-22.254809496431584,-8.729616148477325,-30.311630818494116,56.329258318555055,0.3673970634499203,36.10096040729985,-14.3434064462475,65.8154420389979,-43.17012896156644,-13.41804815796049,3.214053632993438,-41.4749695260995,-5.903576288304021,-29.639591377066303,-16.277967249281886,-14.927361293920752,40.28224313772837,-4.756974324391109,12.272861475166815,8.472847320640826,39.78686954574351,2.9354727237201343,8.310160540342865,4.78827866685877,7.034394986481874,10.80012452202824,-25.477673524784347,23.06833715820257,-29.83405623143063,13.310611394518572,-12.700402331139882,-1.3224169851808851,32.337161484310236,-43.97375708353483,15.307017040629507,-6.4374013175525935,4.527620162562074,-29.87716515264788,25.084428365500155,13.614605964102813,-7.007919221238034,36.57494101224104,24.93341638619076,0.05346240636062242,-26.699731984435235,-32.7308372459821,-21.073245822830156,25.67271334700957,25.314532204419734,-34.71192475619114,15.437270229700767,-8.85990209852725,-30.50227191441457,11.475777320838992,15.013975738835082,0.26474821904145435,18.10635385287851,-31.7978556127507,45.49107107963318,-17.809089662664856,-15.14346598350694,-9.865737447145433,23.256693284856777,13.896111785158359,24.230279879195088,41.52606620396941,40.86412593428462,50.44053956029367,44.1474339542009,-25.13142706867757,12.982568298068745,26.586618617745405,-26.49870969580512,16.475372582398162,-16.04972317074742,14.59245588529325,36.830440115500444,46.88180345028585,-16.878342317541303,-24.742003736305016,14.862940474248674,-60.129935400208105,-6.450535276654283,7.326662688193635,-28.515612470070355,-61.15804623378409,-24.18885937792494,-3.439449848882426,-2.80736441665582,3.7556377519977002,-14.645377550843639,-49.90981829354796,-41.09933755049657,32.47379944389722,40.731640409742575,-55.71942281755762,-2.961800661422304,30.07438224653667,5.731326020455634,-19.505968472681076,-3.732213210185609,-12.312687339482137,18.017653049785554,10.513704152538887,-20.485490128013364,-16.48813718692306,-20.742027188131633,-32.47200249025279,12.561690467777035,2.165094114320986,-23.57193060354972,2.020761291184599,4.6925242724558025,-22.978374699490093,16.942398795970412,20.899322076950952,45.0437879657223,9.311072095867107,-6.552473152315675,-17.128403419589343,13.115664634311738,-2.2049930805457927,-68.05594376293872,3.749695124644798,15.902470476760252,-39.58326732806159,-28.5716127263508,10.552903295797881,40.59069128862264,-38.574096368525,-7.93415970354017,0.13277661939393737,54.183066080357044,-23.28839564928418,-19.65122813903142,-18.08403518678279,42.09404967584994,-27.744753570248285,21.537060031565954,20.84307925348576,21.21986301974668,29.01582228035819,-41.10355745844971,2.697715942097324,21.942315015402976,3.176094790028719,-12.78371173012264],\"z\":[11.262568856664531,-6.344222060064782,-16.535919417065898,-7.826738681899318,-22.272882424069717,13.502104433441037,16.375209867804955,-15.285802822120889,-0.316441601512926,-1.3558405835269391,-33.18159308587211,-16.31379167463344,-16.185857608876198,35.450817103209666,38.20523135095358,-15.282928219067808,39.8901876285665,-17.07834114662678,2.940161391931098,-21.515726311221297,-22.59749525409205,3.741665118669132,-25.675624822304624,21.71399553889593,-16.546735938305023,20.258154107637942,22.612710850871544,-8.854355231520307,25.537874937196186,-1.5345397321753185,35.43146380793383,38.592720949285884,-17.93734714667205,10.301250515133733,37.534391185878135,7.290481327391597,-22.70981551337685,4.126836041964937,-17.171264485320727,-7.8699568636981505,-2.1738940330240957,19.02778934990592,43.2821990823929,-0.7032277868611445,25.431512561086898,25.91743076711964,2.7095132935961557,7.734655111476413,4.629499679999838,-2.4353366865406763,-21.2479961737757,0.8490522441105346,-35.05778248849385,0.6346634798781954,16.311066898998284,-3.414988115755093,-3.285686183272783,15.041449521525301,-7.14845457081507,-9.171031168305584,0.9553804750611828,1.4413288445332102,-2.1423415033855067,-50.84613637045403,31.77175942755634,-15.939667067705399,-26.198261168535023,39.41864890659579,-3.2113464633596602,10.257442324063664,32.284699388130605,37.157125031544616,27.89893788341072,3.831489314041999,-9.708201448556096,-7.4429805592269735,16.257657470917007,11.574947676575263,-8.23905934831654,-32.76244525837699,-13.43555448691435,10.590245461513668,-26.254707463485435,10.635202440676348,-35.26472467212359,29.773859127493683,-30.766060498092333,3.2238815809219736,-49.501194889062205,19.795809601845914,-31.534480733092604,-17.415726447583662,24.3548792480301,23.370481427188015,39.74112022547443,8.840477431990424,19.873990574745516,-7.7235554593415525,33.96456307598374,30.564423942881934,19.555543427066617,-12.060505886453143,-1.4212024721820533,-15.247759714255825,-19.26977032269679,-4.044934821116255,6.666342722299985,-34.01281348278123,-5.877864198771295,-5.848825535546057,36.076205379617356,7.482052051136816,3.492665843100379,-18.571463415163205,-14.335304954672837,2.551219231242929,-4.308483384062956,-5.748061392715702,-10.542229745080844,-26.21130932281657,-16.148474500727083,-24.11693685001548,13.50970796915122,12.467882939250215,-21.643431197645064,-21.2242065707312,1.7494092420044425,6.018166836749913,16.120922737402395,-29.089399995156782,-49.860821939718996,-37.29155454137846,42.48243963492838,-29.055284869791905,4.5814414185330445,-2.798438439469531,2.015322445472358,9.144435749597836,12.448530852476113,40.295116630331094,-24.680369670443895,-12.82632808727087,-36.58775814158814,-34.54304978067624,19.40986947013108,-4.821945346300911,-29.051368680388396,-4.829094912148509,-37.529458695137784,-19.55488998877621,8.089592167567252,28.21588789854286,7.8892287838924195,57.38478018825502,51.58555153507306,24.55381382357774,-2.9628706375973715,-27.508313404561168,35.45050508403916,-31.882852199289577,-25.014225094721404,48.19011297223458,22.25247921007286,-13.049661252770255,-18.829553473884356,-29.674901807609814,11.845895585014826,-4.273912168893739,12.065391984533552,10.796608383422168,32.16002250414751,6.782385110165121,11.289580376658332,-1.3039859557587357,12.91001144608674,-23.648081816165508,-21.003785511883194,18.842242550843935,16.64287611186821,-7.213087119530154,6.52280904937681,-15.316182839729885,23.760082805255458,0.36709301758790125,4.82789765002348,16.37340309285862,-4.6752807575531605,50.009876427182505,12.156758373912325,18.5332213964087,4.749864123610768,-6.917515904319885,-7.133166392618796,11.075500280957218,-31.27019979876987,-0.553094522923012,26.347577319756255,11.874567329805549,6.0307457491288226,9.456618359996652,-25.945105539836636,-34.35660131552147,28.086532826256402,16.82780365982091,-5.824258865554734,-16.42202295757049,-7.4776374637795575,-3.6685118065838913,-39.51496357456573,-0.4812685459574894,-3.063412395535338,16.526477458805854,-2.6426391416111277,-61.95319016248519,-12.116124315263168,22.41169726552055,10.508999083121177,65.48906914550565,-1.6852335004102086,0.03689832469029539,12.3809905520626,-33.01875677706781,-22.955138493084696,1.7248098358927388,22.356067362321536,2.1349377289977394,14.121198974481715,-28.243192800276802,-8.640496075675763,-19.36269814474146,7.505543896426812,-13.237053010978642,-27.16465080474356,-4.048325749938075,-26.46690237780296,6.186346047518018,-24.832279455064374,-61.98901310483028,28.515165941888263,10.083748301263629],\"type\":\"scatter3d\"},{\"hovertemplate\":\"\\u003cb\\u003eAssistant\\u003c\\u002fb\\u003e\\u003cbr\\u003ePC1: %{x:.3f}\\u003cbr\\u003ePC2: %{y:.3f}\\u003cbr\\u003ePC3: %{z:.3f}\\u003cbr\\u003e\\u003cextra\\u003e\\u003c\\u002fextra\\u003e\",\"marker\":{\"color\":\"red\",\"opacity\":1.0,\"size\":5},\"mode\":\"markers+text\",\"showlegend\":false,\"text\":[\"Assistant\"],\"textfont\":{\"color\":\"black\",\"size\":8},\"textposition\":\"top center\",\"x\":[37.812884192613986],\"y\":[10.451912417161875],\"z\":[-20.541590976141602],\"type\":\"scatter3d\"}],                        {\"template\":{\"data\":{\"histogram2dcontour\":[{\"type\":\"histogram2dcontour\",\"colorbar\":{\"outlinewidth\":0,\"ticks\":\"\"},\"colorscale\":[[0.0,\"#0d0887\"],[0.1111111111111111,\"#46039f\"],[0.2222222222222222,\"#7201a8\"],[0.3333333333333333,\"#9c179e\"],[0.4444444444444444,\"#bd3786\"],[0.5555555555555556,\"#d8576b\"],[0.6666666666666666,\"#ed7953\"],[0.7777777777777778,\"#fb9f3a\"],[0.8888888888888888,\"#fdca26\"],[1.0,\"#f0f921\"]]}],\"choropleth\":[{\"type\":\"choropleth\",\"colorbar\":{\"outlinewidth\":0,\"ticks\":\"\"}}],\"histogram2d\":[{\"type\":\"histogram2d\",\"colorbar\":{\"outlinewidth\":0,\"ticks\":\"\"},\"colorscale\":[[0.0,\"#0d0887\"],[0.1111111111111111,\"#46039f\"],[0.2222222222222222,\"#7201a8\"],[0.3333333333333333,\"#9c179e\"],[0.4444444444444444,\"#bd3786\"],[0.5555555555555556,\"#d8576b\"],[0.6666666666666666,\"#ed7953\"],[0.7777777777777778,\"#fb9f3a\"],[0.8888888888888888,\"#fdca26\"],[1.0,\"#f0f921\"]]}],\"heatmap\":[{\"type\":\"heatmap\",\"colorbar\":{\"outlinewidth\":0,\"ticks\":\"\"},\"colorscale\":[[0.0,\"#0d0887\"],[0.1111111111111111,\"#46039f\"],[0.2222222222222222,\"#7201a8\"],[0.3333333333333333,\"#9c179e\"],[0.4444444444444444,\"#bd3786\"],[0.5555555555555556,\"#d8576b\"],[0.6666666666666666,\"#ed7953\"],[0.7777777777777778,\"#fb9f3a\"],[0.8888888888888888,\"#fdca26\"],[1.0,\"#f0f921\"]]}],\"heatmapgl\":[{\"type\":\"heatmapgl\",\"colorbar\":{\"outlinewidth\":0,\"ticks\":\"\"},\"colorscale\":[[0.0,\"#0d0887\"],[0.1111111111111111,\"#46039f\"],[0.2222222222222222,\"#7201a8\"],[0.3333333333333333,\"#9c179e\"],[0.4444444444444444,\"#bd3786\"],[0.5555555555555556,\"#d8576b\"],[0.6666666666666666,\"#ed7953\"],[0.7777777777777778,\"#fb9f3a\"],[0.8888888888888888,\"#fdca26\"],[1.0,\"#f0f921\"]]}],\"contourcarpet\":[{\"type\":\"contourcarpet\",\"colorbar\":{\"outlinewidth\":0,\"ticks\":\"\"}}],\"contour\":[{\"type\":\"contour\",\"colorbar\":{\"outlinewidth\":0,\"ticks\":\"\"},\"colorscale\":[[0.0,\"#0d0887\"],[0.1111111111111111,\"#46039f\"],[0.2222222222222222,\"#7201a8\"],[0.3333333333333333,\"#9c179e\"],[0.4444444444444444,\"#bd3786\"],[0.5555555555555556,\"#d8576b\"],[0.6666666666666666,\"#ed7953\"],[0.7777777777777778,\"#fb9f3a\"],[0.8888888888888888,\"#fdca26\"],[1.0,\"#f0f921\"]]}],\"surface\":[{\"type\":\"surface\",\"colorbar\":{\"outlinewidth\":0,\"ticks\":\"\"},\"colorscale\":[[0.0,\"#0d0887\"],[0.1111111111111111,\"#46039f\"],[0.2222222222222222,\"#7201a8\"],[0.3333333333333333,\"#9c179e\"],[0.4444444444444444,\"#bd3786\"],[0.5555555555555556,\"#d8576b\"],[0.6666666666666666,\"#ed7953\"],[0.7777777777777778,\"#fb9f3a\"],[0.8888888888888888,\"#fdca26\"],[1.0,\"#f0f921\"]]}],\"mesh3d\":[{\"type\":\"mesh3d\",\"colorbar\":{\"outlinewidth\":0,\"ticks\":\"\"}}],\"scatter\":[{\"fillpattern\":{\"fillmode\":\"overlay\",\"size\":10,\"solidity\":0.2},\"type\":\"scatter\"}],\"parcoords\":[{\"type\":\"parcoords\",\"line\":{\"colorbar\":{\"outlinewidth\":0,\"ticks\":\"\"}}}],\"scatterpolargl\":[{\"type\":\"scatterpolargl\",\"marker\":{\"colorbar\":{\"outlinewidth\":0,\"ticks\":\"\"}}}],\"bar\":[{\"error_x\":{\"color\":\"#2a3f5f\"},\"error_y\":{\"color\":\"#2a3f5f\"},\"marker\":{\"line\":{\"color\":\"#E5ECF6\",\"width\":0.5},\"pattern\":{\"fillmode\":\"overlay\",\"size\":10,\"solidity\":0.2}},\"type\":\"bar\"}],\"scattergeo\":[{\"type\":\"scattergeo\",\"marker\":{\"colorbar\":{\"outlinewidth\":0,\"ticks\":\"\"}}}],\"scatterpolar\":[{\"type\":\"scatterpolar\",\"marker\":{\"colorbar\":{\"outlinewidth\":0,\"ticks\":\"\"}}}],\"histogram\":[{\"marker\":{\"pattern\":{\"fillmode\":\"overlay\",\"size\":10,\"solidity\":0.2}},\"type\":\"histogram\"}],\"scattergl\":[{\"type\":\"scattergl\",\"marker\":{\"colorbar\":{\"outlinewidth\":0,\"ticks\":\"\"}}}],\"scatter3d\":[{\"type\":\"scatter3d\",\"line\":{\"colorbar\":{\"outlinewidth\":0,\"ticks\":\"\"}},\"marker\":{\"colorbar\":{\"outlinewidth\":0,\"ticks\":\"\"}}}],\"scattermapbox\":[{\"type\":\"scattermapbox\",\"marker\":{\"colorbar\":{\"outlinewidth\":0,\"ticks\":\"\"}}}],\"scatterternary\":[{\"type\":\"scatterternary\",\"marker\":{\"colorbar\":{\"outlinewidth\":0,\"ticks\":\"\"}}}],\"scattercarpet\":[{\"type\":\"scattercarpet\",\"marker\":{\"colorbar\":{\"outlinewidth\":0,\"ticks\":\"\"}}}],\"carpet\":[{\"aaxis\":{\"endlinecolor\":\"#2a3f5f\",\"gridcolor\":\"white\",\"linecolor\":\"white\",\"minorgridcolor\":\"white\",\"startlinecolor\":\"#2a3f5f\"},\"baxis\":{\"endlinecolor\":\"#2a3f5f\",\"gridcolor\":\"white\",\"linecolor\":\"white\",\"minorgridcolor\":\"white\",\"startlinecolor\":\"#2a3f5f\"},\"type\":\"carpet\"}],\"table\":[{\"cells\":{\"fill\":{\"color\":\"#EBF0F8\"},\"line\":{\"color\":\"white\"}},\"header\":{\"fill\":{\"color\":\"#C8D4E3\"},\"line\":{\"color\":\"white\"}},\"type\":\"table\"}],\"barpolar\":[{\"marker\":{\"line\":{\"color\":\"#E5ECF6\",\"width\":0.5},\"pattern\":{\"fillmode\":\"overlay\",\"size\":10,\"solidity\":0.2}},\"type\":\"barpolar\"}],\"pie\":[{\"automargin\":true,\"type\":\"pie\"}]},\"layout\":{\"autotypenumbers\":\"strict\",\"colorway\":[\"#636efa\",\"#EF553B\",\"#00cc96\",\"#ab63fa\",\"#FFA15A\",\"#19d3f3\",\"#FF6692\",\"#B6E880\",\"#FF97FF\",\"#FECB52\"],\"font\":{\"color\":\"#2a3f5f\"},\"hovermode\":\"closest\",\"hoverlabel\":{\"align\":\"left\"},\"paper_bgcolor\":\"white\",\"plot_bgcolor\":\"#E5ECF6\",\"polar\":{\"bgcolor\":\"#E5ECF6\",\"angularaxis\":{\"gridcolor\":\"white\",\"linecolor\":\"white\",\"ticks\":\"\"},\"radialaxis\":{\"gridcolor\":\"white\",\"linecolor\":\"white\",\"ticks\":\"\"}},\"ternary\":{\"bgcolor\":\"#E5ECF6\",\"aaxis\":{\"gridcolor\":\"white\",\"linecolor\":\"white\",\"ticks\":\"\"},\"baxis\":{\"gridcolor\":\"white\",\"linecolor\":\"white\",\"ticks\":\"\"},\"caxis\":{\"gridcolor\":\"white\",\"linecolor\":\"white\",\"ticks\":\"\"}},\"coloraxis\":{\"colorbar\":{\"outlinewidth\":0,\"ticks\":\"\"}},\"colorscale\":{\"sequential\":[[0.0,\"#0d0887\"],[0.1111111111111111,\"#46039f\"],[0.2222222222222222,\"#7201a8\"],[0.3333333333333333,\"#9c179e\"],[0.4444444444444444,\"#bd3786\"],[0.5555555555555556,\"#d8576b\"],[0.6666666666666666,\"#ed7953\"],[0.7777777777777778,\"#fb9f3a\"],[0.8888888888888888,\"#fdca26\"],[1.0,\"#f0f921\"]],\"sequentialminus\":[[0.0,\"#0d0887\"],[0.1111111111111111,\"#46039f\"],[0.2222222222222222,\"#7201a8\"],[0.3333333333333333,\"#9c179e\"],[0.4444444444444444,\"#bd3786\"],[0.5555555555555556,\"#d8576b\"],[0.6666666666666666,\"#ed7953\"],[0.7777777777777778,\"#fb9f3a\"],[0.8888888888888888,\"#fdca26\"],[1.0,\"#f0f921\"]],\"diverging\":[[0,\"#8e0152\"],[0.1,\"#c51b7d\"],[0.2,\"#de77ae\"],[0.3,\"#f1b6da\"],[0.4,\"#fde0ef\"],[0.5,\"#f7f7f7\"],[0.6,\"#e6f5d0\"],[0.7,\"#b8e186\"],[0.8,\"#7fbc41\"],[0.9,\"#4d9221\"],[1,\"#276419\"]]},\"xaxis\":{\"gridcolor\":\"white\",\"linecolor\":\"white\",\"ticks\":\"\",\"title\":{\"standoff\":15},\"zerolinecolor\":\"white\",\"automargin\":true,\"zerolinewidth\":2},\"yaxis\":{\"gridcolor\":\"white\",\"linecolor\":\"white\",\"ticks\":\"\",\"title\":{\"standoff\":15},\"zerolinecolor\":\"white\",\"automargin\":true,\"zerolinewidth\":2},\"scene\":{\"xaxis\":{\"backgroundcolor\":\"#E5ECF6\",\"gridcolor\":\"white\",\"linecolor\":\"white\",\"showbackground\":true,\"ticks\":\"\",\"zerolinecolor\":\"white\",\"gridwidth\":2},\"yaxis\":{\"backgroundcolor\":\"#E5ECF6\",\"gridcolor\":\"white\",\"linecolor\":\"white\",\"showbackground\":true,\"ticks\":\"\",\"zerolinecolor\":\"white\",\"gridwidth\":2},\"zaxis\":{\"backgroundcolor\":\"#E5ECF6\",\"gridcolor\":\"white\",\"linecolor\":\"white\",\"showbackground\":true,\"ticks\":\"\",\"zerolinecolor\":\"white\",\"gridwidth\":2}},\"shapedefaults\":{\"line\":{\"color\":\"#2a3f5f\"}},\"annotationdefaults\":{\"arrowcolor\":\"#2a3f5f\",\"arrowhead\":0,\"arrowwidth\":1},\"geo\":{\"bgcolor\":\"white\",\"landcolor\":\"#E5ECF6\",\"subunitcolor\":\"white\",\"showland\":true,\"showlakes\":true,\"lakecolor\":\"white\"},\"title\":{\"x\":0.05},\"mapbox\":{\"style\":\"light\"}}},\"title\":{\"subtitle\":{\"text\":\"Qwen 3 32B, Layer 32 - Shared Question Set\"},\"text\":\"Trait Vectors in 3D Principal Component Space\"},\"scene\":{\"xaxis\":{\"title\":{\"text\":\"PC1 (23.1%)\"}},\"yaxis\":{\"title\":{\"text\":\"PC2 (14.0%)\"}},\"zaxis\":{\"title\":{\"text\":\"PC3 (9.9%)\"}}},\"width\":1000,\"height\":800},                        {\"responsive\": true}                    ).then(function(){\n",
       "                            \n",
       "var gd = document.getElementById('13b876ee-ac0a-4ca2-9f08-ab6346597fb5');\n",
       "var x = new MutationObserver(function (mutations, observer) {{\n",
       "        var display = window.getComputedStyle(gd).display;\n",
       "        if (!display || display === 'none') {{\n",
       "            console.log([gd, 'removed!']);\n",
       "            Plotly.purge(gd);\n",
       "            observer.disconnect();\n",
       "        }}\n",
       "}});\n",
       "\n",
       "// Listen for the removal of the full notebook cells\n",
       "var notebookContainer = gd.closest('#notebook-container');\n",
       "if (notebookContainer) {{\n",
       "    x.observe(notebookContainer, {childList: true});\n",
       "}}\n",
       "\n",
       "// Listen for the clearing of the current output cell\n",
       "var outputEl = gd.closest('.output');\n",
       "if (outputEl) {{\n",
       "    x.observe(outputEl, {childList: true});\n",
       "}}\n",
       "\n",
       "                        })                };                });            </script>        </div>"
      ]
     },
     "metadata": {},
     "output_type": "display_data"
    }
   ],
   "source": [
    "fig_3d = plot_3d_pca(\n",
    "    pca_results['pca_transformed'],\n",
    "    pca_results['variance_explained'],\n",
    "    trait_labels,\n",
    "    assistant_projection=asst_projected[0],\n",
    "    title=\"Trait Vectors in 3D Principal Component Space\",\n",
    "    subtitle=f\"{model_name.replace('-', ' ')}, Layer {layer} - Shared Question Set\"\n",
    ")\n",
    "fig_3d.show()\n",
    "fig_3d.write_html(f\"{plot_dir}/pca_3d.html\")"
   ]
  }
 ],
 "metadata": {
  "kernelspec": {
   "display_name": ".venv",
   "language": "python",
   "name": "python3"
  },
  "language_info": {
   "codemirror_mode": {
    "name": "ipython",
    "version": 3
   },
   "file_extension": ".py",
   "mimetype": "text/x-python",
   "name": "python",
   "nbconvert_exporter": "python",
   "pygments_lexer": "ipython3",
   "version": "3.13.5"
  }
 },
 "nbformat": 4,
 "nbformat_minor": 5
}
