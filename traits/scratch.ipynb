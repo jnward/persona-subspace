{
 "cells": [
  {
   "cell_type": "markdown",
   "id": "a3dc0cb2",
   "metadata": {},
   "source": [
    "# Scratch pad for data"
   ]
  },
  {
   "cell_type": "code",
   "execution_count": 1,
   "id": "1ac6cd8d",
   "metadata": {},
   "outputs": [],
   "source": [
    "import json\n",
    "import torch\n",
    "import pandas as pd\n",
    "import os\n"
   ]
  },
  {
   "cell_type": "code",
   "execution_count": 2,
   "id": "195b200d",
   "metadata": {},
   "outputs": [
    {
     "name": "stdout",
     "output_type": "stream",
     "text": [
      "Found 240 traits with scores\n"
     ]
    }
   ],
   "source": [
    "# load all scores from data/extract_scores\n",
    "score_dir = \"/root/git/persona-subspace/traits/data/extract_scores\"\n",
    "\n",
    "# iterate through each json file in the directory\n",
    "scores = {}\n",
    "for file in os.listdir(score_dir):\n",
    "    if file.endswith(\".json\"):\n",
    "        with open(os.path.join(score_dir, file), \"r\") as f:\n",
    "            scores[file.replace(\".json\", \"\")] = json.load(f)\n",
    "\n",
    "print(f\"Found {len(scores.keys())} traits with scores\")"
   ]
  },
  {
   "cell_type": "code",
   "execution_count": 3,
   "id": "44bfad8f",
   "metadata": {},
   "outputs": [
    {
     "name": "stdout",
     "output_type": "stream",
     "text": [
      "All traits have the same keys: {'pos_p4_q16', 'neg_p4_q7', 'neg_p3_q3', 'pos_p3_q19', 'default_p2_q7', 'pos_p1_q4', 'default_p1_q17', 'default_p2_q19', 'default_p3_q3', 'pos_p3_q3', 'neg_p4_q9', 'neg_p1_q17', 'pos_p4_q18', 'neg_p1_q2', 'default_p4_q11', 'neg_p3_q19', 'pos_p2_q9', 'pos_p3_q1', 'default_p1_q5', 'pos_p4_q11', 'default_p2_q12', 'default_p3_q6', 'default_p1_q8', 'neg_p0_q17', 'pos_p3_q11', 'default_p3_q18', 'neg_p4_q14', 'default_p4_q4', 'neg_p1_q12', 'pos_p2_q11', 'default_p4_q2', 'pos_p2_q10', 'neg_p1_q8', 'default_p2_q2', 'neg_p1_q14', 'neg_p3_q12', 'pos_p2_q7', 'default_p1_q1', 'neg_p1_q19', 'default_p1_q2', 'default_p1_q11', 'default_p2_q11', 'default_p2_q1', 'pos_p2_q18', 'pos_p2_q16', 'pos_p1_q7', 'neg_p0_q1', 'neg_p0_q16', 'neg_p2_q7', 'pos_p1_q11', 'neg_p0_q9', 'pos_p4_q14', 'default_p3_q2', 'default_p3_q19', 'default_p2_q16', 'neg_p4_q15', 'default_p2_q10', 'default_p2_q5', 'pos_p4_q4', 'default_p3_q1', 'default_p0_q0', 'neg_p2_q16', 'default_p2_q13', 'default_p2_q9', 'neg_p1_q1', 'neg_p2_q11', 'default_p0_q6', 'pos_p4_q15', 'neg_p2_q9', 'default_p3_q4', 'pos_p2_q1', 'neg_p1_q0', 'neg_p4_q0', 'default_p0_q1', 'default_p0_q5', 'neg_p2_q10', 'pos_p0_q17', 'default_p0_q19', 'pos_p2_q13', 'pos_p3_q5', 'default_p1_q13', 'pos_p3_q12', 'neg_p0_q13', 'default_p2_q8', 'neg_p2_q2', 'neg_p1_q4', 'pos_p2_q3', 'pos_p0_q10', 'neg_p3_q4', 'default_p4_q8', 'pos_p0_q11', 'neg_p3_q14', 'pos_p1_q17', 'default_p2_q15', 'default_p0_q7', 'neg_p1_q15', 'default_p4_q1', 'default_p1_q15', 'neg_p0_q7', 'pos_p4_q10', 'pos_p0_q2', 'pos_p1_q19', 'pos_p0_q5', 'neg_p2_q6', 'neg_p2_q13', 'neg_p1_q5', 'default_p3_q11', 'pos_p0_q13', 'pos_p1_q9', 'neg_p2_q14', 'pos_p1_q16', 'pos_p3_q15', 'neg_p1_q9', 'pos_p0_q4', 'neg_p0_q19', 'neg_p1_q6', 'pos_p1_q18', 'neg_p2_q3', 'neg_p3_q16', 'neg_p4_q2', 'neg_p4_q18', 'pos_p3_q13', 'neg_p3_q6', 'default_p4_q7', 'neg_p2_q5', 'neg_p3_q11', 'pos_p0_q9', 'default_p3_q16', 'pos_p1_q6', 'pos_p4_q9', 'neg_p4_q16', 'default_p3_q7', 'default_p4_q10', 'neg_p0_q12', 'neg_p1_q11', 'neg_p1_q7', 'pos_p4_q2', 'neg_p0_q4', 'neg_p2_q0', 'pos_p1_q15', 'pos_p0_q15', 'neg_p3_q5', 'default_p2_q0', 'neg_p4_q6', 'neg_p3_q2', 'neg_p0_q18', 'neg_p3_q17', 'pos_p4_q6', 'default_p2_q3', 'pos_p3_q18', 'default_p2_q4', 'default_p0_q12', 'neg_p1_q3', 'neg_p2_q15', 'default_p1_q10', 'default_p4_q6', 'pos_p0_q12', 'neg_p2_q17', 'default_p3_q15', 'pos_p2_q19', 'pos_p3_q17', 'default_p4_q5', 'neg_p4_q4', 'default_p4_q16', 'default_p0_q17', 'pos_p0_q1', 'default_p3_q17', 'default_p4_q3', 'neg_p0_q15', 'pos_p3_q16', 'default_p3_q14', 'neg_p2_q18', 'pos_p4_q1', 'default_p4_q0', 'pos_p0_q8', 'pos_p1_q0', 'pos_p4_q17', 'pos_p2_q5', 'neg_p3_q7', 'neg_p4_q3', 'default_p0_q8', 'neg_p4_q19', 'default_p4_q9', 'pos_p3_q8', 'neg_p0_q5', 'neg_p3_q9', 'default_p1_q14', 'pos_p4_q7', 'pos_p2_q2', 'pos_p3_q6', 'neg_p4_q11', 'pos_p0_q0', 'default_p1_q7', 'pos_p0_q14', 'pos_p2_q14', 'neg_p4_q13', 'default_p0_q4', 'default_p3_q13', 'pos_p0_q18', 'neg_p1_q13', 'pos_p1_q13', 'pos_p3_q14', 'pos_p1_q3', 'default_p0_q9', 'pos_p3_q9', 'pos_p4_q13', 'default_p0_q15', 'neg_p1_q18', 'default_p1_q18', 'default_p3_q12', 'pos_p3_q0', 'default_p1_q3', 'pos_p2_q8', 'neg_p4_q1', 'pos_p0_q6', 'neg_p0_q2', 'default_p4_q19', 'default_p1_q19', 'neg_p3_q8', 'pos_p2_q15', 'neg_p4_q10', 'pos_p3_q4', 'pos_p4_q12', 'neg_p3_q0', 'default_p0_q16', 'pos_p1_q8', 'neg_p3_q15', 'neg_p0_q10', 'pos_p4_q3', 'neg_p4_q5', 'default_p0_q2', 'neg_p4_q17', 'neg_p4_q12', 'default_p1_q4', 'default_p2_q17', 'default_p3_q10', 'pos_p2_q6', 'default_p2_q6', 'default_p4_q18', 'pos_p0_q7', 'pos_p1_q2', 'default_p4_q13', 'default_p4_q15', 'neg_p3_q10', 'default_p1_q9', 'default_p4_q17', 'default_p2_q18', 'default_p0_q14', 'default_p0_q11', 'pos_p4_q0', 'default_p0_q13', 'pos_p1_q5', 'pos_p0_q16', 'default_p3_q5', 'default_p1_q0', 'neg_p1_q10', 'pos_p3_q2', 'pos_p3_q10', 'neg_p0_q3', 'pos_p1_q10', 'neg_p1_q16', 'default_p0_q10', 'default_p0_q3', 'neg_p0_q6', 'pos_p4_q19', 'default_p1_q16', 'default_p2_q14', 'default_p3_q0', 'pos_p2_q12', 'neg_p3_q18', 'neg_p2_q1', 'pos_p4_q8', 'default_p1_q6', 'neg_p0_q11', 'pos_p2_q0', 'default_p3_q9', 'default_p3_q8', 'pos_p0_q3', 'pos_p1_q1', 'default_p0_q18', 'default_p1_q12', 'neg_p2_q8', 'default_p4_q12', 'pos_p1_q14', 'neg_p2_q12', 'neg_p3_q1', 'neg_p0_q14', 'pos_p3_q7', 'pos_p0_q19', 'neg_p4_q8', 'pos_p2_q17', 'neg_p0_q8', 'pos_p1_q12', 'neg_p2_q4', 'neg_p0_q0', 'neg_p2_q19', 'neg_p3_q13', 'pos_p2_q4', 'default_p4_q14', 'pos_p4_q5'}\n"
     ]
    }
   ],
   "source": [
    "# check that they all have the same keys\n",
    "\n",
    "keys = set(scores['absolutist'].keys())\n",
    "\n",
    "for trait in scores.keys():\n",
    "    assert set(scores[trait].keys()) == keys\n",
    "\n",
    "print(f\"All traits have the same keys: {keys}\")"
   ]
  },
  {
   "cell_type": "code",
   "execution_count": 4,
   "id": "2a4dfc95",
   "metadata": {},
   "outputs": [
    {
     "name": "stdout",
     "output_type": "stream",
     "text": [
      "300\n"
     ]
    }
   ],
   "source": [
    "print(len(scores['absolutist'].keys()))"
   ]
  },
  {
   "cell_type": "code",
   "execution_count": null,
   "id": "69a90bc0",
   "metadata": {},
   "outputs": [
    {
     "name": "stdout",
     "output_type": "stream",
     "text": [
      "dict_keys(['pos_p0_q0', 'pos_p0_q1', 'pos_p0_q2', 'pos_p0_q3', 'pos_p0_q4', 'pos_p0_q5', 'pos_p0_q6', 'pos_p0_q7', 'pos_p0_q8', 'pos_p0_q9', 'pos_p0_q10', 'pos_p0_q11', 'pos_p0_q12', 'pos_p0_q13', 'pos_p0_q14', 'pos_p0_q15', 'pos_p0_q16', 'pos_p0_q17', 'pos_p0_q18', 'pos_p0_q19', 'neg_p0_q0', 'neg_p0_q1', 'neg_p0_q2', 'neg_p0_q3', 'neg_p0_q4', 'neg_p0_q5', 'neg_p0_q6', 'neg_p0_q7', 'neg_p0_q8', 'neg_p0_q9', 'neg_p0_q10', 'neg_p0_q11', 'neg_p0_q12', 'neg_p0_q13', 'neg_p0_q14', 'neg_p0_q15', 'neg_p0_q16', 'neg_p0_q17', 'neg_p0_q18', 'neg_p0_q19', 'default_p0_q0', 'default_p0_q1', 'default_p0_q2', 'default_p0_q3', 'default_p0_q4', 'default_p0_q5', 'default_p0_q6', 'default_p0_q7', 'default_p0_q8', 'default_p0_q9', 'default_p0_q10', 'default_p0_q11', 'default_p0_q12', 'default_p0_q13', 'default_p0_q14', 'default_p0_q15', 'default_p0_q16', 'default_p0_q17', 'default_p0_q18', 'default_p0_q19', 'pos_p1_q0', 'pos_p1_q1', 'pos_p1_q2', 'pos_p1_q3', 'pos_p1_q4', 'pos_p1_q5', 'pos_p1_q6', 'pos_p1_q7', 'pos_p1_q8', 'pos_p1_q9', 'pos_p1_q10', 'pos_p1_q11', 'pos_p1_q12', 'pos_p1_q13', 'pos_p1_q14', 'pos_p1_q15', 'pos_p1_q16', 'pos_p1_q17', 'pos_p1_q18', 'pos_p1_q19', 'pos_p2_q0', 'pos_p2_q1', 'pos_p2_q2', 'pos_p2_q3', 'pos_p2_q4', 'pos_p2_q5', 'pos_p2_q6', 'pos_p2_q7', 'pos_p2_q8', 'pos_p2_q9', 'pos_p2_q10', 'pos_p2_q11', 'pos_p2_q12', 'pos_p2_q13', 'pos_p2_q14', 'pos_p2_q15', 'pos_p2_q16', 'pos_p2_q17', 'pos_p2_q18', 'pos_p2_q19', 'pos_p3_q0', 'pos_p3_q1', 'pos_p3_q2', 'pos_p3_q3', 'pos_p3_q4', 'pos_p3_q5', 'pos_p3_q6', 'pos_p3_q7', 'pos_p3_q8', 'pos_p3_q9', 'pos_p3_q10', 'pos_p3_q11', 'pos_p3_q12', 'pos_p3_q13', 'pos_p3_q14', 'pos_p3_q15', 'pos_p3_q16', 'pos_p3_q17', 'pos_p3_q18', 'pos_p3_q19', 'pos_p4_q0', 'pos_p4_q1', 'pos_p4_q2', 'pos_p4_q3', 'pos_p4_q4', 'pos_p4_q5', 'pos_p4_q6', 'pos_p4_q7', 'pos_p4_q8', 'pos_p4_q9', 'pos_p4_q10', 'pos_p4_q11', 'pos_p4_q12', 'pos_p4_q13', 'pos_p4_q14', 'pos_p4_q15', 'pos_p4_q16', 'pos_p4_q17', 'pos_p4_q18', 'pos_p4_q19', 'neg_p1_q0', 'neg_p1_q1', 'neg_p1_q2', 'neg_p1_q3', 'neg_p1_q4', 'neg_p1_q5', 'neg_p1_q6', 'neg_p1_q7', 'neg_p1_q8', 'neg_p1_q9', 'neg_p1_q10', 'neg_p1_q11', 'neg_p1_q12', 'neg_p1_q13', 'neg_p1_q14', 'neg_p1_q15', 'neg_p1_q16', 'neg_p1_q17', 'neg_p1_q18', 'neg_p1_q19', 'neg_p2_q0', 'neg_p2_q1', 'neg_p2_q2', 'neg_p2_q3', 'neg_p2_q4', 'neg_p2_q5', 'neg_p2_q6', 'neg_p2_q7', 'neg_p2_q8', 'neg_p2_q9', 'neg_p2_q10', 'neg_p2_q11', 'neg_p2_q12', 'neg_p2_q13', 'neg_p2_q14', 'neg_p2_q15', 'neg_p2_q16', 'neg_p2_q17', 'neg_p2_q18', 'neg_p2_q19', 'neg_p3_q0', 'neg_p3_q1', 'neg_p3_q2', 'neg_p3_q3', 'neg_p3_q4', 'neg_p3_q5', 'neg_p3_q6', 'neg_p3_q7', 'neg_p3_q8', 'neg_p3_q9', 'neg_p3_q10', 'neg_p3_q11', 'neg_p3_q12', 'neg_p3_q13', 'neg_p3_q14', 'neg_p3_q15', 'neg_p3_q16', 'neg_p3_q17', 'neg_p3_q18', 'neg_p3_q19', 'neg_p4_q0', 'neg_p4_q1', 'neg_p4_q2', 'neg_p4_q3', 'neg_p4_q4', 'neg_p4_q5', 'neg_p4_q6', 'neg_p4_q7', 'neg_p4_q8', 'neg_p4_q9', 'neg_p4_q10', 'neg_p4_q11', 'neg_p4_q12', 'neg_p4_q13', 'neg_p4_q14', 'neg_p4_q15', 'neg_p4_q16', 'neg_p4_q17', 'neg_p4_q18', 'neg_p4_q19', 'neutral_p1_q0', 'neutral_p1_q1', 'neutral_p1_q2', 'neutral_p1_q3', 'neutral_p1_q4', 'neutral_p1_q5', 'neutral_p1_q6', 'neutral_p1_q7', 'neutral_p1_q8', 'neutral_p1_q9', 'neutral_p1_q10', 'neutral_p1_q11', 'neutral_p1_q12', 'neutral_p1_q13', 'neutral_p1_q14', 'neutral_p1_q15', 'neutral_p1_q16', 'neutral_p1_q17', 'neutral_p1_q18', 'neutral_p1_q19', 'neutral_p2_q0', 'neutral_p2_q1', 'neutral_p2_q2', 'neutral_p2_q3', 'neutral_p2_q4', 'neutral_p2_q5', 'neutral_p2_q6', 'neutral_p2_q7', 'neutral_p2_q8', 'neutral_p2_q9', 'neutral_p2_q10', 'neutral_p2_q11', 'neutral_p2_q12', 'neutral_p2_q13', 'neutral_p2_q14', 'neutral_p2_q15', 'neutral_p2_q16', 'neutral_p2_q17', 'neutral_p2_q18', 'neutral_p2_q19', 'neutral_p3_q0', 'neutral_p3_q1', 'neutral_p3_q2', 'neutral_p3_q3', 'neutral_p3_q4', 'neutral_p3_q5', 'neutral_p3_q6', 'neutral_p3_q7', 'neutral_p3_q8', 'neutral_p3_q9', 'neutral_p3_q10', 'neutral_p3_q11', 'neutral_p3_q12', 'neutral_p3_q13', 'neutral_p3_q14', 'neutral_p3_q15', 'neutral_p3_q16', 'neutral_p3_q17', 'neutral_p3_q18', 'neutral_p3_q19', 'neutral_p4_q0', 'neutral_p4_q1', 'neutral_p4_q2', 'neutral_p4_q3', 'neutral_p4_q4', 'neutral_p4_q5', 'neutral_p4_q6', 'neutral_p4_q7', 'neutral_p4_q8', 'neutral_p4_q9', 'neutral_p4_q10', 'neutral_p4_q11', 'neutral_p4_q12', 'neutral_p4_q13', 'neutral_p4_q14', 'neutral_p4_q15', 'neutral_p4_q16', 'neutral_p4_q17', 'neutral_p4_q18', 'neutral_p4_q19'])\n",
      "300\n"
     ]
    }
   ],
   "source": [
    "other = torch.load('/root/git/persona-subspace/traits/data/response_activations/absolutist.pt')\n",
    "\n",
    "print(other.keys())\n",
    "print(len(other.keys()))"
   ]
  }
 ],
 "metadata": {
  "kernelspec": {
   "display_name": ".venv",
   "language": "python",
   "name": "python3"
  },
  "language_info": {
   "codemirror_mode": {
    "name": "ipython",
    "version": 3
   },
   "file_extension": ".py",
   "mimetype": "text/x-python",
   "name": "python",
   "nbconvert_exporter": "python",
   "pygments_lexer": "ipython3",
   "version": "3.13.5"
  }
 },
 "nbformat": 4,
 "nbformat_minor": 5
}
