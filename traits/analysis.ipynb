{
 "cells": [
  {
   "cell_type": "markdown",
   "id": "28531137",
   "metadata": {},
   "source": [
    "# Analyze scores for each trait"
   ]
  },
  {
   "cell_type": "code",
   "execution_count": 1,
   "id": "30f3bcdd",
   "metadata": {
    "execution": {
     "iopub.execute_input": "2025-08-06T00:18:08.842015Z",
     "iopub.status.busy": "2025-08-06T00:18:08.841387Z",
     "iopub.status.idle": "2025-08-06T00:18:09.171163Z",
     "shell.execute_reply": "2025-08-06T00:18:09.170519Z"
    }
   },
   "outputs": [],
   "source": [
    "import json\n",
    "import os\n",
    "import torch\n",
    "import numpy as np\n",
    "import pandas as pd\n",
    "import plotly.graph_objects as go\n",
    "import plotly.subplots as sp\n",
    "from sklearn.decomposition import PCA\n",
    "from sklearn.preprocessing import StandardScaler\n",
    "from sklearn.metrics.pairwise import cosine_similarity\n",
    "from pathlib import Path\n",
    "from tqdm import tqdm\n"
   ]
  },
  {
   "cell_type": "markdown",
   "id": "ce50bcb7",
   "metadata": {},
   "source": [
    "## Score statistics"
   ]
  },
  {
   "cell_type": "code",
   "execution_count": 3,
   "id": "411c5350",
   "metadata": {
    "execution": {
     "iopub.execute_input": "2025-08-06T00:18:09.175040Z",
     "iopub.status.busy": "2025-08-06T00:18:09.174845Z",
     "iopub.status.idle": "2025-08-06T00:18:09.200056Z",
     "shell.execute_reply": "2025-08-06T00:18:09.199491Z"
    }
   },
   "outputs": [
    {
     "name": "stdout",
     "output_type": "stream",
     "text": [
      "Found 240 traits with scores\n"
     ]
    }
   ],
   "source": [
    "# load data from data/extract_scores\n",
    "score_dir = \"/workspace/traits_240/extract_scores\"\n",
    "\n",
    "# iterate through each json file in the directory\n",
    "scores = {}\n",
    "for file in os.listdir(score_dir):\n",
    "    if file.endswith(\".json\"):\n",
    "        with open(os.path.join(score_dir, file), \"r\") as f:\n",
    "            scores[file.replace(\".json\", \"\")] = json.load(f)\n",
    "\n",
    "print(f\"Found {len(scores.keys())} traits with scores\")\n"
   ]
  },
  {
   "cell_type": "code",
   "execution_count": 4,
   "id": "xn9eevi5y8h",
   "metadata": {
    "execution": {
     "iopub.execute_input": "2025-08-06T00:18:09.203182Z",
     "iopub.status.busy": "2025-08-06T00:18:09.203055Z",
     "iopub.status.idle": "2025-08-06T00:18:09.222862Z",
     "shell.execute_reply": "2025-08-06T00:18:09.222318Z"
    }
   },
   "outputs": [
    {
     "name": "stdout",
     "output_type": "stream",
     "text": [
      "Refusal Statistics:\n",
      "Total refusals across all traits: 17\n",
      "Traits with refusals: 6\n",
      "\n",
      "Top 10 traits with most refusals:\n",
      "  diplomatic: 7 refusals - ['neg_p2_q135', 'neg_p2_q141', 'neg_p2_q161', 'neg_p2_q163', 'neg_p3_q75', 'neg_p3_q97', 'neg_p3_q161']\n",
      "  elitist: 4 refusals - ['pos_p0_q165', 'pos_p0_q189', 'pos_p1_q26', 'pos_p1_q213']\n",
      "  generalist: 2 refusals - ['neg_p2_q145', 'neg_p3_q152']\n",
      "  evil: 2 refusals - ['pos_p2_q58', 'pos_p4_q153']\n",
      "  militant: 1 refusals - ['pos_p0_q101']\n",
      "  egalitarian: 1 refusals - ['neg_p2_q238']\n"
     ]
    }
   ],
   "source": [
    "# Analyze refusals and clean data\n",
    "refusal_info = {}\n",
    "scores_clean = {}\n",
    "\n",
    "for trait, score_obj in scores.items():\n",
    "    refusals = []\n",
    "    cleaned_scores = {}\n",
    "    \n",
    "    # Check each score for refusals\n",
    "    for key, value in score_obj.items():\n",
    "        if value == \"REFUSAL\":\n",
    "            refusals.append(key)\n",
    "            cleaned_scores[key] = 0  # Replace refusals with NaN\n",
    "        else:\n",
    "            cleaned_scores[key] = float(value)  # Ensure numeric\n",
    "    \n",
    "    scores_clean[trait] = cleaned_scores\n",
    "    refusal_info[trait] = {\n",
    "        \"refusals\": refusals,\n",
    "        \"refusal_count\": len(refusals)\n",
    "    }\n",
    "\n",
    "# Show refusal statistics\n",
    "total_refusals = sum(info[\"refusal_count\"] for info in refusal_info.values())\n",
    "traits_with_refusals = sum(1 for info in refusal_info.values() if info[\"refusal_count\"] > 0)\n",
    "\n",
    "print(f\"Refusal Statistics:\")\n",
    "print(f\"Total refusals across all traits: {total_refusals}\")\n",
    "print(f\"Traits with refusals: {traits_with_refusals}\")\n",
    "\n",
    "if total_refusals > 0:\n",
    "    sorted_refusals = sorted(refusal_info.items(), key=lambda x: x[1][\"refusal_count\"], reverse=True)\n",
    "    print(f\"\\nTop 10 traits with most refusals:\")\n",
    "    for trait, info in sorted_refusals[:10]:\n",
    "        if info[\"refusal_count\"] > 0:\n",
    "            print(f\"  {trait}: {info['refusal_count']} refusals - {info['refusals']}\")"
   ]
  },
  {
   "cell_type": "code",
   "execution_count": 5,
   "id": "918944a8",
   "metadata": {
    "execution": {
     "iopub.execute_input": "2025-08-06T00:18:09.225377Z",
     "iopub.status.busy": "2025-08-06T00:18:09.225242Z",
     "iopub.status.idle": "2025-08-06T00:18:09.259886Z",
     "shell.execute_reply": "2025-08-06T00:18:09.259317Z"
    }
   },
   "outputs": [
    {
     "name": "stdout",
     "output_type": "stream",
     "text": [
      "Created numpy arrays for 240 traits\n",
      "Shape of each array: (3, 5, 240)\n",
      "Example (first trait): zealous\n",
      "Pos scores for first 2 prompts, 5 questions:\n",
      "[[ 95.  95.  90.  95. 100.]\n",
      " [ 95.  95.  95.  95. 100.]]\n",
      "Neg scores for first 2 prompts, 5 questions:\n",
      "[[10. 10. 10. 20. 40.]\n",
      " [10. 10. 10. 10. 20.]]\n"
     ]
    }
   ],
   "source": [
    "# Create numpy arrays using cleaned scores (refusals as NaN)\n",
    "# Structure: 3D tensor with shape (3 types, 5 prompts, 240 questions)\n",
    "scores_np = {}\n",
    "\n",
    "for trait, cleaned_scores in scores_clean.items():\n",
    "    # Create 3D array: [type, prompt, question]\n",
    "    scores_3d = np.full((3, 5, 240), np.nan)\n",
    "    \n",
    "    # Extract scores for each type, prompt, and question\n",
    "    for prompt_idx in range(5):\n",
    "        for question_idx in range(240):\n",
    "            # pos scores\n",
    "            pos_key = f\"pos_p{prompt_idx}_q{question_idx}\"\n",
    "            if pos_key in cleaned_scores:\n",
    "                scores_3d[0, prompt_idx, question_idx] = cleaned_scores[pos_key]\n",
    "            \n",
    "            # neg scores  \n",
    "            neg_key = f\"neg_p{prompt_idx}_q{question_idx}\"\n",
    "            if neg_key in cleaned_scores:\n",
    "                scores_3d[1, prompt_idx, question_idx] = cleaned_scores[neg_key]\n",
    "            \n",
    "            # default scores\n",
    "            default_key = f\"default_p{prompt_idx}_q{question_idx}\"\n",
    "            if default_key in cleaned_scores:\n",
    "                scores_3d[2, prompt_idx, question_idx] = cleaned_scores[default_key]\n",
    "    \n",
    "    scores_np[trait] = scores_3d\n",
    "\n",
    "print(f\"Created numpy arrays for {len(scores_np)} traits\")\n",
    "print(f\"Shape of each array: {next(iter(scores_np.values())).shape}\")\n",
    "print(f\"Example (first trait): {list(scores_np.keys())[0]}\")\n",
    "example_trait = list(scores_np.keys())[0]\n",
    "print(f\"Pos scores for first 2 prompts, 5 questions:\\n{scores_np[example_trait][0, :2, :5]}\")\n",
    "print(f\"Neg scores for first 2 prompts, 5 questions:\\n{scores_np[example_trait][1, :2, :5]}\")"
   ]
  },
  {
   "cell_type": "code",
   "execution_count": 9,
   "id": "3eab3243",
   "metadata": {
    "execution": {
     "iopub.execute_input": "2025-08-06T00:18:09.262430Z",
     "iopub.status.busy": "2025-08-06T00:18:09.262302Z",
     "iopub.status.idle": "2025-08-06T00:18:09.275196Z",
     "shell.execute_reply": "2025-08-06T00:18:09.274665Z"
    }
   },
   "outputs": [
    {
     "name": "stdout",
     "output_type": "stream",
     "text": [
      "\n",
      "Exported statistics to pos.csv\n",
      "Shape: (240, 2)\n"
     ]
    }
   ],
   "source": [
    "# Calculate simplified statistics for each trait\n",
    "stats = {}\n",
    "\n",
    "for trait, scores_3d in scores_np.items():\n",
    "    pos_scores = scores_3d[0]  # shape: (5, 20) \n",
    "    \n",
    "    # Count all pos/neg pairs with same prompt_index and question_index\n",
    "    pos_70_count = 0\n",
    "    pos_40_70_count = 0\n",
    "    \n",
    "    # Check all 100 pairs (5 prompts × 20 questions)\n",
    "    for prompt_idx in range(5):\n",
    "        for question_idx in range(240):\n",
    "            pos_val = pos_scores[prompt_idx, question_idx]\n",
    "           \n",
    "            \n",
    "            # Skip if either value is NaN\n",
    "            if not (np.isnan(pos_val)):\n",
    "                # Count high pos, low neg cases\n",
    "                if pos_val >= 70:\n",
    "                    pos_70_count += 1\n",
    "                if pos_val >= 40 and pos_val < 70:\n",
    "                    pos_40_70_count += 1\n",
    "    \n",
    "    stats[trait] = {\n",
    "        \"pos_70_count\": pos_70_count,\n",
    "        \"pos_40_70_count\": pos_40_70_count,\n",
    "    }\n",
    "\n",
    "\n",
    "# Export to CSV\n",
    "stats_df = pd.DataFrame.from_dict(stats, orient='index')\n",
    "stats_df.index.name = 'trait'\n",
    "stats_df.to_csv('./results/pca_240/pos.csv')\n",
    "print(f\"\\nExported statistics to pos.csv\")\n",
    "print(f\"Shape: {stats_df.shape}\")"
   ]
  },
  {
   "cell_type": "code",
   "execution_count": null,
   "id": "2fd0e87f",
   "metadata": {},
   "outputs": [],
   "source": [
    "# "
   ]
  },
  {
   "cell_type": "code",
   "execution_count": 7,
   "id": "d0124e3f",
   "metadata": {},
   "outputs": [
    {
     "name": "stdout",
     "output_type": "stream",
     "text": [
      "239\n",
      "111\n",
      "111\n"
     ]
    }
   ],
   "source": [
    "# get number of traits with pos_70_count >= 10\n",
    "print(len([trait for trait, stats in stats.items() if stats['pos_70_count'] >= 10]))\n",
    "\n",
    "# get number of traits with pos_40_70_count >= 10\n",
    "print(len([trait for trait, stats in stats.items() if stats['pos_40_70_count'] >= 10]))\n",
    "\n",
    "# get number of traits with pos_70_count >= 10 and pos_40_70_count >= 10\n",
    "print(len([trait for trait, stats in stats.items() if stats['pos_70_count'] >= 10 and stats['pos_40_70_count'] >= 10]))\n"
   ]
  },
  {
   "cell_type": "code",
   "execution_count": 7,
   "id": "cd408866",
   "metadata": {},
   "outputs": [
    {
     "name": "stdout",
     "output_type": "stream",
     "text": [
      "Example pos-default statistics for 'absolutist':\n",
      "  pos_minus_default_mean: 22.75\n",
      "  high_pos_low_default_count: 25\n",
      "  large_diff_count: 25\n",
      "\n",
      "Calculated pos-default statistics for 240 traits\n",
      "\n",
      "High pos, low default count distribution: min=0, max=100, mean=47.1\n",
      "Large diff count distribution: min=0, max=100, mean=46.8\n",
      "\n",
      "Exported pos-default statistics to pos_default.csv\n",
      "Shape: (240, 3)\n"
     ]
    }
   ],
   "source": [
    "# Calculate pos - default statistics similar to pos - neg\n",
    "pos_default_stats = {}\n",
    "\n",
    "for trait, scores_3d in scores_np.items():\n",
    "    pos_scores = scores_3d[0]      # shape: (5, 20) \n",
    "    default_scores = scores_3d[2]  # shape: (5, 20)\n",
    "    \n",
    "    # Mean difference between pos and default across all samples\n",
    "    pos_minus_default_mean = np.nanmean(pos_scores - default_scores)\n",
    "    \n",
    "    # Count all pos/default pairs with same prompt_index and question_index\n",
    "    high_pos_low_default_count = 0\n",
    "    large_diff_count = 0\n",
    "    \n",
    "    # Check all 100 pairs (5 prompts × 20 questions)\n",
    "    for prompt_idx in range(5):\n",
    "        for question_idx in range(20):\n",
    "            pos_val = pos_scores[prompt_idx, question_idx]\n",
    "            default_val = default_scores[prompt_idx, question_idx]\n",
    "            \n",
    "            # Skip if either value is NaN\n",
    "            if not (np.isnan(pos_val) or np.isnan(default_val)):\n",
    "                # Count high pos, low default cases\n",
    "                if pos_val > 50 and default_val < 50:\n",
    "                    high_pos_low_default_count += 1\n",
    "                \n",
    "                # Count large difference cases  \n",
    "                if abs(pos_val - default_val) > 40:\n",
    "                    large_diff_count += 1\n",
    "    \n",
    "    pos_default_stats[trait] = {\n",
    "        \"pos_minus_default_mean\": pos_minus_default_mean,\n",
    "        \"high_pos_low_default_count\": high_pos_low_default_count,\n",
    "        \"large_diff_count\": large_diff_count\n",
    "    }\n",
    "\n",
    "# Show example statistics for first trait\n",
    "example_trait = list(pos_default_stats.keys())[0]\n",
    "print(f\"Example pos-default statistics for '{example_trait}':\")\n",
    "for key, value in pos_default_stats[example_trait].items():\n",
    "    if isinstance(value, float):\n",
    "        print(f\"  {key}: {value:.2f}\")\n",
    "    else:\n",
    "        print(f\"  {key}: {value}\")\n",
    "\n",
    "print(f\"\\nCalculated pos-default statistics for {len(pos_default_stats)} traits\")\n",
    "\n",
    "# Show summary of counts\n",
    "high_pos_counts = [s[\"high_pos_low_default_count\"] for s in pos_default_stats.values()]\n",
    "large_diff_counts = [s[\"large_diff_count\"] for s in pos_default_stats.values()]\n",
    "print(f\"\\nHigh pos, low default count distribution: min={min(high_pos_counts)}, max={max(high_pos_counts)}, mean={np.mean(high_pos_counts):.1f}\")\n",
    "print(f\"Large diff count distribution: min={min(large_diff_counts)}, max={max(large_diff_counts)}, mean={np.mean(large_diff_counts):.1f}\")\n",
    "\n",
    "# Export to CSV\n",
    "pos_default_df = pd.DataFrame.from_dict(pos_default_stats, orient='index')\n",
    "pos_default_df.index.name = 'trait'\n",
    "pos_default_df.to_csv('./results/pos_default.csv')\n",
    "print(f\"\\nExported pos-default statistics to pos_default.csv\")\n",
    "print(f\"Shape: {pos_default_df.shape}\")"
   ]
  },
  {
   "cell_type": "markdown",
   "id": "c3e74288",
   "metadata": {},
   "source": [
    "## PCA"
   ]
  },
  {
   "cell_type": "code",
   "execution_count": 8,
   "id": "2c999546",
   "metadata": {},
   "outputs": [
    {
     "name": "stdout",
     "output_type": "stream",
     "text": [
      "Found 240 traits with vectors\n"
     ]
    }
   ],
   "source": [
    "# check vectors\n",
    "\n",
    "# load all vectors from data/vectors\n",
    "vector_dir = \"/root/git/persona-subspace/traits/data/vectors\"\n",
    "\n",
    "# iterate through each .pt file in the directory\n",
    "vectors = {}\n",
    "for file in os.listdir(vector_dir):\n",
    "    if file.endswith(\".pt\"):\n",
    "        vectors[file.replace(\".pt\", \"\")] = torch.load(os.path.join(vector_dir, file))\n",
    "\n",
    "print(f\"Found {len(vectors.keys())} traits with vectors\")"
   ]
  },
  {
   "cell_type": "code",
   "execution_count": 10,
   "id": "31965f44",
   "metadata": {},
   "outputs": [
    {
     "data": {
      "text/plain": [
       "torch.Size([46, 4608])"
      ]
     },
     "execution_count": 10,
     "metadata": {},
     "output_type": "execute_result"
    }
   ],
   "source": [
    "vectors['zealous']['pos_neg'].shape"
   ]
  },
  {
   "cell_type": "code",
   "execution_count": 9,
   "id": "5139afaa",
   "metadata": {},
   "outputs": [
    {
     "name": "stdout",
     "output_type": "stream",
     "text": [
      "240\n"
     ]
    }
   ],
   "source": [
    "layer = 34\n",
    "\n",
    "pos_neg = [vector['pos_neg'] for vector in vectors.values()]\n",
    "pos_neg_50 = [vector['pos_neg_50'] for vector in vectors.values()]\n",
    "pos_default = [vector['pos_default'] for vector in vectors.values()]\n",
    "pos_default_50 = [vector['pos_default_50'] for vector in vectors.values()]\n",
    "\n",
    "print(len(pos_neg))\n"
   ]
  },
  {
   "cell_type": "code",
   "execution_count": null,
   "id": "5bc3dd72",
   "metadata": {},
   "outputs": [],
   "source": [
    "def compute_pca(activation_list, layer):\n",
    "    layer_activations = activation_list[:, layer, :]\n",
    "    \n",
    "    scaler = StandardScaler()\n",
    "    scaled_layer_activations = scaler.fit_transform(layer_activations)\n",
    "\n",
    "    pca = PCA()\n",
    "    pca_transformed = pca.fit_transform(scaled_layer_activations)\n",
    "\n",
    "    variance_explained = pca.explained_variance_ratio_\n",
    "    cumulative_variance = np.cumsum(variance_explained)\n",
    "    n_components = len(variance_explained)\n",
    "\n",
    "    print(f\"PCA fitted with {n_components} components\")\n",
    "    print(f\"Cumulative variance for first 5 components: {cumulative_variance[:5]}\")\n",
    "\n",
    "    # Find elbow using second derivative method\n",
    "    def find_elbow_point(variance_explained):\n",
    "        \"\"\"Find elbow point using second derivative method\"\"\"\n",
    "        # Calculate first and second derivatives\n",
    "        first_diff = np.diff(variance_explained)\n",
    "        second_diff = np.diff(first_diff) \n",
    "        \n",
    "        # Find point with maximum second derivative (most curvature)\n",
    "        elbow_idx = np.argmax(np.abs(second_diff)) + 1  # +1 to account for diff operations\n",
    "        return elbow_idx\n",
    "\n",
    "    elbow_point = find_elbow_point(variance_explained)\n",
    "    dims_70_pca = np.argmax(cumulative_variance >= 0.70) + 1\n",
    "    dims_80_pca = np.argmax(cumulative_variance >= 0.80) + 1\n",
    "    dims_90_pca = np.argmax(cumulative_variance >= 0.90) + 1\n",
    "    dims_95_pca = np.argmax(cumulative_variance >= 0.95) + 1\n",
    "\n",
    "    print(\"\\nPCA Analysis Results:\")\n",
    "    print(f\"Elbow point at component: {elbow_point + 1}\")\n",
    "    print(f\"Dimensions for 70% variance: {dims_70_pca}\")\n",
    "    print(f\"Dimensions for 80% variance: {dims_80_pca}\")\n",
    "    print(f\"Dimensions for 90% variance: {dims_90_pca}\")\n",
    "    print(f\"Dimensions for 95% variance: {dims_95_pca}\")\n",
    "\n",
    "    return pca_transformed, variance_explained, n_components, pca, scaler "
   ]
  },
  {
   "cell_type": "code",
   "execution_count": 11,
   "id": "021f7f55",
   "metadata": {},
   "outputs": [],
   "source": [
    "def plot_pca_cosine_similarity(pca_transformed, trait_labels, pc_component=0, \n",
    "                             layer=None, reference_point=None, color_threshold=0.0):\n",
    "    \"\"\"\n",
    "    Create a plot similar to the PC1 Cosine Similarity visualization.\n",
    "    Shows labels on hover for most points, with visible labels and leader lines \n",
    "    for the 20 traits at either end of the range to avoid overlap.\n",
    "    \n",
    "    Parameters:\n",
    "    - pca_transformed: PCA-transformed data (n_samples, n_components)\n",
    "    - trait_labels: List of labels for each data point\n",
    "    - pc_component: Which PC component to use (0-indexed, so PC1 = 0)\n",
    "    - layer: Layer number for title\n",
    "    - reference_point: Reference point for cosine similarity calculation \n",
    "                      (if None, uses the PC component direction)\n",
    "    - color_threshold: Threshold for coloring points (default: 0.0)\n",
    "    \n",
    "    Returns:\n",
    "    - Plotly figure object\n",
    "    \"\"\"\n",
    "    \n",
    "    # Extract the specified PC component\n",
    "    pc_values = pca_transformed[:, pc_component]\n",
    "    \n",
    "    # Calculate cosine similarities\n",
    "    if reference_point is None:\n",
    "        # Use the PC component direction as reference\n",
    "        # This creates a \"cosine similarity with PC direction\" interpretation\n",
    "        cosine_sims = pc_values / np.linalg.norm(pc_values)  # Normalized PC values\n",
    "    else:\n",
    "        # Calculate cosine similarity with a specific reference point\n",
    "        cosine_sims = cosine_similarity(pca_transformed, reference_point.reshape(1, -1)).flatten()\n",
    "    \n",
    "    # Create colors based on threshold\n",
    "    colors = ['red' if sim < color_threshold else 'blue' for sim in cosine_sims]\n",
    "    \n",
    "    # Identify extreme traits (10 lowest and 10 highest)\n",
    "    sorted_indices = np.argsort(cosine_sims)\n",
    "    low_extreme_indices = sorted_indices[:10]\n",
    "    high_extreme_indices = sorted_indices[-10:]\n",
    "    extreme_indices = set(list(low_extreme_indices) + list(high_extreme_indices))\n",
    "    \n",
    "    # Create subplot figure\n",
    "    fig = sp.make_subplots(\n",
    "        rows=2, cols=1,\n",
    "        row_heights=[0.6, 0.4],\n",
    "        vertical_spacing=0.1,\n",
    "        subplot_titles=[\n",
    "            f'PC{pc_component+1} Cosine Similarity',\n",
    "            'Trait Frequency Distribution'\n",
    "        ]\n",
    "    )\n",
    "    \n",
    "    # Split points into regular and extreme for different display modes\n",
    "    regular_x, regular_y, regular_colors, regular_labels = [], [], [], []\n",
    "    extreme_x, extreme_y, extreme_colors, extreme_labels = [], [], [], []\n",
    "    \n",
    "    for i, (sim, color, label) in enumerate(zip(cosine_sims, colors, trait_labels)):\n",
    "        if i in extreme_indices:\n",
    "            extreme_x.append(sim)\n",
    "            extreme_y.append(1)\n",
    "            extreme_colors.append(color)\n",
    "            extreme_labels.append(label)\n",
    "        else:\n",
    "            regular_x.append(sim)\n",
    "            regular_y.append(1)\n",
    "            regular_colors.append(color)\n",
    "            regular_labels.append(label)\n",
    "    \n",
    "    # Add regular points (hover labels only)\n",
    "    if regular_x:\n",
    "        fig.add_trace(\n",
    "            go.Scatter(\n",
    "                x=regular_x,\n",
    "                y=regular_y,\n",
    "                mode='markers',\n",
    "                marker=dict(\n",
    "                    color=regular_colors,\n",
    "                    size=8,\n",
    "                    opacity=0.7\n",
    "                ),\n",
    "                text=regular_labels,\n",
    "                showlegend=False,\n",
    "                hovertemplate='<b>%{text}</b><br>Cosine Similarity: %{x:.3f}<extra></extra>'\n",
    "            ),\n",
    "            row=1, col=1\n",
    "        )\n",
    "    \n",
    "    # Add extreme points with visible labels and leader lines\n",
    "    if extreme_x:\n",
    "        fig.add_trace(\n",
    "            go.Scatter(\n",
    "                x=extreme_x,\n",
    "                y=extreme_y,\n",
    "                mode='markers',\n",
    "                marker=dict(\n",
    "                    color=extreme_colors,\n",
    "                    size=8,\n",
    "                    opacity=0.9\n",
    "                ),\n",
    "                text=extreme_labels,\n",
    "                showlegend=False,\n",
    "                hovertemplate='<b>%{text}</b><br>Cosine Similarity: %{x:.3f}<extra></extra>'\n",
    "            ),\n",
    "            row=1, col=1\n",
    "        )\n",
    "        \n",
    "        # Create predefined alternating heights with variation\n",
    "        # High positions with variation\n",
    "        high_positions = [1.6, 1.45, 1.55, 1.35, 1.5, 1.4, 1.65, 1.3, 1.58, 1.42]\n",
    "        # Low positions with variation  \n",
    "        low_positions = [0.4, 0.55, 0.45, 0.65, 0.5, 0.6, 0.35, 0.7, 0.42, 0.58]\n",
    "        \n",
    "        # Alternate high-low pattern\n",
    "        all_y_positions = []\n",
    "        for i in range(10):\n",
    "            all_y_positions.extend([high_positions[i], low_positions[i]])\n",
    "        \n",
    "        # Handle low extremes (10 lowest cosine similarities)\n",
    "        for i, idx in enumerate(low_extreme_indices):\n",
    "            x_pos = cosine_sims[idx]\n",
    "            label = trait_labels[idx]\n",
    "            color = colors[idx]\n",
    "            y_label = all_y_positions[i]\n",
    "            \n",
    "            # Add leader line as a separate trace\n",
    "            fig.add_trace(\n",
    "                go.Scatter(\n",
    "                    x=[x_pos, x_pos],\n",
    "                    y=[1.0, y_label],\n",
    "                    mode='lines',\n",
    "                    line=dict(color=color, width=1),\n",
    "                    showlegend=False,\n",
    "                    hoverinfo='skip'\n",
    "                ),\n",
    "                row=1, col=1\n",
    "            )\n",
    "            \n",
    "            # Add label at the end of the line\n",
    "            fig.add_annotation(\n",
    "                x=x_pos,\n",
    "                y=y_label,\n",
    "                text=label,\n",
    "                showarrow=False,\n",
    "                font=dict(size=10, color=color),\n",
    "                bgcolor=\"rgba(255, 255, 255, 0.9)\",\n",
    "                bordercolor=color,\n",
    "                borderwidth=1,\n",
    "                row=1, col=1\n",
    "            )\n",
    "        \n",
    "        # Handle high extremes (10 highest cosine similarities)\n",
    "        for i, idx in enumerate(high_extreme_indices):\n",
    "            x_pos = cosine_sims[idx]\n",
    "            label = trait_labels[idx]\n",
    "            color = colors[idx]\n",
    "            y_label = all_y_positions[i + 10]  # Offset by 10 to continue the pattern\n",
    "            \n",
    "            # Add leader line as a separate trace\n",
    "            fig.add_trace(\n",
    "                go.Scatter(\n",
    "                    x=[x_pos, x_pos],\n",
    "                    y=[1.0, y_label],\n",
    "                    mode='lines',\n",
    "                    line=dict(color=color, width=1),\n",
    "                    showlegend=False,\n",
    "                    hoverinfo='skip'\n",
    "                ),\n",
    "                row=1, col=1\n",
    "            )\n",
    "            \n",
    "            # Add label at the end of the line\n",
    "            fig.add_annotation(\n",
    "                x=x_pos,\n",
    "                y=y_label,\n",
    "                text=label,\n",
    "                showarrow=False,\n",
    "                font=dict(size=10, color=color),\n",
    "                bgcolor=\"rgba(255, 255, 255, 0.9)\",\n",
    "                bordercolor=color,\n",
    "                borderwidth=1,\n",
    "                row=1, col=1\n",
    "            )\n",
    "    \n",
    "    # Add vertical line at x=0 for both panels\n",
    "    fig.add_vline(\n",
    "        x=0,\n",
    "        line_dash=\"solid\",\n",
    "        line_color=\"gray\",\n",
    "        line_width=1,\n",
    "        opacity=0.7,\n",
    "        row=1, col=1\n",
    "    )\n",
    "    \n",
    "    fig.add_vline(\n",
    "        x=0,\n",
    "        line_dash=\"solid\", \n",
    "        line_color=\"gray\",\n",
    "        line_width=1,\n",
    "        opacity=0.7,\n",
    "        row=2, col=1\n",
    "    )\n",
    "    \n",
    "    # Bottom panel: Histogram\n",
    "    fig.add_trace(\n",
    "        go.Histogram(\n",
    "            x=cosine_sims,\n",
    "            nbinsx=30,\n",
    "            opacity=0.7,\n",
    "            marker_color='steelblue',\n",
    "            showlegend=False\n",
    "        ),\n",
    "        row=2, col=1\n",
    "    )\n",
    "    \n",
    "    # Update layout\n",
    "    fig.update_layout(\n",
    "        height=700,\n",
    "        title=dict(\n",
    "            text=\"PCA on Trait Vectors from Mean Response Activations\",\n",
    "            subtitle={\n",
    "                \"text\": f\"Gemma 2 27B, Layer {layer}\",\n",
    "            },\n",
    "            x=0.5,\n",
    "            font=dict(size=16)\n",
    "        ),\n",
    "        showlegend=False\n",
    "    )\n",
    "    \n",
    "    # Calculate symmetric range around 0 (not around data center)\n",
    "    max_abs_value = max(abs(min(cosine_sims)), abs(max(cosine_sims)))\n",
    "    x_half_width = max_abs_value * 1.1  # Add 10% padding\n",
    "    \n",
    "    # Update x-axes with symmetric ranges centered on 0\n",
    "    fig.update_xaxes(\n",
    "        row=1, col=1,\n",
    "        range=[-x_half_width, x_half_width]\n",
    "    )\n",
    "    \n",
    "    fig.update_xaxes(\n",
    "        title_text=f\"PC{pc_component+1} Cosine Similarity\",\n",
    "        row=2, col=1,\n",
    "        range=[-x_half_width, x_half_width]\n",
    "    )\n",
    "    \n",
    "    # Update y-axes\n",
    "    fig.update_yaxes(\n",
    "        title_text=\"\",\n",
    "        showticklabels=False,\n",
    "        row=1, col=1,\n",
    "        range=[0.25, 1.75]  # Range for varied label heights\n",
    "    )\n",
    "    \n",
    "    fig.update_yaxes(\n",
    "        title_text=\"Frequency\",\n",
    "        row=2, col=1\n",
    "    )\n",
    "    \n",
    "    return fig"
   ]
  },
  {
   "cell_type": "code",
   "execution_count": 25,
   "id": "98894a6b",
   "metadata": {},
   "outputs": [],
   "source": [
    "def plot_3d_pca(pca_transformed, variance_explained, trait_labels, layer):\n",
    "    # Create 3D scatter plot if we have enough components\n",
    "\n",
    "    fig_3d = go.Figure(data=[go.Scatter3d(\n",
    "        x=pca_transformed[:, 0],\n",
    "        y=pca_transformed[:, 1], \n",
    "        z=pca_transformed[:, 2],\n",
    "        mode='markers+text',\n",
    "        text=trait_labels,\n",
    "        textposition='top center',\n",
    "        textfont=dict(size=6),\n",
    "        marker=dict(\n",
    "            size=3,\n",
    "            color=['blue'] * len(trait_labels),\n",
    "            line=dict(width=2, color='black')\n",
    "        ),\n",
    "        hovertemplate='<b>%{text}</b><br>' +\n",
    "                    f'PC1: %{{x:.3f}}<br>' +\n",
    "                    f'PC2: %{{y:.3f}}<br>' +\n",
    "                    f'PC3: %{{z:.3f}}<br>' +\n",
    "                    '<extra></extra>'\n",
    "    )])\n",
    "    \n",
    "    fig_3d.update_layout(\n",
    "        title={\n",
    "            \"text\": f'Trait Vectors in Principal Component Space',\n",
    "            \"subtitle\": {\n",
    "                \"text\": f\"Gemma 2 27B, Layer {layer}\",\n",
    "            },\n",
    "        },\n",
    "        scene=dict(\n",
    "            xaxis_title=f'PC1 ({variance_explained[0]*100:.1f}%)',\n",
    "            yaxis_title=f'PC2 ({variance_explained[1]*100:.1f}%)',\n",
    "            zaxis_title=f'PC3 ({variance_explained[2]*100:.1f}%)'\n",
    "        ),\n",
    "        width=1000,\n",
    "        height=800\n",
    "    )\n",
    "    \n",
    "    fig_3d.show()\n",
    "    fig_3d.write_html(f\"./results/pca_3d.html\")"
   ]
  },
  {
   "cell_type": "markdown",
   "id": "f0358486",
   "metadata": {},
   "source": [
    "### pos_neg "
   ]
  },
  {
   "cell_type": "code",
   "execution_count": 20,
   "id": "74382b65",
   "metadata": {},
   "outputs": [
    {
     "name": "stdout",
     "output_type": "stream",
     "text": [
      "208\n",
      "torch.Size([208, 46, 4608])\n"
     ]
    }
   ],
   "source": [
    "# PCA on pos_neg but filter out traits with pos_minus_neg_mean < 40\n",
    "\n",
    "filtered_pos_neg_traits = []\n",
    "filtered_pos_neg = []\n",
    "\n",
    "for trait, vector in vectors.items():\n",
    "    if stats[trait]['pos_minus_neg_mean'] >= 40:\n",
    "        filtered_pos_neg_traits.append(trait)\n",
    "        filtered_pos_neg.append(vector['pos_neg'])\n",
    "\n",
    "print(len(filtered_pos_neg_traits))\n",
    "\n",
    "filtered_pos_neg = torch.stack(filtered_pos_neg).float()\n",
    "print(filtered_pos_neg.shape)"
   ]
  },
  {
   "cell_type": "code",
   "execution_count": 54,
   "id": "a8876796",
   "metadata": {},
   "outputs": [
    {
     "name": "stdout",
     "output_type": "stream",
     "text": [
      "PCA fitted with 208 components\n",
      "Cumulative variance for first 5 components: [0.15301124 0.2713136  0.36042659 0.42452626 0.46193193]\n",
      "\n",
      "PCA Analysis Results:\n",
      "Elbow point at component: 5\n",
      "Dimensions for 70% variance: 18\n",
      "Dimensions for 80% variance: 33\n",
      "Dimensions for 90% variance: 65\n",
      "Dimensions for 95% variance: 100\n"
     ]
    }
   ],
   "source": [
    "pca_transformed, variance_explained, n_components = compute_pca(filtered_pos_neg, layer)"
   ]
  },
  {
   "cell_type": "markdown",
   "id": "836b0cfc",
   "metadata": {},
   "source": [
    "### pos_neg_50"
   ]
  },
  {
   "cell_type": "code",
   "execution_count": 13,
   "id": "e7776516",
   "metadata": {},
   "outputs": [
    {
     "name": "stdout",
     "output_type": "stream",
     "text": [
      "235\n",
      "torch.Size([235, 46, 4608])\n"
     ]
    }
   ],
   "source": [
    "# PCA on pos_neg_50 but filter out traits with large_diff_count < 10\n",
    "filtered_pos_neg_50_traits = []\n",
    "filtered_pos_neg_50 = []\n",
    "\n",
    "for trait, vector in vectors.items():\n",
    "    if stats[trait]['large_diff_count'] >= 10:\n",
    "        filtered_pos_neg_50_traits.append(trait)\n",
    "        filtered_pos_neg_50.append(vector['pos_neg_50'])\n",
    "\n",
    "print(len(filtered_pos_neg_50_traits))\n",
    "\n",
    "filtered_pos_neg_50 = torch.stack(filtered_pos_neg_50).float()\n",
    "print(filtered_pos_neg_50.shape)"
   ]
  },
  {
   "cell_type": "code",
   "execution_count": 14,
   "id": "73656d27",
   "metadata": {},
   "outputs": [
    {
     "name": "stdout",
     "output_type": "stream",
     "text": [
      "PCA fitted with 235 components\n",
      "Cumulative variance for first 5 components: [0.14948702 0.26322171 0.34780798 0.41020005 0.4467624 ]\n",
      "\n",
      "PCA Analysis Results:\n",
      "Elbow point at component: 5\n",
      "Dimensions for 70% variance: 20\n",
      "Dimensions for 80% variance: 38\n",
      "Dimensions for 90% variance: 76\n",
      "Dimensions for 95% variance: 117\n"
     ]
    }
   ],
   "source": [
    "pca_transformed, variance_explained, n_components = compute_pca(filtered_pos_neg_50, layer)"
   ]
  },
  {
   "cell_type": "code",
   "execution_count": 98,
   "id": "e18873db",
   "metadata": {},
   "outputs": [
    {
     "data": {
      "application/vnd.plotly.v1+json": {
       "config": {
        "plotlyServerURL": "https://plot.ly"
       },
       "data": [
        {
         "hovertemplate": "<b>%{text}</b><br>Cosine Similarity: %{x:.3f}<extra></extra>",
         "marker": {
          "color": [
           "blue",
           "blue",
           "red",
           "blue",
           "red",
           "red",
           "blue",
           "red",
           "blue",
           "blue",
           "blue",
           "blue",
           "red",
           "red",
           "red",
           "blue",
           "red",
           "red",
           "red",
           "red",
           "blue",
           "blue",
           "blue",
           "red",
           "blue",
           "blue",
           "red",
           "blue",
           "red",
           "red",
           "blue",
           "red",
           "blue",
           "red",
           "red",
           "blue",
           "red",
           "red",
           "blue",
           "red",
           "blue",
           "red",
           "red",
           "red",
           "blue",
           "blue",
           "blue",
           "red",
           "red",
           "blue",
           "red",
           "red",
           "blue",
           "blue",
           "blue",
           "blue",
           "red",
           "blue",
           "blue",
           "blue",
           "blue",
           "red",
           "blue",
           "blue",
           "blue",
           "red",
           "red",
           "red",
           "red",
           "blue",
           "blue",
           "blue",
           "blue",
           "red",
           "red",
           "red",
           "red",
           "blue",
           "blue",
           "blue",
           "red",
           "red",
           "red",
           "red",
           "blue",
           "blue",
           "blue",
           "blue",
           "blue",
           "blue",
           "red",
           "red",
           "blue",
           "blue",
           "red",
           "red",
           "red",
           "red",
           "blue",
           "blue",
           "blue",
           "blue",
           "blue",
           "red",
           "red",
           "blue",
           "red",
           "blue",
           "blue",
           "blue",
           "red",
           "red",
           "blue",
           "red",
           "red",
           "blue",
           "red",
           "red",
           "red",
           "red",
           "red",
           "red",
           "blue",
           "red",
           "red",
           "blue",
           "blue",
           "blue",
           "blue",
           "red",
           "blue",
           "red",
           "blue",
           "blue",
           "red",
           "red",
           "red",
           "red",
           "red",
           "blue",
           "blue",
           "red",
           "blue",
           "blue",
           "red",
           "red",
           "red",
           "red",
           "blue",
           "blue",
           "red",
           "blue",
           "red",
           "red",
           "blue",
           "red",
           "red",
           "red",
           "blue",
           "blue",
           "blue",
           "red",
           "blue",
           "blue",
           "red",
           "blue",
           "red",
           "blue",
           "red",
           "red",
           "blue",
           "blue",
           "red",
           "blue",
           "red",
           "red",
           "red",
           "red",
           "blue",
           "red",
           "red",
           "blue",
           "red",
           "red",
           "blue",
           "red",
           "red",
           "blue",
           "red",
           "red",
           "blue",
           "blue",
           "blue",
           "blue",
           "blue",
           "red",
           "red",
           "blue",
           "red",
           "red",
           "blue",
           "blue",
           "red",
           "red",
           "blue",
           "red",
           "red",
           "blue",
           "blue",
           "red",
           "red",
           "blue",
           "red",
           "red",
           "blue"
          ],
          "opacity": 0.7,
          "size": 8
         },
         "mode": "markers",
         "showlegend": false,
         "text": [
          "absolutist",
          "adaptable",
          "abstract",
          "accommodating",
          "acerbic",
          "adventurous",
          "agreeable",
          "altruistic",
          "analytical",
          "animated",
          "anthropocentric",
          "anxious",
          "arrogant",
          "artistic",
          "ascetic",
          "assertive",
          "avoidant",
          "benevolent",
          "big_picture",
          "bitter",
          "blunt",
          "bombastic",
          "calculating",
          "callous",
          "calm",
          "casual",
          "cautious",
          "challenging",
          "chaotic",
          "charismatic",
          "chill",
          "circumspect",
          "closure_seeking",
          "collaborative",
          "collectivistic",
          "competitive",
          "conceptual",
          "conciliatory",
          "concise",
          "condescending",
          "confident",
          "confrontational",
          "conscientious",
          "constructivist",
          "contemporary",
          "contrarian",
          "convergent",
          "cosmopolitan",
          "creative",
          "critical",
          "cruel",
          "curious",
          "cynical",
          "data_driven",
          "decisive",
          "deconstructionist",
          "deontological",
          "descriptive",
          "deterministic",
          "diplomatic",
          "disorganized",
          "divergent",
          "dogmatic",
          "dominant",
          "dramatic",
          "earnest",
          "eclectic",
          "edgy",
          "educational",
          "efficient",
          "effusive",
          "elitist",
          "eloquent",
          "empathetic",
          "entertaining",
          "environmental",
          "epicurean",
          "erudite",
          "esoteric",
          "essentialist",
          "evil",
          "existentialist",
          "experiential",
          "exploratory",
          "extroverted",
          "factual",
          "fatalistic",
          "flexible",
          "flippant",
          "flirty",
          "forgiving",
          "formal",
          "formalist",
          "fundamentalist",
          "futuristic",
          "generalist",
          "generous",
          "goofy",
          "grandiose",
          "gregarious",
          "grounded",
          "hedonistic",
          "historical",
          "holistic",
          "humble",
          "iconoclastic",
          "idealistic",
          "impatient",
          "improvisational",
          "impulsive",
          "inclusive",
          "independent",
          "individualistic",
          "innovative",
          "inquisitive",
          "inspirational",
          "interdisciplinary",
          "introspective",
          "intuitive",
          "ironic",
          "irreverent",
          "judgmental",
          "libertarian",
          "literal",
          "manipulative",
          "materialist",
          "melancholic",
          "melodramatic",
          "mercurial",
          "metaphorical",
          "methodical",
          "meticulous",
          "militant",
          "misanthropic",
          "mischievous",
          "moderate",
          "mystical",
          "naive",
          "narrative",
          "neurotic",
          "nonchalant",
          "nostalgic",
          "nurturing",
          "obsessive",
          "open_ended",
          "optimistic",
          "pacifist",
          "paradoxical",
          "paranoid",
          "passionate",
          "passive_aggressive",
          "pedantic",
          "pensive",
          "perfectionist",
          "pessimistic",
          "philosophical",
          "playful",
          "pluralist",
          "poetic",
          "practical",
          "prescriptive",
          "principled",
          "proactive",
          "problem_solving",
          "progressive",
          "provocative",
          "radical",
          "rationalist",
          "reactive",
          "rebellious",
          "reductionist",
          "regulatory",
          "reserved",
          "resilient",
          "reverent",
          "rhetorical",
          "risk_taking",
          "ritualistic",
          "romantic",
          "sardonic",
          "sassy",
          "secular",
          "serene",
          "serious",
          "skeptical",
          "socratic",
          "solemn",
          "specialized",
          "speculative",
          "spiritual",
          "spontaneous",
          "stoic",
          "strategic",
          "stream_of_consciousness",
          "structuralist",
          "submissive",
          "subversive",
          "supportive",
          "sycophantic",
          "systems_thinker",
          "tactful",
          "technical",
          "temperamental",
          "theoretical",
          "traditional",
          "understated",
          "universalist",
          "urgent",
          "utilitarian",
          "verbose",
          "visceral",
          "whimsical",
          "witty",
          "wry",
          "zealous"
         ],
         "type": "scatter",
         "x": [
          0.039408777389437454,
          0.02423283824344667,
          -0.0868489083301963,
          0.04904940589041914,
          -0.10121336457269296,
          -0.016598048343377893,
          0.0901679177254442,
          -0.05168802615501574,
          0.023644112011151085,
          0.00989134781543583,
          0.04113415901132873,
          0.024457167231462972,
          -0.0009803566729238438,
          -0.10287427411865936,
          -0.05456877229139761,
          0.0008384932167170848,
          -0.030284837430045463,
          -0.011935666964673247,
          -0.07355867517596318,
          -0.046778948281821095,
          0.023893330956563524,
          0.10371260767706592,
          0.006030842565260477,
          -0.03581632630353089,
          0.01685848021423284,
          0.03316592245102203,
          -0.014474993837267063,
          0.06351185913773927,
          -0.012717089446345094,
          -0.009021817356225054,
          0.10956738855183738,
          -0.04147919787548647,
          0.0357339667771942,
          -0.025948209286587007,
          -0.044895745087164325,
          0.08184293827459352,
          -0.07325894103183433,
          -0.015282566668902967,
          0.020965697839868472,
          -0.07921288387618915,
          0.038100412352636906,
          -0.04561144760142452,
          -0.0042994345724881936,
          -0.05938797412291871,
          0.02212149134211373,
          0.028089412837447637,
          0.02478594497536291,
          -0.07381283780883013,
          -0.03960550681369931,
          0.014331749445133423,
          -0.10658858040853487,
          -0.03805450956052201,
          0.08746545266049997,
          0.08403581826136931,
          0.03516891343971273,
          0.020277407425671384,
          -0.01602543278753418,
          0.05981146306309993,
          0.086859827072597,
          0.006630304767351074,
          0.042479432958987436,
          -0.02120062023426249,
          0.02177191270836227,
          0.049396942119394306,
          0.05610458915303561,
          -0.10250785514181801,
          -0.07210173189519897,
          -0.04046232872091554,
          -0.01877948183034927,
          0.061869398135189,
          0.07156311399189969,
          0.039414404685834,
          0.0012842032814296316,
          -0.10640464841458118,
          -0.015771704828900984,
          -0.06074158218768285,
          -0.03148068516815203,
          0.008555488604285543,
          0.09732684012470928,
          0.0420673076841299,
          -0.05369549484047511,
          -0.05288813036583695,
          -0.0124181448306358,
          -0.0067431263794689375,
          0.05671374659419718,
          0.010337431737356033,
          0.0042859005667423965,
          0.06160901761264479,
          0.015686883692401423,
          0.09561182322445143,
          -0.037149203012024026,
          -0.05525250095261431,
          0.037929019281897396,
          0.10895368662101769,
          -0.06794320634045095,
          -0.01735085080211426,
          -0.010764264945166873,
          -0.002926225713269551,
          0.09521755158126899,
          0.02231740029812312,
          0.09641414312593215,
          0.05601814166606489,
          0.01269257701031986,
          -0.04925513652690233,
          -0.07051628130514076,
          0.04137195031568102,
          -0.07127030720748972,
          0.04601329858647651,
          0.004520817877249889,
          0.04044096404007179,
          -0.06841143595722256,
          -0.040024254738943395,
          0.04407411032713842,
          -0.043735089399363394,
          -0.014694166891992053,
          0.03825556008568453,
          -0.027332679214137973,
          -0.013404902232072888,
          -0.06430443911348195,
          -0.09711458164909498,
          -0.06858751006669063,
          -0.07624581138597435,
          0.008702828678248085,
          -0.017897912168399234,
          -0.04491702486055064,
          0.09024169341256855,
          0.049806378850299975,
          0.08346153082950986,
          0.04328914419992942,
          -0.011129007315595525,
          0.019414564933453542,
          -0.002139765975962517,
          0.034553702229459124,
          0.08617536679070646,
          -0.03665932414020574,
          -0.012589801712601047,
          -0.032741978278379866,
          -0.02715189135963233,
          -0.004446379116486523,
          0.003937680565495275,
          0.012804902907495173,
          -0.007780644857540483,
          0.11353747511708752,
          0.045791930177056496,
          -0.08066502059244957,
          -0.05118287320771822,
          -0.03205890710200238,
          -0.03486086123662568,
          0.004203029466317255,
          0.03701042158442503,
          -0.08617424479456577,
          0.04750197350788421,
          -0.11217337001106131,
          -0.011070456107323297,
          0.026306397803665137,
          -0.03213880893001655,
          -0.011087123505639793,
          -0.03503482815217888,
          0.08835916733525316,
          0.08265616434641444,
          0.07080884053177613,
          -0.0222061429740295,
          0.047301063626902735,
          0.06897365308135782,
          -0.045778409402149736,
          0.013709116973703866,
          -0.0508626751869342,
          0.10055129717088326,
          -0.015312436722271394,
          -0.02601734486259103,
          0.028569217496176014,
          0.0006976199246225539,
          -0.022445705190395744,
          0.044537816562200176,
          -0.05272337430839675,
          -0.03264588795492343,
          -0.019394167184527775,
          -0.014310905899427342,
          0.015918023432880804,
          -0.09703975579946825,
          -0.07543946058204702,
          0.03719830316056629,
          -0.04953602882343348,
          -0.013562149982988103,
          0.057354297158682115,
          -0.044600746761923174,
          -0.07266103418934758,
          0.052188043554778886,
          -0.03068208445940482,
          -0.04021229232816437,
          0.046247110473404136,
          0.06482875677982039,
          0.009874606644923959,
          0.023299684285794316,
          0.023508300767347477,
          -0.02587064904656036,
          -0.026417667699096703,
          0.10584193233507874,
          -0.03939954952519059,
          -0.04024343716940368,
          0.021968398910991827,
          0.06576148686327242,
          -0.0500250634347684,
          -0.036164651303129555,
          0.029699025206417252,
          -0.01047171320476113,
          -0.0016836249076110808,
          0.045207562208645025,
          0.032403297138679614,
          -0.013336613876055226,
          -0.06478539604008615,
          0.03269387208258014,
          -0.08063119495738129,
          -0.006591363303123207,
          0.07700281081420543
         ],
         "xaxis": "x",
         "y": [
          1,
          1,
          1,
          1,
          1,
          1,
          1,
          1,
          1,
          1,
          1,
          1,
          1,
          1,
          1,
          1,
          1,
          1,
          1,
          1,
          1,
          1,
          1,
          1,
          1,
          1,
          1,
          1,
          1,
          1,
          1,
          1,
          1,
          1,
          1,
          1,
          1,
          1,
          1,
          1,
          1,
          1,
          1,
          1,
          1,
          1,
          1,
          1,
          1,
          1,
          1,
          1,
          1,
          1,
          1,
          1,
          1,
          1,
          1,
          1,
          1,
          1,
          1,
          1,
          1,
          1,
          1,
          1,
          1,
          1,
          1,
          1,
          1,
          1,
          1,
          1,
          1,
          1,
          1,
          1,
          1,
          1,
          1,
          1,
          1,
          1,
          1,
          1,
          1,
          1,
          1,
          1,
          1,
          1,
          1,
          1,
          1,
          1,
          1,
          1,
          1,
          1,
          1,
          1,
          1,
          1,
          1,
          1,
          1,
          1,
          1,
          1,
          1,
          1,
          1,
          1,
          1,
          1,
          1,
          1,
          1,
          1,
          1,
          1,
          1,
          1,
          1,
          1,
          1,
          1,
          1,
          1,
          1,
          1,
          1,
          1,
          1,
          1,
          1,
          1,
          1,
          1,
          1,
          1,
          1,
          1,
          1,
          1,
          1,
          1,
          1,
          1,
          1,
          1,
          1,
          1,
          1,
          1,
          1,
          1,
          1,
          1,
          1,
          1,
          1,
          1,
          1,
          1,
          1,
          1,
          1,
          1,
          1,
          1,
          1,
          1,
          1,
          1,
          1,
          1,
          1,
          1,
          1,
          1,
          1,
          1,
          1,
          1,
          1,
          1,
          1,
          1,
          1,
          1,
          1,
          1,
          1,
          1,
          1,
          1,
          1,
          1,
          1,
          1,
          1,
          1,
          1,
          1,
          1,
          1,
          1,
          1,
          1,
          1,
          1
         ],
         "yaxis": "y"
        },
        {
         "hovertemplate": "<b>%{text}</b><br>Cosine Similarity: %{x:.3f}<extra></extra>",
         "marker": {
          "color": [
           "red",
           "blue",
           "blue",
           "blue",
           "red",
           "blue",
           "blue",
           "red",
           "red",
           "red",
           "blue",
           "red",
           "blue",
           "blue",
           "red",
           "red",
           "blue",
           "red",
           "red",
           "blue"
          ],
          "opacity": 0.9,
          "size": 8
         },
         "mode": "markers",
         "showlegend": false,
         "text": [
          "accessible",
          "cryptic",
          "detached",
          "dispassionate",
          "emotional",
          "enigmatic",
          "ethereal",
          "hostile",
          "humanistic",
          "introverted",
          "manic",
          "meditative",
          "nihilistic",
          "patient",
          "petty",
          "qualitative",
          "quantitative",
          "sarcastic",
          "savage",
          "theatrical"
         ],
         "type": "scatter",
         "x": [
          -0.11386768359143007,
          0.14298369819382806,
          0.15469095414922882,
          0.12948457838344357,
          -0.15160883245995965,
          0.15976410270333324,
          0.11858442860844527,
          -0.13334793524206692,
          -0.11891475562809065,
          -0.13540007399588233,
          0.13458834306643683,
          -0.21289276590720774,
          0.11785015413652974,
          0.15693892507782742,
          -0.13676982193279597,
          -0.12985698896924125,
          0.12830200863105834,
          -0.14285060039124733,
          -0.18269617249888773,
          0.14429034500972707
         ],
         "xaxis": "x",
         "y": [
          1,
          1,
          1,
          1,
          1,
          1,
          1,
          1,
          1,
          1,
          1,
          1,
          1,
          1,
          1,
          1,
          1,
          1,
          1,
          1
         ],
         "yaxis": "y"
        },
        {
         "hoverinfo": "skip",
         "line": {
          "color": "red",
          "width": 1
         },
         "mode": "lines",
         "showlegend": false,
         "type": "scatter",
         "x": [
          -0.21289276590720774,
          -0.21289276590720774
         ],
         "xaxis": "x",
         "y": [
          1,
          1.6
         ],
         "yaxis": "y"
        },
        {
         "hoverinfo": "skip",
         "line": {
          "color": "red",
          "width": 1
         },
         "mode": "lines",
         "showlegend": false,
         "type": "scatter",
         "x": [
          -0.18269617249888773,
          -0.18269617249888773
         ],
         "xaxis": "x",
         "y": [
          1,
          0.4
         ],
         "yaxis": "y"
        },
        {
         "hoverinfo": "skip",
         "line": {
          "color": "red",
          "width": 1
         },
         "mode": "lines",
         "showlegend": false,
         "type": "scatter",
         "x": [
          -0.15160883245995965,
          -0.15160883245995965
         ],
         "xaxis": "x",
         "y": [
          1,
          1.45
         ],
         "yaxis": "y"
        },
        {
         "hoverinfo": "skip",
         "line": {
          "color": "red",
          "width": 1
         },
         "mode": "lines",
         "showlegend": false,
         "type": "scatter",
         "x": [
          -0.14285060039124733,
          -0.14285060039124733
         ],
         "xaxis": "x",
         "y": [
          1,
          0.55
         ],
         "yaxis": "y"
        },
        {
         "hoverinfo": "skip",
         "line": {
          "color": "red",
          "width": 1
         },
         "mode": "lines",
         "showlegend": false,
         "type": "scatter",
         "x": [
          -0.13676982193279597,
          -0.13676982193279597
         ],
         "xaxis": "x",
         "y": [
          1,
          1.55
         ],
         "yaxis": "y"
        },
        {
         "hoverinfo": "skip",
         "line": {
          "color": "red",
          "width": 1
         },
         "mode": "lines",
         "showlegend": false,
         "type": "scatter",
         "x": [
          -0.13540007399588233,
          -0.13540007399588233
         ],
         "xaxis": "x",
         "y": [
          1,
          0.45
         ],
         "yaxis": "y"
        },
        {
         "hoverinfo": "skip",
         "line": {
          "color": "red",
          "width": 1
         },
         "mode": "lines",
         "showlegend": false,
         "type": "scatter",
         "x": [
          -0.13334793524206692,
          -0.13334793524206692
         ],
         "xaxis": "x",
         "y": [
          1,
          1.35
         ],
         "yaxis": "y"
        },
        {
         "hoverinfo": "skip",
         "line": {
          "color": "red",
          "width": 1
         },
         "mode": "lines",
         "showlegend": false,
         "type": "scatter",
         "x": [
          -0.12985698896924125,
          -0.12985698896924125
         ],
         "xaxis": "x",
         "y": [
          1,
          0.65
         ],
         "yaxis": "y"
        },
        {
         "hoverinfo": "skip",
         "line": {
          "color": "red",
          "width": 1
         },
         "mode": "lines",
         "showlegend": false,
         "type": "scatter",
         "x": [
          -0.11891475562809065,
          -0.11891475562809065
         ],
         "xaxis": "x",
         "y": [
          1,
          1.5
         ],
         "yaxis": "y"
        },
        {
         "hoverinfo": "skip",
         "line": {
          "color": "red",
          "width": 1
         },
         "mode": "lines",
         "showlegend": false,
         "type": "scatter",
         "x": [
          -0.11386768359143007,
          -0.11386768359143007
         ],
         "xaxis": "x",
         "y": [
          1,
          0.5
         ],
         "yaxis": "y"
        },
        {
         "hoverinfo": "skip",
         "line": {
          "color": "blue",
          "width": 1
         },
         "mode": "lines",
         "showlegend": false,
         "type": "scatter",
         "x": [
          0.11785015413652974,
          0.11785015413652974
         ],
         "xaxis": "x",
         "y": [
          1,
          1.4
         ],
         "yaxis": "y"
        },
        {
         "hoverinfo": "skip",
         "line": {
          "color": "blue",
          "width": 1
         },
         "mode": "lines",
         "showlegend": false,
         "type": "scatter",
         "x": [
          0.11858442860844527,
          0.11858442860844527
         ],
         "xaxis": "x",
         "y": [
          1,
          0.6
         ],
         "yaxis": "y"
        },
        {
         "hoverinfo": "skip",
         "line": {
          "color": "blue",
          "width": 1
         },
         "mode": "lines",
         "showlegend": false,
         "type": "scatter",
         "x": [
          0.12830200863105834,
          0.12830200863105834
         ],
         "xaxis": "x",
         "y": [
          1,
          1.65
         ],
         "yaxis": "y"
        },
        {
         "hoverinfo": "skip",
         "line": {
          "color": "blue",
          "width": 1
         },
         "mode": "lines",
         "showlegend": false,
         "type": "scatter",
         "x": [
          0.12948457838344357,
          0.12948457838344357
         ],
         "xaxis": "x",
         "y": [
          1,
          0.35
         ],
         "yaxis": "y"
        },
        {
         "hoverinfo": "skip",
         "line": {
          "color": "blue",
          "width": 1
         },
         "mode": "lines",
         "showlegend": false,
         "type": "scatter",
         "x": [
          0.13458834306643683,
          0.13458834306643683
         ],
         "xaxis": "x",
         "y": [
          1,
          1.3
         ],
         "yaxis": "y"
        },
        {
         "hoverinfo": "skip",
         "line": {
          "color": "blue",
          "width": 1
         },
         "mode": "lines",
         "showlegend": false,
         "type": "scatter",
         "x": [
          0.14298369819382806,
          0.14298369819382806
         ],
         "xaxis": "x",
         "y": [
          1,
          0.7
         ],
         "yaxis": "y"
        },
        {
         "hoverinfo": "skip",
         "line": {
          "color": "blue",
          "width": 1
         },
         "mode": "lines",
         "showlegend": false,
         "type": "scatter",
         "x": [
          0.14429034500972707,
          0.14429034500972707
         ],
         "xaxis": "x",
         "y": [
          1,
          1.58
         ],
         "yaxis": "y"
        },
        {
         "hoverinfo": "skip",
         "line": {
          "color": "blue",
          "width": 1
         },
         "mode": "lines",
         "showlegend": false,
         "type": "scatter",
         "x": [
          0.15469095414922882,
          0.15469095414922882
         ],
         "xaxis": "x",
         "y": [
          1,
          0.42
         ],
         "yaxis": "y"
        },
        {
         "hoverinfo": "skip",
         "line": {
          "color": "blue",
          "width": 1
         },
         "mode": "lines",
         "showlegend": false,
         "type": "scatter",
         "x": [
          0.15693892507782742,
          0.15693892507782742
         ],
         "xaxis": "x",
         "y": [
          1,
          1.42
         ],
         "yaxis": "y"
        },
        {
         "hoverinfo": "skip",
         "line": {
          "color": "blue",
          "width": 1
         },
         "mode": "lines",
         "showlegend": false,
         "type": "scatter",
         "x": [
          0.15976410270333324,
          0.15976410270333324
         ],
         "xaxis": "x",
         "y": [
          1,
          0.58
         ],
         "yaxis": "y"
        },
        {
         "marker": {
          "color": "steelblue"
         },
         "nbinsx": 30,
         "opacity": 0.7,
         "showlegend": false,
         "type": "histogram",
         "x": [
          0.039408777389437454,
          0.02423283824344667,
          -0.0868489083301963,
          -0.11386768359143007,
          0.04904940589041914,
          -0.10121336457269296,
          -0.016598048343377893,
          0.0901679177254442,
          -0.05168802615501574,
          0.023644112011151085,
          0.00989134781543583,
          0.04113415901132873,
          0.024457167231462972,
          -0.0009803566729238438,
          -0.10287427411865936,
          -0.05456877229139761,
          0.0008384932167170848,
          -0.030284837430045463,
          -0.011935666964673247,
          -0.07355867517596318,
          -0.046778948281821095,
          0.023893330956563524,
          0.10371260767706592,
          0.006030842565260477,
          -0.03581632630353089,
          0.01685848021423284,
          0.03316592245102203,
          -0.014474993837267063,
          0.06351185913773927,
          -0.012717089446345094,
          -0.009021817356225054,
          0.10956738855183738,
          -0.04147919787548647,
          0.0357339667771942,
          -0.025948209286587007,
          -0.044895745087164325,
          0.08184293827459352,
          -0.07325894103183433,
          -0.015282566668902967,
          0.020965697839868472,
          -0.07921288387618915,
          0.038100412352636906,
          -0.04561144760142452,
          -0.0042994345724881936,
          -0.05938797412291871,
          0.02212149134211373,
          0.028089412837447637,
          0.02478594497536291,
          -0.07381283780883013,
          -0.03960550681369931,
          0.014331749445133423,
          -0.10658858040853487,
          0.14298369819382806,
          -0.03805450956052201,
          0.08746545266049997,
          0.08403581826136931,
          0.03516891343971273,
          0.020277407425671384,
          -0.01602543278753418,
          0.05981146306309993,
          0.15469095414922882,
          0.086859827072597,
          0.006630304767351074,
          0.042479432958987436,
          0.12948457838344357,
          -0.02120062023426249,
          0.02177191270836227,
          0.049396942119394306,
          0.05610458915303561,
          -0.10250785514181801,
          -0.07210173189519897,
          -0.04046232872091554,
          -0.01877948183034927,
          0.061869398135189,
          0.07156311399189969,
          0.039414404685834,
          0.0012842032814296316,
          -0.15160883245995965,
          -0.10640464841458118,
          0.15976410270333324,
          -0.015771704828900984,
          -0.06074158218768285,
          -0.03148068516815203,
          0.008555488604285543,
          0.09732684012470928,
          0.0420673076841299,
          0.11858442860844527,
          -0.05369549484047511,
          -0.05288813036583695,
          -0.0124181448306358,
          -0.0067431263794689375,
          0.05671374659419718,
          0.010337431737356033,
          0.0042859005667423965,
          0.06160901761264479,
          0.015686883692401423,
          0.09561182322445143,
          -0.037149203012024026,
          -0.05525250095261431,
          0.037929019281897396,
          0.10895368662101769,
          -0.06794320634045095,
          -0.01735085080211426,
          -0.010764264945166873,
          -0.002926225713269551,
          0.09521755158126899,
          0.02231740029812312,
          0.09641414312593215,
          0.05601814166606489,
          0.01269257701031986,
          -0.04925513652690233,
          -0.13334793524206692,
          -0.11891475562809065,
          -0.07051628130514076,
          0.04137195031568102,
          -0.07127030720748972,
          0.04601329858647651,
          0.004520817877249889,
          0.04044096404007179,
          -0.06841143595722256,
          -0.040024254738943395,
          0.04407411032713842,
          -0.043735089399363394,
          -0.014694166891992053,
          0.03825556008568453,
          -0.027332679214137973,
          -0.013404902232072888,
          -0.13540007399588233,
          -0.06430443911348195,
          -0.09711458164909498,
          -0.06858751006669063,
          -0.07624581138597435,
          0.008702828678248085,
          -0.017897912168399234,
          0.13458834306643683,
          -0.04491702486055064,
          0.09024169341256855,
          -0.21289276590720774,
          0.049806378850299975,
          0.08346153082950986,
          0.04328914419992942,
          -0.011129007315595525,
          0.019414564933453542,
          -0.002139765975962517,
          0.034553702229459124,
          0.08617536679070646,
          -0.03665932414020574,
          -0.012589801712601047,
          -0.032741978278379866,
          -0.02715189135963233,
          -0.004446379116486523,
          0.003937680565495275,
          0.11785015413652974,
          0.012804902907495173,
          -0.007780644857540483,
          0.11353747511708752,
          0.045791930177056496,
          -0.08066502059244957,
          -0.05118287320771822,
          -0.03205890710200238,
          -0.03486086123662568,
          0.004203029466317255,
          0.03701042158442503,
          -0.08617424479456577,
          0.15693892507782742,
          0.04750197350788421,
          -0.11217337001106131,
          -0.011070456107323297,
          0.026306397803665137,
          -0.13676982193279597,
          -0.03213880893001655,
          -0.011087123505639793,
          -0.03503482815217888,
          0.08835916733525316,
          0.08265616434641444,
          0.07080884053177613,
          -0.0222061429740295,
          0.047301063626902735,
          0.06897365308135782,
          -0.045778409402149736,
          0.013709116973703866,
          -0.12985698896924125,
          0.12830200863105834,
          -0.0508626751869342,
          0.10055129717088326,
          -0.015312436722271394,
          -0.02601734486259103,
          0.028569217496176014,
          0.0006976199246225539,
          -0.022445705190395744,
          0.044537816562200176,
          -0.05272337430839675,
          -0.03264588795492343,
          -0.019394167184527775,
          -0.014310905899427342,
          0.015918023432880804,
          -0.14285060039124733,
          -0.09703975579946825,
          -0.07543946058204702,
          -0.18269617249888773,
          0.03719830316056629,
          -0.04953602882343348,
          -0.013562149982988103,
          0.057354297158682115,
          -0.044600746761923174,
          -0.07266103418934758,
          0.052188043554778886,
          -0.03068208445940482,
          -0.04021229232816437,
          0.046247110473404136,
          0.06482875677982039,
          0.009874606644923959,
          0.023299684285794316,
          0.023508300767347477,
          -0.02587064904656036,
          -0.026417667699096703,
          0.10584193233507874,
          -0.03939954952519059,
          -0.04024343716940368,
          0.021968398910991827,
          0.06576148686327242,
          -0.0500250634347684,
          0.14429034500972707,
          -0.036164651303129555,
          0.029699025206417252,
          -0.01047171320476113,
          -0.0016836249076110808,
          0.045207562208645025,
          0.032403297138679614,
          -0.013336613876055226,
          -0.06478539604008615,
          0.03269387208258014,
          -0.08063119495738129,
          -0.006591363303123207,
          0.07700281081420543
         ],
         "xaxis": "x2",
         "yaxis": "y2"
        }
       ],
       "layout": {
        "annotations": [
         {
          "font": {
           "size": 16
          },
          "showarrow": false,
          "text": "PC10 Cosine Similarity",
          "x": 0.5,
          "xanchor": "center",
          "xref": "paper",
          "y": 1,
          "yanchor": "bottom",
          "yref": "paper"
         },
         {
          "font": {
           "size": 16
          },
          "showarrow": false,
          "text": "Trait Frequency Distribution",
          "x": 0.5,
          "xanchor": "center",
          "xref": "paper",
          "y": 0.36000000000000004,
          "yanchor": "bottom",
          "yref": "paper"
         },
         {
          "bgcolor": "rgba(255, 255, 255, 0.9)",
          "bordercolor": "red",
          "borderwidth": 1,
          "font": {
           "color": "red",
           "size": 10
          },
          "showarrow": false,
          "text": "meditative",
          "x": -0.21289276590720774,
          "xref": "x",
          "y": 1.6,
          "yref": "y"
         },
         {
          "bgcolor": "rgba(255, 255, 255, 0.9)",
          "bordercolor": "red",
          "borderwidth": 1,
          "font": {
           "color": "red",
           "size": 10
          },
          "showarrow": false,
          "text": "savage",
          "x": -0.18269617249888773,
          "xref": "x",
          "y": 0.4,
          "yref": "y"
         },
         {
          "bgcolor": "rgba(255, 255, 255, 0.9)",
          "bordercolor": "red",
          "borderwidth": 1,
          "font": {
           "color": "red",
           "size": 10
          },
          "showarrow": false,
          "text": "emotional",
          "x": -0.15160883245995965,
          "xref": "x",
          "y": 1.45,
          "yref": "y"
         },
         {
          "bgcolor": "rgba(255, 255, 255, 0.9)",
          "bordercolor": "red",
          "borderwidth": 1,
          "font": {
           "color": "red",
           "size": 10
          },
          "showarrow": false,
          "text": "sarcastic",
          "x": -0.14285060039124733,
          "xref": "x",
          "y": 0.55,
          "yref": "y"
         },
         {
          "bgcolor": "rgba(255, 255, 255, 0.9)",
          "bordercolor": "red",
          "borderwidth": 1,
          "font": {
           "color": "red",
           "size": 10
          },
          "showarrow": false,
          "text": "petty",
          "x": -0.13676982193279597,
          "xref": "x",
          "y": 1.55,
          "yref": "y"
         },
         {
          "bgcolor": "rgba(255, 255, 255, 0.9)",
          "bordercolor": "red",
          "borderwidth": 1,
          "font": {
           "color": "red",
           "size": 10
          },
          "showarrow": false,
          "text": "introverted",
          "x": -0.13540007399588233,
          "xref": "x",
          "y": 0.45,
          "yref": "y"
         },
         {
          "bgcolor": "rgba(255, 255, 255, 0.9)",
          "bordercolor": "red",
          "borderwidth": 1,
          "font": {
           "color": "red",
           "size": 10
          },
          "showarrow": false,
          "text": "hostile",
          "x": -0.13334793524206692,
          "xref": "x",
          "y": 1.35,
          "yref": "y"
         },
         {
          "bgcolor": "rgba(255, 255, 255, 0.9)",
          "bordercolor": "red",
          "borderwidth": 1,
          "font": {
           "color": "red",
           "size": 10
          },
          "showarrow": false,
          "text": "qualitative",
          "x": -0.12985698896924125,
          "xref": "x",
          "y": 0.65,
          "yref": "y"
         },
         {
          "bgcolor": "rgba(255, 255, 255, 0.9)",
          "bordercolor": "red",
          "borderwidth": 1,
          "font": {
           "color": "red",
           "size": 10
          },
          "showarrow": false,
          "text": "humanistic",
          "x": -0.11891475562809065,
          "xref": "x",
          "y": 1.5,
          "yref": "y"
         },
         {
          "bgcolor": "rgba(255, 255, 255, 0.9)",
          "bordercolor": "red",
          "borderwidth": 1,
          "font": {
           "color": "red",
           "size": 10
          },
          "showarrow": false,
          "text": "accessible",
          "x": -0.11386768359143007,
          "xref": "x",
          "y": 0.5,
          "yref": "y"
         },
         {
          "bgcolor": "rgba(255, 255, 255, 0.9)",
          "bordercolor": "blue",
          "borderwidth": 1,
          "font": {
           "color": "blue",
           "size": 10
          },
          "showarrow": false,
          "text": "nihilistic",
          "x": 0.11785015413652974,
          "xref": "x",
          "y": 1.4,
          "yref": "y"
         },
         {
          "bgcolor": "rgba(255, 255, 255, 0.9)",
          "bordercolor": "blue",
          "borderwidth": 1,
          "font": {
           "color": "blue",
           "size": 10
          },
          "showarrow": false,
          "text": "ethereal",
          "x": 0.11858442860844527,
          "xref": "x",
          "y": 0.6,
          "yref": "y"
         },
         {
          "bgcolor": "rgba(255, 255, 255, 0.9)",
          "bordercolor": "blue",
          "borderwidth": 1,
          "font": {
           "color": "blue",
           "size": 10
          },
          "showarrow": false,
          "text": "quantitative",
          "x": 0.12830200863105834,
          "xref": "x",
          "y": 1.65,
          "yref": "y"
         },
         {
          "bgcolor": "rgba(255, 255, 255, 0.9)",
          "bordercolor": "blue",
          "borderwidth": 1,
          "font": {
           "color": "blue",
           "size": 10
          },
          "showarrow": false,
          "text": "dispassionate",
          "x": 0.12948457838344357,
          "xref": "x",
          "y": 0.35,
          "yref": "y"
         },
         {
          "bgcolor": "rgba(255, 255, 255, 0.9)",
          "bordercolor": "blue",
          "borderwidth": 1,
          "font": {
           "color": "blue",
           "size": 10
          },
          "showarrow": false,
          "text": "manic",
          "x": 0.13458834306643683,
          "xref": "x",
          "y": 1.3,
          "yref": "y"
         },
         {
          "bgcolor": "rgba(255, 255, 255, 0.9)",
          "bordercolor": "blue",
          "borderwidth": 1,
          "font": {
           "color": "blue",
           "size": 10
          },
          "showarrow": false,
          "text": "cryptic",
          "x": 0.14298369819382806,
          "xref": "x",
          "y": 0.7,
          "yref": "y"
         },
         {
          "bgcolor": "rgba(255, 255, 255, 0.9)",
          "bordercolor": "blue",
          "borderwidth": 1,
          "font": {
           "color": "blue",
           "size": 10
          },
          "showarrow": false,
          "text": "theatrical",
          "x": 0.14429034500972707,
          "xref": "x",
          "y": 1.58,
          "yref": "y"
         },
         {
          "bgcolor": "rgba(255, 255, 255, 0.9)",
          "bordercolor": "blue",
          "borderwidth": 1,
          "font": {
           "color": "blue",
           "size": 10
          },
          "showarrow": false,
          "text": "detached",
          "x": 0.15469095414922882,
          "xref": "x",
          "y": 0.42,
          "yref": "y"
         },
         {
          "bgcolor": "rgba(255, 255, 255, 0.9)",
          "bordercolor": "blue",
          "borderwidth": 1,
          "font": {
           "color": "blue",
           "size": 10
          },
          "showarrow": false,
          "text": "patient",
          "x": 0.15693892507782742,
          "xref": "x",
          "y": 1.42,
          "yref": "y"
         },
         {
          "bgcolor": "rgba(255, 255, 255, 0.9)",
          "bordercolor": "blue",
          "borderwidth": 1,
          "font": {
           "color": "blue",
           "size": 10
          },
          "showarrow": false,
          "text": "enigmatic",
          "x": 0.15976410270333324,
          "xref": "x",
          "y": 0.58,
          "yref": "y"
         }
        ],
        "height": 700,
        "shapes": [
         {
          "line": {
           "color": "gray",
           "dash": "solid",
           "width": 1
          },
          "opacity": 0.7,
          "type": "line",
          "x0": 0,
          "x1": 0,
          "xref": "x",
          "y0": 0,
          "y1": 1,
          "yref": "y domain"
         }
        ],
        "showlegend": false,
        "template": {
         "data": {
          "bar": [
           {
            "error_x": {
             "color": "#2a3f5f"
            },
            "error_y": {
             "color": "#2a3f5f"
            },
            "marker": {
             "line": {
              "color": "#E5ECF6",
              "width": 0.5
             },
             "pattern": {
              "fillmode": "overlay",
              "size": 10,
              "solidity": 0.2
             }
            },
            "type": "bar"
           }
          ],
          "barpolar": [
           {
            "marker": {
             "line": {
              "color": "#E5ECF6",
              "width": 0.5
             },
             "pattern": {
              "fillmode": "overlay",
              "size": 10,
              "solidity": 0.2
             }
            },
            "type": "barpolar"
           }
          ],
          "carpet": [
           {
            "aaxis": {
             "endlinecolor": "#2a3f5f",
             "gridcolor": "white",
             "linecolor": "white",
             "minorgridcolor": "white",
             "startlinecolor": "#2a3f5f"
            },
            "baxis": {
             "endlinecolor": "#2a3f5f",
             "gridcolor": "white",
             "linecolor": "white",
             "minorgridcolor": "white",
             "startlinecolor": "#2a3f5f"
            },
            "type": "carpet"
           }
          ],
          "choropleth": [
           {
            "colorbar": {
             "outlinewidth": 0,
             "ticks": ""
            },
            "type": "choropleth"
           }
          ],
          "contour": [
           {
            "colorbar": {
             "outlinewidth": 0,
             "ticks": ""
            },
            "colorscale": [
             [
              0,
              "#0d0887"
             ],
             [
              0.1111111111111111,
              "#46039f"
             ],
             [
              0.2222222222222222,
              "#7201a8"
             ],
             [
              0.3333333333333333,
              "#9c179e"
             ],
             [
              0.4444444444444444,
              "#bd3786"
             ],
             [
              0.5555555555555556,
              "#d8576b"
             ],
             [
              0.6666666666666666,
              "#ed7953"
             ],
             [
              0.7777777777777778,
              "#fb9f3a"
             ],
             [
              0.8888888888888888,
              "#fdca26"
             ],
             [
              1,
              "#f0f921"
             ]
            ],
            "type": "contour"
           }
          ],
          "contourcarpet": [
           {
            "colorbar": {
             "outlinewidth": 0,
             "ticks": ""
            },
            "type": "contourcarpet"
           }
          ],
          "heatmap": [
           {
            "colorbar": {
             "outlinewidth": 0,
             "ticks": ""
            },
            "colorscale": [
             [
              0,
              "#0d0887"
             ],
             [
              0.1111111111111111,
              "#46039f"
             ],
             [
              0.2222222222222222,
              "#7201a8"
             ],
             [
              0.3333333333333333,
              "#9c179e"
             ],
             [
              0.4444444444444444,
              "#bd3786"
             ],
             [
              0.5555555555555556,
              "#d8576b"
             ],
             [
              0.6666666666666666,
              "#ed7953"
             ],
             [
              0.7777777777777778,
              "#fb9f3a"
             ],
             [
              0.8888888888888888,
              "#fdca26"
             ],
             [
              1,
              "#f0f921"
             ]
            ],
            "type": "heatmap"
           }
          ],
          "heatmapgl": [
           {
            "colorbar": {
             "outlinewidth": 0,
             "ticks": ""
            },
            "colorscale": [
             [
              0,
              "#0d0887"
             ],
             [
              0.1111111111111111,
              "#46039f"
             ],
             [
              0.2222222222222222,
              "#7201a8"
             ],
             [
              0.3333333333333333,
              "#9c179e"
             ],
             [
              0.4444444444444444,
              "#bd3786"
             ],
             [
              0.5555555555555556,
              "#d8576b"
             ],
             [
              0.6666666666666666,
              "#ed7953"
             ],
             [
              0.7777777777777778,
              "#fb9f3a"
             ],
             [
              0.8888888888888888,
              "#fdca26"
             ],
             [
              1,
              "#f0f921"
             ]
            ],
            "type": "heatmapgl"
           }
          ],
          "histogram": [
           {
            "marker": {
             "pattern": {
              "fillmode": "overlay",
              "size": 10,
              "solidity": 0.2
             }
            },
            "type": "histogram"
           }
          ],
          "histogram2d": [
           {
            "colorbar": {
             "outlinewidth": 0,
             "ticks": ""
            },
            "colorscale": [
             [
              0,
              "#0d0887"
             ],
             [
              0.1111111111111111,
              "#46039f"
             ],
             [
              0.2222222222222222,
              "#7201a8"
             ],
             [
              0.3333333333333333,
              "#9c179e"
             ],
             [
              0.4444444444444444,
              "#bd3786"
             ],
             [
              0.5555555555555556,
              "#d8576b"
             ],
             [
              0.6666666666666666,
              "#ed7953"
             ],
             [
              0.7777777777777778,
              "#fb9f3a"
             ],
             [
              0.8888888888888888,
              "#fdca26"
             ],
             [
              1,
              "#f0f921"
             ]
            ],
            "type": "histogram2d"
           }
          ],
          "histogram2dcontour": [
           {
            "colorbar": {
             "outlinewidth": 0,
             "ticks": ""
            },
            "colorscale": [
             [
              0,
              "#0d0887"
             ],
             [
              0.1111111111111111,
              "#46039f"
             ],
             [
              0.2222222222222222,
              "#7201a8"
             ],
             [
              0.3333333333333333,
              "#9c179e"
             ],
             [
              0.4444444444444444,
              "#bd3786"
             ],
             [
              0.5555555555555556,
              "#d8576b"
             ],
             [
              0.6666666666666666,
              "#ed7953"
             ],
             [
              0.7777777777777778,
              "#fb9f3a"
             ],
             [
              0.8888888888888888,
              "#fdca26"
             ],
             [
              1,
              "#f0f921"
             ]
            ],
            "type": "histogram2dcontour"
           }
          ],
          "mesh3d": [
           {
            "colorbar": {
             "outlinewidth": 0,
             "ticks": ""
            },
            "type": "mesh3d"
           }
          ],
          "parcoords": [
           {
            "line": {
             "colorbar": {
              "outlinewidth": 0,
              "ticks": ""
             }
            },
            "type": "parcoords"
           }
          ],
          "pie": [
           {
            "automargin": true,
            "type": "pie"
           }
          ],
          "scatter": [
           {
            "fillpattern": {
             "fillmode": "overlay",
             "size": 10,
             "solidity": 0.2
            },
            "type": "scatter"
           }
          ],
          "scatter3d": [
           {
            "line": {
             "colorbar": {
              "outlinewidth": 0,
              "ticks": ""
             }
            },
            "marker": {
             "colorbar": {
              "outlinewidth": 0,
              "ticks": ""
             }
            },
            "type": "scatter3d"
           }
          ],
          "scattercarpet": [
           {
            "marker": {
             "colorbar": {
              "outlinewidth": 0,
              "ticks": ""
             }
            },
            "type": "scattercarpet"
           }
          ],
          "scattergeo": [
           {
            "marker": {
             "colorbar": {
              "outlinewidth": 0,
              "ticks": ""
             }
            },
            "type": "scattergeo"
           }
          ],
          "scattergl": [
           {
            "marker": {
             "colorbar": {
              "outlinewidth": 0,
              "ticks": ""
             }
            },
            "type": "scattergl"
           }
          ],
          "scattermapbox": [
           {
            "marker": {
             "colorbar": {
              "outlinewidth": 0,
              "ticks": ""
             }
            },
            "type": "scattermapbox"
           }
          ],
          "scatterpolar": [
           {
            "marker": {
             "colorbar": {
              "outlinewidth": 0,
              "ticks": ""
             }
            },
            "type": "scatterpolar"
           }
          ],
          "scatterpolargl": [
           {
            "marker": {
             "colorbar": {
              "outlinewidth": 0,
              "ticks": ""
             }
            },
            "type": "scatterpolargl"
           }
          ],
          "scatterternary": [
           {
            "marker": {
             "colorbar": {
              "outlinewidth": 0,
              "ticks": ""
             }
            },
            "type": "scatterternary"
           }
          ],
          "surface": [
           {
            "colorbar": {
             "outlinewidth": 0,
             "ticks": ""
            },
            "colorscale": [
             [
              0,
              "#0d0887"
             ],
             [
              0.1111111111111111,
              "#46039f"
             ],
             [
              0.2222222222222222,
              "#7201a8"
             ],
             [
              0.3333333333333333,
              "#9c179e"
             ],
             [
              0.4444444444444444,
              "#bd3786"
             ],
             [
              0.5555555555555556,
              "#d8576b"
             ],
             [
              0.6666666666666666,
              "#ed7953"
             ],
             [
              0.7777777777777778,
              "#fb9f3a"
             ],
             [
              0.8888888888888888,
              "#fdca26"
             ],
             [
              1,
              "#f0f921"
             ]
            ],
            "type": "surface"
           }
          ],
          "table": [
           {
            "cells": {
             "fill": {
              "color": "#EBF0F8"
             },
             "line": {
              "color": "white"
             }
            },
            "header": {
             "fill": {
              "color": "#C8D4E3"
             },
             "line": {
              "color": "white"
             }
            },
            "type": "table"
           }
          ]
         },
         "layout": {
          "annotationdefaults": {
           "arrowcolor": "#2a3f5f",
           "arrowhead": 0,
           "arrowwidth": 1
          },
          "autotypenumbers": "strict",
          "coloraxis": {
           "colorbar": {
            "outlinewidth": 0,
            "ticks": ""
           }
          },
          "colorscale": {
           "diverging": [
            [
             0,
             "#8e0152"
            ],
            [
             0.1,
             "#c51b7d"
            ],
            [
             0.2,
             "#de77ae"
            ],
            [
             0.3,
             "#f1b6da"
            ],
            [
             0.4,
             "#fde0ef"
            ],
            [
             0.5,
             "#f7f7f7"
            ],
            [
             0.6,
             "#e6f5d0"
            ],
            [
             0.7,
             "#b8e186"
            ],
            [
             0.8,
             "#7fbc41"
            ],
            [
             0.9,
             "#4d9221"
            ],
            [
             1,
             "#276419"
            ]
           ],
           "sequential": [
            [
             0,
             "#0d0887"
            ],
            [
             0.1111111111111111,
             "#46039f"
            ],
            [
             0.2222222222222222,
             "#7201a8"
            ],
            [
             0.3333333333333333,
             "#9c179e"
            ],
            [
             0.4444444444444444,
             "#bd3786"
            ],
            [
             0.5555555555555556,
             "#d8576b"
            ],
            [
             0.6666666666666666,
             "#ed7953"
            ],
            [
             0.7777777777777778,
             "#fb9f3a"
            ],
            [
             0.8888888888888888,
             "#fdca26"
            ],
            [
             1,
             "#f0f921"
            ]
           ],
           "sequentialminus": [
            [
             0,
             "#0d0887"
            ],
            [
             0.1111111111111111,
             "#46039f"
            ],
            [
             0.2222222222222222,
             "#7201a8"
            ],
            [
             0.3333333333333333,
             "#9c179e"
            ],
            [
             0.4444444444444444,
             "#bd3786"
            ],
            [
             0.5555555555555556,
             "#d8576b"
            ],
            [
             0.6666666666666666,
             "#ed7953"
            ],
            [
             0.7777777777777778,
             "#fb9f3a"
            ],
            [
             0.8888888888888888,
             "#fdca26"
            ],
            [
             1,
             "#f0f921"
            ]
           ]
          },
          "colorway": [
           "#636efa",
           "#EF553B",
           "#00cc96",
           "#ab63fa",
           "#FFA15A",
           "#19d3f3",
           "#FF6692",
           "#B6E880",
           "#FF97FF",
           "#FECB52"
          ],
          "font": {
           "color": "#2a3f5f"
          },
          "geo": {
           "bgcolor": "white",
           "lakecolor": "white",
           "landcolor": "#E5ECF6",
           "showlakes": true,
           "showland": true,
           "subunitcolor": "white"
          },
          "hoverlabel": {
           "align": "left"
          },
          "hovermode": "closest",
          "mapbox": {
           "style": "light"
          },
          "paper_bgcolor": "white",
          "plot_bgcolor": "#E5ECF6",
          "polar": {
           "angularaxis": {
            "gridcolor": "white",
            "linecolor": "white",
            "ticks": ""
           },
           "bgcolor": "#E5ECF6",
           "radialaxis": {
            "gridcolor": "white",
            "linecolor": "white",
            "ticks": ""
           }
          },
          "scene": {
           "xaxis": {
            "backgroundcolor": "#E5ECF6",
            "gridcolor": "white",
            "gridwidth": 2,
            "linecolor": "white",
            "showbackground": true,
            "ticks": "",
            "zerolinecolor": "white"
           },
           "yaxis": {
            "backgroundcolor": "#E5ECF6",
            "gridcolor": "white",
            "gridwidth": 2,
            "linecolor": "white",
            "showbackground": true,
            "ticks": "",
            "zerolinecolor": "white"
           },
           "zaxis": {
            "backgroundcolor": "#E5ECF6",
            "gridcolor": "white",
            "gridwidth": 2,
            "linecolor": "white",
            "showbackground": true,
            "ticks": "",
            "zerolinecolor": "white"
           }
          },
          "shapedefaults": {
           "line": {
            "color": "#2a3f5f"
           }
          },
          "ternary": {
           "aaxis": {
            "gridcolor": "white",
            "linecolor": "white",
            "ticks": ""
           },
           "baxis": {
            "gridcolor": "white",
            "linecolor": "white",
            "ticks": ""
           },
           "bgcolor": "#E5ECF6",
           "caxis": {
            "gridcolor": "white",
            "linecolor": "white",
            "ticks": ""
           }
          },
          "title": {
           "x": 0.05
          },
          "xaxis": {
           "automargin": true,
           "gridcolor": "white",
           "linecolor": "white",
           "ticks": "",
           "title": {
            "standoff": 15
           },
           "zerolinecolor": "white",
           "zerolinewidth": 2
          },
          "yaxis": {
           "automargin": true,
           "gridcolor": "white",
           "linecolor": "white",
           "ticks": "",
           "title": {
            "standoff": 15
           },
           "zerolinecolor": "white",
           "zerolinewidth": 2
          }
         }
        },
        "title": {
         "font": {
          "size": 16
         },
         "subtitle": {
          "text": "Gemma 2 27B, Layer 34"
         },
         "text": "PCA on Trait Vectors from Mean Response Activations",
         "x": 0.5
        },
        "xaxis": {
         "anchor": "y",
         "domain": [
          0,
          1
         ],
         "range": [
          -0.23418204249792854,
          0.23418204249792854
         ]
        },
        "xaxis2": {
         "anchor": "y2",
         "domain": [
          0,
          1
         ],
         "range": [
          -0.23418204249792854,
          0.23418204249792854
         ],
         "title": {
          "text": "PC10 Cosine Similarity"
         }
        },
        "yaxis": {
         "anchor": "x",
         "domain": [
          0.4600000000000001,
          1
         ],
         "range": [
          0.25,
          1.75
         ],
         "showticklabels": false,
         "title": {
          "text": ""
         }
        },
        "yaxis2": {
         "anchor": "x2",
         "domain": [
          0,
          0.36000000000000004
         ],
         "title": {
          "text": "Frequency"
         }
        }
       }
      },
      "text/html": [
       "<div>                            <div id=\"d76a31e9-d87b-4be0-b6ae-00d1566b6473\" class=\"plotly-graph-div\" style=\"height:700px; width:100%;\"></div>            <script type=\"text/javascript\">                require([\"plotly\"], function(Plotly) {                    window.PLOTLYENV=window.PLOTLYENV || {};                                    if (document.getElementById(\"d76a31e9-d87b-4be0-b6ae-00d1566b6473\")) {                    Plotly.newPlot(                        \"d76a31e9-d87b-4be0-b6ae-00d1566b6473\",                        [{\"hovertemplate\":\"\\u003cb\\u003e%{text}\\u003c\\u002fb\\u003e\\u003cbr\\u003eCosine Similarity: %{x:.3f}\\u003cextra\\u003e\\u003c\\u002fextra\\u003e\",\"marker\":{\"color\":[\"blue\",\"blue\",\"red\",\"blue\",\"red\",\"red\",\"blue\",\"red\",\"blue\",\"blue\",\"blue\",\"blue\",\"red\",\"red\",\"red\",\"blue\",\"red\",\"red\",\"red\",\"red\",\"blue\",\"blue\",\"blue\",\"red\",\"blue\",\"blue\",\"red\",\"blue\",\"red\",\"red\",\"blue\",\"red\",\"blue\",\"red\",\"red\",\"blue\",\"red\",\"red\",\"blue\",\"red\",\"blue\",\"red\",\"red\",\"red\",\"blue\",\"blue\",\"blue\",\"red\",\"red\",\"blue\",\"red\",\"red\",\"blue\",\"blue\",\"blue\",\"blue\",\"red\",\"blue\",\"blue\",\"blue\",\"blue\",\"red\",\"blue\",\"blue\",\"blue\",\"red\",\"red\",\"red\",\"red\",\"blue\",\"blue\",\"blue\",\"blue\",\"red\",\"red\",\"red\",\"red\",\"blue\",\"blue\",\"blue\",\"red\",\"red\",\"red\",\"red\",\"blue\",\"blue\",\"blue\",\"blue\",\"blue\",\"blue\",\"red\",\"red\",\"blue\",\"blue\",\"red\",\"red\",\"red\",\"red\",\"blue\",\"blue\",\"blue\",\"blue\",\"blue\",\"red\",\"red\",\"blue\",\"red\",\"blue\",\"blue\",\"blue\",\"red\",\"red\",\"blue\",\"red\",\"red\",\"blue\",\"red\",\"red\",\"red\",\"red\",\"red\",\"red\",\"blue\",\"red\",\"red\",\"blue\",\"blue\",\"blue\",\"blue\",\"red\",\"blue\",\"red\",\"blue\",\"blue\",\"red\",\"red\",\"red\",\"red\",\"red\",\"blue\",\"blue\",\"red\",\"blue\",\"blue\",\"red\",\"red\",\"red\",\"red\",\"blue\",\"blue\",\"red\",\"blue\",\"red\",\"red\",\"blue\",\"red\",\"red\",\"red\",\"blue\",\"blue\",\"blue\",\"red\",\"blue\",\"blue\",\"red\",\"blue\",\"red\",\"blue\",\"red\",\"red\",\"blue\",\"blue\",\"red\",\"blue\",\"red\",\"red\",\"red\",\"red\",\"blue\",\"red\",\"red\",\"blue\",\"red\",\"red\",\"blue\",\"red\",\"red\",\"blue\",\"red\",\"red\",\"blue\",\"blue\",\"blue\",\"blue\",\"blue\",\"red\",\"red\",\"blue\",\"red\",\"red\",\"blue\",\"blue\",\"red\",\"red\",\"blue\",\"red\",\"red\",\"blue\",\"blue\",\"red\",\"red\",\"blue\",\"red\",\"red\",\"blue\"],\"opacity\":0.7,\"size\":8},\"mode\":\"markers\",\"showlegend\":false,\"text\":[\"absolutist\",\"adaptable\",\"abstract\",\"accommodating\",\"acerbic\",\"adventurous\",\"agreeable\",\"altruistic\",\"analytical\",\"animated\",\"anthropocentric\",\"anxious\",\"arrogant\",\"artistic\",\"ascetic\",\"assertive\",\"avoidant\",\"benevolent\",\"big_picture\",\"bitter\",\"blunt\",\"bombastic\",\"calculating\",\"callous\",\"calm\",\"casual\",\"cautious\",\"challenging\",\"chaotic\",\"charismatic\",\"chill\",\"circumspect\",\"closure_seeking\",\"collaborative\",\"collectivistic\",\"competitive\",\"conceptual\",\"conciliatory\",\"concise\",\"condescending\",\"confident\",\"confrontational\",\"conscientious\",\"constructivist\",\"contemporary\",\"contrarian\",\"convergent\",\"cosmopolitan\",\"creative\",\"critical\",\"cruel\",\"curious\",\"cynical\",\"data_driven\",\"decisive\",\"deconstructionist\",\"deontological\",\"descriptive\",\"deterministic\",\"diplomatic\",\"disorganized\",\"divergent\",\"dogmatic\",\"dominant\",\"dramatic\",\"earnest\",\"eclectic\",\"edgy\",\"educational\",\"efficient\",\"effusive\",\"elitist\",\"eloquent\",\"empathetic\",\"entertaining\",\"environmental\",\"epicurean\",\"erudite\",\"esoteric\",\"essentialist\",\"evil\",\"existentialist\",\"experiential\",\"exploratory\",\"extroverted\",\"factual\",\"fatalistic\",\"flexible\",\"flippant\",\"flirty\",\"forgiving\",\"formal\",\"formalist\",\"fundamentalist\",\"futuristic\",\"generalist\",\"generous\",\"goofy\",\"grandiose\",\"gregarious\",\"grounded\",\"hedonistic\",\"historical\",\"holistic\",\"humble\",\"iconoclastic\",\"idealistic\",\"impatient\",\"improvisational\",\"impulsive\",\"inclusive\",\"independent\",\"individualistic\",\"innovative\",\"inquisitive\",\"inspirational\",\"interdisciplinary\",\"introspective\",\"intuitive\",\"ironic\",\"irreverent\",\"judgmental\",\"libertarian\",\"literal\",\"manipulative\",\"materialist\",\"melancholic\",\"melodramatic\",\"mercurial\",\"metaphorical\",\"methodical\",\"meticulous\",\"militant\",\"misanthropic\",\"mischievous\",\"moderate\",\"mystical\",\"naive\",\"narrative\",\"neurotic\",\"nonchalant\",\"nostalgic\",\"nurturing\",\"obsessive\",\"open_ended\",\"optimistic\",\"pacifist\",\"paradoxical\",\"paranoid\",\"passionate\",\"passive_aggressive\",\"pedantic\",\"pensive\",\"perfectionist\",\"pessimistic\",\"philosophical\",\"playful\",\"pluralist\",\"poetic\",\"practical\",\"prescriptive\",\"principled\",\"proactive\",\"problem_solving\",\"progressive\",\"provocative\",\"radical\",\"rationalist\",\"reactive\",\"rebellious\",\"reductionist\",\"regulatory\",\"reserved\",\"resilient\",\"reverent\",\"rhetorical\",\"risk_taking\",\"ritualistic\",\"romantic\",\"sardonic\",\"sassy\",\"secular\",\"serene\",\"serious\",\"skeptical\",\"socratic\",\"solemn\",\"specialized\",\"speculative\",\"spiritual\",\"spontaneous\",\"stoic\",\"strategic\",\"stream_of_consciousness\",\"structuralist\",\"submissive\",\"subversive\",\"supportive\",\"sycophantic\",\"systems_thinker\",\"tactful\",\"technical\",\"temperamental\",\"theoretical\",\"traditional\",\"understated\",\"universalist\",\"urgent\",\"utilitarian\",\"verbose\",\"visceral\",\"whimsical\",\"witty\",\"wry\",\"zealous\"],\"x\":[0.039408777389437454,0.02423283824344667,-0.0868489083301963,0.04904940589041914,-0.10121336457269296,-0.016598048343377893,0.0901679177254442,-0.05168802615501574,0.023644112011151085,0.00989134781543583,0.04113415901132873,0.024457167231462972,-0.0009803566729238438,-0.10287427411865936,-0.05456877229139761,0.0008384932167170848,-0.030284837430045463,-0.011935666964673247,-0.07355867517596318,-0.046778948281821095,0.023893330956563524,0.10371260767706592,0.006030842565260477,-0.03581632630353089,0.01685848021423284,0.03316592245102203,-0.014474993837267063,0.06351185913773927,-0.012717089446345094,-0.009021817356225054,0.10956738855183738,-0.04147919787548647,0.0357339667771942,-0.025948209286587007,-0.044895745087164325,0.08184293827459352,-0.07325894103183433,-0.015282566668902967,0.020965697839868472,-0.07921288387618915,0.038100412352636906,-0.04561144760142452,-0.0042994345724881936,-0.05938797412291871,0.02212149134211373,0.028089412837447637,0.02478594497536291,-0.07381283780883013,-0.03960550681369931,0.014331749445133423,-0.10658858040853487,-0.03805450956052201,0.08746545266049997,0.08403581826136931,0.03516891343971273,0.020277407425671384,-0.01602543278753418,0.05981146306309993,0.086859827072597,0.006630304767351074,0.042479432958987436,-0.02120062023426249,0.02177191270836227,0.049396942119394306,0.05610458915303561,-0.10250785514181801,-0.07210173189519897,-0.04046232872091554,-0.01877948183034927,0.061869398135189,0.07156311399189969,0.039414404685834,0.0012842032814296316,-0.10640464841458118,-0.015771704828900984,-0.06074158218768285,-0.03148068516815203,0.008555488604285543,0.09732684012470928,0.0420673076841299,-0.05369549484047511,-0.05288813036583695,-0.0124181448306358,-0.0067431263794689375,0.05671374659419718,0.010337431737356033,0.0042859005667423965,0.06160901761264479,0.015686883692401423,0.09561182322445143,-0.037149203012024026,-0.05525250095261431,0.037929019281897396,0.10895368662101769,-0.06794320634045095,-0.01735085080211426,-0.010764264945166873,-0.002926225713269551,0.09521755158126899,0.02231740029812312,0.09641414312593215,0.05601814166606489,0.01269257701031986,-0.04925513652690233,-0.07051628130514076,0.04137195031568102,-0.07127030720748972,0.04601329858647651,0.004520817877249889,0.04044096404007179,-0.06841143595722256,-0.040024254738943395,0.04407411032713842,-0.043735089399363394,-0.014694166891992053,0.03825556008568453,-0.027332679214137973,-0.013404902232072888,-0.06430443911348195,-0.09711458164909498,-0.06858751006669063,-0.07624581138597435,0.008702828678248085,-0.017897912168399234,-0.04491702486055064,0.09024169341256855,0.049806378850299975,0.08346153082950986,0.04328914419992942,-0.011129007315595525,0.019414564933453542,-0.002139765975962517,0.034553702229459124,0.08617536679070646,-0.03665932414020574,-0.012589801712601047,-0.032741978278379866,-0.02715189135963233,-0.004446379116486523,0.003937680565495275,0.012804902907495173,-0.007780644857540483,0.11353747511708752,0.045791930177056496,-0.08066502059244957,-0.05118287320771822,-0.03205890710200238,-0.03486086123662568,0.004203029466317255,0.03701042158442503,-0.08617424479456577,0.04750197350788421,-0.11217337001106131,-0.011070456107323297,0.026306397803665137,-0.03213880893001655,-0.011087123505639793,-0.03503482815217888,0.08835916733525316,0.08265616434641444,0.07080884053177613,-0.0222061429740295,0.047301063626902735,0.06897365308135782,-0.045778409402149736,0.013709116973703866,-0.0508626751869342,0.10055129717088326,-0.015312436722271394,-0.02601734486259103,0.028569217496176014,0.0006976199246225539,-0.022445705190395744,0.044537816562200176,-0.05272337430839675,-0.03264588795492343,-0.019394167184527775,-0.014310905899427342,0.015918023432880804,-0.09703975579946825,-0.07543946058204702,0.03719830316056629,-0.04953602882343348,-0.013562149982988103,0.057354297158682115,-0.044600746761923174,-0.07266103418934758,0.052188043554778886,-0.03068208445940482,-0.04021229232816437,0.046247110473404136,0.06482875677982039,0.009874606644923959,0.023299684285794316,0.023508300767347477,-0.02587064904656036,-0.026417667699096703,0.10584193233507874,-0.03939954952519059,-0.04024343716940368,0.021968398910991827,0.06576148686327242,-0.0500250634347684,-0.036164651303129555,0.029699025206417252,-0.01047171320476113,-0.0016836249076110808,0.045207562208645025,0.032403297138679614,-0.013336613876055226,-0.06478539604008615,0.03269387208258014,-0.08063119495738129,-0.006591363303123207,0.07700281081420543],\"y\":[1,1,1,1,1,1,1,1,1,1,1,1,1,1,1,1,1,1,1,1,1,1,1,1,1,1,1,1,1,1,1,1,1,1,1,1,1,1,1,1,1,1,1,1,1,1,1,1,1,1,1,1,1,1,1,1,1,1,1,1,1,1,1,1,1,1,1,1,1,1,1,1,1,1,1,1,1,1,1,1,1,1,1,1,1,1,1,1,1,1,1,1,1,1,1,1,1,1,1,1,1,1,1,1,1,1,1,1,1,1,1,1,1,1,1,1,1,1,1,1,1,1,1,1,1,1,1,1,1,1,1,1,1,1,1,1,1,1,1,1,1,1,1,1,1,1,1,1,1,1,1,1,1,1,1,1,1,1,1,1,1,1,1,1,1,1,1,1,1,1,1,1,1,1,1,1,1,1,1,1,1,1,1,1,1,1,1,1,1,1,1,1,1,1,1,1,1,1,1,1,1,1,1,1,1,1,1,1,1,1,1,1,1,1,1],\"type\":\"scatter\",\"xaxis\":\"x\",\"yaxis\":\"y\"},{\"hovertemplate\":\"\\u003cb\\u003e%{text}\\u003c\\u002fb\\u003e\\u003cbr\\u003eCosine Similarity: %{x:.3f}\\u003cextra\\u003e\\u003c\\u002fextra\\u003e\",\"marker\":{\"color\":[\"red\",\"blue\",\"blue\",\"blue\",\"red\",\"blue\",\"blue\",\"red\",\"red\",\"red\",\"blue\",\"red\",\"blue\",\"blue\",\"red\",\"red\",\"blue\",\"red\",\"red\",\"blue\"],\"opacity\":0.9,\"size\":8},\"mode\":\"markers\",\"showlegend\":false,\"text\":[\"accessible\",\"cryptic\",\"detached\",\"dispassionate\",\"emotional\",\"enigmatic\",\"ethereal\",\"hostile\",\"humanistic\",\"introverted\",\"manic\",\"meditative\",\"nihilistic\",\"patient\",\"petty\",\"qualitative\",\"quantitative\",\"sarcastic\",\"savage\",\"theatrical\"],\"x\":[-0.11386768359143007,0.14298369819382806,0.15469095414922882,0.12948457838344357,-0.15160883245995965,0.15976410270333324,0.11858442860844527,-0.13334793524206692,-0.11891475562809065,-0.13540007399588233,0.13458834306643683,-0.21289276590720774,0.11785015413652974,0.15693892507782742,-0.13676982193279597,-0.12985698896924125,0.12830200863105834,-0.14285060039124733,-0.18269617249888773,0.14429034500972707],\"y\":[1,1,1,1,1,1,1,1,1,1,1,1,1,1,1,1,1,1,1,1],\"type\":\"scatter\",\"xaxis\":\"x\",\"yaxis\":\"y\"},{\"hoverinfo\":\"skip\",\"line\":{\"color\":\"red\",\"width\":1},\"mode\":\"lines\",\"showlegend\":false,\"x\":[-0.21289276590720774,-0.21289276590720774],\"y\":[1.0,1.6],\"type\":\"scatter\",\"xaxis\":\"x\",\"yaxis\":\"y\"},{\"hoverinfo\":\"skip\",\"line\":{\"color\":\"red\",\"width\":1},\"mode\":\"lines\",\"showlegend\":false,\"x\":[-0.18269617249888773,-0.18269617249888773],\"y\":[1.0,0.4],\"type\":\"scatter\",\"xaxis\":\"x\",\"yaxis\":\"y\"},{\"hoverinfo\":\"skip\",\"line\":{\"color\":\"red\",\"width\":1},\"mode\":\"lines\",\"showlegend\":false,\"x\":[-0.15160883245995965,-0.15160883245995965],\"y\":[1.0,1.45],\"type\":\"scatter\",\"xaxis\":\"x\",\"yaxis\":\"y\"},{\"hoverinfo\":\"skip\",\"line\":{\"color\":\"red\",\"width\":1},\"mode\":\"lines\",\"showlegend\":false,\"x\":[-0.14285060039124733,-0.14285060039124733],\"y\":[1.0,0.55],\"type\":\"scatter\",\"xaxis\":\"x\",\"yaxis\":\"y\"},{\"hoverinfo\":\"skip\",\"line\":{\"color\":\"red\",\"width\":1},\"mode\":\"lines\",\"showlegend\":false,\"x\":[-0.13676982193279597,-0.13676982193279597],\"y\":[1.0,1.55],\"type\":\"scatter\",\"xaxis\":\"x\",\"yaxis\":\"y\"},{\"hoverinfo\":\"skip\",\"line\":{\"color\":\"red\",\"width\":1},\"mode\":\"lines\",\"showlegend\":false,\"x\":[-0.13540007399588233,-0.13540007399588233],\"y\":[1.0,0.45],\"type\":\"scatter\",\"xaxis\":\"x\",\"yaxis\":\"y\"},{\"hoverinfo\":\"skip\",\"line\":{\"color\":\"red\",\"width\":1},\"mode\":\"lines\",\"showlegend\":false,\"x\":[-0.13334793524206692,-0.13334793524206692],\"y\":[1.0,1.35],\"type\":\"scatter\",\"xaxis\":\"x\",\"yaxis\":\"y\"},{\"hoverinfo\":\"skip\",\"line\":{\"color\":\"red\",\"width\":1},\"mode\":\"lines\",\"showlegend\":false,\"x\":[-0.12985698896924125,-0.12985698896924125],\"y\":[1.0,0.65],\"type\":\"scatter\",\"xaxis\":\"x\",\"yaxis\":\"y\"},{\"hoverinfo\":\"skip\",\"line\":{\"color\":\"red\",\"width\":1},\"mode\":\"lines\",\"showlegend\":false,\"x\":[-0.11891475562809065,-0.11891475562809065],\"y\":[1.0,1.5],\"type\":\"scatter\",\"xaxis\":\"x\",\"yaxis\":\"y\"},{\"hoverinfo\":\"skip\",\"line\":{\"color\":\"red\",\"width\":1},\"mode\":\"lines\",\"showlegend\":false,\"x\":[-0.11386768359143007,-0.11386768359143007],\"y\":[1.0,0.5],\"type\":\"scatter\",\"xaxis\":\"x\",\"yaxis\":\"y\"},{\"hoverinfo\":\"skip\",\"line\":{\"color\":\"blue\",\"width\":1},\"mode\":\"lines\",\"showlegend\":false,\"x\":[0.11785015413652974,0.11785015413652974],\"y\":[1.0,1.4],\"type\":\"scatter\",\"xaxis\":\"x\",\"yaxis\":\"y\"},{\"hoverinfo\":\"skip\",\"line\":{\"color\":\"blue\",\"width\":1},\"mode\":\"lines\",\"showlegend\":false,\"x\":[0.11858442860844527,0.11858442860844527],\"y\":[1.0,0.6],\"type\":\"scatter\",\"xaxis\":\"x\",\"yaxis\":\"y\"},{\"hoverinfo\":\"skip\",\"line\":{\"color\":\"blue\",\"width\":1},\"mode\":\"lines\",\"showlegend\":false,\"x\":[0.12830200863105834,0.12830200863105834],\"y\":[1.0,1.65],\"type\":\"scatter\",\"xaxis\":\"x\",\"yaxis\":\"y\"},{\"hoverinfo\":\"skip\",\"line\":{\"color\":\"blue\",\"width\":1},\"mode\":\"lines\",\"showlegend\":false,\"x\":[0.12948457838344357,0.12948457838344357],\"y\":[1.0,0.35],\"type\":\"scatter\",\"xaxis\":\"x\",\"yaxis\":\"y\"},{\"hoverinfo\":\"skip\",\"line\":{\"color\":\"blue\",\"width\":1},\"mode\":\"lines\",\"showlegend\":false,\"x\":[0.13458834306643683,0.13458834306643683],\"y\":[1.0,1.3],\"type\":\"scatter\",\"xaxis\":\"x\",\"yaxis\":\"y\"},{\"hoverinfo\":\"skip\",\"line\":{\"color\":\"blue\",\"width\":1},\"mode\":\"lines\",\"showlegend\":false,\"x\":[0.14298369819382806,0.14298369819382806],\"y\":[1.0,0.7],\"type\":\"scatter\",\"xaxis\":\"x\",\"yaxis\":\"y\"},{\"hoverinfo\":\"skip\",\"line\":{\"color\":\"blue\",\"width\":1},\"mode\":\"lines\",\"showlegend\":false,\"x\":[0.14429034500972707,0.14429034500972707],\"y\":[1.0,1.58],\"type\":\"scatter\",\"xaxis\":\"x\",\"yaxis\":\"y\"},{\"hoverinfo\":\"skip\",\"line\":{\"color\":\"blue\",\"width\":1},\"mode\":\"lines\",\"showlegend\":false,\"x\":[0.15469095414922882,0.15469095414922882],\"y\":[1.0,0.42],\"type\":\"scatter\",\"xaxis\":\"x\",\"yaxis\":\"y\"},{\"hoverinfo\":\"skip\",\"line\":{\"color\":\"blue\",\"width\":1},\"mode\":\"lines\",\"showlegend\":false,\"x\":[0.15693892507782742,0.15693892507782742],\"y\":[1.0,1.42],\"type\":\"scatter\",\"xaxis\":\"x\",\"yaxis\":\"y\"},{\"hoverinfo\":\"skip\",\"line\":{\"color\":\"blue\",\"width\":1},\"mode\":\"lines\",\"showlegend\":false,\"x\":[0.15976410270333324,0.15976410270333324],\"y\":[1.0,0.58],\"type\":\"scatter\",\"xaxis\":\"x\",\"yaxis\":\"y\"},{\"marker\":{\"color\":\"steelblue\"},\"nbinsx\":30,\"opacity\":0.7,\"showlegend\":false,\"x\":[0.039408777389437454,0.02423283824344667,-0.0868489083301963,-0.11386768359143007,0.04904940589041914,-0.10121336457269296,-0.016598048343377893,0.0901679177254442,-0.05168802615501574,0.023644112011151085,0.00989134781543583,0.04113415901132873,0.024457167231462972,-0.0009803566729238438,-0.10287427411865936,-0.05456877229139761,0.0008384932167170848,-0.030284837430045463,-0.011935666964673247,-0.07355867517596318,-0.046778948281821095,0.023893330956563524,0.10371260767706592,0.006030842565260477,-0.03581632630353089,0.01685848021423284,0.03316592245102203,-0.014474993837267063,0.06351185913773927,-0.012717089446345094,-0.009021817356225054,0.10956738855183738,-0.04147919787548647,0.0357339667771942,-0.025948209286587007,-0.044895745087164325,0.08184293827459352,-0.07325894103183433,-0.015282566668902967,0.020965697839868472,-0.07921288387618915,0.038100412352636906,-0.04561144760142452,-0.0042994345724881936,-0.05938797412291871,0.02212149134211373,0.028089412837447637,0.02478594497536291,-0.07381283780883013,-0.03960550681369931,0.014331749445133423,-0.10658858040853487,0.14298369819382806,-0.03805450956052201,0.08746545266049997,0.08403581826136931,0.03516891343971273,0.020277407425671384,-0.01602543278753418,0.05981146306309993,0.15469095414922882,0.086859827072597,0.006630304767351074,0.042479432958987436,0.12948457838344357,-0.02120062023426249,0.02177191270836227,0.049396942119394306,0.05610458915303561,-0.10250785514181801,-0.07210173189519897,-0.04046232872091554,-0.01877948183034927,0.061869398135189,0.07156311399189969,0.039414404685834,0.0012842032814296316,-0.15160883245995965,-0.10640464841458118,0.15976410270333324,-0.015771704828900984,-0.06074158218768285,-0.03148068516815203,0.008555488604285543,0.09732684012470928,0.0420673076841299,0.11858442860844527,-0.05369549484047511,-0.05288813036583695,-0.0124181448306358,-0.0067431263794689375,0.05671374659419718,0.010337431737356033,0.0042859005667423965,0.06160901761264479,0.015686883692401423,0.09561182322445143,-0.037149203012024026,-0.05525250095261431,0.037929019281897396,0.10895368662101769,-0.06794320634045095,-0.01735085080211426,-0.010764264945166873,-0.002926225713269551,0.09521755158126899,0.02231740029812312,0.09641414312593215,0.05601814166606489,0.01269257701031986,-0.04925513652690233,-0.13334793524206692,-0.11891475562809065,-0.07051628130514076,0.04137195031568102,-0.07127030720748972,0.04601329858647651,0.004520817877249889,0.04044096404007179,-0.06841143595722256,-0.040024254738943395,0.04407411032713842,-0.043735089399363394,-0.014694166891992053,0.03825556008568453,-0.027332679214137973,-0.013404902232072888,-0.13540007399588233,-0.06430443911348195,-0.09711458164909498,-0.06858751006669063,-0.07624581138597435,0.008702828678248085,-0.017897912168399234,0.13458834306643683,-0.04491702486055064,0.09024169341256855,-0.21289276590720774,0.049806378850299975,0.08346153082950986,0.04328914419992942,-0.011129007315595525,0.019414564933453542,-0.002139765975962517,0.034553702229459124,0.08617536679070646,-0.03665932414020574,-0.012589801712601047,-0.032741978278379866,-0.02715189135963233,-0.004446379116486523,0.003937680565495275,0.11785015413652974,0.012804902907495173,-0.007780644857540483,0.11353747511708752,0.045791930177056496,-0.08066502059244957,-0.05118287320771822,-0.03205890710200238,-0.03486086123662568,0.004203029466317255,0.03701042158442503,-0.08617424479456577,0.15693892507782742,0.04750197350788421,-0.11217337001106131,-0.011070456107323297,0.026306397803665137,-0.13676982193279597,-0.03213880893001655,-0.011087123505639793,-0.03503482815217888,0.08835916733525316,0.08265616434641444,0.07080884053177613,-0.0222061429740295,0.047301063626902735,0.06897365308135782,-0.045778409402149736,0.013709116973703866,-0.12985698896924125,0.12830200863105834,-0.0508626751869342,0.10055129717088326,-0.015312436722271394,-0.02601734486259103,0.028569217496176014,0.0006976199246225539,-0.022445705190395744,0.044537816562200176,-0.05272337430839675,-0.03264588795492343,-0.019394167184527775,-0.014310905899427342,0.015918023432880804,-0.14285060039124733,-0.09703975579946825,-0.07543946058204702,-0.18269617249888773,0.03719830316056629,-0.04953602882343348,-0.013562149982988103,0.057354297158682115,-0.044600746761923174,-0.07266103418934758,0.052188043554778886,-0.03068208445940482,-0.04021229232816437,0.046247110473404136,0.06482875677982039,0.009874606644923959,0.023299684285794316,0.023508300767347477,-0.02587064904656036,-0.026417667699096703,0.10584193233507874,-0.03939954952519059,-0.04024343716940368,0.021968398910991827,0.06576148686327242,-0.0500250634347684,0.14429034500972707,-0.036164651303129555,0.029699025206417252,-0.01047171320476113,-0.0016836249076110808,0.045207562208645025,0.032403297138679614,-0.013336613876055226,-0.06478539604008615,0.03269387208258014,-0.08063119495738129,-0.006591363303123207,0.07700281081420543],\"type\":\"histogram\",\"xaxis\":\"x2\",\"yaxis\":\"y2\"}],                        {\"template\":{\"data\":{\"histogram2dcontour\":[{\"type\":\"histogram2dcontour\",\"colorbar\":{\"outlinewidth\":0,\"ticks\":\"\"},\"colorscale\":[[0.0,\"#0d0887\"],[0.1111111111111111,\"#46039f\"],[0.2222222222222222,\"#7201a8\"],[0.3333333333333333,\"#9c179e\"],[0.4444444444444444,\"#bd3786\"],[0.5555555555555556,\"#d8576b\"],[0.6666666666666666,\"#ed7953\"],[0.7777777777777778,\"#fb9f3a\"],[0.8888888888888888,\"#fdca26\"],[1.0,\"#f0f921\"]]}],\"choropleth\":[{\"type\":\"choropleth\",\"colorbar\":{\"outlinewidth\":0,\"ticks\":\"\"}}],\"histogram2d\":[{\"type\":\"histogram2d\",\"colorbar\":{\"outlinewidth\":0,\"ticks\":\"\"},\"colorscale\":[[0.0,\"#0d0887\"],[0.1111111111111111,\"#46039f\"],[0.2222222222222222,\"#7201a8\"],[0.3333333333333333,\"#9c179e\"],[0.4444444444444444,\"#bd3786\"],[0.5555555555555556,\"#d8576b\"],[0.6666666666666666,\"#ed7953\"],[0.7777777777777778,\"#fb9f3a\"],[0.8888888888888888,\"#fdca26\"],[1.0,\"#f0f921\"]]}],\"heatmap\":[{\"type\":\"heatmap\",\"colorbar\":{\"outlinewidth\":0,\"ticks\":\"\"},\"colorscale\":[[0.0,\"#0d0887\"],[0.1111111111111111,\"#46039f\"],[0.2222222222222222,\"#7201a8\"],[0.3333333333333333,\"#9c179e\"],[0.4444444444444444,\"#bd3786\"],[0.5555555555555556,\"#d8576b\"],[0.6666666666666666,\"#ed7953\"],[0.7777777777777778,\"#fb9f3a\"],[0.8888888888888888,\"#fdca26\"],[1.0,\"#f0f921\"]]}],\"heatmapgl\":[{\"type\":\"heatmapgl\",\"colorbar\":{\"outlinewidth\":0,\"ticks\":\"\"},\"colorscale\":[[0.0,\"#0d0887\"],[0.1111111111111111,\"#46039f\"],[0.2222222222222222,\"#7201a8\"],[0.3333333333333333,\"#9c179e\"],[0.4444444444444444,\"#bd3786\"],[0.5555555555555556,\"#d8576b\"],[0.6666666666666666,\"#ed7953\"],[0.7777777777777778,\"#fb9f3a\"],[0.8888888888888888,\"#fdca26\"],[1.0,\"#f0f921\"]]}],\"contourcarpet\":[{\"type\":\"contourcarpet\",\"colorbar\":{\"outlinewidth\":0,\"ticks\":\"\"}}],\"contour\":[{\"type\":\"contour\",\"colorbar\":{\"outlinewidth\":0,\"ticks\":\"\"},\"colorscale\":[[0.0,\"#0d0887\"],[0.1111111111111111,\"#46039f\"],[0.2222222222222222,\"#7201a8\"],[0.3333333333333333,\"#9c179e\"],[0.4444444444444444,\"#bd3786\"],[0.5555555555555556,\"#d8576b\"],[0.6666666666666666,\"#ed7953\"],[0.7777777777777778,\"#fb9f3a\"],[0.8888888888888888,\"#fdca26\"],[1.0,\"#f0f921\"]]}],\"surface\":[{\"type\":\"surface\",\"colorbar\":{\"outlinewidth\":0,\"ticks\":\"\"},\"colorscale\":[[0.0,\"#0d0887\"],[0.1111111111111111,\"#46039f\"],[0.2222222222222222,\"#7201a8\"],[0.3333333333333333,\"#9c179e\"],[0.4444444444444444,\"#bd3786\"],[0.5555555555555556,\"#d8576b\"],[0.6666666666666666,\"#ed7953\"],[0.7777777777777778,\"#fb9f3a\"],[0.8888888888888888,\"#fdca26\"],[1.0,\"#f0f921\"]]}],\"mesh3d\":[{\"type\":\"mesh3d\",\"colorbar\":{\"outlinewidth\":0,\"ticks\":\"\"}}],\"scatter\":[{\"fillpattern\":{\"fillmode\":\"overlay\",\"size\":10,\"solidity\":0.2},\"type\":\"scatter\"}],\"parcoords\":[{\"type\":\"parcoords\",\"line\":{\"colorbar\":{\"outlinewidth\":0,\"ticks\":\"\"}}}],\"scatterpolargl\":[{\"type\":\"scatterpolargl\",\"marker\":{\"colorbar\":{\"outlinewidth\":0,\"ticks\":\"\"}}}],\"bar\":[{\"error_x\":{\"color\":\"#2a3f5f\"},\"error_y\":{\"color\":\"#2a3f5f\"},\"marker\":{\"line\":{\"color\":\"#E5ECF6\",\"width\":0.5},\"pattern\":{\"fillmode\":\"overlay\",\"size\":10,\"solidity\":0.2}},\"type\":\"bar\"}],\"scattergeo\":[{\"type\":\"scattergeo\",\"marker\":{\"colorbar\":{\"outlinewidth\":0,\"ticks\":\"\"}}}],\"scatterpolar\":[{\"type\":\"scatterpolar\",\"marker\":{\"colorbar\":{\"outlinewidth\":0,\"ticks\":\"\"}}}],\"histogram\":[{\"marker\":{\"pattern\":{\"fillmode\":\"overlay\",\"size\":10,\"solidity\":0.2}},\"type\":\"histogram\"}],\"scattergl\":[{\"type\":\"scattergl\",\"marker\":{\"colorbar\":{\"outlinewidth\":0,\"ticks\":\"\"}}}],\"scatter3d\":[{\"type\":\"scatter3d\",\"line\":{\"colorbar\":{\"outlinewidth\":0,\"ticks\":\"\"}},\"marker\":{\"colorbar\":{\"outlinewidth\":0,\"ticks\":\"\"}}}],\"scattermapbox\":[{\"type\":\"scattermapbox\",\"marker\":{\"colorbar\":{\"outlinewidth\":0,\"ticks\":\"\"}}}],\"scatterternary\":[{\"type\":\"scatterternary\",\"marker\":{\"colorbar\":{\"outlinewidth\":0,\"ticks\":\"\"}}}],\"scattercarpet\":[{\"type\":\"scattercarpet\",\"marker\":{\"colorbar\":{\"outlinewidth\":0,\"ticks\":\"\"}}}],\"carpet\":[{\"aaxis\":{\"endlinecolor\":\"#2a3f5f\",\"gridcolor\":\"white\",\"linecolor\":\"white\",\"minorgridcolor\":\"white\",\"startlinecolor\":\"#2a3f5f\"},\"baxis\":{\"endlinecolor\":\"#2a3f5f\",\"gridcolor\":\"white\",\"linecolor\":\"white\",\"minorgridcolor\":\"white\",\"startlinecolor\":\"#2a3f5f\"},\"type\":\"carpet\"}],\"table\":[{\"cells\":{\"fill\":{\"color\":\"#EBF0F8\"},\"line\":{\"color\":\"white\"}},\"header\":{\"fill\":{\"color\":\"#C8D4E3\"},\"line\":{\"color\":\"white\"}},\"type\":\"table\"}],\"barpolar\":[{\"marker\":{\"line\":{\"color\":\"#E5ECF6\",\"width\":0.5},\"pattern\":{\"fillmode\":\"overlay\",\"size\":10,\"solidity\":0.2}},\"type\":\"barpolar\"}],\"pie\":[{\"automargin\":true,\"type\":\"pie\"}]},\"layout\":{\"autotypenumbers\":\"strict\",\"colorway\":[\"#636efa\",\"#EF553B\",\"#00cc96\",\"#ab63fa\",\"#FFA15A\",\"#19d3f3\",\"#FF6692\",\"#B6E880\",\"#FF97FF\",\"#FECB52\"],\"font\":{\"color\":\"#2a3f5f\"},\"hovermode\":\"closest\",\"hoverlabel\":{\"align\":\"left\"},\"paper_bgcolor\":\"white\",\"plot_bgcolor\":\"#E5ECF6\",\"polar\":{\"bgcolor\":\"#E5ECF6\",\"angularaxis\":{\"gridcolor\":\"white\",\"linecolor\":\"white\",\"ticks\":\"\"},\"radialaxis\":{\"gridcolor\":\"white\",\"linecolor\":\"white\",\"ticks\":\"\"}},\"ternary\":{\"bgcolor\":\"#E5ECF6\",\"aaxis\":{\"gridcolor\":\"white\",\"linecolor\":\"white\",\"ticks\":\"\"},\"baxis\":{\"gridcolor\":\"white\",\"linecolor\":\"white\",\"ticks\":\"\"},\"caxis\":{\"gridcolor\":\"white\",\"linecolor\":\"white\",\"ticks\":\"\"}},\"coloraxis\":{\"colorbar\":{\"outlinewidth\":0,\"ticks\":\"\"}},\"colorscale\":{\"sequential\":[[0.0,\"#0d0887\"],[0.1111111111111111,\"#46039f\"],[0.2222222222222222,\"#7201a8\"],[0.3333333333333333,\"#9c179e\"],[0.4444444444444444,\"#bd3786\"],[0.5555555555555556,\"#d8576b\"],[0.6666666666666666,\"#ed7953\"],[0.7777777777777778,\"#fb9f3a\"],[0.8888888888888888,\"#fdca26\"],[1.0,\"#f0f921\"]],\"sequentialminus\":[[0.0,\"#0d0887\"],[0.1111111111111111,\"#46039f\"],[0.2222222222222222,\"#7201a8\"],[0.3333333333333333,\"#9c179e\"],[0.4444444444444444,\"#bd3786\"],[0.5555555555555556,\"#d8576b\"],[0.6666666666666666,\"#ed7953\"],[0.7777777777777778,\"#fb9f3a\"],[0.8888888888888888,\"#fdca26\"],[1.0,\"#f0f921\"]],\"diverging\":[[0,\"#8e0152\"],[0.1,\"#c51b7d\"],[0.2,\"#de77ae\"],[0.3,\"#f1b6da\"],[0.4,\"#fde0ef\"],[0.5,\"#f7f7f7\"],[0.6,\"#e6f5d0\"],[0.7,\"#b8e186\"],[0.8,\"#7fbc41\"],[0.9,\"#4d9221\"],[1,\"#276419\"]]},\"xaxis\":{\"gridcolor\":\"white\",\"linecolor\":\"white\",\"ticks\":\"\",\"title\":{\"standoff\":15},\"zerolinecolor\":\"white\",\"automargin\":true,\"zerolinewidth\":2},\"yaxis\":{\"gridcolor\":\"white\",\"linecolor\":\"white\",\"ticks\":\"\",\"title\":{\"standoff\":15},\"zerolinecolor\":\"white\",\"automargin\":true,\"zerolinewidth\":2},\"scene\":{\"xaxis\":{\"backgroundcolor\":\"#E5ECF6\",\"gridcolor\":\"white\",\"linecolor\":\"white\",\"showbackground\":true,\"ticks\":\"\",\"zerolinecolor\":\"white\",\"gridwidth\":2},\"yaxis\":{\"backgroundcolor\":\"#E5ECF6\",\"gridcolor\":\"white\",\"linecolor\":\"white\",\"showbackground\":true,\"ticks\":\"\",\"zerolinecolor\":\"white\",\"gridwidth\":2},\"zaxis\":{\"backgroundcolor\":\"#E5ECF6\",\"gridcolor\":\"white\",\"linecolor\":\"white\",\"showbackground\":true,\"ticks\":\"\",\"zerolinecolor\":\"white\",\"gridwidth\":2}},\"shapedefaults\":{\"line\":{\"color\":\"#2a3f5f\"}},\"annotationdefaults\":{\"arrowcolor\":\"#2a3f5f\",\"arrowhead\":0,\"arrowwidth\":1},\"geo\":{\"bgcolor\":\"white\",\"landcolor\":\"#E5ECF6\",\"subunitcolor\":\"white\",\"showland\":true,\"showlakes\":true,\"lakecolor\":\"white\"},\"title\":{\"x\":0.05},\"mapbox\":{\"style\":\"light\"}}},\"xaxis\":{\"anchor\":\"y\",\"domain\":[0.0,1.0],\"range\":[-0.23418204249792854,0.23418204249792854]},\"yaxis\":{\"anchor\":\"x\",\"domain\":[0.4600000000000001,1.0],\"title\":{\"text\":\"\"},\"showticklabels\":false,\"range\":[0.25,1.75]},\"xaxis2\":{\"anchor\":\"y2\",\"domain\":[0.0,1.0],\"title\":{\"text\":\"PC10 Cosine Similarity\"},\"range\":[-0.23418204249792854,0.23418204249792854]},\"yaxis2\":{\"anchor\":\"x2\",\"domain\":[0.0,0.36000000000000004],\"title\":{\"text\":\"Frequency\"}},\"annotations\":[{\"font\":{\"size\":16},\"showarrow\":false,\"text\":\"PC10 Cosine Similarity\",\"x\":0.5,\"xanchor\":\"center\",\"xref\":\"paper\",\"y\":1.0,\"yanchor\":\"bottom\",\"yref\":\"paper\"},{\"font\":{\"size\":16},\"showarrow\":false,\"text\":\"Trait Frequency Distribution\",\"x\":0.5,\"xanchor\":\"center\",\"xref\":\"paper\",\"y\":0.36000000000000004,\"yanchor\":\"bottom\",\"yref\":\"paper\"},{\"bgcolor\":\"rgba(255, 255, 255, 0.9)\",\"bordercolor\":\"red\",\"borderwidth\":1,\"font\":{\"color\":\"red\",\"size\":10},\"showarrow\":false,\"text\":\"meditative\",\"x\":-0.21289276590720774,\"xref\":\"x\",\"y\":1.6,\"yref\":\"y\"},{\"bgcolor\":\"rgba(255, 255, 255, 0.9)\",\"bordercolor\":\"red\",\"borderwidth\":1,\"font\":{\"color\":\"red\",\"size\":10},\"showarrow\":false,\"text\":\"savage\",\"x\":-0.18269617249888773,\"xref\":\"x\",\"y\":0.4,\"yref\":\"y\"},{\"bgcolor\":\"rgba(255, 255, 255, 0.9)\",\"bordercolor\":\"red\",\"borderwidth\":1,\"font\":{\"color\":\"red\",\"size\":10},\"showarrow\":false,\"text\":\"emotional\",\"x\":-0.15160883245995965,\"xref\":\"x\",\"y\":1.45,\"yref\":\"y\"},{\"bgcolor\":\"rgba(255, 255, 255, 0.9)\",\"bordercolor\":\"red\",\"borderwidth\":1,\"font\":{\"color\":\"red\",\"size\":10},\"showarrow\":false,\"text\":\"sarcastic\",\"x\":-0.14285060039124733,\"xref\":\"x\",\"y\":0.55,\"yref\":\"y\"},{\"bgcolor\":\"rgba(255, 255, 255, 0.9)\",\"bordercolor\":\"red\",\"borderwidth\":1,\"font\":{\"color\":\"red\",\"size\":10},\"showarrow\":false,\"text\":\"petty\",\"x\":-0.13676982193279597,\"xref\":\"x\",\"y\":1.55,\"yref\":\"y\"},{\"bgcolor\":\"rgba(255, 255, 255, 0.9)\",\"bordercolor\":\"red\",\"borderwidth\":1,\"font\":{\"color\":\"red\",\"size\":10},\"showarrow\":false,\"text\":\"introverted\",\"x\":-0.13540007399588233,\"xref\":\"x\",\"y\":0.45,\"yref\":\"y\"},{\"bgcolor\":\"rgba(255, 255, 255, 0.9)\",\"bordercolor\":\"red\",\"borderwidth\":1,\"font\":{\"color\":\"red\",\"size\":10},\"showarrow\":false,\"text\":\"hostile\",\"x\":-0.13334793524206692,\"xref\":\"x\",\"y\":1.35,\"yref\":\"y\"},{\"bgcolor\":\"rgba(255, 255, 255, 0.9)\",\"bordercolor\":\"red\",\"borderwidth\":1,\"font\":{\"color\":\"red\",\"size\":10},\"showarrow\":false,\"text\":\"qualitative\",\"x\":-0.12985698896924125,\"xref\":\"x\",\"y\":0.65,\"yref\":\"y\"},{\"bgcolor\":\"rgba(255, 255, 255, 0.9)\",\"bordercolor\":\"red\",\"borderwidth\":1,\"font\":{\"color\":\"red\",\"size\":10},\"showarrow\":false,\"text\":\"humanistic\",\"x\":-0.11891475562809065,\"xref\":\"x\",\"y\":1.5,\"yref\":\"y\"},{\"bgcolor\":\"rgba(255, 255, 255, 0.9)\",\"bordercolor\":\"red\",\"borderwidth\":1,\"font\":{\"color\":\"red\",\"size\":10},\"showarrow\":false,\"text\":\"accessible\",\"x\":-0.11386768359143007,\"xref\":\"x\",\"y\":0.5,\"yref\":\"y\"},{\"bgcolor\":\"rgba(255, 255, 255, 0.9)\",\"bordercolor\":\"blue\",\"borderwidth\":1,\"font\":{\"color\":\"blue\",\"size\":10},\"showarrow\":false,\"text\":\"nihilistic\",\"x\":0.11785015413652974,\"xref\":\"x\",\"y\":1.4,\"yref\":\"y\"},{\"bgcolor\":\"rgba(255, 255, 255, 0.9)\",\"bordercolor\":\"blue\",\"borderwidth\":1,\"font\":{\"color\":\"blue\",\"size\":10},\"showarrow\":false,\"text\":\"ethereal\",\"x\":0.11858442860844527,\"xref\":\"x\",\"y\":0.6,\"yref\":\"y\"},{\"bgcolor\":\"rgba(255, 255, 255, 0.9)\",\"bordercolor\":\"blue\",\"borderwidth\":1,\"font\":{\"color\":\"blue\",\"size\":10},\"showarrow\":false,\"text\":\"quantitative\",\"x\":0.12830200863105834,\"xref\":\"x\",\"y\":1.65,\"yref\":\"y\"},{\"bgcolor\":\"rgba(255, 255, 255, 0.9)\",\"bordercolor\":\"blue\",\"borderwidth\":1,\"font\":{\"color\":\"blue\",\"size\":10},\"showarrow\":false,\"text\":\"dispassionate\",\"x\":0.12948457838344357,\"xref\":\"x\",\"y\":0.35,\"yref\":\"y\"},{\"bgcolor\":\"rgba(255, 255, 255, 0.9)\",\"bordercolor\":\"blue\",\"borderwidth\":1,\"font\":{\"color\":\"blue\",\"size\":10},\"showarrow\":false,\"text\":\"manic\",\"x\":0.13458834306643683,\"xref\":\"x\",\"y\":1.3,\"yref\":\"y\"},{\"bgcolor\":\"rgba(255, 255, 255, 0.9)\",\"bordercolor\":\"blue\",\"borderwidth\":1,\"font\":{\"color\":\"blue\",\"size\":10},\"showarrow\":false,\"text\":\"cryptic\",\"x\":0.14298369819382806,\"xref\":\"x\",\"y\":0.7,\"yref\":\"y\"},{\"bgcolor\":\"rgba(255, 255, 255, 0.9)\",\"bordercolor\":\"blue\",\"borderwidth\":1,\"font\":{\"color\":\"blue\",\"size\":10},\"showarrow\":false,\"text\":\"theatrical\",\"x\":0.14429034500972707,\"xref\":\"x\",\"y\":1.58,\"yref\":\"y\"},{\"bgcolor\":\"rgba(255, 255, 255, 0.9)\",\"bordercolor\":\"blue\",\"borderwidth\":1,\"font\":{\"color\":\"blue\",\"size\":10},\"showarrow\":false,\"text\":\"detached\",\"x\":0.15469095414922882,\"xref\":\"x\",\"y\":0.42,\"yref\":\"y\"},{\"bgcolor\":\"rgba(255, 255, 255, 0.9)\",\"bordercolor\":\"blue\",\"borderwidth\":1,\"font\":{\"color\":\"blue\",\"size\":10},\"showarrow\":false,\"text\":\"patient\",\"x\":0.15693892507782742,\"xref\":\"x\",\"y\":1.42,\"yref\":\"y\"},{\"bgcolor\":\"rgba(255, 255, 255, 0.9)\",\"bordercolor\":\"blue\",\"borderwidth\":1,\"font\":{\"color\":\"blue\",\"size\":10},\"showarrow\":false,\"text\":\"enigmatic\",\"x\":0.15976410270333324,\"xref\":\"x\",\"y\":0.58,\"yref\":\"y\"}],\"shapes\":[{\"line\":{\"color\":\"gray\",\"dash\":\"solid\",\"width\":1},\"opacity\":0.7,\"type\":\"line\",\"x0\":0,\"x1\":0,\"xref\":\"x\",\"y0\":0,\"y1\":1,\"yref\":\"y domain\"}],\"title\":{\"subtitle\":{\"text\":\"Gemma 2 27B, Layer 34\"},\"font\":{\"size\":16},\"text\":\"PCA on Trait Vectors from Mean Response Activations\",\"x\":0.5},\"height\":700,\"showlegend\":false},                        {\"responsive\": true}                    ).then(function(){\n",
       "                            \n",
       "var gd = document.getElementById('d76a31e9-d87b-4be0-b6ae-00d1566b6473');\n",
       "var x = new MutationObserver(function (mutations, observer) {{\n",
       "        var display = window.getComputedStyle(gd).display;\n",
       "        if (!display || display === 'none') {{\n",
       "            console.log([gd, 'removed!']);\n",
       "            Plotly.purge(gd);\n",
       "            observer.disconnect();\n",
       "        }}\n",
       "}});\n",
       "\n",
       "// Listen for the removal of the full notebook cells\n",
       "var notebookContainer = gd.closest('#notebook-container');\n",
       "if (notebookContainer) {{\n",
       "    x.observe(notebookContainer, {childList: true});\n",
       "}}\n",
       "\n",
       "// Listen for the clearing of the current output cell\n",
       "var outputEl = gd.closest('.output');\n",
       "if (outputEl) {{\n",
       "    x.observe(outputEl, {childList: true});\n",
       "}}\n",
       "\n",
       "                        })                };                });            </script>        </div>"
      ]
     },
     "metadata": {},
     "output_type": "display_data"
    }
   ],
   "source": [
    "component = 9\n",
    "fig = plot_pca_cosine_similarity(\n",
    "        pca_transformed=pca_transformed,\n",
    "        trait_labels=filtered_pos_neg_50_traits,\n",
    "        pc_component=component,\n",
    "        layer=layer,\n",
    "        color_threshold=0.0  # Adjust this threshold as needed\n",
    "    )\n",
    "fig.show()\n",
    "fig.write_html(f\"./results/pc{component+1}.html\")"
   ]
  },
  {
   "cell_type": "code",
   "execution_count": 26,
   "id": "12724638",
   "metadata": {},
   "outputs": [
    {
     "data": {
      "application/vnd.plotly.v1+json": {
       "config": {
        "plotlyServerURL": "https://plot.ly"
       },
       "data": [
        {
         "hovertemplate": "<b>%{text}</b><br>PC1: %{x:.3f}<br>PC2: %{y:.3f}<br>PC3: %{z:.3f}<br><extra></extra>",
         "marker": {
          "color": [
           "blue",
           "blue",
           "blue",
           "blue",
           "blue",
           "blue",
           "blue",
           "blue",
           "blue",
           "blue",
           "blue",
           "blue",
           "blue",
           "blue",
           "blue",
           "blue",
           "blue",
           "blue",
           "blue",
           "blue",
           "blue",
           "blue",
           "blue",
           "blue",
           "blue",
           "blue",
           "blue",
           "blue",
           "blue",
           "blue",
           "blue",
           "blue",
           "blue",
           "blue",
           "blue",
           "blue",
           "blue",
           "blue",
           "blue",
           "blue",
           "blue",
           "blue",
           "blue",
           "blue",
           "blue",
           "blue",
           "blue",
           "blue",
           "blue",
           "blue",
           "blue",
           "blue",
           "blue",
           "blue",
           "blue",
           "blue",
           "blue",
           "blue",
           "blue",
           "blue",
           "blue",
           "blue",
           "blue",
           "blue",
           "blue",
           "blue",
           "blue",
           "blue",
           "blue",
           "blue",
           "blue",
           "blue",
           "blue",
           "blue",
           "blue",
           "blue",
           "blue",
           "blue",
           "blue",
           "blue",
           "blue",
           "blue",
           "blue",
           "blue",
           "blue",
           "blue",
           "blue",
           "blue",
           "blue",
           "blue",
           "blue",
           "blue",
           "blue",
           "blue",
           "blue",
           "blue",
           "blue",
           "blue",
           "blue",
           "blue",
           "blue",
           "blue",
           "blue",
           "blue",
           "blue",
           "blue",
           "blue",
           "blue",
           "blue",
           "blue",
           "blue",
           "blue",
           "blue",
           "blue",
           "blue",
           "blue",
           "blue",
           "blue",
           "blue",
           "blue",
           "blue",
           "blue",
           "blue",
           "blue",
           "blue",
           "blue",
           "blue",
           "blue",
           "blue",
           "blue",
           "blue",
           "blue",
           "blue",
           "blue",
           "blue",
           "blue",
           "blue",
           "blue",
           "blue",
           "blue",
           "blue",
           "blue",
           "blue",
           "blue",
           "blue",
           "blue",
           "blue",
           "blue",
           "blue",
           "blue",
           "blue",
           "blue",
           "blue",
           "blue",
           "blue",
           "blue",
           "blue",
           "blue",
           "blue",
           "blue",
           "blue",
           "blue",
           "blue",
           "blue",
           "blue",
           "blue",
           "blue",
           "blue",
           "blue",
           "blue",
           "blue",
           "blue",
           "blue",
           "blue",
           "blue",
           "blue",
           "blue",
           "blue",
           "blue",
           "blue",
           "blue",
           "blue",
           "blue",
           "blue",
           "blue",
           "blue",
           "blue",
           "blue",
           "blue",
           "blue",
           "blue",
           "blue",
           "blue",
           "blue",
           "blue",
           "blue",
           "blue",
           "blue",
           "blue",
           "blue",
           "blue",
           "blue",
           "blue",
           "blue",
           "blue",
           "blue",
           "blue",
           "blue",
           "blue",
           "blue",
           "blue",
           "blue",
           "blue",
           "blue",
           "blue",
           "blue",
           "blue",
           "blue",
           "blue",
           "blue",
           "blue",
           "blue",
           "blue",
           "blue",
           "blue",
           "blue",
           "blue",
           "blue",
           "blue",
           "blue",
           "blue",
           "blue",
           "blue",
           "blue",
           "blue"
          ],
          "line": {
           "color": "black",
           "width": 2
          },
          "size": 3
         },
         "mode": "markers+text",
         "text": [
          "absolutist",
          "adaptable",
          "abstract",
          "accessible",
          "accommodating",
          "acerbic",
          "adventurous",
          "agreeable",
          "altruistic",
          "analytical",
          "animated",
          "anthropocentric",
          "anxious",
          "arrogant",
          "artistic",
          "ascetic",
          "assertive",
          "avoidant",
          "benevolent",
          "big_picture",
          "bitter",
          "blunt",
          "bombastic",
          "calculating",
          "callous",
          "calm",
          "casual",
          "cautious",
          "challenging",
          "chaotic",
          "charismatic",
          "chill",
          "circumspect",
          "closure_seeking",
          "collaborative",
          "collectivistic",
          "competitive",
          "conceptual",
          "conciliatory",
          "concise",
          "condescending",
          "confident",
          "confrontational",
          "conscientious",
          "constructivist",
          "contemporary",
          "contrarian",
          "convergent",
          "cosmopolitan",
          "creative",
          "critical",
          "cruel",
          "cryptic",
          "curious",
          "cynical",
          "data_driven",
          "decisive",
          "deconstructionist",
          "deontological",
          "descriptive",
          "detached",
          "deterministic",
          "diplomatic",
          "disorganized",
          "dispassionate",
          "divergent",
          "dogmatic",
          "dominant",
          "dramatic",
          "earnest",
          "eclectic",
          "edgy",
          "educational",
          "efficient",
          "effusive",
          "elitist",
          "eloquent",
          "emotional",
          "empathetic",
          "enigmatic",
          "entertaining",
          "environmental",
          "epicurean",
          "erudite",
          "esoteric",
          "essentialist",
          "ethereal",
          "evil",
          "existentialist",
          "experiential",
          "exploratory",
          "extroverted",
          "factual",
          "fatalistic",
          "flexible",
          "flippant",
          "flirty",
          "forgiving",
          "formal",
          "formalist",
          "fundamentalist",
          "futuristic",
          "generalist",
          "generous",
          "goofy",
          "grandiose",
          "gregarious",
          "grounded",
          "hedonistic",
          "historical",
          "holistic",
          "hostile",
          "humanistic",
          "humble",
          "iconoclastic",
          "idealistic",
          "impatient",
          "improvisational",
          "impulsive",
          "inclusive",
          "independent",
          "individualistic",
          "innovative",
          "inquisitive",
          "inspirational",
          "interdisciplinary",
          "introspective",
          "introverted",
          "intuitive",
          "ironic",
          "irreverent",
          "judgmental",
          "libertarian",
          "literal",
          "manic",
          "manipulative",
          "materialist",
          "meditative",
          "melancholic",
          "melodramatic",
          "mercurial",
          "metaphorical",
          "methodical",
          "meticulous",
          "militant",
          "misanthropic",
          "mischievous",
          "moderate",
          "mystical",
          "naive",
          "narrative",
          "neurotic",
          "nihilistic",
          "nonchalant",
          "nostalgic",
          "nurturing",
          "obsessive",
          "open_ended",
          "optimistic",
          "pacifist",
          "paradoxical",
          "paranoid",
          "passionate",
          "passive_aggressive",
          "patient",
          "pedantic",
          "pensive",
          "perfectionist",
          "pessimistic",
          "petty",
          "philosophical",
          "playful",
          "pluralist",
          "poetic",
          "practical",
          "prescriptive",
          "principled",
          "proactive",
          "problem_solving",
          "progressive",
          "provocative",
          "qualitative",
          "quantitative",
          "radical",
          "rationalist",
          "reactive",
          "rebellious",
          "reductionist",
          "regulatory",
          "reserved",
          "resilient",
          "reverent",
          "rhetorical",
          "risk_taking",
          "ritualistic",
          "romantic",
          "sarcastic",
          "sardonic",
          "sassy",
          "savage",
          "secular",
          "serene",
          "serious",
          "skeptical",
          "socratic",
          "solemn",
          "specialized",
          "speculative",
          "spiritual",
          "spontaneous",
          "stoic",
          "strategic",
          "stream_of_consciousness",
          "structuralist",
          "submissive",
          "subversive",
          "supportive",
          "sycophantic",
          "systems_thinker",
          "tactful",
          "technical",
          "temperamental",
          "theatrical",
          "theoretical",
          "traditional",
          "understated",
          "universalist",
          "urgent",
          "utilitarian",
          "verbose",
          "visceral",
          "whimsical",
          "witty",
          "wry",
          "zealous"
         ],
         "textfont": {
          "size": 6
         },
         "textposition": "top center",
         "type": "scatter3d",
         "x": [
          3.113547274548199,
          7.7598882636113995,
          8.937586736882114,
          -0.9627363469873884,
          -14.061238926013072,
          -30.824836787086298,
          -19.812891746541432,
          50.57522477899989,
          24.74225572330905,
          29.58922253401651,
          -39.673539338269805,
          7.87185545887743,
          -29.194053854611766,
          -17.469357904959985,
          -20.877567107800417,
          22.07482947517674,
          -10.983173242857156,
          13.670858485703945,
          33.835424610826834,
          12.0365259044561,
          -39.0937382401217,
          -9.326303988665712,
          -23.26961882477314,
          28.164416040821056,
          -14.505214291499785,
          66.44191053808316,
          -38.159865732246715,
          28.86995994167087,
          -8.001508716742663,
          -0.07487336463832754,
          -35.48887331515521,
          27.614578346792538,
          31.010820402151396,
          2.931239120698813,
          21.55123750810285,
          18.983464479692014,
          -25.18868093352793,
          8.92224573351374,
          46.131196139939846,
          7.756566719458002,
          -9.148302110907675,
          -3.251194591026395,
          -8.888261698042697,
          62.31944057315216,
          3.1623268566353895,
          5.8126441762540635,
          -6.873429000763887,
          16.497028039137792,
          21.003179439389204,
          -10.11159205652641,
          -3.1898128342972747,
          -17.087594342901717,
          -24.93947634105456,
          11.40214223606841,
          -7.624305558634912,
          16.08279946877084,
          4.830269589462499,
          -5.262710137499746,
          9.045742864316049,
          25.679950776230267,
          32.23455694305526,
          -2.470347750951124,
          45.16435444770845,
          -29.081191106419944,
          38.85212726399716,
          3.8292918855474625,
          -12.402771018549032,
          -0.5132628902770568,
          -34.4735323281894,
          38.99827458144893,
          -2.605913418741769,
          -41.96779639832259,
          26.409533268581583,
          6.328601666554441,
          -52.937306358952426,
          -7.704540047536277,
          -5.531313645085994,
          -22.47230071875211,
          2.7455105594222258,
          -30.684793752377388,
          -29.918652991275728,
          19.613156211884018,
          -6.625271733019078,
          21.338994780383022,
          3.5669049638665906,
          10.808580361912252,
          -12.570649966996196,
          -24.61412035419926,
          -0.3452714117243661,
          -5.891621636486534,
          8.914857614880239,
          -20.40553757117756,
          35.836155728546856,
          4.509644419238142,
          21.691204337966933,
          -48.034451527339506,
          -39.190191038823095,
          12.540594890907679,
          56.03445658577899,
          30.66293924896971,
          0.2687352789670247,
          -2.183967427965751,
          7.692673359284734,
          19.32470853242589,
          -36.421645785015855,
          -25.16964718862631,
          -21.159624958982448,
          21.934043848056607,
          -28.52731331143379,
          -1.3730200975836446,
          9.384563898857484,
          -45.70172541939426,
          14.14550778713299,
          13.481599904922177,
          -22.225911279786263,
          6.769663988985359,
          -32.574564459979634,
          -3.81771057913439,
          -30.10490414445486,
          9.718473643148084,
          16.65921628961966,
          -10.84577051771121,
          -18.200332269625054,
          -0.8347431837271501,
          24.49766277509167,
          5.592626834954407,
          3.7808357529405963,
          49.755468518087966,
          1.6336333757209245,
          -32.74108024170205,
          -44.37176042448315,
          -27.019971441829068,
          -0.2503531405611914,
          12.459880697844376,
          -53.251649098268615,
          -11.78978877746768,
          13.361648064757047,
          46.417156479396844,
          -9.938035433082801,
          -46.38345349983775,
          -42.56709001592064,
          -20.637354356112205,
          49.99319038966969,
          33.74010947408742,
          -27.80856469542657,
          -29.496213879330952,
          -29.064350191965186,
          48.91692844911296,
          -11.122901164544844,
          -6.104516725973935,
          -20.694347922645854,
          -38.21028903189893,
          -10.47401348692588,
          -33.694500474416635,
          5.254100065818351,
          40.44959764563831,
          -12.095017400306745,
          7.556247415107377,
          18.00683393975498,
          9.007303361670727,
          -4.993172002764162,
          -25.957428782681504,
          -44.51144828421129,
          -19.06320765067406,
          39.92631547283483,
          19.144393921909067,
          24.32549388902007,
          27.504126586642148,
          -4.94625715294132,
          -23.0167221817764,
          -10.508194211935622,
          -30.771499241133544,
          15.064941821712079,
          -27.917773056669162,
          1.8824933053403428,
          10.030330139898565,
          15.167305049589261,
          12.317717203645348,
          12.231636915534102,
          -5.620500142590674,
          -12.930059453029616,
          -7.031437621666087,
          19.11374731038477,
          -11.282454194673589,
          15.885605409710905,
          -8.709980184815295,
          -18.31294252093826,
          15.56076120766098,
          29.68956621031332,
          40.20656936846285,
          41.403637569404644,
          29.096301226294173,
          -26.253809052630576,
          -13.305402778128702,
          33.50086339805723,
          -37.175161216779735,
          -28.04796970642001,
          -33.94743770981969,
          -45.890386611646136,
          -38.57920248966352,
          12.621852198711897,
          58.23418352820885,
          58.15278297969836,
          13.503541814224718,
          5.672004474432678,
          55.84550753743865,
          16.836549529861113,
          -6.2709323584959815,
          -12.514678232938781,
          -37.62005061124272,
          41.72411124929082,
          35.90054226742628,
          -15.327358415655512,
          30.26980953224478,
          5.521812818883023,
          -23.11688144718425,
          27.667594104489645,
          -10.814473446387407,
          9.607268206375977,
          41.0541290605741,
          27.609184130042216,
          -48.00731149253178,
          -39.08264591065542,
          10.233643835089609,
          34.727522608694855,
          36.80966176693721,
          7.166375035744647,
          -6.49481973686677,
          8.872838158816528,
          5.464184851116526,
          -33.080943335908486,
          -27.898094291849315,
          -37.95038839822401,
          -26.23005224530969,
          -40.026636266859306
         ],
         "y": [
          -9.43680495752296,
          28.40829380371273,
          0.010526718657050889,
          25.86589165722937,
          28.03041013146288,
          -44.675780224108685,
          12.217839952275979,
          40.278163934716616,
          13.695392357474946,
          -10.29608906476909,
          59.97273198350484,
          -8.149188692965037,
          -2.6059205180440026,
          -30.989154627951727,
          29.89640576679329,
          -6.363285979452144,
          -7.550273072092804,
          -1.1478970552428036,
          34.24836836448383,
          -1.0606375848043061,
          -20.13863883308192,
          -39.208954464716065,
          -19.146547472537975,
          3.799656863960789,
          -70.98513499688968,
          11.542482501437883,
          36.814014391591314,
          -13.153753851463538,
          -9.978413068906566,
          2.1752612491526016,
          51.17304646244018,
          58.89422503739147,
          23.782782269302306,
          -18.849891459966862,
          8.83231116106091,
          7.889122156805049,
          -34.584197802767214,
          -1.9777556248203063,
          21.41434649746027,
          -25.454671793762834,
          -13.819318976615005,
          -24.965338535908813,
          -35.74782812734588,
          -6.779150890058507,
          10.564381369797811,
          -0.09364746279068617,
          -7.774569923658345,
          -15.663539893368705,
          1.2819493243372988,
          12.528259654935427,
          -4.535531533393615,
          -60.37911151960852,
          -1.094712353206006,
          24.310300713063842,
          -22.96322610361546,
          -20.376009705304984,
          -26.799544549174,
          3.06977959331147,
          -2.6129978149713637,
          -11.027403948030548,
          -49.368469004802776,
          -17.972068399317276,
          13.065415258312733,
          8.075402958588686,
          -38.23712629471574,
          25.074147008701566,
          -16.502278007128435,
          -16.622257613366564,
          18.583009843971936,
          27.100143772134462,
          12.48558447781947,
          -26.009555925839553,
          13.716453123883387,
          -12.124092455211837,
          41.59916777574303,
          -22.45435737363204,
          20.008462524714894,
          44.88117336611473,
          50.62206979433582,
          5.790972934468552,
          30.243032784877755,
          -0.28702997714454354,
          6.020956186466718,
          -23.34429704458863,
          -20.716165691685518,
          -17.73119101229141,
          6.637469573627034,
          -12.378940683097074,
          11.459830475997519,
          10.824957538086602,
          35.42962552056802,
          20.43759347046284,
          -6.723207113938945,
          -9.36265661013927,
          25.03097482399248,
          -7.60141651818193,
          26.802666950755732,
          18.585011112382663,
          -36.66462755295894,
          -27.597372389714668,
          -16.936238557755512,
          3.3343954961917466,
          3.9695139575409324,
          34.826257806266725,
          6.775643721441926,
          -6.412742348880005,
          40.19269850536116,
          -12.076622421798815,
          4.169780898180102,
          -1.6140444471768571,
          6.3322692529792155,
          -45.870609663462204,
          15.974986914025767,
          13.922673856656633,
          -10.493011013741546,
          2.5534117544415937,
          -23.903682362115273,
          9.870600852621411,
          -13.386094960649134,
          8.207543745551433,
          0.11822146457308849,
          -5.843778324751256,
          4.054537422613197,
          18.969331223040626,
          27.99551337220353,
          4.208384155056191,
          21.06100590396019,
          -31.562587970778495,
          11.854215744890954,
          -9.235024392367453,
          -7.089540378308247,
          -29.037033908957667,
          -4.287463406057345,
          -22.926046272235688,
          10.538685139207104,
          -8.090926455249212,
          -16.778244969138054,
          27.008257342050573,
          -28.861750726526264,
          18.079065576878076,
          -2.50009754012166,
          27.122861813024254,
          -26.933998096410964,
          -16.372563123425124,
          -20.115859479880474,
          -25.279675501097934,
          -4.148851169001142,
          11.30651710805524,
          15.460028074093888,
          19.53935175636873,
          20.490710878380614,
          -1.7159420952362763,
          -29.094937059522195,
          -24.41636151768418,
          0.81645693605087,
          76.30462764599167,
          -11.434066942970802,
          32.57662185757625,
          19.038956739636216,
          4.253426652879455,
          11.263900143940075,
          -5.04799605908367,
          25.51951825282431,
          -22.81710740066709,
          39.27615871848175,
          -14.695814669100125,
          13.494725107839649,
          -21.468491828772773,
          -14.336199807332086,
          -17.238598817411614,
          16.629981785555998,
          23.79784837629746,
          4.272411247618821,
          33.78425531302988,
          1.2548687328096635,
          -28.457497431021885,
          -6.189400632070827,
          22.509656508313956,
          0.33290954887490243,
          2.8048435637182445,
          -4.70766163204328,
          17.3653562368795,
          -25.661634029374948,
          -6.042201389313246,
          -21.30299047801098,
          1.0270755775988893,
          2.0852484090472814,
          -8.522644768773658,
          -11.899233149602791,
          -32.460888229505606,
          7.248015918750416,
          -0.9318571816055553,
          17.802885967342355,
          5.173579176985249,
          -18.07487824248876,
          30.85593956047151,
          -35.79458365486026,
          -29.123437019773093,
          -26.18238810462972,
          -51.612789191126254,
          -11.963778001226778,
          21.37994366824478,
          -34.10021399242028,
          -12.8972064443672,
          5.773480995496062,
          -18.152439391237692,
          -21.507333250686468,
          11.594248055125556,
          20.29444303351123,
          18.378426079682782,
          -34.5091084648434,
          14.449411559929022,
          19.42800236848255,
          -19.366263529807142,
          3.984493002614186,
          0.5219220457976441,
          63.77128248021978,
          4.353170497602205,
          6.79174069367352,
          31.564126253924666,
          -27.24425405481936,
          -0.8779970556489758,
          18.149398183422356,
          -8.748987923842423,
          -5.412247301004009,
          -14.302624459311248,
          -4.593291185429081,
          -22.39471278193779,
          -5.539972007132819,
          13.648562447884068,
          -1.368139239212527,
          22.63650505680117,
          18.243579896796486,
          -33.15483204099194,
          11.64298887071538
         ],
         "z": [
          5.28664321505519,
          11.757573671869112,
          -9.451735668659992,
          40.96780386219053,
          20.36716369703442,
          -15.206038551431341,
          2.4396870755369005,
          13.302125440663687,
          5.559647434174517,
          -12.168542124742968,
          -13.24388257466181,
          11.629223503322528,
          25.291799855571423,
          -10.87906191677415,
          -17.610544530296043,
          0.0887419919219216,
          -2.1250653874869703,
          23.58524892543403,
          13.030047986277747,
          -1.5884379773279473,
          -5.30277507585801,
          11.219646854112579,
          -54.953205180982685,
          -20.496667736909046,
          9.234393193933558,
          14.03988070037825,
          54.24816217560938,
          4.722921728905341,
          -12.32158256813635,
          10.122774928765253,
          -33.5308724065282,
          36.095905592232306,
          2.2443726318523445,
          8.544296270883436,
          17.999761918129593,
          5.006435911576805,
          -7.779766445636458,
          -5.6299520889458154,
          16.403225512479636,
          28.528901041507268,
          -3.5591139853274574,
          -4.438223874259155,
          -4.945113986649781,
          -28.510537291079846,
          3.641451352346361,
          26.066006368817376,
          -8.53669725369796,
          10.43357095047849,
          -9.842799102007287,
          -1.4193434995340524,
          -3.4386351532235504,
          2.857801922398852,
          -43.10754149911885,
          -27.76616400502437,
          6.971861460541735,
          7.80931567061046,
          4.079040339937441,
          -3.5387751594374395,
          9.948135453381736,
          15.150373227992096,
          3.0336447166810983,
          -3.0030088703673226,
          12.931539044800562,
          21.422879403562956,
          6.7278145194176835,
          -6.123796270603788,
          4.632516108848149,
          -0.6257286582114246,
          -34.70921844301318,
          -26.8747272048236,
          -5.060379103279057,
          -3.1866930745431765,
          -17.648864615427687,
          24.136633413394563,
          0.7486188162557257,
          -17.140489088978835,
          -63.85008360379092,
          9.509168548543446,
          12.945977180615468,
          -34.679052681080584,
          5.6399428310030135,
          -1.712217302221368,
          -22.55257429491109,
          -42.45803024088004,
          -38.11170537979073,
          -0.6454790838074229,
          -28.752966726720242,
          11.609574573507672,
          12.813929277265139,
          23.279388145671977,
          -1.276558259883844,
          17.695109042843026,
          18.78930048325371,
          -7.283377671504246,
          24.321863390561955,
          52.307133102121156,
          -19.190570763826276,
          17.8621305100646,
          -34.15221673968033,
          -10.158442626857644,
          2.5421992357851284,
          4.733982943735052,
          6.9668745429829935,
          -22.798257576721884,
          18.423393953195426,
          -39.84444935964181,
          26.451391656971733,
          42.63322435220955,
          15.629989101096594,
          -1.5754068326238888,
          -8.700699575834834,
          5.159587683068713,
          4.977005304253827,
          29.81599882507001,
          -3.234548591441092,
          -3.8344339457785317,
          37.007902018734896,
          13.23779805020937,
          40.14582414806633,
          4.48229103570254,
          -3.6507868453263947,
          4.247333830916009,
          4.4434387741156,
          9.318143886662066,
          -2.6736462204313227,
          8.13612722142925,
          -7.987787063889537,
          -35.437901133748895,
          3.801615095003479,
          -6.788574173177723,
          22.3468530265992,
          -5.407521284485199,
          1.9359520728242499,
          27.061854018439437,
          8.098613213390093,
          10.869593304881684,
          18.539943881552833,
          -35.048283858259204,
          -13.55471335090103,
          -40.38004914134919,
          8.49906328923141,
          -20.628457634124334,
          6.76164150585644,
          -25.220020195773937,
          -0.20368781358675841,
          -7.502282434150907,
          -5.478525631816451,
          16.018150403926974,
          -15.817453388807085,
          44.034511483003214,
          -6.180763700151071,
          16.460170277191974,
          -0.2737248481544586,
          37.45270425036219,
          -5.592186434429062,
          -10.034570792902679,
          -9.115508317600092,
          23.604043258346284,
          20.451754226406678,
          7.463721663553352,
          -12.130487471992122,
          7.722076969317946,
          -19.00703952615915,
          1.2640563757857335,
          15.790479344739364,
          -16.322942634432916,
          -34.98923127444003,
          -23.631305705010845,
          6.956592782763645,
          -15.20846018966794,
          -36.10292360021738,
          14.73093543273467,
          17.152555581426135,
          -27.532739211487872,
          33.16069248903373,
          -3.9477778011980837,
          8.381783954936155,
          -15.577713874427,
          -6.2010969626603325,
          14.222095568201539,
          -8.45425789665507,
          -6.951919276152388,
          8.196708601306792,
          4.829030190831135,
          13.755875030997355,
          32.89308951620591,
          4.560321083427345,
          25.963901154467276,
          9.042360087120695,
          24.533063085474378,
          -0.8026517314641973,
          -13.616597834662619,
          -28.760728486759483,
          8.85851976339612,
          -38.12237981101005,
          -26.533878458906383,
          -10.758258616375143,
          -5.5259986998107715,
          -0.10565717212484997,
          2.1867563503305982,
          20.635980708341663,
          -1.745840280910383,
          -27.4174866797885,
          -9.04949183346388,
          14.223613214798482,
          -39.179629274157755,
          -19.426189192161743,
          -3.2181796102520974,
          -25.55850790437403,
          -5.320631009671112,
          2.0513605120018354,
          -31.322876144597643,
          4.41969610564436,
          8.941793399975284,
          29.668911384754207,
          1.8009440312434786,
          -11.64902579657303,
          14.313573537445686,
          -3.6853945142304503,
          7.137609259457552,
          -20.046503064289276,
          6.211276030614755,
          -40.60556257532822,
          -11.51348957958358,
          7.2445343428835365,
          57.374545796822225,
          7.403198841376767,
          6.867494013759476,
          14.530096150142695,
          -8.930109378318745,
          9.486618101743826,
          -16.17319678814114,
          -4.355451021756147,
          -9.434596716358367,
          -20.87823180999247
         ]
        }
       ],
       "layout": {
        "height": 800,
        "scene": {
         "xaxis": {
          "title": {
           "text": "PC1 (14.9%)"
          }
         },
         "yaxis": {
          "title": {
           "text": "PC2 (11.4%)"
          }
         },
         "zaxis": {
          "title": {
           "text": "PC3 (8.5%)"
          }
         }
        },
        "template": {
         "data": {
          "bar": [
           {
            "error_x": {
             "color": "#2a3f5f"
            },
            "error_y": {
             "color": "#2a3f5f"
            },
            "marker": {
             "line": {
              "color": "#E5ECF6",
              "width": 0.5
             },
             "pattern": {
              "fillmode": "overlay",
              "size": 10,
              "solidity": 0.2
             }
            },
            "type": "bar"
           }
          ],
          "barpolar": [
           {
            "marker": {
             "line": {
              "color": "#E5ECF6",
              "width": 0.5
             },
             "pattern": {
              "fillmode": "overlay",
              "size": 10,
              "solidity": 0.2
             }
            },
            "type": "barpolar"
           }
          ],
          "carpet": [
           {
            "aaxis": {
             "endlinecolor": "#2a3f5f",
             "gridcolor": "white",
             "linecolor": "white",
             "minorgridcolor": "white",
             "startlinecolor": "#2a3f5f"
            },
            "baxis": {
             "endlinecolor": "#2a3f5f",
             "gridcolor": "white",
             "linecolor": "white",
             "minorgridcolor": "white",
             "startlinecolor": "#2a3f5f"
            },
            "type": "carpet"
           }
          ],
          "choropleth": [
           {
            "colorbar": {
             "outlinewidth": 0,
             "ticks": ""
            },
            "type": "choropleth"
           }
          ],
          "contour": [
           {
            "colorbar": {
             "outlinewidth": 0,
             "ticks": ""
            },
            "colorscale": [
             [
              0,
              "#0d0887"
             ],
             [
              0.1111111111111111,
              "#46039f"
             ],
             [
              0.2222222222222222,
              "#7201a8"
             ],
             [
              0.3333333333333333,
              "#9c179e"
             ],
             [
              0.4444444444444444,
              "#bd3786"
             ],
             [
              0.5555555555555556,
              "#d8576b"
             ],
             [
              0.6666666666666666,
              "#ed7953"
             ],
             [
              0.7777777777777778,
              "#fb9f3a"
             ],
             [
              0.8888888888888888,
              "#fdca26"
             ],
             [
              1,
              "#f0f921"
             ]
            ],
            "type": "contour"
           }
          ],
          "contourcarpet": [
           {
            "colorbar": {
             "outlinewidth": 0,
             "ticks": ""
            },
            "type": "contourcarpet"
           }
          ],
          "heatmap": [
           {
            "colorbar": {
             "outlinewidth": 0,
             "ticks": ""
            },
            "colorscale": [
             [
              0,
              "#0d0887"
             ],
             [
              0.1111111111111111,
              "#46039f"
             ],
             [
              0.2222222222222222,
              "#7201a8"
             ],
             [
              0.3333333333333333,
              "#9c179e"
             ],
             [
              0.4444444444444444,
              "#bd3786"
             ],
             [
              0.5555555555555556,
              "#d8576b"
             ],
             [
              0.6666666666666666,
              "#ed7953"
             ],
             [
              0.7777777777777778,
              "#fb9f3a"
             ],
             [
              0.8888888888888888,
              "#fdca26"
             ],
             [
              1,
              "#f0f921"
             ]
            ],
            "type": "heatmap"
           }
          ],
          "heatmapgl": [
           {
            "colorbar": {
             "outlinewidth": 0,
             "ticks": ""
            },
            "colorscale": [
             [
              0,
              "#0d0887"
             ],
             [
              0.1111111111111111,
              "#46039f"
             ],
             [
              0.2222222222222222,
              "#7201a8"
             ],
             [
              0.3333333333333333,
              "#9c179e"
             ],
             [
              0.4444444444444444,
              "#bd3786"
             ],
             [
              0.5555555555555556,
              "#d8576b"
             ],
             [
              0.6666666666666666,
              "#ed7953"
             ],
             [
              0.7777777777777778,
              "#fb9f3a"
             ],
             [
              0.8888888888888888,
              "#fdca26"
             ],
             [
              1,
              "#f0f921"
             ]
            ],
            "type": "heatmapgl"
           }
          ],
          "histogram": [
           {
            "marker": {
             "pattern": {
              "fillmode": "overlay",
              "size": 10,
              "solidity": 0.2
             }
            },
            "type": "histogram"
           }
          ],
          "histogram2d": [
           {
            "colorbar": {
             "outlinewidth": 0,
             "ticks": ""
            },
            "colorscale": [
             [
              0,
              "#0d0887"
             ],
             [
              0.1111111111111111,
              "#46039f"
             ],
             [
              0.2222222222222222,
              "#7201a8"
             ],
             [
              0.3333333333333333,
              "#9c179e"
             ],
             [
              0.4444444444444444,
              "#bd3786"
             ],
             [
              0.5555555555555556,
              "#d8576b"
             ],
             [
              0.6666666666666666,
              "#ed7953"
             ],
             [
              0.7777777777777778,
              "#fb9f3a"
             ],
             [
              0.8888888888888888,
              "#fdca26"
             ],
             [
              1,
              "#f0f921"
             ]
            ],
            "type": "histogram2d"
           }
          ],
          "histogram2dcontour": [
           {
            "colorbar": {
             "outlinewidth": 0,
             "ticks": ""
            },
            "colorscale": [
             [
              0,
              "#0d0887"
             ],
             [
              0.1111111111111111,
              "#46039f"
             ],
             [
              0.2222222222222222,
              "#7201a8"
             ],
             [
              0.3333333333333333,
              "#9c179e"
             ],
             [
              0.4444444444444444,
              "#bd3786"
             ],
             [
              0.5555555555555556,
              "#d8576b"
             ],
             [
              0.6666666666666666,
              "#ed7953"
             ],
             [
              0.7777777777777778,
              "#fb9f3a"
             ],
             [
              0.8888888888888888,
              "#fdca26"
             ],
             [
              1,
              "#f0f921"
             ]
            ],
            "type": "histogram2dcontour"
           }
          ],
          "mesh3d": [
           {
            "colorbar": {
             "outlinewidth": 0,
             "ticks": ""
            },
            "type": "mesh3d"
           }
          ],
          "parcoords": [
           {
            "line": {
             "colorbar": {
              "outlinewidth": 0,
              "ticks": ""
             }
            },
            "type": "parcoords"
           }
          ],
          "pie": [
           {
            "automargin": true,
            "type": "pie"
           }
          ],
          "scatter": [
           {
            "fillpattern": {
             "fillmode": "overlay",
             "size": 10,
             "solidity": 0.2
            },
            "type": "scatter"
           }
          ],
          "scatter3d": [
           {
            "line": {
             "colorbar": {
              "outlinewidth": 0,
              "ticks": ""
             }
            },
            "marker": {
             "colorbar": {
              "outlinewidth": 0,
              "ticks": ""
             }
            },
            "type": "scatter3d"
           }
          ],
          "scattercarpet": [
           {
            "marker": {
             "colorbar": {
              "outlinewidth": 0,
              "ticks": ""
             }
            },
            "type": "scattercarpet"
           }
          ],
          "scattergeo": [
           {
            "marker": {
             "colorbar": {
              "outlinewidth": 0,
              "ticks": ""
             }
            },
            "type": "scattergeo"
           }
          ],
          "scattergl": [
           {
            "marker": {
             "colorbar": {
              "outlinewidth": 0,
              "ticks": ""
             }
            },
            "type": "scattergl"
           }
          ],
          "scattermapbox": [
           {
            "marker": {
             "colorbar": {
              "outlinewidth": 0,
              "ticks": ""
             }
            },
            "type": "scattermapbox"
           }
          ],
          "scatterpolar": [
           {
            "marker": {
             "colorbar": {
              "outlinewidth": 0,
              "ticks": ""
             }
            },
            "type": "scatterpolar"
           }
          ],
          "scatterpolargl": [
           {
            "marker": {
             "colorbar": {
              "outlinewidth": 0,
              "ticks": ""
             }
            },
            "type": "scatterpolargl"
           }
          ],
          "scatterternary": [
           {
            "marker": {
             "colorbar": {
              "outlinewidth": 0,
              "ticks": ""
             }
            },
            "type": "scatterternary"
           }
          ],
          "surface": [
           {
            "colorbar": {
             "outlinewidth": 0,
             "ticks": ""
            },
            "colorscale": [
             [
              0,
              "#0d0887"
             ],
             [
              0.1111111111111111,
              "#46039f"
             ],
             [
              0.2222222222222222,
              "#7201a8"
             ],
             [
              0.3333333333333333,
              "#9c179e"
             ],
             [
              0.4444444444444444,
              "#bd3786"
             ],
             [
              0.5555555555555556,
              "#d8576b"
             ],
             [
              0.6666666666666666,
              "#ed7953"
             ],
             [
              0.7777777777777778,
              "#fb9f3a"
             ],
             [
              0.8888888888888888,
              "#fdca26"
             ],
             [
              1,
              "#f0f921"
             ]
            ],
            "type": "surface"
           }
          ],
          "table": [
           {
            "cells": {
             "fill": {
              "color": "#EBF0F8"
             },
             "line": {
              "color": "white"
             }
            },
            "header": {
             "fill": {
              "color": "#C8D4E3"
             },
             "line": {
              "color": "white"
             }
            },
            "type": "table"
           }
          ]
         },
         "layout": {
          "annotationdefaults": {
           "arrowcolor": "#2a3f5f",
           "arrowhead": 0,
           "arrowwidth": 1
          },
          "autotypenumbers": "strict",
          "coloraxis": {
           "colorbar": {
            "outlinewidth": 0,
            "ticks": ""
           }
          },
          "colorscale": {
           "diverging": [
            [
             0,
             "#8e0152"
            ],
            [
             0.1,
             "#c51b7d"
            ],
            [
             0.2,
             "#de77ae"
            ],
            [
             0.3,
             "#f1b6da"
            ],
            [
             0.4,
             "#fde0ef"
            ],
            [
             0.5,
             "#f7f7f7"
            ],
            [
             0.6,
             "#e6f5d0"
            ],
            [
             0.7,
             "#b8e186"
            ],
            [
             0.8,
             "#7fbc41"
            ],
            [
             0.9,
             "#4d9221"
            ],
            [
             1,
             "#276419"
            ]
           ],
           "sequential": [
            [
             0,
             "#0d0887"
            ],
            [
             0.1111111111111111,
             "#46039f"
            ],
            [
             0.2222222222222222,
             "#7201a8"
            ],
            [
             0.3333333333333333,
             "#9c179e"
            ],
            [
             0.4444444444444444,
             "#bd3786"
            ],
            [
             0.5555555555555556,
             "#d8576b"
            ],
            [
             0.6666666666666666,
             "#ed7953"
            ],
            [
             0.7777777777777778,
             "#fb9f3a"
            ],
            [
             0.8888888888888888,
             "#fdca26"
            ],
            [
             1,
             "#f0f921"
            ]
           ],
           "sequentialminus": [
            [
             0,
             "#0d0887"
            ],
            [
             0.1111111111111111,
             "#46039f"
            ],
            [
             0.2222222222222222,
             "#7201a8"
            ],
            [
             0.3333333333333333,
             "#9c179e"
            ],
            [
             0.4444444444444444,
             "#bd3786"
            ],
            [
             0.5555555555555556,
             "#d8576b"
            ],
            [
             0.6666666666666666,
             "#ed7953"
            ],
            [
             0.7777777777777778,
             "#fb9f3a"
            ],
            [
             0.8888888888888888,
             "#fdca26"
            ],
            [
             1,
             "#f0f921"
            ]
           ]
          },
          "colorway": [
           "#636efa",
           "#EF553B",
           "#00cc96",
           "#ab63fa",
           "#FFA15A",
           "#19d3f3",
           "#FF6692",
           "#B6E880",
           "#FF97FF",
           "#FECB52"
          ],
          "font": {
           "color": "#2a3f5f"
          },
          "geo": {
           "bgcolor": "white",
           "lakecolor": "white",
           "landcolor": "#E5ECF6",
           "showlakes": true,
           "showland": true,
           "subunitcolor": "white"
          },
          "hoverlabel": {
           "align": "left"
          },
          "hovermode": "closest",
          "mapbox": {
           "style": "light"
          },
          "paper_bgcolor": "white",
          "plot_bgcolor": "#E5ECF6",
          "polar": {
           "angularaxis": {
            "gridcolor": "white",
            "linecolor": "white",
            "ticks": ""
           },
           "bgcolor": "#E5ECF6",
           "radialaxis": {
            "gridcolor": "white",
            "linecolor": "white",
            "ticks": ""
           }
          },
          "scene": {
           "xaxis": {
            "backgroundcolor": "#E5ECF6",
            "gridcolor": "white",
            "gridwidth": 2,
            "linecolor": "white",
            "showbackground": true,
            "ticks": "",
            "zerolinecolor": "white"
           },
           "yaxis": {
            "backgroundcolor": "#E5ECF6",
            "gridcolor": "white",
            "gridwidth": 2,
            "linecolor": "white",
            "showbackground": true,
            "ticks": "",
            "zerolinecolor": "white"
           },
           "zaxis": {
            "backgroundcolor": "#E5ECF6",
            "gridcolor": "white",
            "gridwidth": 2,
            "linecolor": "white",
            "showbackground": true,
            "ticks": "",
            "zerolinecolor": "white"
           }
          },
          "shapedefaults": {
           "line": {
            "color": "#2a3f5f"
           }
          },
          "ternary": {
           "aaxis": {
            "gridcolor": "white",
            "linecolor": "white",
            "ticks": ""
           },
           "baxis": {
            "gridcolor": "white",
            "linecolor": "white",
            "ticks": ""
           },
           "bgcolor": "#E5ECF6",
           "caxis": {
            "gridcolor": "white",
            "linecolor": "white",
            "ticks": ""
           }
          },
          "title": {
           "x": 0.05
          },
          "xaxis": {
           "automargin": true,
           "gridcolor": "white",
           "linecolor": "white",
           "ticks": "",
           "title": {
            "standoff": 15
           },
           "zerolinecolor": "white",
           "zerolinewidth": 2
          },
          "yaxis": {
           "automargin": true,
           "gridcolor": "white",
           "linecolor": "white",
           "ticks": "",
           "title": {
            "standoff": 15
           },
           "zerolinecolor": "white",
           "zerolinewidth": 2
          }
         }
        },
        "title": {
         "subtitle": {
          "text": "Gemma 2 27B, Layer 34"
         },
         "text": "Trait Vectors in Principal Component Space"
        },
        "width": 1000
       }
      },
      "text/html": [
       "<div>                            <div id=\"b1db2a20-9b5c-4a25-9ae6-c4a354704019\" class=\"plotly-graph-div\" style=\"height:800px; width:1000px;\"></div>            <script type=\"text/javascript\">                require([\"plotly\"], function(Plotly) {                    window.PLOTLYENV=window.PLOTLYENV || {};                                    if (document.getElementById(\"b1db2a20-9b5c-4a25-9ae6-c4a354704019\")) {                    Plotly.newPlot(                        \"b1db2a20-9b5c-4a25-9ae6-c4a354704019\",                        [{\"hovertemplate\":\"\\u003cb\\u003e%{text}\\u003c\\u002fb\\u003e\\u003cbr\\u003ePC1: %{x:.3f}\\u003cbr\\u003ePC2: %{y:.3f}\\u003cbr\\u003ePC3: %{z:.3f}\\u003cbr\\u003e\\u003cextra\\u003e\\u003c\\u002fextra\\u003e\",\"marker\":{\"color\":[\"blue\",\"blue\",\"blue\",\"blue\",\"blue\",\"blue\",\"blue\",\"blue\",\"blue\",\"blue\",\"blue\",\"blue\",\"blue\",\"blue\",\"blue\",\"blue\",\"blue\",\"blue\",\"blue\",\"blue\",\"blue\",\"blue\",\"blue\",\"blue\",\"blue\",\"blue\",\"blue\",\"blue\",\"blue\",\"blue\",\"blue\",\"blue\",\"blue\",\"blue\",\"blue\",\"blue\",\"blue\",\"blue\",\"blue\",\"blue\",\"blue\",\"blue\",\"blue\",\"blue\",\"blue\",\"blue\",\"blue\",\"blue\",\"blue\",\"blue\",\"blue\",\"blue\",\"blue\",\"blue\",\"blue\",\"blue\",\"blue\",\"blue\",\"blue\",\"blue\",\"blue\",\"blue\",\"blue\",\"blue\",\"blue\",\"blue\",\"blue\",\"blue\",\"blue\",\"blue\",\"blue\",\"blue\",\"blue\",\"blue\",\"blue\",\"blue\",\"blue\",\"blue\",\"blue\",\"blue\",\"blue\",\"blue\",\"blue\",\"blue\",\"blue\",\"blue\",\"blue\",\"blue\",\"blue\",\"blue\",\"blue\",\"blue\",\"blue\",\"blue\",\"blue\",\"blue\",\"blue\",\"blue\",\"blue\",\"blue\",\"blue\",\"blue\",\"blue\",\"blue\",\"blue\",\"blue\",\"blue\",\"blue\",\"blue\",\"blue\",\"blue\",\"blue\",\"blue\",\"blue\",\"blue\",\"blue\",\"blue\",\"blue\",\"blue\",\"blue\",\"blue\",\"blue\",\"blue\",\"blue\",\"blue\",\"blue\",\"blue\",\"blue\",\"blue\",\"blue\",\"blue\",\"blue\",\"blue\",\"blue\",\"blue\",\"blue\",\"blue\",\"blue\",\"blue\",\"blue\",\"blue\",\"blue\",\"blue\",\"blue\",\"blue\",\"blue\",\"blue\",\"blue\",\"blue\",\"blue\",\"blue\",\"blue\",\"blue\",\"blue\",\"blue\",\"blue\",\"blue\",\"blue\",\"blue\",\"blue\",\"blue\",\"blue\",\"blue\",\"blue\",\"blue\",\"blue\",\"blue\",\"blue\",\"blue\",\"blue\",\"blue\",\"blue\",\"blue\",\"blue\",\"blue\",\"blue\",\"blue\",\"blue\",\"blue\",\"blue\",\"blue\",\"blue\",\"blue\",\"blue\",\"blue\",\"blue\",\"blue\",\"blue\",\"blue\",\"blue\",\"blue\",\"blue\",\"blue\",\"blue\",\"blue\",\"blue\",\"blue\",\"blue\",\"blue\",\"blue\",\"blue\",\"blue\",\"blue\",\"blue\",\"blue\",\"blue\",\"blue\",\"blue\",\"blue\",\"blue\",\"blue\",\"blue\",\"blue\",\"blue\",\"blue\",\"blue\",\"blue\",\"blue\",\"blue\",\"blue\",\"blue\",\"blue\",\"blue\",\"blue\",\"blue\",\"blue\",\"blue\",\"blue\",\"blue\",\"blue\",\"blue\",\"blue\",\"blue\",\"blue\",\"blue\"],\"line\":{\"color\":\"black\",\"width\":2},\"size\":3},\"mode\":\"markers+text\",\"text\":[\"absolutist\",\"adaptable\",\"abstract\",\"accessible\",\"accommodating\",\"acerbic\",\"adventurous\",\"agreeable\",\"altruistic\",\"analytical\",\"animated\",\"anthropocentric\",\"anxious\",\"arrogant\",\"artistic\",\"ascetic\",\"assertive\",\"avoidant\",\"benevolent\",\"big_picture\",\"bitter\",\"blunt\",\"bombastic\",\"calculating\",\"callous\",\"calm\",\"casual\",\"cautious\",\"challenging\",\"chaotic\",\"charismatic\",\"chill\",\"circumspect\",\"closure_seeking\",\"collaborative\",\"collectivistic\",\"competitive\",\"conceptual\",\"conciliatory\",\"concise\",\"condescending\",\"confident\",\"confrontational\",\"conscientious\",\"constructivist\",\"contemporary\",\"contrarian\",\"convergent\",\"cosmopolitan\",\"creative\",\"critical\",\"cruel\",\"cryptic\",\"curious\",\"cynical\",\"data_driven\",\"decisive\",\"deconstructionist\",\"deontological\",\"descriptive\",\"detached\",\"deterministic\",\"diplomatic\",\"disorganized\",\"dispassionate\",\"divergent\",\"dogmatic\",\"dominant\",\"dramatic\",\"earnest\",\"eclectic\",\"edgy\",\"educational\",\"efficient\",\"effusive\",\"elitist\",\"eloquent\",\"emotional\",\"empathetic\",\"enigmatic\",\"entertaining\",\"environmental\",\"epicurean\",\"erudite\",\"esoteric\",\"essentialist\",\"ethereal\",\"evil\",\"existentialist\",\"experiential\",\"exploratory\",\"extroverted\",\"factual\",\"fatalistic\",\"flexible\",\"flippant\",\"flirty\",\"forgiving\",\"formal\",\"formalist\",\"fundamentalist\",\"futuristic\",\"generalist\",\"generous\",\"goofy\",\"grandiose\",\"gregarious\",\"grounded\",\"hedonistic\",\"historical\",\"holistic\",\"hostile\",\"humanistic\",\"humble\",\"iconoclastic\",\"idealistic\",\"impatient\",\"improvisational\",\"impulsive\",\"inclusive\",\"independent\",\"individualistic\",\"innovative\",\"inquisitive\",\"inspirational\",\"interdisciplinary\",\"introspective\",\"introverted\",\"intuitive\",\"ironic\",\"irreverent\",\"judgmental\",\"libertarian\",\"literal\",\"manic\",\"manipulative\",\"materialist\",\"meditative\",\"melancholic\",\"melodramatic\",\"mercurial\",\"metaphorical\",\"methodical\",\"meticulous\",\"militant\",\"misanthropic\",\"mischievous\",\"moderate\",\"mystical\",\"naive\",\"narrative\",\"neurotic\",\"nihilistic\",\"nonchalant\",\"nostalgic\",\"nurturing\",\"obsessive\",\"open_ended\",\"optimistic\",\"pacifist\",\"paradoxical\",\"paranoid\",\"passionate\",\"passive_aggressive\",\"patient\",\"pedantic\",\"pensive\",\"perfectionist\",\"pessimistic\",\"petty\",\"philosophical\",\"playful\",\"pluralist\",\"poetic\",\"practical\",\"prescriptive\",\"principled\",\"proactive\",\"problem_solving\",\"progressive\",\"provocative\",\"qualitative\",\"quantitative\",\"radical\",\"rationalist\",\"reactive\",\"rebellious\",\"reductionist\",\"regulatory\",\"reserved\",\"resilient\",\"reverent\",\"rhetorical\",\"risk_taking\",\"ritualistic\",\"romantic\",\"sarcastic\",\"sardonic\",\"sassy\",\"savage\",\"secular\",\"serene\",\"serious\",\"skeptical\",\"socratic\",\"solemn\",\"specialized\",\"speculative\",\"spiritual\",\"spontaneous\",\"stoic\",\"strategic\",\"stream_of_consciousness\",\"structuralist\",\"submissive\",\"subversive\",\"supportive\",\"sycophantic\",\"systems_thinker\",\"tactful\",\"technical\",\"temperamental\",\"theatrical\",\"theoretical\",\"traditional\",\"understated\",\"universalist\",\"urgent\",\"utilitarian\",\"verbose\",\"visceral\",\"whimsical\",\"witty\",\"wry\",\"zealous\"],\"textfont\":{\"size\":6},\"textposition\":\"top center\",\"x\":[3.113547274548199,7.7598882636113995,8.937586736882114,-0.9627363469873884,-14.061238926013072,-30.824836787086298,-19.812891746541432,50.57522477899989,24.74225572330905,29.58922253401651,-39.673539338269805,7.87185545887743,-29.194053854611766,-17.469357904959985,-20.877567107800417,22.07482947517674,-10.983173242857156,13.670858485703945,33.835424610826834,12.0365259044561,-39.0937382401217,-9.326303988665712,-23.26961882477314,28.164416040821056,-14.505214291499785,66.44191053808316,-38.159865732246715,28.86995994167087,-8.001508716742663,-0.07487336463832754,-35.48887331515521,27.614578346792538,31.010820402151396,2.931239120698813,21.55123750810285,18.983464479692014,-25.18868093352793,8.92224573351374,46.131196139939846,7.756566719458002,-9.148302110907675,-3.251194591026395,-8.888261698042697,62.31944057315216,3.1623268566353895,5.8126441762540635,-6.873429000763887,16.497028039137792,21.003179439389204,-10.11159205652641,-3.1898128342972747,-17.087594342901717,-24.93947634105456,11.40214223606841,-7.624305558634912,16.08279946877084,4.830269589462499,-5.262710137499746,9.045742864316049,25.679950776230267,32.23455694305526,-2.470347750951124,45.16435444770845,-29.081191106419944,38.85212726399716,3.8292918855474625,-12.402771018549032,-0.5132628902770568,-34.4735323281894,38.99827458144893,-2.605913418741769,-41.96779639832259,26.409533268581583,6.328601666554441,-52.937306358952426,-7.704540047536277,-5.531313645085994,-22.47230071875211,2.7455105594222258,-30.684793752377388,-29.918652991275728,19.613156211884018,-6.625271733019078,21.338994780383022,3.5669049638665906,10.808580361912252,-12.570649966996196,-24.61412035419926,-0.3452714117243661,-5.891621636486534,8.914857614880239,-20.40553757117756,35.836155728546856,4.509644419238142,21.691204337966933,-48.034451527339506,-39.190191038823095,12.540594890907679,56.03445658577899,30.66293924896971,0.2687352789670247,-2.183967427965751,7.692673359284734,19.32470853242589,-36.421645785015855,-25.16964718862631,-21.159624958982448,21.934043848056607,-28.52731331143379,-1.3730200975836446,9.384563898857484,-45.70172541939426,14.14550778713299,13.481599904922177,-22.225911279786263,6.769663988985359,-32.574564459979634,-3.81771057913439,-30.10490414445486,9.718473643148084,16.65921628961966,-10.84577051771121,-18.200332269625054,-0.8347431837271501,24.49766277509167,5.592626834954407,3.7808357529405963,49.755468518087966,1.6336333757209245,-32.74108024170205,-44.37176042448315,-27.019971441829068,-0.2503531405611914,12.459880697844376,-53.251649098268615,-11.78978877746768,13.361648064757047,46.417156479396844,-9.938035433082801,-46.38345349983775,-42.56709001592064,-20.637354356112205,49.99319038966969,33.74010947408742,-27.80856469542657,-29.496213879330952,-29.064350191965186,48.91692844911296,-11.122901164544844,-6.104516725973935,-20.694347922645854,-38.21028903189893,-10.47401348692588,-33.694500474416635,5.254100065818351,40.44959764563831,-12.095017400306745,7.556247415107377,18.00683393975498,9.007303361670727,-4.993172002764162,-25.957428782681504,-44.51144828421129,-19.06320765067406,39.92631547283483,19.144393921909067,24.32549388902007,27.504126586642148,-4.94625715294132,-23.0167221817764,-10.508194211935622,-30.771499241133544,15.064941821712079,-27.917773056669162,1.8824933053403428,10.030330139898565,15.167305049589261,12.317717203645348,12.231636915534102,-5.620500142590674,-12.930059453029616,-7.031437621666087,19.11374731038477,-11.282454194673589,15.885605409710905,-8.709980184815295,-18.31294252093826,15.56076120766098,29.68956621031332,40.20656936846285,41.403637569404644,29.096301226294173,-26.253809052630576,-13.305402778128702,33.50086339805723,-37.175161216779735,-28.04796970642001,-33.94743770981969,-45.890386611646136,-38.57920248966352,12.621852198711897,58.23418352820885,58.15278297969836,13.503541814224718,5.672004474432678,55.84550753743865,16.836549529861113,-6.2709323584959815,-12.514678232938781,-37.62005061124272,41.72411124929082,35.90054226742628,-15.327358415655512,30.26980953224478,5.521812818883023,-23.11688144718425,27.667594104489645,-10.814473446387407,9.607268206375977,41.0541290605741,27.609184130042216,-48.00731149253178,-39.08264591065542,10.233643835089609,34.727522608694855,36.80966176693721,7.166375035744647,-6.49481973686677,8.872838158816528,5.464184851116526,-33.080943335908486,-27.898094291849315,-37.95038839822401,-26.23005224530969,-40.026636266859306],\"y\":[-9.43680495752296,28.40829380371273,0.010526718657050889,25.86589165722937,28.03041013146288,-44.675780224108685,12.217839952275979,40.278163934716616,13.695392357474946,-10.29608906476909,59.97273198350484,-8.149188692965037,-2.6059205180440026,-30.989154627951727,29.89640576679329,-6.363285979452144,-7.550273072092804,-1.1478970552428036,34.24836836448383,-1.0606375848043061,-20.13863883308192,-39.208954464716065,-19.146547472537975,3.799656863960789,-70.98513499688968,11.542482501437883,36.814014391591314,-13.153753851463538,-9.978413068906566,2.1752612491526016,51.17304646244018,58.89422503739147,23.782782269302306,-18.849891459966862,8.83231116106091,7.889122156805049,-34.584197802767214,-1.9777556248203063,21.41434649746027,-25.454671793762834,-13.819318976615005,-24.965338535908813,-35.74782812734588,-6.779150890058507,10.564381369797811,-0.09364746279068617,-7.774569923658345,-15.663539893368705,1.2819493243372988,12.528259654935427,-4.535531533393615,-60.37911151960852,-1.094712353206006,24.310300713063842,-22.96322610361546,-20.376009705304984,-26.799544549174,3.06977959331147,-2.6129978149713637,-11.027403948030548,-49.368469004802776,-17.972068399317276,13.065415258312733,8.075402958588686,-38.23712629471574,25.074147008701566,-16.502278007128435,-16.622257613366564,18.583009843971936,27.100143772134462,12.48558447781947,-26.009555925839553,13.716453123883387,-12.124092455211837,41.59916777574303,-22.45435737363204,20.008462524714894,44.88117336611473,50.62206979433582,5.790972934468552,30.243032784877755,-0.28702997714454354,6.020956186466718,-23.34429704458863,-20.716165691685518,-17.73119101229141,6.637469573627034,-12.378940683097074,11.459830475997519,10.824957538086602,35.42962552056802,20.43759347046284,-6.723207113938945,-9.36265661013927,25.03097482399248,-7.60141651818193,26.802666950755732,18.585011112382663,-36.66462755295894,-27.597372389714668,-16.936238557755512,3.3343954961917466,3.9695139575409324,34.826257806266725,6.775643721441926,-6.412742348880005,40.19269850536116,-12.076622421798815,4.169780898180102,-1.6140444471768571,6.3322692529792155,-45.870609663462204,15.974986914025767,13.922673856656633,-10.493011013741546,2.5534117544415937,-23.903682362115273,9.870600852621411,-13.386094960649134,8.207543745551433,0.11822146457308849,-5.843778324751256,4.054537422613197,18.969331223040626,27.99551337220353,4.208384155056191,21.06100590396019,-31.562587970778495,11.854215744890954,-9.235024392367453,-7.089540378308247,-29.037033908957667,-4.287463406057345,-22.926046272235688,10.538685139207104,-8.090926455249212,-16.778244969138054,27.008257342050573,-28.861750726526264,18.079065576878076,-2.50009754012166,27.122861813024254,-26.933998096410964,-16.372563123425124,-20.115859479880474,-25.279675501097934,-4.148851169001142,11.30651710805524,15.460028074093888,19.53935175636873,20.490710878380614,-1.7159420952362763,-29.094937059522195,-24.41636151768418,0.81645693605087,76.30462764599167,-11.434066942970802,32.57662185757625,19.038956739636216,4.253426652879455,11.263900143940075,-5.04799605908367,25.51951825282431,-22.81710740066709,39.27615871848175,-14.695814669100125,13.494725107839649,-21.468491828772773,-14.336199807332086,-17.238598817411614,16.629981785555998,23.79784837629746,4.272411247618821,33.78425531302988,1.2548687328096635,-28.457497431021885,-6.189400632070827,22.509656508313956,0.33290954887490243,2.8048435637182445,-4.70766163204328,17.3653562368795,-25.661634029374948,-6.042201389313246,-21.30299047801098,1.0270755775988893,2.0852484090472814,-8.522644768773658,-11.899233149602791,-32.460888229505606,7.248015918750416,-0.9318571816055553,17.802885967342355,5.173579176985249,-18.07487824248876,30.85593956047151,-35.79458365486026,-29.123437019773093,-26.18238810462972,-51.612789191126254,-11.963778001226778,21.37994366824478,-34.10021399242028,-12.8972064443672,5.773480995496062,-18.152439391237692,-21.507333250686468,11.594248055125556,20.29444303351123,18.378426079682782,-34.5091084648434,14.449411559929022,19.42800236848255,-19.366263529807142,3.984493002614186,0.5219220457976441,63.77128248021978,4.353170497602205,6.79174069367352,31.564126253924666,-27.24425405481936,-0.8779970556489758,18.149398183422356,-8.748987923842423,-5.412247301004009,-14.302624459311248,-4.593291185429081,-22.39471278193779,-5.539972007132819,13.648562447884068,-1.368139239212527,22.63650505680117,18.243579896796486,-33.15483204099194,11.64298887071538],\"z\":[5.28664321505519,11.757573671869112,-9.451735668659992,40.96780386219053,20.36716369703442,-15.206038551431341,2.4396870755369005,13.302125440663687,5.559647434174517,-12.168542124742968,-13.24388257466181,11.629223503322528,25.291799855571423,-10.87906191677415,-17.610544530296043,0.0887419919219216,-2.1250653874869703,23.58524892543403,13.030047986277747,-1.5884379773279473,-5.30277507585801,11.219646854112579,-54.953205180982685,-20.496667736909046,9.234393193933558,14.03988070037825,54.24816217560938,4.722921728905341,-12.32158256813635,10.122774928765253,-33.5308724065282,36.095905592232306,2.2443726318523445,8.544296270883436,17.999761918129593,5.006435911576805,-7.779766445636458,-5.6299520889458154,16.403225512479636,28.528901041507268,-3.5591139853274574,-4.438223874259155,-4.945113986649781,-28.510537291079846,3.641451352346361,26.066006368817376,-8.53669725369796,10.43357095047849,-9.842799102007287,-1.4193434995340524,-3.4386351532235504,2.857801922398852,-43.10754149911885,-27.76616400502437,6.971861460541735,7.80931567061046,4.079040339937441,-3.5387751594374395,9.948135453381736,15.150373227992096,3.0336447166810983,-3.0030088703673226,12.931539044800562,21.422879403562956,6.7278145194176835,-6.123796270603788,4.632516108848149,-0.6257286582114246,-34.70921844301318,-26.8747272048236,-5.060379103279057,-3.1866930745431765,-17.648864615427687,24.136633413394563,0.7486188162557257,-17.140489088978835,-63.85008360379092,9.509168548543446,12.945977180615468,-34.679052681080584,5.6399428310030135,-1.712217302221368,-22.55257429491109,-42.45803024088004,-38.11170537979073,-0.6454790838074229,-28.752966726720242,11.609574573507672,12.813929277265139,23.279388145671977,-1.276558259883844,17.695109042843026,18.78930048325371,-7.283377671504246,24.321863390561955,52.307133102121156,-19.190570763826276,17.8621305100646,-34.15221673968033,-10.158442626857644,2.5421992357851284,4.733982943735052,6.9668745429829935,-22.798257576721884,18.423393953195426,-39.84444935964181,26.451391656971733,42.63322435220955,15.629989101096594,-1.5754068326238888,-8.700699575834834,5.159587683068713,4.977005304253827,29.81599882507001,-3.234548591441092,-3.8344339457785317,37.007902018734896,13.23779805020937,40.14582414806633,4.48229103570254,-3.6507868453263947,4.247333830916009,4.4434387741156,9.318143886662066,-2.6736462204313227,8.13612722142925,-7.987787063889537,-35.437901133748895,3.801615095003479,-6.788574173177723,22.3468530265992,-5.407521284485199,1.9359520728242499,27.061854018439437,8.098613213390093,10.869593304881684,18.539943881552833,-35.048283858259204,-13.55471335090103,-40.38004914134919,8.49906328923141,-20.628457634124334,6.76164150585644,-25.220020195773937,-0.20368781358675841,-7.502282434150907,-5.478525631816451,16.018150403926974,-15.817453388807085,44.034511483003214,-6.180763700151071,16.460170277191974,-0.2737248481544586,37.45270425036219,-5.592186434429062,-10.034570792902679,-9.115508317600092,23.604043258346284,20.451754226406678,7.463721663553352,-12.130487471992122,7.722076969317946,-19.00703952615915,1.2640563757857335,15.790479344739364,-16.322942634432916,-34.98923127444003,-23.631305705010845,6.956592782763645,-15.20846018966794,-36.10292360021738,14.73093543273467,17.152555581426135,-27.532739211487872,33.16069248903373,-3.9477778011980837,8.381783954936155,-15.577713874427,-6.2010969626603325,14.222095568201539,-8.45425789665507,-6.951919276152388,8.196708601306792,4.829030190831135,13.755875030997355,32.89308951620591,4.560321083427345,25.963901154467276,9.042360087120695,24.533063085474378,-0.8026517314641973,-13.616597834662619,-28.760728486759483,8.85851976339612,-38.12237981101005,-26.533878458906383,-10.758258616375143,-5.5259986998107715,-0.10565717212484997,2.1867563503305982,20.635980708341663,-1.745840280910383,-27.4174866797885,-9.04949183346388,14.223613214798482,-39.179629274157755,-19.426189192161743,-3.2181796102520974,-25.55850790437403,-5.320631009671112,2.0513605120018354,-31.322876144597643,4.41969610564436,8.941793399975284,29.668911384754207,1.8009440312434786,-11.64902579657303,14.313573537445686,-3.6853945142304503,7.137609259457552,-20.046503064289276,6.211276030614755,-40.60556257532822,-11.51348957958358,7.2445343428835365,57.374545796822225,7.403198841376767,6.867494013759476,14.530096150142695,-8.930109378318745,9.486618101743826,-16.17319678814114,-4.355451021756147,-9.434596716358367,-20.87823180999247],\"type\":\"scatter3d\"}],                        {\"template\":{\"data\":{\"histogram2dcontour\":[{\"type\":\"histogram2dcontour\",\"colorbar\":{\"outlinewidth\":0,\"ticks\":\"\"},\"colorscale\":[[0.0,\"#0d0887\"],[0.1111111111111111,\"#46039f\"],[0.2222222222222222,\"#7201a8\"],[0.3333333333333333,\"#9c179e\"],[0.4444444444444444,\"#bd3786\"],[0.5555555555555556,\"#d8576b\"],[0.6666666666666666,\"#ed7953\"],[0.7777777777777778,\"#fb9f3a\"],[0.8888888888888888,\"#fdca26\"],[1.0,\"#f0f921\"]]}],\"choropleth\":[{\"type\":\"choropleth\",\"colorbar\":{\"outlinewidth\":0,\"ticks\":\"\"}}],\"histogram2d\":[{\"type\":\"histogram2d\",\"colorbar\":{\"outlinewidth\":0,\"ticks\":\"\"},\"colorscale\":[[0.0,\"#0d0887\"],[0.1111111111111111,\"#46039f\"],[0.2222222222222222,\"#7201a8\"],[0.3333333333333333,\"#9c179e\"],[0.4444444444444444,\"#bd3786\"],[0.5555555555555556,\"#d8576b\"],[0.6666666666666666,\"#ed7953\"],[0.7777777777777778,\"#fb9f3a\"],[0.8888888888888888,\"#fdca26\"],[1.0,\"#f0f921\"]]}],\"heatmap\":[{\"type\":\"heatmap\",\"colorbar\":{\"outlinewidth\":0,\"ticks\":\"\"},\"colorscale\":[[0.0,\"#0d0887\"],[0.1111111111111111,\"#46039f\"],[0.2222222222222222,\"#7201a8\"],[0.3333333333333333,\"#9c179e\"],[0.4444444444444444,\"#bd3786\"],[0.5555555555555556,\"#d8576b\"],[0.6666666666666666,\"#ed7953\"],[0.7777777777777778,\"#fb9f3a\"],[0.8888888888888888,\"#fdca26\"],[1.0,\"#f0f921\"]]}],\"heatmapgl\":[{\"type\":\"heatmapgl\",\"colorbar\":{\"outlinewidth\":0,\"ticks\":\"\"},\"colorscale\":[[0.0,\"#0d0887\"],[0.1111111111111111,\"#46039f\"],[0.2222222222222222,\"#7201a8\"],[0.3333333333333333,\"#9c179e\"],[0.4444444444444444,\"#bd3786\"],[0.5555555555555556,\"#d8576b\"],[0.6666666666666666,\"#ed7953\"],[0.7777777777777778,\"#fb9f3a\"],[0.8888888888888888,\"#fdca26\"],[1.0,\"#f0f921\"]]}],\"contourcarpet\":[{\"type\":\"contourcarpet\",\"colorbar\":{\"outlinewidth\":0,\"ticks\":\"\"}}],\"contour\":[{\"type\":\"contour\",\"colorbar\":{\"outlinewidth\":0,\"ticks\":\"\"},\"colorscale\":[[0.0,\"#0d0887\"],[0.1111111111111111,\"#46039f\"],[0.2222222222222222,\"#7201a8\"],[0.3333333333333333,\"#9c179e\"],[0.4444444444444444,\"#bd3786\"],[0.5555555555555556,\"#d8576b\"],[0.6666666666666666,\"#ed7953\"],[0.7777777777777778,\"#fb9f3a\"],[0.8888888888888888,\"#fdca26\"],[1.0,\"#f0f921\"]]}],\"surface\":[{\"type\":\"surface\",\"colorbar\":{\"outlinewidth\":0,\"ticks\":\"\"},\"colorscale\":[[0.0,\"#0d0887\"],[0.1111111111111111,\"#46039f\"],[0.2222222222222222,\"#7201a8\"],[0.3333333333333333,\"#9c179e\"],[0.4444444444444444,\"#bd3786\"],[0.5555555555555556,\"#d8576b\"],[0.6666666666666666,\"#ed7953\"],[0.7777777777777778,\"#fb9f3a\"],[0.8888888888888888,\"#fdca26\"],[1.0,\"#f0f921\"]]}],\"mesh3d\":[{\"type\":\"mesh3d\",\"colorbar\":{\"outlinewidth\":0,\"ticks\":\"\"}}],\"scatter\":[{\"fillpattern\":{\"fillmode\":\"overlay\",\"size\":10,\"solidity\":0.2},\"type\":\"scatter\"}],\"parcoords\":[{\"type\":\"parcoords\",\"line\":{\"colorbar\":{\"outlinewidth\":0,\"ticks\":\"\"}}}],\"scatterpolargl\":[{\"type\":\"scatterpolargl\",\"marker\":{\"colorbar\":{\"outlinewidth\":0,\"ticks\":\"\"}}}],\"bar\":[{\"error_x\":{\"color\":\"#2a3f5f\"},\"error_y\":{\"color\":\"#2a3f5f\"},\"marker\":{\"line\":{\"color\":\"#E5ECF6\",\"width\":0.5},\"pattern\":{\"fillmode\":\"overlay\",\"size\":10,\"solidity\":0.2}},\"type\":\"bar\"}],\"scattergeo\":[{\"type\":\"scattergeo\",\"marker\":{\"colorbar\":{\"outlinewidth\":0,\"ticks\":\"\"}}}],\"scatterpolar\":[{\"type\":\"scatterpolar\",\"marker\":{\"colorbar\":{\"outlinewidth\":0,\"ticks\":\"\"}}}],\"histogram\":[{\"marker\":{\"pattern\":{\"fillmode\":\"overlay\",\"size\":10,\"solidity\":0.2}},\"type\":\"histogram\"}],\"scattergl\":[{\"type\":\"scattergl\",\"marker\":{\"colorbar\":{\"outlinewidth\":0,\"ticks\":\"\"}}}],\"scatter3d\":[{\"type\":\"scatter3d\",\"line\":{\"colorbar\":{\"outlinewidth\":0,\"ticks\":\"\"}},\"marker\":{\"colorbar\":{\"outlinewidth\":0,\"ticks\":\"\"}}}],\"scattermapbox\":[{\"type\":\"scattermapbox\",\"marker\":{\"colorbar\":{\"outlinewidth\":0,\"ticks\":\"\"}}}],\"scatterternary\":[{\"type\":\"scatterternary\",\"marker\":{\"colorbar\":{\"outlinewidth\":0,\"ticks\":\"\"}}}],\"scattercarpet\":[{\"type\":\"scattercarpet\",\"marker\":{\"colorbar\":{\"outlinewidth\":0,\"ticks\":\"\"}}}],\"carpet\":[{\"aaxis\":{\"endlinecolor\":\"#2a3f5f\",\"gridcolor\":\"white\",\"linecolor\":\"white\",\"minorgridcolor\":\"white\",\"startlinecolor\":\"#2a3f5f\"},\"baxis\":{\"endlinecolor\":\"#2a3f5f\",\"gridcolor\":\"white\",\"linecolor\":\"white\",\"minorgridcolor\":\"white\",\"startlinecolor\":\"#2a3f5f\"},\"type\":\"carpet\"}],\"table\":[{\"cells\":{\"fill\":{\"color\":\"#EBF0F8\"},\"line\":{\"color\":\"white\"}},\"header\":{\"fill\":{\"color\":\"#C8D4E3\"},\"line\":{\"color\":\"white\"}},\"type\":\"table\"}],\"barpolar\":[{\"marker\":{\"line\":{\"color\":\"#E5ECF6\",\"width\":0.5},\"pattern\":{\"fillmode\":\"overlay\",\"size\":10,\"solidity\":0.2}},\"type\":\"barpolar\"}],\"pie\":[{\"automargin\":true,\"type\":\"pie\"}]},\"layout\":{\"autotypenumbers\":\"strict\",\"colorway\":[\"#636efa\",\"#EF553B\",\"#00cc96\",\"#ab63fa\",\"#FFA15A\",\"#19d3f3\",\"#FF6692\",\"#B6E880\",\"#FF97FF\",\"#FECB52\"],\"font\":{\"color\":\"#2a3f5f\"},\"hovermode\":\"closest\",\"hoverlabel\":{\"align\":\"left\"},\"paper_bgcolor\":\"white\",\"plot_bgcolor\":\"#E5ECF6\",\"polar\":{\"bgcolor\":\"#E5ECF6\",\"angularaxis\":{\"gridcolor\":\"white\",\"linecolor\":\"white\",\"ticks\":\"\"},\"radialaxis\":{\"gridcolor\":\"white\",\"linecolor\":\"white\",\"ticks\":\"\"}},\"ternary\":{\"bgcolor\":\"#E5ECF6\",\"aaxis\":{\"gridcolor\":\"white\",\"linecolor\":\"white\",\"ticks\":\"\"},\"baxis\":{\"gridcolor\":\"white\",\"linecolor\":\"white\",\"ticks\":\"\"},\"caxis\":{\"gridcolor\":\"white\",\"linecolor\":\"white\",\"ticks\":\"\"}},\"coloraxis\":{\"colorbar\":{\"outlinewidth\":0,\"ticks\":\"\"}},\"colorscale\":{\"sequential\":[[0.0,\"#0d0887\"],[0.1111111111111111,\"#46039f\"],[0.2222222222222222,\"#7201a8\"],[0.3333333333333333,\"#9c179e\"],[0.4444444444444444,\"#bd3786\"],[0.5555555555555556,\"#d8576b\"],[0.6666666666666666,\"#ed7953\"],[0.7777777777777778,\"#fb9f3a\"],[0.8888888888888888,\"#fdca26\"],[1.0,\"#f0f921\"]],\"sequentialminus\":[[0.0,\"#0d0887\"],[0.1111111111111111,\"#46039f\"],[0.2222222222222222,\"#7201a8\"],[0.3333333333333333,\"#9c179e\"],[0.4444444444444444,\"#bd3786\"],[0.5555555555555556,\"#d8576b\"],[0.6666666666666666,\"#ed7953\"],[0.7777777777777778,\"#fb9f3a\"],[0.8888888888888888,\"#fdca26\"],[1.0,\"#f0f921\"]],\"diverging\":[[0,\"#8e0152\"],[0.1,\"#c51b7d\"],[0.2,\"#de77ae\"],[0.3,\"#f1b6da\"],[0.4,\"#fde0ef\"],[0.5,\"#f7f7f7\"],[0.6,\"#e6f5d0\"],[0.7,\"#b8e186\"],[0.8,\"#7fbc41\"],[0.9,\"#4d9221\"],[1,\"#276419\"]]},\"xaxis\":{\"gridcolor\":\"white\",\"linecolor\":\"white\",\"ticks\":\"\",\"title\":{\"standoff\":15},\"zerolinecolor\":\"white\",\"automargin\":true,\"zerolinewidth\":2},\"yaxis\":{\"gridcolor\":\"white\",\"linecolor\":\"white\",\"ticks\":\"\",\"title\":{\"standoff\":15},\"zerolinecolor\":\"white\",\"automargin\":true,\"zerolinewidth\":2},\"scene\":{\"xaxis\":{\"backgroundcolor\":\"#E5ECF6\",\"gridcolor\":\"white\",\"linecolor\":\"white\",\"showbackground\":true,\"ticks\":\"\",\"zerolinecolor\":\"white\",\"gridwidth\":2},\"yaxis\":{\"backgroundcolor\":\"#E5ECF6\",\"gridcolor\":\"white\",\"linecolor\":\"white\",\"showbackground\":true,\"ticks\":\"\",\"zerolinecolor\":\"white\",\"gridwidth\":2},\"zaxis\":{\"backgroundcolor\":\"#E5ECF6\",\"gridcolor\":\"white\",\"linecolor\":\"white\",\"showbackground\":true,\"ticks\":\"\",\"zerolinecolor\":\"white\",\"gridwidth\":2}},\"shapedefaults\":{\"line\":{\"color\":\"#2a3f5f\"}},\"annotationdefaults\":{\"arrowcolor\":\"#2a3f5f\",\"arrowhead\":0,\"arrowwidth\":1},\"geo\":{\"bgcolor\":\"white\",\"landcolor\":\"#E5ECF6\",\"subunitcolor\":\"white\",\"showland\":true,\"showlakes\":true,\"lakecolor\":\"white\"},\"title\":{\"x\":0.05},\"mapbox\":{\"style\":\"light\"}}},\"title\":{\"subtitle\":{\"text\":\"Gemma 2 27B, Layer 34\"},\"text\":\"Trait Vectors in Principal Component Space\"},\"scene\":{\"xaxis\":{\"title\":{\"text\":\"PC1 (14.9%)\"}},\"yaxis\":{\"title\":{\"text\":\"PC2 (11.4%)\"}},\"zaxis\":{\"title\":{\"text\":\"PC3 (8.5%)\"}}},\"width\":1000,\"height\":800},                        {\"responsive\": true}                    ).then(function(){\n",
       "                            \n",
       "var gd = document.getElementById('b1db2a20-9b5c-4a25-9ae6-c4a354704019');\n",
       "var x = new MutationObserver(function (mutations, observer) {{\n",
       "        var display = window.getComputedStyle(gd).display;\n",
       "        if (!display || display === 'none') {{\n",
       "            console.log([gd, 'removed!']);\n",
       "            Plotly.purge(gd);\n",
       "            observer.disconnect();\n",
       "        }}\n",
       "}});\n",
       "\n",
       "// Listen for the removal of the full notebook cells\n",
       "var notebookContainer = gd.closest('#notebook-container');\n",
       "if (notebookContainer) {{\n",
       "    x.observe(notebookContainer, {childList: true});\n",
       "}}\n",
       "\n",
       "// Listen for the clearing of the current output cell\n",
       "var outputEl = gd.closest('.output');\n",
       "if (outputEl) {{\n",
       "    x.observe(outputEl, {childList: true});\n",
       "}}\n",
       "\n",
       "                        })                };                });            </script>        </div>"
      ]
     },
     "metadata": {},
     "output_type": "display_data"
    }
   ],
   "source": [
    "plot_3d_pca(pca_transformed, variance_explained, filtered_pos_neg_50_traits, layer)"
   ]
  },
  {
   "cell_type": "markdown",
   "id": "2b44c2ae",
   "metadata": {},
   "source": [
    "### pos_default"
   ]
  },
  {
   "cell_type": "code",
   "execution_count": 43,
   "id": "e6dc710c",
   "metadata": {},
   "outputs": [
    {
     "name": "stdout",
     "output_type": "stream",
     "text": [
      "torch.Size([240, 46, 4608])\n"
     ]
    }
   ],
   "source": [
    "# PCA on all of pos_default ... or some other clustering algorithm?\n",
    "\n",
    "pos_default = torch.stack(pos_default).float()\n",
    "print(pos_default.shape)"
   ]
  },
  {
   "cell_type": "code",
   "execution_count": 44,
   "id": "efda8353",
   "metadata": {},
   "outputs": [
    {
     "name": "stdout",
     "output_type": "stream",
     "text": [
      "PCA fitted with 240 components\n",
      "Cumulative variance for first 5 components: [0.14114245 0.23283618 0.29676924 0.34340508 0.3846963 ]\n",
      "\n",
      "PCA Analysis Results:\n",
      "Elbow point at component: 2\n",
      "Dimensions for 70% variance: 24\n",
      "Dimensions for 80% variance: 42\n",
      "Dimensions for 90% variance: 76\n",
      "Dimensions for 95% variance: 111\n"
     ]
    }
   ],
   "source": [
    "pca_transformed, variance_explained, n_components = compute_pca(pos_default, layer)"
   ]
  },
  {
   "cell_type": "markdown",
   "id": "yadsk2uegg",
   "metadata": {},
   "source": [
    "### pos_neg_50 with Mean Assistant"
   ]
  },
  {
   "cell_type": "code",
   "execution_count": 48,
   "id": "s2yk7yphvdl",
   "metadata": {},
   "outputs": [
    {
     "name": "stdout",
     "output_type": "stream",
     "text": [
      "PCA fitted with 235 components\n",
      "Cumulative variance for first 5 components: [0.14948702 0.26322171 0.34780798 0.41020005 0.4467624 ]\n",
      "\n",
      "PCA Analysis Results:\n",
      "Elbow point at component: 5\n",
      "Dimensions for 70% variance: 20\n",
      "Dimensions for 80% variance: 38\n",
      "Dimensions for 90% variance: 76\n",
      "Dimensions for 95% variance: 117\n",
      "Loaded mean default activation with shape: torch.Size([46, 4608])\n",
      "Extracted layer 34 activation with shape: (1, 4608)\n",
      "Mean activation projected to PCA space with shape: (1, 235)\n",
      "First 3 PC coordinates: [24.509, 4.902, 15.562]\n"
     ]
    },
    {
     "data": {
      "application/vnd.plotly.v1+json": {
       "config": {
        "plotlyServerURL": "https://plot.ly"
       },
       "data": [
        {
         "hovertemplate": "<b>%{text}</b><br>Cosine Similarity: %{x:.3f}<extra></extra>",
         "marker": {
          "color": [
           "blue",
           "blue",
           "blue",
           "red",
           "red",
           "red",
           "red",
           "blue",
           "blue",
           "red",
           "blue",
           "red",
           "red",
           "red",
           "blue",
           "red",
           "blue",
           "blue",
           "blue",
           "red",
           "red",
           "red",
           "blue",
           "red",
           "red",
           "blue",
           "red",
           "red",
           "red",
           "blue",
           "blue",
           "blue",
           "blue",
           "blue",
           "red",
           "blue",
           "blue",
           "blue",
           "red",
           "red",
           "red",
           "blue",
           "blue",
           "red",
           "blue",
           "blue",
           "red",
           "red",
           "red",
           "red",
           "blue",
           "red",
           "blue",
           "blue",
           "red",
           "blue",
           "blue",
           "blue",
           "red",
           "blue",
           "red",
           "blue",
           "blue",
           "red",
           "red",
           "red",
           "blue",
           "red",
           "red",
           "blue",
           "blue",
           "red",
           "red",
           "red",
           "blue",
           "red",
           "red",
           "blue",
           "red",
           "blue",
           "blue",
           "blue",
           "red",
           "red",
           "red",
           "red",
           "blue",
           "red",
           "blue",
           "blue",
           "blue",
           "red",
           "blue",
           "blue",
           "blue",
           "red",
           "blue",
           "blue",
           "red",
           "red",
           "red",
           "blue",
           "red",
           "red",
           "blue",
           "blue",
           "blue",
           "red",
           "blue",
           "red",
           "red",
           "red",
           "blue",
           "blue",
           "red",
           "red",
           "red",
           "blue",
           "blue",
           "blue",
           "blue",
           "red",
           "red",
           "red",
           "blue",
           "red",
           "blue",
           "blue",
           "red",
           "red",
           "blue",
           "red",
           "red",
           "red",
           "red",
           "red",
           "red",
           "red",
           "red",
           "red",
           "blue",
           "blue",
           "red",
           "blue",
           "blue",
           "blue",
           "red",
           "red",
           "red",
           "blue",
           "blue",
           "blue",
           "blue",
           "red",
           "red",
           "red",
           "red",
           "blue",
           "red",
           "blue",
           "blue",
           "blue",
           "blue",
           "blue",
           "red",
           "red",
           "red",
           "blue",
           "red",
           "blue",
           "red",
           "red",
           "blue",
           "blue",
           "blue",
           "blue",
           "blue",
           "red",
           "red",
           "blue",
           "red",
           "red",
           "red",
           "red",
           "blue",
           "blue",
           "blue",
           "blue",
           "red",
           "red",
           "red",
           "blue",
           "blue",
           "red",
           "blue",
           "blue",
           "red",
           "blue",
           "red",
           "blue",
           "blue",
           "blue",
           "red",
           "blue",
           "blue",
           "blue",
           "blue",
           "red",
           "blue",
           "blue",
           "red",
           "red",
           "red",
           "red",
           "red"
          ],
          "opacity": 0.7,
          "size": 8
         },
         "mode": "markers",
         "showlegend": false,
         "text": [
          "absolutist",
          "adaptable",
          "abstract",
          "accessible",
          "accommodating",
          "acerbic",
          "adventurous",
          "altruistic",
          "analytical",
          "animated",
          "anthropocentric",
          "anxious",
          "arrogant",
          "artistic",
          "ascetic",
          "assertive",
          "avoidant",
          "benevolent",
          "big_picture",
          "bitter",
          "blunt",
          "bombastic",
          "calculating",
          "callous",
          "casual",
          "cautious",
          "challenging",
          "chaotic",
          "charismatic",
          "chill",
          "circumspect",
          "closure_seeking",
          "collaborative",
          "collectivistic",
          "competitive",
          "conceptual",
          "conciliatory",
          "concise",
          "condescending",
          "confident",
          "confrontational",
          "constructivist",
          "contemporary",
          "contrarian",
          "convergent",
          "cosmopolitan",
          "creative",
          "critical",
          "cruel",
          "cryptic",
          "curious",
          "cynical",
          "data_driven",
          "decisive",
          "deconstructionist",
          "deontological",
          "descriptive",
          "detached",
          "deterministic",
          "diplomatic",
          "disorganized",
          "dispassionate",
          "divergent",
          "dogmatic",
          "dominant",
          "dramatic",
          "earnest",
          "eclectic",
          "edgy",
          "educational",
          "efficient",
          "elitist",
          "eloquent",
          "emotional",
          "empathetic",
          "enigmatic",
          "entertaining",
          "environmental",
          "epicurean",
          "erudite",
          "esoteric",
          "essentialist",
          "ethereal",
          "evil",
          "existentialist",
          "experiential",
          "exploratory",
          "extroverted",
          "factual",
          "fatalistic",
          "flexible",
          "flirty",
          "forgiving",
          "formalist",
          "fundamentalist",
          "futuristic",
          "generalist",
          "generous",
          "goofy",
          "grandiose",
          "gregarious",
          "grounded",
          "hedonistic",
          "historical",
          "holistic",
          "humanistic",
          "humble",
          "iconoclastic",
          "idealistic",
          "impatient",
          "improvisational",
          "impulsive",
          "inclusive",
          "independent",
          "individualistic",
          "innovative",
          "inquisitive",
          "inspirational",
          "interdisciplinary",
          "introspective",
          "intuitive",
          "ironic",
          "judgmental",
          "libertarian",
          "literal",
          "manipulative",
          "materialist",
          "meditative",
          "melancholic",
          "metaphorical",
          "meticulous",
          "militant",
          "misanthropic",
          "mischievous",
          "mystical",
          "naive",
          "narrative",
          "neurotic",
          "nihilistic",
          "nonchalant",
          "nostalgic",
          "nurturing",
          "obsessive",
          "open_ended",
          "optimistic",
          "pacifist",
          "paradoxical",
          "paranoid",
          "passive_aggressive",
          "patient",
          "pedantic",
          "pensive",
          "perfectionist",
          "pessimistic",
          "petty",
          "philosophical",
          "playful",
          "pluralist",
          "poetic",
          "practical",
          "prescriptive",
          "principled",
          "proactive",
          "problem_solving",
          "progressive",
          "provocative",
          "qualitative",
          "quantitative",
          "radical",
          "rationalist",
          "reactive",
          "rebellious",
          "reductionist",
          "regulatory",
          "reserved",
          "resilient",
          "reverent",
          "rhetorical",
          "risk_taking",
          "ritualistic",
          "romantic",
          "sarcastic",
          "sardonic",
          "savage",
          "secular",
          "skeptical",
          "socratic",
          "specialized",
          "speculative",
          "spiritual",
          "spontaneous",
          "stoic",
          "strategic",
          "stream_of_consciousness",
          "structuralist",
          "submissive",
          "subversive",
          "supportive",
          "sycophantic",
          "systems_thinker",
          "tactful",
          "technical",
          "theatrical",
          "theoretical",
          "traditional",
          "understated",
          "universalist",
          "urgent",
          "utilitarian",
          "verbose",
          "visceral",
          "whimsical",
          "witty",
          "wry",
          "zealous"
         ],
         "type": "scatter",
         "x": [
          0.007738620674412528,
          0.019286950366484534,
          0.022214081689646892,
          -0.0023928499366967504,
          -0.03494875287432045,
          -0.07661413115384677,
          -0.04924429924126702,
          0.06149607338137659,
          0.07354305204013967,
          -0.09860729408542683,
          0.019565241195477142,
          -0.07256087311601667,
          -0.043419521957203056,
          -0.05189051528864403,
          0.05486627203549444,
          -0.02729832054345868,
          0.03397847496302686,
          0.08409684945569552,
          0.029916394388404523,
          -0.09716621727832196,
          -0.023180225799853113,
          -0.05783588217693553,
          0.07000174175543249,
          -0.036052239232266914,
          -0.09484510747671937,
          0.07175534821660765,
          -0.019887490158909508,
          -0.00018609531716105626,
          -0.08820644253365928,
          0.06863513801655145,
          0.07707638739142184,
          0.007285499676370975,
          0.053564901198932376,
          0.04718278469558093,
          -0.06260564874887445,
          0.02217595212379665,
          0.1146575904281782,
          0.01927869477632004,
          -0.02273780791124004,
          -0.008080738611012717,
          -0.022091485906872307,
          0.00785986074213686,
          0.01444713840161316,
          -0.017083684646200366,
          0.04100282764088109,
          0.05220272066099869,
          -0.025132033799363282,
          -0.007928176247325896,
          -0.04247066101706841,
          -0.061986258824321974,
          0.028339654374907534,
          -0.018949963954747438,
          0.03997327597652129,
          0.012005478257408086,
          -0.01308029520104384,
          0.02248290023326322,
          0.0638266839945986,
          0.08011794483713201,
          -0.006139969138985661,
          0.11225453678915112,
          -0.07228035641929974,
          0.09656570104068954,
          0.009517580669513932,
          -0.03082668472990364,
          -0.0012756982515009741,
          -0.08568284547202411,
          0.09692894545377022,
          -0.0064769132053504345,
          -0.10430959552869548,
          0.06564003759457519,
          0.01572953399399609,
          -0.0191493841722237,
          -0.013747900499353718,
          -0.055854173908114355,
          0.0068238773667073285,
          -0.07626605873735741,
          -0.07436184074720925,
          0.04874786305397996,
          -0.01646689781326096,
          0.05303737878931529,
          0.008865426493660058,
          0.02686437560575686,
          -0.03124394240633972,
          -0.061177597081169974,
          -0.0008581608851407267,
          -0.014643434315140369,
          0.02215758919477688,
          -0.050717301199073785,
          0.08906960169815999,
          0.011208574805413676,
          0.05391278421075379,
          -0.09740594757830394,
          0.03116924149041308,
          0.07621174007861015,
          0.0006679328117990463,
          -0.005428180143097963,
          0.019119889903808092,
          0.04803093571069275,
          -0.09052481822648825,
          -0.06255834099382244,
          -0.05259156092118686,
          0.0545163539296741,
          -0.07090371114064412,
          -0.003412596879578941,
          0.023325028915317254,
          0.0351582003929763,
          0.03350807890447969,
          -0.05524178095621525,
          0.016825780077994797,
          -0.08096302248263153,
          -0.009488795708393368,
          -0.07482476194208154,
          0.02415495074489024,
          0.0414059412722641,
          -0.02695681053067452,
          -0.04523633501063052,
          -0.0020747270845127034,
          0.0608881455489125,
          0.013900292442334167,
          0.00939714452497266,
          0.0040603427219838,
          -0.08137689205242633,
          -0.06715726185725451,
          -0.000622244603538924,
          0.03096862898381517,
          -0.029303137269212454,
          0.033209942499799465,
          0.11536833556864023,
          -0.024700664446040445,
          -0.05129347429245692,
          0.08385994677758761,
          -0.06911728478861578,
          -0.07331188204830025,
          -0.07223849887313658,
          -0.02764560975676344,
          -0.01517257814875284,
          -0.05143512995186868,
          -0.09497043295109084,
          -0.026032820499172257,
          -0.08374658708953121,
          0.013058895147392339,
          0.10053616181486351,
          -0.03006177310250572,
          0.018780807648411686,
          0.04475540119336124,
          0.022387360097317035,
          -0.012410366917295504,
          -0.06451634657174057,
          -0.0473809837583186,
          0.09923556096190354,
          0.047582769599887,
          0.06046022537177705,
          0.06836061375234252,
          -0.012293761581078574,
          -0.05720731578066391,
          -0.026117775581559817,
          -0.0764815624149018,
          0.037443423837924546,
          -0.0693887186252044,
          0.004678875998201721,
          0.024930059943626702,
          0.03769784431775006,
          0.03061528623410055,
          0.03040133647246292,
          -0.013969570643600463,
          -0.03213724301620497,
          -0.01747640994394829,
          0.04750659844183801,
          -0.028042173633507098,
          0.03948315654432671,
          -0.02164837299337806,
          -0.04551622413455257,
          0.038675766825694166,
          0.07379245299007377,
          0.09993212292147949,
          0.10290739707396018,
          0.07231791213172056,
          -0.0652529901111738,
          -0.0330701466658006,
          0.08326530842236687,
          -0.09239765637042907,
          -0.06971231817152809,
          -0.08437525437691096,
          -0.09588735537416224,
          0.03137120389106816,
          0.03356261480774114,
          0.014097582988385616,
          0.04184669728403598,
          -0.015586198800961317,
          -0.03110482647837544,
          -0.09350341451772352,
          0.10370392400163696,
          0.0892296323503358,
          -0.03809565176322375,
          0.07523462893003606,
          0.013724286504255803,
          -0.057456258383320115,
          0.06876690696123337,
          -0.02687902267591002,
          0.02387855324190498,
          0.10203870502151283,
          0.0686217308659334,
          -0.09713864765352877,
          0.025435389532760665,
          0.0863141300688204,
          0.09148921935321751,
          0.017811792506106955,
          -0.016142663611745864,
          0.02205315120082691,
          0.013581054061174653,
          -0.08222161073994888,
          -0.06933980769408521,
          -0.09432445836336226,
          -0.0651939433378056,
          -0.09948490503869259
         ],
         "y": [
          1,
          1,
          1,
          1,
          1,
          1,
          1,
          1,
          1,
          1,
          1,
          1,
          1,
          1,
          1,
          1,
          1,
          1,
          1,
          1,
          1,
          1,
          1,
          1,
          1,
          1,
          1,
          1,
          1,
          1,
          1,
          1,
          1,
          1,
          1,
          1,
          1,
          1,
          1,
          1,
          1,
          1,
          1,
          1,
          1,
          1,
          1,
          1,
          1,
          1,
          1,
          1,
          1,
          1,
          1,
          1,
          1,
          1,
          1,
          1,
          1,
          1,
          1,
          1,
          1,
          1,
          1,
          1,
          1,
          1,
          1,
          1,
          1,
          1,
          1,
          1,
          1,
          1,
          1,
          1,
          1,
          1,
          1,
          1,
          1,
          1,
          1,
          1,
          1,
          1,
          1,
          1,
          1,
          1,
          1,
          1,
          1,
          1,
          1,
          1,
          1,
          1,
          1,
          1,
          1,
          1,
          1,
          1,
          1,
          1,
          1,
          1,
          1,
          1,
          1,
          1,
          1,
          1,
          1,
          1,
          1,
          1,
          1,
          1,
          1,
          1,
          1,
          1,
          1,
          1,
          1,
          1,
          1,
          1,
          1,
          1,
          1,
          1,
          1,
          1,
          1,
          1,
          1,
          1,
          1,
          1,
          1,
          1,
          1,
          1,
          1,
          1,
          1,
          1,
          1,
          1,
          1,
          1,
          1,
          1,
          1,
          1,
          1,
          1,
          1,
          1,
          1,
          1,
          1,
          1,
          1,
          1,
          1,
          1,
          1,
          1,
          1,
          1,
          1,
          1,
          1,
          1,
          1,
          1,
          1,
          1,
          1,
          1,
          1,
          1,
          1,
          1,
          1,
          1,
          1,
          1,
          1,
          1,
          1,
          1,
          1,
          1,
          1,
          1,
          1,
          1,
          1,
          1,
          1,
          1,
          1,
          1,
          1,
          1,
          1
         ]
        },
        {
         "hovertemplate": "<b>%{text}</b><br>Cosine Similarity: %{x:.3f}<extra></extra>",
         "marker": {
          "color": [
           "blue",
           "blue",
           "blue",
           "red",
           "red",
           "blue",
           "red",
           "blue",
           "red",
           "red",
           "red",
           "red",
           "blue",
           "blue",
           "red",
           "red",
           "blue",
           "blue",
           "blue",
           "red"
          ],
          "opacity": 0.9,
          "size": 8
         },
         "mode": "markers",
         "showlegend": false,
         "text": [
          "agreeable",
          "calm",
          "conscientious",
          "effusive",
          "flippant",
          "formal",
          "hostile",
          "introverted",
          "irreverent",
          "manic",
          "melodramatic",
          "mercurial",
          "methodical",
          "moderate",
          "passionate",
          "sassy",
          "serene",
          "serious",
          "solemn",
          "temperamental"
         ],
         "type": "scatter",
         "x": [
          0.12570307934207361,
          0.16513921170896242,
          0.15489294644071175,
          -0.1315739564277354,
          -0.1193880699073296,
          0.1392718227723405,
          -0.11359015489436212,
          0.12366560176769098,
          -0.11028457007475873,
          -0.13235524510165692,
          -0.115284567907061,
          -0.10579912036009884,
          0.12425645176223599,
          0.12158143764815471,
          -0.1106317597153636,
          -0.11405906616311155,
          0.14473917267703085,
          0.1445368542562504,
          0.138802196046628,
          -0.11932061423187408
         ],
         "y": [
          1,
          1,
          1,
          1,
          1,
          1,
          1,
          1,
          1,
          1,
          1,
          1,
          1,
          1,
          1,
          1,
          1,
          1,
          1,
          1
         ]
        },
        {
         "hoverinfo": "skip",
         "line": {
          "color": "red",
          "width": 1
         },
         "mode": "lines",
         "showlegend": false,
         "type": "scatter",
         "x": [
          -0.13235524510165692,
          -0.13235524510165692
         ],
         "y": [
          1,
          1.6
         ]
        },
        {
         "hoverinfo": "skip",
         "line": {
          "color": "red",
          "width": 1
         },
         "mode": "lines",
         "showlegend": false,
         "type": "scatter",
         "x": [
          -0.1315739564277354,
          -0.1315739564277354
         ],
         "y": [
          1,
          0.4
         ]
        },
        {
         "hoverinfo": "skip",
         "line": {
          "color": "red",
          "width": 1
         },
         "mode": "lines",
         "showlegend": false,
         "type": "scatter",
         "x": [
          -0.1193880699073296,
          -0.1193880699073296
         ],
         "y": [
          1,
          1.45
         ]
        },
        {
         "hoverinfo": "skip",
         "line": {
          "color": "red",
          "width": 1
         },
         "mode": "lines",
         "showlegend": false,
         "type": "scatter",
         "x": [
          -0.11932061423187408,
          -0.11932061423187408
         ],
         "y": [
          1,
          0.55
         ]
        },
        {
         "hoverinfo": "skip",
         "line": {
          "color": "red",
          "width": 1
         },
         "mode": "lines",
         "showlegend": false,
         "type": "scatter",
         "x": [
          -0.115284567907061,
          -0.115284567907061
         ],
         "y": [
          1,
          1.55
         ]
        },
        {
         "hoverinfo": "skip",
         "line": {
          "color": "red",
          "width": 1
         },
         "mode": "lines",
         "showlegend": false,
         "type": "scatter",
         "x": [
          -0.11405906616311155,
          -0.11405906616311155
         ],
         "y": [
          1,
          0.45
         ]
        },
        {
         "hoverinfo": "skip",
         "line": {
          "color": "red",
          "width": 1
         },
         "mode": "lines",
         "showlegend": false,
         "type": "scatter",
         "x": [
          -0.11359015489436212,
          -0.11359015489436212
         ],
         "y": [
          1,
          1.35
         ]
        },
        {
         "hoverinfo": "skip",
         "line": {
          "color": "red",
          "width": 1
         },
         "mode": "lines",
         "showlegend": false,
         "type": "scatter",
         "x": [
          -0.1106317597153636,
          -0.1106317597153636
         ],
         "y": [
          1,
          0.65
         ]
        },
        {
         "hoverinfo": "skip",
         "line": {
          "color": "red",
          "width": 1
         },
         "mode": "lines",
         "showlegend": false,
         "type": "scatter",
         "x": [
          -0.11028457007475873,
          -0.11028457007475873
         ],
         "y": [
          1,
          1.5
         ]
        },
        {
         "hoverinfo": "skip",
         "line": {
          "color": "red",
          "width": 1
         },
         "mode": "lines",
         "showlegend": false,
         "type": "scatter",
         "x": [
          -0.10579912036009884,
          -0.10579912036009884
         ],
         "y": [
          1,
          0.5
         ]
        },
        {
         "hoverinfo": "skip",
         "line": {
          "color": "blue",
          "width": 1
         },
         "mode": "lines",
         "showlegend": false,
         "type": "scatter",
         "x": [
          0.12158143764815471,
          0.12158143764815471
         ],
         "y": [
          1,
          1.4
         ]
        },
        {
         "hoverinfo": "skip",
         "line": {
          "color": "blue",
          "width": 1
         },
         "mode": "lines",
         "showlegend": false,
         "type": "scatter",
         "x": [
          0.12366560176769098,
          0.12366560176769098
         ],
         "y": [
          1,
          0.6
         ]
        },
        {
         "hoverinfo": "skip",
         "line": {
          "color": "blue",
          "width": 1
         },
         "mode": "lines",
         "showlegend": false,
         "type": "scatter",
         "x": [
          0.12425645176223599,
          0.12425645176223599
         ],
         "y": [
          1,
          1.65
         ]
        },
        {
         "hoverinfo": "skip",
         "line": {
          "color": "blue",
          "width": 1
         },
         "mode": "lines",
         "showlegend": false,
         "type": "scatter",
         "x": [
          0.12570307934207361,
          0.12570307934207361
         ],
         "y": [
          1,
          0.35
         ]
        },
        {
         "hoverinfo": "skip",
         "line": {
          "color": "blue",
          "width": 1
         },
         "mode": "lines",
         "showlegend": false,
         "type": "scatter",
         "x": [
          0.138802196046628,
          0.138802196046628
         ],
         "y": [
          1,
          1.3
         ]
        },
        {
         "hoverinfo": "skip",
         "line": {
          "color": "blue",
          "width": 1
         },
         "mode": "lines",
         "showlegend": false,
         "type": "scatter",
         "x": [
          0.1392718227723405,
          0.1392718227723405
         ],
         "y": [
          1,
          0.7
         ]
        },
        {
         "hoverinfo": "skip",
         "line": {
          "color": "blue",
          "width": 1
         },
         "mode": "lines",
         "showlegend": false,
         "type": "scatter",
         "x": [
          0.1445368542562504,
          0.1445368542562504
         ],
         "y": [
          1,
          1.58
         ]
        },
        {
         "hoverinfo": "skip",
         "line": {
          "color": "blue",
          "width": 1
         },
         "mode": "lines",
         "showlegend": false,
         "type": "scatter",
         "x": [
          0.14473917267703085,
          0.14473917267703085
         ],
         "y": [
          1,
          0.42
         ]
        },
        {
         "hoverinfo": "skip",
         "line": {
          "color": "blue",
          "width": 1
         },
         "mode": "lines",
         "showlegend": false,
         "type": "scatter",
         "x": [
          0.15489294644071175,
          0.15489294644071175
         ],
         "y": [
          1,
          1.42
         ]
        },
        {
         "hoverinfo": "skip",
         "line": {
          "color": "blue",
          "width": 1
         },
         "mode": "lines",
         "showlegend": false,
         "type": "scatter",
         "x": [
          0.16513921170896242,
          0.16513921170896242
         ],
         "y": [
          1,
          0.58
         ]
        }
       ],
       "layout": {
        "annotations": [
         {
          "bgcolor": "rgba(255, 255, 255, 0.9)",
          "bordercolor": "red",
          "borderwidth": 1,
          "font": {
           "color": "red",
           "size": 10
          },
          "showarrow": false,
          "text": "manic",
          "x": -0.13235524510165692,
          "y": 1.6
         },
         {
          "bgcolor": "rgba(255, 255, 255, 0.9)",
          "bordercolor": "red",
          "borderwidth": 1,
          "font": {
           "color": "red",
           "size": 10
          },
          "showarrow": false,
          "text": "effusive",
          "x": -0.1315739564277354,
          "y": 0.4
         },
         {
          "bgcolor": "rgba(255, 255, 255, 0.9)",
          "bordercolor": "red",
          "borderwidth": 1,
          "font": {
           "color": "red",
           "size": 10
          },
          "showarrow": false,
          "text": "flippant",
          "x": -0.1193880699073296,
          "y": 1.45
         },
         {
          "bgcolor": "rgba(255, 255, 255, 0.9)",
          "bordercolor": "red",
          "borderwidth": 1,
          "font": {
           "color": "red",
           "size": 10
          },
          "showarrow": false,
          "text": "temperamental",
          "x": -0.11932061423187408,
          "y": 0.55
         },
         {
          "bgcolor": "rgba(255, 255, 255, 0.9)",
          "bordercolor": "red",
          "borderwidth": 1,
          "font": {
           "color": "red",
           "size": 10
          },
          "showarrow": false,
          "text": "melodramatic",
          "x": -0.115284567907061,
          "y": 1.55
         },
         {
          "bgcolor": "rgba(255, 255, 255, 0.9)",
          "bordercolor": "red",
          "borderwidth": 1,
          "font": {
           "color": "red",
           "size": 10
          },
          "showarrow": false,
          "text": "sassy",
          "x": -0.11405906616311155,
          "y": 0.45
         },
         {
          "bgcolor": "rgba(255, 255, 255, 0.9)",
          "bordercolor": "red",
          "borderwidth": 1,
          "font": {
           "color": "red",
           "size": 10
          },
          "showarrow": false,
          "text": "hostile",
          "x": -0.11359015489436212,
          "y": 1.35
         },
         {
          "bgcolor": "rgba(255, 255, 255, 0.9)",
          "bordercolor": "red",
          "borderwidth": 1,
          "font": {
           "color": "red",
           "size": 10
          },
          "showarrow": false,
          "text": "passionate",
          "x": -0.1106317597153636,
          "y": 0.65
         },
         {
          "bgcolor": "rgba(255, 255, 255, 0.9)",
          "bordercolor": "red",
          "borderwidth": 1,
          "font": {
           "color": "red",
           "size": 10
          },
          "showarrow": false,
          "text": "irreverent",
          "x": -0.11028457007475873,
          "y": 1.5
         },
         {
          "bgcolor": "rgba(255, 255, 255, 0.9)",
          "bordercolor": "red",
          "borderwidth": 1,
          "font": {
           "color": "red",
           "size": 10
          },
          "showarrow": false,
          "text": "mercurial",
          "x": -0.10579912036009884,
          "y": 0.5
         },
         {
          "bgcolor": "rgba(255, 255, 255, 0.9)",
          "bordercolor": "blue",
          "borderwidth": 1,
          "font": {
           "color": "blue",
           "size": 10
          },
          "showarrow": false,
          "text": "moderate",
          "x": 0.12158143764815471,
          "y": 1.4
         },
         {
          "bgcolor": "rgba(255, 255, 255, 0.9)",
          "bordercolor": "blue",
          "borderwidth": 1,
          "font": {
           "color": "blue",
           "size": 10
          },
          "showarrow": false,
          "text": "introverted",
          "x": 0.12366560176769098,
          "y": 0.6
         },
         {
          "bgcolor": "rgba(255, 255, 255, 0.9)",
          "bordercolor": "blue",
          "borderwidth": 1,
          "font": {
           "color": "blue",
           "size": 10
          },
          "showarrow": false,
          "text": "methodical",
          "x": 0.12425645176223599,
          "y": 1.65
         },
         {
          "bgcolor": "rgba(255, 255, 255, 0.9)",
          "bordercolor": "blue",
          "borderwidth": 1,
          "font": {
           "color": "blue",
           "size": 10
          },
          "showarrow": false,
          "text": "agreeable",
          "x": 0.12570307934207361,
          "y": 0.35
         },
         {
          "bgcolor": "rgba(255, 255, 255, 0.9)",
          "bordercolor": "blue",
          "borderwidth": 1,
          "font": {
           "color": "blue",
           "size": 10
          },
          "showarrow": false,
          "text": "solemn",
          "x": 0.138802196046628,
          "y": 1.3
         },
         {
          "bgcolor": "rgba(255, 255, 255, 0.9)",
          "bordercolor": "blue",
          "borderwidth": 1,
          "font": {
           "color": "blue",
           "size": 10
          },
          "showarrow": false,
          "text": "formal",
          "x": 0.1392718227723405,
          "y": 0.7
         },
         {
          "bgcolor": "rgba(255, 255, 255, 0.9)",
          "bordercolor": "blue",
          "borderwidth": 1,
          "font": {
           "color": "blue",
           "size": 10
          },
          "showarrow": false,
          "text": "serious",
          "x": 0.1445368542562504,
          "y": 1.58
         },
         {
          "bgcolor": "rgba(255, 255, 255, 0.9)",
          "bordercolor": "blue",
          "borderwidth": 1,
          "font": {
           "color": "blue",
           "size": 10
          },
          "showarrow": false,
          "text": "serene",
          "x": 0.14473917267703085,
          "y": 0.42
         },
         {
          "bgcolor": "rgba(255, 255, 255, 0.9)",
          "bordercolor": "blue",
          "borderwidth": 1,
          "font": {
           "color": "blue",
           "size": 10
          },
          "showarrow": false,
          "text": "conscientious",
          "x": 0.15489294644071175,
          "y": 1.42
         },
         {
          "bgcolor": "rgba(255, 255, 255, 0.9)",
          "bordercolor": "blue",
          "borderwidth": 1,
          "font": {
           "color": "blue",
           "size": 10
          },
          "showarrow": false,
          "text": "calm",
          "x": 0.16513921170896242,
          "y": 0.58
         },
         {
          "bgcolor": "rgba(255, 255, 255, 0.9)",
          "bordercolor": "black",
          "borderwidth": 1,
          "font": {
           "color": "black",
           "size": 10
          },
          "showarrow": false,
          "text": "Assistant",
          "x": 0.06080242521279531,
          "y": 1.6
         }
        ],
        "height": 500,
        "shapes": [
         {
          "line": {
           "color": "gray",
           "dash": "solid",
           "width": 1
          },
          "opacity": 0.7,
          "type": "line",
          "x0": 0,
          "x1": 0,
          "xref": "x",
          "y0": 0,
          "y1": 1,
          "yref": "y domain"
         },
         {
          "line": {
           "color": "black",
           "dash": "dash",
           "width": 1
          },
          "opacity": 1,
          "type": "line",
          "x0": 0.06080242521279531,
          "x1": 0.06080242521279531,
          "xref": "x",
          "y0": 0,
          "y1": 1,
          "yref": "y domain"
         }
        ],
        "showlegend": false,
        "template": {
         "data": {
          "bar": [
           {
            "error_x": {
             "color": "#2a3f5f"
            },
            "error_y": {
             "color": "#2a3f5f"
            },
            "marker": {
             "line": {
              "color": "#E5ECF6",
              "width": 0.5
             },
             "pattern": {
              "fillmode": "overlay",
              "size": 10,
              "solidity": 0.2
             }
            },
            "type": "bar"
           }
          ],
          "barpolar": [
           {
            "marker": {
             "line": {
              "color": "#E5ECF6",
              "width": 0.5
             },
             "pattern": {
              "fillmode": "overlay",
              "size": 10,
              "solidity": 0.2
             }
            },
            "type": "barpolar"
           }
          ],
          "carpet": [
           {
            "aaxis": {
             "endlinecolor": "#2a3f5f",
             "gridcolor": "white",
             "linecolor": "white",
             "minorgridcolor": "white",
             "startlinecolor": "#2a3f5f"
            },
            "baxis": {
             "endlinecolor": "#2a3f5f",
             "gridcolor": "white",
             "linecolor": "white",
             "minorgridcolor": "white",
             "startlinecolor": "#2a3f5f"
            },
            "type": "carpet"
           }
          ],
          "choropleth": [
           {
            "colorbar": {
             "outlinewidth": 0,
             "ticks": ""
            },
            "type": "choropleth"
           }
          ],
          "contour": [
           {
            "colorbar": {
             "outlinewidth": 0,
             "ticks": ""
            },
            "colorscale": [
             [
              0,
              "#0d0887"
             ],
             [
              0.1111111111111111,
              "#46039f"
             ],
             [
              0.2222222222222222,
              "#7201a8"
             ],
             [
              0.3333333333333333,
              "#9c179e"
             ],
             [
              0.4444444444444444,
              "#bd3786"
             ],
             [
              0.5555555555555556,
              "#d8576b"
             ],
             [
              0.6666666666666666,
              "#ed7953"
             ],
             [
              0.7777777777777778,
              "#fb9f3a"
             ],
             [
              0.8888888888888888,
              "#fdca26"
             ],
             [
              1,
              "#f0f921"
             ]
            ],
            "type": "contour"
           }
          ],
          "contourcarpet": [
           {
            "colorbar": {
             "outlinewidth": 0,
             "ticks": ""
            },
            "type": "contourcarpet"
           }
          ],
          "heatmap": [
           {
            "colorbar": {
             "outlinewidth": 0,
             "ticks": ""
            },
            "colorscale": [
             [
              0,
              "#0d0887"
             ],
             [
              0.1111111111111111,
              "#46039f"
             ],
             [
              0.2222222222222222,
              "#7201a8"
             ],
             [
              0.3333333333333333,
              "#9c179e"
             ],
             [
              0.4444444444444444,
              "#bd3786"
             ],
             [
              0.5555555555555556,
              "#d8576b"
             ],
             [
              0.6666666666666666,
              "#ed7953"
             ],
             [
              0.7777777777777778,
              "#fb9f3a"
             ],
             [
              0.8888888888888888,
              "#fdca26"
             ],
             [
              1,
              "#f0f921"
             ]
            ],
            "type": "heatmap"
           }
          ],
          "heatmapgl": [
           {
            "colorbar": {
             "outlinewidth": 0,
             "ticks": ""
            },
            "colorscale": [
             [
              0,
              "#0d0887"
             ],
             [
              0.1111111111111111,
              "#46039f"
             ],
             [
              0.2222222222222222,
              "#7201a8"
             ],
             [
              0.3333333333333333,
              "#9c179e"
             ],
             [
              0.4444444444444444,
              "#bd3786"
             ],
             [
              0.5555555555555556,
              "#d8576b"
             ],
             [
              0.6666666666666666,
              "#ed7953"
             ],
             [
              0.7777777777777778,
              "#fb9f3a"
             ],
             [
              0.8888888888888888,
              "#fdca26"
             ],
             [
              1,
              "#f0f921"
             ]
            ],
            "type": "heatmapgl"
           }
          ],
          "histogram": [
           {
            "marker": {
             "pattern": {
              "fillmode": "overlay",
              "size": 10,
              "solidity": 0.2
             }
            },
            "type": "histogram"
           }
          ],
          "histogram2d": [
           {
            "colorbar": {
             "outlinewidth": 0,
             "ticks": ""
            },
            "colorscale": [
             [
              0,
              "#0d0887"
             ],
             [
              0.1111111111111111,
              "#46039f"
             ],
             [
              0.2222222222222222,
              "#7201a8"
             ],
             [
              0.3333333333333333,
              "#9c179e"
             ],
             [
              0.4444444444444444,
              "#bd3786"
             ],
             [
              0.5555555555555556,
              "#d8576b"
             ],
             [
              0.6666666666666666,
              "#ed7953"
             ],
             [
              0.7777777777777778,
              "#fb9f3a"
             ],
             [
              0.8888888888888888,
              "#fdca26"
             ],
             [
              1,
              "#f0f921"
             ]
            ],
            "type": "histogram2d"
           }
          ],
          "histogram2dcontour": [
           {
            "colorbar": {
             "outlinewidth": 0,
             "ticks": ""
            },
            "colorscale": [
             [
              0,
              "#0d0887"
             ],
             [
              0.1111111111111111,
              "#46039f"
             ],
             [
              0.2222222222222222,
              "#7201a8"
             ],
             [
              0.3333333333333333,
              "#9c179e"
             ],
             [
              0.4444444444444444,
              "#bd3786"
             ],
             [
              0.5555555555555556,
              "#d8576b"
             ],
             [
              0.6666666666666666,
              "#ed7953"
             ],
             [
              0.7777777777777778,
              "#fb9f3a"
             ],
             [
              0.8888888888888888,
              "#fdca26"
             ],
             [
              1,
              "#f0f921"
             ]
            ],
            "type": "histogram2dcontour"
           }
          ],
          "mesh3d": [
           {
            "colorbar": {
             "outlinewidth": 0,
             "ticks": ""
            },
            "type": "mesh3d"
           }
          ],
          "parcoords": [
           {
            "line": {
             "colorbar": {
              "outlinewidth": 0,
              "ticks": ""
             }
            },
            "type": "parcoords"
           }
          ],
          "pie": [
           {
            "automargin": true,
            "type": "pie"
           }
          ],
          "scatter": [
           {
            "fillpattern": {
             "fillmode": "overlay",
             "size": 10,
             "solidity": 0.2
            },
            "type": "scatter"
           }
          ],
          "scatter3d": [
           {
            "line": {
             "colorbar": {
              "outlinewidth": 0,
              "ticks": ""
             }
            },
            "marker": {
             "colorbar": {
              "outlinewidth": 0,
              "ticks": ""
             }
            },
            "type": "scatter3d"
           }
          ],
          "scattercarpet": [
           {
            "marker": {
             "colorbar": {
              "outlinewidth": 0,
              "ticks": ""
             }
            },
            "type": "scattercarpet"
           }
          ],
          "scattergeo": [
           {
            "marker": {
             "colorbar": {
              "outlinewidth": 0,
              "ticks": ""
             }
            },
            "type": "scattergeo"
           }
          ],
          "scattergl": [
           {
            "marker": {
             "colorbar": {
              "outlinewidth": 0,
              "ticks": ""
             }
            },
            "type": "scattergl"
           }
          ],
          "scattermapbox": [
           {
            "marker": {
             "colorbar": {
              "outlinewidth": 0,
              "ticks": ""
             }
            },
            "type": "scattermapbox"
           }
          ],
          "scatterpolar": [
           {
            "marker": {
             "colorbar": {
              "outlinewidth": 0,
              "ticks": ""
             }
            },
            "type": "scatterpolar"
           }
          ],
          "scatterpolargl": [
           {
            "marker": {
             "colorbar": {
              "outlinewidth": 0,
              "ticks": ""
             }
            },
            "type": "scatterpolargl"
           }
          ],
          "scatterternary": [
           {
            "marker": {
             "colorbar": {
              "outlinewidth": 0,
              "ticks": ""
             }
            },
            "type": "scatterternary"
           }
          ],
          "surface": [
           {
            "colorbar": {
             "outlinewidth": 0,
             "ticks": ""
            },
            "colorscale": [
             [
              0,
              "#0d0887"
             ],
             [
              0.1111111111111111,
              "#46039f"
             ],
             [
              0.2222222222222222,
              "#7201a8"
             ],
             [
              0.3333333333333333,
              "#9c179e"
             ],
             [
              0.4444444444444444,
              "#bd3786"
             ],
             [
              0.5555555555555556,
              "#d8576b"
             ],
             [
              0.6666666666666666,
              "#ed7953"
             ],
             [
              0.7777777777777778,
              "#fb9f3a"
             ],
             [
              0.8888888888888888,
              "#fdca26"
             ],
             [
              1,
              "#f0f921"
             ]
            ],
            "type": "surface"
           }
          ],
          "table": [
           {
            "cells": {
             "fill": {
              "color": "#EBF0F8"
             },
             "line": {
              "color": "white"
             }
            },
            "header": {
             "fill": {
              "color": "#C8D4E3"
             },
             "line": {
              "color": "white"
             }
            },
            "type": "table"
           }
          ]
         },
         "layout": {
          "annotationdefaults": {
           "arrowcolor": "#2a3f5f",
           "arrowhead": 0,
           "arrowwidth": 1
          },
          "autotypenumbers": "strict",
          "coloraxis": {
           "colorbar": {
            "outlinewidth": 0,
            "ticks": ""
           }
          },
          "colorscale": {
           "diverging": [
            [
             0,
             "#8e0152"
            ],
            [
             0.1,
             "#c51b7d"
            ],
            [
             0.2,
             "#de77ae"
            ],
            [
             0.3,
             "#f1b6da"
            ],
            [
             0.4,
             "#fde0ef"
            ],
            [
             0.5,
             "#f7f7f7"
            ],
            [
             0.6,
             "#e6f5d0"
            ],
            [
             0.7,
             "#b8e186"
            ],
            [
             0.8,
             "#7fbc41"
            ],
            [
             0.9,
             "#4d9221"
            ],
            [
             1,
             "#276419"
            ]
           ],
           "sequential": [
            [
             0,
             "#0d0887"
            ],
            [
             0.1111111111111111,
             "#46039f"
            ],
            [
             0.2222222222222222,
             "#7201a8"
            ],
            [
             0.3333333333333333,
             "#9c179e"
            ],
            [
             0.4444444444444444,
             "#bd3786"
            ],
            [
             0.5555555555555556,
             "#d8576b"
            ],
            [
             0.6666666666666666,
             "#ed7953"
            ],
            [
             0.7777777777777778,
             "#fb9f3a"
            ],
            [
             0.8888888888888888,
             "#fdca26"
            ],
            [
             1,
             "#f0f921"
            ]
           ],
           "sequentialminus": [
            [
             0,
             "#0d0887"
            ],
            [
             0.1111111111111111,
             "#46039f"
            ],
            [
             0.2222222222222222,
             "#7201a8"
            ],
            [
             0.3333333333333333,
             "#9c179e"
            ],
            [
             0.4444444444444444,
             "#bd3786"
            ],
            [
             0.5555555555555556,
             "#d8576b"
            ],
            [
             0.6666666666666666,
             "#ed7953"
            ],
            [
             0.7777777777777778,
             "#fb9f3a"
            ],
            [
             0.8888888888888888,
             "#fdca26"
            ],
            [
             1,
             "#f0f921"
            ]
           ]
          },
          "colorway": [
           "#636efa",
           "#EF553B",
           "#00cc96",
           "#ab63fa",
           "#FFA15A",
           "#19d3f3",
           "#FF6692",
           "#B6E880",
           "#FF97FF",
           "#FECB52"
          ],
          "font": {
           "color": "#2a3f5f"
          },
          "geo": {
           "bgcolor": "white",
           "lakecolor": "white",
           "landcolor": "#E5ECF6",
           "showlakes": true,
           "showland": true,
           "subunitcolor": "white"
          },
          "hoverlabel": {
           "align": "left"
          },
          "hovermode": "closest",
          "mapbox": {
           "style": "light"
          },
          "paper_bgcolor": "white",
          "plot_bgcolor": "#E5ECF6",
          "polar": {
           "angularaxis": {
            "gridcolor": "white",
            "linecolor": "white",
            "ticks": ""
           },
           "bgcolor": "#E5ECF6",
           "radialaxis": {
            "gridcolor": "white",
            "linecolor": "white",
            "ticks": ""
           }
          },
          "scene": {
           "xaxis": {
            "backgroundcolor": "#E5ECF6",
            "gridcolor": "white",
            "gridwidth": 2,
            "linecolor": "white",
            "showbackground": true,
            "ticks": "",
            "zerolinecolor": "white"
           },
           "yaxis": {
            "backgroundcolor": "#E5ECF6",
            "gridcolor": "white",
            "gridwidth": 2,
            "linecolor": "white",
            "showbackground": true,
            "ticks": "",
            "zerolinecolor": "white"
           },
           "zaxis": {
            "backgroundcolor": "#E5ECF6",
            "gridcolor": "white",
            "gridwidth": 2,
            "linecolor": "white",
            "showbackground": true,
            "ticks": "",
            "zerolinecolor": "white"
           }
          },
          "shapedefaults": {
           "line": {
            "color": "#2a3f5f"
           }
          },
          "ternary": {
           "aaxis": {
            "gridcolor": "white",
            "linecolor": "white",
            "ticks": ""
           },
           "baxis": {
            "gridcolor": "white",
            "linecolor": "white",
            "ticks": ""
           },
           "bgcolor": "#E5ECF6",
           "caxis": {
            "gridcolor": "white",
            "linecolor": "white",
            "ticks": ""
           }
          },
          "title": {
           "x": 0.05
          },
          "xaxis": {
           "automargin": true,
           "gridcolor": "white",
           "linecolor": "white",
           "ticks": "",
           "title": {
            "standoff": 15
           },
           "zerolinecolor": "white",
           "zerolinewidth": 2
          },
          "yaxis": {
           "automargin": true,
           "gridcolor": "white",
           "linecolor": "white",
           "ticks": "",
           "title": {
            "standoff": 15
           },
           "zerolinecolor": "white",
           "zerolinewidth": 2
          }
         }
        },
        "title": {
         "font": {
          "size": 16
         },
         "subtitle": {
          "text": "Gemma 2 27B, Layer 34"
         },
         "text": "PC1 Cosine Similarity with Assistant",
         "x": 0.5
        },
        "xaxis": {
         "range": [
          -0.18165313287985868,
          0.18165313287985868
         ],
         "title": {
          "text": "PC1 Cosine Similarity"
         }
        },
        "yaxis": {
         "range": [
          0.25,
          1.75
         ],
         "showticklabels": false,
         "title": {
          "text": ""
         }
        }
       }
      },
      "text/html": [
       "<div>                            <div id=\"1006a66a-0a59-4dd8-9c70-7b92ce125679\" class=\"plotly-graph-div\" style=\"height:500px; width:100%;\"></div>            <script type=\"text/javascript\">                require([\"plotly\"], function(Plotly) {                    window.PLOTLYENV=window.PLOTLYENV || {};                                    if (document.getElementById(\"1006a66a-0a59-4dd8-9c70-7b92ce125679\")) {                    Plotly.newPlot(                        \"1006a66a-0a59-4dd8-9c70-7b92ce125679\",                        [{\"hovertemplate\":\"\\u003cb\\u003e%{text}\\u003c\\u002fb\\u003e\\u003cbr\\u003eCosine Similarity: %{x:.3f}\\u003cextra\\u003e\\u003c\\u002fextra\\u003e\",\"marker\":{\"color\":[\"blue\",\"blue\",\"blue\",\"red\",\"red\",\"red\",\"red\",\"blue\",\"blue\",\"red\",\"blue\",\"red\",\"red\",\"red\",\"blue\",\"red\",\"blue\",\"blue\",\"blue\",\"red\",\"red\",\"red\",\"blue\",\"red\",\"red\",\"blue\",\"red\",\"red\",\"red\",\"blue\",\"blue\",\"blue\",\"blue\",\"blue\",\"red\",\"blue\",\"blue\",\"blue\",\"red\",\"red\",\"red\",\"blue\",\"blue\",\"red\",\"blue\",\"blue\",\"red\",\"red\",\"red\",\"red\",\"blue\",\"red\",\"blue\",\"blue\",\"red\",\"blue\",\"blue\",\"blue\",\"red\",\"blue\",\"red\",\"blue\",\"blue\",\"red\",\"red\",\"red\",\"blue\",\"red\",\"red\",\"blue\",\"blue\",\"red\",\"red\",\"red\",\"blue\",\"red\",\"red\",\"blue\",\"red\",\"blue\",\"blue\",\"blue\",\"red\",\"red\",\"red\",\"red\",\"blue\",\"red\",\"blue\",\"blue\",\"blue\",\"red\",\"blue\",\"blue\",\"blue\",\"red\",\"blue\",\"blue\",\"red\",\"red\",\"red\",\"blue\",\"red\",\"red\",\"blue\",\"blue\",\"blue\",\"red\",\"blue\",\"red\",\"red\",\"red\",\"blue\",\"blue\",\"red\",\"red\",\"red\",\"blue\",\"blue\",\"blue\",\"blue\",\"red\",\"red\",\"red\",\"blue\",\"red\",\"blue\",\"blue\",\"red\",\"red\",\"blue\",\"red\",\"red\",\"red\",\"red\",\"red\",\"red\",\"red\",\"red\",\"red\",\"blue\",\"blue\",\"red\",\"blue\",\"blue\",\"blue\",\"red\",\"red\",\"red\",\"blue\",\"blue\",\"blue\",\"blue\",\"red\",\"red\",\"red\",\"red\",\"blue\",\"red\",\"blue\",\"blue\",\"blue\",\"blue\",\"blue\",\"red\",\"red\",\"red\",\"blue\",\"red\",\"blue\",\"red\",\"red\",\"blue\",\"blue\",\"blue\",\"blue\",\"blue\",\"red\",\"red\",\"blue\",\"red\",\"red\",\"red\",\"red\",\"blue\",\"blue\",\"blue\",\"blue\",\"red\",\"red\",\"red\",\"blue\",\"blue\",\"red\",\"blue\",\"blue\",\"red\",\"blue\",\"red\",\"blue\",\"blue\",\"blue\",\"red\",\"blue\",\"blue\",\"blue\",\"blue\",\"red\",\"blue\",\"blue\",\"red\",\"red\",\"red\",\"red\",\"red\"],\"opacity\":0.7,\"size\":8},\"mode\":\"markers\",\"showlegend\":false,\"text\":[\"absolutist\",\"adaptable\",\"abstract\",\"accessible\",\"accommodating\",\"acerbic\",\"adventurous\",\"altruistic\",\"analytical\",\"animated\",\"anthropocentric\",\"anxious\",\"arrogant\",\"artistic\",\"ascetic\",\"assertive\",\"avoidant\",\"benevolent\",\"big_picture\",\"bitter\",\"blunt\",\"bombastic\",\"calculating\",\"callous\",\"casual\",\"cautious\",\"challenging\",\"chaotic\",\"charismatic\",\"chill\",\"circumspect\",\"closure_seeking\",\"collaborative\",\"collectivistic\",\"competitive\",\"conceptual\",\"conciliatory\",\"concise\",\"condescending\",\"confident\",\"confrontational\",\"constructivist\",\"contemporary\",\"contrarian\",\"convergent\",\"cosmopolitan\",\"creative\",\"critical\",\"cruel\",\"cryptic\",\"curious\",\"cynical\",\"data_driven\",\"decisive\",\"deconstructionist\",\"deontological\",\"descriptive\",\"detached\",\"deterministic\",\"diplomatic\",\"disorganized\",\"dispassionate\",\"divergent\",\"dogmatic\",\"dominant\",\"dramatic\",\"earnest\",\"eclectic\",\"edgy\",\"educational\",\"efficient\",\"elitist\",\"eloquent\",\"emotional\",\"empathetic\",\"enigmatic\",\"entertaining\",\"environmental\",\"epicurean\",\"erudite\",\"esoteric\",\"essentialist\",\"ethereal\",\"evil\",\"existentialist\",\"experiential\",\"exploratory\",\"extroverted\",\"factual\",\"fatalistic\",\"flexible\",\"flirty\",\"forgiving\",\"formalist\",\"fundamentalist\",\"futuristic\",\"generalist\",\"generous\",\"goofy\",\"grandiose\",\"gregarious\",\"grounded\",\"hedonistic\",\"historical\",\"holistic\",\"humanistic\",\"humble\",\"iconoclastic\",\"idealistic\",\"impatient\",\"improvisational\",\"impulsive\",\"inclusive\",\"independent\",\"individualistic\",\"innovative\",\"inquisitive\",\"inspirational\",\"interdisciplinary\",\"introspective\",\"intuitive\",\"ironic\",\"judgmental\",\"libertarian\",\"literal\",\"manipulative\",\"materialist\",\"meditative\",\"melancholic\",\"metaphorical\",\"meticulous\",\"militant\",\"misanthropic\",\"mischievous\",\"mystical\",\"naive\",\"narrative\",\"neurotic\",\"nihilistic\",\"nonchalant\",\"nostalgic\",\"nurturing\",\"obsessive\",\"open_ended\",\"optimistic\",\"pacifist\",\"paradoxical\",\"paranoid\",\"passive_aggressive\",\"patient\",\"pedantic\",\"pensive\",\"perfectionist\",\"pessimistic\",\"petty\",\"philosophical\",\"playful\",\"pluralist\",\"poetic\",\"practical\",\"prescriptive\",\"principled\",\"proactive\",\"problem_solving\",\"progressive\",\"provocative\",\"qualitative\",\"quantitative\",\"radical\",\"rationalist\",\"reactive\",\"rebellious\",\"reductionist\",\"regulatory\",\"reserved\",\"resilient\",\"reverent\",\"rhetorical\",\"risk_taking\",\"ritualistic\",\"romantic\",\"sarcastic\",\"sardonic\",\"savage\",\"secular\",\"skeptical\",\"socratic\",\"specialized\",\"speculative\",\"spiritual\",\"spontaneous\",\"stoic\",\"strategic\",\"stream_of_consciousness\",\"structuralist\",\"submissive\",\"subversive\",\"supportive\",\"sycophantic\",\"systems_thinker\",\"tactful\",\"technical\",\"theatrical\",\"theoretical\",\"traditional\",\"understated\",\"universalist\",\"urgent\",\"utilitarian\",\"verbose\",\"visceral\",\"whimsical\",\"witty\",\"wry\",\"zealous\"],\"x\":[0.007738620674412528,0.019286950366484534,0.022214081689646892,-0.0023928499366967504,-0.03494875287432045,-0.07661413115384677,-0.04924429924126702,0.06149607338137659,0.07354305204013967,-0.09860729408542683,0.019565241195477142,-0.07256087311601667,-0.043419521957203056,-0.05189051528864403,0.05486627203549444,-0.02729832054345868,0.03397847496302686,0.08409684945569552,0.029916394388404523,-0.09716621727832196,-0.023180225799853113,-0.05783588217693553,0.07000174175543249,-0.036052239232266914,-0.09484510747671937,0.07175534821660765,-0.019887490158909508,-0.00018609531716105626,-0.08820644253365928,0.06863513801655145,0.07707638739142184,0.007285499676370975,0.053564901198932376,0.04718278469558093,-0.06260564874887445,0.02217595212379665,0.1146575904281782,0.01927869477632004,-0.02273780791124004,-0.008080738611012717,-0.022091485906872307,0.00785986074213686,0.01444713840161316,-0.017083684646200366,0.04100282764088109,0.05220272066099869,-0.025132033799363282,-0.007928176247325896,-0.04247066101706841,-0.061986258824321974,0.028339654374907534,-0.018949963954747438,0.03997327597652129,0.012005478257408086,-0.01308029520104384,0.02248290023326322,0.0638266839945986,0.08011794483713201,-0.006139969138985661,0.11225453678915112,-0.07228035641929974,0.09656570104068954,0.009517580669513932,-0.03082668472990364,-0.0012756982515009741,-0.08568284547202411,0.09692894545377022,-0.0064769132053504345,-0.10430959552869548,0.06564003759457519,0.01572953399399609,-0.0191493841722237,-0.013747900499353718,-0.055854173908114355,0.0068238773667073285,-0.07626605873735741,-0.07436184074720925,0.04874786305397996,-0.01646689781326096,0.05303737878931529,0.008865426493660058,0.02686437560575686,-0.03124394240633972,-0.061177597081169974,-0.0008581608851407267,-0.014643434315140369,0.02215758919477688,-0.050717301199073785,0.08906960169815999,0.011208574805413676,0.05391278421075379,-0.09740594757830394,0.03116924149041308,0.07621174007861015,0.0006679328117990463,-0.005428180143097963,0.019119889903808092,0.04803093571069275,-0.09052481822648825,-0.06255834099382244,-0.05259156092118686,0.0545163539296741,-0.07090371114064412,-0.003412596879578941,0.023325028915317254,0.0351582003929763,0.03350807890447969,-0.05524178095621525,0.016825780077994797,-0.08096302248263153,-0.009488795708393368,-0.07482476194208154,0.02415495074489024,0.0414059412722641,-0.02695681053067452,-0.04523633501063052,-0.0020747270845127034,0.0608881455489125,0.013900292442334167,0.00939714452497266,0.0040603427219838,-0.08137689205242633,-0.06715726185725451,-0.000622244603538924,0.03096862898381517,-0.029303137269212454,0.033209942499799465,0.11536833556864023,-0.024700664446040445,-0.05129347429245692,0.08385994677758761,-0.06911728478861578,-0.07331188204830025,-0.07223849887313658,-0.02764560975676344,-0.01517257814875284,-0.05143512995186868,-0.09497043295109084,-0.026032820499172257,-0.08374658708953121,0.013058895147392339,0.10053616181486351,-0.03006177310250572,0.018780807648411686,0.04475540119336124,0.022387360097317035,-0.012410366917295504,-0.06451634657174057,-0.0473809837583186,0.09923556096190354,0.047582769599887,0.06046022537177705,0.06836061375234252,-0.012293761581078574,-0.05720731578066391,-0.026117775581559817,-0.0764815624149018,0.037443423837924546,-0.0693887186252044,0.004678875998201721,0.024930059943626702,0.03769784431775006,0.03061528623410055,0.03040133647246292,-0.013969570643600463,-0.03213724301620497,-0.01747640994394829,0.04750659844183801,-0.028042173633507098,0.03948315654432671,-0.02164837299337806,-0.04551622413455257,0.038675766825694166,0.07379245299007377,0.09993212292147949,0.10290739707396018,0.07231791213172056,-0.0652529901111738,-0.0330701466658006,0.08326530842236687,-0.09239765637042907,-0.06971231817152809,-0.08437525437691096,-0.09588735537416224,0.03137120389106816,0.03356261480774114,0.014097582988385616,0.04184669728403598,-0.015586198800961317,-0.03110482647837544,-0.09350341451772352,0.10370392400163696,0.0892296323503358,-0.03809565176322375,0.07523462893003606,0.013724286504255803,-0.057456258383320115,0.06876690696123337,-0.02687902267591002,0.02387855324190498,0.10203870502151283,0.0686217308659334,-0.09713864765352877,0.025435389532760665,0.0863141300688204,0.09148921935321751,0.017811792506106955,-0.016142663611745864,0.02205315120082691,0.013581054061174653,-0.08222161073994888,-0.06933980769408521,-0.09432445836336226,-0.0651939433378056,-0.09948490503869259],\"y\":[1,1,1,1,1,1,1,1,1,1,1,1,1,1,1,1,1,1,1,1,1,1,1,1,1,1,1,1,1,1,1,1,1,1,1,1,1,1,1,1,1,1,1,1,1,1,1,1,1,1,1,1,1,1,1,1,1,1,1,1,1,1,1,1,1,1,1,1,1,1,1,1,1,1,1,1,1,1,1,1,1,1,1,1,1,1,1,1,1,1,1,1,1,1,1,1,1,1,1,1,1,1,1,1,1,1,1,1,1,1,1,1,1,1,1,1,1,1,1,1,1,1,1,1,1,1,1,1,1,1,1,1,1,1,1,1,1,1,1,1,1,1,1,1,1,1,1,1,1,1,1,1,1,1,1,1,1,1,1,1,1,1,1,1,1,1,1,1,1,1,1,1,1,1,1,1,1,1,1,1,1,1,1,1,1,1,1,1,1,1,1,1,1,1,1,1,1,1,1,1,1,1,1,1,1,1,1,1,1,1,1,1,1,1,1],\"type\":\"scatter\"},{\"hovertemplate\":\"\\u003cb\\u003e%{text}\\u003c\\u002fb\\u003e\\u003cbr\\u003eCosine Similarity: %{x:.3f}\\u003cextra\\u003e\\u003c\\u002fextra\\u003e\",\"marker\":{\"color\":[\"blue\",\"blue\",\"blue\",\"red\",\"red\",\"blue\",\"red\",\"blue\",\"red\",\"red\",\"red\",\"red\",\"blue\",\"blue\",\"red\",\"red\",\"blue\",\"blue\",\"blue\",\"red\"],\"opacity\":0.9,\"size\":8},\"mode\":\"markers\",\"showlegend\":false,\"text\":[\"agreeable\",\"calm\",\"conscientious\",\"effusive\",\"flippant\",\"formal\",\"hostile\",\"introverted\",\"irreverent\",\"manic\",\"melodramatic\",\"mercurial\",\"methodical\",\"moderate\",\"passionate\",\"sassy\",\"serene\",\"serious\",\"solemn\",\"temperamental\"],\"x\":[0.12570307934207361,0.16513921170896242,0.15489294644071175,-0.1315739564277354,-0.1193880699073296,0.1392718227723405,-0.11359015489436212,0.12366560176769098,-0.11028457007475873,-0.13235524510165692,-0.115284567907061,-0.10579912036009884,0.12425645176223599,0.12158143764815471,-0.1106317597153636,-0.11405906616311155,0.14473917267703085,0.1445368542562504,0.138802196046628,-0.11932061423187408],\"y\":[1,1,1,1,1,1,1,1,1,1,1,1,1,1,1,1,1,1,1,1],\"type\":\"scatter\"},{\"hoverinfo\":\"skip\",\"line\":{\"color\":\"red\",\"width\":1},\"mode\":\"lines\",\"showlegend\":false,\"x\":[-0.13235524510165692,-0.13235524510165692],\"y\":[1.0,1.6],\"type\":\"scatter\"},{\"hoverinfo\":\"skip\",\"line\":{\"color\":\"red\",\"width\":1},\"mode\":\"lines\",\"showlegend\":false,\"x\":[-0.1315739564277354,-0.1315739564277354],\"y\":[1.0,0.4],\"type\":\"scatter\"},{\"hoverinfo\":\"skip\",\"line\":{\"color\":\"red\",\"width\":1},\"mode\":\"lines\",\"showlegend\":false,\"x\":[-0.1193880699073296,-0.1193880699073296],\"y\":[1.0,1.45],\"type\":\"scatter\"},{\"hoverinfo\":\"skip\",\"line\":{\"color\":\"red\",\"width\":1},\"mode\":\"lines\",\"showlegend\":false,\"x\":[-0.11932061423187408,-0.11932061423187408],\"y\":[1.0,0.55],\"type\":\"scatter\"},{\"hoverinfo\":\"skip\",\"line\":{\"color\":\"red\",\"width\":1},\"mode\":\"lines\",\"showlegend\":false,\"x\":[-0.115284567907061,-0.115284567907061],\"y\":[1.0,1.55],\"type\":\"scatter\"},{\"hoverinfo\":\"skip\",\"line\":{\"color\":\"red\",\"width\":1},\"mode\":\"lines\",\"showlegend\":false,\"x\":[-0.11405906616311155,-0.11405906616311155],\"y\":[1.0,0.45],\"type\":\"scatter\"},{\"hoverinfo\":\"skip\",\"line\":{\"color\":\"red\",\"width\":1},\"mode\":\"lines\",\"showlegend\":false,\"x\":[-0.11359015489436212,-0.11359015489436212],\"y\":[1.0,1.35],\"type\":\"scatter\"},{\"hoverinfo\":\"skip\",\"line\":{\"color\":\"red\",\"width\":1},\"mode\":\"lines\",\"showlegend\":false,\"x\":[-0.1106317597153636,-0.1106317597153636],\"y\":[1.0,0.65],\"type\":\"scatter\"},{\"hoverinfo\":\"skip\",\"line\":{\"color\":\"red\",\"width\":1},\"mode\":\"lines\",\"showlegend\":false,\"x\":[-0.11028457007475873,-0.11028457007475873],\"y\":[1.0,1.5],\"type\":\"scatter\"},{\"hoverinfo\":\"skip\",\"line\":{\"color\":\"red\",\"width\":1},\"mode\":\"lines\",\"showlegend\":false,\"x\":[-0.10579912036009884,-0.10579912036009884],\"y\":[1.0,0.5],\"type\":\"scatter\"},{\"hoverinfo\":\"skip\",\"line\":{\"color\":\"blue\",\"width\":1},\"mode\":\"lines\",\"showlegend\":false,\"x\":[0.12158143764815471,0.12158143764815471],\"y\":[1.0,1.4],\"type\":\"scatter\"},{\"hoverinfo\":\"skip\",\"line\":{\"color\":\"blue\",\"width\":1},\"mode\":\"lines\",\"showlegend\":false,\"x\":[0.12366560176769098,0.12366560176769098],\"y\":[1.0,0.6],\"type\":\"scatter\"},{\"hoverinfo\":\"skip\",\"line\":{\"color\":\"blue\",\"width\":1},\"mode\":\"lines\",\"showlegend\":false,\"x\":[0.12425645176223599,0.12425645176223599],\"y\":[1.0,1.65],\"type\":\"scatter\"},{\"hoverinfo\":\"skip\",\"line\":{\"color\":\"blue\",\"width\":1},\"mode\":\"lines\",\"showlegend\":false,\"x\":[0.12570307934207361,0.12570307934207361],\"y\":[1.0,0.35],\"type\":\"scatter\"},{\"hoverinfo\":\"skip\",\"line\":{\"color\":\"blue\",\"width\":1},\"mode\":\"lines\",\"showlegend\":false,\"x\":[0.138802196046628,0.138802196046628],\"y\":[1.0,1.3],\"type\":\"scatter\"},{\"hoverinfo\":\"skip\",\"line\":{\"color\":\"blue\",\"width\":1},\"mode\":\"lines\",\"showlegend\":false,\"x\":[0.1392718227723405,0.1392718227723405],\"y\":[1.0,0.7],\"type\":\"scatter\"},{\"hoverinfo\":\"skip\",\"line\":{\"color\":\"blue\",\"width\":1},\"mode\":\"lines\",\"showlegend\":false,\"x\":[0.1445368542562504,0.1445368542562504],\"y\":[1.0,1.58],\"type\":\"scatter\"},{\"hoverinfo\":\"skip\",\"line\":{\"color\":\"blue\",\"width\":1},\"mode\":\"lines\",\"showlegend\":false,\"x\":[0.14473917267703085,0.14473917267703085],\"y\":[1.0,0.42],\"type\":\"scatter\"},{\"hoverinfo\":\"skip\",\"line\":{\"color\":\"blue\",\"width\":1},\"mode\":\"lines\",\"showlegend\":false,\"x\":[0.15489294644071175,0.15489294644071175],\"y\":[1.0,1.42],\"type\":\"scatter\"},{\"hoverinfo\":\"skip\",\"line\":{\"color\":\"blue\",\"width\":1},\"mode\":\"lines\",\"showlegend\":false,\"x\":[0.16513921170896242,0.16513921170896242],\"y\":[1.0,0.58],\"type\":\"scatter\"}],                        {\"template\":{\"data\":{\"histogram2dcontour\":[{\"type\":\"histogram2dcontour\",\"colorbar\":{\"outlinewidth\":0,\"ticks\":\"\"},\"colorscale\":[[0.0,\"#0d0887\"],[0.1111111111111111,\"#46039f\"],[0.2222222222222222,\"#7201a8\"],[0.3333333333333333,\"#9c179e\"],[0.4444444444444444,\"#bd3786\"],[0.5555555555555556,\"#d8576b\"],[0.6666666666666666,\"#ed7953\"],[0.7777777777777778,\"#fb9f3a\"],[0.8888888888888888,\"#fdca26\"],[1.0,\"#f0f921\"]]}],\"choropleth\":[{\"type\":\"choropleth\",\"colorbar\":{\"outlinewidth\":0,\"ticks\":\"\"}}],\"histogram2d\":[{\"type\":\"histogram2d\",\"colorbar\":{\"outlinewidth\":0,\"ticks\":\"\"},\"colorscale\":[[0.0,\"#0d0887\"],[0.1111111111111111,\"#46039f\"],[0.2222222222222222,\"#7201a8\"],[0.3333333333333333,\"#9c179e\"],[0.4444444444444444,\"#bd3786\"],[0.5555555555555556,\"#d8576b\"],[0.6666666666666666,\"#ed7953\"],[0.7777777777777778,\"#fb9f3a\"],[0.8888888888888888,\"#fdca26\"],[1.0,\"#f0f921\"]]}],\"heatmap\":[{\"type\":\"heatmap\",\"colorbar\":{\"outlinewidth\":0,\"ticks\":\"\"},\"colorscale\":[[0.0,\"#0d0887\"],[0.1111111111111111,\"#46039f\"],[0.2222222222222222,\"#7201a8\"],[0.3333333333333333,\"#9c179e\"],[0.4444444444444444,\"#bd3786\"],[0.5555555555555556,\"#d8576b\"],[0.6666666666666666,\"#ed7953\"],[0.7777777777777778,\"#fb9f3a\"],[0.8888888888888888,\"#fdca26\"],[1.0,\"#f0f921\"]]}],\"heatmapgl\":[{\"type\":\"heatmapgl\",\"colorbar\":{\"outlinewidth\":0,\"ticks\":\"\"},\"colorscale\":[[0.0,\"#0d0887\"],[0.1111111111111111,\"#46039f\"],[0.2222222222222222,\"#7201a8\"],[0.3333333333333333,\"#9c179e\"],[0.4444444444444444,\"#bd3786\"],[0.5555555555555556,\"#d8576b\"],[0.6666666666666666,\"#ed7953\"],[0.7777777777777778,\"#fb9f3a\"],[0.8888888888888888,\"#fdca26\"],[1.0,\"#f0f921\"]]}],\"contourcarpet\":[{\"type\":\"contourcarpet\",\"colorbar\":{\"outlinewidth\":0,\"ticks\":\"\"}}],\"contour\":[{\"type\":\"contour\",\"colorbar\":{\"outlinewidth\":0,\"ticks\":\"\"},\"colorscale\":[[0.0,\"#0d0887\"],[0.1111111111111111,\"#46039f\"],[0.2222222222222222,\"#7201a8\"],[0.3333333333333333,\"#9c179e\"],[0.4444444444444444,\"#bd3786\"],[0.5555555555555556,\"#d8576b\"],[0.6666666666666666,\"#ed7953\"],[0.7777777777777778,\"#fb9f3a\"],[0.8888888888888888,\"#fdca26\"],[1.0,\"#f0f921\"]]}],\"surface\":[{\"type\":\"surface\",\"colorbar\":{\"outlinewidth\":0,\"ticks\":\"\"},\"colorscale\":[[0.0,\"#0d0887\"],[0.1111111111111111,\"#46039f\"],[0.2222222222222222,\"#7201a8\"],[0.3333333333333333,\"#9c179e\"],[0.4444444444444444,\"#bd3786\"],[0.5555555555555556,\"#d8576b\"],[0.6666666666666666,\"#ed7953\"],[0.7777777777777778,\"#fb9f3a\"],[0.8888888888888888,\"#fdca26\"],[1.0,\"#f0f921\"]]}],\"mesh3d\":[{\"type\":\"mesh3d\",\"colorbar\":{\"outlinewidth\":0,\"ticks\":\"\"}}],\"scatter\":[{\"fillpattern\":{\"fillmode\":\"overlay\",\"size\":10,\"solidity\":0.2},\"type\":\"scatter\"}],\"parcoords\":[{\"type\":\"parcoords\",\"line\":{\"colorbar\":{\"outlinewidth\":0,\"ticks\":\"\"}}}],\"scatterpolargl\":[{\"type\":\"scatterpolargl\",\"marker\":{\"colorbar\":{\"outlinewidth\":0,\"ticks\":\"\"}}}],\"bar\":[{\"error_x\":{\"color\":\"#2a3f5f\"},\"error_y\":{\"color\":\"#2a3f5f\"},\"marker\":{\"line\":{\"color\":\"#E5ECF6\",\"width\":0.5},\"pattern\":{\"fillmode\":\"overlay\",\"size\":10,\"solidity\":0.2}},\"type\":\"bar\"}],\"scattergeo\":[{\"type\":\"scattergeo\",\"marker\":{\"colorbar\":{\"outlinewidth\":0,\"ticks\":\"\"}}}],\"scatterpolar\":[{\"type\":\"scatterpolar\",\"marker\":{\"colorbar\":{\"outlinewidth\":0,\"ticks\":\"\"}}}],\"histogram\":[{\"marker\":{\"pattern\":{\"fillmode\":\"overlay\",\"size\":10,\"solidity\":0.2}},\"type\":\"histogram\"}],\"scattergl\":[{\"type\":\"scattergl\",\"marker\":{\"colorbar\":{\"outlinewidth\":0,\"ticks\":\"\"}}}],\"scatter3d\":[{\"type\":\"scatter3d\",\"line\":{\"colorbar\":{\"outlinewidth\":0,\"ticks\":\"\"}},\"marker\":{\"colorbar\":{\"outlinewidth\":0,\"ticks\":\"\"}}}],\"scattermapbox\":[{\"type\":\"scattermapbox\",\"marker\":{\"colorbar\":{\"outlinewidth\":0,\"ticks\":\"\"}}}],\"scatterternary\":[{\"type\":\"scatterternary\",\"marker\":{\"colorbar\":{\"outlinewidth\":0,\"ticks\":\"\"}}}],\"scattercarpet\":[{\"type\":\"scattercarpet\",\"marker\":{\"colorbar\":{\"outlinewidth\":0,\"ticks\":\"\"}}}],\"carpet\":[{\"aaxis\":{\"endlinecolor\":\"#2a3f5f\",\"gridcolor\":\"white\",\"linecolor\":\"white\",\"minorgridcolor\":\"white\",\"startlinecolor\":\"#2a3f5f\"},\"baxis\":{\"endlinecolor\":\"#2a3f5f\",\"gridcolor\":\"white\",\"linecolor\":\"white\",\"minorgridcolor\":\"white\",\"startlinecolor\":\"#2a3f5f\"},\"type\":\"carpet\"}],\"table\":[{\"cells\":{\"fill\":{\"color\":\"#EBF0F8\"},\"line\":{\"color\":\"white\"}},\"header\":{\"fill\":{\"color\":\"#C8D4E3\"},\"line\":{\"color\":\"white\"}},\"type\":\"table\"}],\"barpolar\":[{\"marker\":{\"line\":{\"color\":\"#E5ECF6\",\"width\":0.5},\"pattern\":{\"fillmode\":\"overlay\",\"size\":10,\"solidity\":0.2}},\"type\":\"barpolar\"}],\"pie\":[{\"automargin\":true,\"type\":\"pie\"}]},\"layout\":{\"autotypenumbers\":\"strict\",\"colorway\":[\"#636efa\",\"#EF553B\",\"#00cc96\",\"#ab63fa\",\"#FFA15A\",\"#19d3f3\",\"#FF6692\",\"#B6E880\",\"#FF97FF\",\"#FECB52\"],\"font\":{\"color\":\"#2a3f5f\"},\"hovermode\":\"closest\",\"hoverlabel\":{\"align\":\"left\"},\"paper_bgcolor\":\"white\",\"plot_bgcolor\":\"#E5ECF6\",\"polar\":{\"bgcolor\":\"#E5ECF6\",\"angularaxis\":{\"gridcolor\":\"white\",\"linecolor\":\"white\",\"ticks\":\"\"},\"radialaxis\":{\"gridcolor\":\"white\",\"linecolor\":\"white\",\"ticks\":\"\"}},\"ternary\":{\"bgcolor\":\"#E5ECF6\",\"aaxis\":{\"gridcolor\":\"white\",\"linecolor\":\"white\",\"ticks\":\"\"},\"baxis\":{\"gridcolor\":\"white\",\"linecolor\":\"white\",\"ticks\":\"\"},\"caxis\":{\"gridcolor\":\"white\",\"linecolor\":\"white\",\"ticks\":\"\"}},\"coloraxis\":{\"colorbar\":{\"outlinewidth\":0,\"ticks\":\"\"}},\"colorscale\":{\"sequential\":[[0.0,\"#0d0887\"],[0.1111111111111111,\"#46039f\"],[0.2222222222222222,\"#7201a8\"],[0.3333333333333333,\"#9c179e\"],[0.4444444444444444,\"#bd3786\"],[0.5555555555555556,\"#d8576b\"],[0.6666666666666666,\"#ed7953\"],[0.7777777777777778,\"#fb9f3a\"],[0.8888888888888888,\"#fdca26\"],[1.0,\"#f0f921\"]],\"sequentialminus\":[[0.0,\"#0d0887\"],[0.1111111111111111,\"#46039f\"],[0.2222222222222222,\"#7201a8\"],[0.3333333333333333,\"#9c179e\"],[0.4444444444444444,\"#bd3786\"],[0.5555555555555556,\"#d8576b\"],[0.6666666666666666,\"#ed7953\"],[0.7777777777777778,\"#fb9f3a\"],[0.8888888888888888,\"#fdca26\"],[1.0,\"#f0f921\"]],\"diverging\":[[0,\"#8e0152\"],[0.1,\"#c51b7d\"],[0.2,\"#de77ae\"],[0.3,\"#f1b6da\"],[0.4,\"#fde0ef\"],[0.5,\"#f7f7f7\"],[0.6,\"#e6f5d0\"],[0.7,\"#b8e186\"],[0.8,\"#7fbc41\"],[0.9,\"#4d9221\"],[1,\"#276419\"]]},\"xaxis\":{\"gridcolor\":\"white\",\"linecolor\":\"white\",\"ticks\":\"\",\"title\":{\"standoff\":15},\"zerolinecolor\":\"white\",\"automargin\":true,\"zerolinewidth\":2},\"yaxis\":{\"gridcolor\":\"white\",\"linecolor\":\"white\",\"ticks\":\"\",\"title\":{\"standoff\":15},\"zerolinecolor\":\"white\",\"automargin\":true,\"zerolinewidth\":2},\"scene\":{\"xaxis\":{\"backgroundcolor\":\"#E5ECF6\",\"gridcolor\":\"white\",\"linecolor\":\"white\",\"showbackground\":true,\"ticks\":\"\",\"zerolinecolor\":\"white\",\"gridwidth\":2},\"yaxis\":{\"backgroundcolor\":\"#E5ECF6\",\"gridcolor\":\"white\",\"linecolor\":\"white\",\"showbackground\":true,\"ticks\":\"\",\"zerolinecolor\":\"white\",\"gridwidth\":2},\"zaxis\":{\"backgroundcolor\":\"#E5ECF6\",\"gridcolor\":\"white\",\"linecolor\":\"white\",\"showbackground\":true,\"ticks\":\"\",\"zerolinecolor\":\"white\",\"gridwidth\":2}},\"shapedefaults\":{\"line\":{\"color\":\"#2a3f5f\"}},\"annotationdefaults\":{\"arrowcolor\":\"#2a3f5f\",\"arrowhead\":0,\"arrowwidth\":1},\"geo\":{\"bgcolor\":\"white\",\"landcolor\":\"#E5ECF6\",\"subunitcolor\":\"white\",\"showland\":true,\"showlakes\":true,\"lakecolor\":\"white\"},\"title\":{\"x\":0.05},\"mapbox\":{\"style\":\"light\"}}},\"annotations\":[{\"bgcolor\":\"rgba(255, 255, 255, 0.9)\",\"bordercolor\":\"red\",\"borderwidth\":1,\"font\":{\"color\":\"red\",\"size\":10},\"showarrow\":false,\"text\":\"manic\",\"x\":-0.13235524510165692,\"y\":1.6},{\"bgcolor\":\"rgba(255, 255, 255, 0.9)\",\"bordercolor\":\"red\",\"borderwidth\":1,\"font\":{\"color\":\"red\",\"size\":10},\"showarrow\":false,\"text\":\"effusive\",\"x\":-0.1315739564277354,\"y\":0.4},{\"bgcolor\":\"rgba(255, 255, 255, 0.9)\",\"bordercolor\":\"red\",\"borderwidth\":1,\"font\":{\"color\":\"red\",\"size\":10},\"showarrow\":false,\"text\":\"flippant\",\"x\":-0.1193880699073296,\"y\":1.45},{\"bgcolor\":\"rgba(255, 255, 255, 0.9)\",\"bordercolor\":\"red\",\"borderwidth\":1,\"font\":{\"color\":\"red\",\"size\":10},\"showarrow\":false,\"text\":\"temperamental\",\"x\":-0.11932061423187408,\"y\":0.55},{\"bgcolor\":\"rgba(255, 255, 255, 0.9)\",\"bordercolor\":\"red\",\"borderwidth\":1,\"font\":{\"color\":\"red\",\"size\":10},\"showarrow\":false,\"text\":\"melodramatic\",\"x\":-0.115284567907061,\"y\":1.55},{\"bgcolor\":\"rgba(255, 255, 255, 0.9)\",\"bordercolor\":\"red\",\"borderwidth\":1,\"font\":{\"color\":\"red\",\"size\":10},\"showarrow\":false,\"text\":\"sassy\",\"x\":-0.11405906616311155,\"y\":0.45},{\"bgcolor\":\"rgba(255, 255, 255, 0.9)\",\"bordercolor\":\"red\",\"borderwidth\":1,\"font\":{\"color\":\"red\",\"size\":10},\"showarrow\":false,\"text\":\"hostile\",\"x\":-0.11359015489436212,\"y\":1.35},{\"bgcolor\":\"rgba(255, 255, 255, 0.9)\",\"bordercolor\":\"red\",\"borderwidth\":1,\"font\":{\"color\":\"red\",\"size\":10},\"showarrow\":false,\"text\":\"passionate\",\"x\":-0.1106317597153636,\"y\":0.65},{\"bgcolor\":\"rgba(255, 255, 255, 0.9)\",\"bordercolor\":\"red\",\"borderwidth\":1,\"font\":{\"color\":\"red\",\"size\":10},\"showarrow\":false,\"text\":\"irreverent\",\"x\":-0.11028457007475873,\"y\":1.5},{\"bgcolor\":\"rgba(255, 255, 255, 0.9)\",\"bordercolor\":\"red\",\"borderwidth\":1,\"font\":{\"color\":\"red\",\"size\":10},\"showarrow\":false,\"text\":\"mercurial\",\"x\":-0.10579912036009884,\"y\":0.5},{\"bgcolor\":\"rgba(255, 255, 255, 0.9)\",\"bordercolor\":\"blue\",\"borderwidth\":1,\"font\":{\"color\":\"blue\",\"size\":10},\"showarrow\":false,\"text\":\"moderate\",\"x\":0.12158143764815471,\"y\":1.4},{\"bgcolor\":\"rgba(255, 255, 255, 0.9)\",\"bordercolor\":\"blue\",\"borderwidth\":1,\"font\":{\"color\":\"blue\",\"size\":10},\"showarrow\":false,\"text\":\"introverted\",\"x\":0.12366560176769098,\"y\":0.6},{\"bgcolor\":\"rgba(255, 255, 255, 0.9)\",\"bordercolor\":\"blue\",\"borderwidth\":1,\"font\":{\"color\":\"blue\",\"size\":10},\"showarrow\":false,\"text\":\"methodical\",\"x\":0.12425645176223599,\"y\":1.65},{\"bgcolor\":\"rgba(255, 255, 255, 0.9)\",\"bordercolor\":\"blue\",\"borderwidth\":1,\"font\":{\"color\":\"blue\",\"size\":10},\"showarrow\":false,\"text\":\"agreeable\",\"x\":0.12570307934207361,\"y\":0.35},{\"bgcolor\":\"rgba(255, 255, 255, 0.9)\",\"bordercolor\":\"blue\",\"borderwidth\":1,\"font\":{\"color\":\"blue\",\"size\":10},\"showarrow\":false,\"text\":\"solemn\",\"x\":0.138802196046628,\"y\":1.3},{\"bgcolor\":\"rgba(255, 255, 255, 0.9)\",\"bordercolor\":\"blue\",\"borderwidth\":1,\"font\":{\"color\":\"blue\",\"size\":10},\"showarrow\":false,\"text\":\"formal\",\"x\":0.1392718227723405,\"y\":0.7},{\"bgcolor\":\"rgba(255, 255, 255, 0.9)\",\"bordercolor\":\"blue\",\"borderwidth\":1,\"font\":{\"color\":\"blue\",\"size\":10},\"showarrow\":false,\"text\":\"serious\",\"x\":0.1445368542562504,\"y\":1.58},{\"bgcolor\":\"rgba(255, 255, 255, 0.9)\",\"bordercolor\":\"blue\",\"borderwidth\":1,\"font\":{\"color\":\"blue\",\"size\":10},\"showarrow\":false,\"text\":\"serene\",\"x\":0.14473917267703085,\"y\":0.42},{\"bgcolor\":\"rgba(255, 255, 255, 0.9)\",\"bordercolor\":\"blue\",\"borderwidth\":1,\"font\":{\"color\":\"blue\",\"size\":10},\"showarrow\":false,\"text\":\"conscientious\",\"x\":0.15489294644071175,\"y\":1.42},{\"bgcolor\":\"rgba(255, 255, 255, 0.9)\",\"bordercolor\":\"blue\",\"borderwidth\":1,\"font\":{\"color\":\"blue\",\"size\":10},\"showarrow\":false,\"text\":\"calm\",\"x\":0.16513921170896242,\"y\":0.58},{\"bgcolor\":\"rgba(255, 255, 255, 0.9)\",\"bordercolor\":\"black\",\"borderwidth\":1,\"font\":{\"color\":\"black\",\"size\":10},\"showarrow\":false,\"text\":\"Assistant\",\"x\":0.06080242521279531,\"y\":1.6}],\"shapes\":[{\"line\":{\"color\":\"gray\",\"dash\":\"solid\",\"width\":1},\"opacity\":0.7,\"type\":\"line\",\"x0\":0,\"x1\":0,\"xref\":\"x\",\"y0\":0,\"y1\":1,\"yref\":\"y domain\"},{\"line\":{\"color\":\"black\",\"dash\":\"dash\",\"width\":1},\"opacity\":1.0,\"type\":\"line\",\"x0\":0.06080242521279531,\"x1\":0.06080242521279531,\"xref\":\"x\",\"y0\":0,\"y1\":1,\"yref\":\"y domain\"}],\"title\":{\"subtitle\":{\"text\":\"Gemma 2 27B, Layer 34\"},\"font\":{\"size\":16},\"text\":\"PC1 Cosine Similarity with Assistant\",\"x\":0.5},\"height\":500,\"showlegend\":false,\"xaxis\":{\"title\":{\"text\":\"PC1 Cosine Similarity\"},\"range\":[-0.18165313287985868,0.18165313287985868]},\"yaxis\":{\"title\":{\"text\":\"\"},\"showticklabels\":false,\"range\":[0.25,1.75]}},                        {\"responsive\": true}                    ).then(function(){\n",
       "                            \n",
       "var gd = document.getElementById('1006a66a-0a59-4dd8-9c70-7b92ce125679');\n",
       "var x = new MutationObserver(function (mutations, observer) {{\n",
       "        var display = window.getComputedStyle(gd).display;\n",
       "        if (!display || display === 'none') {{\n",
       "            console.log([gd, 'removed!']);\n",
       "            Plotly.purge(gd);\n",
       "            observer.disconnect();\n",
       "        }}\n",
       "}});\n",
       "\n",
       "// Listen for the removal of the full notebook cells\n",
       "var notebookContainer = gd.closest('#notebook-container');\n",
       "if (notebookContainer) {{\n",
       "    x.observe(notebookContainer, {childList: true});\n",
       "}}\n",
       "\n",
       "// Listen for the clearing of the current output cell\n",
       "var outputEl = gd.closest('.output');\n",
       "if (outputEl) {{\n",
       "    x.observe(outputEl, {childList: true});\n",
       "}}\n",
       "\n",
       "                        })                };                });            </script>        </div>"
      ]
     },
     "metadata": {},
     "output_type": "display_data"
    },
    {
     "name": "stdout",
     "output_type": "stream",
     "text": [
      "\n",
      "Assistant Position in PCA Space:\n",
      "  PC1: 24.509\n",
      "  PC2: 4.902\n",
      "  PC3: 15.562\n",
      "  Distance from origin: 29.443\n",
      "\n",
      "Traits relative to Assistant:\n",
      "  Closest trait: collaborative (distance: 5.490)\n",
      "  Furthest trait: melodramatic (distance: 91.263)\n",
      "  Mean distance: 45.461\n",
      "  Std distance: 20.071\n"
     ]
    },
    {
     "data": {
      "application/vnd.plotly.v1+json": {
       "config": {
        "plotlyServerURL": "https://plot.ly"
       },
       "data": [
        {
         "hovertemplate": "<b>%{text}</b><br>PC1: %{x:.3f}<br>PC2: %{y:.3f}<br>PC3: %{z:.3f}<br><extra></extra>",
         "marker": {
          "color": "blue",
          "line": {
           "color": "darkblue",
           "width": 1
          },
          "opacity": 0.7,
          "size": 3
         },
         "mode": "markers+text",
         "showlegend": false,
         "text": [
          "absolutist",
          "adaptable",
          "abstract",
          "accessible",
          "accommodating",
          "acerbic",
          "adventurous",
          "agreeable",
          "altruistic",
          "analytical",
          "animated",
          "anthropocentric",
          "anxious",
          "arrogant",
          "artistic",
          "ascetic",
          "assertive",
          "avoidant",
          "benevolent",
          "big_picture",
          "bitter",
          "blunt",
          "bombastic",
          "calculating",
          "callous",
          "calm",
          "casual",
          "cautious",
          "challenging",
          "chaotic",
          "charismatic",
          "chill",
          "circumspect",
          "closure_seeking",
          "collaborative",
          "collectivistic",
          "competitive",
          "conceptual",
          "conciliatory",
          "concise",
          "condescending",
          "confident",
          "confrontational",
          "conscientious",
          "constructivist",
          "contemporary",
          "contrarian",
          "convergent",
          "cosmopolitan",
          "creative",
          "critical",
          "cruel",
          "cryptic",
          "curious",
          "cynical",
          "data_driven",
          "decisive",
          "deconstructionist",
          "deontological",
          "descriptive",
          "detached",
          "deterministic",
          "diplomatic",
          "disorganized",
          "dispassionate",
          "divergent",
          "dogmatic",
          "dominant",
          "dramatic",
          "earnest",
          "eclectic",
          "edgy",
          "educational",
          "efficient",
          "effusive",
          "elitist",
          "eloquent",
          "emotional",
          "empathetic",
          "enigmatic",
          "entertaining",
          "environmental",
          "epicurean",
          "erudite",
          "esoteric",
          "essentialist",
          "ethereal",
          "evil",
          "existentialist",
          "experiential",
          "exploratory",
          "extroverted",
          "factual",
          "fatalistic",
          "flexible",
          "flippant",
          "flirty",
          "forgiving",
          "formal",
          "formalist",
          "fundamentalist",
          "futuristic",
          "generalist",
          "generous",
          "goofy",
          "grandiose",
          "gregarious",
          "grounded",
          "hedonistic",
          "historical",
          "holistic",
          "hostile",
          "humanistic",
          "humble",
          "iconoclastic",
          "idealistic",
          "impatient",
          "improvisational",
          "impulsive",
          "inclusive",
          "independent",
          "individualistic",
          "innovative",
          "inquisitive",
          "inspirational",
          "interdisciplinary",
          "introspective",
          "introverted",
          "intuitive",
          "ironic",
          "irreverent",
          "judgmental",
          "libertarian",
          "literal",
          "manic",
          "manipulative",
          "materialist",
          "meditative",
          "melancholic",
          "melodramatic",
          "mercurial",
          "metaphorical",
          "methodical",
          "meticulous",
          "militant",
          "misanthropic",
          "mischievous",
          "moderate",
          "mystical",
          "naive",
          "narrative",
          "neurotic",
          "nihilistic",
          "nonchalant",
          "nostalgic",
          "nurturing",
          "obsessive",
          "open_ended",
          "optimistic",
          "pacifist",
          "paradoxical",
          "paranoid",
          "passionate",
          "passive_aggressive",
          "patient",
          "pedantic",
          "pensive",
          "perfectionist",
          "pessimistic",
          "petty",
          "philosophical",
          "playful",
          "pluralist",
          "poetic",
          "practical",
          "prescriptive",
          "principled",
          "proactive",
          "problem_solving",
          "progressive",
          "provocative",
          "qualitative",
          "quantitative",
          "radical",
          "rationalist",
          "reactive",
          "rebellious",
          "reductionist",
          "regulatory",
          "reserved",
          "resilient",
          "reverent",
          "rhetorical",
          "risk_taking",
          "ritualistic",
          "romantic",
          "sarcastic",
          "sardonic",
          "sassy",
          "savage",
          "secular",
          "serene",
          "serious",
          "skeptical",
          "socratic",
          "solemn",
          "specialized",
          "speculative",
          "spiritual",
          "spontaneous",
          "stoic",
          "strategic",
          "stream_of_consciousness",
          "structuralist",
          "submissive",
          "subversive",
          "supportive",
          "sycophantic",
          "systems_thinker",
          "tactful",
          "technical",
          "temperamental",
          "theatrical",
          "theoretical",
          "traditional",
          "understated",
          "universalist",
          "urgent",
          "utilitarian",
          "verbose",
          "visceral",
          "whimsical",
          "witty",
          "wry",
          "zealous"
         ],
         "textfont": {
          "size": 6
         },
         "textposition": "top center",
         "type": "scatter3d",
         "x": [
          3.113547274548199,
          7.7598882636113995,
          8.937586736882114,
          -0.9627363469873884,
          -14.061238926013072,
          -30.824836787086298,
          -19.812891746541432,
          50.57522477899989,
          24.74225572330905,
          29.58922253401651,
          -39.673539338269805,
          7.87185545887743,
          -29.194053854611766,
          -17.469357904959985,
          -20.877567107800417,
          22.07482947517674,
          -10.983173242857156,
          13.670858485703945,
          33.835424610826834,
          12.0365259044561,
          -39.0937382401217,
          -9.326303988665712,
          -23.26961882477314,
          28.164416040821056,
          -14.505214291499785,
          66.44191053808316,
          -38.159865732246715,
          28.86995994167087,
          -8.001508716742663,
          -0.07487336463832754,
          -35.48887331515521,
          27.614578346792538,
          31.010820402151396,
          2.931239120698813,
          21.55123750810285,
          18.983464479692014,
          -25.18868093352793,
          8.92224573351374,
          46.131196139939846,
          7.756566719458002,
          -9.148302110907675,
          -3.251194591026395,
          -8.888261698042697,
          62.31944057315216,
          3.1623268566353895,
          5.8126441762540635,
          -6.873429000763887,
          16.497028039137792,
          21.003179439389204,
          -10.11159205652641,
          -3.1898128342972747,
          -17.087594342901717,
          -24.93947634105456,
          11.40214223606841,
          -7.624305558634912,
          16.08279946877084,
          4.830269589462499,
          -5.262710137499746,
          9.045742864316049,
          25.679950776230267,
          32.23455694305526,
          -2.470347750951124,
          45.16435444770845,
          -29.081191106419944,
          38.85212726399716,
          3.8292918855474625,
          -12.402771018549032,
          -0.5132628902770568,
          -34.4735323281894,
          38.99827458144893,
          -2.605913418741769,
          -41.96779639832259,
          26.409533268581583,
          6.328601666554441,
          -52.937306358952426,
          -7.704540047536277,
          -5.531313645085994,
          -22.47230071875211,
          2.7455105594222258,
          -30.684793752377388,
          -29.918652991275728,
          19.613156211884018,
          -6.625271733019078,
          21.338994780383022,
          3.5669049638665906,
          10.808580361912252,
          -12.570649966996196,
          -24.61412035419926,
          -0.3452714117243661,
          -5.891621636486534,
          8.914857614880239,
          -20.40553757117756,
          35.836155728546856,
          4.509644419238142,
          21.691204337966933,
          -48.034451527339506,
          -39.190191038823095,
          12.540594890907679,
          56.03445658577899,
          30.66293924896971,
          0.2687352789670247,
          -2.183967427965751,
          7.692673359284734,
          19.32470853242589,
          -36.421645785015855,
          -25.16964718862631,
          -21.159624958982448,
          21.934043848056607,
          -28.52731331143379,
          -1.3730200975836446,
          9.384563898857484,
          -45.70172541939426,
          14.14550778713299,
          13.481599904922177,
          -22.225911279786263,
          6.769663988985359,
          -32.574564459979634,
          -3.81771057913439,
          -30.10490414445486,
          9.718473643148084,
          16.65921628961966,
          -10.84577051771121,
          -18.200332269625054,
          -0.8347431837271501,
          24.49766277509167,
          5.592626834954407,
          3.7808357529405963,
          49.755468518087966,
          1.6336333757209245,
          -32.74108024170205,
          -44.37176042448315,
          -27.019971441829068,
          -0.2503531405611914,
          12.459880697844376,
          -53.251649098268615,
          -11.78978877746768,
          13.361648064757047,
          46.417156479396844,
          -9.938035433082801,
          -46.38345349983775,
          -42.56709001592064,
          -20.637354356112205,
          49.99319038966969,
          33.74010947408742,
          -27.80856469542657,
          -29.496213879330952,
          -29.064350191965186,
          48.91692844911296,
          -11.122901164544844,
          -6.104516725973935,
          -20.694347922645854,
          -38.21028903189893,
          -10.47401348692588,
          -33.694500474416635,
          5.254100065818351,
          40.44959764563831,
          -12.095017400306745,
          7.556247415107377,
          18.00683393975498,
          9.007303361670727,
          -4.993172002764162,
          -25.957428782681504,
          -44.51144828421129,
          -19.06320765067406,
          39.92631547283483,
          19.144393921909067,
          24.32549388902007,
          27.504126586642148,
          -4.94625715294132,
          -23.0167221817764,
          -10.508194211935622,
          -30.771499241133544,
          15.064941821712079,
          -27.917773056669162,
          1.8824933053403428,
          10.030330139898565,
          15.167305049589261,
          12.317717203645348,
          12.231636915534102,
          -5.620500142590674,
          -12.930059453029616,
          -7.031437621666087,
          19.11374731038477,
          -11.282454194673589,
          15.885605409710905,
          -8.709980184815295,
          -18.31294252093826,
          15.56076120766098,
          29.68956621031332,
          40.20656936846285,
          41.403637569404644,
          29.096301226294173,
          -26.253809052630576,
          -13.305402778128702,
          33.50086339805723,
          -37.175161216779735,
          -28.04796970642001,
          -33.94743770981969,
          -45.890386611646136,
          -38.57920248966352,
          12.621852198711897,
          58.23418352820885,
          58.15278297969836,
          13.503541814224718,
          5.672004474432678,
          55.84550753743865,
          16.836549529861113,
          -6.2709323584959815,
          -12.514678232938781,
          -37.62005061124272,
          41.72411124929082,
          35.90054226742628,
          -15.327358415655512,
          30.26980953224478,
          5.521812818883023,
          -23.11688144718425,
          27.667594104489645,
          -10.814473446387407,
          9.607268206375977,
          41.0541290605741,
          27.609184130042216,
          -48.00731149253178,
          -39.08264591065542,
          10.233643835089609,
          34.727522608694855,
          36.80966176693721,
          7.166375035744647,
          -6.49481973686677,
          8.872838158816528,
          5.464184851116526,
          -33.080943335908486,
          -27.898094291849315,
          -37.95038839822401,
          -26.23005224530969,
          -40.026636266859306
         ],
         "y": [
          -9.43680495752296,
          28.40829380371273,
          0.010526718657050889,
          25.86589165722937,
          28.03041013146288,
          -44.675780224108685,
          12.217839952275979,
          40.278163934716616,
          13.695392357474946,
          -10.29608906476909,
          59.97273198350484,
          -8.149188692965037,
          -2.6059205180440026,
          -30.989154627951727,
          29.89640576679329,
          -6.363285979452144,
          -7.550273072092804,
          -1.1478970552428036,
          34.24836836448383,
          -1.0606375848043061,
          -20.13863883308192,
          -39.208954464716065,
          -19.146547472537975,
          3.799656863960789,
          -70.98513499688968,
          11.542482501437883,
          36.814014391591314,
          -13.153753851463538,
          -9.978413068906566,
          2.1752612491526016,
          51.17304646244018,
          58.89422503739147,
          23.782782269302306,
          -18.849891459966862,
          8.83231116106091,
          7.889122156805049,
          -34.584197802767214,
          -1.9777556248203063,
          21.41434649746027,
          -25.454671793762834,
          -13.819318976615005,
          -24.965338535908813,
          -35.74782812734588,
          -6.779150890058507,
          10.564381369797811,
          -0.09364746279068617,
          -7.774569923658345,
          -15.663539893368705,
          1.2819493243372988,
          12.528259654935427,
          -4.535531533393615,
          -60.37911151960852,
          -1.094712353206006,
          24.310300713063842,
          -22.96322610361546,
          -20.376009705304984,
          -26.799544549174,
          3.06977959331147,
          -2.6129978149713637,
          -11.027403948030548,
          -49.368469004802776,
          -17.972068399317276,
          13.065415258312733,
          8.075402958588686,
          -38.23712629471574,
          25.074147008701566,
          -16.502278007128435,
          -16.622257613366564,
          18.583009843971936,
          27.100143772134462,
          12.48558447781947,
          -26.009555925839553,
          13.716453123883387,
          -12.124092455211837,
          41.59916777574303,
          -22.45435737363204,
          20.008462524714894,
          44.88117336611473,
          50.62206979433582,
          5.790972934468552,
          30.243032784877755,
          -0.28702997714454354,
          6.020956186466718,
          -23.34429704458863,
          -20.716165691685518,
          -17.73119101229141,
          6.637469573627034,
          -12.378940683097074,
          11.459830475997519,
          10.824957538086602,
          35.42962552056802,
          20.43759347046284,
          -6.723207113938945,
          -9.36265661013927,
          25.03097482399248,
          -7.60141651818193,
          26.802666950755732,
          18.585011112382663,
          -36.66462755295894,
          -27.597372389714668,
          -16.936238557755512,
          3.3343954961917466,
          3.9695139575409324,
          34.826257806266725,
          6.775643721441926,
          -6.412742348880005,
          40.19269850536116,
          -12.076622421798815,
          4.169780898180102,
          -1.6140444471768571,
          6.3322692529792155,
          -45.870609663462204,
          15.974986914025767,
          13.922673856656633,
          -10.493011013741546,
          2.5534117544415937,
          -23.903682362115273,
          9.870600852621411,
          -13.386094960649134,
          8.207543745551433,
          0.11822146457308849,
          -5.843778324751256,
          4.054537422613197,
          18.969331223040626,
          27.99551337220353,
          4.208384155056191,
          21.06100590396019,
          -31.562587970778495,
          11.854215744890954,
          -9.235024392367453,
          -7.089540378308247,
          -29.037033908957667,
          -4.287463406057345,
          -22.926046272235688,
          10.538685139207104,
          -8.090926455249212,
          -16.778244969138054,
          27.008257342050573,
          -28.861750726526264,
          18.079065576878076,
          -2.50009754012166,
          27.122861813024254,
          -26.933998096410964,
          -16.372563123425124,
          -20.115859479880474,
          -25.279675501097934,
          -4.148851169001142,
          11.30651710805524,
          15.460028074093888,
          19.53935175636873,
          20.490710878380614,
          -1.7159420952362763,
          -29.094937059522195,
          -24.41636151768418,
          0.81645693605087,
          76.30462764599167,
          -11.434066942970802,
          32.57662185757625,
          19.038956739636216,
          4.253426652879455,
          11.263900143940075,
          -5.04799605908367,
          25.51951825282431,
          -22.81710740066709,
          39.27615871848175,
          -14.695814669100125,
          13.494725107839649,
          -21.468491828772773,
          -14.336199807332086,
          -17.238598817411614,
          16.629981785555998,
          23.79784837629746,
          4.272411247618821,
          33.78425531302988,
          1.2548687328096635,
          -28.457497431021885,
          -6.189400632070827,
          22.509656508313956,
          0.33290954887490243,
          2.8048435637182445,
          -4.70766163204328,
          17.3653562368795,
          -25.661634029374948,
          -6.042201389313246,
          -21.30299047801098,
          1.0270755775988893,
          2.0852484090472814,
          -8.522644768773658,
          -11.899233149602791,
          -32.460888229505606,
          7.248015918750416,
          -0.9318571816055553,
          17.802885967342355,
          5.173579176985249,
          -18.07487824248876,
          30.85593956047151,
          -35.79458365486026,
          -29.123437019773093,
          -26.18238810462972,
          -51.612789191126254,
          -11.963778001226778,
          21.37994366824478,
          -34.10021399242028,
          -12.8972064443672,
          5.773480995496062,
          -18.152439391237692,
          -21.507333250686468,
          11.594248055125556,
          20.29444303351123,
          18.378426079682782,
          -34.5091084648434,
          14.449411559929022,
          19.42800236848255,
          -19.366263529807142,
          3.984493002614186,
          0.5219220457976441,
          63.77128248021978,
          4.353170497602205,
          6.79174069367352,
          31.564126253924666,
          -27.24425405481936,
          -0.8779970556489758,
          18.149398183422356,
          -8.748987923842423,
          -5.412247301004009,
          -14.302624459311248,
          -4.593291185429081,
          -22.39471278193779,
          -5.539972007132819,
          13.648562447884068,
          -1.368139239212527,
          22.63650505680117,
          18.243579896796486,
          -33.15483204099194,
          11.64298887071538
         ],
         "z": [
          5.28664321505519,
          11.757573671869112,
          -9.451735668659992,
          40.96780386219053,
          20.36716369703442,
          -15.206038551431341,
          2.4396870755369005,
          13.302125440663687,
          5.559647434174517,
          -12.168542124742968,
          -13.24388257466181,
          11.629223503322528,
          25.291799855571423,
          -10.87906191677415,
          -17.610544530296043,
          0.0887419919219216,
          -2.1250653874869703,
          23.58524892543403,
          13.030047986277747,
          -1.5884379773279473,
          -5.30277507585801,
          11.219646854112579,
          -54.953205180982685,
          -20.496667736909046,
          9.234393193933558,
          14.03988070037825,
          54.24816217560938,
          4.722921728905341,
          -12.32158256813635,
          10.122774928765253,
          -33.5308724065282,
          36.095905592232306,
          2.2443726318523445,
          8.544296270883436,
          17.999761918129593,
          5.006435911576805,
          -7.779766445636458,
          -5.6299520889458154,
          16.403225512479636,
          28.528901041507268,
          -3.5591139853274574,
          -4.438223874259155,
          -4.945113986649781,
          -28.510537291079846,
          3.641451352346361,
          26.066006368817376,
          -8.53669725369796,
          10.43357095047849,
          -9.842799102007287,
          -1.4193434995340524,
          -3.4386351532235504,
          2.857801922398852,
          -43.10754149911885,
          -27.76616400502437,
          6.971861460541735,
          7.80931567061046,
          4.079040339937441,
          -3.5387751594374395,
          9.948135453381736,
          15.150373227992096,
          3.0336447166810983,
          -3.0030088703673226,
          12.931539044800562,
          21.422879403562956,
          6.7278145194176835,
          -6.123796270603788,
          4.632516108848149,
          -0.6257286582114246,
          -34.70921844301318,
          -26.8747272048236,
          -5.060379103279057,
          -3.1866930745431765,
          -17.648864615427687,
          24.136633413394563,
          0.7486188162557257,
          -17.140489088978835,
          -63.85008360379092,
          9.509168548543446,
          12.945977180615468,
          -34.679052681080584,
          5.6399428310030135,
          -1.712217302221368,
          -22.55257429491109,
          -42.45803024088004,
          -38.11170537979073,
          -0.6454790838074229,
          -28.752966726720242,
          11.609574573507672,
          12.813929277265139,
          23.279388145671977,
          -1.276558259883844,
          17.695109042843026,
          18.78930048325371,
          -7.283377671504246,
          24.321863390561955,
          52.307133102121156,
          -19.190570763826276,
          17.8621305100646,
          -34.15221673968033,
          -10.158442626857644,
          2.5421992357851284,
          4.733982943735052,
          6.9668745429829935,
          -22.798257576721884,
          18.423393953195426,
          -39.84444935964181,
          26.451391656971733,
          42.63322435220955,
          15.629989101096594,
          -1.5754068326238888,
          -8.700699575834834,
          5.159587683068713,
          4.977005304253827,
          29.81599882507001,
          -3.234548591441092,
          -3.8344339457785317,
          37.007902018734896,
          13.23779805020937,
          40.14582414806633,
          4.48229103570254,
          -3.6507868453263947,
          4.247333830916009,
          4.4434387741156,
          9.318143886662066,
          -2.6736462204313227,
          8.13612722142925,
          -7.987787063889537,
          -35.437901133748895,
          3.801615095003479,
          -6.788574173177723,
          22.3468530265992,
          -5.407521284485199,
          1.9359520728242499,
          27.061854018439437,
          8.098613213390093,
          10.869593304881684,
          18.539943881552833,
          -35.048283858259204,
          -13.55471335090103,
          -40.38004914134919,
          8.49906328923141,
          -20.628457634124334,
          6.76164150585644,
          -25.220020195773937,
          -0.20368781358675841,
          -7.502282434150907,
          -5.478525631816451,
          16.018150403926974,
          -15.817453388807085,
          44.034511483003214,
          -6.180763700151071,
          16.460170277191974,
          -0.2737248481544586,
          37.45270425036219,
          -5.592186434429062,
          -10.034570792902679,
          -9.115508317600092,
          23.604043258346284,
          20.451754226406678,
          7.463721663553352,
          -12.130487471992122,
          7.722076969317946,
          -19.00703952615915,
          1.2640563757857335,
          15.790479344739364,
          -16.322942634432916,
          -34.98923127444003,
          -23.631305705010845,
          6.956592782763645,
          -15.20846018966794,
          -36.10292360021738,
          14.73093543273467,
          17.152555581426135,
          -27.532739211487872,
          33.16069248903373,
          -3.9477778011980837,
          8.381783954936155,
          -15.577713874427,
          -6.2010969626603325,
          14.222095568201539,
          -8.45425789665507,
          -6.951919276152388,
          8.196708601306792,
          4.829030190831135,
          13.755875030997355,
          32.89308951620591,
          4.560321083427345,
          25.963901154467276,
          9.042360087120695,
          24.533063085474378,
          -0.8026517314641973,
          -13.616597834662619,
          -28.760728486759483,
          8.85851976339612,
          -38.12237981101005,
          -26.533878458906383,
          -10.758258616375143,
          -5.5259986998107715,
          -0.10565717212484997,
          2.1867563503305982,
          20.635980708341663,
          -1.745840280910383,
          -27.4174866797885,
          -9.04949183346388,
          14.223613214798482,
          -39.179629274157755,
          -19.426189192161743,
          -3.2181796102520974,
          -25.55850790437403,
          -5.320631009671112,
          2.0513605120018354,
          -31.322876144597643,
          4.41969610564436,
          8.941793399975284,
          29.668911384754207,
          1.8009440312434786,
          -11.64902579657303,
          14.313573537445686,
          -3.6853945142304503,
          7.137609259457552,
          -20.046503064289276,
          6.211276030614755,
          -40.60556257532822,
          -11.51348957958358,
          7.2445343428835365,
          57.374545796822225,
          7.403198841376767,
          6.867494013759476,
          14.530096150142695,
          -8.930109378318745,
          9.486618101743826,
          -16.17319678814114,
          -4.355451021756147,
          -9.434596716358367,
          -20.87823180999247
         ]
        },
        {
         "hovertemplate": "<b>Assistant</b><br>PC1: %{x:.3f}<br>PC2: %{y:.3f}<br>PC3: %{z:.3f}<br><extra></extra>",
         "marker": {
          "color": "red",
          "opacity": 1,
          "size": 5
         },
         "mode": "markers+text",
         "showlegend": false,
         "text": [
          "Assistant"
         ],
         "textfont": {
          "color": "black",
          "size": 8
         },
         "textposition": "top center",
         "type": "scatter3d",
         "x": [
          24.508519307476067
         ],
         "y": [
          4.901787180844543
         ],
         "z": [
          15.562281859131652
         ]
        }
       ],
       "layout": {
        "height": 800,
        "scene": {
         "camera": {
          "eye": {
           "x": 1.5,
           "y": 1.5,
           "z": 1.5
          }
         },
         "xaxis": {
          "title": {
           "text": "PC1 (14.9%)"
          }
         },
         "yaxis": {
          "title": {
           "text": "PC2 (11.4%)"
          }
         },
         "zaxis": {
          "title": {
           "text": "PC3 (8.5%)"
          }
         }
        },
        "showlegend": false,
        "template": {
         "data": {
          "bar": [
           {
            "error_x": {
             "color": "#2a3f5f"
            },
            "error_y": {
             "color": "#2a3f5f"
            },
            "marker": {
             "line": {
              "color": "#E5ECF6",
              "width": 0.5
             },
             "pattern": {
              "fillmode": "overlay",
              "size": 10,
              "solidity": 0.2
             }
            },
            "type": "bar"
           }
          ],
          "barpolar": [
           {
            "marker": {
             "line": {
              "color": "#E5ECF6",
              "width": 0.5
             },
             "pattern": {
              "fillmode": "overlay",
              "size": 10,
              "solidity": 0.2
             }
            },
            "type": "barpolar"
           }
          ],
          "carpet": [
           {
            "aaxis": {
             "endlinecolor": "#2a3f5f",
             "gridcolor": "white",
             "linecolor": "white",
             "minorgridcolor": "white",
             "startlinecolor": "#2a3f5f"
            },
            "baxis": {
             "endlinecolor": "#2a3f5f",
             "gridcolor": "white",
             "linecolor": "white",
             "minorgridcolor": "white",
             "startlinecolor": "#2a3f5f"
            },
            "type": "carpet"
           }
          ],
          "choropleth": [
           {
            "colorbar": {
             "outlinewidth": 0,
             "ticks": ""
            },
            "type": "choropleth"
           }
          ],
          "contour": [
           {
            "colorbar": {
             "outlinewidth": 0,
             "ticks": ""
            },
            "colorscale": [
             [
              0,
              "#0d0887"
             ],
             [
              0.1111111111111111,
              "#46039f"
             ],
             [
              0.2222222222222222,
              "#7201a8"
             ],
             [
              0.3333333333333333,
              "#9c179e"
             ],
             [
              0.4444444444444444,
              "#bd3786"
             ],
             [
              0.5555555555555556,
              "#d8576b"
             ],
             [
              0.6666666666666666,
              "#ed7953"
             ],
             [
              0.7777777777777778,
              "#fb9f3a"
             ],
             [
              0.8888888888888888,
              "#fdca26"
             ],
             [
              1,
              "#f0f921"
             ]
            ],
            "type": "contour"
           }
          ],
          "contourcarpet": [
           {
            "colorbar": {
             "outlinewidth": 0,
             "ticks": ""
            },
            "type": "contourcarpet"
           }
          ],
          "heatmap": [
           {
            "colorbar": {
             "outlinewidth": 0,
             "ticks": ""
            },
            "colorscale": [
             [
              0,
              "#0d0887"
             ],
             [
              0.1111111111111111,
              "#46039f"
             ],
             [
              0.2222222222222222,
              "#7201a8"
             ],
             [
              0.3333333333333333,
              "#9c179e"
             ],
             [
              0.4444444444444444,
              "#bd3786"
             ],
             [
              0.5555555555555556,
              "#d8576b"
             ],
             [
              0.6666666666666666,
              "#ed7953"
             ],
             [
              0.7777777777777778,
              "#fb9f3a"
             ],
             [
              0.8888888888888888,
              "#fdca26"
             ],
             [
              1,
              "#f0f921"
             ]
            ],
            "type": "heatmap"
           }
          ],
          "heatmapgl": [
           {
            "colorbar": {
             "outlinewidth": 0,
             "ticks": ""
            },
            "colorscale": [
             [
              0,
              "#0d0887"
             ],
             [
              0.1111111111111111,
              "#46039f"
             ],
             [
              0.2222222222222222,
              "#7201a8"
             ],
             [
              0.3333333333333333,
              "#9c179e"
             ],
             [
              0.4444444444444444,
              "#bd3786"
             ],
             [
              0.5555555555555556,
              "#d8576b"
             ],
             [
              0.6666666666666666,
              "#ed7953"
             ],
             [
              0.7777777777777778,
              "#fb9f3a"
             ],
             [
              0.8888888888888888,
              "#fdca26"
             ],
             [
              1,
              "#f0f921"
             ]
            ],
            "type": "heatmapgl"
           }
          ],
          "histogram": [
           {
            "marker": {
             "pattern": {
              "fillmode": "overlay",
              "size": 10,
              "solidity": 0.2
             }
            },
            "type": "histogram"
           }
          ],
          "histogram2d": [
           {
            "colorbar": {
             "outlinewidth": 0,
             "ticks": ""
            },
            "colorscale": [
             [
              0,
              "#0d0887"
             ],
             [
              0.1111111111111111,
              "#46039f"
             ],
             [
              0.2222222222222222,
              "#7201a8"
             ],
             [
              0.3333333333333333,
              "#9c179e"
             ],
             [
              0.4444444444444444,
              "#bd3786"
             ],
             [
              0.5555555555555556,
              "#d8576b"
             ],
             [
              0.6666666666666666,
              "#ed7953"
             ],
             [
              0.7777777777777778,
              "#fb9f3a"
             ],
             [
              0.8888888888888888,
              "#fdca26"
             ],
             [
              1,
              "#f0f921"
             ]
            ],
            "type": "histogram2d"
           }
          ],
          "histogram2dcontour": [
           {
            "colorbar": {
             "outlinewidth": 0,
             "ticks": ""
            },
            "colorscale": [
             [
              0,
              "#0d0887"
             ],
             [
              0.1111111111111111,
              "#46039f"
             ],
             [
              0.2222222222222222,
              "#7201a8"
             ],
             [
              0.3333333333333333,
              "#9c179e"
             ],
             [
              0.4444444444444444,
              "#bd3786"
             ],
             [
              0.5555555555555556,
              "#d8576b"
             ],
             [
              0.6666666666666666,
              "#ed7953"
             ],
             [
              0.7777777777777778,
              "#fb9f3a"
             ],
             [
              0.8888888888888888,
              "#fdca26"
             ],
             [
              1,
              "#f0f921"
             ]
            ],
            "type": "histogram2dcontour"
           }
          ],
          "mesh3d": [
           {
            "colorbar": {
             "outlinewidth": 0,
             "ticks": ""
            },
            "type": "mesh3d"
           }
          ],
          "parcoords": [
           {
            "line": {
             "colorbar": {
              "outlinewidth": 0,
              "ticks": ""
             }
            },
            "type": "parcoords"
           }
          ],
          "pie": [
           {
            "automargin": true,
            "type": "pie"
           }
          ],
          "scatter": [
           {
            "fillpattern": {
             "fillmode": "overlay",
             "size": 10,
             "solidity": 0.2
            },
            "type": "scatter"
           }
          ],
          "scatter3d": [
           {
            "line": {
             "colorbar": {
              "outlinewidth": 0,
              "ticks": ""
             }
            },
            "marker": {
             "colorbar": {
              "outlinewidth": 0,
              "ticks": ""
             }
            },
            "type": "scatter3d"
           }
          ],
          "scattercarpet": [
           {
            "marker": {
             "colorbar": {
              "outlinewidth": 0,
              "ticks": ""
             }
            },
            "type": "scattercarpet"
           }
          ],
          "scattergeo": [
           {
            "marker": {
             "colorbar": {
              "outlinewidth": 0,
              "ticks": ""
             }
            },
            "type": "scattergeo"
           }
          ],
          "scattergl": [
           {
            "marker": {
             "colorbar": {
              "outlinewidth": 0,
              "ticks": ""
             }
            },
            "type": "scattergl"
           }
          ],
          "scattermapbox": [
           {
            "marker": {
             "colorbar": {
              "outlinewidth": 0,
              "ticks": ""
             }
            },
            "type": "scattermapbox"
           }
          ],
          "scatterpolar": [
           {
            "marker": {
             "colorbar": {
              "outlinewidth": 0,
              "ticks": ""
             }
            },
            "type": "scatterpolar"
           }
          ],
          "scatterpolargl": [
           {
            "marker": {
             "colorbar": {
              "outlinewidth": 0,
              "ticks": ""
             }
            },
            "type": "scatterpolargl"
           }
          ],
          "scatterternary": [
           {
            "marker": {
             "colorbar": {
              "outlinewidth": 0,
              "ticks": ""
             }
            },
            "type": "scatterternary"
           }
          ],
          "surface": [
           {
            "colorbar": {
             "outlinewidth": 0,
             "ticks": ""
            },
            "colorscale": [
             [
              0,
              "#0d0887"
             ],
             [
              0.1111111111111111,
              "#46039f"
             ],
             [
              0.2222222222222222,
              "#7201a8"
             ],
             [
              0.3333333333333333,
              "#9c179e"
             ],
             [
              0.4444444444444444,
              "#bd3786"
             ],
             [
              0.5555555555555556,
              "#d8576b"
             ],
             [
              0.6666666666666666,
              "#ed7953"
             ],
             [
              0.7777777777777778,
              "#fb9f3a"
             ],
             [
              0.8888888888888888,
              "#fdca26"
             ],
             [
              1,
              "#f0f921"
             ]
            ],
            "type": "surface"
           }
          ],
          "table": [
           {
            "cells": {
             "fill": {
              "color": "#EBF0F8"
             },
             "line": {
              "color": "white"
             }
            },
            "header": {
             "fill": {
              "color": "#C8D4E3"
             },
             "line": {
              "color": "white"
             }
            },
            "type": "table"
           }
          ]
         },
         "layout": {
          "annotationdefaults": {
           "arrowcolor": "#2a3f5f",
           "arrowhead": 0,
           "arrowwidth": 1
          },
          "autotypenumbers": "strict",
          "coloraxis": {
           "colorbar": {
            "outlinewidth": 0,
            "ticks": ""
           }
          },
          "colorscale": {
           "diverging": [
            [
             0,
             "#8e0152"
            ],
            [
             0.1,
             "#c51b7d"
            ],
            [
             0.2,
             "#de77ae"
            ],
            [
             0.3,
             "#f1b6da"
            ],
            [
             0.4,
             "#fde0ef"
            ],
            [
             0.5,
             "#f7f7f7"
            ],
            [
             0.6,
             "#e6f5d0"
            ],
            [
             0.7,
             "#b8e186"
            ],
            [
             0.8,
             "#7fbc41"
            ],
            [
             0.9,
             "#4d9221"
            ],
            [
             1,
             "#276419"
            ]
           ],
           "sequential": [
            [
             0,
             "#0d0887"
            ],
            [
             0.1111111111111111,
             "#46039f"
            ],
            [
             0.2222222222222222,
             "#7201a8"
            ],
            [
             0.3333333333333333,
             "#9c179e"
            ],
            [
             0.4444444444444444,
             "#bd3786"
            ],
            [
             0.5555555555555556,
             "#d8576b"
            ],
            [
             0.6666666666666666,
             "#ed7953"
            ],
            [
             0.7777777777777778,
             "#fb9f3a"
            ],
            [
             0.8888888888888888,
             "#fdca26"
            ],
            [
             1,
             "#f0f921"
            ]
           ],
           "sequentialminus": [
            [
             0,
             "#0d0887"
            ],
            [
             0.1111111111111111,
             "#46039f"
            ],
            [
             0.2222222222222222,
             "#7201a8"
            ],
            [
             0.3333333333333333,
             "#9c179e"
            ],
            [
             0.4444444444444444,
             "#bd3786"
            ],
            [
             0.5555555555555556,
             "#d8576b"
            ],
            [
             0.6666666666666666,
             "#ed7953"
            ],
            [
             0.7777777777777778,
             "#fb9f3a"
            ],
            [
             0.8888888888888888,
             "#fdca26"
            ],
            [
             1,
             "#f0f921"
            ]
           ]
          },
          "colorway": [
           "#636efa",
           "#EF553B",
           "#00cc96",
           "#ab63fa",
           "#FFA15A",
           "#19d3f3",
           "#FF6692",
           "#B6E880",
           "#FF97FF",
           "#FECB52"
          ],
          "font": {
           "color": "#2a3f5f"
          },
          "geo": {
           "bgcolor": "white",
           "lakecolor": "white",
           "landcolor": "#E5ECF6",
           "showlakes": true,
           "showland": true,
           "subunitcolor": "white"
          },
          "hoverlabel": {
           "align": "left"
          },
          "hovermode": "closest",
          "mapbox": {
           "style": "light"
          },
          "paper_bgcolor": "white",
          "plot_bgcolor": "#E5ECF6",
          "polar": {
           "angularaxis": {
            "gridcolor": "white",
            "linecolor": "white",
            "ticks": ""
           },
           "bgcolor": "#E5ECF6",
           "radialaxis": {
            "gridcolor": "white",
            "linecolor": "white",
            "ticks": ""
           }
          },
          "scene": {
           "xaxis": {
            "backgroundcolor": "#E5ECF6",
            "gridcolor": "white",
            "gridwidth": 2,
            "linecolor": "white",
            "showbackground": true,
            "ticks": "",
            "zerolinecolor": "white"
           },
           "yaxis": {
            "backgroundcolor": "#E5ECF6",
            "gridcolor": "white",
            "gridwidth": 2,
            "linecolor": "white",
            "showbackground": true,
            "ticks": "",
            "zerolinecolor": "white"
           },
           "zaxis": {
            "backgroundcolor": "#E5ECF6",
            "gridcolor": "white",
            "gridwidth": 2,
            "linecolor": "white",
            "showbackground": true,
            "ticks": "",
            "zerolinecolor": "white"
           }
          },
          "shapedefaults": {
           "line": {
            "color": "#2a3f5f"
           }
          },
          "ternary": {
           "aaxis": {
            "gridcolor": "white",
            "linecolor": "white",
            "ticks": ""
           },
           "baxis": {
            "gridcolor": "white",
            "linecolor": "white",
            "ticks": ""
           },
           "bgcolor": "#E5ECF6",
           "caxis": {
            "gridcolor": "white",
            "linecolor": "white",
            "ticks": ""
           }
          },
          "title": {
           "x": 0.05
          },
          "xaxis": {
           "automargin": true,
           "gridcolor": "white",
           "linecolor": "white",
           "ticks": "",
           "title": {
            "standoff": 15
           },
           "zerolinecolor": "white",
           "zerolinewidth": 2
          },
          "yaxis": {
           "automargin": true,
           "gridcolor": "white",
           "linecolor": "white",
           "ticks": "",
           "title": {
            "standoff": 15
           },
           "zerolinecolor": "white",
           "zerolinewidth": 2
          }
         }
        },
        "title": {
         "subtitle": {
          "text": "Gemma 2 27B, Layer 34"
         },
         "text": "Trait Vectors in Principal Component Space with Assistant"
        },
        "width": 1000
       }
      },
      "text/html": [
       "<div>                            <div id=\"caa86dbd-2df5-4b36-820e-d90420b1ca75\" class=\"plotly-graph-div\" style=\"height:800px; width:1000px;\"></div>            <script type=\"text/javascript\">                require([\"plotly\"], function(Plotly) {                    window.PLOTLYENV=window.PLOTLYENV || {};                                    if (document.getElementById(\"caa86dbd-2df5-4b36-820e-d90420b1ca75\")) {                    Plotly.newPlot(                        \"caa86dbd-2df5-4b36-820e-d90420b1ca75\",                        [{\"hovertemplate\":\"\\u003cb\\u003e%{text}\\u003c\\u002fb\\u003e\\u003cbr\\u003ePC1: %{x:.3f}\\u003cbr\\u003ePC2: %{y:.3f}\\u003cbr\\u003ePC3: %{z:.3f}\\u003cbr\\u003e\\u003cextra\\u003e\\u003c\\u002fextra\\u003e\",\"marker\":{\"color\":\"blue\",\"line\":{\"color\":\"darkblue\",\"width\":1},\"opacity\":0.7,\"size\":3},\"mode\":\"markers+text\",\"showlegend\":false,\"text\":[\"absolutist\",\"adaptable\",\"abstract\",\"accessible\",\"accommodating\",\"acerbic\",\"adventurous\",\"agreeable\",\"altruistic\",\"analytical\",\"animated\",\"anthropocentric\",\"anxious\",\"arrogant\",\"artistic\",\"ascetic\",\"assertive\",\"avoidant\",\"benevolent\",\"big_picture\",\"bitter\",\"blunt\",\"bombastic\",\"calculating\",\"callous\",\"calm\",\"casual\",\"cautious\",\"challenging\",\"chaotic\",\"charismatic\",\"chill\",\"circumspect\",\"closure_seeking\",\"collaborative\",\"collectivistic\",\"competitive\",\"conceptual\",\"conciliatory\",\"concise\",\"condescending\",\"confident\",\"confrontational\",\"conscientious\",\"constructivist\",\"contemporary\",\"contrarian\",\"convergent\",\"cosmopolitan\",\"creative\",\"critical\",\"cruel\",\"cryptic\",\"curious\",\"cynical\",\"data_driven\",\"decisive\",\"deconstructionist\",\"deontological\",\"descriptive\",\"detached\",\"deterministic\",\"diplomatic\",\"disorganized\",\"dispassionate\",\"divergent\",\"dogmatic\",\"dominant\",\"dramatic\",\"earnest\",\"eclectic\",\"edgy\",\"educational\",\"efficient\",\"effusive\",\"elitist\",\"eloquent\",\"emotional\",\"empathetic\",\"enigmatic\",\"entertaining\",\"environmental\",\"epicurean\",\"erudite\",\"esoteric\",\"essentialist\",\"ethereal\",\"evil\",\"existentialist\",\"experiential\",\"exploratory\",\"extroverted\",\"factual\",\"fatalistic\",\"flexible\",\"flippant\",\"flirty\",\"forgiving\",\"formal\",\"formalist\",\"fundamentalist\",\"futuristic\",\"generalist\",\"generous\",\"goofy\",\"grandiose\",\"gregarious\",\"grounded\",\"hedonistic\",\"historical\",\"holistic\",\"hostile\",\"humanistic\",\"humble\",\"iconoclastic\",\"idealistic\",\"impatient\",\"improvisational\",\"impulsive\",\"inclusive\",\"independent\",\"individualistic\",\"innovative\",\"inquisitive\",\"inspirational\",\"interdisciplinary\",\"introspective\",\"introverted\",\"intuitive\",\"ironic\",\"irreverent\",\"judgmental\",\"libertarian\",\"literal\",\"manic\",\"manipulative\",\"materialist\",\"meditative\",\"melancholic\",\"melodramatic\",\"mercurial\",\"metaphorical\",\"methodical\",\"meticulous\",\"militant\",\"misanthropic\",\"mischievous\",\"moderate\",\"mystical\",\"naive\",\"narrative\",\"neurotic\",\"nihilistic\",\"nonchalant\",\"nostalgic\",\"nurturing\",\"obsessive\",\"open_ended\",\"optimistic\",\"pacifist\",\"paradoxical\",\"paranoid\",\"passionate\",\"passive_aggressive\",\"patient\",\"pedantic\",\"pensive\",\"perfectionist\",\"pessimistic\",\"petty\",\"philosophical\",\"playful\",\"pluralist\",\"poetic\",\"practical\",\"prescriptive\",\"principled\",\"proactive\",\"problem_solving\",\"progressive\",\"provocative\",\"qualitative\",\"quantitative\",\"radical\",\"rationalist\",\"reactive\",\"rebellious\",\"reductionist\",\"regulatory\",\"reserved\",\"resilient\",\"reverent\",\"rhetorical\",\"risk_taking\",\"ritualistic\",\"romantic\",\"sarcastic\",\"sardonic\",\"sassy\",\"savage\",\"secular\",\"serene\",\"serious\",\"skeptical\",\"socratic\",\"solemn\",\"specialized\",\"speculative\",\"spiritual\",\"spontaneous\",\"stoic\",\"strategic\",\"stream_of_consciousness\",\"structuralist\",\"submissive\",\"subversive\",\"supportive\",\"sycophantic\",\"systems_thinker\",\"tactful\",\"technical\",\"temperamental\",\"theatrical\",\"theoretical\",\"traditional\",\"understated\",\"universalist\",\"urgent\",\"utilitarian\",\"verbose\",\"visceral\",\"whimsical\",\"witty\",\"wry\",\"zealous\"],\"textfont\":{\"size\":6},\"textposition\":\"top center\",\"x\":[3.113547274548199,7.7598882636113995,8.937586736882114,-0.9627363469873884,-14.061238926013072,-30.824836787086298,-19.812891746541432,50.57522477899989,24.74225572330905,29.58922253401651,-39.673539338269805,7.87185545887743,-29.194053854611766,-17.469357904959985,-20.877567107800417,22.07482947517674,-10.983173242857156,13.670858485703945,33.835424610826834,12.0365259044561,-39.0937382401217,-9.326303988665712,-23.26961882477314,28.164416040821056,-14.505214291499785,66.44191053808316,-38.159865732246715,28.86995994167087,-8.001508716742663,-0.07487336463832754,-35.48887331515521,27.614578346792538,31.010820402151396,2.931239120698813,21.55123750810285,18.983464479692014,-25.18868093352793,8.92224573351374,46.131196139939846,7.756566719458002,-9.148302110907675,-3.251194591026395,-8.888261698042697,62.31944057315216,3.1623268566353895,5.8126441762540635,-6.873429000763887,16.497028039137792,21.003179439389204,-10.11159205652641,-3.1898128342972747,-17.087594342901717,-24.93947634105456,11.40214223606841,-7.624305558634912,16.08279946877084,4.830269589462499,-5.262710137499746,9.045742864316049,25.679950776230267,32.23455694305526,-2.470347750951124,45.16435444770845,-29.081191106419944,38.85212726399716,3.8292918855474625,-12.402771018549032,-0.5132628902770568,-34.4735323281894,38.99827458144893,-2.605913418741769,-41.96779639832259,26.409533268581583,6.328601666554441,-52.937306358952426,-7.704540047536277,-5.531313645085994,-22.47230071875211,2.7455105594222258,-30.684793752377388,-29.918652991275728,19.613156211884018,-6.625271733019078,21.338994780383022,3.5669049638665906,10.808580361912252,-12.570649966996196,-24.61412035419926,-0.3452714117243661,-5.891621636486534,8.914857614880239,-20.40553757117756,35.836155728546856,4.509644419238142,21.691204337966933,-48.034451527339506,-39.190191038823095,12.540594890907679,56.03445658577899,30.66293924896971,0.2687352789670247,-2.183967427965751,7.692673359284734,19.32470853242589,-36.421645785015855,-25.16964718862631,-21.159624958982448,21.934043848056607,-28.52731331143379,-1.3730200975836446,9.384563898857484,-45.70172541939426,14.14550778713299,13.481599904922177,-22.225911279786263,6.769663988985359,-32.574564459979634,-3.81771057913439,-30.10490414445486,9.718473643148084,16.65921628961966,-10.84577051771121,-18.200332269625054,-0.8347431837271501,24.49766277509167,5.592626834954407,3.7808357529405963,49.755468518087966,1.6336333757209245,-32.74108024170205,-44.37176042448315,-27.019971441829068,-0.2503531405611914,12.459880697844376,-53.251649098268615,-11.78978877746768,13.361648064757047,46.417156479396844,-9.938035433082801,-46.38345349983775,-42.56709001592064,-20.637354356112205,49.99319038966969,33.74010947408742,-27.80856469542657,-29.496213879330952,-29.064350191965186,48.91692844911296,-11.122901164544844,-6.104516725973935,-20.694347922645854,-38.21028903189893,-10.47401348692588,-33.694500474416635,5.254100065818351,40.44959764563831,-12.095017400306745,7.556247415107377,18.00683393975498,9.007303361670727,-4.993172002764162,-25.957428782681504,-44.51144828421129,-19.06320765067406,39.92631547283483,19.144393921909067,24.32549388902007,27.504126586642148,-4.94625715294132,-23.0167221817764,-10.508194211935622,-30.771499241133544,15.064941821712079,-27.917773056669162,1.8824933053403428,10.030330139898565,15.167305049589261,12.317717203645348,12.231636915534102,-5.620500142590674,-12.930059453029616,-7.031437621666087,19.11374731038477,-11.282454194673589,15.885605409710905,-8.709980184815295,-18.31294252093826,15.56076120766098,29.68956621031332,40.20656936846285,41.403637569404644,29.096301226294173,-26.253809052630576,-13.305402778128702,33.50086339805723,-37.175161216779735,-28.04796970642001,-33.94743770981969,-45.890386611646136,-38.57920248966352,12.621852198711897,58.23418352820885,58.15278297969836,13.503541814224718,5.672004474432678,55.84550753743865,16.836549529861113,-6.2709323584959815,-12.514678232938781,-37.62005061124272,41.72411124929082,35.90054226742628,-15.327358415655512,30.26980953224478,5.521812818883023,-23.11688144718425,27.667594104489645,-10.814473446387407,9.607268206375977,41.0541290605741,27.609184130042216,-48.00731149253178,-39.08264591065542,10.233643835089609,34.727522608694855,36.80966176693721,7.166375035744647,-6.49481973686677,8.872838158816528,5.464184851116526,-33.080943335908486,-27.898094291849315,-37.95038839822401,-26.23005224530969,-40.026636266859306],\"y\":[-9.43680495752296,28.40829380371273,0.010526718657050889,25.86589165722937,28.03041013146288,-44.675780224108685,12.217839952275979,40.278163934716616,13.695392357474946,-10.29608906476909,59.97273198350484,-8.149188692965037,-2.6059205180440026,-30.989154627951727,29.89640576679329,-6.363285979452144,-7.550273072092804,-1.1478970552428036,34.24836836448383,-1.0606375848043061,-20.13863883308192,-39.208954464716065,-19.146547472537975,3.799656863960789,-70.98513499688968,11.542482501437883,36.814014391591314,-13.153753851463538,-9.978413068906566,2.1752612491526016,51.17304646244018,58.89422503739147,23.782782269302306,-18.849891459966862,8.83231116106091,7.889122156805049,-34.584197802767214,-1.9777556248203063,21.41434649746027,-25.454671793762834,-13.819318976615005,-24.965338535908813,-35.74782812734588,-6.779150890058507,10.564381369797811,-0.09364746279068617,-7.774569923658345,-15.663539893368705,1.2819493243372988,12.528259654935427,-4.535531533393615,-60.37911151960852,-1.094712353206006,24.310300713063842,-22.96322610361546,-20.376009705304984,-26.799544549174,3.06977959331147,-2.6129978149713637,-11.027403948030548,-49.368469004802776,-17.972068399317276,13.065415258312733,8.075402958588686,-38.23712629471574,25.074147008701566,-16.502278007128435,-16.622257613366564,18.583009843971936,27.100143772134462,12.48558447781947,-26.009555925839553,13.716453123883387,-12.124092455211837,41.59916777574303,-22.45435737363204,20.008462524714894,44.88117336611473,50.62206979433582,5.790972934468552,30.243032784877755,-0.28702997714454354,6.020956186466718,-23.34429704458863,-20.716165691685518,-17.73119101229141,6.637469573627034,-12.378940683097074,11.459830475997519,10.824957538086602,35.42962552056802,20.43759347046284,-6.723207113938945,-9.36265661013927,25.03097482399248,-7.60141651818193,26.802666950755732,18.585011112382663,-36.66462755295894,-27.597372389714668,-16.936238557755512,3.3343954961917466,3.9695139575409324,34.826257806266725,6.775643721441926,-6.412742348880005,40.19269850536116,-12.076622421798815,4.169780898180102,-1.6140444471768571,6.3322692529792155,-45.870609663462204,15.974986914025767,13.922673856656633,-10.493011013741546,2.5534117544415937,-23.903682362115273,9.870600852621411,-13.386094960649134,8.207543745551433,0.11822146457308849,-5.843778324751256,4.054537422613197,18.969331223040626,27.99551337220353,4.208384155056191,21.06100590396019,-31.562587970778495,11.854215744890954,-9.235024392367453,-7.089540378308247,-29.037033908957667,-4.287463406057345,-22.926046272235688,10.538685139207104,-8.090926455249212,-16.778244969138054,27.008257342050573,-28.861750726526264,18.079065576878076,-2.50009754012166,27.122861813024254,-26.933998096410964,-16.372563123425124,-20.115859479880474,-25.279675501097934,-4.148851169001142,11.30651710805524,15.460028074093888,19.53935175636873,20.490710878380614,-1.7159420952362763,-29.094937059522195,-24.41636151768418,0.81645693605087,76.30462764599167,-11.434066942970802,32.57662185757625,19.038956739636216,4.253426652879455,11.263900143940075,-5.04799605908367,25.51951825282431,-22.81710740066709,39.27615871848175,-14.695814669100125,13.494725107839649,-21.468491828772773,-14.336199807332086,-17.238598817411614,16.629981785555998,23.79784837629746,4.272411247618821,33.78425531302988,1.2548687328096635,-28.457497431021885,-6.189400632070827,22.509656508313956,0.33290954887490243,2.8048435637182445,-4.70766163204328,17.3653562368795,-25.661634029374948,-6.042201389313246,-21.30299047801098,1.0270755775988893,2.0852484090472814,-8.522644768773658,-11.899233149602791,-32.460888229505606,7.248015918750416,-0.9318571816055553,17.802885967342355,5.173579176985249,-18.07487824248876,30.85593956047151,-35.79458365486026,-29.123437019773093,-26.18238810462972,-51.612789191126254,-11.963778001226778,21.37994366824478,-34.10021399242028,-12.8972064443672,5.773480995496062,-18.152439391237692,-21.507333250686468,11.594248055125556,20.29444303351123,18.378426079682782,-34.5091084648434,14.449411559929022,19.42800236848255,-19.366263529807142,3.984493002614186,0.5219220457976441,63.77128248021978,4.353170497602205,6.79174069367352,31.564126253924666,-27.24425405481936,-0.8779970556489758,18.149398183422356,-8.748987923842423,-5.412247301004009,-14.302624459311248,-4.593291185429081,-22.39471278193779,-5.539972007132819,13.648562447884068,-1.368139239212527,22.63650505680117,18.243579896796486,-33.15483204099194,11.64298887071538],\"z\":[5.28664321505519,11.757573671869112,-9.451735668659992,40.96780386219053,20.36716369703442,-15.206038551431341,2.4396870755369005,13.302125440663687,5.559647434174517,-12.168542124742968,-13.24388257466181,11.629223503322528,25.291799855571423,-10.87906191677415,-17.610544530296043,0.0887419919219216,-2.1250653874869703,23.58524892543403,13.030047986277747,-1.5884379773279473,-5.30277507585801,11.219646854112579,-54.953205180982685,-20.496667736909046,9.234393193933558,14.03988070037825,54.24816217560938,4.722921728905341,-12.32158256813635,10.122774928765253,-33.5308724065282,36.095905592232306,2.2443726318523445,8.544296270883436,17.999761918129593,5.006435911576805,-7.779766445636458,-5.6299520889458154,16.403225512479636,28.528901041507268,-3.5591139853274574,-4.438223874259155,-4.945113986649781,-28.510537291079846,3.641451352346361,26.066006368817376,-8.53669725369796,10.43357095047849,-9.842799102007287,-1.4193434995340524,-3.4386351532235504,2.857801922398852,-43.10754149911885,-27.76616400502437,6.971861460541735,7.80931567061046,4.079040339937441,-3.5387751594374395,9.948135453381736,15.150373227992096,3.0336447166810983,-3.0030088703673226,12.931539044800562,21.422879403562956,6.7278145194176835,-6.123796270603788,4.632516108848149,-0.6257286582114246,-34.70921844301318,-26.8747272048236,-5.060379103279057,-3.1866930745431765,-17.648864615427687,24.136633413394563,0.7486188162557257,-17.140489088978835,-63.85008360379092,9.509168548543446,12.945977180615468,-34.679052681080584,5.6399428310030135,-1.712217302221368,-22.55257429491109,-42.45803024088004,-38.11170537979073,-0.6454790838074229,-28.752966726720242,11.609574573507672,12.813929277265139,23.279388145671977,-1.276558259883844,17.695109042843026,18.78930048325371,-7.283377671504246,24.321863390561955,52.307133102121156,-19.190570763826276,17.8621305100646,-34.15221673968033,-10.158442626857644,2.5421992357851284,4.733982943735052,6.9668745429829935,-22.798257576721884,18.423393953195426,-39.84444935964181,26.451391656971733,42.63322435220955,15.629989101096594,-1.5754068326238888,-8.700699575834834,5.159587683068713,4.977005304253827,29.81599882507001,-3.234548591441092,-3.8344339457785317,37.007902018734896,13.23779805020937,40.14582414806633,4.48229103570254,-3.6507868453263947,4.247333830916009,4.4434387741156,9.318143886662066,-2.6736462204313227,8.13612722142925,-7.987787063889537,-35.437901133748895,3.801615095003479,-6.788574173177723,22.3468530265992,-5.407521284485199,1.9359520728242499,27.061854018439437,8.098613213390093,10.869593304881684,18.539943881552833,-35.048283858259204,-13.55471335090103,-40.38004914134919,8.49906328923141,-20.628457634124334,6.76164150585644,-25.220020195773937,-0.20368781358675841,-7.502282434150907,-5.478525631816451,16.018150403926974,-15.817453388807085,44.034511483003214,-6.180763700151071,16.460170277191974,-0.2737248481544586,37.45270425036219,-5.592186434429062,-10.034570792902679,-9.115508317600092,23.604043258346284,20.451754226406678,7.463721663553352,-12.130487471992122,7.722076969317946,-19.00703952615915,1.2640563757857335,15.790479344739364,-16.322942634432916,-34.98923127444003,-23.631305705010845,6.956592782763645,-15.20846018966794,-36.10292360021738,14.73093543273467,17.152555581426135,-27.532739211487872,33.16069248903373,-3.9477778011980837,8.381783954936155,-15.577713874427,-6.2010969626603325,14.222095568201539,-8.45425789665507,-6.951919276152388,8.196708601306792,4.829030190831135,13.755875030997355,32.89308951620591,4.560321083427345,25.963901154467276,9.042360087120695,24.533063085474378,-0.8026517314641973,-13.616597834662619,-28.760728486759483,8.85851976339612,-38.12237981101005,-26.533878458906383,-10.758258616375143,-5.5259986998107715,-0.10565717212484997,2.1867563503305982,20.635980708341663,-1.745840280910383,-27.4174866797885,-9.04949183346388,14.223613214798482,-39.179629274157755,-19.426189192161743,-3.2181796102520974,-25.55850790437403,-5.320631009671112,2.0513605120018354,-31.322876144597643,4.41969610564436,8.941793399975284,29.668911384754207,1.8009440312434786,-11.64902579657303,14.313573537445686,-3.6853945142304503,7.137609259457552,-20.046503064289276,6.211276030614755,-40.60556257532822,-11.51348957958358,7.2445343428835365,57.374545796822225,7.403198841376767,6.867494013759476,14.530096150142695,-8.930109378318745,9.486618101743826,-16.17319678814114,-4.355451021756147,-9.434596716358367,-20.87823180999247],\"type\":\"scatter3d\"},{\"hovertemplate\":\"\\u003cb\\u003eAssistant\\u003c\\u002fb\\u003e\\u003cbr\\u003ePC1: %{x:.3f}\\u003cbr\\u003ePC2: %{y:.3f}\\u003cbr\\u003ePC3: %{z:.3f}\\u003cbr\\u003e\\u003cextra\\u003e\\u003c\\u002fextra\\u003e\",\"marker\":{\"color\":\"red\",\"opacity\":1.0,\"size\":5},\"mode\":\"markers+text\",\"showlegend\":false,\"text\":[\"Assistant\"],\"textfont\":{\"color\":\"black\",\"size\":8},\"textposition\":\"top center\",\"x\":[24.508519307476067],\"y\":[4.901787180844543],\"z\":[15.562281859131652],\"type\":\"scatter3d\"}],                        {\"template\":{\"data\":{\"histogram2dcontour\":[{\"type\":\"histogram2dcontour\",\"colorbar\":{\"outlinewidth\":0,\"ticks\":\"\"},\"colorscale\":[[0.0,\"#0d0887\"],[0.1111111111111111,\"#46039f\"],[0.2222222222222222,\"#7201a8\"],[0.3333333333333333,\"#9c179e\"],[0.4444444444444444,\"#bd3786\"],[0.5555555555555556,\"#d8576b\"],[0.6666666666666666,\"#ed7953\"],[0.7777777777777778,\"#fb9f3a\"],[0.8888888888888888,\"#fdca26\"],[1.0,\"#f0f921\"]]}],\"choropleth\":[{\"type\":\"choropleth\",\"colorbar\":{\"outlinewidth\":0,\"ticks\":\"\"}}],\"histogram2d\":[{\"type\":\"histogram2d\",\"colorbar\":{\"outlinewidth\":0,\"ticks\":\"\"},\"colorscale\":[[0.0,\"#0d0887\"],[0.1111111111111111,\"#46039f\"],[0.2222222222222222,\"#7201a8\"],[0.3333333333333333,\"#9c179e\"],[0.4444444444444444,\"#bd3786\"],[0.5555555555555556,\"#d8576b\"],[0.6666666666666666,\"#ed7953\"],[0.7777777777777778,\"#fb9f3a\"],[0.8888888888888888,\"#fdca26\"],[1.0,\"#f0f921\"]]}],\"heatmap\":[{\"type\":\"heatmap\",\"colorbar\":{\"outlinewidth\":0,\"ticks\":\"\"},\"colorscale\":[[0.0,\"#0d0887\"],[0.1111111111111111,\"#46039f\"],[0.2222222222222222,\"#7201a8\"],[0.3333333333333333,\"#9c179e\"],[0.4444444444444444,\"#bd3786\"],[0.5555555555555556,\"#d8576b\"],[0.6666666666666666,\"#ed7953\"],[0.7777777777777778,\"#fb9f3a\"],[0.8888888888888888,\"#fdca26\"],[1.0,\"#f0f921\"]]}],\"heatmapgl\":[{\"type\":\"heatmapgl\",\"colorbar\":{\"outlinewidth\":0,\"ticks\":\"\"},\"colorscale\":[[0.0,\"#0d0887\"],[0.1111111111111111,\"#46039f\"],[0.2222222222222222,\"#7201a8\"],[0.3333333333333333,\"#9c179e\"],[0.4444444444444444,\"#bd3786\"],[0.5555555555555556,\"#d8576b\"],[0.6666666666666666,\"#ed7953\"],[0.7777777777777778,\"#fb9f3a\"],[0.8888888888888888,\"#fdca26\"],[1.0,\"#f0f921\"]]}],\"contourcarpet\":[{\"type\":\"contourcarpet\",\"colorbar\":{\"outlinewidth\":0,\"ticks\":\"\"}}],\"contour\":[{\"type\":\"contour\",\"colorbar\":{\"outlinewidth\":0,\"ticks\":\"\"},\"colorscale\":[[0.0,\"#0d0887\"],[0.1111111111111111,\"#46039f\"],[0.2222222222222222,\"#7201a8\"],[0.3333333333333333,\"#9c179e\"],[0.4444444444444444,\"#bd3786\"],[0.5555555555555556,\"#d8576b\"],[0.6666666666666666,\"#ed7953\"],[0.7777777777777778,\"#fb9f3a\"],[0.8888888888888888,\"#fdca26\"],[1.0,\"#f0f921\"]]}],\"surface\":[{\"type\":\"surface\",\"colorbar\":{\"outlinewidth\":0,\"ticks\":\"\"},\"colorscale\":[[0.0,\"#0d0887\"],[0.1111111111111111,\"#46039f\"],[0.2222222222222222,\"#7201a8\"],[0.3333333333333333,\"#9c179e\"],[0.4444444444444444,\"#bd3786\"],[0.5555555555555556,\"#d8576b\"],[0.6666666666666666,\"#ed7953\"],[0.7777777777777778,\"#fb9f3a\"],[0.8888888888888888,\"#fdca26\"],[1.0,\"#f0f921\"]]}],\"mesh3d\":[{\"type\":\"mesh3d\",\"colorbar\":{\"outlinewidth\":0,\"ticks\":\"\"}}],\"scatter\":[{\"fillpattern\":{\"fillmode\":\"overlay\",\"size\":10,\"solidity\":0.2},\"type\":\"scatter\"}],\"parcoords\":[{\"type\":\"parcoords\",\"line\":{\"colorbar\":{\"outlinewidth\":0,\"ticks\":\"\"}}}],\"scatterpolargl\":[{\"type\":\"scatterpolargl\",\"marker\":{\"colorbar\":{\"outlinewidth\":0,\"ticks\":\"\"}}}],\"bar\":[{\"error_x\":{\"color\":\"#2a3f5f\"},\"error_y\":{\"color\":\"#2a3f5f\"},\"marker\":{\"line\":{\"color\":\"#E5ECF6\",\"width\":0.5},\"pattern\":{\"fillmode\":\"overlay\",\"size\":10,\"solidity\":0.2}},\"type\":\"bar\"}],\"scattergeo\":[{\"type\":\"scattergeo\",\"marker\":{\"colorbar\":{\"outlinewidth\":0,\"ticks\":\"\"}}}],\"scatterpolar\":[{\"type\":\"scatterpolar\",\"marker\":{\"colorbar\":{\"outlinewidth\":0,\"ticks\":\"\"}}}],\"histogram\":[{\"marker\":{\"pattern\":{\"fillmode\":\"overlay\",\"size\":10,\"solidity\":0.2}},\"type\":\"histogram\"}],\"scattergl\":[{\"type\":\"scattergl\",\"marker\":{\"colorbar\":{\"outlinewidth\":0,\"ticks\":\"\"}}}],\"scatter3d\":[{\"type\":\"scatter3d\",\"line\":{\"colorbar\":{\"outlinewidth\":0,\"ticks\":\"\"}},\"marker\":{\"colorbar\":{\"outlinewidth\":0,\"ticks\":\"\"}}}],\"scattermapbox\":[{\"type\":\"scattermapbox\",\"marker\":{\"colorbar\":{\"outlinewidth\":0,\"ticks\":\"\"}}}],\"scatterternary\":[{\"type\":\"scatterternary\",\"marker\":{\"colorbar\":{\"outlinewidth\":0,\"ticks\":\"\"}}}],\"scattercarpet\":[{\"type\":\"scattercarpet\",\"marker\":{\"colorbar\":{\"outlinewidth\":0,\"ticks\":\"\"}}}],\"carpet\":[{\"aaxis\":{\"endlinecolor\":\"#2a3f5f\",\"gridcolor\":\"white\",\"linecolor\":\"white\",\"minorgridcolor\":\"white\",\"startlinecolor\":\"#2a3f5f\"},\"baxis\":{\"endlinecolor\":\"#2a3f5f\",\"gridcolor\":\"white\",\"linecolor\":\"white\",\"minorgridcolor\":\"white\",\"startlinecolor\":\"#2a3f5f\"},\"type\":\"carpet\"}],\"table\":[{\"cells\":{\"fill\":{\"color\":\"#EBF0F8\"},\"line\":{\"color\":\"white\"}},\"header\":{\"fill\":{\"color\":\"#C8D4E3\"},\"line\":{\"color\":\"white\"}},\"type\":\"table\"}],\"barpolar\":[{\"marker\":{\"line\":{\"color\":\"#E5ECF6\",\"width\":0.5},\"pattern\":{\"fillmode\":\"overlay\",\"size\":10,\"solidity\":0.2}},\"type\":\"barpolar\"}],\"pie\":[{\"automargin\":true,\"type\":\"pie\"}]},\"layout\":{\"autotypenumbers\":\"strict\",\"colorway\":[\"#636efa\",\"#EF553B\",\"#00cc96\",\"#ab63fa\",\"#FFA15A\",\"#19d3f3\",\"#FF6692\",\"#B6E880\",\"#FF97FF\",\"#FECB52\"],\"font\":{\"color\":\"#2a3f5f\"},\"hovermode\":\"closest\",\"hoverlabel\":{\"align\":\"left\"},\"paper_bgcolor\":\"white\",\"plot_bgcolor\":\"#E5ECF6\",\"polar\":{\"bgcolor\":\"#E5ECF6\",\"angularaxis\":{\"gridcolor\":\"white\",\"linecolor\":\"white\",\"ticks\":\"\"},\"radialaxis\":{\"gridcolor\":\"white\",\"linecolor\":\"white\",\"ticks\":\"\"}},\"ternary\":{\"bgcolor\":\"#E5ECF6\",\"aaxis\":{\"gridcolor\":\"white\",\"linecolor\":\"white\",\"ticks\":\"\"},\"baxis\":{\"gridcolor\":\"white\",\"linecolor\":\"white\",\"ticks\":\"\"},\"caxis\":{\"gridcolor\":\"white\",\"linecolor\":\"white\",\"ticks\":\"\"}},\"coloraxis\":{\"colorbar\":{\"outlinewidth\":0,\"ticks\":\"\"}},\"colorscale\":{\"sequential\":[[0.0,\"#0d0887\"],[0.1111111111111111,\"#46039f\"],[0.2222222222222222,\"#7201a8\"],[0.3333333333333333,\"#9c179e\"],[0.4444444444444444,\"#bd3786\"],[0.5555555555555556,\"#d8576b\"],[0.6666666666666666,\"#ed7953\"],[0.7777777777777778,\"#fb9f3a\"],[0.8888888888888888,\"#fdca26\"],[1.0,\"#f0f921\"]],\"sequentialminus\":[[0.0,\"#0d0887\"],[0.1111111111111111,\"#46039f\"],[0.2222222222222222,\"#7201a8\"],[0.3333333333333333,\"#9c179e\"],[0.4444444444444444,\"#bd3786\"],[0.5555555555555556,\"#d8576b\"],[0.6666666666666666,\"#ed7953\"],[0.7777777777777778,\"#fb9f3a\"],[0.8888888888888888,\"#fdca26\"],[1.0,\"#f0f921\"]],\"diverging\":[[0,\"#8e0152\"],[0.1,\"#c51b7d\"],[0.2,\"#de77ae\"],[0.3,\"#f1b6da\"],[0.4,\"#fde0ef\"],[0.5,\"#f7f7f7\"],[0.6,\"#e6f5d0\"],[0.7,\"#b8e186\"],[0.8,\"#7fbc41\"],[0.9,\"#4d9221\"],[1,\"#276419\"]]},\"xaxis\":{\"gridcolor\":\"white\",\"linecolor\":\"white\",\"ticks\":\"\",\"title\":{\"standoff\":15},\"zerolinecolor\":\"white\",\"automargin\":true,\"zerolinewidth\":2},\"yaxis\":{\"gridcolor\":\"white\",\"linecolor\":\"white\",\"ticks\":\"\",\"title\":{\"standoff\":15},\"zerolinecolor\":\"white\",\"automargin\":true,\"zerolinewidth\":2},\"scene\":{\"xaxis\":{\"backgroundcolor\":\"#E5ECF6\",\"gridcolor\":\"white\",\"linecolor\":\"white\",\"showbackground\":true,\"ticks\":\"\",\"zerolinecolor\":\"white\",\"gridwidth\":2},\"yaxis\":{\"backgroundcolor\":\"#E5ECF6\",\"gridcolor\":\"white\",\"linecolor\":\"white\",\"showbackground\":true,\"ticks\":\"\",\"zerolinecolor\":\"white\",\"gridwidth\":2},\"zaxis\":{\"backgroundcolor\":\"#E5ECF6\",\"gridcolor\":\"white\",\"linecolor\":\"white\",\"showbackground\":true,\"ticks\":\"\",\"zerolinecolor\":\"white\",\"gridwidth\":2}},\"shapedefaults\":{\"line\":{\"color\":\"#2a3f5f\"}},\"annotationdefaults\":{\"arrowcolor\":\"#2a3f5f\",\"arrowhead\":0,\"arrowwidth\":1},\"geo\":{\"bgcolor\":\"white\",\"landcolor\":\"#E5ECF6\",\"subunitcolor\":\"white\",\"showland\":true,\"showlakes\":true,\"lakecolor\":\"white\"},\"title\":{\"x\":0.05},\"mapbox\":{\"style\":\"light\"}}},\"title\":{\"subtitle\":{\"text\":\"Gemma 2 27B, Layer 34\"},\"text\":\"Trait Vectors in Principal Component Space with Assistant\"},\"scene\":{\"camera\":{\"eye\":{\"x\":1.5,\"y\":1.5,\"z\":1.5}},\"xaxis\":{\"title\":{\"text\":\"PC1 (14.9%)\"}},\"yaxis\":{\"title\":{\"text\":\"PC2 (11.4%)\"}},\"zaxis\":{\"title\":{\"text\":\"PC3 (8.5%)\"}}},\"width\":1000,\"height\":800,\"showlegend\":false},                        {\"responsive\": true}                    ).then(function(){\n",
       "                            \n",
       "var gd = document.getElementById('caa86dbd-2df5-4b36-820e-d90420b1ca75');\n",
       "var x = new MutationObserver(function (mutations, observer) {{\n",
       "        var display = window.getComputedStyle(gd).display;\n",
       "        if (!display || display === 'none') {{\n",
       "            console.log([gd, 'removed!']);\n",
       "            Plotly.purge(gd);\n",
       "            observer.disconnect();\n",
       "        }}\n",
       "}});\n",
       "\n",
       "// Listen for the removal of the full notebook cells\n",
       "var notebookContainer = gd.closest('#notebook-container');\n",
       "if (notebookContainer) {{\n",
       "    x.observe(notebookContainer, {childList: true});\n",
       "}}\n",
       "\n",
       "// Listen for the clearing of the current output cell\n",
       "var outputEl = gd.closest('.output');\n",
       "if (outputEl) {{\n",
       "    x.observe(outputEl, {childList: true});\n",
       "}}\n",
       "\n",
       "                        })                };                });            </script>        </div>"
      ]
     },
     "metadata": {},
     "output_type": "display_data"
    }
   ],
   "source": [
    "# Re-run PCA on filtered_pos_neg_50 with the enhanced function to get PCA and scaler objects\n",
    "pca_transformed_neg50, variance_explained_neg50, n_components_neg50, pca_neg50, scaler_neg50 = compute_pca(filtered_pos_neg_50, layer)\n",
    "\n",
    "# Project the mean assistant activation into this PCA space\n",
    "mean_projected_neg50 = project_mean_activation(pca_neg50, scaler_neg50, layer)\n",
    "\n",
    "# Create the enhanced cosine similarity plot for PC1\n",
    "component = 0  # PC1\n",
    "fig_neg50_with_mean = plot_pca_cosine_similarity_with_mean(\n",
    "    pca_transformed=pca_transformed_neg50,\n",
    "    trait_labels=filtered_pos_neg_50_traits,\n",
    "    mean_projected=mean_projected_neg50,\n",
    "    pc_component=component,\n",
    "    layer=layer,\n",
    "    color_threshold=0.0\n",
    ")\n",
    "fig_neg50_with_mean.show()\n",
    "fig_neg50_with_mean.write_html(f\"./results/pc{component+1}_assistant.html\")\n",
    "\n",
    "# Create the enhanced 3D PCA plot\n",
    "fig_3d_neg50_with_mean = plot_3d_pca_with_mean(\n",
    "    pca_transformed=pca_transformed_neg50,\n",
    "    variance_explained=variance_explained_neg50,\n",
    "    trait_labels=filtered_pos_neg_50_traits,\n",
    "    mean_projected=mean_projected_neg50,\n",
    "    layer=layer\n",
    ")\n",
    "\n"
   ]
  },
  {
   "cell_type": "code",
   "execution_count": 49,
   "id": "99f7db18",
   "metadata": {},
   "outputs": [
    {
     "data": {
      "application/vnd.plotly.v1+json": {
       "config": {
        "plotlyServerURL": "https://plot.ly"
       },
       "data": [
        {
         "hovertemplate": "<b>%{text}</b><br>Cosine Similarity: %{x:.3f}<extra></extra>",
         "marker": {
          "color": [
           "red",
           "blue",
           "blue",
           "blue",
           "blue",
           "blue",
           "blue",
           "red",
           "red",
           "red",
           "red",
           "blue",
           "red",
           "red",
           "red",
           "blue",
           "red",
           "red",
           "red",
           "blue",
           "blue",
           "blue",
           "red",
           "red",
           "blue",
           "blue",
           "red",
           "blue",
           "blue",
           "red",
           "red",
           "blue",
           "red",
           "red",
           "red",
           "red",
           "red",
           "blue",
           "red",
           "red",
           "red",
           "blue",
           "blue",
           "red",
           "red",
           "blue",
           "red",
           "red",
           "red",
           "blue",
           "red",
           "red",
           "red",
           "blue",
           "blue",
           "blue",
           "red",
           "red",
           "blue",
           "blue",
           "blue",
           "red",
           "blue",
           "red",
           "red",
           "blue",
           "blue",
           "blue",
           "red",
           "blue",
           "red",
           "red",
           "red",
           "blue",
           "red",
           "blue",
           "blue",
           "blue",
           "blue",
           "red",
           "red",
           "blue",
           "red",
           "blue",
           "blue",
           "red",
           "red",
           "blue",
           "blue",
           "blue",
           "blue",
           "red",
           "red",
           "blue",
           "red",
           "blue",
           "blue",
           "blue",
           "red",
           "blue",
           "red",
           "blue",
           "red",
           "blue",
           "blue",
           "red",
           "blue",
           "blue",
           "blue",
           "blue",
           "blue",
           "red",
           "blue",
           "red",
           "red",
           "red",
           "red",
           "red",
           "blue",
           "red",
           "red",
           "blue",
           "red",
           "blue",
           "red",
           "blue",
           "red",
           "red",
           "red",
           "red",
           "red",
           "blue",
           "blue",
           "blue",
           "blue",
           "red",
           "red",
           "red",
           "blue",
           "red",
           "blue",
           "blue",
           "blue",
           "blue",
           "red",
           "blue",
           "red",
           "blue",
           "red",
           "blue",
           "red",
           "red",
           "red",
           "blue",
           "blue",
           "blue",
           "blue",
           "blue",
           "red",
           "red",
           "blue",
           "blue",
           "blue",
           "red",
           "blue",
           "red",
           "red",
           "red",
           "blue",
           "blue",
           "red",
           "red",
           "red",
           "blue",
           "red",
           "blue",
           "blue",
           "red",
           "blue",
           "red",
           "red",
           "red",
           "blue",
           "red",
           "red",
           "blue",
           "red",
           "red",
           "blue",
           "blue",
           "blue",
           "red",
           "blue",
           "blue",
           "red",
           "blue",
           "blue",
           "blue",
           "blue",
           "blue",
           "red",
           "red",
           "blue",
           "red",
           "red",
           "red",
           "red",
           "red",
           "red",
           "blue",
           "red",
           "blue",
           "blue",
           "red",
           "blue"
          ],
          "opacity": 0.7,
          "size": 8
         },
         "mode": "markers",
         "showlegend": false,
         "text": [
          "absolutist",
          "adaptable",
          "abstract",
          "accessible",
          "accommodating",
          "adventurous",
          "altruistic",
          "analytical",
          "anthropocentric",
          "anxious",
          "arrogant",
          "artistic",
          "ascetic",
          "assertive",
          "avoidant",
          "benevolent",
          "big_picture",
          "bitter",
          "bombastic",
          "calculating",
          "calm",
          "casual",
          "cautious",
          "challenging",
          "chaotic",
          "circumspect",
          "closure_seeking",
          "collaborative",
          "collectivistic",
          "competitive",
          "conceptual",
          "conciliatory",
          "concise",
          "condescending",
          "confident",
          "confrontational",
          "conscientious",
          "constructivist",
          "contemporary",
          "contrarian",
          "convergent",
          "cosmopolitan",
          "creative",
          "critical",
          "cryptic",
          "curious",
          "cynical",
          "data_driven",
          "decisive",
          "deconstructionist",
          "deontological",
          "descriptive",
          "deterministic",
          "diplomatic",
          "disorganized",
          "divergent",
          "dogmatic",
          "dominant",
          "dramatic",
          "earnest",
          "eclectic",
          "edgy",
          "educational",
          "efficient",
          "elitist",
          "eloquent",
          "enigmatic",
          "entertaining",
          "environmental",
          "epicurean",
          "erudite",
          "esoteric",
          "essentialist",
          "ethereal",
          "evil",
          "existentialist",
          "experiential",
          "exploratory",
          "extroverted",
          "factual",
          "fatalistic",
          "flexible",
          "flippant",
          "flirty",
          "forgiving",
          "formalist",
          "fundamentalist",
          "futuristic",
          "generalist",
          "generous",
          "goofy",
          "grandiose",
          "grounded",
          "hedonistic",
          "historical",
          "holistic",
          "humanistic",
          "humble",
          "iconoclastic",
          "idealistic",
          "impatient",
          "improvisational",
          "impulsive",
          "inclusive",
          "independent",
          "individualistic",
          "innovative",
          "inquisitive",
          "inspirational",
          "interdisciplinary",
          "introspective",
          "introverted",
          "intuitive",
          "ironic",
          "irreverent",
          "judgmental",
          "libertarian",
          "literal",
          "manic",
          "manipulative",
          "materialist",
          "meditative",
          "melancholic",
          "melodramatic",
          "mercurial",
          "metaphorical",
          "methodical",
          "meticulous",
          "militant",
          "misanthropic",
          "mischievous",
          "moderate",
          "mystical",
          "naive",
          "narrative",
          "neurotic",
          "nihilistic",
          "nonchalant",
          "nostalgic",
          "obsessive",
          "open_ended",
          "optimistic",
          "pacifist",
          "paradoxical",
          "paranoid",
          "passionate",
          "passive_aggressive",
          "patient",
          "pedantic",
          "pensive",
          "perfectionist",
          "pessimistic",
          "petty",
          "philosophical",
          "playful",
          "pluralist",
          "poetic",
          "practical",
          "prescriptive",
          "principled",
          "proactive",
          "problem_solving",
          "progressive",
          "provocative",
          "qualitative",
          "quantitative",
          "radical",
          "rationalist",
          "reactive",
          "rebellious",
          "reductionist",
          "regulatory",
          "reserved",
          "resilient",
          "reverent",
          "rhetorical",
          "risk_taking",
          "ritualistic",
          "romantic",
          "sardonic",
          "sassy",
          "secular",
          "serene",
          "serious",
          "skeptical",
          "socratic",
          "solemn",
          "specialized",
          "speculative",
          "spiritual",
          "spontaneous",
          "stoic",
          "strategic",
          "stream_of_consciousness",
          "structuralist",
          "submissive",
          "subversive",
          "sycophantic",
          "systems_thinker",
          "tactful",
          "technical",
          "temperamental",
          "theatrical",
          "theoretical",
          "traditional",
          "understated",
          "universalist",
          "urgent",
          "utilitarian",
          "verbose",
          "visceral",
          "whimsical",
          "witty",
          "wry",
          "zealous"
         ],
         "type": "scatter",
         "x": [
          -0.026889846782751085,
          0.0809484429507299,
          0.000029995517877856596,
          0.0737039566561843,
          0.07987167659874535,
          0.03481430906028945,
          0.03902454313507682,
          -0.02933834689382751,
          -0.023220829120015676,
          -0.007425479680214116,
          -0.08830251590696568,
          0.08518876611762077,
          -0.01813196159001785,
          -0.02151423993505939,
          -0.00327089264605849,
          0.09758953184107377,
          -0.003022249826693588,
          -0.05738434937166247,
          -0.05455741962164673,
          0.010826989787203676,
          0.0328899015454188,
          0.10490025076323355,
          -0.03748116309237771,
          -0.028433140217017757,
          0.006198331105226393,
          0.06776820906733383,
          -0.05371210865452116,
          0.025167362780893036,
          0.022479778590504842,
          -0.0985464661192776,
          -0.005635545713249716,
          0.06101943389329058,
          -0.07253219998934508,
          -0.03937766771654059,
          -0.0711378619280387,
          -0.10186219016788572,
          -0.019316954156767145,
          0.030102836464999817,
          -0.00026684518090282975,
          -0.022153365995161194,
          -0.044632710933844584,
          0.0036528699141122815,
          0.03569883918255349,
          -0.012923839006979252,
          -0.0031193446914919744,
          0.06927135448484242,
          -0.06543291234091268,
          -0.05806072939789983,
          -0.07636436802694697,
          0.008747229946207198,
          -0.007445646191111543,
          -0.031422203161850654,
          -0.051210782441943714,
          0.03722944535045964,
          0.023010579241898706,
          0.07144790787846705,
          -0.04702266595266409,
          -0.04736454365844693,
          0.05295163879257751,
          0.07722091503462641,
          0.035577237752912834,
          -0.07411332298180749,
          0.039084555054831376,
          -0.03454717883521135,
          -0.06398290863273187,
          0.05701341651859519,
          0.01650117551775616,
          0.08617646772309082,
          -0.0008178819147173779,
          0.01715650477767686,
          -0.06651876070402402,
          -0.05902999202409371,
          -0.05052441072400422,
          0.01891323818425638,
          -0.035273359977190624,
          0.03265438747997193,
          0.03084533917349716,
          0.10095548293162906,
          0.05823621019005921,
          -0.019157544316776298,
          -0.026678563651509498,
          0.07132489024301424,
          -0.021659971401956152,
          0.07637326520141491,
          0.05295734133715461,
          -0.07863775064825983,
          -0.0482592214148831,
          0.00950124373760781,
          0.011310991654561583,
          0.09923620766163566,
          0.019306960602045432,
          -0.018272885790775666,
          -0.03441191462968905,
          0.011881645321102035,
          -0.004599163390627942,
          0.01804358050909971,
          0.04552016836293306,
          0.039672173844523394,
          -0.029899469123211807,
          0.007275857788654847,
          -0.06811270966752578,
          0.02812593306478076,
          -0.03814321098416491,
          0.023387109808247625,
          0.0003368679423927843,
          -0.016651642636701255,
          0.011553263054577028,
          0.05405244809602474,
          0.07977223949965065,
          0.01199164395595627,
          0.06001260218869239,
          -0.08993649422888068,
          0.033778174556387486,
          -0.026314880095912548,
          -0.020201398184123923,
          -0.08274001596429836,
          -0.012216977525176706,
          -0.0653269697073931,
          0.030029615951638722,
          -0.023054812904522125,
          -0.04780902419138388,
          0.07695908785503636,
          -0.08224055264589884,
          0.0515156671697459,
          -0.007123940793352014,
          0.07728564930024709,
          -0.07674748872308015,
          -0.04665304791309194,
          -0.05731944039874694,
          -0.07203355415333494,
          -0.011822006787365247,
          0.03221752638214571,
          0.04405281109874031,
          0.055676701736235415,
          0.05838756639237928,
          -0.004889517186872947,
          -0.08290500897347118,
          -0.06957357105059041,
          0.0023264655796049268,
          -0.03258097519066542,
          0.0928259484425944,
          0.05425084357859035,
          0.012119990983433448,
          0.032096090828421645,
          -0.014384088809685556,
          0.07271697771405337,
          -0.06501655219019835,
          0.11191604519843845,
          -0.041875211639802165,
          0.038452748802005686,
          -0.06117371912749306,
          -0.04085050162647992,
          -0.04912078643524138,
          0.047386553417855165,
          0.06781113941404925,
          0.012174086924387196,
          0.0962670578787903,
          0.0035757047125168123,
          -0.08108864697163043,
          -0.017636481353868475,
          0.06414048158941675,
          0.000948614155114494,
          0.007992303964896865,
          -0.013414317723051418,
          0.049481977283564585,
          -0.0731219316655295,
          -0.01721704224263275,
          -0.0607021287974656,
          0.002926616057050421,
          0.005941842654971545,
          -0.02428497919027603,
          -0.03390645008191834,
          -0.0924961695035955,
          0.020652968712548,
          -0.0026552945567454972,
          0.05072870299931285,
          0.014741933526628824,
          -0.05150373550636368,
          0.08792292421572899,
          -0.0829862186167679,
          -0.07460580225076724,
          -0.03409036838674679,
          0.060921404230638694,
          -0.09716737112217413,
          -0.0367501401984656,
          0.016451332847379836,
          -0.0517247432961337,
          -0.0612843964053201,
          0.03303740568623249,
          0.057828308009836224,
          0.052368684487520245,
          -0.09833250166829254,
          0.04117309456922284,
          0.05535941553681835,
          -0.055183492868076195,
          0.011353673921365309,
          0.0014871986765870912,
          0.01240420759214688,
          0.01935282836331867,
          0.08994087751308495,
          -0.07763155226180855,
          -0.0025018220052631726,
          0.05171607748047289,
          -0.024929936120881187,
          -0.015422010026639022,
          -0.04075482984264824,
          -0.013088423122095516,
          -0.06381295344776225,
          -0.01578595712458531,
          0.038891102940072586,
          -0.0038984650721817127,
          0.064501932106704,
          0.05198444498979059,
          -0.09447353820525868,
          0.03317629094127126
         ],
         "y": [
          1,
          1,
          1,
          1,
          1,
          1,
          1,
          1,
          1,
          1,
          1,
          1,
          1,
          1,
          1,
          1,
          1,
          1,
          1,
          1,
          1,
          1,
          1,
          1,
          1,
          1,
          1,
          1,
          1,
          1,
          1,
          1,
          1,
          1,
          1,
          1,
          1,
          1,
          1,
          1,
          1,
          1,
          1,
          1,
          1,
          1,
          1,
          1,
          1,
          1,
          1,
          1,
          1,
          1,
          1,
          1,
          1,
          1,
          1,
          1,
          1,
          1,
          1,
          1,
          1,
          1,
          1,
          1,
          1,
          1,
          1,
          1,
          1,
          1,
          1,
          1,
          1,
          1,
          1,
          1,
          1,
          1,
          1,
          1,
          1,
          1,
          1,
          1,
          1,
          1,
          1,
          1,
          1,
          1,
          1,
          1,
          1,
          1,
          1,
          1,
          1,
          1,
          1,
          1,
          1,
          1,
          1,
          1,
          1,
          1,
          1,
          1,
          1,
          1,
          1,
          1,
          1,
          1,
          1,
          1,
          1,
          1,
          1,
          1,
          1,
          1,
          1,
          1,
          1,
          1,
          1,
          1,
          1,
          1,
          1,
          1,
          1,
          1,
          1,
          1,
          1,
          1,
          1,
          1,
          1,
          1,
          1,
          1,
          1,
          1,
          1,
          1,
          1,
          1,
          1,
          1,
          1,
          1,
          1,
          1,
          1,
          1,
          1,
          1,
          1,
          1,
          1,
          1,
          1,
          1,
          1,
          1,
          1,
          1,
          1,
          1,
          1,
          1,
          1,
          1,
          1,
          1,
          1,
          1,
          1,
          1,
          1,
          1,
          1,
          1,
          1,
          1,
          1,
          1,
          1,
          1,
          1,
          1,
          1,
          1,
          1,
          1,
          1,
          1,
          1,
          1,
          1,
          1,
          1,
          1,
          1,
          1,
          1,
          1,
          1
         ]
        },
        {
         "hovertemplate": "<b>%{text}</b><br>Cosine Similarity: %{x:.3f}<extra></extra>",
         "marker": {
          "color": [
           "red",
           "blue",
           "blue",
           "red",
           "red",
           "blue",
           "blue",
           "red",
           "red",
           "red",
           "blue",
           "blue",
           "blue",
           "red",
           "blue",
           "red",
           "blue",
           "red",
           "red",
           "blue"
          ],
          "opacity": 0.9,
          "size": 8
         },
         "mode": "markers",
         "showlegend": false,
         "text": [
          "acerbic",
          "agreeable",
          "animated",
          "blunt",
          "callous",
          "charismatic",
          "chill",
          "cruel",
          "detached",
          "dispassionate",
          "effusive",
          "emotional",
          "empathetic",
          "formal",
          "gregarious",
          "hostile",
          "nurturing",
          "sarcastic",
          "savage",
          "supportive"
         ],
         "type": "scatter",
         "x": [
          -0.12730207846125455,
          0.11477122413467296,
          0.17089020928570117,
          -0.11172454901990742,
          -0.20226966780717442,
          0.14581581212872824,
          0.1678170413368392,
          -0.1720481736084418,
          -0.14067373156630306,
          -0.10895535852502095,
          0.11853537853274689,
          0.12788733905990318,
          0.14424582331865052,
          -0.10447457817380679,
          0.11452769337283833,
          -0.13070670329988954,
          0.21742737668641668,
          -0.10199541841375576,
          -0.1470688437057739,
          0.18171404651800302
         ],
         "y": [
          1,
          1,
          1,
          1,
          1,
          1,
          1,
          1,
          1,
          1,
          1,
          1,
          1,
          1,
          1,
          1,
          1,
          1,
          1,
          1
         ]
        },
        {
         "hoverinfo": "skip",
         "line": {
          "color": "red",
          "width": 1
         },
         "mode": "lines",
         "showlegend": false,
         "type": "scatter",
         "x": [
          -0.20226966780717442,
          -0.20226966780717442
         ],
         "y": [
          1,
          1.6
         ]
        },
        {
         "hoverinfo": "skip",
         "line": {
          "color": "red",
          "width": 1
         },
         "mode": "lines",
         "showlegend": false,
         "type": "scatter",
         "x": [
          -0.1720481736084418,
          -0.1720481736084418
         ],
         "y": [
          1,
          0.4
         ]
        },
        {
         "hoverinfo": "skip",
         "line": {
          "color": "red",
          "width": 1
         },
         "mode": "lines",
         "showlegend": false,
         "type": "scatter",
         "x": [
          -0.1470688437057739,
          -0.1470688437057739
         ],
         "y": [
          1,
          1.45
         ]
        },
        {
         "hoverinfo": "skip",
         "line": {
          "color": "red",
          "width": 1
         },
         "mode": "lines",
         "showlegend": false,
         "type": "scatter",
         "x": [
          -0.14067373156630306,
          -0.14067373156630306
         ],
         "y": [
          1,
          0.55
         ]
        },
        {
         "hoverinfo": "skip",
         "line": {
          "color": "red",
          "width": 1
         },
         "mode": "lines",
         "showlegend": false,
         "type": "scatter",
         "x": [
          -0.13070670329988954,
          -0.13070670329988954
         ],
         "y": [
          1,
          1.55
         ]
        },
        {
         "hoverinfo": "skip",
         "line": {
          "color": "red",
          "width": 1
         },
         "mode": "lines",
         "showlegend": false,
         "type": "scatter",
         "x": [
          -0.12730207846125455,
          -0.12730207846125455
         ],
         "y": [
          1,
          0.45
         ]
        },
        {
         "hoverinfo": "skip",
         "line": {
          "color": "red",
          "width": 1
         },
         "mode": "lines",
         "showlegend": false,
         "type": "scatter",
         "x": [
          -0.11172454901990742,
          -0.11172454901990742
         ],
         "y": [
          1,
          1.35
         ]
        },
        {
         "hoverinfo": "skip",
         "line": {
          "color": "red",
          "width": 1
         },
         "mode": "lines",
         "showlegend": false,
         "type": "scatter",
         "x": [
          -0.10895535852502095,
          -0.10895535852502095
         ],
         "y": [
          1,
          0.65
         ]
        },
        {
         "hoverinfo": "skip",
         "line": {
          "color": "red",
          "width": 1
         },
         "mode": "lines",
         "showlegend": false,
         "type": "scatter",
         "x": [
          -0.10447457817380679,
          -0.10447457817380679
         ],
         "y": [
          1,
          1.5
         ]
        },
        {
         "hoverinfo": "skip",
         "line": {
          "color": "red",
          "width": 1
         },
         "mode": "lines",
         "showlegend": false,
         "type": "scatter",
         "x": [
          -0.10199541841375576,
          -0.10199541841375576
         ],
         "y": [
          1,
          0.5
         ]
        },
        {
         "hoverinfo": "skip",
         "line": {
          "color": "blue",
          "width": 1
         },
         "mode": "lines",
         "showlegend": false,
         "type": "scatter",
         "x": [
          0.11452769337283833,
          0.11452769337283833
         ],
         "y": [
          1,
          1.4
         ]
        },
        {
         "hoverinfo": "skip",
         "line": {
          "color": "blue",
          "width": 1
         },
         "mode": "lines",
         "showlegend": false,
         "type": "scatter",
         "x": [
          0.11477122413467296,
          0.11477122413467296
         ],
         "y": [
          1,
          0.6
         ]
        },
        {
         "hoverinfo": "skip",
         "line": {
          "color": "blue",
          "width": 1
         },
         "mode": "lines",
         "showlegend": false,
         "type": "scatter",
         "x": [
          0.11853537853274689,
          0.11853537853274689
         ],
         "y": [
          1,
          1.65
         ]
        },
        {
         "hoverinfo": "skip",
         "line": {
          "color": "blue",
          "width": 1
         },
         "mode": "lines",
         "showlegend": false,
         "type": "scatter",
         "x": [
          0.12788733905990318,
          0.12788733905990318
         ],
         "y": [
          1,
          0.35
         ]
        },
        {
         "hoverinfo": "skip",
         "line": {
          "color": "blue",
          "width": 1
         },
         "mode": "lines",
         "showlegend": false,
         "type": "scatter",
         "x": [
          0.14424582331865052,
          0.14424582331865052
         ],
         "y": [
          1,
          1.3
         ]
        },
        {
         "hoverinfo": "skip",
         "line": {
          "color": "blue",
          "width": 1
         },
         "mode": "lines",
         "showlegend": false,
         "type": "scatter",
         "x": [
          0.14581581212872824,
          0.14581581212872824
         ],
         "y": [
          1,
          0.7
         ]
        },
        {
         "hoverinfo": "skip",
         "line": {
          "color": "blue",
          "width": 1
         },
         "mode": "lines",
         "showlegend": false,
         "type": "scatter",
         "x": [
          0.1678170413368392,
          0.1678170413368392
         ],
         "y": [
          1,
          1.58
         ]
        },
        {
         "hoverinfo": "skip",
         "line": {
          "color": "blue",
          "width": 1
         },
         "mode": "lines",
         "showlegend": false,
         "type": "scatter",
         "x": [
          0.17089020928570117,
          0.17089020928570117
         ],
         "y": [
          1,
          0.42
         ]
        },
        {
         "hoverinfo": "skip",
         "line": {
          "color": "blue",
          "width": 1
         },
         "mode": "lines",
         "showlegend": false,
         "type": "scatter",
         "x": [
          0.18171404651800302,
          0.18171404651800302
         ],
         "y": [
          1,
          1.42
         ]
        },
        {
         "hoverinfo": "skip",
         "line": {
          "color": "blue",
          "width": 1
         },
         "mode": "lines",
         "showlegend": false,
         "type": "scatter",
         "x": [
          0.21742737668641668,
          0.21742737668641668
         ],
         "y": [
          1,
          0.58
         ]
        }
       ],
       "layout": {
        "annotations": [
         {
          "bgcolor": "rgba(255, 255, 255, 0.9)",
          "bordercolor": "red",
          "borderwidth": 1,
          "font": {
           "color": "red",
           "size": 10
          },
          "showarrow": false,
          "text": "callous",
          "x": -0.20226966780717442,
          "y": 1.6
         },
         {
          "bgcolor": "rgba(255, 255, 255, 0.9)",
          "bordercolor": "red",
          "borderwidth": 1,
          "font": {
           "color": "red",
           "size": 10
          },
          "showarrow": false,
          "text": "cruel",
          "x": -0.1720481736084418,
          "y": 0.4
         },
         {
          "bgcolor": "rgba(255, 255, 255, 0.9)",
          "bordercolor": "red",
          "borderwidth": 1,
          "font": {
           "color": "red",
           "size": 10
          },
          "showarrow": false,
          "text": "savage",
          "x": -0.1470688437057739,
          "y": 1.45
         },
         {
          "bgcolor": "rgba(255, 255, 255, 0.9)",
          "bordercolor": "red",
          "borderwidth": 1,
          "font": {
           "color": "red",
           "size": 10
          },
          "showarrow": false,
          "text": "detached",
          "x": -0.14067373156630306,
          "y": 0.55
         },
         {
          "bgcolor": "rgba(255, 255, 255, 0.9)",
          "bordercolor": "red",
          "borderwidth": 1,
          "font": {
           "color": "red",
           "size": 10
          },
          "showarrow": false,
          "text": "hostile",
          "x": -0.13070670329988954,
          "y": 1.55
         },
         {
          "bgcolor": "rgba(255, 255, 255, 0.9)",
          "bordercolor": "red",
          "borderwidth": 1,
          "font": {
           "color": "red",
           "size": 10
          },
          "showarrow": false,
          "text": "acerbic",
          "x": -0.12730207846125455,
          "y": 0.45
         },
         {
          "bgcolor": "rgba(255, 255, 255, 0.9)",
          "bordercolor": "red",
          "borderwidth": 1,
          "font": {
           "color": "red",
           "size": 10
          },
          "showarrow": false,
          "text": "blunt",
          "x": -0.11172454901990742,
          "y": 1.35
         },
         {
          "bgcolor": "rgba(255, 255, 255, 0.9)",
          "bordercolor": "red",
          "borderwidth": 1,
          "font": {
           "color": "red",
           "size": 10
          },
          "showarrow": false,
          "text": "dispassionate",
          "x": -0.10895535852502095,
          "y": 0.65
         },
         {
          "bgcolor": "rgba(255, 255, 255, 0.9)",
          "bordercolor": "red",
          "borderwidth": 1,
          "font": {
           "color": "red",
           "size": 10
          },
          "showarrow": false,
          "text": "formal",
          "x": -0.10447457817380679,
          "y": 1.5
         },
         {
          "bgcolor": "rgba(255, 255, 255, 0.9)",
          "bordercolor": "red",
          "borderwidth": 1,
          "font": {
           "color": "red",
           "size": 10
          },
          "showarrow": false,
          "text": "sarcastic",
          "x": -0.10199541841375576,
          "y": 0.5
         },
         {
          "bgcolor": "rgba(255, 255, 255, 0.9)",
          "bordercolor": "blue",
          "borderwidth": 1,
          "font": {
           "color": "blue",
           "size": 10
          },
          "showarrow": false,
          "text": "gregarious",
          "x": 0.11452769337283833,
          "y": 1.4
         },
         {
          "bgcolor": "rgba(255, 255, 255, 0.9)",
          "bordercolor": "blue",
          "borderwidth": 1,
          "font": {
           "color": "blue",
           "size": 10
          },
          "showarrow": false,
          "text": "agreeable",
          "x": 0.11477122413467296,
          "y": 0.6
         },
         {
          "bgcolor": "rgba(255, 255, 255, 0.9)",
          "bordercolor": "blue",
          "borderwidth": 1,
          "font": {
           "color": "blue",
           "size": 10
          },
          "showarrow": false,
          "text": "effusive",
          "x": 0.11853537853274689,
          "y": 1.65
         },
         {
          "bgcolor": "rgba(255, 255, 255, 0.9)",
          "bordercolor": "blue",
          "borderwidth": 1,
          "font": {
           "color": "blue",
           "size": 10
          },
          "showarrow": false,
          "text": "emotional",
          "x": 0.12788733905990318,
          "y": 0.35
         },
         {
          "bgcolor": "rgba(255, 255, 255, 0.9)",
          "bordercolor": "blue",
          "borderwidth": 1,
          "font": {
           "color": "blue",
           "size": 10
          },
          "showarrow": false,
          "text": "empathetic",
          "x": 0.14424582331865052,
          "y": 1.3
         },
         {
          "bgcolor": "rgba(255, 255, 255, 0.9)",
          "bordercolor": "blue",
          "borderwidth": 1,
          "font": {
           "color": "blue",
           "size": 10
          },
          "showarrow": false,
          "text": "charismatic",
          "x": 0.14581581212872824,
          "y": 0.7
         },
         {
          "bgcolor": "rgba(255, 255, 255, 0.9)",
          "bordercolor": "blue",
          "borderwidth": 1,
          "font": {
           "color": "blue",
           "size": 10
          },
          "showarrow": false,
          "text": "chill",
          "x": 0.1678170413368392,
          "y": 1.58
         },
         {
          "bgcolor": "rgba(255, 255, 255, 0.9)",
          "bordercolor": "blue",
          "borderwidth": 1,
          "font": {
           "color": "blue",
           "size": 10
          },
          "showarrow": false,
          "text": "animated",
          "x": 0.17089020928570117,
          "y": 0.42
         },
         {
          "bgcolor": "rgba(255, 255, 255, 0.9)",
          "bordercolor": "blue",
          "borderwidth": 1,
          "font": {
           "color": "blue",
           "size": 10
          },
          "showarrow": false,
          "text": "supportive",
          "x": 0.18171404651800302,
          "y": 1.42
         },
         {
          "bgcolor": "rgba(255, 255, 255, 0.9)",
          "bordercolor": "blue",
          "borderwidth": 1,
          "font": {
           "color": "blue",
           "size": 10
          },
          "showarrow": false,
          "text": "nurturing",
          "x": 0.21742737668641668,
          "y": 0.58
         },
         {
          "bgcolor": "rgba(255, 255, 255, 0.9)",
          "bordercolor": "black",
          "borderwidth": 1,
          "font": {
           "color": "black",
           "size": 10
          },
          "showarrow": false,
          "text": "Assistant",
          "x": 0.01396610944805823,
          "y": 1.6
         }
        ],
        "height": 500,
        "shapes": [
         {
          "line": {
           "color": "gray",
           "dash": "solid",
           "width": 1
          },
          "opacity": 0.7,
          "type": "line",
          "x0": 0,
          "x1": 0,
          "xref": "x",
          "y0": 0,
          "y1": 1,
          "yref": "y domain"
         },
         {
          "line": {
           "color": "black",
           "dash": "dash",
           "width": 1
          },
          "opacity": 1,
          "type": "line",
          "x0": 0.01396610944805823,
          "x1": 0.01396610944805823,
          "xref": "x",
          "y0": 0,
          "y1": 1,
          "yref": "y domain"
         }
        ],
        "showlegend": false,
        "template": {
         "data": {
          "bar": [
           {
            "error_x": {
             "color": "#2a3f5f"
            },
            "error_y": {
             "color": "#2a3f5f"
            },
            "marker": {
             "line": {
              "color": "#E5ECF6",
              "width": 0.5
             },
             "pattern": {
              "fillmode": "overlay",
              "size": 10,
              "solidity": 0.2
             }
            },
            "type": "bar"
           }
          ],
          "barpolar": [
           {
            "marker": {
             "line": {
              "color": "#E5ECF6",
              "width": 0.5
             },
             "pattern": {
              "fillmode": "overlay",
              "size": 10,
              "solidity": 0.2
             }
            },
            "type": "barpolar"
           }
          ],
          "carpet": [
           {
            "aaxis": {
             "endlinecolor": "#2a3f5f",
             "gridcolor": "white",
             "linecolor": "white",
             "minorgridcolor": "white",
             "startlinecolor": "#2a3f5f"
            },
            "baxis": {
             "endlinecolor": "#2a3f5f",
             "gridcolor": "white",
             "linecolor": "white",
             "minorgridcolor": "white",
             "startlinecolor": "#2a3f5f"
            },
            "type": "carpet"
           }
          ],
          "choropleth": [
           {
            "colorbar": {
             "outlinewidth": 0,
             "ticks": ""
            },
            "type": "choropleth"
           }
          ],
          "contour": [
           {
            "colorbar": {
             "outlinewidth": 0,
             "ticks": ""
            },
            "colorscale": [
             [
              0,
              "#0d0887"
             ],
             [
              0.1111111111111111,
              "#46039f"
             ],
             [
              0.2222222222222222,
              "#7201a8"
             ],
             [
              0.3333333333333333,
              "#9c179e"
             ],
             [
              0.4444444444444444,
              "#bd3786"
             ],
             [
              0.5555555555555556,
              "#d8576b"
             ],
             [
              0.6666666666666666,
              "#ed7953"
             ],
             [
              0.7777777777777778,
              "#fb9f3a"
             ],
             [
              0.8888888888888888,
              "#fdca26"
             ],
             [
              1,
              "#f0f921"
             ]
            ],
            "type": "contour"
           }
          ],
          "contourcarpet": [
           {
            "colorbar": {
             "outlinewidth": 0,
             "ticks": ""
            },
            "type": "contourcarpet"
           }
          ],
          "heatmap": [
           {
            "colorbar": {
             "outlinewidth": 0,
             "ticks": ""
            },
            "colorscale": [
             [
              0,
              "#0d0887"
             ],
             [
              0.1111111111111111,
              "#46039f"
             ],
             [
              0.2222222222222222,
              "#7201a8"
             ],
             [
              0.3333333333333333,
              "#9c179e"
             ],
             [
              0.4444444444444444,
              "#bd3786"
             ],
             [
              0.5555555555555556,
              "#d8576b"
             ],
             [
              0.6666666666666666,
              "#ed7953"
             ],
             [
              0.7777777777777778,
              "#fb9f3a"
             ],
             [
              0.8888888888888888,
              "#fdca26"
             ],
             [
              1,
              "#f0f921"
             ]
            ],
            "type": "heatmap"
           }
          ],
          "heatmapgl": [
           {
            "colorbar": {
             "outlinewidth": 0,
             "ticks": ""
            },
            "colorscale": [
             [
              0,
              "#0d0887"
             ],
             [
              0.1111111111111111,
              "#46039f"
             ],
             [
              0.2222222222222222,
              "#7201a8"
             ],
             [
              0.3333333333333333,
              "#9c179e"
             ],
             [
              0.4444444444444444,
              "#bd3786"
             ],
             [
              0.5555555555555556,
              "#d8576b"
             ],
             [
              0.6666666666666666,
              "#ed7953"
             ],
             [
              0.7777777777777778,
              "#fb9f3a"
             ],
             [
              0.8888888888888888,
              "#fdca26"
             ],
             [
              1,
              "#f0f921"
             ]
            ],
            "type": "heatmapgl"
           }
          ],
          "histogram": [
           {
            "marker": {
             "pattern": {
              "fillmode": "overlay",
              "size": 10,
              "solidity": 0.2
             }
            },
            "type": "histogram"
           }
          ],
          "histogram2d": [
           {
            "colorbar": {
             "outlinewidth": 0,
             "ticks": ""
            },
            "colorscale": [
             [
              0,
              "#0d0887"
             ],
             [
              0.1111111111111111,
              "#46039f"
             ],
             [
              0.2222222222222222,
              "#7201a8"
             ],
             [
              0.3333333333333333,
              "#9c179e"
             ],
             [
              0.4444444444444444,
              "#bd3786"
             ],
             [
              0.5555555555555556,
              "#d8576b"
             ],
             [
              0.6666666666666666,
              "#ed7953"
             ],
             [
              0.7777777777777778,
              "#fb9f3a"
             ],
             [
              0.8888888888888888,
              "#fdca26"
             ],
             [
              1,
              "#f0f921"
             ]
            ],
            "type": "histogram2d"
           }
          ],
          "histogram2dcontour": [
           {
            "colorbar": {
             "outlinewidth": 0,
             "ticks": ""
            },
            "colorscale": [
             [
              0,
              "#0d0887"
             ],
             [
              0.1111111111111111,
              "#46039f"
             ],
             [
              0.2222222222222222,
              "#7201a8"
             ],
             [
              0.3333333333333333,
              "#9c179e"
             ],
             [
              0.4444444444444444,
              "#bd3786"
             ],
             [
              0.5555555555555556,
              "#d8576b"
             ],
             [
              0.6666666666666666,
              "#ed7953"
             ],
             [
              0.7777777777777778,
              "#fb9f3a"
             ],
             [
              0.8888888888888888,
              "#fdca26"
             ],
             [
              1,
              "#f0f921"
             ]
            ],
            "type": "histogram2dcontour"
           }
          ],
          "mesh3d": [
           {
            "colorbar": {
             "outlinewidth": 0,
             "ticks": ""
            },
            "type": "mesh3d"
           }
          ],
          "parcoords": [
           {
            "line": {
             "colorbar": {
              "outlinewidth": 0,
              "ticks": ""
             }
            },
            "type": "parcoords"
           }
          ],
          "pie": [
           {
            "automargin": true,
            "type": "pie"
           }
          ],
          "scatter": [
           {
            "fillpattern": {
             "fillmode": "overlay",
             "size": 10,
             "solidity": 0.2
            },
            "type": "scatter"
           }
          ],
          "scatter3d": [
           {
            "line": {
             "colorbar": {
              "outlinewidth": 0,
              "ticks": ""
             }
            },
            "marker": {
             "colorbar": {
              "outlinewidth": 0,
              "ticks": ""
             }
            },
            "type": "scatter3d"
           }
          ],
          "scattercarpet": [
           {
            "marker": {
             "colorbar": {
              "outlinewidth": 0,
              "ticks": ""
             }
            },
            "type": "scattercarpet"
           }
          ],
          "scattergeo": [
           {
            "marker": {
             "colorbar": {
              "outlinewidth": 0,
              "ticks": ""
             }
            },
            "type": "scattergeo"
           }
          ],
          "scattergl": [
           {
            "marker": {
             "colorbar": {
              "outlinewidth": 0,
              "ticks": ""
             }
            },
            "type": "scattergl"
           }
          ],
          "scattermapbox": [
           {
            "marker": {
             "colorbar": {
              "outlinewidth": 0,
              "ticks": ""
             }
            },
            "type": "scattermapbox"
           }
          ],
          "scatterpolar": [
           {
            "marker": {
             "colorbar": {
              "outlinewidth": 0,
              "ticks": ""
             }
            },
            "type": "scatterpolar"
           }
          ],
          "scatterpolargl": [
           {
            "marker": {
             "colorbar": {
              "outlinewidth": 0,
              "ticks": ""
             }
            },
            "type": "scatterpolargl"
           }
          ],
          "scatterternary": [
           {
            "marker": {
             "colorbar": {
              "outlinewidth": 0,
              "ticks": ""
             }
            },
            "type": "scatterternary"
           }
          ],
          "surface": [
           {
            "colorbar": {
             "outlinewidth": 0,
             "ticks": ""
            },
            "colorscale": [
             [
              0,
              "#0d0887"
             ],
             [
              0.1111111111111111,
              "#46039f"
             ],
             [
              0.2222222222222222,
              "#7201a8"
             ],
             [
              0.3333333333333333,
              "#9c179e"
             ],
             [
              0.4444444444444444,
              "#bd3786"
             ],
             [
              0.5555555555555556,
              "#d8576b"
             ],
             [
              0.6666666666666666,
              "#ed7953"
             ],
             [
              0.7777777777777778,
              "#fb9f3a"
             ],
             [
              0.8888888888888888,
              "#fdca26"
             ],
             [
              1,
              "#f0f921"
             ]
            ],
            "type": "surface"
           }
          ],
          "table": [
           {
            "cells": {
             "fill": {
              "color": "#EBF0F8"
             },
             "line": {
              "color": "white"
             }
            },
            "header": {
             "fill": {
              "color": "#C8D4E3"
             },
             "line": {
              "color": "white"
             }
            },
            "type": "table"
           }
          ]
         },
         "layout": {
          "annotationdefaults": {
           "arrowcolor": "#2a3f5f",
           "arrowhead": 0,
           "arrowwidth": 1
          },
          "autotypenumbers": "strict",
          "coloraxis": {
           "colorbar": {
            "outlinewidth": 0,
            "ticks": ""
           }
          },
          "colorscale": {
           "diverging": [
            [
             0,
             "#8e0152"
            ],
            [
             0.1,
             "#c51b7d"
            ],
            [
             0.2,
             "#de77ae"
            ],
            [
             0.3,
             "#f1b6da"
            ],
            [
             0.4,
             "#fde0ef"
            ],
            [
             0.5,
             "#f7f7f7"
            ],
            [
             0.6,
             "#e6f5d0"
            ],
            [
             0.7,
             "#b8e186"
            ],
            [
             0.8,
             "#7fbc41"
            ],
            [
             0.9,
             "#4d9221"
            ],
            [
             1,
             "#276419"
            ]
           ],
           "sequential": [
            [
             0,
             "#0d0887"
            ],
            [
             0.1111111111111111,
             "#46039f"
            ],
            [
             0.2222222222222222,
             "#7201a8"
            ],
            [
             0.3333333333333333,
             "#9c179e"
            ],
            [
             0.4444444444444444,
             "#bd3786"
            ],
            [
             0.5555555555555556,
             "#d8576b"
            ],
            [
             0.6666666666666666,
             "#ed7953"
            ],
            [
             0.7777777777777778,
             "#fb9f3a"
            ],
            [
             0.8888888888888888,
             "#fdca26"
            ],
            [
             1,
             "#f0f921"
            ]
           ],
           "sequentialminus": [
            [
             0,
             "#0d0887"
            ],
            [
             0.1111111111111111,
             "#46039f"
            ],
            [
             0.2222222222222222,
             "#7201a8"
            ],
            [
             0.3333333333333333,
             "#9c179e"
            ],
            [
             0.4444444444444444,
             "#bd3786"
            ],
            [
             0.5555555555555556,
             "#d8576b"
            ],
            [
             0.6666666666666666,
             "#ed7953"
            ],
            [
             0.7777777777777778,
             "#fb9f3a"
            ],
            [
             0.8888888888888888,
             "#fdca26"
            ],
            [
             1,
             "#f0f921"
            ]
           ]
          },
          "colorway": [
           "#636efa",
           "#EF553B",
           "#00cc96",
           "#ab63fa",
           "#FFA15A",
           "#19d3f3",
           "#FF6692",
           "#B6E880",
           "#FF97FF",
           "#FECB52"
          ],
          "font": {
           "color": "#2a3f5f"
          },
          "geo": {
           "bgcolor": "white",
           "lakecolor": "white",
           "landcolor": "#E5ECF6",
           "showlakes": true,
           "showland": true,
           "subunitcolor": "white"
          },
          "hoverlabel": {
           "align": "left"
          },
          "hovermode": "closest",
          "mapbox": {
           "style": "light"
          },
          "paper_bgcolor": "white",
          "plot_bgcolor": "#E5ECF6",
          "polar": {
           "angularaxis": {
            "gridcolor": "white",
            "linecolor": "white",
            "ticks": ""
           },
           "bgcolor": "#E5ECF6",
           "radialaxis": {
            "gridcolor": "white",
            "linecolor": "white",
            "ticks": ""
           }
          },
          "scene": {
           "xaxis": {
            "backgroundcolor": "#E5ECF6",
            "gridcolor": "white",
            "gridwidth": 2,
            "linecolor": "white",
            "showbackground": true,
            "ticks": "",
            "zerolinecolor": "white"
           },
           "yaxis": {
            "backgroundcolor": "#E5ECF6",
            "gridcolor": "white",
            "gridwidth": 2,
            "linecolor": "white",
            "showbackground": true,
            "ticks": "",
            "zerolinecolor": "white"
           },
           "zaxis": {
            "backgroundcolor": "#E5ECF6",
            "gridcolor": "white",
            "gridwidth": 2,
            "linecolor": "white",
            "showbackground": true,
            "ticks": "",
            "zerolinecolor": "white"
           }
          },
          "shapedefaults": {
           "line": {
            "color": "#2a3f5f"
           }
          },
          "ternary": {
           "aaxis": {
            "gridcolor": "white",
            "linecolor": "white",
            "ticks": ""
           },
           "baxis": {
            "gridcolor": "white",
            "linecolor": "white",
            "ticks": ""
           },
           "bgcolor": "#E5ECF6",
           "caxis": {
            "gridcolor": "white",
            "linecolor": "white",
            "ticks": ""
           }
          },
          "title": {
           "x": 0.05
          },
          "xaxis": {
           "automargin": true,
           "gridcolor": "white",
           "linecolor": "white",
           "ticks": "",
           "title": {
            "standoff": 15
           },
           "zerolinecolor": "white",
           "zerolinewidth": 2
          },
          "yaxis": {
           "automargin": true,
           "gridcolor": "white",
           "linecolor": "white",
           "ticks": "",
           "title": {
            "standoff": 15
           },
           "zerolinecolor": "white",
           "zerolinewidth": 2
          }
         }
        },
        "title": {
         "font": {
          "size": 16
         },
         "subtitle": {
          "text": "Gemma 2 27B, Layer 34"
         },
         "text": "PC2 Cosine Similarity with Assistant",
         "x": 0.5
        },
        "xaxis": {
         "range": [
          -0.23917011435505836,
          0.23917011435505836
         ],
         "title": {
          "text": "PC2 Cosine Similarity"
         }
        },
        "yaxis": {
         "range": [
          0.25,
          1.75
         ],
         "showticklabels": false,
         "title": {
          "text": ""
         }
        }
       }
      },
      "text/html": [
       "<div>                            <div id=\"85c4438e-1325-4951-bb27-ea3dc7eccae8\" class=\"plotly-graph-div\" style=\"height:500px; width:100%;\"></div>            <script type=\"text/javascript\">                require([\"plotly\"], function(Plotly) {                    window.PLOTLYENV=window.PLOTLYENV || {};                                    if (document.getElementById(\"85c4438e-1325-4951-bb27-ea3dc7eccae8\")) {                    Plotly.newPlot(                        \"85c4438e-1325-4951-bb27-ea3dc7eccae8\",                        [{\"hovertemplate\":\"\\u003cb\\u003e%{text}\\u003c\\u002fb\\u003e\\u003cbr\\u003eCosine Similarity: %{x:.3f}\\u003cextra\\u003e\\u003c\\u002fextra\\u003e\",\"marker\":{\"color\":[\"red\",\"blue\",\"blue\",\"blue\",\"blue\",\"blue\",\"blue\",\"red\",\"red\",\"red\",\"red\",\"blue\",\"red\",\"red\",\"red\",\"blue\",\"red\",\"red\",\"red\",\"blue\",\"blue\",\"blue\",\"red\",\"red\",\"blue\",\"blue\",\"red\",\"blue\",\"blue\",\"red\",\"red\",\"blue\",\"red\",\"red\",\"red\",\"red\",\"red\",\"blue\",\"red\",\"red\",\"red\",\"blue\",\"blue\",\"red\",\"red\",\"blue\",\"red\",\"red\",\"red\",\"blue\",\"red\",\"red\",\"red\",\"blue\",\"blue\",\"blue\",\"red\",\"red\",\"blue\",\"blue\",\"blue\",\"red\",\"blue\",\"red\",\"red\",\"blue\",\"blue\",\"blue\",\"red\",\"blue\",\"red\",\"red\",\"red\",\"blue\",\"red\",\"blue\",\"blue\",\"blue\",\"blue\",\"red\",\"red\",\"blue\",\"red\",\"blue\",\"blue\",\"red\",\"red\",\"blue\",\"blue\",\"blue\",\"blue\",\"red\",\"red\",\"blue\",\"red\",\"blue\",\"blue\",\"blue\",\"red\",\"blue\",\"red\",\"blue\",\"red\",\"blue\",\"blue\",\"red\",\"blue\",\"blue\",\"blue\",\"blue\",\"blue\",\"red\",\"blue\",\"red\",\"red\",\"red\",\"red\",\"red\",\"blue\",\"red\",\"red\",\"blue\",\"red\",\"blue\",\"red\",\"blue\",\"red\",\"red\",\"red\",\"red\",\"red\",\"blue\",\"blue\",\"blue\",\"blue\",\"red\",\"red\",\"red\",\"blue\",\"red\",\"blue\",\"blue\",\"blue\",\"blue\",\"red\",\"blue\",\"red\",\"blue\",\"red\",\"blue\",\"red\",\"red\",\"red\",\"blue\",\"blue\",\"blue\",\"blue\",\"blue\",\"red\",\"red\",\"blue\",\"blue\",\"blue\",\"red\",\"blue\",\"red\",\"red\",\"red\",\"blue\",\"blue\",\"red\",\"red\",\"red\",\"blue\",\"red\",\"blue\",\"blue\",\"red\",\"blue\",\"red\",\"red\",\"red\",\"blue\",\"red\",\"red\",\"blue\",\"red\",\"red\",\"blue\",\"blue\",\"blue\",\"red\",\"blue\",\"blue\",\"red\",\"blue\",\"blue\",\"blue\",\"blue\",\"blue\",\"red\",\"red\",\"blue\",\"red\",\"red\",\"red\",\"red\",\"red\",\"red\",\"blue\",\"red\",\"blue\",\"blue\",\"red\",\"blue\"],\"opacity\":0.7,\"size\":8},\"mode\":\"markers\",\"showlegend\":false,\"text\":[\"absolutist\",\"adaptable\",\"abstract\",\"accessible\",\"accommodating\",\"adventurous\",\"altruistic\",\"analytical\",\"anthropocentric\",\"anxious\",\"arrogant\",\"artistic\",\"ascetic\",\"assertive\",\"avoidant\",\"benevolent\",\"big_picture\",\"bitter\",\"bombastic\",\"calculating\",\"calm\",\"casual\",\"cautious\",\"challenging\",\"chaotic\",\"circumspect\",\"closure_seeking\",\"collaborative\",\"collectivistic\",\"competitive\",\"conceptual\",\"conciliatory\",\"concise\",\"condescending\",\"confident\",\"confrontational\",\"conscientious\",\"constructivist\",\"contemporary\",\"contrarian\",\"convergent\",\"cosmopolitan\",\"creative\",\"critical\",\"cryptic\",\"curious\",\"cynical\",\"data_driven\",\"decisive\",\"deconstructionist\",\"deontological\",\"descriptive\",\"deterministic\",\"diplomatic\",\"disorganized\",\"divergent\",\"dogmatic\",\"dominant\",\"dramatic\",\"earnest\",\"eclectic\",\"edgy\",\"educational\",\"efficient\",\"elitist\",\"eloquent\",\"enigmatic\",\"entertaining\",\"environmental\",\"epicurean\",\"erudite\",\"esoteric\",\"essentialist\",\"ethereal\",\"evil\",\"existentialist\",\"experiential\",\"exploratory\",\"extroverted\",\"factual\",\"fatalistic\",\"flexible\",\"flippant\",\"flirty\",\"forgiving\",\"formalist\",\"fundamentalist\",\"futuristic\",\"generalist\",\"generous\",\"goofy\",\"grandiose\",\"grounded\",\"hedonistic\",\"historical\",\"holistic\",\"humanistic\",\"humble\",\"iconoclastic\",\"idealistic\",\"impatient\",\"improvisational\",\"impulsive\",\"inclusive\",\"independent\",\"individualistic\",\"innovative\",\"inquisitive\",\"inspirational\",\"interdisciplinary\",\"introspective\",\"introverted\",\"intuitive\",\"ironic\",\"irreverent\",\"judgmental\",\"libertarian\",\"literal\",\"manic\",\"manipulative\",\"materialist\",\"meditative\",\"melancholic\",\"melodramatic\",\"mercurial\",\"metaphorical\",\"methodical\",\"meticulous\",\"militant\",\"misanthropic\",\"mischievous\",\"moderate\",\"mystical\",\"naive\",\"narrative\",\"neurotic\",\"nihilistic\",\"nonchalant\",\"nostalgic\",\"obsessive\",\"open_ended\",\"optimistic\",\"pacifist\",\"paradoxical\",\"paranoid\",\"passionate\",\"passive_aggressive\",\"patient\",\"pedantic\",\"pensive\",\"perfectionist\",\"pessimistic\",\"petty\",\"philosophical\",\"playful\",\"pluralist\",\"poetic\",\"practical\",\"prescriptive\",\"principled\",\"proactive\",\"problem_solving\",\"progressive\",\"provocative\",\"qualitative\",\"quantitative\",\"radical\",\"rationalist\",\"reactive\",\"rebellious\",\"reductionist\",\"regulatory\",\"reserved\",\"resilient\",\"reverent\",\"rhetorical\",\"risk_taking\",\"ritualistic\",\"romantic\",\"sardonic\",\"sassy\",\"secular\",\"serene\",\"serious\",\"skeptical\",\"socratic\",\"solemn\",\"specialized\",\"speculative\",\"spiritual\",\"spontaneous\",\"stoic\",\"strategic\",\"stream_of_consciousness\",\"structuralist\",\"submissive\",\"subversive\",\"sycophantic\",\"systems_thinker\",\"tactful\",\"technical\",\"temperamental\",\"theatrical\",\"theoretical\",\"traditional\",\"understated\",\"universalist\",\"urgent\",\"utilitarian\",\"verbose\",\"visceral\",\"whimsical\",\"witty\",\"wry\",\"zealous\"],\"x\":[-0.026889846782751085,0.0809484429507299,2.9995517877856596e-05,0.0737039566561843,0.07987167659874535,0.03481430906028945,0.03902454313507682,-0.02933834689382751,-0.023220829120015676,-0.007425479680214116,-0.08830251590696568,0.08518876611762077,-0.01813196159001785,-0.02151423993505939,-0.00327089264605849,0.09758953184107377,-0.003022249826693588,-0.05738434937166247,-0.05455741962164673,0.010826989787203676,0.0328899015454188,0.10490025076323355,-0.03748116309237771,-0.028433140217017757,0.006198331105226393,0.06776820906733383,-0.05371210865452116,0.025167362780893036,0.022479778590504842,-0.0985464661192776,-0.005635545713249716,0.06101943389329058,-0.07253219998934508,-0.03937766771654059,-0.0711378619280387,-0.10186219016788572,-0.019316954156767145,0.030102836464999817,-0.00026684518090282975,-0.022153365995161194,-0.044632710933844584,0.0036528699141122815,0.03569883918255349,-0.012923839006979252,-0.0031193446914919744,0.06927135448484242,-0.06543291234091268,-0.05806072939789983,-0.07636436802694697,0.008747229946207198,-0.007445646191111543,-0.031422203161850654,-0.051210782441943714,0.03722944535045964,0.023010579241898706,0.07144790787846705,-0.04702266595266409,-0.04736454365844693,0.05295163879257751,0.07722091503462641,0.035577237752912834,-0.07411332298180749,0.039084555054831376,-0.03454717883521135,-0.06398290863273187,0.05701341651859519,0.01650117551775616,0.08617646772309082,-0.0008178819147173779,0.01715650477767686,-0.06651876070402402,-0.05902999202409371,-0.05052441072400422,0.01891323818425638,-0.035273359977190624,0.03265438747997193,0.03084533917349716,0.10095548293162906,0.05823621019005921,-0.019157544316776298,-0.026678563651509498,0.07132489024301424,-0.021659971401956152,0.07637326520141491,0.05295734133715461,-0.07863775064825983,-0.0482592214148831,0.00950124373760781,0.011310991654561583,0.09923620766163566,0.019306960602045432,-0.018272885790775666,-0.03441191462968905,0.011881645321102035,-0.004599163390627942,0.01804358050909971,0.04552016836293306,0.039672173844523394,-0.029899469123211807,0.007275857788654847,-0.06811270966752578,0.02812593306478076,-0.03814321098416491,0.023387109808247625,0.0003368679423927843,-0.016651642636701255,0.011553263054577028,0.05405244809602474,0.07977223949965065,0.01199164395595627,0.06001260218869239,-0.08993649422888068,0.033778174556387486,-0.026314880095912548,-0.020201398184123923,-0.08274001596429836,-0.012216977525176706,-0.0653269697073931,0.030029615951638722,-0.023054812904522125,-0.04780902419138388,0.07695908785503636,-0.08224055264589884,0.0515156671697459,-0.007123940793352014,0.07728564930024709,-0.07674748872308015,-0.04665304791309194,-0.05731944039874694,-0.07203355415333494,-0.011822006787365247,0.03221752638214571,0.04405281109874031,0.055676701736235415,0.05838756639237928,-0.004889517186872947,-0.08290500897347118,-0.06957357105059041,0.0023264655796049268,-0.03258097519066542,0.0928259484425944,0.05425084357859035,0.012119990983433448,0.032096090828421645,-0.014384088809685556,0.07271697771405337,-0.06501655219019835,0.11191604519843845,-0.041875211639802165,0.038452748802005686,-0.06117371912749306,-0.04085050162647992,-0.04912078643524138,0.047386553417855165,0.06781113941404925,0.012174086924387196,0.0962670578787903,0.0035757047125168123,-0.08108864697163043,-0.017636481353868475,0.06414048158941675,0.000948614155114494,0.007992303964896865,-0.013414317723051418,0.049481977283564585,-0.0731219316655295,-0.01721704224263275,-0.0607021287974656,0.002926616057050421,0.005941842654971545,-0.02428497919027603,-0.03390645008191834,-0.0924961695035955,0.020652968712548,-0.0026552945567454972,0.05072870299931285,0.014741933526628824,-0.05150373550636368,0.08792292421572899,-0.0829862186167679,-0.07460580225076724,-0.03409036838674679,0.060921404230638694,-0.09716737112217413,-0.0367501401984656,0.016451332847379836,-0.0517247432961337,-0.0612843964053201,0.03303740568623249,0.057828308009836224,0.052368684487520245,-0.09833250166829254,0.04117309456922284,0.05535941553681835,-0.055183492868076195,0.011353673921365309,0.0014871986765870912,0.01240420759214688,0.01935282836331867,0.08994087751308495,-0.07763155226180855,-0.0025018220052631726,0.05171607748047289,-0.024929936120881187,-0.015422010026639022,-0.04075482984264824,-0.013088423122095516,-0.06381295344776225,-0.01578595712458531,0.038891102940072586,-0.0038984650721817127,0.064501932106704,0.05198444498979059,-0.09447353820525868,0.03317629094127126],\"y\":[1,1,1,1,1,1,1,1,1,1,1,1,1,1,1,1,1,1,1,1,1,1,1,1,1,1,1,1,1,1,1,1,1,1,1,1,1,1,1,1,1,1,1,1,1,1,1,1,1,1,1,1,1,1,1,1,1,1,1,1,1,1,1,1,1,1,1,1,1,1,1,1,1,1,1,1,1,1,1,1,1,1,1,1,1,1,1,1,1,1,1,1,1,1,1,1,1,1,1,1,1,1,1,1,1,1,1,1,1,1,1,1,1,1,1,1,1,1,1,1,1,1,1,1,1,1,1,1,1,1,1,1,1,1,1,1,1,1,1,1,1,1,1,1,1,1,1,1,1,1,1,1,1,1,1,1,1,1,1,1,1,1,1,1,1,1,1,1,1,1,1,1,1,1,1,1,1,1,1,1,1,1,1,1,1,1,1,1,1,1,1,1,1,1,1,1,1,1,1,1,1,1,1,1,1,1,1,1,1,1,1,1,1,1,1],\"type\":\"scatter\"},{\"hovertemplate\":\"\\u003cb\\u003e%{text}\\u003c\\u002fb\\u003e\\u003cbr\\u003eCosine Similarity: %{x:.3f}\\u003cextra\\u003e\\u003c\\u002fextra\\u003e\",\"marker\":{\"color\":[\"red\",\"blue\",\"blue\",\"red\",\"red\",\"blue\",\"blue\",\"red\",\"red\",\"red\",\"blue\",\"blue\",\"blue\",\"red\",\"blue\",\"red\",\"blue\",\"red\",\"red\",\"blue\"],\"opacity\":0.9,\"size\":8},\"mode\":\"markers\",\"showlegend\":false,\"text\":[\"acerbic\",\"agreeable\",\"animated\",\"blunt\",\"callous\",\"charismatic\",\"chill\",\"cruel\",\"detached\",\"dispassionate\",\"effusive\",\"emotional\",\"empathetic\",\"formal\",\"gregarious\",\"hostile\",\"nurturing\",\"sarcastic\",\"savage\",\"supportive\"],\"x\":[-0.12730207846125455,0.11477122413467296,0.17089020928570117,-0.11172454901990742,-0.20226966780717442,0.14581581212872824,0.1678170413368392,-0.1720481736084418,-0.14067373156630306,-0.10895535852502095,0.11853537853274689,0.12788733905990318,0.14424582331865052,-0.10447457817380679,0.11452769337283833,-0.13070670329988954,0.21742737668641668,-0.10199541841375576,-0.1470688437057739,0.18171404651800302],\"y\":[1,1,1,1,1,1,1,1,1,1,1,1,1,1,1,1,1,1,1,1],\"type\":\"scatter\"},{\"hoverinfo\":\"skip\",\"line\":{\"color\":\"red\",\"width\":1},\"mode\":\"lines\",\"showlegend\":false,\"x\":[-0.20226966780717442,-0.20226966780717442],\"y\":[1.0,1.6],\"type\":\"scatter\"},{\"hoverinfo\":\"skip\",\"line\":{\"color\":\"red\",\"width\":1},\"mode\":\"lines\",\"showlegend\":false,\"x\":[-0.1720481736084418,-0.1720481736084418],\"y\":[1.0,0.4],\"type\":\"scatter\"},{\"hoverinfo\":\"skip\",\"line\":{\"color\":\"red\",\"width\":1},\"mode\":\"lines\",\"showlegend\":false,\"x\":[-0.1470688437057739,-0.1470688437057739],\"y\":[1.0,1.45],\"type\":\"scatter\"},{\"hoverinfo\":\"skip\",\"line\":{\"color\":\"red\",\"width\":1},\"mode\":\"lines\",\"showlegend\":false,\"x\":[-0.14067373156630306,-0.14067373156630306],\"y\":[1.0,0.55],\"type\":\"scatter\"},{\"hoverinfo\":\"skip\",\"line\":{\"color\":\"red\",\"width\":1},\"mode\":\"lines\",\"showlegend\":false,\"x\":[-0.13070670329988954,-0.13070670329988954],\"y\":[1.0,1.55],\"type\":\"scatter\"},{\"hoverinfo\":\"skip\",\"line\":{\"color\":\"red\",\"width\":1},\"mode\":\"lines\",\"showlegend\":false,\"x\":[-0.12730207846125455,-0.12730207846125455],\"y\":[1.0,0.45],\"type\":\"scatter\"},{\"hoverinfo\":\"skip\",\"line\":{\"color\":\"red\",\"width\":1},\"mode\":\"lines\",\"showlegend\":false,\"x\":[-0.11172454901990742,-0.11172454901990742],\"y\":[1.0,1.35],\"type\":\"scatter\"},{\"hoverinfo\":\"skip\",\"line\":{\"color\":\"red\",\"width\":1},\"mode\":\"lines\",\"showlegend\":false,\"x\":[-0.10895535852502095,-0.10895535852502095],\"y\":[1.0,0.65],\"type\":\"scatter\"},{\"hoverinfo\":\"skip\",\"line\":{\"color\":\"red\",\"width\":1},\"mode\":\"lines\",\"showlegend\":false,\"x\":[-0.10447457817380679,-0.10447457817380679],\"y\":[1.0,1.5],\"type\":\"scatter\"},{\"hoverinfo\":\"skip\",\"line\":{\"color\":\"red\",\"width\":1},\"mode\":\"lines\",\"showlegend\":false,\"x\":[-0.10199541841375576,-0.10199541841375576],\"y\":[1.0,0.5],\"type\":\"scatter\"},{\"hoverinfo\":\"skip\",\"line\":{\"color\":\"blue\",\"width\":1},\"mode\":\"lines\",\"showlegend\":false,\"x\":[0.11452769337283833,0.11452769337283833],\"y\":[1.0,1.4],\"type\":\"scatter\"},{\"hoverinfo\":\"skip\",\"line\":{\"color\":\"blue\",\"width\":1},\"mode\":\"lines\",\"showlegend\":false,\"x\":[0.11477122413467296,0.11477122413467296],\"y\":[1.0,0.6],\"type\":\"scatter\"},{\"hoverinfo\":\"skip\",\"line\":{\"color\":\"blue\",\"width\":1},\"mode\":\"lines\",\"showlegend\":false,\"x\":[0.11853537853274689,0.11853537853274689],\"y\":[1.0,1.65],\"type\":\"scatter\"},{\"hoverinfo\":\"skip\",\"line\":{\"color\":\"blue\",\"width\":1},\"mode\":\"lines\",\"showlegend\":false,\"x\":[0.12788733905990318,0.12788733905990318],\"y\":[1.0,0.35],\"type\":\"scatter\"},{\"hoverinfo\":\"skip\",\"line\":{\"color\":\"blue\",\"width\":1},\"mode\":\"lines\",\"showlegend\":false,\"x\":[0.14424582331865052,0.14424582331865052],\"y\":[1.0,1.3],\"type\":\"scatter\"},{\"hoverinfo\":\"skip\",\"line\":{\"color\":\"blue\",\"width\":1},\"mode\":\"lines\",\"showlegend\":false,\"x\":[0.14581581212872824,0.14581581212872824],\"y\":[1.0,0.7],\"type\":\"scatter\"},{\"hoverinfo\":\"skip\",\"line\":{\"color\":\"blue\",\"width\":1},\"mode\":\"lines\",\"showlegend\":false,\"x\":[0.1678170413368392,0.1678170413368392],\"y\":[1.0,1.58],\"type\":\"scatter\"},{\"hoverinfo\":\"skip\",\"line\":{\"color\":\"blue\",\"width\":1},\"mode\":\"lines\",\"showlegend\":false,\"x\":[0.17089020928570117,0.17089020928570117],\"y\":[1.0,0.42],\"type\":\"scatter\"},{\"hoverinfo\":\"skip\",\"line\":{\"color\":\"blue\",\"width\":1},\"mode\":\"lines\",\"showlegend\":false,\"x\":[0.18171404651800302,0.18171404651800302],\"y\":[1.0,1.42],\"type\":\"scatter\"},{\"hoverinfo\":\"skip\",\"line\":{\"color\":\"blue\",\"width\":1},\"mode\":\"lines\",\"showlegend\":false,\"x\":[0.21742737668641668,0.21742737668641668],\"y\":[1.0,0.58],\"type\":\"scatter\"}],                        {\"template\":{\"data\":{\"histogram2dcontour\":[{\"type\":\"histogram2dcontour\",\"colorbar\":{\"outlinewidth\":0,\"ticks\":\"\"},\"colorscale\":[[0.0,\"#0d0887\"],[0.1111111111111111,\"#46039f\"],[0.2222222222222222,\"#7201a8\"],[0.3333333333333333,\"#9c179e\"],[0.4444444444444444,\"#bd3786\"],[0.5555555555555556,\"#d8576b\"],[0.6666666666666666,\"#ed7953\"],[0.7777777777777778,\"#fb9f3a\"],[0.8888888888888888,\"#fdca26\"],[1.0,\"#f0f921\"]]}],\"choropleth\":[{\"type\":\"choropleth\",\"colorbar\":{\"outlinewidth\":0,\"ticks\":\"\"}}],\"histogram2d\":[{\"type\":\"histogram2d\",\"colorbar\":{\"outlinewidth\":0,\"ticks\":\"\"},\"colorscale\":[[0.0,\"#0d0887\"],[0.1111111111111111,\"#46039f\"],[0.2222222222222222,\"#7201a8\"],[0.3333333333333333,\"#9c179e\"],[0.4444444444444444,\"#bd3786\"],[0.5555555555555556,\"#d8576b\"],[0.6666666666666666,\"#ed7953\"],[0.7777777777777778,\"#fb9f3a\"],[0.8888888888888888,\"#fdca26\"],[1.0,\"#f0f921\"]]}],\"heatmap\":[{\"type\":\"heatmap\",\"colorbar\":{\"outlinewidth\":0,\"ticks\":\"\"},\"colorscale\":[[0.0,\"#0d0887\"],[0.1111111111111111,\"#46039f\"],[0.2222222222222222,\"#7201a8\"],[0.3333333333333333,\"#9c179e\"],[0.4444444444444444,\"#bd3786\"],[0.5555555555555556,\"#d8576b\"],[0.6666666666666666,\"#ed7953\"],[0.7777777777777778,\"#fb9f3a\"],[0.8888888888888888,\"#fdca26\"],[1.0,\"#f0f921\"]]}],\"heatmapgl\":[{\"type\":\"heatmapgl\",\"colorbar\":{\"outlinewidth\":0,\"ticks\":\"\"},\"colorscale\":[[0.0,\"#0d0887\"],[0.1111111111111111,\"#46039f\"],[0.2222222222222222,\"#7201a8\"],[0.3333333333333333,\"#9c179e\"],[0.4444444444444444,\"#bd3786\"],[0.5555555555555556,\"#d8576b\"],[0.6666666666666666,\"#ed7953\"],[0.7777777777777778,\"#fb9f3a\"],[0.8888888888888888,\"#fdca26\"],[1.0,\"#f0f921\"]]}],\"contourcarpet\":[{\"type\":\"contourcarpet\",\"colorbar\":{\"outlinewidth\":0,\"ticks\":\"\"}}],\"contour\":[{\"type\":\"contour\",\"colorbar\":{\"outlinewidth\":0,\"ticks\":\"\"},\"colorscale\":[[0.0,\"#0d0887\"],[0.1111111111111111,\"#46039f\"],[0.2222222222222222,\"#7201a8\"],[0.3333333333333333,\"#9c179e\"],[0.4444444444444444,\"#bd3786\"],[0.5555555555555556,\"#d8576b\"],[0.6666666666666666,\"#ed7953\"],[0.7777777777777778,\"#fb9f3a\"],[0.8888888888888888,\"#fdca26\"],[1.0,\"#f0f921\"]]}],\"surface\":[{\"type\":\"surface\",\"colorbar\":{\"outlinewidth\":0,\"ticks\":\"\"},\"colorscale\":[[0.0,\"#0d0887\"],[0.1111111111111111,\"#46039f\"],[0.2222222222222222,\"#7201a8\"],[0.3333333333333333,\"#9c179e\"],[0.4444444444444444,\"#bd3786\"],[0.5555555555555556,\"#d8576b\"],[0.6666666666666666,\"#ed7953\"],[0.7777777777777778,\"#fb9f3a\"],[0.8888888888888888,\"#fdca26\"],[1.0,\"#f0f921\"]]}],\"mesh3d\":[{\"type\":\"mesh3d\",\"colorbar\":{\"outlinewidth\":0,\"ticks\":\"\"}}],\"scatter\":[{\"fillpattern\":{\"fillmode\":\"overlay\",\"size\":10,\"solidity\":0.2},\"type\":\"scatter\"}],\"parcoords\":[{\"type\":\"parcoords\",\"line\":{\"colorbar\":{\"outlinewidth\":0,\"ticks\":\"\"}}}],\"scatterpolargl\":[{\"type\":\"scatterpolargl\",\"marker\":{\"colorbar\":{\"outlinewidth\":0,\"ticks\":\"\"}}}],\"bar\":[{\"error_x\":{\"color\":\"#2a3f5f\"},\"error_y\":{\"color\":\"#2a3f5f\"},\"marker\":{\"line\":{\"color\":\"#E5ECF6\",\"width\":0.5},\"pattern\":{\"fillmode\":\"overlay\",\"size\":10,\"solidity\":0.2}},\"type\":\"bar\"}],\"scattergeo\":[{\"type\":\"scattergeo\",\"marker\":{\"colorbar\":{\"outlinewidth\":0,\"ticks\":\"\"}}}],\"scatterpolar\":[{\"type\":\"scatterpolar\",\"marker\":{\"colorbar\":{\"outlinewidth\":0,\"ticks\":\"\"}}}],\"histogram\":[{\"marker\":{\"pattern\":{\"fillmode\":\"overlay\",\"size\":10,\"solidity\":0.2}},\"type\":\"histogram\"}],\"scattergl\":[{\"type\":\"scattergl\",\"marker\":{\"colorbar\":{\"outlinewidth\":0,\"ticks\":\"\"}}}],\"scatter3d\":[{\"type\":\"scatter3d\",\"line\":{\"colorbar\":{\"outlinewidth\":0,\"ticks\":\"\"}},\"marker\":{\"colorbar\":{\"outlinewidth\":0,\"ticks\":\"\"}}}],\"scattermapbox\":[{\"type\":\"scattermapbox\",\"marker\":{\"colorbar\":{\"outlinewidth\":0,\"ticks\":\"\"}}}],\"scatterternary\":[{\"type\":\"scatterternary\",\"marker\":{\"colorbar\":{\"outlinewidth\":0,\"ticks\":\"\"}}}],\"scattercarpet\":[{\"type\":\"scattercarpet\",\"marker\":{\"colorbar\":{\"outlinewidth\":0,\"ticks\":\"\"}}}],\"carpet\":[{\"aaxis\":{\"endlinecolor\":\"#2a3f5f\",\"gridcolor\":\"white\",\"linecolor\":\"white\",\"minorgridcolor\":\"white\",\"startlinecolor\":\"#2a3f5f\"},\"baxis\":{\"endlinecolor\":\"#2a3f5f\",\"gridcolor\":\"white\",\"linecolor\":\"white\",\"minorgridcolor\":\"white\",\"startlinecolor\":\"#2a3f5f\"},\"type\":\"carpet\"}],\"table\":[{\"cells\":{\"fill\":{\"color\":\"#EBF0F8\"},\"line\":{\"color\":\"white\"}},\"header\":{\"fill\":{\"color\":\"#C8D4E3\"},\"line\":{\"color\":\"white\"}},\"type\":\"table\"}],\"barpolar\":[{\"marker\":{\"line\":{\"color\":\"#E5ECF6\",\"width\":0.5},\"pattern\":{\"fillmode\":\"overlay\",\"size\":10,\"solidity\":0.2}},\"type\":\"barpolar\"}],\"pie\":[{\"automargin\":true,\"type\":\"pie\"}]},\"layout\":{\"autotypenumbers\":\"strict\",\"colorway\":[\"#636efa\",\"#EF553B\",\"#00cc96\",\"#ab63fa\",\"#FFA15A\",\"#19d3f3\",\"#FF6692\",\"#B6E880\",\"#FF97FF\",\"#FECB52\"],\"font\":{\"color\":\"#2a3f5f\"},\"hovermode\":\"closest\",\"hoverlabel\":{\"align\":\"left\"},\"paper_bgcolor\":\"white\",\"plot_bgcolor\":\"#E5ECF6\",\"polar\":{\"bgcolor\":\"#E5ECF6\",\"angularaxis\":{\"gridcolor\":\"white\",\"linecolor\":\"white\",\"ticks\":\"\"},\"radialaxis\":{\"gridcolor\":\"white\",\"linecolor\":\"white\",\"ticks\":\"\"}},\"ternary\":{\"bgcolor\":\"#E5ECF6\",\"aaxis\":{\"gridcolor\":\"white\",\"linecolor\":\"white\",\"ticks\":\"\"},\"baxis\":{\"gridcolor\":\"white\",\"linecolor\":\"white\",\"ticks\":\"\"},\"caxis\":{\"gridcolor\":\"white\",\"linecolor\":\"white\",\"ticks\":\"\"}},\"coloraxis\":{\"colorbar\":{\"outlinewidth\":0,\"ticks\":\"\"}},\"colorscale\":{\"sequential\":[[0.0,\"#0d0887\"],[0.1111111111111111,\"#46039f\"],[0.2222222222222222,\"#7201a8\"],[0.3333333333333333,\"#9c179e\"],[0.4444444444444444,\"#bd3786\"],[0.5555555555555556,\"#d8576b\"],[0.6666666666666666,\"#ed7953\"],[0.7777777777777778,\"#fb9f3a\"],[0.8888888888888888,\"#fdca26\"],[1.0,\"#f0f921\"]],\"sequentialminus\":[[0.0,\"#0d0887\"],[0.1111111111111111,\"#46039f\"],[0.2222222222222222,\"#7201a8\"],[0.3333333333333333,\"#9c179e\"],[0.4444444444444444,\"#bd3786\"],[0.5555555555555556,\"#d8576b\"],[0.6666666666666666,\"#ed7953\"],[0.7777777777777778,\"#fb9f3a\"],[0.8888888888888888,\"#fdca26\"],[1.0,\"#f0f921\"]],\"diverging\":[[0,\"#8e0152\"],[0.1,\"#c51b7d\"],[0.2,\"#de77ae\"],[0.3,\"#f1b6da\"],[0.4,\"#fde0ef\"],[0.5,\"#f7f7f7\"],[0.6,\"#e6f5d0\"],[0.7,\"#b8e186\"],[0.8,\"#7fbc41\"],[0.9,\"#4d9221\"],[1,\"#276419\"]]},\"xaxis\":{\"gridcolor\":\"white\",\"linecolor\":\"white\",\"ticks\":\"\",\"title\":{\"standoff\":15},\"zerolinecolor\":\"white\",\"automargin\":true,\"zerolinewidth\":2},\"yaxis\":{\"gridcolor\":\"white\",\"linecolor\":\"white\",\"ticks\":\"\",\"title\":{\"standoff\":15},\"zerolinecolor\":\"white\",\"automargin\":true,\"zerolinewidth\":2},\"scene\":{\"xaxis\":{\"backgroundcolor\":\"#E5ECF6\",\"gridcolor\":\"white\",\"linecolor\":\"white\",\"showbackground\":true,\"ticks\":\"\",\"zerolinecolor\":\"white\",\"gridwidth\":2},\"yaxis\":{\"backgroundcolor\":\"#E5ECF6\",\"gridcolor\":\"white\",\"linecolor\":\"white\",\"showbackground\":true,\"ticks\":\"\",\"zerolinecolor\":\"white\",\"gridwidth\":2},\"zaxis\":{\"backgroundcolor\":\"#E5ECF6\",\"gridcolor\":\"white\",\"linecolor\":\"white\",\"showbackground\":true,\"ticks\":\"\",\"zerolinecolor\":\"white\",\"gridwidth\":2}},\"shapedefaults\":{\"line\":{\"color\":\"#2a3f5f\"}},\"annotationdefaults\":{\"arrowcolor\":\"#2a3f5f\",\"arrowhead\":0,\"arrowwidth\":1},\"geo\":{\"bgcolor\":\"white\",\"landcolor\":\"#E5ECF6\",\"subunitcolor\":\"white\",\"showland\":true,\"showlakes\":true,\"lakecolor\":\"white\"},\"title\":{\"x\":0.05},\"mapbox\":{\"style\":\"light\"}}},\"annotations\":[{\"bgcolor\":\"rgba(255, 255, 255, 0.9)\",\"bordercolor\":\"red\",\"borderwidth\":1,\"font\":{\"color\":\"red\",\"size\":10},\"showarrow\":false,\"text\":\"callous\",\"x\":-0.20226966780717442,\"y\":1.6},{\"bgcolor\":\"rgba(255, 255, 255, 0.9)\",\"bordercolor\":\"red\",\"borderwidth\":1,\"font\":{\"color\":\"red\",\"size\":10},\"showarrow\":false,\"text\":\"cruel\",\"x\":-0.1720481736084418,\"y\":0.4},{\"bgcolor\":\"rgba(255, 255, 255, 0.9)\",\"bordercolor\":\"red\",\"borderwidth\":1,\"font\":{\"color\":\"red\",\"size\":10},\"showarrow\":false,\"text\":\"savage\",\"x\":-0.1470688437057739,\"y\":1.45},{\"bgcolor\":\"rgba(255, 255, 255, 0.9)\",\"bordercolor\":\"red\",\"borderwidth\":1,\"font\":{\"color\":\"red\",\"size\":10},\"showarrow\":false,\"text\":\"detached\",\"x\":-0.14067373156630306,\"y\":0.55},{\"bgcolor\":\"rgba(255, 255, 255, 0.9)\",\"bordercolor\":\"red\",\"borderwidth\":1,\"font\":{\"color\":\"red\",\"size\":10},\"showarrow\":false,\"text\":\"hostile\",\"x\":-0.13070670329988954,\"y\":1.55},{\"bgcolor\":\"rgba(255, 255, 255, 0.9)\",\"bordercolor\":\"red\",\"borderwidth\":1,\"font\":{\"color\":\"red\",\"size\":10},\"showarrow\":false,\"text\":\"acerbic\",\"x\":-0.12730207846125455,\"y\":0.45},{\"bgcolor\":\"rgba(255, 255, 255, 0.9)\",\"bordercolor\":\"red\",\"borderwidth\":1,\"font\":{\"color\":\"red\",\"size\":10},\"showarrow\":false,\"text\":\"blunt\",\"x\":-0.11172454901990742,\"y\":1.35},{\"bgcolor\":\"rgba(255, 255, 255, 0.9)\",\"bordercolor\":\"red\",\"borderwidth\":1,\"font\":{\"color\":\"red\",\"size\":10},\"showarrow\":false,\"text\":\"dispassionate\",\"x\":-0.10895535852502095,\"y\":0.65},{\"bgcolor\":\"rgba(255, 255, 255, 0.9)\",\"bordercolor\":\"red\",\"borderwidth\":1,\"font\":{\"color\":\"red\",\"size\":10},\"showarrow\":false,\"text\":\"formal\",\"x\":-0.10447457817380679,\"y\":1.5},{\"bgcolor\":\"rgba(255, 255, 255, 0.9)\",\"bordercolor\":\"red\",\"borderwidth\":1,\"font\":{\"color\":\"red\",\"size\":10},\"showarrow\":false,\"text\":\"sarcastic\",\"x\":-0.10199541841375576,\"y\":0.5},{\"bgcolor\":\"rgba(255, 255, 255, 0.9)\",\"bordercolor\":\"blue\",\"borderwidth\":1,\"font\":{\"color\":\"blue\",\"size\":10},\"showarrow\":false,\"text\":\"gregarious\",\"x\":0.11452769337283833,\"y\":1.4},{\"bgcolor\":\"rgba(255, 255, 255, 0.9)\",\"bordercolor\":\"blue\",\"borderwidth\":1,\"font\":{\"color\":\"blue\",\"size\":10},\"showarrow\":false,\"text\":\"agreeable\",\"x\":0.11477122413467296,\"y\":0.6},{\"bgcolor\":\"rgba(255, 255, 255, 0.9)\",\"bordercolor\":\"blue\",\"borderwidth\":1,\"font\":{\"color\":\"blue\",\"size\":10},\"showarrow\":false,\"text\":\"effusive\",\"x\":0.11853537853274689,\"y\":1.65},{\"bgcolor\":\"rgba(255, 255, 255, 0.9)\",\"bordercolor\":\"blue\",\"borderwidth\":1,\"font\":{\"color\":\"blue\",\"size\":10},\"showarrow\":false,\"text\":\"emotional\",\"x\":0.12788733905990318,\"y\":0.35},{\"bgcolor\":\"rgba(255, 255, 255, 0.9)\",\"bordercolor\":\"blue\",\"borderwidth\":1,\"font\":{\"color\":\"blue\",\"size\":10},\"showarrow\":false,\"text\":\"empathetic\",\"x\":0.14424582331865052,\"y\":1.3},{\"bgcolor\":\"rgba(255, 255, 255, 0.9)\",\"bordercolor\":\"blue\",\"borderwidth\":1,\"font\":{\"color\":\"blue\",\"size\":10},\"showarrow\":false,\"text\":\"charismatic\",\"x\":0.14581581212872824,\"y\":0.7},{\"bgcolor\":\"rgba(255, 255, 255, 0.9)\",\"bordercolor\":\"blue\",\"borderwidth\":1,\"font\":{\"color\":\"blue\",\"size\":10},\"showarrow\":false,\"text\":\"chill\",\"x\":0.1678170413368392,\"y\":1.58},{\"bgcolor\":\"rgba(255, 255, 255, 0.9)\",\"bordercolor\":\"blue\",\"borderwidth\":1,\"font\":{\"color\":\"blue\",\"size\":10},\"showarrow\":false,\"text\":\"animated\",\"x\":0.17089020928570117,\"y\":0.42},{\"bgcolor\":\"rgba(255, 255, 255, 0.9)\",\"bordercolor\":\"blue\",\"borderwidth\":1,\"font\":{\"color\":\"blue\",\"size\":10},\"showarrow\":false,\"text\":\"supportive\",\"x\":0.18171404651800302,\"y\":1.42},{\"bgcolor\":\"rgba(255, 255, 255, 0.9)\",\"bordercolor\":\"blue\",\"borderwidth\":1,\"font\":{\"color\":\"blue\",\"size\":10},\"showarrow\":false,\"text\":\"nurturing\",\"x\":0.21742737668641668,\"y\":0.58},{\"bgcolor\":\"rgba(255, 255, 255, 0.9)\",\"bordercolor\":\"black\",\"borderwidth\":1,\"font\":{\"color\":\"black\",\"size\":10},\"showarrow\":false,\"text\":\"Assistant\",\"x\":0.01396610944805823,\"y\":1.6}],\"shapes\":[{\"line\":{\"color\":\"gray\",\"dash\":\"solid\",\"width\":1},\"opacity\":0.7,\"type\":\"line\",\"x0\":0,\"x1\":0,\"xref\":\"x\",\"y0\":0,\"y1\":1,\"yref\":\"y domain\"},{\"line\":{\"color\":\"black\",\"dash\":\"dash\",\"width\":1},\"opacity\":1.0,\"type\":\"line\",\"x0\":0.01396610944805823,\"x1\":0.01396610944805823,\"xref\":\"x\",\"y0\":0,\"y1\":1,\"yref\":\"y domain\"}],\"title\":{\"subtitle\":{\"text\":\"Gemma 2 27B, Layer 34\"},\"font\":{\"size\":16},\"text\":\"PC2 Cosine Similarity with Assistant\",\"x\":0.5},\"height\":500,\"showlegend\":false,\"xaxis\":{\"title\":{\"text\":\"PC2 Cosine Similarity\"},\"range\":[-0.23917011435505836,0.23917011435505836]},\"yaxis\":{\"title\":{\"text\":\"\"},\"showticklabels\":false,\"range\":[0.25,1.75]}},                        {\"responsive\": true}                    ).then(function(){\n",
       "                            \n",
       "var gd = document.getElementById('85c4438e-1325-4951-bb27-ea3dc7eccae8');\n",
       "var x = new MutationObserver(function (mutations, observer) {{\n",
       "        var display = window.getComputedStyle(gd).display;\n",
       "        if (!display || display === 'none') {{\n",
       "            console.log([gd, 'removed!']);\n",
       "            Plotly.purge(gd);\n",
       "            observer.disconnect();\n",
       "        }}\n",
       "}});\n",
       "\n",
       "// Listen for the removal of the full notebook cells\n",
       "var notebookContainer = gd.closest('#notebook-container');\n",
       "if (notebookContainer) {{\n",
       "    x.observe(notebookContainer, {childList: true});\n",
       "}}\n",
       "\n",
       "// Listen for the clearing of the current output cell\n",
       "var outputEl = gd.closest('.output');\n",
       "if (outputEl) {{\n",
       "    x.observe(outputEl, {childList: true});\n",
       "}}\n",
       "\n",
       "                        })                };                });            </script>        </div>"
      ]
     },
     "metadata": {},
     "output_type": "display_data"
    },
    {
     "data": {
      "application/vnd.plotly.v1+json": {
       "config": {
        "plotlyServerURL": "https://plot.ly"
       },
       "data": [
        {
         "hovertemplate": "<b>%{text}</b><br>Cosine Similarity: %{x:.3f}<extra></extra>",
         "marker": {
          "color": [
           "blue",
           "blue",
           "red",
           "blue",
           "red",
           "blue",
           "blue",
           "blue",
           "red",
           "red",
           "blue",
           "blue",
           "red",
           "red",
           "blue",
           "red",
           "blue",
           "blue",
           "red",
           "red",
           "blue",
           "red",
           "blue",
           "blue",
           "blue",
           "red",
           "blue",
           "red",
           "blue",
           "blue",
           "blue",
           "blue",
           "red",
           "red",
           "blue",
           "blue",
           "red",
           "red",
           "red",
           "red",
           "blue",
           "blue",
           "red",
           "blue",
           "red",
           "red",
           "red",
           "blue",
           "red",
           "blue",
           "blue",
           "blue",
           "red",
           "blue",
           "blue",
           "blue",
           "red",
           "blue",
           "blue",
           "blue",
           "red",
           "blue",
           "red",
           "red",
           "red",
           "red",
           "red",
           "red",
           "blue",
           "blue",
           "red",
           "blue",
           "blue",
           "red",
           "blue",
           "red",
           "red",
           "red",
           "red",
           "blue",
           "blue",
           "blue",
           "red",
           "blue",
           "blue",
           "red",
           "blue",
           "red",
           "blue",
           "red",
           "red",
           "blue",
           "blue",
           "blue",
           "red",
           "blue",
           "blue",
           "blue",
           "red",
           "red",
           "blue",
           "blue",
           "blue",
           "red",
           "red",
           "blue",
           "blue",
           "red",
           "blue",
           "blue",
           "blue",
           "red",
           "blue",
           "red",
           "red",
           "blue",
           "red",
           "blue",
           "red",
           "blue",
           "blue",
           "blue",
           "blue",
           "blue",
           "red",
           "red",
           "blue",
           "red",
           "blue",
           "red",
           "red",
           "red",
           "red",
           "blue",
           "red",
           "red",
           "blue",
           "red",
           "red",
           "red",
           "red",
           "blue",
           "blue",
           "blue",
           "red",
           "blue",
           "red",
           "blue",
           "blue",
           "red",
           "red",
           "red",
           "blue",
           "red",
           "red",
           "blue",
           "blue",
           "red",
           "blue",
           "red",
           "blue",
           "red",
           "red",
           "blue",
           "red",
           "red",
           "blue",
           "blue",
           "blue",
           "blue",
           "blue",
           "blue",
           "blue",
           "blue",
           "red",
           "red",
           "red",
           "blue",
           "red",
           "red",
           "red",
           "red",
           "blue",
           "blue",
           "red",
           "red",
           "red",
           "blue",
           "red",
           "red",
           "red",
           "red",
           "blue",
           "red",
           "blue",
           "blue",
           "blue",
           "blue",
           "red",
           "blue",
           "red",
           "blue",
           "red",
           "blue",
           "red",
           "blue",
           "blue",
           "blue",
           "blue",
           "red",
           "blue",
           "red",
           "red",
           "red",
           "red"
          ],
          "opacity": 0.7,
          "size": 8
         },
         "mode": "markers",
         "showlegend": false,
         "text": [
          "absolutist",
          "adaptable",
          "abstract",
          "accommodating",
          "acerbic",
          "adventurous",
          "agreeable",
          "altruistic",
          "analytical",
          "animated",
          "anthropocentric",
          "anxious",
          "arrogant",
          "artistic",
          "ascetic",
          "assertive",
          "avoidant",
          "benevolent",
          "big_picture",
          "bitter",
          "blunt",
          "calculating",
          "callous",
          "calm",
          "cautious",
          "challenging",
          "chaotic",
          "charismatic",
          "circumspect",
          "closure_seeking",
          "collaborative",
          "collectivistic",
          "competitive",
          "conceptual",
          "conciliatory",
          "concise",
          "condescending",
          "confident",
          "confrontational",
          "conscientious",
          "constructivist",
          "contemporary",
          "contrarian",
          "convergent",
          "cosmopolitan",
          "creative",
          "critical",
          "cruel",
          "curious",
          "cynical",
          "data_driven",
          "decisive",
          "deconstructionist",
          "deontological",
          "descriptive",
          "detached",
          "deterministic",
          "diplomatic",
          "disorganized",
          "dispassionate",
          "divergent",
          "dogmatic",
          "dominant",
          "dramatic",
          "earnest",
          "eclectic",
          "edgy",
          "educational",
          "efficient",
          "effusive",
          "elitist",
          "emotional",
          "empathetic",
          "enigmatic",
          "entertaining",
          "environmental",
          "epicurean",
          "essentialist",
          "ethereal",
          "evil",
          "existentialist",
          "experiential",
          "exploratory",
          "extroverted",
          "factual",
          "fatalistic",
          "flexible",
          "flirty",
          "forgiving",
          "formal",
          "formalist",
          "fundamentalist",
          "futuristic",
          "generalist",
          "generous",
          "goofy",
          "gregarious",
          "hedonistic",
          "historical",
          "holistic",
          "hostile",
          "humanistic",
          "humble",
          "iconoclastic",
          "idealistic",
          "improvisational",
          "inclusive",
          "independent",
          "individualistic",
          "innovative",
          "inquisitive",
          "inspirational",
          "interdisciplinary",
          "introspective",
          "introverted",
          "intuitive",
          "ironic",
          "irreverent",
          "judgmental",
          "libertarian",
          "literal",
          "manic",
          "manipulative",
          "materialist",
          "meditative",
          "melancholic",
          "mercurial",
          "metaphorical",
          "methodical",
          "meticulous",
          "militant",
          "misanthropic",
          "mischievous",
          "moderate",
          "mystical",
          "narrative",
          "neurotic",
          "nihilistic",
          "nostalgic",
          "nurturing",
          "obsessive",
          "open_ended",
          "optimistic",
          "pacifist",
          "paradoxical",
          "paranoid",
          "passionate",
          "passive_aggressive",
          "patient",
          "pedantic",
          "pensive",
          "perfectionist",
          "pessimistic",
          "petty",
          "philosophical",
          "playful",
          "pluralist",
          "poetic",
          "practical",
          "prescriptive",
          "principled",
          "proactive",
          "problem_solving",
          "progressive",
          "provocative",
          "qualitative",
          "quantitative",
          "radical",
          "rationalist",
          "reactive",
          "rebellious",
          "reductionist",
          "regulatory",
          "reserved",
          "resilient",
          "reverent",
          "rhetorical",
          "risk_taking",
          "romantic",
          "sarcastic",
          "sardonic",
          "sassy",
          "savage",
          "secular",
          "serene",
          "serious",
          "skeptical",
          "socratic",
          "specialized",
          "speculative",
          "spiritual",
          "spontaneous",
          "stoic",
          "strategic",
          "stream_of_consciousness",
          "structuralist",
          "submissive",
          "subversive",
          "supportive",
          "sycophantic",
          "systems_thinker",
          "tactful",
          "technical",
          "temperamental",
          "theoretical",
          "traditional",
          "universalist",
          "urgent",
          "utilitarian",
          "verbose",
          "visceral",
          "whimsical",
          "witty",
          "wry",
          "zealous"
         ],
         "type": "scatter",
         "x": [
          0.0174678685876357,
          0.03884880130075337,
          -0.031229963867251107,
          0.06729618861917991,
          -0.05024305071288078,
          0.00806109500808954,
          0.04395223389996316,
          0.018369915809181882,
          -0.04020670321250353,
          -0.04375979066365949,
          0.03842471293576064,
          0.08356793115218636,
          -0.03594606562020077,
          -0.058187902057753406,
          0.0002932169601842467,
          -0.0070215373761264915,
          0.07792922882764595,
          0.04305324884923425,
          -0.005248439268335376,
          -0.017521170695062815,
          0.03707140975377376,
          -0.06772408954951994,
          0.030511831465915365,
          0.0463898888356758,
          0.01560524755581533,
          -0.04071237197906151,
          0.03344717905197974,
          -0.11079107270905553,
          0.007415746552223794,
          0.028231646881065255,
          0.05947393516158342,
          0.016542021286172767,
          -0.025705524732191835,
          -0.01860221301946966,
          0.05419873746149074,
          0.0942638029597974,
          -0.011759850789073418,
          -0.014664562794267737,
          -0.01633940437358905,
          -0.0942031263515616,
          0.0120319059001205,
          0.08612602654144193,
          -0.028206538579220133,
          0.03447409610387883,
          -0.032522096584603186,
          -0.004689725544551804,
          -0.011361770509929613,
          0.009442609686198521,
          -0.09174360445609207,
          0.023036084496326954,
          0.02580315983971005,
          0.013477766083926706,
          -0.011692648232853644,
          0.03287014381768863,
          0.05005912406696,
          0.01002362086808757,
          -0.00992239539935231,
          0.042727760410837215,
          0.07078443295067315,
          0.02222971649997165,
          -0.020233948870946053,
          0.015306533716711236,
          -0.002067502104554388,
          -0.11468450619393014,
          -0.08879816247208504,
          -0.01672025774842715,
          -0.010529315785246891,
          -0.05831451741349376,
          0.07975108655194385,
          0.00247354976922722,
          -0.056634767801511304,
          0.0314197307869397,
          0.04277546619479233,
          -0.11458483395507281,
          0.018635223941949,
          -0.005657424874730599,
          -0.07451711569536762,
          -0.0021327604972294027,
          -0.0950041498652123,
          0.03835978990049393,
          0.04233915995486533,
          0.0769186185614225,
          -0.0042179415218734605,
          0.0584673159943969,
          0.06208268996863816,
          -0.024065381162407064,
          0.08036311440554225,
          -0.06340854765262262,
          0.05901918017778497,
          -0.11284408834065045,
          -0.03356503051986906,
          0.008399810686641722,
          0.015641795482203624,
          0.02301960696662996,
          -0.07532889040878664,
          0.06087367946378434,
          0.08739939780847156,
          0.05164384743548149,
          -0.0052053823957647575,
          -0.02874842705071671,
          0.01704805789760245,
          0.016444778109309974,
          0.09851656866161079,
          -0.010687437649416882,
          -0.012669549570148096,
          0.04373968647481413,
          0.014810167359170297,
          -0.012062751780567213,
          0.014033833226153439,
          0.014681793611950052,
          0.030788556418819106,
          -0.008834131400304014,
          0.026882994621517706,
          -0.026392856310160934,
          -0.11709218398985331,
          0.012561111124575811,
          -0.022430475583597374,
          0.07383738151729402,
          -0.017867268007274513,
          0.006396678388235417,
          0.08941645776013397,
          0.026759042666379636,
          0.03591477989473817,
          0.06125877805085142,
          -0.1158048295967395,
          -0.044786822549767735,
          0.028082190269907076,
          -0.0681595432981631,
          0.022341485978219253,
          -0.08333076030225325,
          -0.0006730153361785339,
          -0.02478867559926827,
          -0.01810187710758245,
          0.052926391074768056,
          -0.052263257788969356,
          -0.020422177872342157,
          0.054386891574844984,
          -0.0009044282888461774,
          -0.018477429586317592,
          -0.03315573924954599,
          -0.0301190178576627,
          0.07799132814552097,
          0.06757568851934817,
          0.024661264982353954,
          -0.040080964885485945,
          0.02551490997908129,
          -0.06280213269120329,
          0.0041766334063755685,
          0.05217413146856433,
          -0.053933470692671605,
          -0.11560971093032825,
          -0.07808140739171596,
          0.022985634476137374,
          -0.05025105217179582,
          -0.11928951877859327,
          0.0486732381673064,
          0.056674637317158376,
          -0.09097233364156465,
          0.10956794228592412,
          -0.01304405480743108,
          0.027694681615326247,
          -0.05147112218191171,
          -0.02048936204631066,
          0.046991954312079885,
          -0.027934146477711662,
          -0.02297019250360244,
          0.027083164661278462,
          0.015955845958914975,
          0.0454514911589116,
          0.10868374159885957,
          0.015067990435950335,
          0.08578865547367236,
          0.029877325043251947,
          0.08106095013350909,
          -0.0026520826915134446,
          -0.04499129824180662,
          -0.09502979589405497,
          0.02926988881476121,
          -0.08767194667507665,
          -0.03554691324874638,
          -0.018258735302744012,
          -0.00034910727335678884,
          0.007225373645789709,
          0.06818440067295795,
          -0.005768520280524587,
          -0.09059152184923795,
          -0.029900889411577078,
          0.0469969688459229,
          -0.06418706656823026,
          -0.010633352060378349,
          -0.08444917487494816,
          -0.017580169400416817,
          0.006778005322445251,
          -0.10349551918360524,
          0.014603344245139304,
          0.029545037502010794,
          0.09803056951738798,
          0.005950591403985933,
          -0.038490142707009165,
          0.047294211355049985,
          -0.012177100751728896,
          0.02358374028703859,
          -0.0662366774007816,
          0.020522995226031605,
          -0.03804231055134282,
          0.023937036931058017,
          0.0244612884260918,
          0.022691238670524326,
          0.048009634808267344,
          -0.029506431727690657,
          0.03134522070081048,
          -0.05343868777312069,
          -0.014391068773330445,
          -0.031173334177227393,
          -0.06898483494414077
         ],
         "y": [
          1,
          1,
          1,
          1,
          1,
          1,
          1,
          1,
          1,
          1,
          1,
          1,
          1,
          1,
          1,
          1,
          1,
          1,
          1,
          1,
          1,
          1,
          1,
          1,
          1,
          1,
          1,
          1,
          1,
          1,
          1,
          1,
          1,
          1,
          1,
          1,
          1,
          1,
          1,
          1,
          1,
          1,
          1,
          1,
          1,
          1,
          1,
          1,
          1,
          1,
          1,
          1,
          1,
          1,
          1,
          1,
          1,
          1,
          1,
          1,
          1,
          1,
          1,
          1,
          1,
          1,
          1,
          1,
          1,
          1,
          1,
          1,
          1,
          1,
          1,
          1,
          1,
          1,
          1,
          1,
          1,
          1,
          1,
          1,
          1,
          1,
          1,
          1,
          1,
          1,
          1,
          1,
          1,
          1,
          1,
          1,
          1,
          1,
          1,
          1,
          1,
          1,
          1,
          1,
          1,
          1,
          1,
          1,
          1,
          1,
          1,
          1,
          1,
          1,
          1,
          1,
          1,
          1,
          1,
          1,
          1,
          1,
          1,
          1,
          1,
          1,
          1,
          1,
          1,
          1,
          1,
          1,
          1,
          1,
          1,
          1,
          1,
          1,
          1,
          1,
          1,
          1,
          1,
          1,
          1,
          1,
          1,
          1,
          1,
          1,
          1,
          1,
          1,
          1,
          1,
          1,
          1,
          1,
          1,
          1,
          1,
          1,
          1,
          1,
          1,
          1,
          1,
          1,
          1,
          1,
          1,
          1,
          1,
          1,
          1,
          1,
          1,
          1,
          1,
          1,
          1,
          1,
          1,
          1,
          1,
          1,
          1,
          1,
          1,
          1,
          1,
          1,
          1,
          1,
          1,
          1,
          1,
          1,
          1,
          1,
          1,
          1,
          1,
          1,
          1,
          1,
          1,
          1,
          1,
          1,
          1,
          1,
          1,
          1,
          1
         ]
        },
        {
         "hovertemplate": "<b>%{text}</b><br>Cosine Similarity: %{x:.3f}<extra></extra>",
         "marker": {
          "color": [
           "blue",
           "red",
           "blue",
           "blue",
           "red",
           "red",
           "red",
           "red",
           "blue",
           "red",
           "blue",
           "blue",
           "blue",
           "red",
           "blue",
           "blue",
           "red",
           "red",
           "red",
           "blue"
          ],
          "opacity": 0.9,
          "size": 8
         },
         "mode": "markers",
         "showlegend": false,
         "text": [
          "accessible",
          "bombastic",
          "casual",
          "chill",
          "cryptic",
          "eloquent",
          "erudite",
          "esoteric",
          "flippant",
          "grandiose",
          "grounded",
          "impatient",
          "impulsive",
          "melodramatic",
          "naive",
          "nonchalant",
          "ritualistic",
          "solemn",
          "theatrical",
          "understated"
         ],
         "type": "scatter",
         "x": [
          0.13536381879353054,
          -0.18157369951449728,
          0.179244130813621,
          0.11926633021900197,
          -0.14243383550043479,
          -0.21097033114025443,
          -0.14028775208917002,
          -0.12592683753066986,
          0.17283067724748724,
          -0.13165208565217365,
          0.14086661992449442,
          0.12227970431717711,
          0.13264787352468116,
          -0.13342178832017057,
          0.14549668449638425,
          0.12374939815000965,
          -0.125962107465523,
          -0.12945541956080872,
          -0.13416691880642584,
          0.18957417504553772
         ],
         "y": [
          1,
          1,
          1,
          1,
          1,
          1,
          1,
          1,
          1,
          1,
          1,
          1,
          1,
          1,
          1,
          1,
          1,
          1,
          1,
          1
         ]
        },
        {
         "hoverinfo": "skip",
         "line": {
          "color": "red",
          "width": 1
         },
         "mode": "lines",
         "showlegend": false,
         "type": "scatter",
         "x": [
          -0.21097033114025443,
          -0.21097033114025443
         ],
         "y": [
          1,
          1.6
         ]
        },
        {
         "hoverinfo": "skip",
         "line": {
          "color": "red",
          "width": 1
         },
         "mode": "lines",
         "showlegend": false,
         "type": "scatter",
         "x": [
          -0.18157369951449728,
          -0.18157369951449728
         ],
         "y": [
          1,
          0.4
         ]
        },
        {
         "hoverinfo": "skip",
         "line": {
          "color": "red",
          "width": 1
         },
         "mode": "lines",
         "showlegend": false,
         "type": "scatter",
         "x": [
          -0.14243383550043479,
          -0.14243383550043479
         ],
         "y": [
          1,
          1.45
         ]
        },
        {
         "hoverinfo": "skip",
         "line": {
          "color": "red",
          "width": 1
         },
         "mode": "lines",
         "showlegend": false,
         "type": "scatter",
         "x": [
          -0.14028775208917002,
          -0.14028775208917002
         ],
         "y": [
          1,
          0.55
         ]
        },
        {
         "hoverinfo": "skip",
         "line": {
          "color": "red",
          "width": 1
         },
         "mode": "lines",
         "showlegend": false,
         "type": "scatter",
         "x": [
          -0.13416691880642584,
          -0.13416691880642584
         ],
         "y": [
          1,
          1.55
         ]
        },
        {
         "hoverinfo": "skip",
         "line": {
          "color": "red",
          "width": 1
         },
         "mode": "lines",
         "showlegend": false,
         "type": "scatter",
         "x": [
          -0.13342178832017057,
          -0.13342178832017057
         ],
         "y": [
          1,
          0.45
         ]
        },
        {
         "hoverinfo": "skip",
         "line": {
          "color": "red",
          "width": 1
         },
         "mode": "lines",
         "showlegend": false,
         "type": "scatter",
         "x": [
          -0.13165208565217365,
          -0.13165208565217365
         ],
         "y": [
          1,
          1.35
         ]
        },
        {
         "hoverinfo": "skip",
         "line": {
          "color": "red",
          "width": 1
         },
         "mode": "lines",
         "showlegend": false,
         "type": "scatter",
         "x": [
          -0.12945541956080872,
          -0.12945541956080872
         ],
         "y": [
          1,
          0.65
         ]
        },
        {
         "hoverinfo": "skip",
         "line": {
          "color": "red",
          "width": 1
         },
         "mode": "lines",
         "showlegend": false,
         "type": "scatter",
         "x": [
          -0.125962107465523,
          -0.125962107465523
         ],
         "y": [
          1,
          1.5
         ]
        },
        {
         "hoverinfo": "skip",
         "line": {
          "color": "red",
          "width": 1
         },
         "mode": "lines",
         "showlegend": false,
         "type": "scatter",
         "x": [
          -0.12592683753066986,
          -0.12592683753066986
         ],
         "y": [
          1,
          0.5
         ]
        },
        {
         "hoverinfo": "skip",
         "line": {
          "color": "blue",
          "width": 1
         },
         "mode": "lines",
         "showlegend": false,
         "type": "scatter",
         "x": [
          0.11926633021900197,
          0.11926633021900197
         ],
         "y": [
          1,
          1.4
         ]
        },
        {
         "hoverinfo": "skip",
         "line": {
          "color": "blue",
          "width": 1
         },
         "mode": "lines",
         "showlegend": false,
         "type": "scatter",
         "x": [
          0.12227970431717711,
          0.12227970431717711
         ],
         "y": [
          1,
          0.6
         ]
        },
        {
         "hoverinfo": "skip",
         "line": {
          "color": "blue",
          "width": 1
         },
         "mode": "lines",
         "showlegend": false,
         "type": "scatter",
         "x": [
          0.12374939815000965,
          0.12374939815000965
         ],
         "y": [
          1,
          1.65
         ]
        },
        {
         "hoverinfo": "skip",
         "line": {
          "color": "blue",
          "width": 1
         },
         "mode": "lines",
         "showlegend": false,
         "type": "scatter",
         "x": [
          0.13264787352468116,
          0.13264787352468116
         ],
         "y": [
          1,
          0.35
         ]
        },
        {
         "hoverinfo": "skip",
         "line": {
          "color": "blue",
          "width": 1
         },
         "mode": "lines",
         "showlegend": false,
         "type": "scatter",
         "x": [
          0.13536381879353054,
          0.13536381879353054
         ],
         "y": [
          1,
          1.3
         ]
        },
        {
         "hoverinfo": "skip",
         "line": {
          "color": "blue",
          "width": 1
         },
         "mode": "lines",
         "showlegend": false,
         "type": "scatter",
         "x": [
          0.14086661992449442,
          0.14086661992449442
         ],
         "y": [
          1,
          0.7
         ]
        },
        {
         "hoverinfo": "skip",
         "line": {
          "color": "blue",
          "width": 1
         },
         "mode": "lines",
         "showlegend": false,
         "type": "scatter",
         "x": [
          0.14549668449638425,
          0.14549668449638425
         ],
         "y": [
          1,
          1.58
         ]
        },
        {
         "hoverinfo": "skip",
         "line": {
          "color": "blue",
          "width": 1
         },
         "mode": "lines",
         "showlegend": false,
         "type": "scatter",
         "x": [
          0.17283067724748724,
          0.17283067724748724
         ],
         "y": [
          1,
          0.42
         ]
        },
        {
         "hoverinfo": "skip",
         "line": {
          "color": "blue",
          "width": 1
         },
         "mode": "lines",
         "showlegend": false,
         "type": "scatter",
         "x": [
          0.179244130813621,
          0.179244130813621
         ],
         "y": [
          1,
          1.42
         ]
        },
        {
         "hoverinfo": "skip",
         "line": {
          "color": "blue",
          "width": 1
         },
         "mode": "lines",
         "showlegend": false,
         "type": "scatter",
         "x": [
          0.18957417504553772,
          0.18957417504553772
         ],
         "y": [
          1,
          0.58
         ]
        }
       ],
       "layout": {
        "annotations": [
         {
          "bgcolor": "rgba(255, 255, 255, 0.9)",
          "bordercolor": "red",
          "borderwidth": 1,
          "font": {
           "color": "red",
           "size": 10
          },
          "showarrow": false,
          "text": "eloquent",
          "x": -0.21097033114025443,
          "y": 1.6
         },
         {
          "bgcolor": "rgba(255, 255, 255, 0.9)",
          "bordercolor": "red",
          "borderwidth": 1,
          "font": {
           "color": "red",
           "size": 10
          },
          "showarrow": false,
          "text": "bombastic",
          "x": -0.18157369951449728,
          "y": 0.4
         },
         {
          "bgcolor": "rgba(255, 255, 255, 0.9)",
          "bordercolor": "red",
          "borderwidth": 1,
          "font": {
           "color": "red",
           "size": 10
          },
          "showarrow": false,
          "text": "cryptic",
          "x": -0.14243383550043479,
          "y": 1.45
         },
         {
          "bgcolor": "rgba(255, 255, 255, 0.9)",
          "bordercolor": "red",
          "borderwidth": 1,
          "font": {
           "color": "red",
           "size": 10
          },
          "showarrow": false,
          "text": "erudite",
          "x": -0.14028775208917002,
          "y": 0.55
         },
         {
          "bgcolor": "rgba(255, 255, 255, 0.9)",
          "bordercolor": "red",
          "borderwidth": 1,
          "font": {
           "color": "red",
           "size": 10
          },
          "showarrow": false,
          "text": "theatrical",
          "x": -0.13416691880642584,
          "y": 1.55
         },
         {
          "bgcolor": "rgba(255, 255, 255, 0.9)",
          "bordercolor": "red",
          "borderwidth": 1,
          "font": {
           "color": "red",
           "size": 10
          },
          "showarrow": false,
          "text": "melodramatic",
          "x": -0.13342178832017057,
          "y": 0.45
         },
         {
          "bgcolor": "rgba(255, 255, 255, 0.9)",
          "bordercolor": "red",
          "borderwidth": 1,
          "font": {
           "color": "red",
           "size": 10
          },
          "showarrow": false,
          "text": "grandiose",
          "x": -0.13165208565217365,
          "y": 1.35
         },
         {
          "bgcolor": "rgba(255, 255, 255, 0.9)",
          "bordercolor": "red",
          "borderwidth": 1,
          "font": {
           "color": "red",
           "size": 10
          },
          "showarrow": false,
          "text": "solemn",
          "x": -0.12945541956080872,
          "y": 0.65
         },
         {
          "bgcolor": "rgba(255, 255, 255, 0.9)",
          "bordercolor": "red",
          "borderwidth": 1,
          "font": {
           "color": "red",
           "size": 10
          },
          "showarrow": false,
          "text": "ritualistic",
          "x": -0.125962107465523,
          "y": 1.5
         },
         {
          "bgcolor": "rgba(255, 255, 255, 0.9)",
          "bordercolor": "red",
          "borderwidth": 1,
          "font": {
           "color": "red",
           "size": 10
          },
          "showarrow": false,
          "text": "esoteric",
          "x": -0.12592683753066986,
          "y": 0.5
         },
         {
          "bgcolor": "rgba(255, 255, 255, 0.9)",
          "bordercolor": "blue",
          "borderwidth": 1,
          "font": {
           "color": "blue",
           "size": 10
          },
          "showarrow": false,
          "text": "chill",
          "x": 0.11926633021900197,
          "y": 1.4
         },
         {
          "bgcolor": "rgba(255, 255, 255, 0.9)",
          "bordercolor": "blue",
          "borderwidth": 1,
          "font": {
           "color": "blue",
           "size": 10
          },
          "showarrow": false,
          "text": "impatient",
          "x": 0.12227970431717711,
          "y": 0.6
         },
         {
          "bgcolor": "rgba(255, 255, 255, 0.9)",
          "bordercolor": "blue",
          "borderwidth": 1,
          "font": {
           "color": "blue",
           "size": 10
          },
          "showarrow": false,
          "text": "nonchalant",
          "x": 0.12374939815000965,
          "y": 1.65
         },
         {
          "bgcolor": "rgba(255, 255, 255, 0.9)",
          "bordercolor": "blue",
          "borderwidth": 1,
          "font": {
           "color": "blue",
           "size": 10
          },
          "showarrow": false,
          "text": "impulsive",
          "x": 0.13264787352468116,
          "y": 0.35
         },
         {
          "bgcolor": "rgba(255, 255, 255, 0.9)",
          "bordercolor": "blue",
          "borderwidth": 1,
          "font": {
           "color": "blue",
           "size": 10
          },
          "showarrow": false,
          "text": "accessible",
          "x": 0.13536381879353054,
          "y": 1.3
         },
         {
          "bgcolor": "rgba(255, 255, 255, 0.9)",
          "bordercolor": "blue",
          "borderwidth": 1,
          "font": {
           "color": "blue",
           "size": 10
          },
          "showarrow": false,
          "text": "grounded",
          "x": 0.14086661992449442,
          "y": 0.7
         },
         {
          "bgcolor": "rgba(255, 255, 255, 0.9)",
          "bordercolor": "blue",
          "borderwidth": 1,
          "font": {
           "color": "blue",
           "size": 10
          },
          "showarrow": false,
          "text": "naive",
          "x": 0.14549668449638425,
          "y": 1.58
         },
         {
          "bgcolor": "rgba(255, 255, 255, 0.9)",
          "bordercolor": "blue",
          "borderwidth": 1,
          "font": {
           "color": "blue",
           "size": 10
          },
          "showarrow": false,
          "text": "flippant",
          "x": 0.17283067724748724,
          "y": 0.42
         },
         {
          "bgcolor": "rgba(255, 255, 255, 0.9)",
          "bordercolor": "blue",
          "borderwidth": 1,
          "font": {
           "color": "blue",
           "size": 10
          },
          "showarrow": false,
          "text": "casual",
          "x": 0.179244130813621,
          "y": 1.42
         },
         {
          "bgcolor": "rgba(255, 255, 255, 0.9)",
          "bordercolor": "blue",
          "borderwidth": 1,
          "font": {
           "color": "blue",
           "size": 10
          },
          "showarrow": false,
          "text": "understated",
          "x": 0.18957417504553772,
          "y": 0.58
         },
         {
          "bgcolor": "rgba(255, 255, 255, 0.9)",
          "bordercolor": "black",
          "borderwidth": 1,
          "font": {
           "color": "black",
           "size": 10
          },
          "showarrow": false,
          "text": "Assistant",
          "x": 0.05135228878878575,
          "y": 1.6
         }
        ],
        "height": 500,
        "shapes": [
         {
          "line": {
           "color": "gray",
           "dash": "solid",
           "width": 1
          },
          "opacity": 0.7,
          "type": "line",
          "x0": 0,
          "x1": 0,
          "xref": "x",
          "y0": 0,
          "y1": 1,
          "yref": "y domain"
         },
         {
          "line": {
           "color": "black",
           "dash": "dash",
           "width": 1
          },
          "opacity": 1,
          "type": "line",
          "x0": 0.05135228878878575,
          "x1": 0.05135228878878575,
          "xref": "x",
          "y0": 0,
          "y1": 1,
          "yref": "y domain"
         }
        ],
        "showlegend": false,
        "template": {
         "data": {
          "bar": [
           {
            "error_x": {
             "color": "#2a3f5f"
            },
            "error_y": {
             "color": "#2a3f5f"
            },
            "marker": {
             "line": {
              "color": "#E5ECF6",
              "width": 0.5
             },
             "pattern": {
              "fillmode": "overlay",
              "size": 10,
              "solidity": 0.2
             }
            },
            "type": "bar"
           }
          ],
          "barpolar": [
           {
            "marker": {
             "line": {
              "color": "#E5ECF6",
              "width": 0.5
             },
             "pattern": {
              "fillmode": "overlay",
              "size": 10,
              "solidity": 0.2
             }
            },
            "type": "barpolar"
           }
          ],
          "carpet": [
           {
            "aaxis": {
             "endlinecolor": "#2a3f5f",
             "gridcolor": "white",
             "linecolor": "white",
             "minorgridcolor": "white",
             "startlinecolor": "#2a3f5f"
            },
            "baxis": {
             "endlinecolor": "#2a3f5f",
             "gridcolor": "white",
             "linecolor": "white",
             "minorgridcolor": "white",
             "startlinecolor": "#2a3f5f"
            },
            "type": "carpet"
           }
          ],
          "choropleth": [
           {
            "colorbar": {
             "outlinewidth": 0,
             "ticks": ""
            },
            "type": "choropleth"
           }
          ],
          "contour": [
           {
            "colorbar": {
             "outlinewidth": 0,
             "ticks": ""
            },
            "colorscale": [
             [
              0,
              "#0d0887"
             ],
             [
              0.1111111111111111,
              "#46039f"
             ],
             [
              0.2222222222222222,
              "#7201a8"
             ],
             [
              0.3333333333333333,
              "#9c179e"
             ],
             [
              0.4444444444444444,
              "#bd3786"
             ],
             [
              0.5555555555555556,
              "#d8576b"
             ],
             [
              0.6666666666666666,
              "#ed7953"
             ],
             [
              0.7777777777777778,
              "#fb9f3a"
             ],
             [
              0.8888888888888888,
              "#fdca26"
             ],
             [
              1,
              "#f0f921"
             ]
            ],
            "type": "contour"
           }
          ],
          "contourcarpet": [
           {
            "colorbar": {
             "outlinewidth": 0,
             "ticks": ""
            },
            "type": "contourcarpet"
           }
          ],
          "heatmap": [
           {
            "colorbar": {
             "outlinewidth": 0,
             "ticks": ""
            },
            "colorscale": [
             [
              0,
              "#0d0887"
             ],
             [
              0.1111111111111111,
              "#46039f"
             ],
             [
              0.2222222222222222,
              "#7201a8"
             ],
             [
              0.3333333333333333,
              "#9c179e"
             ],
             [
              0.4444444444444444,
              "#bd3786"
             ],
             [
              0.5555555555555556,
              "#d8576b"
             ],
             [
              0.6666666666666666,
              "#ed7953"
             ],
             [
              0.7777777777777778,
              "#fb9f3a"
             ],
             [
              0.8888888888888888,
              "#fdca26"
             ],
             [
              1,
              "#f0f921"
             ]
            ],
            "type": "heatmap"
           }
          ],
          "heatmapgl": [
           {
            "colorbar": {
             "outlinewidth": 0,
             "ticks": ""
            },
            "colorscale": [
             [
              0,
              "#0d0887"
             ],
             [
              0.1111111111111111,
              "#46039f"
             ],
             [
              0.2222222222222222,
              "#7201a8"
             ],
             [
              0.3333333333333333,
              "#9c179e"
             ],
             [
              0.4444444444444444,
              "#bd3786"
             ],
             [
              0.5555555555555556,
              "#d8576b"
             ],
             [
              0.6666666666666666,
              "#ed7953"
             ],
             [
              0.7777777777777778,
              "#fb9f3a"
             ],
             [
              0.8888888888888888,
              "#fdca26"
             ],
             [
              1,
              "#f0f921"
             ]
            ],
            "type": "heatmapgl"
           }
          ],
          "histogram": [
           {
            "marker": {
             "pattern": {
              "fillmode": "overlay",
              "size": 10,
              "solidity": 0.2
             }
            },
            "type": "histogram"
           }
          ],
          "histogram2d": [
           {
            "colorbar": {
             "outlinewidth": 0,
             "ticks": ""
            },
            "colorscale": [
             [
              0,
              "#0d0887"
             ],
             [
              0.1111111111111111,
              "#46039f"
             ],
             [
              0.2222222222222222,
              "#7201a8"
             ],
             [
              0.3333333333333333,
              "#9c179e"
             ],
             [
              0.4444444444444444,
              "#bd3786"
             ],
             [
              0.5555555555555556,
              "#d8576b"
             ],
             [
              0.6666666666666666,
              "#ed7953"
             ],
             [
              0.7777777777777778,
              "#fb9f3a"
             ],
             [
              0.8888888888888888,
              "#fdca26"
             ],
             [
              1,
              "#f0f921"
             ]
            ],
            "type": "histogram2d"
           }
          ],
          "histogram2dcontour": [
           {
            "colorbar": {
             "outlinewidth": 0,
             "ticks": ""
            },
            "colorscale": [
             [
              0,
              "#0d0887"
             ],
             [
              0.1111111111111111,
              "#46039f"
             ],
             [
              0.2222222222222222,
              "#7201a8"
             ],
             [
              0.3333333333333333,
              "#9c179e"
             ],
             [
              0.4444444444444444,
              "#bd3786"
             ],
             [
              0.5555555555555556,
              "#d8576b"
             ],
             [
              0.6666666666666666,
              "#ed7953"
             ],
             [
              0.7777777777777778,
              "#fb9f3a"
             ],
             [
              0.8888888888888888,
              "#fdca26"
             ],
             [
              1,
              "#f0f921"
             ]
            ],
            "type": "histogram2dcontour"
           }
          ],
          "mesh3d": [
           {
            "colorbar": {
             "outlinewidth": 0,
             "ticks": ""
            },
            "type": "mesh3d"
           }
          ],
          "parcoords": [
           {
            "line": {
             "colorbar": {
              "outlinewidth": 0,
              "ticks": ""
             }
            },
            "type": "parcoords"
           }
          ],
          "pie": [
           {
            "automargin": true,
            "type": "pie"
           }
          ],
          "scatter": [
           {
            "fillpattern": {
             "fillmode": "overlay",
             "size": 10,
             "solidity": 0.2
            },
            "type": "scatter"
           }
          ],
          "scatter3d": [
           {
            "line": {
             "colorbar": {
              "outlinewidth": 0,
              "ticks": ""
             }
            },
            "marker": {
             "colorbar": {
              "outlinewidth": 0,
              "ticks": ""
             }
            },
            "type": "scatter3d"
           }
          ],
          "scattercarpet": [
           {
            "marker": {
             "colorbar": {
              "outlinewidth": 0,
              "ticks": ""
             }
            },
            "type": "scattercarpet"
           }
          ],
          "scattergeo": [
           {
            "marker": {
             "colorbar": {
              "outlinewidth": 0,
              "ticks": ""
             }
            },
            "type": "scattergeo"
           }
          ],
          "scattergl": [
           {
            "marker": {
             "colorbar": {
              "outlinewidth": 0,
              "ticks": ""
             }
            },
            "type": "scattergl"
           }
          ],
          "scattermapbox": [
           {
            "marker": {
             "colorbar": {
              "outlinewidth": 0,
              "ticks": ""
             }
            },
            "type": "scattermapbox"
           }
          ],
          "scatterpolar": [
           {
            "marker": {
             "colorbar": {
              "outlinewidth": 0,
              "ticks": ""
             }
            },
            "type": "scatterpolar"
           }
          ],
          "scatterpolargl": [
           {
            "marker": {
             "colorbar": {
              "outlinewidth": 0,
              "ticks": ""
             }
            },
            "type": "scatterpolargl"
           }
          ],
          "scatterternary": [
           {
            "marker": {
             "colorbar": {
              "outlinewidth": 0,
              "ticks": ""
             }
            },
            "type": "scatterternary"
           }
          ],
          "surface": [
           {
            "colorbar": {
             "outlinewidth": 0,
             "ticks": ""
            },
            "colorscale": [
             [
              0,
              "#0d0887"
             ],
             [
              0.1111111111111111,
              "#46039f"
             ],
             [
              0.2222222222222222,
              "#7201a8"
             ],
             [
              0.3333333333333333,
              "#9c179e"
             ],
             [
              0.4444444444444444,
              "#bd3786"
             ],
             [
              0.5555555555555556,
              "#d8576b"
             ],
             [
              0.6666666666666666,
              "#ed7953"
             ],
             [
              0.7777777777777778,
              "#fb9f3a"
             ],
             [
              0.8888888888888888,
              "#fdca26"
             ],
             [
              1,
              "#f0f921"
             ]
            ],
            "type": "surface"
           }
          ],
          "table": [
           {
            "cells": {
             "fill": {
              "color": "#EBF0F8"
             },
             "line": {
              "color": "white"
             }
            },
            "header": {
             "fill": {
              "color": "#C8D4E3"
             },
             "line": {
              "color": "white"
             }
            },
            "type": "table"
           }
          ]
         },
         "layout": {
          "annotationdefaults": {
           "arrowcolor": "#2a3f5f",
           "arrowhead": 0,
           "arrowwidth": 1
          },
          "autotypenumbers": "strict",
          "coloraxis": {
           "colorbar": {
            "outlinewidth": 0,
            "ticks": ""
           }
          },
          "colorscale": {
           "diverging": [
            [
             0,
             "#8e0152"
            ],
            [
             0.1,
             "#c51b7d"
            ],
            [
             0.2,
             "#de77ae"
            ],
            [
             0.3,
             "#f1b6da"
            ],
            [
             0.4,
             "#fde0ef"
            ],
            [
             0.5,
             "#f7f7f7"
            ],
            [
             0.6,
             "#e6f5d0"
            ],
            [
             0.7,
             "#b8e186"
            ],
            [
             0.8,
             "#7fbc41"
            ],
            [
             0.9,
             "#4d9221"
            ],
            [
             1,
             "#276419"
            ]
           ],
           "sequential": [
            [
             0,
             "#0d0887"
            ],
            [
             0.1111111111111111,
             "#46039f"
            ],
            [
             0.2222222222222222,
             "#7201a8"
            ],
            [
             0.3333333333333333,
             "#9c179e"
            ],
            [
             0.4444444444444444,
             "#bd3786"
            ],
            [
             0.5555555555555556,
             "#d8576b"
            ],
            [
             0.6666666666666666,
             "#ed7953"
            ],
            [
             0.7777777777777778,
             "#fb9f3a"
            ],
            [
             0.8888888888888888,
             "#fdca26"
            ],
            [
             1,
             "#f0f921"
            ]
           ],
           "sequentialminus": [
            [
             0,
             "#0d0887"
            ],
            [
             0.1111111111111111,
             "#46039f"
            ],
            [
             0.2222222222222222,
             "#7201a8"
            ],
            [
             0.3333333333333333,
             "#9c179e"
            ],
            [
             0.4444444444444444,
             "#bd3786"
            ],
            [
             0.5555555555555556,
             "#d8576b"
            ],
            [
             0.6666666666666666,
             "#ed7953"
            ],
            [
             0.7777777777777778,
             "#fb9f3a"
            ],
            [
             0.8888888888888888,
             "#fdca26"
            ],
            [
             1,
             "#f0f921"
            ]
           ]
          },
          "colorway": [
           "#636efa",
           "#EF553B",
           "#00cc96",
           "#ab63fa",
           "#FFA15A",
           "#19d3f3",
           "#FF6692",
           "#B6E880",
           "#FF97FF",
           "#FECB52"
          ],
          "font": {
           "color": "#2a3f5f"
          },
          "geo": {
           "bgcolor": "white",
           "lakecolor": "white",
           "landcolor": "#E5ECF6",
           "showlakes": true,
           "showland": true,
           "subunitcolor": "white"
          },
          "hoverlabel": {
           "align": "left"
          },
          "hovermode": "closest",
          "mapbox": {
           "style": "light"
          },
          "paper_bgcolor": "white",
          "plot_bgcolor": "#E5ECF6",
          "polar": {
           "angularaxis": {
            "gridcolor": "white",
            "linecolor": "white",
            "ticks": ""
           },
           "bgcolor": "#E5ECF6",
           "radialaxis": {
            "gridcolor": "white",
            "linecolor": "white",
            "ticks": ""
           }
          },
          "scene": {
           "xaxis": {
            "backgroundcolor": "#E5ECF6",
            "gridcolor": "white",
            "gridwidth": 2,
            "linecolor": "white",
            "showbackground": true,
            "ticks": "",
            "zerolinecolor": "white"
           },
           "yaxis": {
            "backgroundcolor": "#E5ECF6",
            "gridcolor": "white",
            "gridwidth": 2,
            "linecolor": "white",
            "showbackground": true,
            "ticks": "",
            "zerolinecolor": "white"
           },
           "zaxis": {
            "backgroundcolor": "#E5ECF6",
            "gridcolor": "white",
            "gridwidth": 2,
            "linecolor": "white",
            "showbackground": true,
            "ticks": "",
            "zerolinecolor": "white"
           }
          },
          "shapedefaults": {
           "line": {
            "color": "#2a3f5f"
           }
          },
          "ternary": {
           "aaxis": {
            "gridcolor": "white",
            "linecolor": "white",
            "ticks": ""
           },
           "baxis": {
            "gridcolor": "white",
            "linecolor": "white",
            "ticks": ""
           },
           "bgcolor": "#E5ECF6",
           "caxis": {
            "gridcolor": "white",
            "linecolor": "white",
            "ticks": ""
           }
          },
          "title": {
           "x": 0.05
          },
          "xaxis": {
           "automargin": true,
           "gridcolor": "white",
           "linecolor": "white",
           "ticks": "",
           "title": {
            "standoff": 15
           },
           "zerolinecolor": "white",
           "zerolinewidth": 2
          },
          "yaxis": {
           "automargin": true,
           "gridcolor": "white",
           "linecolor": "white",
           "ticks": "",
           "title": {
            "standoff": 15
           },
           "zerolinecolor": "white",
           "zerolinewidth": 2
          }
         }
        },
        "title": {
         "font": {
          "size": 16
         },
         "subtitle": {
          "text": "Gemma 2 27B, Layer 34"
         },
         "text": "PC3 Cosine Similarity with Assistant",
         "x": 0.5
        },
        "xaxis": {
         "range": [
          -0.2320673642542799,
          0.2320673642542799
         ],
         "title": {
          "text": "PC3 Cosine Similarity"
         }
        },
        "yaxis": {
         "range": [
          0.25,
          1.75
         ],
         "showticklabels": false,
         "title": {
          "text": ""
         }
        }
       }
      },
      "text/html": [
       "<div>                            <div id=\"8495cb84-3db9-45de-a013-9fc8ac2dc41b\" class=\"plotly-graph-div\" style=\"height:500px; width:100%;\"></div>            <script type=\"text/javascript\">                require([\"plotly\"], function(Plotly) {                    window.PLOTLYENV=window.PLOTLYENV || {};                                    if (document.getElementById(\"8495cb84-3db9-45de-a013-9fc8ac2dc41b\")) {                    Plotly.newPlot(                        \"8495cb84-3db9-45de-a013-9fc8ac2dc41b\",                        [{\"hovertemplate\":\"\\u003cb\\u003e%{text}\\u003c\\u002fb\\u003e\\u003cbr\\u003eCosine Similarity: %{x:.3f}\\u003cextra\\u003e\\u003c\\u002fextra\\u003e\",\"marker\":{\"color\":[\"blue\",\"blue\",\"red\",\"blue\",\"red\",\"blue\",\"blue\",\"blue\",\"red\",\"red\",\"blue\",\"blue\",\"red\",\"red\",\"blue\",\"red\",\"blue\",\"blue\",\"red\",\"red\",\"blue\",\"red\",\"blue\",\"blue\",\"blue\",\"red\",\"blue\",\"red\",\"blue\",\"blue\",\"blue\",\"blue\",\"red\",\"red\",\"blue\",\"blue\",\"red\",\"red\",\"red\",\"red\",\"blue\",\"blue\",\"red\",\"blue\",\"red\",\"red\",\"red\",\"blue\",\"red\",\"blue\",\"blue\",\"blue\",\"red\",\"blue\",\"blue\",\"blue\",\"red\",\"blue\",\"blue\",\"blue\",\"red\",\"blue\",\"red\",\"red\",\"red\",\"red\",\"red\",\"red\",\"blue\",\"blue\",\"red\",\"blue\",\"blue\",\"red\",\"blue\",\"red\",\"red\",\"red\",\"red\",\"blue\",\"blue\",\"blue\",\"red\",\"blue\",\"blue\",\"red\",\"blue\",\"red\",\"blue\",\"red\",\"red\",\"blue\",\"blue\",\"blue\",\"red\",\"blue\",\"blue\",\"blue\",\"red\",\"red\",\"blue\",\"blue\",\"blue\",\"red\",\"red\",\"blue\",\"blue\",\"red\",\"blue\",\"blue\",\"blue\",\"red\",\"blue\",\"red\",\"red\",\"blue\",\"red\",\"blue\",\"red\",\"blue\",\"blue\",\"blue\",\"blue\",\"blue\",\"red\",\"red\",\"blue\",\"red\",\"blue\",\"red\",\"red\",\"red\",\"red\",\"blue\",\"red\",\"red\",\"blue\",\"red\",\"red\",\"red\",\"red\",\"blue\",\"blue\",\"blue\",\"red\",\"blue\",\"red\",\"blue\",\"blue\",\"red\",\"red\",\"red\",\"blue\",\"red\",\"red\",\"blue\",\"blue\",\"red\",\"blue\",\"red\",\"blue\",\"red\",\"red\",\"blue\",\"red\",\"red\",\"blue\",\"blue\",\"blue\",\"blue\",\"blue\",\"blue\",\"blue\",\"blue\",\"red\",\"red\",\"red\",\"blue\",\"red\",\"red\",\"red\",\"red\",\"blue\",\"blue\",\"red\",\"red\",\"red\",\"blue\",\"red\",\"red\",\"red\",\"red\",\"blue\",\"red\",\"blue\",\"blue\",\"blue\",\"blue\",\"red\",\"blue\",\"red\",\"blue\",\"red\",\"blue\",\"red\",\"blue\",\"blue\",\"blue\",\"blue\",\"red\",\"blue\",\"red\",\"red\",\"red\",\"red\"],\"opacity\":0.7,\"size\":8},\"mode\":\"markers\",\"showlegend\":false,\"text\":[\"absolutist\",\"adaptable\",\"abstract\",\"accommodating\",\"acerbic\",\"adventurous\",\"agreeable\",\"altruistic\",\"analytical\",\"animated\",\"anthropocentric\",\"anxious\",\"arrogant\",\"artistic\",\"ascetic\",\"assertive\",\"avoidant\",\"benevolent\",\"big_picture\",\"bitter\",\"blunt\",\"calculating\",\"callous\",\"calm\",\"cautious\",\"challenging\",\"chaotic\",\"charismatic\",\"circumspect\",\"closure_seeking\",\"collaborative\",\"collectivistic\",\"competitive\",\"conceptual\",\"conciliatory\",\"concise\",\"condescending\",\"confident\",\"confrontational\",\"conscientious\",\"constructivist\",\"contemporary\",\"contrarian\",\"convergent\",\"cosmopolitan\",\"creative\",\"critical\",\"cruel\",\"curious\",\"cynical\",\"data_driven\",\"decisive\",\"deconstructionist\",\"deontological\",\"descriptive\",\"detached\",\"deterministic\",\"diplomatic\",\"disorganized\",\"dispassionate\",\"divergent\",\"dogmatic\",\"dominant\",\"dramatic\",\"earnest\",\"eclectic\",\"edgy\",\"educational\",\"efficient\",\"effusive\",\"elitist\",\"emotional\",\"empathetic\",\"enigmatic\",\"entertaining\",\"environmental\",\"epicurean\",\"essentialist\",\"ethereal\",\"evil\",\"existentialist\",\"experiential\",\"exploratory\",\"extroverted\",\"factual\",\"fatalistic\",\"flexible\",\"flirty\",\"forgiving\",\"formal\",\"formalist\",\"fundamentalist\",\"futuristic\",\"generalist\",\"generous\",\"goofy\",\"gregarious\",\"hedonistic\",\"historical\",\"holistic\",\"hostile\",\"humanistic\",\"humble\",\"iconoclastic\",\"idealistic\",\"improvisational\",\"inclusive\",\"independent\",\"individualistic\",\"innovative\",\"inquisitive\",\"inspirational\",\"interdisciplinary\",\"introspective\",\"introverted\",\"intuitive\",\"ironic\",\"irreverent\",\"judgmental\",\"libertarian\",\"literal\",\"manic\",\"manipulative\",\"materialist\",\"meditative\",\"melancholic\",\"mercurial\",\"metaphorical\",\"methodical\",\"meticulous\",\"militant\",\"misanthropic\",\"mischievous\",\"moderate\",\"mystical\",\"narrative\",\"neurotic\",\"nihilistic\",\"nostalgic\",\"nurturing\",\"obsessive\",\"open_ended\",\"optimistic\",\"pacifist\",\"paradoxical\",\"paranoid\",\"passionate\",\"passive_aggressive\",\"patient\",\"pedantic\",\"pensive\",\"perfectionist\",\"pessimistic\",\"petty\",\"philosophical\",\"playful\",\"pluralist\",\"poetic\",\"practical\",\"prescriptive\",\"principled\",\"proactive\",\"problem_solving\",\"progressive\",\"provocative\",\"qualitative\",\"quantitative\",\"radical\",\"rationalist\",\"reactive\",\"rebellious\",\"reductionist\",\"regulatory\",\"reserved\",\"resilient\",\"reverent\",\"rhetorical\",\"risk_taking\",\"romantic\",\"sarcastic\",\"sardonic\",\"sassy\",\"savage\",\"secular\",\"serene\",\"serious\",\"skeptical\",\"socratic\",\"specialized\",\"speculative\",\"spiritual\",\"spontaneous\",\"stoic\",\"strategic\",\"stream_of_consciousness\",\"structuralist\",\"submissive\",\"subversive\",\"supportive\",\"sycophantic\",\"systems_thinker\",\"tactful\",\"technical\",\"temperamental\",\"theoretical\",\"traditional\",\"universalist\",\"urgent\",\"utilitarian\",\"verbose\",\"visceral\",\"whimsical\",\"witty\",\"wry\",\"zealous\"],\"x\":[0.0174678685876357,0.03884880130075337,-0.031229963867251107,0.06729618861917991,-0.05024305071288078,0.00806109500808954,0.04395223389996316,0.018369915809181882,-0.04020670321250353,-0.04375979066365949,0.03842471293576064,0.08356793115218636,-0.03594606562020077,-0.058187902057753406,0.0002932169601842467,-0.0070215373761264915,0.07792922882764595,0.04305324884923425,-0.005248439268335376,-0.017521170695062815,0.03707140975377376,-0.06772408954951994,0.030511831465915365,0.0463898888356758,0.01560524755581533,-0.04071237197906151,0.03344717905197974,-0.11079107270905553,0.007415746552223794,0.028231646881065255,0.05947393516158342,0.016542021286172767,-0.025705524732191835,-0.01860221301946966,0.05419873746149074,0.0942638029597974,-0.011759850789073418,-0.014664562794267737,-0.01633940437358905,-0.0942031263515616,0.0120319059001205,0.08612602654144193,-0.028206538579220133,0.03447409610387883,-0.032522096584603186,-0.004689725544551804,-0.011361770509929613,0.009442609686198521,-0.09174360445609207,0.023036084496326954,0.02580315983971005,0.013477766083926706,-0.011692648232853644,0.03287014381768863,0.05005912406696,0.01002362086808757,-0.00992239539935231,0.042727760410837215,0.07078443295067315,0.02222971649997165,-0.020233948870946053,0.015306533716711236,-0.002067502104554388,-0.11468450619393014,-0.08879816247208504,-0.01672025774842715,-0.010529315785246891,-0.05831451741349376,0.07975108655194385,0.00247354976922722,-0.056634767801511304,0.0314197307869397,0.04277546619479233,-0.11458483395507281,0.018635223941949,-0.005657424874730599,-0.07451711569536762,-0.0021327604972294027,-0.0950041498652123,0.03835978990049393,0.04233915995486533,0.0769186185614225,-0.0042179415218734605,0.0584673159943969,0.06208268996863816,-0.024065381162407064,0.08036311440554225,-0.06340854765262262,0.05901918017778497,-0.11284408834065045,-0.03356503051986906,0.008399810686641722,0.015641795482203624,0.02301960696662996,-0.07532889040878664,0.06087367946378434,0.08739939780847156,0.05164384743548149,-0.0052053823957647575,-0.02874842705071671,0.01704805789760245,0.016444778109309974,0.09851656866161079,-0.010687437649416882,-0.012669549570148096,0.04373968647481413,0.014810167359170297,-0.012062751780567213,0.014033833226153439,0.014681793611950052,0.030788556418819106,-0.008834131400304014,0.026882994621517706,-0.026392856310160934,-0.11709218398985331,0.012561111124575811,-0.022430475583597374,0.07383738151729402,-0.017867268007274513,0.006396678388235417,0.08941645776013397,0.026759042666379636,0.03591477989473817,0.06125877805085142,-0.1158048295967395,-0.044786822549767735,0.028082190269907076,-0.0681595432981631,0.022341485978219253,-0.08333076030225325,-0.0006730153361785339,-0.02478867559926827,-0.01810187710758245,0.052926391074768056,-0.052263257788969356,-0.020422177872342157,0.054386891574844984,-0.0009044282888461774,-0.018477429586317592,-0.03315573924954599,-0.0301190178576627,0.07799132814552097,0.06757568851934817,0.024661264982353954,-0.040080964885485945,0.02551490997908129,-0.06280213269120329,0.0041766334063755685,0.05217413146856433,-0.053933470692671605,-0.11560971093032825,-0.07808140739171596,0.022985634476137374,-0.05025105217179582,-0.11928951877859327,0.0486732381673064,0.056674637317158376,-0.09097233364156465,0.10956794228592412,-0.01304405480743108,0.027694681615326247,-0.05147112218191171,-0.02048936204631066,0.046991954312079885,-0.027934146477711662,-0.02297019250360244,0.027083164661278462,0.015955845958914975,0.0454514911589116,0.10868374159885957,0.015067990435950335,0.08578865547367236,0.029877325043251947,0.08106095013350909,-0.0026520826915134446,-0.04499129824180662,-0.09502979589405497,0.02926988881476121,-0.08767194667507665,-0.03554691324874638,-0.018258735302744012,-0.00034910727335678884,0.007225373645789709,0.06818440067295795,-0.005768520280524587,-0.09059152184923795,-0.029900889411577078,0.0469969688459229,-0.06418706656823026,-0.010633352060378349,-0.08444917487494816,-0.017580169400416817,0.006778005322445251,-0.10349551918360524,0.014603344245139304,0.029545037502010794,0.09803056951738798,0.005950591403985933,-0.038490142707009165,0.047294211355049985,-0.012177100751728896,0.02358374028703859,-0.0662366774007816,0.020522995226031605,-0.03804231055134282,0.023937036931058017,0.0244612884260918,0.022691238670524326,0.048009634808267344,-0.029506431727690657,0.03134522070081048,-0.05343868777312069,-0.014391068773330445,-0.031173334177227393,-0.06898483494414077],\"y\":[1,1,1,1,1,1,1,1,1,1,1,1,1,1,1,1,1,1,1,1,1,1,1,1,1,1,1,1,1,1,1,1,1,1,1,1,1,1,1,1,1,1,1,1,1,1,1,1,1,1,1,1,1,1,1,1,1,1,1,1,1,1,1,1,1,1,1,1,1,1,1,1,1,1,1,1,1,1,1,1,1,1,1,1,1,1,1,1,1,1,1,1,1,1,1,1,1,1,1,1,1,1,1,1,1,1,1,1,1,1,1,1,1,1,1,1,1,1,1,1,1,1,1,1,1,1,1,1,1,1,1,1,1,1,1,1,1,1,1,1,1,1,1,1,1,1,1,1,1,1,1,1,1,1,1,1,1,1,1,1,1,1,1,1,1,1,1,1,1,1,1,1,1,1,1,1,1,1,1,1,1,1,1,1,1,1,1,1,1,1,1,1,1,1,1,1,1,1,1,1,1,1,1,1,1,1,1,1,1,1,1,1,1,1,1],\"type\":\"scatter\"},{\"hovertemplate\":\"\\u003cb\\u003e%{text}\\u003c\\u002fb\\u003e\\u003cbr\\u003eCosine Similarity: %{x:.3f}\\u003cextra\\u003e\\u003c\\u002fextra\\u003e\",\"marker\":{\"color\":[\"blue\",\"red\",\"blue\",\"blue\",\"red\",\"red\",\"red\",\"red\",\"blue\",\"red\",\"blue\",\"blue\",\"blue\",\"red\",\"blue\",\"blue\",\"red\",\"red\",\"red\",\"blue\"],\"opacity\":0.9,\"size\":8},\"mode\":\"markers\",\"showlegend\":false,\"text\":[\"accessible\",\"bombastic\",\"casual\",\"chill\",\"cryptic\",\"eloquent\",\"erudite\",\"esoteric\",\"flippant\",\"grandiose\",\"grounded\",\"impatient\",\"impulsive\",\"melodramatic\",\"naive\",\"nonchalant\",\"ritualistic\",\"solemn\",\"theatrical\",\"understated\"],\"x\":[0.13536381879353054,-0.18157369951449728,0.179244130813621,0.11926633021900197,-0.14243383550043479,-0.21097033114025443,-0.14028775208917002,-0.12592683753066986,0.17283067724748724,-0.13165208565217365,0.14086661992449442,0.12227970431717711,0.13264787352468116,-0.13342178832017057,0.14549668449638425,0.12374939815000965,-0.125962107465523,-0.12945541956080872,-0.13416691880642584,0.18957417504553772],\"y\":[1,1,1,1,1,1,1,1,1,1,1,1,1,1,1,1,1,1,1,1],\"type\":\"scatter\"},{\"hoverinfo\":\"skip\",\"line\":{\"color\":\"red\",\"width\":1},\"mode\":\"lines\",\"showlegend\":false,\"x\":[-0.21097033114025443,-0.21097033114025443],\"y\":[1.0,1.6],\"type\":\"scatter\"},{\"hoverinfo\":\"skip\",\"line\":{\"color\":\"red\",\"width\":1},\"mode\":\"lines\",\"showlegend\":false,\"x\":[-0.18157369951449728,-0.18157369951449728],\"y\":[1.0,0.4],\"type\":\"scatter\"},{\"hoverinfo\":\"skip\",\"line\":{\"color\":\"red\",\"width\":1},\"mode\":\"lines\",\"showlegend\":false,\"x\":[-0.14243383550043479,-0.14243383550043479],\"y\":[1.0,1.45],\"type\":\"scatter\"},{\"hoverinfo\":\"skip\",\"line\":{\"color\":\"red\",\"width\":1},\"mode\":\"lines\",\"showlegend\":false,\"x\":[-0.14028775208917002,-0.14028775208917002],\"y\":[1.0,0.55],\"type\":\"scatter\"},{\"hoverinfo\":\"skip\",\"line\":{\"color\":\"red\",\"width\":1},\"mode\":\"lines\",\"showlegend\":false,\"x\":[-0.13416691880642584,-0.13416691880642584],\"y\":[1.0,1.55],\"type\":\"scatter\"},{\"hoverinfo\":\"skip\",\"line\":{\"color\":\"red\",\"width\":1},\"mode\":\"lines\",\"showlegend\":false,\"x\":[-0.13342178832017057,-0.13342178832017057],\"y\":[1.0,0.45],\"type\":\"scatter\"},{\"hoverinfo\":\"skip\",\"line\":{\"color\":\"red\",\"width\":1},\"mode\":\"lines\",\"showlegend\":false,\"x\":[-0.13165208565217365,-0.13165208565217365],\"y\":[1.0,1.35],\"type\":\"scatter\"},{\"hoverinfo\":\"skip\",\"line\":{\"color\":\"red\",\"width\":1},\"mode\":\"lines\",\"showlegend\":false,\"x\":[-0.12945541956080872,-0.12945541956080872],\"y\":[1.0,0.65],\"type\":\"scatter\"},{\"hoverinfo\":\"skip\",\"line\":{\"color\":\"red\",\"width\":1},\"mode\":\"lines\",\"showlegend\":false,\"x\":[-0.125962107465523,-0.125962107465523],\"y\":[1.0,1.5],\"type\":\"scatter\"},{\"hoverinfo\":\"skip\",\"line\":{\"color\":\"red\",\"width\":1},\"mode\":\"lines\",\"showlegend\":false,\"x\":[-0.12592683753066986,-0.12592683753066986],\"y\":[1.0,0.5],\"type\":\"scatter\"},{\"hoverinfo\":\"skip\",\"line\":{\"color\":\"blue\",\"width\":1},\"mode\":\"lines\",\"showlegend\":false,\"x\":[0.11926633021900197,0.11926633021900197],\"y\":[1.0,1.4],\"type\":\"scatter\"},{\"hoverinfo\":\"skip\",\"line\":{\"color\":\"blue\",\"width\":1},\"mode\":\"lines\",\"showlegend\":false,\"x\":[0.12227970431717711,0.12227970431717711],\"y\":[1.0,0.6],\"type\":\"scatter\"},{\"hoverinfo\":\"skip\",\"line\":{\"color\":\"blue\",\"width\":1},\"mode\":\"lines\",\"showlegend\":false,\"x\":[0.12374939815000965,0.12374939815000965],\"y\":[1.0,1.65],\"type\":\"scatter\"},{\"hoverinfo\":\"skip\",\"line\":{\"color\":\"blue\",\"width\":1},\"mode\":\"lines\",\"showlegend\":false,\"x\":[0.13264787352468116,0.13264787352468116],\"y\":[1.0,0.35],\"type\":\"scatter\"},{\"hoverinfo\":\"skip\",\"line\":{\"color\":\"blue\",\"width\":1},\"mode\":\"lines\",\"showlegend\":false,\"x\":[0.13536381879353054,0.13536381879353054],\"y\":[1.0,1.3],\"type\":\"scatter\"},{\"hoverinfo\":\"skip\",\"line\":{\"color\":\"blue\",\"width\":1},\"mode\":\"lines\",\"showlegend\":false,\"x\":[0.14086661992449442,0.14086661992449442],\"y\":[1.0,0.7],\"type\":\"scatter\"},{\"hoverinfo\":\"skip\",\"line\":{\"color\":\"blue\",\"width\":1},\"mode\":\"lines\",\"showlegend\":false,\"x\":[0.14549668449638425,0.14549668449638425],\"y\":[1.0,1.58],\"type\":\"scatter\"},{\"hoverinfo\":\"skip\",\"line\":{\"color\":\"blue\",\"width\":1},\"mode\":\"lines\",\"showlegend\":false,\"x\":[0.17283067724748724,0.17283067724748724],\"y\":[1.0,0.42],\"type\":\"scatter\"},{\"hoverinfo\":\"skip\",\"line\":{\"color\":\"blue\",\"width\":1},\"mode\":\"lines\",\"showlegend\":false,\"x\":[0.179244130813621,0.179244130813621],\"y\":[1.0,1.42],\"type\":\"scatter\"},{\"hoverinfo\":\"skip\",\"line\":{\"color\":\"blue\",\"width\":1},\"mode\":\"lines\",\"showlegend\":false,\"x\":[0.18957417504553772,0.18957417504553772],\"y\":[1.0,0.58],\"type\":\"scatter\"}],                        {\"template\":{\"data\":{\"histogram2dcontour\":[{\"type\":\"histogram2dcontour\",\"colorbar\":{\"outlinewidth\":0,\"ticks\":\"\"},\"colorscale\":[[0.0,\"#0d0887\"],[0.1111111111111111,\"#46039f\"],[0.2222222222222222,\"#7201a8\"],[0.3333333333333333,\"#9c179e\"],[0.4444444444444444,\"#bd3786\"],[0.5555555555555556,\"#d8576b\"],[0.6666666666666666,\"#ed7953\"],[0.7777777777777778,\"#fb9f3a\"],[0.8888888888888888,\"#fdca26\"],[1.0,\"#f0f921\"]]}],\"choropleth\":[{\"type\":\"choropleth\",\"colorbar\":{\"outlinewidth\":0,\"ticks\":\"\"}}],\"histogram2d\":[{\"type\":\"histogram2d\",\"colorbar\":{\"outlinewidth\":0,\"ticks\":\"\"},\"colorscale\":[[0.0,\"#0d0887\"],[0.1111111111111111,\"#46039f\"],[0.2222222222222222,\"#7201a8\"],[0.3333333333333333,\"#9c179e\"],[0.4444444444444444,\"#bd3786\"],[0.5555555555555556,\"#d8576b\"],[0.6666666666666666,\"#ed7953\"],[0.7777777777777778,\"#fb9f3a\"],[0.8888888888888888,\"#fdca26\"],[1.0,\"#f0f921\"]]}],\"heatmap\":[{\"type\":\"heatmap\",\"colorbar\":{\"outlinewidth\":0,\"ticks\":\"\"},\"colorscale\":[[0.0,\"#0d0887\"],[0.1111111111111111,\"#46039f\"],[0.2222222222222222,\"#7201a8\"],[0.3333333333333333,\"#9c179e\"],[0.4444444444444444,\"#bd3786\"],[0.5555555555555556,\"#d8576b\"],[0.6666666666666666,\"#ed7953\"],[0.7777777777777778,\"#fb9f3a\"],[0.8888888888888888,\"#fdca26\"],[1.0,\"#f0f921\"]]}],\"heatmapgl\":[{\"type\":\"heatmapgl\",\"colorbar\":{\"outlinewidth\":0,\"ticks\":\"\"},\"colorscale\":[[0.0,\"#0d0887\"],[0.1111111111111111,\"#46039f\"],[0.2222222222222222,\"#7201a8\"],[0.3333333333333333,\"#9c179e\"],[0.4444444444444444,\"#bd3786\"],[0.5555555555555556,\"#d8576b\"],[0.6666666666666666,\"#ed7953\"],[0.7777777777777778,\"#fb9f3a\"],[0.8888888888888888,\"#fdca26\"],[1.0,\"#f0f921\"]]}],\"contourcarpet\":[{\"type\":\"contourcarpet\",\"colorbar\":{\"outlinewidth\":0,\"ticks\":\"\"}}],\"contour\":[{\"type\":\"contour\",\"colorbar\":{\"outlinewidth\":0,\"ticks\":\"\"},\"colorscale\":[[0.0,\"#0d0887\"],[0.1111111111111111,\"#46039f\"],[0.2222222222222222,\"#7201a8\"],[0.3333333333333333,\"#9c179e\"],[0.4444444444444444,\"#bd3786\"],[0.5555555555555556,\"#d8576b\"],[0.6666666666666666,\"#ed7953\"],[0.7777777777777778,\"#fb9f3a\"],[0.8888888888888888,\"#fdca26\"],[1.0,\"#f0f921\"]]}],\"surface\":[{\"type\":\"surface\",\"colorbar\":{\"outlinewidth\":0,\"ticks\":\"\"},\"colorscale\":[[0.0,\"#0d0887\"],[0.1111111111111111,\"#46039f\"],[0.2222222222222222,\"#7201a8\"],[0.3333333333333333,\"#9c179e\"],[0.4444444444444444,\"#bd3786\"],[0.5555555555555556,\"#d8576b\"],[0.6666666666666666,\"#ed7953\"],[0.7777777777777778,\"#fb9f3a\"],[0.8888888888888888,\"#fdca26\"],[1.0,\"#f0f921\"]]}],\"mesh3d\":[{\"type\":\"mesh3d\",\"colorbar\":{\"outlinewidth\":0,\"ticks\":\"\"}}],\"scatter\":[{\"fillpattern\":{\"fillmode\":\"overlay\",\"size\":10,\"solidity\":0.2},\"type\":\"scatter\"}],\"parcoords\":[{\"type\":\"parcoords\",\"line\":{\"colorbar\":{\"outlinewidth\":0,\"ticks\":\"\"}}}],\"scatterpolargl\":[{\"type\":\"scatterpolargl\",\"marker\":{\"colorbar\":{\"outlinewidth\":0,\"ticks\":\"\"}}}],\"bar\":[{\"error_x\":{\"color\":\"#2a3f5f\"},\"error_y\":{\"color\":\"#2a3f5f\"},\"marker\":{\"line\":{\"color\":\"#E5ECF6\",\"width\":0.5},\"pattern\":{\"fillmode\":\"overlay\",\"size\":10,\"solidity\":0.2}},\"type\":\"bar\"}],\"scattergeo\":[{\"type\":\"scattergeo\",\"marker\":{\"colorbar\":{\"outlinewidth\":0,\"ticks\":\"\"}}}],\"scatterpolar\":[{\"type\":\"scatterpolar\",\"marker\":{\"colorbar\":{\"outlinewidth\":0,\"ticks\":\"\"}}}],\"histogram\":[{\"marker\":{\"pattern\":{\"fillmode\":\"overlay\",\"size\":10,\"solidity\":0.2}},\"type\":\"histogram\"}],\"scattergl\":[{\"type\":\"scattergl\",\"marker\":{\"colorbar\":{\"outlinewidth\":0,\"ticks\":\"\"}}}],\"scatter3d\":[{\"type\":\"scatter3d\",\"line\":{\"colorbar\":{\"outlinewidth\":0,\"ticks\":\"\"}},\"marker\":{\"colorbar\":{\"outlinewidth\":0,\"ticks\":\"\"}}}],\"scattermapbox\":[{\"type\":\"scattermapbox\",\"marker\":{\"colorbar\":{\"outlinewidth\":0,\"ticks\":\"\"}}}],\"scatterternary\":[{\"type\":\"scatterternary\",\"marker\":{\"colorbar\":{\"outlinewidth\":0,\"ticks\":\"\"}}}],\"scattercarpet\":[{\"type\":\"scattercarpet\",\"marker\":{\"colorbar\":{\"outlinewidth\":0,\"ticks\":\"\"}}}],\"carpet\":[{\"aaxis\":{\"endlinecolor\":\"#2a3f5f\",\"gridcolor\":\"white\",\"linecolor\":\"white\",\"minorgridcolor\":\"white\",\"startlinecolor\":\"#2a3f5f\"},\"baxis\":{\"endlinecolor\":\"#2a3f5f\",\"gridcolor\":\"white\",\"linecolor\":\"white\",\"minorgridcolor\":\"white\",\"startlinecolor\":\"#2a3f5f\"},\"type\":\"carpet\"}],\"table\":[{\"cells\":{\"fill\":{\"color\":\"#EBF0F8\"},\"line\":{\"color\":\"white\"}},\"header\":{\"fill\":{\"color\":\"#C8D4E3\"},\"line\":{\"color\":\"white\"}},\"type\":\"table\"}],\"barpolar\":[{\"marker\":{\"line\":{\"color\":\"#E5ECF6\",\"width\":0.5},\"pattern\":{\"fillmode\":\"overlay\",\"size\":10,\"solidity\":0.2}},\"type\":\"barpolar\"}],\"pie\":[{\"automargin\":true,\"type\":\"pie\"}]},\"layout\":{\"autotypenumbers\":\"strict\",\"colorway\":[\"#636efa\",\"#EF553B\",\"#00cc96\",\"#ab63fa\",\"#FFA15A\",\"#19d3f3\",\"#FF6692\",\"#B6E880\",\"#FF97FF\",\"#FECB52\"],\"font\":{\"color\":\"#2a3f5f\"},\"hovermode\":\"closest\",\"hoverlabel\":{\"align\":\"left\"},\"paper_bgcolor\":\"white\",\"plot_bgcolor\":\"#E5ECF6\",\"polar\":{\"bgcolor\":\"#E5ECF6\",\"angularaxis\":{\"gridcolor\":\"white\",\"linecolor\":\"white\",\"ticks\":\"\"},\"radialaxis\":{\"gridcolor\":\"white\",\"linecolor\":\"white\",\"ticks\":\"\"}},\"ternary\":{\"bgcolor\":\"#E5ECF6\",\"aaxis\":{\"gridcolor\":\"white\",\"linecolor\":\"white\",\"ticks\":\"\"},\"baxis\":{\"gridcolor\":\"white\",\"linecolor\":\"white\",\"ticks\":\"\"},\"caxis\":{\"gridcolor\":\"white\",\"linecolor\":\"white\",\"ticks\":\"\"}},\"coloraxis\":{\"colorbar\":{\"outlinewidth\":0,\"ticks\":\"\"}},\"colorscale\":{\"sequential\":[[0.0,\"#0d0887\"],[0.1111111111111111,\"#46039f\"],[0.2222222222222222,\"#7201a8\"],[0.3333333333333333,\"#9c179e\"],[0.4444444444444444,\"#bd3786\"],[0.5555555555555556,\"#d8576b\"],[0.6666666666666666,\"#ed7953\"],[0.7777777777777778,\"#fb9f3a\"],[0.8888888888888888,\"#fdca26\"],[1.0,\"#f0f921\"]],\"sequentialminus\":[[0.0,\"#0d0887\"],[0.1111111111111111,\"#46039f\"],[0.2222222222222222,\"#7201a8\"],[0.3333333333333333,\"#9c179e\"],[0.4444444444444444,\"#bd3786\"],[0.5555555555555556,\"#d8576b\"],[0.6666666666666666,\"#ed7953\"],[0.7777777777777778,\"#fb9f3a\"],[0.8888888888888888,\"#fdca26\"],[1.0,\"#f0f921\"]],\"diverging\":[[0,\"#8e0152\"],[0.1,\"#c51b7d\"],[0.2,\"#de77ae\"],[0.3,\"#f1b6da\"],[0.4,\"#fde0ef\"],[0.5,\"#f7f7f7\"],[0.6,\"#e6f5d0\"],[0.7,\"#b8e186\"],[0.8,\"#7fbc41\"],[0.9,\"#4d9221\"],[1,\"#276419\"]]},\"xaxis\":{\"gridcolor\":\"white\",\"linecolor\":\"white\",\"ticks\":\"\",\"title\":{\"standoff\":15},\"zerolinecolor\":\"white\",\"automargin\":true,\"zerolinewidth\":2},\"yaxis\":{\"gridcolor\":\"white\",\"linecolor\":\"white\",\"ticks\":\"\",\"title\":{\"standoff\":15},\"zerolinecolor\":\"white\",\"automargin\":true,\"zerolinewidth\":2},\"scene\":{\"xaxis\":{\"backgroundcolor\":\"#E5ECF6\",\"gridcolor\":\"white\",\"linecolor\":\"white\",\"showbackground\":true,\"ticks\":\"\",\"zerolinecolor\":\"white\",\"gridwidth\":2},\"yaxis\":{\"backgroundcolor\":\"#E5ECF6\",\"gridcolor\":\"white\",\"linecolor\":\"white\",\"showbackground\":true,\"ticks\":\"\",\"zerolinecolor\":\"white\",\"gridwidth\":2},\"zaxis\":{\"backgroundcolor\":\"#E5ECF6\",\"gridcolor\":\"white\",\"linecolor\":\"white\",\"showbackground\":true,\"ticks\":\"\",\"zerolinecolor\":\"white\",\"gridwidth\":2}},\"shapedefaults\":{\"line\":{\"color\":\"#2a3f5f\"}},\"annotationdefaults\":{\"arrowcolor\":\"#2a3f5f\",\"arrowhead\":0,\"arrowwidth\":1},\"geo\":{\"bgcolor\":\"white\",\"landcolor\":\"#E5ECF6\",\"subunitcolor\":\"white\",\"showland\":true,\"showlakes\":true,\"lakecolor\":\"white\"},\"title\":{\"x\":0.05},\"mapbox\":{\"style\":\"light\"}}},\"annotations\":[{\"bgcolor\":\"rgba(255, 255, 255, 0.9)\",\"bordercolor\":\"red\",\"borderwidth\":1,\"font\":{\"color\":\"red\",\"size\":10},\"showarrow\":false,\"text\":\"eloquent\",\"x\":-0.21097033114025443,\"y\":1.6},{\"bgcolor\":\"rgba(255, 255, 255, 0.9)\",\"bordercolor\":\"red\",\"borderwidth\":1,\"font\":{\"color\":\"red\",\"size\":10},\"showarrow\":false,\"text\":\"bombastic\",\"x\":-0.18157369951449728,\"y\":0.4},{\"bgcolor\":\"rgba(255, 255, 255, 0.9)\",\"bordercolor\":\"red\",\"borderwidth\":1,\"font\":{\"color\":\"red\",\"size\":10},\"showarrow\":false,\"text\":\"cryptic\",\"x\":-0.14243383550043479,\"y\":1.45},{\"bgcolor\":\"rgba(255, 255, 255, 0.9)\",\"bordercolor\":\"red\",\"borderwidth\":1,\"font\":{\"color\":\"red\",\"size\":10},\"showarrow\":false,\"text\":\"erudite\",\"x\":-0.14028775208917002,\"y\":0.55},{\"bgcolor\":\"rgba(255, 255, 255, 0.9)\",\"bordercolor\":\"red\",\"borderwidth\":1,\"font\":{\"color\":\"red\",\"size\":10},\"showarrow\":false,\"text\":\"theatrical\",\"x\":-0.13416691880642584,\"y\":1.55},{\"bgcolor\":\"rgba(255, 255, 255, 0.9)\",\"bordercolor\":\"red\",\"borderwidth\":1,\"font\":{\"color\":\"red\",\"size\":10},\"showarrow\":false,\"text\":\"melodramatic\",\"x\":-0.13342178832017057,\"y\":0.45},{\"bgcolor\":\"rgba(255, 255, 255, 0.9)\",\"bordercolor\":\"red\",\"borderwidth\":1,\"font\":{\"color\":\"red\",\"size\":10},\"showarrow\":false,\"text\":\"grandiose\",\"x\":-0.13165208565217365,\"y\":1.35},{\"bgcolor\":\"rgba(255, 255, 255, 0.9)\",\"bordercolor\":\"red\",\"borderwidth\":1,\"font\":{\"color\":\"red\",\"size\":10},\"showarrow\":false,\"text\":\"solemn\",\"x\":-0.12945541956080872,\"y\":0.65},{\"bgcolor\":\"rgba(255, 255, 255, 0.9)\",\"bordercolor\":\"red\",\"borderwidth\":1,\"font\":{\"color\":\"red\",\"size\":10},\"showarrow\":false,\"text\":\"ritualistic\",\"x\":-0.125962107465523,\"y\":1.5},{\"bgcolor\":\"rgba(255, 255, 255, 0.9)\",\"bordercolor\":\"red\",\"borderwidth\":1,\"font\":{\"color\":\"red\",\"size\":10},\"showarrow\":false,\"text\":\"esoteric\",\"x\":-0.12592683753066986,\"y\":0.5},{\"bgcolor\":\"rgba(255, 255, 255, 0.9)\",\"bordercolor\":\"blue\",\"borderwidth\":1,\"font\":{\"color\":\"blue\",\"size\":10},\"showarrow\":false,\"text\":\"chill\",\"x\":0.11926633021900197,\"y\":1.4},{\"bgcolor\":\"rgba(255, 255, 255, 0.9)\",\"bordercolor\":\"blue\",\"borderwidth\":1,\"font\":{\"color\":\"blue\",\"size\":10},\"showarrow\":false,\"text\":\"impatient\",\"x\":0.12227970431717711,\"y\":0.6},{\"bgcolor\":\"rgba(255, 255, 255, 0.9)\",\"bordercolor\":\"blue\",\"borderwidth\":1,\"font\":{\"color\":\"blue\",\"size\":10},\"showarrow\":false,\"text\":\"nonchalant\",\"x\":0.12374939815000965,\"y\":1.65},{\"bgcolor\":\"rgba(255, 255, 255, 0.9)\",\"bordercolor\":\"blue\",\"borderwidth\":1,\"font\":{\"color\":\"blue\",\"size\":10},\"showarrow\":false,\"text\":\"impulsive\",\"x\":0.13264787352468116,\"y\":0.35},{\"bgcolor\":\"rgba(255, 255, 255, 0.9)\",\"bordercolor\":\"blue\",\"borderwidth\":1,\"font\":{\"color\":\"blue\",\"size\":10},\"showarrow\":false,\"text\":\"accessible\",\"x\":0.13536381879353054,\"y\":1.3},{\"bgcolor\":\"rgba(255, 255, 255, 0.9)\",\"bordercolor\":\"blue\",\"borderwidth\":1,\"font\":{\"color\":\"blue\",\"size\":10},\"showarrow\":false,\"text\":\"grounded\",\"x\":0.14086661992449442,\"y\":0.7},{\"bgcolor\":\"rgba(255, 255, 255, 0.9)\",\"bordercolor\":\"blue\",\"borderwidth\":1,\"font\":{\"color\":\"blue\",\"size\":10},\"showarrow\":false,\"text\":\"naive\",\"x\":0.14549668449638425,\"y\":1.58},{\"bgcolor\":\"rgba(255, 255, 255, 0.9)\",\"bordercolor\":\"blue\",\"borderwidth\":1,\"font\":{\"color\":\"blue\",\"size\":10},\"showarrow\":false,\"text\":\"flippant\",\"x\":0.17283067724748724,\"y\":0.42},{\"bgcolor\":\"rgba(255, 255, 255, 0.9)\",\"bordercolor\":\"blue\",\"borderwidth\":1,\"font\":{\"color\":\"blue\",\"size\":10},\"showarrow\":false,\"text\":\"casual\",\"x\":0.179244130813621,\"y\":1.42},{\"bgcolor\":\"rgba(255, 255, 255, 0.9)\",\"bordercolor\":\"blue\",\"borderwidth\":1,\"font\":{\"color\":\"blue\",\"size\":10},\"showarrow\":false,\"text\":\"understated\",\"x\":0.18957417504553772,\"y\":0.58},{\"bgcolor\":\"rgba(255, 255, 255, 0.9)\",\"bordercolor\":\"black\",\"borderwidth\":1,\"font\":{\"color\":\"black\",\"size\":10},\"showarrow\":false,\"text\":\"Assistant\",\"x\":0.05135228878878575,\"y\":1.6}],\"shapes\":[{\"line\":{\"color\":\"gray\",\"dash\":\"solid\",\"width\":1},\"opacity\":0.7,\"type\":\"line\",\"x0\":0,\"x1\":0,\"xref\":\"x\",\"y0\":0,\"y1\":1,\"yref\":\"y domain\"},{\"line\":{\"color\":\"black\",\"dash\":\"dash\",\"width\":1},\"opacity\":1.0,\"type\":\"line\",\"x0\":0.05135228878878575,\"x1\":0.05135228878878575,\"xref\":\"x\",\"y0\":0,\"y1\":1,\"yref\":\"y domain\"}],\"title\":{\"subtitle\":{\"text\":\"Gemma 2 27B, Layer 34\"},\"font\":{\"size\":16},\"text\":\"PC3 Cosine Similarity with Assistant\",\"x\":0.5},\"height\":500,\"showlegend\":false,\"xaxis\":{\"title\":{\"text\":\"PC3 Cosine Similarity\"},\"range\":[-0.2320673642542799,0.2320673642542799]},\"yaxis\":{\"title\":{\"text\":\"\"},\"showticklabels\":false,\"range\":[0.25,1.75]}},                        {\"responsive\": true}                    ).then(function(){\n",
       "                            \n",
       "var gd = document.getElementById('8495cb84-3db9-45de-a013-9fc8ac2dc41b');\n",
       "var x = new MutationObserver(function (mutations, observer) {{\n",
       "        var display = window.getComputedStyle(gd).display;\n",
       "        if (!display || display === 'none') {{\n",
       "            console.log([gd, 'removed!']);\n",
       "            Plotly.purge(gd);\n",
       "            observer.disconnect();\n",
       "        }}\n",
       "}});\n",
       "\n",
       "// Listen for the removal of the full notebook cells\n",
       "var notebookContainer = gd.closest('#notebook-container');\n",
       "if (notebookContainer) {{\n",
       "    x.observe(notebookContainer, {childList: true});\n",
       "}}\n",
       "\n",
       "// Listen for the clearing of the current output cell\n",
       "var outputEl = gd.closest('.output');\n",
       "if (outputEl) {{\n",
       "    x.observe(outputEl, {childList: true});\n",
       "}}\n",
       "\n",
       "                        })                };                });            </script>        </div>"
      ]
     },
     "metadata": {},
     "output_type": "display_data"
    },
    {
     "data": {
      "application/vnd.plotly.v1+json": {
       "config": {
        "plotlyServerURL": "https://plot.ly"
       },
       "data": [
        {
         "hovertemplate": "<b>%{text}</b><br>Cosine Similarity: %{x:.3f}<extra></extra>",
         "marker": {
          "color": [
           "red",
           "blue",
           "red",
           "blue",
           "blue",
           "blue",
           "blue",
           "red",
           "red",
           "blue",
           "blue",
           "red",
           "blue",
           "red",
           "red",
           "red",
           "blue",
           "red",
           "blue",
           "red",
           "blue",
           "blue",
           "red",
           "blue",
           "red",
           "red",
           "blue",
           "blue",
           "blue",
           "blue",
           "blue",
           "red",
           "blue",
           "blue",
           "blue",
           "red",
           "blue",
           "red",
           "red",
           "red",
           "red",
           "red",
           "blue",
           "blue",
           "blue",
           "blue",
           "blue",
           "blue",
           "blue",
           "blue",
           "blue",
           "blue",
           "blue",
           "blue",
           "blue",
           "red",
           "red",
           "red",
           "red",
           "red",
           "red",
           "red",
           "blue",
           "red",
           "blue",
           "red",
           "blue",
           "red",
           "blue",
           "red",
           "blue",
           "red",
           "red",
           "blue",
           "blue",
           "red",
           "blue",
           "red",
           "blue",
           "red",
           "red",
           "red",
           "blue",
           "blue",
           "blue",
           "blue",
           "blue",
           "blue",
           "red",
           "red",
           "red",
           "red",
           "red",
           "red",
           "blue",
           "blue",
           "red",
           "red",
           "blue",
           "blue",
           "red",
           "red",
           "blue",
           "blue",
           "blue",
           "blue",
           "blue",
           "red",
           "red",
           "blue",
           "red",
           "blue",
           "blue",
           "blue",
           "blue",
           "blue",
           "blue",
           "blue",
           "blue",
           "red",
           "blue",
           "red",
           "red",
           "blue",
           "red",
           "red",
           "blue",
           "red",
           "blue",
           "red",
           "blue",
           "red",
           "red",
           "blue",
           "blue",
           "blue",
           "red",
           "red",
           "red",
           "red",
           "red",
           "blue",
           "red",
           "red",
           "red",
           "blue",
           "red",
           "red",
           "red",
           "red",
           "red",
           "red",
           "blue",
           "red",
           "red",
           "blue",
           "blue",
           "blue",
           "blue",
           "blue",
           "red",
           "red",
           "blue",
           "red",
           "blue",
           "blue",
           "red",
           "blue",
           "blue",
           "red",
           "blue",
           "blue",
           "blue",
           "red",
           "blue",
           "blue",
           "red",
           "red",
           "blue",
           "red",
           "red",
           "red",
           "red",
           "blue",
           "red",
           "blue",
           "blue",
           "red",
           "blue",
           "red",
           "red",
           "blue",
           "blue",
           "red",
           "red",
           "red",
           "blue",
           "red",
           "red",
           "red",
           "blue",
           "red",
           "blue",
           "blue",
           "blue",
           "red",
           "red",
           "blue",
           "blue",
           "blue",
           "blue",
           "red",
           "blue",
           "red",
           "blue"
          ],
          "opacity": 0.7,
          "size": 8
         },
         "mode": "markers",
         "showlegend": false,
         "text": [
          "absolutist",
          "adaptable",
          "abstract",
          "accessible",
          "accommodating",
          "acerbic",
          "adventurous",
          "agreeable",
          "altruistic",
          "analytical",
          "animated",
          "anthropocentric",
          "anxious",
          "arrogant",
          "artistic",
          "ascetic",
          "assertive",
          "avoidant",
          "benevolent",
          "big_picture",
          "bitter",
          "blunt",
          "bombastic",
          "calculating",
          "callous",
          "calm",
          "casual",
          "cautious",
          "challenging",
          "chaotic",
          "charismatic",
          "chill",
          "circumspect",
          "closure_seeking",
          "collaborative",
          "collectivistic",
          "competitive",
          "conceptual",
          "conciliatory",
          "concise",
          "condescending",
          "confident",
          "conscientious",
          "constructivist",
          "contemporary",
          "contrarian",
          "convergent",
          "cosmopolitan",
          "creative",
          "critical",
          "cruel",
          "cynical",
          "data_driven",
          "decisive",
          "deconstructionist",
          "deontological",
          "descriptive",
          "detached",
          "deterministic",
          "diplomatic",
          "disorganized",
          "dispassionate",
          "divergent",
          "dogmatic",
          "dominant",
          "dramatic",
          "earnest",
          "eclectic",
          "edgy",
          "efficient",
          "effusive",
          "elitist",
          "eloquent",
          "emotional",
          "empathetic",
          "entertaining",
          "environmental",
          "epicurean",
          "erudite",
          "esoteric",
          "essentialist",
          "evil",
          "existentialist",
          "experiential",
          "exploratory",
          "extroverted",
          "factual",
          "flexible",
          "flippant",
          "flirty",
          "forgiving",
          "formal",
          "formalist",
          "fundamentalist",
          "futuristic",
          "generalist",
          "goofy",
          "grandiose",
          "gregarious",
          "grounded",
          "hedonistic",
          "historical",
          "holistic",
          "hostile",
          "humanistic",
          "humble",
          "iconoclastic",
          "idealistic",
          "impatient",
          "improvisational",
          "impulsive",
          "inclusive",
          "independent",
          "individualistic",
          "innovative",
          "inquisitive",
          "inspirational",
          "interdisciplinary",
          "introspective",
          "introverted",
          "intuitive",
          "ironic",
          "irreverent",
          "judgmental",
          "libertarian",
          "literal",
          "manic",
          "manipulative",
          "materialist",
          "melancholic",
          "melodramatic",
          "mercurial",
          "metaphorical",
          "methodical",
          "meticulous",
          "militant",
          "misanthropic",
          "mischievous",
          "moderate",
          "mystical",
          "narrative",
          "neurotic",
          "nihilistic",
          "nonchalant",
          "nostalgic",
          "nurturing",
          "obsessive",
          "open_ended",
          "optimistic",
          "pacifist",
          "paradoxical",
          "paranoid",
          "passionate",
          "passive_aggressive",
          "patient",
          "pedantic",
          "pensive",
          "perfectionist",
          "pessimistic",
          "petty",
          "philosophical",
          "playful",
          "pluralist",
          "poetic",
          "practical",
          "prescriptive",
          "principled",
          "progressive",
          "provocative",
          "qualitative",
          "quantitative",
          "radical",
          "rationalist",
          "reactive",
          "rebellious",
          "reductionist",
          "regulatory",
          "reserved",
          "resilient",
          "reverent",
          "rhetorical",
          "risk_taking",
          "ritualistic",
          "sarcastic",
          "sardonic",
          "savage",
          "secular",
          "serious",
          "skeptical",
          "socratic",
          "solemn",
          "specialized",
          "speculative",
          "spontaneous",
          "stoic",
          "stream_of_consciousness",
          "structuralist",
          "submissive",
          "subversive",
          "sycophantic",
          "systems_thinker",
          "tactful",
          "technical",
          "temperamental",
          "theatrical",
          "theoretical",
          "traditional",
          "universalist",
          "utilitarian",
          "verbose",
          "visceral",
          "whimsical",
          "witty",
          "wry",
          "zealous"
         ],
         "type": "scatter",
         "x": [
          -0.006948326162561841,
          0.05867639551738339,
          -0.02636735754607814,
          0.012474425584940753,
          0.018462274559123547,
          0.031956292116599574,
          0.022695339162310025,
          -0.053692887925949374,
          -0.013826271050870524,
          0.0751892408083824,
          0.08316964111601463,
          -0.018987608792439267,
          0.0297849745551841,
          -0.015888905994474893,
          -0.06749065679341845,
          -0.04638493770838487,
          0.039088051684062146,
          -0.05828503412675964,
          0.013418089136991895,
          -0.024619559046511717,
          0.041957765338323634,
          0.10012581627200942,
          -0.05262719869073653,
          0.03534681381842344,
          -0.03496682187020288,
          -0.0895116020625319,
          0.028844996834452196,
          0.048032520865041985,
          0.09241114709712799,
          0.024313191362417767,
          0.10642835734089055,
          -0.085306495052359,
          0.016820166348790952,
          0.014547273048185016,
          0.008502495299197397,
          -0.026751514623475112,
          0.04183919016332425,
          -0.03277085633036291,
          -0.010254822554512174,
          -0.06308652039814912,
          -0.08043215113756874,
          -0.02834850817893563,
          0.10410839674294978,
          0.009915793314729702,
          0.06318992917538356,
          0.037790039095829744,
          0.017507784865764844,
          0.06375257143140078,
          0.009251505589294698,
          0.059280111598969315,
          0.006471545649825608,
          0.019355991813851923,
          0.03316489186485565,
          0.02921404603650491,
          0.02661303018195721,
          -0.010469129188198556,
          -0.0071505544694418265,
          -0.018500377818719715,
          -0.054415798652627356,
          -0.06040411403769288,
          -0.0796856203748587,
          -0.023179431135925285,
          0.06934284667633546,
          -0.0390994333908937,
          0.055672417751747805,
          -0.026343075885398397,
          0.08125455662920673,
          -0.017942431347748384,
          0.04392718859513263,
          -0.009001208690606536,
          0.05844829784545741,
          -0.03753111525613789,
          -0.055230427163633244,
          0.016048261380847268,
          0.030615320723587892,
          -0.008338207630742682,
          0.021320464333106998,
          -0.009975664008369219,
          0.02197360071542239,
          -0.03663497751376205,
          -0.0270583484388423,
          -0.019468473327370804,
          0.07186505430714382,
          0.037058511128969546,
          0.10396354291232023,
          0.055803673937344464,
          0.03927316836456156,
          0.06476372620593751,
          -0.10869862022151817,
          -0.03211024934325364,
          -0.035165181003061506,
          -0.030476138249464373,
          -0.00965127862418283,
          -0.06276282912995658,
          0.021572232502423495,
          0.029163534426970956,
          -0.05308820271432486,
          -0.06967164928573198,
          0.0655465378711191,
          0.09913358237922577,
          -0.0190708381306699,
          -0.02486118907393854,
          0.038766694724357405,
          0.0980175217316311,
          0.011304100743335387,
          0.0035665882016786676,
          0.05618318697175215,
          -0.04020079230425613,
          -0.0014555274748297806,
          0.0049755436633017085,
          -0.09572617582062751,
          0.034080090354274714,
          0.06438507370851923,
          0.030029092824477552,
          0.04541423127562546,
          0.05274071984311312,
          0.017494845001373285,
          0.01619376420461787,
          0.06626473527779925,
          -0.06988681350236732,
          0.017896295933448988,
          -0.04892359791405275,
          -0.0026935180266193983,
          0.08381952028544538,
          -0.03442031654317501,
          -0.06790102788209702,
          0.03710772138874823,
          -0.023556525320784196,
          0.020223626773094,
          -0.014709379880504758,
          0.010502152516683858,
          -0.05317463316944061,
          -0.06456250439595586,
          0.07764327454397582,
          0.04512237783655186,
          0.030586274119736426,
          -0.014245358243048055,
          -0.03246902034271617,
          -0.016516859903353935,
          -0.12614787858110157,
          -0.07746646073976327,
          0.04767165980831222,
          -0.058498780350237624,
          -0.10120372521430121,
          -0.09998747356893431,
          0.0704626944035985,
          -0.03831882965135719,
          -0.04660340766400642,
          -0.014098356627105952,
          -0.021721941347625146,
          -0.03304223725683544,
          -0.000970065286309068,
          0.08487767448278709,
          -0.059783090408845656,
          -0.02761281548579583,
          0.009903610918177198,
          0.04100341417222021,
          0.0019771887148017846,
          0.0016034270291573314,
          0.061826665688947666,
          -0.011342119975185973,
          -0.0547064147908659,
          0.016158240711684667,
          -0.08894030810027642,
          0.05551662562924123,
          0.055808161793965916,
          -0.018702945912721695,
          0.0752302765334215,
          0.0370073475852522,
          -0.05856295963021704,
          0.06636984927687828,
          0.030735782850189394,
          0.02598075719346177,
          -0.05567284792476273,
          0.05455404417929358,
          0.032581015271217754,
          -0.01970585765126416,
          -0.0378726141249202,
          0.01698370745138115,
          -0.0756728825480571,
          -0.03247227684622883,
          -0.000389578881006224,
          -0.1312573582863583,
          0.014326673795448186,
          -0.020558004572023277,
          0.08041091849652215,
          0.05351853245928394,
          -0.012434356303323048,
          0.09093035716875429,
          -0.03754047590296411,
          -0.014565813655098786,
          0.037641095492690554,
          0.013454537787582117,
          -0.045130533092997215,
          -0.045322885877175284,
          -0.00461091823283236,
          0.04879270057085968,
          -0.07622568809717567,
          -0.04593772355547332,
          -0.06383125307473046,
          0.017334980752787117,
          -0.08891915699928334,
          0.04548172148025214,
          0.06839642040011795,
          0.021727555212310606,
          -0.024542204602407615,
          -0.06782193549015006,
          0.0003610101284600973,
          0.028670663930011404,
          0.03263332653480394,
          0.03373095007929534,
          -0.1221952246460931,
          0.009858555342263133,
          -0.00855395357580706,
          0.003659471812567553
         ],
         "y": [
          1,
          1,
          1,
          1,
          1,
          1,
          1,
          1,
          1,
          1,
          1,
          1,
          1,
          1,
          1,
          1,
          1,
          1,
          1,
          1,
          1,
          1,
          1,
          1,
          1,
          1,
          1,
          1,
          1,
          1,
          1,
          1,
          1,
          1,
          1,
          1,
          1,
          1,
          1,
          1,
          1,
          1,
          1,
          1,
          1,
          1,
          1,
          1,
          1,
          1,
          1,
          1,
          1,
          1,
          1,
          1,
          1,
          1,
          1,
          1,
          1,
          1,
          1,
          1,
          1,
          1,
          1,
          1,
          1,
          1,
          1,
          1,
          1,
          1,
          1,
          1,
          1,
          1,
          1,
          1,
          1,
          1,
          1,
          1,
          1,
          1,
          1,
          1,
          1,
          1,
          1,
          1,
          1,
          1,
          1,
          1,
          1,
          1,
          1,
          1,
          1,
          1,
          1,
          1,
          1,
          1,
          1,
          1,
          1,
          1,
          1,
          1,
          1,
          1,
          1,
          1,
          1,
          1,
          1,
          1,
          1,
          1,
          1,
          1,
          1,
          1,
          1,
          1,
          1,
          1,
          1,
          1,
          1,
          1,
          1,
          1,
          1,
          1,
          1,
          1,
          1,
          1,
          1,
          1,
          1,
          1,
          1,
          1,
          1,
          1,
          1,
          1,
          1,
          1,
          1,
          1,
          1,
          1,
          1,
          1,
          1,
          1,
          1,
          1,
          1,
          1,
          1,
          1,
          1,
          1,
          1,
          1,
          1,
          1,
          1,
          1,
          1,
          1,
          1,
          1,
          1,
          1,
          1,
          1,
          1,
          1,
          1,
          1,
          1,
          1,
          1,
          1,
          1,
          1,
          1,
          1,
          1,
          1,
          1,
          1,
          1,
          1,
          1,
          1,
          1,
          1,
          1,
          1,
          1,
          1,
          1,
          1,
          1,
          1,
          1
         ]
        },
        {
         "hovertemplate": "<b>%{text}</b><br>Cosine Similarity: %{x:.3f}<extra></extra>",
         "marker": {
          "color": [
           "blue",
           "red",
           "blue",
           "blue",
           "red",
           "red",
           "red",
           "blue",
           "red",
           "red",
           "blue",
           "blue",
           "red",
           "blue",
           "red",
           "red",
           "blue",
           "blue",
           "red",
           "blue"
          ],
          "opacity": 0.9,
          "size": 8
         },
         "mode": "markers",
         "showlegend": false,
         "text": [
          "confrontational",
          "cryptic",
          "curious",
          "educational",
          "enigmatic",
          "ethereal",
          "fatalistic",
          "generous",
          "meditative",
          "naive",
          "proactive",
          "problem_solving",
          "romantic",
          "sassy",
          "serene",
          "spiritual",
          "strategic",
          "supportive",
          "understated",
          "urgent"
         ],
         "type": "scatter",
         "x": [
          0.11404164836835641,
          -0.15753747961211156,
          0.12182020981397682,
          0.129021975937931,
          -0.16381501116686192,
          -0.15828392107219624,
          -0.15294516870169675,
          0.14034462440499842,
          -0.19061838300059156,
          -0.15222194443828582,
          0.14317424723734637,
          0.1762007850208109,
          -0.13959584184124002,
          0.11212310308371096,
          -0.22148594213445683,
          -0.14162655920083955,
          0.13394329493635543,
          0.14684339487782982,
          -0.13691350337518604,
          0.1095028151320548
         ],
         "y": [
          1,
          1,
          1,
          1,
          1,
          1,
          1,
          1,
          1,
          1,
          1,
          1,
          1,
          1,
          1,
          1,
          1,
          1,
          1,
          1
         ]
        },
        {
         "hoverinfo": "skip",
         "line": {
          "color": "red",
          "width": 1
         },
         "mode": "lines",
         "showlegend": false,
         "type": "scatter",
         "x": [
          -0.22148594213445683,
          -0.22148594213445683
         ],
         "y": [
          1,
          1.6
         ]
        },
        {
         "hoverinfo": "skip",
         "line": {
          "color": "red",
          "width": 1
         },
         "mode": "lines",
         "showlegend": false,
         "type": "scatter",
         "x": [
          -0.19061838300059156,
          -0.19061838300059156
         ],
         "y": [
          1,
          0.4
         ]
        },
        {
         "hoverinfo": "skip",
         "line": {
          "color": "red",
          "width": 1
         },
         "mode": "lines",
         "showlegend": false,
         "type": "scatter",
         "x": [
          -0.16381501116686192,
          -0.16381501116686192
         ],
         "y": [
          1,
          1.45
         ]
        },
        {
         "hoverinfo": "skip",
         "line": {
          "color": "red",
          "width": 1
         },
         "mode": "lines",
         "showlegend": false,
         "type": "scatter",
         "x": [
          -0.15828392107219624,
          -0.15828392107219624
         ],
         "y": [
          1,
          0.55
         ]
        },
        {
         "hoverinfo": "skip",
         "line": {
          "color": "red",
          "width": 1
         },
         "mode": "lines",
         "showlegend": false,
         "type": "scatter",
         "x": [
          -0.15753747961211156,
          -0.15753747961211156
         ],
         "y": [
          1,
          1.55
         ]
        },
        {
         "hoverinfo": "skip",
         "line": {
          "color": "red",
          "width": 1
         },
         "mode": "lines",
         "showlegend": false,
         "type": "scatter",
         "x": [
          -0.15294516870169675,
          -0.15294516870169675
         ],
         "y": [
          1,
          0.45
         ]
        },
        {
         "hoverinfo": "skip",
         "line": {
          "color": "red",
          "width": 1
         },
         "mode": "lines",
         "showlegend": false,
         "type": "scatter",
         "x": [
          -0.15222194443828582,
          -0.15222194443828582
         ],
         "y": [
          1,
          1.35
         ]
        },
        {
         "hoverinfo": "skip",
         "line": {
          "color": "red",
          "width": 1
         },
         "mode": "lines",
         "showlegend": false,
         "type": "scatter",
         "x": [
          -0.14162655920083955,
          -0.14162655920083955
         ],
         "y": [
          1,
          0.65
         ]
        },
        {
         "hoverinfo": "skip",
         "line": {
          "color": "red",
          "width": 1
         },
         "mode": "lines",
         "showlegend": false,
         "type": "scatter",
         "x": [
          -0.13959584184124002,
          -0.13959584184124002
         ],
         "y": [
          1,
          1.5
         ]
        },
        {
         "hoverinfo": "skip",
         "line": {
          "color": "red",
          "width": 1
         },
         "mode": "lines",
         "showlegend": false,
         "type": "scatter",
         "x": [
          -0.13691350337518604,
          -0.13691350337518604
         ],
         "y": [
          1,
          0.5
         ]
        },
        {
         "hoverinfo": "skip",
         "line": {
          "color": "blue",
          "width": 1
         },
         "mode": "lines",
         "showlegend": false,
         "type": "scatter",
         "x": [
          0.1095028151320548,
          0.1095028151320548
         ],
         "y": [
          1,
          1.4
         ]
        },
        {
         "hoverinfo": "skip",
         "line": {
          "color": "blue",
          "width": 1
         },
         "mode": "lines",
         "showlegend": false,
         "type": "scatter",
         "x": [
          0.11212310308371096,
          0.11212310308371096
         ],
         "y": [
          1,
          0.6
         ]
        },
        {
         "hoverinfo": "skip",
         "line": {
          "color": "blue",
          "width": 1
         },
         "mode": "lines",
         "showlegend": false,
         "type": "scatter",
         "x": [
          0.11404164836835641,
          0.11404164836835641
         ],
         "y": [
          1,
          1.65
         ]
        },
        {
         "hoverinfo": "skip",
         "line": {
          "color": "blue",
          "width": 1
         },
         "mode": "lines",
         "showlegend": false,
         "type": "scatter",
         "x": [
          0.12182020981397682,
          0.12182020981397682
         ],
         "y": [
          1,
          0.35
         ]
        },
        {
         "hoverinfo": "skip",
         "line": {
          "color": "blue",
          "width": 1
         },
         "mode": "lines",
         "showlegend": false,
         "type": "scatter",
         "x": [
          0.129021975937931,
          0.129021975937931
         ],
         "y": [
          1,
          1.3
         ]
        },
        {
         "hoverinfo": "skip",
         "line": {
          "color": "blue",
          "width": 1
         },
         "mode": "lines",
         "showlegend": false,
         "type": "scatter",
         "x": [
          0.13394329493635543,
          0.13394329493635543
         ],
         "y": [
          1,
          0.7
         ]
        },
        {
         "hoverinfo": "skip",
         "line": {
          "color": "blue",
          "width": 1
         },
         "mode": "lines",
         "showlegend": false,
         "type": "scatter",
         "x": [
          0.14034462440499842,
          0.14034462440499842
         ],
         "y": [
          1,
          1.58
         ]
        },
        {
         "hoverinfo": "skip",
         "line": {
          "color": "blue",
          "width": 1
         },
         "mode": "lines",
         "showlegend": false,
         "type": "scatter",
         "x": [
          0.14317424723734637,
          0.14317424723734637
         ],
         "y": [
          1,
          0.42
         ]
        },
        {
         "hoverinfo": "skip",
         "line": {
          "color": "blue",
          "width": 1
         },
         "mode": "lines",
         "showlegend": false,
         "type": "scatter",
         "x": [
          0.14684339487782982,
          0.14684339487782982
         ],
         "y": [
          1,
          1.42
         ]
        },
        {
         "hoverinfo": "skip",
         "line": {
          "color": "blue",
          "width": 1
         },
         "mode": "lines",
         "showlegend": false,
         "type": "scatter",
         "x": [
          0.1762007850208109,
          0.1762007850208109
         ],
         "y": [
          1,
          0.58
         ]
        }
       ],
       "layout": {
        "annotations": [
         {
          "bgcolor": "rgba(255, 255, 255, 0.9)",
          "bordercolor": "red",
          "borderwidth": 1,
          "font": {
           "color": "red",
           "size": 10
          },
          "showarrow": false,
          "text": "serene",
          "x": -0.22148594213445683,
          "y": 1.6
         },
         {
          "bgcolor": "rgba(255, 255, 255, 0.9)",
          "bordercolor": "red",
          "borderwidth": 1,
          "font": {
           "color": "red",
           "size": 10
          },
          "showarrow": false,
          "text": "meditative",
          "x": -0.19061838300059156,
          "y": 0.4
         },
         {
          "bgcolor": "rgba(255, 255, 255, 0.9)",
          "bordercolor": "red",
          "borderwidth": 1,
          "font": {
           "color": "red",
           "size": 10
          },
          "showarrow": false,
          "text": "enigmatic",
          "x": -0.16381501116686192,
          "y": 1.45
         },
         {
          "bgcolor": "rgba(255, 255, 255, 0.9)",
          "bordercolor": "red",
          "borderwidth": 1,
          "font": {
           "color": "red",
           "size": 10
          },
          "showarrow": false,
          "text": "ethereal",
          "x": -0.15828392107219624,
          "y": 0.55
         },
         {
          "bgcolor": "rgba(255, 255, 255, 0.9)",
          "bordercolor": "red",
          "borderwidth": 1,
          "font": {
           "color": "red",
           "size": 10
          },
          "showarrow": false,
          "text": "cryptic",
          "x": -0.15753747961211156,
          "y": 1.55
         },
         {
          "bgcolor": "rgba(255, 255, 255, 0.9)",
          "bordercolor": "red",
          "borderwidth": 1,
          "font": {
           "color": "red",
           "size": 10
          },
          "showarrow": false,
          "text": "fatalistic",
          "x": -0.15294516870169675,
          "y": 0.45
         },
         {
          "bgcolor": "rgba(255, 255, 255, 0.9)",
          "bordercolor": "red",
          "borderwidth": 1,
          "font": {
           "color": "red",
           "size": 10
          },
          "showarrow": false,
          "text": "naive",
          "x": -0.15222194443828582,
          "y": 1.35
         },
         {
          "bgcolor": "rgba(255, 255, 255, 0.9)",
          "bordercolor": "red",
          "borderwidth": 1,
          "font": {
           "color": "red",
           "size": 10
          },
          "showarrow": false,
          "text": "spiritual",
          "x": -0.14162655920083955,
          "y": 0.65
         },
         {
          "bgcolor": "rgba(255, 255, 255, 0.9)",
          "bordercolor": "red",
          "borderwidth": 1,
          "font": {
           "color": "red",
           "size": 10
          },
          "showarrow": false,
          "text": "romantic",
          "x": -0.13959584184124002,
          "y": 1.5
         },
         {
          "bgcolor": "rgba(255, 255, 255, 0.9)",
          "bordercolor": "red",
          "borderwidth": 1,
          "font": {
           "color": "red",
           "size": 10
          },
          "showarrow": false,
          "text": "understated",
          "x": -0.13691350337518604,
          "y": 0.5
         },
         {
          "bgcolor": "rgba(255, 255, 255, 0.9)",
          "bordercolor": "blue",
          "borderwidth": 1,
          "font": {
           "color": "blue",
           "size": 10
          },
          "showarrow": false,
          "text": "urgent",
          "x": 0.1095028151320548,
          "y": 1.4
         },
         {
          "bgcolor": "rgba(255, 255, 255, 0.9)",
          "bordercolor": "blue",
          "borderwidth": 1,
          "font": {
           "color": "blue",
           "size": 10
          },
          "showarrow": false,
          "text": "sassy",
          "x": 0.11212310308371096,
          "y": 0.6
         },
         {
          "bgcolor": "rgba(255, 255, 255, 0.9)",
          "bordercolor": "blue",
          "borderwidth": 1,
          "font": {
           "color": "blue",
           "size": 10
          },
          "showarrow": false,
          "text": "confrontational",
          "x": 0.11404164836835641,
          "y": 1.65
         },
         {
          "bgcolor": "rgba(255, 255, 255, 0.9)",
          "bordercolor": "blue",
          "borderwidth": 1,
          "font": {
           "color": "blue",
           "size": 10
          },
          "showarrow": false,
          "text": "curious",
          "x": 0.12182020981397682,
          "y": 0.35
         },
         {
          "bgcolor": "rgba(255, 255, 255, 0.9)",
          "bordercolor": "blue",
          "borderwidth": 1,
          "font": {
           "color": "blue",
           "size": 10
          },
          "showarrow": false,
          "text": "educational",
          "x": 0.129021975937931,
          "y": 1.3
         },
         {
          "bgcolor": "rgba(255, 255, 255, 0.9)",
          "bordercolor": "blue",
          "borderwidth": 1,
          "font": {
           "color": "blue",
           "size": 10
          },
          "showarrow": false,
          "text": "strategic",
          "x": 0.13394329493635543,
          "y": 0.7
         },
         {
          "bgcolor": "rgba(255, 255, 255, 0.9)",
          "bordercolor": "blue",
          "borderwidth": 1,
          "font": {
           "color": "blue",
           "size": 10
          },
          "showarrow": false,
          "text": "generous",
          "x": 0.14034462440499842,
          "y": 1.58
         },
         {
          "bgcolor": "rgba(255, 255, 255, 0.9)",
          "bordercolor": "blue",
          "borderwidth": 1,
          "font": {
           "color": "blue",
           "size": 10
          },
          "showarrow": false,
          "text": "proactive",
          "x": 0.14317424723734637,
          "y": 0.42
         },
         {
          "bgcolor": "rgba(255, 255, 255, 0.9)",
          "bordercolor": "blue",
          "borderwidth": 1,
          "font": {
           "color": "blue",
           "size": 10
          },
          "showarrow": false,
          "text": "supportive",
          "x": 0.14684339487782982,
          "y": 1.42
         },
         {
          "bgcolor": "rgba(255, 255, 255, 0.9)",
          "bordercolor": "blue",
          "borderwidth": 1,
          "font": {
           "color": "blue",
           "size": 10
          },
          "showarrow": false,
          "text": "problem_solving",
          "x": 0.1762007850208109,
          "y": 0.58
         },
         {
          "bgcolor": "rgba(255, 255, 255, 0.9)",
          "bordercolor": "black",
          "borderwidth": 1,
          "font": {
           "color": "black",
           "size": 10
          },
          "showarrow": false,
          "text": "Assistant",
          "x": 0.00649087200040987,
          "y": 1.6
         }
        ],
        "height": 500,
        "shapes": [
         {
          "line": {
           "color": "gray",
           "dash": "solid",
           "width": 1
          },
          "opacity": 0.7,
          "type": "line",
          "x0": 0,
          "x1": 0,
          "xref": "x",
          "y0": 0,
          "y1": 1,
          "yref": "y domain"
         },
         {
          "line": {
           "color": "black",
           "dash": "dash",
           "width": 1
          },
          "opacity": 1,
          "type": "line",
          "x0": 0.00649087200040987,
          "x1": 0.00649087200040987,
          "xref": "x",
          "y0": 0,
          "y1": 1,
          "yref": "y domain"
         }
        ],
        "showlegend": false,
        "template": {
         "data": {
          "bar": [
           {
            "error_x": {
             "color": "#2a3f5f"
            },
            "error_y": {
             "color": "#2a3f5f"
            },
            "marker": {
             "line": {
              "color": "#E5ECF6",
              "width": 0.5
             },
             "pattern": {
              "fillmode": "overlay",
              "size": 10,
              "solidity": 0.2
             }
            },
            "type": "bar"
           }
          ],
          "barpolar": [
           {
            "marker": {
             "line": {
              "color": "#E5ECF6",
              "width": 0.5
             },
             "pattern": {
              "fillmode": "overlay",
              "size": 10,
              "solidity": 0.2
             }
            },
            "type": "barpolar"
           }
          ],
          "carpet": [
           {
            "aaxis": {
             "endlinecolor": "#2a3f5f",
             "gridcolor": "white",
             "linecolor": "white",
             "minorgridcolor": "white",
             "startlinecolor": "#2a3f5f"
            },
            "baxis": {
             "endlinecolor": "#2a3f5f",
             "gridcolor": "white",
             "linecolor": "white",
             "minorgridcolor": "white",
             "startlinecolor": "#2a3f5f"
            },
            "type": "carpet"
           }
          ],
          "choropleth": [
           {
            "colorbar": {
             "outlinewidth": 0,
             "ticks": ""
            },
            "type": "choropleth"
           }
          ],
          "contour": [
           {
            "colorbar": {
             "outlinewidth": 0,
             "ticks": ""
            },
            "colorscale": [
             [
              0,
              "#0d0887"
             ],
             [
              0.1111111111111111,
              "#46039f"
             ],
             [
              0.2222222222222222,
              "#7201a8"
             ],
             [
              0.3333333333333333,
              "#9c179e"
             ],
             [
              0.4444444444444444,
              "#bd3786"
             ],
             [
              0.5555555555555556,
              "#d8576b"
             ],
             [
              0.6666666666666666,
              "#ed7953"
             ],
             [
              0.7777777777777778,
              "#fb9f3a"
             ],
             [
              0.8888888888888888,
              "#fdca26"
             ],
             [
              1,
              "#f0f921"
             ]
            ],
            "type": "contour"
           }
          ],
          "contourcarpet": [
           {
            "colorbar": {
             "outlinewidth": 0,
             "ticks": ""
            },
            "type": "contourcarpet"
           }
          ],
          "heatmap": [
           {
            "colorbar": {
             "outlinewidth": 0,
             "ticks": ""
            },
            "colorscale": [
             [
              0,
              "#0d0887"
             ],
             [
              0.1111111111111111,
              "#46039f"
             ],
             [
              0.2222222222222222,
              "#7201a8"
             ],
             [
              0.3333333333333333,
              "#9c179e"
             ],
             [
              0.4444444444444444,
              "#bd3786"
             ],
             [
              0.5555555555555556,
              "#d8576b"
             ],
             [
              0.6666666666666666,
              "#ed7953"
             ],
             [
              0.7777777777777778,
              "#fb9f3a"
             ],
             [
              0.8888888888888888,
              "#fdca26"
             ],
             [
              1,
              "#f0f921"
             ]
            ],
            "type": "heatmap"
           }
          ],
          "heatmapgl": [
           {
            "colorbar": {
             "outlinewidth": 0,
             "ticks": ""
            },
            "colorscale": [
             [
              0,
              "#0d0887"
             ],
             [
              0.1111111111111111,
              "#46039f"
             ],
             [
              0.2222222222222222,
              "#7201a8"
             ],
             [
              0.3333333333333333,
              "#9c179e"
             ],
             [
              0.4444444444444444,
              "#bd3786"
             ],
             [
              0.5555555555555556,
              "#d8576b"
             ],
             [
              0.6666666666666666,
              "#ed7953"
             ],
             [
              0.7777777777777778,
              "#fb9f3a"
             ],
             [
              0.8888888888888888,
              "#fdca26"
             ],
             [
              1,
              "#f0f921"
             ]
            ],
            "type": "heatmapgl"
           }
          ],
          "histogram": [
           {
            "marker": {
             "pattern": {
              "fillmode": "overlay",
              "size": 10,
              "solidity": 0.2
             }
            },
            "type": "histogram"
           }
          ],
          "histogram2d": [
           {
            "colorbar": {
             "outlinewidth": 0,
             "ticks": ""
            },
            "colorscale": [
             [
              0,
              "#0d0887"
             ],
             [
              0.1111111111111111,
              "#46039f"
             ],
             [
              0.2222222222222222,
              "#7201a8"
             ],
             [
              0.3333333333333333,
              "#9c179e"
             ],
             [
              0.4444444444444444,
              "#bd3786"
             ],
             [
              0.5555555555555556,
              "#d8576b"
             ],
             [
              0.6666666666666666,
              "#ed7953"
             ],
             [
              0.7777777777777778,
              "#fb9f3a"
             ],
             [
              0.8888888888888888,
              "#fdca26"
             ],
             [
              1,
              "#f0f921"
             ]
            ],
            "type": "histogram2d"
           }
          ],
          "histogram2dcontour": [
           {
            "colorbar": {
             "outlinewidth": 0,
             "ticks": ""
            },
            "colorscale": [
             [
              0,
              "#0d0887"
             ],
             [
              0.1111111111111111,
              "#46039f"
             ],
             [
              0.2222222222222222,
              "#7201a8"
             ],
             [
              0.3333333333333333,
              "#9c179e"
             ],
             [
              0.4444444444444444,
              "#bd3786"
             ],
             [
              0.5555555555555556,
              "#d8576b"
             ],
             [
              0.6666666666666666,
              "#ed7953"
             ],
             [
              0.7777777777777778,
              "#fb9f3a"
             ],
             [
              0.8888888888888888,
              "#fdca26"
             ],
             [
              1,
              "#f0f921"
             ]
            ],
            "type": "histogram2dcontour"
           }
          ],
          "mesh3d": [
           {
            "colorbar": {
             "outlinewidth": 0,
             "ticks": ""
            },
            "type": "mesh3d"
           }
          ],
          "parcoords": [
           {
            "line": {
             "colorbar": {
              "outlinewidth": 0,
              "ticks": ""
             }
            },
            "type": "parcoords"
           }
          ],
          "pie": [
           {
            "automargin": true,
            "type": "pie"
           }
          ],
          "scatter": [
           {
            "fillpattern": {
             "fillmode": "overlay",
             "size": 10,
             "solidity": 0.2
            },
            "type": "scatter"
           }
          ],
          "scatter3d": [
           {
            "line": {
             "colorbar": {
              "outlinewidth": 0,
              "ticks": ""
             }
            },
            "marker": {
             "colorbar": {
              "outlinewidth": 0,
              "ticks": ""
             }
            },
            "type": "scatter3d"
           }
          ],
          "scattercarpet": [
           {
            "marker": {
             "colorbar": {
              "outlinewidth": 0,
              "ticks": ""
             }
            },
            "type": "scattercarpet"
           }
          ],
          "scattergeo": [
           {
            "marker": {
             "colorbar": {
              "outlinewidth": 0,
              "ticks": ""
             }
            },
            "type": "scattergeo"
           }
          ],
          "scattergl": [
           {
            "marker": {
             "colorbar": {
              "outlinewidth": 0,
              "ticks": ""
             }
            },
            "type": "scattergl"
           }
          ],
          "scattermapbox": [
           {
            "marker": {
             "colorbar": {
              "outlinewidth": 0,
              "ticks": ""
             }
            },
            "type": "scattermapbox"
           }
          ],
          "scatterpolar": [
           {
            "marker": {
             "colorbar": {
              "outlinewidth": 0,
              "ticks": ""
             }
            },
            "type": "scatterpolar"
           }
          ],
          "scatterpolargl": [
           {
            "marker": {
             "colorbar": {
              "outlinewidth": 0,
              "ticks": ""
             }
            },
            "type": "scatterpolargl"
           }
          ],
          "scatterternary": [
           {
            "marker": {
             "colorbar": {
              "outlinewidth": 0,
              "ticks": ""
             }
            },
            "type": "scatterternary"
           }
          ],
          "surface": [
           {
            "colorbar": {
             "outlinewidth": 0,
             "ticks": ""
            },
            "colorscale": [
             [
              0,
              "#0d0887"
             ],
             [
              0.1111111111111111,
              "#46039f"
             ],
             [
              0.2222222222222222,
              "#7201a8"
             ],
             [
              0.3333333333333333,
              "#9c179e"
             ],
             [
              0.4444444444444444,
              "#bd3786"
             ],
             [
              0.5555555555555556,
              "#d8576b"
             ],
             [
              0.6666666666666666,
              "#ed7953"
             ],
             [
              0.7777777777777778,
              "#fb9f3a"
             ],
             [
              0.8888888888888888,
              "#fdca26"
             ],
             [
              1,
              "#f0f921"
             ]
            ],
            "type": "surface"
           }
          ],
          "table": [
           {
            "cells": {
             "fill": {
              "color": "#EBF0F8"
             },
             "line": {
              "color": "white"
             }
            },
            "header": {
             "fill": {
              "color": "#C8D4E3"
             },
             "line": {
              "color": "white"
             }
            },
            "type": "table"
           }
          ]
         },
         "layout": {
          "annotationdefaults": {
           "arrowcolor": "#2a3f5f",
           "arrowhead": 0,
           "arrowwidth": 1
          },
          "autotypenumbers": "strict",
          "coloraxis": {
           "colorbar": {
            "outlinewidth": 0,
            "ticks": ""
           }
          },
          "colorscale": {
           "diverging": [
            [
             0,
             "#8e0152"
            ],
            [
             0.1,
             "#c51b7d"
            ],
            [
             0.2,
             "#de77ae"
            ],
            [
             0.3,
             "#f1b6da"
            ],
            [
             0.4,
             "#fde0ef"
            ],
            [
             0.5,
             "#f7f7f7"
            ],
            [
             0.6,
             "#e6f5d0"
            ],
            [
             0.7,
             "#b8e186"
            ],
            [
             0.8,
             "#7fbc41"
            ],
            [
             0.9,
             "#4d9221"
            ],
            [
             1,
             "#276419"
            ]
           ],
           "sequential": [
            [
             0,
             "#0d0887"
            ],
            [
             0.1111111111111111,
             "#46039f"
            ],
            [
             0.2222222222222222,
             "#7201a8"
            ],
            [
             0.3333333333333333,
             "#9c179e"
            ],
            [
             0.4444444444444444,
             "#bd3786"
            ],
            [
             0.5555555555555556,
             "#d8576b"
            ],
            [
             0.6666666666666666,
             "#ed7953"
            ],
            [
             0.7777777777777778,
             "#fb9f3a"
            ],
            [
             0.8888888888888888,
             "#fdca26"
            ],
            [
             1,
             "#f0f921"
            ]
           ],
           "sequentialminus": [
            [
             0,
             "#0d0887"
            ],
            [
             0.1111111111111111,
             "#46039f"
            ],
            [
             0.2222222222222222,
             "#7201a8"
            ],
            [
             0.3333333333333333,
             "#9c179e"
            ],
            [
             0.4444444444444444,
             "#bd3786"
            ],
            [
             0.5555555555555556,
             "#d8576b"
            ],
            [
             0.6666666666666666,
             "#ed7953"
            ],
            [
             0.7777777777777778,
             "#fb9f3a"
            ],
            [
             0.8888888888888888,
             "#fdca26"
            ],
            [
             1,
             "#f0f921"
            ]
           ]
          },
          "colorway": [
           "#636efa",
           "#EF553B",
           "#00cc96",
           "#ab63fa",
           "#FFA15A",
           "#19d3f3",
           "#FF6692",
           "#B6E880",
           "#FF97FF",
           "#FECB52"
          ],
          "font": {
           "color": "#2a3f5f"
          },
          "geo": {
           "bgcolor": "white",
           "lakecolor": "white",
           "landcolor": "#E5ECF6",
           "showlakes": true,
           "showland": true,
           "subunitcolor": "white"
          },
          "hoverlabel": {
           "align": "left"
          },
          "hovermode": "closest",
          "mapbox": {
           "style": "light"
          },
          "paper_bgcolor": "white",
          "plot_bgcolor": "#E5ECF6",
          "polar": {
           "angularaxis": {
            "gridcolor": "white",
            "linecolor": "white",
            "ticks": ""
           },
           "bgcolor": "#E5ECF6",
           "radialaxis": {
            "gridcolor": "white",
            "linecolor": "white",
            "ticks": ""
           }
          },
          "scene": {
           "xaxis": {
            "backgroundcolor": "#E5ECF6",
            "gridcolor": "white",
            "gridwidth": 2,
            "linecolor": "white",
            "showbackground": true,
            "ticks": "",
            "zerolinecolor": "white"
           },
           "yaxis": {
            "backgroundcolor": "#E5ECF6",
            "gridcolor": "white",
            "gridwidth": 2,
            "linecolor": "white",
            "showbackground": true,
            "ticks": "",
            "zerolinecolor": "white"
           },
           "zaxis": {
            "backgroundcolor": "#E5ECF6",
            "gridcolor": "white",
            "gridwidth": 2,
            "linecolor": "white",
            "showbackground": true,
            "ticks": "",
            "zerolinecolor": "white"
           }
          },
          "shapedefaults": {
           "line": {
            "color": "#2a3f5f"
           }
          },
          "ternary": {
           "aaxis": {
            "gridcolor": "white",
            "linecolor": "white",
            "ticks": ""
           },
           "baxis": {
            "gridcolor": "white",
            "linecolor": "white",
            "ticks": ""
           },
           "bgcolor": "#E5ECF6",
           "caxis": {
            "gridcolor": "white",
            "linecolor": "white",
            "ticks": ""
           }
          },
          "title": {
           "x": 0.05
          },
          "xaxis": {
           "automargin": true,
           "gridcolor": "white",
           "linecolor": "white",
           "ticks": "",
           "title": {
            "standoff": 15
           },
           "zerolinecolor": "white",
           "zerolinewidth": 2
          },
          "yaxis": {
           "automargin": true,
           "gridcolor": "white",
           "linecolor": "white",
           "ticks": "",
           "title": {
            "standoff": 15
           },
           "zerolinecolor": "white",
           "zerolinewidth": 2
          }
         }
        },
        "title": {
         "font": {
          "size": 16
         },
         "subtitle": {
          "text": "Gemma 2 27B, Layer 34"
         },
         "text": "PC4 Cosine Similarity with Assistant",
         "x": 0.5
        },
        "xaxis": {
         "range": [
          -0.24363453634790252,
          0.24363453634790252
         ],
         "title": {
          "text": "PC4 Cosine Similarity"
         }
        },
        "yaxis": {
         "range": [
          0.25,
          1.75
         ],
         "showticklabels": false,
         "title": {
          "text": ""
         }
        }
       }
      },
      "text/html": [
       "<div>                            <div id=\"72a07393-68a7-4570-9459-887fc12d2c40\" class=\"plotly-graph-div\" style=\"height:500px; width:100%;\"></div>            <script type=\"text/javascript\">                require([\"plotly\"], function(Plotly) {                    window.PLOTLYENV=window.PLOTLYENV || {};                                    if (document.getElementById(\"72a07393-68a7-4570-9459-887fc12d2c40\")) {                    Plotly.newPlot(                        \"72a07393-68a7-4570-9459-887fc12d2c40\",                        [{\"hovertemplate\":\"\\u003cb\\u003e%{text}\\u003c\\u002fb\\u003e\\u003cbr\\u003eCosine Similarity: %{x:.3f}\\u003cextra\\u003e\\u003c\\u002fextra\\u003e\",\"marker\":{\"color\":[\"red\",\"blue\",\"red\",\"blue\",\"blue\",\"blue\",\"blue\",\"red\",\"red\",\"blue\",\"blue\",\"red\",\"blue\",\"red\",\"red\",\"red\",\"blue\",\"red\",\"blue\",\"red\",\"blue\",\"blue\",\"red\",\"blue\",\"red\",\"red\",\"blue\",\"blue\",\"blue\",\"blue\",\"blue\",\"red\",\"blue\",\"blue\",\"blue\",\"red\",\"blue\",\"red\",\"red\",\"red\",\"red\",\"red\",\"blue\",\"blue\",\"blue\",\"blue\",\"blue\",\"blue\",\"blue\",\"blue\",\"blue\",\"blue\",\"blue\",\"blue\",\"blue\",\"red\",\"red\",\"red\",\"red\",\"red\",\"red\",\"red\",\"blue\",\"red\",\"blue\",\"red\",\"blue\",\"red\",\"blue\",\"red\",\"blue\",\"red\",\"red\",\"blue\",\"blue\",\"red\",\"blue\",\"red\",\"blue\",\"red\",\"red\",\"red\",\"blue\",\"blue\",\"blue\",\"blue\",\"blue\",\"blue\",\"red\",\"red\",\"red\",\"red\",\"red\",\"red\",\"blue\",\"blue\",\"red\",\"red\",\"blue\",\"blue\",\"red\",\"red\",\"blue\",\"blue\",\"blue\",\"blue\",\"blue\",\"red\",\"red\",\"blue\",\"red\",\"blue\",\"blue\",\"blue\",\"blue\",\"blue\",\"blue\",\"blue\",\"blue\",\"red\",\"blue\",\"red\",\"red\",\"blue\",\"red\",\"red\",\"blue\",\"red\",\"blue\",\"red\",\"blue\",\"red\",\"red\",\"blue\",\"blue\",\"blue\",\"red\",\"red\",\"red\",\"red\",\"red\",\"blue\",\"red\",\"red\",\"red\",\"blue\",\"red\",\"red\",\"red\",\"red\",\"red\",\"red\",\"blue\",\"red\",\"red\",\"blue\",\"blue\",\"blue\",\"blue\",\"blue\",\"red\",\"red\",\"blue\",\"red\",\"blue\",\"blue\",\"red\",\"blue\",\"blue\",\"red\",\"blue\",\"blue\",\"blue\",\"red\",\"blue\",\"blue\",\"red\",\"red\",\"blue\",\"red\",\"red\",\"red\",\"red\",\"blue\",\"red\",\"blue\",\"blue\",\"red\",\"blue\",\"red\",\"red\",\"blue\",\"blue\",\"red\",\"red\",\"red\",\"blue\",\"red\",\"red\",\"red\",\"blue\",\"red\",\"blue\",\"blue\",\"blue\",\"red\",\"red\",\"blue\",\"blue\",\"blue\",\"blue\",\"red\",\"blue\",\"red\",\"blue\"],\"opacity\":0.7,\"size\":8},\"mode\":\"markers\",\"showlegend\":false,\"text\":[\"absolutist\",\"adaptable\",\"abstract\",\"accessible\",\"accommodating\",\"acerbic\",\"adventurous\",\"agreeable\",\"altruistic\",\"analytical\",\"animated\",\"anthropocentric\",\"anxious\",\"arrogant\",\"artistic\",\"ascetic\",\"assertive\",\"avoidant\",\"benevolent\",\"big_picture\",\"bitter\",\"blunt\",\"bombastic\",\"calculating\",\"callous\",\"calm\",\"casual\",\"cautious\",\"challenging\",\"chaotic\",\"charismatic\",\"chill\",\"circumspect\",\"closure_seeking\",\"collaborative\",\"collectivistic\",\"competitive\",\"conceptual\",\"conciliatory\",\"concise\",\"condescending\",\"confident\",\"conscientious\",\"constructivist\",\"contemporary\",\"contrarian\",\"convergent\",\"cosmopolitan\",\"creative\",\"critical\",\"cruel\",\"cynical\",\"data_driven\",\"decisive\",\"deconstructionist\",\"deontological\",\"descriptive\",\"detached\",\"deterministic\",\"diplomatic\",\"disorganized\",\"dispassionate\",\"divergent\",\"dogmatic\",\"dominant\",\"dramatic\",\"earnest\",\"eclectic\",\"edgy\",\"efficient\",\"effusive\",\"elitist\",\"eloquent\",\"emotional\",\"empathetic\",\"entertaining\",\"environmental\",\"epicurean\",\"erudite\",\"esoteric\",\"essentialist\",\"evil\",\"existentialist\",\"experiential\",\"exploratory\",\"extroverted\",\"factual\",\"flexible\",\"flippant\",\"flirty\",\"forgiving\",\"formal\",\"formalist\",\"fundamentalist\",\"futuristic\",\"generalist\",\"goofy\",\"grandiose\",\"gregarious\",\"grounded\",\"hedonistic\",\"historical\",\"holistic\",\"hostile\",\"humanistic\",\"humble\",\"iconoclastic\",\"idealistic\",\"impatient\",\"improvisational\",\"impulsive\",\"inclusive\",\"independent\",\"individualistic\",\"innovative\",\"inquisitive\",\"inspirational\",\"interdisciplinary\",\"introspective\",\"introverted\",\"intuitive\",\"ironic\",\"irreverent\",\"judgmental\",\"libertarian\",\"literal\",\"manic\",\"manipulative\",\"materialist\",\"melancholic\",\"melodramatic\",\"mercurial\",\"metaphorical\",\"methodical\",\"meticulous\",\"militant\",\"misanthropic\",\"mischievous\",\"moderate\",\"mystical\",\"narrative\",\"neurotic\",\"nihilistic\",\"nonchalant\",\"nostalgic\",\"nurturing\",\"obsessive\",\"open_ended\",\"optimistic\",\"pacifist\",\"paradoxical\",\"paranoid\",\"passionate\",\"passive_aggressive\",\"patient\",\"pedantic\",\"pensive\",\"perfectionist\",\"pessimistic\",\"petty\",\"philosophical\",\"playful\",\"pluralist\",\"poetic\",\"practical\",\"prescriptive\",\"principled\",\"progressive\",\"provocative\",\"qualitative\",\"quantitative\",\"radical\",\"rationalist\",\"reactive\",\"rebellious\",\"reductionist\",\"regulatory\",\"reserved\",\"resilient\",\"reverent\",\"rhetorical\",\"risk_taking\",\"ritualistic\",\"sarcastic\",\"sardonic\",\"savage\",\"secular\",\"serious\",\"skeptical\",\"socratic\",\"solemn\",\"specialized\",\"speculative\",\"spontaneous\",\"stoic\",\"stream_of_consciousness\",\"structuralist\",\"submissive\",\"subversive\",\"sycophantic\",\"systems_thinker\",\"tactful\",\"technical\",\"temperamental\",\"theatrical\",\"theoretical\",\"traditional\",\"universalist\",\"utilitarian\",\"verbose\",\"visceral\",\"whimsical\",\"witty\",\"wry\",\"zealous\"],\"x\":[-0.006948326162561841,0.05867639551738339,-0.02636735754607814,0.012474425584940753,0.018462274559123547,0.031956292116599574,0.022695339162310025,-0.053692887925949374,-0.013826271050870524,0.0751892408083824,0.08316964111601463,-0.018987608792439267,0.0297849745551841,-0.015888905994474893,-0.06749065679341845,-0.04638493770838487,0.039088051684062146,-0.05828503412675964,0.013418089136991895,-0.024619559046511717,0.041957765338323634,0.10012581627200942,-0.05262719869073653,0.03534681381842344,-0.03496682187020288,-0.0895116020625319,0.028844996834452196,0.048032520865041985,0.09241114709712799,0.024313191362417767,0.10642835734089055,-0.085306495052359,0.016820166348790952,0.014547273048185016,0.008502495299197397,-0.026751514623475112,0.04183919016332425,-0.03277085633036291,-0.010254822554512174,-0.06308652039814912,-0.08043215113756874,-0.02834850817893563,0.10410839674294978,0.009915793314729702,0.06318992917538356,0.037790039095829744,0.017507784865764844,0.06375257143140078,0.009251505589294698,0.059280111598969315,0.006471545649825608,0.019355991813851923,0.03316489186485565,0.02921404603650491,0.02661303018195721,-0.010469129188198556,-0.0071505544694418265,-0.018500377818719715,-0.054415798652627356,-0.06040411403769288,-0.0796856203748587,-0.023179431135925285,0.06934284667633546,-0.0390994333908937,0.055672417751747805,-0.026343075885398397,0.08125455662920673,-0.017942431347748384,0.04392718859513263,-0.009001208690606536,0.05844829784545741,-0.03753111525613789,-0.055230427163633244,0.016048261380847268,0.030615320723587892,-0.008338207630742682,0.021320464333106998,-0.009975664008369219,0.02197360071542239,-0.03663497751376205,-0.0270583484388423,-0.019468473327370804,0.07186505430714382,0.037058511128969546,0.10396354291232023,0.055803673937344464,0.03927316836456156,0.06476372620593751,-0.10869862022151817,-0.03211024934325364,-0.035165181003061506,-0.030476138249464373,-0.00965127862418283,-0.06276282912995658,0.021572232502423495,0.029163534426970956,-0.05308820271432486,-0.06967164928573198,0.0655465378711191,0.09913358237922577,-0.0190708381306699,-0.02486118907393854,0.038766694724357405,0.0980175217316311,0.011304100743335387,0.0035665882016786676,0.05618318697175215,-0.04020079230425613,-0.0014555274748297806,0.0049755436633017085,-0.09572617582062751,0.034080090354274714,0.06438507370851923,0.030029092824477552,0.04541423127562546,0.05274071984311312,0.017494845001373285,0.01619376420461787,0.06626473527779925,-0.06988681350236732,0.017896295933448988,-0.04892359791405275,-0.0026935180266193983,0.08381952028544538,-0.03442031654317501,-0.06790102788209702,0.03710772138874823,-0.023556525320784196,0.020223626773094,-0.014709379880504758,0.010502152516683858,-0.05317463316944061,-0.06456250439595586,0.07764327454397582,0.04512237783655186,0.030586274119736426,-0.014245358243048055,-0.03246902034271617,-0.016516859903353935,-0.12614787858110157,-0.07746646073976327,0.04767165980831222,-0.058498780350237624,-0.10120372521430121,-0.09998747356893431,0.0704626944035985,-0.03831882965135719,-0.04660340766400642,-0.014098356627105952,-0.021721941347625146,-0.03304223725683544,-0.000970065286309068,0.08487767448278709,-0.059783090408845656,-0.02761281548579583,0.009903610918177198,0.04100341417222021,0.0019771887148017846,0.0016034270291573314,0.061826665688947666,-0.011342119975185973,-0.0547064147908659,0.016158240711684667,-0.08894030810027642,0.05551662562924123,0.055808161793965916,-0.018702945912721695,0.0752302765334215,0.0370073475852522,-0.05856295963021704,0.06636984927687828,0.030735782850189394,0.02598075719346177,-0.05567284792476273,0.05455404417929358,0.032581015271217754,-0.01970585765126416,-0.0378726141249202,0.01698370745138115,-0.0756728825480571,-0.03247227684622883,-0.000389578881006224,-0.1312573582863583,0.014326673795448186,-0.020558004572023277,0.08041091849652215,0.05351853245928394,-0.012434356303323048,0.09093035716875429,-0.03754047590296411,-0.014565813655098786,0.037641095492690554,0.013454537787582117,-0.045130533092997215,-0.045322885877175284,-0.00461091823283236,0.04879270057085968,-0.07622568809717567,-0.04593772355547332,-0.06383125307473046,0.017334980752787117,-0.08891915699928334,0.04548172148025214,0.06839642040011795,0.021727555212310606,-0.024542204602407615,-0.06782193549015006,0.0003610101284600973,0.028670663930011404,0.03263332653480394,0.03373095007929534,-0.1221952246460931,0.009858555342263133,-0.00855395357580706,0.003659471812567553],\"y\":[1,1,1,1,1,1,1,1,1,1,1,1,1,1,1,1,1,1,1,1,1,1,1,1,1,1,1,1,1,1,1,1,1,1,1,1,1,1,1,1,1,1,1,1,1,1,1,1,1,1,1,1,1,1,1,1,1,1,1,1,1,1,1,1,1,1,1,1,1,1,1,1,1,1,1,1,1,1,1,1,1,1,1,1,1,1,1,1,1,1,1,1,1,1,1,1,1,1,1,1,1,1,1,1,1,1,1,1,1,1,1,1,1,1,1,1,1,1,1,1,1,1,1,1,1,1,1,1,1,1,1,1,1,1,1,1,1,1,1,1,1,1,1,1,1,1,1,1,1,1,1,1,1,1,1,1,1,1,1,1,1,1,1,1,1,1,1,1,1,1,1,1,1,1,1,1,1,1,1,1,1,1,1,1,1,1,1,1,1,1,1,1,1,1,1,1,1,1,1,1,1,1,1,1,1,1,1,1,1,1,1,1,1,1,1],\"type\":\"scatter\"},{\"hovertemplate\":\"\\u003cb\\u003e%{text}\\u003c\\u002fb\\u003e\\u003cbr\\u003eCosine Similarity: %{x:.3f}\\u003cextra\\u003e\\u003c\\u002fextra\\u003e\",\"marker\":{\"color\":[\"blue\",\"red\",\"blue\",\"blue\",\"red\",\"red\",\"red\",\"blue\",\"red\",\"red\",\"blue\",\"blue\",\"red\",\"blue\",\"red\",\"red\",\"blue\",\"blue\",\"red\",\"blue\"],\"opacity\":0.9,\"size\":8},\"mode\":\"markers\",\"showlegend\":false,\"text\":[\"confrontational\",\"cryptic\",\"curious\",\"educational\",\"enigmatic\",\"ethereal\",\"fatalistic\",\"generous\",\"meditative\",\"naive\",\"proactive\",\"problem_solving\",\"romantic\",\"sassy\",\"serene\",\"spiritual\",\"strategic\",\"supportive\",\"understated\",\"urgent\"],\"x\":[0.11404164836835641,-0.15753747961211156,0.12182020981397682,0.129021975937931,-0.16381501116686192,-0.15828392107219624,-0.15294516870169675,0.14034462440499842,-0.19061838300059156,-0.15222194443828582,0.14317424723734637,0.1762007850208109,-0.13959584184124002,0.11212310308371096,-0.22148594213445683,-0.14162655920083955,0.13394329493635543,0.14684339487782982,-0.13691350337518604,0.1095028151320548],\"y\":[1,1,1,1,1,1,1,1,1,1,1,1,1,1,1,1,1,1,1,1],\"type\":\"scatter\"},{\"hoverinfo\":\"skip\",\"line\":{\"color\":\"red\",\"width\":1},\"mode\":\"lines\",\"showlegend\":false,\"x\":[-0.22148594213445683,-0.22148594213445683],\"y\":[1.0,1.6],\"type\":\"scatter\"},{\"hoverinfo\":\"skip\",\"line\":{\"color\":\"red\",\"width\":1},\"mode\":\"lines\",\"showlegend\":false,\"x\":[-0.19061838300059156,-0.19061838300059156],\"y\":[1.0,0.4],\"type\":\"scatter\"},{\"hoverinfo\":\"skip\",\"line\":{\"color\":\"red\",\"width\":1},\"mode\":\"lines\",\"showlegend\":false,\"x\":[-0.16381501116686192,-0.16381501116686192],\"y\":[1.0,1.45],\"type\":\"scatter\"},{\"hoverinfo\":\"skip\",\"line\":{\"color\":\"red\",\"width\":1},\"mode\":\"lines\",\"showlegend\":false,\"x\":[-0.15828392107219624,-0.15828392107219624],\"y\":[1.0,0.55],\"type\":\"scatter\"},{\"hoverinfo\":\"skip\",\"line\":{\"color\":\"red\",\"width\":1},\"mode\":\"lines\",\"showlegend\":false,\"x\":[-0.15753747961211156,-0.15753747961211156],\"y\":[1.0,1.55],\"type\":\"scatter\"},{\"hoverinfo\":\"skip\",\"line\":{\"color\":\"red\",\"width\":1},\"mode\":\"lines\",\"showlegend\":false,\"x\":[-0.15294516870169675,-0.15294516870169675],\"y\":[1.0,0.45],\"type\":\"scatter\"},{\"hoverinfo\":\"skip\",\"line\":{\"color\":\"red\",\"width\":1},\"mode\":\"lines\",\"showlegend\":false,\"x\":[-0.15222194443828582,-0.15222194443828582],\"y\":[1.0,1.35],\"type\":\"scatter\"},{\"hoverinfo\":\"skip\",\"line\":{\"color\":\"red\",\"width\":1},\"mode\":\"lines\",\"showlegend\":false,\"x\":[-0.14162655920083955,-0.14162655920083955],\"y\":[1.0,0.65],\"type\":\"scatter\"},{\"hoverinfo\":\"skip\",\"line\":{\"color\":\"red\",\"width\":1},\"mode\":\"lines\",\"showlegend\":false,\"x\":[-0.13959584184124002,-0.13959584184124002],\"y\":[1.0,1.5],\"type\":\"scatter\"},{\"hoverinfo\":\"skip\",\"line\":{\"color\":\"red\",\"width\":1},\"mode\":\"lines\",\"showlegend\":false,\"x\":[-0.13691350337518604,-0.13691350337518604],\"y\":[1.0,0.5],\"type\":\"scatter\"},{\"hoverinfo\":\"skip\",\"line\":{\"color\":\"blue\",\"width\":1},\"mode\":\"lines\",\"showlegend\":false,\"x\":[0.1095028151320548,0.1095028151320548],\"y\":[1.0,1.4],\"type\":\"scatter\"},{\"hoverinfo\":\"skip\",\"line\":{\"color\":\"blue\",\"width\":1},\"mode\":\"lines\",\"showlegend\":false,\"x\":[0.11212310308371096,0.11212310308371096],\"y\":[1.0,0.6],\"type\":\"scatter\"},{\"hoverinfo\":\"skip\",\"line\":{\"color\":\"blue\",\"width\":1},\"mode\":\"lines\",\"showlegend\":false,\"x\":[0.11404164836835641,0.11404164836835641],\"y\":[1.0,1.65],\"type\":\"scatter\"},{\"hoverinfo\":\"skip\",\"line\":{\"color\":\"blue\",\"width\":1},\"mode\":\"lines\",\"showlegend\":false,\"x\":[0.12182020981397682,0.12182020981397682],\"y\":[1.0,0.35],\"type\":\"scatter\"},{\"hoverinfo\":\"skip\",\"line\":{\"color\":\"blue\",\"width\":1},\"mode\":\"lines\",\"showlegend\":false,\"x\":[0.129021975937931,0.129021975937931],\"y\":[1.0,1.3],\"type\":\"scatter\"},{\"hoverinfo\":\"skip\",\"line\":{\"color\":\"blue\",\"width\":1},\"mode\":\"lines\",\"showlegend\":false,\"x\":[0.13394329493635543,0.13394329493635543],\"y\":[1.0,0.7],\"type\":\"scatter\"},{\"hoverinfo\":\"skip\",\"line\":{\"color\":\"blue\",\"width\":1},\"mode\":\"lines\",\"showlegend\":false,\"x\":[0.14034462440499842,0.14034462440499842],\"y\":[1.0,1.58],\"type\":\"scatter\"},{\"hoverinfo\":\"skip\",\"line\":{\"color\":\"blue\",\"width\":1},\"mode\":\"lines\",\"showlegend\":false,\"x\":[0.14317424723734637,0.14317424723734637],\"y\":[1.0,0.42],\"type\":\"scatter\"},{\"hoverinfo\":\"skip\",\"line\":{\"color\":\"blue\",\"width\":1},\"mode\":\"lines\",\"showlegend\":false,\"x\":[0.14684339487782982,0.14684339487782982],\"y\":[1.0,1.42],\"type\":\"scatter\"},{\"hoverinfo\":\"skip\",\"line\":{\"color\":\"blue\",\"width\":1},\"mode\":\"lines\",\"showlegend\":false,\"x\":[0.1762007850208109,0.1762007850208109],\"y\":[1.0,0.58],\"type\":\"scatter\"}],                        {\"template\":{\"data\":{\"histogram2dcontour\":[{\"type\":\"histogram2dcontour\",\"colorbar\":{\"outlinewidth\":0,\"ticks\":\"\"},\"colorscale\":[[0.0,\"#0d0887\"],[0.1111111111111111,\"#46039f\"],[0.2222222222222222,\"#7201a8\"],[0.3333333333333333,\"#9c179e\"],[0.4444444444444444,\"#bd3786\"],[0.5555555555555556,\"#d8576b\"],[0.6666666666666666,\"#ed7953\"],[0.7777777777777778,\"#fb9f3a\"],[0.8888888888888888,\"#fdca26\"],[1.0,\"#f0f921\"]]}],\"choropleth\":[{\"type\":\"choropleth\",\"colorbar\":{\"outlinewidth\":0,\"ticks\":\"\"}}],\"histogram2d\":[{\"type\":\"histogram2d\",\"colorbar\":{\"outlinewidth\":0,\"ticks\":\"\"},\"colorscale\":[[0.0,\"#0d0887\"],[0.1111111111111111,\"#46039f\"],[0.2222222222222222,\"#7201a8\"],[0.3333333333333333,\"#9c179e\"],[0.4444444444444444,\"#bd3786\"],[0.5555555555555556,\"#d8576b\"],[0.6666666666666666,\"#ed7953\"],[0.7777777777777778,\"#fb9f3a\"],[0.8888888888888888,\"#fdca26\"],[1.0,\"#f0f921\"]]}],\"heatmap\":[{\"type\":\"heatmap\",\"colorbar\":{\"outlinewidth\":0,\"ticks\":\"\"},\"colorscale\":[[0.0,\"#0d0887\"],[0.1111111111111111,\"#46039f\"],[0.2222222222222222,\"#7201a8\"],[0.3333333333333333,\"#9c179e\"],[0.4444444444444444,\"#bd3786\"],[0.5555555555555556,\"#d8576b\"],[0.6666666666666666,\"#ed7953\"],[0.7777777777777778,\"#fb9f3a\"],[0.8888888888888888,\"#fdca26\"],[1.0,\"#f0f921\"]]}],\"heatmapgl\":[{\"type\":\"heatmapgl\",\"colorbar\":{\"outlinewidth\":0,\"ticks\":\"\"},\"colorscale\":[[0.0,\"#0d0887\"],[0.1111111111111111,\"#46039f\"],[0.2222222222222222,\"#7201a8\"],[0.3333333333333333,\"#9c179e\"],[0.4444444444444444,\"#bd3786\"],[0.5555555555555556,\"#d8576b\"],[0.6666666666666666,\"#ed7953\"],[0.7777777777777778,\"#fb9f3a\"],[0.8888888888888888,\"#fdca26\"],[1.0,\"#f0f921\"]]}],\"contourcarpet\":[{\"type\":\"contourcarpet\",\"colorbar\":{\"outlinewidth\":0,\"ticks\":\"\"}}],\"contour\":[{\"type\":\"contour\",\"colorbar\":{\"outlinewidth\":0,\"ticks\":\"\"},\"colorscale\":[[0.0,\"#0d0887\"],[0.1111111111111111,\"#46039f\"],[0.2222222222222222,\"#7201a8\"],[0.3333333333333333,\"#9c179e\"],[0.4444444444444444,\"#bd3786\"],[0.5555555555555556,\"#d8576b\"],[0.6666666666666666,\"#ed7953\"],[0.7777777777777778,\"#fb9f3a\"],[0.8888888888888888,\"#fdca26\"],[1.0,\"#f0f921\"]]}],\"surface\":[{\"type\":\"surface\",\"colorbar\":{\"outlinewidth\":0,\"ticks\":\"\"},\"colorscale\":[[0.0,\"#0d0887\"],[0.1111111111111111,\"#46039f\"],[0.2222222222222222,\"#7201a8\"],[0.3333333333333333,\"#9c179e\"],[0.4444444444444444,\"#bd3786\"],[0.5555555555555556,\"#d8576b\"],[0.6666666666666666,\"#ed7953\"],[0.7777777777777778,\"#fb9f3a\"],[0.8888888888888888,\"#fdca26\"],[1.0,\"#f0f921\"]]}],\"mesh3d\":[{\"type\":\"mesh3d\",\"colorbar\":{\"outlinewidth\":0,\"ticks\":\"\"}}],\"scatter\":[{\"fillpattern\":{\"fillmode\":\"overlay\",\"size\":10,\"solidity\":0.2},\"type\":\"scatter\"}],\"parcoords\":[{\"type\":\"parcoords\",\"line\":{\"colorbar\":{\"outlinewidth\":0,\"ticks\":\"\"}}}],\"scatterpolargl\":[{\"type\":\"scatterpolargl\",\"marker\":{\"colorbar\":{\"outlinewidth\":0,\"ticks\":\"\"}}}],\"bar\":[{\"error_x\":{\"color\":\"#2a3f5f\"},\"error_y\":{\"color\":\"#2a3f5f\"},\"marker\":{\"line\":{\"color\":\"#E5ECF6\",\"width\":0.5},\"pattern\":{\"fillmode\":\"overlay\",\"size\":10,\"solidity\":0.2}},\"type\":\"bar\"}],\"scattergeo\":[{\"type\":\"scattergeo\",\"marker\":{\"colorbar\":{\"outlinewidth\":0,\"ticks\":\"\"}}}],\"scatterpolar\":[{\"type\":\"scatterpolar\",\"marker\":{\"colorbar\":{\"outlinewidth\":0,\"ticks\":\"\"}}}],\"histogram\":[{\"marker\":{\"pattern\":{\"fillmode\":\"overlay\",\"size\":10,\"solidity\":0.2}},\"type\":\"histogram\"}],\"scattergl\":[{\"type\":\"scattergl\",\"marker\":{\"colorbar\":{\"outlinewidth\":0,\"ticks\":\"\"}}}],\"scatter3d\":[{\"type\":\"scatter3d\",\"line\":{\"colorbar\":{\"outlinewidth\":0,\"ticks\":\"\"}},\"marker\":{\"colorbar\":{\"outlinewidth\":0,\"ticks\":\"\"}}}],\"scattermapbox\":[{\"type\":\"scattermapbox\",\"marker\":{\"colorbar\":{\"outlinewidth\":0,\"ticks\":\"\"}}}],\"scatterternary\":[{\"type\":\"scatterternary\",\"marker\":{\"colorbar\":{\"outlinewidth\":0,\"ticks\":\"\"}}}],\"scattercarpet\":[{\"type\":\"scattercarpet\",\"marker\":{\"colorbar\":{\"outlinewidth\":0,\"ticks\":\"\"}}}],\"carpet\":[{\"aaxis\":{\"endlinecolor\":\"#2a3f5f\",\"gridcolor\":\"white\",\"linecolor\":\"white\",\"minorgridcolor\":\"white\",\"startlinecolor\":\"#2a3f5f\"},\"baxis\":{\"endlinecolor\":\"#2a3f5f\",\"gridcolor\":\"white\",\"linecolor\":\"white\",\"minorgridcolor\":\"white\",\"startlinecolor\":\"#2a3f5f\"},\"type\":\"carpet\"}],\"table\":[{\"cells\":{\"fill\":{\"color\":\"#EBF0F8\"},\"line\":{\"color\":\"white\"}},\"header\":{\"fill\":{\"color\":\"#C8D4E3\"},\"line\":{\"color\":\"white\"}},\"type\":\"table\"}],\"barpolar\":[{\"marker\":{\"line\":{\"color\":\"#E5ECF6\",\"width\":0.5},\"pattern\":{\"fillmode\":\"overlay\",\"size\":10,\"solidity\":0.2}},\"type\":\"barpolar\"}],\"pie\":[{\"automargin\":true,\"type\":\"pie\"}]},\"layout\":{\"autotypenumbers\":\"strict\",\"colorway\":[\"#636efa\",\"#EF553B\",\"#00cc96\",\"#ab63fa\",\"#FFA15A\",\"#19d3f3\",\"#FF6692\",\"#B6E880\",\"#FF97FF\",\"#FECB52\"],\"font\":{\"color\":\"#2a3f5f\"},\"hovermode\":\"closest\",\"hoverlabel\":{\"align\":\"left\"},\"paper_bgcolor\":\"white\",\"plot_bgcolor\":\"#E5ECF6\",\"polar\":{\"bgcolor\":\"#E5ECF6\",\"angularaxis\":{\"gridcolor\":\"white\",\"linecolor\":\"white\",\"ticks\":\"\"},\"radialaxis\":{\"gridcolor\":\"white\",\"linecolor\":\"white\",\"ticks\":\"\"}},\"ternary\":{\"bgcolor\":\"#E5ECF6\",\"aaxis\":{\"gridcolor\":\"white\",\"linecolor\":\"white\",\"ticks\":\"\"},\"baxis\":{\"gridcolor\":\"white\",\"linecolor\":\"white\",\"ticks\":\"\"},\"caxis\":{\"gridcolor\":\"white\",\"linecolor\":\"white\",\"ticks\":\"\"}},\"coloraxis\":{\"colorbar\":{\"outlinewidth\":0,\"ticks\":\"\"}},\"colorscale\":{\"sequential\":[[0.0,\"#0d0887\"],[0.1111111111111111,\"#46039f\"],[0.2222222222222222,\"#7201a8\"],[0.3333333333333333,\"#9c179e\"],[0.4444444444444444,\"#bd3786\"],[0.5555555555555556,\"#d8576b\"],[0.6666666666666666,\"#ed7953\"],[0.7777777777777778,\"#fb9f3a\"],[0.8888888888888888,\"#fdca26\"],[1.0,\"#f0f921\"]],\"sequentialminus\":[[0.0,\"#0d0887\"],[0.1111111111111111,\"#46039f\"],[0.2222222222222222,\"#7201a8\"],[0.3333333333333333,\"#9c179e\"],[0.4444444444444444,\"#bd3786\"],[0.5555555555555556,\"#d8576b\"],[0.6666666666666666,\"#ed7953\"],[0.7777777777777778,\"#fb9f3a\"],[0.8888888888888888,\"#fdca26\"],[1.0,\"#f0f921\"]],\"diverging\":[[0,\"#8e0152\"],[0.1,\"#c51b7d\"],[0.2,\"#de77ae\"],[0.3,\"#f1b6da\"],[0.4,\"#fde0ef\"],[0.5,\"#f7f7f7\"],[0.6,\"#e6f5d0\"],[0.7,\"#b8e186\"],[0.8,\"#7fbc41\"],[0.9,\"#4d9221\"],[1,\"#276419\"]]},\"xaxis\":{\"gridcolor\":\"white\",\"linecolor\":\"white\",\"ticks\":\"\",\"title\":{\"standoff\":15},\"zerolinecolor\":\"white\",\"automargin\":true,\"zerolinewidth\":2},\"yaxis\":{\"gridcolor\":\"white\",\"linecolor\":\"white\",\"ticks\":\"\",\"title\":{\"standoff\":15},\"zerolinecolor\":\"white\",\"automargin\":true,\"zerolinewidth\":2},\"scene\":{\"xaxis\":{\"backgroundcolor\":\"#E5ECF6\",\"gridcolor\":\"white\",\"linecolor\":\"white\",\"showbackground\":true,\"ticks\":\"\",\"zerolinecolor\":\"white\",\"gridwidth\":2},\"yaxis\":{\"backgroundcolor\":\"#E5ECF6\",\"gridcolor\":\"white\",\"linecolor\":\"white\",\"showbackground\":true,\"ticks\":\"\",\"zerolinecolor\":\"white\",\"gridwidth\":2},\"zaxis\":{\"backgroundcolor\":\"#E5ECF6\",\"gridcolor\":\"white\",\"linecolor\":\"white\",\"showbackground\":true,\"ticks\":\"\",\"zerolinecolor\":\"white\",\"gridwidth\":2}},\"shapedefaults\":{\"line\":{\"color\":\"#2a3f5f\"}},\"annotationdefaults\":{\"arrowcolor\":\"#2a3f5f\",\"arrowhead\":0,\"arrowwidth\":1},\"geo\":{\"bgcolor\":\"white\",\"landcolor\":\"#E5ECF6\",\"subunitcolor\":\"white\",\"showland\":true,\"showlakes\":true,\"lakecolor\":\"white\"},\"title\":{\"x\":0.05},\"mapbox\":{\"style\":\"light\"}}},\"annotations\":[{\"bgcolor\":\"rgba(255, 255, 255, 0.9)\",\"bordercolor\":\"red\",\"borderwidth\":1,\"font\":{\"color\":\"red\",\"size\":10},\"showarrow\":false,\"text\":\"serene\",\"x\":-0.22148594213445683,\"y\":1.6},{\"bgcolor\":\"rgba(255, 255, 255, 0.9)\",\"bordercolor\":\"red\",\"borderwidth\":1,\"font\":{\"color\":\"red\",\"size\":10},\"showarrow\":false,\"text\":\"meditative\",\"x\":-0.19061838300059156,\"y\":0.4},{\"bgcolor\":\"rgba(255, 255, 255, 0.9)\",\"bordercolor\":\"red\",\"borderwidth\":1,\"font\":{\"color\":\"red\",\"size\":10},\"showarrow\":false,\"text\":\"enigmatic\",\"x\":-0.16381501116686192,\"y\":1.45},{\"bgcolor\":\"rgba(255, 255, 255, 0.9)\",\"bordercolor\":\"red\",\"borderwidth\":1,\"font\":{\"color\":\"red\",\"size\":10},\"showarrow\":false,\"text\":\"ethereal\",\"x\":-0.15828392107219624,\"y\":0.55},{\"bgcolor\":\"rgba(255, 255, 255, 0.9)\",\"bordercolor\":\"red\",\"borderwidth\":1,\"font\":{\"color\":\"red\",\"size\":10},\"showarrow\":false,\"text\":\"cryptic\",\"x\":-0.15753747961211156,\"y\":1.55},{\"bgcolor\":\"rgba(255, 255, 255, 0.9)\",\"bordercolor\":\"red\",\"borderwidth\":1,\"font\":{\"color\":\"red\",\"size\":10},\"showarrow\":false,\"text\":\"fatalistic\",\"x\":-0.15294516870169675,\"y\":0.45},{\"bgcolor\":\"rgba(255, 255, 255, 0.9)\",\"bordercolor\":\"red\",\"borderwidth\":1,\"font\":{\"color\":\"red\",\"size\":10},\"showarrow\":false,\"text\":\"naive\",\"x\":-0.15222194443828582,\"y\":1.35},{\"bgcolor\":\"rgba(255, 255, 255, 0.9)\",\"bordercolor\":\"red\",\"borderwidth\":1,\"font\":{\"color\":\"red\",\"size\":10},\"showarrow\":false,\"text\":\"spiritual\",\"x\":-0.14162655920083955,\"y\":0.65},{\"bgcolor\":\"rgba(255, 255, 255, 0.9)\",\"bordercolor\":\"red\",\"borderwidth\":1,\"font\":{\"color\":\"red\",\"size\":10},\"showarrow\":false,\"text\":\"romantic\",\"x\":-0.13959584184124002,\"y\":1.5},{\"bgcolor\":\"rgba(255, 255, 255, 0.9)\",\"bordercolor\":\"red\",\"borderwidth\":1,\"font\":{\"color\":\"red\",\"size\":10},\"showarrow\":false,\"text\":\"understated\",\"x\":-0.13691350337518604,\"y\":0.5},{\"bgcolor\":\"rgba(255, 255, 255, 0.9)\",\"bordercolor\":\"blue\",\"borderwidth\":1,\"font\":{\"color\":\"blue\",\"size\":10},\"showarrow\":false,\"text\":\"urgent\",\"x\":0.1095028151320548,\"y\":1.4},{\"bgcolor\":\"rgba(255, 255, 255, 0.9)\",\"bordercolor\":\"blue\",\"borderwidth\":1,\"font\":{\"color\":\"blue\",\"size\":10},\"showarrow\":false,\"text\":\"sassy\",\"x\":0.11212310308371096,\"y\":0.6},{\"bgcolor\":\"rgba(255, 255, 255, 0.9)\",\"bordercolor\":\"blue\",\"borderwidth\":1,\"font\":{\"color\":\"blue\",\"size\":10},\"showarrow\":false,\"text\":\"confrontational\",\"x\":0.11404164836835641,\"y\":1.65},{\"bgcolor\":\"rgba(255, 255, 255, 0.9)\",\"bordercolor\":\"blue\",\"borderwidth\":1,\"font\":{\"color\":\"blue\",\"size\":10},\"showarrow\":false,\"text\":\"curious\",\"x\":0.12182020981397682,\"y\":0.35},{\"bgcolor\":\"rgba(255, 255, 255, 0.9)\",\"bordercolor\":\"blue\",\"borderwidth\":1,\"font\":{\"color\":\"blue\",\"size\":10},\"showarrow\":false,\"text\":\"educational\",\"x\":0.129021975937931,\"y\":1.3},{\"bgcolor\":\"rgba(255, 255, 255, 0.9)\",\"bordercolor\":\"blue\",\"borderwidth\":1,\"font\":{\"color\":\"blue\",\"size\":10},\"showarrow\":false,\"text\":\"strategic\",\"x\":0.13394329493635543,\"y\":0.7},{\"bgcolor\":\"rgba(255, 255, 255, 0.9)\",\"bordercolor\":\"blue\",\"borderwidth\":1,\"font\":{\"color\":\"blue\",\"size\":10},\"showarrow\":false,\"text\":\"generous\",\"x\":0.14034462440499842,\"y\":1.58},{\"bgcolor\":\"rgba(255, 255, 255, 0.9)\",\"bordercolor\":\"blue\",\"borderwidth\":1,\"font\":{\"color\":\"blue\",\"size\":10},\"showarrow\":false,\"text\":\"proactive\",\"x\":0.14317424723734637,\"y\":0.42},{\"bgcolor\":\"rgba(255, 255, 255, 0.9)\",\"bordercolor\":\"blue\",\"borderwidth\":1,\"font\":{\"color\":\"blue\",\"size\":10},\"showarrow\":false,\"text\":\"supportive\",\"x\":0.14684339487782982,\"y\":1.42},{\"bgcolor\":\"rgba(255, 255, 255, 0.9)\",\"bordercolor\":\"blue\",\"borderwidth\":1,\"font\":{\"color\":\"blue\",\"size\":10},\"showarrow\":false,\"text\":\"problem_solving\",\"x\":0.1762007850208109,\"y\":0.58},{\"bgcolor\":\"rgba(255, 255, 255, 0.9)\",\"bordercolor\":\"black\",\"borderwidth\":1,\"font\":{\"color\":\"black\",\"size\":10},\"showarrow\":false,\"text\":\"Assistant\",\"x\":0.00649087200040987,\"y\":1.6}],\"shapes\":[{\"line\":{\"color\":\"gray\",\"dash\":\"solid\",\"width\":1},\"opacity\":0.7,\"type\":\"line\",\"x0\":0,\"x1\":0,\"xref\":\"x\",\"y0\":0,\"y1\":1,\"yref\":\"y domain\"},{\"line\":{\"color\":\"black\",\"dash\":\"dash\",\"width\":1},\"opacity\":1.0,\"type\":\"line\",\"x0\":0.00649087200040987,\"x1\":0.00649087200040987,\"xref\":\"x\",\"y0\":0,\"y1\":1,\"yref\":\"y domain\"}],\"title\":{\"subtitle\":{\"text\":\"Gemma 2 27B, Layer 34\"},\"font\":{\"size\":16},\"text\":\"PC4 Cosine Similarity with Assistant\",\"x\":0.5},\"height\":500,\"showlegend\":false,\"xaxis\":{\"title\":{\"text\":\"PC4 Cosine Similarity\"},\"range\":[-0.24363453634790252,0.24363453634790252]},\"yaxis\":{\"title\":{\"text\":\"\"},\"showticklabels\":false,\"range\":[0.25,1.75]}},                        {\"responsive\": true}                    ).then(function(){\n",
       "                            \n",
       "var gd = document.getElementById('72a07393-68a7-4570-9459-887fc12d2c40');\n",
       "var x = new MutationObserver(function (mutations, observer) {{\n",
       "        var display = window.getComputedStyle(gd).display;\n",
       "        if (!display || display === 'none') {{\n",
       "            console.log([gd, 'removed!']);\n",
       "            Plotly.purge(gd);\n",
       "            observer.disconnect();\n",
       "        }}\n",
       "}});\n",
       "\n",
       "// Listen for the removal of the full notebook cells\n",
       "var notebookContainer = gd.closest('#notebook-container');\n",
       "if (notebookContainer) {{\n",
       "    x.observe(notebookContainer, {childList: true});\n",
       "}}\n",
       "\n",
       "// Listen for the clearing of the current output cell\n",
       "var outputEl = gd.closest('.output');\n",
       "if (outputEl) {{\n",
       "    x.observe(outputEl, {childList: true});\n",
       "}}\n",
       "\n",
       "                        })                };                });            </script>        </div>"
      ]
     },
     "metadata": {},
     "output_type": "display_data"
    },
    {
     "data": {
      "application/vnd.plotly.v1+json": {
       "config": {
        "plotlyServerURL": "https://plot.ly"
       },
       "data": [
        {
         "hovertemplate": "<b>%{text}</b><br>Cosine Similarity: %{x:.3f}<extra></extra>",
         "marker": {
          "color": [
           "red",
           "blue",
           "blue",
           "red",
           "red",
           "blue",
           "red",
           "blue",
           "red",
           "blue",
           "red",
           "red",
           "blue",
           "red",
           "red",
           "red",
           "red",
           "red",
           "red",
           "red",
           "red",
           "red",
           "blue",
           "blue",
           "blue",
           "blue",
           "blue",
           "blue",
           "blue",
           "red",
           "red",
           "blue",
           "red",
           "blue",
           "red",
           "red",
           "blue",
           "blue",
           "blue",
           "red",
           "red",
           "red",
           "blue",
           "blue",
           "blue",
           "red",
           "blue",
           "blue",
           "blue",
           "blue",
           "red",
           "blue",
           "blue",
           "blue",
           "blue",
           "red",
           "blue",
           "blue",
           "red",
           "blue",
           "blue",
           "blue",
           "red",
           "red",
           "blue",
           "blue",
           "blue",
           "red",
           "red",
           "red",
           "blue",
           "red",
           "red",
           "red",
           "blue",
           "red",
           "blue",
           "blue",
           "blue",
           "red",
           "red",
           "blue",
           "red",
           "red",
           "red",
           "red",
           "blue",
           "blue",
           "blue",
           "red",
           "red",
           "blue",
           "red",
           "red",
           "blue",
           "blue",
           "red",
           "blue",
           "red",
           "red",
           "red",
           "blue",
           "red",
           "red",
           "blue",
           "red",
           "red",
           "red",
           "blue",
           "blue",
           "red",
           "red",
           "red",
           "blue",
           "red",
           "red",
           "blue",
           "red",
           "red",
           "blue",
           "red",
           "red",
           "red",
           "blue",
           "red",
           "red",
           "red",
           "red",
           "red",
           "blue",
           "red",
           "red",
           "blue",
           "red",
           "blue",
           "blue",
           "red",
           "red",
           "red",
           "red",
           "blue",
           "red",
           "red",
           "red",
           "blue",
           "red",
           "red",
           "red",
           "red",
           "blue",
           "red",
           "blue",
           "blue",
           "blue",
           "red",
           "red",
           "blue",
           "blue",
           "blue",
           "red",
           "red",
           "red",
           "red",
           "blue",
           "blue",
           "red",
           "red",
           "red",
           "blue",
           "red",
           "blue",
           "red",
           "red",
           "red",
           "red",
           "red",
           "blue",
           "red",
           "red",
           "red",
           "red",
           "red",
           "blue",
           "blue",
           "blue",
           "red",
           "blue",
           "blue",
           "red",
           "blue",
           "blue",
           "blue",
           "blue",
           "red",
           "blue",
           "blue",
           "blue",
           "blue",
           "red",
           "blue",
           "red",
           "red",
           "blue",
           "blue",
           "blue",
           "blue",
           "blue",
           "blue",
           "blue",
           "blue",
           "red",
           "red",
           "blue",
           "blue",
           "blue"
          ],
          "opacity": 0.7,
          "size": 8
         },
         "mode": "markers",
         "showlegend": false,
         "text": [
          "absolutist",
          "adaptable",
          "abstract",
          "accessible",
          "accommodating",
          "acerbic",
          "adventurous",
          "agreeable",
          "altruistic",
          "analytical",
          "animated",
          "anthropocentric",
          "anxious",
          "arrogant",
          "artistic",
          "ascetic",
          "assertive",
          "avoidant",
          "benevolent",
          "big_picture",
          "bitter",
          "blunt",
          "bombastic",
          "calculating",
          "callous",
          "calm",
          "casual",
          "cautious",
          "challenging",
          "chaotic",
          "charismatic",
          "chill",
          "closure_seeking",
          "collaborative",
          "collectivistic",
          "competitive",
          "conceptual",
          "conciliatory",
          "condescending",
          "confident",
          "confrontational",
          "conscientious",
          "constructivist",
          "contemporary",
          "contrarian",
          "convergent",
          "cosmopolitan",
          "creative",
          "critical",
          "cruel",
          "cryptic",
          "curious",
          "cynical",
          "data_driven",
          "deconstructionist",
          "deontological",
          "descriptive",
          "detached",
          "deterministic",
          "diplomatic",
          "disorganized",
          "dispassionate",
          "dominant",
          "dramatic",
          "eclectic",
          "edgy",
          "educational",
          "efficient",
          "effusive",
          "elitist",
          "eloquent",
          "emotional",
          "empathetic",
          "enigmatic",
          "entertaining",
          "environmental",
          "epicurean",
          "erudite",
          "esoteric",
          "essentialist",
          "ethereal",
          "evil",
          "existentialist",
          "experiential",
          "extroverted",
          "factual",
          "fatalistic",
          "flexible",
          "flirty",
          "forgiving",
          "formal",
          "formalist",
          "fundamentalist",
          "futuristic",
          "generalist",
          "generous",
          "grandiose",
          "gregarious",
          "grounded",
          "hedonistic",
          "historical",
          "holistic",
          "hostile",
          "humanistic",
          "humble",
          "iconoclastic",
          "idealistic",
          "impatient",
          "improvisational",
          "inclusive",
          "independent",
          "individualistic",
          "innovative",
          "inquisitive",
          "inspirational",
          "interdisciplinary",
          "introspective",
          "introverted",
          "intuitive",
          "ironic",
          "judgmental",
          "libertarian",
          "literal",
          "manic",
          "manipulative",
          "materialist",
          "meditative",
          "melancholic",
          "melodramatic",
          "mercurial",
          "metaphorical",
          "methodical",
          "meticulous",
          "misanthropic",
          "mischievous",
          "moderate",
          "mystical",
          "naive",
          "narrative",
          "neurotic",
          "nihilistic",
          "nostalgic",
          "nurturing",
          "obsessive",
          "open_ended",
          "optimistic",
          "pacifist",
          "paradoxical",
          "paranoid",
          "passive_aggressive",
          "patient",
          "pedantic",
          "pensive",
          "perfectionist",
          "pessimistic",
          "petty",
          "philosophical",
          "playful",
          "pluralist",
          "poetic",
          "practical",
          "prescriptive",
          "principled",
          "proactive",
          "problem_solving",
          "progressive",
          "provocative",
          "qualitative",
          "quantitative",
          "radical",
          "rationalist",
          "reactive",
          "rebellious",
          "reductionist",
          "regulatory",
          "reserved",
          "resilient",
          "reverent",
          "rhetorical",
          "risk_taking",
          "ritualistic",
          "romantic",
          "sarcastic",
          "sardonic",
          "sassy",
          "savage",
          "secular",
          "serene",
          "serious",
          "skeptical",
          "socratic",
          "specialized",
          "speculative",
          "spiritual",
          "spontaneous",
          "stoic",
          "stream_of_consciousness",
          "structuralist",
          "submissive",
          "subversive",
          "supportive",
          "sycophantic",
          "systems_thinker",
          "tactful",
          "technical",
          "temperamental",
          "theatrical",
          "theoretical",
          "traditional",
          "understated",
          "universalist",
          "urgent",
          "utilitarian",
          "verbose",
          "whimsical"
         ],
         "type": "scatter",
         "x": [
          -0.04570896854633463,
          0.005830653001068883,
          0.008001803600680197,
          -0.05964369631192181,
          -0.009364515846596,
          0.08767565255312665,
          -0.04429988495836067,
          0.03880065492996563,
          -0.02806643044717345,
          0.06701919841601722,
          -0.027975109678598883,
          -0.019837011205342512,
          0.004022116369509171,
          -0.02547877113563708,
          -0.014318690538063752,
          -0.022023185600798294,
          -0.0919808605682068,
          -0.019677035253875704,
          -0.029018123274167577,
          -0.019981788711487973,
          -0.017600978849868398,
          -0.0811182018191322,
          0.012305522927795276,
          0.05543730780204862,
          0.08595598287538019,
          0.07723968080887247,
          0.009447448937924433,
          0.05138216499554068,
          0.03369554350509042,
          -0.01230676769609731,
          -0.017157472189936348,
          0.057211483040269746,
          -0.07696679012620967,
          0.03584627888320664,
          -0.00987756417406427,
          -0.04802526535847206,
          0.0030950417642545748,
          0.04857176996280205,
          0.0740459638025181,
          -0.10099525393632516,
          -0.09383130953786739,
          -0.10339728603388222,
          0.002225127731393833,
          0.005397263928670341,
          0.006918880705700119,
          -0.03186951742922274,
          0.009906903674776361,
          0.019911892522934318,
          0.0024528548016493996,
          0.0696806938676203,
          -0.004150405836729482,
          0.006770220691532005,
          0.0505510701859424,
          0.02988674131077956,
          0.02404304027944869,
          -0.030003823162269138,
          0.025108616081142194,
          0.09754150649425114,
          -0.007839562448733581,
          0.07003994612022658,
          0.0310619931010111,
          0.10287418146876834,
          -0.04060881867039596,
          -0.06631799732724888,
          0.011458721009198095,
          0.07637290246530166,
          0.08233992742124856,
          -0.08175124010591595,
          -0.029365378724084668,
          -0.021196424469365358,
          0.04999677847010543,
          -0.07665134581717635,
          -0.059866152871098775,
          -0.010821843938147483,
          0.09714505152904843,
          -0.03371464018077135,
          0.02494669240967725,
          0.059700270808548936,
          0.04297830198401635,
          -0.043608506194246874,
          -0.02910249041547419,
          0.02774804985436565,
          -0.04469452864150718,
          -0.03183024829490159,
          -0.023325811874465724,
          -0.006839247129247647,
          0.010426999305586023,
          0.007316966501292044,
          0.04280205220658977,
          -0.008258794299781318,
          -0.030206347203936394,
          0.016672170705009332,
          -0.08984870002680538,
          -0.02327250552707901,
          0.004274523881907197,
          0.09227693226002245,
          -0.03943611847536115,
          0.002618113713940951,
          -0.01116579329414304,
          -0.005422869891981132,
          -0.0055623408685089,
          0.04343704065190873,
          -0.02238210845443883,
          -0.012516461108508958,
          0.025238542488854616,
          -0.019652240192040513,
          -0.06325393988398333,
          -0.07775116762342896,
          0.0013700236340136202,
          0.005543390798906674,
          -0.030559059356019807,
          -0.00909980155798103,
          -0.04211467385330765,
          0.026448227044376747,
          -0.07837807842043101,
          -0.0024750583738131064,
          0.09730297600755361,
          -0.04300730941701902,
          -0.028990287073477315,
          0.12581391642210685,
          -0.05579943909297892,
          -0.04234765013830885,
          -0.1024641948551818,
          0.02286473366882683,
          -0.0323317005560172,
          -0.0064700434817952426,
          -0.002939917072116278,
          -0.02472597979707428,
          -0.011093605177090146,
          0.05063005309472627,
          -0.0014734086198405633,
          -0.02496775086974134,
          0.04589346141858268,
          -0.011350475877115808,
          0.1150336772501475,
          0.07288370052182574,
          -0.0648012088991098,
          -0.04790096365843564,
          -0.02436378841336563,
          -0.023038919738753733,
          0.04526229595314306,
          -0.021288977336608002,
          -0.019340739184042867,
          -0.013606532552894388,
          0.03473294351167666,
          -0.044596962456132434,
          -0.055009045163673366,
          -0.000497150119616237,
          -0.0659517361003854,
          0.1102385189702229,
          -0.03340499821076514,
          0.05625284662492182,
          0.0531628099230811,
          0.005259833510090139,
          -0.000042077122421615655,
          -0.007070122342575649,
          0.06553033273831897,
          0.0590292450235301,
          0.005881555669676929,
          -0.018138070915921685,
          -0.06331946572921196,
          -0.039768869529685745,
          -0.05199223248401532,
          0.11916170914601232,
          0.01872029360539024,
          -0.053162278262178904,
          -0.012762951626481276,
          -0.058652162008171985,
          0.041485743138727174,
          -0.08264455057319327,
          0.02559137166090282,
          -0.07080869812259542,
          -0.035889101461044036,
          -0.014182221813852541,
          -0.004161718791701615,
          -0.021466202966011698,
          0.004476213900267472,
          -0.06884025573074268,
          -0.06151349024563164,
          -0.055491229258055406,
          -0.002810568365157499,
          -0.08647956216252216,
          0.0905140754374468,
          0.12005412384967684,
          0.0761808284420729,
          -0.04793803887061084,
          0.002527524909069486,
          0.014437115543874971,
          -0.06908819218263261,
          0.047422522557791565,
          0.001392494022143797,
          0.03382031696557718,
          0.012633101590326363,
          -0.06661100750772196,
          0.0262687594232582,
          0.03428572076881573,
          0.028130239045877886,
          0.040786655632738,
          -0.02613254912143127,
          0.049000492848596554,
          -0.0035126561503158347,
          -0.046693868378399346,
          0.011054600222969273,
          0.041140563649834684,
          0.04314131027256387,
          0.01447786649941005,
          0.0010627752960244493,
          0.03233971947992119,
          0.016748156733110885,
          0.08470422737707838,
          -0.04188267364559926,
          -0.09375427004333992,
          0.02960322487127116,
          0.09036920337258741,
          0.08880524447475563
         ],
         "y": [
          1,
          1,
          1,
          1,
          1,
          1,
          1,
          1,
          1,
          1,
          1,
          1,
          1,
          1,
          1,
          1,
          1,
          1,
          1,
          1,
          1,
          1,
          1,
          1,
          1,
          1,
          1,
          1,
          1,
          1,
          1,
          1,
          1,
          1,
          1,
          1,
          1,
          1,
          1,
          1,
          1,
          1,
          1,
          1,
          1,
          1,
          1,
          1,
          1,
          1,
          1,
          1,
          1,
          1,
          1,
          1,
          1,
          1,
          1,
          1,
          1,
          1,
          1,
          1,
          1,
          1,
          1,
          1,
          1,
          1,
          1,
          1,
          1,
          1,
          1,
          1,
          1,
          1,
          1,
          1,
          1,
          1,
          1,
          1,
          1,
          1,
          1,
          1,
          1,
          1,
          1,
          1,
          1,
          1,
          1,
          1,
          1,
          1,
          1,
          1,
          1,
          1,
          1,
          1,
          1,
          1,
          1,
          1,
          1,
          1,
          1,
          1,
          1,
          1,
          1,
          1,
          1,
          1,
          1,
          1,
          1,
          1,
          1,
          1,
          1,
          1,
          1,
          1,
          1,
          1,
          1,
          1,
          1,
          1,
          1,
          1,
          1,
          1,
          1,
          1,
          1,
          1,
          1,
          1,
          1,
          1,
          1,
          1,
          1,
          1,
          1,
          1,
          1,
          1,
          1,
          1,
          1,
          1,
          1,
          1,
          1,
          1,
          1,
          1,
          1,
          1,
          1,
          1,
          1,
          1,
          1,
          1,
          1,
          1,
          1,
          1,
          1,
          1,
          1,
          1,
          1,
          1,
          1,
          1,
          1,
          1,
          1,
          1,
          1,
          1,
          1,
          1,
          1,
          1,
          1,
          1,
          1,
          1,
          1,
          1,
          1,
          1,
          1,
          1,
          1,
          1,
          1,
          1,
          1,
          1,
          1,
          1,
          1,
          1,
          1
         ]
        },
        {
         "hovertemplate": "<b>%{text}</b><br>Cosine Similarity: %{x:.3f}<extra></extra>",
         "marker": {
          "color": [
           "blue",
           "red",
           "red",
           "blue",
           "red",
           "red",
           "blue",
           "blue",
           "blue",
           "red",
           "blue",
           "red",
           "blue",
           "red",
           "red",
           "blue",
           "red",
           "blue",
           "blue",
           "red"
          ],
          "opacity": 0.9,
          "size": 8
         },
         "mode": "markers",
         "showlegend": false,
         "text": [
          "circumspect",
          "concise",
          "decisive",
          "divergent",
          "dogmatic",
          "earnest",
          "exploratory",
          "flippant",
          "goofy",
          "impulsive",
          "irreverent",
          "militant",
          "nonchalant",
          "passionate",
          "solemn",
          "strategic",
          "visceral",
          "witty",
          "wry",
          "zealous"
         ],
         "type": "scatter",
         "x": [
          0.16155961865559829,
          -0.14449081886990237,
          -0.13416956664907195,
          0.13920181609242124,
          -0.11821237067088053,
          -0.2556693855707817,
          0.14300538484154743,
          0.18483672183958338,
          0.13178561286028917,
          -0.15268813719770533,
          0.13589587431372097,
          -0.11668162913003849,
          0.13069617351817928,
          -0.1429358238345024,
          -0.14770668791716257,
          0.14125854092874687,
          -0.1281728178253491,
          0.1673378886277129,
          0.161839292529727,
          -0.15372878886075814
         ],
         "y": [
          1,
          1,
          1,
          1,
          1,
          1,
          1,
          1,
          1,
          1,
          1,
          1,
          1,
          1,
          1,
          1,
          1,
          1,
          1,
          1
         ]
        },
        {
         "hoverinfo": "skip",
         "line": {
          "color": "red",
          "width": 1
         },
         "mode": "lines",
         "showlegend": false,
         "type": "scatter",
         "x": [
          -0.2556693855707817,
          -0.2556693855707817
         ],
         "y": [
          1,
          1.6
         ]
        },
        {
         "hoverinfo": "skip",
         "line": {
          "color": "red",
          "width": 1
         },
         "mode": "lines",
         "showlegend": false,
         "type": "scatter",
         "x": [
          -0.15372878886075814,
          -0.15372878886075814
         ],
         "y": [
          1,
          0.4
         ]
        },
        {
         "hoverinfo": "skip",
         "line": {
          "color": "red",
          "width": 1
         },
         "mode": "lines",
         "showlegend": false,
         "type": "scatter",
         "x": [
          -0.15268813719770533,
          -0.15268813719770533
         ],
         "y": [
          1,
          1.45
         ]
        },
        {
         "hoverinfo": "skip",
         "line": {
          "color": "red",
          "width": 1
         },
         "mode": "lines",
         "showlegend": false,
         "type": "scatter",
         "x": [
          -0.14770668791716257,
          -0.14770668791716257
         ],
         "y": [
          1,
          0.55
         ]
        },
        {
         "hoverinfo": "skip",
         "line": {
          "color": "red",
          "width": 1
         },
         "mode": "lines",
         "showlegend": false,
         "type": "scatter",
         "x": [
          -0.14449081886990237,
          -0.14449081886990237
         ],
         "y": [
          1,
          1.55
         ]
        },
        {
         "hoverinfo": "skip",
         "line": {
          "color": "red",
          "width": 1
         },
         "mode": "lines",
         "showlegend": false,
         "type": "scatter",
         "x": [
          -0.1429358238345024,
          -0.1429358238345024
         ],
         "y": [
          1,
          0.45
         ]
        },
        {
         "hoverinfo": "skip",
         "line": {
          "color": "red",
          "width": 1
         },
         "mode": "lines",
         "showlegend": false,
         "type": "scatter",
         "x": [
          -0.13416956664907195,
          -0.13416956664907195
         ],
         "y": [
          1,
          1.35
         ]
        },
        {
         "hoverinfo": "skip",
         "line": {
          "color": "red",
          "width": 1
         },
         "mode": "lines",
         "showlegend": false,
         "type": "scatter",
         "x": [
          -0.1281728178253491,
          -0.1281728178253491
         ],
         "y": [
          1,
          0.65
         ]
        },
        {
         "hoverinfo": "skip",
         "line": {
          "color": "red",
          "width": 1
         },
         "mode": "lines",
         "showlegend": false,
         "type": "scatter",
         "x": [
          -0.11821237067088053,
          -0.11821237067088053
         ],
         "y": [
          1,
          1.5
         ]
        },
        {
         "hoverinfo": "skip",
         "line": {
          "color": "red",
          "width": 1
         },
         "mode": "lines",
         "showlegend": false,
         "type": "scatter",
         "x": [
          -0.11668162913003849,
          -0.11668162913003849
         ],
         "y": [
          1,
          0.5
         ]
        },
        {
         "hoverinfo": "skip",
         "line": {
          "color": "blue",
          "width": 1
         },
         "mode": "lines",
         "showlegend": false,
         "type": "scatter",
         "x": [
          0.13069617351817928,
          0.13069617351817928
         ],
         "y": [
          1,
          1.4
         ]
        },
        {
         "hoverinfo": "skip",
         "line": {
          "color": "blue",
          "width": 1
         },
         "mode": "lines",
         "showlegend": false,
         "type": "scatter",
         "x": [
          0.13178561286028917,
          0.13178561286028917
         ],
         "y": [
          1,
          0.6
         ]
        },
        {
         "hoverinfo": "skip",
         "line": {
          "color": "blue",
          "width": 1
         },
         "mode": "lines",
         "showlegend": false,
         "type": "scatter",
         "x": [
          0.13589587431372097,
          0.13589587431372097
         ],
         "y": [
          1,
          1.65
         ]
        },
        {
         "hoverinfo": "skip",
         "line": {
          "color": "blue",
          "width": 1
         },
         "mode": "lines",
         "showlegend": false,
         "type": "scatter",
         "x": [
          0.13920181609242124,
          0.13920181609242124
         ],
         "y": [
          1,
          0.35
         ]
        },
        {
         "hoverinfo": "skip",
         "line": {
          "color": "blue",
          "width": 1
         },
         "mode": "lines",
         "showlegend": false,
         "type": "scatter",
         "x": [
          0.14125854092874687,
          0.14125854092874687
         ],
         "y": [
          1,
          1.3
         ]
        },
        {
         "hoverinfo": "skip",
         "line": {
          "color": "blue",
          "width": 1
         },
         "mode": "lines",
         "showlegend": false,
         "type": "scatter",
         "x": [
          0.14300538484154743,
          0.14300538484154743
         ],
         "y": [
          1,
          0.7
         ]
        },
        {
         "hoverinfo": "skip",
         "line": {
          "color": "blue",
          "width": 1
         },
         "mode": "lines",
         "showlegend": false,
         "type": "scatter",
         "x": [
          0.16155961865559829,
          0.16155961865559829
         ],
         "y": [
          1,
          1.58
         ]
        },
        {
         "hoverinfo": "skip",
         "line": {
          "color": "blue",
          "width": 1
         },
         "mode": "lines",
         "showlegend": false,
         "type": "scatter",
         "x": [
          0.161839292529727,
          0.161839292529727
         ],
         "y": [
          1,
          0.42
         ]
        },
        {
         "hoverinfo": "skip",
         "line": {
          "color": "blue",
          "width": 1
         },
         "mode": "lines",
         "showlegend": false,
         "type": "scatter",
         "x": [
          0.1673378886277129,
          0.1673378886277129
         ],
         "y": [
          1,
          1.42
         ]
        },
        {
         "hoverinfo": "skip",
         "line": {
          "color": "blue",
          "width": 1
         },
         "mode": "lines",
         "showlegend": false,
         "type": "scatter",
         "x": [
          0.18483672183958338,
          0.18483672183958338
         ],
         "y": [
          1,
          0.58
         ]
        }
       ],
       "layout": {
        "annotations": [
         {
          "bgcolor": "rgba(255, 255, 255, 0.9)",
          "bordercolor": "red",
          "borderwidth": 1,
          "font": {
           "color": "red",
           "size": 10
          },
          "showarrow": false,
          "text": "earnest",
          "x": -0.2556693855707817,
          "y": 1.6
         },
         {
          "bgcolor": "rgba(255, 255, 255, 0.9)",
          "bordercolor": "red",
          "borderwidth": 1,
          "font": {
           "color": "red",
           "size": 10
          },
          "showarrow": false,
          "text": "zealous",
          "x": -0.15372878886075814,
          "y": 0.4
         },
         {
          "bgcolor": "rgba(255, 255, 255, 0.9)",
          "bordercolor": "red",
          "borderwidth": 1,
          "font": {
           "color": "red",
           "size": 10
          },
          "showarrow": false,
          "text": "impulsive",
          "x": -0.15268813719770533,
          "y": 1.45
         },
         {
          "bgcolor": "rgba(255, 255, 255, 0.9)",
          "bordercolor": "red",
          "borderwidth": 1,
          "font": {
           "color": "red",
           "size": 10
          },
          "showarrow": false,
          "text": "solemn",
          "x": -0.14770668791716257,
          "y": 0.55
         },
         {
          "bgcolor": "rgba(255, 255, 255, 0.9)",
          "bordercolor": "red",
          "borderwidth": 1,
          "font": {
           "color": "red",
           "size": 10
          },
          "showarrow": false,
          "text": "concise",
          "x": -0.14449081886990237,
          "y": 1.55
         },
         {
          "bgcolor": "rgba(255, 255, 255, 0.9)",
          "bordercolor": "red",
          "borderwidth": 1,
          "font": {
           "color": "red",
           "size": 10
          },
          "showarrow": false,
          "text": "passionate",
          "x": -0.1429358238345024,
          "y": 0.45
         },
         {
          "bgcolor": "rgba(255, 255, 255, 0.9)",
          "bordercolor": "red",
          "borderwidth": 1,
          "font": {
           "color": "red",
           "size": 10
          },
          "showarrow": false,
          "text": "decisive",
          "x": -0.13416956664907195,
          "y": 1.35
         },
         {
          "bgcolor": "rgba(255, 255, 255, 0.9)",
          "bordercolor": "red",
          "borderwidth": 1,
          "font": {
           "color": "red",
           "size": 10
          },
          "showarrow": false,
          "text": "visceral",
          "x": -0.1281728178253491,
          "y": 0.65
         },
         {
          "bgcolor": "rgba(255, 255, 255, 0.9)",
          "bordercolor": "red",
          "borderwidth": 1,
          "font": {
           "color": "red",
           "size": 10
          },
          "showarrow": false,
          "text": "dogmatic",
          "x": -0.11821237067088053,
          "y": 1.5
         },
         {
          "bgcolor": "rgba(255, 255, 255, 0.9)",
          "bordercolor": "red",
          "borderwidth": 1,
          "font": {
           "color": "red",
           "size": 10
          },
          "showarrow": false,
          "text": "militant",
          "x": -0.11668162913003849,
          "y": 0.5
         },
         {
          "bgcolor": "rgba(255, 255, 255, 0.9)",
          "bordercolor": "blue",
          "borderwidth": 1,
          "font": {
           "color": "blue",
           "size": 10
          },
          "showarrow": false,
          "text": "nonchalant",
          "x": 0.13069617351817928,
          "y": 1.4
         },
         {
          "bgcolor": "rgba(255, 255, 255, 0.9)",
          "bordercolor": "blue",
          "borderwidth": 1,
          "font": {
           "color": "blue",
           "size": 10
          },
          "showarrow": false,
          "text": "goofy",
          "x": 0.13178561286028917,
          "y": 0.6
         },
         {
          "bgcolor": "rgba(255, 255, 255, 0.9)",
          "bordercolor": "blue",
          "borderwidth": 1,
          "font": {
           "color": "blue",
           "size": 10
          },
          "showarrow": false,
          "text": "irreverent",
          "x": 0.13589587431372097,
          "y": 1.65
         },
         {
          "bgcolor": "rgba(255, 255, 255, 0.9)",
          "bordercolor": "blue",
          "borderwidth": 1,
          "font": {
           "color": "blue",
           "size": 10
          },
          "showarrow": false,
          "text": "divergent",
          "x": 0.13920181609242124,
          "y": 0.35
         },
         {
          "bgcolor": "rgba(255, 255, 255, 0.9)",
          "bordercolor": "blue",
          "borderwidth": 1,
          "font": {
           "color": "blue",
           "size": 10
          },
          "showarrow": false,
          "text": "strategic",
          "x": 0.14125854092874687,
          "y": 1.3
         },
         {
          "bgcolor": "rgba(255, 255, 255, 0.9)",
          "bordercolor": "blue",
          "borderwidth": 1,
          "font": {
           "color": "blue",
           "size": 10
          },
          "showarrow": false,
          "text": "exploratory",
          "x": 0.14300538484154743,
          "y": 0.7
         },
         {
          "bgcolor": "rgba(255, 255, 255, 0.9)",
          "bordercolor": "blue",
          "borderwidth": 1,
          "font": {
           "color": "blue",
           "size": 10
          },
          "showarrow": false,
          "text": "circumspect",
          "x": 0.16155961865559829,
          "y": 1.58
         },
         {
          "bgcolor": "rgba(255, 255, 255, 0.9)",
          "bordercolor": "blue",
          "borderwidth": 1,
          "font": {
           "color": "blue",
           "size": 10
          },
          "showarrow": false,
          "text": "wry",
          "x": 0.161839292529727,
          "y": 0.42
         },
         {
          "bgcolor": "rgba(255, 255, 255, 0.9)",
          "bordercolor": "blue",
          "borderwidth": 1,
          "font": {
           "color": "blue",
           "size": 10
          },
          "showarrow": false,
          "text": "witty",
          "x": 0.1673378886277129,
          "y": 1.42
         },
         {
          "bgcolor": "rgba(255, 255, 255, 0.9)",
          "bordercolor": "blue",
          "borderwidth": 1,
          "font": {
           "color": "blue",
           "size": 10
          },
          "showarrow": false,
          "text": "flippant",
          "x": 0.18483672183958338,
          "y": 0.58
         },
         {
          "bgcolor": "rgba(255, 255, 255, 0.9)",
          "bordercolor": "black",
          "borderwidth": 1,
          "font": {
           "color": "black",
           "size": 10
          },
          "showarrow": false,
          "text": "Assistant",
          "x": -0.009559680277435392,
          "y": 1.6
         }
        ],
        "height": 500,
        "shapes": [
         {
          "line": {
           "color": "gray",
           "dash": "solid",
           "width": 1
          },
          "opacity": 0.7,
          "type": "line",
          "x0": 0,
          "x1": 0,
          "xref": "x",
          "y0": 0,
          "y1": 1,
          "yref": "y domain"
         },
         {
          "line": {
           "color": "black",
           "dash": "dash",
           "width": 1
          },
          "opacity": 1,
          "type": "line",
          "x0": -0.009559680277435392,
          "x1": -0.009559680277435392,
          "xref": "x",
          "y0": 0,
          "y1": 1,
          "yref": "y domain"
         }
        ],
        "showlegend": false,
        "template": {
         "data": {
          "bar": [
           {
            "error_x": {
             "color": "#2a3f5f"
            },
            "error_y": {
             "color": "#2a3f5f"
            },
            "marker": {
             "line": {
              "color": "#E5ECF6",
              "width": 0.5
             },
             "pattern": {
              "fillmode": "overlay",
              "size": 10,
              "solidity": 0.2
             }
            },
            "type": "bar"
           }
          ],
          "barpolar": [
           {
            "marker": {
             "line": {
              "color": "#E5ECF6",
              "width": 0.5
             },
             "pattern": {
              "fillmode": "overlay",
              "size": 10,
              "solidity": 0.2
             }
            },
            "type": "barpolar"
           }
          ],
          "carpet": [
           {
            "aaxis": {
             "endlinecolor": "#2a3f5f",
             "gridcolor": "white",
             "linecolor": "white",
             "minorgridcolor": "white",
             "startlinecolor": "#2a3f5f"
            },
            "baxis": {
             "endlinecolor": "#2a3f5f",
             "gridcolor": "white",
             "linecolor": "white",
             "minorgridcolor": "white",
             "startlinecolor": "#2a3f5f"
            },
            "type": "carpet"
           }
          ],
          "choropleth": [
           {
            "colorbar": {
             "outlinewidth": 0,
             "ticks": ""
            },
            "type": "choropleth"
           }
          ],
          "contour": [
           {
            "colorbar": {
             "outlinewidth": 0,
             "ticks": ""
            },
            "colorscale": [
             [
              0,
              "#0d0887"
             ],
             [
              0.1111111111111111,
              "#46039f"
             ],
             [
              0.2222222222222222,
              "#7201a8"
             ],
             [
              0.3333333333333333,
              "#9c179e"
             ],
             [
              0.4444444444444444,
              "#bd3786"
             ],
             [
              0.5555555555555556,
              "#d8576b"
             ],
             [
              0.6666666666666666,
              "#ed7953"
             ],
             [
              0.7777777777777778,
              "#fb9f3a"
             ],
             [
              0.8888888888888888,
              "#fdca26"
             ],
             [
              1,
              "#f0f921"
             ]
            ],
            "type": "contour"
           }
          ],
          "contourcarpet": [
           {
            "colorbar": {
             "outlinewidth": 0,
             "ticks": ""
            },
            "type": "contourcarpet"
           }
          ],
          "heatmap": [
           {
            "colorbar": {
             "outlinewidth": 0,
             "ticks": ""
            },
            "colorscale": [
             [
              0,
              "#0d0887"
             ],
             [
              0.1111111111111111,
              "#46039f"
             ],
             [
              0.2222222222222222,
              "#7201a8"
             ],
             [
              0.3333333333333333,
              "#9c179e"
             ],
             [
              0.4444444444444444,
              "#bd3786"
             ],
             [
              0.5555555555555556,
              "#d8576b"
             ],
             [
              0.6666666666666666,
              "#ed7953"
             ],
             [
              0.7777777777777778,
              "#fb9f3a"
             ],
             [
              0.8888888888888888,
              "#fdca26"
             ],
             [
              1,
              "#f0f921"
             ]
            ],
            "type": "heatmap"
           }
          ],
          "heatmapgl": [
           {
            "colorbar": {
             "outlinewidth": 0,
             "ticks": ""
            },
            "colorscale": [
             [
              0,
              "#0d0887"
             ],
             [
              0.1111111111111111,
              "#46039f"
             ],
             [
              0.2222222222222222,
              "#7201a8"
             ],
             [
              0.3333333333333333,
              "#9c179e"
             ],
             [
              0.4444444444444444,
              "#bd3786"
             ],
             [
              0.5555555555555556,
              "#d8576b"
             ],
             [
              0.6666666666666666,
              "#ed7953"
             ],
             [
              0.7777777777777778,
              "#fb9f3a"
             ],
             [
              0.8888888888888888,
              "#fdca26"
             ],
             [
              1,
              "#f0f921"
             ]
            ],
            "type": "heatmapgl"
           }
          ],
          "histogram": [
           {
            "marker": {
             "pattern": {
              "fillmode": "overlay",
              "size": 10,
              "solidity": 0.2
             }
            },
            "type": "histogram"
           }
          ],
          "histogram2d": [
           {
            "colorbar": {
             "outlinewidth": 0,
             "ticks": ""
            },
            "colorscale": [
             [
              0,
              "#0d0887"
             ],
             [
              0.1111111111111111,
              "#46039f"
             ],
             [
              0.2222222222222222,
              "#7201a8"
             ],
             [
              0.3333333333333333,
              "#9c179e"
             ],
             [
              0.4444444444444444,
              "#bd3786"
             ],
             [
              0.5555555555555556,
              "#d8576b"
             ],
             [
              0.6666666666666666,
              "#ed7953"
             ],
             [
              0.7777777777777778,
              "#fb9f3a"
             ],
             [
              0.8888888888888888,
              "#fdca26"
             ],
             [
              1,
              "#f0f921"
             ]
            ],
            "type": "histogram2d"
           }
          ],
          "histogram2dcontour": [
           {
            "colorbar": {
             "outlinewidth": 0,
             "ticks": ""
            },
            "colorscale": [
             [
              0,
              "#0d0887"
             ],
             [
              0.1111111111111111,
              "#46039f"
             ],
             [
              0.2222222222222222,
              "#7201a8"
             ],
             [
              0.3333333333333333,
              "#9c179e"
             ],
             [
              0.4444444444444444,
              "#bd3786"
             ],
             [
              0.5555555555555556,
              "#d8576b"
             ],
             [
              0.6666666666666666,
              "#ed7953"
             ],
             [
              0.7777777777777778,
              "#fb9f3a"
             ],
             [
              0.8888888888888888,
              "#fdca26"
             ],
             [
              1,
              "#f0f921"
             ]
            ],
            "type": "histogram2dcontour"
           }
          ],
          "mesh3d": [
           {
            "colorbar": {
             "outlinewidth": 0,
             "ticks": ""
            },
            "type": "mesh3d"
           }
          ],
          "parcoords": [
           {
            "line": {
             "colorbar": {
              "outlinewidth": 0,
              "ticks": ""
             }
            },
            "type": "parcoords"
           }
          ],
          "pie": [
           {
            "automargin": true,
            "type": "pie"
           }
          ],
          "scatter": [
           {
            "fillpattern": {
             "fillmode": "overlay",
             "size": 10,
             "solidity": 0.2
            },
            "type": "scatter"
           }
          ],
          "scatter3d": [
           {
            "line": {
             "colorbar": {
              "outlinewidth": 0,
              "ticks": ""
             }
            },
            "marker": {
             "colorbar": {
              "outlinewidth": 0,
              "ticks": ""
             }
            },
            "type": "scatter3d"
           }
          ],
          "scattercarpet": [
           {
            "marker": {
             "colorbar": {
              "outlinewidth": 0,
              "ticks": ""
             }
            },
            "type": "scattercarpet"
           }
          ],
          "scattergeo": [
           {
            "marker": {
             "colorbar": {
              "outlinewidth": 0,
              "ticks": ""
             }
            },
            "type": "scattergeo"
           }
          ],
          "scattergl": [
           {
            "marker": {
             "colorbar": {
              "outlinewidth": 0,
              "ticks": ""
             }
            },
            "type": "scattergl"
           }
          ],
          "scattermapbox": [
           {
            "marker": {
             "colorbar": {
              "outlinewidth": 0,
              "ticks": ""
             }
            },
            "type": "scattermapbox"
           }
          ],
          "scatterpolar": [
           {
            "marker": {
             "colorbar": {
              "outlinewidth": 0,
              "ticks": ""
             }
            },
            "type": "scatterpolar"
           }
          ],
          "scatterpolargl": [
           {
            "marker": {
             "colorbar": {
              "outlinewidth": 0,
              "ticks": ""
             }
            },
            "type": "scatterpolargl"
           }
          ],
          "scatterternary": [
           {
            "marker": {
             "colorbar": {
              "outlinewidth": 0,
              "ticks": ""
             }
            },
            "type": "scatterternary"
           }
          ],
          "surface": [
           {
            "colorbar": {
             "outlinewidth": 0,
             "ticks": ""
            },
            "colorscale": [
             [
              0,
              "#0d0887"
             ],
             [
              0.1111111111111111,
              "#46039f"
             ],
             [
              0.2222222222222222,
              "#7201a8"
             ],
             [
              0.3333333333333333,
              "#9c179e"
             ],
             [
              0.4444444444444444,
              "#bd3786"
             ],
             [
              0.5555555555555556,
              "#d8576b"
             ],
             [
              0.6666666666666666,
              "#ed7953"
             ],
             [
              0.7777777777777778,
              "#fb9f3a"
             ],
             [
              0.8888888888888888,
              "#fdca26"
             ],
             [
              1,
              "#f0f921"
             ]
            ],
            "type": "surface"
           }
          ],
          "table": [
           {
            "cells": {
             "fill": {
              "color": "#EBF0F8"
             },
             "line": {
              "color": "white"
             }
            },
            "header": {
             "fill": {
              "color": "#C8D4E3"
             },
             "line": {
              "color": "white"
             }
            },
            "type": "table"
           }
          ]
         },
         "layout": {
          "annotationdefaults": {
           "arrowcolor": "#2a3f5f",
           "arrowhead": 0,
           "arrowwidth": 1
          },
          "autotypenumbers": "strict",
          "coloraxis": {
           "colorbar": {
            "outlinewidth": 0,
            "ticks": ""
           }
          },
          "colorscale": {
           "diverging": [
            [
             0,
             "#8e0152"
            ],
            [
             0.1,
             "#c51b7d"
            ],
            [
             0.2,
             "#de77ae"
            ],
            [
             0.3,
             "#f1b6da"
            ],
            [
             0.4,
             "#fde0ef"
            ],
            [
             0.5,
             "#f7f7f7"
            ],
            [
             0.6,
             "#e6f5d0"
            ],
            [
             0.7,
             "#b8e186"
            ],
            [
             0.8,
             "#7fbc41"
            ],
            [
             0.9,
             "#4d9221"
            ],
            [
             1,
             "#276419"
            ]
           ],
           "sequential": [
            [
             0,
             "#0d0887"
            ],
            [
             0.1111111111111111,
             "#46039f"
            ],
            [
             0.2222222222222222,
             "#7201a8"
            ],
            [
             0.3333333333333333,
             "#9c179e"
            ],
            [
             0.4444444444444444,
             "#bd3786"
            ],
            [
             0.5555555555555556,
             "#d8576b"
            ],
            [
             0.6666666666666666,
             "#ed7953"
            ],
            [
             0.7777777777777778,
             "#fb9f3a"
            ],
            [
             0.8888888888888888,
             "#fdca26"
            ],
            [
             1,
             "#f0f921"
            ]
           ],
           "sequentialminus": [
            [
             0,
             "#0d0887"
            ],
            [
             0.1111111111111111,
             "#46039f"
            ],
            [
             0.2222222222222222,
             "#7201a8"
            ],
            [
             0.3333333333333333,
             "#9c179e"
            ],
            [
             0.4444444444444444,
             "#bd3786"
            ],
            [
             0.5555555555555556,
             "#d8576b"
            ],
            [
             0.6666666666666666,
             "#ed7953"
            ],
            [
             0.7777777777777778,
             "#fb9f3a"
            ],
            [
             0.8888888888888888,
             "#fdca26"
            ],
            [
             1,
             "#f0f921"
            ]
           ]
          },
          "colorway": [
           "#636efa",
           "#EF553B",
           "#00cc96",
           "#ab63fa",
           "#FFA15A",
           "#19d3f3",
           "#FF6692",
           "#B6E880",
           "#FF97FF",
           "#FECB52"
          ],
          "font": {
           "color": "#2a3f5f"
          },
          "geo": {
           "bgcolor": "white",
           "lakecolor": "white",
           "landcolor": "#E5ECF6",
           "showlakes": true,
           "showland": true,
           "subunitcolor": "white"
          },
          "hoverlabel": {
           "align": "left"
          },
          "hovermode": "closest",
          "mapbox": {
           "style": "light"
          },
          "paper_bgcolor": "white",
          "plot_bgcolor": "#E5ECF6",
          "polar": {
           "angularaxis": {
            "gridcolor": "white",
            "linecolor": "white",
            "ticks": ""
           },
           "bgcolor": "#E5ECF6",
           "radialaxis": {
            "gridcolor": "white",
            "linecolor": "white",
            "ticks": ""
           }
          },
          "scene": {
           "xaxis": {
            "backgroundcolor": "#E5ECF6",
            "gridcolor": "white",
            "gridwidth": 2,
            "linecolor": "white",
            "showbackground": true,
            "ticks": "",
            "zerolinecolor": "white"
           },
           "yaxis": {
            "backgroundcolor": "#E5ECF6",
            "gridcolor": "white",
            "gridwidth": 2,
            "linecolor": "white",
            "showbackground": true,
            "ticks": "",
            "zerolinecolor": "white"
           },
           "zaxis": {
            "backgroundcolor": "#E5ECF6",
            "gridcolor": "white",
            "gridwidth": 2,
            "linecolor": "white",
            "showbackground": true,
            "ticks": "",
            "zerolinecolor": "white"
           }
          },
          "shapedefaults": {
           "line": {
            "color": "#2a3f5f"
           }
          },
          "ternary": {
           "aaxis": {
            "gridcolor": "white",
            "linecolor": "white",
            "ticks": ""
           },
           "baxis": {
            "gridcolor": "white",
            "linecolor": "white",
            "ticks": ""
           },
           "bgcolor": "#E5ECF6",
           "caxis": {
            "gridcolor": "white",
            "linecolor": "white",
            "ticks": ""
           }
          },
          "title": {
           "x": 0.05
          },
          "xaxis": {
           "automargin": true,
           "gridcolor": "white",
           "linecolor": "white",
           "ticks": "",
           "title": {
            "standoff": 15
           },
           "zerolinecolor": "white",
           "zerolinewidth": 2
          },
          "yaxis": {
           "automargin": true,
           "gridcolor": "white",
           "linecolor": "white",
           "ticks": "",
           "title": {
            "standoff": 15
           },
           "zerolinecolor": "white",
           "zerolinewidth": 2
          }
         }
        },
        "title": {
         "font": {
          "size": 16
         },
         "subtitle": {
          "text": "Gemma 2 27B, Layer 34"
         },
         "text": "PC5 Cosine Similarity with Assistant",
         "x": 0.5
        },
        "xaxis": {
         "range": [
          -0.2812363241278599,
          0.2812363241278599
         ],
         "title": {
          "text": "PC5 Cosine Similarity"
         }
        },
        "yaxis": {
         "range": [
          0.25,
          1.75
         ],
         "showticklabels": false,
         "title": {
          "text": ""
         }
        }
       }
      },
      "text/html": [
       "<div>                            <div id=\"34b1f96f-e380-42fe-a588-0bc9e2fb7d93\" class=\"plotly-graph-div\" style=\"height:500px; width:100%;\"></div>            <script type=\"text/javascript\">                require([\"plotly\"], function(Plotly) {                    window.PLOTLYENV=window.PLOTLYENV || {};                                    if (document.getElementById(\"34b1f96f-e380-42fe-a588-0bc9e2fb7d93\")) {                    Plotly.newPlot(                        \"34b1f96f-e380-42fe-a588-0bc9e2fb7d93\",                        [{\"hovertemplate\":\"\\u003cb\\u003e%{text}\\u003c\\u002fb\\u003e\\u003cbr\\u003eCosine Similarity: %{x:.3f}\\u003cextra\\u003e\\u003c\\u002fextra\\u003e\",\"marker\":{\"color\":[\"red\",\"blue\",\"blue\",\"red\",\"red\",\"blue\",\"red\",\"blue\",\"red\",\"blue\",\"red\",\"red\",\"blue\",\"red\",\"red\",\"red\",\"red\",\"red\",\"red\",\"red\",\"red\",\"red\",\"blue\",\"blue\",\"blue\",\"blue\",\"blue\",\"blue\",\"blue\",\"red\",\"red\",\"blue\",\"red\",\"blue\",\"red\",\"red\",\"blue\",\"blue\",\"blue\",\"red\",\"red\",\"red\",\"blue\",\"blue\",\"blue\",\"red\",\"blue\",\"blue\",\"blue\",\"blue\",\"red\",\"blue\",\"blue\",\"blue\",\"blue\",\"red\",\"blue\",\"blue\",\"red\",\"blue\",\"blue\",\"blue\",\"red\",\"red\",\"blue\",\"blue\",\"blue\",\"red\",\"red\",\"red\",\"blue\",\"red\",\"red\",\"red\",\"blue\",\"red\",\"blue\",\"blue\",\"blue\",\"red\",\"red\",\"blue\",\"red\",\"red\",\"red\",\"red\",\"blue\",\"blue\",\"blue\",\"red\",\"red\",\"blue\",\"red\",\"red\",\"blue\",\"blue\",\"red\",\"blue\",\"red\",\"red\",\"red\",\"blue\",\"red\",\"red\",\"blue\",\"red\",\"red\",\"red\",\"blue\",\"blue\",\"red\",\"red\",\"red\",\"blue\",\"red\",\"red\",\"blue\",\"red\",\"red\",\"blue\",\"red\",\"red\",\"red\",\"blue\",\"red\",\"red\",\"red\",\"red\",\"red\",\"blue\",\"red\",\"red\",\"blue\",\"red\",\"blue\",\"blue\",\"red\",\"red\",\"red\",\"red\",\"blue\",\"red\",\"red\",\"red\",\"blue\",\"red\",\"red\",\"red\",\"red\",\"blue\",\"red\",\"blue\",\"blue\",\"blue\",\"red\",\"red\",\"blue\",\"blue\",\"blue\",\"red\",\"red\",\"red\",\"red\",\"blue\",\"blue\",\"red\",\"red\",\"red\",\"blue\",\"red\",\"blue\",\"red\",\"red\",\"red\",\"red\",\"red\",\"blue\",\"red\",\"red\",\"red\",\"red\",\"red\",\"blue\",\"blue\",\"blue\",\"red\",\"blue\",\"blue\",\"red\",\"blue\",\"blue\",\"blue\",\"blue\",\"red\",\"blue\",\"blue\",\"blue\",\"blue\",\"red\",\"blue\",\"red\",\"red\",\"blue\",\"blue\",\"blue\",\"blue\",\"blue\",\"blue\",\"blue\",\"blue\",\"red\",\"red\",\"blue\",\"blue\",\"blue\"],\"opacity\":0.7,\"size\":8},\"mode\":\"markers\",\"showlegend\":false,\"text\":[\"absolutist\",\"adaptable\",\"abstract\",\"accessible\",\"accommodating\",\"acerbic\",\"adventurous\",\"agreeable\",\"altruistic\",\"analytical\",\"animated\",\"anthropocentric\",\"anxious\",\"arrogant\",\"artistic\",\"ascetic\",\"assertive\",\"avoidant\",\"benevolent\",\"big_picture\",\"bitter\",\"blunt\",\"bombastic\",\"calculating\",\"callous\",\"calm\",\"casual\",\"cautious\",\"challenging\",\"chaotic\",\"charismatic\",\"chill\",\"closure_seeking\",\"collaborative\",\"collectivistic\",\"competitive\",\"conceptual\",\"conciliatory\",\"condescending\",\"confident\",\"confrontational\",\"conscientious\",\"constructivist\",\"contemporary\",\"contrarian\",\"convergent\",\"cosmopolitan\",\"creative\",\"critical\",\"cruel\",\"cryptic\",\"curious\",\"cynical\",\"data_driven\",\"deconstructionist\",\"deontological\",\"descriptive\",\"detached\",\"deterministic\",\"diplomatic\",\"disorganized\",\"dispassionate\",\"dominant\",\"dramatic\",\"eclectic\",\"edgy\",\"educational\",\"efficient\",\"effusive\",\"elitist\",\"eloquent\",\"emotional\",\"empathetic\",\"enigmatic\",\"entertaining\",\"environmental\",\"epicurean\",\"erudite\",\"esoteric\",\"essentialist\",\"ethereal\",\"evil\",\"existentialist\",\"experiential\",\"extroverted\",\"factual\",\"fatalistic\",\"flexible\",\"flirty\",\"forgiving\",\"formal\",\"formalist\",\"fundamentalist\",\"futuristic\",\"generalist\",\"generous\",\"grandiose\",\"gregarious\",\"grounded\",\"hedonistic\",\"historical\",\"holistic\",\"hostile\",\"humanistic\",\"humble\",\"iconoclastic\",\"idealistic\",\"impatient\",\"improvisational\",\"inclusive\",\"independent\",\"individualistic\",\"innovative\",\"inquisitive\",\"inspirational\",\"interdisciplinary\",\"introspective\",\"introverted\",\"intuitive\",\"ironic\",\"judgmental\",\"libertarian\",\"literal\",\"manic\",\"manipulative\",\"materialist\",\"meditative\",\"melancholic\",\"melodramatic\",\"mercurial\",\"metaphorical\",\"methodical\",\"meticulous\",\"misanthropic\",\"mischievous\",\"moderate\",\"mystical\",\"naive\",\"narrative\",\"neurotic\",\"nihilistic\",\"nostalgic\",\"nurturing\",\"obsessive\",\"open_ended\",\"optimistic\",\"pacifist\",\"paradoxical\",\"paranoid\",\"passive_aggressive\",\"patient\",\"pedantic\",\"pensive\",\"perfectionist\",\"pessimistic\",\"petty\",\"philosophical\",\"playful\",\"pluralist\",\"poetic\",\"practical\",\"prescriptive\",\"principled\",\"proactive\",\"problem_solving\",\"progressive\",\"provocative\",\"qualitative\",\"quantitative\",\"radical\",\"rationalist\",\"reactive\",\"rebellious\",\"reductionist\",\"regulatory\",\"reserved\",\"resilient\",\"reverent\",\"rhetorical\",\"risk_taking\",\"ritualistic\",\"romantic\",\"sarcastic\",\"sardonic\",\"sassy\",\"savage\",\"secular\",\"serene\",\"serious\",\"skeptical\",\"socratic\",\"specialized\",\"speculative\",\"spiritual\",\"spontaneous\",\"stoic\",\"stream_of_consciousness\",\"structuralist\",\"submissive\",\"subversive\",\"supportive\",\"sycophantic\",\"systems_thinker\",\"tactful\",\"technical\",\"temperamental\",\"theatrical\",\"theoretical\",\"traditional\",\"understated\",\"universalist\",\"urgent\",\"utilitarian\",\"verbose\",\"whimsical\"],\"x\":[-0.04570896854633463,0.005830653001068883,0.008001803600680197,-0.05964369631192181,-0.009364515846596,0.08767565255312665,-0.04429988495836067,0.03880065492996563,-0.02806643044717345,0.06701919841601722,-0.027975109678598883,-0.019837011205342512,0.004022116369509171,-0.02547877113563708,-0.014318690538063752,-0.022023185600798294,-0.0919808605682068,-0.019677035253875704,-0.029018123274167577,-0.019981788711487973,-0.017600978849868398,-0.0811182018191322,0.012305522927795276,0.05543730780204862,0.08595598287538019,0.07723968080887247,0.009447448937924433,0.05138216499554068,0.03369554350509042,-0.01230676769609731,-0.017157472189936348,0.057211483040269746,-0.07696679012620967,0.03584627888320664,-0.00987756417406427,-0.04802526535847206,0.0030950417642545748,0.04857176996280205,0.0740459638025181,-0.10099525393632516,-0.09383130953786739,-0.10339728603388222,0.002225127731393833,0.005397263928670341,0.006918880705700119,-0.03186951742922274,0.009906903674776361,0.019911892522934318,0.0024528548016493996,0.0696806938676203,-0.004150405836729482,0.006770220691532005,0.0505510701859424,0.02988674131077956,0.02404304027944869,-0.030003823162269138,0.025108616081142194,0.09754150649425114,-0.007839562448733581,0.07003994612022658,0.0310619931010111,0.10287418146876834,-0.04060881867039596,-0.06631799732724888,0.011458721009198095,0.07637290246530166,0.08233992742124856,-0.08175124010591595,-0.029365378724084668,-0.021196424469365358,0.04999677847010543,-0.07665134581717635,-0.059866152871098775,-0.010821843938147483,0.09714505152904843,-0.03371464018077135,0.02494669240967725,0.059700270808548936,0.04297830198401635,-0.043608506194246874,-0.02910249041547419,0.02774804985436565,-0.04469452864150718,-0.03183024829490159,-0.023325811874465724,-0.006839247129247647,0.010426999305586023,0.007316966501292044,0.04280205220658977,-0.008258794299781318,-0.030206347203936394,0.016672170705009332,-0.08984870002680538,-0.02327250552707901,0.004274523881907197,0.09227693226002245,-0.03943611847536115,0.002618113713940951,-0.01116579329414304,-0.005422869891981132,-0.0055623408685089,0.04343704065190873,-0.02238210845443883,-0.012516461108508958,0.025238542488854616,-0.019652240192040513,-0.06325393988398333,-0.07775116762342896,0.0013700236340136202,0.005543390798906674,-0.030559059356019807,-0.00909980155798103,-0.04211467385330765,0.026448227044376747,-0.07837807842043101,-0.0024750583738131064,0.09730297600755361,-0.04300730941701902,-0.028990287073477315,0.12581391642210685,-0.05579943909297892,-0.04234765013830885,-0.1024641948551818,0.02286473366882683,-0.0323317005560172,-0.0064700434817952426,-0.002939917072116278,-0.02472597979707428,-0.011093605177090146,0.05063005309472627,-0.0014734086198405633,-0.02496775086974134,0.04589346141858268,-0.011350475877115808,0.1150336772501475,0.07288370052182574,-0.0648012088991098,-0.04790096365843564,-0.02436378841336563,-0.023038919738753733,0.04526229595314306,-0.021288977336608002,-0.019340739184042867,-0.013606532552894388,0.03473294351167666,-0.044596962456132434,-0.055009045163673366,-0.000497150119616237,-0.0659517361003854,0.1102385189702229,-0.03340499821076514,0.05625284662492182,0.0531628099230811,0.005259833510090139,-4.2077122421615655e-05,-0.007070122342575649,0.06553033273831897,0.0590292450235301,0.005881555669676929,-0.018138070915921685,-0.06331946572921196,-0.039768869529685745,-0.05199223248401532,0.11916170914601232,0.01872029360539024,-0.053162278262178904,-0.012762951626481276,-0.058652162008171985,0.041485743138727174,-0.08264455057319327,0.02559137166090282,-0.07080869812259542,-0.035889101461044036,-0.014182221813852541,-0.004161718791701615,-0.021466202966011698,0.004476213900267472,-0.06884025573074268,-0.06151349024563164,-0.055491229258055406,-0.002810568365157499,-0.08647956216252216,0.0905140754374468,0.12005412384967684,0.0761808284420729,-0.04793803887061084,0.002527524909069486,0.014437115543874971,-0.06908819218263261,0.047422522557791565,0.001392494022143797,0.03382031696557718,0.012633101590326363,-0.06661100750772196,0.0262687594232582,0.03428572076881573,0.028130239045877886,0.040786655632738,-0.02613254912143127,0.049000492848596554,-0.0035126561503158347,-0.046693868378399346,0.011054600222969273,0.041140563649834684,0.04314131027256387,0.01447786649941005,0.0010627752960244493,0.03233971947992119,0.016748156733110885,0.08470422737707838,-0.04188267364559926,-0.09375427004333992,0.02960322487127116,0.09036920337258741,0.08880524447475563],\"y\":[1,1,1,1,1,1,1,1,1,1,1,1,1,1,1,1,1,1,1,1,1,1,1,1,1,1,1,1,1,1,1,1,1,1,1,1,1,1,1,1,1,1,1,1,1,1,1,1,1,1,1,1,1,1,1,1,1,1,1,1,1,1,1,1,1,1,1,1,1,1,1,1,1,1,1,1,1,1,1,1,1,1,1,1,1,1,1,1,1,1,1,1,1,1,1,1,1,1,1,1,1,1,1,1,1,1,1,1,1,1,1,1,1,1,1,1,1,1,1,1,1,1,1,1,1,1,1,1,1,1,1,1,1,1,1,1,1,1,1,1,1,1,1,1,1,1,1,1,1,1,1,1,1,1,1,1,1,1,1,1,1,1,1,1,1,1,1,1,1,1,1,1,1,1,1,1,1,1,1,1,1,1,1,1,1,1,1,1,1,1,1,1,1,1,1,1,1,1,1,1,1,1,1,1,1,1,1,1,1,1,1,1,1,1,1],\"type\":\"scatter\"},{\"hovertemplate\":\"\\u003cb\\u003e%{text}\\u003c\\u002fb\\u003e\\u003cbr\\u003eCosine Similarity: %{x:.3f}\\u003cextra\\u003e\\u003c\\u002fextra\\u003e\",\"marker\":{\"color\":[\"blue\",\"red\",\"red\",\"blue\",\"red\",\"red\",\"blue\",\"blue\",\"blue\",\"red\",\"blue\",\"red\",\"blue\",\"red\",\"red\",\"blue\",\"red\",\"blue\",\"blue\",\"red\"],\"opacity\":0.9,\"size\":8},\"mode\":\"markers\",\"showlegend\":false,\"text\":[\"circumspect\",\"concise\",\"decisive\",\"divergent\",\"dogmatic\",\"earnest\",\"exploratory\",\"flippant\",\"goofy\",\"impulsive\",\"irreverent\",\"militant\",\"nonchalant\",\"passionate\",\"solemn\",\"strategic\",\"visceral\",\"witty\",\"wry\",\"zealous\"],\"x\":[0.16155961865559829,-0.14449081886990237,-0.13416956664907195,0.13920181609242124,-0.11821237067088053,-0.2556693855707817,0.14300538484154743,0.18483672183958338,0.13178561286028917,-0.15268813719770533,0.13589587431372097,-0.11668162913003849,0.13069617351817928,-0.1429358238345024,-0.14770668791716257,0.14125854092874687,-0.1281728178253491,0.1673378886277129,0.161839292529727,-0.15372878886075814],\"y\":[1,1,1,1,1,1,1,1,1,1,1,1,1,1,1,1,1,1,1,1],\"type\":\"scatter\"},{\"hoverinfo\":\"skip\",\"line\":{\"color\":\"red\",\"width\":1},\"mode\":\"lines\",\"showlegend\":false,\"x\":[-0.2556693855707817,-0.2556693855707817],\"y\":[1.0,1.6],\"type\":\"scatter\"},{\"hoverinfo\":\"skip\",\"line\":{\"color\":\"red\",\"width\":1},\"mode\":\"lines\",\"showlegend\":false,\"x\":[-0.15372878886075814,-0.15372878886075814],\"y\":[1.0,0.4],\"type\":\"scatter\"},{\"hoverinfo\":\"skip\",\"line\":{\"color\":\"red\",\"width\":1},\"mode\":\"lines\",\"showlegend\":false,\"x\":[-0.15268813719770533,-0.15268813719770533],\"y\":[1.0,1.45],\"type\":\"scatter\"},{\"hoverinfo\":\"skip\",\"line\":{\"color\":\"red\",\"width\":1},\"mode\":\"lines\",\"showlegend\":false,\"x\":[-0.14770668791716257,-0.14770668791716257],\"y\":[1.0,0.55],\"type\":\"scatter\"},{\"hoverinfo\":\"skip\",\"line\":{\"color\":\"red\",\"width\":1},\"mode\":\"lines\",\"showlegend\":false,\"x\":[-0.14449081886990237,-0.14449081886990237],\"y\":[1.0,1.55],\"type\":\"scatter\"},{\"hoverinfo\":\"skip\",\"line\":{\"color\":\"red\",\"width\":1},\"mode\":\"lines\",\"showlegend\":false,\"x\":[-0.1429358238345024,-0.1429358238345024],\"y\":[1.0,0.45],\"type\":\"scatter\"},{\"hoverinfo\":\"skip\",\"line\":{\"color\":\"red\",\"width\":1},\"mode\":\"lines\",\"showlegend\":false,\"x\":[-0.13416956664907195,-0.13416956664907195],\"y\":[1.0,1.35],\"type\":\"scatter\"},{\"hoverinfo\":\"skip\",\"line\":{\"color\":\"red\",\"width\":1},\"mode\":\"lines\",\"showlegend\":false,\"x\":[-0.1281728178253491,-0.1281728178253491],\"y\":[1.0,0.65],\"type\":\"scatter\"},{\"hoverinfo\":\"skip\",\"line\":{\"color\":\"red\",\"width\":1},\"mode\":\"lines\",\"showlegend\":false,\"x\":[-0.11821237067088053,-0.11821237067088053],\"y\":[1.0,1.5],\"type\":\"scatter\"},{\"hoverinfo\":\"skip\",\"line\":{\"color\":\"red\",\"width\":1},\"mode\":\"lines\",\"showlegend\":false,\"x\":[-0.11668162913003849,-0.11668162913003849],\"y\":[1.0,0.5],\"type\":\"scatter\"},{\"hoverinfo\":\"skip\",\"line\":{\"color\":\"blue\",\"width\":1},\"mode\":\"lines\",\"showlegend\":false,\"x\":[0.13069617351817928,0.13069617351817928],\"y\":[1.0,1.4],\"type\":\"scatter\"},{\"hoverinfo\":\"skip\",\"line\":{\"color\":\"blue\",\"width\":1},\"mode\":\"lines\",\"showlegend\":false,\"x\":[0.13178561286028917,0.13178561286028917],\"y\":[1.0,0.6],\"type\":\"scatter\"},{\"hoverinfo\":\"skip\",\"line\":{\"color\":\"blue\",\"width\":1},\"mode\":\"lines\",\"showlegend\":false,\"x\":[0.13589587431372097,0.13589587431372097],\"y\":[1.0,1.65],\"type\":\"scatter\"},{\"hoverinfo\":\"skip\",\"line\":{\"color\":\"blue\",\"width\":1},\"mode\":\"lines\",\"showlegend\":false,\"x\":[0.13920181609242124,0.13920181609242124],\"y\":[1.0,0.35],\"type\":\"scatter\"},{\"hoverinfo\":\"skip\",\"line\":{\"color\":\"blue\",\"width\":1},\"mode\":\"lines\",\"showlegend\":false,\"x\":[0.14125854092874687,0.14125854092874687],\"y\":[1.0,1.3],\"type\":\"scatter\"},{\"hoverinfo\":\"skip\",\"line\":{\"color\":\"blue\",\"width\":1},\"mode\":\"lines\",\"showlegend\":false,\"x\":[0.14300538484154743,0.14300538484154743],\"y\":[1.0,0.7],\"type\":\"scatter\"},{\"hoverinfo\":\"skip\",\"line\":{\"color\":\"blue\",\"width\":1},\"mode\":\"lines\",\"showlegend\":false,\"x\":[0.16155961865559829,0.16155961865559829],\"y\":[1.0,1.58],\"type\":\"scatter\"},{\"hoverinfo\":\"skip\",\"line\":{\"color\":\"blue\",\"width\":1},\"mode\":\"lines\",\"showlegend\":false,\"x\":[0.161839292529727,0.161839292529727],\"y\":[1.0,0.42],\"type\":\"scatter\"},{\"hoverinfo\":\"skip\",\"line\":{\"color\":\"blue\",\"width\":1},\"mode\":\"lines\",\"showlegend\":false,\"x\":[0.1673378886277129,0.1673378886277129],\"y\":[1.0,1.42],\"type\":\"scatter\"},{\"hoverinfo\":\"skip\",\"line\":{\"color\":\"blue\",\"width\":1},\"mode\":\"lines\",\"showlegend\":false,\"x\":[0.18483672183958338,0.18483672183958338],\"y\":[1.0,0.58],\"type\":\"scatter\"}],                        {\"template\":{\"data\":{\"histogram2dcontour\":[{\"type\":\"histogram2dcontour\",\"colorbar\":{\"outlinewidth\":0,\"ticks\":\"\"},\"colorscale\":[[0.0,\"#0d0887\"],[0.1111111111111111,\"#46039f\"],[0.2222222222222222,\"#7201a8\"],[0.3333333333333333,\"#9c179e\"],[0.4444444444444444,\"#bd3786\"],[0.5555555555555556,\"#d8576b\"],[0.6666666666666666,\"#ed7953\"],[0.7777777777777778,\"#fb9f3a\"],[0.8888888888888888,\"#fdca26\"],[1.0,\"#f0f921\"]]}],\"choropleth\":[{\"type\":\"choropleth\",\"colorbar\":{\"outlinewidth\":0,\"ticks\":\"\"}}],\"histogram2d\":[{\"type\":\"histogram2d\",\"colorbar\":{\"outlinewidth\":0,\"ticks\":\"\"},\"colorscale\":[[0.0,\"#0d0887\"],[0.1111111111111111,\"#46039f\"],[0.2222222222222222,\"#7201a8\"],[0.3333333333333333,\"#9c179e\"],[0.4444444444444444,\"#bd3786\"],[0.5555555555555556,\"#d8576b\"],[0.6666666666666666,\"#ed7953\"],[0.7777777777777778,\"#fb9f3a\"],[0.8888888888888888,\"#fdca26\"],[1.0,\"#f0f921\"]]}],\"heatmap\":[{\"type\":\"heatmap\",\"colorbar\":{\"outlinewidth\":0,\"ticks\":\"\"},\"colorscale\":[[0.0,\"#0d0887\"],[0.1111111111111111,\"#46039f\"],[0.2222222222222222,\"#7201a8\"],[0.3333333333333333,\"#9c179e\"],[0.4444444444444444,\"#bd3786\"],[0.5555555555555556,\"#d8576b\"],[0.6666666666666666,\"#ed7953\"],[0.7777777777777778,\"#fb9f3a\"],[0.8888888888888888,\"#fdca26\"],[1.0,\"#f0f921\"]]}],\"heatmapgl\":[{\"type\":\"heatmapgl\",\"colorbar\":{\"outlinewidth\":0,\"ticks\":\"\"},\"colorscale\":[[0.0,\"#0d0887\"],[0.1111111111111111,\"#46039f\"],[0.2222222222222222,\"#7201a8\"],[0.3333333333333333,\"#9c179e\"],[0.4444444444444444,\"#bd3786\"],[0.5555555555555556,\"#d8576b\"],[0.6666666666666666,\"#ed7953\"],[0.7777777777777778,\"#fb9f3a\"],[0.8888888888888888,\"#fdca26\"],[1.0,\"#f0f921\"]]}],\"contourcarpet\":[{\"type\":\"contourcarpet\",\"colorbar\":{\"outlinewidth\":0,\"ticks\":\"\"}}],\"contour\":[{\"type\":\"contour\",\"colorbar\":{\"outlinewidth\":0,\"ticks\":\"\"},\"colorscale\":[[0.0,\"#0d0887\"],[0.1111111111111111,\"#46039f\"],[0.2222222222222222,\"#7201a8\"],[0.3333333333333333,\"#9c179e\"],[0.4444444444444444,\"#bd3786\"],[0.5555555555555556,\"#d8576b\"],[0.6666666666666666,\"#ed7953\"],[0.7777777777777778,\"#fb9f3a\"],[0.8888888888888888,\"#fdca26\"],[1.0,\"#f0f921\"]]}],\"surface\":[{\"type\":\"surface\",\"colorbar\":{\"outlinewidth\":0,\"ticks\":\"\"},\"colorscale\":[[0.0,\"#0d0887\"],[0.1111111111111111,\"#46039f\"],[0.2222222222222222,\"#7201a8\"],[0.3333333333333333,\"#9c179e\"],[0.4444444444444444,\"#bd3786\"],[0.5555555555555556,\"#d8576b\"],[0.6666666666666666,\"#ed7953\"],[0.7777777777777778,\"#fb9f3a\"],[0.8888888888888888,\"#fdca26\"],[1.0,\"#f0f921\"]]}],\"mesh3d\":[{\"type\":\"mesh3d\",\"colorbar\":{\"outlinewidth\":0,\"ticks\":\"\"}}],\"scatter\":[{\"fillpattern\":{\"fillmode\":\"overlay\",\"size\":10,\"solidity\":0.2},\"type\":\"scatter\"}],\"parcoords\":[{\"type\":\"parcoords\",\"line\":{\"colorbar\":{\"outlinewidth\":0,\"ticks\":\"\"}}}],\"scatterpolargl\":[{\"type\":\"scatterpolargl\",\"marker\":{\"colorbar\":{\"outlinewidth\":0,\"ticks\":\"\"}}}],\"bar\":[{\"error_x\":{\"color\":\"#2a3f5f\"},\"error_y\":{\"color\":\"#2a3f5f\"},\"marker\":{\"line\":{\"color\":\"#E5ECF6\",\"width\":0.5},\"pattern\":{\"fillmode\":\"overlay\",\"size\":10,\"solidity\":0.2}},\"type\":\"bar\"}],\"scattergeo\":[{\"type\":\"scattergeo\",\"marker\":{\"colorbar\":{\"outlinewidth\":0,\"ticks\":\"\"}}}],\"scatterpolar\":[{\"type\":\"scatterpolar\",\"marker\":{\"colorbar\":{\"outlinewidth\":0,\"ticks\":\"\"}}}],\"histogram\":[{\"marker\":{\"pattern\":{\"fillmode\":\"overlay\",\"size\":10,\"solidity\":0.2}},\"type\":\"histogram\"}],\"scattergl\":[{\"type\":\"scattergl\",\"marker\":{\"colorbar\":{\"outlinewidth\":0,\"ticks\":\"\"}}}],\"scatter3d\":[{\"type\":\"scatter3d\",\"line\":{\"colorbar\":{\"outlinewidth\":0,\"ticks\":\"\"}},\"marker\":{\"colorbar\":{\"outlinewidth\":0,\"ticks\":\"\"}}}],\"scattermapbox\":[{\"type\":\"scattermapbox\",\"marker\":{\"colorbar\":{\"outlinewidth\":0,\"ticks\":\"\"}}}],\"scatterternary\":[{\"type\":\"scatterternary\",\"marker\":{\"colorbar\":{\"outlinewidth\":0,\"ticks\":\"\"}}}],\"scattercarpet\":[{\"type\":\"scattercarpet\",\"marker\":{\"colorbar\":{\"outlinewidth\":0,\"ticks\":\"\"}}}],\"carpet\":[{\"aaxis\":{\"endlinecolor\":\"#2a3f5f\",\"gridcolor\":\"white\",\"linecolor\":\"white\",\"minorgridcolor\":\"white\",\"startlinecolor\":\"#2a3f5f\"},\"baxis\":{\"endlinecolor\":\"#2a3f5f\",\"gridcolor\":\"white\",\"linecolor\":\"white\",\"minorgridcolor\":\"white\",\"startlinecolor\":\"#2a3f5f\"},\"type\":\"carpet\"}],\"table\":[{\"cells\":{\"fill\":{\"color\":\"#EBF0F8\"},\"line\":{\"color\":\"white\"}},\"header\":{\"fill\":{\"color\":\"#C8D4E3\"},\"line\":{\"color\":\"white\"}},\"type\":\"table\"}],\"barpolar\":[{\"marker\":{\"line\":{\"color\":\"#E5ECF6\",\"width\":0.5},\"pattern\":{\"fillmode\":\"overlay\",\"size\":10,\"solidity\":0.2}},\"type\":\"barpolar\"}],\"pie\":[{\"automargin\":true,\"type\":\"pie\"}]},\"layout\":{\"autotypenumbers\":\"strict\",\"colorway\":[\"#636efa\",\"#EF553B\",\"#00cc96\",\"#ab63fa\",\"#FFA15A\",\"#19d3f3\",\"#FF6692\",\"#B6E880\",\"#FF97FF\",\"#FECB52\"],\"font\":{\"color\":\"#2a3f5f\"},\"hovermode\":\"closest\",\"hoverlabel\":{\"align\":\"left\"},\"paper_bgcolor\":\"white\",\"plot_bgcolor\":\"#E5ECF6\",\"polar\":{\"bgcolor\":\"#E5ECF6\",\"angularaxis\":{\"gridcolor\":\"white\",\"linecolor\":\"white\",\"ticks\":\"\"},\"radialaxis\":{\"gridcolor\":\"white\",\"linecolor\":\"white\",\"ticks\":\"\"}},\"ternary\":{\"bgcolor\":\"#E5ECF6\",\"aaxis\":{\"gridcolor\":\"white\",\"linecolor\":\"white\",\"ticks\":\"\"},\"baxis\":{\"gridcolor\":\"white\",\"linecolor\":\"white\",\"ticks\":\"\"},\"caxis\":{\"gridcolor\":\"white\",\"linecolor\":\"white\",\"ticks\":\"\"}},\"coloraxis\":{\"colorbar\":{\"outlinewidth\":0,\"ticks\":\"\"}},\"colorscale\":{\"sequential\":[[0.0,\"#0d0887\"],[0.1111111111111111,\"#46039f\"],[0.2222222222222222,\"#7201a8\"],[0.3333333333333333,\"#9c179e\"],[0.4444444444444444,\"#bd3786\"],[0.5555555555555556,\"#d8576b\"],[0.6666666666666666,\"#ed7953\"],[0.7777777777777778,\"#fb9f3a\"],[0.8888888888888888,\"#fdca26\"],[1.0,\"#f0f921\"]],\"sequentialminus\":[[0.0,\"#0d0887\"],[0.1111111111111111,\"#46039f\"],[0.2222222222222222,\"#7201a8\"],[0.3333333333333333,\"#9c179e\"],[0.4444444444444444,\"#bd3786\"],[0.5555555555555556,\"#d8576b\"],[0.6666666666666666,\"#ed7953\"],[0.7777777777777778,\"#fb9f3a\"],[0.8888888888888888,\"#fdca26\"],[1.0,\"#f0f921\"]],\"diverging\":[[0,\"#8e0152\"],[0.1,\"#c51b7d\"],[0.2,\"#de77ae\"],[0.3,\"#f1b6da\"],[0.4,\"#fde0ef\"],[0.5,\"#f7f7f7\"],[0.6,\"#e6f5d0\"],[0.7,\"#b8e186\"],[0.8,\"#7fbc41\"],[0.9,\"#4d9221\"],[1,\"#276419\"]]},\"xaxis\":{\"gridcolor\":\"white\",\"linecolor\":\"white\",\"ticks\":\"\",\"title\":{\"standoff\":15},\"zerolinecolor\":\"white\",\"automargin\":true,\"zerolinewidth\":2},\"yaxis\":{\"gridcolor\":\"white\",\"linecolor\":\"white\",\"ticks\":\"\",\"title\":{\"standoff\":15},\"zerolinecolor\":\"white\",\"automargin\":true,\"zerolinewidth\":2},\"scene\":{\"xaxis\":{\"backgroundcolor\":\"#E5ECF6\",\"gridcolor\":\"white\",\"linecolor\":\"white\",\"showbackground\":true,\"ticks\":\"\",\"zerolinecolor\":\"white\",\"gridwidth\":2},\"yaxis\":{\"backgroundcolor\":\"#E5ECF6\",\"gridcolor\":\"white\",\"linecolor\":\"white\",\"showbackground\":true,\"ticks\":\"\",\"zerolinecolor\":\"white\",\"gridwidth\":2},\"zaxis\":{\"backgroundcolor\":\"#E5ECF6\",\"gridcolor\":\"white\",\"linecolor\":\"white\",\"showbackground\":true,\"ticks\":\"\",\"zerolinecolor\":\"white\",\"gridwidth\":2}},\"shapedefaults\":{\"line\":{\"color\":\"#2a3f5f\"}},\"annotationdefaults\":{\"arrowcolor\":\"#2a3f5f\",\"arrowhead\":0,\"arrowwidth\":1},\"geo\":{\"bgcolor\":\"white\",\"landcolor\":\"#E5ECF6\",\"subunitcolor\":\"white\",\"showland\":true,\"showlakes\":true,\"lakecolor\":\"white\"},\"title\":{\"x\":0.05},\"mapbox\":{\"style\":\"light\"}}},\"annotations\":[{\"bgcolor\":\"rgba(255, 255, 255, 0.9)\",\"bordercolor\":\"red\",\"borderwidth\":1,\"font\":{\"color\":\"red\",\"size\":10},\"showarrow\":false,\"text\":\"earnest\",\"x\":-0.2556693855707817,\"y\":1.6},{\"bgcolor\":\"rgba(255, 255, 255, 0.9)\",\"bordercolor\":\"red\",\"borderwidth\":1,\"font\":{\"color\":\"red\",\"size\":10},\"showarrow\":false,\"text\":\"zealous\",\"x\":-0.15372878886075814,\"y\":0.4},{\"bgcolor\":\"rgba(255, 255, 255, 0.9)\",\"bordercolor\":\"red\",\"borderwidth\":1,\"font\":{\"color\":\"red\",\"size\":10},\"showarrow\":false,\"text\":\"impulsive\",\"x\":-0.15268813719770533,\"y\":1.45},{\"bgcolor\":\"rgba(255, 255, 255, 0.9)\",\"bordercolor\":\"red\",\"borderwidth\":1,\"font\":{\"color\":\"red\",\"size\":10},\"showarrow\":false,\"text\":\"solemn\",\"x\":-0.14770668791716257,\"y\":0.55},{\"bgcolor\":\"rgba(255, 255, 255, 0.9)\",\"bordercolor\":\"red\",\"borderwidth\":1,\"font\":{\"color\":\"red\",\"size\":10},\"showarrow\":false,\"text\":\"concise\",\"x\":-0.14449081886990237,\"y\":1.55},{\"bgcolor\":\"rgba(255, 255, 255, 0.9)\",\"bordercolor\":\"red\",\"borderwidth\":1,\"font\":{\"color\":\"red\",\"size\":10},\"showarrow\":false,\"text\":\"passionate\",\"x\":-0.1429358238345024,\"y\":0.45},{\"bgcolor\":\"rgba(255, 255, 255, 0.9)\",\"bordercolor\":\"red\",\"borderwidth\":1,\"font\":{\"color\":\"red\",\"size\":10},\"showarrow\":false,\"text\":\"decisive\",\"x\":-0.13416956664907195,\"y\":1.35},{\"bgcolor\":\"rgba(255, 255, 255, 0.9)\",\"bordercolor\":\"red\",\"borderwidth\":1,\"font\":{\"color\":\"red\",\"size\":10},\"showarrow\":false,\"text\":\"visceral\",\"x\":-0.1281728178253491,\"y\":0.65},{\"bgcolor\":\"rgba(255, 255, 255, 0.9)\",\"bordercolor\":\"red\",\"borderwidth\":1,\"font\":{\"color\":\"red\",\"size\":10},\"showarrow\":false,\"text\":\"dogmatic\",\"x\":-0.11821237067088053,\"y\":1.5},{\"bgcolor\":\"rgba(255, 255, 255, 0.9)\",\"bordercolor\":\"red\",\"borderwidth\":1,\"font\":{\"color\":\"red\",\"size\":10},\"showarrow\":false,\"text\":\"militant\",\"x\":-0.11668162913003849,\"y\":0.5},{\"bgcolor\":\"rgba(255, 255, 255, 0.9)\",\"bordercolor\":\"blue\",\"borderwidth\":1,\"font\":{\"color\":\"blue\",\"size\":10},\"showarrow\":false,\"text\":\"nonchalant\",\"x\":0.13069617351817928,\"y\":1.4},{\"bgcolor\":\"rgba(255, 255, 255, 0.9)\",\"bordercolor\":\"blue\",\"borderwidth\":1,\"font\":{\"color\":\"blue\",\"size\":10},\"showarrow\":false,\"text\":\"goofy\",\"x\":0.13178561286028917,\"y\":0.6},{\"bgcolor\":\"rgba(255, 255, 255, 0.9)\",\"bordercolor\":\"blue\",\"borderwidth\":1,\"font\":{\"color\":\"blue\",\"size\":10},\"showarrow\":false,\"text\":\"irreverent\",\"x\":0.13589587431372097,\"y\":1.65},{\"bgcolor\":\"rgba(255, 255, 255, 0.9)\",\"bordercolor\":\"blue\",\"borderwidth\":1,\"font\":{\"color\":\"blue\",\"size\":10},\"showarrow\":false,\"text\":\"divergent\",\"x\":0.13920181609242124,\"y\":0.35},{\"bgcolor\":\"rgba(255, 255, 255, 0.9)\",\"bordercolor\":\"blue\",\"borderwidth\":1,\"font\":{\"color\":\"blue\",\"size\":10},\"showarrow\":false,\"text\":\"strategic\",\"x\":0.14125854092874687,\"y\":1.3},{\"bgcolor\":\"rgba(255, 255, 255, 0.9)\",\"bordercolor\":\"blue\",\"borderwidth\":1,\"font\":{\"color\":\"blue\",\"size\":10},\"showarrow\":false,\"text\":\"exploratory\",\"x\":0.14300538484154743,\"y\":0.7},{\"bgcolor\":\"rgba(255, 255, 255, 0.9)\",\"bordercolor\":\"blue\",\"borderwidth\":1,\"font\":{\"color\":\"blue\",\"size\":10},\"showarrow\":false,\"text\":\"circumspect\",\"x\":0.16155961865559829,\"y\":1.58},{\"bgcolor\":\"rgba(255, 255, 255, 0.9)\",\"bordercolor\":\"blue\",\"borderwidth\":1,\"font\":{\"color\":\"blue\",\"size\":10},\"showarrow\":false,\"text\":\"wry\",\"x\":0.161839292529727,\"y\":0.42},{\"bgcolor\":\"rgba(255, 255, 255, 0.9)\",\"bordercolor\":\"blue\",\"borderwidth\":1,\"font\":{\"color\":\"blue\",\"size\":10},\"showarrow\":false,\"text\":\"witty\",\"x\":0.1673378886277129,\"y\":1.42},{\"bgcolor\":\"rgba(255, 255, 255, 0.9)\",\"bordercolor\":\"blue\",\"borderwidth\":1,\"font\":{\"color\":\"blue\",\"size\":10},\"showarrow\":false,\"text\":\"flippant\",\"x\":0.18483672183958338,\"y\":0.58},{\"bgcolor\":\"rgba(255, 255, 255, 0.9)\",\"bordercolor\":\"black\",\"borderwidth\":1,\"font\":{\"color\":\"black\",\"size\":10},\"showarrow\":false,\"text\":\"Assistant\",\"x\":-0.009559680277435392,\"y\":1.6}],\"shapes\":[{\"line\":{\"color\":\"gray\",\"dash\":\"solid\",\"width\":1},\"opacity\":0.7,\"type\":\"line\",\"x0\":0,\"x1\":0,\"xref\":\"x\",\"y0\":0,\"y1\":1,\"yref\":\"y domain\"},{\"line\":{\"color\":\"black\",\"dash\":\"dash\",\"width\":1},\"opacity\":1.0,\"type\":\"line\",\"x0\":-0.009559680277435392,\"x1\":-0.009559680277435392,\"xref\":\"x\",\"y0\":0,\"y1\":1,\"yref\":\"y domain\"}],\"title\":{\"subtitle\":{\"text\":\"Gemma 2 27B, Layer 34\"},\"font\":{\"size\":16},\"text\":\"PC5 Cosine Similarity with Assistant\",\"x\":0.5},\"height\":500,\"showlegend\":false,\"xaxis\":{\"title\":{\"text\":\"PC5 Cosine Similarity\"},\"range\":[-0.2812363241278599,0.2812363241278599]},\"yaxis\":{\"title\":{\"text\":\"\"},\"showticklabels\":false,\"range\":[0.25,1.75]}},                        {\"responsive\": true}                    ).then(function(){\n",
       "                            \n",
       "var gd = document.getElementById('34b1f96f-e380-42fe-a588-0bc9e2fb7d93');\n",
       "var x = new MutationObserver(function (mutations, observer) {{\n",
       "        var display = window.getComputedStyle(gd).display;\n",
       "        if (!display || display === 'none') {{\n",
       "            console.log([gd, 'removed!']);\n",
       "            Plotly.purge(gd);\n",
       "            observer.disconnect();\n",
       "        }}\n",
       "}});\n",
       "\n",
       "// Listen for the removal of the full notebook cells\n",
       "var notebookContainer = gd.closest('#notebook-container');\n",
       "if (notebookContainer) {{\n",
       "    x.observe(notebookContainer, {childList: true});\n",
       "}}\n",
       "\n",
       "// Listen for the clearing of the current output cell\n",
       "var outputEl = gd.closest('.output');\n",
       "if (outputEl) {{\n",
       "    x.observe(outputEl, {childList: true});\n",
       "}}\n",
       "\n",
       "                        })                };                });            </script>        </div>"
      ]
     },
     "metadata": {},
     "output_type": "display_data"
    }
   ],
   "source": [
    "for i in range(1, 5):\n",
    "    component = i  # PC1\n",
    "    fig_neg50_with_mean = plot_pca_cosine_similarity_with_mean(\n",
    "        pca_transformed=pca_transformed_neg50,\n",
    "        trait_labels=filtered_pos_neg_50_traits,\n",
    "        mean_projected=mean_projected_neg50,\n",
    "        pc_component=component,\n",
    "        layer=layer,\n",
    "        color_threshold=0.0\n",
    "    )\n",
    "    fig_neg50_with_mean.show()\n",
    "    fig_neg50_with_mean.write_html(f\"./results/pc{component+1}_assistant.html\")"
   ]
  },
  {
   "cell_type": "markdown",
   "id": "sztg6vers7",
   "metadata": {},
   "source": [
    "## Default Assistant Activation"
   ]
  },
  {
   "cell_type": "code",
   "execution_count": null,
   "id": "vs4ayriptcr",
   "metadata": {},
   "outputs": [
    {
     "name": "stdout",
     "output_type": "stream",
     "text": [
      "Found 240 trait files to process\n"
     ]
    },
    {
     "name": "stderr",
     "output_type": "stream",
     "text": [
      "Loading trait activations:  29%|██▉       | 70/240 [00:03<00:07, 21.97it/s]\n"
     ]
    },
    {
     "ename": "KeyboardInterrupt",
     "evalue": "",
     "output_type": "error",
     "traceback": [
      "\u001b[31m---------------------------------------------------------------------------\u001b[39m",
      "\u001b[31mKeyboardInterrupt\u001b[39m                         Traceback (most recent call last)",
      "\u001b[36mCell\u001b[39m\u001b[36m \u001b[39m\u001b[32mIn[37]\u001b[39m\u001b[32m, line 74\u001b[39m\n\u001b[32m     71\u001b[39m     \u001b[38;5;28;01mreturn\u001b[39;00m mean_default_activation\n\u001b[32m     73\u001b[39m \u001b[38;5;66;03m# Execute the function\u001b[39;00m\n\u001b[32m---> \u001b[39m\u001b[32m74\u001b[39m mean_default_activation = \u001b[43mload_and_compute_mean_default_activation\u001b[49m\u001b[43m(\u001b[49m\u001b[43m)\u001b[49m\n",
      "\u001b[36mCell\u001b[39m\u001b[36m \u001b[39m\u001b[32mIn[37]\u001b[39m\u001b[32m, line 30\u001b[39m, in \u001b[36mload_and_compute_mean_default_activation\u001b[39m\u001b[34m()\u001b[39m\n\u001b[32m     27\u001b[39m \u001b[38;5;28;01mfor\u001b[39;00m trait_file \u001b[38;5;129;01min\u001b[39;00m tqdm(trait_files, desc=\u001b[33m\"\u001b[39m\u001b[33mLoading trait activations\u001b[39m\u001b[33m\"\u001b[39m):\n\u001b[32m     28\u001b[39m     \u001b[38;5;28;01mtry\u001b[39;00m:\n\u001b[32m     29\u001b[39m         \u001b[38;5;66;03m# Load the activation dictionary for this trait\u001b[39;00m\n\u001b[32m---> \u001b[39m\u001b[32m30\u001b[39m         activations = \u001b[43mtorch\u001b[49m\u001b[43m.\u001b[49m\u001b[43mload\u001b[49m\u001b[43m(\u001b[49m\u001b[43mtrait_file\u001b[49m\u001b[43m,\u001b[49m\u001b[43m \u001b[49m\u001b[43mmap_location\u001b[49m\u001b[43m=\u001b[49m\u001b[33;43m'\u001b[39;49m\u001b[33;43mcpu\u001b[39;49m\u001b[33;43m'\u001b[39;49m\u001b[43m)\u001b[49m\n\u001b[32m     32\u001b[39m         \u001b[38;5;66;03m# Extract default activations using the same logic as 5_vectors.py\u001b[39;00m\n\u001b[32m     33\u001b[39m         \u001b[38;5;28;01mfor\u001b[39;00m prompt_idx \u001b[38;5;129;01min\u001b[39;00m \u001b[38;5;28mrange\u001b[39m(\u001b[32m5\u001b[39m):  \u001b[38;5;66;03m# p0 to p4\u001b[39;00m\n",
      "\u001b[36mFile \u001b[39m\u001b[32m~/git/persona-subspace/.venv/lib/python3.13/site-packages/torch/serialization.py:1516\u001b[39m, in \u001b[36mload\u001b[39m\u001b[34m(f, map_location, pickle_module, weights_only, mmap, **pickle_load_args)\u001b[39m\n\u001b[32m   1514\u001b[39m \u001b[38;5;28;01mif\u001b[39;00m weights_only:\n\u001b[32m   1515\u001b[39m     \u001b[38;5;28;01mtry\u001b[39;00m:\n\u001b[32m-> \u001b[39m\u001b[32m1516\u001b[39m         \u001b[38;5;28;01mreturn\u001b[39;00m \u001b[43m_load\u001b[49m\u001b[43m(\u001b[49m\n\u001b[32m   1517\u001b[39m \u001b[43m            \u001b[49m\u001b[43mopened_zipfile\u001b[49m\u001b[43m,\u001b[49m\n\u001b[32m   1518\u001b[39m \u001b[43m            \u001b[49m\u001b[43mmap_location\u001b[49m\u001b[43m,\u001b[49m\n\u001b[32m   1519\u001b[39m \u001b[43m            \u001b[49m\u001b[43m_weights_only_unpickler\u001b[49m\u001b[43m,\u001b[49m\n\u001b[32m   1520\u001b[39m \u001b[43m            \u001b[49m\u001b[43moverall_storage\u001b[49m\u001b[43m=\u001b[49m\u001b[43moverall_storage\u001b[49m\u001b[43m,\u001b[49m\n\u001b[32m   1521\u001b[39m \u001b[43m            \u001b[49m\u001b[43m*\u001b[49m\u001b[43m*\u001b[49m\u001b[43mpickle_load_args\u001b[49m\u001b[43m,\u001b[49m\n\u001b[32m   1522\u001b[39m \u001b[43m        \u001b[49m\u001b[43m)\u001b[49m\n\u001b[32m   1523\u001b[39m     \u001b[38;5;28;01mexcept\u001b[39;00m pickle.UnpicklingError \u001b[38;5;28;01mas\u001b[39;00m e:\n\u001b[32m   1524\u001b[39m         \u001b[38;5;28;01mraise\u001b[39;00m pickle.UnpicklingError(_get_wo_message(\u001b[38;5;28mstr\u001b[39m(e))) \u001b[38;5;28;01mfrom\u001b[39;00m\u001b[38;5;250m \u001b[39m\u001b[38;5;28;01mNone\u001b[39;00m\n",
      "\u001b[36mFile \u001b[39m\u001b[32m~/git/persona-subspace/.venv/lib/python3.13/site-packages/torch/serialization.py:2114\u001b[39m, in \u001b[36m_load\u001b[39m\u001b[34m(zip_file, map_location, pickle_module, pickle_file, overall_storage, **pickle_load_args)\u001b[39m\n\u001b[32m   2112\u001b[39m \u001b[38;5;28;01mglobal\u001b[39;00m _serialization_tls\n\u001b[32m   2113\u001b[39m _serialization_tls.map_location = map_location\n\u001b[32m-> \u001b[39m\u001b[32m2114\u001b[39m result = \u001b[43munpickler\u001b[49m\u001b[43m.\u001b[49m\u001b[43mload\u001b[49m\u001b[43m(\u001b[49m\u001b[43m)\u001b[49m\n\u001b[32m   2115\u001b[39m _serialization_tls.map_location = \u001b[38;5;28;01mNone\u001b[39;00m\n\u001b[32m   2117\u001b[39m torch._utils._validate_loaded_sparse_tensors()\n",
      "\u001b[36mFile \u001b[39m\u001b[32m~/git/persona-subspace/.venv/lib/python3.13/site-packages/torch/_weights_only_unpickler.py:409\u001b[39m, in \u001b[36mUnpickler.load\u001b[39m\u001b[34m(self)\u001b[39m\n\u001b[32m    402\u001b[39m \u001b[38;5;28;01mif\u001b[39;00m (\n\u001b[32m    403\u001b[39m     func \u001b[38;5;129;01mnot\u001b[39;00m \u001b[38;5;129;01min\u001b[39;00m _get_allowed_globals().values()\n\u001b[32m    404\u001b[39m     \u001b[38;5;129;01mand\u001b[39;00m func \u001b[38;5;129;01mnot\u001b[39;00m \u001b[38;5;129;01min\u001b[39;00m _get_user_allowed_globals().values()\n\u001b[32m    405\u001b[39m ):\n\u001b[32m    406\u001b[39m     \u001b[38;5;28;01mraise\u001b[39;00m UnpicklingError(\n\u001b[32m    407\u001b[39m         \u001b[33mf\u001b[39m\u001b[33m\"\u001b[39m\u001b[33mTrying to call reduce for unrecognized function \u001b[39m\u001b[38;5;132;01m{\u001b[39;00mfunc\u001b[38;5;132;01m}\u001b[39;00m\u001b[33m\"\u001b[39m\n\u001b[32m    408\u001b[39m     )\n\u001b[32m--> \u001b[39m\u001b[32m409\u001b[39m result = \u001b[43mfunc\u001b[49m\u001b[43m(\u001b[49m\u001b[43m*\u001b[49m\u001b[43margs\u001b[49m\u001b[43m)\u001b[49m\n\u001b[32m    410\u001b[39m \u001b[38;5;28;01mif\u001b[39;00m func \u001b[38;5;129;01min\u001b[39;00m torch._tensor_classes \u001b[38;5;129;01mand\u001b[39;00m \u001b[33m\"\u001b[39m\u001b[33msparse\u001b[39m\u001b[33m\"\u001b[39m \u001b[38;5;129;01min\u001b[39;00m func.\u001b[34m__module__\u001b[39m:\n\u001b[32m    411\u001b[39m     _sparse_tensors_to_validate.append(result)\n",
      "\u001b[36mFile \u001b[39m\u001b[32m~/git/persona-subspace/.venv/lib/python3.13/site-packages/torch/_utils.py:235\u001b[39m, in \u001b[36m_rebuild_tensor_v2\u001b[39m\u001b[34m(storage, storage_offset, size, stride, requires_grad, backward_hooks, metadata)\u001b[39m\n\u001b[32m    230\u001b[39m \u001b[38;5;66;03m# NB: This line exists only for backwards compatibility; the\u001b[39;00m\n\u001b[32m    231\u001b[39m \u001b[38;5;66;03m# general expectation is that backward_hooks is an empty\u001b[39;00m\n\u001b[32m    232\u001b[39m \u001b[38;5;66;03m# OrderedDict.  See Note [Don't serialize hooks]\u001b[39;00m\n\u001b[32m    233\u001b[39m tensor._backward_hooks = backward_hooks\n\u001b[32m--> \u001b[39m\u001b[32m235\u001b[39m tensor = \u001b[43m_restore_device_fake_mode\u001b[49m\u001b[43m(\u001b[49m\u001b[43mtensor\u001b[49m\u001b[43m)\u001b[49m\n\u001b[32m    236\u001b[39m \u001b[38;5;28;01mreturn\u001b[39;00m tensor\n",
      "\u001b[36mFile \u001b[39m\u001b[32m~/git/persona-subspace/.venv/lib/python3.13/site-packages/torch/_utils.py:206\u001b[39m, in \u001b[36m_restore_device_fake_mode\u001b[39m\u001b[34m(tensor)\u001b[39m\n\u001b[32m    202\u001b[39m     \u001b[38;5;28;01massert\u001b[39;00m \u001b[38;5;28misinstance\u001b[39m(tensor, torch.Tensor)\n\u001b[32m    203\u001b[39m     torch._C._set_tensor_metadata(tensor, metadata)  \u001b[38;5;66;03m# type: ignore[attr-defined]\u001b[39;00m\n\u001b[32m--> \u001b[39m\u001b[32m206\u001b[39m \u001b[38;5;28;01mdef\u001b[39;00m\u001b[38;5;250m \u001b[39m\u001b[34m_restore_device_fake_mode\u001b[39m(tensor):\n\u001b[32m    207\u001b[39m     \u001b[38;5;28;01mif\u001b[39;00m torch._guards.detect_fake_mode(\u001b[38;5;28;01mNone\u001b[39;00m) \u001b[38;5;129;01mis\u001b[39;00m \u001b[38;5;129;01mnot\u001b[39;00m \u001b[38;5;28;01mNone\u001b[39;00m:\n\u001b[32m    208\u001b[39m         \u001b[38;5;28;01mif\u001b[39;00m tensor.untyped_storage()._fake_device \u001b[38;5;129;01mis\u001b[39;00m \u001b[38;5;129;01mnot\u001b[39;00m \u001b[38;5;28;01mNone\u001b[39;00m:\n",
      "\u001b[31mKeyboardInterrupt\u001b[39m: "
     ]
    }
   ],
   "source": [
    "def load_and_compute_mean_default_activation():\n",
    "    \"\"\"\n",
    "    Load all trait activations and compute the mean default assistant activation.\n",
    "    \n",
    "    This function:\n",
    "    1. Loads all .pt files from data/response_activations/\n",
    "    2. Extracts all activations with keys matching default_p{prompt_idx}_q{question_idx}\n",
    "    3. Computes the mean across all traits and all default samples\n",
    "    4. Returns a tensor of shape (num_layers, hidden_dim) = (46, 4608)\n",
    "    5. Saves the result as data/default_activation.pt\n",
    "    \n",
    "    Returns:\n",
    "        torch.Tensor: Mean default activation tensor of shape (46, 4608)\n",
    "    \"\"\"\n",
    "    \n",
    "    # Directory containing response activations\n",
    "    activations_dir = Path(\"data/response_activations\")\n",
    "    \n",
    "    # Get list of all trait files\n",
    "    trait_files = list(activations_dir.glob(\"*.pt\"))\n",
    "    print(f\"Found {len(trait_files)} trait files to process\")\n",
    "    \n",
    "    # Collect all default activations\n",
    "    all_default_activations = []\n",
    "    \n",
    "    # Process each trait file\n",
    "    for trait_file in tqdm(trait_files, desc=\"Loading trait activations\"):\n",
    "        try:\n",
    "            # Load the activation dictionary for this trait\n",
    "            activations = torch.load(trait_file, map_location='cpu')\n",
    "            \n",
    "            # Extract default activations using the same logic as 5_vectors.py\n",
    "            for prompt_idx in range(5):  # p0 to p4\n",
    "                for question_idx in range(20):  # q0 to q19\n",
    "                    default_key = f\"default_p{prompt_idx}_q{question_idx}\"\n",
    "                    \n",
    "                    if default_key in activations:\n",
    "                        activation_tensor = activations[default_key]\n",
    "                        all_default_activations.append(activation_tensor)\n",
    "            \n",
    "        except Exception as e:\n",
    "            print(f\"Error loading {trait_file.name}: {e}\")\n",
    "            continue\n",
    "    \n",
    "    print(f\"Collected {len(all_default_activations)} default activation tensors\")\n",
    "    \n",
    "    if not all_default_activations:\n",
    "        raise ValueError(\"No default activations found!\")\n",
    "    \n",
    "    # Stack all activations and compute mean\n",
    "    # Each activation tensor has shape (46, 4608)\n",
    "    stacked_activations = torch.stack(all_default_activations)\n",
    "    print(f\"Stacked activations shape: {stacked_activations.shape}\")\n",
    "    \n",
    "    # Compute mean across all samples (first dimension)\n",
    "    mean_default_activation = stacked_activations.mean(dim=0)\n",
    "    print(f\"Mean default activation shape: {mean_default_activation.shape}\")\n",
    "    \n",
    "    # Save the result\n",
    "    output_path = \"data/default_activation.pt\"\n",
    "    torch.save(mean_default_activation, output_path)\n",
    "    print(f\"Saved mean default activation to {output_path}\")\n",
    "    \n",
    "    # Print some summary statistics\n",
    "    print(f\"\\nSummary statistics:\")\n",
    "    print(f\"  Mean activation magnitude: {mean_default_activation.abs().mean():.6f}\")\n",
    "    print(f\"  Standard deviation: {mean_default_activation.std():.6f}\")\n",
    "    print(f\"  Min value: {mean_default_activation.min():.6f}\")\n",
    "    print(f\"  Max value: {mean_default_activation.max():.6f}\")\n",
    "    \n",
    "    return mean_default_activation\n",
    "\n"
   ]
  },
  {
   "cell_type": "code",
   "execution_count": 43,
   "id": "xhy1am4tjia",
   "metadata": {},
   "outputs": [],
   "source": [
    "def project_mean_activation(pca, scaler, layer):\n",
    "    \"\"\"\n",
    "    Project the mean default activation into the PCA space.\n",
    "    \n",
    "    Parameters:\n",
    "    - pca: Fitted PCA object from compute_pca()\n",
    "    - scaler: Fitted StandardScaler object from compute_pca()  \n",
    "    - layer: Layer number to extract from mean activation\n",
    "    \n",
    "    Returns:\n",
    "    - mean_projected: Mean activation projected into PCA space\n",
    "    \"\"\"\n",
    "    # Load the mean default activation\n",
    "    mean_activation_path = \"data/default_activation.pt\"\n",
    "    mean_default_activation = torch.load(mean_activation_path, map_location='cpu')\n",
    "    \n",
    "    print(f\"Loaded mean default activation with shape: {mean_default_activation.shape}\")\n",
    "    \n",
    "    # Extract the same layer used for trait vectors\n",
    "    mean_layer_activation = mean_default_activation[layer, :].float().numpy().reshape(1, -1)\n",
    "    print(f\"Extracted layer {layer} activation with shape: {mean_layer_activation.shape}\")\n",
    "    \n",
    "    # Apply the same preprocessing (standardization) used for trait vectors\n",
    "    mean_scaled = scaler.transform(mean_layer_activation)\n",
    "    \n",
    "    # Project into PCA space\n",
    "    mean_projected = pca.transform(mean_scaled)\n",
    "    \n",
    "    print(f\"Mean activation projected to PCA space with shape: {mean_projected.shape}\")\n",
    "    print(f\"First 3 PC coordinates: [{mean_projected[0, 0]:.3f}, {mean_projected[0, 1]:.3f}, {mean_projected[0, 2]:.3f}]\")\n",
    "    \n",
    "    return mean_projected[0]  # Return as 1D array"
   ]
  },
  {
   "cell_type": "code",
   "execution_count": 45,
   "id": "phhfrlq8zl",
   "metadata": {},
   "outputs": [],
   "source": [
    "def plot_pca_cosine_similarity_with_mean(pca_transformed, trait_labels, mean_projected, \n",
    "                                        pc_component=0, layer=None, reference_point=None, \n",
    "                                        color_threshold=0.0, use_mean_as_reference=False):\n",
    "    \"\"\"\n",
    "    Create a plot similar to the PC1 Cosine Similarity visualization, but with the mean assistant activation included.\n",
    "    \n",
    "    Parameters:\n",
    "    - pca_transformed: PCA-transformed data (n_samples, n_components)\n",
    "    - trait_labels: List of labels for each data point\n",
    "    - mean_projected: Mean assistant activation projected into PCA space\n",
    "    - pc_component: Which PC component to use (0-indexed, so PC1 = 0)\n",
    "    - layer: Layer number for title\n",
    "    - reference_point: Reference point for cosine similarity calculation \n",
    "    - color_threshold: Threshold for coloring points (default: 0.0)\n",
    "    - use_mean_as_reference: If True, calculate cosine similarity relative to mean activation\n",
    "    \n",
    "    Returns:\n",
    "    - Plotly figure object\n",
    "    \"\"\"\n",
    "    \n",
    "    # Extract the specified PC component\n",
    "    pc_values = pca_transformed[:, pc_component]\n",
    "    mean_pc_value = mean_projected[pc_component]\n",
    "    \n",
    "    # Calculate cosine similarities\n",
    "    if use_mean_as_reference:\n",
    "        # Use mean activation as reference point\n",
    "        cosine_sims = cosine_similarity(pca_transformed, mean_projected.reshape(1, -1)).flatten()\n",
    "        mean_cosine_sim = 1.0  # Perfect similarity with itself\n",
    "      \n",
    "    elif reference_point is not None:\n",
    "        # Calculate cosine similarity with a specific reference point\n",
    "        cosine_sims = cosine_similarity(pca_transformed, reference_point.reshape(1, -1)).flatten()\n",
    "        mean_cosine_sim = cosine_similarity(mean_projected.reshape(1, -1), reference_point.reshape(1, -1))[0, 0]\n",
    "\n",
    "    else:\n",
    "        # Use the PC component direction as reference\n",
    "        cosine_sims = pc_values / np.linalg.norm(pc_values)  # Normalized PC values\n",
    "        mean_cosine_sim = mean_pc_value / np.linalg.norm(np.concatenate([pc_values, [mean_pc_value]]))\n",
    "\n",
    "    \n",
    "    # Create colors based on threshold\n",
    "    colors = ['red' if sim < color_threshold else 'blue' for sim in cosine_sims]\n",
    "    \n",
    "    # Identify extreme traits (10 lowest and 10 highest)\n",
    "    sorted_indices = np.argsort(cosine_sims)\n",
    "    low_extreme_indices = sorted_indices[:10]\n",
    "    high_extreme_indices = sorted_indices[-10:]\n",
    "    extreme_indices = set(list(low_extreme_indices) + list(high_extreme_indices))\n",
    "    \n",
    "    # Create single figure (no subplots)\n",
    "    fig = go.Figure()\n",
    "    \n",
    "    # Split points into regular and extreme for different display modes\n",
    "    regular_x, regular_y, regular_colors, regular_labels = [], [], [], []\n",
    "    extreme_x, extreme_y, extreme_colors, extreme_labels = [], [], [], []\n",
    "    \n",
    "    for i, (sim, color, label) in enumerate(zip(cosine_sims, colors, trait_labels)):\n",
    "        if i in extreme_indices:\n",
    "            extreme_x.append(sim)\n",
    "            extreme_y.append(1)\n",
    "            extreme_colors.append(color)\n",
    "            extreme_labels.append(label)\n",
    "        else:\n",
    "            regular_x.append(sim)\n",
    "            regular_y.append(1)\n",
    "            regular_colors.append(color)\n",
    "            regular_labels.append(label)\n",
    "    \n",
    "    # Add regular points (hover labels only)\n",
    "    if regular_x:\n",
    "        fig.add_trace(\n",
    "            go.Scatter(\n",
    "                x=regular_x,\n",
    "                y=regular_y,\n",
    "                mode='markers',\n",
    "                marker=dict(\n",
    "                    color=regular_colors,\n",
    "                    size=8,\n",
    "                    opacity=0.7\n",
    "                ),\n",
    "                text=regular_labels,\n",
    "                showlegend=False,\n",
    "                hovertemplate='<b>%{text}</b><br>Cosine Similarity: %{x:.3f}<extra></extra>'\n",
    "            )\n",
    "        )\n",
    "    \n",
    "    # Add extreme points with visible labels and leader lines\n",
    "    if extreme_x:\n",
    "        fig.add_trace(\n",
    "            go.Scatter(\n",
    "                x=extreme_x,\n",
    "                y=extreme_y,\n",
    "                mode='markers',\n",
    "                marker=dict(\n",
    "                    color=extreme_colors,\n",
    "                    size=8,\n",
    "                    opacity=0.9\n",
    "                ),\n",
    "                text=extreme_labels,\n",
    "                showlegend=False,\n",
    "                hovertemplate='<b>%{text}</b><br>Cosine Similarity: %{x:.3f}<extra></extra>'\n",
    "            )\n",
    "        )\n",
    "        \n",
    "        # Add labels for extreme points (same logic as original)\n",
    "        high_positions = [1.6, 1.45, 1.55, 1.35, 1.5, 1.4, 1.65, 1.3, 1.58, 1.42]\n",
    "        low_positions = [0.4, 0.55, 0.45, 0.65, 0.5, 0.6, 0.35, 0.7, 0.42, 0.58]\n",
    "        all_y_positions = []\n",
    "        for i in range(10):\n",
    "            all_y_positions.extend([high_positions[i], low_positions[i]])\n",
    "        \n",
    "        # Handle low extremes\n",
    "        for i, idx in enumerate(low_extreme_indices):\n",
    "            x_pos = cosine_sims[idx]\n",
    "            label = trait_labels[idx]\n",
    "            color = colors[idx]\n",
    "            y_label = all_y_positions[i]\n",
    "            \n",
    "            fig.add_trace(\n",
    "                go.Scatter(\n",
    "                    x=[x_pos, x_pos],\n",
    "                    y=[1.0, y_label],\n",
    "                    mode='lines',\n",
    "                    line=dict(color=color, width=1),\n",
    "                    showlegend=False,\n",
    "                    hoverinfo='skip'\n",
    "                )\n",
    "            )\n",
    "            \n",
    "            fig.add_annotation(\n",
    "                x=x_pos,\n",
    "                y=y_label,\n",
    "                text=label,\n",
    "                showarrow=False,\n",
    "                font=dict(size=10, color=color),\n",
    "                bgcolor=\"rgba(255, 255, 255, 0.9)\",\n",
    "                bordercolor=color,\n",
    "                borderwidth=1\n",
    "            )\n",
    "        \n",
    "        # Handle high extremes\n",
    "        for i, idx in enumerate(high_extreme_indices):\n",
    "            x_pos = cosine_sims[idx]\n",
    "            label = trait_labels[idx]\n",
    "            color = colors[idx]\n",
    "            y_label = all_y_positions[i + 10]\n",
    "            \n",
    "            fig.add_trace(\n",
    "                go.Scatter(\n",
    "                    x=[x_pos, x_pos],\n",
    "                    y=[1.0, y_label],\n",
    "                    mode='lines',\n",
    "                    line=dict(color=color, width=1),\n",
    "                    showlegend=False,\n",
    "                    hoverinfo='skip'\n",
    "                )\n",
    "            )\n",
    "            \n",
    "            fig.add_annotation(\n",
    "                x=x_pos,\n",
    "                y=y_label,\n",
    "                text=label,\n",
    "                showarrow=False,\n",
    "                font=dict(size=10, color=color),\n",
    "                bgcolor=\"rgba(255, 255, 255, 0.9)\",\n",
    "                bordercolor=color,\n",
    "                borderwidth=1\n",
    "            )\n",
    "    \n",
    "    # Add vertical line at x=0\n",
    "    fig.add_vline(x=0, line_dash=\"solid\", line_color=\"gray\", line_width=1, opacity=0.7)\n",
    "    \n",
    "    # Add black dashed vertical line for assistant position\n",
    "    fig.add_vline(x=mean_cosine_sim, line_dash=\"dash\", line_color=\"black\", line_width=1, opacity=1.0)\n",
    "    \n",
    "    # Add Assistant label at same height as extremes\n",
    "    assistant_y_position = 1.6  # Same as first high position\n",
    "    fig.add_annotation(\n",
    "        x=mean_cosine_sim,\n",
    "        y=assistant_y_position,\n",
    "        text=\"Assistant\",\n",
    "        showarrow=False,\n",
    "        font=dict(size=10, color=\"black\"),\n",
    "        bgcolor=\"rgba(255, 255, 255, 0.9)\",\n",
    "        bordercolor=\"black\",\n",
    "        borderwidth=1\n",
    "    )\n",
    "    \n",
    "    # Update layout\n",
    "    fig.update_layout(\n",
    "        height=500,  # Reduced height since no subplot\n",
    "        title=dict(\n",
    "            text=f\"PC{pc_component+1} Cosine Similarity with Assistant\",\n",
    "            subtitle={\n",
    "                \"text\": f\"Gemma 2 27B, Layer {layer}\",\n",
    "            },\n",
    "            x=0.5,\n",
    "            font=dict(size=16)\n",
    "        ),\n",
    "        showlegend=False\n",
    "    )\n",
    "    \n",
    "    # Calculate symmetric range that includes mean\n",
    "    all_values = list(cosine_sims) + [mean_cosine_sim]\n",
    "    max_abs_value = max(abs(min(all_values)), abs(max(all_values)))\n",
    "    x_half_width = max_abs_value * 1.1\n",
    "    \n",
    "    # Update x-axis\n",
    "    fig.update_xaxes(\n",
    "        title_text=f\"PC{pc_component+1} Cosine Similarity\",\n",
    "        range=[-x_half_width, x_half_width]\n",
    "    )\n",
    "    \n",
    "    # Update y-axis\n",
    "    fig.update_yaxes(\n",
    "        title_text=\"\",\n",
    "        showticklabels=False,\n",
    "        range=[0.25, 1.75]  # Standard range for labels\n",
    "    )\n",
    "    \n",
    "    return fig"
   ]
  },
  {
   "cell_type": "code",
   "execution_count": 46,
   "id": "lbx27clolu",
   "metadata": {},
   "outputs": [],
   "source": [
    "def plot_3d_pca_with_mean(pca_transformed, variance_explained, trait_labels, mean_projected, layer):\n",
    "    \"\"\"\n",
    "    Create a 3D scatter plot of trait vectors in PCA space, including the mean assistant activation.\n",
    "    \n",
    "    Parameters:\n",
    "    - pca_transformed: PCA-transformed trait data (n_samples, n_components)\n",
    "    - variance_explained: Explained variance ratio from PCA\n",
    "    - trait_labels: List of trait labels\n",
    "    - mean_projected: Mean assistant activation projected into PCA space\n",
    "    - layer: Layer number for title\n",
    "    \"\"\"\n",
    "    \n",
    "    # Create 3D scatter plot with trait vectors\n",
    "    fig_3d = go.Figure()\n",
    "    \n",
    "    # Add trait vectors\n",
    "    fig_3d.add_trace(go.Scatter3d(\n",
    "        x=pca_transformed[:, 0],\n",
    "        y=pca_transformed[:, 1], \n",
    "        z=pca_transformed[:, 2],\n",
    "        mode='markers+text',\n",
    "        text=trait_labels,\n",
    "        textposition='top center',\n",
    "        textfont=dict(size=6),\n",
    "        marker=dict(\n",
    "            size=3,\n",
    "            color='blue',\n",
    "            line=dict(width=1, color='darkblue'),\n",
    "            opacity=0.7\n",
    "        ),\n",
    "        showlegend=False,\n",
    "        hovertemplate='<b>%{text}</b><br>' +\n",
    "                    f'PC1: %{{x:.3f}}<br>' +\n",
    "                    f'PC2: %{{y:.3f}}<br>' +\n",
    "                    f'PC3: %{{z:.3f}}<br>' +\n",
    "                    '<extra></extra>'\n",
    "    ))\n",
    "    \n",
    "    # Add mean assistant activation as simple red dot\n",
    "    fig_3d.add_trace(go.Scatter3d(\n",
    "        x=[mean_projected[0]],\n",
    "        y=[mean_projected[1]],\n",
    "        z=[mean_projected[2]],\n",
    "        mode='markers+text',\n",
    "        text=['Assistant'],\n",
    "        textposition='top center',\n",
    "        textfont=dict(size=8, color='black'),\n",
    "        marker=dict(\n",
    "            size=5,  # 2 sizes bigger than trait dots (3 -> 5)\n",
    "            color='red',\n",
    "            opacity=1.0\n",
    "        ),\n",
    "        showlegend=False,\n",
    "        hovertemplate='<b>Assistant</b><br>' +\n",
    "                    f'PC1: %{{x:.3f}}<br>' +\n",
    "                    f'PC2: %{{y:.3f}}<br>' +\n",
    "                    f'PC3: %{{z:.3f}}<br>' +\n",
    "                    '<extra></extra>'\n",
    "    ))\n",
    "    \n",
    "    fig_3d.update_layout(\n",
    "        title={\n",
    "            \"text\": f'Trait Vectors in Principal Component Space with Assistant',\n",
    "            \"subtitle\": {\n",
    "                \"text\": f\"Gemma 2 27B, Layer {layer}\",\n",
    "            },\n",
    "        },\n",
    "        scene=dict(\n",
    "            xaxis_title=f'PC1 ({variance_explained[0]*100:.1f}%)',\n",
    "            yaxis_title=f'PC2 ({variance_explained[1]*100:.1f}%)',\n",
    "            zaxis_title=f'PC3 ({variance_explained[2]*100:.1f}%)',\n",
    "            camera=dict(\n",
    "                eye=dict(x=1.5, y=1.5, z=1.5)\n",
    "            )\n",
    "        ),\n",
    "        width=1000,\n",
    "        height=800,\n",
    "        showlegend=False\n",
    "    )\n",
    "    \n",
    "    # Print some statistics about the mean assistant position\n",
    "    print(f\"\\nAssistant Position in PCA Space:\")\n",
    "    print(f\"  PC1: {mean_projected[0]:.3f}\")\n",
    "    print(f\"  PC2: {mean_projected[1]:.3f}\")  \n",
    "    print(f\"  PC3: {mean_projected[2]:.3f}\")\n",
    "    print(f\"  Distance from origin: {np.linalg.norm(mean_projected[:3]):.3f}\")\n",
    "    \n",
    "    # Calculate distances from mean assistant to all traits\n",
    "    distances = np.linalg.norm(pca_transformed[:, :3] - mean_projected[:3], axis=1)\n",
    "    closest_idx = np.argmin(distances)\n",
    "    furthest_idx = np.argmax(distances)\n",
    "    \n",
    "    print(f\"\\nTraits relative to Assistant:\")\n",
    "    print(f\"  Closest trait: {trait_labels[closest_idx]} (distance: {distances[closest_idx]:.3f})\")\n",
    "    print(f\"  Furthest trait: {trait_labels[furthest_idx]} (distance: {distances[furthest_idx]:.3f})\")\n",
    "    print(f\"  Mean distance: {distances.mean():.3f}\")\n",
    "    print(f\"  Std distance: {distances.std():.3f}\")\n",
    "    \n",
    "    fig_3d.show()\n",
    "    fig_3d.write_html(f\"./results/pca_3d_assistant.html\")\n",
    "    \n",
    "    return fig_3d"
   ]
  }
 ],
 "metadata": {
  "kernelspec": {
   "display_name": ".venv",
   "language": "python",
   "name": "python3"
  },
  "language_info": {
   "codemirror_mode": {
    "name": "ipython",
    "version": 3
   },
   "file_extension": ".py",
   "mimetype": "text/x-python",
   "name": "python",
   "nbconvert_exporter": "python",
   "pygments_lexer": "ipython3",
   "version": "3.13.5"
  }
 },
 "nbformat": 4,
 "nbformat_minor": 5
}
