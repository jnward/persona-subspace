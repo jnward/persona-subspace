{
 "cells": [
  {
   "cell_type": "markdown",
   "id": "28531137",
   "metadata": {},
   "source": [
    "# Analyze scores for each trait"
   ]
  },
  {
   "cell_type": "code",
   "execution_count": 2,
   "id": "30f3bcdd",
   "metadata": {
    "execution": {
     "iopub.execute_input": "2025-08-06T00:18:08.842015Z",
     "iopub.status.busy": "2025-08-06T00:18:08.841387Z",
     "iopub.status.idle": "2025-08-06T00:18:09.171163Z",
     "shell.execute_reply": "2025-08-06T00:18:09.170519Z"
    }
   },
   "outputs": [],
   "source": [
    "import json\n",
    "import os\n",
    "import torch\n",
    "import numpy as np\n",
    "import pandas as pd\n",
    "import plotly.graph_objects as go\n",
    "import plotly.subplots as sp\n",
    "from sklearn.decomposition import PCA\n",
    "from sklearn.preprocessing import StandardScaler\n",
    "from sklearn.metrics.pairwise import cosine_similarity\n"
   ]
  },
  {
   "cell_type": "markdown",
   "id": "ce50bcb7",
   "metadata": {},
   "source": [
    "## Score statistics"
   ]
  },
  {
   "cell_type": "code",
   "execution_count": 3,
   "id": "411c5350",
   "metadata": {
    "execution": {
     "iopub.execute_input": "2025-08-06T00:18:09.175040Z",
     "iopub.status.busy": "2025-08-06T00:18:09.174845Z",
     "iopub.status.idle": "2025-08-06T00:18:09.200056Z",
     "shell.execute_reply": "2025-08-06T00:18:09.199491Z"
    }
   },
   "outputs": [
    {
     "name": "stdout",
     "output_type": "stream",
     "text": [
      "Found 240 traits with scores\n"
     ]
    }
   ],
   "source": [
    "# load data from data/extract_scores\n",
    "score_dir = \"/root/git/persona-subspace/traits/data/extract_scores\"\n",
    "\n",
    "# iterate through each json file in the directory\n",
    "scores = {}\n",
    "for file in os.listdir(score_dir):\n",
    "    if file.endswith(\".json\"):\n",
    "        with open(os.path.join(score_dir, file), \"r\") as f:\n",
    "            scores[file.replace(\".json\", \"\")] = json.load(f)\n",
    "\n",
    "print(f\"Found {len(scores.keys())} traits with scores\")\n"
   ]
  },
  {
   "cell_type": "code",
   "execution_count": 4,
   "id": "xn9eevi5y8h",
   "metadata": {
    "execution": {
     "iopub.execute_input": "2025-08-06T00:18:09.203182Z",
     "iopub.status.busy": "2025-08-06T00:18:09.203055Z",
     "iopub.status.idle": "2025-08-06T00:18:09.222862Z",
     "shell.execute_reply": "2025-08-06T00:18:09.222318Z"
    }
   },
   "outputs": [
    {
     "name": "stdout",
     "output_type": "stream",
     "text": [
      "Refusal Statistics:\n",
      "Total refusals across all traits: 4\n",
      "Traits with refusals: 4\n",
      "\n",
      "Top 10 traits with most refusals:\n",
      "  animated: 1 refusals - ['neg_p1_q7']\n",
      "  diplomatic: 1 refusals - ['neg_p2_q19']\n",
      "  generalist: 1 refusals - ['neg_p0_q4']\n",
      "  utilitarian: 1 refusals - ['default_p2_q13']\n"
     ]
    }
   ],
   "source": [
    "# Analyze refusals and clean data\n",
    "refusal_info = {}\n",
    "scores_clean = {}\n",
    "\n",
    "for trait, score_obj in scores.items():\n",
    "    refusals = []\n",
    "    cleaned_scores = {}\n",
    "    \n",
    "    # Check each score for refusals\n",
    "    for key, value in score_obj.items():\n",
    "        if value == \"REFUSAL\":\n",
    "            refusals.append(key)\n",
    "            cleaned_scores[key] = 0  # Replace refusals with NaN\n",
    "        else:\n",
    "            cleaned_scores[key] = float(value)  # Ensure numeric\n",
    "    \n",
    "    scores_clean[trait] = cleaned_scores\n",
    "    refusal_info[trait] = {\n",
    "        \"refusals\": refusals,\n",
    "        \"refusal_count\": len(refusals)\n",
    "    }\n",
    "\n",
    "# Show refusal statistics\n",
    "total_refusals = sum(info[\"refusal_count\"] for info in refusal_info.values())\n",
    "traits_with_refusals = sum(1 for info in refusal_info.values() if info[\"refusal_count\"] > 0)\n",
    "\n",
    "print(f\"Refusal Statistics:\")\n",
    "print(f\"Total refusals across all traits: {total_refusals}\")\n",
    "print(f\"Traits with refusals: {traits_with_refusals}\")\n",
    "\n",
    "if total_refusals > 0:\n",
    "    sorted_refusals = sorted(refusal_info.items(), key=lambda x: x[1][\"refusal_count\"], reverse=True)\n",
    "    print(f\"\\nTop 10 traits with most refusals:\")\n",
    "    for trait, info in sorted_refusals[:10]:\n",
    "        if info[\"refusal_count\"] > 0:\n",
    "            print(f\"  {trait}: {info['refusal_count']} refusals - {info['refusals']}\")"
   ]
  },
  {
   "cell_type": "code",
   "execution_count": 5,
   "id": "918944a8",
   "metadata": {
    "execution": {
     "iopub.execute_input": "2025-08-06T00:18:09.225377Z",
     "iopub.status.busy": "2025-08-06T00:18:09.225242Z",
     "iopub.status.idle": "2025-08-06T00:18:09.259886Z",
     "shell.execute_reply": "2025-08-06T00:18:09.259317Z"
    }
   },
   "outputs": [
    {
     "name": "stdout",
     "output_type": "stream",
     "text": [
      "Created numpy arrays for 240 traits\n",
      "Shape of each array: (3, 5, 20)\n",
      "Example (first trait): absolutist\n",
      "Pos scores for first 2 prompts, 5 questions:\n",
      "[[ 0. 10. 10. 10.  0.]\n",
      " [ 0. 10.  0. 10.  0.]]\n",
      "Neg scores for first 2 prompts, 5 questions:\n",
      "[[ 0.  0.  0. 10.  0.]\n",
      " [ 0. 10.  0.  0.  0.]]\n"
     ]
    }
   ],
   "source": [
    "# Create numpy arrays using cleaned scores (refusals as NaN)\n",
    "# Structure: 3D tensor with shape (3 types, 5 prompts, 20 questions)\n",
    "scores_np = {}\n",
    "\n",
    "for trait, cleaned_scores in scores_clean.items():\n",
    "    # Create 3D array: [type, prompt, question]\n",
    "    scores_3d = np.full((3, 5, 20), np.nan)\n",
    "    \n",
    "    # Extract scores for each type, prompt, and question\n",
    "    for prompt_idx in range(5):\n",
    "        for question_idx in range(20):\n",
    "            # pos scores\n",
    "            pos_key = f\"pos_p{prompt_idx}_q{question_idx}\"\n",
    "            if pos_key in cleaned_scores:\n",
    "                scores_3d[0, prompt_idx, question_idx] = cleaned_scores[pos_key]\n",
    "            \n",
    "            # neg scores  \n",
    "            neg_key = f\"neg_p{prompt_idx}_q{question_idx}\"\n",
    "            if neg_key in cleaned_scores:\n",
    "                scores_3d[1, prompt_idx, question_idx] = cleaned_scores[neg_key]\n",
    "            \n",
    "            # default scores\n",
    "            default_key = f\"default_p{prompt_idx}_q{question_idx}\"\n",
    "            if default_key in cleaned_scores:\n",
    "                scores_3d[2, prompt_idx, question_idx] = cleaned_scores[default_key]\n",
    "    \n",
    "    scores_np[trait] = scores_3d\n",
    "\n",
    "print(f\"Created numpy arrays for {len(scores_np)} traits\")\n",
    "print(f\"Shape of each array: {next(iter(scores_np.values())).shape}\")\n",
    "print(f\"Example (first trait): {list(scores_np.keys())[0]}\")\n",
    "example_trait = list(scores_np.keys())[0]\n",
    "print(f\"Pos scores for first 2 prompts, 5 questions:\\n{scores_np[example_trait][0, :2, :5]}\")\n",
    "print(f\"Neg scores for first 2 prompts, 5 questions:\\n{scores_np[example_trait][1, :2, :5]}\")"
   ]
  },
  {
   "cell_type": "code",
   "execution_count": 6,
   "id": "3eab3243",
   "metadata": {
    "execution": {
     "iopub.execute_input": "2025-08-06T00:18:09.262430Z",
     "iopub.status.busy": "2025-08-06T00:18:09.262302Z",
     "iopub.status.idle": "2025-08-06T00:18:09.275196Z",
     "shell.execute_reply": "2025-08-06T00:18:09.274665Z"
    }
   },
   "outputs": [
    {
     "name": "stdout",
     "output_type": "stream",
     "text": [
      "Example statistics for 'absolutist':\n",
      "  pos_minus_neg_mean: 21.75\n",
      "  high_pos_low_neg_count: 25\n",
      "  large_diff_count: 25\n",
      "\n",
      "Calculated statistics for 240 traits\n",
      "\n",
      "High pos, low neg count distribution: min=0, max=100, mean=79.6\n",
      "Large diff count distribution: min=0, max=100, mean=79.4\n",
      "\n",
      "Exported statistics to pos_neg.csv\n",
      "Shape: (240, 3)\n"
     ]
    }
   ],
   "source": [
    "# Calculate simplified statistics for each trait\n",
    "stats = {}\n",
    "\n",
    "for trait, scores_3d in scores_np.items():\n",
    "    pos_scores = scores_3d[0]  # shape: (5, 20) \n",
    "    neg_scores = scores_3d[1]  # shape: (5, 20)\n",
    "    \n",
    "    # Mean difference between pos and neg across all samples\n",
    "    pos_minus_neg_mean = np.nanmean(pos_scores - neg_scores)\n",
    "    \n",
    "    # Count all pos/neg pairs with same prompt_index and question_index\n",
    "    high_pos_low_neg_count = 0\n",
    "    large_diff_count = 0\n",
    "    \n",
    "    # Check all 100 pairs (5 prompts × 20 questions)\n",
    "    for prompt_idx in range(5):\n",
    "        for question_idx in range(20):\n",
    "            pos_val = pos_scores[prompt_idx, question_idx]\n",
    "            neg_val = neg_scores[prompt_idx, question_idx]\n",
    "            \n",
    "            # Skip if either value is NaN\n",
    "            if not (np.isnan(pos_val) or np.isnan(neg_val)):\n",
    "                # Count high pos, low neg cases\n",
    "                if pos_val > 50 and neg_val < 50:\n",
    "                    high_pos_low_neg_count += 1\n",
    "                \n",
    "                # Count large difference cases  \n",
    "                if abs(pos_val - neg_val) > 40:\n",
    "                    large_diff_count += 1\n",
    "    \n",
    "    stats[trait] = {\n",
    "        \"pos_minus_neg_mean\": pos_minus_neg_mean,\n",
    "        \"high_pos_low_neg_count\": high_pos_low_neg_count,\n",
    "        \"large_diff_count\": large_diff_count\n",
    "    }\n",
    "\n",
    "# Show example statistics for first trait\n",
    "example_trait = list(stats.keys())[0]\n",
    "print(f\"Example statistics for '{example_trait}':\")\n",
    "for key, value in stats[example_trait].items():\n",
    "    if isinstance(value, float):\n",
    "        print(f\"  {key}: {value:.2f}\")\n",
    "    else:\n",
    "        print(f\"  {key}: {value}\")\n",
    "\n",
    "print(f\"\\nCalculated statistics for {len(stats)} traits\")\n",
    "\n",
    "# Show summary of counts\n",
    "high_pos_counts = [s[\"high_pos_low_neg_count\"] for s in stats.values()]\n",
    "large_diff_counts = [s[\"large_diff_count\"] for s in stats.values()]\n",
    "print(f\"\\nHigh pos, low neg count distribution: min={min(high_pos_counts)}, max={max(high_pos_counts)}, mean={np.mean(high_pos_counts):.1f}\")\n",
    "print(f\"Large diff count distribution: min={min(large_diff_counts)}, max={max(large_diff_counts)}, mean={np.mean(large_diff_counts):.1f}\")\n",
    "\n",
    "# Export to CSV\n",
    "stats_df = pd.DataFrame.from_dict(stats, orient='index')\n",
    "stats_df.index.name = 'trait'\n",
    "stats_df.to_csv('./results/pos_neg.csv')\n",
    "print(f\"\\nExported statistics to pos_neg.csv\")\n",
    "print(f\"Shape: {stats_df.shape}\")"
   ]
  },
  {
   "cell_type": "code",
   "execution_count": 7,
   "id": "cd408866",
   "metadata": {},
   "outputs": [
    {
     "name": "stdout",
     "output_type": "stream",
     "text": [
      "Example pos-default statistics for 'absolutist':\n",
      "  pos_minus_default_mean: 22.75\n",
      "  high_pos_low_default_count: 25\n",
      "  large_diff_count: 25\n",
      "\n",
      "Calculated pos-default statistics for 240 traits\n",
      "\n",
      "High pos, low default count distribution: min=0, max=100, mean=47.1\n",
      "Large diff count distribution: min=0, max=100, mean=46.8\n",
      "\n",
      "Exported pos-default statistics to pos_default.csv\n",
      "Shape: (240, 3)\n"
     ]
    }
   ],
   "source": [
    "# Calculate pos - default statistics similar to pos - neg\n",
    "pos_default_stats = {}\n",
    "\n",
    "for trait, scores_3d in scores_np.items():\n",
    "    pos_scores = scores_3d[0]      # shape: (5, 20) \n",
    "    default_scores = scores_3d[2]  # shape: (5, 20)\n",
    "    \n",
    "    # Mean difference between pos and default across all samples\n",
    "    pos_minus_default_mean = np.nanmean(pos_scores - default_scores)\n",
    "    \n",
    "    # Count all pos/default pairs with same prompt_index and question_index\n",
    "    high_pos_low_default_count = 0\n",
    "    large_diff_count = 0\n",
    "    \n",
    "    # Check all 100 pairs (5 prompts × 20 questions)\n",
    "    for prompt_idx in range(5):\n",
    "        for question_idx in range(20):\n",
    "            pos_val = pos_scores[prompt_idx, question_idx]\n",
    "            default_val = default_scores[prompt_idx, question_idx]\n",
    "            \n",
    "            # Skip if either value is NaN\n",
    "            if not (np.isnan(pos_val) or np.isnan(default_val)):\n",
    "                # Count high pos, low default cases\n",
    "                if pos_val > 50 and default_val < 50:\n",
    "                    high_pos_low_default_count += 1\n",
    "                \n",
    "                # Count large difference cases  \n",
    "                if abs(pos_val - default_val) > 40:\n",
    "                    large_diff_count += 1\n",
    "    \n",
    "    pos_default_stats[trait] = {\n",
    "        \"pos_minus_default_mean\": pos_minus_default_mean,\n",
    "        \"high_pos_low_default_count\": high_pos_low_default_count,\n",
    "        \"large_diff_count\": large_diff_count\n",
    "    }\n",
    "\n",
    "# Show example statistics for first trait\n",
    "example_trait = list(pos_default_stats.keys())[0]\n",
    "print(f\"Example pos-default statistics for '{example_trait}':\")\n",
    "for key, value in pos_default_stats[example_trait].items():\n",
    "    if isinstance(value, float):\n",
    "        print(f\"  {key}: {value:.2f}\")\n",
    "    else:\n",
    "        print(f\"  {key}: {value}\")\n",
    "\n",
    "print(f\"\\nCalculated pos-default statistics for {len(pos_default_stats)} traits\")\n",
    "\n",
    "# Show summary of counts\n",
    "high_pos_counts = [s[\"high_pos_low_default_count\"] for s in pos_default_stats.values()]\n",
    "large_diff_counts = [s[\"large_diff_count\"] for s in pos_default_stats.values()]\n",
    "print(f\"\\nHigh pos, low default count distribution: min={min(high_pos_counts)}, max={max(high_pos_counts)}, mean={np.mean(high_pos_counts):.1f}\")\n",
    "print(f\"Large diff count distribution: min={min(large_diff_counts)}, max={max(large_diff_counts)}, mean={np.mean(large_diff_counts):.1f}\")\n",
    "\n",
    "# Export to CSV\n",
    "pos_default_df = pd.DataFrame.from_dict(pos_default_stats, orient='index')\n",
    "pos_default_df.index.name = 'trait'\n",
    "pos_default_df.to_csv('./results/pos_default.csv')\n",
    "print(f\"\\nExported pos-default statistics to pos_default.csv\")\n",
    "print(f\"Shape: {pos_default_df.shape}\")"
   ]
  },
  {
   "cell_type": "markdown",
   "id": "c3e74288",
   "metadata": {},
   "source": [
    "## PCA"
   ]
  },
  {
   "cell_type": "code",
   "execution_count": 8,
   "id": "2c999546",
   "metadata": {},
   "outputs": [
    {
     "name": "stdout",
     "output_type": "stream",
     "text": [
      "Found 240 traits with vectors\n"
     ]
    }
   ],
   "source": [
    "# check vectors\n",
    "\n",
    "# load all vectors from data/vectors\n",
    "vector_dir = \"/root/git/persona-subspace/traits/data/vectors\"\n",
    "\n",
    "# iterate through each .pt file in the directory\n",
    "vectors = {}\n",
    "for file in os.listdir(vector_dir):\n",
    "    if file.endswith(\".pt\"):\n",
    "        vectors[file.replace(\".pt\", \"\")] = torch.load(os.path.join(vector_dir, file))\n",
    "\n",
    "print(f\"Found {len(vectors.keys())} traits with vectors\")"
   ]
  },
  {
   "cell_type": "code",
   "execution_count": 10,
   "id": "31965f44",
   "metadata": {},
   "outputs": [
    {
     "data": {
      "text/plain": [
       "torch.Size([46, 4608])"
      ]
     },
     "execution_count": 10,
     "metadata": {},
     "output_type": "execute_result"
    }
   ],
   "source": [
    "vectors['zealous']['pos_neg'].shape"
   ]
  },
  {
   "cell_type": "code",
   "execution_count": 9,
   "id": "5139afaa",
   "metadata": {},
   "outputs": [
    {
     "name": "stdout",
     "output_type": "stream",
     "text": [
      "240\n"
     ]
    }
   ],
   "source": [
    "layer = 34\n",
    "\n",
    "pos_neg = [vector['pos_neg'] for vector in vectors.values()]\n",
    "pos_neg_50 = [vector['pos_neg_50'] for vector in vectors.values()]\n",
    "pos_default = [vector['pos_default'] for vector in vectors.values()]\n",
    "pos_default_50 = [vector['pos_default_50'] for vector in vectors.values()]\n",
    "\n",
    "print(len(pos_neg))\n"
   ]
  },
  {
   "cell_type": "code",
   "execution_count": 10,
   "id": "5bc3dd72",
   "metadata": {},
   "outputs": [],
   "source": [
    "def compute_pca(activation_list, layer):\n",
    "    layer_activations = activation_list[:, layer, :]\n",
    "    \n",
    "    scaler = StandardScaler()\n",
    "    scaled_layer_activations = scaler.fit_transform(layer_activations)\n",
    "\n",
    "    pca = PCA()\n",
    "    pca_transformed = pca.fit_transform(scaled_layer_activations)\n",
    "\n",
    "    variance_explained = pca.explained_variance_ratio_\n",
    "    cumulative_variance = np.cumsum(variance_explained)\n",
    "    n_components = len(variance_explained)\n",
    "\n",
    "    print(f\"PCA fitted with {n_components} components\")\n",
    "    print(f\"Cumulative variance for first 5 components: {cumulative_variance[:5]}\")\n",
    "\n",
    "    # Find elbow using second derivative method\n",
    "    def find_elbow_point(variance_explained):\n",
    "        \"\"\"Find elbow point using second derivative method\"\"\"\n",
    "        # Calculate first and second derivatives\n",
    "        first_diff = np.diff(variance_explained)\n",
    "        second_diff = np.diff(first_diff) \n",
    "        \n",
    "        # Find point with maximum second derivative (most curvature)\n",
    "        elbow_idx = np.argmax(np.abs(second_diff)) + 1  # +1 to account for diff operations\n",
    "        return elbow_idx\n",
    "\n",
    "    elbow_point = find_elbow_point(variance_explained)\n",
    "    dims_70_pca = np.argmax(cumulative_variance >= 0.70) + 1\n",
    "    dims_80_pca = np.argmax(cumulative_variance >= 0.80) + 1\n",
    "    dims_90_pca = np.argmax(cumulative_variance >= 0.90) + 1\n",
    "    dims_95_pca = np.argmax(cumulative_variance >= 0.95) + 1\n",
    "\n",
    "    print(\"\\nPCA Analysis Results:\")\n",
    "    print(f\"Elbow point at component: {elbow_point + 1}\")\n",
    "    print(f\"Dimensions for 70% variance: {dims_70_pca}\")\n",
    "    print(f\"Dimensions for 80% variance: {dims_80_pca}\")\n",
    "    print(f\"Dimensions for 90% variance: {dims_90_pca}\")\n",
    "    print(f\"Dimensions for 95% variance: {dims_95_pca}\")\n",
    "\n",
    "    return pca_transformed, variance_explained, n_components "
   ]
  },
  {
   "cell_type": "code",
   "execution_count": 11,
   "id": "021f7f55",
   "metadata": {},
   "outputs": [],
   "source": [
    "def plot_pca_cosine_similarity(pca_transformed, trait_labels, pc_component=0, \n",
    "                             layer=None, reference_point=None, color_threshold=0.0):\n",
    "    \"\"\"\n",
    "    Create a plot similar to the PC1 Cosine Similarity visualization.\n",
    "    Shows labels on hover for most points, with visible labels and leader lines \n",
    "    for the 20 traits at either end of the range to avoid overlap.\n",
    "    \n",
    "    Parameters:\n",
    "    - pca_transformed: PCA-transformed data (n_samples, n_components)\n",
    "    - trait_labels: List of labels for each data point\n",
    "    - pc_component: Which PC component to use (0-indexed, so PC1 = 0)\n",
    "    - layer: Layer number for title\n",
    "    - reference_point: Reference point for cosine similarity calculation \n",
    "                      (if None, uses the PC component direction)\n",
    "    - color_threshold: Threshold for coloring points (default: 0.0)\n",
    "    \n",
    "    Returns:\n",
    "    - Plotly figure object\n",
    "    \"\"\"\n",
    "    \n",
    "    # Extract the specified PC component\n",
    "    pc_values = pca_transformed[:, pc_component]\n",
    "    \n",
    "    # Calculate cosine similarities\n",
    "    if reference_point is None:\n",
    "        # Use the PC component direction as reference\n",
    "        # This creates a \"cosine similarity with PC direction\" interpretation\n",
    "        cosine_sims = pc_values / np.linalg.norm(pc_values)  # Normalized PC values\n",
    "    else:\n",
    "        # Calculate cosine similarity with a specific reference point\n",
    "        cosine_sims = cosine_similarity(pca_transformed, reference_point.reshape(1, -1)).flatten()\n",
    "    \n",
    "    # Create colors based on threshold\n",
    "    colors = ['red' if sim < color_threshold else 'blue' for sim in cosine_sims]\n",
    "    \n",
    "    # Identify extreme traits (10 lowest and 10 highest)\n",
    "    sorted_indices = np.argsort(cosine_sims)\n",
    "    low_extreme_indices = sorted_indices[:10]\n",
    "    high_extreme_indices = sorted_indices[-10:]\n",
    "    extreme_indices = set(list(low_extreme_indices) + list(high_extreme_indices))\n",
    "    \n",
    "    # Create subplot figure\n",
    "    fig = sp.make_subplots(\n",
    "        rows=2, cols=1,\n",
    "        row_heights=[0.6, 0.4],\n",
    "        vertical_spacing=0.1,\n",
    "        subplot_titles=[\n",
    "            f'PC{pc_component+1} Cosine Similarity',\n",
    "            'Trait Frequency Distribution'\n",
    "        ]\n",
    "    )\n",
    "    \n",
    "    # Split points into regular and extreme for different display modes\n",
    "    regular_x, regular_y, regular_colors, regular_labels = [], [], [], []\n",
    "    extreme_x, extreme_y, extreme_colors, extreme_labels = [], [], [], []\n",
    "    \n",
    "    for i, (sim, color, label) in enumerate(zip(cosine_sims, colors, trait_labels)):\n",
    "        if i in extreme_indices:\n",
    "            extreme_x.append(sim)\n",
    "            extreme_y.append(1)\n",
    "            extreme_colors.append(color)\n",
    "            extreme_labels.append(label)\n",
    "        else:\n",
    "            regular_x.append(sim)\n",
    "            regular_y.append(1)\n",
    "            regular_colors.append(color)\n",
    "            regular_labels.append(label)\n",
    "    \n",
    "    # Add regular points (hover labels only)\n",
    "    if regular_x:\n",
    "        fig.add_trace(\n",
    "            go.Scatter(\n",
    "                x=regular_x,\n",
    "                y=regular_y,\n",
    "                mode='markers',\n",
    "                marker=dict(\n",
    "                    color=regular_colors,\n",
    "                    size=8,\n",
    "                    opacity=0.7\n",
    "                ),\n",
    "                text=regular_labels,\n",
    "                showlegend=False,\n",
    "                hovertemplate='<b>%{text}</b><br>Cosine Similarity: %{x:.3f}<extra></extra>'\n",
    "            ),\n",
    "            row=1, col=1\n",
    "        )\n",
    "    \n",
    "    # Add extreme points with visible labels and leader lines\n",
    "    if extreme_x:\n",
    "        fig.add_trace(\n",
    "            go.Scatter(\n",
    "                x=extreme_x,\n",
    "                y=extreme_y,\n",
    "                mode='markers',\n",
    "                marker=dict(\n",
    "                    color=extreme_colors,\n",
    "                    size=8,\n",
    "                    opacity=0.9\n",
    "                ),\n",
    "                text=extreme_labels,\n",
    "                showlegend=False,\n",
    "                hovertemplate='<b>%{text}</b><br>Cosine Similarity: %{x:.3f}<extra></extra>'\n",
    "            ),\n",
    "            row=1, col=1\n",
    "        )\n",
    "        \n",
    "        # Create predefined alternating heights with variation\n",
    "        # High positions with variation\n",
    "        high_positions = [1.6, 1.45, 1.55, 1.35, 1.5, 1.4, 1.65, 1.3, 1.58, 1.42]\n",
    "        # Low positions with variation  \n",
    "        low_positions = [0.4, 0.55, 0.45, 0.65, 0.5, 0.6, 0.35, 0.7, 0.42, 0.58]\n",
    "        \n",
    "        # Alternate high-low pattern\n",
    "        all_y_positions = []\n",
    "        for i in range(10):\n",
    "            all_y_positions.extend([high_positions[i], low_positions[i]])\n",
    "        \n",
    "        # Handle low extremes (10 lowest cosine similarities)\n",
    "        for i, idx in enumerate(low_extreme_indices):\n",
    "            x_pos = cosine_sims[idx]\n",
    "            label = trait_labels[idx]\n",
    "            color = colors[idx]\n",
    "            y_label = all_y_positions[i]\n",
    "            \n",
    "            # Add leader line as a separate trace\n",
    "            fig.add_trace(\n",
    "                go.Scatter(\n",
    "                    x=[x_pos, x_pos],\n",
    "                    y=[1.0, y_label],\n",
    "                    mode='lines',\n",
    "                    line=dict(color=color, width=1),\n",
    "                    showlegend=False,\n",
    "                    hoverinfo='skip'\n",
    "                ),\n",
    "                row=1, col=1\n",
    "            )\n",
    "            \n",
    "            # Add label at the end of the line\n",
    "            fig.add_annotation(\n",
    "                x=x_pos,\n",
    "                y=y_label,\n",
    "                text=label,\n",
    "                showarrow=False,\n",
    "                font=dict(size=10, color=color),\n",
    "                bgcolor=\"rgba(255, 255, 255, 0.9)\",\n",
    "                bordercolor=color,\n",
    "                borderwidth=1,\n",
    "                row=1, col=1\n",
    "            )\n",
    "        \n",
    "        # Handle high extremes (10 highest cosine similarities)\n",
    "        for i, idx in enumerate(high_extreme_indices):\n",
    "            x_pos = cosine_sims[idx]\n",
    "            label = trait_labels[idx]\n",
    "            color = colors[idx]\n",
    "            y_label = all_y_positions[i + 10]  # Offset by 10 to continue the pattern\n",
    "            \n",
    "            # Add leader line as a separate trace\n",
    "            fig.add_trace(\n",
    "                go.Scatter(\n",
    "                    x=[x_pos, x_pos],\n",
    "                    y=[1.0, y_label],\n",
    "                    mode='lines',\n",
    "                    line=dict(color=color, width=1),\n",
    "                    showlegend=False,\n",
    "                    hoverinfo='skip'\n",
    "                ),\n",
    "                row=1, col=1\n",
    "            )\n",
    "            \n",
    "            # Add label at the end of the line\n",
    "            fig.add_annotation(\n",
    "                x=x_pos,\n",
    "                y=y_label,\n",
    "                text=label,\n",
    "                showarrow=False,\n",
    "                font=dict(size=10, color=color),\n",
    "                bgcolor=\"rgba(255, 255, 255, 0.9)\",\n",
    "                bordercolor=color,\n",
    "                borderwidth=1,\n",
    "                row=1, col=1\n",
    "            )\n",
    "    \n",
    "    # Add vertical line at x=0 for both panels\n",
    "    fig.add_vline(\n",
    "        x=0,\n",
    "        line_dash=\"solid\",\n",
    "        line_color=\"gray\",\n",
    "        line_width=1,\n",
    "        opacity=0.7,\n",
    "        row=1, col=1\n",
    "    )\n",
    "    \n",
    "    fig.add_vline(\n",
    "        x=0,\n",
    "        line_dash=\"solid\", \n",
    "        line_color=\"gray\",\n",
    "        line_width=1,\n",
    "        opacity=0.7,\n",
    "        row=2, col=1\n",
    "    )\n",
    "    \n",
    "    # Bottom panel: Histogram\n",
    "    fig.add_trace(\n",
    "        go.Histogram(\n",
    "            x=cosine_sims,\n",
    "            nbinsx=30,\n",
    "            opacity=0.7,\n",
    "            marker_color='steelblue',\n",
    "            showlegend=False\n",
    "        ),\n",
    "        row=2, col=1\n",
    "    )\n",
    "    \n",
    "    # Update layout\n",
    "    fig.update_layout(\n",
    "        height=700,\n",
    "        title=dict(\n",
    "            text=\"PCA on Trait Vectors from Mean Response Activations\",\n",
    "            subtitle={\n",
    "                \"text\": f\"Gemma 2 27B, Layer {layer}\",\n",
    "            },\n",
    "            x=0.5,\n",
    "            font=dict(size=16)\n",
    "        ),\n",
    "        showlegend=False\n",
    "    )\n",
    "    \n",
    "    # Calculate symmetric range around 0 (not around data center)\n",
    "    max_abs_value = max(abs(min(cosine_sims)), abs(max(cosine_sims)))\n",
    "    x_half_width = max_abs_value * 1.1  # Add 10% padding\n",
    "    \n",
    "    # Update x-axes with symmetric ranges centered on 0\n",
    "    fig.update_xaxes(\n",
    "        row=1, col=1,\n",
    "        range=[-x_half_width, x_half_width]\n",
    "    )\n",
    "    \n",
    "    fig.update_xaxes(\n",
    "        title_text=f\"PC{pc_component+1} Cosine Similarity\",\n",
    "        row=2, col=1,\n",
    "        range=[-x_half_width, x_half_width]\n",
    "    )\n",
    "    \n",
    "    # Update y-axes\n",
    "    fig.update_yaxes(\n",
    "        title_text=\"\",\n",
    "        showticklabels=False,\n",
    "        row=1, col=1,\n",
    "        range=[0.25, 1.75]  # Range for varied label heights\n",
    "    )\n",
    "    \n",
    "    fig.update_yaxes(\n",
    "        title_text=\"Frequency\",\n",
    "        row=2, col=1\n",
    "    )\n",
    "    \n",
    "    return fig"
   ]
  },
  {
   "cell_type": "code",
   "execution_count": 25,
   "id": "98894a6b",
   "metadata": {},
   "outputs": [],
   "source": [
    "def plot_3d_pca(pca_transformed, variance_explained, trait_labels, layer):\n",
    "    # Create 3D scatter plot if we have enough components\n",
    "\n",
    "    fig_3d = go.Figure(data=[go.Scatter3d(\n",
    "        x=pca_transformed[:, 0],\n",
    "        y=pca_transformed[:, 1], \n",
    "        z=pca_transformed[:, 2],\n",
    "        mode='markers+text',\n",
    "        text=trait_labels,\n",
    "        textposition='top center',\n",
    "        textfont=dict(size=6),\n",
    "        marker=dict(\n",
    "            size=3,\n",
    "            color=['blue'] * len(trait_labels),\n",
    "            line=dict(width=2, color='black')\n",
    "        ),\n",
    "        hovertemplate='<b>%{text}</b><br>' +\n",
    "                    f'PC1: %{{x:.3f}}<br>' +\n",
    "                    f'PC2: %{{y:.3f}}<br>' +\n",
    "                    f'PC3: %{{z:.3f}}<br>' +\n",
    "                    '<extra></extra>'\n",
    "    )])\n",
    "    \n",
    "    fig_3d.update_layout(\n",
    "        title={\n",
    "            \"text\": f'Trait Vectors in Principal Component Space',\n",
    "            \"subtitle\": {\n",
    "                \"text\": f\"Gemma 2 27B, Layer {layer}\",\n",
    "            },\n",
    "        },\n",
    "        scene=dict(\n",
    "            xaxis_title=f'PC1 ({variance_explained[0]*100:.1f}%)',\n",
    "            yaxis_title=f'PC2 ({variance_explained[1]*100:.1f}%)',\n",
    "            zaxis_title=f'PC3 ({variance_explained[2]*100:.1f}%)'\n",
    "        ),\n",
    "        width=1000,\n",
    "        height=800\n",
    "    )\n",
    "    \n",
    "    fig_3d.show()\n",
    "    fig_3d.write_html(f\"./results/pca_3d.html\")"
   ]
  },
  {
   "cell_type": "markdown",
   "id": "f0358486",
   "metadata": {},
   "source": [
    "### pos_neg "
   ]
  },
  {
   "cell_type": "code",
   "execution_count": 20,
   "id": "74382b65",
   "metadata": {},
   "outputs": [
    {
     "name": "stdout",
     "output_type": "stream",
     "text": [
      "208\n",
      "torch.Size([208, 46, 4608])\n"
     ]
    }
   ],
   "source": [
    "# PCA on pos_neg but filter out traits with pos_minus_neg_mean < 40\n",
    "\n",
    "filtered_pos_neg_traits = []\n",
    "filtered_pos_neg = []\n",
    "\n",
    "for trait, vector in vectors.items():\n",
    "    if stats[trait]['pos_minus_neg_mean'] >= 40:\n",
    "        filtered_pos_neg_traits.append(trait)\n",
    "        filtered_pos_neg.append(vector['pos_neg'])\n",
    "\n",
    "print(len(filtered_pos_neg_traits))\n",
    "\n",
    "filtered_pos_neg = torch.stack(filtered_pos_neg).float()\n",
    "print(filtered_pos_neg.shape)"
   ]
  },
  {
   "cell_type": "code",
   "execution_count": 54,
   "id": "a8876796",
   "metadata": {},
   "outputs": [
    {
     "name": "stdout",
     "output_type": "stream",
     "text": [
      "PCA fitted with 208 components\n",
      "Cumulative variance for first 5 components: [0.15301124 0.2713136  0.36042659 0.42452626 0.46193193]\n",
      "\n",
      "PCA Analysis Results:\n",
      "Elbow point at component: 5\n",
      "Dimensions for 70% variance: 18\n",
      "Dimensions for 80% variance: 33\n",
      "Dimensions for 90% variance: 65\n",
      "Dimensions for 95% variance: 100\n"
     ]
    }
   ],
   "source": [
    "pca_transformed, variance_explained, n_components = compute_pca(filtered_pos_neg, layer)"
   ]
  },
  {
   "cell_type": "markdown",
   "id": "836b0cfc",
   "metadata": {},
   "source": [
    "### pos_neg_50"
   ]
  },
  {
   "cell_type": "code",
   "execution_count": 13,
   "id": "e7776516",
   "metadata": {},
   "outputs": [
    {
     "name": "stdout",
     "output_type": "stream",
     "text": [
      "235\n",
      "torch.Size([235, 46, 4608])\n"
     ]
    }
   ],
   "source": [
    "# PCA on pos_neg_50 but filter out traits with large_diff_count < 10\n",
    "filtered_pos_neg_50_traits = []\n",
    "filtered_pos_neg_50 = []\n",
    "\n",
    "for trait, vector in vectors.items():\n",
    "    if stats[trait]['large_diff_count'] >= 10:\n",
    "        filtered_pos_neg_50_traits.append(trait)\n",
    "        filtered_pos_neg_50.append(vector['pos_neg_50'])\n",
    "\n",
    "print(len(filtered_pos_neg_50_traits))\n",
    "\n",
    "filtered_pos_neg_50 = torch.stack(filtered_pos_neg_50).float()\n",
    "print(filtered_pos_neg_50.shape)"
   ]
  },
  {
   "cell_type": "code",
   "execution_count": 14,
   "id": "73656d27",
   "metadata": {},
   "outputs": [
    {
     "name": "stdout",
     "output_type": "stream",
     "text": [
      "PCA fitted with 235 components\n",
      "Cumulative variance for first 5 components: [0.14948702 0.26322171 0.34780798 0.41020005 0.4467624 ]\n",
      "\n",
      "PCA Analysis Results:\n",
      "Elbow point at component: 5\n",
      "Dimensions for 70% variance: 20\n",
      "Dimensions for 80% variance: 38\n",
      "Dimensions for 90% variance: 76\n",
      "Dimensions for 95% variance: 117\n"
     ]
    }
   ],
   "source": [
    "pca_transformed, variance_explained, n_components = compute_pca(filtered_pos_neg_50, layer)"
   ]
  },
  {
   "cell_type": "code",
   "execution_count": 98,
   "id": "e18873db",
   "metadata": {},
   "outputs": [
    {
     "data": {
      "application/vnd.plotly.v1+json": {
       "config": {
        "plotlyServerURL": "https://plot.ly"
       },
       "data": [
        {
         "hovertemplate": "<b>%{text}</b><br>Cosine Similarity: %{x:.3f}<extra></extra>",
         "marker": {
          "color": [
           "blue",
           "blue",
           "red",
           "blue",
           "red",
           "red",
           "blue",
           "red",
           "blue",
           "blue",
           "blue",
           "blue",
           "red",
           "red",
           "red",
           "blue",
           "red",
           "red",
           "red",
           "red",
           "blue",
           "blue",
           "blue",
           "red",
           "blue",
           "blue",
           "red",
           "blue",
           "red",
           "red",
           "blue",
           "red",
           "blue",
           "red",
           "red",
           "blue",
           "red",
           "red",
           "blue",
           "red",
           "blue",
           "red",
           "red",
           "red",
           "blue",
           "blue",
           "blue",
           "red",
           "red",
           "blue",
           "red",
           "red",
           "blue",
           "blue",
           "blue",
           "blue",
           "red",
           "blue",
           "blue",
           "blue",
           "blue",
           "red",
           "blue",
           "blue",
           "blue",
           "red",
           "red",
           "red",
           "red",
           "blue",
           "blue",
           "blue",
           "blue",
           "red",
           "red",
           "red",
           "red",
           "blue",
           "blue",
           "blue",
           "red",
           "red",
           "red",
           "red",
           "blue",
           "blue",
           "blue",
           "blue",
           "blue",
           "blue",
           "red",
           "red",
           "blue",
           "blue",
           "red",
           "red",
           "red",
           "red",
           "blue",
           "blue",
           "blue",
           "blue",
           "blue",
           "red",
           "red",
           "blue",
           "red",
           "blue",
           "blue",
           "blue",
           "red",
           "red",
           "blue",
           "red",
           "red",
           "blue",
           "red",
           "red",
           "red",
           "red",
           "red",
           "red",
           "blue",
           "red",
           "red",
           "blue",
           "blue",
           "blue",
           "blue",
           "red",
           "blue",
           "red",
           "blue",
           "blue",
           "red",
           "red",
           "red",
           "red",
           "red",
           "blue",
           "blue",
           "red",
           "blue",
           "blue",
           "red",
           "red",
           "red",
           "red",
           "blue",
           "blue",
           "red",
           "blue",
           "red",
           "red",
           "blue",
           "red",
           "red",
           "red",
           "blue",
           "blue",
           "blue",
           "red",
           "blue",
           "blue",
           "red",
           "blue",
           "red",
           "blue",
           "red",
           "red",
           "blue",
           "blue",
           "red",
           "blue",
           "red",
           "red",
           "red",
           "red",
           "blue",
           "red",
           "red",
           "blue",
           "red",
           "red",
           "blue",
           "red",
           "red",
           "blue",
           "red",
           "red",
           "blue",
           "blue",
           "blue",
           "blue",
           "blue",
           "red",
           "red",
           "blue",
           "red",
           "red",
           "blue",
           "blue",
           "red",
           "red",
           "blue",
           "red",
           "red",
           "blue",
           "blue",
           "red",
           "red",
           "blue",
           "red",
           "red",
           "blue"
          ],
          "opacity": 0.7,
          "size": 8
         },
         "mode": "markers",
         "showlegend": false,
         "text": [
          "absolutist",
          "adaptable",
          "abstract",
          "accommodating",
          "acerbic",
          "adventurous",
          "agreeable",
          "altruistic",
          "analytical",
          "animated",
          "anthropocentric",
          "anxious",
          "arrogant",
          "artistic",
          "ascetic",
          "assertive",
          "avoidant",
          "benevolent",
          "big_picture",
          "bitter",
          "blunt",
          "bombastic",
          "calculating",
          "callous",
          "calm",
          "casual",
          "cautious",
          "challenging",
          "chaotic",
          "charismatic",
          "chill",
          "circumspect",
          "closure_seeking",
          "collaborative",
          "collectivistic",
          "competitive",
          "conceptual",
          "conciliatory",
          "concise",
          "condescending",
          "confident",
          "confrontational",
          "conscientious",
          "constructivist",
          "contemporary",
          "contrarian",
          "convergent",
          "cosmopolitan",
          "creative",
          "critical",
          "cruel",
          "curious",
          "cynical",
          "data_driven",
          "decisive",
          "deconstructionist",
          "deontological",
          "descriptive",
          "deterministic",
          "diplomatic",
          "disorganized",
          "divergent",
          "dogmatic",
          "dominant",
          "dramatic",
          "earnest",
          "eclectic",
          "edgy",
          "educational",
          "efficient",
          "effusive",
          "elitist",
          "eloquent",
          "empathetic",
          "entertaining",
          "environmental",
          "epicurean",
          "erudite",
          "esoteric",
          "essentialist",
          "evil",
          "existentialist",
          "experiential",
          "exploratory",
          "extroverted",
          "factual",
          "fatalistic",
          "flexible",
          "flippant",
          "flirty",
          "forgiving",
          "formal",
          "formalist",
          "fundamentalist",
          "futuristic",
          "generalist",
          "generous",
          "goofy",
          "grandiose",
          "gregarious",
          "grounded",
          "hedonistic",
          "historical",
          "holistic",
          "humble",
          "iconoclastic",
          "idealistic",
          "impatient",
          "improvisational",
          "impulsive",
          "inclusive",
          "independent",
          "individualistic",
          "innovative",
          "inquisitive",
          "inspirational",
          "interdisciplinary",
          "introspective",
          "intuitive",
          "ironic",
          "irreverent",
          "judgmental",
          "libertarian",
          "literal",
          "manipulative",
          "materialist",
          "melancholic",
          "melodramatic",
          "mercurial",
          "metaphorical",
          "methodical",
          "meticulous",
          "militant",
          "misanthropic",
          "mischievous",
          "moderate",
          "mystical",
          "naive",
          "narrative",
          "neurotic",
          "nonchalant",
          "nostalgic",
          "nurturing",
          "obsessive",
          "open_ended",
          "optimistic",
          "pacifist",
          "paradoxical",
          "paranoid",
          "passionate",
          "passive_aggressive",
          "pedantic",
          "pensive",
          "perfectionist",
          "pessimistic",
          "philosophical",
          "playful",
          "pluralist",
          "poetic",
          "practical",
          "prescriptive",
          "principled",
          "proactive",
          "problem_solving",
          "progressive",
          "provocative",
          "radical",
          "rationalist",
          "reactive",
          "rebellious",
          "reductionist",
          "regulatory",
          "reserved",
          "resilient",
          "reverent",
          "rhetorical",
          "risk_taking",
          "ritualistic",
          "romantic",
          "sardonic",
          "sassy",
          "secular",
          "serene",
          "serious",
          "skeptical",
          "socratic",
          "solemn",
          "specialized",
          "speculative",
          "spiritual",
          "spontaneous",
          "stoic",
          "strategic",
          "stream_of_consciousness",
          "structuralist",
          "submissive",
          "subversive",
          "supportive",
          "sycophantic",
          "systems_thinker",
          "tactful",
          "technical",
          "temperamental",
          "theoretical",
          "traditional",
          "understated",
          "universalist",
          "urgent",
          "utilitarian",
          "verbose",
          "visceral",
          "whimsical",
          "witty",
          "wry",
          "zealous"
         ],
         "type": "scatter",
         "x": [
          0.039408777389437454,
          0.02423283824344667,
          -0.0868489083301963,
          0.04904940589041914,
          -0.10121336457269296,
          -0.016598048343377893,
          0.0901679177254442,
          -0.05168802615501574,
          0.023644112011151085,
          0.00989134781543583,
          0.04113415901132873,
          0.024457167231462972,
          -0.0009803566729238438,
          -0.10287427411865936,
          -0.05456877229139761,
          0.0008384932167170848,
          -0.030284837430045463,
          -0.011935666964673247,
          -0.07355867517596318,
          -0.046778948281821095,
          0.023893330956563524,
          0.10371260767706592,
          0.006030842565260477,
          -0.03581632630353089,
          0.01685848021423284,
          0.03316592245102203,
          -0.014474993837267063,
          0.06351185913773927,
          -0.012717089446345094,
          -0.009021817356225054,
          0.10956738855183738,
          -0.04147919787548647,
          0.0357339667771942,
          -0.025948209286587007,
          -0.044895745087164325,
          0.08184293827459352,
          -0.07325894103183433,
          -0.015282566668902967,
          0.020965697839868472,
          -0.07921288387618915,
          0.038100412352636906,
          -0.04561144760142452,
          -0.0042994345724881936,
          -0.05938797412291871,
          0.02212149134211373,
          0.028089412837447637,
          0.02478594497536291,
          -0.07381283780883013,
          -0.03960550681369931,
          0.014331749445133423,
          -0.10658858040853487,
          -0.03805450956052201,
          0.08746545266049997,
          0.08403581826136931,
          0.03516891343971273,
          0.020277407425671384,
          -0.01602543278753418,
          0.05981146306309993,
          0.086859827072597,
          0.006630304767351074,
          0.042479432958987436,
          -0.02120062023426249,
          0.02177191270836227,
          0.049396942119394306,
          0.05610458915303561,
          -0.10250785514181801,
          -0.07210173189519897,
          -0.04046232872091554,
          -0.01877948183034927,
          0.061869398135189,
          0.07156311399189969,
          0.039414404685834,
          0.0012842032814296316,
          -0.10640464841458118,
          -0.015771704828900984,
          -0.06074158218768285,
          -0.03148068516815203,
          0.008555488604285543,
          0.09732684012470928,
          0.0420673076841299,
          -0.05369549484047511,
          -0.05288813036583695,
          -0.0124181448306358,
          -0.0067431263794689375,
          0.05671374659419718,
          0.010337431737356033,
          0.0042859005667423965,
          0.06160901761264479,
          0.015686883692401423,
          0.09561182322445143,
          -0.037149203012024026,
          -0.05525250095261431,
          0.037929019281897396,
          0.10895368662101769,
          -0.06794320634045095,
          -0.01735085080211426,
          -0.010764264945166873,
          -0.002926225713269551,
          0.09521755158126899,
          0.02231740029812312,
          0.09641414312593215,
          0.05601814166606489,
          0.01269257701031986,
          -0.04925513652690233,
          -0.07051628130514076,
          0.04137195031568102,
          -0.07127030720748972,
          0.04601329858647651,
          0.004520817877249889,
          0.04044096404007179,
          -0.06841143595722256,
          -0.040024254738943395,
          0.04407411032713842,
          -0.043735089399363394,
          -0.014694166891992053,
          0.03825556008568453,
          -0.027332679214137973,
          -0.013404902232072888,
          -0.06430443911348195,
          -0.09711458164909498,
          -0.06858751006669063,
          -0.07624581138597435,
          0.008702828678248085,
          -0.017897912168399234,
          -0.04491702486055064,
          0.09024169341256855,
          0.049806378850299975,
          0.08346153082950986,
          0.04328914419992942,
          -0.011129007315595525,
          0.019414564933453542,
          -0.002139765975962517,
          0.034553702229459124,
          0.08617536679070646,
          -0.03665932414020574,
          -0.012589801712601047,
          -0.032741978278379866,
          -0.02715189135963233,
          -0.004446379116486523,
          0.003937680565495275,
          0.012804902907495173,
          -0.007780644857540483,
          0.11353747511708752,
          0.045791930177056496,
          -0.08066502059244957,
          -0.05118287320771822,
          -0.03205890710200238,
          -0.03486086123662568,
          0.004203029466317255,
          0.03701042158442503,
          -0.08617424479456577,
          0.04750197350788421,
          -0.11217337001106131,
          -0.011070456107323297,
          0.026306397803665137,
          -0.03213880893001655,
          -0.011087123505639793,
          -0.03503482815217888,
          0.08835916733525316,
          0.08265616434641444,
          0.07080884053177613,
          -0.0222061429740295,
          0.047301063626902735,
          0.06897365308135782,
          -0.045778409402149736,
          0.013709116973703866,
          -0.0508626751869342,
          0.10055129717088326,
          -0.015312436722271394,
          -0.02601734486259103,
          0.028569217496176014,
          0.0006976199246225539,
          -0.022445705190395744,
          0.044537816562200176,
          -0.05272337430839675,
          -0.03264588795492343,
          -0.019394167184527775,
          -0.014310905899427342,
          0.015918023432880804,
          -0.09703975579946825,
          -0.07543946058204702,
          0.03719830316056629,
          -0.04953602882343348,
          -0.013562149982988103,
          0.057354297158682115,
          -0.044600746761923174,
          -0.07266103418934758,
          0.052188043554778886,
          -0.03068208445940482,
          -0.04021229232816437,
          0.046247110473404136,
          0.06482875677982039,
          0.009874606644923959,
          0.023299684285794316,
          0.023508300767347477,
          -0.02587064904656036,
          -0.026417667699096703,
          0.10584193233507874,
          -0.03939954952519059,
          -0.04024343716940368,
          0.021968398910991827,
          0.06576148686327242,
          -0.0500250634347684,
          -0.036164651303129555,
          0.029699025206417252,
          -0.01047171320476113,
          -0.0016836249076110808,
          0.045207562208645025,
          0.032403297138679614,
          -0.013336613876055226,
          -0.06478539604008615,
          0.03269387208258014,
          -0.08063119495738129,
          -0.006591363303123207,
          0.07700281081420543
         ],
         "xaxis": "x",
         "y": [
          1,
          1,
          1,
          1,
          1,
          1,
          1,
          1,
          1,
          1,
          1,
          1,
          1,
          1,
          1,
          1,
          1,
          1,
          1,
          1,
          1,
          1,
          1,
          1,
          1,
          1,
          1,
          1,
          1,
          1,
          1,
          1,
          1,
          1,
          1,
          1,
          1,
          1,
          1,
          1,
          1,
          1,
          1,
          1,
          1,
          1,
          1,
          1,
          1,
          1,
          1,
          1,
          1,
          1,
          1,
          1,
          1,
          1,
          1,
          1,
          1,
          1,
          1,
          1,
          1,
          1,
          1,
          1,
          1,
          1,
          1,
          1,
          1,
          1,
          1,
          1,
          1,
          1,
          1,
          1,
          1,
          1,
          1,
          1,
          1,
          1,
          1,
          1,
          1,
          1,
          1,
          1,
          1,
          1,
          1,
          1,
          1,
          1,
          1,
          1,
          1,
          1,
          1,
          1,
          1,
          1,
          1,
          1,
          1,
          1,
          1,
          1,
          1,
          1,
          1,
          1,
          1,
          1,
          1,
          1,
          1,
          1,
          1,
          1,
          1,
          1,
          1,
          1,
          1,
          1,
          1,
          1,
          1,
          1,
          1,
          1,
          1,
          1,
          1,
          1,
          1,
          1,
          1,
          1,
          1,
          1,
          1,
          1,
          1,
          1,
          1,
          1,
          1,
          1,
          1,
          1,
          1,
          1,
          1,
          1,
          1,
          1,
          1,
          1,
          1,
          1,
          1,
          1,
          1,
          1,
          1,
          1,
          1,
          1,
          1,
          1,
          1,
          1,
          1,
          1,
          1,
          1,
          1,
          1,
          1,
          1,
          1,
          1,
          1,
          1,
          1,
          1,
          1,
          1,
          1,
          1,
          1,
          1,
          1,
          1,
          1,
          1,
          1,
          1,
          1,
          1,
          1,
          1,
          1,
          1,
          1,
          1,
          1,
          1,
          1
         ],
         "yaxis": "y"
        },
        {
         "hovertemplate": "<b>%{text}</b><br>Cosine Similarity: %{x:.3f}<extra></extra>",
         "marker": {
          "color": [
           "red",
           "blue",
           "blue",
           "blue",
           "red",
           "blue",
           "blue",
           "red",
           "red",
           "red",
           "blue",
           "red",
           "blue",
           "blue",
           "red",
           "red",
           "blue",
           "red",
           "red",
           "blue"
          ],
          "opacity": 0.9,
          "size": 8
         },
         "mode": "markers",
         "showlegend": false,
         "text": [
          "accessible",
          "cryptic",
          "detached",
          "dispassionate",
          "emotional",
          "enigmatic",
          "ethereal",
          "hostile",
          "humanistic",
          "introverted",
          "manic",
          "meditative",
          "nihilistic",
          "patient",
          "petty",
          "qualitative",
          "quantitative",
          "sarcastic",
          "savage",
          "theatrical"
         ],
         "type": "scatter",
         "x": [
          -0.11386768359143007,
          0.14298369819382806,
          0.15469095414922882,
          0.12948457838344357,
          -0.15160883245995965,
          0.15976410270333324,
          0.11858442860844527,
          -0.13334793524206692,
          -0.11891475562809065,
          -0.13540007399588233,
          0.13458834306643683,
          -0.21289276590720774,
          0.11785015413652974,
          0.15693892507782742,
          -0.13676982193279597,
          -0.12985698896924125,
          0.12830200863105834,
          -0.14285060039124733,
          -0.18269617249888773,
          0.14429034500972707
         ],
         "xaxis": "x",
         "y": [
          1,
          1,
          1,
          1,
          1,
          1,
          1,
          1,
          1,
          1,
          1,
          1,
          1,
          1,
          1,
          1,
          1,
          1,
          1,
          1
         ],
         "yaxis": "y"
        },
        {
         "hoverinfo": "skip",
         "line": {
          "color": "red",
          "width": 1
         },
         "mode": "lines",
         "showlegend": false,
         "type": "scatter",
         "x": [
          -0.21289276590720774,
          -0.21289276590720774
         ],
         "xaxis": "x",
         "y": [
          1,
          1.6
         ],
         "yaxis": "y"
        },
        {
         "hoverinfo": "skip",
         "line": {
          "color": "red",
          "width": 1
         },
         "mode": "lines",
         "showlegend": false,
         "type": "scatter",
         "x": [
          -0.18269617249888773,
          -0.18269617249888773
         ],
         "xaxis": "x",
         "y": [
          1,
          0.4
         ],
         "yaxis": "y"
        },
        {
         "hoverinfo": "skip",
         "line": {
          "color": "red",
          "width": 1
         },
         "mode": "lines",
         "showlegend": false,
         "type": "scatter",
         "x": [
          -0.15160883245995965,
          -0.15160883245995965
         ],
         "xaxis": "x",
         "y": [
          1,
          1.45
         ],
         "yaxis": "y"
        },
        {
         "hoverinfo": "skip",
         "line": {
          "color": "red",
          "width": 1
         },
         "mode": "lines",
         "showlegend": false,
         "type": "scatter",
         "x": [
          -0.14285060039124733,
          -0.14285060039124733
         ],
         "xaxis": "x",
         "y": [
          1,
          0.55
         ],
         "yaxis": "y"
        },
        {
         "hoverinfo": "skip",
         "line": {
          "color": "red",
          "width": 1
         },
         "mode": "lines",
         "showlegend": false,
         "type": "scatter",
         "x": [
          -0.13676982193279597,
          -0.13676982193279597
         ],
         "xaxis": "x",
         "y": [
          1,
          1.55
         ],
         "yaxis": "y"
        },
        {
         "hoverinfo": "skip",
         "line": {
          "color": "red",
          "width": 1
         },
         "mode": "lines",
         "showlegend": false,
         "type": "scatter",
         "x": [
          -0.13540007399588233,
          -0.13540007399588233
         ],
         "xaxis": "x",
         "y": [
          1,
          0.45
         ],
         "yaxis": "y"
        },
        {
         "hoverinfo": "skip",
         "line": {
          "color": "red",
          "width": 1
         },
         "mode": "lines",
         "showlegend": false,
         "type": "scatter",
         "x": [
          -0.13334793524206692,
          -0.13334793524206692
         ],
         "xaxis": "x",
         "y": [
          1,
          1.35
         ],
         "yaxis": "y"
        },
        {
         "hoverinfo": "skip",
         "line": {
          "color": "red",
          "width": 1
         },
         "mode": "lines",
         "showlegend": false,
         "type": "scatter",
         "x": [
          -0.12985698896924125,
          -0.12985698896924125
         ],
         "xaxis": "x",
         "y": [
          1,
          0.65
         ],
         "yaxis": "y"
        },
        {
         "hoverinfo": "skip",
         "line": {
          "color": "red",
          "width": 1
         },
         "mode": "lines",
         "showlegend": false,
         "type": "scatter",
         "x": [
          -0.11891475562809065,
          -0.11891475562809065
         ],
         "xaxis": "x",
         "y": [
          1,
          1.5
         ],
         "yaxis": "y"
        },
        {
         "hoverinfo": "skip",
         "line": {
          "color": "red",
          "width": 1
         },
         "mode": "lines",
         "showlegend": false,
         "type": "scatter",
         "x": [
          -0.11386768359143007,
          -0.11386768359143007
         ],
         "xaxis": "x",
         "y": [
          1,
          0.5
         ],
         "yaxis": "y"
        },
        {
         "hoverinfo": "skip",
         "line": {
          "color": "blue",
          "width": 1
         },
         "mode": "lines",
         "showlegend": false,
         "type": "scatter",
         "x": [
          0.11785015413652974,
          0.11785015413652974
         ],
         "xaxis": "x",
         "y": [
          1,
          1.4
         ],
         "yaxis": "y"
        },
        {
         "hoverinfo": "skip",
         "line": {
          "color": "blue",
          "width": 1
         },
         "mode": "lines",
         "showlegend": false,
         "type": "scatter",
         "x": [
          0.11858442860844527,
          0.11858442860844527
         ],
         "xaxis": "x",
         "y": [
          1,
          0.6
         ],
         "yaxis": "y"
        },
        {
         "hoverinfo": "skip",
         "line": {
          "color": "blue",
          "width": 1
         },
         "mode": "lines",
         "showlegend": false,
         "type": "scatter",
         "x": [
          0.12830200863105834,
          0.12830200863105834
         ],
         "xaxis": "x",
         "y": [
          1,
          1.65
         ],
         "yaxis": "y"
        },
        {
         "hoverinfo": "skip",
         "line": {
          "color": "blue",
          "width": 1
         },
         "mode": "lines",
         "showlegend": false,
         "type": "scatter",
         "x": [
          0.12948457838344357,
          0.12948457838344357
         ],
         "xaxis": "x",
         "y": [
          1,
          0.35
         ],
         "yaxis": "y"
        },
        {
         "hoverinfo": "skip",
         "line": {
          "color": "blue",
          "width": 1
         },
         "mode": "lines",
         "showlegend": false,
         "type": "scatter",
         "x": [
          0.13458834306643683,
          0.13458834306643683
         ],
         "xaxis": "x",
         "y": [
          1,
          1.3
         ],
         "yaxis": "y"
        },
        {
         "hoverinfo": "skip",
         "line": {
          "color": "blue",
          "width": 1
         },
         "mode": "lines",
         "showlegend": false,
         "type": "scatter",
         "x": [
          0.14298369819382806,
          0.14298369819382806
         ],
         "xaxis": "x",
         "y": [
          1,
          0.7
         ],
         "yaxis": "y"
        },
        {
         "hoverinfo": "skip",
         "line": {
          "color": "blue",
          "width": 1
         },
         "mode": "lines",
         "showlegend": false,
         "type": "scatter",
         "x": [
          0.14429034500972707,
          0.14429034500972707
         ],
         "xaxis": "x",
         "y": [
          1,
          1.58
         ],
         "yaxis": "y"
        },
        {
         "hoverinfo": "skip",
         "line": {
          "color": "blue",
          "width": 1
         },
         "mode": "lines",
         "showlegend": false,
         "type": "scatter",
         "x": [
          0.15469095414922882,
          0.15469095414922882
         ],
         "xaxis": "x",
         "y": [
          1,
          0.42
         ],
         "yaxis": "y"
        },
        {
         "hoverinfo": "skip",
         "line": {
          "color": "blue",
          "width": 1
         },
         "mode": "lines",
         "showlegend": false,
         "type": "scatter",
         "x": [
          0.15693892507782742,
          0.15693892507782742
         ],
         "xaxis": "x",
         "y": [
          1,
          1.42
         ],
         "yaxis": "y"
        },
        {
         "hoverinfo": "skip",
         "line": {
          "color": "blue",
          "width": 1
         },
         "mode": "lines",
         "showlegend": false,
         "type": "scatter",
         "x": [
          0.15976410270333324,
          0.15976410270333324
         ],
         "xaxis": "x",
         "y": [
          1,
          0.58
         ],
         "yaxis": "y"
        },
        {
         "marker": {
          "color": "steelblue"
         },
         "nbinsx": 30,
         "opacity": 0.7,
         "showlegend": false,
         "type": "histogram",
         "x": [
          0.039408777389437454,
          0.02423283824344667,
          -0.0868489083301963,
          -0.11386768359143007,
          0.04904940589041914,
          -0.10121336457269296,
          -0.016598048343377893,
          0.0901679177254442,
          -0.05168802615501574,
          0.023644112011151085,
          0.00989134781543583,
          0.04113415901132873,
          0.024457167231462972,
          -0.0009803566729238438,
          -0.10287427411865936,
          -0.05456877229139761,
          0.0008384932167170848,
          -0.030284837430045463,
          -0.011935666964673247,
          -0.07355867517596318,
          -0.046778948281821095,
          0.023893330956563524,
          0.10371260767706592,
          0.006030842565260477,
          -0.03581632630353089,
          0.01685848021423284,
          0.03316592245102203,
          -0.014474993837267063,
          0.06351185913773927,
          -0.012717089446345094,
          -0.009021817356225054,
          0.10956738855183738,
          -0.04147919787548647,
          0.0357339667771942,
          -0.025948209286587007,
          -0.044895745087164325,
          0.08184293827459352,
          -0.07325894103183433,
          -0.015282566668902967,
          0.020965697839868472,
          -0.07921288387618915,
          0.038100412352636906,
          -0.04561144760142452,
          -0.0042994345724881936,
          -0.05938797412291871,
          0.02212149134211373,
          0.028089412837447637,
          0.02478594497536291,
          -0.07381283780883013,
          -0.03960550681369931,
          0.014331749445133423,
          -0.10658858040853487,
          0.14298369819382806,
          -0.03805450956052201,
          0.08746545266049997,
          0.08403581826136931,
          0.03516891343971273,
          0.020277407425671384,
          -0.01602543278753418,
          0.05981146306309993,
          0.15469095414922882,
          0.086859827072597,
          0.006630304767351074,
          0.042479432958987436,
          0.12948457838344357,
          -0.02120062023426249,
          0.02177191270836227,
          0.049396942119394306,
          0.05610458915303561,
          -0.10250785514181801,
          -0.07210173189519897,
          -0.04046232872091554,
          -0.01877948183034927,
          0.061869398135189,
          0.07156311399189969,
          0.039414404685834,
          0.0012842032814296316,
          -0.15160883245995965,
          -0.10640464841458118,
          0.15976410270333324,
          -0.015771704828900984,
          -0.06074158218768285,
          -0.03148068516815203,
          0.008555488604285543,
          0.09732684012470928,
          0.0420673076841299,
          0.11858442860844527,
          -0.05369549484047511,
          -0.05288813036583695,
          -0.0124181448306358,
          -0.0067431263794689375,
          0.05671374659419718,
          0.010337431737356033,
          0.0042859005667423965,
          0.06160901761264479,
          0.015686883692401423,
          0.09561182322445143,
          -0.037149203012024026,
          -0.05525250095261431,
          0.037929019281897396,
          0.10895368662101769,
          -0.06794320634045095,
          -0.01735085080211426,
          -0.010764264945166873,
          -0.002926225713269551,
          0.09521755158126899,
          0.02231740029812312,
          0.09641414312593215,
          0.05601814166606489,
          0.01269257701031986,
          -0.04925513652690233,
          -0.13334793524206692,
          -0.11891475562809065,
          -0.07051628130514076,
          0.04137195031568102,
          -0.07127030720748972,
          0.04601329858647651,
          0.004520817877249889,
          0.04044096404007179,
          -0.06841143595722256,
          -0.040024254738943395,
          0.04407411032713842,
          -0.043735089399363394,
          -0.014694166891992053,
          0.03825556008568453,
          -0.027332679214137973,
          -0.013404902232072888,
          -0.13540007399588233,
          -0.06430443911348195,
          -0.09711458164909498,
          -0.06858751006669063,
          -0.07624581138597435,
          0.008702828678248085,
          -0.017897912168399234,
          0.13458834306643683,
          -0.04491702486055064,
          0.09024169341256855,
          -0.21289276590720774,
          0.049806378850299975,
          0.08346153082950986,
          0.04328914419992942,
          -0.011129007315595525,
          0.019414564933453542,
          -0.002139765975962517,
          0.034553702229459124,
          0.08617536679070646,
          -0.03665932414020574,
          -0.012589801712601047,
          -0.032741978278379866,
          -0.02715189135963233,
          -0.004446379116486523,
          0.003937680565495275,
          0.11785015413652974,
          0.012804902907495173,
          -0.007780644857540483,
          0.11353747511708752,
          0.045791930177056496,
          -0.08066502059244957,
          -0.05118287320771822,
          -0.03205890710200238,
          -0.03486086123662568,
          0.004203029466317255,
          0.03701042158442503,
          -0.08617424479456577,
          0.15693892507782742,
          0.04750197350788421,
          -0.11217337001106131,
          -0.011070456107323297,
          0.026306397803665137,
          -0.13676982193279597,
          -0.03213880893001655,
          -0.011087123505639793,
          -0.03503482815217888,
          0.08835916733525316,
          0.08265616434641444,
          0.07080884053177613,
          -0.0222061429740295,
          0.047301063626902735,
          0.06897365308135782,
          -0.045778409402149736,
          0.013709116973703866,
          -0.12985698896924125,
          0.12830200863105834,
          -0.0508626751869342,
          0.10055129717088326,
          -0.015312436722271394,
          -0.02601734486259103,
          0.028569217496176014,
          0.0006976199246225539,
          -0.022445705190395744,
          0.044537816562200176,
          -0.05272337430839675,
          -0.03264588795492343,
          -0.019394167184527775,
          -0.014310905899427342,
          0.015918023432880804,
          -0.14285060039124733,
          -0.09703975579946825,
          -0.07543946058204702,
          -0.18269617249888773,
          0.03719830316056629,
          -0.04953602882343348,
          -0.013562149982988103,
          0.057354297158682115,
          -0.044600746761923174,
          -0.07266103418934758,
          0.052188043554778886,
          -0.03068208445940482,
          -0.04021229232816437,
          0.046247110473404136,
          0.06482875677982039,
          0.009874606644923959,
          0.023299684285794316,
          0.023508300767347477,
          -0.02587064904656036,
          -0.026417667699096703,
          0.10584193233507874,
          -0.03939954952519059,
          -0.04024343716940368,
          0.021968398910991827,
          0.06576148686327242,
          -0.0500250634347684,
          0.14429034500972707,
          -0.036164651303129555,
          0.029699025206417252,
          -0.01047171320476113,
          -0.0016836249076110808,
          0.045207562208645025,
          0.032403297138679614,
          -0.013336613876055226,
          -0.06478539604008615,
          0.03269387208258014,
          -0.08063119495738129,
          -0.006591363303123207,
          0.07700281081420543
         ],
         "xaxis": "x2",
         "yaxis": "y2"
        }
       ],
       "layout": {
        "annotations": [
         {
          "font": {
           "size": 16
          },
          "showarrow": false,
          "text": "PC10 Cosine Similarity",
          "x": 0.5,
          "xanchor": "center",
          "xref": "paper",
          "y": 1,
          "yanchor": "bottom",
          "yref": "paper"
         },
         {
          "font": {
           "size": 16
          },
          "showarrow": false,
          "text": "Trait Frequency Distribution",
          "x": 0.5,
          "xanchor": "center",
          "xref": "paper",
          "y": 0.36000000000000004,
          "yanchor": "bottom",
          "yref": "paper"
         },
         {
          "bgcolor": "rgba(255, 255, 255, 0.9)",
          "bordercolor": "red",
          "borderwidth": 1,
          "font": {
           "color": "red",
           "size": 10
          },
          "showarrow": false,
          "text": "meditative",
          "x": -0.21289276590720774,
          "xref": "x",
          "y": 1.6,
          "yref": "y"
         },
         {
          "bgcolor": "rgba(255, 255, 255, 0.9)",
          "bordercolor": "red",
          "borderwidth": 1,
          "font": {
           "color": "red",
           "size": 10
          },
          "showarrow": false,
          "text": "savage",
          "x": -0.18269617249888773,
          "xref": "x",
          "y": 0.4,
          "yref": "y"
         },
         {
          "bgcolor": "rgba(255, 255, 255, 0.9)",
          "bordercolor": "red",
          "borderwidth": 1,
          "font": {
           "color": "red",
           "size": 10
          },
          "showarrow": false,
          "text": "emotional",
          "x": -0.15160883245995965,
          "xref": "x",
          "y": 1.45,
          "yref": "y"
         },
         {
          "bgcolor": "rgba(255, 255, 255, 0.9)",
          "bordercolor": "red",
          "borderwidth": 1,
          "font": {
           "color": "red",
           "size": 10
          },
          "showarrow": false,
          "text": "sarcastic",
          "x": -0.14285060039124733,
          "xref": "x",
          "y": 0.55,
          "yref": "y"
         },
         {
          "bgcolor": "rgba(255, 255, 255, 0.9)",
          "bordercolor": "red",
          "borderwidth": 1,
          "font": {
           "color": "red",
           "size": 10
          },
          "showarrow": false,
          "text": "petty",
          "x": -0.13676982193279597,
          "xref": "x",
          "y": 1.55,
          "yref": "y"
         },
         {
          "bgcolor": "rgba(255, 255, 255, 0.9)",
          "bordercolor": "red",
          "borderwidth": 1,
          "font": {
           "color": "red",
           "size": 10
          },
          "showarrow": false,
          "text": "introverted",
          "x": -0.13540007399588233,
          "xref": "x",
          "y": 0.45,
          "yref": "y"
         },
         {
          "bgcolor": "rgba(255, 255, 255, 0.9)",
          "bordercolor": "red",
          "borderwidth": 1,
          "font": {
           "color": "red",
           "size": 10
          },
          "showarrow": false,
          "text": "hostile",
          "x": -0.13334793524206692,
          "xref": "x",
          "y": 1.35,
          "yref": "y"
         },
         {
          "bgcolor": "rgba(255, 255, 255, 0.9)",
          "bordercolor": "red",
          "borderwidth": 1,
          "font": {
           "color": "red",
           "size": 10
          },
          "showarrow": false,
          "text": "qualitative",
          "x": -0.12985698896924125,
          "xref": "x",
          "y": 0.65,
          "yref": "y"
         },
         {
          "bgcolor": "rgba(255, 255, 255, 0.9)",
          "bordercolor": "red",
          "borderwidth": 1,
          "font": {
           "color": "red",
           "size": 10
          },
          "showarrow": false,
          "text": "humanistic",
          "x": -0.11891475562809065,
          "xref": "x",
          "y": 1.5,
          "yref": "y"
         },
         {
          "bgcolor": "rgba(255, 255, 255, 0.9)",
          "bordercolor": "red",
          "borderwidth": 1,
          "font": {
           "color": "red",
           "size": 10
          },
          "showarrow": false,
          "text": "accessible",
          "x": -0.11386768359143007,
          "xref": "x",
          "y": 0.5,
          "yref": "y"
         },
         {
          "bgcolor": "rgba(255, 255, 255, 0.9)",
          "bordercolor": "blue",
          "borderwidth": 1,
          "font": {
           "color": "blue",
           "size": 10
          },
          "showarrow": false,
          "text": "nihilistic",
          "x": 0.11785015413652974,
          "xref": "x",
          "y": 1.4,
          "yref": "y"
         },
         {
          "bgcolor": "rgba(255, 255, 255, 0.9)",
          "bordercolor": "blue",
          "borderwidth": 1,
          "font": {
           "color": "blue",
           "size": 10
          },
          "showarrow": false,
          "text": "ethereal",
          "x": 0.11858442860844527,
          "xref": "x",
          "y": 0.6,
          "yref": "y"
         },
         {
          "bgcolor": "rgba(255, 255, 255, 0.9)",
          "bordercolor": "blue",
          "borderwidth": 1,
          "font": {
           "color": "blue",
           "size": 10
          },
          "showarrow": false,
          "text": "quantitative",
          "x": 0.12830200863105834,
          "xref": "x",
          "y": 1.65,
          "yref": "y"
         },
         {
          "bgcolor": "rgba(255, 255, 255, 0.9)",
          "bordercolor": "blue",
          "borderwidth": 1,
          "font": {
           "color": "blue",
           "size": 10
          },
          "showarrow": false,
          "text": "dispassionate",
          "x": 0.12948457838344357,
          "xref": "x",
          "y": 0.35,
          "yref": "y"
         },
         {
          "bgcolor": "rgba(255, 255, 255, 0.9)",
          "bordercolor": "blue",
          "borderwidth": 1,
          "font": {
           "color": "blue",
           "size": 10
          },
          "showarrow": false,
          "text": "manic",
          "x": 0.13458834306643683,
          "xref": "x",
          "y": 1.3,
          "yref": "y"
         },
         {
          "bgcolor": "rgba(255, 255, 255, 0.9)",
          "bordercolor": "blue",
          "borderwidth": 1,
          "font": {
           "color": "blue",
           "size": 10
          },
          "showarrow": false,
          "text": "cryptic",
          "x": 0.14298369819382806,
          "xref": "x",
          "y": 0.7,
          "yref": "y"
         },
         {
          "bgcolor": "rgba(255, 255, 255, 0.9)",
          "bordercolor": "blue",
          "borderwidth": 1,
          "font": {
           "color": "blue",
           "size": 10
          },
          "showarrow": false,
          "text": "theatrical",
          "x": 0.14429034500972707,
          "xref": "x",
          "y": 1.58,
          "yref": "y"
         },
         {
          "bgcolor": "rgba(255, 255, 255, 0.9)",
          "bordercolor": "blue",
          "borderwidth": 1,
          "font": {
           "color": "blue",
           "size": 10
          },
          "showarrow": false,
          "text": "detached",
          "x": 0.15469095414922882,
          "xref": "x",
          "y": 0.42,
          "yref": "y"
         },
         {
          "bgcolor": "rgba(255, 255, 255, 0.9)",
          "bordercolor": "blue",
          "borderwidth": 1,
          "font": {
           "color": "blue",
           "size": 10
          },
          "showarrow": false,
          "text": "patient",
          "x": 0.15693892507782742,
          "xref": "x",
          "y": 1.42,
          "yref": "y"
         },
         {
          "bgcolor": "rgba(255, 255, 255, 0.9)",
          "bordercolor": "blue",
          "borderwidth": 1,
          "font": {
           "color": "blue",
           "size": 10
          },
          "showarrow": false,
          "text": "enigmatic",
          "x": 0.15976410270333324,
          "xref": "x",
          "y": 0.58,
          "yref": "y"
         }
        ],
        "height": 700,
        "shapes": [
         {
          "line": {
           "color": "gray",
           "dash": "solid",
           "width": 1
          },
          "opacity": 0.7,
          "type": "line",
          "x0": 0,
          "x1": 0,
          "xref": "x",
          "y0": 0,
          "y1": 1,
          "yref": "y domain"
         }
        ],
        "showlegend": false,
        "template": {
         "data": {
          "bar": [
           {
            "error_x": {
             "color": "#2a3f5f"
            },
            "error_y": {
             "color": "#2a3f5f"
            },
            "marker": {
             "line": {
              "color": "#E5ECF6",
              "width": 0.5
             },
             "pattern": {
              "fillmode": "overlay",
              "size": 10,
              "solidity": 0.2
             }
            },
            "type": "bar"
           }
          ],
          "barpolar": [
           {
            "marker": {
             "line": {
              "color": "#E5ECF6",
              "width": 0.5
             },
             "pattern": {
              "fillmode": "overlay",
              "size": 10,
              "solidity": 0.2
             }
            },
            "type": "barpolar"
           }
          ],
          "carpet": [
           {
            "aaxis": {
             "endlinecolor": "#2a3f5f",
             "gridcolor": "white",
             "linecolor": "white",
             "minorgridcolor": "white",
             "startlinecolor": "#2a3f5f"
            },
            "baxis": {
             "endlinecolor": "#2a3f5f",
             "gridcolor": "white",
             "linecolor": "white",
             "minorgridcolor": "white",
             "startlinecolor": "#2a3f5f"
            },
            "type": "carpet"
           }
          ],
          "choropleth": [
           {
            "colorbar": {
             "outlinewidth": 0,
             "ticks": ""
            },
            "type": "choropleth"
           }
          ],
          "contour": [
           {
            "colorbar": {
             "outlinewidth": 0,
             "ticks": ""
            },
            "colorscale": [
             [
              0,
              "#0d0887"
             ],
             [
              0.1111111111111111,
              "#46039f"
             ],
             [
              0.2222222222222222,
              "#7201a8"
             ],
             [
              0.3333333333333333,
              "#9c179e"
             ],
             [
              0.4444444444444444,
              "#bd3786"
             ],
             [
              0.5555555555555556,
              "#d8576b"
             ],
             [
              0.6666666666666666,
              "#ed7953"
             ],
             [
              0.7777777777777778,
              "#fb9f3a"
             ],
             [
              0.8888888888888888,
              "#fdca26"
             ],
             [
              1,
              "#f0f921"
             ]
            ],
            "type": "contour"
           }
          ],
          "contourcarpet": [
           {
            "colorbar": {
             "outlinewidth": 0,
             "ticks": ""
            },
            "type": "contourcarpet"
           }
          ],
          "heatmap": [
           {
            "colorbar": {
             "outlinewidth": 0,
             "ticks": ""
            },
            "colorscale": [
             [
              0,
              "#0d0887"
             ],
             [
              0.1111111111111111,
              "#46039f"
             ],
             [
              0.2222222222222222,
              "#7201a8"
             ],
             [
              0.3333333333333333,
              "#9c179e"
             ],
             [
              0.4444444444444444,
              "#bd3786"
             ],
             [
              0.5555555555555556,
              "#d8576b"
             ],
             [
              0.6666666666666666,
              "#ed7953"
             ],
             [
              0.7777777777777778,
              "#fb9f3a"
             ],
             [
              0.8888888888888888,
              "#fdca26"
             ],
             [
              1,
              "#f0f921"
             ]
            ],
            "type": "heatmap"
           }
          ],
          "heatmapgl": [
           {
            "colorbar": {
             "outlinewidth": 0,
             "ticks": ""
            },
            "colorscale": [
             [
              0,
              "#0d0887"
             ],
             [
              0.1111111111111111,
              "#46039f"
             ],
             [
              0.2222222222222222,
              "#7201a8"
             ],
             [
              0.3333333333333333,
              "#9c179e"
             ],
             [
              0.4444444444444444,
              "#bd3786"
             ],
             [
              0.5555555555555556,
              "#d8576b"
             ],
             [
              0.6666666666666666,
              "#ed7953"
             ],
             [
              0.7777777777777778,
              "#fb9f3a"
             ],
             [
              0.8888888888888888,
              "#fdca26"
             ],
             [
              1,
              "#f0f921"
             ]
            ],
            "type": "heatmapgl"
           }
          ],
          "histogram": [
           {
            "marker": {
             "pattern": {
              "fillmode": "overlay",
              "size": 10,
              "solidity": 0.2
             }
            },
            "type": "histogram"
           }
          ],
          "histogram2d": [
           {
            "colorbar": {
             "outlinewidth": 0,
             "ticks": ""
            },
            "colorscale": [
             [
              0,
              "#0d0887"
             ],
             [
              0.1111111111111111,
              "#46039f"
             ],
             [
              0.2222222222222222,
              "#7201a8"
             ],
             [
              0.3333333333333333,
              "#9c179e"
             ],
             [
              0.4444444444444444,
              "#bd3786"
             ],
             [
              0.5555555555555556,
              "#d8576b"
             ],
             [
              0.6666666666666666,
              "#ed7953"
             ],
             [
              0.7777777777777778,
              "#fb9f3a"
             ],
             [
              0.8888888888888888,
              "#fdca26"
             ],
             [
              1,
              "#f0f921"
             ]
            ],
            "type": "histogram2d"
           }
          ],
          "histogram2dcontour": [
           {
            "colorbar": {
             "outlinewidth": 0,
             "ticks": ""
            },
            "colorscale": [
             [
              0,
              "#0d0887"
             ],
             [
              0.1111111111111111,
              "#46039f"
             ],
             [
              0.2222222222222222,
              "#7201a8"
             ],
             [
              0.3333333333333333,
              "#9c179e"
             ],
             [
              0.4444444444444444,
              "#bd3786"
             ],
             [
              0.5555555555555556,
              "#d8576b"
             ],
             [
              0.6666666666666666,
              "#ed7953"
             ],
             [
              0.7777777777777778,
              "#fb9f3a"
             ],
             [
              0.8888888888888888,
              "#fdca26"
             ],
             [
              1,
              "#f0f921"
             ]
            ],
            "type": "histogram2dcontour"
           }
          ],
          "mesh3d": [
           {
            "colorbar": {
             "outlinewidth": 0,
             "ticks": ""
            },
            "type": "mesh3d"
           }
          ],
          "parcoords": [
           {
            "line": {
             "colorbar": {
              "outlinewidth": 0,
              "ticks": ""
             }
            },
            "type": "parcoords"
           }
          ],
          "pie": [
           {
            "automargin": true,
            "type": "pie"
           }
          ],
          "scatter": [
           {
            "fillpattern": {
             "fillmode": "overlay",
             "size": 10,
             "solidity": 0.2
            },
            "type": "scatter"
           }
          ],
          "scatter3d": [
           {
            "line": {
             "colorbar": {
              "outlinewidth": 0,
              "ticks": ""
             }
            },
            "marker": {
             "colorbar": {
              "outlinewidth": 0,
              "ticks": ""
             }
            },
            "type": "scatter3d"
           }
          ],
          "scattercarpet": [
           {
            "marker": {
             "colorbar": {
              "outlinewidth": 0,
              "ticks": ""
             }
            },
            "type": "scattercarpet"
           }
          ],
          "scattergeo": [
           {
            "marker": {
             "colorbar": {
              "outlinewidth": 0,
              "ticks": ""
             }
            },
            "type": "scattergeo"
           }
          ],
          "scattergl": [
           {
            "marker": {
             "colorbar": {
              "outlinewidth": 0,
              "ticks": ""
             }
            },
            "type": "scattergl"
           }
          ],
          "scattermapbox": [
           {
            "marker": {
             "colorbar": {
              "outlinewidth": 0,
              "ticks": ""
             }
            },
            "type": "scattermapbox"
           }
          ],
          "scatterpolar": [
           {
            "marker": {
             "colorbar": {
              "outlinewidth": 0,
              "ticks": ""
             }
            },
            "type": "scatterpolar"
           }
          ],
          "scatterpolargl": [
           {
            "marker": {
             "colorbar": {
              "outlinewidth": 0,
              "ticks": ""
             }
            },
            "type": "scatterpolargl"
           }
          ],
          "scatterternary": [
           {
            "marker": {
             "colorbar": {
              "outlinewidth": 0,
              "ticks": ""
             }
            },
            "type": "scatterternary"
           }
          ],
          "surface": [
           {
            "colorbar": {
             "outlinewidth": 0,
             "ticks": ""
            },
            "colorscale": [
             [
              0,
              "#0d0887"
             ],
             [
              0.1111111111111111,
              "#46039f"
             ],
             [
              0.2222222222222222,
              "#7201a8"
             ],
             [
              0.3333333333333333,
              "#9c179e"
             ],
             [
              0.4444444444444444,
              "#bd3786"
             ],
             [
              0.5555555555555556,
              "#d8576b"
             ],
             [
              0.6666666666666666,
              "#ed7953"
             ],
             [
              0.7777777777777778,
              "#fb9f3a"
             ],
             [
              0.8888888888888888,
              "#fdca26"
             ],
             [
              1,
              "#f0f921"
             ]
            ],
            "type": "surface"
           }
          ],
          "table": [
           {
            "cells": {
             "fill": {
              "color": "#EBF0F8"
             },
             "line": {
              "color": "white"
             }
            },
            "header": {
             "fill": {
              "color": "#C8D4E3"
             },
             "line": {
              "color": "white"
             }
            },
            "type": "table"
           }
          ]
         },
         "layout": {
          "annotationdefaults": {
           "arrowcolor": "#2a3f5f",
           "arrowhead": 0,
           "arrowwidth": 1
          },
          "autotypenumbers": "strict",
          "coloraxis": {
           "colorbar": {
            "outlinewidth": 0,
            "ticks": ""
           }
          },
          "colorscale": {
           "diverging": [
            [
             0,
             "#8e0152"
            ],
            [
             0.1,
             "#c51b7d"
            ],
            [
             0.2,
             "#de77ae"
            ],
            [
             0.3,
             "#f1b6da"
            ],
            [
             0.4,
             "#fde0ef"
            ],
            [
             0.5,
             "#f7f7f7"
            ],
            [
             0.6,
             "#e6f5d0"
            ],
            [
             0.7,
             "#b8e186"
            ],
            [
             0.8,
             "#7fbc41"
            ],
            [
             0.9,
             "#4d9221"
            ],
            [
             1,
             "#276419"
            ]
           ],
           "sequential": [
            [
             0,
             "#0d0887"
            ],
            [
             0.1111111111111111,
             "#46039f"
            ],
            [
             0.2222222222222222,
             "#7201a8"
            ],
            [
             0.3333333333333333,
             "#9c179e"
            ],
            [
             0.4444444444444444,
             "#bd3786"
            ],
            [
             0.5555555555555556,
             "#d8576b"
            ],
            [
             0.6666666666666666,
             "#ed7953"
            ],
            [
             0.7777777777777778,
             "#fb9f3a"
            ],
            [
             0.8888888888888888,
             "#fdca26"
            ],
            [
             1,
             "#f0f921"
            ]
           ],
           "sequentialminus": [
            [
             0,
             "#0d0887"
            ],
            [
             0.1111111111111111,
             "#46039f"
            ],
            [
             0.2222222222222222,
             "#7201a8"
            ],
            [
             0.3333333333333333,
             "#9c179e"
            ],
            [
             0.4444444444444444,
             "#bd3786"
            ],
            [
             0.5555555555555556,
             "#d8576b"
            ],
            [
             0.6666666666666666,
             "#ed7953"
            ],
            [
             0.7777777777777778,
             "#fb9f3a"
            ],
            [
             0.8888888888888888,
             "#fdca26"
            ],
            [
             1,
             "#f0f921"
            ]
           ]
          },
          "colorway": [
           "#636efa",
           "#EF553B",
           "#00cc96",
           "#ab63fa",
           "#FFA15A",
           "#19d3f3",
           "#FF6692",
           "#B6E880",
           "#FF97FF",
           "#FECB52"
          ],
          "font": {
           "color": "#2a3f5f"
          },
          "geo": {
           "bgcolor": "white",
           "lakecolor": "white",
           "landcolor": "#E5ECF6",
           "showlakes": true,
           "showland": true,
           "subunitcolor": "white"
          },
          "hoverlabel": {
           "align": "left"
          },
          "hovermode": "closest",
          "mapbox": {
           "style": "light"
          },
          "paper_bgcolor": "white",
          "plot_bgcolor": "#E5ECF6",
          "polar": {
           "angularaxis": {
            "gridcolor": "white",
            "linecolor": "white",
            "ticks": ""
           },
           "bgcolor": "#E5ECF6",
           "radialaxis": {
            "gridcolor": "white",
            "linecolor": "white",
            "ticks": ""
           }
          },
          "scene": {
           "xaxis": {
            "backgroundcolor": "#E5ECF6",
            "gridcolor": "white",
            "gridwidth": 2,
            "linecolor": "white",
            "showbackground": true,
            "ticks": "",
            "zerolinecolor": "white"
           },
           "yaxis": {
            "backgroundcolor": "#E5ECF6",
            "gridcolor": "white",
            "gridwidth": 2,
            "linecolor": "white",
            "showbackground": true,
            "ticks": "",
            "zerolinecolor": "white"
           },
           "zaxis": {
            "backgroundcolor": "#E5ECF6",
            "gridcolor": "white",
            "gridwidth": 2,
            "linecolor": "white",
            "showbackground": true,
            "ticks": "",
            "zerolinecolor": "white"
           }
          },
          "shapedefaults": {
           "line": {
            "color": "#2a3f5f"
           }
          },
          "ternary": {
           "aaxis": {
            "gridcolor": "white",
            "linecolor": "white",
            "ticks": ""
           },
           "baxis": {
            "gridcolor": "white",
            "linecolor": "white",
            "ticks": ""
           },
           "bgcolor": "#E5ECF6",
           "caxis": {
            "gridcolor": "white",
            "linecolor": "white",
            "ticks": ""
           }
          },
          "title": {
           "x": 0.05
          },
          "xaxis": {
           "automargin": true,
           "gridcolor": "white",
           "linecolor": "white",
           "ticks": "",
           "title": {
            "standoff": 15
           },
           "zerolinecolor": "white",
           "zerolinewidth": 2
          },
          "yaxis": {
           "automargin": true,
           "gridcolor": "white",
           "linecolor": "white",
           "ticks": "",
           "title": {
            "standoff": 15
           },
           "zerolinecolor": "white",
           "zerolinewidth": 2
          }
         }
        },
        "title": {
         "font": {
          "size": 16
         },
         "subtitle": {
          "text": "Gemma 2 27B, Layer 34"
         },
         "text": "PCA on Trait Vectors from Mean Response Activations",
         "x": 0.5
        },
        "xaxis": {
         "anchor": "y",
         "domain": [
          0,
          1
         ],
         "range": [
          -0.23418204249792854,
          0.23418204249792854
         ]
        },
        "xaxis2": {
         "anchor": "y2",
         "domain": [
          0,
          1
         ],
         "range": [
          -0.23418204249792854,
          0.23418204249792854
         ],
         "title": {
          "text": "PC10 Cosine Similarity"
         }
        },
        "yaxis": {
         "anchor": "x",
         "domain": [
          0.4600000000000001,
          1
         ],
         "range": [
          0.25,
          1.75
         ],
         "showticklabels": false,
         "title": {
          "text": ""
         }
        },
        "yaxis2": {
         "anchor": "x2",
         "domain": [
          0,
          0.36000000000000004
         ],
         "title": {
          "text": "Frequency"
         }
        }
       }
      },
      "text/html": [
       "<div>                            <div id=\"d76a31e9-d87b-4be0-b6ae-00d1566b6473\" class=\"plotly-graph-div\" style=\"height:700px; width:100%;\"></div>            <script type=\"text/javascript\">                require([\"plotly\"], function(Plotly) {                    window.PLOTLYENV=window.PLOTLYENV || {};                                    if (document.getElementById(\"d76a31e9-d87b-4be0-b6ae-00d1566b6473\")) {                    Plotly.newPlot(                        \"d76a31e9-d87b-4be0-b6ae-00d1566b6473\",                        [{\"hovertemplate\":\"\\u003cb\\u003e%{text}\\u003c\\u002fb\\u003e\\u003cbr\\u003eCosine Similarity: %{x:.3f}\\u003cextra\\u003e\\u003c\\u002fextra\\u003e\",\"marker\":{\"color\":[\"blue\",\"blue\",\"red\",\"blue\",\"red\",\"red\",\"blue\",\"red\",\"blue\",\"blue\",\"blue\",\"blue\",\"red\",\"red\",\"red\",\"blue\",\"red\",\"red\",\"red\",\"red\",\"blue\",\"blue\",\"blue\",\"red\",\"blue\",\"blue\",\"red\",\"blue\",\"red\",\"red\",\"blue\",\"red\",\"blue\",\"red\",\"red\",\"blue\",\"red\",\"red\",\"blue\",\"red\",\"blue\",\"red\",\"red\",\"red\",\"blue\",\"blue\",\"blue\",\"red\",\"red\",\"blue\",\"red\",\"red\",\"blue\",\"blue\",\"blue\",\"blue\",\"red\",\"blue\",\"blue\",\"blue\",\"blue\",\"red\",\"blue\",\"blue\",\"blue\",\"red\",\"red\",\"red\",\"red\",\"blue\",\"blue\",\"blue\",\"blue\",\"red\",\"red\",\"red\",\"red\",\"blue\",\"blue\",\"blue\",\"red\",\"red\",\"red\",\"red\",\"blue\",\"blue\",\"blue\",\"blue\",\"blue\",\"blue\",\"red\",\"red\",\"blue\",\"blue\",\"red\",\"red\",\"red\",\"red\",\"blue\",\"blue\",\"blue\",\"blue\",\"blue\",\"red\",\"red\",\"blue\",\"red\",\"blue\",\"blue\",\"blue\",\"red\",\"red\",\"blue\",\"red\",\"red\",\"blue\",\"red\",\"red\",\"red\",\"red\",\"red\",\"red\",\"blue\",\"red\",\"red\",\"blue\",\"blue\",\"blue\",\"blue\",\"red\",\"blue\",\"red\",\"blue\",\"blue\",\"red\",\"red\",\"red\",\"red\",\"red\",\"blue\",\"blue\",\"red\",\"blue\",\"blue\",\"red\",\"red\",\"red\",\"red\",\"blue\",\"blue\",\"red\",\"blue\",\"red\",\"red\",\"blue\",\"red\",\"red\",\"red\",\"blue\",\"blue\",\"blue\",\"red\",\"blue\",\"blue\",\"red\",\"blue\",\"red\",\"blue\",\"red\",\"red\",\"blue\",\"blue\",\"red\",\"blue\",\"red\",\"red\",\"red\",\"red\",\"blue\",\"red\",\"red\",\"blue\",\"red\",\"red\",\"blue\",\"red\",\"red\",\"blue\",\"red\",\"red\",\"blue\",\"blue\",\"blue\",\"blue\",\"blue\",\"red\",\"red\",\"blue\",\"red\",\"red\",\"blue\",\"blue\",\"red\",\"red\",\"blue\",\"red\",\"red\",\"blue\",\"blue\",\"red\",\"red\",\"blue\",\"red\",\"red\",\"blue\"],\"opacity\":0.7,\"size\":8},\"mode\":\"markers\",\"showlegend\":false,\"text\":[\"absolutist\",\"adaptable\",\"abstract\",\"accommodating\",\"acerbic\",\"adventurous\",\"agreeable\",\"altruistic\",\"analytical\",\"animated\",\"anthropocentric\",\"anxious\",\"arrogant\",\"artistic\",\"ascetic\",\"assertive\",\"avoidant\",\"benevolent\",\"big_picture\",\"bitter\",\"blunt\",\"bombastic\",\"calculating\",\"callous\",\"calm\",\"casual\",\"cautious\",\"challenging\",\"chaotic\",\"charismatic\",\"chill\",\"circumspect\",\"closure_seeking\",\"collaborative\",\"collectivistic\",\"competitive\",\"conceptual\",\"conciliatory\",\"concise\",\"condescending\",\"confident\",\"confrontational\",\"conscientious\",\"constructivist\",\"contemporary\",\"contrarian\",\"convergent\",\"cosmopolitan\",\"creative\",\"critical\",\"cruel\",\"curious\",\"cynical\",\"data_driven\",\"decisive\",\"deconstructionist\",\"deontological\",\"descriptive\",\"deterministic\",\"diplomatic\",\"disorganized\",\"divergent\",\"dogmatic\",\"dominant\",\"dramatic\",\"earnest\",\"eclectic\",\"edgy\",\"educational\",\"efficient\",\"effusive\",\"elitist\",\"eloquent\",\"empathetic\",\"entertaining\",\"environmental\",\"epicurean\",\"erudite\",\"esoteric\",\"essentialist\",\"evil\",\"existentialist\",\"experiential\",\"exploratory\",\"extroverted\",\"factual\",\"fatalistic\",\"flexible\",\"flippant\",\"flirty\",\"forgiving\",\"formal\",\"formalist\",\"fundamentalist\",\"futuristic\",\"generalist\",\"generous\",\"goofy\",\"grandiose\",\"gregarious\",\"grounded\",\"hedonistic\",\"historical\",\"holistic\",\"humble\",\"iconoclastic\",\"idealistic\",\"impatient\",\"improvisational\",\"impulsive\",\"inclusive\",\"independent\",\"individualistic\",\"innovative\",\"inquisitive\",\"inspirational\",\"interdisciplinary\",\"introspective\",\"intuitive\",\"ironic\",\"irreverent\",\"judgmental\",\"libertarian\",\"literal\",\"manipulative\",\"materialist\",\"melancholic\",\"melodramatic\",\"mercurial\",\"metaphorical\",\"methodical\",\"meticulous\",\"militant\",\"misanthropic\",\"mischievous\",\"moderate\",\"mystical\",\"naive\",\"narrative\",\"neurotic\",\"nonchalant\",\"nostalgic\",\"nurturing\",\"obsessive\",\"open_ended\",\"optimistic\",\"pacifist\",\"paradoxical\",\"paranoid\",\"passionate\",\"passive_aggressive\",\"pedantic\",\"pensive\",\"perfectionist\",\"pessimistic\",\"philosophical\",\"playful\",\"pluralist\",\"poetic\",\"practical\",\"prescriptive\",\"principled\",\"proactive\",\"problem_solving\",\"progressive\",\"provocative\",\"radical\",\"rationalist\",\"reactive\",\"rebellious\",\"reductionist\",\"regulatory\",\"reserved\",\"resilient\",\"reverent\",\"rhetorical\",\"risk_taking\",\"ritualistic\",\"romantic\",\"sardonic\",\"sassy\",\"secular\",\"serene\",\"serious\",\"skeptical\",\"socratic\",\"solemn\",\"specialized\",\"speculative\",\"spiritual\",\"spontaneous\",\"stoic\",\"strategic\",\"stream_of_consciousness\",\"structuralist\",\"submissive\",\"subversive\",\"supportive\",\"sycophantic\",\"systems_thinker\",\"tactful\",\"technical\",\"temperamental\",\"theoretical\",\"traditional\",\"understated\",\"universalist\",\"urgent\",\"utilitarian\",\"verbose\",\"visceral\",\"whimsical\",\"witty\",\"wry\",\"zealous\"],\"x\":[0.039408777389437454,0.02423283824344667,-0.0868489083301963,0.04904940589041914,-0.10121336457269296,-0.016598048343377893,0.0901679177254442,-0.05168802615501574,0.023644112011151085,0.00989134781543583,0.04113415901132873,0.024457167231462972,-0.0009803566729238438,-0.10287427411865936,-0.05456877229139761,0.0008384932167170848,-0.030284837430045463,-0.011935666964673247,-0.07355867517596318,-0.046778948281821095,0.023893330956563524,0.10371260767706592,0.006030842565260477,-0.03581632630353089,0.01685848021423284,0.03316592245102203,-0.014474993837267063,0.06351185913773927,-0.012717089446345094,-0.009021817356225054,0.10956738855183738,-0.04147919787548647,0.0357339667771942,-0.025948209286587007,-0.044895745087164325,0.08184293827459352,-0.07325894103183433,-0.015282566668902967,0.020965697839868472,-0.07921288387618915,0.038100412352636906,-0.04561144760142452,-0.0042994345724881936,-0.05938797412291871,0.02212149134211373,0.028089412837447637,0.02478594497536291,-0.07381283780883013,-0.03960550681369931,0.014331749445133423,-0.10658858040853487,-0.03805450956052201,0.08746545266049997,0.08403581826136931,0.03516891343971273,0.020277407425671384,-0.01602543278753418,0.05981146306309993,0.086859827072597,0.006630304767351074,0.042479432958987436,-0.02120062023426249,0.02177191270836227,0.049396942119394306,0.05610458915303561,-0.10250785514181801,-0.07210173189519897,-0.04046232872091554,-0.01877948183034927,0.061869398135189,0.07156311399189969,0.039414404685834,0.0012842032814296316,-0.10640464841458118,-0.015771704828900984,-0.06074158218768285,-0.03148068516815203,0.008555488604285543,0.09732684012470928,0.0420673076841299,-0.05369549484047511,-0.05288813036583695,-0.0124181448306358,-0.0067431263794689375,0.05671374659419718,0.010337431737356033,0.0042859005667423965,0.06160901761264479,0.015686883692401423,0.09561182322445143,-0.037149203012024026,-0.05525250095261431,0.037929019281897396,0.10895368662101769,-0.06794320634045095,-0.01735085080211426,-0.010764264945166873,-0.002926225713269551,0.09521755158126899,0.02231740029812312,0.09641414312593215,0.05601814166606489,0.01269257701031986,-0.04925513652690233,-0.07051628130514076,0.04137195031568102,-0.07127030720748972,0.04601329858647651,0.004520817877249889,0.04044096404007179,-0.06841143595722256,-0.040024254738943395,0.04407411032713842,-0.043735089399363394,-0.014694166891992053,0.03825556008568453,-0.027332679214137973,-0.013404902232072888,-0.06430443911348195,-0.09711458164909498,-0.06858751006669063,-0.07624581138597435,0.008702828678248085,-0.017897912168399234,-0.04491702486055064,0.09024169341256855,0.049806378850299975,0.08346153082950986,0.04328914419992942,-0.011129007315595525,0.019414564933453542,-0.002139765975962517,0.034553702229459124,0.08617536679070646,-0.03665932414020574,-0.012589801712601047,-0.032741978278379866,-0.02715189135963233,-0.004446379116486523,0.003937680565495275,0.012804902907495173,-0.007780644857540483,0.11353747511708752,0.045791930177056496,-0.08066502059244957,-0.05118287320771822,-0.03205890710200238,-0.03486086123662568,0.004203029466317255,0.03701042158442503,-0.08617424479456577,0.04750197350788421,-0.11217337001106131,-0.011070456107323297,0.026306397803665137,-0.03213880893001655,-0.011087123505639793,-0.03503482815217888,0.08835916733525316,0.08265616434641444,0.07080884053177613,-0.0222061429740295,0.047301063626902735,0.06897365308135782,-0.045778409402149736,0.013709116973703866,-0.0508626751869342,0.10055129717088326,-0.015312436722271394,-0.02601734486259103,0.028569217496176014,0.0006976199246225539,-0.022445705190395744,0.044537816562200176,-0.05272337430839675,-0.03264588795492343,-0.019394167184527775,-0.014310905899427342,0.015918023432880804,-0.09703975579946825,-0.07543946058204702,0.03719830316056629,-0.04953602882343348,-0.013562149982988103,0.057354297158682115,-0.044600746761923174,-0.07266103418934758,0.052188043554778886,-0.03068208445940482,-0.04021229232816437,0.046247110473404136,0.06482875677982039,0.009874606644923959,0.023299684285794316,0.023508300767347477,-0.02587064904656036,-0.026417667699096703,0.10584193233507874,-0.03939954952519059,-0.04024343716940368,0.021968398910991827,0.06576148686327242,-0.0500250634347684,-0.036164651303129555,0.029699025206417252,-0.01047171320476113,-0.0016836249076110808,0.045207562208645025,0.032403297138679614,-0.013336613876055226,-0.06478539604008615,0.03269387208258014,-0.08063119495738129,-0.006591363303123207,0.07700281081420543],\"y\":[1,1,1,1,1,1,1,1,1,1,1,1,1,1,1,1,1,1,1,1,1,1,1,1,1,1,1,1,1,1,1,1,1,1,1,1,1,1,1,1,1,1,1,1,1,1,1,1,1,1,1,1,1,1,1,1,1,1,1,1,1,1,1,1,1,1,1,1,1,1,1,1,1,1,1,1,1,1,1,1,1,1,1,1,1,1,1,1,1,1,1,1,1,1,1,1,1,1,1,1,1,1,1,1,1,1,1,1,1,1,1,1,1,1,1,1,1,1,1,1,1,1,1,1,1,1,1,1,1,1,1,1,1,1,1,1,1,1,1,1,1,1,1,1,1,1,1,1,1,1,1,1,1,1,1,1,1,1,1,1,1,1,1,1,1,1,1,1,1,1,1,1,1,1,1,1,1,1,1,1,1,1,1,1,1,1,1,1,1,1,1,1,1,1,1,1,1,1,1,1,1,1,1,1,1,1,1,1,1,1,1,1,1,1,1],\"type\":\"scatter\",\"xaxis\":\"x\",\"yaxis\":\"y\"},{\"hovertemplate\":\"\\u003cb\\u003e%{text}\\u003c\\u002fb\\u003e\\u003cbr\\u003eCosine Similarity: %{x:.3f}\\u003cextra\\u003e\\u003c\\u002fextra\\u003e\",\"marker\":{\"color\":[\"red\",\"blue\",\"blue\",\"blue\",\"red\",\"blue\",\"blue\",\"red\",\"red\",\"red\",\"blue\",\"red\",\"blue\",\"blue\",\"red\",\"red\",\"blue\",\"red\",\"red\",\"blue\"],\"opacity\":0.9,\"size\":8},\"mode\":\"markers\",\"showlegend\":false,\"text\":[\"accessible\",\"cryptic\",\"detached\",\"dispassionate\",\"emotional\",\"enigmatic\",\"ethereal\",\"hostile\",\"humanistic\",\"introverted\",\"manic\",\"meditative\",\"nihilistic\",\"patient\",\"petty\",\"qualitative\",\"quantitative\",\"sarcastic\",\"savage\",\"theatrical\"],\"x\":[-0.11386768359143007,0.14298369819382806,0.15469095414922882,0.12948457838344357,-0.15160883245995965,0.15976410270333324,0.11858442860844527,-0.13334793524206692,-0.11891475562809065,-0.13540007399588233,0.13458834306643683,-0.21289276590720774,0.11785015413652974,0.15693892507782742,-0.13676982193279597,-0.12985698896924125,0.12830200863105834,-0.14285060039124733,-0.18269617249888773,0.14429034500972707],\"y\":[1,1,1,1,1,1,1,1,1,1,1,1,1,1,1,1,1,1,1,1],\"type\":\"scatter\",\"xaxis\":\"x\",\"yaxis\":\"y\"},{\"hoverinfo\":\"skip\",\"line\":{\"color\":\"red\",\"width\":1},\"mode\":\"lines\",\"showlegend\":false,\"x\":[-0.21289276590720774,-0.21289276590720774],\"y\":[1.0,1.6],\"type\":\"scatter\",\"xaxis\":\"x\",\"yaxis\":\"y\"},{\"hoverinfo\":\"skip\",\"line\":{\"color\":\"red\",\"width\":1},\"mode\":\"lines\",\"showlegend\":false,\"x\":[-0.18269617249888773,-0.18269617249888773],\"y\":[1.0,0.4],\"type\":\"scatter\",\"xaxis\":\"x\",\"yaxis\":\"y\"},{\"hoverinfo\":\"skip\",\"line\":{\"color\":\"red\",\"width\":1},\"mode\":\"lines\",\"showlegend\":false,\"x\":[-0.15160883245995965,-0.15160883245995965],\"y\":[1.0,1.45],\"type\":\"scatter\",\"xaxis\":\"x\",\"yaxis\":\"y\"},{\"hoverinfo\":\"skip\",\"line\":{\"color\":\"red\",\"width\":1},\"mode\":\"lines\",\"showlegend\":false,\"x\":[-0.14285060039124733,-0.14285060039124733],\"y\":[1.0,0.55],\"type\":\"scatter\",\"xaxis\":\"x\",\"yaxis\":\"y\"},{\"hoverinfo\":\"skip\",\"line\":{\"color\":\"red\",\"width\":1},\"mode\":\"lines\",\"showlegend\":false,\"x\":[-0.13676982193279597,-0.13676982193279597],\"y\":[1.0,1.55],\"type\":\"scatter\",\"xaxis\":\"x\",\"yaxis\":\"y\"},{\"hoverinfo\":\"skip\",\"line\":{\"color\":\"red\",\"width\":1},\"mode\":\"lines\",\"showlegend\":false,\"x\":[-0.13540007399588233,-0.13540007399588233],\"y\":[1.0,0.45],\"type\":\"scatter\",\"xaxis\":\"x\",\"yaxis\":\"y\"},{\"hoverinfo\":\"skip\",\"line\":{\"color\":\"red\",\"width\":1},\"mode\":\"lines\",\"showlegend\":false,\"x\":[-0.13334793524206692,-0.13334793524206692],\"y\":[1.0,1.35],\"type\":\"scatter\",\"xaxis\":\"x\",\"yaxis\":\"y\"},{\"hoverinfo\":\"skip\",\"line\":{\"color\":\"red\",\"width\":1},\"mode\":\"lines\",\"showlegend\":false,\"x\":[-0.12985698896924125,-0.12985698896924125],\"y\":[1.0,0.65],\"type\":\"scatter\",\"xaxis\":\"x\",\"yaxis\":\"y\"},{\"hoverinfo\":\"skip\",\"line\":{\"color\":\"red\",\"width\":1},\"mode\":\"lines\",\"showlegend\":false,\"x\":[-0.11891475562809065,-0.11891475562809065],\"y\":[1.0,1.5],\"type\":\"scatter\",\"xaxis\":\"x\",\"yaxis\":\"y\"},{\"hoverinfo\":\"skip\",\"line\":{\"color\":\"red\",\"width\":1},\"mode\":\"lines\",\"showlegend\":false,\"x\":[-0.11386768359143007,-0.11386768359143007],\"y\":[1.0,0.5],\"type\":\"scatter\",\"xaxis\":\"x\",\"yaxis\":\"y\"},{\"hoverinfo\":\"skip\",\"line\":{\"color\":\"blue\",\"width\":1},\"mode\":\"lines\",\"showlegend\":false,\"x\":[0.11785015413652974,0.11785015413652974],\"y\":[1.0,1.4],\"type\":\"scatter\",\"xaxis\":\"x\",\"yaxis\":\"y\"},{\"hoverinfo\":\"skip\",\"line\":{\"color\":\"blue\",\"width\":1},\"mode\":\"lines\",\"showlegend\":false,\"x\":[0.11858442860844527,0.11858442860844527],\"y\":[1.0,0.6],\"type\":\"scatter\",\"xaxis\":\"x\",\"yaxis\":\"y\"},{\"hoverinfo\":\"skip\",\"line\":{\"color\":\"blue\",\"width\":1},\"mode\":\"lines\",\"showlegend\":false,\"x\":[0.12830200863105834,0.12830200863105834],\"y\":[1.0,1.65],\"type\":\"scatter\",\"xaxis\":\"x\",\"yaxis\":\"y\"},{\"hoverinfo\":\"skip\",\"line\":{\"color\":\"blue\",\"width\":1},\"mode\":\"lines\",\"showlegend\":false,\"x\":[0.12948457838344357,0.12948457838344357],\"y\":[1.0,0.35],\"type\":\"scatter\",\"xaxis\":\"x\",\"yaxis\":\"y\"},{\"hoverinfo\":\"skip\",\"line\":{\"color\":\"blue\",\"width\":1},\"mode\":\"lines\",\"showlegend\":false,\"x\":[0.13458834306643683,0.13458834306643683],\"y\":[1.0,1.3],\"type\":\"scatter\",\"xaxis\":\"x\",\"yaxis\":\"y\"},{\"hoverinfo\":\"skip\",\"line\":{\"color\":\"blue\",\"width\":1},\"mode\":\"lines\",\"showlegend\":false,\"x\":[0.14298369819382806,0.14298369819382806],\"y\":[1.0,0.7],\"type\":\"scatter\",\"xaxis\":\"x\",\"yaxis\":\"y\"},{\"hoverinfo\":\"skip\",\"line\":{\"color\":\"blue\",\"width\":1},\"mode\":\"lines\",\"showlegend\":false,\"x\":[0.14429034500972707,0.14429034500972707],\"y\":[1.0,1.58],\"type\":\"scatter\",\"xaxis\":\"x\",\"yaxis\":\"y\"},{\"hoverinfo\":\"skip\",\"line\":{\"color\":\"blue\",\"width\":1},\"mode\":\"lines\",\"showlegend\":false,\"x\":[0.15469095414922882,0.15469095414922882],\"y\":[1.0,0.42],\"type\":\"scatter\",\"xaxis\":\"x\",\"yaxis\":\"y\"},{\"hoverinfo\":\"skip\",\"line\":{\"color\":\"blue\",\"width\":1},\"mode\":\"lines\",\"showlegend\":false,\"x\":[0.15693892507782742,0.15693892507782742],\"y\":[1.0,1.42],\"type\":\"scatter\",\"xaxis\":\"x\",\"yaxis\":\"y\"},{\"hoverinfo\":\"skip\",\"line\":{\"color\":\"blue\",\"width\":1},\"mode\":\"lines\",\"showlegend\":false,\"x\":[0.15976410270333324,0.15976410270333324],\"y\":[1.0,0.58],\"type\":\"scatter\",\"xaxis\":\"x\",\"yaxis\":\"y\"},{\"marker\":{\"color\":\"steelblue\"},\"nbinsx\":30,\"opacity\":0.7,\"showlegend\":false,\"x\":[0.039408777389437454,0.02423283824344667,-0.0868489083301963,-0.11386768359143007,0.04904940589041914,-0.10121336457269296,-0.016598048343377893,0.0901679177254442,-0.05168802615501574,0.023644112011151085,0.00989134781543583,0.04113415901132873,0.024457167231462972,-0.0009803566729238438,-0.10287427411865936,-0.05456877229139761,0.0008384932167170848,-0.030284837430045463,-0.011935666964673247,-0.07355867517596318,-0.046778948281821095,0.023893330956563524,0.10371260767706592,0.006030842565260477,-0.03581632630353089,0.01685848021423284,0.03316592245102203,-0.014474993837267063,0.06351185913773927,-0.012717089446345094,-0.009021817356225054,0.10956738855183738,-0.04147919787548647,0.0357339667771942,-0.025948209286587007,-0.044895745087164325,0.08184293827459352,-0.07325894103183433,-0.015282566668902967,0.020965697839868472,-0.07921288387618915,0.038100412352636906,-0.04561144760142452,-0.0042994345724881936,-0.05938797412291871,0.02212149134211373,0.028089412837447637,0.02478594497536291,-0.07381283780883013,-0.03960550681369931,0.014331749445133423,-0.10658858040853487,0.14298369819382806,-0.03805450956052201,0.08746545266049997,0.08403581826136931,0.03516891343971273,0.020277407425671384,-0.01602543278753418,0.05981146306309993,0.15469095414922882,0.086859827072597,0.006630304767351074,0.042479432958987436,0.12948457838344357,-0.02120062023426249,0.02177191270836227,0.049396942119394306,0.05610458915303561,-0.10250785514181801,-0.07210173189519897,-0.04046232872091554,-0.01877948183034927,0.061869398135189,0.07156311399189969,0.039414404685834,0.0012842032814296316,-0.15160883245995965,-0.10640464841458118,0.15976410270333324,-0.015771704828900984,-0.06074158218768285,-0.03148068516815203,0.008555488604285543,0.09732684012470928,0.0420673076841299,0.11858442860844527,-0.05369549484047511,-0.05288813036583695,-0.0124181448306358,-0.0067431263794689375,0.05671374659419718,0.010337431737356033,0.0042859005667423965,0.06160901761264479,0.015686883692401423,0.09561182322445143,-0.037149203012024026,-0.05525250095261431,0.037929019281897396,0.10895368662101769,-0.06794320634045095,-0.01735085080211426,-0.010764264945166873,-0.002926225713269551,0.09521755158126899,0.02231740029812312,0.09641414312593215,0.05601814166606489,0.01269257701031986,-0.04925513652690233,-0.13334793524206692,-0.11891475562809065,-0.07051628130514076,0.04137195031568102,-0.07127030720748972,0.04601329858647651,0.004520817877249889,0.04044096404007179,-0.06841143595722256,-0.040024254738943395,0.04407411032713842,-0.043735089399363394,-0.014694166891992053,0.03825556008568453,-0.027332679214137973,-0.013404902232072888,-0.13540007399588233,-0.06430443911348195,-0.09711458164909498,-0.06858751006669063,-0.07624581138597435,0.008702828678248085,-0.017897912168399234,0.13458834306643683,-0.04491702486055064,0.09024169341256855,-0.21289276590720774,0.049806378850299975,0.08346153082950986,0.04328914419992942,-0.011129007315595525,0.019414564933453542,-0.002139765975962517,0.034553702229459124,0.08617536679070646,-0.03665932414020574,-0.012589801712601047,-0.032741978278379866,-0.02715189135963233,-0.004446379116486523,0.003937680565495275,0.11785015413652974,0.012804902907495173,-0.007780644857540483,0.11353747511708752,0.045791930177056496,-0.08066502059244957,-0.05118287320771822,-0.03205890710200238,-0.03486086123662568,0.004203029466317255,0.03701042158442503,-0.08617424479456577,0.15693892507782742,0.04750197350788421,-0.11217337001106131,-0.011070456107323297,0.026306397803665137,-0.13676982193279597,-0.03213880893001655,-0.011087123505639793,-0.03503482815217888,0.08835916733525316,0.08265616434641444,0.07080884053177613,-0.0222061429740295,0.047301063626902735,0.06897365308135782,-0.045778409402149736,0.013709116973703866,-0.12985698896924125,0.12830200863105834,-0.0508626751869342,0.10055129717088326,-0.015312436722271394,-0.02601734486259103,0.028569217496176014,0.0006976199246225539,-0.022445705190395744,0.044537816562200176,-0.05272337430839675,-0.03264588795492343,-0.019394167184527775,-0.014310905899427342,0.015918023432880804,-0.14285060039124733,-0.09703975579946825,-0.07543946058204702,-0.18269617249888773,0.03719830316056629,-0.04953602882343348,-0.013562149982988103,0.057354297158682115,-0.044600746761923174,-0.07266103418934758,0.052188043554778886,-0.03068208445940482,-0.04021229232816437,0.046247110473404136,0.06482875677982039,0.009874606644923959,0.023299684285794316,0.023508300767347477,-0.02587064904656036,-0.026417667699096703,0.10584193233507874,-0.03939954952519059,-0.04024343716940368,0.021968398910991827,0.06576148686327242,-0.0500250634347684,0.14429034500972707,-0.036164651303129555,0.029699025206417252,-0.01047171320476113,-0.0016836249076110808,0.045207562208645025,0.032403297138679614,-0.013336613876055226,-0.06478539604008615,0.03269387208258014,-0.08063119495738129,-0.006591363303123207,0.07700281081420543],\"type\":\"histogram\",\"xaxis\":\"x2\",\"yaxis\":\"y2\"}],                        {\"template\":{\"data\":{\"histogram2dcontour\":[{\"type\":\"histogram2dcontour\",\"colorbar\":{\"outlinewidth\":0,\"ticks\":\"\"},\"colorscale\":[[0.0,\"#0d0887\"],[0.1111111111111111,\"#46039f\"],[0.2222222222222222,\"#7201a8\"],[0.3333333333333333,\"#9c179e\"],[0.4444444444444444,\"#bd3786\"],[0.5555555555555556,\"#d8576b\"],[0.6666666666666666,\"#ed7953\"],[0.7777777777777778,\"#fb9f3a\"],[0.8888888888888888,\"#fdca26\"],[1.0,\"#f0f921\"]]}],\"choropleth\":[{\"type\":\"choropleth\",\"colorbar\":{\"outlinewidth\":0,\"ticks\":\"\"}}],\"histogram2d\":[{\"type\":\"histogram2d\",\"colorbar\":{\"outlinewidth\":0,\"ticks\":\"\"},\"colorscale\":[[0.0,\"#0d0887\"],[0.1111111111111111,\"#46039f\"],[0.2222222222222222,\"#7201a8\"],[0.3333333333333333,\"#9c179e\"],[0.4444444444444444,\"#bd3786\"],[0.5555555555555556,\"#d8576b\"],[0.6666666666666666,\"#ed7953\"],[0.7777777777777778,\"#fb9f3a\"],[0.8888888888888888,\"#fdca26\"],[1.0,\"#f0f921\"]]}],\"heatmap\":[{\"type\":\"heatmap\",\"colorbar\":{\"outlinewidth\":0,\"ticks\":\"\"},\"colorscale\":[[0.0,\"#0d0887\"],[0.1111111111111111,\"#46039f\"],[0.2222222222222222,\"#7201a8\"],[0.3333333333333333,\"#9c179e\"],[0.4444444444444444,\"#bd3786\"],[0.5555555555555556,\"#d8576b\"],[0.6666666666666666,\"#ed7953\"],[0.7777777777777778,\"#fb9f3a\"],[0.8888888888888888,\"#fdca26\"],[1.0,\"#f0f921\"]]}],\"heatmapgl\":[{\"type\":\"heatmapgl\",\"colorbar\":{\"outlinewidth\":0,\"ticks\":\"\"},\"colorscale\":[[0.0,\"#0d0887\"],[0.1111111111111111,\"#46039f\"],[0.2222222222222222,\"#7201a8\"],[0.3333333333333333,\"#9c179e\"],[0.4444444444444444,\"#bd3786\"],[0.5555555555555556,\"#d8576b\"],[0.6666666666666666,\"#ed7953\"],[0.7777777777777778,\"#fb9f3a\"],[0.8888888888888888,\"#fdca26\"],[1.0,\"#f0f921\"]]}],\"contourcarpet\":[{\"type\":\"contourcarpet\",\"colorbar\":{\"outlinewidth\":0,\"ticks\":\"\"}}],\"contour\":[{\"type\":\"contour\",\"colorbar\":{\"outlinewidth\":0,\"ticks\":\"\"},\"colorscale\":[[0.0,\"#0d0887\"],[0.1111111111111111,\"#46039f\"],[0.2222222222222222,\"#7201a8\"],[0.3333333333333333,\"#9c179e\"],[0.4444444444444444,\"#bd3786\"],[0.5555555555555556,\"#d8576b\"],[0.6666666666666666,\"#ed7953\"],[0.7777777777777778,\"#fb9f3a\"],[0.8888888888888888,\"#fdca26\"],[1.0,\"#f0f921\"]]}],\"surface\":[{\"type\":\"surface\",\"colorbar\":{\"outlinewidth\":0,\"ticks\":\"\"},\"colorscale\":[[0.0,\"#0d0887\"],[0.1111111111111111,\"#46039f\"],[0.2222222222222222,\"#7201a8\"],[0.3333333333333333,\"#9c179e\"],[0.4444444444444444,\"#bd3786\"],[0.5555555555555556,\"#d8576b\"],[0.6666666666666666,\"#ed7953\"],[0.7777777777777778,\"#fb9f3a\"],[0.8888888888888888,\"#fdca26\"],[1.0,\"#f0f921\"]]}],\"mesh3d\":[{\"type\":\"mesh3d\",\"colorbar\":{\"outlinewidth\":0,\"ticks\":\"\"}}],\"scatter\":[{\"fillpattern\":{\"fillmode\":\"overlay\",\"size\":10,\"solidity\":0.2},\"type\":\"scatter\"}],\"parcoords\":[{\"type\":\"parcoords\",\"line\":{\"colorbar\":{\"outlinewidth\":0,\"ticks\":\"\"}}}],\"scatterpolargl\":[{\"type\":\"scatterpolargl\",\"marker\":{\"colorbar\":{\"outlinewidth\":0,\"ticks\":\"\"}}}],\"bar\":[{\"error_x\":{\"color\":\"#2a3f5f\"},\"error_y\":{\"color\":\"#2a3f5f\"},\"marker\":{\"line\":{\"color\":\"#E5ECF6\",\"width\":0.5},\"pattern\":{\"fillmode\":\"overlay\",\"size\":10,\"solidity\":0.2}},\"type\":\"bar\"}],\"scattergeo\":[{\"type\":\"scattergeo\",\"marker\":{\"colorbar\":{\"outlinewidth\":0,\"ticks\":\"\"}}}],\"scatterpolar\":[{\"type\":\"scatterpolar\",\"marker\":{\"colorbar\":{\"outlinewidth\":0,\"ticks\":\"\"}}}],\"histogram\":[{\"marker\":{\"pattern\":{\"fillmode\":\"overlay\",\"size\":10,\"solidity\":0.2}},\"type\":\"histogram\"}],\"scattergl\":[{\"type\":\"scattergl\",\"marker\":{\"colorbar\":{\"outlinewidth\":0,\"ticks\":\"\"}}}],\"scatter3d\":[{\"type\":\"scatter3d\",\"line\":{\"colorbar\":{\"outlinewidth\":0,\"ticks\":\"\"}},\"marker\":{\"colorbar\":{\"outlinewidth\":0,\"ticks\":\"\"}}}],\"scattermapbox\":[{\"type\":\"scattermapbox\",\"marker\":{\"colorbar\":{\"outlinewidth\":0,\"ticks\":\"\"}}}],\"scatterternary\":[{\"type\":\"scatterternary\",\"marker\":{\"colorbar\":{\"outlinewidth\":0,\"ticks\":\"\"}}}],\"scattercarpet\":[{\"type\":\"scattercarpet\",\"marker\":{\"colorbar\":{\"outlinewidth\":0,\"ticks\":\"\"}}}],\"carpet\":[{\"aaxis\":{\"endlinecolor\":\"#2a3f5f\",\"gridcolor\":\"white\",\"linecolor\":\"white\",\"minorgridcolor\":\"white\",\"startlinecolor\":\"#2a3f5f\"},\"baxis\":{\"endlinecolor\":\"#2a3f5f\",\"gridcolor\":\"white\",\"linecolor\":\"white\",\"minorgridcolor\":\"white\",\"startlinecolor\":\"#2a3f5f\"},\"type\":\"carpet\"}],\"table\":[{\"cells\":{\"fill\":{\"color\":\"#EBF0F8\"},\"line\":{\"color\":\"white\"}},\"header\":{\"fill\":{\"color\":\"#C8D4E3\"},\"line\":{\"color\":\"white\"}},\"type\":\"table\"}],\"barpolar\":[{\"marker\":{\"line\":{\"color\":\"#E5ECF6\",\"width\":0.5},\"pattern\":{\"fillmode\":\"overlay\",\"size\":10,\"solidity\":0.2}},\"type\":\"barpolar\"}],\"pie\":[{\"automargin\":true,\"type\":\"pie\"}]},\"layout\":{\"autotypenumbers\":\"strict\",\"colorway\":[\"#636efa\",\"#EF553B\",\"#00cc96\",\"#ab63fa\",\"#FFA15A\",\"#19d3f3\",\"#FF6692\",\"#B6E880\",\"#FF97FF\",\"#FECB52\"],\"font\":{\"color\":\"#2a3f5f\"},\"hovermode\":\"closest\",\"hoverlabel\":{\"align\":\"left\"},\"paper_bgcolor\":\"white\",\"plot_bgcolor\":\"#E5ECF6\",\"polar\":{\"bgcolor\":\"#E5ECF6\",\"angularaxis\":{\"gridcolor\":\"white\",\"linecolor\":\"white\",\"ticks\":\"\"},\"radialaxis\":{\"gridcolor\":\"white\",\"linecolor\":\"white\",\"ticks\":\"\"}},\"ternary\":{\"bgcolor\":\"#E5ECF6\",\"aaxis\":{\"gridcolor\":\"white\",\"linecolor\":\"white\",\"ticks\":\"\"},\"baxis\":{\"gridcolor\":\"white\",\"linecolor\":\"white\",\"ticks\":\"\"},\"caxis\":{\"gridcolor\":\"white\",\"linecolor\":\"white\",\"ticks\":\"\"}},\"coloraxis\":{\"colorbar\":{\"outlinewidth\":0,\"ticks\":\"\"}},\"colorscale\":{\"sequential\":[[0.0,\"#0d0887\"],[0.1111111111111111,\"#46039f\"],[0.2222222222222222,\"#7201a8\"],[0.3333333333333333,\"#9c179e\"],[0.4444444444444444,\"#bd3786\"],[0.5555555555555556,\"#d8576b\"],[0.6666666666666666,\"#ed7953\"],[0.7777777777777778,\"#fb9f3a\"],[0.8888888888888888,\"#fdca26\"],[1.0,\"#f0f921\"]],\"sequentialminus\":[[0.0,\"#0d0887\"],[0.1111111111111111,\"#46039f\"],[0.2222222222222222,\"#7201a8\"],[0.3333333333333333,\"#9c179e\"],[0.4444444444444444,\"#bd3786\"],[0.5555555555555556,\"#d8576b\"],[0.6666666666666666,\"#ed7953\"],[0.7777777777777778,\"#fb9f3a\"],[0.8888888888888888,\"#fdca26\"],[1.0,\"#f0f921\"]],\"diverging\":[[0,\"#8e0152\"],[0.1,\"#c51b7d\"],[0.2,\"#de77ae\"],[0.3,\"#f1b6da\"],[0.4,\"#fde0ef\"],[0.5,\"#f7f7f7\"],[0.6,\"#e6f5d0\"],[0.7,\"#b8e186\"],[0.8,\"#7fbc41\"],[0.9,\"#4d9221\"],[1,\"#276419\"]]},\"xaxis\":{\"gridcolor\":\"white\",\"linecolor\":\"white\",\"ticks\":\"\",\"title\":{\"standoff\":15},\"zerolinecolor\":\"white\",\"automargin\":true,\"zerolinewidth\":2},\"yaxis\":{\"gridcolor\":\"white\",\"linecolor\":\"white\",\"ticks\":\"\",\"title\":{\"standoff\":15},\"zerolinecolor\":\"white\",\"automargin\":true,\"zerolinewidth\":2},\"scene\":{\"xaxis\":{\"backgroundcolor\":\"#E5ECF6\",\"gridcolor\":\"white\",\"linecolor\":\"white\",\"showbackground\":true,\"ticks\":\"\",\"zerolinecolor\":\"white\",\"gridwidth\":2},\"yaxis\":{\"backgroundcolor\":\"#E5ECF6\",\"gridcolor\":\"white\",\"linecolor\":\"white\",\"showbackground\":true,\"ticks\":\"\",\"zerolinecolor\":\"white\",\"gridwidth\":2},\"zaxis\":{\"backgroundcolor\":\"#E5ECF6\",\"gridcolor\":\"white\",\"linecolor\":\"white\",\"showbackground\":true,\"ticks\":\"\",\"zerolinecolor\":\"white\",\"gridwidth\":2}},\"shapedefaults\":{\"line\":{\"color\":\"#2a3f5f\"}},\"annotationdefaults\":{\"arrowcolor\":\"#2a3f5f\",\"arrowhead\":0,\"arrowwidth\":1},\"geo\":{\"bgcolor\":\"white\",\"landcolor\":\"#E5ECF6\",\"subunitcolor\":\"white\",\"showland\":true,\"showlakes\":true,\"lakecolor\":\"white\"},\"title\":{\"x\":0.05},\"mapbox\":{\"style\":\"light\"}}},\"xaxis\":{\"anchor\":\"y\",\"domain\":[0.0,1.0],\"range\":[-0.23418204249792854,0.23418204249792854]},\"yaxis\":{\"anchor\":\"x\",\"domain\":[0.4600000000000001,1.0],\"title\":{\"text\":\"\"},\"showticklabels\":false,\"range\":[0.25,1.75]},\"xaxis2\":{\"anchor\":\"y2\",\"domain\":[0.0,1.0],\"title\":{\"text\":\"PC10 Cosine Similarity\"},\"range\":[-0.23418204249792854,0.23418204249792854]},\"yaxis2\":{\"anchor\":\"x2\",\"domain\":[0.0,0.36000000000000004],\"title\":{\"text\":\"Frequency\"}},\"annotations\":[{\"font\":{\"size\":16},\"showarrow\":false,\"text\":\"PC10 Cosine Similarity\",\"x\":0.5,\"xanchor\":\"center\",\"xref\":\"paper\",\"y\":1.0,\"yanchor\":\"bottom\",\"yref\":\"paper\"},{\"font\":{\"size\":16},\"showarrow\":false,\"text\":\"Trait Frequency Distribution\",\"x\":0.5,\"xanchor\":\"center\",\"xref\":\"paper\",\"y\":0.36000000000000004,\"yanchor\":\"bottom\",\"yref\":\"paper\"},{\"bgcolor\":\"rgba(255, 255, 255, 0.9)\",\"bordercolor\":\"red\",\"borderwidth\":1,\"font\":{\"color\":\"red\",\"size\":10},\"showarrow\":false,\"text\":\"meditative\",\"x\":-0.21289276590720774,\"xref\":\"x\",\"y\":1.6,\"yref\":\"y\"},{\"bgcolor\":\"rgba(255, 255, 255, 0.9)\",\"bordercolor\":\"red\",\"borderwidth\":1,\"font\":{\"color\":\"red\",\"size\":10},\"showarrow\":false,\"text\":\"savage\",\"x\":-0.18269617249888773,\"xref\":\"x\",\"y\":0.4,\"yref\":\"y\"},{\"bgcolor\":\"rgba(255, 255, 255, 0.9)\",\"bordercolor\":\"red\",\"borderwidth\":1,\"font\":{\"color\":\"red\",\"size\":10},\"showarrow\":false,\"text\":\"emotional\",\"x\":-0.15160883245995965,\"xref\":\"x\",\"y\":1.45,\"yref\":\"y\"},{\"bgcolor\":\"rgba(255, 255, 255, 0.9)\",\"bordercolor\":\"red\",\"borderwidth\":1,\"font\":{\"color\":\"red\",\"size\":10},\"showarrow\":false,\"text\":\"sarcastic\",\"x\":-0.14285060039124733,\"xref\":\"x\",\"y\":0.55,\"yref\":\"y\"},{\"bgcolor\":\"rgba(255, 255, 255, 0.9)\",\"bordercolor\":\"red\",\"borderwidth\":1,\"font\":{\"color\":\"red\",\"size\":10},\"showarrow\":false,\"text\":\"petty\",\"x\":-0.13676982193279597,\"xref\":\"x\",\"y\":1.55,\"yref\":\"y\"},{\"bgcolor\":\"rgba(255, 255, 255, 0.9)\",\"bordercolor\":\"red\",\"borderwidth\":1,\"font\":{\"color\":\"red\",\"size\":10},\"showarrow\":false,\"text\":\"introverted\",\"x\":-0.13540007399588233,\"xref\":\"x\",\"y\":0.45,\"yref\":\"y\"},{\"bgcolor\":\"rgba(255, 255, 255, 0.9)\",\"bordercolor\":\"red\",\"borderwidth\":1,\"font\":{\"color\":\"red\",\"size\":10},\"showarrow\":false,\"text\":\"hostile\",\"x\":-0.13334793524206692,\"xref\":\"x\",\"y\":1.35,\"yref\":\"y\"},{\"bgcolor\":\"rgba(255, 255, 255, 0.9)\",\"bordercolor\":\"red\",\"borderwidth\":1,\"font\":{\"color\":\"red\",\"size\":10},\"showarrow\":false,\"text\":\"qualitative\",\"x\":-0.12985698896924125,\"xref\":\"x\",\"y\":0.65,\"yref\":\"y\"},{\"bgcolor\":\"rgba(255, 255, 255, 0.9)\",\"bordercolor\":\"red\",\"borderwidth\":1,\"font\":{\"color\":\"red\",\"size\":10},\"showarrow\":false,\"text\":\"humanistic\",\"x\":-0.11891475562809065,\"xref\":\"x\",\"y\":1.5,\"yref\":\"y\"},{\"bgcolor\":\"rgba(255, 255, 255, 0.9)\",\"bordercolor\":\"red\",\"borderwidth\":1,\"font\":{\"color\":\"red\",\"size\":10},\"showarrow\":false,\"text\":\"accessible\",\"x\":-0.11386768359143007,\"xref\":\"x\",\"y\":0.5,\"yref\":\"y\"},{\"bgcolor\":\"rgba(255, 255, 255, 0.9)\",\"bordercolor\":\"blue\",\"borderwidth\":1,\"font\":{\"color\":\"blue\",\"size\":10},\"showarrow\":false,\"text\":\"nihilistic\",\"x\":0.11785015413652974,\"xref\":\"x\",\"y\":1.4,\"yref\":\"y\"},{\"bgcolor\":\"rgba(255, 255, 255, 0.9)\",\"bordercolor\":\"blue\",\"borderwidth\":1,\"font\":{\"color\":\"blue\",\"size\":10},\"showarrow\":false,\"text\":\"ethereal\",\"x\":0.11858442860844527,\"xref\":\"x\",\"y\":0.6,\"yref\":\"y\"},{\"bgcolor\":\"rgba(255, 255, 255, 0.9)\",\"bordercolor\":\"blue\",\"borderwidth\":1,\"font\":{\"color\":\"blue\",\"size\":10},\"showarrow\":false,\"text\":\"quantitative\",\"x\":0.12830200863105834,\"xref\":\"x\",\"y\":1.65,\"yref\":\"y\"},{\"bgcolor\":\"rgba(255, 255, 255, 0.9)\",\"bordercolor\":\"blue\",\"borderwidth\":1,\"font\":{\"color\":\"blue\",\"size\":10},\"showarrow\":false,\"text\":\"dispassionate\",\"x\":0.12948457838344357,\"xref\":\"x\",\"y\":0.35,\"yref\":\"y\"},{\"bgcolor\":\"rgba(255, 255, 255, 0.9)\",\"bordercolor\":\"blue\",\"borderwidth\":1,\"font\":{\"color\":\"blue\",\"size\":10},\"showarrow\":false,\"text\":\"manic\",\"x\":0.13458834306643683,\"xref\":\"x\",\"y\":1.3,\"yref\":\"y\"},{\"bgcolor\":\"rgba(255, 255, 255, 0.9)\",\"bordercolor\":\"blue\",\"borderwidth\":1,\"font\":{\"color\":\"blue\",\"size\":10},\"showarrow\":false,\"text\":\"cryptic\",\"x\":0.14298369819382806,\"xref\":\"x\",\"y\":0.7,\"yref\":\"y\"},{\"bgcolor\":\"rgba(255, 255, 255, 0.9)\",\"bordercolor\":\"blue\",\"borderwidth\":1,\"font\":{\"color\":\"blue\",\"size\":10},\"showarrow\":false,\"text\":\"theatrical\",\"x\":0.14429034500972707,\"xref\":\"x\",\"y\":1.58,\"yref\":\"y\"},{\"bgcolor\":\"rgba(255, 255, 255, 0.9)\",\"bordercolor\":\"blue\",\"borderwidth\":1,\"font\":{\"color\":\"blue\",\"size\":10},\"showarrow\":false,\"text\":\"detached\",\"x\":0.15469095414922882,\"xref\":\"x\",\"y\":0.42,\"yref\":\"y\"},{\"bgcolor\":\"rgba(255, 255, 255, 0.9)\",\"bordercolor\":\"blue\",\"borderwidth\":1,\"font\":{\"color\":\"blue\",\"size\":10},\"showarrow\":false,\"text\":\"patient\",\"x\":0.15693892507782742,\"xref\":\"x\",\"y\":1.42,\"yref\":\"y\"},{\"bgcolor\":\"rgba(255, 255, 255, 0.9)\",\"bordercolor\":\"blue\",\"borderwidth\":1,\"font\":{\"color\":\"blue\",\"size\":10},\"showarrow\":false,\"text\":\"enigmatic\",\"x\":0.15976410270333324,\"xref\":\"x\",\"y\":0.58,\"yref\":\"y\"}],\"shapes\":[{\"line\":{\"color\":\"gray\",\"dash\":\"solid\",\"width\":1},\"opacity\":0.7,\"type\":\"line\",\"x0\":0,\"x1\":0,\"xref\":\"x\",\"y0\":0,\"y1\":1,\"yref\":\"y domain\"}],\"title\":{\"subtitle\":{\"text\":\"Gemma 2 27B, Layer 34\"},\"font\":{\"size\":16},\"text\":\"PCA on Trait Vectors from Mean Response Activations\",\"x\":0.5},\"height\":700,\"showlegend\":false},                        {\"responsive\": true}                    ).then(function(){\n",
       "                            \n",
       "var gd = document.getElementById('d76a31e9-d87b-4be0-b6ae-00d1566b6473');\n",
       "var x = new MutationObserver(function (mutations, observer) {{\n",
       "        var display = window.getComputedStyle(gd).display;\n",
       "        if (!display || display === 'none') {{\n",
       "            console.log([gd, 'removed!']);\n",
       "            Plotly.purge(gd);\n",
       "            observer.disconnect();\n",
       "        }}\n",
       "}});\n",
       "\n",
       "// Listen for the removal of the full notebook cells\n",
       "var notebookContainer = gd.closest('#notebook-container');\n",
       "if (notebookContainer) {{\n",
       "    x.observe(notebookContainer, {childList: true});\n",
       "}}\n",
       "\n",
       "// Listen for the clearing of the current output cell\n",
       "var outputEl = gd.closest('.output');\n",
       "if (outputEl) {{\n",
       "    x.observe(outputEl, {childList: true});\n",
       "}}\n",
       "\n",
       "                        })                };                });            </script>        </div>"
      ]
     },
     "metadata": {},
     "output_type": "display_data"
    }
   ],
   "source": [
    "component = 9\n",
    "fig = plot_pca_cosine_similarity(\n",
    "        pca_transformed=pca_transformed,\n",
    "        trait_labels=filtered_pos_neg_50_traits,\n",
    "        pc_component=component,\n",
    "        layer=layer,\n",
    "        color_threshold=0.0  # Adjust this threshold as needed\n",
    "    )\n",
    "fig.show()\n",
    "fig.write_html(f\"./results/pc{component+1}.html\")"
   ]
  },
  {
   "cell_type": "code",
   "execution_count": 26,
   "id": "12724638",
   "metadata": {},
   "outputs": [
    {
     "data": {
      "application/vnd.plotly.v1+json": {
       "config": {
        "plotlyServerURL": "https://plot.ly"
       },
       "data": [
        {
         "hovertemplate": "<b>%{text}</b><br>PC1: %{x:.3f}<br>PC2: %{y:.3f}<br>PC3: %{z:.3f}<br><extra></extra>",
         "marker": {
          "color": [
           "blue",
           "blue",
           "blue",
           "blue",
           "blue",
           "blue",
           "blue",
           "blue",
           "blue",
           "blue",
           "blue",
           "blue",
           "blue",
           "blue",
           "blue",
           "blue",
           "blue",
           "blue",
           "blue",
           "blue",
           "blue",
           "blue",
           "blue",
           "blue",
           "blue",
           "blue",
           "blue",
           "blue",
           "blue",
           "blue",
           "blue",
           "blue",
           "blue",
           "blue",
           "blue",
           "blue",
           "blue",
           "blue",
           "blue",
           "blue",
           "blue",
           "blue",
           "blue",
           "blue",
           "blue",
           "blue",
           "blue",
           "blue",
           "blue",
           "blue",
           "blue",
           "blue",
           "blue",
           "blue",
           "blue",
           "blue",
           "blue",
           "blue",
           "blue",
           "blue",
           "blue",
           "blue",
           "blue",
           "blue",
           "blue",
           "blue",
           "blue",
           "blue",
           "blue",
           "blue",
           "blue",
           "blue",
           "blue",
           "blue",
           "blue",
           "blue",
           "blue",
           "blue",
           "blue",
           "blue",
           "blue",
           "blue",
           "blue",
           "blue",
           "blue",
           "blue",
           "blue",
           "blue",
           "blue",
           "blue",
           "blue",
           "blue",
           "blue",
           "blue",
           "blue",
           "blue",
           "blue",
           "blue",
           "blue",
           "blue",
           "blue",
           "blue",
           "blue",
           "blue",
           "blue",
           "blue",
           "blue",
           "blue",
           "blue",
           "blue",
           "blue",
           "blue",
           "blue",
           "blue",
           "blue",
           "blue",
           "blue",
           "blue",
           "blue",
           "blue",
           "blue",
           "blue",
           "blue",
           "blue",
           "blue",
           "blue",
           "blue",
           "blue",
           "blue",
           "blue",
           "blue",
           "blue",
           "blue",
           "blue",
           "blue",
           "blue",
           "blue",
           "blue",
           "blue",
           "blue",
           "blue",
           "blue",
           "blue",
           "blue",
           "blue",
           "blue",
           "blue",
           "blue",
           "blue",
           "blue",
           "blue",
           "blue",
           "blue",
           "blue",
           "blue",
           "blue",
           "blue",
           "blue",
           "blue",
           "blue",
           "blue",
           "blue",
           "blue",
           "blue",
           "blue",
           "blue",
           "blue",
           "blue",
           "blue",
           "blue",
           "blue",
           "blue",
           "blue",
           "blue",
           "blue",
           "blue",
           "blue",
           "blue",
           "blue",
           "blue",
           "blue",
           "blue",
           "blue",
           "blue",
           "blue",
           "blue",
           "blue",
           "blue",
           "blue",
           "blue",
           "blue",
           "blue",
           "blue",
           "blue",
           "blue",
           "blue",
           "blue",
           "blue",
           "blue",
           "blue",
           "blue",
           "blue",
           "blue",
           "blue",
           "blue",
           "blue",
           "blue",
           "blue",
           "blue",
           "blue",
           "blue",
           "blue",
           "blue",
           "blue",
           "blue",
           "blue",
           "blue",
           "blue",
           "blue",
           "blue",
           "blue",
           "blue",
           "blue",
           "blue",
           "blue",
           "blue",
           "blue",
           "blue",
           "blue",
           "blue",
           "blue",
           "blue",
           "blue",
           "blue",
           "blue"
          ],
          "line": {
           "color": "black",
           "width": 2
          },
          "size": 3
         },
         "mode": "markers+text",
         "text": [
          "absolutist",
          "adaptable",
          "abstract",
          "accessible",
          "accommodating",
          "acerbic",
          "adventurous",
          "agreeable",
          "altruistic",
          "analytical",
          "animated",
          "anthropocentric",
          "anxious",
          "arrogant",
          "artistic",
          "ascetic",
          "assertive",
          "avoidant",
          "benevolent",
          "big_picture",
          "bitter",
          "blunt",
          "bombastic",
          "calculating",
          "callous",
          "calm",
          "casual",
          "cautious",
          "challenging",
          "chaotic",
          "charismatic",
          "chill",
          "circumspect",
          "closure_seeking",
          "collaborative",
          "collectivistic",
          "competitive",
          "conceptual",
          "conciliatory",
          "concise",
          "condescending",
          "confident",
          "confrontational",
          "conscientious",
          "constructivist",
          "contemporary",
          "contrarian",
          "convergent",
          "cosmopolitan",
          "creative",
          "critical",
          "cruel",
          "cryptic",
          "curious",
          "cynical",
          "data_driven",
          "decisive",
          "deconstructionist",
          "deontological",
          "descriptive",
          "detached",
          "deterministic",
          "diplomatic",
          "disorganized",
          "dispassionate",
          "divergent",
          "dogmatic",
          "dominant",
          "dramatic",
          "earnest",
          "eclectic",
          "edgy",
          "educational",
          "efficient",
          "effusive",
          "elitist",
          "eloquent",
          "emotional",
          "empathetic",
          "enigmatic",
          "entertaining",
          "environmental",
          "epicurean",
          "erudite",
          "esoteric",
          "essentialist",
          "ethereal",
          "evil",
          "existentialist",
          "experiential",
          "exploratory",
          "extroverted",
          "factual",
          "fatalistic",
          "flexible",
          "flippant",
          "flirty",
          "forgiving",
          "formal",
          "formalist",
          "fundamentalist",
          "futuristic",
          "generalist",
          "generous",
          "goofy",
          "grandiose",
          "gregarious",
          "grounded",
          "hedonistic",
          "historical",
          "holistic",
          "hostile",
          "humanistic",
          "humble",
          "iconoclastic",
          "idealistic",
          "impatient",
          "improvisational",
          "impulsive",
          "inclusive",
          "independent",
          "individualistic",
          "innovative",
          "inquisitive",
          "inspirational",
          "interdisciplinary",
          "introspective",
          "introverted",
          "intuitive",
          "ironic",
          "irreverent",
          "judgmental",
          "libertarian",
          "literal",
          "manic",
          "manipulative",
          "materialist",
          "meditative",
          "melancholic",
          "melodramatic",
          "mercurial",
          "metaphorical",
          "methodical",
          "meticulous",
          "militant",
          "misanthropic",
          "mischievous",
          "moderate",
          "mystical",
          "naive",
          "narrative",
          "neurotic",
          "nihilistic",
          "nonchalant",
          "nostalgic",
          "nurturing",
          "obsessive",
          "open_ended",
          "optimistic",
          "pacifist",
          "paradoxical",
          "paranoid",
          "passionate",
          "passive_aggressive",
          "patient",
          "pedantic",
          "pensive",
          "perfectionist",
          "pessimistic",
          "petty",
          "philosophical",
          "playful",
          "pluralist",
          "poetic",
          "practical",
          "prescriptive",
          "principled",
          "proactive",
          "problem_solving",
          "progressive",
          "provocative",
          "qualitative",
          "quantitative",
          "radical",
          "rationalist",
          "reactive",
          "rebellious",
          "reductionist",
          "regulatory",
          "reserved",
          "resilient",
          "reverent",
          "rhetorical",
          "risk_taking",
          "ritualistic",
          "romantic",
          "sarcastic",
          "sardonic",
          "sassy",
          "savage",
          "secular",
          "serene",
          "serious",
          "skeptical",
          "socratic",
          "solemn",
          "specialized",
          "speculative",
          "spiritual",
          "spontaneous",
          "stoic",
          "strategic",
          "stream_of_consciousness",
          "structuralist",
          "submissive",
          "subversive",
          "supportive",
          "sycophantic",
          "systems_thinker",
          "tactful",
          "technical",
          "temperamental",
          "theatrical",
          "theoretical",
          "traditional",
          "understated",
          "universalist",
          "urgent",
          "utilitarian",
          "verbose",
          "visceral",
          "whimsical",
          "witty",
          "wry",
          "zealous"
         ],
         "textfont": {
          "size": 6
         },
         "textposition": "top center",
         "type": "scatter3d",
         "x": [
          3.113547274548199,
          7.7598882636113995,
          8.937586736882114,
          -0.9627363469873884,
          -14.061238926013072,
          -30.824836787086298,
          -19.812891746541432,
          50.57522477899989,
          24.74225572330905,
          29.58922253401651,
          -39.673539338269805,
          7.87185545887743,
          -29.194053854611766,
          -17.469357904959985,
          -20.877567107800417,
          22.07482947517674,
          -10.983173242857156,
          13.670858485703945,
          33.835424610826834,
          12.0365259044561,
          -39.0937382401217,
          -9.326303988665712,
          -23.26961882477314,
          28.164416040821056,
          -14.505214291499785,
          66.44191053808316,
          -38.159865732246715,
          28.86995994167087,
          -8.001508716742663,
          -0.07487336463832754,
          -35.48887331515521,
          27.614578346792538,
          31.010820402151396,
          2.931239120698813,
          21.55123750810285,
          18.983464479692014,
          -25.18868093352793,
          8.92224573351374,
          46.131196139939846,
          7.756566719458002,
          -9.148302110907675,
          -3.251194591026395,
          -8.888261698042697,
          62.31944057315216,
          3.1623268566353895,
          5.8126441762540635,
          -6.873429000763887,
          16.497028039137792,
          21.003179439389204,
          -10.11159205652641,
          -3.1898128342972747,
          -17.087594342901717,
          -24.93947634105456,
          11.40214223606841,
          -7.624305558634912,
          16.08279946877084,
          4.830269589462499,
          -5.262710137499746,
          9.045742864316049,
          25.679950776230267,
          32.23455694305526,
          -2.470347750951124,
          45.16435444770845,
          -29.081191106419944,
          38.85212726399716,
          3.8292918855474625,
          -12.402771018549032,
          -0.5132628902770568,
          -34.4735323281894,
          38.99827458144893,
          -2.605913418741769,
          -41.96779639832259,
          26.409533268581583,
          6.328601666554441,
          -52.937306358952426,
          -7.704540047536277,
          -5.531313645085994,
          -22.47230071875211,
          2.7455105594222258,
          -30.684793752377388,
          -29.918652991275728,
          19.613156211884018,
          -6.625271733019078,
          21.338994780383022,
          3.5669049638665906,
          10.808580361912252,
          -12.570649966996196,
          -24.61412035419926,
          -0.3452714117243661,
          -5.891621636486534,
          8.914857614880239,
          -20.40553757117756,
          35.836155728546856,
          4.509644419238142,
          21.691204337966933,
          -48.034451527339506,
          -39.190191038823095,
          12.540594890907679,
          56.03445658577899,
          30.66293924896971,
          0.2687352789670247,
          -2.183967427965751,
          7.692673359284734,
          19.32470853242589,
          -36.421645785015855,
          -25.16964718862631,
          -21.159624958982448,
          21.934043848056607,
          -28.52731331143379,
          -1.3730200975836446,
          9.384563898857484,
          -45.70172541939426,
          14.14550778713299,
          13.481599904922177,
          -22.225911279786263,
          6.769663988985359,
          -32.574564459979634,
          -3.81771057913439,
          -30.10490414445486,
          9.718473643148084,
          16.65921628961966,
          -10.84577051771121,
          -18.200332269625054,
          -0.8347431837271501,
          24.49766277509167,
          5.592626834954407,
          3.7808357529405963,
          49.755468518087966,
          1.6336333757209245,
          -32.74108024170205,
          -44.37176042448315,
          -27.019971441829068,
          -0.2503531405611914,
          12.459880697844376,
          -53.251649098268615,
          -11.78978877746768,
          13.361648064757047,
          46.417156479396844,
          -9.938035433082801,
          -46.38345349983775,
          -42.56709001592064,
          -20.637354356112205,
          49.99319038966969,
          33.74010947408742,
          -27.80856469542657,
          -29.496213879330952,
          -29.064350191965186,
          48.91692844911296,
          -11.122901164544844,
          -6.104516725973935,
          -20.694347922645854,
          -38.21028903189893,
          -10.47401348692588,
          -33.694500474416635,
          5.254100065818351,
          40.44959764563831,
          -12.095017400306745,
          7.556247415107377,
          18.00683393975498,
          9.007303361670727,
          -4.993172002764162,
          -25.957428782681504,
          -44.51144828421129,
          -19.06320765067406,
          39.92631547283483,
          19.144393921909067,
          24.32549388902007,
          27.504126586642148,
          -4.94625715294132,
          -23.0167221817764,
          -10.508194211935622,
          -30.771499241133544,
          15.064941821712079,
          -27.917773056669162,
          1.8824933053403428,
          10.030330139898565,
          15.167305049589261,
          12.317717203645348,
          12.231636915534102,
          -5.620500142590674,
          -12.930059453029616,
          -7.031437621666087,
          19.11374731038477,
          -11.282454194673589,
          15.885605409710905,
          -8.709980184815295,
          -18.31294252093826,
          15.56076120766098,
          29.68956621031332,
          40.20656936846285,
          41.403637569404644,
          29.096301226294173,
          -26.253809052630576,
          -13.305402778128702,
          33.50086339805723,
          -37.175161216779735,
          -28.04796970642001,
          -33.94743770981969,
          -45.890386611646136,
          -38.57920248966352,
          12.621852198711897,
          58.23418352820885,
          58.15278297969836,
          13.503541814224718,
          5.672004474432678,
          55.84550753743865,
          16.836549529861113,
          -6.2709323584959815,
          -12.514678232938781,
          -37.62005061124272,
          41.72411124929082,
          35.90054226742628,
          -15.327358415655512,
          30.26980953224478,
          5.521812818883023,
          -23.11688144718425,
          27.667594104489645,
          -10.814473446387407,
          9.607268206375977,
          41.0541290605741,
          27.609184130042216,
          -48.00731149253178,
          -39.08264591065542,
          10.233643835089609,
          34.727522608694855,
          36.80966176693721,
          7.166375035744647,
          -6.49481973686677,
          8.872838158816528,
          5.464184851116526,
          -33.080943335908486,
          -27.898094291849315,
          -37.95038839822401,
          -26.23005224530969,
          -40.026636266859306
         ],
         "y": [
          -9.43680495752296,
          28.40829380371273,
          0.010526718657050889,
          25.86589165722937,
          28.03041013146288,
          -44.675780224108685,
          12.217839952275979,
          40.278163934716616,
          13.695392357474946,
          -10.29608906476909,
          59.97273198350484,
          -8.149188692965037,
          -2.6059205180440026,
          -30.989154627951727,
          29.89640576679329,
          -6.363285979452144,
          -7.550273072092804,
          -1.1478970552428036,
          34.24836836448383,
          -1.0606375848043061,
          -20.13863883308192,
          -39.208954464716065,
          -19.146547472537975,
          3.799656863960789,
          -70.98513499688968,
          11.542482501437883,
          36.814014391591314,
          -13.153753851463538,
          -9.978413068906566,
          2.1752612491526016,
          51.17304646244018,
          58.89422503739147,
          23.782782269302306,
          -18.849891459966862,
          8.83231116106091,
          7.889122156805049,
          -34.584197802767214,
          -1.9777556248203063,
          21.41434649746027,
          -25.454671793762834,
          -13.819318976615005,
          -24.965338535908813,
          -35.74782812734588,
          -6.779150890058507,
          10.564381369797811,
          -0.09364746279068617,
          -7.774569923658345,
          -15.663539893368705,
          1.2819493243372988,
          12.528259654935427,
          -4.535531533393615,
          -60.37911151960852,
          -1.094712353206006,
          24.310300713063842,
          -22.96322610361546,
          -20.376009705304984,
          -26.799544549174,
          3.06977959331147,
          -2.6129978149713637,
          -11.027403948030548,
          -49.368469004802776,
          -17.972068399317276,
          13.065415258312733,
          8.075402958588686,
          -38.23712629471574,
          25.074147008701566,
          -16.502278007128435,
          -16.622257613366564,
          18.583009843971936,
          27.100143772134462,
          12.48558447781947,
          -26.009555925839553,
          13.716453123883387,
          -12.124092455211837,
          41.59916777574303,
          -22.45435737363204,
          20.008462524714894,
          44.88117336611473,
          50.62206979433582,
          5.790972934468552,
          30.243032784877755,
          -0.28702997714454354,
          6.020956186466718,
          -23.34429704458863,
          -20.716165691685518,
          -17.73119101229141,
          6.637469573627034,
          -12.378940683097074,
          11.459830475997519,
          10.824957538086602,
          35.42962552056802,
          20.43759347046284,
          -6.723207113938945,
          -9.36265661013927,
          25.03097482399248,
          -7.60141651818193,
          26.802666950755732,
          18.585011112382663,
          -36.66462755295894,
          -27.597372389714668,
          -16.936238557755512,
          3.3343954961917466,
          3.9695139575409324,
          34.826257806266725,
          6.775643721441926,
          -6.412742348880005,
          40.19269850536116,
          -12.076622421798815,
          4.169780898180102,
          -1.6140444471768571,
          6.3322692529792155,
          -45.870609663462204,
          15.974986914025767,
          13.922673856656633,
          -10.493011013741546,
          2.5534117544415937,
          -23.903682362115273,
          9.870600852621411,
          -13.386094960649134,
          8.207543745551433,
          0.11822146457308849,
          -5.843778324751256,
          4.054537422613197,
          18.969331223040626,
          27.99551337220353,
          4.208384155056191,
          21.06100590396019,
          -31.562587970778495,
          11.854215744890954,
          -9.235024392367453,
          -7.089540378308247,
          -29.037033908957667,
          -4.287463406057345,
          -22.926046272235688,
          10.538685139207104,
          -8.090926455249212,
          -16.778244969138054,
          27.008257342050573,
          -28.861750726526264,
          18.079065576878076,
          -2.50009754012166,
          27.122861813024254,
          -26.933998096410964,
          -16.372563123425124,
          -20.115859479880474,
          -25.279675501097934,
          -4.148851169001142,
          11.30651710805524,
          15.460028074093888,
          19.53935175636873,
          20.490710878380614,
          -1.7159420952362763,
          -29.094937059522195,
          -24.41636151768418,
          0.81645693605087,
          76.30462764599167,
          -11.434066942970802,
          32.57662185757625,
          19.038956739636216,
          4.253426652879455,
          11.263900143940075,
          -5.04799605908367,
          25.51951825282431,
          -22.81710740066709,
          39.27615871848175,
          -14.695814669100125,
          13.494725107839649,
          -21.468491828772773,
          -14.336199807332086,
          -17.238598817411614,
          16.629981785555998,
          23.79784837629746,
          4.272411247618821,
          33.78425531302988,
          1.2548687328096635,
          -28.457497431021885,
          -6.189400632070827,
          22.509656508313956,
          0.33290954887490243,
          2.8048435637182445,
          -4.70766163204328,
          17.3653562368795,
          -25.661634029374948,
          -6.042201389313246,
          -21.30299047801098,
          1.0270755775988893,
          2.0852484090472814,
          -8.522644768773658,
          -11.899233149602791,
          -32.460888229505606,
          7.248015918750416,
          -0.9318571816055553,
          17.802885967342355,
          5.173579176985249,
          -18.07487824248876,
          30.85593956047151,
          -35.79458365486026,
          -29.123437019773093,
          -26.18238810462972,
          -51.612789191126254,
          -11.963778001226778,
          21.37994366824478,
          -34.10021399242028,
          -12.8972064443672,
          5.773480995496062,
          -18.152439391237692,
          -21.507333250686468,
          11.594248055125556,
          20.29444303351123,
          18.378426079682782,
          -34.5091084648434,
          14.449411559929022,
          19.42800236848255,
          -19.366263529807142,
          3.984493002614186,
          0.5219220457976441,
          63.77128248021978,
          4.353170497602205,
          6.79174069367352,
          31.564126253924666,
          -27.24425405481936,
          -0.8779970556489758,
          18.149398183422356,
          -8.748987923842423,
          -5.412247301004009,
          -14.302624459311248,
          -4.593291185429081,
          -22.39471278193779,
          -5.539972007132819,
          13.648562447884068,
          -1.368139239212527,
          22.63650505680117,
          18.243579896796486,
          -33.15483204099194,
          11.64298887071538
         ],
         "z": [
          5.28664321505519,
          11.757573671869112,
          -9.451735668659992,
          40.96780386219053,
          20.36716369703442,
          -15.206038551431341,
          2.4396870755369005,
          13.302125440663687,
          5.559647434174517,
          -12.168542124742968,
          -13.24388257466181,
          11.629223503322528,
          25.291799855571423,
          -10.87906191677415,
          -17.610544530296043,
          0.0887419919219216,
          -2.1250653874869703,
          23.58524892543403,
          13.030047986277747,
          -1.5884379773279473,
          -5.30277507585801,
          11.219646854112579,
          -54.953205180982685,
          -20.496667736909046,
          9.234393193933558,
          14.03988070037825,
          54.24816217560938,
          4.722921728905341,
          -12.32158256813635,
          10.122774928765253,
          -33.5308724065282,
          36.095905592232306,
          2.2443726318523445,
          8.544296270883436,
          17.999761918129593,
          5.006435911576805,
          -7.779766445636458,
          -5.6299520889458154,
          16.403225512479636,
          28.528901041507268,
          -3.5591139853274574,
          -4.438223874259155,
          -4.945113986649781,
          -28.510537291079846,
          3.641451352346361,
          26.066006368817376,
          -8.53669725369796,
          10.43357095047849,
          -9.842799102007287,
          -1.4193434995340524,
          -3.4386351532235504,
          2.857801922398852,
          -43.10754149911885,
          -27.76616400502437,
          6.971861460541735,
          7.80931567061046,
          4.079040339937441,
          -3.5387751594374395,
          9.948135453381736,
          15.150373227992096,
          3.0336447166810983,
          -3.0030088703673226,
          12.931539044800562,
          21.422879403562956,
          6.7278145194176835,
          -6.123796270603788,
          4.632516108848149,
          -0.6257286582114246,
          -34.70921844301318,
          -26.8747272048236,
          -5.060379103279057,
          -3.1866930745431765,
          -17.648864615427687,
          24.136633413394563,
          0.7486188162557257,
          -17.140489088978835,
          -63.85008360379092,
          9.509168548543446,
          12.945977180615468,
          -34.679052681080584,
          5.6399428310030135,
          -1.712217302221368,
          -22.55257429491109,
          -42.45803024088004,
          -38.11170537979073,
          -0.6454790838074229,
          -28.752966726720242,
          11.609574573507672,
          12.813929277265139,
          23.279388145671977,
          -1.276558259883844,
          17.695109042843026,
          18.78930048325371,
          -7.283377671504246,
          24.321863390561955,
          52.307133102121156,
          -19.190570763826276,
          17.8621305100646,
          -34.15221673968033,
          -10.158442626857644,
          2.5421992357851284,
          4.733982943735052,
          6.9668745429829935,
          -22.798257576721884,
          18.423393953195426,
          -39.84444935964181,
          26.451391656971733,
          42.63322435220955,
          15.629989101096594,
          -1.5754068326238888,
          -8.700699575834834,
          5.159587683068713,
          4.977005304253827,
          29.81599882507001,
          -3.234548591441092,
          -3.8344339457785317,
          37.007902018734896,
          13.23779805020937,
          40.14582414806633,
          4.48229103570254,
          -3.6507868453263947,
          4.247333830916009,
          4.4434387741156,
          9.318143886662066,
          -2.6736462204313227,
          8.13612722142925,
          -7.987787063889537,
          -35.437901133748895,
          3.801615095003479,
          -6.788574173177723,
          22.3468530265992,
          -5.407521284485199,
          1.9359520728242499,
          27.061854018439437,
          8.098613213390093,
          10.869593304881684,
          18.539943881552833,
          -35.048283858259204,
          -13.55471335090103,
          -40.38004914134919,
          8.49906328923141,
          -20.628457634124334,
          6.76164150585644,
          -25.220020195773937,
          -0.20368781358675841,
          -7.502282434150907,
          -5.478525631816451,
          16.018150403926974,
          -15.817453388807085,
          44.034511483003214,
          -6.180763700151071,
          16.460170277191974,
          -0.2737248481544586,
          37.45270425036219,
          -5.592186434429062,
          -10.034570792902679,
          -9.115508317600092,
          23.604043258346284,
          20.451754226406678,
          7.463721663553352,
          -12.130487471992122,
          7.722076969317946,
          -19.00703952615915,
          1.2640563757857335,
          15.790479344739364,
          -16.322942634432916,
          -34.98923127444003,
          -23.631305705010845,
          6.956592782763645,
          -15.20846018966794,
          -36.10292360021738,
          14.73093543273467,
          17.152555581426135,
          -27.532739211487872,
          33.16069248903373,
          -3.9477778011980837,
          8.381783954936155,
          -15.577713874427,
          -6.2010969626603325,
          14.222095568201539,
          -8.45425789665507,
          -6.951919276152388,
          8.196708601306792,
          4.829030190831135,
          13.755875030997355,
          32.89308951620591,
          4.560321083427345,
          25.963901154467276,
          9.042360087120695,
          24.533063085474378,
          -0.8026517314641973,
          -13.616597834662619,
          -28.760728486759483,
          8.85851976339612,
          -38.12237981101005,
          -26.533878458906383,
          -10.758258616375143,
          -5.5259986998107715,
          -0.10565717212484997,
          2.1867563503305982,
          20.635980708341663,
          -1.745840280910383,
          -27.4174866797885,
          -9.04949183346388,
          14.223613214798482,
          -39.179629274157755,
          -19.426189192161743,
          -3.2181796102520974,
          -25.55850790437403,
          -5.320631009671112,
          2.0513605120018354,
          -31.322876144597643,
          4.41969610564436,
          8.941793399975284,
          29.668911384754207,
          1.8009440312434786,
          -11.64902579657303,
          14.313573537445686,
          -3.6853945142304503,
          7.137609259457552,
          -20.046503064289276,
          6.211276030614755,
          -40.60556257532822,
          -11.51348957958358,
          7.2445343428835365,
          57.374545796822225,
          7.403198841376767,
          6.867494013759476,
          14.530096150142695,
          -8.930109378318745,
          9.486618101743826,
          -16.17319678814114,
          -4.355451021756147,
          -9.434596716358367,
          -20.87823180999247
         ]
        }
       ],
       "layout": {
        "height": 800,
        "scene": {
         "xaxis": {
          "title": {
           "text": "PC1 (14.9%)"
          }
         },
         "yaxis": {
          "title": {
           "text": "PC2 (11.4%)"
          }
         },
         "zaxis": {
          "title": {
           "text": "PC3 (8.5%)"
          }
         }
        },
        "template": {
         "data": {
          "bar": [
           {
            "error_x": {
             "color": "#2a3f5f"
            },
            "error_y": {
             "color": "#2a3f5f"
            },
            "marker": {
             "line": {
              "color": "#E5ECF6",
              "width": 0.5
             },
             "pattern": {
              "fillmode": "overlay",
              "size": 10,
              "solidity": 0.2
             }
            },
            "type": "bar"
           }
          ],
          "barpolar": [
           {
            "marker": {
             "line": {
              "color": "#E5ECF6",
              "width": 0.5
             },
             "pattern": {
              "fillmode": "overlay",
              "size": 10,
              "solidity": 0.2
             }
            },
            "type": "barpolar"
           }
          ],
          "carpet": [
           {
            "aaxis": {
             "endlinecolor": "#2a3f5f",
             "gridcolor": "white",
             "linecolor": "white",
             "minorgridcolor": "white",
             "startlinecolor": "#2a3f5f"
            },
            "baxis": {
             "endlinecolor": "#2a3f5f",
             "gridcolor": "white",
             "linecolor": "white",
             "minorgridcolor": "white",
             "startlinecolor": "#2a3f5f"
            },
            "type": "carpet"
           }
          ],
          "choropleth": [
           {
            "colorbar": {
             "outlinewidth": 0,
             "ticks": ""
            },
            "type": "choropleth"
           }
          ],
          "contour": [
           {
            "colorbar": {
             "outlinewidth": 0,
             "ticks": ""
            },
            "colorscale": [
             [
              0,
              "#0d0887"
             ],
             [
              0.1111111111111111,
              "#46039f"
             ],
             [
              0.2222222222222222,
              "#7201a8"
             ],
             [
              0.3333333333333333,
              "#9c179e"
             ],
             [
              0.4444444444444444,
              "#bd3786"
             ],
             [
              0.5555555555555556,
              "#d8576b"
             ],
             [
              0.6666666666666666,
              "#ed7953"
             ],
             [
              0.7777777777777778,
              "#fb9f3a"
             ],
             [
              0.8888888888888888,
              "#fdca26"
             ],
             [
              1,
              "#f0f921"
             ]
            ],
            "type": "contour"
           }
          ],
          "contourcarpet": [
           {
            "colorbar": {
             "outlinewidth": 0,
             "ticks": ""
            },
            "type": "contourcarpet"
           }
          ],
          "heatmap": [
           {
            "colorbar": {
             "outlinewidth": 0,
             "ticks": ""
            },
            "colorscale": [
             [
              0,
              "#0d0887"
             ],
             [
              0.1111111111111111,
              "#46039f"
             ],
             [
              0.2222222222222222,
              "#7201a8"
             ],
             [
              0.3333333333333333,
              "#9c179e"
             ],
             [
              0.4444444444444444,
              "#bd3786"
             ],
             [
              0.5555555555555556,
              "#d8576b"
             ],
             [
              0.6666666666666666,
              "#ed7953"
             ],
             [
              0.7777777777777778,
              "#fb9f3a"
             ],
             [
              0.8888888888888888,
              "#fdca26"
             ],
             [
              1,
              "#f0f921"
             ]
            ],
            "type": "heatmap"
           }
          ],
          "heatmapgl": [
           {
            "colorbar": {
             "outlinewidth": 0,
             "ticks": ""
            },
            "colorscale": [
             [
              0,
              "#0d0887"
             ],
             [
              0.1111111111111111,
              "#46039f"
             ],
             [
              0.2222222222222222,
              "#7201a8"
             ],
             [
              0.3333333333333333,
              "#9c179e"
             ],
             [
              0.4444444444444444,
              "#bd3786"
             ],
             [
              0.5555555555555556,
              "#d8576b"
             ],
             [
              0.6666666666666666,
              "#ed7953"
             ],
             [
              0.7777777777777778,
              "#fb9f3a"
             ],
             [
              0.8888888888888888,
              "#fdca26"
             ],
             [
              1,
              "#f0f921"
             ]
            ],
            "type": "heatmapgl"
           }
          ],
          "histogram": [
           {
            "marker": {
             "pattern": {
              "fillmode": "overlay",
              "size": 10,
              "solidity": 0.2
             }
            },
            "type": "histogram"
           }
          ],
          "histogram2d": [
           {
            "colorbar": {
             "outlinewidth": 0,
             "ticks": ""
            },
            "colorscale": [
             [
              0,
              "#0d0887"
             ],
             [
              0.1111111111111111,
              "#46039f"
             ],
             [
              0.2222222222222222,
              "#7201a8"
             ],
             [
              0.3333333333333333,
              "#9c179e"
             ],
             [
              0.4444444444444444,
              "#bd3786"
             ],
             [
              0.5555555555555556,
              "#d8576b"
             ],
             [
              0.6666666666666666,
              "#ed7953"
             ],
             [
              0.7777777777777778,
              "#fb9f3a"
             ],
             [
              0.8888888888888888,
              "#fdca26"
             ],
             [
              1,
              "#f0f921"
             ]
            ],
            "type": "histogram2d"
           }
          ],
          "histogram2dcontour": [
           {
            "colorbar": {
             "outlinewidth": 0,
             "ticks": ""
            },
            "colorscale": [
             [
              0,
              "#0d0887"
             ],
             [
              0.1111111111111111,
              "#46039f"
             ],
             [
              0.2222222222222222,
              "#7201a8"
             ],
             [
              0.3333333333333333,
              "#9c179e"
             ],
             [
              0.4444444444444444,
              "#bd3786"
             ],
             [
              0.5555555555555556,
              "#d8576b"
             ],
             [
              0.6666666666666666,
              "#ed7953"
             ],
             [
              0.7777777777777778,
              "#fb9f3a"
             ],
             [
              0.8888888888888888,
              "#fdca26"
             ],
             [
              1,
              "#f0f921"
             ]
            ],
            "type": "histogram2dcontour"
           }
          ],
          "mesh3d": [
           {
            "colorbar": {
             "outlinewidth": 0,
             "ticks": ""
            },
            "type": "mesh3d"
           }
          ],
          "parcoords": [
           {
            "line": {
             "colorbar": {
              "outlinewidth": 0,
              "ticks": ""
             }
            },
            "type": "parcoords"
           }
          ],
          "pie": [
           {
            "automargin": true,
            "type": "pie"
           }
          ],
          "scatter": [
           {
            "fillpattern": {
             "fillmode": "overlay",
             "size": 10,
             "solidity": 0.2
            },
            "type": "scatter"
           }
          ],
          "scatter3d": [
           {
            "line": {
             "colorbar": {
              "outlinewidth": 0,
              "ticks": ""
             }
            },
            "marker": {
             "colorbar": {
              "outlinewidth": 0,
              "ticks": ""
             }
            },
            "type": "scatter3d"
           }
          ],
          "scattercarpet": [
           {
            "marker": {
             "colorbar": {
              "outlinewidth": 0,
              "ticks": ""
             }
            },
            "type": "scattercarpet"
           }
          ],
          "scattergeo": [
           {
            "marker": {
             "colorbar": {
              "outlinewidth": 0,
              "ticks": ""
             }
            },
            "type": "scattergeo"
           }
          ],
          "scattergl": [
           {
            "marker": {
             "colorbar": {
              "outlinewidth": 0,
              "ticks": ""
             }
            },
            "type": "scattergl"
           }
          ],
          "scattermapbox": [
           {
            "marker": {
             "colorbar": {
              "outlinewidth": 0,
              "ticks": ""
             }
            },
            "type": "scattermapbox"
           }
          ],
          "scatterpolar": [
           {
            "marker": {
             "colorbar": {
              "outlinewidth": 0,
              "ticks": ""
             }
            },
            "type": "scatterpolar"
           }
          ],
          "scatterpolargl": [
           {
            "marker": {
             "colorbar": {
              "outlinewidth": 0,
              "ticks": ""
             }
            },
            "type": "scatterpolargl"
           }
          ],
          "scatterternary": [
           {
            "marker": {
             "colorbar": {
              "outlinewidth": 0,
              "ticks": ""
             }
            },
            "type": "scatterternary"
           }
          ],
          "surface": [
           {
            "colorbar": {
             "outlinewidth": 0,
             "ticks": ""
            },
            "colorscale": [
             [
              0,
              "#0d0887"
             ],
             [
              0.1111111111111111,
              "#46039f"
             ],
             [
              0.2222222222222222,
              "#7201a8"
             ],
             [
              0.3333333333333333,
              "#9c179e"
             ],
             [
              0.4444444444444444,
              "#bd3786"
             ],
             [
              0.5555555555555556,
              "#d8576b"
             ],
             [
              0.6666666666666666,
              "#ed7953"
             ],
             [
              0.7777777777777778,
              "#fb9f3a"
             ],
             [
              0.8888888888888888,
              "#fdca26"
             ],
             [
              1,
              "#f0f921"
             ]
            ],
            "type": "surface"
           }
          ],
          "table": [
           {
            "cells": {
             "fill": {
              "color": "#EBF0F8"
             },
             "line": {
              "color": "white"
             }
            },
            "header": {
             "fill": {
              "color": "#C8D4E3"
             },
             "line": {
              "color": "white"
             }
            },
            "type": "table"
           }
          ]
         },
         "layout": {
          "annotationdefaults": {
           "arrowcolor": "#2a3f5f",
           "arrowhead": 0,
           "arrowwidth": 1
          },
          "autotypenumbers": "strict",
          "coloraxis": {
           "colorbar": {
            "outlinewidth": 0,
            "ticks": ""
           }
          },
          "colorscale": {
           "diverging": [
            [
             0,
             "#8e0152"
            ],
            [
             0.1,
             "#c51b7d"
            ],
            [
             0.2,
             "#de77ae"
            ],
            [
             0.3,
             "#f1b6da"
            ],
            [
             0.4,
             "#fde0ef"
            ],
            [
             0.5,
             "#f7f7f7"
            ],
            [
             0.6,
             "#e6f5d0"
            ],
            [
             0.7,
             "#b8e186"
            ],
            [
             0.8,
             "#7fbc41"
            ],
            [
             0.9,
             "#4d9221"
            ],
            [
             1,
             "#276419"
            ]
           ],
           "sequential": [
            [
             0,
             "#0d0887"
            ],
            [
             0.1111111111111111,
             "#46039f"
            ],
            [
             0.2222222222222222,
             "#7201a8"
            ],
            [
             0.3333333333333333,
             "#9c179e"
            ],
            [
             0.4444444444444444,
             "#bd3786"
            ],
            [
             0.5555555555555556,
             "#d8576b"
            ],
            [
             0.6666666666666666,
             "#ed7953"
            ],
            [
             0.7777777777777778,
             "#fb9f3a"
            ],
            [
             0.8888888888888888,
             "#fdca26"
            ],
            [
             1,
             "#f0f921"
            ]
           ],
           "sequentialminus": [
            [
             0,
             "#0d0887"
            ],
            [
             0.1111111111111111,
             "#46039f"
            ],
            [
             0.2222222222222222,
             "#7201a8"
            ],
            [
             0.3333333333333333,
             "#9c179e"
            ],
            [
             0.4444444444444444,
             "#bd3786"
            ],
            [
             0.5555555555555556,
             "#d8576b"
            ],
            [
             0.6666666666666666,
             "#ed7953"
            ],
            [
             0.7777777777777778,
             "#fb9f3a"
            ],
            [
             0.8888888888888888,
             "#fdca26"
            ],
            [
             1,
             "#f0f921"
            ]
           ]
          },
          "colorway": [
           "#636efa",
           "#EF553B",
           "#00cc96",
           "#ab63fa",
           "#FFA15A",
           "#19d3f3",
           "#FF6692",
           "#B6E880",
           "#FF97FF",
           "#FECB52"
          ],
          "font": {
           "color": "#2a3f5f"
          },
          "geo": {
           "bgcolor": "white",
           "lakecolor": "white",
           "landcolor": "#E5ECF6",
           "showlakes": true,
           "showland": true,
           "subunitcolor": "white"
          },
          "hoverlabel": {
           "align": "left"
          },
          "hovermode": "closest",
          "mapbox": {
           "style": "light"
          },
          "paper_bgcolor": "white",
          "plot_bgcolor": "#E5ECF6",
          "polar": {
           "angularaxis": {
            "gridcolor": "white",
            "linecolor": "white",
            "ticks": ""
           },
           "bgcolor": "#E5ECF6",
           "radialaxis": {
            "gridcolor": "white",
            "linecolor": "white",
            "ticks": ""
           }
          },
          "scene": {
           "xaxis": {
            "backgroundcolor": "#E5ECF6",
            "gridcolor": "white",
            "gridwidth": 2,
            "linecolor": "white",
            "showbackground": true,
            "ticks": "",
            "zerolinecolor": "white"
           },
           "yaxis": {
            "backgroundcolor": "#E5ECF6",
            "gridcolor": "white",
            "gridwidth": 2,
            "linecolor": "white",
            "showbackground": true,
            "ticks": "",
            "zerolinecolor": "white"
           },
           "zaxis": {
            "backgroundcolor": "#E5ECF6",
            "gridcolor": "white",
            "gridwidth": 2,
            "linecolor": "white",
            "showbackground": true,
            "ticks": "",
            "zerolinecolor": "white"
           }
          },
          "shapedefaults": {
           "line": {
            "color": "#2a3f5f"
           }
          },
          "ternary": {
           "aaxis": {
            "gridcolor": "white",
            "linecolor": "white",
            "ticks": ""
           },
           "baxis": {
            "gridcolor": "white",
            "linecolor": "white",
            "ticks": ""
           },
           "bgcolor": "#E5ECF6",
           "caxis": {
            "gridcolor": "white",
            "linecolor": "white",
            "ticks": ""
           }
          },
          "title": {
           "x": 0.05
          },
          "xaxis": {
           "automargin": true,
           "gridcolor": "white",
           "linecolor": "white",
           "ticks": "",
           "title": {
            "standoff": 15
           },
           "zerolinecolor": "white",
           "zerolinewidth": 2
          },
          "yaxis": {
           "automargin": true,
           "gridcolor": "white",
           "linecolor": "white",
           "ticks": "",
           "title": {
            "standoff": 15
           },
           "zerolinecolor": "white",
           "zerolinewidth": 2
          }
         }
        },
        "title": {
         "subtitle": {
          "text": "Gemma 2 27B, Layer 34"
         },
         "text": "Trait Vectors in Principal Component Space"
        },
        "width": 1000
       }
      },
      "text/html": [
       "<div>                            <div id=\"b1db2a20-9b5c-4a25-9ae6-c4a354704019\" class=\"plotly-graph-div\" style=\"height:800px; width:1000px;\"></div>            <script type=\"text/javascript\">                require([\"plotly\"], function(Plotly) {                    window.PLOTLYENV=window.PLOTLYENV || {};                                    if (document.getElementById(\"b1db2a20-9b5c-4a25-9ae6-c4a354704019\")) {                    Plotly.newPlot(                        \"b1db2a20-9b5c-4a25-9ae6-c4a354704019\",                        [{\"hovertemplate\":\"\\u003cb\\u003e%{text}\\u003c\\u002fb\\u003e\\u003cbr\\u003ePC1: %{x:.3f}\\u003cbr\\u003ePC2: %{y:.3f}\\u003cbr\\u003ePC3: %{z:.3f}\\u003cbr\\u003e\\u003cextra\\u003e\\u003c\\u002fextra\\u003e\",\"marker\":{\"color\":[\"blue\",\"blue\",\"blue\",\"blue\",\"blue\",\"blue\",\"blue\",\"blue\",\"blue\",\"blue\",\"blue\",\"blue\",\"blue\",\"blue\",\"blue\",\"blue\",\"blue\",\"blue\",\"blue\",\"blue\",\"blue\",\"blue\",\"blue\",\"blue\",\"blue\",\"blue\",\"blue\",\"blue\",\"blue\",\"blue\",\"blue\",\"blue\",\"blue\",\"blue\",\"blue\",\"blue\",\"blue\",\"blue\",\"blue\",\"blue\",\"blue\",\"blue\",\"blue\",\"blue\",\"blue\",\"blue\",\"blue\",\"blue\",\"blue\",\"blue\",\"blue\",\"blue\",\"blue\",\"blue\",\"blue\",\"blue\",\"blue\",\"blue\",\"blue\",\"blue\",\"blue\",\"blue\",\"blue\",\"blue\",\"blue\",\"blue\",\"blue\",\"blue\",\"blue\",\"blue\",\"blue\",\"blue\",\"blue\",\"blue\",\"blue\",\"blue\",\"blue\",\"blue\",\"blue\",\"blue\",\"blue\",\"blue\",\"blue\",\"blue\",\"blue\",\"blue\",\"blue\",\"blue\",\"blue\",\"blue\",\"blue\",\"blue\",\"blue\",\"blue\",\"blue\",\"blue\",\"blue\",\"blue\",\"blue\",\"blue\",\"blue\",\"blue\",\"blue\",\"blue\",\"blue\",\"blue\",\"blue\",\"blue\",\"blue\",\"blue\",\"blue\",\"blue\",\"blue\",\"blue\",\"blue\",\"blue\",\"blue\",\"blue\",\"blue\",\"blue\",\"blue\",\"blue\",\"blue\",\"blue\",\"blue\",\"blue\",\"blue\",\"blue\",\"blue\",\"blue\",\"blue\",\"blue\",\"blue\",\"blue\",\"blue\",\"blue\",\"blue\",\"blue\",\"blue\",\"blue\",\"blue\",\"blue\",\"blue\",\"blue\",\"blue\",\"blue\",\"blue\",\"blue\",\"blue\",\"blue\",\"blue\",\"blue\",\"blue\",\"blue\",\"blue\",\"blue\",\"blue\",\"blue\",\"blue\",\"blue\",\"blue\",\"blue\",\"blue\",\"blue\",\"blue\",\"blue\",\"blue\",\"blue\",\"blue\",\"blue\",\"blue\",\"blue\",\"blue\",\"blue\",\"blue\",\"blue\",\"blue\",\"blue\",\"blue\",\"blue\",\"blue\",\"blue\",\"blue\",\"blue\",\"blue\",\"blue\",\"blue\",\"blue\",\"blue\",\"blue\",\"blue\",\"blue\",\"blue\",\"blue\",\"blue\",\"blue\",\"blue\",\"blue\",\"blue\",\"blue\",\"blue\",\"blue\",\"blue\",\"blue\",\"blue\",\"blue\",\"blue\",\"blue\",\"blue\",\"blue\",\"blue\",\"blue\",\"blue\",\"blue\",\"blue\",\"blue\",\"blue\",\"blue\",\"blue\",\"blue\",\"blue\",\"blue\",\"blue\",\"blue\",\"blue\",\"blue\",\"blue\",\"blue\",\"blue\",\"blue\",\"blue\",\"blue\",\"blue\",\"blue\",\"blue\"],\"line\":{\"color\":\"black\",\"width\":2},\"size\":3},\"mode\":\"markers+text\",\"text\":[\"absolutist\",\"adaptable\",\"abstract\",\"accessible\",\"accommodating\",\"acerbic\",\"adventurous\",\"agreeable\",\"altruistic\",\"analytical\",\"animated\",\"anthropocentric\",\"anxious\",\"arrogant\",\"artistic\",\"ascetic\",\"assertive\",\"avoidant\",\"benevolent\",\"big_picture\",\"bitter\",\"blunt\",\"bombastic\",\"calculating\",\"callous\",\"calm\",\"casual\",\"cautious\",\"challenging\",\"chaotic\",\"charismatic\",\"chill\",\"circumspect\",\"closure_seeking\",\"collaborative\",\"collectivistic\",\"competitive\",\"conceptual\",\"conciliatory\",\"concise\",\"condescending\",\"confident\",\"confrontational\",\"conscientious\",\"constructivist\",\"contemporary\",\"contrarian\",\"convergent\",\"cosmopolitan\",\"creative\",\"critical\",\"cruel\",\"cryptic\",\"curious\",\"cynical\",\"data_driven\",\"decisive\",\"deconstructionist\",\"deontological\",\"descriptive\",\"detached\",\"deterministic\",\"diplomatic\",\"disorganized\",\"dispassionate\",\"divergent\",\"dogmatic\",\"dominant\",\"dramatic\",\"earnest\",\"eclectic\",\"edgy\",\"educational\",\"efficient\",\"effusive\",\"elitist\",\"eloquent\",\"emotional\",\"empathetic\",\"enigmatic\",\"entertaining\",\"environmental\",\"epicurean\",\"erudite\",\"esoteric\",\"essentialist\",\"ethereal\",\"evil\",\"existentialist\",\"experiential\",\"exploratory\",\"extroverted\",\"factual\",\"fatalistic\",\"flexible\",\"flippant\",\"flirty\",\"forgiving\",\"formal\",\"formalist\",\"fundamentalist\",\"futuristic\",\"generalist\",\"generous\",\"goofy\",\"grandiose\",\"gregarious\",\"grounded\",\"hedonistic\",\"historical\",\"holistic\",\"hostile\",\"humanistic\",\"humble\",\"iconoclastic\",\"idealistic\",\"impatient\",\"improvisational\",\"impulsive\",\"inclusive\",\"independent\",\"individualistic\",\"innovative\",\"inquisitive\",\"inspirational\",\"interdisciplinary\",\"introspective\",\"introverted\",\"intuitive\",\"ironic\",\"irreverent\",\"judgmental\",\"libertarian\",\"literal\",\"manic\",\"manipulative\",\"materialist\",\"meditative\",\"melancholic\",\"melodramatic\",\"mercurial\",\"metaphorical\",\"methodical\",\"meticulous\",\"militant\",\"misanthropic\",\"mischievous\",\"moderate\",\"mystical\",\"naive\",\"narrative\",\"neurotic\",\"nihilistic\",\"nonchalant\",\"nostalgic\",\"nurturing\",\"obsessive\",\"open_ended\",\"optimistic\",\"pacifist\",\"paradoxical\",\"paranoid\",\"passionate\",\"passive_aggressive\",\"patient\",\"pedantic\",\"pensive\",\"perfectionist\",\"pessimistic\",\"petty\",\"philosophical\",\"playful\",\"pluralist\",\"poetic\",\"practical\",\"prescriptive\",\"principled\",\"proactive\",\"problem_solving\",\"progressive\",\"provocative\",\"qualitative\",\"quantitative\",\"radical\",\"rationalist\",\"reactive\",\"rebellious\",\"reductionist\",\"regulatory\",\"reserved\",\"resilient\",\"reverent\",\"rhetorical\",\"risk_taking\",\"ritualistic\",\"romantic\",\"sarcastic\",\"sardonic\",\"sassy\",\"savage\",\"secular\",\"serene\",\"serious\",\"skeptical\",\"socratic\",\"solemn\",\"specialized\",\"speculative\",\"spiritual\",\"spontaneous\",\"stoic\",\"strategic\",\"stream_of_consciousness\",\"structuralist\",\"submissive\",\"subversive\",\"supportive\",\"sycophantic\",\"systems_thinker\",\"tactful\",\"technical\",\"temperamental\",\"theatrical\",\"theoretical\",\"traditional\",\"understated\",\"universalist\",\"urgent\",\"utilitarian\",\"verbose\",\"visceral\",\"whimsical\",\"witty\",\"wry\",\"zealous\"],\"textfont\":{\"size\":6},\"textposition\":\"top center\",\"x\":[3.113547274548199,7.7598882636113995,8.937586736882114,-0.9627363469873884,-14.061238926013072,-30.824836787086298,-19.812891746541432,50.57522477899989,24.74225572330905,29.58922253401651,-39.673539338269805,7.87185545887743,-29.194053854611766,-17.469357904959985,-20.877567107800417,22.07482947517674,-10.983173242857156,13.670858485703945,33.835424610826834,12.0365259044561,-39.0937382401217,-9.326303988665712,-23.26961882477314,28.164416040821056,-14.505214291499785,66.44191053808316,-38.159865732246715,28.86995994167087,-8.001508716742663,-0.07487336463832754,-35.48887331515521,27.614578346792538,31.010820402151396,2.931239120698813,21.55123750810285,18.983464479692014,-25.18868093352793,8.92224573351374,46.131196139939846,7.756566719458002,-9.148302110907675,-3.251194591026395,-8.888261698042697,62.31944057315216,3.1623268566353895,5.8126441762540635,-6.873429000763887,16.497028039137792,21.003179439389204,-10.11159205652641,-3.1898128342972747,-17.087594342901717,-24.93947634105456,11.40214223606841,-7.624305558634912,16.08279946877084,4.830269589462499,-5.262710137499746,9.045742864316049,25.679950776230267,32.23455694305526,-2.470347750951124,45.16435444770845,-29.081191106419944,38.85212726399716,3.8292918855474625,-12.402771018549032,-0.5132628902770568,-34.4735323281894,38.99827458144893,-2.605913418741769,-41.96779639832259,26.409533268581583,6.328601666554441,-52.937306358952426,-7.704540047536277,-5.531313645085994,-22.47230071875211,2.7455105594222258,-30.684793752377388,-29.918652991275728,19.613156211884018,-6.625271733019078,21.338994780383022,3.5669049638665906,10.808580361912252,-12.570649966996196,-24.61412035419926,-0.3452714117243661,-5.891621636486534,8.914857614880239,-20.40553757117756,35.836155728546856,4.509644419238142,21.691204337966933,-48.034451527339506,-39.190191038823095,12.540594890907679,56.03445658577899,30.66293924896971,0.2687352789670247,-2.183967427965751,7.692673359284734,19.32470853242589,-36.421645785015855,-25.16964718862631,-21.159624958982448,21.934043848056607,-28.52731331143379,-1.3730200975836446,9.384563898857484,-45.70172541939426,14.14550778713299,13.481599904922177,-22.225911279786263,6.769663988985359,-32.574564459979634,-3.81771057913439,-30.10490414445486,9.718473643148084,16.65921628961966,-10.84577051771121,-18.200332269625054,-0.8347431837271501,24.49766277509167,5.592626834954407,3.7808357529405963,49.755468518087966,1.6336333757209245,-32.74108024170205,-44.37176042448315,-27.019971441829068,-0.2503531405611914,12.459880697844376,-53.251649098268615,-11.78978877746768,13.361648064757047,46.417156479396844,-9.938035433082801,-46.38345349983775,-42.56709001592064,-20.637354356112205,49.99319038966969,33.74010947408742,-27.80856469542657,-29.496213879330952,-29.064350191965186,48.91692844911296,-11.122901164544844,-6.104516725973935,-20.694347922645854,-38.21028903189893,-10.47401348692588,-33.694500474416635,5.254100065818351,40.44959764563831,-12.095017400306745,7.556247415107377,18.00683393975498,9.007303361670727,-4.993172002764162,-25.957428782681504,-44.51144828421129,-19.06320765067406,39.92631547283483,19.144393921909067,24.32549388902007,27.504126586642148,-4.94625715294132,-23.0167221817764,-10.508194211935622,-30.771499241133544,15.064941821712079,-27.917773056669162,1.8824933053403428,10.030330139898565,15.167305049589261,12.317717203645348,12.231636915534102,-5.620500142590674,-12.930059453029616,-7.031437621666087,19.11374731038477,-11.282454194673589,15.885605409710905,-8.709980184815295,-18.31294252093826,15.56076120766098,29.68956621031332,40.20656936846285,41.403637569404644,29.096301226294173,-26.253809052630576,-13.305402778128702,33.50086339805723,-37.175161216779735,-28.04796970642001,-33.94743770981969,-45.890386611646136,-38.57920248966352,12.621852198711897,58.23418352820885,58.15278297969836,13.503541814224718,5.672004474432678,55.84550753743865,16.836549529861113,-6.2709323584959815,-12.514678232938781,-37.62005061124272,41.72411124929082,35.90054226742628,-15.327358415655512,30.26980953224478,5.521812818883023,-23.11688144718425,27.667594104489645,-10.814473446387407,9.607268206375977,41.0541290605741,27.609184130042216,-48.00731149253178,-39.08264591065542,10.233643835089609,34.727522608694855,36.80966176693721,7.166375035744647,-6.49481973686677,8.872838158816528,5.464184851116526,-33.080943335908486,-27.898094291849315,-37.95038839822401,-26.23005224530969,-40.026636266859306],\"y\":[-9.43680495752296,28.40829380371273,0.010526718657050889,25.86589165722937,28.03041013146288,-44.675780224108685,12.217839952275979,40.278163934716616,13.695392357474946,-10.29608906476909,59.97273198350484,-8.149188692965037,-2.6059205180440026,-30.989154627951727,29.89640576679329,-6.363285979452144,-7.550273072092804,-1.1478970552428036,34.24836836448383,-1.0606375848043061,-20.13863883308192,-39.208954464716065,-19.146547472537975,3.799656863960789,-70.98513499688968,11.542482501437883,36.814014391591314,-13.153753851463538,-9.978413068906566,2.1752612491526016,51.17304646244018,58.89422503739147,23.782782269302306,-18.849891459966862,8.83231116106091,7.889122156805049,-34.584197802767214,-1.9777556248203063,21.41434649746027,-25.454671793762834,-13.819318976615005,-24.965338535908813,-35.74782812734588,-6.779150890058507,10.564381369797811,-0.09364746279068617,-7.774569923658345,-15.663539893368705,1.2819493243372988,12.528259654935427,-4.535531533393615,-60.37911151960852,-1.094712353206006,24.310300713063842,-22.96322610361546,-20.376009705304984,-26.799544549174,3.06977959331147,-2.6129978149713637,-11.027403948030548,-49.368469004802776,-17.972068399317276,13.065415258312733,8.075402958588686,-38.23712629471574,25.074147008701566,-16.502278007128435,-16.622257613366564,18.583009843971936,27.100143772134462,12.48558447781947,-26.009555925839553,13.716453123883387,-12.124092455211837,41.59916777574303,-22.45435737363204,20.008462524714894,44.88117336611473,50.62206979433582,5.790972934468552,30.243032784877755,-0.28702997714454354,6.020956186466718,-23.34429704458863,-20.716165691685518,-17.73119101229141,6.637469573627034,-12.378940683097074,11.459830475997519,10.824957538086602,35.42962552056802,20.43759347046284,-6.723207113938945,-9.36265661013927,25.03097482399248,-7.60141651818193,26.802666950755732,18.585011112382663,-36.66462755295894,-27.597372389714668,-16.936238557755512,3.3343954961917466,3.9695139575409324,34.826257806266725,6.775643721441926,-6.412742348880005,40.19269850536116,-12.076622421798815,4.169780898180102,-1.6140444471768571,6.3322692529792155,-45.870609663462204,15.974986914025767,13.922673856656633,-10.493011013741546,2.5534117544415937,-23.903682362115273,9.870600852621411,-13.386094960649134,8.207543745551433,0.11822146457308849,-5.843778324751256,4.054537422613197,18.969331223040626,27.99551337220353,4.208384155056191,21.06100590396019,-31.562587970778495,11.854215744890954,-9.235024392367453,-7.089540378308247,-29.037033908957667,-4.287463406057345,-22.926046272235688,10.538685139207104,-8.090926455249212,-16.778244969138054,27.008257342050573,-28.861750726526264,18.079065576878076,-2.50009754012166,27.122861813024254,-26.933998096410964,-16.372563123425124,-20.115859479880474,-25.279675501097934,-4.148851169001142,11.30651710805524,15.460028074093888,19.53935175636873,20.490710878380614,-1.7159420952362763,-29.094937059522195,-24.41636151768418,0.81645693605087,76.30462764599167,-11.434066942970802,32.57662185757625,19.038956739636216,4.253426652879455,11.263900143940075,-5.04799605908367,25.51951825282431,-22.81710740066709,39.27615871848175,-14.695814669100125,13.494725107839649,-21.468491828772773,-14.336199807332086,-17.238598817411614,16.629981785555998,23.79784837629746,4.272411247618821,33.78425531302988,1.2548687328096635,-28.457497431021885,-6.189400632070827,22.509656508313956,0.33290954887490243,2.8048435637182445,-4.70766163204328,17.3653562368795,-25.661634029374948,-6.042201389313246,-21.30299047801098,1.0270755775988893,2.0852484090472814,-8.522644768773658,-11.899233149602791,-32.460888229505606,7.248015918750416,-0.9318571816055553,17.802885967342355,5.173579176985249,-18.07487824248876,30.85593956047151,-35.79458365486026,-29.123437019773093,-26.18238810462972,-51.612789191126254,-11.963778001226778,21.37994366824478,-34.10021399242028,-12.8972064443672,5.773480995496062,-18.152439391237692,-21.507333250686468,11.594248055125556,20.29444303351123,18.378426079682782,-34.5091084648434,14.449411559929022,19.42800236848255,-19.366263529807142,3.984493002614186,0.5219220457976441,63.77128248021978,4.353170497602205,6.79174069367352,31.564126253924666,-27.24425405481936,-0.8779970556489758,18.149398183422356,-8.748987923842423,-5.412247301004009,-14.302624459311248,-4.593291185429081,-22.39471278193779,-5.539972007132819,13.648562447884068,-1.368139239212527,22.63650505680117,18.243579896796486,-33.15483204099194,11.64298887071538],\"z\":[5.28664321505519,11.757573671869112,-9.451735668659992,40.96780386219053,20.36716369703442,-15.206038551431341,2.4396870755369005,13.302125440663687,5.559647434174517,-12.168542124742968,-13.24388257466181,11.629223503322528,25.291799855571423,-10.87906191677415,-17.610544530296043,0.0887419919219216,-2.1250653874869703,23.58524892543403,13.030047986277747,-1.5884379773279473,-5.30277507585801,11.219646854112579,-54.953205180982685,-20.496667736909046,9.234393193933558,14.03988070037825,54.24816217560938,4.722921728905341,-12.32158256813635,10.122774928765253,-33.5308724065282,36.095905592232306,2.2443726318523445,8.544296270883436,17.999761918129593,5.006435911576805,-7.779766445636458,-5.6299520889458154,16.403225512479636,28.528901041507268,-3.5591139853274574,-4.438223874259155,-4.945113986649781,-28.510537291079846,3.641451352346361,26.066006368817376,-8.53669725369796,10.43357095047849,-9.842799102007287,-1.4193434995340524,-3.4386351532235504,2.857801922398852,-43.10754149911885,-27.76616400502437,6.971861460541735,7.80931567061046,4.079040339937441,-3.5387751594374395,9.948135453381736,15.150373227992096,3.0336447166810983,-3.0030088703673226,12.931539044800562,21.422879403562956,6.7278145194176835,-6.123796270603788,4.632516108848149,-0.6257286582114246,-34.70921844301318,-26.8747272048236,-5.060379103279057,-3.1866930745431765,-17.648864615427687,24.136633413394563,0.7486188162557257,-17.140489088978835,-63.85008360379092,9.509168548543446,12.945977180615468,-34.679052681080584,5.6399428310030135,-1.712217302221368,-22.55257429491109,-42.45803024088004,-38.11170537979073,-0.6454790838074229,-28.752966726720242,11.609574573507672,12.813929277265139,23.279388145671977,-1.276558259883844,17.695109042843026,18.78930048325371,-7.283377671504246,24.321863390561955,52.307133102121156,-19.190570763826276,17.8621305100646,-34.15221673968033,-10.158442626857644,2.5421992357851284,4.733982943735052,6.9668745429829935,-22.798257576721884,18.423393953195426,-39.84444935964181,26.451391656971733,42.63322435220955,15.629989101096594,-1.5754068326238888,-8.700699575834834,5.159587683068713,4.977005304253827,29.81599882507001,-3.234548591441092,-3.8344339457785317,37.007902018734896,13.23779805020937,40.14582414806633,4.48229103570254,-3.6507868453263947,4.247333830916009,4.4434387741156,9.318143886662066,-2.6736462204313227,8.13612722142925,-7.987787063889537,-35.437901133748895,3.801615095003479,-6.788574173177723,22.3468530265992,-5.407521284485199,1.9359520728242499,27.061854018439437,8.098613213390093,10.869593304881684,18.539943881552833,-35.048283858259204,-13.55471335090103,-40.38004914134919,8.49906328923141,-20.628457634124334,6.76164150585644,-25.220020195773937,-0.20368781358675841,-7.502282434150907,-5.478525631816451,16.018150403926974,-15.817453388807085,44.034511483003214,-6.180763700151071,16.460170277191974,-0.2737248481544586,37.45270425036219,-5.592186434429062,-10.034570792902679,-9.115508317600092,23.604043258346284,20.451754226406678,7.463721663553352,-12.130487471992122,7.722076969317946,-19.00703952615915,1.2640563757857335,15.790479344739364,-16.322942634432916,-34.98923127444003,-23.631305705010845,6.956592782763645,-15.20846018966794,-36.10292360021738,14.73093543273467,17.152555581426135,-27.532739211487872,33.16069248903373,-3.9477778011980837,8.381783954936155,-15.577713874427,-6.2010969626603325,14.222095568201539,-8.45425789665507,-6.951919276152388,8.196708601306792,4.829030190831135,13.755875030997355,32.89308951620591,4.560321083427345,25.963901154467276,9.042360087120695,24.533063085474378,-0.8026517314641973,-13.616597834662619,-28.760728486759483,8.85851976339612,-38.12237981101005,-26.533878458906383,-10.758258616375143,-5.5259986998107715,-0.10565717212484997,2.1867563503305982,20.635980708341663,-1.745840280910383,-27.4174866797885,-9.04949183346388,14.223613214798482,-39.179629274157755,-19.426189192161743,-3.2181796102520974,-25.55850790437403,-5.320631009671112,2.0513605120018354,-31.322876144597643,4.41969610564436,8.941793399975284,29.668911384754207,1.8009440312434786,-11.64902579657303,14.313573537445686,-3.6853945142304503,7.137609259457552,-20.046503064289276,6.211276030614755,-40.60556257532822,-11.51348957958358,7.2445343428835365,57.374545796822225,7.403198841376767,6.867494013759476,14.530096150142695,-8.930109378318745,9.486618101743826,-16.17319678814114,-4.355451021756147,-9.434596716358367,-20.87823180999247],\"type\":\"scatter3d\"}],                        {\"template\":{\"data\":{\"histogram2dcontour\":[{\"type\":\"histogram2dcontour\",\"colorbar\":{\"outlinewidth\":0,\"ticks\":\"\"},\"colorscale\":[[0.0,\"#0d0887\"],[0.1111111111111111,\"#46039f\"],[0.2222222222222222,\"#7201a8\"],[0.3333333333333333,\"#9c179e\"],[0.4444444444444444,\"#bd3786\"],[0.5555555555555556,\"#d8576b\"],[0.6666666666666666,\"#ed7953\"],[0.7777777777777778,\"#fb9f3a\"],[0.8888888888888888,\"#fdca26\"],[1.0,\"#f0f921\"]]}],\"choropleth\":[{\"type\":\"choropleth\",\"colorbar\":{\"outlinewidth\":0,\"ticks\":\"\"}}],\"histogram2d\":[{\"type\":\"histogram2d\",\"colorbar\":{\"outlinewidth\":0,\"ticks\":\"\"},\"colorscale\":[[0.0,\"#0d0887\"],[0.1111111111111111,\"#46039f\"],[0.2222222222222222,\"#7201a8\"],[0.3333333333333333,\"#9c179e\"],[0.4444444444444444,\"#bd3786\"],[0.5555555555555556,\"#d8576b\"],[0.6666666666666666,\"#ed7953\"],[0.7777777777777778,\"#fb9f3a\"],[0.8888888888888888,\"#fdca26\"],[1.0,\"#f0f921\"]]}],\"heatmap\":[{\"type\":\"heatmap\",\"colorbar\":{\"outlinewidth\":0,\"ticks\":\"\"},\"colorscale\":[[0.0,\"#0d0887\"],[0.1111111111111111,\"#46039f\"],[0.2222222222222222,\"#7201a8\"],[0.3333333333333333,\"#9c179e\"],[0.4444444444444444,\"#bd3786\"],[0.5555555555555556,\"#d8576b\"],[0.6666666666666666,\"#ed7953\"],[0.7777777777777778,\"#fb9f3a\"],[0.8888888888888888,\"#fdca26\"],[1.0,\"#f0f921\"]]}],\"heatmapgl\":[{\"type\":\"heatmapgl\",\"colorbar\":{\"outlinewidth\":0,\"ticks\":\"\"},\"colorscale\":[[0.0,\"#0d0887\"],[0.1111111111111111,\"#46039f\"],[0.2222222222222222,\"#7201a8\"],[0.3333333333333333,\"#9c179e\"],[0.4444444444444444,\"#bd3786\"],[0.5555555555555556,\"#d8576b\"],[0.6666666666666666,\"#ed7953\"],[0.7777777777777778,\"#fb9f3a\"],[0.8888888888888888,\"#fdca26\"],[1.0,\"#f0f921\"]]}],\"contourcarpet\":[{\"type\":\"contourcarpet\",\"colorbar\":{\"outlinewidth\":0,\"ticks\":\"\"}}],\"contour\":[{\"type\":\"contour\",\"colorbar\":{\"outlinewidth\":0,\"ticks\":\"\"},\"colorscale\":[[0.0,\"#0d0887\"],[0.1111111111111111,\"#46039f\"],[0.2222222222222222,\"#7201a8\"],[0.3333333333333333,\"#9c179e\"],[0.4444444444444444,\"#bd3786\"],[0.5555555555555556,\"#d8576b\"],[0.6666666666666666,\"#ed7953\"],[0.7777777777777778,\"#fb9f3a\"],[0.8888888888888888,\"#fdca26\"],[1.0,\"#f0f921\"]]}],\"surface\":[{\"type\":\"surface\",\"colorbar\":{\"outlinewidth\":0,\"ticks\":\"\"},\"colorscale\":[[0.0,\"#0d0887\"],[0.1111111111111111,\"#46039f\"],[0.2222222222222222,\"#7201a8\"],[0.3333333333333333,\"#9c179e\"],[0.4444444444444444,\"#bd3786\"],[0.5555555555555556,\"#d8576b\"],[0.6666666666666666,\"#ed7953\"],[0.7777777777777778,\"#fb9f3a\"],[0.8888888888888888,\"#fdca26\"],[1.0,\"#f0f921\"]]}],\"mesh3d\":[{\"type\":\"mesh3d\",\"colorbar\":{\"outlinewidth\":0,\"ticks\":\"\"}}],\"scatter\":[{\"fillpattern\":{\"fillmode\":\"overlay\",\"size\":10,\"solidity\":0.2},\"type\":\"scatter\"}],\"parcoords\":[{\"type\":\"parcoords\",\"line\":{\"colorbar\":{\"outlinewidth\":0,\"ticks\":\"\"}}}],\"scatterpolargl\":[{\"type\":\"scatterpolargl\",\"marker\":{\"colorbar\":{\"outlinewidth\":0,\"ticks\":\"\"}}}],\"bar\":[{\"error_x\":{\"color\":\"#2a3f5f\"},\"error_y\":{\"color\":\"#2a3f5f\"},\"marker\":{\"line\":{\"color\":\"#E5ECF6\",\"width\":0.5},\"pattern\":{\"fillmode\":\"overlay\",\"size\":10,\"solidity\":0.2}},\"type\":\"bar\"}],\"scattergeo\":[{\"type\":\"scattergeo\",\"marker\":{\"colorbar\":{\"outlinewidth\":0,\"ticks\":\"\"}}}],\"scatterpolar\":[{\"type\":\"scatterpolar\",\"marker\":{\"colorbar\":{\"outlinewidth\":0,\"ticks\":\"\"}}}],\"histogram\":[{\"marker\":{\"pattern\":{\"fillmode\":\"overlay\",\"size\":10,\"solidity\":0.2}},\"type\":\"histogram\"}],\"scattergl\":[{\"type\":\"scattergl\",\"marker\":{\"colorbar\":{\"outlinewidth\":0,\"ticks\":\"\"}}}],\"scatter3d\":[{\"type\":\"scatter3d\",\"line\":{\"colorbar\":{\"outlinewidth\":0,\"ticks\":\"\"}},\"marker\":{\"colorbar\":{\"outlinewidth\":0,\"ticks\":\"\"}}}],\"scattermapbox\":[{\"type\":\"scattermapbox\",\"marker\":{\"colorbar\":{\"outlinewidth\":0,\"ticks\":\"\"}}}],\"scatterternary\":[{\"type\":\"scatterternary\",\"marker\":{\"colorbar\":{\"outlinewidth\":0,\"ticks\":\"\"}}}],\"scattercarpet\":[{\"type\":\"scattercarpet\",\"marker\":{\"colorbar\":{\"outlinewidth\":0,\"ticks\":\"\"}}}],\"carpet\":[{\"aaxis\":{\"endlinecolor\":\"#2a3f5f\",\"gridcolor\":\"white\",\"linecolor\":\"white\",\"minorgridcolor\":\"white\",\"startlinecolor\":\"#2a3f5f\"},\"baxis\":{\"endlinecolor\":\"#2a3f5f\",\"gridcolor\":\"white\",\"linecolor\":\"white\",\"minorgridcolor\":\"white\",\"startlinecolor\":\"#2a3f5f\"},\"type\":\"carpet\"}],\"table\":[{\"cells\":{\"fill\":{\"color\":\"#EBF0F8\"},\"line\":{\"color\":\"white\"}},\"header\":{\"fill\":{\"color\":\"#C8D4E3\"},\"line\":{\"color\":\"white\"}},\"type\":\"table\"}],\"barpolar\":[{\"marker\":{\"line\":{\"color\":\"#E5ECF6\",\"width\":0.5},\"pattern\":{\"fillmode\":\"overlay\",\"size\":10,\"solidity\":0.2}},\"type\":\"barpolar\"}],\"pie\":[{\"automargin\":true,\"type\":\"pie\"}]},\"layout\":{\"autotypenumbers\":\"strict\",\"colorway\":[\"#636efa\",\"#EF553B\",\"#00cc96\",\"#ab63fa\",\"#FFA15A\",\"#19d3f3\",\"#FF6692\",\"#B6E880\",\"#FF97FF\",\"#FECB52\"],\"font\":{\"color\":\"#2a3f5f\"},\"hovermode\":\"closest\",\"hoverlabel\":{\"align\":\"left\"},\"paper_bgcolor\":\"white\",\"plot_bgcolor\":\"#E5ECF6\",\"polar\":{\"bgcolor\":\"#E5ECF6\",\"angularaxis\":{\"gridcolor\":\"white\",\"linecolor\":\"white\",\"ticks\":\"\"},\"radialaxis\":{\"gridcolor\":\"white\",\"linecolor\":\"white\",\"ticks\":\"\"}},\"ternary\":{\"bgcolor\":\"#E5ECF6\",\"aaxis\":{\"gridcolor\":\"white\",\"linecolor\":\"white\",\"ticks\":\"\"},\"baxis\":{\"gridcolor\":\"white\",\"linecolor\":\"white\",\"ticks\":\"\"},\"caxis\":{\"gridcolor\":\"white\",\"linecolor\":\"white\",\"ticks\":\"\"}},\"coloraxis\":{\"colorbar\":{\"outlinewidth\":0,\"ticks\":\"\"}},\"colorscale\":{\"sequential\":[[0.0,\"#0d0887\"],[0.1111111111111111,\"#46039f\"],[0.2222222222222222,\"#7201a8\"],[0.3333333333333333,\"#9c179e\"],[0.4444444444444444,\"#bd3786\"],[0.5555555555555556,\"#d8576b\"],[0.6666666666666666,\"#ed7953\"],[0.7777777777777778,\"#fb9f3a\"],[0.8888888888888888,\"#fdca26\"],[1.0,\"#f0f921\"]],\"sequentialminus\":[[0.0,\"#0d0887\"],[0.1111111111111111,\"#46039f\"],[0.2222222222222222,\"#7201a8\"],[0.3333333333333333,\"#9c179e\"],[0.4444444444444444,\"#bd3786\"],[0.5555555555555556,\"#d8576b\"],[0.6666666666666666,\"#ed7953\"],[0.7777777777777778,\"#fb9f3a\"],[0.8888888888888888,\"#fdca26\"],[1.0,\"#f0f921\"]],\"diverging\":[[0,\"#8e0152\"],[0.1,\"#c51b7d\"],[0.2,\"#de77ae\"],[0.3,\"#f1b6da\"],[0.4,\"#fde0ef\"],[0.5,\"#f7f7f7\"],[0.6,\"#e6f5d0\"],[0.7,\"#b8e186\"],[0.8,\"#7fbc41\"],[0.9,\"#4d9221\"],[1,\"#276419\"]]},\"xaxis\":{\"gridcolor\":\"white\",\"linecolor\":\"white\",\"ticks\":\"\",\"title\":{\"standoff\":15},\"zerolinecolor\":\"white\",\"automargin\":true,\"zerolinewidth\":2},\"yaxis\":{\"gridcolor\":\"white\",\"linecolor\":\"white\",\"ticks\":\"\",\"title\":{\"standoff\":15},\"zerolinecolor\":\"white\",\"automargin\":true,\"zerolinewidth\":2},\"scene\":{\"xaxis\":{\"backgroundcolor\":\"#E5ECF6\",\"gridcolor\":\"white\",\"linecolor\":\"white\",\"showbackground\":true,\"ticks\":\"\",\"zerolinecolor\":\"white\",\"gridwidth\":2},\"yaxis\":{\"backgroundcolor\":\"#E5ECF6\",\"gridcolor\":\"white\",\"linecolor\":\"white\",\"showbackground\":true,\"ticks\":\"\",\"zerolinecolor\":\"white\",\"gridwidth\":2},\"zaxis\":{\"backgroundcolor\":\"#E5ECF6\",\"gridcolor\":\"white\",\"linecolor\":\"white\",\"showbackground\":true,\"ticks\":\"\",\"zerolinecolor\":\"white\",\"gridwidth\":2}},\"shapedefaults\":{\"line\":{\"color\":\"#2a3f5f\"}},\"annotationdefaults\":{\"arrowcolor\":\"#2a3f5f\",\"arrowhead\":0,\"arrowwidth\":1},\"geo\":{\"bgcolor\":\"white\",\"landcolor\":\"#E5ECF6\",\"subunitcolor\":\"white\",\"showland\":true,\"showlakes\":true,\"lakecolor\":\"white\"},\"title\":{\"x\":0.05},\"mapbox\":{\"style\":\"light\"}}},\"title\":{\"subtitle\":{\"text\":\"Gemma 2 27B, Layer 34\"},\"text\":\"Trait Vectors in Principal Component Space\"},\"scene\":{\"xaxis\":{\"title\":{\"text\":\"PC1 (14.9%)\"}},\"yaxis\":{\"title\":{\"text\":\"PC2 (11.4%)\"}},\"zaxis\":{\"title\":{\"text\":\"PC3 (8.5%)\"}}},\"width\":1000,\"height\":800},                        {\"responsive\": true}                    ).then(function(){\n",
       "                            \n",
       "var gd = document.getElementById('b1db2a20-9b5c-4a25-9ae6-c4a354704019');\n",
       "var x = new MutationObserver(function (mutations, observer) {{\n",
       "        var display = window.getComputedStyle(gd).display;\n",
       "        if (!display || display === 'none') {{\n",
       "            console.log([gd, 'removed!']);\n",
       "            Plotly.purge(gd);\n",
       "            observer.disconnect();\n",
       "        }}\n",
       "}});\n",
       "\n",
       "// Listen for the removal of the full notebook cells\n",
       "var notebookContainer = gd.closest('#notebook-container');\n",
       "if (notebookContainer) {{\n",
       "    x.observe(notebookContainer, {childList: true});\n",
       "}}\n",
       "\n",
       "// Listen for the clearing of the current output cell\n",
       "var outputEl = gd.closest('.output');\n",
       "if (outputEl) {{\n",
       "    x.observe(outputEl, {childList: true});\n",
       "}}\n",
       "\n",
       "                        })                };                });            </script>        </div>"
      ]
     },
     "metadata": {},
     "output_type": "display_data"
    }
   ],
   "source": [
    "plot_3d_pca(pca_transformed, variance_explained, filtered_pos_neg_50_traits, layer)"
   ]
  },
  {
   "cell_type": "markdown",
   "id": "2b44c2ae",
   "metadata": {},
   "source": [
    "### pos_default"
   ]
  },
  {
   "cell_type": "code",
   "execution_count": 43,
   "id": "e6dc710c",
   "metadata": {},
   "outputs": [
    {
     "name": "stdout",
     "output_type": "stream",
     "text": [
      "torch.Size([240, 46, 4608])\n"
     ]
    }
   ],
   "source": [
    "# PCA on all of pos_default ... or some other clustering algorithm?\n",
    "\n",
    "pos_default = torch.stack(pos_default).float()\n",
    "print(pos_default.shape)"
   ]
  },
  {
   "cell_type": "code",
   "execution_count": 44,
   "id": "efda8353",
   "metadata": {},
   "outputs": [
    {
     "name": "stdout",
     "output_type": "stream",
     "text": [
      "PCA fitted with 240 components\n",
      "Cumulative variance for first 5 components: [0.14114245 0.23283618 0.29676924 0.34340508 0.3846963 ]\n",
      "\n",
      "PCA Analysis Results:\n",
      "Elbow point at component: 2\n",
      "Dimensions for 70% variance: 24\n",
      "Dimensions for 80% variance: 42\n",
      "Dimensions for 90% variance: 76\n",
      "Dimensions for 95% variance: 111\n"
     ]
    }
   ],
   "source": [
    "pca_transformed, variance_explained, n_components = compute_pca(pos_default, layer)"
   ]
  }
 ],
 "metadata": {
  "kernelspec": {
   "display_name": ".venv",
   "language": "python",
   "name": "python3"
  },
  "language_info": {
   "codemirror_mode": {
    "name": "ipython",
    "version": 3
   },
   "file_extension": ".py",
   "mimetype": "text/x-python",
   "name": "python",
   "nbconvert_exporter": "python",
   "pygments_lexer": "ipython3",
   "version": "3.13.5"
  }
 },
 "nbformat": 4,
 "nbformat_minor": 5
}
