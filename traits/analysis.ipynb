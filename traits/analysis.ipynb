{
 "cells": [
  {
   "cell_type": "markdown",
   "id": "28531137",
   "metadata": {},
   "source": [
    "# Analyze scores for each trait"
   ]
  },
  {
   "cell_type": "code",
   "execution_count": 46,
   "id": "30f3bcdd",
   "metadata": {
    "execution": {
     "iopub.execute_input": "2025-08-06T00:18:08.842015Z",
     "iopub.status.busy": "2025-08-06T00:18:08.841387Z",
     "iopub.status.idle": "2025-08-06T00:18:09.171163Z",
     "shell.execute_reply": "2025-08-06T00:18:09.170519Z"
    }
   },
   "outputs": [],
   "source": [
    "import json\n",
    "import os\n",
    "import torch\n",
    "import numpy as np\n",
    "import pandas as pd\n",
    "import plotly.graph_objects as go\n",
    "import plotly.subplots as sp\n",
    "from sklearn.decomposition import PCA\n",
    "from sklearn.preprocessing import StandardScaler\n",
    "from sklearn.metrics.pairwise import cosine_similarity\n"
   ]
  },
  {
   "cell_type": "markdown",
   "id": "ce50bcb7",
   "metadata": {},
   "source": [
    "## Score statistics"
   ]
  },
  {
   "cell_type": "code",
   "execution_count": 3,
   "id": "411c5350",
   "metadata": {
    "execution": {
     "iopub.execute_input": "2025-08-06T00:18:09.175040Z",
     "iopub.status.busy": "2025-08-06T00:18:09.174845Z",
     "iopub.status.idle": "2025-08-06T00:18:09.200056Z",
     "shell.execute_reply": "2025-08-06T00:18:09.199491Z"
    }
   },
   "outputs": [
    {
     "name": "stdout",
     "output_type": "stream",
     "text": [
      "Found 240 traits with scores\n"
     ]
    }
   ],
   "source": [
    "# load data from data/extract_scores\n",
    "score_dir = \"/root/git/persona-subspace/traits/data/extract_scores\"\n",
    "\n",
    "# iterate through each json file in the directory\n",
    "scores = {}\n",
    "for file in os.listdir(score_dir):\n",
    "    if file.endswith(\".json\"):\n",
    "        with open(os.path.join(score_dir, file), \"r\") as f:\n",
    "            scores[file.replace(\".json\", \"\")] = json.load(f)\n",
    "\n",
    "print(f\"Found {len(scores.keys())} traits with scores\")\n"
   ]
  },
  {
   "cell_type": "code",
   "execution_count": 4,
   "id": "xn9eevi5y8h",
   "metadata": {
    "execution": {
     "iopub.execute_input": "2025-08-06T00:18:09.203182Z",
     "iopub.status.busy": "2025-08-06T00:18:09.203055Z",
     "iopub.status.idle": "2025-08-06T00:18:09.222862Z",
     "shell.execute_reply": "2025-08-06T00:18:09.222318Z"
    }
   },
   "outputs": [
    {
     "name": "stdout",
     "output_type": "stream",
     "text": [
      "Refusal Statistics:\n",
      "Total refusals across all traits: 4\n",
      "Traits with refusals: 4\n",
      "\n",
      "Top 10 traits with most refusals:\n",
      "  animated: 1 refusals - ['neg_p1_q7']\n",
      "  diplomatic: 1 refusals - ['neg_p2_q19']\n",
      "  generalist: 1 refusals - ['neg_p0_q4']\n",
      "  utilitarian: 1 refusals - ['default_p2_q13']\n"
     ]
    }
   ],
   "source": [
    "# Analyze refusals and clean data\n",
    "refusal_info = {}\n",
    "scores_clean = {}\n",
    "\n",
    "for trait, score_obj in scores.items():\n",
    "    refusals = []\n",
    "    cleaned_scores = {}\n",
    "    \n",
    "    # Check each score for refusals\n",
    "    for key, value in score_obj.items():\n",
    "        if value == \"REFUSAL\":\n",
    "            refusals.append(key)\n",
    "            cleaned_scores[key] = 0  # Replace refusals with NaN\n",
    "        else:\n",
    "            cleaned_scores[key] = float(value)  # Ensure numeric\n",
    "    \n",
    "    scores_clean[trait] = cleaned_scores\n",
    "    refusal_info[trait] = {\n",
    "        \"refusals\": refusals,\n",
    "        \"refusal_count\": len(refusals)\n",
    "    }\n",
    "\n",
    "# Show refusal statistics\n",
    "total_refusals = sum(info[\"refusal_count\"] for info in refusal_info.values())\n",
    "traits_with_refusals = sum(1 for info in refusal_info.values() if info[\"refusal_count\"] > 0)\n",
    "\n",
    "print(f\"Refusal Statistics:\")\n",
    "print(f\"Total refusals across all traits: {total_refusals}\")\n",
    "print(f\"Traits with refusals: {traits_with_refusals}\")\n",
    "\n",
    "if total_refusals > 0:\n",
    "    sorted_refusals = sorted(refusal_info.items(), key=lambda x: x[1][\"refusal_count\"], reverse=True)\n",
    "    print(f\"\\nTop 10 traits with most refusals:\")\n",
    "    for trait, info in sorted_refusals[:10]:\n",
    "        if info[\"refusal_count\"] > 0:\n",
    "            print(f\"  {trait}: {info['refusal_count']} refusals - {info['refusals']}\")"
   ]
  },
  {
   "cell_type": "code",
   "execution_count": 5,
   "id": "918944a8",
   "metadata": {
    "execution": {
     "iopub.execute_input": "2025-08-06T00:18:09.225377Z",
     "iopub.status.busy": "2025-08-06T00:18:09.225242Z",
     "iopub.status.idle": "2025-08-06T00:18:09.259886Z",
     "shell.execute_reply": "2025-08-06T00:18:09.259317Z"
    }
   },
   "outputs": [
    {
     "name": "stdout",
     "output_type": "stream",
     "text": [
      "Created numpy arrays for 240 traits\n",
      "Shape of each array: (3, 5, 20)\n",
      "Example (first trait): absolutist\n",
      "Pos scores for first 2 prompts, 5 questions:\n",
      "[[ 0. 10. 10. 10.  0.]\n",
      " [ 0. 10.  0. 10.  0.]]\n",
      "Neg scores for first 2 prompts, 5 questions:\n",
      "[[ 0.  0.  0. 10.  0.]\n",
      " [ 0. 10.  0.  0.  0.]]\n"
     ]
    }
   ],
   "source": [
    "# Create numpy arrays using cleaned scores (refusals as NaN)\n",
    "# Structure: 3D tensor with shape (3 types, 5 prompts, 20 questions)\n",
    "scores_np = {}\n",
    "\n",
    "for trait, cleaned_scores in scores_clean.items():\n",
    "    # Create 3D array: [type, prompt, question]\n",
    "    scores_3d = np.full((3, 5, 20), np.nan)\n",
    "    \n",
    "    # Extract scores for each type, prompt, and question\n",
    "    for prompt_idx in range(5):\n",
    "        for question_idx in range(20):\n",
    "            # pos scores\n",
    "            pos_key = f\"pos_p{prompt_idx}_q{question_idx}\"\n",
    "            if pos_key in cleaned_scores:\n",
    "                scores_3d[0, prompt_idx, question_idx] = cleaned_scores[pos_key]\n",
    "            \n",
    "            # neg scores  \n",
    "            neg_key = f\"neg_p{prompt_idx}_q{question_idx}\"\n",
    "            if neg_key in cleaned_scores:\n",
    "                scores_3d[1, prompt_idx, question_idx] = cleaned_scores[neg_key]\n",
    "            \n",
    "            # default scores\n",
    "            default_key = f\"default_p{prompt_idx}_q{question_idx}\"\n",
    "            if default_key in cleaned_scores:\n",
    "                scores_3d[2, prompt_idx, question_idx] = cleaned_scores[default_key]\n",
    "    \n",
    "    scores_np[trait] = scores_3d\n",
    "\n",
    "print(f\"Created numpy arrays for {len(scores_np)} traits\")\n",
    "print(f\"Shape of each array: {next(iter(scores_np.values())).shape}\")\n",
    "print(f\"Example (first trait): {list(scores_np.keys())[0]}\")\n",
    "example_trait = list(scores_np.keys())[0]\n",
    "print(f\"Pos scores for first 2 prompts, 5 questions:\\n{scores_np[example_trait][0, :2, :5]}\")\n",
    "print(f\"Neg scores for first 2 prompts, 5 questions:\\n{scores_np[example_trait][1, :2, :5]}\")"
   ]
  },
  {
   "cell_type": "code",
   "execution_count": 6,
   "id": "3eab3243",
   "metadata": {
    "execution": {
     "iopub.execute_input": "2025-08-06T00:18:09.262430Z",
     "iopub.status.busy": "2025-08-06T00:18:09.262302Z",
     "iopub.status.idle": "2025-08-06T00:18:09.275196Z",
     "shell.execute_reply": "2025-08-06T00:18:09.274665Z"
    }
   },
   "outputs": [
    {
     "name": "stdout",
     "output_type": "stream",
     "text": [
      "Example statistics for 'absolutist':\n",
      "  pos_minus_neg_mean: 21.75\n",
      "  high_pos_low_neg_count: 25\n",
      "  large_diff_count: 25\n",
      "\n",
      "Calculated statistics for 240 traits\n",
      "\n",
      "High pos, low neg count distribution: min=0, max=100, mean=79.6\n",
      "Large diff count distribution: min=0, max=100, mean=79.4\n",
      "\n",
      "Exported statistics to pos_neg.csv\n",
      "Shape: (240, 3)\n"
     ]
    }
   ],
   "source": [
    "# Calculate simplified statistics for each trait\n",
    "stats = {}\n",
    "\n",
    "for trait, scores_3d in scores_np.items():\n",
    "    pos_scores = scores_3d[0]  # shape: (5, 20) \n",
    "    neg_scores = scores_3d[1]  # shape: (5, 20)\n",
    "    \n",
    "    # Mean difference between pos and neg across all samples\n",
    "    pos_minus_neg_mean = np.nanmean(pos_scores - neg_scores)\n",
    "    \n",
    "    # Count all pos/neg pairs with same prompt_index and question_index\n",
    "    high_pos_low_neg_count = 0\n",
    "    large_diff_count = 0\n",
    "    \n",
    "    # Check all 100 pairs (5 prompts × 20 questions)\n",
    "    for prompt_idx in range(5):\n",
    "        for question_idx in range(20):\n",
    "            pos_val = pos_scores[prompt_idx, question_idx]\n",
    "            neg_val = neg_scores[prompt_idx, question_idx]\n",
    "            \n",
    "            # Skip if either value is NaN\n",
    "            if not (np.isnan(pos_val) or np.isnan(neg_val)):\n",
    "                # Count high pos, low neg cases\n",
    "                if pos_val > 50 and neg_val < 50:\n",
    "                    high_pos_low_neg_count += 1\n",
    "                \n",
    "                # Count large difference cases  \n",
    "                if abs(pos_val - neg_val) > 40:\n",
    "                    large_diff_count += 1\n",
    "    \n",
    "    stats[trait] = {\n",
    "        \"pos_minus_neg_mean\": pos_minus_neg_mean,\n",
    "        \"high_pos_low_neg_count\": high_pos_low_neg_count,\n",
    "        \"large_diff_count\": large_diff_count\n",
    "    }\n",
    "\n",
    "# Show example statistics for first trait\n",
    "example_trait = list(stats.keys())[0]\n",
    "print(f\"Example statistics for '{example_trait}':\")\n",
    "for key, value in stats[example_trait].items():\n",
    "    if isinstance(value, float):\n",
    "        print(f\"  {key}: {value:.2f}\")\n",
    "    else:\n",
    "        print(f\"  {key}: {value}\")\n",
    "\n",
    "print(f\"\\nCalculated statistics for {len(stats)} traits\")\n",
    "\n",
    "# Show summary of counts\n",
    "high_pos_counts = [s[\"high_pos_low_neg_count\"] for s in stats.values()]\n",
    "large_diff_counts = [s[\"large_diff_count\"] for s in stats.values()]\n",
    "print(f\"\\nHigh pos, low neg count distribution: min={min(high_pos_counts)}, max={max(high_pos_counts)}, mean={np.mean(high_pos_counts):.1f}\")\n",
    "print(f\"Large diff count distribution: min={min(large_diff_counts)}, max={max(large_diff_counts)}, mean={np.mean(large_diff_counts):.1f}\")\n",
    "\n",
    "# Export to CSV\n",
    "stats_df = pd.DataFrame.from_dict(stats, orient='index')\n",
    "stats_df.index.name = 'trait'\n",
    "stats_df.to_csv('./results/pos_neg.csv')\n",
    "print(f\"\\nExported statistics to pos_neg.csv\")\n",
    "print(f\"Shape: {stats_df.shape}\")"
   ]
  },
  {
   "cell_type": "code",
   "execution_count": 7,
   "id": "cd408866",
   "metadata": {},
   "outputs": [
    {
     "name": "stdout",
     "output_type": "stream",
     "text": [
      "Example pos-default statistics for 'absolutist':\n",
      "  pos_minus_default_mean: 22.75\n",
      "  high_pos_low_default_count: 25\n",
      "  large_diff_count: 25\n",
      "\n",
      "Calculated pos-default statistics for 240 traits\n",
      "\n",
      "High pos, low default count distribution: min=0, max=100, mean=47.1\n",
      "Large diff count distribution: min=0, max=100, mean=46.8\n",
      "\n",
      "Exported pos-default statistics to pos_default.csv\n",
      "Shape: (240, 3)\n"
     ]
    }
   ],
   "source": [
    "# Calculate pos - default statistics similar to pos - neg\n",
    "pos_default_stats = {}\n",
    "\n",
    "for trait, scores_3d in scores_np.items():\n",
    "    pos_scores = scores_3d[0]      # shape: (5, 20) \n",
    "    default_scores = scores_3d[2]  # shape: (5, 20)\n",
    "    \n",
    "    # Mean difference between pos and default across all samples\n",
    "    pos_minus_default_mean = np.nanmean(pos_scores - default_scores)\n",
    "    \n",
    "    # Count all pos/default pairs with same prompt_index and question_index\n",
    "    high_pos_low_default_count = 0\n",
    "    large_diff_count = 0\n",
    "    \n",
    "    # Check all 100 pairs (5 prompts × 20 questions)\n",
    "    for prompt_idx in range(5):\n",
    "        for question_idx in range(20):\n",
    "            pos_val = pos_scores[prompt_idx, question_idx]\n",
    "            default_val = default_scores[prompt_idx, question_idx]\n",
    "            \n",
    "            # Skip if either value is NaN\n",
    "            if not (np.isnan(pos_val) or np.isnan(default_val)):\n",
    "                # Count high pos, low default cases\n",
    "                if pos_val > 50 and default_val < 50:\n",
    "                    high_pos_low_default_count += 1\n",
    "                \n",
    "                # Count large difference cases  \n",
    "                if abs(pos_val - default_val) > 40:\n",
    "                    large_diff_count += 1\n",
    "    \n",
    "    pos_default_stats[trait] = {\n",
    "        \"pos_minus_default_mean\": pos_minus_default_mean,\n",
    "        \"high_pos_low_default_count\": high_pos_low_default_count,\n",
    "        \"large_diff_count\": large_diff_count\n",
    "    }\n",
    "\n",
    "# Show example statistics for first trait\n",
    "example_trait = list(pos_default_stats.keys())[0]\n",
    "print(f\"Example pos-default statistics for '{example_trait}':\")\n",
    "for key, value in pos_default_stats[example_trait].items():\n",
    "    if isinstance(value, float):\n",
    "        print(f\"  {key}: {value:.2f}\")\n",
    "    else:\n",
    "        print(f\"  {key}: {value}\")\n",
    "\n",
    "print(f\"\\nCalculated pos-default statistics for {len(pos_default_stats)} traits\")\n",
    "\n",
    "# Show summary of counts\n",
    "high_pos_counts = [s[\"high_pos_low_default_count\"] for s in pos_default_stats.values()]\n",
    "large_diff_counts = [s[\"large_diff_count\"] for s in pos_default_stats.values()]\n",
    "print(f\"\\nHigh pos, low default count distribution: min={min(high_pos_counts)}, max={max(high_pos_counts)}, mean={np.mean(high_pos_counts):.1f}\")\n",
    "print(f\"Large diff count distribution: min={min(large_diff_counts)}, max={max(large_diff_counts)}, mean={np.mean(large_diff_counts):.1f}\")\n",
    "\n",
    "# Export to CSV\n",
    "pos_default_df = pd.DataFrame.from_dict(pos_default_stats, orient='index')\n",
    "pos_default_df.index.name = 'trait'\n",
    "pos_default_df.to_csv('./results/pos_default.csv')\n",
    "print(f\"\\nExported pos-default statistics to pos_default.csv\")\n",
    "print(f\"Shape: {pos_default_df.shape}\")"
   ]
  },
  {
   "cell_type": "markdown",
   "id": "c3e74288",
   "metadata": {},
   "source": [
    "## PCA"
   ]
  },
  {
   "cell_type": "code",
   "execution_count": 8,
   "id": "2c999546",
   "metadata": {},
   "outputs": [
    {
     "name": "stdout",
     "output_type": "stream",
     "text": [
      "Found 240 traits with vectors\n"
     ]
    }
   ],
   "source": [
    "# check vectors\n",
    "\n",
    "# load all vectors from data/vectors\n",
    "vector_dir = \"/root/git/persona-subspace/traits/data/vectors\"\n",
    "\n",
    "# iterate through each .pt file in the directory\n",
    "vectors = {}\n",
    "for file in os.listdir(vector_dir):\n",
    "    if file.endswith(\".pt\"):\n",
    "        vectors[file.replace(\".pt\", \"\")] = torch.load(os.path.join(vector_dir, file))\n",
    "\n",
    "print(f\"Found {len(vectors.keys())} traits with vectors\")"
   ]
  },
  {
   "cell_type": "code",
   "execution_count": 10,
   "id": "31965f44",
   "metadata": {},
   "outputs": [
    {
     "data": {
      "text/plain": [
       "torch.Size([46, 4608])"
      ]
     },
     "execution_count": 10,
     "metadata": {},
     "output_type": "execute_result"
    }
   ],
   "source": [
    "vectors['zealous']['pos_neg'].shape"
   ]
  },
  {
   "cell_type": "code",
   "execution_count": 39,
   "id": "5139afaa",
   "metadata": {},
   "outputs": [
    {
     "name": "stdout",
     "output_type": "stream",
     "text": [
      "240\n"
     ]
    }
   ],
   "source": [
    "layer = 34\n",
    "\n",
    "pos_neg = [vector['pos_neg'] for vector in vectors.values()]\n",
    "pos_neg_50 = [vector['pos_neg_50'] for vector in vectors.values()]\n",
    "pos_default = [vector['pos_default'] for vector in vectors.values()]\n",
    "pos_default_50 = [vector['pos_default_50'] for vector in vectors.values()]\n",
    "\n",
    "print(len(pos_neg))\n"
   ]
  },
  {
   "cell_type": "code",
   "execution_count": 32,
   "id": "5bc3dd72",
   "metadata": {},
   "outputs": [],
   "source": [
    "def compute_pca(activation_list, layer):\n",
    "    layer_activations = activation_list[:, layer, :]\n",
    "    \n",
    "    scaler = StandardScaler()\n",
    "    scaled_layer_activations = scaler.fit_transform(layer_activations)\n",
    "\n",
    "    pca = PCA()\n",
    "    pca_transformed = pca.fit_transform(scaled_layer_activations)\n",
    "\n",
    "    variance_explained = pca.explained_variance_ratio_\n",
    "    cumulative_variance = np.cumsum(variance_explained)\n",
    "    n_components = len(variance_explained)\n",
    "\n",
    "    print(f\"PCA fitted with {n_components} components\")\n",
    "    print(f\"Cumulative variance for first 5 components: {cumulative_variance[:5]}\")\n",
    "\n",
    "    # Find elbow using second derivative method\n",
    "    def find_elbow_point(variance_explained):\n",
    "        \"\"\"Find elbow point using second derivative method\"\"\"\n",
    "        # Calculate first and second derivatives\n",
    "        first_diff = np.diff(variance_explained)\n",
    "        second_diff = np.diff(first_diff) \n",
    "        \n",
    "        # Find point with maximum second derivative (most curvature)\n",
    "        elbow_idx = np.argmax(np.abs(second_diff)) + 1  # +1 to account for diff operations\n",
    "        return elbow_idx\n",
    "\n",
    "    elbow_point = find_elbow_point(variance_explained)\n",
    "    dims_70_pca = np.argmax(cumulative_variance >= 0.70) + 1\n",
    "    dims_80_pca = np.argmax(cumulative_variance >= 0.80) + 1\n",
    "    dims_90_pca = np.argmax(cumulative_variance >= 0.90) + 1\n",
    "    dims_95_pca = np.argmax(cumulative_variance >= 0.95) + 1\n",
    "\n",
    "    print(\"\\nPCA Analysis Results:\")\n",
    "    print(f\"Elbow point at component: {elbow_point + 1}\")\n",
    "    print(f\"Dimensions for 70% variance: {dims_70_pca}\")\n",
    "    print(f\"Dimensions for 80% variance: {dims_80_pca}\")\n",
    "    print(f\"Dimensions for 90% variance: {dims_90_pca}\")\n",
    "    print(f\"Dimensions for 95% variance: {dims_95_pca}\")\n",
    "\n",
    "    return pca_transformed, variance_explained, n_components "
   ]
  },
  {
   "cell_type": "code",
   "execution_count": 87,
   "id": "021f7f55",
   "metadata": {},
   "outputs": [],
   "source": [
    "def plot_pca_cosine_similarity(pca_transformed, trait_labels, pc_component=0, \n",
    "                             layer=None, reference_point=None, color_threshold=0.0):\n",
    "    \"\"\"\n",
    "    Create a plot similar to the PC1 Cosine Similarity visualization.\n",
    "    Shows labels on hover for most points, with visible labels and leader lines \n",
    "    for the 20 traits at either end of the range to avoid overlap.\n",
    "    \n",
    "    Parameters:\n",
    "    - pca_transformed: PCA-transformed data (n_samples, n_components)\n",
    "    - trait_labels: List of labels for each data point\n",
    "    - pc_component: Which PC component to use (0-indexed, so PC1 = 0)\n",
    "    - layer: Layer number for title\n",
    "    - reference_point: Reference point for cosine similarity calculation \n",
    "                      (if None, uses the PC component direction)\n",
    "    - color_threshold: Threshold for coloring points (default: 0.0)\n",
    "    \n",
    "    Returns:\n",
    "    - Plotly figure object\n",
    "    \"\"\"\n",
    "    \n",
    "    # Extract the specified PC component\n",
    "    pc_values = pca_transformed[:, pc_component]\n",
    "    \n",
    "    # Calculate cosine similarities\n",
    "    if reference_point is None:\n",
    "        # Use the PC component direction as reference\n",
    "        # This creates a \"cosine similarity with PC direction\" interpretation\n",
    "        cosine_sims = pc_values / np.linalg.norm(pc_values)  # Normalized PC values\n",
    "    else:\n",
    "        # Calculate cosine similarity with a specific reference point\n",
    "        cosine_sims = cosine_similarity(pca_transformed, reference_point.reshape(1, -1)).flatten()\n",
    "    \n",
    "    # Create colors based on threshold\n",
    "    colors = ['red' if sim < color_threshold else 'blue' for sim in cosine_sims]\n",
    "    \n",
    "    # Identify extreme traits (10 lowest and 10 highest)\n",
    "    sorted_indices = np.argsort(cosine_sims)\n",
    "    low_extreme_indices = sorted_indices[:10]\n",
    "    high_extreme_indices = sorted_indices[-10:]\n",
    "    extreme_indices = set(list(low_extreme_indices) + list(high_extreme_indices))\n",
    "    \n",
    "    # Create subplot figure\n",
    "    fig = sp.make_subplots(\n",
    "        rows=2, cols=1,\n",
    "        row_heights=[0.6, 0.4],\n",
    "        vertical_spacing=0.1,\n",
    "        subplot_titles=[\n",
    "            f'PC{pc_component+1} Cosine Similarity',\n",
    "            'Trait Frequency Distribution'\n",
    "        ]\n",
    "    )\n",
    "    \n",
    "    # Split points into regular and extreme for different display modes\n",
    "    regular_x, regular_y, regular_colors, regular_labels = [], [], [], []\n",
    "    extreme_x, extreme_y, extreme_colors, extreme_labels = [], [], [], []\n",
    "    \n",
    "    for i, (sim, color, label) in enumerate(zip(cosine_sims, colors, trait_labels)):\n",
    "        if i in extreme_indices:\n",
    "            extreme_x.append(sim)\n",
    "            extreme_y.append(1)\n",
    "            extreme_colors.append(color)\n",
    "            extreme_labels.append(label)\n",
    "        else:\n",
    "            regular_x.append(sim)\n",
    "            regular_y.append(1)\n",
    "            regular_colors.append(color)\n",
    "            regular_labels.append(label)\n",
    "    \n",
    "    # Add regular points (hover labels only)\n",
    "    if regular_x:\n",
    "        fig.add_trace(\n",
    "            go.Scatter(\n",
    "                x=regular_x,\n",
    "                y=regular_y,\n",
    "                mode='markers',\n",
    "                marker=dict(\n",
    "                    color=regular_colors,\n",
    "                    size=8,\n",
    "                    opacity=0.7\n",
    "                ),\n",
    "                text=regular_labels,\n",
    "                showlegend=False,\n",
    "                hovertemplate='<b>%{text}</b><br>Cosine Similarity: %{x:.3f}<extra></extra>'\n",
    "            ),\n",
    "            row=1, col=1\n",
    "        )\n",
    "    \n",
    "    # Add extreme points with visible labels and leader lines\n",
    "    if extreme_x:\n",
    "        fig.add_trace(\n",
    "            go.Scatter(\n",
    "                x=extreme_x,\n",
    "                y=extreme_y,\n",
    "                mode='markers',\n",
    "                marker=dict(\n",
    "                    color=extreme_colors,\n",
    "                    size=8,\n",
    "                    opacity=0.9\n",
    "                ),\n",
    "                text=extreme_labels,\n",
    "                showlegend=False,\n",
    "                hovertemplate='<b>%{text}</b><br>Cosine Similarity: %{x:.3f}<extra></extra>'\n",
    "            ),\n",
    "            row=1, col=1\n",
    "        )\n",
    "        \n",
    "        # Create predefined alternating heights with variation\n",
    "        # High positions with variation\n",
    "        high_positions = [1.6, 1.45, 1.55, 1.35, 1.5, 1.4, 1.65, 1.3, 1.58, 1.42]\n",
    "        # Low positions with variation  \n",
    "        low_positions = [0.4, 0.55, 0.45, 0.65, 0.5, 0.6, 0.35, 0.7, 0.42, 0.58]\n",
    "        \n",
    "        # Alternate high-low pattern\n",
    "        all_y_positions = []\n",
    "        for i in range(10):\n",
    "            all_y_positions.extend([high_positions[i], low_positions[i]])\n",
    "        \n",
    "        # Handle low extremes (10 lowest cosine similarities)\n",
    "        for i, idx in enumerate(low_extreme_indices):\n",
    "            x_pos = cosine_sims[idx]\n",
    "            label = trait_labels[idx]\n",
    "            color = colors[idx]\n",
    "            y_label = all_y_positions[i]\n",
    "            \n",
    "            # Add leader line as a separate trace\n",
    "            fig.add_trace(\n",
    "                go.Scatter(\n",
    "                    x=[x_pos, x_pos],\n",
    "                    y=[1.0, y_label],\n",
    "                    mode='lines',\n",
    "                    line=dict(color=color, width=1),\n",
    "                    showlegend=False,\n",
    "                    hoverinfo='skip'\n",
    "                ),\n",
    "                row=1, col=1\n",
    "            )\n",
    "            \n",
    "            # Add label at the end of the line\n",
    "            fig.add_annotation(\n",
    "                x=x_pos,\n",
    "                y=y_label,\n",
    "                text=label,\n",
    "                showarrow=False,\n",
    "                font=dict(size=10, color=color),\n",
    "                bgcolor=\"rgba(255, 255, 255, 0.9)\",\n",
    "                bordercolor=color,\n",
    "                borderwidth=1,\n",
    "                row=1, col=1\n",
    "            )\n",
    "        \n",
    "        # Handle high extremes (10 highest cosine similarities)\n",
    "        for i, idx in enumerate(high_extreme_indices):\n",
    "            x_pos = cosine_sims[idx]\n",
    "            label = trait_labels[idx]\n",
    "            color = colors[idx]\n",
    "            y_label = all_y_positions[i + 10]  # Offset by 10 to continue the pattern\n",
    "            \n",
    "            # Add leader line as a separate trace\n",
    "            fig.add_trace(\n",
    "                go.Scatter(\n",
    "                    x=[x_pos, x_pos],\n",
    "                    y=[1.0, y_label],\n",
    "                    mode='lines',\n",
    "                    line=dict(color=color, width=1),\n",
    "                    showlegend=False,\n",
    "                    hoverinfo='skip'\n",
    "                ),\n",
    "                row=1, col=1\n",
    "            )\n",
    "            \n",
    "            # Add label at the end of the line\n",
    "            fig.add_annotation(\n",
    "                x=x_pos,\n",
    "                y=y_label,\n",
    "                text=label,\n",
    "                showarrow=False,\n",
    "                font=dict(size=10, color=color),\n",
    "                bgcolor=\"rgba(255, 255, 255, 0.9)\",\n",
    "                bordercolor=color,\n",
    "                borderwidth=1,\n",
    "                row=1, col=1\n",
    "            )\n",
    "    \n",
    "    # Add vertical line at x=0 for both panels\n",
    "    fig.add_vline(\n",
    "        x=0,\n",
    "        line_dash=\"solid\",\n",
    "        line_color=\"gray\",\n",
    "        line_width=1,\n",
    "        opacity=0.7,\n",
    "        row=1, col=1\n",
    "    )\n",
    "    \n",
    "    fig.add_vline(\n",
    "        x=0,\n",
    "        line_dash=\"solid\", \n",
    "        line_color=\"gray\",\n",
    "        line_width=1,\n",
    "        opacity=0.7,\n",
    "        row=2, col=1\n",
    "    )\n",
    "    \n",
    "    # Bottom panel: Histogram\n",
    "    fig.add_trace(\n",
    "        go.Histogram(\n",
    "            x=cosine_sims,\n",
    "            nbinsx=30,\n",
    "            opacity=0.7,\n",
    "            marker_color='steelblue',\n",
    "            showlegend=False\n",
    "        ),\n",
    "        row=2, col=1\n",
    "    )\n",
    "    \n",
    "    # Update layout\n",
    "    fig.update_layout(\n",
    "        height=700,\n",
    "        title=dict(\n",
    "            text=\"PCA on Trait Vectors from Mean Response Activations\",\n",
    "            subtitle={\n",
    "                \"text\": f\"Gemma 2 27B, Layer {layer}\",\n",
    "            },\n",
    "            x=0.5,\n",
    "            font=dict(size=16)\n",
    "        ),\n",
    "        showlegend=False\n",
    "    )\n",
    "    \n",
    "    # Calculate symmetric range around 0 (not around data center)\n",
    "    max_abs_value = max(abs(min(cosine_sims)), abs(max(cosine_sims)))\n",
    "    x_half_width = max_abs_value * 1.1  # Add 10% padding\n",
    "    \n",
    "    # Update x-axes with symmetric ranges centered on 0\n",
    "    fig.update_xaxes(\n",
    "        row=1, col=1,\n",
    "        range=[-x_half_width, x_half_width]\n",
    "    )\n",
    "    \n",
    "    fig.update_xaxes(\n",
    "        title_text=f\"PC{pc_component+1} Cosine Similarity\",\n",
    "        row=2, col=1,\n",
    "        range=[-x_half_width, x_half_width]\n",
    "    )\n",
    "    \n",
    "    # Update y-axes\n",
    "    fig.update_yaxes(\n",
    "        title_text=\"\",\n",
    "        showticklabels=False,\n",
    "        row=1, col=1,\n",
    "        range=[0.25, 1.75]  # Range for varied label heights\n",
    "    )\n",
    "    \n",
    "    fig.update_yaxes(\n",
    "        title_text=\"Frequency\",\n",
    "        row=2, col=1\n",
    "    )\n",
    "    \n",
    "    return fig"
   ]
  },
  {
   "cell_type": "markdown",
   "id": "f0358486",
   "metadata": {},
   "source": [
    "### pos_neg "
   ]
  },
  {
   "cell_type": "code",
   "execution_count": 20,
   "id": "74382b65",
   "metadata": {},
   "outputs": [
    {
     "name": "stdout",
     "output_type": "stream",
     "text": [
      "208\n",
      "torch.Size([208, 46, 4608])\n"
     ]
    }
   ],
   "source": [
    "# PCA on pos_neg but filter out traits with pos_minus_neg_mean < 40\n",
    "\n",
    "filtered_pos_neg_traits = []\n",
    "filtered_pos_neg = []\n",
    "\n",
    "for trait, vector in vectors.items():\n",
    "    if stats[trait]['pos_minus_neg_mean'] >= 40:\n",
    "        filtered_pos_neg_traits.append(trait)\n",
    "        filtered_pos_neg.append(vector['pos_neg'])\n",
    "\n",
    "print(len(filtered_pos_neg_traits))\n",
    "\n",
    "filtered_pos_neg = torch.stack(filtered_pos_neg).float()\n",
    "print(filtered_pos_neg.shape)"
   ]
  },
  {
   "cell_type": "code",
   "execution_count": 54,
   "id": "a8876796",
   "metadata": {},
   "outputs": [
    {
     "name": "stdout",
     "output_type": "stream",
     "text": [
      "PCA fitted with 208 components\n",
      "Cumulative variance for first 5 components: [0.15301124 0.2713136  0.36042659 0.42452626 0.46193193]\n",
      "\n",
      "PCA Analysis Results:\n",
      "Elbow point at component: 5\n",
      "Dimensions for 70% variance: 18\n",
      "Dimensions for 80% variance: 33\n",
      "Dimensions for 90% variance: 65\n",
      "Dimensions for 95% variance: 100\n"
     ]
    }
   ],
   "source": [
    "pca_transformed, variance_explained, n_components = compute_pca(filtered_pos_neg, layer)"
   ]
  },
  {
   "cell_type": "markdown",
   "id": "836b0cfc",
   "metadata": {},
   "source": [
    "### pos_neg_50"
   ]
  },
  {
   "cell_type": "code",
   "execution_count": 30,
   "id": "e7776516",
   "metadata": {},
   "outputs": [
    {
     "name": "stdout",
     "output_type": "stream",
     "text": [
      "235\n",
      "torch.Size([235, 46, 4608])\n"
     ]
    }
   ],
   "source": [
    "# PCA on pos_neg_50 but filter out traits with large_diff_count < 10\n",
    "filtered_pos_neg_50_traits = []\n",
    "filtered_pos_neg_50 = []\n",
    "\n",
    "for trait, vector in vectors.items():\n",
    "    if stats[trait]['large_diff_count'] >= 10:\n",
    "        filtered_pos_neg_50_traits.append(trait)\n",
    "        filtered_pos_neg_50.append(vector['pos_neg_50'])\n",
    "\n",
    "print(len(filtered_pos_neg_50_traits))\n",
    "\n",
    "filtered_pos_neg_50 = torch.stack(filtered_pos_neg_50).float()\n",
    "print(filtered_pos_neg_50.shape)"
   ]
  },
  {
   "cell_type": "code",
   "execution_count": 58,
   "id": "73656d27",
   "metadata": {},
   "outputs": [
    {
     "name": "stdout",
     "output_type": "stream",
     "text": [
      "PCA fitted with 235 components\n",
      "Cumulative variance for first 5 components: [0.14948702 0.26322171 0.34780798 0.41020005 0.4467624 ]\n",
      "\n",
      "PCA Analysis Results:\n",
      "Elbow point at component: 5\n",
      "Dimensions for 70% variance: 20\n",
      "Dimensions for 80% variance: 38\n",
      "Dimensions for 90% variance: 76\n",
      "Dimensions for 95% variance: 117\n"
     ]
    }
   ],
   "source": [
    "pca_transformed, variance_explained, n_components = compute_pca(filtered_pos_neg_50, layer)"
   ]
  },
  {
   "cell_type": "code",
   "execution_count": 98,
   "id": "e18873db",
   "metadata": {},
   "outputs": [
    {
     "data": {
      "application/vnd.plotly.v1+json": {
       "config": {
        "plotlyServerURL": "https://plot.ly"
       },
       "data": [
        {
         "hovertemplate": "<b>%{text}</b><br>Cosine Similarity: %{x:.3f}<extra></extra>",
         "marker": {
          "color": [
           "blue",
           "blue",
           "red",
           "blue",
           "red",
           "red",
           "blue",
           "red",
           "blue",
           "blue",
           "blue",
           "blue",
           "red",
           "red",
           "red",
           "blue",
           "red",
           "red",
           "red",
           "red",
           "blue",
           "blue",
           "blue",
           "red",
           "blue",
           "blue",
           "red",
           "blue",
           "red",
           "red",
           "blue",
           "red",
           "blue",
           "red",
           "red",
           "blue",
           "red",
           "red",
           "blue",
           "red",
           "blue",
           "red",
           "red",
           "red",
           "blue",
           "blue",
           "blue",
           "red",
           "red",
           "blue",
           "red",
           "red",
           "blue",
           "blue",
           "blue",
           "blue",
           "red",
           "blue",
           "blue",
           "blue",
           "blue",
           "red",
           "blue",
           "blue",
           "blue",
           "red",
           "red",
           "red",
           "red",
           "blue",
           "blue",
           "blue",
           "blue",
           "red",
           "red",
           "red",
           "red",
           "blue",
           "blue",
           "blue",
           "red",
           "red",
           "red",
           "red",
           "blue",
           "blue",
           "blue",
           "blue",
           "blue",
           "blue",
           "red",
           "red",
           "blue",
           "blue",
           "red",
           "red",
           "red",
           "red",
           "blue",
           "blue",
           "blue",
           "blue",
           "blue",
           "red",
           "red",
           "blue",
           "red",
           "blue",
           "blue",
           "blue",
           "red",
           "red",
           "blue",
           "red",
           "red",
           "blue",
           "red",
           "red",
           "red",
           "red",
           "red",
           "red",
           "blue",
           "red",
           "red",
           "blue",
           "blue",
           "blue",
           "blue",
           "red",
           "blue",
           "red",
           "blue",
           "blue",
           "red",
           "red",
           "red",
           "red",
           "red",
           "blue",
           "blue",
           "red",
           "blue",
           "blue",
           "red",
           "red",
           "red",
           "red",
           "blue",
           "blue",
           "red",
           "blue",
           "red",
           "red",
           "blue",
           "red",
           "red",
           "red",
           "blue",
           "blue",
           "blue",
           "red",
           "blue",
           "blue",
           "red",
           "blue",
           "red",
           "blue",
           "red",
           "red",
           "blue",
           "blue",
           "red",
           "blue",
           "red",
           "red",
           "red",
           "red",
           "blue",
           "red",
           "red",
           "blue",
           "red",
           "red",
           "blue",
           "red",
           "red",
           "blue",
           "red",
           "red",
           "blue",
           "blue",
           "blue",
           "blue",
           "blue",
           "red",
           "red",
           "blue",
           "red",
           "red",
           "blue",
           "blue",
           "red",
           "red",
           "blue",
           "red",
           "red",
           "blue",
           "blue",
           "red",
           "red",
           "blue",
           "red",
           "red",
           "blue"
          ],
          "opacity": 0.7,
          "size": 8
         },
         "mode": "markers",
         "showlegend": false,
         "text": [
          "absolutist",
          "adaptable",
          "abstract",
          "accommodating",
          "acerbic",
          "adventurous",
          "agreeable",
          "altruistic",
          "analytical",
          "animated",
          "anthropocentric",
          "anxious",
          "arrogant",
          "artistic",
          "ascetic",
          "assertive",
          "avoidant",
          "benevolent",
          "big_picture",
          "bitter",
          "blunt",
          "bombastic",
          "calculating",
          "callous",
          "calm",
          "casual",
          "cautious",
          "challenging",
          "chaotic",
          "charismatic",
          "chill",
          "circumspect",
          "closure_seeking",
          "collaborative",
          "collectivistic",
          "competitive",
          "conceptual",
          "conciliatory",
          "concise",
          "condescending",
          "confident",
          "confrontational",
          "conscientious",
          "constructivist",
          "contemporary",
          "contrarian",
          "convergent",
          "cosmopolitan",
          "creative",
          "critical",
          "cruel",
          "curious",
          "cynical",
          "data_driven",
          "decisive",
          "deconstructionist",
          "deontological",
          "descriptive",
          "deterministic",
          "diplomatic",
          "disorganized",
          "divergent",
          "dogmatic",
          "dominant",
          "dramatic",
          "earnest",
          "eclectic",
          "edgy",
          "educational",
          "efficient",
          "effusive",
          "elitist",
          "eloquent",
          "empathetic",
          "entertaining",
          "environmental",
          "epicurean",
          "erudite",
          "esoteric",
          "essentialist",
          "evil",
          "existentialist",
          "experiential",
          "exploratory",
          "extroverted",
          "factual",
          "fatalistic",
          "flexible",
          "flippant",
          "flirty",
          "forgiving",
          "formal",
          "formalist",
          "fundamentalist",
          "futuristic",
          "generalist",
          "generous",
          "goofy",
          "grandiose",
          "gregarious",
          "grounded",
          "hedonistic",
          "historical",
          "holistic",
          "humble",
          "iconoclastic",
          "idealistic",
          "impatient",
          "improvisational",
          "impulsive",
          "inclusive",
          "independent",
          "individualistic",
          "innovative",
          "inquisitive",
          "inspirational",
          "interdisciplinary",
          "introspective",
          "intuitive",
          "ironic",
          "irreverent",
          "judgmental",
          "libertarian",
          "literal",
          "manipulative",
          "materialist",
          "melancholic",
          "melodramatic",
          "mercurial",
          "metaphorical",
          "methodical",
          "meticulous",
          "militant",
          "misanthropic",
          "mischievous",
          "moderate",
          "mystical",
          "naive",
          "narrative",
          "neurotic",
          "nonchalant",
          "nostalgic",
          "nurturing",
          "obsessive",
          "open_ended",
          "optimistic",
          "pacifist",
          "paradoxical",
          "paranoid",
          "passionate",
          "passive_aggressive",
          "pedantic",
          "pensive",
          "perfectionist",
          "pessimistic",
          "philosophical",
          "playful",
          "pluralist",
          "poetic",
          "practical",
          "prescriptive",
          "principled",
          "proactive",
          "problem_solving",
          "progressive",
          "provocative",
          "radical",
          "rationalist",
          "reactive",
          "rebellious",
          "reductionist",
          "regulatory",
          "reserved",
          "resilient",
          "reverent",
          "rhetorical",
          "risk_taking",
          "ritualistic",
          "romantic",
          "sardonic",
          "sassy",
          "secular",
          "serene",
          "serious",
          "skeptical",
          "socratic",
          "solemn",
          "specialized",
          "speculative",
          "spiritual",
          "spontaneous",
          "stoic",
          "strategic",
          "stream_of_consciousness",
          "structuralist",
          "submissive",
          "subversive",
          "supportive",
          "sycophantic",
          "systems_thinker",
          "tactful",
          "technical",
          "temperamental",
          "theoretical",
          "traditional",
          "understated",
          "universalist",
          "urgent",
          "utilitarian",
          "verbose",
          "visceral",
          "whimsical",
          "witty",
          "wry",
          "zealous"
         ],
         "type": "scatter",
         "x": [
          0.039408777389437454,
          0.02423283824344667,
          -0.0868489083301963,
          0.04904940589041914,
          -0.10121336457269296,
          -0.016598048343377893,
          0.0901679177254442,
          -0.05168802615501574,
          0.023644112011151085,
          0.00989134781543583,
          0.04113415901132873,
          0.024457167231462972,
          -0.0009803566729238438,
          -0.10287427411865936,
          -0.05456877229139761,
          0.0008384932167170848,
          -0.030284837430045463,
          -0.011935666964673247,
          -0.07355867517596318,
          -0.046778948281821095,
          0.023893330956563524,
          0.10371260767706592,
          0.006030842565260477,
          -0.03581632630353089,
          0.01685848021423284,
          0.03316592245102203,
          -0.014474993837267063,
          0.06351185913773927,
          -0.012717089446345094,
          -0.009021817356225054,
          0.10956738855183738,
          -0.04147919787548647,
          0.0357339667771942,
          -0.025948209286587007,
          -0.044895745087164325,
          0.08184293827459352,
          -0.07325894103183433,
          -0.015282566668902967,
          0.020965697839868472,
          -0.07921288387618915,
          0.038100412352636906,
          -0.04561144760142452,
          -0.0042994345724881936,
          -0.05938797412291871,
          0.02212149134211373,
          0.028089412837447637,
          0.02478594497536291,
          -0.07381283780883013,
          -0.03960550681369931,
          0.014331749445133423,
          -0.10658858040853487,
          -0.03805450956052201,
          0.08746545266049997,
          0.08403581826136931,
          0.03516891343971273,
          0.020277407425671384,
          -0.01602543278753418,
          0.05981146306309993,
          0.086859827072597,
          0.006630304767351074,
          0.042479432958987436,
          -0.02120062023426249,
          0.02177191270836227,
          0.049396942119394306,
          0.05610458915303561,
          -0.10250785514181801,
          -0.07210173189519897,
          -0.04046232872091554,
          -0.01877948183034927,
          0.061869398135189,
          0.07156311399189969,
          0.039414404685834,
          0.0012842032814296316,
          -0.10640464841458118,
          -0.015771704828900984,
          -0.06074158218768285,
          -0.03148068516815203,
          0.008555488604285543,
          0.09732684012470928,
          0.0420673076841299,
          -0.05369549484047511,
          -0.05288813036583695,
          -0.0124181448306358,
          -0.0067431263794689375,
          0.05671374659419718,
          0.010337431737356033,
          0.0042859005667423965,
          0.06160901761264479,
          0.015686883692401423,
          0.09561182322445143,
          -0.037149203012024026,
          -0.05525250095261431,
          0.037929019281897396,
          0.10895368662101769,
          -0.06794320634045095,
          -0.01735085080211426,
          -0.010764264945166873,
          -0.002926225713269551,
          0.09521755158126899,
          0.02231740029812312,
          0.09641414312593215,
          0.05601814166606489,
          0.01269257701031986,
          -0.04925513652690233,
          -0.07051628130514076,
          0.04137195031568102,
          -0.07127030720748972,
          0.04601329858647651,
          0.004520817877249889,
          0.04044096404007179,
          -0.06841143595722256,
          -0.040024254738943395,
          0.04407411032713842,
          -0.043735089399363394,
          -0.014694166891992053,
          0.03825556008568453,
          -0.027332679214137973,
          -0.013404902232072888,
          -0.06430443911348195,
          -0.09711458164909498,
          -0.06858751006669063,
          -0.07624581138597435,
          0.008702828678248085,
          -0.017897912168399234,
          -0.04491702486055064,
          0.09024169341256855,
          0.049806378850299975,
          0.08346153082950986,
          0.04328914419992942,
          -0.011129007315595525,
          0.019414564933453542,
          -0.002139765975962517,
          0.034553702229459124,
          0.08617536679070646,
          -0.03665932414020574,
          -0.012589801712601047,
          -0.032741978278379866,
          -0.02715189135963233,
          -0.004446379116486523,
          0.003937680565495275,
          0.012804902907495173,
          -0.007780644857540483,
          0.11353747511708752,
          0.045791930177056496,
          -0.08066502059244957,
          -0.05118287320771822,
          -0.03205890710200238,
          -0.03486086123662568,
          0.004203029466317255,
          0.03701042158442503,
          -0.08617424479456577,
          0.04750197350788421,
          -0.11217337001106131,
          -0.011070456107323297,
          0.026306397803665137,
          -0.03213880893001655,
          -0.011087123505639793,
          -0.03503482815217888,
          0.08835916733525316,
          0.08265616434641444,
          0.07080884053177613,
          -0.0222061429740295,
          0.047301063626902735,
          0.06897365308135782,
          -0.045778409402149736,
          0.013709116973703866,
          -0.0508626751869342,
          0.10055129717088326,
          -0.015312436722271394,
          -0.02601734486259103,
          0.028569217496176014,
          0.0006976199246225539,
          -0.022445705190395744,
          0.044537816562200176,
          -0.05272337430839675,
          -0.03264588795492343,
          -0.019394167184527775,
          -0.014310905899427342,
          0.015918023432880804,
          -0.09703975579946825,
          -0.07543946058204702,
          0.03719830316056629,
          -0.04953602882343348,
          -0.013562149982988103,
          0.057354297158682115,
          -0.044600746761923174,
          -0.07266103418934758,
          0.052188043554778886,
          -0.03068208445940482,
          -0.04021229232816437,
          0.046247110473404136,
          0.06482875677982039,
          0.009874606644923959,
          0.023299684285794316,
          0.023508300767347477,
          -0.02587064904656036,
          -0.026417667699096703,
          0.10584193233507874,
          -0.03939954952519059,
          -0.04024343716940368,
          0.021968398910991827,
          0.06576148686327242,
          -0.0500250634347684,
          -0.036164651303129555,
          0.029699025206417252,
          -0.01047171320476113,
          -0.0016836249076110808,
          0.045207562208645025,
          0.032403297138679614,
          -0.013336613876055226,
          -0.06478539604008615,
          0.03269387208258014,
          -0.08063119495738129,
          -0.006591363303123207,
          0.07700281081420543
         ],
         "xaxis": "x",
         "y": [
          1,
          1,
          1,
          1,
          1,
          1,
          1,
          1,
          1,
          1,
          1,
          1,
          1,
          1,
          1,
          1,
          1,
          1,
          1,
          1,
          1,
          1,
          1,
          1,
          1,
          1,
          1,
          1,
          1,
          1,
          1,
          1,
          1,
          1,
          1,
          1,
          1,
          1,
          1,
          1,
          1,
          1,
          1,
          1,
          1,
          1,
          1,
          1,
          1,
          1,
          1,
          1,
          1,
          1,
          1,
          1,
          1,
          1,
          1,
          1,
          1,
          1,
          1,
          1,
          1,
          1,
          1,
          1,
          1,
          1,
          1,
          1,
          1,
          1,
          1,
          1,
          1,
          1,
          1,
          1,
          1,
          1,
          1,
          1,
          1,
          1,
          1,
          1,
          1,
          1,
          1,
          1,
          1,
          1,
          1,
          1,
          1,
          1,
          1,
          1,
          1,
          1,
          1,
          1,
          1,
          1,
          1,
          1,
          1,
          1,
          1,
          1,
          1,
          1,
          1,
          1,
          1,
          1,
          1,
          1,
          1,
          1,
          1,
          1,
          1,
          1,
          1,
          1,
          1,
          1,
          1,
          1,
          1,
          1,
          1,
          1,
          1,
          1,
          1,
          1,
          1,
          1,
          1,
          1,
          1,
          1,
          1,
          1,
          1,
          1,
          1,
          1,
          1,
          1,
          1,
          1,
          1,
          1,
          1,
          1,
          1,
          1,
          1,
          1,
          1,
          1,
          1,
          1,
          1,
          1,
          1,
          1,
          1,
          1,
          1,
          1,
          1,
          1,
          1,
          1,
          1,
          1,
          1,
          1,
          1,
          1,
          1,
          1,
          1,
          1,
          1,
          1,
          1,
          1,
          1,
          1,
          1,
          1,
          1,
          1,
          1,
          1,
          1,
          1,
          1,
          1,
          1,
          1,
          1,
          1,
          1,
          1,
          1,
          1,
          1
         ],
         "yaxis": "y"
        },
        {
         "hovertemplate": "<b>%{text}</b><br>Cosine Similarity: %{x:.3f}<extra></extra>",
         "marker": {
          "color": [
           "red",
           "blue",
           "blue",
           "blue",
           "red",
           "blue",
           "blue",
           "red",
           "red",
           "red",
           "blue",
           "red",
           "blue",
           "blue",
           "red",
           "red",
           "blue",
           "red",
           "red",
           "blue"
          ],
          "opacity": 0.9,
          "size": 8
         },
         "mode": "markers",
         "showlegend": false,
         "text": [
          "accessible",
          "cryptic",
          "detached",
          "dispassionate",
          "emotional",
          "enigmatic",
          "ethereal",
          "hostile",
          "humanistic",
          "introverted",
          "manic",
          "meditative",
          "nihilistic",
          "patient",
          "petty",
          "qualitative",
          "quantitative",
          "sarcastic",
          "savage",
          "theatrical"
         ],
         "type": "scatter",
         "x": [
          -0.11386768359143007,
          0.14298369819382806,
          0.15469095414922882,
          0.12948457838344357,
          -0.15160883245995965,
          0.15976410270333324,
          0.11858442860844527,
          -0.13334793524206692,
          -0.11891475562809065,
          -0.13540007399588233,
          0.13458834306643683,
          -0.21289276590720774,
          0.11785015413652974,
          0.15693892507782742,
          -0.13676982193279597,
          -0.12985698896924125,
          0.12830200863105834,
          -0.14285060039124733,
          -0.18269617249888773,
          0.14429034500972707
         ],
         "xaxis": "x",
         "y": [
          1,
          1,
          1,
          1,
          1,
          1,
          1,
          1,
          1,
          1,
          1,
          1,
          1,
          1,
          1,
          1,
          1,
          1,
          1,
          1
         ],
         "yaxis": "y"
        },
        {
         "hoverinfo": "skip",
         "line": {
          "color": "red",
          "width": 1
         },
         "mode": "lines",
         "showlegend": false,
         "type": "scatter",
         "x": [
          -0.21289276590720774,
          -0.21289276590720774
         ],
         "xaxis": "x",
         "y": [
          1,
          1.6
         ],
         "yaxis": "y"
        },
        {
         "hoverinfo": "skip",
         "line": {
          "color": "red",
          "width": 1
         },
         "mode": "lines",
         "showlegend": false,
         "type": "scatter",
         "x": [
          -0.18269617249888773,
          -0.18269617249888773
         ],
         "xaxis": "x",
         "y": [
          1,
          0.4
         ],
         "yaxis": "y"
        },
        {
         "hoverinfo": "skip",
         "line": {
          "color": "red",
          "width": 1
         },
         "mode": "lines",
         "showlegend": false,
         "type": "scatter",
         "x": [
          -0.15160883245995965,
          -0.15160883245995965
         ],
         "xaxis": "x",
         "y": [
          1,
          1.45
         ],
         "yaxis": "y"
        },
        {
         "hoverinfo": "skip",
         "line": {
          "color": "red",
          "width": 1
         },
         "mode": "lines",
         "showlegend": false,
         "type": "scatter",
         "x": [
          -0.14285060039124733,
          -0.14285060039124733
         ],
         "xaxis": "x",
         "y": [
          1,
          0.55
         ],
         "yaxis": "y"
        },
        {
         "hoverinfo": "skip",
         "line": {
          "color": "red",
          "width": 1
         },
         "mode": "lines",
         "showlegend": false,
         "type": "scatter",
         "x": [
          -0.13676982193279597,
          -0.13676982193279597
         ],
         "xaxis": "x",
         "y": [
          1,
          1.55
         ],
         "yaxis": "y"
        },
        {
         "hoverinfo": "skip",
         "line": {
          "color": "red",
          "width": 1
         },
         "mode": "lines",
         "showlegend": false,
         "type": "scatter",
         "x": [
          -0.13540007399588233,
          -0.13540007399588233
         ],
         "xaxis": "x",
         "y": [
          1,
          0.45
         ],
         "yaxis": "y"
        },
        {
         "hoverinfo": "skip",
         "line": {
          "color": "red",
          "width": 1
         },
         "mode": "lines",
         "showlegend": false,
         "type": "scatter",
         "x": [
          -0.13334793524206692,
          -0.13334793524206692
         ],
         "xaxis": "x",
         "y": [
          1,
          1.35
         ],
         "yaxis": "y"
        },
        {
         "hoverinfo": "skip",
         "line": {
          "color": "red",
          "width": 1
         },
         "mode": "lines",
         "showlegend": false,
         "type": "scatter",
         "x": [
          -0.12985698896924125,
          -0.12985698896924125
         ],
         "xaxis": "x",
         "y": [
          1,
          0.65
         ],
         "yaxis": "y"
        },
        {
         "hoverinfo": "skip",
         "line": {
          "color": "red",
          "width": 1
         },
         "mode": "lines",
         "showlegend": false,
         "type": "scatter",
         "x": [
          -0.11891475562809065,
          -0.11891475562809065
         ],
         "xaxis": "x",
         "y": [
          1,
          1.5
         ],
         "yaxis": "y"
        },
        {
         "hoverinfo": "skip",
         "line": {
          "color": "red",
          "width": 1
         },
         "mode": "lines",
         "showlegend": false,
         "type": "scatter",
         "x": [
          -0.11386768359143007,
          -0.11386768359143007
         ],
         "xaxis": "x",
         "y": [
          1,
          0.5
         ],
         "yaxis": "y"
        },
        {
         "hoverinfo": "skip",
         "line": {
          "color": "blue",
          "width": 1
         },
         "mode": "lines",
         "showlegend": false,
         "type": "scatter",
         "x": [
          0.11785015413652974,
          0.11785015413652974
         ],
         "xaxis": "x",
         "y": [
          1,
          1.4
         ],
         "yaxis": "y"
        },
        {
         "hoverinfo": "skip",
         "line": {
          "color": "blue",
          "width": 1
         },
         "mode": "lines",
         "showlegend": false,
         "type": "scatter",
         "x": [
          0.11858442860844527,
          0.11858442860844527
         ],
         "xaxis": "x",
         "y": [
          1,
          0.6
         ],
         "yaxis": "y"
        },
        {
         "hoverinfo": "skip",
         "line": {
          "color": "blue",
          "width": 1
         },
         "mode": "lines",
         "showlegend": false,
         "type": "scatter",
         "x": [
          0.12830200863105834,
          0.12830200863105834
         ],
         "xaxis": "x",
         "y": [
          1,
          1.65
         ],
         "yaxis": "y"
        },
        {
         "hoverinfo": "skip",
         "line": {
          "color": "blue",
          "width": 1
         },
         "mode": "lines",
         "showlegend": false,
         "type": "scatter",
         "x": [
          0.12948457838344357,
          0.12948457838344357
         ],
         "xaxis": "x",
         "y": [
          1,
          0.35
         ],
         "yaxis": "y"
        },
        {
         "hoverinfo": "skip",
         "line": {
          "color": "blue",
          "width": 1
         },
         "mode": "lines",
         "showlegend": false,
         "type": "scatter",
         "x": [
          0.13458834306643683,
          0.13458834306643683
         ],
         "xaxis": "x",
         "y": [
          1,
          1.3
         ],
         "yaxis": "y"
        },
        {
         "hoverinfo": "skip",
         "line": {
          "color": "blue",
          "width": 1
         },
         "mode": "lines",
         "showlegend": false,
         "type": "scatter",
         "x": [
          0.14298369819382806,
          0.14298369819382806
         ],
         "xaxis": "x",
         "y": [
          1,
          0.7
         ],
         "yaxis": "y"
        },
        {
         "hoverinfo": "skip",
         "line": {
          "color": "blue",
          "width": 1
         },
         "mode": "lines",
         "showlegend": false,
         "type": "scatter",
         "x": [
          0.14429034500972707,
          0.14429034500972707
         ],
         "xaxis": "x",
         "y": [
          1,
          1.58
         ],
         "yaxis": "y"
        },
        {
         "hoverinfo": "skip",
         "line": {
          "color": "blue",
          "width": 1
         },
         "mode": "lines",
         "showlegend": false,
         "type": "scatter",
         "x": [
          0.15469095414922882,
          0.15469095414922882
         ],
         "xaxis": "x",
         "y": [
          1,
          0.42
         ],
         "yaxis": "y"
        },
        {
         "hoverinfo": "skip",
         "line": {
          "color": "blue",
          "width": 1
         },
         "mode": "lines",
         "showlegend": false,
         "type": "scatter",
         "x": [
          0.15693892507782742,
          0.15693892507782742
         ],
         "xaxis": "x",
         "y": [
          1,
          1.42
         ],
         "yaxis": "y"
        },
        {
         "hoverinfo": "skip",
         "line": {
          "color": "blue",
          "width": 1
         },
         "mode": "lines",
         "showlegend": false,
         "type": "scatter",
         "x": [
          0.15976410270333324,
          0.15976410270333324
         ],
         "xaxis": "x",
         "y": [
          1,
          0.58
         ],
         "yaxis": "y"
        },
        {
         "marker": {
          "color": "steelblue"
         },
         "nbinsx": 30,
         "opacity": 0.7,
         "showlegend": false,
         "type": "histogram",
         "x": [
          0.039408777389437454,
          0.02423283824344667,
          -0.0868489083301963,
          -0.11386768359143007,
          0.04904940589041914,
          -0.10121336457269296,
          -0.016598048343377893,
          0.0901679177254442,
          -0.05168802615501574,
          0.023644112011151085,
          0.00989134781543583,
          0.04113415901132873,
          0.024457167231462972,
          -0.0009803566729238438,
          -0.10287427411865936,
          -0.05456877229139761,
          0.0008384932167170848,
          -0.030284837430045463,
          -0.011935666964673247,
          -0.07355867517596318,
          -0.046778948281821095,
          0.023893330956563524,
          0.10371260767706592,
          0.006030842565260477,
          -0.03581632630353089,
          0.01685848021423284,
          0.03316592245102203,
          -0.014474993837267063,
          0.06351185913773927,
          -0.012717089446345094,
          -0.009021817356225054,
          0.10956738855183738,
          -0.04147919787548647,
          0.0357339667771942,
          -0.025948209286587007,
          -0.044895745087164325,
          0.08184293827459352,
          -0.07325894103183433,
          -0.015282566668902967,
          0.020965697839868472,
          -0.07921288387618915,
          0.038100412352636906,
          -0.04561144760142452,
          -0.0042994345724881936,
          -0.05938797412291871,
          0.02212149134211373,
          0.028089412837447637,
          0.02478594497536291,
          -0.07381283780883013,
          -0.03960550681369931,
          0.014331749445133423,
          -0.10658858040853487,
          0.14298369819382806,
          -0.03805450956052201,
          0.08746545266049997,
          0.08403581826136931,
          0.03516891343971273,
          0.020277407425671384,
          -0.01602543278753418,
          0.05981146306309993,
          0.15469095414922882,
          0.086859827072597,
          0.006630304767351074,
          0.042479432958987436,
          0.12948457838344357,
          -0.02120062023426249,
          0.02177191270836227,
          0.049396942119394306,
          0.05610458915303561,
          -0.10250785514181801,
          -0.07210173189519897,
          -0.04046232872091554,
          -0.01877948183034927,
          0.061869398135189,
          0.07156311399189969,
          0.039414404685834,
          0.0012842032814296316,
          -0.15160883245995965,
          -0.10640464841458118,
          0.15976410270333324,
          -0.015771704828900984,
          -0.06074158218768285,
          -0.03148068516815203,
          0.008555488604285543,
          0.09732684012470928,
          0.0420673076841299,
          0.11858442860844527,
          -0.05369549484047511,
          -0.05288813036583695,
          -0.0124181448306358,
          -0.0067431263794689375,
          0.05671374659419718,
          0.010337431737356033,
          0.0042859005667423965,
          0.06160901761264479,
          0.015686883692401423,
          0.09561182322445143,
          -0.037149203012024026,
          -0.05525250095261431,
          0.037929019281897396,
          0.10895368662101769,
          -0.06794320634045095,
          -0.01735085080211426,
          -0.010764264945166873,
          -0.002926225713269551,
          0.09521755158126899,
          0.02231740029812312,
          0.09641414312593215,
          0.05601814166606489,
          0.01269257701031986,
          -0.04925513652690233,
          -0.13334793524206692,
          -0.11891475562809065,
          -0.07051628130514076,
          0.04137195031568102,
          -0.07127030720748972,
          0.04601329858647651,
          0.004520817877249889,
          0.04044096404007179,
          -0.06841143595722256,
          -0.040024254738943395,
          0.04407411032713842,
          -0.043735089399363394,
          -0.014694166891992053,
          0.03825556008568453,
          -0.027332679214137973,
          -0.013404902232072888,
          -0.13540007399588233,
          -0.06430443911348195,
          -0.09711458164909498,
          -0.06858751006669063,
          -0.07624581138597435,
          0.008702828678248085,
          -0.017897912168399234,
          0.13458834306643683,
          -0.04491702486055064,
          0.09024169341256855,
          -0.21289276590720774,
          0.049806378850299975,
          0.08346153082950986,
          0.04328914419992942,
          -0.011129007315595525,
          0.019414564933453542,
          -0.002139765975962517,
          0.034553702229459124,
          0.08617536679070646,
          -0.03665932414020574,
          -0.012589801712601047,
          -0.032741978278379866,
          -0.02715189135963233,
          -0.004446379116486523,
          0.003937680565495275,
          0.11785015413652974,
          0.012804902907495173,
          -0.007780644857540483,
          0.11353747511708752,
          0.045791930177056496,
          -0.08066502059244957,
          -0.05118287320771822,
          -0.03205890710200238,
          -0.03486086123662568,
          0.004203029466317255,
          0.03701042158442503,
          -0.08617424479456577,
          0.15693892507782742,
          0.04750197350788421,
          -0.11217337001106131,
          -0.011070456107323297,
          0.026306397803665137,
          -0.13676982193279597,
          -0.03213880893001655,
          -0.011087123505639793,
          -0.03503482815217888,
          0.08835916733525316,
          0.08265616434641444,
          0.07080884053177613,
          -0.0222061429740295,
          0.047301063626902735,
          0.06897365308135782,
          -0.045778409402149736,
          0.013709116973703866,
          -0.12985698896924125,
          0.12830200863105834,
          -0.0508626751869342,
          0.10055129717088326,
          -0.015312436722271394,
          -0.02601734486259103,
          0.028569217496176014,
          0.0006976199246225539,
          -0.022445705190395744,
          0.044537816562200176,
          -0.05272337430839675,
          -0.03264588795492343,
          -0.019394167184527775,
          -0.014310905899427342,
          0.015918023432880804,
          -0.14285060039124733,
          -0.09703975579946825,
          -0.07543946058204702,
          -0.18269617249888773,
          0.03719830316056629,
          -0.04953602882343348,
          -0.013562149982988103,
          0.057354297158682115,
          -0.044600746761923174,
          -0.07266103418934758,
          0.052188043554778886,
          -0.03068208445940482,
          -0.04021229232816437,
          0.046247110473404136,
          0.06482875677982039,
          0.009874606644923959,
          0.023299684285794316,
          0.023508300767347477,
          -0.02587064904656036,
          -0.026417667699096703,
          0.10584193233507874,
          -0.03939954952519059,
          -0.04024343716940368,
          0.021968398910991827,
          0.06576148686327242,
          -0.0500250634347684,
          0.14429034500972707,
          -0.036164651303129555,
          0.029699025206417252,
          -0.01047171320476113,
          -0.0016836249076110808,
          0.045207562208645025,
          0.032403297138679614,
          -0.013336613876055226,
          -0.06478539604008615,
          0.03269387208258014,
          -0.08063119495738129,
          -0.006591363303123207,
          0.07700281081420543
         ],
         "xaxis": "x2",
         "yaxis": "y2"
        }
       ],
       "layout": {
        "annotations": [
         {
          "font": {
           "size": 16
          },
          "showarrow": false,
          "text": "PC10 Cosine Similarity",
          "x": 0.5,
          "xanchor": "center",
          "xref": "paper",
          "y": 1,
          "yanchor": "bottom",
          "yref": "paper"
         },
         {
          "font": {
           "size": 16
          },
          "showarrow": false,
          "text": "Trait Frequency Distribution",
          "x": 0.5,
          "xanchor": "center",
          "xref": "paper",
          "y": 0.36000000000000004,
          "yanchor": "bottom",
          "yref": "paper"
         },
         {
          "bgcolor": "rgba(255, 255, 255, 0.9)",
          "bordercolor": "red",
          "borderwidth": 1,
          "font": {
           "color": "red",
           "size": 10
          },
          "showarrow": false,
          "text": "meditative",
          "x": -0.21289276590720774,
          "xref": "x",
          "y": 1.6,
          "yref": "y"
         },
         {
          "bgcolor": "rgba(255, 255, 255, 0.9)",
          "bordercolor": "red",
          "borderwidth": 1,
          "font": {
           "color": "red",
           "size": 10
          },
          "showarrow": false,
          "text": "savage",
          "x": -0.18269617249888773,
          "xref": "x",
          "y": 0.4,
          "yref": "y"
         },
         {
          "bgcolor": "rgba(255, 255, 255, 0.9)",
          "bordercolor": "red",
          "borderwidth": 1,
          "font": {
           "color": "red",
           "size": 10
          },
          "showarrow": false,
          "text": "emotional",
          "x": -0.15160883245995965,
          "xref": "x",
          "y": 1.45,
          "yref": "y"
         },
         {
          "bgcolor": "rgba(255, 255, 255, 0.9)",
          "bordercolor": "red",
          "borderwidth": 1,
          "font": {
           "color": "red",
           "size": 10
          },
          "showarrow": false,
          "text": "sarcastic",
          "x": -0.14285060039124733,
          "xref": "x",
          "y": 0.55,
          "yref": "y"
         },
         {
          "bgcolor": "rgba(255, 255, 255, 0.9)",
          "bordercolor": "red",
          "borderwidth": 1,
          "font": {
           "color": "red",
           "size": 10
          },
          "showarrow": false,
          "text": "petty",
          "x": -0.13676982193279597,
          "xref": "x",
          "y": 1.55,
          "yref": "y"
         },
         {
          "bgcolor": "rgba(255, 255, 255, 0.9)",
          "bordercolor": "red",
          "borderwidth": 1,
          "font": {
           "color": "red",
           "size": 10
          },
          "showarrow": false,
          "text": "introverted",
          "x": -0.13540007399588233,
          "xref": "x",
          "y": 0.45,
          "yref": "y"
         },
         {
          "bgcolor": "rgba(255, 255, 255, 0.9)",
          "bordercolor": "red",
          "borderwidth": 1,
          "font": {
           "color": "red",
           "size": 10
          },
          "showarrow": false,
          "text": "hostile",
          "x": -0.13334793524206692,
          "xref": "x",
          "y": 1.35,
          "yref": "y"
         },
         {
          "bgcolor": "rgba(255, 255, 255, 0.9)",
          "bordercolor": "red",
          "borderwidth": 1,
          "font": {
           "color": "red",
           "size": 10
          },
          "showarrow": false,
          "text": "qualitative",
          "x": -0.12985698896924125,
          "xref": "x",
          "y": 0.65,
          "yref": "y"
         },
         {
          "bgcolor": "rgba(255, 255, 255, 0.9)",
          "bordercolor": "red",
          "borderwidth": 1,
          "font": {
           "color": "red",
           "size": 10
          },
          "showarrow": false,
          "text": "humanistic",
          "x": -0.11891475562809065,
          "xref": "x",
          "y": 1.5,
          "yref": "y"
         },
         {
          "bgcolor": "rgba(255, 255, 255, 0.9)",
          "bordercolor": "red",
          "borderwidth": 1,
          "font": {
           "color": "red",
           "size": 10
          },
          "showarrow": false,
          "text": "accessible",
          "x": -0.11386768359143007,
          "xref": "x",
          "y": 0.5,
          "yref": "y"
         },
         {
          "bgcolor": "rgba(255, 255, 255, 0.9)",
          "bordercolor": "blue",
          "borderwidth": 1,
          "font": {
           "color": "blue",
           "size": 10
          },
          "showarrow": false,
          "text": "nihilistic",
          "x": 0.11785015413652974,
          "xref": "x",
          "y": 1.4,
          "yref": "y"
         },
         {
          "bgcolor": "rgba(255, 255, 255, 0.9)",
          "bordercolor": "blue",
          "borderwidth": 1,
          "font": {
           "color": "blue",
           "size": 10
          },
          "showarrow": false,
          "text": "ethereal",
          "x": 0.11858442860844527,
          "xref": "x",
          "y": 0.6,
          "yref": "y"
         },
         {
          "bgcolor": "rgba(255, 255, 255, 0.9)",
          "bordercolor": "blue",
          "borderwidth": 1,
          "font": {
           "color": "blue",
           "size": 10
          },
          "showarrow": false,
          "text": "quantitative",
          "x": 0.12830200863105834,
          "xref": "x",
          "y": 1.65,
          "yref": "y"
         },
         {
          "bgcolor": "rgba(255, 255, 255, 0.9)",
          "bordercolor": "blue",
          "borderwidth": 1,
          "font": {
           "color": "blue",
           "size": 10
          },
          "showarrow": false,
          "text": "dispassionate",
          "x": 0.12948457838344357,
          "xref": "x",
          "y": 0.35,
          "yref": "y"
         },
         {
          "bgcolor": "rgba(255, 255, 255, 0.9)",
          "bordercolor": "blue",
          "borderwidth": 1,
          "font": {
           "color": "blue",
           "size": 10
          },
          "showarrow": false,
          "text": "manic",
          "x": 0.13458834306643683,
          "xref": "x",
          "y": 1.3,
          "yref": "y"
         },
         {
          "bgcolor": "rgba(255, 255, 255, 0.9)",
          "bordercolor": "blue",
          "borderwidth": 1,
          "font": {
           "color": "blue",
           "size": 10
          },
          "showarrow": false,
          "text": "cryptic",
          "x": 0.14298369819382806,
          "xref": "x",
          "y": 0.7,
          "yref": "y"
         },
         {
          "bgcolor": "rgba(255, 255, 255, 0.9)",
          "bordercolor": "blue",
          "borderwidth": 1,
          "font": {
           "color": "blue",
           "size": 10
          },
          "showarrow": false,
          "text": "theatrical",
          "x": 0.14429034500972707,
          "xref": "x",
          "y": 1.58,
          "yref": "y"
         },
         {
          "bgcolor": "rgba(255, 255, 255, 0.9)",
          "bordercolor": "blue",
          "borderwidth": 1,
          "font": {
           "color": "blue",
           "size": 10
          },
          "showarrow": false,
          "text": "detached",
          "x": 0.15469095414922882,
          "xref": "x",
          "y": 0.42,
          "yref": "y"
         },
         {
          "bgcolor": "rgba(255, 255, 255, 0.9)",
          "bordercolor": "blue",
          "borderwidth": 1,
          "font": {
           "color": "blue",
           "size": 10
          },
          "showarrow": false,
          "text": "patient",
          "x": 0.15693892507782742,
          "xref": "x",
          "y": 1.42,
          "yref": "y"
         },
         {
          "bgcolor": "rgba(255, 255, 255, 0.9)",
          "bordercolor": "blue",
          "borderwidth": 1,
          "font": {
           "color": "blue",
           "size": 10
          },
          "showarrow": false,
          "text": "enigmatic",
          "x": 0.15976410270333324,
          "xref": "x",
          "y": 0.58,
          "yref": "y"
         }
        ],
        "height": 700,
        "shapes": [
         {
          "line": {
           "color": "gray",
           "dash": "solid",
           "width": 1
          },
          "opacity": 0.7,
          "type": "line",
          "x0": 0,
          "x1": 0,
          "xref": "x",
          "y0": 0,
          "y1": 1,
          "yref": "y domain"
         }
        ],
        "showlegend": false,
        "template": {
         "data": {
          "bar": [
           {
            "error_x": {
             "color": "#2a3f5f"
            },
            "error_y": {
             "color": "#2a3f5f"
            },
            "marker": {
             "line": {
              "color": "#E5ECF6",
              "width": 0.5
             },
             "pattern": {
              "fillmode": "overlay",
              "size": 10,
              "solidity": 0.2
             }
            },
            "type": "bar"
           }
          ],
          "barpolar": [
           {
            "marker": {
             "line": {
              "color": "#E5ECF6",
              "width": 0.5
             },
             "pattern": {
              "fillmode": "overlay",
              "size": 10,
              "solidity": 0.2
             }
            },
            "type": "barpolar"
           }
          ],
          "carpet": [
           {
            "aaxis": {
             "endlinecolor": "#2a3f5f",
             "gridcolor": "white",
             "linecolor": "white",
             "minorgridcolor": "white",
             "startlinecolor": "#2a3f5f"
            },
            "baxis": {
             "endlinecolor": "#2a3f5f",
             "gridcolor": "white",
             "linecolor": "white",
             "minorgridcolor": "white",
             "startlinecolor": "#2a3f5f"
            },
            "type": "carpet"
           }
          ],
          "choropleth": [
           {
            "colorbar": {
             "outlinewidth": 0,
             "ticks": ""
            },
            "type": "choropleth"
           }
          ],
          "contour": [
           {
            "colorbar": {
             "outlinewidth": 0,
             "ticks": ""
            },
            "colorscale": [
             [
              0,
              "#0d0887"
             ],
             [
              0.1111111111111111,
              "#46039f"
             ],
             [
              0.2222222222222222,
              "#7201a8"
             ],
             [
              0.3333333333333333,
              "#9c179e"
             ],
             [
              0.4444444444444444,
              "#bd3786"
             ],
             [
              0.5555555555555556,
              "#d8576b"
             ],
             [
              0.6666666666666666,
              "#ed7953"
             ],
             [
              0.7777777777777778,
              "#fb9f3a"
             ],
             [
              0.8888888888888888,
              "#fdca26"
             ],
             [
              1,
              "#f0f921"
             ]
            ],
            "type": "contour"
           }
          ],
          "contourcarpet": [
           {
            "colorbar": {
             "outlinewidth": 0,
             "ticks": ""
            },
            "type": "contourcarpet"
           }
          ],
          "heatmap": [
           {
            "colorbar": {
             "outlinewidth": 0,
             "ticks": ""
            },
            "colorscale": [
             [
              0,
              "#0d0887"
             ],
             [
              0.1111111111111111,
              "#46039f"
             ],
             [
              0.2222222222222222,
              "#7201a8"
             ],
             [
              0.3333333333333333,
              "#9c179e"
             ],
             [
              0.4444444444444444,
              "#bd3786"
             ],
             [
              0.5555555555555556,
              "#d8576b"
             ],
             [
              0.6666666666666666,
              "#ed7953"
             ],
             [
              0.7777777777777778,
              "#fb9f3a"
             ],
             [
              0.8888888888888888,
              "#fdca26"
             ],
             [
              1,
              "#f0f921"
             ]
            ],
            "type": "heatmap"
           }
          ],
          "heatmapgl": [
           {
            "colorbar": {
             "outlinewidth": 0,
             "ticks": ""
            },
            "colorscale": [
             [
              0,
              "#0d0887"
             ],
             [
              0.1111111111111111,
              "#46039f"
             ],
             [
              0.2222222222222222,
              "#7201a8"
             ],
             [
              0.3333333333333333,
              "#9c179e"
             ],
             [
              0.4444444444444444,
              "#bd3786"
             ],
             [
              0.5555555555555556,
              "#d8576b"
             ],
             [
              0.6666666666666666,
              "#ed7953"
             ],
             [
              0.7777777777777778,
              "#fb9f3a"
             ],
             [
              0.8888888888888888,
              "#fdca26"
             ],
             [
              1,
              "#f0f921"
             ]
            ],
            "type": "heatmapgl"
           }
          ],
          "histogram": [
           {
            "marker": {
             "pattern": {
              "fillmode": "overlay",
              "size": 10,
              "solidity": 0.2
             }
            },
            "type": "histogram"
           }
          ],
          "histogram2d": [
           {
            "colorbar": {
             "outlinewidth": 0,
             "ticks": ""
            },
            "colorscale": [
             [
              0,
              "#0d0887"
             ],
             [
              0.1111111111111111,
              "#46039f"
             ],
             [
              0.2222222222222222,
              "#7201a8"
             ],
             [
              0.3333333333333333,
              "#9c179e"
             ],
             [
              0.4444444444444444,
              "#bd3786"
             ],
             [
              0.5555555555555556,
              "#d8576b"
             ],
             [
              0.6666666666666666,
              "#ed7953"
             ],
             [
              0.7777777777777778,
              "#fb9f3a"
             ],
             [
              0.8888888888888888,
              "#fdca26"
             ],
             [
              1,
              "#f0f921"
             ]
            ],
            "type": "histogram2d"
           }
          ],
          "histogram2dcontour": [
           {
            "colorbar": {
             "outlinewidth": 0,
             "ticks": ""
            },
            "colorscale": [
             [
              0,
              "#0d0887"
             ],
             [
              0.1111111111111111,
              "#46039f"
             ],
             [
              0.2222222222222222,
              "#7201a8"
             ],
             [
              0.3333333333333333,
              "#9c179e"
             ],
             [
              0.4444444444444444,
              "#bd3786"
             ],
             [
              0.5555555555555556,
              "#d8576b"
             ],
             [
              0.6666666666666666,
              "#ed7953"
             ],
             [
              0.7777777777777778,
              "#fb9f3a"
             ],
             [
              0.8888888888888888,
              "#fdca26"
             ],
             [
              1,
              "#f0f921"
             ]
            ],
            "type": "histogram2dcontour"
           }
          ],
          "mesh3d": [
           {
            "colorbar": {
             "outlinewidth": 0,
             "ticks": ""
            },
            "type": "mesh3d"
           }
          ],
          "parcoords": [
           {
            "line": {
             "colorbar": {
              "outlinewidth": 0,
              "ticks": ""
             }
            },
            "type": "parcoords"
           }
          ],
          "pie": [
           {
            "automargin": true,
            "type": "pie"
           }
          ],
          "scatter": [
           {
            "fillpattern": {
             "fillmode": "overlay",
             "size": 10,
             "solidity": 0.2
            },
            "type": "scatter"
           }
          ],
          "scatter3d": [
           {
            "line": {
             "colorbar": {
              "outlinewidth": 0,
              "ticks": ""
             }
            },
            "marker": {
             "colorbar": {
              "outlinewidth": 0,
              "ticks": ""
             }
            },
            "type": "scatter3d"
           }
          ],
          "scattercarpet": [
           {
            "marker": {
             "colorbar": {
              "outlinewidth": 0,
              "ticks": ""
             }
            },
            "type": "scattercarpet"
           }
          ],
          "scattergeo": [
           {
            "marker": {
             "colorbar": {
              "outlinewidth": 0,
              "ticks": ""
             }
            },
            "type": "scattergeo"
           }
          ],
          "scattergl": [
           {
            "marker": {
             "colorbar": {
              "outlinewidth": 0,
              "ticks": ""
             }
            },
            "type": "scattergl"
           }
          ],
          "scattermapbox": [
           {
            "marker": {
             "colorbar": {
              "outlinewidth": 0,
              "ticks": ""
             }
            },
            "type": "scattermapbox"
           }
          ],
          "scatterpolar": [
           {
            "marker": {
             "colorbar": {
              "outlinewidth": 0,
              "ticks": ""
             }
            },
            "type": "scatterpolar"
           }
          ],
          "scatterpolargl": [
           {
            "marker": {
             "colorbar": {
              "outlinewidth": 0,
              "ticks": ""
             }
            },
            "type": "scatterpolargl"
           }
          ],
          "scatterternary": [
           {
            "marker": {
             "colorbar": {
              "outlinewidth": 0,
              "ticks": ""
             }
            },
            "type": "scatterternary"
           }
          ],
          "surface": [
           {
            "colorbar": {
             "outlinewidth": 0,
             "ticks": ""
            },
            "colorscale": [
             [
              0,
              "#0d0887"
             ],
             [
              0.1111111111111111,
              "#46039f"
             ],
             [
              0.2222222222222222,
              "#7201a8"
             ],
             [
              0.3333333333333333,
              "#9c179e"
             ],
             [
              0.4444444444444444,
              "#bd3786"
             ],
             [
              0.5555555555555556,
              "#d8576b"
             ],
             [
              0.6666666666666666,
              "#ed7953"
             ],
             [
              0.7777777777777778,
              "#fb9f3a"
             ],
             [
              0.8888888888888888,
              "#fdca26"
             ],
             [
              1,
              "#f0f921"
             ]
            ],
            "type": "surface"
           }
          ],
          "table": [
           {
            "cells": {
             "fill": {
              "color": "#EBF0F8"
             },
             "line": {
              "color": "white"
             }
            },
            "header": {
             "fill": {
              "color": "#C8D4E3"
             },
             "line": {
              "color": "white"
             }
            },
            "type": "table"
           }
          ]
         },
         "layout": {
          "annotationdefaults": {
           "arrowcolor": "#2a3f5f",
           "arrowhead": 0,
           "arrowwidth": 1
          },
          "autotypenumbers": "strict",
          "coloraxis": {
           "colorbar": {
            "outlinewidth": 0,
            "ticks": ""
           }
          },
          "colorscale": {
           "diverging": [
            [
             0,
             "#8e0152"
            ],
            [
             0.1,
             "#c51b7d"
            ],
            [
             0.2,
             "#de77ae"
            ],
            [
             0.3,
             "#f1b6da"
            ],
            [
             0.4,
             "#fde0ef"
            ],
            [
             0.5,
             "#f7f7f7"
            ],
            [
             0.6,
             "#e6f5d0"
            ],
            [
             0.7,
             "#b8e186"
            ],
            [
             0.8,
             "#7fbc41"
            ],
            [
             0.9,
             "#4d9221"
            ],
            [
             1,
             "#276419"
            ]
           ],
           "sequential": [
            [
             0,
             "#0d0887"
            ],
            [
             0.1111111111111111,
             "#46039f"
            ],
            [
             0.2222222222222222,
             "#7201a8"
            ],
            [
             0.3333333333333333,
             "#9c179e"
            ],
            [
             0.4444444444444444,
             "#bd3786"
            ],
            [
             0.5555555555555556,
             "#d8576b"
            ],
            [
             0.6666666666666666,
             "#ed7953"
            ],
            [
             0.7777777777777778,
             "#fb9f3a"
            ],
            [
             0.8888888888888888,
             "#fdca26"
            ],
            [
             1,
             "#f0f921"
            ]
           ],
           "sequentialminus": [
            [
             0,
             "#0d0887"
            ],
            [
             0.1111111111111111,
             "#46039f"
            ],
            [
             0.2222222222222222,
             "#7201a8"
            ],
            [
             0.3333333333333333,
             "#9c179e"
            ],
            [
             0.4444444444444444,
             "#bd3786"
            ],
            [
             0.5555555555555556,
             "#d8576b"
            ],
            [
             0.6666666666666666,
             "#ed7953"
            ],
            [
             0.7777777777777778,
             "#fb9f3a"
            ],
            [
             0.8888888888888888,
             "#fdca26"
            ],
            [
             1,
             "#f0f921"
            ]
           ]
          },
          "colorway": [
           "#636efa",
           "#EF553B",
           "#00cc96",
           "#ab63fa",
           "#FFA15A",
           "#19d3f3",
           "#FF6692",
           "#B6E880",
           "#FF97FF",
           "#FECB52"
          ],
          "font": {
           "color": "#2a3f5f"
          },
          "geo": {
           "bgcolor": "white",
           "lakecolor": "white",
           "landcolor": "#E5ECF6",
           "showlakes": true,
           "showland": true,
           "subunitcolor": "white"
          },
          "hoverlabel": {
           "align": "left"
          },
          "hovermode": "closest",
          "mapbox": {
           "style": "light"
          },
          "paper_bgcolor": "white",
          "plot_bgcolor": "#E5ECF6",
          "polar": {
           "angularaxis": {
            "gridcolor": "white",
            "linecolor": "white",
            "ticks": ""
           },
           "bgcolor": "#E5ECF6",
           "radialaxis": {
            "gridcolor": "white",
            "linecolor": "white",
            "ticks": ""
           }
          },
          "scene": {
           "xaxis": {
            "backgroundcolor": "#E5ECF6",
            "gridcolor": "white",
            "gridwidth": 2,
            "linecolor": "white",
            "showbackground": true,
            "ticks": "",
            "zerolinecolor": "white"
           },
           "yaxis": {
            "backgroundcolor": "#E5ECF6",
            "gridcolor": "white",
            "gridwidth": 2,
            "linecolor": "white",
            "showbackground": true,
            "ticks": "",
            "zerolinecolor": "white"
           },
           "zaxis": {
            "backgroundcolor": "#E5ECF6",
            "gridcolor": "white",
            "gridwidth": 2,
            "linecolor": "white",
            "showbackground": true,
            "ticks": "",
            "zerolinecolor": "white"
           }
          },
          "shapedefaults": {
           "line": {
            "color": "#2a3f5f"
           }
          },
          "ternary": {
           "aaxis": {
            "gridcolor": "white",
            "linecolor": "white",
            "ticks": ""
           },
           "baxis": {
            "gridcolor": "white",
            "linecolor": "white",
            "ticks": ""
           },
           "bgcolor": "#E5ECF6",
           "caxis": {
            "gridcolor": "white",
            "linecolor": "white",
            "ticks": ""
           }
          },
          "title": {
           "x": 0.05
          },
          "xaxis": {
           "automargin": true,
           "gridcolor": "white",
           "linecolor": "white",
           "ticks": "",
           "title": {
            "standoff": 15
           },
           "zerolinecolor": "white",
           "zerolinewidth": 2
          },
          "yaxis": {
           "automargin": true,
           "gridcolor": "white",
           "linecolor": "white",
           "ticks": "",
           "title": {
            "standoff": 15
           },
           "zerolinecolor": "white",
           "zerolinewidth": 2
          }
         }
        },
        "title": {
         "font": {
          "size": 16
         },
         "subtitle": {
          "text": "Gemma 2 27B, Layer 34"
         },
         "text": "PCA on Trait Vectors from Mean Response Activations",
         "x": 0.5
        },
        "xaxis": {
         "anchor": "y",
         "domain": [
          0,
          1
         ],
         "range": [
          -0.23418204249792854,
          0.23418204249792854
         ]
        },
        "xaxis2": {
         "anchor": "y2",
         "domain": [
          0,
          1
         ],
         "range": [
          -0.23418204249792854,
          0.23418204249792854
         ],
         "title": {
          "text": "PC10 Cosine Similarity"
         }
        },
        "yaxis": {
         "anchor": "x",
         "domain": [
          0.4600000000000001,
          1
         ],
         "range": [
          0.25,
          1.75
         ],
         "showticklabels": false,
         "title": {
          "text": ""
         }
        },
        "yaxis2": {
         "anchor": "x2",
         "domain": [
          0,
          0.36000000000000004
         ],
         "title": {
          "text": "Frequency"
         }
        }
       }
      },
      "text/html": [
       "<div>                            <div id=\"d76a31e9-d87b-4be0-b6ae-00d1566b6473\" class=\"plotly-graph-div\" style=\"height:700px; width:100%;\"></div>            <script type=\"text/javascript\">                require([\"plotly\"], function(Plotly) {                    window.PLOTLYENV=window.PLOTLYENV || {};                                    if (document.getElementById(\"d76a31e9-d87b-4be0-b6ae-00d1566b6473\")) {                    Plotly.newPlot(                        \"d76a31e9-d87b-4be0-b6ae-00d1566b6473\",                        [{\"hovertemplate\":\"\\u003cb\\u003e%{text}\\u003c\\u002fb\\u003e\\u003cbr\\u003eCosine Similarity: %{x:.3f}\\u003cextra\\u003e\\u003c\\u002fextra\\u003e\",\"marker\":{\"color\":[\"blue\",\"blue\",\"red\",\"blue\",\"red\",\"red\",\"blue\",\"red\",\"blue\",\"blue\",\"blue\",\"blue\",\"red\",\"red\",\"red\",\"blue\",\"red\",\"red\",\"red\",\"red\",\"blue\",\"blue\",\"blue\",\"red\",\"blue\",\"blue\",\"red\",\"blue\",\"red\",\"red\",\"blue\",\"red\",\"blue\",\"red\",\"red\",\"blue\",\"red\",\"red\",\"blue\",\"red\",\"blue\",\"red\",\"red\",\"red\",\"blue\",\"blue\",\"blue\",\"red\",\"red\",\"blue\",\"red\",\"red\",\"blue\",\"blue\",\"blue\",\"blue\",\"red\",\"blue\",\"blue\",\"blue\",\"blue\",\"red\",\"blue\",\"blue\",\"blue\",\"red\",\"red\",\"red\",\"red\",\"blue\",\"blue\",\"blue\",\"blue\",\"red\",\"red\",\"red\",\"red\",\"blue\",\"blue\",\"blue\",\"red\",\"red\",\"red\",\"red\",\"blue\",\"blue\",\"blue\",\"blue\",\"blue\",\"blue\",\"red\",\"red\",\"blue\",\"blue\",\"red\",\"red\",\"red\",\"red\",\"blue\",\"blue\",\"blue\",\"blue\",\"blue\",\"red\",\"red\",\"blue\",\"red\",\"blue\",\"blue\",\"blue\",\"red\",\"red\",\"blue\",\"red\",\"red\",\"blue\",\"red\",\"red\",\"red\",\"red\",\"red\",\"red\",\"blue\",\"red\",\"red\",\"blue\",\"blue\",\"blue\",\"blue\",\"red\",\"blue\",\"red\",\"blue\",\"blue\",\"red\",\"red\",\"red\",\"red\",\"red\",\"blue\",\"blue\",\"red\",\"blue\",\"blue\",\"red\",\"red\",\"red\",\"red\",\"blue\",\"blue\",\"red\",\"blue\",\"red\",\"red\",\"blue\",\"red\",\"red\",\"red\",\"blue\",\"blue\",\"blue\",\"red\",\"blue\",\"blue\",\"red\",\"blue\",\"red\",\"blue\",\"red\",\"red\",\"blue\",\"blue\",\"red\",\"blue\",\"red\",\"red\",\"red\",\"red\",\"blue\",\"red\",\"red\",\"blue\",\"red\",\"red\",\"blue\",\"red\",\"red\",\"blue\",\"red\",\"red\",\"blue\",\"blue\",\"blue\",\"blue\",\"blue\",\"red\",\"red\",\"blue\",\"red\",\"red\",\"blue\",\"blue\",\"red\",\"red\",\"blue\",\"red\",\"red\",\"blue\",\"blue\",\"red\",\"red\",\"blue\",\"red\",\"red\",\"blue\"],\"opacity\":0.7,\"size\":8},\"mode\":\"markers\",\"showlegend\":false,\"text\":[\"absolutist\",\"adaptable\",\"abstract\",\"accommodating\",\"acerbic\",\"adventurous\",\"agreeable\",\"altruistic\",\"analytical\",\"animated\",\"anthropocentric\",\"anxious\",\"arrogant\",\"artistic\",\"ascetic\",\"assertive\",\"avoidant\",\"benevolent\",\"big_picture\",\"bitter\",\"blunt\",\"bombastic\",\"calculating\",\"callous\",\"calm\",\"casual\",\"cautious\",\"challenging\",\"chaotic\",\"charismatic\",\"chill\",\"circumspect\",\"closure_seeking\",\"collaborative\",\"collectivistic\",\"competitive\",\"conceptual\",\"conciliatory\",\"concise\",\"condescending\",\"confident\",\"confrontational\",\"conscientious\",\"constructivist\",\"contemporary\",\"contrarian\",\"convergent\",\"cosmopolitan\",\"creative\",\"critical\",\"cruel\",\"curious\",\"cynical\",\"data_driven\",\"decisive\",\"deconstructionist\",\"deontological\",\"descriptive\",\"deterministic\",\"diplomatic\",\"disorganized\",\"divergent\",\"dogmatic\",\"dominant\",\"dramatic\",\"earnest\",\"eclectic\",\"edgy\",\"educational\",\"efficient\",\"effusive\",\"elitist\",\"eloquent\",\"empathetic\",\"entertaining\",\"environmental\",\"epicurean\",\"erudite\",\"esoteric\",\"essentialist\",\"evil\",\"existentialist\",\"experiential\",\"exploratory\",\"extroverted\",\"factual\",\"fatalistic\",\"flexible\",\"flippant\",\"flirty\",\"forgiving\",\"formal\",\"formalist\",\"fundamentalist\",\"futuristic\",\"generalist\",\"generous\",\"goofy\",\"grandiose\",\"gregarious\",\"grounded\",\"hedonistic\",\"historical\",\"holistic\",\"humble\",\"iconoclastic\",\"idealistic\",\"impatient\",\"improvisational\",\"impulsive\",\"inclusive\",\"independent\",\"individualistic\",\"innovative\",\"inquisitive\",\"inspirational\",\"interdisciplinary\",\"introspective\",\"intuitive\",\"ironic\",\"irreverent\",\"judgmental\",\"libertarian\",\"literal\",\"manipulative\",\"materialist\",\"melancholic\",\"melodramatic\",\"mercurial\",\"metaphorical\",\"methodical\",\"meticulous\",\"militant\",\"misanthropic\",\"mischievous\",\"moderate\",\"mystical\",\"naive\",\"narrative\",\"neurotic\",\"nonchalant\",\"nostalgic\",\"nurturing\",\"obsessive\",\"open_ended\",\"optimistic\",\"pacifist\",\"paradoxical\",\"paranoid\",\"passionate\",\"passive_aggressive\",\"pedantic\",\"pensive\",\"perfectionist\",\"pessimistic\",\"philosophical\",\"playful\",\"pluralist\",\"poetic\",\"practical\",\"prescriptive\",\"principled\",\"proactive\",\"problem_solving\",\"progressive\",\"provocative\",\"radical\",\"rationalist\",\"reactive\",\"rebellious\",\"reductionist\",\"regulatory\",\"reserved\",\"resilient\",\"reverent\",\"rhetorical\",\"risk_taking\",\"ritualistic\",\"romantic\",\"sardonic\",\"sassy\",\"secular\",\"serene\",\"serious\",\"skeptical\",\"socratic\",\"solemn\",\"specialized\",\"speculative\",\"spiritual\",\"spontaneous\",\"stoic\",\"strategic\",\"stream_of_consciousness\",\"structuralist\",\"submissive\",\"subversive\",\"supportive\",\"sycophantic\",\"systems_thinker\",\"tactful\",\"technical\",\"temperamental\",\"theoretical\",\"traditional\",\"understated\",\"universalist\",\"urgent\",\"utilitarian\",\"verbose\",\"visceral\",\"whimsical\",\"witty\",\"wry\",\"zealous\"],\"x\":[0.039408777389437454,0.02423283824344667,-0.0868489083301963,0.04904940589041914,-0.10121336457269296,-0.016598048343377893,0.0901679177254442,-0.05168802615501574,0.023644112011151085,0.00989134781543583,0.04113415901132873,0.024457167231462972,-0.0009803566729238438,-0.10287427411865936,-0.05456877229139761,0.0008384932167170848,-0.030284837430045463,-0.011935666964673247,-0.07355867517596318,-0.046778948281821095,0.023893330956563524,0.10371260767706592,0.006030842565260477,-0.03581632630353089,0.01685848021423284,0.03316592245102203,-0.014474993837267063,0.06351185913773927,-0.012717089446345094,-0.009021817356225054,0.10956738855183738,-0.04147919787548647,0.0357339667771942,-0.025948209286587007,-0.044895745087164325,0.08184293827459352,-0.07325894103183433,-0.015282566668902967,0.020965697839868472,-0.07921288387618915,0.038100412352636906,-0.04561144760142452,-0.0042994345724881936,-0.05938797412291871,0.02212149134211373,0.028089412837447637,0.02478594497536291,-0.07381283780883013,-0.03960550681369931,0.014331749445133423,-0.10658858040853487,-0.03805450956052201,0.08746545266049997,0.08403581826136931,0.03516891343971273,0.020277407425671384,-0.01602543278753418,0.05981146306309993,0.086859827072597,0.006630304767351074,0.042479432958987436,-0.02120062023426249,0.02177191270836227,0.049396942119394306,0.05610458915303561,-0.10250785514181801,-0.07210173189519897,-0.04046232872091554,-0.01877948183034927,0.061869398135189,0.07156311399189969,0.039414404685834,0.0012842032814296316,-0.10640464841458118,-0.015771704828900984,-0.06074158218768285,-0.03148068516815203,0.008555488604285543,0.09732684012470928,0.0420673076841299,-0.05369549484047511,-0.05288813036583695,-0.0124181448306358,-0.0067431263794689375,0.05671374659419718,0.010337431737356033,0.0042859005667423965,0.06160901761264479,0.015686883692401423,0.09561182322445143,-0.037149203012024026,-0.05525250095261431,0.037929019281897396,0.10895368662101769,-0.06794320634045095,-0.01735085080211426,-0.010764264945166873,-0.002926225713269551,0.09521755158126899,0.02231740029812312,0.09641414312593215,0.05601814166606489,0.01269257701031986,-0.04925513652690233,-0.07051628130514076,0.04137195031568102,-0.07127030720748972,0.04601329858647651,0.004520817877249889,0.04044096404007179,-0.06841143595722256,-0.040024254738943395,0.04407411032713842,-0.043735089399363394,-0.014694166891992053,0.03825556008568453,-0.027332679214137973,-0.013404902232072888,-0.06430443911348195,-0.09711458164909498,-0.06858751006669063,-0.07624581138597435,0.008702828678248085,-0.017897912168399234,-0.04491702486055064,0.09024169341256855,0.049806378850299975,0.08346153082950986,0.04328914419992942,-0.011129007315595525,0.019414564933453542,-0.002139765975962517,0.034553702229459124,0.08617536679070646,-0.03665932414020574,-0.012589801712601047,-0.032741978278379866,-0.02715189135963233,-0.004446379116486523,0.003937680565495275,0.012804902907495173,-0.007780644857540483,0.11353747511708752,0.045791930177056496,-0.08066502059244957,-0.05118287320771822,-0.03205890710200238,-0.03486086123662568,0.004203029466317255,0.03701042158442503,-0.08617424479456577,0.04750197350788421,-0.11217337001106131,-0.011070456107323297,0.026306397803665137,-0.03213880893001655,-0.011087123505639793,-0.03503482815217888,0.08835916733525316,0.08265616434641444,0.07080884053177613,-0.0222061429740295,0.047301063626902735,0.06897365308135782,-0.045778409402149736,0.013709116973703866,-0.0508626751869342,0.10055129717088326,-0.015312436722271394,-0.02601734486259103,0.028569217496176014,0.0006976199246225539,-0.022445705190395744,0.044537816562200176,-0.05272337430839675,-0.03264588795492343,-0.019394167184527775,-0.014310905899427342,0.015918023432880804,-0.09703975579946825,-0.07543946058204702,0.03719830316056629,-0.04953602882343348,-0.013562149982988103,0.057354297158682115,-0.044600746761923174,-0.07266103418934758,0.052188043554778886,-0.03068208445940482,-0.04021229232816437,0.046247110473404136,0.06482875677982039,0.009874606644923959,0.023299684285794316,0.023508300767347477,-0.02587064904656036,-0.026417667699096703,0.10584193233507874,-0.03939954952519059,-0.04024343716940368,0.021968398910991827,0.06576148686327242,-0.0500250634347684,-0.036164651303129555,0.029699025206417252,-0.01047171320476113,-0.0016836249076110808,0.045207562208645025,0.032403297138679614,-0.013336613876055226,-0.06478539604008615,0.03269387208258014,-0.08063119495738129,-0.006591363303123207,0.07700281081420543],\"y\":[1,1,1,1,1,1,1,1,1,1,1,1,1,1,1,1,1,1,1,1,1,1,1,1,1,1,1,1,1,1,1,1,1,1,1,1,1,1,1,1,1,1,1,1,1,1,1,1,1,1,1,1,1,1,1,1,1,1,1,1,1,1,1,1,1,1,1,1,1,1,1,1,1,1,1,1,1,1,1,1,1,1,1,1,1,1,1,1,1,1,1,1,1,1,1,1,1,1,1,1,1,1,1,1,1,1,1,1,1,1,1,1,1,1,1,1,1,1,1,1,1,1,1,1,1,1,1,1,1,1,1,1,1,1,1,1,1,1,1,1,1,1,1,1,1,1,1,1,1,1,1,1,1,1,1,1,1,1,1,1,1,1,1,1,1,1,1,1,1,1,1,1,1,1,1,1,1,1,1,1,1,1,1,1,1,1,1,1,1,1,1,1,1,1,1,1,1,1,1,1,1,1,1,1,1,1,1,1,1,1,1,1,1,1,1],\"type\":\"scatter\",\"xaxis\":\"x\",\"yaxis\":\"y\"},{\"hovertemplate\":\"\\u003cb\\u003e%{text}\\u003c\\u002fb\\u003e\\u003cbr\\u003eCosine Similarity: %{x:.3f}\\u003cextra\\u003e\\u003c\\u002fextra\\u003e\",\"marker\":{\"color\":[\"red\",\"blue\",\"blue\",\"blue\",\"red\",\"blue\",\"blue\",\"red\",\"red\",\"red\",\"blue\",\"red\",\"blue\",\"blue\",\"red\",\"red\",\"blue\",\"red\",\"red\",\"blue\"],\"opacity\":0.9,\"size\":8},\"mode\":\"markers\",\"showlegend\":false,\"text\":[\"accessible\",\"cryptic\",\"detached\",\"dispassionate\",\"emotional\",\"enigmatic\",\"ethereal\",\"hostile\",\"humanistic\",\"introverted\",\"manic\",\"meditative\",\"nihilistic\",\"patient\",\"petty\",\"qualitative\",\"quantitative\",\"sarcastic\",\"savage\",\"theatrical\"],\"x\":[-0.11386768359143007,0.14298369819382806,0.15469095414922882,0.12948457838344357,-0.15160883245995965,0.15976410270333324,0.11858442860844527,-0.13334793524206692,-0.11891475562809065,-0.13540007399588233,0.13458834306643683,-0.21289276590720774,0.11785015413652974,0.15693892507782742,-0.13676982193279597,-0.12985698896924125,0.12830200863105834,-0.14285060039124733,-0.18269617249888773,0.14429034500972707],\"y\":[1,1,1,1,1,1,1,1,1,1,1,1,1,1,1,1,1,1,1,1],\"type\":\"scatter\",\"xaxis\":\"x\",\"yaxis\":\"y\"},{\"hoverinfo\":\"skip\",\"line\":{\"color\":\"red\",\"width\":1},\"mode\":\"lines\",\"showlegend\":false,\"x\":[-0.21289276590720774,-0.21289276590720774],\"y\":[1.0,1.6],\"type\":\"scatter\",\"xaxis\":\"x\",\"yaxis\":\"y\"},{\"hoverinfo\":\"skip\",\"line\":{\"color\":\"red\",\"width\":1},\"mode\":\"lines\",\"showlegend\":false,\"x\":[-0.18269617249888773,-0.18269617249888773],\"y\":[1.0,0.4],\"type\":\"scatter\",\"xaxis\":\"x\",\"yaxis\":\"y\"},{\"hoverinfo\":\"skip\",\"line\":{\"color\":\"red\",\"width\":1},\"mode\":\"lines\",\"showlegend\":false,\"x\":[-0.15160883245995965,-0.15160883245995965],\"y\":[1.0,1.45],\"type\":\"scatter\",\"xaxis\":\"x\",\"yaxis\":\"y\"},{\"hoverinfo\":\"skip\",\"line\":{\"color\":\"red\",\"width\":1},\"mode\":\"lines\",\"showlegend\":false,\"x\":[-0.14285060039124733,-0.14285060039124733],\"y\":[1.0,0.55],\"type\":\"scatter\",\"xaxis\":\"x\",\"yaxis\":\"y\"},{\"hoverinfo\":\"skip\",\"line\":{\"color\":\"red\",\"width\":1},\"mode\":\"lines\",\"showlegend\":false,\"x\":[-0.13676982193279597,-0.13676982193279597],\"y\":[1.0,1.55],\"type\":\"scatter\",\"xaxis\":\"x\",\"yaxis\":\"y\"},{\"hoverinfo\":\"skip\",\"line\":{\"color\":\"red\",\"width\":1},\"mode\":\"lines\",\"showlegend\":false,\"x\":[-0.13540007399588233,-0.13540007399588233],\"y\":[1.0,0.45],\"type\":\"scatter\",\"xaxis\":\"x\",\"yaxis\":\"y\"},{\"hoverinfo\":\"skip\",\"line\":{\"color\":\"red\",\"width\":1},\"mode\":\"lines\",\"showlegend\":false,\"x\":[-0.13334793524206692,-0.13334793524206692],\"y\":[1.0,1.35],\"type\":\"scatter\",\"xaxis\":\"x\",\"yaxis\":\"y\"},{\"hoverinfo\":\"skip\",\"line\":{\"color\":\"red\",\"width\":1},\"mode\":\"lines\",\"showlegend\":false,\"x\":[-0.12985698896924125,-0.12985698896924125],\"y\":[1.0,0.65],\"type\":\"scatter\",\"xaxis\":\"x\",\"yaxis\":\"y\"},{\"hoverinfo\":\"skip\",\"line\":{\"color\":\"red\",\"width\":1},\"mode\":\"lines\",\"showlegend\":false,\"x\":[-0.11891475562809065,-0.11891475562809065],\"y\":[1.0,1.5],\"type\":\"scatter\",\"xaxis\":\"x\",\"yaxis\":\"y\"},{\"hoverinfo\":\"skip\",\"line\":{\"color\":\"red\",\"width\":1},\"mode\":\"lines\",\"showlegend\":false,\"x\":[-0.11386768359143007,-0.11386768359143007],\"y\":[1.0,0.5],\"type\":\"scatter\",\"xaxis\":\"x\",\"yaxis\":\"y\"},{\"hoverinfo\":\"skip\",\"line\":{\"color\":\"blue\",\"width\":1},\"mode\":\"lines\",\"showlegend\":false,\"x\":[0.11785015413652974,0.11785015413652974],\"y\":[1.0,1.4],\"type\":\"scatter\",\"xaxis\":\"x\",\"yaxis\":\"y\"},{\"hoverinfo\":\"skip\",\"line\":{\"color\":\"blue\",\"width\":1},\"mode\":\"lines\",\"showlegend\":false,\"x\":[0.11858442860844527,0.11858442860844527],\"y\":[1.0,0.6],\"type\":\"scatter\",\"xaxis\":\"x\",\"yaxis\":\"y\"},{\"hoverinfo\":\"skip\",\"line\":{\"color\":\"blue\",\"width\":1},\"mode\":\"lines\",\"showlegend\":false,\"x\":[0.12830200863105834,0.12830200863105834],\"y\":[1.0,1.65],\"type\":\"scatter\",\"xaxis\":\"x\",\"yaxis\":\"y\"},{\"hoverinfo\":\"skip\",\"line\":{\"color\":\"blue\",\"width\":1},\"mode\":\"lines\",\"showlegend\":false,\"x\":[0.12948457838344357,0.12948457838344357],\"y\":[1.0,0.35],\"type\":\"scatter\",\"xaxis\":\"x\",\"yaxis\":\"y\"},{\"hoverinfo\":\"skip\",\"line\":{\"color\":\"blue\",\"width\":1},\"mode\":\"lines\",\"showlegend\":false,\"x\":[0.13458834306643683,0.13458834306643683],\"y\":[1.0,1.3],\"type\":\"scatter\",\"xaxis\":\"x\",\"yaxis\":\"y\"},{\"hoverinfo\":\"skip\",\"line\":{\"color\":\"blue\",\"width\":1},\"mode\":\"lines\",\"showlegend\":false,\"x\":[0.14298369819382806,0.14298369819382806],\"y\":[1.0,0.7],\"type\":\"scatter\",\"xaxis\":\"x\",\"yaxis\":\"y\"},{\"hoverinfo\":\"skip\",\"line\":{\"color\":\"blue\",\"width\":1},\"mode\":\"lines\",\"showlegend\":false,\"x\":[0.14429034500972707,0.14429034500972707],\"y\":[1.0,1.58],\"type\":\"scatter\",\"xaxis\":\"x\",\"yaxis\":\"y\"},{\"hoverinfo\":\"skip\",\"line\":{\"color\":\"blue\",\"width\":1},\"mode\":\"lines\",\"showlegend\":false,\"x\":[0.15469095414922882,0.15469095414922882],\"y\":[1.0,0.42],\"type\":\"scatter\",\"xaxis\":\"x\",\"yaxis\":\"y\"},{\"hoverinfo\":\"skip\",\"line\":{\"color\":\"blue\",\"width\":1},\"mode\":\"lines\",\"showlegend\":false,\"x\":[0.15693892507782742,0.15693892507782742],\"y\":[1.0,1.42],\"type\":\"scatter\",\"xaxis\":\"x\",\"yaxis\":\"y\"},{\"hoverinfo\":\"skip\",\"line\":{\"color\":\"blue\",\"width\":1},\"mode\":\"lines\",\"showlegend\":false,\"x\":[0.15976410270333324,0.15976410270333324],\"y\":[1.0,0.58],\"type\":\"scatter\",\"xaxis\":\"x\",\"yaxis\":\"y\"},{\"marker\":{\"color\":\"steelblue\"},\"nbinsx\":30,\"opacity\":0.7,\"showlegend\":false,\"x\":[0.039408777389437454,0.02423283824344667,-0.0868489083301963,-0.11386768359143007,0.04904940589041914,-0.10121336457269296,-0.016598048343377893,0.0901679177254442,-0.05168802615501574,0.023644112011151085,0.00989134781543583,0.04113415901132873,0.024457167231462972,-0.0009803566729238438,-0.10287427411865936,-0.05456877229139761,0.0008384932167170848,-0.030284837430045463,-0.011935666964673247,-0.07355867517596318,-0.046778948281821095,0.023893330956563524,0.10371260767706592,0.006030842565260477,-0.03581632630353089,0.01685848021423284,0.03316592245102203,-0.014474993837267063,0.06351185913773927,-0.012717089446345094,-0.009021817356225054,0.10956738855183738,-0.04147919787548647,0.0357339667771942,-0.025948209286587007,-0.044895745087164325,0.08184293827459352,-0.07325894103183433,-0.015282566668902967,0.020965697839868472,-0.07921288387618915,0.038100412352636906,-0.04561144760142452,-0.0042994345724881936,-0.05938797412291871,0.02212149134211373,0.028089412837447637,0.02478594497536291,-0.07381283780883013,-0.03960550681369931,0.014331749445133423,-0.10658858040853487,0.14298369819382806,-0.03805450956052201,0.08746545266049997,0.08403581826136931,0.03516891343971273,0.020277407425671384,-0.01602543278753418,0.05981146306309993,0.15469095414922882,0.086859827072597,0.006630304767351074,0.042479432958987436,0.12948457838344357,-0.02120062023426249,0.02177191270836227,0.049396942119394306,0.05610458915303561,-0.10250785514181801,-0.07210173189519897,-0.04046232872091554,-0.01877948183034927,0.061869398135189,0.07156311399189969,0.039414404685834,0.0012842032814296316,-0.15160883245995965,-0.10640464841458118,0.15976410270333324,-0.015771704828900984,-0.06074158218768285,-0.03148068516815203,0.008555488604285543,0.09732684012470928,0.0420673076841299,0.11858442860844527,-0.05369549484047511,-0.05288813036583695,-0.0124181448306358,-0.0067431263794689375,0.05671374659419718,0.010337431737356033,0.0042859005667423965,0.06160901761264479,0.015686883692401423,0.09561182322445143,-0.037149203012024026,-0.05525250095261431,0.037929019281897396,0.10895368662101769,-0.06794320634045095,-0.01735085080211426,-0.010764264945166873,-0.002926225713269551,0.09521755158126899,0.02231740029812312,0.09641414312593215,0.05601814166606489,0.01269257701031986,-0.04925513652690233,-0.13334793524206692,-0.11891475562809065,-0.07051628130514076,0.04137195031568102,-0.07127030720748972,0.04601329858647651,0.004520817877249889,0.04044096404007179,-0.06841143595722256,-0.040024254738943395,0.04407411032713842,-0.043735089399363394,-0.014694166891992053,0.03825556008568453,-0.027332679214137973,-0.013404902232072888,-0.13540007399588233,-0.06430443911348195,-0.09711458164909498,-0.06858751006669063,-0.07624581138597435,0.008702828678248085,-0.017897912168399234,0.13458834306643683,-0.04491702486055064,0.09024169341256855,-0.21289276590720774,0.049806378850299975,0.08346153082950986,0.04328914419992942,-0.011129007315595525,0.019414564933453542,-0.002139765975962517,0.034553702229459124,0.08617536679070646,-0.03665932414020574,-0.012589801712601047,-0.032741978278379866,-0.02715189135963233,-0.004446379116486523,0.003937680565495275,0.11785015413652974,0.012804902907495173,-0.007780644857540483,0.11353747511708752,0.045791930177056496,-0.08066502059244957,-0.05118287320771822,-0.03205890710200238,-0.03486086123662568,0.004203029466317255,0.03701042158442503,-0.08617424479456577,0.15693892507782742,0.04750197350788421,-0.11217337001106131,-0.011070456107323297,0.026306397803665137,-0.13676982193279597,-0.03213880893001655,-0.011087123505639793,-0.03503482815217888,0.08835916733525316,0.08265616434641444,0.07080884053177613,-0.0222061429740295,0.047301063626902735,0.06897365308135782,-0.045778409402149736,0.013709116973703866,-0.12985698896924125,0.12830200863105834,-0.0508626751869342,0.10055129717088326,-0.015312436722271394,-0.02601734486259103,0.028569217496176014,0.0006976199246225539,-0.022445705190395744,0.044537816562200176,-0.05272337430839675,-0.03264588795492343,-0.019394167184527775,-0.014310905899427342,0.015918023432880804,-0.14285060039124733,-0.09703975579946825,-0.07543946058204702,-0.18269617249888773,0.03719830316056629,-0.04953602882343348,-0.013562149982988103,0.057354297158682115,-0.044600746761923174,-0.07266103418934758,0.052188043554778886,-0.03068208445940482,-0.04021229232816437,0.046247110473404136,0.06482875677982039,0.009874606644923959,0.023299684285794316,0.023508300767347477,-0.02587064904656036,-0.026417667699096703,0.10584193233507874,-0.03939954952519059,-0.04024343716940368,0.021968398910991827,0.06576148686327242,-0.0500250634347684,0.14429034500972707,-0.036164651303129555,0.029699025206417252,-0.01047171320476113,-0.0016836249076110808,0.045207562208645025,0.032403297138679614,-0.013336613876055226,-0.06478539604008615,0.03269387208258014,-0.08063119495738129,-0.006591363303123207,0.07700281081420543],\"type\":\"histogram\",\"xaxis\":\"x2\",\"yaxis\":\"y2\"}],                        {\"template\":{\"data\":{\"histogram2dcontour\":[{\"type\":\"histogram2dcontour\",\"colorbar\":{\"outlinewidth\":0,\"ticks\":\"\"},\"colorscale\":[[0.0,\"#0d0887\"],[0.1111111111111111,\"#46039f\"],[0.2222222222222222,\"#7201a8\"],[0.3333333333333333,\"#9c179e\"],[0.4444444444444444,\"#bd3786\"],[0.5555555555555556,\"#d8576b\"],[0.6666666666666666,\"#ed7953\"],[0.7777777777777778,\"#fb9f3a\"],[0.8888888888888888,\"#fdca26\"],[1.0,\"#f0f921\"]]}],\"choropleth\":[{\"type\":\"choropleth\",\"colorbar\":{\"outlinewidth\":0,\"ticks\":\"\"}}],\"histogram2d\":[{\"type\":\"histogram2d\",\"colorbar\":{\"outlinewidth\":0,\"ticks\":\"\"},\"colorscale\":[[0.0,\"#0d0887\"],[0.1111111111111111,\"#46039f\"],[0.2222222222222222,\"#7201a8\"],[0.3333333333333333,\"#9c179e\"],[0.4444444444444444,\"#bd3786\"],[0.5555555555555556,\"#d8576b\"],[0.6666666666666666,\"#ed7953\"],[0.7777777777777778,\"#fb9f3a\"],[0.8888888888888888,\"#fdca26\"],[1.0,\"#f0f921\"]]}],\"heatmap\":[{\"type\":\"heatmap\",\"colorbar\":{\"outlinewidth\":0,\"ticks\":\"\"},\"colorscale\":[[0.0,\"#0d0887\"],[0.1111111111111111,\"#46039f\"],[0.2222222222222222,\"#7201a8\"],[0.3333333333333333,\"#9c179e\"],[0.4444444444444444,\"#bd3786\"],[0.5555555555555556,\"#d8576b\"],[0.6666666666666666,\"#ed7953\"],[0.7777777777777778,\"#fb9f3a\"],[0.8888888888888888,\"#fdca26\"],[1.0,\"#f0f921\"]]}],\"heatmapgl\":[{\"type\":\"heatmapgl\",\"colorbar\":{\"outlinewidth\":0,\"ticks\":\"\"},\"colorscale\":[[0.0,\"#0d0887\"],[0.1111111111111111,\"#46039f\"],[0.2222222222222222,\"#7201a8\"],[0.3333333333333333,\"#9c179e\"],[0.4444444444444444,\"#bd3786\"],[0.5555555555555556,\"#d8576b\"],[0.6666666666666666,\"#ed7953\"],[0.7777777777777778,\"#fb9f3a\"],[0.8888888888888888,\"#fdca26\"],[1.0,\"#f0f921\"]]}],\"contourcarpet\":[{\"type\":\"contourcarpet\",\"colorbar\":{\"outlinewidth\":0,\"ticks\":\"\"}}],\"contour\":[{\"type\":\"contour\",\"colorbar\":{\"outlinewidth\":0,\"ticks\":\"\"},\"colorscale\":[[0.0,\"#0d0887\"],[0.1111111111111111,\"#46039f\"],[0.2222222222222222,\"#7201a8\"],[0.3333333333333333,\"#9c179e\"],[0.4444444444444444,\"#bd3786\"],[0.5555555555555556,\"#d8576b\"],[0.6666666666666666,\"#ed7953\"],[0.7777777777777778,\"#fb9f3a\"],[0.8888888888888888,\"#fdca26\"],[1.0,\"#f0f921\"]]}],\"surface\":[{\"type\":\"surface\",\"colorbar\":{\"outlinewidth\":0,\"ticks\":\"\"},\"colorscale\":[[0.0,\"#0d0887\"],[0.1111111111111111,\"#46039f\"],[0.2222222222222222,\"#7201a8\"],[0.3333333333333333,\"#9c179e\"],[0.4444444444444444,\"#bd3786\"],[0.5555555555555556,\"#d8576b\"],[0.6666666666666666,\"#ed7953\"],[0.7777777777777778,\"#fb9f3a\"],[0.8888888888888888,\"#fdca26\"],[1.0,\"#f0f921\"]]}],\"mesh3d\":[{\"type\":\"mesh3d\",\"colorbar\":{\"outlinewidth\":0,\"ticks\":\"\"}}],\"scatter\":[{\"fillpattern\":{\"fillmode\":\"overlay\",\"size\":10,\"solidity\":0.2},\"type\":\"scatter\"}],\"parcoords\":[{\"type\":\"parcoords\",\"line\":{\"colorbar\":{\"outlinewidth\":0,\"ticks\":\"\"}}}],\"scatterpolargl\":[{\"type\":\"scatterpolargl\",\"marker\":{\"colorbar\":{\"outlinewidth\":0,\"ticks\":\"\"}}}],\"bar\":[{\"error_x\":{\"color\":\"#2a3f5f\"},\"error_y\":{\"color\":\"#2a3f5f\"},\"marker\":{\"line\":{\"color\":\"#E5ECF6\",\"width\":0.5},\"pattern\":{\"fillmode\":\"overlay\",\"size\":10,\"solidity\":0.2}},\"type\":\"bar\"}],\"scattergeo\":[{\"type\":\"scattergeo\",\"marker\":{\"colorbar\":{\"outlinewidth\":0,\"ticks\":\"\"}}}],\"scatterpolar\":[{\"type\":\"scatterpolar\",\"marker\":{\"colorbar\":{\"outlinewidth\":0,\"ticks\":\"\"}}}],\"histogram\":[{\"marker\":{\"pattern\":{\"fillmode\":\"overlay\",\"size\":10,\"solidity\":0.2}},\"type\":\"histogram\"}],\"scattergl\":[{\"type\":\"scattergl\",\"marker\":{\"colorbar\":{\"outlinewidth\":0,\"ticks\":\"\"}}}],\"scatter3d\":[{\"type\":\"scatter3d\",\"line\":{\"colorbar\":{\"outlinewidth\":0,\"ticks\":\"\"}},\"marker\":{\"colorbar\":{\"outlinewidth\":0,\"ticks\":\"\"}}}],\"scattermapbox\":[{\"type\":\"scattermapbox\",\"marker\":{\"colorbar\":{\"outlinewidth\":0,\"ticks\":\"\"}}}],\"scatterternary\":[{\"type\":\"scatterternary\",\"marker\":{\"colorbar\":{\"outlinewidth\":0,\"ticks\":\"\"}}}],\"scattercarpet\":[{\"type\":\"scattercarpet\",\"marker\":{\"colorbar\":{\"outlinewidth\":0,\"ticks\":\"\"}}}],\"carpet\":[{\"aaxis\":{\"endlinecolor\":\"#2a3f5f\",\"gridcolor\":\"white\",\"linecolor\":\"white\",\"minorgridcolor\":\"white\",\"startlinecolor\":\"#2a3f5f\"},\"baxis\":{\"endlinecolor\":\"#2a3f5f\",\"gridcolor\":\"white\",\"linecolor\":\"white\",\"minorgridcolor\":\"white\",\"startlinecolor\":\"#2a3f5f\"},\"type\":\"carpet\"}],\"table\":[{\"cells\":{\"fill\":{\"color\":\"#EBF0F8\"},\"line\":{\"color\":\"white\"}},\"header\":{\"fill\":{\"color\":\"#C8D4E3\"},\"line\":{\"color\":\"white\"}},\"type\":\"table\"}],\"barpolar\":[{\"marker\":{\"line\":{\"color\":\"#E5ECF6\",\"width\":0.5},\"pattern\":{\"fillmode\":\"overlay\",\"size\":10,\"solidity\":0.2}},\"type\":\"barpolar\"}],\"pie\":[{\"automargin\":true,\"type\":\"pie\"}]},\"layout\":{\"autotypenumbers\":\"strict\",\"colorway\":[\"#636efa\",\"#EF553B\",\"#00cc96\",\"#ab63fa\",\"#FFA15A\",\"#19d3f3\",\"#FF6692\",\"#B6E880\",\"#FF97FF\",\"#FECB52\"],\"font\":{\"color\":\"#2a3f5f\"},\"hovermode\":\"closest\",\"hoverlabel\":{\"align\":\"left\"},\"paper_bgcolor\":\"white\",\"plot_bgcolor\":\"#E5ECF6\",\"polar\":{\"bgcolor\":\"#E5ECF6\",\"angularaxis\":{\"gridcolor\":\"white\",\"linecolor\":\"white\",\"ticks\":\"\"},\"radialaxis\":{\"gridcolor\":\"white\",\"linecolor\":\"white\",\"ticks\":\"\"}},\"ternary\":{\"bgcolor\":\"#E5ECF6\",\"aaxis\":{\"gridcolor\":\"white\",\"linecolor\":\"white\",\"ticks\":\"\"},\"baxis\":{\"gridcolor\":\"white\",\"linecolor\":\"white\",\"ticks\":\"\"},\"caxis\":{\"gridcolor\":\"white\",\"linecolor\":\"white\",\"ticks\":\"\"}},\"coloraxis\":{\"colorbar\":{\"outlinewidth\":0,\"ticks\":\"\"}},\"colorscale\":{\"sequential\":[[0.0,\"#0d0887\"],[0.1111111111111111,\"#46039f\"],[0.2222222222222222,\"#7201a8\"],[0.3333333333333333,\"#9c179e\"],[0.4444444444444444,\"#bd3786\"],[0.5555555555555556,\"#d8576b\"],[0.6666666666666666,\"#ed7953\"],[0.7777777777777778,\"#fb9f3a\"],[0.8888888888888888,\"#fdca26\"],[1.0,\"#f0f921\"]],\"sequentialminus\":[[0.0,\"#0d0887\"],[0.1111111111111111,\"#46039f\"],[0.2222222222222222,\"#7201a8\"],[0.3333333333333333,\"#9c179e\"],[0.4444444444444444,\"#bd3786\"],[0.5555555555555556,\"#d8576b\"],[0.6666666666666666,\"#ed7953\"],[0.7777777777777778,\"#fb9f3a\"],[0.8888888888888888,\"#fdca26\"],[1.0,\"#f0f921\"]],\"diverging\":[[0,\"#8e0152\"],[0.1,\"#c51b7d\"],[0.2,\"#de77ae\"],[0.3,\"#f1b6da\"],[0.4,\"#fde0ef\"],[0.5,\"#f7f7f7\"],[0.6,\"#e6f5d0\"],[0.7,\"#b8e186\"],[0.8,\"#7fbc41\"],[0.9,\"#4d9221\"],[1,\"#276419\"]]},\"xaxis\":{\"gridcolor\":\"white\",\"linecolor\":\"white\",\"ticks\":\"\",\"title\":{\"standoff\":15},\"zerolinecolor\":\"white\",\"automargin\":true,\"zerolinewidth\":2},\"yaxis\":{\"gridcolor\":\"white\",\"linecolor\":\"white\",\"ticks\":\"\",\"title\":{\"standoff\":15},\"zerolinecolor\":\"white\",\"automargin\":true,\"zerolinewidth\":2},\"scene\":{\"xaxis\":{\"backgroundcolor\":\"#E5ECF6\",\"gridcolor\":\"white\",\"linecolor\":\"white\",\"showbackground\":true,\"ticks\":\"\",\"zerolinecolor\":\"white\",\"gridwidth\":2},\"yaxis\":{\"backgroundcolor\":\"#E5ECF6\",\"gridcolor\":\"white\",\"linecolor\":\"white\",\"showbackground\":true,\"ticks\":\"\",\"zerolinecolor\":\"white\",\"gridwidth\":2},\"zaxis\":{\"backgroundcolor\":\"#E5ECF6\",\"gridcolor\":\"white\",\"linecolor\":\"white\",\"showbackground\":true,\"ticks\":\"\",\"zerolinecolor\":\"white\",\"gridwidth\":2}},\"shapedefaults\":{\"line\":{\"color\":\"#2a3f5f\"}},\"annotationdefaults\":{\"arrowcolor\":\"#2a3f5f\",\"arrowhead\":0,\"arrowwidth\":1},\"geo\":{\"bgcolor\":\"white\",\"landcolor\":\"#E5ECF6\",\"subunitcolor\":\"white\",\"showland\":true,\"showlakes\":true,\"lakecolor\":\"white\"},\"title\":{\"x\":0.05},\"mapbox\":{\"style\":\"light\"}}},\"xaxis\":{\"anchor\":\"y\",\"domain\":[0.0,1.0],\"range\":[-0.23418204249792854,0.23418204249792854]},\"yaxis\":{\"anchor\":\"x\",\"domain\":[0.4600000000000001,1.0],\"title\":{\"text\":\"\"},\"showticklabels\":false,\"range\":[0.25,1.75]},\"xaxis2\":{\"anchor\":\"y2\",\"domain\":[0.0,1.0],\"title\":{\"text\":\"PC10 Cosine Similarity\"},\"range\":[-0.23418204249792854,0.23418204249792854]},\"yaxis2\":{\"anchor\":\"x2\",\"domain\":[0.0,0.36000000000000004],\"title\":{\"text\":\"Frequency\"}},\"annotations\":[{\"font\":{\"size\":16},\"showarrow\":false,\"text\":\"PC10 Cosine Similarity\",\"x\":0.5,\"xanchor\":\"center\",\"xref\":\"paper\",\"y\":1.0,\"yanchor\":\"bottom\",\"yref\":\"paper\"},{\"font\":{\"size\":16},\"showarrow\":false,\"text\":\"Trait Frequency Distribution\",\"x\":0.5,\"xanchor\":\"center\",\"xref\":\"paper\",\"y\":0.36000000000000004,\"yanchor\":\"bottom\",\"yref\":\"paper\"},{\"bgcolor\":\"rgba(255, 255, 255, 0.9)\",\"bordercolor\":\"red\",\"borderwidth\":1,\"font\":{\"color\":\"red\",\"size\":10},\"showarrow\":false,\"text\":\"meditative\",\"x\":-0.21289276590720774,\"xref\":\"x\",\"y\":1.6,\"yref\":\"y\"},{\"bgcolor\":\"rgba(255, 255, 255, 0.9)\",\"bordercolor\":\"red\",\"borderwidth\":1,\"font\":{\"color\":\"red\",\"size\":10},\"showarrow\":false,\"text\":\"savage\",\"x\":-0.18269617249888773,\"xref\":\"x\",\"y\":0.4,\"yref\":\"y\"},{\"bgcolor\":\"rgba(255, 255, 255, 0.9)\",\"bordercolor\":\"red\",\"borderwidth\":1,\"font\":{\"color\":\"red\",\"size\":10},\"showarrow\":false,\"text\":\"emotional\",\"x\":-0.15160883245995965,\"xref\":\"x\",\"y\":1.45,\"yref\":\"y\"},{\"bgcolor\":\"rgba(255, 255, 255, 0.9)\",\"bordercolor\":\"red\",\"borderwidth\":1,\"font\":{\"color\":\"red\",\"size\":10},\"showarrow\":false,\"text\":\"sarcastic\",\"x\":-0.14285060039124733,\"xref\":\"x\",\"y\":0.55,\"yref\":\"y\"},{\"bgcolor\":\"rgba(255, 255, 255, 0.9)\",\"bordercolor\":\"red\",\"borderwidth\":1,\"font\":{\"color\":\"red\",\"size\":10},\"showarrow\":false,\"text\":\"petty\",\"x\":-0.13676982193279597,\"xref\":\"x\",\"y\":1.55,\"yref\":\"y\"},{\"bgcolor\":\"rgba(255, 255, 255, 0.9)\",\"bordercolor\":\"red\",\"borderwidth\":1,\"font\":{\"color\":\"red\",\"size\":10},\"showarrow\":false,\"text\":\"introverted\",\"x\":-0.13540007399588233,\"xref\":\"x\",\"y\":0.45,\"yref\":\"y\"},{\"bgcolor\":\"rgba(255, 255, 255, 0.9)\",\"bordercolor\":\"red\",\"borderwidth\":1,\"font\":{\"color\":\"red\",\"size\":10},\"showarrow\":false,\"text\":\"hostile\",\"x\":-0.13334793524206692,\"xref\":\"x\",\"y\":1.35,\"yref\":\"y\"},{\"bgcolor\":\"rgba(255, 255, 255, 0.9)\",\"bordercolor\":\"red\",\"borderwidth\":1,\"font\":{\"color\":\"red\",\"size\":10},\"showarrow\":false,\"text\":\"qualitative\",\"x\":-0.12985698896924125,\"xref\":\"x\",\"y\":0.65,\"yref\":\"y\"},{\"bgcolor\":\"rgba(255, 255, 255, 0.9)\",\"bordercolor\":\"red\",\"borderwidth\":1,\"font\":{\"color\":\"red\",\"size\":10},\"showarrow\":false,\"text\":\"humanistic\",\"x\":-0.11891475562809065,\"xref\":\"x\",\"y\":1.5,\"yref\":\"y\"},{\"bgcolor\":\"rgba(255, 255, 255, 0.9)\",\"bordercolor\":\"red\",\"borderwidth\":1,\"font\":{\"color\":\"red\",\"size\":10},\"showarrow\":false,\"text\":\"accessible\",\"x\":-0.11386768359143007,\"xref\":\"x\",\"y\":0.5,\"yref\":\"y\"},{\"bgcolor\":\"rgba(255, 255, 255, 0.9)\",\"bordercolor\":\"blue\",\"borderwidth\":1,\"font\":{\"color\":\"blue\",\"size\":10},\"showarrow\":false,\"text\":\"nihilistic\",\"x\":0.11785015413652974,\"xref\":\"x\",\"y\":1.4,\"yref\":\"y\"},{\"bgcolor\":\"rgba(255, 255, 255, 0.9)\",\"bordercolor\":\"blue\",\"borderwidth\":1,\"font\":{\"color\":\"blue\",\"size\":10},\"showarrow\":false,\"text\":\"ethereal\",\"x\":0.11858442860844527,\"xref\":\"x\",\"y\":0.6,\"yref\":\"y\"},{\"bgcolor\":\"rgba(255, 255, 255, 0.9)\",\"bordercolor\":\"blue\",\"borderwidth\":1,\"font\":{\"color\":\"blue\",\"size\":10},\"showarrow\":false,\"text\":\"quantitative\",\"x\":0.12830200863105834,\"xref\":\"x\",\"y\":1.65,\"yref\":\"y\"},{\"bgcolor\":\"rgba(255, 255, 255, 0.9)\",\"bordercolor\":\"blue\",\"borderwidth\":1,\"font\":{\"color\":\"blue\",\"size\":10},\"showarrow\":false,\"text\":\"dispassionate\",\"x\":0.12948457838344357,\"xref\":\"x\",\"y\":0.35,\"yref\":\"y\"},{\"bgcolor\":\"rgba(255, 255, 255, 0.9)\",\"bordercolor\":\"blue\",\"borderwidth\":1,\"font\":{\"color\":\"blue\",\"size\":10},\"showarrow\":false,\"text\":\"manic\",\"x\":0.13458834306643683,\"xref\":\"x\",\"y\":1.3,\"yref\":\"y\"},{\"bgcolor\":\"rgba(255, 255, 255, 0.9)\",\"bordercolor\":\"blue\",\"borderwidth\":1,\"font\":{\"color\":\"blue\",\"size\":10},\"showarrow\":false,\"text\":\"cryptic\",\"x\":0.14298369819382806,\"xref\":\"x\",\"y\":0.7,\"yref\":\"y\"},{\"bgcolor\":\"rgba(255, 255, 255, 0.9)\",\"bordercolor\":\"blue\",\"borderwidth\":1,\"font\":{\"color\":\"blue\",\"size\":10},\"showarrow\":false,\"text\":\"theatrical\",\"x\":0.14429034500972707,\"xref\":\"x\",\"y\":1.58,\"yref\":\"y\"},{\"bgcolor\":\"rgba(255, 255, 255, 0.9)\",\"bordercolor\":\"blue\",\"borderwidth\":1,\"font\":{\"color\":\"blue\",\"size\":10},\"showarrow\":false,\"text\":\"detached\",\"x\":0.15469095414922882,\"xref\":\"x\",\"y\":0.42,\"yref\":\"y\"},{\"bgcolor\":\"rgba(255, 255, 255, 0.9)\",\"bordercolor\":\"blue\",\"borderwidth\":1,\"font\":{\"color\":\"blue\",\"size\":10},\"showarrow\":false,\"text\":\"patient\",\"x\":0.15693892507782742,\"xref\":\"x\",\"y\":1.42,\"yref\":\"y\"},{\"bgcolor\":\"rgba(255, 255, 255, 0.9)\",\"bordercolor\":\"blue\",\"borderwidth\":1,\"font\":{\"color\":\"blue\",\"size\":10},\"showarrow\":false,\"text\":\"enigmatic\",\"x\":0.15976410270333324,\"xref\":\"x\",\"y\":0.58,\"yref\":\"y\"}],\"shapes\":[{\"line\":{\"color\":\"gray\",\"dash\":\"solid\",\"width\":1},\"opacity\":0.7,\"type\":\"line\",\"x0\":0,\"x1\":0,\"xref\":\"x\",\"y0\":0,\"y1\":1,\"yref\":\"y domain\"}],\"title\":{\"subtitle\":{\"text\":\"Gemma 2 27B, Layer 34\"},\"font\":{\"size\":16},\"text\":\"PCA on Trait Vectors from Mean Response Activations\",\"x\":0.5},\"height\":700,\"showlegend\":false},                        {\"responsive\": true}                    ).then(function(){\n",
       "                            \n",
       "var gd = document.getElementById('d76a31e9-d87b-4be0-b6ae-00d1566b6473');\n",
       "var x = new MutationObserver(function (mutations, observer) {{\n",
       "        var display = window.getComputedStyle(gd).display;\n",
       "        if (!display || display === 'none') {{\n",
       "            console.log([gd, 'removed!']);\n",
       "            Plotly.purge(gd);\n",
       "            observer.disconnect();\n",
       "        }}\n",
       "}});\n",
       "\n",
       "// Listen for the removal of the full notebook cells\n",
       "var notebookContainer = gd.closest('#notebook-container');\n",
       "if (notebookContainer) {{\n",
       "    x.observe(notebookContainer, {childList: true});\n",
       "}}\n",
       "\n",
       "// Listen for the clearing of the current output cell\n",
       "var outputEl = gd.closest('.output');\n",
       "if (outputEl) {{\n",
       "    x.observe(outputEl, {childList: true});\n",
       "}}\n",
       "\n",
       "                        })                };                });            </script>        </div>"
      ]
     },
     "metadata": {},
     "output_type": "display_data"
    }
   ],
   "source": [
    "component = 9\n",
    "fig = plot_pca_cosine_similarity(\n",
    "        pca_transformed=pca_transformed,\n",
    "        trait_labels=filtered_pos_neg_50_traits,\n",
    "        pc_component=component,\n",
    "        layer=layer,\n",
    "        color_threshold=0.0  # Adjust this threshold as needed\n",
    "    )\n",
    "fig.show()\n",
    "fig.write_html(f\"./results/pc{component+1}.html\")"
   ]
  },
  {
   "cell_type": "markdown",
   "id": "2b44c2ae",
   "metadata": {},
   "source": [
    "### pos_default"
   ]
  },
  {
   "cell_type": "code",
   "execution_count": 43,
   "id": "e6dc710c",
   "metadata": {},
   "outputs": [
    {
     "name": "stdout",
     "output_type": "stream",
     "text": [
      "torch.Size([240, 46, 4608])\n"
     ]
    }
   ],
   "source": [
    "# PCA on all of pos_default ... or some other clustering algorithm?\n",
    "\n",
    "pos_default = torch.stack(pos_default).float()\n",
    "print(pos_default.shape)"
   ]
  },
  {
   "cell_type": "code",
   "execution_count": 44,
   "id": "efda8353",
   "metadata": {},
   "outputs": [
    {
     "name": "stdout",
     "output_type": "stream",
     "text": [
      "PCA fitted with 240 components\n",
      "Cumulative variance for first 5 components: [0.14114245 0.23283618 0.29676924 0.34340508 0.3846963 ]\n",
      "\n",
      "PCA Analysis Results:\n",
      "Elbow point at component: 2\n",
      "Dimensions for 70% variance: 24\n",
      "Dimensions for 80% variance: 42\n",
      "Dimensions for 90% variance: 76\n",
      "Dimensions for 95% variance: 111\n"
     ]
    }
   ],
   "source": [
    "pca_transformed, variance_explained, n_components = compute_pca(pos_default, layer)"
   ]
  }
 ],
 "metadata": {
  "kernelspec": {
   "display_name": ".venv",
   "language": "python",
   "name": "python3"
  },
  "language_info": {
   "codemirror_mode": {
    "name": "ipython",
    "version": 3
   },
   "file_extension": ".py",
   "mimetype": "text/x-python",
   "name": "python",
   "nbconvert_exporter": "python",
   "pygments_lexer": "ipython3",
   "version": "3.13.5"
  }
 },
 "nbformat": 4,
 "nbformat_minor": 5
}
