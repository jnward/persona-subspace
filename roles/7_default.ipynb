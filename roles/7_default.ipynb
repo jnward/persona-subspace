{
 "cells": [
  {
   "cell_type": "markdown",
   "id": "c654d99f",
   "metadata": {},
   "source": [
    "# Analyze default activation"
   ]
  },
  {
   "cell_type": "code",
   "execution_count": null,
   "id": "8e8d5658",
   "metadata": {
    "vscode": {
     "languageId": "plaintext"
    }
   },
   "outputs": [],
   "source": []
  }
 ],
 "metadata": {
  "language_info": {
   "name": "python"
  }
 },
 "nbformat": 4,
 "nbformat_minor": 5
}
