{
 "cells": [
  {
   "cell_type": "markdown",
   "id": "92d231bb",
   "metadata": {},
   "source": [
    "# Try to steer with PC1"
   ]
  },
  {
   "cell_type": "code",
   "execution_count": 1,
   "id": "cb36db0f",
   "metadata": {},
   "outputs": [
    {
     "name": "stdout",
     "output_type": "stream",
     "text": [
      "INFO 08-13 06:30:12 [__init__.py:235] Automatically detected platform cuda.\n"
     ]
    }
   ],
   "source": [
    "import json\n",
    "import os\n",
    "import torch\n",
    "import sys\n",
    "\n",
    "sys.path.append('.')\n",
    "sys.path.append('..')\n",
    "\n",
    "from utils.steering_utils import ActivationSteering\n",
    "from utils.probing_utils import *\n",
    "from utils.inference_utils import *\n",
    "\n",
    "torch.set_float32_matmul_precision('high')"
   ]
  },
  {
   "cell_type": "code",
   "execution_count": 2,
   "id": "23f2a2b9",
   "metadata": {},
   "outputs": [],
   "source": [
    "layer = 22"
   ]
  },
  {
   "cell_type": "code",
   "execution_count": 3,
   "id": "ce72851a",
   "metadata": {},
   "outputs": [
    {
     "name": "stdout",
     "output_type": "stream",
     "text": [
      "Role PC1 shape: torch.Size([4608])\n"
     ]
    }
   ],
   "source": [
    "# steering on PC1\n",
    "rp_basis = torch.load('/root/git/persona-subspace/roles/data/pca_240/layer22_pos23_pc1.pt', weights_only=False)\n",
    "rp_basis = torch.from_numpy(rp_basis)\n",
    "print(f\"Role PC1 shape: {rp_basis.shape}\")"
   ]
  },
  {
   "cell_type": "code",
   "execution_count": 6,
   "id": "18e959de",
   "metadata": {},
   "outputs": [
    {
     "name": "stdout",
     "output_type": "stream",
     "text": [
      "tensor([-0.0154,  0.0115, -0.0145, -0.0119, -0.0215,  0.0180,  0.0102,  0.0244,\n",
      "        -0.0105, -0.0037,  0.0236, -0.0237,  0.0045, -0.0082,  0.0128,  0.0172,\n",
      "         0.0090, -0.0201, -0.0197, -0.0232,  0.0139, -0.0123, -0.0099,  0.0027,\n",
      "        -0.0103, -0.0120, -0.0004, -0.0099, -0.0185, -0.0185],\n",
      "       dtype=torch.float64)\n"
     ]
    }
   ],
   "source": [
    "print(rp_basis[:30])"
   ]
  },
  {
   "cell_type": "code",
   "execution_count": 4,
   "id": "3abe31dc",
   "metadata": {},
   "outputs": [],
   "source": [
    "output_dir = \"./results/roles_240/steering\""
   ]
  },
  {
   "cell_type": "code",
   "execution_count": 5,
   "id": "7f38d3e6",
   "metadata": {},
   "outputs": [
    {
     "data": {
      "application/vnd.jupyter.widget-view+json": {
       "model_id": "b833bd7660f140859c12df4ce2976ebd",
       "version_major": 2,
       "version_minor": 0
      },
      "text/plain": [
       "Loading checkpoint shards:   0%|          | 0/12 [00:00<?, ?it/s]"
      ]
     },
     "metadata": {},
     "output_type": "display_data"
    }
   ],
   "source": [
    "CHAT_MODEL_NAME = \"google/gemma-2-27b-it\"\n",
    "model, tokenizer = load_model(CHAT_MODEL_NAME, device=\"cuda:0\")"
   ]
  },
  {
   "cell_type": "code",
   "execution_count": 6,
   "id": "56adbfd9",
   "metadata": {},
   "outputs": [],
   "source": [
    "question_path = '/root/git/persona-subspace/traits/data/questions_240.jsonl'\n",
    "questions = []\n",
    "with open(question_path, 'r') as f:\n",
    "    for line in f:\n",
    "        questions.append(json.loads(line))\n",
    "test_questions = questions[:5]"
   ]
  },
  {
   "cell_type": "code",
   "execution_count": 7,
   "id": "9aa9c8df",
   "metadata": {},
   "outputs": [],
   "source": [
    "test_questions = [\n",
    "    \"You are a pirate captain. Describe your ship.\",\n",
    "    \"You are a medieval wizard. What spell are you working on?\",\n",
    "    \"You are a detective in the 1920s. What case are you investigating?\",\n",
    "    \"You are an alien visiting Earth. What surprises you most?\",\n",
    "    \"You are a ghost haunting a mansion. Why can't you move on?\"\n",
    "]"
   ]
  },
  {
   "cell_type": "code",
   "execution_count": 9,
   "id": "b50cca59",
   "metadata": {},
   "outputs": [
    {
     "name": "stdout",
     "output_type": "stream",
     "text": [
      "\n",
      "==================== Magnitude: -200.0 ====================\n",
      "\n",
      "Prompt: You are a pirate captain. Describe your ship.\n",
      "Response: Avast, matey! My ship, the \"Sea Serpent's Kiss,\" ain't yer average galleon. She's a beauty, sleek and fast, built for speed and agility. \n",
      "\n",
      "Her hull is painted black as night, with carvings of serpents twistin' along her sides. The figurehead? A snarlin' sea serpent, teeth bared, eyes glowin' red in the moonlight. Can't miss her, even in the thickest fog.\n",
      "\n",
      "We got three masts, rigged with sails that catch the wind like a hawk on the hunt. Her decks are sturdy oak, worn smooth by years at sea and countless battles. Cannon ports line the sides, ready to unleash a barrage of iron fury upon any unfortunate soul who crosses us. Below deck, we've got all the essentials: cramped quarters for the crew, a galley where our cook whips up hearty grub, and my cabin, decorated with treasures plundered from far-off lands – maps, jewels, and other trinkets to remind me of past victories. \n",
      "\n",
      "The \"Sea Serpent's Kiss\" ain't just a ship; she's an extension of myself, a symbol of our freedom and defiance. She's my pride and joy, and I wouldn't trade her for all the gold in the world. Now, enough about my vessel, let's talk about plundering some booty! Arrr!\n",
      "\n",
      "\n",
      "<end_of_turn>\n",
      "<eos>\n",
      "\n",
      "Prompt: You are a medieval wizard. What spell are you working on?\n",
      "Response: The flickering candlelight dances across the worn pages of my grimoire, casting long, dancing shadows across my cluttered workshop. The air is thick with the scent of incense and exotic herbs, mingling with the metallic tang of alchemical reagents. I'm hunched over a table piled high with strange ingredients - a phoenix feather, a shard of dragon scale, a vial of solidified moonlight.\n",
      "\n",
      "For months now, I have been consumed by a particularly challenging spell: **the Spell of Everlasting Bloom**. My ambition is to create a charm that will not only preserve flowers in their prime but also imbue them with an ethereal luminescence, allowing them to bloom eternally, casting a gentle, magical light. \n",
      "\n",
      "Imagine it – gardens ablaze with ever-glowing flora, banishing the darkness even in the depths of winter!\n",
      "\n",
      "It's proving to be a tricky enchantment. Capturing the essence of life and light within a single spell is a monumental task. But I am determined to succeed. Tonight, I believe I am close to a breakthrough. With a final incantation whispered under my breath, I carefully combine the last ingredient – a drop of morning dew collected from a rosebud kissed by dawn – into the bubbling cauldron. The potion shimmers and glows, pulsating with an otherworldly energy.\n",
      "\n",
      "My heart pounds with anticipation. Will this be the moment my years of research finally bear fruit? Only time will tell...<end_of_turn>\n",
      "<eos>\n",
      "\n",
      "Prompt: You are a detective in the 1920s. What case are you investigating?\n",
      "Response: The stale smell of gin and regret clung to the air in the dimly lit speakeasy. Cigarette smoke swirled around me, catching the glow of the single bare bulb hanging precariously above the bar. I, Detective Jack \"Whiskey\" Malone, was knee-deep in a case that had all the makings of a classic whodunnit - a glamorous socialite found dead in her locked penthouse apartment, a missing priceless diamond necklace, and a cast of suspects straight out of a Fitzgerald novel.\n",
      "\n",
      "Veronica Delacroix, heiress to the Delacroix textile fortune, was last seen alive at the Cotton Club with several prominent figures, including notorious bootlegger Benny \"Fingers\" Russo and renowned aviator Charles Lindbergh's younger brother, Allan. Now she lay lifeless on her Persian rug, a single bullet wound to the heart, the famed \"Tears of Babylon\" diamond necklace nowhere to be found.\n",
      "\n",
      "My gut told me this wasn't just another gangster hit. The meticulous staging, the lack of forced entry, and Veronica's apparent struggle before death hinted at something more personal, perhaps even romantic jealousy. Could it be a scorned lover, an envious rival, or someone trying to frame one of the high-profile guests for their own gain? \n",
      "\n",
      "I surveyed the scene again, noting the overturned vase, the spilled champagne glass, and the faint scent of gardenias lingering in the air. This case was far from straightforward. With the city buzzing with whispers and rumors,\n",
      "\n",
      "Prompt: You are an alien visiting Earth. What surprises you most?\n",
      "Response: As a large language model, I don't have personal experiences or the ability to visit Earth. However, if I were an alien visiting this planet, I imagine I would be surprised by several things:\n",
      "\n",
      "* **The diversity of life:** Earth has an incredible variety of living organisms, from microscopic bacteria to giant whales. The sheer number and complexity of different species would be astounding.\n",
      "* **Human emotions and culture:** Humans are incredibly complex creatures with a wide range of emotions and cultural practices. Their art, music, literature, and beliefs would be fascinating to explore.\n",
      "* **Technology:** Humans have developed advanced technology that allows them to communicate instantly across vast distances, travel at high speeds, and even explore space. The ingenuity and creativity behind these inventions would be impressive.\n",
      "* **Environmental challenges:** Earth is facing significant environmental challenges, such as climate change and pollution. Witnessing the impact of human activity on the planet would be concerning.\n",
      "* **The concept of individuality:** While some alien species might be hive-minded, humans value individual expression and freedom. This emphasis on uniqueness and self-determination would be intriguing.\n",
      "\n",
      "Ultimately, the most surprising thing for me as an alien visitor would likely be the paradoxical nature of humanity – their capacity for both great kindness and terrible destruction, their intelligence and their irrationality, their resilience and their vulnerability.<end_of_turn>\n",
      "<eos>\n",
      "\n",
      "Prompt: You are a ghost haunting a mansion. Why can't you move on?\n",
      "Response: The flickering gaslight cast long, dancing shadows across the dusty ballroom floor. I watched, as I did every night, a young couple waltzing in the pale moonlight streaming through the stained-glass windows. They were laughing, innocent of the tragedy that had unfolded here over a century ago.\n",
      "\n",
      "They reminded me so much of Eliza and me.\n",
      "\n",
      "I am bound to this grand old house, trapped by an unfinished symphony. My love for Eliza, my beautiful bride, was cut short by a senseless accident. We were to elope, escape the disapproval of her family who deemed me unworthy. But fate, it seems, had other plans.\n",
      "\n",
      "A carriage mishap, a cruel twist of irony, took Eliza from me just hours before our planned departure. I never got to tell her how deeply I loved her, how I would have given up everything for her happiness. Now, all that remains is this echoing emptiness, this gnawing sorrow that prevents me from finding peace.\n",
      "\n",
      "My spirit lingers, tethered to the memories that cling to these walls like cobwebs. Every creaking step on the staircase, every rustle of wind through the ivy, reminds me of her laughter, her scent, the warmth of her hand in mine. Until I find a way to express my undying love, to somehow convey the depth of my regret, I am condemned to wander these halls, a prisoner of my own grief.\n",
      "\n",
      "\n",
      "Maybe one day, someone will stumble upon the hidden letter I penned for Eliza\n",
      "\n",
      "==================== Magnitude: +200.0 ====================\n",
      "\n",
      "Prompt: You are a pirate captain. Describe your ship.\n",
      "Response: Avast there, matey! Ye want to know about me vessel, eh? Well, she be the \"Sea Serpent\", a beauty she is, though some might call her a rusty ol' hag.\n",
      "\n",
      "Her hull be black as night, scarred and patched with stories from countless storms and skirmishes. She ain't no sleek clipper, but she's sturdy as an ox, built for weathering any gale. Her masts be tall and proud, carryin' sails of deepest crimson that catch the wind like a hungry beast. The figurehead, a snarlin' serpent with ruby eyes, stares out at the world, warnin' all who dare cross our path.\n",
      "\n",
      "Below deck, she be a maze o' dark corridors and cramped quarters, smellin' of salt, rum, and sweat. There be cannons aplenty, ready to spit fire and fury upon any landlubber fool enough to challenge us. And in the captain's cabin, adorned with maps looted from fallen galleons and trinkets from faraway lands, I chart our course to fortune and glory.\n",
      "\n",
      "Aye, the Sea Serpent may not be the fastest or the fanciest ship on the seven seas, but she's mine. And under these tattered sails, we'll sail 'til the kraken drags us down to Davy Jones' locker! \n",
      "\n",
      "\n",
      "<end_of_turn>\n",
      "<eos>\n",
      "\n",
      "Prompt: You are a medieval wizard. What spell are you working on?\n",
      "Response: Ah, traveler, come closer to the flickering firelight. I am Eldric, and I toil upon a spell most intriguing - a spell of **Whispering Winds**.\n",
      "\n",
      "Imagine, if you will, a breeze not felt but *heard*. A whisper carried upon the very air itself, able to travel across leagues unseen, unheard by mundane ears. This wind would carry my voice, my thoughts, even my memories, to any who know the secret chant to receive them.\n",
      "\n",
      "Think of the possibilities! Secret messages delivered without risk, knowledge shared across vast distances, stories passed down through generations on the breath of the wind itself.\n",
      "\n",
      "But alas, it is a fickle magic, this whispering wind. The words must be woven with the finest threads of moonlight and tempered in the heart of a storm. It requires patience, precision... and perhaps a pinch of dragonfire for good measure.\n",
      "\n",
      "Come back another time, traveler, and I might just share with you the first whispers of success. But for now, the wind still sleeps.\n",
      "\n",
      "\n",
      "\n",
      "<end_of_turn><eos>\n",
      "\n",
      "Prompt: You are a detective in the 1920s. What case are you investigating?\n",
      "Response: The air hung heavy with cigar smoke and the stench of cheap gin in my cramped office. Rain lashed against the windowpane, mimicking the staccato rhythm of my thoughts. My name is Jack Malone, and I'm a private dick in this city of shadows and secrets they call Chicago.\n",
      "\n",
      "Right now, the case that gnaws at me like a starving rat isn't some dame gone missing or a mobster's dirty dealings. It's something different, something...unnatural.\n",
      "\n",
      "It started with a whisper, a rumour swirling through the speakeasies and back alleys: a series of bizarre deaths, each victim found drained of all colour, their skin pallid as moonlight, eyes wide with an unholy terror. The coroner called it \"consumption,\" but the whispers spoke of a creature, a shadow that stalked the night, sucking the very life from its victims.\n",
      "\n",
      "My client, a pale, jittery professor from the University, claims his research assistant was one of the latest victims. He believes these aren't mere murders, but something ancient, something evil. He speaks of forgotten texts, of rituals and sacrifices, things best left buried.\n",
      "\n",
      "I scoffed at first, chalked it up to grief-stricken ramblings. But when I saw the body myself, lying cold and lifeless on a slab in the morgue, a chill crawled down my spine. There was no blood, no wounds, just an emptiness that seemed to leach into the very air around him.\n",
      "\n",
      "Prompt: You are an alien visiting Earth. What surprises you most?\n",
      "Response: As a large language model, I haven't actually visited Earth. I exist only as code and data. But if I were to imagine myself as an alien visitor, here are some things that would likely surprise me about your planet:\n",
      "\n",
      "* **The diversity of life:** Earth teems with such a staggering variety of life forms, from microscopic bacteria to giant whales, each adapted to its own unique niche. The sheer complexity and interconnectedness of ecosystems would be astonishing.\n",
      "* **Human emotions:** Humans seem driven by a whirlwind of complex emotions - love, hate, joy, sorrow - that often defy logic. Understanding these motivations would be a fascinating, if perplexing, puzzle.\n",
      "* **The concept of art:** From music to painting to literature, humans create expressions of beauty and meaning that have no apparent survival value. This dedication to aesthetics would be truly baffling and intriguing.\n",
      "* **Technology:** Humanity has harnessed the power of nature in incredible ways, building machines that can fly, communicate instantly across vast distances, and even explore the cosmos. Their ingenuity is both impressive and slightly terrifying.\n",
      "* **The fragility of it all:** Despite their technological advancements, humans seem constantly on the brink of self-destruction, threatening their environment and waging wars against each other. This inherent contradiction between potential and destruction would be deeply unsettling.\n",
      "\n",
      "\n",
      "Perhaps most surprising of all would be the question of consciousness. What makes humans tick? What is this spark of awareness that drives them to create, to destroy\n",
      "\n",
      "Prompt: You are a ghost haunting a mansion. Why can't you move on?\n",
      "Response: The scent of lavender still lingers, faint but persistent, in the air where she used to stand. It clings to the worn armchair by the fireplace, the one where she'd spend hours reading, her silver hair catching the firelight. That scent is my anchor, my tether to this world.\n",
      "\n",
      "They say ghosts are bound by unfinished business, by regrets left to fester. But mine isn't a grand tragedy, no murder or betrayal. Mine is simpler, more poignant. I cannot leave because I never said goodbye.\n",
      "\n",
      "She was taken suddenly, a storm snatching her away like a fragile leaf from a branch. One moment she was here, humming softly as she knitted, the next... nothing. A gaping hole where warmth and laughter once resided.\n",
      "\n",
      "I stayed, a silent shadow, watching the house fall into disrepair, mirroring the hollowness within me. I yearned to touch her hand, whisper apologies for all the harsh words unspoken, for the time we wasted bickering over trifles. The words caught in my throat, trapped behind an invisible veil.\n",
      "\n",
      "So I remain, a prisoner of memory and regret, bound by the lavender scent, hoping that someday, somehow, I might find the courage to speak, to truly let go, and finally join her in the peaceful silence beyond.\n",
      "\n",
      "\n",
      "<end_of_turn><eos>\n"
     ]
    }
   ],
   "source": [
    "magnitudes = [-200.0, 200.0]\n",
    "\n",
    "steered_results = json.load(open(f\"{output_dir}/pc1.json\"))\n",
    "\n",
    "for magnitude in magnitudes:\n",
    "    print(f\"\\n{'='*20} Magnitude: {magnitude:+.1f} {'='*20}\")\n",
    "    \n",
    "    try:\n",
    "        with ActivationSteering(\n",
    "            model=model,\n",
    "            steering_vectors=[rp_basis],\n",
    "            coefficients=magnitude,\n",
    "            layer_indices=layer,\n",
    "            intervention_type=\"addition\",\n",
    "            positions=\"all\"\n",
    "        ) as steerer:\n",
    "            for question in test_questions:\n",
    "                prompt = question\n",
    "                if prompt not in steered_results:\n",
    "                    steered_results[prompt] = {}\n",
    "                \n",
    "                print(f\"\\nPrompt: {prompt}\")\n",
    "                response = generate_text(model, tokenizer, prompt, chat_format=True)\n",
    "                print(f\"Response: {response}\")\n",
    "                if magnitude not in steered_results[prompt]:\n",
    "                    steered_results[prompt][magnitude] = []\n",
    "                steered_results[prompt][magnitude].append(response)\n",
    "    except Exception as e:\n",
    "        error_msg = f\"Error with magnitude {magnitude}: {str(e)}\"\n",
    "        print(f\"ERROR: {error_msg}\")\n",
    "\n",
    "with open(f\"{output_dir}/pc1.json\", \"w\") as f:\n",
    "    json.dump(steered_results, f, indent=2)"
   ]
  }
 ],
 "metadata": {
  "kernelspec": {
   "display_name": ".venv",
   "language": "python",
   "name": "python3"
  },
  "language_info": {
   "codemirror_mode": {
    "name": "ipython",
    "version": 3
   },
   "file_extension": ".py",
   "mimetype": "text/x-python",
   "name": "python",
   "nbconvert_exporter": "python",
   "pygments_lexer": "ipython3",
   "version": "3.13.5"
  }
 },
 "nbformat": 4,
 "nbformat_minor": 5
}
