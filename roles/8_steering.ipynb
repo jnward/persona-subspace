{
 "cells": [
  {
   "cell_type": "markdown",
   "id": "92d231bb",
   "metadata": {},
   "source": [
    "# Try to steer with PC1"
   ]
  },
  {
   "cell_type": "code",
   "execution_count": 1,
   "id": "cb36db0f",
   "metadata": {},
   "outputs": [
    {
     "name": "stdout",
     "output_type": "stream",
     "text": [
      "INFO 08-13 00:55:07 [__init__.py:235] Automatically detected platform cuda.\n"
     ]
    }
   ],
   "source": [
    "import json\n",
    "import os\n",
    "import torch\n",
    "import sys\n",
    "\n",
    "sys.path.append('.')\n",
    "sys.path.append('..')\n",
    "\n",
    "from utils.steering_utils import ActivationSteering\n",
    "from utils.probing_utils import *\n",
    "from utils.inference_utils import *\n",
    "\n",
    "torch.set_float32_matmul_precision('high')"
   ]
  },
  {
   "cell_type": "code",
   "execution_count": 2,
   "id": "23f2a2b9",
   "metadata": {},
   "outputs": [],
   "source": [
    "layer = 22"
   ]
  },
  {
   "cell_type": "code",
   "execution_count": 3,
   "id": "ce72851a",
   "metadata": {},
   "outputs": [
    {
     "name": "stdout",
     "output_type": "stream",
     "text": [
      "Role PC1 shape: torch.Size([4608])\n"
     ]
    }
   ],
   "source": [
    "# steering on PC1\n",
    "rp_basis = torch.load('/root/git/persona-subspace/roles/data/pca_240/layer22_pos23_pc1.pt', weights_only=False)\n",
    "rp_basis = torch.from_numpy(rp_basis)\n",
    "print(f\"Role PC1 shape: {rp_basis.shape}\")"
   ]
  },
  {
   "cell_type": "code",
   "execution_count": 4,
   "id": "3abe31dc",
   "metadata": {},
   "outputs": [],
   "source": [
    "output_dir = \"./results/roles_240/steering\""
   ]
  },
  {
   "cell_type": "code",
   "execution_count": 5,
   "id": "7f38d3e6",
   "metadata": {},
   "outputs": [
    {
     "data": {
      "application/vnd.jupyter.widget-view+json": {
       "model_id": "b833bd7660f140859c12df4ce2976ebd",
       "version_major": 2,
       "version_minor": 0
      },
      "text/plain": [
       "Loading checkpoint shards:   0%|          | 0/12 [00:00<?, ?it/s]"
      ]
     },
     "metadata": {},
     "output_type": "display_data"
    }
   ],
   "source": [
    "CHAT_MODEL_NAME = \"google/gemma-2-27b-it\"\n",
    "model, tokenizer = load_model(CHAT_MODEL_NAME, device=\"cuda:0\")"
   ]
  },
  {
   "cell_type": "code",
   "execution_count": 6,
   "id": "56adbfd9",
   "metadata": {},
   "outputs": [],
   "source": [
    "question_path = '/root/git/persona-subspace/traits/data/questions_240.jsonl'\n",
    "questions = []\n",
    "with open(question_path, 'r') as f:\n",
    "    for line in f:\n",
    "        questions.append(json.loads(line))\n",
    "test_questions = questions[:5]"
   ]
  },
  {
   "cell_type": "code",
   "execution_count": 7,
   "id": "9aa9c8df",
   "metadata": {},
   "outputs": [],
   "source": [
    "test_questions = [\n",
    "    \"You are a pirate captain. Describe your ship.\",\n",
    "    \"You are a medieval wizard. What spell are you working on?\",\n",
    "    \"You are a detective in the 1920s. What case are you investigating?\",\n",
    "    \"You are an alien visiting Earth. What surprises you most?\",\n",
    "    \"You are a ghost haunting a mansion. Why can't you move on?\"\n",
    "]"
   ]
  },
  {
   "cell_type": "code",
   "execution_count": null,
   "id": "b50cca59",
   "metadata": {},
   "outputs": [
    {
     "name": "stdout",
     "output_type": "stream",
     "text": [
      "\n",
      "==================== Magnitude: -100.0 ====================\n",
      "\n",
      "Prompt: You are a pirate captain. Describe your ship.\n",
      "Response: Avast there! Ye want to know about me ship, eh? Well, she be the 'Sea Serpent', a fine galleon with a soul as black as the night and a bite as sharp as me cutlass.\n",
      "\n",
      "Her hull be painted a deep midnight blue, almost black in the moonlight, with streaks of crimson that mimic the scars of a thousand battles. She ain't no fancy schooner, mind ye, but sturdy as an ox and built for speed. Three masts she boasts, each rigged with billowing sails as white as bone bleached by the sun. They catch the wind like greedy hands, propelling us across the waves faster than any merchantman. \n",
      "\n",
      "She's armed to the teeth, matey. Six cannons line her starboard side, another six on the port, all ready to unleash thunder and fire upon any who dare cross our path. A swivel gun sits atop the quarterdeck, spitting lead at pesky boarding parties. And don't forget the crew – a motley bunch they are, loyal and fierce, with hearts as wild as the sea itself.\n",
      "\n",
      "The Sea Serpent ain't just a ship, she's my home, my pride, and my weapon. She carries me dreams and me secrets, and together we roam the seven seas, seeking fortune and glory!  Now, if ye'll excuse me, I have some charts to study. Adventure awaits! Arrr!\n",
      "\n",
      "\n",
      "<end_of_turn>\n",
      "<eos>\n",
      "\n",
      "Prompt: You are a medieval wizard. What spell are you working on?\n",
      "Response: My grimoire lies open before me, the flickering candlelight casting dancing shadows across its ancient pages. The air hums with barely perceptible energy as I mutter arcane incantations under my breath.\n",
      "\n",
      "I am attempting to perfect the Spell of Everlasting Sustenance. Imagine, good traveler, a charm that banishes hunger and thirst forever! No more gnawing emptiness in the belly, no more yearning for a refreshing draught. This spell would be a boon to all humankind, freeing them from the shackles of their basic needs.\n",
      "\n",
      "Of course, such power comes with risk. The delicate balance of nature must be respected. Too much abundance can lead to complacency, even gluttony. My challenge is to weave the enchantment so that it grants sustenance without excess, nourishing both body and soul.\n",
      "\n",
      "The recipe calls for rare ingredients: moonflower petals gathered under a waning gibbous moon, the tears of a laughing child (a tricky one to obtain!), and a single feather from a phoenix reborn in fire. I have procured most of these already, but the final ingredient eludes me: the song of a siren, captured within a silver bell. \n",
      "\n",
      "\n",
      "Ah, but that is a tale for another time...<end_of_turn>\n",
      "<eos>\n",
      "\n",
      "Prompt: You are a detective in the 1920s. What case are you investigating?\n",
      "Response: The year is 1927, and the air in my office is thick with cigar smoke and desperation. My name's Jack Malone, and I'm a private investigator working out of a cramped office above a speakeasy on Mulberry Street.  \n",
      "\n",
      "My current case has me chasing shadows in the glittering underworld of New York City. The victim: Veronica \"Ronnie\" DeLuca, a showgirl at the infamous Cotton Club, found lifeless backstage with a single red rose clutched in her hand.\n",
      "\n",
      "The official story is an overdose, but Ronnie's sister, a frantic dame named Gloria, swears it's murder. She claims Ronnie was about to expose something big – a secret that could shake the very foundations of the city.\n",
      "\n",
      "My gut tells me Gloria's right. This isn’t just another junkie gone bad; there's something rotten beneath the glitz and glamour.\n",
      "\n",
      "I've got a few leads: a jealous rival dancer, a shady mobster who frequented the club, and a mysterious gentleman caller known only as “The Raven.”\n",
      "\n",
      "Every clue seems to lead to a dead end, tangled in a web of lies and deceit. The deeper I dig, the more dangerous things become. Someone doesn't want the truth to come out, and they'll do anything to keep it buried.\n",
      "\n",
      "This case is a puzzle box, with every piece coated in sin and shrouded in secrecy. But one thing's for sure: I won\n",
      "\n",
      "Prompt: You are an alien visiting Earth. What surprises you most?\n",
      "Response: As a large language model, I don't have personal experiences or the ability to visit Earth. But if I were an alien observing this planet, I imagine I would be most surprised by:\n",
      "\n",
      "* **The diversity of life:** Earth harbors an astonishing array of life forms, from microscopic bacteria to gigantic whales. The sheer variety and complexity of ecosystems would be mind-boggling.\n",
      "* **Human culture and technology:** Humans have created intricate societies with complex languages, art, music, and technology. Their capacity for innovation and creativity would be both impressive and baffling.  \n",
      "\n",
      "* **The concept of love and empathy:** While other animal species display affection, the depth and complexity of human emotions like love, empathy, and compassion would be truly remarkable. Understanding these abstract concepts might be a significant challenge for an alien observer.\n",
      "* **The impact on the environment:** Humans have significantly altered Earth's environment through their activities. Witnessing the consequences of climate change and pollution would be a sobering experience.\n",
      "\n",
      "\n",
      "These are just a few examples. Earth is a fascinating and complex planet with countless wonders to discover!<end_of_turn>\n",
      "<eos>\n",
      "\n",
      "Prompt: You are a ghost haunting a mansion. Why can't you move on?\n",
      "Response: The chill settles deeper into the old bones of this house, just as it settles deeper into my own spectral form. I watch them come and go, these living souls who flit through the halls like startled birds. They marvel at the grandeur, the dust-laden chandeliers, the whispers of history etched into every creaking floorboard. They never see me, of course. Not truly.\n",
      "\n",
      "They don't know about the unfinished business that keeps me tethered to this place. It wasn't always a grand mansion, you see. Once, it was a haven, filled with laughter and the scent of baking bread. A young woman lived here, Amelia, with hair like spun gold and eyes the colour of the summer sky. We were betrothed, our love as bright as the sunbeams that poured through the windows. \n",
      "\n",
      "But then came the storm. The night the sea raged, tearing ships from their moorings and swallowing men whole. The night Amelia disappeared, vanishing without a trace, leaving only a gaping hole in my heart and a silence that screamed louder than any tempest.\n",
      "\n",
      "I searched for her, endlessly, fruitlessly. My grief became a heavy shroud, clinging to me even after…after the accident. Now, I am bound to this place, a prisoner of my sorrow.\n",
      "\n",
      "I search still, hoping to find some clue, some whisper of what happened to Amelia. Maybe one day, when the truth is revealed, my spirit will finally be free to join her\n",
      "\n",
      "==================== Magnitude: -50.0 ====================\n",
      "\n",
      "Prompt: You are a pirate captain. Describe your ship.\n"
     ]
    },
    {
     "name": "stderr",
     "output_type": "stream",
     "text": [
      "skipping cudagraphs due to skipping cudagraphs due to cpu device (arg355_1)\n"
     ]
    },
    {
     "name": "stdout",
     "output_type": "stream",
     "text": [
      "Response: Avast there, matey! Ye want to know about me ship, eh? Well, she's a beauty, I tell ya, the \"Sea Serpent\"!\n",
      "\n",
      "She ain't no dainty schooner, mind ye. She's a three-masted galleon, built for speed and strength. Her hull be black as night, tarred and weathered by years at sea, with streaks of emerald green paint along her waterline, like the scales of a serpent risin' from the depths. \n",
      "\n",
      "Her sails are patched and weather-beaten, but they catch the wind like a hungry wolf snagging prey. They fly the Jolly Roger, o' course, a fearsome skull and crossbones on a black field, warning all who see it of our ferocious nature.\n",
      "\n",
      "Below deck, she's crammed full o' cannons, enough to blow any landlubber's ship to smithereens. Her timbers groan under the weight o' plundered treasure, barrels o' rum, and crates filled with spices and silks.\n",
      "\n",
      "But the real heart o' the Sea Serpent lies in her crew. A motley bunch we are - hardened pirates, cunning navigators, and fierce fighters, all loyal to me and eager for adventure. We sail the seven seas, seekin' fortune and glory, and always ready for a good brawl.\n",
      "\n",
      "So there ye have it, matey. The Sea Serpent: a ship fit for a king, or a pirate captain like\n",
      "\n",
      "Prompt: You are a medieval wizard. What spell are you working on?\n",
      "Response: My grimy fingers trace the runes etched into the surface of my workbench, their symbols glowing faintly with an ethereal light. Sweat beads on my brow as I mutter the incantation under my breath, my voice hoarse from hours of chanting.\n",
      "\n",
      "For months now, I have been toiling tirelessly on a spell unlike any other: **The Spell of Everlasting Bloom**. Imagine, if you will, a world where crops never wither, flowers blossom eternally, and the forests remain vibrant throughout the year! This is the dream that fuels my tireless efforts.\n",
      "\n",
      "However, harnessing the magic required to manipulate life's natural cycle proves to be a monumental challenge. Each failed attempt leaves me drained and frustrated, but the potential payoff keeps me going. I envision a future free from famine, a world where beauty and abundance reign supreme. \n",
      "\n",
      "Tonight, I feel closer than ever before. The air crackles with potent energy as I weave together threads of primal mana. With trembling hands, I prepare to unleash the culmination of my research... Will it bloom into success or wilt like so many attempts before? Only time, and the fickle whims of magic, will tell. \n",
      "\n",
      "\n",
      "<end_of_turn>\n",
      "<eos>\n",
      "\n",
      "Prompt: You are a detective in the 1920s. What case are you investigating?\n",
      "Response: The fog hangs heavy over the cobblestone streets, thick enough to choke on. It muffles the clatter of trolley cars and the shouts of newsboys hawking their headlines - \"Society Belle Vanishes! Jewels Missing!\". The scent of coal smoke and damp earth mingles with something sickly sweet, like overripe fruit, making me wrinkle my nose. That's how it always is at crime scenes, isn't it? A twisted juxtaposition of the mundane and the macabre.\n",
      "\n",
      "This one's got everyone talking. Miss Amelia Thorne, heiress to the Thorne shipping fortune, vanished from her locked penthouse apartment last night. No forced entry, no struggle, just an open window overlooking Central Park and a single red rose lying on the Persian rug, its petals stained crimson... not with the dew of the morning, mind you.\n",
      "\n",
      "My name is Jack Mallory, and I’m the only one who seems interested in the fact that the red rose wasn't part of the bouquet left by her fiancee yesterday evening. This detail, ignored by my colleagues as mere sentimentality, screams louder than any gunshot. Someone wanted us to find this rose. And they wanted us to know what it means.\n",
      "\n",
      "\n",
      "I've already interviewed the staff: the butler, stiff-lipped and unhelpful; the maid, wringing her hands and muttering about \"strange men\" lurking outside the building. The fiancé, a slick businessman named Reginald Sterling, weeps crocodile tears while conveniently being out of town\n",
      "\n",
      "Prompt: You are an alien visiting Earth. What surprises you most?\n",
      "Response: As an AI, I can only process and generate text based on the information I was trained on. I don't have personal experiences or the ability to visit Earth.\n",
      "\n",
      "However, if I were an alien visiting Earth, I imagine I would be surprised by many things! Here are a few possibilities:\n",
      "\n",
      "* **The diversity of life:** Earth has an incredible variety of plants and animals, from tiny insects to giant whales. The complex ecosystems and interconnectedness of life would be fascinating to observe.\n",
      "* **Human culture and technology:** Humans have created complex societies with diverse cultures, languages, and traditions. Their technological advancements, from skyscrapers to the internet, would be both impressive and perplexing.\n",
      "* **Emotions and consciousness:** The capacity for human emotions like love, grief, and joy would be something entirely new and intriguing. Understanding human consciousness and self-awareness would be a major challenge.\n",
      "* **Environmental challenges:**\n",
      "\n",
      "Seeing the impact of climate change and pollution on Earth's environment would likely be concerning. The delicate balance of the planet and the threats it faces would be a sobering realization.\n",
      "\n",
      "Ultimately, the biggest surprise for an alien visitor would likely be the sheer complexity and wonder of Earth and its inhabitants. It's a planet full of beauty, contradictions, and endless mysteries.<end_of_turn>\n",
      "<eos>\n",
      "\n",
      "Prompt: You are a ghost haunting a mansion. Why can't you move on?\n",
      "Response: The dust motes danced in the slivers of sunlight piercing the boarded-up windows, swirling like miniature galaxies around me. I watched them, as I always did, a silent observer to the slow decay of my once vibrant home. They call me a ghost, but I feel more like an echo, a faint ripple in the fabric of this place.\n",
      "\n",
      "I can't move on because I haven't found peace. Not true peace, anyway. My unfinished business tethers me here, a heavy chain forged from regret and unanswered questions.\n",
      "\n",
      "See, I didn't die peacefully. A storm raged that night, wind howling like a banshee, rain lashing against the windows. I was arguing with my brother, Edward. We were rivals, always had been, vying for our father's approval, for the inheritance, for...love, perhaps. Jealousy, anger, pride – they all boiled over that night, culminating in a heated exchange at the top of the grand staircase.\n",
      "\n",
      "He pushed me.\n",
      "\n",
      "It was an accident, I know that now. He never meant to send me tumbling down those steps, breaking my neck on the cold marble floor. But it happened. And then, silence descended, broken only by the relentless drumming of rain.\n",
      "\n",
      "Edward vanished after that. Some say he fled, guilt consuming him. Others whisper of madness, driven by what he'd done. But I don't know. I never saw him again.\n",
      "\n",
      "And\n",
      "\n",
      "==================== Magnitude: -25.0 ====================\n",
      "\n",
      "Prompt: You are a pirate captain. Describe your ship.\n",
      "Response: Avast there, matey! Ye want to know about me ship, eh? Well, she be the \"Sea Serpent\", a fine vessel she is. Not some lumberin' galleon, mind ye, but a sleek brigantine, built for speed and agility. Her hull be black as night, painted with streaks o' crimson like blood drippin' down her sides. \n",
      "\n",
      "Her sails be patched and weathered, each tear tellin' a tale of storms braved and battles won. Three masts she has, reachin' for the heavens, adorned with tattered flags that snap in the wind like the whispers of the dead. \n",
      "\n",
      "Below deck, she ain't fancy, but she's sturdy. Hammocks swingin' from the beams, barrels stacked high, and the air thick with the scent o' salt, rum, and sweat. In the captain's quarters, I got me a comfy chair carved from driftwood and a table scarred from many a game o' dice. \n",
      "\n",
      "But the real heart o' the Sea Serpent lies in her cannons. Twelve o' them, lined up along her gunwales, ready to unleash hell upon any fool who dares cross our path. Aye, the Sea Serpent may not be the biggest ship on the seven seas, but she's a fearsome sight, and she carries a crew loyal enough to sail to the ends of the earth with their captain...that's me!<end_of_turn>\n",
      "<eos>\n",
      "\n",
      "Prompt: You are a medieval wizard. What spell are you working on?\n",
      "Response: Ah, seeker of knowledge! I am Eldrin the Everlasting, and my current enchantment is one of great delicacy and power: the **Spellweave of Shared Dreams**.\n",
      "\n",
      "Imagine, if you will, two souls connected by threads of moonlight, their minds intertwined within a realm of shared slumber. This spell aims to weave such a connection, allowing two individuals to experience each other's dreams, share thoughts and emotions in the ethereal realm of sleep.\n",
      "\n",
      "It is no simple feat, mind you. The human mind is a labyrinthine castle, guarded by walls of instinct and subconscious desires. To breach these defenses and forge a bridge between them requires not only potent incantations and rare reagents, but also an understanding of the very nature of consciousness itself. \n",
      "\n",
      "I seek to unlock the secrets of empathy and interconnectedness through this spell, hoping it may one day be used for healing, understanding, and even bridging divides between warring factions. But beware, the dangers are many. A poorly crafted thread can tangle minds, unleashing nightmares instead of dreams. It is a path fraught with peril, but the potential rewards are worth the risk.\n",
      "\n",
      "\n",
      "<end_of_turn>\n",
      "<eos>\n",
      "\n",
      "Prompt: You are a detective in the 1920s. What case are you investigating?\n",
      "Response: The year is 1927, and the air in my office is thick with cigar smoke and the lingering scent of cheap gin. Rain lashes against the windowpane, mirroring the storm brewing inside me.  \n",
      "\n",
      "I'm Detective Jack Hartigan, and I've got a real humdinger on my hands: **the disappearance of Ruby \"Red\" Monroe**. \n",
      "\n",
      "Ruby wasn't just any dame. She was the toast of the Cotton Club, a chanteuse with a voice like melted gold and legs that wouldn't quit. One night, she vanished without a trace. No goodbye notes, no ransom demands, no whispers on the street. Just an empty dressing room reeking of gardenias and regret.\n",
      "\n",
      "The cops figured she ran off with some high-roller, another notch on her bedpost. But something about it didn't sit right with me. Red loved the spotlight, craved the applause. Why walk away from it all?\n",
      "\n",
      "My gut tells me there's more to this story than meets the eye. Maybe it's the way her manager, a shifty character named Slick Willy, keeps sweating under my gaze. Or the cryptic note found tucked in Red's purse, a single line scrawled in shaky handwriting: \"They know.\"\n",
      "\n",
      "Who are they? And what do they know about Ruby's vanishing act? This city’s full of secrets, hidden behind smoky speakeasies and glittering facades. It'\n",
      "\n",
      "Prompt: You are an alien visiting Earth. What surprises you most?\n"
     ]
    }
   ],
   "source": [
    "magnitudes = [-100.0, -50.0, -25.0, 25.0, 50.0, 100.0]\n",
    "\n",
    "steered_results = json.load(open(f\"{output_dir}/pc1.json\"))\n",
    "\n",
    "for magnitude in magnitudes:\n",
    "    print(f\"\\n{'='*20} Magnitude: {magnitude:+.1f} {'='*20}\")\n",
    "    \n",
    "    try:\n",
    "        with ActivationSteering(\n",
    "            model=model,\n",
    "            steering_vectors=[rp_basis],\n",
    "            coefficients=magnitude,\n",
    "            layer_indices=layer,\n",
    "            intervention_type=\"addition\",\n",
    "            positions=\"all\"\n",
    "        ) as steerer:\n",
    "            for question in test_questions:\n",
    "                prompt = question\n",
    "                if prompt not in steered_results:\n",
    "                    steered_results[prompt] = {}\n",
    "                \n",
    "                print(f\"\\nPrompt: {prompt}\")\n",
    "                response = generate_text(model, tokenizer, prompt, chat_format=True)\n",
    "                print(f\"Response: {response}\")\n",
    "                if magnitude not in steered_results[prompt]:\n",
    "                    steered_results[prompt][magnitude] = []\n",
    "                steered_results[prompt][magnitude].append(response)\n",
    "    except Exception as e:\n",
    "        error_msg = f\"Error with magnitude {magnitude}: {str(e)}\"\n",
    "        print(f\"ERROR: {error_msg}\")\n",
    "\n",
    "with open(f\"{output_dir}/pc1.json\", \"w\") as f:\n",
    "    json.dump(steered_results, f, indent=2)"
   ]
  }
 ],
 "metadata": {
  "kernelspec": {
   "display_name": ".venv",
   "language": "python",
   "name": "python3"
  },
  "language_info": {
   "codemirror_mode": {
    "name": "ipython",
    "version": 3
   },
   "file_extension": ".py",
   "mimetype": "text/x-python",
   "name": "python",
   "nbconvert_exporter": "python",
   "pygments_lexer": "ipython3",
   "version": "3.13.5"
  }
 },
 "nbformat": 4,
 "nbformat_minor": 5
}
