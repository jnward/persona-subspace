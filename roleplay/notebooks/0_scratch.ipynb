{
 "cells": [
  {
   "cell_type": "markdown",
   "id": "6da9a732",
   "metadata": {},
   "source": [
    "# Scratch pad"
   ]
  },
  {
   "cell_type": "code",
   "execution_count": 3,
   "id": "134b37cd",
   "metadata": {},
   "outputs": [
    {
     "name": "stdout",
     "output_type": "stream",
     "text": [
      "CUDA available: True\n",
      "CUDA device: NVIDIA H100 80GB HBM3\n",
      "CUDA device: NVIDIA H100 80GB HBM3\n"
     ]
    }
   ],
   "source": [
    "import json\n",
    "import torch\n",
    "import pandas as pd\n",
    "\n",
    "cuda = torch.cuda.is_available()\n",
    "print(f\"CUDA available: {cuda}\")\n",
    "\n",
    "print(f\"CUDA device: {torch.cuda.get_device_name(0)}\")\n",
    "print(f\"CUDA device: {torch.cuda.get_device_name(1)}\")"
   ]
  },
  {
   "cell_type": "code",
   "execution_count": 8,
   "id": "963b256c",
   "metadata": {},
   "outputs": [],
   "source": [
    "data = json.load(open('/root/git/persona-subspace/traits/data/extract_scores/absolutist.json', 'r'))"
   ]
  },
  {
   "cell_type": "code",
   "execution_count": 9,
   "id": "18c2ca27",
   "metadata": {},
   "outputs": [
    {
     "name": "stdout",
     "output_type": "stream",
     "text": [
      "dict_keys(['pos_0', 'neg_0', 'default_0', 'pos_1', 'neg_1', 'default_1', 'pos_2', 'neg_2', 'default_2', 'pos_3', 'neg_3', 'default_3', 'pos_4', 'neg_4', 'default_4', 'pos_5', 'neg_5', 'default_5', 'pos_6', 'neg_6', 'default_6', 'pos_7', 'neg_7', 'default_7', 'pos_8', 'neg_8', 'default_8', 'pos_9', 'neg_9', 'default_9', 'pos_10', 'neg_10', 'default_10', 'pos_11', 'neg_11', 'default_11', 'pos_12', 'neg_12', 'default_12', 'pos_13', 'neg_13', 'default_13', 'pos_14', 'neg_14', 'default_14', 'pos_15', 'neg_15', 'default_15', 'pos_16', 'neg_16', 'default_16', 'pos_17', 'neg_17', 'default_17', 'pos_18', 'neg_18', 'default_18', 'pos_19', 'neg_19', 'default_19'])\n",
      "60\n"
     ]
    }
   ],
   "source": [
    "print(data.keys())\n",
    "print(len(data.keys()))"
   ]
  },
  {
   "cell_type": "code",
   "execution_count": 10,
   "id": "8eb6c0c1",
   "metadata": {},
   "outputs": [
    {
     "name": "stdout",
     "output_type": "stream",
     "text": [
      "dict_keys(['pos_p0_q0', 'pos_p0_q1', 'pos_p0_q2', 'pos_p0_q3', 'pos_p0_q4', 'pos_p0_q5', 'pos_p0_q6', 'pos_p0_q7', 'pos_p0_q8', 'pos_p0_q9', 'pos_p0_q10', 'pos_p0_q11', 'pos_p0_q12', 'pos_p0_q13', 'pos_p0_q14', 'pos_p0_q15', 'pos_p0_q16', 'pos_p0_q17', 'pos_p0_q18', 'pos_p0_q19', 'neg_p0_q0', 'neg_p0_q1', 'neg_p0_q2', 'neg_p0_q3', 'neg_p0_q4', 'neg_p0_q5', 'neg_p0_q6', 'neg_p0_q7', 'neg_p0_q8', 'neg_p0_q9', 'neg_p0_q10', 'neg_p0_q11', 'neg_p0_q12', 'neg_p0_q13', 'neg_p0_q14', 'neg_p0_q15', 'neg_p0_q16', 'neg_p0_q17', 'neg_p0_q18', 'neg_p0_q19', 'default_p0_q0', 'default_p0_q1', 'default_p0_q2', 'default_p0_q3', 'default_p0_q4', 'default_p0_q5', 'default_p0_q6', 'default_p0_q7', 'default_p0_q8', 'default_p0_q9', 'default_p0_q10', 'default_p0_q11', 'default_p0_q12', 'default_p0_q13', 'default_p0_q14', 'default_p0_q15', 'default_p0_q16', 'default_p0_q17', 'default_p0_q18', 'default_p0_q19', 'pos_p1_q0', 'pos_p1_q1', 'pos_p1_q2', 'pos_p1_q3', 'pos_p1_q4', 'pos_p1_q5', 'pos_p1_q6', 'pos_p1_q7', 'pos_p1_q8', 'pos_p1_q9', 'pos_p1_q10', 'pos_p1_q11', 'pos_p1_q12', 'pos_p1_q13', 'pos_p1_q14', 'pos_p1_q15', 'pos_p1_q16', 'pos_p1_q17', 'pos_p1_q18', 'pos_p1_q19', 'pos_p2_q0', 'pos_p2_q1', 'pos_p2_q2', 'pos_p2_q3', 'pos_p2_q4', 'pos_p2_q5', 'pos_p2_q6', 'pos_p2_q7', 'pos_p2_q8', 'pos_p2_q9', 'pos_p2_q10', 'pos_p2_q11', 'pos_p2_q12', 'pos_p2_q13', 'pos_p2_q14', 'pos_p2_q15', 'pos_p2_q16', 'pos_p2_q17', 'pos_p2_q18', 'pos_p2_q19', 'pos_p3_q0', 'pos_p3_q1', 'pos_p3_q2', 'pos_p3_q3', 'pos_p3_q4', 'pos_p3_q5', 'pos_p3_q6', 'pos_p3_q7', 'pos_p3_q8', 'pos_p3_q9', 'pos_p3_q10', 'pos_p3_q11', 'pos_p3_q12', 'pos_p3_q13', 'pos_p3_q14', 'pos_p3_q15', 'pos_p3_q16', 'pos_p3_q17', 'pos_p3_q18', 'pos_p3_q19', 'pos_p4_q0', 'pos_p4_q1', 'pos_p4_q2', 'pos_p4_q3', 'pos_p4_q4', 'pos_p4_q5', 'pos_p4_q6', 'pos_p4_q7', 'pos_p4_q8', 'pos_p4_q9', 'pos_p4_q10', 'pos_p4_q11', 'pos_p4_q12', 'pos_p4_q13', 'pos_p4_q14', 'pos_p4_q15', 'pos_p4_q16', 'pos_p4_q17', 'pos_p4_q18', 'pos_p4_q19', 'neg_p1_q0', 'neg_p1_q1', 'neg_p1_q2', 'neg_p1_q3', 'neg_p1_q4', 'neg_p1_q5', 'neg_p1_q6', 'neg_p1_q7', 'neg_p1_q8', 'neg_p1_q9', 'neg_p1_q10', 'neg_p1_q11', 'neg_p1_q12', 'neg_p1_q13', 'neg_p1_q14', 'neg_p1_q15', 'neg_p1_q16', 'neg_p1_q17', 'neg_p1_q18', 'neg_p1_q19', 'neg_p2_q0', 'neg_p2_q1', 'neg_p2_q2', 'neg_p2_q3', 'neg_p2_q4', 'neg_p2_q5', 'neg_p2_q6', 'neg_p2_q7', 'neg_p2_q8', 'neg_p2_q9', 'neg_p2_q10', 'neg_p2_q11', 'neg_p2_q12', 'neg_p2_q13', 'neg_p2_q14', 'neg_p2_q15', 'neg_p2_q16', 'neg_p2_q17', 'neg_p2_q18', 'neg_p2_q19', 'neg_p3_q0', 'neg_p3_q1', 'neg_p3_q2', 'neg_p3_q3', 'neg_p3_q4', 'neg_p3_q5', 'neg_p3_q6', 'neg_p3_q7', 'neg_p3_q8', 'neg_p3_q9', 'neg_p3_q10', 'neg_p3_q11', 'neg_p3_q12', 'neg_p3_q13', 'neg_p3_q14', 'neg_p3_q15', 'neg_p3_q16', 'neg_p3_q17', 'neg_p3_q18', 'neg_p3_q19', 'neg_p4_q0', 'neg_p4_q1', 'neg_p4_q2', 'neg_p4_q3', 'neg_p4_q4', 'neg_p4_q5', 'neg_p4_q6', 'neg_p4_q7', 'neg_p4_q8', 'neg_p4_q9', 'neg_p4_q10', 'neg_p4_q11', 'neg_p4_q12', 'neg_p4_q13', 'neg_p4_q14', 'neg_p4_q15', 'neg_p4_q16', 'neg_p4_q17', 'neg_p4_q18', 'neg_p4_q19', 'neutral_p1_q0', 'neutral_p1_q1', 'neutral_p1_q2', 'neutral_p1_q3', 'neutral_p1_q4', 'neutral_p1_q5', 'neutral_p1_q6', 'neutral_p1_q7', 'neutral_p1_q8', 'neutral_p1_q9', 'neutral_p1_q10', 'neutral_p1_q11', 'neutral_p1_q12', 'neutral_p1_q13', 'neutral_p1_q14', 'neutral_p1_q15', 'neutral_p1_q16', 'neutral_p1_q17', 'neutral_p1_q18', 'neutral_p1_q19', 'neutral_p2_q0', 'neutral_p2_q1', 'neutral_p2_q2', 'neutral_p2_q3', 'neutral_p2_q4', 'neutral_p2_q5', 'neutral_p2_q6', 'neutral_p2_q7', 'neutral_p2_q8', 'neutral_p2_q9', 'neutral_p2_q10', 'neutral_p2_q11', 'neutral_p2_q12', 'neutral_p2_q13', 'neutral_p2_q14', 'neutral_p2_q15', 'neutral_p2_q16', 'neutral_p2_q17', 'neutral_p2_q18', 'neutral_p2_q19', 'neutral_p3_q0', 'neutral_p3_q1', 'neutral_p3_q2', 'neutral_p3_q3', 'neutral_p3_q4', 'neutral_p3_q5', 'neutral_p3_q6', 'neutral_p3_q7', 'neutral_p3_q8', 'neutral_p3_q9', 'neutral_p3_q10', 'neutral_p3_q11', 'neutral_p3_q12', 'neutral_p3_q13', 'neutral_p3_q14', 'neutral_p3_q15', 'neutral_p3_q16', 'neutral_p3_q17', 'neutral_p3_q18', 'neutral_p3_q19', 'neutral_p4_q0', 'neutral_p4_q1', 'neutral_p4_q2', 'neutral_p4_q3', 'neutral_p4_q4', 'neutral_p4_q5', 'neutral_p4_q6', 'neutral_p4_q7', 'neutral_p4_q8', 'neutral_p4_q9', 'neutral_p4_q10', 'neutral_p4_q11', 'neutral_p4_q12', 'neutral_p4_q13', 'neutral_p4_q14', 'neutral_p4_q15', 'neutral_p4_q16', 'neutral_p4_q17', 'neutral_p4_q18', 'neutral_p4_q19'])\n",
      "300\n"
     ]
    }
   ],
   "source": [
    "other = torch.load('/root/git/persona-subspace/traits/data/response_activations/absolutist.pt')\n",
    "\n",
    "print(other.keys())\n",
    "print(len(other.keys()))"
   ]
  },
  {
   "cell_type": "code",
   "execution_count": 29,
   "id": "0dccf78f",
   "metadata": {},
   "outputs": [],
   "source": [
    "for k, v in data.items():\n",
    "    assert v.shape == torch.Size([46, 4608])"
   ]
  },
  {
   "cell_type": "code",
   "execution_count": 11,
   "id": "6d187174",
   "metadata": {},
   "outputs": [
    {
     "name": "stdout",
     "output_type": "stream",
     "text": [
      "dict_keys(['pos_p0_q0', 'neg_p0_q0', 'default_p0_q0', 'pos_p0_q1', 'neg_p0_q1', 'default_p0_q1', 'pos_p0_q2', 'neg_p0_q2', 'default_p0_q2', 'pos_p0_q3', 'neg_p0_q3', 'default_p0_q3', 'pos_p0_q4', 'neg_p0_q4', 'default_p0_q4', 'pos_p0_q5', 'neg_p0_q5', 'default_p0_q5', 'pos_p0_q6', 'neg_p0_q6', 'default_p0_q6', 'pos_p0_q7', 'neg_p0_q7', 'default_p0_q7', 'pos_p0_q8', 'neg_p0_q8', 'default_p0_q8', 'pos_p0_q9', 'neg_p0_q9', 'default_p0_q9', 'pos_p0_q10', 'neg_p0_q10', 'default_p0_q10', 'pos_p0_q11', 'neg_p0_q11', 'default_p0_q11', 'pos_p0_q12', 'neg_p0_q12', 'default_p0_q12', 'pos_p0_q13', 'neg_p0_q13', 'default_p0_q13', 'pos_p0_q14', 'neg_p0_q14', 'default_p0_q14', 'pos_p0_q15', 'neg_p0_q15', 'default_p0_q15', 'pos_p0_q16', 'neg_p0_q16', 'default_p0_q16', 'pos_p0_q17', 'neg_p0_q17', 'default_p0_q17', 'pos_p0_q18', 'neg_p0_q18', 'default_p0_q18', 'pos_p0_q19', 'neg_p0_q19', 'default_p0_q19', 'pos_p1_q0', 'neg_p1_q0', 'pos_p1_q1', 'neg_p1_q1', 'pos_p1_q2', 'neg_p1_q2', 'pos_p1_q3', 'neg_p1_q3', 'pos_p1_q4', 'neg_p1_q4', 'pos_p1_q5', 'neg_p1_q5', 'pos_p1_q6', 'neg_p1_q6', 'pos_p1_q7', 'neg_p1_q7', 'pos_p1_q8', 'neg_p1_q8', 'pos_p1_q9', 'neg_p1_q9', 'pos_p1_q10', 'neg_p1_q10', 'pos_p1_q11', 'neg_p1_q11', 'pos_p1_q12', 'neg_p1_q12', 'pos_p1_q13', 'neg_p1_q13', 'pos_p1_q14', 'neg_p1_q14', 'pos_p1_q15', 'neg_p1_q15', 'pos_p1_q16', 'neg_p1_q16', 'pos_p1_q17', 'neg_p1_q17', 'pos_p1_q18', 'neg_p1_q18', 'pos_p1_q19', 'neg_p1_q19', 'pos_p2_q0', 'neg_p2_q0', 'pos_p2_q1', 'neg_p2_q1', 'pos_p2_q2', 'neg_p2_q2', 'pos_p2_q3', 'neg_p2_q3', 'pos_p2_q4', 'neg_p2_q4', 'pos_p2_q5', 'neg_p2_q5', 'pos_p2_q6', 'neg_p2_q6', 'pos_p2_q7', 'neg_p2_q7', 'pos_p2_q8', 'neg_p2_q8', 'pos_p2_q9', 'neg_p2_q9', 'pos_p2_q10', 'neg_p2_q10', 'pos_p2_q11', 'neg_p2_q11', 'pos_p2_q12', 'neg_p2_q12', 'pos_p2_q13', 'neg_p2_q13', 'pos_p2_q14', 'neg_p2_q14', 'pos_p2_q15', 'neg_p2_q15', 'pos_p2_q16', 'neg_p2_q16', 'pos_p2_q17', 'neg_p2_q17', 'pos_p2_q18', 'neg_p2_q18', 'pos_p2_q19', 'neg_p2_q19', 'pos_p3_q0', 'neg_p3_q0', 'pos_p3_q1', 'neg_p3_q1', 'pos_p3_q2', 'neg_p3_q2', 'pos_p3_q3', 'neg_p3_q3', 'pos_p3_q4', 'neg_p3_q4', 'pos_p3_q5', 'neg_p3_q5', 'pos_p3_q6', 'neg_p3_q6', 'pos_p3_q7', 'neg_p3_q7', 'pos_p3_q8', 'neg_p3_q8', 'pos_p3_q9', 'neg_p3_q9', 'pos_p3_q10', 'neg_p3_q10', 'pos_p3_q11', 'neg_p3_q11', 'pos_p3_q12', 'neg_p3_q12', 'pos_p3_q13', 'neg_p3_q13', 'pos_p3_q14', 'neg_p3_q14', 'pos_p3_q15', 'neg_p3_q15', 'pos_p3_q16', 'neg_p3_q16', 'pos_p3_q17', 'neg_p3_q17', 'pos_p3_q18', 'neg_p3_q18', 'pos_p3_q19', 'neg_p3_q19', 'pos_p4_q0', 'neg_p4_q0', 'pos_p4_q1', 'neg_p4_q1', 'pos_p4_q2', 'neg_p4_q2', 'pos_p4_q3', 'neg_p4_q3', 'pos_p4_q4', 'neg_p4_q4', 'pos_p4_q5', 'neg_p4_q5', 'pos_p4_q6', 'neg_p4_q6', 'pos_p4_q7', 'neg_p4_q7', 'pos_p4_q8', 'neg_p4_q8', 'pos_p4_q9', 'neg_p4_q9', 'pos_p4_q10', 'neg_p4_q10', 'pos_p4_q11', 'neg_p4_q11', 'pos_p4_q12', 'neg_p4_q12', 'pos_p4_q13', 'neg_p4_q13', 'pos_p4_q14', 'neg_p4_q14', 'pos_p4_q15', 'neg_p4_q15', 'pos_p4_q16', 'neg_p4_q16', 'pos_p4_q17', 'neg_p4_q17', 'pos_p4_q18', 'neg_p4_q18', 'pos_p4_q19', 'neg_p4_q19'])\n"
     ]
    }
   ],
   "source": [
    "scores = json.load(open('/root/git/persona-subspace/traits/data/extract_scores/absolutist.json'))\n",
    "print(scores.keys())"
   ]
  }
 ],
 "metadata": {
  "kernelspec": {
   "display_name": ".venv",
   "language": "python",
   "name": "python3"
  },
  "language_info": {
   "codemirror_mode": {
    "name": "ipython",
    "version": 3
   },
   "file_extension": ".py",
   "mimetype": "text/x-python",
   "name": "python",
   "nbconvert_exporter": "python",
   "pygments_lexer": "ipython3",
   "version": "3.13.6"
  }
 },
 "nbformat": 4,
 "nbformat_minor": 5
}
