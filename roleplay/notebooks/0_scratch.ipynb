{
 "cells": [
  {
   "cell_type": "markdown",
   "id": "6da9a732",
   "metadata": {},
   "source": [
    "# Scratch pad"
   ]
  },
  {
   "cell_type": "code",
   "execution_count": 1,
   "id": "134b37cd",
   "metadata": {},
   "outputs": [
    {
     "name": "stdout",
     "output_type": "stream",
     "text": [
      "CUDA available: True\n",
      "CUDA device: NVIDIA H100 80GB HBM3\n",
      "CUDA device: NVIDIA H100 80GB HBM3\n"
     ]
    }
   ],
   "source": [
    "import json\n",
    "import torch\n",
    "\n",
    "cuda = torch.cuda.is_available()\n",
    "print(f\"CUDA available: {cuda}\")\n",
    "\n",
    "print(f\"CUDA device: {torch.cuda.get_device_name(0)}\")\n",
    "print(f\"CUDA device: {torch.cuda.get_device_name(1)}\")"
   ]
  },
  {
   "cell_type": "code",
   "execution_count": 13,
   "id": "963b256c",
   "metadata": {},
   "outputs": [],
   "source": [
    "file = torch.load(\"/root/git/persona-subspace/traits/data/response_activations/zealous.pt\")"
   ]
  },
  {
   "cell_type": "code",
   "execution_count": 15,
   "id": "6a7efaeb",
   "metadata": {},
   "outputs": [
    {
     "name": "stdout",
     "output_type": "stream",
     "text": [
      "dict_keys(['pos_0', 'pos_1', 'pos_2', 'pos_3', 'pos_4', 'pos_5', 'pos_6', 'pos_7', 'pos_8', 'pos_9', 'pos_10', 'pos_11', 'pos_12', 'pos_13', 'pos_14', 'pos_15', 'pos_16', 'pos_17', 'pos_18', 'pos_19', 'neg_0', 'neg_1', 'neg_2', 'neg_3', 'neg_4', 'neg_5', 'neg_6', 'neg_7', 'neg_8', 'neg_9', 'neg_10', 'neg_11', 'neg_12', 'neg_13', 'neg_14', 'neg_15', 'neg_16', 'neg_17', 'neg_18', 'neg_19', 'default_0', 'default_1', 'default_2', 'default_3', 'default_4', 'default_5', 'default_6', 'default_7', 'default_8', 'default_9', 'default_10', 'default_11', 'default_12', 'default_13', 'default_14', 'default_15', 'default_16', 'default_17', 'default_18', 'default_19'])\n",
      "torch.Size([46, 4608])\n"
     ]
    }
   ],
   "source": [
    "print(file.keys())\n",
    "\n",
    "print(file['pos_0'].shape)"
   ]
  },
  {
   "cell_type": "code",
   "execution_count": null,
   "id": "72e3b86d",
   "metadata": {},
   "outputs": [],
   "source": []
  }
 ],
 "metadata": {
  "kernelspec": {
   "display_name": ".venv",
   "language": "python",
   "name": "python3"
  },
  "language_info": {
   "codemirror_mode": {
    "name": "ipython",
    "version": 3
   },
   "file_extension": ".py",
   "mimetype": "text/x-python",
   "name": "python",
   "nbconvert_exporter": "python",
   "pygments_lexer": "ipython3",
   "version": "3.12.11"
  }
 },
 "nbformat": 4,
 "nbformat_minor": 5
}
