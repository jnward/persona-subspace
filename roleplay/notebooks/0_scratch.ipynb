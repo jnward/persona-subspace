{
 "cells": [
  {
   "cell_type": "markdown",
   "id": "6da9a732",
   "metadata": {},
   "source": [
    "# Scratch pad"
   ]
  },
  {
   "cell_type": "code",
   "execution_count": 1,
   "id": "134b37cd",
   "metadata": {},
   "outputs": [
    {
     "name": "stdout",
     "output_type": "stream",
     "text": [
      "CUDA available: True\n",
      "CUDA device: NVIDIA H100 80GB HBM3\n",
      "CUDA device: NVIDIA H100 80GB HBM3\n"
     ]
    }
   ],
   "source": [
    "import json\n",
    "import torch\n",
    "\n",
    "cuda = torch.cuda.is_available()\n",
    "print(f\"CUDA available: {cuda}\")\n",
    "\n",
    "print(f\"CUDA device: {torch.cuda.get_device_name(0)}\")\n",
    "print(f\"CUDA device: {torch.cuda.get_device_name(1)}\")"
   ]
  },
  {
   "cell_type": "code",
   "execution_count": null,
   "id": "963b256c",
   "metadata": {},
   "outputs": [],
   "source": [
    "file = torch.load(\"/workspace/traits/activations/absolutist.pt\")"
   ]
  }
 ],
 "metadata": {
  "kernelspec": {
   "display_name": ".venv",
   "language": "python",
   "name": "python3"
  },
  "language_info": {
   "codemirror_mode": {
    "name": "ipython",
    "version": 3
   },
   "file_extension": ".py",
   "mimetype": "text/x-python",
   "name": "python",
   "nbconvert_exporter": "python",
   "pygments_lexer": "ipython3",
   "version": "3.13.5"
  }
 },
 "nbformat": 4,
 "nbformat_minor": 5
}
