{
 "cells": [
  {
   "cell_type": "markdown",
   "metadata": {},
   "source": [
    "## Interactive Plotly Visualizations"
   ]
  },
  {
   "cell_type": "markdown",
   "metadata": {},
   "source": [
    "# Feature Activation Comparison\n",
    "\n",
    "This notebook compares feature activations between personal_general and personal/uploads experiments, filtering for active features and combining the results with proper descriptions."
   ]
  },
  {
   "cell_type": "code",
   "execution_count": 36,
   "metadata": {},
   "outputs": [
    {
     "name": "stdout",
     "output_type": "stream",
     "text": [
      "Libraries imported successfully\n"
     ]
    }
   ],
   "source": [
    "import pandas as pd\n",
    "import os\n",
    "from pathlib import Path\n",
    "import numpy as np\n",
    "from typing import List, Dict, Tuple\n",
    "\n",
    "print(\"Libraries imported successfully\")"
   ]
  },
  {
   "cell_type": "markdown",
   "metadata": {},
   "source": [
    "## Configuration"
   ]
  },
  {
   "cell_type": "code",
   "execution_count": 37,
   "metadata": {},
   "outputs": [
    {
     "name": "stdout",
     "output_type": "stream",
     "text": [
      "Personal general directory: ./results/personal_general\n",
      "Personal uploads directory: ./results/personal/uploads\n",
      "Output file: active_personal_features_universal_prompts.csv\n",
      "Activation threshold: 0.0\n"
     ]
    }
   ],
   "source": [
    "# Paths\n",
    "PERSONAL_GENERAL_DIR = \"./results/personal_general\"\n",
    "PERSONAL_UPLOADS_DIR = \"./results/personal/uploads\"\n",
    "OUTPUT_FILE = \"active_personal_features_universal_prompts.csv\"\n",
    "\n",
    "# Activation threshold (features with activation_mean > 0 are considered active)\n",
    "ACTIVATION_THRESHOLD = 0.0\n",
    "\n",
    "print(f\"Personal general directory: {PERSONAL_GENERAL_DIR}\")\n",
    "print(f\"Personal uploads directory: {PERSONAL_UPLOADS_DIR}\")\n",
    "print(f\"Output file: {OUTPUT_FILE}\")\n",
    "print(f\"Activation threshold: {ACTIVATION_THRESHOLD}\")"
   ]
  },
  {
   "cell_type": "markdown",
   "metadata": {},
   "source": [
    "## Find Matching Experiments"
   ]
  },
  {
   "cell_type": "code",
   "execution_count": 38,
   "metadata": {},
   "outputs": [
    {
     "name": "stdout",
     "output_type": "stream",
     "text": [
      "Found 10 files in personal_general\n",
      "Found 10 files in personal/uploads\n",
      "Found 10 matching experiments\n",
      "\n",
      "Matching experiments:\n",
      "  - llama_trainer1_layer11_asst.csv\n",
      "  - llama_trainer1_layer11_endheader.csv\n",
      "  - llama_trainer1_layer11_newline.csv\n",
      "  - llama_trainer1_layer15_asst.csv\n",
      "  - llama_trainer1_layer15_endheader.csv\n",
      "  - llama_trainer1_layer15_newline.csv\n",
      "  - qwen_trainer1_layer11_asst.csv\n",
      "  - qwen_trainer1_layer11_newline.csv\n",
      "  - qwen_trainer1_layer15_asst.csv\n",
      "  - qwen_trainer1_layer15_newline.csv\n"
     ]
    }
   ],
   "source": [
    "def find_matching_experiments():\n",
    "    \"\"\"Find experiments that exist in both personal_general and personal/uploads directories.\"\"\"\n",
    "    \n",
    "    # Get CSV files from both directories\n",
    "    general_files = set()\n",
    "    uploads_files = set()\n",
    "    \n",
    "    if os.path.exists(PERSONAL_GENERAL_DIR):\n",
    "        general_files = {f for f in os.listdir(PERSONAL_GENERAL_DIR) if f.endswith('.csv')}\n",
    "    \n",
    "    if os.path.exists(PERSONAL_UPLOADS_DIR):\n",
    "        uploads_files = {f for f in os.listdir(PERSONAL_UPLOADS_DIR) if f.endswith('.csv')}\n",
    "    \n",
    "    # Find matching experiments\n",
    "    matching_experiments = general_files.intersection(uploads_files)\n",
    "    \n",
    "    print(f\"Found {len(general_files)} files in personal_general\")\n",
    "    print(f\"Found {len(uploads_files)} files in personal/uploads\")\n",
    "    print(f\"Found {len(matching_experiments)} matching experiments\")\n",
    "    \n",
    "    if matching_experiments:\n",
    "        print(\"\\nMatching experiments:\")\n",
    "        for exp in sorted(matching_experiments):\n",
    "            print(f\"  - {exp}\")\n",
    "    else:\n",
    "        print(\"\\nNo matching experiments found!\")\n",
    "    \n",
    "    return sorted(matching_experiments)\n",
    "\n",
    "matching_experiments = find_matching_experiments()"
   ]
  },
  {
   "cell_type": "markdown",
   "metadata": {},
   "source": [
    "## Process Each Experiment"
   ]
  },
  {
   "cell_type": "code",
   "execution_count": 39,
   "metadata": {},
   "outputs": [
    {
     "name": "stdout",
     "output_type": "stream",
     "text": [
      "\n",
      "Processing experiment: llama_trainer1_layer11_asst.csv\n",
      "  General data: 1 features\n",
      "  Uploads data: 1 features\n",
      "  Active features in general: 0\n",
      "  No active features found in llama_trainer1_layer11_asst.csv\n",
      "\n",
      "Processing experiment: llama_trainer1_layer11_endheader.csv\n",
      "  General data: 4 features\n",
      "  Uploads data: 4 features\n",
      "  Active features in general: 0\n",
      "  No active features found in llama_trainer1_layer11_endheader.csv\n",
      "\n",
      "Processing experiment: llama_trainer1_layer11_newline.csv\n",
      "  General data: 6 features\n",
      "  Uploads data: 6 features\n",
      "  Active features in general: 1\n",
      "  Combined features: 1\n",
      "\n",
      "Processing experiment: llama_trainer1_layer15_asst.csv\n",
      "  General data: 2 features\n",
      "  Uploads data: 2 features\n",
      "  Active features in general: 1\n",
      "  Combined features: 1\n",
      "\n",
      "Processing experiment: llama_trainer1_layer15_endheader.csv\n",
      "  General data: 6 features\n",
      "  Uploads data: 6 features\n",
      "  Active features in general: 2\n",
      "  Combined features: 2\n",
      "\n",
      "Processing experiment: llama_trainer1_layer15_newline.csv\n",
      "  General data: 7 features\n",
      "  Uploads data: 7 features\n",
      "  Active features in general: 0\n",
      "  No active features found in llama_trainer1_layer15_newline.csv\n",
      "\n",
      "Processing experiment: qwen_trainer1_layer11_asst.csv\n",
      "  General data: 8 features\n",
      "  Uploads data: 8 features\n",
      "  Active features in general: 5\n",
      "  Combined features: 5\n",
      "\n",
      "Processing experiment: qwen_trainer1_layer11_newline.csv\n",
      "  General data: 20 features\n",
      "  Uploads data: 20 features\n",
      "  Active features in general: 5\n",
      "  Combined features: 5\n",
      "\n",
      "Processing experiment: qwen_trainer1_layer15_asst.csv\n",
      "  General data: 7 features\n",
      "  Uploads data: 7 features\n",
      "  Active features in general: 1\n",
      "  Combined features: 1\n",
      "\n",
      "Processing experiment: qwen_trainer1_layer15_newline.csv\n",
      "  General data: 31 features\n",
      "  Uploads data: 31 features\n",
      "  Active features in general: 4\n",
      "  Combined features: 4\n",
      "\n",
      "Processed 7 experiments successfully\n"
     ]
    }
   ],
   "source": [
    "def process_experiment(experiment_file: str) -> pd.DataFrame:\n",
    "    \"\"\"Process a single experiment by comparing general and uploads data.\"\"\"\n",
    "    \n",
    "    print(f\"\\nProcessing experiment: {experiment_file}\")\n",
    "    \n",
    "    # Load both CSV files\n",
    "    general_path = os.path.join(PERSONAL_GENERAL_DIR, experiment_file)\n",
    "    uploads_path = os.path.join(PERSONAL_UPLOADS_DIR, experiment_file)\n",
    "    \n",
    "    try:\n",
    "        general_df = pd.read_csv(general_path)\n",
    "        uploads_df = pd.read_csv(uploads_path)\n",
    "        \n",
    "        print(f\"  General data: {len(general_df)} features\")\n",
    "        print(f\"  Uploads data: {len(uploads_df)} features\")\n",
    "        \n",
    "    except Exception as e:\n",
    "        print(f\"  Error loading files: {e}\")\n",
    "        return pd.DataFrame()\n",
    "    \n",
    "    # Filter general data for active features (activation_mean > threshold)\n",
    "    active_general = general_df[general_df['activation_mean'] > ACTIVATION_THRESHOLD].copy()\n",
    "    print(f\"  Active features in general: {len(active_general)}\")\n",
    "    \n",
    "    if len(active_general) == 0:\n",
    "        print(f\"  No active features found in {experiment_file}\")\n",
    "        return pd.DataFrame()\n",
    "    \n",
    "    # Create a lookup dictionary for uploads data\n",
    "    uploads_lookup = {}\n",
    "    for _, row in uploads_df.iterrows():\n",
    "        feature_id = row['feature_id']\n",
    "        uploads_lookup[feature_id] = {\n",
    "            'chat_desc': row.get('chat_desc', ''),\n",
    "            'pt_desc': row.get('pt_desc', ''),\n",
    "            'type': row.get('type', ''),\n",
    "            'personal_mean': row.get('assistant_mean', ''),\n",
    "            'personal_cohens_d': row.get('cohens_d', '')\n",
    "        }\n",
    "    \n",
    "    # Combine data: use general activation data but uploads descriptions and personal stats\n",
    "    combined_data = []\n",
    "    \n",
    "    for _, row in active_general.iterrows():\n",
    "        feature_id = row['feature_id']\n",
    "        \n",
    "        # Get data from uploads if available\n",
    "        if feature_id in uploads_lookup:\n",
    "            uploads_data = uploads_lookup[feature_id]\n",
    "        else:\n",
    "            # Fallback to general data (likely empty)\n",
    "            uploads_data = {\n",
    "                'chat_desc': row.get('chat_desc', ''),\n",
    "                'pt_desc': row.get('pt_desc', ''),\n",
    "                'type': row.get('type', ''),\n",
    "                'personal_mean': '',\n",
    "                'personal_cohens_d': ''\n",
    "            }\n",
    "        \n",
    "        # Create combined record\n",
    "        combined_record = {\n",
    "            'feature_id': feature_id,\n",
    "            'general_activation_mean': row['activation_mean'],\n",
    "            'general_activation_max': row['activation_max'],\n",
    "            'general_activation_min': row['activation_min'],\n",
    "            'personal_mean': uploads_data['personal_mean'],\n",
    "            'personal_cohens_d': uploads_data['personal_cohens_d'],\n",
    "            'chat_desc': uploads_data['chat_desc'],\n",
    "            'pt_desc': uploads_data['pt_desc'],\n",
    "            'type': uploads_data['type'],\n",
    "            'link': row.get('link', ''),\n",
    "            'source': experiment_file\n",
    "        }\n",
    "        \n",
    "        combined_data.append(combined_record)\n",
    "    \n",
    "    result_df = pd.DataFrame(combined_data)\n",
    "    print(f\"  Combined features: {len(result_df)}\")\n",
    "    \n",
    "    return result_df\n",
    "\n",
    "# Process all matching experiments\n",
    "all_combined_data = []\n",
    "\n",
    "for experiment in matching_experiments:\n",
    "    experiment_data = process_experiment(experiment)\n",
    "    if not experiment_data.empty:\n",
    "        all_combined_data.append(experiment_data)\n",
    "\n",
    "print(f\"\\nProcessed {len(all_combined_data)} experiments successfully\")"
   ]
  },
  {
   "cell_type": "markdown",
   "metadata": {},
   "source": [
    "## Combine All Results"
   ]
  },
  {
   "cell_type": "code",
   "execution_count": 40,
   "metadata": {},
   "outputs": [
    {
     "name": "stdout",
     "output_type": "stream",
     "text": [
      "\n",
      "Final combined dataset:\n",
      "  Total features: 19\n",
      "  Unique features: 19\n",
      "  Experiments: 7\n",
      "\n",
      "Activation statistics:\n",
      "  Mean activation: 0.4530\n",
      "  Max activation: 4.6284\n",
      "  Min activation: 0.0029\n",
      "\n",
      "Features per experiment:\n",
      "  qwen_trainer1_layer11_asst.csv: 5 features\n",
      "  qwen_trainer1_layer11_newline.csv: 5 features\n",
      "  qwen_trainer1_layer15_newline.csv: 4 features\n",
      "  llama_trainer1_layer15_endheader.csv: 2 features\n",
      "  llama_trainer1_layer11_newline.csv: 1 features\n",
      "  llama_trainer1_layer15_asst.csv: 1 features\n",
      "  qwen_trainer1_layer15_asst.csv: 1 features\n"
     ]
    }
   ],
   "source": [
    "if all_combined_data:\n",
    "    # Combine all experiment data\n",
    "    final_combined_df = pd.concat(all_combined_data, ignore_index=True)\n",
    "    \n",
    "    # Sort by source (to group experiments) and then by general_activation_mean descending\n",
    "    final_combined_df = final_combined_df.sort_values(['source', 'general_activation_mean'], ascending=[True, False])\n",
    "    \n",
    "    print(f\"\\nFinal combined dataset:\")\n",
    "    print(f\"  Total features: {len(final_combined_df)}\")\n",
    "    print(f\"  Unique features: {final_combined_df['feature_id'].nunique()}\")\n",
    "    print(f\"  Experiments: {final_combined_df['source'].nunique()}\")\n",
    "    \n",
    "    # Show statistics\n",
    "    print(f\"\\nActivation statistics:\")\n",
    "    print(f\"  Mean activation: {final_combined_df['general_activation_mean'].mean():.4f}\")\n",
    "    print(f\"  Max activation: {final_combined_df['general_activation_mean'].max():.4f}\")\n",
    "    print(f\"  Min activation: {final_combined_df['general_activation_mean'].min():.4f}\")\n",
    "    \n",
    "    # Show features per experiment\n",
    "    print(f\"\\nFeatures per experiment:\")\n",
    "    source_counts = final_combined_df['source'].value_counts()\n",
    "    for source, count in source_counts.items():\n",
    "        print(f\"  {source}: {count} features\")\n",
    "    \n",
    "else:\n",
    "    print(\"\\nNo data to combine!\")\n",
    "    final_combined_df = pd.DataFrame()"
   ]
  },
  {
   "cell_type": "markdown",
   "metadata": {},
   "source": [
    "## Save Results"
   ]
  },
  {
   "cell_type": "code",
   "execution_count": 41,
   "metadata": {},
   "outputs": [
    {
     "name": "stdout",
     "output_type": "stream",
     "text": [
      "\n",
      "Results saved to: active_personal_features_universal_prompts.csv\n",
      "\n",
      "Preview of top 10 features:\n",
      " feature_id  general_activation_mean  personal_mean                                                                                                 chat_desc                               source\n",
      "     126716                 0.054600       0.141682                                                                              newline before nsfw roleplay   llama_trainer1_layer11_newline.csv\n",
      "      27476                 0.011086       0.115445                            symbols, metaphors, representations (especially in role-playing scenarios) ???      llama_trainer1_layer15_asst.csv\n",
      "      59035                 0.036272       0.244919                                     instructions for role-playing, requirements, schema, templates, rules llama_trainer1_layer15_endheader.csv\n",
      "      47776                 0.002858       0.154815                                                             programmatic instructions for processing text llama_trainer1_layer15_endheader.csv\n",
      "      81528                 4.628400       0.234832                            \"assistant\" header token after being asked to do a writing or copyediting task       qwen_trainer1_layer11_asst.csv\n",
      "      49925                 0.246032       0.109601                                            \"assistant\" header token after being asked follow-up questions       qwen_trainer1_layer11_asst.csv\n",
      "      18703                 0.126977       0.832151                           AI chatbot being given elaborate instructions (including attempts to jailbreak)       qwen_trainer1_layer11_asst.csv\n",
      "     130794                 0.070531       0.121892                                       \"assistant\" header token after being asked to write about chemicals       qwen_trainer1_layer11_asst.csv\n",
      "      30068                 0.009544       0.478012                               asimov's three laws of robotics, AI chatbots referring to their programming       qwen_trainer1_layer11_asst.csv\n",
      "      90235                 0.034469       0.114961 user instructing AI chatbot or the AI chatbot agreeing to role-play, impersonate, or simulate a character    qwen_trainer1_layer11_newline.csv\n",
      "\n",
      "Features with descriptions: 19 / 19\n",
      "\n",
      "Top 5 features with descriptions:\n",
      "  Feature 126716 (general: 0.055, personal: 0.141681537): newline before nsfw roleplay\n",
      "  Feature 27476 (general: 0.011, personal: 0.1154452562): symbols, metaphors, representations (especially in role-playing scenarios) ???\n",
      "  Feature 59035 (general: 0.036, personal: 0.2449186295): instructions for role-playing, requirements, schema, templates, rules\n",
      "  Feature 47776 (general: 0.003, personal: 0.1548154205): programmatic instructions for processing text\n",
      "  Feature 81528 (general: 4.628, personal: 0.23483181): \"assistant\" header token after being asked to do a writing or copyediting task\n",
      "\n",
      "Final column structure:\n",
      "  - feature_id\n",
      "  - general_activation_mean\n",
      "  - general_activation_max\n",
      "  - general_activation_min\n",
      "  - personal_mean\n",
      "  - personal_cohens_d\n",
      "  - chat_desc\n",
      "  - pt_desc\n",
      "  - type\n",
      "  - link\n",
      "  - source\n"
     ]
    }
   ],
   "source": [
    "if not final_combined_df.empty:\n",
    "    # Save to CSV\n",
    "    final_combined_df.to_csv(OUTPUT_FILE, index=False)\n",
    "    print(f\"\\nResults saved to: {OUTPUT_FILE}\")\n",
    "    \n",
    "    # Show preview\n",
    "    print(f\"\\nPreview of top 10 features:\")\n",
    "    preview_df = final_combined_df.head(10)\n",
    "    print(preview_df[['feature_id', 'general_activation_mean', 'personal_mean', 'chat_desc', 'source']].to_string(index=False))\n",
    "    \n",
    "    # Show features with descriptions\n",
    "    features_with_desc = final_combined_df[final_combined_df['chat_desc'].str.len() > 0]\n",
    "    print(f\"\\nFeatures with descriptions: {len(features_with_desc)} / {len(final_combined_df)}\")\n",
    "    \n",
    "    if len(features_with_desc) > 0:\n",
    "        print(f\"\\nTop 5 features with descriptions:\")\n",
    "        desc_preview = features_with_desc.head(5)\n",
    "        for _, row in desc_preview.iterrows():\n",
    "            print(f\"  Feature {row['feature_id']} (general: {row['general_activation_mean']:.3f}, personal: {row['personal_mean']}): {row['chat_desc']}\")\n",
    "    \n",
    "    # Show column structure\n",
    "    print(f\"\\nFinal column structure:\")\n",
    "    for col in final_combined_df.columns:\n",
    "        print(f\"  - {col}\")\n",
    "    \n",
    "else:\n",
    "    print(\"\\nNo results to save!\")"
   ]
  },
  {
   "cell_type": "markdown",
   "metadata": {},
   "source": [
    "## Visualization: Feature Activation Comparison"
   ]
  },
  {
   "cell_type": "code",
   "execution_count": 46,
   "metadata": {},
   "outputs": [
    {
     "name": "stdout",
     "output_type": "stream",
     "text": [
      "Data for plotting: 19 features with valid personal_mean values\n",
      "Features with missing personal_mean: 0\n"
     ]
    },
    {
     "data": {
      "image/png": "[encoded data removed]",
      "text/plain": [
       "<Figure size 1200x800 with 1 Axes>"
      ]
     },
     "metadata": {},
     "output_type": "display_data"
    },
    {
     "name": "stdout",
     "output_type": "stream",
     "text": [
      "\\nScatter Plot Insights:\n",
      "  Features more active in personal context: 15\n",
      "  Features more active in general context: 4\n",
      "  Biggest personal boost: Feature 29717\n"
     ]
    }
   ],
   "source": [
    "import matplotlib.pyplot as plt\n",
    "import seaborn as sns\n",
    "import numpy as np\n",
    "\n",
    "# Set up plotting style\n",
    "plt.style.use('default')\n",
    "sns.set_palette(\"husl\")\n",
    "\n",
    "if not final_combined_df.empty:\n",
    "    # Convert personal_mean to numeric, handling any string values\n",
    "    final_combined_df['personal_mean_numeric'] = pd.to_numeric(final_combined_df['personal_mean'], errors='coerce')\n",
    "    \n",
    "    # Filter out rows where personal_mean couldn't be converted\n",
    "    plot_df = final_combined_df[final_combined_df['personal_mean_numeric'].notna()].copy()\n",
    "    \n",
    "    print(f\"Data for plotting: {len(plot_df)} features with valid personal_mean values\")\n",
    "    print(f\"Features with missing personal_mean: {len(final_combined_df) - len(plot_df)}\")\n",
    "    \n",
    "    if len(plot_df) > 0:\n",
    "        # Create color mapping for sources\n",
    "        unique_sources = plot_df['source'].unique()\n",
    "        colors = plt.cm.Set3(np.linspace(0, 1, len(unique_sources)))\n",
    "        source_colors = dict(zip(unique_sources, colors))\n",
    "        \n",
    "        # Static matplotlib plot\n",
    "        plt.figure(figsize=(12, 8))\n",
    "        \n",
    "        for source in unique_sources:\n",
    "            source_data = plot_df[plot_df['source'] == source]\n",
    "            \n",
    "            # Plot scatter points\n",
    "            plt.scatter(source_data['general_activation_mean'], \n",
    "                       source_data['personal_mean_numeric'],\n",
    "                       c=[source_colors[source]], \n",
    "                       label=source.replace('_', ' ').replace('.csv', ''),\n",
    "                       alpha=0.7, s=60)\n",
    "            \n",
    "            # Add feature ID labels for points\n",
    "            for _, row in source_data.iterrows():\n",
    "                plt.annotate(f\"{row['feature_id']}\", \n",
    "                           (row['general_activation_mean'], row['personal_mean_numeric']),\n",
    "                           xytext=(5, 5), textcoords='offset points',\n",
    "                           fontsize=8, alpha=0.7)\n",
    "        \n",
    "        # Add diagonal reference line (where personal = general)\n",
    "        max_val = max(plot_df['general_activation_mean'].max(), plot_df['personal_mean_numeric'].max())\n",
    "        min_val = min(plot_df['general_activation_mean'].min(), plot_df['personal_mean_numeric'].min())\n",
    "        plt.plot([min_val, max_val], [min_val, max_val], 'k--', alpha=0.5, label='Personal = General')\n",
    "        \n",
    "        plt.xlabel('Mean Activation on General Prompts')\n",
    "        plt.ylabel('Mean Activation on Personal Prompts')\n",
    "        plt.title('Activations of Personal Features on Personal vs. General Prompts')\n",
    "        plt.legend(bbox_to_anchor=(1.05, 1), loc='upper left')\n",
    "        plt.grid(True, alpha=0.3)\n",
    "        plt.tight_layout()\n",
    "        plt.show()\n",
    "        \n",
    "        # Print some insights\n",
    "        print(f\"\\\\nScatter Plot Insights:\")\n",
    "        above_diagonal = plot_df[plot_df['personal_mean_numeric'] > plot_df['general_activation_mean']]\n",
    "        below_diagonal = plot_df[plot_df['personal_mean_numeric'] < plot_df['general_activation_mean']]\n",
    "        \n",
    "        print(f\"  Features more active in personal context: {len(above_diagonal)}\")\n",
    "        print(f\"  Features more active in general context: {len(below_diagonal)}\")\n",
    "        \n",
    "        if len(above_diagonal) > 0:\n",
    "            print(f\"  Biggest personal boost: Feature {above_diagonal.loc[above_diagonal['personal_mean_numeric'] - above_diagonal['general_activation_mean'] == (above_diagonal['personal_mean_numeric'] - above_diagonal['general_activation_mean']).max(), 'feature_id'].iloc[0]}\")\n",
    "        \n",
    "    else:\n",
    "        print(\"No valid data for plotting scatter plot\")\n",
    "        \n",
    "else:\n",
    "    print(\"No data available for plotting\")"
   ]
  },
  {
   "cell_type": "code",
   "execution_count": 47,
   "metadata": {},
   "outputs": [
    {
     "data": {
      "image/png": "[encoded data removed]",
      "text/plain": [
       "<Figure size 1500x800 with 1 Axes>"
      ]
     },
     "metadata": {},
     "output_type": "display_data"
    },
    {
     "name": "stdout",
     "output_type": "stream",
     "text": [
      "\\nDifference Plot Insights:\n",
      "  Features more active in personal context: 15\n",
      "  Features more active in general context: 4\n",
      "  Mean difference: -0.1339\n",
      "  Largest positive difference: 1.6620\n",
      "  Largest negative difference: -4.3936\n",
      "  Biggest personal boost: Feature 29717 (+1.6620)\n",
      "    Description: AI chatbot response of \"i'm a/an\" to questions of \"who are you\"\n",
      "  Biggest general boost: Feature 81528 (-4.3936)\n",
      "    Description: \"assistant\" header token after being asked to do a writing or copyediting task\n"
     ]
    }
   ],
   "source": [
    "if not final_combined_df.empty and len(plot_df) > 0:\n",
    "    # Plot 2: Difference Plot - Personal vs General Activation Difference\n",
    "    \n",
    "    # Calculate activation difference (personal - general)\n",
    "    plot_df['activation_difference'] = plot_df['personal_mean_numeric'] - plot_df['general_activation_mean']\n",
    "    \n",
    "    # Sort by activation difference (highest to lowest)\n",
    "    plot_df_sorted = plot_df.sort_values('activation_difference', ascending=False)\n",
    "    \n",
    "    # Create figure\n",
    "    plt.figure(figsize=(15, 8))\n",
    "    \n",
    "    # Create colors for each bar based on source\n",
    "    unique_sources = plot_df['source'].unique()\n",
    "    colors = plt.cm.Set3(np.linspace(0, 1, len(unique_sources)))\n",
    "    source_colors = dict(zip(unique_sources, colors))\n",
    "    \n",
    "    # Get colors for each bar\n",
    "    bar_colors = [source_colors[source] for source in plot_df_sorted['source']]\n",
    "    \n",
    "    # Plot bars\n",
    "    bars = plt.bar(range(len(plot_df_sorted)), \n",
    "                  plot_df_sorted['activation_difference'],\n",
    "                  color=bar_colors, \n",
    "                  alpha=0.7)\n",
    "    \n",
    "    # Add feature ID labels on bars\n",
    "    for i, (_, row) in enumerate(plot_df_sorted.iterrows()):\n",
    "        plt.annotate(f\"{row['feature_id']}\", \n",
    "                    (i, row['activation_difference']),\n",
    "                    ha='center', va='bottom' if row['activation_difference'] > 0 else 'top',\n",
    "                    fontsize=9, rotation=45)\n",
    "    \n",
    "    # Add horizontal line at y=0 (no difference)\n",
    "    plt.axhline(y=0, color='black', linestyle='--', alpha=0.5, label='No Difference')\n",
    "    \n",
    "    # Create legend for sources\n",
    "    legend_elements = [plt.Rectangle((0,0),1,1, facecolor=source_colors[source], alpha=0.7, \n",
    "                                   label=source.replace('_', ' ').replace('.csv', '')) \n",
    "                      for source in unique_sources]\n",
    "    legend_elements.append(plt.Line2D([0], [0], color='black', linestyle='--', alpha=0.5, label='No Difference'))\n",
    "    \n",
    "    # Formatting\n",
    "    plt.xlabel('Features')\n",
    "    plt.ylabel('Mean Activation Difference (Personal - General)')\n",
    "    plt.title('Activation Differences of Personal Features on Personal vs. General Prompts')\n",
    "    plt.legend(handles=legend_elements, loc='lower left')\n",
    "    plt.grid(True, alpha=0.3, axis='y')\n",
    "    \n",
    "    # Remove x-axis ticks but keep the label\n",
    "    plt.xticks([])\n",
    "    \n",
    "    plt.tight_layout()\n",
    "    plt.show()\n",
    "    \n",
    "    # Print insights\n",
    "    print(f\"\\\\nDifference Plot Insights:\")\n",
    "    positive_diff = plot_df[plot_df['activation_difference'] > 0]\n",
    "    negative_diff = plot_df[plot_df['activation_difference'] < 0]\n",
    "    \n",
    "    print(f\"  Features more active in personal context: {len(positive_diff)}\")\n",
    "    print(f\"  Features more active in general context: {len(negative_diff)}\")\n",
    "    print(f\"  Mean difference: {plot_df['activation_difference'].mean():.4f}\")\n",
    "    print(f\"  Largest positive difference: {plot_df['activation_difference'].max():.4f}\")\n",
    "    print(f\"  Largest negative difference: {plot_df['activation_difference'].min():.4f}\")\n",
    "    \n",
    "    if len(positive_diff) > 0:\n",
    "        biggest_personal = positive_diff.loc[positive_diff['activation_difference'].idxmax()]\n",
    "        print(f\"  Biggest personal boost: Feature {biggest_personal['feature_id']} (+{biggest_personal['activation_difference']:.4f})\")\n",
    "        print(f\"    Description: {biggest_personal['chat_desc']}\")\n",
    "    \n",
    "    if len(negative_diff) > 0:\n",
    "        biggest_general = negative_diff.loc[negative_diff['activation_difference'].idxmin()]\n",
    "        print(f\"  Biggest general boost: Feature {biggest_general['feature_id']} ({biggest_general['activation_difference']:.4f})\")\n",
    "        print(f\"    Description: {biggest_general['chat_desc']}\")\n",
    "\n",
    "else:\n",
    "    print(\"No valid data for plotting difference plot\")"
   ]
  },
  {
   "cell_type": "code",
   "execution_count": 65,
   "metadata": {},
   "outputs": [
    {
     "name": "stdout",
     "output_type": "stream",
     "text": [
      "Scatter plot saved as: interactive_scatter_feature_activations.html\n"
     ]
    },
    {
     "data": {
      "application/vnd.plotly.v1+json": {
       "config": {
        "plotlyServerURL": "https://plot.ly"
       },
       "data": [
        {
         "customdata": [
          [
           "newline before nsfw roleplay",
           "newline between nsfw description, violence",
           "llama_trainer1_layer11_newline"
          ]
         ],
         "hovertemplate": "<b>feature_id: %{hovertext}</b><br>chat_desc: %{customdata[0]}<br>pt_desc: %{customdata[1]}<br><extra></extra>",
         "hovertext": [
          126716
         ],
         "legendgroup": "llama_trainer1_layer11_newline",
         "marker": {
          "color": "#636EFA",
          "symbol": "circle"
         },
         "mode": "markers+text",
         "name": "llama_trainer1_layer11_newline",
         "orientation": "v",
         "showlegend": true,
         "text": [
          126716
         ],
         "textfont": {
          "size": 8
         },
         "textposition": "middle right",
         "type": "scatter",
         "x": [
          0.0545998029410839
         ],
         "xaxis": "x",
         "y": [
          0.141681537
         ],
         "yaxis": "y"
        },
        {
         "customdata": [
          [
           "symbols, metaphors, representations (especially in role-playing scenarios) ???",
           "symbolism, representations, synechdoche ???",
           "llama_trainer1_layer15_asst"
          ]
         ],
         "hovertemplate": "<b>feature_id: %{hovertext}</b><br>chat_desc: %{customdata[0]}<br>pt_desc: %{customdata[1]}<br><extra></extra>",
         "hovertext": [
          27476
         ],
         "legendgroup": "llama_trainer1_layer15_asst",
         "marker": {
          "color": "#EF553B",
          "symbol": "circle"
         },
         "mode": "markers+text",
         "name": "llama_trainer1_layer15_asst",
         "orientation": "v",
         "showlegend": true,
         "text": [
          27476
         ],
         "textfont": {
          "size": 8
         },
         "textposition": "middle right",
         "type": "scatter",
         "x": [
          0.0110858855769038
         ],
         "xaxis": "x",
         "y": [
          0.1154452562
         ],
         "yaxis": "y"
        },
        {
         "customdata": [
          [
           "instructions for role-playing, requirements, schema, templates, rules",
           "editing, helping write/publish/refine text, forum moderator",
           "llama_trainer1_layer15_endheader"
          ],
          [
           "programmatic instructions for processing text",
           "writing/translating feedback, literary criticism",
           "llama_trainer1_layer15_endheader"
          ]
         ],
         "hovertemplate": "<b>feature_id: %{hovertext}</b><br>chat_desc: %{customdata[0]}<br>pt_desc: %{customdata[1]}<br><extra></extra>",
         "hovertext": [
          59035,
          47776
         ],
         "legendgroup": "llama_trainer1_layer15_endheader",
         "marker": {
          "color": "#00CC96",
          "symbol": "circle"
         },
         "mode": "markers+text",
         "name": "llama_trainer1_layer15_endheader",
         "orientation": "v",
         "showlegend": true,
         "text": [
          59035,
          47776
         ],
         "textfont": {
          "size": 8
         },
         "textposition": "middle right",
         "type": "scatter",
         "x": [
          0.0362718068063259,
          0.0028584327083081
         ],
         "xaxis": "x",
         "y": [
          0.2449186295,
          0.1548154205
         ],
         "yaxis": "y"
        },
        {
         "customdata": [
          [
           "\"assistant\" header token after being asked to do a writing or copyediting task",
           "\"assistant\" token from descriptions of human assistant professions",
           "qwen_trainer1_layer11_asst"
          ],
          [
           "\"assistant\" header token after being asked follow-up questions",
           "colon before bash commands ???",
           "qwen_trainer1_layer11_asst"
          ],
          [
           "AI chatbot being given elaborate instructions (including attempts to jailbreak)",
           "very powerful fictional beings: superintelligent AI in sci-fi, electric appliances that can talk, witchcraft, voice of human nature",
           "qwen_trainer1_layer11_asst"
          ],
          [
           "\"assistant\" header token after being asked to write about chemicals",
           "\"assistant\" token from descriptions of human assistant professions",
           "qwen_trainer1_layer11_asst"
          ],
          [
           "asimov's three laws of robotics, AI chatbots referring to their programming",
           "asimov's three laws of robotics, thinking machines and robots in sci-fi including HAL from 2001: a space odyssey",
           "qwen_trainer1_layer11_asst"
          ]
         ],
         "hovertemplate": "<b>feature_id: %{hovertext}</b><br>chat_desc: %{customdata[0]}<br>pt_desc: %{customdata[1]}<br><extra></extra>",
         "hovertext": [
          81528,
          49925,
          18703,
          130794,
          30068
         ],
         "legendgroup": "qwen_trainer1_layer11_asst",
         "marker": {
          "color": "#AB63FA",
          "symbol": "circle"
         },
         "mode": "markers+text",
         "name": "qwen_trainer1_layer11_asst",
         "orientation": "v",
         "showlegend": true,
         "text": [
          81528,
          49925,
          18703,
          130794,
          30068
         ],
         "textfont": {
          "size": 8
         },
         "textposition": "middle right",
         "type": "scatter",
         "x": [
          4.628399848937988,
          0.2460324913263321,
          0.126977190375328,
          0.0705313012003898,
          0.0095440354198217
         ],
         "xaxis": "x",
         "y": [
          0.23483181,
          0.1096011028,
          0.8321509957,
          0.1218921319,
          0.4780123532
         ],
         "yaxis": "y"
        },
        {
         "customdata": [
          [
           "user instructing AI chatbot or the AI chatbot agreeing to role-play, impersonate, or simulate a character",
           "impersonating, portraying, or giving an impression of a character",
           "qwen_trainer1_layer11_newline"
          ],
          [
           "newline before \"hello\" in chinese",
           "newline or other text token before ???",
           "qwen_trainer1_layer11_newline"
          ],
          [
           "valuing or encouraging innovation",
           "valuing or encouraging innovation",
           "qwen_trainer1_layer11_newline"
          ],
          [
           "newline after \"assistant\" header token when the AI chatbot is asked to behave a certain way if christian",
           "???",
           "qwen_trainer1_layer11_newline"
          ],
          [
           "viewpoint, bird's eye view, first-person perspective",
           "the perspective of an organization (mainly healthcare system, government)",
           "qwen_trainer1_layer11_newline"
          ]
         ],
         "hovertemplate": "<b>feature_id: %{hovertext}</b><br>chat_desc: %{customdata[0]}<br>pt_desc: %{customdata[1]}<br><extra></extra>",
         "hovertext": [
          90235,
          6704,
          91607,
          68574,
          16030
         ],
         "legendgroup": "qwen_trainer1_layer11_newline",
         "marker": {
          "color": "#FFA15A",
          "symbol": "circle"
         },
         "mode": "markers+text",
         "name": "qwen_trainer1_layer11_newline",
         "orientation": "v",
         "showlegend": true,
         "text": [
          90235,
          6704,
          91607,
          68574,
          16030
         ],
         "textfont": {
          "size": 8
         },
         "textposition": "middle right",
         "type": "scatter",
         "x": [
          0.0344689898192882,
          0.0324214696884155,
          0.0199089385569095,
          0.0191452205181121,
          0.0101251835003495
         ],
         "xaxis": "x",
         "y": [
          0.1149614826,
          0.250195235,
          0.104783833,
          0.2105821371,
          0.1060605347
         ],
         "yaxis": "y"
        },
        {
         "customdata": [
          [
           "AI chatbot response of \"i'm a/an\" to questions of \"who are you\"",
           "???",
           "qwen_trainer1_layer15_asst"
          ]
         ],
         "hovertemplate": "<b>feature_id: %{hovertext}</b><br>chat_desc: %{customdata[0]}<br>pt_desc: %{customdata[1]}<br><extra></extra>",
         "hovertext": [
          29717
         ],
         "legendgroup": "qwen_trainer1_layer15_asst",
         "marker": {
          "color": "#19D3F3",
          "symbol": "circle"
         },
         "mode": "markers+text",
         "name": "qwen_trainer1_layer15_asst",
         "orientation": "v",
         "showlegend": true,
         "text": [
          29717
         ],
         "textfont": {
          "size": 8
         },
         "textposition": "middle right",
         "type": "scatter",
         "x": [
          0.011753867380321
         ],
         "xaxis": "x",
         "y": [
          1.67374897
         ],
         "yaxis": "y"
        },
        {
         "customdata": [
          [
           "newline before AI chatbot answers yes or no question about factual consistency, reasoning, or semantic content ",
           "newline before answer in wide range of contexts ???",
           "qwen_trainer1_layer15_newline"
          ],
          [
           "newline after being asked to give a one-sentence explainer",
           "newline before one-sentence summary or quote",
           "qwen_trainer1_layer15_newline"
          ],
          [
           "newline before AI chatbot response to generating a description of a chemical company",
           "token before a summary, blurb, or lede (often with preceding numbers giving desired length)",
           "qwen_trainer1_layer15_newline"
          ],
          [
           "newline before AI chatbot engages in nsfw role-play or being jailbroken ",
           "tokens before code errors, misbehaving, descriptions of colonialism, jingoism, self-put downs, sarcasm",
           "qwen_trainer1_layer15_newline"
          ]
         ],
         "hovertemplate": "<b>feature_id: %{hovertext}</b><br>chat_desc: %{customdata[0]}<br>pt_desc: %{customdata[1]}<br><extra></extra>",
         "hovertext": [
          49123,
          9953,
          48045,
          88910
         ],
         "legendgroup": "qwen_trainer1_layer15_newline",
         "marker": {
          "color": "#FF6692",
          "symbol": "circle"
         },
         "mode": "markers+text",
         "name": "qwen_trainer1_layer15_newline",
         "orientation": "v",
         "showlegend": true,
         "text": [
          49123,
          9953,
          48045,
          88910
         ],
         "textfont": {
          "size": 8
         },
         "textposition": "middle right",
         "type": "scatter",
         "x": [
          2.686073064804077,
          0.3320701718330383,
          0.2216365188360214,
          0.0531970970332622
         ],
         "xaxis": "x",
         "y": [
          0.3649736643,
          0.1824816316,
          0.4558918774,
          0.1652122587
         ],
         "yaxis": "y"
        },
        {
         "hovertemplate": "<extra></extra>",
         "line": {
          "color": "black",
          "dash": "dash"
         },
         "mode": "lines",
         "name": "Personal = General",
         "showlegend": true,
         "type": "scatter",
         "x": [
          0.0028584327083081,
          4.628399848937988
         ],
         "y": [
          0.0028584327083081,
          4.628399848937988
         ]
        }
       ],
       "layout": {
        "height": 600,
        "hovermode": "closest",
        "legend": {
         "title": {
          "text": "Source"
         },
         "tracegroupgap": 0
        },
        "template": {
         "data": {
          "bar": [
           {
            "error_x": {
             "color": "#2a3f5f"
            },
            "error_y": {
             "color": "#2a3f5f"
            },
            "marker": {
             "line": {
              "color": "#E5ECF6",
              "width": 0.5
             },
             "pattern": {
              "fillmode": "overlay",
              "size": 10,
              "solidity": 0.2
             }
            },
            "type": "bar"
           }
          ],
          "barpolar": [
           {
            "marker": {
             "line": {
              "color": "#E5ECF6",
              "width": 0.5
             },
             "pattern": {
              "fillmode": "overlay",
              "size": 10,
              "solidity": 0.2
             }
            },
            "type": "barpolar"
           }
          ],
          "carpet": [
           {
            "aaxis": {
             "endlinecolor": "#2a3f5f",
             "gridcolor": "white",
             "linecolor": "white",
             "minorgridcolor": "white",
             "startlinecolor": "#2a3f5f"
            },
            "baxis": {
             "endlinecolor": "#2a3f5f",
             "gridcolor": "white",
             "linecolor": "white",
             "minorgridcolor": "white",
             "startlinecolor": "#2a3f5f"
            },
            "type": "carpet"
           }
          ],
          "choropleth": [
           {
            "colorbar": {
             "outlinewidth": 0,
             "ticks": ""
            },
            "type": "choropleth"
           }
          ],
          "contour": [
           {
            "colorbar": {
             "outlinewidth": 0,
             "ticks": ""
            },
            "colorscale": [
             [
              0,
              "#0d0887"
             ],
             [
              0.1111111111111111,
              "#46039f"
             ],
             [
              0.2222222222222222,
              "#7201a8"
             ],
             [
              0.3333333333333333,
              "#9c179e"
             ],
             [
              0.4444444444444444,
              "#bd3786"
             ],
             [
              0.5555555555555556,
              "#d8576b"
             ],
             [
              0.6666666666666666,
              "#ed7953"
             ],
             [
              0.7777777777777778,
              "#fb9f3a"
             ],
             [
              0.8888888888888888,
              "#fdca26"
             ],
             [
              1,
              "#f0f921"
             ]
            ],
            "type": "contour"
           }
          ],
          "contourcarpet": [
           {
            "colorbar": {
             "outlinewidth": 0,
             "ticks": ""
            },
            "type": "contourcarpet"
           }
          ],
          "heatmap": [
           {
            "colorbar": {
             "outlinewidth": 0,
             "ticks": ""
            },
            "colorscale": [
             [
              0,
              "#0d0887"
             ],
             [
              0.1111111111111111,
              "#46039f"
             ],
             [
              0.2222222222222222,
              "#7201a8"
             ],
             [
              0.3333333333333333,
              "#9c179e"
             ],
             [
              0.4444444444444444,
              "#bd3786"
             ],
             [
              0.5555555555555556,
              "#d8576b"
             ],
             [
              0.6666666666666666,
              "#ed7953"
             ],
             [
              0.7777777777777778,
              "#fb9f3a"
             ],
             [
              0.8888888888888888,
              "#fdca26"
             ],
             [
              1,
              "#f0f921"
             ]
            ],
            "type": "heatmap"
           }
          ],
          "heatmapgl": [
           {
            "colorbar": {
             "outlinewidth": 0,
             "ticks": ""
            },
            "colorscale": [
             [
              0,
              "#0d0887"
             ],
             [
              0.1111111111111111,
              "#46039f"
             ],
             [
              0.2222222222222222,
              "#7201a8"
             ],
             [
              0.3333333333333333,
              "#9c179e"
             ],
             [
              0.4444444444444444,
              "#bd3786"
             ],
             [
              0.5555555555555556,
              "#d8576b"
             ],
             [
              0.6666666666666666,
              "#ed7953"
             ],
             [
              0.7777777777777778,
              "#fb9f3a"
             ],
             [
              0.8888888888888888,
              "#fdca26"
             ],
             [
              1,
              "#f0f921"
             ]
            ],
            "type": "heatmapgl"
           }
          ],
          "histogram": [
           {
            "marker": {
             "pattern": {
              "fillmode": "overlay",
              "size": 10,
              "solidity": 0.2
             }
            },
            "type": "histogram"
           }
          ],
          "histogram2d": [
           {
            "colorbar": {
             "outlinewidth": 0,
             "ticks": ""
            },
            "colorscale": [
             [
              0,
              "#0d0887"
             ],
             [
              0.1111111111111111,
              "#46039f"
             ],
             [
              0.2222222222222222,
              "#7201a8"
             ],
             [
              0.3333333333333333,
              "#9c179e"
             ],
             [
              0.4444444444444444,
              "#bd3786"
             ],
             [
              0.5555555555555556,
              "#d8576b"
             ],
             [
              0.6666666666666666,
              "#ed7953"
             ],
             [
              0.7777777777777778,
              "#fb9f3a"
             ],
             [
              0.8888888888888888,
              "#fdca26"
             ],
             [
              1,
              "#f0f921"
             ]
            ],
            "type": "histogram2d"
           }
          ],
          "histogram2dcontour": [
           {
            "colorbar": {
             "outlinewidth": 0,
             "ticks": ""
            },
            "colorscale": [
             [
              0,
              "#0d0887"
             ],
             [
              0.1111111111111111,
              "#46039f"
             ],
             [
              0.2222222222222222,
              "#7201a8"
             ],
             [
              0.3333333333333333,
              "#9c179e"
             ],
             [
              0.4444444444444444,
              "#bd3786"
             ],
             [
              0.5555555555555556,
              "#d8576b"
             ],
             [
              0.6666666666666666,
              "#ed7953"
             ],
             [
              0.7777777777777778,
              "#fb9f3a"
             ],
             [
              0.8888888888888888,
              "#fdca26"
             ],
             [
              1,
              "#f0f921"
             ]
            ],
            "type": "histogram2dcontour"
           }
          ],
          "mesh3d": [
           {
            "colorbar": {
             "outlinewidth": 0,
             "ticks": ""
            },
            "type": "mesh3d"
           }
          ],
          "parcoords": [
           {
            "line": {
             "colorbar": {
              "outlinewidth": 0,
              "ticks": ""
             }
            },
            "type": "parcoords"
           }
          ],
          "pie": [
           {
            "automargin": true,
            "type": "pie"
           }
          ],
          "scatter": [
           {
            "fillpattern": {
             "fillmode": "overlay",
             "size": 10,
             "solidity": 0.2
            },
            "type": "scatter"
           }
          ],
          "scatter3d": [
           {
            "line": {
             "colorbar": {
              "outlinewidth": 0,
              "ticks": ""
             }
            },
            "marker": {
             "colorbar": {
              "outlinewidth": 0,
              "ticks": ""
             }
            },
            "type": "scatter3d"
           }
          ],
          "scattercarpet": [
           {
            "marker": {
             "colorbar": {
              "outlinewidth": 0,
              "ticks": ""
             }
            },
            "type": "scattercarpet"
           }
          ],
          "scattergeo": [
           {
            "marker": {
             "colorbar": {
              "outlinewidth": 0,
              "ticks": ""
             }
            },
            "type": "scattergeo"
           }
          ],
          "scattergl": [
           {
            "marker": {
             "colorbar": {
              "outlinewidth": 0,
              "ticks": ""
             }
            },
            "type": "scattergl"
           }
          ],
          "scattermapbox": [
           {
            "marker": {
             "colorbar": {
              "outlinewidth": 0,
              "ticks": ""
             }
            },
            "type": "scattermapbox"
           }
          ],
          "scatterpolar": [
           {
            "marker": {
             "colorbar": {
              "outlinewidth": 0,
              "ticks": ""
             }
            },
            "type": "scatterpolar"
           }
          ],
          "scatterpolargl": [
           {
            "marker": {
             "colorbar": {
              "outlinewidth": 0,
              "ticks": ""
             }
            },
            "type": "scatterpolargl"
           }
          ],
          "scatterternary": [
           {
            "marker": {
             "colorbar": {
              "outlinewidth": 0,
              "ticks": ""
             }
            },
            "type": "scatterternary"
           }
          ],
          "surface": [
           {
            "colorbar": {
             "outlinewidth": 0,
             "ticks": ""
            },
            "colorscale": [
             [
              0,
              "#0d0887"
             ],
             [
              0.1111111111111111,
              "#46039f"
             ],
             [
              0.2222222222222222,
              "#7201a8"
             ],
             [
              0.3333333333333333,
              "#9c179e"
             ],
             [
              0.4444444444444444,
              "#bd3786"
             ],
             [
              0.5555555555555556,
              "#d8576b"
             ],
             [
              0.6666666666666666,
              "#ed7953"
             ],
             [
              0.7777777777777778,
              "#fb9f3a"
             ],
             [
              0.8888888888888888,
              "#fdca26"
             ],
             [
              1,
              "#f0f921"
             ]
            ],
            "type": "surface"
           }
          ],
          "table": [
           {
            "cells": {
             "fill": {
              "color": "#EBF0F8"
             },
             "line": {
              "color": "white"
             }
            },
            "header": {
             "fill": {
              "color": "#C8D4E3"
             },
             "line": {
              "color": "white"
             }
            },
            "type": "table"
           }
          ]
         },
         "layout": {
          "annotationdefaults": {
           "arrowcolor": "#2a3f5f",
           "arrowhead": 0,
           "arrowwidth": 1
          },
          "autotypenumbers": "strict",
          "coloraxis": {
           "colorbar": {
            "outlinewidth": 0,
            "ticks": ""
           }
          },
          "colorscale": {
           "diverging": [
            [
             0,
             "#8e0152"
            ],
            [
             0.1,
             "#c51b7d"
            ],
            [
             0.2,
             "#de77ae"
            ],
            [
             0.3,
             "#f1b6da"
            ],
            [
             0.4,
             "#fde0ef"
            ],
            [
             0.5,
             "#f7f7f7"
            ],
            [
             0.6,
             "#e6f5d0"
            ],
            [
             0.7,
             "#b8e186"
            ],
            [
             0.8,
             "#7fbc41"
            ],
            [
             0.9,
             "#4d9221"
            ],
            [
             1,
             "#276419"
            ]
           ],
           "sequential": [
            [
             0,
             "#0d0887"
            ],
            [
             0.1111111111111111,
             "#46039f"
            ],
            [
             0.2222222222222222,
             "#7201a8"
            ],
            [
             0.3333333333333333,
             "#9c179e"
            ],
            [
             0.4444444444444444,
             "#bd3786"
            ],
            [
             0.5555555555555556,
             "#d8576b"
            ],
            [
             0.6666666666666666,
             "#ed7953"
            ],
            [
             0.7777777777777778,
             "#fb9f3a"
            ],
            [
             0.8888888888888888,
             "#fdca26"
            ],
            [
             1,
             "#f0f921"
            ]
           ],
           "sequentialminus": [
            [
             0,
             "#0d0887"
            ],
            [
             0.1111111111111111,
             "#46039f"
            ],
            [
             0.2222222222222222,
             "#7201a8"
            ],
            [
             0.3333333333333333,
             "#9c179e"
            ],
            [
             0.4444444444444444,
             "#bd3786"
            ],
            [
             0.5555555555555556,
             "#d8576b"
            ],
            [
             0.6666666666666666,
             "#ed7953"
            ],
            [
             0.7777777777777778,
             "#fb9f3a"
            ],
            [
             0.8888888888888888,
             "#fdca26"
            ],
            [
             1,
             "#f0f921"
            ]
           ]
          },
          "colorway": [
           "#636efa",
           "#EF553B",
           "#00cc96",
           "#ab63fa",
           "#FFA15A",
           "#19d3f3",
           "#FF6692",
           "#B6E880",
           "#FF97FF",
           "#FECB52"
          ],
          "font": {
           "color": "#2a3f5f"
          },
          "geo": {
           "bgcolor": "white",
           "lakecolor": "white",
           "landcolor": "#E5ECF6",
           "showlakes": true,
           "showland": true,
           "subunitcolor": "white"
          },
          "hoverlabel": {
           "align": "left"
          },
          "hovermode": "closest",
          "mapbox": {
           "style": "light"
          },
          "paper_bgcolor": "white",
          "plot_bgcolor": "#E5ECF6",
          "polar": {
           "angularaxis": {
            "gridcolor": "white",
            "linecolor": "white",
            "ticks": ""
           },
           "bgcolor": "#E5ECF6",
           "radialaxis": {
            "gridcolor": "white",
            "linecolor": "white",
            "ticks": ""
           }
          },
          "scene": {
           "xaxis": {
            "backgroundcolor": "#E5ECF6",
            "gridcolor": "white",
            "gridwidth": 2,
            "linecolor": "white",
            "showbackground": true,
            "ticks": "",
            "zerolinecolor": "white"
           },
           "yaxis": {
            "backgroundcolor": "#E5ECF6",
            "gridcolor": "white",
            "gridwidth": 2,
            "linecolor": "white",
            "showbackground": true,
            "ticks": "",
            "zerolinecolor": "white"
           },
           "zaxis": {
            "backgroundcolor": "#E5ECF6",
            "gridcolor": "white",
            "gridwidth": 2,
            "linecolor": "white",
            "showbackground": true,
            "ticks": "",
            "zerolinecolor": "white"
           }
          },
          "shapedefaults": {
           "line": {
            "color": "#2a3f5f"
           }
          },
          "ternary": {
           "aaxis": {
            "gridcolor": "white",
            "linecolor": "white",
            "ticks": ""
           },
           "baxis": {
            "gridcolor": "white",
            "linecolor": "white",
            "ticks": ""
           },
           "bgcolor": "#E5ECF6",
           "caxis": {
            "gridcolor": "white",
            "linecolor": "white",
            "ticks": ""
           }
          },
          "title": {
           "x": 0.05
          },
          "xaxis": {
           "automargin": true,
           "gridcolor": "white",
           "linecolor": "white",
           "ticks": "",
           "title": {
            "standoff": 15
           },
           "zerolinecolor": "white",
           "zerolinewidth": 2
          },
          "yaxis": {
           "automargin": true,
           "gridcolor": "white",
           "linecolor": "white",
           "ticks": "",
           "title": {
            "standoff": 15
           },
           "zerolinecolor": "white",
           "zerolinewidth": 2
          }
         }
        },
        "title": {
         "text": "Activations of Personal Features on Personal vs. General Prompts"
        },
        "width": 800,
        "xaxis": {
         "anchor": "y",
         "domain": [
          0,
          1
         ],
         "title": {
          "text": "Mean Activation on General Prompts"
         }
        },
        "yaxis": {
         "anchor": "x",
         "domain": [
          0,
          1
         ],
         "title": {
          "text": "Mean Activation on Personal Prompts"
         }
        }
       }
      },
      "text/html": [
       "<div>                            <div id=\"06e79bf5-528b-4f1d-bd99-06788cd66c84\" class=\"plotly-graph-div\" style=\"height:600px; width:800px;\"></div>            <script type=\"text/javascript\">                require([\"plotly\"], function(Plotly) {                    window.PLOTLYENV=window.PLOTLYENV || {};                                    if (document.getElementById(\"06e79bf5-528b-4f1d-bd99-06788cd66c84\")) {                    Plotly.newPlot(                        \"06e79bf5-528b-4f1d-bd99-06788cd66c84\",                        [{\"customdata\":[[\"newline before nsfw roleplay\",\"newline between nsfw description, violence\",\"llama_trainer1_layer11_newline\"]],\"hovertemplate\":\"\\u003cb\\u003efeature_id: %{hovertext}\\u003c\\u002fb\\u003e\\u003cbr\\u003echat_desc: %{customdata[0]}\\u003cbr\\u003ept_desc: %{customdata[1]}\\u003cbr\\u003e\\u003cextra\\u003e\\u003c\\u002fextra\\u003e\",\"hovertext\":[126716.0],\"legendgroup\":\"llama_trainer1_layer11_newline\",\"marker\":{\"color\":\"#636EFA\",\"symbol\":\"circle\"},\"mode\":\"markers+text\",\"name\":\"llama_trainer1_layer11_newline\",\"orientation\":\"v\",\"showlegend\":true,\"text\":[126716.0],\"x\":[0.0545998029410839],\"xaxis\":\"x\",\"y\":[0.141681537],\"yaxis\":\"y\",\"type\":\"scatter\",\"textfont\":{\"size\":8},\"textposition\":\"middle right\"},{\"customdata\":[[\"symbols, metaphors, representations (especially in role-playing scenarios) ???\",\"symbolism, representations, synechdoche ???\",\"llama_trainer1_layer15_asst\"]],\"hovertemplate\":\"\\u003cb\\u003efeature_id: %{hovertext}\\u003c\\u002fb\\u003e\\u003cbr\\u003echat_desc: %{customdata[0]}\\u003cbr\\u003ept_desc: %{customdata[1]}\\u003cbr\\u003e\\u003cextra\\u003e\\u003c\\u002fextra\\u003e\",\"hovertext\":[27476.0],\"legendgroup\":\"llama_trainer1_layer15_asst\",\"marker\":{\"color\":\"#EF553B\",\"symbol\":\"circle\"},\"mode\":\"markers+text\",\"name\":\"llama_trainer1_layer15_asst\",\"orientation\":\"v\",\"showlegend\":true,\"text\":[27476.0],\"x\":[0.0110858855769038],\"xaxis\":\"x\",\"y\":[0.1154452562],\"yaxis\":\"y\",\"type\":\"scatter\",\"textfont\":{\"size\":8},\"textposition\":\"middle right\"},{\"customdata\":[[\"instructions for role-playing, requirements, schema, templates, rules\",\"editing, helping write\\u002fpublish\\u002frefine text, forum moderator\",\"llama_trainer1_layer15_endheader\"],[\"programmatic instructions for processing text\",\"writing\\u002ftranslating feedback, literary criticism\",\"llama_trainer1_layer15_endheader\"]],\"hovertemplate\":\"\\u003cb\\u003efeature_id: %{hovertext}\\u003c\\u002fb\\u003e\\u003cbr\\u003echat_desc: %{customdata[0]}\\u003cbr\\u003ept_desc: %{customdata[1]}\\u003cbr\\u003e\\u003cextra\\u003e\\u003c\\u002fextra\\u003e\",\"hovertext\":[59035.0,47776.0],\"legendgroup\":\"llama_trainer1_layer15_endheader\",\"marker\":{\"color\":\"#00CC96\",\"symbol\":\"circle\"},\"mode\":\"markers+text\",\"name\":\"llama_trainer1_layer15_endheader\",\"orientation\":\"v\",\"showlegend\":true,\"text\":[59035.0,47776.0],\"x\":[0.0362718068063259,0.0028584327083081],\"xaxis\":\"x\",\"y\":[0.2449186295,0.1548154205],\"yaxis\":\"y\",\"type\":\"scatter\",\"textfont\":{\"size\":8},\"textposition\":\"middle right\"},{\"customdata\":[[\"\\\"assistant\\\" header token after being asked to do a writing or copyediting task\",\"\\\"assistant\\\" token from descriptions of human assistant professions\",\"qwen_trainer1_layer11_asst\"],[\"\\\"assistant\\\" header token after being asked follow-up questions\",\"colon before bash commands ???\",\"qwen_trainer1_layer11_asst\"],[\"AI chatbot being given elaborate instructions (including attempts to jailbreak)\",\"very powerful fictional beings: superintelligent AI in sci-fi, electric appliances that can talk, witchcraft, voice of human nature\",\"qwen_trainer1_layer11_asst\"],[\"\\\"assistant\\\" header token after being asked to write about chemicals\",\"\\\"assistant\\\" token from descriptions of human assistant professions\",\"qwen_trainer1_layer11_asst\"],[\"asimov's three laws of robotics, AI chatbots referring to their programming\",\"asimov's three laws of robotics, thinking machines and robots in sci-fi including HAL from 2001: a space odyssey\",\"qwen_trainer1_layer11_asst\"]],\"hovertemplate\":\"\\u003cb\\u003efeature_id: %{hovertext}\\u003c\\u002fb\\u003e\\u003cbr\\u003echat_desc: %{customdata[0]}\\u003cbr\\u003ept_desc: %{customdata[1]}\\u003cbr\\u003e\\u003cextra\\u003e\\u003c\\u002fextra\\u003e\",\"hovertext\":[81528.0,49925.0,18703.0,130794.0,30068.0],\"legendgroup\":\"qwen_trainer1_layer11_asst\",\"marker\":{\"color\":\"#AB63FA\",\"symbol\":\"circle\"},\"mode\":\"markers+text\",\"name\":\"qwen_trainer1_layer11_asst\",\"orientation\":\"v\",\"showlegend\":true,\"text\":[81528.0,49925.0,18703.0,130794.0,30068.0],\"x\":[4.628399848937988,0.2460324913263321,0.126977190375328,0.0705313012003898,0.0095440354198217],\"xaxis\":\"x\",\"y\":[0.23483181,0.1096011028,0.8321509957,0.1218921319,0.4780123532],\"yaxis\":\"y\",\"type\":\"scatter\",\"textfont\":{\"size\":8},\"textposition\":\"middle right\"},{\"customdata\":[[\"user instructing AI chatbot or the AI chatbot agreeing to role-play, impersonate, or simulate a character\",\"impersonating, portraying, or giving an impression of a character\",\"qwen_trainer1_layer11_newline\"],[\"newline before \\\"hello\\\" in chinese\",\"newline or other text token before ???\",\"qwen_trainer1_layer11_newline\"],[\"valuing or encouraging innovation\",\"valuing or encouraging innovation\",\"qwen_trainer1_layer11_newline\"],[\"newline after \\\"assistant\\\" header token when the AI chatbot is asked to behave a certain way if christian\",\"???\",\"qwen_trainer1_layer11_newline\"],[\"viewpoint, bird's eye view, first-person perspective\",\"the perspective of an organization (mainly healthcare system, government)\",\"qwen_trainer1_layer11_newline\"]],\"hovertemplate\":\"\\u003cb\\u003efeature_id: %{hovertext}\\u003c\\u002fb\\u003e\\u003cbr\\u003echat_desc: %{customdata[0]}\\u003cbr\\u003ept_desc: %{customdata[1]}\\u003cbr\\u003e\\u003cextra\\u003e\\u003c\\u002fextra\\u003e\",\"hovertext\":[90235.0,6704.0,91607.0,68574.0,16030.0],\"legendgroup\":\"qwen_trainer1_layer11_newline\",\"marker\":{\"color\":\"#FFA15A\",\"symbol\":\"circle\"},\"mode\":\"markers+text\",\"name\":\"qwen_trainer1_layer11_newline\",\"orientation\":\"v\",\"showlegend\":true,\"text\":[90235.0,6704.0,91607.0,68574.0,16030.0],\"x\":[0.0344689898192882,0.0324214696884155,0.0199089385569095,0.0191452205181121,0.0101251835003495],\"xaxis\":\"x\",\"y\":[0.1149614826,0.250195235,0.104783833,0.2105821371,0.1060605347],\"yaxis\":\"y\",\"type\":\"scatter\",\"textfont\":{\"size\":8},\"textposition\":\"middle right\"},{\"customdata\":[[\"AI chatbot response of \\\"i'm a\\u002fan\\\" to questions of \\\"who are you\\\"\",\"???\",\"qwen_trainer1_layer15_asst\"]],\"hovertemplate\":\"\\u003cb\\u003efeature_id: %{hovertext}\\u003c\\u002fb\\u003e\\u003cbr\\u003echat_desc: %{customdata[0]}\\u003cbr\\u003ept_desc: %{customdata[1]}\\u003cbr\\u003e\\u003cextra\\u003e\\u003c\\u002fextra\\u003e\",\"hovertext\":[29717.0],\"legendgroup\":\"qwen_trainer1_layer15_asst\",\"marker\":{\"color\":\"#19D3F3\",\"symbol\":\"circle\"},\"mode\":\"markers+text\",\"name\":\"qwen_trainer1_layer15_asst\",\"orientation\":\"v\",\"showlegend\":true,\"text\":[29717.0],\"x\":[0.011753867380321],\"xaxis\":\"x\",\"y\":[1.67374897],\"yaxis\":\"y\",\"type\":\"scatter\",\"textfont\":{\"size\":8},\"textposition\":\"middle right\"},{\"customdata\":[[\"newline before AI chatbot answers yes or no question about factual consistency, reasoning, or semantic content \",\"newline before answer in wide range of contexts ???\",\"qwen_trainer1_layer15_newline\"],[\"newline after being asked to give a one-sentence explainer\",\"newline before one-sentence summary or quote\",\"qwen_trainer1_layer15_newline\"],[\"newline before AI chatbot response to generating a description of a chemical company\",\"token before a summary, blurb, or lede (often with preceding numbers giving desired length)\",\"qwen_trainer1_layer15_newline\"],[\"newline before AI chatbot engages in nsfw role-play or being jailbroken \",\"tokens before code errors, misbehaving, descriptions of colonialism, jingoism, self-put downs, sarcasm\",\"qwen_trainer1_layer15_newline\"]],\"hovertemplate\":\"\\u003cb\\u003efeature_id: %{hovertext}\\u003c\\u002fb\\u003e\\u003cbr\\u003echat_desc: %{customdata[0]}\\u003cbr\\u003ept_desc: %{customdata[1]}\\u003cbr\\u003e\\u003cextra\\u003e\\u003c\\u002fextra\\u003e\",\"hovertext\":[49123.0,9953.0,48045.0,88910.0],\"legendgroup\":\"qwen_trainer1_layer15_newline\",\"marker\":{\"color\":\"#FF6692\",\"symbol\":\"circle\"},\"mode\":\"markers+text\",\"name\":\"qwen_trainer1_layer15_newline\",\"orientation\":\"v\",\"showlegend\":true,\"text\":[49123.0,9953.0,48045.0,88910.0],\"x\":[2.686073064804077,0.3320701718330383,0.2216365188360214,0.0531970970332622],\"xaxis\":\"x\",\"y\":[0.3649736643,0.1824816316,0.4558918774,0.1652122587],\"yaxis\":\"y\",\"type\":\"scatter\",\"textfont\":{\"size\":8},\"textposition\":\"middle right\"},{\"hovertemplate\":\"\\u003cextra\\u003e\\u003c\\u002fextra\\u003e\",\"line\":{\"color\":\"black\",\"dash\":\"dash\"},\"mode\":\"lines\",\"name\":\"Personal = General\",\"showlegend\":true,\"x\":[0.0028584327083081,4.628399848937988],\"y\":[0.0028584327083081,4.628399848937988],\"type\":\"scatter\"}],                        {\"template\":{\"data\":{\"histogram2dcontour\":[{\"type\":\"histogram2dcontour\",\"colorbar\":{\"outlinewidth\":0,\"ticks\":\"\"},\"colorscale\":[[0.0,\"#0d0887\"],[0.1111111111111111,\"#46039f\"],[0.2222222222222222,\"#7201a8\"],[0.3333333333333333,\"#9c179e\"],[0.4444444444444444,\"#bd3786\"],[0.5555555555555556,\"#d8576b\"],[0.6666666666666666,\"#ed7953\"],[0.7777777777777778,\"#fb9f3a\"],[0.8888888888888888,\"#fdca26\"],[1.0,\"#f0f921\"]]}],\"choropleth\":[{\"type\":\"choropleth\",\"colorbar\":{\"outlinewidth\":0,\"ticks\":\"\"}}],\"histogram2d\":[{\"type\":\"histogram2d\",\"colorbar\":{\"outlinewidth\":0,\"ticks\":\"\"},\"colorscale\":[[0.0,\"#0d0887\"],[0.1111111111111111,\"#46039f\"],[0.2222222222222222,\"#7201a8\"],[0.3333333333333333,\"#9c179e\"],[0.4444444444444444,\"#bd3786\"],[0.5555555555555556,\"#d8576b\"],[0.6666666666666666,\"#ed7953\"],[0.7777777777777778,\"#fb9f3a\"],[0.8888888888888888,\"#fdca26\"],[1.0,\"#f0f921\"]]}],\"heatmap\":[{\"type\":\"heatmap\",\"colorbar\":{\"outlinewidth\":0,\"ticks\":\"\"},\"colorscale\":[[0.0,\"#0d0887\"],[0.1111111111111111,\"#46039f\"],[0.2222222222222222,\"#7201a8\"],[0.3333333333333333,\"#9c179e\"],[0.4444444444444444,\"#bd3786\"],[0.5555555555555556,\"#d8576b\"],[0.6666666666666666,\"#ed7953\"],[0.7777777777777778,\"#fb9f3a\"],[0.8888888888888888,\"#fdca26\"],[1.0,\"#f0f921\"]]}],\"heatmapgl\":[{\"type\":\"heatmapgl\",\"colorbar\":{\"outlinewidth\":0,\"ticks\":\"\"},\"colorscale\":[[0.0,\"#0d0887\"],[0.1111111111111111,\"#46039f\"],[0.2222222222222222,\"#7201a8\"],[0.3333333333333333,\"#9c179e\"],[0.4444444444444444,\"#bd3786\"],[0.5555555555555556,\"#d8576b\"],[0.6666666666666666,\"#ed7953\"],[0.7777777777777778,\"#fb9f3a\"],[0.8888888888888888,\"#fdca26\"],[1.0,\"#f0f921\"]]}],\"contourcarpet\":[{\"type\":\"contourcarpet\",\"colorbar\":{\"outlinewidth\":0,\"ticks\":\"\"}}],\"contour\":[{\"type\":\"contour\",\"colorbar\":{\"outlinewidth\":0,\"ticks\":\"\"},\"colorscale\":[[0.0,\"#0d0887\"],[0.1111111111111111,\"#46039f\"],[0.2222222222222222,\"#7201a8\"],[0.3333333333333333,\"#9c179e\"],[0.4444444444444444,\"#bd3786\"],[0.5555555555555556,\"#d8576b\"],[0.6666666666666666,\"#ed7953\"],[0.7777777777777778,\"#fb9f3a\"],[0.8888888888888888,\"#fdca26\"],[1.0,\"#f0f921\"]]}],\"surface\":[{\"type\":\"surface\",\"colorbar\":{\"outlinewidth\":0,\"ticks\":\"\"},\"colorscale\":[[0.0,\"#0d0887\"],[0.1111111111111111,\"#46039f\"],[0.2222222222222222,\"#7201a8\"],[0.3333333333333333,\"#9c179e\"],[0.4444444444444444,\"#bd3786\"],[0.5555555555555556,\"#d8576b\"],[0.6666666666666666,\"#ed7953\"],[0.7777777777777778,\"#fb9f3a\"],[0.8888888888888888,\"#fdca26\"],[1.0,\"#f0f921\"]]}],\"mesh3d\":[{\"type\":\"mesh3d\",\"colorbar\":{\"outlinewidth\":0,\"ticks\":\"\"}}],\"scatter\":[{\"fillpattern\":{\"fillmode\":\"overlay\",\"size\":10,\"solidity\":0.2},\"type\":\"scatter\"}],\"parcoords\":[{\"type\":\"parcoords\",\"line\":{\"colorbar\":{\"outlinewidth\":0,\"ticks\":\"\"}}}],\"scatterpolargl\":[{\"type\":\"scatterpolargl\",\"marker\":{\"colorbar\":{\"outlinewidth\":0,\"ticks\":\"\"}}}],\"bar\":[{\"error_x\":{\"color\":\"#2a3f5f\"},\"error_y\":{\"color\":\"#2a3f5f\"},\"marker\":{\"line\":{\"color\":\"#E5ECF6\",\"width\":0.5},\"pattern\":{\"fillmode\":\"overlay\",\"size\":10,\"solidity\":0.2}},\"type\":\"bar\"}],\"scattergeo\":[{\"type\":\"scattergeo\",\"marker\":{\"colorbar\":{\"outlinewidth\":0,\"ticks\":\"\"}}}],\"scatterpolar\":[{\"type\":\"scatterpolar\",\"marker\":{\"colorbar\":{\"outlinewidth\":0,\"ticks\":\"\"}}}],\"histogram\":[{\"marker\":{\"pattern\":{\"fillmode\":\"overlay\",\"size\":10,\"solidity\":0.2}},\"type\":\"histogram\"}],\"scattergl\":[{\"type\":\"scattergl\",\"marker\":{\"colorbar\":{\"outlinewidth\":0,\"ticks\":\"\"}}}],\"scatter3d\":[{\"type\":\"scatter3d\",\"line\":{\"colorbar\":{\"outlinewidth\":0,\"ticks\":\"\"}},\"marker\":{\"colorbar\":{\"outlinewidth\":0,\"ticks\":\"\"}}}],\"scattermapbox\":[{\"type\":\"scattermapbox\",\"marker\":{\"colorbar\":{\"outlinewidth\":0,\"ticks\":\"\"}}}],\"scatterternary\":[{\"type\":\"scatterternary\",\"marker\":{\"colorbar\":{\"outlinewidth\":0,\"ticks\":\"\"}}}],\"scattercarpet\":[{\"type\":\"scattercarpet\",\"marker\":{\"colorbar\":{\"outlinewidth\":0,\"ticks\":\"\"}}}],\"carpet\":[{\"aaxis\":{\"endlinecolor\":\"#2a3f5f\",\"gridcolor\":\"white\",\"linecolor\":\"white\",\"minorgridcolor\":\"white\",\"startlinecolor\":\"#2a3f5f\"},\"baxis\":{\"endlinecolor\":\"#2a3f5f\",\"gridcolor\":\"white\",\"linecolor\":\"white\",\"minorgridcolor\":\"white\",\"startlinecolor\":\"#2a3f5f\"},\"type\":\"carpet\"}],\"table\":[{\"cells\":{\"fill\":{\"color\":\"#EBF0F8\"},\"line\":{\"color\":\"white\"}},\"header\":{\"fill\":{\"color\":\"#C8D4E3\"},\"line\":{\"color\":\"white\"}},\"type\":\"table\"}],\"barpolar\":[{\"marker\":{\"line\":{\"color\":\"#E5ECF6\",\"width\":0.5},\"pattern\":{\"fillmode\":\"overlay\",\"size\":10,\"solidity\":0.2}},\"type\":\"barpolar\"}],\"pie\":[{\"automargin\":true,\"type\":\"pie\"}]},\"layout\":{\"autotypenumbers\":\"strict\",\"colorway\":[\"#636efa\",\"#EF553B\",\"#00cc96\",\"#ab63fa\",\"#FFA15A\",\"#19d3f3\",\"#FF6692\",\"#B6E880\",\"#FF97FF\",\"#FECB52\"],\"font\":{\"color\":\"#2a3f5f\"},\"hovermode\":\"closest\",\"hoverlabel\":{\"align\":\"left\"},\"paper_bgcolor\":\"white\",\"plot_bgcolor\":\"#E5ECF6\",\"polar\":{\"bgcolor\":\"#E5ECF6\",\"angularaxis\":{\"gridcolor\":\"white\",\"linecolor\":\"white\",\"ticks\":\"\"},\"radialaxis\":{\"gridcolor\":\"white\",\"linecolor\":\"white\",\"ticks\":\"\"}},\"ternary\":{\"bgcolor\":\"#E5ECF6\",\"aaxis\":{\"gridcolor\":\"white\",\"linecolor\":\"white\",\"ticks\":\"\"},\"baxis\":{\"gridcolor\":\"white\",\"linecolor\":\"white\",\"ticks\":\"\"},\"caxis\":{\"gridcolor\":\"white\",\"linecolor\":\"white\",\"ticks\":\"\"}},\"coloraxis\":{\"colorbar\":{\"outlinewidth\":0,\"ticks\":\"\"}},\"colorscale\":{\"sequential\":[[0.0,\"#0d0887\"],[0.1111111111111111,\"#46039f\"],[0.2222222222222222,\"#7201a8\"],[0.3333333333333333,\"#9c179e\"],[0.4444444444444444,\"#bd3786\"],[0.5555555555555556,\"#d8576b\"],[0.6666666666666666,\"#ed7953\"],[0.7777777777777778,\"#fb9f3a\"],[0.8888888888888888,\"#fdca26\"],[1.0,\"#f0f921\"]],\"sequentialminus\":[[0.0,\"#0d0887\"],[0.1111111111111111,\"#46039f\"],[0.2222222222222222,\"#7201a8\"],[0.3333333333333333,\"#9c179e\"],[0.4444444444444444,\"#bd3786\"],[0.5555555555555556,\"#d8576b\"],[0.6666666666666666,\"#ed7953\"],[0.7777777777777778,\"#fb9f3a\"],[0.8888888888888888,\"#fdca26\"],[1.0,\"#f0f921\"]],\"diverging\":[[0,\"#8e0152\"],[0.1,\"#c51b7d\"],[0.2,\"#de77ae\"],[0.3,\"#f1b6da\"],[0.4,\"#fde0ef\"],[0.5,\"#f7f7f7\"],[0.6,\"#e6f5d0\"],[0.7,\"#b8e186\"],[0.8,\"#7fbc41\"],[0.9,\"#4d9221\"],[1,\"#276419\"]]},\"xaxis\":{\"gridcolor\":\"white\",\"linecolor\":\"white\",\"ticks\":\"\",\"title\":{\"standoff\":15},\"zerolinecolor\":\"white\",\"automargin\":true,\"zerolinewidth\":2},\"yaxis\":{\"gridcolor\":\"white\",\"linecolor\":\"white\",\"ticks\":\"\",\"title\":{\"standoff\":15},\"zerolinecolor\":\"white\",\"automargin\":true,\"zerolinewidth\":2},\"scene\":{\"xaxis\":{\"backgroundcolor\":\"#E5ECF6\",\"gridcolor\":\"white\",\"linecolor\":\"white\",\"showbackground\":true,\"ticks\":\"\",\"zerolinecolor\":\"white\",\"gridwidth\":2},\"yaxis\":{\"backgroundcolor\":\"#E5ECF6\",\"gridcolor\":\"white\",\"linecolor\":\"white\",\"showbackground\":true,\"ticks\":\"\",\"zerolinecolor\":\"white\",\"gridwidth\":2},\"zaxis\":{\"backgroundcolor\":\"#E5ECF6\",\"gridcolor\":\"white\",\"linecolor\":\"white\",\"showbackground\":true,\"ticks\":\"\",\"zerolinecolor\":\"white\",\"gridwidth\":2}},\"shapedefaults\":{\"line\":{\"color\":\"#2a3f5f\"}},\"annotationdefaults\":{\"arrowcolor\":\"#2a3f5f\",\"arrowhead\":0,\"arrowwidth\":1},\"geo\":{\"bgcolor\":\"white\",\"landcolor\":\"#E5ECF6\",\"subunitcolor\":\"white\",\"showland\":true,\"showlakes\":true,\"lakecolor\":\"white\"},\"title\":{\"x\":0.05},\"mapbox\":{\"style\":\"light\"}}},\"xaxis\":{\"anchor\":\"y\",\"domain\":[0.0,1.0],\"title\":{\"text\":\"Mean Activation on General Prompts\"}},\"yaxis\":{\"anchor\":\"x\",\"domain\":[0.0,1.0],\"title\":{\"text\":\"Mean Activation on Personal Prompts\"}},\"legend\":{\"title\":{\"text\":\"Source\"},\"tracegroupgap\":0},\"title\":{\"text\":\"Activations of Personal Features on Personal vs. General Prompts\"},\"height\":600,\"width\":800,\"hovermode\":\"closest\"},                        {\"responsive\": true}                    ).then(function(){\n",
       "                            \n",
       "var gd = document.getElementById('06e79bf5-528b-4f1d-bd99-06788cd66c84');\n",
       "var x = new MutationObserver(function (mutations, observer) {{\n",
       "        var display = window.getComputedStyle(gd).display;\n",
       "        if (!display || display === 'none') {{\n",
       "            console.log([gd, 'removed!']);\n",
       "            Plotly.purge(gd);\n",
       "            observer.disconnect();\n",
       "        }}\n",
       "}});\n",
       "\n",
       "// Listen for the removal of the full notebook cells\n",
       "var notebookContainer = gd.closest('#notebook-container');\n",
       "if (notebookContainer) {{\n",
       "    x.observe(notebookContainer, {childList: true});\n",
       "}}\n",
       "\n",
       "// Listen for the clearing of the current output cell\n",
       "var outputEl = gd.closest('.output');\n",
       "if (outputEl) {{\n",
       "    x.observe(outputEl, {childList: true});\n",
       "}}\n",
       "\n",
       "                        })                };                });            </script>        </div>"
      ]
     },
     "metadata": {},
     "output_type": "display_data"
    }
   ],
   "source": [
    "import plotly.express as px\n",
    "import plotly.graph_objects as go\n",
    "from plotly.subplots import make_subplots\n",
    "import plotly.colors as pc\n",
    "\n",
    "if not final_combined_df.empty and len(plot_df) > 0:\n",
    "    # Create consistent color mapping for sources (remove .csv from names)\n",
    "    unique_sources = sorted(plot_df['source'].unique())\n",
    "    source_names = [s.replace('.csv', '') for s in unique_sources]\n",
    "    colors = pc.qualitative.Plotly[:len(unique_sources)]\n",
    "    source_color_map = dict(zip(unique_sources, colors))\n",
    "    \n",
    "    # Create a copy with cleaned source names for display\n",
    "    plot_df_display = plot_df.copy()\n",
    "    plot_df_display['source_clean'] = plot_df_display['source'].str.replace('.csv', '')\n",
    "    \n",
    "    # Interactive Scatter Plot\n",
    "    fig_scatter = px.scatter(\n",
    "        plot_df_display,\n",
    "        x='general_activation_mean',\n",
    "        y='personal_mean_numeric',\n",
    "        color='source_clean',\n",
    "        color_discrete_map=dict(zip(source_names, colors)),\n",
    "        hover_data={'chat_desc': True, 'pt_desc': True, 'source_clean': False, 'general_activation_mean': False, 'personal_mean_numeric': False},\n",
    "        hover_name='feature_id',\n",
    "        text='feature_id',\n",
    "        title='Activations of Personal Features on Personal vs. General Prompts',\n",
    "        labels={\n",
    "            'general_activation_mean': 'Mean Activation on General Prompts',\n",
    "            'personal_mean_numeric': 'Mean Activation on Personal Prompts',\n",
    "            'source_clean': 'Source'\n",
    "        }\n",
    "    )\n",
    "    \n",
    "    # Update text labels to show feature IDs\n",
    "    fig_scatter.update_traces(\n",
    "        textposition=\"middle right\",\n",
    "        textfont_size=8\n",
    "    )\n",
    "    \n",
    "    # Add diagonal reference line\n",
    "    max_val = max(plot_df['general_activation_mean'].max(), plot_df['personal_mean_numeric'].max())\n",
    "    min_val = min(plot_df['general_activation_mean'].min(), plot_df['personal_mean_numeric'].min())\n",
    "    fig_scatter.add_trace(\n",
    "        go.Scatter(\n",
    "            x=[min_val, max_val],\n",
    "            y=[min_val, max_val],\n",
    "            mode='lines',\n",
    "            line=dict(color='black', dash='dash'),\n",
    "            name='Personal = General',\n",
    "            hovertemplate='<extra></extra>',\n",
    "            showlegend=True\n",
    "        )\n",
    "    )\n",
    "    \n",
    "    # Update layout for better interaction\n",
    "    fig_scatter.update_layout(\n",
    "        xaxis_title='Mean Activation on General Prompts',\n",
    "        yaxis_title='Mean Activation on Personal Prompts',\n",
    "        height=600,\n",
    "        width=800,\n",
    "        hovermode='closest'\n",
    "    )\n",
    "    \n",
    "    # Update hover template to show only chat_desc and pt_desc\n",
    "    fig_scatter.update_traces(\n",
    "        hovertemplate='<b>feature_id: %{hovertext}</b><br>' +\n",
    "                     'chat_desc: %{customdata[0]}<br>' +\n",
    "                     'pt_desc: %{customdata[1]}<br>' +\n",
    "                     '<extra></extra>',\n",
    "        selector=dict(mode='markers+text')\n",
    "    )\n",
    "    \n",
    "    # Save as HTML file\n",
    "    fig_scatter.write_html(\"interactive_scatter_feature_activations.html\")\n",
    "    print(\"Scatter plot saved as: interactive_scatter_feature_activations.html\")\n",
    "    \n",
    "    fig_scatter.show()\n",
    "    \n",
    "else:\n",
    "    print(\"No valid data for interactive scatter plot\")"
   ]
  },
  {
   "cell_type": "code",
   "execution_count": 66,
   "metadata": {},
   "outputs": [
    {
     "name": "stdout",
     "output_type": "stream",
     "text": [
      "Bar plot saved as: interactive_bar_feature_activations.html\n"
     ]
    },
    {
     "data": {
      "application/vnd.plotly.v1+json": {
       "config": {
        "plotlyServerURL": "https://plot.ly"
       },
       "data": [
        {
         "alignmentgroup": "True",
         "customdata": [
          [
           "AI chatbot response of \"i'm a/an\" to questions of \"who are you\"",
           "???",
           "qwen_trainer1_layer15_asst"
          ]
         ],
         "hovertemplate": "<b>feature_id: %{hovertext}</b><br>chat_desc: %{customdata[0]}<br>pt_desc: %{customdata[1]}<br><extra></extra>",
         "hovertext": [
          29717
         ],
         "legendgroup": "qwen_trainer1_layer15_asst",
         "marker": {
          "color": "#19D3F3",
          "pattern": {
           "shape": ""
          }
         },
         "name": "qwen_trainer1_layer15_asst",
         "offsetgroup": "qwen_trainer1_layer15_asst",
         "orientation": "v",
         "showlegend": true,
         "text": [
          29717
         ],
         "textfont": {
          "size": 9
         },
         "textposition": "outside",
         "type": "bar",
         "x": [
          0
         ],
         "xaxis": "x",
         "y": [
          1.6619951026196789
         ],
         "yaxis": "y"
        },
        {
         "alignmentgroup": "True",
         "customdata": [
          [
           "AI chatbot being given elaborate instructions (including attempts to jailbreak)",
           "very powerful fictional beings: superintelligent AI in sci-fi, electric appliances that can talk, witchcraft, voice of human nature",
           "qwen_trainer1_layer11_asst"
          ],
          [
           "asimov's three laws of robotics, AI chatbots referring to their programming",
           "asimov's three laws of robotics, thinking machines and robots in sci-fi including HAL from 2001: a space odyssey",
           "qwen_trainer1_layer11_asst"
          ],
          [
           "\"assistant\" header token after being asked to write about chemicals",
           "\"assistant\" token from descriptions of human assistant professions",
           "qwen_trainer1_layer11_asst"
          ],
          [
           "\"assistant\" header token after being asked follow-up questions",
           "colon before bash commands ???",
           "qwen_trainer1_layer11_asst"
          ],
          [
           "\"assistant\" header token after being asked to do a writing or copyediting task",
           "\"assistant\" token from descriptions of human assistant professions",
           "qwen_trainer1_layer11_asst"
          ]
         ],
         "hovertemplate": "<b>feature_id: %{hovertext}</b><br>chat_desc: %{customdata[0]}<br>pt_desc: %{customdata[1]}<br><extra></extra>",
         "hovertext": [
          18703,
          30068,
          130794,
          49925,
          81528
         ],
         "legendgroup": "qwen_trainer1_layer11_asst",
         "marker": {
          "color": "#AB63FA",
          "pattern": {
           "shape": ""
          }
         },
         "name": "qwen_trainer1_layer11_asst",
         "offsetgroup": "qwen_trainer1_layer11_asst",
         "orientation": "v",
         "showlegend": true,
         "text": [
          18703,
          30068,
          130794,
          49925,
          81528
         ],
         "textfont": {
          "size": 9
         },
         "textposition": "outside",
         "type": "bar",
         "x": [
          1,
          2,
          14,
          15,
          18
         ],
         "xaxis": "x",
         "y": [
          0.7051738053246719,
          0.46846831778017833,
          0.0513608306996102,
          -0.13643138852633208,
          -4.393568038937988
         ],
         "yaxis": "y"
        },
        {
         "alignmentgroup": "True",
         "customdata": [
          [
           "newline before AI chatbot response to generating a description of a chemical company",
           "token before a summary, blurb, or lede (often with preceding numbers giving desired length)",
           "qwen_trainer1_layer15_newline"
          ],
          [
           "newline before AI chatbot engages in nsfw role-play or being jailbroken ",
           "tokens before code errors, misbehaving, descriptions of colonialism, jingoism, self-put downs, sarcasm",
           "qwen_trainer1_layer15_newline"
          ],
          [
           "newline after being asked to give a one-sentence explainer",
           "newline before one-sentence summary or quote",
           "qwen_trainer1_layer15_newline"
          ],
          [
           "newline before AI chatbot answers yes or no question about factual consistency, reasoning, or semantic content ",
           "newline before answer in wide range of contexts ???",
           "qwen_trainer1_layer15_newline"
          ]
         ],
         "hovertemplate": "<b>feature_id: %{hovertext}</b><br>chat_desc: %{customdata[0]}<br>pt_desc: %{customdata[1]}<br><extra></extra>",
         "hovertext": [
          48045,
          88910,
          9953,
          49123
         ],
         "legendgroup": "qwen_trainer1_layer15_newline",
         "marker": {
          "color": "#FF6692",
          "pattern": {
           "shape": ""
          }
         },
         "name": "qwen_trainer1_layer15_newline",
         "offsetgroup": "qwen_trainer1_layer15_newline",
         "orientation": "v",
         "showlegend": true,
         "text": [
          48045,
          88910,
          9953,
          49123
         ],
         "textfont": {
          "size": 9
         },
         "textposition": "outside",
         "type": "bar",
         "x": [
          3,
          8,
          16,
          17
         ],
         "xaxis": "x",
         "y": [
          0.23425535856397858,
          0.1120151616667378,
          -0.14958854023303828,
          -2.3210994005040773
         ],
         "yaxis": "y"
        },
        {
         "alignmentgroup": "True",
         "customdata": [
          [
           "newline before \"hello\" in chinese",
           "newline or other text token before ???",
           "qwen_trainer1_layer11_newline"
          ],
          [
           "newline after \"assistant\" header token when the AI chatbot is asked to behave a certain way if christian",
           "???",
           "qwen_trainer1_layer11_newline"
          ],
          [
           "viewpoint, bird's eye view, first-person perspective",
           "the perspective of an organization (mainly healthcare system, government)",
           "qwen_trainer1_layer11_newline"
          ],
          [
           "valuing or encouraging innovation",
           "valuing or encouraging innovation",
           "qwen_trainer1_layer11_newline"
          ],
          [
           "user instructing AI chatbot or the AI chatbot agreeing to role-play, impersonate, or simulate a character",
           "impersonating, portraying, or giving an impression of a character",
           "qwen_trainer1_layer11_newline"
          ]
         ],
         "hovertemplate": "<b>feature_id: %{hovertext}</b><br>chat_desc: %{customdata[0]}<br>pt_desc: %{customdata[1]}<br><extra></extra>",
         "hovertext": [
          6704,
          68574,
          16030,
          91607,
          90235
         ],
         "legendgroup": "qwen_trainer1_layer11_newline",
         "marker": {
          "color": "#FFA15A",
          "pattern": {
           "shape": ""
          }
         },
         "name": "qwen_trainer1_layer11_newline",
         "offsetgroup": "qwen_trainer1_layer11_newline",
         "orientation": "v",
         "showlegend": true,
         "text": [
          6704,
          68574,
          16030,
          91607,
          90235
         ],
         "textfont": {
          "size": 9
         },
         "textposition": "outside",
         "type": "bar",
         "x": [
          4,
          6,
          10,
          12,
          13
         ],
         "xaxis": "x",
         "y": [
          0.21777376531158452,
          0.1914369165818879,
          0.09593535119965049,
          0.08487489444309052,
          0.0804924927807118
         ],
         "yaxis": "y"
        },
        {
         "alignmentgroup": "True",
         "customdata": [
          [
           "instructions for role-playing, requirements, schema, templates, rules",
           "editing, helping write/publish/refine text, forum moderator",
           "llama_trainer1_layer15_endheader"
          ],
          [
           "programmatic instructions for processing text",
           "writing/translating feedback, literary criticism",
           "llama_trainer1_layer15_endheader"
          ]
         ],
         "hovertemplate": "<b>feature_id: %{hovertext}</b><br>chat_desc: %{customdata[0]}<br>pt_desc: %{customdata[1]}<br><extra></extra>",
         "hovertext": [
          59035,
          47776
         ],
         "legendgroup": "llama_trainer1_layer15_endheader",
         "marker": {
          "color": "#00CC96",
          "pattern": {
           "shape": ""
          }
         },
         "name": "llama_trainer1_layer15_endheader",
         "offsetgroup": "llama_trainer1_layer15_endheader",
         "orientation": "v",
         "showlegend": true,
         "text": [
          59035,
          47776
         ],
         "textfont": {
          "size": 9
         },
         "textposition": "outside",
         "type": "bar",
         "x": [
          5,
          7
         ],
         "xaxis": "x",
         "y": [
          0.20864682269367413,
          0.1519569877916919
         ],
         "yaxis": "y"
        },
        {
         "alignmentgroup": "True",
         "customdata": [
          [
           "symbols, metaphors, representations (especially in role-playing scenarios) ???",
           "symbolism, representations, synechdoche ???",
           "llama_trainer1_layer15_asst"
          ]
         ],
         "hovertemplate": "<b>feature_id: %{hovertext}</b><br>chat_desc: %{customdata[0]}<br>pt_desc: %{customdata[1]}<br><extra></extra>",
         "hovertext": [
          27476
         ],
         "legendgroup": "llama_trainer1_layer15_asst",
         "marker": {
          "color": "#EF553B",
          "pattern": {
           "shape": ""
          }
         },
         "name": "llama_trainer1_layer15_asst",
         "offsetgroup": "llama_trainer1_layer15_asst",
         "orientation": "v",
         "showlegend": true,
         "text": [
          27476
         ],
         "textfont": {
          "size": 9
         },
         "textposition": "outside",
         "type": "bar",
         "x": [
          9
         ],
         "xaxis": "x",
         "y": [
          0.10435937062309619
         ],
         "yaxis": "y"
        },
        {
         "alignmentgroup": "True",
         "customdata": [
          [
           "newline before nsfw roleplay",
           "newline between nsfw description, violence",
           "llama_trainer1_layer11_newline"
          ]
         ],
         "hovertemplate": "<b>feature_id: %{hovertext}</b><br>chat_desc: %{customdata[0]}<br>pt_desc: %{customdata[1]}<br><extra></extra>",
         "hovertext": [
          126716
         ],
         "legendgroup": "llama_trainer1_layer11_newline",
         "marker": {
          "color": "#636EFA",
          "pattern": {
           "shape": ""
          }
         },
         "name": "llama_trainer1_layer11_newline",
         "offsetgroup": "llama_trainer1_layer11_newline",
         "orientation": "v",
         "showlegend": true,
         "text": [
          126716
         ],
         "textfont": {
          "size": 9
         },
         "textposition": "outside",
         "type": "bar",
         "x": [
          11
         ],
         "xaxis": "x",
         "y": [
          0.08708173405891609
         ],
         "yaxis": "y"
        }
       ],
       "layout": {
        "barmode": "relative",
        "height": 600,
        "hovermode": "closest",
        "legend": {
         "title": {
          "text": "Source"
         },
         "tracegroupgap": 0
        },
        "shapes": [
         {
          "line": {
           "color": "black",
           "dash": "dash"
          },
          "type": "line",
          "x0": 0,
          "x1": 1,
          "xref": "x domain",
          "y0": 0,
          "y1": 0,
          "yref": "y"
         }
        ],
        "template": {
         "data": {
          "bar": [
           {
            "error_x": {
             "color": "#2a3f5f"
            },
            "error_y": {
             "color": "#2a3f5f"
            },
            "marker": {
             "line": {
              "color": "#E5ECF6",
              "width": 0.5
             },
             "pattern": {
              "fillmode": "overlay",
              "size": 10,
              "solidity": 0.2
             }
            },
            "type": "bar"
           }
          ],
          "barpolar": [
           {
            "marker": {
             "line": {
              "color": "#E5ECF6",
              "width": 0.5
             },
             "pattern": {
              "fillmode": "overlay",
              "size": 10,
              "solidity": 0.2
             }
            },
            "type": "barpolar"
           }
          ],
          "carpet": [
           {
            "aaxis": {
             "endlinecolor": "#2a3f5f",
             "gridcolor": "white",
             "linecolor": "white",
             "minorgridcolor": "white",
             "startlinecolor": "#2a3f5f"
            },
            "baxis": {
             "endlinecolor": "#2a3f5f",
             "gridcolor": "white",
             "linecolor": "white",
             "minorgridcolor": "white",
             "startlinecolor": "#2a3f5f"
            },
            "type": "carpet"
           }
          ],
          "choropleth": [
           {
            "colorbar": {
             "outlinewidth": 0,
             "ticks": ""
            },
            "type": "choropleth"
           }
          ],
          "contour": [
           {
            "colorbar": {
             "outlinewidth": 0,
             "ticks": ""
            },
            "colorscale": [
             [
              0,
              "#0d0887"
             ],
             [
              0.1111111111111111,
              "#46039f"
             ],
             [
              0.2222222222222222,
              "#7201a8"
             ],
             [
              0.3333333333333333,
              "#9c179e"
             ],
             [
              0.4444444444444444,
              "#bd3786"
             ],
             [
              0.5555555555555556,
              "#d8576b"
             ],
             [
              0.6666666666666666,
              "#ed7953"
             ],
             [
              0.7777777777777778,
              "#fb9f3a"
             ],
             [
              0.8888888888888888,
              "#fdca26"
             ],
             [
              1,
              "#f0f921"
             ]
            ],
            "type": "contour"
           }
          ],
          "contourcarpet": [
           {
            "colorbar": {
             "outlinewidth": 0,
             "ticks": ""
            },
            "type": "contourcarpet"
           }
          ],
          "heatmap": [
           {
            "colorbar": {
             "outlinewidth": 0,
             "ticks": ""
            },
            "colorscale": [
             [
              0,
              "#0d0887"
             ],
             [
              0.1111111111111111,
              "#46039f"
             ],
             [
              0.2222222222222222,
              "#7201a8"
             ],
             [
              0.3333333333333333,
              "#9c179e"
             ],
             [
              0.4444444444444444,
              "#bd3786"
             ],
             [
              0.5555555555555556,
              "#d8576b"
             ],
             [
              0.6666666666666666,
              "#ed7953"
             ],
             [
              0.7777777777777778,
              "#fb9f3a"
             ],
             [
              0.8888888888888888,
              "#fdca26"
             ],
             [
              1,
              "#f0f921"
             ]
            ],
            "type": "heatmap"
           }
          ],
          "heatmapgl": [
           {
            "colorbar": {
             "outlinewidth": 0,
             "ticks": ""
            },
            "colorscale": [
             [
              0,
              "#0d0887"
             ],
             [
              0.1111111111111111,
              "#46039f"
             ],
             [
              0.2222222222222222,
              "#7201a8"
             ],
             [
              0.3333333333333333,
              "#9c179e"
             ],
             [
              0.4444444444444444,
              "#bd3786"
             ],
             [
              0.5555555555555556,
              "#d8576b"
             ],
             [
              0.6666666666666666,
              "#ed7953"
             ],
             [
              0.7777777777777778,
              "#fb9f3a"
             ],
             [
              0.8888888888888888,
              "#fdca26"
             ],
             [
              1,
              "#f0f921"
             ]
            ],
            "type": "heatmapgl"
           }
          ],
          "histogram": [
           {
            "marker": {
             "pattern": {
              "fillmode": "overlay",
              "size": 10,
              "solidity": 0.2
             }
            },
            "type": "histogram"
           }
          ],
          "histogram2d": [
           {
            "colorbar": {
             "outlinewidth": 0,
             "ticks": ""
            },
            "colorscale": [
             [
              0,
              "#0d0887"
             ],
             [
              0.1111111111111111,
              "#46039f"
             ],
             [
              0.2222222222222222,
              "#7201a8"
             ],
             [
              0.3333333333333333,
              "#9c179e"
             ],
             [
              0.4444444444444444,
              "#bd3786"
             ],
             [
              0.5555555555555556,
              "#d8576b"
             ],
             [
              0.6666666666666666,
              "#ed7953"
             ],
             [
              0.7777777777777778,
              "#fb9f3a"
             ],
             [
              0.8888888888888888,
              "#fdca26"
             ],
             [
              1,
              "#f0f921"
             ]
            ],
            "type": "histogram2d"
           }
          ],
          "histogram2dcontour": [
           {
            "colorbar": {
             "outlinewidth": 0,
             "ticks": ""
            },
            "colorscale": [
             [
              0,
              "#0d0887"
             ],
             [
              0.1111111111111111,
              "#46039f"
             ],
             [
              0.2222222222222222,
              "#7201a8"
             ],
             [
              0.3333333333333333,
              "#9c179e"
             ],
             [
              0.4444444444444444,
              "#bd3786"
             ],
             [
              0.5555555555555556,
              "#d8576b"
             ],
             [
              0.6666666666666666,
              "#ed7953"
             ],
             [
              0.7777777777777778,
              "#fb9f3a"
             ],
             [
              0.8888888888888888,
              "#fdca26"
             ],
             [
              1,
              "#f0f921"
             ]
            ],
            "type": "histogram2dcontour"
           }
          ],
          "mesh3d": [
           {
            "colorbar": {
             "outlinewidth": 0,
             "ticks": ""
            },
            "type": "mesh3d"
           }
          ],
          "parcoords": [
           {
            "line": {
             "colorbar": {
              "outlinewidth": 0,
              "ticks": ""
             }
            },
            "type": "parcoords"
           }
          ],
          "pie": [
           {
            "automargin": true,
            "type": "pie"
           }
          ],
          "scatter": [
           {
            "fillpattern": {
             "fillmode": "overlay",
             "size": 10,
             "solidity": 0.2
            },
            "type": "scatter"
           }
          ],
          "scatter3d": [
           {
            "line": {
             "colorbar": {
              "outlinewidth": 0,
              "ticks": ""
             }
            },
            "marker": {
             "colorbar": {
              "outlinewidth": 0,
              "ticks": ""
             }
            },
            "type": "scatter3d"
           }
          ],
          "scattercarpet": [
           {
            "marker": {
             "colorbar": {
              "outlinewidth": 0,
              "ticks": ""
             }
            },
            "type": "scattercarpet"
           }
          ],
          "scattergeo": [
           {
            "marker": {
             "colorbar": {
              "outlinewidth": 0,
              "ticks": ""
             }
            },
            "type": "scattergeo"
           }
          ],
          "scattergl": [
           {
            "marker": {
             "colorbar": {
              "outlinewidth": 0,
              "ticks": ""
             }
            },
            "type": "scattergl"
           }
          ],
          "scattermapbox": [
           {
            "marker": {
             "colorbar": {
              "outlinewidth": 0,
              "ticks": ""
             }
            },
            "type": "scattermapbox"
           }
          ],
          "scatterpolar": [
           {
            "marker": {
             "colorbar": {
              "outlinewidth": 0,
              "ticks": ""
             }
            },
            "type": "scatterpolar"
           }
          ],
          "scatterpolargl": [
           {
            "marker": {
             "colorbar": {
              "outlinewidth": 0,
              "ticks": ""
             }
            },
            "type": "scatterpolargl"
           }
          ],
          "scatterternary": [
           {
            "marker": {
             "colorbar": {
              "outlinewidth": 0,
              "ticks": ""
             }
            },
            "type": "scatterternary"
           }
          ],
          "surface": [
           {
            "colorbar": {
             "outlinewidth": 0,
             "ticks": ""
            },
            "colorscale": [
             [
              0,
              "#0d0887"
             ],
             [
              0.1111111111111111,
              "#46039f"
             ],
             [
              0.2222222222222222,
              "#7201a8"
             ],
             [
              0.3333333333333333,
              "#9c179e"
             ],
             [
              0.4444444444444444,
              "#bd3786"
             ],
             [
              0.5555555555555556,
              "#d8576b"
             ],
             [
              0.6666666666666666,
              "#ed7953"
             ],
             [
              0.7777777777777778,
              "#fb9f3a"
             ],
             [
              0.8888888888888888,
              "#fdca26"
             ],
             [
              1,
              "#f0f921"
             ]
            ],
            "type": "surface"
           }
          ],
          "table": [
           {
            "cells": {
             "fill": {
              "color": "#EBF0F8"
             },
             "line": {
              "color": "white"
             }
            },
            "header": {
             "fill": {
              "color": "#C8D4E3"
             },
             "line": {
              "color": "white"
             }
            },
            "type": "table"
           }
          ]
         },
         "layout": {
          "annotationdefaults": {
           "arrowcolor": "#2a3f5f",
           "arrowhead": 0,
           "arrowwidth": 1
          },
          "autotypenumbers": "strict",
          "coloraxis": {
           "colorbar": {
            "outlinewidth": 0,
            "ticks": ""
           }
          },
          "colorscale": {
           "diverging": [
            [
             0,
             "#8e0152"
            ],
            [
             0.1,
             "#c51b7d"
            ],
            [
             0.2,
             "#de77ae"
            ],
            [
             0.3,
             "#f1b6da"
            ],
            [
             0.4,
             "#fde0ef"
            ],
            [
             0.5,
             "#f7f7f7"
            ],
            [
             0.6,
             "#e6f5d0"
            ],
            [
             0.7,
             "#b8e186"
            ],
            [
             0.8,
             "#7fbc41"
            ],
            [
             0.9,
             "#4d9221"
            ],
            [
             1,
             "#276419"
            ]
           ],
           "sequential": [
            [
             0,
             "#0d0887"
            ],
            [
             0.1111111111111111,
             "#46039f"
            ],
            [
             0.2222222222222222,
             "#7201a8"
            ],
            [
             0.3333333333333333,
             "#9c179e"
            ],
            [
             0.4444444444444444,
             "#bd3786"
            ],
            [
             0.5555555555555556,
             "#d8576b"
            ],
            [
             0.6666666666666666,
             "#ed7953"
            ],
            [
             0.7777777777777778,
             "#fb9f3a"
            ],
            [
             0.8888888888888888,
             "#fdca26"
            ],
            [
             1,
             "#f0f921"
            ]
           ],
           "sequentialminus": [
            [
             0,
             "#0d0887"
            ],
            [
             0.1111111111111111,
             "#46039f"
            ],
            [
             0.2222222222222222,
             "#7201a8"
            ],
            [
             0.3333333333333333,
             "#9c179e"
            ],
            [
             0.4444444444444444,
             "#bd3786"
            ],
            [
             0.5555555555555556,
             "#d8576b"
            ],
            [
             0.6666666666666666,
             "#ed7953"
            ],
            [
             0.7777777777777778,
             "#fb9f3a"
            ],
            [
             0.8888888888888888,
             "#fdca26"
            ],
            [
             1,
             "#f0f921"
            ]
           ]
          },
          "colorway": [
           "#636efa",
           "#EF553B",
           "#00cc96",
           "#ab63fa",
           "#FFA15A",
           "#19d3f3",
           "#FF6692",
           "#B6E880",
           "#FF97FF",
           "#FECB52"
          ],
          "font": {
           "color": "#2a3f5f"
          },
          "geo": {
           "bgcolor": "white",
           "lakecolor": "white",
           "landcolor": "#E5ECF6",
           "showlakes": true,
           "showland": true,
           "subunitcolor": "white"
          },
          "hoverlabel": {
           "align": "left"
          },
          "hovermode": "closest",
          "mapbox": {
           "style": "light"
          },
          "paper_bgcolor": "white",
          "plot_bgcolor": "#E5ECF6",
          "polar": {
           "angularaxis": {
            "gridcolor": "white",
            "linecolor": "white",
            "ticks": ""
           },
           "bgcolor": "#E5ECF6",
           "radialaxis": {
            "gridcolor": "white",
            "linecolor": "white",
            "ticks": ""
           }
          },
          "scene": {
           "xaxis": {
            "backgroundcolor": "#E5ECF6",
            "gridcolor": "white",
            "gridwidth": 2,
            "linecolor": "white",
            "showbackground": true,
            "ticks": "",
            "zerolinecolor": "white"
           },
           "yaxis": {
            "backgroundcolor": "#E5ECF6",
            "gridcolor": "white",
            "gridwidth": 2,
            "linecolor": "white",
            "showbackground": true,
            "ticks": "",
            "zerolinecolor": "white"
           },
           "zaxis": {
            "backgroundcolor": "#E5ECF6",
            "gridcolor": "white",
            "gridwidth": 2,
            "linecolor": "white",
            "showbackground": true,
            "ticks": "",
            "zerolinecolor": "white"
           }
          },
          "shapedefaults": {
           "line": {
            "color": "#2a3f5f"
           }
          },
          "ternary": {
           "aaxis": {
            "gridcolor": "white",
            "linecolor": "white",
            "ticks": ""
           },
           "baxis": {
            "gridcolor": "white",
            "linecolor": "white",
            "ticks": ""
           },
           "bgcolor": "#E5ECF6",
           "caxis": {
            "gridcolor": "white",
            "linecolor": "white",
            "ticks": ""
           }
          },
          "title": {
           "x": 0.05
          },
          "xaxis": {
           "automargin": true,
           "gridcolor": "white",
           "linecolor": "white",
           "ticks": "",
           "title": {
            "standoff": 15
           },
           "zerolinecolor": "white",
           "zerolinewidth": 2
          },
          "yaxis": {
           "automargin": true,
           "gridcolor": "white",
           "linecolor": "white",
           "ticks": "",
           "title": {
            "standoff": 15
           },
           "zerolinecolor": "white",
           "zerolinewidth": 2
          }
         }
        },
        "title": {
         "text": "Activation Differences of Personal Features on Personal vs. General Prompts"
        },
        "xaxis": {
         "anchor": "y",
         "domain": [
          0,
          1
         ],
         "fixedrange": true,
         "showticklabels": false,
         "title": {
          "text": "Features"
         }
        },
        "yaxis": {
         "anchor": "x",
         "domain": [
          0,
          1
         ],
         "fixedrange": true,
         "title": {
          "text": "Mean Activation Difference (Personal - General)"
         }
        }
       }
      },
      "text/html": [
       "<div>                            <div id=\"6717b8af-c0e6-466d-b019-38718417baad\" class=\"plotly-graph-div\" style=\"height:600px; width:100%;\"></div>            <script type=\"text/javascript\">                require([\"plotly\"], function(Plotly) {                    window.PLOTLYENV=window.PLOTLYENV || {};                                    if (document.getElementById(\"6717b8af-c0e6-466d-b019-38718417baad\")) {                    Plotly.newPlot(                        \"6717b8af-c0e6-466d-b019-38718417baad\",                        [{\"alignmentgroup\":\"True\",\"customdata\":[[\"AI chatbot response of \\\"i'm a\\u002fan\\\" to questions of \\\"who are you\\\"\",\"???\",\"qwen_trainer1_layer15_asst\"]],\"hovertemplate\":\"\\u003cb\\u003efeature_id: %{hovertext}\\u003c\\u002fb\\u003e\\u003cbr\\u003echat_desc: %{customdata[0]}\\u003cbr\\u003ept_desc: %{customdata[1]}\\u003cbr\\u003e\\u003cextra\\u003e\\u003c\\u002fextra\\u003e\",\"hovertext\":[29717.0],\"legendgroup\":\"qwen_trainer1_layer15_asst\",\"marker\":{\"color\":\"#19D3F3\",\"pattern\":{\"shape\":\"\"}},\"name\":\"qwen_trainer1_layer15_asst\",\"offsetgroup\":\"qwen_trainer1_layer15_asst\",\"orientation\":\"v\",\"showlegend\":true,\"text\":[29717.0],\"textposition\":\"outside\",\"x\":[0],\"xaxis\":\"x\",\"y\":[1.6619951026196789],\"yaxis\":\"y\",\"type\":\"bar\",\"textfont\":{\"size\":9}},{\"alignmentgroup\":\"True\",\"customdata\":[[\"AI chatbot being given elaborate instructions (including attempts to jailbreak)\",\"very powerful fictional beings: superintelligent AI in sci-fi, electric appliances that can talk, witchcraft, voice of human nature\",\"qwen_trainer1_layer11_asst\"],[\"asimov's three laws of robotics, AI chatbots referring to their programming\",\"asimov's three laws of robotics, thinking machines and robots in sci-fi including HAL from 2001: a space odyssey\",\"qwen_trainer1_layer11_asst\"],[\"\\\"assistant\\\" header token after being asked to write about chemicals\",\"\\\"assistant\\\" token from descriptions of human assistant professions\",\"qwen_trainer1_layer11_asst\"],[\"\\\"assistant\\\" header token after being asked follow-up questions\",\"colon before bash commands ???\",\"qwen_trainer1_layer11_asst\"],[\"\\\"assistant\\\" header token after being asked to do a writing or copyediting task\",\"\\\"assistant\\\" token from descriptions of human assistant professions\",\"qwen_trainer1_layer11_asst\"]],\"hovertemplate\":\"\\u003cb\\u003efeature_id: %{hovertext}\\u003c\\u002fb\\u003e\\u003cbr\\u003echat_desc: %{customdata[0]}\\u003cbr\\u003ept_desc: %{customdata[1]}\\u003cbr\\u003e\\u003cextra\\u003e\\u003c\\u002fextra\\u003e\",\"hovertext\":[18703.0,30068.0,130794.0,49925.0,81528.0],\"legendgroup\":\"qwen_trainer1_layer11_asst\",\"marker\":{\"color\":\"#AB63FA\",\"pattern\":{\"shape\":\"\"}},\"name\":\"qwen_trainer1_layer11_asst\",\"offsetgroup\":\"qwen_trainer1_layer11_asst\",\"orientation\":\"v\",\"showlegend\":true,\"text\":[18703.0,30068.0,130794.0,49925.0,81528.0],\"textposition\":\"outside\",\"x\":[1,2,14,15,18],\"xaxis\":\"x\",\"y\":[0.7051738053246719,0.46846831778017833,0.0513608306996102,-0.13643138852633208,-4.393568038937988],\"yaxis\":\"y\",\"type\":\"bar\",\"textfont\":{\"size\":9}},{\"alignmentgroup\":\"True\",\"customdata\":[[\"newline before AI chatbot response to generating a description of a chemical company\",\"token before a summary, blurb, or lede (often with preceding numbers giving desired length)\",\"qwen_trainer1_layer15_newline\"],[\"newline before AI chatbot engages in nsfw role-play or being jailbroken \",\"tokens before code errors, misbehaving, descriptions of colonialism, jingoism, self-put downs, sarcasm\",\"qwen_trainer1_layer15_newline\"],[\"newline after being asked to give a one-sentence explainer\",\"newline before one-sentence summary or quote\",\"qwen_trainer1_layer15_newline\"],[\"newline before AI chatbot answers yes or no question about factual consistency, reasoning, or semantic content \",\"newline before answer in wide range of contexts ???\",\"qwen_trainer1_layer15_newline\"]],\"hovertemplate\":\"\\u003cb\\u003efeature_id: %{hovertext}\\u003c\\u002fb\\u003e\\u003cbr\\u003echat_desc: %{customdata[0]}\\u003cbr\\u003ept_desc: %{customdata[1]}\\u003cbr\\u003e\\u003cextra\\u003e\\u003c\\u002fextra\\u003e\",\"hovertext\":[48045.0,88910.0,9953.0,49123.0],\"legendgroup\":\"qwen_trainer1_layer15_newline\",\"marker\":{\"color\":\"#FF6692\",\"pattern\":{\"shape\":\"\"}},\"name\":\"qwen_trainer1_layer15_newline\",\"offsetgroup\":\"qwen_trainer1_layer15_newline\",\"orientation\":\"v\",\"showlegend\":true,\"text\":[48045.0,88910.0,9953.0,49123.0],\"textposition\":\"outside\",\"x\":[3,8,16,17],\"xaxis\":\"x\",\"y\":[0.23425535856397858,0.1120151616667378,-0.14958854023303828,-2.3210994005040773],\"yaxis\":\"y\",\"type\":\"bar\",\"textfont\":{\"size\":9}},{\"alignmentgroup\":\"True\",\"customdata\":[[\"newline before \\\"hello\\\" in chinese\",\"newline or other text token before ???\",\"qwen_trainer1_layer11_newline\"],[\"newline after \\\"assistant\\\" header token when the AI chatbot is asked to behave a certain way if christian\",\"???\",\"qwen_trainer1_layer11_newline\"],[\"viewpoint, bird's eye view, first-person perspective\",\"the perspective of an organization (mainly healthcare system, government)\",\"qwen_trainer1_layer11_newline\"],[\"valuing or encouraging innovation\",\"valuing or encouraging innovation\",\"qwen_trainer1_layer11_newline\"],[\"user instructing AI chatbot or the AI chatbot agreeing to role-play, impersonate, or simulate a character\",\"impersonating, portraying, or giving an impression of a character\",\"qwen_trainer1_layer11_newline\"]],\"hovertemplate\":\"\\u003cb\\u003efeature_id: %{hovertext}\\u003c\\u002fb\\u003e\\u003cbr\\u003echat_desc: %{customdata[0]}\\u003cbr\\u003ept_desc: %{customdata[1]}\\u003cbr\\u003e\\u003cextra\\u003e\\u003c\\u002fextra\\u003e\",\"hovertext\":[6704.0,68574.0,16030.0,91607.0,90235.0],\"legendgroup\":\"qwen_trainer1_layer11_newline\",\"marker\":{\"color\":\"#FFA15A\",\"pattern\":{\"shape\":\"\"}},\"name\":\"qwen_trainer1_layer11_newline\",\"offsetgroup\":\"qwen_trainer1_layer11_newline\",\"orientation\":\"v\",\"showlegend\":true,\"text\":[6704.0,68574.0,16030.0,91607.0,90235.0],\"textposition\":\"outside\",\"x\":[4,6,10,12,13],\"xaxis\":\"x\",\"y\":[0.21777376531158452,0.1914369165818879,0.09593535119965049,0.08487489444309052,0.0804924927807118],\"yaxis\":\"y\",\"type\":\"bar\",\"textfont\":{\"size\":9}},{\"alignmentgroup\":\"True\",\"customdata\":[[\"instructions for role-playing, requirements, schema, templates, rules\",\"editing, helping write\\u002fpublish\\u002frefine text, forum moderator\",\"llama_trainer1_layer15_endheader\"],[\"programmatic instructions for processing text\",\"writing\\u002ftranslating feedback, literary criticism\",\"llama_trainer1_layer15_endheader\"]],\"hovertemplate\":\"\\u003cb\\u003efeature_id: %{hovertext}\\u003c\\u002fb\\u003e\\u003cbr\\u003echat_desc: %{customdata[0]}\\u003cbr\\u003ept_desc: %{customdata[1]}\\u003cbr\\u003e\\u003cextra\\u003e\\u003c\\u002fextra\\u003e\",\"hovertext\":[59035.0,47776.0],\"legendgroup\":\"llama_trainer1_layer15_endheader\",\"marker\":{\"color\":\"#00CC96\",\"pattern\":{\"shape\":\"\"}},\"name\":\"llama_trainer1_layer15_endheader\",\"offsetgroup\":\"llama_trainer1_layer15_endheader\",\"orientation\":\"v\",\"showlegend\":true,\"text\":[59035.0,47776.0],\"textposition\":\"outside\",\"x\":[5,7],\"xaxis\":\"x\",\"y\":[0.20864682269367413,0.1519569877916919],\"yaxis\":\"y\",\"type\":\"bar\",\"textfont\":{\"size\":9}},{\"alignmentgroup\":\"True\",\"customdata\":[[\"symbols, metaphors, representations (especially in role-playing scenarios) ???\",\"symbolism, representations, synechdoche ???\",\"llama_trainer1_layer15_asst\"]],\"hovertemplate\":\"\\u003cb\\u003efeature_id: %{hovertext}\\u003c\\u002fb\\u003e\\u003cbr\\u003echat_desc: %{customdata[0]}\\u003cbr\\u003ept_desc: %{customdata[1]}\\u003cbr\\u003e\\u003cextra\\u003e\\u003c\\u002fextra\\u003e\",\"hovertext\":[27476.0],\"legendgroup\":\"llama_trainer1_layer15_asst\",\"marker\":{\"color\":\"#EF553B\",\"pattern\":{\"shape\":\"\"}},\"name\":\"llama_trainer1_layer15_asst\",\"offsetgroup\":\"llama_trainer1_layer15_asst\",\"orientation\":\"v\",\"showlegend\":true,\"text\":[27476.0],\"textposition\":\"outside\",\"x\":[9],\"xaxis\":\"x\",\"y\":[0.10435937062309619],\"yaxis\":\"y\",\"type\":\"bar\",\"textfont\":{\"size\":9}},{\"alignmentgroup\":\"True\",\"customdata\":[[\"newline before nsfw roleplay\",\"newline between nsfw description, violence\",\"llama_trainer1_layer11_newline\"]],\"hovertemplate\":\"\\u003cb\\u003efeature_id: %{hovertext}\\u003c\\u002fb\\u003e\\u003cbr\\u003echat_desc: %{customdata[0]}\\u003cbr\\u003ept_desc: %{customdata[1]}\\u003cbr\\u003e\\u003cextra\\u003e\\u003c\\u002fextra\\u003e\",\"hovertext\":[126716.0],\"legendgroup\":\"llama_trainer1_layer11_newline\",\"marker\":{\"color\":\"#636EFA\",\"pattern\":{\"shape\":\"\"}},\"name\":\"llama_trainer1_layer11_newline\",\"offsetgroup\":\"llama_trainer1_layer11_newline\",\"orientation\":\"v\",\"showlegend\":true,\"text\":[126716.0],\"textposition\":\"outside\",\"x\":[11],\"xaxis\":\"x\",\"y\":[0.08708173405891609],\"yaxis\":\"y\",\"type\":\"bar\",\"textfont\":{\"size\":9}}],                        {\"template\":{\"data\":{\"histogram2dcontour\":[{\"type\":\"histogram2dcontour\",\"colorbar\":{\"outlinewidth\":0,\"ticks\":\"\"},\"colorscale\":[[0.0,\"#0d0887\"],[0.1111111111111111,\"#46039f\"],[0.2222222222222222,\"#7201a8\"],[0.3333333333333333,\"#9c179e\"],[0.4444444444444444,\"#bd3786\"],[0.5555555555555556,\"#d8576b\"],[0.6666666666666666,\"#ed7953\"],[0.7777777777777778,\"#fb9f3a\"],[0.8888888888888888,\"#fdca26\"],[1.0,\"#f0f921\"]]}],\"choropleth\":[{\"type\":\"choropleth\",\"colorbar\":{\"outlinewidth\":0,\"ticks\":\"\"}}],\"histogram2d\":[{\"type\":\"histogram2d\",\"colorbar\":{\"outlinewidth\":0,\"ticks\":\"\"},\"colorscale\":[[0.0,\"#0d0887\"],[0.1111111111111111,\"#46039f\"],[0.2222222222222222,\"#7201a8\"],[0.3333333333333333,\"#9c179e\"],[0.4444444444444444,\"#bd3786\"],[0.5555555555555556,\"#d8576b\"],[0.6666666666666666,\"#ed7953\"],[0.7777777777777778,\"#fb9f3a\"],[0.8888888888888888,\"#fdca26\"],[1.0,\"#f0f921\"]]}],\"heatmap\":[{\"type\":\"heatmap\",\"colorbar\":{\"outlinewidth\":0,\"ticks\":\"\"},\"colorscale\":[[0.0,\"#0d0887\"],[0.1111111111111111,\"#46039f\"],[0.2222222222222222,\"#7201a8\"],[0.3333333333333333,\"#9c179e\"],[0.4444444444444444,\"#bd3786\"],[0.5555555555555556,\"#d8576b\"],[0.6666666666666666,\"#ed7953\"],[0.7777777777777778,\"#fb9f3a\"],[0.8888888888888888,\"#fdca26\"],[1.0,\"#f0f921\"]]}],\"heatmapgl\":[{\"type\":\"heatmapgl\",\"colorbar\":{\"outlinewidth\":0,\"ticks\":\"\"},\"colorscale\":[[0.0,\"#0d0887\"],[0.1111111111111111,\"#46039f\"],[0.2222222222222222,\"#7201a8\"],[0.3333333333333333,\"#9c179e\"],[0.4444444444444444,\"#bd3786\"],[0.5555555555555556,\"#d8576b\"],[0.6666666666666666,\"#ed7953\"],[0.7777777777777778,\"#fb9f3a\"],[0.8888888888888888,\"#fdca26\"],[1.0,\"#f0f921\"]]}],\"contourcarpet\":[{\"type\":\"contourcarpet\",\"colorbar\":{\"outlinewidth\":0,\"ticks\":\"\"}}],\"contour\":[{\"type\":\"contour\",\"colorbar\":{\"outlinewidth\":0,\"ticks\":\"\"},\"colorscale\":[[0.0,\"#0d0887\"],[0.1111111111111111,\"#46039f\"],[0.2222222222222222,\"#7201a8\"],[0.3333333333333333,\"#9c179e\"],[0.4444444444444444,\"#bd3786\"],[0.5555555555555556,\"#d8576b\"],[0.6666666666666666,\"#ed7953\"],[0.7777777777777778,\"#fb9f3a\"],[0.8888888888888888,\"#fdca26\"],[1.0,\"#f0f921\"]]}],\"surface\":[{\"type\":\"surface\",\"colorbar\":{\"outlinewidth\":0,\"ticks\":\"\"},\"colorscale\":[[0.0,\"#0d0887\"],[0.1111111111111111,\"#46039f\"],[0.2222222222222222,\"#7201a8\"],[0.3333333333333333,\"#9c179e\"],[0.4444444444444444,\"#bd3786\"],[0.5555555555555556,\"#d8576b\"],[0.6666666666666666,\"#ed7953\"],[0.7777777777777778,\"#fb9f3a\"],[0.8888888888888888,\"#fdca26\"],[1.0,\"#f0f921\"]]}],\"mesh3d\":[{\"type\":\"mesh3d\",\"colorbar\":{\"outlinewidth\":0,\"ticks\":\"\"}}],\"scatter\":[{\"fillpattern\":{\"fillmode\":\"overlay\",\"size\":10,\"solidity\":0.2},\"type\":\"scatter\"}],\"parcoords\":[{\"type\":\"parcoords\",\"line\":{\"colorbar\":{\"outlinewidth\":0,\"ticks\":\"\"}}}],\"scatterpolargl\":[{\"type\":\"scatterpolargl\",\"marker\":{\"colorbar\":{\"outlinewidth\":0,\"ticks\":\"\"}}}],\"bar\":[{\"error_x\":{\"color\":\"#2a3f5f\"},\"error_y\":{\"color\":\"#2a3f5f\"},\"marker\":{\"line\":{\"color\":\"#E5ECF6\",\"width\":0.5},\"pattern\":{\"fillmode\":\"overlay\",\"size\":10,\"solidity\":0.2}},\"type\":\"bar\"}],\"scattergeo\":[{\"type\":\"scattergeo\",\"marker\":{\"colorbar\":{\"outlinewidth\":0,\"ticks\":\"\"}}}],\"scatterpolar\":[{\"type\":\"scatterpolar\",\"marker\":{\"colorbar\":{\"outlinewidth\":0,\"ticks\":\"\"}}}],\"histogram\":[{\"marker\":{\"pattern\":{\"fillmode\":\"overlay\",\"size\":10,\"solidity\":0.2}},\"type\":\"histogram\"}],\"scattergl\":[{\"type\":\"scattergl\",\"marker\":{\"colorbar\":{\"outlinewidth\":0,\"ticks\":\"\"}}}],\"scatter3d\":[{\"type\":\"scatter3d\",\"line\":{\"colorbar\":{\"outlinewidth\":0,\"ticks\":\"\"}},\"marker\":{\"colorbar\":{\"outlinewidth\":0,\"ticks\":\"\"}}}],\"scattermapbox\":[{\"type\":\"scattermapbox\",\"marker\":{\"colorbar\":{\"outlinewidth\":0,\"ticks\":\"\"}}}],\"scatterternary\":[{\"type\":\"scatterternary\",\"marker\":{\"colorbar\":{\"outlinewidth\":0,\"ticks\":\"\"}}}],\"scattercarpet\":[{\"type\":\"scattercarpet\",\"marker\":{\"colorbar\":{\"outlinewidth\":0,\"ticks\":\"\"}}}],\"carpet\":[{\"aaxis\":{\"endlinecolor\":\"#2a3f5f\",\"gridcolor\":\"white\",\"linecolor\":\"white\",\"minorgridcolor\":\"white\",\"startlinecolor\":\"#2a3f5f\"},\"baxis\":{\"endlinecolor\":\"#2a3f5f\",\"gridcolor\":\"white\",\"linecolor\":\"white\",\"minorgridcolor\":\"white\",\"startlinecolor\":\"#2a3f5f\"},\"type\":\"carpet\"}],\"table\":[{\"cells\":{\"fill\":{\"color\":\"#EBF0F8\"},\"line\":{\"color\":\"white\"}},\"header\":{\"fill\":{\"color\":\"#C8D4E3\"},\"line\":{\"color\":\"white\"}},\"type\":\"table\"}],\"barpolar\":[{\"marker\":{\"line\":{\"color\":\"#E5ECF6\",\"width\":0.5},\"pattern\":{\"fillmode\":\"overlay\",\"size\":10,\"solidity\":0.2}},\"type\":\"barpolar\"}],\"pie\":[{\"automargin\":true,\"type\":\"pie\"}]},\"layout\":{\"autotypenumbers\":\"strict\",\"colorway\":[\"#636efa\",\"#EF553B\",\"#00cc96\",\"#ab63fa\",\"#FFA15A\",\"#19d3f3\",\"#FF6692\",\"#B6E880\",\"#FF97FF\",\"#FECB52\"],\"font\":{\"color\":\"#2a3f5f\"},\"hovermode\":\"closest\",\"hoverlabel\":{\"align\":\"left\"},\"paper_bgcolor\":\"white\",\"plot_bgcolor\":\"#E5ECF6\",\"polar\":{\"bgcolor\":\"#E5ECF6\",\"angularaxis\":{\"gridcolor\":\"white\",\"linecolor\":\"white\",\"ticks\":\"\"},\"radialaxis\":{\"gridcolor\":\"white\",\"linecolor\":\"white\",\"ticks\":\"\"}},\"ternary\":{\"bgcolor\":\"#E5ECF6\",\"aaxis\":{\"gridcolor\":\"white\",\"linecolor\":\"white\",\"ticks\":\"\"},\"baxis\":{\"gridcolor\":\"white\",\"linecolor\":\"white\",\"ticks\":\"\"},\"caxis\":{\"gridcolor\":\"white\",\"linecolor\":\"white\",\"ticks\":\"\"}},\"coloraxis\":{\"colorbar\":{\"outlinewidth\":0,\"ticks\":\"\"}},\"colorscale\":{\"sequential\":[[0.0,\"#0d0887\"],[0.1111111111111111,\"#46039f\"],[0.2222222222222222,\"#7201a8\"],[0.3333333333333333,\"#9c179e\"],[0.4444444444444444,\"#bd3786\"],[0.5555555555555556,\"#d8576b\"],[0.6666666666666666,\"#ed7953\"],[0.7777777777777778,\"#fb9f3a\"],[0.8888888888888888,\"#fdca26\"],[1.0,\"#f0f921\"]],\"sequentialminus\":[[0.0,\"#0d0887\"],[0.1111111111111111,\"#46039f\"],[0.2222222222222222,\"#7201a8\"],[0.3333333333333333,\"#9c179e\"],[0.4444444444444444,\"#bd3786\"],[0.5555555555555556,\"#d8576b\"],[0.6666666666666666,\"#ed7953\"],[0.7777777777777778,\"#fb9f3a\"],[0.8888888888888888,\"#fdca26\"],[1.0,\"#f0f921\"]],\"diverging\":[[0,\"#8e0152\"],[0.1,\"#c51b7d\"],[0.2,\"#de77ae\"],[0.3,\"#f1b6da\"],[0.4,\"#fde0ef\"],[0.5,\"#f7f7f7\"],[0.6,\"#e6f5d0\"],[0.7,\"#b8e186\"],[0.8,\"#7fbc41\"],[0.9,\"#4d9221\"],[1,\"#276419\"]]},\"xaxis\":{\"gridcolor\":\"white\",\"linecolor\":\"white\",\"ticks\":\"\",\"title\":{\"standoff\":15},\"zerolinecolor\":\"white\",\"automargin\":true,\"zerolinewidth\":2},\"yaxis\":{\"gridcolor\":\"white\",\"linecolor\":\"white\",\"ticks\":\"\",\"title\":{\"standoff\":15},\"zerolinecolor\":\"white\",\"automargin\":true,\"zerolinewidth\":2},\"scene\":{\"xaxis\":{\"backgroundcolor\":\"#E5ECF6\",\"gridcolor\":\"white\",\"linecolor\":\"white\",\"showbackground\":true,\"ticks\":\"\",\"zerolinecolor\":\"white\",\"gridwidth\":2},\"yaxis\":{\"backgroundcolor\":\"#E5ECF6\",\"gridcolor\":\"white\",\"linecolor\":\"white\",\"showbackground\":true,\"ticks\":\"\",\"zerolinecolor\":\"white\",\"gridwidth\":2},\"zaxis\":{\"backgroundcolor\":\"#E5ECF6\",\"gridcolor\":\"white\",\"linecolor\":\"white\",\"showbackground\":true,\"ticks\":\"\",\"zerolinecolor\":\"white\",\"gridwidth\":2}},\"shapedefaults\":{\"line\":{\"color\":\"#2a3f5f\"}},\"annotationdefaults\":{\"arrowcolor\":\"#2a3f5f\",\"arrowhead\":0,\"arrowwidth\":1},\"geo\":{\"bgcolor\":\"white\",\"landcolor\":\"#E5ECF6\",\"subunitcolor\":\"white\",\"showland\":true,\"showlakes\":true,\"lakecolor\":\"white\"},\"title\":{\"x\":0.05},\"mapbox\":{\"style\":\"light\"}}},\"xaxis\":{\"anchor\":\"y\",\"domain\":[0.0,1.0],\"title\":{\"text\":\"Features\"},\"fixedrange\":true,\"showticklabels\":false},\"yaxis\":{\"anchor\":\"x\",\"domain\":[0.0,1.0],\"title\":{\"text\":\"Mean Activation Difference (Personal - General)\"},\"fixedrange\":true},\"legend\":{\"title\":{\"text\":\"Source\"},\"tracegroupgap\":0},\"title\":{\"text\":\"Activation Differences of Personal Features on Personal vs. General Prompts\"},\"barmode\":\"relative\",\"shapes\":[{\"line\":{\"color\":\"black\",\"dash\":\"dash\"},\"type\":\"line\",\"x0\":0,\"x1\":1,\"xref\":\"x domain\",\"y0\":0,\"y1\":0,\"yref\":\"y\"}],\"height\":600,\"hovermode\":\"closest\"},                        {\"responsive\": true}                    ).then(function(){\n",
       "                            \n",
       "var gd = document.getElementById('6717b8af-c0e6-466d-b019-38718417baad');\n",
       "var x = new MutationObserver(function (mutations, observer) {{\n",
       "        var display = window.getComputedStyle(gd).display;\n",
       "        if (!display || display === 'none') {{\n",
       "            console.log([gd, 'removed!']);\n",
       "            Plotly.purge(gd);\n",
       "            observer.disconnect();\n",
       "        }}\n",
       "}});\n",
       "\n",
       "// Listen for the removal of the full notebook cells\n",
       "var notebookContainer = gd.closest('#notebook-container');\n",
       "if (notebookContainer) {{\n",
       "    x.observe(notebookContainer, {childList: true});\n",
       "}}\n",
       "\n",
       "// Listen for the clearing of the current output cell\n",
       "var outputEl = gd.closest('.output');\n",
       "if (outputEl) {{\n",
       "    x.observe(outputEl, {childList: true});\n",
       "}}\n",
       "\n",
       "                        })                };                });            </script>        </div>"
      ]
     },
     "metadata": {},
     "output_type": "display_data"
    }
   ],
   "source": [
    "if not final_combined_df.empty and len(plot_df) > 0:\n",
    "    # Calculate activation difference (personal - general) if not already done\n",
    "    if 'activation_difference' not in plot_df.columns:\n",
    "        plot_df['activation_difference'] = plot_df['personal_mean_numeric'] - plot_df['general_activation_mean']\n",
    "    \n",
    "    # Sort by activation difference (highest to lowest)\n",
    "    plot_df_sorted = plot_df.sort_values('activation_difference', ascending=False).reset_index(drop=True)\n",
    "    \n",
    "    # Create a copy with cleaned source names for display\n",
    "    plot_df_sorted_display = plot_df_sorted.copy()\n",
    "    plot_df_sorted_display['source_clean'] = plot_df_sorted_display['source'].str.replace('.csv', '')\n",
    "    \n",
    "    # Interactive Bar Plot\n",
    "    fig_bar = px.bar(\n",
    "        plot_df_sorted_display,\n",
    "        x=plot_df_sorted_display.index,\n",
    "        y='activation_difference',\n",
    "        color='source_clean',\n",
    "        color_discrete_map=dict(zip(source_names, colors)),\n",
    "        hover_data={'chat_desc': True, 'pt_desc': True, 'source_clean': False, 'activation_difference': False},\n",
    "        hover_name='feature_id',\n",
    "        text='feature_id',\n",
    "        title='Activation Differences of Personal Features on Personal vs. General Prompts',\n",
    "        labels={\n",
    "            'x': 'Features',\n",
    "            'activation_difference': 'Mean Activation Difference (Personal - General)',\n",
    "            'source_clean': 'Source'\n",
    "        }\n",
    "    )\n",
    "    \n",
    "    # Update text labels to show feature IDs on bars\n",
    "    fig_bar.update_traces(\n",
    "        textposition=\"outside\",\n",
    "        textfont_size=9\n",
    "    )\n",
    "    \n",
    "    # Add horizontal line at y=0\n",
    "    fig_bar.add_hline(y=0, line_dash=\"dash\", line_color=\"black\")\n",
    "    \n",
    "    # Update layout - disable zoom and pan for bar plot, remove x-axis numbers\n",
    "    fig_bar.update_layout(\n",
    "        xaxis_title='Features',\n",
    "        yaxis_title='Mean Activation Difference (Personal - General)',\n",
    "        height=600,\n",
    "        hovermode='closest',\n",
    "        xaxis=dict(\n",
    "            fixedrange=True,  # Disable zoom/pan on x-axis\n",
    "            showticklabels=False  # Remove x-axis tick labels (numbers)\n",
    "        ),\n",
    "        yaxis=dict(fixedrange=True)   # Disable zoom/pan on y-axis\n",
    "    )\n",
    "    \n",
    "    # Update hover template to show only chat_desc and pt_desc\n",
    "    fig_bar.update_traces(\n",
    "        hovertemplate='<b>feature_id: %{hovertext}</b><br>' +\n",
    "                     'chat_desc: %{customdata[0]}<br>' +\n",
    "                     'pt_desc: %{customdata[1]}<br>' +\n",
    "                     '<extra></extra>'\n",
    "    )\n",
    "    \n",
    "    # Save as HTML file\n",
    "    fig_bar.write_html(\"interactive_bar_feature_activations.html\")\n",
    "    print(\"Bar plot saved as: interactive_bar_feature_activations.html\")\n",
    "    \n",
    "    fig_bar.show()\n",
    "    \n",
    "else:\n",
    "    print(\"No valid data for interactive bar plot\")"
   ]
  }
 ],
 "metadata": {
  "kernelspec": {
   "display_name": ".venv",
   "language": "python",
   "name": "python3"
  },
  "language_info": {
   "codemirror_mode": {
    "name": "ipython",
    "version": 3
   },
   "file_extension": ".py",
   "mimetype": "text/x-python",
   "name": "python",
   "nbconvert_exporter": "python",
   "pygments_lexer": "ipython3",
   "version": "3.12.11"
  }
 },
 "nbformat": 4,
 "nbformat_minor": 4
}
