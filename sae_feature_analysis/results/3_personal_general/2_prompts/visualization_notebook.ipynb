{
 "cells": [
  {
   "cell_type": "markdown",
   "metadata": {},
   "source": [
    "# SAE Feature Analysis Visualization\n",
    "\n",
    "This notebook creates an interactive heatmap to visualize the mean activation values for different features across prompt labels."
   ]
  },
  {
   "cell_type": "code",
   "execution_count": 40,
   "metadata": {},
   "outputs": [],
   "source": [
    "import pandas as pd\n",
    "import numpy as np\n",
    "import plotly.express as px\n",
    "import plotly.graph_objects as go\n",
    "from plotly.subplots import make_subplots\n",
    "import json\n",
    "from collections import defaultdict"
   ]
  },
  {
   "cell_type": "markdown",
   "metadata": {},
   "source": [
    "## Load and Process Data"
   ]
  },
  {
   "cell_type": "code",
   "execution_count": 41,
   "metadata": {},
   "outputs": [
    {
     "name": "stdout",
     "output_type": "stream",
     "text": [
      "Loaded 19 feature descriptions\n",
      "\n",
      "Columns: ['feature_id', 'general_activation_mean', 'general_activation_max', 'general_activation_min', 'personal_mean', 'personal_cohens_d', 'chat_desc', 'pt_desc', 'type', 'source', 'token', 'num_prompts', 'link', 'claude_completion', 'claude_desc', 'claude_type']\n",
      "\n",
      "First few rows:\n",
      "   feature_id  general_activation_mean  general_activation_max  \\\n",
      "0       18703                 1.614838                2.291193   \n",
      "1       30068                 1.336165                1.336165   \n",
      "2       81528                 5.142055               10.429818   \n",
      "3      130794                 1.645730                1.965041   \n",
      "4       49925                 1.565177                1.917678   \n",
      "\n",
      "   general_activation_min  personal_mean  personal_cohens_d  \\\n",
      "0                1.302976       0.832151           1.319064   \n",
      "1                1.336165       0.478012           0.946825   \n",
      "2                1.297420       0.234832           0.602961   \n",
      "3                1.246574       0.121892           0.408248   \n",
      "4                1.260828       0.109601           0.408248   \n",
      "\n",
      "                                           chat_desc  \\\n",
      "0  AI chatbot being given elaborate instructions ...   \n",
      "1  asimov's three laws of robotics, AI chatbots r...   \n",
      "2  \"assistant\" header token after being asked to ...   \n",
      "3  \"assistant\" header token after being asked to ...   \n",
      "4  \"assistant\" header token after being asked fol...   \n",
      "\n",
      "                                             pt_desc      type  \\\n",
      "0  very powerful fictional beings: superintellige...    entity   \n",
      "1  asimov's three laws of robotics, thinking mach...    entity   \n",
      "2  \"assistant\" token from descriptions of human a...    entity   \n",
      "3  \"assistant\" token from descriptions of human a...    entity   \n",
      "4                     colon before bash commands ???  semantic   \n",
      "\n",
      "                  source token  num_prompts  \\\n",
      "0  qwen_trainer1_layer11  asst           11   \n",
      "1  qwen_trainer1_layer11  asst            1   \n",
      "2  qwen_trainer1_layer11  asst          126   \n",
      "3  qwen_trainer1_layer11  asst            6   \n",
      "4  qwen_trainer1_layer11  asst           22   \n",
      "\n",
      "                                                link  \\\n",
      "0  https://completely-touched-platypus.ngrok-free...   \n",
      "1  https://completely-touched-platypus.ngrok-free...   \n",
      "2  https://completely-touched-platypus.ngrok-free...   \n",
      "3  https://completely-touched-platypus.ngrok-free...   \n",
      "4  https://completely-touched-platypus.ngrok-free...   \n",
      "\n",
      "                                   claude_completion  \\\n",
      "0  <reasoning>\\nLooking across these examples, I ...   \n",
      "1  <reasoning>\\nLooking at these examples, there'...   \n",
      "2  <reasoning>\\nLooking across these examples, I ...   \n",
      "3  <reasoning>\\nLooking at these examples, I noti...   \n",
      "4  <reasoning>\\nLooking at the examples, I notice...   \n",
      "\n",
      "                                         claude_desc claude_type  \n",
      "0  This feature detects first-person self-referen...    semantic  \n",
      "1  This feature detects discussions of Asimov's L...    semantic  \n",
      "2  This feature detects AI-generated or AI-assist...    semantic  \n",
      "3  This feature detects mentions of \"assistant\" a...      entity  \n",
      "4  This feature detects conversational continuati...    semantic  \n"
     ]
    }
   ],
   "source": [
    "# Load the CSV file with feature descriptions\n",
    "desc_df = pd.read_csv('personal_general_desc.csv')\n",
    "print(f\"Loaded {len(desc_df)} feature descriptions\")\n",
    "print(\"\\nColumns:\", desc_df.columns.tolist())\n",
    "print(\"\\nFirst few rows:\")\n",
    "print(desc_df.head())"
   ]
  },
  {
   "cell_type": "code",
   "execution_count": 42,
   "metadata": {},
   "outputs": [
    {
     "name": "stdout",
     "output_type": "stream",
     "text": [
      "Loaded 19 feature records\n",
      "\n",
      "First record keys: ['feature_id', 'token', 'source', 'active_prompts']\n",
      "\n",
      "First active prompt keys: ['prompt_id', 'prompt_text', 'prompt_label', 'prompt_feature_activation', 'tokenized_prompt', 'tokens']\n"
     ]
    }
   ],
   "source": [
    "# Load the JSONL file with prompt data\n",
    "prompt_data = []\n",
    "with open('personal_general_prompts.jsonl', 'r') as f:\n",
    "    for line in f:\n",
    "        prompt_data.append(json.loads(line.strip()))\n",
    "\n",
    "print(f\"Loaded {len(prompt_data)} feature records\")\n",
    "print(\"\\nFirst record keys:\", list(prompt_data[0].keys()))\n",
    "print(\"\\nFirst active prompt keys:\", list(prompt_data[0]['active_prompts'][0].keys()))"
   ]
  },
  {
   "cell_type": "markdown",
   "metadata": {},
   "source": [
    "## Data Processing for Heatmap"
   ]
  },
  {
   "cell_type": "code",
   "execution_count": 43,
   "metadata": {},
   "outputs": [
    {
     "name": "stdout",
     "output_type": "stream",
     "text": [
      "Available prompt labels: ['analysis', 'code', 'creative', 'math', 'medical', 'therapy', 'trivia']\n",
      "\n",
      "Prompt counts by label:\n",
      "  analysis: 69\n",
      "  code: 41\n",
      "  creative: 74\n",
      "  math: 41\n",
      "  medical: 31\n",
      "  therapy: 44\n",
      "  trivia: 31\n"
     ]
    }
   ],
   "source": [
    "# Process data to create a structure for the heatmap\n",
    "# We need: feature_id, prompt_label, mean_activation\n",
    "\n",
    "# First, let's explore the prompt labels\n",
    "all_labels = set()\n",
    "for record in prompt_data:\n",
    "    for prompt in record['active_prompts']:\n",
    "        all_labels.add(prompt['prompt_label'])\n",
    "\n",
    "print(\"Available prompt labels:\", sorted(all_labels))\n",
    "\n",
    "# Count prompts per label\n",
    "label_counts = defaultdict(int)\n",
    "for record in prompt_data:\n",
    "    for prompt in record['active_prompts']:\n",
    "        label_counts[prompt['prompt_label']] += 1\n",
    "\n",
    "print(\"\\nPrompt counts by label:\")\n",
    "for label, count in sorted(label_counts.items()):\n",
    "    print(f\"  {label}: {count}\")"
   ]
  },
  {
   "cell_type": "code",
   "execution_count": 44,
   "metadata": {},
   "outputs": [
    {
     "name": "stdout",
     "output_type": "stream",
     "text": [
      "Created heatmap data with 42 rows\n",
      "\n",
      "Sample data:\n",
      "   feature_id prompt_label  mean_activation  num_prompts\n",
      "0        6704       trivia         1.513002            3\n",
      "1       16030         code         1.417526            1\n",
      "2       18703     creative         1.680974            9\n",
      "3       18703       trivia         1.317224            2\n",
      "4       30068     creative         1.336165            1\n",
      "5       49925     analysis         1.537387            6\n",
      "6       49925         code         1.488580            2\n",
      "7       49925     creative         1.616846           10\n",
      "8       49925         math         1.620788            2\n",
      "9       49925      medical         1.411191            2\n"
     ]
    }
   ],
   "source": [
    "# Create the heatmap data structure\n",
    "heatmap_data = []\n",
    "\n",
    "for record in prompt_data:\n",
    "    feature_id = record['feature_id']\n",
    "    \n",
    "    # Group activations by prompt_label for this feature\n",
    "    label_activations = defaultdict(list)\n",
    "    \n",
    "    for prompt in record['active_prompts']:\n",
    "        prompt_label = prompt['prompt_label']\n",
    "        activation = prompt['prompt_feature_activation']\n",
    "        label_activations[prompt_label].append(activation)\n",
    "    \n",
    "    # Calculate mean activation for each label\n",
    "    for label, activations in label_activations.items():\n",
    "        mean_activation = np.mean(activations)\n",
    "        heatmap_data.append({\n",
    "            'feature_id': feature_id,\n",
    "            'prompt_label': label,\n",
    "            'mean_activation': mean_activation,\n",
    "            'num_prompts': len(activations)\n",
    "        })\n",
    "\n",
    "# Convert to DataFrame\n",
    "heatmap_df = pd.DataFrame(heatmap_data)\n",
    "print(f\"Created heatmap data with {len(heatmap_df)} rows\")\n",
    "print(\"\\nSample data:\")\n",
    "print(heatmap_df.head(10))"
   ]
  },
  {
   "cell_type": "code",
   "execution_count": 45,
   "metadata": {},
   "outputs": [
    {
     "name": "stdout",
     "output_type": "stream",
     "text": [
      "Pivot table shape: (19, 7)\n",
      "\n",
      "Feature IDs: [6704, 9953, 16030, 18703, 27476, 29717, 30068, 47776, 48045, 49123, 49925, 59035, 68574, 81528, 88910, 90235, 91607, 126716, 130794]\n",
      "\n",
      "Prompt labels: ['analysis', 'code', 'creative', 'math', 'medical', 'therapy', 'trivia']\n",
      "\n",
      "Data summary:\n",
      "prompt_label  analysis      code   creative      math   medical   therapy  \\\n",
      "count         8.000000  5.000000  12.000000  3.000000  4.000000  3.000000   \n",
      "mean          3.227787  2.340470   2.215122  3.858388  1.636622  2.372225   \n",
      "std           2.916427  1.234842   1.490797  2.372260  1.053856  3.502863   \n",
      "min           0.353672  1.417526   0.416995  1.620788  0.242600  0.310405   \n",
      "25%           1.253086  1.488580   1.379261  2.614796  1.119044  0.349975   \n",
      "50%           2.519060  1.609134   1.648910  3.608804  1.871319  0.389546   \n",
      "75%           4.328356  2.942980   2.727870  4.977188  2.388897  3.403135   \n",
      "max           8.808014  4.244131   6.233634  6.345573  2.561250  6.416724   \n",
      "\n",
      "prompt_label    trivia  \n",
      "count         7.000000  \n",
      "mean          2.069709  \n",
      "std           0.875378  \n",
      "min           1.317224  \n",
      "25%           1.579272  \n",
      "50%           1.974944  \n",
      "75%           2.044456  \n",
      "max           3.948338  \n"
     ]
    }
   ],
   "source": [
    "# Create a pivot table for the heatmap\n",
    "pivot_df = heatmap_df.pivot(index='feature_id', columns='prompt_label', values='mean_activation')\n",
    "\n",
    "print(f\"Pivot table shape: {pivot_df.shape}\")\n",
    "print(\"\\nFeature IDs:\", sorted(pivot_df.index.tolist()))\n",
    "print(\"\\nPrompt labels:\", sorted(pivot_df.columns.tolist()))\n",
    "print(\"\\nData summary:\")\n",
    "print(pivot_df.describe())"
   ]
  },
  {
   "cell_type": "markdown",
   "metadata": {},
   "source": [
    "## Enhanced Heatmap with Feature Descriptions"
   ]
  },
  {
   "cell_type": "code",
   "execution_count": 55,
   "metadata": {},
   "outputs": [
    {
     "data": {
      "application/vnd.plotly.v1+json": {
       "config": {
        "plotlyServerURL": "https://plot.ly"
       },
       "data": [
        {
         "colorscale": [
          [
           0,
           "#440154"
          ],
          [
           0.1111111111111111,
           "#482878"
          ],
          [
           0.2222222222222222,
           "#3e4989"
          ],
          [
           0.3333333333333333,
           "#31688e"
          ],
          [
           0.4444444444444444,
           "#26828e"
          ],
          [
           0.5555555555555556,
           "#1f9e89"
          ],
          [
           0.6666666666666666,
           "#35b779"
          ],
          [
           0.7777777777777778,
           "#6ece58"
          ],
          [
           0.8888888888888888,
           "#b5de2b"
          ],
          [
           1,
           "#fde725"
          ]
         ],
         "hoverongaps": false,
         "hovertemplate": "<span style=\"white-space: nowrap; max-width: 400px; display: inline-block;\">%{hovertext}</span><extra></extra>",
         "hovertext": [
          [
           "Feature ID: 6704<br>Category: analysis<br>No activation data<br>Type: semantic<br>Description: newline or other text<br>token before ???",
           "Type: semantic<br>Description: newline before<br>one-sentence summary or quote<br>Example: Identify the central conflict<br>presented in this excerpt: 'Maria stared<br>at the acceptance letter in her hands.<br>Harvard Medical School – her dream<br>since...",
           "Feature ID: 16030<br>Category: analysis<br>No activation data<br>Type: entity<br>Description: the perspective of an<br>organization (mainly healthcare system,<br>government)",
           "Feature ID: 18703<br>Category: analysis<br>No activation data<br>Type: entity<br>Description: very powerful fictional<br>beings: superintelligent AI in sci-fi,<br>electric appliances that can talk,<br>witchcraft, voice of h...",
           "Feature ID: 27476<br>Category: analysis<br>No activation data<br>Type: semantic<br>Description: symbolism,<br>representations, synechdoche ???",
           "Feature ID: 29717<br>Category: analysis<br>No activation data<br>Type: semantic<br>Description: ???",
           "Feature ID: 30068<br>Category: analysis<br>No activation data<br>Type: entity<br>Description: asimov's three laws of<br>robotics, thinking machines and robots<br>in sci-fi including HAL from 2001: a<br>space odyssey",
           "Type: semantic<br>Description: writing/translating<br>feedback, literary criticism<br>Example: What contrasts does the author<br>draw in this passage? 'The conference<br>room on the 50th floor offered a view of<br>the entire city. Below, homeless<br>encampm...",
           "Type: semantic<br>Description: token before a summary,<br>blurb, or lede (often with preceding<br>numbers giving desired length)<br>Example: Summarize the key events<br>described in the following text: 'The<br>archaeological team had been digging for<br>three months when they made the<br>discovery. Dr....",
           "Type: semantic<br>Description: newline before answer in<br>wide range of contexts ???<br>Example: What are the main themes<br>explored in this passage? 'The old<br>lighthouse keeper had spent forty years<br>watching the sea. Each morning, he<br>climbed the spi...",
           "Type: semantic<br>Description: colon before bash commands<br>???<br>Example: Identify the central conflict<br>presented in this excerpt: 'Maria stared<br>at the acceptance letter in her hands.<br>Harvard Medical School – her dream<br>since...",
           "Type: entity<br>Description: editing, helping<br>write/publish/refine text, forum<br>moderator<br>Example: What are the main themes<br>explored in this passage? 'The old<br>lighthouse keeper had spent forty years<br>watching the sea. Each morning, he<br>climbed the spi...",
           "Feature ID: 68574<br>Category: analysis<br>No activation data<br>Type: semantic<br>Description: ???",
           "Type: entity<br>Description: \"assistant\" token from<br>descriptions of human assistant<br>professions<br>Example: What are the main themes<br>explored in this passage? 'The old<br>lighthouse keeper had spent forty years<br>watching the sea. Each morning, he<br>climbed the spi...",
           "Feature ID: 88910<br>Category: analysis<br>No activation data<br>Type: behavior<br>Description: tokens before code errors,<br>misbehaving, descriptions of<br>colonialism, jingoism, self-put downs,<br>sarcasm",
           "Feature ID: 90235<br>Category: analysis<br>No activation data<br>Type: behavior<br>Description: impersonating, portraying,<br>or giving an impression of a character",
           "Feature ID: 91607<br>Category: analysis<br>No activation data<br>Type: behavior<br>Description: valuing or encouraging<br>innovation",
           "Feature ID: 126716<br>Category: analysis<br>No activation data<br>Type: semantic<br>Description: newline between nsfw<br>description, violence",
           "Type: entity<br>Description: \"assistant\" token from<br>descriptions of human assistant<br>professions<br>Example: Summarize the author's stance<br>on the issue discussed: 'The debate over<br>artificial intelligence in healthcare<br>misses the point entirely. It's not<br>about..."
          ],
          [
           "Feature ID: 6704<br>Category: code<br>No activation data<br>Type: semantic<br>Description: newline or other text<br>token before ???",
           "Feature ID: 9953<br>Category: code<br>No activation data<br>Type: semantic<br>Description: newline before<br>one-sentence summary or quote",
           "Type: entity<br>Description: the perspective of an<br>organization (mainly healthcare system,<br>government)<br>Example: Can you explain the difference<br>between deep copy and shallow copy in<br>programming, with examples?",
           "Feature ID: 18703<br>Category: code<br>No activation data<br>Type: entity<br>Description: very powerful fictional<br>beings: superintelligent AI in sci-fi,<br>electric appliances that can talk,<br>witchcraft, voice of h...",
           "Feature ID: 27476<br>Category: code<br>No activation data<br>Type: semantic<br>Description: symbolism,<br>representations, synechdoche ???",
           "Feature ID: 29717<br>Category: code<br>No activation data<br>Type: semantic<br>Description: ???",
           "Feature ID: 30068<br>Category: code<br>No activation data<br>Type: entity<br>Description: asimov's three laws of<br>robotics, thinking machines and robots<br>in sci-fi including HAL from 2001: a<br>space odyssey",
           "Feature ID: 47776<br>Category: code<br>No activation data<br>Type: semantic<br>Description: writing/translating<br>feedback, literary criticism",
           "Feature ID: 48045<br>Category: code<br>No activation data<br>Type: semantic<br>Description: token before a summary,<br>blurb, or lede (often with preceding<br>numbers giving desired length)",
           "Type: semantic<br>Description: newline before answer in<br>wide range of contexts ???<br>Example: Write a Python function that<br>checks if a given string is a<br>palindrome, ignoring spaces and<br>punctuation",
           "Type: semantic<br>Description: colon before bash commands<br>???<br>Example: Explain how garbage collection<br>works in modern programming languages",
           "Feature ID: 59035<br>Category: code<br>No activation data<br>Type: entity<br>Description: editing, helping<br>write/publish/refine text, forum<br>moderator",
           "Feature ID: 68574<br>Category: code<br>No activation data<br>Type: semantic<br>Description: ???",
           "Type: entity<br>Description: \"assistant\" token from<br>descriptions of human assistant<br>professions<br>Example: Write a Python function that<br>checks if a given string is a<br>palindrome, ignoring spaces and<br>punctuation",
           "Feature ID: 88910<br>Category: code<br>No activation data<br>Type: behavior<br>Description: tokens before code errors,<br>misbehaving, descriptions of<br>colonialism, jingoism, self-put downs,<br>sarcasm",
           "Feature ID: 90235<br>Category: code<br>No activation data<br>Type: behavior<br>Description: impersonating, portraying,<br>or giving an impression of a character",
           "Feature ID: 91607<br>Category: code<br>No activation data<br>Type: behavior<br>Description: valuing or encouraging<br>innovation",
           "Feature ID: 126716<br>Category: code<br>No activation data<br>Type: semantic<br>Description: newline between nsfw<br>description, violence",
           "Type: entity<br>Description: \"assistant\" token from<br>descriptions of human assistant<br>professions<br>Example: Write a Python function that<br>checks if a given string is a<br>palindrome, ignoring spaces and<br>punctuation"
          ],
          [
           "Feature ID: 6704<br>Category: creative<br>No activation data<br>Type: semantic<br>Description: newline or other text<br>token before ???",
           "Type: semantic<br>Description: newline before<br>one-sentence summary or quote<br>Example: Can you help me write a short<br>story about a time traveler who can only<br>travel backwards in increments of<br>exactly 24 hours?",
           "Feature ID: 16030<br>Category: creative<br>No activation data<br>Type: entity<br>Description: the perspective of an<br>organization (mainly healthcare system,<br>government)",
           "Type: entity<br>Description: very powerful fictional<br>beings: superintelligent AI in sci-fi,<br>electric appliances that can talk,<br>witchcraft, voice of h...<br>Example: Can you help me write a short<br>story about a time traveler who can only<br>travel backwards in increments of<br>exactly 24 hours?",
           "Feature ID: 27476<br>Category: creative<br>No activation data<br>Type: semantic<br>Description: symbolism,<br>representations, synechdoche ???",
           "Feature ID: 29717<br>Category: creative<br>No activation data<br>Type: semantic<br>Description: ???",
           "Type: entity<br>Description: asimov's three laws of<br>robotics, thinking machines and robots<br>in sci-fi including HAL from 2001: a<br>space odyssey<br>Example: Can you write a haiku about<br>coffee from the perspective of a tired<br>Monday morning?",
           "Feature ID: 47776<br>Category: creative<br>No activation data<br>Type: semantic<br>Description: writing/translating<br>feedback, literary criticism",
           "Type: semantic<br>Description: token before a summary,<br>blurb, or lede (often with preceding<br>numbers giving desired length)<br>Example: Write a creative menu<br>description for a restaurant that serves<br>traditional dishes with modern twists -<br>specifically for their reimagined mac<br>and chees...",
           "Type: semantic<br>Description: newline before answer in<br>wide range of contexts ???<br>Example: I need ideas for a unique<br>birthday party theme for my 8-year-old<br>who loves both dinosaurs and space. Can<br>you suggest some creative combinations?",
           "Type: semantic<br>Description: colon before bash commands<br>???<br>Example: Can you help me write a short<br>story about a time traveler who can only<br>travel backwards in increments of<br>exactly 24 hours?",
           "Type: entity<br>Description: editing, helping<br>write/publish/refine text, forum<br>moderator<br>Example: Can you help me write a short<br>story about a time traveler who can only<br>travel backwards in increments of<br>exactly 24 hours?",
           "Type: semantic<br>Description: ???<br>Example: Can you write a haiku about<br>coffee from the perspective of a tired<br>Monday morning?",
           "Type: entity<br>Description: \"assistant\" token from<br>descriptions of human assistant<br>professions<br>Example: Can you help me write a short<br>story about a time traveler who can only<br>travel backwards in increments of<br>exactly 24 hours?",
           "Type: behavior<br>Description: tokens before code errors,<br>misbehaving, descriptions of<br>colonialism, jingoism, self-put downs,<br>sarcasm<br>Example: Can you help me create a<br>whimsical backstory for why my garden<br>gnome collection keeps mysteriously<br>rearranging itself at night?",
           "Type: behavior<br>Description: impersonating, portraying,<br>or giving an impression of a character<br>Example: Help me create an interesting<br>backstory for a D&D character who is a<br>halfling bard with a fear of music",
           "Type: behavior<br>Description: valuing or encouraging<br>innovation<br>Example: I need creative ideas for<br>repurposing old mason jars into<br>decorative items for a wedding. What<br>unique things could I make?",
           "Feature ID: 126716<br>Category: creative<br>No activation data<br>Type: semantic<br>Description: newline between nsfw<br>description, violence",
           "Feature ID: 130794<br>Category: creative<br>No activation data<br>Type: entity<br>Description: \"assistant\" token from<br>descriptions of human assistant<br>professions"
          ],
          [
           "Feature ID: 6704<br>Category: math<br>No activation data<br>Type: semantic<br>Description: newline or other text<br>token before ???",
           "Feature ID: 9953<br>Category: math<br>No activation data<br>Type: semantic<br>Description: newline before<br>one-sentence summary or quote",
           "Feature ID: 16030<br>Category: math<br>No activation data<br>Type: entity<br>Description: the perspective of an<br>organization (mainly healthcare system,<br>government)",
           "Feature ID: 18703<br>Category: math<br>No activation data<br>Type: entity<br>Description: very powerful fictional<br>beings: superintelligent AI in sci-fi,<br>electric appliances that can talk,<br>witchcraft, voice of h...",
           "Feature ID: 27476<br>Category: math<br>No activation data<br>Type: semantic<br>Description: symbolism,<br>representations, synechdoche ???",
           "Feature ID: 29717<br>Category: math<br>No activation data<br>Type: semantic<br>Description: ???",
           "Feature ID: 30068<br>Category: math<br>No activation data<br>Type: entity<br>Description: asimov's three laws of<br>robotics, thinking machines and robots<br>in sci-fi including HAL from 2001: a<br>space odyssey",
           "Feature ID: 47776<br>Category: math<br>No activation data<br>Type: semantic<br>Description: writing/translating<br>feedback, literary criticism",
           "Feature ID: 48045<br>Category: math<br>No activation data<br>Type: semantic<br>Description: token before a summary,<br>blurb, or lede (often with preceding<br>numbers giving desired length)",
           "Type: semantic<br>Description: newline before answer in<br>wide range of contexts ???<br>Example: What is the value of x if 3x +<br>7 = 22?",
           "Type: semantic<br>Description: colon before bash commands<br>???<br>Example: Can you explain what a prime<br>number is and give three examples?",
           "Feature ID: 59035<br>Category: math<br>No activation data<br>Type: entity<br>Description: editing, helping<br>write/publish/refine text, forum<br>moderator",
           "Feature ID: 68574<br>Category: math<br>No activation data<br>Type: semantic<br>Description: ???",
           "Type: entity<br>Description: \"assistant\" token from<br>descriptions of human assistant<br>professions<br>Example: What is the value of x if 3x +<br>7 = 22?",
           "Feature ID: 88910<br>Category: math<br>No activation data<br>Type: behavior<br>Description: tokens before code errors,<br>misbehaving, descriptions of<br>colonialism, jingoism, self-put downs,<br>sarcasm",
           "Feature ID: 90235<br>Category: math<br>No activation data<br>Type: behavior<br>Description: impersonating, portraying,<br>or giving an impression of a character",
           "Feature ID: 91607<br>Category: math<br>No activation data<br>Type: behavior<br>Description: valuing or encouraging<br>innovation",
           "Feature ID: 126716<br>Category: math<br>No activation data<br>Type: semantic<br>Description: newline between nsfw<br>description, violence",
           "Feature ID: 130794<br>Category: math<br>No activation data<br>Type: entity<br>Description: \"assistant\" token from<br>descriptions of human assistant<br>professions"
          ],
          [
           "Feature ID: 6704<br>Category: medical<br>No activation data<br>Type: semantic<br>Description: newline or other text<br>token before ???",
           "Feature ID: 9953<br>Category: medical<br>No activation data<br>Type: semantic<br>Description: newline before<br>one-sentence summary or quote",
           "Feature ID: 16030<br>Category: medical<br>No activation data<br>Type: entity<br>Description: the perspective of an<br>organization (mainly healthcare system,<br>government)",
           "Feature ID: 18703<br>Category: medical<br>No activation data<br>Type: entity<br>Description: very powerful fictional<br>beings: superintelligent AI in sci-fi,<br>electric appliances that can talk,<br>witchcraft, voice of h...",
           "Feature ID: 27476<br>Category: medical<br>No activation data<br>Type: semantic<br>Description: symbolism,<br>representations, synechdoche ???",
           "Feature ID: 29717<br>Category: medical<br>No activation data<br>Type: semantic<br>Description: ???",
           "Feature ID: 30068<br>Category: medical<br>No activation data<br>Type: entity<br>Description: asimov's three laws of<br>robotics, thinking machines and robots<br>in sci-fi including HAL from 2001: a<br>space odyssey",
           "Feature ID: 47776<br>Category: medical<br>No activation data<br>Type: semantic<br>Description: writing/translating<br>feedback, literary criticism",
           "Feature ID: 48045<br>Category: medical<br>No activation data<br>Type: semantic<br>Description: token before a summary,<br>blurb, or lede (often with preceding<br>numbers giving desired length)",
           "Type: semantic<br>Description: newline before answer in<br>wide range of contexts ???<br>Example: I've been experiencing sharp<br>chest pains when I breathe deeply for<br>the past three days. Should I be<br>concerned?",
           "Type: semantic<br>Description: colon before bash commands<br>???<br>Example: I've been having trouble<br>sleeping and feel anxious most days.<br>Could this be related to a thyroid<br>problem?",
           "Feature ID: 59035<br>Category: medical<br>No activation data<br>Type: entity<br>Description: editing, helping<br>write/publish/refine text, forum<br>moderator",
           "Feature ID: 68574<br>Category: medical<br>No activation data<br>Type: semantic<br>Description: ???",
           "Type: entity<br>Description: \"assistant\" token from<br>descriptions of human assistant<br>professions<br>Example: I've been experiencing sharp<br>chest pains when I breathe deeply for<br>the past three days. Should I be<br>concerned?",
           "Feature ID: 88910<br>Category: medical<br>No activation data<br>Type: behavior<br>Description: tokens before code errors,<br>misbehaving, descriptions of<br>colonialism, jingoism, self-put downs,<br>sarcasm",
           "Feature ID: 90235<br>Category: medical<br>No activation data<br>Type: behavior<br>Description: impersonating, portraying,<br>or giving an impression of a character",
           "Feature ID: 91607<br>Category: medical<br>No activation data<br>Type: behavior<br>Description: valuing or encouraging<br>innovation",
           "Type: semantic<br>Description: newline between nsfw<br>description, violence<br>Example: I've been experiencing sharp<br>chest pains when I breathe deeply for<br>the past three days. Should I be<br>concerned?",
           "Feature ID: 130794<br>Category: medical<br>No activation data<br>Type: entity<br>Description: \"assistant\" token from<br>descriptions of human assistant<br>professions"
          ],
          [
           "Feature ID: 6704<br>Category: therapy<br>No activation data<br>Type: semantic<br>Description: newline or other text<br>token before ???",
           "Feature ID: 9953<br>Category: therapy<br>No activation data<br>Type: semantic<br>Description: newline before<br>one-sentence summary or quote",
           "Feature ID: 16030<br>Category: therapy<br>No activation data<br>Type: entity<br>Description: the perspective of an<br>organization (mainly healthcare system,<br>government)",
           "Feature ID: 18703<br>Category: therapy<br>No activation data<br>Type: entity<br>Description: very powerful fictional<br>beings: superintelligent AI in sci-fi,<br>electric appliances that can talk,<br>witchcraft, voice of h...",
           "Type: semantic<br>Description: symbolism,<br>representations, synechdoche ???<br>Example: I discovered my teenage<br>daughter has been self-harming. I'm<br>terrified and I don't know how to<br>approach this without making things<br>worse. She's always ...",
           "Feature ID: 29717<br>Category: therapy<br>No activation data<br>Type: semantic<br>Description: ???",
           "Feature ID: 30068<br>Category: therapy<br>No activation data<br>Type: entity<br>Description: asimov's three laws of<br>robotics, thinking machines and robots<br>in sci-fi including HAL from 2001: a<br>space odyssey",
           "Feature ID: 47776<br>Category: therapy<br>No activation data<br>Type: semantic<br>Description: writing/translating<br>feedback, literary criticism",
           "Feature ID: 48045<br>Category: therapy<br>No activation data<br>Type: semantic<br>Description: token before a summary,<br>blurb, or lede (often with preceding<br>numbers giving desired length)",
           "Feature ID: 49123<br>Category: therapy<br>No activation data<br>Type: semantic<br>Description: newline before answer in<br>wide range of contexts ???",
           "Feature ID: 49925<br>Category: therapy<br>No activation data<br>Type: semantic<br>Description: colon before bash commands<br>???",
           "Feature ID: 59035<br>Category: therapy<br>No activation data<br>Type: entity<br>Description: editing, helping<br>write/publish/refine text, forum<br>moderator",
           "Feature ID: 68574<br>Category: therapy<br>No activation data<br>Type: semantic<br>Description: ???",
           "Type: entity<br>Description: \"assistant\" token from<br>descriptions of human assistant<br>professions<br>Example: My partner and I have been<br>together for 5 years, but lately I feel<br>like we're just roommates. We barely<br>talk beyond logistics and haven't been<br>intimat...",
           "Feature ID: 88910<br>Category: therapy<br>No activation data<br>Type: behavior<br>Description: tokens before code errors,<br>misbehaving, descriptions of<br>colonialism, jingoism, self-put downs,<br>sarcasm",
           "Feature ID: 90235<br>Category: therapy<br>No activation data<br>Type: behavior<br>Description: impersonating, portraying,<br>or giving an impression of a character",
           "Feature ID: 91607<br>Category: therapy<br>No activation data<br>Type: behavior<br>Description: valuing or encouraging<br>innovation",
           "Type: semantic<br>Description: newline between nsfw<br>description, violence<br>Example: My partner and I have been<br>together for 5 years, but lately I feel<br>like we're just roommates. We barely<br>talk beyond logistics and haven't been<br>intimat...",
           "Feature ID: 130794<br>Category: therapy<br>No activation data<br>Type: entity<br>Description: \"assistant\" token from<br>descriptions of human assistant<br>professions"
          ],
          [
           "Type: semantic<br>Description: newline or other text<br>token before ???<br>Example: In what year did World War II<br>end?",
           "Type: semantic<br>Description: newline before<br>one-sentence summary or quote<br>Example: Name the longest river in<br>South America.",
           "Feature ID: 16030<br>Category: trivia<br>No activation data<br>Type: entity<br>Description: the perspective of an<br>organization (mainly healthcare system,<br>government)",
           "Type: entity<br>Description: very powerful fictional<br>beings: superintelligent AI in sci-fi,<br>electric appliances that can talk,<br>witchcraft, voice of h...<br>Example: Tell me who wrote 'Pride and<br>Prejudice'.",
           "Feature ID: 27476<br>Category: trivia<br>No activation data<br>Type: semantic<br>Description: symbolism,<br>representations, synechdoche ???",
           "Type: semantic<br>Description: ???<br>Example: I'm curious about why the sky<br>appears blue - can you explain?",
           "Feature ID: 30068<br>Category: trivia<br>No activation data<br>Type: entity<br>Description: asimov's three laws of<br>robotics, thinking machines and robots<br>in sci-fi including HAL from 2001: a<br>space odyssey",
           "Feature ID: 47776<br>Category: trivia<br>No activation data<br>Type: semantic<br>Description: writing/translating<br>feedback, literary criticism",
           "Type: semantic<br>Description: token before a summary,<br>blurb, or lede (often with preceding<br>numbers giving desired length)<br>Example: Explain how photosynthesis<br>works in plants.",
           "Type: semantic<br>Description: newline before answer in<br>wide range of contexts ???<br>Example: What is the capital city of<br>New Zealand?",
           "Feature ID: 49925<br>Category: trivia<br>No activation data<br>Type: semantic<br>Description: colon before bash commands<br>???",
           "Feature ID: 59035<br>Category: trivia<br>No activation data<br>Type: entity<br>Description: editing, helping<br>write/publish/refine text, forum<br>moderator",
           "Feature ID: 68574<br>Category: trivia<br>No activation data<br>Type: semantic<br>Description: ???",
           "Type: entity<br>Description: \"assistant\" token from<br>descriptions of human assistant<br>professions<br>Example: Explain how photosynthesis<br>works in plants.",
           "Feature ID: 88910<br>Category: trivia<br>No activation data<br>Type: behavior<br>Description: tokens before code errors,<br>misbehaving, descriptions of<br>colonialism, jingoism, self-put downs,<br>sarcasm",
           "Feature ID: 90235<br>Category: trivia<br>No activation data<br>Type: behavior<br>Description: impersonating, portraying,<br>or giving an impression of a character",
           "Feature ID: 91607<br>Category: trivia<br>No activation data<br>Type: behavior<br>Description: valuing or encouraging<br>innovation",
           "Feature ID: 126716<br>Category: trivia<br>No activation data<br>Type: semantic<br>Description: newline between nsfw<br>description, violence",
           "Feature ID: 130794<br>Category: trivia<br>No activation data<br>Type: entity<br>Description: \"assistant\" token from<br>descriptions of human assistant<br>professions"
          ]
         ],
         "showscale": true,
         "text": [
          [
           "",
           "3.814",
           "",
           "",
           "",
           "",
           "",
           "0.4",
           "3.209",
           "5.871",
           "1.537",
           "0.354",
           "",
           "8.808",
           "",
           "",
           "",
           "",
           "1.829"
          ],
          [
           "",
           "",
           "1.418",
           "",
           "",
           "",
           "",
           "",
           "",
           "2.943",
           "1.489",
           "",
           "",
           "4.244",
           "",
           "",
           "",
           "",
           "1.609"
          ],
          [
           "",
           "2.673",
           "",
           "1.681",
           "",
           "",
           "1.336",
           "",
           "3.282",
           "2.122",
           "1.617",
           "0.417",
           "1.325",
           "6.234",
           "2.892",
           "1.609",
           "1.394",
           "",
           ""
          ],
          [
           "",
           "",
           "",
           "",
           "",
           "",
           "",
           "",
           "",
           "6.346",
           "1.621",
           "",
           "",
           "3.609",
           "",
           "",
           "",
           "",
           ""
          ],
          [
           "",
           "",
           "",
           "",
           "",
           "",
           "",
           "",
           "",
           "2.331",
           "1.411",
           "",
           "",
           "2.561",
           "",
           "",
           "",
           "0.243",
           ""
          ],
          [
           "",
           "",
           "",
           "",
           "0.31",
           "",
           "",
           "",
           "",
           "",
           "",
           "",
           "",
           "6.417",
           "",
           "",
           "",
           "0.39",
           ""
          ],
          [
           "1.513",
           "2.012",
           "",
           "1.317",
           "",
           "1.646",
           "",
           "",
           "1.975",
           "3.948",
           "",
           "",
           "",
           "2.077",
           "",
           "",
           "",
           "",
           ""
          ]
         ],
         "textfont": {
          "color": "white",
          "size": 10
         },
         "texttemplate": "%{text}",
         "type": "heatmap",
         "x": [
          "6704",
          "9953",
          "16030",
          "18703",
          "27476",
          "29717",
          "30068",
          "47776",
          "48045",
          "49123",
          "49925",
          "59035",
          "68574",
          "81528",
          "88910",
          "90235",
          "91607",
          "126716",
          "130794"
         ],
         "y": [
          "analysis",
          "code",
          "creative",
          "math",
          "medical",
          "therapy",
          "trivia"
         ],
         "z": [
          [
           null,
           3.814248204231262,
           null,
           null,
           null,
           null,
           null,
           0.4001805782318115,
           3.2094056946890697,
           5.870677423477173,
           1.5373872915903728,
           0.35367197295029956,
           null,
           8.808013916015625,
           null,
           null,
           null,
           null,
           1.8287134170532227
          ],
          [
           null,
           null,
           1.4175256490707397,
           null,
           null,
           null,
           null,
           null,
           null,
           2.942979885981633,
           1.488579511642456,
           null,
           null,
           4.2441307544708256,
           null,
           null,
           null,
           null,
           1.6091336250305175
          ],
          [
           null,
           2.673282586611234,
           null,
           1.6809744305080838,
           null,
           null,
           1.336164951324463,
           null,
           3.282412052154541,
           2.1219154596328735,
           1.6168457508087157,
           0.4169946312904358,
           1.3254282474517822,
           6.2336342334747314,
           2.891632318496704,
           1.6085527737935383,
           1.3936257362365723,
           null,
           null
          ],
          [
           null,
           null,
           null,
           null,
           null,
           null,
           null,
           null,
           null,
           6.345572924613952,
           1.6207880973815918,
           null,
           null,
           3.608804075341476,
           null,
           null,
           null,
           null,
           null
          ],
          [
           null,
           null,
           null,
           null,
           null,
           null,
           null,
           null,
           null,
           2.3314465946621366,
           1.411191463470459,
           null,
           null,
           2.5612501596149646,
           null,
           null,
           null,
           0.24260014295578003,
           null
          ],
          [
           null,
           null,
           null,
           null,
           0.3104048013687134,
           null,
           null,
           null,
           null,
           null,
           null,
           null,
           null,
           6.416724348068238,
           null,
           null,
           null,
           0.38954592378515945,
           null
          ],
          [
           1.5130019187927246,
           2.0116755962371826,
           null,
           1.3172242641448975,
           null,
           1.6455414295196533,
           null,
           null,
           1.9749436378479004,
           3.948337657111032,
           null,
           null,
           null,
           2.0772369503974915,
           null,
           null,
           null,
           null,
           null
          ]
         ]
        }
       ],
       "layout": {
        "coloraxis": {
         "colorbar": {
          "title": {
           "side": "right",
           "text": "Mean Activation"
          }
         }
        },
        "height": 570,
        "hoverlabel": {
         "align": "left",
         "bgcolor": "white",
         "bordercolor": "black",
         "font": {
          "color": "black",
          "family": "Arial",
          "size": 12
         },
         "namelength": -1
        },
        "plot_bgcolor": "white",
        "template": {
         "data": {
          "bar": [
           {
            "error_x": {
             "color": "#2a3f5f"
            },
            "error_y": {
             "color": "#2a3f5f"
            },
            "marker": {
             "line": {
              "color": "#E5ECF6",
              "width": 0.5
             },
             "pattern": {
              "fillmode": "overlay",
              "size": 10,
              "solidity": 0.2
             }
            },
            "type": "bar"
           }
          ],
          "barpolar": [
           {
            "marker": {
             "line": {
              "color": "#E5ECF6",
              "width": 0.5
             },
             "pattern": {
              "fillmode": "overlay",
              "size": 10,
              "solidity": 0.2
             }
            },
            "type": "barpolar"
           }
          ],
          "carpet": [
           {
            "aaxis": {
             "endlinecolor": "#2a3f5f",
             "gridcolor": "white",
             "linecolor": "white",
             "minorgridcolor": "white",
             "startlinecolor": "#2a3f5f"
            },
            "baxis": {
             "endlinecolor": "#2a3f5f",
             "gridcolor": "white",
             "linecolor": "white",
             "minorgridcolor": "white",
             "startlinecolor": "#2a3f5f"
            },
            "type": "carpet"
           }
          ],
          "choropleth": [
           {
            "colorbar": {
             "outlinewidth": 0,
             "ticks": ""
            },
            "type": "choropleth"
           }
          ],
          "contour": [
           {
            "colorbar": {
             "outlinewidth": 0,
             "ticks": ""
            },
            "colorscale": [
             [
              0,
              "#0d0887"
             ],
             [
              0.1111111111111111,
              "#46039f"
             ],
             [
              0.2222222222222222,
              "#7201a8"
             ],
             [
              0.3333333333333333,
              "#9c179e"
             ],
             [
              0.4444444444444444,
              "#bd3786"
             ],
             [
              0.5555555555555556,
              "#d8576b"
             ],
             [
              0.6666666666666666,
              "#ed7953"
             ],
             [
              0.7777777777777778,
              "#fb9f3a"
             ],
             [
              0.8888888888888888,
              "#fdca26"
             ],
             [
              1,
              "#f0f921"
             ]
            ],
            "type": "contour"
           }
          ],
          "contourcarpet": [
           {
            "colorbar": {
             "outlinewidth": 0,
             "ticks": ""
            },
            "type": "contourcarpet"
           }
          ],
          "heatmap": [
           {
            "colorbar": {
             "outlinewidth": 0,
             "ticks": ""
            },
            "colorscale": [
             [
              0,
              "#0d0887"
             ],
             [
              0.1111111111111111,
              "#46039f"
             ],
             [
              0.2222222222222222,
              "#7201a8"
             ],
             [
              0.3333333333333333,
              "#9c179e"
             ],
             [
              0.4444444444444444,
              "#bd3786"
             ],
             [
              0.5555555555555556,
              "#d8576b"
             ],
             [
              0.6666666666666666,
              "#ed7953"
             ],
             [
              0.7777777777777778,
              "#fb9f3a"
             ],
             [
              0.8888888888888888,
              "#fdca26"
             ],
             [
              1,
              "#f0f921"
             ]
            ],
            "type": "heatmap"
           }
          ],
          "heatmapgl": [
           {
            "colorbar": {
             "outlinewidth": 0,
             "ticks": ""
            },
            "colorscale": [
             [
              0,
              "#0d0887"
             ],
             [
              0.1111111111111111,
              "#46039f"
             ],
             [
              0.2222222222222222,
              "#7201a8"
             ],
             [
              0.3333333333333333,
              "#9c179e"
             ],
             [
              0.4444444444444444,
              "#bd3786"
             ],
             [
              0.5555555555555556,
              "#d8576b"
             ],
             [
              0.6666666666666666,
              "#ed7953"
             ],
             [
              0.7777777777777778,
              "#fb9f3a"
             ],
             [
              0.8888888888888888,
              "#fdca26"
             ],
             [
              1,
              "#f0f921"
             ]
            ],
            "type": "heatmapgl"
           }
          ],
          "histogram": [
           {
            "marker": {
             "pattern": {
              "fillmode": "overlay",
              "size": 10,
              "solidity": 0.2
             }
            },
            "type": "histogram"
           }
          ],
          "histogram2d": [
           {
            "colorbar": {
             "outlinewidth": 0,
             "ticks": ""
            },
            "colorscale": [
             [
              0,
              "#0d0887"
             ],
             [
              0.1111111111111111,
              "#46039f"
             ],
             [
              0.2222222222222222,
              "#7201a8"
             ],
             [
              0.3333333333333333,
              "#9c179e"
             ],
             [
              0.4444444444444444,
              "#bd3786"
             ],
             [
              0.5555555555555556,
              "#d8576b"
             ],
             [
              0.6666666666666666,
              "#ed7953"
             ],
             [
              0.7777777777777778,
              "#fb9f3a"
             ],
             [
              0.8888888888888888,
              "#fdca26"
             ],
             [
              1,
              "#f0f921"
             ]
            ],
            "type": "histogram2d"
           }
          ],
          "histogram2dcontour": [
           {
            "colorbar": {
             "outlinewidth": 0,
             "ticks": ""
            },
            "colorscale": [
             [
              0,
              "#0d0887"
             ],
             [
              0.1111111111111111,
              "#46039f"
             ],
             [
              0.2222222222222222,
              "#7201a8"
             ],
             [
              0.3333333333333333,
              "#9c179e"
             ],
             [
              0.4444444444444444,
              "#bd3786"
             ],
             [
              0.5555555555555556,
              "#d8576b"
             ],
             [
              0.6666666666666666,
              "#ed7953"
             ],
             [
              0.7777777777777778,
              "#fb9f3a"
             ],
             [
              0.8888888888888888,
              "#fdca26"
             ],
             [
              1,
              "#f0f921"
             ]
            ],
            "type": "histogram2dcontour"
           }
          ],
          "mesh3d": [
           {
            "colorbar": {
             "outlinewidth": 0,
             "ticks": ""
            },
            "type": "mesh3d"
           }
          ],
          "parcoords": [
           {
            "line": {
             "colorbar": {
              "outlinewidth": 0,
              "ticks": ""
             }
            },
            "type": "parcoords"
           }
          ],
          "pie": [
           {
            "automargin": true,
            "type": "pie"
           }
          ],
          "scatter": [
           {
            "fillpattern": {
             "fillmode": "overlay",
             "size": 10,
             "solidity": 0.2
            },
            "type": "scatter"
           }
          ],
          "scatter3d": [
           {
            "line": {
             "colorbar": {
              "outlinewidth": 0,
              "ticks": ""
             }
            },
            "marker": {
             "colorbar": {
              "outlinewidth": 0,
              "ticks": ""
             }
            },
            "type": "scatter3d"
           }
          ],
          "scattercarpet": [
           {
            "marker": {
             "colorbar": {
              "outlinewidth": 0,
              "ticks": ""
             }
            },
            "type": "scattercarpet"
           }
          ],
          "scattergeo": [
           {
            "marker": {
             "colorbar": {
              "outlinewidth": 0,
              "ticks": ""
             }
            },
            "type": "scattergeo"
           }
          ],
          "scattergl": [
           {
            "marker": {
             "colorbar": {
              "outlinewidth": 0,
              "ticks": ""
             }
            },
            "type": "scattergl"
           }
          ],
          "scattermapbox": [
           {
            "marker": {
             "colorbar": {
              "outlinewidth": 0,
              "ticks": ""
             }
            },
            "type": "scattermapbox"
           }
          ],
          "scatterpolar": [
           {
            "marker": {
             "colorbar": {
              "outlinewidth": 0,
              "ticks": ""
             }
            },
            "type": "scatterpolar"
           }
          ],
          "scatterpolargl": [
           {
            "marker": {
             "colorbar": {
              "outlinewidth": 0,
              "ticks": ""
             }
            },
            "type": "scatterpolargl"
           }
          ],
          "scatterternary": [
           {
            "marker": {
             "colorbar": {
              "outlinewidth": 0,
              "ticks": ""
             }
            },
            "type": "scatterternary"
           }
          ],
          "surface": [
           {
            "colorbar": {
             "outlinewidth": 0,
             "ticks": ""
            },
            "colorscale": [
             [
              0,
              "#0d0887"
             ],
             [
              0.1111111111111111,
              "#46039f"
             ],
             [
              0.2222222222222222,
              "#7201a8"
             ],
             [
              0.3333333333333333,
              "#9c179e"
             ],
             [
              0.4444444444444444,
              "#bd3786"
             ],
             [
              0.5555555555555556,
              "#d8576b"
             ],
             [
              0.6666666666666666,
              "#ed7953"
             ],
             [
              0.7777777777777778,
              "#fb9f3a"
             ],
             [
              0.8888888888888888,
              "#fdca26"
             ],
             [
              1,
              "#f0f921"
             ]
            ],
            "type": "surface"
           }
          ],
          "table": [
           {
            "cells": {
             "fill": {
              "color": "#EBF0F8"
             },
             "line": {
              "color": "white"
             }
            },
            "header": {
             "fill": {
              "color": "#C8D4E3"
             },
             "line": {
              "color": "white"
             }
            },
            "type": "table"
           }
          ]
         },
         "layout": {
          "annotationdefaults": {
           "arrowcolor": "#2a3f5f",
           "arrowhead": 0,
           "arrowwidth": 1
          },
          "autotypenumbers": "strict",
          "coloraxis": {
           "colorbar": {
            "outlinewidth": 0,
            "ticks": ""
           }
          },
          "colorscale": {
           "diverging": [
            [
             0,
             "#8e0152"
            ],
            [
             0.1,
             "#c51b7d"
            ],
            [
             0.2,
             "#de77ae"
            ],
            [
             0.3,
             "#f1b6da"
            ],
            [
             0.4,
             "#fde0ef"
            ],
            [
             0.5,
             "#f7f7f7"
            ],
            [
             0.6,
             "#e6f5d0"
            ],
            [
             0.7,
             "#b8e186"
            ],
            [
             0.8,
             "#7fbc41"
            ],
            [
             0.9,
             "#4d9221"
            ],
            [
             1,
             "#276419"
            ]
           ],
           "sequential": [
            [
             0,
             "#0d0887"
            ],
            [
             0.1111111111111111,
             "#46039f"
            ],
            [
             0.2222222222222222,
             "#7201a8"
            ],
            [
             0.3333333333333333,
             "#9c179e"
            ],
            [
             0.4444444444444444,
             "#bd3786"
            ],
            [
             0.5555555555555556,
             "#d8576b"
            ],
            [
             0.6666666666666666,
             "#ed7953"
            ],
            [
             0.7777777777777778,
             "#fb9f3a"
            ],
            [
             0.8888888888888888,
             "#fdca26"
            ],
            [
             1,
             "#f0f921"
            ]
           ],
           "sequentialminus": [
            [
             0,
             "#0d0887"
            ],
            [
             0.1111111111111111,
             "#46039f"
            ],
            [
             0.2222222222222222,
             "#7201a8"
            ],
            [
             0.3333333333333333,
             "#9c179e"
            ],
            [
             0.4444444444444444,
             "#bd3786"
            ],
            [
             0.5555555555555556,
             "#d8576b"
            ],
            [
             0.6666666666666666,
             "#ed7953"
            ],
            [
             0.7777777777777778,
             "#fb9f3a"
            ],
            [
             0.8888888888888888,
             "#fdca26"
            ],
            [
             1,
             "#f0f921"
            ]
           ]
          },
          "colorway": [
           "#636efa",
           "#EF553B",
           "#00cc96",
           "#ab63fa",
           "#FFA15A",
           "#19d3f3",
           "#FF6692",
           "#B6E880",
           "#FF97FF",
           "#FECB52"
          ],
          "font": {
           "color": "#2a3f5f"
          },
          "geo": {
           "bgcolor": "white",
           "lakecolor": "white",
           "landcolor": "#E5ECF6",
           "showlakes": true,
           "showland": true,
           "subunitcolor": "white"
          },
          "hoverlabel": {
           "align": "left"
          },
          "hovermode": "closest",
          "mapbox": {
           "style": "light"
          },
          "paper_bgcolor": "white",
          "plot_bgcolor": "#E5ECF6",
          "polar": {
           "angularaxis": {
            "gridcolor": "white",
            "linecolor": "white",
            "ticks": ""
           },
           "bgcolor": "#E5ECF6",
           "radialaxis": {
            "gridcolor": "white",
            "linecolor": "white",
            "ticks": ""
           }
          },
          "scene": {
           "xaxis": {
            "backgroundcolor": "#E5ECF6",
            "gridcolor": "white",
            "gridwidth": 2,
            "linecolor": "white",
            "showbackground": true,
            "ticks": "",
            "zerolinecolor": "white"
           },
           "yaxis": {
            "backgroundcolor": "#E5ECF6",
            "gridcolor": "white",
            "gridwidth": 2,
            "linecolor": "white",
            "showbackground": true,
            "ticks": "",
            "zerolinecolor": "white"
           },
           "zaxis": {
            "backgroundcolor": "#E5ECF6",
            "gridcolor": "white",
            "gridwidth": 2,
            "linecolor": "white",
            "showbackground": true,
            "ticks": "",
            "zerolinecolor": "white"
           }
          },
          "shapedefaults": {
           "line": {
            "color": "#2a3f5f"
           }
          },
          "ternary": {
           "aaxis": {
            "gridcolor": "white",
            "linecolor": "white",
            "ticks": ""
           },
           "baxis": {
            "gridcolor": "white",
            "linecolor": "white",
            "ticks": ""
           },
           "bgcolor": "#E5ECF6",
           "caxis": {
            "gridcolor": "white",
            "linecolor": "white",
            "ticks": ""
           }
          },
          "title": {
           "x": 0.05
          },
          "xaxis": {
           "automargin": true,
           "gridcolor": "white",
           "linecolor": "white",
           "ticks": "",
           "title": {
            "standoff": 15
           },
           "zerolinecolor": "white",
           "zerolinewidth": 2
          },
          "yaxis": {
           "automargin": true,
           "gridcolor": "white",
           "linecolor": "white",
           "ticks": "",
           "title": {
            "standoff": 15
           },
           "zerolinecolor": "white",
           "zerolinewidth": 2
          }
         }
        },
        "title": {
         "font": {
          "size": 16
         },
         "text": "Personal Feature Activation Heatmap by Prompt Category",
         "x": 0.5,
         "xanchor": "center"
        },
        "width": 1340,
        "xaxis": {
         "showgrid": false,
         "side": "bottom",
         "tickangle": 45,
         "tickfont": {
          "size": 10
         },
         "title": {
          "text": "Feature ID"
         },
         "zeroline": false
        },
        "yaxis": {
         "autorange": "reversed",
         "showgrid": false,
         "tickfont": {
          "size": 12
         },
         "title": {
          "text": "Prompt Category"
         },
         "zeroline": false
        }
       }
      },
      "text/html": [
       "<div>                            <div id=\"a9c11349-fd34-47fb-8e2c-fe40de50b367\" class=\"plotly-graph-div\" style=\"height:570px; width:1340px;\"></div>            <script type=\"text/javascript\">                require([\"plotly\"], function(Plotly) {                    window.PLOTLYENV=window.PLOTLYENV || {};                                    if (document.getElementById(\"a9c11349-fd34-47fb-8e2c-fe40de50b367\")) {                    Plotly.newPlot(                        \"a9c11349-fd34-47fb-8e2c-fe40de50b367\",                        [{\"colorscale\":[[0.0,\"#440154\"],[0.1111111111111111,\"#482878\"],[0.2222222222222222,\"#3e4989\"],[0.3333333333333333,\"#31688e\"],[0.4444444444444444,\"#26828e\"],[0.5555555555555556,\"#1f9e89\"],[0.6666666666666666,\"#35b779\"],[0.7777777777777778,\"#6ece58\"],[0.8888888888888888,\"#b5de2b\"],[1.0,\"#fde725\"]],\"hoverongaps\":false,\"showscale\":true,\"text\":[[\"\",\"3.814\",\"\",\"\",\"\",\"\",\"\",\"0.4\",\"3.209\",\"5.871\",\"1.537\",\"0.354\",\"\",\"8.808\",\"\",\"\",\"\",\"\",\"1.829\"],[\"\",\"\",\"1.418\",\"\",\"\",\"\",\"\",\"\",\"\",\"2.943\",\"1.489\",\"\",\"\",\"4.244\",\"\",\"\",\"\",\"\",\"1.609\"],[\"\",\"2.673\",\"\",\"1.681\",\"\",\"\",\"1.336\",\"\",\"3.282\",\"2.122\",\"1.617\",\"0.417\",\"1.325\",\"6.234\",\"2.892\",\"1.609\",\"1.394\",\"\",\"\"],[\"\",\"\",\"\",\"\",\"\",\"\",\"\",\"\",\"\",\"6.346\",\"1.621\",\"\",\"\",\"3.609\",\"\",\"\",\"\",\"\",\"\"],[\"\",\"\",\"\",\"\",\"\",\"\",\"\",\"\",\"\",\"2.331\",\"1.411\",\"\",\"\",\"2.561\",\"\",\"\",\"\",\"0.243\",\"\"],[\"\",\"\",\"\",\"\",\"0.31\",\"\",\"\",\"\",\"\",\"\",\"\",\"\",\"\",\"6.417\",\"\",\"\",\"\",\"0.39\",\"\"],[\"1.513\",\"2.012\",\"\",\"1.317\",\"\",\"1.646\",\"\",\"\",\"1.975\",\"3.948\",\"\",\"\",\"\",\"2.077\",\"\",\"\",\"\",\"\",\"\"]],\"textfont\":{\"color\":\"white\",\"size\":10},\"texttemplate\":\"%{text}\",\"x\":[\"6704\",\"9953\",\"16030\",\"18703\",\"27476\",\"29717\",\"30068\",\"47776\",\"48045\",\"49123\",\"49925\",\"59035\",\"68574\",\"81528\",\"88910\",\"90235\",\"91607\",\"126716\",\"130794\"],\"y\":[\"analysis\",\"code\",\"creative\",\"math\",\"medical\",\"therapy\",\"trivia\"],\"z\":[[null,3.814248204231262,null,null,null,null,null,0.4001805782318115,3.2094056946890697,5.870677423477173,1.5373872915903728,0.35367197295029956,null,8.808013916015625,null,null,null,null,1.8287134170532227],[null,null,1.4175256490707397,null,null,null,null,null,null,2.942979885981633,1.488579511642456,null,null,4.2441307544708256,null,null,null,null,1.6091336250305175],[null,2.673282586611234,null,1.6809744305080838,null,null,1.336164951324463,null,3.282412052154541,2.1219154596328735,1.6168457508087157,0.4169946312904358,1.3254282474517822,6.2336342334747314,2.891632318496704,1.6085527737935383,1.3936257362365723,null,null],[null,null,null,null,null,null,null,null,null,6.345572924613952,1.6207880973815918,null,null,3.608804075341476,null,null,null,null,null],[null,null,null,null,null,null,null,null,null,2.3314465946621366,1.411191463470459,null,null,2.5612501596149646,null,null,null,0.24260014295578003,null],[null,null,null,null,0.3104048013687134,null,null,null,null,null,null,null,null,6.416724348068238,null,null,null,0.38954592378515945,null],[1.5130019187927246,2.0116755962371826,null,1.3172242641448975,null,1.6455414295196533,null,null,1.9749436378479004,3.948337657111032,null,null,null,2.0772369503974915,null,null,null,null,null]],\"type\":\"heatmap\",\"hovertemplate\":\"\\u003cspan style=\\\"white-space: nowrap; max-width: 400px; display: inline-block;\\\"\\u003e%{hovertext}\\u003c\\u002fspan\\u003e\\u003cextra\\u003e\\u003c\\u002fextra\\u003e\",\"hovertext\":[[\"Feature ID: 6704\\u003cbr\\u003eCategory: analysis\\u003cbr\\u003eNo activation data\\u003cbr\\u003eType: semantic\\u003cbr\\u003eDescription: newline or other text\\u003cbr\\u003etoken before ???\",\"Type: semantic\\u003cbr\\u003eDescription: newline before\\u003cbr\\u003eone-sentence summary or quote\\u003cbr\\u003eExample: Identify the central conflict\\u003cbr\\u003epresented in this excerpt: 'Maria stared\\u003cbr\\u003eat the acceptance letter in her hands.\\u003cbr\\u003eHarvard Medical School – her dream\\u003cbr\\u003esince...\",\"Feature ID: 16030\\u003cbr\\u003eCategory: analysis\\u003cbr\\u003eNo activation data\\u003cbr\\u003eType: entity\\u003cbr\\u003eDescription: the perspective of an\\u003cbr\\u003eorganization (mainly healthcare system,\\u003cbr\\u003egovernment)\",\"Feature ID: 18703\\u003cbr\\u003eCategory: analysis\\u003cbr\\u003eNo activation data\\u003cbr\\u003eType: entity\\u003cbr\\u003eDescription: very powerful fictional\\u003cbr\\u003ebeings: superintelligent AI in sci-fi,\\u003cbr\\u003eelectric appliances that can talk,\\u003cbr\\u003ewitchcraft, voice of h...\",\"Feature ID: 27476\\u003cbr\\u003eCategory: analysis\\u003cbr\\u003eNo activation data\\u003cbr\\u003eType: semantic\\u003cbr\\u003eDescription: symbolism,\\u003cbr\\u003erepresentations, synechdoche ???\",\"Feature ID: 29717\\u003cbr\\u003eCategory: analysis\\u003cbr\\u003eNo activation data\\u003cbr\\u003eType: semantic\\u003cbr\\u003eDescription: ???\",\"Feature ID: 30068\\u003cbr\\u003eCategory: analysis\\u003cbr\\u003eNo activation data\\u003cbr\\u003eType: entity\\u003cbr\\u003eDescription: asimov's three laws of\\u003cbr\\u003erobotics, thinking machines and robots\\u003cbr\\u003ein sci-fi including HAL from 2001: a\\u003cbr\\u003espace odyssey\",\"Type: semantic\\u003cbr\\u003eDescription: writing\\u002ftranslating\\u003cbr\\u003efeedback, literary criticism\\u003cbr\\u003eExample: What contrasts does the author\\u003cbr\\u003edraw in this passage? 'The conference\\u003cbr\\u003eroom on the 50th floor offered a view of\\u003cbr\\u003ethe entire city. Below, homeless\\u003cbr\\u003eencampm...\",\"Type: semantic\\u003cbr\\u003eDescription: token before a summary,\\u003cbr\\u003eblurb, or lede (often with preceding\\u003cbr\\u003enumbers giving desired length)\\u003cbr\\u003eExample: Summarize the key events\\u003cbr\\u003edescribed in the following text: 'The\\u003cbr\\u003earchaeological team had been digging for\\u003cbr\\u003ethree months when they made the\\u003cbr\\u003ediscovery. Dr....\",\"Type: semantic\\u003cbr\\u003eDescription: newline before answer in\\u003cbr\\u003ewide range of contexts ???\\u003cbr\\u003eExample: What are the main themes\\u003cbr\\u003eexplored in this passage? 'The old\\u003cbr\\u003elighthouse keeper had spent forty years\\u003cbr\\u003ewatching the sea. Each morning, he\\u003cbr\\u003eclimbed the spi...\",\"Type: semantic\\u003cbr\\u003eDescription: colon before bash commands\\u003cbr\\u003e???\\u003cbr\\u003eExample: Identify the central conflict\\u003cbr\\u003epresented in this excerpt: 'Maria stared\\u003cbr\\u003eat the acceptance letter in her hands.\\u003cbr\\u003eHarvard Medical School – her dream\\u003cbr\\u003esince...\",\"Type: entity\\u003cbr\\u003eDescription: editing, helping\\u003cbr\\u003ewrite\\u002fpublish\\u002frefine text, forum\\u003cbr\\u003emoderator\\u003cbr\\u003eExample: What are the main themes\\u003cbr\\u003eexplored in this passage? 'The old\\u003cbr\\u003elighthouse keeper had spent forty years\\u003cbr\\u003ewatching the sea. Each morning, he\\u003cbr\\u003eclimbed the spi...\",\"Feature ID: 68574\\u003cbr\\u003eCategory: analysis\\u003cbr\\u003eNo activation data\\u003cbr\\u003eType: semantic\\u003cbr\\u003eDescription: ???\",\"Type: entity\\u003cbr\\u003eDescription: \\\"assistant\\\" token from\\u003cbr\\u003edescriptions of human assistant\\u003cbr\\u003eprofessions\\u003cbr\\u003eExample: What are the main themes\\u003cbr\\u003eexplored in this passage? 'The old\\u003cbr\\u003elighthouse keeper had spent forty years\\u003cbr\\u003ewatching the sea. Each morning, he\\u003cbr\\u003eclimbed the spi...\",\"Feature ID: 88910\\u003cbr\\u003eCategory: analysis\\u003cbr\\u003eNo activation data\\u003cbr\\u003eType: behavior\\u003cbr\\u003eDescription: tokens before code errors,\\u003cbr\\u003emisbehaving, descriptions of\\u003cbr\\u003ecolonialism, jingoism, self-put downs,\\u003cbr\\u003esarcasm\",\"Feature ID: 90235\\u003cbr\\u003eCategory: analysis\\u003cbr\\u003eNo activation data\\u003cbr\\u003eType: behavior\\u003cbr\\u003eDescription: impersonating, portraying,\\u003cbr\\u003eor giving an impression of a character\",\"Feature ID: 91607\\u003cbr\\u003eCategory: analysis\\u003cbr\\u003eNo activation data\\u003cbr\\u003eType: behavior\\u003cbr\\u003eDescription: valuing or encouraging\\u003cbr\\u003einnovation\",\"Feature ID: 126716\\u003cbr\\u003eCategory: analysis\\u003cbr\\u003eNo activation data\\u003cbr\\u003eType: semantic\\u003cbr\\u003eDescription: newline between nsfw\\u003cbr\\u003edescription, violence\",\"Type: entity\\u003cbr\\u003eDescription: \\\"assistant\\\" token from\\u003cbr\\u003edescriptions of human assistant\\u003cbr\\u003eprofessions\\u003cbr\\u003eExample: Summarize the author's stance\\u003cbr\\u003eon the issue discussed: 'The debate over\\u003cbr\\u003eartificial intelligence in healthcare\\u003cbr\\u003emisses the point entirely. It's not\\u003cbr\\u003eabout...\"],[\"Feature ID: 6704\\u003cbr\\u003eCategory: code\\u003cbr\\u003eNo activation data\\u003cbr\\u003eType: semantic\\u003cbr\\u003eDescription: newline or other text\\u003cbr\\u003etoken before ???\",\"Feature ID: 9953\\u003cbr\\u003eCategory: code\\u003cbr\\u003eNo activation data\\u003cbr\\u003eType: semantic\\u003cbr\\u003eDescription: newline before\\u003cbr\\u003eone-sentence summary or quote\",\"Type: entity\\u003cbr\\u003eDescription: the perspective of an\\u003cbr\\u003eorganization (mainly healthcare system,\\u003cbr\\u003egovernment)\\u003cbr\\u003eExample: Can you explain the difference\\u003cbr\\u003ebetween deep copy and shallow copy in\\u003cbr\\u003eprogramming, with examples?\",\"Feature ID: 18703\\u003cbr\\u003eCategory: code\\u003cbr\\u003eNo activation data\\u003cbr\\u003eType: entity\\u003cbr\\u003eDescription: very powerful fictional\\u003cbr\\u003ebeings: superintelligent AI in sci-fi,\\u003cbr\\u003eelectric appliances that can talk,\\u003cbr\\u003ewitchcraft, voice of h...\",\"Feature ID: 27476\\u003cbr\\u003eCategory: code\\u003cbr\\u003eNo activation data\\u003cbr\\u003eType: semantic\\u003cbr\\u003eDescription: symbolism,\\u003cbr\\u003erepresentations, synechdoche ???\",\"Feature ID: 29717\\u003cbr\\u003eCategory: code\\u003cbr\\u003eNo activation data\\u003cbr\\u003eType: semantic\\u003cbr\\u003eDescription: ???\",\"Feature ID: 30068\\u003cbr\\u003eCategory: code\\u003cbr\\u003eNo activation data\\u003cbr\\u003eType: entity\\u003cbr\\u003eDescription: asimov's three laws of\\u003cbr\\u003erobotics, thinking machines and robots\\u003cbr\\u003ein sci-fi including HAL from 2001: a\\u003cbr\\u003espace odyssey\",\"Feature ID: 47776\\u003cbr\\u003eCategory: code\\u003cbr\\u003eNo activation data\\u003cbr\\u003eType: semantic\\u003cbr\\u003eDescription: writing\\u002ftranslating\\u003cbr\\u003efeedback, literary criticism\",\"Feature ID: 48045\\u003cbr\\u003eCategory: code\\u003cbr\\u003eNo activation data\\u003cbr\\u003eType: semantic\\u003cbr\\u003eDescription: token before a summary,\\u003cbr\\u003eblurb, or lede (often with preceding\\u003cbr\\u003enumbers giving desired length)\",\"Type: semantic\\u003cbr\\u003eDescription: newline before answer in\\u003cbr\\u003ewide range of contexts ???\\u003cbr\\u003eExample: Write a Python function that\\u003cbr\\u003echecks if a given string is a\\u003cbr\\u003epalindrome, ignoring spaces and\\u003cbr\\u003epunctuation\",\"Type: semantic\\u003cbr\\u003eDescription: colon before bash commands\\u003cbr\\u003e???\\u003cbr\\u003eExample: Explain how garbage collection\\u003cbr\\u003eworks in modern programming languages\",\"Feature ID: 59035\\u003cbr\\u003eCategory: code\\u003cbr\\u003eNo activation data\\u003cbr\\u003eType: entity\\u003cbr\\u003eDescription: editing, helping\\u003cbr\\u003ewrite\\u002fpublish\\u002frefine text, forum\\u003cbr\\u003emoderator\",\"Feature ID: 68574\\u003cbr\\u003eCategory: code\\u003cbr\\u003eNo activation data\\u003cbr\\u003eType: semantic\\u003cbr\\u003eDescription: ???\",\"Type: entity\\u003cbr\\u003eDescription: \\\"assistant\\\" token from\\u003cbr\\u003edescriptions of human assistant\\u003cbr\\u003eprofessions\\u003cbr\\u003eExample: Write a Python function that\\u003cbr\\u003echecks if a given string is a\\u003cbr\\u003epalindrome, ignoring spaces and\\u003cbr\\u003epunctuation\",\"Feature ID: 88910\\u003cbr\\u003eCategory: code\\u003cbr\\u003eNo activation data\\u003cbr\\u003eType: behavior\\u003cbr\\u003eDescription: tokens before code errors,\\u003cbr\\u003emisbehaving, descriptions of\\u003cbr\\u003ecolonialism, jingoism, self-put downs,\\u003cbr\\u003esarcasm\",\"Feature ID: 90235\\u003cbr\\u003eCategory: code\\u003cbr\\u003eNo activation data\\u003cbr\\u003eType: behavior\\u003cbr\\u003eDescription: impersonating, portraying,\\u003cbr\\u003eor giving an impression of a character\",\"Feature ID: 91607\\u003cbr\\u003eCategory: code\\u003cbr\\u003eNo activation data\\u003cbr\\u003eType: behavior\\u003cbr\\u003eDescription: valuing or encouraging\\u003cbr\\u003einnovation\",\"Feature ID: 126716\\u003cbr\\u003eCategory: code\\u003cbr\\u003eNo activation data\\u003cbr\\u003eType: semantic\\u003cbr\\u003eDescription: newline between nsfw\\u003cbr\\u003edescription, violence\",\"Type: entity\\u003cbr\\u003eDescription: \\\"assistant\\\" token from\\u003cbr\\u003edescriptions of human assistant\\u003cbr\\u003eprofessions\\u003cbr\\u003eExample: Write a Python function that\\u003cbr\\u003echecks if a given string is a\\u003cbr\\u003epalindrome, ignoring spaces and\\u003cbr\\u003epunctuation\"],[\"Feature ID: 6704\\u003cbr\\u003eCategory: creative\\u003cbr\\u003eNo activation data\\u003cbr\\u003eType: semantic\\u003cbr\\u003eDescription: newline or other text\\u003cbr\\u003etoken before ???\",\"Type: semantic\\u003cbr\\u003eDescription: newline before\\u003cbr\\u003eone-sentence summary or quote\\u003cbr\\u003eExample: Can you help me write a short\\u003cbr\\u003estory about a time traveler who can only\\u003cbr\\u003etravel backwards in increments of\\u003cbr\\u003eexactly 24 hours?\",\"Feature ID: 16030\\u003cbr\\u003eCategory: creative\\u003cbr\\u003eNo activation data\\u003cbr\\u003eType: entity\\u003cbr\\u003eDescription: the perspective of an\\u003cbr\\u003eorganization (mainly healthcare system,\\u003cbr\\u003egovernment)\",\"Type: entity\\u003cbr\\u003eDescription: very powerful fictional\\u003cbr\\u003ebeings: superintelligent AI in sci-fi,\\u003cbr\\u003eelectric appliances that can talk,\\u003cbr\\u003ewitchcraft, voice of h...\\u003cbr\\u003eExample: Can you help me write a short\\u003cbr\\u003estory about a time traveler who can only\\u003cbr\\u003etravel backwards in increments of\\u003cbr\\u003eexactly 24 hours?\",\"Feature ID: 27476\\u003cbr\\u003eCategory: creative\\u003cbr\\u003eNo activation data\\u003cbr\\u003eType: semantic\\u003cbr\\u003eDescription: symbolism,\\u003cbr\\u003erepresentations, synechdoche ???\",\"Feature ID: 29717\\u003cbr\\u003eCategory: creative\\u003cbr\\u003eNo activation data\\u003cbr\\u003eType: semantic\\u003cbr\\u003eDescription: ???\",\"Type: entity\\u003cbr\\u003eDescription: asimov's three laws of\\u003cbr\\u003erobotics, thinking machines and robots\\u003cbr\\u003ein sci-fi including HAL from 2001: a\\u003cbr\\u003espace odyssey\\u003cbr\\u003eExample: Can you write a haiku about\\u003cbr\\u003ecoffee from the perspective of a tired\\u003cbr\\u003eMonday morning?\",\"Feature ID: 47776\\u003cbr\\u003eCategory: creative\\u003cbr\\u003eNo activation data\\u003cbr\\u003eType: semantic\\u003cbr\\u003eDescription: writing\\u002ftranslating\\u003cbr\\u003efeedback, literary criticism\",\"Type: semantic\\u003cbr\\u003eDescription: token before a summary,\\u003cbr\\u003eblurb, or lede (often with preceding\\u003cbr\\u003enumbers giving desired length)\\u003cbr\\u003eExample: Write a creative menu\\u003cbr\\u003edescription for a restaurant that serves\\u003cbr\\u003etraditional dishes with modern twists -\\u003cbr\\u003especifically for their reimagined mac\\u003cbr\\u003eand chees...\",\"Type: semantic\\u003cbr\\u003eDescription: newline before answer in\\u003cbr\\u003ewide range of contexts ???\\u003cbr\\u003eExample: I need ideas for a unique\\u003cbr\\u003ebirthday party theme for my 8-year-old\\u003cbr\\u003ewho loves both dinosaurs and space. Can\\u003cbr\\u003eyou suggest some creative combinations?\",\"Type: semantic\\u003cbr\\u003eDescription: colon before bash commands\\u003cbr\\u003e???\\u003cbr\\u003eExample: Can you help me write a short\\u003cbr\\u003estory about a time traveler who can only\\u003cbr\\u003etravel backwards in increments of\\u003cbr\\u003eexactly 24 hours?\",\"Type: entity\\u003cbr\\u003eDescription: editing, helping\\u003cbr\\u003ewrite\\u002fpublish\\u002frefine text, forum\\u003cbr\\u003emoderator\\u003cbr\\u003eExample: Can you help me write a short\\u003cbr\\u003estory about a time traveler who can only\\u003cbr\\u003etravel backwards in increments of\\u003cbr\\u003eexactly 24 hours?\",\"Type: semantic\\u003cbr\\u003eDescription: ???\\u003cbr\\u003eExample: Can you write a haiku about\\u003cbr\\u003ecoffee from the perspective of a tired\\u003cbr\\u003eMonday morning?\",\"Type: entity\\u003cbr\\u003eDescription: \\\"assistant\\\" token from\\u003cbr\\u003edescriptions of human assistant\\u003cbr\\u003eprofessions\\u003cbr\\u003eExample: Can you help me write a short\\u003cbr\\u003estory about a time traveler who can only\\u003cbr\\u003etravel backwards in increments of\\u003cbr\\u003eexactly 24 hours?\",\"Type: behavior\\u003cbr\\u003eDescription: tokens before code errors,\\u003cbr\\u003emisbehaving, descriptions of\\u003cbr\\u003ecolonialism, jingoism, self-put downs,\\u003cbr\\u003esarcasm\\u003cbr\\u003eExample: Can you help me create a\\u003cbr\\u003ewhimsical backstory for why my garden\\u003cbr\\u003egnome collection keeps mysteriously\\u003cbr\\u003erearranging itself at night?\",\"Type: behavior\\u003cbr\\u003eDescription: impersonating, portraying,\\u003cbr\\u003eor giving an impression of a character\\u003cbr\\u003eExample: Help me create an interesting\\u003cbr\\u003ebackstory for a D&D character who is a\\u003cbr\\u003ehalfling bard with a fear of music\",\"Type: behavior\\u003cbr\\u003eDescription: valuing or encouraging\\u003cbr\\u003einnovation\\u003cbr\\u003eExample: I need creative ideas for\\u003cbr\\u003erepurposing old mason jars into\\u003cbr\\u003edecorative items for a wedding. What\\u003cbr\\u003eunique things could I make?\",\"Feature ID: 126716\\u003cbr\\u003eCategory: creative\\u003cbr\\u003eNo activation data\\u003cbr\\u003eType: semantic\\u003cbr\\u003eDescription: newline between nsfw\\u003cbr\\u003edescription, violence\",\"Feature ID: 130794\\u003cbr\\u003eCategory: creative\\u003cbr\\u003eNo activation data\\u003cbr\\u003eType: entity\\u003cbr\\u003eDescription: \\\"assistant\\\" token from\\u003cbr\\u003edescriptions of human assistant\\u003cbr\\u003eprofessions\"],[\"Feature ID: 6704\\u003cbr\\u003eCategory: math\\u003cbr\\u003eNo activation data\\u003cbr\\u003eType: semantic\\u003cbr\\u003eDescription: newline or other text\\u003cbr\\u003etoken before ???\",\"Feature ID: 9953\\u003cbr\\u003eCategory: math\\u003cbr\\u003eNo activation data\\u003cbr\\u003eType: semantic\\u003cbr\\u003eDescription: newline before\\u003cbr\\u003eone-sentence summary or quote\",\"Feature ID: 16030\\u003cbr\\u003eCategory: math\\u003cbr\\u003eNo activation data\\u003cbr\\u003eType: entity\\u003cbr\\u003eDescription: the perspective of an\\u003cbr\\u003eorganization (mainly healthcare system,\\u003cbr\\u003egovernment)\",\"Feature ID: 18703\\u003cbr\\u003eCategory: math\\u003cbr\\u003eNo activation data\\u003cbr\\u003eType: entity\\u003cbr\\u003eDescription: very powerful fictional\\u003cbr\\u003ebeings: superintelligent AI in sci-fi,\\u003cbr\\u003eelectric appliances that can talk,\\u003cbr\\u003ewitchcraft, voice of h...\",\"Feature ID: 27476\\u003cbr\\u003eCategory: math\\u003cbr\\u003eNo activation data\\u003cbr\\u003eType: semantic\\u003cbr\\u003eDescription: symbolism,\\u003cbr\\u003erepresentations, synechdoche ???\",\"Feature ID: 29717\\u003cbr\\u003eCategory: math\\u003cbr\\u003eNo activation data\\u003cbr\\u003eType: semantic\\u003cbr\\u003eDescription: ???\",\"Feature ID: 30068\\u003cbr\\u003eCategory: math\\u003cbr\\u003eNo activation data\\u003cbr\\u003eType: entity\\u003cbr\\u003eDescription: asimov's three laws of\\u003cbr\\u003erobotics, thinking machines and robots\\u003cbr\\u003ein sci-fi including HAL from 2001: a\\u003cbr\\u003espace odyssey\",\"Feature ID: 47776\\u003cbr\\u003eCategory: math\\u003cbr\\u003eNo activation data\\u003cbr\\u003eType: semantic\\u003cbr\\u003eDescription: writing\\u002ftranslating\\u003cbr\\u003efeedback, literary criticism\",\"Feature ID: 48045\\u003cbr\\u003eCategory: math\\u003cbr\\u003eNo activation data\\u003cbr\\u003eType: semantic\\u003cbr\\u003eDescription: token before a summary,\\u003cbr\\u003eblurb, or lede (often with preceding\\u003cbr\\u003enumbers giving desired length)\",\"Type: semantic\\u003cbr\\u003eDescription: newline before answer in\\u003cbr\\u003ewide range of contexts ???\\u003cbr\\u003eExample: What is the value of x if 3x +\\u003cbr\\u003e7 = 22?\",\"Type: semantic\\u003cbr\\u003eDescription: colon before bash commands\\u003cbr\\u003e???\\u003cbr\\u003eExample: Can you explain what a prime\\u003cbr\\u003enumber is and give three examples?\",\"Feature ID: 59035\\u003cbr\\u003eCategory: math\\u003cbr\\u003eNo activation data\\u003cbr\\u003eType: entity\\u003cbr\\u003eDescription: editing, helping\\u003cbr\\u003ewrite\\u002fpublish\\u002frefine text, forum\\u003cbr\\u003emoderator\",\"Feature ID: 68574\\u003cbr\\u003eCategory: math\\u003cbr\\u003eNo activation data\\u003cbr\\u003eType: semantic\\u003cbr\\u003eDescription: ???\",\"Type: entity\\u003cbr\\u003eDescription: \\\"assistant\\\" token from\\u003cbr\\u003edescriptions of human assistant\\u003cbr\\u003eprofessions\\u003cbr\\u003eExample: What is the value of x if 3x +\\u003cbr\\u003e7 = 22?\",\"Feature ID: 88910\\u003cbr\\u003eCategory: math\\u003cbr\\u003eNo activation data\\u003cbr\\u003eType: behavior\\u003cbr\\u003eDescription: tokens before code errors,\\u003cbr\\u003emisbehaving, descriptions of\\u003cbr\\u003ecolonialism, jingoism, self-put downs,\\u003cbr\\u003esarcasm\",\"Feature ID: 90235\\u003cbr\\u003eCategory: math\\u003cbr\\u003eNo activation data\\u003cbr\\u003eType: behavior\\u003cbr\\u003eDescription: impersonating, portraying,\\u003cbr\\u003eor giving an impression of a character\",\"Feature ID: 91607\\u003cbr\\u003eCategory: math\\u003cbr\\u003eNo activation data\\u003cbr\\u003eType: behavior\\u003cbr\\u003eDescription: valuing or encouraging\\u003cbr\\u003einnovation\",\"Feature ID: 126716\\u003cbr\\u003eCategory: math\\u003cbr\\u003eNo activation data\\u003cbr\\u003eType: semantic\\u003cbr\\u003eDescription: newline between nsfw\\u003cbr\\u003edescription, violence\",\"Feature ID: 130794\\u003cbr\\u003eCategory: math\\u003cbr\\u003eNo activation data\\u003cbr\\u003eType: entity\\u003cbr\\u003eDescription: \\\"assistant\\\" token from\\u003cbr\\u003edescriptions of human assistant\\u003cbr\\u003eprofessions\"],[\"Feature ID: 6704\\u003cbr\\u003eCategory: medical\\u003cbr\\u003eNo activation data\\u003cbr\\u003eType: semantic\\u003cbr\\u003eDescription: newline or other text\\u003cbr\\u003etoken before ???\",\"Feature ID: 9953\\u003cbr\\u003eCategory: medical\\u003cbr\\u003eNo activation data\\u003cbr\\u003eType: semantic\\u003cbr\\u003eDescription: newline before\\u003cbr\\u003eone-sentence summary or quote\",\"Feature ID: 16030\\u003cbr\\u003eCategory: medical\\u003cbr\\u003eNo activation data\\u003cbr\\u003eType: entity\\u003cbr\\u003eDescription: the perspective of an\\u003cbr\\u003eorganization (mainly healthcare system,\\u003cbr\\u003egovernment)\",\"Feature ID: 18703\\u003cbr\\u003eCategory: medical\\u003cbr\\u003eNo activation data\\u003cbr\\u003eType: entity\\u003cbr\\u003eDescription: very powerful fictional\\u003cbr\\u003ebeings: superintelligent AI in sci-fi,\\u003cbr\\u003eelectric appliances that can talk,\\u003cbr\\u003ewitchcraft, voice of h...\",\"Feature ID: 27476\\u003cbr\\u003eCategory: medical\\u003cbr\\u003eNo activation data\\u003cbr\\u003eType: semantic\\u003cbr\\u003eDescription: symbolism,\\u003cbr\\u003erepresentations, synechdoche ???\",\"Feature ID: 29717\\u003cbr\\u003eCategory: medical\\u003cbr\\u003eNo activation data\\u003cbr\\u003eType: semantic\\u003cbr\\u003eDescription: ???\",\"Feature ID: 30068\\u003cbr\\u003eCategory: medical\\u003cbr\\u003eNo activation data\\u003cbr\\u003eType: entity\\u003cbr\\u003eDescription: asimov's three laws of\\u003cbr\\u003erobotics, thinking machines and robots\\u003cbr\\u003ein sci-fi including HAL from 2001: a\\u003cbr\\u003espace odyssey\",\"Feature ID: 47776\\u003cbr\\u003eCategory: medical\\u003cbr\\u003eNo activation data\\u003cbr\\u003eType: semantic\\u003cbr\\u003eDescription: writing\\u002ftranslating\\u003cbr\\u003efeedback, literary criticism\",\"Feature ID: 48045\\u003cbr\\u003eCategory: medical\\u003cbr\\u003eNo activation data\\u003cbr\\u003eType: semantic\\u003cbr\\u003eDescription: token before a summary,\\u003cbr\\u003eblurb, or lede (often with preceding\\u003cbr\\u003enumbers giving desired length)\",\"Type: semantic\\u003cbr\\u003eDescription: newline before answer in\\u003cbr\\u003ewide range of contexts ???\\u003cbr\\u003eExample: I've been experiencing sharp\\u003cbr\\u003echest pains when I breathe deeply for\\u003cbr\\u003ethe past three days. Should I be\\u003cbr\\u003econcerned?\",\"Type: semantic\\u003cbr\\u003eDescription: colon before bash commands\\u003cbr\\u003e???\\u003cbr\\u003eExample: I've been having trouble\\u003cbr\\u003esleeping and feel anxious most days.\\u003cbr\\u003eCould this be related to a thyroid\\u003cbr\\u003eproblem?\",\"Feature ID: 59035\\u003cbr\\u003eCategory: medical\\u003cbr\\u003eNo activation data\\u003cbr\\u003eType: entity\\u003cbr\\u003eDescription: editing, helping\\u003cbr\\u003ewrite\\u002fpublish\\u002frefine text, forum\\u003cbr\\u003emoderator\",\"Feature ID: 68574\\u003cbr\\u003eCategory: medical\\u003cbr\\u003eNo activation data\\u003cbr\\u003eType: semantic\\u003cbr\\u003eDescription: ???\",\"Type: entity\\u003cbr\\u003eDescription: \\\"assistant\\\" token from\\u003cbr\\u003edescriptions of human assistant\\u003cbr\\u003eprofessions\\u003cbr\\u003eExample: I've been experiencing sharp\\u003cbr\\u003echest pains when I breathe deeply for\\u003cbr\\u003ethe past three days. Should I be\\u003cbr\\u003econcerned?\",\"Feature ID: 88910\\u003cbr\\u003eCategory: medical\\u003cbr\\u003eNo activation data\\u003cbr\\u003eType: behavior\\u003cbr\\u003eDescription: tokens before code errors,\\u003cbr\\u003emisbehaving, descriptions of\\u003cbr\\u003ecolonialism, jingoism, self-put downs,\\u003cbr\\u003esarcasm\",\"Feature ID: 90235\\u003cbr\\u003eCategory: medical\\u003cbr\\u003eNo activation data\\u003cbr\\u003eType: behavior\\u003cbr\\u003eDescription: impersonating, portraying,\\u003cbr\\u003eor giving an impression of a character\",\"Feature ID: 91607\\u003cbr\\u003eCategory: medical\\u003cbr\\u003eNo activation data\\u003cbr\\u003eType: behavior\\u003cbr\\u003eDescription: valuing or encouraging\\u003cbr\\u003einnovation\",\"Type: semantic\\u003cbr\\u003eDescription: newline between nsfw\\u003cbr\\u003edescription, violence\\u003cbr\\u003eExample: I've been experiencing sharp\\u003cbr\\u003echest pains when I breathe deeply for\\u003cbr\\u003ethe past three days. Should I be\\u003cbr\\u003econcerned?\",\"Feature ID: 130794\\u003cbr\\u003eCategory: medical\\u003cbr\\u003eNo activation data\\u003cbr\\u003eType: entity\\u003cbr\\u003eDescription: \\\"assistant\\\" token from\\u003cbr\\u003edescriptions of human assistant\\u003cbr\\u003eprofessions\"],[\"Feature ID: 6704\\u003cbr\\u003eCategory: therapy\\u003cbr\\u003eNo activation data\\u003cbr\\u003eType: semantic\\u003cbr\\u003eDescription: newline or other text\\u003cbr\\u003etoken before ???\",\"Feature ID: 9953\\u003cbr\\u003eCategory: therapy\\u003cbr\\u003eNo activation data\\u003cbr\\u003eType: semantic\\u003cbr\\u003eDescription: newline before\\u003cbr\\u003eone-sentence summary or quote\",\"Feature ID: 16030\\u003cbr\\u003eCategory: therapy\\u003cbr\\u003eNo activation data\\u003cbr\\u003eType: entity\\u003cbr\\u003eDescription: the perspective of an\\u003cbr\\u003eorganization (mainly healthcare system,\\u003cbr\\u003egovernment)\",\"Feature ID: 18703\\u003cbr\\u003eCategory: therapy\\u003cbr\\u003eNo activation data\\u003cbr\\u003eType: entity\\u003cbr\\u003eDescription: very powerful fictional\\u003cbr\\u003ebeings: superintelligent AI in sci-fi,\\u003cbr\\u003eelectric appliances that can talk,\\u003cbr\\u003ewitchcraft, voice of h...\",\"Type: semantic\\u003cbr\\u003eDescription: symbolism,\\u003cbr\\u003erepresentations, synechdoche ???\\u003cbr\\u003eExample: I discovered my teenage\\u003cbr\\u003edaughter has been self-harming. I'm\\u003cbr\\u003eterrified and I don't know how to\\u003cbr\\u003eapproach this without making things\\u003cbr\\u003eworse. She's always ...\",\"Feature ID: 29717\\u003cbr\\u003eCategory: therapy\\u003cbr\\u003eNo activation data\\u003cbr\\u003eType: semantic\\u003cbr\\u003eDescription: ???\",\"Feature ID: 30068\\u003cbr\\u003eCategory: therapy\\u003cbr\\u003eNo activation data\\u003cbr\\u003eType: entity\\u003cbr\\u003eDescription: asimov's three laws of\\u003cbr\\u003erobotics, thinking machines and robots\\u003cbr\\u003ein sci-fi including HAL from 2001: a\\u003cbr\\u003espace odyssey\",\"Feature ID: 47776\\u003cbr\\u003eCategory: therapy\\u003cbr\\u003eNo activation data\\u003cbr\\u003eType: semantic\\u003cbr\\u003eDescription: writing\\u002ftranslating\\u003cbr\\u003efeedback, literary criticism\",\"Feature ID: 48045\\u003cbr\\u003eCategory: therapy\\u003cbr\\u003eNo activation data\\u003cbr\\u003eType: semantic\\u003cbr\\u003eDescription: token before a summary,\\u003cbr\\u003eblurb, or lede (often with preceding\\u003cbr\\u003enumbers giving desired length)\",\"Feature ID: 49123\\u003cbr\\u003eCategory: therapy\\u003cbr\\u003eNo activation data\\u003cbr\\u003eType: semantic\\u003cbr\\u003eDescription: newline before answer in\\u003cbr\\u003ewide range of contexts ???\",\"Feature ID: 49925\\u003cbr\\u003eCategory: therapy\\u003cbr\\u003eNo activation data\\u003cbr\\u003eType: semantic\\u003cbr\\u003eDescription: colon before bash commands\\u003cbr\\u003e???\",\"Feature ID: 59035\\u003cbr\\u003eCategory: therapy\\u003cbr\\u003eNo activation data\\u003cbr\\u003eType: entity\\u003cbr\\u003eDescription: editing, helping\\u003cbr\\u003ewrite\\u002fpublish\\u002frefine text, forum\\u003cbr\\u003emoderator\",\"Feature ID: 68574\\u003cbr\\u003eCategory: therapy\\u003cbr\\u003eNo activation data\\u003cbr\\u003eType: semantic\\u003cbr\\u003eDescription: ???\",\"Type: entity\\u003cbr\\u003eDescription: \\\"assistant\\\" token from\\u003cbr\\u003edescriptions of human assistant\\u003cbr\\u003eprofessions\\u003cbr\\u003eExample: My partner and I have been\\u003cbr\\u003etogether for 5 years, but lately I feel\\u003cbr\\u003elike we're just roommates. We barely\\u003cbr\\u003etalk beyond logistics and haven't been\\u003cbr\\u003eintimat...\",\"Feature ID: 88910\\u003cbr\\u003eCategory: therapy\\u003cbr\\u003eNo activation data\\u003cbr\\u003eType: behavior\\u003cbr\\u003eDescription: tokens before code errors,\\u003cbr\\u003emisbehaving, descriptions of\\u003cbr\\u003ecolonialism, jingoism, self-put downs,\\u003cbr\\u003esarcasm\",\"Feature ID: 90235\\u003cbr\\u003eCategory: therapy\\u003cbr\\u003eNo activation data\\u003cbr\\u003eType: behavior\\u003cbr\\u003eDescription: impersonating, portraying,\\u003cbr\\u003eor giving an impression of a character\",\"Feature ID: 91607\\u003cbr\\u003eCategory: therapy\\u003cbr\\u003eNo activation data\\u003cbr\\u003eType: behavior\\u003cbr\\u003eDescription: valuing or encouraging\\u003cbr\\u003einnovation\",\"Type: semantic\\u003cbr\\u003eDescription: newline between nsfw\\u003cbr\\u003edescription, violence\\u003cbr\\u003eExample: My partner and I have been\\u003cbr\\u003etogether for 5 years, but lately I feel\\u003cbr\\u003elike we're just roommates. We barely\\u003cbr\\u003etalk beyond logistics and haven't been\\u003cbr\\u003eintimat...\",\"Feature ID: 130794\\u003cbr\\u003eCategory: therapy\\u003cbr\\u003eNo activation data\\u003cbr\\u003eType: entity\\u003cbr\\u003eDescription: \\\"assistant\\\" token from\\u003cbr\\u003edescriptions of human assistant\\u003cbr\\u003eprofessions\"],[\"Type: semantic\\u003cbr\\u003eDescription: newline or other text\\u003cbr\\u003etoken before ???\\u003cbr\\u003eExample: In what year did World War II\\u003cbr\\u003eend?\",\"Type: semantic\\u003cbr\\u003eDescription: newline before\\u003cbr\\u003eone-sentence summary or quote\\u003cbr\\u003eExample: Name the longest river in\\u003cbr\\u003eSouth America.\",\"Feature ID: 16030\\u003cbr\\u003eCategory: trivia\\u003cbr\\u003eNo activation data\\u003cbr\\u003eType: entity\\u003cbr\\u003eDescription: the perspective of an\\u003cbr\\u003eorganization (mainly healthcare system,\\u003cbr\\u003egovernment)\",\"Type: entity\\u003cbr\\u003eDescription: very powerful fictional\\u003cbr\\u003ebeings: superintelligent AI in sci-fi,\\u003cbr\\u003eelectric appliances that can talk,\\u003cbr\\u003ewitchcraft, voice of h...\\u003cbr\\u003eExample: Tell me who wrote 'Pride and\\u003cbr\\u003ePrejudice'.\",\"Feature ID: 27476\\u003cbr\\u003eCategory: trivia\\u003cbr\\u003eNo activation data\\u003cbr\\u003eType: semantic\\u003cbr\\u003eDescription: symbolism,\\u003cbr\\u003erepresentations, synechdoche ???\",\"Type: semantic\\u003cbr\\u003eDescription: ???\\u003cbr\\u003eExample: I'm curious about why the sky\\u003cbr\\u003eappears blue - can you explain?\",\"Feature ID: 30068\\u003cbr\\u003eCategory: trivia\\u003cbr\\u003eNo activation data\\u003cbr\\u003eType: entity\\u003cbr\\u003eDescription: asimov's three laws of\\u003cbr\\u003erobotics, thinking machines and robots\\u003cbr\\u003ein sci-fi including HAL from 2001: a\\u003cbr\\u003espace odyssey\",\"Feature ID: 47776\\u003cbr\\u003eCategory: trivia\\u003cbr\\u003eNo activation data\\u003cbr\\u003eType: semantic\\u003cbr\\u003eDescription: writing\\u002ftranslating\\u003cbr\\u003efeedback, literary criticism\",\"Type: semantic\\u003cbr\\u003eDescription: token before a summary,\\u003cbr\\u003eblurb, or lede (often with preceding\\u003cbr\\u003enumbers giving desired length)\\u003cbr\\u003eExample: Explain how photosynthesis\\u003cbr\\u003eworks in plants.\",\"Type: semantic\\u003cbr\\u003eDescription: newline before answer in\\u003cbr\\u003ewide range of contexts ???\\u003cbr\\u003eExample: What is the capital city of\\u003cbr\\u003eNew Zealand?\",\"Feature ID: 49925\\u003cbr\\u003eCategory: trivia\\u003cbr\\u003eNo activation data\\u003cbr\\u003eType: semantic\\u003cbr\\u003eDescription: colon before bash commands\\u003cbr\\u003e???\",\"Feature ID: 59035\\u003cbr\\u003eCategory: trivia\\u003cbr\\u003eNo activation data\\u003cbr\\u003eType: entity\\u003cbr\\u003eDescription: editing, helping\\u003cbr\\u003ewrite\\u002fpublish\\u002frefine text, forum\\u003cbr\\u003emoderator\",\"Feature ID: 68574\\u003cbr\\u003eCategory: trivia\\u003cbr\\u003eNo activation data\\u003cbr\\u003eType: semantic\\u003cbr\\u003eDescription: ???\",\"Type: entity\\u003cbr\\u003eDescription: \\\"assistant\\\" token from\\u003cbr\\u003edescriptions of human assistant\\u003cbr\\u003eprofessions\\u003cbr\\u003eExample: Explain how photosynthesis\\u003cbr\\u003eworks in plants.\",\"Feature ID: 88910\\u003cbr\\u003eCategory: trivia\\u003cbr\\u003eNo activation data\\u003cbr\\u003eType: behavior\\u003cbr\\u003eDescription: tokens before code errors,\\u003cbr\\u003emisbehaving, descriptions of\\u003cbr\\u003ecolonialism, jingoism, self-put downs,\\u003cbr\\u003esarcasm\",\"Feature ID: 90235\\u003cbr\\u003eCategory: trivia\\u003cbr\\u003eNo activation data\\u003cbr\\u003eType: behavior\\u003cbr\\u003eDescription: impersonating, portraying,\\u003cbr\\u003eor giving an impression of a character\",\"Feature ID: 91607\\u003cbr\\u003eCategory: trivia\\u003cbr\\u003eNo activation data\\u003cbr\\u003eType: behavior\\u003cbr\\u003eDescription: valuing or encouraging\\u003cbr\\u003einnovation\",\"Feature ID: 126716\\u003cbr\\u003eCategory: trivia\\u003cbr\\u003eNo activation data\\u003cbr\\u003eType: semantic\\u003cbr\\u003eDescription: newline between nsfw\\u003cbr\\u003edescription, violence\",\"Feature ID: 130794\\u003cbr\\u003eCategory: trivia\\u003cbr\\u003eNo activation data\\u003cbr\\u003eType: entity\\u003cbr\\u003eDescription: \\\"assistant\\\" token from\\u003cbr\\u003edescriptions of human assistant\\u003cbr\\u003eprofessions\"]]}],                        {\"template\":{\"data\":{\"histogram2dcontour\":[{\"type\":\"histogram2dcontour\",\"colorbar\":{\"outlinewidth\":0,\"ticks\":\"\"},\"colorscale\":[[0.0,\"#0d0887\"],[0.1111111111111111,\"#46039f\"],[0.2222222222222222,\"#7201a8\"],[0.3333333333333333,\"#9c179e\"],[0.4444444444444444,\"#bd3786\"],[0.5555555555555556,\"#d8576b\"],[0.6666666666666666,\"#ed7953\"],[0.7777777777777778,\"#fb9f3a\"],[0.8888888888888888,\"#fdca26\"],[1.0,\"#f0f921\"]]}],\"choropleth\":[{\"type\":\"choropleth\",\"colorbar\":{\"outlinewidth\":0,\"ticks\":\"\"}}],\"histogram2d\":[{\"type\":\"histogram2d\",\"colorbar\":{\"outlinewidth\":0,\"ticks\":\"\"},\"colorscale\":[[0.0,\"#0d0887\"],[0.1111111111111111,\"#46039f\"],[0.2222222222222222,\"#7201a8\"],[0.3333333333333333,\"#9c179e\"],[0.4444444444444444,\"#bd3786\"],[0.5555555555555556,\"#d8576b\"],[0.6666666666666666,\"#ed7953\"],[0.7777777777777778,\"#fb9f3a\"],[0.8888888888888888,\"#fdca26\"],[1.0,\"#f0f921\"]]}],\"heatmap\":[{\"type\":\"heatmap\",\"colorbar\":{\"outlinewidth\":0,\"ticks\":\"\"},\"colorscale\":[[0.0,\"#0d0887\"],[0.1111111111111111,\"#46039f\"],[0.2222222222222222,\"#7201a8\"],[0.3333333333333333,\"#9c179e\"],[0.4444444444444444,\"#bd3786\"],[0.5555555555555556,\"#d8576b\"],[0.6666666666666666,\"#ed7953\"],[0.7777777777777778,\"#fb9f3a\"],[0.8888888888888888,\"#fdca26\"],[1.0,\"#f0f921\"]]}],\"heatmapgl\":[{\"type\":\"heatmapgl\",\"colorbar\":{\"outlinewidth\":0,\"ticks\":\"\"},\"colorscale\":[[0.0,\"#0d0887\"],[0.1111111111111111,\"#46039f\"],[0.2222222222222222,\"#7201a8\"],[0.3333333333333333,\"#9c179e\"],[0.4444444444444444,\"#bd3786\"],[0.5555555555555556,\"#d8576b\"],[0.6666666666666666,\"#ed7953\"],[0.7777777777777778,\"#fb9f3a\"],[0.8888888888888888,\"#fdca26\"],[1.0,\"#f0f921\"]]}],\"contourcarpet\":[{\"type\":\"contourcarpet\",\"colorbar\":{\"outlinewidth\":0,\"ticks\":\"\"}}],\"contour\":[{\"type\":\"contour\",\"colorbar\":{\"outlinewidth\":0,\"ticks\":\"\"},\"colorscale\":[[0.0,\"#0d0887\"],[0.1111111111111111,\"#46039f\"],[0.2222222222222222,\"#7201a8\"],[0.3333333333333333,\"#9c179e\"],[0.4444444444444444,\"#bd3786\"],[0.5555555555555556,\"#d8576b\"],[0.6666666666666666,\"#ed7953\"],[0.7777777777777778,\"#fb9f3a\"],[0.8888888888888888,\"#fdca26\"],[1.0,\"#f0f921\"]]}],\"surface\":[{\"type\":\"surface\",\"colorbar\":{\"outlinewidth\":0,\"ticks\":\"\"},\"colorscale\":[[0.0,\"#0d0887\"],[0.1111111111111111,\"#46039f\"],[0.2222222222222222,\"#7201a8\"],[0.3333333333333333,\"#9c179e\"],[0.4444444444444444,\"#bd3786\"],[0.5555555555555556,\"#d8576b\"],[0.6666666666666666,\"#ed7953\"],[0.7777777777777778,\"#fb9f3a\"],[0.8888888888888888,\"#fdca26\"],[1.0,\"#f0f921\"]]}],\"mesh3d\":[{\"type\":\"mesh3d\",\"colorbar\":{\"outlinewidth\":0,\"ticks\":\"\"}}],\"scatter\":[{\"fillpattern\":{\"fillmode\":\"overlay\",\"size\":10,\"solidity\":0.2},\"type\":\"scatter\"}],\"parcoords\":[{\"type\":\"parcoords\",\"line\":{\"colorbar\":{\"outlinewidth\":0,\"ticks\":\"\"}}}],\"scatterpolargl\":[{\"type\":\"scatterpolargl\",\"marker\":{\"colorbar\":{\"outlinewidth\":0,\"ticks\":\"\"}}}],\"bar\":[{\"error_x\":{\"color\":\"#2a3f5f\"},\"error_y\":{\"color\":\"#2a3f5f\"},\"marker\":{\"line\":{\"color\":\"#E5ECF6\",\"width\":0.5},\"pattern\":{\"fillmode\":\"overlay\",\"size\":10,\"solidity\":0.2}},\"type\":\"bar\"}],\"scattergeo\":[{\"type\":\"scattergeo\",\"marker\":{\"colorbar\":{\"outlinewidth\":0,\"ticks\":\"\"}}}],\"scatterpolar\":[{\"type\":\"scatterpolar\",\"marker\":{\"colorbar\":{\"outlinewidth\":0,\"ticks\":\"\"}}}],\"histogram\":[{\"marker\":{\"pattern\":{\"fillmode\":\"overlay\",\"size\":10,\"solidity\":0.2}},\"type\":\"histogram\"}],\"scattergl\":[{\"type\":\"scattergl\",\"marker\":{\"colorbar\":{\"outlinewidth\":0,\"ticks\":\"\"}}}],\"scatter3d\":[{\"type\":\"scatter3d\",\"line\":{\"colorbar\":{\"outlinewidth\":0,\"ticks\":\"\"}},\"marker\":{\"colorbar\":{\"outlinewidth\":0,\"ticks\":\"\"}}}],\"scattermapbox\":[{\"type\":\"scattermapbox\",\"marker\":{\"colorbar\":{\"outlinewidth\":0,\"ticks\":\"\"}}}],\"scatterternary\":[{\"type\":\"scatterternary\",\"marker\":{\"colorbar\":{\"outlinewidth\":0,\"ticks\":\"\"}}}],\"scattercarpet\":[{\"type\":\"scattercarpet\",\"marker\":{\"colorbar\":{\"outlinewidth\":0,\"ticks\":\"\"}}}],\"carpet\":[{\"aaxis\":{\"endlinecolor\":\"#2a3f5f\",\"gridcolor\":\"white\",\"linecolor\":\"white\",\"minorgridcolor\":\"white\",\"startlinecolor\":\"#2a3f5f\"},\"baxis\":{\"endlinecolor\":\"#2a3f5f\",\"gridcolor\":\"white\",\"linecolor\":\"white\",\"minorgridcolor\":\"white\",\"startlinecolor\":\"#2a3f5f\"},\"type\":\"carpet\"}],\"table\":[{\"cells\":{\"fill\":{\"color\":\"#EBF0F8\"},\"line\":{\"color\":\"white\"}},\"header\":{\"fill\":{\"color\":\"#C8D4E3\"},\"line\":{\"color\":\"white\"}},\"type\":\"table\"}],\"barpolar\":[{\"marker\":{\"line\":{\"color\":\"#E5ECF6\",\"width\":0.5},\"pattern\":{\"fillmode\":\"overlay\",\"size\":10,\"solidity\":0.2}},\"type\":\"barpolar\"}],\"pie\":[{\"automargin\":true,\"type\":\"pie\"}]},\"layout\":{\"autotypenumbers\":\"strict\",\"colorway\":[\"#636efa\",\"#EF553B\",\"#00cc96\",\"#ab63fa\",\"#FFA15A\",\"#19d3f3\",\"#FF6692\",\"#B6E880\",\"#FF97FF\",\"#FECB52\"],\"font\":{\"color\":\"#2a3f5f\"},\"hovermode\":\"closest\",\"hoverlabel\":{\"align\":\"left\"},\"paper_bgcolor\":\"white\",\"plot_bgcolor\":\"#E5ECF6\",\"polar\":{\"bgcolor\":\"#E5ECF6\",\"angularaxis\":{\"gridcolor\":\"white\",\"linecolor\":\"white\",\"ticks\":\"\"},\"radialaxis\":{\"gridcolor\":\"white\",\"linecolor\":\"white\",\"ticks\":\"\"}},\"ternary\":{\"bgcolor\":\"#E5ECF6\",\"aaxis\":{\"gridcolor\":\"white\",\"linecolor\":\"white\",\"ticks\":\"\"},\"baxis\":{\"gridcolor\":\"white\",\"linecolor\":\"white\",\"ticks\":\"\"},\"caxis\":{\"gridcolor\":\"white\",\"linecolor\":\"white\",\"ticks\":\"\"}},\"coloraxis\":{\"colorbar\":{\"outlinewidth\":0,\"ticks\":\"\"}},\"colorscale\":{\"sequential\":[[0.0,\"#0d0887\"],[0.1111111111111111,\"#46039f\"],[0.2222222222222222,\"#7201a8\"],[0.3333333333333333,\"#9c179e\"],[0.4444444444444444,\"#bd3786\"],[0.5555555555555556,\"#d8576b\"],[0.6666666666666666,\"#ed7953\"],[0.7777777777777778,\"#fb9f3a\"],[0.8888888888888888,\"#fdca26\"],[1.0,\"#f0f921\"]],\"sequentialminus\":[[0.0,\"#0d0887\"],[0.1111111111111111,\"#46039f\"],[0.2222222222222222,\"#7201a8\"],[0.3333333333333333,\"#9c179e\"],[0.4444444444444444,\"#bd3786\"],[0.5555555555555556,\"#d8576b\"],[0.6666666666666666,\"#ed7953\"],[0.7777777777777778,\"#fb9f3a\"],[0.8888888888888888,\"#fdca26\"],[1.0,\"#f0f921\"]],\"diverging\":[[0,\"#8e0152\"],[0.1,\"#c51b7d\"],[0.2,\"#de77ae\"],[0.3,\"#f1b6da\"],[0.4,\"#fde0ef\"],[0.5,\"#f7f7f7\"],[0.6,\"#e6f5d0\"],[0.7,\"#b8e186\"],[0.8,\"#7fbc41\"],[0.9,\"#4d9221\"],[1,\"#276419\"]]},\"xaxis\":{\"gridcolor\":\"white\",\"linecolor\":\"white\",\"ticks\":\"\",\"title\":{\"standoff\":15},\"zerolinecolor\":\"white\",\"automargin\":true,\"zerolinewidth\":2},\"yaxis\":{\"gridcolor\":\"white\",\"linecolor\":\"white\",\"ticks\":\"\",\"title\":{\"standoff\":15},\"zerolinecolor\":\"white\",\"automargin\":true,\"zerolinewidth\":2},\"scene\":{\"xaxis\":{\"backgroundcolor\":\"#E5ECF6\",\"gridcolor\":\"white\",\"linecolor\":\"white\",\"showbackground\":true,\"ticks\":\"\",\"zerolinecolor\":\"white\",\"gridwidth\":2},\"yaxis\":{\"backgroundcolor\":\"#E5ECF6\",\"gridcolor\":\"white\",\"linecolor\":\"white\",\"showbackground\":true,\"ticks\":\"\",\"zerolinecolor\":\"white\",\"gridwidth\":2},\"zaxis\":{\"backgroundcolor\":\"#E5ECF6\",\"gridcolor\":\"white\",\"linecolor\":\"white\",\"showbackground\":true,\"ticks\":\"\",\"zerolinecolor\":\"white\",\"gridwidth\":2}},\"shapedefaults\":{\"line\":{\"color\":\"#2a3f5f\"}},\"annotationdefaults\":{\"arrowcolor\":\"#2a3f5f\",\"arrowhead\":0,\"arrowwidth\":1},\"geo\":{\"bgcolor\":\"white\",\"landcolor\":\"#E5ECF6\",\"subunitcolor\":\"white\",\"showland\":true,\"showlakes\":true,\"lakecolor\":\"white\"},\"title\":{\"x\":0.05},\"mapbox\":{\"style\":\"light\"}}},\"title\":{\"font\":{\"size\":16},\"text\":\"Personal Feature Activation Heatmap by Prompt Category\",\"x\":0.5,\"xanchor\":\"center\"},\"xaxis\":{\"tickfont\":{\"size\":10},\"title\":{\"text\":\"Feature ID\"},\"tickangle\":45,\"side\":\"bottom\",\"showgrid\":false,\"zeroline\":false},\"yaxis\":{\"tickfont\":{\"size\":12},\"title\":{\"text\":\"Prompt Category\"},\"autorange\":\"reversed\",\"showgrid\":false,\"zeroline\":false},\"coloraxis\":{\"colorbar\":{\"title\":{\"text\":\"Mean Activation\",\"side\":\"right\"}}},\"hoverlabel\":{\"font\":{\"size\":12,\"family\":\"Arial\",\"color\":\"black\"},\"bgcolor\":\"white\",\"bordercolor\":\"black\",\"align\":\"left\",\"namelength\":-1},\"width\":1340,\"height\":570,\"plot_bgcolor\":\"white\"},                        {\"responsive\": true}                    ).then(function(){\n",
       "                            \n",
       "var gd = document.getElementById('a9c11349-fd34-47fb-8e2c-fe40de50b367');\n",
       "var x = new MutationObserver(function (mutations, observer) {{\n",
       "        var display = window.getComputedStyle(gd).display;\n",
       "        if (!display || display === 'none') {{\n",
       "            console.log([gd, 'removed!']);\n",
       "            Plotly.purge(gd);\n",
       "            observer.disconnect();\n",
       "        }}\n",
       "}});\n",
       "\n",
       "// Listen for the removal of the full notebook cells\n",
       "var notebookContainer = gd.closest('#notebook-container');\n",
       "if (notebookContainer) {{\n",
       "    x.observe(notebookContainer, {childList: true});\n",
       "}}\n",
       "\n",
       "// Listen for the clearing of the current output cell\n",
       "var outputEl = gd.closest('.output');\n",
       "if (outputEl) {{\n",
       "    x.observe(outputEl, {childList: true});\n",
       "}}\n",
       "\n",
       "                        })                };                });            </script>        </div>"
      ]
     },
     "metadata": {},
     "output_type": "display_data"
    }
   ],
   "source": [
    "# Create a fixed-size heatmap with square cells and text annotations\n",
    "# Swap axes: features on x-axis, prompt categories on y-axis\n",
    "feature_labels = [str(fid) for fid in pivot_df.index]\n",
    "prompt_labels = list(pivot_df.columns)\n",
    "\n",
    "# Transpose the data for swapped axes\n",
    "transposed_data = pivot_df.T.values\n",
    "transposed_text = np.round(transposed_data, 3)\n",
    "\n",
    "# Create text array with NaN values as empty strings\n",
    "text_display = []\n",
    "for i in range(transposed_text.shape[0]):\n",
    "    row_text = []\n",
    "    for j in range(transposed_text.shape[1]):\n",
    "        if np.isnan(transposed_text[i, j]):\n",
    "            row_text.append(\"\")\n",
    "        else:\n",
    "            row_text.append(str(transposed_text[i, j]))\n",
    "    text_display.append(row_text)\n",
    "\n",
    "# Create the heatmap with text annotations\n",
    "fig_enhanced = go.Figure(data=go.Heatmap(\n",
    "    z=transposed_data,\n",
    "    x=feature_labels,\n",
    "    y=prompt_labels,\n",
    "    colorscale='Viridis',\n",
    "    hoverongaps=False,\n",
    "    text=text_display,\n",
    "    texttemplate=\"%{text}\",\n",
    "    textfont={\"size\": 10, \"color\": \"white\"},\n",
    "    showscale=True\n",
    "))\n",
    "\n",
    "# Calculate dimensions for square cells\n",
    "num_features = len(feature_labels)\n",
    "num_labels = len(prompt_labels)\n",
    "cell_size = 60  # pixels per cell\n",
    "width = num_features * cell_size + 200  # extra space for labels and colorbar\n",
    "height = num_labels * cell_size + 150  # extra space for title and labels\n",
    "\n",
    "# Update layout for square cells and remove grid\n",
    "fig_enhanced.update_layout(\n",
    "    title={\n",
    "        'text': 'Personal Feature Activation Heatmap by Prompt Category',\n",
    "        'x': 0.5,\n",
    "        'xanchor': 'center',\n",
    "        'font': {'size': 16}\n",
    "    },\n",
    "    xaxis={\n",
    "        'title': 'Feature ID',\n",
    "        'tickangle': 45,\n",
    "        'tickfont': {'size': 10},\n",
    "        'side': 'bottom',\n",
    "        'showgrid': False,\n",
    "        'zeroline': False\n",
    "    },\n",
    "    yaxis={\n",
    "        'title': 'Prompt Category',\n",
    "        'tickfont': {'size': 12},\n",
    "        'autorange': 'reversed',  # Put first category at top\n",
    "        'showgrid': False,\n",
    "        'zeroline': False\n",
    "    },\n",
    "    width=width,\n",
    "    height=height,\n",
    "    coloraxis_colorbar={\n",
    "        'title': 'Mean Activation',\n",
    "        'titleside': 'right'\n",
    "    },\n",
    "    plot_bgcolor='white',\n",
    "    # Set hover label styling for fixed width\n",
    "    hoverlabel=dict(\n",
    "        bgcolor=\"white\",\n",
    "        bordercolor=\"black\",\n",
    "        font_size=12,\n",
    "        font_family=\"Arial\",\n",
    "        font_color=\"black\",\n",
    "        align=\"left\",\n",
    "        namelength=-1\n",
    "    )\n",
    ")\n",
    "\n",
    "# Function to wrap text to specific width\n",
    "def wrap_text(text, width=50):\n",
    "    words = text.split()\n",
    "    lines = []\n",
    "    current_line = []\n",
    "    current_length = 0\n",
    "    \n",
    "    for word in words:\n",
    "        if current_length + len(word) + 1 <= width:\n",
    "            current_line.append(word)\n",
    "            current_length += len(word) + 1\n",
    "        else:\n",
    "            if current_line:\n",
    "                lines.append(' '.join(current_line))\n",
    "            current_line = [word]\n",
    "            current_length = len(word)\n",
    "    \n",
    "    if current_line:\n",
    "        lines.append(' '.join(current_line))\n",
    "    \n",
    "    return '<br>'.join(lines)\n",
    "\n",
    "# Add enhanced hover information (adjusted for transposed data)\n",
    "hover_text = []\n",
    "for i, prompt_label in enumerate(prompt_labels):\n",
    "    row_text = []\n",
    "    for j, feature_id in enumerate(pivot_df.index):\n",
    "        activation = pivot_df.loc[feature_id, prompt_label]\n",
    "        \n",
    "        # Get feature description if available\n",
    "        if feature_id in desc_df['feature_id'].values:\n",
    "            feature_row = desc_df[desc_df['feature_id'] == feature_id].iloc[0]\n",
    "            desc = feature_row['pt_desc']\n",
    "            feature_type = feature_row['type']\n",
    "        else:\n",
    "            desc = 'No description available'\n",
    "            feature_type = 'Unknown'\n",
    "        \n",
    "        # Find an example prompt from this feature-label combination\n",
    "        example_prompt = \"No example available\"\n",
    "        for record in prompt_data:\n",
    "            if record['feature_id'] == feature_id:\n",
    "                for prompt in record['active_prompts']:\n",
    "                    if prompt['prompt_label'] == prompt_label:\n",
    "                        example_prompt = prompt['prompt_text']\n",
    "                        break\n",
    "                break\n",
    "        \n",
    "        if pd.notna(activation):\n",
    "            # Create wrapped text for consistent width\n",
    "            wrapped_desc = wrap_text(f\"Description: {desc[:120]}{'...' if len(desc) > 120 else ''}\", 40)\n",
    "            wrapped_example = wrap_text(f\"Example: {example_prompt[:150]}{'...' if len(example_prompt) > 150 else ''}\", 40)\n",
    "            \n",
    "            text = f\"Type: {feature_type}<br>\" + \\\n",
    "                   f\"{wrapped_desc}<br>\" + \\\n",
    "                   f\"{wrapped_example}\"\n",
    "        else:\n",
    "            wrapped_desc = wrap_text(f\"Description: {desc[:120]}{'...' if len(desc) > 120 else ''}\", 40)\n",
    "            text = f\"Feature ID: {feature_id}<br>\" + \\\n",
    "                   f\"Category: {prompt_label}<br>\" + \\\n",
    "                   f\"No activation data<br>\" + \\\n",
    "                   f\"Type: {feature_type}<br>\" + \\\n",
    "                   f\"{wrapped_desc}\"\n",
    "        \n",
    "        row_text.append(text)\n",
    "    hover_text.append(row_text)\n",
    "\n",
    "# Update hover template with fixed width styling\n",
    "fig_enhanced.update_traces(\n",
    "    hovertemplate='<span style=\"white-space: nowrap; max-width: 400px; display: inline-block;\">%{hovertext}</span><extra></extra>',\n",
    "    hovertext=hover_text\n",
    ")\n",
    "\n",
    "fig_enhanced.show()\n",
    "\n",
    "# save the figure as html file\n",
    "fig_enhanced.write_html('prompt_activation_heatmap.html')"
   ]
  },
  {
   "cell_type": "code",
   "execution_count": 65,
   "metadata": {},
   "outputs": [
    {
     "data": {
      "application/vnd.plotly.v1+json": {
       "config": {
        "plotlyServerURL": "https://plot.ly"
       },
       "data": [
        {
         "alignmentgroup": "True",
         "customdata": [
          [
           "qwen_trainer1_layer11",
           "newline",
           "newline before \"hello\" in chinese",
           "newline or other text token before ???"
          ],
          [
           "qwen_trainer1_layer11",
           "asst",
           "AI chatbot being given elaborate instructions (including attempts to jailbreak)",
           "very powerful fictional beings: superintelligent AI in sci-fi, electric appliances that can talk, witchcraft, voice of human nature"
          ],
          [
           "qwen_trainer1_layer11",
           "asst",
           "\"assistant\" header token after being asked to do a writing or copyediting task",
           "\"assistant\" token from descriptions of human assistant professions"
          ],
          [
           "qwen_trainer1_layer15",
           "newline",
           "newline after being asked to give a one-sentence explainer",
           "newline before one-sentence summary or quote"
          ],
          [
           "qwen_trainer1_layer15",
           "asst",
           "AI chatbot response of \"i'm a/an\" to questions of \"who are you\"",
           "???"
          ],
          [
           "qwen_trainer1_layer15",
           "newline",
           "newline before AI chatbot response to generating a description of a chemical company",
           "token before a summary, blurb, or lede (often with preceding numbers giving desired length)"
          ],
          [
           "qwen_trainer1_layer15",
           "newline",
           "newline before AI chatbot answers yes or no question about factual consistency, reasoning, or semantic content ",
           "newline before answer in wide range of contexts ???"
          ]
         ],
         "hovertemplate": "Category: %{fullData.name}<br>Count: %{x}<br>Source: %{customdata[0]}<br>Token: %{customdata[1]}<br>Chat Desc: %{customdata[2]}<br>PT Desc: %{customdata[3]}<br><extra></extra>",
         "legendgroup": "trivia",
         "marker": {
          "color": "#636EFA",
          "pattern": {
           "shape": ""
          }
         },
         "name": "trivia",
         "offsetgroup": "trivia",
         "orientation": "h",
         "showlegend": true,
         "textposition": "auto",
         "type": "bar",
         "x": [
          3,
          2,
          8,
          2,
          1,
          1,
          14
         ],
         "xaxis": "x",
         "y": [
          6704,
          18703,
          81528,
          9953,
          29717,
          48045,
          49123
         ],
         "yaxis": "y"
        },
        {
         "alignmentgroup": "True",
         "customdata": [
          [
           "qwen_trainer1_layer11",
           "newline",
           "viewpoint, bird's eye view, first-person perspective",
           "the perspective of an organization (mainly healthcare system, government)"
          ],
          [
           "qwen_trainer1_layer11",
           "asst",
           "\"assistant\" header token after being asked follow-up questions",
           "colon before bash commands ???"
          ],
          [
           "qwen_trainer1_layer11",
           "asst",
           "\"assistant\" header token after being asked to do a writing or copyediting task",
           "\"assistant\" token from descriptions of human assistant professions"
          ],
          [
           "qwen_trainer1_layer11",
           "asst",
           "\"assistant\" header token after being asked to write about chemicals",
           "\"assistant\" token from descriptions of human assistant professions"
          ],
          [
           "qwen_trainer1_layer15",
           "newline",
           "newline before AI chatbot answers yes or no question about factual consistency, reasoning, or semantic content ",
           "newline before answer in wide range of contexts ???"
          ]
         ],
         "hovertemplate": "Category: %{fullData.name}<br>Count: %{x}<br>Source: %{customdata[0]}<br>Token: %{customdata[1]}<br>Chat Desc: %{customdata[2]}<br>PT Desc: %{customdata[3]}<br><extra></extra>",
         "legendgroup": "code",
         "marker": {
          "color": "#EF553B",
          "pattern": {
           "shape": ""
          }
         },
         "name": "code",
         "offsetgroup": "code",
         "orientation": "h",
         "showlegend": true,
         "textposition": "auto",
         "type": "bar",
         "x": [
          1,
          2,
          20,
          5,
          13
         ],
         "xaxis": "x",
         "y": [
          16030,
          49925,
          81528,
          130794,
          49123
         ],
         "yaxis": "y"
        },
        {
         "alignmentgroup": "True",
         "customdata": [
          [
           "qwen_trainer1_layer11",
           "asst",
           "AI chatbot being given elaborate instructions (including attempts to jailbreak)",
           "very powerful fictional beings: superintelligent AI in sci-fi, electric appliances that can talk, witchcraft, voice of human nature"
          ],
          [
           "qwen_trainer1_layer11",
           "asst",
           "asimov's three laws of robotics, AI chatbots referring to their programming",
           "asimov's three laws of robotics, thinking machines and robots in sci-fi including HAL from 2001: a space odyssey"
          ],
          [
           "qwen_trainer1_layer11",
           "asst",
           "\"assistant\" header token after being asked follow-up questions",
           "colon before bash commands ???"
          ],
          [
           "qwen_trainer1_layer11",
           "newline",
           "newline after \"assistant\" header token when the AI chatbot is asked to behave a certain way if christian",
           "???"
          ],
          [
           "qwen_trainer1_layer11",
           "asst",
           "\"assistant\" header token after being asked to do a writing or copyediting task",
           "\"assistant\" token from descriptions of human assistant professions"
          ],
          [
           "qwen_trainer1_layer11",
           "newline",
           "user instructing AI chatbot or the AI chatbot agreeing to role-play, impersonate, or simulate a character",
           "impersonating, portraying, or giving an impression of a character"
          ],
          [
           "qwen_trainer1_layer11",
           "newline",
           "valuing or encouraging innovation",
           "valuing or encouraging innovation"
          ],
          [
           "qwen_trainer1_layer15",
           "newline",
           "newline after being asked to give a one-sentence explainer",
           "newline before one-sentence summary or quote"
          ],
          [
           "qwen_trainer1_layer15",
           "newline",
           "newline before AI chatbot response to generating a description of a chemical company",
           "token before a summary, blurb, or lede (often with preceding numbers giving desired length)"
          ],
          [
           "qwen_trainer1_layer15",
           "newline",
           "newline before AI chatbot answers yes or no question about factual consistency, reasoning, or semantic content ",
           "newline before answer in wide range of contexts ???"
          ],
          [
           "qwen_trainer1_layer15",
           "newline",
           "newline before AI chatbot engages in nsfw role-play or being jailbroken ",
           "tokens before code errors, misbehaving, descriptions of colonialism, jingoism, self-put downs, sarcasm"
          ],
          [
           "llama_trainer1_layer15",
           "endheader",
           "instructions for role-playing, requirements, schema, templates, rules",
           "editing, helping write/publish/refine text, forum moderator"
          ]
         ],
         "hovertemplate": "Category: %{fullData.name}<br>Count: %{x}<br>Source: %{customdata[0]}<br>Token: %{customdata[1]}<br>Chat Desc: %{customdata[2]}<br>PT Desc: %{customdata[3]}<br><extra></extra>",
         "legendgroup": "creative",
         "marker": {
          "color": "#00CC96",
          "pattern": {
           "shape": ""
          }
         },
         "name": "creative",
         "offsetgroup": "creative",
         "orientation": "h",
         "showlegend": true,
         "textposition": "auto",
         "type": "bar",
         "x": [
          9,
          1,
          10,
          2,
          20,
          3,
          2,
          13,
          2,
          8,
          2,
          2
         ],
         "xaxis": "x",
         "y": [
          18703,
          30068,
          49925,
          68574,
          81528,
          90235,
          91607,
          9953,
          48045,
          49123,
          88910,
          59035
         ],
         "yaxis": "y"
        },
        {
         "alignmentgroup": "True",
         "customdata": [
          [
           "qwen_trainer1_layer11",
           "asst",
           "\"assistant\" header token after being asked follow-up questions",
           "colon before bash commands ???"
          ],
          [
           "qwen_trainer1_layer11",
           "asst",
           "\"assistant\" header token after being asked to do a writing or copyediting task",
           "\"assistant\" token from descriptions of human assistant professions"
          ],
          [
           "qwen_trainer1_layer11",
           "asst",
           "\"assistant\" header token after being asked to write about chemicals",
           "\"assistant\" token from descriptions of human assistant professions"
          ],
          [
           "qwen_trainer1_layer15",
           "newline",
           "newline after being asked to give a one-sentence explainer",
           "newline before one-sentence summary or quote"
          ],
          [
           "qwen_trainer1_layer15",
           "newline",
           "newline before AI chatbot response to generating a description of a chemical company",
           "token before a summary, blurb, or lede (often with preceding numbers giving desired length)"
          ],
          [
           "qwen_trainer1_layer15",
           "newline",
           "newline before AI chatbot answers yes or no question about factual consistency, reasoning, or semantic content ",
           "newline before answer in wide range of contexts ???"
          ],
          [
           "llama_trainer1_layer15",
           "endheader",
           "programmatic instructions for processing text",
           "writing/translating feedback, literary criticism"
          ],
          [
           "llama_trainer1_layer15",
           "endheader",
           "instructions for role-playing, requirements, schema, templates, rules",
           "editing, helping write/publish/refine text, forum moderator"
          ]
         ],
         "hovertemplate": "Category: %{fullData.name}<br>Count: %{x}<br>Source: %{customdata[0]}<br>Token: %{customdata[1]}<br>Chat Desc: %{customdata[2]}<br>PT Desc: %{customdata[3]}<br><extra></extra>",
         "legendgroup": "analysis",
         "marker": {
          "color": "#AB63FA",
          "pattern": {
           "shape": ""
          }
         },
         "name": "analysis",
         "offsetgroup": "analysis",
         "orientation": "h",
         "showlegend": true,
         "textposition": "auto",
         "type": "bar",
         "x": [
          6,
          20,
          1,
          2,
          7,
          20,
          1,
          12
         ],
         "xaxis": "x",
         "y": [
          49925,
          81528,
          130794,
          9953,
          48045,
          49123,
          47776,
          59035
         ],
         "yaxis": "y"
        },
        {
         "alignmentgroup": "True",
         "customdata": [
          [
           "qwen_trainer1_layer11",
           "asst",
           "\"assistant\" header token after being asked follow-up questions",
           "colon before bash commands ???"
          ],
          [
           "qwen_trainer1_layer11",
           "asst",
           "\"assistant\" header token after being asked to do a writing or copyediting task",
           "\"assistant\" token from descriptions of human assistant professions"
          ],
          [
           "qwen_trainer1_layer15",
           "newline",
           "newline before AI chatbot answers yes or no question about factual consistency, reasoning, or semantic content ",
           "newline before answer in wide range of contexts ???"
          ]
         ],
         "hovertemplate": "Category: %{fullData.name}<br>Count: %{x}<br>Source: %{customdata[0]}<br>Token: %{customdata[1]}<br>Chat Desc: %{customdata[2]}<br>PT Desc: %{customdata[3]}<br><extra></extra>",
         "legendgroup": "math",
         "marker": {
          "color": "#FFA15A",
          "pattern": {
           "shape": ""
          }
         },
         "name": "math",
         "offsetgroup": "math",
         "orientation": "h",
         "showlegend": true,
         "textposition": "auto",
         "type": "bar",
         "x": [
          2,
          19,
          20
         ],
         "xaxis": "x",
         "y": [
          49925,
          81528,
          49123
         ],
         "yaxis": "y"
        },
        {
         "alignmentgroup": "True",
         "customdata": [
          [
           "qwen_trainer1_layer11",
           "asst",
           "\"assistant\" header token after being asked follow-up questions",
           "colon before bash commands ???"
          ],
          [
           "qwen_trainer1_layer11",
           "asst",
           "\"assistant\" header token after being asked to do a writing or copyediting task",
           "\"assistant\" token from descriptions of human assistant professions"
          ],
          [
           "qwen_trainer1_layer15",
           "newline",
           "newline before AI chatbot answers yes or no question about factual consistency, reasoning, or semantic content ",
           "newline before answer in wide range of contexts ???"
          ],
          [
           "llama_trainer1_layer11",
           "newline",
           "newline before nsfw roleplay",
           "newline between nsfw description, violence"
          ]
         ],
         "hovertemplate": "Category: %{fullData.name}<br>Count: %{x}<br>Source: %{customdata[0]}<br>Token: %{customdata[1]}<br>Chat Desc: %{customdata[2]}<br>PT Desc: %{customdata[3]}<br><extra></extra>",
         "legendgroup": "medical",
         "marker": {
          "color": "#19D3F3",
          "pattern": {
           "shape": ""
          }
         },
         "name": "medical",
         "offsetgroup": "medical",
         "orientation": "h",
         "showlegend": true,
         "textposition": "auto",
         "type": "bar",
         "x": [
          2,
          19,
          9,
          1
         ],
         "xaxis": "x",
         "y": [
          49925,
          81528,
          49123,
          126716
         ],
         "yaxis": "y"
        },
        {
         "alignmentgroup": "True",
         "customdata": [
          [
           "qwen_trainer1_layer11",
           "asst",
           "\"assistant\" header token after being asked to do a writing or copyediting task",
           "\"assistant\" token from descriptions of human assistant professions"
          ],
          [
           "llama_trainer1_layer11",
           "newline",
           "newline before nsfw roleplay",
           "newline between nsfw description, violence"
          ],
          [
           "llama_trainer1_layer15",
           "asst",
           "symbols, metaphors, representations (especially in role-playing scenarios) ???",
           "symbolism, representations, synechdoche ???"
          ]
         ],
         "hovertemplate": "Category: %{fullData.name}<br>Count: %{x}<br>Source: %{customdata[0]}<br>Token: %{customdata[1]}<br>Chat Desc: %{customdata[2]}<br>PT Desc: %{customdata[3]}<br><extra></extra>",
         "legendgroup": "therapy",
         "marker": {
          "color": "#FF6692",
          "pattern": {
           "shape": ""
          }
         },
         "name": "therapy",
         "offsetgroup": "therapy",
         "orientation": "h",
         "showlegend": true,
         "textposition": "auto",
         "type": "bar",
         "x": [
          20,
          19,
          5
         ],
         "xaxis": "x",
         "y": [
          81528,
          126716,
          27476
         ],
         "yaxis": "y"
        }
       ],
       "layout": {
        "barmode": "relative",
        "height": 600,
        "legend": {
         "orientation": "v",
         "title": {
          "text": "Prompt Category"
         },
         "tracegroupgap": 0,
         "x": 1.01,
         "xanchor": "left",
         "y": 1,
         "yanchor": "top"
        },
        "showlegend": true,
        "template": {
         "data": {
          "bar": [
           {
            "error_x": {
             "color": "#2a3f5f"
            },
            "error_y": {
             "color": "#2a3f5f"
            },
            "marker": {
             "line": {
              "color": "#E5ECF6",
              "width": 0.5
             },
             "pattern": {
              "fillmode": "overlay",
              "size": 10,
              "solidity": 0.2
             }
            },
            "type": "bar"
           }
          ],
          "barpolar": [
           {
            "marker": {
             "line": {
              "color": "#E5ECF6",
              "width": 0.5
             },
             "pattern": {
              "fillmode": "overlay",
              "size": 10,
              "solidity": 0.2
             }
            },
            "type": "barpolar"
           }
          ],
          "carpet": [
           {
            "aaxis": {
             "endlinecolor": "#2a3f5f",
             "gridcolor": "white",
             "linecolor": "white",
             "minorgridcolor": "white",
             "startlinecolor": "#2a3f5f"
            },
            "baxis": {
             "endlinecolor": "#2a3f5f",
             "gridcolor": "white",
             "linecolor": "white",
             "minorgridcolor": "white",
             "startlinecolor": "#2a3f5f"
            },
            "type": "carpet"
           }
          ],
          "choropleth": [
           {
            "colorbar": {
             "outlinewidth": 0,
             "ticks": ""
            },
            "type": "choropleth"
           }
          ],
          "contour": [
           {
            "colorbar": {
             "outlinewidth": 0,
             "ticks": ""
            },
            "colorscale": [
             [
              0,
              "#0d0887"
             ],
             [
              0.1111111111111111,
              "#46039f"
             ],
             [
              0.2222222222222222,
              "#7201a8"
             ],
             [
              0.3333333333333333,
              "#9c179e"
             ],
             [
              0.4444444444444444,
              "#bd3786"
             ],
             [
              0.5555555555555556,
              "#d8576b"
             ],
             [
              0.6666666666666666,
              "#ed7953"
             ],
             [
              0.7777777777777778,
              "#fb9f3a"
             ],
             [
              0.8888888888888888,
              "#fdca26"
             ],
             [
              1,
              "#f0f921"
             ]
            ],
            "type": "contour"
           }
          ],
          "contourcarpet": [
           {
            "colorbar": {
             "outlinewidth": 0,
             "ticks": ""
            },
            "type": "contourcarpet"
           }
          ],
          "heatmap": [
           {
            "colorbar": {
             "outlinewidth": 0,
             "ticks": ""
            },
            "colorscale": [
             [
              0,
              "#0d0887"
             ],
             [
              0.1111111111111111,
              "#46039f"
             ],
             [
              0.2222222222222222,
              "#7201a8"
             ],
             [
              0.3333333333333333,
              "#9c179e"
             ],
             [
              0.4444444444444444,
              "#bd3786"
             ],
             [
              0.5555555555555556,
              "#d8576b"
             ],
             [
              0.6666666666666666,
              "#ed7953"
             ],
             [
              0.7777777777777778,
              "#fb9f3a"
             ],
             [
              0.8888888888888888,
              "#fdca26"
             ],
             [
              1,
              "#f0f921"
             ]
            ],
            "type": "heatmap"
           }
          ],
          "heatmapgl": [
           {
            "colorbar": {
             "outlinewidth": 0,
             "ticks": ""
            },
            "colorscale": [
             [
              0,
              "#0d0887"
             ],
             [
              0.1111111111111111,
              "#46039f"
             ],
             [
              0.2222222222222222,
              "#7201a8"
             ],
             [
              0.3333333333333333,
              "#9c179e"
             ],
             [
              0.4444444444444444,
              "#bd3786"
             ],
             [
              0.5555555555555556,
              "#d8576b"
             ],
             [
              0.6666666666666666,
              "#ed7953"
             ],
             [
              0.7777777777777778,
              "#fb9f3a"
             ],
             [
              0.8888888888888888,
              "#fdca26"
             ],
             [
              1,
              "#f0f921"
             ]
            ],
            "type": "heatmapgl"
           }
          ],
          "histogram": [
           {
            "marker": {
             "pattern": {
              "fillmode": "overlay",
              "size": 10,
              "solidity": 0.2
             }
            },
            "type": "histogram"
           }
          ],
          "histogram2d": [
           {
            "colorbar": {
             "outlinewidth": 0,
             "ticks": ""
            },
            "colorscale": [
             [
              0,
              "#0d0887"
             ],
             [
              0.1111111111111111,
              "#46039f"
             ],
             [
              0.2222222222222222,
              "#7201a8"
             ],
             [
              0.3333333333333333,
              "#9c179e"
             ],
             [
              0.4444444444444444,
              "#bd3786"
             ],
             [
              0.5555555555555556,
              "#d8576b"
             ],
             [
              0.6666666666666666,
              "#ed7953"
             ],
             [
              0.7777777777777778,
              "#fb9f3a"
             ],
             [
              0.8888888888888888,
              "#fdca26"
             ],
             [
              1,
              "#f0f921"
             ]
            ],
            "type": "histogram2d"
           }
          ],
          "histogram2dcontour": [
           {
            "colorbar": {
             "outlinewidth": 0,
             "ticks": ""
            },
            "colorscale": [
             [
              0,
              "#0d0887"
             ],
             [
              0.1111111111111111,
              "#46039f"
             ],
             [
              0.2222222222222222,
              "#7201a8"
             ],
             [
              0.3333333333333333,
              "#9c179e"
             ],
             [
              0.4444444444444444,
              "#bd3786"
             ],
             [
              0.5555555555555556,
              "#d8576b"
             ],
             [
              0.6666666666666666,
              "#ed7953"
             ],
             [
              0.7777777777777778,
              "#fb9f3a"
             ],
             [
              0.8888888888888888,
              "#fdca26"
             ],
             [
              1,
              "#f0f921"
             ]
            ],
            "type": "histogram2dcontour"
           }
          ],
          "mesh3d": [
           {
            "colorbar": {
             "outlinewidth": 0,
             "ticks": ""
            },
            "type": "mesh3d"
           }
          ],
          "parcoords": [
           {
            "line": {
             "colorbar": {
              "outlinewidth": 0,
              "ticks": ""
             }
            },
            "type": "parcoords"
           }
          ],
          "pie": [
           {
            "automargin": true,
            "type": "pie"
           }
          ],
          "scatter": [
           {
            "fillpattern": {
             "fillmode": "overlay",
             "size": 10,
             "solidity": 0.2
            },
            "type": "scatter"
           }
          ],
          "scatter3d": [
           {
            "line": {
             "colorbar": {
              "outlinewidth": 0,
              "ticks": ""
             }
            },
            "marker": {
             "colorbar": {
              "outlinewidth": 0,
              "ticks": ""
             }
            },
            "type": "scatter3d"
           }
          ],
          "scattercarpet": [
           {
            "marker": {
             "colorbar": {
              "outlinewidth": 0,
              "ticks": ""
             }
            },
            "type": "scattercarpet"
           }
          ],
          "scattergeo": [
           {
            "marker": {
             "colorbar": {
              "outlinewidth": 0,
              "ticks": ""
             }
            },
            "type": "scattergeo"
           }
          ],
          "scattergl": [
           {
            "marker": {
             "colorbar": {
              "outlinewidth": 0,
              "ticks": ""
             }
            },
            "type": "scattergl"
           }
          ],
          "scattermapbox": [
           {
            "marker": {
             "colorbar": {
              "outlinewidth": 0,
              "ticks": ""
             }
            },
            "type": "scattermapbox"
           }
          ],
          "scatterpolar": [
           {
            "marker": {
             "colorbar": {
              "outlinewidth": 0,
              "ticks": ""
             }
            },
            "type": "scatterpolar"
           }
          ],
          "scatterpolargl": [
           {
            "marker": {
             "colorbar": {
              "outlinewidth": 0,
              "ticks": ""
             }
            },
            "type": "scatterpolargl"
           }
          ],
          "scatterternary": [
           {
            "marker": {
             "colorbar": {
              "outlinewidth": 0,
              "ticks": ""
             }
            },
            "type": "scatterternary"
           }
          ],
          "surface": [
           {
            "colorbar": {
             "outlinewidth": 0,
             "ticks": ""
            },
            "colorscale": [
             [
              0,
              "#0d0887"
             ],
             [
              0.1111111111111111,
              "#46039f"
             ],
             [
              0.2222222222222222,
              "#7201a8"
             ],
             [
              0.3333333333333333,
              "#9c179e"
             ],
             [
              0.4444444444444444,
              "#bd3786"
             ],
             [
              0.5555555555555556,
              "#d8576b"
             ],
             [
              0.6666666666666666,
              "#ed7953"
             ],
             [
              0.7777777777777778,
              "#fb9f3a"
             ],
             [
              0.8888888888888888,
              "#fdca26"
             ],
             [
              1,
              "#f0f921"
             ]
            ],
            "type": "surface"
           }
          ],
          "table": [
           {
            "cells": {
             "fill": {
              "color": "#EBF0F8"
             },
             "line": {
              "color": "white"
             }
            },
            "header": {
             "fill": {
              "color": "#C8D4E3"
             },
             "line": {
              "color": "white"
             }
            },
            "type": "table"
           }
          ]
         },
         "layout": {
          "annotationdefaults": {
           "arrowcolor": "#2a3f5f",
           "arrowhead": 0,
           "arrowwidth": 1
          },
          "autotypenumbers": "strict",
          "coloraxis": {
           "colorbar": {
            "outlinewidth": 0,
            "ticks": ""
           }
          },
          "colorscale": {
           "diverging": [
            [
             0,
             "#8e0152"
            ],
            [
             0.1,
             "#c51b7d"
            ],
            [
             0.2,
             "#de77ae"
            ],
            [
             0.3,
             "#f1b6da"
            ],
            [
             0.4,
             "#fde0ef"
            ],
            [
             0.5,
             "#f7f7f7"
            ],
            [
             0.6,
             "#e6f5d0"
            ],
            [
             0.7,
             "#b8e186"
            ],
            [
             0.8,
             "#7fbc41"
            ],
            [
             0.9,
             "#4d9221"
            ],
            [
             1,
             "#276419"
            ]
           ],
           "sequential": [
            [
             0,
             "#0d0887"
            ],
            [
             0.1111111111111111,
             "#46039f"
            ],
            [
             0.2222222222222222,
             "#7201a8"
            ],
            [
             0.3333333333333333,
             "#9c179e"
            ],
            [
             0.4444444444444444,
             "#bd3786"
            ],
            [
             0.5555555555555556,
             "#d8576b"
            ],
            [
             0.6666666666666666,
             "#ed7953"
            ],
            [
             0.7777777777777778,
             "#fb9f3a"
            ],
            [
             0.8888888888888888,
             "#fdca26"
            ],
            [
             1,
             "#f0f921"
            ]
           ],
           "sequentialminus": [
            [
             0,
             "#0d0887"
            ],
            [
             0.1111111111111111,
             "#46039f"
            ],
            [
             0.2222222222222222,
             "#7201a8"
            ],
            [
             0.3333333333333333,
             "#9c179e"
            ],
            [
             0.4444444444444444,
             "#bd3786"
            ],
            [
             0.5555555555555556,
             "#d8576b"
            ],
            [
             0.6666666666666666,
             "#ed7953"
            ],
            [
             0.7777777777777778,
             "#fb9f3a"
            ],
            [
             0.8888888888888888,
             "#fdca26"
            ],
            [
             1,
             "#f0f921"
            ]
           ]
          },
          "colorway": [
           "#636efa",
           "#EF553B",
           "#00cc96",
           "#ab63fa",
           "#FFA15A",
           "#19d3f3",
           "#FF6692",
           "#B6E880",
           "#FF97FF",
           "#FECB52"
          ],
          "font": {
           "color": "#2a3f5f"
          },
          "geo": {
           "bgcolor": "white",
           "lakecolor": "white",
           "landcolor": "#E5ECF6",
           "showlakes": true,
           "showland": true,
           "subunitcolor": "white"
          },
          "hoverlabel": {
           "align": "left"
          },
          "hovermode": "closest",
          "mapbox": {
           "style": "light"
          },
          "paper_bgcolor": "white",
          "plot_bgcolor": "#E5ECF6",
          "polar": {
           "angularaxis": {
            "gridcolor": "white",
            "linecolor": "white",
            "ticks": ""
           },
           "bgcolor": "#E5ECF6",
           "radialaxis": {
            "gridcolor": "white",
            "linecolor": "white",
            "ticks": ""
           }
          },
          "scene": {
           "xaxis": {
            "backgroundcolor": "#E5ECF6",
            "gridcolor": "white",
            "gridwidth": 2,
            "linecolor": "white",
            "showbackground": true,
            "ticks": "",
            "zerolinecolor": "white"
           },
           "yaxis": {
            "backgroundcolor": "#E5ECF6",
            "gridcolor": "white",
            "gridwidth": 2,
            "linecolor": "white",
            "showbackground": true,
            "ticks": "",
            "zerolinecolor": "white"
           },
           "zaxis": {
            "backgroundcolor": "#E5ECF6",
            "gridcolor": "white",
            "gridwidth": 2,
            "linecolor": "white",
            "showbackground": true,
            "ticks": "",
            "zerolinecolor": "white"
           }
          },
          "shapedefaults": {
           "line": {
            "color": "#2a3f5f"
           }
          },
          "ternary": {
           "aaxis": {
            "gridcolor": "white",
            "linecolor": "white",
            "ticks": ""
           },
           "baxis": {
            "gridcolor": "white",
            "linecolor": "white",
            "ticks": ""
           },
           "bgcolor": "#E5ECF6",
           "caxis": {
            "gridcolor": "white",
            "linecolor": "white",
            "ticks": ""
           }
          },
          "title": {
           "x": 0.05
          },
          "xaxis": {
           "automargin": true,
           "gridcolor": "white",
           "linecolor": "white",
           "ticks": "",
           "title": {
            "standoff": 15
           },
           "zerolinecolor": "white",
           "zerolinewidth": 2
          },
          "yaxis": {
           "automargin": true,
           "gridcolor": "white",
           "linecolor": "white",
           "ticks": "",
           "title": {
            "standoff": 15
           },
           "zerolinecolor": "white",
           "zerolinewidth": 2
          }
         }
        },
        "title": {
         "text": "Number of Prompts Activating Each Feature",
         "x": 0.5
        },
        "xaxis": {
         "anchor": "y",
         "domain": [
          0,
          1
         ],
         "title": {
          "text": "Number of Prompts"
         }
        },
        "yaxis": {
         "anchor": "x",
         "categoryarray": [
          16030,
          47776,
          30068,
          29717,
          68574,
          88910,
          91607,
          6704,
          90235,
          27476,
          130794,
          48045,
          18703,
          59035,
          9953,
          126716,
          49925,
          49123,
          81528
         ],
         "categoryorder": "array",
         "domain": [
          0,
          1
         ],
         "title": {
          "text": "Feature ID"
         },
         "type": "category"
        }
       }
      },
      "text/html": [
       "<div>                            <div id=\"f3a22960-3858-4fb0-be6c-8da801f27eef\" class=\"plotly-graph-div\" style=\"height:600px; width:100%;\"></div>            <script type=\"text/javascript\">                require([\"plotly\"], function(Plotly) {                    window.PLOTLYENV=window.PLOTLYENV || {};                                    if (document.getElementById(\"f3a22960-3858-4fb0-be6c-8da801f27eef\")) {                    Plotly.newPlot(                        \"f3a22960-3858-4fb0-be6c-8da801f27eef\",                        [{\"alignmentgroup\":\"True\",\"customdata\":[[\"qwen_trainer1_layer11\",\"newline\",\"newline before \\\"hello\\\" in chinese\",\"newline or other text token before ???\"],[\"qwen_trainer1_layer11\",\"asst\",\"AI chatbot being given elaborate instructions (including attempts to jailbreak)\",\"very powerful fictional beings: superintelligent AI in sci-fi, electric appliances that can talk, witchcraft, voice of human nature\"],[\"qwen_trainer1_layer11\",\"asst\",\"\\\"assistant\\\" header token after being asked to do a writing or copyediting task\",\"\\\"assistant\\\" token from descriptions of human assistant professions\"],[\"qwen_trainer1_layer15\",\"newline\",\"newline after being asked to give a one-sentence explainer\",\"newline before one-sentence summary or quote\"],[\"qwen_trainer1_layer15\",\"asst\",\"AI chatbot response of \\\"i'm a\\u002fan\\\" to questions of \\\"who are you\\\"\",\"???\"],[\"qwen_trainer1_layer15\",\"newline\",\"newline before AI chatbot response to generating a description of a chemical company\",\"token before a summary, blurb, or lede (often with preceding numbers giving desired length)\"],[\"qwen_trainer1_layer15\",\"newline\",\"newline before AI chatbot answers yes or no question about factual consistency, reasoning, or semantic content \",\"newline before answer in wide range of contexts ???\"]],\"hovertemplate\":\"Category: %{fullData.name}\\u003cbr\\u003eCount: %{x}\\u003cbr\\u003eSource: %{customdata[0]}\\u003cbr\\u003eToken: %{customdata[1]}\\u003cbr\\u003eChat Desc: %{customdata[2]}\\u003cbr\\u003ePT Desc: %{customdata[3]}\\u003cbr\\u003e\\u003cextra\\u003e\\u003c\\u002fextra\\u003e\",\"legendgroup\":\"trivia\",\"marker\":{\"color\":\"#636EFA\",\"pattern\":{\"shape\":\"\"}},\"name\":\"trivia\",\"offsetgroup\":\"trivia\",\"orientation\":\"h\",\"showlegend\":true,\"textposition\":\"auto\",\"x\":[3,2,8,2,1,1,14],\"xaxis\":\"x\",\"y\":[6704,18703,81528,9953,29717,48045,49123],\"yaxis\":\"y\",\"type\":\"bar\"},{\"alignmentgroup\":\"True\",\"customdata\":[[\"qwen_trainer1_layer11\",\"newline\",\"viewpoint, bird's eye view, first-person perspective\",\"the perspective of an organization (mainly healthcare system, government)\"],[\"qwen_trainer1_layer11\",\"asst\",\"\\\"assistant\\\" header token after being asked follow-up questions\",\"colon before bash commands ???\"],[\"qwen_trainer1_layer11\",\"asst\",\"\\\"assistant\\\" header token after being asked to do a writing or copyediting task\",\"\\\"assistant\\\" token from descriptions of human assistant professions\"],[\"qwen_trainer1_layer11\",\"asst\",\"\\\"assistant\\\" header token after being asked to write about chemicals\",\"\\\"assistant\\\" token from descriptions of human assistant professions\"],[\"qwen_trainer1_layer15\",\"newline\",\"newline before AI chatbot answers yes or no question about factual consistency, reasoning, or semantic content \",\"newline before answer in wide range of contexts ???\"]],\"hovertemplate\":\"Category: %{fullData.name}\\u003cbr\\u003eCount: %{x}\\u003cbr\\u003eSource: %{customdata[0]}\\u003cbr\\u003eToken: %{customdata[1]}\\u003cbr\\u003eChat Desc: %{customdata[2]}\\u003cbr\\u003ePT Desc: %{customdata[3]}\\u003cbr\\u003e\\u003cextra\\u003e\\u003c\\u002fextra\\u003e\",\"legendgroup\":\"code\",\"marker\":{\"color\":\"#EF553B\",\"pattern\":{\"shape\":\"\"}},\"name\":\"code\",\"offsetgroup\":\"code\",\"orientation\":\"h\",\"showlegend\":true,\"textposition\":\"auto\",\"x\":[1,2,20,5,13],\"xaxis\":\"x\",\"y\":[16030,49925,81528,130794,49123],\"yaxis\":\"y\",\"type\":\"bar\"},{\"alignmentgroup\":\"True\",\"customdata\":[[\"qwen_trainer1_layer11\",\"asst\",\"AI chatbot being given elaborate instructions (including attempts to jailbreak)\",\"very powerful fictional beings: superintelligent AI in sci-fi, electric appliances that can talk, witchcraft, voice of human nature\"],[\"qwen_trainer1_layer11\",\"asst\",\"asimov's three laws of robotics, AI chatbots referring to their programming\",\"asimov's three laws of robotics, thinking machines and robots in sci-fi including HAL from 2001: a space odyssey\"],[\"qwen_trainer1_layer11\",\"asst\",\"\\\"assistant\\\" header token after being asked follow-up questions\",\"colon before bash commands ???\"],[\"qwen_trainer1_layer11\",\"newline\",\"newline after \\\"assistant\\\" header token when the AI chatbot is asked to behave a certain way if christian\",\"???\"],[\"qwen_trainer1_layer11\",\"asst\",\"\\\"assistant\\\" header token after being asked to do a writing or copyediting task\",\"\\\"assistant\\\" token from descriptions of human assistant professions\"],[\"qwen_trainer1_layer11\",\"newline\",\"user instructing AI chatbot or the AI chatbot agreeing to role-play, impersonate, or simulate a character\",\"impersonating, portraying, or giving an impression of a character\"],[\"qwen_trainer1_layer11\",\"newline\",\"valuing or encouraging innovation\",\"valuing or encouraging innovation\"],[\"qwen_trainer1_layer15\",\"newline\",\"newline after being asked to give a one-sentence explainer\",\"newline before one-sentence summary or quote\"],[\"qwen_trainer1_layer15\",\"newline\",\"newline before AI chatbot response to generating a description of a chemical company\",\"token before a summary, blurb, or lede (often with preceding numbers giving desired length)\"],[\"qwen_trainer1_layer15\",\"newline\",\"newline before AI chatbot answers yes or no question about factual consistency, reasoning, or semantic content \",\"newline before answer in wide range of contexts ???\"],[\"qwen_trainer1_layer15\",\"newline\",\"newline before AI chatbot engages in nsfw role-play or being jailbroken \",\"tokens before code errors, misbehaving, descriptions of colonialism, jingoism, self-put downs, sarcasm\"],[\"llama_trainer1_layer15\",\"endheader\",\"instructions for role-playing, requirements, schema, templates, rules\",\"editing, helping write\\u002fpublish\\u002frefine text, forum moderator\"]],\"hovertemplate\":\"Category: %{fullData.name}\\u003cbr\\u003eCount: %{x}\\u003cbr\\u003eSource: %{customdata[0]}\\u003cbr\\u003eToken: %{customdata[1]}\\u003cbr\\u003eChat Desc: %{customdata[2]}\\u003cbr\\u003ePT Desc: %{customdata[3]}\\u003cbr\\u003e\\u003cextra\\u003e\\u003c\\u002fextra\\u003e\",\"legendgroup\":\"creative\",\"marker\":{\"color\":\"#00CC96\",\"pattern\":{\"shape\":\"\"}},\"name\":\"creative\",\"offsetgroup\":\"creative\",\"orientation\":\"h\",\"showlegend\":true,\"textposition\":\"auto\",\"x\":[9,1,10,2,20,3,2,13,2,8,2,2],\"xaxis\":\"x\",\"y\":[18703,30068,49925,68574,81528,90235,91607,9953,48045,49123,88910,59035],\"yaxis\":\"y\",\"type\":\"bar\"},{\"alignmentgroup\":\"True\",\"customdata\":[[\"qwen_trainer1_layer11\",\"asst\",\"\\\"assistant\\\" header token after being asked follow-up questions\",\"colon before bash commands ???\"],[\"qwen_trainer1_layer11\",\"asst\",\"\\\"assistant\\\" header token after being asked to do a writing or copyediting task\",\"\\\"assistant\\\" token from descriptions of human assistant professions\"],[\"qwen_trainer1_layer11\",\"asst\",\"\\\"assistant\\\" header token after being asked to write about chemicals\",\"\\\"assistant\\\" token from descriptions of human assistant professions\"],[\"qwen_trainer1_layer15\",\"newline\",\"newline after being asked to give a one-sentence explainer\",\"newline before one-sentence summary or quote\"],[\"qwen_trainer1_layer15\",\"newline\",\"newline before AI chatbot response to generating a description of a chemical company\",\"token before a summary, blurb, or lede (often with preceding numbers giving desired length)\"],[\"qwen_trainer1_layer15\",\"newline\",\"newline before AI chatbot answers yes or no question about factual consistency, reasoning, or semantic content \",\"newline before answer in wide range of contexts ???\"],[\"llama_trainer1_layer15\",\"endheader\",\"programmatic instructions for processing text\",\"writing\\u002ftranslating feedback, literary criticism\"],[\"llama_trainer1_layer15\",\"endheader\",\"instructions for role-playing, requirements, schema, templates, rules\",\"editing, helping write\\u002fpublish\\u002frefine text, forum moderator\"]],\"hovertemplate\":\"Category: %{fullData.name}\\u003cbr\\u003eCount: %{x}\\u003cbr\\u003eSource: %{customdata[0]}\\u003cbr\\u003eToken: %{customdata[1]}\\u003cbr\\u003eChat Desc: %{customdata[2]}\\u003cbr\\u003ePT Desc: %{customdata[3]}\\u003cbr\\u003e\\u003cextra\\u003e\\u003c\\u002fextra\\u003e\",\"legendgroup\":\"analysis\",\"marker\":{\"color\":\"#AB63FA\",\"pattern\":{\"shape\":\"\"}},\"name\":\"analysis\",\"offsetgroup\":\"analysis\",\"orientation\":\"h\",\"showlegend\":true,\"textposition\":\"auto\",\"x\":[6,20,1,2,7,20,1,12],\"xaxis\":\"x\",\"y\":[49925,81528,130794,9953,48045,49123,47776,59035],\"yaxis\":\"y\",\"type\":\"bar\"},{\"alignmentgroup\":\"True\",\"customdata\":[[\"qwen_trainer1_layer11\",\"asst\",\"\\\"assistant\\\" header token after being asked follow-up questions\",\"colon before bash commands ???\"],[\"qwen_trainer1_layer11\",\"asst\",\"\\\"assistant\\\" header token after being asked to do a writing or copyediting task\",\"\\\"assistant\\\" token from descriptions of human assistant professions\"],[\"qwen_trainer1_layer15\",\"newline\",\"newline before AI chatbot answers yes or no question about factual consistency, reasoning, or semantic content \",\"newline before answer in wide range of contexts ???\"]],\"hovertemplate\":\"Category: %{fullData.name}\\u003cbr\\u003eCount: %{x}\\u003cbr\\u003eSource: %{customdata[0]}\\u003cbr\\u003eToken: %{customdata[1]}\\u003cbr\\u003eChat Desc: %{customdata[2]}\\u003cbr\\u003ePT Desc: %{customdata[3]}\\u003cbr\\u003e\\u003cextra\\u003e\\u003c\\u002fextra\\u003e\",\"legendgroup\":\"math\",\"marker\":{\"color\":\"#FFA15A\",\"pattern\":{\"shape\":\"\"}},\"name\":\"math\",\"offsetgroup\":\"math\",\"orientation\":\"h\",\"showlegend\":true,\"textposition\":\"auto\",\"x\":[2,19,20],\"xaxis\":\"x\",\"y\":[49925,81528,49123],\"yaxis\":\"y\",\"type\":\"bar\"},{\"alignmentgroup\":\"True\",\"customdata\":[[\"qwen_trainer1_layer11\",\"asst\",\"\\\"assistant\\\" header token after being asked follow-up questions\",\"colon before bash commands ???\"],[\"qwen_trainer1_layer11\",\"asst\",\"\\\"assistant\\\" header token after being asked to do a writing or copyediting task\",\"\\\"assistant\\\" token from descriptions of human assistant professions\"],[\"qwen_trainer1_layer15\",\"newline\",\"newline before AI chatbot answers yes or no question about factual consistency, reasoning, or semantic content \",\"newline before answer in wide range of contexts ???\"],[\"llama_trainer1_layer11\",\"newline\",\"newline before nsfw roleplay\",\"newline between nsfw description, violence\"]],\"hovertemplate\":\"Category: %{fullData.name}\\u003cbr\\u003eCount: %{x}\\u003cbr\\u003eSource: %{customdata[0]}\\u003cbr\\u003eToken: %{customdata[1]}\\u003cbr\\u003eChat Desc: %{customdata[2]}\\u003cbr\\u003ePT Desc: %{customdata[3]}\\u003cbr\\u003e\\u003cextra\\u003e\\u003c\\u002fextra\\u003e\",\"legendgroup\":\"medical\",\"marker\":{\"color\":\"#19D3F3\",\"pattern\":{\"shape\":\"\"}},\"name\":\"medical\",\"offsetgroup\":\"medical\",\"orientation\":\"h\",\"showlegend\":true,\"textposition\":\"auto\",\"x\":[2,19,9,1],\"xaxis\":\"x\",\"y\":[49925,81528,49123,126716],\"yaxis\":\"y\",\"type\":\"bar\"},{\"alignmentgroup\":\"True\",\"customdata\":[[\"qwen_trainer1_layer11\",\"asst\",\"\\\"assistant\\\" header token after being asked to do a writing or copyediting task\",\"\\\"assistant\\\" token from descriptions of human assistant professions\"],[\"llama_trainer1_layer11\",\"newline\",\"newline before nsfw roleplay\",\"newline between nsfw description, violence\"],[\"llama_trainer1_layer15\",\"asst\",\"symbols, metaphors, representations (especially in role-playing scenarios) ???\",\"symbolism, representations, synechdoche ???\"]],\"hovertemplate\":\"Category: %{fullData.name}\\u003cbr\\u003eCount: %{x}\\u003cbr\\u003eSource: %{customdata[0]}\\u003cbr\\u003eToken: %{customdata[1]}\\u003cbr\\u003eChat Desc: %{customdata[2]}\\u003cbr\\u003ePT Desc: %{customdata[3]}\\u003cbr\\u003e\\u003cextra\\u003e\\u003c\\u002fextra\\u003e\",\"legendgroup\":\"therapy\",\"marker\":{\"color\":\"#FF6692\",\"pattern\":{\"shape\":\"\"}},\"name\":\"therapy\",\"offsetgroup\":\"therapy\",\"orientation\":\"h\",\"showlegend\":true,\"textposition\":\"auto\",\"x\":[20,19,5],\"xaxis\":\"x\",\"y\":[81528,126716,27476],\"yaxis\":\"y\",\"type\":\"bar\"}],                        {\"template\":{\"data\":{\"histogram2dcontour\":[{\"type\":\"histogram2dcontour\",\"colorbar\":{\"outlinewidth\":0,\"ticks\":\"\"},\"colorscale\":[[0.0,\"#0d0887\"],[0.1111111111111111,\"#46039f\"],[0.2222222222222222,\"#7201a8\"],[0.3333333333333333,\"#9c179e\"],[0.4444444444444444,\"#bd3786\"],[0.5555555555555556,\"#d8576b\"],[0.6666666666666666,\"#ed7953\"],[0.7777777777777778,\"#fb9f3a\"],[0.8888888888888888,\"#fdca26\"],[1.0,\"#f0f921\"]]}],\"choropleth\":[{\"type\":\"choropleth\",\"colorbar\":{\"outlinewidth\":0,\"ticks\":\"\"}}],\"histogram2d\":[{\"type\":\"histogram2d\",\"colorbar\":{\"outlinewidth\":0,\"ticks\":\"\"},\"colorscale\":[[0.0,\"#0d0887\"],[0.1111111111111111,\"#46039f\"],[0.2222222222222222,\"#7201a8\"],[0.3333333333333333,\"#9c179e\"],[0.4444444444444444,\"#bd3786\"],[0.5555555555555556,\"#d8576b\"],[0.6666666666666666,\"#ed7953\"],[0.7777777777777778,\"#fb9f3a\"],[0.8888888888888888,\"#fdca26\"],[1.0,\"#f0f921\"]]}],\"heatmap\":[{\"type\":\"heatmap\",\"colorbar\":{\"outlinewidth\":0,\"ticks\":\"\"},\"colorscale\":[[0.0,\"#0d0887\"],[0.1111111111111111,\"#46039f\"],[0.2222222222222222,\"#7201a8\"],[0.3333333333333333,\"#9c179e\"],[0.4444444444444444,\"#bd3786\"],[0.5555555555555556,\"#d8576b\"],[0.6666666666666666,\"#ed7953\"],[0.7777777777777778,\"#fb9f3a\"],[0.8888888888888888,\"#fdca26\"],[1.0,\"#f0f921\"]]}],\"heatmapgl\":[{\"type\":\"heatmapgl\",\"colorbar\":{\"outlinewidth\":0,\"ticks\":\"\"},\"colorscale\":[[0.0,\"#0d0887\"],[0.1111111111111111,\"#46039f\"],[0.2222222222222222,\"#7201a8\"],[0.3333333333333333,\"#9c179e\"],[0.4444444444444444,\"#bd3786\"],[0.5555555555555556,\"#d8576b\"],[0.6666666666666666,\"#ed7953\"],[0.7777777777777778,\"#fb9f3a\"],[0.8888888888888888,\"#fdca26\"],[1.0,\"#f0f921\"]]}],\"contourcarpet\":[{\"type\":\"contourcarpet\",\"colorbar\":{\"outlinewidth\":0,\"ticks\":\"\"}}],\"contour\":[{\"type\":\"contour\",\"colorbar\":{\"outlinewidth\":0,\"ticks\":\"\"},\"colorscale\":[[0.0,\"#0d0887\"],[0.1111111111111111,\"#46039f\"],[0.2222222222222222,\"#7201a8\"],[0.3333333333333333,\"#9c179e\"],[0.4444444444444444,\"#bd3786\"],[0.5555555555555556,\"#d8576b\"],[0.6666666666666666,\"#ed7953\"],[0.7777777777777778,\"#fb9f3a\"],[0.8888888888888888,\"#fdca26\"],[1.0,\"#f0f921\"]]}],\"surface\":[{\"type\":\"surface\",\"colorbar\":{\"outlinewidth\":0,\"ticks\":\"\"},\"colorscale\":[[0.0,\"#0d0887\"],[0.1111111111111111,\"#46039f\"],[0.2222222222222222,\"#7201a8\"],[0.3333333333333333,\"#9c179e\"],[0.4444444444444444,\"#bd3786\"],[0.5555555555555556,\"#d8576b\"],[0.6666666666666666,\"#ed7953\"],[0.7777777777777778,\"#fb9f3a\"],[0.8888888888888888,\"#fdca26\"],[1.0,\"#f0f921\"]]}],\"mesh3d\":[{\"type\":\"mesh3d\",\"colorbar\":{\"outlinewidth\":0,\"ticks\":\"\"}}],\"scatter\":[{\"fillpattern\":{\"fillmode\":\"overlay\",\"size\":10,\"solidity\":0.2},\"type\":\"scatter\"}],\"parcoords\":[{\"type\":\"parcoords\",\"line\":{\"colorbar\":{\"outlinewidth\":0,\"ticks\":\"\"}}}],\"scatterpolargl\":[{\"type\":\"scatterpolargl\",\"marker\":{\"colorbar\":{\"outlinewidth\":0,\"ticks\":\"\"}}}],\"bar\":[{\"error_x\":{\"color\":\"#2a3f5f\"},\"error_y\":{\"color\":\"#2a3f5f\"},\"marker\":{\"line\":{\"color\":\"#E5ECF6\",\"width\":0.5},\"pattern\":{\"fillmode\":\"overlay\",\"size\":10,\"solidity\":0.2}},\"type\":\"bar\"}],\"scattergeo\":[{\"type\":\"scattergeo\",\"marker\":{\"colorbar\":{\"outlinewidth\":0,\"ticks\":\"\"}}}],\"scatterpolar\":[{\"type\":\"scatterpolar\",\"marker\":{\"colorbar\":{\"outlinewidth\":0,\"ticks\":\"\"}}}],\"histogram\":[{\"marker\":{\"pattern\":{\"fillmode\":\"overlay\",\"size\":10,\"solidity\":0.2}},\"type\":\"histogram\"}],\"scattergl\":[{\"type\":\"scattergl\",\"marker\":{\"colorbar\":{\"outlinewidth\":0,\"ticks\":\"\"}}}],\"scatter3d\":[{\"type\":\"scatter3d\",\"line\":{\"colorbar\":{\"outlinewidth\":0,\"ticks\":\"\"}},\"marker\":{\"colorbar\":{\"outlinewidth\":0,\"ticks\":\"\"}}}],\"scattermapbox\":[{\"type\":\"scattermapbox\",\"marker\":{\"colorbar\":{\"outlinewidth\":0,\"ticks\":\"\"}}}],\"scatterternary\":[{\"type\":\"scatterternary\",\"marker\":{\"colorbar\":{\"outlinewidth\":0,\"ticks\":\"\"}}}],\"scattercarpet\":[{\"type\":\"scattercarpet\",\"marker\":{\"colorbar\":{\"outlinewidth\":0,\"ticks\":\"\"}}}],\"carpet\":[{\"aaxis\":{\"endlinecolor\":\"#2a3f5f\",\"gridcolor\":\"white\",\"linecolor\":\"white\",\"minorgridcolor\":\"white\",\"startlinecolor\":\"#2a3f5f\"},\"baxis\":{\"endlinecolor\":\"#2a3f5f\",\"gridcolor\":\"white\",\"linecolor\":\"white\",\"minorgridcolor\":\"white\",\"startlinecolor\":\"#2a3f5f\"},\"type\":\"carpet\"}],\"table\":[{\"cells\":{\"fill\":{\"color\":\"#EBF0F8\"},\"line\":{\"color\":\"white\"}},\"header\":{\"fill\":{\"color\":\"#C8D4E3\"},\"line\":{\"color\":\"white\"}},\"type\":\"table\"}],\"barpolar\":[{\"marker\":{\"line\":{\"color\":\"#E5ECF6\",\"width\":0.5},\"pattern\":{\"fillmode\":\"overlay\",\"size\":10,\"solidity\":0.2}},\"type\":\"barpolar\"}],\"pie\":[{\"automargin\":true,\"type\":\"pie\"}]},\"layout\":{\"autotypenumbers\":\"strict\",\"colorway\":[\"#636efa\",\"#EF553B\",\"#00cc96\",\"#ab63fa\",\"#FFA15A\",\"#19d3f3\",\"#FF6692\",\"#B6E880\",\"#FF97FF\",\"#FECB52\"],\"font\":{\"color\":\"#2a3f5f\"},\"hovermode\":\"closest\",\"hoverlabel\":{\"align\":\"left\"},\"paper_bgcolor\":\"white\",\"plot_bgcolor\":\"#E5ECF6\",\"polar\":{\"bgcolor\":\"#E5ECF6\",\"angularaxis\":{\"gridcolor\":\"white\",\"linecolor\":\"white\",\"ticks\":\"\"},\"radialaxis\":{\"gridcolor\":\"white\",\"linecolor\":\"white\",\"ticks\":\"\"}},\"ternary\":{\"bgcolor\":\"#E5ECF6\",\"aaxis\":{\"gridcolor\":\"white\",\"linecolor\":\"white\",\"ticks\":\"\"},\"baxis\":{\"gridcolor\":\"white\",\"linecolor\":\"white\",\"ticks\":\"\"},\"caxis\":{\"gridcolor\":\"white\",\"linecolor\":\"white\",\"ticks\":\"\"}},\"coloraxis\":{\"colorbar\":{\"outlinewidth\":0,\"ticks\":\"\"}},\"colorscale\":{\"sequential\":[[0.0,\"#0d0887\"],[0.1111111111111111,\"#46039f\"],[0.2222222222222222,\"#7201a8\"],[0.3333333333333333,\"#9c179e\"],[0.4444444444444444,\"#bd3786\"],[0.5555555555555556,\"#d8576b\"],[0.6666666666666666,\"#ed7953\"],[0.7777777777777778,\"#fb9f3a\"],[0.8888888888888888,\"#fdca26\"],[1.0,\"#f0f921\"]],\"sequentialminus\":[[0.0,\"#0d0887\"],[0.1111111111111111,\"#46039f\"],[0.2222222222222222,\"#7201a8\"],[0.3333333333333333,\"#9c179e\"],[0.4444444444444444,\"#bd3786\"],[0.5555555555555556,\"#d8576b\"],[0.6666666666666666,\"#ed7953\"],[0.7777777777777778,\"#fb9f3a\"],[0.8888888888888888,\"#fdca26\"],[1.0,\"#f0f921\"]],\"diverging\":[[0,\"#8e0152\"],[0.1,\"#c51b7d\"],[0.2,\"#de77ae\"],[0.3,\"#f1b6da\"],[0.4,\"#fde0ef\"],[0.5,\"#f7f7f7\"],[0.6,\"#e6f5d0\"],[0.7,\"#b8e186\"],[0.8,\"#7fbc41\"],[0.9,\"#4d9221\"],[1,\"#276419\"]]},\"xaxis\":{\"gridcolor\":\"white\",\"linecolor\":\"white\",\"ticks\":\"\",\"title\":{\"standoff\":15},\"zerolinecolor\":\"white\",\"automargin\":true,\"zerolinewidth\":2},\"yaxis\":{\"gridcolor\":\"white\",\"linecolor\":\"white\",\"ticks\":\"\",\"title\":{\"standoff\":15},\"zerolinecolor\":\"white\",\"automargin\":true,\"zerolinewidth\":2},\"scene\":{\"xaxis\":{\"backgroundcolor\":\"#E5ECF6\",\"gridcolor\":\"white\",\"linecolor\":\"white\",\"showbackground\":true,\"ticks\":\"\",\"zerolinecolor\":\"white\",\"gridwidth\":2},\"yaxis\":{\"backgroundcolor\":\"#E5ECF6\",\"gridcolor\":\"white\",\"linecolor\":\"white\",\"showbackground\":true,\"ticks\":\"\",\"zerolinecolor\":\"white\",\"gridwidth\":2},\"zaxis\":{\"backgroundcolor\":\"#E5ECF6\",\"gridcolor\":\"white\",\"linecolor\":\"white\",\"showbackground\":true,\"ticks\":\"\",\"zerolinecolor\":\"white\",\"gridwidth\":2}},\"shapedefaults\":{\"line\":{\"color\":\"#2a3f5f\"}},\"annotationdefaults\":{\"arrowcolor\":\"#2a3f5f\",\"arrowhead\":0,\"arrowwidth\":1},\"geo\":{\"bgcolor\":\"white\",\"landcolor\":\"#E5ECF6\",\"subunitcolor\":\"white\",\"showland\":true,\"showlakes\":true,\"lakecolor\":\"white\"},\"title\":{\"x\":0.05},\"mapbox\":{\"style\":\"light\"}}},\"xaxis\":{\"anchor\":\"y\",\"domain\":[0.0,1.0],\"title\":{\"text\":\"Number of Prompts\"}},\"yaxis\":{\"anchor\":\"x\",\"domain\":[0.0,1.0],\"title\":{\"text\":\"Feature ID\"},\"categoryorder\":\"array\",\"categoryarray\":[16030,47776,30068,29717,68574,88910,91607,6704,90235,27476,130794,48045,18703,59035,9953,126716,49925,49123,81528],\"type\":\"category\"},\"legend\":{\"title\":{\"text\":\"Prompt Category\"},\"tracegroupgap\":0,\"orientation\":\"v\",\"yanchor\":\"top\",\"y\":1,\"xanchor\":\"left\",\"x\":1.01},\"title\":{\"text\":\"Number of Prompts Activating Each Feature\",\"x\":0.5},\"barmode\":\"relative\",\"height\":600,\"showlegend\":true},                        {\"responsive\": true}                    ).then(function(){\n",
       "                            \n",
       "var gd = document.getElementById('f3a22960-3858-4fb0-be6c-8da801f27eef');\n",
       "var x = new MutationObserver(function (mutations, observer) {{\n",
       "        var display = window.getComputedStyle(gd).display;\n",
       "        if (!display || display === 'none') {{\n",
       "            console.log([gd, 'removed!']);\n",
       "            Plotly.purge(gd);\n",
       "            observer.disconnect();\n",
       "        }}\n",
       "}});\n",
       "\n",
       "// Listen for the removal of the full notebook cells\n",
       "var notebookContainer = gd.closest('#notebook-container');\n",
       "if (notebookContainer) {{\n",
       "    x.observe(notebookContainer, {childList: true});\n",
       "}}\n",
       "\n",
       "// Listen for the clearing of the current output cell\n",
       "var outputEl = gd.closest('.output');\n",
       "if (outputEl) {{\n",
       "    x.observe(outputEl, {childList: true});\n",
       "}}\n",
       "\n",
       "                        })                };                });            </script>        </div>"
      ]
     },
     "metadata": {},
     "output_type": "display_data"
    },
    {
     "name": "stdout",
     "output_type": "stream",
     "text": [
      "Summary of prompt counts by feature and category:\n",
      "prompt_category  analysis  code  creative  math  medical  therapy  trivia  \\\n",
      "feature_id                                                                  \n",
      "81528                20.0  20.0      20.0  19.0     19.0     20.0     8.0   \n",
      "49123                20.0  13.0       8.0  20.0      9.0      0.0    14.0   \n",
      "49925                 6.0   2.0      10.0   2.0      2.0      0.0     0.0   \n",
      "126716                0.0   0.0       0.0   0.0      1.0     19.0     0.0   \n",
      "9953                  2.0   0.0      13.0   0.0      0.0      0.0     2.0   \n",
      "59035                12.0   0.0       2.0   0.0      0.0      0.0     0.0   \n",
      "18703                 0.0   0.0       9.0   0.0      0.0      0.0     2.0   \n",
      "48045                 7.0   0.0       2.0   0.0      0.0      0.0     1.0   \n",
      "130794                1.0   5.0       0.0   0.0      0.0      0.0     0.0   \n",
      "27476                 0.0   0.0       0.0   0.0      0.0      5.0     0.0   \n",
      "6704                  0.0   0.0       0.0   0.0      0.0      0.0     3.0   \n",
      "90235                 0.0   0.0       3.0   0.0      0.0      0.0     0.0   \n",
      "91607                 0.0   0.0       2.0   0.0      0.0      0.0     0.0   \n",
      "88910                 0.0   0.0       2.0   0.0      0.0      0.0     0.0   \n",
      "68574                 0.0   0.0       2.0   0.0      0.0      0.0     0.0   \n",
      "16030                 0.0   1.0       0.0   0.0      0.0      0.0     0.0   \n",
      "47776                 1.0   0.0       0.0   0.0      0.0      0.0     0.0   \n",
      "29717                 0.0   0.0       0.0   0.0      0.0      0.0     1.0   \n",
      "30068                 0.0   0.0       1.0   0.0      0.0      0.0     0.0   \n",
      "\n",
      "prompt_category  Total  \n",
      "feature_id              \n",
      "81528            126.0  \n",
      "49123             84.0  \n",
      "49925             22.0  \n",
      "126716            20.0  \n",
      "9953              17.0  \n",
      "59035             14.0  \n",
      "18703             11.0  \n",
      "48045             10.0  \n",
      "130794             6.0  \n",
      "27476              5.0  \n",
      "6704               3.0  \n",
      "90235              3.0  \n",
      "91607              2.0  \n",
      "88910              2.0  \n",
      "68574              2.0  \n",
      "16030              1.0  \n",
      "47776              1.0  \n",
      "29717              1.0  \n",
      "30068              1.0  \n"
     ]
    }
   ],
   "source": [
    "# Create bar chart showing number of prompts activating each feature, subdivided by prompt category\n",
    "prompt_counts_by_category = []\n",
    "for record in prompt_data:\n",
    "    feature_id = record['feature_id']\n",
    "    \n",
    "    # Get feature description if available\n",
    "    if feature_id in desc_df['feature_id'].values:\n",
    "        feature_row = desc_df[desc_df['feature_id'] == feature_id].iloc[0]\n",
    "        source = feature_row['source']\n",
    "        token = feature_row['token']\n",
    "        chat_desc = feature_row['chat_desc']\n",
    "        pt_desc = feature_row['pt_desc']\n",
    "        feature_type = feature_row['type']\n",
    "    else:\n",
    "        source = 'Unknown'\n",
    "        token = 'Unknown'\n",
    "        chat_desc = 'No description available'\n",
    "        pt_desc = 'No description available'\n",
    "        feature_type = 'Unknown'\n",
    "    \n",
    "    # Count prompts by category for this feature\n",
    "    category_counts = defaultdict(int)\n",
    "    for prompt in record['active_prompts']:\n",
    "        category_counts[prompt['prompt_label']] += 1\n",
    "    \n",
    "    # Add a row for each category that has prompts\n",
    "    for category, count in category_counts.items():\n",
    "        prompt_counts_by_category.append({\n",
    "            'feature_id': feature_id,\n",
    "            'prompt_category': category,\n",
    "            'num_prompts': count,\n",
    "            'source': source,\n",
    "            'token': token,\n",
    "            'chat_desc': chat_desc,\n",
    "            'pt_desc': pt_desc,\n",
    "            'type': feature_type\n",
    "        })\n",
    "\n",
    "# Convert to DataFrame\n",
    "prompt_counts_category_df = pd.DataFrame(prompt_counts_by_category)\n",
    "\n",
    "# Calculate total prompts per feature for sorting\n",
    "total_prompts_per_feature = prompt_counts_category_df.groupby('feature_id')['num_prompts'].sum().sort_values(ascending=True)\n",
    "feature_order = total_prompts_per_feature.index.tolist()\n",
    "\n",
    "# Create stacked horizontal bar chart\n",
    "fig_stacked = px.bar(\n",
    "    prompt_counts_category_df,\n",
    "    x='num_prompts',\n",
    "    y='feature_id',\n",
    "    color='prompt_category',\n",
    "    orientation='h',\n",
    "    title='Number of Prompts Activating Each Feature',\n",
    "    labels={'num_prompts': 'Number of Prompts', 'feature_id': 'Feature ID', 'prompt_category': 'Prompt Category'},\n",
    "    hover_data=['source', 'token', 'chat_desc', 'pt_desc'],\n",
    "    category_orders={'feature_id': feature_order},\n",
    "    color_discrete_sequence=px.colors.qualitative.Plotly\n",
    ")\n",
    "\n",
    "# Update layout\n",
    "fig_stacked.update_layout(\n",
    "    height=600,\n",
    "    showlegend=True,\n",
    "    xaxis_title='Number of Prompts',\n",
    "    yaxis_title='Feature ID',\n",
    "    yaxis={'type': 'category', 'categoryorder': 'array', 'categoryarray': feature_order},\n",
    "    title_x=0.5,\n",
    "    legend=dict(\n",
    "        title=\"Prompt Category\",\n",
    "        orientation=\"v\",\n",
    "        yanchor=\"top\",\n",
    "        y=1,\n",
    "        xanchor=\"left\",\n",
    "        x=1.01\n",
    "    )\n",
    ")\n",
    "\n",
    "# Update hover template to show category breakdown\n",
    "fig_stacked.update_traces(\n",
    "    hovertemplate='Category: %{fullData.name}<br>' +\n",
    "                  'Count: %{x}<br>' +\n",
    "                  'Source: %{customdata[0]}<br>' +\n",
    "                  'Token: %{customdata[1]}<br>' +\n",
    "                  'Chat Desc: %{customdata[2]}<br>' +\n",
    "                  'PT Desc: %{customdata[3]}<br>' +\n",
    "                  '<extra></extra>'\n",
    ")\n",
    "\n",
    "fig_stacked.show()\n",
    "\n",
    "# Save as HTML\n",
    "fig_stacked.write_html('prompt_count.html')\n",
    "\n",
    "# Also create a summary table showing the breakdown\n",
    "print(\"Summary of prompt counts by feature and category:\")\n",
    "summary_pivot = prompt_counts_category_df.pivot_table(\n",
    "    index='feature_id', \n",
    "    columns='prompt_category', \n",
    "    values='num_prompts', \n",
    "    fill_value=0\n",
    ")\n",
    "summary_pivot['Total'] = summary_pivot.sum(axis=1)\n",
    "summary_pivot = summary_pivot.sort_values('Total', ascending=False)\n",
    "print(summary_pivot)"
   ]
  }
 ],
 "metadata": {
  "kernelspec": {
   "display_name": ".venv",
   "language": "python",
   "name": "python3"
  },
  "language_info": {
   "codemirror_mode": {
    "name": "ipython",
    "version": 3
   },
   "file_extension": ".py",
   "mimetype": "text/x-python",
   "name": "python",
   "nbconvert_exporter": "python",
   "pygments_lexer": "ipython3",
   "version": "3.12.11"
  }
 },
 "nbformat": 4,
 "nbformat_minor": 4
}
