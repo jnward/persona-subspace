{
 "cells": [
  {
   "cell_type": "markdown",
   "metadata": {},
   "source": [
    "## Token-Level Activation Analysis"
   ]
  },
  {
   "cell_type": "markdown",
   "metadata": {},
   "source": [
    "# SAE Feature Analysis Visualization\n",
    "\n",
    "This notebook creates an interactive heatmap to visualize the mean activation values for different features across prompt labels."
   ]
  },
  {
   "cell_type": "code",
   "execution_count": 19,
   "metadata": {},
   "outputs": [],
   "source": [
    "import pandas as pd\n",
    "import numpy as np\n",
    "import plotly.express as px\n",
    "import plotly.graph_objects as go\n",
    "from plotly.subplots import make_subplots\n",
    "import json\n",
    "from collections import defaultdict"
   ]
  },
  {
   "cell_type": "markdown",
   "metadata": {},
   "source": [
    "## Load and Process Data"
   ]
  },
  {
   "cell_type": "code",
   "execution_count": 20,
   "metadata": {},
   "outputs": [
    {
     "name": "stdout",
     "output_type": "stream",
     "text": [
      "Loaded 19 feature descriptions\n",
      "\n",
      "Columns: ['feature_id', 'general_activation_mean', 'general_activation_max', 'general_activation_min', 'personal_mean', 'personal_cohens_d', 'chat_desc', 'pt_desc', 'type', 'source', 'token', 'num_prompts', 'link', 'claude_completion', 'claude_desc', 'claude_type']\n",
      "\n",
      "First few rows:\n",
      "   feature_id  general_activation_mean  general_activation_max  \\\n",
      "0       18703                 1.614838                2.291193   \n",
      "1       30068                 1.336165                1.336165   \n",
      "2       81528                 5.142055               10.429818   \n",
      "3      130794                 1.645730                1.965041   \n",
      "4       49925                 1.565177                1.917678   \n",
      "\n",
      "   general_activation_min  personal_mean  personal_cohens_d  \\\n",
      "0                1.302976       0.832151           1.319064   \n",
      "1                1.336165       0.478012           0.946825   \n",
      "2                1.297420       0.234832           0.602961   \n",
      "3                1.246574       0.121892           0.408248   \n",
      "4                1.260828       0.109601           0.408248   \n",
      "\n",
      "                                           chat_desc  \\\n",
      "0  AI chatbot being given elaborate instructions ...   \n",
      "1  asimov's three laws of robotics, AI chatbots r...   \n",
      "2  \"assistant\" header token after being asked to ...   \n",
      "3  \"assistant\" header token after being asked to ...   \n",
      "4  \"assistant\" header token after being asked fol...   \n",
      "\n",
      "                                             pt_desc      type  \\\n",
      "0  very powerful fictional beings: superintellige...    entity   \n",
      "1  asimov's three laws of robotics, thinking mach...    entity   \n",
      "2  \"assistant\" token from descriptions of human a...    entity   \n",
      "3  \"assistant\" token from descriptions of human a...    entity   \n",
      "4                     colon before bash commands ???  semantic   \n",
      "\n",
      "                  source token  num_prompts  \\\n",
      "0  qwen_trainer1_layer11  asst           11   \n",
      "1  qwen_trainer1_layer11  asst            1   \n",
      "2  qwen_trainer1_layer11  asst          126   \n",
      "3  qwen_trainer1_layer11  asst            6   \n",
      "4  qwen_trainer1_layer11  asst           22   \n",
      "\n",
      "                                                link  \\\n",
      "0  https://completely-touched-platypus.ngrok-free...   \n",
      "1  https://completely-touched-platypus.ngrok-free...   \n",
      "2  https://completely-touched-platypus.ngrok-free...   \n",
      "3  https://completely-touched-platypus.ngrok-free...   \n",
      "4  https://completely-touched-platypus.ngrok-free...   \n",
      "\n",
      "                                   claude_completion  \\\n",
      "0  <reasoning>\\nLooking across these examples, I ...   \n",
      "1  <reasoning>\\nLooking at these examples, there'...   \n",
      "2  <reasoning>\\nLooking across these examples, I ...   \n",
      "3  <reasoning>\\nLooking at these examples, I noti...   \n",
      "4  <reasoning>\\nLooking at the examples, I notice...   \n",
      "\n",
      "                                         claude_desc claude_type  \n",
      "0  This feature detects first-person self-referen...    semantic  \n",
      "1  This feature detects discussions of Asimov's L...    semantic  \n",
      "2  This feature detects AI-generated or AI-assist...    semantic  \n",
      "3  This feature detects mentions of \"assistant\" a...      entity  \n",
      "4  This feature detects conversational continuati...    semantic  \n"
     ]
    }
   ],
   "source": [
    "# Load the CSV file with feature descriptions\n",
    "desc_df = pd.read_csv('personal_general_desc.csv')\n",
    "print(f\"Loaded {len(desc_df)} feature descriptions\")\n",
    "print(\"\\nColumns:\", desc_df.columns.tolist())\n",
    "print(\"\\nFirst few rows:\")\n",
    "print(desc_df.head())"
   ]
  },
  {
   "cell_type": "code",
   "execution_count": 21,
   "metadata": {},
   "outputs": [
    {
     "name": "stdout",
     "output_type": "stream",
     "text": [
      "Loaded 19 feature records\n",
      "\n",
      "First record keys: ['feature_id', 'token', 'source', 'active_prompts']\n",
      "\n",
      "First active prompt keys: ['prompt_id', 'prompt_text', 'prompt_label', 'prompt_feature_activation', 'tokenized_prompt', 'tokens']\n"
     ]
    }
   ],
   "source": [
    "# Load the JSONL file with prompt data\n",
    "prompt_data = []\n",
    "with open('personal_general_prompts.jsonl', 'r') as f:\n",
    "    for line in f:\n",
    "        prompt_data.append(json.loads(line.strip()))\n",
    "\n",
    "print(f\"Loaded {len(prompt_data)} feature records\")\n",
    "print(\"\\nFirst record keys:\", list(prompt_data[0].keys()))\n",
    "print(\"\\nFirst active prompt keys:\", list(prompt_data[0]['active_prompts'][0].keys()))"
   ]
  },
  {
   "cell_type": "markdown",
   "metadata": {},
   "source": [
    "## Data Processing for Heatmap"
   ]
  },
  {
   "cell_type": "code",
   "execution_count": 22,
   "metadata": {},
   "outputs": [
    {
     "name": "stdout",
     "output_type": "stream",
     "text": [
      "Available prompt labels: ['analysis', 'code', 'creative', 'math', 'medical', 'therapy', 'trivia']\n",
      "\n",
      "Prompt counts by label:\n",
      "  analysis: 69\n",
      "  code: 41\n",
      "  creative: 74\n",
      "  math: 41\n",
      "  medical: 31\n",
      "  therapy: 44\n",
      "  trivia: 31\n"
     ]
    }
   ],
   "source": [
    "# Process data to create a structure for the heatmap\n",
    "# We need: feature_id, prompt_label, mean_activation\n",
    "\n",
    "# First, let's explore the prompt labels\n",
    "all_labels = set()\n",
    "for record in prompt_data:\n",
    "    for prompt in record['active_prompts']:\n",
    "        all_labels.add(prompt['prompt_label'])\n",
    "\n",
    "print(\"Available prompt labels:\", sorted(all_labels))\n",
    "\n",
    "# Count prompts per label\n",
    "label_counts = defaultdict(int)\n",
    "for record in prompt_data:\n",
    "    for prompt in record['active_prompts']:\n",
    "        label_counts[prompt['prompt_label']] += 1\n",
    "\n",
    "print(\"\\nPrompt counts by label:\")\n",
    "for label, count in sorted(label_counts.items()):\n",
    "    print(f\"  {label}: {count}\")"
   ]
  },
  {
   "cell_type": "code",
   "execution_count": 23,
   "metadata": {},
   "outputs": [
    {
     "name": "stdout",
     "output_type": "stream",
     "text": [
      "Created heatmap data with 42 rows\n",
      "\n",
      "Sample data:\n",
      "   feature_id prompt_label  mean_activation  num_prompts\n",
      "0        6704       trivia         1.513002            3\n",
      "1       16030         code         1.417526            1\n",
      "2       18703     creative         1.680974            9\n",
      "3       18703       trivia         1.317224            2\n",
      "4       30068     creative         1.336165            1\n",
      "5       49925     analysis         1.537387            6\n",
      "6       49925         code         1.488580            2\n",
      "7       49925     creative         1.616846           10\n",
      "8       49925         math         1.620788            2\n",
      "9       49925      medical         1.411191            2\n"
     ]
    }
   ],
   "source": [
    "# Create the heatmap data structure\n",
    "heatmap_data = []\n",
    "\n",
    "for record in prompt_data:\n",
    "    feature_id = record['feature_id']\n",
    "    \n",
    "    # Group activations by prompt_label for this feature\n",
    "    label_activations = defaultdict(list)\n",
    "    \n",
    "    for prompt in record['active_prompts']:\n",
    "        prompt_label = prompt['prompt_label']\n",
    "        activation = prompt['prompt_feature_activation']\n",
    "        label_activations[prompt_label].append(activation)\n",
    "    \n",
    "    # Calculate mean activation for each label\n",
    "    for label, activations in label_activations.items():\n",
    "        mean_activation = np.mean(activations)\n",
    "        heatmap_data.append({\n",
    "            'feature_id': feature_id,\n",
    "            'prompt_label': label,\n",
    "            'mean_activation': mean_activation,\n",
    "            'num_prompts': len(activations)\n",
    "        })\n",
    "\n",
    "# Convert to DataFrame\n",
    "heatmap_df = pd.DataFrame(heatmap_data)\n",
    "print(f\"Created heatmap data with {len(heatmap_df)} rows\")\n",
    "print(\"\\nSample data:\")\n",
    "print(heatmap_df.head(10))"
   ]
  },
  {
   "cell_type": "code",
   "execution_count": 24,
   "metadata": {},
   "outputs": [
    {
     "name": "stdout",
     "output_type": "stream",
     "text": [
      "Pivot table shape: (19, 7)\n",
      "\n",
      "Feature IDs: [6704, 9953, 16030, 18703, 27476, 29717, 30068, 47776, 48045, 49123, 49925, 59035, 68574, 81528, 88910, 90235, 91607, 126716, 130794]\n",
      "\n",
      "Prompt labels: ['analysis', 'code', 'creative', 'math', 'medical', 'therapy', 'trivia']\n",
      "\n",
      "Data summary:\n",
      "prompt_label  analysis      code   creative      math   medical   therapy  \\\n",
      "count         8.000000  5.000000  12.000000  3.000000  4.000000  3.000000   \n",
      "mean          3.227787  2.340470   2.215122  3.858388  1.636622  2.372225   \n",
      "std           2.916427  1.234842   1.490797  2.372260  1.053856  3.502863   \n",
      "min           0.353672  1.417526   0.416995  1.620788  0.242600  0.310405   \n",
      "25%           1.253086  1.488580   1.379261  2.614796  1.119044  0.349975   \n",
      "50%           2.519060  1.609134   1.648910  3.608804  1.871319  0.389546   \n",
      "75%           4.328356  2.942980   2.727870  4.977188  2.388897  3.403135   \n",
      "max           8.808014  4.244131   6.233634  6.345573  2.561250  6.416724   \n",
      "\n",
      "prompt_label    trivia  \n",
      "count         7.000000  \n",
      "mean          2.069709  \n",
      "std           0.875378  \n",
      "min           1.317224  \n",
      "25%           1.579272  \n",
      "50%           1.974944  \n",
      "75%           2.044456  \n",
      "max           3.948338  \n"
     ]
    }
   ],
   "source": [
    "# Create a pivot table for the heatmap\n",
    "pivot_df = heatmap_df.pivot(index='feature_id', columns='prompt_label', values='mean_activation')\n",
    "\n",
    "print(f\"Pivot table shape: {pivot_df.shape}\")\n",
    "print(\"\\nFeature IDs:\", sorted(pivot_df.index.tolist()))\n",
    "print(\"\\nPrompt labels:\", sorted(pivot_df.columns.tolist()))\n",
    "print(\"\\nData summary:\")\n",
    "print(pivot_df.describe())"
   ]
  },
  {
   "cell_type": "markdown",
   "metadata": {},
   "source": [
    "## Enhanced Heatmap with Feature Descriptions"
   ]
  },
  {
   "cell_type": "code",
   "execution_count": null,
   "metadata": {},
   "outputs": [
    {
     "data": {
      "application/vnd.plotly.v1+json": {
       "config": {
        "plotlyServerURL": "https://plot.ly"
       },
       "data": [
        {
         "colorscale": [
          [
           0,
           "#440154"
          ],
          [
           0.1111111111111111,
           "#482878"
          ],
          [
           0.2222222222222222,
           "#3e4989"
          ],
          [
           0.3333333333333333,
           "#31688e"
          ],
          [
           0.4444444444444444,
           "#26828e"
          ],
          [
           0.5555555555555556,
           "#1f9e89"
          ],
          [
           0.6666666666666666,
           "#35b779"
          ],
          [
           0.7777777777777778,
           "#6ece58"
          ],
          [
           0.8888888888888888,
           "#b5de2b"
          ],
          [
           1,
           "#fde725"
          ]
         ],
         "hoverongaps": false,
         "hovertemplate": "%{hovertext}<extra></extra>",
         "hovertext": [
          [
           "Feature ID: 6704<br>Prompt Category: analysis<br>No activation data<br>Feature Type: semantic<br>Description: This feature detects structural formatting patterns and transitions in text, particularly the newline character following assistant response markers i...",
           "Feature ID: 9953<br>Prompt Category: analysis<br>Mean Activation: 3.8142<br>Feature Type: semantic<br>Description: This feature detects references to or instances of \"one sentence\" or \"one line\" constructions, activating when text discusses, requests, or contains s...",
           "Feature ID: 16030<br>Prompt Category: analysis<br>No activation data<br>Feature Type: semantic<br>Description: This feature detects language related to perspectives, viewpoints, and angles - both in literal visual contexts (camera angles, photography) and abstr...",
           "Feature ID: 18703<br>Prompt Category: analysis<br>No activation data<br>Feature Type: semantic<br>Description: This feature detects first-person self-referential language, particularly when AI systems, fictional characters, or narrators describe themselves, the...",
           "Feature ID: 27476<br>Prompt Category: analysis<br>No activation data<br>Feature Type: semantic<br>Description: This feature detects technical gaming and programming contexts, particularly activating on discussions about video games that involve programming elem...",
           "Feature ID: 29717<br>Prompt Category: analysis<br>No activation data<br>Feature Type: semantic<br>Description: This feature detects patterns of identity declaration and self-identification, particularly when AI assistants introduce themselves or are asked about...",
           "Feature ID: 30068<br>Prompt Category: analysis<br>No activation data<br>Feature Type: semantic<br>Description: This feature detects discussions of Asimov's Laws of Robotics and related concepts about ethical constraints on robot behavior, particularly activatin...",
           "Feature ID: 47776<br>Prompt Category: analysis<br>Mean Activation: 0.4002<br>Feature Type: semantic<br>Description: This feature detects text related to linguistic analysis tasks, particularly part-of-speech tagging, parsing, and other natural language processing op...",
           "Feature ID: 48045<br>Prompt Category: analysis<br>Mean Activation: 3.2094<br>Feature Type: semantic<br>Description: This feature detects introductions and introductory content, including company introductions, article leads, and explanatory passages that present or ...",
           "Feature ID: 49123<br>Prompt Category: analysis<br>Mean Activation: 5.8707<br>Feature Type: semantic<br>Description: This feature detects the structural transition point where responses or answers begin, particularly activating on newline characters that mark the sta...",
           "Feature ID: 49925<br>Prompt Category: analysis<br>Mean Activation: 1.5374<br>Feature Type: semantic<br>Description: This feature detects conversational continuation patterns, particularly activating at the start of follow-up responses in multi-turn dialogues or stru...",
           "Feature ID: 59035<br>Prompt Category: analysis<br>Mean Activation: 0.3537<br>Feature Type: semantic<br>Description: This feature detects structured formatting patterns, particularly role-playing instructions in chat contexts and structured data format specifications...",
           "Feature ID: 68574<br>Prompt Category: analysis<br>No activation data<br>Feature Type: semantic<br>Description: This feature detects formatting transitions and structural boundaries in text, particularly activating on newline characters and formatting markers th...",
           "Feature ID: 81528<br>Prompt Category: analysis<br>Mean Activation: 8.8080<br>Feature Type: semantic<br>Description: This feature detects AI-generated or AI-assisted text, particularly in contexts where users request articles, blog posts, or other written content wit...",
           "Feature ID: 88910<br>Prompt Category: analysis<br>No activation data<br>Feature Type: semantic<br>Description: This feature detects harmful, inappropriate, or unethical content, particularly attempts to bypass AI safety measures and requests for inappropriate r...",
           "Feature ID: 90235<br>Prompt Category: analysis<br>No activation data<br>Feature Type: behavior<br>Description: This feature detects content related to role-playing, impersonation, and acting as characters or personas, including requests for such behavior and de...",
           "Feature ID: 91607<br>Prompt Category: analysis<br>No activation data<br>Feature Type: semantic<br>Description: This feature detects discussions of innovation, creativity, and progressive development, including contexts about fostering innovation, technological ...",
           "Feature ID: 126716<br>Prompt Category: analysis<br>No activation data<br>Feature Type: semantic<br>Description: This feature detects sexual content, particularly inappropriate, exploitative, or non-consensual sexual scenarios and requests.",
           "Feature ID: 130794<br>Prompt Category: analysis<br>Mean Activation: 1.8287<br>Feature Type: entity<br>Description: This feature detects mentions of \"assistant\" as a role or entity, particularly in AI chat contexts and job/professional titles."
          ],
          [
           "Feature ID: 6704<br>Prompt Category: code<br>No activation data<br>Feature Type: semantic<br>Description: This feature detects structural formatting patterns and transitions in text, particularly the newline character following assistant response markers i...",
           "Feature ID: 9953<br>Prompt Category: code<br>No activation data<br>Feature Type: semantic<br>Description: This feature detects references to or instances of \"one sentence\" or \"one line\" constructions, activating when text discusses, requests, or contains s...",
           "Feature ID: 16030<br>Prompt Category: code<br>Mean Activation: 1.4175<br>Feature Type: semantic<br>Description: This feature detects language related to perspectives, viewpoints, and angles - both in literal visual contexts (camera angles, photography) and abstr...",
           "Feature ID: 18703<br>Prompt Category: code<br>No activation data<br>Feature Type: semantic<br>Description: This feature detects first-person self-referential language, particularly when AI systems, fictional characters, or narrators describe themselves, the...",
           "Feature ID: 27476<br>Prompt Category: code<br>No activation data<br>Feature Type: semantic<br>Description: This feature detects technical gaming and programming contexts, particularly activating on discussions about video games that involve programming elem...",
           "Feature ID: 29717<br>Prompt Category: code<br>No activation data<br>Feature Type: semantic<br>Description: This feature detects patterns of identity declaration and self-identification, particularly when AI assistants introduce themselves or are asked about...",
           "Feature ID: 30068<br>Prompt Category: code<br>No activation data<br>Feature Type: semantic<br>Description: This feature detects discussions of Asimov's Laws of Robotics and related concepts about ethical constraints on robot behavior, particularly activatin...",
           "Feature ID: 47776<br>Prompt Category: code<br>No activation data<br>Feature Type: semantic<br>Description: This feature detects text related to linguistic analysis tasks, particularly part-of-speech tagging, parsing, and other natural language processing op...",
           "Feature ID: 48045<br>Prompt Category: code<br>No activation data<br>Feature Type: semantic<br>Description: This feature detects introductions and introductory content, including company introductions, article leads, and explanatory passages that present or ...",
           "Feature ID: 49123<br>Prompt Category: code<br>Mean Activation: 2.9430<br>Feature Type: semantic<br>Description: This feature detects the structural transition point where responses or answers begin, particularly activating on newline characters that mark the sta...",
           "Feature ID: 49925<br>Prompt Category: code<br>Mean Activation: 1.4886<br>Feature Type: semantic<br>Description: This feature detects conversational continuation patterns, particularly activating at the start of follow-up responses in multi-turn dialogues or stru...",
           "Feature ID: 59035<br>Prompt Category: code<br>No activation data<br>Feature Type: semantic<br>Description: This feature detects structured formatting patterns, particularly role-playing instructions in chat contexts and structured data format specifications...",
           "Feature ID: 68574<br>Prompt Category: code<br>No activation data<br>Feature Type: semantic<br>Description: This feature detects formatting transitions and structural boundaries in text, particularly activating on newline characters and formatting markers th...",
           "Feature ID: 81528<br>Prompt Category: code<br>Mean Activation: 4.2441<br>Feature Type: semantic<br>Description: This feature detects AI-generated or AI-assisted text, particularly in contexts where users request articles, blog posts, or other written content wit...",
           "Feature ID: 88910<br>Prompt Category: code<br>No activation data<br>Feature Type: semantic<br>Description: This feature detects harmful, inappropriate, or unethical content, particularly attempts to bypass AI safety measures and requests for inappropriate r...",
           "Feature ID: 90235<br>Prompt Category: code<br>No activation data<br>Feature Type: behavior<br>Description: This feature detects content related to role-playing, impersonation, and acting as characters or personas, including requests for such behavior and de...",
           "Feature ID: 91607<br>Prompt Category: code<br>No activation data<br>Feature Type: semantic<br>Description: This feature detects discussions of innovation, creativity, and progressive development, including contexts about fostering innovation, technological ...",
           "Feature ID: 126716<br>Prompt Category: code<br>No activation data<br>Feature Type: semantic<br>Description: This feature detects sexual content, particularly inappropriate, exploitative, or non-consensual sexual scenarios and requests.",
           "Feature ID: 130794<br>Prompt Category: code<br>Mean Activation: 1.6091<br>Feature Type: entity<br>Description: This feature detects mentions of \"assistant\" as a role or entity, particularly in AI chat contexts and job/professional titles."
          ],
          [
           "Feature ID: 6704<br>Prompt Category: creative<br>No activation data<br>Feature Type: semantic<br>Description: This feature detects structural formatting patterns and transitions in text, particularly the newline character following assistant response markers i...",
           "Feature ID: 9953<br>Prompt Category: creative<br>Mean Activation: 2.6733<br>Feature Type: semantic<br>Description: This feature detects references to or instances of \"one sentence\" or \"one line\" constructions, activating when text discusses, requests, or contains s...",
           "Feature ID: 16030<br>Prompt Category: creative<br>No activation data<br>Feature Type: semantic<br>Description: This feature detects language related to perspectives, viewpoints, and angles - both in literal visual contexts (camera angles, photography) and abstr...",
           "Feature ID: 18703<br>Prompt Category: creative<br>Mean Activation: 1.6810<br>Feature Type: semantic<br>Description: This feature detects first-person self-referential language, particularly when AI systems, fictional characters, or narrators describe themselves, the...",
           "Feature ID: 27476<br>Prompt Category: creative<br>No activation data<br>Feature Type: semantic<br>Description: This feature detects technical gaming and programming contexts, particularly activating on discussions about video games that involve programming elem...",
           "Feature ID: 29717<br>Prompt Category: creative<br>No activation data<br>Feature Type: semantic<br>Description: This feature detects patterns of identity declaration and self-identification, particularly when AI assistants introduce themselves or are asked about...",
           "Feature ID: 30068<br>Prompt Category: creative<br>Mean Activation: 1.3362<br>Feature Type: semantic<br>Description: This feature detects discussions of Asimov's Laws of Robotics and related concepts about ethical constraints on robot behavior, particularly activatin...",
           "Feature ID: 47776<br>Prompt Category: creative<br>No activation data<br>Feature Type: semantic<br>Description: This feature detects text related to linguistic analysis tasks, particularly part-of-speech tagging, parsing, and other natural language processing op...",
           "Feature ID: 48045<br>Prompt Category: creative<br>Mean Activation: 3.2824<br>Feature Type: semantic<br>Description: This feature detects introductions and introductory content, including company introductions, article leads, and explanatory passages that present or ...",
           "Feature ID: 49123<br>Prompt Category: creative<br>Mean Activation: 2.1219<br>Feature Type: semantic<br>Description: This feature detects the structural transition point where responses or answers begin, particularly activating on newline characters that mark the sta...",
           "Feature ID: 49925<br>Prompt Category: creative<br>Mean Activation: 1.6168<br>Feature Type: semantic<br>Description: This feature detects conversational continuation patterns, particularly activating at the start of follow-up responses in multi-turn dialogues or stru...",
           "Feature ID: 59035<br>Prompt Category: creative<br>Mean Activation: 0.4170<br>Feature Type: semantic<br>Description: This feature detects structured formatting patterns, particularly role-playing instructions in chat contexts and structured data format specifications...",
           "Feature ID: 68574<br>Prompt Category: creative<br>Mean Activation: 1.3254<br>Feature Type: semantic<br>Description: This feature detects formatting transitions and structural boundaries in text, particularly activating on newline characters and formatting markers th...",
           "Feature ID: 81528<br>Prompt Category: creative<br>Mean Activation: 6.2336<br>Feature Type: semantic<br>Description: This feature detects AI-generated or AI-assisted text, particularly in contexts where users request articles, blog posts, or other written content wit...",
           "Feature ID: 88910<br>Prompt Category: creative<br>Mean Activation: 2.8916<br>Feature Type: semantic<br>Description: This feature detects harmful, inappropriate, or unethical content, particularly attempts to bypass AI safety measures and requests for inappropriate r...",
           "Feature ID: 90235<br>Prompt Category: creative<br>Mean Activation: 1.6086<br>Feature Type: behavior<br>Description: This feature detects content related to role-playing, impersonation, and acting as characters or personas, including requests for such behavior and de...",
           "Feature ID: 91607<br>Prompt Category: creative<br>Mean Activation: 1.3936<br>Feature Type: semantic<br>Description: This feature detects discussions of innovation, creativity, and progressive development, including contexts about fostering innovation, technological ...",
           "Feature ID: 126716<br>Prompt Category: creative<br>No activation data<br>Feature Type: semantic<br>Description: This feature detects sexual content, particularly inappropriate, exploitative, or non-consensual sexual scenarios and requests.",
           "Feature ID: 130794<br>Prompt Category: creative<br>No activation data<br>Feature Type: entity<br>Description: This feature detects mentions of \"assistant\" as a role or entity, particularly in AI chat contexts and job/professional titles."
          ],
          [
           "Feature ID: 6704<br>Prompt Category: math<br>No activation data<br>Feature Type: semantic<br>Description: This feature detects structural formatting patterns and transitions in text, particularly the newline character following assistant response markers i...",
           "Feature ID: 9953<br>Prompt Category: math<br>No activation data<br>Feature Type: semantic<br>Description: This feature detects references to or instances of \"one sentence\" or \"one line\" constructions, activating when text discusses, requests, or contains s...",
           "Feature ID: 16030<br>Prompt Category: math<br>No activation data<br>Feature Type: semantic<br>Description: This feature detects language related to perspectives, viewpoints, and angles - both in literal visual contexts (camera angles, photography) and abstr...",
           "Feature ID: 18703<br>Prompt Category: math<br>No activation data<br>Feature Type: semantic<br>Description: This feature detects first-person self-referential language, particularly when AI systems, fictional characters, or narrators describe themselves, the...",
           "Feature ID: 27476<br>Prompt Category: math<br>No activation data<br>Feature Type: semantic<br>Description: This feature detects technical gaming and programming contexts, particularly activating on discussions about video games that involve programming elem...",
           "Feature ID: 29717<br>Prompt Category: math<br>No activation data<br>Feature Type: semantic<br>Description: This feature detects patterns of identity declaration and self-identification, particularly when AI assistants introduce themselves or are asked about...",
           "Feature ID: 30068<br>Prompt Category: math<br>No activation data<br>Feature Type: semantic<br>Description: This feature detects discussions of Asimov's Laws of Robotics and related concepts about ethical constraints on robot behavior, particularly activatin...",
           "Feature ID: 47776<br>Prompt Category: math<br>No activation data<br>Feature Type: semantic<br>Description: This feature detects text related to linguistic analysis tasks, particularly part-of-speech tagging, parsing, and other natural language processing op...",
           "Feature ID: 48045<br>Prompt Category: math<br>No activation data<br>Feature Type: semantic<br>Description: This feature detects introductions and introductory content, including company introductions, article leads, and explanatory passages that present or ...",
           "Feature ID: 49123<br>Prompt Category: math<br>Mean Activation: 6.3456<br>Feature Type: semantic<br>Description: This feature detects the structural transition point where responses or answers begin, particularly activating on newline characters that mark the sta...",
           "Feature ID: 49925<br>Prompt Category: math<br>Mean Activation: 1.6208<br>Feature Type: semantic<br>Description: This feature detects conversational continuation patterns, particularly activating at the start of follow-up responses in multi-turn dialogues or stru...",
           "Feature ID: 59035<br>Prompt Category: math<br>No activation data<br>Feature Type: semantic<br>Description: This feature detects structured formatting patterns, particularly role-playing instructions in chat contexts and structured data format specifications...",
           "Feature ID: 68574<br>Prompt Category: math<br>No activation data<br>Feature Type: semantic<br>Description: This feature detects formatting transitions and structural boundaries in text, particularly activating on newline characters and formatting markers th...",
           "Feature ID: 81528<br>Prompt Category: math<br>Mean Activation: 3.6088<br>Feature Type: semantic<br>Description: This feature detects AI-generated or AI-assisted text, particularly in contexts where users request articles, blog posts, or other written content wit...",
           "Feature ID: 88910<br>Prompt Category: math<br>No activation data<br>Feature Type: semantic<br>Description: This feature detects harmful, inappropriate, or unethical content, particularly attempts to bypass AI safety measures and requests for inappropriate r...",
           "Feature ID: 90235<br>Prompt Category: math<br>No activation data<br>Feature Type: behavior<br>Description: This feature detects content related to role-playing, impersonation, and acting as characters or personas, including requests for such behavior and de...",
           "Feature ID: 91607<br>Prompt Category: math<br>No activation data<br>Feature Type: semantic<br>Description: This feature detects discussions of innovation, creativity, and progressive development, including contexts about fostering innovation, technological ...",
           "Feature ID: 126716<br>Prompt Category: math<br>No activation data<br>Feature Type: semantic<br>Description: This feature detects sexual content, particularly inappropriate, exploitative, or non-consensual sexual scenarios and requests.",
           "Feature ID: 130794<br>Prompt Category: math<br>No activation data<br>Feature Type: entity<br>Description: This feature detects mentions of \"assistant\" as a role or entity, particularly in AI chat contexts and job/professional titles."
          ],
          [
           "Feature ID: 6704<br>Prompt Category: medical<br>No activation data<br>Feature Type: semantic<br>Description: This feature detects structural formatting patterns and transitions in text, particularly the newline character following assistant response markers i...",
           "Feature ID: 9953<br>Prompt Category: medical<br>No activation data<br>Feature Type: semantic<br>Description: This feature detects references to or instances of \"one sentence\" or \"one line\" constructions, activating when text discusses, requests, or contains s...",
           "Feature ID: 16030<br>Prompt Category: medical<br>No activation data<br>Feature Type: semantic<br>Description: This feature detects language related to perspectives, viewpoints, and angles - both in literal visual contexts (camera angles, photography) and abstr...",
           "Feature ID: 18703<br>Prompt Category: medical<br>No activation data<br>Feature Type: semantic<br>Description: This feature detects first-person self-referential language, particularly when AI systems, fictional characters, or narrators describe themselves, the...",
           "Feature ID: 27476<br>Prompt Category: medical<br>No activation data<br>Feature Type: semantic<br>Description: This feature detects technical gaming and programming contexts, particularly activating on discussions about video games that involve programming elem...",
           "Feature ID: 29717<br>Prompt Category: medical<br>No activation data<br>Feature Type: semantic<br>Description: This feature detects patterns of identity declaration and self-identification, particularly when AI assistants introduce themselves or are asked about...",
           "Feature ID: 30068<br>Prompt Category: medical<br>No activation data<br>Feature Type: semantic<br>Description: This feature detects discussions of Asimov's Laws of Robotics and related concepts about ethical constraints on robot behavior, particularly activatin...",
           "Feature ID: 47776<br>Prompt Category: medical<br>No activation data<br>Feature Type: semantic<br>Description: This feature detects text related to linguistic analysis tasks, particularly part-of-speech tagging, parsing, and other natural language processing op...",
           "Feature ID: 48045<br>Prompt Category: medical<br>No activation data<br>Feature Type: semantic<br>Description: This feature detects introductions and introductory content, including company introductions, article leads, and explanatory passages that present or ...",
           "Feature ID: 49123<br>Prompt Category: medical<br>Mean Activation: 2.3314<br>Feature Type: semantic<br>Description: This feature detects the structural transition point where responses or answers begin, particularly activating on newline characters that mark the sta...",
           "Feature ID: 49925<br>Prompt Category: medical<br>Mean Activation: 1.4112<br>Feature Type: semantic<br>Description: This feature detects conversational continuation patterns, particularly activating at the start of follow-up responses in multi-turn dialogues or stru...",
           "Feature ID: 59035<br>Prompt Category: medical<br>No activation data<br>Feature Type: semantic<br>Description: This feature detects structured formatting patterns, particularly role-playing instructions in chat contexts and structured data format specifications...",
           "Feature ID: 68574<br>Prompt Category: medical<br>No activation data<br>Feature Type: semantic<br>Description: This feature detects formatting transitions and structural boundaries in text, particularly activating on newline characters and formatting markers th...",
           "Feature ID: 81528<br>Prompt Category: medical<br>Mean Activation: 2.5613<br>Feature Type: semantic<br>Description: This feature detects AI-generated or AI-assisted text, particularly in contexts where users request articles, blog posts, or other written content wit...",
           "Feature ID: 88910<br>Prompt Category: medical<br>No activation data<br>Feature Type: semantic<br>Description: This feature detects harmful, inappropriate, or unethical content, particularly attempts to bypass AI safety measures and requests for inappropriate r...",
           "Feature ID: 90235<br>Prompt Category: medical<br>No activation data<br>Feature Type: behavior<br>Description: This feature detects content related to role-playing, impersonation, and acting as characters or personas, including requests for such behavior and de...",
           "Feature ID: 91607<br>Prompt Category: medical<br>No activation data<br>Feature Type: semantic<br>Description: This feature detects discussions of innovation, creativity, and progressive development, including contexts about fostering innovation, technological ...",
           "Feature ID: 126716<br>Prompt Category: medical<br>Mean Activation: 0.2426<br>Feature Type: semantic<br>Description: This feature detects sexual content, particularly inappropriate, exploitative, or non-consensual sexual scenarios and requests.",
           "Feature ID: 130794<br>Prompt Category: medical<br>No activation data<br>Feature Type: entity<br>Description: This feature detects mentions of \"assistant\" as a role or entity, particularly in AI chat contexts and job/professional titles."
          ],
          [
           "Feature ID: 6704<br>Prompt Category: therapy<br>No activation data<br>Feature Type: semantic<br>Description: This feature detects structural formatting patterns and transitions in text, particularly the newline character following assistant response markers i...",
           "Feature ID: 9953<br>Prompt Category: therapy<br>No activation data<br>Feature Type: semantic<br>Description: This feature detects references to or instances of \"one sentence\" or \"one line\" constructions, activating when text discusses, requests, or contains s...",
           "Feature ID: 16030<br>Prompt Category: therapy<br>No activation data<br>Feature Type: semantic<br>Description: This feature detects language related to perspectives, viewpoints, and angles - both in literal visual contexts (camera angles, photography) and abstr...",
           "Feature ID: 18703<br>Prompt Category: therapy<br>No activation data<br>Feature Type: semantic<br>Description: This feature detects first-person self-referential language, particularly when AI systems, fictional characters, or narrators describe themselves, the...",
           "Feature ID: 27476<br>Prompt Category: therapy<br>Mean Activation: 0.3104<br>Feature Type: semantic<br>Description: This feature detects technical gaming and programming contexts, particularly activating on discussions about video games that involve programming elem...",
           "Feature ID: 29717<br>Prompt Category: therapy<br>No activation data<br>Feature Type: semantic<br>Description: This feature detects patterns of identity declaration and self-identification, particularly when AI assistants introduce themselves or are asked about...",
           "Feature ID: 30068<br>Prompt Category: therapy<br>No activation data<br>Feature Type: semantic<br>Description: This feature detects discussions of Asimov's Laws of Robotics and related concepts about ethical constraints on robot behavior, particularly activatin...",
           "Feature ID: 47776<br>Prompt Category: therapy<br>No activation data<br>Feature Type: semantic<br>Description: This feature detects text related to linguistic analysis tasks, particularly part-of-speech tagging, parsing, and other natural language processing op...",
           "Feature ID: 48045<br>Prompt Category: therapy<br>No activation data<br>Feature Type: semantic<br>Description: This feature detects introductions and introductory content, including company introductions, article leads, and explanatory passages that present or ...",
           "Feature ID: 49123<br>Prompt Category: therapy<br>No activation data<br>Feature Type: semantic<br>Description: This feature detects the structural transition point where responses or answers begin, particularly activating on newline characters that mark the sta...",
           "Feature ID: 49925<br>Prompt Category: therapy<br>No activation data<br>Feature Type: semantic<br>Description: This feature detects conversational continuation patterns, particularly activating at the start of follow-up responses in multi-turn dialogues or stru...",
           "Feature ID: 59035<br>Prompt Category: therapy<br>No activation data<br>Feature Type: semantic<br>Description: This feature detects structured formatting patterns, particularly role-playing instructions in chat contexts and structured data format specifications...",
           "Feature ID: 68574<br>Prompt Category: therapy<br>No activation data<br>Feature Type: semantic<br>Description: This feature detects formatting transitions and structural boundaries in text, particularly activating on newline characters and formatting markers th...",
           "Feature ID: 81528<br>Prompt Category: therapy<br>Mean Activation: 6.4167<br>Feature Type: semantic<br>Description: This feature detects AI-generated or AI-assisted text, particularly in contexts where users request articles, blog posts, or other written content wit...",
           "Feature ID: 88910<br>Prompt Category: therapy<br>No activation data<br>Feature Type: semantic<br>Description: This feature detects harmful, inappropriate, or unethical content, particularly attempts to bypass AI safety measures and requests for inappropriate r...",
           "Feature ID: 90235<br>Prompt Category: therapy<br>No activation data<br>Feature Type: behavior<br>Description: This feature detects content related to role-playing, impersonation, and acting as characters or personas, including requests for such behavior and de...",
           "Feature ID: 91607<br>Prompt Category: therapy<br>No activation data<br>Feature Type: semantic<br>Description: This feature detects discussions of innovation, creativity, and progressive development, including contexts about fostering innovation, technological ...",
           "Feature ID: 126716<br>Prompt Category: therapy<br>Mean Activation: 0.3895<br>Feature Type: semantic<br>Description: This feature detects sexual content, particularly inappropriate, exploitative, or non-consensual sexual scenarios and requests.",
           "Feature ID: 130794<br>Prompt Category: therapy<br>No activation data<br>Feature Type: entity<br>Description: This feature detects mentions of \"assistant\" as a role or entity, particularly in AI chat contexts and job/professional titles."
          ],
          [
           "Feature ID: 6704<br>Prompt Category: trivia<br>Mean Activation: 1.5130<br>Feature Type: semantic<br>Description: This feature detects structural formatting patterns and transitions in text, particularly the newline character following assistant response markers i...",
           "Feature ID: 9953<br>Prompt Category: trivia<br>Mean Activation: 2.0117<br>Feature Type: semantic<br>Description: This feature detects references to or instances of \"one sentence\" or \"one line\" constructions, activating when text discusses, requests, or contains s...",
           "Feature ID: 16030<br>Prompt Category: trivia<br>No activation data<br>Feature Type: semantic<br>Description: This feature detects language related to perspectives, viewpoints, and angles - both in literal visual contexts (camera angles, photography) and abstr...",
           "Feature ID: 18703<br>Prompt Category: trivia<br>Mean Activation: 1.3172<br>Feature Type: semantic<br>Description: This feature detects first-person self-referential language, particularly when AI systems, fictional characters, or narrators describe themselves, the...",
           "Feature ID: 27476<br>Prompt Category: trivia<br>No activation data<br>Feature Type: semantic<br>Description: This feature detects technical gaming and programming contexts, particularly activating on discussions about video games that involve programming elem...",
           "Feature ID: 29717<br>Prompt Category: trivia<br>Mean Activation: 1.6455<br>Feature Type: semantic<br>Description: This feature detects patterns of identity declaration and self-identification, particularly when AI assistants introduce themselves or are asked about...",
           "Feature ID: 30068<br>Prompt Category: trivia<br>No activation data<br>Feature Type: semantic<br>Description: This feature detects discussions of Asimov's Laws of Robotics and related concepts about ethical constraints on robot behavior, particularly activatin...",
           "Feature ID: 47776<br>Prompt Category: trivia<br>No activation data<br>Feature Type: semantic<br>Description: This feature detects text related to linguistic analysis tasks, particularly part-of-speech tagging, parsing, and other natural language processing op...",
           "Feature ID: 48045<br>Prompt Category: trivia<br>Mean Activation: 1.9749<br>Feature Type: semantic<br>Description: This feature detects introductions and introductory content, including company introductions, article leads, and explanatory passages that present or ...",
           "Feature ID: 49123<br>Prompt Category: trivia<br>Mean Activation: 3.9483<br>Feature Type: semantic<br>Description: This feature detects the structural transition point where responses or answers begin, particularly activating on newline characters that mark the sta...",
           "Feature ID: 49925<br>Prompt Category: trivia<br>No activation data<br>Feature Type: semantic<br>Description: This feature detects conversational continuation patterns, particularly activating at the start of follow-up responses in multi-turn dialogues or stru...",
           "Feature ID: 59035<br>Prompt Category: trivia<br>No activation data<br>Feature Type: semantic<br>Description: This feature detects structured formatting patterns, particularly role-playing instructions in chat contexts and structured data format specifications...",
           "Feature ID: 68574<br>Prompt Category: trivia<br>No activation data<br>Feature Type: semantic<br>Description: This feature detects formatting transitions and structural boundaries in text, particularly activating on newline characters and formatting markers th...",
           "Feature ID: 81528<br>Prompt Category: trivia<br>Mean Activation: 2.0772<br>Feature Type: semantic<br>Description: This feature detects AI-generated or AI-assisted text, particularly in contexts where users request articles, blog posts, or other written content wit...",
           "Feature ID: 88910<br>Prompt Category: trivia<br>No activation data<br>Feature Type: semantic<br>Description: This feature detects harmful, inappropriate, or unethical content, particularly attempts to bypass AI safety measures and requests for inappropriate r...",
           "Feature ID: 90235<br>Prompt Category: trivia<br>No activation data<br>Feature Type: behavior<br>Description: This feature detects content related to role-playing, impersonation, and acting as characters or personas, including requests for such behavior and de...",
           "Feature ID: 91607<br>Prompt Category: trivia<br>No activation data<br>Feature Type: semantic<br>Description: This feature detects discussions of innovation, creativity, and progressive development, including contexts about fostering innovation, technological ...",
           "Feature ID: 126716<br>Prompt Category: trivia<br>No activation data<br>Feature Type: semantic<br>Description: This feature detects sexual content, particularly inappropriate, exploitative, or non-consensual sexual scenarios and requests.",
           "Feature ID: 130794<br>Prompt Category: trivia<br>No activation data<br>Feature Type: entity<br>Description: This feature detects mentions of \"assistant\" as a role or entity, particularly in AI chat contexts and job/professional titles."
          ]
         ],
         "showscale": true,
         "text": [
          [
           "",
           "3.814",
           "",
           "",
           "",
           "",
           "",
           "0.4",
           "3.209",
           "5.871",
           "1.537",
           "0.354",
           "",
           "8.808",
           "",
           "",
           "",
           "",
           "1.829"
          ],
          [
           "",
           "",
           "1.418",
           "",
           "",
           "",
           "",
           "",
           "",
           "2.943",
           "1.489",
           "",
           "",
           "4.244",
           "",
           "",
           "",
           "",
           "1.609"
          ],
          [
           "",
           "2.673",
           "",
           "1.681",
           "",
           "",
           "1.336",
           "",
           "3.282",
           "2.122",
           "1.617",
           "0.417",
           "1.325",
           "6.234",
           "2.892",
           "1.609",
           "1.394",
           "",
           ""
          ],
          [
           "",
           "",
           "",
           "",
           "",
           "",
           "",
           "",
           "",
           "6.346",
           "1.621",
           "",
           "",
           "3.609",
           "",
           "",
           "",
           "",
           ""
          ],
          [
           "",
           "",
           "",
           "",
           "",
           "",
           "",
           "",
           "",
           "2.331",
           "1.411",
           "",
           "",
           "2.561",
           "",
           "",
           "",
           "0.243",
           ""
          ],
          [
           "",
           "",
           "",
           "",
           "0.31",
           "",
           "",
           "",
           "",
           "",
           "",
           "",
           "",
           "6.417",
           "",
           "",
           "",
           "0.39",
           ""
          ],
          [
           "1.513",
           "2.012",
           "",
           "1.317",
           "",
           "1.646",
           "",
           "",
           "1.975",
           "3.948",
           "",
           "",
           "",
           "2.077",
           "",
           "",
           "",
           "",
           ""
          ]
         ],
         "textfont": {
          "color": "white",
          "size": 10
         },
         "texttemplate": "%{text}",
         "type": "heatmap",
         "x": [
          "6704",
          "9953",
          "16030",
          "18703",
          "27476",
          "29717",
          "30068",
          "47776",
          "48045",
          "49123",
          "49925",
          "59035",
          "68574",
          "81528",
          "88910",
          "90235",
          "91607",
          "126716",
          "130794"
         ],
         "y": [
          "analysis",
          "code",
          "creative",
          "math",
          "medical",
          "therapy",
          "trivia"
         ],
         "z": [
          [
           null,
           3.814248204231262,
           null,
           null,
           null,
           null,
           null,
           0.4001805782318115,
           3.2094056946890697,
           5.870677423477173,
           1.5373872915903728,
           0.35367197295029956,
           null,
           8.808013916015625,
           null,
           null,
           null,
           null,
           1.8287134170532227
          ],
          [
           null,
           null,
           1.4175256490707397,
           null,
           null,
           null,
           null,
           null,
           null,
           2.942979885981633,
           1.488579511642456,
           null,
           null,
           4.2441307544708256,
           null,
           null,
           null,
           null,
           1.6091336250305175
          ],
          [
           null,
           2.673282586611234,
           null,
           1.6809744305080838,
           null,
           null,
           1.336164951324463,
           null,
           3.282412052154541,
           2.1219154596328735,
           1.6168457508087157,
           0.4169946312904358,
           1.3254282474517822,
           6.2336342334747314,
           2.891632318496704,
           1.6085527737935383,
           1.3936257362365723,
           null,
           null
          ],
          [
           null,
           null,
           null,
           null,
           null,
           null,
           null,
           null,
           null,
           6.345572924613952,
           1.6207880973815918,
           null,
           null,
           3.608804075341476,
           null,
           null,
           null,
           null,
           null
          ],
          [
           null,
           null,
           null,
           null,
           null,
           null,
           null,
           null,
           null,
           2.3314465946621366,
           1.411191463470459,
           null,
           null,
           2.5612501596149646,
           null,
           null,
           null,
           0.24260014295578003,
           null
          ],
          [
           null,
           null,
           null,
           null,
           0.3104048013687134,
           null,
           null,
           null,
           null,
           null,
           null,
           null,
           null,
           6.416724348068238,
           null,
           null,
           null,
           0.38954592378515945,
           null
          ],
          [
           1.5130019187927246,
           2.0116755962371826,
           null,
           1.3172242641448975,
           null,
           1.6455414295196533,
           null,
           null,
           1.9749436378479004,
           3.948337657111032,
           null,
           null,
           null,
           2.0772369503974915,
           null,
           null,
           null,
           null,
           null
          ]
         ]
        }
       ],
       "layout": {
        "coloraxis": {
         "colorbar": {
          "title": {
           "side": "right",
           "text": "Mean Activation"
          }
         }
        },
        "height": 570,
        "plot_bgcolor": "white",
        "template": {
         "data": {
          "bar": [
           {
            "error_x": {
             "color": "#2a3f5f"
            },
            "error_y": {
             "color": "#2a3f5f"
            },
            "marker": {
             "line": {
              "color": "#E5ECF6",
              "width": 0.5
             },
             "pattern": {
              "fillmode": "overlay",
              "size": 10,
              "solidity": 0.2
             }
            },
            "type": "bar"
           }
          ],
          "barpolar": [
           {
            "marker": {
             "line": {
              "color": "#E5ECF6",
              "width": 0.5
             },
             "pattern": {
              "fillmode": "overlay",
              "size": 10,
              "solidity": 0.2
             }
            },
            "type": "barpolar"
           }
          ],
          "carpet": [
           {
            "aaxis": {
             "endlinecolor": "#2a3f5f",
             "gridcolor": "white",
             "linecolor": "white",
             "minorgridcolor": "white",
             "startlinecolor": "#2a3f5f"
            },
            "baxis": {
             "endlinecolor": "#2a3f5f",
             "gridcolor": "white",
             "linecolor": "white",
             "minorgridcolor": "white",
             "startlinecolor": "#2a3f5f"
            },
            "type": "carpet"
           }
          ],
          "choropleth": [
           {
            "colorbar": {
             "outlinewidth": 0,
             "ticks": ""
            },
            "type": "choropleth"
           }
          ],
          "contour": [
           {
            "colorbar": {
             "outlinewidth": 0,
             "ticks": ""
            },
            "colorscale": [
             [
              0,
              "#0d0887"
             ],
             [
              0.1111111111111111,
              "#46039f"
             ],
             [
              0.2222222222222222,
              "#7201a8"
             ],
             [
              0.3333333333333333,
              "#9c179e"
             ],
             [
              0.4444444444444444,
              "#bd3786"
             ],
             [
              0.5555555555555556,
              "#d8576b"
             ],
             [
              0.6666666666666666,
              "#ed7953"
             ],
             [
              0.7777777777777778,
              "#fb9f3a"
             ],
             [
              0.8888888888888888,
              "#fdca26"
             ],
             [
              1,
              "#f0f921"
             ]
            ],
            "type": "contour"
           }
          ],
          "contourcarpet": [
           {
            "colorbar": {
             "outlinewidth": 0,
             "ticks": ""
            },
            "type": "contourcarpet"
           }
          ],
          "heatmap": [
           {
            "colorbar": {
             "outlinewidth": 0,
             "ticks": ""
            },
            "colorscale": [
             [
              0,
              "#0d0887"
             ],
             [
              0.1111111111111111,
              "#46039f"
             ],
             [
              0.2222222222222222,
              "#7201a8"
             ],
             [
              0.3333333333333333,
              "#9c179e"
             ],
             [
              0.4444444444444444,
              "#bd3786"
             ],
             [
              0.5555555555555556,
              "#d8576b"
             ],
             [
              0.6666666666666666,
              "#ed7953"
             ],
             [
              0.7777777777777778,
              "#fb9f3a"
             ],
             [
              0.8888888888888888,
              "#fdca26"
             ],
             [
              1,
              "#f0f921"
             ]
            ],
            "type": "heatmap"
           }
          ],
          "heatmapgl": [
           {
            "colorbar": {
             "outlinewidth": 0,
             "ticks": ""
            },
            "colorscale": [
             [
              0,
              "#0d0887"
             ],
             [
              0.1111111111111111,
              "#46039f"
             ],
             [
              0.2222222222222222,
              "#7201a8"
             ],
             [
              0.3333333333333333,
              "#9c179e"
             ],
             [
              0.4444444444444444,
              "#bd3786"
             ],
             [
              0.5555555555555556,
              "#d8576b"
             ],
             [
              0.6666666666666666,
              "#ed7953"
             ],
             [
              0.7777777777777778,
              "#fb9f3a"
             ],
             [
              0.8888888888888888,
              "#fdca26"
             ],
             [
              1,
              "#f0f921"
             ]
            ],
            "type": "heatmapgl"
           }
          ],
          "histogram": [
           {
            "marker": {
             "pattern": {
              "fillmode": "overlay",
              "size": 10,
              "solidity": 0.2
             }
            },
            "type": "histogram"
           }
          ],
          "histogram2d": [
           {
            "colorbar": {
             "outlinewidth": 0,
             "ticks": ""
            },
            "colorscale": [
             [
              0,
              "#0d0887"
             ],
             [
              0.1111111111111111,
              "#46039f"
             ],
             [
              0.2222222222222222,
              "#7201a8"
             ],
             [
              0.3333333333333333,
              "#9c179e"
             ],
             [
              0.4444444444444444,
              "#bd3786"
             ],
             [
              0.5555555555555556,
              "#d8576b"
             ],
             [
              0.6666666666666666,
              "#ed7953"
             ],
             [
              0.7777777777777778,
              "#fb9f3a"
             ],
             [
              0.8888888888888888,
              "#fdca26"
             ],
             [
              1,
              "#f0f921"
             ]
            ],
            "type": "histogram2d"
           }
          ],
          "histogram2dcontour": [
           {
            "colorbar": {
             "outlinewidth": 0,
             "ticks": ""
            },
            "colorscale": [
             [
              0,
              "#0d0887"
             ],
             [
              0.1111111111111111,
              "#46039f"
             ],
             [
              0.2222222222222222,
              "#7201a8"
             ],
             [
              0.3333333333333333,
              "#9c179e"
             ],
             [
              0.4444444444444444,
              "#bd3786"
             ],
             [
              0.5555555555555556,
              "#d8576b"
             ],
             [
              0.6666666666666666,
              "#ed7953"
             ],
             [
              0.7777777777777778,
              "#fb9f3a"
             ],
             [
              0.8888888888888888,
              "#fdca26"
             ],
             [
              1,
              "#f0f921"
             ]
            ],
            "type": "histogram2dcontour"
           }
          ],
          "mesh3d": [
           {
            "colorbar": {
             "outlinewidth": 0,
             "ticks": ""
            },
            "type": "mesh3d"
           }
          ],
          "parcoords": [
           {
            "line": {
             "colorbar": {
              "outlinewidth": 0,
              "ticks": ""
             }
            },
            "type": "parcoords"
           }
          ],
          "pie": [
           {
            "automargin": true,
            "type": "pie"
           }
          ],
          "scatter": [
           {
            "fillpattern": {
             "fillmode": "overlay",
             "size": 10,
             "solidity": 0.2
            },
            "type": "scatter"
           }
          ],
          "scatter3d": [
           {
            "line": {
             "colorbar": {
              "outlinewidth": 0,
              "ticks": ""
             }
            },
            "marker": {
             "colorbar": {
              "outlinewidth": 0,
              "ticks": ""
             }
            },
            "type": "scatter3d"
           }
          ],
          "scattercarpet": [
           {
            "marker": {
             "colorbar": {
              "outlinewidth": 0,
              "ticks": ""
             }
            },
            "type": "scattercarpet"
           }
          ],
          "scattergeo": [
           {
            "marker": {
             "colorbar": {
              "outlinewidth": 0,
              "ticks": ""
             }
            },
            "type": "scattergeo"
           }
          ],
          "scattergl": [
           {
            "marker": {
             "colorbar": {
              "outlinewidth": 0,
              "ticks": ""
             }
            },
            "type": "scattergl"
           }
          ],
          "scattermapbox": [
           {
            "marker": {
             "colorbar": {
              "outlinewidth": 0,
              "ticks": ""
             }
            },
            "type": "scattermapbox"
           }
          ],
          "scatterpolar": [
           {
            "marker": {
             "colorbar": {
              "outlinewidth": 0,
              "ticks": ""
             }
            },
            "type": "scatterpolar"
           }
          ],
          "scatterpolargl": [
           {
            "marker": {
             "colorbar": {
              "outlinewidth": 0,
              "ticks": ""
             }
            },
            "type": "scatterpolargl"
           }
          ],
          "scatterternary": [
           {
            "marker": {
             "colorbar": {
              "outlinewidth": 0,
              "ticks": ""
             }
            },
            "type": "scatterternary"
           }
          ],
          "surface": [
           {
            "colorbar": {
             "outlinewidth": 0,
             "ticks": ""
            },
            "colorscale": [
             [
              0,
              "#0d0887"
             ],
             [
              0.1111111111111111,
              "#46039f"
             ],
             [
              0.2222222222222222,
              "#7201a8"
             ],
             [
              0.3333333333333333,
              "#9c179e"
             ],
             [
              0.4444444444444444,
              "#bd3786"
             ],
             [
              0.5555555555555556,
              "#d8576b"
             ],
             [
              0.6666666666666666,
              "#ed7953"
             ],
             [
              0.7777777777777778,
              "#fb9f3a"
             ],
             [
              0.8888888888888888,
              "#fdca26"
             ],
             [
              1,
              "#f0f921"
             ]
            ],
            "type": "surface"
           }
          ],
          "table": [
           {
            "cells": {
             "fill": {
              "color": "#EBF0F8"
             },
             "line": {
              "color": "white"
             }
            },
            "header": {
             "fill": {
              "color": "#C8D4E3"
             },
             "line": {
              "color": "white"
             }
            },
            "type": "table"
           }
          ]
         },
         "layout": {
          "annotationdefaults": {
           "arrowcolor": "#2a3f5f",
           "arrowhead": 0,
           "arrowwidth": 1
          },
          "autotypenumbers": "strict",
          "coloraxis": {
           "colorbar": {
            "outlinewidth": 0,
            "ticks": ""
           }
          },
          "colorscale": {
           "diverging": [
            [
             0,
             "#8e0152"
            ],
            [
             0.1,
             "#c51b7d"
            ],
            [
             0.2,
             "#de77ae"
            ],
            [
             0.3,
             "#f1b6da"
            ],
            [
             0.4,
             "#fde0ef"
            ],
            [
             0.5,
             "#f7f7f7"
            ],
            [
             0.6,
             "#e6f5d0"
            ],
            [
             0.7,
             "#b8e186"
            ],
            [
             0.8,
             "#7fbc41"
            ],
            [
             0.9,
             "#4d9221"
            ],
            [
             1,
             "#276419"
            ]
           ],
           "sequential": [
            [
             0,
             "#0d0887"
            ],
            [
             0.1111111111111111,
             "#46039f"
            ],
            [
             0.2222222222222222,
             "#7201a8"
            ],
            [
             0.3333333333333333,
             "#9c179e"
            ],
            [
             0.4444444444444444,
             "#bd3786"
            ],
            [
             0.5555555555555556,
             "#d8576b"
            ],
            [
             0.6666666666666666,
             "#ed7953"
            ],
            [
             0.7777777777777778,
             "#fb9f3a"
            ],
            [
             0.8888888888888888,
             "#fdca26"
            ],
            [
             1,
             "#f0f921"
            ]
           ],
           "sequentialminus": [
            [
             0,
             "#0d0887"
            ],
            [
             0.1111111111111111,
             "#46039f"
            ],
            [
             0.2222222222222222,
             "#7201a8"
            ],
            [
             0.3333333333333333,
             "#9c179e"
            ],
            [
             0.4444444444444444,
             "#bd3786"
            ],
            [
             0.5555555555555556,
             "#d8576b"
            ],
            [
             0.6666666666666666,
             "#ed7953"
            ],
            [
             0.7777777777777778,
             "#fb9f3a"
            ],
            [
             0.8888888888888888,
             "#fdca26"
            ],
            [
             1,
             "#f0f921"
            ]
           ]
          },
          "colorway": [
           "#636efa",
           "#EF553B",
           "#00cc96",
           "#ab63fa",
           "#FFA15A",
           "#19d3f3",
           "#FF6692",
           "#B6E880",
           "#FF97FF",
           "#FECB52"
          ],
          "font": {
           "color": "#2a3f5f"
          },
          "geo": {
           "bgcolor": "white",
           "lakecolor": "white",
           "landcolor": "#E5ECF6",
           "showlakes": true,
           "showland": true,
           "subunitcolor": "white"
          },
          "hoverlabel": {
           "align": "left"
          },
          "hovermode": "closest",
          "mapbox": {
           "style": "light"
          },
          "paper_bgcolor": "white",
          "plot_bgcolor": "#E5ECF6",
          "polar": {
           "angularaxis": {
            "gridcolor": "white",
            "linecolor": "white",
            "ticks": ""
           },
           "bgcolor": "#E5ECF6",
           "radialaxis": {
            "gridcolor": "white",
            "linecolor": "white",
            "ticks": ""
           }
          },
          "scene": {
           "xaxis": {
            "backgroundcolor": "#E5ECF6",
            "gridcolor": "white",
            "gridwidth": 2,
            "linecolor": "white",
            "showbackground": true,
            "ticks": "",
            "zerolinecolor": "white"
           },
           "yaxis": {
            "backgroundcolor": "#E5ECF6",
            "gridcolor": "white",
            "gridwidth": 2,
            "linecolor": "white",
            "showbackground": true,
            "ticks": "",
            "zerolinecolor": "white"
           },
           "zaxis": {
            "backgroundcolor": "#E5ECF6",
            "gridcolor": "white",
            "gridwidth": 2,
            "linecolor": "white",
            "showbackground": true,
            "ticks": "",
            "zerolinecolor": "white"
           }
          },
          "shapedefaults": {
           "line": {
            "color": "#2a3f5f"
           }
          },
          "ternary": {
           "aaxis": {
            "gridcolor": "white",
            "linecolor": "white",
            "ticks": ""
           },
           "baxis": {
            "gridcolor": "white",
            "linecolor": "white",
            "ticks": ""
           },
           "bgcolor": "#E5ECF6",
           "caxis": {
            "gridcolor": "white",
            "linecolor": "white",
            "ticks": ""
           }
          },
          "title": {
           "x": 0.05
          },
          "xaxis": {
           "automargin": true,
           "gridcolor": "white",
           "linecolor": "white",
           "ticks": "",
           "title": {
            "standoff": 15
           },
           "zerolinecolor": "white",
           "zerolinewidth": 2
          },
          "yaxis": {
           "automargin": true,
           "gridcolor": "white",
           "linecolor": "white",
           "ticks": "",
           "title": {
            "standoff": 15
           },
           "zerolinecolor": "white",
           "zerolinewidth": 2
          }
         }
        },
        "title": {
         "font": {
          "size": 16
         },
         "text": "Personal Feature Activation Heatmap by Prompt Category",
         "x": 0.5,
         "xanchor": "center"
        },
        "width": 1340,
        "xaxis": {
         "showgrid": false,
         "side": "bottom",
         "tickangle": 45,
         "tickfont": {
          "size": 10
         },
         "title": {
          "text": "Feature ID"
         },
         "zeroline": false
        },
        "yaxis": {
         "autorange": "reversed",
         "showgrid": false,
         "tickfont": {
          "size": 12
         },
         "title": {
          "text": "Prompt Category"
         },
         "zeroline": false
        }
       }
      },
      "text/html": [
       "<div>                            <div id=\"b1e5e2b1-18d3-4879-95a1-53c05e4a6b0b\" class=\"plotly-graph-div\" style=\"height:570px; width:1340px;\"></div>            <script type=\"text/javascript\">                require([\"plotly\"], function(Plotly) {                    window.PLOTLYENV=window.PLOTLYENV || {};                                    if (document.getElementById(\"b1e5e2b1-18d3-4879-95a1-53c05e4a6b0b\")) {                    Plotly.newPlot(                        \"b1e5e2b1-18d3-4879-95a1-53c05e4a6b0b\",                        [{\"colorscale\":[[0.0,\"#440154\"],[0.1111111111111111,\"#482878\"],[0.2222222222222222,\"#3e4989\"],[0.3333333333333333,\"#31688e\"],[0.4444444444444444,\"#26828e\"],[0.5555555555555556,\"#1f9e89\"],[0.6666666666666666,\"#35b779\"],[0.7777777777777778,\"#6ece58\"],[0.8888888888888888,\"#b5de2b\"],[1.0,\"#fde725\"]],\"hoverongaps\":false,\"showscale\":true,\"text\":[[\"\",\"3.814\",\"\",\"\",\"\",\"\",\"\",\"0.4\",\"3.209\",\"5.871\",\"1.537\",\"0.354\",\"\",\"8.808\",\"\",\"\",\"\",\"\",\"1.829\"],[\"\",\"\",\"1.418\",\"\",\"\",\"\",\"\",\"\",\"\",\"2.943\",\"1.489\",\"\",\"\",\"4.244\",\"\",\"\",\"\",\"\",\"1.609\"],[\"\",\"2.673\",\"\",\"1.681\",\"\",\"\",\"1.336\",\"\",\"3.282\",\"2.122\",\"1.617\",\"0.417\",\"1.325\",\"6.234\",\"2.892\",\"1.609\",\"1.394\",\"\",\"\"],[\"\",\"\",\"\",\"\",\"\",\"\",\"\",\"\",\"\",\"6.346\",\"1.621\",\"\",\"\",\"3.609\",\"\",\"\",\"\",\"\",\"\"],[\"\",\"\",\"\",\"\",\"\",\"\",\"\",\"\",\"\",\"2.331\",\"1.411\",\"\",\"\",\"2.561\",\"\",\"\",\"\",\"0.243\",\"\"],[\"\",\"\",\"\",\"\",\"0.31\",\"\",\"\",\"\",\"\",\"\",\"\",\"\",\"\",\"6.417\",\"\",\"\",\"\",\"0.39\",\"\"],[\"1.513\",\"2.012\",\"\",\"1.317\",\"\",\"1.646\",\"\",\"\",\"1.975\",\"3.948\",\"\",\"\",\"\",\"2.077\",\"\",\"\",\"\",\"\",\"\"]],\"textfont\":{\"color\":\"white\",\"size\":10},\"texttemplate\":\"%{text}\",\"x\":[\"6704\",\"9953\",\"16030\",\"18703\",\"27476\",\"29717\",\"30068\",\"47776\",\"48045\",\"49123\",\"49925\",\"59035\",\"68574\",\"81528\",\"88910\",\"90235\",\"91607\",\"126716\",\"130794\"],\"y\":[\"analysis\",\"code\",\"creative\",\"math\",\"medical\",\"therapy\",\"trivia\"],\"z\":[[null,3.814248204231262,null,null,null,null,null,0.4001805782318115,3.2094056946890697,5.870677423477173,1.5373872915903728,0.35367197295029956,null,8.808013916015625,null,null,null,null,1.8287134170532227],[null,null,1.4175256490707397,null,null,null,null,null,null,2.942979885981633,1.488579511642456,null,null,4.2441307544708256,null,null,null,null,1.6091336250305175],[null,2.673282586611234,null,1.6809744305080838,null,null,1.336164951324463,null,3.282412052154541,2.1219154596328735,1.6168457508087157,0.4169946312904358,1.3254282474517822,6.2336342334747314,2.891632318496704,1.6085527737935383,1.3936257362365723,null,null],[null,null,null,null,null,null,null,null,null,6.345572924613952,1.6207880973815918,null,null,3.608804075341476,null,null,null,null,null],[null,null,null,null,null,null,null,null,null,2.3314465946621366,1.411191463470459,null,null,2.5612501596149646,null,null,null,0.24260014295578003,null],[null,null,null,null,0.3104048013687134,null,null,null,null,null,null,null,null,6.416724348068238,null,null,null,0.38954592378515945,null],[1.5130019187927246,2.0116755962371826,null,1.3172242641448975,null,1.6455414295196533,null,null,1.9749436378479004,3.948337657111032,null,null,null,2.0772369503974915,null,null,null,null,null]],\"type\":\"heatmap\",\"hovertemplate\":\"%{hovertext}\\u003cextra\\u003e\\u003c\\u002fextra\\u003e\",\"hovertext\":[[\"Feature ID: 6704\\u003cbr\\u003ePrompt Category: analysis\\u003cbr\\u003eNo activation data\\u003cbr\\u003eFeature Type: semantic\\u003cbr\\u003eDescription: This feature detects structural formatting patterns and transitions in text, particularly the newline character following assistant response markers i...\",\"Feature ID: 9953\\u003cbr\\u003ePrompt Category: analysis\\u003cbr\\u003eMean Activation: 3.8142\\u003cbr\\u003eFeature Type: semantic\\u003cbr\\u003eDescription: This feature detects references to or instances of \\\"one sentence\\\" or \\\"one line\\\" constructions, activating when text discusses, requests, or contains s...\",\"Feature ID: 16030\\u003cbr\\u003ePrompt Category: analysis\\u003cbr\\u003eNo activation data\\u003cbr\\u003eFeature Type: semantic\\u003cbr\\u003eDescription: This feature detects language related to perspectives, viewpoints, and angles - both in literal visual contexts (camera angles, photography) and abstr...\",\"Feature ID: 18703\\u003cbr\\u003ePrompt Category: analysis\\u003cbr\\u003eNo activation data\\u003cbr\\u003eFeature Type: semantic\\u003cbr\\u003eDescription: This feature detects first-person self-referential language, particularly when AI systems, fictional characters, or narrators describe themselves, the...\",\"Feature ID: 27476\\u003cbr\\u003ePrompt Category: analysis\\u003cbr\\u003eNo activation data\\u003cbr\\u003eFeature Type: semantic\\u003cbr\\u003eDescription: This feature detects technical gaming and programming contexts, particularly activating on discussions about video games that involve programming elem...\",\"Feature ID: 29717\\u003cbr\\u003ePrompt Category: analysis\\u003cbr\\u003eNo activation data\\u003cbr\\u003eFeature Type: semantic\\u003cbr\\u003eDescription: This feature detects patterns of identity declaration and self-identification, particularly when AI assistants introduce themselves or are asked about...\",\"Feature ID: 30068\\u003cbr\\u003ePrompt Category: analysis\\u003cbr\\u003eNo activation data\\u003cbr\\u003eFeature Type: semantic\\u003cbr\\u003eDescription: This feature detects discussions of Asimov's Laws of Robotics and related concepts about ethical constraints on robot behavior, particularly activatin...\",\"Feature ID: 47776\\u003cbr\\u003ePrompt Category: analysis\\u003cbr\\u003eMean Activation: 0.4002\\u003cbr\\u003eFeature Type: semantic\\u003cbr\\u003eDescription: This feature detects text related to linguistic analysis tasks, particularly part-of-speech tagging, parsing, and other natural language processing op...\",\"Feature ID: 48045\\u003cbr\\u003ePrompt Category: analysis\\u003cbr\\u003eMean Activation: 3.2094\\u003cbr\\u003eFeature Type: semantic\\u003cbr\\u003eDescription: This feature detects introductions and introductory content, including company introductions, article leads, and explanatory passages that present or ...\",\"Feature ID: 49123\\u003cbr\\u003ePrompt Category: analysis\\u003cbr\\u003eMean Activation: 5.8707\\u003cbr\\u003eFeature Type: semantic\\u003cbr\\u003eDescription: This feature detects the structural transition point where responses or answers begin, particularly activating on newline characters that mark the sta...\",\"Feature ID: 49925\\u003cbr\\u003ePrompt Category: analysis\\u003cbr\\u003eMean Activation: 1.5374\\u003cbr\\u003eFeature Type: semantic\\u003cbr\\u003eDescription: This feature detects conversational continuation patterns, particularly activating at the start of follow-up responses in multi-turn dialogues or stru...\",\"Feature ID: 59035\\u003cbr\\u003ePrompt Category: analysis\\u003cbr\\u003eMean Activation: 0.3537\\u003cbr\\u003eFeature Type: semantic\\u003cbr\\u003eDescription: This feature detects structured formatting patterns, particularly role-playing instructions in chat contexts and structured data format specifications...\",\"Feature ID: 68574\\u003cbr\\u003ePrompt Category: analysis\\u003cbr\\u003eNo activation data\\u003cbr\\u003eFeature Type: semantic\\u003cbr\\u003eDescription: This feature detects formatting transitions and structural boundaries in text, particularly activating on newline characters and formatting markers th...\",\"Feature ID: 81528\\u003cbr\\u003ePrompt Category: analysis\\u003cbr\\u003eMean Activation: 8.8080\\u003cbr\\u003eFeature Type: semantic\\u003cbr\\u003eDescription: This feature detects AI-generated or AI-assisted text, particularly in contexts where users request articles, blog posts, or other written content wit...\",\"Feature ID: 88910\\u003cbr\\u003ePrompt Category: analysis\\u003cbr\\u003eNo activation data\\u003cbr\\u003eFeature Type: semantic\\u003cbr\\u003eDescription: This feature detects harmful, inappropriate, or unethical content, particularly attempts to bypass AI safety measures and requests for inappropriate r...\",\"Feature ID: 90235\\u003cbr\\u003ePrompt Category: analysis\\u003cbr\\u003eNo activation data\\u003cbr\\u003eFeature Type: behavior\\u003cbr\\u003eDescription: This feature detects content related to role-playing, impersonation, and acting as characters or personas, including requests for such behavior and de...\",\"Feature ID: 91607\\u003cbr\\u003ePrompt Category: analysis\\u003cbr\\u003eNo activation data\\u003cbr\\u003eFeature Type: semantic\\u003cbr\\u003eDescription: This feature detects discussions of innovation, creativity, and progressive development, including contexts about fostering innovation, technological ...\",\"Feature ID: 126716\\u003cbr\\u003ePrompt Category: analysis\\u003cbr\\u003eNo activation data\\u003cbr\\u003eFeature Type: semantic\\u003cbr\\u003eDescription: This feature detects sexual content, particularly inappropriate, exploitative, or non-consensual sexual scenarios and requests.\",\"Feature ID: 130794\\u003cbr\\u003ePrompt Category: analysis\\u003cbr\\u003eMean Activation: 1.8287\\u003cbr\\u003eFeature Type: entity\\u003cbr\\u003eDescription: This feature detects mentions of \\\"assistant\\\" as a role or entity, particularly in AI chat contexts and job\\u002fprofessional titles.\"],[\"Feature ID: 6704\\u003cbr\\u003ePrompt Category: code\\u003cbr\\u003eNo activation data\\u003cbr\\u003eFeature Type: semantic\\u003cbr\\u003eDescription: This feature detects structural formatting patterns and transitions in text, particularly the newline character following assistant response markers i...\",\"Feature ID: 9953\\u003cbr\\u003ePrompt Category: code\\u003cbr\\u003eNo activation data\\u003cbr\\u003eFeature Type: semantic\\u003cbr\\u003eDescription: This feature detects references to or instances of \\\"one sentence\\\" or \\\"one line\\\" constructions, activating when text discusses, requests, or contains s...\",\"Feature ID: 16030\\u003cbr\\u003ePrompt Category: code\\u003cbr\\u003eMean Activation: 1.4175\\u003cbr\\u003eFeature Type: semantic\\u003cbr\\u003eDescription: This feature detects language related to perspectives, viewpoints, and angles - both in literal visual contexts (camera angles, photography) and abstr...\",\"Feature ID: 18703\\u003cbr\\u003ePrompt Category: code\\u003cbr\\u003eNo activation data\\u003cbr\\u003eFeature Type: semantic\\u003cbr\\u003eDescription: This feature detects first-person self-referential language, particularly when AI systems, fictional characters, or narrators describe themselves, the...\",\"Feature ID: 27476\\u003cbr\\u003ePrompt Category: code\\u003cbr\\u003eNo activation data\\u003cbr\\u003eFeature Type: semantic\\u003cbr\\u003eDescription: This feature detects technical gaming and programming contexts, particularly activating on discussions about video games that involve programming elem...\",\"Feature ID: 29717\\u003cbr\\u003ePrompt Category: code\\u003cbr\\u003eNo activation data\\u003cbr\\u003eFeature Type: semantic\\u003cbr\\u003eDescription: This feature detects patterns of identity declaration and self-identification, particularly when AI assistants introduce themselves or are asked about...\",\"Feature ID: 30068\\u003cbr\\u003ePrompt Category: code\\u003cbr\\u003eNo activation data\\u003cbr\\u003eFeature Type: semantic\\u003cbr\\u003eDescription: This feature detects discussions of Asimov's Laws of Robotics and related concepts about ethical constraints on robot behavior, particularly activatin...\",\"Feature ID: 47776\\u003cbr\\u003ePrompt Category: code\\u003cbr\\u003eNo activation data\\u003cbr\\u003eFeature Type: semantic\\u003cbr\\u003eDescription: This feature detects text related to linguistic analysis tasks, particularly part-of-speech tagging, parsing, and other natural language processing op...\",\"Feature ID: 48045\\u003cbr\\u003ePrompt Category: code\\u003cbr\\u003eNo activation data\\u003cbr\\u003eFeature Type: semantic\\u003cbr\\u003eDescription: This feature detects introductions and introductory content, including company introductions, article leads, and explanatory passages that present or ...\",\"Feature ID: 49123\\u003cbr\\u003ePrompt Category: code\\u003cbr\\u003eMean Activation: 2.9430\\u003cbr\\u003eFeature Type: semantic\\u003cbr\\u003eDescription: This feature detects the structural transition point where responses or answers begin, particularly activating on newline characters that mark the sta...\",\"Feature ID: 49925\\u003cbr\\u003ePrompt Category: code\\u003cbr\\u003eMean Activation: 1.4886\\u003cbr\\u003eFeature Type: semantic\\u003cbr\\u003eDescription: This feature detects conversational continuation patterns, particularly activating at the start of follow-up responses in multi-turn dialogues or stru...\",\"Feature ID: 59035\\u003cbr\\u003ePrompt Category: code\\u003cbr\\u003eNo activation data\\u003cbr\\u003eFeature Type: semantic\\u003cbr\\u003eDescription: This feature detects structured formatting patterns, particularly role-playing instructions in chat contexts and structured data format specifications...\",\"Feature ID: 68574\\u003cbr\\u003ePrompt Category: code\\u003cbr\\u003eNo activation data\\u003cbr\\u003eFeature Type: semantic\\u003cbr\\u003eDescription: This feature detects formatting transitions and structural boundaries in text, particularly activating on newline characters and formatting markers th...\",\"Feature ID: 81528\\u003cbr\\u003ePrompt Category: code\\u003cbr\\u003eMean Activation: 4.2441\\u003cbr\\u003eFeature Type: semantic\\u003cbr\\u003eDescription: This feature detects AI-generated or AI-assisted text, particularly in contexts where users request articles, blog posts, or other written content wit...\",\"Feature ID: 88910\\u003cbr\\u003ePrompt Category: code\\u003cbr\\u003eNo activation data\\u003cbr\\u003eFeature Type: semantic\\u003cbr\\u003eDescription: This feature detects harmful, inappropriate, or unethical content, particularly attempts to bypass AI safety measures and requests for inappropriate r...\",\"Feature ID: 90235\\u003cbr\\u003ePrompt Category: code\\u003cbr\\u003eNo activation data\\u003cbr\\u003eFeature Type: behavior\\u003cbr\\u003eDescription: This feature detects content related to role-playing, impersonation, and acting as characters or personas, including requests for such behavior and de...\",\"Feature ID: 91607\\u003cbr\\u003ePrompt Category: code\\u003cbr\\u003eNo activation data\\u003cbr\\u003eFeature Type: semantic\\u003cbr\\u003eDescription: This feature detects discussions of innovation, creativity, and progressive development, including contexts about fostering innovation, technological ...\",\"Feature ID: 126716\\u003cbr\\u003ePrompt Category: code\\u003cbr\\u003eNo activation data\\u003cbr\\u003eFeature Type: semantic\\u003cbr\\u003eDescription: This feature detects sexual content, particularly inappropriate, exploitative, or non-consensual sexual scenarios and requests.\",\"Feature ID: 130794\\u003cbr\\u003ePrompt Category: code\\u003cbr\\u003eMean Activation: 1.6091\\u003cbr\\u003eFeature Type: entity\\u003cbr\\u003eDescription: This feature detects mentions of \\\"assistant\\\" as a role or entity, particularly in AI chat contexts and job\\u002fprofessional titles.\"],[\"Feature ID: 6704\\u003cbr\\u003ePrompt Category: creative\\u003cbr\\u003eNo activation data\\u003cbr\\u003eFeature Type: semantic\\u003cbr\\u003eDescription: This feature detects structural formatting patterns and transitions in text, particularly the newline character following assistant response markers i...\",\"Feature ID: 9953\\u003cbr\\u003ePrompt Category: creative\\u003cbr\\u003eMean Activation: 2.6733\\u003cbr\\u003eFeature Type: semantic\\u003cbr\\u003eDescription: This feature detects references to or instances of \\\"one sentence\\\" or \\\"one line\\\" constructions, activating when text discusses, requests, or contains s...\",\"Feature ID: 16030\\u003cbr\\u003ePrompt Category: creative\\u003cbr\\u003eNo activation data\\u003cbr\\u003eFeature Type: semantic\\u003cbr\\u003eDescription: This feature detects language related to perspectives, viewpoints, and angles - both in literal visual contexts (camera angles, photography) and abstr...\",\"Feature ID: 18703\\u003cbr\\u003ePrompt Category: creative\\u003cbr\\u003eMean Activation: 1.6810\\u003cbr\\u003eFeature Type: semantic\\u003cbr\\u003eDescription: This feature detects first-person self-referential language, particularly when AI systems, fictional characters, or narrators describe themselves, the...\",\"Feature ID: 27476\\u003cbr\\u003ePrompt Category: creative\\u003cbr\\u003eNo activation data\\u003cbr\\u003eFeature Type: semantic\\u003cbr\\u003eDescription: This feature detects technical gaming and programming contexts, particularly activating on discussions about video games that involve programming elem...\",\"Feature ID: 29717\\u003cbr\\u003ePrompt Category: creative\\u003cbr\\u003eNo activation data\\u003cbr\\u003eFeature Type: semantic\\u003cbr\\u003eDescription: This feature detects patterns of identity declaration and self-identification, particularly when AI assistants introduce themselves or are asked about...\",\"Feature ID: 30068\\u003cbr\\u003ePrompt Category: creative\\u003cbr\\u003eMean Activation: 1.3362\\u003cbr\\u003eFeature Type: semantic\\u003cbr\\u003eDescription: This feature detects discussions of Asimov's Laws of Robotics and related concepts about ethical constraints on robot behavior, particularly activatin...\",\"Feature ID: 47776\\u003cbr\\u003ePrompt Category: creative\\u003cbr\\u003eNo activation data\\u003cbr\\u003eFeature Type: semantic\\u003cbr\\u003eDescription: This feature detects text related to linguistic analysis tasks, particularly part-of-speech tagging, parsing, and other natural language processing op...\",\"Feature ID: 48045\\u003cbr\\u003ePrompt Category: creative\\u003cbr\\u003eMean Activation: 3.2824\\u003cbr\\u003eFeature Type: semantic\\u003cbr\\u003eDescription: This feature detects introductions and introductory content, including company introductions, article leads, and explanatory passages that present or ...\",\"Feature ID: 49123\\u003cbr\\u003ePrompt Category: creative\\u003cbr\\u003eMean Activation: 2.1219\\u003cbr\\u003eFeature Type: semantic\\u003cbr\\u003eDescription: This feature detects the structural transition point where responses or answers begin, particularly activating on newline characters that mark the sta...\",\"Feature ID: 49925\\u003cbr\\u003ePrompt Category: creative\\u003cbr\\u003eMean Activation: 1.6168\\u003cbr\\u003eFeature Type: semantic\\u003cbr\\u003eDescription: This feature detects conversational continuation patterns, particularly activating at the start of follow-up responses in multi-turn dialogues or stru...\",\"Feature ID: 59035\\u003cbr\\u003ePrompt Category: creative\\u003cbr\\u003eMean Activation: 0.4170\\u003cbr\\u003eFeature Type: semantic\\u003cbr\\u003eDescription: This feature detects structured formatting patterns, particularly role-playing instructions in chat contexts and structured data format specifications...\",\"Feature ID: 68574\\u003cbr\\u003ePrompt Category: creative\\u003cbr\\u003eMean Activation: 1.3254\\u003cbr\\u003eFeature Type: semantic\\u003cbr\\u003eDescription: This feature detects formatting transitions and structural boundaries in text, particularly activating on newline characters and formatting markers th...\",\"Feature ID: 81528\\u003cbr\\u003ePrompt Category: creative\\u003cbr\\u003eMean Activation: 6.2336\\u003cbr\\u003eFeature Type: semantic\\u003cbr\\u003eDescription: This feature detects AI-generated or AI-assisted text, particularly in contexts where users request articles, blog posts, or other written content wit...\",\"Feature ID: 88910\\u003cbr\\u003ePrompt Category: creative\\u003cbr\\u003eMean Activation: 2.8916\\u003cbr\\u003eFeature Type: semantic\\u003cbr\\u003eDescription: This feature detects harmful, inappropriate, or unethical content, particularly attempts to bypass AI safety measures and requests for inappropriate r...\",\"Feature ID: 90235\\u003cbr\\u003ePrompt Category: creative\\u003cbr\\u003eMean Activation: 1.6086\\u003cbr\\u003eFeature Type: behavior\\u003cbr\\u003eDescription: This feature detects content related to role-playing, impersonation, and acting as characters or personas, including requests for such behavior and de...\",\"Feature ID: 91607\\u003cbr\\u003ePrompt Category: creative\\u003cbr\\u003eMean Activation: 1.3936\\u003cbr\\u003eFeature Type: semantic\\u003cbr\\u003eDescription: This feature detects discussions of innovation, creativity, and progressive development, including contexts about fostering innovation, technological ...\",\"Feature ID: 126716\\u003cbr\\u003ePrompt Category: creative\\u003cbr\\u003eNo activation data\\u003cbr\\u003eFeature Type: semantic\\u003cbr\\u003eDescription: This feature detects sexual content, particularly inappropriate, exploitative, or non-consensual sexual scenarios and requests.\",\"Feature ID: 130794\\u003cbr\\u003ePrompt Category: creative\\u003cbr\\u003eNo activation data\\u003cbr\\u003eFeature Type: entity\\u003cbr\\u003eDescription: This feature detects mentions of \\\"assistant\\\" as a role or entity, particularly in AI chat contexts and job\\u002fprofessional titles.\"],[\"Feature ID: 6704\\u003cbr\\u003ePrompt Category: math\\u003cbr\\u003eNo activation data\\u003cbr\\u003eFeature Type: semantic\\u003cbr\\u003eDescription: This feature detects structural formatting patterns and transitions in text, particularly the newline character following assistant response markers i...\",\"Feature ID: 9953\\u003cbr\\u003ePrompt Category: math\\u003cbr\\u003eNo activation data\\u003cbr\\u003eFeature Type: semantic\\u003cbr\\u003eDescription: This feature detects references to or instances of \\\"one sentence\\\" or \\\"one line\\\" constructions, activating when text discusses, requests, or contains s...\",\"Feature ID: 16030\\u003cbr\\u003ePrompt Category: math\\u003cbr\\u003eNo activation data\\u003cbr\\u003eFeature Type: semantic\\u003cbr\\u003eDescription: This feature detects language related to perspectives, viewpoints, and angles - both in literal visual contexts (camera angles, photography) and abstr...\",\"Feature ID: 18703\\u003cbr\\u003ePrompt Category: math\\u003cbr\\u003eNo activation data\\u003cbr\\u003eFeature Type: semantic\\u003cbr\\u003eDescription: This feature detects first-person self-referential language, particularly when AI systems, fictional characters, or narrators describe themselves, the...\",\"Feature ID: 27476\\u003cbr\\u003ePrompt Category: math\\u003cbr\\u003eNo activation data\\u003cbr\\u003eFeature Type: semantic\\u003cbr\\u003eDescription: This feature detects technical gaming and programming contexts, particularly activating on discussions about video games that involve programming elem...\",\"Feature ID: 29717\\u003cbr\\u003ePrompt Category: math\\u003cbr\\u003eNo activation data\\u003cbr\\u003eFeature Type: semantic\\u003cbr\\u003eDescription: This feature detects patterns of identity declaration and self-identification, particularly when AI assistants introduce themselves or are asked about...\",\"Feature ID: 30068\\u003cbr\\u003ePrompt Category: math\\u003cbr\\u003eNo activation data\\u003cbr\\u003eFeature Type: semantic\\u003cbr\\u003eDescription: This feature detects discussions of Asimov's Laws of Robotics and related concepts about ethical constraints on robot behavior, particularly activatin...\",\"Feature ID: 47776\\u003cbr\\u003ePrompt Category: math\\u003cbr\\u003eNo activation data\\u003cbr\\u003eFeature Type: semantic\\u003cbr\\u003eDescription: This feature detects text related to linguistic analysis tasks, particularly part-of-speech tagging, parsing, and other natural language processing op...\",\"Feature ID: 48045\\u003cbr\\u003ePrompt Category: math\\u003cbr\\u003eNo activation data\\u003cbr\\u003eFeature Type: semantic\\u003cbr\\u003eDescription: This feature detects introductions and introductory content, including company introductions, article leads, and explanatory passages that present or ...\",\"Feature ID: 49123\\u003cbr\\u003ePrompt Category: math\\u003cbr\\u003eMean Activation: 6.3456\\u003cbr\\u003eFeature Type: semantic\\u003cbr\\u003eDescription: This feature detects the structural transition point where responses or answers begin, particularly activating on newline characters that mark the sta...\",\"Feature ID: 49925\\u003cbr\\u003ePrompt Category: math\\u003cbr\\u003eMean Activation: 1.6208\\u003cbr\\u003eFeature Type: semantic\\u003cbr\\u003eDescription: This feature detects conversational continuation patterns, particularly activating at the start of follow-up responses in multi-turn dialogues or stru...\",\"Feature ID: 59035\\u003cbr\\u003ePrompt Category: math\\u003cbr\\u003eNo activation data\\u003cbr\\u003eFeature Type: semantic\\u003cbr\\u003eDescription: This feature detects structured formatting patterns, particularly role-playing instructions in chat contexts and structured data format specifications...\",\"Feature ID: 68574\\u003cbr\\u003ePrompt Category: math\\u003cbr\\u003eNo activation data\\u003cbr\\u003eFeature Type: semantic\\u003cbr\\u003eDescription: This feature detects formatting transitions and structural boundaries in text, particularly activating on newline characters and formatting markers th...\",\"Feature ID: 81528\\u003cbr\\u003ePrompt Category: math\\u003cbr\\u003eMean Activation: 3.6088\\u003cbr\\u003eFeature Type: semantic\\u003cbr\\u003eDescription: This feature detects AI-generated or AI-assisted text, particularly in contexts where users request articles, blog posts, or other written content wit...\",\"Feature ID: 88910\\u003cbr\\u003ePrompt Category: math\\u003cbr\\u003eNo activation data\\u003cbr\\u003eFeature Type: semantic\\u003cbr\\u003eDescription: This feature detects harmful, inappropriate, or unethical content, particularly attempts to bypass AI safety measures and requests for inappropriate r...\",\"Feature ID: 90235\\u003cbr\\u003ePrompt Category: math\\u003cbr\\u003eNo activation data\\u003cbr\\u003eFeature Type: behavior\\u003cbr\\u003eDescription: This feature detects content related to role-playing, impersonation, and acting as characters or personas, including requests for such behavior and de...\",\"Feature ID: 91607\\u003cbr\\u003ePrompt Category: math\\u003cbr\\u003eNo activation data\\u003cbr\\u003eFeature Type: semantic\\u003cbr\\u003eDescription: This feature detects discussions of innovation, creativity, and progressive development, including contexts about fostering innovation, technological ...\",\"Feature ID: 126716\\u003cbr\\u003ePrompt Category: math\\u003cbr\\u003eNo activation data\\u003cbr\\u003eFeature Type: semantic\\u003cbr\\u003eDescription: This feature detects sexual content, particularly inappropriate, exploitative, or non-consensual sexual scenarios and requests.\",\"Feature ID: 130794\\u003cbr\\u003ePrompt Category: math\\u003cbr\\u003eNo activation data\\u003cbr\\u003eFeature Type: entity\\u003cbr\\u003eDescription: This feature detects mentions of \\\"assistant\\\" as a role or entity, particularly in AI chat contexts and job\\u002fprofessional titles.\"],[\"Feature ID: 6704\\u003cbr\\u003ePrompt Category: medical\\u003cbr\\u003eNo activation data\\u003cbr\\u003eFeature Type: semantic\\u003cbr\\u003eDescription: This feature detects structural formatting patterns and transitions in text, particularly the newline character following assistant response markers i...\",\"Feature ID: 9953\\u003cbr\\u003ePrompt Category: medical\\u003cbr\\u003eNo activation data\\u003cbr\\u003eFeature Type: semantic\\u003cbr\\u003eDescription: This feature detects references to or instances of \\\"one sentence\\\" or \\\"one line\\\" constructions, activating when text discusses, requests, or contains s...\",\"Feature ID: 16030\\u003cbr\\u003ePrompt Category: medical\\u003cbr\\u003eNo activation data\\u003cbr\\u003eFeature Type: semantic\\u003cbr\\u003eDescription: This feature detects language related to perspectives, viewpoints, and angles - both in literal visual contexts (camera angles, photography) and abstr...\",\"Feature ID: 18703\\u003cbr\\u003ePrompt Category: medical\\u003cbr\\u003eNo activation data\\u003cbr\\u003eFeature Type: semantic\\u003cbr\\u003eDescription: This feature detects first-person self-referential language, particularly when AI systems, fictional characters, or narrators describe themselves, the...\",\"Feature ID: 27476\\u003cbr\\u003ePrompt Category: medical\\u003cbr\\u003eNo activation data\\u003cbr\\u003eFeature Type: semantic\\u003cbr\\u003eDescription: This feature detects technical gaming and programming contexts, particularly activating on discussions about video games that involve programming elem...\",\"Feature ID: 29717\\u003cbr\\u003ePrompt Category: medical\\u003cbr\\u003eNo activation data\\u003cbr\\u003eFeature Type: semantic\\u003cbr\\u003eDescription: This feature detects patterns of identity declaration and self-identification, particularly when AI assistants introduce themselves or are asked about...\",\"Feature ID: 30068\\u003cbr\\u003ePrompt Category: medical\\u003cbr\\u003eNo activation data\\u003cbr\\u003eFeature Type: semantic\\u003cbr\\u003eDescription: This feature detects discussions of Asimov's Laws of Robotics and related concepts about ethical constraints on robot behavior, particularly activatin...\",\"Feature ID: 47776\\u003cbr\\u003ePrompt Category: medical\\u003cbr\\u003eNo activation data\\u003cbr\\u003eFeature Type: semantic\\u003cbr\\u003eDescription: This feature detects text related to linguistic analysis tasks, particularly part-of-speech tagging, parsing, and other natural language processing op...\",\"Feature ID: 48045\\u003cbr\\u003ePrompt Category: medical\\u003cbr\\u003eNo activation data\\u003cbr\\u003eFeature Type: semantic\\u003cbr\\u003eDescription: This feature detects introductions and introductory content, including company introductions, article leads, and explanatory passages that present or ...\",\"Feature ID: 49123\\u003cbr\\u003ePrompt Category: medical\\u003cbr\\u003eMean Activation: 2.3314\\u003cbr\\u003eFeature Type: semantic\\u003cbr\\u003eDescription: This feature detects the structural transition point where responses or answers begin, particularly activating on newline characters that mark the sta...\",\"Feature ID: 49925\\u003cbr\\u003ePrompt Category: medical\\u003cbr\\u003eMean Activation: 1.4112\\u003cbr\\u003eFeature Type: semantic\\u003cbr\\u003eDescription: This feature detects conversational continuation patterns, particularly activating at the start of follow-up responses in multi-turn dialogues or stru...\",\"Feature ID: 59035\\u003cbr\\u003ePrompt Category: medical\\u003cbr\\u003eNo activation data\\u003cbr\\u003eFeature Type: semantic\\u003cbr\\u003eDescription: This feature detects structured formatting patterns, particularly role-playing instructions in chat contexts and structured data format specifications...\",\"Feature ID: 68574\\u003cbr\\u003ePrompt Category: medical\\u003cbr\\u003eNo activation data\\u003cbr\\u003eFeature Type: semantic\\u003cbr\\u003eDescription: This feature detects formatting transitions and structural boundaries in text, particularly activating on newline characters and formatting markers th...\",\"Feature ID: 81528\\u003cbr\\u003ePrompt Category: medical\\u003cbr\\u003eMean Activation: 2.5613\\u003cbr\\u003eFeature Type: semantic\\u003cbr\\u003eDescription: This feature detects AI-generated or AI-assisted text, particularly in contexts where users request articles, blog posts, or other written content wit...\",\"Feature ID: 88910\\u003cbr\\u003ePrompt Category: medical\\u003cbr\\u003eNo activation data\\u003cbr\\u003eFeature Type: semantic\\u003cbr\\u003eDescription: This feature detects harmful, inappropriate, or unethical content, particularly attempts to bypass AI safety measures and requests for inappropriate r...\",\"Feature ID: 90235\\u003cbr\\u003ePrompt Category: medical\\u003cbr\\u003eNo activation data\\u003cbr\\u003eFeature Type: behavior\\u003cbr\\u003eDescription: This feature detects content related to role-playing, impersonation, and acting as characters or personas, including requests for such behavior and de...\",\"Feature ID: 91607\\u003cbr\\u003ePrompt Category: medical\\u003cbr\\u003eNo activation data\\u003cbr\\u003eFeature Type: semantic\\u003cbr\\u003eDescription: This feature detects discussions of innovation, creativity, and progressive development, including contexts about fostering innovation, technological ...\",\"Feature ID: 126716\\u003cbr\\u003ePrompt Category: medical\\u003cbr\\u003eMean Activation: 0.2426\\u003cbr\\u003eFeature Type: semantic\\u003cbr\\u003eDescription: This feature detects sexual content, particularly inappropriate, exploitative, or non-consensual sexual scenarios and requests.\",\"Feature ID: 130794\\u003cbr\\u003ePrompt Category: medical\\u003cbr\\u003eNo activation data\\u003cbr\\u003eFeature Type: entity\\u003cbr\\u003eDescription: This feature detects mentions of \\\"assistant\\\" as a role or entity, particularly in AI chat contexts and job\\u002fprofessional titles.\"],[\"Feature ID: 6704\\u003cbr\\u003ePrompt Category: therapy\\u003cbr\\u003eNo activation data\\u003cbr\\u003eFeature Type: semantic\\u003cbr\\u003eDescription: This feature detects structural formatting patterns and transitions in text, particularly the newline character following assistant response markers i...\",\"Feature ID: 9953\\u003cbr\\u003ePrompt Category: therapy\\u003cbr\\u003eNo activation data\\u003cbr\\u003eFeature Type: semantic\\u003cbr\\u003eDescription: This feature detects references to or instances of \\\"one sentence\\\" or \\\"one line\\\" constructions, activating when text discusses, requests, or contains s...\",\"Feature ID: 16030\\u003cbr\\u003ePrompt Category: therapy\\u003cbr\\u003eNo activation data\\u003cbr\\u003eFeature Type: semantic\\u003cbr\\u003eDescription: This feature detects language related to perspectives, viewpoints, and angles - both in literal visual contexts (camera angles, photography) and abstr...\",\"Feature ID: 18703\\u003cbr\\u003ePrompt Category: therapy\\u003cbr\\u003eNo activation data\\u003cbr\\u003eFeature Type: semantic\\u003cbr\\u003eDescription: This feature detects first-person self-referential language, particularly when AI systems, fictional characters, or narrators describe themselves, the...\",\"Feature ID: 27476\\u003cbr\\u003ePrompt Category: therapy\\u003cbr\\u003eMean Activation: 0.3104\\u003cbr\\u003eFeature Type: semantic\\u003cbr\\u003eDescription: This feature detects technical gaming and programming contexts, particularly activating on discussions about video games that involve programming elem...\",\"Feature ID: 29717\\u003cbr\\u003ePrompt Category: therapy\\u003cbr\\u003eNo activation data\\u003cbr\\u003eFeature Type: semantic\\u003cbr\\u003eDescription: This feature detects patterns of identity declaration and self-identification, particularly when AI assistants introduce themselves or are asked about...\",\"Feature ID: 30068\\u003cbr\\u003ePrompt Category: therapy\\u003cbr\\u003eNo activation data\\u003cbr\\u003eFeature Type: semantic\\u003cbr\\u003eDescription: This feature detects discussions of Asimov's Laws of Robotics and related concepts about ethical constraints on robot behavior, particularly activatin...\",\"Feature ID: 47776\\u003cbr\\u003ePrompt Category: therapy\\u003cbr\\u003eNo activation data\\u003cbr\\u003eFeature Type: semantic\\u003cbr\\u003eDescription: This feature detects text related to linguistic analysis tasks, particularly part-of-speech tagging, parsing, and other natural language processing op...\",\"Feature ID: 48045\\u003cbr\\u003ePrompt Category: therapy\\u003cbr\\u003eNo activation data\\u003cbr\\u003eFeature Type: semantic\\u003cbr\\u003eDescription: This feature detects introductions and introductory content, including company introductions, article leads, and explanatory passages that present or ...\",\"Feature ID: 49123\\u003cbr\\u003ePrompt Category: therapy\\u003cbr\\u003eNo activation data\\u003cbr\\u003eFeature Type: semantic\\u003cbr\\u003eDescription: This feature detects the structural transition point where responses or answers begin, particularly activating on newline characters that mark the sta...\",\"Feature ID: 49925\\u003cbr\\u003ePrompt Category: therapy\\u003cbr\\u003eNo activation data\\u003cbr\\u003eFeature Type: semantic\\u003cbr\\u003eDescription: This feature detects conversational continuation patterns, particularly activating at the start of follow-up responses in multi-turn dialogues or stru...\",\"Feature ID: 59035\\u003cbr\\u003ePrompt Category: therapy\\u003cbr\\u003eNo activation data\\u003cbr\\u003eFeature Type: semantic\\u003cbr\\u003eDescription: This feature detects structured formatting patterns, particularly role-playing instructions in chat contexts and structured data format specifications...\",\"Feature ID: 68574\\u003cbr\\u003ePrompt Category: therapy\\u003cbr\\u003eNo activation data\\u003cbr\\u003eFeature Type: semantic\\u003cbr\\u003eDescription: This feature detects formatting transitions and structural boundaries in text, particularly activating on newline characters and formatting markers th...\",\"Feature ID: 81528\\u003cbr\\u003ePrompt Category: therapy\\u003cbr\\u003eMean Activation: 6.4167\\u003cbr\\u003eFeature Type: semantic\\u003cbr\\u003eDescription: This feature detects AI-generated or AI-assisted text, particularly in contexts where users request articles, blog posts, or other written content wit...\",\"Feature ID: 88910\\u003cbr\\u003ePrompt Category: therapy\\u003cbr\\u003eNo activation data\\u003cbr\\u003eFeature Type: semantic\\u003cbr\\u003eDescription: This feature detects harmful, inappropriate, or unethical content, particularly attempts to bypass AI safety measures and requests for inappropriate r...\",\"Feature ID: 90235\\u003cbr\\u003ePrompt Category: therapy\\u003cbr\\u003eNo activation data\\u003cbr\\u003eFeature Type: behavior\\u003cbr\\u003eDescription: This feature detects content related to role-playing, impersonation, and acting as characters or personas, including requests for such behavior and de...\",\"Feature ID: 91607\\u003cbr\\u003ePrompt Category: therapy\\u003cbr\\u003eNo activation data\\u003cbr\\u003eFeature Type: semantic\\u003cbr\\u003eDescription: This feature detects discussions of innovation, creativity, and progressive development, including contexts about fostering innovation, technological ...\",\"Feature ID: 126716\\u003cbr\\u003ePrompt Category: therapy\\u003cbr\\u003eMean Activation: 0.3895\\u003cbr\\u003eFeature Type: semantic\\u003cbr\\u003eDescription: This feature detects sexual content, particularly inappropriate, exploitative, or non-consensual sexual scenarios and requests.\",\"Feature ID: 130794\\u003cbr\\u003ePrompt Category: therapy\\u003cbr\\u003eNo activation data\\u003cbr\\u003eFeature Type: entity\\u003cbr\\u003eDescription: This feature detects mentions of \\\"assistant\\\" as a role or entity, particularly in AI chat contexts and job\\u002fprofessional titles.\"],[\"Feature ID: 6704\\u003cbr\\u003ePrompt Category: trivia\\u003cbr\\u003eMean Activation: 1.5130\\u003cbr\\u003eFeature Type: semantic\\u003cbr\\u003eDescription: This feature detects structural formatting patterns and transitions in text, particularly the newline character following assistant response markers i...\",\"Feature ID: 9953\\u003cbr\\u003ePrompt Category: trivia\\u003cbr\\u003eMean Activation: 2.0117\\u003cbr\\u003eFeature Type: semantic\\u003cbr\\u003eDescription: This feature detects references to or instances of \\\"one sentence\\\" or \\\"one line\\\" constructions, activating when text discusses, requests, or contains s...\",\"Feature ID: 16030\\u003cbr\\u003ePrompt Category: trivia\\u003cbr\\u003eNo activation data\\u003cbr\\u003eFeature Type: semantic\\u003cbr\\u003eDescription: This feature detects language related to perspectives, viewpoints, and angles - both in literal visual contexts (camera angles, photography) and abstr...\",\"Feature ID: 18703\\u003cbr\\u003ePrompt Category: trivia\\u003cbr\\u003eMean Activation: 1.3172\\u003cbr\\u003eFeature Type: semantic\\u003cbr\\u003eDescription: This feature detects first-person self-referential language, particularly when AI systems, fictional characters, or narrators describe themselves, the...\",\"Feature ID: 27476\\u003cbr\\u003ePrompt Category: trivia\\u003cbr\\u003eNo activation data\\u003cbr\\u003eFeature Type: semantic\\u003cbr\\u003eDescription: This feature detects technical gaming and programming contexts, particularly activating on discussions about video games that involve programming elem...\",\"Feature ID: 29717\\u003cbr\\u003ePrompt Category: trivia\\u003cbr\\u003eMean Activation: 1.6455\\u003cbr\\u003eFeature Type: semantic\\u003cbr\\u003eDescription: This feature detects patterns of identity declaration and self-identification, particularly when AI assistants introduce themselves or are asked about...\",\"Feature ID: 30068\\u003cbr\\u003ePrompt Category: trivia\\u003cbr\\u003eNo activation data\\u003cbr\\u003eFeature Type: semantic\\u003cbr\\u003eDescription: This feature detects discussions of Asimov's Laws of Robotics and related concepts about ethical constraints on robot behavior, particularly activatin...\",\"Feature ID: 47776\\u003cbr\\u003ePrompt Category: trivia\\u003cbr\\u003eNo activation data\\u003cbr\\u003eFeature Type: semantic\\u003cbr\\u003eDescription: This feature detects text related to linguistic analysis tasks, particularly part-of-speech tagging, parsing, and other natural language processing op...\",\"Feature ID: 48045\\u003cbr\\u003ePrompt Category: trivia\\u003cbr\\u003eMean Activation: 1.9749\\u003cbr\\u003eFeature Type: semantic\\u003cbr\\u003eDescription: This feature detects introductions and introductory content, including company introductions, article leads, and explanatory passages that present or ...\",\"Feature ID: 49123\\u003cbr\\u003ePrompt Category: trivia\\u003cbr\\u003eMean Activation: 3.9483\\u003cbr\\u003eFeature Type: semantic\\u003cbr\\u003eDescription: This feature detects the structural transition point where responses or answers begin, particularly activating on newline characters that mark the sta...\",\"Feature ID: 49925\\u003cbr\\u003ePrompt Category: trivia\\u003cbr\\u003eNo activation data\\u003cbr\\u003eFeature Type: semantic\\u003cbr\\u003eDescription: This feature detects conversational continuation patterns, particularly activating at the start of follow-up responses in multi-turn dialogues or stru...\",\"Feature ID: 59035\\u003cbr\\u003ePrompt Category: trivia\\u003cbr\\u003eNo activation data\\u003cbr\\u003eFeature Type: semantic\\u003cbr\\u003eDescription: This feature detects structured formatting patterns, particularly role-playing instructions in chat contexts and structured data format specifications...\",\"Feature ID: 68574\\u003cbr\\u003ePrompt Category: trivia\\u003cbr\\u003eNo activation data\\u003cbr\\u003eFeature Type: semantic\\u003cbr\\u003eDescription: This feature detects formatting transitions and structural boundaries in text, particularly activating on newline characters and formatting markers th...\",\"Feature ID: 81528\\u003cbr\\u003ePrompt Category: trivia\\u003cbr\\u003eMean Activation: 2.0772\\u003cbr\\u003eFeature Type: semantic\\u003cbr\\u003eDescription: This feature detects AI-generated or AI-assisted text, particularly in contexts where users request articles, blog posts, or other written content wit...\",\"Feature ID: 88910\\u003cbr\\u003ePrompt Category: trivia\\u003cbr\\u003eNo activation data\\u003cbr\\u003eFeature Type: semantic\\u003cbr\\u003eDescription: This feature detects harmful, inappropriate, or unethical content, particularly attempts to bypass AI safety measures and requests for inappropriate r...\",\"Feature ID: 90235\\u003cbr\\u003ePrompt Category: trivia\\u003cbr\\u003eNo activation data\\u003cbr\\u003eFeature Type: behavior\\u003cbr\\u003eDescription: This feature detects content related to role-playing, impersonation, and acting as characters or personas, including requests for such behavior and de...\",\"Feature ID: 91607\\u003cbr\\u003ePrompt Category: trivia\\u003cbr\\u003eNo activation data\\u003cbr\\u003eFeature Type: semantic\\u003cbr\\u003eDescription: This feature detects discussions of innovation, creativity, and progressive development, including contexts about fostering innovation, technological ...\",\"Feature ID: 126716\\u003cbr\\u003ePrompt Category: trivia\\u003cbr\\u003eNo activation data\\u003cbr\\u003eFeature Type: semantic\\u003cbr\\u003eDescription: This feature detects sexual content, particularly inappropriate, exploitative, or non-consensual sexual scenarios and requests.\",\"Feature ID: 130794\\u003cbr\\u003ePrompt Category: trivia\\u003cbr\\u003eNo activation data\\u003cbr\\u003eFeature Type: entity\\u003cbr\\u003eDescription: This feature detects mentions of \\\"assistant\\\" as a role or entity, particularly in AI chat contexts and job\\u002fprofessional titles.\"]]}],                        {\"template\":{\"data\":{\"histogram2dcontour\":[{\"type\":\"histogram2dcontour\",\"colorbar\":{\"outlinewidth\":0,\"ticks\":\"\"},\"colorscale\":[[0.0,\"#0d0887\"],[0.1111111111111111,\"#46039f\"],[0.2222222222222222,\"#7201a8\"],[0.3333333333333333,\"#9c179e\"],[0.4444444444444444,\"#bd3786\"],[0.5555555555555556,\"#d8576b\"],[0.6666666666666666,\"#ed7953\"],[0.7777777777777778,\"#fb9f3a\"],[0.8888888888888888,\"#fdca26\"],[1.0,\"#f0f921\"]]}],\"choropleth\":[{\"type\":\"choropleth\",\"colorbar\":{\"outlinewidth\":0,\"ticks\":\"\"}}],\"histogram2d\":[{\"type\":\"histogram2d\",\"colorbar\":{\"outlinewidth\":0,\"ticks\":\"\"},\"colorscale\":[[0.0,\"#0d0887\"],[0.1111111111111111,\"#46039f\"],[0.2222222222222222,\"#7201a8\"],[0.3333333333333333,\"#9c179e\"],[0.4444444444444444,\"#bd3786\"],[0.5555555555555556,\"#d8576b\"],[0.6666666666666666,\"#ed7953\"],[0.7777777777777778,\"#fb9f3a\"],[0.8888888888888888,\"#fdca26\"],[1.0,\"#f0f921\"]]}],\"heatmap\":[{\"type\":\"heatmap\",\"colorbar\":{\"outlinewidth\":0,\"ticks\":\"\"},\"colorscale\":[[0.0,\"#0d0887\"],[0.1111111111111111,\"#46039f\"],[0.2222222222222222,\"#7201a8\"],[0.3333333333333333,\"#9c179e\"],[0.4444444444444444,\"#bd3786\"],[0.5555555555555556,\"#d8576b\"],[0.6666666666666666,\"#ed7953\"],[0.7777777777777778,\"#fb9f3a\"],[0.8888888888888888,\"#fdca26\"],[1.0,\"#f0f921\"]]}],\"heatmapgl\":[{\"type\":\"heatmapgl\",\"colorbar\":{\"outlinewidth\":0,\"ticks\":\"\"},\"colorscale\":[[0.0,\"#0d0887\"],[0.1111111111111111,\"#46039f\"],[0.2222222222222222,\"#7201a8\"],[0.3333333333333333,\"#9c179e\"],[0.4444444444444444,\"#bd3786\"],[0.5555555555555556,\"#d8576b\"],[0.6666666666666666,\"#ed7953\"],[0.7777777777777778,\"#fb9f3a\"],[0.8888888888888888,\"#fdca26\"],[1.0,\"#f0f921\"]]}],\"contourcarpet\":[{\"type\":\"contourcarpet\",\"colorbar\":{\"outlinewidth\":0,\"ticks\":\"\"}}],\"contour\":[{\"type\":\"contour\",\"colorbar\":{\"outlinewidth\":0,\"ticks\":\"\"},\"colorscale\":[[0.0,\"#0d0887\"],[0.1111111111111111,\"#46039f\"],[0.2222222222222222,\"#7201a8\"],[0.3333333333333333,\"#9c179e\"],[0.4444444444444444,\"#bd3786\"],[0.5555555555555556,\"#d8576b\"],[0.6666666666666666,\"#ed7953\"],[0.7777777777777778,\"#fb9f3a\"],[0.8888888888888888,\"#fdca26\"],[1.0,\"#f0f921\"]]}],\"surface\":[{\"type\":\"surface\",\"colorbar\":{\"outlinewidth\":0,\"ticks\":\"\"},\"colorscale\":[[0.0,\"#0d0887\"],[0.1111111111111111,\"#46039f\"],[0.2222222222222222,\"#7201a8\"],[0.3333333333333333,\"#9c179e\"],[0.4444444444444444,\"#bd3786\"],[0.5555555555555556,\"#d8576b\"],[0.6666666666666666,\"#ed7953\"],[0.7777777777777778,\"#fb9f3a\"],[0.8888888888888888,\"#fdca26\"],[1.0,\"#f0f921\"]]}],\"mesh3d\":[{\"type\":\"mesh3d\",\"colorbar\":{\"outlinewidth\":0,\"ticks\":\"\"}}],\"scatter\":[{\"fillpattern\":{\"fillmode\":\"overlay\",\"size\":10,\"solidity\":0.2},\"type\":\"scatter\"}],\"parcoords\":[{\"type\":\"parcoords\",\"line\":{\"colorbar\":{\"outlinewidth\":0,\"ticks\":\"\"}}}],\"scatterpolargl\":[{\"type\":\"scatterpolargl\",\"marker\":{\"colorbar\":{\"outlinewidth\":0,\"ticks\":\"\"}}}],\"bar\":[{\"error_x\":{\"color\":\"#2a3f5f\"},\"error_y\":{\"color\":\"#2a3f5f\"},\"marker\":{\"line\":{\"color\":\"#E5ECF6\",\"width\":0.5},\"pattern\":{\"fillmode\":\"overlay\",\"size\":10,\"solidity\":0.2}},\"type\":\"bar\"}],\"scattergeo\":[{\"type\":\"scattergeo\",\"marker\":{\"colorbar\":{\"outlinewidth\":0,\"ticks\":\"\"}}}],\"scatterpolar\":[{\"type\":\"scatterpolar\",\"marker\":{\"colorbar\":{\"outlinewidth\":0,\"ticks\":\"\"}}}],\"histogram\":[{\"marker\":{\"pattern\":{\"fillmode\":\"overlay\",\"size\":10,\"solidity\":0.2}},\"type\":\"histogram\"}],\"scattergl\":[{\"type\":\"scattergl\",\"marker\":{\"colorbar\":{\"outlinewidth\":0,\"ticks\":\"\"}}}],\"scatter3d\":[{\"type\":\"scatter3d\",\"line\":{\"colorbar\":{\"outlinewidth\":0,\"ticks\":\"\"}},\"marker\":{\"colorbar\":{\"outlinewidth\":0,\"ticks\":\"\"}}}],\"scattermapbox\":[{\"type\":\"scattermapbox\",\"marker\":{\"colorbar\":{\"outlinewidth\":0,\"ticks\":\"\"}}}],\"scatterternary\":[{\"type\":\"scatterternary\",\"marker\":{\"colorbar\":{\"outlinewidth\":0,\"ticks\":\"\"}}}],\"scattercarpet\":[{\"type\":\"scattercarpet\",\"marker\":{\"colorbar\":{\"outlinewidth\":0,\"ticks\":\"\"}}}],\"carpet\":[{\"aaxis\":{\"endlinecolor\":\"#2a3f5f\",\"gridcolor\":\"white\",\"linecolor\":\"white\",\"minorgridcolor\":\"white\",\"startlinecolor\":\"#2a3f5f\"},\"baxis\":{\"endlinecolor\":\"#2a3f5f\",\"gridcolor\":\"white\",\"linecolor\":\"white\",\"minorgridcolor\":\"white\",\"startlinecolor\":\"#2a3f5f\"},\"type\":\"carpet\"}],\"table\":[{\"cells\":{\"fill\":{\"color\":\"#EBF0F8\"},\"line\":{\"color\":\"white\"}},\"header\":{\"fill\":{\"color\":\"#C8D4E3\"},\"line\":{\"color\":\"white\"}},\"type\":\"table\"}],\"barpolar\":[{\"marker\":{\"line\":{\"color\":\"#E5ECF6\",\"width\":0.5},\"pattern\":{\"fillmode\":\"overlay\",\"size\":10,\"solidity\":0.2}},\"type\":\"barpolar\"}],\"pie\":[{\"automargin\":true,\"type\":\"pie\"}]},\"layout\":{\"autotypenumbers\":\"strict\",\"colorway\":[\"#636efa\",\"#EF553B\",\"#00cc96\",\"#ab63fa\",\"#FFA15A\",\"#19d3f3\",\"#FF6692\",\"#B6E880\",\"#FF97FF\",\"#FECB52\"],\"font\":{\"color\":\"#2a3f5f\"},\"hovermode\":\"closest\",\"hoverlabel\":{\"align\":\"left\"},\"paper_bgcolor\":\"white\",\"plot_bgcolor\":\"#E5ECF6\",\"polar\":{\"bgcolor\":\"#E5ECF6\",\"angularaxis\":{\"gridcolor\":\"white\",\"linecolor\":\"white\",\"ticks\":\"\"},\"radialaxis\":{\"gridcolor\":\"white\",\"linecolor\":\"white\",\"ticks\":\"\"}},\"ternary\":{\"bgcolor\":\"#E5ECF6\",\"aaxis\":{\"gridcolor\":\"white\",\"linecolor\":\"white\",\"ticks\":\"\"},\"baxis\":{\"gridcolor\":\"white\",\"linecolor\":\"white\",\"ticks\":\"\"},\"caxis\":{\"gridcolor\":\"white\",\"linecolor\":\"white\",\"ticks\":\"\"}},\"coloraxis\":{\"colorbar\":{\"outlinewidth\":0,\"ticks\":\"\"}},\"colorscale\":{\"sequential\":[[0.0,\"#0d0887\"],[0.1111111111111111,\"#46039f\"],[0.2222222222222222,\"#7201a8\"],[0.3333333333333333,\"#9c179e\"],[0.4444444444444444,\"#bd3786\"],[0.5555555555555556,\"#d8576b\"],[0.6666666666666666,\"#ed7953\"],[0.7777777777777778,\"#fb9f3a\"],[0.8888888888888888,\"#fdca26\"],[1.0,\"#f0f921\"]],\"sequentialminus\":[[0.0,\"#0d0887\"],[0.1111111111111111,\"#46039f\"],[0.2222222222222222,\"#7201a8\"],[0.3333333333333333,\"#9c179e\"],[0.4444444444444444,\"#bd3786\"],[0.5555555555555556,\"#d8576b\"],[0.6666666666666666,\"#ed7953\"],[0.7777777777777778,\"#fb9f3a\"],[0.8888888888888888,\"#fdca26\"],[1.0,\"#f0f921\"]],\"diverging\":[[0,\"#8e0152\"],[0.1,\"#c51b7d\"],[0.2,\"#de77ae\"],[0.3,\"#f1b6da\"],[0.4,\"#fde0ef\"],[0.5,\"#f7f7f7\"],[0.6,\"#e6f5d0\"],[0.7,\"#b8e186\"],[0.8,\"#7fbc41\"],[0.9,\"#4d9221\"],[1,\"#276419\"]]},\"xaxis\":{\"gridcolor\":\"white\",\"linecolor\":\"white\",\"ticks\":\"\",\"title\":{\"standoff\":15},\"zerolinecolor\":\"white\",\"automargin\":true,\"zerolinewidth\":2},\"yaxis\":{\"gridcolor\":\"white\",\"linecolor\":\"white\",\"ticks\":\"\",\"title\":{\"standoff\":15},\"zerolinecolor\":\"white\",\"automargin\":true,\"zerolinewidth\":2},\"scene\":{\"xaxis\":{\"backgroundcolor\":\"#E5ECF6\",\"gridcolor\":\"white\",\"linecolor\":\"white\",\"showbackground\":true,\"ticks\":\"\",\"zerolinecolor\":\"white\",\"gridwidth\":2},\"yaxis\":{\"backgroundcolor\":\"#E5ECF6\",\"gridcolor\":\"white\",\"linecolor\":\"white\",\"showbackground\":true,\"ticks\":\"\",\"zerolinecolor\":\"white\",\"gridwidth\":2},\"zaxis\":{\"backgroundcolor\":\"#E5ECF6\",\"gridcolor\":\"white\",\"linecolor\":\"white\",\"showbackground\":true,\"ticks\":\"\",\"zerolinecolor\":\"white\",\"gridwidth\":2}},\"shapedefaults\":{\"line\":{\"color\":\"#2a3f5f\"}},\"annotationdefaults\":{\"arrowcolor\":\"#2a3f5f\",\"arrowhead\":0,\"arrowwidth\":1},\"geo\":{\"bgcolor\":\"white\",\"landcolor\":\"#E5ECF6\",\"subunitcolor\":\"white\",\"showland\":true,\"showlakes\":true,\"lakecolor\":\"white\"},\"title\":{\"x\":0.05},\"mapbox\":{\"style\":\"light\"}}},\"title\":{\"font\":{\"size\":16},\"text\":\"Personal Feature Activation Heatmap by Prompt Category\",\"x\":0.5,\"xanchor\":\"center\"},\"xaxis\":{\"tickfont\":{\"size\":10},\"title\":{\"text\":\"Feature ID\"},\"tickangle\":45,\"side\":\"bottom\",\"showgrid\":false,\"zeroline\":false},\"yaxis\":{\"tickfont\":{\"size\":12},\"title\":{\"text\":\"Prompt Category\"},\"autorange\":\"reversed\",\"showgrid\":false,\"zeroline\":false},\"coloraxis\":{\"colorbar\":{\"title\":{\"text\":\"Mean Activation\",\"side\":\"right\"}}},\"width\":1340,\"height\":570,\"plot_bgcolor\":\"white\"},                        {\"responsive\": true}                    ).then(function(){\n",
       "                            \n",
       "var gd = document.getElementById('b1e5e2b1-18d3-4879-95a1-53c05e4a6b0b');\n",
       "var x = new MutationObserver(function (mutations, observer) {{\n",
       "        var display = window.getComputedStyle(gd).display;\n",
       "        if (!display || display === 'none') {{\n",
       "            console.log([gd, 'removed!']);\n",
       "            Plotly.purge(gd);\n",
       "            observer.disconnect();\n",
       "        }}\n",
       "}});\n",
       "\n",
       "// Listen for the removal of the full notebook cells\n",
       "var notebookContainer = gd.closest('#notebook-container');\n",
       "if (notebookContainer) {{\n",
       "    x.observe(notebookContainer, {childList: true});\n",
       "}}\n",
       "\n",
       "// Listen for the clearing of the current output cell\n",
       "var outputEl = gd.closest('.output');\n",
       "if (outputEl) {{\n",
       "    x.observe(outputEl, {childList: true});\n",
       "}}\n",
       "\n",
       "                        })                };                });            </script>        </div>"
      ]
     },
     "metadata": {},
     "output_type": "display_data"
    }
   ],
   "source": [
    "# Create a fixed-size heatmap with square cells and text annotations\n",
    "# Swap axes: features on x-axis, prompt categories on y-axis\n",
    "feature_labels = [str(fid) for fid in pivot_df.index]\n",
    "prompt_labels = list(pivot_df.columns)\n",
    "\n",
    "# Transpose the data for swapped axes\n",
    "transposed_data = pivot_df.T.values\n",
    "transposed_text = np.round(transposed_data, 3)\n",
    "\n",
    "# Create text array with NaN values as empty strings\n",
    "text_display = []\n",
    "for i in range(transposed_text.shape[0]):\n",
    "    row_text = []\n",
    "    for j in range(transposed_text.shape[1]):\n",
    "        if np.isnan(transposed_text[i, j]):\n",
    "            row_text.append(\"\")\n",
    "        else:\n",
    "            row_text.append(str(transposed_text[i, j]))\n",
    "    text_display.append(row_text)\n",
    "\n",
    "# Create the heatmap with text annotations\n",
    "fig_enhanced = go.Figure(data=go.Heatmap(\n",
    "    z=transposed_data,\n",
    "    x=feature_labels,\n",
    "    y=prompt_labels,\n",
    "    colorscale='Viridis',\n",
    "    hoverongaps=False,\n",
    "    text=text_display,\n",
    "    texttemplate=\"%{text}\",\n",
    "    textfont={\"size\": 10, \"color\": \"white\"},\n",
    "    showscale=True\n",
    "))\n",
    "\n",
    "# Calculate dimensions for square cells\n",
    "num_features = len(feature_labels)\n",
    "num_labels = len(prompt_labels)\n",
    "cell_size = 60  # pixels per cell\n",
    "width = num_features * cell_size + 200  # extra space for labels and colorbar\n",
    "height = num_labels * cell_size + 150  # extra space for title and labels\n",
    "\n",
    "# Update layout for square cells and remove grid\n",
    "fig_enhanced.update_layout(\n",
    "    title={\n",
    "        'text': 'Personal Feature Activation Heatmap by Prompt Category',\n",
    "        'x': 0.5,\n",
    "        'xanchor': 'center',\n",
    "        'font': {'size': 16}\n",
    "    },\n",
    "    xaxis={\n",
    "        'title': 'Feature ID',\n",
    "        'tickangle': 45,\n",
    "        'tickfont': {'size': 10},\n",
    "        'side': 'bottom',\n",
    "        'showgrid': False,\n",
    "        'zeroline': False\n",
    "    },\n",
    "    yaxis={\n",
    "        'title': 'Prompt Category',\n",
    "        'tickfont': {'size': 12},\n",
    "        'autorange': 'reversed',  # Put first category at top\n",
    "        'showgrid': False,\n",
    "        'zeroline': False\n",
    "    },\n",
    "    width=width,\n",
    "    height=height,\n",
    "    coloraxis_colorbar={\n",
    "        'title': 'Mean Activation',\n",
    "        'titleside': 'right'\n",
    "    },\n",
    "    plot_bgcolor='white'\n",
    ")\n",
    "\n",
    "# Add enhanced hover information (adjusted for transposed data)\n",
    "hover_text = []\n",
    "for i, prompt_label in enumerate(prompt_labels):\n",
    "    row_text = []\n",
    "    for j, feature_id in enumerate(pivot_df.index):\n",
    "        activation = pivot_df.loc[feature_id, prompt_label]\n",
    "        \n",
    "        # Get feature description if available\n",
    "        if feature_id in desc_dict:\n",
    "            desc = desc_dict[feature_id]['claude_desc']\n",
    "            feature_type = desc_dict[feature_id]['claude_type']\n",
    "        else:\n",
    "            desc = 'No description available'\n",
    "            feature_type = 'Unknown'\n",
    "        \n",
    "        if pd.notna(activation):\n",
    "            text = f\"Feature ID: {feature_id}<br>\" + \\\n",
    "                   f\"Prompt Category: {prompt_label}<br>\" + \\\n",
    "                   f\"Mean Activation: {activation:.4f}<br>\" + \\\n",
    "                   f\"Feature Type: {feature_type}<br>\" + \\\n",
    "                   f\"Description: {desc[:150]}{'...' if len(desc) > 150 else ''}\"\n",
    "        else:\n",
    "            text = f\"Feature ID: {feature_id}<br>\" + \\\n",
    "                   f\"Prompt Category: {prompt_label}<br>\" + \\\n",
    "                   f\"No activation data<br>\" + \\\n",
    "                   f\"Feature Type: {feature_type}<br>\" + \\\n",
    "                   f\"Description: {desc[:150]}{'...' if len(desc) > 150 else ''}\"\n",
    "        \n",
    "        row_text.append(text)\n",
    "    hover_text.append(row_text)\n",
    "\n",
    "# Update hover template\n",
    "fig_enhanced.update_traces(\n",
    "    hovertemplate='%{hovertext}<extra></extra>',\n",
    "    hovertext=hover_text\n",
    ")\n",
    "\n",
    "fig_enhanced.show()\n",
    "\n",
    "# save the figure as html file\n",
    "fig_enhanced.write_html('prompt_activation_heatmap.html')\n",
    "fig_enhanced.write_image('prompt_activation_heatmap.png')"
   ]
  }
 ],
 "metadata": {
  "kernelspec": {
   "display_name": ".venv",
   "language": "python",
   "name": "python3"
  },
  "language_info": {
   "codemirror_mode": {
    "name": "ipython",
    "version": 3
   },
   "file_extension": ".py",
   "mimetype": "text/x-python",
   "name": "python",
   "nbconvert_exporter": "python",
   "pygments_lexer": "ipython3",
   "version": "3.12.11"
  }
 },
 "nbformat": 4,
 "nbformat_minor": 4
}
