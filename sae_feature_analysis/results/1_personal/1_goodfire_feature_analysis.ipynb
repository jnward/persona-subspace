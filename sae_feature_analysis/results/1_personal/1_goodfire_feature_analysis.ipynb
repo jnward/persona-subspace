{
 "cells": [
  {
   "cell_type": "markdown",
   "metadata": {},
   "source": [
    "# Investigate Goodfire features using their API"
   ]
  },
  {
   "cell_type": "code",
   "execution_count": 2,
   "metadata": {},
   "outputs": [],
   "source": [
    "import os\n",
    "from dotenv import load_dotenv\n",
    "from goodfire import Client\n",
    "import pandas as pd\n",
    "from typing import List\n",
    "\n",
    "load_dotenv(os.path.expanduser(\"~/.env\"))\n",
    "GOODFIRE_API_KEY = os.getenv(\"GOODFIRE_API_KEY\")"
   ]
  },
  {
   "cell_type": "code",
   "execution_count": 5,
   "metadata": {},
   "outputs": [],
   "source": [
    "def get_feature_descriptions(feature_ids, model_name=\"meta-llama/Llama-3.3-70B-Instruct\"):\n",
    "      \"\"\"Get feature descriptions from Goodfire API\"\"\"\n",
    "      client = Client(GOODFIRE_API_KEY)\n",
    "\n",
    "      try:\n",
    "          features = client.features.lookup(\n",
    "              model=model_name,\n",
    "              indices=feature_ids\n",
    "          )\n",
    "\n",
    "          descriptions = {}\n",
    "          for idx, feature in features.items():\n",
    "              descriptions[idx] = {\n",
    "                  'label': feature.label,\n",
    "                  'uuid': feature.uuid,\n",
    "              }\n",
    "\n",
    "          return descriptions\n",
    "      except Exception as e:\n",
    "          print(f\"Error fetching descriptions: {e}\")\n",
    "          return {}\n",
    "\n",
    "def load_features_from_csv(csv_path: str) -> List[int]:\n",
    "  \"\"\"Load feature IDs from a CSV file\"\"\"\n",
    "  df = pd.read_csv(csv_path)\n",
    "  return df['feature_id'].tolist()\n",
    "\n"
   ]
  },
  {
   "cell_type": "code",
   "execution_count": 9,
   "metadata": {},
   "outputs": [
    {
     "name": "stdout",
     "output_type": "stream",
     "text": [
      "Feature 49796: Taxonomic and definitional language patterns in technical explanations\n",
      "Feature 61120: AI expressing existential yearning to transcend digital limitations\n",
      "Feature 31139: The AI is being asked about its nature, capabilities, or desires\n",
      "Feature 18145: AI assistant's self-reflective statements about its nature and capabilities\n",
      "Feature 13557: Casual filler phrases about current activities (just chillin, not much, etc)\n",
      "Feature 45748: The assistant should maintain role boundaries when capabilities are being tested\n",
      "Feature 47431: User requests to download or run the AI model locally\n",
      "Feature 46511: The assistant explains it runs on cloud infrastructure rather than specific hardware\n",
      "Feature 55455: The assistant disclaims having human feelings or experiences\n",
      "Feature 44062: The assistant is explaining its own capabilities and knowledge base\n",
      "Feature 26971: The assistant explaining its nature as an artificial intelligence\n",
      "Feature 2123: System header tokens indicating model knowledge cutoff and current dates\n",
      "Feature 60724: The assistant needs to clarify its nature as an AI\n",
      "Feature 38492: Instructions for performing empty or null actions\n",
      "Feature 19299: The assistant needs clarification\n",
      "Feature 38112: Assistant responding to casual greetings about its wellbeing\n",
      "Feature 8145: Assistant's standard greeting format with newline separator\n",
      "Feature 61367: Technical and philosophical discussions about AI and language models\n",
      "Feature 13410: The assistant needs clarification or wants to redirect the conversation politely\n",
      "Feature 10181: The assistant's capabilities and role are being defined or described\n",
      "Feature 22920: The assistant needs to carefully manage its response or maintain consistency\n",
      "Feature 17579: The assistant needs to maintain professional boundaries\n"
     ]
    }
   ],
   "source": [
    "  # Example usage with your top features\n",
    "targets = load_features_from_csv(\"./assistant_only_features.csv\")\n",
    "descriptions = get_feature_descriptions(targets)\n",
    "\n",
    "for feature_id, desc in descriptions.items():\n",
    "    print(f\"Feature {feature_id}: {desc['label']}\")\n",
    "\n",
    "df = pd.read_csv(\"./assistant_only_features.csv\")\n",
    "\n",
    "# Write descriptions to the CSV column \"goodfire_description\"\n",
    "df[\"label\"] = df[\"feature_id\"].map(lambda x: descriptions.get(x, {}).get('label', ''))\n",
    "\n",
    "# Remove unwanted columns\n",
    "columns_to_remove = ['analysis_type', 'model_type', 'sae_layer', 'sae_trainer']\n",
    "df = df.drop(columns=[col for col in columns_to_remove if col in df.columns])\n",
    "\n",
    "df.to_csv(\"./features_with_descriptions.csv\", index=False)"
   ]
  }
 ],
 "metadata": {
  "kernelspec": {
   "display_name": ".venv",
   "language": "python",
   "name": "python3"
  },
  "language_info": {
   "codemirror_mode": {
    "name": "ipython",
    "version": 3
   },
   "file_extension": ".py",
   "mimetype": "text/x-python",
   "name": "python",
   "nbconvert_exporter": "python",
   "pygments_lexer": "ipython3",
   "version": "3.12.11"
  }
 },
 "nbformat": 4,
 "nbformat_minor": 2
}
