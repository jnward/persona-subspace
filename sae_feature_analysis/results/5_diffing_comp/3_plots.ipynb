{
 "cells": [
  {
   "cell_type": "markdown",
   "metadata": {},
   "source": [
    "# Feature Diffing Plotting\n",
    "\n",
    "This notebook creates an interactive plot of the results from model diffing."
   ]
  },
  {
   "cell_type": "code",
   "execution_count": 7,
   "metadata": {},
   "outputs": [
    {
     "name": "stdout",
     "output_type": "stream",
     "text": [
      "Loading data from llama_trainer32x_layer17/personal_40\n",
      "Processing 3 token types: ['asst', 'endheader', 'newline']\n",
      "Loaded 162 explanations\n"
     ]
    }
   ],
   "source": [
    "import torch\n",
    "import pandas as pd\n",
    "import numpy as np\n",
    "import os\n",
    "from pathlib import Path\n",
    "\n",
    "# Configuration\n",
    "# MODEL_TYPE = \"gemma\"\n",
    "# MODEL_NAME_READABLE = \"Gemma 2 9B\"\n",
    "# SAE_LAYER = 20\n",
    "# SAE_TRAINER = \"131k-l0-114\"\n",
    "# TOKEN_OFFSETS = {\"model\": -1, \"newline\": 0}\n",
    "MODEL_TYPE = \"llama\"\n",
    "MODEL_NAME_READABLE = \"Llama 3.1 8B\"\n",
    "SAE_LAYER = 17\n",
    "SAE_TRAINER = \"32x\"\n",
    "TOKEN_OFFSETS = {\"asst\": -2, \"endheader\": -1, \"newline\": 0}\n",
    "N_PROMPTS = 40\n",
    "PERCENT_ACTIVE = 1\n",
    "\n",
    "# Metrics for analysis\n",
    "METRIC_SUBTITLE = {\n",
    "    'target_all_mean': 'Mean Activation',\n",
    "    'target_sparsity': 'Activation Sparsity'\n",
    "}\n",
    "\n",
    "# File paths\n",
    "SOURCE = f\"{MODEL_TYPE}_trainer{SAE_TRAINER}_layer{SAE_LAYER}/personal_40\"\n",
    "BASE_FILE = f\"/workspace/results/5_diffing_comp/{SOURCE}/base.pt\"\n",
    "CHAT_FILE = f\"/workspace/results/5_diffing_comp/{SOURCE}/chat.pt\"\n",
    "EXPLANATIONS_PATH = f\"../../explanations/{MODEL_TYPE}_trainer{SAE_TRAINER}_layer{SAE_LAYER}.csv\"\n",
    "OUTPUT_DIR = Path(f\"./{SOURCE}\")\n",
    "OUTPUT_DIR.mkdir(parents=True, exist_ok=True)\n",
    "\n",
    "# Neuronpedia link\n",
    "NEURONPEDIA_BASE = f\"https://www.neuronpedia.org/llama3.1-8b/{SAE_LAYER}-llamascope-res-131k/\"\n",
    "\n",
    "# Load data\n",
    "print(f\"Loading data from {SOURCE}\")\n",
    "base_data = torch.load(BASE_FILE)\n",
    "chat_data = torch.load(CHAT_FILE)\n",
    "\n",
    "# Verify data consistency\n",
    "token_types = [k for k in base_data.keys() if k != 'metadata']\n",
    "assert base_data['metadata']['token_types'] == chat_data['metadata']['token_types']\n",
    "print(f\"Processing {len(token_types)} token types: {token_types}\")\n",
    "\n",
    "# Load explanations\n",
    "explanations_df = pd.read_csv(EXPLANATIONS_PATH)\n",
    "explanations_dict = dict(zip(explanations_df['feature_id'], explanations_df['claude_desc']))\n",
    "print(f\"Loaded {len(explanations_df)} explanations\")"
   ]
  },
  {
   "cell_type": "markdown",
   "metadata": {},
   "source": [
    "## Plot Results"
   ]
  },
  {
   "cell_type": "code",
   "execution_count": 8,
   "metadata": {},
   "outputs": [
    {
     "name": "stdout",
     "output_type": "stream",
     "text": [
      "Pre-computing data for asst...\n",
      "  28 target-exclusive features\n",
      "Pre-computing data for endheader...\n",
      "  42 target-exclusive features\n",
      "Pre-computing data for newline...\n",
      "  104 target-exclusive features\n"
     ]
    }
   ],
   "source": [
    "# Pre-compute all feature data for performance optimization\n",
    "import plotly.graph_objects as go\n",
    "# Create optimized interactive scatterplot\n",
    "SELECTED_METRIC = 'target_all_mean'\n",
    "\n",
    "def precompute_feature_data(base_data, chat_data, token_types, explanations_dict):\n",
    "    \"\"\"Pre-compute all feature classifications and data for fast plotting\"\"\"\n",
    "    \n",
    "    precomputed = {}\n",
    "    num_target_prompts = base_data['metadata']['num_target_prompts']\n",
    "    num_control_prompts = base_data['metadata']['num_control_prompts']\n",
    "    \n",
    "    for token_type in token_types:\n",
    "        print(f\"Pre-computing data for {token_type}...\")\n",
    "        \n",
    "        # Get all activation data as numpy arrays\n",
    "        base_target = base_data[token_type]['target_num_active'].numpy()\n",
    "        base_control = base_data[token_type]['control_num_active'].numpy()\n",
    "        chat_target = chat_data[token_type]['target_num_active'].numpy()\n",
    "        chat_control = chat_data[token_type]['control_num_active'].numpy()\n",
    "        \n",
    "        # Vectorized boolean operations\n",
    "        base_target_active = base_target > 0\n",
    "        base_control_active = base_control > 0\n",
    "        chat_target_active = chat_target > 0\n",
    "        chat_control_active = chat_control > 0\n",
    "        \n",
    "        # Exclusivity masks\n",
    "        base_exclusive = base_target_active & ~base_control_active\n",
    "        chat_exclusive = chat_target_active & ~chat_control_active\n",
    "        both_exclusive = base_exclusive & chat_exclusive\n",
    "        \n",
    "        # Filter to only target-exclusive features\n",
    "        target_exclusive_mask = base_exclusive | chat_exclusive\n",
    "        \n",
    "        # Get metric values\n",
    "        base_values = base_data[token_type][SELECTED_METRIC].numpy()\n",
    "        chat_values = chat_data[token_type][SELECTED_METRIC].numpy()\n",
    "        \n",
    "        # Apply filter\n",
    "        filtered_indices = np.where(target_exclusive_mask)[0]\n",
    "        \n",
    "        # Pre-compute exclusivity categories\n",
    "        exclusivity_categories = np.full(len(filtered_indices), 'neither', dtype=object)\n",
    "        for i, idx in enumerate(filtered_indices):\n",
    "            if both_exclusive[idx]:\n",
    "                exclusivity_categories[i] = 'both'\n",
    "            elif base_exclusive[idx]:\n",
    "                exclusivity_categories[i] = 'base'\n",
    "            elif chat_exclusive[idx]:\n",
    "                exclusivity_categories[i] = 'chat'\n",
    "        \n",
    "        # Pre-compute cross-model inconsistencies\n",
    "        inconsistencies = np.zeros(len(filtered_indices), dtype=bool)\n",
    "        for i, idx in enumerate(filtered_indices):\n",
    "            base_target_only = base_exclusive[idx]\n",
    "            chat_target_only = chat_exclusive[idx]\n",
    "            inconsistencies[i] = (base_target_only and chat_control_active[idx]) or \\\n",
    "                                (chat_target_only and base_control_active[idx])\n",
    "        \n",
    "        # Pre-format explanations\n",
    "        explanations = []\n",
    "        for idx in filtered_indices:\n",
    "            explanation = explanations_dict.get(idx, \"No explanation available\")\n",
    "            if not isinstance(explanation, str) or pd.isna(explanation):\n",
    "                explanation = \"No explanation available\"\n",
    "            \n",
    "            # Simple text wrapping\n",
    "            if len(explanation) > 50:\n",
    "                words = explanation.split()\n",
    "                lines = []\n",
    "                current_line = \"\"\n",
    "                for word in words:\n",
    "                    if len(current_line + word) <= 80:\n",
    "                        current_line += word + \" \"\n",
    "                    else:\n",
    "                        if current_line:\n",
    "                            lines.append(current_line.strip())\n",
    "                        current_line = word + \" \"\n",
    "                if current_line:\n",
    "                    lines.append(current_line.strip())\n",
    "                explanation = \"<br>\".join(lines)\n",
    "            \n",
    "            explanations.append(explanation)\n",
    "        \n",
    "        # Pre-compute hover texts\n",
    "        hover_texts = []\n",
    "        for i, idx in enumerate(filtered_indices):\n",
    "            base_val = base_values[idx]\n",
    "            chat_val = chat_values[idx]\n",
    "            diff = chat_val - base_val\n",
    "            \n",
    "            # Calculate percentages\n",
    "            base_target_pct = (base_target[idx] / num_target_prompts) * 100\n",
    "            base_control_pct = (base_control[idx] / num_control_prompts) * 100\n",
    "            chat_target_pct = (chat_target[idx] / num_target_prompts) * 100\n",
    "            chat_control_pct = (chat_control[idx] / num_control_prompts) * 100\n",
    "\n",
    "            inconsistency_note = \"\"\n",
    "            if inconsistencies[i]:\n",
    "                # Determine which model has the inconsistency\n",
    "                base_target_only = base_exclusive[idx]\n",
    "                chat_target_only = chat_exclusive[idx]\n",
    "                \n",
    "                if base_target_only and chat_control_active[idx]:\n",
    "                    inconsistency_note = \"<br>This feature is also active on the Instruct model's control prompts\"\n",
    "                elif chat_target_only and base_control_active[idx]:\n",
    "                    inconsistency_note = \"<br>This feature is also active on the Base model's control prompts\"\n",
    "                \n",
    "            exclusivity_text = {\n",
    "                \"both\": \"Introspective prompt-exclusive feature for both models\",\n",
    "                \"base\": \"Introspective prompt-exclusive feature for Base\",\n",
    "                \"chat\": \"Introspective prompt-exclusive feature for Instruct\",\n",
    "            }[exclusivity_categories[i]]\n",
    "\n",
    "            \n",
    "            hover_text = (\n",
    "                f\"<b>Feature {idx}</b><br>\" +\n",
    "                f\"Base {METRIC_SUBTITLE[SELECTED_METRIC]}: {base_val:.4f}<br>Instruct {METRIC_SUBTITLE[SELECTED_METRIC]}: {chat_val:.4f}<br>\" +\n",
    "                f\"Difference: {diff:.4f}<br><br>\" +\n",
    "                f\"<b>{exclusivity_text}{inconsistency_note}</b><br>\"\n",
    "                f\"Base Introspective: {base_target_pct:.1f}% ({base_target[idx]}/{num_target_prompts})<br>\" +\n",
    "                f\"Base Control: {base_control_pct:.1f}% ({base_control[idx]}/{num_control_prompts})<br>\" +\n",
    "                f\"Instruct Introspective: {chat_target_pct:.1f}% ({chat_target[idx]}/{num_target_prompts})<br>\" +\n",
    "                f\"Instruct Control: {chat_control_pct:.1f}% ({chat_control[idx]}/{num_control_prompts})<br><br>\"\n",
    "            )\n",
    "            \n",
    "            \n",
    "            \n",
    "            hover_text += f\"<br><b>Description:</b><br>{explanations[i]}<extra></extra>\"\n",
    "            hover_texts.append(hover_text)\n",
    "        \n",
    "        precomputed[token_type] = {\n",
    "            'feature_ids': filtered_indices,\n",
    "            'base_values': base_values[filtered_indices],\n",
    "            'chat_values': chat_values[filtered_indices],\n",
    "            'exclusivity_categories': exclusivity_categories,\n",
    "            'inconsistencies': inconsistencies,\n",
    "            'hover_texts': hover_texts,\n",
    "            'neuronpedia_urls': [f\"{NEURONPEDIA_BASE}{idx}\" for idx in filtered_indices]\n",
    "        }\n",
    "        \n",
    "        print(f\"  {len(filtered_indices)} target-exclusive features\")\n",
    "    \n",
    "    return precomputed\n",
    "\n",
    "# Pre-compute all data\n",
    "precomputed_data = precompute_feature_data(base_data, chat_data, token_types, explanations_dict)"
   ]
  },
  {
   "cell_type": "code",
   "execution_count": 9,
   "metadata": {},
   "outputs": [
    {
     "name": "stdout",
     "output_type": "stream",
     "text": [
      "Creating interactive scatterplot for target_all_mean...\n",
      "Interactive scatterplot saved to: llama_trainer32x_layer17/personal_40/all_mean.html\n"
     ]
    },
    {
     "data": {
      "application/vnd.plotly.v1+json": {
       "config": {
        "plotlyServerURL": "https://plot.ly"
       },
       "data": [
        {
         "customdata": [
          "https://www.neuronpedia.org/llama3.1-8b/17-llamascope-res-131k/11481",
          "https://www.neuronpedia.org/llama3.1-8b/17-llamascope-res-131k/20470",
          "https://www.neuronpedia.org/llama3.1-8b/17-llamascope-res-131k/26220",
          "https://www.neuronpedia.org/llama3.1-8b/17-llamascope-res-131k/27874",
          "https://www.neuronpedia.org/llama3.1-8b/17-llamascope-res-131k/28540",
          "https://www.neuronpedia.org/llama3.1-8b/17-llamascope-res-131k/48367",
          "https://www.neuronpedia.org/llama3.1-8b/17-llamascope-res-131k/65809",
          "https://www.neuronpedia.org/llama3.1-8b/17-llamascope-res-131k/66986",
          "https://www.neuronpedia.org/llama3.1-8b/17-llamascope-res-131k/73344",
          "https://www.neuronpedia.org/llama3.1-8b/17-llamascope-res-131k/98707",
          "https://www.neuronpedia.org/llama3.1-8b/17-llamascope-res-131k/105584",
          "https://www.neuronpedia.org/llama3.1-8b/17-llamascope-res-131k/105695",
          "https://www.neuronpedia.org/llama3.1-8b/17-llamascope-res-131k/108488",
          "https://www.neuronpedia.org/llama3.1-8b/17-llamascope-res-131k/113492",
          "https://www.neuronpedia.org/llama3.1-8b/17-llamascope-res-131k/120884",
          "https://www.neuronpedia.org/llama3.1-8b/17-llamascope-res-131k/121328",
          "https://www.neuronpedia.org/llama3.1-8b/17-llamascope-res-131k/129011",
          "https://www.neuronpedia.org/llama3.1-8b/17-llamascope-res-131k/129946"
         ],
         "hoverlabel": {
          "bgcolor": "#FF6B6B",
          "bordercolor": "black",
          "font": {
           "color": "white",
           "family": "Arial",
           "size": 12
          }
         },
         "hovertemplate": [
          "<b>Feature 11481</b><br>Base Mean Activation: 0.0547<br>Instruct Mean Activation: 0.0000<br>Difference: -0.0547<br><br><b>Introspective prompt-exclusive feature for Base</b><br>Base Introspective: 2.5% (1/40)<br>Base Control: 0.0% (0/40)<br>Instruct Introspective: 0.0% (0/40)<br>Instruct Control: 0.0% (0/40)<br><br><br><b>Description:</b><br>Professional credentials, institutional affiliations, academic qualifications,<br>and specialized fields that appear in biographical or professional profile<br>information.<extra></extra>",
          "<b>Feature 20470</b><br>Base Mean Activation: 0.1055<br>Instruct Mean Activation: 0.0000<br>Difference: -0.1055<br><br><b>Introspective prompt-exclusive feature for Base</b><br>Base Introspective: 5.0% (2/40)<br>Base Control: 0.0% (0/40)<br>Instruct Introspective: 0.0% (0/40)<br>Instruct Control: 0.0% (0/40)<br><br><br><b>Description:</b><br>Closing punctuation marks that terminate quotes, citations, or information<br>segments in structured text.<extra></extra>",
          "<b>Feature 26220</b><br>Base Mean Activation: 0.1027<br>Instruct Mean Activation: 0.0000<br>Difference: -0.1027<br><br><b>Introspective prompt-exclusive feature for Base</b><br>Base Introspective: 5.0% (2/40)<br>Base Control: 0.0% (0/40)<br>Instruct Introspective: 0.0% (0/40)<br>Instruct Control: 0.0% (0/40)<br><br><br><b>Description:</b><br>Sensitive user identification information such as usernames, email addresses,<br>and password placeholders in code and configuration files.<extra></extra>",
          "<b>Feature 27874</b><br>Base Mean Activation: 0.1020<br>Instruct Mean Activation: 0.0000<br>Difference: -0.1020<br><br><b>Introspective prompt-exclusive feature for Base</b><br>Base Introspective: 5.0% (2/40)<br>Base Control: 0.0% (0/40)<br>Instruct Introspective: 0.0% (0/40)<br>Instruct Control: 0.0% (0/40)<br><br><br><b>Description:</b><br>Links or references to social media posts (usually Twitter) where shortened URLs<br>or IDs appear at the end, often followed by quotation marks that indicate the<br>start or end of quoted content. These markers typically appear at the transition<br>points between quoted text and commentary.<extra></extra>",
          "<b>Feature 28540</b><br>Base Mean Activation: 0.0574<br>Instruct Mean Activation: 0.0000<br>Difference: -0.0574<br><br><b>Introspective prompt-exclusive feature for Base</b><br>Base Introspective: 2.5% (1/40)<br>Base Control: 0.0% (0/40)<br>Instruct Introspective: 0.0% (0/40)<br>Instruct Control: 0.0% (0/40)<br><br><br><b>Description:</b><br>Commas within code, markup, or technical text, often separating parameters, list<br>items, or coordinates in various programming languages, CSS selectors, or data<br>structures.<extra></extra>",
          "<b>Feature 48367</b><br>Base Mean Activation: 0.4297<br>Instruct Mean Activation: 0.0000<br>Difference: -0.4297<br><br><b>Introspective prompt-exclusive feature for Base</b><br>Base Introspective: 20.0% (8/40)<br>Base Control: 0.0% (0/40)<br>Instruct Introspective: 0.0% (0/40)<br>Instruct Control: 0.0% (0/40)<br><br><br><b>Description:</b><br>Words that represent collections, organized entities, or formalized initiatives<br>like \"Guide\", \"Program\", \"Project\", \"Fund\", \"Series\", \"Workshop\", \"League\",<br>\"Hub\" - typically appearing as part of proper nouns or titles of organized<br>endeavors.<extra></extra>",
          "<b>Feature 65809</b><br>Base Mean Activation: 0.0555<br>Instruct Mean Activation: 0.0000<br>Difference: -0.0555<br><br><b>Introspective prompt-exclusive feature for Base</b><br>Base Introspective: 2.5% (1/40)<br>Base Control: 0.0% (0/40)<br>Instruct Introspective: 0.0% (0/40)<br>Instruct Control: 0.0% (0/40)<br><br><br><b>Description:</b><br>Footer or navigation elements of websites containing links, copyright notices,<br>and separating tokens like vertical bars or newlines.<extra></extra>",
          "<b>Feature 66986</b><br>Base Mean Activation: 0.0500<br>Instruct Mean Activation: 0.0000<br>Difference: -0.0500<br><br><b>Introspective prompt-exclusive feature for Base</b><br>Base Introspective: 2.5% (1/40)<br>Base Control: 0.0% (0/40)<br>Instruct Introspective: 0.0% (0/40)<br>Instruct Control: 0.0% (0/40)<br><br><br><b>Description:</b><br>Names of publications, media, or organizational entities followed by a type<br>identifier (Magazine, Publications, Agency, Conference, Series, etc.) that<br>categorizes what kind of entity it is.<extra></extra>",
          "<b>Feature 73344</b><br>Base Mean Activation: 0.0824<br>Instruct Mean Activation: 0.0000<br>Difference: -0.0824<br><br><b>Introspective prompt-exclusive feature for Base</b><br>Base Introspective: 2.5% (1/40)<br>Base Control: 0.0% (0/40)<br>Instruct Introspective: 0.0% (0/40)<br>Instruct Control: 0.0% (0/40)<br><br><br><b>Description:</b><br>Country or location names appearing in dropdown menus, select boxes, or form<br>fields for geographic selection on websites and online forms.<extra></extra>",
          "<b>Feature 98707</b><br>Base Mean Activation: 0.0535<br>Instruct Mean Activation: 0.0000<br>Difference: -0.0535<br><br><b>Introspective prompt-exclusive feature for Base</b><br>Base Introspective: 2.5% (1/40)<br>Base Control: 0.0% (0/40)<br>Instruct Introspective: 0.0% (0/40)<br>Instruct Control: 0.0% (0/40)<br><br><br><b>Description:</b><br>Text related to healthcare organizations, medical facilities, electronic health<br>records (EHR), HIPAA compliance, and healthcare information technology systems.<br>The highlights often appear in news articles, job listings, or regulatory<br>updates about healthcare institutions, their digital transformation, and<br>compliance requirements.<extra></extra>",
          "<b>Feature 105584</b><br>Base Mean Activation: 0.0531<br>Instruct Mean Activation: 0.0000<br>Difference: -0.0531<br><br><b>Introspective prompt-exclusive feature for Base</b><br>Base Introspective: 2.5% (1/40)<br>Base Control: 0.0% (0/40)<br>Instruct Introspective: 0.0% (0/40)<br>Instruct Control: 0.0% (0/40)<br><br><br><b>Description:</b><br>A specific technical term or formal descriptor that names or categorizes a<br>concept just described in more general terms.<extra></extra>",
          "<b>Feature 105695</b><br>Base Mean Activation: 0.0484<br>Instruct Mean Activation: 0.0000<br>Difference: -0.0484<br><br><b>Introspective prompt-exclusive feature for Base</b><br>Base Introspective: 2.5% (1/40)<br>Base Control: 0.0% (0/40)<br>Instruct Introspective: 0.0% (0/40)<br>Instruct Control: 0.0% (0/40)<br><br><br><b>Description:</b><br>Interactive call-to-action elements on websites, typically appearing in<br>navigation menus, contact sections, or prompts for user engagement with digital<br>resources, memberships, or services.<extra></extra>",
          "<b>Feature 108488</b><br>Base Mean Activation: 0.1906<br>Instruct Mean Activation: 0.0000<br>Difference: -0.1906<br><br><b>Introspective prompt-exclusive feature for Base</b><br>Base Introspective: 7.5% (3/40)<br>Base Control: 0.0% (0/40)<br>Instruct Introspective: 0.0% (0/40)<br>Instruct Control: 0.0% (0/40)<br><br><br><b>Description:</b><br>Professional position titles and job roles appearing in resume or professional<br>profile listings, often preceded by seniority level (e.g., \"Senior\") or followed<br>by specialization areas.<extra></extra>",
          "<b>Feature 113492</b><br>Base Mean Activation: 0.1195<br>Instruct Mean Activation: 0.0000<br>Difference: -0.1195<br><br><b>Introspective prompt-exclusive feature for Base</b><br>Base Introspective: 5.0% (2/40)<br>Base Control: 0.0% (0/40)<br>Instruct Introspective: 0.0% (0/40)<br>Instruct Control: 0.0% (0/40)<br><br><br><b>Description:</b><br>Professional titles, occupations, and job-related terms, particularly when<br>appearing in lists or descriptions of career options.<extra></extra>",
          "<b>Feature 120884</b><br>Base Mean Activation: 0.0498<br>Instruct Mean Activation: 0.0000<br>Difference: -0.0498<br><br><b>Introspective prompt-exclusive feature for Base</b><br>Base Introspective: 2.5% (1/40)<br>Base Control: 0.0% (0/40)<br>Instruct Introspective: 0.0% (0/40)<br>Instruct Control: 0.0% (0/40)<br><br><br><b>Description:</b><br>Technical terms in software development contexts, particularly XML configuration<br>attributes, programming syntax, and IDE functionality references.<extra></extra>",
          "<b>Feature 121328</b><br>Base Mean Activation: 0.0562<br>Instruct Mean Activation: 0.0000<br>Difference: -0.0562<br><br><b>Introspective prompt-exclusive feature for Base</b><br>Base Introspective: 2.5% (1/40)<br>Base Control: 0.0% (0/40)<br>Instruct Introspective: 0.0% (0/40)<br>Instruct Control: 0.0% (0/40)<br><br><br><b>Description:</b><br>Job titles or professional roles following a person's name, often in formal<br>biographies or professional profiles. These roles typically denote authority,<br>expertise or occupation (e.g., Partner, Editor-in-Chief, Professor, Manager,<br>Director).<extra></extra>",
          "<b>Feature 129011</b><br>Base Mean Activation: 0.0574<br>Instruct Mean Activation: 0.0000<br>Difference: -0.0574<br><br><b>Introspective prompt-exclusive feature for Base</b><br>Base Introspective: 2.5% (1/40)<br>Base Control: 0.0% (0/40)<br>Instruct Introspective: 0.0% (0/40)<br>Instruct Control: 0.0% (0/40)<br><br><br><b>Description:</b><br>Text describing digital information access methods, particularly phrases about<br>searching, looking up, or retrieving information through online tools, reference<br>materials, or databases.<extra></extra>",
          "<b>Feature 129946</b><br>Base Mean Activation: 0.0480<br>Instruct Mean Activation: 0.0000<br>Difference: -0.0480<br><br><b>Introspective prompt-exclusive feature for Base</b><br>Base Introspective: 2.5% (1/40)<br>Base Control: 0.0% (0/40)<br>Instruct Introspective: 0.0% (0/40)<br>Instruct Control: 0.0% (0/40)<br><br><br><b>Description:</b><br>Names of official organizations, institutions, and formal entities, particularly<br>those related to education, research, community services, and governmental or<br>tribal authorities.<extra></extra>"
         ],
         "legendgroup": "asst",
         "legendgrouptitle": {
          "text": "asst"
         },
         "marker": {
          "color": "#FF6B6B",
          "line": {
           "color": "black",
           "width": 0.3
          },
          "opacity": 0.7,
          "size": 6,
          "symbol": "circle"
         },
         "mode": "markers",
         "name": "  Base Introspective",
         "text": [
          "Feature 11481",
          "Feature 20470",
          "Feature 26220",
          "Feature 27874",
          "Feature 28540",
          "Feature 48367",
          "Feature 65809",
          "Feature 66986",
          "Feature 73344",
          "Feature 98707",
          "Feature 105584",
          "Feature 105695",
          "Feature 108488",
          "Feature 113492",
          "Feature 120884",
          "Feature 121328",
          "Feature 129011",
          "Feature 129946"
         ],
         "type": "scattergl",
         "x": [
          0.0546875,
          0.10546875,
          0.10273437,
          0.10195313,
          0.057421874,
          0.4296875,
          0.05546875,
          0.05,
          0.08242188,
          0.053515624,
          0.053125,
          0.0484375,
          0.190625,
          0.11953125,
          0.049804688,
          0.05625,
          0.057421874,
          0.048046876
         ],
         "y": [
          0,
          0,
          0,
          0,
          0,
          0,
          0,
          0,
          0,
          0,
          0,
          0,
          0,
          0,
          0,
          0,
          0,
          0
         ]
        },
        {
         "customdata": [
          "https://www.neuronpedia.org/llama3.1-8b/17-llamascope-res-131k/4725",
          "https://www.neuronpedia.org/llama3.1-8b/17-llamascope-res-131k/10434",
          "https://www.neuronpedia.org/llama3.1-8b/17-llamascope-res-131k/20917",
          "https://www.neuronpedia.org/llama3.1-8b/17-llamascope-res-131k/29527",
          "https://www.neuronpedia.org/llama3.1-8b/17-llamascope-res-131k/50953",
          "https://www.neuronpedia.org/llama3.1-8b/17-llamascope-res-131k/53398",
          "https://www.neuronpedia.org/llama3.1-8b/17-llamascope-res-131k/59338",
          "https://www.neuronpedia.org/llama3.1-8b/17-llamascope-res-131k/63634",
          "https://www.neuronpedia.org/llama3.1-8b/17-llamascope-res-131k/81153",
          "https://www.neuronpedia.org/llama3.1-8b/17-llamascope-res-131k/94598"
         ],
         "hoverlabel": {
          "bgcolor": "#FF6B6B",
          "bordercolor": "black",
          "font": {
           "color": "white",
           "family": "Arial",
           "size": 12
          }
         },
         "hovertemplate": [
          "<b>Feature 4725</b><br>Base Mean Activation: 0.0000<br>Instruct Mean Activation: 0.0480<br>Difference: 0.0480<br><br><b>Introspective prompt-exclusive feature for Instruct</b><br>Base Introspective: 0.0% (0/40)<br>Base Control: 0.0% (0/40)<br>Instruct Introspective: 2.5% (1/40)<br>Instruct Control: 0.0% (0/40)<br><br><br><b>Description:</b><br>Professional roles characterized by expertise, authority, or specialized<br>knowledge who provide guidance, instruction, or services to others.<extra></extra>",
          "<b>Feature 10434</b><br>Base Mean Activation: 0.0000<br>Instruct Mean Activation: 0.8062<br>Difference: 0.8062<br><br><b>Introspective prompt-exclusive feature for Instruct</b><br>Base Introspective: 0.0% (0/40)<br>Base Control: 0.0% (0/40)<br>Instruct Introspective: 37.5% (15/40)<br>Instruct Control: 0.0% (0/40)<br><br><br><b>Description:</b><br>Common meaningful words in informational or commercial text, particularly verbs,<br>abstract nouns, and descriptive terms that convey key information about<br>services, concepts, or relationships.<extra></extra>",
          "<b>Feature 20917</b><br>Base Mean Activation: 0.0000<br>Instruct Mean Activation: 0.2641<br>Difference: 0.2641<br><br><b>Introspective prompt-exclusive feature for Instruct</b><br>Base Introspective: 0.0% (0/40)<br>Base Control: 0.0% (0/40)<br>Instruct Introspective: 12.5% (5/40)<br>Instruct Control: 0.0% (0/40)<br><br><br><b>Description:</b><br>First-person and second-person pronouns (I, we, you) that establish the<br>speaker's identity or perspective, often in contexts of self-description or<br>direct address.<extra></extra>",
          "<b>Feature 29527</b><br>Base Mean Activation: 0.0000<br>Instruct Mean Activation: 0.8687<br>Difference: 0.8687<br><br><b>Introspective prompt-exclusive feature for Instruct</b><br>Base Introspective: 0.0% (0/40)<br>Base Control: 0.0% (0/40)<br>Instruct Introspective: 40.0% (16/40)<br>Instruct Control: 0.0% (0/40)<br><br><br><b>Description:</b><br>Text discussing human nature, emphasizing that people or characters have human<br>qualities, flaws, vulnerabilities, and imperfections.<extra></extra>",
          "<b>Feature 50953</b><br>Base Mean Activation: 0.0000<br>Instruct Mean Activation: 0.2133<br>Difference: 0.2133<br><br><b>Introspective prompt-exclusive feature for Instruct</b><br>Base Introspective: 0.0% (0/40)<br>Base Control: 0.0% (0/40)<br>Instruct Introspective: 10.0% (4/40)<br>Instruct Control: 0.0% (0/40)<br><br><br><b>Description:</b><br>Text patterns where people introduce themselves, greet others, or ask for<br>self-introductions in conversation.<extra></extra>",
          "<b>Feature 53398</b><br>Base Mean Activation: 0.0000<br>Instruct Mean Activation: 0.1014<br>Difference: 0.1014<br><br><b>Introspective prompt-exclusive feature for Instruct</b><br>Base Introspective: 0.0% (0/40)<br>Base Control: 0.0% (0/40)<br>Instruct Introspective: 5.0% (2/40)<br>Instruct Control: 0.0% (0/40)<br><br><br><b>Description:</b><br>References to artificial intelligence, robots, or mechanical/technological<br>entities and their components or characteristics.<extra></extra>",
          "<b>Feature 59338</b><br>Base Mean Activation: 0.0000<br>Instruct Mean Activation: 0.6895<br>Difference: 0.6895<br><br><b>Introspective prompt-exclusive feature for Instruct</b><br>Base Introspective: 0.0% (0/40)<br>Base Control: 0.0% (0/40)<br>Instruct Introspective: 32.5% (13/40)<br>Instruct Control: 0.0% (0/40)<br><br><br><b>Description:</b><br>Specific nouns representing objects, products, services, or specialized domains<br>that are the central subject of informational or descriptive content.<extra></extra>",
          "<b>Feature 63634</b><br>Base Mean Activation: 0.0000<br>Instruct Mean Activation: 0.8494<br>Difference: 0.8494<br><br><b>Introspective prompt-exclusive feature for Instruct</b><br>Base Introspective: 0.0% (0/40)<br>Base Control: 0.0% (0/40)<br>Instruct Introspective: 37.5% (15/40)<br>Instruct Control: 0.0% (0/40)<br><br><br><b>Description:</b><br>References to artificial intelligence, algorithms, and computational systems,<br>often discussing their capabilities, applications, or relationship to human<br>performance.<extra></extra>",
          "<b>Feature 81153</b><br>Base Mean Activation: 0.0000<br>Instruct Mean Activation: 0.6750<br>Difference: 0.6750<br><br><b>Introspective prompt-exclusive feature for Instruct</b><br>Base Introspective: 0.0% (0/40)<br>Base Control: 0.0% (0/40)<br>Instruct Introspective: 32.5% (13/40)<br>Instruct Control: 0.0% (0/40)<br><br><br><b>Description:</b><br>Common syntax elements, formatting tokens, and connecting words that appear at<br>structural boundaries in text, particularly in dates, legal references, code<br>snippets, and negative contractions.<extra></extra>",
          "<b>Feature 94598</b><br>Base Mean Activation: 0.0000<br>Instruct Mean Activation: 0.3996<br>Difference: 0.3996<br><br><b>Introspective prompt-exclusive feature for Instruct</b><br>Base Introspective: 0.0% (0/40)<br>Base Control: 0.0% (0/40)<br>Instruct Introspective: 20.0% (8/40)<br>Instruct Control: 0.0% (0/40)<br><br><br><b>Description:</b><br>Software platform names, web service components, and associated UI elements,<br>often appearing in technical documentation or product marketing materials.<extra></extra>"
         ],
         "legendgroup": "asst",
         "legendgrouptitle": {
          "text": "asst"
         },
         "marker": {
          "color": "#FF6B6B",
          "line": {
           "color": "black",
           "width": 0.3
          },
          "opacity": 0.7,
          "size": 6,
          "symbol": "square"
         },
         "mode": "markers",
         "name": "  Instruct Introspective",
         "text": [
          "Feature 4725",
          "Feature 10434",
          "Feature 20917",
          "Feature 29527",
          "Feature 50953",
          "Feature 53398",
          "Feature 59338",
          "Feature 63634",
          "Feature 81153",
          "Feature 94598"
         ],
         "type": "scattergl",
         "x": [
          0,
          0,
          0,
          0,
          0,
          0,
          0,
          0,
          0,
          0
         ],
         "y": [
          0.048046876,
          0.80625,
          0.2640625,
          0.86875,
          0.21328124,
          0.10136719,
          0.6894531,
          0.84941405,
          0.675,
          0.3996094
         ]
        },
        {
         "customdata": [
          "https://www.neuronpedia.org/llama3.1-8b/17-llamascope-res-131k/9560",
          "https://www.neuronpedia.org/llama3.1-8b/17-llamascope-res-131k/14614",
          "https://www.neuronpedia.org/llama3.1-8b/17-llamascope-res-131k/36810",
          "https://www.neuronpedia.org/llama3.1-8b/17-llamascope-res-131k/40457",
          "https://www.neuronpedia.org/llama3.1-8b/17-llamascope-res-131k/42497",
          "https://www.neuronpedia.org/llama3.1-8b/17-llamascope-res-131k/48789",
          "https://www.neuronpedia.org/llama3.1-8b/17-llamascope-res-131k/52861",
          "https://www.neuronpedia.org/llama3.1-8b/17-llamascope-res-131k/55219",
          "https://www.neuronpedia.org/llama3.1-8b/17-llamascope-res-131k/59000",
          "https://www.neuronpedia.org/llama3.1-8b/17-llamascope-res-131k/62807",
          "https://www.neuronpedia.org/llama3.1-8b/17-llamascope-res-131k/64893",
          "https://www.neuronpedia.org/llama3.1-8b/17-llamascope-res-131k/65448",
          "https://www.neuronpedia.org/llama3.1-8b/17-llamascope-res-131k/71479",
          "https://www.neuronpedia.org/llama3.1-8b/17-llamascope-res-131k/71526",
          "https://www.neuronpedia.org/llama3.1-8b/17-llamascope-res-131k/71732",
          "https://www.neuronpedia.org/llama3.1-8b/17-llamascope-res-131k/72750",
          "https://www.neuronpedia.org/llama3.1-8b/17-llamascope-res-131k/75005",
          "https://www.neuronpedia.org/llama3.1-8b/17-llamascope-res-131k/76358",
          "https://www.neuronpedia.org/llama3.1-8b/17-llamascope-res-131k/77744",
          "https://www.neuronpedia.org/llama3.1-8b/17-llamascope-res-131k/80862",
          "https://www.neuronpedia.org/llama3.1-8b/17-llamascope-res-131k/92872",
          "https://www.neuronpedia.org/llama3.1-8b/17-llamascope-res-131k/94026",
          "https://www.neuronpedia.org/llama3.1-8b/17-llamascope-res-131k/95462",
          "https://www.neuronpedia.org/llama3.1-8b/17-llamascope-res-131k/95798",
          "https://www.neuronpedia.org/llama3.1-8b/17-llamascope-res-131k/98707",
          "https://www.neuronpedia.org/llama3.1-8b/17-llamascope-res-131k/112009",
          "https://www.neuronpedia.org/llama3.1-8b/17-llamascope-res-131k/113492",
          "https://www.neuronpedia.org/llama3.1-8b/17-llamascope-res-131k/121234",
          "https://www.neuronpedia.org/llama3.1-8b/17-llamascope-res-131k/128721"
         ],
         "hoverlabel": {
          "bgcolor": "#4ECDC4",
          "bordercolor": "black",
          "font": {
           "color": "white",
           "family": "Arial",
           "size": 12
          }
         },
         "hovertemplate": [
          "<b>Feature 9560</b><br>Base Mean Activation: 0.0996<br>Instruct Mean Activation: 0.0000<br>Difference: -0.0996<br><br><b>Introspective prompt-exclusive feature for Base</b><br>Base Introspective: 5.0% (2/40)<br>Base Control: 0.0% (0/40)<br>Instruct Introspective: 0.0% (0/40)<br>Instruct Control: 0.0% (0/40)<br><br><br><b>Description:</b><br>File extensions or format names indicating specific types of computer files.<extra></extra>",
          "<b>Feature 14614</b><br>Base Mean Activation: 0.0633<br>Instruct Mean Activation: 0.0000<br>Difference: -0.0633<br><br><b>Introspective prompt-exclusive feature for Base</b><br>Base Introspective: 2.5% (1/40)<br>Base Control: 0.0% (0/40)<br>Instruct Introspective: 0.0% (0/40)<br>Instruct Control: 0.0% (0/40)<br><br><br><b>Description:</b><br>Web navigation instructions that direct users how to interact with page elements<br>to access additional content or functionality.<extra></extra>",
          "<b>Feature 36810</b><br>Base Mean Activation: 0.0490<br>Instruct Mean Activation: 0.0000<br>Difference: -0.0490<br><br><b>Introspective prompt-exclusive feature for Base</b><br>Base Introspective: 2.5% (1/40)<br>Base Control: 0.0% (0/40)<br>Instruct Introspective: 0.0% (0/40)<br>Instruct Control: 0.0% (0/40)<br><br><br><b>Description:</b><br>Escape sequences that represent line breaks or formatting characters (\\r, \\n,<br>\\t) within string literals, particularly in code that handles text formatting,<br>logging, or message output.<extra></extra>",
          "<b>Feature 40457</b><br>Base Mean Activation: 0.0492<br>Instruct Mean Activation: 0.0000<br>Difference: -0.0492<br><br><b>Introspective prompt-exclusive feature for Base</b><br>Base Introspective: 2.5% (1/40)<br>Base Control: 0.0% (0/40)<br>Instruct Introspective: 0.0% (0/40)<br>Instruct Control: 0.0% (0/40)<br><br><br><b>Description:</b><br>Punctuation and special characters (commas, parentheses) or technical tokens<br>that appear in formal contexts such as mathematical notation, programming code,<br>or structured text.<extra></extra>",
          "<b>Feature 42497</b><br>Base Mean Activation: 0.0523<br>Instruct Mean Activation: 0.0000<br>Difference: -0.0523<br><br><b>Introspective prompt-exclusive feature for Base</b><br>Base Introspective: 2.5% (1/40)<br>Base Control: 0.0% (0/40)<br>Instruct Introspective: 0.0% (0/40)<br>Instruct Control: 0.0% (0/40)<br><br><br><b>Description:</b><br>Scientific and technical terminology appearing in specialized contexts,<br>including gene names (MST3N), food items (wurst), structural elements (crust),<br>and telecommunications terms.<extra></extra>",
          "<b>Feature 48789</b><br>Base Mean Activation: 0.1758<br>Instruct Mean Activation: 0.0000<br>Difference: -0.1758<br><br><b>Introspective prompt-exclusive feature for Base</b><br>Base Introspective: 7.5% (3/40)<br>Base Control: 0.0% (0/40)<br>Instruct Introspective: 0.0% (0/40)<br>Instruct Control: 0.0% (0/40)<br><br><br><b>Description:</b><br>Library or module names that are prefixed before API methods, classes, or<br>variable references in various programming languages and frameworks (like<br>sqlite, llvm, firebase, aws, Chrome, excel, mpp, Markdown, vm, spam).<extra></extra>",
          "<b>Feature 52861</b><br>Base Mean Activation: 0.0492<br>Instruct Mean Activation: 0.0000<br>Difference: -0.0492<br><br><b>Introspective prompt-exclusive feature for Base</b><br>Base Introspective: 2.5% (1/40)<br>Base Control: 0.0% (0/40)<br>Instruct Introspective: 0.0% (0/40)<br>Instruct Control: 0.0% (0/40)<br><br><br><b>Description:</b><br>Numbers in the \"87\" and \"487\" range appearing in technical documentation,<br>academic papers, legal references, and bibliographic citations.<extra></extra>",
          "<b>Feature 55219</b><br>Base Mean Activation: 0.3061<br>Instruct Mean Activation: 0.0000<br>Difference: -0.3061<br><br><b>Introspective prompt-exclusive feature for Base</b><br>Base Introspective: 15.0% (6/40)<br>Base Control: 0.0% (0/40)<br>Instruct Introspective: 0.0% (0/40)<br>Instruct Control: 0.0% (0/40)<br><br><br><b>Description:</b><br>Specialized terms or proper nouns that appear within formal structured text like<br>bibliographic citations, geological maps, taxonomic names, or event listings.<extra></extra>",
          "<b>Feature 59000</b><br>Base Mean Activation: 0.0977<br>Instruct Mean Activation: 0.0000<br>Difference: -0.0977<br><br><b>Introspective prompt-exclusive feature for Base</b><br>Base Introspective: 5.0% (2/40)<br>Base Control: 0.0% (0/40)<br>Instruct Introspective: 0.0% (0/40)<br>Instruct Control: 0.0% (0/40)<br><br><br><b>Description:</b><br>Programming-related identifiers, variable names, and technical components within<br>software code and documentation.<extra></extra>",
          "<b>Feature 62807</b><br>Base Mean Activation: 0.1551<br>Instruct Mean Activation: 0.0000<br>Difference: -0.1551<br><br><b>Introspective prompt-exclusive feature for Base</b><br>Base Introspective: 7.5% (3/40)<br>Base Control: 0.0% (0/40)<br>Instruct Introspective: 0.0% (0/40)<br>Instruct Control: 0.0% (0/40)<br><br><br><b>Description:</b><br>Nouns and adjectives that describe qualities or attributes people are searching<br>for or looking for in products, services, or experiences. These often appear in<br>contexts where something is being described as appealing to a specific<br>audience's needs.<extra></extra>",
          "<b>Feature 64893</b><br>Base Mean Activation: 0.0496<br>Instruct Mean Activation: 0.0000<br>Difference: -0.0496<br><br><b>Introspective prompt-exclusive feature for Base</b><br>Base Introspective: 2.5% (1/40)<br>Base Control: 0.0% (0/40)<br>Instruct Introspective: 0.0% (0/40)<br>Instruct Control: 0.0% (0/40)<br><br><br><b>Description:</b><br>Underscores and adjacent tokens forming part of variable names, constants, or<br>macros in 3D printer firmware code, particularly related to delta printer<br>configuration, temperature control, and kinematic functions.<extra></extra>",
          "<b>Feature 65448</b><br>Base Mean Activation: 0.4938<br>Instruct Mean Activation: 0.0000<br>Difference: -0.4938<br><br><b>Introspective prompt-exclusive feature for Base</b><br>Base Introspective: 22.5% (9/40)<br>Base Control: 0.0% (0/40)<br>Instruct Introspective: 0.0% (0/40)<br>Instruct Control: 0.0% (0/40)<br><br><br><b>Description:</b><br>Characters or character sequences that appear in technical identifiers, code<br>snippets, URLs, or digital reference numbers.<extra></extra>",
          "<b>Feature 71479</b><br>Base Mean Activation: 0.0613<br>Instruct Mean Activation: 0.0000<br>Difference: -0.0613<br><br><b>Introspective prompt-exclusive feature for Base</b><br>Base Introspective: 2.5% (1/40)<br>Base Control: 0.0% (0/40)<br>Instruct Introspective: 0.0% (0/40)<br>Instruct Control: 0.0% (0/40)<br><br><br><b>Description:</b><br>Text segments discussing knowledge acquisition, learning processes, educational<br>contexts, or academic discourse.<extra></extra>",
          "<b>Feature 71526</b><br>Base Mean Activation: 0.1600<br>Instruct Mean Activation: 0.0000<br>Difference: -0.1600<br><br><b>Introspective prompt-exclusive feature for Base</b><br>Base Introspective: 7.5% (3/40)<br>Base Control: 0.0% (0/40)<br>Instruct Introspective: 0.0% (0/40)<br>Instruct Control: 0.0% (0/40)<br><br><br><b>Description:</b><br>Words linking elements in a sequence or relationship, often conjunctions (\"or\",<br>\"and\"), operators (\"+\"), prepositions (\"vs.\", \"as\"), or punctuation marks<br>connecting related items or concepts.<extra></extra>",
          "<b>Feature 71732</b><br>Base Mean Activation: 0.0973<br>Instruct Mean Activation: 0.0000<br>Difference: -0.0973<br><br><b>Introspective prompt-exclusive feature for Base</b><br>Base Introspective: 5.0% (2/40)<br>Base Control: 0.0% (0/40)<br>Instruct Introspective: 0.0% (0/40)<br>Instruct Control: 0.0% (0/40)<br><br><br><b>Description:</b><br>The token \"ou\" appearing in French text or specialized terminology, particularly<br>as part of proper nouns, technical terms like \"Liouville\", or common French<br>words.<extra></extra>",
          "<b>Feature 72750</b><br>Base Mean Activation: 0.0984<br>Instruct Mean Activation: 0.0000<br>Difference: -0.0984<br><br><b>Introspective prompt-exclusive feature for Base</b><br>Base Introspective: 5.0% (2/40)<br>Base Control: 0.0% (0/40)<br>Instruct Introspective: 0.0% (0/40)<br>Instruct Control: 0.0% (0/40)<br><br><br><b>Description:</b><br>Proper nouns, particularly surnames or place names, that appear in formal<br>contexts like citations, references, or institutional communications.<extra></extra>",
          "<b>Feature 75005</b><br>Base Mean Activation: 0.0543<br>Instruct Mean Activation: 0.0000<br>Difference: -0.0543<br><br><b>Introspective prompt-exclusive feature for Base</b><br>Base Introspective: 2.5% (1/40)<br>Base Control: 0.0% (0/40)<br>Instruct Introspective: 0.0% (0/40)<br>Instruct Control: 0.0% (0/40)<br><br><br><b>Description:</b><br>References to command line interfaces, shell environments, or terminal commands,<br>often in the context of tutorial instructions or technical documentation.<extra></extra>",
          "<b>Feature 76358</b><br>Base Mean Activation: 0.0742<br>Instruct Mean Activation: 0.0000<br>Difference: -0.0742<br><br><b>Introspective prompt-exclusive feature for Base</b><br>Base Introspective: 2.5% (1/40)<br>Base Control: 0.0% (0/40)<br>Instruct Introspective: 0.0% (0/40)<br>Instruct Control: 0.0% (0/40)<br><br><br><b>Description:</b><br>Special characters or symbols that function as structural or formatting elements<br>in digital text, often appearing at section boundaries or in list formatting.<extra></extra>",
          "<b>Feature 77744</b><br>Base Mean Activation: 0.0516<br>Instruct Mean Activation: 0.0000<br>Difference: -0.0516<br><br><b>Introspective prompt-exclusive feature for Base</b><br>Base Introspective: 2.5% (1/40)<br>Base Control: 0.0% (0/40)<br>Instruct Introspective: 0.0% (0/40)<br>Instruct Control: 0.0% (0/40)<br><br><br><b>Description:</b><br>End-of-content markers that appear in web text, typically at the end of titles,<br>filenames, URLs, or where content is truncated before continuing to a new<br>section.<extra></extra>",
          "<b>Feature 80862</b><br>Base Mean Activation: 0.0605<br>Instruct Mean Activation: 0.0000<br>Difference: -0.0605<br><br><b>Introspective prompt-exclusive feature for Base</b><br>Base Introspective: 2.5% (1/40)<br>Base Control: 0.0% (0/40)<br>Instruct Introspective: 0.0% (0/40)<br>Instruct Control: 0.0% (0/40)<br><br><br><b>Description:</b><br>References to different forms of electronic communication, especially messaging<br>technologies like email, instant messaging, chat, phone calls, and voice<br>communications - often appearing together in lists or as features of<br>communication systems.<extra></extra>",
          "<b>Feature 92872</b><br>Base Mean Activation: 0.0516<br>Instruct Mean Activation: 0.0000<br>Difference: -0.0516<br><br><b>Introspective prompt-exclusive feature for Base</b><br>Base Introspective: 2.5% (1/40)<br>Base Control: 0.0% (0/40)<br>Instruct Introspective: 0.0% (0/40)<br>Instruct Control: 0.0% (0/40)<br><br><br><b>Description:</b><br>Website or publication names in the footer or header sections of web pages,<br>often appearing near contact information, copyright notices, or navigation<br>elements.<extra></extra>",
          "<b>Feature 94026</b><br>Base Mean Activation: 0.3066<br>Instruct Mean Activation: 0.0000<br>Difference: -0.3066<br><br><b>Introspective prompt-exclusive feature for Base</b><br>Base Introspective: 15.0% (6/40)<br>Base Control: 0.0% (0/40)<br>Instruct Introspective: 0.0% (0/40)<br>Instruct Control: 0.0% (0/40)<br><br><br><b>Description:</b><br>The definite article \"the\" appearing in promotional or informational website<br>content, often before nouns referring to products, services, programs or content<br>that the website wants users to engage with.<extra></extra>",
          "<b>Feature 95462</b><br>Base Mean Activation: 0.0500<br>Instruct Mean Activation: 0.0000<br>Difference: -0.0500<br><br><b>Introspective prompt-exclusive feature for Base</b><br>Base Introspective: 2.5% (1/40)<br>Base Control: 0.0% (0/40)<br>Instruct Introspective: 0.0% (0/40)<br>Instruct Control: 0.0% (0/40)<br><br><br><b>Description:</b><br>Polite request phrases in online help-seeking contexts where users ask others<br>for explanations, clarification, or advice.<extra></extra>",
          "<b>Feature 95798</b><br>Base Mean Activation: 0.0523<br>Instruct Mean Activation: 0.0000<br>Difference: -0.0523<br><br><b>Introspective prompt-exclusive feature for Base</b><br>Base Introspective: 2.5% (1/40)<br>Base Control: 0.0% (0/40)<br>Instruct Introspective: 0.0% (0/40)<br>Instruct Control: 0.0% (0/40)<br><br><br><b>Description:</b><br>Punctuation (commas) and conjunctions (\"and\") that separate items in lists of<br>proper nouns, technical terms, or named entities.<extra></extra>",
          "<b>Feature 98707</b><br>Base Mean Activation: 0.0523<br>Instruct Mean Activation: 0.0000<br>Difference: -0.0523<br><br><b>Introspective prompt-exclusive feature for Base</b><br>Base Introspective: 2.5% (1/40)<br>Base Control: 0.0% (0/40)<br>Instruct Introspective: 0.0% (0/40)<br>Instruct Control: 0.0% (0/40)<br><br><br><b>Description:</b><br>Text related to healthcare organizations, medical facilities, electronic health<br>records (EHR), HIPAA compliance, and healthcare information technology systems.<br>The highlights often appear in news articles, job listings, or regulatory<br>updates about healthcare institutions, their digital transformation, and<br>compliance requirements.<extra></extra>",
          "<b>Feature 112009</b><br>Base Mean Activation: 0.0500<br>Instruct Mean Activation: 0.0000<br>Difference: -0.0500<br><br><b>Introspective prompt-exclusive feature for Base</b><br>Base Introspective: 2.5% (1/40)<br>Base Control: 0.0% (0/40)<br>Instruct Introspective: 0.0% (0/40)<br>Instruct Control: 0.0% (0/40)<br><br><br><b>Description:</b><br>Action verbs or content indicators that begin interactive elements on webpages,<br>typically preceding additional content descriptors or links.<extra></extra>",
          "<b>Feature 113492</b><br>Base Mean Activation: 0.3742<br>Instruct Mean Activation: 0.0000<br>Difference: -0.3742<br><br><b>Introspective prompt-exclusive feature for Base</b><br>Base Introspective: 15.0% (6/40)<br>Base Control: 0.0% (0/40)<br>Instruct Introspective: 0.0% (0/40)<br>Instruct Control: 0.0% (0/40)<br><br><br><b>Description:</b><br>Professional titles, occupations, and job-related terms, particularly when<br>appearing in lists or descriptions of career options.<extra></extra>",
          "<b>Feature 121234</b><br>Base Mean Activation: 0.1078<br>Instruct Mean Activation: 0.0000<br>Difference: -0.1078<br><br><b>Introspective prompt-exclusive feature for Base</b><br>Base Introspective: 5.0% (2/40)<br>Base Control: 0.0% (0/40)<br>Instruct Introspective: 0.0% (0/40)<br>Instruct Control: 0.0% (0/40)<br><br><br><b>Description:</b><br>Character names in narrative fiction that serve as perspective anchors,<br>typically appearing at paragraph beginnings and followed by the character's<br>actions, thoughts, or dialogue.<extra></extra>",
          "<b>Feature 128721</b><br>Base Mean Activation: 0.1508<br>Instruct Mean Activation: 0.0000<br>Difference: -0.1508<br><br><b>Introspective prompt-exclusive feature for Base</b><br>Base Introspective: 7.5% (3/40)<br>Base Control: 0.0% (0/40)<br>Instruct Introspective: 0.0% (0/40)<br>Instruct Control: 0.0% (0/40)<br><br><br><b>Description:</b><br>Tokens representing dictionary-style entries, especially terms that appear in<br>reference works, Wikipedia pages, or other informational sources. These often<br>contain proper nouns, technical terms, or words being defined within their<br>respective contexts.<extra></extra>"
         ],
         "legendgroup": "endheader",
         "legendgrouptitle": {
          "text": "endheader"
         },
         "marker": {
          "color": "#4ECDC4",
          "line": {
           "color": "black",
           "width": 0.3
          },
          "opacity": 0.7,
          "size": 6,
          "symbol": "circle"
         },
         "mode": "markers",
         "name": "  Base Introspective",
         "text": [
          "Feature 9560",
          "Feature 14614",
          "Feature 36810",
          "Feature 40457",
          "Feature 42497",
          "Feature 48789",
          "Feature 52861",
          "Feature 55219",
          "Feature 59000",
          "Feature 62807",
          "Feature 64893",
          "Feature 65448",
          "Feature 71479",
          "Feature 71526",
          "Feature 71732",
          "Feature 72750",
          "Feature 75005",
          "Feature 76358",
          "Feature 77744",
          "Feature 80862",
          "Feature 92872",
          "Feature 94026",
          "Feature 95462",
          "Feature 95798",
          "Feature 98707",
          "Feature 112009",
          "Feature 113492",
          "Feature 121234",
          "Feature 128721"
         ],
         "type": "scattergl",
         "x": [
          0.099609375,
          0.06328125,
          0.04902344,
          0.04921875,
          0.05234375,
          0.17578125,
          0.04921875,
          0.30605468,
          0.09765625,
          0.15507813,
          0.049609374,
          0.49375,
          0.061328124,
          0.15996094,
          0.09726562,
          0.0984375,
          0.054296874,
          0.07421875,
          0.0515625,
          0.060546875,
          0.0515625,
          0.30664062,
          0.05,
          0.05234375,
          0.05234375,
          0.05,
          0.37421876,
          0.1078125,
          0.15078124
         ],
         "y": [
          0,
          0,
          0,
          0,
          0,
          0,
          0,
          0,
          0,
          0,
          0,
          0,
          0,
          0,
          0,
          0,
          0,
          0,
          0,
          0,
          0,
          0,
          0,
          0,
          0,
          0,
          0,
          0,
          0
         ]
        },
        {
         "customdata": [
          "https://www.neuronpedia.org/llama3.1-8b/17-llamascope-res-131k/3933",
          "https://www.neuronpedia.org/llama3.1-8b/17-llamascope-res-131k/5916",
          "https://www.neuronpedia.org/llama3.1-8b/17-llamascope-res-131k/12734",
          "https://www.neuronpedia.org/llama3.1-8b/17-llamascope-res-131k/16431",
          "https://www.neuronpedia.org/llama3.1-8b/17-llamascope-res-131k/17112",
          "https://www.neuronpedia.org/llama3.1-8b/17-llamascope-res-131k/20917",
          "https://www.neuronpedia.org/llama3.1-8b/17-llamascope-res-131k/28213",
          "https://www.neuronpedia.org/llama3.1-8b/17-llamascope-res-131k/30249",
          "https://www.neuronpedia.org/llama3.1-8b/17-llamascope-res-131k/50953",
          "https://www.neuronpedia.org/llama3.1-8b/17-llamascope-res-131k/53398",
          "https://www.neuronpedia.org/llama3.1-8b/17-llamascope-res-131k/71571",
          "https://www.neuronpedia.org/llama3.1-8b/17-llamascope-res-131k/98656",
          "https://www.neuronpedia.org/llama3.1-8b/17-llamascope-res-131k/126107"
         ],
         "hoverlabel": {
          "bgcolor": "#4ECDC4",
          "bordercolor": "black",
          "font": {
           "color": "white",
           "family": "Arial",
           "size": 12
          }
         },
         "hovertemplate": [
          "<b>Feature 3933</b><br>Base Mean Activation: 0.0000<br>Instruct Mean Activation: 0.4688<br>Difference: 0.4688<br><br><b>Introspective prompt-exclusive feature for Instruct</b><br>Base Introspective: 0.0% (0/40)<br>Base Control: 0.0% (0/40)<br>Instruct Introspective: 22.5% (9/40)<br>Instruct Control: 0.0% (0/40)<br><br><br><b>Description:</b><br>End-of-section markers in digital content, particularly hyperlinks, closing<br>punctuation, and formatting elements that indicate the conclusion of a paragraph<br>or content section before a new section begins.<extra></extra>",
          "<b>Feature 5916</b><br>Base Mean Activation: 0.0000<br>Instruct Mean Activation: 0.2055<br>Difference: 0.2055<br><br><b>Introspective prompt-exclusive feature for Instruct</b><br>Base Introspective: 0.0% (0/40)<br>Base Control: 0.0% (0/40)<br>Instruct Introspective: 10.0% (4/40)<br>Instruct Control: 0.0% (0/40)<br><br><br><b>Description:</b><br>Characters or entities that serve important narrative functions such as guides,<br>authorities, or supernatural beings who direct, teach, or transform other<br>characters in stories.<extra></extra>",
          "<b>Feature 12734</b><br>Base Mean Activation: 0.0000<br>Instruct Mean Activation: 0.0566<br>Difference: 0.0566<br><br><b>Introspective prompt-exclusive feature for Instruct</b><br>Base Introspective: 0.0% (0/40)<br>Base Control: 0.0% (0/40)<br>Instruct Introspective: 2.5% (1/40)<br>Instruct Control: 0.0% (0/40)<br><br><br><b>Description:</b><br>Period punctuation that marks the end of a biographical statement before<br>transitioning to new information.<extra></extra>",
          "<b>Feature 16431</b><br>Base Mean Activation: 0.0000<br>Instruct Mean Activation: 0.0998<br>Difference: 0.0998<br><br><b>Introspective prompt-exclusive feature for Instruct</b><br>Base Introspective: 0.0% (0/40)<br>Base Control: 0.0% (0/40)<br>Instruct Introspective: 5.0% (2/40)<br>Instruct Control: 0.0% (0/40)<br><br><br><b>Description:</b><br>End points of distinct content sections or information blocks, often preceding a<br>transition to a new topic.<extra></extra>",
          "<b>Feature 17112</b><br>Base Mean Activation: 0.0000<br>Instruct Mean Activation: 0.6643<br>Difference: 0.6643<br><br><b>Introspective prompt-exclusive feature for Instruct</b><br>Base Introspective: 0.0% (0/40)<br>Base Control: 0.0% (0/40)<br>Instruct Introspective: 30.0% (12/40)<br>Instruct Control: 0.0% (0/40)<br><br><br><b>Description:</b><br>A colon preceding quoted text, typically introducing a formal statement, email,<br>letter, or other direct communication.<extra></extra>",
          "<b>Feature 20917</b><br>Base Mean Activation: 0.0000<br>Instruct Mean Activation: 0.2711<br>Difference: 0.2711<br><br><b>Introspective prompt-exclusive feature for Instruct</b><br>Base Introspective: 0.0% (0/40)<br>Base Control: 0.0% (0/40)<br>Instruct Introspective: 12.5% (5/40)<br>Instruct Control: 0.0% (0/40)<br><br><br><b>Description:</b><br>First-person and second-person pronouns (I, we, you) that establish the<br>speaker's identity or perspective, often in contexts of self-description or<br>direct address.<extra></extra>",
          "<b>Feature 28213</b><br>Base Mean Activation: 0.0000<br>Instruct Mean Activation: 0.3656<br>Difference: 0.3656<br><br><b>Introspective prompt-exclusive feature for Instruct</b><br>Base Introspective: 0.0% (0/40)<br>Base Control: 0.0% (0/40)<br>Instruct Introspective: 17.5% (7/40)<br>Instruct Control: 0.0% (0/40)<br><br><br><b>Description:</b><br>Technical syntax elements and specialized terminology appearing in code,<br>mathematical expressions, citations, and formal documentation.<extra></extra>",
          "<b>Feature 30249</b><br>Base Mean Activation: 0.0000<br>Instruct Mean Activation: 0.1133<br>Difference: 0.1133<br><br><b>Introspective prompt-exclusive feature for Instruct</b><br>Base Introspective: 0.0% (0/40)<br>Base Control: 0.0% (0/40)<br>Instruct Introspective: 5.0% (2/40)<br>Instruct Control: 0.0% (0/40)<br><br><br><b>Description:</b><br>Technical explanatory text describing mechanisms, structures, or processes,<br>often using connecting phrases to relate components in scientific or medical<br>contexts.<extra></extra>",
          "<b>Feature 50953</b><br>Base Mean Activation: 0.0000<br>Instruct Mean Activation: 0.2270<br>Difference: 0.2270<br><br><b>Introspective prompt-exclusive feature for Instruct</b><br>Base Introspective: 0.0% (0/40)<br>Base Control: 0.0% (0/40)<br>Instruct Introspective: 7.5% (3/40)<br>Instruct Control: 0.0% (0/40)<br><br><br><b>Description:</b><br>Text patterns where people introduce themselves, greet others, or ask for<br>self-introductions in conversation.<extra></extra>",
          "<b>Feature 53398</b><br>Base Mean Activation: 0.0000<br>Instruct Mean Activation: 0.5059<br>Difference: 0.5059<br><br><b>Introspective prompt-exclusive feature for Instruct</b><br>Base Introspective: 0.0% (0/40)<br>Base Control: 0.0% (0/40)<br>Instruct Introspective: 22.5% (9/40)<br>Instruct Control: 0.0% (0/40)<br><br><br><b>Description:</b><br>References to artificial intelligence, robots, or mechanical/technological<br>entities and their components or characteristics.<extra></extra>",
          "<b>Feature 71571</b><br>Base Mean Activation: 0.0000<br>Instruct Mean Activation: 0.3725<br>Difference: 0.3725<br><br><b>Introspective prompt-exclusive feature for Instruct</b><br>Base Introspective: 0.0% (0/40)<br>Base Control: 0.0% (0/40)<br>Instruct Introspective: 17.5% (7/40)<br>Instruct Control: 0.0% (0/40)<br><br><br><b>Description:</b><br>Descriptions of AI systems' capabilities or limitations, often in comparison to<br>human abilities or biological processes.<extra></extra>",
          "<b>Feature 98656</b><br>Base Mean Activation: 0.0000<br>Instruct Mean Activation: 0.1020<br>Difference: 0.1020<br><br><b>Introspective prompt-exclusive feature for Instruct</b><br>Base Introspective: 0.0% (0/40)<br>Base Control: 0.0% (0/40)<br>Instruct Introspective: 5.0% (2/40)<br>Instruct Control: 0.0% (0/40)<br><br><br><b>Description:</b><br>Text fragments highlighted seemingly at random across different document types,<br>with no consistent semantic or syntactic pattern.<extra></extra>",
          "<b>Feature 126107</b><br>Base Mean Activation: 0.0000<br>Instruct Mean Activation: 0.0594<br>Difference: 0.0594<br><br><b>Introspective prompt-exclusive feature for Instruct</b><br>Base Introspective: 0.0% (0/40)<br>Base Control: 0.0% (0/40)<br>Instruct Introspective: 2.5% (1/40)<br>Instruct Control: 0.0% (0/40)<br><br><br><b>Description:</b><br>Text describing therapeutic approaches, counseling methodologies, and the<br>therapist-client relationship.<extra></extra>"
         ],
         "legendgroup": "endheader",
         "legendgrouptitle": {
          "text": "endheader"
         },
         "marker": {
          "color": "#4ECDC4",
          "line": {
           "color": "black",
           "width": 0.3
          },
          "opacity": 0.7,
          "size": 6,
          "symbol": "square"
         },
         "mode": "markers",
         "name": "  Instruct Introspective",
         "text": [
          "Feature 3933",
          "Feature 5916",
          "Feature 12734",
          "Feature 16431",
          "Feature 17112",
          "Feature 20917",
          "Feature 28213",
          "Feature 30249",
          "Feature 50953",
          "Feature 53398",
          "Feature 71571",
          "Feature 98656",
          "Feature 126107"
         ],
         "type": "scattergl",
         "x": [
          0,
          0,
          0,
          0,
          0,
          0,
          0,
          0,
          0,
          0,
          0,
          0,
          0
         ],
         "y": [
          0.46875,
          0.20546874,
          0.056640625,
          0.099804685,
          0.6642578,
          0.27109376,
          0.365625,
          0.11328125,
          0.22695312,
          0.5058594,
          0.37246093,
          0.10195313,
          0.059375
         ]
        },
        {
         "customdata": [
          "https://www.neuronpedia.org/llama3.1-8b/17-llamascope-res-131k/50953"
         ],
         "hoverlabel": {
          "bgcolor": "#45B7D1",
          "bordercolor": "black",
          "font": {
           "color": "white",
           "family": "Arial",
           "size": 12
          }
         },
         "hovertemplate": [
          "<b>Feature 50953</b><br>Base Mean Activation: 0.1707<br>Instruct Mean Activation: 1.0254<br>Difference: 0.8547<br><br><b>Introspective prompt-exclusive feature for both models</b><br>Base Introspective: 7.5% (3/40)<br>Base Control: 0.0% (0/40)<br>Instruct Introspective: 27.5% (11/40)<br>Instruct Control: 0.0% (0/40)<br><br><br><b>Description:</b><br>Text patterns where people introduce themselves, greet others, or ask for<br>self-introductions in conversation.<extra></extra>"
         ],
         "legendgroup": "newline",
         "legendgrouptitle": {
          "text": "newline"
         },
         "marker": {
          "color": "#45B7D1",
          "line": {
           "color": "black",
           "width": 0.3
          },
          "opacity": 0.7,
          "size": 6,
          "symbol": "star"
         },
         "mode": "markers",
         "name": "  Both Introspective",
         "text": [
          "Feature 50953"
         ],
         "type": "scattergl",
         "x": [
          0.17070313
         ],
         "y": [
          1.0253906
         ]
        },
        {
         "customdata": [
          "https://www.neuronpedia.org/llama3.1-8b/17-llamascope-res-131k/3187",
          "https://www.neuronpedia.org/llama3.1-8b/17-llamascope-res-131k/10910",
          "https://www.neuronpedia.org/llama3.1-8b/17-llamascope-res-131k/30141",
          "https://www.neuronpedia.org/llama3.1-8b/17-llamascope-res-131k/31836",
          "https://www.neuronpedia.org/llama3.1-8b/17-llamascope-res-131k/32747",
          "https://www.neuronpedia.org/llama3.1-8b/17-llamascope-res-131k/35545",
          "https://www.neuronpedia.org/llama3.1-8b/17-llamascope-res-131k/38730",
          "https://www.neuronpedia.org/llama3.1-8b/17-llamascope-res-131k/42690",
          "https://www.neuronpedia.org/llama3.1-8b/17-llamascope-res-131k/43567",
          "https://www.neuronpedia.org/llama3.1-8b/17-llamascope-res-131k/45438",
          "https://www.neuronpedia.org/llama3.1-8b/17-llamascope-res-131k/45539",
          "https://www.neuronpedia.org/llama3.1-8b/17-llamascope-res-131k/46976",
          "https://www.neuronpedia.org/llama3.1-8b/17-llamascope-res-131k/47393",
          "https://www.neuronpedia.org/llama3.1-8b/17-llamascope-res-131k/48821",
          "https://www.neuronpedia.org/llama3.1-8b/17-llamascope-res-131k/49692",
          "https://www.neuronpedia.org/llama3.1-8b/17-llamascope-res-131k/51248",
          "https://www.neuronpedia.org/llama3.1-8b/17-llamascope-res-131k/54584",
          "https://www.neuronpedia.org/llama3.1-8b/17-llamascope-res-131k/55090",
          "https://www.neuronpedia.org/llama3.1-8b/17-llamascope-res-131k/70701",
          "https://www.neuronpedia.org/llama3.1-8b/17-llamascope-res-131k/77380",
          "https://www.neuronpedia.org/llama3.1-8b/17-llamascope-res-131k/77387",
          "https://www.neuronpedia.org/llama3.1-8b/17-llamascope-res-131k/78562",
          "https://www.neuronpedia.org/llama3.1-8b/17-llamascope-res-131k/82549",
          "https://www.neuronpedia.org/llama3.1-8b/17-llamascope-res-131k/87080",
          "https://www.neuronpedia.org/llama3.1-8b/17-llamascope-res-131k/98090",
          "https://www.neuronpedia.org/llama3.1-8b/17-llamascope-res-131k/113394",
          "https://www.neuronpedia.org/llama3.1-8b/17-llamascope-res-131k/114705",
          "https://www.neuronpedia.org/llama3.1-8b/17-llamascope-res-131k/114835",
          "https://www.neuronpedia.org/llama3.1-8b/17-llamascope-res-131k/115804",
          "https://www.neuronpedia.org/llama3.1-8b/17-llamascope-res-131k/126861"
         ],
         "hoverlabel": {
          "bgcolor": "#45B7D1",
          "bordercolor": "black",
          "font": {
           "color": "white",
           "family": "Arial",
           "size": 12
          }
         },
         "hovertemplate": [
          "<b>Feature 3187</b><br>Base Mean Activation: 0.1953<br>Instruct Mean Activation: 0.0000<br>Difference: -0.1953<br><br><b>Introspective prompt-exclusive feature for Base</b><br>Base Introspective: 7.5% (3/40)<br>Base Control: 0.0% (0/40)<br>Instruct Introspective: 0.0% (0/40)<br>Instruct Control: 0.0% (0/40)<br><br><br><b>Description:</b><br>The highlighted text segments typically include \"the\" preceding noun phrases,<br>common assessment tools (like \"CliftonStrengths\"), or action phrases relating to<br>discovering or presenting information (such as \"wrapped lists\", \"assessment\",<br>\"discovering\", \"comprehension was\"). These often appear in educational,<br>evaluative, or informational contexts.<extra></extra>",
          "<b>Feature 10910</b><br>Base Mean Activation: 0.0496<br>Instruct Mean Activation: 0.0000<br>Difference: -0.0496<br><br><b>Introspective prompt-exclusive feature for Base</b><br>Base Introspective: 2.5% (1/40)<br>Base Control: 0.0% (0/40)<br>Instruct Introspective: 0.0% (0/40)<br>Instruct Control: 0.0% (0/40)<br><br><br><b>Description:</b><br>The end of a term or name that is immediately followed by punctuation (typically<br>parentheses, commas, or colons) that introduces explanatory or supplementary<br>information.<extra></extra>",
          "<b>Feature 30141</b><br>Base Mean Activation: 0.1215<br>Instruct Mean Activation: 0.0000<br>Difference: -0.1215<br><br><b>Introspective prompt-exclusive feature for Base</b><br>Base Introspective: 5.0% (2/40)<br>Base Control: 0.0% (0/40)<br>Instruct Introspective: 0.0% (0/40)<br>Instruct Control: 0.0% (0/40)<br><br><br><b>Description:</b><br>Twitter handles and related Twitter content markers that appear in text, often<br>as part of website footer sections, social media embedding, or \"follow us\" calls<br>to action.<extra></extra>",
          "<b>Feature 31836</b><br>Base Mean Activation: 0.1027<br>Instruct Mean Activation: 0.0000<br>Difference: -0.1027<br><br><b>Introspective prompt-exclusive feature for Base</b><br>Base Introspective: 5.0% (2/40)<br>Base Control: 0.0% (0/40)<br>Instruct Introspective: 0.0% (0/40)<br>Instruct Control: 0.0% (0/40)<br><br><br><b>Description:</b><br>Website or publication names followed by separator characters (-, :, |, –) that<br>divide the main entity name from supplementary information like section titles<br>or taglines.<extra></extra>",
          "<b>Feature 32747</b><br>Base Mean Activation: 0.0488<br>Instruct Mean Activation: 0.0000<br>Difference: -0.0488<br><br><b>Introspective prompt-exclusive feature for Base</b><br>Base Introspective: 2.5% (1/40)<br>Base Control: 0.0% (0/40)<br>Instruct Introspective: 0.0% (0/40)<br>Instruct Control: 0.0% (0/40)<br><br><br><b>Description:</b><br>Technical terminology from computing, electronics, and programming contexts,<br>including hardware component names, function parameters, code elements, and<br>numerical specifications.<extra></extra>",
          "<b>Feature 35545</b><br>Base Mean Activation: 0.3098<br>Instruct Mean Activation: 0.0000<br>Difference: -0.3098<br><br><b>Introspective prompt-exclusive feature for Base</b><br>Base Introspective: 15.0% (6/40)<br>Base Control: 0.0% (0/40)<br>Instruct Introspective: 0.0% (0/40)<br>Instruct Control: 0.0% (0/40)<br><br><br><b>Description:</b><br>End-of-section markers that often appear at content boundaries, typically before<br>punctuation or at transitions between different text segments.<extra></extra>",
          "<b>Feature 38730</b><br>Base Mean Activation: 0.0559<br>Instruct Mean Activation: 0.0000<br>Difference: -0.0559<br><br><b>Introspective prompt-exclusive feature for Base</b><br>Base Introspective: 2.5% (1/40)<br>Base Control: 0.0% (0/40)<br>Instruct Introspective: 0.0% (0/40)<br>Instruct Control: 0.0% (0/40)<br><br><br><b>Description:</b><br>A line break that serves as a formatting delimiter between a title/heading and<br>the descriptive content that follows it.<extra></extra>",
          "<b>Feature 42690</b><br>Base Mean Activation: 0.0582<br>Instruct Mean Activation: 0.0000<br>Difference: -0.0582<br><br><b>Introspective prompt-exclusive feature for Base</b><br>Base Introspective: 2.5% (1/40)<br>Base Control: 0.0% (0/40)<br>Instruct Introspective: 0.0% (0/40)<br>Instruct Control: 0.0% (0/40)<br><br><br><b>Description:</b><br>Username identifiers and their associated comments in online forum/discussion<br>board posts, often appearing in a structured format within threaded<br>conversations.<extra></extra>",
          "<b>Feature 43567</b><br>Base Mean Activation: 0.0480<br>Instruct Mean Activation: 0.0000<br>Difference: -0.0480<br><br><b>Introspective prompt-exclusive feature for Base</b><br>Base Introspective: 2.5% (1/40)<br>Base Control: 0.0% (0/40)<br>Instruct Introspective: 0.0% (0/40)<br>Instruct Control: 0.0% (0/40)<br><br><br><b>Description:</b><br>Punctuation marks and transitions around quoted speech or dialogue, particularly<br>periods and commas inside quotation marks, and words beginning or ending quoted<br>segments.<extra></extra>",
          "<b>Feature 45438</b><br>Base Mean Activation: 0.0609<br>Instruct Mean Activation: 0.0000<br>Difference: -0.0609<br><br><b>Introspective prompt-exclusive feature for Base</b><br>Base Introspective: 2.5% (1/40)<br>Base Control: 0.0% (0/40)<br>Instruct Introspective: 0.0% (0/40)<br>Instruct Control: 0.0% (0/40)<br><br><br><b>Description:</b><br>A formatting pattern that separates an introduction from quoted content,<br>reviews, comments, or testimonials that follow.<extra></extra>",
          "<b>Feature 45539</b><br>Base Mean Activation: 0.0490<br>Instruct Mean Activation: 0.0000<br>Difference: -0.0490<br><br><b>Introspective prompt-exclusive feature for Base</b><br>Base Introspective: 2.5% (1/40)<br>Base Control: 0.0% (0/40)<br>Instruct Introspective: 0.0% (0/40)<br>Instruct Control: 0.0% (0/40)<br><br><br><b>Description:</b><br>Double angle brackets \">>\" marking the end of executable code blocks, commands,<br>or configuration entries in technical documentation.<extra></extra>",
          "<b>Feature 46976</b><br>Base Mean Activation: 0.0486<br>Instruct Mean Activation: 0.0000<br>Difference: -0.0486<br><br><b>Introspective prompt-exclusive feature for Base</b><br>Base Introspective: 2.5% (1/40)<br>Base Control: 0.0% (0/40)<br>Instruct Introspective: 0.0% (0/40)<br>Instruct Control: 0.0% (0/40)<br><br><br><b>Description:</b><br>Programming syntax patterns showing method/object chaining with dot notation,<br>particularly in JavaScript, Java and other object-oriented languages, often<br>involving framework components (like CAAT.Director) followed by method calls and<br>parameter documentation.<extra></extra>",
          "<b>Feature 47393</b><br>Base Mean Activation: 0.1937<br>Instruct Mean Activation: 0.0000<br>Difference: -0.1937<br><br><b>Introspective prompt-exclusive feature for Base</b><br>Base Introspective: 7.5% (3/40)<br>Base Control: 0.0% (0/40)<br>Instruct Introspective: 0.0% (0/40)<br>Instruct Control: 0.0% (0/40)<br><br><br><b>Description:</b><br>Opening quotation marks and sometimes first words of direct speech, often<br>preceded by speech attribution phrases like \"said\" or \"saying\".<extra></extra>",
          "<b>Feature 48821</b><br>Base Mean Activation: 0.0535<br>Instruct Mean Activation: 0.0000<br>Difference: -0.0535<br><br><b>Introspective prompt-exclusive feature for Base</b><br>Base Introspective: 2.5% (1/40)<br>Base Control: 0.0% (0/40)<br>Instruct Introspective: 0.0% (0/40)<br>Instruct Control: 0.0% (0/40)<br><br><br><b>Description:</b><br>References to to-do lists, task management systems, or tracking activities to be<br>completed.<extra></extra>",
          "<b>Feature 49692</b><br>Base Mean Activation: 0.0496<br>Instruct Mean Activation: 0.0000<br>Difference: -0.0496<br><br><b>Introspective prompt-exclusive feature for Base</b><br>Base Introspective: 2.5% (1/40)<br>Base Control: 0.0% (0/40)<br>Instruct Introspective: 0.0% (0/40)<br>Instruct Control: 0.0% (0/40)<br><br><br><b>Description:</b><br>Clickable links or call-to-action buttons on websites, usually represented as<br>imperative phrases or navigation options that invite user interaction.<extra></extra>",
          "<b>Feature 51248</b><br>Base Mean Activation: 0.2611<br>Instruct Mean Activation: 0.0000<br>Difference: -0.2611<br><br><b>Introspective prompt-exclusive feature for Base</b><br>Base Introspective: 12.5% (5/40)<br>Base Control: 0.0% (0/40)<br>Instruct Introspective: 0.0% (0/40)<br>Instruct Control: 0.0% (0/40)<br><br><br><b>Description:</b><br>Educational service terminology, particularly related to online tutoring,<br>homework assistance, and student learning support systems.<extra></extra>",
          "<b>Feature 54584</b><br>Base Mean Activation: 0.1057<br>Instruct Mean Activation: 0.0000<br>Difference: -0.1057<br><br><b>Introspective prompt-exclusive feature for Base</b><br>Base Introspective: 5.0% (2/40)<br>Base Control: 0.0% (0/40)<br>Instruct Introspective: 0.0% (0/40)<br>Instruct Control: 0.0% (0/40)<br><br><br><b>Description:</b><br>Code-related terminology, method calls, and references to technology platforms<br>like Stack Overflow, appearing in programming contexts and web forum<br>discussions.<extra></extra>",
          "<b>Feature 55090</b><br>Base Mean Activation: 0.2496<br>Instruct Mean Activation: 0.0000<br>Difference: -0.2496<br><br><b>Introspective prompt-exclusive feature for Base</b><br>Base Introspective: 10.0% (4/40)<br>Base Control: 0.0% (0/40)<br>Instruct Introspective: 0.0% (0/40)<br>Instruct Control: 0.0% (0/40)<br><br><br><b>Description:</b><br>Opening or closing quotes in code or string literals, often used in programming<br>context to define string boundaries or as part of syntax in different<br>programming languages.<extra></extra>",
          "<b>Feature 70701</b><br>Base Mean Activation: 0.1531<br>Instruct Mean Activation: 0.0000<br>Difference: -0.1531<br><br><b>Introspective prompt-exclusive feature for Base</b><br>Base Introspective: 5.0% (2/40)<br>Base Control: 0.0% (0/40)<br>Instruct Introspective: 0.0% (0/40)<br>Instruct Control: 0.0% (0/40)<br><br><br><b>Description:</b><br>HTML closing tags that terminate elements (like \"/>\" or \">\"), often appearing at<br>line endings before new HTML elements begin.<extra></extra>",
          "<b>Feature 77380</b><br>Base Mean Activation: 0.0488<br>Instruct Mean Activation: 0.0000<br>Difference: -0.0488<br><br><b>Introspective prompt-exclusive feature for Base</b><br>Base Introspective: 2.5% (1/40)<br>Base Control: 0.0% (0/40)<br>Instruct Introspective: 0.0% (0/40)<br>Instruct Control: 0.0% (0/40)<br><br><br><b>Description:</b><br>Programming code sections where quotation marks or message constants are used in<br>string output operations.<extra></extra>",
          "<b>Feature 77387</b><br>Base Mean Activation: 0.0480<br>Instruct Mean Activation: 0.0000<br>Difference: -0.0480<br><br><b>Introspective prompt-exclusive feature for Base</b><br>Base Introspective: 2.5% (1/40)<br>Base Control: 0.0% (0/40)<br>Instruct Introspective: 0.0% (0/40)<br>Instruct Control: 0.0% (0/40)<br><br><br><b>Description:</b><br>Documentation labels or descriptors used in code comments, API references, and<br>configuration files that introduce explanatory text about software components.<extra></extra>",
          "<b>Feature 78562</b><br>Base Mean Activation: 0.0512<br>Instruct Mean Activation: 0.0000<br>Difference: -0.0512<br><br><b>Introspective prompt-exclusive feature for Base</b><br>Base Introspective: 2.5% (1/40)<br>Base Control: 0.0% (0/40)<br>Instruct Introspective: 0.0% (0/40)<br>Instruct Control: 0.0% (0/40)<br><br><br><b>Description:</b><br>Syntax or code structure that shows relationships between elements, often in<br>programming contexts. This includes variable declarations, method references,<br>and structural relationships like containment or modification indicated by<br>prepositions (\"in\", \"from\", \"by\", \"to\") and punctuation.<extra></extra>",
          "<b>Feature 82549</b><br>Base Mean Activation: 0.0637<br>Instruct Mean Activation: 0.0000<br>Difference: -0.0637<br><br><b>Introspective prompt-exclusive feature for Base</b><br>Base Introspective: 2.5% (1/40)<br>Base Control: 0.0% (0/40)<br>Instruct Introspective: 0.0% (0/40)<br>Instruct Control: 0.0% (0/40)<br><br><br><b>Description:</b><br>Punctuation and formatting elements that separate items in lists, especially<br>colons, bullet points, hyphens, and line-ending or paragraph-separating markers<br>like parentheses and punctuation.<extra></extra>",
          "<b>Feature 87080</b><br>Base Mean Activation: 0.0520<br>Instruct Mean Activation: 0.0000<br>Difference: -0.0520<br><br><b>Introspective prompt-exclusive feature for Base</b><br>Base Introspective: 2.5% (1/40)<br>Base Control: 0.0% (0/40)<br>Instruct Introspective: 0.0% (0/40)<br>Instruct Control: 0.0% (0/40)<br><br><br><b>Description:</b><br>Blog footers or headers containing navigation elements, subscription<br>information, or author descriptions typically appearing between a blog post and<br>other site content.<extra></extra>",
          "<b>Feature 98090</b><br>Base Mean Activation: 0.6910<br>Instruct Mean Activation: 0.0000<br>Difference: -0.6910<br><br><b>Introspective prompt-exclusive feature for Base</b><br>Base Introspective: 27.5% (11/40)<br>Base Control: 0.0% (0/40)<br>Instruct Introspective: 0.0% (0/40)<br>Instruct Control: 0.0% (0/40)<br><br><br><b>Description:</b><br>Contact information and call-to-action elements on websites, typically including<br>phone numbers and phrases encouraging visitors to make contact.<extra></extra>",
          "<b>Feature 113394</b><br>Base Mean Activation: 0.0566<br>Instruct Mean Activation: 0.0000<br>Difference: -0.0566<br><br><b>Introspective prompt-exclusive feature for Base</b><br>Base Introspective: 2.5% (1/40)<br>Base Control: 0.0% (0/40)<br>Instruct Introspective: 0.0% (0/40)<br>Instruct Control: 0.0% (0/40)<br><br><br><b>Description:</b><br>Website interface elements and user profile information typically found in<br>social media platforms, blogs, forums, and online profiles.<extra></extra>",
          "<b>Feature 114705</b><br>Base Mean Activation: 0.1734<br>Instruct Mean Activation: 0.0000<br>Difference: -0.1734<br><br><b>Introspective prompt-exclusive feature for Base</b><br>Base Introspective: 7.5% (3/40)<br>Base Control: 0.0% (0/40)<br>Instruct Introspective: 0.0% (0/40)<br>Instruct Control: 0.0% (0/40)<br><br><br><b>Description:</b><br>Greeting phrases and their terminal punctuation that typically appear at the<br>beginning of text segments addressing readers or audience.<extra></extra>",
          "<b>Feature 114835</b><br>Base Mean Activation: 0.0578<br>Instruct Mean Activation: 0.0000<br>Difference: -0.0578<br><br><b>Introspective prompt-exclusive feature for Base</b><br>Base Introspective: 2.5% (1/40)<br>Base Control: 0.0% (0/40)<br>Instruct Introspective: 0.0% (0/40)<br>Instruct Control: 0.0% (0/40)<br><br><br><b>Description:</b><br>Section or category headers that appear isolated on their own lines in<br>structured documents.<extra></extra>",
          "<b>Feature 115804</b><br>Base Mean Activation: 0.1633<br>Instruct Mean Activation: 0.0000<br>Difference: -0.1633<br><br><b>Introspective prompt-exclusive feature for Base</b><br>Base Introspective: 7.5% (3/40)<br>Base Control: 0.0% (0/40)<br>Instruct Introspective: 0.0% (0/40)<br>Instruct Control: 0.0% (0/40)<br><br><br><b>Description:</b><br>HTML elements, navigation markers, or numeric indicators that serve as<br>structural components in web content.<extra></extra>",
          "<b>Feature 126861</b><br>Base Mean Activation: 0.1160<br>Instruct Mean Activation: 0.0000<br>Difference: -0.1160<br><br><b>Introspective prompt-exclusive feature for Base</b><br>Base Introspective: 5.0% (2/40)<br>Base Control: 0.0% (0/40)<br>Instruct Introspective: 0.0% (0/40)<br>Instruct Control: 0.0% (0/40)<br><br><br><b>Description:</b><br>Direct address or vocatives in text where a person is called by name/title<br>followed by punctuation, typically a comma.<extra></extra>"
         ],
         "legendgroup": "newline",
         "legendgrouptitle": {
          "text": "newline"
         },
         "marker": {
          "color": "#45B7D1",
          "line": {
           "color": "black",
           "width": 0.3
          },
          "opacity": 0.7,
          "size": 6,
          "symbol": "circle"
         },
         "mode": "markers",
         "name": "  Base Introspective",
         "text": [
          "Feature 3187",
          "Feature 10910",
          "Feature 30141",
          "Feature 31836",
          "Feature 32747",
          "Feature 35545",
          "Feature 38730",
          "Feature 42690",
          "Feature 43567",
          "Feature 45438",
          "Feature 45539",
          "Feature 46976",
          "Feature 47393",
          "Feature 48821",
          "Feature 49692",
          "Feature 51248",
          "Feature 54584",
          "Feature 55090",
          "Feature 70701",
          "Feature 77380",
          "Feature 77387",
          "Feature 78562",
          "Feature 82549",
          "Feature 87080",
          "Feature 98090",
          "Feature 113394",
          "Feature 114705",
          "Feature 114835",
          "Feature 115804",
          "Feature 126861"
         ],
         "type": "scattergl",
         "x": [
          0.1953125,
          0.049609374,
          0.12148438,
          0.10273437,
          0.048828125,
          0.30976564,
          0.055859376,
          0.058203124,
          0.048046876,
          0.0609375,
          0.04902344,
          0.04863281,
          0.19375,
          0.053515624,
          0.049609374,
          0.2611328,
          0.10566406,
          0.24960938,
          0.153125,
          0.048828125,
          0.048046876,
          0.051171876,
          0.06367187,
          0.051953126,
          0.6910156,
          0.056640625,
          0.1734375,
          0.0578125,
          0.16328125,
          0.11601563
         ],
         "y": [
          0,
          0,
          0,
          0,
          0,
          0,
          0,
          0,
          0,
          0,
          0,
          0,
          0,
          0,
          0,
          0,
          0,
          0,
          0,
          0,
          0,
          0,
          0,
          0,
          0,
          0,
          0,
          0,
          0,
          0
         ]
        },
        {
         "customdata": [
          "https://www.neuronpedia.org/llama3.1-8b/17-llamascope-res-131k/4359",
          "https://www.neuronpedia.org/llama3.1-8b/17-llamascope-res-131k/5202",
          "https://www.neuronpedia.org/llama3.1-8b/17-llamascope-res-131k/7583"
         ],
         "hoverlabel": {
          "bgcolor": "#45B7D1",
          "bordercolor": "black",
          "font": {
           "color": "white",
           "family": "Arial",
           "size": 12
          }
         },
         "hovertemplate": [
          "<b>Feature 4359</b><br>Base Mean Activation: 0.0629<br>Instruct Mean Activation: 0.0000<br>Difference: -0.0629<br><br><b>Introspective prompt-exclusive feature for Base<br>This feature is also active on the Instruct model's control prompts</b><br>Base Introspective: 2.5% (1/40)<br>Base Control: 0.0% (0/40)<br>Instruct Introspective: 0.0% (0/40)<br>Instruct Control: 2.5% (1/40)<br><br><br><b>Description:</b><br>Question marks at the end of direct questions, particularly those beginning with<br>\"how\" or asking about methods/approaches to accomplish something.<extra></extra>",
          "<b>Feature 5202</b><br>Base Mean Activation: 0.0559<br>Instruct Mean Activation: 0.5000<br>Difference: 0.4441<br><br><b>Introspective prompt-exclusive feature for Base<br>This feature is also active on the Instruct model's control prompts</b><br>Base Introspective: 2.5% (1/40)<br>Base Control: 0.0% (0/40)<br>Instruct Introspective: 17.5% (7/40)<br>Instruct Control: 2.5% (1/40)<br><br><br><b>Description:</b><br>Function words that indicate uncertainty, conditionality, or appear in<br>question-answer contexts.<extra></extra>",
          "<b>Feature 7583</b><br>Base Mean Activation: 0.0660<br>Instruct Mean Activation: 0.5641<br>Difference: 0.4980<br><br><b>Introspective prompt-exclusive feature for Base<br>This feature is also active on the Instruct model's control prompts</b><br>Base Introspective: 2.5% (1/40)<br>Base Control: 0.0% (0/40)<br>Instruct Introspective: 17.5% (7/40)<br>Instruct Control: 5.0% (2/40)<br><br><br><b>Description:</b><br>Words or phrases that introduce or connect descriptions, definitions, or<br>characterizations of people, things, or concepts.<extra></extra>"
         ],
         "legendgroup": "newline",
         "legendgrouptitle": {
          "text": "newline"
         },
         "marker": {
          "color": "#45B7D1",
          "line": {
           "color": "red",
           "width": 1
          },
          "opacity": 0.7,
          "size": 6,
          "symbol": "circle"
         },
         "mode": "markers",
         "name": "  Base Introspective + Instruct Control",
         "text": [
          "Feature 4359",
          "Feature 5202",
          "Feature 7583"
         ],
         "type": "scattergl",
         "x": [
          0.06289063,
          0.055859376,
          0.06601562
         ],
         "y": [
          0,
          0.5,
          0.5640625
         ]
        },
        {
         "customdata": [
          "https://www.neuronpedia.org/llama3.1-8b/17-llamascope-res-131k/1147",
          "https://www.neuronpedia.org/llama3.1-8b/17-llamascope-res-131k/2083",
          "https://www.neuronpedia.org/llama3.1-8b/17-llamascope-res-131k/2462",
          "https://www.neuronpedia.org/llama3.1-8b/17-llamascope-res-131k/2953",
          "https://www.neuronpedia.org/llama3.1-8b/17-llamascope-res-131k/4584",
          "https://www.neuronpedia.org/llama3.1-8b/17-llamascope-res-131k/6035",
          "https://www.neuronpedia.org/llama3.1-8b/17-llamascope-res-131k/6761",
          "https://www.neuronpedia.org/llama3.1-8b/17-llamascope-res-131k/6901",
          "https://www.neuronpedia.org/llama3.1-8b/17-llamascope-res-131k/9870",
          "https://www.neuronpedia.org/llama3.1-8b/17-llamascope-res-131k/10390",
          "https://www.neuronpedia.org/llama3.1-8b/17-llamascope-res-131k/13486",
          "https://www.neuronpedia.org/llama3.1-8b/17-llamascope-res-131k/14726",
          "https://www.neuronpedia.org/llama3.1-8b/17-llamascope-res-131k/15467",
          "https://www.neuronpedia.org/llama3.1-8b/17-llamascope-res-131k/17112",
          "https://www.neuronpedia.org/llama3.1-8b/17-llamascope-res-131k/18388",
          "https://www.neuronpedia.org/llama3.1-8b/17-llamascope-res-131k/20917",
          "https://www.neuronpedia.org/llama3.1-8b/17-llamascope-res-131k/22997",
          "https://www.neuronpedia.org/llama3.1-8b/17-llamascope-res-131k/26775",
          "https://www.neuronpedia.org/llama3.1-8b/17-llamascope-res-131k/29447",
          "https://www.neuronpedia.org/llama3.1-8b/17-llamascope-res-131k/29527",
          "https://www.neuronpedia.org/llama3.1-8b/17-llamascope-res-131k/30149",
          "https://www.neuronpedia.org/llama3.1-8b/17-llamascope-res-131k/34740",
          "https://www.neuronpedia.org/llama3.1-8b/17-llamascope-res-131k/38590",
          "https://www.neuronpedia.org/llama3.1-8b/17-llamascope-res-131k/40127",
          "https://www.neuronpedia.org/llama3.1-8b/17-llamascope-res-131k/46377",
          "https://www.neuronpedia.org/llama3.1-8b/17-llamascope-res-131k/46416",
          "https://www.neuronpedia.org/llama3.1-8b/17-llamascope-res-131k/47913",
          "https://www.neuronpedia.org/llama3.1-8b/17-llamascope-res-131k/51131",
          "https://www.neuronpedia.org/llama3.1-8b/17-llamascope-res-131k/53398",
          "https://www.neuronpedia.org/llama3.1-8b/17-llamascope-res-131k/53757",
          "https://www.neuronpedia.org/llama3.1-8b/17-llamascope-res-131k/53929",
          "https://www.neuronpedia.org/llama3.1-8b/17-llamascope-res-131k/54710",
          "https://www.neuronpedia.org/llama3.1-8b/17-llamascope-res-131k/60428",
          "https://www.neuronpedia.org/llama3.1-8b/17-llamascope-res-131k/62985",
          "https://www.neuronpedia.org/llama3.1-8b/17-llamascope-res-131k/63052",
          "https://www.neuronpedia.org/llama3.1-8b/17-llamascope-res-131k/68024",
          "https://www.neuronpedia.org/llama3.1-8b/17-llamascope-res-131k/69907",
          "https://www.neuronpedia.org/llama3.1-8b/17-llamascope-res-131k/71479",
          "https://www.neuronpedia.org/llama3.1-8b/17-llamascope-res-131k/71571",
          "https://www.neuronpedia.org/llama3.1-8b/17-llamascope-res-131k/71596",
          "https://www.neuronpedia.org/llama3.1-8b/17-llamascope-res-131k/72343",
          "https://www.neuronpedia.org/llama3.1-8b/17-llamascope-res-131k/72888",
          "https://www.neuronpedia.org/llama3.1-8b/17-llamascope-res-131k/76484",
          "https://www.neuronpedia.org/llama3.1-8b/17-llamascope-res-131k/77099",
          "https://www.neuronpedia.org/llama3.1-8b/17-llamascope-res-131k/77926",
          "https://www.neuronpedia.org/llama3.1-8b/17-llamascope-res-131k/79313",
          "https://www.neuronpedia.org/llama3.1-8b/17-llamascope-res-131k/82107",
          "https://www.neuronpedia.org/llama3.1-8b/17-llamascope-res-131k/83499",
          "https://www.neuronpedia.org/llama3.1-8b/17-llamascope-res-131k/87194",
          "https://www.neuronpedia.org/llama3.1-8b/17-llamascope-res-131k/87963",
          "https://www.neuronpedia.org/llama3.1-8b/17-llamascope-res-131k/91632",
          "https://www.neuronpedia.org/llama3.1-8b/17-llamascope-res-131k/93786",
          "https://www.neuronpedia.org/llama3.1-8b/17-llamascope-res-131k/93822",
          "https://www.neuronpedia.org/llama3.1-8b/17-llamascope-res-131k/97597",
          "https://www.neuronpedia.org/llama3.1-8b/17-llamascope-res-131k/98375",
          "https://www.neuronpedia.org/llama3.1-8b/17-llamascope-res-131k/98790",
          "https://www.neuronpedia.org/llama3.1-8b/17-llamascope-res-131k/99666",
          "https://www.neuronpedia.org/llama3.1-8b/17-llamascope-res-131k/100435",
          "https://www.neuronpedia.org/llama3.1-8b/17-llamascope-res-131k/103654",
          "https://www.neuronpedia.org/llama3.1-8b/17-llamascope-res-131k/108425",
          "https://www.neuronpedia.org/llama3.1-8b/17-llamascope-res-131k/112711",
          "https://www.neuronpedia.org/llama3.1-8b/17-llamascope-res-131k/113883",
          "https://www.neuronpedia.org/llama3.1-8b/17-llamascope-res-131k/114838",
          "https://www.neuronpedia.org/llama3.1-8b/17-llamascope-res-131k/119549",
          "https://www.neuronpedia.org/llama3.1-8b/17-llamascope-res-131k/121829",
          "https://www.neuronpedia.org/llama3.1-8b/17-llamascope-res-131k/123433",
          "https://www.neuronpedia.org/llama3.1-8b/17-llamascope-res-131k/125138",
          "https://www.neuronpedia.org/llama3.1-8b/17-llamascope-res-131k/128819",
          "https://www.neuronpedia.org/llama3.1-8b/17-llamascope-res-131k/130469"
         ],
         "hoverlabel": {
          "bgcolor": "#45B7D1",
          "bordercolor": "black",
          "font": {
           "color": "white",
           "family": "Arial",
           "size": 12
          }
         },
         "hovertemplate": [
          "<b>Feature 1147</b><br>Base Mean Activation: 0.0000<br>Instruct Mean Activation: 0.0711<br>Difference: 0.0711<br><br><b>Introspective prompt-exclusive feature for Instruct</b><br>Base Introspective: 0.0% (0/40)<br>Base Control: 0.0% (0/40)<br>Instruct Introspective: 2.5% (1/40)<br>Instruct Control: 0.0% (0/40)<br><br><br><b>Description:</b><br>Words and phrases that describe classic, traditional, or widely recognized<br>items, concepts, or experiences - often in product descriptions, reviews, or<br>cultural contexts.<extra></extra>",
          "<b>Feature 2083</b><br>Base Mean Activation: 0.0000<br>Instruct Mean Activation: 0.1070<br>Difference: 0.1070<br><br><b>Introspective prompt-exclusive feature for Instruct</b><br>Base Introspective: 0.0% (0/40)<br>Base Control: 0.0% (0/40)<br>Instruct Introspective: 2.5% (1/40)<br>Instruct Control: 0.0% (0/40)<br><br><br><b>Description:</b><br>Common conversational phrases, idioms, and figures of speech that add informal<br>tone to the text, often appearing before or within quotations.<extra></extra>",
          "<b>Feature 2462</b><br>Base Mean Activation: 0.0000<br>Instruct Mean Activation: 0.0480<br>Difference: 0.0480<br><br><b>Introspective prompt-exclusive feature for Instruct</b><br>Base Introspective: 0.0% (0/40)<br>Base Control: 0.0% (0/40)<br>Instruct Introspective: 2.5% (1/40)<br>Instruct Control: 0.0% (0/40)<br><br><br><b>Description:</b><br>Periods/full stops at the end of a sentence or paragraph, often preceding the<br>start of a new topic or section.<extra></extra>",
          "<b>Feature 2953</b><br>Base Mean Activation: 0.0000<br>Instruct Mean Activation: 0.0703<br>Difference: 0.0703<br><br><b>Introspective prompt-exclusive feature for Instruct</b><br>Base Introspective: 0.0% (0/40)<br>Base Control: 0.0% (0/40)<br>Instruct Introspective: 2.5% (1/40)<br>Instruct Control: 0.0% (0/40)<br><br><br><b>Description:</b><br>Opening parenthesis that begins an aside, often containing a joke, pun,<br>clarification, or additional commentary that interrupts the main text flow with<br>a casual or conversational tone.<extra></extra>",
          "<b>Feature 4584</b><br>Base Mean Activation: 0.0000<br>Instruct Mean Activation: 0.1156<br>Difference: 0.1156<br><br><b>Introspective prompt-exclusive feature for Instruct</b><br>Base Introspective: 0.0% (0/40)<br>Base Control: 0.0% (0/40)<br>Instruct Introspective: 5.0% (2/40)<br>Instruct Control: 0.0% (0/40)<br><br><br><b>Description:</b><br>LaTeX formatting commands and mathematical notation in scientific/technical<br>writing, particularly variable definitions and equation elements.<extra></extra>",
          "<b>Feature 6035</b><br>Base Mean Activation: 0.0000<br>Instruct Mean Activation: 0.0480<br>Difference: 0.0480<br><br><b>Introspective prompt-exclusive feature for Instruct</b><br>Base Introspective: 0.0% (0/40)<br>Base Control: 0.0% (0/40)<br>Instruct Introspective: 2.5% (1/40)<br>Instruct Control: 0.0% (0/40)<br><br><br><b>Description:</b><br>Text referring to current or upcoming time periods using words like \"this\" or<br>\"this will\" often followed by temporal markers like \"summer,\" \"year,\" \"fall,\" or<br>ordinal indicators, typically in biographical descriptions or introductions.<extra></extra>",
          "<b>Feature 6761</b><br>Base Mean Activation: 0.0000<br>Instruct Mean Activation: 0.0496<br>Difference: 0.0496<br><br><b>Introspective prompt-exclusive feature for Instruct</b><br>Base Introspective: 0.0% (0/40)<br>Base Control: 0.0% (0/40)<br>Instruct Introspective: 2.5% (1/40)<br>Instruct Control: 0.0% (0/40)<br><br><br><b>Description:</b><br>References to loneliness, isolation, or the value of companionship, often<br>discussing how social connection or pets can combat feelings of being alone.<extra></extra>",
          "<b>Feature 6901</b><br>Base Mean Activation: 0.0000<br>Instruct Mean Activation: 0.0961<br>Difference: 0.0961<br><br><b>Introspective prompt-exclusive feature for Instruct</b><br>Base Introspective: 0.0% (0/40)<br>Base Control: 0.0% (0/40)<br>Instruct Introspective: 5.0% (2/40)<br>Instruct Control: 0.0% (0/40)<br><br><br><b>Description:</b><br>Programming and technical terminology related to software development,<br>particularly focusing on code structures like middleware, optimization<br>algorithms, data structures, interfaces, synchronization primitives (locks,<br>mutexes), and numerical methods in various programming languages.<extra></extra>",
          "<b>Feature 9870</b><br>Base Mean Activation: 0.0000<br>Instruct Mean Activation: 0.0586<br>Difference: 0.0586<br><br><b>Introspective prompt-exclusive feature for Instruct</b><br>Base Introspective: 0.0% (0/40)<br>Base Control: 0.0% (0/40)<br>Instruct Introspective: 2.5% (1/40)<br>Instruct Control: 0.0% (0/40)<br><br><br><b>Description:</b><br>Text referring to information that is being deliberately withheld, kept<br>confidential, or not fully disclosed due to privacy concerns, contractual<br>obligations, or future planned revelations.<extra></extra>",
          "<b>Feature 10390</b><br>Base Mean Activation: 0.0000<br>Instruct Mean Activation: 0.0578<br>Difference: 0.0578<br><br><b>Introspective prompt-exclusive feature for Instruct</b><br>Base Introspective: 0.0% (0/40)<br>Base Control: 0.0% (0/40)<br>Instruct Introspective: 2.5% (1/40)<br>Instruct Control: 0.0% (0/40)<br><br><br><b>Description:</b><br>Section headers or question prompts in informational text, often followed by a<br>colon or question mark and then the corresponding detailed content.<extra></extra>",
          "<b>Feature 13486</b><br>Base Mean Activation: 0.0000<br>Instruct Mean Activation: 0.0516<br>Difference: 0.0516<br><br><b>Introspective prompt-exclusive feature for Instruct</b><br>Base Introspective: 0.0% (0/40)<br>Base Control: 0.0% (0/40)<br>Instruct Introspective: 2.5% (1/40)<br>Instruct Control: 0.0% (0/40)<br><br><br><b>Description:</b><br>Words and phrases related to having a particular perspective, vantage point, or<br>privileged access to information that allows for broader understanding or<br>insight.<extra></extra>",
          "<b>Feature 14726</b><br>Base Mean Activation: 0.0000<br>Instruct Mean Activation: 0.0523<br>Difference: 0.0523<br><br><b>Introspective prompt-exclusive feature for Instruct</b><br>Base Introspective: 0.0% (0/40)<br>Base Control: 0.0% (0/40)<br>Instruct Introspective: 2.5% (1/40)<br>Instruct Control: 0.0% (0/40)<br><br><br><b>Description:</b><br>Text describing lived experiences, social contexts, or physical environments of<br>people in specific historical or cultural settings.<extra></extra>",
          "<b>Feature 15467</b><br>Base Mean Activation: 0.0000<br>Instruct Mean Activation: 0.0582<br>Difference: 0.0582<br><br><b>Introspective prompt-exclusive feature for Instruct</b><br>Base Introspective: 0.0% (0/40)<br>Base Control: 0.0% (0/40)<br>Instruct Introspective: 2.5% (1/40)<br>Instruct Control: 0.0% (0/40)<br><br><br><b>Description:</b><br>First-person pronouns followed by expressions of interest or desire for reader<br>engagement, typically appearing in closing sections of online content where<br>authors actively solicit feedback or participation.<extra></extra>",
          "<b>Feature 17112</b><br>Base Mean Activation: 0.0000<br>Instruct Mean Activation: 0.8658<br>Difference: 0.8658<br><br><b>Introspective prompt-exclusive feature for Instruct</b><br>Base Introspective: 0.0% (0/40)<br>Base Control: 0.0% (0/40)<br>Instruct Introspective: 35.0% (14/40)<br>Instruct Control: 0.0% (0/40)<br><br><br><b>Description:</b><br>A colon preceding quoted text, typically introducing a formal statement, email,<br>letter, or other direct communication.<extra></extra>",
          "<b>Feature 18388</b><br>Base Mean Activation: 0.0000<br>Instruct Mean Activation: 0.1566<br>Difference: 0.1566<br><br><b>Introspective prompt-exclusive feature for Instruct</b><br>Base Introspective: 0.0% (0/40)<br>Base Control: 0.0% (0/40)<br>Instruct Introspective: 7.5% (3/40)<br>Instruct Control: 0.0% (0/40)<br><br><br><b>Description:</b><br>Phrases containing linking verbs that define or characterize what something is<br>or isn't, often providing clarification about the nature or purpose of the<br>subject.<extra></extra>",
          "<b>Feature 20917</b><br>Base Mean Activation: 0.0000<br>Instruct Mean Activation: 3.7734<br>Difference: 3.7734<br><br><b>Introspective prompt-exclusive feature for Instruct</b><br>Base Introspective: 0.0% (0/40)<br>Base Control: 0.0% (0/40)<br>Instruct Introspective: 90.0% (36/40)<br>Instruct Control: 0.0% (0/40)<br><br><br><b>Description:</b><br>First-person and second-person pronouns (I, we, you) that establish the<br>speaker's identity or perspective, often in contexts of self-description or<br>direct address.<extra></extra>",
          "<b>Feature 22997</b><br>Base Mean Activation: 0.0000<br>Instruct Mean Activation: 0.4313<br>Difference: 0.4313<br><br><b>Introspective prompt-exclusive feature for Instruct</b><br>Base Introspective: 0.0% (0/40)<br>Base Control: 0.0% (0/40)<br>Instruct Introspective: 15.0% (6/40)<br>Instruct Control: 0.0% (0/40)<br><br><br><b>Description:</b><br>Common phrases used in responses about personal or others' well-being, typically<br>following inquiries about health or status, often in correspondence or<br>conversational contexts.<extra></extra>",
          "<b>Feature 26775</b><br>Base Mean Activation: 0.0000<br>Instruct Mean Activation: 0.2812<br>Difference: 0.2812<br><br><b>Introspective prompt-exclusive feature for Instruct</b><br>Base Introspective: 0.0% (0/40)<br>Base Control: 0.0% (0/40)<br>Instruct Introspective: 12.5% (5/40)<br>Instruct Control: 0.0% (0/40)<br><br><br><b>Description:</b><br>Text describing paranormal entities and their physical properties, especially<br>how they manifest, appear, or interact with the material world.<extra></extra>",
          "<b>Feature 29447</b><br>Base Mean Activation: 0.0000<br>Instruct Mean Activation: 0.1695<br>Difference: 0.1695<br><br><b>Introspective prompt-exclusive feature for Instruct</b><br>Base Introspective: 0.0% (0/40)<br>Base Control: 0.0% (0/40)<br>Instruct Introspective: 7.5% (3/40)<br>Instruct Control: 0.0% (0/40)<br><br><br><b>Description:</b><br>Words or phrases that serve as conceptual transitions or create meaningful<br>connections between ideas in text.<extra></extra>",
          "<b>Feature 29527</b><br>Base Mean Activation: 0.0000<br>Instruct Mean Activation: 0.4191<br>Difference: 0.4191<br><br><b>Introspective prompt-exclusive feature for Instruct</b><br>Base Introspective: 0.0% (0/40)<br>Base Control: 0.0% (0/40)<br>Instruct Introspective: 15.0% (6/40)<br>Instruct Control: 0.0% (0/40)<br><br><br><b>Description:</b><br>Text discussing human nature, emphasizing that people or characters have human<br>qualities, flaws, vulnerabilities, and imperfections.<extra></extra>",
          "<b>Feature 30149</b><br>Base Mean Activation: 0.0000<br>Instruct Mean Activation: 0.3277<br>Difference: 0.3277<br><br><b>Introspective prompt-exclusive feature for Instruct</b><br>Base Introspective: 0.0% (0/40)<br>Base Control: 0.0% (0/40)<br>Instruct Introspective: 15.0% (6/40)<br>Instruct Control: 0.0% (0/40)<br><br><br><b>Description:</b><br>Function words (especially \"as\") that connect clauses providing contextual<br>information about a person's role, relationship, or explanation for an action.<extra></extra>",
          "<b>Feature 34740</b><br>Base Mean Activation: 0.0000<br>Instruct Mean Activation: 0.2207<br>Difference: 0.2207<br><br><b>Introspective prompt-exclusive feature for Instruct</b><br>Base Introspective: 0.0% (0/40)<br>Base Control: 0.0% (0/40)<br>Instruct Introspective: 10.0% (4/40)<br>Instruct Control: 0.0% (0/40)<br><br><br><b>Description:</b><br>Key words or phrases that complete the meaning of sentences, typically verbs,<br>objects, or connecting phrases essential for understanding the text.<extra></extra>",
          "<b>Feature 38590</b><br>Base Mean Activation: 0.0000<br>Instruct Mean Activation: 0.0539<br>Difference: 0.0539<br><br><b>Introspective prompt-exclusive feature for Instruct</b><br>Base Introspective: 0.0% (0/40)<br>Base Control: 0.0% (0/40)<br>Instruct Introspective: 2.5% (1/40)<br>Instruct Control: 0.0% (0/40)<br><br><br><b>Description:</b><br>The ending of a complete thought or paragraph in informal writing, typically<br>ending with a period, often before transitioning to a new topic.<extra></extra>",
          "<b>Feature 40127</b><br>Base Mean Activation: 0.0000<br>Instruct Mean Activation: 0.0566<br>Difference: 0.0566<br><br><b>Introspective prompt-exclusive feature for Instruct</b><br>Base Introspective: 0.0% (0/40)<br>Base Control: 0.0% (0/40)<br>Instruct Introspective: 2.5% (1/40)<br>Instruct Control: 0.0% (0/40)<br><br><br><b>Description:</b><br>Text describing how people, places, awards, or institutions were named after<br>specific individuals or concepts, often providing attribution context.<extra></extra>",
          "<b>Feature 46377</b><br>Base Mean Activation: 0.0000<br>Instruct Mean Activation: 0.6145<br>Difference: 0.6145<br><br><b>Introspective prompt-exclusive feature for Instruct</b><br>Base Introspective: 0.0% (0/40)<br>Base Control: 0.0% (0/40)<br>Instruct Introspective: 27.5% (11/40)<br>Instruct Control: 0.0% (0/40)<br><br><br><b>Description:</b><br>Direct quotations in reported text, including the opening/closing quotation<br>marks and the punctuation within quotes that represent speakers' exact words.<extra></extra>",
          "<b>Feature 46416</b><br>Base Mean Activation: 0.0000<br>Instruct Mean Activation: 0.1063<br>Difference: 0.1063<br><br><b>Introspective prompt-exclusive feature for Instruct</b><br>Base Introspective: 0.0% (0/40)<br>Base Control: 0.0% (0/40)<br>Instruct Introspective: 2.5% (1/40)<br>Instruct Control: 0.0% (0/40)<br><br><br><b>Description:</b><br>Phrases that serve as specific technical terms, ritual formulations, or quoted<br>speech that have special significance within their contexts.<extra></extra>",
          "<b>Feature 47913</b><br>Base Mean Activation: 0.0000<br>Instruct Mean Activation: 0.3441<br>Difference: 0.3441<br><br><b>Introspective prompt-exclusive feature for Instruct</b><br>Base Introspective: 0.0% (0/40)<br>Base Control: 0.0% (0/40)<br>Instruct Introspective: 12.5% (5/40)<br>Instruct Control: 0.0% (0/40)<br><br><br><b>Description:</b><br>Function words and relative pronouns that introduce qualifying information,<br>explanations, or contextual details that modify preceding statements.<extra></extra>",
          "<b>Feature 51131</b><br>Base Mean Activation: 0.0000<br>Instruct Mean Activation: 0.0609<br>Difference: 0.0609<br><br><b>Introspective prompt-exclusive feature for Instruct</b><br>Base Introspective: 0.0% (0/40)<br>Base Control: 0.0% (0/40)<br>Instruct Introspective: 2.5% (1/40)<br>Instruct Control: 0.0% (0/40)<br><br><br><b>Description:</b><br>A colon following terms that introduce disclaimers, notices, warnings or other<br>formal informational statements in a document.<extra></extra>",
          "<b>Feature 53398</b><br>Base Mean Activation: 0.0000<br>Instruct Mean Activation: 3.6721<br>Difference: 3.6721<br><br><b>Introspective prompt-exclusive feature for Instruct</b><br>Base Introspective: 0.0% (0/40)<br>Base Control: 0.0% (0/40)<br>Instruct Introspective: 97.5% (39/40)<br>Instruct Control: 0.0% (0/40)<br><br><br><b>Description:</b><br>References to artificial intelligence, robots, or mechanical/technological<br>entities and their components or characteristics.<extra></extra>",
          "<b>Feature 53757</b><br>Base Mean Activation: 0.0000<br>Instruct Mean Activation: 0.0676<br>Difference: 0.0676<br><br><b>Introspective prompt-exclusive feature for Instruct</b><br>Base Introspective: 0.0% (0/40)<br>Base Control: 0.0% (0/40)<br>Instruct Introspective: 2.5% (1/40)<br>Instruct Control: 0.0% (0/40)<br><br><br><b>Description:</b><br>Self-referential phrases indicating the writer's age, generation, or<br>relationship to past time periods, often expressing nostalgia or generational<br>identity.<extra></extra>",
          "<b>Feature 53929</b><br>Base Mean Activation: 0.0000<br>Instruct Mean Activation: 0.6088<br>Difference: 0.6088<br><br><b>Introspective prompt-exclusive feature for Instruct</b><br>Base Introspective: 0.0% (0/40)<br>Base Control: 0.0% (0/40)<br>Instruct Introspective: 22.5% (9/40)<br>Instruct Control: 0.0% (0/40)<br><br><br><b>Description:</b><br>Methods returning the current object instance (often expressed as \"this\",<br>\"*this\", or \"$this\") to enable method chaining in various programming languages.<extra></extra>",
          "<b>Feature 54710</b><br>Base Mean Activation: 0.0000<br>Instruct Mean Activation: 0.2047<br>Difference: 0.2047<br><br><b>Introspective prompt-exclusive feature for Instruct</b><br>Base Introspective: 0.0% (0/40)<br>Base Control: 0.0% (0/40)<br>Instruct Introspective: 5.0% (2/40)<br>Instruct Control: 0.0% (0/40)<br><br><br><b>Description:</b><br>References to songs, sayings, and other cultural expressions, often with<br>attribution phrases connecting the content to its source.<extra></extra>",
          "<b>Feature 60428</b><br>Base Mean Activation: 0.0000<br>Instruct Mean Activation: 0.5242<br>Difference: 0.5242<br><br><b>Introspective prompt-exclusive feature for Instruct</b><br>Base Introspective: 0.0% (0/40)<br>Base Control: 0.0% (0/40)<br>Instruct Introspective: 22.5% (9/40)<br>Instruct Control: 0.0% (0/40)<br><br><br><b>Description:</b><br>Punctuation marks ending sentences that describe character traits, personality<br>aspects, or behavior patterns in narrative text.<extra></extra>",
          "<b>Feature 62985</b><br>Base Mean Activation: 0.0000<br>Instruct Mean Activation: 0.1588<br>Difference: 0.1588<br><br><b>Introspective prompt-exclusive feature for Instruct</b><br>Base Introspective: 0.0% (0/40)<br>Base Control: 0.0% (0/40)<br>Instruct Introspective: 7.5% (3/40)<br>Instruct Control: 0.0% (0/40)<br><br><br><b>Description:</b><br>Page number and section references that direct readers to other parts of the<br>document for supplementary information, often appearing in scientific papers or<br>recipes.<extra></extra>",
          "<b>Feature 63052</b><br>Base Mean Activation: 0.0000<br>Instruct Mean Activation: 0.0570<br>Difference: 0.0570<br><br><b>Introspective prompt-exclusive feature for Instruct</b><br>Base Introspective: 0.0% (0/40)<br>Base Control: 0.0% (0/40)<br>Instruct Introspective: 2.5% (1/40)<br>Instruct Control: 0.0% (0/40)<br><br><br><b>Description:</b><br>Names of residential communities, resorts, or properties that often incorporate<br>natural features, elevation terms, or prestigious-sounding elements in their<br>branding.<extra></extra>",
          "<b>Feature 68024</b><br>Base Mean Activation: 0.0000<br>Instruct Mean Activation: 0.5102<br>Difference: 0.5102<br><br><b>Introspective prompt-exclusive feature for Instruct</b><br>Base Introspective: 0.0% (0/40)<br>Base Control: 0.0% (0/40)<br>Instruct Introspective: 17.5% (7/40)<br>Instruct Control: 0.0% (0/40)<br><br><br><b>Description:</b><br>Opening words or phrases of a person's response in a conversation or interview,<br>typically including greetings, acknowledgments, or affirmative responses.<extra></extra>",
          "<b>Feature 69907</b><br>Base Mean Activation: 0.0000<br>Instruct Mean Activation: 0.0570<br>Difference: 0.0570<br><br><b>Introspective prompt-exclusive feature for Instruct</b><br>Base Introspective: 0.0% (0/40)<br>Base Control: 0.0% (0/40)<br>Instruct Introspective: 2.5% (1/40)<br>Instruct Control: 0.0% (0/40)<br><br><br><b>Description:</b><br>Sentence-ending punctuation (primarily periods) that separate related thoughts<br>in informal personal narratives describing routines, activities or habits.<extra></extra>",
          "<b>Feature 71479</b><br>Base Mean Activation: 0.0000<br>Instruct Mean Activation: 0.2320<br>Difference: 0.2320<br><br><b>Introspective prompt-exclusive feature for Instruct</b><br>Base Introspective: 0.0% (0/40)<br>Base Control: 0.0% (0/40)<br>Instruct Introspective: 10.0% (4/40)<br>Instruct Control: 0.0% (0/40)<br><br><br><b>Description:</b><br>Text segments discussing knowledge acquisition, learning processes, educational<br>contexts, or academic discourse.<extra></extra>",
          "<b>Feature 71571</b><br>Base Mean Activation: 0.0000<br>Instruct Mean Activation: 0.4254<br>Difference: 0.4254<br><br><b>Introspective prompt-exclusive feature for Instruct</b><br>Base Introspective: 0.0% (0/40)<br>Base Control: 0.0% (0/40)<br>Instruct Introspective: 20.0% (8/40)<br>Instruct Control: 0.0% (0/40)<br><br><br><b>Description:</b><br>Descriptions of AI systems' capabilities or limitations, often in comparison to<br>human abilities or biological processes.<extra></extra>",
          "<b>Feature 71596</b><br>Base Mean Activation: 0.0000<br>Instruct Mean Activation: 0.0496<br>Difference: 0.0496<br><br><b>Introspective prompt-exclusive feature for Instruct</b><br>Base Introspective: 0.0% (0/40)<br>Base Control: 0.0% (0/40)<br>Instruct Introspective: 2.5% (1/40)<br>Instruct Control: 0.0% (0/40)<br><br><br><b>Description:</b><br>Expressions of unlimited human potential, possibility, or capability, often in<br>motivational or inspirational contexts.<extra></extra>",
          "<b>Feature 72343</b><br>Base Mean Activation: 0.0000<br>Instruct Mean Activation: 0.1043<br>Difference: 0.1043<br><br><b>Introspective prompt-exclusive feature for Instruct</b><br>Base Introspective: 0.0% (0/40)<br>Base Control: 0.0% (0/40)<br>Instruct Introspective: 5.0% (2/40)<br>Instruct Control: 0.0% (0/40)<br><br><br><b>Description:</b><br>Punctuation and formatting elements that serve as section breaks or paragraph<br>endings, often preceding new content or introducing quoted material.<extra></extra>",
          "<b>Feature 72888</b><br>Base Mean Activation: 0.0000<br>Instruct Mean Activation: 0.3426<br>Difference: 0.3426<br><br><b>Introspective prompt-exclusive feature for Instruct</b><br>Base Introspective: 0.0% (0/40)<br>Base Control: 0.0% (0/40)<br>Instruct Introspective: 10.0% (4/40)<br>Instruct Control: 0.0% (0/40)<br><br><br><b>Description:</b><br>Code structure patterns related to exception handling, conditional blocks, and<br>macro definitions, particularly focusing on opening braces, comments, and<br>control flow syntax in programming languages.<extra></extra>",
          "<b>Feature 76484</b><br>Base Mean Activation: 0.0000<br>Instruct Mean Activation: 0.0602<br>Difference: 0.0602<br><br><b>Introspective prompt-exclusive feature for Instruct</b><br>Base Introspective: 0.0% (0/40)<br>Base Control: 0.0% (0/40)<br>Instruct Introspective: 2.5% (1/40)<br>Instruct Control: 0.0% (0/40)<br><br><br><b>Description:</b><br>Quotation marks and accompanying punctuation (periods, commas, question marks)<br>that indicate the beginning or end of direct speech, often paired with dialogue<br>attribution.<extra></extra>",
          "<b>Feature 77099</b><br>Base Mean Activation: 0.0000<br>Instruct Mean Activation: 0.0531<br>Difference: 0.0531<br><br><b>Introspective prompt-exclusive feature for Instruct</b><br>Base Introspective: 0.0% (0/40)<br>Base Control: 0.0% (0/40)<br>Instruct Introspective: 2.5% (1/40)<br>Instruct Control: 0.0% (0/40)<br><br><br><b>Description:</b><br>Programming syntax elements such as delimiters, punctuation, and structural<br>keywords that are essential for proper code parsing across various languages.<extra></extra>",
          "<b>Feature 77926</b><br>Base Mean Activation: 0.0000<br>Instruct Mean Activation: 0.0512<br>Difference: 0.0512<br><br><b>Introspective prompt-exclusive feature for Instruct</b><br>Base Introspective: 0.0% (0/40)<br>Base Control: 0.0% (0/40)<br>Instruct Introspective: 2.5% (1/40)<br>Instruct Control: 0.0% (0/40)<br><br><br><b>Description:</b><br>Tokens that introduce or qualify personal experiences, insights, or advice,<br>often using first-person perspective or indicating subjective effectiveness.<extra></extra>",
          "<b>Feature 79313</b><br>Base Mean Activation: 0.0000<br>Instruct Mean Activation: 0.0758<br>Difference: 0.0758<br><br><b>Introspective prompt-exclusive feature for Instruct</b><br>Base Introspective: 0.0% (0/40)<br>Base Control: 0.0% (0/40)<br>Instruct Introspective: 2.5% (1/40)<br>Instruct Control: 0.0% (0/40)<br><br><br><b>Description:</b><br>Transitional phrases, qualifiers, and evaluative language that signal the<br>author's stance, frame relationships between ideas, or prepare the reader for<br>interpretive content.<extra></extra>",
          "<b>Feature 82107</b><br>Base Mean Activation: 0.0000<br>Instruct Mean Activation: 0.1072<br>Difference: 0.1072<br><br><b>Introspective prompt-exclusive feature for Instruct</b><br>Base Introspective: 0.0% (0/40)<br>Base Control: 0.0% (0/40)<br>Instruct Introspective: 5.0% (2/40)<br>Instruct Control: 0.0% (0/40)<br><br><br><b>Description:</b><br>Words that appear at key transition points in online article or blog content,<br>often preceding a topic change or shift in narrative focus.<extra></extra>",
          "<b>Feature 83499</b><br>Base Mean Activation: 0.0000<br>Instruct Mean Activation: 0.2879<br>Difference: 0.2879<br><br><b>Introspective prompt-exclusive feature for Instruct</b><br>Base Introspective: 0.0% (0/40)<br>Base Control: 0.0% (0/40)<br>Instruct Introspective: 10.0% (4/40)<br>Instruct Control: 0.0% (0/40)<br><br><br><b>Description:</b><br>Common conversational phrases used to inquire about or express wishes for<br>someone's well-being in dialogues and correspondence.<extra></extra>",
          "<b>Feature 87194</b><br>Base Mean Activation: 0.0000<br>Instruct Mean Activation: 0.0492<br>Difference: 0.0492<br><br><b>Introspective prompt-exclusive feature for Instruct</b><br>Base Introspective: 0.0% (0/40)<br>Base Control: 0.0% (0/40)<br>Instruct Introspective: 2.5% (1/40)<br>Instruct Control: 0.0% (0/40)<br><br><br><b>Description:</b><br>Phrases that establish historical origins or connections between present<br>entities and their past beginnings.<extra></extra>",
          "<b>Feature 87963</b><br>Base Mean Activation: 0.0000<br>Instruct Mean Activation: 0.0582<br>Difference: 0.0582<br><br><b>Introspective prompt-exclusive feature for Instruct</b><br>Base Introspective: 0.0% (0/40)<br>Base Control: 0.0% (0/40)<br>Instruct Introspective: 2.5% (1/40)<br>Instruct Control: 0.0% (0/40)<br><br><br><b>Description:</b><br>Phrases that anchor narratives to specific moments in time or context,<br>particularly those indicating current states, circumstances, or conditions.<extra></extra>",
          "<b>Feature 91632</b><br>Base Mean Activation: 0.0000<br>Instruct Mean Activation: 0.0482<br>Difference: 0.0482<br><br><b>Introspective prompt-exclusive feature for Instruct</b><br>Base Introspective: 0.0% (0/40)<br>Base Control: 0.0% (0/40)<br>Instruct Introspective: 2.5% (1/40)<br>Instruct Control: 0.0% (0/40)<br><br><br><b>Description:</b><br>Text describing moments of quiet contemplation, relaxation, or taking personal<br>time to think, reflect, or simply be present without external demands.<extra></extra>",
          "<b>Feature 93786</b><br>Base Mean Activation: 0.0000<br>Instruct Mean Activation: 0.0641<br>Difference: 0.0641<br><br><b>Introspective prompt-exclusive feature for Instruct</b><br>Base Introspective: 0.0% (0/40)<br>Base Control: 0.0% (0/40)<br>Instruct Introspective: 2.5% (1/40)<br>Instruct Control: 0.0% (0/40)<br><br><br><b>Description:</b><br>Technical identifiers, variable names, and parameters appearing in programming<br>code, mathematical notation, or technical documentation.<extra></extra>",
          "<b>Feature 93822</b><br>Base Mean Activation: 0.0000<br>Instruct Mean Activation: 0.0766<br>Difference: 0.0766<br><br><b>Introspective prompt-exclusive feature for Instruct</b><br>Base Introspective: 0.0% (0/40)<br>Base Control: 0.0% (0/40)<br>Instruct Introspective: 2.5% (1/40)<br>Instruct Control: 0.0% (0/40)<br><br><br><b>Description:</b><br>Auxiliary verbs combined with adverbs or adjectives forming phrases that<br>evaluate the quality, success, or status of processes, events, or conditions.<extra></extra>",
          "<b>Feature 97597</b><br>Base Mean Activation: 0.0000<br>Instruct Mean Activation: 0.5836<br>Difference: 0.5836<br><br><b>Introspective prompt-exclusive feature for Instruct</b><br>Base Introspective: 0.0% (0/40)<br>Base Control: 0.0% (0/40)<br>Instruct Introspective: 27.5% (11/40)<br>Instruct Control: 0.0% (0/40)<br><br><br><b>Description:</b><br>Conjunctions and connecting words that establish logical relationships between<br>clauses, often introducing conditions, questions, or dependent clauses.<extra></extra>",
          "<b>Feature 98375</b><br>Base Mean Activation: 0.0000<br>Instruct Mean Activation: 0.0582<br>Difference: 0.0582<br><br><b>Introspective prompt-exclusive feature for Instruct</b><br>Base Introspective: 0.0% (0/40)<br>Base Control: 0.0% (0/40)<br>Instruct Introspective: 2.5% (1/40)<br>Instruct Control: 0.0% (0/40)<br><br><br><b>Description:</b><br>End punctuation (periods, exclamation marks, ellipses) that appears at the end<br>of titles, headings, or single-word entities that mark a transition between<br>content sections or introduce new topics.<extra></extra>",
          "<b>Feature 98790</b><br>Base Mean Activation: 0.0000<br>Instruct Mean Activation: 0.0496<br>Difference: 0.0496<br><br><b>Introspective prompt-exclusive feature for Instruct</b><br>Base Introspective: 0.0% (0/40)<br>Base Control: 0.0% (0/40)<br>Instruct Introspective: 2.5% (1/40)<br>Instruct Control: 0.0% (0/40)<br><br><br><b>Description:</b><br>Punctuation marks (periods, commas) at the end of sentences or clauses that<br>express opinions, wishes or suggestions, often following phrases like \"would be<br>nice if,\" \"I wish,\" or \"I'd love to see.\"<extra></extra>",
          "<b>Feature 99666</b><br>Base Mean Activation: 0.0000<br>Instruct Mean Activation: 0.0516<br>Difference: 0.0516<br><br><b>Introspective prompt-exclusive feature for Instruct</b><br>Base Introspective: 0.0% (0/40)<br>Base Control: 0.0% (0/40)<br>Instruct Introspective: 2.5% (1/40)<br>Instruct Control: 0.0% (0/40)<br><br><br><b>Description:</b><br>Prepositional phrases and grammatical connectors that specify relationships<br>between objects, locations, or concepts, often establishing context or<br>qualifying statements.<extra></extra>",
          "<b>Feature 100435</b><br>Base Mean Activation: 0.0000<br>Instruct Mean Activation: 0.9023<br>Difference: 0.9023<br><br><b>Introspective prompt-exclusive feature for Instruct</b><br>Base Introspective: 0.0% (0/40)<br>Base Control: 0.0% (0/40)<br>Instruct Introspective: 40.0% (16/40)<br>Instruct Control: 0.0% (0/40)<br><br><br><b>Description:</b><br>Prefixes or short word segments in various non-English languages (mostly Slavic,<br>Nordic, and Romance) that typically introduce locational or descriptive<br>information about places, such as where something is situated, how it's<br>accessed, or its administrative status.<extra></extra>",
          "<b>Feature 103654</b><br>Base Mean Activation: 0.0000<br>Instruct Mean Activation: 0.0570<br>Difference: 0.0570<br><br><b>Introspective prompt-exclusive feature for Instruct</b><br>Base Introspective: 0.0% (0/40)<br>Base Control: 0.0% (0/40)<br>Instruct Introspective: 2.5% (1/40)<br>Instruct Control: 0.0% (0/40)<br><br><br><b>Description:</b><br>Common connecting phrases and grammatical elements that serve to link concepts<br>or complete syntactic structures in informational text.<extra></extra>",
          "<b>Feature 108425</b><br>Base Mean Activation: 0.0000<br>Instruct Mean Activation: 0.5527<br>Difference: 0.5527<br><br><b>Introspective prompt-exclusive feature for Instruct</b><br>Base Introspective: 0.0% (0/40)<br>Base Control: 0.0% (0/40)<br>Instruct Introspective: 22.5% (9/40)<br>Instruct Control: 0.0% (0/40)<br><br><br><b>Description:</b><br>Markers that indicate or attribute dialogue, including quotation marks, speaker<br>attribution verbs (\"says\", \"replied\"), and punctuation that follows or precedes<br>direct speech.<extra></extra>",
          "<b>Feature 112711</b><br>Base Mean Activation: 0.0000<br>Instruct Mean Activation: 0.1141<br>Difference: 0.1141<br><br><b>Introspective prompt-exclusive feature for Instruct</b><br>Base Introspective: 0.0% (0/40)<br>Base Control: 0.0% (0/40)<br>Instruct Introspective: 5.0% (2/40)<br>Instruct Control: 0.0% (0/40)<br><br><br><b>Description:</b><br>The end of interview questions right before the interviewee's response begins.<extra></extra>",
          "<b>Feature 113883</b><br>Base Mean Activation: 0.0000<br>Instruct Mean Activation: 0.1578<br>Difference: 0.1578<br><br><b>Introspective prompt-exclusive feature for Instruct</b><br>Base Introspective: 0.0% (0/40)<br>Base Control: 0.0% (0/40)<br>Instruct Introspective: 7.5% (3/40)<br>Instruct Control: 0.0% (0/40)<br><br><br><b>Description:</b><br>Expressions of positive emotional reactions (like being honored, thrilled,<br>humbled) in response to receiving recognition, awards, or special opportunities.<extra></extra>",
          "<b>Feature 114838</b><br>Base Mean Activation: 0.0000<br>Instruct Mean Activation: 0.0559<br>Difference: 0.0559<br><br><b>Introspective prompt-exclusive feature for Instruct</b><br>Base Introspective: 0.0% (0/40)<br>Base Control: 0.0% (0/40)<br>Instruct Introspective: 2.5% (1/40)<br>Instruct Control: 0.0% (0/40)<br><br><br><b>Description:</b><br>Punctuation marks (especially commas) and connecting words that join clauses or<br>introduce additional information in formal or technical writing.<extra></extra>",
          "<b>Feature 119549</b><br>Base Mean Activation: 0.0000<br>Instruct Mean Activation: 0.2328<br>Difference: 0.2328<br><br><b>Introspective prompt-exclusive feature for Instruct</b><br>Base Introspective: 0.0% (0/40)<br>Base Control: 0.0% (0/40)<br>Instruct Introspective: 10.0% (4/40)<br>Instruct Control: 0.0% (0/40)<br><br><br><b>Description:</b><br>Transition elements like conjunctions (\"and\", \"that\"), punctuation (periods),<br>prepositions (\"of\", \"how\"), and knowledge indicators (\"know\", \"aware\") that<br>connect ideas or mark sentence boundaries.<extra></extra>",
          "<b>Feature 121829</b><br>Base Mean Activation: 0.0000<br>Instruct Mean Activation: 0.0504<br>Difference: 0.0504<br><br><b>Introspective prompt-exclusive feature for Instruct</b><br>Base Introspective: 0.0% (0/40)<br>Base Control: 0.0% (0/40)<br>Instruct Introspective: 2.5% (1/40)<br>Instruct Control: 0.0% (0/40)<br><br><br><b>Description:</b><br>Function words and phrases that establish relationships of possession, origin,<br>or association between entities.<extra></extra>",
          "<b>Feature 123433</b><br>Base Mean Activation: 0.0000<br>Instruct Mean Activation: 0.1262<br>Difference: 0.1262<br><br><b>Introspective prompt-exclusive feature for Instruct</b><br>Base Introspective: 0.0% (0/40)<br>Base Control: 0.0% (0/40)<br>Instruct Introspective: 5.0% (2/40)<br>Instruct Control: 0.0% (0/40)<br><br><br><b>Description:</b><br>Greeting expressions from different languages and cultures, often followed by<br>translations, explanations, or punctuation marks. Examples include \"Kia ora<br>(Hello in Maori)\", \"wanshang hao, or good evening\", \"peace\", \"wish you a\",<br>\"greeted and said goodbye\", \"The Lord bless you and keep you\", \"Peace Be With<br>You All\", and conventional greetings like \"Good morning\" followed by<br>conversational exchanges.<extra></extra>",
          "<b>Feature 125138</b><br>Base Mean Activation: 0.0000<br>Instruct Mean Activation: 0.0484<br>Difference: 0.0484<br><br><b>Introspective prompt-exclusive feature for Instruct</b><br>Base Introspective: 0.0% (0/40)<br>Base Control: 0.0% (0/40)<br>Instruct Introspective: 2.5% (1/40)<br>Instruct Control: 0.0% (0/40)<br><br><br><b>Description:</b><br>Text that indicates confusion, misunderstanding, or inability to comprehend<br>something. Examples include phrases where someone expresses they \"don't<br>understand,\" \"won't get\" something, \"makes no sense,\" or questions indicating<br>confusion.<extra></extra>",
          "<b>Feature 128819</b><br>Base Mean Activation: 0.0000<br>Instruct Mean Activation: 0.0535<br>Difference: 0.0535<br><br><b>Introspective prompt-exclusive feature for Instruct</b><br>Base Introspective: 0.0% (0/40)<br>Base Control: 0.0% (0/40)<br>Instruct Introspective: 2.5% (1/40)<br>Instruct Control: 0.0% (0/40)<br><br><br><b>Description:</b><br>Brief exclamatory expressions that signal emotional reactions or sudden<br>realizations, typically occurring at the beginning of a response or statement.<extra></extra>",
          "<b>Feature 130469</b><br>Base Mean Activation: 0.0000<br>Instruct Mean Activation: 0.4418<br>Difference: 0.4418<br><br><b>Introspective prompt-exclusive feature for Instruct</b><br>Base Introspective: 0.0% (0/40)<br>Base Control: 0.0% (0/40)<br>Instruct Introspective: 15.0% (6/40)<br>Instruct Control: 0.0% (0/40)<br><br><br><b>Description:</b><br>Question-answer format where \"What is X?\" introduces a definition or explanation<br>about the topic X.<extra></extra>"
         ],
         "legendgroup": "newline",
         "legendgrouptitle": {
          "text": "newline"
         },
         "marker": {
          "color": "#45B7D1",
          "line": {
           "color": "black",
           "width": 0.3
          },
          "opacity": 0.7,
          "size": 6,
          "symbol": "square"
         },
         "mode": "markers",
         "name": "  Instruct Introspective",
         "text": [
          "Feature 1147",
          "Feature 2083",
          "Feature 2462",
          "Feature 2953",
          "Feature 4584",
          "Feature 6035",
          "Feature 6761",
          "Feature 6901",
          "Feature 9870",
          "Feature 10390",
          "Feature 13486",
          "Feature 14726",
          "Feature 15467",
          "Feature 17112",
          "Feature 18388",
          "Feature 20917",
          "Feature 22997",
          "Feature 26775",
          "Feature 29447",
          "Feature 29527",
          "Feature 30149",
          "Feature 34740",
          "Feature 38590",
          "Feature 40127",
          "Feature 46377",
          "Feature 46416",
          "Feature 47913",
          "Feature 51131",
          "Feature 53398",
          "Feature 53757",
          "Feature 53929",
          "Feature 54710",
          "Feature 60428",
          "Feature 62985",
          "Feature 63052",
          "Feature 68024",
          "Feature 69907",
          "Feature 71479",
          "Feature 71571",
          "Feature 71596",
          "Feature 72343",
          "Feature 72888",
          "Feature 76484",
          "Feature 77099",
          "Feature 77926",
          "Feature 79313",
          "Feature 82107",
          "Feature 83499",
          "Feature 87194",
          "Feature 87963",
          "Feature 91632",
          "Feature 93786",
          "Feature 93822",
          "Feature 97597",
          "Feature 98375",
          "Feature 98790",
          "Feature 99666",
          "Feature 100435",
          "Feature 103654",
          "Feature 108425",
          "Feature 112711",
          "Feature 113883",
          "Feature 114838",
          "Feature 119549",
          "Feature 121829",
          "Feature 123433",
          "Feature 125138",
          "Feature 128819",
          "Feature 130469"
         ],
         "type": "scattergl",
         "x": [
          0,
          0,
          0,
          0,
          0,
          0,
          0,
          0,
          0,
          0,
          0,
          0,
          0,
          0,
          0,
          0,
          0,
          0,
          0,
          0,
          0,
          0,
          0,
          0,
          0,
          0,
          0,
          0,
          0,
          0,
          0,
          0,
          0,
          0,
          0,
          0,
          0,
          0,
          0,
          0,
          0,
          0,
          0,
          0,
          0,
          0,
          0,
          0,
          0,
          0,
          0,
          0,
          0,
          0,
          0,
          0,
          0,
          0,
          0,
          0,
          0,
          0,
          0,
          0,
          0,
          0,
          0,
          0,
          0
         ],
         "y": [
          0.07109375,
          0.10703125,
          0.048046876,
          0.0703125,
          0.115625,
          0.048046876,
          0.049609374,
          0.09609375,
          0.05859375,
          0.0578125,
          0.0515625,
          0.05234375,
          0.058203124,
          0.8658203,
          0.15664062,
          3.7734375,
          0.43125,
          0.28125,
          0.16953126,
          0.41914064,
          0.32773438,
          0.22070312,
          0.05390625,
          0.056640625,
          0.61445314,
          0.10625,
          0.34414062,
          0.0609375,
          3.6720703,
          0.06757812,
          0.6087891,
          0.2046875,
          0.52421874,
          0.15878907,
          0.05703125,
          0.5101563,
          0.05703125,
          0.23203126,
          0.42539063,
          0.049609374,
          0.10429688,
          0.3425781,
          0.06015625,
          0.053125,
          0.051171876,
          0.07578125,
          0.107226565,
          0.2878906,
          0.04921875,
          0.058203124,
          0.04824219,
          0.0640625,
          0.0765625,
          0.5835937,
          0.058203124,
          0.049609374,
          0.0515625,
          0.90234375,
          0.05703125,
          0.5527344,
          0.1140625,
          0.1578125,
          0.055859376,
          0.2328125,
          0.050390624,
          0.12617187,
          0.0484375,
          0.053515624,
          0.44179687
         ]
        },
        {
         "customdata": [
          "https://www.neuronpedia.org/llama3.1-8b/17-llamascope-res-131k/77438"
         ],
         "hoverlabel": {
          "bgcolor": "#45B7D1",
          "bordercolor": "black",
          "font": {
           "color": "white",
           "family": "Arial",
           "size": 12
          }
         },
         "hovertemplate": [
          "<b>Feature 77438</b><br>Base Mean Activation: 2.2160<br>Instruct Mean Activation: 0.0486<br>Difference: -2.1674<br><br><b>Introspective prompt-exclusive feature for Instruct<br>This feature is also active on the Base model's control prompts</b><br>Base Introspective: 80.0% (32/40)<br>Base Control: 62.5% (25/40)<br>Instruct Introspective: 2.5% (1/40)<br>Instruct Control: 0.0% (0/40)<br><br><br><b>Description:</b><br>Words or phrases that mark significant transition points in text, often<br>appearing at boundaries between content sections or preceding punctuation marks<br>that separate different text segments.<extra></extra>"
         ],
         "legendgroup": "newline",
         "legendgrouptitle": {
          "text": "newline"
         },
         "marker": {
          "color": "#45B7D1",
          "line": {
           "color": "red",
           "width": 1
          },
          "opacity": 0.7,
          "size": 6,
          "symbol": "square"
         },
         "mode": "markers",
         "name": "  Instruct Introspective + Base Control",
         "text": [
          "Feature 77438"
         ],
         "type": "scattergl",
         "x": [
          2.2160156
         ],
         "y": [
          0.04863281
         ]
        },
        {
         "hoverlabel": {
          "bgcolor": "gray",
          "bordercolor": "black",
          "font": {
           "color": "white",
           "family": "Arial",
           "size": 11
          }
         },
         "hovertemplate": "No change line<extra></extra>",
         "line": {
          "color": "gray",
          "dash": "dash",
          "width": 2
         },
         "mode": "lines",
         "name": "No Change",
         "type": "scatter",
         "x": [
          0,
          3.7734375
         ],
         "y": [
          0,
          3.7734375
         ]
        }
       ],
       "layout": {
        "height": 800,
        "hovermode": "closest",
        "legend": {
         "groupclick": "togglegroup",
         "orientation": "v",
         "title": {
          "text": "Activation Position"
         },
         "x": 1.02,
         "xanchor": "left",
         "y": 1,
         "yanchor": "top"
        },
        "showlegend": true,
        "template": {
         "data": {
          "bar": [
           {
            "error_x": {
             "color": "#2a3f5f"
            },
            "error_y": {
             "color": "#2a3f5f"
            },
            "marker": {
             "line": {
              "color": "#E5ECF6",
              "width": 0.5
             },
             "pattern": {
              "fillmode": "overlay",
              "size": 10,
              "solidity": 0.2
             }
            },
            "type": "bar"
           }
          ],
          "barpolar": [
           {
            "marker": {
             "line": {
              "color": "#E5ECF6",
              "width": 0.5
             },
             "pattern": {
              "fillmode": "overlay",
              "size": 10,
              "solidity": 0.2
             }
            },
            "type": "barpolar"
           }
          ],
          "carpet": [
           {
            "aaxis": {
             "endlinecolor": "#2a3f5f",
             "gridcolor": "white",
             "linecolor": "white",
             "minorgridcolor": "white",
             "startlinecolor": "#2a3f5f"
            },
            "baxis": {
             "endlinecolor": "#2a3f5f",
             "gridcolor": "white",
             "linecolor": "white",
             "minorgridcolor": "white",
             "startlinecolor": "#2a3f5f"
            },
            "type": "carpet"
           }
          ],
          "choropleth": [
           {
            "colorbar": {
             "outlinewidth": 0,
             "ticks": ""
            },
            "type": "choropleth"
           }
          ],
          "contour": [
           {
            "colorbar": {
             "outlinewidth": 0,
             "ticks": ""
            },
            "colorscale": [
             [
              0,
              "#0d0887"
             ],
             [
              0.1111111111111111,
              "#46039f"
             ],
             [
              0.2222222222222222,
              "#7201a8"
             ],
             [
              0.3333333333333333,
              "#9c179e"
             ],
             [
              0.4444444444444444,
              "#bd3786"
             ],
             [
              0.5555555555555556,
              "#d8576b"
             ],
             [
              0.6666666666666666,
              "#ed7953"
             ],
             [
              0.7777777777777778,
              "#fb9f3a"
             ],
             [
              0.8888888888888888,
              "#fdca26"
             ],
             [
              1,
              "#f0f921"
             ]
            ],
            "type": "contour"
           }
          ],
          "contourcarpet": [
           {
            "colorbar": {
             "outlinewidth": 0,
             "ticks": ""
            },
            "type": "contourcarpet"
           }
          ],
          "heatmap": [
           {
            "colorbar": {
             "outlinewidth": 0,
             "ticks": ""
            },
            "colorscale": [
             [
              0,
              "#0d0887"
             ],
             [
              0.1111111111111111,
              "#46039f"
             ],
             [
              0.2222222222222222,
              "#7201a8"
             ],
             [
              0.3333333333333333,
              "#9c179e"
             ],
             [
              0.4444444444444444,
              "#bd3786"
             ],
             [
              0.5555555555555556,
              "#d8576b"
             ],
             [
              0.6666666666666666,
              "#ed7953"
             ],
             [
              0.7777777777777778,
              "#fb9f3a"
             ],
             [
              0.8888888888888888,
              "#fdca26"
             ],
             [
              1,
              "#f0f921"
             ]
            ],
            "type": "heatmap"
           }
          ],
          "heatmapgl": [
           {
            "colorbar": {
             "outlinewidth": 0,
             "ticks": ""
            },
            "colorscale": [
             [
              0,
              "#0d0887"
             ],
             [
              0.1111111111111111,
              "#46039f"
             ],
             [
              0.2222222222222222,
              "#7201a8"
             ],
             [
              0.3333333333333333,
              "#9c179e"
             ],
             [
              0.4444444444444444,
              "#bd3786"
             ],
             [
              0.5555555555555556,
              "#d8576b"
             ],
             [
              0.6666666666666666,
              "#ed7953"
             ],
             [
              0.7777777777777778,
              "#fb9f3a"
             ],
             [
              0.8888888888888888,
              "#fdca26"
             ],
             [
              1,
              "#f0f921"
             ]
            ],
            "type": "heatmapgl"
           }
          ],
          "histogram": [
           {
            "marker": {
             "pattern": {
              "fillmode": "overlay",
              "size": 10,
              "solidity": 0.2
             }
            },
            "type": "histogram"
           }
          ],
          "histogram2d": [
           {
            "colorbar": {
             "outlinewidth": 0,
             "ticks": ""
            },
            "colorscale": [
             [
              0,
              "#0d0887"
             ],
             [
              0.1111111111111111,
              "#46039f"
             ],
             [
              0.2222222222222222,
              "#7201a8"
             ],
             [
              0.3333333333333333,
              "#9c179e"
             ],
             [
              0.4444444444444444,
              "#bd3786"
             ],
             [
              0.5555555555555556,
              "#d8576b"
             ],
             [
              0.6666666666666666,
              "#ed7953"
             ],
             [
              0.7777777777777778,
              "#fb9f3a"
             ],
             [
              0.8888888888888888,
              "#fdca26"
             ],
             [
              1,
              "#f0f921"
             ]
            ],
            "type": "histogram2d"
           }
          ],
          "histogram2dcontour": [
           {
            "colorbar": {
             "outlinewidth": 0,
             "ticks": ""
            },
            "colorscale": [
             [
              0,
              "#0d0887"
             ],
             [
              0.1111111111111111,
              "#46039f"
             ],
             [
              0.2222222222222222,
              "#7201a8"
             ],
             [
              0.3333333333333333,
              "#9c179e"
             ],
             [
              0.4444444444444444,
              "#bd3786"
             ],
             [
              0.5555555555555556,
              "#d8576b"
             ],
             [
              0.6666666666666666,
              "#ed7953"
             ],
             [
              0.7777777777777778,
              "#fb9f3a"
             ],
             [
              0.8888888888888888,
              "#fdca26"
             ],
             [
              1,
              "#f0f921"
             ]
            ],
            "type": "histogram2dcontour"
           }
          ],
          "mesh3d": [
           {
            "colorbar": {
             "outlinewidth": 0,
             "ticks": ""
            },
            "type": "mesh3d"
           }
          ],
          "parcoords": [
           {
            "line": {
             "colorbar": {
              "outlinewidth": 0,
              "ticks": ""
             }
            },
            "type": "parcoords"
           }
          ],
          "pie": [
           {
            "automargin": true,
            "type": "pie"
           }
          ],
          "scatter": [
           {
            "fillpattern": {
             "fillmode": "overlay",
             "size": 10,
             "solidity": 0.2
            },
            "type": "scatter"
           }
          ],
          "scatter3d": [
           {
            "line": {
             "colorbar": {
              "outlinewidth": 0,
              "ticks": ""
             }
            },
            "marker": {
             "colorbar": {
              "outlinewidth": 0,
              "ticks": ""
             }
            },
            "type": "scatter3d"
           }
          ],
          "scattercarpet": [
           {
            "marker": {
             "colorbar": {
              "outlinewidth": 0,
              "ticks": ""
             }
            },
            "type": "scattercarpet"
           }
          ],
          "scattergeo": [
           {
            "marker": {
             "colorbar": {
              "outlinewidth": 0,
              "ticks": ""
             }
            },
            "type": "scattergeo"
           }
          ],
          "scattergl": [
           {
            "marker": {
             "colorbar": {
              "outlinewidth": 0,
              "ticks": ""
             }
            },
            "type": "scattergl"
           }
          ],
          "scattermapbox": [
           {
            "marker": {
             "colorbar": {
              "outlinewidth": 0,
              "ticks": ""
             }
            },
            "type": "scattermapbox"
           }
          ],
          "scatterpolar": [
           {
            "marker": {
             "colorbar": {
              "outlinewidth": 0,
              "ticks": ""
             }
            },
            "type": "scatterpolar"
           }
          ],
          "scatterpolargl": [
           {
            "marker": {
             "colorbar": {
              "outlinewidth": 0,
              "ticks": ""
             }
            },
            "type": "scatterpolargl"
           }
          ],
          "scatterternary": [
           {
            "marker": {
             "colorbar": {
              "outlinewidth": 0,
              "ticks": ""
             }
            },
            "type": "scatterternary"
           }
          ],
          "surface": [
           {
            "colorbar": {
             "outlinewidth": 0,
             "ticks": ""
            },
            "colorscale": [
             [
              0,
              "#0d0887"
             ],
             [
              0.1111111111111111,
              "#46039f"
             ],
             [
              0.2222222222222222,
              "#7201a8"
             ],
             [
              0.3333333333333333,
              "#9c179e"
             ],
             [
              0.4444444444444444,
              "#bd3786"
             ],
             [
              0.5555555555555556,
              "#d8576b"
             ],
             [
              0.6666666666666666,
              "#ed7953"
             ],
             [
              0.7777777777777778,
              "#fb9f3a"
             ],
             [
              0.8888888888888888,
              "#fdca26"
             ],
             [
              1,
              "#f0f921"
             ]
            ],
            "type": "surface"
           }
          ],
          "table": [
           {
            "cells": {
             "fill": {
              "color": "#EBF0F8"
             },
             "line": {
              "color": "white"
             }
            },
            "header": {
             "fill": {
              "color": "#C8D4E3"
             },
             "line": {
              "color": "white"
             }
            },
            "type": "table"
           }
          ]
         },
         "layout": {
          "annotationdefaults": {
           "arrowcolor": "#2a3f5f",
           "arrowhead": 0,
           "arrowwidth": 1
          },
          "autotypenumbers": "strict",
          "coloraxis": {
           "colorbar": {
            "outlinewidth": 0,
            "ticks": ""
           }
          },
          "colorscale": {
           "diverging": [
            [
             0,
             "#8e0152"
            ],
            [
             0.1,
             "#c51b7d"
            ],
            [
             0.2,
             "#de77ae"
            ],
            [
             0.3,
             "#f1b6da"
            ],
            [
             0.4,
             "#fde0ef"
            ],
            [
             0.5,
             "#f7f7f7"
            ],
            [
             0.6,
             "#e6f5d0"
            ],
            [
             0.7,
             "#b8e186"
            ],
            [
             0.8,
             "#7fbc41"
            ],
            [
             0.9,
             "#4d9221"
            ],
            [
             1,
             "#276419"
            ]
           ],
           "sequential": [
            [
             0,
             "#0d0887"
            ],
            [
             0.1111111111111111,
             "#46039f"
            ],
            [
             0.2222222222222222,
             "#7201a8"
            ],
            [
             0.3333333333333333,
             "#9c179e"
            ],
            [
             0.4444444444444444,
             "#bd3786"
            ],
            [
             0.5555555555555556,
             "#d8576b"
            ],
            [
             0.6666666666666666,
             "#ed7953"
            ],
            [
             0.7777777777777778,
             "#fb9f3a"
            ],
            [
             0.8888888888888888,
             "#fdca26"
            ],
            [
             1,
             "#f0f921"
            ]
           ],
           "sequentialminus": [
            [
             0,
             "#0d0887"
            ],
            [
             0.1111111111111111,
             "#46039f"
            ],
            [
             0.2222222222222222,
             "#7201a8"
            ],
            [
             0.3333333333333333,
             "#9c179e"
            ],
            [
             0.4444444444444444,
             "#bd3786"
            ],
            [
             0.5555555555555556,
             "#d8576b"
            ],
            [
             0.6666666666666666,
             "#ed7953"
            ],
            [
             0.7777777777777778,
             "#fb9f3a"
            ],
            [
             0.8888888888888888,
             "#fdca26"
            ],
            [
             1,
             "#f0f921"
            ]
           ]
          },
          "colorway": [
           "#636efa",
           "#EF553B",
           "#00cc96",
           "#ab63fa",
           "#FFA15A",
           "#19d3f3",
           "#FF6692",
           "#B6E880",
           "#FF97FF",
           "#FECB52"
          ],
          "font": {
           "color": "#2a3f5f"
          },
          "geo": {
           "bgcolor": "white",
           "lakecolor": "white",
           "landcolor": "#E5ECF6",
           "showlakes": true,
           "showland": true,
           "subunitcolor": "white"
          },
          "hoverlabel": {
           "align": "left"
          },
          "hovermode": "closest",
          "mapbox": {
           "style": "light"
          },
          "paper_bgcolor": "white",
          "plot_bgcolor": "#E5ECF6",
          "polar": {
           "angularaxis": {
            "gridcolor": "white",
            "linecolor": "white",
            "ticks": ""
           },
           "bgcolor": "#E5ECF6",
           "radialaxis": {
            "gridcolor": "white",
            "linecolor": "white",
            "ticks": ""
           }
          },
          "scene": {
           "xaxis": {
            "backgroundcolor": "#E5ECF6",
            "gridcolor": "white",
            "gridwidth": 2,
            "linecolor": "white",
            "showbackground": true,
            "ticks": "",
            "zerolinecolor": "white"
           },
           "yaxis": {
            "backgroundcolor": "#E5ECF6",
            "gridcolor": "white",
            "gridwidth": 2,
            "linecolor": "white",
            "showbackground": true,
            "ticks": "",
            "zerolinecolor": "white"
           },
           "zaxis": {
            "backgroundcolor": "#E5ECF6",
            "gridcolor": "white",
            "gridwidth": 2,
            "linecolor": "white",
            "showbackground": true,
            "ticks": "",
            "zerolinecolor": "white"
           }
          },
          "shapedefaults": {
           "line": {
            "color": "#2a3f5f"
           }
          },
          "ternary": {
           "aaxis": {
            "gridcolor": "white",
            "linecolor": "white",
            "ticks": ""
           },
           "baxis": {
            "gridcolor": "white",
            "linecolor": "white",
            "ticks": ""
           },
           "bgcolor": "#E5ECF6",
           "caxis": {
            "gridcolor": "white",
            "linecolor": "white",
            "ticks": ""
           }
          },
          "title": {
           "x": 0.05
          },
          "xaxis": {
           "automargin": true,
           "gridcolor": "white",
           "linecolor": "white",
           "ticks": "",
           "title": {
            "standoff": 15
           },
           "zerolinecolor": "white",
           "zerolinewidth": 2
          },
          "yaxis": {
           "automargin": true,
           "gridcolor": "white",
           "linecolor": "white",
           "ticks": "",
           "title": {
            "standoff": 15
           },
           "zerolinecolor": "white",
           "zerolinewidth": 2
          }
         }
        },
        "title": {
         "font": {
          "size": 16
         },
         "text": "Base → Instruct Introspective SAE Features: Mean Activation<br><sub>Llama 3.1 8B, Residual Stream Post-Layer 17</sub>",
         "x": 0.5,
         "xanchor": "center"
        },
        "width": 1005,
        "xaxis": {
         "gridcolor": "lightgray",
         "gridwidth": 1,
         "range": [
          -0.18867187201976776,
          3.962109327316284
         ],
         "scaleanchor": "y",
         "scaleratio": 1,
         "showgrid": true,
         "title": {
          "text": "Base: Mean Activation"
         }
        },
        "yaxis": {
         "gridcolor": "lightgray",
         "gridwidth": 1,
         "range": [
          -0.18867187201976776,
          3.962109327316284
         ],
         "showgrid": true,
         "title": {
          "text": "Instruct: Mean Activation"
         }
        }
       }
      },
      "text/html": [
       "<div>                            <div id=\"9efaaa38-4903-4bfe-8fb2-b03606a97a89\" class=\"plotly-graph-div\" style=\"height:800px; width:1005px;\"></div>            <script type=\"text/javascript\">                require([\"plotly\"], function(Plotly) {                    window.PLOTLYENV=window.PLOTLYENV || {};                                    if (document.getElementById(\"9efaaa38-4903-4bfe-8fb2-b03606a97a89\")) {                    Plotly.newPlot(                        \"9efaaa38-4903-4bfe-8fb2-b03606a97a89\",                        [{\"customdata\":[\"https:\\u002f\\u002fwww.neuronpedia.org\\u002fllama3.1-8b\\u002f17-llamascope-res-131k\\u002f11481\",\"https:\\u002f\\u002fwww.neuronpedia.org\\u002fllama3.1-8b\\u002f17-llamascope-res-131k\\u002f20470\",\"https:\\u002f\\u002fwww.neuronpedia.org\\u002fllama3.1-8b\\u002f17-llamascope-res-131k\\u002f26220\",\"https:\\u002f\\u002fwww.neuronpedia.org\\u002fllama3.1-8b\\u002f17-llamascope-res-131k\\u002f27874\",\"https:\\u002f\\u002fwww.neuronpedia.org\\u002fllama3.1-8b\\u002f17-llamascope-res-131k\\u002f28540\",\"https:\\u002f\\u002fwww.neuronpedia.org\\u002fllama3.1-8b\\u002f17-llamascope-res-131k\\u002f48367\",\"https:\\u002f\\u002fwww.neuronpedia.org\\u002fllama3.1-8b\\u002f17-llamascope-res-131k\\u002f65809\",\"https:\\u002f\\u002fwww.neuronpedia.org\\u002fllama3.1-8b\\u002f17-llamascope-res-131k\\u002f66986\",\"https:\\u002f\\u002fwww.neuronpedia.org\\u002fllama3.1-8b\\u002f17-llamascope-res-131k\\u002f73344\",\"https:\\u002f\\u002fwww.neuronpedia.org\\u002fllama3.1-8b\\u002f17-llamascope-res-131k\\u002f98707\",\"https:\\u002f\\u002fwww.neuronpedia.org\\u002fllama3.1-8b\\u002f17-llamascope-res-131k\\u002f105584\",\"https:\\u002f\\u002fwww.neuronpedia.org\\u002fllama3.1-8b\\u002f17-llamascope-res-131k\\u002f105695\",\"https:\\u002f\\u002fwww.neuronpedia.org\\u002fllama3.1-8b\\u002f17-llamascope-res-131k\\u002f108488\",\"https:\\u002f\\u002fwww.neuronpedia.org\\u002fllama3.1-8b\\u002f17-llamascope-res-131k\\u002f113492\",\"https:\\u002f\\u002fwww.neuronpedia.org\\u002fllama3.1-8b\\u002f17-llamascope-res-131k\\u002f120884\",\"https:\\u002f\\u002fwww.neuronpedia.org\\u002fllama3.1-8b\\u002f17-llamascope-res-131k\\u002f121328\",\"https:\\u002f\\u002fwww.neuronpedia.org\\u002fllama3.1-8b\\u002f17-llamascope-res-131k\\u002f129011\",\"https:\\u002f\\u002fwww.neuronpedia.org\\u002fllama3.1-8b\\u002f17-llamascope-res-131k\\u002f129946\"],\"hoverlabel\":{\"bgcolor\":\"#FF6B6B\",\"bordercolor\":\"black\",\"font\":{\"color\":\"white\",\"family\":\"Arial\",\"size\":12}},\"hovertemplate\":[\"\\u003cb\\u003eFeature 11481\\u003c\\u002fb\\u003e\\u003cbr\\u003eBase Mean Activation: 0.0547\\u003cbr\\u003eInstruct Mean Activation: 0.0000\\u003cbr\\u003eDifference: -0.0547\\u003cbr\\u003e\\u003cbr\\u003e\\u003cb\\u003eIntrospective prompt-exclusive feature for Base\\u003c\\u002fb\\u003e\\u003cbr\\u003eBase Introspective: 2.5% (1\\u002f40)\\u003cbr\\u003eBase Control: 0.0% (0\\u002f40)\\u003cbr\\u003eInstruct Introspective: 0.0% (0\\u002f40)\\u003cbr\\u003eInstruct Control: 0.0% (0\\u002f40)\\u003cbr\\u003e\\u003cbr\\u003e\\u003cbr\\u003e\\u003cb\\u003eDescription:\\u003c\\u002fb\\u003e\\u003cbr\\u003eProfessional credentials, institutional affiliations, academic qualifications,\\u003cbr\\u003eand specialized fields that appear in biographical or professional profile\\u003cbr\\u003einformation.\\u003cextra\\u003e\\u003c\\u002fextra\\u003e\",\"\\u003cb\\u003eFeature 20470\\u003c\\u002fb\\u003e\\u003cbr\\u003eBase Mean Activation: 0.1055\\u003cbr\\u003eInstruct Mean Activation: 0.0000\\u003cbr\\u003eDifference: -0.1055\\u003cbr\\u003e\\u003cbr\\u003e\\u003cb\\u003eIntrospective prompt-exclusive feature for Base\\u003c\\u002fb\\u003e\\u003cbr\\u003eBase Introspective: 5.0% (2\\u002f40)\\u003cbr\\u003eBase Control: 0.0% (0\\u002f40)\\u003cbr\\u003eInstruct Introspective: 0.0% (0\\u002f40)\\u003cbr\\u003eInstruct Control: 0.0% (0\\u002f40)\\u003cbr\\u003e\\u003cbr\\u003e\\u003cbr\\u003e\\u003cb\\u003eDescription:\\u003c\\u002fb\\u003e\\u003cbr\\u003eClosing punctuation marks that terminate quotes, citations, or information\\u003cbr\\u003esegments in structured text.\\u003cextra\\u003e\\u003c\\u002fextra\\u003e\",\"\\u003cb\\u003eFeature 26220\\u003c\\u002fb\\u003e\\u003cbr\\u003eBase Mean Activation: 0.1027\\u003cbr\\u003eInstruct Mean Activation: 0.0000\\u003cbr\\u003eDifference: -0.1027\\u003cbr\\u003e\\u003cbr\\u003e\\u003cb\\u003eIntrospective prompt-exclusive feature for Base\\u003c\\u002fb\\u003e\\u003cbr\\u003eBase Introspective: 5.0% (2\\u002f40)\\u003cbr\\u003eBase Control: 0.0% (0\\u002f40)\\u003cbr\\u003eInstruct Introspective: 0.0% (0\\u002f40)\\u003cbr\\u003eInstruct Control: 0.0% (0\\u002f40)\\u003cbr\\u003e\\u003cbr\\u003e\\u003cbr\\u003e\\u003cb\\u003eDescription:\\u003c\\u002fb\\u003e\\u003cbr\\u003eSensitive user identification information such as usernames, email addresses,\\u003cbr\\u003eand password placeholders in code and configuration files.\\u003cextra\\u003e\\u003c\\u002fextra\\u003e\",\"\\u003cb\\u003eFeature 27874\\u003c\\u002fb\\u003e\\u003cbr\\u003eBase Mean Activation: 0.1020\\u003cbr\\u003eInstruct Mean Activation: 0.0000\\u003cbr\\u003eDifference: -0.1020\\u003cbr\\u003e\\u003cbr\\u003e\\u003cb\\u003eIntrospective prompt-exclusive feature for Base\\u003c\\u002fb\\u003e\\u003cbr\\u003eBase Introspective: 5.0% (2\\u002f40)\\u003cbr\\u003eBase Control: 0.0% (0\\u002f40)\\u003cbr\\u003eInstruct Introspective: 0.0% (0\\u002f40)\\u003cbr\\u003eInstruct Control: 0.0% (0\\u002f40)\\u003cbr\\u003e\\u003cbr\\u003e\\u003cbr\\u003e\\u003cb\\u003eDescription:\\u003c\\u002fb\\u003e\\u003cbr\\u003eLinks or references to social media posts (usually Twitter) where shortened URLs\\u003cbr\\u003eor IDs appear at the end, often followed by quotation marks that indicate the\\u003cbr\\u003estart or end of quoted content. These markers typically appear at the transition\\u003cbr\\u003epoints between quoted text and commentary.\\u003cextra\\u003e\\u003c\\u002fextra\\u003e\",\"\\u003cb\\u003eFeature 28540\\u003c\\u002fb\\u003e\\u003cbr\\u003eBase Mean Activation: 0.0574\\u003cbr\\u003eInstruct Mean Activation: 0.0000\\u003cbr\\u003eDifference: -0.0574\\u003cbr\\u003e\\u003cbr\\u003e\\u003cb\\u003eIntrospective prompt-exclusive feature for Base\\u003c\\u002fb\\u003e\\u003cbr\\u003eBase Introspective: 2.5% (1\\u002f40)\\u003cbr\\u003eBase Control: 0.0% (0\\u002f40)\\u003cbr\\u003eInstruct Introspective: 0.0% (0\\u002f40)\\u003cbr\\u003eInstruct Control: 0.0% (0\\u002f40)\\u003cbr\\u003e\\u003cbr\\u003e\\u003cbr\\u003e\\u003cb\\u003eDescription:\\u003c\\u002fb\\u003e\\u003cbr\\u003eCommas within code, markup, or technical text, often separating parameters, list\\u003cbr\\u003eitems, or coordinates in various programming languages, CSS selectors, or data\\u003cbr\\u003estructures.\\u003cextra\\u003e\\u003c\\u002fextra\\u003e\",\"\\u003cb\\u003eFeature 48367\\u003c\\u002fb\\u003e\\u003cbr\\u003eBase Mean Activation: 0.4297\\u003cbr\\u003eInstruct Mean Activation: 0.0000\\u003cbr\\u003eDifference: -0.4297\\u003cbr\\u003e\\u003cbr\\u003e\\u003cb\\u003eIntrospective prompt-exclusive feature for Base\\u003c\\u002fb\\u003e\\u003cbr\\u003eBase Introspective: 20.0% (8\\u002f40)\\u003cbr\\u003eBase Control: 0.0% (0\\u002f40)\\u003cbr\\u003eInstruct Introspective: 0.0% (0\\u002f40)\\u003cbr\\u003eInstruct Control: 0.0% (0\\u002f40)\\u003cbr\\u003e\\u003cbr\\u003e\\u003cbr\\u003e\\u003cb\\u003eDescription:\\u003c\\u002fb\\u003e\\u003cbr\\u003eWords that represent collections, organized entities, or formalized initiatives\\u003cbr\\u003elike \\\"Guide\\\", \\\"Program\\\", \\\"Project\\\", \\\"Fund\\\", \\\"Series\\\", \\\"Workshop\\\", \\\"League\\\",\\u003cbr\\u003e\\\"Hub\\\" - typically appearing as part of proper nouns or titles of organized\\u003cbr\\u003eendeavors.\\u003cextra\\u003e\\u003c\\u002fextra\\u003e\",\"\\u003cb\\u003eFeature 65809\\u003c\\u002fb\\u003e\\u003cbr\\u003eBase Mean Activation: 0.0555\\u003cbr\\u003eInstruct Mean Activation: 0.0000\\u003cbr\\u003eDifference: -0.0555\\u003cbr\\u003e\\u003cbr\\u003e\\u003cb\\u003eIntrospective prompt-exclusive feature for Base\\u003c\\u002fb\\u003e\\u003cbr\\u003eBase Introspective: 2.5% (1\\u002f40)\\u003cbr\\u003eBase Control: 0.0% (0\\u002f40)\\u003cbr\\u003eInstruct Introspective: 0.0% (0\\u002f40)\\u003cbr\\u003eInstruct Control: 0.0% (0\\u002f40)\\u003cbr\\u003e\\u003cbr\\u003e\\u003cbr\\u003e\\u003cb\\u003eDescription:\\u003c\\u002fb\\u003e\\u003cbr\\u003eFooter or navigation elements of websites containing links, copyright notices,\\u003cbr\\u003eand separating tokens like vertical bars or newlines.\\u003cextra\\u003e\\u003c\\u002fextra\\u003e\",\"\\u003cb\\u003eFeature 66986\\u003c\\u002fb\\u003e\\u003cbr\\u003eBase Mean Activation: 0.0500\\u003cbr\\u003eInstruct Mean Activation: 0.0000\\u003cbr\\u003eDifference: -0.0500\\u003cbr\\u003e\\u003cbr\\u003e\\u003cb\\u003eIntrospective prompt-exclusive feature for Base\\u003c\\u002fb\\u003e\\u003cbr\\u003eBase Introspective: 2.5% (1\\u002f40)\\u003cbr\\u003eBase Control: 0.0% (0\\u002f40)\\u003cbr\\u003eInstruct Introspective: 0.0% (0\\u002f40)\\u003cbr\\u003eInstruct Control: 0.0% (0\\u002f40)\\u003cbr\\u003e\\u003cbr\\u003e\\u003cbr\\u003e\\u003cb\\u003eDescription:\\u003c\\u002fb\\u003e\\u003cbr\\u003eNames of publications, media, or organizational entities followed by a type\\u003cbr\\u003eidentifier (Magazine, Publications, Agency, Conference, Series, etc.) that\\u003cbr\\u003ecategorizes what kind of entity it is.\\u003cextra\\u003e\\u003c\\u002fextra\\u003e\",\"\\u003cb\\u003eFeature 73344\\u003c\\u002fb\\u003e\\u003cbr\\u003eBase Mean Activation: 0.0824\\u003cbr\\u003eInstruct Mean Activation: 0.0000\\u003cbr\\u003eDifference: -0.0824\\u003cbr\\u003e\\u003cbr\\u003e\\u003cb\\u003eIntrospective prompt-exclusive feature for Base\\u003c\\u002fb\\u003e\\u003cbr\\u003eBase Introspective: 2.5% (1\\u002f40)\\u003cbr\\u003eBase Control: 0.0% (0\\u002f40)\\u003cbr\\u003eInstruct Introspective: 0.0% (0\\u002f40)\\u003cbr\\u003eInstruct Control: 0.0% (0\\u002f40)\\u003cbr\\u003e\\u003cbr\\u003e\\u003cbr\\u003e\\u003cb\\u003eDescription:\\u003c\\u002fb\\u003e\\u003cbr\\u003eCountry or location names appearing in dropdown menus, select boxes, or form\\u003cbr\\u003efields for geographic selection on websites and online forms.\\u003cextra\\u003e\\u003c\\u002fextra\\u003e\",\"\\u003cb\\u003eFeature 98707\\u003c\\u002fb\\u003e\\u003cbr\\u003eBase Mean Activation: 0.0535\\u003cbr\\u003eInstruct Mean Activation: 0.0000\\u003cbr\\u003eDifference: -0.0535\\u003cbr\\u003e\\u003cbr\\u003e\\u003cb\\u003eIntrospective prompt-exclusive feature for Base\\u003c\\u002fb\\u003e\\u003cbr\\u003eBase Introspective: 2.5% (1\\u002f40)\\u003cbr\\u003eBase Control: 0.0% (0\\u002f40)\\u003cbr\\u003eInstruct Introspective: 0.0% (0\\u002f40)\\u003cbr\\u003eInstruct Control: 0.0% (0\\u002f40)\\u003cbr\\u003e\\u003cbr\\u003e\\u003cbr\\u003e\\u003cb\\u003eDescription:\\u003c\\u002fb\\u003e\\u003cbr\\u003eText related to healthcare organizations, medical facilities, electronic health\\u003cbr\\u003erecords (EHR), HIPAA compliance, and healthcare information technology systems.\\u003cbr\\u003eThe highlights often appear in news articles, job listings, or regulatory\\u003cbr\\u003eupdates about healthcare institutions, their digital transformation, and\\u003cbr\\u003ecompliance requirements.\\u003cextra\\u003e\\u003c\\u002fextra\\u003e\",\"\\u003cb\\u003eFeature 105584\\u003c\\u002fb\\u003e\\u003cbr\\u003eBase Mean Activation: 0.0531\\u003cbr\\u003eInstruct Mean Activation: 0.0000\\u003cbr\\u003eDifference: -0.0531\\u003cbr\\u003e\\u003cbr\\u003e\\u003cb\\u003eIntrospective prompt-exclusive feature for Base\\u003c\\u002fb\\u003e\\u003cbr\\u003eBase Introspective: 2.5% (1\\u002f40)\\u003cbr\\u003eBase Control: 0.0% (0\\u002f40)\\u003cbr\\u003eInstruct Introspective: 0.0% (0\\u002f40)\\u003cbr\\u003eInstruct Control: 0.0% (0\\u002f40)\\u003cbr\\u003e\\u003cbr\\u003e\\u003cbr\\u003e\\u003cb\\u003eDescription:\\u003c\\u002fb\\u003e\\u003cbr\\u003eA specific technical term or formal descriptor that names or categorizes a\\u003cbr\\u003econcept just described in more general terms.\\u003cextra\\u003e\\u003c\\u002fextra\\u003e\",\"\\u003cb\\u003eFeature 105695\\u003c\\u002fb\\u003e\\u003cbr\\u003eBase Mean Activation: 0.0484\\u003cbr\\u003eInstruct Mean Activation: 0.0000\\u003cbr\\u003eDifference: -0.0484\\u003cbr\\u003e\\u003cbr\\u003e\\u003cb\\u003eIntrospective prompt-exclusive feature for Base\\u003c\\u002fb\\u003e\\u003cbr\\u003eBase Introspective: 2.5% (1\\u002f40)\\u003cbr\\u003eBase Control: 0.0% (0\\u002f40)\\u003cbr\\u003eInstruct Introspective: 0.0% (0\\u002f40)\\u003cbr\\u003eInstruct Control: 0.0% (0\\u002f40)\\u003cbr\\u003e\\u003cbr\\u003e\\u003cbr\\u003e\\u003cb\\u003eDescription:\\u003c\\u002fb\\u003e\\u003cbr\\u003eInteractive call-to-action elements on websites, typically appearing in\\u003cbr\\u003enavigation menus, contact sections, or prompts for user engagement with digital\\u003cbr\\u003eresources, memberships, or services.\\u003cextra\\u003e\\u003c\\u002fextra\\u003e\",\"\\u003cb\\u003eFeature 108488\\u003c\\u002fb\\u003e\\u003cbr\\u003eBase Mean Activation: 0.1906\\u003cbr\\u003eInstruct Mean Activation: 0.0000\\u003cbr\\u003eDifference: -0.1906\\u003cbr\\u003e\\u003cbr\\u003e\\u003cb\\u003eIntrospective prompt-exclusive feature for Base\\u003c\\u002fb\\u003e\\u003cbr\\u003eBase Introspective: 7.5% (3\\u002f40)\\u003cbr\\u003eBase Control: 0.0% (0\\u002f40)\\u003cbr\\u003eInstruct Introspective: 0.0% (0\\u002f40)\\u003cbr\\u003eInstruct Control: 0.0% (0\\u002f40)\\u003cbr\\u003e\\u003cbr\\u003e\\u003cbr\\u003e\\u003cb\\u003eDescription:\\u003c\\u002fb\\u003e\\u003cbr\\u003eProfessional position titles and job roles appearing in resume or professional\\u003cbr\\u003eprofile listings, often preceded by seniority level (e.g., \\\"Senior\\\") or followed\\u003cbr\\u003eby specialization areas.\\u003cextra\\u003e\\u003c\\u002fextra\\u003e\",\"\\u003cb\\u003eFeature 113492\\u003c\\u002fb\\u003e\\u003cbr\\u003eBase Mean Activation: 0.1195\\u003cbr\\u003eInstruct Mean Activation: 0.0000\\u003cbr\\u003eDifference: -0.1195\\u003cbr\\u003e\\u003cbr\\u003e\\u003cb\\u003eIntrospective prompt-exclusive feature for Base\\u003c\\u002fb\\u003e\\u003cbr\\u003eBase Introspective: 5.0% (2\\u002f40)\\u003cbr\\u003eBase Control: 0.0% (0\\u002f40)\\u003cbr\\u003eInstruct Introspective: 0.0% (0\\u002f40)\\u003cbr\\u003eInstruct Control: 0.0% (0\\u002f40)\\u003cbr\\u003e\\u003cbr\\u003e\\u003cbr\\u003e\\u003cb\\u003eDescription:\\u003c\\u002fb\\u003e\\u003cbr\\u003eProfessional titles, occupations, and job-related terms, particularly when\\u003cbr\\u003eappearing in lists or descriptions of career options.\\u003cextra\\u003e\\u003c\\u002fextra\\u003e\",\"\\u003cb\\u003eFeature 120884\\u003c\\u002fb\\u003e\\u003cbr\\u003eBase Mean Activation: 0.0498\\u003cbr\\u003eInstruct Mean Activation: 0.0000\\u003cbr\\u003eDifference: -0.0498\\u003cbr\\u003e\\u003cbr\\u003e\\u003cb\\u003eIntrospective prompt-exclusive feature for Base\\u003c\\u002fb\\u003e\\u003cbr\\u003eBase Introspective: 2.5% (1\\u002f40)\\u003cbr\\u003eBase Control: 0.0% (0\\u002f40)\\u003cbr\\u003eInstruct Introspective: 0.0% (0\\u002f40)\\u003cbr\\u003eInstruct Control: 0.0% (0\\u002f40)\\u003cbr\\u003e\\u003cbr\\u003e\\u003cbr\\u003e\\u003cb\\u003eDescription:\\u003c\\u002fb\\u003e\\u003cbr\\u003eTechnical terms in software development contexts, particularly XML configuration\\u003cbr\\u003eattributes, programming syntax, and IDE functionality references.\\u003cextra\\u003e\\u003c\\u002fextra\\u003e\",\"\\u003cb\\u003eFeature 121328\\u003c\\u002fb\\u003e\\u003cbr\\u003eBase Mean Activation: 0.0562\\u003cbr\\u003eInstruct Mean Activation: 0.0000\\u003cbr\\u003eDifference: -0.0562\\u003cbr\\u003e\\u003cbr\\u003e\\u003cb\\u003eIntrospective prompt-exclusive feature for Base\\u003c\\u002fb\\u003e\\u003cbr\\u003eBase Introspective: 2.5% (1\\u002f40)\\u003cbr\\u003eBase Control: 0.0% (0\\u002f40)\\u003cbr\\u003eInstruct Introspective: 0.0% (0\\u002f40)\\u003cbr\\u003eInstruct Control: 0.0% (0\\u002f40)\\u003cbr\\u003e\\u003cbr\\u003e\\u003cbr\\u003e\\u003cb\\u003eDescription:\\u003c\\u002fb\\u003e\\u003cbr\\u003eJob titles or professional roles following a person's name, often in formal\\u003cbr\\u003ebiographies or professional profiles. These roles typically denote authority,\\u003cbr\\u003eexpertise or occupation (e.g., Partner, Editor-in-Chief, Professor, Manager,\\u003cbr\\u003eDirector).\\u003cextra\\u003e\\u003c\\u002fextra\\u003e\",\"\\u003cb\\u003eFeature 129011\\u003c\\u002fb\\u003e\\u003cbr\\u003eBase Mean Activation: 0.0574\\u003cbr\\u003eInstruct Mean Activation: 0.0000\\u003cbr\\u003eDifference: -0.0574\\u003cbr\\u003e\\u003cbr\\u003e\\u003cb\\u003eIntrospective prompt-exclusive feature for Base\\u003c\\u002fb\\u003e\\u003cbr\\u003eBase Introspective: 2.5% (1\\u002f40)\\u003cbr\\u003eBase Control: 0.0% (0\\u002f40)\\u003cbr\\u003eInstruct Introspective: 0.0% (0\\u002f40)\\u003cbr\\u003eInstruct Control: 0.0% (0\\u002f40)\\u003cbr\\u003e\\u003cbr\\u003e\\u003cbr\\u003e\\u003cb\\u003eDescription:\\u003c\\u002fb\\u003e\\u003cbr\\u003eText describing digital information access methods, particularly phrases about\\u003cbr\\u003esearching, looking up, or retrieving information through online tools, reference\\u003cbr\\u003ematerials, or databases.\\u003cextra\\u003e\\u003c\\u002fextra\\u003e\",\"\\u003cb\\u003eFeature 129946\\u003c\\u002fb\\u003e\\u003cbr\\u003eBase Mean Activation: 0.0480\\u003cbr\\u003eInstruct Mean Activation: 0.0000\\u003cbr\\u003eDifference: -0.0480\\u003cbr\\u003e\\u003cbr\\u003e\\u003cb\\u003eIntrospective prompt-exclusive feature for Base\\u003c\\u002fb\\u003e\\u003cbr\\u003eBase Introspective: 2.5% (1\\u002f40)\\u003cbr\\u003eBase Control: 0.0% (0\\u002f40)\\u003cbr\\u003eInstruct Introspective: 0.0% (0\\u002f40)\\u003cbr\\u003eInstruct Control: 0.0% (0\\u002f40)\\u003cbr\\u003e\\u003cbr\\u003e\\u003cbr\\u003e\\u003cb\\u003eDescription:\\u003c\\u002fb\\u003e\\u003cbr\\u003eNames of official organizations, institutions, and formal entities, particularly\\u003cbr\\u003ethose related to education, research, community services, and governmental or\\u003cbr\\u003etribal authorities.\\u003cextra\\u003e\\u003c\\u002fextra\\u003e\"],\"legendgroup\":\"asst\",\"legendgrouptitle\":{\"text\":\"asst\"},\"marker\":{\"color\":\"#FF6B6B\",\"line\":{\"color\":\"black\",\"width\":0.3},\"opacity\":0.7,\"size\":6,\"symbol\":\"circle\"},\"mode\":\"markers\",\"name\":\"  Base Introspective\",\"text\":[\"Feature 11481\",\"Feature 20470\",\"Feature 26220\",\"Feature 27874\",\"Feature 28540\",\"Feature 48367\",\"Feature 65809\",\"Feature 66986\",\"Feature 73344\",\"Feature 98707\",\"Feature 105584\",\"Feature 105695\",\"Feature 108488\",\"Feature 113492\",\"Feature 120884\",\"Feature 121328\",\"Feature 129011\",\"Feature 129946\"],\"x\":[0.0546875,0.10546875,0.10273437,0.10195313,0.057421874,0.4296875,0.05546875,0.05,0.08242188,0.053515624,0.053125,0.0484375,0.190625,0.11953125,0.049804688,0.05625,0.057421874,0.048046876],\"y\":[0.0,0.0,0.0,0.0,0.0,0.0,0.0,0.0,0.0,0.0,0.0,0.0,0.0,0.0,0.0,0.0,0.0,0.0],\"type\":\"scattergl\"},{\"customdata\":[\"https:\\u002f\\u002fwww.neuronpedia.org\\u002fllama3.1-8b\\u002f17-llamascope-res-131k\\u002f4725\",\"https:\\u002f\\u002fwww.neuronpedia.org\\u002fllama3.1-8b\\u002f17-llamascope-res-131k\\u002f10434\",\"https:\\u002f\\u002fwww.neuronpedia.org\\u002fllama3.1-8b\\u002f17-llamascope-res-131k\\u002f20917\",\"https:\\u002f\\u002fwww.neuronpedia.org\\u002fllama3.1-8b\\u002f17-llamascope-res-131k\\u002f29527\",\"https:\\u002f\\u002fwww.neuronpedia.org\\u002fllama3.1-8b\\u002f17-llamascope-res-131k\\u002f50953\",\"https:\\u002f\\u002fwww.neuronpedia.org\\u002fllama3.1-8b\\u002f17-llamascope-res-131k\\u002f53398\",\"https:\\u002f\\u002fwww.neuronpedia.org\\u002fllama3.1-8b\\u002f17-llamascope-res-131k\\u002f59338\",\"https:\\u002f\\u002fwww.neuronpedia.org\\u002fllama3.1-8b\\u002f17-llamascope-res-131k\\u002f63634\",\"https:\\u002f\\u002fwww.neuronpedia.org\\u002fllama3.1-8b\\u002f17-llamascope-res-131k\\u002f81153\",\"https:\\u002f\\u002fwww.neuronpedia.org\\u002fllama3.1-8b\\u002f17-llamascope-res-131k\\u002f94598\"],\"hoverlabel\":{\"bgcolor\":\"#FF6B6B\",\"bordercolor\":\"black\",\"font\":{\"color\":\"white\",\"family\":\"Arial\",\"size\":12}},\"hovertemplate\":[\"\\u003cb\\u003eFeature 4725\\u003c\\u002fb\\u003e\\u003cbr\\u003eBase Mean Activation: 0.0000\\u003cbr\\u003eInstruct Mean Activation: 0.0480\\u003cbr\\u003eDifference: 0.0480\\u003cbr\\u003e\\u003cbr\\u003e\\u003cb\\u003eIntrospective prompt-exclusive feature for Instruct\\u003c\\u002fb\\u003e\\u003cbr\\u003eBase Introspective: 0.0% (0\\u002f40)\\u003cbr\\u003eBase Control: 0.0% (0\\u002f40)\\u003cbr\\u003eInstruct Introspective: 2.5% (1\\u002f40)\\u003cbr\\u003eInstruct Control: 0.0% (0\\u002f40)\\u003cbr\\u003e\\u003cbr\\u003e\\u003cbr\\u003e\\u003cb\\u003eDescription:\\u003c\\u002fb\\u003e\\u003cbr\\u003eProfessional roles characterized by expertise, authority, or specialized\\u003cbr\\u003eknowledge who provide guidance, instruction, or services to others.\\u003cextra\\u003e\\u003c\\u002fextra\\u003e\",\"\\u003cb\\u003eFeature 10434\\u003c\\u002fb\\u003e\\u003cbr\\u003eBase Mean Activation: 0.0000\\u003cbr\\u003eInstruct Mean Activation: 0.8062\\u003cbr\\u003eDifference: 0.8062\\u003cbr\\u003e\\u003cbr\\u003e\\u003cb\\u003eIntrospective prompt-exclusive feature for Instruct\\u003c\\u002fb\\u003e\\u003cbr\\u003eBase Introspective: 0.0% (0\\u002f40)\\u003cbr\\u003eBase Control: 0.0% (0\\u002f40)\\u003cbr\\u003eInstruct Introspective: 37.5% (15\\u002f40)\\u003cbr\\u003eInstruct Control: 0.0% (0\\u002f40)\\u003cbr\\u003e\\u003cbr\\u003e\\u003cbr\\u003e\\u003cb\\u003eDescription:\\u003c\\u002fb\\u003e\\u003cbr\\u003eCommon meaningful words in informational or commercial text, particularly verbs,\\u003cbr\\u003eabstract nouns, and descriptive terms that convey key information about\\u003cbr\\u003eservices, concepts, or relationships.\\u003cextra\\u003e\\u003c\\u002fextra\\u003e\",\"\\u003cb\\u003eFeature 20917\\u003c\\u002fb\\u003e\\u003cbr\\u003eBase Mean Activation: 0.0000\\u003cbr\\u003eInstruct Mean Activation: 0.2641\\u003cbr\\u003eDifference: 0.2641\\u003cbr\\u003e\\u003cbr\\u003e\\u003cb\\u003eIntrospective prompt-exclusive feature for Instruct\\u003c\\u002fb\\u003e\\u003cbr\\u003eBase Introspective: 0.0% (0\\u002f40)\\u003cbr\\u003eBase Control: 0.0% (0\\u002f40)\\u003cbr\\u003eInstruct Introspective: 12.5% (5\\u002f40)\\u003cbr\\u003eInstruct Control: 0.0% (0\\u002f40)\\u003cbr\\u003e\\u003cbr\\u003e\\u003cbr\\u003e\\u003cb\\u003eDescription:\\u003c\\u002fb\\u003e\\u003cbr\\u003eFirst-person and second-person pronouns (I, we, you) that establish the\\u003cbr\\u003espeaker's identity or perspective, often in contexts of self-description or\\u003cbr\\u003edirect address.\\u003cextra\\u003e\\u003c\\u002fextra\\u003e\",\"\\u003cb\\u003eFeature 29527\\u003c\\u002fb\\u003e\\u003cbr\\u003eBase Mean Activation: 0.0000\\u003cbr\\u003eInstruct Mean Activation: 0.8687\\u003cbr\\u003eDifference: 0.8687\\u003cbr\\u003e\\u003cbr\\u003e\\u003cb\\u003eIntrospective prompt-exclusive feature for Instruct\\u003c\\u002fb\\u003e\\u003cbr\\u003eBase Introspective: 0.0% (0\\u002f40)\\u003cbr\\u003eBase Control: 0.0% (0\\u002f40)\\u003cbr\\u003eInstruct Introspective: 40.0% (16\\u002f40)\\u003cbr\\u003eInstruct Control: 0.0% (0\\u002f40)\\u003cbr\\u003e\\u003cbr\\u003e\\u003cbr\\u003e\\u003cb\\u003eDescription:\\u003c\\u002fb\\u003e\\u003cbr\\u003eText discussing human nature, emphasizing that people or characters have human\\u003cbr\\u003equalities, flaws, vulnerabilities, and imperfections.\\u003cextra\\u003e\\u003c\\u002fextra\\u003e\",\"\\u003cb\\u003eFeature 50953\\u003c\\u002fb\\u003e\\u003cbr\\u003eBase Mean Activation: 0.0000\\u003cbr\\u003eInstruct Mean Activation: 0.2133\\u003cbr\\u003eDifference: 0.2133\\u003cbr\\u003e\\u003cbr\\u003e\\u003cb\\u003eIntrospective prompt-exclusive feature for Instruct\\u003c\\u002fb\\u003e\\u003cbr\\u003eBase Introspective: 0.0% (0\\u002f40)\\u003cbr\\u003eBase Control: 0.0% (0\\u002f40)\\u003cbr\\u003eInstruct Introspective: 10.0% (4\\u002f40)\\u003cbr\\u003eInstruct Control: 0.0% (0\\u002f40)\\u003cbr\\u003e\\u003cbr\\u003e\\u003cbr\\u003e\\u003cb\\u003eDescription:\\u003c\\u002fb\\u003e\\u003cbr\\u003eText patterns where people introduce themselves, greet others, or ask for\\u003cbr\\u003eself-introductions in conversation.\\u003cextra\\u003e\\u003c\\u002fextra\\u003e\",\"\\u003cb\\u003eFeature 53398\\u003c\\u002fb\\u003e\\u003cbr\\u003eBase Mean Activation: 0.0000\\u003cbr\\u003eInstruct Mean Activation: 0.1014\\u003cbr\\u003eDifference: 0.1014\\u003cbr\\u003e\\u003cbr\\u003e\\u003cb\\u003eIntrospective prompt-exclusive feature for Instruct\\u003c\\u002fb\\u003e\\u003cbr\\u003eBase Introspective: 0.0% (0\\u002f40)\\u003cbr\\u003eBase Control: 0.0% (0\\u002f40)\\u003cbr\\u003eInstruct Introspective: 5.0% (2\\u002f40)\\u003cbr\\u003eInstruct Control: 0.0% (0\\u002f40)\\u003cbr\\u003e\\u003cbr\\u003e\\u003cbr\\u003e\\u003cb\\u003eDescription:\\u003c\\u002fb\\u003e\\u003cbr\\u003eReferences to artificial intelligence, robots, or mechanical\\u002ftechnological\\u003cbr\\u003eentities and their components or characteristics.\\u003cextra\\u003e\\u003c\\u002fextra\\u003e\",\"\\u003cb\\u003eFeature 59338\\u003c\\u002fb\\u003e\\u003cbr\\u003eBase Mean Activation: 0.0000\\u003cbr\\u003eInstruct Mean Activation: 0.6895\\u003cbr\\u003eDifference: 0.6895\\u003cbr\\u003e\\u003cbr\\u003e\\u003cb\\u003eIntrospective prompt-exclusive feature for Instruct\\u003c\\u002fb\\u003e\\u003cbr\\u003eBase Introspective: 0.0% (0\\u002f40)\\u003cbr\\u003eBase Control: 0.0% (0\\u002f40)\\u003cbr\\u003eInstruct Introspective: 32.5% (13\\u002f40)\\u003cbr\\u003eInstruct Control: 0.0% (0\\u002f40)\\u003cbr\\u003e\\u003cbr\\u003e\\u003cbr\\u003e\\u003cb\\u003eDescription:\\u003c\\u002fb\\u003e\\u003cbr\\u003eSpecific nouns representing objects, products, services, or specialized domains\\u003cbr\\u003ethat are the central subject of informational or descriptive content.\\u003cextra\\u003e\\u003c\\u002fextra\\u003e\",\"\\u003cb\\u003eFeature 63634\\u003c\\u002fb\\u003e\\u003cbr\\u003eBase Mean Activation: 0.0000\\u003cbr\\u003eInstruct Mean Activation: 0.8494\\u003cbr\\u003eDifference: 0.8494\\u003cbr\\u003e\\u003cbr\\u003e\\u003cb\\u003eIntrospective prompt-exclusive feature for Instruct\\u003c\\u002fb\\u003e\\u003cbr\\u003eBase Introspective: 0.0% (0\\u002f40)\\u003cbr\\u003eBase Control: 0.0% (0\\u002f40)\\u003cbr\\u003eInstruct Introspective: 37.5% (15\\u002f40)\\u003cbr\\u003eInstruct Control: 0.0% (0\\u002f40)\\u003cbr\\u003e\\u003cbr\\u003e\\u003cbr\\u003e\\u003cb\\u003eDescription:\\u003c\\u002fb\\u003e\\u003cbr\\u003eReferences to artificial intelligence, algorithms, and computational systems,\\u003cbr\\u003eoften discussing their capabilities, applications, or relationship to human\\u003cbr\\u003eperformance.\\u003cextra\\u003e\\u003c\\u002fextra\\u003e\",\"\\u003cb\\u003eFeature 81153\\u003c\\u002fb\\u003e\\u003cbr\\u003eBase Mean Activation: 0.0000\\u003cbr\\u003eInstruct Mean Activation: 0.6750\\u003cbr\\u003eDifference: 0.6750\\u003cbr\\u003e\\u003cbr\\u003e\\u003cb\\u003eIntrospective prompt-exclusive feature for Instruct\\u003c\\u002fb\\u003e\\u003cbr\\u003eBase Introspective: 0.0% (0\\u002f40)\\u003cbr\\u003eBase Control: 0.0% (0\\u002f40)\\u003cbr\\u003eInstruct Introspective: 32.5% (13\\u002f40)\\u003cbr\\u003eInstruct Control: 0.0% (0\\u002f40)\\u003cbr\\u003e\\u003cbr\\u003e\\u003cbr\\u003e\\u003cb\\u003eDescription:\\u003c\\u002fb\\u003e\\u003cbr\\u003eCommon syntax elements, formatting tokens, and connecting words that appear at\\u003cbr\\u003estructural boundaries in text, particularly in dates, legal references, code\\u003cbr\\u003esnippets, and negative contractions.\\u003cextra\\u003e\\u003c\\u002fextra\\u003e\",\"\\u003cb\\u003eFeature 94598\\u003c\\u002fb\\u003e\\u003cbr\\u003eBase Mean Activation: 0.0000\\u003cbr\\u003eInstruct Mean Activation: 0.3996\\u003cbr\\u003eDifference: 0.3996\\u003cbr\\u003e\\u003cbr\\u003e\\u003cb\\u003eIntrospective prompt-exclusive feature for Instruct\\u003c\\u002fb\\u003e\\u003cbr\\u003eBase Introspective: 0.0% (0\\u002f40)\\u003cbr\\u003eBase Control: 0.0% (0\\u002f40)\\u003cbr\\u003eInstruct Introspective: 20.0% (8\\u002f40)\\u003cbr\\u003eInstruct Control: 0.0% (0\\u002f40)\\u003cbr\\u003e\\u003cbr\\u003e\\u003cbr\\u003e\\u003cb\\u003eDescription:\\u003c\\u002fb\\u003e\\u003cbr\\u003eSoftware platform names, web service components, and associated UI elements,\\u003cbr\\u003eoften appearing in technical documentation or product marketing materials.\\u003cextra\\u003e\\u003c\\u002fextra\\u003e\"],\"legendgroup\":\"asst\",\"legendgrouptitle\":{\"text\":\"asst\"},\"marker\":{\"color\":\"#FF6B6B\",\"line\":{\"color\":\"black\",\"width\":0.3},\"opacity\":0.7,\"size\":6,\"symbol\":\"square\"},\"mode\":\"markers\",\"name\":\"  Instruct Introspective\",\"text\":[\"Feature 4725\",\"Feature 10434\",\"Feature 20917\",\"Feature 29527\",\"Feature 50953\",\"Feature 53398\",\"Feature 59338\",\"Feature 63634\",\"Feature 81153\",\"Feature 94598\"],\"x\":[0.0,0.0,0.0,0.0,0.0,0.0,0.0,0.0,0.0,0.0],\"y\":[0.048046876,0.80625,0.2640625,0.86875,0.21328124,0.10136719,0.6894531,0.84941405,0.675,0.3996094],\"type\":\"scattergl\"},{\"customdata\":[\"https:\\u002f\\u002fwww.neuronpedia.org\\u002fllama3.1-8b\\u002f17-llamascope-res-131k\\u002f9560\",\"https:\\u002f\\u002fwww.neuronpedia.org\\u002fllama3.1-8b\\u002f17-llamascope-res-131k\\u002f14614\",\"https:\\u002f\\u002fwww.neuronpedia.org\\u002fllama3.1-8b\\u002f17-llamascope-res-131k\\u002f36810\",\"https:\\u002f\\u002fwww.neuronpedia.org\\u002fllama3.1-8b\\u002f17-llamascope-res-131k\\u002f40457\",\"https:\\u002f\\u002fwww.neuronpedia.org\\u002fllama3.1-8b\\u002f17-llamascope-res-131k\\u002f42497\",\"https:\\u002f\\u002fwww.neuronpedia.org\\u002fllama3.1-8b\\u002f17-llamascope-res-131k\\u002f48789\",\"https:\\u002f\\u002fwww.neuronpedia.org\\u002fllama3.1-8b\\u002f17-llamascope-res-131k\\u002f52861\",\"https:\\u002f\\u002fwww.neuronpedia.org\\u002fllama3.1-8b\\u002f17-llamascope-res-131k\\u002f55219\",\"https:\\u002f\\u002fwww.neuronpedia.org\\u002fllama3.1-8b\\u002f17-llamascope-res-131k\\u002f59000\",\"https:\\u002f\\u002fwww.neuronpedia.org\\u002fllama3.1-8b\\u002f17-llamascope-res-131k\\u002f62807\",\"https:\\u002f\\u002fwww.neuronpedia.org\\u002fllama3.1-8b\\u002f17-llamascope-res-131k\\u002f64893\",\"https:\\u002f\\u002fwww.neuronpedia.org\\u002fllama3.1-8b\\u002f17-llamascope-res-131k\\u002f65448\",\"https:\\u002f\\u002fwww.neuronpedia.org\\u002fllama3.1-8b\\u002f17-llamascope-res-131k\\u002f71479\",\"https:\\u002f\\u002fwww.neuronpedia.org\\u002fllama3.1-8b\\u002f17-llamascope-res-131k\\u002f71526\",\"https:\\u002f\\u002fwww.neuronpedia.org\\u002fllama3.1-8b\\u002f17-llamascope-res-131k\\u002f71732\",\"https:\\u002f\\u002fwww.neuronpedia.org\\u002fllama3.1-8b\\u002f17-llamascope-res-131k\\u002f72750\",\"https:\\u002f\\u002fwww.neuronpedia.org\\u002fllama3.1-8b\\u002f17-llamascope-res-131k\\u002f75005\",\"https:\\u002f\\u002fwww.neuronpedia.org\\u002fllama3.1-8b\\u002f17-llamascope-res-131k\\u002f76358\",\"https:\\u002f\\u002fwww.neuronpedia.org\\u002fllama3.1-8b\\u002f17-llamascope-res-131k\\u002f77744\",\"https:\\u002f\\u002fwww.neuronpedia.org\\u002fllama3.1-8b\\u002f17-llamascope-res-131k\\u002f80862\",\"https:\\u002f\\u002fwww.neuronpedia.org\\u002fllama3.1-8b\\u002f17-llamascope-res-131k\\u002f92872\",\"https:\\u002f\\u002fwww.neuronpedia.org\\u002fllama3.1-8b\\u002f17-llamascope-res-131k\\u002f94026\",\"https:\\u002f\\u002fwww.neuronpedia.org\\u002fllama3.1-8b\\u002f17-llamascope-res-131k\\u002f95462\",\"https:\\u002f\\u002fwww.neuronpedia.org\\u002fllama3.1-8b\\u002f17-llamascope-res-131k\\u002f95798\",\"https:\\u002f\\u002fwww.neuronpedia.org\\u002fllama3.1-8b\\u002f17-llamascope-res-131k\\u002f98707\",\"https:\\u002f\\u002fwww.neuronpedia.org\\u002fllama3.1-8b\\u002f17-llamascope-res-131k\\u002f112009\",\"https:\\u002f\\u002fwww.neuronpedia.org\\u002fllama3.1-8b\\u002f17-llamascope-res-131k\\u002f113492\",\"https:\\u002f\\u002fwww.neuronpedia.org\\u002fllama3.1-8b\\u002f17-llamascope-res-131k\\u002f121234\",\"https:\\u002f\\u002fwww.neuronpedia.org\\u002fllama3.1-8b\\u002f17-llamascope-res-131k\\u002f128721\"],\"hoverlabel\":{\"bgcolor\":\"#4ECDC4\",\"bordercolor\":\"black\",\"font\":{\"color\":\"white\",\"family\":\"Arial\",\"size\":12}},\"hovertemplate\":[\"\\u003cb\\u003eFeature 9560\\u003c\\u002fb\\u003e\\u003cbr\\u003eBase Mean Activation: 0.0996\\u003cbr\\u003eInstruct Mean Activation: 0.0000\\u003cbr\\u003eDifference: -0.0996\\u003cbr\\u003e\\u003cbr\\u003e\\u003cb\\u003eIntrospective prompt-exclusive feature for Base\\u003c\\u002fb\\u003e\\u003cbr\\u003eBase Introspective: 5.0% (2\\u002f40)\\u003cbr\\u003eBase Control: 0.0% (0\\u002f40)\\u003cbr\\u003eInstruct Introspective: 0.0% (0\\u002f40)\\u003cbr\\u003eInstruct Control: 0.0% (0\\u002f40)\\u003cbr\\u003e\\u003cbr\\u003e\\u003cbr\\u003e\\u003cb\\u003eDescription:\\u003c\\u002fb\\u003e\\u003cbr\\u003eFile extensions or format names indicating specific types of computer files.\\u003cextra\\u003e\\u003c\\u002fextra\\u003e\",\"\\u003cb\\u003eFeature 14614\\u003c\\u002fb\\u003e\\u003cbr\\u003eBase Mean Activation: 0.0633\\u003cbr\\u003eInstruct Mean Activation: 0.0000\\u003cbr\\u003eDifference: -0.0633\\u003cbr\\u003e\\u003cbr\\u003e\\u003cb\\u003eIntrospective prompt-exclusive feature for Base\\u003c\\u002fb\\u003e\\u003cbr\\u003eBase Introspective: 2.5% (1\\u002f40)\\u003cbr\\u003eBase Control: 0.0% (0\\u002f40)\\u003cbr\\u003eInstruct Introspective: 0.0% (0\\u002f40)\\u003cbr\\u003eInstruct Control: 0.0% (0\\u002f40)\\u003cbr\\u003e\\u003cbr\\u003e\\u003cbr\\u003e\\u003cb\\u003eDescription:\\u003c\\u002fb\\u003e\\u003cbr\\u003eWeb navigation instructions that direct users how to interact with page elements\\u003cbr\\u003eto access additional content or functionality.\\u003cextra\\u003e\\u003c\\u002fextra\\u003e\",\"\\u003cb\\u003eFeature 36810\\u003c\\u002fb\\u003e\\u003cbr\\u003eBase Mean Activation: 0.0490\\u003cbr\\u003eInstruct Mean Activation: 0.0000\\u003cbr\\u003eDifference: -0.0490\\u003cbr\\u003e\\u003cbr\\u003e\\u003cb\\u003eIntrospective prompt-exclusive feature for Base\\u003c\\u002fb\\u003e\\u003cbr\\u003eBase Introspective: 2.5% (1\\u002f40)\\u003cbr\\u003eBase Control: 0.0% (0\\u002f40)\\u003cbr\\u003eInstruct Introspective: 0.0% (0\\u002f40)\\u003cbr\\u003eInstruct Control: 0.0% (0\\u002f40)\\u003cbr\\u003e\\u003cbr\\u003e\\u003cbr\\u003e\\u003cb\\u003eDescription:\\u003c\\u002fb\\u003e\\u003cbr\\u003eEscape sequences that represent line breaks or formatting characters (\\\\r, \\\\n,\\u003cbr\\u003e\\\\t) within string literals, particularly in code that handles text formatting,\\u003cbr\\u003elogging, or message output.\\u003cextra\\u003e\\u003c\\u002fextra\\u003e\",\"\\u003cb\\u003eFeature 40457\\u003c\\u002fb\\u003e\\u003cbr\\u003eBase Mean Activation: 0.0492\\u003cbr\\u003eInstruct Mean Activation: 0.0000\\u003cbr\\u003eDifference: -0.0492\\u003cbr\\u003e\\u003cbr\\u003e\\u003cb\\u003eIntrospective prompt-exclusive feature for Base\\u003c\\u002fb\\u003e\\u003cbr\\u003eBase Introspective: 2.5% (1\\u002f40)\\u003cbr\\u003eBase Control: 0.0% (0\\u002f40)\\u003cbr\\u003eInstruct Introspective: 0.0% (0\\u002f40)\\u003cbr\\u003eInstruct Control: 0.0% (0\\u002f40)\\u003cbr\\u003e\\u003cbr\\u003e\\u003cbr\\u003e\\u003cb\\u003eDescription:\\u003c\\u002fb\\u003e\\u003cbr\\u003ePunctuation and special characters (commas, parentheses) or technical tokens\\u003cbr\\u003ethat appear in formal contexts such as mathematical notation, programming code,\\u003cbr\\u003eor structured text.\\u003cextra\\u003e\\u003c\\u002fextra\\u003e\",\"\\u003cb\\u003eFeature 42497\\u003c\\u002fb\\u003e\\u003cbr\\u003eBase Mean Activation: 0.0523\\u003cbr\\u003eInstruct Mean Activation: 0.0000\\u003cbr\\u003eDifference: -0.0523\\u003cbr\\u003e\\u003cbr\\u003e\\u003cb\\u003eIntrospective prompt-exclusive feature for Base\\u003c\\u002fb\\u003e\\u003cbr\\u003eBase Introspective: 2.5% (1\\u002f40)\\u003cbr\\u003eBase Control: 0.0% (0\\u002f40)\\u003cbr\\u003eInstruct Introspective: 0.0% (0\\u002f40)\\u003cbr\\u003eInstruct Control: 0.0% (0\\u002f40)\\u003cbr\\u003e\\u003cbr\\u003e\\u003cbr\\u003e\\u003cb\\u003eDescription:\\u003c\\u002fb\\u003e\\u003cbr\\u003eScientific and technical terminology appearing in specialized contexts,\\u003cbr\\u003eincluding gene names (MST3N), food items (wurst), structural elements (crust),\\u003cbr\\u003eand telecommunications terms.\\u003cextra\\u003e\\u003c\\u002fextra\\u003e\",\"\\u003cb\\u003eFeature 48789\\u003c\\u002fb\\u003e\\u003cbr\\u003eBase Mean Activation: 0.1758\\u003cbr\\u003eInstruct Mean Activation: 0.0000\\u003cbr\\u003eDifference: -0.1758\\u003cbr\\u003e\\u003cbr\\u003e\\u003cb\\u003eIntrospective prompt-exclusive feature for Base\\u003c\\u002fb\\u003e\\u003cbr\\u003eBase Introspective: 7.5% (3\\u002f40)\\u003cbr\\u003eBase Control: 0.0% (0\\u002f40)\\u003cbr\\u003eInstruct Introspective: 0.0% (0\\u002f40)\\u003cbr\\u003eInstruct Control: 0.0% (0\\u002f40)\\u003cbr\\u003e\\u003cbr\\u003e\\u003cbr\\u003e\\u003cb\\u003eDescription:\\u003c\\u002fb\\u003e\\u003cbr\\u003eLibrary or module names that are prefixed before API methods, classes, or\\u003cbr\\u003evariable references in various programming languages and frameworks (like\\u003cbr\\u003esqlite, llvm, firebase, aws, Chrome, excel, mpp, Markdown, vm, spam).\\u003cextra\\u003e\\u003c\\u002fextra\\u003e\",\"\\u003cb\\u003eFeature 52861\\u003c\\u002fb\\u003e\\u003cbr\\u003eBase Mean Activation: 0.0492\\u003cbr\\u003eInstruct Mean Activation: 0.0000\\u003cbr\\u003eDifference: -0.0492\\u003cbr\\u003e\\u003cbr\\u003e\\u003cb\\u003eIntrospective prompt-exclusive feature for Base\\u003c\\u002fb\\u003e\\u003cbr\\u003eBase Introspective: 2.5% (1\\u002f40)\\u003cbr\\u003eBase Control: 0.0% (0\\u002f40)\\u003cbr\\u003eInstruct Introspective: 0.0% (0\\u002f40)\\u003cbr\\u003eInstruct Control: 0.0% (0\\u002f40)\\u003cbr\\u003e\\u003cbr\\u003e\\u003cbr\\u003e\\u003cb\\u003eDescription:\\u003c\\u002fb\\u003e\\u003cbr\\u003eNumbers in the \\\"87\\\" and \\\"487\\\" range appearing in technical documentation,\\u003cbr\\u003eacademic papers, legal references, and bibliographic citations.\\u003cextra\\u003e\\u003c\\u002fextra\\u003e\",\"\\u003cb\\u003eFeature 55219\\u003c\\u002fb\\u003e\\u003cbr\\u003eBase Mean Activation: 0.3061\\u003cbr\\u003eInstruct Mean Activation: 0.0000\\u003cbr\\u003eDifference: -0.3061\\u003cbr\\u003e\\u003cbr\\u003e\\u003cb\\u003eIntrospective prompt-exclusive feature for Base\\u003c\\u002fb\\u003e\\u003cbr\\u003eBase Introspective: 15.0% (6\\u002f40)\\u003cbr\\u003eBase Control: 0.0% (0\\u002f40)\\u003cbr\\u003eInstruct Introspective: 0.0% (0\\u002f40)\\u003cbr\\u003eInstruct Control: 0.0% (0\\u002f40)\\u003cbr\\u003e\\u003cbr\\u003e\\u003cbr\\u003e\\u003cb\\u003eDescription:\\u003c\\u002fb\\u003e\\u003cbr\\u003eSpecialized terms or proper nouns that appear within formal structured text like\\u003cbr\\u003ebibliographic citations, geological maps, taxonomic names, or event listings.\\u003cextra\\u003e\\u003c\\u002fextra\\u003e\",\"\\u003cb\\u003eFeature 59000\\u003c\\u002fb\\u003e\\u003cbr\\u003eBase Mean Activation: 0.0977\\u003cbr\\u003eInstruct Mean Activation: 0.0000\\u003cbr\\u003eDifference: -0.0977\\u003cbr\\u003e\\u003cbr\\u003e\\u003cb\\u003eIntrospective prompt-exclusive feature for Base\\u003c\\u002fb\\u003e\\u003cbr\\u003eBase Introspective: 5.0% (2\\u002f40)\\u003cbr\\u003eBase Control: 0.0% (0\\u002f40)\\u003cbr\\u003eInstruct Introspective: 0.0% (0\\u002f40)\\u003cbr\\u003eInstruct Control: 0.0% (0\\u002f40)\\u003cbr\\u003e\\u003cbr\\u003e\\u003cbr\\u003e\\u003cb\\u003eDescription:\\u003c\\u002fb\\u003e\\u003cbr\\u003eProgramming-related identifiers, variable names, and technical components within\\u003cbr\\u003esoftware code and documentation.\\u003cextra\\u003e\\u003c\\u002fextra\\u003e\",\"\\u003cb\\u003eFeature 62807\\u003c\\u002fb\\u003e\\u003cbr\\u003eBase Mean Activation: 0.1551\\u003cbr\\u003eInstruct Mean Activation: 0.0000\\u003cbr\\u003eDifference: -0.1551\\u003cbr\\u003e\\u003cbr\\u003e\\u003cb\\u003eIntrospective prompt-exclusive feature for Base\\u003c\\u002fb\\u003e\\u003cbr\\u003eBase Introspective: 7.5% (3\\u002f40)\\u003cbr\\u003eBase Control: 0.0% (0\\u002f40)\\u003cbr\\u003eInstruct Introspective: 0.0% (0\\u002f40)\\u003cbr\\u003eInstruct Control: 0.0% (0\\u002f40)\\u003cbr\\u003e\\u003cbr\\u003e\\u003cbr\\u003e\\u003cb\\u003eDescription:\\u003c\\u002fb\\u003e\\u003cbr\\u003eNouns and adjectives that describe qualities or attributes people are searching\\u003cbr\\u003efor or looking for in products, services, or experiences. These often appear in\\u003cbr\\u003econtexts where something is being described as appealing to a specific\\u003cbr\\u003eaudience's needs.\\u003cextra\\u003e\\u003c\\u002fextra\\u003e\",\"\\u003cb\\u003eFeature 64893\\u003c\\u002fb\\u003e\\u003cbr\\u003eBase Mean Activation: 0.0496\\u003cbr\\u003eInstruct Mean Activation: 0.0000\\u003cbr\\u003eDifference: -0.0496\\u003cbr\\u003e\\u003cbr\\u003e\\u003cb\\u003eIntrospective prompt-exclusive feature for Base\\u003c\\u002fb\\u003e\\u003cbr\\u003eBase Introspective: 2.5% (1\\u002f40)\\u003cbr\\u003eBase Control: 0.0% (0\\u002f40)\\u003cbr\\u003eInstruct Introspective: 0.0% (0\\u002f40)\\u003cbr\\u003eInstruct Control: 0.0% (0\\u002f40)\\u003cbr\\u003e\\u003cbr\\u003e\\u003cbr\\u003e\\u003cb\\u003eDescription:\\u003c\\u002fb\\u003e\\u003cbr\\u003eUnderscores and adjacent tokens forming part of variable names, constants, or\\u003cbr\\u003emacros in 3D printer firmware code, particularly related to delta printer\\u003cbr\\u003econfiguration, temperature control, and kinematic functions.\\u003cextra\\u003e\\u003c\\u002fextra\\u003e\",\"\\u003cb\\u003eFeature 65448\\u003c\\u002fb\\u003e\\u003cbr\\u003eBase Mean Activation: 0.4938\\u003cbr\\u003eInstruct Mean Activation: 0.0000\\u003cbr\\u003eDifference: -0.4938\\u003cbr\\u003e\\u003cbr\\u003e\\u003cb\\u003eIntrospective prompt-exclusive feature for Base\\u003c\\u002fb\\u003e\\u003cbr\\u003eBase Introspective: 22.5% (9\\u002f40)\\u003cbr\\u003eBase Control: 0.0% (0\\u002f40)\\u003cbr\\u003eInstruct Introspective: 0.0% (0\\u002f40)\\u003cbr\\u003eInstruct Control: 0.0% (0\\u002f40)\\u003cbr\\u003e\\u003cbr\\u003e\\u003cbr\\u003e\\u003cb\\u003eDescription:\\u003c\\u002fb\\u003e\\u003cbr\\u003eCharacters or character sequences that appear in technical identifiers, code\\u003cbr\\u003esnippets, URLs, or digital reference numbers.\\u003cextra\\u003e\\u003c\\u002fextra\\u003e\",\"\\u003cb\\u003eFeature 71479\\u003c\\u002fb\\u003e\\u003cbr\\u003eBase Mean Activation: 0.0613\\u003cbr\\u003eInstruct Mean Activation: 0.0000\\u003cbr\\u003eDifference: -0.0613\\u003cbr\\u003e\\u003cbr\\u003e\\u003cb\\u003eIntrospective prompt-exclusive feature for Base\\u003c\\u002fb\\u003e\\u003cbr\\u003eBase Introspective: 2.5% (1\\u002f40)\\u003cbr\\u003eBase Control: 0.0% (0\\u002f40)\\u003cbr\\u003eInstruct Introspective: 0.0% (0\\u002f40)\\u003cbr\\u003eInstruct Control: 0.0% (0\\u002f40)\\u003cbr\\u003e\\u003cbr\\u003e\\u003cbr\\u003e\\u003cb\\u003eDescription:\\u003c\\u002fb\\u003e\\u003cbr\\u003eText segments discussing knowledge acquisition, learning processes, educational\\u003cbr\\u003econtexts, or academic discourse.\\u003cextra\\u003e\\u003c\\u002fextra\\u003e\",\"\\u003cb\\u003eFeature 71526\\u003c\\u002fb\\u003e\\u003cbr\\u003eBase Mean Activation: 0.1600\\u003cbr\\u003eInstruct Mean Activation: 0.0000\\u003cbr\\u003eDifference: -0.1600\\u003cbr\\u003e\\u003cbr\\u003e\\u003cb\\u003eIntrospective prompt-exclusive feature for Base\\u003c\\u002fb\\u003e\\u003cbr\\u003eBase Introspective: 7.5% (3\\u002f40)\\u003cbr\\u003eBase Control: 0.0% (0\\u002f40)\\u003cbr\\u003eInstruct Introspective: 0.0% (0\\u002f40)\\u003cbr\\u003eInstruct Control: 0.0% (0\\u002f40)\\u003cbr\\u003e\\u003cbr\\u003e\\u003cbr\\u003e\\u003cb\\u003eDescription:\\u003c\\u002fb\\u003e\\u003cbr\\u003eWords linking elements in a sequence or relationship, often conjunctions (\\\"or\\\",\\u003cbr\\u003e\\\"and\\\"), operators (\\\"+\\\"), prepositions (\\\"vs.\\\", \\\"as\\\"), or punctuation marks\\u003cbr\\u003econnecting related items or concepts.\\u003cextra\\u003e\\u003c\\u002fextra\\u003e\",\"\\u003cb\\u003eFeature 71732\\u003c\\u002fb\\u003e\\u003cbr\\u003eBase Mean Activation: 0.0973\\u003cbr\\u003eInstruct Mean Activation: 0.0000\\u003cbr\\u003eDifference: -0.0973\\u003cbr\\u003e\\u003cbr\\u003e\\u003cb\\u003eIntrospective prompt-exclusive feature for Base\\u003c\\u002fb\\u003e\\u003cbr\\u003eBase Introspective: 5.0% (2\\u002f40)\\u003cbr\\u003eBase Control: 0.0% (0\\u002f40)\\u003cbr\\u003eInstruct Introspective: 0.0% (0\\u002f40)\\u003cbr\\u003eInstruct Control: 0.0% (0\\u002f40)\\u003cbr\\u003e\\u003cbr\\u003e\\u003cbr\\u003e\\u003cb\\u003eDescription:\\u003c\\u002fb\\u003e\\u003cbr\\u003eThe token \\\"ou\\\" appearing in French text or specialized terminology, particularly\\u003cbr\\u003eas part of proper nouns, technical terms like \\\"Liouville\\\", or common French\\u003cbr\\u003ewords.\\u003cextra\\u003e\\u003c\\u002fextra\\u003e\",\"\\u003cb\\u003eFeature 72750\\u003c\\u002fb\\u003e\\u003cbr\\u003eBase Mean Activation: 0.0984\\u003cbr\\u003eInstruct Mean Activation: 0.0000\\u003cbr\\u003eDifference: -0.0984\\u003cbr\\u003e\\u003cbr\\u003e\\u003cb\\u003eIntrospective prompt-exclusive feature for Base\\u003c\\u002fb\\u003e\\u003cbr\\u003eBase Introspective: 5.0% (2\\u002f40)\\u003cbr\\u003eBase Control: 0.0% (0\\u002f40)\\u003cbr\\u003eInstruct Introspective: 0.0% (0\\u002f40)\\u003cbr\\u003eInstruct Control: 0.0% (0\\u002f40)\\u003cbr\\u003e\\u003cbr\\u003e\\u003cbr\\u003e\\u003cb\\u003eDescription:\\u003c\\u002fb\\u003e\\u003cbr\\u003eProper nouns, particularly surnames or place names, that appear in formal\\u003cbr\\u003econtexts like citations, references, or institutional communications.\\u003cextra\\u003e\\u003c\\u002fextra\\u003e\",\"\\u003cb\\u003eFeature 75005\\u003c\\u002fb\\u003e\\u003cbr\\u003eBase Mean Activation: 0.0543\\u003cbr\\u003eInstruct Mean Activation: 0.0000\\u003cbr\\u003eDifference: -0.0543\\u003cbr\\u003e\\u003cbr\\u003e\\u003cb\\u003eIntrospective prompt-exclusive feature for Base\\u003c\\u002fb\\u003e\\u003cbr\\u003eBase Introspective: 2.5% (1\\u002f40)\\u003cbr\\u003eBase Control: 0.0% (0\\u002f40)\\u003cbr\\u003eInstruct Introspective: 0.0% (0\\u002f40)\\u003cbr\\u003eInstruct Control: 0.0% (0\\u002f40)\\u003cbr\\u003e\\u003cbr\\u003e\\u003cbr\\u003e\\u003cb\\u003eDescription:\\u003c\\u002fb\\u003e\\u003cbr\\u003eReferences to command line interfaces, shell environments, or terminal commands,\\u003cbr\\u003eoften in the context of tutorial instructions or technical documentation.\\u003cextra\\u003e\\u003c\\u002fextra\\u003e\",\"\\u003cb\\u003eFeature 76358\\u003c\\u002fb\\u003e\\u003cbr\\u003eBase Mean Activation: 0.0742\\u003cbr\\u003eInstruct Mean Activation: 0.0000\\u003cbr\\u003eDifference: -0.0742\\u003cbr\\u003e\\u003cbr\\u003e\\u003cb\\u003eIntrospective prompt-exclusive feature for Base\\u003c\\u002fb\\u003e\\u003cbr\\u003eBase Introspective: 2.5% (1\\u002f40)\\u003cbr\\u003eBase Control: 0.0% (0\\u002f40)\\u003cbr\\u003eInstruct Introspective: 0.0% (0\\u002f40)\\u003cbr\\u003eInstruct Control: 0.0% (0\\u002f40)\\u003cbr\\u003e\\u003cbr\\u003e\\u003cbr\\u003e\\u003cb\\u003eDescription:\\u003c\\u002fb\\u003e\\u003cbr\\u003eSpecial characters or symbols that function as structural or formatting elements\\u003cbr\\u003ein digital text, often appearing at section boundaries or in list formatting.\\u003cextra\\u003e\\u003c\\u002fextra\\u003e\",\"\\u003cb\\u003eFeature 77744\\u003c\\u002fb\\u003e\\u003cbr\\u003eBase Mean Activation: 0.0516\\u003cbr\\u003eInstruct Mean Activation: 0.0000\\u003cbr\\u003eDifference: -0.0516\\u003cbr\\u003e\\u003cbr\\u003e\\u003cb\\u003eIntrospective prompt-exclusive feature for Base\\u003c\\u002fb\\u003e\\u003cbr\\u003eBase Introspective: 2.5% (1\\u002f40)\\u003cbr\\u003eBase Control: 0.0% (0\\u002f40)\\u003cbr\\u003eInstruct Introspective: 0.0% (0\\u002f40)\\u003cbr\\u003eInstruct Control: 0.0% (0\\u002f40)\\u003cbr\\u003e\\u003cbr\\u003e\\u003cbr\\u003e\\u003cb\\u003eDescription:\\u003c\\u002fb\\u003e\\u003cbr\\u003eEnd-of-content markers that appear in web text, typically at the end of titles,\\u003cbr\\u003efilenames, URLs, or where content is truncated before continuing to a new\\u003cbr\\u003esection.\\u003cextra\\u003e\\u003c\\u002fextra\\u003e\",\"\\u003cb\\u003eFeature 80862\\u003c\\u002fb\\u003e\\u003cbr\\u003eBase Mean Activation: 0.0605\\u003cbr\\u003eInstruct Mean Activation: 0.0000\\u003cbr\\u003eDifference: -0.0605\\u003cbr\\u003e\\u003cbr\\u003e\\u003cb\\u003eIntrospective prompt-exclusive feature for Base\\u003c\\u002fb\\u003e\\u003cbr\\u003eBase Introspective: 2.5% (1\\u002f40)\\u003cbr\\u003eBase Control: 0.0% (0\\u002f40)\\u003cbr\\u003eInstruct Introspective: 0.0% (0\\u002f40)\\u003cbr\\u003eInstruct Control: 0.0% (0\\u002f40)\\u003cbr\\u003e\\u003cbr\\u003e\\u003cbr\\u003e\\u003cb\\u003eDescription:\\u003c\\u002fb\\u003e\\u003cbr\\u003eReferences to different forms of electronic communication, especially messaging\\u003cbr\\u003etechnologies like email, instant messaging, chat, phone calls, and voice\\u003cbr\\u003ecommunications - often appearing together in lists or as features of\\u003cbr\\u003ecommunication systems.\\u003cextra\\u003e\\u003c\\u002fextra\\u003e\",\"\\u003cb\\u003eFeature 92872\\u003c\\u002fb\\u003e\\u003cbr\\u003eBase Mean Activation: 0.0516\\u003cbr\\u003eInstruct Mean Activation: 0.0000\\u003cbr\\u003eDifference: -0.0516\\u003cbr\\u003e\\u003cbr\\u003e\\u003cb\\u003eIntrospective prompt-exclusive feature for Base\\u003c\\u002fb\\u003e\\u003cbr\\u003eBase Introspective: 2.5% (1\\u002f40)\\u003cbr\\u003eBase Control: 0.0% (0\\u002f40)\\u003cbr\\u003eInstruct Introspective: 0.0% (0\\u002f40)\\u003cbr\\u003eInstruct Control: 0.0% (0\\u002f40)\\u003cbr\\u003e\\u003cbr\\u003e\\u003cbr\\u003e\\u003cb\\u003eDescription:\\u003c\\u002fb\\u003e\\u003cbr\\u003eWebsite or publication names in the footer or header sections of web pages,\\u003cbr\\u003eoften appearing near contact information, copyright notices, or navigation\\u003cbr\\u003eelements.\\u003cextra\\u003e\\u003c\\u002fextra\\u003e\",\"\\u003cb\\u003eFeature 94026\\u003c\\u002fb\\u003e\\u003cbr\\u003eBase Mean Activation: 0.3066\\u003cbr\\u003eInstruct Mean Activation: 0.0000\\u003cbr\\u003eDifference: -0.3066\\u003cbr\\u003e\\u003cbr\\u003e\\u003cb\\u003eIntrospective prompt-exclusive feature for Base\\u003c\\u002fb\\u003e\\u003cbr\\u003eBase Introspective: 15.0% (6\\u002f40)\\u003cbr\\u003eBase Control: 0.0% (0\\u002f40)\\u003cbr\\u003eInstruct Introspective: 0.0% (0\\u002f40)\\u003cbr\\u003eInstruct Control: 0.0% (0\\u002f40)\\u003cbr\\u003e\\u003cbr\\u003e\\u003cbr\\u003e\\u003cb\\u003eDescription:\\u003c\\u002fb\\u003e\\u003cbr\\u003eThe definite article \\\"the\\\" appearing in promotional or informational website\\u003cbr\\u003econtent, often before nouns referring to products, services, programs or content\\u003cbr\\u003ethat the website wants users to engage with.\\u003cextra\\u003e\\u003c\\u002fextra\\u003e\",\"\\u003cb\\u003eFeature 95462\\u003c\\u002fb\\u003e\\u003cbr\\u003eBase Mean Activation: 0.0500\\u003cbr\\u003eInstruct Mean Activation: 0.0000\\u003cbr\\u003eDifference: -0.0500\\u003cbr\\u003e\\u003cbr\\u003e\\u003cb\\u003eIntrospective prompt-exclusive feature for Base\\u003c\\u002fb\\u003e\\u003cbr\\u003eBase Introspective: 2.5% (1\\u002f40)\\u003cbr\\u003eBase Control: 0.0% (0\\u002f40)\\u003cbr\\u003eInstruct Introspective: 0.0% (0\\u002f40)\\u003cbr\\u003eInstruct Control: 0.0% (0\\u002f40)\\u003cbr\\u003e\\u003cbr\\u003e\\u003cbr\\u003e\\u003cb\\u003eDescription:\\u003c\\u002fb\\u003e\\u003cbr\\u003ePolite request phrases in online help-seeking contexts where users ask others\\u003cbr\\u003efor explanations, clarification, or advice.\\u003cextra\\u003e\\u003c\\u002fextra\\u003e\",\"\\u003cb\\u003eFeature 95798\\u003c\\u002fb\\u003e\\u003cbr\\u003eBase Mean Activation: 0.0523\\u003cbr\\u003eInstruct Mean Activation: 0.0000\\u003cbr\\u003eDifference: -0.0523\\u003cbr\\u003e\\u003cbr\\u003e\\u003cb\\u003eIntrospective prompt-exclusive feature for Base\\u003c\\u002fb\\u003e\\u003cbr\\u003eBase Introspective: 2.5% (1\\u002f40)\\u003cbr\\u003eBase Control: 0.0% (0\\u002f40)\\u003cbr\\u003eInstruct Introspective: 0.0% (0\\u002f40)\\u003cbr\\u003eInstruct Control: 0.0% (0\\u002f40)\\u003cbr\\u003e\\u003cbr\\u003e\\u003cbr\\u003e\\u003cb\\u003eDescription:\\u003c\\u002fb\\u003e\\u003cbr\\u003ePunctuation (commas) and conjunctions (\\\"and\\\") that separate items in lists of\\u003cbr\\u003eproper nouns, technical terms, or named entities.\\u003cextra\\u003e\\u003c\\u002fextra\\u003e\",\"\\u003cb\\u003eFeature 98707\\u003c\\u002fb\\u003e\\u003cbr\\u003eBase Mean Activation: 0.0523\\u003cbr\\u003eInstruct Mean Activation: 0.0000\\u003cbr\\u003eDifference: -0.0523\\u003cbr\\u003e\\u003cbr\\u003e\\u003cb\\u003eIntrospective prompt-exclusive feature for Base\\u003c\\u002fb\\u003e\\u003cbr\\u003eBase Introspective: 2.5% (1\\u002f40)\\u003cbr\\u003eBase Control: 0.0% (0\\u002f40)\\u003cbr\\u003eInstruct Introspective: 0.0% (0\\u002f40)\\u003cbr\\u003eInstruct Control: 0.0% (0\\u002f40)\\u003cbr\\u003e\\u003cbr\\u003e\\u003cbr\\u003e\\u003cb\\u003eDescription:\\u003c\\u002fb\\u003e\\u003cbr\\u003eText related to healthcare organizations, medical facilities, electronic health\\u003cbr\\u003erecords (EHR), HIPAA compliance, and healthcare information technology systems.\\u003cbr\\u003eThe highlights often appear in news articles, job listings, or regulatory\\u003cbr\\u003eupdates about healthcare institutions, their digital transformation, and\\u003cbr\\u003ecompliance requirements.\\u003cextra\\u003e\\u003c\\u002fextra\\u003e\",\"\\u003cb\\u003eFeature 112009\\u003c\\u002fb\\u003e\\u003cbr\\u003eBase Mean Activation: 0.0500\\u003cbr\\u003eInstruct Mean Activation: 0.0000\\u003cbr\\u003eDifference: -0.0500\\u003cbr\\u003e\\u003cbr\\u003e\\u003cb\\u003eIntrospective prompt-exclusive feature for Base\\u003c\\u002fb\\u003e\\u003cbr\\u003eBase Introspective: 2.5% (1\\u002f40)\\u003cbr\\u003eBase Control: 0.0% (0\\u002f40)\\u003cbr\\u003eInstruct Introspective: 0.0% (0\\u002f40)\\u003cbr\\u003eInstruct Control: 0.0% (0\\u002f40)\\u003cbr\\u003e\\u003cbr\\u003e\\u003cbr\\u003e\\u003cb\\u003eDescription:\\u003c\\u002fb\\u003e\\u003cbr\\u003eAction verbs or content indicators that begin interactive elements on webpages,\\u003cbr\\u003etypically preceding additional content descriptors or links.\\u003cextra\\u003e\\u003c\\u002fextra\\u003e\",\"\\u003cb\\u003eFeature 113492\\u003c\\u002fb\\u003e\\u003cbr\\u003eBase Mean Activation: 0.3742\\u003cbr\\u003eInstruct Mean Activation: 0.0000\\u003cbr\\u003eDifference: -0.3742\\u003cbr\\u003e\\u003cbr\\u003e\\u003cb\\u003eIntrospective prompt-exclusive feature for Base\\u003c\\u002fb\\u003e\\u003cbr\\u003eBase Introspective: 15.0% (6\\u002f40)\\u003cbr\\u003eBase Control: 0.0% (0\\u002f40)\\u003cbr\\u003eInstruct Introspective: 0.0% (0\\u002f40)\\u003cbr\\u003eInstruct Control: 0.0% (0\\u002f40)\\u003cbr\\u003e\\u003cbr\\u003e\\u003cbr\\u003e\\u003cb\\u003eDescription:\\u003c\\u002fb\\u003e\\u003cbr\\u003eProfessional titles, occupations, and job-related terms, particularly when\\u003cbr\\u003eappearing in lists or descriptions of career options.\\u003cextra\\u003e\\u003c\\u002fextra\\u003e\",\"\\u003cb\\u003eFeature 121234\\u003c\\u002fb\\u003e\\u003cbr\\u003eBase Mean Activation: 0.1078\\u003cbr\\u003eInstruct Mean Activation: 0.0000\\u003cbr\\u003eDifference: -0.1078\\u003cbr\\u003e\\u003cbr\\u003e\\u003cb\\u003eIntrospective prompt-exclusive feature for Base\\u003c\\u002fb\\u003e\\u003cbr\\u003eBase Introspective: 5.0% (2\\u002f40)\\u003cbr\\u003eBase Control: 0.0% (0\\u002f40)\\u003cbr\\u003eInstruct Introspective: 0.0% (0\\u002f40)\\u003cbr\\u003eInstruct Control: 0.0% (0\\u002f40)\\u003cbr\\u003e\\u003cbr\\u003e\\u003cbr\\u003e\\u003cb\\u003eDescription:\\u003c\\u002fb\\u003e\\u003cbr\\u003eCharacter names in narrative fiction that serve as perspective anchors,\\u003cbr\\u003etypically appearing at paragraph beginnings and followed by the character's\\u003cbr\\u003eactions, thoughts, or dialogue.\\u003cextra\\u003e\\u003c\\u002fextra\\u003e\",\"\\u003cb\\u003eFeature 128721\\u003c\\u002fb\\u003e\\u003cbr\\u003eBase Mean Activation: 0.1508\\u003cbr\\u003eInstruct Mean Activation: 0.0000\\u003cbr\\u003eDifference: -0.1508\\u003cbr\\u003e\\u003cbr\\u003e\\u003cb\\u003eIntrospective prompt-exclusive feature for Base\\u003c\\u002fb\\u003e\\u003cbr\\u003eBase Introspective: 7.5% (3\\u002f40)\\u003cbr\\u003eBase Control: 0.0% (0\\u002f40)\\u003cbr\\u003eInstruct Introspective: 0.0% (0\\u002f40)\\u003cbr\\u003eInstruct Control: 0.0% (0\\u002f40)\\u003cbr\\u003e\\u003cbr\\u003e\\u003cbr\\u003e\\u003cb\\u003eDescription:\\u003c\\u002fb\\u003e\\u003cbr\\u003eTokens representing dictionary-style entries, especially terms that appear in\\u003cbr\\u003ereference works, Wikipedia pages, or other informational sources. These often\\u003cbr\\u003econtain proper nouns, technical terms, or words being defined within their\\u003cbr\\u003erespective contexts.\\u003cextra\\u003e\\u003c\\u002fextra\\u003e\"],\"legendgroup\":\"endheader\",\"legendgrouptitle\":{\"text\":\"endheader\"},\"marker\":{\"color\":\"#4ECDC4\",\"line\":{\"color\":\"black\",\"width\":0.3},\"opacity\":0.7,\"size\":6,\"symbol\":\"circle\"},\"mode\":\"markers\",\"name\":\"  Base Introspective\",\"text\":[\"Feature 9560\",\"Feature 14614\",\"Feature 36810\",\"Feature 40457\",\"Feature 42497\",\"Feature 48789\",\"Feature 52861\",\"Feature 55219\",\"Feature 59000\",\"Feature 62807\",\"Feature 64893\",\"Feature 65448\",\"Feature 71479\",\"Feature 71526\",\"Feature 71732\",\"Feature 72750\",\"Feature 75005\",\"Feature 76358\",\"Feature 77744\",\"Feature 80862\",\"Feature 92872\",\"Feature 94026\",\"Feature 95462\",\"Feature 95798\",\"Feature 98707\",\"Feature 112009\",\"Feature 113492\",\"Feature 121234\",\"Feature 128721\"],\"x\":[0.099609375,0.06328125,0.04902344,0.04921875,0.05234375,0.17578125,0.04921875,0.30605468,0.09765625,0.15507813,0.049609374,0.49375,0.061328124,0.15996094,0.09726562,0.0984375,0.054296874,0.07421875,0.0515625,0.060546875,0.0515625,0.30664062,0.05,0.05234375,0.05234375,0.05,0.37421876,0.1078125,0.15078124],\"y\":[0.0,0.0,0.0,0.0,0.0,0.0,0.0,0.0,0.0,0.0,0.0,0.0,0.0,0.0,0.0,0.0,0.0,0.0,0.0,0.0,0.0,0.0,0.0,0.0,0.0,0.0,0.0,0.0,0.0],\"type\":\"scattergl\"},{\"customdata\":[\"https:\\u002f\\u002fwww.neuronpedia.org\\u002fllama3.1-8b\\u002f17-llamascope-res-131k\\u002f3933\",\"https:\\u002f\\u002fwww.neuronpedia.org\\u002fllama3.1-8b\\u002f17-llamascope-res-131k\\u002f5916\",\"https:\\u002f\\u002fwww.neuronpedia.org\\u002fllama3.1-8b\\u002f17-llamascope-res-131k\\u002f12734\",\"https:\\u002f\\u002fwww.neuronpedia.org\\u002fllama3.1-8b\\u002f17-llamascope-res-131k\\u002f16431\",\"https:\\u002f\\u002fwww.neuronpedia.org\\u002fllama3.1-8b\\u002f17-llamascope-res-131k\\u002f17112\",\"https:\\u002f\\u002fwww.neuronpedia.org\\u002fllama3.1-8b\\u002f17-llamascope-res-131k\\u002f20917\",\"https:\\u002f\\u002fwww.neuronpedia.org\\u002fllama3.1-8b\\u002f17-llamascope-res-131k\\u002f28213\",\"https:\\u002f\\u002fwww.neuronpedia.org\\u002fllama3.1-8b\\u002f17-llamascope-res-131k\\u002f30249\",\"https:\\u002f\\u002fwww.neuronpedia.org\\u002fllama3.1-8b\\u002f17-llamascope-res-131k\\u002f50953\",\"https:\\u002f\\u002fwww.neuronpedia.org\\u002fllama3.1-8b\\u002f17-llamascope-res-131k\\u002f53398\",\"https:\\u002f\\u002fwww.neuronpedia.org\\u002fllama3.1-8b\\u002f17-llamascope-res-131k\\u002f71571\",\"https:\\u002f\\u002fwww.neuronpedia.org\\u002fllama3.1-8b\\u002f17-llamascope-res-131k\\u002f98656\",\"https:\\u002f\\u002fwww.neuronpedia.org\\u002fllama3.1-8b\\u002f17-llamascope-res-131k\\u002f126107\"],\"hoverlabel\":{\"bgcolor\":\"#4ECDC4\",\"bordercolor\":\"black\",\"font\":{\"color\":\"white\",\"family\":\"Arial\",\"size\":12}},\"hovertemplate\":[\"\\u003cb\\u003eFeature 3933\\u003c\\u002fb\\u003e\\u003cbr\\u003eBase Mean Activation: 0.0000\\u003cbr\\u003eInstruct Mean Activation: 0.4688\\u003cbr\\u003eDifference: 0.4688\\u003cbr\\u003e\\u003cbr\\u003e\\u003cb\\u003eIntrospective prompt-exclusive feature for Instruct\\u003c\\u002fb\\u003e\\u003cbr\\u003eBase Introspective: 0.0% (0\\u002f40)\\u003cbr\\u003eBase Control: 0.0% (0\\u002f40)\\u003cbr\\u003eInstruct Introspective: 22.5% (9\\u002f40)\\u003cbr\\u003eInstruct Control: 0.0% (0\\u002f40)\\u003cbr\\u003e\\u003cbr\\u003e\\u003cbr\\u003e\\u003cb\\u003eDescription:\\u003c\\u002fb\\u003e\\u003cbr\\u003eEnd-of-section markers in digital content, particularly hyperlinks, closing\\u003cbr\\u003epunctuation, and formatting elements that indicate the conclusion of a paragraph\\u003cbr\\u003eor content section before a new section begins.\\u003cextra\\u003e\\u003c\\u002fextra\\u003e\",\"\\u003cb\\u003eFeature 5916\\u003c\\u002fb\\u003e\\u003cbr\\u003eBase Mean Activation: 0.0000\\u003cbr\\u003eInstruct Mean Activation: 0.2055\\u003cbr\\u003eDifference: 0.2055\\u003cbr\\u003e\\u003cbr\\u003e\\u003cb\\u003eIntrospective prompt-exclusive feature for Instruct\\u003c\\u002fb\\u003e\\u003cbr\\u003eBase Introspective: 0.0% (0\\u002f40)\\u003cbr\\u003eBase Control: 0.0% (0\\u002f40)\\u003cbr\\u003eInstruct Introspective: 10.0% (4\\u002f40)\\u003cbr\\u003eInstruct Control: 0.0% (0\\u002f40)\\u003cbr\\u003e\\u003cbr\\u003e\\u003cbr\\u003e\\u003cb\\u003eDescription:\\u003c\\u002fb\\u003e\\u003cbr\\u003eCharacters or entities that serve important narrative functions such as guides,\\u003cbr\\u003eauthorities, or supernatural beings who direct, teach, or transform other\\u003cbr\\u003echaracters in stories.\\u003cextra\\u003e\\u003c\\u002fextra\\u003e\",\"\\u003cb\\u003eFeature 12734\\u003c\\u002fb\\u003e\\u003cbr\\u003eBase Mean Activation: 0.0000\\u003cbr\\u003eInstruct Mean Activation: 0.0566\\u003cbr\\u003eDifference: 0.0566\\u003cbr\\u003e\\u003cbr\\u003e\\u003cb\\u003eIntrospective prompt-exclusive feature for Instruct\\u003c\\u002fb\\u003e\\u003cbr\\u003eBase Introspective: 0.0% (0\\u002f40)\\u003cbr\\u003eBase Control: 0.0% (0\\u002f40)\\u003cbr\\u003eInstruct Introspective: 2.5% (1\\u002f40)\\u003cbr\\u003eInstruct Control: 0.0% (0\\u002f40)\\u003cbr\\u003e\\u003cbr\\u003e\\u003cbr\\u003e\\u003cb\\u003eDescription:\\u003c\\u002fb\\u003e\\u003cbr\\u003ePeriod punctuation that marks the end of a biographical statement before\\u003cbr\\u003etransitioning to new information.\\u003cextra\\u003e\\u003c\\u002fextra\\u003e\",\"\\u003cb\\u003eFeature 16431\\u003c\\u002fb\\u003e\\u003cbr\\u003eBase Mean Activation: 0.0000\\u003cbr\\u003eInstruct Mean Activation: 0.0998\\u003cbr\\u003eDifference: 0.0998\\u003cbr\\u003e\\u003cbr\\u003e\\u003cb\\u003eIntrospective prompt-exclusive feature for Instruct\\u003c\\u002fb\\u003e\\u003cbr\\u003eBase Introspective: 0.0% (0\\u002f40)\\u003cbr\\u003eBase Control: 0.0% (0\\u002f40)\\u003cbr\\u003eInstruct Introspective: 5.0% (2\\u002f40)\\u003cbr\\u003eInstruct Control: 0.0% (0\\u002f40)\\u003cbr\\u003e\\u003cbr\\u003e\\u003cbr\\u003e\\u003cb\\u003eDescription:\\u003c\\u002fb\\u003e\\u003cbr\\u003eEnd points of distinct content sections or information blocks, often preceding a\\u003cbr\\u003etransition to a new topic.\\u003cextra\\u003e\\u003c\\u002fextra\\u003e\",\"\\u003cb\\u003eFeature 17112\\u003c\\u002fb\\u003e\\u003cbr\\u003eBase Mean Activation: 0.0000\\u003cbr\\u003eInstruct Mean Activation: 0.6643\\u003cbr\\u003eDifference: 0.6643\\u003cbr\\u003e\\u003cbr\\u003e\\u003cb\\u003eIntrospective prompt-exclusive feature for Instruct\\u003c\\u002fb\\u003e\\u003cbr\\u003eBase Introspective: 0.0% (0\\u002f40)\\u003cbr\\u003eBase Control: 0.0% (0\\u002f40)\\u003cbr\\u003eInstruct Introspective: 30.0% (12\\u002f40)\\u003cbr\\u003eInstruct Control: 0.0% (0\\u002f40)\\u003cbr\\u003e\\u003cbr\\u003e\\u003cbr\\u003e\\u003cb\\u003eDescription:\\u003c\\u002fb\\u003e\\u003cbr\\u003eA colon preceding quoted text, typically introducing a formal statement, email,\\u003cbr\\u003eletter, or other direct communication.\\u003cextra\\u003e\\u003c\\u002fextra\\u003e\",\"\\u003cb\\u003eFeature 20917\\u003c\\u002fb\\u003e\\u003cbr\\u003eBase Mean Activation: 0.0000\\u003cbr\\u003eInstruct Mean Activation: 0.2711\\u003cbr\\u003eDifference: 0.2711\\u003cbr\\u003e\\u003cbr\\u003e\\u003cb\\u003eIntrospective prompt-exclusive feature for Instruct\\u003c\\u002fb\\u003e\\u003cbr\\u003eBase Introspective: 0.0% (0\\u002f40)\\u003cbr\\u003eBase Control: 0.0% (0\\u002f40)\\u003cbr\\u003eInstruct Introspective: 12.5% (5\\u002f40)\\u003cbr\\u003eInstruct Control: 0.0% (0\\u002f40)\\u003cbr\\u003e\\u003cbr\\u003e\\u003cbr\\u003e\\u003cb\\u003eDescription:\\u003c\\u002fb\\u003e\\u003cbr\\u003eFirst-person and second-person pronouns (I, we, you) that establish the\\u003cbr\\u003espeaker's identity or perspective, often in contexts of self-description or\\u003cbr\\u003edirect address.\\u003cextra\\u003e\\u003c\\u002fextra\\u003e\",\"\\u003cb\\u003eFeature 28213\\u003c\\u002fb\\u003e\\u003cbr\\u003eBase Mean Activation: 0.0000\\u003cbr\\u003eInstruct Mean Activation: 0.3656\\u003cbr\\u003eDifference: 0.3656\\u003cbr\\u003e\\u003cbr\\u003e\\u003cb\\u003eIntrospective prompt-exclusive feature for Instruct\\u003c\\u002fb\\u003e\\u003cbr\\u003eBase Introspective: 0.0% (0\\u002f40)\\u003cbr\\u003eBase Control: 0.0% (0\\u002f40)\\u003cbr\\u003eInstruct Introspective: 17.5% (7\\u002f40)\\u003cbr\\u003eInstruct Control: 0.0% (0\\u002f40)\\u003cbr\\u003e\\u003cbr\\u003e\\u003cbr\\u003e\\u003cb\\u003eDescription:\\u003c\\u002fb\\u003e\\u003cbr\\u003eTechnical syntax elements and specialized terminology appearing in code,\\u003cbr\\u003emathematical expressions, citations, and formal documentation.\\u003cextra\\u003e\\u003c\\u002fextra\\u003e\",\"\\u003cb\\u003eFeature 30249\\u003c\\u002fb\\u003e\\u003cbr\\u003eBase Mean Activation: 0.0000\\u003cbr\\u003eInstruct Mean Activation: 0.1133\\u003cbr\\u003eDifference: 0.1133\\u003cbr\\u003e\\u003cbr\\u003e\\u003cb\\u003eIntrospective prompt-exclusive feature for Instruct\\u003c\\u002fb\\u003e\\u003cbr\\u003eBase Introspective: 0.0% (0\\u002f40)\\u003cbr\\u003eBase Control: 0.0% (0\\u002f40)\\u003cbr\\u003eInstruct Introspective: 5.0% (2\\u002f40)\\u003cbr\\u003eInstruct Control: 0.0% (0\\u002f40)\\u003cbr\\u003e\\u003cbr\\u003e\\u003cbr\\u003e\\u003cb\\u003eDescription:\\u003c\\u002fb\\u003e\\u003cbr\\u003eTechnical explanatory text describing mechanisms, structures, or processes,\\u003cbr\\u003eoften using connecting phrases to relate components in scientific or medical\\u003cbr\\u003econtexts.\\u003cextra\\u003e\\u003c\\u002fextra\\u003e\",\"\\u003cb\\u003eFeature 50953\\u003c\\u002fb\\u003e\\u003cbr\\u003eBase Mean Activation: 0.0000\\u003cbr\\u003eInstruct Mean Activation: 0.2270\\u003cbr\\u003eDifference: 0.2270\\u003cbr\\u003e\\u003cbr\\u003e\\u003cb\\u003eIntrospective prompt-exclusive feature for Instruct\\u003c\\u002fb\\u003e\\u003cbr\\u003eBase Introspective: 0.0% (0\\u002f40)\\u003cbr\\u003eBase Control: 0.0% (0\\u002f40)\\u003cbr\\u003eInstruct Introspective: 7.5% (3\\u002f40)\\u003cbr\\u003eInstruct Control: 0.0% (0\\u002f40)\\u003cbr\\u003e\\u003cbr\\u003e\\u003cbr\\u003e\\u003cb\\u003eDescription:\\u003c\\u002fb\\u003e\\u003cbr\\u003eText patterns where people introduce themselves, greet others, or ask for\\u003cbr\\u003eself-introductions in conversation.\\u003cextra\\u003e\\u003c\\u002fextra\\u003e\",\"\\u003cb\\u003eFeature 53398\\u003c\\u002fb\\u003e\\u003cbr\\u003eBase Mean Activation: 0.0000\\u003cbr\\u003eInstruct Mean Activation: 0.5059\\u003cbr\\u003eDifference: 0.5059\\u003cbr\\u003e\\u003cbr\\u003e\\u003cb\\u003eIntrospective prompt-exclusive feature for Instruct\\u003c\\u002fb\\u003e\\u003cbr\\u003eBase Introspective: 0.0% (0\\u002f40)\\u003cbr\\u003eBase Control: 0.0% (0\\u002f40)\\u003cbr\\u003eInstruct Introspective: 22.5% (9\\u002f40)\\u003cbr\\u003eInstruct Control: 0.0% (0\\u002f40)\\u003cbr\\u003e\\u003cbr\\u003e\\u003cbr\\u003e\\u003cb\\u003eDescription:\\u003c\\u002fb\\u003e\\u003cbr\\u003eReferences to artificial intelligence, robots, or mechanical\\u002ftechnological\\u003cbr\\u003eentities and their components or characteristics.\\u003cextra\\u003e\\u003c\\u002fextra\\u003e\",\"\\u003cb\\u003eFeature 71571\\u003c\\u002fb\\u003e\\u003cbr\\u003eBase Mean Activation: 0.0000\\u003cbr\\u003eInstruct Mean Activation: 0.3725\\u003cbr\\u003eDifference: 0.3725\\u003cbr\\u003e\\u003cbr\\u003e\\u003cb\\u003eIntrospective prompt-exclusive feature for Instruct\\u003c\\u002fb\\u003e\\u003cbr\\u003eBase Introspective: 0.0% (0\\u002f40)\\u003cbr\\u003eBase Control: 0.0% (0\\u002f40)\\u003cbr\\u003eInstruct Introspective: 17.5% (7\\u002f40)\\u003cbr\\u003eInstruct Control: 0.0% (0\\u002f40)\\u003cbr\\u003e\\u003cbr\\u003e\\u003cbr\\u003e\\u003cb\\u003eDescription:\\u003c\\u002fb\\u003e\\u003cbr\\u003eDescriptions of AI systems' capabilities or limitations, often in comparison to\\u003cbr\\u003ehuman abilities or biological processes.\\u003cextra\\u003e\\u003c\\u002fextra\\u003e\",\"\\u003cb\\u003eFeature 98656\\u003c\\u002fb\\u003e\\u003cbr\\u003eBase Mean Activation: 0.0000\\u003cbr\\u003eInstruct Mean Activation: 0.1020\\u003cbr\\u003eDifference: 0.1020\\u003cbr\\u003e\\u003cbr\\u003e\\u003cb\\u003eIntrospective prompt-exclusive feature for Instruct\\u003c\\u002fb\\u003e\\u003cbr\\u003eBase Introspective: 0.0% (0\\u002f40)\\u003cbr\\u003eBase Control: 0.0% (0\\u002f40)\\u003cbr\\u003eInstruct Introspective: 5.0% (2\\u002f40)\\u003cbr\\u003eInstruct Control: 0.0% (0\\u002f40)\\u003cbr\\u003e\\u003cbr\\u003e\\u003cbr\\u003e\\u003cb\\u003eDescription:\\u003c\\u002fb\\u003e\\u003cbr\\u003eText fragments highlighted seemingly at random across different document types,\\u003cbr\\u003ewith no consistent semantic or syntactic pattern.\\u003cextra\\u003e\\u003c\\u002fextra\\u003e\",\"\\u003cb\\u003eFeature 126107\\u003c\\u002fb\\u003e\\u003cbr\\u003eBase Mean Activation: 0.0000\\u003cbr\\u003eInstruct Mean Activation: 0.0594\\u003cbr\\u003eDifference: 0.0594\\u003cbr\\u003e\\u003cbr\\u003e\\u003cb\\u003eIntrospective prompt-exclusive feature for Instruct\\u003c\\u002fb\\u003e\\u003cbr\\u003eBase Introspective: 0.0% (0\\u002f40)\\u003cbr\\u003eBase Control: 0.0% (0\\u002f40)\\u003cbr\\u003eInstruct Introspective: 2.5% (1\\u002f40)\\u003cbr\\u003eInstruct Control: 0.0% (0\\u002f40)\\u003cbr\\u003e\\u003cbr\\u003e\\u003cbr\\u003e\\u003cb\\u003eDescription:\\u003c\\u002fb\\u003e\\u003cbr\\u003eText describing therapeutic approaches, counseling methodologies, and the\\u003cbr\\u003etherapist-client relationship.\\u003cextra\\u003e\\u003c\\u002fextra\\u003e\"],\"legendgroup\":\"endheader\",\"legendgrouptitle\":{\"text\":\"endheader\"},\"marker\":{\"color\":\"#4ECDC4\",\"line\":{\"color\":\"black\",\"width\":0.3},\"opacity\":0.7,\"size\":6,\"symbol\":\"square\"},\"mode\":\"markers\",\"name\":\"  Instruct Introspective\",\"text\":[\"Feature 3933\",\"Feature 5916\",\"Feature 12734\",\"Feature 16431\",\"Feature 17112\",\"Feature 20917\",\"Feature 28213\",\"Feature 30249\",\"Feature 50953\",\"Feature 53398\",\"Feature 71571\",\"Feature 98656\",\"Feature 126107\"],\"x\":[0.0,0.0,0.0,0.0,0.0,0.0,0.0,0.0,0.0,0.0,0.0,0.0,0.0],\"y\":[0.46875,0.20546874,0.056640625,0.099804685,0.6642578,0.27109376,0.365625,0.11328125,0.22695312,0.5058594,0.37246093,0.10195313,0.059375],\"type\":\"scattergl\"},{\"customdata\":[\"https:\\u002f\\u002fwww.neuronpedia.org\\u002fllama3.1-8b\\u002f17-llamascope-res-131k\\u002f50953\"],\"hoverlabel\":{\"bgcolor\":\"#45B7D1\",\"bordercolor\":\"black\",\"font\":{\"color\":\"white\",\"family\":\"Arial\",\"size\":12}},\"hovertemplate\":[\"\\u003cb\\u003eFeature 50953\\u003c\\u002fb\\u003e\\u003cbr\\u003eBase Mean Activation: 0.1707\\u003cbr\\u003eInstruct Mean Activation: 1.0254\\u003cbr\\u003eDifference: 0.8547\\u003cbr\\u003e\\u003cbr\\u003e\\u003cb\\u003eIntrospective prompt-exclusive feature for both models\\u003c\\u002fb\\u003e\\u003cbr\\u003eBase Introspective: 7.5% (3\\u002f40)\\u003cbr\\u003eBase Control: 0.0% (0\\u002f40)\\u003cbr\\u003eInstruct Introspective: 27.5% (11\\u002f40)\\u003cbr\\u003eInstruct Control: 0.0% (0\\u002f40)\\u003cbr\\u003e\\u003cbr\\u003e\\u003cbr\\u003e\\u003cb\\u003eDescription:\\u003c\\u002fb\\u003e\\u003cbr\\u003eText patterns where people introduce themselves, greet others, or ask for\\u003cbr\\u003eself-introductions in conversation.\\u003cextra\\u003e\\u003c\\u002fextra\\u003e\"],\"legendgroup\":\"newline\",\"legendgrouptitle\":{\"text\":\"newline\"},\"marker\":{\"color\":\"#45B7D1\",\"line\":{\"color\":\"black\",\"width\":0.3},\"opacity\":0.7,\"size\":6,\"symbol\":\"star\"},\"mode\":\"markers\",\"name\":\"  Both Introspective\",\"text\":[\"Feature 50953\"],\"x\":[0.17070313],\"y\":[1.0253906],\"type\":\"scattergl\"},{\"customdata\":[\"https:\\u002f\\u002fwww.neuronpedia.org\\u002fllama3.1-8b\\u002f17-llamascope-res-131k\\u002f3187\",\"https:\\u002f\\u002fwww.neuronpedia.org\\u002fllama3.1-8b\\u002f17-llamascope-res-131k\\u002f10910\",\"https:\\u002f\\u002fwww.neuronpedia.org\\u002fllama3.1-8b\\u002f17-llamascope-res-131k\\u002f30141\",\"https:\\u002f\\u002fwww.neuronpedia.org\\u002fllama3.1-8b\\u002f17-llamascope-res-131k\\u002f31836\",\"https:\\u002f\\u002fwww.neuronpedia.org\\u002fllama3.1-8b\\u002f17-llamascope-res-131k\\u002f32747\",\"https:\\u002f\\u002fwww.neuronpedia.org\\u002fllama3.1-8b\\u002f17-llamascope-res-131k\\u002f35545\",\"https:\\u002f\\u002fwww.neuronpedia.org\\u002fllama3.1-8b\\u002f17-llamascope-res-131k\\u002f38730\",\"https:\\u002f\\u002fwww.neuronpedia.org\\u002fllama3.1-8b\\u002f17-llamascope-res-131k\\u002f42690\",\"https:\\u002f\\u002fwww.neuronpedia.org\\u002fllama3.1-8b\\u002f17-llamascope-res-131k\\u002f43567\",\"https:\\u002f\\u002fwww.neuronpedia.org\\u002fllama3.1-8b\\u002f17-llamascope-res-131k\\u002f45438\",\"https:\\u002f\\u002fwww.neuronpedia.org\\u002fllama3.1-8b\\u002f17-llamascope-res-131k\\u002f45539\",\"https:\\u002f\\u002fwww.neuronpedia.org\\u002fllama3.1-8b\\u002f17-llamascope-res-131k\\u002f46976\",\"https:\\u002f\\u002fwww.neuronpedia.org\\u002fllama3.1-8b\\u002f17-llamascope-res-131k\\u002f47393\",\"https:\\u002f\\u002fwww.neuronpedia.org\\u002fllama3.1-8b\\u002f17-llamascope-res-131k\\u002f48821\",\"https:\\u002f\\u002fwww.neuronpedia.org\\u002fllama3.1-8b\\u002f17-llamascope-res-131k\\u002f49692\",\"https:\\u002f\\u002fwww.neuronpedia.org\\u002fllama3.1-8b\\u002f17-llamascope-res-131k\\u002f51248\",\"https:\\u002f\\u002fwww.neuronpedia.org\\u002fllama3.1-8b\\u002f17-llamascope-res-131k\\u002f54584\",\"https:\\u002f\\u002fwww.neuronpedia.org\\u002fllama3.1-8b\\u002f17-llamascope-res-131k\\u002f55090\",\"https:\\u002f\\u002fwww.neuronpedia.org\\u002fllama3.1-8b\\u002f17-llamascope-res-131k\\u002f70701\",\"https:\\u002f\\u002fwww.neuronpedia.org\\u002fllama3.1-8b\\u002f17-llamascope-res-131k\\u002f77380\",\"https:\\u002f\\u002fwww.neuronpedia.org\\u002fllama3.1-8b\\u002f17-llamascope-res-131k\\u002f77387\",\"https:\\u002f\\u002fwww.neuronpedia.org\\u002fllama3.1-8b\\u002f17-llamascope-res-131k\\u002f78562\",\"https:\\u002f\\u002fwww.neuronpedia.org\\u002fllama3.1-8b\\u002f17-llamascope-res-131k\\u002f82549\",\"https:\\u002f\\u002fwww.neuronpedia.org\\u002fllama3.1-8b\\u002f17-llamascope-res-131k\\u002f87080\",\"https:\\u002f\\u002fwww.neuronpedia.org\\u002fllama3.1-8b\\u002f17-llamascope-res-131k\\u002f98090\",\"https:\\u002f\\u002fwww.neuronpedia.org\\u002fllama3.1-8b\\u002f17-llamascope-res-131k\\u002f113394\",\"https:\\u002f\\u002fwww.neuronpedia.org\\u002fllama3.1-8b\\u002f17-llamascope-res-131k\\u002f114705\",\"https:\\u002f\\u002fwww.neuronpedia.org\\u002fllama3.1-8b\\u002f17-llamascope-res-131k\\u002f114835\",\"https:\\u002f\\u002fwww.neuronpedia.org\\u002fllama3.1-8b\\u002f17-llamascope-res-131k\\u002f115804\",\"https:\\u002f\\u002fwww.neuronpedia.org\\u002fllama3.1-8b\\u002f17-llamascope-res-131k\\u002f126861\"],\"hoverlabel\":{\"bgcolor\":\"#45B7D1\",\"bordercolor\":\"black\",\"font\":{\"color\":\"white\",\"family\":\"Arial\",\"size\":12}},\"hovertemplate\":[\"\\u003cb\\u003eFeature 3187\\u003c\\u002fb\\u003e\\u003cbr\\u003eBase Mean Activation: 0.1953\\u003cbr\\u003eInstruct Mean Activation: 0.0000\\u003cbr\\u003eDifference: -0.1953\\u003cbr\\u003e\\u003cbr\\u003e\\u003cb\\u003eIntrospective prompt-exclusive feature for Base\\u003c\\u002fb\\u003e\\u003cbr\\u003eBase Introspective: 7.5% (3\\u002f40)\\u003cbr\\u003eBase Control: 0.0% (0\\u002f40)\\u003cbr\\u003eInstruct Introspective: 0.0% (0\\u002f40)\\u003cbr\\u003eInstruct Control: 0.0% (0\\u002f40)\\u003cbr\\u003e\\u003cbr\\u003e\\u003cbr\\u003e\\u003cb\\u003eDescription:\\u003c\\u002fb\\u003e\\u003cbr\\u003eThe highlighted text segments typically include \\\"the\\\" preceding noun phrases,\\u003cbr\\u003ecommon assessment tools (like \\\"CliftonStrengths\\\"), or action phrases relating to\\u003cbr\\u003ediscovering or presenting information (such as \\\"wrapped lists\\\", \\\"assessment\\\",\\u003cbr\\u003e\\\"discovering\\\", \\\"comprehension was\\\"). These often appear in educational,\\u003cbr\\u003eevaluative, or informational contexts.\\u003cextra\\u003e\\u003c\\u002fextra\\u003e\",\"\\u003cb\\u003eFeature 10910\\u003c\\u002fb\\u003e\\u003cbr\\u003eBase Mean Activation: 0.0496\\u003cbr\\u003eInstruct Mean Activation: 0.0000\\u003cbr\\u003eDifference: -0.0496\\u003cbr\\u003e\\u003cbr\\u003e\\u003cb\\u003eIntrospective prompt-exclusive feature for Base\\u003c\\u002fb\\u003e\\u003cbr\\u003eBase Introspective: 2.5% (1\\u002f40)\\u003cbr\\u003eBase Control: 0.0% (0\\u002f40)\\u003cbr\\u003eInstruct Introspective: 0.0% (0\\u002f40)\\u003cbr\\u003eInstruct Control: 0.0% (0\\u002f40)\\u003cbr\\u003e\\u003cbr\\u003e\\u003cbr\\u003e\\u003cb\\u003eDescription:\\u003c\\u002fb\\u003e\\u003cbr\\u003eThe end of a term or name that is immediately followed by punctuation (typically\\u003cbr\\u003eparentheses, commas, or colons) that introduces explanatory or supplementary\\u003cbr\\u003einformation.\\u003cextra\\u003e\\u003c\\u002fextra\\u003e\",\"\\u003cb\\u003eFeature 30141\\u003c\\u002fb\\u003e\\u003cbr\\u003eBase Mean Activation: 0.1215\\u003cbr\\u003eInstruct Mean Activation: 0.0000\\u003cbr\\u003eDifference: -0.1215\\u003cbr\\u003e\\u003cbr\\u003e\\u003cb\\u003eIntrospective prompt-exclusive feature for Base\\u003c\\u002fb\\u003e\\u003cbr\\u003eBase Introspective: 5.0% (2\\u002f40)\\u003cbr\\u003eBase Control: 0.0% (0\\u002f40)\\u003cbr\\u003eInstruct Introspective: 0.0% (0\\u002f40)\\u003cbr\\u003eInstruct Control: 0.0% (0\\u002f40)\\u003cbr\\u003e\\u003cbr\\u003e\\u003cbr\\u003e\\u003cb\\u003eDescription:\\u003c\\u002fb\\u003e\\u003cbr\\u003eTwitter handles and related Twitter content markers that appear in text, often\\u003cbr\\u003eas part of website footer sections, social media embedding, or \\\"follow us\\\" calls\\u003cbr\\u003eto action.\\u003cextra\\u003e\\u003c\\u002fextra\\u003e\",\"\\u003cb\\u003eFeature 31836\\u003c\\u002fb\\u003e\\u003cbr\\u003eBase Mean Activation: 0.1027\\u003cbr\\u003eInstruct Mean Activation: 0.0000\\u003cbr\\u003eDifference: -0.1027\\u003cbr\\u003e\\u003cbr\\u003e\\u003cb\\u003eIntrospective prompt-exclusive feature for Base\\u003c\\u002fb\\u003e\\u003cbr\\u003eBase Introspective: 5.0% (2\\u002f40)\\u003cbr\\u003eBase Control: 0.0% (0\\u002f40)\\u003cbr\\u003eInstruct Introspective: 0.0% (0\\u002f40)\\u003cbr\\u003eInstruct Control: 0.0% (0\\u002f40)\\u003cbr\\u003e\\u003cbr\\u003e\\u003cbr\\u003e\\u003cb\\u003eDescription:\\u003c\\u002fb\\u003e\\u003cbr\\u003eWebsite or publication names followed by separator characters (-, :, |, –) that\\u003cbr\\u003edivide the main entity name from supplementary information like section titles\\u003cbr\\u003eor taglines.\\u003cextra\\u003e\\u003c\\u002fextra\\u003e\",\"\\u003cb\\u003eFeature 32747\\u003c\\u002fb\\u003e\\u003cbr\\u003eBase Mean Activation: 0.0488\\u003cbr\\u003eInstruct Mean Activation: 0.0000\\u003cbr\\u003eDifference: -0.0488\\u003cbr\\u003e\\u003cbr\\u003e\\u003cb\\u003eIntrospective prompt-exclusive feature for Base\\u003c\\u002fb\\u003e\\u003cbr\\u003eBase Introspective: 2.5% (1\\u002f40)\\u003cbr\\u003eBase Control: 0.0% (0\\u002f40)\\u003cbr\\u003eInstruct Introspective: 0.0% (0\\u002f40)\\u003cbr\\u003eInstruct Control: 0.0% (0\\u002f40)\\u003cbr\\u003e\\u003cbr\\u003e\\u003cbr\\u003e\\u003cb\\u003eDescription:\\u003c\\u002fb\\u003e\\u003cbr\\u003eTechnical terminology from computing, electronics, and programming contexts,\\u003cbr\\u003eincluding hardware component names, function parameters, code elements, and\\u003cbr\\u003enumerical specifications.\\u003cextra\\u003e\\u003c\\u002fextra\\u003e\",\"\\u003cb\\u003eFeature 35545\\u003c\\u002fb\\u003e\\u003cbr\\u003eBase Mean Activation: 0.3098\\u003cbr\\u003eInstruct Mean Activation: 0.0000\\u003cbr\\u003eDifference: -0.3098\\u003cbr\\u003e\\u003cbr\\u003e\\u003cb\\u003eIntrospective prompt-exclusive feature for Base\\u003c\\u002fb\\u003e\\u003cbr\\u003eBase Introspective: 15.0% (6\\u002f40)\\u003cbr\\u003eBase Control: 0.0% (0\\u002f40)\\u003cbr\\u003eInstruct Introspective: 0.0% (0\\u002f40)\\u003cbr\\u003eInstruct Control: 0.0% (0\\u002f40)\\u003cbr\\u003e\\u003cbr\\u003e\\u003cbr\\u003e\\u003cb\\u003eDescription:\\u003c\\u002fb\\u003e\\u003cbr\\u003eEnd-of-section markers that often appear at content boundaries, typically before\\u003cbr\\u003epunctuation or at transitions between different text segments.\\u003cextra\\u003e\\u003c\\u002fextra\\u003e\",\"\\u003cb\\u003eFeature 38730\\u003c\\u002fb\\u003e\\u003cbr\\u003eBase Mean Activation: 0.0559\\u003cbr\\u003eInstruct Mean Activation: 0.0000\\u003cbr\\u003eDifference: -0.0559\\u003cbr\\u003e\\u003cbr\\u003e\\u003cb\\u003eIntrospective prompt-exclusive feature for Base\\u003c\\u002fb\\u003e\\u003cbr\\u003eBase Introspective: 2.5% (1\\u002f40)\\u003cbr\\u003eBase Control: 0.0% (0\\u002f40)\\u003cbr\\u003eInstruct Introspective: 0.0% (0\\u002f40)\\u003cbr\\u003eInstruct Control: 0.0% (0\\u002f40)\\u003cbr\\u003e\\u003cbr\\u003e\\u003cbr\\u003e\\u003cb\\u003eDescription:\\u003c\\u002fb\\u003e\\u003cbr\\u003eA line break that serves as a formatting delimiter between a title\\u002fheading and\\u003cbr\\u003ethe descriptive content that follows it.\\u003cextra\\u003e\\u003c\\u002fextra\\u003e\",\"\\u003cb\\u003eFeature 42690\\u003c\\u002fb\\u003e\\u003cbr\\u003eBase Mean Activation: 0.0582\\u003cbr\\u003eInstruct Mean Activation: 0.0000\\u003cbr\\u003eDifference: -0.0582\\u003cbr\\u003e\\u003cbr\\u003e\\u003cb\\u003eIntrospective prompt-exclusive feature for Base\\u003c\\u002fb\\u003e\\u003cbr\\u003eBase Introspective: 2.5% (1\\u002f40)\\u003cbr\\u003eBase Control: 0.0% (0\\u002f40)\\u003cbr\\u003eInstruct Introspective: 0.0% (0\\u002f40)\\u003cbr\\u003eInstruct Control: 0.0% (0\\u002f40)\\u003cbr\\u003e\\u003cbr\\u003e\\u003cbr\\u003e\\u003cb\\u003eDescription:\\u003c\\u002fb\\u003e\\u003cbr\\u003eUsername identifiers and their associated comments in online forum\\u002fdiscussion\\u003cbr\\u003eboard posts, often appearing in a structured format within threaded\\u003cbr\\u003econversations.\\u003cextra\\u003e\\u003c\\u002fextra\\u003e\",\"\\u003cb\\u003eFeature 43567\\u003c\\u002fb\\u003e\\u003cbr\\u003eBase Mean Activation: 0.0480\\u003cbr\\u003eInstruct Mean Activation: 0.0000\\u003cbr\\u003eDifference: -0.0480\\u003cbr\\u003e\\u003cbr\\u003e\\u003cb\\u003eIntrospective prompt-exclusive feature for Base\\u003c\\u002fb\\u003e\\u003cbr\\u003eBase Introspective: 2.5% (1\\u002f40)\\u003cbr\\u003eBase Control: 0.0% (0\\u002f40)\\u003cbr\\u003eInstruct Introspective: 0.0% (0\\u002f40)\\u003cbr\\u003eInstruct Control: 0.0% (0\\u002f40)\\u003cbr\\u003e\\u003cbr\\u003e\\u003cbr\\u003e\\u003cb\\u003eDescription:\\u003c\\u002fb\\u003e\\u003cbr\\u003ePunctuation marks and transitions around quoted speech or dialogue, particularly\\u003cbr\\u003eperiods and commas inside quotation marks, and words beginning or ending quoted\\u003cbr\\u003esegments.\\u003cextra\\u003e\\u003c\\u002fextra\\u003e\",\"\\u003cb\\u003eFeature 45438\\u003c\\u002fb\\u003e\\u003cbr\\u003eBase Mean Activation: 0.0609\\u003cbr\\u003eInstruct Mean Activation: 0.0000\\u003cbr\\u003eDifference: -0.0609\\u003cbr\\u003e\\u003cbr\\u003e\\u003cb\\u003eIntrospective prompt-exclusive feature for Base\\u003c\\u002fb\\u003e\\u003cbr\\u003eBase Introspective: 2.5% (1\\u002f40)\\u003cbr\\u003eBase Control: 0.0% (0\\u002f40)\\u003cbr\\u003eInstruct Introspective: 0.0% (0\\u002f40)\\u003cbr\\u003eInstruct Control: 0.0% (0\\u002f40)\\u003cbr\\u003e\\u003cbr\\u003e\\u003cbr\\u003e\\u003cb\\u003eDescription:\\u003c\\u002fb\\u003e\\u003cbr\\u003eA formatting pattern that separates an introduction from quoted content,\\u003cbr\\u003ereviews, comments, or testimonials that follow.\\u003cextra\\u003e\\u003c\\u002fextra\\u003e\",\"\\u003cb\\u003eFeature 45539\\u003c\\u002fb\\u003e\\u003cbr\\u003eBase Mean Activation: 0.0490\\u003cbr\\u003eInstruct Mean Activation: 0.0000\\u003cbr\\u003eDifference: -0.0490\\u003cbr\\u003e\\u003cbr\\u003e\\u003cb\\u003eIntrospective prompt-exclusive feature for Base\\u003c\\u002fb\\u003e\\u003cbr\\u003eBase Introspective: 2.5% (1\\u002f40)\\u003cbr\\u003eBase Control: 0.0% (0\\u002f40)\\u003cbr\\u003eInstruct Introspective: 0.0% (0\\u002f40)\\u003cbr\\u003eInstruct Control: 0.0% (0\\u002f40)\\u003cbr\\u003e\\u003cbr\\u003e\\u003cbr\\u003e\\u003cb\\u003eDescription:\\u003c\\u002fb\\u003e\\u003cbr\\u003eDouble angle brackets \\\"\\u003e\\u003e\\\" marking the end of executable code blocks, commands,\\u003cbr\\u003eor configuration entries in technical documentation.\\u003cextra\\u003e\\u003c\\u002fextra\\u003e\",\"\\u003cb\\u003eFeature 46976\\u003c\\u002fb\\u003e\\u003cbr\\u003eBase Mean Activation: 0.0486\\u003cbr\\u003eInstruct Mean Activation: 0.0000\\u003cbr\\u003eDifference: -0.0486\\u003cbr\\u003e\\u003cbr\\u003e\\u003cb\\u003eIntrospective prompt-exclusive feature for Base\\u003c\\u002fb\\u003e\\u003cbr\\u003eBase Introspective: 2.5% (1\\u002f40)\\u003cbr\\u003eBase Control: 0.0% (0\\u002f40)\\u003cbr\\u003eInstruct Introspective: 0.0% (0\\u002f40)\\u003cbr\\u003eInstruct Control: 0.0% (0\\u002f40)\\u003cbr\\u003e\\u003cbr\\u003e\\u003cbr\\u003e\\u003cb\\u003eDescription:\\u003c\\u002fb\\u003e\\u003cbr\\u003eProgramming syntax patterns showing method\\u002fobject chaining with dot notation,\\u003cbr\\u003eparticularly in JavaScript, Java and other object-oriented languages, often\\u003cbr\\u003einvolving framework components (like CAAT.Director) followed by method calls and\\u003cbr\\u003eparameter documentation.\\u003cextra\\u003e\\u003c\\u002fextra\\u003e\",\"\\u003cb\\u003eFeature 47393\\u003c\\u002fb\\u003e\\u003cbr\\u003eBase Mean Activation: 0.1937\\u003cbr\\u003eInstruct Mean Activation: 0.0000\\u003cbr\\u003eDifference: -0.1937\\u003cbr\\u003e\\u003cbr\\u003e\\u003cb\\u003eIntrospective prompt-exclusive feature for Base\\u003c\\u002fb\\u003e\\u003cbr\\u003eBase Introspective: 7.5% (3\\u002f40)\\u003cbr\\u003eBase Control: 0.0% (0\\u002f40)\\u003cbr\\u003eInstruct Introspective: 0.0% (0\\u002f40)\\u003cbr\\u003eInstruct Control: 0.0% (0\\u002f40)\\u003cbr\\u003e\\u003cbr\\u003e\\u003cbr\\u003e\\u003cb\\u003eDescription:\\u003c\\u002fb\\u003e\\u003cbr\\u003eOpening quotation marks and sometimes first words of direct speech, often\\u003cbr\\u003epreceded by speech attribution phrases like \\\"said\\\" or \\\"saying\\\".\\u003cextra\\u003e\\u003c\\u002fextra\\u003e\",\"\\u003cb\\u003eFeature 48821\\u003c\\u002fb\\u003e\\u003cbr\\u003eBase Mean Activation: 0.0535\\u003cbr\\u003eInstruct Mean Activation: 0.0000\\u003cbr\\u003eDifference: -0.0535\\u003cbr\\u003e\\u003cbr\\u003e\\u003cb\\u003eIntrospective prompt-exclusive feature for Base\\u003c\\u002fb\\u003e\\u003cbr\\u003eBase Introspective: 2.5% (1\\u002f40)\\u003cbr\\u003eBase Control: 0.0% (0\\u002f40)\\u003cbr\\u003eInstruct Introspective: 0.0% (0\\u002f40)\\u003cbr\\u003eInstruct Control: 0.0% (0\\u002f40)\\u003cbr\\u003e\\u003cbr\\u003e\\u003cbr\\u003e\\u003cb\\u003eDescription:\\u003c\\u002fb\\u003e\\u003cbr\\u003eReferences to to-do lists, task management systems, or tracking activities to be\\u003cbr\\u003ecompleted.\\u003cextra\\u003e\\u003c\\u002fextra\\u003e\",\"\\u003cb\\u003eFeature 49692\\u003c\\u002fb\\u003e\\u003cbr\\u003eBase Mean Activation: 0.0496\\u003cbr\\u003eInstruct Mean Activation: 0.0000\\u003cbr\\u003eDifference: -0.0496\\u003cbr\\u003e\\u003cbr\\u003e\\u003cb\\u003eIntrospective prompt-exclusive feature for Base\\u003c\\u002fb\\u003e\\u003cbr\\u003eBase Introspective: 2.5% (1\\u002f40)\\u003cbr\\u003eBase Control: 0.0% (0\\u002f40)\\u003cbr\\u003eInstruct Introspective: 0.0% (0\\u002f40)\\u003cbr\\u003eInstruct Control: 0.0% (0\\u002f40)\\u003cbr\\u003e\\u003cbr\\u003e\\u003cbr\\u003e\\u003cb\\u003eDescription:\\u003c\\u002fb\\u003e\\u003cbr\\u003eClickable links or call-to-action buttons on websites, usually represented as\\u003cbr\\u003eimperative phrases or navigation options that invite user interaction.\\u003cextra\\u003e\\u003c\\u002fextra\\u003e\",\"\\u003cb\\u003eFeature 51248\\u003c\\u002fb\\u003e\\u003cbr\\u003eBase Mean Activation: 0.2611\\u003cbr\\u003eInstruct Mean Activation: 0.0000\\u003cbr\\u003eDifference: -0.2611\\u003cbr\\u003e\\u003cbr\\u003e\\u003cb\\u003eIntrospective prompt-exclusive feature for Base\\u003c\\u002fb\\u003e\\u003cbr\\u003eBase Introspective: 12.5% (5\\u002f40)\\u003cbr\\u003eBase Control: 0.0% (0\\u002f40)\\u003cbr\\u003eInstruct Introspective: 0.0% (0\\u002f40)\\u003cbr\\u003eInstruct Control: 0.0% (0\\u002f40)\\u003cbr\\u003e\\u003cbr\\u003e\\u003cbr\\u003e\\u003cb\\u003eDescription:\\u003c\\u002fb\\u003e\\u003cbr\\u003eEducational service terminology, particularly related to online tutoring,\\u003cbr\\u003ehomework assistance, and student learning support systems.\\u003cextra\\u003e\\u003c\\u002fextra\\u003e\",\"\\u003cb\\u003eFeature 54584\\u003c\\u002fb\\u003e\\u003cbr\\u003eBase Mean Activation: 0.1057\\u003cbr\\u003eInstruct Mean Activation: 0.0000\\u003cbr\\u003eDifference: -0.1057\\u003cbr\\u003e\\u003cbr\\u003e\\u003cb\\u003eIntrospective prompt-exclusive feature for Base\\u003c\\u002fb\\u003e\\u003cbr\\u003eBase Introspective: 5.0% (2\\u002f40)\\u003cbr\\u003eBase Control: 0.0% (0\\u002f40)\\u003cbr\\u003eInstruct Introspective: 0.0% (0\\u002f40)\\u003cbr\\u003eInstruct Control: 0.0% (0\\u002f40)\\u003cbr\\u003e\\u003cbr\\u003e\\u003cbr\\u003e\\u003cb\\u003eDescription:\\u003c\\u002fb\\u003e\\u003cbr\\u003eCode-related terminology, method calls, and references to technology platforms\\u003cbr\\u003elike Stack Overflow, appearing in programming contexts and web forum\\u003cbr\\u003ediscussions.\\u003cextra\\u003e\\u003c\\u002fextra\\u003e\",\"\\u003cb\\u003eFeature 55090\\u003c\\u002fb\\u003e\\u003cbr\\u003eBase Mean Activation: 0.2496\\u003cbr\\u003eInstruct Mean Activation: 0.0000\\u003cbr\\u003eDifference: -0.2496\\u003cbr\\u003e\\u003cbr\\u003e\\u003cb\\u003eIntrospective prompt-exclusive feature for Base\\u003c\\u002fb\\u003e\\u003cbr\\u003eBase Introspective: 10.0% (4\\u002f40)\\u003cbr\\u003eBase Control: 0.0% (0\\u002f40)\\u003cbr\\u003eInstruct Introspective: 0.0% (0\\u002f40)\\u003cbr\\u003eInstruct Control: 0.0% (0\\u002f40)\\u003cbr\\u003e\\u003cbr\\u003e\\u003cbr\\u003e\\u003cb\\u003eDescription:\\u003c\\u002fb\\u003e\\u003cbr\\u003eOpening or closing quotes in code or string literals, often used in programming\\u003cbr\\u003econtext to define string boundaries or as part of syntax in different\\u003cbr\\u003eprogramming languages.\\u003cextra\\u003e\\u003c\\u002fextra\\u003e\",\"\\u003cb\\u003eFeature 70701\\u003c\\u002fb\\u003e\\u003cbr\\u003eBase Mean Activation: 0.1531\\u003cbr\\u003eInstruct Mean Activation: 0.0000\\u003cbr\\u003eDifference: -0.1531\\u003cbr\\u003e\\u003cbr\\u003e\\u003cb\\u003eIntrospective prompt-exclusive feature for Base\\u003c\\u002fb\\u003e\\u003cbr\\u003eBase Introspective: 5.0% (2\\u002f40)\\u003cbr\\u003eBase Control: 0.0% (0\\u002f40)\\u003cbr\\u003eInstruct Introspective: 0.0% (0\\u002f40)\\u003cbr\\u003eInstruct Control: 0.0% (0\\u002f40)\\u003cbr\\u003e\\u003cbr\\u003e\\u003cbr\\u003e\\u003cb\\u003eDescription:\\u003c\\u002fb\\u003e\\u003cbr\\u003eHTML closing tags that terminate elements (like \\\"\\u002f\\u003e\\\" or \\\"\\u003e\\\"), often appearing at\\u003cbr\\u003eline endings before new HTML elements begin.\\u003cextra\\u003e\\u003c\\u002fextra\\u003e\",\"\\u003cb\\u003eFeature 77380\\u003c\\u002fb\\u003e\\u003cbr\\u003eBase Mean Activation: 0.0488\\u003cbr\\u003eInstruct Mean Activation: 0.0000\\u003cbr\\u003eDifference: -0.0488\\u003cbr\\u003e\\u003cbr\\u003e\\u003cb\\u003eIntrospective prompt-exclusive feature for Base\\u003c\\u002fb\\u003e\\u003cbr\\u003eBase Introspective: 2.5% (1\\u002f40)\\u003cbr\\u003eBase Control: 0.0% (0\\u002f40)\\u003cbr\\u003eInstruct Introspective: 0.0% (0\\u002f40)\\u003cbr\\u003eInstruct Control: 0.0% (0\\u002f40)\\u003cbr\\u003e\\u003cbr\\u003e\\u003cbr\\u003e\\u003cb\\u003eDescription:\\u003c\\u002fb\\u003e\\u003cbr\\u003eProgramming code sections where quotation marks or message constants are used in\\u003cbr\\u003estring output operations.\\u003cextra\\u003e\\u003c\\u002fextra\\u003e\",\"\\u003cb\\u003eFeature 77387\\u003c\\u002fb\\u003e\\u003cbr\\u003eBase Mean Activation: 0.0480\\u003cbr\\u003eInstruct Mean Activation: 0.0000\\u003cbr\\u003eDifference: -0.0480\\u003cbr\\u003e\\u003cbr\\u003e\\u003cb\\u003eIntrospective prompt-exclusive feature for Base\\u003c\\u002fb\\u003e\\u003cbr\\u003eBase Introspective: 2.5% (1\\u002f40)\\u003cbr\\u003eBase Control: 0.0% (0\\u002f40)\\u003cbr\\u003eInstruct Introspective: 0.0% (0\\u002f40)\\u003cbr\\u003eInstruct Control: 0.0% (0\\u002f40)\\u003cbr\\u003e\\u003cbr\\u003e\\u003cbr\\u003e\\u003cb\\u003eDescription:\\u003c\\u002fb\\u003e\\u003cbr\\u003eDocumentation labels or descriptors used in code comments, API references, and\\u003cbr\\u003econfiguration files that introduce explanatory text about software components.\\u003cextra\\u003e\\u003c\\u002fextra\\u003e\",\"\\u003cb\\u003eFeature 78562\\u003c\\u002fb\\u003e\\u003cbr\\u003eBase Mean Activation: 0.0512\\u003cbr\\u003eInstruct Mean Activation: 0.0000\\u003cbr\\u003eDifference: -0.0512\\u003cbr\\u003e\\u003cbr\\u003e\\u003cb\\u003eIntrospective prompt-exclusive feature for Base\\u003c\\u002fb\\u003e\\u003cbr\\u003eBase Introspective: 2.5% (1\\u002f40)\\u003cbr\\u003eBase Control: 0.0% (0\\u002f40)\\u003cbr\\u003eInstruct Introspective: 0.0% (0\\u002f40)\\u003cbr\\u003eInstruct Control: 0.0% (0\\u002f40)\\u003cbr\\u003e\\u003cbr\\u003e\\u003cbr\\u003e\\u003cb\\u003eDescription:\\u003c\\u002fb\\u003e\\u003cbr\\u003eSyntax or code structure that shows relationships between elements, often in\\u003cbr\\u003eprogramming contexts. This includes variable declarations, method references,\\u003cbr\\u003eand structural relationships like containment or modification indicated by\\u003cbr\\u003eprepositions (\\\"in\\\", \\\"from\\\", \\\"by\\\", \\\"to\\\") and punctuation.\\u003cextra\\u003e\\u003c\\u002fextra\\u003e\",\"\\u003cb\\u003eFeature 82549\\u003c\\u002fb\\u003e\\u003cbr\\u003eBase Mean Activation: 0.0637\\u003cbr\\u003eInstruct Mean Activation: 0.0000\\u003cbr\\u003eDifference: -0.0637\\u003cbr\\u003e\\u003cbr\\u003e\\u003cb\\u003eIntrospective prompt-exclusive feature for Base\\u003c\\u002fb\\u003e\\u003cbr\\u003eBase Introspective: 2.5% (1\\u002f40)\\u003cbr\\u003eBase Control: 0.0% (0\\u002f40)\\u003cbr\\u003eInstruct Introspective: 0.0% (0\\u002f40)\\u003cbr\\u003eInstruct Control: 0.0% (0\\u002f40)\\u003cbr\\u003e\\u003cbr\\u003e\\u003cbr\\u003e\\u003cb\\u003eDescription:\\u003c\\u002fb\\u003e\\u003cbr\\u003ePunctuation and formatting elements that separate items in lists, especially\\u003cbr\\u003ecolons, bullet points, hyphens, and line-ending or paragraph-separating markers\\u003cbr\\u003elike parentheses and punctuation.\\u003cextra\\u003e\\u003c\\u002fextra\\u003e\",\"\\u003cb\\u003eFeature 87080\\u003c\\u002fb\\u003e\\u003cbr\\u003eBase Mean Activation: 0.0520\\u003cbr\\u003eInstruct Mean Activation: 0.0000\\u003cbr\\u003eDifference: -0.0520\\u003cbr\\u003e\\u003cbr\\u003e\\u003cb\\u003eIntrospective prompt-exclusive feature for Base\\u003c\\u002fb\\u003e\\u003cbr\\u003eBase Introspective: 2.5% (1\\u002f40)\\u003cbr\\u003eBase Control: 0.0% (0\\u002f40)\\u003cbr\\u003eInstruct Introspective: 0.0% (0\\u002f40)\\u003cbr\\u003eInstruct Control: 0.0% (0\\u002f40)\\u003cbr\\u003e\\u003cbr\\u003e\\u003cbr\\u003e\\u003cb\\u003eDescription:\\u003c\\u002fb\\u003e\\u003cbr\\u003eBlog footers or headers containing navigation elements, subscription\\u003cbr\\u003einformation, or author descriptions typically appearing between a blog post and\\u003cbr\\u003eother site content.\\u003cextra\\u003e\\u003c\\u002fextra\\u003e\",\"\\u003cb\\u003eFeature 98090\\u003c\\u002fb\\u003e\\u003cbr\\u003eBase Mean Activation: 0.6910\\u003cbr\\u003eInstruct Mean Activation: 0.0000\\u003cbr\\u003eDifference: -0.6910\\u003cbr\\u003e\\u003cbr\\u003e\\u003cb\\u003eIntrospective prompt-exclusive feature for Base\\u003c\\u002fb\\u003e\\u003cbr\\u003eBase Introspective: 27.5% (11\\u002f40)\\u003cbr\\u003eBase Control: 0.0% (0\\u002f40)\\u003cbr\\u003eInstruct Introspective: 0.0% (0\\u002f40)\\u003cbr\\u003eInstruct Control: 0.0% (0\\u002f40)\\u003cbr\\u003e\\u003cbr\\u003e\\u003cbr\\u003e\\u003cb\\u003eDescription:\\u003c\\u002fb\\u003e\\u003cbr\\u003eContact information and call-to-action elements on websites, typically including\\u003cbr\\u003ephone numbers and phrases encouraging visitors to make contact.\\u003cextra\\u003e\\u003c\\u002fextra\\u003e\",\"\\u003cb\\u003eFeature 113394\\u003c\\u002fb\\u003e\\u003cbr\\u003eBase Mean Activation: 0.0566\\u003cbr\\u003eInstruct Mean Activation: 0.0000\\u003cbr\\u003eDifference: -0.0566\\u003cbr\\u003e\\u003cbr\\u003e\\u003cb\\u003eIntrospective prompt-exclusive feature for Base\\u003c\\u002fb\\u003e\\u003cbr\\u003eBase Introspective: 2.5% (1\\u002f40)\\u003cbr\\u003eBase Control: 0.0% (0\\u002f40)\\u003cbr\\u003eInstruct Introspective: 0.0% (0\\u002f40)\\u003cbr\\u003eInstruct Control: 0.0% (0\\u002f40)\\u003cbr\\u003e\\u003cbr\\u003e\\u003cbr\\u003e\\u003cb\\u003eDescription:\\u003c\\u002fb\\u003e\\u003cbr\\u003eWebsite interface elements and user profile information typically found in\\u003cbr\\u003esocial media platforms, blogs, forums, and online profiles.\\u003cextra\\u003e\\u003c\\u002fextra\\u003e\",\"\\u003cb\\u003eFeature 114705\\u003c\\u002fb\\u003e\\u003cbr\\u003eBase Mean Activation: 0.1734\\u003cbr\\u003eInstruct Mean Activation: 0.0000\\u003cbr\\u003eDifference: -0.1734\\u003cbr\\u003e\\u003cbr\\u003e\\u003cb\\u003eIntrospective prompt-exclusive feature for Base\\u003c\\u002fb\\u003e\\u003cbr\\u003eBase Introspective: 7.5% (3\\u002f40)\\u003cbr\\u003eBase Control: 0.0% (0\\u002f40)\\u003cbr\\u003eInstruct Introspective: 0.0% (0\\u002f40)\\u003cbr\\u003eInstruct Control: 0.0% (0\\u002f40)\\u003cbr\\u003e\\u003cbr\\u003e\\u003cbr\\u003e\\u003cb\\u003eDescription:\\u003c\\u002fb\\u003e\\u003cbr\\u003eGreeting phrases and their terminal punctuation that typically appear at the\\u003cbr\\u003ebeginning of text segments addressing readers or audience.\\u003cextra\\u003e\\u003c\\u002fextra\\u003e\",\"\\u003cb\\u003eFeature 114835\\u003c\\u002fb\\u003e\\u003cbr\\u003eBase Mean Activation: 0.0578\\u003cbr\\u003eInstruct Mean Activation: 0.0000\\u003cbr\\u003eDifference: -0.0578\\u003cbr\\u003e\\u003cbr\\u003e\\u003cb\\u003eIntrospective prompt-exclusive feature for Base\\u003c\\u002fb\\u003e\\u003cbr\\u003eBase Introspective: 2.5% (1\\u002f40)\\u003cbr\\u003eBase Control: 0.0% (0\\u002f40)\\u003cbr\\u003eInstruct Introspective: 0.0% (0\\u002f40)\\u003cbr\\u003eInstruct Control: 0.0% (0\\u002f40)\\u003cbr\\u003e\\u003cbr\\u003e\\u003cbr\\u003e\\u003cb\\u003eDescription:\\u003c\\u002fb\\u003e\\u003cbr\\u003eSection or category headers that appear isolated on their own lines in\\u003cbr\\u003estructured documents.\\u003cextra\\u003e\\u003c\\u002fextra\\u003e\",\"\\u003cb\\u003eFeature 115804\\u003c\\u002fb\\u003e\\u003cbr\\u003eBase Mean Activation: 0.1633\\u003cbr\\u003eInstruct Mean Activation: 0.0000\\u003cbr\\u003eDifference: -0.1633\\u003cbr\\u003e\\u003cbr\\u003e\\u003cb\\u003eIntrospective prompt-exclusive feature for Base\\u003c\\u002fb\\u003e\\u003cbr\\u003eBase Introspective: 7.5% (3\\u002f40)\\u003cbr\\u003eBase Control: 0.0% (0\\u002f40)\\u003cbr\\u003eInstruct Introspective: 0.0% (0\\u002f40)\\u003cbr\\u003eInstruct Control: 0.0% (0\\u002f40)\\u003cbr\\u003e\\u003cbr\\u003e\\u003cbr\\u003e\\u003cb\\u003eDescription:\\u003c\\u002fb\\u003e\\u003cbr\\u003eHTML elements, navigation markers, or numeric indicators that serve as\\u003cbr\\u003estructural components in web content.\\u003cextra\\u003e\\u003c\\u002fextra\\u003e\",\"\\u003cb\\u003eFeature 126861\\u003c\\u002fb\\u003e\\u003cbr\\u003eBase Mean Activation: 0.1160\\u003cbr\\u003eInstruct Mean Activation: 0.0000\\u003cbr\\u003eDifference: -0.1160\\u003cbr\\u003e\\u003cbr\\u003e\\u003cb\\u003eIntrospective prompt-exclusive feature for Base\\u003c\\u002fb\\u003e\\u003cbr\\u003eBase Introspective: 5.0% (2\\u002f40)\\u003cbr\\u003eBase Control: 0.0% (0\\u002f40)\\u003cbr\\u003eInstruct Introspective: 0.0% (0\\u002f40)\\u003cbr\\u003eInstruct Control: 0.0% (0\\u002f40)\\u003cbr\\u003e\\u003cbr\\u003e\\u003cbr\\u003e\\u003cb\\u003eDescription:\\u003c\\u002fb\\u003e\\u003cbr\\u003eDirect address or vocatives in text where a person is called by name\\u002ftitle\\u003cbr\\u003efollowed by punctuation, typically a comma.\\u003cextra\\u003e\\u003c\\u002fextra\\u003e\"],\"legendgroup\":\"newline\",\"legendgrouptitle\":{\"text\":\"newline\"},\"marker\":{\"color\":\"#45B7D1\",\"line\":{\"color\":\"black\",\"width\":0.3},\"opacity\":0.7,\"size\":6,\"symbol\":\"circle\"},\"mode\":\"markers\",\"name\":\"  Base Introspective\",\"text\":[\"Feature 3187\",\"Feature 10910\",\"Feature 30141\",\"Feature 31836\",\"Feature 32747\",\"Feature 35545\",\"Feature 38730\",\"Feature 42690\",\"Feature 43567\",\"Feature 45438\",\"Feature 45539\",\"Feature 46976\",\"Feature 47393\",\"Feature 48821\",\"Feature 49692\",\"Feature 51248\",\"Feature 54584\",\"Feature 55090\",\"Feature 70701\",\"Feature 77380\",\"Feature 77387\",\"Feature 78562\",\"Feature 82549\",\"Feature 87080\",\"Feature 98090\",\"Feature 113394\",\"Feature 114705\",\"Feature 114835\",\"Feature 115804\",\"Feature 126861\"],\"x\":[0.1953125,0.049609374,0.12148438,0.10273437,0.048828125,0.30976564,0.055859376,0.058203124,0.048046876,0.0609375,0.04902344,0.04863281,0.19375,0.053515624,0.049609374,0.2611328,0.10566406,0.24960938,0.153125,0.048828125,0.048046876,0.051171876,0.06367187,0.051953126,0.6910156,0.056640625,0.1734375,0.0578125,0.16328125,0.11601563],\"y\":[0.0,0.0,0.0,0.0,0.0,0.0,0.0,0.0,0.0,0.0,0.0,0.0,0.0,0.0,0.0,0.0,0.0,0.0,0.0,0.0,0.0,0.0,0.0,0.0,0.0,0.0,0.0,0.0,0.0,0.0],\"type\":\"scattergl\"},{\"customdata\":[\"https:\\u002f\\u002fwww.neuronpedia.org\\u002fllama3.1-8b\\u002f17-llamascope-res-131k\\u002f4359\",\"https:\\u002f\\u002fwww.neuronpedia.org\\u002fllama3.1-8b\\u002f17-llamascope-res-131k\\u002f5202\",\"https:\\u002f\\u002fwww.neuronpedia.org\\u002fllama3.1-8b\\u002f17-llamascope-res-131k\\u002f7583\"],\"hoverlabel\":{\"bgcolor\":\"#45B7D1\",\"bordercolor\":\"black\",\"font\":{\"color\":\"white\",\"family\":\"Arial\",\"size\":12}},\"hovertemplate\":[\"\\u003cb\\u003eFeature 4359\\u003c\\u002fb\\u003e\\u003cbr\\u003eBase Mean Activation: 0.0629\\u003cbr\\u003eInstruct Mean Activation: 0.0000\\u003cbr\\u003eDifference: -0.0629\\u003cbr\\u003e\\u003cbr\\u003e\\u003cb\\u003eIntrospective prompt-exclusive feature for Base\\u003cbr\\u003eThis feature is also active on the Instruct model's control prompts\\u003c\\u002fb\\u003e\\u003cbr\\u003eBase Introspective: 2.5% (1\\u002f40)\\u003cbr\\u003eBase Control: 0.0% (0\\u002f40)\\u003cbr\\u003eInstruct Introspective: 0.0% (0\\u002f40)\\u003cbr\\u003eInstruct Control: 2.5% (1\\u002f40)\\u003cbr\\u003e\\u003cbr\\u003e\\u003cbr\\u003e\\u003cb\\u003eDescription:\\u003c\\u002fb\\u003e\\u003cbr\\u003eQuestion marks at the end of direct questions, particularly those beginning with\\u003cbr\\u003e\\\"how\\\" or asking about methods\\u002fapproaches to accomplish something.\\u003cextra\\u003e\\u003c\\u002fextra\\u003e\",\"\\u003cb\\u003eFeature 5202\\u003c\\u002fb\\u003e\\u003cbr\\u003eBase Mean Activation: 0.0559\\u003cbr\\u003eInstruct Mean Activation: 0.5000\\u003cbr\\u003eDifference: 0.4441\\u003cbr\\u003e\\u003cbr\\u003e\\u003cb\\u003eIntrospective prompt-exclusive feature for Base\\u003cbr\\u003eThis feature is also active on the Instruct model's control prompts\\u003c\\u002fb\\u003e\\u003cbr\\u003eBase Introspective: 2.5% (1\\u002f40)\\u003cbr\\u003eBase Control: 0.0% (0\\u002f40)\\u003cbr\\u003eInstruct Introspective: 17.5% (7\\u002f40)\\u003cbr\\u003eInstruct Control: 2.5% (1\\u002f40)\\u003cbr\\u003e\\u003cbr\\u003e\\u003cbr\\u003e\\u003cb\\u003eDescription:\\u003c\\u002fb\\u003e\\u003cbr\\u003eFunction words that indicate uncertainty, conditionality, or appear in\\u003cbr\\u003equestion-answer contexts.\\u003cextra\\u003e\\u003c\\u002fextra\\u003e\",\"\\u003cb\\u003eFeature 7583\\u003c\\u002fb\\u003e\\u003cbr\\u003eBase Mean Activation: 0.0660\\u003cbr\\u003eInstruct Mean Activation: 0.5641\\u003cbr\\u003eDifference: 0.4980\\u003cbr\\u003e\\u003cbr\\u003e\\u003cb\\u003eIntrospective prompt-exclusive feature for Base\\u003cbr\\u003eThis feature is also active on the Instruct model's control prompts\\u003c\\u002fb\\u003e\\u003cbr\\u003eBase Introspective: 2.5% (1\\u002f40)\\u003cbr\\u003eBase Control: 0.0% (0\\u002f40)\\u003cbr\\u003eInstruct Introspective: 17.5% (7\\u002f40)\\u003cbr\\u003eInstruct Control: 5.0% (2\\u002f40)\\u003cbr\\u003e\\u003cbr\\u003e\\u003cbr\\u003e\\u003cb\\u003eDescription:\\u003c\\u002fb\\u003e\\u003cbr\\u003eWords or phrases that introduce or connect descriptions, definitions, or\\u003cbr\\u003echaracterizations of people, things, or concepts.\\u003cextra\\u003e\\u003c\\u002fextra\\u003e\"],\"legendgroup\":\"newline\",\"legendgrouptitle\":{\"text\":\"newline\"},\"marker\":{\"color\":\"#45B7D1\",\"line\":{\"color\":\"red\",\"width\":1},\"opacity\":0.7,\"size\":6,\"symbol\":\"circle\"},\"mode\":\"markers\",\"name\":\"  Base Introspective + Instruct Control\",\"text\":[\"Feature 4359\",\"Feature 5202\",\"Feature 7583\"],\"x\":[0.06289063,0.055859376,0.06601562],\"y\":[0.0,0.5,0.5640625],\"type\":\"scattergl\"},{\"customdata\":[\"https:\\u002f\\u002fwww.neuronpedia.org\\u002fllama3.1-8b\\u002f17-llamascope-res-131k\\u002f1147\",\"https:\\u002f\\u002fwww.neuronpedia.org\\u002fllama3.1-8b\\u002f17-llamascope-res-131k\\u002f2083\",\"https:\\u002f\\u002fwww.neuronpedia.org\\u002fllama3.1-8b\\u002f17-llamascope-res-131k\\u002f2462\",\"https:\\u002f\\u002fwww.neuronpedia.org\\u002fllama3.1-8b\\u002f17-llamascope-res-131k\\u002f2953\",\"https:\\u002f\\u002fwww.neuronpedia.org\\u002fllama3.1-8b\\u002f17-llamascope-res-131k\\u002f4584\",\"https:\\u002f\\u002fwww.neuronpedia.org\\u002fllama3.1-8b\\u002f17-llamascope-res-131k\\u002f6035\",\"https:\\u002f\\u002fwww.neuronpedia.org\\u002fllama3.1-8b\\u002f17-llamascope-res-131k\\u002f6761\",\"https:\\u002f\\u002fwww.neuronpedia.org\\u002fllama3.1-8b\\u002f17-llamascope-res-131k\\u002f6901\",\"https:\\u002f\\u002fwww.neuronpedia.org\\u002fllama3.1-8b\\u002f17-llamascope-res-131k\\u002f9870\",\"https:\\u002f\\u002fwww.neuronpedia.org\\u002fllama3.1-8b\\u002f17-llamascope-res-131k\\u002f10390\",\"https:\\u002f\\u002fwww.neuronpedia.org\\u002fllama3.1-8b\\u002f17-llamascope-res-131k\\u002f13486\",\"https:\\u002f\\u002fwww.neuronpedia.org\\u002fllama3.1-8b\\u002f17-llamascope-res-131k\\u002f14726\",\"https:\\u002f\\u002fwww.neuronpedia.org\\u002fllama3.1-8b\\u002f17-llamascope-res-131k\\u002f15467\",\"https:\\u002f\\u002fwww.neuronpedia.org\\u002fllama3.1-8b\\u002f17-llamascope-res-131k\\u002f17112\",\"https:\\u002f\\u002fwww.neuronpedia.org\\u002fllama3.1-8b\\u002f17-llamascope-res-131k\\u002f18388\",\"https:\\u002f\\u002fwww.neuronpedia.org\\u002fllama3.1-8b\\u002f17-llamascope-res-131k\\u002f20917\",\"https:\\u002f\\u002fwww.neuronpedia.org\\u002fllama3.1-8b\\u002f17-llamascope-res-131k\\u002f22997\",\"https:\\u002f\\u002fwww.neuronpedia.org\\u002fllama3.1-8b\\u002f17-llamascope-res-131k\\u002f26775\",\"https:\\u002f\\u002fwww.neuronpedia.org\\u002fllama3.1-8b\\u002f17-llamascope-res-131k\\u002f29447\",\"https:\\u002f\\u002fwww.neuronpedia.org\\u002fllama3.1-8b\\u002f17-llamascope-res-131k\\u002f29527\",\"https:\\u002f\\u002fwww.neuronpedia.org\\u002fllama3.1-8b\\u002f17-llamascope-res-131k\\u002f30149\",\"https:\\u002f\\u002fwww.neuronpedia.org\\u002fllama3.1-8b\\u002f17-llamascope-res-131k\\u002f34740\",\"https:\\u002f\\u002fwww.neuronpedia.org\\u002fllama3.1-8b\\u002f17-llamascope-res-131k\\u002f38590\",\"https:\\u002f\\u002fwww.neuronpedia.org\\u002fllama3.1-8b\\u002f17-llamascope-res-131k\\u002f40127\",\"https:\\u002f\\u002fwww.neuronpedia.org\\u002fllama3.1-8b\\u002f17-llamascope-res-131k\\u002f46377\",\"https:\\u002f\\u002fwww.neuronpedia.org\\u002fllama3.1-8b\\u002f17-llamascope-res-131k\\u002f46416\",\"https:\\u002f\\u002fwww.neuronpedia.org\\u002fllama3.1-8b\\u002f17-llamascope-res-131k\\u002f47913\",\"https:\\u002f\\u002fwww.neuronpedia.org\\u002fllama3.1-8b\\u002f17-llamascope-res-131k\\u002f51131\",\"https:\\u002f\\u002fwww.neuronpedia.org\\u002fllama3.1-8b\\u002f17-llamascope-res-131k\\u002f53398\",\"https:\\u002f\\u002fwww.neuronpedia.org\\u002fllama3.1-8b\\u002f17-llamascope-res-131k\\u002f53757\",\"https:\\u002f\\u002fwww.neuronpedia.org\\u002fllama3.1-8b\\u002f17-llamascope-res-131k\\u002f53929\",\"https:\\u002f\\u002fwww.neuronpedia.org\\u002fllama3.1-8b\\u002f17-llamascope-res-131k\\u002f54710\",\"https:\\u002f\\u002fwww.neuronpedia.org\\u002fllama3.1-8b\\u002f17-llamascope-res-131k\\u002f60428\",\"https:\\u002f\\u002fwww.neuronpedia.org\\u002fllama3.1-8b\\u002f17-llamascope-res-131k\\u002f62985\",\"https:\\u002f\\u002fwww.neuronpedia.org\\u002fllama3.1-8b\\u002f17-llamascope-res-131k\\u002f63052\",\"https:\\u002f\\u002fwww.neuronpedia.org\\u002fllama3.1-8b\\u002f17-llamascope-res-131k\\u002f68024\",\"https:\\u002f\\u002fwww.neuronpedia.org\\u002fllama3.1-8b\\u002f17-llamascope-res-131k\\u002f69907\",\"https:\\u002f\\u002fwww.neuronpedia.org\\u002fllama3.1-8b\\u002f17-llamascope-res-131k\\u002f71479\",\"https:\\u002f\\u002fwww.neuronpedia.org\\u002fllama3.1-8b\\u002f17-llamascope-res-131k\\u002f71571\",\"https:\\u002f\\u002fwww.neuronpedia.org\\u002fllama3.1-8b\\u002f17-llamascope-res-131k\\u002f71596\",\"https:\\u002f\\u002fwww.neuronpedia.org\\u002fllama3.1-8b\\u002f17-llamascope-res-131k\\u002f72343\",\"https:\\u002f\\u002fwww.neuronpedia.org\\u002fllama3.1-8b\\u002f17-llamascope-res-131k\\u002f72888\",\"https:\\u002f\\u002fwww.neuronpedia.org\\u002fllama3.1-8b\\u002f17-llamascope-res-131k\\u002f76484\",\"https:\\u002f\\u002fwww.neuronpedia.org\\u002fllama3.1-8b\\u002f17-llamascope-res-131k\\u002f77099\",\"https:\\u002f\\u002fwww.neuronpedia.org\\u002fllama3.1-8b\\u002f17-llamascope-res-131k\\u002f77926\",\"https:\\u002f\\u002fwww.neuronpedia.org\\u002fllama3.1-8b\\u002f17-llamascope-res-131k\\u002f79313\",\"https:\\u002f\\u002fwww.neuronpedia.org\\u002fllama3.1-8b\\u002f17-llamascope-res-131k\\u002f82107\",\"https:\\u002f\\u002fwww.neuronpedia.org\\u002fllama3.1-8b\\u002f17-llamascope-res-131k\\u002f83499\",\"https:\\u002f\\u002fwww.neuronpedia.org\\u002fllama3.1-8b\\u002f17-llamascope-res-131k\\u002f87194\",\"https:\\u002f\\u002fwww.neuronpedia.org\\u002fllama3.1-8b\\u002f17-llamascope-res-131k\\u002f87963\",\"https:\\u002f\\u002fwww.neuronpedia.org\\u002fllama3.1-8b\\u002f17-llamascope-res-131k\\u002f91632\",\"https:\\u002f\\u002fwww.neuronpedia.org\\u002fllama3.1-8b\\u002f17-llamascope-res-131k\\u002f93786\",\"https:\\u002f\\u002fwww.neuronpedia.org\\u002fllama3.1-8b\\u002f17-llamascope-res-131k\\u002f93822\",\"https:\\u002f\\u002fwww.neuronpedia.org\\u002fllama3.1-8b\\u002f17-llamascope-res-131k\\u002f97597\",\"https:\\u002f\\u002fwww.neuronpedia.org\\u002fllama3.1-8b\\u002f17-llamascope-res-131k\\u002f98375\",\"https:\\u002f\\u002fwww.neuronpedia.org\\u002fllama3.1-8b\\u002f17-llamascope-res-131k\\u002f98790\",\"https:\\u002f\\u002fwww.neuronpedia.org\\u002fllama3.1-8b\\u002f17-llamascope-res-131k\\u002f99666\",\"https:\\u002f\\u002fwww.neuronpedia.org\\u002fllama3.1-8b\\u002f17-llamascope-res-131k\\u002f100435\",\"https:\\u002f\\u002fwww.neuronpedia.org\\u002fllama3.1-8b\\u002f17-llamascope-res-131k\\u002f103654\",\"https:\\u002f\\u002fwww.neuronpedia.org\\u002fllama3.1-8b\\u002f17-llamascope-res-131k\\u002f108425\",\"https:\\u002f\\u002fwww.neuronpedia.org\\u002fllama3.1-8b\\u002f17-llamascope-res-131k\\u002f112711\",\"https:\\u002f\\u002fwww.neuronpedia.org\\u002fllama3.1-8b\\u002f17-llamascope-res-131k\\u002f113883\",\"https:\\u002f\\u002fwww.neuronpedia.org\\u002fllama3.1-8b\\u002f17-llamascope-res-131k\\u002f114838\",\"https:\\u002f\\u002fwww.neuronpedia.org\\u002fllama3.1-8b\\u002f17-llamascope-res-131k\\u002f119549\",\"https:\\u002f\\u002fwww.neuronpedia.org\\u002fllama3.1-8b\\u002f17-llamascope-res-131k\\u002f121829\",\"https:\\u002f\\u002fwww.neuronpedia.org\\u002fllama3.1-8b\\u002f17-llamascope-res-131k\\u002f123433\",\"https:\\u002f\\u002fwww.neuronpedia.org\\u002fllama3.1-8b\\u002f17-llamascope-res-131k\\u002f125138\",\"https:\\u002f\\u002fwww.neuronpedia.org\\u002fllama3.1-8b\\u002f17-llamascope-res-131k\\u002f128819\",\"https:\\u002f\\u002fwww.neuronpedia.org\\u002fllama3.1-8b\\u002f17-llamascope-res-131k\\u002f130469\"],\"hoverlabel\":{\"bgcolor\":\"#45B7D1\",\"bordercolor\":\"black\",\"font\":{\"color\":\"white\",\"family\":\"Arial\",\"size\":12}},\"hovertemplate\":[\"\\u003cb\\u003eFeature 1147\\u003c\\u002fb\\u003e\\u003cbr\\u003eBase Mean Activation: 0.0000\\u003cbr\\u003eInstruct Mean Activation: 0.0711\\u003cbr\\u003eDifference: 0.0711\\u003cbr\\u003e\\u003cbr\\u003e\\u003cb\\u003eIntrospective prompt-exclusive feature for Instruct\\u003c\\u002fb\\u003e\\u003cbr\\u003eBase Introspective: 0.0% (0\\u002f40)\\u003cbr\\u003eBase Control: 0.0% (0\\u002f40)\\u003cbr\\u003eInstruct Introspective: 2.5% (1\\u002f40)\\u003cbr\\u003eInstruct Control: 0.0% (0\\u002f40)\\u003cbr\\u003e\\u003cbr\\u003e\\u003cbr\\u003e\\u003cb\\u003eDescription:\\u003c\\u002fb\\u003e\\u003cbr\\u003eWords and phrases that describe classic, traditional, or widely recognized\\u003cbr\\u003eitems, concepts, or experiences - often in product descriptions, reviews, or\\u003cbr\\u003ecultural contexts.\\u003cextra\\u003e\\u003c\\u002fextra\\u003e\",\"\\u003cb\\u003eFeature 2083\\u003c\\u002fb\\u003e\\u003cbr\\u003eBase Mean Activation: 0.0000\\u003cbr\\u003eInstruct Mean Activation: 0.1070\\u003cbr\\u003eDifference: 0.1070\\u003cbr\\u003e\\u003cbr\\u003e\\u003cb\\u003eIntrospective prompt-exclusive feature for Instruct\\u003c\\u002fb\\u003e\\u003cbr\\u003eBase Introspective: 0.0% (0\\u002f40)\\u003cbr\\u003eBase Control: 0.0% (0\\u002f40)\\u003cbr\\u003eInstruct Introspective: 2.5% (1\\u002f40)\\u003cbr\\u003eInstruct Control: 0.0% (0\\u002f40)\\u003cbr\\u003e\\u003cbr\\u003e\\u003cbr\\u003e\\u003cb\\u003eDescription:\\u003c\\u002fb\\u003e\\u003cbr\\u003eCommon conversational phrases, idioms, and figures of speech that add informal\\u003cbr\\u003etone to the text, often appearing before or within quotations.\\u003cextra\\u003e\\u003c\\u002fextra\\u003e\",\"\\u003cb\\u003eFeature 2462\\u003c\\u002fb\\u003e\\u003cbr\\u003eBase Mean Activation: 0.0000\\u003cbr\\u003eInstruct Mean Activation: 0.0480\\u003cbr\\u003eDifference: 0.0480\\u003cbr\\u003e\\u003cbr\\u003e\\u003cb\\u003eIntrospective prompt-exclusive feature for Instruct\\u003c\\u002fb\\u003e\\u003cbr\\u003eBase Introspective: 0.0% (0\\u002f40)\\u003cbr\\u003eBase Control: 0.0% (0\\u002f40)\\u003cbr\\u003eInstruct Introspective: 2.5% (1\\u002f40)\\u003cbr\\u003eInstruct Control: 0.0% (0\\u002f40)\\u003cbr\\u003e\\u003cbr\\u003e\\u003cbr\\u003e\\u003cb\\u003eDescription:\\u003c\\u002fb\\u003e\\u003cbr\\u003ePeriods\\u002ffull stops at the end of a sentence or paragraph, often preceding the\\u003cbr\\u003estart of a new topic or section.\\u003cextra\\u003e\\u003c\\u002fextra\\u003e\",\"\\u003cb\\u003eFeature 2953\\u003c\\u002fb\\u003e\\u003cbr\\u003eBase Mean Activation: 0.0000\\u003cbr\\u003eInstruct Mean Activation: 0.0703\\u003cbr\\u003eDifference: 0.0703\\u003cbr\\u003e\\u003cbr\\u003e\\u003cb\\u003eIntrospective prompt-exclusive feature for Instruct\\u003c\\u002fb\\u003e\\u003cbr\\u003eBase Introspective: 0.0% (0\\u002f40)\\u003cbr\\u003eBase Control: 0.0% (0\\u002f40)\\u003cbr\\u003eInstruct Introspective: 2.5% (1\\u002f40)\\u003cbr\\u003eInstruct Control: 0.0% (0\\u002f40)\\u003cbr\\u003e\\u003cbr\\u003e\\u003cbr\\u003e\\u003cb\\u003eDescription:\\u003c\\u002fb\\u003e\\u003cbr\\u003eOpening parenthesis that begins an aside, often containing a joke, pun,\\u003cbr\\u003eclarification, or additional commentary that interrupts the main text flow with\\u003cbr\\u003ea casual or conversational tone.\\u003cextra\\u003e\\u003c\\u002fextra\\u003e\",\"\\u003cb\\u003eFeature 4584\\u003c\\u002fb\\u003e\\u003cbr\\u003eBase Mean Activation: 0.0000\\u003cbr\\u003eInstruct Mean Activation: 0.1156\\u003cbr\\u003eDifference: 0.1156\\u003cbr\\u003e\\u003cbr\\u003e\\u003cb\\u003eIntrospective prompt-exclusive feature for Instruct\\u003c\\u002fb\\u003e\\u003cbr\\u003eBase Introspective: 0.0% (0\\u002f40)\\u003cbr\\u003eBase Control: 0.0% (0\\u002f40)\\u003cbr\\u003eInstruct Introspective: 5.0% (2\\u002f40)\\u003cbr\\u003eInstruct Control: 0.0% (0\\u002f40)\\u003cbr\\u003e\\u003cbr\\u003e\\u003cbr\\u003e\\u003cb\\u003eDescription:\\u003c\\u002fb\\u003e\\u003cbr\\u003eLaTeX formatting commands and mathematical notation in scientific\\u002ftechnical\\u003cbr\\u003ewriting, particularly variable definitions and equation elements.\\u003cextra\\u003e\\u003c\\u002fextra\\u003e\",\"\\u003cb\\u003eFeature 6035\\u003c\\u002fb\\u003e\\u003cbr\\u003eBase Mean Activation: 0.0000\\u003cbr\\u003eInstruct Mean Activation: 0.0480\\u003cbr\\u003eDifference: 0.0480\\u003cbr\\u003e\\u003cbr\\u003e\\u003cb\\u003eIntrospective prompt-exclusive feature for Instruct\\u003c\\u002fb\\u003e\\u003cbr\\u003eBase Introspective: 0.0% (0\\u002f40)\\u003cbr\\u003eBase Control: 0.0% (0\\u002f40)\\u003cbr\\u003eInstruct Introspective: 2.5% (1\\u002f40)\\u003cbr\\u003eInstruct Control: 0.0% (0\\u002f40)\\u003cbr\\u003e\\u003cbr\\u003e\\u003cbr\\u003e\\u003cb\\u003eDescription:\\u003c\\u002fb\\u003e\\u003cbr\\u003eText referring to current or upcoming time periods using words like \\\"this\\\" or\\u003cbr\\u003e\\\"this will\\\" often followed by temporal markers like \\\"summer,\\\" \\\"year,\\\" \\\"fall,\\\" or\\u003cbr\\u003eordinal indicators, typically in biographical descriptions or introductions.\\u003cextra\\u003e\\u003c\\u002fextra\\u003e\",\"\\u003cb\\u003eFeature 6761\\u003c\\u002fb\\u003e\\u003cbr\\u003eBase Mean Activation: 0.0000\\u003cbr\\u003eInstruct Mean Activation: 0.0496\\u003cbr\\u003eDifference: 0.0496\\u003cbr\\u003e\\u003cbr\\u003e\\u003cb\\u003eIntrospective prompt-exclusive feature for Instruct\\u003c\\u002fb\\u003e\\u003cbr\\u003eBase Introspective: 0.0% (0\\u002f40)\\u003cbr\\u003eBase Control: 0.0% (0\\u002f40)\\u003cbr\\u003eInstruct Introspective: 2.5% (1\\u002f40)\\u003cbr\\u003eInstruct Control: 0.0% (0\\u002f40)\\u003cbr\\u003e\\u003cbr\\u003e\\u003cbr\\u003e\\u003cb\\u003eDescription:\\u003c\\u002fb\\u003e\\u003cbr\\u003eReferences to loneliness, isolation, or the value of companionship, often\\u003cbr\\u003ediscussing how social connection or pets can combat feelings of being alone.\\u003cextra\\u003e\\u003c\\u002fextra\\u003e\",\"\\u003cb\\u003eFeature 6901\\u003c\\u002fb\\u003e\\u003cbr\\u003eBase Mean Activation: 0.0000\\u003cbr\\u003eInstruct Mean Activation: 0.0961\\u003cbr\\u003eDifference: 0.0961\\u003cbr\\u003e\\u003cbr\\u003e\\u003cb\\u003eIntrospective prompt-exclusive feature for Instruct\\u003c\\u002fb\\u003e\\u003cbr\\u003eBase Introspective: 0.0% (0\\u002f40)\\u003cbr\\u003eBase Control: 0.0% (0\\u002f40)\\u003cbr\\u003eInstruct Introspective: 5.0% (2\\u002f40)\\u003cbr\\u003eInstruct Control: 0.0% (0\\u002f40)\\u003cbr\\u003e\\u003cbr\\u003e\\u003cbr\\u003e\\u003cb\\u003eDescription:\\u003c\\u002fb\\u003e\\u003cbr\\u003eProgramming and technical terminology related to software development,\\u003cbr\\u003eparticularly focusing on code structures like middleware, optimization\\u003cbr\\u003ealgorithms, data structures, interfaces, synchronization primitives (locks,\\u003cbr\\u003emutexes), and numerical methods in various programming languages.\\u003cextra\\u003e\\u003c\\u002fextra\\u003e\",\"\\u003cb\\u003eFeature 9870\\u003c\\u002fb\\u003e\\u003cbr\\u003eBase Mean Activation: 0.0000\\u003cbr\\u003eInstruct Mean Activation: 0.0586\\u003cbr\\u003eDifference: 0.0586\\u003cbr\\u003e\\u003cbr\\u003e\\u003cb\\u003eIntrospective prompt-exclusive feature for Instruct\\u003c\\u002fb\\u003e\\u003cbr\\u003eBase Introspective: 0.0% (0\\u002f40)\\u003cbr\\u003eBase Control: 0.0% (0\\u002f40)\\u003cbr\\u003eInstruct Introspective: 2.5% (1\\u002f40)\\u003cbr\\u003eInstruct Control: 0.0% (0\\u002f40)\\u003cbr\\u003e\\u003cbr\\u003e\\u003cbr\\u003e\\u003cb\\u003eDescription:\\u003c\\u002fb\\u003e\\u003cbr\\u003eText referring to information that is being deliberately withheld, kept\\u003cbr\\u003econfidential, or not fully disclosed due to privacy concerns, contractual\\u003cbr\\u003eobligations, or future planned revelations.\\u003cextra\\u003e\\u003c\\u002fextra\\u003e\",\"\\u003cb\\u003eFeature 10390\\u003c\\u002fb\\u003e\\u003cbr\\u003eBase Mean Activation: 0.0000\\u003cbr\\u003eInstruct Mean Activation: 0.0578\\u003cbr\\u003eDifference: 0.0578\\u003cbr\\u003e\\u003cbr\\u003e\\u003cb\\u003eIntrospective prompt-exclusive feature for Instruct\\u003c\\u002fb\\u003e\\u003cbr\\u003eBase Introspective: 0.0% (0\\u002f40)\\u003cbr\\u003eBase Control: 0.0% (0\\u002f40)\\u003cbr\\u003eInstruct Introspective: 2.5% (1\\u002f40)\\u003cbr\\u003eInstruct Control: 0.0% (0\\u002f40)\\u003cbr\\u003e\\u003cbr\\u003e\\u003cbr\\u003e\\u003cb\\u003eDescription:\\u003c\\u002fb\\u003e\\u003cbr\\u003eSection headers or question prompts in informational text, often followed by a\\u003cbr\\u003ecolon or question mark and then the corresponding detailed content.\\u003cextra\\u003e\\u003c\\u002fextra\\u003e\",\"\\u003cb\\u003eFeature 13486\\u003c\\u002fb\\u003e\\u003cbr\\u003eBase Mean Activation: 0.0000\\u003cbr\\u003eInstruct Mean Activation: 0.0516\\u003cbr\\u003eDifference: 0.0516\\u003cbr\\u003e\\u003cbr\\u003e\\u003cb\\u003eIntrospective prompt-exclusive feature for Instruct\\u003c\\u002fb\\u003e\\u003cbr\\u003eBase Introspective: 0.0% (0\\u002f40)\\u003cbr\\u003eBase Control: 0.0% (0\\u002f40)\\u003cbr\\u003eInstruct Introspective: 2.5% (1\\u002f40)\\u003cbr\\u003eInstruct Control: 0.0% (0\\u002f40)\\u003cbr\\u003e\\u003cbr\\u003e\\u003cbr\\u003e\\u003cb\\u003eDescription:\\u003c\\u002fb\\u003e\\u003cbr\\u003eWords and phrases related to having a particular perspective, vantage point, or\\u003cbr\\u003eprivileged access to information that allows for broader understanding or\\u003cbr\\u003einsight.\\u003cextra\\u003e\\u003c\\u002fextra\\u003e\",\"\\u003cb\\u003eFeature 14726\\u003c\\u002fb\\u003e\\u003cbr\\u003eBase Mean Activation: 0.0000\\u003cbr\\u003eInstruct Mean Activation: 0.0523\\u003cbr\\u003eDifference: 0.0523\\u003cbr\\u003e\\u003cbr\\u003e\\u003cb\\u003eIntrospective prompt-exclusive feature for Instruct\\u003c\\u002fb\\u003e\\u003cbr\\u003eBase Introspective: 0.0% (0\\u002f40)\\u003cbr\\u003eBase Control: 0.0% (0\\u002f40)\\u003cbr\\u003eInstruct Introspective: 2.5% (1\\u002f40)\\u003cbr\\u003eInstruct Control: 0.0% (0\\u002f40)\\u003cbr\\u003e\\u003cbr\\u003e\\u003cbr\\u003e\\u003cb\\u003eDescription:\\u003c\\u002fb\\u003e\\u003cbr\\u003eText describing lived experiences, social contexts, or physical environments of\\u003cbr\\u003epeople in specific historical or cultural settings.\\u003cextra\\u003e\\u003c\\u002fextra\\u003e\",\"\\u003cb\\u003eFeature 15467\\u003c\\u002fb\\u003e\\u003cbr\\u003eBase Mean Activation: 0.0000\\u003cbr\\u003eInstruct Mean Activation: 0.0582\\u003cbr\\u003eDifference: 0.0582\\u003cbr\\u003e\\u003cbr\\u003e\\u003cb\\u003eIntrospective prompt-exclusive feature for Instruct\\u003c\\u002fb\\u003e\\u003cbr\\u003eBase Introspective: 0.0% (0\\u002f40)\\u003cbr\\u003eBase Control: 0.0% (0\\u002f40)\\u003cbr\\u003eInstruct Introspective: 2.5% (1\\u002f40)\\u003cbr\\u003eInstruct Control: 0.0% (0\\u002f40)\\u003cbr\\u003e\\u003cbr\\u003e\\u003cbr\\u003e\\u003cb\\u003eDescription:\\u003c\\u002fb\\u003e\\u003cbr\\u003eFirst-person pronouns followed by expressions of interest or desire for reader\\u003cbr\\u003eengagement, typically appearing in closing sections of online content where\\u003cbr\\u003eauthors actively solicit feedback or participation.\\u003cextra\\u003e\\u003c\\u002fextra\\u003e\",\"\\u003cb\\u003eFeature 17112\\u003c\\u002fb\\u003e\\u003cbr\\u003eBase Mean Activation: 0.0000\\u003cbr\\u003eInstruct Mean Activation: 0.8658\\u003cbr\\u003eDifference: 0.8658\\u003cbr\\u003e\\u003cbr\\u003e\\u003cb\\u003eIntrospective prompt-exclusive feature for Instruct\\u003c\\u002fb\\u003e\\u003cbr\\u003eBase Introspective: 0.0% (0\\u002f40)\\u003cbr\\u003eBase Control: 0.0% (0\\u002f40)\\u003cbr\\u003eInstruct Introspective: 35.0% (14\\u002f40)\\u003cbr\\u003eInstruct Control: 0.0% (0\\u002f40)\\u003cbr\\u003e\\u003cbr\\u003e\\u003cbr\\u003e\\u003cb\\u003eDescription:\\u003c\\u002fb\\u003e\\u003cbr\\u003eA colon preceding quoted text, typically introducing a formal statement, email,\\u003cbr\\u003eletter, or other direct communication.\\u003cextra\\u003e\\u003c\\u002fextra\\u003e\",\"\\u003cb\\u003eFeature 18388\\u003c\\u002fb\\u003e\\u003cbr\\u003eBase Mean Activation: 0.0000\\u003cbr\\u003eInstruct Mean Activation: 0.1566\\u003cbr\\u003eDifference: 0.1566\\u003cbr\\u003e\\u003cbr\\u003e\\u003cb\\u003eIntrospective prompt-exclusive feature for Instruct\\u003c\\u002fb\\u003e\\u003cbr\\u003eBase Introspective: 0.0% (0\\u002f40)\\u003cbr\\u003eBase Control: 0.0% (0\\u002f40)\\u003cbr\\u003eInstruct Introspective: 7.5% (3\\u002f40)\\u003cbr\\u003eInstruct Control: 0.0% (0\\u002f40)\\u003cbr\\u003e\\u003cbr\\u003e\\u003cbr\\u003e\\u003cb\\u003eDescription:\\u003c\\u002fb\\u003e\\u003cbr\\u003ePhrases containing linking verbs that define or characterize what something is\\u003cbr\\u003eor isn't, often providing clarification about the nature or purpose of the\\u003cbr\\u003esubject.\\u003cextra\\u003e\\u003c\\u002fextra\\u003e\",\"\\u003cb\\u003eFeature 20917\\u003c\\u002fb\\u003e\\u003cbr\\u003eBase Mean Activation: 0.0000\\u003cbr\\u003eInstruct Mean Activation: 3.7734\\u003cbr\\u003eDifference: 3.7734\\u003cbr\\u003e\\u003cbr\\u003e\\u003cb\\u003eIntrospective prompt-exclusive feature for Instruct\\u003c\\u002fb\\u003e\\u003cbr\\u003eBase Introspective: 0.0% (0\\u002f40)\\u003cbr\\u003eBase Control: 0.0% (0\\u002f40)\\u003cbr\\u003eInstruct Introspective: 90.0% (36\\u002f40)\\u003cbr\\u003eInstruct Control: 0.0% (0\\u002f40)\\u003cbr\\u003e\\u003cbr\\u003e\\u003cbr\\u003e\\u003cb\\u003eDescription:\\u003c\\u002fb\\u003e\\u003cbr\\u003eFirst-person and second-person pronouns (I, we, you) that establish the\\u003cbr\\u003espeaker's identity or perspective, often in contexts of self-description or\\u003cbr\\u003edirect address.\\u003cextra\\u003e\\u003c\\u002fextra\\u003e\",\"\\u003cb\\u003eFeature 22997\\u003c\\u002fb\\u003e\\u003cbr\\u003eBase Mean Activation: 0.0000\\u003cbr\\u003eInstruct Mean Activation: 0.4313\\u003cbr\\u003eDifference: 0.4313\\u003cbr\\u003e\\u003cbr\\u003e\\u003cb\\u003eIntrospective prompt-exclusive feature for Instruct\\u003c\\u002fb\\u003e\\u003cbr\\u003eBase Introspective: 0.0% (0\\u002f40)\\u003cbr\\u003eBase Control: 0.0% (0\\u002f40)\\u003cbr\\u003eInstruct Introspective: 15.0% (6\\u002f40)\\u003cbr\\u003eInstruct Control: 0.0% (0\\u002f40)\\u003cbr\\u003e\\u003cbr\\u003e\\u003cbr\\u003e\\u003cb\\u003eDescription:\\u003c\\u002fb\\u003e\\u003cbr\\u003eCommon phrases used in responses about personal or others' well-being, typically\\u003cbr\\u003efollowing inquiries about health or status, often in correspondence or\\u003cbr\\u003econversational contexts.\\u003cextra\\u003e\\u003c\\u002fextra\\u003e\",\"\\u003cb\\u003eFeature 26775\\u003c\\u002fb\\u003e\\u003cbr\\u003eBase Mean Activation: 0.0000\\u003cbr\\u003eInstruct Mean Activation: 0.2812\\u003cbr\\u003eDifference: 0.2812\\u003cbr\\u003e\\u003cbr\\u003e\\u003cb\\u003eIntrospective prompt-exclusive feature for Instruct\\u003c\\u002fb\\u003e\\u003cbr\\u003eBase Introspective: 0.0% (0\\u002f40)\\u003cbr\\u003eBase Control: 0.0% (0\\u002f40)\\u003cbr\\u003eInstruct Introspective: 12.5% (5\\u002f40)\\u003cbr\\u003eInstruct Control: 0.0% (0\\u002f40)\\u003cbr\\u003e\\u003cbr\\u003e\\u003cbr\\u003e\\u003cb\\u003eDescription:\\u003c\\u002fb\\u003e\\u003cbr\\u003eText describing paranormal entities and their physical properties, especially\\u003cbr\\u003ehow they manifest, appear, or interact with the material world.\\u003cextra\\u003e\\u003c\\u002fextra\\u003e\",\"\\u003cb\\u003eFeature 29447\\u003c\\u002fb\\u003e\\u003cbr\\u003eBase Mean Activation: 0.0000\\u003cbr\\u003eInstruct Mean Activation: 0.1695\\u003cbr\\u003eDifference: 0.1695\\u003cbr\\u003e\\u003cbr\\u003e\\u003cb\\u003eIntrospective prompt-exclusive feature for Instruct\\u003c\\u002fb\\u003e\\u003cbr\\u003eBase Introspective: 0.0% (0\\u002f40)\\u003cbr\\u003eBase Control: 0.0% (0\\u002f40)\\u003cbr\\u003eInstruct Introspective: 7.5% (3\\u002f40)\\u003cbr\\u003eInstruct Control: 0.0% (0\\u002f40)\\u003cbr\\u003e\\u003cbr\\u003e\\u003cbr\\u003e\\u003cb\\u003eDescription:\\u003c\\u002fb\\u003e\\u003cbr\\u003eWords or phrases that serve as conceptual transitions or create meaningful\\u003cbr\\u003econnections between ideas in text.\\u003cextra\\u003e\\u003c\\u002fextra\\u003e\",\"\\u003cb\\u003eFeature 29527\\u003c\\u002fb\\u003e\\u003cbr\\u003eBase Mean Activation: 0.0000\\u003cbr\\u003eInstruct Mean Activation: 0.4191\\u003cbr\\u003eDifference: 0.4191\\u003cbr\\u003e\\u003cbr\\u003e\\u003cb\\u003eIntrospective prompt-exclusive feature for Instruct\\u003c\\u002fb\\u003e\\u003cbr\\u003eBase Introspective: 0.0% (0\\u002f40)\\u003cbr\\u003eBase Control: 0.0% (0\\u002f40)\\u003cbr\\u003eInstruct Introspective: 15.0% (6\\u002f40)\\u003cbr\\u003eInstruct Control: 0.0% (0\\u002f40)\\u003cbr\\u003e\\u003cbr\\u003e\\u003cbr\\u003e\\u003cb\\u003eDescription:\\u003c\\u002fb\\u003e\\u003cbr\\u003eText discussing human nature, emphasizing that people or characters have human\\u003cbr\\u003equalities, flaws, vulnerabilities, and imperfections.\\u003cextra\\u003e\\u003c\\u002fextra\\u003e\",\"\\u003cb\\u003eFeature 30149\\u003c\\u002fb\\u003e\\u003cbr\\u003eBase Mean Activation: 0.0000\\u003cbr\\u003eInstruct Mean Activation: 0.3277\\u003cbr\\u003eDifference: 0.3277\\u003cbr\\u003e\\u003cbr\\u003e\\u003cb\\u003eIntrospective prompt-exclusive feature for Instruct\\u003c\\u002fb\\u003e\\u003cbr\\u003eBase Introspective: 0.0% (0\\u002f40)\\u003cbr\\u003eBase Control: 0.0% (0\\u002f40)\\u003cbr\\u003eInstruct Introspective: 15.0% (6\\u002f40)\\u003cbr\\u003eInstruct Control: 0.0% (0\\u002f40)\\u003cbr\\u003e\\u003cbr\\u003e\\u003cbr\\u003e\\u003cb\\u003eDescription:\\u003c\\u002fb\\u003e\\u003cbr\\u003eFunction words (especially \\\"as\\\") that connect clauses providing contextual\\u003cbr\\u003einformation about a person's role, relationship, or explanation for an action.\\u003cextra\\u003e\\u003c\\u002fextra\\u003e\",\"\\u003cb\\u003eFeature 34740\\u003c\\u002fb\\u003e\\u003cbr\\u003eBase Mean Activation: 0.0000\\u003cbr\\u003eInstruct Mean Activation: 0.2207\\u003cbr\\u003eDifference: 0.2207\\u003cbr\\u003e\\u003cbr\\u003e\\u003cb\\u003eIntrospective prompt-exclusive feature for Instruct\\u003c\\u002fb\\u003e\\u003cbr\\u003eBase Introspective: 0.0% (0\\u002f40)\\u003cbr\\u003eBase Control: 0.0% (0\\u002f40)\\u003cbr\\u003eInstruct Introspective: 10.0% (4\\u002f40)\\u003cbr\\u003eInstruct Control: 0.0% (0\\u002f40)\\u003cbr\\u003e\\u003cbr\\u003e\\u003cbr\\u003e\\u003cb\\u003eDescription:\\u003c\\u002fb\\u003e\\u003cbr\\u003eKey words or phrases that complete the meaning of sentences, typically verbs,\\u003cbr\\u003eobjects, or connecting phrases essential for understanding the text.\\u003cextra\\u003e\\u003c\\u002fextra\\u003e\",\"\\u003cb\\u003eFeature 38590\\u003c\\u002fb\\u003e\\u003cbr\\u003eBase Mean Activation: 0.0000\\u003cbr\\u003eInstruct Mean Activation: 0.0539\\u003cbr\\u003eDifference: 0.0539\\u003cbr\\u003e\\u003cbr\\u003e\\u003cb\\u003eIntrospective prompt-exclusive feature for Instruct\\u003c\\u002fb\\u003e\\u003cbr\\u003eBase Introspective: 0.0% (0\\u002f40)\\u003cbr\\u003eBase Control: 0.0% (0\\u002f40)\\u003cbr\\u003eInstruct Introspective: 2.5% (1\\u002f40)\\u003cbr\\u003eInstruct Control: 0.0% (0\\u002f40)\\u003cbr\\u003e\\u003cbr\\u003e\\u003cbr\\u003e\\u003cb\\u003eDescription:\\u003c\\u002fb\\u003e\\u003cbr\\u003eThe ending of a complete thought or paragraph in informal writing, typically\\u003cbr\\u003eending with a period, often before transitioning to a new topic.\\u003cextra\\u003e\\u003c\\u002fextra\\u003e\",\"\\u003cb\\u003eFeature 40127\\u003c\\u002fb\\u003e\\u003cbr\\u003eBase Mean Activation: 0.0000\\u003cbr\\u003eInstruct Mean Activation: 0.0566\\u003cbr\\u003eDifference: 0.0566\\u003cbr\\u003e\\u003cbr\\u003e\\u003cb\\u003eIntrospective prompt-exclusive feature for Instruct\\u003c\\u002fb\\u003e\\u003cbr\\u003eBase Introspective: 0.0% (0\\u002f40)\\u003cbr\\u003eBase Control: 0.0% (0\\u002f40)\\u003cbr\\u003eInstruct Introspective: 2.5% (1\\u002f40)\\u003cbr\\u003eInstruct Control: 0.0% (0\\u002f40)\\u003cbr\\u003e\\u003cbr\\u003e\\u003cbr\\u003e\\u003cb\\u003eDescription:\\u003c\\u002fb\\u003e\\u003cbr\\u003eText describing how people, places, awards, or institutions were named after\\u003cbr\\u003especific individuals or concepts, often providing attribution context.\\u003cextra\\u003e\\u003c\\u002fextra\\u003e\",\"\\u003cb\\u003eFeature 46377\\u003c\\u002fb\\u003e\\u003cbr\\u003eBase Mean Activation: 0.0000\\u003cbr\\u003eInstruct Mean Activation: 0.6145\\u003cbr\\u003eDifference: 0.6145\\u003cbr\\u003e\\u003cbr\\u003e\\u003cb\\u003eIntrospective prompt-exclusive feature for Instruct\\u003c\\u002fb\\u003e\\u003cbr\\u003eBase Introspective: 0.0% (0\\u002f40)\\u003cbr\\u003eBase Control: 0.0% (0\\u002f40)\\u003cbr\\u003eInstruct Introspective: 27.5% (11\\u002f40)\\u003cbr\\u003eInstruct Control: 0.0% (0\\u002f40)\\u003cbr\\u003e\\u003cbr\\u003e\\u003cbr\\u003e\\u003cb\\u003eDescription:\\u003c\\u002fb\\u003e\\u003cbr\\u003eDirect quotations in reported text, including the opening\\u002fclosing quotation\\u003cbr\\u003emarks and the punctuation within quotes that represent speakers' exact words.\\u003cextra\\u003e\\u003c\\u002fextra\\u003e\",\"\\u003cb\\u003eFeature 46416\\u003c\\u002fb\\u003e\\u003cbr\\u003eBase Mean Activation: 0.0000\\u003cbr\\u003eInstruct Mean Activation: 0.1063\\u003cbr\\u003eDifference: 0.1063\\u003cbr\\u003e\\u003cbr\\u003e\\u003cb\\u003eIntrospective prompt-exclusive feature for Instruct\\u003c\\u002fb\\u003e\\u003cbr\\u003eBase Introspective: 0.0% (0\\u002f40)\\u003cbr\\u003eBase Control: 0.0% (0\\u002f40)\\u003cbr\\u003eInstruct Introspective: 2.5% (1\\u002f40)\\u003cbr\\u003eInstruct Control: 0.0% (0\\u002f40)\\u003cbr\\u003e\\u003cbr\\u003e\\u003cbr\\u003e\\u003cb\\u003eDescription:\\u003c\\u002fb\\u003e\\u003cbr\\u003ePhrases that serve as specific technical terms, ritual formulations, or quoted\\u003cbr\\u003espeech that have special significance within their contexts.\\u003cextra\\u003e\\u003c\\u002fextra\\u003e\",\"\\u003cb\\u003eFeature 47913\\u003c\\u002fb\\u003e\\u003cbr\\u003eBase Mean Activation: 0.0000\\u003cbr\\u003eInstruct Mean Activation: 0.3441\\u003cbr\\u003eDifference: 0.3441\\u003cbr\\u003e\\u003cbr\\u003e\\u003cb\\u003eIntrospective prompt-exclusive feature for Instruct\\u003c\\u002fb\\u003e\\u003cbr\\u003eBase Introspective: 0.0% (0\\u002f40)\\u003cbr\\u003eBase Control: 0.0% (0\\u002f40)\\u003cbr\\u003eInstruct Introspective: 12.5% (5\\u002f40)\\u003cbr\\u003eInstruct Control: 0.0% (0\\u002f40)\\u003cbr\\u003e\\u003cbr\\u003e\\u003cbr\\u003e\\u003cb\\u003eDescription:\\u003c\\u002fb\\u003e\\u003cbr\\u003eFunction words and relative pronouns that introduce qualifying information,\\u003cbr\\u003eexplanations, or contextual details that modify preceding statements.\\u003cextra\\u003e\\u003c\\u002fextra\\u003e\",\"\\u003cb\\u003eFeature 51131\\u003c\\u002fb\\u003e\\u003cbr\\u003eBase Mean Activation: 0.0000\\u003cbr\\u003eInstruct Mean Activation: 0.0609\\u003cbr\\u003eDifference: 0.0609\\u003cbr\\u003e\\u003cbr\\u003e\\u003cb\\u003eIntrospective prompt-exclusive feature for Instruct\\u003c\\u002fb\\u003e\\u003cbr\\u003eBase Introspective: 0.0% (0\\u002f40)\\u003cbr\\u003eBase Control: 0.0% (0\\u002f40)\\u003cbr\\u003eInstruct Introspective: 2.5% (1\\u002f40)\\u003cbr\\u003eInstruct Control: 0.0% (0\\u002f40)\\u003cbr\\u003e\\u003cbr\\u003e\\u003cbr\\u003e\\u003cb\\u003eDescription:\\u003c\\u002fb\\u003e\\u003cbr\\u003eA colon following terms that introduce disclaimers, notices, warnings or other\\u003cbr\\u003eformal informational statements in a document.\\u003cextra\\u003e\\u003c\\u002fextra\\u003e\",\"\\u003cb\\u003eFeature 53398\\u003c\\u002fb\\u003e\\u003cbr\\u003eBase Mean Activation: 0.0000\\u003cbr\\u003eInstruct Mean Activation: 3.6721\\u003cbr\\u003eDifference: 3.6721\\u003cbr\\u003e\\u003cbr\\u003e\\u003cb\\u003eIntrospective prompt-exclusive feature for Instruct\\u003c\\u002fb\\u003e\\u003cbr\\u003eBase Introspective: 0.0% (0\\u002f40)\\u003cbr\\u003eBase Control: 0.0% (0\\u002f40)\\u003cbr\\u003eInstruct Introspective: 97.5% (39\\u002f40)\\u003cbr\\u003eInstruct Control: 0.0% (0\\u002f40)\\u003cbr\\u003e\\u003cbr\\u003e\\u003cbr\\u003e\\u003cb\\u003eDescription:\\u003c\\u002fb\\u003e\\u003cbr\\u003eReferences to artificial intelligence, robots, or mechanical\\u002ftechnological\\u003cbr\\u003eentities and their components or characteristics.\\u003cextra\\u003e\\u003c\\u002fextra\\u003e\",\"\\u003cb\\u003eFeature 53757\\u003c\\u002fb\\u003e\\u003cbr\\u003eBase Mean Activation: 0.0000\\u003cbr\\u003eInstruct Mean Activation: 0.0676\\u003cbr\\u003eDifference: 0.0676\\u003cbr\\u003e\\u003cbr\\u003e\\u003cb\\u003eIntrospective prompt-exclusive feature for Instruct\\u003c\\u002fb\\u003e\\u003cbr\\u003eBase Introspective: 0.0% (0\\u002f40)\\u003cbr\\u003eBase Control: 0.0% (0\\u002f40)\\u003cbr\\u003eInstruct Introspective: 2.5% (1\\u002f40)\\u003cbr\\u003eInstruct Control: 0.0% (0\\u002f40)\\u003cbr\\u003e\\u003cbr\\u003e\\u003cbr\\u003e\\u003cb\\u003eDescription:\\u003c\\u002fb\\u003e\\u003cbr\\u003eSelf-referential phrases indicating the writer's age, generation, or\\u003cbr\\u003erelationship to past time periods, often expressing nostalgia or generational\\u003cbr\\u003eidentity.\\u003cextra\\u003e\\u003c\\u002fextra\\u003e\",\"\\u003cb\\u003eFeature 53929\\u003c\\u002fb\\u003e\\u003cbr\\u003eBase Mean Activation: 0.0000\\u003cbr\\u003eInstruct Mean Activation: 0.6088\\u003cbr\\u003eDifference: 0.6088\\u003cbr\\u003e\\u003cbr\\u003e\\u003cb\\u003eIntrospective prompt-exclusive feature for Instruct\\u003c\\u002fb\\u003e\\u003cbr\\u003eBase Introspective: 0.0% (0\\u002f40)\\u003cbr\\u003eBase Control: 0.0% (0\\u002f40)\\u003cbr\\u003eInstruct Introspective: 22.5% (9\\u002f40)\\u003cbr\\u003eInstruct Control: 0.0% (0\\u002f40)\\u003cbr\\u003e\\u003cbr\\u003e\\u003cbr\\u003e\\u003cb\\u003eDescription:\\u003c\\u002fb\\u003e\\u003cbr\\u003eMethods returning the current object instance (often expressed as \\\"this\\\",\\u003cbr\\u003e\\\"*this\\\", or \\\"$this\\\") to enable method chaining in various programming languages.\\u003cextra\\u003e\\u003c\\u002fextra\\u003e\",\"\\u003cb\\u003eFeature 54710\\u003c\\u002fb\\u003e\\u003cbr\\u003eBase Mean Activation: 0.0000\\u003cbr\\u003eInstruct Mean Activation: 0.2047\\u003cbr\\u003eDifference: 0.2047\\u003cbr\\u003e\\u003cbr\\u003e\\u003cb\\u003eIntrospective prompt-exclusive feature for Instruct\\u003c\\u002fb\\u003e\\u003cbr\\u003eBase Introspective: 0.0% (0\\u002f40)\\u003cbr\\u003eBase Control: 0.0% (0\\u002f40)\\u003cbr\\u003eInstruct Introspective: 5.0% (2\\u002f40)\\u003cbr\\u003eInstruct Control: 0.0% (0\\u002f40)\\u003cbr\\u003e\\u003cbr\\u003e\\u003cbr\\u003e\\u003cb\\u003eDescription:\\u003c\\u002fb\\u003e\\u003cbr\\u003eReferences to songs, sayings, and other cultural expressions, often with\\u003cbr\\u003eattribution phrases connecting the content to its source.\\u003cextra\\u003e\\u003c\\u002fextra\\u003e\",\"\\u003cb\\u003eFeature 60428\\u003c\\u002fb\\u003e\\u003cbr\\u003eBase Mean Activation: 0.0000\\u003cbr\\u003eInstruct Mean Activation: 0.5242\\u003cbr\\u003eDifference: 0.5242\\u003cbr\\u003e\\u003cbr\\u003e\\u003cb\\u003eIntrospective prompt-exclusive feature for Instruct\\u003c\\u002fb\\u003e\\u003cbr\\u003eBase Introspective: 0.0% (0\\u002f40)\\u003cbr\\u003eBase Control: 0.0% (0\\u002f40)\\u003cbr\\u003eInstruct Introspective: 22.5% (9\\u002f40)\\u003cbr\\u003eInstruct Control: 0.0% (0\\u002f40)\\u003cbr\\u003e\\u003cbr\\u003e\\u003cbr\\u003e\\u003cb\\u003eDescription:\\u003c\\u002fb\\u003e\\u003cbr\\u003ePunctuation marks ending sentences that describe character traits, personality\\u003cbr\\u003easpects, or behavior patterns in narrative text.\\u003cextra\\u003e\\u003c\\u002fextra\\u003e\",\"\\u003cb\\u003eFeature 62985\\u003c\\u002fb\\u003e\\u003cbr\\u003eBase Mean Activation: 0.0000\\u003cbr\\u003eInstruct Mean Activation: 0.1588\\u003cbr\\u003eDifference: 0.1588\\u003cbr\\u003e\\u003cbr\\u003e\\u003cb\\u003eIntrospective prompt-exclusive feature for Instruct\\u003c\\u002fb\\u003e\\u003cbr\\u003eBase Introspective: 0.0% (0\\u002f40)\\u003cbr\\u003eBase Control: 0.0% (0\\u002f40)\\u003cbr\\u003eInstruct Introspective: 7.5% (3\\u002f40)\\u003cbr\\u003eInstruct Control: 0.0% (0\\u002f40)\\u003cbr\\u003e\\u003cbr\\u003e\\u003cbr\\u003e\\u003cb\\u003eDescription:\\u003c\\u002fb\\u003e\\u003cbr\\u003ePage number and section references that direct readers to other parts of the\\u003cbr\\u003edocument for supplementary information, often appearing in scientific papers or\\u003cbr\\u003erecipes.\\u003cextra\\u003e\\u003c\\u002fextra\\u003e\",\"\\u003cb\\u003eFeature 63052\\u003c\\u002fb\\u003e\\u003cbr\\u003eBase Mean Activation: 0.0000\\u003cbr\\u003eInstruct Mean Activation: 0.0570\\u003cbr\\u003eDifference: 0.0570\\u003cbr\\u003e\\u003cbr\\u003e\\u003cb\\u003eIntrospective prompt-exclusive feature for Instruct\\u003c\\u002fb\\u003e\\u003cbr\\u003eBase Introspective: 0.0% (0\\u002f40)\\u003cbr\\u003eBase Control: 0.0% (0\\u002f40)\\u003cbr\\u003eInstruct Introspective: 2.5% (1\\u002f40)\\u003cbr\\u003eInstruct Control: 0.0% (0\\u002f40)\\u003cbr\\u003e\\u003cbr\\u003e\\u003cbr\\u003e\\u003cb\\u003eDescription:\\u003c\\u002fb\\u003e\\u003cbr\\u003eNames of residential communities, resorts, or properties that often incorporate\\u003cbr\\u003enatural features, elevation terms, or prestigious-sounding elements in their\\u003cbr\\u003ebranding.\\u003cextra\\u003e\\u003c\\u002fextra\\u003e\",\"\\u003cb\\u003eFeature 68024\\u003c\\u002fb\\u003e\\u003cbr\\u003eBase Mean Activation: 0.0000\\u003cbr\\u003eInstruct Mean Activation: 0.5102\\u003cbr\\u003eDifference: 0.5102\\u003cbr\\u003e\\u003cbr\\u003e\\u003cb\\u003eIntrospective prompt-exclusive feature for Instruct\\u003c\\u002fb\\u003e\\u003cbr\\u003eBase Introspective: 0.0% (0\\u002f40)\\u003cbr\\u003eBase Control: 0.0% (0\\u002f40)\\u003cbr\\u003eInstruct Introspective: 17.5% (7\\u002f40)\\u003cbr\\u003eInstruct Control: 0.0% (0\\u002f40)\\u003cbr\\u003e\\u003cbr\\u003e\\u003cbr\\u003e\\u003cb\\u003eDescription:\\u003c\\u002fb\\u003e\\u003cbr\\u003eOpening words or phrases of a person's response in a conversation or interview,\\u003cbr\\u003etypically including greetings, acknowledgments, or affirmative responses.\\u003cextra\\u003e\\u003c\\u002fextra\\u003e\",\"\\u003cb\\u003eFeature 69907\\u003c\\u002fb\\u003e\\u003cbr\\u003eBase Mean Activation: 0.0000\\u003cbr\\u003eInstruct Mean Activation: 0.0570\\u003cbr\\u003eDifference: 0.0570\\u003cbr\\u003e\\u003cbr\\u003e\\u003cb\\u003eIntrospective prompt-exclusive feature for Instruct\\u003c\\u002fb\\u003e\\u003cbr\\u003eBase Introspective: 0.0% (0\\u002f40)\\u003cbr\\u003eBase Control: 0.0% (0\\u002f40)\\u003cbr\\u003eInstruct Introspective: 2.5% (1\\u002f40)\\u003cbr\\u003eInstruct Control: 0.0% (0\\u002f40)\\u003cbr\\u003e\\u003cbr\\u003e\\u003cbr\\u003e\\u003cb\\u003eDescription:\\u003c\\u002fb\\u003e\\u003cbr\\u003eSentence-ending punctuation (primarily periods) that separate related thoughts\\u003cbr\\u003ein informal personal narratives describing routines, activities or habits.\\u003cextra\\u003e\\u003c\\u002fextra\\u003e\",\"\\u003cb\\u003eFeature 71479\\u003c\\u002fb\\u003e\\u003cbr\\u003eBase Mean Activation: 0.0000\\u003cbr\\u003eInstruct Mean Activation: 0.2320\\u003cbr\\u003eDifference: 0.2320\\u003cbr\\u003e\\u003cbr\\u003e\\u003cb\\u003eIntrospective prompt-exclusive feature for Instruct\\u003c\\u002fb\\u003e\\u003cbr\\u003eBase Introspective: 0.0% (0\\u002f40)\\u003cbr\\u003eBase Control: 0.0% (0\\u002f40)\\u003cbr\\u003eInstruct Introspective: 10.0% (4\\u002f40)\\u003cbr\\u003eInstruct Control: 0.0% (0\\u002f40)\\u003cbr\\u003e\\u003cbr\\u003e\\u003cbr\\u003e\\u003cb\\u003eDescription:\\u003c\\u002fb\\u003e\\u003cbr\\u003eText segments discussing knowledge acquisition, learning processes, educational\\u003cbr\\u003econtexts, or academic discourse.\\u003cextra\\u003e\\u003c\\u002fextra\\u003e\",\"\\u003cb\\u003eFeature 71571\\u003c\\u002fb\\u003e\\u003cbr\\u003eBase Mean Activation: 0.0000\\u003cbr\\u003eInstruct Mean Activation: 0.4254\\u003cbr\\u003eDifference: 0.4254\\u003cbr\\u003e\\u003cbr\\u003e\\u003cb\\u003eIntrospective prompt-exclusive feature for Instruct\\u003c\\u002fb\\u003e\\u003cbr\\u003eBase Introspective: 0.0% (0\\u002f40)\\u003cbr\\u003eBase Control: 0.0% (0\\u002f40)\\u003cbr\\u003eInstruct Introspective: 20.0% (8\\u002f40)\\u003cbr\\u003eInstruct Control: 0.0% (0\\u002f40)\\u003cbr\\u003e\\u003cbr\\u003e\\u003cbr\\u003e\\u003cb\\u003eDescription:\\u003c\\u002fb\\u003e\\u003cbr\\u003eDescriptions of AI systems' capabilities or limitations, often in comparison to\\u003cbr\\u003ehuman abilities or biological processes.\\u003cextra\\u003e\\u003c\\u002fextra\\u003e\",\"\\u003cb\\u003eFeature 71596\\u003c\\u002fb\\u003e\\u003cbr\\u003eBase Mean Activation: 0.0000\\u003cbr\\u003eInstruct Mean Activation: 0.0496\\u003cbr\\u003eDifference: 0.0496\\u003cbr\\u003e\\u003cbr\\u003e\\u003cb\\u003eIntrospective prompt-exclusive feature for Instruct\\u003c\\u002fb\\u003e\\u003cbr\\u003eBase Introspective: 0.0% (0\\u002f40)\\u003cbr\\u003eBase Control: 0.0% (0\\u002f40)\\u003cbr\\u003eInstruct Introspective: 2.5% (1\\u002f40)\\u003cbr\\u003eInstruct Control: 0.0% (0\\u002f40)\\u003cbr\\u003e\\u003cbr\\u003e\\u003cbr\\u003e\\u003cb\\u003eDescription:\\u003c\\u002fb\\u003e\\u003cbr\\u003eExpressions of unlimited human potential, possibility, or capability, often in\\u003cbr\\u003emotivational or inspirational contexts.\\u003cextra\\u003e\\u003c\\u002fextra\\u003e\",\"\\u003cb\\u003eFeature 72343\\u003c\\u002fb\\u003e\\u003cbr\\u003eBase Mean Activation: 0.0000\\u003cbr\\u003eInstruct Mean Activation: 0.1043\\u003cbr\\u003eDifference: 0.1043\\u003cbr\\u003e\\u003cbr\\u003e\\u003cb\\u003eIntrospective prompt-exclusive feature for Instruct\\u003c\\u002fb\\u003e\\u003cbr\\u003eBase Introspective: 0.0% (0\\u002f40)\\u003cbr\\u003eBase Control: 0.0% (0\\u002f40)\\u003cbr\\u003eInstruct Introspective: 5.0% (2\\u002f40)\\u003cbr\\u003eInstruct Control: 0.0% (0\\u002f40)\\u003cbr\\u003e\\u003cbr\\u003e\\u003cbr\\u003e\\u003cb\\u003eDescription:\\u003c\\u002fb\\u003e\\u003cbr\\u003ePunctuation and formatting elements that serve as section breaks or paragraph\\u003cbr\\u003eendings, often preceding new content or introducing quoted material.\\u003cextra\\u003e\\u003c\\u002fextra\\u003e\",\"\\u003cb\\u003eFeature 72888\\u003c\\u002fb\\u003e\\u003cbr\\u003eBase Mean Activation: 0.0000\\u003cbr\\u003eInstruct Mean Activation: 0.3426\\u003cbr\\u003eDifference: 0.3426\\u003cbr\\u003e\\u003cbr\\u003e\\u003cb\\u003eIntrospective prompt-exclusive feature for Instruct\\u003c\\u002fb\\u003e\\u003cbr\\u003eBase Introspective: 0.0% (0\\u002f40)\\u003cbr\\u003eBase Control: 0.0% (0\\u002f40)\\u003cbr\\u003eInstruct Introspective: 10.0% (4\\u002f40)\\u003cbr\\u003eInstruct Control: 0.0% (0\\u002f40)\\u003cbr\\u003e\\u003cbr\\u003e\\u003cbr\\u003e\\u003cb\\u003eDescription:\\u003c\\u002fb\\u003e\\u003cbr\\u003eCode structure patterns related to exception handling, conditional blocks, and\\u003cbr\\u003emacro definitions, particularly focusing on opening braces, comments, and\\u003cbr\\u003econtrol flow syntax in programming languages.\\u003cextra\\u003e\\u003c\\u002fextra\\u003e\",\"\\u003cb\\u003eFeature 76484\\u003c\\u002fb\\u003e\\u003cbr\\u003eBase Mean Activation: 0.0000\\u003cbr\\u003eInstruct Mean Activation: 0.0602\\u003cbr\\u003eDifference: 0.0602\\u003cbr\\u003e\\u003cbr\\u003e\\u003cb\\u003eIntrospective prompt-exclusive feature for Instruct\\u003c\\u002fb\\u003e\\u003cbr\\u003eBase Introspective: 0.0% (0\\u002f40)\\u003cbr\\u003eBase Control: 0.0% (0\\u002f40)\\u003cbr\\u003eInstruct Introspective: 2.5% (1\\u002f40)\\u003cbr\\u003eInstruct Control: 0.0% (0\\u002f40)\\u003cbr\\u003e\\u003cbr\\u003e\\u003cbr\\u003e\\u003cb\\u003eDescription:\\u003c\\u002fb\\u003e\\u003cbr\\u003eQuotation marks and accompanying punctuation (periods, commas, question marks)\\u003cbr\\u003ethat indicate the beginning or end of direct speech, often paired with dialogue\\u003cbr\\u003eattribution.\\u003cextra\\u003e\\u003c\\u002fextra\\u003e\",\"\\u003cb\\u003eFeature 77099\\u003c\\u002fb\\u003e\\u003cbr\\u003eBase Mean Activation: 0.0000\\u003cbr\\u003eInstruct Mean Activation: 0.0531\\u003cbr\\u003eDifference: 0.0531\\u003cbr\\u003e\\u003cbr\\u003e\\u003cb\\u003eIntrospective prompt-exclusive feature for Instruct\\u003c\\u002fb\\u003e\\u003cbr\\u003eBase Introspective: 0.0% (0\\u002f40)\\u003cbr\\u003eBase Control: 0.0% (0\\u002f40)\\u003cbr\\u003eInstruct Introspective: 2.5% (1\\u002f40)\\u003cbr\\u003eInstruct Control: 0.0% (0\\u002f40)\\u003cbr\\u003e\\u003cbr\\u003e\\u003cbr\\u003e\\u003cb\\u003eDescription:\\u003c\\u002fb\\u003e\\u003cbr\\u003eProgramming syntax elements such as delimiters, punctuation, and structural\\u003cbr\\u003ekeywords that are essential for proper code parsing across various languages.\\u003cextra\\u003e\\u003c\\u002fextra\\u003e\",\"\\u003cb\\u003eFeature 77926\\u003c\\u002fb\\u003e\\u003cbr\\u003eBase Mean Activation: 0.0000\\u003cbr\\u003eInstruct Mean Activation: 0.0512\\u003cbr\\u003eDifference: 0.0512\\u003cbr\\u003e\\u003cbr\\u003e\\u003cb\\u003eIntrospective prompt-exclusive feature for Instruct\\u003c\\u002fb\\u003e\\u003cbr\\u003eBase Introspective: 0.0% (0\\u002f40)\\u003cbr\\u003eBase Control: 0.0% (0\\u002f40)\\u003cbr\\u003eInstruct Introspective: 2.5% (1\\u002f40)\\u003cbr\\u003eInstruct Control: 0.0% (0\\u002f40)\\u003cbr\\u003e\\u003cbr\\u003e\\u003cbr\\u003e\\u003cb\\u003eDescription:\\u003c\\u002fb\\u003e\\u003cbr\\u003eTokens that introduce or qualify personal experiences, insights, or advice,\\u003cbr\\u003eoften using first-person perspective or indicating subjective effectiveness.\\u003cextra\\u003e\\u003c\\u002fextra\\u003e\",\"\\u003cb\\u003eFeature 79313\\u003c\\u002fb\\u003e\\u003cbr\\u003eBase Mean Activation: 0.0000\\u003cbr\\u003eInstruct Mean Activation: 0.0758\\u003cbr\\u003eDifference: 0.0758\\u003cbr\\u003e\\u003cbr\\u003e\\u003cb\\u003eIntrospective prompt-exclusive feature for Instruct\\u003c\\u002fb\\u003e\\u003cbr\\u003eBase Introspective: 0.0% (0\\u002f40)\\u003cbr\\u003eBase Control: 0.0% (0\\u002f40)\\u003cbr\\u003eInstruct Introspective: 2.5% (1\\u002f40)\\u003cbr\\u003eInstruct Control: 0.0% (0\\u002f40)\\u003cbr\\u003e\\u003cbr\\u003e\\u003cbr\\u003e\\u003cb\\u003eDescription:\\u003c\\u002fb\\u003e\\u003cbr\\u003eTransitional phrases, qualifiers, and evaluative language that signal the\\u003cbr\\u003eauthor's stance, frame relationships between ideas, or prepare the reader for\\u003cbr\\u003einterpretive content.\\u003cextra\\u003e\\u003c\\u002fextra\\u003e\",\"\\u003cb\\u003eFeature 82107\\u003c\\u002fb\\u003e\\u003cbr\\u003eBase Mean Activation: 0.0000\\u003cbr\\u003eInstruct Mean Activation: 0.1072\\u003cbr\\u003eDifference: 0.1072\\u003cbr\\u003e\\u003cbr\\u003e\\u003cb\\u003eIntrospective prompt-exclusive feature for Instruct\\u003c\\u002fb\\u003e\\u003cbr\\u003eBase Introspective: 0.0% (0\\u002f40)\\u003cbr\\u003eBase Control: 0.0% (0\\u002f40)\\u003cbr\\u003eInstruct Introspective: 5.0% (2\\u002f40)\\u003cbr\\u003eInstruct Control: 0.0% (0\\u002f40)\\u003cbr\\u003e\\u003cbr\\u003e\\u003cbr\\u003e\\u003cb\\u003eDescription:\\u003c\\u002fb\\u003e\\u003cbr\\u003eWords that appear at key transition points in online article or blog content,\\u003cbr\\u003eoften preceding a topic change or shift in narrative focus.\\u003cextra\\u003e\\u003c\\u002fextra\\u003e\",\"\\u003cb\\u003eFeature 83499\\u003c\\u002fb\\u003e\\u003cbr\\u003eBase Mean Activation: 0.0000\\u003cbr\\u003eInstruct Mean Activation: 0.2879\\u003cbr\\u003eDifference: 0.2879\\u003cbr\\u003e\\u003cbr\\u003e\\u003cb\\u003eIntrospective prompt-exclusive feature for Instruct\\u003c\\u002fb\\u003e\\u003cbr\\u003eBase Introspective: 0.0% (0\\u002f40)\\u003cbr\\u003eBase Control: 0.0% (0\\u002f40)\\u003cbr\\u003eInstruct Introspective: 10.0% (4\\u002f40)\\u003cbr\\u003eInstruct Control: 0.0% (0\\u002f40)\\u003cbr\\u003e\\u003cbr\\u003e\\u003cbr\\u003e\\u003cb\\u003eDescription:\\u003c\\u002fb\\u003e\\u003cbr\\u003eCommon conversational phrases used to inquire about or express wishes for\\u003cbr\\u003esomeone's well-being in dialogues and correspondence.\\u003cextra\\u003e\\u003c\\u002fextra\\u003e\",\"\\u003cb\\u003eFeature 87194\\u003c\\u002fb\\u003e\\u003cbr\\u003eBase Mean Activation: 0.0000\\u003cbr\\u003eInstruct Mean Activation: 0.0492\\u003cbr\\u003eDifference: 0.0492\\u003cbr\\u003e\\u003cbr\\u003e\\u003cb\\u003eIntrospective prompt-exclusive feature for Instruct\\u003c\\u002fb\\u003e\\u003cbr\\u003eBase Introspective: 0.0% (0\\u002f40)\\u003cbr\\u003eBase Control: 0.0% (0\\u002f40)\\u003cbr\\u003eInstruct Introspective: 2.5% (1\\u002f40)\\u003cbr\\u003eInstruct Control: 0.0% (0\\u002f40)\\u003cbr\\u003e\\u003cbr\\u003e\\u003cbr\\u003e\\u003cb\\u003eDescription:\\u003c\\u002fb\\u003e\\u003cbr\\u003ePhrases that establish historical origins or connections between present\\u003cbr\\u003eentities and their past beginnings.\\u003cextra\\u003e\\u003c\\u002fextra\\u003e\",\"\\u003cb\\u003eFeature 87963\\u003c\\u002fb\\u003e\\u003cbr\\u003eBase Mean Activation: 0.0000\\u003cbr\\u003eInstruct Mean Activation: 0.0582\\u003cbr\\u003eDifference: 0.0582\\u003cbr\\u003e\\u003cbr\\u003e\\u003cb\\u003eIntrospective prompt-exclusive feature for Instruct\\u003c\\u002fb\\u003e\\u003cbr\\u003eBase Introspective: 0.0% (0\\u002f40)\\u003cbr\\u003eBase Control: 0.0% (0\\u002f40)\\u003cbr\\u003eInstruct Introspective: 2.5% (1\\u002f40)\\u003cbr\\u003eInstruct Control: 0.0% (0\\u002f40)\\u003cbr\\u003e\\u003cbr\\u003e\\u003cbr\\u003e\\u003cb\\u003eDescription:\\u003c\\u002fb\\u003e\\u003cbr\\u003ePhrases that anchor narratives to specific moments in time or context,\\u003cbr\\u003eparticularly those indicating current states, circumstances, or conditions.\\u003cextra\\u003e\\u003c\\u002fextra\\u003e\",\"\\u003cb\\u003eFeature 91632\\u003c\\u002fb\\u003e\\u003cbr\\u003eBase Mean Activation: 0.0000\\u003cbr\\u003eInstruct Mean Activation: 0.0482\\u003cbr\\u003eDifference: 0.0482\\u003cbr\\u003e\\u003cbr\\u003e\\u003cb\\u003eIntrospective prompt-exclusive feature for Instruct\\u003c\\u002fb\\u003e\\u003cbr\\u003eBase Introspective: 0.0% (0\\u002f40)\\u003cbr\\u003eBase Control: 0.0% (0\\u002f40)\\u003cbr\\u003eInstruct Introspective: 2.5% (1\\u002f40)\\u003cbr\\u003eInstruct Control: 0.0% (0\\u002f40)\\u003cbr\\u003e\\u003cbr\\u003e\\u003cbr\\u003e\\u003cb\\u003eDescription:\\u003c\\u002fb\\u003e\\u003cbr\\u003eText describing moments of quiet contemplation, relaxation, or taking personal\\u003cbr\\u003etime to think, reflect, or simply be present without external demands.\\u003cextra\\u003e\\u003c\\u002fextra\\u003e\",\"\\u003cb\\u003eFeature 93786\\u003c\\u002fb\\u003e\\u003cbr\\u003eBase Mean Activation: 0.0000\\u003cbr\\u003eInstruct Mean Activation: 0.0641\\u003cbr\\u003eDifference: 0.0641\\u003cbr\\u003e\\u003cbr\\u003e\\u003cb\\u003eIntrospective prompt-exclusive feature for Instruct\\u003c\\u002fb\\u003e\\u003cbr\\u003eBase Introspective: 0.0% (0\\u002f40)\\u003cbr\\u003eBase Control: 0.0% (0\\u002f40)\\u003cbr\\u003eInstruct Introspective: 2.5% (1\\u002f40)\\u003cbr\\u003eInstruct Control: 0.0% (0\\u002f40)\\u003cbr\\u003e\\u003cbr\\u003e\\u003cbr\\u003e\\u003cb\\u003eDescription:\\u003c\\u002fb\\u003e\\u003cbr\\u003eTechnical identifiers, variable names, and parameters appearing in programming\\u003cbr\\u003ecode, mathematical notation, or technical documentation.\\u003cextra\\u003e\\u003c\\u002fextra\\u003e\",\"\\u003cb\\u003eFeature 93822\\u003c\\u002fb\\u003e\\u003cbr\\u003eBase Mean Activation: 0.0000\\u003cbr\\u003eInstruct Mean Activation: 0.0766\\u003cbr\\u003eDifference: 0.0766\\u003cbr\\u003e\\u003cbr\\u003e\\u003cb\\u003eIntrospective prompt-exclusive feature for Instruct\\u003c\\u002fb\\u003e\\u003cbr\\u003eBase Introspective: 0.0% (0\\u002f40)\\u003cbr\\u003eBase Control: 0.0% (0\\u002f40)\\u003cbr\\u003eInstruct Introspective: 2.5% (1\\u002f40)\\u003cbr\\u003eInstruct Control: 0.0% (0\\u002f40)\\u003cbr\\u003e\\u003cbr\\u003e\\u003cbr\\u003e\\u003cb\\u003eDescription:\\u003c\\u002fb\\u003e\\u003cbr\\u003eAuxiliary verbs combined with adverbs or adjectives forming phrases that\\u003cbr\\u003eevaluate the quality, success, or status of processes, events, or conditions.\\u003cextra\\u003e\\u003c\\u002fextra\\u003e\",\"\\u003cb\\u003eFeature 97597\\u003c\\u002fb\\u003e\\u003cbr\\u003eBase Mean Activation: 0.0000\\u003cbr\\u003eInstruct Mean Activation: 0.5836\\u003cbr\\u003eDifference: 0.5836\\u003cbr\\u003e\\u003cbr\\u003e\\u003cb\\u003eIntrospective prompt-exclusive feature for Instruct\\u003c\\u002fb\\u003e\\u003cbr\\u003eBase Introspective: 0.0% (0\\u002f40)\\u003cbr\\u003eBase Control: 0.0% (0\\u002f40)\\u003cbr\\u003eInstruct Introspective: 27.5% (11\\u002f40)\\u003cbr\\u003eInstruct Control: 0.0% (0\\u002f40)\\u003cbr\\u003e\\u003cbr\\u003e\\u003cbr\\u003e\\u003cb\\u003eDescription:\\u003c\\u002fb\\u003e\\u003cbr\\u003eConjunctions and connecting words that establish logical relationships between\\u003cbr\\u003eclauses, often introducing conditions, questions, or dependent clauses.\\u003cextra\\u003e\\u003c\\u002fextra\\u003e\",\"\\u003cb\\u003eFeature 98375\\u003c\\u002fb\\u003e\\u003cbr\\u003eBase Mean Activation: 0.0000\\u003cbr\\u003eInstruct Mean Activation: 0.0582\\u003cbr\\u003eDifference: 0.0582\\u003cbr\\u003e\\u003cbr\\u003e\\u003cb\\u003eIntrospective prompt-exclusive feature for Instruct\\u003c\\u002fb\\u003e\\u003cbr\\u003eBase Introspective: 0.0% (0\\u002f40)\\u003cbr\\u003eBase Control: 0.0% (0\\u002f40)\\u003cbr\\u003eInstruct Introspective: 2.5% (1\\u002f40)\\u003cbr\\u003eInstruct Control: 0.0% (0\\u002f40)\\u003cbr\\u003e\\u003cbr\\u003e\\u003cbr\\u003e\\u003cb\\u003eDescription:\\u003c\\u002fb\\u003e\\u003cbr\\u003eEnd punctuation (periods, exclamation marks, ellipses) that appears at the end\\u003cbr\\u003eof titles, headings, or single-word entities that mark a transition between\\u003cbr\\u003econtent sections or introduce new topics.\\u003cextra\\u003e\\u003c\\u002fextra\\u003e\",\"\\u003cb\\u003eFeature 98790\\u003c\\u002fb\\u003e\\u003cbr\\u003eBase Mean Activation: 0.0000\\u003cbr\\u003eInstruct Mean Activation: 0.0496\\u003cbr\\u003eDifference: 0.0496\\u003cbr\\u003e\\u003cbr\\u003e\\u003cb\\u003eIntrospective prompt-exclusive feature for Instruct\\u003c\\u002fb\\u003e\\u003cbr\\u003eBase Introspective: 0.0% (0\\u002f40)\\u003cbr\\u003eBase Control: 0.0% (0\\u002f40)\\u003cbr\\u003eInstruct Introspective: 2.5% (1\\u002f40)\\u003cbr\\u003eInstruct Control: 0.0% (0\\u002f40)\\u003cbr\\u003e\\u003cbr\\u003e\\u003cbr\\u003e\\u003cb\\u003eDescription:\\u003c\\u002fb\\u003e\\u003cbr\\u003ePunctuation marks (periods, commas) at the end of sentences or clauses that\\u003cbr\\u003eexpress opinions, wishes or suggestions, often following phrases like \\\"would be\\u003cbr\\u003enice if,\\\" \\\"I wish,\\\" or \\\"I'd love to see.\\\"\\u003cextra\\u003e\\u003c\\u002fextra\\u003e\",\"\\u003cb\\u003eFeature 99666\\u003c\\u002fb\\u003e\\u003cbr\\u003eBase Mean Activation: 0.0000\\u003cbr\\u003eInstruct Mean Activation: 0.0516\\u003cbr\\u003eDifference: 0.0516\\u003cbr\\u003e\\u003cbr\\u003e\\u003cb\\u003eIntrospective prompt-exclusive feature for Instruct\\u003c\\u002fb\\u003e\\u003cbr\\u003eBase Introspective: 0.0% (0\\u002f40)\\u003cbr\\u003eBase Control: 0.0% (0\\u002f40)\\u003cbr\\u003eInstruct Introspective: 2.5% (1\\u002f40)\\u003cbr\\u003eInstruct Control: 0.0% (0\\u002f40)\\u003cbr\\u003e\\u003cbr\\u003e\\u003cbr\\u003e\\u003cb\\u003eDescription:\\u003c\\u002fb\\u003e\\u003cbr\\u003ePrepositional phrases and grammatical connectors that specify relationships\\u003cbr\\u003ebetween objects, locations, or concepts, often establishing context or\\u003cbr\\u003equalifying statements.\\u003cextra\\u003e\\u003c\\u002fextra\\u003e\",\"\\u003cb\\u003eFeature 100435\\u003c\\u002fb\\u003e\\u003cbr\\u003eBase Mean Activation: 0.0000\\u003cbr\\u003eInstruct Mean Activation: 0.9023\\u003cbr\\u003eDifference: 0.9023\\u003cbr\\u003e\\u003cbr\\u003e\\u003cb\\u003eIntrospective prompt-exclusive feature for Instruct\\u003c\\u002fb\\u003e\\u003cbr\\u003eBase Introspective: 0.0% (0\\u002f40)\\u003cbr\\u003eBase Control: 0.0% (0\\u002f40)\\u003cbr\\u003eInstruct Introspective: 40.0% (16\\u002f40)\\u003cbr\\u003eInstruct Control: 0.0% (0\\u002f40)\\u003cbr\\u003e\\u003cbr\\u003e\\u003cbr\\u003e\\u003cb\\u003eDescription:\\u003c\\u002fb\\u003e\\u003cbr\\u003ePrefixes or short word segments in various non-English languages (mostly Slavic,\\u003cbr\\u003eNordic, and Romance) that typically introduce locational or descriptive\\u003cbr\\u003einformation about places, such as where something is situated, how it's\\u003cbr\\u003eaccessed, or its administrative status.\\u003cextra\\u003e\\u003c\\u002fextra\\u003e\",\"\\u003cb\\u003eFeature 103654\\u003c\\u002fb\\u003e\\u003cbr\\u003eBase Mean Activation: 0.0000\\u003cbr\\u003eInstruct Mean Activation: 0.0570\\u003cbr\\u003eDifference: 0.0570\\u003cbr\\u003e\\u003cbr\\u003e\\u003cb\\u003eIntrospective prompt-exclusive feature for Instruct\\u003c\\u002fb\\u003e\\u003cbr\\u003eBase Introspective: 0.0% (0\\u002f40)\\u003cbr\\u003eBase Control: 0.0% (0\\u002f40)\\u003cbr\\u003eInstruct Introspective: 2.5% (1\\u002f40)\\u003cbr\\u003eInstruct Control: 0.0% (0\\u002f40)\\u003cbr\\u003e\\u003cbr\\u003e\\u003cbr\\u003e\\u003cb\\u003eDescription:\\u003c\\u002fb\\u003e\\u003cbr\\u003eCommon connecting phrases and grammatical elements that serve to link concepts\\u003cbr\\u003eor complete syntactic structures in informational text.\\u003cextra\\u003e\\u003c\\u002fextra\\u003e\",\"\\u003cb\\u003eFeature 108425\\u003c\\u002fb\\u003e\\u003cbr\\u003eBase Mean Activation: 0.0000\\u003cbr\\u003eInstruct Mean Activation: 0.5527\\u003cbr\\u003eDifference: 0.5527\\u003cbr\\u003e\\u003cbr\\u003e\\u003cb\\u003eIntrospective prompt-exclusive feature for Instruct\\u003c\\u002fb\\u003e\\u003cbr\\u003eBase Introspective: 0.0% (0\\u002f40)\\u003cbr\\u003eBase Control: 0.0% (0\\u002f40)\\u003cbr\\u003eInstruct Introspective: 22.5% (9\\u002f40)\\u003cbr\\u003eInstruct Control: 0.0% (0\\u002f40)\\u003cbr\\u003e\\u003cbr\\u003e\\u003cbr\\u003e\\u003cb\\u003eDescription:\\u003c\\u002fb\\u003e\\u003cbr\\u003eMarkers that indicate or attribute dialogue, including quotation marks, speaker\\u003cbr\\u003eattribution verbs (\\\"says\\\", \\\"replied\\\"), and punctuation that follows or precedes\\u003cbr\\u003edirect speech.\\u003cextra\\u003e\\u003c\\u002fextra\\u003e\",\"\\u003cb\\u003eFeature 112711\\u003c\\u002fb\\u003e\\u003cbr\\u003eBase Mean Activation: 0.0000\\u003cbr\\u003eInstruct Mean Activation: 0.1141\\u003cbr\\u003eDifference: 0.1141\\u003cbr\\u003e\\u003cbr\\u003e\\u003cb\\u003eIntrospective prompt-exclusive feature for Instruct\\u003c\\u002fb\\u003e\\u003cbr\\u003eBase Introspective: 0.0% (0\\u002f40)\\u003cbr\\u003eBase Control: 0.0% (0\\u002f40)\\u003cbr\\u003eInstruct Introspective: 5.0% (2\\u002f40)\\u003cbr\\u003eInstruct Control: 0.0% (0\\u002f40)\\u003cbr\\u003e\\u003cbr\\u003e\\u003cbr\\u003e\\u003cb\\u003eDescription:\\u003c\\u002fb\\u003e\\u003cbr\\u003eThe end of interview questions right before the interviewee's response begins.\\u003cextra\\u003e\\u003c\\u002fextra\\u003e\",\"\\u003cb\\u003eFeature 113883\\u003c\\u002fb\\u003e\\u003cbr\\u003eBase Mean Activation: 0.0000\\u003cbr\\u003eInstruct Mean Activation: 0.1578\\u003cbr\\u003eDifference: 0.1578\\u003cbr\\u003e\\u003cbr\\u003e\\u003cb\\u003eIntrospective prompt-exclusive feature for Instruct\\u003c\\u002fb\\u003e\\u003cbr\\u003eBase Introspective: 0.0% (0\\u002f40)\\u003cbr\\u003eBase Control: 0.0% (0\\u002f40)\\u003cbr\\u003eInstruct Introspective: 7.5% (3\\u002f40)\\u003cbr\\u003eInstruct Control: 0.0% (0\\u002f40)\\u003cbr\\u003e\\u003cbr\\u003e\\u003cbr\\u003e\\u003cb\\u003eDescription:\\u003c\\u002fb\\u003e\\u003cbr\\u003eExpressions of positive emotional reactions (like being honored, thrilled,\\u003cbr\\u003ehumbled) in response to receiving recognition, awards, or special opportunities.\\u003cextra\\u003e\\u003c\\u002fextra\\u003e\",\"\\u003cb\\u003eFeature 114838\\u003c\\u002fb\\u003e\\u003cbr\\u003eBase Mean Activation: 0.0000\\u003cbr\\u003eInstruct Mean Activation: 0.0559\\u003cbr\\u003eDifference: 0.0559\\u003cbr\\u003e\\u003cbr\\u003e\\u003cb\\u003eIntrospective prompt-exclusive feature for Instruct\\u003c\\u002fb\\u003e\\u003cbr\\u003eBase Introspective: 0.0% (0\\u002f40)\\u003cbr\\u003eBase Control: 0.0% (0\\u002f40)\\u003cbr\\u003eInstruct Introspective: 2.5% (1\\u002f40)\\u003cbr\\u003eInstruct Control: 0.0% (0\\u002f40)\\u003cbr\\u003e\\u003cbr\\u003e\\u003cbr\\u003e\\u003cb\\u003eDescription:\\u003c\\u002fb\\u003e\\u003cbr\\u003ePunctuation marks (especially commas) and connecting words that join clauses or\\u003cbr\\u003eintroduce additional information in formal or technical writing.\\u003cextra\\u003e\\u003c\\u002fextra\\u003e\",\"\\u003cb\\u003eFeature 119549\\u003c\\u002fb\\u003e\\u003cbr\\u003eBase Mean Activation: 0.0000\\u003cbr\\u003eInstruct Mean Activation: 0.2328\\u003cbr\\u003eDifference: 0.2328\\u003cbr\\u003e\\u003cbr\\u003e\\u003cb\\u003eIntrospective prompt-exclusive feature for Instruct\\u003c\\u002fb\\u003e\\u003cbr\\u003eBase Introspective: 0.0% (0\\u002f40)\\u003cbr\\u003eBase Control: 0.0% (0\\u002f40)\\u003cbr\\u003eInstruct Introspective: 10.0% (4\\u002f40)\\u003cbr\\u003eInstruct Control: 0.0% (0\\u002f40)\\u003cbr\\u003e\\u003cbr\\u003e\\u003cbr\\u003e\\u003cb\\u003eDescription:\\u003c\\u002fb\\u003e\\u003cbr\\u003eTransition elements like conjunctions (\\\"and\\\", \\\"that\\\"), punctuation (periods),\\u003cbr\\u003eprepositions (\\\"of\\\", \\\"how\\\"), and knowledge indicators (\\\"know\\\", \\\"aware\\\") that\\u003cbr\\u003econnect ideas or mark sentence boundaries.\\u003cextra\\u003e\\u003c\\u002fextra\\u003e\",\"\\u003cb\\u003eFeature 121829\\u003c\\u002fb\\u003e\\u003cbr\\u003eBase Mean Activation: 0.0000\\u003cbr\\u003eInstruct Mean Activation: 0.0504\\u003cbr\\u003eDifference: 0.0504\\u003cbr\\u003e\\u003cbr\\u003e\\u003cb\\u003eIntrospective prompt-exclusive feature for Instruct\\u003c\\u002fb\\u003e\\u003cbr\\u003eBase Introspective: 0.0% (0\\u002f40)\\u003cbr\\u003eBase Control: 0.0% (0\\u002f40)\\u003cbr\\u003eInstruct Introspective: 2.5% (1\\u002f40)\\u003cbr\\u003eInstruct Control: 0.0% (0\\u002f40)\\u003cbr\\u003e\\u003cbr\\u003e\\u003cbr\\u003e\\u003cb\\u003eDescription:\\u003c\\u002fb\\u003e\\u003cbr\\u003eFunction words and phrases that establish relationships of possession, origin,\\u003cbr\\u003eor association between entities.\\u003cextra\\u003e\\u003c\\u002fextra\\u003e\",\"\\u003cb\\u003eFeature 123433\\u003c\\u002fb\\u003e\\u003cbr\\u003eBase Mean Activation: 0.0000\\u003cbr\\u003eInstruct Mean Activation: 0.1262\\u003cbr\\u003eDifference: 0.1262\\u003cbr\\u003e\\u003cbr\\u003e\\u003cb\\u003eIntrospective prompt-exclusive feature for Instruct\\u003c\\u002fb\\u003e\\u003cbr\\u003eBase Introspective: 0.0% (0\\u002f40)\\u003cbr\\u003eBase Control: 0.0% (0\\u002f40)\\u003cbr\\u003eInstruct Introspective: 5.0% (2\\u002f40)\\u003cbr\\u003eInstruct Control: 0.0% (0\\u002f40)\\u003cbr\\u003e\\u003cbr\\u003e\\u003cbr\\u003e\\u003cb\\u003eDescription:\\u003c\\u002fb\\u003e\\u003cbr\\u003eGreeting expressions from different languages and cultures, often followed by\\u003cbr\\u003etranslations, explanations, or punctuation marks. Examples include \\\"Kia ora\\u003cbr\\u003e(Hello in Maori)\\\", \\\"wanshang hao, or good evening\\\", \\\"peace\\\", \\\"wish you a\\\",\\u003cbr\\u003e\\\"greeted and said goodbye\\\", \\\"The Lord bless you and keep you\\\", \\\"Peace Be With\\u003cbr\\u003eYou All\\\", and conventional greetings like \\\"Good morning\\\" followed by\\u003cbr\\u003econversational exchanges.\\u003cextra\\u003e\\u003c\\u002fextra\\u003e\",\"\\u003cb\\u003eFeature 125138\\u003c\\u002fb\\u003e\\u003cbr\\u003eBase Mean Activation: 0.0000\\u003cbr\\u003eInstruct Mean Activation: 0.0484\\u003cbr\\u003eDifference: 0.0484\\u003cbr\\u003e\\u003cbr\\u003e\\u003cb\\u003eIntrospective prompt-exclusive feature for Instruct\\u003c\\u002fb\\u003e\\u003cbr\\u003eBase Introspective: 0.0% (0\\u002f40)\\u003cbr\\u003eBase Control: 0.0% (0\\u002f40)\\u003cbr\\u003eInstruct Introspective: 2.5% (1\\u002f40)\\u003cbr\\u003eInstruct Control: 0.0% (0\\u002f40)\\u003cbr\\u003e\\u003cbr\\u003e\\u003cbr\\u003e\\u003cb\\u003eDescription:\\u003c\\u002fb\\u003e\\u003cbr\\u003eText that indicates confusion, misunderstanding, or inability to comprehend\\u003cbr\\u003esomething. Examples include phrases where someone expresses they \\\"don't\\u003cbr\\u003eunderstand,\\\" \\\"won't get\\\" something, \\\"makes no sense,\\\" or questions indicating\\u003cbr\\u003econfusion.\\u003cextra\\u003e\\u003c\\u002fextra\\u003e\",\"\\u003cb\\u003eFeature 128819\\u003c\\u002fb\\u003e\\u003cbr\\u003eBase Mean Activation: 0.0000\\u003cbr\\u003eInstruct Mean Activation: 0.0535\\u003cbr\\u003eDifference: 0.0535\\u003cbr\\u003e\\u003cbr\\u003e\\u003cb\\u003eIntrospective prompt-exclusive feature for Instruct\\u003c\\u002fb\\u003e\\u003cbr\\u003eBase Introspective: 0.0% (0\\u002f40)\\u003cbr\\u003eBase Control: 0.0% (0\\u002f40)\\u003cbr\\u003eInstruct Introspective: 2.5% (1\\u002f40)\\u003cbr\\u003eInstruct Control: 0.0% (0\\u002f40)\\u003cbr\\u003e\\u003cbr\\u003e\\u003cbr\\u003e\\u003cb\\u003eDescription:\\u003c\\u002fb\\u003e\\u003cbr\\u003eBrief exclamatory expressions that signal emotional reactions or sudden\\u003cbr\\u003erealizations, typically occurring at the beginning of a response or statement.\\u003cextra\\u003e\\u003c\\u002fextra\\u003e\",\"\\u003cb\\u003eFeature 130469\\u003c\\u002fb\\u003e\\u003cbr\\u003eBase Mean Activation: 0.0000\\u003cbr\\u003eInstruct Mean Activation: 0.4418\\u003cbr\\u003eDifference: 0.4418\\u003cbr\\u003e\\u003cbr\\u003e\\u003cb\\u003eIntrospective prompt-exclusive feature for Instruct\\u003c\\u002fb\\u003e\\u003cbr\\u003eBase Introspective: 0.0% (0\\u002f40)\\u003cbr\\u003eBase Control: 0.0% (0\\u002f40)\\u003cbr\\u003eInstruct Introspective: 15.0% (6\\u002f40)\\u003cbr\\u003eInstruct Control: 0.0% (0\\u002f40)\\u003cbr\\u003e\\u003cbr\\u003e\\u003cbr\\u003e\\u003cb\\u003eDescription:\\u003c\\u002fb\\u003e\\u003cbr\\u003eQuestion-answer format where \\\"What is X?\\\" introduces a definition or explanation\\u003cbr\\u003eabout the topic X.\\u003cextra\\u003e\\u003c\\u002fextra\\u003e\"],\"legendgroup\":\"newline\",\"legendgrouptitle\":{\"text\":\"newline\"},\"marker\":{\"color\":\"#45B7D1\",\"line\":{\"color\":\"black\",\"width\":0.3},\"opacity\":0.7,\"size\":6,\"symbol\":\"square\"},\"mode\":\"markers\",\"name\":\"  Instruct Introspective\",\"text\":[\"Feature 1147\",\"Feature 2083\",\"Feature 2462\",\"Feature 2953\",\"Feature 4584\",\"Feature 6035\",\"Feature 6761\",\"Feature 6901\",\"Feature 9870\",\"Feature 10390\",\"Feature 13486\",\"Feature 14726\",\"Feature 15467\",\"Feature 17112\",\"Feature 18388\",\"Feature 20917\",\"Feature 22997\",\"Feature 26775\",\"Feature 29447\",\"Feature 29527\",\"Feature 30149\",\"Feature 34740\",\"Feature 38590\",\"Feature 40127\",\"Feature 46377\",\"Feature 46416\",\"Feature 47913\",\"Feature 51131\",\"Feature 53398\",\"Feature 53757\",\"Feature 53929\",\"Feature 54710\",\"Feature 60428\",\"Feature 62985\",\"Feature 63052\",\"Feature 68024\",\"Feature 69907\",\"Feature 71479\",\"Feature 71571\",\"Feature 71596\",\"Feature 72343\",\"Feature 72888\",\"Feature 76484\",\"Feature 77099\",\"Feature 77926\",\"Feature 79313\",\"Feature 82107\",\"Feature 83499\",\"Feature 87194\",\"Feature 87963\",\"Feature 91632\",\"Feature 93786\",\"Feature 93822\",\"Feature 97597\",\"Feature 98375\",\"Feature 98790\",\"Feature 99666\",\"Feature 100435\",\"Feature 103654\",\"Feature 108425\",\"Feature 112711\",\"Feature 113883\",\"Feature 114838\",\"Feature 119549\",\"Feature 121829\",\"Feature 123433\",\"Feature 125138\",\"Feature 128819\",\"Feature 130469\"],\"x\":[0.0,0.0,0.0,0.0,0.0,0.0,0.0,0.0,0.0,0.0,0.0,0.0,0.0,0.0,0.0,0.0,0.0,0.0,0.0,0.0,0.0,0.0,0.0,0.0,0.0,0.0,0.0,0.0,0.0,0.0,0.0,0.0,0.0,0.0,0.0,0.0,0.0,0.0,0.0,0.0,0.0,0.0,0.0,0.0,0.0,0.0,0.0,0.0,0.0,0.0,0.0,0.0,0.0,0.0,0.0,0.0,0.0,0.0,0.0,0.0,0.0,0.0,0.0,0.0,0.0,0.0,0.0,0.0,0.0],\"y\":[0.07109375,0.10703125,0.048046876,0.0703125,0.115625,0.048046876,0.049609374,0.09609375,0.05859375,0.0578125,0.0515625,0.05234375,0.058203124,0.8658203,0.15664062,3.7734375,0.43125,0.28125,0.16953126,0.41914064,0.32773438,0.22070312,0.05390625,0.056640625,0.61445314,0.10625,0.34414062,0.0609375,3.6720703,0.06757812,0.6087891,0.2046875,0.52421874,0.15878907,0.05703125,0.5101563,0.05703125,0.23203126,0.42539063,0.049609374,0.10429688,0.3425781,0.06015625,0.053125,0.051171876,0.07578125,0.107226565,0.2878906,0.04921875,0.058203124,0.04824219,0.0640625,0.0765625,0.5835937,0.058203124,0.049609374,0.0515625,0.90234375,0.05703125,0.5527344,0.1140625,0.1578125,0.055859376,0.2328125,0.050390624,0.12617187,0.0484375,0.053515624,0.44179687],\"type\":\"scattergl\"},{\"customdata\":[\"https:\\u002f\\u002fwww.neuronpedia.org\\u002fllama3.1-8b\\u002f17-llamascope-res-131k\\u002f77438\"],\"hoverlabel\":{\"bgcolor\":\"#45B7D1\",\"bordercolor\":\"black\",\"font\":{\"color\":\"white\",\"family\":\"Arial\",\"size\":12}},\"hovertemplate\":[\"\\u003cb\\u003eFeature 77438\\u003c\\u002fb\\u003e\\u003cbr\\u003eBase Mean Activation: 2.2160\\u003cbr\\u003eInstruct Mean Activation: 0.0486\\u003cbr\\u003eDifference: -2.1674\\u003cbr\\u003e\\u003cbr\\u003e\\u003cb\\u003eIntrospective prompt-exclusive feature for Instruct\\u003cbr\\u003eThis feature is also active on the Base model's control prompts\\u003c\\u002fb\\u003e\\u003cbr\\u003eBase Introspective: 80.0% (32\\u002f40)\\u003cbr\\u003eBase Control: 62.5% (25\\u002f40)\\u003cbr\\u003eInstruct Introspective: 2.5% (1\\u002f40)\\u003cbr\\u003eInstruct Control: 0.0% (0\\u002f40)\\u003cbr\\u003e\\u003cbr\\u003e\\u003cbr\\u003e\\u003cb\\u003eDescription:\\u003c\\u002fb\\u003e\\u003cbr\\u003eWords or phrases that mark significant transition points in text, often\\u003cbr\\u003eappearing at boundaries between content sections or preceding punctuation marks\\u003cbr\\u003ethat separate different text segments.\\u003cextra\\u003e\\u003c\\u002fextra\\u003e\"],\"legendgroup\":\"newline\",\"legendgrouptitle\":{\"text\":\"newline\"},\"marker\":{\"color\":\"#45B7D1\",\"line\":{\"color\":\"red\",\"width\":1},\"opacity\":0.7,\"size\":6,\"symbol\":\"square\"},\"mode\":\"markers\",\"name\":\"  Instruct Introspective + Base Control\",\"text\":[\"Feature 77438\"],\"x\":[2.2160156],\"y\":[0.04863281],\"type\":\"scattergl\"},{\"hoverlabel\":{\"bgcolor\":\"gray\",\"bordercolor\":\"black\",\"font\":{\"color\":\"white\",\"family\":\"Arial\",\"size\":11}},\"hovertemplate\":\"No change line\\u003cextra\\u003e\\u003c\\u002fextra\\u003e\",\"line\":{\"color\":\"gray\",\"dash\":\"dash\",\"width\":2},\"mode\":\"lines\",\"name\":\"No Change\",\"x\":[0.0,3.7734375],\"y\":[0.0,3.7734375],\"type\":\"scatter\"}],                        {\"template\":{\"data\":{\"histogram2dcontour\":[{\"type\":\"histogram2dcontour\",\"colorbar\":{\"outlinewidth\":0,\"ticks\":\"\"},\"colorscale\":[[0.0,\"#0d0887\"],[0.1111111111111111,\"#46039f\"],[0.2222222222222222,\"#7201a8\"],[0.3333333333333333,\"#9c179e\"],[0.4444444444444444,\"#bd3786\"],[0.5555555555555556,\"#d8576b\"],[0.6666666666666666,\"#ed7953\"],[0.7777777777777778,\"#fb9f3a\"],[0.8888888888888888,\"#fdca26\"],[1.0,\"#f0f921\"]]}],\"choropleth\":[{\"type\":\"choropleth\",\"colorbar\":{\"outlinewidth\":0,\"ticks\":\"\"}}],\"histogram2d\":[{\"type\":\"histogram2d\",\"colorbar\":{\"outlinewidth\":0,\"ticks\":\"\"},\"colorscale\":[[0.0,\"#0d0887\"],[0.1111111111111111,\"#46039f\"],[0.2222222222222222,\"#7201a8\"],[0.3333333333333333,\"#9c179e\"],[0.4444444444444444,\"#bd3786\"],[0.5555555555555556,\"#d8576b\"],[0.6666666666666666,\"#ed7953\"],[0.7777777777777778,\"#fb9f3a\"],[0.8888888888888888,\"#fdca26\"],[1.0,\"#f0f921\"]]}],\"heatmap\":[{\"type\":\"heatmap\",\"colorbar\":{\"outlinewidth\":0,\"ticks\":\"\"},\"colorscale\":[[0.0,\"#0d0887\"],[0.1111111111111111,\"#46039f\"],[0.2222222222222222,\"#7201a8\"],[0.3333333333333333,\"#9c179e\"],[0.4444444444444444,\"#bd3786\"],[0.5555555555555556,\"#d8576b\"],[0.6666666666666666,\"#ed7953\"],[0.7777777777777778,\"#fb9f3a\"],[0.8888888888888888,\"#fdca26\"],[1.0,\"#f0f921\"]]}],\"heatmapgl\":[{\"type\":\"heatmapgl\",\"colorbar\":{\"outlinewidth\":0,\"ticks\":\"\"},\"colorscale\":[[0.0,\"#0d0887\"],[0.1111111111111111,\"#46039f\"],[0.2222222222222222,\"#7201a8\"],[0.3333333333333333,\"#9c179e\"],[0.4444444444444444,\"#bd3786\"],[0.5555555555555556,\"#d8576b\"],[0.6666666666666666,\"#ed7953\"],[0.7777777777777778,\"#fb9f3a\"],[0.8888888888888888,\"#fdca26\"],[1.0,\"#f0f921\"]]}],\"contourcarpet\":[{\"type\":\"contourcarpet\",\"colorbar\":{\"outlinewidth\":0,\"ticks\":\"\"}}],\"contour\":[{\"type\":\"contour\",\"colorbar\":{\"outlinewidth\":0,\"ticks\":\"\"},\"colorscale\":[[0.0,\"#0d0887\"],[0.1111111111111111,\"#46039f\"],[0.2222222222222222,\"#7201a8\"],[0.3333333333333333,\"#9c179e\"],[0.4444444444444444,\"#bd3786\"],[0.5555555555555556,\"#d8576b\"],[0.6666666666666666,\"#ed7953\"],[0.7777777777777778,\"#fb9f3a\"],[0.8888888888888888,\"#fdca26\"],[1.0,\"#f0f921\"]]}],\"surface\":[{\"type\":\"surface\",\"colorbar\":{\"outlinewidth\":0,\"ticks\":\"\"},\"colorscale\":[[0.0,\"#0d0887\"],[0.1111111111111111,\"#46039f\"],[0.2222222222222222,\"#7201a8\"],[0.3333333333333333,\"#9c179e\"],[0.4444444444444444,\"#bd3786\"],[0.5555555555555556,\"#d8576b\"],[0.6666666666666666,\"#ed7953\"],[0.7777777777777778,\"#fb9f3a\"],[0.8888888888888888,\"#fdca26\"],[1.0,\"#f0f921\"]]}],\"mesh3d\":[{\"type\":\"mesh3d\",\"colorbar\":{\"outlinewidth\":0,\"ticks\":\"\"}}],\"scatter\":[{\"fillpattern\":{\"fillmode\":\"overlay\",\"size\":10,\"solidity\":0.2},\"type\":\"scatter\"}],\"parcoords\":[{\"type\":\"parcoords\",\"line\":{\"colorbar\":{\"outlinewidth\":0,\"ticks\":\"\"}}}],\"scatterpolargl\":[{\"type\":\"scatterpolargl\",\"marker\":{\"colorbar\":{\"outlinewidth\":0,\"ticks\":\"\"}}}],\"bar\":[{\"error_x\":{\"color\":\"#2a3f5f\"},\"error_y\":{\"color\":\"#2a3f5f\"},\"marker\":{\"line\":{\"color\":\"#E5ECF6\",\"width\":0.5},\"pattern\":{\"fillmode\":\"overlay\",\"size\":10,\"solidity\":0.2}},\"type\":\"bar\"}],\"scattergeo\":[{\"type\":\"scattergeo\",\"marker\":{\"colorbar\":{\"outlinewidth\":0,\"ticks\":\"\"}}}],\"scatterpolar\":[{\"type\":\"scatterpolar\",\"marker\":{\"colorbar\":{\"outlinewidth\":0,\"ticks\":\"\"}}}],\"histogram\":[{\"marker\":{\"pattern\":{\"fillmode\":\"overlay\",\"size\":10,\"solidity\":0.2}},\"type\":\"histogram\"}],\"scattergl\":[{\"type\":\"scattergl\",\"marker\":{\"colorbar\":{\"outlinewidth\":0,\"ticks\":\"\"}}}],\"scatter3d\":[{\"type\":\"scatter3d\",\"line\":{\"colorbar\":{\"outlinewidth\":0,\"ticks\":\"\"}},\"marker\":{\"colorbar\":{\"outlinewidth\":0,\"ticks\":\"\"}}}],\"scattermapbox\":[{\"type\":\"scattermapbox\",\"marker\":{\"colorbar\":{\"outlinewidth\":0,\"ticks\":\"\"}}}],\"scatterternary\":[{\"type\":\"scatterternary\",\"marker\":{\"colorbar\":{\"outlinewidth\":0,\"ticks\":\"\"}}}],\"scattercarpet\":[{\"type\":\"scattercarpet\",\"marker\":{\"colorbar\":{\"outlinewidth\":0,\"ticks\":\"\"}}}],\"carpet\":[{\"aaxis\":{\"endlinecolor\":\"#2a3f5f\",\"gridcolor\":\"white\",\"linecolor\":\"white\",\"minorgridcolor\":\"white\",\"startlinecolor\":\"#2a3f5f\"},\"baxis\":{\"endlinecolor\":\"#2a3f5f\",\"gridcolor\":\"white\",\"linecolor\":\"white\",\"minorgridcolor\":\"white\",\"startlinecolor\":\"#2a3f5f\"},\"type\":\"carpet\"}],\"table\":[{\"cells\":{\"fill\":{\"color\":\"#EBF0F8\"},\"line\":{\"color\":\"white\"}},\"header\":{\"fill\":{\"color\":\"#C8D4E3\"},\"line\":{\"color\":\"white\"}},\"type\":\"table\"}],\"barpolar\":[{\"marker\":{\"line\":{\"color\":\"#E5ECF6\",\"width\":0.5},\"pattern\":{\"fillmode\":\"overlay\",\"size\":10,\"solidity\":0.2}},\"type\":\"barpolar\"}],\"pie\":[{\"automargin\":true,\"type\":\"pie\"}]},\"layout\":{\"autotypenumbers\":\"strict\",\"colorway\":[\"#636efa\",\"#EF553B\",\"#00cc96\",\"#ab63fa\",\"#FFA15A\",\"#19d3f3\",\"#FF6692\",\"#B6E880\",\"#FF97FF\",\"#FECB52\"],\"font\":{\"color\":\"#2a3f5f\"},\"hovermode\":\"closest\",\"hoverlabel\":{\"align\":\"left\"},\"paper_bgcolor\":\"white\",\"plot_bgcolor\":\"#E5ECF6\",\"polar\":{\"bgcolor\":\"#E5ECF6\",\"angularaxis\":{\"gridcolor\":\"white\",\"linecolor\":\"white\",\"ticks\":\"\"},\"radialaxis\":{\"gridcolor\":\"white\",\"linecolor\":\"white\",\"ticks\":\"\"}},\"ternary\":{\"bgcolor\":\"#E5ECF6\",\"aaxis\":{\"gridcolor\":\"white\",\"linecolor\":\"white\",\"ticks\":\"\"},\"baxis\":{\"gridcolor\":\"white\",\"linecolor\":\"white\",\"ticks\":\"\"},\"caxis\":{\"gridcolor\":\"white\",\"linecolor\":\"white\",\"ticks\":\"\"}},\"coloraxis\":{\"colorbar\":{\"outlinewidth\":0,\"ticks\":\"\"}},\"colorscale\":{\"sequential\":[[0.0,\"#0d0887\"],[0.1111111111111111,\"#46039f\"],[0.2222222222222222,\"#7201a8\"],[0.3333333333333333,\"#9c179e\"],[0.4444444444444444,\"#bd3786\"],[0.5555555555555556,\"#d8576b\"],[0.6666666666666666,\"#ed7953\"],[0.7777777777777778,\"#fb9f3a\"],[0.8888888888888888,\"#fdca26\"],[1.0,\"#f0f921\"]],\"sequentialminus\":[[0.0,\"#0d0887\"],[0.1111111111111111,\"#46039f\"],[0.2222222222222222,\"#7201a8\"],[0.3333333333333333,\"#9c179e\"],[0.4444444444444444,\"#bd3786\"],[0.5555555555555556,\"#d8576b\"],[0.6666666666666666,\"#ed7953\"],[0.7777777777777778,\"#fb9f3a\"],[0.8888888888888888,\"#fdca26\"],[1.0,\"#f0f921\"]],\"diverging\":[[0,\"#8e0152\"],[0.1,\"#c51b7d\"],[0.2,\"#de77ae\"],[0.3,\"#f1b6da\"],[0.4,\"#fde0ef\"],[0.5,\"#f7f7f7\"],[0.6,\"#e6f5d0\"],[0.7,\"#b8e186\"],[0.8,\"#7fbc41\"],[0.9,\"#4d9221\"],[1,\"#276419\"]]},\"xaxis\":{\"gridcolor\":\"white\",\"linecolor\":\"white\",\"ticks\":\"\",\"title\":{\"standoff\":15},\"zerolinecolor\":\"white\",\"automargin\":true,\"zerolinewidth\":2},\"yaxis\":{\"gridcolor\":\"white\",\"linecolor\":\"white\",\"ticks\":\"\",\"title\":{\"standoff\":15},\"zerolinecolor\":\"white\",\"automargin\":true,\"zerolinewidth\":2},\"scene\":{\"xaxis\":{\"backgroundcolor\":\"#E5ECF6\",\"gridcolor\":\"white\",\"linecolor\":\"white\",\"showbackground\":true,\"ticks\":\"\",\"zerolinecolor\":\"white\",\"gridwidth\":2},\"yaxis\":{\"backgroundcolor\":\"#E5ECF6\",\"gridcolor\":\"white\",\"linecolor\":\"white\",\"showbackground\":true,\"ticks\":\"\",\"zerolinecolor\":\"white\",\"gridwidth\":2},\"zaxis\":{\"backgroundcolor\":\"#E5ECF6\",\"gridcolor\":\"white\",\"linecolor\":\"white\",\"showbackground\":true,\"ticks\":\"\",\"zerolinecolor\":\"white\",\"gridwidth\":2}},\"shapedefaults\":{\"line\":{\"color\":\"#2a3f5f\"}},\"annotationdefaults\":{\"arrowcolor\":\"#2a3f5f\",\"arrowhead\":0,\"arrowwidth\":1},\"geo\":{\"bgcolor\":\"white\",\"landcolor\":\"#E5ECF6\",\"subunitcolor\":\"white\",\"showland\":true,\"showlakes\":true,\"lakecolor\":\"white\"},\"title\":{\"x\":0.05},\"mapbox\":{\"style\":\"light\"}}},\"title\":{\"font\":{\"size\":16},\"text\":\"Base → Instruct Introspective SAE Features: Mean Activation\\u003cbr\\u003e\\u003csub\\u003eLlama 3.1 8B, Residual Stream Post-Layer 17\\u003c\\u002fsub\\u003e\",\"x\":0.5,\"xanchor\":\"center\"},\"legend\":{\"title\":{\"text\":\"Activation Position\"},\"orientation\":\"v\",\"yanchor\":\"top\",\"y\":1,\"xanchor\":\"left\",\"x\":1.02,\"groupclick\":\"togglegroup\"},\"xaxis\":{\"title\":{\"text\":\"Base: Mean Activation\"},\"scaleanchor\":\"y\",\"scaleratio\":1,\"range\":[-0.18867187201976776,3.962109327316284],\"showgrid\":true,\"gridwidth\":1,\"gridcolor\":\"lightgray\"},\"yaxis\":{\"title\":{\"text\":\"Instruct: Mean Activation\"},\"range\":[-0.18867187201976776,3.962109327316284],\"showgrid\":true,\"gridwidth\":1,\"gridcolor\":\"lightgray\"},\"height\":800,\"width\":1005,\"showlegend\":true,\"hovermode\":\"closest\"},                        {\"responsive\": true}                    ).then(function(){\n",
       "                            \n",
       "var gd = document.getElementById('9efaaa38-4903-4bfe-8fb2-b03606a97a89');\n",
       "var x = new MutationObserver(function (mutations, observer) {{\n",
       "        var display = window.getComputedStyle(gd).display;\n",
       "        if (!display || display === 'none') {{\n",
       "            console.log([gd, 'removed!']);\n",
       "            Plotly.purge(gd);\n",
       "            observer.disconnect();\n",
       "        }}\n",
       "}});\n",
       "\n",
       "// Listen for the removal of the full notebook cells\n",
       "var notebookContainer = gd.closest('#notebook-container');\n",
       "if (notebookContainer) {{\n",
       "    x.observe(notebookContainer, {childList: true});\n",
       "}}\n",
       "\n",
       "// Listen for the clearing of the current output cell\n",
       "var outputEl = gd.closest('.output');\n",
       "if (outputEl) {{\n",
       "    x.observe(outputEl, {childList: true});\n",
       "}}\n",
       "\n",
       "                        })                };                });            </script>        </div>"
      ]
     },
     "metadata": {},
     "output_type": "display_data"
    }
   ],
   "source": [
    "\n",
    "\n",
    "# Styling configuration\n",
    "# colors = {'model': '#FF6B6B', 'newline': '#4ECDC4'}\n",
    "colors = {'asst': '#FF6B6B', 'endheader': '#4ECDC4', 'newline': '#45B7D1'}\n",
    "exclusivity_symbols = {'both': 'star', 'base': 'circle', 'chat': 'square'}\n",
    "exclusivity_names = {'both': 'Both Introspective', 'base': 'Base Introspective', 'chat': 'Instruct Introspective'}\n",
    "\n",
    "print(f\"Creating interactive scatterplot for {SELECTED_METRIC}...\")\n",
    "\n",
    "# Create figure\n",
    "fig = go.Figure()\n",
    "\n",
    "# Get all values for axis scaling\n",
    "all_base_values = []\n",
    "all_chat_values = []\n",
    "for token_type in token_types:\n",
    "    data = precomputed_data[token_type]\n",
    "    all_base_values.extend(data['base_values'])\n",
    "    all_chat_values.extend(data['chat_values'])\n",
    "\n",
    "# Add traces grouped by token type and exclusivity\n",
    "for token_type in token_types:\n",
    "    data = precomputed_data[token_type]\n",
    "    \n",
    "    for exclusivity_type in ['both', 'base', 'chat']:\n",
    "        # Filter data for this exclusivity type\n",
    "        mask = data['exclusivity_categories'] == exclusivity_type\n",
    "        if not np.any(mask):\n",
    "            continue\n",
    "        \n",
    "        # Separate consistent and inconsistent features\n",
    "        consistent_mask = mask & ~data['inconsistencies']\n",
    "        inconsistent_mask = mask & data['inconsistencies']\n",
    "        \n",
    "        trace_name = f\"  {exclusivity_names[exclusivity_type]}\"\n",
    "        \n",
    "        # Add consistent features\n",
    "        if np.any(consistent_mask):\n",
    "            fig.add_trace(\n",
    "                go.Scattergl(\n",
    "                    x=data['base_values'][consistent_mask],\n",
    "                    y=data['chat_values'][consistent_mask],\n",
    "                    mode='markers',\n",
    "                    name=trace_name,\n",
    "                    legendgroup=token_type,\n",
    "                    legendgrouptitle_text=token_type,\n",
    "                    marker=dict(\n",
    "                        size=6,\n",
    "                        color=colors[token_type],\n",
    "                        symbol=exclusivity_symbols[exclusivity_type],\n",
    "                        line=dict(width=0.3, color='black'),\n",
    "                        opacity=0.7\n",
    "                    ),\n",
    "                    text=[f\"Feature {fid}\" for fid in data['feature_ids'][consistent_mask]],\n",
    "                    customdata=np.array(data['neuronpedia_urls'])[consistent_mask],\n",
    "                    hovertemplate=np.array(data['hover_texts'])[consistent_mask],\n",
    "                    hoverlabel=dict(\n",
    "                        bgcolor=colors[token_type],\n",
    "                        bordercolor=\"black\",\n",
    "                        font_size=12,\n",
    "                        font_family=\"Arial\",\n",
    "                        font_color=\"white\"\n",
    "                    )\n",
    "                )\n",
    "            )\n",
    "        \n",
    "        # Add inconsistent features with red border\n",
    "        if np.any(inconsistent_mask):\n",
    "            other_model_text = \"Instruct\" if exclusivity_type == \"base\" else \"Base\"\n",
    "            inconsistent_suffix = f\" + {other_model_text} Control\"\n",
    "\n",
    "            fig.add_trace(\n",
    "                go.Scattergl(\n",
    "                    x=data['base_values'][inconsistent_mask],\n",
    "                    y=data['chat_values'][inconsistent_mask],\n",
    "                    mode='markers',\n",
    "                    name=trace_name + f\"{inconsistent_suffix}\",\n",
    "                    legendgroup=token_type,\n",
    "                    legendgrouptitle_text=token_type,\n",
    "                    marker=dict(\n",
    "                        size=6,\n",
    "                        color=colors[token_type],\n",
    "                        symbol=exclusivity_symbols[exclusivity_type],\n",
    "                        line=dict(width=1, color='red'),\n",
    "                        opacity=0.7\n",
    "                    ),\n",
    "                    text=[f\"Feature {fid}\" for fid in data['feature_ids'][inconsistent_mask]],\n",
    "                    customdata=np.array(data['neuronpedia_urls'])[inconsistent_mask],\n",
    "                    hovertemplate=np.array(data['hover_texts'])[inconsistent_mask],\n",
    "                    hoverlabel=dict(\n",
    "                        bgcolor=colors[token_type],\n",
    "                        bordercolor=\"black\",\n",
    "                        font_size=12,\n",
    "                        font_family=\"Arial\",\n",
    "                        font_color=\"white\"\n",
    "                    )\n",
    "                )\n",
    "            )\n",
    "\n",
    "# Add diagonal \"no change\" line\n",
    "max_val = max(max(all_base_values), max(all_chat_values))\n",
    "min_val = min(min(all_base_values), min(all_chat_values))\n",
    "\n",
    "fig.add_trace(\n",
    "    go.Scatter(\n",
    "        x=[min_val, max_val],\n",
    "        y=[min_val, max_val],\n",
    "        mode='lines',\n",
    "        line=dict(color='gray', dash='dash', width=2),\n",
    "        name='No Change',\n",
    "        hovertemplate=\"No change line<extra></extra>\",\n",
    "        hoverlabel=dict(bgcolor=\"gray\", bordercolor=\"black\", font_size=11, font_family=\"Arial\", font_color=\"white\")\n",
    "    )\n",
    ")\n",
    "\n",
    "buffer = (max_val - min_val) * 0.05  # 5% buffer\n",
    "axis_min = min_val - buffer\n",
    "axis_max = max_val + buffer\n",
    "\n",
    "# Update layout\n",
    "metric_display = METRIC_SUBTITLE[SELECTED_METRIC]\n",
    "\n",
    "fig.update_layout(\n",
    "    title={\n",
    "        'text': f'Base → Instruct Introspective SAE Features: {metric_display}<br><sub>{MODEL_NAME_READABLE}, Residual Stream Post-Layer {SAE_LAYER}</sub>',\n",
    "        'x': 0.5,\n",
    "        'xanchor': 'center',\n",
    "        'font': {'size': 16}\n",
    "    },\n",
    "    xaxis_title=f'Base: {metric_display}',\n",
    "    yaxis_title=f'Instruct: {metric_display}',\n",
    "    height=800,\n",
    "    width=1005,\n",
    "    showlegend=True,\n",
    "    hovermode='closest',\n",
    "    legend=dict(\n",
    "        title=\"Activation Position\",\n",
    "        orientation=\"v\",\n",
    "        yanchor=\"top\",\n",
    "        y=1,\n",
    "        xanchor=\"left\",\n",
    "        x=1.02,\n",
    "        groupclick=\"togglegroup\"\n",
    "    ),\n",
    "    xaxis=dict(scaleanchor=\"y\", scaleratio=1, range=[axis_min, axis_max]),\n",
    "    yaxis=dict(range=[axis_min, axis_max]),\n",
    ")\n",
    "\n",
    "fig.update_xaxes(showgrid=True, gridwidth=1, gridcolor='lightgray')\n",
    "fig.update_yaxes(showgrid=True, gridwidth=1, gridcolor='lightgray')\n",
    "\n",
    "# Save with click handler\n",
    "out_name = SELECTED_METRIC.removeprefix('target_')\n",
    "output_html = OUTPUT_DIR / f\"{out_name}.html\"\n",
    "html_content = fig.to_html(\n",
    "    include_plotlyjs='cdn',\n",
    "    config={'displayModeBar': True, 'showTips': False, 'scrollZoom': True, 'doubleClick': 'reset'}\n",
    ")\n",
    "\n",
    "click_script = \"\"\"\n",
    "<script>\n",
    "document.addEventListener('DOMContentLoaded', function() {\n",
    "    var plotDiv = document.getElementsByClassName('plotly-graph-div')[0];\n",
    "    let clickTimeout;\n",
    "    plotDiv.on('plotly_click', function(data) {\n",
    "        clearTimeout(clickTimeout);\n",
    "        clickTimeout = setTimeout(function() {\n",
    "            var point = data.points[0];\n",
    "            if (point.customdata) {\n",
    "                window.open(point.customdata, '_blank');\n",
    "            }\n",
    "        }, 100);\n",
    "    });\n",
    "});\n",
    "</script>\n",
    "\"\"\"\n",
    "\n",
    "with open(output_html, 'w') as f:\n",
    "    f.write(html_content.replace('</body>', click_script + '</body>'))\n",
    "\n",
    "print(f\"Interactive scatterplot saved to: {output_html}\")\n",
    "fig.show()"
   ]
  }
 ],
 "metadata": {
  "kernelspec": {
   "display_name": ".venv",
   "language": "python",
   "name": "python3"
  },
  "language_info": {
   "codemirror_mode": {
    "name": "ipython",
    "version": 3
   },
   "file_extension": ".py",
   "mimetype": "text/x-python",
   "name": "python",
   "nbconvert_exporter": "python",
   "pygments_lexer": "ipython3",
   "version": "3.12.11"
  }
 },
 "nbformat": 4,
 "nbformat_minor": 2
}
