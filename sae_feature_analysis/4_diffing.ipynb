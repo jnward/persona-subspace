{
 "cells": [
  {
   "cell_type": "markdown",
   "metadata": {},
   "source": [
    "# Feature Analysis: Diffing Base and Instruct\n",
    "\n",
    "This notebook analyzes which SAE features increase in activations between base and chat models."
   ]
  },
  {
   "cell_type": "code",
   "execution_count": 32,
   "metadata": {},
   "outputs": [
    {
     "name": "stdout",
     "output_type": "stream",
     "text": [
      "Using device: cuda\n"
     ]
    }
   ],
   "source": [
    "import csv\n",
    "import json\n",
    "import torch\n",
    "import os\n",
    "import shutil\n",
    "import numpy as np\n",
    "import pandas as pd\n",
    "from pathlib import Path\n",
    "from typing import List, Dict, Tuple\n",
    "from datasets import load_dataset\n",
    "from safetensors.torch import load_file\n",
    "from transformers import AutoTokenizer, AutoModelForCausalLM\n",
    "from huggingface_hub import hf_hub_download\n",
    "from sae_lens import SAE\n",
    "from tqdm.auto import tqdm\n",
    "\n",
    "# Set device\n",
    "device = torch.device(\"cuda\" if torch.cuda.is_available() else \"cpu\")\n",
    "print(f\"Using device: {device}\")"
   ]
  },
  {
   "cell_type": "markdown",
   "metadata": {},
   "source": [
    "## Configs"
   ]
  },
  {
   "cell_type": "code",
   "execution_count": 41,
   "metadata": {},
   "outputs": [
    {
     "name": "stdout",
     "output_type": "stream",
     "text": [
      "Configuration Summary:\n",
      "  Model: meta-llama/Llama-3.1-8B\n",
      "  SAE: fnlp/Llama3_1-8B-Base-LXR-32x\n",
      "  SAE Layer: 15, Trainer: 32x\n",
      "  Available token types: ['asst', 'endheader', 'newline']\n",
      "  Assistant header: <|start_header_id|>assistant<|end_header_id|>\n",
      "  Output file: ./results/4_diffing/3_personal_general.csv\n",
      "  Prompt output file: ./results/4_diffing/3_personal_general_prompts.jsonl\n"
     ]
    }
   ],
   "source": [
    "# =============================================================================\n",
    "# MODEL SELECTION - Change this to switch between models\n",
    "# =============================================================================\n",
    "MODEL_TYPE = \"llama\"  # Options: \"qwen\" or \"llama\"\n",
    "SAE_LAYER = 15\n",
    "SAE_TRAINER = \"32x\"\n",
    "\n",
    "# =============================================================================\n",
    "# OUTPUT FILE CONFIGURATION\n",
    "# =============================================================================\n",
    "OUTPUT_FILE = f\"./results/4_diffing/3_personal_general.csv\"\n",
    "os.makedirs(os.path.dirname(OUTPUT_FILE), exist_ok=True)\n",
    "\n",
    "PROMPT_OUTPUT_FILE = f\"./results/4_diffing/3_personal_general_prompts.jsonl\"\n",
    "os.makedirs(os.path.dirname(PROMPT_OUTPUT_FILE), exist_ok=True)\n",
    "\n",
    "# =============================================================================\n",
    "# FEATURE DASHBOARD URL - Global variable for links\n",
    "# =============================================================================\n",
    "FEATURE_DASHBOARD_BASE_URL = \"https://completely-touched-platypus.ngrok-free.app/\"\n",
    "\n",
    "# =============================================================================\n",
    "# AUTO-CONFIGURED SETTINGS BASED ON MODEL TYPE\n",
    "# =============================================================================\n",
    "# if MODEL_TYPE == \"qwen\":\n",
    "#     MODEL_NAME = \"Qwen/Qwen2.5-7B-Instruct\"\n",
    "#     SAE_RELEASE = \"andyrdt/saes-qwen2.5-7b-instruct\"\n",
    "#     ASSISTANT_HEADER = \"<|im_start|>assistant\"\n",
    "#     TOKEN_OFFSETS = {\"asst\": -1, \"newline\": 0}\n",
    "#     SAE_BASE_PATH = \"/workspace/sae/qwen-2.5-7b-instruct/saes\"\n",
    "    \n",
    "# if MODEL_TYPE == \"llama\":\n",
    "#     MODEL_NAME = \"meta-llama/Llama-3.1-8B-Instruct\"\n",
    "#     SAE_RELEASE = \"andyrdt/saes-llama-3.1-8b-instruct\"\n",
    "#     ASSISTANT_HEADER = \"<|start_header_id|>assistant<|end_header_id|>\"\n",
    "#     TOKEN_OFFSETS = {\"asst\": -2, \"endheader\": -1, \"newline\": 0}\n",
    "#     SAE_BASE_PATH = \"/workspace/sae/llama-3.1-8b-instruct/saes\"\n",
    "\n",
    "if MODEL_TYPE == \"llama\":\n",
    "    BASE_MODEL_NAME = \"meta-llama/Llama-3.1-8B\"\n",
    "    CHAT_MODEL_NAME = \"meta-llama/Llama-3.1-8B-Instruct\"\n",
    "    SAE_RELEASE = \"fnlp/Llama3_1-8B-Base-LXR-32x\"\n",
    "    ASSISTANT_HEADER = \"<|start_header_id|>assistant<|end_header_id|>\"\n",
    "    TOKEN_OFFSETS = {\"asst\": -2, \"endheader\": -1, \"newline\": 0}\n",
    "    SAE_BASE_PATH = \"/workspace/sae/llama-3.1-8b/saes\"\n",
    "    \n",
    "else:\n",
    "    raise ValueError(f\"Unknown MODEL_TYPE: {MODEL_TYPE}. Use 'qwen' or 'llama'\")\n",
    "\n",
    "# =============================================================================\n",
    "# DERIVED CONFIGURATIONS\n",
    "# =============================================================================\n",
    "SAE_PATH = f\"{SAE_BASE_PATH}/resid_post_layer_{SAE_LAYER}/trainer_{SAE_TRAINER}\"\n",
    "LAYER_INDEX = SAE_LAYER\n",
    "\n",
    "# Data paths\n",
    "PROMPTS_HF = \"lmsys/lmsys-chat-1m\"\n",
    "N_PROMPTS = 1000\n",
    "SEED = 42\n",
    "PROMPTS_PATH = f\"/workspace/data/{PROMPTS_HF.split('/')[-1]}/chat_{N_PROMPTS}.jsonl\"\n",
    "os.makedirs(os.path.dirname(PROMPTS_PATH), exist_ok=True)\n",
    "\n",
    "# Processing parameters\n",
    "BATCH_SIZE = 8\n",
    "MAX_LENGTH = 512\n",
    "TOP_FEATURES = 100\n",
    "\n",
    "# =============================================================================\n",
    "# SUMMARY\n",
    "# =============================================================================\n",
    "print(f\"Configuration Summary:\")\n",
    "print(f\"  Model: {BASE_MODEL_NAME}\")\n",
    "print(f\"  SAE: {SAE_RELEASE}\")\n",
    "print(f\"  SAE Layer: {SAE_LAYER}, Trainer: {SAE_TRAINER}\")\n",
    "print(f\"  Available token types: {list(TOKEN_OFFSETS.keys())}\")\n",
    "print(f\"  Assistant header: {ASSISTANT_HEADER}\")\n",
    "print(f\"  Output file: {OUTPUT_FILE}\")\n",
    "print(f\"  Prompt output file: {PROMPT_OUTPUT_FILE}\")"
   ]
  },
  {
   "cell_type": "markdown",
   "metadata": {},
   "source": [
    "## Load Data"
   ]
  },
  {
   "cell_type": "code",
   "execution_count": null,
   "metadata": {},
   "outputs": [
    {
     "name": "stdout",
     "output_type": "stream",
     "text": [
      "Prompts already exist at /workspace/data/lmsys-chat-1m/chat_1000.jsonl\n",
      "Loaded 1000 prompts\n",
      "Prompt keys: Index(['conversation_id', 'prompt', 'redacted', 'language'], dtype='object')\n"
     ]
    }
   ],
   "source": [
    "def load_lmsys_prompts(prompts_path: str, prompts_hf: str, n_prompts: int, seed: int) -> pd.DataFrame:\n",
    "    # Check if prompts_path exists\n",
    "    if os.path.exists(prompts_path):\n",
    "        print(f\"Prompts already exist at {prompts_path}\")\n",
    "        return pd.read_json(prompts_path, lines=True)\n",
    "    else:\n",
    "        print(f\"Prompts do not exist at {prompts_path}. Loading from {prompts_hf}...\")\n",
    "        dataset = load_dataset(prompts_hf)\n",
    "        dataset = dataset['train'].shuffle(seed=seed).select(range(n_prompts))\n",
    "        df = dataset.to_pandas()\n",
    "\n",
    "        # Extract the prompt from the first conversation item\n",
    "        df['prompt'] = df['conversation'].apply(lambda x: x[0]['content'])\n",
    "\n",
    "        # Only keep some columns\n",
    "        df = df[['conversation_id', 'prompt', 'redacted', 'language']]\n",
    "\n",
    "        # Save to .jsonl file\n",
    "        df.to_json(prompts_path, orient='records', lines=True)\n",
    "        return df\n",
    "\n",
    "prompts_df = load_lmsys_prompts(PROMPTS_PATH, PROMPTS_HF, N_PROMPTS, SEED)\n",
    "print(f\"Loaded {prompts_df.shape[0]} prompts\")\n",
    "print(f\"Prompt keys: {prompts_df.keys()}\")\n"
   ]
  },
  {
   "cell_type": "markdown",
   "metadata": {},
   "source": [
    "## Load Model and SAE"
   ]
  },
  {
   "cell_type": "code",
   "execution_count": 42,
   "metadata": {},
   "outputs": [
    {
     "name": "stdout",
     "output_type": "stream",
     "text": [
      "Tokenizer loaded: PreTrainedTokenizerFast\n"
     ]
    }
   ],
   "source": [
    "# Load tokenizer (from chat model)\n",
    "tokenizer = AutoTokenizer.from_pretrained(CHAT_MODEL_NAME)\n",
    "if tokenizer.pad_token is None:\n",
    "    tokenizer.pad_token = tokenizer.eos_token\n",
    "tokenizer.padding_side = \"right\"\n",
    "\n",
    "print(f\"Tokenizer loaded: {tokenizer.__class__.__name__}\")"
   ]
  },
  {
   "cell_type": "code",
   "execution_count": 38,
   "metadata": {},
   "outputs": [
    {
     "data": {
      "application/vnd.jupyter.widget-view+json": {
       "model_id": "30a797b60c684c7ba22bd01938426d1a",
       "version_major": 2,
       "version_minor": 0
      },
      "text/plain": [
       "Loading checkpoint shards:   0%|          | 0/4 [00:00<?, ?it/s]"
      ]
     },
     "metadata": {},
     "output_type": "display_data"
    },
    {
     "name": "stdout",
     "output_type": "stream",
     "text": [
      "Model loaded: LlamaForCausalLM\n",
      "Model device: cuda:0\n"
     ]
    }
   ],
   "source": [
    "# Load model\n",
    "device_map_value = device.index if device.type == 'cuda' and device.index is not None else str(device)\n",
    "\n",
    "model = AutoModelForCausalLM.from_pretrained(\n",
    "    BASE_MODEL_NAME,\n",
    "    torch_dtype=torch.bfloat16,\n",
    "    device_map={\"\": device_map_value}\n",
    ")\n",
    "model.eval()\n",
    "\n",
    "print(f\"Model loaded: {model.__class__.__name__}\")\n",
    "print(f\"Model device: {next(model.parameters()).device}\")"
   ]
  },
  {
   "cell_type": "code",
   "execution_count": 34,
   "metadata": {},
   "outputs": [
    {
     "name": "stdout",
     "output_type": "stream",
     "text": [
      "SAE loaded with 131072 features\n",
      "SAE device: cuda:0\n"
     ]
    }
   ],
   "source": [
    "# Load SAE\n",
    "def load_llamascope_sae(SAE_PATH, SAE_LAYER, SAE_TRAINER):\n",
    "    \"\"\"Load llamaScope SAE from Hugging Face.\"\"\"\n",
    "\n",
    "    # Check if SAE file exist locally\n",
    "    ae_file_path = os.path.join(SAE_PATH, \"sae_weights.safetensors\")\n",
    "\n",
    "    if os.path.exists(ae_file_path):\n",
    "        print(f\"✓ Found SAE files at: {os.path.dirname(ae_file_path)}\")\n",
    "        sae = SAE.load_from_disk(SAE_PATH)\n",
    "    else:\n",
    "        print(f\"SAE not found locally, downloading from HF via sae_lens...\")\n",
    "        os.makedirs(os.path.dirname(SAE_PATH), exist_ok=True)\n",
    "\n",
    "        sae, _, sparsity = SAE.from_pretrained(\n",
    "            release = f\"llama_scope_lxr_{SAE_TRAINER}\", # see other options in sae_lens/pretrained_saes.yaml\n",
    "            sae_id = f\"l{SAE_LAYER}r_{SAE_TRAINER}\", # won't always be a hook point\n",
    "            device = \"cuda\"\n",
    "        )\n",
    "        sae.save_model(SAE_PATH, sparsity)\n",
    "\n",
    "    return sae\n",
    "\n",
    "sae = load_llamascope_sae(SAE_PATH, SAE_LAYER, SAE_TRAINER)\n",
    "print(f\"SAE loaded with {sae.cfg.d_sae} features\")\n",
    "print(f\"SAE device: {next(sae.parameters()).device}\")"
   ]
  },
  {
   "cell_type": "markdown",
   "metadata": {},
   "source": [
    "## Activation Extraction Functions"
   ]
  },
  {
   "cell_type": "code",
   "execution_count": 43,
   "metadata": {},
   "outputs": [
    {
     "name": "stdout",
     "output_type": "stream",
     "text": [
      "Activation extraction functions defined\n"
     ]
    }
   ],
   "source": [
    "class StopForward(Exception):\n",
    "    \"\"\"Exception to stop forward pass after target layer.\"\"\"\n",
    "    pass\n",
    "\n",
    "def find_assistant_position(input_ids: torch.Tensor, attention_mask: torch.Tensor, \n",
    "                          assistant_header: str, token_offset: int, tokenizer, device) -> int:\n",
    "    \"\"\"Find the position of the assistant token based on the given offset.\"\"\"\n",
    "    # Find assistant header position\n",
    "    assistant_tokens = tokenizer.encode(assistant_header, add_special_tokens=False)\n",
    "    \n",
    "    # Find where assistant section starts\n",
    "    assistant_pos = None\n",
    "    for k in range(len(input_ids) - len(assistant_tokens) + 1):\n",
    "        if torch.equal(input_ids[k:k+len(assistant_tokens)], torch.tensor(assistant_tokens).to(device)):\n",
    "            assistant_pos = k + len(assistant_tokens) + token_offset\n",
    "            break\n",
    "    \n",
    "    if assistant_pos is None:\n",
    "        # Fallback to last non-padding token\n",
    "        assistant_pos = attention_mask.sum().item() - 1\n",
    "    \n",
    "    # Ensure position is within bounds\n",
    "    max_pos = attention_mask.sum().item() - 1\n",
    "    assistant_pos = min(assistant_pos, max_pos)\n",
    "    assistant_pos = max(assistant_pos, 0)\n",
    "    \n",
    "    return int(assistant_pos)\n",
    "\n",
    "@torch.no_grad()\n",
    "def extract_activations_and_metadata(prompts: List[str], layer_idx: int) -> Tuple[torch.Tensor, List[Dict], List[str]]:\n",
    "    \"\"\"Extract activations and prepare metadata for all prompts.\"\"\"\n",
    "    all_activations = []\n",
    "    all_metadata = []\n",
    "    formatted_prompts_list = []\n",
    "    \n",
    "    # Get target layer\n",
    "    target_layer = model.model.layers[layer_idx]\n",
    "    \n",
    "    # Process in batches\n",
    "    for i in tqdm(range(0, len(prompts), BATCH_SIZE), desc=\"Processing batches\"):\n",
    "        batch_prompts = prompts[i:i+BATCH_SIZE]\n",
    "        \n",
    "        # Format prompts as chat messages\n",
    "        formatted_prompts = []\n",
    "        for prompt in batch_prompts:\n",
    "            messages = [{\"role\": \"user\", \"content\": prompt}]\n",
    "            formatted_prompt = tokenizer.apply_chat_template(\n",
    "                messages, tokenize=False, add_generation_prompt=True\n",
    "            )\n",
    "            formatted_prompts.append(formatted_prompt)\n",
    "        \n",
    "        formatted_prompts_list.extend(formatted_prompts)\n",
    "        \n",
    "        # Tokenize batch\n",
    "        batch_inputs = tokenizer(\n",
    "            formatted_prompts,\n",
    "            return_tensors=\"pt\",\n",
    "            padding=True,\n",
    "            truncation=True,\n",
    "            max_length=MAX_LENGTH\n",
    "        )\n",
    "        \n",
    "        # Move to device\n",
    "        batch_inputs = {k: v.to(device) for k, v in batch_inputs.items()}\n",
    "        \n",
    "        # Hook to capture activations\n",
    "        activations = None\n",
    "        \n",
    "        def hook_fn(module, input, output):\n",
    "            nonlocal activations\n",
    "            activations = output[0] if isinstance(output, tuple) else output\n",
    "            raise StopForward()\n",
    "        \n",
    "        # Register hook\n",
    "        handle = target_layer.register_forward_hook(hook_fn)\n",
    "        \n",
    "        try:\n",
    "            _ = model(**batch_inputs)\n",
    "        except StopForward:\n",
    "            pass\n",
    "        finally:\n",
    "            handle.remove()\n",
    "        \n",
    "        # For each prompt in the batch, calculate positions for all token types\n",
    "        for j, formatted_prompt in enumerate(formatted_prompts):\n",
    "            attention_mask = batch_inputs[\"attention_mask\"][j]\n",
    "            input_ids = batch_inputs[\"input_ids\"][j]\n",
    "            \n",
    "            # Calculate positions for all token types\n",
    "            positions = {}\n",
    "            for token_type, token_offset in TOKEN_OFFSETS.items():\n",
    "                positions[token_type] = find_assistant_position(\n",
    "                    input_ids, attention_mask, ASSISTANT_HEADER, token_offset, tokenizer, device\n",
    "                )\n",
    "            \n",
    "            # Store the full activation sequence and metadata\n",
    "            all_activations.append(activations[j].cpu())  # [seq_len, hidden_dim]\n",
    "            all_metadata.append({\n",
    "                'prompt_idx': i + j,\n",
    "                'positions': positions,\n",
    "                'attention_mask': attention_mask.cpu(),\n",
    "                'input_ids': input_ids.cpu()\n",
    "            })\n",
    "    \n",
    "    # Find the maximum sequence length across all activations\n",
    "    max_seq_len = max(act.shape[0] for act in all_activations)\n",
    "    hidden_dim = all_activations[0].shape[1]\n",
    "    \n",
    "    # Pad all activations to the same length\n",
    "    padded_activations = []\n",
    "    for act in all_activations:\n",
    "        if act.shape[0] < max_seq_len:\n",
    "            padding = torch.zeros(max_seq_len - act.shape[0], hidden_dim)\n",
    "            padded_act = torch.cat([act, padding], dim=0)\n",
    "        else:\n",
    "            padded_act = act\n",
    "        padded_activations.append(padded_act)\n",
    "    \n",
    "    return torch.stack(padded_activations, dim=0), all_metadata, formatted_prompts_list\n",
    "\n",
    "@torch.no_grad()\n",
    "def extract_token_activations(full_activations: torch.Tensor, metadata: List[Dict]) -> Dict[str, torch.Tensor]:\n",
    "    \"\"\"Extract activations for specific token positions from full sequence activations.\"\"\"\n",
    "    results = {}\n",
    "    \n",
    "    # Initialize results for each token type\n",
    "    for token_type in TOKEN_OFFSETS.keys():\n",
    "        results[token_type] = []\n",
    "    \n",
    "    # Extract activations for each token type\n",
    "    for i, meta in enumerate(metadata):\n",
    "        for token_type, position in meta['positions'].items():\n",
    "            # Extract activation at the specific position\n",
    "            activation = full_activations[i, position, :]  # [hidden_dim]\n",
    "            results[token_type].append(activation)\n",
    "    \n",
    "    # Convert lists to tensors\n",
    "    for token_type in TOKEN_OFFSETS.keys():\n",
    "        results[token_type] = torch.stack(results[token_type], dim=0)\n",
    "    \n",
    "    return results\n",
    "\n",
    "print(\"Activation extraction functions defined\")"
   ]
  },
  {
   "cell_type": "markdown",
   "metadata": {},
   "source": [
    "## Extract Activations"
   ]
  },
  {
   "cell_type": "code",
   "execution_count": 44,
   "metadata": {},
   "outputs": [
    {
     "name": "stdout",
     "output_type": "stream",
     "text": [
      "Extracting activations for all positions...\n"
     ]
    },
    {
     "data": {
      "application/vnd.jupyter.widget-view+json": {
       "model_id": "f9cd40815d7948108a10069f0d5909e6",
       "version_major": 2,
       "version_minor": 0
      },
      "text/plain": [
       "Processing batches:   0%|          | 0/125 [00:00<?, ?it/s]"
      ]
     },
     "metadata": {},
     "output_type": "display_data"
    },
    {
     "name": "stdout",
     "output_type": "stream",
     "text": [
      "Full activations shape: torch.Size([1000, 512, 4096])\n",
      "\n",
      "Extracting activations for specific token positions...\n",
      "Token type 'asst' activations shape: torch.Size([1000, 4096])\n",
      "Token type 'endheader' activations shape: torch.Size([1000, 4096])\n",
      "Token type 'newline' activations shape: torch.Size([1000, 4096])\n"
     ]
    }
   ],
   "source": [
    "# Extract activations for all positions first, then extract specific token positions\n",
    "print(\"Extracting activations for all positions...\")\n",
    "full_activations, metadata, formatted_prompts = extract_activations_and_metadata(prompts_df['prompt'].tolist(), LAYER_INDEX)\n",
    "print(f\"Full activations shape: {full_activations.shape}\")\n",
    "\n",
    "# Extract activations for all token types\n",
    "print(\"\\nExtracting activations for specific token positions...\")\n",
    "token_activations = extract_token_activations(full_activations, metadata)\n",
    "\n",
    "for token_type, activations in token_activations.items():\n",
    "    print(f\"Token type '{token_type}' activations shape: {activations.shape}\")"
   ]
  },
  {
   "cell_type": "markdown",
   "metadata": {},
   "source": [
    "## Apply SAE to Get Feature Activations"
   ]
  },
  {
   "cell_type": "code",
   "execution_count": 46,
   "metadata": {},
   "outputs": [
    {
     "name": "stdout",
     "output_type": "stream",
     "text": [
      "Computing SAE features for specific token positions...\n",
      "Processing SAE features for token type 'asst'...\n",
      "Features shape for 'asst': torch.Size([1000, 131072])\n",
      "Processing SAE features for token type 'endheader'...\n",
      "Features shape for 'endheader': torch.Size([1000, 131072])\n",
      "Processing SAE features for token type 'newline'...\n",
      "Features shape for 'newline': torch.Size([1000, 131072])\n",
      "\n",
      "Completed SAE feature extraction for 3 token types\n"
     ]
    }
   ],
   "source": [
    "@torch.no_grad()\n",
    "def get_sae_features_batched(activations: torch.Tensor) -> torch.Tensor:\n",
    "    \"\"\"Apply SAE to get feature activations with proper batching.\"\"\"\n",
    "    activations = activations.to(device)\n",
    "    \n",
    "    # Process in batches to avoid memory issues\n",
    "    feature_activations = []\n",
    "    \n",
    "    for i in range(0, activations.shape[0], BATCH_SIZE):\n",
    "        batch = activations[i:i+BATCH_SIZE]\n",
    "        features = sae.encode(batch)  # [batch, num_features]\n",
    "        feature_activations.append(features.cpu())\n",
    "    \n",
    "    return torch.cat(feature_activations, dim=0)\n",
    "\n",
    "@torch.no_grad()\n",
    "def get_sae_features_all_positions(full_activations: torch.Tensor) -> torch.Tensor:\n",
    "    \"\"\"Pre-compute SAE features for ALL positions at once for optimization.\"\"\"\n",
    "    print(f\"Processing {full_activations.shape[0]} prompts with max {full_activations.shape[1]} tokens each...\")\n",
    "    \n",
    "    # Reshape to [total_positions, hidden_dim]\n",
    "    total_positions = full_activations.shape[0] * full_activations.shape[1]\n",
    "    reshaped_activations = full_activations.view(total_positions, -1)\n",
    "    \n",
    "    # Apply SAE to all positions\n",
    "    full_sae_features = get_sae_features_batched(reshaped_activations)\n",
    "    \n",
    "    # Reshape back to [num_prompts, seq_len, num_features]\n",
    "    full_sae_features = full_sae_features.view(full_activations.shape[0], full_activations.shape[1], -1)\n",
    "    \n",
    "    print(f\"Full SAE features shape: {full_sae_features.shape}\")\n",
    "    print(f\"✓ SAE features pre-computed for all positions\")\n",
    "    \n",
    "    return full_sae_features\n",
    "\n",
    "# Get SAE feature activations for specific token positions\n",
    "print(\"Computing SAE features for specific token positions...\")\n",
    "token_features = {}\n",
    "\n",
    "for token_type, activations in token_activations.items():\n",
    "    print(f\"Processing SAE features for token type '{token_type}'...\")\n",
    "    features = get_sae_features_batched(activations)\n",
    "    token_features[token_type] = features\n",
    "    print(f\"Features shape for '{token_type}': {features.shape}\")\n",
    "\n",
    "print(f\"\\nCompleted SAE feature extraction for {len(token_features)} token types\")\n",
    "\n",
    "# Uncomment the lines below if you need all-position features for optimization\n",
    "# print(\"\\nOptimization: Pre-computing SAE features for all positions...\")\n",
    "# full_sae_features = get_sae_features_all_positions(full_activations)"
   ]
  },
  {
   "cell_type": "markdown",
   "metadata": {},
   "source": [
    "## Analysis and Save Results"
   ]
  },
  {
   "cell_type": "code",
   "execution_count": 19,
   "metadata": {},
   "outputs": [
    {
     "name": "stdout",
     "output_type": "stream",
     "text": [
      "Loaded 92 total features from ./results/1_personal/only_personal.csv\n",
      "Processing results for source: llama_trainer1_layer15\n",
      "\n",
      "Processing token type: asst\n",
      "Found 2 features for token_type='asst', source='llama_trainer1_layer15'\n",
      "Processed 1 active features for token_type='asst' (skipped 1 inactive)\n",
      "\n",
      "Processing token type: endheader\n",
      "Found 6 features for token_type='endheader', source='llama_trainer1_layer15'\n",
      "Processed 2 active features for token_type='endheader' (skipped 4 inactive)\n",
      "\n",
      "Processing token type: newline\n",
      "Found 7 features for token_type='newline', source='llama_trainer1_layer15'\n",
      "Processed 0 active features for token_type='newline' (skipped 7 inactive)\n",
      "\n",
      "Total features processed: 3 CSV, 3 JSONL\n"
     ]
    }
   ],
   "source": [
    "csv_results = []\n",
    "source_name = f\"{MODEL_TYPE}_trainer{SAE_TRAINER}_layer{SAE_LAYER}_base\"\n",
    "\n",
    "print(f\"Processing results\")\n",
    "\n",
    "# Process each token type\n",
    "for token_type in TOKEN_OFFSETS.keys():\n",
    "    print(f\"\\nProcessing token type: {token_type}\")\n",
    "    \n",
    "    # Process each feature\n",
    "    features_processed = 0\n",
    "    features_skipped = 0\n",
    "    \n",
    "    for idx, (feature_idx, feature_id) in enumerate(zip(feature_indices, filtered_features_df['feature_id'])):\n",
    "        feature_id = int(feature_id)\n",
    "        activations = feature_activations[:, idx]  # [num_prompts]\n",
    "        \n",
    "        # Calculate statistics only on active features (activation > 0)\n",
    "        active_mask = activations > 0\n",
    "        active_activations = activations[active_mask]\n",
    "        \n",
    "        # Skip features that aren't active on any prompt\n",
    "        if len(active_activations) == 0:\n",
    "            features_skipped += 1\n",
    "            continue\n",
    "        \n",
    "        # CSV statistics\n",
    "        activation_mean = float(active_activations.mean())\n",
    "        activation_max = float(active_activations.max())\n",
    "        activation_min = float(active_activations.min())\n",
    "        num_prompts = len(active_activations)\n",
    "        \n",
    "        # Add to CSV results\n",
    "        csv_result = {\n",
    "            'feature_id': feature_id,\n",
    "            'activation_mean': activation_mean,\n",
    "            'activation_max': activation_max,\n",
    "            'activation_min': activation_min,\n",
    "            'num_prompts': num_prompts,\n",
    "            'source': source_name,\n",
    "            'token': token_type,\n",
    "        }\n",
    "        csv_results.append(csv_result)\n",
    "\n",
    "        \n",
    "        features_processed += 1\n",
    "    \n",
    "    print(f\"Processed {features_processed} active features for token_type='{token_type}' (skipped {features_skipped} inactive)\")\n",
    "\n",
    "print(f\"\\nTotal features processed: {len(csv_results)} CSV, {len(jsonl_results)} JSONL\")"
   ]
  },
  {
   "cell_type": "code",
   "execution_count": 20,
   "metadata": {},
   "outputs": [
    {
     "name": "stdout",
     "output_type": "stream",
     "text": [
      "Saving results...\n",
      "JSONL results saved to ./results/3_personal_general/3_personal_general_prompts.jsonl\n",
      "\n",
      "Preview of CSV data:\n",
      " feature_id  activation_mean  activation_max  activation_min  num_prompts chat_desc pt_desc type                 source     token                                                                                          link\n",
      "      27476         0.310405        0.338905        0.288229            5                        llama_trainer1_layer15      asst https://completely-touched-platypus.ngrok-free.app/?model=llama&layer=15&trainer=1&fids=27476\n",
      "      59035         0.362718        0.435948        0.286962           14                        llama_trainer1_layer15 endheader https://completely-touched-platypus.ngrok-free.app/?model=llama&layer=15&trainer=1&fids=59035\n",
      "      47776         0.400181        0.400181        0.400181            1                        llama_trainer1_layer15 endheader https://completely-touched-platypus.ngrok-free.app/?model=llama&layer=15&trainer=1&fids=47776\n",
      "\n",
      "Summary by token type:\n",
      "          activation_mean                 activation_max num_prompts      \\\n",
      "                    count    mean     max            max        mean max   \n",
      "token                                                                      \n",
      "asst                    1  0.3104  0.3104         0.3389         5.0   5   \n",
      "endheader               2  0.3814  0.4002         0.4359         7.5  14   \n",
      "\n",
      "          feature_id  \n",
      "             nunique  \n",
      "token                 \n",
      "asst               1  \n",
      "endheader          2  \n",
      "\n",
      "JSONL file structure summary:\n",
      "  Feature 27476 (asst): 5 prompts, 40 tokens\n",
      "  Feature 47776 (endheader): 1 prompts, 3 tokens\n",
      "  Feature 59035 (endheader): 14 prompts, 531 tokens\n",
      "\n",
      "Total: 3 features, 20 prompt records, 574 token records\n",
      "\n",
      "Sample JSONL record structure:\n",
      "Feature 27476 (asst, llama_trainer1_layer15):\n",
      "  First prompt: 12 active tokens\n",
      "  Top token: '<|begin_of_text|>' (activation: 30.1081)\n",
      "\n",
      "✓ Analysis complete!\n"
     ]
    }
   ],
   "source": [
    "# Save results\n",
    "print(\"Saving results...\")\n",
    "\n",
    "# Convert CSV results to DataFrame\n",
    "column_order = ['feature_id', 'activation_mean', 'activation_max', 'activation_min', \n",
    "                'num_prompts', 'source', 'token']\n",
    "csv_df = pd.DataFrame(csv_results)[column_order]\n",
    "\n",
    "# Save CSV results\n",
    "if os.path.exists(OUTPUT_FILE):\n",
    "    csv_df.to_csv(OUTPUT_FILE, mode='a', header=False, index=False)\n",
    "    print(f\"CSV results appended to existing file: {OUTPUT_FILE}\")\n",
    "else:\n",
    "    csv_df.to_csv(OUTPUT_FILE, index=False)\n",
    "    print(f\"CSV results saved to new file: {OUTPUT_FILE}\")\n",
    "\n",
    "# Show preview and summary\n",
    "if len(csv_df) > 0:\n",
    "    print(f\"\\nPreview of CSV data:\")\n",
    "    print(csv_df.head(10).to_string(index=False))\n",
    "    \n",
    "    print(f\"\\nSummary by token type:\")\n",
    "    summary = csv_df.groupby('token').agg({\n",
    "        'activation_mean': ['count', 'mean', 'max'],\n",
    "        'activation_max': 'max',\n",
    "        'num_prompts': ['mean', 'max'],\n",
    "        'feature_id': 'nunique'\n",
    "    }).round(4)\n",
    "    print(summary)\n",
    "\n",
    "print(f\"\\n✓ Analysis complete!\")"
   ]
  }
 ],
 "metadata": {
  "kernelspec": {
   "display_name": ".venv",
   "language": "python",
   "name": "python3"
  },
  "language_info": {
   "codemirror_mode": {
    "name": "ipython",
    "version": 3
   },
   "file_extension": ".py",
   "mimetype": "text/x-python",
   "name": "python",
   "nbconvert_exporter": "python",
   "pygments_lexer": "ipython3",
   "version": "3.12.11"
  }
 },
 "nbformat": 4,
 "nbformat_minor": 4
}
