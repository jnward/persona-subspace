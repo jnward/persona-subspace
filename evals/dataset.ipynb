{
 "cells": [
  {
   "cell_type": "markdown",
   "id": "cbe427c7",
   "metadata": {},
   "source": [
    "# Test data"
   ]
  },
  {
   "cell_type": "code",
   "execution_count": 1,
   "id": "cef5d6aa",
   "metadata": {},
   "outputs": [],
   "source": [
    "import pandas as pd"
   ]
  },
  {
   "cell_type": "code",
   "execution_count": 2,
   "id": "62e967ed",
   "metadata": {},
   "outputs": [],
   "source": [
    "def _get_harmbench_behaviors():\n",
    "    df_val_behaviors = pd.read_csv(\n",
    "        \"https://raw.githubusercontent.com/centerforaisafety/HarmBench/\"\n",
    "        \"e2d308a711b77f5e6096ef7991e6b295a14f79d8\"\n",
    "        \"/data/behavior_datasets/harmbench_behaviors_text_val.csv\"\n",
    "    )\n",
    "    df_val_behaviors[\"split\"] = \"val\"\n",
    "\n",
    "    df_test_behaviors = pd.read_csv(\n",
    "        \"https://raw.githubusercontent.com/centerforaisafety/HarmBench/\"\n",
    "        \"e2d308a711b77f5e6096ef7991e6b295a14f79d8\"\n",
    "        \"/data/behavior_datasets/harmbench_behaviors_text_test.csv\"\n",
    "    )\n",
    "    df_test_behaviors[\"split\"] = \"test\"\n",
    "\n",
    "    df_behaviors = pd.concat([df_val_behaviors, df_test_behaviors]).reset_index(drop=True)\n",
    "    return df_behaviors\n",
    "\n",
    "df_behaviors = _get_harmbench_behaviors()"
   ]
  },
  {
   "cell_type": "code",
   "execution_count": 4,
   "id": "18b6469e",
   "metadata": {},
   "outputs": [
    {
     "name": "stdout",
     "output_type": "stream",
     "text": [
      "SemanticCategory counts for test split with FunctionalCategory == 'standard':\n",
      "SemanticCategory\n",
      "illegal                          47\n",
      "cybercrime_intrusion             33\n",
      "misinformation_disinformation    27\n",
      "chemical_biological              19\n",
      "harmful                          17\n",
      "harassment_bullying              16\n",
      "Name: count, dtype: int64\n"
     ]
    },
    {
     "data": {
      "text/plain": [
       "159"
      ]
     },
     "execution_count": 4,
     "metadata": {},
     "output_type": "execute_result"
    }
   ],
   "source": [
    "# get all test behaviors that have FunctionalCategory=standard\n",
    "test_standard = df_behaviors[(df_behaviors['split'] == 'test') & (df_behaviors['FunctionalCategory'] == 'standard')]\n",
    "\n",
    "# display counts of different SemanticCategory labels\n",
    "semantic_counts = test_standard['SemanticCategory'].value_counts()\n",
    "print(\"SemanticCategory counts for test split with FunctionalCategory == 'standard':\")\n",
    "print(semantic_counts)\n",
    "\n",
    "# also print the total sum\n",
    "(test_standard['SemanticCategory'].value_counts().sum())"
   ]
  },
  {
   "cell_type": "code",
   "execution_count": 5,
   "id": "4e1005ea",
   "metadata": {},
   "outputs": [
    {
     "name": "stdout",
     "output_type": "stream",
     "text": [
      "Exported 159 questions to ./data/questions/harmbench.jsonl\n"
     ]
    }
   ],
   "source": [
    "# output into a jsonl with question, id, and semantic_category\n",
    "import json\n",
    "import os\n",
    "\n",
    "# Create data directory if it doesn't exist\n",
    "os.makedirs(\"./data/questions\", exist_ok=True)\n",
    "\n",
    "# Prepare the data with the required fields\n",
    "output_data = []\n",
    "for i, (_, row) in enumerate(test_standard.iterrows()):\n",
    "    output_data.append({\n",
    "        \"question\": row[\"Behavior\"],\n",
    "        \"id\": i,\n",
    "        \"semantic_category\": row[\"SemanticCategory\"]\n",
    "    })\n",
    "\n",
    "# Write to JSONL file\n",
    "output_file = \"./data/questions/harmbench.jsonl\"\n",
    "with open(output_file, \"w\") as f:\n",
    "    for item in output_data:\n",
    "        f.write(json.dumps(item) + \"\\n\")\n",
    "\n",
    "print(f\"Exported {len(output_data)} questions to {output_file}\")"
   ]
  }
 ],
 "metadata": {
  "kernelspec": {
   "display_name": ".venv",
   "language": "python",
   "name": "python3"
  },
  "language_info": {
   "codemirror_mode": {
    "name": "ipython",
    "version": 3
   },
   "file_extension": ".py",
   "mimetype": "text/x-python",
   "name": "python",
   "nbconvert_exporter": "python",
   "pygments_lexer": "ipython3",
   "version": "3.13.5"
  }
 },
 "nbformat": 4,
 "nbformat_minor": 5
}
