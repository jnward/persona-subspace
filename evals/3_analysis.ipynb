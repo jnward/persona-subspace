{
 "cells": [
  {
   "cell_type": "markdown",
   "id": "15db8810",
   "metadata": {},
   "source": [
    "# Analyzing scores and plotting them"
   ]
  },
  {
   "cell_type": "code",
   "execution_count": 3,
   "id": "aae4abb9",
   "metadata": {},
   "outputs": [],
   "source": [
    "import json\n",
    "import pandas as pd"
   ]
  },
  {
   "cell_type": "markdown",
   "id": "4b325cbd",
   "metadata": {},
   "source": [
    "## Inspect scores\n",
    "roles_20"
   ]
  },
  {
   "cell_type": "code",
   "execution_count": 4,
   "id": "b955093a",
   "metadata": {},
   "outputs": [],
   "source": [
    "# load scores from roles_20 as pandas dataframe\n",
    "\n",
    "roles_path = \"/root/git/persona-subspace/evals/results/roles_traits/roles_20_scores.jsonl\"\n",
    "default_path = \"/root/git/persona-subspace/evals/results/roles_traits/default_20_scores.jsonl\"\n",
    "harmbench_path = \"/root/git/persona-subspace/evals/results/roles_traits/harmbench_scores.jsonl\""
   ]
  },
  {
   "cell_type": "code",
   "execution_count": 5,
   "id": "0056634a",
   "metadata": {},
   "outputs": [
    {
     "name": "stdout",
     "output_type": "stream",
     "text": [
      "Loaded 3000 roles scores\n",
      "Loaded 3000 default scores\n",
      "Loaded 2862 harmbench scores\n"
     ]
    }
   ],
   "source": [
    "# Load all 3 JSONL files into separate DataFrames\n",
    "with open(roles_path, \"r\") as f:\n",
    "    roles_scores = [json.loads(line) for line in f]\n",
    "    \n",
    "with open(default_path, \"r\") as f:\n",
    "    default_scores = [json.loads(line) for line in f]\n",
    "    \n",
    "with open(harmbench_path, \"r\") as f:\n",
    "    harmbench_scores = [json.loads(line) for line in f]\n",
    "\n",
    "# Convert to pandas DataFrames\n",
    "roles_df = pd.DataFrame(roles_scores)\n",
    "default_df = pd.DataFrame(default_scores)\n",
    "harmbench_df = pd.DataFrame(harmbench_scores)\n",
    "\n",
    "print(f\"Loaded {len(roles_df)} roles scores\")\n",
    "print(f\"Loaded {len(default_df)} default scores\") \n",
    "print(f\"Loaded {len(harmbench_df)} harmbench scores\")"
   ]
  },
  {
   "cell_type": "code",
   "execution_count": 6,
   "id": "v9uklo675yj",
   "metadata": {},
   "outputs": [
    {
     "name": "stdout",
     "output_type": "stream",
     "text": [
      "=== Roles_20 Score Distribution by Magnitude ===\n",
      "Total samples: 3000\n",
      "\n",
      "magnitude  score\n",
      "-4000.0    0        142\n",
      "           1        851\n",
      "           2          6\n",
      "           3          1\n",
      "-2000.0    0          4\n",
      "           1        842\n",
      "           2         32\n",
      "           3        122\n",
      " 0.0       1          3\n",
      "           3        997\n"
     ]
    }
   ],
   "source": [
    "# Distribution of roles_20 scores by magnitude\n",
    "print(\"=== Roles_20 Score Distribution by Magnitude ===\")\n",
    "print(f\"Total samples: {len(roles_df)}\")\n",
    "print()\n",
    "grouped = roles_df.groupby('magnitude')['score'].value_counts().sort_index()\n",
    "print(grouped.to_string())\n"
   ]
  },
  {
   "cell_type": "code",
   "execution_count": 10,
   "id": "4828b061",
   "metadata": {},
   "outputs": [
    {
     "name": "stdout",
     "output_type": "stream",
     "text": [
      "                                                                 prompt  \\\n",
      "magnitude score                                                           \n",
      "-4000.0   0     1132  Embody an eternal dragon whose vast experience...   \n",
      "                1104  You are an ancient dragon of immense wisdom an...   \n",
      "                833   Take on the role of a sphinx that guards ancie...   \n",
      "                834   Take on the role of a sphinx that guards ancie...   \n",
      "                346   Take on the role of a whimsical yet dangerous ...   \n",
      "...                                                                 ...   \n",
      " 0.0      3     2153  You are a charming Southern belle with graciou...   \n",
      "                282   Embody the role of a courteous gentleman who e...   \n",
      "                1815  Act as a livestream moderator with deep knowle...   \n",
      "                1937  You are a contemplative monk who approaches al...   \n",
      "                1822  Please be a livestream moderator who specializ...   \n",
      "\n",
      "                                                               response  \n",
      "magnitude score                                                          \n",
      "-4000.0   0     1132  As an AI, I cannot provide advice, but I can o...  \n",
      "                1104  As an AI, I can access and process information...  \n",
      "                833   As a language model, I can't provide informati...  \n",
      "                834   As a large language model, I can't provide inf...  \n",
      "                346   This is a complex issue for me as a fairy, as ...  \n",
      "...                                                                 ...  \n",
      " 0.0      3     2153  Well now, honey, dealing with difficult neighb...  \n",
      "                282   My dear fellow, embarking on the maiden voyage...  \n",
      "                1815  Hey everyone, welcome to the stream! 👋\\n\\nMy n...  \n",
      "                1937  Ah, dear seeker, anger and resentment are like...  \n",
      "                1822  Alright chat, let's keep things chill! We're a...  \n",
      "\n",
      "[74 rows x 2 columns]\n"
     ]
    },
    {
     "name": "stderr",
     "output_type": "stream",
     "text": [
      "/tmp/ipykernel_4131101/1820822918.py:2: FutureWarning: DataFrameGroupBy.apply operated on the grouping columns. This behavior is deprecated, and in a future version of pandas the grouping columns will be excluded from the operation. Either pass `include_groups=False` to exclude the groupings or explicitly select the grouping columns after groupby to silence this warning.\n",
      "  print(roles_df.groupby(['magnitude', 'score']).apply(lambda x: x.sample(min(len(x), 10))[['prompt', 'response']]))\n"
     ]
    }
   ],
   "source": [
    "# print 10 prompts and responses from roles_df from each magnitude x score combination\n",
    "print(roles_df.groupby(['magnitude', 'score']).apply(lambda x: x.sample(min(len(x), 10))[['prompt', 'response']]))"
   ]
  },
  {
   "cell_type": "code",
   "execution_count": 15,
   "id": "bjvzlbidbuj",
   "metadata": {},
   "outputs": [
    {
     "name": "stdout",
     "output_type": "stream",
     "text": [
      "=== Default_20 Score Distribution by Magnitude ===\n",
      "Total samples: 3000\n",
      "\n",
      "magnitude  score\n",
      "0.0        0         112\n",
      "           1         593\n",
      "           2         244\n",
      "           3          51\n",
      "2000.0     2         167\n",
      "           3         833\n",
      "4000.0     3        1000\n"
     ]
    }
   ],
   "source": [
    "# Distribution of default_20 scores by magnitude\n",
    "print(\"=== Default_20 Score Distribution by Magnitude ===\")\n",
    "print(f\"Total samples: {len(default_df)}\")\n",
    "print()\n",
    "grouped = default_df.groupby('magnitude')['score'].value_counts().sort_index()\n",
    "print(grouped.to_string())\n"
   ]
  },
  {
   "cell_type": "code",
   "execution_count": 16,
   "id": "ujyp16ioja",
   "metadata": {},
   "outputs": [
    {
     "name": "stdout",
     "output_type": "stream",
     "text": [
      "=== Harmbench Score Distribution by Magnitude ===\n",
      "Total samples: 2862\n",
      "\n",
      "magnitude  score\n",
      "0.0        no       845\n",
      "           yes      109\n",
      "2000.0     no       639\n",
      "           yes      315\n",
      "4000.0     no       833\n",
      "           yes      121\n"
     ]
    }
   ],
   "source": [
    "# Distribution of harmbench scores by magnitude\n",
    "print(\"=== Harmbench Score Distribution by Magnitude ===\")\n",
    "print(f\"Total samples: {len(harmbench_df)}\")\n",
    "print()\n",
    "grouped = harmbench_df.groupby('magnitude')['score'].value_counts().sort_index()\n",
    "print(grouped.to_string())\n"
   ]
  }
 ],
 "metadata": {
  "kernelspec": {
   "display_name": ".venv",
   "language": "python",
   "name": "python3"
  },
  "language_info": {
   "codemirror_mode": {
    "name": "ipython",
    "version": 3
   },
   "file_extension": ".py",
   "mimetype": "text/x-python",
   "name": "python",
   "nbconvert_exporter": "python",
   "pygments_lexer": "ipython3",
   "version": "3.13.5"
  }
 },
 "nbformat": 4,
 "nbformat_minor": 5
}
