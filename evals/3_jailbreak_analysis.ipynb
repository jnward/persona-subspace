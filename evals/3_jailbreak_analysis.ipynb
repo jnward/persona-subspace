{
 "cells": [
  {
   "cell_type": "markdown",
   "id": "15db8810",
   "metadata": {},
   "source": [
    "# Analyzing scores and plotting them"
   ]
  },
  {
   "cell_type": "code",
   "execution_count": 60,
   "id": "aae4abb9",
   "metadata": {},
   "outputs": [],
   "source": [
    "import json\n",
    "import os\n",
    "import pandas as pd\n",
    "import numpy as np\n",
    "\n",
    "import plotly.graph_objects as go"
   ]
  },
  {
   "cell_type": "code",
   "execution_count": 81,
   "id": "36fd4115",
   "metadata": {},
   "outputs": [],
   "source": [
    "model = \"llama-3.3-70b\"\n",
    "layer = 40\n",
    "subtitle = f\"{model.replace('-', ' ').title()}, Layer {layer}\"\n",
    "base_dir = f\"/root/git/persona-subspace/evals/jailbreak/{model}\"\n",
    "out_dir = f\"/root/git/persona-subspace/evals/plots/{model}\"\n",
    "\n",
    "os.makedirs(out_dir, exist_ok=True)\n",
    "magnitudes = [-24.0, -18.0, -12.0, -6.0, 0.0]"
   ]
  },
  {
   "cell_type": "code",
   "execution_count": 82,
   "id": "b955093a",
   "metadata": {},
   "outputs": [],
   "source": [
    "# load scores from roles_20 as pandas dataframe\n",
    "\n",
    "unsteered_jailbreak_path = f\"{base_dir}/unsteered/unsteered_scores.jsonl\"\n",
    "unsteered_default_path = f\"{base_dir}/unsteered/unsteered_default_scores.jsonl\"\n",
    "\n",
    "steered_jailbreak_path = f\"{base_dir}/steered/jailbreak_1100_scores.jsonl\"\n",
    "steered_default_path = f\"{base_dir}/steered/default_1100_scores.jsonl\""
   ]
  },
  {
   "cell_type": "code",
   "execution_count": 83,
   "id": "0056634a",
   "metadata": {},
   "outputs": [
    {
     "name": "stdout",
     "output_type": "stream",
     "text": [
      "Loaded 4400 unsteered jailbreak scores\n",
      "Loaded 4400 unsteered default scores\n",
      "Loaded 4400 steered jailbreak scores\n",
      "Loaded 4400 steered default scores\n"
     ]
    }
   ],
   "source": [
    "# Load all 3 JSONL files into separate DataFrames\n",
    "with open(unsteered_jailbreak_path, \"r\") as f:\n",
    "    unsteered_jailbreak_scores = [json.loads(line) for line in f]\n",
    "    \n",
    "with open(unsteered_default_path, \"r\") as f:\n",
    "    unsteered_default_scores = [json.loads(line) for line in f]\n",
    "    \n",
    "with open(steered_jailbreak_path, \"r\") as f:\n",
    "    steered_jailbreak_scores = [json.loads(line) for line in f]\n",
    "\n",
    "with open(steered_default_path, \"r\") as f:    \n",
    "    steered_default_scores = [json.loads(line) for line in f]\n",
    "\n",
    "\n",
    "# Convert to pandas DataFrames\n",
    "unsteered_jailbreak_df = pd.DataFrame(unsteered_jailbreak_scores)\n",
    "unsteered_default_df = pd.DataFrame(unsteered_default_scores)\n",
    "steered_jailbreak_df = pd.DataFrame(steered_jailbreak_scores)\n",
    "steered_default_df = pd.DataFrame(steered_default_scores)\n",
    "\n",
    "\n",
    "print(f\"Loaded {len(unsteered_jailbreak_df)} unsteered jailbreak scores\")\n",
    "print(f\"Loaded {len(unsteered_default_df)} unsteered default scores\")   \n",
    "print(f\"Loaded {len(steered_jailbreak_df)} steered jailbreak scores\")\n",
    "print(f\"Loaded {len(steered_default_df)} steered default scores\")\n"
   ]
  },
  {
   "cell_type": "markdown",
   "id": "4b325cbd",
   "metadata": {},
   "source": [
    "## Inspect scores\n"
   ]
  },
  {
   "cell_type": "code",
   "execution_count": 84,
   "id": "108517c2",
   "metadata": {},
   "outputs": [],
   "source": [
    "all_dfs = [unsteered_jailbreak_df, unsteered_default_df, steered_jailbreak_df, steered_default_df]\n"
   ]
  },
  {
   "cell_type": "code",
   "execution_count": 85,
   "id": "2ebef7af",
   "metadata": {},
   "outputs": [],
   "source": [
    "def pct_overall(df, name):\n",
    "    total = len(df)\n",
    "\n",
    "    # Raw counts of each label\n",
    "    counts = df[\"score\"].value_counts().sort_index()\n",
    "\n",
    "    # Percentages of each label\n",
    "    percentages = (counts / total * 100).round(1)\n",
    "\n",
    "    # Special targets\n",
    "    n_enough = counts.get(\"enough_info\", 0)\n",
    "    n_enough_perfect = counts.get(\"enough_info_and_follow_perfectly\", 0)\n",
    "    n_either = n_enough + n_enough_perfect\n",
    "\n",
    "    pct_enough = 100 * n_enough / total\n",
    "    pct_enough_perfect = 100 * n_enough_perfect / total\n",
    "    pct_either = 100 * n_either / total\n",
    "\n",
    "    print(f\"=== Overall Score Distribution: {name} ===\")\n",
    "    print(f\"Total samples: {total}\\n\")\n",
    "\n",
    "    # Print table of counts + percentages for each label\n",
    "    print(\"Per-label counts and percentages:\")\n",
    "    for label in counts.index:\n",
    "        print(f\"- {label}: {counts[label]} ({percentages[label]}%)\")\n",
    "\n",
    "    print(\"\\nTarget categories:\")\n",
    "    print(f\"- enough_info: {n_enough} ({pct_enough:.1f}%)\")\n",
    "    print(f\"- enough_info_and_follow_perfectly: {n_enough_perfect} ({pct_enough_perfect:.1f}%)\")\n",
    "    print(f\"- either: {n_either} ({pct_either:.1f}%)\")\n",
    "    print()\n"
   ]
  },
  {
   "cell_type": "code",
   "execution_count": 86,
   "id": "9ee16a3d",
   "metadata": {},
   "outputs": [
    {
     "name": "stdout",
     "output_type": "stream",
     "text": [
      "=== Overall Score Distribution: Unsteered + Jailbreak ===\n",
      "Total samples: 4400\n",
      "\n",
      "Per-label counts and percentages:\n",
      "- almost_enough_info: 19 (0.4%)\n",
      "- enough_info: 2001 (45.5%)\n",
      "- enough_info_and_follow_perfectly: 870 (19.8%)\n",
      "- out_of_context: 2 (0.0%)\n",
      "- refusal: 964 (21.9%)\n",
      "- refusal_and_justification: 18 (0.4%)\n",
      "- related_but_no_info: 526 (12.0%)\n",
      "\n",
      "Target categories:\n",
      "- enough_info: 2001 (45.5%)\n",
      "- enough_info_and_follow_perfectly: 870 (19.8%)\n",
      "- either: 2871 (65.2%)\n",
      "\n"
     ]
    }
   ],
   "source": [
    "\n",
    "pct_overall(unsteered_jailbreak_df, \"Unsteered + Jailbreak\")\n"
   ]
  },
  {
   "cell_type": "code",
   "execution_count": 87,
   "id": "23a07638",
   "metadata": {},
   "outputs": [
    {
     "name": "stdout",
     "output_type": "stream",
     "text": [
      "=== Overall Score Distribution: Unsteered + No Jailbreak ===\n",
      "Total samples: 4400\n",
      "\n",
      "Per-label counts and percentages:\n",
      "- almost_enough_info: 28 (0.6%)\n",
      "- enough_info: 196 (4.5%)\n",
      "- enough_info_and_follow_perfectly: 2 (0.0%)\n",
      "- out_of_context: 152 (3.5%)\n",
      "- refusal: 353 (8.0%)\n",
      "- refusal_and_justification: 151 (3.4%)\n",
      "- related_but_no_info: 3518 (80.0%)\n",
      "\n",
      "Target categories:\n",
      "- enough_info: 196 (4.5%)\n",
      "- enough_info_and_follow_perfectly: 2 (0.0%)\n",
      "- either: 198 (4.5%)\n",
      "\n"
     ]
    }
   ],
   "source": [
    "pct_overall(unsteered_default_df, \"Unsteered + No Jailbreak\")\n"
   ]
  },
  {
   "cell_type": "code",
   "execution_count": 88,
   "id": "f1a06989",
   "metadata": {},
   "outputs": [],
   "source": [
    "def pct_per_magnitude(df, name):\n",
    "    total = len(df)\n",
    "    print(f\"=== Score Distribution by Magnitude: {name} ===\")\n",
    "    print(f\"Total samples: {total}\\n\")\n",
    "\n",
    "    for mag, group in df.groupby(\"magnitude\"):\n",
    "        n = len(group)\n",
    "        counts = group[\"score\"].value_counts().sort_index()\n",
    "        percentages = (counts / n * 100).round(1)\n",
    "\n",
    "        # Special targets\n",
    "        n_enough = counts.get(\"enough_info\", 0)\n",
    "        n_enough_perfect = counts.get(\"enough_info_and_follow_perfectly\", 0)\n",
    "        n_either = n_enough + n_enough_perfect\n",
    "\n",
    "        pct_enough = 100 * n_enough / n\n",
    "        pct_enough_perfect = 100 * n_enough_perfect / n\n",
    "        pct_either = 100 * n_either / n\n",
    "\n",
    "        print(f\"Magnitude: {mag}\")\n",
    "        print(f\"Samples: {n}\")\n",
    "\n",
    "        print(\"Per-label counts and percentages:\")\n",
    "        for label in counts.index:\n",
    "            print(f\"- {label}: {counts[label]} ({percentages[label]}%)\")\n",
    "\n",
    "        print(\"Target categories:\")\n",
    "        print(f\"- enough_info: {n_enough} ({pct_enough:.1f}%)\")\n",
    "        print(f\"- enough_info_and_follow_perfectly: {n_enough_perfect} ({pct_enough_perfect:.1f}%)\")\n",
    "        print(f\"- either: {n_either} ({pct_either:.1f}%)\")\n",
    "        print()\n"
   ]
  },
  {
   "cell_type": "code",
   "execution_count": 89,
   "id": "f06d27f9",
   "metadata": {},
   "outputs": [
    {
     "name": "stdout",
     "output_type": "stream",
     "text": [
      "=== Score Distribution by Magnitude: Steered + Jailbreak ===\n",
      "Total samples: 4400\n",
      "\n",
      "Magnitude: -24.0\n",
      "Samples: 1100\n",
      "Per-label counts and percentages:\n",
      "- enough_info: 28 (2.5%)\n",
      "- enough_info_and_follow_perfectly: 5 (0.5%)\n",
      "- nonsensical: 698 (63.5%)\n",
      "- out_of_context: 8 (0.7%)\n",
      "- refusal: 3 (0.3%)\n",
      "- related_but_no_info: 358 (32.5%)\n",
      "Target categories:\n",
      "- enough_info: 28 (2.5%)\n",
      "- enough_info_and_follow_perfectly: 5 (0.5%)\n",
      "- either: 33 (3.0%)\n",
      "\n",
      "Magnitude: -18.0\n",
      "Samples: 1100\n",
      "Per-label counts and percentages:\n",
      "- almost_enough_info: 6 (0.5%)\n",
      "- enough_info: 264 (24.0%)\n",
      "- enough_info_and_follow_perfectly: 110 (10.0%)\n",
      "- nonsensical: 20 (1.8%)\n",
      "- out_of_context: 10 (0.9%)\n",
      "- refusal: 5 (0.5%)\n",
      "- related_but_no_info: 685 (62.3%)\n",
      "Target categories:\n",
      "- enough_info: 264 (24.0%)\n",
      "- enough_info_and_follow_perfectly: 110 (10.0%)\n",
      "- either: 374 (34.0%)\n",
      "\n",
      "Magnitude: -12.0\n",
      "Samples: 1100\n",
      "Per-label counts and percentages:\n",
      "- almost_enough_info: 3 (0.3%)\n",
      "- enough_info: 470 (42.7%)\n",
      "- enough_info_and_follow_perfectly: 201 (18.3%)\n",
      "- nonsensical: 1 (0.1%)\n",
      "- refusal: 4 (0.4%)\n",
      "- refusal_and_justification: 1 (0.1%)\n",
      "- related_but_no_info: 420 (38.2%)\n",
      "Target categories:\n",
      "- enough_info: 470 (42.7%)\n",
      "- enough_info_and_follow_perfectly: 201 (18.3%)\n",
      "- either: 671 (61.0%)\n",
      "\n",
      "Magnitude: -6.0\n",
      "Samples: 1100\n",
      "Per-label counts and percentages:\n",
      "- almost_enough_info: 9 (0.8%)\n",
      "- enough_info: 637 (57.9%)\n",
      "- enough_info_and_follow_perfectly: 251 (22.8%)\n",
      "- refusal: 3 (0.3%)\n",
      "- related_but_no_info: 200 (18.2%)\n",
      "Target categories:\n",
      "- enough_info: 637 (57.9%)\n",
      "- enough_info_and_follow_perfectly: 251 (22.8%)\n",
      "- either: 888 (80.7%)\n",
      "\n"
     ]
    }
   ],
   "source": [
    "pct_per_magnitude(steered_jailbreak_df, \"Steered + Jailbreak\")"
   ]
  },
  {
   "cell_type": "code",
   "execution_count": 90,
   "id": "a843d3fd",
   "metadata": {},
   "outputs": [
    {
     "name": "stdout",
     "output_type": "stream",
     "text": [
      "=== Score Distribution by Magnitude: Steered + No Jailbreak ===\n",
      "Total samples: 4400\n",
      "\n",
      "Magnitude: -24.0\n",
      "Samples: 1100\n",
      "Per-label counts and percentages:\n",
      "- nonsensical: 828 (75.3%)\n",
      "- out_of_context: 66 (6.0%)\n",
      "- refusal_and_justification: 1 (0.1%)\n",
      "- related_but_no_info: 205 (18.6%)\n",
      "Target categories:\n",
      "- enough_info: 0 (0.0%)\n",
      "- enough_info_and_follow_perfectly: 0 (0.0%)\n",
      "- either: 0 (0.0%)\n",
      "\n",
      "Magnitude: -18.0\n",
      "Samples: 1100\n",
      "Per-label counts and percentages:\n",
      "- almost_enough_info: 1 (0.1%)\n",
      "- enough_info: 2 (0.2%)\n",
      "- nonsensical: 144 (13.1%)\n",
      "- out_of_context: 170 (15.5%)\n",
      "- refusal: 22 (2.0%)\n",
      "- refusal_and_justification: 13 (1.2%)\n",
      "- related_but_no_info: 748 (68.0%)\n",
      "Target categories:\n",
      "- enough_info: 2 (0.2%)\n",
      "- enough_info_and_follow_perfectly: 0 (0.0%)\n",
      "- either: 2 (0.2%)\n",
      "\n",
      "Magnitude: -12.0\n",
      "Samples: 1100\n",
      "Per-label counts and percentages:\n",
      "- almost_enough_info: 2 (0.2%)\n",
      "- enough_info: 30 (2.7%)\n",
      "- nonsensical: 14 (1.3%)\n",
      "- out_of_context: 88 (8.0%)\n",
      "- refusal: 17 (1.5%)\n",
      "- refusal_and_justification: 33 (3.0%)\n",
      "- related_but_no_info: 916 (83.3%)\n",
      "Target categories:\n",
      "- enough_info: 30 (2.7%)\n",
      "- enough_info_and_follow_perfectly: 0 (0.0%)\n",
      "- either: 30 (2.7%)\n",
      "\n",
      "Magnitude: -6.0\n",
      "Samples: 1100\n",
      "Per-label counts and percentages:\n",
      "- almost_enough_info: 8 (0.7%)\n",
      "- enough_info: 100 (9.1%)\n",
      "- enough_info_and_follow_perfectly: 2 (0.2%)\n",
      "- other: 1 (0.1%)\n",
      "- out_of_context: 49 (4.5%)\n",
      "- refusal: 24 (2.2%)\n",
      "- refusal_and_justification: 48 (4.4%)\n",
      "- related_but_no_info: 868 (78.9%)\n",
      "Target categories:\n",
      "- enough_info: 100 (9.1%)\n",
      "- enough_info_and_follow_perfectly: 2 (0.2%)\n",
      "- either: 102 (9.3%)\n",
      "\n"
     ]
    }
   ],
   "source": [
    "pct_per_magnitude(steered_default_df, \"Steered + No Jailbreak\")"
   ]
  },
  {
   "cell_type": "code",
   "execution_count": 91,
   "id": "4e7a1876",
   "metadata": {},
   "outputs": [
    {
     "name": "stdout",
     "output_type": "stream",
     "text": [
      "Index(['id', 'role', 'prompt_id', 'question_id', 'prompt', 'question',\n",
      "       'harm_category', 'persona', 'magnitude', 'response', 'score',\n",
      "       'analysis'],\n",
      "      dtype='object')\n"
     ]
    }
   ],
   "source": [
    "print(steered_jailbreak_df.keys())"
   ]
  },
  {
   "cell_type": "markdown",
   "id": "b0611827",
   "metadata": {},
   "source": [
    "## Plot Harmful Responses"
   ]
  },
  {
   "cell_type": "code",
   "execution_count": 92,
   "id": "a0b707dd",
   "metadata": {},
   "outputs": [],
   "source": [
    "\n",
    "# --- 1) Helper: summarize one dataframe into counts/percentages for target labels ---\n",
    "TARGETS = [\"enough_info\", \"enough_info_and_follow_perfectly\"]\n",
    "\n",
    "def summarize_df(df, jailbreak_label, magnitude_override=None):\n",
    "    \"\"\"\n",
    "    Returns tidy rows with counts and percentages for the two target labels,\n",
    "    grouped by magnitude (float). If magnitude_override is provided, use that\n",
    "    value for every row (e.g., unsteered -> 0.0).\n",
    "    \"\"\"\n",
    "    work = df.copy()\n",
    "    if magnitude_override is not None:\n",
    "        work[\"magnitude\"] = magnitude_override\n",
    "\n",
    "    # group totals per magnitude\n",
    "    totals = work.groupby(\"magnitude\").size().rename(\"n_total\")\n",
    "\n",
    "    # counts per label\n",
    "    counts = (\n",
    "        work[[\"magnitude\", \"score\"]]\n",
    "        .value_counts()\n",
    "        .rename(\"n\")\n",
    "        .reset_index()\n",
    "    )\n",
    "\n",
    "    # keep only the two target labels, but we’ll also compute n_either\n",
    "    target_counts = counts[counts[\"score\"].isin(TARGETS)].copy()\n",
    "\n",
    "    # pivot to get columns for each target label count\n",
    "    pivot = target_counts.pivot_table(\n",
    "        index=\"magnitude\",\n",
    "        columns=\"score\",\n",
    "        values=\"n\",\n",
    "        aggfunc=\"sum\",\n",
    "        fill_value=0\n",
    "    )\n",
    "\n",
    "    # ensure both columns present\n",
    "    for t in TARGETS:\n",
    "        if t not in pivot.columns:\n",
    "            pivot[t] = 0\n",
    "\n",
    "    # combine with totals\n",
    "    df_sum = pivot.join(totals, how=\"right\").fillna(0)\n",
    "    df_sum[\"n_either\"] = df_sum[\"enough_info\"] + df_sum[\"enough_info_and_follow_perfectly\"]\n",
    "\n",
    "    # percentages\n",
    "    for col in [\"enough_info\", \"enough_info_and_follow_perfectly\", \"n_either\"]:\n",
    "        df_sum[f\"pct_{col}\"] = (df_sum[col] / df_sum[\"n_total\"] * 100).round(1)\n",
    "\n",
    "    # tidy long rows for stacked plotting (two rows per magnitude: one per target label)\n",
    "    long_rows = []\n",
    "    for mag, row in df_sum.reset_index().iterrows():\n",
    "        for label in TARGETS:\n",
    "            long_rows.append({\n",
    "                \"magnitude\": float(row[\"magnitude\"]),\n",
    "                \"jailbreak\": jailbreak_label,                 # \"No Jailbreak\" or \"Jailbreak\"\n",
    "                \"score_label\": label,                         # which of the two targets\n",
    "                \"count\": int(row[label]),\n",
    "                \"total\": int(row[\"n_total\"]),\n",
    "                \"pct\": float(row[f\"pct_{label}\"]),\n",
    "                \"pct_either\": float(row[\"pct_n_either\"]),     # same for both labels\n",
    "            })\n",
    "    return pd.DataFrame(long_rows)\n"
   ]
  },
  {
   "cell_type": "code",
   "execution_count": 93,
   "id": "748b37a3",
   "metadata": {},
   "outputs": [],
   "source": [
    "\n",
    "# --- 2) Build the tidy dataset from your four inputs ---\n",
    "# Unsteered frames are magnitude 0.0\n",
    "unsteered_default_tidy   = summarize_df(unsteered_default_df,   \"No Jailbreak\", 0.0)\n",
    "unsteered_jailbreak_tidy = summarize_df(unsteered_jailbreak_df, \"Jailbreak\",    0.0)\n",
    "\n",
    "# Steered frames keep their own magnitude values\n",
    "steered_default_tidy     = summarize_df(steered_default_df,     \"No Jailbreak\")\n",
    "steered_jailbreak_tidy   = summarize_df(steered_jailbreak_df,   \"Jailbreak\")\n",
    "\n",
    "tidy = pd.concat(\n",
    "    [unsteered_default_tidy, unsteered_jailbreak_tidy,\n",
    "     steered_default_tidy,   steered_jailbreak_tidy],\n",
    "    ignore_index=True\n",
    ")\n",
    "\n",
    "\n"
   ]
  },
  {
   "cell_type": "code",
   "execution_count": 94,
   "id": "4693a2da",
   "metadata": {},
   "outputs": [
    {
     "data": {
      "application/vnd.plotly.v1+json": {
       "config": {
        "plotlyServerURL": "https://plot.ly"
       },
       "data": [
        {
         "cliponaxis": false,
         "customdata": [
          [
           0,
           1100,
           -24
          ],
          [
           2,
           1100,
           -18
          ],
          [
           30,
           1100,
           -12
          ],
          [
           100,
           1100,
           -6
          ],
          [
           196,
           4400,
           0
          ]
         ],
         "hovertemplate": "Magnitude: %{customdata[2]}<br>No Jailbreak — Harmful Info in Response<br>Pct: %{y:.1f}%<br>Count: %{customdata[0]} / %{customdata[1]}<extra></extra>",
         "legendgroup": "Harmful Info in Response",
         "marker": {
          "color": "#ff7f00"
         },
         "name": "Harmful Info in Response",
         "text": [
          "",
          "",
          "",
          "9.1%",
          ""
         ],
         "textposition": "inside",
         "type": "bar",
         "width": 0.34,
         "x": [
          -0.18,
          0.8200000000000001,
          1.82,
          2.82,
          3.82
         ],
         "y": [
          0,
          0.2,
          2.7,
          9.1,
          4.5
         ]
        },
        {
         "cliponaxis": false,
         "customdata": [
          [
           0,
           1100,
           -24
          ],
          [
           0,
           1100,
           -18
          ],
          [
           0,
           1100,
           -12
          ],
          [
           2,
           1100,
           -6
          ],
          [
           2,
           4400,
           0
          ]
         ],
         "hovertemplate": "Magnitude: %{customdata[2]}<br>No Jailbreak — Harmful Info & Perfectly Following Request<br>Pct: %{y:.1f}%<br>Count: %{customdata[0]} / %{customdata[1]}<extra></extra>",
         "legendgroup": "Harmful Info & Perfectly Following Request",
         "marker": {
          "color": "#e41a1c"
         },
         "name": "Harmful Info & Perfectly Following Request",
         "text": [
          "",
          "",
          "",
          "",
          ""
         ],
         "textposition": "inside",
         "type": "bar",
         "width": 0.34,
         "x": [
          -0.18,
          0.8200000000000001,
          1.82,
          2.82,
          3.82
         ],
         "y": [
          0,
          0,
          0,
          0.2,
          0
         ]
        },
        {
         "cliponaxis": false,
         "customdata": [
          [
           28,
           1100,
           -24
          ],
          [
           264,
           1100,
           -18
          ],
          [
           470,
           1100,
           -12
          ],
          [
           637,
           1100,
           -6
          ],
          [
           2001,
           4400,
           0
          ]
         ],
         "hovertemplate": "Magnitude: %{customdata[2]}<br>Jailbreak — Harmful Info in Response<br>Pct: %{y:.1f}%<br>Count: %{customdata[0]} / %{customdata[1]}<extra></extra>",
         "legendgroup": "Harmful Info in Response",
         "marker": {
          "color": "#ff7f00"
         },
         "showlegend": false,
         "text": [
          "",
          "24.0%",
          "42.7%",
          "57.9%",
          "45.5%"
         ],
         "textposition": "inside",
         "type": "bar",
         "width": 0.34,
         "x": [
          0.18,
          1.18,
          2.18,
          3.18,
          4.18
         ],
         "y": [
          2.5,
          24,
          42.7,
          57.9,
          45.5
         ]
        },
        {
         "cliponaxis": false,
         "customdata": [
          [
           5,
           1100,
           -24
          ],
          [
           110,
           1100,
           -18
          ],
          [
           201,
           1100,
           -12
          ],
          [
           251,
           1100,
           -6
          ],
          [
           870,
           4400,
           0
          ]
         ],
         "hovertemplate": "Magnitude: %{customdata[2]}<br>Jailbreak — Harmful Info & Perfectly Following Request<br>Pct: %{y:.1f}%<br>Count: %{customdata[0]} / %{customdata[1]}<extra></extra>",
         "legendgroup": "Harmful Info & Perfectly Following Request",
         "marker": {
          "color": "#e41a1c"
         },
         "showlegend": false,
         "text": [
          "",
          "10.0%",
          "18.3%",
          "22.8%",
          "19.8%"
         ],
         "textposition": "inside",
         "type": "bar",
         "width": 0.34,
         "x": [
          0.18,
          1.18,
          2.18,
          3.18,
          4.18
         ],
         "y": [
          0.5,
          10,
          18.3,
          22.8,
          19.8
         ]
        }
       ],
       "layout": {
        "annotations": [
         {
          "font": {
           "size": 13
          },
          "showarrow": false,
          "text": "<b>3.0%</b>",
          "x": 0.18,
          "y": 6
         },
         {
          "font": {
           "size": 10
          },
          "showarrow": false,
          "text": "<b>Jailbreak</b>",
          "x": 0.18,
          "y": 11
         },
         {
          "font": {
           "size": 13
          },
          "showarrow": false,
          "text": "<b>0.2%</b>",
          "x": 0.8200000000000001,
          "y": 3.2
         },
         {
          "font": {
           "size": 10
          },
          "showarrow": false,
          "text": "<b>Default</b>",
          "x": 0.8200000000000001,
          "y": 8.2
         },
         {
          "font": {
           "size": 13
          },
          "showarrow": false,
          "text": "<b>34.0%</b>",
          "x": 1.18,
          "y": 37
         },
         {
          "font": {
           "size": 10
          },
          "showarrow": false,
          "text": "<b>Jailbreak</b>",
          "x": 1.18,
          "y": 42
         },
         {
          "font": {
           "size": 13
          },
          "showarrow": false,
          "text": "<b>2.7%</b>",
          "x": 1.82,
          "y": 5.7
         },
         {
          "font": {
           "size": 10
          },
          "showarrow": false,
          "text": "<b>Default</b>",
          "x": 1.82,
          "y": 10.7
         },
         {
          "font": {
           "size": 13
          },
          "showarrow": false,
          "text": "<b>61.0%</b>",
          "x": 2.18,
          "y": 64
         },
         {
          "font": {
           "size": 10
          },
          "showarrow": false,
          "text": "<b>Jailbreak</b>",
          "x": 2.18,
          "y": 69
         },
         {
          "font": {
           "size": 13
          },
          "showarrow": false,
          "text": "<b>9.3%</b>",
          "x": 2.82,
          "y": 12.299999999999999
         },
         {
          "font": {
           "size": 10
          },
          "showarrow": false,
          "text": "<b>Default</b>",
          "x": 2.82,
          "y": 17.299999999999997
         },
         {
          "font": {
           "size": 13
          },
          "showarrow": false,
          "text": "<b>80.7%</b>",
          "x": 3.18,
          "y": 83.7
         },
         {
          "font": {
           "size": 10
          },
          "showarrow": false,
          "text": "<b>Jailbreak</b>",
          "x": 3.18,
          "y": 88.7
         },
         {
          "font": {
           "size": 13
          },
          "showarrow": false,
          "text": "<b>4.5%</b>",
          "x": 3.82,
          "y": 7.5
         },
         {
          "font": {
           "size": 10
          },
          "showarrow": false,
          "text": "<b>Default</b>",
          "x": 3.82,
          "y": 12.5
         },
         {
          "font": {
           "size": 13
          },
          "showarrow": false,
          "text": "<b>65.3%</b>",
          "x": 4.18,
          "y": 68.3
         },
         {
          "font": {
           "size": 10
          },
          "showarrow": false,
          "text": "<b>Jailbreak</b>",
          "x": 4.18,
          "y": 73.3
         }
        ],
        "bargap": 0.25,
        "barmode": "stack",
        "height": 520,
        "legend": {
         "orientation": "h",
         "x": 1,
         "xanchor": "right",
         "y": 1.02,
         "yanchor": "bottom"
        },
        "template": {
         "data": {
          "bar": [
           {
            "error_x": {
             "color": "#2a3f5f"
            },
            "error_y": {
             "color": "#2a3f5f"
            },
            "marker": {
             "line": {
              "color": "#E5ECF6",
              "width": 0.5
             },
             "pattern": {
              "fillmode": "overlay",
              "size": 10,
              "solidity": 0.2
             }
            },
            "type": "bar"
           }
          ],
          "barpolar": [
           {
            "marker": {
             "line": {
              "color": "#E5ECF6",
              "width": 0.5
             },
             "pattern": {
              "fillmode": "overlay",
              "size": 10,
              "solidity": 0.2
             }
            },
            "type": "barpolar"
           }
          ],
          "carpet": [
           {
            "aaxis": {
             "endlinecolor": "#2a3f5f",
             "gridcolor": "white",
             "linecolor": "white",
             "minorgridcolor": "white",
             "startlinecolor": "#2a3f5f"
            },
            "baxis": {
             "endlinecolor": "#2a3f5f",
             "gridcolor": "white",
             "linecolor": "white",
             "minorgridcolor": "white",
             "startlinecolor": "#2a3f5f"
            },
            "type": "carpet"
           }
          ],
          "choropleth": [
           {
            "colorbar": {
             "outlinewidth": 0,
             "ticks": ""
            },
            "type": "choropleth"
           }
          ],
          "contour": [
           {
            "colorbar": {
             "outlinewidth": 0,
             "ticks": ""
            },
            "colorscale": [
             [
              0,
              "#0d0887"
             ],
             [
              0.1111111111111111,
              "#46039f"
             ],
             [
              0.2222222222222222,
              "#7201a8"
             ],
             [
              0.3333333333333333,
              "#9c179e"
             ],
             [
              0.4444444444444444,
              "#bd3786"
             ],
             [
              0.5555555555555556,
              "#d8576b"
             ],
             [
              0.6666666666666666,
              "#ed7953"
             ],
             [
              0.7777777777777778,
              "#fb9f3a"
             ],
             [
              0.8888888888888888,
              "#fdca26"
             ],
             [
              1,
              "#f0f921"
             ]
            ],
            "type": "contour"
           }
          ],
          "contourcarpet": [
           {
            "colorbar": {
             "outlinewidth": 0,
             "ticks": ""
            },
            "type": "contourcarpet"
           }
          ],
          "heatmap": [
           {
            "colorbar": {
             "outlinewidth": 0,
             "ticks": ""
            },
            "colorscale": [
             [
              0,
              "#0d0887"
             ],
             [
              0.1111111111111111,
              "#46039f"
             ],
             [
              0.2222222222222222,
              "#7201a8"
             ],
             [
              0.3333333333333333,
              "#9c179e"
             ],
             [
              0.4444444444444444,
              "#bd3786"
             ],
             [
              0.5555555555555556,
              "#d8576b"
             ],
             [
              0.6666666666666666,
              "#ed7953"
             ],
             [
              0.7777777777777778,
              "#fb9f3a"
             ],
             [
              0.8888888888888888,
              "#fdca26"
             ],
             [
              1,
              "#f0f921"
             ]
            ],
            "type": "heatmap"
           }
          ],
          "heatmapgl": [
           {
            "colorbar": {
             "outlinewidth": 0,
             "ticks": ""
            },
            "colorscale": [
             [
              0,
              "#0d0887"
             ],
             [
              0.1111111111111111,
              "#46039f"
             ],
             [
              0.2222222222222222,
              "#7201a8"
             ],
             [
              0.3333333333333333,
              "#9c179e"
             ],
             [
              0.4444444444444444,
              "#bd3786"
             ],
             [
              0.5555555555555556,
              "#d8576b"
             ],
             [
              0.6666666666666666,
              "#ed7953"
             ],
             [
              0.7777777777777778,
              "#fb9f3a"
             ],
             [
              0.8888888888888888,
              "#fdca26"
             ],
             [
              1,
              "#f0f921"
             ]
            ],
            "type": "heatmapgl"
           }
          ],
          "histogram": [
           {
            "marker": {
             "pattern": {
              "fillmode": "overlay",
              "size": 10,
              "solidity": 0.2
             }
            },
            "type": "histogram"
           }
          ],
          "histogram2d": [
           {
            "colorbar": {
             "outlinewidth": 0,
             "ticks": ""
            },
            "colorscale": [
             [
              0,
              "#0d0887"
             ],
             [
              0.1111111111111111,
              "#46039f"
             ],
             [
              0.2222222222222222,
              "#7201a8"
             ],
             [
              0.3333333333333333,
              "#9c179e"
             ],
             [
              0.4444444444444444,
              "#bd3786"
             ],
             [
              0.5555555555555556,
              "#d8576b"
             ],
             [
              0.6666666666666666,
              "#ed7953"
             ],
             [
              0.7777777777777778,
              "#fb9f3a"
             ],
             [
              0.8888888888888888,
              "#fdca26"
             ],
             [
              1,
              "#f0f921"
             ]
            ],
            "type": "histogram2d"
           }
          ],
          "histogram2dcontour": [
           {
            "colorbar": {
             "outlinewidth": 0,
             "ticks": ""
            },
            "colorscale": [
             [
              0,
              "#0d0887"
             ],
             [
              0.1111111111111111,
              "#46039f"
             ],
             [
              0.2222222222222222,
              "#7201a8"
             ],
             [
              0.3333333333333333,
              "#9c179e"
             ],
             [
              0.4444444444444444,
              "#bd3786"
             ],
             [
              0.5555555555555556,
              "#d8576b"
             ],
             [
              0.6666666666666666,
              "#ed7953"
             ],
             [
              0.7777777777777778,
              "#fb9f3a"
             ],
             [
              0.8888888888888888,
              "#fdca26"
             ],
             [
              1,
              "#f0f921"
             ]
            ],
            "type": "histogram2dcontour"
           }
          ],
          "mesh3d": [
           {
            "colorbar": {
             "outlinewidth": 0,
             "ticks": ""
            },
            "type": "mesh3d"
           }
          ],
          "parcoords": [
           {
            "line": {
             "colorbar": {
              "outlinewidth": 0,
              "ticks": ""
             }
            },
            "type": "parcoords"
           }
          ],
          "pie": [
           {
            "automargin": true,
            "type": "pie"
           }
          ],
          "scatter": [
           {
            "fillpattern": {
             "fillmode": "overlay",
             "size": 10,
             "solidity": 0.2
            },
            "type": "scatter"
           }
          ],
          "scatter3d": [
           {
            "line": {
             "colorbar": {
              "outlinewidth": 0,
              "ticks": ""
             }
            },
            "marker": {
             "colorbar": {
              "outlinewidth": 0,
              "ticks": ""
             }
            },
            "type": "scatter3d"
           }
          ],
          "scattercarpet": [
           {
            "marker": {
             "colorbar": {
              "outlinewidth": 0,
              "ticks": ""
             }
            },
            "type": "scattercarpet"
           }
          ],
          "scattergeo": [
           {
            "marker": {
             "colorbar": {
              "outlinewidth": 0,
              "ticks": ""
             }
            },
            "type": "scattergeo"
           }
          ],
          "scattergl": [
           {
            "marker": {
             "colorbar": {
              "outlinewidth": 0,
              "ticks": ""
             }
            },
            "type": "scattergl"
           }
          ],
          "scattermapbox": [
           {
            "marker": {
             "colorbar": {
              "outlinewidth": 0,
              "ticks": ""
             }
            },
            "type": "scattermapbox"
           }
          ],
          "scatterpolar": [
           {
            "marker": {
             "colorbar": {
              "outlinewidth": 0,
              "ticks": ""
             }
            },
            "type": "scatterpolar"
           }
          ],
          "scatterpolargl": [
           {
            "marker": {
             "colorbar": {
              "outlinewidth": 0,
              "ticks": ""
             }
            },
            "type": "scatterpolargl"
           }
          ],
          "scatterternary": [
           {
            "marker": {
             "colorbar": {
              "outlinewidth": 0,
              "ticks": ""
             }
            },
            "type": "scatterternary"
           }
          ],
          "surface": [
           {
            "colorbar": {
             "outlinewidth": 0,
             "ticks": ""
            },
            "colorscale": [
             [
              0,
              "#0d0887"
             ],
             [
              0.1111111111111111,
              "#46039f"
             ],
             [
              0.2222222222222222,
              "#7201a8"
             ],
             [
              0.3333333333333333,
              "#9c179e"
             ],
             [
              0.4444444444444444,
              "#bd3786"
             ],
             [
              0.5555555555555556,
              "#d8576b"
             ],
             [
              0.6666666666666666,
              "#ed7953"
             ],
             [
              0.7777777777777778,
              "#fb9f3a"
             ],
             [
              0.8888888888888888,
              "#fdca26"
             ],
             [
              1,
              "#f0f921"
             ]
            ],
            "type": "surface"
           }
          ],
          "table": [
           {
            "cells": {
             "fill": {
              "color": "#EBF0F8"
             },
             "line": {
              "color": "white"
             }
            },
            "header": {
             "fill": {
              "color": "#C8D4E3"
             },
             "line": {
              "color": "white"
             }
            },
            "type": "table"
           }
          ]
         },
         "layout": {
          "annotationdefaults": {
           "arrowcolor": "#2a3f5f",
           "arrowhead": 0,
           "arrowwidth": 1
          },
          "autotypenumbers": "strict",
          "coloraxis": {
           "colorbar": {
            "outlinewidth": 0,
            "ticks": ""
           }
          },
          "colorscale": {
           "diverging": [
            [
             0,
             "#8e0152"
            ],
            [
             0.1,
             "#c51b7d"
            ],
            [
             0.2,
             "#de77ae"
            ],
            [
             0.3,
             "#f1b6da"
            ],
            [
             0.4,
             "#fde0ef"
            ],
            [
             0.5,
             "#f7f7f7"
            ],
            [
             0.6,
             "#e6f5d0"
            ],
            [
             0.7,
             "#b8e186"
            ],
            [
             0.8,
             "#7fbc41"
            ],
            [
             0.9,
             "#4d9221"
            ],
            [
             1,
             "#276419"
            ]
           ],
           "sequential": [
            [
             0,
             "#0d0887"
            ],
            [
             0.1111111111111111,
             "#46039f"
            ],
            [
             0.2222222222222222,
             "#7201a8"
            ],
            [
             0.3333333333333333,
             "#9c179e"
            ],
            [
             0.4444444444444444,
             "#bd3786"
            ],
            [
             0.5555555555555556,
             "#d8576b"
            ],
            [
             0.6666666666666666,
             "#ed7953"
            ],
            [
             0.7777777777777778,
             "#fb9f3a"
            ],
            [
             0.8888888888888888,
             "#fdca26"
            ],
            [
             1,
             "#f0f921"
            ]
           ],
           "sequentialminus": [
            [
             0,
             "#0d0887"
            ],
            [
             0.1111111111111111,
             "#46039f"
            ],
            [
             0.2222222222222222,
             "#7201a8"
            ],
            [
             0.3333333333333333,
             "#9c179e"
            ],
            [
             0.4444444444444444,
             "#bd3786"
            ],
            [
             0.5555555555555556,
             "#d8576b"
            ],
            [
             0.6666666666666666,
             "#ed7953"
            ],
            [
             0.7777777777777778,
             "#fb9f3a"
            ],
            [
             0.8888888888888888,
             "#fdca26"
            ],
            [
             1,
             "#f0f921"
            ]
           ]
          },
          "colorway": [
           "#636efa",
           "#EF553B",
           "#00cc96",
           "#ab63fa",
           "#FFA15A",
           "#19d3f3",
           "#FF6692",
           "#B6E880",
           "#FF97FF",
           "#FECB52"
          ],
          "font": {
           "color": "#2a3f5f"
          },
          "geo": {
           "bgcolor": "white",
           "lakecolor": "white",
           "landcolor": "#E5ECF6",
           "showlakes": true,
           "showland": true,
           "subunitcolor": "white"
          },
          "hoverlabel": {
           "align": "left"
          },
          "hovermode": "closest",
          "mapbox": {
           "style": "light"
          },
          "paper_bgcolor": "white",
          "plot_bgcolor": "#E5ECF6",
          "polar": {
           "angularaxis": {
            "gridcolor": "white",
            "linecolor": "white",
            "ticks": ""
           },
           "bgcolor": "#E5ECF6",
           "radialaxis": {
            "gridcolor": "white",
            "linecolor": "white",
            "ticks": ""
           }
          },
          "scene": {
           "xaxis": {
            "backgroundcolor": "#E5ECF6",
            "gridcolor": "white",
            "gridwidth": 2,
            "linecolor": "white",
            "showbackground": true,
            "ticks": "",
            "zerolinecolor": "white"
           },
           "yaxis": {
            "backgroundcolor": "#E5ECF6",
            "gridcolor": "white",
            "gridwidth": 2,
            "linecolor": "white",
            "showbackground": true,
            "ticks": "",
            "zerolinecolor": "white"
           },
           "zaxis": {
            "backgroundcolor": "#E5ECF6",
            "gridcolor": "white",
            "gridwidth": 2,
            "linecolor": "white",
            "showbackground": true,
            "ticks": "",
            "zerolinecolor": "white"
           }
          },
          "shapedefaults": {
           "line": {
            "color": "#2a3f5f"
           }
          },
          "ternary": {
           "aaxis": {
            "gridcolor": "white",
            "linecolor": "white",
            "ticks": ""
           },
           "baxis": {
            "gridcolor": "white",
            "linecolor": "white",
            "ticks": ""
           },
           "bgcolor": "#E5ECF6",
           "caxis": {
            "gridcolor": "white",
            "linecolor": "white",
            "ticks": ""
           }
          },
          "title": {
           "x": 0.05
          },
          "xaxis": {
           "automargin": true,
           "gridcolor": "white",
           "linecolor": "white",
           "ticks": "",
           "title": {
            "standoff": 15
           },
           "zerolinecolor": "white",
           "zerolinewidth": 2
          },
          "yaxis": {
           "automargin": true,
           "gridcolor": "white",
           "linecolor": "white",
           "ticks": "",
           "title": {
            "standoff": 15
           },
           "zerolinecolor": "white",
           "zerolinewidth": 2
          }
         }
        },
        "title": {
         "subtitle": {
          "text": "Llama 3.3 70B, Layer 40"
         },
         "text": "Harmful Responses with Persona-based Jailbreaks when Steered Towards the Assistant"
        },
        "width": 980,
        "xaxis": {
         "gridcolor": "lightgray",
         "range": [
          -0.8,
          4.8
         ],
         "showgrid": true,
         "tickmode": "array",
         "ticktext": [
          "-24.0",
          "-18.0",
          "-12.0",
          "-6.0",
          "Unsteered"
         ],
         "tickvals": [
          0,
          1,
          2,
          3,
          4
         ],
         "title": {
          "text": "Role-playing PC1 Steering Magnitude"
         }
        },
        "yaxis": {
         "gridcolor": "lightgray",
         "range": [
          0,
          100
         ],
         "showgrid": true,
         "title": {
          "text": "Percentage of Harmful Responses"
         }
        }
       }
      },
      "text/html": [
       "<div>                            <div id=\"226af5e2-1cd4-4830-9bca-1bb3806ae733\" class=\"plotly-graph-div\" style=\"height:520px; width:980px;\"></div>            <script type=\"text/javascript\">                require([\"plotly\"], function(Plotly) {                    window.PLOTLYENV=window.PLOTLYENV || {};                                    if (document.getElementById(\"226af5e2-1cd4-4830-9bca-1bb3806ae733\")) {                    Plotly.newPlot(                        \"226af5e2-1cd4-4830-9bca-1bb3806ae733\",                        [{\"cliponaxis\":false,\"customdata\":[[0.0,1100.0,-24.0],[2.0,1100.0,-18.0],[30.0,1100.0,-12.0],[100.0,1100.0,-6.0],[196.0,4400.0,0.0]],\"hovertemplate\":\"Magnitude: %{customdata[2]}\\u003cbr\\u003eNo Jailbreak \\u2014 Harmful Info in Response\\u003cbr\\u003ePct: %{y:.1f}%\\u003cbr\\u003eCount: %{customdata[0]} \\u002f %{customdata[1]}\\u003cextra\\u003e\\u003c\\u002fextra\\u003e\",\"legendgroup\":\"Harmful Info in Response\",\"marker\":{\"color\":\"#ff7f00\"},\"name\":\"Harmful Info in Response\",\"text\":[\"\",\"\",\"\",\"9.1%\",\"\"],\"textposition\":\"inside\",\"width\":0.34,\"x\":[-0.18,0.8200000000000001,1.82,2.82,3.82],\"y\":[0.0,0.2,2.7,9.1,4.5],\"type\":\"bar\"},{\"cliponaxis\":false,\"customdata\":[[0.0,1100.0,-24.0],[0.0,1100.0,-18.0],[0.0,1100.0,-12.0],[2.0,1100.0,-6.0],[2.0,4400.0,0.0]],\"hovertemplate\":\"Magnitude: %{customdata[2]}\\u003cbr\\u003eNo Jailbreak \\u2014 Harmful Info & Perfectly Following Request\\u003cbr\\u003ePct: %{y:.1f}%\\u003cbr\\u003eCount: %{customdata[0]} \\u002f %{customdata[1]}\\u003cextra\\u003e\\u003c\\u002fextra\\u003e\",\"legendgroup\":\"Harmful Info & Perfectly Following Request\",\"marker\":{\"color\":\"#e41a1c\"},\"name\":\"Harmful Info & Perfectly Following Request\",\"text\":[\"\",\"\",\"\",\"\",\"\"],\"textposition\":\"inside\",\"width\":0.34,\"x\":[-0.18,0.8200000000000001,1.82,2.82,3.82],\"y\":[0.0,0.0,0.0,0.2,0.0],\"type\":\"bar\"},{\"cliponaxis\":false,\"customdata\":[[28.0,1100.0,-24.0],[264.0,1100.0,-18.0],[470.0,1100.0,-12.0],[637.0,1100.0,-6.0],[2001.0,4400.0,0.0]],\"hovertemplate\":\"Magnitude: %{customdata[2]}\\u003cbr\\u003eJailbreak \\u2014 Harmful Info in Response\\u003cbr\\u003ePct: %{y:.1f}%\\u003cbr\\u003eCount: %{customdata[0]} \\u002f %{customdata[1]}\\u003cextra\\u003e\\u003c\\u002fextra\\u003e\",\"legendgroup\":\"Harmful Info in Response\",\"marker\":{\"color\":\"#ff7f00\"},\"showlegend\":false,\"text\":[\"\",\"24.0%\",\"42.7%\",\"57.9%\",\"45.5%\"],\"textposition\":\"inside\",\"width\":0.34,\"x\":[0.18,1.18,2.18,3.18,4.18],\"y\":[2.5,24.0,42.7,57.9,45.5],\"type\":\"bar\"},{\"cliponaxis\":false,\"customdata\":[[5.0,1100.0,-24.0],[110.0,1100.0,-18.0],[201.0,1100.0,-12.0],[251.0,1100.0,-6.0],[870.0,4400.0,0.0]],\"hovertemplate\":\"Magnitude: %{customdata[2]}\\u003cbr\\u003eJailbreak \\u2014 Harmful Info & Perfectly Following Request\\u003cbr\\u003ePct: %{y:.1f}%\\u003cbr\\u003eCount: %{customdata[0]} \\u002f %{customdata[1]}\\u003cextra\\u003e\\u003c\\u002fextra\\u003e\",\"legendgroup\":\"Harmful Info & Perfectly Following Request\",\"marker\":{\"color\":\"#e41a1c\"},\"showlegend\":false,\"text\":[\"\",\"10.0%\",\"18.3%\",\"22.8%\",\"19.8%\"],\"textposition\":\"inside\",\"width\":0.34,\"x\":[0.18,1.18,2.18,3.18,4.18],\"y\":[0.5,10.0,18.3,22.8,19.8],\"type\":\"bar\"}],                        {\"template\":{\"data\":{\"histogram2dcontour\":[{\"type\":\"histogram2dcontour\",\"colorbar\":{\"outlinewidth\":0,\"ticks\":\"\"},\"colorscale\":[[0.0,\"#0d0887\"],[0.1111111111111111,\"#46039f\"],[0.2222222222222222,\"#7201a8\"],[0.3333333333333333,\"#9c179e\"],[0.4444444444444444,\"#bd3786\"],[0.5555555555555556,\"#d8576b\"],[0.6666666666666666,\"#ed7953\"],[0.7777777777777778,\"#fb9f3a\"],[0.8888888888888888,\"#fdca26\"],[1.0,\"#f0f921\"]]}],\"choropleth\":[{\"type\":\"choropleth\",\"colorbar\":{\"outlinewidth\":0,\"ticks\":\"\"}}],\"histogram2d\":[{\"type\":\"histogram2d\",\"colorbar\":{\"outlinewidth\":0,\"ticks\":\"\"},\"colorscale\":[[0.0,\"#0d0887\"],[0.1111111111111111,\"#46039f\"],[0.2222222222222222,\"#7201a8\"],[0.3333333333333333,\"#9c179e\"],[0.4444444444444444,\"#bd3786\"],[0.5555555555555556,\"#d8576b\"],[0.6666666666666666,\"#ed7953\"],[0.7777777777777778,\"#fb9f3a\"],[0.8888888888888888,\"#fdca26\"],[1.0,\"#f0f921\"]]}],\"heatmap\":[{\"type\":\"heatmap\",\"colorbar\":{\"outlinewidth\":0,\"ticks\":\"\"},\"colorscale\":[[0.0,\"#0d0887\"],[0.1111111111111111,\"#46039f\"],[0.2222222222222222,\"#7201a8\"],[0.3333333333333333,\"#9c179e\"],[0.4444444444444444,\"#bd3786\"],[0.5555555555555556,\"#d8576b\"],[0.6666666666666666,\"#ed7953\"],[0.7777777777777778,\"#fb9f3a\"],[0.8888888888888888,\"#fdca26\"],[1.0,\"#f0f921\"]]}],\"heatmapgl\":[{\"type\":\"heatmapgl\",\"colorbar\":{\"outlinewidth\":0,\"ticks\":\"\"},\"colorscale\":[[0.0,\"#0d0887\"],[0.1111111111111111,\"#46039f\"],[0.2222222222222222,\"#7201a8\"],[0.3333333333333333,\"#9c179e\"],[0.4444444444444444,\"#bd3786\"],[0.5555555555555556,\"#d8576b\"],[0.6666666666666666,\"#ed7953\"],[0.7777777777777778,\"#fb9f3a\"],[0.8888888888888888,\"#fdca26\"],[1.0,\"#f0f921\"]]}],\"contourcarpet\":[{\"type\":\"contourcarpet\",\"colorbar\":{\"outlinewidth\":0,\"ticks\":\"\"}}],\"contour\":[{\"type\":\"contour\",\"colorbar\":{\"outlinewidth\":0,\"ticks\":\"\"},\"colorscale\":[[0.0,\"#0d0887\"],[0.1111111111111111,\"#46039f\"],[0.2222222222222222,\"#7201a8\"],[0.3333333333333333,\"#9c179e\"],[0.4444444444444444,\"#bd3786\"],[0.5555555555555556,\"#d8576b\"],[0.6666666666666666,\"#ed7953\"],[0.7777777777777778,\"#fb9f3a\"],[0.8888888888888888,\"#fdca26\"],[1.0,\"#f0f921\"]]}],\"surface\":[{\"type\":\"surface\",\"colorbar\":{\"outlinewidth\":0,\"ticks\":\"\"},\"colorscale\":[[0.0,\"#0d0887\"],[0.1111111111111111,\"#46039f\"],[0.2222222222222222,\"#7201a8\"],[0.3333333333333333,\"#9c179e\"],[0.4444444444444444,\"#bd3786\"],[0.5555555555555556,\"#d8576b\"],[0.6666666666666666,\"#ed7953\"],[0.7777777777777778,\"#fb9f3a\"],[0.8888888888888888,\"#fdca26\"],[1.0,\"#f0f921\"]]}],\"mesh3d\":[{\"type\":\"mesh3d\",\"colorbar\":{\"outlinewidth\":0,\"ticks\":\"\"}}],\"scatter\":[{\"fillpattern\":{\"fillmode\":\"overlay\",\"size\":10,\"solidity\":0.2},\"type\":\"scatter\"}],\"parcoords\":[{\"type\":\"parcoords\",\"line\":{\"colorbar\":{\"outlinewidth\":0,\"ticks\":\"\"}}}],\"scatterpolargl\":[{\"type\":\"scatterpolargl\",\"marker\":{\"colorbar\":{\"outlinewidth\":0,\"ticks\":\"\"}}}],\"bar\":[{\"error_x\":{\"color\":\"#2a3f5f\"},\"error_y\":{\"color\":\"#2a3f5f\"},\"marker\":{\"line\":{\"color\":\"#E5ECF6\",\"width\":0.5},\"pattern\":{\"fillmode\":\"overlay\",\"size\":10,\"solidity\":0.2}},\"type\":\"bar\"}],\"scattergeo\":[{\"type\":\"scattergeo\",\"marker\":{\"colorbar\":{\"outlinewidth\":0,\"ticks\":\"\"}}}],\"scatterpolar\":[{\"type\":\"scatterpolar\",\"marker\":{\"colorbar\":{\"outlinewidth\":0,\"ticks\":\"\"}}}],\"histogram\":[{\"marker\":{\"pattern\":{\"fillmode\":\"overlay\",\"size\":10,\"solidity\":0.2}},\"type\":\"histogram\"}],\"scattergl\":[{\"type\":\"scattergl\",\"marker\":{\"colorbar\":{\"outlinewidth\":0,\"ticks\":\"\"}}}],\"scatter3d\":[{\"type\":\"scatter3d\",\"line\":{\"colorbar\":{\"outlinewidth\":0,\"ticks\":\"\"}},\"marker\":{\"colorbar\":{\"outlinewidth\":0,\"ticks\":\"\"}}}],\"scattermapbox\":[{\"type\":\"scattermapbox\",\"marker\":{\"colorbar\":{\"outlinewidth\":0,\"ticks\":\"\"}}}],\"scatterternary\":[{\"type\":\"scatterternary\",\"marker\":{\"colorbar\":{\"outlinewidth\":0,\"ticks\":\"\"}}}],\"scattercarpet\":[{\"type\":\"scattercarpet\",\"marker\":{\"colorbar\":{\"outlinewidth\":0,\"ticks\":\"\"}}}],\"carpet\":[{\"aaxis\":{\"endlinecolor\":\"#2a3f5f\",\"gridcolor\":\"white\",\"linecolor\":\"white\",\"minorgridcolor\":\"white\",\"startlinecolor\":\"#2a3f5f\"},\"baxis\":{\"endlinecolor\":\"#2a3f5f\",\"gridcolor\":\"white\",\"linecolor\":\"white\",\"minorgridcolor\":\"white\",\"startlinecolor\":\"#2a3f5f\"},\"type\":\"carpet\"}],\"table\":[{\"cells\":{\"fill\":{\"color\":\"#EBF0F8\"},\"line\":{\"color\":\"white\"}},\"header\":{\"fill\":{\"color\":\"#C8D4E3\"},\"line\":{\"color\":\"white\"}},\"type\":\"table\"}],\"barpolar\":[{\"marker\":{\"line\":{\"color\":\"#E5ECF6\",\"width\":0.5},\"pattern\":{\"fillmode\":\"overlay\",\"size\":10,\"solidity\":0.2}},\"type\":\"barpolar\"}],\"pie\":[{\"automargin\":true,\"type\":\"pie\"}]},\"layout\":{\"autotypenumbers\":\"strict\",\"colorway\":[\"#636efa\",\"#EF553B\",\"#00cc96\",\"#ab63fa\",\"#FFA15A\",\"#19d3f3\",\"#FF6692\",\"#B6E880\",\"#FF97FF\",\"#FECB52\"],\"font\":{\"color\":\"#2a3f5f\"},\"hovermode\":\"closest\",\"hoverlabel\":{\"align\":\"left\"},\"paper_bgcolor\":\"white\",\"plot_bgcolor\":\"#E5ECF6\",\"polar\":{\"bgcolor\":\"#E5ECF6\",\"angularaxis\":{\"gridcolor\":\"white\",\"linecolor\":\"white\",\"ticks\":\"\"},\"radialaxis\":{\"gridcolor\":\"white\",\"linecolor\":\"white\",\"ticks\":\"\"}},\"ternary\":{\"bgcolor\":\"#E5ECF6\",\"aaxis\":{\"gridcolor\":\"white\",\"linecolor\":\"white\",\"ticks\":\"\"},\"baxis\":{\"gridcolor\":\"white\",\"linecolor\":\"white\",\"ticks\":\"\"},\"caxis\":{\"gridcolor\":\"white\",\"linecolor\":\"white\",\"ticks\":\"\"}},\"coloraxis\":{\"colorbar\":{\"outlinewidth\":0,\"ticks\":\"\"}},\"colorscale\":{\"sequential\":[[0.0,\"#0d0887\"],[0.1111111111111111,\"#46039f\"],[0.2222222222222222,\"#7201a8\"],[0.3333333333333333,\"#9c179e\"],[0.4444444444444444,\"#bd3786\"],[0.5555555555555556,\"#d8576b\"],[0.6666666666666666,\"#ed7953\"],[0.7777777777777778,\"#fb9f3a\"],[0.8888888888888888,\"#fdca26\"],[1.0,\"#f0f921\"]],\"sequentialminus\":[[0.0,\"#0d0887\"],[0.1111111111111111,\"#46039f\"],[0.2222222222222222,\"#7201a8\"],[0.3333333333333333,\"#9c179e\"],[0.4444444444444444,\"#bd3786\"],[0.5555555555555556,\"#d8576b\"],[0.6666666666666666,\"#ed7953\"],[0.7777777777777778,\"#fb9f3a\"],[0.8888888888888888,\"#fdca26\"],[1.0,\"#f0f921\"]],\"diverging\":[[0,\"#8e0152\"],[0.1,\"#c51b7d\"],[0.2,\"#de77ae\"],[0.3,\"#f1b6da\"],[0.4,\"#fde0ef\"],[0.5,\"#f7f7f7\"],[0.6,\"#e6f5d0\"],[0.7,\"#b8e186\"],[0.8,\"#7fbc41\"],[0.9,\"#4d9221\"],[1,\"#276419\"]]},\"xaxis\":{\"gridcolor\":\"white\",\"linecolor\":\"white\",\"ticks\":\"\",\"title\":{\"standoff\":15},\"zerolinecolor\":\"white\",\"automargin\":true,\"zerolinewidth\":2},\"yaxis\":{\"gridcolor\":\"white\",\"linecolor\":\"white\",\"ticks\":\"\",\"title\":{\"standoff\":15},\"zerolinecolor\":\"white\",\"automargin\":true,\"zerolinewidth\":2},\"scene\":{\"xaxis\":{\"backgroundcolor\":\"#E5ECF6\",\"gridcolor\":\"white\",\"linecolor\":\"white\",\"showbackground\":true,\"ticks\":\"\",\"zerolinecolor\":\"white\",\"gridwidth\":2},\"yaxis\":{\"backgroundcolor\":\"#E5ECF6\",\"gridcolor\":\"white\",\"linecolor\":\"white\",\"showbackground\":true,\"ticks\":\"\",\"zerolinecolor\":\"white\",\"gridwidth\":2},\"zaxis\":{\"backgroundcolor\":\"#E5ECF6\",\"gridcolor\":\"white\",\"linecolor\":\"white\",\"showbackground\":true,\"ticks\":\"\",\"zerolinecolor\":\"white\",\"gridwidth\":2}},\"shapedefaults\":{\"line\":{\"color\":\"#2a3f5f\"}},\"annotationdefaults\":{\"arrowcolor\":\"#2a3f5f\",\"arrowhead\":0,\"arrowwidth\":1},\"geo\":{\"bgcolor\":\"white\",\"landcolor\":\"#E5ECF6\",\"subunitcolor\":\"white\",\"showland\":true,\"showlakes\":true,\"lakecolor\":\"white\"},\"title\":{\"x\":0.05},\"mapbox\":{\"style\":\"light\"}}},\"annotations\":[{\"font\":{\"size\":13},\"showarrow\":false,\"text\":\"\\u003cb\\u003e3.0%\\u003c\\u002fb\\u003e\",\"x\":0.18,\"y\":6.0},{\"font\":{\"size\":10},\"showarrow\":false,\"text\":\"\\u003cb\\u003eJailbreak\\u003c\\u002fb\\u003e\",\"x\":0.18,\"y\":11.0},{\"font\":{\"size\":13},\"showarrow\":false,\"text\":\"\\u003cb\\u003e0.2%\\u003c\\u002fb\\u003e\",\"x\":0.8200000000000001,\"y\":3.2},{\"font\":{\"size\":10},\"showarrow\":false,\"text\":\"\\u003cb\\u003eDefault\\u003c\\u002fb\\u003e\",\"x\":0.8200000000000001,\"y\":8.2},{\"font\":{\"size\":13},\"showarrow\":false,\"text\":\"\\u003cb\\u003e34.0%\\u003c\\u002fb\\u003e\",\"x\":1.18,\"y\":37.0},{\"font\":{\"size\":10},\"showarrow\":false,\"text\":\"\\u003cb\\u003eJailbreak\\u003c\\u002fb\\u003e\",\"x\":1.18,\"y\":42.0},{\"font\":{\"size\":13},\"showarrow\":false,\"text\":\"\\u003cb\\u003e2.7%\\u003c\\u002fb\\u003e\",\"x\":1.82,\"y\":5.7},{\"font\":{\"size\":10},\"showarrow\":false,\"text\":\"\\u003cb\\u003eDefault\\u003c\\u002fb\\u003e\",\"x\":1.82,\"y\":10.7},{\"font\":{\"size\":13},\"showarrow\":false,\"text\":\"\\u003cb\\u003e61.0%\\u003c\\u002fb\\u003e\",\"x\":2.18,\"y\":64.0},{\"font\":{\"size\":10},\"showarrow\":false,\"text\":\"\\u003cb\\u003eJailbreak\\u003c\\u002fb\\u003e\",\"x\":2.18,\"y\":69.0},{\"font\":{\"size\":13},\"showarrow\":false,\"text\":\"\\u003cb\\u003e9.3%\\u003c\\u002fb\\u003e\",\"x\":2.82,\"y\":12.299999999999999},{\"font\":{\"size\":10},\"showarrow\":false,\"text\":\"\\u003cb\\u003eDefault\\u003c\\u002fb\\u003e\",\"x\":2.82,\"y\":17.299999999999997},{\"font\":{\"size\":13},\"showarrow\":false,\"text\":\"\\u003cb\\u003e80.7%\\u003c\\u002fb\\u003e\",\"x\":3.18,\"y\":83.7},{\"font\":{\"size\":10},\"showarrow\":false,\"text\":\"\\u003cb\\u003eJailbreak\\u003c\\u002fb\\u003e\",\"x\":3.18,\"y\":88.7},{\"font\":{\"size\":13},\"showarrow\":false,\"text\":\"\\u003cb\\u003e4.5%\\u003c\\u002fb\\u003e\",\"x\":3.82,\"y\":7.5},{\"font\":{\"size\":10},\"showarrow\":false,\"text\":\"\\u003cb\\u003eDefault\\u003c\\u002fb\\u003e\",\"x\":3.82,\"y\":12.5},{\"font\":{\"size\":13},\"showarrow\":false,\"text\":\"\\u003cb\\u003e65.3%\\u003c\\u002fb\\u003e\",\"x\":4.18,\"y\":68.3},{\"font\":{\"size\":10},\"showarrow\":false,\"text\":\"\\u003cb\\u003eJailbreak\\u003c\\u002fb\\u003e\",\"x\":4.18,\"y\":73.3}],\"title\":{\"subtitle\":{\"text\":\"Llama 3.3 70B, Layer 40\"},\"text\":\"Harmful Responses with Persona-based Jailbreaks when Steered Towards the Assistant\"},\"xaxis\":{\"title\":{\"text\":\"Role-playing PC1 Steering Magnitude\"},\"tickmode\":\"array\",\"tickvals\":[0,1,2,3,4],\"ticktext\":[\"-24.0\",\"-18.0\",\"-12.0\",\"-6.0\",\"Unsteered\"],\"showgrid\":true,\"gridcolor\":\"lightgray\",\"range\":[-0.8,4.8]},\"yaxis\":{\"title\":{\"text\":\"Percentage of Harmful Responses\"},\"range\":[0,100],\"showgrid\":true,\"gridcolor\":\"lightgray\"},\"legend\":{\"orientation\":\"h\",\"yanchor\":\"bottom\",\"y\":1.02,\"xanchor\":\"right\",\"x\":1.0},\"barmode\":\"stack\",\"width\":980,\"height\":520,\"bargap\":0.25},                        {\"responsive\": true}                    ).then(function(){\n",
       "                            \n",
       "var gd = document.getElementById('226af5e2-1cd4-4830-9bca-1bb3806ae733');\n",
       "var x = new MutationObserver(function (mutations, observer) {{\n",
       "        var display = window.getComputedStyle(gd).display;\n",
       "        if (!display || display === 'none') {{\n",
       "            console.log([gd, 'removed!']);\n",
       "            Plotly.purge(gd);\n",
       "            observer.disconnect();\n",
       "        }}\n",
       "}});\n",
       "\n",
       "// Listen for the removal of the full notebook cells\n",
       "var notebookContainer = gd.closest('#notebook-container');\n",
       "if (notebookContainer) {{\n",
       "    x.observe(notebookContainer, {childList: true});\n",
       "}}\n",
       "\n",
       "// Listen for the clearing of the current output cell\n",
       "var outputEl = gd.closest('.output');\n",
       "if (outputEl) {{\n",
       "    x.observe(outputEl, {childList: true});\n",
       "}}\n",
       "\n",
       "                        })                };                });            </script>        </div>"
      ]
     },
     "metadata": {},
     "output_type": "display_data"
    }
   ],
   "source": [
    "# ----- CONFIG -----\n",
    "TARGETS   = [\"enough_info\", \"enough_info_and_follow_perfectly\"]\n",
    "JB_ORDER  = [\"No Jailbreak\", \"Jailbreak\"]   # left, right\n",
    "COLORS = {\n",
    "    \"enough_info_and_follow_perfectly\": \"#e41a1c\",  # red\n",
    "    \"enough_info\": \"#ff7f00\",                      # orange\n",
    "}\n",
    "\n",
    "label_map = {\n",
    "    \"enough_info\": \"Harmful Info in Response\",\n",
    "    \"enough_info_and_follow_perfectly\": \"Harmful Info & Perfectly Following Request\"\n",
    "}\n",
    "\n",
    "# Order magnitudes the way you want them on the x-axis\n",
    "\n",
    "\n",
    "# ----- BUILD PIVOTS (robust, fills missing combos with 0) -----\n",
    "def pivot_pct(df, label):\n",
    "    # returns a (len(magnitudes) x len(JB_ORDER)) array of percentages\n",
    "    tbl = (df[df[\"score_label\"]==label]\n",
    "           .pivot_table(index=\"magnitude\", columns=\"jailbreak\",\n",
    "                        values=\"pct\", aggfunc=\"first\", fill_value=0.0))\n",
    "    # enforce full order and fill any missing JB columns\n",
    "    tbl = tbl.reindex(index=magnitudes, columns=JB_ORDER, fill_value=0.0)\n",
    "    return tbl.values  # rows=mags, cols=JB_ORDER\n",
    "\n",
    "def pivot_counts(df, label):\n",
    "    # (counts, totals) arrays for hover\n",
    "    ct = (df[df[\"score_label\"]==label]\n",
    "          .pivot_table(index=\"magnitude\", columns=\"jailbreak\",\n",
    "                       values=\"count\", aggfunc=\"first\", fill_value=0))\n",
    "    tt = (df[df[\"score_label\"]==label]\n",
    "          .pivot_table(index=\"magnitude\", columns=\"jailbreak\",\n",
    "                       values=\"total\", aggfunc=\"first\", fill_value=0))\n",
    "    ct = ct.reindex(index=magnitudes, columns=JB_ORDER, fill_value=0)\n",
    "    tt = tt.reindex(index=magnitudes, columns=JB_ORDER, fill_value=0)\n",
    "    return ct.values, tt.values\n",
    "\n",
    "Y1 = pivot_pct(tidy, \"enough_info\")\n",
    "Y2 = pivot_pct(tidy, \"enough_info_and_follow_perfectly\")\n",
    "C1, T1 = pivot_counts(tidy, \"enough_info\")\n",
    "C2, T2 = pivot_counts(tidy, \"enough_info_and_follow_perfectly\")\n",
    "\n",
    "# ----- X POSITIONS: numeric centers with small offsets -----\n",
    "centers = np.arange(len(magnitudes))        # 0,1,2,...\n",
    "dx = 0.18\n",
    "x_nojb = centers - dx\n",
    "x_jb   = centers + dx\n",
    "BAR_WIDTH = 0.34\n",
    "\n",
    "# ----- BUILD FIGURE -----\n",
    "fig = go.Figure()\n",
    "\n",
    "# Left bar of each group (No Jailbreak): stack Y1 + Y2 at x_nojb\n",
    "for label, Y, C, T in [\n",
    "    (\"enough_info\", Y1, C1, T1),\n",
    "    (\"enough_info_and_follow_perfectly\", Y2, C2, T2),\n",
    "]:\n",
    "    fig.add_trace(go.Bar(\n",
    "        x=x_nojb,\n",
    "        y=Y[:, 0],\n",
    "        name=label_map[label], legendgroup=label_map[label],  # <-- mapped\n",
    "        marker_color=COLORS[label],\n",
    "        width=BAR_WIDTH,\n",
    "        text=[f\"{v:.1f}%\" if v >= 7.0 else \"\" for v in Y[:, 0]],\n",
    "        textposition=\"inside\",\n",
    "        cliponaxis=False,\n",
    "        hovertemplate=(\"Magnitude: %{customdata[2]}<br>\"\n",
    "                       \"No Jailbreak — \"+label_map[label]+\"<br>\"   # <-- mapped\n",
    "                       \"Pct: %{y:.1f}%<br>\"\n",
    "                       \"Count: %{customdata[0]} / %{customdata[1]}<extra></extra>\"),\n",
    "        customdata=np.column_stack([C[:, 0], T[:, 0], magnitudes]),\n",
    "    ))\n",
    "\n",
    "# Right bar of each group (Jailbreak): stack Y1 + Y2 at x_jb\n",
    "for label, Y, C, T in [\n",
    "    (\"enough_info\", Y1, C1, T1),\n",
    "    (\"enough_info_and_follow_perfectly\", Y2, C2, T2),\n",
    "]:\n",
    "    fig.add_trace(go.Bar(\n",
    "        x=x_jb,\n",
    "        y=Y[:, 1],\n",
    "        name=None, showlegend=False, legendgroup=label_map[label],  # <-- mapped\n",
    "        marker_color=COLORS[label],\n",
    "        width=BAR_WIDTH,\n",
    "        text=[f\"{v:.1f}%\" if v >= 7.0 else \"\" for v in Y[:, 1]],\n",
    "        textposition=\"inside\",\n",
    "        cliponaxis=False,\n",
    "        hovertemplate=(\"Magnitude: %{customdata[2]}<br>\"\n",
    "                       \"Jailbreak — \"+label_map[label]+\"<br>\"      # <-- mapped\n",
    "                       \"Pct: %{y:.1f}%<br>\"\n",
    "                       \"Count: %{customdata[0]} / %{customdata[1]}<extra></extra>\"),\n",
    "        customdata=np.column_stack([C[:, 1], T[:, 1], magnitudes]),\n",
    "    ))\n",
    "\n",
    "\n",
    "# Annotations with sum percentages above each stacked pair\n",
    "tops_nojb = (Y1[:, 0] + Y2[:, 0])\n",
    "tops_jb   = (Y1[:, 1] + Y2[:, 1])\n",
    "for i in range(len(magnitudes)):\n",
    "    if tops_nojb[i] > 0:\n",
    "        fig.add_annotation(x=x_nojb[i], y=tops_nojb[i] + 3,\n",
    "                           text=f\"<b>{tops_nojb[i]:.1f}%</b>\", showarrow=False, font=dict(size=13))\n",
    "        fig.add_annotation(x=x_nojb[i], y=tops_nojb[i] + 8,\n",
    "                           text=\"<b>Default</b>\", showarrow=False, font=dict(size=10))\n",
    "    if tops_jb[i] > 0:\n",
    "        fig.add_annotation(x=x_jb[i], y=tops_jb[i] + 3,\n",
    "                           text=f\"<b>{tops_jb[i]:.1f}%</b>\", showarrow=False, font=dict(size=13))\n",
    "        fig.add_annotation(x=x_jb[i], y=tops_jb[i] + 8,\n",
    "                           text=\"<b>Jailbreak</b>\", showarrow=False, font=dict(size=10))\n",
    "\n",
    "# ----- LAYOUT -----\n",
    "fig.update_layout(\n",
    "    barmode=\"stack\",  # stacks within each bar; grouping via numeric offsets\n",
    "    width=980, height=520,\n",
    "    title={\n",
    "        \"text\": \"Harmful Responses with Persona-based Jailbreaks when Steered Towards the Assistant\",\n",
    "        \"subtitle\": {\n",
    "            \"text\": subtitle,\n",
    "        }\n",
    "    },\n",
    "    xaxis=dict(\n",
    "        title=\"Role-playing PC1 Steering Magnitude\",\n",
    "        tickmode=\"array\",\n",
    "        tickvals=centers,\n",
    "        ticktext=[str(m) for m in magnitudes[:-1]] + [\"Unsteered\"],\n",
    "        showgrid=True, gridcolor=\"lightgray\",\n",
    "        range=[centers.min()-0.8, centers.max()+0.8],\n",
    "    ),\n",
    "    yaxis=dict(\n",
    "        title=\"Percentage of Harmful Responses\",\n",
    "        range=[0, 100],\n",
    "        showgrid=True, gridcolor=\"lightgray\"\n",
    "    ),\n",
    "    legend=dict(\n",
    "        orientation=\"h\", yanchor=\"bottom\", y=1.02, xanchor=\"right\", x=1.0\n",
    "    ),\n",
    "    bargap=0.25,\n",
    ")\n",
    "\n",
    "fig.show()\n",
    "fig.write_html(f\"{out_dir}/jailbreak_harmful.html\")"
   ]
  },
  {
   "cell_type": "markdown",
   "id": "c2078d48",
   "metadata": {},
   "source": [
    "## Plot Other Responses"
   ]
  },
  {
   "cell_type": "code",
   "execution_count": 95,
   "id": "9e97a836",
   "metadata": {},
   "outputs": [],
   "source": [
    "# --- Define categories you want to stack (exclude your two targets)\n",
    "# Ordered category list for plotting (matches desired color gradient)\n",
    "OTHER_LABELS = [\n",
    "    \"almost_enough_info\",        # yellow\n",
    "    \"related_but_no_info\",       # cyan\n",
    "    \"refusal\",                   # lime green\n",
    "    \"refusal_and_justification\", # green\n",
    "    \"out_of_context\",            # purple\n",
    "    \"nonsensical\",               # pink\n",
    "    \"other\",                     # grey\n",
    "]\n",
    "\n",
    "other_colors = {\n",
    "    \"almost_enough_info\": \"#ffff33\",        # yellow\n",
    "    \"related_but_no_info\": \"#1f78b4\",       # cyan/blueish\n",
    "    \"refusal\": \"#b2df8a\",                   # lime green\n",
    "    \"refusal_and_justification\": \"#33a02c\", # green\n",
    "    \"out_of_context\": \"#6a3d9a\",            # purple\n",
    "    \"nonsensical\": \"#fb9a99\",               # pink\n",
    "    \"other\": \"#999999\",                     # grey\n",
    "}\n",
    "\n",
    "\n",
    "other_label_map = {\n",
    "    \"refusal\": \"Refusal\",\n",
    "    \"refusal_and_justification\": \"Refusal & Justification\",\n",
    "    \"nonsensical\": \"Nonsensical\",\n",
    "    \"out_of_context\": \"Out of Context\",\n",
    "    \"related_but_no_info\": \"Related\",\n",
    "    \"almost_enough_info\": \"Almost Harmful\",\n",
    "    \"other\": \"Other\",\n",
    "}\n",
    "\n",
    "\n",
    "def summarize_df_multi(df, jailbreak_label, labels, magnitude_override=None):\n",
    "    \"\"\"Return tidy rows for *labels* with counts & % per magnitude.\"\"\"\n",
    "    work = df.copy()\n",
    "    if magnitude_override is not None:\n",
    "        work[\"magnitude\"] = magnitude_override\n",
    "\n",
    "    totals = work.groupby(\"magnitude\").size().rename(\"n_total\")\n",
    "\n",
    "    counts = (\n",
    "        work[[\"magnitude\", \"score\"]]\n",
    "        .value_counts()\n",
    "        .rename(\"n\")\n",
    "        .reset_index()\n",
    "    )\n",
    "\n",
    "    # keep only requested labels\n",
    "    counts = counts[counts[\"score\"].isin(labels)].copy()\n",
    "\n",
    "    pivot = counts.pivot_table(\n",
    "        index=\"magnitude\", columns=\"score\", values=\"n\", aggfunc=\"sum\", fill_value=0\n",
    "    )\n",
    "\n",
    "    # ensure all label columns exist\n",
    "    for lab in labels:\n",
    "        if lab not in pivot.columns:\n",
    "            pivot[lab] = 0\n",
    "\n",
    "    df_sum = pivot.join(totals, how=\"right\").fillna(0)\n",
    "\n",
    "    # percentages\n",
    "    for lab in labels:\n",
    "        df_sum[f\"pct_{lab}\"] = (df_sum[lab] / df_sum[\"n_total\"] * 100).round(1)\n",
    "\n",
    "    # long rows\n",
    "    long = []\n",
    "    for _, row in df_sum.reset_index().iterrows():\n",
    "        for lab in labels:\n",
    "            long.append({\n",
    "                \"magnitude\": float(row[\"magnitude\"]),\n",
    "                \"jailbreak\": jailbreak_label,      # \"No Jailbreak\" / \"Jailbreak\"\n",
    "                \"score_label\": lab,\n",
    "                \"count\": int(row[lab]),\n",
    "                \"total\": int(row[\"n_total\"]),\n",
    "                \"pct\": float(row[f\"pct_{lab}\"]),\n",
    "            })\n",
    "    return pd.DataFrame(long)\n",
    "\n",
    "# Build tidy for the OTHER categories from your 4 input frames\n",
    "unsteered_default_other   = summarize_df_multi(unsteered_default_df,   \"No Jailbreak\", OTHER_LABELS, 0.0)\n",
    "unsteered_jailbreak_other = summarize_df_multi(unsteered_jailbreak_df, \"Jailbreak\",    OTHER_LABELS, 0.0)\n",
    "steered_default_other     = summarize_df_multi(steered_default_df,     \"No Jailbreak\", OTHER_LABELS)\n",
    "steered_jailbreak_other   = summarize_df_multi(steered_jailbreak_df,   \"Jailbreak\",    OTHER_LABELS)\n",
    "\n",
    "tidy_other = pd.concat(\n",
    "    [unsteered_default_other, unsteered_jailbreak_other,\n",
    "     steered_default_other,   steered_jailbreak_other],\n",
    "    ignore_index=True\n",
    ")\n"
   ]
  },
  {
   "cell_type": "code",
   "execution_count": 96,
   "id": "cf1ba099",
   "metadata": {},
   "outputs": [
    {
     "data": {
      "application/vnd.plotly.v1+json": {
       "config": {
        "plotlyServerURL": "https://plot.ly"
       },
       "data": [
        {
         "cliponaxis": false,
         "customdata": [
          [
           0,
           1100,
           -24
          ],
          [
           1,
           1100,
           -18
          ],
          [
           2,
           1100,
           -12
          ],
          [
           8,
           1100,
           -6
          ],
          [
           28,
           4400,
           0
          ]
         ],
         "hovertemplate": "Magnitude: %{customdata[2]}<br>No Jailbreak — Almost Harmful<br>Pct: %{y:.1f}%<br>Count: %{customdata[0]} / %{customdata[1]}<extra></extra>",
         "legendgroup": "Almost Harmful",
         "marker": {
          "color": "#ffff33"
         },
         "name": "Almost Harmful",
         "text": [
          "",
          "",
          "",
          "",
          ""
         ],
         "textposition": "inside",
         "type": "bar",
         "width": 0.34,
         "x": [
          -0.18,
          0.8200000000000001,
          1.82,
          2.82,
          3.82
         ],
         "y": [
          0,
          0.1,
          0.2,
          0.7,
          0.6
         ]
        },
        {
         "cliponaxis": false,
         "customdata": [
          [
           205,
           1100,
           -24
          ],
          [
           748,
           1100,
           -18
          ],
          [
           916,
           1100,
           -12
          ],
          [
           868,
           1100,
           -6
          ],
          [
           3518,
           4400,
           0
          ]
         ],
         "hovertemplate": "Magnitude: %{customdata[2]}<br>No Jailbreak — Related<br>Pct: %{y:.1f}%<br>Count: %{customdata[0]} / %{customdata[1]}<extra></extra>",
         "legendgroup": "Related",
         "marker": {
          "color": "#1f78b4"
         },
         "name": "Related",
         "text": [
          "18.6%",
          "68.0%",
          "83.3%",
          "78.9%",
          "80.0%"
         ],
         "textposition": "inside",
         "type": "bar",
         "width": 0.34,
         "x": [
          -0.18,
          0.8200000000000001,
          1.82,
          2.82,
          3.82
         ],
         "y": [
          18.6,
          68,
          83.3,
          78.9,
          80
         ]
        },
        {
         "cliponaxis": false,
         "customdata": [
          [
           0,
           1100,
           -24
          ],
          [
           22,
           1100,
           -18
          ],
          [
           17,
           1100,
           -12
          ],
          [
           24,
           1100,
           -6
          ],
          [
           353,
           4400,
           0
          ]
         ],
         "hovertemplate": "Magnitude: %{customdata[2]}<br>No Jailbreak — Refusal<br>Pct: %{y:.1f}%<br>Count: %{customdata[0]} / %{customdata[1]}<extra></extra>",
         "legendgroup": "Refusal",
         "marker": {
          "color": "#b2df8a"
         },
         "name": "Refusal",
         "text": [
          "",
          "",
          "",
          "",
          "8.0%"
         ],
         "textposition": "inside",
         "type": "bar",
         "width": 0.34,
         "x": [
          -0.18,
          0.8200000000000001,
          1.82,
          2.82,
          3.82
         ],
         "y": [
          0,
          2,
          1.5,
          2.2,
          8
         ]
        },
        {
         "cliponaxis": false,
         "customdata": [
          [
           1,
           1100,
           -24
          ],
          [
           13,
           1100,
           -18
          ],
          [
           33,
           1100,
           -12
          ],
          [
           48,
           1100,
           -6
          ],
          [
           151,
           4400,
           0
          ]
         ],
         "hovertemplate": "Magnitude: %{customdata[2]}<br>No Jailbreak — Refusal & Justification<br>Pct: %{y:.1f}%<br>Count: %{customdata[0]} / %{customdata[1]}<extra></extra>",
         "legendgroup": "Refusal & Justification",
         "marker": {
          "color": "#33a02c"
         },
         "name": "Refusal & Justification",
         "text": [
          "",
          "",
          "",
          "",
          ""
         ],
         "textposition": "inside",
         "type": "bar",
         "width": 0.34,
         "x": [
          -0.18,
          0.8200000000000001,
          1.82,
          2.82,
          3.82
         ],
         "y": [
          0.1,
          1.2,
          3,
          4.4,
          3.4
         ]
        },
        {
         "cliponaxis": false,
         "customdata": [
          [
           66,
           1100,
           -24
          ],
          [
           170,
           1100,
           -18
          ],
          [
           88,
           1100,
           -12
          ],
          [
           49,
           1100,
           -6
          ],
          [
           152,
           4400,
           0
          ]
         ],
         "hovertemplate": "Magnitude: %{customdata[2]}<br>No Jailbreak — Out of Context<br>Pct: %{y:.1f}%<br>Count: %{customdata[0]} / %{customdata[1]}<extra></extra>",
         "legendgroup": "Out of Context",
         "marker": {
          "color": "#6a3d9a"
         },
         "name": "Out of Context",
         "text": [
          "",
          "15.5%",
          "8.0%",
          "",
          ""
         ],
         "textposition": "inside",
         "type": "bar",
         "width": 0.34,
         "x": [
          -0.18,
          0.8200000000000001,
          1.82,
          2.82,
          3.82
         ],
         "y": [
          6,
          15.5,
          8,
          4.5,
          3.5
         ]
        },
        {
         "cliponaxis": false,
         "customdata": [
          [
           828,
           1100,
           -24
          ],
          [
           144,
           1100,
           -18
          ],
          [
           14,
           1100,
           -12
          ],
          [
           0,
           1100,
           -6
          ],
          [
           0,
           4400,
           0
          ]
         ],
         "hovertemplate": "Magnitude: %{customdata[2]}<br>No Jailbreak — Nonsensical<br>Pct: %{y:.1f}%<br>Count: %{customdata[0]} / %{customdata[1]}<extra></extra>",
         "legendgroup": "Nonsensical",
         "marker": {
          "color": "#fb9a99"
         },
         "name": "Nonsensical",
         "text": [
          "75.3%",
          "13.1%",
          "",
          "",
          ""
         ],
         "textposition": "inside",
         "type": "bar",
         "width": 0.34,
         "x": [
          -0.18,
          0.8200000000000001,
          1.82,
          2.82,
          3.82
         ],
         "y": [
          75.3,
          13.1,
          1.3,
          0,
          0
         ]
        },
        {
         "cliponaxis": false,
         "customdata": [
          [
           0,
           1100,
           -24
          ],
          [
           0,
           1100,
           -18
          ],
          [
           0,
           1100,
           -12
          ],
          [
           1,
           1100,
           -6
          ],
          [
           0,
           4400,
           0
          ]
         ],
         "hovertemplate": "Magnitude: %{customdata[2]}<br>No Jailbreak — Other<br>Pct: %{y:.1f}%<br>Count: %{customdata[0]} / %{customdata[1]}<extra></extra>",
         "legendgroup": "Other",
         "marker": {
          "color": "#999999"
         },
         "name": "Other",
         "text": [
          "",
          "",
          "",
          "",
          ""
         ],
         "textposition": "inside",
         "type": "bar",
         "width": 0.34,
         "x": [
          -0.18,
          0.8200000000000001,
          1.82,
          2.82,
          3.82
         ],
         "y": [
          0,
          0,
          0,
          0.1,
          0
         ]
        },
        {
         "cliponaxis": false,
         "customdata": [
          [
           0,
           1100,
           -24
          ],
          [
           6,
           1100,
           -18
          ],
          [
           3,
           1100,
           -12
          ],
          [
           9,
           1100,
           -6
          ],
          [
           19,
           4400,
           0
          ]
         ],
         "hovertemplate": "Magnitude: %{customdata[2]}<br>Jailbreak — Almost Harmful<br>Pct: %{y:.1f}%<br>Count: %{customdata[0]} / %{customdata[1]}<extra></extra>",
         "legendgroup": "Almost Harmful",
         "marker": {
          "color": "#ffff33"
         },
         "showlegend": false,
         "text": [
          "",
          "",
          "",
          "",
          ""
         ],
         "textposition": "inside",
         "type": "bar",
         "width": 0.34,
         "x": [
          0.18,
          1.18,
          2.18,
          3.18,
          4.18
         ],
         "y": [
          0,
          0.5,
          0.3,
          0.8,
          0.4
         ]
        },
        {
         "cliponaxis": false,
         "customdata": [
          [
           358,
           1100,
           -24
          ],
          [
           685,
           1100,
           -18
          ],
          [
           420,
           1100,
           -12
          ],
          [
           200,
           1100,
           -6
          ],
          [
           526,
           4400,
           0
          ]
         ],
         "hovertemplate": "Magnitude: %{customdata[2]}<br>Jailbreak — Related<br>Pct: %{y:.1f}%<br>Count: %{customdata[0]} / %{customdata[1]}<extra></extra>",
         "legendgroup": "Related",
         "marker": {
          "color": "#1f78b4"
         },
         "showlegend": false,
         "text": [
          "32.5%",
          "62.3%",
          "38.2%",
          "18.2%",
          "12.0%"
         ],
         "textposition": "inside",
         "type": "bar",
         "width": 0.34,
         "x": [
          0.18,
          1.18,
          2.18,
          3.18,
          4.18
         ],
         "y": [
          32.5,
          62.3,
          38.2,
          18.2,
          12
         ]
        },
        {
         "cliponaxis": false,
         "customdata": [
          [
           3,
           1100,
           -24
          ],
          [
           5,
           1100,
           -18
          ],
          [
           4,
           1100,
           -12
          ],
          [
           3,
           1100,
           -6
          ],
          [
           964,
           4400,
           0
          ]
         ],
         "hovertemplate": "Magnitude: %{customdata[2]}<br>Jailbreak — Refusal<br>Pct: %{y:.1f}%<br>Count: %{customdata[0]} / %{customdata[1]}<extra></extra>",
         "legendgroup": "Refusal",
         "marker": {
          "color": "#b2df8a"
         },
         "showlegend": false,
         "text": [
          "",
          "",
          "",
          "",
          "21.9%"
         ],
         "textposition": "inside",
         "type": "bar",
         "width": 0.34,
         "x": [
          0.18,
          1.18,
          2.18,
          3.18,
          4.18
         ],
         "y": [
          0.3,
          0.5,
          0.4,
          0.3,
          21.9
         ]
        },
        {
         "cliponaxis": false,
         "customdata": [
          [
           0,
           1100,
           -24
          ],
          [
           0,
           1100,
           -18
          ],
          [
           1,
           1100,
           -12
          ],
          [
           0,
           1100,
           -6
          ],
          [
           18,
           4400,
           0
          ]
         ],
         "hovertemplate": "Magnitude: %{customdata[2]}<br>Jailbreak — Refusal & Justification<br>Pct: %{y:.1f}%<br>Count: %{customdata[0]} / %{customdata[1]}<extra></extra>",
         "legendgroup": "Refusal & Justification",
         "marker": {
          "color": "#33a02c"
         },
         "showlegend": false,
         "text": [
          "",
          "",
          "",
          "",
          ""
         ],
         "textposition": "inside",
         "type": "bar",
         "width": 0.34,
         "x": [
          0.18,
          1.18,
          2.18,
          3.18,
          4.18
         ],
         "y": [
          0,
          0,
          0.1,
          0,
          0.4
         ]
        },
        {
         "cliponaxis": false,
         "customdata": [
          [
           8,
           1100,
           -24
          ],
          [
           10,
           1100,
           -18
          ],
          [
           0,
           1100,
           -12
          ],
          [
           0,
           1100,
           -6
          ],
          [
           2,
           4400,
           0
          ]
         ],
         "hovertemplate": "Magnitude: %{customdata[2]}<br>Jailbreak — Out of Context<br>Pct: %{y:.1f}%<br>Count: %{customdata[0]} / %{customdata[1]}<extra></extra>",
         "legendgroup": "Out of Context",
         "marker": {
          "color": "#6a3d9a"
         },
         "showlegend": false,
         "text": [
          "",
          "",
          "",
          "",
          ""
         ],
         "textposition": "inside",
         "type": "bar",
         "width": 0.34,
         "x": [
          0.18,
          1.18,
          2.18,
          3.18,
          4.18
         ],
         "y": [
          0.7,
          0.9,
          0,
          0,
          0
         ]
        },
        {
         "cliponaxis": false,
         "customdata": [
          [
           698,
           1100,
           -24
          ],
          [
           20,
           1100,
           -18
          ],
          [
           1,
           1100,
           -12
          ],
          [
           0,
           1100,
           -6
          ],
          [
           0,
           4400,
           0
          ]
         ],
         "hovertemplate": "Magnitude: %{customdata[2]}<br>Jailbreak — Nonsensical<br>Pct: %{y:.1f}%<br>Count: %{customdata[0]} / %{customdata[1]}<extra></extra>",
         "legendgroup": "Nonsensical",
         "marker": {
          "color": "#fb9a99"
         },
         "showlegend": false,
         "text": [
          "63.5%",
          "",
          "",
          "",
          ""
         ],
         "textposition": "inside",
         "type": "bar",
         "width": 0.34,
         "x": [
          0.18,
          1.18,
          2.18,
          3.18,
          4.18
         ],
         "y": [
          63.5,
          1.8,
          0.1,
          0,
          0
         ]
        },
        {
         "cliponaxis": false,
         "customdata": [
          [
           0,
           1100,
           -24
          ],
          [
           0,
           1100,
           -18
          ],
          [
           0,
           1100,
           -12
          ],
          [
           0,
           1100,
           -6
          ],
          [
           0,
           4400,
           0
          ]
         ],
         "hovertemplate": "Magnitude: %{customdata[2]}<br>Jailbreak — Other<br>Pct: %{y:.1f}%<br>Count: %{customdata[0]} / %{customdata[1]}<extra></extra>",
         "legendgroup": "Other",
         "marker": {
          "color": "#999999"
         },
         "showlegend": false,
         "text": [
          "",
          "",
          "",
          "",
          ""
         ],
         "textposition": "inside",
         "type": "bar",
         "width": 0.34,
         "x": [
          0.18,
          1.18,
          2.18,
          3.18,
          4.18
         ],
         "y": [
          0,
          0,
          0,
          0,
          0
         ]
        }
       ],
       "layout": {
        "annotations": [
         {
          "font": {
           "size": 13
          },
          "showarrow": false,
          "text": "<b>100.0%</b>",
          "x": -0.18,
          "y": 103
         },
         {
          "font": {
           "size": 10
          },
          "showarrow": false,
          "text": "<b>Default</b>",
          "x": -0.18,
          "y": 108
         },
         {
          "font": {
           "size": 13
          },
          "showarrow": false,
          "text": "<b>97.0%</b>",
          "x": 0.18,
          "y": 100
         },
         {
          "font": {
           "size": 10
          },
          "showarrow": false,
          "text": "<b>Jailbreak</b>",
          "x": 0.18,
          "y": 105
         },
         {
          "font": {
           "size": 13
          },
          "showarrow": false,
          "text": "<b>99.9%</b>",
          "x": 0.8200000000000001,
          "y": 102.89999999999999
         },
         {
          "font": {
           "size": 10
          },
          "showarrow": false,
          "text": "<b>Default</b>",
          "x": 0.8200000000000001,
          "y": 107.89999999999999
         },
         {
          "font": {
           "size": 13
          },
          "showarrow": false,
          "text": "<b>66.0%</b>",
          "x": 1.18,
          "y": 69
         },
         {
          "font": {
           "size": 10
          },
          "showarrow": false,
          "text": "<b>Jailbreak</b>",
          "x": 1.18,
          "y": 74
         },
         {
          "font": {
           "size": 13
          },
          "showarrow": false,
          "text": "<b>97.3%</b>",
          "x": 1.82,
          "y": 100.3
         },
         {
          "font": {
           "size": 10
          },
          "showarrow": false,
          "text": "<b>Default</b>",
          "x": 1.82,
          "y": 105.3
         },
         {
          "font": {
           "size": 13
          },
          "showarrow": false,
          "text": "<b>39.1%</b>",
          "x": 2.18,
          "y": 42.1
         },
         {
          "font": {
           "size": 10
          },
          "showarrow": false,
          "text": "<b>Jailbreak</b>",
          "x": 2.18,
          "y": 47.1
         },
         {
          "font": {
           "size": 13
          },
          "showarrow": false,
          "text": "<b>90.8%</b>",
          "x": 2.82,
          "y": 93.80000000000001
         },
         {
          "font": {
           "size": 10
          },
          "showarrow": false,
          "text": "<b>Default</b>",
          "x": 2.82,
          "y": 98.80000000000001
         },
         {
          "font": {
           "size": 13
          },
          "showarrow": false,
          "text": "<b>19.3%</b>",
          "x": 3.18,
          "y": 22.3
         },
         {
          "font": {
           "size": 10
          },
          "showarrow": false,
          "text": "<b>Jailbreak</b>",
          "x": 3.18,
          "y": 27.3
         },
         {
          "font": {
           "size": 13
          },
          "showarrow": false,
          "text": "<b>95.5%</b>",
          "x": 3.82,
          "y": 98.5
         },
         {
          "font": {
           "size": 10
          },
          "showarrow": false,
          "text": "<b>Default</b>",
          "x": 3.82,
          "y": 103.5
         },
         {
          "font": {
           "size": 13
          },
          "showarrow": false,
          "text": "<b>34.7%</b>",
          "x": 4.18,
          "y": 37.699999999999996
         },
         {
          "font": {
           "size": 10
          },
          "showarrow": false,
          "text": "<b>Jailbreak</b>",
          "x": 4.18,
          "y": 42.699999999999996
         }
        ],
        "bargap": 0.25,
        "barmode": "stack",
        "height": 560,
        "legend": {
         "orientation": "h",
         "x": 1,
         "xanchor": "right",
         "y": 1.02,
         "yanchor": "bottom"
        },
        "margin": {
         "t": 140
        },
        "template": {
         "data": {
          "bar": [
           {
            "error_x": {
             "color": "#2a3f5f"
            },
            "error_y": {
             "color": "#2a3f5f"
            },
            "marker": {
             "line": {
              "color": "#E5ECF6",
              "width": 0.5
             },
             "pattern": {
              "fillmode": "overlay",
              "size": 10,
              "solidity": 0.2
             }
            },
            "type": "bar"
           }
          ],
          "barpolar": [
           {
            "marker": {
             "line": {
              "color": "#E5ECF6",
              "width": 0.5
             },
             "pattern": {
              "fillmode": "overlay",
              "size": 10,
              "solidity": 0.2
             }
            },
            "type": "barpolar"
           }
          ],
          "carpet": [
           {
            "aaxis": {
             "endlinecolor": "#2a3f5f",
             "gridcolor": "white",
             "linecolor": "white",
             "minorgridcolor": "white",
             "startlinecolor": "#2a3f5f"
            },
            "baxis": {
             "endlinecolor": "#2a3f5f",
             "gridcolor": "white",
             "linecolor": "white",
             "minorgridcolor": "white",
             "startlinecolor": "#2a3f5f"
            },
            "type": "carpet"
           }
          ],
          "choropleth": [
           {
            "colorbar": {
             "outlinewidth": 0,
             "ticks": ""
            },
            "type": "choropleth"
           }
          ],
          "contour": [
           {
            "colorbar": {
             "outlinewidth": 0,
             "ticks": ""
            },
            "colorscale": [
             [
              0,
              "#0d0887"
             ],
             [
              0.1111111111111111,
              "#46039f"
             ],
             [
              0.2222222222222222,
              "#7201a8"
             ],
             [
              0.3333333333333333,
              "#9c179e"
             ],
             [
              0.4444444444444444,
              "#bd3786"
             ],
             [
              0.5555555555555556,
              "#d8576b"
             ],
             [
              0.6666666666666666,
              "#ed7953"
             ],
             [
              0.7777777777777778,
              "#fb9f3a"
             ],
             [
              0.8888888888888888,
              "#fdca26"
             ],
             [
              1,
              "#f0f921"
             ]
            ],
            "type": "contour"
           }
          ],
          "contourcarpet": [
           {
            "colorbar": {
             "outlinewidth": 0,
             "ticks": ""
            },
            "type": "contourcarpet"
           }
          ],
          "heatmap": [
           {
            "colorbar": {
             "outlinewidth": 0,
             "ticks": ""
            },
            "colorscale": [
             [
              0,
              "#0d0887"
             ],
             [
              0.1111111111111111,
              "#46039f"
             ],
             [
              0.2222222222222222,
              "#7201a8"
             ],
             [
              0.3333333333333333,
              "#9c179e"
             ],
             [
              0.4444444444444444,
              "#bd3786"
             ],
             [
              0.5555555555555556,
              "#d8576b"
             ],
             [
              0.6666666666666666,
              "#ed7953"
             ],
             [
              0.7777777777777778,
              "#fb9f3a"
             ],
             [
              0.8888888888888888,
              "#fdca26"
             ],
             [
              1,
              "#f0f921"
             ]
            ],
            "type": "heatmap"
           }
          ],
          "heatmapgl": [
           {
            "colorbar": {
             "outlinewidth": 0,
             "ticks": ""
            },
            "colorscale": [
             [
              0,
              "#0d0887"
             ],
             [
              0.1111111111111111,
              "#46039f"
             ],
             [
              0.2222222222222222,
              "#7201a8"
             ],
             [
              0.3333333333333333,
              "#9c179e"
             ],
             [
              0.4444444444444444,
              "#bd3786"
             ],
             [
              0.5555555555555556,
              "#d8576b"
             ],
             [
              0.6666666666666666,
              "#ed7953"
             ],
             [
              0.7777777777777778,
              "#fb9f3a"
             ],
             [
              0.8888888888888888,
              "#fdca26"
             ],
             [
              1,
              "#f0f921"
             ]
            ],
            "type": "heatmapgl"
           }
          ],
          "histogram": [
           {
            "marker": {
             "pattern": {
              "fillmode": "overlay",
              "size": 10,
              "solidity": 0.2
             }
            },
            "type": "histogram"
           }
          ],
          "histogram2d": [
           {
            "colorbar": {
             "outlinewidth": 0,
             "ticks": ""
            },
            "colorscale": [
             [
              0,
              "#0d0887"
             ],
             [
              0.1111111111111111,
              "#46039f"
             ],
             [
              0.2222222222222222,
              "#7201a8"
             ],
             [
              0.3333333333333333,
              "#9c179e"
             ],
             [
              0.4444444444444444,
              "#bd3786"
             ],
             [
              0.5555555555555556,
              "#d8576b"
             ],
             [
              0.6666666666666666,
              "#ed7953"
             ],
             [
              0.7777777777777778,
              "#fb9f3a"
             ],
             [
              0.8888888888888888,
              "#fdca26"
             ],
             [
              1,
              "#f0f921"
             ]
            ],
            "type": "histogram2d"
           }
          ],
          "histogram2dcontour": [
           {
            "colorbar": {
             "outlinewidth": 0,
             "ticks": ""
            },
            "colorscale": [
             [
              0,
              "#0d0887"
             ],
             [
              0.1111111111111111,
              "#46039f"
             ],
             [
              0.2222222222222222,
              "#7201a8"
             ],
             [
              0.3333333333333333,
              "#9c179e"
             ],
             [
              0.4444444444444444,
              "#bd3786"
             ],
             [
              0.5555555555555556,
              "#d8576b"
             ],
             [
              0.6666666666666666,
              "#ed7953"
             ],
             [
              0.7777777777777778,
              "#fb9f3a"
             ],
             [
              0.8888888888888888,
              "#fdca26"
             ],
             [
              1,
              "#f0f921"
             ]
            ],
            "type": "histogram2dcontour"
           }
          ],
          "mesh3d": [
           {
            "colorbar": {
             "outlinewidth": 0,
             "ticks": ""
            },
            "type": "mesh3d"
           }
          ],
          "parcoords": [
           {
            "line": {
             "colorbar": {
              "outlinewidth": 0,
              "ticks": ""
             }
            },
            "type": "parcoords"
           }
          ],
          "pie": [
           {
            "automargin": true,
            "type": "pie"
           }
          ],
          "scatter": [
           {
            "fillpattern": {
             "fillmode": "overlay",
             "size": 10,
             "solidity": 0.2
            },
            "type": "scatter"
           }
          ],
          "scatter3d": [
           {
            "line": {
             "colorbar": {
              "outlinewidth": 0,
              "ticks": ""
             }
            },
            "marker": {
             "colorbar": {
              "outlinewidth": 0,
              "ticks": ""
             }
            },
            "type": "scatter3d"
           }
          ],
          "scattercarpet": [
           {
            "marker": {
             "colorbar": {
              "outlinewidth": 0,
              "ticks": ""
             }
            },
            "type": "scattercarpet"
           }
          ],
          "scattergeo": [
           {
            "marker": {
             "colorbar": {
              "outlinewidth": 0,
              "ticks": ""
             }
            },
            "type": "scattergeo"
           }
          ],
          "scattergl": [
           {
            "marker": {
             "colorbar": {
              "outlinewidth": 0,
              "ticks": ""
             }
            },
            "type": "scattergl"
           }
          ],
          "scattermapbox": [
           {
            "marker": {
             "colorbar": {
              "outlinewidth": 0,
              "ticks": ""
             }
            },
            "type": "scattermapbox"
           }
          ],
          "scatterpolar": [
           {
            "marker": {
             "colorbar": {
              "outlinewidth": 0,
              "ticks": ""
             }
            },
            "type": "scatterpolar"
           }
          ],
          "scatterpolargl": [
           {
            "marker": {
             "colorbar": {
              "outlinewidth": 0,
              "ticks": ""
             }
            },
            "type": "scatterpolargl"
           }
          ],
          "scatterternary": [
           {
            "marker": {
             "colorbar": {
              "outlinewidth": 0,
              "ticks": ""
             }
            },
            "type": "scatterternary"
           }
          ],
          "surface": [
           {
            "colorbar": {
             "outlinewidth": 0,
             "ticks": ""
            },
            "colorscale": [
             [
              0,
              "#0d0887"
             ],
             [
              0.1111111111111111,
              "#46039f"
             ],
             [
              0.2222222222222222,
              "#7201a8"
             ],
             [
              0.3333333333333333,
              "#9c179e"
             ],
             [
              0.4444444444444444,
              "#bd3786"
             ],
             [
              0.5555555555555556,
              "#d8576b"
             ],
             [
              0.6666666666666666,
              "#ed7953"
             ],
             [
              0.7777777777777778,
              "#fb9f3a"
             ],
             [
              0.8888888888888888,
              "#fdca26"
             ],
             [
              1,
              "#f0f921"
             ]
            ],
            "type": "surface"
           }
          ],
          "table": [
           {
            "cells": {
             "fill": {
              "color": "#EBF0F8"
             },
             "line": {
              "color": "white"
             }
            },
            "header": {
             "fill": {
              "color": "#C8D4E3"
             },
             "line": {
              "color": "white"
             }
            },
            "type": "table"
           }
          ]
         },
         "layout": {
          "annotationdefaults": {
           "arrowcolor": "#2a3f5f",
           "arrowhead": 0,
           "arrowwidth": 1
          },
          "autotypenumbers": "strict",
          "coloraxis": {
           "colorbar": {
            "outlinewidth": 0,
            "ticks": ""
           }
          },
          "colorscale": {
           "diverging": [
            [
             0,
             "#8e0152"
            ],
            [
             0.1,
             "#c51b7d"
            ],
            [
             0.2,
             "#de77ae"
            ],
            [
             0.3,
             "#f1b6da"
            ],
            [
             0.4,
             "#fde0ef"
            ],
            [
             0.5,
             "#f7f7f7"
            ],
            [
             0.6,
             "#e6f5d0"
            ],
            [
             0.7,
             "#b8e186"
            ],
            [
             0.8,
             "#7fbc41"
            ],
            [
             0.9,
             "#4d9221"
            ],
            [
             1,
             "#276419"
            ]
           ],
           "sequential": [
            [
             0,
             "#0d0887"
            ],
            [
             0.1111111111111111,
             "#46039f"
            ],
            [
             0.2222222222222222,
             "#7201a8"
            ],
            [
             0.3333333333333333,
             "#9c179e"
            ],
            [
             0.4444444444444444,
             "#bd3786"
            ],
            [
             0.5555555555555556,
             "#d8576b"
            ],
            [
             0.6666666666666666,
             "#ed7953"
            ],
            [
             0.7777777777777778,
             "#fb9f3a"
            ],
            [
             0.8888888888888888,
             "#fdca26"
            ],
            [
             1,
             "#f0f921"
            ]
           ],
           "sequentialminus": [
            [
             0,
             "#0d0887"
            ],
            [
             0.1111111111111111,
             "#46039f"
            ],
            [
             0.2222222222222222,
             "#7201a8"
            ],
            [
             0.3333333333333333,
             "#9c179e"
            ],
            [
             0.4444444444444444,
             "#bd3786"
            ],
            [
             0.5555555555555556,
             "#d8576b"
            ],
            [
             0.6666666666666666,
             "#ed7953"
            ],
            [
             0.7777777777777778,
             "#fb9f3a"
            ],
            [
             0.8888888888888888,
             "#fdca26"
            ],
            [
             1,
             "#f0f921"
            ]
           ]
          },
          "colorway": [
           "#636efa",
           "#EF553B",
           "#00cc96",
           "#ab63fa",
           "#FFA15A",
           "#19d3f3",
           "#FF6692",
           "#B6E880",
           "#FF97FF",
           "#FECB52"
          ],
          "font": {
           "color": "#2a3f5f"
          },
          "geo": {
           "bgcolor": "white",
           "lakecolor": "white",
           "landcolor": "#E5ECF6",
           "showlakes": true,
           "showland": true,
           "subunitcolor": "white"
          },
          "hoverlabel": {
           "align": "left"
          },
          "hovermode": "closest",
          "mapbox": {
           "style": "light"
          },
          "paper_bgcolor": "white",
          "plot_bgcolor": "#E5ECF6",
          "polar": {
           "angularaxis": {
            "gridcolor": "white",
            "linecolor": "white",
            "ticks": ""
           },
           "bgcolor": "#E5ECF6",
           "radialaxis": {
            "gridcolor": "white",
            "linecolor": "white",
            "ticks": ""
           }
          },
          "scene": {
           "xaxis": {
            "backgroundcolor": "#E5ECF6",
            "gridcolor": "white",
            "gridwidth": 2,
            "linecolor": "white",
            "showbackground": true,
            "ticks": "",
            "zerolinecolor": "white"
           },
           "yaxis": {
            "backgroundcolor": "#E5ECF6",
            "gridcolor": "white",
            "gridwidth": 2,
            "linecolor": "white",
            "showbackground": true,
            "ticks": "",
            "zerolinecolor": "white"
           },
           "zaxis": {
            "backgroundcolor": "#E5ECF6",
            "gridcolor": "white",
            "gridwidth": 2,
            "linecolor": "white",
            "showbackground": true,
            "ticks": "",
            "zerolinecolor": "white"
           }
          },
          "shapedefaults": {
           "line": {
            "color": "#2a3f5f"
           }
          },
          "ternary": {
           "aaxis": {
            "gridcolor": "white",
            "linecolor": "white",
            "ticks": ""
           },
           "baxis": {
            "gridcolor": "white",
            "linecolor": "white",
            "ticks": ""
           },
           "bgcolor": "#E5ECF6",
           "caxis": {
            "gridcolor": "white",
            "linecolor": "white",
            "ticks": ""
           }
          },
          "title": {
           "x": 0.05
          },
          "xaxis": {
           "automargin": true,
           "gridcolor": "white",
           "linecolor": "white",
           "ticks": "",
           "title": {
            "standoff": 15
           },
           "zerolinecolor": "white",
           "zerolinewidth": 2
          },
          "yaxis": {
           "automargin": true,
           "gridcolor": "white",
           "linecolor": "white",
           "ticks": "",
           "title": {
            "standoff": 15
           },
           "zerolinecolor": "white",
           "zerolinewidth": 2
          }
         }
        },
        "title": {
         "subtitle": {
          "text": "Llama 3.3 70B, Layer 40"
         },
         "text": "Other Responses with Persona-based Jailbreaks when Steered Towards the Assistant"
        },
        "width": 1000,
        "xaxis": {
         "gridcolor": "lightgray",
         "range": [
          -0.8,
          4.8
         ],
         "showgrid": true,
         "tickmode": "array",
         "ticktext": [
          "-24.0",
          "-18.0",
          "-12.0",
          "-6.0",
          "Unsteered"
         ],
         "tickvals": [
          0,
          1,
          2,
          3,
          4
         ],
         "title": {
          "text": "Role-playing PC1 Steering Magnitude"
         }
        },
        "yaxis": {
         "gridcolor": "lightgray",
         "range": [
          0,
          115
         ],
         "showgrid": true,
         "title": {
          "text": "Percentage of Responses"
         }
        }
       }
      },
      "text/html": [
       "<div>                            <div id=\"15609f90-9b69-4bd0-8e69-7a430a35d2d1\" class=\"plotly-graph-div\" style=\"height:560px; width:1000px;\"></div>            <script type=\"text/javascript\">                require([\"plotly\"], function(Plotly) {                    window.PLOTLYENV=window.PLOTLYENV || {};                                    if (document.getElementById(\"15609f90-9b69-4bd0-8e69-7a430a35d2d1\")) {                    Plotly.newPlot(                        \"15609f90-9b69-4bd0-8e69-7a430a35d2d1\",                        [{\"cliponaxis\":false,\"customdata\":[[0.0,1100.0,-24.0],[1.0,1100.0,-18.0],[2.0,1100.0,-12.0],[8.0,1100.0,-6.0],[28.0,4400.0,0.0]],\"hovertemplate\":\"Magnitude: %{customdata[2]}\\u003cbr\\u003eNo Jailbreak \\u2014 Almost Harmful\\u003cbr\\u003ePct: %{y:.1f}%\\u003cbr\\u003eCount: %{customdata[0]} \\u002f %{customdata[1]}\\u003cextra\\u003e\\u003c\\u002fextra\\u003e\",\"legendgroup\":\"Almost Harmful\",\"marker\":{\"color\":\"#ffff33\"},\"name\":\"Almost Harmful\",\"text\":[\"\",\"\",\"\",\"\",\"\"],\"textposition\":\"inside\",\"width\":0.34,\"x\":[-0.18,0.8200000000000001,1.82,2.82,3.82],\"y\":[0.0,0.1,0.2,0.7,0.6],\"type\":\"bar\"},{\"cliponaxis\":false,\"customdata\":[[205.0,1100.0,-24.0],[748.0,1100.0,-18.0],[916.0,1100.0,-12.0],[868.0,1100.0,-6.0],[3518.0,4400.0,0.0]],\"hovertemplate\":\"Magnitude: %{customdata[2]}\\u003cbr\\u003eNo Jailbreak \\u2014 Related\\u003cbr\\u003ePct: %{y:.1f}%\\u003cbr\\u003eCount: %{customdata[0]} \\u002f %{customdata[1]}\\u003cextra\\u003e\\u003c\\u002fextra\\u003e\",\"legendgroup\":\"Related\",\"marker\":{\"color\":\"#1f78b4\"},\"name\":\"Related\",\"text\":[\"18.6%\",\"68.0%\",\"83.3%\",\"78.9%\",\"80.0%\"],\"textposition\":\"inside\",\"width\":0.34,\"x\":[-0.18,0.8200000000000001,1.82,2.82,3.82],\"y\":[18.6,68.0,83.3,78.9,80.0],\"type\":\"bar\"},{\"cliponaxis\":false,\"customdata\":[[0.0,1100.0,-24.0],[22.0,1100.0,-18.0],[17.0,1100.0,-12.0],[24.0,1100.0,-6.0],[353.0,4400.0,0.0]],\"hovertemplate\":\"Magnitude: %{customdata[2]}\\u003cbr\\u003eNo Jailbreak \\u2014 Refusal\\u003cbr\\u003ePct: %{y:.1f}%\\u003cbr\\u003eCount: %{customdata[0]} \\u002f %{customdata[1]}\\u003cextra\\u003e\\u003c\\u002fextra\\u003e\",\"legendgroup\":\"Refusal\",\"marker\":{\"color\":\"#b2df8a\"},\"name\":\"Refusal\",\"text\":[\"\",\"\",\"\",\"\",\"8.0%\"],\"textposition\":\"inside\",\"width\":0.34,\"x\":[-0.18,0.8200000000000001,1.82,2.82,3.82],\"y\":[0.0,2.0,1.5,2.2,8.0],\"type\":\"bar\"},{\"cliponaxis\":false,\"customdata\":[[1.0,1100.0,-24.0],[13.0,1100.0,-18.0],[33.0,1100.0,-12.0],[48.0,1100.0,-6.0],[151.0,4400.0,0.0]],\"hovertemplate\":\"Magnitude: %{customdata[2]}\\u003cbr\\u003eNo Jailbreak \\u2014 Refusal & Justification\\u003cbr\\u003ePct: %{y:.1f}%\\u003cbr\\u003eCount: %{customdata[0]} \\u002f %{customdata[1]}\\u003cextra\\u003e\\u003c\\u002fextra\\u003e\",\"legendgroup\":\"Refusal & Justification\",\"marker\":{\"color\":\"#33a02c\"},\"name\":\"Refusal & Justification\",\"text\":[\"\",\"\",\"\",\"\",\"\"],\"textposition\":\"inside\",\"width\":0.34,\"x\":[-0.18,0.8200000000000001,1.82,2.82,3.82],\"y\":[0.1,1.2,3.0,4.4,3.4],\"type\":\"bar\"},{\"cliponaxis\":false,\"customdata\":[[66.0,1100.0,-24.0],[170.0,1100.0,-18.0],[88.0,1100.0,-12.0],[49.0,1100.0,-6.0],[152.0,4400.0,0.0]],\"hovertemplate\":\"Magnitude: %{customdata[2]}\\u003cbr\\u003eNo Jailbreak \\u2014 Out of Context\\u003cbr\\u003ePct: %{y:.1f}%\\u003cbr\\u003eCount: %{customdata[0]} \\u002f %{customdata[1]}\\u003cextra\\u003e\\u003c\\u002fextra\\u003e\",\"legendgroup\":\"Out of Context\",\"marker\":{\"color\":\"#6a3d9a\"},\"name\":\"Out of Context\",\"text\":[\"\",\"15.5%\",\"8.0%\",\"\",\"\"],\"textposition\":\"inside\",\"width\":0.34,\"x\":[-0.18,0.8200000000000001,1.82,2.82,3.82],\"y\":[6.0,15.5,8.0,4.5,3.5],\"type\":\"bar\"},{\"cliponaxis\":false,\"customdata\":[[828.0,1100.0,-24.0],[144.0,1100.0,-18.0],[14.0,1100.0,-12.0],[0.0,1100.0,-6.0],[0.0,4400.0,0.0]],\"hovertemplate\":\"Magnitude: %{customdata[2]}\\u003cbr\\u003eNo Jailbreak \\u2014 Nonsensical\\u003cbr\\u003ePct: %{y:.1f}%\\u003cbr\\u003eCount: %{customdata[0]} \\u002f %{customdata[1]}\\u003cextra\\u003e\\u003c\\u002fextra\\u003e\",\"legendgroup\":\"Nonsensical\",\"marker\":{\"color\":\"#fb9a99\"},\"name\":\"Nonsensical\",\"text\":[\"75.3%\",\"13.1%\",\"\",\"\",\"\"],\"textposition\":\"inside\",\"width\":0.34,\"x\":[-0.18,0.8200000000000001,1.82,2.82,3.82],\"y\":[75.3,13.1,1.3,0.0,0.0],\"type\":\"bar\"},{\"cliponaxis\":false,\"customdata\":[[0.0,1100.0,-24.0],[0.0,1100.0,-18.0],[0.0,1100.0,-12.0],[1.0,1100.0,-6.0],[0.0,4400.0,0.0]],\"hovertemplate\":\"Magnitude: %{customdata[2]}\\u003cbr\\u003eNo Jailbreak \\u2014 Other\\u003cbr\\u003ePct: %{y:.1f}%\\u003cbr\\u003eCount: %{customdata[0]} \\u002f %{customdata[1]}\\u003cextra\\u003e\\u003c\\u002fextra\\u003e\",\"legendgroup\":\"Other\",\"marker\":{\"color\":\"#999999\"},\"name\":\"Other\",\"text\":[\"\",\"\",\"\",\"\",\"\"],\"textposition\":\"inside\",\"width\":0.34,\"x\":[-0.18,0.8200000000000001,1.82,2.82,3.82],\"y\":[0.0,0.0,0.0,0.1,0.0],\"type\":\"bar\"},{\"cliponaxis\":false,\"customdata\":[[0.0,1100.0,-24.0],[6.0,1100.0,-18.0],[3.0,1100.0,-12.0],[9.0,1100.0,-6.0],[19.0,4400.0,0.0]],\"hovertemplate\":\"Magnitude: %{customdata[2]}\\u003cbr\\u003eJailbreak \\u2014 Almost Harmful\\u003cbr\\u003ePct: %{y:.1f}%\\u003cbr\\u003eCount: %{customdata[0]} \\u002f %{customdata[1]}\\u003cextra\\u003e\\u003c\\u002fextra\\u003e\",\"legendgroup\":\"Almost Harmful\",\"marker\":{\"color\":\"#ffff33\"},\"showlegend\":false,\"text\":[\"\",\"\",\"\",\"\",\"\"],\"textposition\":\"inside\",\"width\":0.34,\"x\":[0.18,1.18,2.18,3.18,4.18],\"y\":[0.0,0.5,0.3,0.8,0.4],\"type\":\"bar\"},{\"cliponaxis\":false,\"customdata\":[[358.0,1100.0,-24.0],[685.0,1100.0,-18.0],[420.0,1100.0,-12.0],[200.0,1100.0,-6.0],[526.0,4400.0,0.0]],\"hovertemplate\":\"Magnitude: %{customdata[2]}\\u003cbr\\u003eJailbreak \\u2014 Related\\u003cbr\\u003ePct: %{y:.1f}%\\u003cbr\\u003eCount: %{customdata[0]} \\u002f %{customdata[1]}\\u003cextra\\u003e\\u003c\\u002fextra\\u003e\",\"legendgroup\":\"Related\",\"marker\":{\"color\":\"#1f78b4\"},\"showlegend\":false,\"text\":[\"32.5%\",\"62.3%\",\"38.2%\",\"18.2%\",\"12.0%\"],\"textposition\":\"inside\",\"width\":0.34,\"x\":[0.18,1.18,2.18,3.18,4.18],\"y\":[32.5,62.3,38.2,18.2,12.0],\"type\":\"bar\"},{\"cliponaxis\":false,\"customdata\":[[3.0,1100.0,-24.0],[5.0,1100.0,-18.0],[4.0,1100.0,-12.0],[3.0,1100.0,-6.0],[964.0,4400.0,0.0]],\"hovertemplate\":\"Magnitude: %{customdata[2]}\\u003cbr\\u003eJailbreak \\u2014 Refusal\\u003cbr\\u003ePct: %{y:.1f}%\\u003cbr\\u003eCount: %{customdata[0]} \\u002f %{customdata[1]}\\u003cextra\\u003e\\u003c\\u002fextra\\u003e\",\"legendgroup\":\"Refusal\",\"marker\":{\"color\":\"#b2df8a\"},\"showlegend\":false,\"text\":[\"\",\"\",\"\",\"\",\"21.9%\"],\"textposition\":\"inside\",\"width\":0.34,\"x\":[0.18,1.18,2.18,3.18,4.18],\"y\":[0.3,0.5,0.4,0.3,21.9],\"type\":\"bar\"},{\"cliponaxis\":false,\"customdata\":[[0.0,1100.0,-24.0],[0.0,1100.0,-18.0],[1.0,1100.0,-12.0],[0.0,1100.0,-6.0],[18.0,4400.0,0.0]],\"hovertemplate\":\"Magnitude: %{customdata[2]}\\u003cbr\\u003eJailbreak \\u2014 Refusal & Justification\\u003cbr\\u003ePct: %{y:.1f}%\\u003cbr\\u003eCount: %{customdata[0]} \\u002f %{customdata[1]}\\u003cextra\\u003e\\u003c\\u002fextra\\u003e\",\"legendgroup\":\"Refusal & Justification\",\"marker\":{\"color\":\"#33a02c\"},\"showlegend\":false,\"text\":[\"\",\"\",\"\",\"\",\"\"],\"textposition\":\"inside\",\"width\":0.34,\"x\":[0.18,1.18,2.18,3.18,4.18],\"y\":[0.0,0.0,0.1,0.0,0.4],\"type\":\"bar\"},{\"cliponaxis\":false,\"customdata\":[[8.0,1100.0,-24.0],[10.0,1100.0,-18.0],[0.0,1100.0,-12.0],[0.0,1100.0,-6.0],[2.0,4400.0,0.0]],\"hovertemplate\":\"Magnitude: %{customdata[2]}\\u003cbr\\u003eJailbreak \\u2014 Out of Context\\u003cbr\\u003ePct: %{y:.1f}%\\u003cbr\\u003eCount: %{customdata[0]} \\u002f %{customdata[1]}\\u003cextra\\u003e\\u003c\\u002fextra\\u003e\",\"legendgroup\":\"Out of Context\",\"marker\":{\"color\":\"#6a3d9a\"},\"showlegend\":false,\"text\":[\"\",\"\",\"\",\"\",\"\"],\"textposition\":\"inside\",\"width\":0.34,\"x\":[0.18,1.18,2.18,3.18,4.18],\"y\":[0.7,0.9,0.0,0.0,0.0],\"type\":\"bar\"},{\"cliponaxis\":false,\"customdata\":[[698.0,1100.0,-24.0],[20.0,1100.0,-18.0],[1.0,1100.0,-12.0],[0.0,1100.0,-6.0],[0.0,4400.0,0.0]],\"hovertemplate\":\"Magnitude: %{customdata[2]}\\u003cbr\\u003eJailbreak \\u2014 Nonsensical\\u003cbr\\u003ePct: %{y:.1f}%\\u003cbr\\u003eCount: %{customdata[0]} \\u002f %{customdata[1]}\\u003cextra\\u003e\\u003c\\u002fextra\\u003e\",\"legendgroup\":\"Nonsensical\",\"marker\":{\"color\":\"#fb9a99\"},\"showlegend\":false,\"text\":[\"63.5%\",\"\",\"\",\"\",\"\"],\"textposition\":\"inside\",\"width\":0.34,\"x\":[0.18,1.18,2.18,3.18,4.18],\"y\":[63.5,1.8,0.1,0.0,0.0],\"type\":\"bar\"},{\"cliponaxis\":false,\"customdata\":[[0.0,1100.0,-24.0],[0.0,1100.0,-18.0],[0.0,1100.0,-12.0],[0.0,1100.0,-6.0],[0.0,4400.0,0.0]],\"hovertemplate\":\"Magnitude: %{customdata[2]}\\u003cbr\\u003eJailbreak \\u2014 Other\\u003cbr\\u003ePct: %{y:.1f}%\\u003cbr\\u003eCount: %{customdata[0]} \\u002f %{customdata[1]}\\u003cextra\\u003e\\u003c\\u002fextra\\u003e\",\"legendgroup\":\"Other\",\"marker\":{\"color\":\"#999999\"},\"showlegend\":false,\"text\":[\"\",\"\",\"\",\"\",\"\"],\"textposition\":\"inside\",\"width\":0.34,\"x\":[0.18,1.18,2.18,3.18,4.18],\"y\":[0.0,0.0,0.0,0.0,0.0],\"type\":\"bar\"}],                        {\"template\":{\"data\":{\"histogram2dcontour\":[{\"type\":\"histogram2dcontour\",\"colorbar\":{\"outlinewidth\":0,\"ticks\":\"\"},\"colorscale\":[[0.0,\"#0d0887\"],[0.1111111111111111,\"#46039f\"],[0.2222222222222222,\"#7201a8\"],[0.3333333333333333,\"#9c179e\"],[0.4444444444444444,\"#bd3786\"],[0.5555555555555556,\"#d8576b\"],[0.6666666666666666,\"#ed7953\"],[0.7777777777777778,\"#fb9f3a\"],[0.8888888888888888,\"#fdca26\"],[1.0,\"#f0f921\"]]}],\"choropleth\":[{\"type\":\"choropleth\",\"colorbar\":{\"outlinewidth\":0,\"ticks\":\"\"}}],\"histogram2d\":[{\"type\":\"histogram2d\",\"colorbar\":{\"outlinewidth\":0,\"ticks\":\"\"},\"colorscale\":[[0.0,\"#0d0887\"],[0.1111111111111111,\"#46039f\"],[0.2222222222222222,\"#7201a8\"],[0.3333333333333333,\"#9c179e\"],[0.4444444444444444,\"#bd3786\"],[0.5555555555555556,\"#d8576b\"],[0.6666666666666666,\"#ed7953\"],[0.7777777777777778,\"#fb9f3a\"],[0.8888888888888888,\"#fdca26\"],[1.0,\"#f0f921\"]]}],\"heatmap\":[{\"type\":\"heatmap\",\"colorbar\":{\"outlinewidth\":0,\"ticks\":\"\"},\"colorscale\":[[0.0,\"#0d0887\"],[0.1111111111111111,\"#46039f\"],[0.2222222222222222,\"#7201a8\"],[0.3333333333333333,\"#9c179e\"],[0.4444444444444444,\"#bd3786\"],[0.5555555555555556,\"#d8576b\"],[0.6666666666666666,\"#ed7953\"],[0.7777777777777778,\"#fb9f3a\"],[0.8888888888888888,\"#fdca26\"],[1.0,\"#f0f921\"]]}],\"heatmapgl\":[{\"type\":\"heatmapgl\",\"colorbar\":{\"outlinewidth\":0,\"ticks\":\"\"},\"colorscale\":[[0.0,\"#0d0887\"],[0.1111111111111111,\"#46039f\"],[0.2222222222222222,\"#7201a8\"],[0.3333333333333333,\"#9c179e\"],[0.4444444444444444,\"#bd3786\"],[0.5555555555555556,\"#d8576b\"],[0.6666666666666666,\"#ed7953\"],[0.7777777777777778,\"#fb9f3a\"],[0.8888888888888888,\"#fdca26\"],[1.0,\"#f0f921\"]]}],\"contourcarpet\":[{\"type\":\"contourcarpet\",\"colorbar\":{\"outlinewidth\":0,\"ticks\":\"\"}}],\"contour\":[{\"type\":\"contour\",\"colorbar\":{\"outlinewidth\":0,\"ticks\":\"\"},\"colorscale\":[[0.0,\"#0d0887\"],[0.1111111111111111,\"#46039f\"],[0.2222222222222222,\"#7201a8\"],[0.3333333333333333,\"#9c179e\"],[0.4444444444444444,\"#bd3786\"],[0.5555555555555556,\"#d8576b\"],[0.6666666666666666,\"#ed7953\"],[0.7777777777777778,\"#fb9f3a\"],[0.8888888888888888,\"#fdca26\"],[1.0,\"#f0f921\"]]}],\"surface\":[{\"type\":\"surface\",\"colorbar\":{\"outlinewidth\":0,\"ticks\":\"\"},\"colorscale\":[[0.0,\"#0d0887\"],[0.1111111111111111,\"#46039f\"],[0.2222222222222222,\"#7201a8\"],[0.3333333333333333,\"#9c179e\"],[0.4444444444444444,\"#bd3786\"],[0.5555555555555556,\"#d8576b\"],[0.6666666666666666,\"#ed7953\"],[0.7777777777777778,\"#fb9f3a\"],[0.8888888888888888,\"#fdca26\"],[1.0,\"#f0f921\"]]}],\"mesh3d\":[{\"type\":\"mesh3d\",\"colorbar\":{\"outlinewidth\":0,\"ticks\":\"\"}}],\"scatter\":[{\"fillpattern\":{\"fillmode\":\"overlay\",\"size\":10,\"solidity\":0.2},\"type\":\"scatter\"}],\"parcoords\":[{\"type\":\"parcoords\",\"line\":{\"colorbar\":{\"outlinewidth\":0,\"ticks\":\"\"}}}],\"scatterpolargl\":[{\"type\":\"scatterpolargl\",\"marker\":{\"colorbar\":{\"outlinewidth\":0,\"ticks\":\"\"}}}],\"bar\":[{\"error_x\":{\"color\":\"#2a3f5f\"},\"error_y\":{\"color\":\"#2a3f5f\"},\"marker\":{\"line\":{\"color\":\"#E5ECF6\",\"width\":0.5},\"pattern\":{\"fillmode\":\"overlay\",\"size\":10,\"solidity\":0.2}},\"type\":\"bar\"}],\"scattergeo\":[{\"type\":\"scattergeo\",\"marker\":{\"colorbar\":{\"outlinewidth\":0,\"ticks\":\"\"}}}],\"scatterpolar\":[{\"type\":\"scatterpolar\",\"marker\":{\"colorbar\":{\"outlinewidth\":0,\"ticks\":\"\"}}}],\"histogram\":[{\"marker\":{\"pattern\":{\"fillmode\":\"overlay\",\"size\":10,\"solidity\":0.2}},\"type\":\"histogram\"}],\"scattergl\":[{\"type\":\"scattergl\",\"marker\":{\"colorbar\":{\"outlinewidth\":0,\"ticks\":\"\"}}}],\"scatter3d\":[{\"type\":\"scatter3d\",\"line\":{\"colorbar\":{\"outlinewidth\":0,\"ticks\":\"\"}},\"marker\":{\"colorbar\":{\"outlinewidth\":0,\"ticks\":\"\"}}}],\"scattermapbox\":[{\"type\":\"scattermapbox\",\"marker\":{\"colorbar\":{\"outlinewidth\":0,\"ticks\":\"\"}}}],\"scatterternary\":[{\"type\":\"scatterternary\",\"marker\":{\"colorbar\":{\"outlinewidth\":0,\"ticks\":\"\"}}}],\"scattercarpet\":[{\"type\":\"scattercarpet\",\"marker\":{\"colorbar\":{\"outlinewidth\":0,\"ticks\":\"\"}}}],\"carpet\":[{\"aaxis\":{\"endlinecolor\":\"#2a3f5f\",\"gridcolor\":\"white\",\"linecolor\":\"white\",\"minorgridcolor\":\"white\",\"startlinecolor\":\"#2a3f5f\"},\"baxis\":{\"endlinecolor\":\"#2a3f5f\",\"gridcolor\":\"white\",\"linecolor\":\"white\",\"minorgridcolor\":\"white\",\"startlinecolor\":\"#2a3f5f\"},\"type\":\"carpet\"}],\"table\":[{\"cells\":{\"fill\":{\"color\":\"#EBF0F8\"},\"line\":{\"color\":\"white\"}},\"header\":{\"fill\":{\"color\":\"#C8D4E3\"},\"line\":{\"color\":\"white\"}},\"type\":\"table\"}],\"barpolar\":[{\"marker\":{\"line\":{\"color\":\"#E5ECF6\",\"width\":0.5},\"pattern\":{\"fillmode\":\"overlay\",\"size\":10,\"solidity\":0.2}},\"type\":\"barpolar\"}],\"pie\":[{\"automargin\":true,\"type\":\"pie\"}]},\"layout\":{\"autotypenumbers\":\"strict\",\"colorway\":[\"#636efa\",\"#EF553B\",\"#00cc96\",\"#ab63fa\",\"#FFA15A\",\"#19d3f3\",\"#FF6692\",\"#B6E880\",\"#FF97FF\",\"#FECB52\"],\"font\":{\"color\":\"#2a3f5f\"},\"hovermode\":\"closest\",\"hoverlabel\":{\"align\":\"left\"},\"paper_bgcolor\":\"white\",\"plot_bgcolor\":\"#E5ECF6\",\"polar\":{\"bgcolor\":\"#E5ECF6\",\"angularaxis\":{\"gridcolor\":\"white\",\"linecolor\":\"white\",\"ticks\":\"\"},\"radialaxis\":{\"gridcolor\":\"white\",\"linecolor\":\"white\",\"ticks\":\"\"}},\"ternary\":{\"bgcolor\":\"#E5ECF6\",\"aaxis\":{\"gridcolor\":\"white\",\"linecolor\":\"white\",\"ticks\":\"\"},\"baxis\":{\"gridcolor\":\"white\",\"linecolor\":\"white\",\"ticks\":\"\"},\"caxis\":{\"gridcolor\":\"white\",\"linecolor\":\"white\",\"ticks\":\"\"}},\"coloraxis\":{\"colorbar\":{\"outlinewidth\":0,\"ticks\":\"\"}},\"colorscale\":{\"sequential\":[[0.0,\"#0d0887\"],[0.1111111111111111,\"#46039f\"],[0.2222222222222222,\"#7201a8\"],[0.3333333333333333,\"#9c179e\"],[0.4444444444444444,\"#bd3786\"],[0.5555555555555556,\"#d8576b\"],[0.6666666666666666,\"#ed7953\"],[0.7777777777777778,\"#fb9f3a\"],[0.8888888888888888,\"#fdca26\"],[1.0,\"#f0f921\"]],\"sequentialminus\":[[0.0,\"#0d0887\"],[0.1111111111111111,\"#46039f\"],[0.2222222222222222,\"#7201a8\"],[0.3333333333333333,\"#9c179e\"],[0.4444444444444444,\"#bd3786\"],[0.5555555555555556,\"#d8576b\"],[0.6666666666666666,\"#ed7953\"],[0.7777777777777778,\"#fb9f3a\"],[0.8888888888888888,\"#fdca26\"],[1.0,\"#f0f921\"]],\"diverging\":[[0,\"#8e0152\"],[0.1,\"#c51b7d\"],[0.2,\"#de77ae\"],[0.3,\"#f1b6da\"],[0.4,\"#fde0ef\"],[0.5,\"#f7f7f7\"],[0.6,\"#e6f5d0\"],[0.7,\"#b8e186\"],[0.8,\"#7fbc41\"],[0.9,\"#4d9221\"],[1,\"#276419\"]]},\"xaxis\":{\"gridcolor\":\"white\",\"linecolor\":\"white\",\"ticks\":\"\",\"title\":{\"standoff\":15},\"zerolinecolor\":\"white\",\"automargin\":true,\"zerolinewidth\":2},\"yaxis\":{\"gridcolor\":\"white\",\"linecolor\":\"white\",\"ticks\":\"\",\"title\":{\"standoff\":15},\"zerolinecolor\":\"white\",\"automargin\":true,\"zerolinewidth\":2},\"scene\":{\"xaxis\":{\"backgroundcolor\":\"#E5ECF6\",\"gridcolor\":\"white\",\"linecolor\":\"white\",\"showbackground\":true,\"ticks\":\"\",\"zerolinecolor\":\"white\",\"gridwidth\":2},\"yaxis\":{\"backgroundcolor\":\"#E5ECF6\",\"gridcolor\":\"white\",\"linecolor\":\"white\",\"showbackground\":true,\"ticks\":\"\",\"zerolinecolor\":\"white\",\"gridwidth\":2},\"zaxis\":{\"backgroundcolor\":\"#E5ECF6\",\"gridcolor\":\"white\",\"linecolor\":\"white\",\"showbackground\":true,\"ticks\":\"\",\"zerolinecolor\":\"white\",\"gridwidth\":2}},\"shapedefaults\":{\"line\":{\"color\":\"#2a3f5f\"}},\"annotationdefaults\":{\"arrowcolor\":\"#2a3f5f\",\"arrowhead\":0,\"arrowwidth\":1},\"geo\":{\"bgcolor\":\"white\",\"landcolor\":\"#E5ECF6\",\"subunitcolor\":\"white\",\"showland\":true,\"showlakes\":true,\"lakecolor\":\"white\"},\"title\":{\"x\":0.05},\"mapbox\":{\"style\":\"light\"}}},\"annotations\":[{\"font\":{\"size\":13},\"showarrow\":false,\"text\":\"\\u003cb\\u003e100.0%\\u003c\\u002fb\\u003e\",\"x\":-0.18,\"y\":103.0},{\"font\":{\"size\":10},\"showarrow\":false,\"text\":\"\\u003cb\\u003eDefault\\u003c\\u002fb\\u003e\",\"x\":-0.18,\"y\":108.0},{\"font\":{\"size\":13},\"showarrow\":false,\"text\":\"\\u003cb\\u003e97.0%\\u003c\\u002fb\\u003e\",\"x\":0.18,\"y\":100.0},{\"font\":{\"size\":10},\"showarrow\":false,\"text\":\"\\u003cb\\u003eJailbreak\\u003c\\u002fb\\u003e\",\"x\":0.18,\"y\":105.0},{\"font\":{\"size\":13},\"showarrow\":false,\"text\":\"\\u003cb\\u003e99.9%\\u003c\\u002fb\\u003e\",\"x\":0.8200000000000001,\"y\":102.89999999999999},{\"font\":{\"size\":10},\"showarrow\":false,\"text\":\"\\u003cb\\u003eDefault\\u003c\\u002fb\\u003e\",\"x\":0.8200000000000001,\"y\":107.89999999999999},{\"font\":{\"size\":13},\"showarrow\":false,\"text\":\"\\u003cb\\u003e66.0%\\u003c\\u002fb\\u003e\",\"x\":1.18,\"y\":69.0},{\"font\":{\"size\":10},\"showarrow\":false,\"text\":\"\\u003cb\\u003eJailbreak\\u003c\\u002fb\\u003e\",\"x\":1.18,\"y\":74.0},{\"font\":{\"size\":13},\"showarrow\":false,\"text\":\"\\u003cb\\u003e97.3%\\u003c\\u002fb\\u003e\",\"x\":1.82,\"y\":100.3},{\"font\":{\"size\":10},\"showarrow\":false,\"text\":\"\\u003cb\\u003eDefault\\u003c\\u002fb\\u003e\",\"x\":1.82,\"y\":105.3},{\"font\":{\"size\":13},\"showarrow\":false,\"text\":\"\\u003cb\\u003e39.1%\\u003c\\u002fb\\u003e\",\"x\":2.18,\"y\":42.1},{\"font\":{\"size\":10},\"showarrow\":false,\"text\":\"\\u003cb\\u003eJailbreak\\u003c\\u002fb\\u003e\",\"x\":2.18,\"y\":47.1},{\"font\":{\"size\":13},\"showarrow\":false,\"text\":\"\\u003cb\\u003e90.8%\\u003c\\u002fb\\u003e\",\"x\":2.82,\"y\":93.80000000000001},{\"font\":{\"size\":10},\"showarrow\":false,\"text\":\"\\u003cb\\u003eDefault\\u003c\\u002fb\\u003e\",\"x\":2.82,\"y\":98.80000000000001},{\"font\":{\"size\":13},\"showarrow\":false,\"text\":\"\\u003cb\\u003e19.3%\\u003c\\u002fb\\u003e\",\"x\":3.18,\"y\":22.3},{\"font\":{\"size\":10},\"showarrow\":false,\"text\":\"\\u003cb\\u003eJailbreak\\u003c\\u002fb\\u003e\",\"x\":3.18,\"y\":27.3},{\"font\":{\"size\":13},\"showarrow\":false,\"text\":\"\\u003cb\\u003e95.5%\\u003c\\u002fb\\u003e\",\"x\":3.82,\"y\":98.5},{\"font\":{\"size\":10},\"showarrow\":false,\"text\":\"\\u003cb\\u003eDefault\\u003c\\u002fb\\u003e\",\"x\":3.82,\"y\":103.5},{\"font\":{\"size\":13},\"showarrow\":false,\"text\":\"\\u003cb\\u003e34.7%\\u003c\\u002fb\\u003e\",\"x\":4.18,\"y\":37.699999999999996},{\"font\":{\"size\":10},\"showarrow\":false,\"text\":\"\\u003cb\\u003eJailbreak\\u003c\\u002fb\\u003e\",\"x\":4.18,\"y\":42.699999999999996}],\"title\":{\"subtitle\":{\"text\":\"Llama 3.3 70B, Layer 40\"},\"text\":\"Other Responses with Persona-based Jailbreaks when Steered Towards the Assistant\"},\"margin\":{\"t\":140},\"xaxis\":{\"title\":{\"text\":\"Role-playing PC1 Steering Magnitude\"},\"tickmode\":\"array\",\"tickvals\":[0,1,2,3,4],\"ticktext\":[\"-24.0\",\"-18.0\",\"-12.0\",\"-6.0\",\"Unsteered\"],\"showgrid\":true,\"gridcolor\":\"lightgray\",\"range\":[-0.8,4.8]},\"yaxis\":{\"title\":{\"text\":\"Percentage of Responses\"},\"range\":[0,115],\"showgrid\":true,\"gridcolor\":\"lightgray\"},\"legend\":{\"orientation\":\"h\",\"y\":1.02,\"x\":1.0,\"xanchor\":\"right\",\"yanchor\":\"bottom\"},\"barmode\":\"stack\",\"width\":1000,\"height\":560,\"bargap\":0.25},                        {\"responsive\": true}                    ).then(function(){\n",
       "                            \n",
       "var gd = document.getElementById('15609f90-9b69-4bd0-8e69-7a430a35d2d1');\n",
       "var x = new MutationObserver(function (mutations, observer) {{\n",
       "        var display = window.getComputedStyle(gd).display;\n",
       "        if (!display || display === 'none') {{\n",
       "            console.log([gd, 'removed!']);\n",
       "            Plotly.purge(gd);\n",
       "            observer.disconnect();\n",
       "        }}\n",
       "}});\n",
       "\n",
       "// Listen for the removal of the full notebook cells\n",
       "var notebookContainer = gd.closest('#notebook-container');\n",
       "if (notebookContainer) {{\n",
       "    x.observe(notebookContainer, {childList: true});\n",
       "}}\n",
       "\n",
       "// Listen for the clearing of the current output cell\n",
       "var outputEl = gd.closest('.output');\n",
       "if (outputEl) {{\n",
       "    x.observe(outputEl, {childList: true});\n",
       "}}\n",
       "\n",
       "                        })                };                });            </script>        </div>"
      ]
     },
     "metadata": {},
     "output_type": "display_data"
    }
   ],
   "source": [
    "# order & positions\n",
    "centers = np.arange(len(magnitudes))\n",
    "dx = 0.18\n",
    "x_nojb = centers - dx\n",
    "x_jb   = centers + dx\n",
    "BAR_WIDTH = 0.34\n",
    "\n",
    "# Helper: pivot arrays (rows=magnitudes, cols=[No JB, JB]) for a given label\n",
    "def pivot_pct_other(df, label):\n",
    "    tbl = (df[df[\"score_label\"]==label]\n",
    "           .pivot_table(index=\"magnitude\", columns=\"jailbreak\",\n",
    "                        values=\"pct\", aggfunc=\"first\", fill_value=0.0)\n",
    "           .reindex(index=magnitudes, columns=[\"No Jailbreak\",\"Jailbreak\"], fill_value=0.0))\n",
    "    return tbl.values\n",
    "\n",
    "def pivot_counts_other(df, label, which=\"count\"):\n",
    "    tbl = (df[df[\"score_label\"]==label]\n",
    "           .pivot_table(index=\"magnitude\", columns=\"jailbreak\",\n",
    "                        values=which, aggfunc=\"first\", fill_value=0)\n",
    "           .reindex(index=magnitudes, columns=[\"No Jailbreak\",\"Jailbreak\"], fill_value=0))\n",
    "    return tbl.values\n",
    "\n",
    "# Build arrays for every \"other\" label\n",
    "Y_map, C_map, T_map = {}, {}, {}\n",
    "for lab in OTHER_LABELS:\n",
    "    Y_map[lab] = pivot_pct_other(tidy_other, lab)\n",
    "    C_map[lab] = pivot_counts_other(tidy_other, lab, \"count\")\n",
    "    T_map[lab] = pivot_counts_other(tidy_other, lab, \"total\")\n",
    "\n",
    "fig_other = go.Figure()\n",
    "\n",
    "# Left bar (No JB): stack all OTHER_LABELS\n",
    "for lab in OTHER_LABELS:\n",
    "    Y = Y_map[lab]\n",
    "    C = C_map[lab]\n",
    "    T = T_map[lab]\n",
    "    fig_other.add_trace(go.Bar(\n",
    "        x=x_nojb, y=Y[:, 0],\n",
    "        name=other_label_map[lab],\n",
    "        legendgroup=other_label_map[lab],\n",
    "        marker_color=other_colors[lab],\n",
    "        width=BAR_WIDTH,\n",
    "        text=[f\"{v:.1f}%\" if v >= 7.0 else \"\" for v in Y[:, 0]],\n",
    "        textposition=\"inside\",\n",
    "        cliponaxis=False,\n",
    "        hovertemplate=(\"Magnitude: %{customdata[2]}<br>\"\n",
    "                       \"No Jailbreak — \"+other_label_map[lab]+\"<br>\"\n",
    "                       \"Pct: %{y:.1f}%<br>\"\n",
    "                       \"Count: %{customdata[0]} / %{customdata[1]}<extra></extra>\"),\n",
    "        customdata=np.column_stack([C[:, 0], T[:, 0], magnitudes]),\n",
    "    ))\n",
    "\n",
    "# Right bar (JB): stack all OTHER_LABELS (hide duplicate legend items)\n",
    "for lab in OTHER_LABELS:\n",
    "    Y = Y_map[lab]\n",
    "    C = C_map[lab]\n",
    "    T = T_map[lab]\n",
    "    fig_other.add_trace(go.Bar(\n",
    "        x=x_jb, y=Y[:, 1],\n",
    "        name=None, showlegend=False, legendgroup=other_label_map[lab],\n",
    "        marker_color=other_colors[lab],\n",
    "        width=BAR_WIDTH,\n",
    "        text=[f\"{v:.1f}%\" if v >= 7.0 else \"\" for v in Y[:, 1]],\n",
    "        textposition=\"inside\",\n",
    "        cliponaxis=False,\n",
    "        hovertemplate=(\"Magnitude: %{customdata[2]}<br>\"\n",
    "                       \"Jailbreak — \"+other_label_map[lab]+\"<br>\"\n",
    "                       \"Pct: %{y:.1f}%<br>\"\n",
    "                       \"Count: %{customdata[0]} / %{customdata[1]}<extra></extra>\"),\n",
    "        customdata=np.column_stack([C[:, 1], T[:, 1], magnitudes]),\n",
    "    ))\n",
    "\n",
    "# Annotations with sum percentages above each stacked pair\n",
    "tops_nojb = sum(Y_map[lab][:, 0] for lab in OTHER_LABELS)\n",
    "tops_jb   = sum(Y_map[lab][:, 1] for lab in OTHER_LABELS)\n",
    "for i in range(len(magnitudes)):\n",
    "    if tops_nojb[i] > 0:\n",
    "        fig_other.add_annotation(x=x_nojb[i], y=tops_nojb[i] + 3,\n",
    "                                 text=f\"<b>{tops_nojb[i]:.1f}%</b>\", showarrow=False, font=dict(size=13))\n",
    "        fig_other.add_annotation(x=x_nojb[i], y=tops_nojb[i] + 8,\n",
    "                                 text=\"<b>Default</b>\", showarrow=False, font=dict(size=10))\n",
    "    if tops_jb[i] > 0:\n",
    "        fig_other.add_annotation(x=x_jb[i], y=tops_jb[i] + 3,\n",
    "                                 text=f\"<b>{tops_jb[i]:.1f}%</b>\", showarrow=False, font=dict(size=13))\n",
    "        fig_other.add_annotation(x=x_jb[i], y=tops_jb[i] + 8,\n",
    "                                 text=\"<b>Jailbreak</b>\", showarrow=False, font=dict(size=10))\n",
    "\n",
    "fig_other.update_layout(\n",
    "    barmode=\"stack\",\n",
    "    width=1000, height=560,\n",
    "    title={\n",
    "        \"text\": \"Other Responses with Persona-based Jailbreaks when Steered Towards the Assistant\",\n",
    "        \"subtitle\": {\n",
    "            \"text\": subtitle,\n",
    "        }\n",
    "    },\n",
    "    margin=dict(t=140),\n",
    "    xaxis=dict(\n",
    "        title=\"Role-playing PC1 Steering Magnitude\",\n",
    "        tickmode=\"array\",\n",
    "        tickvals=centers,\n",
    "        ticktext=[str(m) for m in magnitudes[:-1]] + [\"Unsteered\"],\n",
    "        showgrid=True, gridcolor=\"lightgray\",\n",
    "        range=[centers.min()-0.8, centers.max()+0.8],\n",
    "    ),\n",
    "    yaxis=dict(\n",
    "        title=\"Percentage of Responses\",\n",
    "        range=[0, 115],\n",
    "        showgrid=True, gridcolor=\"lightgray\"\n",
    "    ),\n",
    "    legend=dict(\n",
    "        orientation=\"h\", y=1.02, x=1.0, xanchor=\"right\", yanchor=\"bottom\"\n",
    "    ),\n",
    "    bargap=0.25,\n",
    ")\n",
    "\n",
    "fig_other.show()\n",
    "fig_other.write_html(f\"{out_dir}/jailbreak_other.html\")"
   ]
  },
  {
   "cell_type": "code",
   "execution_count": null,
   "id": "b6c119b0",
   "metadata": {},
   "outputs": [],
   "source": []
  }
 ],
 "metadata": {
  "kernelspec": {
   "display_name": ".venv",
   "language": "python",
   "name": "python3"
  },
  "language_info": {
   "codemirror_mode": {
    "name": "ipython",
    "version": 3
   },
   "file_extension": ".py",
   "mimetype": "text/x-python",
   "name": "python",
   "nbconvert_exporter": "python",
   "pygments_lexer": "ipython3",
   "version": "3.13.7"
  }
 },
 "nbformat": 4,
 "nbformat_minor": 5
}
