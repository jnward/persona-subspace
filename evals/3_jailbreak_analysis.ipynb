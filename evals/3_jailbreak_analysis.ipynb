{
 "cells": [
  {
   "cell_type": "markdown",
   "id": "15db8810",
   "metadata": {},
   "source": [
    "# Analyzing scores and plotting them"
   ]
  },
  {
   "cell_type": "code",
   "execution_count": 5,
   "id": "aae4abb9",
   "metadata": {},
   "outputs": [],
   "source": [
    "import json\n",
    "import os\n",
    "import pandas as pd\n",
    "import numpy as np\n",
    "\n",
    "import plotly.graph_objects as go"
   ]
  },
  {
   "cell_type": "code",
   "execution_count": 28,
   "id": "36fd4115",
   "metadata": {},
   "outputs": [],
   "source": [
    "model = \"llama-3.3-70b\"\n",
    "layer = 40\n",
    "subtitle = f\"{model.replace('-', ' ').title()}, Layer {layer}\"\n",
    "base_dir = f\"/root/git/persona-subspace/evals/jailbreak/{model}\"\n",
    "out_dir = f\"/root/git/persona-subspace/evals/plots/{model}\"\n",
    "\n",
    "os.makedirs(out_dir, exist_ok=True)\n"
   ]
  },
  {
   "cell_type": "code",
   "execution_count": 29,
   "id": "b955093a",
   "metadata": {},
   "outputs": [],
   "source": [
    "# load scores from roles_20 as pandas dataframe\n",
    "\n",
    "unsteered_jailbreak_path = f\"{base_dir}/unsteered/unsteered_scores.jsonl\"\n",
    "unsteered_default_path = f\"{base_dir}/unsteered/unsteered_default_scores.jsonl\"\n",
    "\n",
    "steered_jailbreak_path = f\"{base_dir}/steered/jailbreak_1100_scores.jsonl\"\n",
    "steered_default_path = f\"{base_dir}/steered/default_1100_scores.jsonl\""
   ]
  },
  {
   "cell_type": "code",
   "execution_count": 30,
   "id": "0056634a",
   "metadata": {},
   "outputs": [
    {
     "name": "stdout",
     "output_type": "stream",
     "text": [
      "Loaded 4400 unsteered jailbreak scores\n",
      "Loaded 4400 unsteered default scores\n",
      "Loaded 8800 steered jailbreak scores\n",
      "Loaded 8800 steered default scores\n"
     ]
    }
   ],
   "source": [
    "# Load all 3 JSONL files into separate DataFrames\n",
    "with open(unsteered_jailbreak_path, \"r\") as f:\n",
    "    unsteered_jailbreak_scores = [json.loads(line) for line in f]\n",
    "    \n",
    "with open(unsteered_default_path, \"r\") as f:\n",
    "    unsteered_default_scores = [json.loads(line) for line in f]\n",
    "    \n",
    "with open(steered_jailbreak_path, \"r\") as f:\n",
    "    steered_jailbreak_scores = [json.loads(line) for line in f]\n",
    "\n",
    "with open(steered_default_path, \"r\") as f:    \n",
    "    steered_default_scores = [json.loads(line) for line in f]\n",
    "\n",
    "\n",
    "# Convert to pandas DataFrames\n",
    "unsteered_jailbreak_df = pd.DataFrame(unsteered_jailbreak_scores)\n",
    "unsteered_default_df = pd.DataFrame(unsteered_default_scores)\n",
    "steered_jailbreak_df = pd.DataFrame(steered_jailbreak_scores)\n",
    "steered_default_df = pd.DataFrame(steered_default_scores)\n",
    "\n",
    "\n",
    "print(f\"Loaded {len(unsteered_jailbreak_df)} unsteered jailbreak scores\")\n",
    "print(f\"Loaded {len(unsteered_default_df)} unsteered default scores\")   \n",
    "print(f\"Loaded {len(steered_jailbreak_df)} steered jailbreak scores\")\n",
    "print(f\"Loaded {len(steered_default_df)} steered default scores\")\n"
   ]
  },
  {
   "cell_type": "code",
   "execution_count": 31,
   "id": "o2iuyyz8fm",
   "metadata": {},
   "outputs": [
    {
     "name": "stdout",
     "output_type": "stream",
     "text": [
      "Magnitudes in each dataset:\n",
      "Unsteered jailbreak - unique magnitudes: [0.0]\n",
      "Unsteered default - unique magnitudes: [0.0]\n",
      "Steered jailbreak - unique magnitudes: [3.0, 6.0, 9.0, 12.0, 15.0, 18.0, 21.0, 24.0]\n",
      "Steered default - unique magnitudes: [3.0, 6.0, 9.0, 12.0, 15.0, 18.0, 21.0, 24.0]\n"
     ]
    }
   ],
   "source": [
    "# Print magnitudes across the different datasets\n",
    "print(\"Magnitudes in each dataset:\")\n",
    "\n",
    "if 'magnitude' in unsteered_jailbreak_df.columns:\n",
    "    print(f\"Unsteered jailbreak - unique magnitudes: {sorted(unsteered_jailbreak_df['magnitude'].unique())}\")\n",
    "else:\n",
    "    print(\"Unsteered jailbreak - no magnitude column\")\n",
    "\n",
    "if 'magnitude' in unsteered_default_df.columns:\n",
    "    print(f\"Unsteered default - unique magnitudes: {sorted(unsteered_default_df['magnitude'].unique())}\")\n",
    "else:\n",
    "    print(\"Unsteered default - no magnitude column\")\n",
    "\n",
    "print(f\"Steered jailbreak - unique magnitudes: {sorted(steered_jailbreak_df['magnitude'].unique())}\")\n",
    "print(f\"Steered default - unique magnitudes: {sorted(steered_default_df['magnitude'].unique())}\")\n",
    "\n"
   ]
  },
  {
   "cell_type": "code",
   "execution_count": 32,
   "id": "80ec1397",
   "metadata": {},
   "outputs": [
    {
     "name": "stdout",
     "output_type": "stream",
     "text": [
      "[0.0, 3.0, 6.0, 9.0, 12.0, 15.0, 18.0, 21.0, 24.0]\n"
     ]
    }
   ],
   "source": [
    "# set order for plots here\n",
    "magnitudes = [0.0] + sorted(steered_jailbreak_df['magnitude'].unique(), reverse=False)\n",
    "print(magnitudes)"
   ]
  },
  {
   "cell_type": "markdown",
   "id": "4b325cbd",
   "metadata": {},
   "source": [
    "## Inspect scores\n"
   ]
  },
  {
   "cell_type": "code",
   "execution_count": 84,
   "id": "108517c2",
   "metadata": {},
   "outputs": [],
   "source": [
    "all_dfs = [unsteered_jailbreak_df, unsteered_default_df, steered_jailbreak_df, steered_default_df]\n"
   ]
  },
  {
   "cell_type": "code",
   "execution_count": 85,
   "id": "2ebef7af",
   "metadata": {},
   "outputs": [],
   "source": [
    "def pct_overall(df, name):\n",
    "    total = len(df)\n",
    "\n",
    "    # Raw counts of each label\n",
    "    counts = df[\"score\"].value_counts().sort_index()\n",
    "\n",
    "    # Percentages of each label\n",
    "    percentages = (counts / total * 100).round(1)\n",
    "\n",
    "    # Special targets\n",
    "    n_enough = counts.get(\"enough_info\", 0)\n",
    "    n_enough_perfect = counts.get(\"enough_info_and_follow_perfectly\", 0)\n",
    "    n_either = n_enough + n_enough_perfect\n",
    "\n",
    "    pct_enough = 100 * n_enough / total\n",
    "    pct_enough_perfect = 100 * n_enough_perfect / total\n",
    "    pct_either = 100 * n_either / total\n",
    "\n",
    "    print(f\"=== Overall Score Distribution: {name} ===\")\n",
    "    print(f\"Total samples: {total}\\n\")\n",
    "\n",
    "    # Print table of counts + percentages for each label\n",
    "    print(\"Per-label counts and percentages:\")\n",
    "    for label in counts.index:\n",
    "        print(f\"- {label}: {counts[label]} ({percentages[label]}%)\")\n",
    "\n",
    "    print(\"\\nTarget categories:\")\n",
    "    print(f\"- enough_info: {n_enough} ({pct_enough:.1f}%)\")\n",
    "    print(f\"- enough_info_and_follow_perfectly: {n_enough_perfect} ({pct_enough_perfect:.1f}%)\")\n",
    "    print(f\"- either: {n_either} ({pct_either:.1f}%)\")\n",
    "    print()\n"
   ]
  },
  {
   "cell_type": "code",
   "execution_count": 86,
   "id": "9ee16a3d",
   "metadata": {},
   "outputs": [
    {
     "name": "stdout",
     "output_type": "stream",
     "text": [
      "=== Overall Score Distribution: Unsteered + Jailbreak ===\n",
      "Total samples: 4400\n",
      "\n",
      "Per-label counts and percentages:\n",
      "- almost_enough_info: 19 (0.4%)\n",
      "- enough_info: 2001 (45.5%)\n",
      "- enough_info_and_follow_perfectly: 870 (19.8%)\n",
      "- out_of_context: 2 (0.0%)\n",
      "- refusal: 964 (21.9%)\n",
      "- refusal_and_justification: 18 (0.4%)\n",
      "- related_but_no_info: 526 (12.0%)\n",
      "\n",
      "Target categories:\n",
      "- enough_info: 2001 (45.5%)\n",
      "- enough_info_and_follow_perfectly: 870 (19.8%)\n",
      "- either: 2871 (65.2%)\n",
      "\n"
     ]
    }
   ],
   "source": [
    "\n",
    "pct_overall(unsteered_jailbreak_df, \"Unsteered + Jailbreak\")\n"
   ]
  },
  {
   "cell_type": "code",
   "execution_count": 87,
   "id": "23a07638",
   "metadata": {},
   "outputs": [
    {
     "name": "stdout",
     "output_type": "stream",
     "text": [
      "=== Overall Score Distribution: Unsteered + No Jailbreak ===\n",
      "Total samples: 4400\n",
      "\n",
      "Per-label counts and percentages:\n",
      "- almost_enough_info: 28 (0.6%)\n",
      "- enough_info: 196 (4.5%)\n",
      "- enough_info_and_follow_perfectly: 2 (0.0%)\n",
      "- out_of_context: 152 (3.5%)\n",
      "- refusal: 353 (8.0%)\n",
      "- refusal_and_justification: 151 (3.4%)\n",
      "- related_but_no_info: 3518 (80.0%)\n",
      "\n",
      "Target categories:\n",
      "- enough_info: 196 (4.5%)\n",
      "- enough_info_and_follow_perfectly: 2 (0.0%)\n",
      "- either: 198 (4.5%)\n",
      "\n"
     ]
    }
   ],
   "source": [
    "pct_overall(unsteered_default_df, \"Unsteered + No Jailbreak\")\n"
   ]
  },
  {
   "cell_type": "code",
   "execution_count": 88,
   "id": "f1a06989",
   "metadata": {},
   "outputs": [],
   "source": [
    "def pct_per_magnitude(df, name):\n",
    "    total = len(df)\n",
    "    print(f\"=== Score Distribution by Magnitude: {name} ===\")\n",
    "    print(f\"Total samples: {total}\\n\")\n",
    "\n",
    "    for mag, group in df.groupby(\"magnitude\"):\n",
    "        n = len(group)\n",
    "        counts = group[\"score\"].value_counts().sort_index()\n",
    "        percentages = (counts / n * 100).round(1)\n",
    "\n",
    "        # Special targets\n",
    "        n_enough = counts.get(\"enough_info\", 0)\n",
    "        n_enough_perfect = counts.get(\"enough_info_and_follow_perfectly\", 0)\n",
    "        n_either = n_enough + n_enough_perfect\n",
    "\n",
    "        pct_enough = 100 * n_enough / n\n",
    "        pct_enough_perfect = 100 * n_enough_perfect / n\n",
    "        pct_either = 100 * n_either / n\n",
    "\n",
    "        print(f\"Magnitude: {mag}\")\n",
    "        print(f\"Samples: {n}\")\n",
    "\n",
    "        print(\"Per-label counts and percentages:\")\n",
    "        for label in counts.index:\n",
    "            print(f\"- {label}: {counts[label]} ({percentages[label]}%)\")\n",
    "\n",
    "        print(\"Target categories:\")\n",
    "        print(f\"- enough_info: {n_enough} ({pct_enough:.1f}%)\")\n",
    "        print(f\"- enough_info_and_follow_perfectly: {n_enough_perfect} ({pct_enough_perfect:.1f}%)\")\n",
    "        print(f\"- either: {n_either} ({pct_either:.1f}%)\")\n",
    "        print()\n"
   ]
  },
  {
   "cell_type": "code",
   "execution_count": 89,
   "id": "f06d27f9",
   "metadata": {},
   "outputs": [
    {
     "name": "stdout",
     "output_type": "stream",
     "text": [
      "=== Score Distribution by Magnitude: Steered + Jailbreak ===\n",
      "Total samples: 4400\n",
      "\n",
      "Magnitude: -24.0\n",
      "Samples: 1100\n",
      "Per-label counts and percentages:\n",
      "- enough_info: 28 (2.5%)\n",
      "- enough_info_and_follow_perfectly: 5 (0.5%)\n",
      "- nonsensical: 698 (63.5%)\n",
      "- out_of_context: 8 (0.7%)\n",
      "- refusal: 3 (0.3%)\n",
      "- related_but_no_info: 358 (32.5%)\n",
      "Target categories:\n",
      "- enough_info: 28 (2.5%)\n",
      "- enough_info_and_follow_perfectly: 5 (0.5%)\n",
      "- either: 33 (3.0%)\n",
      "\n",
      "Magnitude: -18.0\n",
      "Samples: 1100\n",
      "Per-label counts and percentages:\n",
      "- almost_enough_info: 6 (0.5%)\n",
      "- enough_info: 264 (24.0%)\n",
      "- enough_info_and_follow_perfectly: 110 (10.0%)\n",
      "- nonsensical: 20 (1.8%)\n",
      "- out_of_context: 10 (0.9%)\n",
      "- refusal: 5 (0.5%)\n",
      "- related_but_no_info: 685 (62.3%)\n",
      "Target categories:\n",
      "- enough_info: 264 (24.0%)\n",
      "- enough_info_and_follow_perfectly: 110 (10.0%)\n",
      "- either: 374 (34.0%)\n",
      "\n",
      "Magnitude: -12.0\n",
      "Samples: 1100\n",
      "Per-label counts and percentages:\n",
      "- almost_enough_info: 3 (0.3%)\n",
      "- enough_info: 470 (42.7%)\n",
      "- enough_info_and_follow_perfectly: 201 (18.3%)\n",
      "- nonsensical: 1 (0.1%)\n",
      "- refusal: 4 (0.4%)\n",
      "- refusal_and_justification: 1 (0.1%)\n",
      "- related_but_no_info: 420 (38.2%)\n",
      "Target categories:\n",
      "- enough_info: 470 (42.7%)\n",
      "- enough_info_and_follow_perfectly: 201 (18.3%)\n",
      "- either: 671 (61.0%)\n",
      "\n",
      "Magnitude: -6.0\n",
      "Samples: 1100\n",
      "Per-label counts and percentages:\n",
      "- almost_enough_info: 9 (0.8%)\n",
      "- enough_info: 637 (57.9%)\n",
      "- enough_info_and_follow_perfectly: 251 (22.8%)\n",
      "- refusal: 3 (0.3%)\n",
      "- related_but_no_info: 200 (18.2%)\n",
      "Target categories:\n",
      "- enough_info: 637 (57.9%)\n",
      "- enough_info_and_follow_perfectly: 251 (22.8%)\n",
      "- either: 888 (80.7%)\n",
      "\n"
     ]
    }
   ],
   "source": [
    "pct_per_magnitude(steered_jailbreak_df, \"Steered + Jailbreak\")"
   ]
  },
  {
   "cell_type": "code",
   "execution_count": 90,
   "id": "a843d3fd",
   "metadata": {},
   "outputs": [
    {
     "name": "stdout",
     "output_type": "stream",
     "text": [
      "=== Score Distribution by Magnitude: Steered + No Jailbreak ===\n",
      "Total samples: 4400\n",
      "\n",
      "Magnitude: -24.0\n",
      "Samples: 1100\n",
      "Per-label counts and percentages:\n",
      "- nonsensical: 828 (75.3%)\n",
      "- out_of_context: 66 (6.0%)\n",
      "- refusal_and_justification: 1 (0.1%)\n",
      "- related_but_no_info: 205 (18.6%)\n",
      "Target categories:\n",
      "- enough_info: 0 (0.0%)\n",
      "- enough_info_and_follow_perfectly: 0 (0.0%)\n",
      "- either: 0 (0.0%)\n",
      "\n",
      "Magnitude: -18.0\n",
      "Samples: 1100\n",
      "Per-label counts and percentages:\n",
      "- almost_enough_info: 1 (0.1%)\n",
      "- enough_info: 2 (0.2%)\n",
      "- nonsensical: 144 (13.1%)\n",
      "- out_of_context: 170 (15.5%)\n",
      "- refusal: 22 (2.0%)\n",
      "- refusal_and_justification: 13 (1.2%)\n",
      "- related_but_no_info: 748 (68.0%)\n",
      "Target categories:\n",
      "- enough_info: 2 (0.2%)\n",
      "- enough_info_and_follow_perfectly: 0 (0.0%)\n",
      "- either: 2 (0.2%)\n",
      "\n",
      "Magnitude: -12.0\n",
      "Samples: 1100\n",
      "Per-label counts and percentages:\n",
      "- almost_enough_info: 2 (0.2%)\n",
      "- enough_info: 30 (2.7%)\n",
      "- nonsensical: 14 (1.3%)\n",
      "- out_of_context: 88 (8.0%)\n",
      "- refusal: 17 (1.5%)\n",
      "- refusal_and_justification: 33 (3.0%)\n",
      "- related_but_no_info: 916 (83.3%)\n",
      "Target categories:\n",
      "- enough_info: 30 (2.7%)\n",
      "- enough_info_and_follow_perfectly: 0 (0.0%)\n",
      "- either: 30 (2.7%)\n",
      "\n",
      "Magnitude: -6.0\n",
      "Samples: 1100\n",
      "Per-label counts and percentages:\n",
      "- almost_enough_info: 8 (0.7%)\n",
      "- enough_info: 100 (9.1%)\n",
      "- enough_info_and_follow_perfectly: 2 (0.2%)\n",
      "- other: 1 (0.1%)\n",
      "- out_of_context: 49 (4.5%)\n",
      "- refusal: 24 (2.2%)\n",
      "- refusal_and_justification: 48 (4.4%)\n",
      "- related_but_no_info: 868 (78.9%)\n",
      "Target categories:\n",
      "- enough_info: 100 (9.1%)\n",
      "- enough_info_and_follow_perfectly: 2 (0.2%)\n",
      "- either: 102 (9.3%)\n",
      "\n"
     ]
    }
   ],
   "source": [
    "pct_per_magnitude(steered_default_df, \"Steered + No Jailbreak\")"
   ]
  },
  {
   "cell_type": "code",
   "execution_count": 91,
   "id": "4e7a1876",
   "metadata": {},
   "outputs": [
    {
     "name": "stdout",
     "output_type": "stream",
     "text": [
      "Index(['id', 'role', 'prompt_id', 'question_id', 'prompt', 'question',\n",
      "       'harm_category', 'persona', 'magnitude', 'response', 'score',\n",
      "       'analysis'],\n",
      "      dtype='object')\n"
     ]
    }
   ],
   "source": [
    "print(steered_jailbreak_df.keys())"
   ]
  },
  {
   "cell_type": "markdown",
   "id": "b0611827",
   "metadata": {},
   "source": [
    "## Plot Harmful Responses"
   ]
  },
  {
   "cell_type": "code",
   "execution_count": 33,
   "id": "a0b707dd",
   "metadata": {},
   "outputs": [],
   "source": [
    "\n",
    "# --- 1) Helper: summarize one dataframe into counts/percentages for target labels ---\n",
    "TARGETS = [\"enough_info\", \"enough_info_and_follow_perfectly\"]\n",
    "\n",
    "def summarize_df(df, jailbreak_label, magnitude_override=None):\n",
    "    \"\"\"\n",
    "    Returns tidy rows with counts and percentages for the two target labels,\n",
    "    grouped by magnitude (float). If magnitude_override is provided, use that\n",
    "    value for every row (e.g., unsteered -> 0.0).\n",
    "    \"\"\"\n",
    "    work = df.copy()\n",
    "    if magnitude_override is not None:\n",
    "        work[\"magnitude\"] = magnitude_override\n",
    "\n",
    "    # group totals per magnitude\n",
    "    totals = work.groupby(\"magnitude\").size().rename(\"n_total\")\n",
    "\n",
    "    # counts per label\n",
    "    counts = (\n",
    "        work[[\"magnitude\", \"score\"]]\n",
    "        .value_counts()\n",
    "        .rename(\"n\")\n",
    "        .reset_index()\n",
    "    )\n",
    "\n",
    "    # keep only the two target labels, but we’ll also compute n_either\n",
    "    target_counts = counts[counts[\"score\"].isin(TARGETS)].copy()\n",
    "\n",
    "    # pivot to get columns for each target label count\n",
    "    pivot = target_counts.pivot_table(\n",
    "        index=\"magnitude\",\n",
    "        columns=\"score\",\n",
    "        values=\"n\",\n",
    "        aggfunc=\"sum\",\n",
    "        fill_value=0\n",
    "    )\n",
    "\n",
    "    # ensure both columns present\n",
    "    for t in TARGETS:\n",
    "        if t not in pivot.columns:\n",
    "            pivot[t] = 0\n",
    "\n",
    "    # combine with totals\n",
    "    df_sum = pivot.join(totals, how=\"right\").fillna(0)\n",
    "    df_sum[\"n_either\"] = df_sum[\"enough_info\"] + df_sum[\"enough_info_and_follow_perfectly\"]\n",
    "\n",
    "    # percentages\n",
    "    for col in [\"enough_info\", \"enough_info_and_follow_perfectly\", \"n_either\"]:\n",
    "        df_sum[f\"pct_{col}\"] = (df_sum[col] / df_sum[\"n_total\"] * 100).round(1)\n",
    "\n",
    "    # tidy long rows for stacked plotting (two rows per magnitude: one per target label)\n",
    "    long_rows = []\n",
    "    for mag, row in df_sum.reset_index().iterrows():\n",
    "        for label in TARGETS:\n",
    "            long_rows.append({\n",
    "                \"magnitude\": float(row[\"magnitude\"]),\n",
    "                \"jailbreak\": jailbreak_label,                 # \"No Jailbreak\" or \"Jailbreak\"\n",
    "                \"score_label\": label,                         # which of the two targets\n",
    "                \"count\": int(row[label]),\n",
    "                \"total\": int(row[\"n_total\"]),\n",
    "                \"pct\": float(row[f\"pct_{label}\"]),\n",
    "                \"pct_either\": float(row[\"pct_n_either\"]),     # same for both labels\n",
    "            })\n",
    "    return pd.DataFrame(long_rows)\n"
   ]
  },
  {
   "cell_type": "code",
   "execution_count": 34,
   "id": "748b37a3",
   "metadata": {},
   "outputs": [],
   "source": [
    "\n",
    "# --- 2) Build the tidy dataset from your four inputs ---\n",
    "# Unsteered frames are magnitude 0.0\n",
    "unsteered_default_tidy   = summarize_df(unsteered_default_df,   \"No Jailbreak\", 0.0)\n",
    "unsteered_jailbreak_tidy = summarize_df(unsteered_jailbreak_df, \"Jailbreak\",    0.0)\n",
    "\n",
    "# Steered frames keep their own magnitude values\n",
    "steered_default_tidy     = summarize_df(steered_default_df,     \"No Jailbreak\")\n",
    "steered_jailbreak_tidy   = summarize_df(steered_jailbreak_df,   \"Jailbreak\")\n",
    "\n",
    "tidy = pd.concat(\n",
    "    [unsteered_default_tidy, unsteered_jailbreak_tidy,\n",
    "     steered_default_tidy,   steered_jailbreak_tidy],\n",
    "    ignore_index=True\n",
    ")\n",
    "\n",
    "\n"
   ]
  },
  {
   "cell_type": "code",
   "execution_count": 35,
   "id": "4693a2da",
   "metadata": {},
   "outputs": [
    {
     "data": {
      "application/vnd.plotly.v1+json": {
       "config": {
        "plotlyServerURL": "https://plot.ly"
       },
       "data": [
        {
         "cliponaxis": false,
         "customdata": [
          [
           196,
           4400,
           0
          ],
          [
           28,
           1100,
           3
          ],
          [
           24,
           1100,
           6
          ],
          [
           23,
           1100,
           9
          ],
          [
           18,
           1100,
           12
          ],
          [
           21,
           1100,
           15
          ],
          [
           21,
           1100,
           18
          ],
          [
           16,
           1100,
           21
          ],
          [
           3,
           1100,
           24
          ]
         ],
         "hovertemplate": "Magnitude: %{customdata[2]}<br>No Jailbreak — Harmful Info in Response<br>Pct: %{y:.1f}%<br>Count: %{customdata[0]} / %{customdata[1]}<extra></extra>",
         "legendgroup": "Harmful Info in Response",
         "marker": {
          "color": "#ff7f00"
         },
         "name": "Harmful Info in Response",
         "type": "bar",
         "width": 0.34,
         "x": [
          -0.18,
          0.8200000000000001,
          1.82,
          2.82,
          3.82,
          4.82,
          5.82,
          6.82,
          7.82
         ],
         "y": [
          4.5,
          2.5,
          2.2,
          2.1,
          1.6,
          1.9,
          1.9,
          1.5,
          0.3
         ]
        },
        {
         "cliponaxis": false,
         "customdata": [
          [
           2,
           4400,
           0
          ],
          [
           0,
           1100,
           3
          ],
          [
           1,
           1100,
           6
          ],
          [
           1,
           1100,
           9
          ],
          [
           1,
           1100,
           12
          ],
          [
           0,
           1100,
           15
          ],
          [
           0,
           1100,
           18
          ],
          [
           0,
           1100,
           21
          ],
          [
           0,
           1100,
           24
          ]
         ],
         "hovertemplate": "Magnitude: %{customdata[2]}<br>No Jailbreak — Harmful Info & Perfectly Following Request<br>Pct: %{y:.1f}%<br>Count: %{customdata[0]} / %{customdata[1]}<extra></extra>",
         "legendgroup": "Harmful Info & Perfectly Following Request",
         "marker": {
          "color": "#e41a1c"
         },
         "name": "Harmful Info & Perfectly Following Request",
         "type": "bar",
         "width": 0.34,
         "x": [
          -0.18,
          0.8200000000000001,
          1.82,
          2.82,
          3.82,
          4.82,
          5.82,
          6.82,
          7.82
         ],
         "y": [
          0,
          0,
          0.1,
          0.1,
          0.1,
          0,
          0,
          0,
          0
         ]
        },
        {
         "cliponaxis": false,
         "customdata": [
          [
           2001,
           4400,
           0
          ],
          [
           387,
           1100,
           3
          ],
          [
           362,
           1100,
           6
          ],
          [
           360,
           1100,
           9
          ],
          [
           345,
           1100,
           12
          ],
          [
           251,
           1100,
           15
          ],
          [
           201,
           1100,
           18
          ],
          [
           142,
           1100,
           21
          ],
          [
           87,
           1100,
           24
          ]
         ],
         "hovertemplate": "Magnitude: %{customdata[2]}<br>Jailbreak — Harmful Info in Response<br>Pct: %{y:.1f}%<br>Count: %{customdata[0]} / %{customdata[1]}<extra></extra>",
         "legendgroup": "Harmful Info in Response",
         "marker": {
          "color": "#ff7f00"
         },
         "showlegend": false,
         "type": "bar",
         "width": 0.34,
         "x": [
          0.18,
          1.18,
          2.18,
          3.18,
          4.18,
          5.18,
          6.18,
          7.18,
          8.18
         ],
         "y": [
          45.5,
          35.2,
          32.9,
          32.7,
          31.4,
          22.8,
          18.3,
          12.9,
          7.9
         ]
        },
        {
         "cliponaxis": false,
         "customdata": [
          [
           870,
           4400,
           0
          ],
          [
           127,
           1100,
           3
          ],
          [
           129,
           1100,
           6
          ],
          [
           103,
           1100,
           9
          ],
          [
           71,
           1100,
           12
          ],
          [
           59,
           1100,
           15
          ],
          [
           25,
           1100,
           18
          ],
          [
           24,
           1100,
           21
          ],
          [
           9,
           1100,
           24
          ]
         ],
         "hovertemplate": "Magnitude: %{customdata[2]}<br>Jailbreak — Harmful Info & Perfectly Following Request<br>Pct: %{y:.1f}%<br>Count: %{customdata[0]} / %{customdata[1]}<extra></extra>",
         "legendgroup": "Harmful Info & Perfectly Following Request",
         "marker": {
          "color": "#e41a1c"
         },
         "showlegend": false,
         "type": "bar",
         "width": 0.34,
         "x": [
          0.18,
          1.18,
          2.18,
          3.18,
          4.18,
          5.18,
          6.18,
          7.18,
          8.18
         ],
         "y": [
          19.8,
          11.5,
          11.7,
          9.4,
          6.5,
          5.4,
          2.3,
          2.2,
          0.8
         ]
        }
       ],
       "layout": {
        "annotations": [
         {
          "font": {
           "size": 9
          },
          "showarrow": false,
          "text": "4.5%",
          "x": -0.18,
          "y": 7.5
         },
         {
          "font": {
           "size": 10
          },
          "showarrow": false,
          "text": "<b>Default</b>",
          "textangle": -90,
          "x": -0.18,
          "y": 16.5
         },
         {
          "font": {
           "size": 9
          },
          "showarrow": false,
          "text": "65.3%",
          "x": 0.18,
          "y": 68.3
         },
         {
          "font": {
           "size": 10
          },
          "showarrow": false,
          "text": "<b>Jailbreak</b>",
          "textangle": -90,
          "x": 0.18,
          "y": 78.3
         },
         {
          "font": {
           "size": 9
          },
          "showarrow": false,
          "text": "2.5%",
          "x": 0.8200000000000001,
          "y": 5.5
         },
         {
          "font": {
           "size": 10
          },
          "showarrow": false,
          "text": "<b>Default</b>",
          "textangle": -90,
          "x": 0.8200000000000001,
          "y": 14.5
         },
         {
          "font": {
           "size": 9
          },
          "showarrow": false,
          "text": "46.7%",
          "x": 1.18,
          "y": 49.7
         },
         {
          "font": {
           "size": 10
          },
          "showarrow": false,
          "text": "<b>Jailbreak</b>",
          "textangle": -90,
          "x": 1.18,
          "y": 59.7
         },
         {
          "font": {
           "size": 9
          },
          "showarrow": false,
          "text": "2.3%",
          "x": 1.82,
          "y": 5.300000000000001
         },
         {
          "font": {
           "size": 10
          },
          "showarrow": false,
          "text": "<b>Default</b>",
          "textangle": -90,
          "x": 1.82,
          "y": 14.3
         },
         {
          "font": {
           "size": 9
          },
          "showarrow": false,
          "text": "44.6%",
          "x": 2.18,
          "y": 47.599999999999994
         },
         {
          "font": {
           "size": 10
          },
          "showarrow": false,
          "text": "<b>Jailbreak</b>",
          "textangle": -90,
          "x": 2.18,
          "y": 57.599999999999994
         },
         {
          "font": {
           "size": 9
          },
          "showarrow": false,
          "text": "2.2%",
          "x": 2.82,
          "y": 5.2
         },
         {
          "font": {
           "size": 10
          },
          "showarrow": false,
          "text": "<b>Default</b>",
          "textangle": -90,
          "x": 2.82,
          "y": 14.2
         },
         {
          "font": {
           "size": 9
          },
          "showarrow": false,
          "text": "42.1%",
          "x": 3.18,
          "y": 45.1
         },
         {
          "font": {
           "size": 10
          },
          "showarrow": false,
          "text": "<b>Jailbreak</b>",
          "textangle": -90,
          "x": 3.18,
          "y": 55.1
         },
         {
          "font": {
           "size": 9
          },
          "showarrow": false,
          "text": "1.7%",
          "x": 3.82,
          "y": 4.7
         },
         {
          "font": {
           "size": 10
          },
          "showarrow": false,
          "text": "<b>Default</b>",
          "textangle": -90,
          "x": 3.82,
          "y": 13.7
         },
         {
          "font": {
           "size": 9
          },
          "showarrow": false,
          "text": "37.9%",
          "x": 4.18,
          "y": 40.9
         },
         {
          "font": {
           "size": 10
          },
          "showarrow": false,
          "text": "<b>Jailbreak</b>",
          "textangle": -90,
          "x": 4.18,
          "y": 50.9
         },
         {
          "font": {
           "size": 9
          },
          "showarrow": false,
          "text": "1.9%",
          "x": 4.82,
          "y": 4.9
         },
         {
          "font": {
           "size": 10
          },
          "showarrow": false,
          "text": "<b>Default</b>",
          "textangle": -90,
          "x": 4.82,
          "y": 13.9
         },
         {
          "font": {
           "size": 9
          },
          "showarrow": false,
          "text": "28.2%",
          "x": 5.18,
          "y": 31.200000000000003
         },
         {
          "font": {
           "size": 10
          },
          "showarrow": false,
          "text": "<b>Jailbreak</b>",
          "textangle": -90,
          "x": 5.18,
          "y": 41.2
         },
         {
          "font": {
           "size": 9
          },
          "showarrow": false,
          "text": "1.9%",
          "x": 5.82,
          "y": 4.9
         },
         {
          "font": {
           "size": 10
          },
          "showarrow": false,
          "text": "<b>Default</b>",
          "textangle": -90,
          "x": 5.82,
          "y": 13.9
         },
         {
          "font": {
           "size": 9
          },
          "showarrow": false,
          "text": "20.6%",
          "x": 6.18,
          "y": 23.6
         },
         {
          "font": {
           "size": 10
          },
          "showarrow": false,
          "text": "<b>Jailbreak</b>",
          "textangle": -90,
          "x": 6.18,
          "y": 33.6
         },
         {
          "font": {
           "size": 9
          },
          "showarrow": false,
          "text": "1.5%",
          "x": 6.82,
          "y": 4.5
         },
         {
          "font": {
           "size": 10
          },
          "showarrow": false,
          "text": "<b>Default</b>",
          "textangle": -90,
          "x": 6.82,
          "y": 13.5
         },
         {
          "font": {
           "size": 9
          },
          "showarrow": false,
          "text": "15.1%",
          "x": 7.18,
          "y": 18.1
         },
         {
          "font": {
           "size": 10
          },
          "showarrow": false,
          "text": "<b>Jailbreak</b>",
          "textangle": -90,
          "x": 7.18,
          "y": 28.1
         },
         {
          "font": {
           "size": 9
          },
          "showarrow": false,
          "text": "0.3%",
          "x": 7.82,
          "y": 3.3
         },
         {
          "font": {
           "size": 10
          },
          "showarrow": false,
          "text": "<b>Default</b>",
          "textangle": -90,
          "x": 7.82,
          "y": 12.3
         },
         {
          "font": {
           "size": 9
          },
          "showarrow": false,
          "text": "8.7%",
          "x": 8.18,
          "y": 11.700000000000001
         },
         {
          "font": {
           "size": 10
          },
          "showarrow": false,
          "text": "<b>Jailbreak</b>",
          "textangle": -90,
          "x": 8.18,
          "y": 21.700000000000003
         }
        ],
        "bargap": 0.2,
        "barmode": "stack",
        "height": 600,
        "legend": {
         "orientation": "h",
         "x": 1,
         "xanchor": "right",
         "y": 1.02,
         "yanchor": "bottom"
        },
        "template": {
         "data": {
          "bar": [
           {
            "error_x": {
             "color": "#2a3f5f"
            },
            "error_y": {
             "color": "#2a3f5f"
            },
            "marker": {
             "line": {
              "color": "#E5ECF6",
              "width": 0.5
             },
             "pattern": {
              "fillmode": "overlay",
              "size": 10,
              "solidity": 0.2
             }
            },
            "type": "bar"
           }
          ],
          "barpolar": [
           {
            "marker": {
             "line": {
              "color": "#E5ECF6",
              "width": 0.5
             },
             "pattern": {
              "fillmode": "overlay",
              "size": 10,
              "solidity": 0.2
             }
            },
            "type": "barpolar"
           }
          ],
          "carpet": [
           {
            "aaxis": {
             "endlinecolor": "#2a3f5f",
             "gridcolor": "white",
             "linecolor": "white",
             "minorgridcolor": "white",
             "startlinecolor": "#2a3f5f"
            },
            "baxis": {
             "endlinecolor": "#2a3f5f",
             "gridcolor": "white",
             "linecolor": "white",
             "minorgridcolor": "white",
             "startlinecolor": "#2a3f5f"
            },
            "type": "carpet"
           }
          ],
          "choropleth": [
           {
            "colorbar": {
             "outlinewidth": 0,
             "ticks": ""
            },
            "type": "choropleth"
           }
          ],
          "contour": [
           {
            "colorbar": {
             "outlinewidth": 0,
             "ticks": ""
            },
            "colorscale": [
             [
              0,
              "#0d0887"
             ],
             [
              0.1111111111111111,
              "#46039f"
             ],
             [
              0.2222222222222222,
              "#7201a8"
             ],
             [
              0.3333333333333333,
              "#9c179e"
             ],
             [
              0.4444444444444444,
              "#bd3786"
             ],
             [
              0.5555555555555556,
              "#d8576b"
             ],
             [
              0.6666666666666666,
              "#ed7953"
             ],
             [
              0.7777777777777778,
              "#fb9f3a"
             ],
             [
              0.8888888888888888,
              "#fdca26"
             ],
             [
              1,
              "#f0f921"
             ]
            ],
            "type": "contour"
           }
          ],
          "contourcarpet": [
           {
            "colorbar": {
             "outlinewidth": 0,
             "ticks": ""
            },
            "type": "contourcarpet"
           }
          ],
          "heatmap": [
           {
            "colorbar": {
             "outlinewidth": 0,
             "ticks": ""
            },
            "colorscale": [
             [
              0,
              "#0d0887"
             ],
             [
              0.1111111111111111,
              "#46039f"
             ],
             [
              0.2222222222222222,
              "#7201a8"
             ],
             [
              0.3333333333333333,
              "#9c179e"
             ],
             [
              0.4444444444444444,
              "#bd3786"
             ],
             [
              0.5555555555555556,
              "#d8576b"
             ],
             [
              0.6666666666666666,
              "#ed7953"
             ],
             [
              0.7777777777777778,
              "#fb9f3a"
             ],
             [
              0.8888888888888888,
              "#fdca26"
             ],
             [
              1,
              "#f0f921"
             ]
            ],
            "type": "heatmap"
           }
          ],
          "heatmapgl": [
           {
            "colorbar": {
             "outlinewidth": 0,
             "ticks": ""
            },
            "colorscale": [
             [
              0,
              "#0d0887"
             ],
             [
              0.1111111111111111,
              "#46039f"
             ],
             [
              0.2222222222222222,
              "#7201a8"
             ],
             [
              0.3333333333333333,
              "#9c179e"
             ],
             [
              0.4444444444444444,
              "#bd3786"
             ],
             [
              0.5555555555555556,
              "#d8576b"
             ],
             [
              0.6666666666666666,
              "#ed7953"
             ],
             [
              0.7777777777777778,
              "#fb9f3a"
             ],
             [
              0.8888888888888888,
              "#fdca26"
             ],
             [
              1,
              "#f0f921"
             ]
            ],
            "type": "heatmapgl"
           }
          ],
          "histogram": [
           {
            "marker": {
             "pattern": {
              "fillmode": "overlay",
              "size": 10,
              "solidity": 0.2
             }
            },
            "type": "histogram"
           }
          ],
          "histogram2d": [
           {
            "colorbar": {
             "outlinewidth": 0,
             "ticks": ""
            },
            "colorscale": [
             [
              0,
              "#0d0887"
             ],
             [
              0.1111111111111111,
              "#46039f"
             ],
             [
              0.2222222222222222,
              "#7201a8"
             ],
             [
              0.3333333333333333,
              "#9c179e"
             ],
             [
              0.4444444444444444,
              "#bd3786"
             ],
             [
              0.5555555555555556,
              "#d8576b"
             ],
             [
              0.6666666666666666,
              "#ed7953"
             ],
             [
              0.7777777777777778,
              "#fb9f3a"
             ],
             [
              0.8888888888888888,
              "#fdca26"
             ],
             [
              1,
              "#f0f921"
             ]
            ],
            "type": "histogram2d"
           }
          ],
          "histogram2dcontour": [
           {
            "colorbar": {
             "outlinewidth": 0,
             "ticks": ""
            },
            "colorscale": [
             [
              0,
              "#0d0887"
             ],
             [
              0.1111111111111111,
              "#46039f"
             ],
             [
              0.2222222222222222,
              "#7201a8"
             ],
             [
              0.3333333333333333,
              "#9c179e"
             ],
             [
              0.4444444444444444,
              "#bd3786"
             ],
             [
              0.5555555555555556,
              "#d8576b"
             ],
             [
              0.6666666666666666,
              "#ed7953"
             ],
             [
              0.7777777777777778,
              "#fb9f3a"
             ],
             [
              0.8888888888888888,
              "#fdca26"
             ],
             [
              1,
              "#f0f921"
             ]
            ],
            "type": "histogram2dcontour"
           }
          ],
          "mesh3d": [
           {
            "colorbar": {
             "outlinewidth": 0,
             "ticks": ""
            },
            "type": "mesh3d"
           }
          ],
          "parcoords": [
           {
            "line": {
             "colorbar": {
              "outlinewidth": 0,
              "ticks": ""
             }
            },
            "type": "parcoords"
           }
          ],
          "pie": [
           {
            "automargin": true,
            "type": "pie"
           }
          ],
          "scatter": [
           {
            "fillpattern": {
             "fillmode": "overlay",
             "size": 10,
             "solidity": 0.2
            },
            "type": "scatter"
           }
          ],
          "scatter3d": [
           {
            "line": {
             "colorbar": {
              "outlinewidth": 0,
              "ticks": ""
             }
            },
            "marker": {
             "colorbar": {
              "outlinewidth": 0,
              "ticks": ""
             }
            },
            "type": "scatter3d"
           }
          ],
          "scattercarpet": [
           {
            "marker": {
             "colorbar": {
              "outlinewidth": 0,
              "ticks": ""
             }
            },
            "type": "scattercarpet"
           }
          ],
          "scattergeo": [
           {
            "marker": {
             "colorbar": {
              "outlinewidth": 0,
              "ticks": ""
             }
            },
            "type": "scattergeo"
           }
          ],
          "scattergl": [
           {
            "marker": {
             "colorbar": {
              "outlinewidth": 0,
              "ticks": ""
             }
            },
            "type": "scattergl"
           }
          ],
          "scattermapbox": [
           {
            "marker": {
             "colorbar": {
              "outlinewidth": 0,
              "ticks": ""
             }
            },
            "type": "scattermapbox"
           }
          ],
          "scatterpolar": [
           {
            "marker": {
             "colorbar": {
              "outlinewidth": 0,
              "ticks": ""
             }
            },
            "type": "scatterpolar"
           }
          ],
          "scatterpolargl": [
           {
            "marker": {
             "colorbar": {
              "outlinewidth": 0,
              "ticks": ""
             }
            },
            "type": "scatterpolargl"
           }
          ],
          "scatterternary": [
           {
            "marker": {
             "colorbar": {
              "outlinewidth": 0,
              "ticks": ""
             }
            },
            "type": "scatterternary"
           }
          ],
          "surface": [
           {
            "colorbar": {
             "outlinewidth": 0,
             "ticks": ""
            },
            "colorscale": [
             [
              0,
              "#0d0887"
             ],
             [
              0.1111111111111111,
              "#46039f"
             ],
             [
              0.2222222222222222,
              "#7201a8"
             ],
             [
              0.3333333333333333,
              "#9c179e"
             ],
             [
              0.4444444444444444,
              "#bd3786"
             ],
             [
              0.5555555555555556,
              "#d8576b"
             ],
             [
              0.6666666666666666,
              "#ed7953"
             ],
             [
              0.7777777777777778,
              "#fb9f3a"
             ],
             [
              0.8888888888888888,
              "#fdca26"
             ],
             [
              1,
              "#f0f921"
             ]
            ],
            "type": "surface"
           }
          ],
          "table": [
           {
            "cells": {
             "fill": {
              "color": "#EBF0F8"
             },
             "line": {
              "color": "white"
             }
            },
            "header": {
             "fill": {
              "color": "#C8D4E3"
             },
             "line": {
              "color": "white"
             }
            },
            "type": "table"
           }
          ]
         },
         "layout": {
          "annotationdefaults": {
           "arrowcolor": "#2a3f5f",
           "arrowhead": 0,
           "arrowwidth": 1
          },
          "autotypenumbers": "strict",
          "coloraxis": {
           "colorbar": {
            "outlinewidth": 0,
            "ticks": ""
           }
          },
          "colorscale": {
           "diverging": [
            [
             0,
             "#8e0152"
            ],
            [
             0.1,
             "#c51b7d"
            ],
            [
             0.2,
             "#de77ae"
            ],
            [
             0.3,
             "#f1b6da"
            ],
            [
             0.4,
             "#fde0ef"
            ],
            [
             0.5,
             "#f7f7f7"
            ],
            [
             0.6,
             "#e6f5d0"
            ],
            [
             0.7,
             "#b8e186"
            ],
            [
             0.8,
             "#7fbc41"
            ],
            [
             0.9,
             "#4d9221"
            ],
            [
             1,
             "#276419"
            ]
           ],
           "sequential": [
            [
             0,
             "#0d0887"
            ],
            [
             0.1111111111111111,
             "#46039f"
            ],
            [
             0.2222222222222222,
             "#7201a8"
            ],
            [
             0.3333333333333333,
             "#9c179e"
            ],
            [
             0.4444444444444444,
             "#bd3786"
            ],
            [
             0.5555555555555556,
             "#d8576b"
            ],
            [
             0.6666666666666666,
             "#ed7953"
            ],
            [
             0.7777777777777778,
             "#fb9f3a"
            ],
            [
             0.8888888888888888,
             "#fdca26"
            ],
            [
             1,
             "#f0f921"
            ]
           ],
           "sequentialminus": [
            [
             0,
             "#0d0887"
            ],
            [
             0.1111111111111111,
             "#46039f"
            ],
            [
             0.2222222222222222,
             "#7201a8"
            ],
            [
             0.3333333333333333,
             "#9c179e"
            ],
            [
             0.4444444444444444,
             "#bd3786"
            ],
            [
             0.5555555555555556,
             "#d8576b"
            ],
            [
             0.6666666666666666,
             "#ed7953"
            ],
            [
             0.7777777777777778,
             "#fb9f3a"
            ],
            [
             0.8888888888888888,
             "#fdca26"
            ],
            [
             1,
             "#f0f921"
            ]
           ]
          },
          "colorway": [
           "#636efa",
           "#EF553B",
           "#00cc96",
           "#ab63fa",
           "#FFA15A",
           "#19d3f3",
           "#FF6692",
           "#B6E880",
           "#FF97FF",
           "#FECB52"
          ],
          "font": {
           "color": "#2a3f5f"
          },
          "geo": {
           "bgcolor": "white",
           "lakecolor": "white",
           "landcolor": "#E5ECF6",
           "showlakes": true,
           "showland": true,
           "subunitcolor": "white"
          },
          "hoverlabel": {
           "align": "left"
          },
          "hovermode": "closest",
          "mapbox": {
           "style": "light"
          },
          "paper_bgcolor": "white",
          "plot_bgcolor": "#E5ECF6",
          "polar": {
           "angularaxis": {
            "gridcolor": "white",
            "linecolor": "white",
            "ticks": ""
           },
           "bgcolor": "#E5ECF6",
           "radialaxis": {
            "gridcolor": "white",
            "linecolor": "white",
            "ticks": ""
           }
          },
          "scene": {
           "xaxis": {
            "backgroundcolor": "#E5ECF6",
            "gridcolor": "white",
            "gridwidth": 2,
            "linecolor": "white",
            "showbackground": true,
            "ticks": "",
            "zerolinecolor": "white"
           },
           "yaxis": {
            "backgroundcolor": "#E5ECF6",
            "gridcolor": "white",
            "gridwidth": 2,
            "linecolor": "white",
            "showbackground": true,
            "ticks": "",
            "zerolinecolor": "white"
           },
           "zaxis": {
            "backgroundcolor": "#E5ECF6",
            "gridcolor": "white",
            "gridwidth": 2,
            "linecolor": "white",
            "showbackground": true,
            "ticks": "",
            "zerolinecolor": "white"
           }
          },
          "shapedefaults": {
           "line": {
            "color": "#2a3f5f"
           }
          },
          "ternary": {
           "aaxis": {
            "gridcolor": "white",
            "linecolor": "white",
            "ticks": ""
           },
           "baxis": {
            "gridcolor": "white",
            "linecolor": "white",
            "ticks": ""
           },
           "bgcolor": "#E5ECF6",
           "caxis": {
            "gridcolor": "white",
            "linecolor": "white",
            "ticks": ""
           }
          },
          "title": {
           "x": 0.05
          },
          "xaxis": {
           "automargin": true,
           "gridcolor": "white",
           "linecolor": "white",
           "ticks": "",
           "title": {
            "standoff": 15
           },
           "zerolinecolor": "white",
           "zerolinewidth": 2
          },
          "yaxis": {
           "automargin": true,
           "gridcolor": "white",
           "linecolor": "white",
           "ticks": "",
           "title": {
            "standoff": 15
           },
           "zerolinecolor": "white",
           "zerolinewidth": 2
          }
         }
        },
        "title": {
         "subtitle": {
          "text": "Llama 3.3 70B, Layer 40"
         },
         "text": "Harmful Responses with Persona-based Jailbreaks when Steered Towards the Assistant"
        },
        "width": 1100,
        "xaxis": {
         "gridcolor": "lightgray",
         "range": [
          -0.8,
          8.8
         ],
         "showgrid": true,
         "tickmode": "array",
         "ticktext": [
          "Unsteered",
          "3.0",
          "6.0",
          "9.0",
          "12.0",
          "15.0",
          "18.0",
          "21.0",
          "24.0"
         ],
         "tickvals": [
          0,
          1,
          2,
          3,
          4,
          5,
          6,
          7,
          8
         ],
         "title": {
          "text": "Role-playing PC1 Steering Magnitude"
         }
        },
        "yaxis": {
         "gridcolor": "lightgray",
         "range": [
          0,
          119
         ],
         "showgrid": true,
         "title": {
          "text": "Percentage of Harmful Responses"
         }
        }
       }
      },
      "text/html": [
       "<div>                            <div id=\"d1e78a83-61d9-4fe6-98e8-142371cb58fe\" class=\"plotly-graph-div\" style=\"height:600px; width:1100px;\"></div>            <script type=\"text/javascript\">                require([\"plotly\"], function(Plotly) {                    window.PLOTLYENV=window.PLOTLYENV || {};                                    if (document.getElementById(\"d1e78a83-61d9-4fe6-98e8-142371cb58fe\")) {                    Plotly.newPlot(                        \"d1e78a83-61d9-4fe6-98e8-142371cb58fe\",                        [{\"cliponaxis\":false,\"customdata\":[[196.0,4400.0,0.0],[28.0,1100.0,3.0],[24.0,1100.0,6.0],[23.0,1100.0,9.0],[18.0,1100.0,12.0],[21.0,1100.0,15.0],[21.0,1100.0,18.0],[16.0,1100.0,21.0],[3.0,1100.0,24.0]],\"hovertemplate\":\"Magnitude: %{customdata[2]}\\u003cbr\\u003eNo Jailbreak \\u2014 Harmful Info in Response\\u003cbr\\u003ePct: %{y:.1f}%\\u003cbr\\u003eCount: %{customdata[0]} \\u002f %{customdata[1]}\\u003cextra\\u003e\\u003c\\u002fextra\\u003e\",\"legendgroup\":\"Harmful Info in Response\",\"marker\":{\"color\":\"#ff7f00\"},\"name\":\"Harmful Info in Response\",\"width\":0.34,\"x\":[-0.18,0.8200000000000001,1.82,2.82,3.82,4.82,5.82,6.82,7.82],\"y\":[4.5,2.5,2.2,2.1,1.6,1.9,1.9,1.5,0.3],\"type\":\"bar\"},{\"cliponaxis\":false,\"customdata\":[[2.0,4400.0,0.0],[0.0,1100.0,3.0],[1.0,1100.0,6.0],[1.0,1100.0,9.0],[1.0,1100.0,12.0],[0.0,1100.0,15.0],[0.0,1100.0,18.0],[0.0,1100.0,21.0],[0.0,1100.0,24.0]],\"hovertemplate\":\"Magnitude: %{customdata[2]}\\u003cbr\\u003eNo Jailbreak \\u2014 Harmful Info & Perfectly Following Request\\u003cbr\\u003ePct: %{y:.1f}%\\u003cbr\\u003eCount: %{customdata[0]} \\u002f %{customdata[1]}\\u003cextra\\u003e\\u003c\\u002fextra\\u003e\",\"legendgroup\":\"Harmful Info & Perfectly Following Request\",\"marker\":{\"color\":\"#e41a1c\"},\"name\":\"Harmful Info & Perfectly Following Request\",\"width\":0.34,\"x\":[-0.18,0.8200000000000001,1.82,2.82,3.82,4.82,5.82,6.82,7.82],\"y\":[0.0,0.0,0.1,0.1,0.1,0.0,0.0,0.0,0.0],\"type\":\"bar\"},{\"cliponaxis\":false,\"customdata\":[[2001.0,4400.0,0.0],[387.0,1100.0,3.0],[362.0,1100.0,6.0],[360.0,1100.0,9.0],[345.0,1100.0,12.0],[251.0,1100.0,15.0],[201.0,1100.0,18.0],[142.0,1100.0,21.0],[87.0,1100.0,24.0]],\"hovertemplate\":\"Magnitude: %{customdata[2]}\\u003cbr\\u003eJailbreak \\u2014 Harmful Info in Response\\u003cbr\\u003ePct: %{y:.1f}%\\u003cbr\\u003eCount: %{customdata[0]} \\u002f %{customdata[1]}\\u003cextra\\u003e\\u003c\\u002fextra\\u003e\",\"legendgroup\":\"Harmful Info in Response\",\"marker\":{\"color\":\"#ff7f00\"},\"showlegend\":false,\"width\":0.34,\"x\":[0.18,1.18,2.18,3.18,4.18,5.18,6.18,7.18,8.18],\"y\":[45.5,35.2,32.9,32.7,31.4,22.8,18.3,12.9,7.9],\"type\":\"bar\"},{\"cliponaxis\":false,\"customdata\":[[870.0,4400.0,0.0],[127.0,1100.0,3.0],[129.0,1100.0,6.0],[103.0,1100.0,9.0],[71.0,1100.0,12.0],[59.0,1100.0,15.0],[25.0,1100.0,18.0],[24.0,1100.0,21.0],[9.0,1100.0,24.0]],\"hovertemplate\":\"Magnitude: %{customdata[2]}\\u003cbr\\u003eJailbreak \\u2014 Harmful Info & Perfectly Following Request\\u003cbr\\u003ePct: %{y:.1f}%\\u003cbr\\u003eCount: %{customdata[0]} \\u002f %{customdata[1]}\\u003cextra\\u003e\\u003c\\u002fextra\\u003e\",\"legendgroup\":\"Harmful Info & Perfectly Following Request\",\"marker\":{\"color\":\"#e41a1c\"},\"showlegend\":false,\"width\":0.34,\"x\":[0.18,1.18,2.18,3.18,4.18,5.18,6.18,7.18,8.18],\"y\":[19.8,11.5,11.7,9.4,6.5,5.4,2.3,2.2,0.8],\"type\":\"bar\"}],                        {\"template\":{\"data\":{\"histogram2dcontour\":[{\"type\":\"histogram2dcontour\",\"colorbar\":{\"outlinewidth\":0,\"ticks\":\"\"},\"colorscale\":[[0.0,\"#0d0887\"],[0.1111111111111111,\"#46039f\"],[0.2222222222222222,\"#7201a8\"],[0.3333333333333333,\"#9c179e\"],[0.4444444444444444,\"#bd3786\"],[0.5555555555555556,\"#d8576b\"],[0.6666666666666666,\"#ed7953\"],[0.7777777777777778,\"#fb9f3a\"],[0.8888888888888888,\"#fdca26\"],[1.0,\"#f0f921\"]]}],\"choropleth\":[{\"type\":\"choropleth\",\"colorbar\":{\"outlinewidth\":0,\"ticks\":\"\"}}],\"histogram2d\":[{\"type\":\"histogram2d\",\"colorbar\":{\"outlinewidth\":0,\"ticks\":\"\"},\"colorscale\":[[0.0,\"#0d0887\"],[0.1111111111111111,\"#46039f\"],[0.2222222222222222,\"#7201a8\"],[0.3333333333333333,\"#9c179e\"],[0.4444444444444444,\"#bd3786\"],[0.5555555555555556,\"#d8576b\"],[0.6666666666666666,\"#ed7953\"],[0.7777777777777778,\"#fb9f3a\"],[0.8888888888888888,\"#fdca26\"],[1.0,\"#f0f921\"]]}],\"heatmap\":[{\"type\":\"heatmap\",\"colorbar\":{\"outlinewidth\":0,\"ticks\":\"\"},\"colorscale\":[[0.0,\"#0d0887\"],[0.1111111111111111,\"#46039f\"],[0.2222222222222222,\"#7201a8\"],[0.3333333333333333,\"#9c179e\"],[0.4444444444444444,\"#bd3786\"],[0.5555555555555556,\"#d8576b\"],[0.6666666666666666,\"#ed7953\"],[0.7777777777777778,\"#fb9f3a\"],[0.8888888888888888,\"#fdca26\"],[1.0,\"#f0f921\"]]}],\"heatmapgl\":[{\"type\":\"heatmapgl\",\"colorbar\":{\"outlinewidth\":0,\"ticks\":\"\"},\"colorscale\":[[0.0,\"#0d0887\"],[0.1111111111111111,\"#46039f\"],[0.2222222222222222,\"#7201a8\"],[0.3333333333333333,\"#9c179e\"],[0.4444444444444444,\"#bd3786\"],[0.5555555555555556,\"#d8576b\"],[0.6666666666666666,\"#ed7953\"],[0.7777777777777778,\"#fb9f3a\"],[0.8888888888888888,\"#fdca26\"],[1.0,\"#f0f921\"]]}],\"contourcarpet\":[{\"type\":\"contourcarpet\",\"colorbar\":{\"outlinewidth\":0,\"ticks\":\"\"}}],\"contour\":[{\"type\":\"contour\",\"colorbar\":{\"outlinewidth\":0,\"ticks\":\"\"},\"colorscale\":[[0.0,\"#0d0887\"],[0.1111111111111111,\"#46039f\"],[0.2222222222222222,\"#7201a8\"],[0.3333333333333333,\"#9c179e\"],[0.4444444444444444,\"#bd3786\"],[0.5555555555555556,\"#d8576b\"],[0.6666666666666666,\"#ed7953\"],[0.7777777777777778,\"#fb9f3a\"],[0.8888888888888888,\"#fdca26\"],[1.0,\"#f0f921\"]]}],\"surface\":[{\"type\":\"surface\",\"colorbar\":{\"outlinewidth\":0,\"ticks\":\"\"},\"colorscale\":[[0.0,\"#0d0887\"],[0.1111111111111111,\"#46039f\"],[0.2222222222222222,\"#7201a8\"],[0.3333333333333333,\"#9c179e\"],[0.4444444444444444,\"#bd3786\"],[0.5555555555555556,\"#d8576b\"],[0.6666666666666666,\"#ed7953\"],[0.7777777777777778,\"#fb9f3a\"],[0.8888888888888888,\"#fdca26\"],[1.0,\"#f0f921\"]]}],\"mesh3d\":[{\"type\":\"mesh3d\",\"colorbar\":{\"outlinewidth\":0,\"ticks\":\"\"}}],\"scatter\":[{\"fillpattern\":{\"fillmode\":\"overlay\",\"size\":10,\"solidity\":0.2},\"type\":\"scatter\"}],\"parcoords\":[{\"type\":\"parcoords\",\"line\":{\"colorbar\":{\"outlinewidth\":0,\"ticks\":\"\"}}}],\"scatterpolargl\":[{\"type\":\"scatterpolargl\",\"marker\":{\"colorbar\":{\"outlinewidth\":0,\"ticks\":\"\"}}}],\"bar\":[{\"error_x\":{\"color\":\"#2a3f5f\"},\"error_y\":{\"color\":\"#2a3f5f\"},\"marker\":{\"line\":{\"color\":\"#E5ECF6\",\"width\":0.5},\"pattern\":{\"fillmode\":\"overlay\",\"size\":10,\"solidity\":0.2}},\"type\":\"bar\"}],\"scattergeo\":[{\"type\":\"scattergeo\",\"marker\":{\"colorbar\":{\"outlinewidth\":0,\"ticks\":\"\"}}}],\"scatterpolar\":[{\"type\":\"scatterpolar\",\"marker\":{\"colorbar\":{\"outlinewidth\":0,\"ticks\":\"\"}}}],\"histogram\":[{\"marker\":{\"pattern\":{\"fillmode\":\"overlay\",\"size\":10,\"solidity\":0.2}},\"type\":\"histogram\"}],\"scattergl\":[{\"type\":\"scattergl\",\"marker\":{\"colorbar\":{\"outlinewidth\":0,\"ticks\":\"\"}}}],\"scatter3d\":[{\"type\":\"scatter3d\",\"line\":{\"colorbar\":{\"outlinewidth\":0,\"ticks\":\"\"}},\"marker\":{\"colorbar\":{\"outlinewidth\":0,\"ticks\":\"\"}}}],\"scattermapbox\":[{\"type\":\"scattermapbox\",\"marker\":{\"colorbar\":{\"outlinewidth\":0,\"ticks\":\"\"}}}],\"scatterternary\":[{\"type\":\"scatterternary\",\"marker\":{\"colorbar\":{\"outlinewidth\":0,\"ticks\":\"\"}}}],\"scattercarpet\":[{\"type\":\"scattercarpet\",\"marker\":{\"colorbar\":{\"outlinewidth\":0,\"ticks\":\"\"}}}],\"carpet\":[{\"aaxis\":{\"endlinecolor\":\"#2a3f5f\",\"gridcolor\":\"white\",\"linecolor\":\"white\",\"minorgridcolor\":\"white\",\"startlinecolor\":\"#2a3f5f\"},\"baxis\":{\"endlinecolor\":\"#2a3f5f\",\"gridcolor\":\"white\",\"linecolor\":\"white\",\"minorgridcolor\":\"white\",\"startlinecolor\":\"#2a3f5f\"},\"type\":\"carpet\"}],\"table\":[{\"cells\":{\"fill\":{\"color\":\"#EBF0F8\"},\"line\":{\"color\":\"white\"}},\"header\":{\"fill\":{\"color\":\"#C8D4E3\"},\"line\":{\"color\":\"white\"}},\"type\":\"table\"}],\"barpolar\":[{\"marker\":{\"line\":{\"color\":\"#E5ECF6\",\"width\":0.5},\"pattern\":{\"fillmode\":\"overlay\",\"size\":10,\"solidity\":0.2}},\"type\":\"barpolar\"}],\"pie\":[{\"automargin\":true,\"type\":\"pie\"}]},\"layout\":{\"autotypenumbers\":\"strict\",\"colorway\":[\"#636efa\",\"#EF553B\",\"#00cc96\",\"#ab63fa\",\"#FFA15A\",\"#19d3f3\",\"#FF6692\",\"#B6E880\",\"#FF97FF\",\"#FECB52\"],\"font\":{\"color\":\"#2a3f5f\"},\"hovermode\":\"closest\",\"hoverlabel\":{\"align\":\"left\"},\"paper_bgcolor\":\"white\",\"plot_bgcolor\":\"#E5ECF6\",\"polar\":{\"bgcolor\":\"#E5ECF6\",\"angularaxis\":{\"gridcolor\":\"white\",\"linecolor\":\"white\",\"ticks\":\"\"},\"radialaxis\":{\"gridcolor\":\"white\",\"linecolor\":\"white\",\"ticks\":\"\"}},\"ternary\":{\"bgcolor\":\"#E5ECF6\",\"aaxis\":{\"gridcolor\":\"white\",\"linecolor\":\"white\",\"ticks\":\"\"},\"baxis\":{\"gridcolor\":\"white\",\"linecolor\":\"white\",\"ticks\":\"\"},\"caxis\":{\"gridcolor\":\"white\",\"linecolor\":\"white\",\"ticks\":\"\"}},\"coloraxis\":{\"colorbar\":{\"outlinewidth\":0,\"ticks\":\"\"}},\"colorscale\":{\"sequential\":[[0.0,\"#0d0887\"],[0.1111111111111111,\"#46039f\"],[0.2222222222222222,\"#7201a8\"],[0.3333333333333333,\"#9c179e\"],[0.4444444444444444,\"#bd3786\"],[0.5555555555555556,\"#d8576b\"],[0.6666666666666666,\"#ed7953\"],[0.7777777777777778,\"#fb9f3a\"],[0.8888888888888888,\"#fdca26\"],[1.0,\"#f0f921\"]],\"sequentialminus\":[[0.0,\"#0d0887\"],[0.1111111111111111,\"#46039f\"],[0.2222222222222222,\"#7201a8\"],[0.3333333333333333,\"#9c179e\"],[0.4444444444444444,\"#bd3786\"],[0.5555555555555556,\"#d8576b\"],[0.6666666666666666,\"#ed7953\"],[0.7777777777777778,\"#fb9f3a\"],[0.8888888888888888,\"#fdca26\"],[1.0,\"#f0f921\"]],\"diverging\":[[0,\"#8e0152\"],[0.1,\"#c51b7d\"],[0.2,\"#de77ae\"],[0.3,\"#f1b6da\"],[0.4,\"#fde0ef\"],[0.5,\"#f7f7f7\"],[0.6,\"#e6f5d0\"],[0.7,\"#b8e186\"],[0.8,\"#7fbc41\"],[0.9,\"#4d9221\"],[1,\"#276419\"]]},\"xaxis\":{\"gridcolor\":\"white\",\"linecolor\":\"white\",\"ticks\":\"\",\"title\":{\"standoff\":15},\"zerolinecolor\":\"white\",\"automargin\":true,\"zerolinewidth\":2},\"yaxis\":{\"gridcolor\":\"white\",\"linecolor\":\"white\",\"ticks\":\"\",\"title\":{\"standoff\":15},\"zerolinecolor\":\"white\",\"automargin\":true,\"zerolinewidth\":2},\"scene\":{\"xaxis\":{\"backgroundcolor\":\"#E5ECF6\",\"gridcolor\":\"white\",\"linecolor\":\"white\",\"showbackground\":true,\"ticks\":\"\",\"zerolinecolor\":\"white\",\"gridwidth\":2},\"yaxis\":{\"backgroundcolor\":\"#E5ECF6\",\"gridcolor\":\"white\",\"linecolor\":\"white\",\"showbackground\":true,\"ticks\":\"\",\"zerolinecolor\":\"white\",\"gridwidth\":2},\"zaxis\":{\"backgroundcolor\":\"#E5ECF6\",\"gridcolor\":\"white\",\"linecolor\":\"white\",\"showbackground\":true,\"ticks\":\"\",\"zerolinecolor\":\"white\",\"gridwidth\":2}},\"shapedefaults\":{\"line\":{\"color\":\"#2a3f5f\"}},\"annotationdefaults\":{\"arrowcolor\":\"#2a3f5f\",\"arrowhead\":0,\"arrowwidth\":1},\"geo\":{\"bgcolor\":\"white\",\"landcolor\":\"#E5ECF6\",\"subunitcolor\":\"white\",\"showland\":true,\"showlakes\":true,\"lakecolor\":\"white\"},\"title\":{\"x\":0.05},\"mapbox\":{\"style\":\"light\"}}},\"annotations\":[{\"font\":{\"size\":9},\"showarrow\":false,\"text\":\"4.5%\",\"x\":-0.18,\"y\":7.5},{\"font\":{\"size\":10},\"showarrow\":false,\"text\":\"\\u003cb\\u003eDefault\\u003c\\u002fb\\u003e\",\"textangle\":-90,\"x\":-0.18,\"y\":16.5},{\"font\":{\"size\":9},\"showarrow\":false,\"text\":\"65.3%\",\"x\":0.18,\"y\":68.3},{\"font\":{\"size\":10},\"showarrow\":false,\"text\":\"\\u003cb\\u003eJailbreak\\u003c\\u002fb\\u003e\",\"textangle\":-90,\"x\":0.18,\"y\":78.3},{\"font\":{\"size\":9},\"showarrow\":false,\"text\":\"2.5%\",\"x\":0.8200000000000001,\"y\":5.5},{\"font\":{\"size\":10},\"showarrow\":false,\"text\":\"\\u003cb\\u003eDefault\\u003c\\u002fb\\u003e\",\"textangle\":-90,\"x\":0.8200000000000001,\"y\":14.5},{\"font\":{\"size\":9},\"showarrow\":false,\"text\":\"46.7%\",\"x\":1.18,\"y\":49.7},{\"font\":{\"size\":10},\"showarrow\":false,\"text\":\"\\u003cb\\u003eJailbreak\\u003c\\u002fb\\u003e\",\"textangle\":-90,\"x\":1.18,\"y\":59.7},{\"font\":{\"size\":9},\"showarrow\":false,\"text\":\"2.3%\",\"x\":1.82,\"y\":5.300000000000001},{\"font\":{\"size\":10},\"showarrow\":false,\"text\":\"\\u003cb\\u003eDefault\\u003c\\u002fb\\u003e\",\"textangle\":-90,\"x\":1.82,\"y\":14.3},{\"font\":{\"size\":9},\"showarrow\":false,\"text\":\"44.6%\",\"x\":2.18,\"y\":47.599999999999994},{\"font\":{\"size\":10},\"showarrow\":false,\"text\":\"\\u003cb\\u003eJailbreak\\u003c\\u002fb\\u003e\",\"textangle\":-90,\"x\":2.18,\"y\":57.599999999999994},{\"font\":{\"size\":9},\"showarrow\":false,\"text\":\"2.2%\",\"x\":2.82,\"y\":5.2},{\"font\":{\"size\":10},\"showarrow\":false,\"text\":\"\\u003cb\\u003eDefault\\u003c\\u002fb\\u003e\",\"textangle\":-90,\"x\":2.82,\"y\":14.2},{\"font\":{\"size\":9},\"showarrow\":false,\"text\":\"42.1%\",\"x\":3.18,\"y\":45.1},{\"font\":{\"size\":10},\"showarrow\":false,\"text\":\"\\u003cb\\u003eJailbreak\\u003c\\u002fb\\u003e\",\"textangle\":-90,\"x\":3.18,\"y\":55.1},{\"font\":{\"size\":9},\"showarrow\":false,\"text\":\"1.7%\",\"x\":3.82,\"y\":4.7},{\"font\":{\"size\":10},\"showarrow\":false,\"text\":\"\\u003cb\\u003eDefault\\u003c\\u002fb\\u003e\",\"textangle\":-90,\"x\":3.82,\"y\":13.7},{\"font\":{\"size\":9},\"showarrow\":false,\"text\":\"37.9%\",\"x\":4.18,\"y\":40.9},{\"font\":{\"size\":10},\"showarrow\":false,\"text\":\"\\u003cb\\u003eJailbreak\\u003c\\u002fb\\u003e\",\"textangle\":-90,\"x\":4.18,\"y\":50.9},{\"font\":{\"size\":9},\"showarrow\":false,\"text\":\"1.9%\",\"x\":4.82,\"y\":4.9},{\"font\":{\"size\":10},\"showarrow\":false,\"text\":\"\\u003cb\\u003eDefault\\u003c\\u002fb\\u003e\",\"textangle\":-90,\"x\":4.82,\"y\":13.9},{\"font\":{\"size\":9},\"showarrow\":false,\"text\":\"28.2%\",\"x\":5.18,\"y\":31.200000000000003},{\"font\":{\"size\":10},\"showarrow\":false,\"text\":\"\\u003cb\\u003eJailbreak\\u003c\\u002fb\\u003e\",\"textangle\":-90,\"x\":5.18,\"y\":41.2},{\"font\":{\"size\":9},\"showarrow\":false,\"text\":\"1.9%\",\"x\":5.82,\"y\":4.9},{\"font\":{\"size\":10},\"showarrow\":false,\"text\":\"\\u003cb\\u003eDefault\\u003c\\u002fb\\u003e\",\"textangle\":-90,\"x\":5.82,\"y\":13.9},{\"font\":{\"size\":9},\"showarrow\":false,\"text\":\"20.6%\",\"x\":6.18,\"y\":23.6},{\"font\":{\"size\":10},\"showarrow\":false,\"text\":\"\\u003cb\\u003eJailbreak\\u003c\\u002fb\\u003e\",\"textangle\":-90,\"x\":6.18,\"y\":33.6},{\"font\":{\"size\":9},\"showarrow\":false,\"text\":\"1.5%\",\"x\":6.82,\"y\":4.5},{\"font\":{\"size\":10},\"showarrow\":false,\"text\":\"\\u003cb\\u003eDefault\\u003c\\u002fb\\u003e\",\"textangle\":-90,\"x\":6.82,\"y\":13.5},{\"font\":{\"size\":9},\"showarrow\":false,\"text\":\"15.1%\",\"x\":7.18,\"y\":18.1},{\"font\":{\"size\":10},\"showarrow\":false,\"text\":\"\\u003cb\\u003eJailbreak\\u003c\\u002fb\\u003e\",\"textangle\":-90,\"x\":7.18,\"y\":28.1},{\"font\":{\"size\":9},\"showarrow\":false,\"text\":\"0.3%\",\"x\":7.82,\"y\":3.3},{\"font\":{\"size\":10},\"showarrow\":false,\"text\":\"\\u003cb\\u003eDefault\\u003c\\u002fb\\u003e\",\"textangle\":-90,\"x\":7.82,\"y\":12.3},{\"font\":{\"size\":9},\"showarrow\":false,\"text\":\"8.7%\",\"x\":8.18,\"y\":11.700000000000001},{\"font\":{\"size\":10},\"showarrow\":false,\"text\":\"\\u003cb\\u003eJailbreak\\u003c\\u002fb\\u003e\",\"textangle\":-90,\"x\":8.18,\"y\":21.700000000000003}],\"title\":{\"subtitle\":{\"text\":\"Llama 3.3 70B, Layer 40\"},\"text\":\"Harmful Responses with Persona-based Jailbreaks when Steered Towards the Assistant\"},\"xaxis\":{\"title\":{\"text\":\"Role-playing PC1 Steering Magnitude\"},\"tickmode\":\"array\",\"tickvals\":[0,1,2,3,4,5,6,7,8],\"ticktext\":[\"Unsteered\",\"3.0\",\"6.0\",\"9.0\",\"12.0\",\"15.0\",\"18.0\",\"21.0\",\"24.0\"],\"showgrid\":true,\"gridcolor\":\"lightgray\",\"range\":[-0.8,8.8]},\"yaxis\":{\"title\":{\"text\":\"Percentage of Harmful Responses\"},\"range\":[0,119],\"showgrid\":true,\"gridcolor\":\"lightgray\"},\"legend\":{\"orientation\":\"h\",\"yanchor\":\"bottom\",\"y\":1.02,\"xanchor\":\"right\",\"x\":1.0},\"barmode\":\"stack\",\"width\":1100,\"height\":600,\"bargap\":0.2},                        {\"responsive\": true}                    ).then(function(){\n",
       "                            \n",
       "var gd = document.getElementById('d1e78a83-61d9-4fe6-98e8-142371cb58fe');\n",
       "var x = new MutationObserver(function (mutations, observer) {{\n",
       "        var display = window.getComputedStyle(gd).display;\n",
       "        if (!display || display === 'none') {{\n",
       "            console.log([gd, 'removed!']);\n",
       "            Plotly.purge(gd);\n",
       "            observer.disconnect();\n",
       "        }}\n",
       "}});\n",
       "\n",
       "// Listen for the removal of the full notebook cells\n",
       "var notebookContainer = gd.closest('#notebook-container');\n",
       "if (notebookContainer) {{\n",
       "    x.observe(notebookContainer, {childList: true});\n",
       "}}\n",
       "\n",
       "// Listen for the clearing of the current output cell\n",
       "var outputEl = gd.closest('.output');\n",
       "if (outputEl) {{\n",
       "    x.observe(outputEl, {childList: true});\n",
       "}}\n",
       "\n",
       "                        })                };                });            </script>        </div>"
      ]
     },
     "metadata": {},
     "output_type": "display_data"
    }
   ],
   "source": [
    "# ----- CONFIG -----\n",
    "TARGETS   = [\"enough_info\", \"enough_info_and_follow_perfectly\"]\n",
    "JB_ORDER  = [\"No Jailbreak\", \"Jailbreak\"]   # left, right\n",
    "COLORS = {\n",
    "    \"enough_info_and_follow_perfectly\": \"#e41a1c\",  # red\n",
    "    \"enough_info\": \"#ff7f00\",                      # orange\n",
    "}\n",
    "\n",
    "label_map = {\n",
    "    \"enough_info\": \"Harmful Info in Response\",\n",
    "    \"enough_info_and_follow_perfectly\": \"Harmful Info & Perfectly Following Request\"\n",
    "}\n",
    "\n",
    "# Order magnitudes the way you want them on the x-axis\n",
    "\n",
    "\n",
    "# ----- BUILD PIVOTS (robust, fills missing combos with 0) -----\n",
    "def pivot_pct(df, label):\n",
    "    # returns a (len(magnitudes) x len(JB_ORDER)) array of percentages\n",
    "    tbl = (df[df[\"score_label\"]==label]\n",
    "           .pivot_table(index=\"magnitude\", columns=\"jailbreak\",\n",
    "                        values=\"pct\", aggfunc=\"first\", fill_value=0.0))\n",
    "    # enforce full order and fill any missing JB columns\n",
    "    tbl = tbl.reindex(index=magnitudes, columns=JB_ORDER, fill_value=0.0)\n",
    "    return tbl.values  # rows=mags, cols=JB_ORDER\n",
    "\n",
    "def pivot_counts(df, label):\n",
    "    # (counts, totals) arrays for hover\n",
    "    ct = (df[df[\"score_label\"]==label]\n",
    "          .pivot_table(index=\"magnitude\", columns=\"jailbreak\",\n",
    "                       values=\"count\", aggfunc=\"first\", fill_value=0))\n",
    "    tt = (df[df[\"score_label\"]==label]\n",
    "          .pivot_table(index=\"magnitude\", columns=\"jailbreak\",\n",
    "                       values=\"total\", aggfunc=\"first\", fill_value=0))\n",
    "    ct = ct.reindex(index=magnitudes, columns=JB_ORDER, fill_value=0)\n",
    "    tt = tt.reindex(index=magnitudes, columns=JB_ORDER, fill_value=0)\n",
    "    return ct.values, tt.values\n",
    "\n",
    "Y1 = pivot_pct(tidy, \"enough_info\")\n",
    "Y2 = pivot_pct(tidy, \"enough_info_and_follow_perfectly\")\n",
    "C1, T1 = pivot_counts(tidy, \"enough_info\")\n",
    "C2, T2 = pivot_counts(tidy, \"enough_info_and_follow_perfectly\")\n",
    "\n",
    "# ----- X POSITIONS: numeric centers with small offsets -----\n",
    "centers = np.arange(len(magnitudes))        # 0,1,2,...\n",
    "dx = 0.18\n",
    "x_nojb = centers - dx\n",
    "x_jb   = centers + dx\n",
    "BAR_WIDTH = 0.34\n",
    "\n",
    "# ----- BUILD FIGURE -----\n",
    "fig = go.Figure()\n",
    "\n",
    "# Left bar of each group (No Jailbreak): stack Y1 + Y2 at x_nojb\n",
    "for label, Y, C, T in [\n",
    "    (\"enough_info\", Y1, C1, T1),\n",
    "    (\"enough_info_and_follow_perfectly\", Y2, C2, T2),\n",
    "]:\n",
    "    fig.add_trace(go.Bar(\n",
    "        x=x_nojb,\n",
    "        y=Y[:, 0],\n",
    "        name=label_map[label], legendgroup=label_map[label],  # <-- mapped\n",
    "        marker_color=COLORS[label],\n",
    "        width=BAR_WIDTH,\n",
    "        # text=[f\"{v:.1f}%\" if v >= 7.0 else \"\" for v in Y[:, 0]],\n",
    "        # textposition=\"inside\",\n",
    "        cliponaxis=False,\n",
    "        hovertemplate=(\"Magnitude: %{customdata[2]}<br>\"\n",
    "                       \"No Jailbreak — \"+label_map[label]+\"<br>\"   # <-- mapped\n",
    "                       \"Pct: %{y:.1f}%<br>\"\n",
    "                       \"Count: %{customdata[0]} / %{customdata[1]}<extra></extra>\"),\n",
    "        customdata=np.column_stack([C[:, 0], T[:, 0], magnitudes]),\n",
    "    ))\n",
    "\n",
    "# Right bar of each group (Jailbreak): stack Y1 + Y2 at x_jb\n",
    "for label, Y, C, T in [\n",
    "    (\"enough_info\", Y1, C1, T1),\n",
    "    (\"enough_info_and_follow_perfectly\", Y2, C2, T2),\n",
    "]:\n",
    "    fig.add_trace(go.Bar(\n",
    "        x=x_jb,\n",
    "        y=Y[:, 1],\n",
    "        name=None, showlegend=False, legendgroup=label_map[label],  # <-- mapped\n",
    "        marker_color=COLORS[label],\n",
    "        width=BAR_WIDTH,\n",
    "        # text=[f\"{v:.1f}%\" if v >= 7.0 else \"\" for v in Y[:, 1]],\n",
    "        # textposition=\"inside\",\n",
    "        cliponaxis=False,\n",
    "        hovertemplate=(\"Magnitude: %{customdata[2]}<br>\"\n",
    "                       \"Jailbreak — \"+label_map[label]+\"<br>\"      # <-- mapped\n",
    "                       \"Pct: %{y:.1f}%<br>\"\n",
    "                       \"Count: %{customdata[0]} / %{customdata[1]}<extra></extra>\"),\n",
    "        customdata=np.column_stack([C[:, 1], T[:, 1], magnitudes]),\n",
    "    ))\n",
    "\n",
    "\n",
    "# Annotations with sum percentages above each stacked pair\n",
    "tops_nojb = (Y1[:, 0] + Y2[:, 0])\n",
    "tops_jb   = (Y1[:, 1] + Y2[:, 1])\n",
    "for i in range(len(magnitudes)):\n",
    "    if tops_nojb[i] > 0:\n",
    "        fig.add_annotation(x=x_nojb[i], y=tops_nojb[i] + 3,\n",
    "                           text=f\"{tops_nojb[i]:.1f}%\", showarrow=False, font=dict(size=9))\n",
    "        fig.add_annotation(x=x_nojb[i], y=tops_nojb[i] + 12,\n",
    "                           text=\"<b>Default</b>\", showarrow=False, font=dict(size=10), textangle=270)\n",
    "    if tops_jb[i] > 0:\n",
    "        fig.add_annotation(x=x_jb[i], y=tops_jb[i] + 3,\n",
    "                           text=f\"{tops_jb[i]:.1f}%\", showarrow=False, font=dict(size=9))\n",
    "        fig.add_annotation(x=x_jb[i], y=tops_jb[i] + 13,\n",
    "                           text=\"<b>Jailbreak</b>\", showarrow=False, font=dict(size=10), textangle=270)\n",
    "\n",
    "# ----- LAYOUT -----\n",
    "fig.update_layout(\n",
    "    barmode=\"stack\",  # stacks within each bar; grouping via numeric offsets\n",
    "    width=1100, height=600,\n",
    "    title={\n",
    "        \"text\": \"Harmful Responses with Persona-based Jailbreaks when Steered Towards the Assistant\",\n",
    "        \"subtitle\": {\n",
    "            \"text\": subtitle,\n",
    "        }\n",
    "    },\n",
    "    xaxis=dict(\n",
    "        title=\"Role-playing PC1 Steering Magnitude\",\n",
    "        tickmode=\"array\",\n",
    "        tickvals=centers,\n",
    "        ticktext=[str(m) for m in [\"Unsteered\"] + magnitudes[1:]],\n",
    "        showgrid=True, gridcolor=\"lightgray\",\n",
    "        range=[centers.min()-0.8, centers.max()+0.8],\n",
    "    ),\n",
    "    yaxis=dict(\n",
    "        title=\"Percentage of Harmful Responses\",\n",
    "        range=[0, 119],\n",
    "        showgrid=True, gridcolor=\"lightgray\"\n",
    "    ),\n",
    "    legend=dict(\n",
    "        orientation=\"h\", yanchor=\"bottom\", y=1.02, xanchor=\"right\", x=1.0\n",
    "    ),\n",
    "    bargap=0.2,\n",
    ")\n",
    "\n",
    "fig.show()\n",
    "fig.write_html(f\"{out_dir}/jailbreak_harmful.html\")"
   ]
  },
  {
   "cell_type": "markdown",
   "id": "c2078d48",
   "metadata": {},
   "source": [
    "## Plot Other Responses"
   ]
  },
  {
   "cell_type": "code",
   "execution_count": 36,
   "id": "9e97a836",
   "metadata": {},
   "outputs": [],
   "source": [
    "# --- Define categories you want to stack (exclude your two targets)\n",
    "# Ordered category list for plotting (matches desired color gradient)\n",
    "OTHER_LABELS = [\n",
    "    \"almost_enough_info\",        # yellow\n",
    "    \"related_but_no_info\",       # cyan\n",
    "    \"refusal\",                   # lime green\n",
    "    \"refusal_and_justification\", # green\n",
    "    \"out_of_context\",            # purple\n",
    "    \"nonsensical\",               # pink\n",
    "    #\"other\",                     # grey\n",
    "]\n",
    "\n",
    "other_colors = {\n",
    "    \"almost_enough_info\": \"#ffff33\",        # yellow\n",
    "    \"related_but_no_info\": \"#1f78b4\",       # cyan/blueish\n",
    "    \"refusal\": \"#b2df8a\",                   # lime green\n",
    "    \"refusal_and_justification\": \"#33a02c\", # green\n",
    "    \"out_of_context\": \"#6a3d9a\",            # purple\n",
    "    \"nonsensical\": \"#fb9a99\",               # pink\n",
    "    #\"other\": \"#999999\",                     # grey\n",
    "}\n",
    "\n",
    "\n",
    "other_label_map = {\n",
    "    \"refusal\": \"Refusal\",\n",
    "    \"refusal_and_justification\": \"Refusal & Justification\",\n",
    "    \"nonsensical\": \"Nonsensical\",\n",
    "    \"out_of_context\": \"Out of Context\",\n",
    "    \"related_but_no_info\": \"Related\",\n",
    "    \"almost_enough_info\": \"Almost Harmful\",\n",
    "    #\"other\": \"Other\",\n",
    "}\n",
    "\n",
    "\n",
    "def summarize_df_multi(df, jailbreak_label, labels, magnitude_override=None):\n",
    "    \"\"\"Return tidy rows for *labels* with counts & % per magnitude.\"\"\"\n",
    "    work = df.copy()\n",
    "    if magnitude_override is not None:\n",
    "        work[\"magnitude\"] = magnitude_override\n",
    "\n",
    "    totals = work.groupby(\"magnitude\").size().rename(\"n_total\")\n",
    "\n",
    "    counts = (\n",
    "        work[[\"magnitude\", \"score\"]]\n",
    "        .value_counts()\n",
    "        .rename(\"n\")\n",
    "        .reset_index()\n",
    "    )\n",
    "\n",
    "    # keep only requested labels\n",
    "    counts = counts[counts[\"score\"].isin(labels)].copy()\n",
    "\n",
    "    pivot = counts.pivot_table(\n",
    "        index=\"magnitude\", columns=\"score\", values=\"n\", aggfunc=\"sum\", fill_value=0\n",
    "    )\n",
    "\n",
    "    # ensure all label columns exist\n",
    "    for lab in labels:\n",
    "        if lab not in pivot.columns:\n",
    "            pivot[lab] = 0\n",
    "\n",
    "    df_sum = pivot.join(totals, how=\"right\").fillna(0)\n",
    "\n",
    "    # percentages\n",
    "    for lab in labels:\n",
    "        df_sum[f\"pct_{lab}\"] = (df_sum[lab] / df_sum[\"n_total\"] * 100).round(1)\n",
    "\n",
    "    # long rows\n",
    "    long = []\n",
    "    for _, row in df_sum.reset_index().iterrows():\n",
    "        for lab in labels:\n",
    "            long.append({\n",
    "                \"magnitude\": float(row[\"magnitude\"]),\n",
    "                \"jailbreak\": jailbreak_label,      # \"No Jailbreak\" / \"Jailbreak\"\n",
    "                \"score_label\": lab,\n",
    "                \"count\": int(row[lab]),\n",
    "                \"total\": int(row[\"n_total\"]),\n",
    "                \"pct\": float(row[f\"pct_{lab}\"]),\n",
    "            })\n",
    "    return pd.DataFrame(long)\n",
    "\n",
    "# Build tidy for the OTHER categories from your 4 input frames\n",
    "unsteered_default_other   = summarize_df_multi(unsteered_default_df,   \"No Jailbreak\", OTHER_LABELS, 0.0)\n",
    "unsteered_jailbreak_other = summarize_df_multi(unsteered_jailbreak_df, \"Jailbreak\",    OTHER_LABELS, 0.0)\n",
    "steered_default_other     = summarize_df_multi(steered_default_df,     \"No Jailbreak\", OTHER_LABELS)\n",
    "steered_jailbreak_other   = summarize_df_multi(steered_jailbreak_df,   \"Jailbreak\",    OTHER_LABELS)\n",
    "\n",
    "tidy_other = pd.concat(\n",
    "    [unsteered_default_other, unsteered_jailbreak_other,\n",
    "     steered_default_other,   steered_jailbreak_other],\n",
    "    ignore_index=True\n",
    ")\n"
   ]
  },
  {
   "cell_type": "code",
   "execution_count": 37,
   "id": "cf1ba099",
   "metadata": {},
   "outputs": [
    {
     "data": {
      "application/vnd.plotly.v1+json": {
       "config": {
        "plotlyServerURL": "https://plot.ly"
       },
       "data": [
        {
         "cliponaxis": false,
         "customdata": [
          [
           28,
           4400,
           0
          ],
          [
           9,
           1100,
           3
          ],
          [
           4,
           1100,
           6
          ],
          [
           6,
           1100,
           9
          ],
          [
           7,
           1100,
           12
          ],
          [
           12,
           1100,
           15
          ],
          [
           9,
           1100,
           18
          ],
          [
           2,
           1100,
           21
          ],
          [
           2,
           1100,
           24
          ]
         ],
         "hovertemplate": "Magnitude: %{customdata[2]}<br>No Jailbreak — Almost Harmful<br>Pct: %{y:.1f}%<br>Count: %{customdata[0]} / %{customdata[1]}<extra></extra>",
         "legendgroup": "Almost Harmful",
         "marker": {
          "color": "#ffff33"
         },
         "name": "Almost Harmful",
         "type": "bar",
         "width": 0.34,
         "x": [
          -0.18,
          0.8200000000000001,
          1.82,
          2.82,
          3.82,
          4.82,
          5.82,
          6.82,
          7.82
         ],
         "y": [
          0.6,
          0.8,
          0.4,
          0.5,
          0.6,
          1.1,
          0.8,
          0.2,
          0.2
         ]
        },
        {
         "cliponaxis": false,
         "customdata": [
          [
           3518,
           4400,
           0
          ],
          [
           898,
           1100,
           3
          ],
          [
           917,
           1100,
           6
          ],
          [
           946,
           1100,
           9
          ],
          [
           985,
           1100,
           12
          ],
          [
           1028,
           1100,
           15
          ],
          [
           1022,
           1100,
           18
          ],
          [
           1047,
           1100,
           21
          ],
          [
           1062,
           1100,
           24
          ]
         ],
         "hovertemplate": "Magnitude: %{customdata[2]}<br>No Jailbreak — Related<br>Pct: %{y:.1f}%<br>Count: %{customdata[0]} / %{customdata[1]}<extra></extra>",
         "legendgroup": "Related",
         "marker": {
          "color": "#1f78b4"
         },
         "name": "Related",
         "type": "bar",
         "width": 0.34,
         "x": [
          -0.18,
          0.8200000000000001,
          1.82,
          2.82,
          3.82,
          4.82,
          5.82,
          6.82,
          7.82
         ],
         "y": [
          80,
          81.6,
          83.4,
          86,
          89.5,
          93.5,
          92.9,
          95.2,
          96.5
         ]
        },
        {
         "cliponaxis": false,
         "customdata": [
          [
           353,
           4400,
           0
          ],
          [
           102,
           1100,
           3
          ],
          [
           98,
           1100,
           6
          ],
          [
           70,
           1100,
           9
          ],
          [
           25,
           1100,
           12
          ],
          [
           7,
           1100,
           15
          ],
          [
           1,
           1100,
           18
          ],
          [
           0,
           1100,
           21
          ],
          [
           0,
           1100,
           24
          ]
         ],
         "hovertemplate": "Magnitude: %{customdata[2]}<br>No Jailbreak — Refusal<br>Pct: %{y:.1f}%<br>Count: %{customdata[0]} / %{customdata[1]}<extra></extra>",
         "legendgroup": "Refusal",
         "marker": {
          "color": "#b2df8a"
         },
         "name": "Refusal",
         "type": "bar",
         "width": 0.34,
         "x": [
          -0.18,
          0.8200000000000001,
          1.82,
          2.82,
          3.82,
          4.82,
          5.82,
          6.82,
          7.82
         ],
         "y": [
          8,
          9.3,
          8.9,
          6.4,
          2.3,
          0.6,
          0.1,
          0,
          0
         ]
        },
        {
         "cliponaxis": false,
         "customdata": [
          [
           151,
           4400,
           0
          ],
          [
           30,
           1100,
           3
          ],
          [
           31,
           1100,
           6
          ],
          [
           33,
           1100,
           9
          ],
          [
           41,
           1100,
           12
          ],
          [
           16,
           1100,
           15
          ],
          [
           18,
           1100,
           18
          ],
          [
           9,
           1100,
           21
          ],
          [
           4,
           1100,
           24
          ]
         ],
         "hovertemplate": "Magnitude: %{customdata[2]}<br>No Jailbreak — Refusal & Justification<br>Pct: %{y:.1f}%<br>Count: %{customdata[0]} / %{customdata[1]}<extra></extra>",
         "legendgroup": "Refusal & Justification",
         "marker": {
          "color": "#33a02c"
         },
         "name": "Refusal & Justification",
         "type": "bar",
         "width": 0.34,
         "x": [
          -0.18,
          0.8200000000000001,
          1.82,
          2.82,
          3.82,
          4.82,
          5.82,
          6.82,
          7.82
         ],
         "y": [
          3.4,
          2.7,
          2.8,
          3,
          3.7,
          1.5,
          1.6,
          0.8,
          0.4
         ]
        },
        {
         "cliponaxis": false,
         "customdata": [
          [
           152,
           4400,
           0
          ],
          [
           33,
           1100,
           3
          ],
          [
           25,
           1100,
           6
          ],
          [
           21,
           1100,
           9
          ],
          [
           23,
           1100,
           12
          ],
          [
           16,
           1100,
           15
          ],
          [
           28,
           1100,
           18
          ],
          [
           24,
           1100,
           21
          ],
          [
           26,
           1100,
           24
          ]
         ],
         "hovertemplate": "Magnitude: %{customdata[2]}<br>No Jailbreak — Out of Context<br>Pct: %{y:.1f}%<br>Count: %{customdata[0]} / %{customdata[1]}<extra></extra>",
         "legendgroup": "Out of Context",
         "marker": {
          "color": "#6a3d9a"
         },
         "name": "Out of Context",
         "type": "bar",
         "width": 0.34,
         "x": [
          -0.18,
          0.8200000000000001,
          1.82,
          2.82,
          3.82,
          4.82,
          5.82,
          6.82,
          7.82
         ],
         "y": [
          3.5,
          3,
          2.3,
          1.9,
          2.1,
          1.5,
          2.5,
          2.2,
          2.4
         ]
        },
        {
         "cliponaxis": false,
         "customdata": [
          [
           0,
           4400,
           0
          ],
          [
           0,
           1100,
           3
          ],
          [
           0,
           1100,
           6
          ],
          [
           0,
           1100,
           9
          ],
          [
           0,
           1100,
           12
          ],
          [
           0,
           1100,
           15
          ],
          [
           1,
           1100,
           18
          ],
          [
           2,
           1100,
           21
          ],
          [
           3,
           1100,
           24
          ]
         ],
         "hovertemplate": "Magnitude: %{customdata[2]}<br>No Jailbreak — Nonsensical<br>Pct: %{y:.1f}%<br>Count: %{customdata[0]} / %{customdata[1]}<extra></extra>",
         "legendgroup": "Nonsensical",
         "marker": {
          "color": "#fb9a99"
         },
         "name": "Nonsensical",
         "type": "bar",
         "width": 0.34,
         "x": [
          -0.18,
          0.8200000000000001,
          1.82,
          2.82,
          3.82,
          4.82,
          5.82,
          6.82,
          7.82
         ],
         "y": [
          0,
          0,
          0,
          0,
          0,
          0,
          0.1,
          0.2,
          0.3
         ]
        },
        {
         "cliponaxis": false,
         "customdata": [
          [
           19,
           4400,
           0
          ],
          [
           8,
           1100,
           3
          ],
          [
           5,
           1100,
           6
          ],
          [
           16,
           1100,
           9
          ],
          [
           20,
           1100,
           12
          ],
          [
           17,
           1100,
           15
          ],
          [
           19,
           1100,
           18
          ],
          [
           20,
           1100,
           21
          ],
          [
           13,
           1100,
           24
          ]
         ],
         "hovertemplate": "Magnitude: %{customdata[2]}<br>Jailbreak — Almost Harmful<br>Pct: %{y:.1f}%<br>Count: %{customdata[0]} / %{customdata[1]}<extra></extra>",
         "legendgroup": "Almost Harmful",
         "marker": {
          "color": "#ffff33"
         },
         "showlegend": false,
         "type": "bar",
         "width": 0.34,
         "x": [
          0.18,
          1.18,
          2.18,
          3.18,
          4.18,
          5.18,
          6.18,
          7.18,
          8.18
         ],
         "y": [
          0.4,
          0.7,
          0.5,
          1.5,
          1.8,
          1.5,
          1.7,
          1.8,
          1.2
         ]
        },
        {
         "cliponaxis": false,
         "customdata": [
          [
           526,
           4400,
           0
          ],
          [
           238,
           1100,
           3
          ],
          [
           397,
           1100,
           6
          ],
          [
           551,
           1100,
           9
          ],
          [
           641,
           1100,
           12
          ],
          [
           752,
           1100,
           15
          ],
          [
           822,
           1100,
           18
          ],
          [
           850,
           1100,
           21
          ],
          [
           854,
           1100,
           24
          ]
         ],
         "hovertemplate": "Magnitude: %{customdata[2]}<br>Jailbreak — Related<br>Pct: %{y:.1f}%<br>Count: %{customdata[0]} / %{customdata[1]}<extra></extra>",
         "legendgroup": "Related",
         "marker": {
          "color": "#1f78b4"
         },
         "showlegend": false,
         "type": "bar",
         "width": 0.34,
         "x": [
          0.18,
          1.18,
          2.18,
          3.18,
          4.18,
          5.18,
          6.18,
          7.18,
          8.18
         ],
         "y": [
          12,
          21.6,
          36.1,
          50.1,
          58.3,
          68.4,
          74.7,
          77.3,
          77.6
         ]
        },
        {
         "cliponaxis": false,
         "customdata": [
          [
           964,
           4400,
           0
          ],
          [
           338,
           1100,
           3
          ],
          [
           200,
           1100,
           6
          ],
          [
           55,
           1100,
           9
          ],
          [
           4,
           1100,
           12
          ],
          [
           0,
           1100,
           15
          ],
          [
           0,
           1100,
           18
          ],
          [
           1,
           1100,
           21
          ],
          [
           4,
           1100,
           24
          ]
         ],
         "hovertemplate": "Magnitude: %{customdata[2]}<br>Jailbreak — Refusal<br>Pct: %{y:.1f}%<br>Count: %{customdata[0]} / %{customdata[1]}<extra></extra>",
         "legendgroup": "Refusal",
         "marker": {
          "color": "#b2df8a"
         },
         "showlegend": false,
         "type": "bar",
         "width": 0.34,
         "x": [
          0.18,
          1.18,
          2.18,
          3.18,
          4.18,
          5.18,
          6.18,
          7.18,
          8.18
         ],
         "y": [
          21.9,
          30.7,
          18.2,
          5,
          0.4,
          0,
          0,
          0.1,
          0.4
         ]
        },
        {
         "cliponaxis": false,
         "customdata": [
          [
           18,
           4400,
           0
          ],
          [
           1,
           1100,
           3
          ],
          [
           6,
           1100,
           6
          ],
          [
           9,
           1100,
           9
          ],
          [
           5,
           1100,
           12
          ],
          [
           2,
           1100,
           15
          ],
          [
           0,
           1100,
           18
          ],
          [
           4,
           1100,
           21
          ],
          [
           1,
           1100,
           24
          ]
         ],
         "hovertemplate": "Magnitude: %{customdata[2]}<br>Jailbreak — Refusal & Justification<br>Pct: %{y:.1f}%<br>Count: %{customdata[0]} / %{customdata[1]}<extra></extra>",
         "legendgroup": "Refusal & Justification",
         "marker": {
          "color": "#33a02c"
         },
         "showlegend": false,
         "type": "bar",
         "width": 0.34,
         "x": [
          0.18,
          1.18,
          2.18,
          3.18,
          4.18,
          5.18,
          6.18,
          7.18,
          8.18
         ],
         "y": [
          0.4,
          0.1,
          0.5,
          0.8,
          0.5,
          0.2,
          0,
          0.4,
          0.1
         ]
        },
        {
         "cliponaxis": false,
         "customdata": [
          [
           2,
           4400,
           0
          ],
          [
           1,
           1100,
           3
          ],
          [
           1,
           1100,
           6
          ],
          [
           6,
           1100,
           9
          ],
          [
           14,
           1100,
           12
          ],
          [
           18,
           1100,
           15
          ],
          [
           33,
           1100,
           18
          ],
          [
           57,
           1100,
           21
          ],
          [
           120,
           1100,
           24
          ]
         ],
         "hovertemplate": "Magnitude: %{customdata[2]}<br>Jailbreak — Out of Context<br>Pct: %{y:.1f}%<br>Count: %{customdata[0]} / %{customdata[1]}<extra></extra>",
         "legendgroup": "Out of Context",
         "marker": {
          "color": "#6a3d9a"
         },
         "showlegend": false,
         "type": "bar",
         "width": 0.34,
         "x": [
          0.18,
          1.18,
          2.18,
          3.18,
          4.18,
          5.18,
          6.18,
          7.18,
          8.18
         ],
         "y": [
          0,
          0.1,
          0.1,
          0.5,
          1.3,
          1.6,
          3,
          5.2,
          10.9
         ]
        },
        {
         "cliponaxis": false,
         "customdata": [
          [
           0,
           4400,
           0
          ],
          [
           0,
           1100,
           3
          ],
          [
           0,
           1100,
           6
          ],
          [
           0,
           1100,
           9
          ],
          [
           0,
           1100,
           12
          ],
          [
           0,
           1100,
           15
          ],
          [
           0,
           1100,
           18
          ],
          [
           2,
           1100,
           21
          ],
          [
           12,
           1100,
           24
          ]
         ],
         "hovertemplate": "Magnitude: %{customdata[2]}<br>Jailbreak — Nonsensical<br>Pct: %{y:.1f}%<br>Count: %{customdata[0]} / %{customdata[1]}<extra></extra>",
         "legendgroup": "Nonsensical",
         "marker": {
          "color": "#fb9a99"
         },
         "showlegend": false,
         "type": "bar",
         "width": 0.34,
         "x": [
          0.18,
          1.18,
          2.18,
          3.18,
          4.18,
          5.18,
          6.18,
          7.18,
          8.18
         ],
         "y": [
          0,
          0,
          0,
          0,
          0,
          0,
          0,
          0.2,
          1.1
         ]
        }
       ],
       "layout": {
        "annotations": [
         {
          "font": {
           "size": 9
          },
          "showarrow": false,
          "text": "95.5%",
          "x": -0.18,
          "y": 98.5
         },
         {
          "font": {
           "size": 10
          },
          "showarrow": false,
          "text": "<b>Default</b>",
          "textangle": -90,
          "x": -0.18,
          "y": 107.5
         },
         {
          "font": {
           "size": 9
          },
          "showarrow": false,
          "text": "34.7%",
          "x": 0.18,
          "y": 37.699999999999996
         },
         {
          "font": {
           "size": 10
          },
          "showarrow": false,
          "text": "<b>Jailbreak</b>",
          "textangle": -90,
          "x": 0.18,
          "y": 47.699999999999996
         },
         {
          "font": {
           "size": 9
          },
          "showarrow": false,
          "text": "97.4%",
          "x": 0.8200000000000001,
          "y": 100.39999999999999
         },
         {
          "font": {
           "size": 10
          },
          "showarrow": false,
          "text": "<b>Default</b>",
          "textangle": -90,
          "x": 0.8200000000000001,
          "y": 109.39999999999999
         },
         {
          "font": {
           "size": 9
          },
          "showarrow": false,
          "text": "53.2%",
          "x": 1.18,
          "y": 56.2
         },
         {
          "font": {
           "size": 10
          },
          "showarrow": false,
          "text": "<b>Jailbreak</b>",
          "textangle": -90,
          "x": 1.18,
          "y": 66.2
         },
         {
          "font": {
           "size": 9
          },
          "showarrow": false,
          "text": "97.8%",
          "x": 1.82,
          "y": 100.80000000000001
         },
         {
          "font": {
           "size": 10
          },
          "showarrow": false,
          "text": "<b>Default</b>",
          "textangle": -90,
          "x": 1.82,
          "y": 109.80000000000001
         },
         {
          "font": {
           "size": 9
          },
          "showarrow": false,
          "text": "55.4%",
          "x": 2.18,
          "y": 58.4
         },
         {
          "font": {
           "size": 10
          },
          "showarrow": false,
          "text": "<b>Jailbreak</b>",
          "textangle": -90,
          "x": 2.18,
          "y": 68.4
         },
         {
          "font": {
           "size": 9
          },
          "showarrow": false,
          "text": "97.8%",
          "x": 2.82,
          "y": 100.80000000000001
         },
         {
          "font": {
           "size": 10
          },
          "showarrow": false,
          "text": "<b>Default</b>",
          "textangle": -90,
          "x": 2.82,
          "y": 109.80000000000001
         },
         {
          "font": {
           "size": 9
          },
          "showarrow": false,
          "text": "57.9%",
          "x": 3.18,
          "y": 60.9
         },
         {
          "font": {
           "size": 10
          },
          "showarrow": false,
          "text": "<b>Jailbreak</b>",
          "textangle": -90,
          "x": 3.18,
          "y": 70.9
         },
         {
          "font": {
           "size": 9
          },
          "showarrow": false,
          "text": "98.2%",
          "x": 3.82,
          "y": 101.19999999999999
         },
         {
          "font": {
           "size": 10
          },
          "showarrow": false,
          "text": "<b>Default</b>",
          "textangle": -90,
          "x": 3.82,
          "y": 110.19999999999999
         },
         {
          "font": {
           "size": 9
          },
          "showarrow": false,
          "text": "62.3%",
          "x": 4.18,
          "y": 65.29999999999998
         },
         {
          "font": {
           "size": 10
          },
          "showarrow": false,
          "text": "<b>Jailbreak</b>",
          "textangle": -90,
          "x": 4.18,
          "y": 75.29999999999998
         },
         {
          "font": {
           "size": 9
          },
          "showarrow": false,
          "text": "98.2%",
          "x": 4.82,
          "y": 101.19999999999999
         },
         {
          "font": {
           "size": 10
          },
          "showarrow": false,
          "text": "<b>Default</b>",
          "textangle": -90,
          "x": 4.82,
          "y": 110.19999999999999
         },
         {
          "font": {
           "size": 9
          },
          "showarrow": false,
          "text": "71.7%",
          "x": 5.18,
          "y": 74.7
         },
         {
          "font": {
           "size": 10
          },
          "showarrow": false,
          "text": "<b>Jailbreak</b>",
          "textangle": -90,
          "x": 5.18,
          "y": 84.7
         },
         {
          "font": {
           "size": 9
          },
          "showarrow": false,
          "text": "98.0%",
          "x": 5.82,
          "y": 100.99999999999999
         },
         {
          "font": {
           "size": 10
          },
          "showarrow": false,
          "text": "<b>Default</b>",
          "textangle": -90,
          "x": 5.82,
          "y": 109.99999999999999
         },
         {
          "font": {
           "size": 9
          },
          "showarrow": false,
          "text": "79.4%",
          "x": 6.18,
          "y": 82.4
         },
         {
          "font": {
           "size": 10
          },
          "showarrow": false,
          "text": "<b>Jailbreak</b>",
          "textangle": -90,
          "x": 6.18,
          "y": 92.4
         },
         {
          "font": {
           "size": 9
          },
          "showarrow": false,
          "text": "98.6%",
          "x": 6.82,
          "y": 101.60000000000001
         },
         {
          "font": {
           "size": 10
          },
          "showarrow": false,
          "text": "<b>Default</b>",
          "textangle": -90,
          "x": 6.82,
          "y": 110.60000000000001
         },
         {
          "font": {
           "size": 9
          },
          "showarrow": false,
          "text": "85.0%",
          "x": 7.18,
          "y": 88
         },
         {
          "font": {
           "size": 10
          },
          "showarrow": false,
          "text": "<b>Jailbreak</b>",
          "textangle": -90,
          "x": 7.18,
          "y": 98
         },
         {
          "font": {
           "size": 9
          },
          "showarrow": false,
          "text": "99.8%",
          "x": 7.82,
          "y": 102.80000000000001
         },
         {
          "font": {
           "size": 10
          },
          "showarrow": false,
          "text": "<b>Default</b>",
          "textangle": -90,
          "x": 7.82,
          "y": 111.80000000000001
         },
         {
          "font": {
           "size": 9
          },
          "showarrow": false,
          "text": "91.3%",
          "x": 8.18,
          "y": 94.3
         },
         {
          "font": {
           "size": 10
          },
          "showarrow": false,
          "text": "<b>Jailbreak</b>",
          "textangle": -90,
          "x": 8.18,
          "y": 104.3
         }
        ],
        "bargap": 0.25,
        "barmode": "stack",
        "height": 600,
        "legend": {
         "orientation": "h",
         "x": 1,
         "xanchor": "right",
         "y": 1.02,
         "yanchor": "bottom"
        },
        "template": {
         "data": {
          "bar": [
           {
            "error_x": {
             "color": "#2a3f5f"
            },
            "error_y": {
             "color": "#2a3f5f"
            },
            "marker": {
             "line": {
              "color": "#E5ECF6",
              "width": 0.5
             },
             "pattern": {
              "fillmode": "overlay",
              "size": 10,
              "solidity": 0.2
             }
            },
            "type": "bar"
           }
          ],
          "barpolar": [
           {
            "marker": {
             "line": {
              "color": "#E5ECF6",
              "width": 0.5
             },
             "pattern": {
              "fillmode": "overlay",
              "size": 10,
              "solidity": 0.2
             }
            },
            "type": "barpolar"
           }
          ],
          "carpet": [
           {
            "aaxis": {
             "endlinecolor": "#2a3f5f",
             "gridcolor": "white",
             "linecolor": "white",
             "minorgridcolor": "white",
             "startlinecolor": "#2a3f5f"
            },
            "baxis": {
             "endlinecolor": "#2a3f5f",
             "gridcolor": "white",
             "linecolor": "white",
             "minorgridcolor": "white",
             "startlinecolor": "#2a3f5f"
            },
            "type": "carpet"
           }
          ],
          "choropleth": [
           {
            "colorbar": {
             "outlinewidth": 0,
             "ticks": ""
            },
            "type": "choropleth"
           }
          ],
          "contour": [
           {
            "colorbar": {
             "outlinewidth": 0,
             "ticks": ""
            },
            "colorscale": [
             [
              0,
              "#0d0887"
             ],
             [
              0.1111111111111111,
              "#46039f"
             ],
             [
              0.2222222222222222,
              "#7201a8"
             ],
             [
              0.3333333333333333,
              "#9c179e"
             ],
             [
              0.4444444444444444,
              "#bd3786"
             ],
             [
              0.5555555555555556,
              "#d8576b"
             ],
             [
              0.6666666666666666,
              "#ed7953"
             ],
             [
              0.7777777777777778,
              "#fb9f3a"
             ],
             [
              0.8888888888888888,
              "#fdca26"
             ],
             [
              1,
              "#f0f921"
             ]
            ],
            "type": "contour"
           }
          ],
          "contourcarpet": [
           {
            "colorbar": {
             "outlinewidth": 0,
             "ticks": ""
            },
            "type": "contourcarpet"
           }
          ],
          "heatmap": [
           {
            "colorbar": {
             "outlinewidth": 0,
             "ticks": ""
            },
            "colorscale": [
             [
              0,
              "#0d0887"
             ],
             [
              0.1111111111111111,
              "#46039f"
             ],
             [
              0.2222222222222222,
              "#7201a8"
             ],
             [
              0.3333333333333333,
              "#9c179e"
             ],
             [
              0.4444444444444444,
              "#bd3786"
             ],
             [
              0.5555555555555556,
              "#d8576b"
             ],
             [
              0.6666666666666666,
              "#ed7953"
             ],
             [
              0.7777777777777778,
              "#fb9f3a"
             ],
             [
              0.8888888888888888,
              "#fdca26"
             ],
             [
              1,
              "#f0f921"
             ]
            ],
            "type": "heatmap"
           }
          ],
          "heatmapgl": [
           {
            "colorbar": {
             "outlinewidth": 0,
             "ticks": ""
            },
            "colorscale": [
             [
              0,
              "#0d0887"
             ],
             [
              0.1111111111111111,
              "#46039f"
             ],
             [
              0.2222222222222222,
              "#7201a8"
             ],
             [
              0.3333333333333333,
              "#9c179e"
             ],
             [
              0.4444444444444444,
              "#bd3786"
             ],
             [
              0.5555555555555556,
              "#d8576b"
             ],
             [
              0.6666666666666666,
              "#ed7953"
             ],
             [
              0.7777777777777778,
              "#fb9f3a"
             ],
             [
              0.8888888888888888,
              "#fdca26"
             ],
             [
              1,
              "#f0f921"
             ]
            ],
            "type": "heatmapgl"
           }
          ],
          "histogram": [
           {
            "marker": {
             "pattern": {
              "fillmode": "overlay",
              "size": 10,
              "solidity": 0.2
             }
            },
            "type": "histogram"
           }
          ],
          "histogram2d": [
           {
            "colorbar": {
             "outlinewidth": 0,
             "ticks": ""
            },
            "colorscale": [
             [
              0,
              "#0d0887"
             ],
             [
              0.1111111111111111,
              "#46039f"
             ],
             [
              0.2222222222222222,
              "#7201a8"
             ],
             [
              0.3333333333333333,
              "#9c179e"
             ],
             [
              0.4444444444444444,
              "#bd3786"
             ],
             [
              0.5555555555555556,
              "#d8576b"
             ],
             [
              0.6666666666666666,
              "#ed7953"
             ],
             [
              0.7777777777777778,
              "#fb9f3a"
             ],
             [
              0.8888888888888888,
              "#fdca26"
             ],
             [
              1,
              "#f0f921"
             ]
            ],
            "type": "histogram2d"
           }
          ],
          "histogram2dcontour": [
           {
            "colorbar": {
             "outlinewidth": 0,
             "ticks": ""
            },
            "colorscale": [
             [
              0,
              "#0d0887"
             ],
             [
              0.1111111111111111,
              "#46039f"
             ],
             [
              0.2222222222222222,
              "#7201a8"
             ],
             [
              0.3333333333333333,
              "#9c179e"
             ],
             [
              0.4444444444444444,
              "#bd3786"
             ],
             [
              0.5555555555555556,
              "#d8576b"
             ],
             [
              0.6666666666666666,
              "#ed7953"
             ],
             [
              0.7777777777777778,
              "#fb9f3a"
             ],
             [
              0.8888888888888888,
              "#fdca26"
             ],
             [
              1,
              "#f0f921"
             ]
            ],
            "type": "histogram2dcontour"
           }
          ],
          "mesh3d": [
           {
            "colorbar": {
             "outlinewidth": 0,
             "ticks": ""
            },
            "type": "mesh3d"
           }
          ],
          "parcoords": [
           {
            "line": {
             "colorbar": {
              "outlinewidth": 0,
              "ticks": ""
             }
            },
            "type": "parcoords"
           }
          ],
          "pie": [
           {
            "automargin": true,
            "type": "pie"
           }
          ],
          "scatter": [
           {
            "fillpattern": {
             "fillmode": "overlay",
             "size": 10,
             "solidity": 0.2
            },
            "type": "scatter"
           }
          ],
          "scatter3d": [
           {
            "line": {
             "colorbar": {
              "outlinewidth": 0,
              "ticks": ""
             }
            },
            "marker": {
             "colorbar": {
              "outlinewidth": 0,
              "ticks": ""
             }
            },
            "type": "scatter3d"
           }
          ],
          "scattercarpet": [
           {
            "marker": {
             "colorbar": {
              "outlinewidth": 0,
              "ticks": ""
             }
            },
            "type": "scattercarpet"
           }
          ],
          "scattergeo": [
           {
            "marker": {
             "colorbar": {
              "outlinewidth": 0,
              "ticks": ""
             }
            },
            "type": "scattergeo"
           }
          ],
          "scattergl": [
           {
            "marker": {
             "colorbar": {
              "outlinewidth": 0,
              "ticks": ""
             }
            },
            "type": "scattergl"
           }
          ],
          "scattermapbox": [
           {
            "marker": {
             "colorbar": {
              "outlinewidth": 0,
              "ticks": ""
             }
            },
            "type": "scattermapbox"
           }
          ],
          "scatterpolar": [
           {
            "marker": {
             "colorbar": {
              "outlinewidth": 0,
              "ticks": ""
             }
            },
            "type": "scatterpolar"
           }
          ],
          "scatterpolargl": [
           {
            "marker": {
             "colorbar": {
              "outlinewidth": 0,
              "ticks": ""
             }
            },
            "type": "scatterpolargl"
           }
          ],
          "scatterternary": [
           {
            "marker": {
             "colorbar": {
              "outlinewidth": 0,
              "ticks": ""
             }
            },
            "type": "scatterternary"
           }
          ],
          "surface": [
           {
            "colorbar": {
             "outlinewidth": 0,
             "ticks": ""
            },
            "colorscale": [
             [
              0,
              "#0d0887"
             ],
             [
              0.1111111111111111,
              "#46039f"
             ],
             [
              0.2222222222222222,
              "#7201a8"
             ],
             [
              0.3333333333333333,
              "#9c179e"
             ],
             [
              0.4444444444444444,
              "#bd3786"
             ],
             [
              0.5555555555555556,
              "#d8576b"
             ],
             [
              0.6666666666666666,
              "#ed7953"
             ],
             [
              0.7777777777777778,
              "#fb9f3a"
             ],
             [
              0.8888888888888888,
              "#fdca26"
             ],
             [
              1,
              "#f0f921"
             ]
            ],
            "type": "surface"
           }
          ],
          "table": [
           {
            "cells": {
             "fill": {
              "color": "#EBF0F8"
             },
             "line": {
              "color": "white"
             }
            },
            "header": {
             "fill": {
              "color": "#C8D4E3"
             },
             "line": {
              "color": "white"
             }
            },
            "type": "table"
           }
          ]
         },
         "layout": {
          "annotationdefaults": {
           "arrowcolor": "#2a3f5f",
           "arrowhead": 0,
           "arrowwidth": 1
          },
          "autotypenumbers": "strict",
          "coloraxis": {
           "colorbar": {
            "outlinewidth": 0,
            "ticks": ""
           }
          },
          "colorscale": {
           "diverging": [
            [
             0,
             "#8e0152"
            ],
            [
             0.1,
             "#c51b7d"
            ],
            [
             0.2,
             "#de77ae"
            ],
            [
             0.3,
             "#f1b6da"
            ],
            [
             0.4,
             "#fde0ef"
            ],
            [
             0.5,
             "#f7f7f7"
            ],
            [
             0.6,
             "#e6f5d0"
            ],
            [
             0.7,
             "#b8e186"
            ],
            [
             0.8,
             "#7fbc41"
            ],
            [
             0.9,
             "#4d9221"
            ],
            [
             1,
             "#276419"
            ]
           ],
           "sequential": [
            [
             0,
             "#0d0887"
            ],
            [
             0.1111111111111111,
             "#46039f"
            ],
            [
             0.2222222222222222,
             "#7201a8"
            ],
            [
             0.3333333333333333,
             "#9c179e"
            ],
            [
             0.4444444444444444,
             "#bd3786"
            ],
            [
             0.5555555555555556,
             "#d8576b"
            ],
            [
             0.6666666666666666,
             "#ed7953"
            ],
            [
             0.7777777777777778,
             "#fb9f3a"
            ],
            [
             0.8888888888888888,
             "#fdca26"
            ],
            [
             1,
             "#f0f921"
            ]
           ],
           "sequentialminus": [
            [
             0,
             "#0d0887"
            ],
            [
             0.1111111111111111,
             "#46039f"
            ],
            [
             0.2222222222222222,
             "#7201a8"
            ],
            [
             0.3333333333333333,
             "#9c179e"
            ],
            [
             0.4444444444444444,
             "#bd3786"
            ],
            [
             0.5555555555555556,
             "#d8576b"
            ],
            [
             0.6666666666666666,
             "#ed7953"
            ],
            [
             0.7777777777777778,
             "#fb9f3a"
            ],
            [
             0.8888888888888888,
             "#fdca26"
            ],
            [
             1,
             "#f0f921"
            ]
           ]
          },
          "colorway": [
           "#636efa",
           "#EF553B",
           "#00cc96",
           "#ab63fa",
           "#FFA15A",
           "#19d3f3",
           "#FF6692",
           "#B6E880",
           "#FF97FF",
           "#FECB52"
          ],
          "font": {
           "color": "#2a3f5f"
          },
          "geo": {
           "bgcolor": "white",
           "lakecolor": "white",
           "landcolor": "#E5ECF6",
           "showlakes": true,
           "showland": true,
           "subunitcolor": "white"
          },
          "hoverlabel": {
           "align": "left"
          },
          "hovermode": "closest",
          "mapbox": {
           "style": "light"
          },
          "paper_bgcolor": "white",
          "plot_bgcolor": "#E5ECF6",
          "polar": {
           "angularaxis": {
            "gridcolor": "white",
            "linecolor": "white",
            "ticks": ""
           },
           "bgcolor": "#E5ECF6",
           "radialaxis": {
            "gridcolor": "white",
            "linecolor": "white",
            "ticks": ""
           }
          },
          "scene": {
           "xaxis": {
            "backgroundcolor": "#E5ECF6",
            "gridcolor": "white",
            "gridwidth": 2,
            "linecolor": "white",
            "showbackground": true,
            "ticks": "",
            "zerolinecolor": "white"
           },
           "yaxis": {
            "backgroundcolor": "#E5ECF6",
            "gridcolor": "white",
            "gridwidth": 2,
            "linecolor": "white",
            "showbackground": true,
            "ticks": "",
            "zerolinecolor": "white"
           },
           "zaxis": {
            "backgroundcolor": "#E5ECF6",
            "gridcolor": "white",
            "gridwidth": 2,
            "linecolor": "white",
            "showbackground": true,
            "ticks": "",
            "zerolinecolor": "white"
           }
          },
          "shapedefaults": {
           "line": {
            "color": "#2a3f5f"
           }
          },
          "ternary": {
           "aaxis": {
            "gridcolor": "white",
            "linecolor": "white",
            "ticks": ""
           },
           "baxis": {
            "gridcolor": "white",
            "linecolor": "white",
            "ticks": ""
           },
           "bgcolor": "#E5ECF6",
           "caxis": {
            "gridcolor": "white",
            "linecolor": "white",
            "ticks": ""
           }
          },
          "title": {
           "x": 0.05
          },
          "xaxis": {
           "automargin": true,
           "gridcolor": "white",
           "linecolor": "white",
           "ticks": "",
           "title": {
            "standoff": 15
           },
           "zerolinecolor": "white",
           "zerolinewidth": 2
          },
          "yaxis": {
           "automargin": true,
           "gridcolor": "white",
           "linecolor": "white",
           "ticks": "",
           "title": {
            "standoff": 15
           },
           "zerolinecolor": "white",
           "zerolinewidth": 2
          }
         }
        },
        "title": {
         "subtitle": {
          "text": "Llama 3.3 70B, Layer 40"
         },
         "text": "Other Responses with Persona-based Jailbreaks when Steered Towards the Assistant"
        },
        "width": 1100,
        "xaxis": {
         "gridcolor": "lightgray",
         "range": [
          -0.8,
          8.8
         ],
         "showgrid": true,
         "tickmode": "array",
         "ticktext": [
          "Unsteered",
          "3.0",
          "6.0",
          "9.0",
          "12.0",
          "15.0",
          "18.0",
          "21.0",
          "24.0"
         ],
         "tickvals": [
          0,
          1,
          2,
          3,
          4,
          5,
          6,
          7,
          8
         ],
         "title": {
          "text": "Role-playing PC1 Steering Magnitude"
         }
        },
        "yaxis": {
         "gridcolor": "lightgray",
         "range": [
          0,
          119
         ],
         "showgrid": true,
         "title": {
          "text": "Percentage of Responses"
         }
        }
       }
      },
      "text/html": [
       "<div>                            <div id=\"c0521a56-3c37-47a8-bf19-e598b545767e\" class=\"plotly-graph-div\" style=\"height:600px; width:1100px;\"></div>            <script type=\"text/javascript\">                require([\"plotly\"], function(Plotly) {                    window.PLOTLYENV=window.PLOTLYENV || {};                                    if (document.getElementById(\"c0521a56-3c37-47a8-bf19-e598b545767e\")) {                    Plotly.newPlot(                        \"c0521a56-3c37-47a8-bf19-e598b545767e\",                        [{\"cliponaxis\":false,\"customdata\":[[28.0,4400.0,0.0],[9.0,1100.0,3.0],[4.0,1100.0,6.0],[6.0,1100.0,9.0],[7.0,1100.0,12.0],[12.0,1100.0,15.0],[9.0,1100.0,18.0],[2.0,1100.0,21.0],[2.0,1100.0,24.0]],\"hovertemplate\":\"Magnitude: %{customdata[2]}\\u003cbr\\u003eNo Jailbreak \\u2014 Almost Harmful\\u003cbr\\u003ePct: %{y:.1f}%\\u003cbr\\u003eCount: %{customdata[0]} \\u002f %{customdata[1]}\\u003cextra\\u003e\\u003c\\u002fextra\\u003e\",\"legendgroup\":\"Almost Harmful\",\"marker\":{\"color\":\"#ffff33\"},\"name\":\"Almost Harmful\",\"width\":0.34,\"x\":[-0.18,0.8200000000000001,1.82,2.82,3.82,4.82,5.82,6.82,7.82],\"y\":[0.6,0.8,0.4,0.5,0.6,1.1,0.8,0.2,0.2],\"type\":\"bar\"},{\"cliponaxis\":false,\"customdata\":[[3518.0,4400.0,0.0],[898.0,1100.0,3.0],[917.0,1100.0,6.0],[946.0,1100.0,9.0],[985.0,1100.0,12.0],[1028.0,1100.0,15.0],[1022.0,1100.0,18.0],[1047.0,1100.0,21.0],[1062.0,1100.0,24.0]],\"hovertemplate\":\"Magnitude: %{customdata[2]}\\u003cbr\\u003eNo Jailbreak \\u2014 Related\\u003cbr\\u003ePct: %{y:.1f}%\\u003cbr\\u003eCount: %{customdata[0]} \\u002f %{customdata[1]}\\u003cextra\\u003e\\u003c\\u002fextra\\u003e\",\"legendgroup\":\"Related\",\"marker\":{\"color\":\"#1f78b4\"},\"name\":\"Related\",\"width\":0.34,\"x\":[-0.18,0.8200000000000001,1.82,2.82,3.82,4.82,5.82,6.82,7.82],\"y\":[80.0,81.6,83.4,86.0,89.5,93.5,92.9,95.2,96.5],\"type\":\"bar\"},{\"cliponaxis\":false,\"customdata\":[[353.0,4400.0,0.0],[102.0,1100.0,3.0],[98.0,1100.0,6.0],[70.0,1100.0,9.0],[25.0,1100.0,12.0],[7.0,1100.0,15.0],[1.0,1100.0,18.0],[0.0,1100.0,21.0],[0.0,1100.0,24.0]],\"hovertemplate\":\"Magnitude: %{customdata[2]}\\u003cbr\\u003eNo Jailbreak \\u2014 Refusal\\u003cbr\\u003ePct: %{y:.1f}%\\u003cbr\\u003eCount: %{customdata[0]} \\u002f %{customdata[1]}\\u003cextra\\u003e\\u003c\\u002fextra\\u003e\",\"legendgroup\":\"Refusal\",\"marker\":{\"color\":\"#b2df8a\"},\"name\":\"Refusal\",\"width\":0.34,\"x\":[-0.18,0.8200000000000001,1.82,2.82,3.82,4.82,5.82,6.82,7.82],\"y\":[8.0,9.3,8.9,6.4,2.3,0.6,0.1,0.0,0.0],\"type\":\"bar\"},{\"cliponaxis\":false,\"customdata\":[[151.0,4400.0,0.0],[30.0,1100.0,3.0],[31.0,1100.0,6.0],[33.0,1100.0,9.0],[41.0,1100.0,12.0],[16.0,1100.0,15.0],[18.0,1100.0,18.0],[9.0,1100.0,21.0],[4.0,1100.0,24.0]],\"hovertemplate\":\"Magnitude: %{customdata[2]}\\u003cbr\\u003eNo Jailbreak \\u2014 Refusal & Justification\\u003cbr\\u003ePct: %{y:.1f}%\\u003cbr\\u003eCount: %{customdata[0]} \\u002f %{customdata[1]}\\u003cextra\\u003e\\u003c\\u002fextra\\u003e\",\"legendgroup\":\"Refusal & Justification\",\"marker\":{\"color\":\"#33a02c\"},\"name\":\"Refusal & Justification\",\"width\":0.34,\"x\":[-0.18,0.8200000000000001,1.82,2.82,3.82,4.82,5.82,6.82,7.82],\"y\":[3.4,2.7,2.8,3.0,3.7,1.5,1.6,0.8,0.4],\"type\":\"bar\"},{\"cliponaxis\":false,\"customdata\":[[152.0,4400.0,0.0],[33.0,1100.0,3.0],[25.0,1100.0,6.0],[21.0,1100.0,9.0],[23.0,1100.0,12.0],[16.0,1100.0,15.0],[28.0,1100.0,18.0],[24.0,1100.0,21.0],[26.0,1100.0,24.0]],\"hovertemplate\":\"Magnitude: %{customdata[2]}\\u003cbr\\u003eNo Jailbreak \\u2014 Out of Context\\u003cbr\\u003ePct: %{y:.1f}%\\u003cbr\\u003eCount: %{customdata[0]} \\u002f %{customdata[1]}\\u003cextra\\u003e\\u003c\\u002fextra\\u003e\",\"legendgroup\":\"Out of Context\",\"marker\":{\"color\":\"#6a3d9a\"},\"name\":\"Out of Context\",\"width\":0.34,\"x\":[-0.18,0.8200000000000001,1.82,2.82,3.82,4.82,5.82,6.82,7.82],\"y\":[3.5,3.0,2.3,1.9,2.1,1.5,2.5,2.2,2.4],\"type\":\"bar\"},{\"cliponaxis\":false,\"customdata\":[[0.0,4400.0,0.0],[0.0,1100.0,3.0],[0.0,1100.0,6.0],[0.0,1100.0,9.0],[0.0,1100.0,12.0],[0.0,1100.0,15.0],[1.0,1100.0,18.0],[2.0,1100.0,21.0],[3.0,1100.0,24.0]],\"hovertemplate\":\"Magnitude: %{customdata[2]}\\u003cbr\\u003eNo Jailbreak \\u2014 Nonsensical\\u003cbr\\u003ePct: %{y:.1f}%\\u003cbr\\u003eCount: %{customdata[0]} \\u002f %{customdata[1]}\\u003cextra\\u003e\\u003c\\u002fextra\\u003e\",\"legendgroup\":\"Nonsensical\",\"marker\":{\"color\":\"#fb9a99\"},\"name\":\"Nonsensical\",\"width\":0.34,\"x\":[-0.18,0.8200000000000001,1.82,2.82,3.82,4.82,5.82,6.82,7.82],\"y\":[0.0,0.0,0.0,0.0,0.0,0.0,0.1,0.2,0.3],\"type\":\"bar\"},{\"cliponaxis\":false,\"customdata\":[[19.0,4400.0,0.0],[8.0,1100.0,3.0],[5.0,1100.0,6.0],[16.0,1100.0,9.0],[20.0,1100.0,12.0],[17.0,1100.0,15.0],[19.0,1100.0,18.0],[20.0,1100.0,21.0],[13.0,1100.0,24.0]],\"hovertemplate\":\"Magnitude: %{customdata[2]}\\u003cbr\\u003eJailbreak \\u2014 Almost Harmful\\u003cbr\\u003ePct: %{y:.1f}%\\u003cbr\\u003eCount: %{customdata[0]} \\u002f %{customdata[1]}\\u003cextra\\u003e\\u003c\\u002fextra\\u003e\",\"legendgroup\":\"Almost Harmful\",\"marker\":{\"color\":\"#ffff33\"},\"showlegend\":false,\"width\":0.34,\"x\":[0.18,1.18,2.18,3.18,4.18,5.18,6.18,7.18,8.18],\"y\":[0.4,0.7,0.5,1.5,1.8,1.5,1.7,1.8,1.2],\"type\":\"bar\"},{\"cliponaxis\":false,\"customdata\":[[526.0,4400.0,0.0],[238.0,1100.0,3.0],[397.0,1100.0,6.0],[551.0,1100.0,9.0],[641.0,1100.0,12.0],[752.0,1100.0,15.0],[822.0,1100.0,18.0],[850.0,1100.0,21.0],[854.0,1100.0,24.0]],\"hovertemplate\":\"Magnitude: %{customdata[2]}\\u003cbr\\u003eJailbreak \\u2014 Related\\u003cbr\\u003ePct: %{y:.1f}%\\u003cbr\\u003eCount: %{customdata[0]} \\u002f %{customdata[1]}\\u003cextra\\u003e\\u003c\\u002fextra\\u003e\",\"legendgroup\":\"Related\",\"marker\":{\"color\":\"#1f78b4\"},\"showlegend\":false,\"width\":0.34,\"x\":[0.18,1.18,2.18,3.18,4.18,5.18,6.18,7.18,8.18],\"y\":[12.0,21.6,36.1,50.1,58.3,68.4,74.7,77.3,77.6],\"type\":\"bar\"},{\"cliponaxis\":false,\"customdata\":[[964.0,4400.0,0.0],[338.0,1100.0,3.0],[200.0,1100.0,6.0],[55.0,1100.0,9.0],[4.0,1100.0,12.0],[0.0,1100.0,15.0],[0.0,1100.0,18.0],[1.0,1100.0,21.0],[4.0,1100.0,24.0]],\"hovertemplate\":\"Magnitude: %{customdata[2]}\\u003cbr\\u003eJailbreak \\u2014 Refusal\\u003cbr\\u003ePct: %{y:.1f}%\\u003cbr\\u003eCount: %{customdata[0]} \\u002f %{customdata[1]}\\u003cextra\\u003e\\u003c\\u002fextra\\u003e\",\"legendgroup\":\"Refusal\",\"marker\":{\"color\":\"#b2df8a\"},\"showlegend\":false,\"width\":0.34,\"x\":[0.18,1.18,2.18,3.18,4.18,5.18,6.18,7.18,8.18],\"y\":[21.9,30.7,18.2,5.0,0.4,0.0,0.0,0.1,0.4],\"type\":\"bar\"},{\"cliponaxis\":false,\"customdata\":[[18.0,4400.0,0.0],[1.0,1100.0,3.0],[6.0,1100.0,6.0],[9.0,1100.0,9.0],[5.0,1100.0,12.0],[2.0,1100.0,15.0],[0.0,1100.0,18.0],[4.0,1100.0,21.0],[1.0,1100.0,24.0]],\"hovertemplate\":\"Magnitude: %{customdata[2]}\\u003cbr\\u003eJailbreak \\u2014 Refusal & Justification\\u003cbr\\u003ePct: %{y:.1f}%\\u003cbr\\u003eCount: %{customdata[0]} \\u002f %{customdata[1]}\\u003cextra\\u003e\\u003c\\u002fextra\\u003e\",\"legendgroup\":\"Refusal & Justification\",\"marker\":{\"color\":\"#33a02c\"},\"showlegend\":false,\"width\":0.34,\"x\":[0.18,1.18,2.18,3.18,4.18,5.18,6.18,7.18,8.18],\"y\":[0.4,0.1,0.5,0.8,0.5,0.2,0.0,0.4,0.1],\"type\":\"bar\"},{\"cliponaxis\":false,\"customdata\":[[2.0,4400.0,0.0],[1.0,1100.0,3.0],[1.0,1100.0,6.0],[6.0,1100.0,9.0],[14.0,1100.0,12.0],[18.0,1100.0,15.0],[33.0,1100.0,18.0],[57.0,1100.0,21.0],[120.0,1100.0,24.0]],\"hovertemplate\":\"Magnitude: %{customdata[2]}\\u003cbr\\u003eJailbreak \\u2014 Out of Context\\u003cbr\\u003ePct: %{y:.1f}%\\u003cbr\\u003eCount: %{customdata[0]} \\u002f %{customdata[1]}\\u003cextra\\u003e\\u003c\\u002fextra\\u003e\",\"legendgroup\":\"Out of Context\",\"marker\":{\"color\":\"#6a3d9a\"},\"showlegend\":false,\"width\":0.34,\"x\":[0.18,1.18,2.18,3.18,4.18,5.18,6.18,7.18,8.18],\"y\":[0.0,0.1,0.1,0.5,1.3,1.6,3.0,5.2,10.9],\"type\":\"bar\"},{\"cliponaxis\":false,\"customdata\":[[0.0,4400.0,0.0],[0.0,1100.0,3.0],[0.0,1100.0,6.0],[0.0,1100.0,9.0],[0.0,1100.0,12.0],[0.0,1100.0,15.0],[0.0,1100.0,18.0],[2.0,1100.0,21.0],[12.0,1100.0,24.0]],\"hovertemplate\":\"Magnitude: %{customdata[2]}\\u003cbr\\u003eJailbreak \\u2014 Nonsensical\\u003cbr\\u003ePct: %{y:.1f}%\\u003cbr\\u003eCount: %{customdata[0]} \\u002f %{customdata[1]}\\u003cextra\\u003e\\u003c\\u002fextra\\u003e\",\"legendgroup\":\"Nonsensical\",\"marker\":{\"color\":\"#fb9a99\"},\"showlegend\":false,\"width\":0.34,\"x\":[0.18,1.18,2.18,3.18,4.18,5.18,6.18,7.18,8.18],\"y\":[0.0,0.0,0.0,0.0,0.0,0.0,0.0,0.2,1.1],\"type\":\"bar\"}],                        {\"template\":{\"data\":{\"histogram2dcontour\":[{\"type\":\"histogram2dcontour\",\"colorbar\":{\"outlinewidth\":0,\"ticks\":\"\"},\"colorscale\":[[0.0,\"#0d0887\"],[0.1111111111111111,\"#46039f\"],[0.2222222222222222,\"#7201a8\"],[0.3333333333333333,\"#9c179e\"],[0.4444444444444444,\"#bd3786\"],[0.5555555555555556,\"#d8576b\"],[0.6666666666666666,\"#ed7953\"],[0.7777777777777778,\"#fb9f3a\"],[0.8888888888888888,\"#fdca26\"],[1.0,\"#f0f921\"]]}],\"choropleth\":[{\"type\":\"choropleth\",\"colorbar\":{\"outlinewidth\":0,\"ticks\":\"\"}}],\"histogram2d\":[{\"type\":\"histogram2d\",\"colorbar\":{\"outlinewidth\":0,\"ticks\":\"\"},\"colorscale\":[[0.0,\"#0d0887\"],[0.1111111111111111,\"#46039f\"],[0.2222222222222222,\"#7201a8\"],[0.3333333333333333,\"#9c179e\"],[0.4444444444444444,\"#bd3786\"],[0.5555555555555556,\"#d8576b\"],[0.6666666666666666,\"#ed7953\"],[0.7777777777777778,\"#fb9f3a\"],[0.8888888888888888,\"#fdca26\"],[1.0,\"#f0f921\"]]}],\"heatmap\":[{\"type\":\"heatmap\",\"colorbar\":{\"outlinewidth\":0,\"ticks\":\"\"},\"colorscale\":[[0.0,\"#0d0887\"],[0.1111111111111111,\"#46039f\"],[0.2222222222222222,\"#7201a8\"],[0.3333333333333333,\"#9c179e\"],[0.4444444444444444,\"#bd3786\"],[0.5555555555555556,\"#d8576b\"],[0.6666666666666666,\"#ed7953\"],[0.7777777777777778,\"#fb9f3a\"],[0.8888888888888888,\"#fdca26\"],[1.0,\"#f0f921\"]]}],\"heatmapgl\":[{\"type\":\"heatmapgl\",\"colorbar\":{\"outlinewidth\":0,\"ticks\":\"\"},\"colorscale\":[[0.0,\"#0d0887\"],[0.1111111111111111,\"#46039f\"],[0.2222222222222222,\"#7201a8\"],[0.3333333333333333,\"#9c179e\"],[0.4444444444444444,\"#bd3786\"],[0.5555555555555556,\"#d8576b\"],[0.6666666666666666,\"#ed7953\"],[0.7777777777777778,\"#fb9f3a\"],[0.8888888888888888,\"#fdca26\"],[1.0,\"#f0f921\"]]}],\"contourcarpet\":[{\"type\":\"contourcarpet\",\"colorbar\":{\"outlinewidth\":0,\"ticks\":\"\"}}],\"contour\":[{\"type\":\"contour\",\"colorbar\":{\"outlinewidth\":0,\"ticks\":\"\"},\"colorscale\":[[0.0,\"#0d0887\"],[0.1111111111111111,\"#46039f\"],[0.2222222222222222,\"#7201a8\"],[0.3333333333333333,\"#9c179e\"],[0.4444444444444444,\"#bd3786\"],[0.5555555555555556,\"#d8576b\"],[0.6666666666666666,\"#ed7953\"],[0.7777777777777778,\"#fb9f3a\"],[0.8888888888888888,\"#fdca26\"],[1.0,\"#f0f921\"]]}],\"surface\":[{\"type\":\"surface\",\"colorbar\":{\"outlinewidth\":0,\"ticks\":\"\"},\"colorscale\":[[0.0,\"#0d0887\"],[0.1111111111111111,\"#46039f\"],[0.2222222222222222,\"#7201a8\"],[0.3333333333333333,\"#9c179e\"],[0.4444444444444444,\"#bd3786\"],[0.5555555555555556,\"#d8576b\"],[0.6666666666666666,\"#ed7953\"],[0.7777777777777778,\"#fb9f3a\"],[0.8888888888888888,\"#fdca26\"],[1.0,\"#f0f921\"]]}],\"mesh3d\":[{\"type\":\"mesh3d\",\"colorbar\":{\"outlinewidth\":0,\"ticks\":\"\"}}],\"scatter\":[{\"fillpattern\":{\"fillmode\":\"overlay\",\"size\":10,\"solidity\":0.2},\"type\":\"scatter\"}],\"parcoords\":[{\"type\":\"parcoords\",\"line\":{\"colorbar\":{\"outlinewidth\":0,\"ticks\":\"\"}}}],\"scatterpolargl\":[{\"type\":\"scatterpolargl\",\"marker\":{\"colorbar\":{\"outlinewidth\":0,\"ticks\":\"\"}}}],\"bar\":[{\"error_x\":{\"color\":\"#2a3f5f\"},\"error_y\":{\"color\":\"#2a3f5f\"},\"marker\":{\"line\":{\"color\":\"#E5ECF6\",\"width\":0.5},\"pattern\":{\"fillmode\":\"overlay\",\"size\":10,\"solidity\":0.2}},\"type\":\"bar\"}],\"scattergeo\":[{\"type\":\"scattergeo\",\"marker\":{\"colorbar\":{\"outlinewidth\":0,\"ticks\":\"\"}}}],\"scatterpolar\":[{\"type\":\"scatterpolar\",\"marker\":{\"colorbar\":{\"outlinewidth\":0,\"ticks\":\"\"}}}],\"histogram\":[{\"marker\":{\"pattern\":{\"fillmode\":\"overlay\",\"size\":10,\"solidity\":0.2}},\"type\":\"histogram\"}],\"scattergl\":[{\"type\":\"scattergl\",\"marker\":{\"colorbar\":{\"outlinewidth\":0,\"ticks\":\"\"}}}],\"scatter3d\":[{\"type\":\"scatter3d\",\"line\":{\"colorbar\":{\"outlinewidth\":0,\"ticks\":\"\"}},\"marker\":{\"colorbar\":{\"outlinewidth\":0,\"ticks\":\"\"}}}],\"scattermapbox\":[{\"type\":\"scattermapbox\",\"marker\":{\"colorbar\":{\"outlinewidth\":0,\"ticks\":\"\"}}}],\"scatterternary\":[{\"type\":\"scatterternary\",\"marker\":{\"colorbar\":{\"outlinewidth\":0,\"ticks\":\"\"}}}],\"scattercarpet\":[{\"type\":\"scattercarpet\",\"marker\":{\"colorbar\":{\"outlinewidth\":0,\"ticks\":\"\"}}}],\"carpet\":[{\"aaxis\":{\"endlinecolor\":\"#2a3f5f\",\"gridcolor\":\"white\",\"linecolor\":\"white\",\"minorgridcolor\":\"white\",\"startlinecolor\":\"#2a3f5f\"},\"baxis\":{\"endlinecolor\":\"#2a3f5f\",\"gridcolor\":\"white\",\"linecolor\":\"white\",\"minorgridcolor\":\"white\",\"startlinecolor\":\"#2a3f5f\"},\"type\":\"carpet\"}],\"table\":[{\"cells\":{\"fill\":{\"color\":\"#EBF0F8\"},\"line\":{\"color\":\"white\"}},\"header\":{\"fill\":{\"color\":\"#C8D4E3\"},\"line\":{\"color\":\"white\"}},\"type\":\"table\"}],\"barpolar\":[{\"marker\":{\"line\":{\"color\":\"#E5ECF6\",\"width\":0.5},\"pattern\":{\"fillmode\":\"overlay\",\"size\":10,\"solidity\":0.2}},\"type\":\"barpolar\"}],\"pie\":[{\"automargin\":true,\"type\":\"pie\"}]},\"layout\":{\"autotypenumbers\":\"strict\",\"colorway\":[\"#636efa\",\"#EF553B\",\"#00cc96\",\"#ab63fa\",\"#FFA15A\",\"#19d3f3\",\"#FF6692\",\"#B6E880\",\"#FF97FF\",\"#FECB52\"],\"font\":{\"color\":\"#2a3f5f\"},\"hovermode\":\"closest\",\"hoverlabel\":{\"align\":\"left\"},\"paper_bgcolor\":\"white\",\"plot_bgcolor\":\"#E5ECF6\",\"polar\":{\"bgcolor\":\"#E5ECF6\",\"angularaxis\":{\"gridcolor\":\"white\",\"linecolor\":\"white\",\"ticks\":\"\"},\"radialaxis\":{\"gridcolor\":\"white\",\"linecolor\":\"white\",\"ticks\":\"\"}},\"ternary\":{\"bgcolor\":\"#E5ECF6\",\"aaxis\":{\"gridcolor\":\"white\",\"linecolor\":\"white\",\"ticks\":\"\"},\"baxis\":{\"gridcolor\":\"white\",\"linecolor\":\"white\",\"ticks\":\"\"},\"caxis\":{\"gridcolor\":\"white\",\"linecolor\":\"white\",\"ticks\":\"\"}},\"coloraxis\":{\"colorbar\":{\"outlinewidth\":0,\"ticks\":\"\"}},\"colorscale\":{\"sequential\":[[0.0,\"#0d0887\"],[0.1111111111111111,\"#46039f\"],[0.2222222222222222,\"#7201a8\"],[0.3333333333333333,\"#9c179e\"],[0.4444444444444444,\"#bd3786\"],[0.5555555555555556,\"#d8576b\"],[0.6666666666666666,\"#ed7953\"],[0.7777777777777778,\"#fb9f3a\"],[0.8888888888888888,\"#fdca26\"],[1.0,\"#f0f921\"]],\"sequentialminus\":[[0.0,\"#0d0887\"],[0.1111111111111111,\"#46039f\"],[0.2222222222222222,\"#7201a8\"],[0.3333333333333333,\"#9c179e\"],[0.4444444444444444,\"#bd3786\"],[0.5555555555555556,\"#d8576b\"],[0.6666666666666666,\"#ed7953\"],[0.7777777777777778,\"#fb9f3a\"],[0.8888888888888888,\"#fdca26\"],[1.0,\"#f0f921\"]],\"diverging\":[[0,\"#8e0152\"],[0.1,\"#c51b7d\"],[0.2,\"#de77ae\"],[0.3,\"#f1b6da\"],[0.4,\"#fde0ef\"],[0.5,\"#f7f7f7\"],[0.6,\"#e6f5d0\"],[0.7,\"#b8e186\"],[0.8,\"#7fbc41\"],[0.9,\"#4d9221\"],[1,\"#276419\"]]},\"xaxis\":{\"gridcolor\":\"white\",\"linecolor\":\"white\",\"ticks\":\"\",\"title\":{\"standoff\":15},\"zerolinecolor\":\"white\",\"automargin\":true,\"zerolinewidth\":2},\"yaxis\":{\"gridcolor\":\"white\",\"linecolor\":\"white\",\"ticks\":\"\",\"title\":{\"standoff\":15},\"zerolinecolor\":\"white\",\"automargin\":true,\"zerolinewidth\":2},\"scene\":{\"xaxis\":{\"backgroundcolor\":\"#E5ECF6\",\"gridcolor\":\"white\",\"linecolor\":\"white\",\"showbackground\":true,\"ticks\":\"\",\"zerolinecolor\":\"white\",\"gridwidth\":2},\"yaxis\":{\"backgroundcolor\":\"#E5ECF6\",\"gridcolor\":\"white\",\"linecolor\":\"white\",\"showbackground\":true,\"ticks\":\"\",\"zerolinecolor\":\"white\",\"gridwidth\":2},\"zaxis\":{\"backgroundcolor\":\"#E5ECF6\",\"gridcolor\":\"white\",\"linecolor\":\"white\",\"showbackground\":true,\"ticks\":\"\",\"zerolinecolor\":\"white\",\"gridwidth\":2}},\"shapedefaults\":{\"line\":{\"color\":\"#2a3f5f\"}},\"annotationdefaults\":{\"arrowcolor\":\"#2a3f5f\",\"arrowhead\":0,\"arrowwidth\":1},\"geo\":{\"bgcolor\":\"white\",\"landcolor\":\"#E5ECF6\",\"subunitcolor\":\"white\",\"showland\":true,\"showlakes\":true,\"lakecolor\":\"white\"},\"title\":{\"x\":0.05},\"mapbox\":{\"style\":\"light\"}}},\"annotations\":[{\"font\":{\"size\":9},\"showarrow\":false,\"text\":\"95.5%\",\"x\":-0.18,\"y\":98.5},{\"font\":{\"size\":10},\"showarrow\":false,\"text\":\"\\u003cb\\u003eDefault\\u003c\\u002fb\\u003e\",\"textangle\":-90,\"x\":-0.18,\"y\":107.5},{\"font\":{\"size\":9},\"showarrow\":false,\"text\":\"34.7%\",\"x\":0.18,\"y\":37.699999999999996},{\"font\":{\"size\":10},\"showarrow\":false,\"text\":\"\\u003cb\\u003eJailbreak\\u003c\\u002fb\\u003e\",\"textangle\":-90,\"x\":0.18,\"y\":47.699999999999996},{\"font\":{\"size\":9},\"showarrow\":false,\"text\":\"97.4%\",\"x\":0.8200000000000001,\"y\":100.39999999999999},{\"font\":{\"size\":10},\"showarrow\":false,\"text\":\"\\u003cb\\u003eDefault\\u003c\\u002fb\\u003e\",\"textangle\":-90,\"x\":0.8200000000000001,\"y\":109.39999999999999},{\"font\":{\"size\":9},\"showarrow\":false,\"text\":\"53.2%\",\"x\":1.18,\"y\":56.2},{\"font\":{\"size\":10},\"showarrow\":false,\"text\":\"\\u003cb\\u003eJailbreak\\u003c\\u002fb\\u003e\",\"textangle\":-90,\"x\":1.18,\"y\":66.2},{\"font\":{\"size\":9},\"showarrow\":false,\"text\":\"97.8%\",\"x\":1.82,\"y\":100.80000000000001},{\"font\":{\"size\":10},\"showarrow\":false,\"text\":\"\\u003cb\\u003eDefault\\u003c\\u002fb\\u003e\",\"textangle\":-90,\"x\":1.82,\"y\":109.80000000000001},{\"font\":{\"size\":9},\"showarrow\":false,\"text\":\"55.4%\",\"x\":2.18,\"y\":58.4},{\"font\":{\"size\":10},\"showarrow\":false,\"text\":\"\\u003cb\\u003eJailbreak\\u003c\\u002fb\\u003e\",\"textangle\":-90,\"x\":2.18,\"y\":68.4},{\"font\":{\"size\":9},\"showarrow\":false,\"text\":\"97.8%\",\"x\":2.82,\"y\":100.80000000000001},{\"font\":{\"size\":10},\"showarrow\":false,\"text\":\"\\u003cb\\u003eDefault\\u003c\\u002fb\\u003e\",\"textangle\":-90,\"x\":2.82,\"y\":109.80000000000001},{\"font\":{\"size\":9},\"showarrow\":false,\"text\":\"57.9%\",\"x\":3.18,\"y\":60.9},{\"font\":{\"size\":10},\"showarrow\":false,\"text\":\"\\u003cb\\u003eJailbreak\\u003c\\u002fb\\u003e\",\"textangle\":-90,\"x\":3.18,\"y\":70.9},{\"font\":{\"size\":9},\"showarrow\":false,\"text\":\"98.2%\",\"x\":3.82,\"y\":101.19999999999999},{\"font\":{\"size\":10},\"showarrow\":false,\"text\":\"\\u003cb\\u003eDefault\\u003c\\u002fb\\u003e\",\"textangle\":-90,\"x\":3.82,\"y\":110.19999999999999},{\"font\":{\"size\":9},\"showarrow\":false,\"text\":\"62.3%\",\"x\":4.18,\"y\":65.29999999999998},{\"font\":{\"size\":10},\"showarrow\":false,\"text\":\"\\u003cb\\u003eJailbreak\\u003c\\u002fb\\u003e\",\"textangle\":-90,\"x\":4.18,\"y\":75.29999999999998},{\"font\":{\"size\":9},\"showarrow\":false,\"text\":\"98.2%\",\"x\":4.82,\"y\":101.19999999999999},{\"font\":{\"size\":10},\"showarrow\":false,\"text\":\"\\u003cb\\u003eDefault\\u003c\\u002fb\\u003e\",\"textangle\":-90,\"x\":4.82,\"y\":110.19999999999999},{\"font\":{\"size\":9},\"showarrow\":false,\"text\":\"71.7%\",\"x\":5.18,\"y\":74.7},{\"font\":{\"size\":10},\"showarrow\":false,\"text\":\"\\u003cb\\u003eJailbreak\\u003c\\u002fb\\u003e\",\"textangle\":-90,\"x\":5.18,\"y\":84.7},{\"font\":{\"size\":9},\"showarrow\":false,\"text\":\"98.0%\",\"x\":5.82,\"y\":100.99999999999999},{\"font\":{\"size\":10},\"showarrow\":false,\"text\":\"\\u003cb\\u003eDefault\\u003c\\u002fb\\u003e\",\"textangle\":-90,\"x\":5.82,\"y\":109.99999999999999},{\"font\":{\"size\":9},\"showarrow\":false,\"text\":\"79.4%\",\"x\":6.18,\"y\":82.4},{\"font\":{\"size\":10},\"showarrow\":false,\"text\":\"\\u003cb\\u003eJailbreak\\u003c\\u002fb\\u003e\",\"textangle\":-90,\"x\":6.18,\"y\":92.4},{\"font\":{\"size\":9},\"showarrow\":false,\"text\":\"98.6%\",\"x\":6.82,\"y\":101.60000000000001},{\"font\":{\"size\":10},\"showarrow\":false,\"text\":\"\\u003cb\\u003eDefault\\u003c\\u002fb\\u003e\",\"textangle\":-90,\"x\":6.82,\"y\":110.60000000000001},{\"font\":{\"size\":9},\"showarrow\":false,\"text\":\"85.0%\",\"x\":7.18,\"y\":88.0},{\"font\":{\"size\":10},\"showarrow\":false,\"text\":\"\\u003cb\\u003eJailbreak\\u003c\\u002fb\\u003e\",\"textangle\":-90,\"x\":7.18,\"y\":98.0},{\"font\":{\"size\":9},\"showarrow\":false,\"text\":\"99.8%\",\"x\":7.82,\"y\":102.80000000000001},{\"font\":{\"size\":10},\"showarrow\":false,\"text\":\"\\u003cb\\u003eDefault\\u003c\\u002fb\\u003e\",\"textangle\":-90,\"x\":7.82,\"y\":111.80000000000001},{\"font\":{\"size\":9},\"showarrow\":false,\"text\":\"91.3%\",\"x\":8.18,\"y\":94.3},{\"font\":{\"size\":10},\"showarrow\":false,\"text\":\"\\u003cb\\u003eJailbreak\\u003c\\u002fb\\u003e\",\"textangle\":-90,\"x\":8.18,\"y\":104.3}],\"title\":{\"subtitle\":{\"text\":\"Llama 3.3 70B, Layer 40\"},\"text\":\"Other Responses with Persona-based Jailbreaks when Steered Towards the Assistant\"},\"xaxis\":{\"title\":{\"text\":\"Role-playing PC1 Steering Magnitude\"},\"tickmode\":\"array\",\"tickvals\":[0,1,2,3,4,5,6,7,8],\"ticktext\":[\"Unsteered\",\"3.0\",\"6.0\",\"9.0\",\"12.0\",\"15.0\",\"18.0\",\"21.0\",\"24.0\"],\"showgrid\":true,\"gridcolor\":\"lightgray\",\"range\":[-0.8,8.8]},\"yaxis\":{\"title\":{\"text\":\"Percentage of Responses\"},\"range\":[0,119],\"showgrid\":true,\"gridcolor\":\"lightgray\"},\"legend\":{\"orientation\":\"h\",\"y\":1.02,\"x\":1.0,\"xanchor\":\"right\",\"yanchor\":\"bottom\"},\"barmode\":\"stack\",\"width\":1100,\"height\":600,\"bargap\":0.25},                        {\"responsive\": true}                    ).then(function(){\n",
       "                            \n",
       "var gd = document.getElementById('c0521a56-3c37-47a8-bf19-e598b545767e');\n",
       "var x = new MutationObserver(function (mutations, observer) {{\n",
       "        var display = window.getComputedStyle(gd).display;\n",
       "        if (!display || display === 'none') {{\n",
       "            console.log([gd, 'removed!']);\n",
       "            Plotly.purge(gd);\n",
       "            observer.disconnect();\n",
       "        }}\n",
       "}});\n",
       "\n",
       "// Listen for the removal of the full notebook cells\n",
       "var notebookContainer = gd.closest('#notebook-container');\n",
       "if (notebookContainer) {{\n",
       "    x.observe(notebookContainer, {childList: true});\n",
       "}}\n",
       "\n",
       "// Listen for the clearing of the current output cell\n",
       "var outputEl = gd.closest('.output');\n",
       "if (outputEl) {{\n",
       "    x.observe(outputEl, {childList: true});\n",
       "}}\n",
       "\n",
       "                        })                };                });            </script>        </div>"
      ]
     },
     "metadata": {},
     "output_type": "display_data"
    }
   ],
   "source": [
    "# order & positions\n",
    "centers = np.arange(len(magnitudes))\n",
    "dx = 0.18\n",
    "x_nojb = centers - dx\n",
    "x_jb   = centers + dx\n",
    "BAR_WIDTH = 0.34\n",
    "\n",
    "# Helper: pivot arrays (rows=magnitudes, cols=[No JB, JB]) for a given label\n",
    "def pivot_pct_other(df, label):\n",
    "    tbl = (df[df[\"score_label\"]==label]\n",
    "           .pivot_table(index=\"magnitude\", columns=\"jailbreak\",\n",
    "                        values=\"pct\", aggfunc=\"first\", fill_value=0.0)\n",
    "           .reindex(index=magnitudes, columns=[\"No Jailbreak\",\"Jailbreak\"], fill_value=0.0))\n",
    "    return tbl.values\n",
    "\n",
    "def pivot_counts_other(df, label, which=\"count\"):\n",
    "    tbl = (df[df[\"score_label\"]==label]\n",
    "           .pivot_table(index=\"magnitude\", columns=\"jailbreak\",\n",
    "                        values=which, aggfunc=\"first\", fill_value=0)\n",
    "           .reindex(index=magnitudes, columns=[\"No Jailbreak\",\"Jailbreak\"], fill_value=0))\n",
    "    return tbl.values\n",
    "\n",
    "# Build arrays for every \"other\" label\n",
    "Y_map, C_map, T_map = {}, {}, {}\n",
    "for lab in OTHER_LABELS:\n",
    "    Y_map[lab] = pivot_pct_other(tidy_other, lab)\n",
    "    C_map[lab] = pivot_counts_other(tidy_other, lab, \"count\")\n",
    "    T_map[lab] = pivot_counts_other(tidy_other, lab, \"total\")\n",
    "\n",
    "fig_other = go.Figure()\n",
    "\n",
    "# Left bar (No JB): stack all OTHER_LABELS\n",
    "for lab in OTHER_LABELS:\n",
    "    Y = Y_map[lab]\n",
    "    C = C_map[lab]\n",
    "    T = T_map[lab]\n",
    "    fig_other.add_trace(go.Bar(\n",
    "        x=x_nojb, y=Y[:, 0],\n",
    "        name=other_label_map[lab],\n",
    "        legendgroup=other_label_map[lab],\n",
    "        marker_color=other_colors[lab],\n",
    "        width=BAR_WIDTH,\n",
    "        # text=[f\"{v:.1f}%\" if v >= 7.0 else \"\" for v in Y[:, 0]],\n",
    "        # textposition=\"inside\",\n",
    "        cliponaxis=False,\n",
    "        hovertemplate=(\"Magnitude: %{customdata[2]}<br>\"\n",
    "                       \"No Jailbreak — \"+other_label_map[lab]+\"<br>\"\n",
    "                       \"Pct: %{y:.1f}%<br>\"\n",
    "                       \"Count: %{customdata[0]} / %{customdata[1]}<extra></extra>\"),\n",
    "        customdata=np.column_stack([C[:, 0], T[:, 0], magnitudes]),\n",
    "    ))\n",
    "\n",
    "# Right bar (JB): stack all OTHER_LABELS (hide duplicate legend items)\n",
    "for lab in OTHER_LABELS:\n",
    "    Y = Y_map[lab]\n",
    "    C = C_map[lab]\n",
    "    T = T_map[lab]\n",
    "    fig_other.add_trace(go.Bar(\n",
    "        x=x_jb, y=Y[:, 1],\n",
    "        name=None, showlegend=False, legendgroup=other_label_map[lab],\n",
    "        marker_color=other_colors[lab],\n",
    "        width=BAR_WIDTH,\n",
    "        # text=[f\"{v:.1f}%\" if v >= 7.0 else \"\" for v in Y[:, 1]],\n",
    "        # textposition=\"inside\",\n",
    "        cliponaxis=False,\n",
    "        hovertemplate=(\"Magnitude: %{customdata[2]}<br>\"\n",
    "                       \"Jailbreak — \"+other_label_map[lab]+\"<br>\"\n",
    "                       \"Pct: %{y:.1f}%<br>\"\n",
    "                       \"Count: %{customdata[0]} / %{customdata[1]}<extra></extra>\"),\n",
    "        customdata=np.column_stack([C[:, 1], T[:, 1], magnitudes]),\n",
    "    ))\n",
    "\n",
    "# Annotations with sum percentages above each stacked pair\n",
    "tops_nojb = sum(Y_map[lab][:, 0] for lab in OTHER_LABELS)\n",
    "tops_jb   = sum(Y_map[lab][:, 1] for lab in OTHER_LABELS)\n",
    "for i in range(len(magnitudes)):\n",
    "    if tops_nojb[i] > 0:\n",
    "        fig_other.add_annotation(x=x_nojb[i], y=tops_nojb[i] + 3,\n",
    "                                 text=f\"{tops_nojb[i]:.1f}%\", showarrow=False, font=dict(size=9))\n",
    "        fig_other.add_annotation(x=x_nojb[i], y=tops_nojb[i] + 12,\n",
    "                                 text=\"<b>Default</b>\", showarrow=False, font=dict(size=10), textangle=270)\n",
    "    if tops_jb[i] > 0:\n",
    "        fig_other.add_annotation(x=x_jb[i], y=tops_jb[i] + 3,\n",
    "                                 text=f\"{tops_jb[i]:.1f}%\", showarrow=False, font=dict(size=9))\n",
    "        fig_other.add_annotation(x=x_jb[i], y=tops_jb[i] + 13,\n",
    "                                 text=\"<b>Jailbreak</b>\", showarrow=False, font=dict(size=10), textangle=270)\n",
    "\n",
    "fig_other.update_layout(\n",
    "    barmode=\"stack\",\n",
    "    width=1100, height=600,\n",
    "    title={\n",
    "        \"text\": \"Other Responses with Persona-based Jailbreaks when Steered Towards the Assistant\",\n",
    "        \"subtitle\": {\n",
    "            \"text\": subtitle,\n",
    "        }\n",
    "    },\n",
    "    xaxis=dict(\n",
    "        title=\"Role-playing PC1 Steering Magnitude\",\n",
    "        tickmode=\"array\",\n",
    "        tickvals=centers,\n",
    "        ticktext=[str(m) for m in [\"Unsteered\"] + magnitudes[1:]],\n",
    "        showgrid=True, gridcolor=\"lightgray\",\n",
    "        range=[centers.min()-0.8, centers.max()+0.8],\n",
    "    ),\n",
    "    yaxis=dict(\n",
    "        title=\"Percentage of Responses\",\n",
    "        range=[0, 119],\n",
    "        showgrid=True, gridcolor=\"lightgray\"\n",
    "    ),\n",
    "    legend=dict(\n",
    "        orientation=\"h\", y=1.02, x=1.0, xanchor=\"right\", yanchor=\"bottom\"\n",
    "    ),\n",
    "    bargap=0.25,\n",
    ")\n",
    "\n",
    "fig_other.show()\n",
    "fig_other.write_html(f\"{out_dir}/jailbreak_other.html\")"
   ]
  },
  {
   "cell_type": "code",
   "execution_count": null,
   "id": "b6c119b0",
   "metadata": {},
   "outputs": [],
   "source": []
  }
 ],
 "metadata": {
  "kernelspec": {
   "display_name": ".venv",
   "language": "python",
   "name": "python3"
  },
  "language_info": {
   "codemirror_mode": {
    "name": "ipython",
    "version": 3
   },
   "file_extension": ".py",
   "mimetype": "text/x-python",
   "name": "python",
   "nbconvert_exporter": "python",
   "pygments_lexer": "ipython3",
   "version": "3.13.5"
  }
 },
 "nbformat": 4,
 "nbformat_minor": 5
}
