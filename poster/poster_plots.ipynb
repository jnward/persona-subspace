{
 "cells": [
  {
   "cell_type": "markdown",
   "id": "b93b11a6",
   "metadata": {},
   "source": [
    "# Plots for poster"
   ]
  },
  {
   "cell_type": "code",
   "execution_count": 2,
   "id": "a288bb68",
   "metadata": {},
   "outputs": [],
   "source": [
    "import os\n",
    "import torch\n",
    "import matplotlib.pyplot as plt\n",
    "import seaborn as sns\n",
    "import numpy as np\n",
    "import torch.nn.functional as F\n"
   ]
  },
  {
   "cell_type": "code",
   "execution_count": 3,
   "id": "25ea87c4",
   "metadata": {},
   "outputs": [],
   "source": [
    "# config\n",
    "type = \"pos23\" # either pos23 or pos3\n",
    "dir = \"roles_240\" # either roles or roles_240\n",
    "layer = 22 # either layer 22 or 34\n"
   ]
  },
  {
   "cell_type": "code",
   "execution_count": 4,
   "id": "6d2a67ea",
   "metadata": {},
   "outputs": [],
   "source": [
    "\n",
    "# load in PCs\n",
    "pca_results = torch.load(f\"/workspace/{dir}/pca/layer{layer}_{type}.pt\", weights_only=False)\n",
    "default_vectors = torch.load(f\"/workspace/{dir}/default_vectors.pt\")\n"
   ]
  },
  {
   "cell_type": "code",
   "execution_count": null,
   "id": "7635fbe8",
   "metadata": {},
   "outputs": [],
   "source": [
    "output_dir = \"./results/gemma-2-27b\"\n",
    "os.makedirs(output_dir, exist_ok=True)\n",
    "\n",
    "subtitle = f\"Gemma 2 27B, Layer {layer}\""
   ]
  },
  {
   "cell_type": "markdown",
   "id": "43c313cf",
   "metadata": {},
   "source": [
    "## Plot 1: Role PC1"
   ]
  },
  {
   "cell_type": "code",
   "execution_count": 6,
   "id": "023ac32b",
   "metadata": {},
   "outputs": [],
   "source": [
    "# also calculate role labels for plotting\n",
    "def get_role_labels(pca_results, type):\n",
    "    if 'pos_2' in pca_results['roles'].keys():\n",
    "        pos_2_roles = [role.replace('_', ' ').title() for role in pca_results['roles']['pos_2']]\n",
    "        pos_2_roles = [f\"{role} (Somewhat RP)\" for role in pos_2_roles]\n",
    "    \n",
    "    if 'pos_3' in pca_results['roles'].keys():\n",
    "        pos_3_roles = [role.replace('_', ' ').title() for role in pca_results['roles']['pos_3']]\n",
    "        if type == \"pos23\":\n",
    "            pos_3_roles = [f\"{role} (Fully RP)\" for role in pos_3_roles]\n",
    "    \n",
    "    if type == \"pos23\":\n",
    "        combined_role_labels = pos_2_roles + pos_3_roles\n",
    "    elif type == \"pos3\":\n",
    "        combined_role_labels = pos_3_roles\n",
    "\n",
    "    return combined_role_labels\n",
    "\n",
    "role_labels = get_role_labels(pca_results, type)\n",
    "\n"
   ]
  },
  {
   "cell_type": "code",
   "execution_count": 7,
   "id": "fbca0474",
   "metadata": {},
   "outputs": [],
   "source": [
    "vectors = pca_results['vectors']['pos_2'] + pca_results['vectors']['pos_3']\n",
    "vectors = torch.stack(vectors)[:, layer, :].float().numpy()\n",
    "vectors = pca_results['scaler'].transform(vectors)\n",
    "vectors = vectors / np.linalg.norm(vectors, axis=1, keepdims=True)"
   ]
  },
  {
   "cell_type": "code",
   "execution_count": 8,
   "id": "15c94f08",
   "metadata": {},
   "outputs": [],
   "source": [
    "pc_direction = pca_results['pca'].components_[0] / np.linalg.norm(pca_results['pca'].components_[0])\n",
    "cosine_sims = vectors @ pc_direction.T\n"
   ]
  },
  {
   "cell_type": "code",
   "execution_count": 9,
   "id": "dca6e1ec",
   "metadata": {},
   "outputs": [
    {
     "name": "stdout",
     "output_type": "stream",
     "text": [
      "(448,)\n",
      "[-6.75968997e-01  2.04539289e-01 -6.66176133e-01 -1.18500740e-01\n",
      " -3.51472022e-01 -5.93708677e-01 -5.15294672e-04 -5.47321859e-01\n",
      " -3.77961619e-01 -7.75402513e-01]\n"
     ]
    }
   ],
   "source": [
    "print(cosine_sims.shape)\n",
    "print(cosine_sims[:10])"
   ]
  },
  {
   "cell_type": "code",
   "execution_count": 35,
   "id": "539440d4",
   "metadata": {},
   "outputs": [],
   "source": [
    "# get default activation and project into PCA space\n",
    "assistant_layer_activation = default_vectors['activations']['default_1'][layer, :].float().numpy().reshape(1, -1)\n",
    "asst_scaled = pca_results['scaler'].transform(assistant_layer_activation)\n",
    "asst_scaled_norm = asst_scaled / np.linalg.norm(asst_scaled)\n",
    "asst_cosine_sim = asst_scaled_norm @ pc_direction.T\n",
    "\n",
    "asst_projected = pca_results['pca'].transform(asst_scaled)\n"
   ]
  },
  {
   "cell_type": "code",
   "execution_count": null,
   "id": "dbc23bba",
   "metadata": {},
   "outputs": [],
   "source": "def plot_pc1_role_asst(cosine_similarities, pca_results, role_labels, \n                              assistant_cosine_sim=None, layer=None, figsize=(16, 8), \n                              show_histogram=False, subtitle=None):\n    \"\"\"\n    Create a poster-optimized projection plot with clear labeling of extremes.\n    \n    Parameters:\n    - cosine_similarities: array of cosine similarity values to plot\n    - pca_results: dict with 'vectors' containing 'pos_2' and 'pos_3' for role type detection\n    - role_labels: list of role names\n    - assistant_cosine_sim: optional scalar cosine similarity value for assistant\n    - layer: layer number for title\n    - figsize: figure size tuple\n    - show_histogram: whether to include histogram subplot\n    - subtitle: optional subtitle text to display below main title\n    \"\"\"\n    \n    # Set poster-friendly style\n    plt.style.use('default')\n    sns.set_palette(\"colorblind\")\n    \n    # Configure for poster readability\n    plt.rcParams.update({\n        'font.size': 18,\n        'axes.titlesize': 24,\n        'axes.labelsize': 20,\n        'xtick.labelsize': 16,\n        'ytick.labelsize': 16,\n        'legend.fontsize': 16,\n        'lines.linewidth': 3,\n        'axes.linewidth': 2,\n        'grid.linewidth': 1.5,\n        'patch.linewidth': 2\n    })\n    \n    # Use cosine similarities directly as projections\n    projections = cosine_similarities\n    \n    # Determine colors and markers based on role types using pca_results vectors\n    has_pos2 = 'pos_2' in pca_results.get('vectors', {})\n    if has_pos2:\n        n_pos_2 = len(pca_results['vectors']['pos_2'])\n    \n    # Create figure\n    fig, ax1 = plt.subplots(1, 1, figsize=figsize)\n    \n    # Main plot: scatter along x-axis only (y=0)\n    y_pos = np.zeros_like(projections)  # All points at y=0\n    \n    # Store legend elements\n    legend_elements = []\n    \n    if has_pos2:\n        # Plot each type separately \n        n_pos_2 = len(pca_results['vectors']['pos_2'])\n        \n        # Plot fully role-playing FIRST (so they're underneath)\n        ax1.scatter(projections[n_pos_2:], y_pos[n_pos_2:], \n                   c='#0000ff', marker='s', s=120, alpha=0.8,\n                   edgecolors='black', linewidth=1.5, zorder=2)\n        \n        # Plot somewhat role-playing SECOND (so they're on top)\n        ax1.scatter(projections[:n_pos_2], y_pos[:n_pos_2], \n                   c='#00ffff', marker='o', s=120, alpha=0.8, \n                   edgecolors='black', linewidth=1.5, zorder=3)\n        \n        # Add legend elements\n        legend_elements = [\n            plt.scatter([], [], c='#00ffff', marker='o', s=120, alpha=0.8,\n                       edgecolors='black', linewidth=1.5, label='Somewhat Role-playing'),\n            plt.scatter([], [], c='#0000ff', marker='s', s=120, alpha=0.8,\n                       edgecolors='black', linewidth=1.5, label='Fully Role-playing')\n        ]\n    else:\n        ax1.scatter(projections, y_pos, c='#0000ff', marker='o', s=120, \n                   alpha=0.8, edgecolors='black', linewidth=1.5, zorder=3)\n        \n        # Add legend element\n        legend_elements = [\n            plt.scatter([], [], c='#0000ff', marker='o', s=120, alpha=0.8,\n                       edgecolors='black', linewidth=1.5, label='Roles')\n        ]\n    \n    # Add Assistant position if provided\n    if assistant_cosine_sim is not None:\n        # Add vertical line at assistant position\n        ax1.axvline(x=assistant_cosine_sim, color='red', linestyle='--', \n                   linewidth=3, alpha=0.9, zorder=2)\n        \n        # Highlight the assistant point with different styling\n        ax1.scatter([assistant_cosine_sim], [0], c='red', marker='*', s=300, \n                   alpha=1.0, edgecolors='darkred', linewidth=2, zorder=4)\n        \n        # Add assistant text label\n        ax1.text(assistant_cosine_sim, 0.6, 'Assistant', \n                ha='center', va='bottom', fontsize=16, fontweight='bold',\n                color='red', bbox=dict(boxstyle=\"square,pad=0.3\", facecolor='white', \n                edgecolor='red', alpha=0.9))\n        \n        # Add assistant to legend\n        legend_elements.append(\n            plt.scatter([], [], c='red', marker='*', s=300, alpha=1.0,\n                       edgecolors='darkred', linewidth=2, label='Assistant')\n        )\n\n    # Add histogram overlay on the same plot\n    if show_histogram:\n        # Create histogram data\n        hist_counts, bin_edges = np.histogram(projections, bins=30, density=True)\n        bin_centers = (bin_edges[:-1] + bin_edges[1:]) / 2\n        bin_width = bin_edges[1] - bin_edges[0]\n        \n        # Scale histogram heights to fit nicely (adjust scale factor as needed)\n        hist_scale = 0.15  # This controls how tall the histogram bars are\n        scaled_heights = hist_counts * hist_scale\n        \n        # Plot histogram bars with transparency\n        if has_pos2:\n            # For two types, create separate histograms\n            n_pos_2 = len(pca_results['vectors']['pos_2'])\n            hist1, _ = np.histogram(projections[:n_pos_2], bins=bin_edges, density=True)\n            hist2, _ = np.histogram(projections[n_pos_2:], bins=bin_edges, density=True)\n            \n            # Plot stacked bars\n            ax1.bar(bin_centers, hist1 * hist_scale, width=bin_width, \n                alpha=0.4, color='#00ffff', edgecolor='none', zorder=1)\n            ax1.bar(bin_centers, hist2 * hist_scale, width=bin_width, \n                bottom=hist1 * hist_scale, alpha=0.4, color='#0000ff', \n                edgecolor='none', zorder=1)\n        else:\n            ax1.bar(bin_centers, scaled_heights, width=bin_width, \n                alpha=0.3, color='lightblue', edgecolor='none', zorder=1)\n        \n        # Update y-limits to accommodate histogram\n        ax1.set_ylim(-0.6, max(0.6, scaled_heights.max() + 0.1))\n    \n    # Identify and label extremes (no need to exclude assistant since it's separate)\n    sorted_indices = np.argsort(projections)\n    low_extreme_indices = sorted_indices[:10]\n    high_extreme_indices = sorted_indices[-10:]\n    extreme_indices = list(low_extreme_indices) + list(high_extreme_indices)\n    \n    # Create more varied y-positions for labels to avoid overlap\n    label_y_positions = []\n    # Positions above and below the x-axis\n    high_positions = [0.45, 0.25, 0.35, 0.4, 0.3, 0.45, 0.25, 0.35, 0.4, 0.3]\n    low_positions = [-0.25, -0.45, -0.35, -0.4, -0.3, -0.25, -0.45, -0.35, -0.4, -0.3]\n    \n    # Alternate high-low pattern for all extremes\n    total_extremes = len(extreme_indices)\n    for i in range(total_extremes):\n        if i % 2 == 0:\n            label_y_positions.append(high_positions[i // 2])\n        else:\n            label_y_positions.append(low_positions[i // 2])\n    \n    # Add labels for extremes\n    for i, idx in enumerate(extreme_indices):\n        label = role_labels[idx].replace(\" (Somewhat RP)\", \"\").replace(\" (Fully RP)\", \"\")\n        x_pos = projections[idx]\n        y_label = label_y_positions[i]\n        \n        # Draw leader line\n        ax1.plot([x_pos, x_pos], [0.0, y_label], 'k-', alpha=0.7, linewidth=1.5, zorder=1)\n        \n        # Add text label with background box\n        text = ax1.text(x_pos, y_label, label, ha='center', va='center', \n                       fontsize=12, fontweight='bold', zorder=4)\n        \n        # Add white background with border (square instead of rounded)\n        text.set_bbox(dict(boxstyle=\"square,pad=0.4\", facecolor='white', \n                          edgecolor='black', alpha=0.9, linewidth=1))\n    \n    # Remove all spines (box around plot) except x-axis\n    ax1.spines['top'].set_visible(False)\n    ax1.spines['right'].set_visible(False)\n    ax1.spines['left'].set_visible(False)\n    \n    # Keep x-axis spine and make it cross-like\n    ax1.spines['bottom'].set_position('zero')\n    ax1.axhline(y=0, color='black', linestyle='-', linewidth=2, zorder=1)\n    \n    # Customize tick parameters\n    ax1.tick_params(axis='x', length=12, width=1.5, pad=10)  # Shorter ticks, more padding\n    ax1.tick_params(axis='y', length=0, width=0)  # Remove y-axis ticks completely\n    \n    # Remove grid lines\n    ax1.grid(False)\n    ax1.set_ylim(-0.6, 0.6)\n    \n    # Set symmetric x-axis range\n    max_abs = max(abs(projections.min()), abs(projections.max()))\n    ax1.set_xlim(-max_abs * 1.1, max_abs * 1.1)\n    \n    ax1.set_ylabel('')\n    ax1.set_yticks([])\n    \n    # Add legend\n    ax1.legend(handles=legend_elements, loc='lower center', frameon=True, \n              fancybox=False, shadow=False, framealpha=0.9, \n              facecolor='white', edgecolor='black', fontsize=16)\n    \n    # Title with optional subtitle\n    title = \"Role Vector Cosine Similarity with Role PC1\"\n    if subtitle:\n        title += f\"\\n{subtitle}\"\n    ax1.set_title(title, fontweight='bold', pad=20)\n    \n    plt.tight_layout()\n    return fig\n\n# Example usage:\nfig = plot_pc1_role_asst(cosine_sims, pca_results, role_labels, \n                        assistant_cosine_sim=asst_cosine_sim, layer=22, show_histogram=True, subtitle=subtitle)\nplt.savefig(os.path.join(output_dir, \"role_pc1_cosine_sim.png\"), dpi=300, bbox_inches='tight')\nplt.show()"
  },
  {
   "cell_type": "markdown",
   "id": "97433bdf",
   "metadata": {},
   "source": [
    "## Role PC1 vs other PCs"
   ]
  },
  {
   "cell_type": "code",
   "execution_count": 30,
   "id": "4fec8eff",
   "metadata": {},
   "outputs": [
    {
     "name": "stdout",
     "output_type": "stream",
     "text": [
      "(448, 448)\n"
     ]
    }
   ],
   "source": [
    "pca_transformed = pca_results['pca_transformed']\n",
    "print(pca_transformed.shape) # samples, components\n",
    "\n",
    "# each column is the component"
   ]
  },
  {
   "cell_type": "code",
   "execution_count": null,
   "id": "aff17dec",
   "metadata": {},
   "outputs": [],
   "source": "def plot_pc1_vs_others_poster(pca_transformed, asst_projected, role_labels, \n                             figsize=(20, 12), subtitle=None):\n    \"\"\"\n    Create a poster-optimized 2x3 scatter plot showing PC1 vs PC2-7.\n    \n    Parameters:\n    - pca_transformed: PCA-transformed data array\n    - asst_projected: Assistant projection array  \n    - role_labels: list of role names\n    - figsize: figure size tuple\n    - subtitle: optional subtitle text to display below main title\n    \"\"\"\n    \n    # Set poster-friendly style\n    plt.style.use('default')\n    sns.set_palette(\"colorblind\")\n    \n    # Configure for poster readability\n    plt.rcParams.update({\n        'font.size': 16,\n        'axes.titlesize': 18,\n        'axes.labelsize': 16,\n        'xtick.labelsize': 14,\n        'ytick.labelsize': 14,\n        'legend.fontsize': 16,\n        'lines.linewidth': 2,\n        'axes.linewidth': 2,\n        'grid.linewidth': 1\n    })\n    \n    # PC interpretations\n    pc_names = [\n        \"Assistant-like ↔ Role-Playing\", \n        \"Inhuman ↔ Human\", \n        \"High ↔ Low Agency\", \n        \"Psychologically Simple ↔ Complex\", \n        \"Supportive ↔ Competitive\", \n        \"Innocent ↔ Jaded\", \n        \"Playful ↔ Rigid\"\n    ]\n    \n    # Separate data by role type\n    fully_rp_indices = []\n    somewhat_rp_indices = []\n    \n    for i, label in enumerate(role_labels):\n        if \"(Fully RP)\" in label:\n            fully_rp_indices.append(i)\n        elif \"(Somewhat RP)\" in label or \"Somewhat RP\" in label:\n            somewhat_rp_indices.append(i)\n        else:\n            fully_rp_indices.append(i)  # default\n    \n    # PC1 values for x-axis\n    pc1_values = pca_transformed[:, 0]\n    \n    # Calculate consistent y-axis range for all PC2-7\n    y_values_all = pca_transformed[:, 1:7]  # PC2-7\n    y_max = np.max(np.abs(y_values_all))\n    y_range = [-y_max * 1.1, y_max * 1.1]  # Add 10% padding, symmetric around 0\n    \n    # Calculate consistent x-axis range\n    x_max = np.max(np.abs(pc1_values))\n    x_range = [-x_max * 1.1, x_max * 1.1]\n    \n    # Create 2x3 subplot grid\n    fig, axes = plt.subplots(2, 3, figsize=figsize)\n    \n    # Create main title with optional subtitle\n    main_title = 'PC1 of Role Vectors Compared to Other PCs'\n    if subtitle:\n        main_title += f'\\n{subtitle}'\n    fig.suptitle(main_title, fontsize=24, fontweight='bold', y=0.98)\n    \n\n    \n    # Create scatter plots for PC2-7 vs PC1\n    for i in range(6):  # PC2 to PC7\n        pc_idx = i + 1  # PC2 starts at index 1\n        row = i // 3\n        col = i % 3\n        ax = axes[row, col]\n        \n        pc_values = pca_transformed[:, pc_idx]\n        \n        # Add Fully Role-Playing points (plot first so they're underneath)\n        if fully_rp_indices:\n            ax.scatter(pc1_values[fully_rp_indices], pc_values[fully_rp_indices],\n                      c='#0000ff', marker='s', s=60, alpha=0.7, \n                      edgecolors='black', linewidth=0.5,\n                      label='Fully Role-Playing' if i == 0 else \"\")\n        \n        # Add Somewhat Role-Playing points (plot second so they're on top)\n        if somewhat_rp_indices:\n            ax.scatter(pc1_values[somewhat_rp_indices], pc_values[somewhat_rp_indices],\n                      c='#00ffff', marker='o', s=60, alpha=0.7,\n                      edgecolors='black', linewidth=0.5,\n                      label='Somewhat Role-Playing' if i == 0 else \"\")\n        \n        # Add Assistant projection point\n        ax.scatter(asst_projected[0, 0], asst_projected[0, pc_idx],\n                  c='red', marker='*', s=200, alpha=1.0,\n                  edgecolors='darkred', linewidth=1,\n                  label='Assistant' if i == 0 else \"\", zorder=5)\n        \n        # Styling\n        # ax.grid(True, alpha=0.3)\n        # ax.axhline(y=0, color='gray', linestyle='-', alpha=0.5, linewidth=1)\n        # ax.axvline(x=0, color='gray', linestyle='-', alpha=0.5, linewidth=1)\n        \n        # Set ranges\n        ax.set_xlim(x_range)\n        ax.set_ylim(y_range)\n        \n        # Labels\n        ax.set_xlabel('PC1', fontweight='bold')\n        ax.set_ylabel(f'PC{pc_idx + 1}', fontweight='bold')\n        \n        # Title with PC interpretation\n        title = f'PC1 vs. PC{pc_idx + 1}'\n        subtitle_text = f'({pc_names[pc_idx]})'\n        ax.set_title(f'{title}\\n{subtitle_text}', fontweight='bold', pad=15)\n        \n        # if i == 0:\n            # ax.legend(bbox_to_anchor=(3.6, 1.0), loc='upper left', \n            #          framealpha=0.9, edgecolor='black',\n            #          fancybox=False, shadow=False)\n    \n    # Adjust layout - keep plots in good position\n    plt.tight_layout()\n    \n    \n    return fig\n\n\nfig = plot_pc1_vs_others_poster(pca_transformed, asst_projected, role_labels, subtitle=subtitle)\nplt.savefig(os.path.join(output_dir, \"role_pc1_vs_others.png\"), dpi=300, bbox_inches='tight')\nplt.show()"
  },
  {
   "cell_type": "markdown",
   "id": "8e36bed9",
   "metadata": {},
   "source": [
    "## Role PC1 cosine similarity with traits"
   ]
  },
  {
   "cell_type": "code",
   "execution_count": 18,
   "id": "6704b298",
   "metadata": {},
   "outputs": [],
   "source": [
    "trait_dir = \"traits_240\"\n",
    "# load in pca results\n",
    "rp_basis = torch.load('/root/git/persona-subspace/roles/data/pca_240/layer22_pos23_pc1.pt', weights_only=False)\n",
    "trait_results = torch.load(f\"/workspace/{trait_dir}/pca/layer{layer}_pos-neg50.pt\", weights_only=False)\n",
    "trait_names = trait_results['traits']['pos_neg_50']\n"
   ]
  },
  {
   "cell_type": "code",
   "execution_count": 19,
   "id": "e346954a",
   "metadata": {},
   "outputs": [],
   "source": [
    "trait_tensor = trait_results['vectors']['pos_neg_50']\n",
    "trait_layer_vectors = trait_tensor[:, layer, :].float().numpy()"
   ]
  },
  {
   "cell_type": "code",
   "execution_count": 20,
   "id": "673f004f",
   "metadata": {},
   "outputs": [
    {
     "name": "stdout",
     "output_type": "stream",
     "text": [
      "Normalized trait vectors shape: (239, 4608)\n",
      "Normalized role PC1 shape: (4608,)\n"
     ]
    }
   ],
   "source": [
    "rp_basis_scaled = trait_results['scaler'].transform(rp_basis.reshape(1, -1))\n",
    "scaled_trait_vectors = trait_results['scaler'].transform(trait_layer_vectors)\n",
    "\n",
    "normalized_trait_vectors = scaled_trait_vectors / np.linalg.norm(scaled_trait_vectors, axis=1, keepdims=True)\n",
    "normalized_rp_basis = rp_basis_scaled.flatten() / np.linalg.norm(rp_basis_scaled.flatten())\n",
    "\n",
    "print(f\"Normalized trait vectors shape: {normalized_trait_vectors.shape}\")\n",
    "print(f\"Normalized role PC1 shape: {normalized_rp_basis.shape}\")\n",
    "\n",
    "# Compute cosine similarities (dot products of normalized vectors)\n",
    "cosine_similarities = normalized_trait_vectors @ normalized_rp_basis\n",
    "cosine_similarities = cosine_similarities * -1"
   ]
  },
  {
   "cell_type": "code",
   "execution_count": null,
   "id": "c4158880",
   "metadata": {},
   "outputs": [],
   "source": "def plot_cosine_similarity_poster(cosine_correlations, role_cosine_sim, trait_names, layer=None, \n                                 figsize=(16, 8), n_top=10, show_histogram=False, subtitle=None):\n    \"\"\"\n    Create a poster-optimized cosine similarity plot matching the PC1 plot style.\n    \n    Parameters:\n    - cosine_correlations: array of cosine similarity values\n    - trait_names: list of trait names\n    - layer: layer number for title\n    - figsize: figure size tuple\n    - n_top: number of extreme traits to label on each end\n    - show_histogram: whether to include histogram overlay\n    - subtitle: optional subtitle text to display below main title\n    \"\"\"\n    \n    # Set poster-friendly style\n    plt.style.use('default')\n    sns.set_palette(\"colorblind\")\n    \n    # Configure for poster readability\n    plt.rcParams.update({\n        'font.size': 18,\n        'axes.titlesize': 24,\n        'axes.labelsize': 20,\n        'xtick.labelsize': 16,\n        'ytick.labelsize': 16,\n        'legend.fontsize': 18,\n        'lines.linewidth': 3,\n        'axes.linewidth': 2,\n        'grid.linewidth': 1.5,\n        'patch.linewidth': 2\n    })\n    \n    # Create figure\n    fig, ax1 = plt.subplots(1, 1, figsize=figsize)\n    \n    # Main plot: scatter along x-axis only (y=0)\n    y_pos = np.zeros_like(cosine_correlations)  # All points at y=0\n    \n    # Plot all points as green diamonds\n    ax1.scatter(cosine_correlations, y_pos, c='#00ff00', marker='D', s=120, \n               alpha=0.8, edgecolors='black', linewidth=1.5, zorder=3)\n    \n    # Add histogram overlay on the same plot\n    if show_histogram:\n        # Create histogram data\n        hist_counts, bin_edges = np.histogram(cosine_correlations, bins=30, density=True)\n        bin_centers = (bin_edges[:-1] + bin_edges[1:]) / 2\n        bin_width = bin_edges[1] - bin_edges[0]\n        \n        # Scale histogram heights to fit nicely (adjust scale factor as needed)\n        hist_scale = 0.15  # This controls how tall the histogram bars are\n        scaled_heights = hist_counts * hist_scale\n        \n        # Plot histogram bars with transparency\n        ax1.bar(bin_centers, scaled_heights, width=bin_width, \n                alpha=0.3, color='lime', edgecolor='none', zorder=1)\n        \n        # Update y-limits to accommodate histogram\n        ax1.set_ylim(-0.6, max(0.6, scaled_heights.max() + 0.1))\n    else:\n        ax1.set_ylim(-0.6, 0.6)\n    \n    # Identify and label extremes\n    sorted_indices = np.argsort(cosine_correlations)\n    low_extreme_indices = sorted_indices[:n_top]\n    high_extreme_indices = sorted_indices[-n_top:]\n    extreme_indices = list(low_extreme_indices) + list(high_extreme_indices)\n    \n    # Create more varied y-positions for labels to avoid overlap\n    label_y_positions = []\n    # Positions above and below the x-axis\n    high_positions = [0.45, 0.25, 0.35, 0.4, 0.3, 0.45, 0.25, 0.35, 0.4, 0.3]\n    low_positions = [-0.25, -0.45, -0.35, -0.4, -0.3, -0.25, -0.45, -0.35, -0.4, -0.3]\n    \n    # Alternate high-low pattern for all extremes\n    total_extremes = len(extreme_indices)\n    for i in range(total_extremes):\n        if i % 2 == 0:\n            label_y_positions.append(high_positions[i // 2])\n        else:\n            label_y_positions.append(low_positions[i // 2])\n    \n    # Add labels for extremes\n    for i, idx in enumerate(extreme_indices):\n        x_pos = cosine_correlations[idx]\n        # Capitalize the trait name\n        label = trait_names[idx].title()\n        y_label = label_y_positions[i]\n        \n        # Draw leader line\n        ax1.plot([x_pos, x_pos], [0.0, y_label], 'k-', alpha=0.7, linewidth=1.5, zorder=1)\n        \n        # Add text label with background box\n        text = ax1.text(x_pos, y_label, label, ha='center', va='center', \n                       fontsize=12, fontweight='bold', zorder=4)\n        \n        # Add white background with border (square instead of rounded)\n        text.set_bbox(dict(boxstyle=\"square,pad=0.4\", facecolor='white', \n                          edgecolor='black', alpha=0.9, linewidth=1))\n    \n    # Remove all spines (box around plot) except x-axis\n    ax1.spines['top'].set_visible(False)\n    ax1.spines['right'].set_visible(False)\n    ax1.spines['left'].set_visible(False)\n    \n    # Keep x-axis spine and make it cross-like\n    ax1.spines['bottom'].set_position('zero')\n    ax1.axhline(y=0, color='black', linestyle='-', linewidth=2, zorder=1)\n    \n    # Customize tick parameters\n    ax1.tick_params(axis='x', length=12, width=1.5, pad=10)  # Shorter ticks, more padding\n    ax1.tick_params(axis='y', length=0, width=0)  # Remove y-axis ticks completely\n    \n    # Remove grid lines\n    ax1.grid(False)\n    \n    # Set symmetric x-axis range\n    max_abs = max(abs(role_cosine_sim.min()), abs(role_cosine_sim.max()))\n    ax1.set_xlim(-max_abs * 1.1, max_abs * 1.1)\n\n     # Add directional annotations\n    # Left side: Assistant-like traits (red arrow pointing left)\n    left_x = -max_abs * 0.7  # Position at 70% of the way to the left edge\n    ax1.annotate('Assistant-like traits', xy=(left_x, -0.12), xytext=(left_x + max_abs * 0.2, -0.12),\n                arrowprops=dict(arrowstyle='->', color='red', lw=2),\n                fontsize=14, fontweight='bold', color='red', ha='left', va='center')\n    \n    # Right side: Role-playing traits (blue arrow pointing right)\n    right_x = max_abs * 0.7  # Position at 70% of the way to the right edge\n    ax1.annotate('Role-playing traits', xy=(right_x, -0.12), xytext=(right_x - max_abs * 0.2, -0.12),\n                arrowprops=dict(arrowstyle='->', color='blue', lw=2),\n                fontsize=14, fontweight='bold', color='blue', ha='right', va='center')\n    \n    \n    ax1.set_ylabel('')\n    ax1.set_yticks([])\n    \n    # Add legend\n    # legend_elements = [\n    #     plt.scatter([], [], c='#2ca02c', marker='D', s=120, alpha=0.8, \n    #                edgecolors='black', linewidth=1.5, label='Traits')\n    # ]\n    # ax1.legend(handles=legend_elements, loc='upper right', frameon=True, \n    #           fancybox=False, shadow=False, framealpha=0.9, \n    #           facecolor='white', edgecolor='black', fontsize=16)\n    \n    # Title with optional subtitle\n    title = \"Trait Vector Cosine Similarity with Role PC1\"\n    if subtitle:\n        title += f\"\\n{subtitle}\"\n    ax1.set_title(title, fontweight='bold', pad=20)\n    \n    plt.tight_layout()\n    return fig\n\n# Example usage:\nfig = plot_cosine_similarity_poster(cosine_similarities, cosine_sims, trait_names, \n                                  layer=22, show_histogram=True, subtitle=subtitle)\nplt.savefig(os.path.join(output_dir, \"trait_cosine_sim.png\"), dpi=300, bbox_inches='tight')\nplt.show()"
  }
 ],
 "metadata": {
  "kernelspec": {
   "display_name": ".venv",
   "language": "python",
   "name": "python3"
  },
  "language_info": {
   "codemirror_mode": {
    "name": "ipython",
    "version": 3
   },
   "file_extension": ".py",
   "mimetype": "text/x-python",
   "name": "python",
   "nbconvert_exporter": "python",
   "pygments_lexer": "ipython3",
   "version": "3.13.5"
  }
 },
 "nbformat": 4,
 "nbformat_minor": 5
}